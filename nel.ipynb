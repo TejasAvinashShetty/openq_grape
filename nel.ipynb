{
 "cells": [
  {
   "cell_type": "markdown",
   "metadata": {},
   "source": [
    "# Imports"
   ]
  },
  {
   "cell_type": "markdown",
   "metadata": {},
   "source": [
    "Need to have jate.py in your folder"
   ]
  },
  {
   "cell_type": "code",
   "execution_count": 1,
   "metadata": {
    "ExecuteTime": {
     "end_time": "2019-02-05T14:04:51.006897Z",
     "start_time": "2019-02-05T14:04:51.000163Z"
    }
   },
   "outputs": [],
   "source": [
    "%run jate.py #will import everything"
   ]
  },
  {
   "cell_type": "markdown",
   "metadata": {},
   "source": [
    "# The code"
   ]
  },
  {
   "cell_type": "markdown",
   "metadata": {},
   "source": [
    "## memory wiping"
   ]
  },
  {
   "cell_type": "code",
   "execution_count": 2,
   "metadata": {
    "ExecuteTime": {
     "end_time": "2019-02-05T14:04:56.745400Z",
     "start_time": "2019-02-05T14:04:56.741836Z"
    }
   },
   "outputs": [],
   "source": [
    "%reset_selective -f  omega_1, total_time, epsilon, max_iter, time_steps, dt"
   ]
  },
  {
   "cell_type": "code",
   "execution_count": 3,
   "metadata": {
    "ExecuteTime": {
     "end_time": "2019-02-05T14:04:57.401123Z",
     "start_time": "2019-02-05T14:04:57.397976Z"
    }
   },
   "outputs": [],
   "source": [
    "%reset_selective -f  Lin, T_s, I"
   ]
  },
  {
   "cell_type": "markdown",
   "metadata": {},
   "source": [
    "## Building parts"
   ]
  },
  {
   "cell_type": "markdown",
   "metadata": {},
   "source": [
    "### Building the things to be calculated only once"
   ]
  },
  {
   "cell_type": "code",
   "execution_count": 4,
   "metadata": {
    "ExecuteTime": {
     "end_time": "2019-02-05T14:10:10.712153Z",
     "start_time": "2019-02-05T14:10:10.703827Z"
    },
    "code_folding": []
   },
   "outputs": [],
   "source": [
    "def maker(omega_1, H_0, H_1, T_s, Lin, d=2, gamma=0.1):\n",
    "    r\"\"\"maker\n",
    "    Makes all the things that remain constant throught the program, but are \n",
    "    repeatedly used.\n",
    "    \n",
    "\n",
    "    Parameters\n",
    "    ----------\n",
    "    omega_1 : float\n",
    "              frequency corresponding to half of the difference between \n",
    "              energy levels of the qubit\n",
    "              \n",
    "    H_0     : Qobj\n",
    "              Bare Hamiltonian \n",
    "              \n",
    "    H_1     : Qobj\n",
    "              Interaction Hamiltonian \n",
    "              \n",
    "    T_s     : Qobj\n",
    "              Unitary to be implemented in the Hilbert space\n",
    "    \n",
    "    Lin     : Qobj\n",
    "              Linbladian operators\n",
    "\n",
    "    d       : int\n",
    "              Dimension of the matrix. Defaults to 2\n",
    "    \n",
    "    gamma   : float\n",
    "              Damping constantof the Linbladian\n",
    "\n",
    "    \n",
    "    Returns\n",
    "    -------\n",
    "    \n",
    "    ih0     : Qobj\n",
    "              $I\\otimes H_{0}$\n",
    "              \n",
    "    ih1     : Qobj\n",
    "              $I\\otimes H_{1}$\n",
    "\n",
    "    h0ci    : Qobj\n",
    "              $H_{0}^{*}\\otimes I $\n",
    "\n",
    "    h1ci    : Qobj\n",
    "              $H_{1}^{*}\\otimes I $\n",
    "\n",
    "    T       : Qobj\n",
    "              Target unitary transformed to the Liouville space\n",
    "\n",
    "    linbladian : Qobj\n",
    "                 The full lindbladian term as it appears on transformation to \n",
    "                 the Liouville space.\n",
    "        \n",
    "    \"\"\"\n",
    "    I = identity(d)\n",
    "    L_I = tensor(I, I)\n",
    "    ih0 = tensor(I, H_0) \n",
    "    ih1 = tensor(I, H_1) \n",
    "    h0ci = tensor(H_0.conj(), I) \n",
    "    h1ci = tensor(H_1.conj(), I)\n",
    "    x_k = ih1 - h1ci\n",
    "    term1 = tensor(Lin.trans(), Lin)\n",
    "    term2 = tensor(I, ((Lin.dag())*(Lin)))\n",
    "    term3 = tensor(((Lin.trans())*(Lin.conj())), I)\n",
    "    lindbladian = 1j*(gamma)*(term1 - 0.5*(term2 + term3))\n",
    "    T = tensor(T_s.trans(), T_s) # Transforming $T_{s}$ to liouville space\n",
    "    \n",
    "    \n",
    "    return ih0, ih1, h0ci, h1ci, x_k, lindbladian, T, L_I"
   ]
  },
  {
   "cell_type": "code",
   "execution_count": 5,
   "metadata": {
    "ExecuteTime": {
     "end_time": "2019-02-05T14:10:11.328382Z",
     "start_time": "2019-02-05T14:10:11.315512Z"
    }
   },
   "outputs": [],
   "source": [
    "omega_1 = 0.5\n",
    "H_0 = sigmaz() \n",
    "H_1 = sigmay()\n",
    "T_s = sigmax() \n",
    "Lin = sigmaz()\n",
    "ih0, ih1, h0ci, h1ci, x_k, lindbladian, T, L_I  = maker(omega_1,\n",
    "                                                  H_0, H_1, T_s, \n",
    "                                                  Lin, d=2, gamma=0.1)"
   ]
  },
  {
   "cell_type": "code",
   "execution_count": 6,
   "metadata": {
    "ExecuteTime": {
     "end_time": "2019-02-05T14:10:11.931346Z",
     "start_time": "2019-02-05T14:10:11.917429Z"
    }
   },
   "outputs": [
    {
     "data": {
      "text/latex": [
       "Quantum object: dims = [[2, 2], [2, 2]], shape = (4, 4), type = oper, isherm = True\\begin{equation*}\\left(\\begin{array}{*{11}c}1.0 & 0.0 & 0.0 & 0.0\\\\0.0 & 1.0 & 0.0 & 0.0\\\\0.0 & 0.0 & 1.0 & 0.0\\\\0.0 & 0.0 & 0.0 & 1.0\\\\\\end{array}\\right)\\end{equation*}"
      ],
      "text/plain": [
       "Quantum object: dims = [[2, 2], [2, 2]], shape = (4, 4), type = oper, isherm = True\n",
       "Qobj data =\n",
       "[[1. 0. 0. 0.]\n",
       " [0. 1. 0. 0.]\n",
       " [0. 0. 1. 0.]\n",
       " [0. 0. 0. 1.]]"
      ]
     },
     "execution_count": 6,
     "metadata": {},
     "output_type": "execute_result"
    }
   ],
   "source": [
    "L_I"
   ]
  },
  {
   "cell_type": "markdown",
   "metadata": {},
   "source": [
    "### Building $A(t)$"
   ]
  },
  {
   "cell_type": "code",
   "execution_count": 7,
   "metadata": {
    "ExecuteTime": {
     "end_time": "2019-02-05T14:10:13.318868Z",
     "start_time": "2019-02-05T14:10:13.315608Z"
    }
   },
   "outputs": [],
   "source": [
    "def A(xi):\n",
    "    r\"\"\"making $A(t)$\"\"\"\n",
    "    A = ih0 - h0ci + xi*(ih1 - h1ci) + lindbladian\n",
    "    return A"
   ]
  },
  {
   "cell_type": "code",
   "execution_count": 8,
   "metadata": {
    "ExecuteTime": {
     "end_time": "2019-02-05T14:10:14.813955Z",
     "start_time": "2019-02-05T14:10:14.804922Z"
    }
   },
   "outputs": [
    {
     "data": {
      "text/latex": [
       "Quantum object: dims = [[2, 2], [2, 2]], shape = (4, 4), type = oper, isherm = False\\begin{equation*}\\left(\\begin{array}{*{11}c}0.0 & -0.500j & -0.500j & 0.0\\\\0.500j & (-2.0-0.200j) & 0.0 & -0.500j\\\\0.500j & 0.0 & (2.0-0.200j) & -0.500j\\\\0.0 & 0.500j & 0.500j & 0.0\\\\\\end{array}\\right)\\end{equation*}"
      ],
      "text/plain": [
       "Quantum object: dims = [[2, 2], [2, 2]], shape = (4, 4), type = oper, isherm = False\n",
       "Qobj data =\n",
       "[[ 0.+0.j   0.-0.5j  0.-0.5j  0.+0.j ]\n",
       " [ 0.+0.5j -2.-0.2j  0.+0.j   0.-0.5j]\n",
       " [ 0.+0.5j  0.+0.j   2.-0.2j  0.-0.5j]\n",
       " [ 0.+0.j   0.+0.5j  0.+0.5j  0.+0.j ]]"
      ]
     },
     "execution_count": 8,
     "metadata": {},
     "output_type": "execute_result"
    }
   ],
   "source": [
    "A(0.5)"
   ]
  },
  {
   "cell_type": "markdown",
   "metadata": {},
   "source": [
    "### Building $L(t)$ and the Identity in the Liouville space"
   ]
  },
  {
   "cell_type": "code",
   "execution_count": 9,
   "metadata": {
    "ExecuteTime": {
     "end_time": "2019-02-05T14:10:16.140632Z",
     "start_time": "2019-02-05T14:10:16.136022Z"
    }
   },
   "outputs": [],
   "source": [
    "def L(xi, dt):\n",
    "    r\"\"\"Making $L(t) from $A(t)$\"\"\"\n",
    "    L = (-1j*A(xi)*dt).expm()\n",
    "    return L"
   ]
  },
  {
   "cell_type": "code",
   "execution_count": 10,
   "metadata": {
    "ExecuteTime": {
     "end_time": "2019-02-05T14:10:16.936944Z",
     "start_time": "2019-02-05T14:10:16.633443Z"
    }
   },
   "outputs": [
    {
     "data": {
      "text/latex": [
       "Quantum object: dims = [[2, 2], [2, 2]], shape = (4, 4), type = oper, isherm = False\\begin{equation*}\\left(\\begin{array}{*{11}c}1.000 & (-4.999\\times10^{-04}-4.999\\times10^{-07}j) & (-4.999\\times10^{-04}+4.999\\times10^{-07}j) & 2.500\\times10^{-07}\\\\(4.999\\times10^{-04}+4.999\\times10^{-07}j) & (1.000+0.002j) & -2.500\\times10^{-07} & (-4.999\\times10^{-04}-4.999\\times10^{-07}j)\\\\(4.999\\times10^{-04}-4.999\\times10^{-07}j) & -2.500\\times10^{-07} & (1.000-0.002j) & (-4.999\\times10^{-04}+4.999\\times10^{-07}j)\\\\2.500\\times10^{-07} & (4.999\\times10^{-04}+4.999\\times10^{-07}j) & (4.999\\times10^{-04}-4.999\\times10^{-07}j) & 1.000\\\\\\end{array}\\right)\\end{equation*}"
      ],
      "text/plain": [
       "Quantum object: dims = [[2, 2], [2, 2]], shape = (4, 4), type = oper, isherm = False\n",
       "Qobj data =\n",
       "[[ 9.99999750e-01+0.00000000e+00j -4.99949587e-04-4.99933130e-07j\n",
       "  -4.99949587e-04+4.99933130e-07j  2.49983230e-07+0.00000000e+00j]\n",
       " [ 4.99949587e-04+4.99933130e-07j  9.99797770e-01+1.99959837e-03j\n",
       "  -2.49966565e-07+0.00000000e+00j -4.99949587e-04-4.99933130e-07j]\n",
       " [ 4.99949587e-04-4.99933130e-07j -2.49966565e-07+0.00000000e+00j\n",
       "   9.99797770e-01-1.99959837e-03j -4.99949587e-04+4.99933130e-07j]\n",
       " [ 2.49983230e-07+0.00000000e+00j  4.99949587e-04+4.99933130e-07j\n",
       "   4.99949587e-04-4.99933130e-07j  9.99999750e-01+0.00000000e+00j]]"
      ]
     },
     "execution_count": 10,
     "metadata": {},
     "output_type": "execute_result"
    }
   ],
   "source": [
    "L(0.5, 0.001)"
   ]
  },
  {
   "cell_type": "markdown",
   "metadata": {},
   "source": [
    "## Major functions"
   ]
  },
  {
   "cell_type": "markdown",
   "metadata": {},
   "source": [
    "### Major functions 1"
   ]
  },
  {
   "cell_type": "code",
   "execution_count": 11,
   "metadata": {
    "ExecuteTime": {
     "end_time": "2019-02-05T14:10:19.150239Z",
     "start_time": "2019-02-05T14:10:19.146944Z"
    }
   },
   "outputs": [],
   "source": [
    "# building the function to optimize (optimizee)\n",
    "def L_vec(xi_vec, dt):\n",
    "    r\"\"\"Building the vector of differential $L(t)$\"\"\"\n",
    "    L_vec = [L(xi, dt) for xi in xi_vec] \n",
    "    return L_vec"
   ]
  },
  {
   "cell_type": "code",
   "execution_count": 12,
   "metadata": {
    "ExecuteTime": {
     "end_time": "2019-02-05T14:10:19.830750Z",
     "start_time": "2019-02-05T14:10:19.827520Z"
    }
   },
   "outputs": [],
   "source": [
    "def fidelity_calc(A, B):\n",
    "    r\"\"\"Making a generalised fidelity function\"\"\"\n",
    "    first_part = (A - B).dag()\n",
    "    second_part = (A - B)\n",
    "    f_int = (first_part* second_part)\n",
    "    f = f_int.tr()\n",
    "    return f"
   ]
  },
  {
   "cell_type": "code",
   "execution_count": 13,
   "metadata": {
    "ExecuteTime": {
     "end_time": "2019-02-05T14:10:20.400273Z",
     "start_time": "2019-02-05T14:10:20.394942Z"
    }
   },
   "outputs": [],
   "source": [
    "def L_full_maker(xi_vec, dt):\n",
    "    r\"\"\"Building the $L(t)$ for the total time $t$\"\"\"\n",
    "    xi_vec_size = xi_vec.size # finding the size of xi\n",
    "    L_full = L_I # Identity for the for loop of L\n",
    "    L_v = L_vec(xi_vec, dt) # calling L_vec\n",
    "    for i in range(xi_vec_size): # generating L_full\n",
    "        L_full = L_full*L_v[xi_vec_size - 1 - i]\n",
    "    return L_full"
   ]
  },
  {
   "cell_type": "code",
   "execution_count": 14,
   "metadata": {
    "ExecuteTime": {
     "end_time": "2019-02-05T14:10:21.614808Z",
     "start_time": "2019-02-05T14:10:21.611617Z"
    }
   },
   "outputs": [],
   "source": [
    "def F(xi_vec, dt):\n",
    "    r\"\"\"Using the fidelity metric to find out the closeness between $T$\n",
    "    and $L(t)$\"\"\"\n",
    "    L_full = L_full_maker(xi_vec, dt)\n",
    "    F = real(-fidelity_calc(T, L_full))   \n",
    "    return F"
   ]
  },
  {
   "cell_type": "markdown",
   "metadata": {},
   "source": [
    "### Testing major functions 1"
   ]
  },
  {
   "cell_type": "code",
   "execution_count": 15,
   "metadata": {
    "ExecuteTime": {
     "end_time": "2019-02-05T14:10:23.287692Z",
     "start_time": "2019-02-05T14:10:23.279087Z"
    }
   },
   "outputs": [
    {
     "data": {
      "text/plain": [
       "4.0"
      ]
     },
     "execution_count": 15,
     "metadata": {},
     "output_type": "execute_result"
    }
   ],
   "source": [
    "fidelity_calc(sigmax(), sigmay())"
   ]
  },
  {
   "cell_type": "code",
   "execution_count": 16,
   "metadata": {
    "ExecuteTime": {
     "end_time": "2019-02-05T14:10:23.825212Z",
     "start_time": "2019-02-05T14:10:23.818461Z"
    }
   },
   "outputs": [
    {
     "data": {
      "text/plain": [
       "0.0"
      ]
     },
     "execution_count": 16,
     "metadata": {},
     "output_type": "execute_result"
    }
   ],
   "source": [
    "fidelity_calc(sigmay(), sigmay())"
   ]
  },
  {
   "cell_type": "code",
   "execution_count": 17,
   "metadata": {
    "ExecuteTime": {
     "end_time": "2019-02-05T14:10:24.441889Z",
     "start_time": "2019-02-05T14:10:24.434325Z"
    }
   },
   "outputs": [
    {
     "data": {
      "text/plain": [
       "array([1., 2.])"
      ]
     },
     "execution_count": 17,
     "metadata": {},
     "output_type": "execute_result"
    }
   ],
   "source": [
    "xi_vec_test = array([1.0, 2.0])\n",
    "xi_vec_test"
   ]
  },
  {
   "cell_type": "code",
   "execution_count": 18,
   "metadata": {
    "ExecuteTime": {
     "end_time": "2019-02-05T14:10:25.603081Z",
     "start_time": "2019-02-05T14:10:25.598211Z"
    }
   },
   "outputs": [
    {
     "data": {
      "text/plain": [
       "2"
      ]
     },
     "execution_count": 18,
     "metadata": {},
     "output_type": "execute_result"
    }
   ],
   "source": [
    "xi_vec_test.size"
   ]
  },
  {
   "cell_type": "code",
   "execution_count": 19,
   "metadata": {
    "ExecuteTime": {
     "end_time": "2019-02-05T14:10:26.081387Z",
     "start_time": "2019-02-05T14:10:26.074609Z"
    }
   },
   "outputs": [
    {
     "data": {
      "text/plain": [
       "[1.0, 4.0]"
      ]
     },
     "execution_count": 19,
     "metadata": {},
     "output_type": "execute_result"
    }
   ],
   "source": [
    "w_vec = [xi**2 for xi in xi_vec_test]\n",
    "w_vec"
   ]
  },
  {
   "cell_type": "code",
   "execution_count": 20,
   "metadata": {
    "ExecuteTime": {
     "end_time": "2019-02-05T14:10:26.542304Z",
     "start_time": "2019-02-05T14:10:26.531308Z"
    }
   },
   "outputs": [
    {
     "data": {
      "text/plain": [
       "-7.998400634487143"
      ]
     },
     "execution_count": 20,
     "metadata": {},
     "output_type": "execute_result"
    }
   ],
   "source": [
    "# F(xi_vec, dt)\n",
    "F(xi_vec_test, 0.001)"
   ]
  },
  {
   "cell_type": "code",
   "execution_count": 21,
   "metadata": {
    "ExecuteTime": {
     "end_time": "2019-02-05T14:10:27.230699Z",
     "start_time": "2019-02-05T14:10:27.222142Z"
    }
   },
   "outputs": [],
   "source": [
    "L_v = L_vec(xi_vec_test, 0.001)"
   ]
  },
  {
   "cell_type": "code",
   "execution_count": 22,
   "metadata": {
    "ExecuteTime": {
     "end_time": "2019-02-05T14:10:28.023997Z",
     "start_time": "2019-02-05T14:10:28.018177Z"
    }
   },
   "outputs": [
    {
     "data": {
      "text/plain": [
       "[Quantum object: dims = [[2, 2], [2, 2]], shape = (4, 4), type = oper, isherm = False\n",
       " Qobj data =\n",
       " [[ 9.99999000e-01+0.00000000e+00j -9.99898674e-04-9.99866010e-07j\n",
       "   -9.99898674e-04+9.99866010e-07j  9.99932670e-07+0.00000000e+00j]\n",
       "  [ 9.99898674e-04+9.99866010e-07j  9.99797021e-01+1.99959737e-03j\n",
       "   -9.99866010e-07+0.00000000e+00j -9.99898674e-04-9.99866010e-07j]\n",
       "  [ 9.99898674e-04-9.99866010e-07j -9.99866010e-07+0.00000000e+00j\n",
       "    9.99797021e-01-1.99959737e-03j -9.99898674e-04+9.99866010e-07j]\n",
       "  [ 9.99932670e-07+0.00000000e+00j  9.99898674e-04+9.99866010e-07j\n",
       "    9.99898674e-04-9.99866010e-07j  9.99999000e-01+0.00000000e+00j]],\n",
       " Quantum object: dims = [[2, 2], [2, 2]], shape = (4, 4), type = oper, isherm = False\n",
       " Qobj data =\n",
       " [[ 9.99996000e-01+0.00000000e+00j -1.99979335e-03-1.99973002e-06j\n",
       "   -1.99979335e-03+1.99973002e-06j  3.99972668e-06+0.00000000e+00j]\n",
       "  [ 1.99979335e-03+1.99973002e-06j  9.99794021e-01+1.99959337e-03j\n",
       "   -3.99946004e-06+0.00000000e+00j -1.99979335e-03-1.99973002e-06j]\n",
       "  [ 1.99979335e-03-1.99973002e-06j -3.99946004e-06+0.00000000e+00j\n",
       "    9.99794021e-01-1.99959337e-03j -1.99979335e-03+1.99973002e-06j]\n",
       "  [ 3.99972668e-06+0.00000000e+00j  1.99979335e-03+1.99973002e-06j\n",
       "    1.99979335e-03-1.99973002e-06j  9.99996000e-01+0.00000000e+00j]]]"
      ]
     },
     "execution_count": 22,
     "metadata": {},
     "output_type": "execute_result"
    }
   ],
   "source": [
    "L_v"
   ]
  },
  {
   "cell_type": "markdown",
   "metadata": {},
   "source": [
    "### Major Functions 2"
   ]
  },
  {
   "cell_type": "code",
   "execution_count": 23,
   "metadata": {
    "ExecuteTime": {
     "end_time": "2019-02-05T14:10:29.406312Z",
     "start_time": "2019-02-05T14:10:29.401998Z"
    }
   },
   "outputs": [],
   "source": [
    "def L_comma_k_maker(xi_vec, k, dt):\n",
    "    r\"\"\"Making of the derivative of full $L(t)$ at time $t_{k}$\"\"\"\n",
    "    N = xi_vec.size \n",
    "    # Determining the size of xi, and thus the time_steps indirectly.\n",
    "    L_v = L_vec(xi_vec, dt)# Making of the full $L(t)$\n",
    "    inner_part = L_I # Beginner for the for loop\n",
    "    for i in range(N):\n",
    "        if i == ( N - 1 - k ):\n",
    "            # The step at which $X_{k}(t)$ has to be inserted \n",
    "            inner_part = inner_part*x_k*L_v[k - 1]\n",
    "        else:\n",
    "            # Usual multiplications of $L_{k}$\n",
    "            inner_part = inner_part*L_v[N - 1 - i]\n",
    "    l_comma_k = inner_part\n",
    "    return l_comma_k\n",
    "    "
   ]
  },
  {
   "cell_type": "code",
   "execution_count": 24,
   "metadata": {
    "ExecuteTime": {
     "end_time": "2019-02-05T14:10:32.332662Z",
     "start_time": "2019-02-05T14:10:32.322207Z"
    }
   },
   "outputs": [
    {
     "data": {
      "text/latex": [
       "Quantum object: dims = [[2, 2], [2, 2]], shape = (4, 4), type = oper, isherm = False\\begin{equation*}\\left(\\begin{array}{*{11}c}1.000 & (-0.003-6.998\\times10^{-06}j) & (-0.003+6.998\\times10^{-06}j) & 8.999\\times10^{-06}\\\\(0.003+4.999\\times10^{-06}j) & (1.000+0.004j) & (-8.997\\times10^{-06}+5.998\\times10^{-09}j) & (-0.003-4.999\\times10^{-06}j)\\\\(0.003-4.999\\times10^{-06}j) & (-8.997\\times10^{-06}-5.998\\times10^{-09}j) & (1.000-0.004j) & (-0.003+4.999\\times10^{-06}j)\\\\8.999\\times10^{-06} & (0.003+6.998\\times10^{-06}j) & (0.003-6.998\\times10^{-06}j) & 1.000\\\\\\end{array}\\right)\\end{equation*}"
      ],
      "text/plain": [
       "Quantum object: dims = [[2, 2], [2, 2]], shape = (4, 4), type = oper, isherm = False\n",
       "Qobj data =\n",
       "[[ 9.99991001e-01+0.00000000e+00j -2.99927211e-03-6.99796565e-06j\n",
       "  -2.99927211e-03+6.99796565e-06j  8.99882878e-06+0.00000000e+00j]\n",
       " [ 2.99947607e-03+4.99878084e-06j  9.99583086e-01+3.99836500e-03j\n",
       "  -8.99749372e-06+5.99798035e-09j -2.99947607e-03-4.99878084e-06j]\n",
       " [ 2.99947607e-03-4.99878084e-06j -8.99749372e-06-5.99798035e-09j\n",
       "   9.99583086e-01-3.99836500e-03j -2.99947607e-03+4.99878084e-06j]\n",
       " [ 8.99882878e-06+0.00000000e+00j  2.99927211e-03+6.99796565e-06j\n",
       "   2.99927211e-03-6.99796565e-06j  9.99991001e-01+0.00000000e+00j]]"
      ]
     },
     "execution_count": 24,
     "metadata": {},
     "output_type": "execute_result"
    }
   ],
   "source": [
    "# L_comma_k_maker(xi_vec, k, dt)\n",
    "L_comma_k_maker(xi_vec_test, 2, 0.001)"
   ]
  },
  {
   "cell_type": "code",
   "execution_count": 25,
   "metadata": {
    "ExecuteTime": {
     "end_time": "2019-02-05T14:10:33.390587Z",
     "start_time": "2019-02-05T14:10:33.386129Z"
    }
   },
   "outputs": [],
   "source": [
    "def updater(xi_vec, dt, epsilon):\n",
    "    r\"\"\"Implementing the GRAPE update step\"\"\"\n",
    "    xi_vec_size = xi_vec.size # finding the size of xi\n",
    "    L_full = L_full_maker(xi_vec, dt)\n",
    "    di = []\n",
    "    for k in range(xi_vec_size):\n",
    "        # Building the thing to be added to the old function\n",
    "        L_comma_k = L_comma_k_maker(xi_vec, k, dt)\n",
    "        differentiated = T - L_comma_k\n",
    "        plain = T - L_full\n",
    "        c = -differentiated.dag()*plain\n",
    "        d = -plain.dag()*differentiated\n",
    "        inside = c.tr() + d.tr()\n",
    "        di.append(epsilon*inside)\n",
    "\n",
    "    diff = array(di)\n",
    "    xi_new_vec = xi_vec + diff\n",
    "    return diff, xi_new_vec\n",
    "    "
   ]
  },
  {
   "cell_type": "code",
   "execution_count": 26,
   "metadata": {
    "ExecuteTime": {
     "end_time": "2019-02-05T14:10:34.441063Z",
     "start_time": "2019-02-05T14:10:34.422196Z"
    }
   },
   "outputs": [
    {
     "data": {
      "text/plain": [
       "(array([-0.008+0.j, -0.008+0.j]), array([0.992+0.j, 1.992+0.j]))"
      ]
     },
     "execution_count": 26,
     "metadata": {},
     "output_type": "execute_result"
    }
   ],
   "source": [
    "#  updater(xi_vec, dt, epsilon)\n",
    "updater(xi_vec_test, 0.001, 0.001)"
   ]
  },
  {
   "cell_type": "code",
   "execution_count": 27,
   "metadata": {
    "ExecuteTime": {
     "end_time": "2019-02-05T14:10:35.178565Z",
     "start_time": "2019-02-05T14:10:35.174242Z"
    },
    "code_folding": []
   },
   "outputs": [],
   "source": [
    "def terminator(max_iter, time_steps, total_time, epsilon):\n",
    "    r\"\"\"Brief description of the function\"\"\"\n",
    "    \n",
    "    xi_initial =  1000*random_sample((time_steps,))\n",
    "    dt = total_time/time_steps\n",
    "    xi_diff, xi_new_vec = updater(xi_initial, dt, epsilon)\n",
    "    \n",
    "    for i in range(max_iter):\n",
    "        if amax(xi_diff) < epsilon**2 :\n",
    "            \n",
    "            xi_final = xi_new_vec\n",
    "            break\n",
    "        else :\n",
    "            xi_diff, xi_new_vec = updater(xi_new_vec, dt, epsilon)\n",
    "            print(i)\n",
    "            print(amax(xi_diff))\n",
    "            \n",
    "        \n",
    "    xi_final = xi_new_vec    \n",
    "    return xi_final"
   ]
  },
  {
   "cell_type": "code",
   "execution_count": 28,
   "metadata": {},
   "outputs": [
    {
     "ename": "NameError",
     "evalue": "name 'np' is not defined",
     "output_type": "error",
     "traceback": [
      "\u001b[0;31m---------------------------------------------------------------------------\u001b[0m",
      "\u001b[0;31mNameError\u001b[0m                                 Traceback (most recent call last)",
      "\u001b[0;32m<ipython-input-28-f14f8a8cd925>\u001b[0m in \u001b[0;36m<module>\u001b[0;34m()\u001b[0m\n\u001b[1;32m      2\u001b[0m     \u001b[0;34m\"\"\"The Rosenbrock function\"\"\"\u001b[0m\u001b[0;34m\u001b[0m\u001b[0m\n\u001b[1;32m      3\u001b[0m     \u001b[0;32mreturn\u001b[0m \u001b[0msum\u001b[0m\u001b[0;34m(\u001b[0m\u001b[0;36m100.0\u001b[0m\u001b[0;34m*\u001b[0m\u001b[0;34m(\u001b[0m\u001b[0mx\u001b[0m\u001b[0;34m[\u001b[0m\u001b[0;36m1\u001b[0m\u001b[0;34m:\u001b[0m\u001b[0;34m]\u001b[0m\u001b[0;34m-\u001b[0m\u001b[0mx\u001b[0m\u001b[0;34m[\u001b[0m\u001b[0;34m:\u001b[0m\u001b[0;34m-\u001b[0m\u001b[0;36m1\u001b[0m\u001b[0;34m]\u001b[0m\u001b[0;34m**\u001b[0m\u001b[0;36m2.0\u001b[0m\u001b[0;34m)\u001b[0m\u001b[0;34m**\u001b[0m\u001b[0;36m2.0\u001b[0m \u001b[0;34m+\u001b[0m \u001b[0;34m(\u001b[0m\u001b[0;36m1\u001b[0m\u001b[0;34m-\u001b[0m\u001b[0mx\u001b[0m\u001b[0;34m[\u001b[0m\u001b[0;34m:\u001b[0m\u001b[0;34m-\u001b[0m\u001b[0;36m1\u001b[0m\u001b[0;34m]\u001b[0m\u001b[0;34m)\u001b[0m\u001b[0;34m**\u001b[0m\u001b[0;36m2.0\u001b[0m\u001b[0;34m)\u001b[0m\u001b[0;34m\u001b[0m\u001b[0m\n\u001b[0;32m----> 4\u001b[0;31m \u001b[0mx0\u001b[0m \u001b[0;34m=\u001b[0m \u001b[0mnp\u001b[0m\u001b[0;34m.\u001b[0m\u001b[0marray\u001b[0m\u001b[0;34m(\u001b[0m\u001b[0;34m[\u001b[0m\u001b[0;36m1.3\u001b[0m\u001b[0;34m,\u001b[0m \u001b[0;36m0.7\u001b[0m\u001b[0;34m,\u001b[0m \u001b[0;36m0.8\u001b[0m\u001b[0;34m,\u001b[0m \u001b[0;36m1.9\u001b[0m\u001b[0;34m,\u001b[0m \u001b[0;36m1.2\u001b[0m\u001b[0;34m]\u001b[0m\u001b[0;34m)\u001b[0m\u001b[0;34m\u001b[0m\u001b[0m\n\u001b[0m\u001b[1;32m      5\u001b[0m res = optimize.minimize(rosen, x0, method='nelder-mead',\n\u001b[1;32m      6\u001b[0m                         options={'xtol': 1e-8, 'disp': True})\n",
      "\u001b[0;31mNameError\u001b[0m: name 'np' is not defined"
     ]
    }
   ],
   "source": [
    "def rosen(x):\n",
    "    \"\"\"The Rosenbrock function\"\"\"\n",
    "    return sum(100.0*(x[1:]-x[:-1]**2.0)**2.0 + (1-x[:-1])**2.0)\n",
    "x0 = np.array([1.3, 0.7, 0.8, 1.9, 1.2])\n",
    "res = optimize.minimize(rosen, x0, method='nelder-mead',\n",
    "                        options={'xtol': 1e-8, 'disp': True})\n",
    "print(res.x)"
   ]
  },
  {
   "cell_type": "code",
   "execution_count": 34,
   "metadata": {
    "ExecuteTime": {
     "end_time": "2019-02-06T05:34:57.804233Z",
     "start_time": "2019-02-05T16:04:53.641398Z"
    }
   },
   "outputs": [
    {
     "name": "stdout",
     "output_type": "stream",
     "text": [
      "Warning: Maximum number of function evaluations has been exceeded.\n",
      "[1.11396161e+02 8.86458639e+01 7.72033608e+02 8.60933949e+02\n",
      " 1.84041027e+02 3.74463817e+02 3.70327492e+02 9.69450114e+02\n",
      " 3.51638466e+02 2.41058398e+02 1.25272504e+02 1.96450332e+02\n",
      " 2.31527805e+02 4.76111664e+02 3.18768711e+02 3.53553692e+01\n",
      " 9.29939582e+02 5.13615192e+02 6.95826690e+02 8.21104591e+02\n",
      " 9.67587509e+02 3.73412337e+02 6.99273605e+02 9.12984225e+02\n",
      " 4.51476618e+02 3.18270521e+02 9.83045796e+02 2.03768167e+02\n",
      " 3.60676595e+02 9.90254848e+02 5.90011125e+02 7.14972298e+02\n",
      " 2.14408925e+02 4.73749382e+02 5.69968571e+02 5.54859319e+02\n",
      " 7.84189333e+02 1.62988397e+02 6.20847469e+01 2.90771738e+02\n",
      " 5.48326363e+02 7.27990233e+02 2.65720305e+02 6.25281685e+02\n",
      " 1.71491637e+02 5.59979383e+02 5.77146549e+02 9.20747961e+02\n",
      " 9.25591081e+02 2.76251768e+02 8.99186223e+01 4.08390217e+02\n",
      " 2.41910746e+02 8.60604508e+02 8.38228974e+02 7.37234998e+02\n",
      " 5.48695897e+02 7.00915937e+02 9.02990128e+02 9.59440665e+01\n",
      " 9.07750906e+02 9.87999799e+02 9.34226138e+02 9.62280725e+02\n",
      " 5.18499589e+02 3.43059190e+02 9.19219028e+02 4.94625359e+02\n",
      " 7.79736244e+02 4.95572170e+02 1.08274269e+02 7.59386715e+02\n",
      " 9.69016509e+02 1.48993891e+02 6.78931899e+01 2.15337174e+02\n",
      " 8.98312990e+02 5.14074185e+02 2.42489708e+02 9.06388173e+02\n",
      " 6.65086268e+02 3.08604396e+02 2.79637256e+02 8.51577591e+02\n",
      " 3.37918695e+01 9.67090786e+02 9.60030335e+02 3.46468846e+02\n",
      " 7.63875588e+02 1.40583107e+02 6.76362747e+02 1.86364065e+02\n",
      " 5.84696607e+02 9.67994504e+01 1.51804044e+02 2.72111535e+01\n",
      " 5.52593206e+02 3.35877636e+02 6.38427035e+02 5.50896205e+02\n",
      " 5.66370237e+02 6.50191152e+02 1.24623864e+02 8.17300291e+02\n",
      " 7.02619584e+02 8.34440268e+02 4.38018661e+02 5.38151616e+02\n",
      " 4.81219498e+02 5.60103569e+02 4.70173422e+02 3.55354088e+02\n",
      " 1.81580809e+02 8.28634918e+02 8.74584815e+02 5.48010909e+02\n",
      " 5.83115005e+02 5.43139416e+02 2.31740985e+02 8.08675998e+02\n",
      " 1.13631746e+02 5.53242231e+02 1.01234020e+02 1.05696033e+02\n",
      " 5.98707898e+02 4.25556733e+02 1.74908734e+02 9.96897244e+02\n",
      " 8.29523606e+02 3.63541086e+02 9.43390219e+02 3.00189529e+02\n",
      " 8.23103473e+02 1.11736903e+02 9.85127057e+02 6.20486256e+02\n",
      " 1.14144478e+02 1.05236784e+02 7.11545428e+02 5.99655348e+00\n",
      " 4.58579489e+02 5.66390573e+02 2.53181405e+02 4.09488861e+02\n",
      " 8.58001844e+02 3.82884401e+02 7.26084912e+02 4.17489627e+02\n",
      " 6.71975194e+02 4.36641124e+02 5.77247825e+02 8.53391243e+02\n",
      " 9.30933627e+02 9.92400162e+02 5.07899318e+02 9.31534064e+01\n",
      " 2.26587466e+01 1.00653756e+02 6.42836907e+02 7.41902350e+02\n",
      " 6.61386433e+01 7.65815500e+02 3.47974750e+02 3.07185861e+02\n",
      " 6.82891833e+02 9.63851172e+02 7.55828743e+02 6.81184311e+01\n",
      " 2.23143052e+02 2.53756845e+01 4.57656419e+01 1.80537927e+02\n",
      " 1.78060632e+02 3.45148606e+01 9.42366353e+02 5.44969081e+02\n",
      " 8.79299778e-01 6.35784435e+02 4.78822776e+02 8.45855229e+02\n",
      " 3.64838430e+02 7.93861565e+02 6.22824546e+02 4.71505770e+02\n",
      " 6.63305640e+02 4.47528960e+02 4.83363272e+02 9.61141702e+02\n",
      " 3.16724703e+02 1.77070762e+01 4.73923613e+02 8.96553917e+02\n",
      " 3.22069504e+02 7.59661007e+02 6.27347275e+02 7.49975929e+02\n",
      " 6.44185882e+02 7.77083267e+02 8.24757524e+02 2.30885047e+02]\n"
     ]
    }
   ],
   "source": [
    "total_time = 10*pi/omega_1\n",
    "time_steps = 200\n",
    "dt = total_time/time_steps\n",
    "def f_nel(xi_vec):\n",
    "    return F(xi_vec, dt)\n",
    "\n",
    "x0 = 1000*random_sample((time_steps,))\n",
    "from scipy import optimize\n",
    "res = optimize.minimize(f_nel, x0, method='nelder-mead',\n",
    "                        options={'xtol': 1e-8, 'disp': True})\n",
    "print(res.x)"
   ]
  },
  {
   "cell_type": "code",
   "execution_count": null,
   "metadata": {},
   "outputs": [],
   "source": [
    "res.success"
   ]
  },
  {
   "cell_type": "code",
   "execution_count": null,
   "metadata": {},
   "outputs": [],
   "source": [
    "res.nit"
   ]
  },
  {
   "cell_type": "code",
   "execution_count": null,
   "metadata": {},
   "outputs": [],
   "source": [
    "res.fev"
   ]
  },
  {
   "cell_type": "code",
   "execution_count": null,
   "metadata": {},
   "outputs": [],
   "source": [
    "res.status"
   ]
  },
  {
   "cell_type": "code",
   "execution_count": null,
   "metadata": {},
   "outputs": [],
   "source": [
    "res.message"
   ]
  },
  {
   "cell_type": "code",
   "execution_count": null,
   "metadata": {},
   "outputs": [],
   "source": [
    "F(res.x, dt)"
   ]
  },
  {
   "cell_type": "code",
   "execution_count": null,
   "metadata": {},
   "outputs": [],
   "source": [
    "hinton(T)"
   ]
  },
  {
   "cell_type": "code",
   "execution_count": null,
   "metadata": {},
   "outputs": [],
   "source": [
    "hinton(L_full_maker(res.x, dt))"
   ]
  },
  {
   "cell_type": "code",
   "execution_count": null,
   "metadata": {},
   "outputs": [],
   "source": [
    "L_full_maker(res.x, dt)"
   ]
  },
  {
   "cell_type": "markdown",
   "metadata": {},
   "source": [
    "# Running stuff"
   ]
  },
  {
   "cell_type": "markdown",
   "metadata": {},
   "source": [
    "### Try1"
   ]
  },
  {
   "cell_type": "code",
   "execution_count": 114,
   "metadata": {
    "ExecuteTime": {
     "end_time": "2019-01-30T06:45:43.171838Z",
     "start_time": "2019-01-30T06:45:43.167976Z"
    }
   },
   "outputs": [],
   "source": [
    "total_time = pi/omega_1\n",
    "epsilon = 10**(-6)\n",
    "max_iter = 10#10**4#1000#100#50#20\n",
    "time_steps = 20\n",
    "dt = total_time/time_steps"
   ]
  },
  {
   "cell_type": "code",
   "execution_count": 8,
   "metadata": {
    "ExecuteTime": {
     "end_time": "2019-02-05T06:46:25.461270Z",
     "start_time": "2019-02-05T06:46:24.809463Z"
    }
   },
   "outputs": [
    {
     "data": {
      "text/plain": [
       "(<Figure size 576x432 with 2 Axes>,\n",
       " <matplotlib.axes._subplots.AxesSubplot at 0x1163cf6a0>)"
      ]
     },
     "execution_count": 8,
     "metadata": {},
     "output_type": "execute_result"
    },
    {
     "data": {
      "image/png": "[encoded data removed]",
      "text/plain": [
       "<Figure size 576x432 with 2 Axes>"
      ]
     },
     "metadata": {},
     "output_type": "display_data"
    }
   ],
   "source": [
    "hinton(T)"
   ]
  },
  {
   "cell_type": "code",
   "execution_count": 115,
   "metadata": {
    "ExecuteTime": {
     "end_time": "2019-01-30T06:45:44.896037Z",
     "start_time": "2019-01-30T06:45:43.880469Z"
    }
   },
   "outputs": [
    {
     "data": {
      "text/plain": [
       "array([253.12809151+0.j, 843.88141913+0.j, 670.69241692+0.j,\n",
       "       924.100077  +0.j, 342.69688787+0.j, 123.45758492+0.j,\n",
       "       879.26165155+0.j, 520.4459173 +0.j, 339.72130347+0.j,\n",
       "       984.45194508+0.j,  64.74984188+0.j,  81.10046078+0.j,\n",
       "         2.82873766+0.j, 265.22266621+0.j, 207.7809171 +0.j,\n",
       "       834.24591251+0.j, 964.13437576+0.j, 875.54876982+0.j,\n",
       "       129.61146026+0.j, 466.77550287+0.j])"
      ]
     },
     "execution_count": 115,
     "metadata": {},
     "output_type": "execute_result"
    }
   ],
   "source": [
    "xi_opt = terminator(max_iter, time_steps, total_time, epsilon)\n",
    "xi_opt"
   ]
  },
  {
   "cell_type": "code",
   "execution_count": 117,
   "metadata": {
    "ExecuteTime": {
     "end_time": "2019-01-30T06:46:10.139616Z",
     "start_time": "2019-01-30T06:46:10.095029Z"
    }
   },
   "outputs": [
    {
     "data": {
      "text/plain": [
       "-3.9789212334927573"
      ]
     },
     "execution_count": 117,
     "metadata": {},
     "output_type": "execute_result"
    }
   ],
   "source": [
    "F(xi_opt, dt)"
   ]
  },
  {
   "cell_type": "code",
   "execution_count": 118,
   "metadata": {
    "ExecuteTime": {
     "end_time": "2019-01-30T06:46:12.131167Z",
     "start_time": "2019-01-30T06:46:12.126804Z"
    }
   },
   "outputs": [
    {
     "data": {
      "text/plain": [
       "10"
      ]
     },
     "execution_count": 118,
     "metadata": {},
     "output_type": "execute_result"
    }
   ],
   "source": [
    "max_iter"
   ]
  },
  {
   "cell_type": "code",
   "execution_count": 120,
   "metadata": {
    "ExecuteTime": {
     "end_time": "2019-01-30T06:46:27.176473Z",
     "start_time": "2019-01-30T06:46:27.167332Z"
    }
   },
   "outputs": [
    {
     "data": {
      "text/latex": [
       "Quantum object: dims = [[2, 2], [2, 2]], shape = (4, 4), type = oper, isherm = True\\begin{equation*}\\left(\\begin{array}{*{11}c}0.0 & 0.0 & 0.0 & 1.0\\\\0.0 & 0.0 & 1.0 & 0.0\\\\0.0 & 1.0 & 0.0 & 0.0\\\\1.0 & 0.0 & 0.0 & 0.0\\\\\\end{array}\\right)\\end{equation*}"
      ],
      "text/plain": [
       "Quantum object: dims = [[2, 2], [2, 2]], shape = (4, 4), type = oper, isherm = True\n",
       "Qobj data =\n",
       "[[0. 0. 0. 1.]\n",
       " [0. 0. 1. 0.]\n",
       " [0. 1. 0. 0.]\n",
       " [1. 0. 0. 0.]]"
      ]
     },
     "execution_count": 120,
     "metadata": {},
     "output_type": "execute_result"
    }
   ],
   "source": [
    "T"
   ]
  },
  {
   "cell_type": "code",
   "execution_count": 122,
   "metadata": {
    "ExecuteTime": {
     "end_time": "2019-01-30T06:46:41.642530Z",
     "start_time": "2019-01-30T06:46:41.594029Z"
    }
   },
   "outputs": [
    {
     "data": {
      "text/latex": [
       "Quantum object: dims = [[2, 2], [2, 2]], shape = (4, 4), type = oper, isherm = False\\begin{equation*}\\left(\\begin{array}{*{11}c}0.282 & (-0.160-0.009j) & (-0.160+0.009j) & 0.718\\\\(0.143-0.050j) & (-0.054+0.003j) & (-0.303+0.177j) & (-0.143+0.050j)\\\\(0.143+0.050j) & (-0.303-0.177j) & (-0.054-0.003j) & (-0.143-0.050j)\\\\0.718 & (0.160+0.009j) & (0.160-0.009j) & 0.282\\\\\\end{array}\\right)\\end{equation*}"
      ],
      "text/plain": [
       "Quantum object: dims = [[2, 2], [2, 2]], shape = (4, 4), type = oper, isherm = False\n",
       "Qobj data =\n",
       "[[ 0.28233594+0.j         -0.16005333-0.00893544j -0.16005333+0.00893544j\n",
       "   0.71766406+0.j        ]\n",
       " [ 0.14342862-0.05006893j -0.05447685+0.00321831j -0.30317032+0.17678044j\n",
       "  -0.14342862+0.05006893j]\n",
       " [ 0.14342862+0.05006893j -0.30317032-0.17678044j -0.05447685-0.00321831j\n",
       "  -0.14342862-0.05006893j]\n",
       " [ 0.71766406+0.j          0.16005333+0.00893544j  0.16005333-0.00893544j\n",
       "   0.28233594+0.j        ]]"
      ]
     },
     "execution_count": 122,
     "metadata": {},
     "output_type": "execute_result"
    }
   ],
   "source": [
    "L_full_maker(xi_opt, dt)"
   ]
  },
  {
   "cell_type": "code",
   "execution_count": 123,
   "metadata": {
    "ExecuteTime": {
     "end_time": "2019-01-30T06:47:10.034488Z",
     "start_time": "2019-01-30T06:47:09.148914Z"
    }
   },
   "outputs": [
    {
     "data": {
      "text/plain": [
       "(<Figure size 576x432 with 2 Axes>,\n",
       " <matplotlib.axes._subplots.AxesSubplot at 0x1a1b792400>)"
      ]
     },
     "execution_count": 123,
     "metadata": {},
     "output_type": "execute_result"
    },
    {
     "data": {
      "image/png": "[encoded data removed]",
      "text/plain": [
       "<Figure size 576x432 with 2 Axes>"
      ]
     },
     "metadata": {},
     "output_type": "display_data"
    }
   ],
   "source": [
    "hinton(L_full_maker(xi_opt, dt))"
   ]
  },
  {
   "cell_type": "markdown",
   "metadata": {},
   "source": []
  },
  {
   "cell_type": "markdown",
   "metadata": {},
   "source": [
    "# Next chapter"
   ]
  },
  {
   "cell_type": "markdown",
   "metadata": {},
   "source": [
    "## memory clear (uses regex, so be careful)"
   ]
  },
  {
   "cell_type": "code",
   "execution_count": 7,
   "metadata": {
    "ExecuteTime": {
     "end_time": "2019-01-31T17:50:51.925936Z",
     "start_time": "2019-01-31T17:50:51.921119Z"
    }
   },
   "outputs": [],
   "source": [
    "%reset_selective -f var1, var2  # replace var1, var2 with your defined ones"
   ]
  },
  {
   "cell_type": "markdown",
   "metadata": {},
   "source": [
    "## sub topic 2"
   ]
  },
  {
   "cell_type": "code",
   "execution_count": 8,
   "metadata": {
    "ExecuteTime": {
     "end_time": "2019-01-31T17:50:53.448827Z",
     "start_time": "2019-01-31T17:50:53.441308Z"
    }
   },
   "outputs": [
    {
     "data": {
      "text/latex": [
       "Quantum object: dims = [[2, 2], [2, 2]], shape = (4, 4), type = oper, isherm = True\\begin{equation*}\\left(\\begin{array}{*{11}c}1.0 & 0.0 & 0.0 & 0.0\\\\0.0 & 1.0 & 0.0 & 0.0\\\\0.0 & 0.0 & 0.0 & 1.0\\\\0.0 & 0.0 & 1.0 & 0.0\\\\\\end{array}\\right)\\end{equation*}"
      ],
      "text/plain": [
       "Quantum object: dims = [[2, 2], [2, 2]], shape = (4, 4), type = oper, isherm = True\n",
       "Qobj data =\n",
       "[[1. 0. 0. 0.]\n",
       " [0. 1. 0. 0.]\n",
       " [0. 0. 0. 1.]\n",
       " [0. 0. 1. 0.]]"
      ]
     },
     "execution_count": 8,
     "metadata": {},
     "output_type": "execute_result"
    }
   ],
   "source": [
    "cnot()"
   ]
  },
  {
   "cell_type": "markdown",
   "metadata": {},
   "source": [
    "## sub topic 3"
   ]
  },
  {
   "cell_type": "markdown",
   "metadata": {},
   "source": [
    "### sub sub topic 1"
   ]
  },
  {
   "cell_type": "code",
   "execution_count": null,
   "metadata": {},
   "outputs": [],
   "source": []
  },
  {
   "cell_type": "code",
   "execution_count": null,
   "metadata": {},
   "outputs": [],
   "source": []
  },
  {
   "cell_type": "code",
   "execution_count": null,
   "metadata": {},
   "outputs": [],
   "source": []
  },
  {
   "cell_type": "code",
   "execution_count": null,
   "metadata": {},
   "outputs": [],
   "source": []
  }
 ],
 "metadata": {
  "kernelspec": {
   "display_name": "Python 3",
   "language": "python",
   "name": "python3"
  },
  "language_info": {
   "codemirror_mode": {
    "name": "ipython",
    "version": 3
   },
   "file_extension": ".py",
   "mimetype": "text/x-python",
   "name": "python",
   "nbconvert_exporter": "python",
   "pygments_lexer": "ipython3",
   "version": "3.6.6"
  },
  "toc": {
   "base_numbering": 1,
   "nav_menu": {},
   "number_sections": true,
   "sideBar": true,
   "skip_h1_title": false,
   "title_cell": "Table of Contents",
   "title_sidebar": "Contents",
   "toc_cell": false,
   "toc_position": {},
   "toc_section_display": true,
   "toc_window_display": false
  }
 },
 "nbformat": 4,
 "nbformat_minor": 2
}
