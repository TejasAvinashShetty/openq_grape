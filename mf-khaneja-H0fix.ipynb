{
 "cells": [
  {
   "cell_type": "markdown",
   "metadata": {},
   "source": [
    "# Imports"
   ]
  },
  {
   "cell_type": "code",
   "execution_count": 246,
   "metadata": {
    "ExecuteTime": {
     "end_time": "2019-02-04T15:01:14.857607Z",
     "start_time": "2019-02-04T15:01:14.723753Z"
    }
   },
   "outputs": [],
   "source": [
    "\n",
    "# coding: utf-8\n",
    "\n",
    "# # Imports\n",
    "\n",
    "# ## Qutip imports 1\n",
    "\n",
    "# In[1]:\n",
    "\n",
    "\n",
    "from qutip.operators import sigmax, sigmay, sigmaz, identity\n",
    "# position, momentum, num, create, destroy, commutator, qeye \n",
    "from qutip.tensor import tensor\n",
    "from qutip.qip.gates import swap, rx, ry, rz\n",
    "from qutip.qobj import Qobj\n",
    "from qutip.visualization import hinton\n",
    "from qutip.visualization import matrix_histogram_complex, matrix_histogram\n",
    "from qutip.random_objects import rand_herm, rand_unitary, rand_dm\n",
    "\n",
    "\n",
    "# ## Qutip imports 2\n",
    "\n",
    "# In[2]:\n",
    "\n",
    "\n",
    "#from \n",
    "\n",
    "\n",
    "# ## Numpy imports \n",
    "\n",
    "# In[2]:\n",
    "\n",
    "\n",
    "from numpy import sin, cos, tan, real, imag,  log, conj\n",
    "from numpy import array, append, linspace, arange\n",
    "from numpy import add, sqrt, abs, dot\n",
    "from numpy.random import random, random_sample, rand, seed, RandomState\n",
    "from numpy import concatenate, trace, diag\n",
    "from numpy import ones, zeros, ones_like, zeros_like\n",
    "from numpy import amax, amin, nanmax, nanmin\n",
    "from numpy import outer, multiply\n",
    "# from numpy import pi\n",
    "\n",
    "\n",
    "# ## Scipy imports\n",
    "\n",
    "# In[17]:\n",
    "\n",
    "\n",
    "from scipy.integrate import ode, odeint, complex_ode\n",
    "from scipy.optimize import minimize\n",
    "from scipy.linalg import eigh, inv, norm, expm\n",
    "# from scipy.linalg import \n",
    "# from scipy import\n",
    "\n",
    "\n",
    "# ## Matplotlib imports\n",
    "\n",
    "# In[18]:\n",
    "\n",
    "\n",
    "from matplotlib.pyplot import plot, figure, show, savefig, axes\n",
    "from matplotlib.pyplot import xlabel, ylabel, title, legend\n",
    "from matplotlib import rcParams\n",
    "from matplotlib.pyplot import style \n",
    "from matplotlib.pyplot import xlim, ylim, axis \n",
    "# beware not same as axes\n",
    "from matplotlib.pyplot import subplot, subplots, text\n",
    "from matplotlib.pyplot import GridSpec\n",
    "from matplotlib.pyplot import scatter, colorbar\n",
    "\n",
    "\n",
    "pgf_with_rc_fonts = {\"pgf.texsystem\": \"pdflatex\"}\n",
    "rcParams.update(pgf_with_rc_fonts)\n",
    "style.use('seaborn-whitegrid')\n",
    "\n",
    "\n",
    "# ## Math imports\n",
    "\n",
    "# In[19]:\n",
    "\n",
    "\n",
    "from math import pi\n",
    "from math import exp\n",
    "\n",
    "\n",
    "# ## Cmath imports\n",
    "\n",
    "# ## Date and datetime imports\n",
    "\n",
    "# In[20]:\n",
    "\n",
    "\n",
    "from datetime import date\n",
    "from datetime import datetime# now\n",
    "\n",
    "\n",
    "# ## Os imports\n",
    "\n",
    "# In[21]:\n",
    "\n",
    "\n",
    "from os import getcwd, mkdir, chdir\n",
    "from os.path import abspath, join \n",
    "\n",
    "\n",
    "# ## Sympy imports\n",
    "\n",
    "# In[22]:\n",
    "\n",
    "\n",
    "from sympy import Function, dsolve, Eq, Derivative, symbols\n",
    "# x, y, z, t = symbols('x y z t')\n",
    "# k, m, n = symbols('k m n', integer=True)\n",
    "# f, g, h = symbols('f g h', cls=Function)\n",
    "\n",
    "\n",
    "# ## Miscellaneous imports\n",
    "\n",
    "# ## Extra useful functions\n",
    "\n",
    "# In[23]:\n",
    "\n",
    "\n",
    "def rint(x):\n",
    "    print(\"x = \", x)\n",
    "    return None\n",
    "\n",
    "\n",
    "# # Next chapter\n",
    "\n",
    "# ## sub topic 1\n",
    "\n",
    "# ## sub topic 2\n",
    "\n",
    "# ## sub topic 3\n",
    "\n",
    "# ### sub sub topic 1\n",
    "\n"
   ]
  },
  {
   "cell_type": "markdown",
   "metadata": {},
   "source": [
    "# The code "
   ]
  },
  {
   "cell_type": "markdown",
   "metadata": {},
   "source": [
    "## memory wiping"
   ]
  },
  {
   "cell_type": "code",
   "execution_count": 247,
   "metadata": {
    "ExecuteTime": {
     "end_time": "2019-02-04T15:01:15.265272Z",
     "start_time": "2019-02-04T15:01:15.240357Z"
    }
   },
   "outputs": [],
   "source": [
    "%reset_selective -f  omega_1, total_time, epsilon, max_iter, time_steps, dt"
   ]
  },
  {
   "cell_type": "code",
   "execution_count": 248,
   "metadata": {
    "ExecuteTime": {
     "end_time": "2019-02-04T15:01:15.272469Z",
     "start_time": "2019-02-04T15:01:15.267592Z"
    }
   },
   "outputs": [],
   "source": [
    "%reset_selective -f  Lin, T_s, I"
   ]
  },
  {
   "cell_type": "markdown",
   "metadata": {},
   "source": [
    "## Building parts"
   ]
  },
  {
   "cell_type": "markdown",
   "metadata": {},
   "source": [
    "### Building the things to be calculated only once"
   ]
  },
  {
   "cell_type": "code",
   "execution_count": 249,
   "metadata": {
    "ExecuteTime": {
     "end_time": "2019-02-04T15:01:15.616237Z",
     "start_time": "2019-02-04T15:01:15.597984Z"
    },
    "code_folding": []
   },
   "outputs": [],
   "source": [
    "def maker(H_0, H_1, T_s, Lin, d=2, gamma=0.1):\n",
    "    r\"\"\"maker\n",
    "    Makes all the things that remain constant throught the program, but are \n",
    "    repeatedly used.\n",
    "    \n",
    "\n",
    "    Parameters\n",
    "    ----------\n",
    "              \n",
    "    H_0     : Qobj\n",
    "              Bare Hamiltonian \n",
    "              \n",
    "    H_1     : Qobj\n",
    "              Interaction Hamiltonian \n",
    "              \n",
    "    T_s     : Qobj\n",
    "              Unitary to be implemented in the Hilbert space\n",
    "    \n",
    "    Lin     : Qobj\n",
    "              Linbladian operators\n",
    "\n",
    "    d       : int\n",
    "              Dimension of the matrix. Defaults to 2\n",
    "    \n",
    "    gamma   : float\n",
    "              Damping constant of the Linbladian\n",
    "\n",
    "    \n",
    "    Returns\n",
    "    -------\n",
    "    \n",
    "    ih0     : Qobj\n",
    "              $I\\otimes H_{0}$\n",
    "              \n",
    "    ih1     : Qobj\n",
    "              $I\\otimes H_{1}$\n",
    "\n",
    "    h0ci    : Qobj\n",
    "              $H_{0}^{*}\\otimes I $\n",
    "\n",
    "    h1ci    : Qobj\n",
    "              $H_{1}^{*}\\otimes I $\n",
    "\n",
    "    T       : Qobj\n",
    "              Target unitary transformed to the Liouville space\n",
    "\n",
    "    linbladian : Qobj\n",
    "                 The full lindbladian term as it appears on transformation to \n",
    "                 the Liouville space.\n",
    "        \n",
    "    \"\"\"\n",
    "    I = identity(d)\n",
    "    L_I = tensor(I, I)\n",
    "    ih0 = tensor(I, H_0) \n",
    "    ih1 = tensor(I, H_1) \n",
    "    h0ci = tensor(H_0.conj(), I) \n",
    "    h1ci = tensor(H_1.conj(), I)\n",
    "    x_k = ih1 - h1ci\n",
    "    term1 = tensor(Lin.trans(), Lin)\n",
    "    term2 = tensor(I, ((Lin.dag())*(Lin)))\n",
    "    term3 = tensor(((Lin.trans())*(Lin.conj())), I)\n",
    "    lindbladian = 1j*(gamma)*(term1 - 0.5*(term2 + term3))\n",
    "    T = tensor(T_s.trans(), T_s) # Transforming $T_{s}$ to liouville space\n",
    "    \n",
    "    \n",
    "    return ih0, ih1, h0ci, h1ci, x_k, lindbladian, T, L_I"
   ]
  },
  {
   "cell_type": "code",
   "execution_count": 250,
   "metadata": {
    "ExecuteTime": {
     "end_time": "2019-02-04T15:01:15.676444Z",
     "start_time": "2019-02-04T15:01:15.618640Z"
    }
   },
   "outputs": [],
   "source": [
    "omega_1 = 0.5\n",
    "H_0 = omega_1*sigmaz() \n",
    "H_1 = sigmay()\n",
    "T_s = sigmax() \n",
    "Lin = sigmaz()\n",
    "ih0, ih1, h0ci, h1ci, x_k, lindbladian, T, L_I  = maker(\n",
    "                                                  H_0, H_1, T_s, \n",
    "                                                  Lin, d=2, gamma=0.1)"
   ]
  },
  {
   "cell_type": "code",
   "execution_count": 251,
   "metadata": {
    "ExecuteTime": {
     "end_time": "2019-02-04T15:01:15.698938Z",
     "start_time": "2019-02-04T15:01:15.678210Z"
    }
   },
   "outputs": [
    {
     "data": {
      "text/latex": [
       "Quantum object: dims = [[2, 2], [2, 2]], shape = (4, 4), type = oper, isherm = True\\begin{equation*}\\left(\\begin{array}{*{11}c}1.0 & 0.0 & 0.0 & 0.0\\\\0.0 & 1.0 & 0.0 & 0.0\\\\0.0 & 0.0 & 1.0 & 0.0\\\\0.0 & 0.0 & 0.0 & 1.0\\\\\\end{array}\\right)\\end{equation*}"
      ],
      "text/plain": [
       "Quantum object: dims = [[2, 2], [2, 2]], shape = (4, 4), type = oper, isherm = True\n",
       "Qobj data =\n",
       "[[1. 0. 0. 0.]\n",
       " [0. 1. 0. 0.]\n",
       " [0. 0. 1. 0.]\n",
       " [0. 0. 0. 1.]]"
      ]
     },
     "execution_count": 251,
     "metadata": {},
     "output_type": "execute_result"
    }
   ],
   "source": [
    "L_I"
   ]
  },
  {
   "cell_type": "markdown",
   "metadata": {},
   "source": [
    "### Building $And(t)$"
   ]
  },
  {
   "cell_type": "code",
   "execution_count": 252,
   "metadata": {
    "ExecuteTime": {
     "end_time": "2019-02-04T15:01:15.790330Z",
     "start_time": "2019-02-04T15:01:15.786376Z"
    }
   },
   "outputs": [],
   "source": [
    "def And(xi):\n",
    "    r\"\"\"making $And(t)$\"\"\"\n",
    "    And = ih0 - h0ci + xi*(ih1 - h1ci) #+ lindbladian\n",
    "    return And"
   ]
  },
  {
   "cell_type": "code",
   "execution_count": 253,
   "metadata": {
    "ExecuteTime": {
     "end_time": "2019-02-04T15:01:15.802603Z",
     "start_time": "2019-02-04T15:01:15.795211Z"
    }
   },
   "outputs": [
    {
     "data": {
      "text/latex": [
       "Quantum object: dims = [[2, 2], [2, 2]], shape = (4, 4), type = oper, isherm = True\\begin{equation*}\\left(\\begin{array}{*{11}c}0.0 & -0.500j & -0.500j & 0.0\\\\0.500j & -1.0 & 0.0 & -0.500j\\\\0.500j & 0.0 & 1.0 & -0.500j\\\\0.0 & 0.500j & 0.500j & 0.0\\\\\\end{array}\\right)\\end{equation*}"
      ],
      "text/plain": [
       "Quantum object: dims = [[2, 2], [2, 2]], shape = (4, 4), type = oper, isherm = True\n",
       "Qobj data =\n",
       "[[ 0.+0.j   0.-0.5j  0.-0.5j  0.+0.j ]\n",
       " [ 0.+0.5j -1.+0.j   0.+0.j   0.-0.5j]\n",
       " [ 0.+0.5j  0.+0.j   1.+0.j   0.-0.5j]\n",
       " [ 0.+0.j   0.+0.5j  0.+0.5j  0.+0.j ]]"
      ]
     },
     "execution_count": 253,
     "metadata": {},
     "output_type": "execute_result"
    }
   ],
   "source": [
    "And(0.5)"
   ]
  },
  {
   "cell_type": "markdown",
   "metadata": {},
   "source": [
    "### Building $Lnd(t)$ "
   ]
  },
  {
   "cell_type": "code",
   "execution_count": 254,
   "metadata": {
    "ExecuteTime": {
     "end_time": "2019-02-04T15:01:15.953616Z",
     "start_time": "2019-02-04T15:01:15.950299Z"
    }
   },
   "outputs": [],
   "source": [
    "def Lnd(xi, dt):\n",
    "    r\"\"\"Making $Lnd(t) from $A(t)$\"\"\"\n",
    "    Lnd = (-1j*And(xi)*dt).expm()\n",
    "    return Lnd"
   ]
  },
  {
   "cell_type": "code",
   "execution_count": 255,
   "metadata": {
    "ExecuteTime": {
     "end_time": "2019-02-04T15:01:16.013320Z",
     "start_time": "2019-02-04T15:01:15.963807Z"
    }
   },
   "outputs": [
    {
     "data": {
      "text/latex": [
       "Quantum object: dims = [[2, 2], [2, 2]], shape = (4, 4), type = oper, isherm = False\\begin{equation*}\\left(\\begin{array}{*{11}c}1.000 & (-5.000\\times10^{-04}-2.500\\times10^{-07}j) & (-5.000\\times10^{-04}+2.500\\times10^{-07}j) & 2.500\\times10^{-07}\\\\(5.000\\times10^{-04}+2.500\\times10^{-07}j) & (1.000+1.000\\times10^{-03}j) & -2.500\\times10^{-07} & (-5.000\\times10^{-04}-2.500\\times10^{-07}j)\\\\(5.000\\times10^{-04}-2.500\\times10^{-07}j) & -2.500\\times10^{-07} & (1.000-1.000\\times10^{-03}j) & (-5.000\\times10^{-04}+2.500\\times10^{-07}j)\\\\2.500\\times10^{-07} & (5.000\\times10^{-04}+2.500\\times10^{-07}j) & (5.000\\times10^{-04}-2.500\\times10^{-07}j) & 1.000\\\\\\end{array}\\right)\\end{equation*}"
      ],
      "text/plain": [
       "Quantum object: dims = [[2, 2], [2, 2]], shape = (4, 4), type = oper, isherm = False\n",
       "Qobj data =\n",
       "[[ 9.99999750e-01+0.00000000e+00j -4.99999833e-04-2.49999958e-07j\n",
       "  -4.99999833e-04+2.49999958e-07j  2.49999958e-07+0.00000000e+00j]\n",
       " [ 4.99999833e-04+2.49999958e-07j  9.99999250e-01+9.99999667e-04j\n",
       "  -2.49999958e-07+0.00000000e+00j -4.99999833e-04-2.49999958e-07j]\n",
       " [ 4.99999833e-04-2.49999958e-07j -2.49999958e-07+0.00000000e+00j\n",
       "   9.99999250e-01-9.99999667e-04j -4.99999833e-04+2.49999958e-07j]\n",
       " [ 2.49999958e-07+0.00000000e+00j  4.99999833e-04+2.49999958e-07j\n",
       "   4.99999833e-04-2.49999958e-07j  9.99999750e-01+0.00000000e+00j]]"
      ]
     },
     "execution_count": 255,
     "metadata": {},
     "output_type": "execute_result"
    }
   ],
   "source": [
    "Lnd(0.5, 0.001)"
   ]
  },
  {
   "cell_type": "markdown",
   "metadata": {},
   "source": [
    "## Major functions"
   ]
  },
  {
   "cell_type": "markdown",
   "metadata": {},
   "source": [
    "### Major functions 1"
   ]
  },
  {
   "cell_type": "code",
   "execution_count": 256,
   "metadata": {
    "ExecuteTime": {
     "end_time": "2019-02-04T15:01:16.266944Z",
     "start_time": "2019-02-04T15:01:16.261040Z"
    }
   },
   "outputs": [],
   "source": [
    "# building the function to optimize (optimizee)\n",
    "def Lnd_vec(xi_vec, dt):\n",
    "    r\"\"\"Building the vector of differential $Lnd(t)$\"\"\"\n",
    "    Lnd_vec = [Lnd(xi, dt) for xi in xi_vec] \n",
    "    return Lnd_vec"
   ]
  },
  {
   "cell_type": "code",
   "execution_count": 257,
   "metadata": {
    "ExecuteTime": {
     "end_time": "2019-02-04T15:01:16.272948Z",
     "start_time": "2019-02-04T15:01:16.269232Z"
    }
   },
   "outputs": [],
   "source": [
    "def fidelity_calc(A, B):\n",
    "    r\"\"\"Making a generalised fidelity function\"\"\"\n",
    "    first_part = (A - B).dag()\n",
    "    second_part = (A - B)\n",
    "    f_int = (first_part* second_part)\n",
    "    f = f_int.tr()\n",
    "    return f"
   ]
  },
  {
   "cell_type": "code",
   "execution_count": 258,
   "metadata": {
    "ExecuteTime": {
     "end_time": "2019-02-04T15:01:16.279573Z",
     "start_time": "2019-02-04T15:01:16.275106Z"
    }
   },
   "outputs": [],
   "source": [
    "def Lnd_full_maker(xi_vec, dt):\n",
    "    r\"\"\"Building the $Lnd(t)$ for the total time $t$\"\"\"\n",
    "    xi_vec_size = xi_vec.size # finding the size of xi\n",
    "    Lnd_full = L_I # Identity for the for loop of Lnd\n",
    "    Lnd_v = Lnd_vec(xi_vec, dt) # calling Lnd_vec\n",
    "    for i in range(xi_vec_size): # generating Lnd_full\n",
    "        Lnd_full = Lnd_full*Lnd_v[xi_vec_size - 1 - i]\n",
    "    return Lnd_full"
   ]
  },
  {
   "cell_type": "code",
   "execution_count": 259,
   "metadata": {
    "ExecuteTime": {
     "end_time": "2019-02-04T15:01:16.285282Z",
     "start_time": "2019-02-04T15:01:16.282095Z"
    }
   },
   "outputs": [],
   "source": [
    "def F(xi_vec, dt):\n",
    "    r\"\"\"Using the fidelity metric to find out the closeness between $T$\n",
    "    and $Lnd(t)$\"\"\"\n",
    "    Lnd_full = Lnd_full_maker(xi_vec, dt)\n",
    "    F = real(-fidelity_calc(T, Lnd_full))   \n",
    "    return F"
   ]
  },
  {
   "cell_type": "markdown",
   "metadata": {},
   "source": [
    "### Testing major functions 1"
   ]
  },
  {
   "cell_type": "code",
   "execution_count": 260,
   "metadata": {
    "ExecuteTime": {
     "end_time": "2019-02-04T15:01:16.450113Z",
     "start_time": "2019-02-04T15:01:16.441312Z"
    }
   },
   "outputs": [
    {
     "data": {
      "text/plain": [
       "4.0"
      ]
     },
     "execution_count": 260,
     "metadata": {},
     "output_type": "execute_result"
    }
   ],
   "source": [
    "fidelity_calc(sigmax(), sigmay())"
   ]
  },
  {
   "cell_type": "code",
   "execution_count": 261,
   "metadata": {
    "ExecuteTime": {
     "end_time": "2019-02-04T15:01:16.460439Z",
     "start_time": "2019-02-04T15:01:16.452420Z"
    }
   },
   "outputs": [
    {
     "data": {
      "text/plain": [
       "0.0"
      ]
     },
     "execution_count": 261,
     "metadata": {},
     "output_type": "execute_result"
    }
   ],
   "source": [
    "fidelity_calc(sigmay(), sigmay())"
   ]
  },
  {
   "cell_type": "code",
   "execution_count": 262,
   "metadata": {
    "ExecuteTime": {
     "end_time": "2019-02-04T15:01:16.472939Z",
     "start_time": "2019-02-04T15:01:16.463056Z"
    }
   },
   "outputs": [
    {
     "data": {
      "text/plain": [
       "array([1., 2.])"
      ]
     },
     "execution_count": 262,
     "metadata": {},
     "output_type": "execute_result"
    }
   ],
   "source": [
    "xi_vec_test = array([1.0, 2.0])\n",
    "xi_vec_test"
   ]
  },
  {
   "cell_type": "code",
   "execution_count": 263,
   "metadata": {
    "ExecuteTime": {
     "end_time": "2019-02-04T15:01:16.479169Z",
     "start_time": "2019-02-04T15:01:16.475019Z"
    }
   },
   "outputs": [
    {
     "data": {
      "text/plain": [
       "2"
      ]
     },
     "execution_count": 263,
     "metadata": {},
     "output_type": "execute_result"
    }
   ],
   "source": [
    "xi_vec_test.size"
   ]
  },
  {
   "cell_type": "code",
   "execution_count": 264,
   "metadata": {
    "ExecuteTime": {
     "end_time": "2019-02-04T15:01:16.486620Z",
     "start_time": "2019-02-04T15:01:16.481173Z"
    }
   },
   "outputs": [
    {
     "data": {
      "text/plain": [
       "[1.0, 4.0]"
      ]
     },
     "execution_count": 264,
     "metadata": {},
     "output_type": "execute_result"
    }
   ],
   "source": [
    "w_vec = [xi**2 for xi in xi_vec_test]\n",
    "w_vec"
   ]
  },
  {
   "cell_type": "code",
   "execution_count": 265,
   "metadata": {
    "ExecuteTime": {
     "end_time": "2019-02-04T15:01:16.500276Z",
     "start_time": "2019-02-04T15:01:16.488613Z"
    }
   },
   "outputs": [
    {
     "data": {
      "text/plain": [
       "-7.999999999998001"
      ]
     },
     "execution_count": 265,
     "metadata": {},
     "output_type": "execute_result"
    }
   ],
   "source": [
    "# F(xi_vec, dt)\n",
    "F(xi_vec_test, 0.001)"
   ]
  },
  {
   "cell_type": "code",
   "execution_count": 266,
   "metadata": {
    "ExecuteTime": {
     "end_time": "2019-02-04T15:01:16.511509Z",
     "start_time": "2019-02-04T15:01:16.502446Z"
    }
   },
   "outputs": [],
   "source": [
    "Lnd_v = Lnd_vec(xi_vec_test, 0.001)"
   ]
  },
  {
   "cell_type": "code",
   "execution_count": 267,
   "metadata": {
    "ExecuteTime": {
     "end_time": "2019-02-04T15:01:16.519967Z",
     "start_time": "2019-02-04T15:01:16.513340Z"
    }
   },
   "outputs": [
    {
     "data": {
      "text/plain": [
       "[Quantum object: dims = [[2, 2], [2, 2]], shape = (4, 4), type = oper, isherm = False\n",
       " Qobj data =\n",
       " [[ 9.99999000e-01+0.00000000e+00j -9.99999167e-04-4.99999792e-07j\n",
       "   -9.99999167e-04+4.99999792e-07j  9.99999583e-07+0.00000000e+00j]\n",
       "  [ 9.99999167e-04+4.99999792e-07j  9.99998500e-01+9.99999167e-04j\n",
       "   -9.99999583e-07+0.00000000e+00j -9.99999167e-04-4.99999792e-07j]\n",
       "  [ 9.99999167e-04-4.99999792e-07j -9.99999583e-07+0.00000000e+00j\n",
       "    9.99998500e-01-9.99999167e-04j -9.99999167e-04+4.99999792e-07j]\n",
       "  [ 9.99999583e-07+0.00000000e+00j  9.99999167e-04+4.99999792e-07j\n",
       "    9.99999167e-04-4.99999792e-07j  9.99999000e-01+0.00000000e+00j]],\n",
       " Quantum object: dims = [[2, 2], [2, 2]], shape = (4, 4), type = oper, isherm = False\n",
       " Qobj data =\n",
       " [[ 9.99996000e-01+0.00000000e+00j -1.99999433e-03-9.99998583e-07j\n",
       "   -1.99999433e-03+9.99998583e-07j  3.99999433e-06+0.00000000e+00j]\n",
       "  [ 1.99999433e-03+9.99998583e-07j  9.99995500e-01+9.99997167e-04j\n",
       "   -3.99999433e-06+0.00000000e+00j -1.99999433e-03-9.99998583e-07j]\n",
       "  [ 1.99999433e-03-9.99998583e-07j -3.99999433e-06+0.00000000e+00j\n",
       "    9.99995500e-01-9.99997167e-04j -1.99999433e-03+9.99998583e-07j]\n",
       "  [ 3.99999433e-06+0.00000000e+00j  1.99999433e-03+9.99998583e-07j\n",
       "    1.99999433e-03-9.99998583e-07j  9.99996000e-01+0.00000000e+00j]]]"
      ]
     },
     "execution_count": 267,
     "metadata": {},
     "output_type": "execute_result"
    }
   ],
   "source": [
    "Lnd_v"
   ]
  },
  {
   "cell_type": "markdown",
   "metadata": {},
   "source": [
    "### Major Functions 2"
   ]
  },
  {
   "cell_type": "code",
   "execution_count": 268,
   "metadata": {
    "ExecuteTime": {
     "end_time": "2019-02-04T15:01:16.649342Z",
     "start_time": "2019-02-04T15:01:16.643004Z"
    }
   },
   "outputs": [],
   "source": [
    "def Lnd_comma_k_maker(xi_vec, k, dt):\n",
    "    r\"\"\"Making of the derivative of full $Lnd(t)$ at time $t_{k}$\"\"\"\n",
    "    N = xi_vec.size \n",
    "    # Determining the size of xi, and thus the time_steps indirectly.\n",
    "    Lnd_v = Lnd_vec(xi_vec, dt)# Making of the full $Lnd(t)$\n",
    "    inner_part = L_I # Beginner for the for loop\n",
    "    for i in range(N):\n",
    "        if i == ( N - 1 - k ):\n",
    "            # The step at which $X_{k}(t)$ has to be inserted \n",
    "            inner_part = inner_part*x_k*Lnd_v[k - 1]\n",
    "        else:\n",
    "            # Usual multiplications of $Lnd_{k}$\n",
    "            inner_part = inner_part*Lnd_v[N - 1 - i]\n",
    "    lnd_comma_k = inner_part\n",
    "    return lnd_comma_k\n",
    "    "
   ]
  },
  {
   "cell_type": "code",
   "execution_count": 269,
   "metadata": {
    "ExecuteTime": {
     "end_time": "2019-02-04T15:01:16.671459Z",
     "start_time": "2019-02-04T15:01:16.658699Z"
    }
   },
   "outputs": [
    {
     "data": {
      "text/latex": [
       "Quantum object: dims = [[2, 2], [2, 2]], shape = (4, 4), type = oper, isherm = False\\begin{equation*}\\left(\\begin{array}{*{11}c}1.000 & (-0.003-3.500\\times10^{-06}j) & (-0.003+3.500\\times10^{-06}j) & 9.000\\times10^{-06}\\\\(0.003+2.500\\times10^{-06}j) & (1.000+0.002j) & (-9.000\\times10^{-06}+3.000\\times10^{-09}j) & (-0.003-2.500\\times10^{-06}j)\\\\(0.003-2.500\\times10^{-06}j) & (-9.000\\times10^{-06}-3.000\\times10^{-09}j) & (1.000-0.002j) & (-0.003+2.500\\times10^{-06}j)\\\\9.000\\times10^{-06} & (0.003+3.500\\times10^{-06}j) & (0.003-3.500\\times10^{-06}j) & 1.000\\\\\\end{array}\\right)\\end{equation*}"
      ],
      "text/plain": [
       "Quantum object: dims = [[2, 2], [2, 2]], shape = (4, 4), type = oper, isherm = False\n",
       "Qobj data =\n",
       "[[ 9.99991000e-01+0.00000000e+00j -2.99997950e-03-3.49998654e-06j\n",
       "  -2.99997950e-03+3.49998654e-06j  8.99997025e-06+0.00000000e+00j]\n",
       " [ 2.99998050e-03+2.49999246e-06j  9.99989000e-01+1.99998633e-03j\n",
       "  -8.99996975e-06+2.99999225e-09j -2.99998050e-03-2.49999246e-06j]\n",
       " [ 2.99998050e-03-2.49999246e-06j -8.99996975e-06-2.99999225e-09j\n",
       "   9.99989000e-01-1.99998633e-03j -2.99998050e-03+2.49999246e-06j]\n",
       " [ 8.99997025e-06+0.00000000e+00j  2.99997950e-03+3.49998654e-06j\n",
       "   2.99997950e-03-3.49998654e-06j  9.99991000e-01+0.00000000e+00j]]"
      ]
     },
     "execution_count": 269,
     "metadata": {},
     "output_type": "execute_result"
    }
   ],
   "source": [
    "# Lnd_comma_k_maker(xi_vec, k, dt)\n",
    "Lnd_comma_k_maker(xi_vec_test, 2, 0.001)"
   ]
  },
  {
   "cell_type": "code",
   "execution_count": 270,
   "metadata": {
    "ExecuteTime": {
     "end_time": "2019-02-04T15:01:16.684500Z",
     "start_time": "2019-02-04T15:01:16.675075Z"
    }
   },
   "outputs": [],
   "source": [
    "def updater_nd(xi_vec, dt, epsilon):\n",
    "    r\"\"\"Implementing the GRAPE update step\"\"\"\n",
    "    xi_vec_size = xi_vec.size # finding the size of xi\n",
    "    Lnd_full = Lnd_full_maker(xi_vec, dt)\n",
    "    di = []\n",
    "    for k in range(xi_vec_size):\n",
    "        # Building the thing to be added to the old function\n",
    "        Lnd_comma_k = Lnd_comma_k_maker(xi_vec, k, dt)\n",
    "        differentiated = T - Lnd_comma_k\n",
    "        plain = T - Lnd_full\n",
    "        c = -differentiated.dag()*plain\n",
    "        d = -plain.dag()*differentiated\n",
    "        inside = c.tr() + d.tr()\n",
    "        di.append(epsilon*inside)\n",
    "\n",
    "    diff = array(di)\n",
    "    xi_new_vec = xi_vec + diff\n",
    "    return diff, xi_new_vec\n",
    "    "
   ]
  },
  {
   "cell_type": "code",
   "execution_count": 271,
   "metadata": {
    "ExecuteTime": {
     "end_time": "2019-02-04T15:01:16.706735Z",
     "start_time": "2019-02-04T15:01:16.686947Z"
    }
   },
   "outputs": [
    {
     "data": {
      "text/plain": [
       "(array([-0.008+0.j, -0.008+0.j]), array([0.992+0.j, 1.992+0.j]))"
      ]
     },
     "execution_count": 271,
     "metadata": {},
     "output_type": "execute_result"
    }
   ],
   "source": [
    "#  updater_nd(xi_vec, dt, epsilon)\n",
    "updater_nd(xi_vec_test, 0.001, 0.001)"
   ]
  },
  {
   "cell_type": "code",
   "execution_count": 272,
   "metadata": {
    "ExecuteTime": {
     "end_time": "2019-02-04T15:01:16.714238Z",
     "start_time": "2019-02-04T15:01:16.708921Z"
    },
    "code_folding": []
   },
   "outputs": [],
   "source": [
    "def terminator_nd(max_iter, time_steps, total_time, epsilon):\n",
    "    r\"\"\"Brief description of the function\"\"\"\n",
    "    \n",
    "    xi_initial =  1000*random_sample((time_steps,))\n",
    "    dt = total_time/time_steps\n",
    "    xi_diff, xi_new_vec = updater_nd(xi_initial, dt, epsilon)\n",
    "    \n",
    "    for i in range(max_iter):\n",
    "        if amax(xi_diff) < epsilon**2 :\n",
    "            xi_final = xi_new_vec\n",
    "            break\n",
    "        else :\n",
    "            xi_diff, xi_new_vec = updater_nd(xi_new_vec, dt, epsilon)\n",
    "            print(i)\n",
    "            print(amax(xi_diff))\n",
    "            \n",
    "        \n",
    "    xi_final = xi_new_vec    \n",
    "    return xi_final"
   ]
  },
  {
   "cell_type": "markdown",
   "metadata": {},
   "source": [
    "# code with dissipation"
   ]
  },
  {
   "cell_type": "markdown",
   "metadata": {},
   "source": [
    "## Building parts"
   ]
  },
  {
   "cell_type": "markdown",
   "metadata": {},
   "source": [
    "### Building $A(t)$"
   ]
  },
  {
   "cell_type": "code",
   "execution_count": 273,
   "metadata": {
    "ExecuteTime": {
     "end_time": "2019-02-04T15:01:17.398666Z",
     "start_time": "2019-02-04T15:01:17.396026Z"
    }
   },
   "outputs": [],
   "source": [
    "def A(xi):\n",
    "    r\"\"\"making $A(t)$\"\"\"\n",
    "    A = ih0 - h0ci + xi*(ih1 - h1ci) + lindbladian\n",
    "    return A"
   ]
  },
  {
   "cell_type": "code",
   "execution_count": 274,
   "metadata": {
    "ExecuteTime": {
     "end_time": "2019-02-04T15:01:17.411273Z",
     "start_time": "2019-02-04T15:01:17.403775Z"
    }
   },
   "outputs": [
    {
     "data": {
      "text/latex": [
       "Quantum object: dims = [[2, 2], [2, 2]], shape = (4, 4), type = oper, isherm = False\\begin{equation*}\\left(\\begin{array}{*{11}c}0.0 & -0.500j & -0.500j & 0.0\\\\0.500j & (-1.0-0.200j) & 0.0 & -0.500j\\\\0.500j & 0.0 & (1.0-0.200j) & -0.500j\\\\0.0 & 0.500j & 0.500j & 0.0\\\\\\end{array}\\right)\\end{equation*}"
      ],
      "text/plain": [
       "Quantum object: dims = [[2, 2], [2, 2]], shape = (4, 4), type = oper, isherm = False\n",
       "Qobj data =\n",
       "[[ 0.+0.j   0.-0.5j  0.-0.5j  0.+0.j ]\n",
       " [ 0.+0.5j -1.-0.2j  0.+0.j   0.-0.5j]\n",
       " [ 0.+0.5j  0.+0.j   1.-0.2j  0.-0.5j]\n",
       " [ 0.+0.j   0.+0.5j  0.+0.5j  0.+0.j ]]"
      ]
     },
     "execution_count": 274,
     "metadata": {},
     "output_type": "execute_result"
    }
   ],
   "source": [
    "A(0.5)"
   ]
  },
  {
   "cell_type": "markdown",
   "metadata": {},
   "source": [
    "### Building $L(t)$ and the Identity in the Liouville space"
   ]
  },
  {
   "cell_type": "code",
   "execution_count": 275,
   "metadata": {
    "ExecuteTime": {
     "end_time": "2019-02-04T15:01:17.549608Z",
     "start_time": "2019-02-04T15:01:17.546676Z"
    }
   },
   "outputs": [],
   "source": [
    "def L(xi, dt):\n",
    "    r\"\"\"Making $L(t) from $A(t)$\"\"\"\n",
    "    L = (-1j*A(xi)*dt).expm()\n",
    "    return L"
   ]
  },
  {
   "cell_type": "code",
   "execution_count": 276,
   "metadata": {
    "ExecuteTime": {
     "end_time": "2019-02-04T15:01:17.566024Z",
     "start_time": "2019-02-04T15:01:17.557363Z"
    }
   },
   "outputs": [
    {
     "data": {
      "text/latex": [
       "Quantum object: dims = [[2, 2], [2, 2]], shape = (4, 4), type = oper, isherm = False\\begin{equation*}\\left(\\begin{array}{*{11}c}1.000 & (-4.999\\times10^{-04}-2.500\\times10^{-07}j) & (-4.999\\times10^{-04}+2.500\\times10^{-07}j) & 2.500\\times10^{-07}\\\\(4.999\\times10^{-04}+2.500\\times10^{-07}j) & (1.000+9.998\\times10^{-04}j) & -2.500\\times10^{-07} & (-4.999\\times10^{-04}-2.500\\times10^{-07}j)\\\\(4.999\\times10^{-04}-2.500\\times10^{-07}j) & -2.500\\times10^{-07} & (1.000-9.998\\times10^{-04}j) & (-4.999\\times10^{-04}+2.500\\times10^{-07}j)\\\\2.500\\times10^{-07} & (4.999\\times10^{-04}+2.500\\times10^{-07}j) & (4.999\\times10^{-04}-2.500\\times10^{-07}j) & 1.000\\\\\\end{array}\\right)\\end{equation*}"
      ],
      "text/plain": [
       "Quantum object: dims = [[2, 2], [2, 2]], shape = (4, 4), type = oper, isherm = False\n",
       "Qobj data =\n",
       "[[ 9.99999750e-01+0.00000000e+00j -4.99949837e-04-2.49966628e-07j\n",
       "  -4.99949837e-04+2.49966628e-07j  2.49983293e-07+0.00000000e+00j]\n",
       " [ 4.99949837e-04+2.49966628e-07j  9.99799270e-01+9.99799687e-04j\n",
       "  -2.49966628e-07+0.00000000e+00j -4.99949837e-04-2.49966628e-07j]\n",
       " [ 4.99949837e-04-2.49966628e-07j -2.49966628e-07+0.00000000e+00j\n",
       "   9.99799270e-01-9.99799687e-04j -4.99949837e-04+2.49966628e-07j]\n",
       " [ 2.49983293e-07+0.00000000e+00j  4.99949837e-04+2.49966628e-07j\n",
       "   4.99949837e-04-2.49966628e-07j  9.99999750e-01+0.00000000e+00j]]"
      ]
     },
     "execution_count": 276,
     "metadata": {},
     "output_type": "execute_result"
    }
   ],
   "source": [
    "L(0.5, 0.001)"
   ]
  },
  {
   "cell_type": "markdown",
   "metadata": {},
   "source": [
    "## Major functions"
   ]
  },
  {
   "cell_type": "markdown",
   "metadata": {},
   "source": [
    "### Major functions 1"
   ]
  },
  {
   "cell_type": "code",
   "execution_count": 277,
   "metadata": {
    "ExecuteTime": {
     "end_time": "2019-02-04T15:01:17.982244Z",
     "start_time": "2019-02-04T15:01:17.979063Z"
    }
   },
   "outputs": [],
   "source": [
    "# building the function to optimize (optimizee)\n",
    "def L_vec(xi_vec, dt):\n",
    "    r\"\"\"Building the vector of differential $L(t)$\"\"\"\n",
    "    L_vec = [L(xi, dt) for xi in xi_vec] \n",
    "    return L_vec"
   ]
  },
  {
   "cell_type": "code",
   "execution_count": 278,
   "metadata": {
    "ExecuteTime": {
     "end_time": "2019-02-04T15:01:17.992127Z",
     "start_time": "2019-02-04T15:01:17.986020Z"
    }
   },
   "outputs": [],
   "source": [
    "def fidelity_calc(A, B):\n",
    "    r\"\"\"Making a generalised fidelity function\"\"\"\n",
    "    first_part = (A - B).dag()\n",
    "    second_part = (A - B)\n",
    "    f_int = (first_part* second_part)\n",
    "    f = f_int.tr()\n",
    "    return f"
   ]
  },
  {
   "cell_type": "code",
   "execution_count": 279,
   "metadata": {
    "ExecuteTime": {
     "end_time": "2019-02-04T15:01:17.997987Z",
     "start_time": "2019-02-04T15:01:17.994610Z"
    }
   },
   "outputs": [],
   "source": [
    "def L_full_maker(xi_vec, dt):\n",
    "    r\"\"\"Building the $L(t)$ for the total time $t$\"\"\"\n",
    "    xi_vec_size = xi_vec.size # finding the size of xi\n",
    "    L_full = L_I # Identity for the for loop of L\n",
    "    L_v = L_vec(xi_vec, dt) # calling L_vec\n",
    "    for i in range(xi_vec_size): # generating L_full\n",
    "        L_full = L_full*L_v[xi_vec_size - 1 - i]\n",
    "    return L_full"
   ]
  },
  {
   "cell_type": "code",
   "execution_count": 280,
   "metadata": {
    "ExecuteTime": {
     "end_time": "2019-02-04T15:01:18.003827Z",
     "start_time": "2019-02-04T15:01:18.000106Z"
    }
   },
   "outputs": [],
   "source": [
    "def F(xi_vec, dt):\n",
    "    r\"\"\"Using the fidelity metric to find out the closeness between $T$\n",
    "    and $L(t)$\"\"\"\n",
    "    L_full = L_full_maker(xi_vec, dt)\n",
    "    F = real(-fidelity_calc(T, L_full))   \n",
    "    return F"
   ]
  },
  {
   "cell_type": "markdown",
   "metadata": {},
   "source": [
    "### Testing major functions 1"
   ]
  },
  {
   "cell_type": "code",
   "execution_count": 281,
   "metadata": {
    "ExecuteTime": {
     "end_time": "2019-02-04T15:01:18.134738Z",
     "start_time": "2019-02-04T15:01:18.126757Z"
    }
   },
   "outputs": [
    {
     "data": {
      "text/plain": [
       "4.0"
      ]
     },
     "execution_count": 281,
     "metadata": {},
     "output_type": "execute_result"
    }
   ],
   "source": [
    "fidelity_calc(sigmax(), sigmay())"
   ]
  },
  {
   "cell_type": "code",
   "execution_count": 282,
   "metadata": {
    "ExecuteTime": {
     "end_time": "2019-02-04T15:01:18.145291Z",
     "start_time": "2019-02-04T15:01:18.136847Z"
    }
   },
   "outputs": [
    {
     "data": {
      "text/plain": [
       "0.0"
      ]
     },
     "execution_count": 282,
     "metadata": {},
     "output_type": "execute_result"
    }
   ],
   "source": [
    "fidelity_calc(sigmay(), sigmay())"
   ]
  },
  {
   "cell_type": "code",
   "execution_count": 283,
   "metadata": {
    "ExecuteTime": {
     "end_time": "2019-02-04T15:01:18.152927Z",
     "start_time": "2019-02-04T15:01:18.147635Z"
    }
   },
   "outputs": [
    {
     "data": {
      "text/plain": [
       "array([1., 2.])"
      ]
     },
     "execution_count": 283,
     "metadata": {},
     "output_type": "execute_result"
    }
   ],
   "source": [
    "xi_vec_test = array([1.0, 2.0])\n",
    "xi_vec_test"
   ]
  },
  {
   "cell_type": "code",
   "execution_count": 284,
   "metadata": {
    "ExecuteTime": {
     "end_time": "2019-02-04T15:01:18.159186Z",
     "start_time": "2019-02-04T15:01:18.155555Z"
    }
   },
   "outputs": [
    {
     "data": {
      "text/plain": [
       "2"
      ]
     },
     "execution_count": 284,
     "metadata": {},
     "output_type": "execute_result"
    }
   ],
   "source": [
    "xi_vec_test.size"
   ]
  },
  {
   "cell_type": "code",
   "execution_count": 285,
   "metadata": {
    "ExecuteTime": {
     "end_time": "2019-02-04T15:01:18.166362Z",
     "start_time": "2019-02-04T15:01:18.161616Z"
    }
   },
   "outputs": [
    {
     "data": {
      "text/plain": [
       "[1.0, 4.0]"
      ]
     },
     "execution_count": 285,
     "metadata": {},
     "output_type": "execute_result"
    }
   ],
   "source": [
    "w_vec = [xi**2 for xi in xi_vec_test]\n",
    "w_vec"
   ]
  },
  {
   "cell_type": "code",
   "execution_count": 286,
   "metadata": {
    "ExecuteTime": {
     "end_time": "2019-02-04T15:01:18.180070Z",
     "start_time": "2019-02-04T15:01:18.168740Z"
    }
   },
   "outputs": [
    {
     "data": {
      "text/plain": [
       "-7.998400634493139"
      ]
     },
     "execution_count": 286,
     "metadata": {},
     "output_type": "execute_result"
    }
   ],
   "source": [
    "# F(xi_vec, dt)\n",
    "F(xi_vec_test, 0.001)"
   ]
  },
  {
   "cell_type": "code",
   "execution_count": 287,
   "metadata": {
    "ExecuteTime": {
     "end_time": "2019-02-04T15:01:18.191482Z",
     "start_time": "2019-02-04T15:01:18.182649Z"
    }
   },
   "outputs": [],
   "source": [
    "L_v = L_vec(xi_vec_test, 0.001)"
   ]
  },
  {
   "cell_type": "code",
   "execution_count": 288,
   "metadata": {
    "ExecuteTime": {
     "end_time": "2019-02-04T15:01:18.199995Z",
     "start_time": "2019-02-04T15:01:18.193669Z"
    }
   },
   "outputs": [
    {
     "data": {
      "text/plain": [
       "[Quantum object: dims = [[2, 2], [2, 2]], shape = (4, 4), type = oper, isherm = False\n",
       " Qobj data =\n",
       " [[ 9.99999000e-01+0.00000000e+00j -9.99899173e-04-4.99933130e-07j\n",
       "   -9.99899173e-04+4.99933130e-07j  9.99932920e-07+0.00000000e+00j]\n",
       "  [ 9.99899173e-04+4.99933130e-07j  9.99798520e-01+9.99799187e-04j\n",
       "   -9.99866260e-07+0.00000000e+00j -9.99899173e-04-4.99933130e-07j]\n",
       "  [ 9.99899173e-04-4.99933130e-07j -9.99866260e-07+0.00000000e+00j\n",
       "    9.99798520e-01-9.99799187e-04j -9.99899173e-04+4.99933130e-07j]\n",
       "  [ 9.99932920e-07+0.00000000e+00j  9.99899173e-04+4.99933130e-07j\n",
       "    9.99899173e-04-4.99933130e-07j  9.99999000e-01+0.00000000e+00j]],\n",
       " Quantum object: dims = [[2, 2], [2, 2]], shape = (4, 4), type = oper, isherm = False\n",
       " Qobj data =\n",
       " [[ 9.99996000e-01+0.00000000e+00j -1.99979435e-03-9.99865260e-07j\n",
       "   -1.99979435e-03+9.99865260e-07j  3.99972768e-06+0.00000000e+00j]\n",
       "  [ 1.99979435e-03+9.99865260e-07j  9.99795521e-01+9.99797187e-04j\n",
       "   -3.99946104e-06+0.00000000e+00j -1.99979435e-03-9.99865260e-07j]\n",
       "  [ 1.99979435e-03-9.99865260e-07j -3.99946104e-06+0.00000000e+00j\n",
       "    9.99795521e-01-9.99797187e-04j -1.99979435e-03+9.99865260e-07j]\n",
       "  [ 3.99972768e-06+0.00000000e+00j  1.99979435e-03+9.99865260e-07j\n",
       "    1.99979435e-03-9.99865260e-07j  9.99996000e-01+0.00000000e+00j]]]"
      ]
     },
     "execution_count": 288,
     "metadata": {},
     "output_type": "execute_result"
    }
   ],
   "source": [
    "L_v"
   ]
  },
  {
   "cell_type": "markdown",
   "metadata": {},
   "source": [
    "### Major Functions 2"
   ]
  },
  {
   "cell_type": "code",
   "execution_count": 289,
   "metadata": {
    "ExecuteTime": {
     "end_time": "2019-02-04T15:01:18.307326Z",
     "start_time": "2019-02-04T15:01:18.303076Z"
    }
   },
   "outputs": [],
   "source": [
    "def L_comma_k_maker(xi_vec, k, dt):\n",
    "    r\"\"\"Making of the derivative of full $L(t)$ at time $t_{k}$\"\"\"\n",
    "    N = xi_vec.size \n",
    "    # Determining the size of xi, and thus the time_steps indirectly.\n",
    "    L_v = L_vec(xi_vec, dt)# Making of the full $L(t)$\n",
    "    inner_part = L_I # Beginner for the for loop\n",
    "    for i in range(N):\n",
    "        if i == ( N - 1 - k ):\n",
    "            # The step at which $X_{k}(t)$ has to be inserted \n",
    "            inner_part = inner_part*x_k*L_v[k - 1]\n",
    "        else:\n",
    "            # Usual multiplications of $L_{k}$\n",
    "            inner_part = inner_part*L_v[N - 1 - i]\n",
    "    l_comma_k = inner_part\n",
    "    return l_comma_k\n",
    "    "
   ]
  },
  {
   "cell_type": "code",
   "execution_count": 290,
   "metadata": {
    "ExecuteTime": {
     "end_time": "2019-02-04T15:01:18.325407Z",
     "start_time": "2019-02-04T15:01:18.314072Z"
    }
   },
   "outputs": [
    {
     "data": {
      "text/latex": [
       "Quantum object: dims = [[2, 2], [2, 2]], shape = (4, 4), type = oper, isherm = False\\begin{equation*}\\left(\\begin{array}{*{11}c}1.000 & (-0.003-3.499\\times10^{-06}j) & (-0.003+3.499\\times10^{-06}j) & 8.999\\times10^{-06}\\\\(0.003+2.499\\times10^{-06}j) & (1.000+0.002j) & (-8.998\\times10^{-06}+2.999\\times10^{-09}j) & (-0.003-2.499\\times10^{-06}j)\\\\(0.003-2.499\\times10^{-06}j) & (-8.998\\times10^{-06}-2.999\\times10^{-09}j) & (1.000-0.002j) & (-0.003+2.499\\times10^{-06}j)\\\\8.999\\times10^{-06} & (0.003+3.499\\times10^{-06}j) & (0.003-3.499\\times10^{-06}j) & 1.000\\\\\\end{array}\\right)\\end{equation*}"
      ],
      "text/plain": [
       "Quantum object: dims = [[2, 2], [2, 2]], shape = (4, 4), type = oper, isherm = False\n",
       "Qobj data =\n",
       "[[ 9.99991001e-01+0.00000000e+00j -2.99927960e-03-3.49898670e-06j\n",
       "  -2.99927960e-03+3.49898670e-06j  8.99883703e-06+0.00000000e+00j]\n",
       " [ 2.99948056e-03+2.49939255e-06j  9.99589083e-01+1.99918650e-03j\n",
       "  -8.99750347e-06+2.99899242e-09j -2.99948056e-03-2.49939255e-06j]\n",
       " [ 2.99948056e-03-2.49939255e-06j -8.99750347e-06-2.99899242e-09j\n",
       "   9.99589083e-01-1.99918650e-03j -2.99948056e-03+2.49939255e-06j]\n",
       " [ 8.99883703e-06+0.00000000e+00j  2.99927960e-03+3.49898670e-06j\n",
       "   2.99927960e-03-3.49898670e-06j  9.99991001e-01+0.00000000e+00j]]"
      ]
     },
     "execution_count": 290,
     "metadata": {},
     "output_type": "execute_result"
    }
   ],
   "source": [
    "# L_comma_k_maker(xi_vec, k, dt)\n",
    "L_comma_k_maker(xi_vec_test, 2, 0.001)"
   ]
  },
  {
   "cell_type": "code",
   "execution_count": 291,
   "metadata": {
    "ExecuteTime": {
     "end_time": "2019-02-04T15:01:18.332814Z",
     "start_time": "2019-02-04T15:01:18.327786Z"
    }
   },
   "outputs": [],
   "source": [
    "def updater(xi_vec, dt, epsilon):\n",
    "    r\"\"\"Implementing the GRAPE update step\"\"\"\n",
    "    xi_vec_size = xi_vec.size # finding the size of xi\n",
    "    L_full = L_full_maker(xi_vec, dt)\n",
    "    di = []\n",
    "    for k in range(xi_vec_size):\n",
    "        # Building the thing to be added to the old function\n",
    "        L_comma_k = L_comma_k_maker(xi_vec, k, dt)\n",
    "        differentiated = T - L_comma_k\n",
    "        plain = T - L_full\n",
    "        c = -differentiated.dag()*plain\n",
    "        d = -plain.dag()*differentiated\n",
    "        inside = c.tr() + d.tr()\n",
    "        di.append(epsilon*inside)\n",
    "\n",
    "    diff = array(di)\n",
    "    xi_new_vec = xi_vec + diff\n",
    "    return diff, xi_new_vec\n",
    "    "
   ]
  },
  {
   "cell_type": "code",
   "execution_count": 292,
   "metadata": {
    "ExecuteTime": {
     "end_time": "2019-02-04T15:01:18.355281Z",
     "start_time": "2019-02-04T15:01:18.335339Z"
    }
   },
   "outputs": [
    {
     "data": {
      "text/plain": [
       "(array([-0.008+0.j, -0.008+0.j]), array([0.992+0.j, 1.992+0.j]))"
      ]
     },
     "execution_count": 292,
     "metadata": {},
     "output_type": "execute_result"
    }
   ],
   "source": [
    "#  updater(xi_vec, dt, epsilon)\n",
    "updater(xi_vec_test, 0.001, 0.001)"
   ]
  },
  {
   "cell_type": "code",
   "execution_count": 293,
   "metadata": {
    "ExecuteTime": {
     "end_time": "2019-02-04T15:01:18.361099Z",
     "start_time": "2019-02-04T15:01:18.357103Z"
    },
    "code_folding": []
   },
   "outputs": [],
   "source": [
    "def terminator(max_iter, time_steps, total_time, epsilon):\n",
    "    r\"\"\"Brief description of the function\"\"\"\n",
    "    \n",
    "    xi_initial = terminator_nd(max_iter, time_steps, total_time, epsilon)\n",
    "    #1000*random_sample((time_steps,))\n",
    "    dt = total_time/time_steps\n",
    "    xi_diff, xi_new_vec = updater(xi_initial, dt, epsilon)\n",
    "    \n",
    "    for i in range(max_iter):\n",
    "        if amax(xi_diff) < epsilon**2 :\n",
    "            xi_final = xi_new_vec\n",
    "            break\n",
    "        else :\n",
    "            xi_diff, xi_new_vec = updater(xi_new_vec, dt, epsilon)\n",
    "            print(i)\n",
    "            print(amax(xi_diff))\n",
    "            \n",
    "        \n",
    "    xi_final = xi_new_vec    \n",
    "    return xi_final"
   ]
  },
  {
   "cell_type": "markdown",
   "metadata": {},
   "source": [
    "# Running stuff"
   ]
  },
  {
   "cell_type": "markdown",
   "metadata": {},
   "source": [
    "### Try1"
   ]
  },
  {
   "cell_type": "code",
   "execution_count": 294,
   "metadata": {
    "ExecuteTime": {
     "end_time": "2019-02-04T15:01:18.610755Z",
     "start_time": "2019-02-04T15:01:18.605448Z"
    }
   },
   "outputs": [],
   "source": [
    "total_time = pi/omega_1\n",
    "epsilon = 10**(-6)\n",
    "max_iter = 10#10**4#1000#100#50#20\n",
    "time_steps = 20\n",
    "dt = total_time/time_steps"
   ]
  },
  {
   "cell_type": "code",
   "execution_count": 295,
   "metadata": {
    "ExecuteTime": {
     "end_time": "2019-02-04T15:01:20.009408Z",
     "start_time": "2019-02-04T15:01:18.613296Z"
    }
   },
   "outputs": [
    {
     "data": {
      "text/plain": [
       "array([487.11444908+0.j, 838.11042998+0.j, 306.09558376+0.j,\n",
       "        92.76425756+0.j, 402.86813558+0.j, 213.84928642+0.j,\n",
       "       357.56364339+0.j, 756.9086327 +0.j, 475.38384543+0.j,\n",
       "       697.44257893+0.j, 741.29020318+0.j, 934.62511264+0.j,\n",
       "       954.54153909+0.j, 834.88773707+0.j, 977.63024697+0.j,\n",
       "       239.45095167+0.j, 478.1472171 +0.j, 306.11870299+0.j,\n",
       "       745.35809871+0.j, 444.30144677+0.j])"
      ]
     },
     "execution_count": 295,
     "metadata": {},
     "output_type": "execute_result"
    }
   ],
   "source": [
    "xi_opt = terminator(max_iter, time_steps, total_time, epsilon)\n",
    "xi_opt"
   ]
  },
  {
   "cell_type": "code",
   "execution_count": 296,
   "metadata": {
    "ExecuteTime": {
     "end_time": "2019-02-04T15:01:20.056039Z",
     "start_time": "2019-02-04T15:01:20.011181Z"
    }
   },
   "outputs": [
    {
     "data": {
      "text/plain": [
       "-4.220315297422168"
      ]
     },
     "execution_count": 296,
     "metadata": {},
     "output_type": "execute_result"
    }
   ],
   "source": [
    "F(xi_opt, dt)"
   ]
  },
  {
   "cell_type": "code",
   "execution_count": 297,
   "metadata": {
    "ExecuteTime": {
     "end_time": "2019-02-04T15:01:20.062063Z",
     "start_time": "2019-02-04T15:01:20.058111Z"
    }
   },
   "outputs": [
    {
     "data": {
      "text/plain": [
       "10"
      ]
     },
     "execution_count": 297,
     "metadata": {},
     "output_type": "execute_result"
    }
   ],
   "source": [
    "max_iter"
   ]
  },
  {
   "cell_type": "code",
   "execution_count": 298,
   "metadata": {
    "ExecuteTime": {
     "end_time": "2019-02-04T15:01:20.069936Z",
     "start_time": "2019-02-04T15:01:20.064129Z"
    }
   },
   "outputs": [
    {
     "data": {
      "text/latex": [
       "Quantum object: dims = [[2, 2], [2, 2]], shape = (4, 4), type = oper, isherm = True\\begin{equation*}\\left(\\begin{array}{*{11}c}0.0 & 0.0 & 0.0 & 1.0\\\\0.0 & 0.0 & 1.0 & 0.0\\\\0.0 & 1.0 & 0.0 & 0.0\\\\1.0 & 0.0 & 0.0 & 0.0\\\\\\end{array}\\right)\\end{equation*}"
      ],
      "text/plain": [
       "Quantum object: dims = [[2, 2], [2, 2]], shape = (4, 4), type = oper, isherm = True\n",
       "Qobj data =\n",
       "[[0. 0. 0. 1.]\n",
       " [0. 0. 1. 0.]\n",
       " [0. 1. 0. 0.]\n",
       " [1. 0. 0. 0.]]"
      ]
     },
     "execution_count": 298,
     "metadata": {},
     "output_type": "execute_result"
    }
   ],
   "source": [
    "T"
   ]
  },
  {
   "cell_type": "code",
   "execution_count": 299,
   "metadata": {
    "ExecuteTime": {
     "end_time": "2019-02-04T15:01:20.112026Z",
     "start_time": "2019-02-04T15:01:20.072211Z"
    }
   },
   "outputs": [
    {
     "data": {
      "text/latex": [
       "Quantum object: dims = [[2, 2], [2, 2]], shape = (4, 4), type = oper, isherm = False\\begin{equation*}\\left(\\begin{array}{*{11}c}0.249 & (-0.089-0.001j) & (-0.089+0.001j) & 0.751\\\\(0.089+0.001j) & (-0.109+5.846\\times10^{-04}j) & (-0.394-2.702\\times10^{-04}j) & (-0.089-0.001j)\\\\(0.089-0.001j) & (-0.394+2.702\\times10^{-04}j) & (-0.109-5.846\\times10^{-04}j) & (-0.089+0.001j)\\\\0.751 & (0.089+0.001j) & (0.089-0.001j) & 0.249\\\\\\end{array}\\right)\\end{equation*}"
      ],
      "text/plain": [
       "Quantum object: dims = [[2, 2], [2, 2]], shape = (4, 4), type = oper, isherm = False\n",
       "Qobj data =\n",
       "[[ 0.24866774+0.j         -0.08910616-0.00138601j -0.08910616+0.00138601j\n",
       "   0.75133226+0.j        ]\n",
       " [ 0.08895835+0.00134218j -0.10925458+0.00058462j -0.39385614-0.00027019j\n",
       "  -0.08895835-0.00134218j]\n",
       " [ 0.08895835-0.00134218j -0.39385614+0.00027019j -0.10925458-0.00058462j\n",
       "  -0.08895835+0.00134218j]\n",
       " [ 0.75133226+0.j          0.08910616+0.00138601j  0.08910616-0.00138601j\n",
       "   0.24866774+0.j        ]]"
      ]
     },
     "execution_count": 299,
     "metadata": {},
     "output_type": "execute_result"
    }
   ],
   "source": [
    "L_full_maker(xi_opt, dt)"
   ]
  },
  {
   "cell_type": "code",
   "execution_count": 300,
   "metadata": {
    "ExecuteTime": {
     "end_time": "2019-02-04T15:01:20.500481Z",
     "start_time": "2019-02-04T15:01:20.114253Z"
    }
   },
   "outputs": [
    {
     "data": {
      "text/plain": [
       "(<Figure size 576x432 with 2 Axes>,\n",
       " <matplotlib.axes._subplots.AxesSubplot at 0x1a17034f60>)"
      ]
     },
     "execution_count": 300,
     "metadata": {},
     "output_type": "execute_result"
    },
    {
     "data": {
      "image/png": "[encoded data removed]",
      "text/plain": [
       "<Figure size 576x432 with 2 Axes>"
      ]
     },
     "metadata": {},
     "output_type": "display_data"
    }
   ],
   "source": [
    "hinton(L_full_maker(xi_opt, dt))"
   ]
  },
  {
   "cell_type": "markdown",
   "metadata": {},
   "source": []
  },
  {
   "cell_type": "code",
   "execution_count": null,
   "metadata": {},
   "outputs": [],
   "source": []
  },
  {
   "cell_type": "markdown",
   "metadata": {},
   "source": [
    "### Try2"
   ]
  },
  {
   "cell_type": "code",
   "execution_count": 301,
   "metadata": {
    "ExecuteTime": {
     "end_time": "2019-02-04T15:01:20.505910Z",
     "start_time": "2019-02-04T15:01:20.502709Z"
    }
   },
   "outputs": [],
   "source": [
    "total_time = 3*pi/omega_1\n",
    "epsilon = 10**(-6)\n",
    "max_iter = 10#10**4#1000#100#50#20\n",
    "time_steps = 20\n",
    "dt = total_time/time_steps"
   ]
  },
  {
   "cell_type": "code",
   "execution_count": 302,
   "metadata": {
    "ExecuteTime": {
     "end_time": "2019-02-04T15:01:21.899495Z",
     "start_time": "2019-02-04T15:01:20.508006Z"
    }
   },
   "outputs": [
    {
     "data": {
      "text/plain": [
       "array([837.23720663+0.j, 991.66577831+0.j, 473.21163489+0.j,\n",
       "       664.5400768 +0.j, 926.45707821+0.j, 301.95379867+0.j,\n",
       "       692.49606049+0.j, 757.55775442+0.j, 787.82286238+0.j,\n",
       "       199.20895569+0.j, 607.14662094+0.j,  13.37026445+0.j,\n",
       "       334.3484679 +0.j, 570.80514171+0.j, 569.019194  +0.j,\n",
       "       401.58249453+0.j, 633.44857961+0.j,  14.62520509+0.j,\n",
       "       878.32044861+0.j, 930.75779055+0.j])"
      ]
     },
     "execution_count": 302,
     "metadata": {},
     "output_type": "execute_result"
    }
   ],
   "source": [
    "xi_opt = terminator(max_iter, time_steps, total_time, epsilon)\n",
    "xi_opt"
   ]
  },
  {
   "cell_type": "code",
   "execution_count": 303,
   "metadata": {
    "ExecuteTime": {
     "end_time": "2019-02-04T15:01:21.941404Z",
     "start_time": "2019-02-04T15:01:21.901760Z"
    }
   },
   "outputs": [
    {
     "data": {
      "text/plain": [
       "-3.09370672460775"
      ]
     },
     "execution_count": 303,
     "metadata": {},
     "output_type": "execute_result"
    }
   ],
   "source": [
    "F(xi_opt, dt)"
   ]
  },
  {
   "cell_type": "code",
   "execution_count": 304,
   "metadata": {
    "ExecuteTime": {
     "end_time": "2019-02-04T15:01:21.947533Z",
     "start_time": "2019-02-04T15:01:21.943478Z"
    }
   },
   "outputs": [
    {
     "data": {
      "text/plain": [
       "10"
      ]
     },
     "execution_count": 304,
     "metadata": {},
     "output_type": "execute_result"
    }
   ],
   "source": [
    "max_iter"
   ]
  },
  {
   "cell_type": "code",
   "execution_count": 305,
   "metadata": {
    "ExecuteTime": {
     "end_time": "2019-02-04T15:01:21.956286Z",
     "start_time": "2019-02-04T15:01:21.949529Z"
    }
   },
   "outputs": [
    {
     "data": {
      "text/latex": [
       "Quantum object: dims = [[2, 2], [2, 2]], shape = (4, 4), type = oper, isherm = True\\begin{equation*}\\left(\\begin{array}{*{11}c}0.0 & 0.0 & 0.0 & 1.0\\\\0.0 & 0.0 & 1.0 & 0.0\\\\0.0 & 1.0 & 0.0 & 0.0\\\\1.0 & 0.0 & 0.0 & 0.0\\\\\\end{array}\\right)\\end{equation*}"
      ],
      "text/plain": [
       "Quantum object: dims = [[2, 2], [2, 2]], shape = (4, 4), type = oper, isherm = True\n",
       "Qobj data =\n",
       "[[0. 0. 0. 1.]\n",
       " [0. 0. 1. 0.]\n",
       " [0. 1. 0. 0.]\n",
       " [1. 0. 0. 0.]]"
      ]
     },
     "execution_count": 305,
     "metadata": {},
     "output_type": "execute_result"
    }
   ],
   "source": [
    "T"
   ]
  },
  {
   "cell_type": "code",
   "execution_count": 306,
   "metadata": {
    "ExecuteTime": {
     "end_time": "2019-02-04T15:01:22.001281Z",
     "start_time": "2019-02-04T15:01:21.959340Z"
    }
   },
   "outputs": [
    {
     "data": {
      "text/latex": [
       "Quantum object: dims = [[2, 2], [2, 2]], shape = (4, 4), type = oper, isherm = False\\begin{equation*}\\left(\\begin{array}{*{11}c}0.467 & (0.069+5.431\\times10^{-04}j) & (0.069-5.431\\times10^{-04}j) & 0.533\\\\(-0.068-0.004j) & (-0.021+7.151\\times10^{-04}j) & (-0.044-4.681\\times10^{-04}j) & (0.068+0.004j)\\\\(-0.068+0.004j) & (-0.044+4.681\\times10^{-04}j) & (-0.021-7.151\\times10^{-04}j) & (0.068-0.004j)\\\\0.533 & (-0.069-5.431\\times10^{-04}j) & (-0.069+5.431\\times10^{-04}j) & 0.467\\\\\\end{array}\\right)\\end{equation*}"
      ],
      "text/plain": [
       "Quantum object: dims = [[2, 2], [2, 2]], shape = (4, 4), type = oper, isherm = False\n",
       "Qobj data =\n",
       "[[ 0.46747184+0.j          0.0686161 +0.00054309j  0.0686161 -0.00054309j\n",
       "   0.53252816+0.j        ]\n",
       " [-0.06824192-0.00375552j -0.0212742 +0.00071507j -0.04430893-0.00046809j\n",
       "   0.06824192+0.00375552j]\n",
       " [-0.06824192+0.00375552j -0.04430893+0.00046809j -0.0212742 -0.00071507j\n",
       "   0.06824192-0.00375552j]\n",
       " [ 0.53252816+0.j         -0.0686161 -0.00054309j -0.0686161 +0.00054309j\n",
       "   0.46747184+0.j        ]]"
      ]
     },
     "execution_count": 306,
     "metadata": {},
     "output_type": "execute_result"
    }
   ],
   "source": [
    "L_full_maker(xi_opt, dt)"
   ]
  },
  {
   "cell_type": "code",
   "execution_count": 307,
   "metadata": {
    "ExecuteTime": {
     "end_time": "2019-02-04T15:01:22.307576Z",
     "start_time": "2019-02-04T15:01:22.003265Z"
    }
   },
   "outputs": [
    {
     "data": {
      "text/plain": [
       "(<Figure size 576x432 with 2 Axes>,\n",
       " <matplotlib.axes._subplots.AxesSubplot at 0x1a171a8c18>)"
      ]
     },
     "execution_count": 307,
     "metadata": {},
     "output_type": "execute_result"
    },
    {
     "data": {
      "image/png": "[encoded data removed]",
      "text/plain": [
       "<Figure size 576x432 with 2 Axes>"
      ]
     },
     "metadata": {},
     "output_type": "display_data"
    }
   ],
   "source": [
    "hinton(L_full_maker(xi_opt, dt))"
   ]
  },
  {
   "cell_type": "markdown",
   "metadata": {},
   "source": []
  },
  {
   "cell_type": "markdown",
   "metadata": {},
   "source": [
    "### Try"
   ]
  },
  {
   "cell_type": "code",
   "execution_count": 308,
   "metadata": {
    "ExecuteTime": {
     "end_time": "2019-02-04T15:01:22.312529Z",
     "start_time": "2019-02-04T15:01:22.309553Z"
    }
   },
   "outputs": [],
   "source": [
    "total_time = 4*pi/omega_1\n",
    "epsilon = 10**(-6)\n",
    "max_iter = 10#10**4#1000#100#50#20\n",
    "time_steps = 20\n",
    "dt = total_time/time_steps"
   ]
  },
  {
   "cell_type": "code",
   "execution_count": 309,
   "metadata": {
    "ExecuteTime": {
     "end_time": "2019-02-04T15:01:24.551320Z",
     "start_time": "2019-02-04T15:01:22.314784Z"
    }
   },
   "outputs": [
    {
     "data": {
      "text/plain": [
       "array([179.17782967+0.j, 421.91159552+0.j,  19.61381563+0.j,\n",
       "       133.53042297+0.j,  54.61885117+0.j, 536.07159273+0.j,\n",
       "       444.63503324+0.j, 233.36322738+0.j, 786.98649217+0.j,\n",
       "       892.29917281+0.j, 691.7763256 +0.j, 410.53737169+0.j,\n",
       "       774.84078755+0.j, 366.06332923+0.j, 642.29217422+0.j,\n",
       "       875.049807  +0.j, 659.56391445+0.j, 403.99889403+0.j,\n",
       "       591.43221491+0.j, 487.90108882+0.j])"
      ]
     },
     "execution_count": 309,
     "metadata": {},
     "output_type": "execute_result"
    }
   ],
   "source": [
    "xi_opt = terminator(max_iter, time_steps, total_time, epsilon)\n",
    "xi_opt"
   ]
  },
  {
   "cell_type": "code",
   "execution_count": 310,
   "metadata": {
    "ExecuteTime": {
     "end_time": "2019-02-04T15:01:24.602522Z",
     "start_time": "2019-02-04T15:01:24.553345Z"
    }
   },
   "outputs": [
    {
     "data": {
      "text/plain": [
       "-3.026736585146171"
      ]
     },
     "execution_count": 310,
     "metadata": {},
     "output_type": "execute_result"
    }
   ],
   "source": [
    "F(xi_opt, dt)"
   ]
  },
  {
   "cell_type": "code",
   "execution_count": 311,
   "metadata": {
    "ExecuteTime": {
     "end_time": "2019-02-04T15:01:24.617685Z",
     "start_time": "2019-02-04T15:01:24.610365Z"
    }
   },
   "outputs": [
    {
     "data": {
      "text/plain": [
       "10"
      ]
     },
     "execution_count": 311,
     "metadata": {},
     "output_type": "execute_result"
    }
   ],
   "source": [
    "max_iter"
   ]
  },
  {
   "cell_type": "code",
   "execution_count": 312,
   "metadata": {
    "ExecuteTime": {
     "end_time": "2019-02-04T15:01:24.627363Z",
     "start_time": "2019-02-04T15:01:24.619662Z"
    }
   },
   "outputs": [
    {
     "data": {
      "text/latex": [
       "Quantum object: dims = [[2, 2], [2, 2]], shape = (4, 4), type = oper, isherm = True\\begin{equation*}\\left(\\begin{array}{*{11}c}0.0 & 0.0 & 0.0 & 1.0\\\\0.0 & 0.0 & 1.0 & 0.0\\\\0.0 & 1.0 & 0.0 & 0.0\\\\1.0 & 0.0 & 0.0 & 0.0\\\\\\end{array}\\right)\\end{equation*}"
      ],
      "text/plain": [
       "Quantum object: dims = [[2, 2], [2, 2]], shape = (4, 4), type = oper, isherm = True\n",
       "Qobj data =\n",
       "[[0. 0. 0. 1.]\n",
       " [0. 0. 1. 0.]\n",
       " [0. 1. 0. 0.]\n",
       " [1. 0. 0. 0.]]"
      ]
     },
     "execution_count": 312,
     "metadata": {},
     "output_type": "execute_result"
    }
   ],
   "source": [
    "T"
   ]
  },
  {
   "cell_type": "code",
   "execution_count": 313,
   "metadata": {
    "ExecuteTime": {
     "end_time": "2019-02-04T15:01:24.677940Z",
     "start_time": "2019-02-04T15:01:24.630214Z"
    }
   },
   "outputs": [
    {
     "data": {
      "text/latex": [
       "Quantum object: dims = [[2, 2], [2, 2]], shape = (4, 4), type = oper, isherm = False\\begin{equation*}\\left(\\begin{array}{*{11}c}0.495 & (-0.040-3.173\\times10^{-04}j) & (-0.040+3.173\\times10^{-04}j) & 0.505\\\\(0.040-7.499\\times10^{-07}j) & (-0.002-2.101\\times10^{-04}j) & (-0.009+5.040\\times10^{-04}j) & (-0.040+7.499\\times10^{-07}j)\\\\(0.040+7.499\\times10^{-07}j) & (-0.009-5.040\\times10^{-04}j) & (-0.002+2.101\\times10^{-04}j) & (-0.040-7.499\\times10^{-07}j)\\\\0.505 & (0.040+3.173\\times10^{-04}j) & (0.040-3.173\\times10^{-04}j) & 0.495\\\\\\end{array}\\right)\\end{equation*}"
      ],
      "text/plain": [
       "Quantum object: dims = [[2, 2], [2, 2]], shape = (4, 4), type = oper, isherm = False\n",
       "Qobj data =\n",
       "[[ 0.49466562+0.00000000e+00j -0.04009713-3.17281537e-04j\n",
       "  -0.04009713+3.17281537e-04j  0.50533438+0.00000000e+00j]\n",
       " [ 0.04016701-7.49925584e-07j -0.00216658-2.10106765e-04j\n",
       "  -0.00872822+5.04042445e-04j -0.04016701+7.49925584e-07j]\n",
       " [ 0.04016701+7.49925584e-07j -0.00872822-5.04042445e-04j\n",
       "  -0.00216658+2.10106765e-04j -0.04016701-7.49925584e-07j]\n",
       " [ 0.50533438+0.00000000e+00j  0.04009713+3.17281537e-04j\n",
       "   0.04009713-3.17281537e-04j  0.49466562+0.00000000e+00j]]"
      ]
     },
     "execution_count": 313,
     "metadata": {},
     "output_type": "execute_result"
    }
   ],
   "source": [
    "L_full_maker(xi_opt, dt)"
   ]
  },
  {
   "cell_type": "code",
   "execution_count": 314,
   "metadata": {
    "ExecuteTime": {
     "end_time": "2019-02-04T15:01:25.005904Z",
     "start_time": "2019-02-04T15:01:24.680652Z"
    }
   },
   "outputs": [
    {
     "data": {
      "text/plain": [
       "(<Figure size 576x432 with 2 Axes>,\n",
       " <matplotlib.axes._subplots.AxesSubplot at 0x1a174fb240>)"
      ]
     },
     "execution_count": 314,
     "metadata": {},
     "output_type": "execute_result"
    },
    {
     "data": {
      "image/png": "[encoded data removed]",
      "text/plain": [
       "<Figure size 576x432 with 2 Axes>"
      ]
     },
     "metadata": {},
     "output_type": "display_data"
    }
   ],
   "source": [
    "hinton(L_full_maker(xi_opt, dt))"
   ]
  },
  {
   "cell_type": "markdown",
   "metadata": {},
   "source": [
    "### Try"
   ]
  },
  {
   "cell_type": "code",
   "execution_count": 315,
   "metadata": {
    "ExecuteTime": {
     "end_time": "2019-02-04T15:01:25.011624Z",
     "start_time": "2019-02-04T15:01:25.008153Z"
    }
   },
   "outputs": [],
   "source": [
    "total_time = 5*pi/omega_1\n",
    "epsilon = 10**(-6)\n",
    "max_iter = 10#10**4#1000#100#50#20\n",
    "time_steps = 20\n",
    "dt = total_time/time_steps"
   ]
  },
  {
   "cell_type": "code",
   "execution_count": 316,
   "metadata": {
    "ExecuteTime": {
     "end_time": "2019-02-04T15:01:26.387380Z",
     "start_time": "2019-02-04T15:01:25.014071Z"
    }
   },
   "outputs": [
    {
     "data": {
      "text/plain": [
       "array([520.39574777+0.j, 560.17955127+0.j, 664.11290749+0.j,\n",
       "       287.20757105+0.j, 486.84641453+0.j, 435.77976891+0.j,\n",
       "       485.51144461+0.j,  70.64481986+0.j,  21.81349392+0.j,\n",
       "       911.81126084+0.j, 698.13582919+0.j, 566.46010426+0.j,\n",
       "       903.96252578+0.j, 723.21676992+0.j, 168.62732297+0.j,\n",
       "       680.89594374+0.j, 668.53741756+0.j, 593.99125172+0.j,\n",
       "       169.61207405+0.j, 264.44962292+0.j])"
      ]
     },
     "execution_count": 316,
     "metadata": {},
     "output_type": "execute_result"
    }
   ],
   "source": [
    "xi_opt = terminator(max_iter, time_steps, total_time, epsilon)\n",
    "xi_opt"
   ]
  },
  {
   "cell_type": "code",
   "execution_count": 317,
   "metadata": {
    "ExecuteTime": {
     "end_time": "2019-02-04T15:01:26.429331Z",
     "start_time": "2019-02-04T15:01:26.389546Z"
    }
   },
   "outputs": [
    {
     "data": {
      "text/plain": [
       "-3.0076677010313495"
      ]
     },
     "execution_count": 317,
     "metadata": {},
     "output_type": "execute_result"
    }
   ],
   "source": [
    "F(xi_opt, dt)"
   ]
  },
  {
   "cell_type": "code",
   "execution_count": 318,
   "metadata": {
    "ExecuteTime": {
     "end_time": "2019-02-04T15:01:26.435434Z",
     "start_time": "2019-02-04T15:01:26.431345Z"
    }
   },
   "outputs": [
    {
     "data": {
      "text/plain": [
       "10"
      ]
     },
     "execution_count": 318,
     "metadata": {},
     "output_type": "execute_result"
    }
   ],
   "source": [
    "max_iter"
   ]
  },
  {
   "cell_type": "code",
   "execution_count": 319,
   "metadata": {
    "ExecuteTime": {
     "end_time": "2019-02-04T15:01:26.445037Z",
     "start_time": "2019-02-04T15:01:26.437912Z"
    }
   },
   "outputs": [
    {
     "data": {
      "text/latex": [
       "Quantum object: dims = [[2, 2], [2, 2]], shape = (4, 4), type = oper, isherm = True\\begin{equation*}\\left(\\begin{array}{*{11}c}0.0 & 0.0 & 0.0 & 1.0\\\\0.0 & 0.0 & 1.0 & 0.0\\\\0.0 & 1.0 & 0.0 & 0.0\\\\1.0 & 0.0 & 0.0 & 0.0\\\\\\end{array}\\right)\\end{equation*}"
      ],
      "text/plain": [
       "Quantum object: dims = [[2, 2], [2, 2]], shape = (4, 4), type = oper, isherm = True\n",
       "Qobj data =\n",
       "[[0. 0. 0. 1.]\n",
       " [0. 0. 1. 0.]\n",
       " [0. 1. 0. 0.]\n",
       " [1. 0. 0. 0.]]"
      ]
     },
     "execution_count": 319,
     "metadata": {},
     "output_type": "execute_result"
    }
   ],
   "source": [
    "T"
   ]
  },
  {
   "cell_type": "code",
   "execution_count": 320,
   "metadata": {
    "ExecuteTime": {
     "end_time": "2019-02-04T15:01:26.487687Z",
     "start_time": "2019-02-04T15:01:26.446909Z"
    }
   },
   "outputs": [
    {
     "data": {
      "text/latex": [
       "Quantum object: dims = [[2, 2], [2, 2]], shape = (4, 4), type = oper, isherm = False\\begin{equation*}\\left(\\begin{array}{*{11}c}0.517 & (-0.013-7.895\\times10^{-06}j) & (-0.013+7.895\\times10^{-06}j) & 0.483\\\\(0.013+6.156\\times10^{-06}j) & (0.018+6.537\\times10^{-05}j) & (0.016+2.601\\times10^{-05}j) & (-0.013-6.156\\times10^{-06}j)\\\\(0.013-6.156\\times10^{-06}j) & (0.016-2.601\\times10^{-05}j) & (0.018-6.537\\times10^{-05}j) & (-0.013+6.156\\times10^{-06}j)\\\\0.483 & (0.013+7.895\\times10^{-06}j) & (0.013-7.895\\times10^{-06}j) & 0.517\\\\\\end{array}\\right)\\end{equation*}"
      ],
      "text/plain": [
       "Quantum object: dims = [[2, 2], [2, 2]], shape = (4, 4), type = oper, isherm = False\n",
       "Qobj data =\n",
       "[[ 0.51732071+0.00000000e+00j -0.01295988-7.89541902e-06j\n",
       "  -0.01295988+7.89541902e-06j  0.48267929+0.00000000e+00j]\n",
       " [ 0.01292932+6.15553858e-06j  0.018206  +6.53718692e-05j\n",
       "   0.01633812+2.60148032e-05j -0.01292932-6.15553858e-06j]\n",
       " [ 0.01292932-6.15553858e-06j  0.01633812-2.60148032e-05j\n",
       "   0.018206  -6.53718692e-05j -0.01292932+6.15553858e-06j]\n",
       " [ 0.48267929+0.00000000e+00j  0.01295988+7.89541902e-06j\n",
       "   0.01295988-7.89541902e-06j  0.51732071+0.00000000e+00j]]"
      ]
     },
     "execution_count": 320,
     "metadata": {},
     "output_type": "execute_result"
    }
   ],
   "source": [
    "L_full_maker(xi_opt, dt)"
   ]
  },
  {
   "cell_type": "code",
   "execution_count": 321,
   "metadata": {
    "ExecuteTime": {
     "end_time": "2019-02-04T15:01:27.075804Z",
     "start_time": "2019-02-04T15:01:26.489754Z"
    }
   },
   "outputs": [
    {
     "data": {
      "text/plain": [
       "(<Figure size 576x432 with 2 Axes>,\n",
       " <matplotlib.axes._subplots.AxesSubplot at 0x1a1765dbe0>)"
      ]
     },
     "execution_count": 321,
     "metadata": {},
     "output_type": "execute_result"
    },
    {
     "data": {
      "image/png": "[encoded data removed]",
      "text/plain": [
       "<Figure size 576x432 with 2 Axes>"
      ]
     },
     "metadata": {},
     "output_type": "display_data"
    }
   ],
   "source": [
    "hinton(L_full_maker(xi_opt, dt))"
   ]
  },
  {
   "cell_type": "markdown",
   "metadata": {},
   "source": [
    "### Try"
   ]
  },
  {
   "cell_type": "code",
   "execution_count": 322,
   "metadata": {
    "ExecuteTime": {
     "end_time": "2019-02-04T15:01:27.094139Z",
     "start_time": "2019-02-04T15:01:27.078206Z"
    }
   },
   "outputs": [],
   "source": [
    "total_time = 10*pi/omega_1\n",
    "epsilon = 10**(-6)\n",
    "max_iter = 10#10**4#1000#100#50#20\n",
    "time_steps = 20\n",
    "dt = total_time/time_steps"
   ]
  },
  {
   "cell_type": "code",
   "execution_count": 323,
   "metadata": {
    "ExecuteTime": {
     "end_time": "2019-02-04T15:01:28.469685Z",
     "start_time": "2019-02-04T15:01:27.097511Z"
    }
   },
   "outputs": [
    {
     "data": {
      "text/plain": [
       "array([478.63021338+0.j, 334.28599982+0.j, 419.86642083+0.j,\n",
       "       732.99575971+0.j, 799.63719902+0.j, 801.90857991+0.j,\n",
       "       383.39201738+0.j, 578.39273231+0.j, 882.65421585+0.j,\n",
       "       830.31595027+0.j, 685.3937831 +0.j, 558.54135723+0.j,\n",
       "       916.38023558+0.j, 188.49648999+0.j, 357.07917369+0.j,\n",
       "       649.70972012+0.j, 887.6304414 +0.j, 545.55408319+0.j,\n",
       "       518.09741622+0.j, 913.22329242+0.j])"
      ]
     },
     "execution_count": 323,
     "metadata": {},
     "output_type": "execute_result"
    }
   ],
   "source": [
    "xi_opt = terminator(max_iter, time_steps, total_time, epsilon)\n",
    "xi_opt"
   ]
  },
  {
   "cell_type": "code",
   "execution_count": 324,
   "metadata": {
    "ExecuteTime": {
     "end_time": "2019-02-04T15:01:28.511165Z",
     "start_time": "2019-02-04T15:01:28.472118Z"
    }
   },
   "outputs": [
    {
     "data": {
      "text/plain": [
       "-3.000014430624001"
      ]
     },
     "execution_count": 324,
     "metadata": {},
     "output_type": "execute_result"
    }
   ],
   "source": [
    "F(xi_opt, dt)"
   ]
  },
  {
   "cell_type": "code",
   "execution_count": 325,
   "metadata": {
    "ExecuteTime": {
     "end_time": "2019-02-04T15:01:28.517021Z",
     "start_time": "2019-02-04T15:01:28.512871Z"
    }
   },
   "outputs": [
    {
     "data": {
      "text/plain": [
       "10"
      ]
     },
     "execution_count": 325,
     "metadata": {},
     "output_type": "execute_result"
    }
   ],
   "source": [
    "max_iter"
   ]
  },
  {
   "cell_type": "code",
   "execution_count": 326,
   "metadata": {
    "ExecuteTime": {
     "end_time": "2019-02-04T15:01:28.525182Z",
     "start_time": "2019-02-04T15:01:28.518792Z"
    }
   },
   "outputs": [
    {
     "data": {
      "text/latex": [
       "Quantum object: dims = [[2, 2], [2, 2]], shape = (4, 4), type = oper, isherm = True\\begin{equation*}\\left(\\begin{array}{*{11}c}0.0 & 0.0 & 0.0 & 1.0\\\\0.0 & 0.0 & 1.0 & 0.0\\\\0.0 & 1.0 & 0.0 & 0.0\\\\1.0 & 0.0 & 0.0 & 0.0\\\\\\end{array}\\right)\\end{equation*}"
      ],
      "text/plain": [
       "Quantum object: dims = [[2, 2], [2, 2]], shape = (4, 4), type = oper, isherm = True\n",
       "Qobj data =\n",
       "[[0. 0. 0. 1.]\n",
       " [0. 0. 1. 0.]\n",
       " [0. 1. 0. 0.]\n",
       " [1. 0. 0. 0.]]"
      ]
     },
     "execution_count": 326,
     "metadata": {},
     "output_type": "execute_result"
    }
   ],
   "source": [
    "T"
   ]
  },
  {
   "cell_type": "code",
   "execution_count": 327,
   "metadata": {
    "ExecuteTime": {
     "end_time": "2019-02-04T15:01:28.569955Z",
     "start_time": "2019-02-04T15:01:28.528376Z"
    }
   },
   "outputs": [
    {
     "data": {
      "text/latex": [
       "Quantum object: dims = [[2, 2], [2, 2]], shape = (4, 4), type = oper, isherm = False\\begin{equation*}\\left(\\begin{array}{*{11}c}0.500 & (-8.676\\times10^{-04}+3.612\\times10^{-07}j) & (-8.676\\times10^{-04}-3.612\\times10^{-07}j) & 0.500\\\\(8.677\\times10^{-04}-9.525\\times10^{-07}j) & (3.466\\times10^{-04}+3.746\\times10^{-07}j) & (3.431\\times10^{-04}-3.895\\times10^{-07}j) & (-8.677\\times10^{-04}+9.525\\times10^{-07}j)\\\\(8.677\\times10^{-04}+9.525\\times10^{-07}j) & (3.431\\times10^{-04}+3.895\\times10^{-07}j) & (3.466\\times10^{-04}-3.746\\times10^{-07}j) & (-8.677\\times10^{-04}-9.525\\times10^{-07}j)\\\\0.500 & (8.676\\times10^{-04}-3.612\\times10^{-07}j) & (8.676\\times10^{-04}+3.612\\times10^{-07}j) & 0.500\\\\\\end{array}\\right)\\end{equation*}"
      ],
      "text/plain": [
       "Quantum object: dims = [[2, 2], [2, 2]], shape = (4, 4), type = oper, isherm = False\n",
       "Qobj data =\n",
       "[[ 5.00344981e-01+0.00000000e+00j -8.67622856e-04+3.61244508e-07j\n",
       "  -8.67622856e-04-3.61244508e-07j  4.99655019e-01+0.00000000e+00j]\n",
       " [ 8.67709276e-04-9.52542708e-07j  3.46605010e-04+3.74627637e-07j\n",
       "   3.43116590e-04-3.89474600e-07j -8.67709276e-04+9.52542708e-07j]\n",
       " [ 8.67709276e-04+9.52542708e-07j  3.43116590e-04+3.89474600e-07j\n",
       "   3.46605010e-04-3.74627637e-07j -8.67709276e-04-9.52542708e-07j]\n",
       " [ 4.99655019e-01+0.00000000e+00j  8.67622856e-04-3.61244508e-07j\n",
       "   8.67622856e-04+3.61244508e-07j  5.00344981e-01+0.00000000e+00j]]"
      ]
     },
     "execution_count": 327,
     "metadata": {},
     "output_type": "execute_result"
    }
   ],
   "source": [
    "L_full_maker(xi_opt, dt)"
   ]
  },
  {
   "cell_type": "code",
   "execution_count": 328,
   "metadata": {
    "ExecuteTime": {
     "end_time": "2019-02-04T15:01:28.851961Z",
     "start_time": "2019-02-04T15:01:28.572313Z"
    }
   },
   "outputs": [
    {
     "data": {
      "text/plain": [
       "(<Figure size 576x432 with 2 Axes>,\n",
       " <matplotlib.axes._subplots.AxesSubplot at 0x1a178e2828>)"
      ]
     },
     "execution_count": 328,
     "metadata": {},
     "output_type": "execute_result"
    },
    {
     "data": {
      "image/png": "[encoded data removed]",
      "text/plain": [
       "<Figure size 576x432 with 2 Axes>"
      ]
     },
     "metadata": {},
     "output_type": "display_data"
    }
   ],
   "source": [
    "hinton(L_full_maker(xi_opt, dt))"
   ]
  },
  {
   "cell_type": "markdown",
   "metadata": {},
   "source": [
    "### Try2"
   ]
  },
  {
   "cell_type": "code",
   "execution_count": 329,
   "metadata": {
    "ExecuteTime": {
     "end_time": "2019-02-04T15:01:28.857193Z",
     "start_time": "2019-02-04T15:01:28.854149Z"
    }
   },
   "outputs": [],
   "source": [
    "total_time = 3*pi/omega_1\n",
    "epsilon = 10**(-6)\n",
    "max_iter = 10#10**4#1000#100#50#20\n",
    "time_steps = 200\n",
    "dt = total_time/time_steps"
   ]
  },
  {
   "cell_type": "code",
   "execution_count": 330,
   "metadata": {
    "ExecuteTime": {
     "end_time": "2019-02-04T15:03:32.030672Z",
     "start_time": "2019-02-04T15:01:28.859431Z"
    }
   },
   "outputs": [
    {
     "data": {
      "text/plain": [
       "array([873.56822888+0.j,  23.81972828+0.j, 964.44775769+0.j,\n",
       "       965.96001751+0.j, 588.56884912+0.j, 531.37516472+0.j,\n",
       "       338.25230934+0.j, 566.3587327 +0.j, 785.17866436+0.j,\n",
       "        17.4419178 +0.j, 570.55689605+0.j,  94.34586349+0.j,\n",
       "       922.73193716+0.j, 667.27461765+0.j, 101.64886798+0.j,\n",
       "        11.37126068+0.j,  44.63800374+0.j, 169.57170551+0.j,\n",
       "       678.85212089+0.j, 573.27129349+0.j, 490.22186751+0.j,\n",
       "       562.09997474+0.j, 750.18092444+0.j, 807.3846459 +0.j,\n",
       "       121.95843401+0.j, 703.38625716+0.j, 894.59428115+0.j,\n",
       "       763.25235542+0.j, 245.45410716+0.j, 572.42144523+0.j,\n",
       "       135.74420299+0.j, 223.75631591+0.j, 460.7278488 +0.j,\n",
       "        29.01193926+0.j, 906.9096553 +0.j, 145.43627693+0.j,\n",
       "       804.66159261+0.j, 179.92683998+0.j, 180.96961755+0.j,\n",
       "       949.28418348+0.j, 663.66035578+0.j, 411.95922875+0.j,\n",
       "       541.81766557+0.j, 560.28868646+0.j, 920.02054522+0.j,\n",
       "       361.31305987+0.j, 625.11529764+0.j, 212.92915516+0.j,\n",
       "       577.79149922+0.j, 697.07171134+0.j, 920.59995281+0.j,\n",
       "       550.11020235+0.j, 932.76408173+0.j, 280.62350845+0.j,\n",
       "       423.17019736+0.j, 597.92042641+0.j, 894.94083394+0.j,\n",
       "       976.84589495+0.j, 406.51626896+0.j, 406.85256152+0.j,\n",
       "       891.97965659+0.j, 761.7101574 +0.j, 335.08314742+0.j,\n",
       "       257.90092361+0.j, 123.81434986+0.j, 714.32405711+0.j,\n",
       "       894.81980441+0.j,  48.36104824+0.j, 220.48082296+0.j,\n",
       "       834.01618214+0.j, 533.94710675+0.j, 775.39216418+0.j,\n",
       "       978.5665065 +0.j, 866.93033886+0.j, 167.93840466+0.j,\n",
       "       426.74773049+0.j, 988.17454149+0.j, 509.68817222+0.j,\n",
       "       172.29021977+0.j, 672.20430625+0.j, 139.59683504+0.j,\n",
       "       560.45396952+0.j, 591.92701135+0.j, 178.74971   +0.j,\n",
       "       354.36961272+0.j, 673.46911011+0.j, 482.80690358+0.j,\n",
       "       425.8683306 +0.j, 212.62676627+0.j, 489.44566949+0.j,\n",
       "        61.14438732+0.j, 827.79778919+0.j, 166.88663703+0.j,\n",
       "       615.62407742+0.j, 915.0317458 +0.j, 442.78783157+0.j,\n",
       "       988.31170081+0.j, 465.54291688+0.j, 298.30768089+0.j,\n",
       "       237.71835821+0.j, 490.92832221+0.j, 915.69931553+0.j,\n",
       "        55.44345305+0.j, 535.33527446+0.j, 478.98003196+0.j,\n",
       "       953.46613458+0.j, 967.21163903+0.j, 512.83191927+0.j,\n",
       "       898.31295205+0.j,   6.73907676+0.j, 555.43529572+0.j,\n",
       "       722.18562377+0.j, 140.9904152 +0.j, 421.80035697+0.j,\n",
       "       696.14545588+0.j, 573.17738024+0.j, 886.54345345+0.j,\n",
       "       586.23732403+0.j, 965.55094419+0.j, 669.71880058+0.j,\n",
       "       499.53824787+0.j, 766.53859741+0.j, 921.34096734+0.j,\n",
       "       770.56473499+0.j,  64.76392373+0.j, 909.07729525+0.j,\n",
       "       578.68143592+0.j, 443.71815516+0.j, 923.70296082+0.j,\n",
       "       810.12778537+0.j,  25.54439147+0.j, 695.82545791+0.j,\n",
       "       348.03572388+0.j, 273.53930838+0.j, 997.41265945+0.j,\n",
       "       254.42104146+0.j, 477.23488405+0.j, 745.19749294+0.j,\n",
       "       569.64565391+0.j,  52.13034113+0.j,  51.00327148+0.j,\n",
       "       921.19953068+0.j, 630.96779784+0.j, 657.15816907+0.j,\n",
       "       661.54248408+0.j, 834.78489018+0.j, 295.99334824+0.j,\n",
       "       161.00760293+0.j, 105.75287523+0.j, 632.19369466+0.j,\n",
       "       541.5409855 +0.j,  85.99697213+0.j, 268.36552186+0.j,\n",
       "       527.09839866+0.j, 668.8228231 +0.j, 869.38868089+0.j,\n",
       "        88.22276092+0.j, 953.52066777+0.j, 192.44526361+0.j,\n",
       "       273.308636  +0.j, 425.16375273+0.j,  60.9009468 +0.j,\n",
       "        35.94376605+0.j, 848.07238489+0.j, 339.85699071+0.j,\n",
       "       542.82456833+0.j, 965.77601628+0.j, 190.45822737+0.j,\n",
       "       743.09777033+0.j, 808.25864   +0.j,  77.27406983+0.j,\n",
       "        83.30263542+0.j,  13.54958968+0.j, 404.88683675+0.j,\n",
       "       649.53741134+0.j, 596.01912558+0.j, 894.23753053+0.j,\n",
       "       486.74601574+0.j, 451.13598725+0.j,  33.15560892+0.j,\n",
       "        30.72972615+0.j, 615.01660828+0.j, 928.19692152+0.j,\n",
       "       546.79273647+0.j, 786.72192919+0.j, 747.8340154 +0.j,\n",
       "       230.73393488+0.j, 195.76461172+0.j, 570.55515506+0.j,\n",
       "       266.71679083+0.j, 136.61160938+0.j, 345.83925662+0.j,\n",
       "       978.99886201+0.j, 749.72083469+0.j,  62.29379202+0.j,\n",
       "       605.44708697+0.j, 528.52021573+0.j,  20.33251603+0.j,\n",
       "       754.27297835+0.j, 975.61514011+0.j])"
      ]
     },
     "execution_count": 330,
     "metadata": {},
     "output_type": "execute_result"
    }
   ],
   "source": [
    "xi_opt = terminator(max_iter, time_steps, total_time, epsilon)\n",
    "xi_opt"
   ]
  },
  {
   "cell_type": "code",
   "execution_count": 331,
   "metadata": {
    "ExecuteTime": {
     "end_time": "2019-02-04T15:03:32.446109Z",
     "start_time": "2019-02-04T15:03:32.032419Z"
    }
   },
   "outputs": [
    {
     "data": {
      "text/plain": [
       "-3.0929975849813016"
      ]
     },
     "execution_count": 331,
     "metadata": {},
     "output_type": "execute_result"
    }
   ],
   "source": [
    "F(xi_opt, dt)"
   ]
  },
  {
   "cell_type": "code",
   "execution_count": 332,
   "metadata": {
    "ExecuteTime": {
     "end_time": "2019-02-04T15:03:32.453539Z",
     "start_time": "2019-02-04T15:03:32.448332Z"
    }
   },
   "outputs": [
    {
     "data": {
      "text/plain": [
       "10"
      ]
     },
     "execution_count": 332,
     "metadata": {},
     "output_type": "execute_result"
    }
   ],
   "source": [
    "max_iter"
   ]
  },
  {
   "cell_type": "code",
   "execution_count": 333,
   "metadata": {
    "ExecuteTime": {
     "end_time": "2019-02-04T15:03:32.463730Z",
     "start_time": "2019-02-04T15:03:32.455923Z"
    }
   },
   "outputs": [
    {
     "data": {
      "text/latex": [
       "Quantum object: dims = [[2, 2], [2, 2]], shape = (4, 4), type = oper, isherm = True\\begin{equation*}\\left(\\begin{array}{*{11}c}0.0 & 0.0 & 0.0 & 1.0\\\\0.0 & 0.0 & 1.0 & 0.0\\\\0.0 & 1.0 & 0.0 & 0.0\\\\1.0 & 0.0 & 0.0 & 0.0\\\\\\end{array}\\right)\\end{equation*}"
      ],
      "text/plain": [
       "Quantum object: dims = [[2, 2], [2, 2]], shape = (4, 4), type = oper, isherm = True\n",
       "Qobj data =\n",
       "[[0. 0. 0. 1.]\n",
       " [0. 0. 1. 0.]\n",
       " [0. 1. 0. 0.]\n",
       " [1. 0. 0. 0.]]"
      ]
     },
     "execution_count": 333,
     "metadata": {},
     "output_type": "execute_result"
    }
   ],
   "source": [
    "T"
   ]
  },
  {
   "cell_type": "code",
   "execution_count": 334,
   "metadata": {
    "ExecuteTime": {
     "end_time": "2019-02-04T15:03:32.912914Z",
     "start_time": "2019-02-04T15:03:32.466111Z"
    }
   },
   "outputs": [
    {
     "data": {
      "text/latex": [
       "Quantum object: dims = [[2, 2], [2, 2]], shape = (4, 4), type = oper, isherm = False\\begin{equation*}\\left(\\begin{array}{*{11}c}0.463 & (0.066-0.006j) & (0.066+0.006j) & 0.537\\\\(-0.065-0.006j) & (-0.027+7.309\\times10^{-04}j) & (-0.049-0.011j) & (0.065+0.006j)\\\\(-0.065+0.006j) & (-0.049+0.011j) & (-0.027-7.309\\times10^{-04}j) & (0.065-0.006j)\\\\0.537 & (-0.066+0.006j) & (-0.066-0.006j) & 0.463\\\\\\end{array}\\right)\\end{equation*}"
      ],
      "text/plain": [
       "Quantum object: dims = [[2, 2], [2, 2]], shape = (4, 4), type = oper, isherm = False\n",
       "Qobj data =\n",
       "[[ 0.46279109+0.j          0.06583688-0.00620769j  0.06583688+0.00620769j\n",
       "   0.53720891+0.j        ]\n",
       " [-0.06483416-0.00569242j -0.02682322+0.00073093j -0.04885361-0.01076582j\n",
       "   0.06483416+0.00569242j]\n",
       " [-0.06483416+0.00569242j -0.04885361+0.01076582j -0.02682322-0.00073093j\n",
       "   0.06483416-0.00569242j]\n",
       " [ 0.53720891+0.j         -0.06583688+0.00620769j -0.06583688-0.00620769j\n",
       "   0.46279109+0.j        ]]"
      ]
     },
     "execution_count": 334,
     "metadata": {},
     "output_type": "execute_result"
    }
   ],
   "source": [
    "L_full_maker(xi_opt, dt)"
   ]
  },
  {
   "cell_type": "code",
   "execution_count": 335,
   "metadata": {
    "ExecuteTime": {
     "end_time": "2019-02-04T15:03:33.686263Z",
     "start_time": "2019-02-04T15:03:32.915765Z"
    }
   },
   "outputs": [
    {
     "data": {
      "text/plain": [
       "(<Figure size 576x432 with 2 Axes>,\n",
       " <matplotlib.axes._subplots.AxesSubplot at 0x1a178e2eb8>)"
      ]
     },
     "execution_count": 335,
     "metadata": {},
     "output_type": "execute_result"
    },
    {
     "data": {
      "image/png": "[encoded data removed]",
      "text/plain": [
       "<Figure size 576x432 with 2 Axes>"
      ]
     },
     "metadata": {},
     "output_type": "display_data"
    }
   ],
   "source": [
    "hinton(L_full_maker(xi_opt, dt))"
   ]
  },
  {
   "cell_type": "code",
   "execution_count": null,
   "metadata": {},
   "outputs": [],
   "source": []
  },
  {
   "cell_type": "markdown",
   "metadata": {},
   "source": [
    "### Try2"
   ]
  },
  {
   "cell_type": "code",
   "execution_count": 336,
   "metadata": {
    "ExecuteTime": {
     "end_time": "2019-02-04T15:03:33.692796Z",
     "start_time": "2019-02-04T15:03:33.688538Z"
    }
   },
   "outputs": [],
   "source": [
    "total_time = 3*pi/omega_1\n",
    "epsilon = 10**(-6)\n",
    "max_iter = 10#10**4#1000#100#50#20\n",
    "time_steps = 50\n",
    "dt = total_time/time_steps"
   ]
  },
  {
   "cell_type": "code",
   "execution_count": 337,
   "metadata": {
    "ExecuteTime": {
     "end_time": "2019-02-04T15:03:42.635972Z",
     "start_time": "2019-02-04T15:03:33.695210Z"
    }
   },
   "outputs": [
    {
     "data": {
      "text/plain": [
       "array([565.36261919+0.j, 862.20523447+0.j, 514.53280043+0.j,\n",
       "       332.56600825+0.j, 218.60122506+0.j, 442.60688153+0.j,\n",
       "       922.41608006+0.j, 554.76283686+0.j, 594.18276741+0.j,\n",
       "       824.65344179+0.j, 436.20034017+0.j, 251.9477373 +0.j,\n",
       "       271.63075404+0.j, 681.9183606 +0.j, 748.06110478+0.j,\n",
       "       420.7548148 +0.j, 156.05168652+0.j, 965.85732388+0.j,\n",
       "       920.767179  +0.j, 429.4616263 +0.j, 787.51389135+0.j,\n",
       "       162.08700569+0.j, 335.03074586+0.j, 549.26009835+0.j,\n",
       "       411.8504811 +0.j, 835.4553536 +0.j, 721.48971023+0.j,\n",
       "        18.04966153+0.j, 183.07590183+0.j, 920.19090694+0.j,\n",
       "       293.59552071+0.j, 185.74297667+0.j, 553.73664421+0.j,\n",
       "       356.54946369+0.j, 761.29852533+0.j, 306.67400773+0.j,\n",
       "       766.97542993+0.j, 424.37758005+0.j, 376.81298213+0.j,\n",
       "       250.17236606+0.j, 149.27278194+0.j, 307.59283811+0.j,\n",
       "       636.03910371+0.j, 322.6959526 +0.j, 105.37867249+0.j,\n",
       "       949.52333174+0.j, 717.12152467+0.j, 500.40070616+0.j,\n",
       "       515.00938198+0.j, 178.53760009+0.j])"
      ]
     },
     "execution_count": 337,
     "metadata": {},
     "output_type": "execute_result"
    }
   ],
   "source": [
    "xi_opt = terminator(max_iter, time_steps, total_time, epsilon)\n",
    "xi_opt"
   ]
  },
  {
   "cell_type": "code",
   "execution_count": 338,
   "metadata": {
    "ExecuteTime": {
     "end_time": "2019-02-04T15:03:42.753017Z",
     "start_time": "2019-02-04T15:03:42.637925Z"
    }
   },
   "outputs": [
    {
     "data": {
      "text/plain": [
       "-3.0930575910402434"
      ]
     },
     "execution_count": 338,
     "metadata": {},
     "output_type": "execute_result"
    }
   ],
   "source": [
    "F(xi_opt, dt)"
   ]
  },
  {
   "cell_type": "code",
   "execution_count": 339,
   "metadata": {
    "ExecuteTime": {
     "end_time": "2019-02-04T15:03:42.760940Z",
     "start_time": "2019-02-04T15:03:42.755879Z"
    }
   },
   "outputs": [
    {
     "data": {
      "text/plain": [
       "10"
      ]
     },
     "execution_count": 339,
     "metadata": {},
     "output_type": "execute_result"
    }
   ],
   "source": [
    "max_iter"
   ]
  },
  {
   "cell_type": "code",
   "execution_count": 340,
   "metadata": {
    "ExecuteTime": {
     "end_time": "2019-02-04T15:03:42.774633Z",
     "start_time": "2019-02-04T15:03:42.765736Z"
    }
   },
   "outputs": [
    {
     "data": {
      "text/latex": [
       "Quantum object: dims = [[2, 2], [2, 2]], shape = (4, 4), type = oper, isherm = True\\begin{equation*}\\left(\\begin{array}{*{11}c}0.0 & 0.0 & 0.0 & 1.0\\\\0.0 & 0.0 & 1.0 & 0.0\\\\0.0 & 1.0 & 0.0 & 0.0\\\\1.0 & 0.0 & 0.0 & 0.0\\\\\\end{array}\\right)\\end{equation*}"
      ],
      "text/plain": [
       "Quantum object: dims = [[2, 2], [2, 2]], shape = (4, 4), type = oper, isherm = True\n",
       "Qobj data =\n",
       "[[0. 0. 0. 1.]\n",
       " [0. 0. 1. 0.]\n",
       " [0. 1. 0. 0.]\n",
       " [1. 0. 0. 0.]]"
      ]
     },
     "execution_count": 340,
     "metadata": {},
     "output_type": "execute_result"
    }
   ],
   "source": [
    "T"
   ]
  },
  {
   "cell_type": "code",
   "execution_count": 341,
   "metadata": {
    "ExecuteTime": {
     "end_time": "2019-02-04T15:03:42.891019Z",
     "start_time": "2019-02-04T15:03:42.778383Z"
    }
   },
   "outputs": [
    {
     "data": {
      "text/latex": [
       "Quantum object: dims = [[2, 2], [2, 2]], shape = (4, 4), type = oper, isherm = False\\begin{equation*}\\left(\\begin{array}{*{11}c}0.425 & (0.014-6.846\\times10^{-04}j) & (0.014+6.846\\times10^{-04}j) & 0.575\\\\(-0.014+9.819\\times10^{-04}j) & (-0.063+3.570\\times10^{-04}j) & (-0.086+0.001j) & (0.014-9.819\\times10^{-04}j)\\\\(-0.014-9.819\\times10^{-04}j) & (-0.086-0.001j) & (-0.063-3.570\\times10^{-04}j) & (0.014+9.819\\times10^{-04}j)\\\\0.575 & (-0.014+6.846\\times10^{-04}j) & (-0.014-6.846\\times10^{-04}j) & 0.425\\\\\\end{array}\\right)\\end{equation*}"
      ],
      "text/plain": [
       "Quantum object: dims = [[2, 2], [2, 2]], shape = (4, 4), type = oper, isherm = False\n",
       "Qobj data =\n",
       "[[ 0.42540253+0.j          0.01395317-0.00068462j  0.01395317+0.00068462j\n",
       "   0.57459747+0.j        ]\n",
       " [-0.01354561+0.00098191j -0.06316624+0.00035702j -0.08620586+0.00129441j\n",
       "   0.01354561-0.00098191j]\n",
       " [-0.01354561-0.00098191j -0.08620586-0.00129441j -0.06316624-0.00035702j\n",
       "   0.01354561+0.00098191j]\n",
       " [ 0.57459747+0.j         -0.01395317+0.00068462j -0.01395317-0.00068462j\n",
       "   0.42540253+0.j        ]]"
      ]
     },
     "execution_count": 341,
     "metadata": {},
     "output_type": "execute_result"
    }
   ],
   "source": [
    "L_full_maker(xi_opt, dt)"
   ]
  },
  {
   "cell_type": "code",
   "execution_count": 342,
   "metadata": {
    "ExecuteTime": {
     "end_time": "2019-02-04T15:03:43.565336Z",
     "start_time": "2019-02-04T15:03:42.893751Z"
    }
   },
   "outputs": [
    {
     "data": {
      "text/plain": [
       "(<Figure size 576x432 with 2 Axes>,\n",
       " <matplotlib.axes._subplots.AxesSubplot at 0x1a17ad7e80>)"
      ]
     },
     "execution_count": 342,
     "metadata": {},
     "output_type": "execute_result"
    },
    {
     "data": {
      "image/png": "[encoded data removed]",
      "text/plain": [
       "<Figure size 576x432 with 2 Axes>"
      ]
     },
     "metadata": {},
     "output_type": "display_data"
    }
   ],
   "source": [
    "hinton(L_full_maker(xi_opt, dt))"
   ]
  },
  {
   "cell_type": "code",
   "execution_count": null,
   "metadata": {},
   "outputs": [],
   "source": []
  },
  {
   "cell_type": "markdown",
   "metadata": {},
   "source": [
    "### Try2"
   ]
  },
  {
   "cell_type": "code",
   "execution_count": 343,
   "metadata": {
    "ExecuteTime": {
     "end_time": "2019-02-04T15:03:43.612429Z",
     "start_time": "2019-02-04T15:03:43.601142Z"
    }
   },
   "outputs": [],
   "source": [
    "total_time = 3*pi/omega_1\n",
    "epsilon = 10**(-6)\n",
    "max_iter = 20#10**4#1000#100#50#20\n",
    "time_steps = 20\n",
    "dt = total_time/time_steps"
   ]
  },
  {
   "cell_type": "code",
   "execution_count": 344,
   "metadata": {
    "ExecuteTime": {
     "end_time": "2019-02-04T15:03:45.928016Z",
     "start_time": "2019-02-04T15:03:43.616382Z"
    }
   },
   "outputs": [
    {
     "data": {
      "text/plain": [
       "array([311.84738201+0.j, 157.09189159+0.j, 211.09348421+0.j,\n",
       "       783.51296891+0.j, 174.08552266+0.j, 997.98577978+0.j,\n",
       "       296.58178453+0.j, 983.05312408+0.j, 676.81082369+0.j,\n",
       "       140.36386691+0.j, 446.23226996+0.j, 806.26693788+0.j,\n",
       "       677.57982072+0.j, 500.23141187+0.j, 348.80196738+0.j,\n",
       "       923.85268193+0.j, 713.15664443+0.j, 904.51335698+0.j,\n",
       "       602.91824368+0.j, 527.55027954+0.j])"
      ]
     },
     "execution_count": 344,
     "metadata": {},
     "output_type": "execute_result"
    }
   ],
   "source": [
    "xi_opt = terminator(max_iter, time_steps, total_time, epsilon)\n",
    "xi_opt"
   ]
  },
  {
   "cell_type": "code",
   "execution_count": 345,
   "metadata": {
    "ExecuteTime": {
     "end_time": "2019-02-04T15:03:46.012158Z",
     "start_time": "2019-02-04T15:03:45.930552Z"
    }
   },
   "outputs": [
    {
     "data": {
      "text/plain": [
       "-3.0927061125972632"
      ]
     },
     "execution_count": 345,
     "metadata": {},
     "output_type": "execute_result"
    }
   ],
   "source": [
    "F(xi_opt, dt)"
   ]
  },
  {
   "cell_type": "code",
   "execution_count": 346,
   "metadata": {
    "ExecuteTime": {
     "end_time": "2019-02-04T15:03:46.018351Z",
     "start_time": "2019-02-04T15:03:46.014062Z"
    }
   },
   "outputs": [
    {
     "data": {
      "text/plain": [
       "20"
      ]
     },
     "execution_count": 346,
     "metadata": {},
     "output_type": "execute_result"
    }
   ],
   "source": [
    "max_iter"
   ]
  },
  {
   "cell_type": "code",
   "execution_count": 347,
   "metadata": {
    "ExecuteTime": {
     "end_time": "2019-02-04T15:03:46.025959Z",
     "start_time": "2019-02-04T15:03:46.020337Z"
    }
   },
   "outputs": [
    {
     "data": {
      "text/latex": [
       "Quantum object: dims = [[2, 2], [2, 2]], shape = (4, 4), type = oper, isherm = True\\begin{equation*}\\left(\\begin{array}{*{11}c}0.0 & 0.0 & 0.0 & 1.0\\\\0.0 & 0.0 & 1.0 & 0.0\\\\0.0 & 1.0 & 0.0 & 0.0\\\\1.0 & 0.0 & 0.0 & 0.0\\\\\\end{array}\\right)\\end{equation*}"
      ],
      "text/plain": [
       "Quantum object: dims = [[2, 2], [2, 2]], shape = (4, 4), type = oper, isherm = True\n",
       "Qobj data =\n",
       "[[0. 0. 0. 1.]\n",
       " [0. 0. 1. 0.]\n",
       " [0. 1. 0. 0.]\n",
       " [1. 0. 0. 0.]]"
      ]
     },
     "execution_count": 347,
     "metadata": {},
     "output_type": "execute_result"
    }
   ],
   "source": [
    "T"
   ]
  },
  {
   "cell_type": "code",
   "execution_count": 348,
   "metadata": {
    "ExecuteTime": {
     "end_time": "2019-02-04T15:03:46.106357Z",
     "start_time": "2019-02-04T15:03:46.028315Z"
    }
   },
   "outputs": [
    {
     "data": {
      "text/latex": [
       "Quantum object: dims = [[2, 2], [2, 2]], shape = (4, 4), type = oper, isherm = False\\begin{equation*}\\left(\\begin{array}{*{11}c}0.570 & (-0.028+5.272\\times10^{-06}j) & (-0.028-5.272\\times10^{-06}j) & 0.430\\\\(0.028-1.197\\times10^{-05}j) & (0.082+1.689\\times10^{-04}j) & (0.059-7.520\\times10^{-06}j) & (-0.028+1.197\\times10^{-05}j)\\\\(0.028+1.197\\times10^{-05}j) & (0.059+7.520\\times10^{-06}j) & (0.082-1.689\\times10^{-04}j) & (-0.028-1.197\\times10^{-05}j)\\\\0.430 & (0.028-5.272\\times10^{-06}j) & (0.028+5.272\\times10^{-06}j) & 0.570\\\\\\end{array}\\right)\\end{equation*}"
      ],
      "text/plain": [
       "Quantum object: dims = [[2, 2], [2, 2]], shape = (4, 4), type = oper, isherm = False\n",
       "Qobj data =\n",
       "[[ 0.57040164+0.00000000e+00j -0.02842067+5.27199726e-06j\n",
       "  -0.02842067-5.27199726e-06j  0.42959836+0.00000000e+00j]\n",
       " [ 0.02837113-1.19731674e-05j  0.08193917+1.68857837e-04j\n",
       "   0.0588849 -7.51969543e-06j -0.02837113+1.19731674e-05j]\n",
       " [ 0.02837113+1.19731674e-05j  0.0588849 +7.51969543e-06j\n",
       "   0.08193917-1.68857837e-04j -0.02837113-1.19731674e-05j]\n",
       " [ 0.42959836+0.00000000e+00j  0.02842067-5.27199726e-06j\n",
       "   0.02842067+5.27199726e-06j  0.57040164+0.00000000e+00j]]"
      ]
     },
     "execution_count": 348,
     "metadata": {},
     "output_type": "execute_result"
    }
   ],
   "source": [
    "L_full_maker(xi_opt, dt)"
   ]
  },
  {
   "cell_type": "code",
   "execution_count": 349,
   "metadata": {
    "ExecuteTime": {
     "end_time": "2019-02-04T15:03:46.522914Z",
     "start_time": "2019-02-04T15:03:46.108774Z"
    }
   },
   "outputs": [
    {
     "data": {
      "text/plain": [
       "(<Figure size 576x432 with 2 Axes>,\n",
       " <matplotlib.axes._subplots.AxesSubplot at 0x1a177c9908>)"
      ]
     },
     "execution_count": 349,
     "metadata": {},
     "output_type": "execute_result"
    },
    {
     "data": {
      "image/png": "[encoded data removed]",
      "text/plain": [
       "<Figure size 576x432 with 2 Axes>"
      ]
     },
     "metadata": {},
     "output_type": "display_data"
    }
   ],
   "source": [
    "hinton(L_full_maker(xi_opt, dt))"
   ]
  },
  {
   "cell_type": "markdown",
   "metadata": {},
   "source": [
    "### Try2"
   ]
  },
  {
   "cell_type": "code",
   "execution_count": 350,
   "metadata": {
    "ExecuteTime": {
     "end_time": "2019-02-04T15:03:46.529972Z",
     "start_time": "2019-02-04T15:03:46.525758Z"
    }
   },
   "outputs": [],
   "source": [
    "total_time = 3*pi/omega_1\n",
    "epsilon = 10**(-6)\n",
    "max_iter = 100#10**4#1000#100#50#20\n",
    "time_steps = 20\n",
    "dt = total_time/time_steps"
   ]
  },
  {
   "cell_type": "code",
   "execution_count": 351,
   "metadata": {
    "ExecuteTime": {
     "end_time": "2019-02-04T15:03:47.942245Z",
     "start_time": "2019-02-04T15:03:46.533217Z"
    }
   },
   "outputs": [
    {
     "data": {
      "text/plain": [
       "array([182.43653248+0.j, 867.06732414+0.j,  65.50167002+0.j,\n",
       "       144.85557687+0.j,  16.88620018+0.j, 761.81453373+0.j,\n",
       "       121.90809977+0.j, 197.84516053+0.j, 673.6792592 +0.j,\n",
       "       242.8112217 +0.j,  91.63889292+0.j, 903.04222038+0.j,\n",
       "       855.93152305+0.j, 746.78917213+0.j, 200.61435644+0.j,\n",
       "       619.13795433+0.j, 723.41694576+0.j, 180.36314677+0.j,\n",
       "       959.70418418+0.j, 570.19508083+0.j])"
      ]
     },
     "execution_count": 351,
     "metadata": {},
     "output_type": "execute_result"
    }
   ],
   "source": [
    "xi_opt = terminator(max_iter, time_steps, total_time, epsilon)\n",
    "xi_opt"
   ]
  },
  {
   "cell_type": "code",
   "execution_count": 352,
   "metadata": {
    "ExecuteTime": {
     "end_time": "2019-02-04T15:03:48.016288Z",
     "start_time": "2019-02-04T15:03:47.944473Z"
    }
   },
   "outputs": [
    {
     "data": {
      "text/plain": [
       "-3.0926291457239135"
      ]
     },
     "execution_count": 352,
     "metadata": {},
     "output_type": "execute_result"
    }
   ],
   "source": [
    "F(xi_opt, dt)"
   ]
  },
  {
   "cell_type": "code",
   "execution_count": 353,
   "metadata": {
    "ExecuteTime": {
     "end_time": "2019-02-04T15:03:48.024671Z",
     "start_time": "2019-02-04T15:03:48.020494Z"
    }
   },
   "outputs": [
    {
     "data": {
      "text/plain": [
       "100"
      ]
     },
     "execution_count": 353,
     "metadata": {},
     "output_type": "execute_result"
    }
   ],
   "source": [
    "max_iter"
   ]
  },
  {
   "cell_type": "code",
   "execution_count": 354,
   "metadata": {
    "ExecuteTime": {
     "end_time": "2019-02-04T15:03:48.034581Z",
     "start_time": "2019-02-04T15:03:48.028666Z"
    }
   },
   "outputs": [
    {
     "data": {
      "text/latex": [
       "Quantum object: dims = [[2, 2], [2, 2]], shape = (4, 4), type = oper, isherm = True\\begin{equation*}\\left(\\begin{array}{*{11}c}0.0 & 0.0 & 0.0 & 1.0\\\\0.0 & 0.0 & 1.0 & 0.0\\\\0.0 & 1.0 & 0.0 & 0.0\\\\1.0 & 0.0 & 0.0 & 0.0\\\\\\end{array}\\right)\\end{equation*}"
      ],
      "text/plain": [
       "Quantum object: dims = [[2, 2], [2, 2]], shape = (4, 4), type = oper, isherm = True\n",
       "Qobj data =\n",
       "[[0. 0. 0. 1.]\n",
       " [0. 0. 1. 0.]\n",
       " [0. 1. 0. 0.]\n",
       " [1. 0. 0. 0.]]"
      ]
     },
     "execution_count": 354,
     "metadata": {},
     "output_type": "execute_result"
    }
   ],
   "source": [
    "T"
   ]
  },
  {
   "cell_type": "code",
   "execution_count": 355,
   "metadata": {
    "ExecuteTime": {
     "end_time": "2019-02-04T15:03:48.095210Z",
     "start_time": "2019-02-04T15:03:48.037519Z"
    }
   },
   "outputs": [
    {
     "data": {
      "text/latex": [
       "Quantum object: dims = [[2, 2], [2, 2]], shape = (4, 4), type = oper, isherm = False\\begin{equation*}\\left(\\begin{array}{*{11}c}0.475 & (0.072+6.952\\times10^{-04}j) & (0.072-6.952\\times10^{-04}j) & 0.525\\\\(-0.072-3.998\\times10^{-04}j) & (-0.013-3.975\\times10^{-04}j) & (-0.036+6.758\\times10^{-04}j) & (0.072+3.998\\times10^{-04}j)\\\\(-0.072+3.998\\times10^{-04}j) & (-0.036-6.758\\times10^{-04}j) & (-0.013+3.975\\times10^{-04}j) & (0.072-3.998\\times10^{-04}j)\\\\0.525 & (-0.072-6.952\\times10^{-04}j) & (-0.072+6.952\\times10^{-04}j) & 0.475\\\\\\end{array}\\right)\\end{equation*}"
      ],
      "text/plain": [
       "Quantum object: dims = [[2, 2], [2, 2]], shape = (4, 4), type = oper, isherm = False\n",
       "Qobj data =\n",
       "[[ 0.47509946+0.j          0.07162383+0.00069519j  0.07162383-0.00069519j\n",
       "   0.52490054+0.j        ]\n",
       " [-0.0717844 -0.00039981j -0.01333724-0.0003975j  -0.03640236+0.00067576j\n",
       "   0.0717844 +0.00039981j]\n",
       " [-0.0717844 +0.00039981j -0.03640236-0.00067576j -0.01333724+0.0003975j\n",
       "   0.0717844 -0.00039981j]\n",
       " [ 0.52490054+0.j         -0.07162383-0.00069519j -0.07162383+0.00069519j\n",
       "   0.47509946+0.j        ]]"
      ]
     },
     "execution_count": 355,
     "metadata": {},
     "output_type": "execute_result"
    }
   ],
   "source": [
    "L_full_maker(xi_opt, dt)"
   ]
  },
  {
   "cell_type": "code",
   "execution_count": 356,
   "metadata": {
    "ExecuteTime": {
     "end_time": "2019-02-04T15:03:48.420145Z",
     "start_time": "2019-02-04T15:03:48.097257Z"
    }
   },
   "outputs": [
    {
     "data": {
      "text/plain": [
       "(<Figure size 576x432 with 2 Axes>,\n",
       " <matplotlib.axes._subplots.AxesSubplot at 0x1a17e52908>)"
      ]
     },
     "execution_count": 356,
     "metadata": {},
     "output_type": "execute_result"
    },
    {
     "data": {
      "image/png": "[encoded data removed]",
      "text/plain": [
       "<Figure size 576x432 with 2 Axes>"
      ]
     },
     "metadata": {},
     "output_type": "display_data"
    }
   ],
   "source": [
    "hinton(L_full_maker(xi_opt, dt))"
   ]
  },
  {
   "cell_type": "markdown",
   "metadata": {},
   "source": [
    "### Try2"
   ]
  },
  {
   "cell_type": "code",
   "execution_count": 357,
   "metadata": {
    "ExecuteTime": {
     "end_time": "2019-02-04T15:03:48.426254Z",
     "start_time": "2019-02-04T15:03:48.422154Z"
    }
   },
   "outputs": [],
   "source": [
    "total_time = 3*pi/omega_1\n",
    "epsilon = 10**(-6)\n",
    "max_iter = 100#10**4#1000#100#50#20\n",
    "time_steps = 200\n",
    "dt = total_time/time_steps"
   ]
  },
  {
   "cell_type": "code",
   "execution_count": 358,
   "metadata": {
    "ExecuteTime": {
     "end_time": "2019-02-04T15:05:55.958679Z",
     "start_time": "2019-02-04T15:03:48.428192Z"
    }
   },
   "outputs": [
    {
     "data": {
      "text/plain": [
       "array([309.87811954+0.j, 236.43585713+0.j, 118.41525827+0.j,\n",
       "       854.84797349+0.j, 330.60929709+0.j, 618.77657647+0.j,\n",
       "        54.49320676+0.j, 218.16386985+0.j, 532.42116403+0.j,\n",
       "        55.03114959+0.j, 464.3507831 +0.j, 799.85326798+0.j,\n",
       "       123.97991051+0.j, 863.38530215+0.j, 448.61872715+0.j,\n",
       "       632.39727211+0.j, 160.18196056+0.j, 740.93515028+0.j,\n",
       "       631.97602749+0.j, 365.39260668+0.j, 298.21326149+0.j,\n",
       "       248.06444473+0.j, 282.7159466 +0.j, 372.02513359+0.j,\n",
       "       633.7458858 +0.j, 340.35243402+0.j, 507.60409195+0.j,\n",
       "       688.02197416+0.j, 815.68739166+0.j, 765.03767604+0.j,\n",
       "       520.34957348+0.j, 199.63577213+0.j, 677.64753931+0.j,\n",
       "       775.13763517+0.j,  46.42133529+0.j, 308.85660151+0.j,\n",
       "       766.35548809+0.j, 931.0644379 +0.j, 646.6522833 +0.j,\n",
       "       471.94251158+0.j, 550.51796045+0.j, 633.94851628+0.j,\n",
       "       772.25231832+0.j, 361.18370365+0.j, 982.56697789+0.j,\n",
       "       274.92160285+0.j, 937.3518567 +0.j, 911.84205291+0.j,\n",
       "       290.33722977+0.j, 860.47035626+0.j, 271.85304413+0.j,\n",
       "       829.3972549 +0.j, 370.72592222+0.j, 295.71311633+0.j,\n",
       "       516.46132039+0.j, 783.92060689+0.j, 950.87891009+0.j,\n",
       "       225.0552693 +0.j, 995.90917633+0.j, 406.94071917+0.j,\n",
       "       904.05618248+0.j, 340.43191079+0.j, 476.00840879+0.j,\n",
       "       950.78044289+0.j, 508.23777065+0.j, 504.31381873+0.j,\n",
       "        95.15337089+0.j, 783.45271354+0.j, 595.60607047+0.j,\n",
       "        14.47699176+0.j, 763.79634812+0.j, 697.77805485+0.j,\n",
       "       960.11368328+0.j,  66.95338272+0.j, 248.75462395+0.j,\n",
       "       917.11789771+0.j, 720.05565443+0.j, 951.69506924+0.j,\n",
       "       631.78760447+0.j, 492.93455788+0.j, 210.22553933+0.j,\n",
       "       745.39110516+0.j,  26.87037764+0.j, 326.7650356 +0.j,\n",
       "       286.536049  +0.j,   4.96233712+0.j, 920.9793681 +0.j,\n",
       "        45.79737691+0.j, 368.40690019+0.j, 588.48276421+0.j,\n",
       "       485.68429941+0.j, 970.65540296+0.j, 467.82604979+0.j,\n",
       "       433.58662144+0.j, 813.92294956+0.j, 545.08614159+0.j,\n",
       "       487.64463017+0.j, 699.88406927+0.j, 107.66421745+0.j,\n",
       "       834.55029541+0.j, 203.5711235 +0.j, 597.14091035+0.j,\n",
       "       599.3670919 +0.j, 794.37400769+0.j, 142.19669634+0.j,\n",
       "       236.06339355+0.j, 742.24324174+0.j, 531.32218293+0.j,\n",
       "        72.83994895+0.j, 526.14730401+0.j, 138.46840251+0.j,\n",
       "       370.86125661+0.j, 700.18852348+0.j, 289.52913726+0.j,\n",
       "       899.28342948+0.j, 157.46399935+0.j, 999.55108779+0.j,\n",
       "       957.72640263+0.j,  71.55544399+0.j,  68.4537127 +0.j,\n",
       "       264.81813959+0.j, 672.09559819+0.j, 477.67134434+0.j,\n",
       "       762.32171239+0.j, 413.96084148+0.j, 766.34700777+0.j,\n",
       "       107.63967056+0.j, 445.15639204+0.j,  17.15444854+0.j,\n",
       "        93.35873241+0.j, 831.73979611+0.j, 131.18467112+0.j,\n",
       "       420.7069201 +0.j, 897.81186088+0.j, 870.4237945 +0.j,\n",
       "       942.46530304+0.j, 489.59115595+0.j, 812.17516132+0.j,\n",
       "       625.06588375+0.j, 422.01271005+0.j, 634.99921436+0.j,\n",
       "       887.84890991+0.j,  55.9835546 +0.j, 604.34295252+0.j,\n",
       "       728.51415965+0.j, 732.06148644+0.j, 813.9721657 +0.j,\n",
       "       779.97245739+0.j, 730.21813412+0.j, 326.81657033+0.j,\n",
       "       594.82777366+0.j, 326.98569291+0.j, 777.39960579+0.j,\n",
       "       478.20529293+0.j, 191.3728874 +0.j, 103.41386943+0.j,\n",
       "       189.25207117+0.j, 746.260931  +0.j, 919.73178242+0.j,\n",
       "       989.87933391+0.j, 227.630432  +0.j, 450.3443512 +0.j,\n",
       "       870.26095981+0.j, 654.06882483+0.j, 489.59261774+0.j,\n",
       "        15.11089116+0.j, 391.87602453+0.j, 453.10250036+0.j,\n",
       "       722.37211146+0.j, 159.65734133+0.j, 877.83107552+0.j,\n",
       "       809.87076327+0.j, 116.60295593+0.j, 953.38399023+0.j,\n",
       "       902.4231416 +0.j, 745.22588862+0.j, 323.88140693+0.j,\n",
       "       489.65872515+0.j,  16.92473965+0.j, 650.21275531+0.j,\n",
       "       746.10343947+0.j, 494.74201185+0.j, 843.28877005+0.j,\n",
       "       401.24644891+0.j, 116.38254169+0.j, 871.26756193+0.j,\n",
       "       655.77849045+0.j, 918.30791001+0.j, 585.27922765+0.j,\n",
       "       697.0747762 +0.j, 112.91364085+0.j, 616.47927169+0.j,\n",
       "       443.47232134+0.j, 454.44139341+0.j, 949.07085863+0.j,\n",
       "        14.67074393+0.j, 428.40496466+0.j, 188.69033829+0.j,\n",
       "       104.73409067+0.j, 708.06590305+0.j])"
      ]
     },
     "execution_count": 358,
     "metadata": {},
     "output_type": "execute_result"
    }
   ],
   "source": [
    "xi_opt = terminator(max_iter, time_steps, total_time, epsilon)\n",
    "xi_opt"
   ]
  },
  {
   "cell_type": "code",
   "execution_count": 359,
   "metadata": {
    "ExecuteTime": {
     "end_time": "2019-02-04T15:05:56.333933Z",
     "start_time": "2019-02-04T15:05:55.960926Z"
    }
   },
   "outputs": [
    {
     "data": {
      "text/plain": [
       "-3.089065520081527"
      ]
     },
     "execution_count": 359,
     "metadata": {},
     "output_type": "execute_result"
    }
   ],
   "source": [
    "F(xi_opt, dt)"
   ]
  },
  {
   "cell_type": "code",
   "execution_count": 360,
   "metadata": {
    "ExecuteTime": {
     "end_time": "2019-02-04T15:05:56.342444Z",
     "start_time": "2019-02-04T15:05:56.337013Z"
    }
   },
   "outputs": [
    {
     "data": {
      "text/plain": [
       "100"
      ]
     },
     "execution_count": 360,
     "metadata": {},
     "output_type": "execute_result"
    }
   ],
   "source": [
    "max_iter"
   ]
  },
  {
   "cell_type": "code",
   "execution_count": 361,
   "metadata": {
    "ExecuteTime": {
     "end_time": "2019-02-04T15:05:56.351177Z",
     "start_time": "2019-02-04T15:05:56.344876Z"
    }
   },
   "outputs": [
    {
     "data": {
      "text/latex": [
       "Quantum object: dims = [[2, 2], [2, 2]], shape = (4, 4), type = oper, isherm = True\\begin{equation*}\\left(\\begin{array}{*{11}c}0.0 & 0.0 & 0.0 & 1.0\\\\0.0 & 0.0 & 1.0 & 0.0\\\\0.0 & 1.0 & 0.0 & 0.0\\\\1.0 & 0.0 & 0.0 & 0.0\\\\\\end{array}\\right)\\end{equation*}"
      ],
      "text/plain": [
       "Quantum object: dims = [[2, 2], [2, 2]], shape = (4, 4), type = oper, isherm = True\n",
       "Qobj data =\n",
       "[[0. 0. 0. 1.]\n",
       " [0. 0. 1. 0.]\n",
       " [0. 1. 0. 0.]\n",
       " [1. 0. 0. 0.]]"
      ]
     },
     "execution_count": 361,
     "metadata": {},
     "output_type": "execute_result"
    }
   ],
   "source": [
    "T"
   ]
  },
  {
   "cell_type": "code",
   "execution_count": 362,
   "metadata": {
    "ExecuteTime": {
     "end_time": "2019-02-04T15:05:56.744406Z",
     "start_time": "2019-02-04T15:05:56.352906Z"
    }
   },
   "outputs": [
    {
     "data": {
      "text/latex": [
       "Quantum object: dims = [[2, 2], [2, 2]], shape = (4, 4), type = oper, isherm = False\\begin{equation*}\\left(\\begin{array}{*{11}c}0.424 & (0.004-0.003j) & (0.004+0.003j) & 0.576\\\\(-0.005+0.008j) & (-0.064-0.004j) & (-0.086-0.002j) & (0.005-0.008j)\\\\(-0.005-0.008j) & (-0.086+0.002j) & (-0.064+0.004j) & (0.005+0.008j)\\\\0.576 & (-0.004+0.003j) & (-0.004-0.003j) & 0.424\\\\\\end{array}\\right)\\end{equation*}"
      ],
      "text/plain": [
       "Quantum object: dims = [[2, 2], [2, 2]], shape = (4, 4), type = oper, isherm = False\n",
       "Qobj data =\n",
       "[[ 0.42438911+0.j          0.00436814-0.00285819j  0.00436814+0.00285819j\n",
       "   0.57561089+0.j        ]\n",
       " [-0.00526814+0.00843195j -0.06351874-0.00356155j -0.0862861 -0.00187412j\n",
       "   0.00526814-0.00843195j]\n",
       " [-0.00526814-0.00843195j -0.0862861 +0.00187412j -0.06351874+0.00356155j\n",
       "   0.00526814+0.00843195j]\n",
       " [ 0.57561089+0.j         -0.00436814+0.00285819j -0.00436814-0.00285819j\n",
       "   0.42438911+0.j        ]]"
      ]
     },
     "execution_count": 362,
     "metadata": {},
     "output_type": "execute_result"
    }
   ],
   "source": [
    "L_full_maker(xi_opt, dt)"
   ]
  },
  {
   "cell_type": "code",
   "execution_count": 363,
   "metadata": {
    "ExecuteTime": {
     "end_time": "2019-02-04T15:05:57.353966Z",
     "start_time": "2019-02-04T15:05:56.746497Z"
    }
   },
   "outputs": [
    {
     "data": {
      "text/plain": [
       "(<Figure size 576x432 with 2 Axes>,\n",
       " <matplotlib.axes._subplots.AxesSubplot at 0x1a17f22668>)"
      ]
     },
     "execution_count": 363,
     "metadata": {},
     "output_type": "execute_result"
    },
    {
     "data": {
      "image/png": "[encoded data removed]",
      "text/plain": [
       "<Figure size 576x432 with 2 Axes>"
      ]
     },
     "metadata": {},
     "output_type": "display_data"
    }
   ],
   "source": [
    "hinton(L_full_maker(xi_opt, dt))"
   ]
  },
  {
   "cell_type": "markdown",
   "metadata": {},
   "source": [
    "### Try2"
   ]
  },
  {
   "cell_type": "code",
   "execution_count": 364,
   "metadata": {
    "ExecuteTime": {
     "end_time": "2019-02-04T15:05:57.359569Z",
     "start_time": "2019-02-04T15:05:57.356371Z"
    }
   },
   "outputs": [],
   "source": [
    "total_time = 3*pi/omega_1\n",
    "epsilon = (0.1*2*pi)/(total_time)#10**(-6)\n",
    "max_iter = 10#10**4#1000#100#50#20\n",
    "time_steps = 20\n",
    "dt = total_time/time_steps"
   ]
  },
  {
   "cell_type": "code",
   "execution_count": 365,
   "metadata": {
    "ExecuteTime": {
     "end_time": "2019-02-04T15:05:58.812012Z",
     "start_time": "2019-02-04T15:05:57.361720Z"
    }
   },
   "outputs": [
    {
     "data": {
      "text/plain": [
       "array([717.42014731+0.j, 284.35389182+0.j, 280.18369592+0.j,\n",
       "       361.2304256 +0.j, 705.15929386+0.j, 485.98398502+0.j,\n",
       "       182.84260372+0.j, 887.23684992+0.j, 589.34493141+0.j,\n",
       "       216.6905176 +0.j, 115.13240711+0.j,  28.45977476+0.j,\n",
       "       423.03186408+0.j, 937.93523471+0.j, 195.11950776+0.j,\n",
       "       976.02130119+0.j, 293.07175144+0.j, 476.12566525+0.j,\n",
       "        61.35112312+0.j, 714.61951195+0.j])"
      ]
     },
     "execution_count": 365,
     "metadata": {},
     "output_type": "execute_result"
    }
   ],
   "source": [
    "xi_opt = terminator(max_iter, time_steps, total_time, epsilon)\n",
    "xi_opt"
   ]
  },
  {
   "cell_type": "code",
   "execution_count": 366,
   "metadata": {
    "ExecuteTime": {
     "end_time": "2019-02-04T15:05:58.860463Z",
     "start_time": "2019-02-04T15:05:58.814405Z"
    }
   },
   "outputs": [
    {
     "data": {
      "text/plain": [
       "-3.0927297180073468"
      ]
     },
     "execution_count": 366,
     "metadata": {},
     "output_type": "execute_result"
    }
   ],
   "source": [
    "F(xi_opt, dt)"
   ]
  },
  {
   "cell_type": "code",
   "execution_count": 367,
   "metadata": {
    "ExecuteTime": {
     "end_time": "2019-02-04T15:05:58.867160Z",
     "start_time": "2019-02-04T15:05:58.862694Z"
    }
   },
   "outputs": [
    {
     "data": {
      "text/plain": [
       "10"
      ]
     },
     "execution_count": 367,
     "metadata": {},
     "output_type": "execute_result"
    }
   ],
   "source": [
    "max_iter"
   ]
  },
  {
   "cell_type": "code",
   "execution_count": 368,
   "metadata": {
    "ExecuteTime": {
     "end_time": "2019-02-04T15:05:58.875193Z",
     "start_time": "2019-02-04T15:05:58.869114Z"
    }
   },
   "outputs": [
    {
     "data": {
      "text/latex": [
       "Quantum object: dims = [[2, 2], [2, 2]], shape = (4, 4), type = oper, isherm = True\\begin{equation*}\\left(\\begin{array}{*{11}c}0.0 & 0.0 & 0.0 & 1.0\\\\0.0 & 0.0 & 1.0 & 0.0\\\\0.0 & 1.0 & 0.0 & 0.0\\\\1.0 & 0.0 & 0.0 & 0.0\\\\\\end{array}\\right)\\end{equation*}"
      ],
      "text/plain": [
       "Quantum object: dims = [[2, 2], [2, 2]], shape = (4, 4), type = oper, isherm = True\n",
       "Qobj data =\n",
       "[[0. 0. 0. 1.]\n",
       " [0. 0. 1. 0.]\n",
       " [0. 1. 0. 0.]\n",
       " [1. 0. 0. 0.]]"
      ]
     },
     "execution_count": 368,
     "metadata": {},
     "output_type": "execute_result"
    }
   ],
   "source": [
    "T"
   ]
  },
  {
   "cell_type": "code",
   "execution_count": 369,
   "metadata": {
    "ExecuteTime": {
     "end_time": "2019-02-04T15:05:58.924818Z",
     "start_time": "2019-02-04T15:05:58.877685Z"
    }
   },
   "outputs": [
    {
     "data": {
      "text/latex": [
       "Quantum object: dims = [[2, 2], [2, 2]], shape = (4, 4), type = oper, isherm = False\\begin{equation*}\\left(\\begin{array}{*{11}c}0.439 & (-0.045+9.605\\times10^{-07}j) & (-0.045-9.605\\times10^{-07}j) & 0.561\\\\(0.045-0.001j) & (-0.049+4.894\\times10^{-04}j) & (-0.072+0.002j) & (-0.045+0.001j)\\\\(0.045+0.001j) & (-0.072-0.002j) & (-0.049-4.894\\times10^{-04}j) & (-0.045-0.001j)\\\\0.561 & (0.045-9.605\\times10^{-07}j) & (0.045+9.605\\times10^{-07}j) & 0.439\\\\\\end{array}\\right)\\end{equation*}"
      ],
      "text/plain": [
       "Quantum object: dims = [[2, 2], [2, 2]], shape = (4, 4), type = oper, isherm = False\n",
       "Qobj data =\n",
       "[[ 0.43911673+0.00000000e+00j -0.04533053+9.60495662e-07j\n",
       "  -0.04533053-9.60495662e-07j  0.56088327+0.00000000e+00j]\n",
       " [ 0.0452652 -1.28687052e-03j -0.04937634+4.89373695e-04j\n",
       "  -0.0724106 +2.05198405e-03j -0.0452652 +1.28687052e-03j]\n",
       " [ 0.0452652 +1.28687052e-03j -0.0724106 -2.05198405e-03j\n",
       "  -0.04937634-4.89373695e-04j -0.0452652 -1.28687052e-03j]\n",
       " [ 0.56088327+0.00000000e+00j  0.04533053-9.60495662e-07j\n",
       "   0.04533053+9.60495662e-07j  0.43911673+0.00000000e+00j]]"
      ]
     },
     "execution_count": 369,
     "metadata": {},
     "output_type": "execute_result"
    }
   ],
   "source": [
    "L_full_maker(xi_opt, dt)"
   ]
  },
  {
   "cell_type": "code",
   "execution_count": 370,
   "metadata": {
    "ExecuteTime": {
     "end_time": "2019-02-04T15:05:59.249874Z",
     "start_time": "2019-02-04T15:05:58.926849Z"
    }
   },
   "outputs": [
    {
     "data": {
      "text/plain": [
       "(<Figure size 576x432 with 2 Axes>,\n",
       " <matplotlib.axes._subplots.AxesSubplot at 0x1a17f475c0>)"
      ]
     },
     "execution_count": 370,
     "metadata": {},
     "output_type": "execute_result"
    },
    {
     "data": {
      "image/png": "[encoded data removed]",
      "text/plain": [
       "<Figure size 576x432 with 2 Axes>"
      ]
     },
     "metadata": {},
     "output_type": "display_data"
    }
   ],
   "source": [
    "hinton(L_full_maker(xi_opt, dt))"
   ]
  },
  {
   "cell_type": "markdown",
   "metadata": {},
   "source": [
    "### Try2"
   ]
  },
  {
   "cell_type": "code",
   "execution_count": 371,
   "metadata": {
    "ExecuteTime": {
     "end_time": "2019-02-04T15:05:59.254877Z",
     "start_time": "2019-02-04T15:05:59.251800Z"
    }
   },
   "outputs": [],
   "source": [
    "total_time = 3*pi/omega_1\n",
    "epsilon = (0.1*2*pi)/(total_time)#10**(-6)\n",
    "max_iter = 500#10#10**4#1000#100#50#20\n",
    "time_steps = 20\n",
    "dt = total_time/time_steps"
   ]
  },
  {
   "cell_type": "code",
   "execution_count": 372,
   "metadata": {
    "ExecuteTime": {
     "end_time": "2019-02-04T15:06:00.694158Z",
     "start_time": "2019-02-04T15:05:59.258398Z"
    }
   },
   "outputs": [
    {
     "data": {
      "text/plain": [
       "array([765.62481621+0.j, 149.72832438+0.j, 587.5465497 +0.j,\n",
       "       297.70905253+0.j, 763.16426829+0.j, 398.01566036+0.j,\n",
       "       978.78652629+0.j, 607.03527672+0.j, 802.22484735+0.j,\n",
       "       273.2265245 +0.j, 601.75121654+0.j, 266.75942774+0.j,\n",
       "       793.93269226+0.j, 461.82607764+0.j, 200.61981875+0.j,\n",
       "       941.82798742+0.j, 630.89796579+0.j, 187.04940957+0.j,\n",
       "       527.90288562+0.j, 639.29952462+0.j])"
      ]
     },
     "execution_count": 372,
     "metadata": {},
     "output_type": "execute_result"
    }
   ],
   "source": [
    "xi_opt = terminator(max_iter, time_steps, total_time, epsilon)\n",
    "xi_opt"
   ]
  },
  {
   "cell_type": "code",
   "execution_count": 373,
   "metadata": {
    "ExecuteTime": {
     "end_time": "2019-02-04T15:06:00.745831Z",
     "start_time": "2019-02-04T15:06:00.696708Z"
    }
   },
   "outputs": [
    {
     "data": {
      "text/plain": [
       "-3.0928477357727067"
      ]
     },
     "execution_count": 373,
     "metadata": {},
     "output_type": "execute_result"
    }
   ],
   "source": [
    "F(xi_opt, dt)"
   ]
  },
  {
   "cell_type": "code",
   "execution_count": 374,
   "metadata": {
    "ExecuteTime": {
     "end_time": "2019-02-04T15:06:00.753358Z",
     "start_time": "2019-02-04T15:06:00.747930Z"
    }
   },
   "outputs": [
    {
     "data": {
      "text/plain": [
       "500"
      ]
     },
     "execution_count": 374,
     "metadata": {},
     "output_type": "execute_result"
    }
   ],
   "source": [
    "max_iter"
   ]
  },
  {
   "cell_type": "code",
   "execution_count": 375,
   "metadata": {
    "ExecuteTime": {
     "end_time": "2019-02-04T15:06:00.761456Z",
     "start_time": "2019-02-04T15:06:00.755985Z"
    }
   },
   "outputs": [
    {
     "data": {
      "text/latex": [
       "Quantum object: dims = [[2, 2], [2, 2]], shape = (4, 4), type = oper, isherm = True\\begin{equation*}\\left(\\begin{array}{*{11}c}0.0 & 0.0 & 0.0 & 1.0\\\\0.0 & 0.0 & 1.0 & 0.0\\\\0.0 & 1.0 & 0.0 & 0.0\\\\1.0 & 0.0 & 0.0 & 0.0\\\\\\end{array}\\right)\\end{equation*}"
      ],
      "text/plain": [
       "Quantum object: dims = [[2, 2], [2, 2]], shape = (4, 4), type = oper, isherm = True\n",
       "Qobj data =\n",
       "[[0. 0. 0. 1.]\n",
       " [0. 0. 1. 0.]\n",
       " [0. 1. 0. 0.]\n",
       " [1. 0. 0. 0.]]"
      ]
     },
     "execution_count": 375,
     "metadata": {},
     "output_type": "execute_result"
    }
   ],
   "source": [
    "T"
   ]
  },
  {
   "cell_type": "code",
   "execution_count": 376,
   "metadata": {
    "ExecuteTime": {
     "end_time": "2019-02-04T15:06:00.810618Z",
     "start_time": "2019-02-04T15:06:00.763622Z"
    }
   },
   "outputs": [],
   "source": [
    "myU = L_full_maker(xi_opt, dt)"
   ]
  },
  {
   "cell_type": "code",
   "execution_count": 377,
   "metadata": {
    "ExecuteTime": {
     "end_time": "2019-02-04T15:06:00.820518Z",
     "start_time": "2019-02-04T15:06:00.813598Z"
    }
   },
   "outputs": [
    {
     "data": {
      "text/latex": [
       "Quantum object: dims = [[2, 2], [2, 2]], shape = (4, 4), type = oper, isherm = False\\begin{equation*}\\left(\\begin{array}{*{11}c}0.738 & (-0.016-4.518\\times10^{-04}j) & (-0.016+4.518\\times10^{-04}j) & 1.0\\\\(0.016+5.170\\times10^{-04}j) & (-0.111-1.037\\times10^{-04}j) & (-0.151+1.999\\times10^{-04}j) & (-0.016-5.170\\times10^{-04}j)\\\\(0.016-5.170\\times10^{-04}j) & (-0.151-1.999\\times10^{-04}j) & (-0.111+1.037\\times10^{-04}j) & (-0.016+5.170\\times10^{-04}j)\\\\1.000 & (0.016+4.518\\times10^{-04}j) & (0.016-4.518\\times10^{-04}j) & 0.738\\\\\\end{array}\\right)\\end{equation*}"
      ],
      "text/plain": [
       "Quantum object: dims = [[2, 2], [2, 2]], shape = (4, 4), type = oper, isherm = False\n",
       "Qobj data =\n",
       "[[ 0.73811789+0.j         -0.01615673-0.00045178j -0.01615673+0.00045178j\n",
       "   1.        +0.j        ]\n",
       " [ 0.01609412+0.00051702j -0.11095176-0.00010366j -0.15102007+0.00019988j\n",
       "  -0.01609412-0.00051702j]\n",
       " [ 0.01609412-0.00051702j -0.15102007-0.00019988j -0.11095176+0.00010366j\n",
       "  -0.01609412+0.00051702j]\n",
       " [ 1.        +0.j          0.01615673+0.00045178j  0.01615673-0.00045178j\n",
       "   0.73811789+0.j        ]]"
      ]
     },
     "execution_count": 377,
     "metadata": {},
     "output_type": "execute_result"
    }
   ],
   "source": [
    "myU/myU[0, 3]"
   ]
  },
  {
   "cell_type": "code",
   "execution_count": 378,
   "metadata": {
    "ExecuteTime": {
     "end_time": "2019-02-04T15:06:01.107067Z",
     "start_time": "2019-02-04T15:06:00.822705Z"
    }
   },
   "outputs": [
    {
     "data": {
      "text/plain": [
       "(<Figure size 576x432 with 2 Axes>,\n",
       " <matplotlib.axes._subplots.AxesSubplot at 0x1a181000f0>)"
      ]
     },
     "execution_count": 378,
     "metadata": {},
     "output_type": "execute_result"
    },
    {
     "data": {
      "image/png": "[encoded data removed]",
      "text/plain": [
       "<Figure size 576x432 with 2 Axes>"
      ]
     },
     "metadata": {},
     "output_type": "display_data"
    }
   ],
   "source": [
    "hinton(myU)"
   ]
  },
  {
   "cell_type": "code",
   "execution_count": 379,
   "metadata": {
    "ExecuteTime": {
     "end_time": "2019-02-04T15:06:01.486512Z",
     "start_time": "2019-02-04T15:06:01.109331Z"
    }
   },
   "outputs": [
    {
     "data": {
      "text/plain": [
       "(<Figure size 576x432 with 2 Axes>,\n",
       " <matplotlib.axes._subplots.AxesSubplot at 0x1a18242898>)"
      ]
     },
     "execution_count": 379,
     "metadata": {},
     "output_type": "execute_result"
    },
    {
     "data": {
      "image/png": "[encoded data removed]",
      "text/plain": [
       "<Figure size 576x432 with 2 Axes>"
      ]
     },
     "metadata": {},
     "output_type": "display_data"
    }
   ],
   "source": [
    "hinton(L_full_maker(xi_opt, dt))"
   ]
  },
  {
   "cell_type": "markdown",
   "metadata": {},
   "source": [
    "### Try"
   ]
  },
  {
   "cell_type": "code",
   "execution_count": 380,
   "metadata": {
    "ExecuteTime": {
     "end_time": "2019-02-04T15:06:01.495527Z",
     "start_time": "2019-02-04T15:06:01.489192Z"
    }
   },
   "outputs": [],
   "source": [
    "total_time = 3*pi/omega_1\n",
    "epsilon = (0.1*2*pi)/(total_time)#10**(-6)\n",
    "max_iter = 500#10#10**4#1000#100#50#20\n",
    "time_steps = 500\n",
    "dt = total_time/time_steps"
   ]
  },
  {
   "cell_type": "code",
   "execution_count": 381,
   "metadata": {
    "ExecuteTime": {
     "end_time": "2019-02-04T15:18:25.146320Z",
     "start_time": "2019-02-04T15:06:01.497682Z"
    }
   },
   "outputs": [],
   "source": [
    "xi_opt = terminator(max_iter, time_steps, total_time, epsilon)\n",
    "#xi_opt"
   ]
  },
  {
   "cell_type": "code",
   "execution_count": 382,
   "metadata": {
    "ExecuteTime": {
     "end_time": "2019-02-04T15:18:25.961784Z",
     "start_time": "2019-02-04T15:18:25.148449Z"
    }
   },
   "outputs": [
    {
     "data": {
      "text/plain": [
       "-3.0978484663246517"
      ]
     },
     "execution_count": 382,
     "metadata": {},
     "output_type": "execute_result"
    }
   ],
   "source": [
    "F(xi_opt, dt)"
   ]
  },
  {
   "cell_type": "code",
   "execution_count": 383,
   "metadata": {
    "ExecuteTime": {
     "end_time": "2019-02-04T15:18:25.968478Z",
     "start_time": "2019-02-04T15:18:25.963974Z"
    }
   },
   "outputs": [
    {
     "data": {
      "text/plain": [
       "500"
      ]
     },
     "execution_count": 383,
     "metadata": {},
     "output_type": "execute_result"
    }
   ],
   "source": [
    "max_iter"
   ]
  },
  {
   "cell_type": "code",
   "execution_count": 384,
   "metadata": {
    "ExecuteTime": {
     "end_time": "2019-02-04T15:18:25.976393Z",
     "start_time": "2019-02-04T15:18:25.970750Z"
    }
   },
   "outputs": [
    {
     "data": {
      "text/latex": [
       "Quantum object: dims = [[2, 2], [2, 2]], shape = (4, 4), type = oper, isherm = True\\begin{equation*}\\left(\\begin{array}{*{11}c}0.0 & 0.0 & 0.0 & 1.0\\\\0.0 & 0.0 & 1.0 & 0.0\\\\0.0 & 1.0 & 0.0 & 0.0\\\\1.0 & 0.0 & 0.0 & 0.0\\\\\\end{array}\\right)\\end{equation*}"
      ],
      "text/plain": [
       "Quantum object: dims = [[2, 2], [2, 2]], shape = (4, 4), type = oper, isherm = True\n",
       "Qobj data =\n",
       "[[0. 0. 0. 1.]\n",
       " [0. 0. 1. 0.]\n",
       " [0. 1. 0. 0.]\n",
       " [1. 0. 0. 0.]]"
      ]
     },
     "execution_count": 384,
     "metadata": {},
     "output_type": "execute_result"
    }
   ],
   "source": [
    "T"
   ]
  },
  {
   "cell_type": "code",
   "execution_count": 385,
   "metadata": {
    "ExecuteTime": {
     "end_time": "2019-02-04T15:18:26.793929Z",
     "start_time": "2019-02-04T15:18:25.978628Z"
    }
   },
   "outputs": [],
   "source": [
    "myU = L_full_maker(xi_opt, dt)"
   ]
  },
  {
   "cell_type": "code",
   "execution_count": 386,
   "metadata": {
    "ExecuteTime": {
     "end_time": "2019-02-04T15:18:26.802936Z",
     "start_time": "2019-02-04T15:18:26.796371Z"
    }
   },
   "outputs": [
    {
     "data": {
      "text/latex": [
       "Quantum object: dims = [[2, 2], [2, 2]], shape = (4, 4), type = oper, isherm = False\\begin{equation*}\\left(\\begin{array}{*{11}c}1.330 & (0.067+1.236\\times10^{-04}j) & (0.067-1.236\\times10^{-04}j) & 1.0\\\\(-0.066+0.009j) & (0.189+0.005j) & (0.135+0.001j) & (0.066-0.009j)\\\\(-0.066-0.009j) & (0.135-0.001j) & (0.189-0.005j) & (0.066+0.009j)\\\\1.000 & (-0.067-1.236\\times10^{-04}j) & (-0.067+1.236\\times10^{-04}j) & 1.330\\\\\\end{array}\\right)\\end{equation*}"
      ],
      "text/plain": [
       "Quantum object: dims = [[2, 2], [2, 2]], shape = (4, 4), type = oper, isherm = False\n",
       "Qobj data =\n",
       "[[ 1.32986914+0.j          0.06672172+0.00012361j  0.06672172-0.00012361j\n",
       "   1.        +0.j        ]\n",
       " [-0.06622115+0.00859194j  0.18898441+0.00504413j  0.1350247 +0.00140284j\n",
       "   0.06622115-0.00859194j]\n",
       " [-0.06622115-0.00859194j  0.1350247 -0.00140284j  0.18898441-0.00504413j\n",
       "   0.06622115+0.00859194j]\n",
       " [ 1.        +0.j         -0.06672172-0.00012361j -0.06672172+0.00012361j\n",
       "   1.32986914+0.j        ]]"
      ]
     },
     "execution_count": 386,
     "metadata": {},
     "output_type": "execute_result"
    }
   ],
   "source": [
    "myU/myU[0, 3]"
   ]
  },
  {
   "cell_type": "code",
   "execution_count": 387,
   "metadata": {
    "ExecuteTime": {
     "end_time": "2019-02-04T15:18:27.064644Z",
     "start_time": "2019-02-04T15:18:26.805046Z"
    }
   },
   "outputs": [
    {
     "data": {
      "text/plain": [
       "(<Figure size 576x432 with 2 Axes>,\n",
       " <matplotlib.axes._subplots.AxesSubplot at 0x1a180b0978>)"
      ]
     },
     "execution_count": 387,
     "metadata": {},
     "output_type": "execute_result"
    },
    {
     "data": {
      "image/png": "[encoded data removed]",
      "text/plain": [
       "<Figure size 576x432 with 2 Axes>"
      ]
     },
     "metadata": {},
     "output_type": "display_data"
    }
   ],
   "source": [
    "hinton(myU)"
   ]
  },
  {
   "cell_type": "code",
   "execution_count": 388,
   "metadata": {
    "ExecuteTime": {
     "end_time": "2019-02-04T15:18:28.098758Z",
     "start_time": "2019-02-04T15:18:27.066745Z"
    }
   },
   "outputs": [
    {
     "data": {
      "text/plain": [
       "(<Figure size 576x432 with 2 Axes>,\n",
       " <matplotlib.axes._subplots.AxesSubplot at 0x1a185e4c18>)"
      ]
     },
     "execution_count": 388,
     "metadata": {},
     "output_type": "execute_result"
    },
    {
     "data": {
      "image/png": "[encoded data removed]",
      "text/plain": [
       "<Figure size 576x432 with 2 Axes>"
      ]
     },
     "metadata": {},
     "output_type": "display_data"
    }
   ],
   "source": [
    "hinton(L_full_maker(xi_opt, dt))"
   ]
  },
  {
   "cell_type": "markdown",
   "metadata": {},
   "source": [
    "### Try"
   ]
  },
  {
   "cell_type": "code",
   "execution_count": 389,
   "metadata": {
    "ExecuteTime": {
     "end_time": "2019-02-04T15:18:28.103765Z",
     "start_time": "2019-02-04T15:18:28.100721Z"
    }
   },
   "outputs": [],
   "source": [
    "total_time = 10*pi/omega_1\n",
    "epsilon = (0.1*2*pi)/(total_time)#10**(-6)\n",
    "max_iter = 500#10#10**4#1000#100#50#20\n",
    "time_steps = 500\n",
    "dt = total_time/time_steps"
   ]
  },
  {
   "cell_type": "code",
   "execution_count": 390,
   "metadata": {
    "ExecuteTime": {
     "end_time": "2019-02-04T15:30:29.278638Z",
     "start_time": "2019-02-04T15:18:28.105951Z"
    }
   },
   "outputs": [],
   "source": [
    "xi_opt = terminator(max_iter, time_steps, total_time, epsilon)\n",
    "#xi_opt"
   ]
  },
  {
   "cell_type": "code",
   "execution_count": 391,
   "metadata": {
    "ExecuteTime": {
     "end_time": "2019-02-04T15:30:30.213130Z",
     "start_time": "2019-02-04T15:30:29.281128Z"
    }
   },
   "outputs": [
    {
     "data": {
      "text/plain": [
       "-2.99996471529451"
      ]
     },
     "execution_count": 391,
     "metadata": {},
     "output_type": "execute_result"
    }
   ],
   "source": [
    "F(xi_opt, dt)"
   ]
  },
  {
   "cell_type": "code",
   "execution_count": 392,
   "metadata": {
    "ExecuteTime": {
     "end_time": "2019-02-04T15:30:30.219556Z",
     "start_time": "2019-02-04T15:30:30.215179Z"
    }
   },
   "outputs": [
    {
     "data": {
      "text/plain": [
       "500"
      ]
     },
     "execution_count": 392,
     "metadata": {},
     "output_type": "execute_result"
    }
   ],
   "source": [
    "max_iter"
   ]
  },
  {
   "cell_type": "code",
   "execution_count": 393,
   "metadata": {
    "ExecuteTime": {
     "end_time": "2019-02-04T15:30:30.229226Z",
     "start_time": "2019-02-04T15:30:30.222105Z"
    }
   },
   "outputs": [
    {
     "data": {
      "text/latex": [
       "Quantum object: dims = [[2, 2], [2, 2]], shape = (4, 4), type = oper, isherm = True\\begin{equation*}\\left(\\begin{array}{*{11}c}0.0 & 0.0 & 0.0 & 1.0\\\\0.0 & 0.0 & 1.0 & 0.0\\\\0.0 & 1.0 & 0.0 & 0.0\\\\1.0 & 0.0 & 0.0 & 0.0\\\\\\end{array}\\right)\\end{equation*}"
      ],
      "text/plain": [
       "Quantum object: dims = [[2, 2], [2, 2]], shape = (4, 4), type = oper, isherm = True\n",
       "Qobj data =\n",
       "[[0. 0. 0. 1.]\n",
       " [0. 0. 1. 0.]\n",
       " [0. 1. 0. 0.]\n",
       " [1. 0. 0. 0.]]"
      ]
     },
     "execution_count": 393,
     "metadata": {},
     "output_type": "execute_result"
    }
   ],
   "source": [
    "T"
   ]
  },
  {
   "cell_type": "code",
   "execution_count": 394,
   "metadata": {
    "ExecuteTime": {
     "end_time": "2019-02-04T15:30:31.037876Z",
     "start_time": "2019-02-04T15:30:30.231369Z"
    }
   },
   "outputs": [],
   "source": [
    "myU = L_full_maker(xi_opt, dt)"
   ]
  },
  {
   "cell_type": "code",
   "execution_count": 395,
   "metadata": {
    "ExecuteTime": {
     "end_time": "2019-02-04T15:30:31.047732Z",
     "start_time": "2019-02-04T15:30:31.040469Z"
    }
   },
   "outputs": [
    {
     "data": {
      "text/latex": [
       "Quantum object: dims = [[2, 2], [2, 2]], shape = (4, 4), type = oper, isherm = False\\begin{equation*}\\left(\\begin{array}{*{11}c}0.999 & (-0.002-2.910\\times10^{-04}j) & (-0.002+2.910\\times10^{-04}j) & 1.0\\\\(0.002+7.222\\times10^{-05}j) & (-5.341\\times10^{-04}-1.041\\times10^{-04}j) & (-5.661\\times10^{-04}-8.571\\times10^{-05}j) & (-0.002-7.222\\times10^{-05}j)\\\\(0.002-7.222\\times10^{-05}j) & (-5.661\\times10^{-04}+8.571\\times10^{-05}j) & (-5.341\\times10^{-04}+1.041\\times10^{-04}j) & (-0.002+7.222\\times10^{-05}j)\\\\1.0 & (0.002+2.910\\times10^{-04}j) & (0.002-2.910\\times10^{-04}j) & 0.999\\\\\\end{array}\\right)\\end{equation*}"
      ],
      "text/plain": [
       "Quantum object: dims = [[2, 2], [2, 2]], shape = (4, 4), type = oper, isherm = False\n",
       "Qobj data =\n",
       "[[ 9.98825883e-01+0.00000000e+00j -1.62180278e-03-2.90996304e-04j\n",
       "  -1.62180278e-03+2.90996304e-04j  1.00000000e+00+0.00000000e+00j]\n",
       " [ 1.80600931e-03+7.22232562e-05j -5.34103221e-04-1.04071454e-04j\n",
       "  -5.66105583e-04-8.57109731e-05j -1.80600931e-03-7.22232562e-05j]\n",
       " [ 1.80600931e-03-7.22232562e-05j -5.66105583e-04+8.57109731e-05j\n",
       "  -5.34103221e-04+1.04071454e-04j -1.80600931e-03+7.22232562e-05j]\n",
       " [ 1.00000000e+00+0.00000000e+00j  1.62180278e-03+2.90996304e-04j\n",
       "   1.62180278e-03-2.90996304e-04j  9.98825883e-01+0.00000000e+00j]]"
      ]
     },
     "execution_count": 395,
     "metadata": {},
     "output_type": "execute_result"
    }
   ],
   "source": [
    "myU/myU[0, 3]"
   ]
  },
  {
   "cell_type": "code",
   "execution_count": 396,
   "metadata": {
    "ExecuteTime": {
     "end_time": "2019-02-04T15:30:31.293692Z",
     "start_time": "2019-02-04T15:30:31.049757Z"
    }
   },
   "outputs": [
    {
     "data": {
      "text/plain": [
       "(<Figure size 576x432 with 2 Axes>,\n",
       " <matplotlib.axes._subplots.AxesSubplot at 0x1a186fda58>)"
      ]
     },
     "execution_count": 396,
     "metadata": {},
     "output_type": "execute_result"
    },
    {
     "data": {
      "image/png": "[encoded data removed]",
      "text/plain": [
       "<Figure size 576x432 with 2 Axes>"
      ]
     },
     "metadata": {},
     "output_type": "display_data"
    }
   ],
   "source": [
    "hinton(myU)"
   ]
  },
  {
   "cell_type": "code",
   "execution_count": 397,
   "metadata": {
    "ExecuteTime": {
     "end_time": "2019-02-04T15:30:32.292420Z",
     "start_time": "2019-02-04T15:30:31.296151Z"
    }
   },
   "outputs": [
    {
     "data": {
      "text/plain": [
       "(<Figure size 576x432 with 2 Axes>,\n",
       " <matplotlib.axes._subplots.AxesSubplot at 0x1a187aaac8>)"
      ]
     },
     "execution_count": 397,
     "metadata": {},
     "output_type": "execute_result"
    },
    {
     "data": {
      "image/png": "[encoded data removed]",
      "text/plain": [
       "<Figure size 576x432 with 2 Axes>"
      ]
     },
     "metadata": {},
     "output_type": "display_data"
    }
   ],
   "source": [
    "hinton(L_full_maker(xi_opt, dt))"
   ]
  },
  {
   "cell_type": "code",
   "execution_count": null,
   "metadata": {},
   "outputs": [],
   "source": []
  },
  {
   "cell_type": "code",
   "execution_count": null,
   "metadata": {},
   "outputs": [],
   "source": []
  },
  {
   "cell_type": "code",
   "execution_count": null,
   "metadata": {},
   "outputs": [],
   "source": []
  }
 ],
 "metadata": {
  "kernelspec": {
   "display_name": "Python 3",
   "language": "python",
   "name": "python3"
  },
  "language_info": {
   "codemirror_mode": {
    "name": "ipython",
    "version": 3
   },
   "file_extension": ".py",
   "mimetype": "text/x-python",
   "name": "python",
   "nbconvert_exporter": "python",
   "pygments_lexer": "ipython3",
   "version": "3.6.8"
  },
  "toc": {
   "base_numbering": 1,
   "nav_menu": {},
   "number_sections": true,
   "sideBar": true,
   "skip_h1_title": false,
   "title_cell": "Table of Contents",
   "title_sidebar": "Contents",
   "toc_cell": false,
   "toc_position": {
    "height": "calc(100% - 180px)",
    "left": "10px",
    "top": "150px",
    "width": "288px"
   },
   "toc_section_display": true,
   "toc_window_display": true
  },
  "varInspector": {
   "cols": {
    "lenName": 16,
    "lenType": 16,
    "lenVar": 40
   },
   "kernels_config": {
    "python": {
     "delete_cmd_postfix": "",
     "delete_cmd_prefix": "del ",
     "library": "var_list.py",
     "varRefreshCmd": "print(var_dic_list())"
    },
    "r": {
     "delete_cmd_postfix": ") ",
     "delete_cmd_prefix": "rm(",
     "library": "var_list.r",
     "varRefreshCmd": "cat(var_dic_list()) "
    }
   },
   "types_to_exclude": [
    "module",
    "function",
    "builtin_function_or_method",
    "instance",
    "_Feature"
   ],
   "window_display": false
  }
 },
 "nbformat": 4,
 "nbformat_minor": 2
}
