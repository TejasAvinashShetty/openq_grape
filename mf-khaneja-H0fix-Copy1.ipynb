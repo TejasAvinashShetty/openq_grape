{
 "cells": [
  {
   "cell_type": "markdown",
   "metadata": {
    "heading_collapsed": true
   },
   "source": [
    "# Imports"
   ]
  },
  {
   "cell_type": "code",
   "execution_count": 1,
   "metadata": {
    "ExecuteTime": {
     "end_time": "2019-02-04T07:04:40.210134Z",
     "start_time": "2019-02-04T07:04:38.283535Z"
    },
    "hidden": true
   },
   "outputs": [],
   "source": [
    "\n",
    "# coding: utf-8\n",
    "\n",
    "# # Imports\n",
    "\n",
    "# ## Qutip imports 1\n",
    "\n",
    "# In[1]:\n",
    "\n",
    "\n",
    "from qutip.operators import sigmax, sigmay, sigmaz, identity\n",
    "# position, momentum, num, create, destroy, commutator, qeye \n",
    "from qutip.tensor import tensor\n",
    "from qutip.qip.gates import swap, rx, ry, rz\n",
    "from qutip.qobj import Qobj\n",
    "from qutip.visualization import hinton\n",
    "from qutip.visualization import matrix_histogram_complex, matrix_histogram\n",
    "from qutip.random_objects import rand_herm, rand_unitary, rand_dm\n",
    "\n",
    "\n",
    "# ## Qutip imports 2\n",
    "\n",
    "# In[2]:\n",
    "\n",
    "\n",
    "#from \n",
    "\n",
    "\n",
    "# ## Numpy imports \n",
    "\n",
    "# In[2]:\n",
    "\n",
    "\n",
    "from numpy import sin, cos, tan, real, imag,  log, conj\n",
    "from numpy import array, append, linspace, arange\n",
    "from numpy import add, sqrt, abs, dot\n",
    "from numpy.random import random, random_sample, rand, seed, RandomState\n",
    "from numpy import concatenate, trace, diag\n",
    "from numpy import ones, zeros, ones_like, zeros_like\n",
    "from numpy import amax, amin, nanmax, nanmin\n",
    "from numpy import outer, multiply\n",
    "# from numpy import pi\n",
    "\n",
    "\n",
    "# ## Scipy imports\n",
    "\n",
    "# In[17]:\n",
    "\n",
    "\n",
    "from scipy.integrate import ode, odeint, complex_ode\n",
    "from scipy.optimize import minimize\n",
    "from scipy.linalg import eigh, inv, norm, expm\n",
    "# from scipy.linalg import \n",
    "# from scipy import\n",
    "\n",
    "\n",
    "# ## Matplotlib imports\n",
    "\n",
    "# In[18]:\n",
    "\n",
    "\n",
    "from matplotlib.pyplot import plot, figure, show, savefig, axes\n",
    "from matplotlib.pyplot import xlabel, ylabel, title, legend\n",
    "from matplotlib import rcParams\n",
    "from matplotlib.pyplot import style \n",
    "from matplotlib.pyplot import xlim, ylim, axis \n",
    "# beware not same as axes\n",
    "from matplotlib.pyplot import subplot, subplots, text\n",
    "from matplotlib.pyplot import GridSpec\n",
    "from matplotlib.pyplot import scatter, colorbar\n",
    "\n",
    "\n",
    "pgf_with_rc_fonts = {\"pgf.texsystem\": \"pdflatex\"}\n",
    "rcParams.update(pgf_with_rc_fonts)\n",
    "style.use('seaborn-whitegrid')\n",
    "\n",
    "\n",
    "# ## Math imports\n",
    "\n",
    "# In[19]:\n",
    "\n",
    "\n",
    "from math import pi\n",
    "from math import exp\n",
    "\n",
    "\n",
    "# ## Cmath imports\n",
    "\n",
    "# ## Date and datetime imports\n",
    "\n",
    "# In[20]:\n",
    "\n",
    "\n",
    "from datetime import date\n",
    "from datetime import datetime# now\n",
    "\n",
    "\n",
    "# ## Os imports\n",
    "\n",
    "# In[21]:\n",
    "\n",
    "\n",
    "from os import getcwd, mkdir, chdir\n",
    "from os.path import abspath, join \n",
    "\n",
    "\n",
    "# ## Sympy imports\n",
    "\n",
    "# In[22]:\n",
    "\n",
    "\n",
    "from sympy import Function, dsolve, Eq, Derivative, symbols\n",
    "# x, y, z, t = symbols('x y z t')\n",
    "# k, m, n = symbols('k m n', integer=True)\n",
    "# f, g, h = symbols('f g h', cls=Function)\n",
    "\n",
    "\n",
    "# ## Miscellaneous imports\n",
    "\n",
    "# ## Extra useful functions\n",
    "\n",
    "# In[23]:\n",
    "\n",
    "\n",
    "def rint(x):\n",
    "    print(\"x = \", x)\n",
    "    return None\n",
    "\n",
    "\n",
    "# # Next chapter\n",
    "\n",
    "# ## sub topic 1\n",
    "\n",
    "# ## sub topic 2\n",
    "\n",
    "# ## sub topic 3\n",
    "\n",
    "# ### sub sub topic 1\n",
    "\n"
   ]
  },
  {
   "cell_type": "markdown",
   "metadata": {},
   "source": [
    "# The code "
   ]
  },
  {
   "cell_type": "markdown",
   "metadata": {},
   "source": [
    "## memory wiping"
   ]
  },
  {
   "cell_type": "code",
   "execution_count": 190,
   "metadata": {
    "ExecuteTime": {
     "end_time": "2019-02-03T05:32:46.513314Z",
     "start_time": "2019-02-03T05:32:46.454913Z"
    }
   },
   "outputs": [],
   "source": [
    "%reset_selective -f  omega_1, total_time, epsilon, max_iter, time_steps, dt"
   ]
  },
  {
   "cell_type": "code",
   "execution_count": 191,
   "metadata": {
    "ExecuteTime": {
     "end_time": "2019-02-03T05:32:46.522485Z",
     "start_time": "2019-02-03T05:32:46.518182Z"
    }
   },
   "outputs": [],
   "source": [
    "%reset_selective -f  Lin, T_s, I"
   ]
  },
  {
   "cell_type": "markdown",
   "metadata": {},
   "source": [
    "## Building parts"
   ]
  },
  {
   "cell_type": "markdown",
   "metadata": {},
   "source": [
    "### Building the things to be calculated only once"
   ]
  },
  {
   "cell_type": "code",
   "execution_count": 192,
   "metadata": {
    "ExecuteTime": {
     "end_time": "2019-02-03T05:32:47.225279Z",
     "start_time": "2019-02-03T05:32:47.202382Z"
    },
    "code_folding": []
   },
   "outputs": [],
   "source": [
    "def maker(H_0, H_1, T_s, Lin, d=2, gamma=0.1):\n",
    "    r\"\"\"maker\n",
    "    Makes all the things that remain constant throught the program, but are \n",
    "    repeatedly used.\n",
    "    \n",
    "\n",
    "    Parameters\n",
    "    ----------\n",
    "              \n",
    "    H_0     : Qobj\n",
    "              Bare Hamiltonian \n",
    "              \n",
    "    H_1     : Qobj\n",
    "              Interaction Hamiltonian \n",
    "              \n",
    "    T_s     : Qobj\n",
    "              Unitary to be implemented in the Hilbert space\n",
    "    \n",
    "    Lin     : Qobj\n",
    "              Linbladian operators\n",
    "\n",
    "    d       : int\n",
    "              Dimension of the matrix. Defaults to 2\n",
    "    \n",
    "    gamma   : float\n",
    "              Damping constant of the Linbladian\n",
    "\n",
    "    \n",
    "    Returns\n",
    "    -------\n",
    "    \n",
    "    ih0     : Qobj\n",
    "              $I\\otimes H_{0}$\n",
    "              \n",
    "    ih1     : Qobj\n",
    "              $I\\otimes H_{1}$\n",
    "\n",
    "    h0ci    : Qobj\n",
    "              $H_{0}^{*}\\otimes I $\n",
    "\n",
    "    h1ci    : Qobj\n",
    "              $H_{1}^{*}\\otimes I $\n",
    "\n",
    "    T       : Qobj\n",
    "              Target unitary transformed to the Liouville space\n",
    "\n",
    "    linbladian : Qobj\n",
    "                 The full lindbladian term as it appears on transformation to \n",
    "                 the Liouville space.\n",
    "        \n",
    "    \"\"\"\n",
    "    I = identity(d)\n",
    "    L_I = tensor(I, I)\n",
    "    ih0 = tensor(I, H_0) \n",
    "    ih1 = tensor(I, H_1) \n",
    "    h0ci = tensor(H_0.conj(), I) \n",
    "    h1ci = tensor(H_1.conj(), I)\n",
    "    x_k = ih1 - h1ci\n",
    "    term1 = tensor(Lin.trans(), Lin)\n",
    "    term2 = tensor(I, ((Lin.dag())*(Lin)))\n",
    "    term3 = tensor(((Lin.trans())*(Lin.conj())), I)\n",
    "    lindbladian = 1j*(gamma)*(term1 - 0.5*(term2 + term3))\n",
    "    T = tensor(T_s.trans(), T_s) # Transforming $T_{s}$ to liouville space\n",
    "    \n",
    "    \n",
    "    return ih0, ih1, h0ci, h1ci, x_k, lindbladian, T, L_I"
   ]
  },
  {
   "cell_type": "code",
   "execution_count": 193,
   "metadata": {
    "ExecuteTime": {
     "end_time": "2019-02-03T05:32:47.385320Z",
     "start_time": "2019-02-03T05:32:47.228931Z"
    }
   },
   "outputs": [],
   "source": [
    "omega_1 = 0.5\n",
    "H_0 = omega_1*sigmaz() \n",
    "H_1 = sigmay()\n",
    "T_s = sigmax() \n",
    "Lin = sigmaz()\n",
    "ih0, ih1, h0ci, h1ci, x_k, lindbladian, T, L_I  = maker(\n",
    "                                                  H_0, H_1, T_s, \n",
    "                                                  Lin, d=2, gamma=0.1)"
   ]
  },
  {
   "cell_type": "code",
   "execution_count": 194,
   "metadata": {
    "ExecuteTime": {
     "end_time": "2019-02-03T05:32:47.429377Z",
     "start_time": "2019-02-03T05:32:47.388128Z"
    }
   },
   "outputs": [
    {
     "data": {
      "text/latex": [
       "Quantum object: dims = [[2, 2], [2, 2]], shape = (4, 4), type = oper, isherm = True\\begin{equation*}\\left(\\begin{array}{*{11}c}1.0 & 0.0 & 0.0 & 0.0\\\\0.0 & 1.0 & 0.0 & 0.0\\\\0.0 & 0.0 & 1.0 & 0.0\\\\0.0 & 0.0 & 0.0 & 1.0\\\\\\end{array}\\right)\\end{equation*}"
      ],
      "text/plain": [
       "Quantum object: dims = [[2, 2], [2, 2]], shape = (4, 4), type = oper, isherm = True\n",
       "Qobj data =\n",
       "[[1. 0. 0. 0.]\n",
       " [0. 1. 0. 0.]\n",
       " [0. 0. 1. 0.]\n",
       " [0. 0. 0. 1.]]"
      ]
     },
     "execution_count": 194,
     "metadata": {},
     "output_type": "execute_result"
    }
   ],
   "source": [
    "L_I"
   ]
  },
  {
   "cell_type": "markdown",
   "metadata": {},
   "source": [
    "### Building $And(t)$"
   ]
  },
  {
   "cell_type": "code",
   "execution_count": 195,
   "metadata": {
    "ExecuteTime": {
     "end_time": "2019-02-03T05:32:47.598290Z",
     "start_time": "2019-02-03T05:32:47.594847Z"
    }
   },
   "outputs": [],
   "source": [
    "def And(xi):\n",
    "    r\"\"\"making $And(t)$\"\"\"\n",
    "    And = ih0 - h0ci + xi*(ih1 - h1ci) + lindbladian\n",
    "    return And"
   ]
  },
  {
   "cell_type": "code",
   "execution_count": 196,
   "metadata": {
    "ExecuteTime": {
     "end_time": "2019-02-03T05:32:47.622072Z",
     "start_time": "2019-02-03T05:32:47.612290Z"
    }
   },
   "outputs": [
    {
     "data": {
      "text/latex": [
       "Quantum object: dims = [[2, 2], [2, 2]], shape = (4, 4), type = oper, isherm = False\\begin{equation*}\\left(\\begin{array}{*{11}c}0.0 & -0.500j & -0.500j & 0.0\\\\0.500j & (-1.0-0.200j) & 0.0 & -0.500j\\\\0.500j & 0.0 & (1.0-0.200j) & -0.500j\\\\0.0 & 0.500j & 0.500j & 0.0\\\\\\end{array}\\right)\\end{equation*}"
      ],
      "text/plain": [
       "Quantum object: dims = [[2, 2], [2, 2]], shape = (4, 4), type = oper, isherm = False\n",
       "Qobj data =\n",
       "[[ 0.+0.j   0.-0.5j  0.-0.5j  0.+0.j ]\n",
       " [ 0.+0.5j -1.-0.2j  0.+0.j   0.-0.5j]\n",
       " [ 0.+0.5j  0.+0.j   1.-0.2j  0.-0.5j]\n",
       " [ 0.+0.j   0.+0.5j  0.+0.5j  0.+0.j ]]"
      ]
     },
     "execution_count": 196,
     "metadata": {},
     "output_type": "execute_result"
    }
   ],
   "source": [
    "And(0.5)"
   ]
  },
  {
   "cell_type": "markdown",
   "metadata": {},
   "source": [
    "### Building $Lnd(t)$ "
   ]
  },
  {
   "cell_type": "code",
   "execution_count": 197,
   "metadata": {
    "ExecuteTime": {
     "end_time": "2019-02-03T05:32:47.941206Z",
     "start_time": "2019-02-03T05:32:47.937416Z"
    }
   },
   "outputs": [],
   "source": [
    "def Lnd(xi, dt):\n",
    "    r\"\"\"Making $Lnd(t) from $A(t)$\"\"\"\n",
    "    Lnd = (-1j*And(xi)*dt).expm()\n",
    "    return Lnd"
   ]
  },
  {
   "cell_type": "code",
   "execution_count": 198,
   "metadata": {
    "ExecuteTime": {
     "end_time": "2019-02-03T05:32:48.137603Z",
     "start_time": "2019-02-03T05:32:47.975216Z"
    }
   },
   "outputs": [
    {
     "data": {
      "text/latex": [
       "Quantum object: dims = [[2, 2], [2, 2]], shape = (4, 4), type = oper, isherm = False\\begin{equation*}\\left(\\begin{array}{*{11}c}1.000 & (-4.999\\times10^{-04}-2.500\\times10^{-07}j) & (-4.999\\times10^{-04}+2.500\\times10^{-07}j) & 2.500\\times10^{-07}\\\\(4.999\\times10^{-04}+2.500\\times10^{-07}j) & (1.000+9.998\\times10^{-04}j) & -2.500\\times10^{-07} & (-4.999\\times10^{-04}-2.500\\times10^{-07}j)\\\\(4.999\\times10^{-04}-2.500\\times10^{-07}j) & -2.500\\times10^{-07} & (1.000-9.998\\times10^{-04}j) & (-4.999\\times10^{-04}+2.500\\times10^{-07}j)\\\\2.500\\times10^{-07} & (4.999\\times10^{-04}+2.500\\times10^{-07}j) & (4.999\\times10^{-04}-2.500\\times10^{-07}j) & 1.000\\\\\\end{array}\\right)\\end{equation*}"
      ],
      "text/plain": [
       "Quantum object: dims = [[2, 2], [2, 2]], shape = (4, 4), type = oper, isherm = False\n",
       "Qobj data =\n",
       "[[ 9.99999750e-01+0.00000000e+00j -4.99949837e-04-2.49966628e-07j\n",
       "  -4.99949837e-04+2.49966628e-07j  2.49983293e-07+0.00000000e+00j]\n",
       " [ 4.99949837e-04+2.49966628e-07j  9.99799270e-01+9.99799687e-04j\n",
       "  -2.49966628e-07+0.00000000e+00j -4.99949837e-04-2.49966628e-07j]\n",
       " [ 4.99949837e-04-2.49966628e-07j -2.49966628e-07+0.00000000e+00j\n",
       "   9.99799270e-01-9.99799687e-04j -4.99949837e-04+2.49966628e-07j]\n",
       " [ 2.49983293e-07+0.00000000e+00j  4.99949837e-04+2.49966628e-07j\n",
       "   4.99949837e-04-2.49966628e-07j  9.99999750e-01+0.00000000e+00j]]"
      ]
     },
     "execution_count": 198,
     "metadata": {},
     "output_type": "execute_result"
    }
   ],
   "source": [
    "Lnd(0.5, 0.001)"
   ]
  },
  {
   "cell_type": "markdown",
   "metadata": {},
   "source": [
    "## Major functions"
   ]
  },
  {
   "cell_type": "markdown",
   "metadata": {},
   "source": [
    "### Major functions 1"
   ]
  },
  {
   "cell_type": "code",
   "execution_count": 199,
   "metadata": {
    "ExecuteTime": {
     "end_time": "2019-02-03T05:32:51.433325Z",
     "start_time": "2019-02-03T05:32:51.425950Z"
    }
   },
   "outputs": [],
   "source": [
    "# building the function to optimize (optimizee)\n",
    "def Lnd_vec(xi_vec, dt):\n",
    "    r\"\"\"Building the vector of differential $Lnd(t)$\"\"\"\n",
    "    Lnd_vec = [Lnd(xi, dt) for xi in xi_vec] \n",
    "    return Lnd_vec"
   ]
  },
  {
   "cell_type": "code",
   "execution_count": 200,
   "metadata": {
    "ExecuteTime": {
     "end_time": "2019-02-03T05:32:51.442474Z",
     "start_time": "2019-02-03T05:32:51.436724Z"
    }
   },
   "outputs": [],
   "source": [
    "def fidelity_calc(A, B):\n",
    "    r\"\"\"Making a generalised fidelity function\"\"\"\n",
    "    first_part = (A - B).dag()\n",
    "    second_part = (A - B)\n",
    "    f_int = (first_part* second_part)\n",
    "    f = f_int.tr()\n",
    "    return f"
   ]
  },
  {
   "cell_type": "code",
   "execution_count": 201,
   "metadata": {
    "ExecuteTime": {
     "end_time": "2019-02-03T05:32:51.453251Z",
     "start_time": "2019-02-03T05:32:51.444936Z"
    }
   },
   "outputs": [],
   "source": [
    "def Lnd_full_maker(xi_vec, dt):\n",
    "    r\"\"\"Building the $Lnd(t)$ for the total time $t$\"\"\"\n",
    "    xi_vec_size = xi_vec.size # finding the size of xi\n",
    "    Lnd_full = L_I # Identity for the for loop of Lnd\n",
    "    Lnd_v = Lnd_vec(xi_vec, dt) # calling Lnd_vec\n",
    "    for i in range(xi_vec_size): # generating Lnd_full\n",
    "        Lnd_full = Lnd_full*Lnd_v[xi_vec_size - 1 - i]\n",
    "    return Lnd_full"
   ]
  },
  {
   "cell_type": "code",
   "execution_count": 202,
   "metadata": {
    "ExecuteTime": {
     "end_time": "2019-02-03T05:32:51.459766Z",
     "start_time": "2019-02-03T05:32:51.455912Z"
    }
   },
   "outputs": [],
   "source": [
    "def F(xi_vec, dt):\n",
    "    r\"\"\"Using the fidelity metric to find out the closeness between $T$\n",
    "    and $Lnd(t)$\"\"\"\n",
    "    Lnd_full = Lnd_full_maker(xi_vec, dt)\n",
    "    F = real(-fidelity_calc(T, Lnd_full))   \n",
    "    return F"
   ]
  },
  {
   "cell_type": "markdown",
   "metadata": {},
   "source": [
    "### Testing major functions 1"
   ]
  },
  {
   "cell_type": "code",
   "execution_count": 203,
   "metadata": {
    "ExecuteTime": {
     "end_time": "2019-02-03T05:32:51.641156Z",
     "start_time": "2019-02-03T05:32:51.632306Z"
    }
   },
   "outputs": [
    {
     "data": {
      "text/plain": [
       "4.0"
      ]
     },
     "execution_count": 203,
     "metadata": {},
     "output_type": "execute_result"
    }
   ],
   "source": [
    "fidelity_calc(sigmax(), sigmay())"
   ]
  },
  {
   "cell_type": "code",
   "execution_count": 204,
   "metadata": {
    "ExecuteTime": {
     "end_time": "2019-02-03T05:32:51.653382Z",
     "start_time": "2019-02-03T05:32:51.643600Z"
    }
   },
   "outputs": [
    {
     "data": {
      "text/plain": [
       "0.0"
      ]
     },
     "execution_count": 204,
     "metadata": {},
     "output_type": "execute_result"
    }
   ],
   "source": [
    "fidelity_calc(sigmay(), sigmay())"
   ]
  },
  {
   "cell_type": "code",
   "execution_count": 205,
   "metadata": {
    "ExecuteTime": {
     "end_time": "2019-02-03T05:32:51.662169Z",
     "start_time": "2019-02-03T05:32:51.655882Z"
    }
   },
   "outputs": [
    {
     "data": {
      "text/plain": [
       "array([1., 2.])"
      ]
     },
     "execution_count": 205,
     "metadata": {},
     "output_type": "execute_result"
    }
   ],
   "source": [
    "xi_vec_test = array([1.0, 2.0])\n",
    "xi_vec_test"
   ]
  },
  {
   "cell_type": "code",
   "execution_count": 206,
   "metadata": {
    "ExecuteTime": {
     "end_time": "2019-02-03T05:32:51.669308Z",
     "start_time": "2019-02-03T05:32:51.664697Z"
    }
   },
   "outputs": [
    {
     "data": {
      "text/plain": [
       "2"
      ]
     },
     "execution_count": 206,
     "metadata": {},
     "output_type": "execute_result"
    }
   ],
   "source": [
    "xi_vec_test.size"
   ]
  },
  {
   "cell_type": "code",
   "execution_count": 207,
   "metadata": {
    "ExecuteTime": {
     "end_time": "2019-02-03T05:32:51.681685Z",
     "start_time": "2019-02-03T05:32:51.671609Z"
    }
   },
   "outputs": [
    {
     "data": {
      "text/plain": [
       "[1.0, 4.0]"
      ]
     },
     "execution_count": 207,
     "metadata": {},
     "output_type": "execute_result"
    }
   ],
   "source": [
    "w_vec = [xi**2 for xi in xi_vec_test]\n",
    "w_vec"
   ]
  },
  {
   "cell_type": "code",
   "execution_count": 208,
   "metadata": {
    "ExecuteTime": {
     "end_time": "2019-02-03T05:32:51.703852Z",
     "start_time": "2019-02-03T05:32:51.685268Z"
    }
   },
   "outputs": [
    {
     "data": {
      "text/plain": [
       "-7.998400634493139"
      ]
     },
     "execution_count": 208,
     "metadata": {},
     "output_type": "execute_result"
    }
   ],
   "source": [
    "# F(xi_vec, dt)\n",
    "F(xi_vec_test, 0.001)"
   ]
  },
  {
   "cell_type": "code",
   "execution_count": 209,
   "metadata": {
    "ExecuteTime": {
     "end_time": "2019-02-03T05:32:51.714443Z",
     "start_time": "2019-02-03T05:32:51.705609Z"
    }
   },
   "outputs": [],
   "source": [
    "Lnd_v = Lnd_vec(xi_vec_test, 0.001)"
   ]
  },
  {
   "cell_type": "code",
   "execution_count": 210,
   "metadata": {
    "ExecuteTime": {
     "end_time": "2019-02-03T05:32:51.725426Z",
     "start_time": "2019-02-03T05:32:51.716758Z"
    }
   },
   "outputs": [
    {
     "data": {
      "text/plain": [
       "[Quantum object: dims = [[2, 2], [2, 2]], shape = (4, 4), type = oper, isherm = False\n",
       " Qobj data =\n",
       " [[ 9.99999000e-01+0.00000000e+00j -9.99899173e-04-4.99933130e-07j\n",
       "   -9.99899173e-04+4.99933130e-07j  9.99932920e-07+0.00000000e+00j]\n",
       "  [ 9.99899173e-04+4.99933130e-07j  9.99798520e-01+9.99799187e-04j\n",
       "   -9.99866260e-07+0.00000000e+00j -9.99899173e-04-4.99933130e-07j]\n",
       "  [ 9.99899173e-04-4.99933130e-07j -9.99866260e-07+0.00000000e+00j\n",
       "    9.99798520e-01-9.99799187e-04j -9.99899173e-04+4.99933130e-07j]\n",
       "  [ 9.99932920e-07+0.00000000e+00j  9.99899173e-04+4.99933130e-07j\n",
       "    9.99899173e-04-4.99933130e-07j  9.99999000e-01+0.00000000e+00j]],\n",
       " Quantum object: dims = [[2, 2], [2, 2]], shape = (4, 4), type = oper, isherm = False\n",
       " Qobj data =\n",
       " [[ 9.99996000e-01+0.00000000e+00j -1.99979435e-03-9.99865260e-07j\n",
       "   -1.99979435e-03+9.99865260e-07j  3.99972768e-06+0.00000000e+00j]\n",
       "  [ 1.99979435e-03+9.99865260e-07j  9.99795521e-01+9.99797187e-04j\n",
       "   -3.99946104e-06+0.00000000e+00j -1.99979435e-03-9.99865260e-07j]\n",
       "  [ 1.99979435e-03-9.99865260e-07j -3.99946104e-06+0.00000000e+00j\n",
       "    9.99795521e-01-9.99797187e-04j -1.99979435e-03+9.99865260e-07j]\n",
       "  [ 3.99972768e-06+0.00000000e+00j  1.99979435e-03+9.99865260e-07j\n",
       "    1.99979435e-03-9.99865260e-07j  9.99996000e-01+0.00000000e+00j]]]"
      ]
     },
     "execution_count": 210,
     "metadata": {},
     "output_type": "execute_result"
    }
   ],
   "source": [
    "Lnd_v"
   ]
  },
  {
   "cell_type": "markdown",
   "metadata": {},
   "source": [
    "### Major Functions 2"
   ]
  },
  {
   "cell_type": "code",
   "execution_count": 211,
   "metadata": {
    "ExecuteTime": {
     "end_time": "2019-02-03T05:32:51.861891Z",
     "start_time": "2019-02-03T05:32:51.857887Z"
    }
   },
   "outputs": [],
   "source": [
    "def Lnd_comma_k_maker(xi_vec, k, dt):\n",
    "    r\"\"\"Making of the derivative of full $Lnd(t)$ at time $t_{k}$\"\"\"\n",
    "    N = xi_vec.size \n",
    "    # Determining the size of xi, and thus the time_steps indirectly.\n",
    "    Lnd_v = Lnd_vec(xi_vec, dt)# Making of the full $Lnd(t)$\n",
    "    inner_part = L_I # Beginner for the for loop\n",
    "    for i in range(N):\n",
    "        if i == ( N - 1 - k ):\n",
    "            # The step at which $X_{k}(t)$ has to be inserted \n",
    "            inner_part = inner_part*x_k*Lnd_v[k - 1]\n",
    "        else:\n",
    "            # Usual multiplications of $Lnd_{k}$\n",
    "            inner_part = inner_part*Lnd_v[N - 1 - i]\n",
    "    lnd_comma_k = inner_part\n",
    "    return lnd_comma_k\n",
    "    "
   ]
  },
  {
   "cell_type": "code",
   "execution_count": 212,
   "metadata": {
    "ExecuteTime": {
     "end_time": "2019-02-03T05:32:51.923116Z",
     "start_time": "2019-02-03T05:32:51.890070Z"
    }
   },
   "outputs": [
    {
     "data": {
      "text/latex": [
       "Quantum object: dims = [[2, 2], [2, 2]], shape = (4, 4), type = oper, isherm = False\\begin{equation*}\\left(\\begin{array}{*{11}c}1.000 & (-0.003-3.499\\times10^{-06}j) & (-0.003+3.499\\times10^{-06}j) & 8.999\\times10^{-06}\\\\(0.003+2.499\\times10^{-06}j) & (1.000+0.002j) & (-8.998\\times10^{-06}+2.999\\times10^{-09}j) & (-0.003-2.499\\times10^{-06}j)\\\\(0.003-2.499\\times10^{-06}j) & (-8.998\\times10^{-06}-2.999\\times10^{-09}j) & (1.000-0.002j) & (-0.003+2.499\\times10^{-06}j)\\\\8.999\\times10^{-06} & (0.003+3.499\\times10^{-06}j) & (0.003-3.499\\times10^{-06}j) & 1.000\\\\\\end{array}\\right)\\end{equation*}"
      ],
      "text/plain": [
       "Quantum object: dims = [[2, 2], [2, 2]], shape = (4, 4), type = oper, isherm = False\n",
       "Qobj data =\n",
       "[[ 9.99991001e-01+0.00000000e+00j -2.99927960e-03-3.49898670e-06j\n",
       "  -2.99927960e-03+3.49898670e-06j  8.99883703e-06+0.00000000e+00j]\n",
       " [ 2.99948056e-03+2.49939255e-06j  9.99589083e-01+1.99918650e-03j\n",
       "  -8.99750347e-06+2.99899242e-09j -2.99948056e-03-2.49939255e-06j]\n",
       " [ 2.99948056e-03-2.49939255e-06j -8.99750347e-06-2.99899242e-09j\n",
       "   9.99589083e-01-1.99918650e-03j -2.99948056e-03+2.49939255e-06j]\n",
       " [ 8.99883703e-06+0.00000000e+00j  2.99927960e-03+3.49898670e-06j\n",
       "   2.99927960e-03-3.49898670e-06j  9.99991001e-01+0.00000000e+00j]]"
      ]
     },
     "execution_count": 212,
     "metadata": {},
     "output_type": "execute_result"
    }
   ],
   "source": [
    "# Lnd_comma_k_maker(xi_vec, k, dt)\n",
    "Lnd_comma_k_maker(xi_vec_test, 2, 0.001)"
   ]
  },
  {
   "cell_type": "code",
   "execution_count": 213,
   "metadata": {
    "ExecuteTime": {
     "end_time": "2019-02-03T05:32:51.934629Z",
     "start_time": "2019-02-03T05:32:51.925948Z"
    }
   },
   "outputs": [],
   "source": [
    "def updater_nd(xi_vec, dt, epsilon):\n",
    "    r\"\"\"Implementing the GRAPE update step\"\"\"\n",
    "    xi_vec_size = xi_vec.size # finding the size of xi\n",
    "    Lnd_full = Lnd_full_maker(xi_vec, dt)\n",
    "    di = []\n",
    "    for k in range(xi_vec_size):\n",
    "        # Building the thing to be added to the old function\n",
    "        Lnd_comma_k = Lnd_comma_k_maker(xi_vec, k, dt)\n",
    "        differentiated = T - Lnd_comma_k\n",
    "        plain = T - Lnd_full\n",
    "        c = -differentiated.dag()*plain\n",
    "        d = -plain.dag()*differentiated\n",
    "        inside = c.tr() + d.tr()\n",
    "        di.append(epsilon*inside)\n",
    "\n",
    "    diff = array(di)\n",
    "    xi_new_vec = xi_vec + diff\n",
    "    return diff, xi_new_vec\n",
    "    "
   ]
  },
  {
   "cell_type": "code",
   "execution_count": 214,
   "metadata": {
    "ExecuteTime": {
     "end_time": "2019-02-03T05:32:51.966781Z",
     "start_time": "2019-02-03T05:32:51.937475Z"
    }
   },
   "outputs": [
    {
     "data": {
      "text/plain": [
       "(array([-0.008+0.j, -0.008+0.j]), array([0.992+0.j, 1.992+0.j]))"
      ]
     },
     "execution_count": 214,
     "metadata": {},
     "output_type": "execute_result"
    }
   ],
   "source": [
    "#  updater_nd(xi_vec, dt, epsilon)\n",
    "updater_nd(xi_vec_test, 0.001, 0.001)"
   ]
  },
  {
   "cell_type": "code",
   "execution_count": 215,
   "metadata": {
    "ExecuteTime": {
     "end_time": "2019-02-03T05:32:51.978517Z",
     "start_time": "2019-02-03T05:32:51.970088Z"
    },
    "code_folding": []
   },
   "outputs": [],
   "source": [
    "def terminator_nd(max_iter, time_steps, total_time, epsilon):\n",
    "    r\"\"\"Brief description of the function\"\"\"\n",
    "    \n",
    "    xi_initial =  1000*random_sample((time_steps,))\n",
    "    dt = total_time/time_steps\n",
    "    xi_diff, xi_new_vec = updater_nd(xi_initial, dt, epsilon)\n",
    "    \n",
    "    for i in range(max_iter):\n",
    "        if amax(xi_diff) < epsilon**2 :\n",
    "            xi_final = xi_new_vec\n",
    "            break\n",
    "        else :\n",
    "            xi_diff, xi_new_vec = updater_nd(xi_new_vec, dt, epsilon)\n",
    "            print(i)\n",
    "            print(amax(xi_diff))\n",
    "            \n",
    "        \n",
    "    xi_final = xi_new_vec    \n",
    "    return xi_final"
   ]
  },
  {
   "cell_type": "markdown",
   "metadata": {},
   "source": [
    "# code with dissipation"
   ]
  },
  {
   "cell_type": "markdown",
   "metadata": {},
   "source": [
    "## Building parts"
   ]
  },
  {
   "cell_type": "markdown",
   "metadata": {},
   "source": [
    "### Building $A(t)$"
   ]
  },
  {
   "cell_type": "code",
   "execution_count": 216,
   "metadata": {
    "ExecuteTime": {
     "end_time": "2019-02-03T05:32:52.692110Z",
     "start_time": "2019-02-03T05:32:52.686952Z"
    }
   },
   "outputs": [],
   "source": [
    "def A(xi):\n",
    "    r\"\"\"making $A(t)$\"\"\"\n",
    "    A = ih0 - h0ci + xi*(ih1 - h1ci) + lindbladian\n",
    "    return A"
   ]
  },
  {
   "cell_type": "code",
   "execution_count": 217,
   "metadata": {
    "ExecuteTime": {
     "end_time": "2019-02-03T05:32:52.707977Z",
     "start_time": "2019-02-03T05:32:52.696834Z"
    }
   },
   "outputs": [
    {
     "data": {
      "text/latex": [
       "Quantum object: dims = [[2, 2], [2, 2]], shape = (4, 4), type = oper, isherm = False\\begin{equation*}\\left(\\begin{array}{*{11}c}0.0 & -0.500j & -0.500j & 0.0\\\\0.500j & (-1.0-0.200j) & 0.0 & -0.500j\\\\0.500j & 0.0 & (1.0-0.200j) & -0.500j\\\\0.0 & 0.500j & 0.500j & 0.0\\\\\\end{array}\\right)\\end{equation*}"
      ],
      "text/plain": [
       "Quantum object: dims = [[2, 2], [2, 2]], shape = (4, 4), type = oper, isherm = False\n",
       "Qobj data =\n",
       "[[ 0.+0.j   0.-0.5j  0.-0.5j  0.+0.j ]\n",
       " [ 0.+0.5j -1.-0.2j  0.+0.j   0.-0.5j]\n",
       " [ 0.+0.5j  0.+0.j   1.-0.2j  0.-0.5j]\n",
       " [ 0.+0.j   0.+0.5j  0.+0.5j  0.+0.j ]]"
      ]
     },
     "execution_count": 217,
     "metadata": {},
     "output_type": "execute_result"
    }
   ],
   "source": [
    "A(0.5)"
   ]
  },
  {
   "cell_type": "markdown",
   "metadata": {},
   "source": [
    "### Building $L(t)$ and the Identity in the Liouville space"
   ]
  },
  {
   "cell_type": "code",
   "execution_count": 218,
   "metadata": {
    "ExecuteTime": {
     "end_time": "2019-02-03T05:32:52.908738Z",
     "start_time": "2019-02-03T05:32:52.906128Z"
    }
   },
   "outputs": [],
   "source": [
    "def L(xi, dt):\n",
    "    r\"\"\"Making $L(t) from $A(t)$\"\"\"\n",
    "    L = (-1j*A(xi)*dt).expm()\n",
    "    return L"
   ]
  },
  {
   "cell_type": "code",
   "execution_count": 219,
   "metadata": {
    "ExecuteTime": {
     "end_time": "2019-02-03T05:32:52.931937Z",
     "start_time": "2019-02-03T05:32:52.923711Z"
    }
   },
   "outputs": [
    {
     "data": {
      "text/latex": [
       "Quantum object: dims = [[2, 2], [2, 2]], shape = (4, 4), type = oper, isherm = False\\begin{equation*}\\left(\\begin{array}{*{11}c}1.000 & (-4.999\\times10^{-04}-2.500\\times10^{-07}j) & (-4.999\\times10^{-04}+2.500\\times10^{-07}j) & 2.500\\times10^{-07}\\\\(4.999\\times10^{-04}+2.500\\times10^{-07}j) & (1.000+9.998\\times10^{-04}j) & -2.500\\times10^{-07} & (-4.999\\times10^{-04}-2.500\\times10^{-07}j)\\\\(4.999\\times10^{-04}-2.500\\times10^{-07}j) & -2.500\\times10^{-07} & (1.000-9.998\\times10^{-04}j) & (-4.999\\times10^{-04}+2.500\\times10^{-07}j)\\\\2.500\\times10^{-07} & (4.999\\times10^{-04}+2.500\\times10^{-07}j) & (4.999\\times10^{-04}-2.500\\times10^{-07}j) & 1.000\\\\\\end{array}\\right)\\end{equation*}"
      ],
      "text/plain": [
       "Quantum object: dims = [[2, 2], [2, 2]], shape = (4, 4), type = oper, isherm = False\n",
       "Qobj data =\n",
       "[[ 9.99999750e-01+0.00000000e+00j -4.99949837e-04-2.49966628e-07j\n",
       "  -4.99949837e-04+2.49966628e-07j  2.49983293e-07+0.00000000e+00j]\n",
       " [ 4.99949837e-04+2.49966628e-07j  9.99799270e-01+9.99799687e-04j\n",
       "  -2.49966628e-07+0.00000000e+00j -4.99949837e-04-2.49966628e-07j]\n",
       " [ 4.99949837e-04-2.49966628e-07j -2.49966628e-07+0.00000000e+00j\n",
       "   9.99799270e-01-9.99799687e-04j -4.99949837e-04+2.49966628e-07j]\n",
       " [ 2.49983293e-07+0.00000000e+00j  4.99949837e-04+2.49966628e-07j\n",
       "   4.99949837e-04-2.49966628e-07j  9.99999750e-01+0.00000000e+00j]]"
      ]
     },
     "execution_count": 219,
     "metadata": {},
     "output_type": "execute_result"
    }
   ],
   "source": [
    "L(0.5, 0.001)"
   ]
  },
  {
   "cell_type": "markdown",
   "metadata": {},
   "source": [
    "## Major functions"
   ]
  },
  {
   "cell_type": "markdown",
   "metadata": {},
   "source": [
    "### Major functions 1"
   ]
  },
  {
   "cell_type": "code",
   "execution_count": 220,
   "metadata": {
    "ExecuteTime": {
     "end_time": "2019-02-03T05:32:53.303907Z",
     "start_time": "2019-02-03T05:32:53.299277Z"
    }
   },
   "outputs": [],
   "source": [
    "# building the function to optimize (optimizee)\n",
    "def L_vec(xi_vec, dt):\n",
    "    r\"\"\"Building the vector of differential $L(t)$\"\"\"\n",
    "    L_vec = [L(xi, dt) for xi in xi_vec] \n",
    "    return L_vec"
   ]
  },
  {
   "cell_type": "code",
   "execution_count": 221,
   "metadata": {
    "ExecuteTime": {
     "end_time": "2019-02-03T05:32:53.310799Z",
     "start_time": "2019-02-03T05:32:53.306556Z"
    }
   },
   "outputs": [],
   "source": [
    "def fidelity_calc(A, B):\n",
    "    r\"\"\"Making a generalised fidelity function\"\"\"\n",
    "    first_part = (A - B).dag()\n",
    "    second_part = (A - B)\n",
    "    f_int = (first_part* second_part)\n",
    "    f = f_int.tr()\n",
    "    return f"
   ]
  },
  {
   "cell_type": "code",
   "execution_count": 222,
   "metadata": {
    "ExecuteTime": {
     "end_time": "2019-02-03T05:32:53.317676Z",
     "start_time": "2019-02-03T05:32:53.313755Z"
    }
   },
   "outputs": [],
   "source": [
    "def L_full_maker(xi_vec, dt):\n",
    "    r\"\"\"Building the $L(t)$ for the total time $t$\"\"\"\n",
    "    xi_vec_size = xi_vec.size # finding the size of xi\n",
    "    L_full = L_I # Identity for the for loop of L\n",
    "    L_v = L_vec(xi_vec, dt) # calling L_vec\n",
    "    for i in range(xi_vec_size): # generating L_full\n",
    "        L_full = L_full*L_v[xi_vec_size - 1 - i]\n",
    "    return L_full"
   ]
  },
  {
   "cell_type": "code",
   "execution_count": 223,
   "metadata": {
    "ExecuteTime": {
     "end_time": "2019-02-03T05:32:53.324223Z",
     "start_time": "2019-02-03T05:32:53.320169Z"
    }
   },
   "outputs": [],
   "source": [
    "def F(xi_vec, dt):\n",
    "    r\"\"\"Using the fidelity metric to find out the closeness between $T$\n",
    "    and $L(t)$\"\"\"\n",
    "    L_full = L_full_maker(xi_vec, dt)\n",
    "    F = real(-fidelity_calc(T, L_full))   \n",
    "    return F"
   ]
  },
  {
   "cell_type": "markdown",
   "metadata": {},
   "source": [
    "### Testing major functions 1"
   ]
  },
  {
   "cell_type": "code",
   "execution_count": 224,
   "metadata": {
    "ExecuteTime": {
     "end_time": "2019-02-03T05:32:53.459756Z",
     "start_time": "2019-02-03T05:32:53.452983Z"
    }
   },
   "outputs": [
    {
     "data": {
      "text/plain": [
       "4.0"
      ]
     },
     "execution_count": 224,
     "metadata": {},
     "output_type": "execute_result"
    }
   ],
   "source": [
    "fidelity_calc(sigmax(), sigmay())"
   ]
  },
  {
   "cell_type": "code",
   "execution_count": 225,
   "metadata": {
    "ExecuteTime": {
     "end_time": "2019-02-03T05:32:53.468755Z",
     "start_time": "2019-02-03T05:32:53.462169Z"
    }
   },
   "outputs": [
    {
     "data": {
      "text/plain": [
       "0.0"
      ]
     },
     "execution_count": 225,
     "metadata": {},
     "output_type": "execute_result"
    }
   ],
   "source": [
    "fidelity_calc(sigmay(), sigmay())"
   ]
  },
  {
   "cell_type": "code",
   "execution_count": 226,
   "metadata": {
    "ExecuteTime": {
     "end_time": "2019-02-03T05:32:53.476294Z",
     "start_time": "2019-02-03T05:32:53.471401Z"
    }
   },
   "outputs": [
    {
     "data": {
      "text/plain": [
       "array([1., 2.])"
      ]
     },
     "execution_count": 226,
     "metadata": {},
     "output_type": "execute_result"
    }
   ],
   "source": [
    "xi_vec_test = array([1.0, 2.0])\n",
    "xi_vec_test"
   ]
  },
  {
   "cell_type": "code",
   "execution_count": 227,
   "metadata": {
    "ExecuteTime": {
     "end_time": "2019-02-03T05:32:53.483271Z",
     "start_time": "2019-02-03T05:32:53.478863Z"
    }
   },
   "outputs": [
    {
     "data": {
      "text/plain": [
       "2"
      ]
     },
     "execution_count": 227,
     "metadata": {},
     "output_type": "execute_result"
    }
   ],
   "source": [
    "xi_vec_test.size"
   ]
  },
  {
   "cell_type": "code",
   "execution_count": 228,
   "metadata": {
    "ExecuteTime": {
     "end_time": "2019-02-03T05:32:53.490175Z",
     "start_time": "2019-02-03T05:32:53.485218Z"
    }
   },
   "outputs": [
    {
     "data": {
      "text/plain": [
       "[1.0, 4.0]"
      ]
     },
     "execution_count": 228,
     "metadata": {},
     "output_type": "execute_result"
    }
   ],
   "source": [
    "w_vec = [xi**2 for xi in xi_vec_test]\n",
    "w_vec"
   ]
  },
  {
   "cell_type": "code",
   "execution_count": 229,
   "metadata": {
    "ExecuteTime": {
     "end_time": "2019-02-03T05:32:53.504502Z",
     "start_time": "2019-02-03T05:32:53.492547Z"
    }
   },
   "outputs": [
    {
     "data": {
      "text/plain": [
       "-7.998400634493139"
      ]
     },
     "execution_count": 229,
     "metadata": {},
     "output_type": "execute_result"
    }
   ],
   "source": [
    "# F(xi_vec, dt)\n",
    "F(xi_vec_test, 0.001)"
   ]
  },
  {
   "cell_type": "code",
   "execution_count": 230,
   "metadata": {
    "ExecuteTime": {
     "end_time": "2019-02-03T05:32:53.514107Z",
     "start_time": "2019-02-03T05:32:53.506572Z"
    }
   },
   "outputs": [],
   "source": [
    "L_v = L_vec(xi_vec_test, 0.001)"
   ]
  },
  {
   "cell_type": "code",
   "execution_count": 231,
   "metadata": {
    "ExecuteTime": {
     "end_time": "2019-02-03T05:32:53.522482Z",
     "start_time": "2019-02-03T05:32:53.516008Z"
    }
   },
   "outputs": [
    {
     "data": {
      "text/plain": [
       "[Quantum object: dims = [[2, 2], [2, 2]], shape = (4, 4), type = oper, isherm = False\n",
       " Qobj data =\n",
       " [[ 9.99999000e-01+0.00000000e+00j -9.99899173e-04-4.99933130e-07j\n",
       "   -9.99899173e-04+4.99933130e-07j  9.99932920e-07+0.00000000e+00j]\n",
       "  [ 9.99899173e-04+4.99933130e-07j  9.99798520e-01+9.99799187e-04j\n",
       "   -9.99866260e-07+0.00000000e+00j -9.99899173e-04-4.99933130e-07j]\n",
       "  [ 9.99899173e-04-4.99933130e-07j -9.99866260e-07+0.00000000e+00j\n",
       "    9.99798520e-01-9.99799187e-04j -9.99899173e-04+4.99933130e-07j]\n",
       "  [ 9.99932920e-07+0.00000000e+00j  9.99899173e-04+4.99933130e-07j\n",
       "    9.99899173e-04-4.99933130e-07j  9.99999000e-01+0.00000000e+00j]],\n",
       " Quantum object: dims = [[2, 2], [2, 2]], shape = (4, 4), type = oper, isherm = False\n",
       " Qobj data =\n",
       " [[ 9.99996000e-01+0.00000000e+00j -1.99979435e-03-9.99865260e-07j\n",
       "   -1.99979435e-03+9.99865260e-07j  3.99972768e-06+0.00000000e+00j]\n",
       "  [ 1.99979435e-03+9.99865260e-07j  9.99795521e-01+9.99797187e-04j\n",
       "   -3.99946104e-06+0.00000000e+00j -1.99979435e-03-9.99865260e-07j]\n",
       "  [ 1.99979435e-03-9.99865260e-07j -3.99946104e-06+0.00000000e+00j\n",
       "    9.99795521e-01-9.99797187e-04j -1.99979435e-03+9.99865260e-07j]\n",
       "  [ 3.99972768e-06+0.00000000e+00j  1.99979435e-03+9.99865260e-07j\n",
       "    1.99979435e-03-9.99865260e-07j  9.99996000e-01+0.00000000e+00j]]]"
      ]
     },
     "execution_count": 231,
     "metadata": {},
     "output_type": "execute_result"
    }
   ],
   "source": [
    "L_v"
   ]
  },
  {
   "cell_type": "markdown",
   "metadata": {},
   "source": [
    "### Major Functions 2"
   ]
  },
  {
   "cell_type": "code",
   "execution_count": 232,
   "metadata": {
    "ExecuteTime": {
     "end_time": "2019-02-03T05:32:53.629149Z",
     "start_time": "2019-02-03T05:32:53.624806Z"
    }
   },
   "outputs": [],
   "source": [
    "def L_comma_k_maker(xi_vec, k, dt):\n",
    "    r\"\"\"Making of the derivative of full $L(t)$ at time $t_{k}$\"\"\"\n",
    "    N = xi_vec.size \n",
    "    # Determining the size of xi, and thus the time_steps indirectly.\n",
    "    L_v = L_vec(xi_vec, dt)# Making of the full $L(t)$\n",
    "    inner_part = L_I # Beginner for the for loop\n",
    "    for i in range(N):\n",
    "        if i == ( N - 1 - k ):\n",
    "            # The step at which $X_{k}(t)$ has to be inserted \n",
    "            inner_part = inner_part*x_k*L_v[k - 1]\n",
    "        else:\n",
    "            # Usual multiplications of $L_{k}$\n",
    "            inner_part = inner_part*L_v[N - 1 - i]\n",
    "    l_comma_k = inner_part\n",
    "    return l_comma_k\n",
    "    "
   ]
  },
  {
   "cell_type": "code",
   "execution_count": 233,
   "metadata": {
    "ExecuteTime": {
     "end_time": "2019-02-03T05:32:53.645987Z",
     "start_time": "2019-02-03T05:32:53.634890Z"
    }
   },
   "outputs": [
    {
     "data": {
      "text/latex": [
       "Quantum object: dims = [[2, 2], [2, 2]], shape = (4, 4), type = oper, isherm = False\\begin{equation*}\\left(\\begin{array}{*{11}c}1.000 & (-0.003-3.499\\times10^{-06}j) & (-0.003+3.499\\times10^{-06}j) & 8.999\\times10^{-06}\\\\(0.003+2.499\\times10^{-06}j) & (1.000+0.002j) & (-8.998\\times10^{-06}+2.999\\times10^{-09}j) & (-0.003-2.499\\times10^{-06}j)\\\\(0.003-2.499\\times10^{-06}j) & (-8.998\\times10^{-06}-2.999\\times10^{-09}j) & (1.000-0.002j) & (-0.003+2.499\\times10^{-06}j)\\\\8.999\\times10^{-06} & (0.003+3.499\\times10^{-06}j) & (0.003-3.499\\times10^{-06}j) & 1.000\\\\\\end{array}\\right)\\end{equation*}"
      ],
      "text/plain": [
       "Quantum object: dims = [[2, 2], [2, 2]], shape = (4, 4), type = oper, isherm = False\n",
       "Qobj data =\n",
       "[[ 9.99991001e-01+0.00000000e+00j -2.99927960e-03-3.49898670e-06j\n",
       "  -2.99927960e-03+3.49898670e-06j  8.99883703e-06+0.00000000e+00j]\n",
       " [ 2.99948056e-03+2.49939255e-06j  9.99589083e-01+1.99918650e-03j\n",
       "  -8.99750347e-06+2.99899242e-09j -2.99948056e-03-2.49939255e-06j]\n",
       " [ 2.99948056e-03-2.49939255e-06j -8.99750347e-06-2.99899242e-09j\n",
       "   9.99589083e-01-1.99918650e-03j -2.99948056e-03+2.49939255e-06j]\n",
       " [ 8.99883703e-06+0.00000000e+00j  2.99927960e-03+3.49898670e-06j\n",
       "   2.99927960e-03-3.49898670e-06j  9.99991001e-01+0.00000000e+00j]]"
      ]
     },
     "execution_count": 233,
     "metadata": {},
     "output_type": "execute_result"
    }
   ],
   "source": [
    "# L_comma_k_maker(xi_vec, k, dt)\n",
    "L_comma_k_maker(xi_vec_test, 2, 0.001)"
   ]
  },
  {
   "cell_type": "code",
   "execution_count": 234,
   "metadata": {
    "ExecuteTime": {
     "end_time": "2019-02-03T05:32:53.657608Z",
     "start_time": "2019-02-03T05:32:53.648155Z"
    }
   },
   "outputs": [],
   "source": [
    "def updater(xi_vec, dt, epsilon):\n",
    "    r\"\"\"Implementing the GRAPE update step\"\"\"\n",
    "    xi_vec_size = xi_vec.size # finding the size of xi\n",
    "    L_full = L_full_maker(xi_vec, dt)\n",
    "    di = []\n",
    "    for k in range(xi_vec_size):\n",
    "        # Building the thing to be added to the old function\n",
    "        L_comma_k = L_comma_k_maker(xi_vec, k, dt)\n",
    "        differentiated = T - L_comma_k\n",
    "        plain = T - L_full\n",
    "        c = -differentiated.dag()*plain\n",
    "        d = -plain.dag()*differentiated\n",
    "        inside = c.tr() + d.tr()\n",
    "        di.append(epsilon*inside)\n",
    "\n",
    "    diff = array(di)\n",
    "    xi_new_vec = xi_vec + diff\n",
    "    return diff, xi_new_vec\n",
    "    "
   ]
  },
  {
   "cell_type": "code",
   "execution_count": 235,
   "metadata": {
    "ExecuteTime": {
     "end_time": "2019-02-03T05:32:53.679293Z",
     "start_time": "2019-02-03T05:32:53.659926Z"
    }
   },
   "outputs": [
    {
     "data": {
      "text/plain": [
       "(array([-0.008+0.j, -0.008+0.j]), array([0.992+0.j, 1.992+0.j]))"
      ]
     },
     "execution_count": 235,
     "metadata": {},
     "output_type": "execute_result"
    }
   ],
   "source": [
    "#  updater(xi_vec, dt, epsilon)\n",
    "updater(xi_vec_test, 0.001, 0.001)"
   ]
  },
  {
   "cell_type": "code",
   "execution_count": 236,
   "metadata": {
    "ExecuteTime": {
     "end_time": "2019-02-03T05:32:53.685767Z",
     "start_time": "2019-02-03T05:32:53.681150Z"
    },
    "code_folding": []
   },
   "outputs": [],
   "source": [
    "def terminator(max_iter, time_steps, total_time, epsilon):\n",
    "    r\"\"\"Brief description of the function\"\"\"\n",
    "    \n",
    "    xi_initial = terminator_nd(max_iter, time_steps, total_time, epsilon)\n",
    "    #1000*random_sample((time_steps,))\n",
    "    dt = total_time/time_steps\n",
    "    xi_diff, xi_new_vec = updater(xi_initial, dt, epsilon)\n",
    "    \n",
    "    for i in range(max_iter):\n",
    "        if amax(xi_diff) < epsilon**2 :\n",
    "            xi_final = xi_new_vec\n",
    "            break\n",
    "        else :\n",
    "            xi_diff, xi_new_vec = updater(xi_new_vec, dt, epsilon)\n",
    "            print(i)\n",
    "            print(amax(xi_diff))\n",
    "            \n",
    "        \n",
    "    xi_final = xi_new_vec    \n",
    "    return xi_final"
   ]
  },
  {
   "cell_type": "markdown",
   "metadata": {},
   "source": [
    "# Running stuff"
   ]
  },
  {
   "cell_type": "markdown",
   "metadata": {},
   "source": [
    "### Try1"
   ]
  },
  {
   "cell_type": "code",
   "execution_count": 94,
   "metadata": {
    "ExecuteTime": {
     "end_time": "2019-02-01T05:47:38.110442Z",
     "start_time": "2019-02-01T05:47:38.106144Z"
    }
   },
   "outputs": [],
   "source": [
    "total_time = pi/omega_1\n",
    "epsilon = 10**(-6)\n",
    "max_iter = 10#10**4#1000#100#50#20\n",
    "time_steps = 20\n",
    "dt = total_time/time_steps"
   ]
  },
  {
   "cell_type": "code",
   "execution_count": 95,
   "metadata": {
    "ExecuteTime": {
     "end_time": "2019-02-01T05:47:39.706996Z",
     "start_time": "2019-02-01T05:47:38.114726Z"
    }
   },
   "outputs": [
    {
     "data": {
      "text/plain": [
       "array([915.461213  +0.j, 333.39938497+0.j, 946.91467385+0.j,\n",
       "       534.74637012+0.j, 739.12916711+0.j, 609.48934992+0.j,\n",
       "       775.42440905+0.j,  93.58049087+0.j, 875.88568367+0.j,\n",
       "       478.7054844 +0.j, 232.80885004+0.j, 780.63068781+0.j,\n",
       "       513.9440398 +0.j, 398.77629301+0.j,  64.00940646+0.j,\n",
       "       669.37794698+0.j, 843.30811406+0.j, 533.44141718+0.j,\n",
       "       864.99274356+0.j,  10.74761358+0.j])"
      ]
     },
     "execution_count": 95,
     "metadata": {},
     "output_type": "execute_result"
    }
   ],
   "source": [
    "xi_opt = terminator(max_iter, time_steps, total_time, epsilon)\n",
    "xi_opt"
   ]
  },
  {
   "cell_type": "code",
   "execution_count": 96,
   "metadata": {
    "ExecuteTime": {
     "end_time": "2019-02-01T05:47:39.756808Z",
     "start_time": "2019-02-01T05:47:39.709050Z"
    }
   },
   "outputs": [
    {
     "data": {
      "text/plain": [
       "-4.215756802573784"
      ]
     },
     "execution_count": 96,
     "metadata": {},
     "output_type": "execute_result"
    }
   ],
   "source": [
    "F(xi_opt, dt)"
   ]
  },
  {
   "cell_type": "code",
   "execution_count": 97,
   "metadata": {
    "ExecuteTime": {
     "end_time": "2019-02-01T05:47:39.764172Z",
     "start_time": "2019-02-01T05:47:39.759573Z"
    }
   },
   "outputs": [
    {
     "data": {
      "text/plain": [
       "10"
      ]
     },
     "execution_count": 97,
     "metadata": {},
     "output_type": "execute_result"
    }
   ],
   "source": [
    "max_iter"
   ]
  },
  {
   "cell_type": "code",
   "execution_count": 98,
   "metadata": {
    "ExecuteTime": {
     "end_time": "2019-02-01T05:47:39.772691Z",
     "start_time": "2019-02-01T05:47:39.766199Z"
    }
   },
   "outputs": [
    {
     "data": {
      "text/latex": [
       "Quantum object: dims = [[2, 2], [2, 2]], shape = (4, 4), type = oper, isherm = True\\begin{equation*}\\left(\\begin{array}{*{11}c}0.0 & 0.0 & 0.0 & 1.0\\\\0.0 & 0.0 & 1.0 & 0.0\\\\0.0 & 1.0 & 0.0 & 0.0\\\\1.0 & 0.0 & 0.0 & 0.0\\\\\\end{array}\\right)\\end{equation*}"
      ],
      "text/plain": [
       "Quantum object: dims = [[2, 2], [2, 2]], shape = (4, 4), type = oper, isherm = True\n",
       "Qobj data =\n",
       "[[0. 0. 0. 1.]\n",
       " [0. 0. 1. 0.]\n",
       " [0. 1. 0. 0.]\n",
       " [1. 0. 0. 0.]]"
      ]
     },
     "execution_count": 98,
     "metadata": {},
     "output_type": "execute_result"
    }
   ],
   "source": [
    "T"
   ]
  },
  {
   "cell_type": "code",
   "execution_count": 99,
   "metadata": {
    "ExecuteTime": {
     "end_time": "2019-02-01T05:47:39.814941Z",
     "start_time": "2019-02-01T05:47:39.775281Z"
    }
   },
   "outputs": [
    {
     "data": {
      "text/latex": [
       "Quantum object: dims = [[2, 2], [2, 2]], shape = (4, 4), type = oper, isherm = False\\begin{equation*}\\left(\\begin{array}{*{11}c}0.235 & (-0.035-1.395\\times10^{-04}j) & (-0.035+1.395\\times10^{-04}j) & 0.765\\\\(0.035+0.003j) & (-0.122-0.001j) & (-0.406-0.007j) & (-0.035-0.003j)\\\\(0.035-0.003j) & (-0.406+0.007j) & (-0.122+0.001j) & (-0.035+0.003j)\\\\0.765 & (0.035+1.395\\times10^{-04}j) & (0.035-1.395\\times10^{-04}j) & 0.235\\\\\\end{array}\\right)\\end{equation*}"
      ],
      "text/plain": [
       "Quantum object: dims = [[2, 2], [2, 2]], shape = (4, 4), type = oper, isherm = False\n",
       "Qobj data =\n",
       "[[ 0.23514455+0.j         -0.03505325-0.00013952j -0.03505325+0.00013952j\n",
       "   0.76485545+0.j        ]\n",
       " [ 0.03476011+0.00267567j -0.12163332-0.00135393j -0.40625823-0.00674039j\n",
       "  -0.03476011-0.00267567j]\n",
       " [ 0.03476011-0.00267567j -0.40625823+0.00674039j -0.12163332+0.00135393j\n",
       "  -0.03476011+0.00267567j]\n",
       " [ 0.76485545+0.j          0.03505325+0.00013952j  0.03505325-0.00013952j\n",
       "   0.23514455+0.j        ]]"
      ]
     },
     "execution_count": 99,
     "metadata": {},
     "output_type": "execute_result"
    }
   ],
   "source": [
    "L_full_maker(xi_opt, dt)"
   ]
  },
  {
   "cell_type": "code",
   "execution_count": 100,
   "metadata": {
    "ExecuteTime": {
     "end_time": "2019-02-01T05:47:40.269966Z",
     "start_time": "2019-02-01T05:47:39.817114Z"
    }
   },
   "outputs": [
    {
     "data": {
      "text/plain": [
       "(<Figure size 576x432 with 2 Axes>,\n",
       " <matplotlib.axes._subplots.AxesSubplot at 0x1a09256160>)"
      ]
     },
     "execution_count": 100,
     "metadata": {},
     "output_type": "execute_result"
    },
    {
     "data": {
      "image/png": "[encoded data removed]",
      "text/plain": [
       "<Figure size 576x432 with 2 Axes>"
      ]
     },
     "metadata": {},
     "output_type": "display_data"
    }
   ],
   "source": [
    "hinton(L_full_maker(xi_opt, dt))"
   ]
  },
  {
   "cell_type": "markdown",
   "metadata": {},
   "source": []
  },
  {
   "cell_type": "code",
   "execution_count": null,
   "metadata": {},
   "outputs": [],
   "source": []
  },
  {
   "cell_type": "markdown",
   "metadata": {},
   "source": [
    "### Try2"
   ]
  },
  {
   "cell_type": "code",
   "execution_count": 101,
   "metadata": {
    "ExecuteTime": {
     "end_time": "2019-02-01T05:47:40.275217Z",
     "start_time": "2019-02-01T05:47:40.272120Z"
    }
   },
   "outputs": [],
   "source": [
    "total_time = 3*pi/omega_1\n",
    "epsilon = 10**(-6)\n",
    "max_iter = 10#10**4#1000#100#50#20\n",
    "time_steps = 20\n",
    "dt = total_time/time_steps"
   ]
  },
  {
   "cell_type": "code",
   "execution_count": 102,
   "metadata": {
    "ExecuteTime": {
     "end_time": "2019-02-01T05:47:41.753161Z",
     "start_time": "2019-02-01T05:47:40.277316Z"
    }
   },
   "outputs": [
    {
     "data": {
      "text/plain": [
       "array([530.01041187+0.j,  20.62390784+0.j, 616.55264548+0.j,\n",
       "         6.32523092+0.j,  42.00182345+0.j, 371.60579057+0.j,\n",
       "       337.9237754 +0.j, 523.79065521+0.j, 784.82821972+0.j,\n",
       "       876.30199234+0.j, 844.24572897+0.j, 653.65387553+0.j,\n",
       "       923.44867479+0.j, 852.52287919+0.j, 482.00843933+0.j,\n",
       "       617.53446452+0.j, 473.17506862+0.j, 283.44836898+0.j,\n",
       "       617.84485144+0.j, 614.12268227+0.j])"
      ]
     },
     "execution_count": 102,
     "metadata": {},
     "output_type": "execute_result"
    }
   ],
   "source": [
    "xi_opt = terminator(max_iter, time_steps, total_time, epsilon)\n",
    "xi_opt"
   ]
  },
  {
   "cell_type": "code",
   "execution_count": 103,
   "metadata": {
    "ExecuteTime": {
     "end_time": "2019-02-01T05:47:41.818942Z",
     "start_time": "2019-02-01T05:47:41.756241Z"
    }
   },
   "outputs": [
    {
     "data": {
      "text/plain": [
       "-3.0933186948722575"
      ]
     },
     "execution_count": 103,
     "metadata": {},
     "output_type": "execute_result"
    }
   ],
   "source": [
    "F(xi_opt, dt)"
   ]
  },
  {
   "cell_type": "code",
   "execution_count": 104,
   "metadata": {
    "ExecuteTime": {
     "end_time": "2019-02-01T05:47:41.826669Z",
     "start_time": "2019-02-01T05:47:41.821652Z"
    }
   },
   "outputs": [
    {
     "data": {
      "text/plain": [
       "10"
      ]
     },
     "execution_count": 104,
     "metadata": {},
     "output_type": "execute_result"
    }
   ],
   "source": [
    "max_iter"
   ]
  },
  {
   "cell_type": "code",
   "execution_count": 105,
   "metadata": {
    "ExecuteTime": {
     "end_time": "2019-02-01T05:47:41.835574Z",
     "start_time": "2019-02-01T05:47:41.828720Z"
    }
   },
   "outputs": [
    {
     "data": {
      "text/latex": [
       "Quantum object: dims = [[2, 2], [2, 2]], shape = (4, 4), type = oper, isherm = True\\begin{equation*}\\left(\\begin{array}{*{11}c}0.0 & 0.0 & 0.0 & 1.0\\\\0.0 & 0.0 & 1.0 & 0.0\\\\0.0 & 1.0 & 0.0 & 0.0\\\\1.0 & 0.0 & 0.0 & 0.0\\\\\\end{array}\\right)\\end{equation*}"
      ],
      "text/plain": [
       "Quantum object: dims = [[2, 2], [2, 2]], shape = (4, 4), type = oper, isherm = True\n",
       "Qobj data =\n",
       "[[0. 0. 0. 1.]\n",
       " [0. 0. 1. 0.]\n",
       " [0. 1. 0. 0.]\n",
       " [1. 0. 0. 0.]]"
      ]
     },
     "execution_count": 105,
     "metadata": {},
     "output_type": "execute_result"
    }
   ],
   "source": [
    "T"
   ]
  },
  {
   "cell_type": "code",
   "execution_count": 106,
   "metadata": {
    "ExecuteTime": {
     "end_time": "2019-02-01T05:47:41.886091Z",
     "start_time": "2019-02-01T05:47:41.837689Z"
    }
   },
   "outputs": [
    {
     "data": {
      "text/latex": [
       "Quantum object: dims = [[2, 2], [2, 2]], shape = (4, 4), type = oper, isherm = False\\begin{equation*}\\left(\\begin{array}{*{11}c}0.439 & (0.045-0.001j) & (0.045+0.001j) & 0.561\\\\(-0.045-3.012\\times10^{-05}j) & (-0.050+3.350\\times10^{-04}j) & (-0.073-0.001j) & (0.045+3.012\\times10^{-05}j)\\\\(-0.045+3.012\\times10^{-05}j) & (-0.073+0.001j) & (-0.050-3.350\\times10^{-04}j) & (0.045-3.012\\times10^{-05}j)\\\\0.561 & (-0.045+0.001j) & (-0.045-0.001j) & 0.439\\\\\\end{array}\\right)\\end{equation*}"
      ],
      "text/plain": [
       "Quantum object: dims = [[2, 2], [2, 2]], shape = (4, 4), type = oper, isherm = False\n",
       "Qobj data =\n",
       "[[ 0.43892742+0.00000000e+00j  0.04473447-1.46295746e-03j\n",
       "   0.04473447+1.46295746e-03j  0.56107258+0.00000000e+00j]\n",
       " [-0.0449654 -3.01224064e-05j -0.04967847+3.34953222e-04j\n",
       "  -0.07276489-1.34565488e-03j  0.0449654 +3.01224064e-05j]\n",
       " [-0.0449654 +3.01224064e-05j -0.07276489+1.34565488e-03j\n",
       "  -0.04967847-3.34953222e-04j  0.0449654 -3.01224064e-05j]\n",
       " [ 0.56107258+0.00000000e+00j -0.04473447+1.46295746e-03j\n",
       "  -0.04473447-1.46295746e-03j  0.43892742+0.00000000e+00j]]"
      ]
     },
     "execution_count": 106,
     "metadata": {},
     "output_type": "execute_result"
    }
   ],
   "source": [
    "L_full_maker(xi_opt, dt)"
   ]
  },
  {
   "cell_type": "code",
   "execution_count": 107,
   "metadata": {
    "ExecuteTime": {
     "end_time": "2019-02-01T05:47:42.187291Z",
     "start_time": "2019-02-01T05:47:41.888454Z"
    }
   },
   "outputs": [
    {
     "data": {
      "text/plain": [
       "(<Figure size 576x432 with 2 Axes>,\n",
       " <matplotlib.axes._subplots.AxesSubplot at 0x1a14c58748>)"
      ]
     },
     "execution_count": 107,
     "metadata": {},
     "output_type": "execute_result"
    },
    {
     "data": {
      "image/png": "[encoded data removed]",
      "text/plain": [
       "<Figure size 576x432 with 2 Axes>"
      ]
     },
     "metadata": {},
     "output_type": "display_data"
    }
   ],
   "source": [
    "hinton(L_full_maker(xi_opt, dt))"
   ]
  },
  {
   "cell_type": "markdown",
   "metadata": {},
   "source": []
  },
  {
   "cell_type": "markdown",
   "metadata": {},
   "source": [
    "### Try"
   ]
  },
  {
   "cell_type": "code",
   "execution_count": 108,
   "metadata": {
    "ExecuteTime": {
     "end_time": "2019-02-01T05:47:42.193073Z",
     "start_time": "2019-02-01T05:47:42.189698Z"
    }
   },
   "outputs": [],
   "source": [
    "total_time = 4*pi/omega_1\n",
    "epsilon = 10**(-6)\n",
    "max_iter = 10#10**4#1000#100#50#20\n",
    "time_steps = 20\n",
    "dt = total_time/time_steps"
   ]
  },
  {
   "cell_type": "code",
   "execution_count": 109,
   "metadata": {
    "ExecuteTime": {
     "end_time": "2019-02-01T05:47:43.634845Z",
     "start_time": "2019-02-01T05:47:42.195116Z"
    }
   },
   "outputs": [
    {
     "data": {
      "text/plain": [
       "array([968.97591323+0.j,  94.92837101+0.j, 521.46126655+0.j,\n",
       "        45.75183013+0.j, 138.02305706+0.j, 437.93618785+0.j,\n",
       "       791.48894127+0.j, 236.41072883+0.j, 824.43024474+0.j,\n",
       "       453.83221213+0.j, 826.79682197+0.j, 247.15575793+0.j,\n",
       "       379.65721926+0.j, 309.01377641+0.j, 681.21213128+0.j,\n",
       "       163.37538142+0.j, 520.06465437+0.j, 186.8295315 +0.j,\n",
       "       165.59722338+0.j, 420.11068375+0.j])"
      ]
     },
     "execution_count": 109,
     "metadata": {},
     "output_type": "execute_result"
    }
   ],
   "source": [
    "xi_opt = terminator(max_iter, time_steps, total_time, epsilon)\n",
    "xi_opt"
   ]
  },
  {
   "cell_type": "code",
   "execution_count": 110,
   "metadata": {
    "ExecuteTime": {
     "end_time": "2019-02-01T05:47:43.675145Z",
     "start_time": "2019-02-01T05:47:43.636992Z"
    }
   },
   "outputs": [
    {
     "data": {
      "text/plain": [
       "-3.0261573339510384"
      ]
     },
     "execution_count": 110,
     "metadata": {},
     "output_type": "execute_result"
    }
   ],
   "source": [
    "F(xi_opt, dt)"
   ]
  },
  {
   "cell_type": "code",
   "execution_count": 111,
   "metadata": {
    "ExecuteTime": {
     "end_time": "2019-02-01T05:47:43.680842Z",
     "start_time": "2019-02-01T05:47:43.677026Z"
    }
   },
   "outputs": [
    {
     "data": {
      "text/plain": [
       "10"
      ]
     },
     "execution_count": 111,
     "metadata": {},
     "output_type": "execute_result"
    }
   ],
   "source": [
    "max_iter"
   ]
  },
  {
   "cell_type": "code",
   "execution_count": 112,
   "metadata": {
    "ExecuteTime": {
     "end_time": "2019-02-01T05:47:43.688430Z",
     "start_time": "2019-02-01T05:47:43.683038Z"
    }
   },
   "outputs": [
    {
     "data": {
      "text/latex": [
       "Quantum object: dims = [[2, 2], [2, 2]], shape = (4, 4), type = oper, isherm = True\\begin{equation*}\\left(\\begin{array}{*{11}c}0.0 & 0.0 & 0.0 & 1.0\\\\0.0 & 0.0 & 1.0 & 0.0\\\\0.0 & 1.0 & 0.0 & 0.0\\\\1.0 & 0.0 & 0.0 & 0.0\\\\\\end{array}\\right)\\end{equation*}"
      ],
      "text/plain": [
       "Quantum object: dims = [[2, 2], [2, 2]], shape = (4, 4), type = oper, isherm = True\n",
       "Qobj data =\n",
       "[[0. 0. 0. 1.]\n",
       " [0. 0. 1. 0.]\n",
       " [0. 1. 0. 0.]\n",
       " [1. 0. 0. 0.]]"
      ]
     },
     "execution_count": 112,
     "metadata": {},
     "output_type": "execute_result"
    }
   ],
   "source": [
    "T"
   ]
  },
  {
   "cell_type": "code",
   "execution_count": 113,
   "metadata": {
    "ExecuteTime": {
     "end_time": "2019-02-01T05:47:43.729202Z",
     "start_time": "2019-02-01T05:47:43.690890Z"
    }
   },
   "outputs": [
    {
     "data": {
      "text/latex": [
       "Quantum object: dims = [[2, 2], [2, 2]], shape = (4, 4), type = oper, isherm = False\\begin{equation*}\\left(\\begin{array}{*{11}c}0.506 & (-0.040+2.009\\times10^{-04}j) & (-0.040-2.009\\times10^{-04}j) & 0.494\\\\(0.040+6.624\\times10^{-05}j) & (0.010+4.414\\times10^{-04}j) & (0.003-1.798\\times10^{-04}j) & (-0.040-6.624\\times10^{-05}j)\\\\(0.040-6.624\\times10^{-05}j) & (0.003+1.798\\times10^{-04}j) & (0.010-4.414\\times10^{-04}j) & (-0.040+6.624\\times10^{-05}j)\\\\0.494 & (0.040-2.009\\times10^{-04}j) & (0.040+2.009\\times10^{-04}j) & 0.506\\\\\\end{array}\\right)\\end{equation*}"
      ],
      "text/plain": [
       "Quantum object: dims = [[2, 2], [2, 2]], shape = (4, 4), type = oper, isherm = False\n",
       "Qobj data =\n",
       "[[ 0.50628448+0.00000000e+00j -0.04002306+2.00898952e-04j\n",
       "  -0.04002306-2.00898952e-04j  0.49371552+0.00000000e+00j]\n",
       " [ 0.03998605+6.62433862e-05j  0.00959864+4.41380451e-04j\n",
       "   0.0030362 -1.79752650e-04j -0.03998605-6.62433862e-05j]\n",
       " [ 0.03998605-6.62433862e-05j  0.0030362 +1.79752650e-04j\n",
       "   0.00959864-4.41380451e-04j -0.03998605+6.62433862e-05j]\n",
       " [ 0.49371552+0.00000000e+00j  0.04002306-2.00898952e-04j\n",
       "   0.04002306+2.00898952e-04j  0.50628448+0.00000000e+00j]]"
      ]
     },
     "execution_count": 113,
     "metadata": {},
     "output_type": "execute_result"
    }
   ],
   "source": [
    "L_full_maker(xi_opt, dt)"
   ]
  },
  {
   "cell_type": "code",
   "execution_count": 114,
   "metadata": {
    "ExecuteTime": {
     "end_time": "2019-02-01T05:47:44.051746Z",
     "start_time": "2019-02-01T05:47:43.731311Z"
    }
   },
   "outputs": [
    {
     "data": {
      "text/plain": [
       "(<Figure size 576x432 with 2 Axes>,\n",
       " <matplotlib.axes._subplots.AxesSubplot at 0x1a15a3fc88>)"
      ]
     },
     "execution_count": 114,
     "metadata": {},
     "output_type": "execute_result"
    },
    {
     "data": {
      "image/png": "[encoded data removed]",
      "text/plain": [
       "<Figure size 576x432 with 2 Axes>"
      ]
     },
     "metadata": {},
     "output_type": "display_data"
    }
   ],
   "source": [
    "hinton(L_full_maker(xi_opt, dt))"
   ]
  },
  {
   "cell_type": "markdown",
   "metadata": {},
   "source": [
    "### Try"
   ]
  },
  {
   "cell_type": "code",
   "execution_count": 115,
   "metadata": {
    "ExecuteTime": {
     "end_time": "2019-02-01T05:47:44.058676Z",
     "start_time": "2019-02-01T05:47:44.054382Z"
    }
   },
   "outputs": [],
   "source": [
    "total_time = 5*pi/omega_1\n",
    "epsilon = 10**(-6)\n",
    "max_iter = 10#10**4#1000#100#50#20\n",
    "time_steps = 20\n",
    "dt = total_time/time_steps"
   ]
  },
  {
   "cell_type": "code",
   "execution_count": 116,
   "metadata": {
    "ExecuteTime": {
     "end_time": "2019-02-01T05:47:45.496187Z",
     "start_time": "2019-02-01T05:47:44.061281Z"
    }
   },
   "outputs": [
    {
     "data": {
      "text/plain": [
       "array([978.35820169+0.j, 850.67545751+0.j, 536.47320775+0.j,\n",
       "       261.68310673+0.j, 320.92002581+0.j, 691.66880984+0.j,\n",
       "       125.64763055+0.j, 438.06547091+0.j, 710.14525712+0.j,\n",
       "       605.04616323+0.j, 503.61018134+0.j, 748.31288534+0.j,\n",
       "       465.81980666+0.j, 443.59917251+0.j, 155.05088573+0.j,\n",
       "       415.67043764+0.j, 547.44003387+0.j, 192.05074225+0.j,\n",
       "       627.57138898+0.j, 408.56410393+0.j])"
      ]
     },
     "execution_count": 116,
     "metadata": {},
     "output_type": "execute_result"
    }
   ],
   "source": [
    "xi_opt = terminator(max_iter, time_steps, total_time, epsilon)\n",
    "xi_opt"
   ]
  },
  {
   "cell_type": "code",
   "execution_count": 117,
   "metadata": {
    "ExecuteTime": {
     "end_time": "2019-02-01T05:47:45.538113Z",
     "start_time": "2019-02-01T05:47:45.498433Z"
    }
   },
   "outputs": [
    {
     "data": {
      "text/plain": [
       "-3.0075305113948465"
      ]
     },
     "execution_count": 117,
     "metadata": {},
     "output_type": "execute_result"
    }
   ],
   "source": [
    "F(xi_opt, dt)"
   ]
  },
  {
   "cell_type": "code",
   "execution_count": 118,
   "metadata": {
    "ExecuteTime": {
     "end_time": "2019-02-01T05:47:45.545025Z",
     "start_time": "2019-02-01T05:47:45.540213Z"
    }
   },
   "outputs": [
    {
     "data": {
      "text/plain": [
       "10"
      ]
     },
     "execution_count": 118,
     "metadata": {},
     "output_type": "execute_result"
    }
   ],
   "source": [
    "max_iter"
   ]
  },
  {
   "cell_type": "code",
   "execution_count": 119,
   "metadata": {
    "ExecuteTime": {
     "end_time": "2019-02-01T05:47:45.552908Z",
     "start_time": "2019-02-01T05:47:45.546888Z"
    }
   },
   "outputs": [
    {
     "data": {
      "text/latex": [
       "Quantum object: dims = [[2, 2], [2, 2]], shape = (4, 4), type = oper, isherm = True\\begin{equation*}\\left(\\begin{array}{*{11}c}0.0 & 0.0 & 0.0 & 1.0\\\\0.0 & 0.0 & 1.0 & 0.0\\\\0.0 & 1.0 & 0.0 & 0.0\\\\1.0 & 0.0 & 0.0 & 0.0\\\\\\end{array}\\right)\\end{equation*}"
      ],
      "text/plain": [
       "Quantum object: dims = [[2, 2], [2, 2]], shape = (4, 4), type = oper, isherm = True\n",
       "Qobj data =\n",
       "[[0. 0. 0. 1.]\n",
       " [0. 0. 1. 0.]\n",
       " [0. 1. 0. 0.]\n",
       " [1. 0. 0. 0.]]"
      ]
     },
     "execution_count": 119,
     "metadata": {},
     "output_type": "execute_result"
    }
   ],
   "source": [
    "T"
   ]
  },
  {
   "cell_type": "code",
   "execution_count": 120,
   "metadata": {
    "ExecuteTime": {
     "end_time": "2019-02-01T05:47:45.598733Z",
     "start_time": "2019-02-01T05:47:45.555419Z"
    }
   },
   "outputs": [
    {
     "data": {
      "text/latex": [
       "Quantum object: dims = [[2, 2], [2, 2]], shape = (4, 4), type = oper, isherm = False\\begin{equation*}\\left(\\begin{array}{*{11}c}0.508 & (-0.020+6.201\\times10^{-06}j) & (-0.020-6.201\\times10^{-06}j) & 0.492\\\\(0.020+3.910\\times10^{-05}j) & (0.009+6.389\\times10^{-05}j) & (0.007-9.414\\times10^{-06}j) & (-0.020-3.910\\times10^{-05}j)\\\\(0.020-3.910\\times10^{-05}j) & (0.007+9.414\\times10^{-06}j) & (0.009-6.389\\times10^{-05}j) & (-0.020+3.910\\times10^{-05}j)\\\\0.492 & (0.020-6.201\\times10^{-06}j) & (0.020+6.201\\times10^{-06}j) & 0.508\\\\\\end{array}\\right)\\end{equation*}"
      ],
      "text/plain": [
       "Quantum object: dims = [[2, 2], [2, 2]], shape = (4, 4), type = oper, isherm = False\n",
       "Qobj data =\n",
       "[[ 0.50798772+0.00000000e+00j -0.0200727 +6.20061297e-06j\n",
       "  -0.0200727 -6.20061297e-06j  0.49201228+0.00000000e+00j]\n",
       " [ 0.02008479+3.90950575e-05j  0.00890701+6.38911691e-05j\n",
       "   0.00703966-9.41403824e-06j -0.02008479-3.90950575e-05j]\n",
       " [ 0.02008479-3.90950575e-05j  0.00703966+9.41403824e-06j\n",
       "   0.00890701-6.38911691e-05j -0.02008479+3.90950575e-05j]\n",
       " [ 0.49201228+0.00000000e+00j  0.0200727 -6.20061297e-06j\n",
       "   0.0200727 +6.20061297e-06j  0.50798772+0.00000000e+00j]]"
      ]
     },
     "execution_count": 120,
     "metadata": {},
     "output_type": "execute_result"
    }
   ],
   "source": [
    "L_full_maker(xi_opt, dt)"
   ]
  },
  {
   "cell_type": "code",
   "execution_count": 121,
   "metadata": {
    "ExecuteTime": {
     "end_time": "2019-02-01T05:47:45.927701Z",
     "start_time": "2019-02-01T05:47:45.601024Z"
    }
   },
   "outputs": [
    {
     "data": {
      "text/plain": [
       "(<Figure size 576x432 with 2 Axes>,\n",
       " <matplotlib.axes._subplots.AxesSubplot at 0x1a15dfe400>)"
      ]
     },
     "execution_count": 121,
     "metadata": {},
     "output_type": "execute_result"
    },
    {
     "data": {
      "image/png": "[encoded data removed]",
      "text/plain": [
       "<Figure size 576x432 with 2 Axes>"
      ]
     },
     "metadata": {},
     "output_type": "display_data"
    }
   ],
   "source": [
    "hinton(L_full_maker(xi_opt, dt))"
   ]
  },
  {
   "cell_type": "markdown",
   "metadata": {},
   "source": [
    "### Try"
   ]
  },
  {
   "cell_type": "code",
   "execution_count": 122,
   "metadata": {
    "ExecuteTime": {
     "end_time": "2019-02-01T05:47:45.932838Z",
     "start_time": "2019-02-01T05:47:45.929936Z"
    }
   },
   "outputs": [],
   "source": [
    "total_time = 10*pi/omega_1\n",
    "epsilon = 10**(-6)\n",
    "max_iter = 10#10**4#1000#100#50#20\n",
    "time_steps = 20\n",
    "dt = total_time/time_steps"
   ]
  },
  {
   "cell_type": "code",
   "execution_count": 123,
   "metadata": {
    "ExecuteTime": {
     "end_time": "2019-02-01T05:47:47.413985Z",
     "start_time": "2019-02-01T05:47:45.935476Z"
    }
   },
   "outputs": [
    {
     "data": {
      "text/plain": [
       "array([ 58.32944997+0.j, 448.94112388+0.j,  35.11437584+0.j,\n",
       "        64.52719094+0.j, 343.40852794+0.j, 579.15739999+0.j,\n",
       "       921.48983188+0.j,  23.27056079+0.j, 753.87663466+0.j,\n",
       "       725.93120461+0.j, 552.84667713+0.j, 906.43907135+0.j,\n",
       "       711.92949432+0.j, 249.81495527+0.j, 102.19923331+0.j,\n",
       "       729.76617672+0.j,  24.78152079+0.j, 976.02018857+0.j,\n",
       "       317.63684031+0.j, 947.44569283+0.j])"
      ]
     },
     "execution_count": 123,
     "metadata": {},
     "output_type": "execute_result"
    }
   ],
   "source": [
    "xi_opt = terminator(max_iter, time_steps, total_time, epsilon)\n",
    "xi_opt"
   ]
  },
  {
   "cell_type": "code",
   "execution_count": 124,
   "metadata": {
    "ExecuteTime": {
     "end_time": "2019-02-01T05:47:47.454949Z",
     "start_time": "2019-02-01T05:47:47.416135Z"
    }
   },
   "outputs": [
    {
     "data": {
      "text/plain": [
       "-2.9999907308235394"
      ]
     },
     "execution_count": 124,
     "metadata": {},
     "output_type": "execute_result"
    }
   ],
   "source": [
    "F(xi_opt, dt)"
   ]
  },
  {
   "cell_type": "code",
   "execution_count": 125,
   "metadata": {
    "ExecuteTime": {
     "end_time": "2019-02-01T05:47:47.461395Z",
     "start_time": "2019-02-01T05:47:47.456735Z"
    }
   },
   "outputs": [
    {
     "data": {
      "text/plain": [
       "10"
      ]
     },
     "execution_count": 125,
     "metadata": {},
     "output_type": "execute_result"
    }
   ],
   "source": [
    "max_iter"
   ]
  },
  {
   "cell_type": "code",
   "execution_count": 126,
   "metadata": {
    "ExecuteTime": {
     "end_time": "2019-02-01T05:47:47.469301Z",
     "start_time": "2019-02-01T05:47:47.463767Z"
    }
   },
   "outputs": [
    {
     "data": {
      "text/latex": [
       "Quantum object: dims = [[2, 2], [2, 2]], shape = (4, 4), type = oper, isherm = True\\begin{equation*}\\left(\\begin{array}{*{11}c}0.0 & 0.0 & 0.0 & 1.0\\\\0.0 & 0.0 & 1.0 & 0.0\\\\0.0 & 1.0 & 0.0 & 0.0\\\\1.0 & 0.0 & 0.0 & 0.0\\\\\\end{array}\\right)\\end{equation*}"
      ],
      "text/plain": [
       "Quantum object: dims = [[2, 2], [2, 2]], shape = (4, 4), type = oper, isherm = True\n",
       "Qobj data =\n",
       "[[0. 0. 0. 1.]\n",
       " [0. 0. 1. 0.]\n",
       " [0. 1. 0. 0.]\n",
       " [1. 0. 0. 0.]]"
      ]
     },
     "execution_count": 126,
     "metadata": {},
     "output_type": "execute_result"
    }
   ],
   "source": [
    "T"
   ]
  },
  {
   "cell_type": "code",
   "execution_count": 127,
   "metadata": {
    "ExecuteTime": {
     "end_time": "2019-02-01T05:47:47.509550Z",
     "start_time": "2019-02-01T05:47:47.471401Z"
    }
   },
   "outputs": [
    {
     "data": {
      "text/latex": [
       "Quantum object: dims = [[2, 2], [2, 2]], shape = (4, 4), type = oper, isherm = False\\begin{equation*}\\left(\\begin{array}{*{11}c}0.501 & (2.951\\times10^{-04}+1.178\\times10^{-05}j) & (2.951\\times10^{-04}-1.178\\times10^{-05}j) & 0.499\\\\(-2.993\\times10^{-04}+2.270\\times10^{-06}j) & (8.890\\times10^{-04}-1.010\\times10^{-05}j) & (8.855\\times10^{-04}-3.270\\times10^{-06}j) & (2.993\\times10^{-04}-2.270\\times10^{-06}j)\\\\(-2.993\\times10^{-04}-2.270\\times10^{-06}j) & (8.855\\times10^{-04}+3.270\\times10^{-06}j) & (8.890\\times10^{-04}+1.010\\times10^{-05}j) & (2.993\\times10^{-04}+2.270\\times10^{-06}j)\\\\0.499 & (-2.951\\times10^{-04}-1.178\\times10^{-05}j) & (-2.951\\times10^{-04}+1.178\\times10^{-05}j) & 0.501\\\\\\end{array}\\right)\\end{equation*}"
      ],
      "text/plain": [
       "Quantum object: dims = [[2, 2], [2, 2]], shape = (4, 4), type = oper, isherm = False\n",
       "Qobj data =\n",
       "[[ 5.00881462e-01+0.00000000e+00j  2.95121237e-04+1.17768832e-05j\n",
       "   2.95121237e-04-1.17768832e-05j  4.99118538e-01+0.00000000e+00j]\n",
       " [-2.99279153e-04+2.27001945e-06j  8.88961570e-04-1.00951347e-05j\n",
       "   8.85520275e-04-3.26958317e-06j  2.99279153e-04-2.27001945e-06j]\n",
       " [-2.99279153e-04-2.27001945e-06j  8.85520275e-04+3.26958317e-06j\n",
       "   8.88961570e-04+1.00951347e-05j  2.99279153e-04+2.27001945e-06j]\n",
       " [ 4.99118538e-01+0.00000000e+00j -2.95121237e-04-1.17768832e-05j\n",
       "  -2.95121237e-04+1.17768832e-05j  5.00881462e-01+0.00000000e+00j]]"
      ]
     },
     "execution_count": 127,
     "metadata": {},
     "output_type": "execute_result"
    }
   ],
   "source": [
    "L_full_maker(xi_opt, dt)"
   ]
  },
  {
   "cell_type": "code",
   "execution_count": 128,
   "metadata": {
    "ExecuteTime": {
     "end_time": "2019-02-01T05:47:47.784690Z",
     "start_time": "2019-02-01T05:47:47.511621Z"
    }
   },
   "outputs": [
    {
     "data": {
      "text/plain": [
       "(<Figure size 576x432 with 2 Axes>,\n",
       " <matplotlib.axes._subplots.AxesSubplot at 0x1a158b3198>)"
      ]
     },
     "execution_count": 128,
     "metadata": {},
     "output_type": "execute_result"
    },
    {
     "data": {
      "image/png": "[encoded data removed]",
      "text/plain": [
       "<Figure size 576x432 with 2 Axes>"
      ]
     },
     "metadata": {},
     "output_type": "display_data"
    }
   ],
   "source": [
    "hinton(L_full_maker(xi_opt, dt))"
   ]
  },
  {
   "cell_type": "markdown",
   "metadata": {},
   "source": [
    "### Try2"
   ]
  },
  {
   "cell_type": "code",
   "execution_count": 129,
   "metadata": {
    "ExecuteTime": {
     "end_time": "2019-02-01T05:47:47.789892Z",
     "start_time": "2019-02-01T05:47:47.786725Z"
    }
   },
   "outputs": [],
   "source": [
    "total_time = 3*pi/omega_1\n",
    "epsilon = 10**(-6)\n",
    "max_iter = 10#10**4#1000#100#50#20\n",
    "time_steps = 200\n",
    "dt = total_time/time_steps"
   ]
  },
  {
   "cell_type": "code",
   "execution_count": 130,
   "metadata": {
    "ExecuteTime": {
     "end_time": "2019-02-01T05:49:59.675741Z",
     "start_time": "2019-02-01T05:47:47.792285Z"
    }
   },
   "outputs": [
    {
     "data": {
      "text/plain": [
       "array([980.94475757+0.j, 133.61572697+0.j, 371.90224394+0.j,\n",
       "       614.31187434+0.j, 241.80331467+0.j, 607.21626367+0.j,\n",
       "       977.041759  +0.j, 901.32522413+0.j, 535.13825645+0.j,\n",
       "       490.84403778+0.j, 445.15516916+0.j, 641.70171677+0.j,\n",
       "       366.3343558 +0.j, 523.23741682+0.j, 334.62329564+0.j,\n",
       "       771.41176489+0.j, 245.451452  +0.j, 111.19969851+0.j,\n",
       "       562.54269048+0.j, 122.05916417+0.j,   4.02522181+0.j,\n",
       "       501.10152366+0.j, 505.92091793+0.j, 746.82084043+0.j,\n",
       "       636.94806444+0.j, 398.58422529+0.j, 988.06565366+0.j,\n",
       "        73.0969589 +0.j, 638.2460041 +0.j, 170.24560727+0.j,\n",
       "       675.9992615 +0.j, 766.82359709+0.j, 140.48736473+0.j,\n",
       "       275.6440189 +0.j, 966.30810435+0.j, 759.07982532+0.j,\n",
       "       288.4399965 +0.j, 752.77506092+0.j, 373.27411056+0.j,\n",
       "       758.43485363+0.j, 165.57669706+0.j, 914.90950583+0.j,\n",
       "        46.53406116+0.j, 609.71834026+0.j, 523.34380429+0.j,\n",
       "       858.53771541+0.j, 931.56511642+0.j, 642.7475122 +0.j,\n",
       "       616.01838877+0.j, 512.50590458+0.j, 424.67823123+0.j,\n",
       "       432.72364699+0.j, 651.98376258+0.j, 232.90619013+0.j,\n",
       "       248.96107208+0.j, 983.24804628+0.j, 122.43811573+0.j,\n",
       "       858.38195274+0.j, 519.18244784+0.j, 491.76651167+0.j,\n",
       "        77.47546877+0.j, 832.36629589+0.j, 480.45312463+0.j,\n",
       "         6.02702894+0.j,  95.09968964+0.j, 158.65242074+0.j,\n",
       "       242.62633678+0.j, 608.28374549+0.j, 763.47322281+0.j,\n",
       "        89.96106878+0.j, 273.42615741+0.j, 887.51514534+0.j,\n",
       "       201.96187503+0.j, 882.93994213+0.j, 322.38813445+0.j,\n",
       "       185.85266461+0.j, 578.77810671+0.j, 469.20871529+0.j,\n",
       "       311.34201154+0.j, 557.32770838+0.j, 133.9811301 +0.j,\n",
       "        86.75914447+0.j, 795.90004628+0.j, 570.72094606+0.j,\n",
       "       274.19944221+0.j, 327.97752847+0.j, 821.29349101+0.j,\n",
       "       302.31112834+0.j, 746.64696055+0.j, 115.37137108+0.j,\n",
       "       564.94448405+0.j, 716.50289856+0.j, 206.80035729+0.j,\n",
       "       995.68709189+0.j, 225.01717869+0.j,  68.44739526+0.j,\n",
       "        20.09644552+0.j, 403.80694596+0.j, 806.70373615+0.j,\n",
       "       838.05712481+0.j, 443.33962579+0.j, 295.94499382+0.j,\n",
       "       302.55014363+0.j, 866.55331954+0.j, 237.75981395+0.j,\n",
       "       177.87979232+0.j, 466.14117778+0.j, 758.40803074+0.j,\n",
       "       736.20713768+0.j, 936.95921357+0.j, 282.76985701+0.j,\n",
       "       547.98642482+0.j, 372.64158546+0.j, 349.51402079+0.j,\n",
       "       734.15020705+0.j, 812.85519676+0.j, 801.19290144+0.j,\n",
       "       416.57976158+0.j, 528.51205073+0.j, 493.21877711+0.j,\n",
       "        18.37597252+0.j, 220.83614817+0.j, 639.02738268+0.j,\n",
       "       508.62100576+0.j, 680.41209109+0.j, 716.91201354+0.j,\n",
       "       750.06301158+0.j, 237.59430072+0.j, 964.32831105+0.j,\n",
       "        62.47771095+0.j, 215.20082022+0.j, 954.95985932+0.j,\n",
       "       132.85202817+0.j, 209.75930344+0.j, 280.27264751+0.j,\n",
       "       311.70959496+0.j, 671.04433383+0.j,  86.61685763+0.j,\n",
       "       979.37448345+0.j, 989.42182177+0.j, 210.66542245+0.j,\n",
       "       265.88960489+0.j, 754.61118441+0.j, 561.31591202+0.j,\n",
       "       558.65071723+0.j, 237.74852078+0.j,  16.31426583+0.j,\n",
       "        63.99103222+0.j, 359.15178608+0.j, 568.96574939+0.j,\n",
       "       149.40321668+0.j, 516.61558371+0.j,  47.48942667+0.j,\n",
       "        64.0049746 +0.j, 983.44503046+0.j, 338.0951337 +0.j,\n",
       "       830.67409908+0.j, 287.82687749+0.j,  92.1873557 +0.j,\n",
       "       259.53895746+0.j, 872.15488793+0.j, 146.78740959+0.j,\n",
       "       640.26637974+0.j, 426.28117873+0.j, 389.50383282+0.j,\n",
       "       606.33483155+0.j, 149.05291809+0.j, 658.20584332+0.j,\n",
       "       247.58664046+0.j, 817.90783594+0.j, 779.91593556+0.j,\n",
       "       949.62418085+0.j, 388.54758461+0.j, 279.03331707+0.j,\n",
       "        33.97349527+0.j, 935.59175187+0.j, 474.21543231+0.j,\n",
       "       462.57242502+0.j, 818.83452377+0.j, 713.07890298+0.j,\n",
       "       277.85715624+0.j, 415.88494083+0.j, 456.62465486+0.j,\n",
       "       238.20619003+0.j, 378.87503753+0.j, 327.10780589+0.j,\n",
       "       511.83623932+0.j, 489.5634164 +0.j, 488.81532034+0.j,\n",
       "       614.34807011+0.j, 101.79169157+0.j, 674.14598211+0.j,\n",
       "       327.9603477 +0.j, 255.43614839+0.j, 202.44532904+0.j,\n",
       "       534.25623019+0.j, 785.24538948+0.j, 544.23553042+0.j,\n",
       "       523.85189735+0.j, 687.54393351+0.j])"
      ]
     },
     "execution_count": 130,
     "metadata": {},
     "output_type": "execute_result"
    }
   ],
   "source": [
    "xi_opt = terminator(max_iter, time_steps, total_time, epsilon)\n",
    "xi_opt"
   ]
  },
  {
   "cell_type": "code",
   "execution_count": 131,
   "metadata": {
    "ExecuteTime": {
     "end_time": "2019-02-01T05:50:00.025013Z",
     "start_time": "2019-02-01T05:49:59.677929Z"
    }
   },
   "outputs": [
    {
     "data": {
      "text/plain": [
       "-3.0865920530774567"
      ]
     },
     "execution_count": 131,
     "metadata": {},
     "output_type": "execute_result"
    }
   ],
   "source": [
    "F(xi_opt, dt)"
   ]
  },
  {
   "cell_type": "code",
   "execution_count": 132,
   "metadata": {
    "ExecuteTime": {
     "end_time": "2019-02-01T05:50:00.032479Z",
     "start_time": "2019-02-01T05:50:00.027568Z"
    }
   },
   "outputs": [
    {
     "data": {
      "text/plain": [
       "10"
      ]
     },
     "execution_count": 132,
     "metadata": {},
     "output_type": "execute_result"
    }
   ],
   "source": [
    "max_iter"
   ]
  },
  {
   "cell_type": "code",
   "execution_count": 133,
   "metadata": {
    "ExecuteTime": {
     "end_time": "2019-02-01T05:50:00.042307Z",
     "start_time": "2019-02-01T05:50:00.034778Z"
    }
   },
   "outputs": [
    {
     "data": {
      "text/latex": [
       "Quantum object: dims = [[2, 2], [2, 2]], shape = (4, 4), type = oper, isherm = True\\begin{equation*}\\left(\\begin{array}{*{11}c}0.0 & 0.0 & 0.0 & 1.0\\\\0.0 & 0.0 & 1.0 & 0.0\\\\0.0 & 1.0 & 0.0 & 0.0\\\\1.0 & 0.0 & 0.0 & 0.0\\\\\\end{array}\\right)\\end{equation*}"
      ],
      "text/plain": [
       "Quantum object: dims = [[2, 2], [2, 2]], shape = (4, 4), type = oper, isherm = True\n",
       "Qobj data =\n",
       "[[0. 0. 0. 1.]\n",
       " [0. 0. 1. 0.]\n",
       " [0. 1. 0. 0.]\n",
       " [1. 0. 0. 0.]]"
      ]
     },
     "execution_count": 133,
     "metadata": {},
     "output_type": "execute_result"
    }
   ],
   "source": [
    "T"
   ]
  },
  {
   "cell_type": "code",
   "execution_count": 134,
   "metadata": {
    "ExecuteTime": {
     "end_time": "2019-02-01T05:50:00.444586Z",
     "start_time": "2019-02-01T05:50:00.044526Z"
    }
   },
   "outputs": [
    {
     "data": {
      "text/latex": [
       "Quantum object: dims = [[2, 2], [2, 2]], shape = (4, 4), type = oper, isherm = False\\begin{equation*}\\left(\\begin{array}{*{11}c}0.426 & (-0.018-0.004j) & (-0.018+0.004j) & 0.574\\\\(0.015+0.002j) & (-0.062+0.005j) & (-0.084-0.011j) & (-0.015-0.002j)\\\\(0.015-0.002j) & (-0.084+0.011j) & (-0.062-0.005j) & (-0.015+0.002j)\\\\0.574 & (0.018+0.004j) & (0.018-0.004j) & 0.426\\\\\\end{array}\\right)\\end{equation*}"
      ],
      "text/plain": [
       "Quantum object: dims = [[2, 2], [2, 2]], shape = (4, 4), type = oper, isherm = False\n",
       "Qobj data =\n",
       "[[ 0.42578184+0.j         -0.01789014-0.00419964j -0.01789014+0.00419964j\n",
       "   0.57421816+0.j        ]\n",
       " [ 0.01479095+0.00163987j -0.06167375+0.00522678j -0.08427317-0.01086708j\n",
       "  -0.01479095-0.00163987j]\n",
       " [ 0.01479095-0.00163987j -0.08427317+0.01086708j -0.06167375-0.00522678j\n",
       "  -0.01479095+0.00163987j]\n",
       " [ 0.57421816+0.j          0.01789014+0.00419964j  0.01789014-0.00419964j\n",
       "   0.42578184+0.j        ]]"
      ]
     },
     "execution_count": 134,
     "metadata": {},
     "output_type": "execute_result"
    }
   ],
   "source": [
    "L_full_maker(xi_opt, dt)"
   ]
  },
  {
   "cell_type": "code",
   "execution_count": 135,
   "metadata": {
    "ExecuteTime": {
     "end_time": "2019-02-01T05:50:01.014865Z",
     "start_time": "2019-02-01T05:50:00.446498Z"
    }
   },
   "outputs": [
    {
     "data": {
      "text/plain": [
       "(<Figure size 576x432 with 2 Axes>,\n",
       " <matplotlib.axes._subplots.AxesSubplot at 0x1a15916a58>)"
      ]
     },
     "execution_count": 135,
     "metadata": {},
     "output_type": "execute_result"
    },
    {
     "data": {
      "image/png": "[encoded data removed]",
      "text/plain": [
       "<Figure size 576x432 with 2 Axes>"
      ]
     },
     "metadata": {},
     "output_type": "display_data"
    }
   ],
   "source": [
    "hinton(L_full_maker(xi_opt, dt))"
   ]
  },
  {
   "cell_type": "code",
   "execution_count": null,
   "metadata": {},
   "outputs": [],
   "source": []
  },
  {
   "cell_type": "markdown",
   "metadata": {},
   "source": [
    "### Try2"
   ]
  },
  {
   "cell_type": "code",
   "execution_count": 136,
   "metadata": {
    "ExecuteTime": {
     "end_time": "2019-02-01T05:50:01.020601Z",
     "start_time": "2019-02-01T05:50:01.017191Z"
    }
   },
   "outputs": [],
   "source": [
    "total_time = 3*pi/omega_1\n",
    "epsilon = 10**(-6)\n",
    "max_iter = 10#10**4#1000#100#50#20\n",
    "time_steps = 50\n",
    "dt = total_time/time_steps"
   ]
  },
  {
   "cell_type": "code",
   "execution_count": 137,
   "metadata": {
    "ExecuteTime": {
     "end_time": "2019-02-01T05:50:09.103412Z",
     "start_time": "2019-02-01T05:50:01.022832Z"
    }
   },
   "outputs": [
    {
     "data": {
      "text/plain": [
       "array([767.82938097+0.j, 892.48892075+0.j, 825.45795553+0.j,\n",
       "       886.41869344+0.j, 350.76296917+0.j, 917.77453668+0.j,\n",
       "       472.44511885+0.j, 937.66171659+0.j,  97.78505732+0.j,\n",
       "       360.7291805 +0.j, 108.12579703+0.j,  51.97965142+0.j,\n",
       "       535.05068539+0.j, 993.8806585 +0.j, 293.76284553+0.j,\n",
       "       430.79304946+0.j, 181.55902765+0.j, 436.91684256+0.j,\n",
       "       965.91117408+0.j, 810.94073972+0.j, 213.64716531+0.j,\n",
       "       200.4957599 +0.j, 676.32433821+0.j, 500.92663155+0.j,\n",
       "       169.67351294+0.j, 945.81315865+0.j, 354.7270273 +0.j,\n",
       "       141.47344967+0.j, 472.36620451+0.j, 966.19487712+0.j,\n",
       "       681.18978879+0.j, 412.68598909+0.j, 766.48370105+0.j,\n",
       "        44.17907905+0.j, 708.32444114+0.j, 471.63083365+0.j,\n",
       "       649.32906573+0.j, 210.56166611+0.j, 895.94918867+0.j,\n",
       "       855.24173271+0.j, 701.57236128+0.j, 986.91414528+0.j,\n",
       "       804.73958151+0.j, 216.65737648+0.j, 871.11898578+0.j,\n",
       "       808.56059992+0.j, 320.00729995+0.j, 476.17754725+0.j,\n",
       "       882.43137224+0.j, 483.35981618+0.j])"
      ]
     },
     "execution_count": 137,
     "metadata": {},
     "output_type": "execute_result"
    }
   ],
   "source": [
    "xi_opt = terminator(max_iter, time_steps, total_time, epsilon)\n",
    "xi_opt"
   ]
  },
  {
   "cell_type": "code",
   "execution_count": 138,
   "metadata": {
    "ExecuteTime": {
     "end_time": "2019-02-01T05:50:09.198045Z",
     "start_time": "2019-02-01T05:50:09.105896Z"
    }
   },
   "outputs": [
    {
     "data": {
      "text/plain": [
       "-3.0921110546881883"
      ]
     },
     "execution_count": 138,
     "metadata": {},
     "output_type": "execute_result"
    }
   ],
   "source": [
    "F(xi_opt, dt)"
   ]
  },
  {
   "cell_type": "code",
   "execution_count": 139,
   "metadata": {
    "ExecuteTime": {
     "end_time": "2019-02-01T05:50:09.204143Z",
     "start_time": "2019-02-01T05:50:09.200186Z"
    }
   },
   "outputs": [
    {
     "data": {
      "text/plain": [
       "10"
      ]
     },
     "execution_count": 139,
     "metadata": {},
     "output_type": "execute_result"
    }
   ],
   "source": [
    "max_iter"
   ]
  },
  {
   "cell_type": "code",
   "execution_count": 140,
   "metadata": {
    "ExecuteTime": {
     "end_time": "2019-02-01T05:50:09.211813Z",
     "start_time": "2019-02-01T05:50:09.206148Z"
    }
   },
   "outputs": [
    {
     "data": {
      "text/latex": [
       "Quantum object: dims = [[2, 2], [2, 2]], shape = (4, 4), type = oper, isherm = True\\begin{equation*}\\left(\\begin{array}{*{11}c}0.0 & 0.0 & 0.0 & 1.0\\\\0.0 & 0.0 & 1.0 & 0.0\\\\0.0 & 1.0 & 0.0 & 0.0\\\\1.0 & 0.0 & 0.0 & 0.0\\\\\\end{array}\\right)\\end{equation*}"
      ],
      "text/plain": [
       "Quantum object: dims = [[2, 2], [2, 2]], shape = (4, 4), type = oper, isherm = True\n",
       "Qobj data =\n",
       "[[0. 0. 0. 1.]\n",
       " [0. 0. 1. 0.]\n",
       " [0. 1. 0. 0.]\n",
       " [1. 0. 0. 0.]]"
      ]
     },
     "execution_count": 140,
     "metadata": {},
     "output_type": "execute_result"
    }
   ],
   "source": [
    "T"
   ]
  },
  {
   "cell_type": "code",
   "execution_count": 141,
   "metadata": {
    "ExecuteTime": {
     "end_time": "2019-02-01T05:50:09.301919Z",
     "start_time": "2019-02-01T05:50:09.214078Z"
    }
   },
   "outputs": [
    {
     "data": {
      "text/latex": [
       "Quantum object: dims = [[2, 2], [2, 2]], shape = (4, 4), type = oper, isherm = False\\begin{equation*}\\left(\\begin{array}{*{11}c}0.543 & (0.062-9.321\\times10^{-05}j) & (0.062+9.321\\times10^{-05}j) & 0.457\\\\(-0.062+2.975\\times10^{-05}j) & (0.055-0.002j) & (0.032+5.719\\times10^{-05}j) & (0.062-2.975\\times10^{-05}j)\\\\(-0.062-2.975\\times10^{-05}j) & (0.032-5.719\\times10^{-05}j) & (0.055+0.002j) & (0.062+2.975\\times10^{-05}j)\\\\0.457 & (-0.062+9.321\\times10^{-05}j) & (-0.062-9.321\\times10^{-05}j) & 0.543\\\\\\end{array}\\right)\\end{equation*}"
      ],
      "text/plain": [
       "Quantum object: dims = [[2, 2], [2, 2]], shape = (4, 4), type = oper, isherm = False\n",
       "Qobj data =\n",
       "[[ 0.54302866+0.00000000e+00j  0.06249529-9.32095311e-05j\n",
       "   0.06249529+9.32095311e-05j  0.45697134+0.00000000e+00j]\n",
       " [-0.06246147+2.97460109e-05j  0.05470521-1.85517825e-03j\n",
       "   0.03165865+5.71892338e-05j  0.06246147-2.97460109e-05j]\n",
       " [-0.06246147-2.97460109e-05j  0.03165865-5.71892338e-05j\n",
       "   0.05470521+1.85517825e-03j  0.06246147+2.97460109e-05j]\n",
       " [ 0.45697134+0.00000000e+00j -0.06249529+9.32095311e-05j\n",
       "  -0.06249529-9.32095311e-05j  0.54302866+0.00000000e+00j]]"
      ]
     },
     "execution_count": 141,
     "metadata": {},
     "output_type": "execute_result"
    }
   ],
   "source": [
    "L_full_maker(xi_opt, dt)"
   ]
  },
  {
   "cell_type": "code",
   "execution_count": 142,
   "metadata": {
    "ExecuteTime": {
     "end_time": "2019-02-01T05:50:09.628008Z",
     "start_time": "2019-02-01T05:50:09.304278Z"
    }
   },
   "outputs": [
    {
     "data": {
      "text/plain": [
       "(<Figure size 576x432 with 2 Axes>,\n",
       " <matplotlib.axes._subplots.AxesSubplot at 0x1a160f8e80>)"
      ]
     },
     "execution_count": 142,
     "metadata": {},
     "output_type": "execute_result"
    },
    {
     "data": {
      "image/png": "[encoded data removed]",
      "text/plain": [
       "<Figure size 576x432 with 2 Axes>"
      ]
     },
     "metadata": {},
     "output_type": "display_data"
    }
   ],
   "source": [
    "hinton(L_full_maker(xi_opt, dt))"
   ]
  },
  {
   "cell_type": "code",
   "execution_count": null,
   "metadata": {},
   "outputs": [],
   "source": []
  },
  {
   "cell_type": "markdown",
   "metadata": {},
   "source": [
    "### Try2"
   ]
  },
  {
   "cell_type": "code",
   "execution_count": 143,
   "metadata": {
    "ExecuteTime": {
     "end_time": "2019-02-01T05:50:09.633477Z",
     "start_time": "2019-02-01T05:50:09.630282Z"
    }
   },
   "outputs": [],
   "source": [
    "total_time = 3*pi/omega_1\n",
    "epsilon = 10**(-6)\n",
    "max_iter = 20#10**4#1000#100#50#20\n",
    "time_steps = 20\n",
    "dt = total_time/time_steps"
   ]
  },
  {
   "cell_type": "code",
   "execution_count": 144,
   "metadata": {
    "ExecuteTime": {
     "end_time": "2019-02-01T05:50:11.022494Z",
     "start_time": "2019-02-01T05:50:09.635645Z"
    }
   },
   "outputs": [
    {
     "data": {
      "text/plain": [
       "array([785.34008909+0.j, 756.28395892+0.j, 848.21984514+0.j,\n",
       "       220.56954603+0.j, 830.10145303+0.j, 722.52895479+0.j,\n",
       "       911.28946521+0.j, 975.84775792+0.j, 445.55808428+0.j,\n",
       "       746.27467447+0.j, 206.67848248+0.j, 336.42550734+0.j,\n",
       "       574.76338342+0.j, 516.92517585+0.j, 174.36028191+0.j,\n",
       "       410.97510683+0.j, 918.1090729 +0.j, 815.03521269+0.j,\n",
       "       976.07986654+0.j,  95.89174992+0.j])"
      ]
     },
     "execution_count": 144,
     "metadata": {},
     "output_type": "execute_result"
    }
   ],
   "source": [
    "xi_opt = terminator(max_iter, time_steps, total_time, epsilon)\n",
    "xi_opt"
   ]
  },
  {
   "cell_type": "code",
   "execution_count": 145,
   "metadata": {
    "ExecuteTime": {
     "end_time": "2019-02-01T05:50:11.073316Z",
     "start_time": "2019-02-01T05:50:11.024446Z"
    }
   },
   "outputs": [
    {
     "data": {
      "text/plain": [
       "-3.093130081566093"
      ]
     },
     "execution_count": 145,
     "metadata": {},
     "output_type": "execute_result"
    }
   ],
   "source": [
    "F(xi_opt, dt)"
   ]
  },
  {
   "cell_type": "code",
   "execution_count": 146,
   "metadata": {
    "ExecuteTime": {
     "end_time": "2019-02-01T05:50:11.082372Z",
     "start_time": "2019-02-01T05:50:11.076716Z"
    }
   },
   "outputs": [
    {
     "data": {
      "text/plain": [
       "20"
      ]
     },
     "execution_count": 146,
     "metadata": {},
     "output_type": "execute_result"
    }
   ],
   "source": [
    "max_iter"
   ]
  },
  {
   "cell_type": "code",
   "execution_count": 147,
   "metadata": {
    "ExecuteTime": {
     "end_time": "2019-02-01T05:50:11.091941Z",
     "start_time": "2019-02-01T05:50:11.084683Z"
    }
   },
   "outputs": [
    {
     "data": {
      "text/latex": [
       "Quantum object: dims = [[2, 2], [2, 2]], shape = (4, 4), type = oper, isherm = True\\begin{equation*}\\left(\\begin{array}{*{11}c}0.0 & 0.0 & 0.0 & 1.0\\\\0.0 & 0.0 & 1.0 & 0.0\\\\0.0 & 1.0 & 0.0 & 0.0\\\\1.0 & 0.0 & 0.0 & 0.0\\\\\\end{array}\\right)\\end{equation*}"
      ],
      "text/plain": [
       "Quantum object: dims = [[2, 2], [2, 2]], shape = (4, 4), type = oper, isherm = True\n",
       "Qobj data =\n",
       "[[0. 0. 0. 1.]\n",
       " [0. 0. 1. 0.]\n",
       " [0. 1. 0. 0.]\n",
       " [1. 0. 0. 0.]]"
      ]
     },
     "execution_count": 147,
     "metadata": {},
     "output_type": "execute_result"
    }
   ],
   "source": [
    "T"
   ]
  },
  {
   "cell_type": "code",
   "execution_count": 148,
   "metadata": {
    "ExecuteTime": {
     "end_time": "2019-02-01T05:50:11.160723Z",
     "start_time": "2019-02-01T05:50:11.094187Z"
    }
   },
   "outputs": [
    {
     "data": {
      "text/latex": [
       "Quantum object: dims = [[2, 2], [2, 2]], shape = (4, 4), type = oper, isherm = False\\begin{equation*}\\left(\\begin{array}{*{11}c}0.533 & (-0.069-5.574\\times10^{-05}j) & (-0.069+5.574\\times10^{-05}j) & 0.467\\\\(0.069-2.546\\times10^{-04}j) & (0.044+3.324\\times10^{-04}j) & (0.021+8.923\\times10^{-05}j) & (-0.069+2.546\\times10^{-04}j)\\\\(0.069+2.546\\times10^{-04}j) & (0.021-8.923\\times10^{-05}j) & (0.044-3.324\\times10^{-04}j) & (-0.069-2.546\\times10^{-04}j)\\\\0.467 & (0.069+5.574\\times10^{-05}j) & (0.069-5.574\\times10^{-05}j) & 0.533\\\\\\end{array}\\right)\\end{equation*}"
      ],
      "text/plain": [
       "Quantum object: dims = [[2, 2], [2, 2]], shape = (4, 4), type = oper, isherm = False\n",
       "Qobj data =\n",
       "[[ 0.5327341 +0.00000000e+00j -0.06850908-5.57398313e-05j\n",
       "  -0.06850908+5.57398313e-05j  0.4672659 +0.00000000e+00j]\n",
       " [ 0.06853066-2.54581402e-04j  0.04416608+3.32379469e-04j\n",
       "   0.02111134+8.92258369e-05j -0.06853066+2.54581402e-04j]\n",
       " [ 0.06853066+2.54581402e-04j  0.02111134-8.92258369e-05j\n",
       "   0.04416608-3.32379469e-04j -0.06853066-2.54581402e-04j]\n",
       " [ 0.4672659 +0.00000000e+00j  0.06850908+5.57398313e-05j\n",
       "   0.06850908-5.57398313e-05j  0.5327341 +0.00000000e+00j]]"
      ]
     },
     "execution_count": 148,
     "metadata": {},
     "output_type": "execute_result"
    }
   ],
   "source": [
    "L_full_maker(xi_opt, dt)"
   ]
  },
  {
   "cell_type": "code",
   "execution_count": 149,
   "metadata": {
    "ExecuteTime": {
     "end_time": "2019-02-01T05:50:11.440356Z",
     "start_time": "2019-02-01T05:50:11.163280Z"
    }
   },
   "outputs": [
    {
     "data": {
      "text/plain": [
       "(<Figure size 576x432 with 2 Axes>,\n",
       " <matplotlib.axes._subplots.AxesSubplot at 0x1a161907b8>)"
      ]
     },
     "execution_count": 149,
     "metadata": {},
     "output_type": "execute_result"
    },
    {
     "data": {
      "image/png": "[encoded data removed]",
      "text/plain": [
       "<Figure size 576x432 with 2 Axes>"
      ]
     },
     "metadata": {},
     "output_type": "display_data"
    }
   ],
   "source": [
    "hinton(L_full_maker(xi_opt, dt))"
   ]
  },
  {
   "cell_type": "markdown",
   "metadata": {},
   "source": [
    "### Try2"
   ]
  },
  {
   "cell_type": "code",
   "execution_count": 150,
   "metadata": {
    "ExecuteTime": {
     "end_time": "2019-02-01T05:50:11.445722Z",
     "start_time": "2019-02-01T05:50:11.442738Z"
    }
   },
   "outputs": [],
   "source": [
    "total_time = 3*pi/omega_1\n",
    "epsilon = 10**(-6)\n",
    "max_iter = 100#10**4#1000#100#50#20\n",
    "time_steps = 20\n",
    "dt = total_time/time_steps"
   ]
  },
  {
   "cell_type": "code",
   "execution_count": 151,
   "metadata": {
    "ExecuteTime": {
     "end_time": "2019-02-01T05:50:12.870955Z",
     "start_time": "2019-02-01T05:50:11.447961Z"
    }
   },
   "outputs": [
    {
     "data": {
      "text/plain": [
       "array([433.67074492+0.j, 503.37905563+0.j,  86.04339294+0.j,\n",
       "       253.53141405+0.j, 337.95382581+0.j, 778.17979497+0.j,\n",
       "       920.73855179+0.j, 168.14159598+0.j, 338.61940058+0.j,\n",
       "       856.8550757 +0.j, 733.68020414+0.j,  24.56328003+0.j,\n",
       "       434.96135706+0.j, 150.55160942+0.j,  48.6934671 +0.j,\n",
       "       629.42201294+0.j, 193.21559117+0.j, 613.33655391+0.j,\n",
       "       951.16199222+0.j, 849.97149488+0.j])"
      ]
     },
     "execution_count": 151,
     "metadata": {},
     "output_type": "execute_result"
    }
   ],
   "source": [
    "xi_opt = terminator(max_iter, time_steps, total_time, epsilon)\n",
    "xi_opt"
   ]
  },
  {
   "cell_type": "code",
   "execution_count": 152,
   "metadata": {
    "ExecuteTime": {
     "end_time": "2019-02-01T05:50:12.915519Z",
     "start_time": "2019-02-01T05:50:12.873592Z"
    }
   },
   "outputs": [
    {
     "data": {
      "text/plain": [
       "-3.092778673151856"
      ]
     },
     "execution_count": 152,
     "metadata": {},
     "output_type": "execute_result"
    }
   ],
   "source": [
    "F(xi_opt, dt)"
   ]
  },
  {
   "cell_type": "code",
   "execution_count": 153,
   "metadata": {
    "ExecuteTime": {
     "end_time": "2019-02-01T05:50:12.922576Z",
     "start_time": "2019-02-01T05:50:12.917614Z"
    }
   },
   "outputs": [
    {
     "data": {
      "text/plain": [
       "100"
      ]
     },
     "execution_count": 153,
     "metadata": {},
     "output_type": "execute_result"
    }
   ],
   "source": [
    "max_iter"
   ]
  },
  {
   "cell_type": "code",
   "execution_count": 154,
   "metadata": {
    "ExecuteTime": {
     "end_time": "2019-02-01T05:50:12.930494Z",
     "start_time": "2019-02-01T05:50:12.924695Z"
    }
   },
   "outputs": [
    {
     "data": {
      "text/latex": [
       "Quantum object: dims = [[2, 2], [2, 2]], shape = (4, 4), type = oper, isherm = True\\begin{equation*}\\left(\\begin{array}{*{11}c}0.0 & 0.0 & 0.0 & 1.0\\\\0.0 & 0.0 & 1.0 & 0.0\\\\0.0 & 1.0 & 0.0 & 0.0\\\\1.0 & 0.0 & 0.0 & 0.0\\\\\\end{array}\\right)\\end{equation*}"
      ],
      "text/plain": [
       "Quantum object: dims = [[2, 2], [2, 2]], shape = (4, 4), type = oper, isherm = True\n",
       "Qobj data =\n",
       "[[0. 0. 0. 1.]\n",
       " [0. 0. 1. 0.]\n",
       " [0. 1. 0. 0.]\n",
       " [1. 0. 0. 0.]]"
      ]
     },
     "execution_count": 154,
     "metadata": {},
     "output_type": "execute_result"
    }
   ],
   "source": [
    "T"
   ]
  },
  {
   "cell_type": "code",
   "execution_count": 155,
   "metadata": {
    "ExecuteTime": {
     "end_time": "2019-02-01T05:50:12.973644Z",
     "start_time": "2019-02-01T05:50:12.933141Z"
    }
   },
   "outputs": [
    {
     "data": {
      "text/latex": [
       "Quantum object: dims = [[2, 2], [2, 2]], shape = (4, 4), type = oper, isherm = False\\begin{equation*}\\left(\\begin{array}{*{11}c}0.576 & (-0.002+5.836\\times10^{-04}j) & (-0.002-5.836\\times10^{-04}j) & 0.424\\\\(0.003+3.661\\times10^{-04}j) & (0.087-0.003j) & (0.064-4.442\\times10^{-04}j) & (-0.003-3.661\\times10^{-04}j)\\\\(0.003-3.661\\times10^{-04}j) & (0.064+4.442\\times10^{-04}j) & (0.087+0.003j) & (-0.003+3.661\\times10^{-04}j)\\\\0.424 & (0.002-5.836\\times10^{-04}j) & (0.002+5.836\\times10^{-04}j) & 0.576\\\\\\end{array}\\right)\\end{equation*}"
      ],
      "text/plain": [
       "Quantum object: dims = [[2, 2], [2, 2]], shape = (4, 4), type = oper, isherm = False\n",
       "Qobj data =\n",
       "[[ 0.57584364+0.j         -0.00247889+0.00058362j -0.00247889-0.00058362j\n",
       "   0.42415636+0.j        ]\n",
       " [ 0.00276398+0.00036607j  0.08731052-0.00320343j  0.0642995 -0.00044421j\n",
       "  -0.00276398-0.00036607j]\n",
       " [ 0.00276398-0.00036607j  0.0642995 +0.00044421j  0.08731052+0.00320343j\n",
       "  -0.00276398+0.00036607j]\n",
       " [ 0.42415636+0.j          0.00247889-0.00058362j  0.00247889+0.00058362j\n",
       "   0.57584364+0.j        ]]"
      ]
     },
     "execution_count": 155,
     "metadata": {},
     "output_type": "execute_result"
    }
   ],
   "source": [
    "L_full_maker(xi_opt, dt)"
   ]
  },
  {
   "cell_type": "code",
   "execution_count": 156,
   "metadata": {
    "ExecuteTime": {
     "end_time": "2019-02-01T05:50:13.265646Z",
     "start_time": "2019-02-01T05:50:12.975794Z"
    }
   },
   "outputs": [
    {
     "data": {
      "text/plain": [
       "(<Figure size 576x432 with 2 Axes>,\n",
       " <matplotlib.axes._subplots.AxesSubplot at 0x1a16415d30>)"
      ]
     },
     "execution_count": 156,
     "metadata": {},
     "output_type": "execute_result"
    },
    {
     "data": {
      "image/png": "[encoded data removed]",
      "text/plain": [
       "<Figure size 576x432 with 2 Axes>"
      ]
     },
     "metadata": {},
     "output_type": "display_data"
    }
   ],
   "source": [
    "hinton(L_full_maker(xi_opt, dt))"
   ]
  },
  {
   "cell_type": "markdown",
   "metadata": {},
   "source": [
    "### Try2"
   ]
  },
  {
   "cell_type": "code",
   "execution_count": 157,
   "metadata": {
    "ExecuteTime": {
     "end_time": "2019-02-01T05:50:13.283765Z",
     "start_time": "2019-02-01T05:50:13.271589Z"
    }
   },
   "outputs": [],
   "source": [
    "total_time = 3*pi/omega_1\n",
    "epsilon = 10**(-6)\n",
    "max_iter = 100#10**4#1000#100#50#20\n",
    "time_steps = 200\n",
    "dt = total_time/time_steps"
   ]
  },
  {
   "cell_type": "code",
   "execution_count": 158,
   "metadata": {
    "ExecuteTime": {
     "end_time": "2019-02-01T05:52:18.205204Z",
     "start_time": "2019-02-01T05:50:13.288575Z"
    }
   },
   "outputs": [
    {
     "data": {
      "text/plain": [
       "array([6.44168754e+02+0.j, 1.23427170e+02+0.j, 6.77326750e+02+0.j,\n",
       "       2.39616115e+02+0.j, 2.61546879e+02+0.j, 3.53376160e+02+0.j,\n",
       "       1.29998384e+02+0.j, 3.39935343e+02+0.j, 2.87619352e+02+0.j,\n",
       "       7.11551870e+01+0.j, 6.04966635e+02+0.j, 2.30191211e+02+0.j,\n",
       "       3.55102579e+02+0.j, 1.43068840e+02+0.j, 5.89203676e+02+0.j,\n",
       "       9.32287989e+02+0.j, 1.59987733e+02+0.j, 4.31516608e+02+0.j,\n",
       "       9.37583430e-01+0.j, 1.32566796e+02+0.j, 6.05608223e+02+0.j,\n",
       "       7.94489615e+02+0.j, 3.22771591e+02+0.j, 1.57219055e+02+0.j,\n",
       "       3.52595643e+02+0.j, 5.87482312e+02+0.j, 4.25275684e+01+0.j,\n",
       "       6.85479269e+02+0.j, 4.59824136e+02+0.j, 4.44583685e+02+0.j,\n",
       "       8.44286173e+02+0.j, 3.28042371e+02+0.j, 2.68612092e+02+0.j,\n",
       "       6.68332847e+02+0.j, 1.86908872e+02+0.j, 4.63267736e+01+0.j,\n",
       "       5.10426931e+02+0.j, 4.26558891e+02+0.j, 7.94939997e+02+0.j,\n",
       "       8.36208984e+02+0.j, 8.46842806e+02+0.j, 6.13558583e+02+0.j,\n",
       "       1.86567814e+02+0.j, 9.62780991e+02+0.j, 8.20487392e+02+0.j,\n",
       "       4.63552603e+02+0.j, 1.97474283e+02+0.j, 3.41387656e+02+0.j,\n",
       "       4.28787499e+01+0.j, 8.94245826e+02+0.j, 3.42605733e+02+0.j,\n",
       "       5.70758548e+02+0.j, 5.73104610e+01+0.j, 3.07946394e+02+0.j,\n",
       "       5.01794290e+02+0.j, 6.15293314e+02+0.j, 6.55233012e+02+0.j,\n",
       "       7.17168049e+02+0.j, 5.43922494e+02+0.j, 8.01294315e+02+0.j,\n",
       "       3.58248108e+01+0.j, 4.84462696e+02+0.j, 6.35351116e+02+0.j,\n",
       "       8.06635405e+02+0.j, 2.66065685e+02+0.j, 1.07972136e+02+0.j,\n",
       "       5.24189279e+02+0.j, 1.13178153e+02+0.j, 9.89990245e+02+0.j,\n",
       "       7.08849121e+02+0.j, 6.97724452e+02+0.j, 2.41773072e+02+0.j,\n",
       "       9.16900801e+02+0.j, 5.85666123e+02+0.j, 8.54272534e+02+0.j,\n",
       "       6.60629622e+02+0.j, 8.23246603e+02+0.j, 5.93259443e+02+0.j,\n",
       "       5.22429631e+02+0.j, 7.78069250e+02+0.j, 9.27510214e+02+0.j,\n",
       "       6.49400995e+02+0.j, 3.27782049e+02+0.j, 4.04380519e+02+0.j,\n",
       "       2.64914783e+02+0.j, 8.72545408e+02+0.j, 4.51265243e+02+0.j,\n",
       "       5.46662235e+02+0.j, 4.78737744e+02+0.j, 1.11164509e+02+0.j,\n",
       "       1.04919610e+02+0.j, 2.51853043e+02+0.j, 4.43440827e+02+0.j,\n",
       "       7.33865219e+02+0.j, 8.28469566e+02+0.j, 4.68524213e+01+0.j,\n",
       "       1.17006219e+02+0.j, 1.46946633e+02+0.j, 1.58807733e+02+0.j,\n",
       "       9.75404631e+02+0.j, 2.14598680e+02+0.j, 1.41173870e+02+0.j,\n",
       "       7.69331403e+02+0.j, 3.79867359e+02+0.j, 4.09861162e+02+0.j,\n",
       "       9.92141053e+02+0.j, 6.08790420e+02+0.j, 9.00136155e+02+0.j,\n",
       "       3.49822545e+02+0.j, 2.00687979e+02+0.j, 2.53907680e+02+0.j,\n",
       "       1.90174627e+02+0.j, 6.28701441e+02+0.j, 8.01964422e+02+0.j,\n",
       "       1.65543692e+02+0.j, 2.85026370e+01+0.j, 2.28209276e+02+0.j,\n",
       "       9.67866676e+01+0.j, 3.51927964e+01+0.j, 8.20506895e+02+0.j,\n",
       "       7.13809897e+02+0.j, 9.30404451e+01+0.j, 9.03453322e+02+0.j,\n",
       "       2.46750655e+02+0.j, 5.47586946e+02+0.j, 7.64740607e+02+0.j,\n",
       "       2.58475264e+02+0.j, 2.81994809e+02+0.j, 3.02221192e+02+0.j,\n",
       "       3.99954657e+02+0.j, 9.70805753e+02+0.j, 8.37130631e+02+0.j,\n",
       "       6.67983660e+02+0.j, 1.11131221e+02+0.j, 3.64450401e+02+0.j,\n",
       "       3.68910779e+02+0.j, 2.87973787e+02+0.j, 7.84830596e+02+0.j,\n",
       "       4.05729501e+01+0.j, 1.74832047e+02+0.j, 5.90440380e+02+0.j,\n",
       "       3.10372115e+02+0.j, 8.21765089e+02+0.j, 3.55729884e+02+0.j,\n",
       "       5.65350744e+02+0.j, 8.34648810e+02+0.j, 7.34261584e+01+0.j,\n",
       "       6.56764204e+02+0.j, 6.23951791e+02+0.j, 4.34941155e+02+0.j,\n",
       "       3.51747916e+02+0.j, 6.69186168e+02+0.j, 9.15957236e+02+0.j,\n",
       "       9.82910650e+02+0.j, 1.01704561e+02+0.j, 6.97602624e+01+0.j,\n",
       "       4.69063170e+02+0.j, 8.92179933e+02+0.j, 8.37022969e+02+0.j,\n",
       "       6.05763210e+02+0.j, 9.70266059e+02+0.j, 8.57555551e+02+0.j,\n",
       "       5.90155664e+02+0.j, 9.41550860e+02+0.j, 8.72046427e+02+0.j,\n",
       "       6.42846136e+02+0.j, 9.78509881e+02+0.j, 8.66514642e+02+0.j,\n",
       "       7.43841966e+02+0.j, 1.48670037e+02+0.j, 2.63058033e+02+0.j,\n",
       "       4.98765613e+02+0.j, 8.77698102e+02+0.j, 3.39634071e+02+0.j,\n",
       "       1.50326663e+02+0.j, 1.57131996e+02+0.j, 3.26035284e+01+0.j,\n",
       "       9.75380372e+02+0.j, 7.38489893e+02+0.j, 7.16744267e+02+0.j,\n",
       "       4.59304567e+02+0.j, 5.17480090e+02+0.j, 3.10714294e+02+0.j,\n",
       "       4.92451180e+02+0.j, 7.90737855e+02+0.j, 8.83332062e+02+0.j,\n",
       "       1.82925669e+02+0.j, 6.39677658e+01+0.j, 5.04993074e+02+0.j,\n",
       "       5.55930630e+02+0.j, 3.28400679e+02+0.j, 9.29061631e+02+0.j,\n",
       "       3.08039200e+02+0.j, 9.59596373e+02+0.j, 3.85755924e+02+0.j,\n",
       "       9.26680075e+02+0.j, 4.90473686e+02+0.j, 4.37093619e+02+0.j,\n",
       "       6.22981575e+02+0.j, 1.05160821e+02+0.j])"
      ]
     },
     "execution_count": 158,
     "metadata": {},
     "output_type": "execute_result"
    }
   ],
   "source": [
    "xi_opt = terminator(max_iter, time_steps, total_time, epsilon)\n",
    "xi_opt"
   ]
  },
  {
   "cell_type": "code",
   "execution_count": 159,
   "metadata": {
    "ExecuteTime": {
     "end_time": "2019-02-01T05:52:18.639564Z",
     "start_time": "2019-02-01T05:52:18.208285Z"
    }
   },
   "outputs": [
    {
     "data": {
      "text/plain": [
       "-3.089719398229371"
      ]
     },
     "execution_count": 159,
     "metadata": {},
     "output_type": "execute_result"
    }
   ],
   "source": [
    "F(xi_opt, dt)"
   ]
  },
  {
   "cell_type": "code",
   "execution_count": 160,
   "metadata": {
    "ExecuteTime": {
     "end_time": "2019-02-01T05:52:18.647470Z",
     "start_time": "2019-02-01T05:52:18.641756Z"
    }
   },
   "outputs": [
    {
     "data": {
      "text/plain": [
       "100"
      ]
     },
     "execution_count": 160,
     "metadata": {},
     "output_type": "execute_result"
    }
   ],
   "source": [
    "max_iter"
   ]
  },
  {
   "cell_type": "code",
   "execution_count": 161,
   "metadata": {
    "ExecuteTime": {
     "end_time": "2019-02-01T05:52:18.656069Z",
     "start_time": "2019-02-01T05:52:18.649246Z"
    }
   },
   "outputs": [
    {
     "data": {
      "text/latex": [
       "Quantum object: dims = [[2, 2], [2, 2]], shape = (4, 4), type = oper, isherm = True\\begin{equation*}\\left(\\begin{array}{*{11}c}0.0 & 0.0 & 0.0 & 1.0\\\\0.0 & 0.0 & 1.0 & 0.0\\\\0.0 & 1.0 & 0.0 & 0.0\\\\1.0 & 0.0 & 0.0 & 0.0\\\\\\end{array}\\right)\\end{equation*}"
      ],
      "text/plain": [
       "Quantum object: dims = [[2, 2], [2, 2]], shape = (4, 4), type = oper, isherm = True\n",
       "Qobj data =\n",
       "[[0. 0. 0. 1.]\n",
       " [0. 0. 1. 0.]\n",
       " [0. 1. 0. 0.]\n",
       " [1. 0. 0. 0.]]"
      ]
     },
     "execution_count": 161,
     "metadata": {},
     "output_type": "execute_result"
    }
   ],
   "source": [
    "T"
   ]
  },
  {
   "cell_type": "code",
   "execution_count": 162,
   "metadata": {
    "ExecuteTime": {
     "end_time": "2019-02-01T05:52:19.069991Z",
     "start_time": "2019-02-01T05:52:18.658227Z"
    }
   },
   "outputs": [
    {
     "data": {
      "text/latex": [
       "Quantum object: dims = [[2, 2], [2, 2]], shape = (4, 4), type = oper, isherm = False\\begin{equation*}\\left(\\begin{array}{*{11}c}0.508 & (0.076+0.003j) & (0.076-0.003j) & 0.492\\\\(-0.074+5.880\\times10^{-04}j) & (0.021-0.003j) & (-0.002+0.006j) & (0.074-5.880\\times10^{-04}j)\\\\(-0.074-5.880\\times10^{-04}j) & (-0.002-0.006j) & (0.021+0.003j) & (0.074+5.880\\times10^{-04}j)\\\\0.492 & (-0.076-0.003j) & (-0.076+0.003j) & 0.508\\\\\\end{array}\\right)\\end{equation*}"
      ],
      "text/plain": [
       "Quantum object: dims = [[2, 2], [2, 2]], shape = (4, 4), type = oper, isherm = False\n",
       "Qobj data =\n",
       "[[ 0.50843019+0.j          0.07603111+0.00280657j  0.07603111-0.00280657j\n",
       "   0.49156981+0.j        ]\n",
       " [-0.07444569+0.000588j    0.0206173 -0.00277472j -0.0023577 +0.00642164j\n",
       "   0.07444569-0.000588j  ]\n",
       " [-0.07444569-0.000588j   -0.0023577 -0.00642164j  0.0206173 +0.00277472j\n",
       "   0.07444569+0.000588j  ]\n",
       " [ 0.49156981+0.j         -0.07603111-0.00280657j -0.07603111+0.00280657j\n",
       "   0.50843019+0.j        ]]"
      ]
     },
     "execution_count": 162,
     "metadata": {},
     "output_type": "execute_result"
    }
   ],
   "source": [
    "L_full_maker(xi_opt, dt)"
   ]
  },
  {
   "cell_type": "code",
   "execution_count": 163,
   "metadata": {
    "ExecuteTime": {
     "end_time": "2019-02-01T05:52:19.796376Z",
     "start_time": "2019-02-01T05:52:19.082299Z"
    }
   },
   "outputs": [
    {
     "data": {
      "text/plain": [
       "(<Figure size 576x432 with 2 Axes>,\n",
       " <matplotlib.axes._subplots.AxesSubplot at 0x1a167b01d0>)"
      ]
     },
     "execution_count": 163,
     "metadata": {},
     "output_type": "execute_result"
    },
    {
     "data": {
      "image/png": "[encoded data removed]",
      "text/plain": [
       "<Figure size 576x432 with 2 Axes>"
      ]
     },
     "metadata": {},
     "output_type": "display_data"
    }
   ],
   "source": [
    "hinton(L_full_maker(xi_opt, dt))"
   ]
  },
  {
   "cell_type": "markdown",
   "metadata": {},
   "source": [
    "### Try2"
   ]
  },
  {
   "cell_type": "code",
   "execution_count": 164,
   "metadata": {
    "ExecuteTime": {
     "end_time": "2019-02-01T05:52:19.803918Z",
     "start_time": "2019-02-01T05:52:19.798839Z"
    }
   },
   "outputs": [],
   "source": [
    "total_time = 3*pi/omega_1\n",
    "epsilon = (0.1*2*pi)/(total_time)#10**(-6)\n",
    "max_iter = 10#10**4#1000#100#50#20\n",
    "time_steps = 20\n",
    "dt = total_time/time_steps"
   ]
  },
  {
   "cell_type": "code",
   "execution_count": 165,
   "metadata": {
    "ExecuteTime": {
     "end_time": "2019-02-01T05:52:21.430155Z",
     "start_time": "2019-02-01T05:52:19.807769Z"
    }
   },
   "outputs": [
    {
     "data": {
      "text/plain": [
       "array([ 14.61480681+0.j, 491.0347568 +0.j,  32.39374654+0.j,\n",
       "       436.42749067+0.j, 201.00515166+0.j, 772.12811205+0.j,\n",
       "       182.93765263+0.j, 396.95923731+0.j, 562.13433832+0.j,\n",
       "       459.95853129+0.j, 160.71559886+0.j, 159.09469834+0.j,\n",
       "       210.92511548+0.j, 367.36672696+0.j, 782.56655714+0.j,\n",
       "       718.26885622+0.j, 454.38586571+0.j, 686.90367044+0.j,\n",
       "       646.01497093+0.j, 958.19018825+0.j])"
      ]
     },
     "execution_count": 165,
     "metadata": {},
     "output_type": "execute_result"
    }
   ],
   "source": [
    "xi_opt = terminator(max_iter, time_steps, total_time, epsilon)\n",
    "xi_opt"
   ]
  },
  {
   "cell_type": "code",
   "execution_count": 166,
   "metadata": {
    "ExecuteTime": {
     "end_time": "2019-02-01T05:52:21.474554Z",
     "start_time": "2019-02-01T05:52:21.432223Z"
    }
   },
   "outputs": [
    {
     "data": {
      "text/plain": [
       "-3.093236247154066"
      ]
     },
     "execution_count": 166,
     "metadata": {},
     "output_type": "execute_result"
    }
   ],
   "source": [
    "F(xi_opt, dt)"
   ]
  },
  {
   "cell_type": "code",
   "execution_count": 167,
   "metadata": {
    "ExecuteTime": {
     "end_time": "2019-02-01T05:52:21.481071Z",
     "start_time": "2019-02-01T05:52:21.476520Z"
    }
   },
   "outputs": [
    {
     "data": {
      "text/plain": [
       "10"
      ]
     },
     "execution_count": 167,
     "metadata": {},
     "output_type": "execute_result"
    }
   ],
   "source": [
    "max_iter"
   ]
  },
  {
   "cell_type": "code",
   "execution_count": 168,
   "metadata": {
    "ExecuteTime": {
     "end_time": "2019-02-01T05:52:21.489032Z",
     "start_time": "2019-02-01T05:52:21.483172Z"
    }
   },
   "outputs": [
    {
     "data": {
      "text/latex": [
       "Quantum object: dims = [[2, 2], [2, 2]], shape = (4, 4), type = oper, isherm = True\\begin{equation*}\\left(\\begin{array}{*{11}c}0.0 & 0.0 & 0.0 & 1.0\\\\0.0 & 0.0 & 1.0 & 0.0\\\\0.0 & 1.0 & 0.0 & 0.0\\\\1.0 & 0.0 & 0.0 & 0.0\\\\\\end{array}\\right)\\end{equation*}"
      ],
      "text/plain": [
       "Quantum object: dims = [[2, 2], [2, 2]], shape = (4, 4), type = oper, isherm = True\n",
       "Qobj data =\n",
       "[[0. 0. 0. 1.]\n",
       " [0. 0. 1. 0.]\n",
       " [0. 1. 0. 0.]\n",
       " [1. 0. 0. 0.]]"
      ]
     },
     "execution_count": 168,
     "metadata": {},
     "output_type": "execute_result"
    }
   ],
   "source": [
    "T"
   ]
  },
  {
   "cell_type": "code",
   "execution_count": 169,
   "metadata": {
    "ExecuteTime": {
     "end_time": "2019-02-01T05:52:21.530497Z",
     "start_time": "2019-02-01T05:52:21.491200Z"
    }
   },
   "outputs": [
    {
     "data": {
      "text/latex": [
       "Quantum object: dims = [[2, 2], [2, 2]], shape = (4, 4), type = oper, isherm = False\\begin{equation*}\\left(\\begin{array}{*{11}c}0.517 & (-0.074-0.002j) & (-0.074+0.002j) & 0.483\\\\(0.074+7.976\\times10^{-04}j) & (0.029+0.006j) & (0.006-0.005j) & (-0.074-7.976\\times10^{-04}j)\\\\(0.074-7.976\\times10^{-04}j) & (0.006+0.005j) & (0.029-0.006j) & (-0.074+7.976\\times10^{-04}j)\\\\0.483 & (0.074+0.002j) & (0.074-0.002j) & 0.517\\\\\\end{array}\\right)\\end{equation*}"
      ],
      "text/plain": [
       "Quantum object: dims = [[2, 2], [2, 2]], shape = (4, 4), type = oper, isherm = False\n",
       "Qobj data =\n",
       "[[ 0.51740239+0.j         -0.07404895-0.00154848j -0.07404895+0.00154848j\n",
       "   0.48259761+0.j        ]\n",
       " [ 0.07354299+0.00079761j  0.02873051+0.00580356j  0.00574766-0.00459521j\n",
       "  -0.07354299-0.00079761j]\n",
       " [ 0.07354299-0.00079761j  0.00574766+0.00459521j  0.02873051-0.00580356j\n",
       "  -0.07354299+0.00079761j]\n",
       " [ 0.48259761+0.j          0.07404895+0.00154848j  0.07404895-0.00154848j\n",
       "   0.51740239+0.j        ]]"
      ]
     },
     "execution_count": 169,
     "metadata": {},
     "output_type": "execute_result"
    }
   ],
   "source": [
    "L_full_maker(xi_opt, dt)"
   ]
  },
  {
   "cell_type": "code",
   "execution_count": 170,
   "metadata": {
    "ExecuteTime": {
     "end_time": "2019-02-01T05:52:21.818412Z",
     "start_time": "2019-02-01T05:52:21.533262Z"
    }
   },
   "outputs": [
    {
     "data": {
      "text/plain": [
       "(<Figure size 576x432 with 2 Axes>,\n",
       " <matplotlib.axes._subplots.AxesSubplot at 0x1a167e27b8>)"
      ]
     },
     "execution_count": 170,
     "metadata": {},
     "output_type": "execute_result"
    },
    {
     "data": {
      "image/png": "[encoded data removed]",
      "text/plain": [
       "<Figure size 576x432 with 2 Axes>"
      ]
     },
     "metadata": {},
     "output_type": "display_data"
    }
   ],
   "source": [
    "hinton(L_full_maker(xi_opt, dt))"
   ]
  },
  {
   "cell_type": "markdown",
   "metadata": {},
   "source": [
    "### Try2"
   ]
  },
  {
   "cell_type": "code",
   "execution_count": 171,
   "metadata": {
    "ExecuteTime": {
     "end_time": "2019-02-01T05:52:21.823764Z",
     "start_time": "2019-02-01T05:52:21.820568Z"
    }
   },
   "outputs": [],
   "source": [
    "total_time = 3*pi/omega_1\n",
    "epsilon = (0.1*2*pi)/(total_time)#10**(-6)\n",
    "max_iter = 500#10#10**4#1000#100#50#20\n",
    "time_steps = 20\n",
    "dt = total_time/time_steps"
   ]
  },
  {
   "cell_type": "code",
   "execution_count": 172,
   "metadata": {
    "ExecuteTime": {
     "end_time": "2019-02-01T05:52:23.229794Z",
     "start_time": "2019-02-01T05:52:21.825539Z"
    }
   },
   "outputs": [
    {
     "data": {
      "text/plain": [
       "array([ 55.07381538+0.j, 631.3339407 +0.j,  76.85871551+0.j,\n",
       "       734.40877232+0.j, 992.78168383+0.j, 207.73659291+0.j,\n",
       "       208.32623539+0.j, 583.2822133 +0.j, 906.28086812+0.j,\n",
       "       426.2286622 +0.j, 164.71546051+0.j,  55.81767474+0.j,\n",
       "       409.17191084+0.j, 768.57628751+0.j, 203.23633168+0.j,\n",
       "       334.67828394+0.j, 568.91757951+0.j, 304.46892778+0.j,\n",
       "       520.54234345+0.j,  30.93864072+0.j])"
      ]
     },
     "execution_count": 172,
     "metadata": {},
     "output_type": "execute_result"
    }
   ],
   "source": [
    "xi_opt = terminator(max_iter, time_steps, total_time, epsilon)\n",
    "xi_opt"
   ]
  },
  {
   "cell_type": "code",
   "execution_count": 173,
   "metadata": {
    "ExecuteTime": {
     "end_time": "2019-02-01T05:52:23.273605Z",
     "start_time": "2019-02-01T05:52:23.231830Z"
    }
   },
   "outputs": [
    {
     "data": {
      "text/plain": [
       "-3.0923554942357256"
      ]
     },
     "execution_count": 173,
     "metadata": {},
     "output_type": "execute_result"
    }
   ],
   "source": [
    "F(xi_opt, dt)"
   ]
  },
  {
   "cell_type": "code",
   "execution_count": 174,
   "metadata": {
    "ExecuteTime": {
     "end_time": "2019-02-01T05:52:23.281202Z",
     "start_time": "2019-02-01T05:52:23.276407Z"
    }
   },
   "outputs": [
    {
     "data": {
      "text/plain": [
       "500"
      ]
     },
     "execution_count": 174,
     "metadata": {},
     "output_type": "execute_result"
    }
   ],
   "source": [
    "max_iter"
   ]
  },
  {
   "cell_type": "code",
   "execution_count": 175,
   "metadata": {
    "ExecuteTime": {
     "end_time": "2019-02-01T05:52:23.289557Z",
     "start_time": "2019-02-01T05:52:23.283465Z"
    }
   },
   "outputs": [
    {
     "data": {
      "text/latex": [
       "Quantum object: dims = [[2, 2], [2, 2]], shape = (4, 4), type = oper, isherm = True\\begin{equation*}\\left(\\begin{array}{*{11}c}0.0 & 0.0 & 0.0 & 1.0\\\\0.0 & 0.0 & 1.0 & 0.0\\\\0.0 & 1.0 & 0.0 & 0.0\\\\1.0 & 0.0 & 0.0 & 0.0\\\\\\end{array}\\right)\\end{equation*}"
      ],
      "text/plain": [
       "Quantum object: dims = [[2, 2], [2, 2]], shape = (4, 4), type = oper, isherm = True\n",
       "Qobj data =\n",
       "[[0. 0. 0. 1.]\n",
       " [0. 0. 1. 0.]\n",
       " [0. 1. 0. 0.]\n",
       " [1. 0. 0. 0.]]"
      ]
     },
     "execution_count": 175,
     "metadata": {},
     "output_type": "execute_result"
    }
   ],
   "source": [
    "T"
   ]
  },
  {
   "cell_type": "code",
   "execution_count": 176,
   "metadata": {
    "ExecuteTime": {
     "end_time": "2019-02-01T05:52:23.327593Z",
     "start_time": "2019-02-01T05:52:23.291691Z"
    }
   },
   "outputs": [],
   "source": [
    "myU = L_full_maker(xi_opt, dt)"
   ]
  },
  {
   "cell_type": "code",
   "execution_count": 177,
   "metadata": {
    "ExecuteTime": {
     "end_time": "2019-02-01T05:52:23.337284Z",
     "start_time": "2019-02-01T05:52:23.329194Z"
    }
   },
   "outputs": [
    {
     "data": {
      "text/latex": [
       "Quantum object: dims = [[2, 2], [2, 2]], shape = (4, 4), type = oper, isherm = False\\begin{equation*}\\left(\\begin{array}{*{11}c}1.355 & (-0.019+0.002j) & (-0.019-0.002j) & 1.0\\\\(0.019-0.003j) & (0.205+0.002j) & (0.151+0.002j) & (-0.019+0.003j)\\\\(0.019+0.003j) & (0.151-0.002j) & (0.205-0.002j) & (-0.019-0.003j)\\\\1.0 & (0.019-0.002j) & (0.019+0.002j) & 1.355\\\\\\end{array}\\right)\\end{equation*}"
      ],
      "text/plain": [
       "Quantum object: dims = [[2, 2], [2, 2]], shape = (4, 4), type = oper, isherm = False\n",
       "Qobj data =\n",
       "[[ 1.35518564+0.j         -0.01885902+0.00249709j -0.01885902-0.00249709j\n",
       "   1.        +0.j        ]\n",
       " [ 0.01949435-0.00254327j  0.20506553+0.00195378j  0.15067185+0.00162994j\n",
       "  -0.01949435+0.00254327j]\n",
       " [ 0.01949435+0.00254327j  0.15067185-0.00162994j  0.20506553-0.00195378j\n",
       "  -0.01949435-0.00254327j]\n",
       " [ 1.        +0.j          0.01885902-0.00249709j  0.01885902+0.00249709j\n",
       "   1.35518564+0.j        ]]"
      ]
     },
     "execution_count": 177,
     "metadata": {},
     "output_type": "execute_result"
    }
   ],
   "source": [
    "myU/myU[0, 3]"
   ]
  },
  {
   "cell_type": "code",
   "execution_count": 178,
   "metadata": {
    "ExecuteTime": {
     "end_time": "2019-02-01T05:52:23.618433Z",
     "start_time": "2019-02-01T05:52:23.339524Z"
    }
   },
   "outputs": [
    {
     "data": {
      "text/plain": [
       "(<Figure size 576x432 with 2 Axes>,\n",
       " <matplotlib.axes._subplots.AxesSubplot at 0x1a1690a6a0>)"
      ]
     },
     "execution_count": 178,
     "metadata": {},
     "output_type": "execute_result"
    },
    {
     "data": {
      "image/png": "[encoded data removed]",
      "text/plain": [
       "<Figure size 576x432 with 2 Axes>"
      ]
     },
     "metadata": {},
     "output_type": "display_data"
    }
   ],
   "source": [
    "hinton(myU)"
   ]
  },
  {
   "cell_type": "code",
   "execution_count": 179,
   "metadata": {
    "ExecuteTime": {
     "end_time": "2019-02-01T05:52:23.891682Z",
     "start_time": "2019-02-01T05:52:23.620604Z"
    }
   },
   "outputs": [
    {
     "data": {
      "text/plain": [
       "(<Figure size 576x432 with 2 Axes>,\n",
       " <matplotlib.axes._subplots.AxesSubplot at 0x1a16ac2828>)"
      ]
     },
     "execution_count": 179,
     "metadata": {},
     "output_type": "execute_result"
    },
    {
     "data": {
      "image/png": "[encoded data removed]",
      "text/plain": [
       "<Figure size 576x432 with 2 Axes>"
      ]
     },
     "metadata": {},
     "output_type": "display_data"
    }
   ],
   "source": [
    "hinton(L_full_maker(xi_opt, dt))"
   ]
  },
  {
   "cell_type": "markdown",
   "metadata": {},
   "source": [
    "### Try"
   ]
  },
  {
   "cell_type": "code",
   "execution_count": 180,
   "metadata": {
    "ExecuteTime": {
     "end_time": "2019-02-01T05:52:23.897635Z",
     "start_time": "2019-02-01T05:52:23.893663Z"
    }
   },
   "outputs": [],
   "source": [
    "total_time = 3*pi/omega_1\n",
    "epsilon = (0.1*2*pi)/(total_time)#10**(-6)\n",
    "max_iter = 500#10#10**4#1000#100#50#20\n",
    "time_steps = 500\n",
    "dt = total_time/time_steps"
   ]
  },
  {
   "cell_type": "code",
   "execution_count": 181,
   "metadata": {
    "ExecuteTime": {
     "end_time": "2019-02-01T06:05:17.858804Z",
     "start_time": "2019-02-01T05:52:23.900298Z"
    }
   },
   "outputs": [],
   "source": [
    "xi_opt = terminator(max_iter, time_steps, total_time, epsilon)\n",
    "#xi_opt"
   ]
  },
  {
   "cell_type": "code",
   "execution_count": 182,
   "metadata": {
    "ExecuteTime": {
     "end_time": "2019-02-01T06:05:18.703708Z",
     "start_time": "2019-02-01T06:05:17.861201Z"
    }
   },
   "outputs": [
    {
     "data": {
      "text/plain": [
       "-3.0877964784208713"
      ]
     },
     "execution_count": 182,
     "metadata": {},
     "output_type": "execute_result"
    }
   ],
   "source": [
    "F(xi_opt, dt)"
   ]
  },
  {
   "cell_type": "code",
   "execution_count": 183,
   "metadata": {
    "ExecuteTime": {
     "end_time": "2019-02-01T06:05:18.710547Z",
     "start_time": "2019-02-01T06:05:18.705711Z"
    }
   },
   "outputs": [
    {
     "data": {
      "text/plain": [
       "500"
      ]
     },
     "execution_count": 183,
     "metadata": {},
     "output_type": "execute_result"
    }
   ],
   "source": [
    "max_iter"
   ]
  },
  {
   "cell_type": "code",
   "execution_count": 184,
   "metadata": {
    "ExecuteTime": {
     "end_time": "2019-02-01T06:05:18.719262Z",
     "start_time": "2019-02-01T06:05:18.713098Z"
    }
   },
   "outputs": [
    {
     "data": {
      "text/latex": [
       "Quantum object: dims = [[2, 2], [2, 2]], shape = (4, 4), type = oper, isherm = True\\begin{equation*}\\left(\\begin{array}{*{11}c}0.0 & 0.0 & 0.0 & 1.0\\\\0.0 & 0.0 & 1.0 & 0.0\\\\0.0 & 1.0 & 0.0 & 0.0\\\\1.0 & 0.0 & 0.0 & 0.0\\\\\\end{array}\\right)\\end{equation*}"
      ],
      "text/plain": [
       "Quantum object: dims = [[2, 2], [2, 2]], shape = (4, 4), type = oper, isherm = True\n",
       "Qobj data =\n",
       "[[0. 0. 0. 1.]\n",
       " [0. 0. 1. 0.]\n",
       " [0. 1. 0. 0.]\n",
       " [1. 0. 0. 0.]]"
      ]
     },
     "execution_count": 184,
     "metadata": {},
     "output_type": "execute_result"
    }
   ],
   "source": [
    "T"
   ]
  },
  {
   "cell_type": "code",
   "execution_count": 185,
   "metadata": {
    "ExecuteTime": {
     "end_time": "2019-02-01T06:05:19.575813Z",
     "start_time": "2019-02-01T06:05:18.721833Z"
    }
   },
   "outputs": [],
   "source": [
    "myU = L_full_maker(xi_opt, dt)"
   ]
  },
  {
   "cell_type": "code",
   "execution_count": 186,
   "metadata": {
    "ExecuteTime": {
     "end_time": "2019-02-01T06:05:19.584218Z",
     "start_time": "2019-02-01T06:05:19.577835Z"
    }
   },
   "outputs": [
    {
     "data": {
      "text/latex": [
       "Quantum object: dims = [[2, 2], [2, 2]], shape = (4, 4), type = oper, isherm = False\\begin{equation*}\\left(\\begin{array}{*{11}c}0.748 & (0.038+6.254\\times10^{-04}j) & (0.038-6.254\\times10^{-04}j) & 1.0\\\\(-0.042-0.009j) & (-0.106+0.006j) & (-0.144-0.023j) & (0.042+0.009j)\\\\(-0.042+0.009j) & (-0.144+0.023j) & (-0.106-0.006j) & (0.042-0.009j)\\\\1.000 & (-0.038-6.254\\times10^{-04}j) & (-0.038+6.254\\times10^{-04}j) & 0.748\\\\\\end{array}\\right)\\end{equation*}"
      ],
      "text/plain": [
       "Quantum object: dims = [[2, 2], [2, 2]], shape = (4, 4), type = oper, isherm = False\n",
       "Qobj data =\n",
       "[[ 0.74756563+0.j          0.03771216+0.00062541j  0.03771216-0.00062541j\n",
       "   1.        +0.j        ]\n",
       " [-0.0419317 -0.00904231j -0.10582663+0.00565612j -0.14427396-0.02281918j\n",
       "   0.0419317 +0.00904231j]\n",
       " [-0.0419317 +0.00904231j -0.14427396+0.02281918j -0.10582663-0.00565612j\n",
       "   0.0419317 -0.00904231j]\n",
       " [ 1.        +0.j         -0.03771216-0.00062541j -0.03771216+0.00062541j\n",
       "   0.74756563+0.j        ]]"
      ]
     },
     "execution_count": 186,
     "metadata": {},
     "output_type": "execute_result"
    }
   ],
   "source": [
    "myU/myU[0, 3]"
   ]
  },
  {
   "cell_type": "code",
   "execution_count": 187,
   "metadata": {
    "ExecuteTime": {
     "end_time": "2019-02-01T06:05:19.845051Z",
     "start_time": "2019-02-01T06:05:19.586522Z"
    }
   },
   "outputs": [
    {
     "data": {
      "text/plain": [
       "(<Figure size 576x432 with 2 Axes>,\n",
       " <matplotlib.axes._subplots.AxesSubplot at 0x1a16c39240>)"
      ]
     },
     "execution_count": 187,
     "metadata": {},
     "output_type": "execute_result"
    },
    {
     "data": {
      "image/png": "[encoded data removed]",
      "text/plain": [
       "<Figure size 576x432 with 2 Axes>"
      ]
     },
     "metadata": {},
     "output_type": "display_data"
    }
   ],
   "source": [
    "hinton(myU)"
   ]
  },
  {
   "cell_type": "code",
   "execution_count": 188,
   "metadata": {
    "ExecuteTime": {
     "end_time": "2019-02-01T06:05:20.879689Z",
     "start_time": "2019-02-01T06:05:19.848199Z"
    }
   },
   "outputs": [
    {
     "data": {
      "text/plain": [
       "(<Figure size 576x432 with 2 Axes>,\n",
       " <matplotlib.axes._subplots.AxesSubplot at 0x1a16b10898>)"
      ]
     },
     "execution_count": 188,
     "metadata": {},
     "output_type": "execute_result"
    },
    {
     "data": {
      "image/png": "[encoded data removed]",
      "text/plain": [
       "<Figure size 576x432 with 2 Axes>"
      ]
     },
     "metadata": {},
     "output_type": "display_data"
    }
   ],
   "source": [
    "hinton(L_full_maker(xi_opt, dt))"
   ]
  },
  {
   "cell_type": "markdown",
   "metadata": {},
   "source": [
    "### Try"
   ]
  },
  {
   "cell_type": "code",
   "execution_count": 237,
   "metadata": {
    "ExecuteTime": {
     "end_time": "2019-02-03T05:33:11.138458Z",
     "start_time": "2019-02-03T05:33:11.133586Z"
    }
   },
   "outputs": [],
   "source": [
    "total_time = 10*pi/omega_1\n",
    "epsilon = (0.1*2*pi)/(total_time)#10**(-6)\n",
    "max_iter = 500#10#10**4#1000#100#50#20\n",
    "time_steps = 500\n",
    "dt = total_time/time_steps"
   ]
  },
  {
   "cell_type": "code",
   "execution_count": 238,
   "metadata": {
    "ExecuteTime": {
     "end_time": "2019-02-03T05:47:05.590273Z",
     "start_time": "2019-02-03T05:33:11.141234Z"
    }
   },
   "outputs": [],
   "source": [
    "xi_opt = terminator(max_iter, time_steps, total_time, epsilon)\n",
    "#xi_opt"
   ]
  },
  {
   "cell_type": "code",
   "execution_count": 239,
   "metadata": {
    "ExecuteTime": {
     "end_time": "2019-02-03T05:47:06.451580Z",
     "start_time": "2019-02-03T05:47:05.592881Z"
    }
   },
   "outputs": [
    {
     "data": {
      "text/plain": [
       "-2.999938972581541"
      ]
     },
     "execution_count": 239,
     "metadata": {},
     "output_type": "execute_result"
    }
   ],
   "source": [
    "F(xi_opt, dt)"
   ]
  },
  {
   "cell_type": "code",
   "execution_count": 240,
   "metadata": {
    "ExecuteTime": {
     "end_time": "2019-02-03T05:47:06.461895Z",
     "start_time": "2019-02-03T05:47:06.456565Z"
    }
   },
   "outputs": [
    {
     "data": {
      "text/plain": [
       "500"
      ]
     },
     "execution_count": 240,
     "metadata": {},
     "output_type": "execute_result"
    }
   ],
   "source": [
    "max_iter"
   ]
  },
  {
   "cell_type": "code",
   "execution_count": 241,
   "metadata": {
    "ExecuteTime": {
     "end_time": "2019-02-03T05:47:06.472230Z",
     "start_time": "2019-02-03T05:47:06.463551Z"
    }
   },
   "outputs": [
    {
     "data": {
      "text/latex": [
       "Quantum object: dims = [[2, 2], [2, 2]], shape = (4, 4), type = oper, isherm = True\\begin{equation*}\\left(\\begin{array}{*{11}c}0.0 & 0.0 & 0.0 & 1.0\\\\0.0 & 0.0 & 1.0 & 0.0\\\\0.0 & 1.0 & 0.0 & 0.0\\\\1.0 & 0.0 & 0.0 & 0.0\\\\\\end{array}\\right)\\end{equation*}"
      ],
      "text/plain": [
       "Quantum object: dims = [[2, 2], [2, 2]], shape = (4, 4), type = oper, isherm = True\n",
       "Qobj data =\n",
       "[[0. 0. 0. 1.]\n",
       " [0. 0. 1. 0.]\n",
       " [0. 1. 0. 0.]\n",
       " [1. 0. 0. 0.]]"
      ]
     },
     "execution_count": 241,
     "metadata": {},
     "output_type": "execute_result"
    }
   ],
   "source": [
    "T"
   ]
  },
  {
   "cell_type": "code",
   "execution_count": 242,
   "metadata": {
    "ExecuteTime": {
     "end_time": "2019-02-03T05:47:07.339639Z",
     "start_time": "2019-02-03T05:47:06.474427Z"
    }
   },
   "outputs": [],
   "source": [
    "myU = L_full_maker(xi_opt, dt)"
   ]
  },
  {
   "cell_type": "code",
   "execution_count": 243,
   "metadata": {
    "ExecuteTime": {
     "end_time": "2019-02-03T05:47:07.350161Z",
     "start_time": "2019-02-03T05:47:07.342098Z"
    }
   },
   "outputs": [
    {
     "data": {
      "text/latex": [
       "Quantum object: dims = [[2, 2], [2, 2]], shape = (4, 4), type = oper, isherm = False\\begin{equation*}\\left(\\begin{array}{*{11}c}1.003 & (7.745\\times10^{-04}-2.672\\times10^{-04}j) & (7.745\\times10^{-04}+2.672\\times10^{-04}j) & 1.0\\\\(-8.430\\times10^{-04}-4.087\\times10^{-05}j) & (0.002-1.270\\times10^{-07}j) & (0.002-2.971\\times10^{-05}j) & (8.430\\times10^{-04}+4.087\\times10^{-05}j)\\\\(-8.430\\times10^{-04}+4.087\\times10^{-05}j) & (0.002+2.971\\times10^{-05}j) & (0.002+1.270\\times10^{-07}j) & (8.430\\times10^{-04}-4.087\\times10^{-05}j)\\\\1.000 & (-7.745\\times10^{-04}+2.672\\times10^{-04}j) & (-7.745\\times10^{-04}-2.672\\times10^{-04}j) & 1.003\\\\\\end{array}\\right)\\end{equation*}"
      ],
      "text/plain": [
       "Quantum object: dims = [[2, 2], [2, 2]], shape = (4, 4), type = oper, isherm = False\n",
       "Qobj data =\n",
       "[[ 1.00326903e+00+0.00000000e+00j  7.74539561e-04-2.67234992e-04j\n",
       "   7.74539561e-04+2.67234992e-04j  1.00000000e+00+0.00000000e+00j]\n",
       " [-8.43001003e-04-4.08679734e-05j  1.66289687e-03-1.26951449e-07j\n",
       "   1.66848919e-03-2.97087713e-05j  8.43001003e-04+4.08679734e-05j]\n",
       " [-8.43001003e-04+4.08679734e-05j  1.66848919e-03+2.97087713e-05j\n",
       "   1.66289687e-03+1.26951449e-07j  8.43001003e-04-4.08679734e-05j]\n",
       " [ 1.00000000e+00+0.00000000e+00j -7.74539561e-04+2.67234992e-04j\n",
       "  -7.74539561e-04-2.67234992e-04j  1.00326903e+00+0.00000000e+00j]]"
      ]
     },
     "execution_count": 243,
     "metadata": {},
     "output_type": "execute_result"
    }
   ],
   "source": [
    "myU/myU[0, 3]"
   ]
  },
  {
   "cell_type": "code",
   "execution_count": 244,
   "metadata": {
    "ExecuteTime": {
     "end_time": "2019-02-03T05:47:07.782399Z",
     "start_time": "2019-02-03T05:47:07.352278Z"
    }
   },
   "outputs": [
    {
     "data": {
      "text/plain": [
       "(<Figure size 576x432 with 2 Axes>,\n",
       " <matplotlib.axes._subplots.AxesSubplot at 0x1a16af9080>)"
      ]
     },
     "execution_count": 244,
     "metadata": {},
     "output_type": "execute_result"
    },
    {
     "data": {
      "image/png": "[encoded data removed]",
      "text/plain": [
       "<Figure size 576x432 with 2 Axes>"
      ]
     },
     "metadata": {},
     "output_type": "display_data"
    }
   ],
   "source": [
    "hinton(myU)"
   ]
  },
  {
   "cell_type": "code",
   "execution_count": 245,
   "metadata": {
    "ExecuteTime": {
     "end_time": "2019-02-03T05:47:08.961270Z",
     "start_time": "2019-02-03T05:47:07.784595Z"
    }
   },
   "outputs": [
    {
     "data": {
      "text/plain": [
       "(<Figure size 576x432 with 2 Axes>,\n",
       " <matplotlib.axes._subplots.AxesSubplot at 0x1a16f690f0>)"
      ]
     },
     "execution_count": 245,
     "metadata": {},
     "output_type": "execute_result"
    },
    {
     "data": {
      "image/png": "[encoded data removed]",
      "text/plain": [
       "<Figure size 576x432 with 2 Axes>"
      ]
     },
     "metadata": {},
     "output_type": "display_data"
    }
   ],
   "source": [
    "hinton(L_full_maker(xi_opt, dt))"
   ]
  },
  {
   "cell_type": "code",
   "execution_count": null,
   "metadata": {},
   "outputs": [],
   "source": []
  },
  {
   "cell_type": "code",
   "execution_count": null,
   "metadata": {},
   "outputs": [],
   "source": []
  },
  {
   "cell_type": "code",
   "execution_count": null,
   "metadata": {},
   "outputs": [],
   "source": []
  }
 ],
 "metadata": {
  "kernelspec": {
   "display_name": "Python 3",
   "language": "python",
   "name": "python3"
  },
  "language_info": {
   "codemirror_mode": {
    "name": "ipython",
    "version": 3
   },
   "file_extension": ".py",
   "mimetype": "text/x-python",
   "name": "python",
   "nbconvert_exporter": "python",
   "pygments_lexer": "ipython3",
   "version": "3.6.8"
  },
  "toc": {
   "base_numbering": 1,
   "nav_menu": {},
   "number_sections": true,
   "sideBar": true,
   "skip_h1_title": false,
   "title_cell": "Table of Contents",
   "title_sidebar": "Contents",
   "toc_cell": false,
   "toc_position": {
    "height": "calc(100% - 180px)",
    "left": "10px",
    "top": "150px",
    "width": "288px"
   },
   "toc_section_display": true,
   "toc_window_display": true
  }
 },
 "nbformat": 4,
 "nbformat_minor": 2
}
