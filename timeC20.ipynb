{
 "cells": [
  {
   "cell_type": "markdown",
   "metadata": {},
   "source": [
    "# Imports"
   ]
  },
  {
   "cell_type": "markdown",
   "metadata": {},
   "source": [
    "## Qutip imports 1"
   ]
  },
  {
   "cell_type": "code",
   "execution_count": 1,
   "metadata": {
    "ExecuteTime": {
     "end_time": "2019-01-22T13:37:46.074347Z",
     "start_time": "2019-01-22T13:37:44.795185Z"
    }
   },
   "outputs": [],
   "source": [
    "from qutip.operators import sigmax, sigmay, sigmaz, identity\n",
    "# position, momentum, num, create, destroy, commutator, qeye \n",
    "from qutip.tensor import tensor\n",
    "from qutip.qip.gates import swap, rx, ry, rz\n",
    "from qutip.qobj import Qobj\n",
    "from qutip.visualization import hinton\n",
    "from qutip.visualization import matrix_histogram_complex, matrix_histogram\n",
    "from qutip.random_objects import rand_herm, rand_unitary, rand_dm"
   ]
  },
  {
   "cell_type": "markdown",
   "metadata": {},
   "source": [
    "\n",
    "\n",
    "## Numpy imports "
   ]
  },
  {
   "cell_type": "code",
   "execution_count": 2,
   "metadata": {
    "ExecuteTime": {
     "end_time": "2019-01-22T13:37:47.764209Z",
     "start_time": "2019-01-22T13:37:47.760790Z"
    }
   },
   "outputs": [],
   "source": [
    "from numpy import sin, cos, tan, real, imag,  log, conj\n",
    "from numpy import array, append, linspace, arange\n",
    "from numpy import add, sqrt, abs, dot\n",
    "from numpy.random import random, random_sample, random\n",
    "from numpy import concatenate, trace\n",
    "from numpy import ones, zeros, ones_like, zeros_like\n",
    "from numpy import amax, amin, nanmax, nanmin\n",
    "# from numpy import pi"
   ]
  },
  {
   "cell_type": "markdown",
   "metadata": {},
   "source": [
    "\n",
    "\n",
    "\n",
    "## Scipy imports"
   ]
  },
  {
   "cell_type": "code",
   "execution_count": 3,
   "metadata": {
    "ExecuteTime": {
     "end_time": "2019-01-22T13:37:48.037524Z",
     "start_time": "2019-01-22T13:37:48.034212Z"
    }
   },
   "outputs": [],
   "source": [
    "from scipy.integrate import ode, odeint, complex_ode\n",
    "from scipy.optimize import minimize\n",
    "from scipy.linalg import eigh, inv, norm, expm\n",
    "# from scipy.linalg import \n",
    "# from scipy import"
   ]
  },
  {
   "cell_type": "markdown",
   "metadata": {},
   "source": [
    "## Matplotlib imports"
   ]
  },
  {
   "cell_type": "code",
   "execution_count": 4,
   "metadata": {
    "ExecuteTime": {
     "end_time": "2019-01-22T13:37:48.341711Z",
     "start_time": "2019-01-22T13:37:48.336768Z"
    }
   },
   "outputs": [],
   "source": [
    "from matplotlib.pyplot import plot, figure, show, savefig, axes\n",
    "from matplotlib.pyplot import xlabel, ylabel, title, legend\n",
    "from matplotlib import rcParams\n",
    "from matplotlib.pyplot import style \n",
    "from matplotlib.pyplot import xlim, ylim, axis \n",
    "# beware not same as axes\n",
    "from matplotlib.pyplot import subplot, subplots, text\n",
    "from matplotlib.pyplot import GridSpec\n",
    "\n",
    "\n",
    "\n",
    "pgf_with_rc_fonts = {\"pgf.texsystem\": \"pdflatex\"}\n",
    "rcParams.update(pgf_with_rc_fonts)\n",
    "style.use('seaborn-whitegrid')\n",
    "\n"
   ]
  },
  {
   "cell_type": "markdown",
   "metadata": {},
   "source": [
    "## Math imports"
   ]
  },
  {
   "cell_type": "code",
   "execution_count": 5,
   "metadata": {
    "ExecuteTime": {
     "end_time": "2019-01-22T13:37:48.776873Z",
     "start_time": "2019-01-22T13:37:48.773867Z"
    }
   },
   "outputs": [],
   "source": [
    "from math import pi\n",
    "from math import exp"
   ]
  },
  {
   "cell_type": "markdown",
   "metadata": {},
   "source": [
    "## Cmath imports"
   ]
  },
  {
   "cell_type": "code",
   "execution_count": null,
   "metadata": {},
   "outputs": [],
   "source": []
  },
  {
   "cell_type": "markdown",
   "metadata": {},
   "source": [
    "## Date and datetime imports"
   ]
  },
  {
   "cell_type": "code",
   "execution_count": 6,
   "metadata": {
    "ExecuteTime": {
     "end_time": "2019-01-22T13:37:49.370359Z",
     "start_time": "2019-01-22T13:37:49.367281Z"
    }
   },
   "outputs": [],
   "source": [
    "from datetime import date\n",
    "from datetime import datetime# now\n"
   ]
  },
  {
   "cell_type": "markdown",
   "metadata": {},
   "source": [
    "## Os imports"
   ]
  },
  {
   "cell_type": "code",
   "execution_count": 7,
   "metadata": {
    "ExecuteTime": {
     "end_time": "2019-01-22T13:37:49.558279Z",
     "start_time": "2019-01-22T13:37:49.554611Z"
    }
   },
   "outputs": [],
   "source": [
    "from os import getcwd, mkdir, chdir\n",
    "from os.path import abspath, join \n"
   ]
  },
  {
   "cell_type": "markdown",
   "metadata": {},
   "source": [
    "## Sympy imports"
   ]
  },
  {
   "cell_type": "code",
   "execution_count": 8,
   "metadata": {
    "ExecuteTime": {
     "end_time": "2019-01-22T13:37:50.773306Z",
     "start_time": "2019-01-22T13:37:50.184758Z"
    }
   },
   "outputs": [],
   "source": [
    "from sympy import Function, dsolve, Eq, Derivative, symbols\n",
    "# x, y, z, t = symbols('x y z t')\n",
    "# k, m, n = symbols('k m n', integer=True)\n",
    "# f, g, h = symbols('f g h', cls=Function)"
   ]
  },
  {
   "cell_type": "markdown",
   "metadata": {},
   "source": [
    "## Miscellaneous imports"
   ]
  },
  {
   "cell_type": "code",
   "execution_count": null,
   "metadata": {},
   "outputs": [],
   "source": []
  },
  {
   "cell_type": "markdown",
   "metadata": {},
   "source": [
    "## Extra useful functions"
   ]
  },
  {
   "cell_type": "code",
   "execution_count": 9,
   "metadata": {
    "ExecuteTime": {
     "end_time": "2019-01-22T13:37:51.150673Z",
     "start_time": "2019-01-22T13:37:51.145812Z"
    }
   },
   "outputs": [],
   "source": [
    "def rint(x):\n",
    "    print(\"x = \", x)\n",
    "    return None"
   ]
  },
  {
   "cell_type": "markdown",
   "metadata": {},
   "source": [
    "# Building parts"
   ]
  },
  {
   "cell_type": "code",
   "execution_count": 10,
   "metadata": {
    "ExecuteTime": {
     "end_time": "2019-01-22T13:37:51.781578Z",
     "start_time": "2019-01-22T13:37:51.715411Z"
    }
   },
   "outputs": [
    {
     "ename": "NameError",
     "evalue": "name 'omega_1' is not defined",
     "output_type": "error",
     "traceback": [
      "\u001b[0;31m---------------------------------------------------------------------------\u001b[0m",
      "\u001b[0;31mNameError\u001b[0m                                 Traceback (most recent call last)",
      "\u001b[0;32m<ipython-input-10-3e38f81848f0>\u001b[0m in \u001b[0;36m<module>\u001b[0;34m()\u001b[0m\n\u001b[0;32m----> 1\u001b[0;31m \u001b[0;32mdel\u001b[0m \u001b[0momega_1\u001b[0m\u001b[0;34m,\u001b[0m \u001b[0mtotal_time\u001b[0m\u001b[0;34m,\u001b[0m \u001b[0mepsilon\u001b[0m\u001b[0;34m,\u001b[0m\u001b[0;34m\u001b[0m\u001b[0;34m\u001b[0m\u001b[0m\n\u001b[0m\u001b[1;32m      2\u001b[0m \u001b[0momega_1\u001b[0m \u001b[0;34m=\u001b[0m \u001b[0;36m0.5\u001b[0m\u001b[0;34m\u001b[0m\u001b[0;34m\u001b[0m\u001b[0m\n\u001b[1;32m      3\u001b[0m \u001b[0mtotal_time\u001b[0m \u001b[0;34m=\u001b[0m \u001b[0;36m2\u001b[0m\u001b[0;34m*\u001b[0m\u001b[0mpi\u001b[0m\u001b[0;34m/\u001b[0m\u001b[0momega_1\u001b[0m\u001b[0;34m\u001b[0m\u001b[0;34m\u001b[0m\u001b[0m\n\u001b[1;32m      4\u001b[0m \u001b[0mepsilon\u001b[0m \u001b[0;34m=\u001b[0m \u001b[0;36m10\u001b[0m\u001b[0;34m**\u001b[0m\u001b[0;34m(\u001b[0m\u001b[0;34m-\u001b[0m\u001b[0;36m6\u001b[0m\u001b[0;34m)\u001b[0m\u001b[0;34m\u001b[0m\u001b[0;34m\u001b[0m\u001b[0m\n\u001b[1;32m      5\u001b[0m \u001b[0mmax_iter\u001b[0m \u001b[0;34m=\u001b[0m \u001b[0;36m100\u001b[0m\u001b[0;34m\u001b[0m\u001b[0;34m\u001b[0m\u001b[0m\n",
      "\u001b[0;31mNameError\u001b[0m: name 'omega_1' is not defined"
     ]
    }
   ],
   "source": [
    " del omega_1, total_time, epsilon, \n",
    "omega_1 = 0.5\n",
    "total_time = 2*pi/omega_1\n",
    "epsilon = 10**(-6)\n",
    "max_iter = 100\n",
    "time_steps = 200\n",
    "dt = total_time/time_steps"
   ]
  },
  {
   "cell_type": "code",
   "execution_count": 11,
   "metadata": {
    "ExecuteTime": {
     "end_time": "2019-01-22T13:37:52.012267Z",
     "start_time": "2019-01-22T13:37:51.999928Z"
    }
   },
   "outputs": [
    {
     "ename": "NameError",
     "evalue": "name 'Lin' is not defined",
     "output_type": "error",
     "traceback": [
      "\u001b[0;31m---------------------------------------------------------------------------\u001b[0m",
      "\u001b[0;31mNameError\u001b[0m                                 Traceback (most recent call last)",
      "\u001b[0;32m<ipython-input-11-e6d48350e5b4>\u001b[0m in \u001b[0;36m<module>\u001b[0;34m()\u001b[0m\n\u001b[0;32m----> 1\u001b[0;31m \u001b[0;32mdel\u001b[0m \u001b[0mLin\u001b[0m\u001b[0;34m,\u001b[0m \u001b[0mTi\u001b[0m\u001b[0;34m\u001b[0m\u001b[0;34m\u001b[0m\u001b[0m\n\u001b[0m",
      "\u001b[0;31mNameError\u001b[0m: name 'Lin' is not defined"
     ]
    }
   ],
   "source": [
    "del Lin, Ti"
   ]
  },
  {
   "cell_type": "code",
   "execution_count": 12,
   "metadata": {
    "ExecuteTime": {
     "end_time": "2019-01-22T13:37:52.289099Z",
     "start_time": "2019-01-22T13:37:52.275282Z"
    }
   },
   "outputs": [
    {
     "ename": "NameError",
     "evalue": "name 'Lin' is not defined",
     "output_type": "error",
     "traceback": [
      "\u001b[0;31m---------------------------------------------------------------------------\u001b[0m",
      "\u001b[0;31mNameError\u001b[0m                                 Traceback (most recent call last)",
      "\u001b[0;32m<ipython-input-12-3ce5abe2615e>\u001b[0m in \u001b[0;36m<module>\u001b[0;34m()\u001b[0m\n\u001b[0;32m----> 1\u001b[0;31m \u001b[0mLin\u001b[0m\u001b[0;34m\u001b[0m\u001b[0;34m\u001b[0m\u001b[0m\n\u001b[0m",
      "\u001b[0;31mNameError\u001b[0m: name 'Lin' is not defined"
     ]
    }
   ],
   "source": [
    "Lin"
   ]
  },
  {
   "cell_type": "markdown",
   "metadata": {},
   "source": [
    "## level 1"
   ]
  },
  {
   "cell_type": "code",
   "execution_count": 13,
   "metadata": {
    "ExecuteTime": {
     "end_time": "2019-01-22T13:37:52.977987Z",
     "start_time": "2019-01-22T13:37:52.975010Z"
    }
   },
   "outputs": [],
   "source": [
    "def H1(omega_1):\n",
    "    r\"\"\"Brief description of the function\"\"\"\n",
    "    H1 = omega_1*sigmaz()\n",
    "    return H1\n"
   ]
  },
  {
   "cell_type": "code",
   "execution_count": 14,
   "metadata": {
    "ExecuteTime": {
     "end_time": "2019-01-22T13:37:53.285447Z",
     "start_time": "2019-01-22T13:37:53.278945Z"
    }
   },
   "outputs": [],
   "source": [
    "def H2():\n",
    "    r\"\"\"Brief description of the function\"\"\"\n",
    "    H2 = sigmay()\n",
    "    return H2"
   ]
  },
  {
   "cell_type": "code",
   "execution_count": 15,
   "metadata": {
    "ExecuteTime": {
     "end_time": "2019-01-22T13:37:53.598280Z",
     "start_time": "2019-01-22T13:37:53.587366Z"
    }
   },
   "outputs": [
    {
     "ename": "NameError",
     "evalue": "name 'I' is not defined",
     "output_type": "error",
     "traceback": [
      "\u001b[0;31m---------------------------------------------------------------------------\u001b[0m",
      "\u001b[0;31mNameError\u001b[0m                                 Traceback (most recent call last)",
      "\u001b[0;32m<ipython-input-15-7d62117bf249>\u001b[0m in \u001b[0;36m<module>\u001b[0;34m()\u001b[0m\n\u001b[1;32m      1\u001b[0m \u001b[0;31m#I = identity(2)\u001b[0m\u001b[0;34m\u001b[0m\u001b[0;34m\u001b[0m\u001b[0;34m\u001b[0m\u001b[0m\n\u001b[0;32m----> 2\u001b[0;31m \u001b[0;32mdel\u001b[0m \u001b[0mI\u001b[0m\u001b[0;34m\u001b[0m\u001b[0;34m\u001b[0m\u001b[0m\n\u001b[0m",
      "\u001b[0;31mNameError\u001b[0m: name 'I' is not defined"
     ]
    }
   ],
   "source": [
    "#I = identity(2)\n",
    "del I"
   ]
  },
  {
   "cell_type": "code",
   "execution_count": 16,
   "metadata": {
    "ExecuteTime": {
     "end_time": "2019-01-22T13:37:54.110076Z",
     "start_time": "2019-01-22T13:37:54.107172Z"
    }
   },
   "outputs": [],
   "source": [
    "def T_maker(Ti):\n",
    "    r\"\"\"Brief description of the function\"\"\"\n",
    "    T = tensor(Ti.trans(), Ti)\n",
    "    return T"
   ]
  },
  {
   "cell_type": "code",
   "execution_count": 17,
   "metadata": {
    "ExecuteTime": {
     "end_time": "2019-01-22T13:37:54.441502Z",
     "start_time": "2019-01-22T13:37:54.426018Z"
    }
   },
   "outputs": [
    {
     "data": {
      "text/latex": [
       "Quantum object: dims = [[2, 2, 2], [2, 2, 2]], shape = (8, 8), type = oper, isherm = True\\begin{equation*}\\left(\\begin{array}{*{11}c}0.0 & 0.0 & 0.0 & 1.0 & 0.0 & 0.0 & 0.0 & 0.0\\\\0.0 & 0.0 & 1.0 & 0.0 & 0.0 & 0.0 & 0.0 & 0.0\\\\0.0 & 1.0 & 0.0 & 0.0 & 0.0 & 0.0 & 0.0 & 0.0\\\\1.0 & 0.0 & 0.0 & 0.0 & 0.0 & 0.0 & 0.0 & 0.0\\\\0.0 & 0.0 & 0.0 & 0.0 & 0.0 & 0.0 & 0.0 & 1.0\\\\0.0 & 0.0 & 0.0 & 0.0 & 0.0 & 0.0 & 1.0 & 0.0\\\\0.0 & 0.0 & 0.0 & 0.0 & 0.0 & 1.0 & 0.0 & 0.0\\\\0.0 & 0.0 & 0.0 & 0.0 & 1.0 & 0.0 & 0.0 & 0.0\\\\\\end{array}\\right)\\end{equation*}"
      ],
      "text/plain": [
       "Quantum object: dims = [[2, 2, 2], [2, 2, 2]], shape = (8, 8), type = oper, isherm = True\n",
       "Qobj data =\n",
       "[[0. 0. 0. 1. 0. 0. 0. 0.]\n",
       " [0. 0. 1. 0. 0. 0. 0. 0.]\n",
       " [0. 1. 0. 0. 0. 0. 0. 0.]\n",
       " [1. 0. 0. 0. 0. 0. 0. 0.]\n",
       " [0. 0. 0. 0. 0. 0. 0. 1.]\n",
       " [0. 0. 0. 0. 0. 0. 1. 0.]\n",
       " [0. 0. 0. 0. 0. 1. 0. 0.]\n",
       " [0. 0. 0. 0. 1. 0. 0. 0.]]"
      ]
     },
     "execution_count": 17,
     "metadata": {},
     "output_type": "execute_result"
    }
   ],
   "source": [
    " tensor(identity(2), T_maker(sigmax()))"
   ]
  },
  {
   "cell_type": "markdown",
   "metadata": {},
   "source": [
    "## level 2"
   ]
  },
  {
   "cell_type": "code",
   "execution_count": 18,
   "metadata": {
    "ExecuteTime": {
     "end_time": "2019-01-22T13:37:55.244223Z",
     "start_time": "2019-01-22T13:37:55.239372Z"
    }
   },
   "outputs": [],
   "source": [
    "def Hamil(omega_1, xi):\n",
    "    H = H1(omega_1) + xi*H2()\n",
    "    return H"
   ]
  },
  {
   "cell_type": "code",
   "execution_count": 19,
   "metadata": {
    "ExecuteTime": {
     "end_time": "2019-01-22T13:37:55.723262Z",
     "start_time": "2019-01-22T13:37:55.712113Z"
    }
   },
   "outputs": [
    {
     "data": {
      "text/latex": [
       "Quantum object: dims = [[2], [2]], shape = (2, 2), type = oper, isherm = True\\begin{equation*}\\left(\\begin{array}{*{11}c}2.0 & -0.500j\\\\0.500j & -2.0\\\\\\end{array}\\right)\\end{equation*}"
      ],
      "text/plain": [
       "Quantum object: dims = [[2], [2]], shape = (2, 2), type = oper, isherm = True\n",
       "Qobj data =\n",
       "[[ 2.+0.j   0.-0.5j]\n",
       " [ 0.+0.5j -2.+0.j ]]"
      ]
     },
     "execution_count": 19,
     "metadata": {},
     "output_type": "execute_result"
    }
   ],
   "source": [
    "Hamil(2, 0.5 )"
   ]
  },
  {
   "cell_type": "code",
   "execution_count": 20,
   "metadata": {
    "ExecuteTime": {
     "end_time": "2019-01-22T13:37:56.204974Z",
     "start_time": "2019-01-22T13:37:56.196124Z"
    }
   },
   "outputs": [],
   "source": [
    "def leftover(Lin):\n",
    "    r\"\"\"Brief description of the function\"\"\"\n",
    "    d = Lin.shape[0]\n",
    "    I = identity(d)\n",
    "    term1 = tensor(Lin.trans(), Lin)\n",
    "    term2 = tensor(I, ((Lin.dag())*(Lin)))\n",
    "    term3 = tensor(((Lin.trans())*(Lin.conj())), I)\n",
    "    leftover = 1j*(0.1)*(term1 - 0.5*(term2 + term3))\n",
    "    return leftover\n",
    "\n",
    "\n",
    "def A(omega_1, xi, Lin):\n",
    "    H = Hamil(omega_1, xi)\n",
    "    d = Lin.shape[0]\n",
    "    I = identity(d)\n",
    "    A = tensor(I, H) - tensor((H.conj()), I) + leftover(Lin)\n",
    "    return A"
   ]
  },
  {
   "cell_type": "code",
   "execution_count": 21,
   "metadata": {
    "ExecuteTime": {
     "end_time": "2019-01-22T13:37:56.591204Z",
     "start_time": "2019-01-22T13:37:56.576873Z"
    }
   },
   "outputs": [
    {
     "data": {
      "text/latex": [
       "Quantum object: dims = [[2, 2], [2, 2]], shape = (4, 4), type = oper, isherm = False\\begin{equation*}\\left(\\begin{array}{*{11}c}0.0 & -0.500j & -0.500j & 0.0\\\\0.500j & (-4.0-0.200j) & 0.0 & -0.500j\\\\0.500j & 0.0 & (4.0-0.200j) & -0.500j\\\\0.0 & 0.500j & 0.500j & 0.0\\\\\\end{array}\\right)\\end{equation*}"
      ],
      "text/plain": [
       "Quantum object: dims = [[2, 2], [2, 2]], shape = (4, 4), type = oper, isherm = False\n",
       "Qobj data =\n",
       "[[ 0.+0.j   0.-0.5j  0.-0.5j  0.+0.j ]\n",
       " [ 0.+0.5j -4.-0.2j  0.+0.j   0.-0.5j]\n",
       " [ 0.+0.5j  0.+0.j   4.-0.2j  0.-0.5j]\n",
       " [ 0.+0.j   0.+0.5j  0.+0.5j  0.+0.j ]]"
      ]
     },
     "execution_count": 21,
     "metadata": {},
     "output_type": "execute_result"
    }
   ],
   "source": [
    "A(2, 0.5, sigmaz())"
   ]
  },
  {
   "cell_type": "code",
   "execution_count": 22,
   "metadata": {
    "ExecuteTime": {
     "end_time": "2019-01-22T13:37:56.940986Z",
     "start_time": "2019-01-22T13:37:56.925352Z"
    }
   },
   "outputs": [
    {
     "data": {
      "text/latex": [
       "Quantum object: dims = [[2, 2], [2, 2]], shape = (4, 4), type = oper, isherm = False\\begin{equation*}\\left(\\begin{array}{*{11}c}0.0 & -0.500j & -0.500j & 0.0\\\\0.500j & -0.200j & 0.0 & -0.500j\\\\0.500j & 0.0 & -0.200j & -0.500j\\\\0.0 & 0.500j & 0.500j & 0.0\\\\\\end{array}\\right)\\end{equation*}"
      ],
      "text/plain": [
       "Quantum object: dims = [[2, 2], [2, 2]], shape = (4, 4), type = oper, isherm = False\n",
       "Qobj data =\n",
       "[[0.+0.j  0.-0.5j 0.-0.5j 0.+0.j ]\n",
       " [0.+0.5j 0.-0.2j 0.+0.j  0.-0.5j]\n",
       " [0.+0.5j 0.+0.j  0.-0.2j 0.-0.5j]\n",
       " [0.+0.j  0.+0.5j 0.+0.5j 0.+0.j ]]"
      ]
     },
     "execution_count": 22,
     "metadata": {},
     "output_type": "execute_result"
    }
   ],
   "source": [
    "A(0, 0.5, sigmaz())"
   ]
  },
  {
   "cell_type": "code",
   "execution_count": 23,
   "metadata": {
    "ExecuteTime": {
     "end_time": "2019-01-22T13:37:57.264018Z",
     "start_time": "2019-01-22T13:37:57.253762Z"
    }
   },
   "outputs": [
    {
     "ename": "NameError",
     "evalue": "name 'I' is not defined",
     "output_type": "error",
     "traceback": [
      "\u001b[0;31m---------------------------------------------------------------------------\u001b[0m",
      "\u001b[0;31mNameError\u001b[0m                                 Traceback (most recent call last)",
      "\u001b[0;32m<ipython-input-23-bde71cc9b50e>\u001b[0m in \u001b[0;36m<module>\u001b[0;34m()\u001b[0m\n\u001b[0;32m----> 1\u001b[0;31m \u001b[0mI\u001b[0m\u001b[0;34m\u001b[0m\u001b[0;34m\u001b[0m\u001b[0m\n\u001b[0m",
      "\u001b[0;31mNameError\u001b[0m: name 'I' is not defined"
     ]
    }
   ],
   "source": [
    "I"
   ]
  },
  {
   "cell_type": "code",
   "execution_count": 24,
   "metadata": {
    "ExecuteTime": {
     "end_time": "2019-01-22T13:37:57.563333Z",
     "start_time": "2019-01-22T13:37:57.559175Z"
    },
    "code_folding": []
   },
   "outputs": [],
   "source": [
    "#term1 = tensor(Lin.trans(), Lin)\n",
    "#term2 = tensor(I, ((Lin.dag())*(Lin)))\n",
    "#term3 = tensor(((Lin.trans())*(Lin.conj())), I)\n",
    "#leftover = 1j*(0.1)*(term1 - 0.5*(term2 + term2))\n",
    "def x_k(omega_1, Lin ):\n",
    "    r\"\"\"Brief description of the function\"\"\"\n",
    "    #H11 = H1(omega_1)\n",
    "    #H2_i = H2()\n",
    "    d = Lin.shape[0]\n",
    "    I = identity(d)\n",
    "    x_k = tensor(I, H2()) - tensor((H2().conj()), I) #+ leftover(Lin)\n",
    "    return x_k\n"
   ]
  },
  {
   "cell_type": "code",
   "execution_count": 25,
   "metadata": {
    "ExecuteTime": {
     "end_time": "2019-01-22T13:37:58.145220Z",
     "start_time": "2019-01-22T13:37:58.135129Z"
    }
   },
   "outputs": [
    {
     "ename": "NameError",
     "evalue": "name 'I' is not defined",
     "output_type": "error",
     "traceback": [
      "\u001b[0;31m---------------------------------------------------------------------------\u001b[0m",
      "\u001b[0;31mNameError\u001b[0m                                 Traceback (most recent call last)",
      "\u001b[0;32m<ipython-input-25-bde71cc9b50e>\u001b[0m in \u001b[0;36m<module>\u001b[0;34m()\u001b[0m\n\u001b[0;32m----> 1\u001b[0;31m \u001b[0mI\u001b[0m\u001b[0;34m\u001b[0m\u001b[0;34m\u001b[0m\u001b[0m\n\u001b[0m",
      "\u001b[0;31mNameError\u001b[0m: name 'I' is not defined"
     ]
    }
   ],
   "source": [
    "I"
   ]
  },
  {
   "cell_type": "code",
   "execution_count": 26,
   "metadata": {
    "ExecuteTime": {
     "end_time": "2019-01-22T13:37:58.626051Z",
     "start_time": "2019-01-22T13:37:58.612066Z"
    }
   },
   "outputs": [
    {
     "data": {
      "text/latex": [
       "Quantum object: dims = [[2, 2], [2, 2]], shape = (4, 4), type = oper, isherm = True\\begin{equation*}\\left(\\begin{array}{*{11}c}0.0 & -1.0j & -1.0j & 0.0\\\\1.0j & 0.0 & 0.0 & -1.0j\\\\1.0j & 0.0 & 0.0 & -1.0j\\\\0.0 & 1.0j & 1.0j & 0.0\\\\\\end{array}\\right)\\end{equation*}"
      ],
      "text/plain": [
       "Quantum object: dims = [[2, 2], [2, 2]], shape = (4, 4), type = oper, isherm = True\n",
       "Qobj data =\n",
       "[[0.+0.j 0.-1.j 0.-1.j 0.+0.j]\n",
       " [0.+1.j 0.+0.j 0.+0.j 0.-1.j]\n",
       " [0.+1.j 0.+0.j 0.+0.j 0.-1.j]\n",
       " [0.+0.j 0.+1.j 0.+1.j 0.+0.j]]"
      ]
     },
     "execution_count": 26,
     "metadata": {},
     "output_type": "execute_result"
    }
   ],
   "source": [
    "x_k(0.5, sigmaz())"
   ]
  },
  {
   "cell_type": "code",
   "execution_count": 27,
   "metadata": {
    "ExecuteTime": {
     "end_time": "2019-01-22T13:37:59.156774Z",
     "start_time": "2019-01-22T13:37:59.149522Z"
    }
   },
   "outputs": [],
   "source": [
    "def L(omega_1, xi, Lin, dt):\n",
    "    #H = H1\n",
    "    L = (-1j*A(omega_1, xi, Lin)*dt).expm()\n",
    "    return L"
   ]
  },
  {
   "cell_type": "code",
   "execution_count": 28,
   "metadata": {
    "ExecuteTime": {
     "end_time": "2019-01-22T13:38:00.207777Z",
     "start_time": "2019-01-22T13:37:59.995594Z"
    }
   },
   "outputs": [
    {
     "data": {
      "text/latex": [
       "Quantum object: dims = [[2, 2], [2, 2]], shape = (4, 4), type = oper, isherm = False\\begin{equation*}\\left(\\begin{array}{*{11}c}1.000 & (-0.002-9.999\\times10^{-07}j) & (-0.002+9.999\\times10^{-07}j) & 4.000\\times10^{-06}\\\\(0.002+9.999\\times10^{-07}j) & (1.000+9.998\\times10^{-04}j) & -3.999\\times10^{-06} & (-0.002-9.999\\times10^{-07}j)\\\\(0.002-9.999\\times10^{-07}j) & -3.999\\times10^{-06} & (1.000-9.998\\times10^{-04}j) & (-0.002+9.999\\times10^{-07}j)\\\\4.000\\times10^{-06} & (0.002+9.999\\times10^{-07}j) & (0.002-9.999\\times10^{-07}j) & 1.000\\\\\\end{array}\\right)\\end{equation*}"
      ],
      "text/plain": [
       "Quantum object: dims = [[2, 2], [2, 2]], shape = (4, 4), type = oper, isherm = False\n",
       "Qobj data =\n",
       "[[ 9.99996000e-01+0.00000000e+00j -1.99979435e-03-9.99865260e-07j\n",
       "  -1.99979435e-03+9.99865260e-07j  3.99972768e-06+0.00000000e+00j]\n",
       " [ 1.99979435e-03+9.99865260e-07j  9.99795521e-01+9.99797187e-04j\n",
       "  -3.99946104e-06+0.00000000e+00j -1.99979435e-03-9.99865260e-07j]\n",
       " [ 1.99979435e-03-9.99865260e-07j -3.99946104e-06+0.00000000e+00j\n",
       "   9.99795521e-01-9.99797187e-04j -1.99979435e-03+9.99865260e-07j]\n",
       " [ 3.99972768e-06+0.00000000e+00j  1.99979435e-03+9.99865260e-07j\n",
       "   1.99979435e-03-9.99865260e-07j  9.99996000e-01+0.00000000e+00j]]"
      ]
     },
     "execution_count": 28,
     "metadata": {},
     "output_type": "execute_result"
    }
   ],
   "source": [
    "L(0.5, 2, sigmaz(), 0.001)"
   ]
  },
  {
   "cell_type": "code",
   "execution_count": 29,
   "metadata": {
    "ExecuteTime": {
     "end_time": "2019-01-22T13:38:01.869448Z",
     "start_time": "2019-01-22T13:38:01.863554Z"
    }
   },
   "outputs": [],
   "source": [
    "def L_I(Ti):\n",
    "    r\"\"\"Brief description of the function\"\"\"\n",
    "    d = Ti.shape[0]\n",
    "    I = identity(d)\n",
    "    L_I = tensor(I, I)\n",
    "    return L_I"
   ]
  },
  {
   "cell_type": "code",
   "execution_count": 30,
   "metadata": {
    "ExecuteTime": {
     "end_time": "2019-01-22T13:38:02.448603Z",
     "start_time": "2019-01-22T13:38:02.436567Z"
    }
   },
   "outputs": [
    {
     "data": {
      "text/latex": [
       "Quantum object: dims = [[2, 2], [2, 2]], shape = (4, 4), type = oper, isherm = True\\begin{equation*}\\left(\\begin{array}{*{11}c}1.0 & 0.0 & 0.0 & 0.0\\\\0.0 & 1.0 & 0.0 & 0.0\\\\0.0 & 0.0 & 1.0 & 0.0\\\\0.0 & 0.0 & 0.0 & 1.0\\\\\\end{array}\\right)\\end{equation*}"
      ],
      "text/plain": [
       "Quantum object: dims = [[2, 2], [2, 2]], shape = (4, 4), type = oper, isherm = True\n",
       "Qobj data =\n",
       "[[1. 0. 0. 0.]\n",
       " [0. 1. 0. 0.]\n",
       " [0. 0. 1. 0.]\n",
       " [0. 0. 0. 1.]]"
      ]
     },
     "execution_count": 30,
     "metadata": {},
     "output_type": "execute_result"
    }
   ],
   "source": [
    "L_I(sigmay())"
   ]
  },
  {
   "cell_type": "markdown",
   "metadata": {},
   "source": [
    "## parameters"
   ]
  },
  {
   "cell_type": "markdown",
   "metadata": {},
   "source": [
    "### sub sub topic 1"
   ]
  },
  {
   "cell_type": "code",
   "execution_count": 31,
   "metadata": {
    "ExecuteTime": {
     "end_time": "2019-01-22T13:38:03.690332Z",
     "start_time": "2019-01-22T13:38:03.687167Z"
    }
   },
   "outputs": [],
   "source": [
    "# building the function to optimize (optimizee)\n",
    "def L_vec(omega_1, xi_vec, Lin, dt):\n",
    "    #xi_vec_size = 2#xi_vec.size # finding the size of xi\n",
    "    L_vec = [L(omega_1, xi, Lin, dt) for xi in xi_vec] \n",
    "    # constructing L #[L(1.0), L(2.0)]\n",
    "    \n",
    "    return L_vec\n"
   ]
  },
  {
   "cell_type": "code",
   "execution_count": 32,
   "metadata": {
    "ExecuteTime": {
     "end_time": "2019-01-22T13:38:04.320263Z",
     "start_time": "2019-01-22T13:38:04.316621Z"
    }
   },
   "outputs": [],
   "source": [
    "def fidelity_calc(A, B):\n",
    "    r\"\"\"Brief description of the function\"\"\"\n",
    "    d1 = A.shape[0] # Assuming no rectangular shaped matrices\n",
    "    d2 = B.shape[0] # Assuming no rectangular shaped matrices\n",
    "    d = d1*d2\n",
    "    first_part = (A - B).dag()\n",
    "    second_part = (A - B)\n",
    "    f_int = (first_part* second_part)\n",
    "    f = f_int.tr()\n",
    "    return f"
   ]
  },
  {
   "cell_type": "code",
   "execution_count": 33,
   "metadata": {
    "ExecuteTime": {
     "end_time": "2019-01-22T13:38:06.410926Z",
     "start_time": "2019-01-22T13:38:06.405650Z"
    }
   },
   "outputs": [],
   "source": [
    "def L_full_maker(Ti, omega_1, xi_vec, Lin, dt):\n",
    "    r\"\"\"Brief description of the function\"\"\"\n",
    "    xi_vec_size = xi_vec.size # finding the size of xi\n",
    "    L_full = L_I(Ti) # Identity for the for loop of L\n",
    "    L_v = L_vec(omega_1, xi_vec, Lin, dt) # calling L_vec\n",
    "    for i in range(xi_vec_size): # generating L_full\n",
    "        L_full = L_full*L_v[xi_vec_size - 1 - i]\n",
    "    return L_full"
   ]
  },
  {
   "cell_type": "code",
   "execution_count": 34,
   "metadata": {
    "ExecuteTime": {
     "end_time": "2019-01-22T13:38:06.982922Z",
     "start_time": "2019-01-22T13:38:06.979043Z"
    }
   },
   "outputs": [],
   "source": [
    "def F(Ti, omega_1, xi_vec, Lin, dt):\n",
    "    r\"\"\"Brief description of the function\"\"\"\n",
    "    L_full = L_full_maker(Ti, omega_1, xi_vec, Lin, dt)\n",
    "    T = T_maker(Ti)\n",
    "    F = real(-fidelity_calc(T, L_full))   \n",
    "    return F"
   ]
  },
  {
   "cell_type": "code",
   "execution_count": 35,
   "metadata": {
    "ExecuteTime": {
     "end_time": "2019-01-22T13:38:08.154264Z",
     "start_time": "2019-01-22T13:38:08.147647Z"
    }
   },
   "outputs": [
    {
     "data": {
      "text/plain": [
       "4.0"
      ]
     },
     "execution_count": 35,
     "metadata": {},
     "output_type": "execute_result"
    }
   ],
   "source": [
    "fidelity_calc(sigmax(), sigmay())"
   ]
  },
  {
   "cell_type": "code",
   "execution_count": 36,
   "metadata": {
    "ExecuteTime": {
     "end_time": "2019-01-22T13:38:08.699118Z",
     "start_time": "2019-01-22T13:38:08.686685Z"
    }
   },
   "outputs": [
    {
     "data": {
      "text/plain": [
       "0.0"
      ]
     },
     "execution_count": 36,
     "metadata": {},
     "output_type": "execute_result"
    }
   ],
   "source": [
    "fidelity_calc(sigmay(), sigmay())"
   ]
  },
  {
   "cell_type": "code",
   "execution_count": 37,
   "metadata": {
    "ExecuteTime": {
     "end_time": "2019-01-22T13:38:09.348078Z",
     "start_time": "2019-01-22T13:38:09.340575Z"
    }
   },
   "outputs": [
    {
     "data": {
      "text/plain": [
       "array([1., 2.])"
      ]
     },
     "execution_count": 37,
     "metadata": {},
     "output_type": "execute_result"
    }
   ],
   "source": [
    "xi_vec_test = array([1.0, 2.0])\n",
    "xi_vec_test"
   ]
  },
  {
   "cell_type": "code",
   "execution_count": 38,
   "metadata": {
    "ExecuteTime": {
     "end_time": "2019-01-22T13:38:10.184637Z",
     "start_time": "2019-01-22T13:38:10.179945Z"
    }
   },
   "outputs": [
    {
     "data": {
      "text/plain": [
       "2"
      ]
     },
     "execution_count": 38,
     "metadata": {},
     "output_type": "execute_result"
    }
   ],
   "source": [
    "xi_vec_test.size"
   ]
  },
  {
   "cell_type": "code",
   "execution_count": 39,
   "metadata": {
    "ExecuteTime": {
     "end_time": "2019-01-22T13:38:10.755860Z",
     "start_time": "2019-01-22T13:38:10.750124Z"
    }
   },
   "outputs": [
    {
     "data": {
      "text/plain": [
       "[1.0, 4.0]"
      ]
     },
     "execution_count": 39,
     "metadata": {},
     "output_type": "execute_result"
    }
   ],
   "source": [
    "w_vec = [xi**2 for xi in xi_vec_test]\n",
    "w_vec"
   ]
  },
  {
   "cell_type": "code",
   "execution_count": 40,
   "metadata": {
    "ExecuteTime": {
     "end_time": "2019-01-22T13:38:11.982520Z",
     "start_time": "2019-01-22T13:38:11.964081Z"
    }
   },
   "outputs": [
    {
     "data": {
      "text/plain": [
       "-7.998400634493139"
      ]
     },
     "execution_count": 40,
     "metadata": {},
     "output_type": "execute_result"
    }
   ],
   "source": [
    "# F(Ti, omega_1, xi_vec, Lin, dt)\n",
    "F(sigmax(), 0.5 , xi_vec_test, sigmaz(), 0.001)"
   ]
  },
  {
   "cell_type": "code",
   "execution_count": 41,
   "metadata": {
    "ExecuteTime": {
     "end_time": "2019-01-22T13:38:14.684164Z",
     "start_time": "2019-01-22T13:38:14.679485Z"
    }
   },
   "outputs": [],
   "source": [
    "def L_comma_k_maker(Ti, omega_1, xi_vec, k, Lin, dt):\n",
    "    N = xi_vec.size\n",
    "    L_v = L_vec(omega_1, xi_vec, Lin, dt)\n",
    "    \n",
    "    inner_part = L_I(Ti)\n",
    "    for i in range(N):\n",
    "        if i == ( N - 1 - k ):\n",
    "            inner_part = inner_part*x_k(omega_1, Lin )*L_v[k - 1]\n",
    "        else:\n",
    "            inner_part = inner_part*L_v[N - 1 - i]\n",
    "    l_comma_k = inner_part\n",
    "    return l_comma_k\n",
    "    "
   ]
  },
  {
   "cell_type": "code",
   "execution_count": 42,
   "metadata": {
    "ExecuteTime": {
     "end_time": "2019-01-22T13:38:15.274129Z",
     "start_time": "2019-01-22T13:38:15.255382Z"
    }
   },
   "outputs": [
    {
     "data": {
      "text/latex": [
       "Quantum object: dims = [[2, 2], [2, 2]], shape = (4, 4), type = oper, isherm = False\\begin{equation*}\\left(\\begin{array}{*{11}c}1.000 & (-0.003-3.499\\times10^{-06}j) & (-0.003+3.499\\times10^{-06}j) & 8.999\\times10^{-06}\\\\(0.003+2.499\\times10^{-06}j) & (1.000+0.002j) & (-8.998\\times10^{-06}+2.999\\times10^{-09}j) & (-0.003-2.499\\times10^{-06}j)\\\\(0.003-2.499\\times10^{-06}j) & (-8.998\\times10^{-06}-2.999\\times10^{-09}j) & (1.000-0.002j) & (-0.003+2.499\\times10^{-06}j)\\\\8.999\\times10^{-06} & (0.003+3.499\\times10^{-06}j) & (0.003-3.499\\times10^{-06}j) & 1.000\\\\\\end{array}\\right)\\end{equation*}"
      ],
      "text/plain": [
       "Quantum object: dims = [[2, 2], [2, 2]], shape = (4, 4), type = oper, isherm = False\n",
       "Qobj data =\n",
       "[[ 9.99991001e-01+0.00000000e+00j -2.99927960e-03-3.49898670e-06j\n",
       "  -2.99927960e-03+3.49898670e-06j  8.99883703e-06+0.00000000e+00j]\n",
       " [ 2.99948056e-03+2.49939255e-06j  9.99589083e-01+1.99918650e-03j\n",
       "  -8.99750347e-06+2.99899242e-09j -2.99948056e-03-2.49939255e-06j]\n",
       " [ 2.99948056e-03-2.49939255e-06j -8.99750347e-06-2.99899242e-09j\n",
       "   9.99589083e-01-1.99918650e-03j -2.99948056e-03+2.49939255e-06j]\n",
       " [ 8.99883703e-06+0.00000000e+00j  2.99927960e-03+3.49898670e-06j\n",
       "   2.99927960e-03-3.49898670e-06j  9.99991001e-01+0.00000000e+00j]]"
      ]
     },
     "execution_count": 42,
     "metadata": {},
     "output_type": "execute_result"
    }
   ],
   "source": [
    "#L_comma_k_maker(Ti, omega_1, xi_vec, k, Lin, dt)\n",
    "L_comma_k_maker(sigmax(), 0.5 , xi_vec_test, 2, sigmaz(), 0.001)"
   ]
  },
  {
   "cell_type": "code",
   "execution_count": 43,
   "metadata": {
    "ExecuteTime": {
     "end_time": "2019-01-22T13:38:15.832772Z",
     "start_time": "2019-01-22T13:38:15.824211Z"
    }
   },
   "outputs": [],
   "source": [
    "def updater(Ti, omega_1, xi_vec, Lin, dt):\n",
    "    r\"\"\"Brief description of the function\"\"\"\n",
    "    xi_vec_size = xi_vec.size # finding the size of xi\n",
    "    T = T_maker(Ti)\n",
    "    L_full = L_full_maker(Ti, omega_1, xi_vec, Lin, dt)\n",
    "    di = []\n",
    "    for k in range(xi_vec_size):\n",
    "        L_comma_k = L_comma_k_maker(Ti, omega_1, xi_vec, k, Lin, dt)\n",
    "        differentiated = T - L_comma_k\n",
    "        plain = T - L_full\n",
    "        c = differentiated.dag()*plain\n",
    "        d = plain.dag()*differentiated\n",
    "        inside = c.tr() + d.tr()\n",
    "        di.append(epsilon*inside)\n",
    "\n",
    "    diff = array(di)\n",
    "    xi_new_vec = xi_vec + diff\n",
    "    return diff, xi_new_vec\n",
    "    "
   ]
  },
  {
   "cell_type": "code",
   "execution_count": 44,
   "metadata": {
    "ExecuteTime": {
     "end_time": "2019-01-22T13:38:16.512243Z",
     "start_time": "2019-01-22T13:38:16.471832Z"
    }
   },
   "outputs": [
    {
     "ename": "NameError",
     "evalue": "name 'epsilon' is not defined",
     "output_type": "error",
     "traceback": [
      "\u001b[0;31m---------------------------------------------------------------------------\u001b[0m",
      "\u001b[0;31mNameError\u001b[0m                                 Traceback (most recent call last)",
      "\u001b[0;32m<ipython-input-44-8fffc312f438>\u001b[0m in \u001b[0;36m<module>\u001b[0;34m()\u001b[0m\n\u001b[1;32m      1\u001b[0m \u001b[0;31m#  updater(Ti, omega_1, xi_vec, Lin, dt)\u001b[0m\u001b[0;34m\u001b[0m\u001b[0;34m\u001b[0m\u001b[0;34m\u001b[0m\u001b[0m\n\u001b[0;32m----> 2\u001b[0;31m \u001b[0mupdater\u001b[0m\u001b[0;34m(\u001b[0m\u001b[0msigmax\u001b[0m\u001b[0;34m(\u001b[0m\u001b[0;34m)\u001b[0m\u001b[0;34m,\u001b[0m \u001b[0;36m0.5\u001b[0m \u001b[0;34m,\u001b[0m \u001b[0mxi_vec_test\u001b[0m\u001b[0;34m,\u001b[0m \u001b[0msigmaz\u001b[0m\u001b[0;34m(\u001b[0m\u001b[0;34m)\u001b[0m\u001b[0;34m,\u001b[0m \u001b[0;36m0.001\u001b[0m\u001b[0;34m)\u001b[0m\u001b[0;34m\u001b[0m\u001b[0;34m\u001b[0m\u001b[0m\n\u001b[0m",
      "\u001b[0;32m<ipython-input-43-4b39b877af56>\u001b[0m in \u001b[0;36mupdater\u001b[0;34m(Ti, omega_1, xi_vec, Lin, dt)\u001b[0m\n\u001b[1;32m     12\u001b[0m         \u001b[0md\u001b[0m \u001b[0;34m=\u001b[0m \u001b[0mplain\u001b[0m\u001b[0;34m.\u001b[0m\u001b[0mdag\u001b[0m\u001b[0;34m(\u001b[0m\u001b[0;34m)\u001b[0m\u001b[0;34m*\u001b[0m\u001b[0mdifferentiated\u001b[0m\u001b[0;34m\u001b[0m\u001b[0;34m\u001b[0m\u001b[0m\n\u001b[1;32m     13\u001b[0m         \u001b[0minside\u001b[0m \u001b[0;34m=\u001b[0m \u001b[0mc\u001b[0m\u001b[0;34m.\u001b[0m\u001b[0mtr\u001b[0m\u001b[0;34m(\u001b[0m\u001b[0;34m)\u001b[0m \u001b[0;34m+\u001b[0m \u001b[0md\u001b[0m\u001b[0;34m.\u001b[0m\u001b[0mtr\u001b[0m\u001b[0;34m(\u001b[0m\u001b[0;34m)\u001b[0m\u001b[0;34m\u001b[0m\u001b[0;34m\u001b[0m\u001b[0m\n\u001b[0;32m---> 14\u001b[0;31m         \u001b[0mdi\u001b[0m\u001b[0;34m.\u001b[0m\u001b[0mappend\u001b[0m\u001b[0;34m(\u001b[0m\u001b[0mepsilon\u001b[0m\u001b[0;34m*\u001b[0m\u001b[0minside\u001b[0m\u001b[0;34m)\u001b[0m\u001b[0;34m\u001b[0m\u001b[0;34m\u001b[0m\u001b[0m\n\u001b[0m\u001b[1;32m     15\u001b[0m \u001b[0;34m\u001b[0m\u001b[0m\n\u001b[1;32m     16\u001b[0m     \u001b[0mdiff\u001b[0m \u001b[0;34m=\u001b[0m \u001b[0marray\u001b[0m\u001b[0;34m(\u001b[0m\u001b[0mdi\u001b[0m\u001b[0;34m)\u001b[0m\u001b[0;34m\u001b[0m\u001b[0;34m\u001b[0m\u001b[0m\n",
      "\u001b[0;31mNameError\u001b[0m: name 'epsilon' is not defined"
     ]
    }
   ],
   "source": [
    "#  updater(Ti, omega_1, xi_vec, Lin, dt)\n",
    "updater(sigmax(), 0.5 , xi_vec_test, sigmaz(), 0.001)"
   ]
  },
  {
   "cell_type": "code",
   "execution_count": 45,
   "metadata": {
    "ExecuteTime": {
     "end_time": "2019-01-22T13:38:17.150437Z",
     "start_time": "2019-01-22T13:38:17.143983Z"
    },
    "code_folding": []
   },
   "outputs": [],
   "source": [
    "def terminator(max_iter, time_steps, Ti, omega_1, Lin, total_time):\n",
    "    r\"\"\"Brief description of the function\"\"\"\n",
    "    \n",
    "    xi_initial =  1000*random_sample((time_steps,))\n",
    "    dt = total_time/time_steps\n",
    "    xi_diff, xi_new_vec = updater(Ti, omega_1, xi_initial, Lin, dt)\n",
    "    \n",
    "    #xi_diff = xi_new_vec - xi_initial\n",
    "    for i in range(max_iter):\n",
    "        if amax(xi_diff) < epsilon**2 :\n",
    "            xi_final = xi_new_vec\n",
    "            break\n",
    "        else :\n",
    "            xi_diff, xi_new_vec = updater(Ti, omega_1, xi_new_vec, Lin, dt)\n",
    "            print(i)\n",
    "            print(amax(xi_diff))\n",
    "            \n",
    "        \n",
    "    xi_final = xi_new_vec    \n",
    "    return xi_final"
   ]
  },
  {
   "cell_type": "code",
   "execution_count": 47,
   "metadata": {
    "ExecuteTime": {
     "end_time": "2019-01-22T13:38:47.269251Z",
     "start_time": "2019-01-22T13:38:47.266263Z"
    }
   },
   "outputs": [],
   "source": [
    "omega_1 = 0.5\n",
    "total_time = 10*pi/omega_1\n",
    "epsilon = 10**(-6)\n",
    "max_iter = 100#50#20\n",
    "time_steps = 20\n",
    "dt = total_time/time_steps"
   ]
  },
  {
   "cell_type": "code",
   "execution_count": 48,
   "metadata": {
    "ExecuteTime": {
     "end_time": "2019-01-22T13:38:47.753803Z",
     "start_time": "2019-01-22T13:38:47.749453Z"
    }
   },
   "outputs": [],
   "source": [
    "Lin = sigmaz() # Lindbladian"
   ]
  },
  {
   "cell_type": "code",
   "execution_count": 49,
   "metadata": {
    "ExecuteTime": {
     "end_time": "2019-01-22T13:38:48.236434Z",
     "start_time": "2019-01-22T13:38:48.227861Z"
    }
   },
   "outputs": [],
   "source": [
    "Ti = sigmax() # Target unitary"
   ]
  },
  {
   "cell_type": "code",
   "execution_count": 50,
   "metadata": {
    "ExecuteTime": {
     "end_time": "2019-01-22T13:41:16.589590Z",
     "start_time": "2019-01-22T13:38:50.390304Z"
    }
   },
   "outputs": [
    {
     "name": "stdout",
     "output_type": "stream",
     "text": [
      "0\n",
      "(6.0000130357007835e-06+0j)\n",
      "1\n",
      "(6.000013037573336e-06+0j)\n",
      "2\n",
      "(6.000013039439732e-06+0j)\n",
      "3\n",
      "(6.0000130412999525e-06+0j)\n",
      "4\n",
      "(6.000013043156642e-06+0j)\n",
      "5\n",
      "(6.0000130450068965e-06+0j)\n",
      "6\n",
      "(6.000013046849188e-06+0j)\n",
      "7\n",
      "(6.0000130486845365e-06+0j)\n",
      "8\n",
      "(6.000013050519991e-06+0j)\n",
      "9\n",
      "(6.0000130523442965e-06+0j)\n",
      "10\n",
      "(6.000013054164159e-06+0j)\n",
      "11\n",
      "(6.0000130559794595e-06+0j)\n",
      "12\n",
      "(6.000013057787519e-06+0j)\n",
      "13\n",
      "(6.000013059593923e-06+0j)\n",
      "14\n",
      "(6.000013061388108e-06+0j)\n",
      "15\n",
      "(6.000013063178291e-06+0j)\n",
      "16\n",
      "(6.0000130649674295e-06+0j)\n",
      "17\n",
      "(6.000013066749133e-06+0j)\n",
      "18\n",
      "(6.000013068518872e-06+0j)\n",
      "19\n",
      "(6.000013070285615e-06+0j)\n",
      "20\n",
      "(6.000013072053951e-06+0j)\n",
      "21\n",
      "(6.000013073813411e-06+0j)\n",
      "22\n",
      "(6.000013075556849e-06+0j)\n",
      "23\n",
      "(6.000013077305499e-06+0j)\n",
      "24\n",
      "(6.0000130790464935e-06+0j)\n",
      "25\n",
      "(6.000013080779545e-06+0j)\n",
      "26\n",
      "(6.000013082503223e-06+0j)\n",
      "27\n",
      "(6.000013084226994e-06+0j)\n",
      "28\n",
      "(6.000013085944392e-06+0j)\n",
      "29\n",
      "(6.000013087657813e-06+0j)\n",
      "30\n",
      "(6.0000130893577466e-06+0j)\n",
      "31\n",
      "(6.000013091057294e-06+0j)\n",
      "32\n",
      "(6.000013092754296e-06+0j)\n",
      "33\n",
      "(6.00001309444286e-06+0j)\n",
      "34\n",
      "(6.000013096123478e-06+0j)\n",
      "35\n",
      "(6.000013097799361e-06+0j)\n",
      "36\n",
      "(6.00001309946913e-06+0j)\n",
      "37\n",
      "(6.000013101140993e-06+0j)\n",
      "38\n",
      "(6.000013102791759e-06+0j)\n",
      "39\n",
      "(6.000013104448037e-06+0j)\n",
      "40\n",
      "(6.000013106096016e-06+0j)\n",
      "41\n",
      "(6.000013107744041e-06+0j)\n",
      "42\n",
      "(6.000013109375452e-06+0j)\n",
      "43\n",
      "(6.000013111007878e-06+0j)\n",
      "44\n",
      "(6.000013112633302e-06+0j)\n",
      "45\n",
      "(6.000013114252113e-06+0j)\n",
      "46\n",
      "(6.000013115862572e-06+0j)\n",
      "47\n",
      "(6.000013117470077e-06+0j)\n",
      "48\n",
      "(6.000013119073944e-06+0j)\n",
      "49\n",
      "(6.000013120672021e-06+0j)\n",
      "50\n",
      "(6.000013122261697e-06+0j)\n",
      "51\n",
      "(6.000013123845548e-06+0j)\n",
      "52\n",
      "(6.000013125427915e-06+0j)\n",
      "53\n",
      "(6.000013127003333e-06+0j)\n",
      "54\n",
      "(6.000013128571827e-06+0j)\n",
      "55\n",
      "(6.000013130128556e-06+0j)\n",
      "56\n",
      "(6.000013131687158e-06+0j)\n",
      "57\n",
      "(6.0000131332395674e-06+0j)\n",
      "58\n",
      "(6.000013134783344e-06+0j)\n",
      "59\n",
      "(6.000013136324581e-06+0j)\n",
      "60\n",
      "(6.0000131378582585e-06+0j)\n",
      "61\n",
      "(6.000013139384466e-06+0j)\n",
      "62\n",
      "(6.000013140907714e-06+0j)\n",
      "63\n",
      "(6.000013142424906e-06+0j)\n",
      "64\n",
      "(6.000013143935959e-06+0j)\n",
      "65\n",
      "(6.000013145442147e-06+0j)\n",
      "66\n",
      "(6.0000131469423455e-06+0j)\n",
      "67\n",
      "(6.000013148436203e-06+0j)\n",
      "68\n",
      "(6.000013149925104e-06+0j)\n",
      "69\n",
      "(6.000013151408171e-06+0j)\n",
      "70\n",
      "(6.0000131528860655e-06+0j)\n",
      "71\n",
      "(6.000013154357006e-06+0j)\n",
      "72\n",
      "(6.000013155823764e-06+0j)\n",
      "73\n",
      "(6.000013157281393e-06+0j)\n",
      "74\n",
      "(6.000013158738104e-06+0j)\n",
      "75\n",
      "(6.0000131601836414e-06+0j)\n",
      "76\n",
      "(6.000013161629604e-06+0j)\n",
      "77\n",
      "(6.000013163068866e-06+0j)\n",
      "78\n",
      "(6.000013164502108e-06+0j)\n",
      "79\n",
      "(6.000013165926758e-06+0j)\n",
      "80\n",
      "(6.000013167349058e-06+0j)\n",
      "81\n",
      "(6.0000131687653515e-06+0j)\n",
      "82\n",
      "(6.000013170171934e-06+0j)\n",
      "83\n",
      "(6.000013171575794e-06+0j)\n",
      "84\n",
      "(6.000013172973878e-06+0j)\n",
      "85\n",
      "(6.000013174366868e-06+0j)\n",
      "86\n",
      "(6.0000131757545964e-06+0j)\n",
      "87\n",
      "(6.000013177136469e-06+0j)\n",
      "88\n",
      "(6.000013178511414e-06+0j)\n",
      "89\n",
      "(6.000013179881051e-06+0j)\n",
      "90\n",
      "(6.000013181246317e-06+0j)\n",
      "91\n",
      "(6.000013182606355e-06+0j)\n",
      "92\n",
      "(6.000013183960325e-06+0j)\n",
      "93\n",
      "(6.000013185307931e-06+0j)\n",
      "94\n",
      "(6.000013186649964e-06+0j)\n",
      "95\n",
      "(6.000013187986256e-06+0j)\n",
      "96\n",
      "(6.000013189319164e-06+0j)\n",
      "97\n",
      "(6.000013190643811e-06+0j)\n",
      "98\n",
      "(6.000013191959902e-06+0j)\n",
      "99\n",
      "(6.000013193277652e-06+0j)\n"
     ]
    },
    {
     "data": {
      "text/plain": [
       "array([314.31405429+0.j, 156.48348865+0.j, 234.76318357+0.j,\n",
       "       627.39627954+0.j, 817.31170092+0.j, 705.07224648+0.j,\n",
       "       391.34386214+0.j,  26.95167144+0.j, 708.73079833+0.j,\n",
       "       151.05307941+0.j, 538.8196842 +0.j, 901.11570264+0.j,\n",
       "       799.17968458+0.j, 885.19737833+0.j, 579.58529298+0.j,\n",
       "       422.75061263+0.j, 553.12980655+0.j, 845.71322167+0.j,\n",
       "         4.58905801+0.j, 740.01983051+0.j])"
      ]
     },
     "execution_count": 50,
     "metadata": {},
     "output_type": "execute_result"
    }
   ],
   "source": [
    "# terminator(20, 20, Ti, omega_1, Lin, total_time)\n",
    "xi_opt = terminator(max_iter, time_steps, Ti, omega_1, Lin, total_time)\n",
    "xi_opt"
   ]
  },
  {
   "cell_type": "code",
   "execution_count": 51,
   "metadata": {
    "ExecuteTime": {
     "end_time": "2019-01-22T13:41:16.676637Z",
     "start_time": "2019-01-22T13:41:16.592030Z"
    }
   },
   "outputs": [
    {
     "data": {
      "text/plain": [
       "-3.000020046642919"
      ]
     },
     "execution_count": 51,
     "metadata": {},
     "output_type": "execute_result"
    }
   ],
   "source": [
    "F(Ti, omega_1, xi_opt, Lin, dt)"
   ]
  },
  {
   "cell_type": "code",
   "execution_count": 52,
   "metadata": {
    "ExecuteTime": {
     "end_time": "2019-01-22T13:41:16.685526Z",
     "start_time": "2019-01-22T13:41:16.679147Z"
    }
   },
   "outputs": [
    {
     "data": {
      "text/plain": [
       "100"
      ]
     },
     "execution_count": 52,
     "metadata": {},
     "output_type": "execute_result"
    }
   ],
   "source": [
    "max_iter"
   ]
  },
  {
   "cell_type": "code",
   "execution_count": 53,
   "metadata": {
    "ExecuteTime": {
     "end_time": "2019-01-22T13:41:16.695343Z",
     "start_time": "2019-01-22T13:41:16.687803Z"
    }
   },
   "outputs": [
    {
     "data": {
      "text/latex": [
       "Quantum object: dims = [[2, 2], [2, 2]], shape = (4, 4), type = oper, isherm = True\\begin{equation*}\\left(\\begin{array}{*{11}c}0.0 & 0.0 & 0.0 & 1.0\\\\0.0 & 0.0 & 1.0 & 0.0\\\\0.0 & 1.0 & 0.0 & 0.0\\\\1.0 & 0.0 & 0.0 & 0.0\\\\\\end{array}\\right)\\end{equation*}"
      ],
      "text/plain": [
       "Quantum object: dims = [[2, 2], [2, 2]], shape = (4, 4), type = oper, isherm = True\n",
       "Qobj data =\n",
       "[[0. 0. 0. 1.]\n",
       " [0. 0. 1. 0.]\n",
       " [0. 1. 0. 0.]\n",
       " [1. 0. 0. 0.]]"
      ]
     },
     "execution_count": 53,
     "metadata": {},
     "output_type": "execute_result"
    }
   ],
   "source": [
    "T = T_maker(Ti)\n",
    "T"
   ]
  },
  {
   "cell_type": "code",
   "execution_count": 54,
   "metadata": {
    "ExecuteTime": {
     "end_time": "2019-01-22T13:41:16.801978Z",
     "start_time": "2019-01-22T13:41:16.697517Z"
    }
   },
   "outputs": [
    {
     "data": {
      "text/latex": [
       "Quantum object: dims = [[2, 2], [2, 2]], shape = (4, 4), type = oper, isherm = False\\begin{equation*}\\left(\\begin{array}{*{11}c}0.499 & (3.274\\times10^{-04}-2.192\\times10^{-06}j) & (3.274\\times10^{-04}+2.192\\times10^{-06}j) & 0.501\\\\(-3.271\\times10^{-04}+1.195\\times10^{-04}j) & (-8.609\\times10^{-04}+6.277\\times10^{-06}j) & (-8.640\\times10^{-04}+5.547\\times10^{-06}j) & (3.271\\times10^{-04}-1.195\\times10^{-04}j)\\\\(-3.271\\times10^{-04}-1.195\\times10^{-04}j) & (-8.640\\times10^{-04}-5.547\\times10^{-06}j) & (-8.609\\times10^{-04}-6.277\\times10^{-06}j) & (3.271\\times10^{-04}+1.195\\times10^{-04}j)\\\\0.501 & (-3.274\\times10^{-04}+2.192\\times10^{-06}j) & (-3.274\\times10^{-04}-2.192\\times10^{-06}j) & 0.499\\\\\\end{array}\\right)\\end{equation*}"
      ],
      "text/plain": [
       "Quantum object: dims = [[2, 2], [2, 2]], shape = (4, 4), type = oper, isherm = False\n",
       "Qobj data =\n",
       "[[ 4.99139330e-01+0.00000000e+00j  3.27396686e-04-2.19191563e-06j\n",
       "   3.27396686e-04+2.19191563e-06j  5.00860670e-01+0.00000000e+00j]\n",
       " [-3.27083095e-04+1.19493524e-04j -8.60872673e-04+6.27657844e-06j\n",
       "  -8.63968409e-04+5.54705049e-06j  3.27083095e-04-1.19493524e-04j]\n",
       " [-3.27083095e-04-1.19493524e-04j -8.63968409e-04-5.54705049e-06j\n",
       "  -8.60872673e-04-6.27657844e-06j  3.27083095e-04+1.19493524e-04j]\n",
       " [ 5.00860670e-01+0.00000000e+00j -3.27396686e-04+2.19191563e-06j\n",
       "  -3.27396686e-04-2.19191563e-06j  4.99139330e-01+0.00000000e+00j]]"
      ]
     },
     "execution_count": 54,
     "metadata": {},
     "output_type": "execute_result"
    }
   ],
   "source": [
    "L_full_maker(Ti, omega_1, xi_opt, Lin, dt)"
   ]
  },
  {
   "cell_type": "code",
   "execution_count": 55,
   "metadata": {
    "ExecuteTime": {
     "end_time": "2019-01-22T13:41:17.336143Z",
     "start_time": "2019-01-22T13:41:16.804240Z"
    }
   },
   "outputs": [
    {
     "data": {
      "text/plain": [
       "(<Figure size 576x432 with 2 Axes>,\n",
       " <matplotlib.axes._subplots.AxesSubplot at 0x10f5fc320>)"
      ]
     },
     "execution_count": 55,
     "metadata": {},
     "output_type": "execute_result"
    },
    {
     "data": {
      "image/png": "[encoded data removed]",
      "text/plain": [
       "<Figure size 576x432 with 2 Axes>"
      ]
     },
     "metadata": {},
     "output_type": "display_data"
    }
   ],
   "source": [
    "hinton(L_full_maker(Ti, omega_1, xi_opt, Lin, dt))"
   ]
  },
  {
   "cell_type": "markdown",
   "metadata": {},
   "source": []
  },
  {
   "cell_type": "code",
   "execution_count": 12,
   "metadata": {
    "ExecuteTime": {
     "end_time": "2019-01-22T12:54:09.268631Z",
     "start_time": "2019-01-22T12:54:09.260823Z"
    }
   },
   "outputs": [
    {
     "data": {
      "text/plain": [
       "1.31350478e-05"
      ]
     },
     "execution_count": 12,
     "metadata": {},
     "output_type": "execute_result"
    }
   ],
   "source": [
    "1.31350478e-05 # 40"
   ]
  },
  {
   "cell_type": "code",
   "execution_count": 13,
   "metadata": {
    "ExecuteTime": {
     "end_time": "2019-01-22T12:54:09.282435Z",
     "start_time": "2019-01-22T12:54:09.275593Z"
    }
   },
   "outputs": [
    {
     "data": {
      "text/plain": [
       "1.31390107e-05"
      ]
     },
     "execution_count": 13,
     "metadata": {},
     "output_type": "execute_result"
    }
   ],
   "source": [
    "1.31390107e-05 # 50"
   ]
  },
  {
   "cell_type": "code",
   "execution_count": 14,
   "metadata": {
    "ExecuteTime": {
     "end_time": "2019-01-22T12:54:09.289486Z",
     "start_time": "2019-01-22T12:54:09.286073Z"
    }
   },
   "outputs": [],
   "source": [
    "α = 2"
   ]
  },
  {
   "cell_type": "code",
   "execution_count": 15,
   "metadata": {
    "ExecuteTime": {
     "end_time": "2019-01-22T12:54:09.304573Z",
     "start_time": "2019-01-22T12:54:09.292309Z"
    }
   },
   "outputs": [
    {
     "ename": "NameError",
     "evalue": "name 'random_sample' is not defined",
     "output_type": "error",
     "traceback": [
      "\u001b[0;31m---------------------------------------------------------------------------\u001b[0m",
      "\u001b[0;31mNameError\u001b[0m                                 Traceback (most recent call last)",
      "\u001b[0;32m<ipython-input-15-e03955631bdf>\u001b[0m in \u001b[0;36m<module>\u001b[0;34m()\u001b[0m\n\u001b[0;32m----> 1\u001b[0;31m \u001b[0mnew_array\u001b[0m \u001b[0;34m=\u001b[0m \u001b[0mrandom_sample\u001b[0m\u001b[0;34m(\u001b[0m\u001b[0;34m(\u001b[0m\u001b[0;36m4\u001b[0m\u001b[0;34m,\u001b[0m\u001b[0;36m3\u001b[0m\u001b[0;34m,\u001b[0m\u001b[0;34m)\u001b[0m\u001b[0;34m)\u001b[0m\u001b[0;34m\u001b[0m\u001b[0;34m\u001b[0m\u001b[0m\n\u001b[0m",
      "\u001b[0;31mNameError\u001b[0m: name 'random_sample' is not defined"
     ]
    }
   ],
   "source": [
    "new_array = random_sample((4,3,))"
   ]
  },
  {
   "cell_type": "code",
   "execution_count": null,
   "metadata": {
    "ExecuteTime": {
     "end_time": "2019-01-22T12:54:09.305812Z",
     "start_time": "2019-01-22T12:54:09.273Z"
    }
   },
   "outputs": [],
   "source": [
    "new_array"
   ]
  },
  {
   "cell_type": "code",
   "execution_count": null,
   "metadata": {
    "ExecuteTime": {
     "end_time": "2019-01-22T12:54:09.307248Z",
     "start_time": "2019-01-22T12:54:09.276Z"
    }
   },
   "outputs": [],
   "source": [
    "new_array.any()"
   ]
  },
  {
   "cell_type": "code",
   "execution_count": null,
   "metadata": {
    "ExecuteTime": {
     "end_time": "2019-01-22T12:54:09.313592Z",
     "start_time": "2019-01-22T12:54:09.279Z"
    }
   },
   "outputs": [],
   "source": [
    "new_array[0] = 0\n"
   ]
  },
  {
   "cell_type": "code",
   "execution_count": null,
   "metadata": {
    "ExecuteTime": {
     "end_time": "2019-01-22T12:54:09.322354Z",
     "start_time": "2019-01-22T12:54:09.284Z"
    }
   },
   "outputs": [],
   "source": [
    "new_array"
   ]
  },
  {
   "cell_type": "code",
   "execution_count": null,
   "metadata": {
    "ExecuteTime": {
     "end_time": "2019-01-22T12:54:09.323425Z",
     "start_time": "2019-01-22T12:54:09.287Z"
    }
   },
   "outputs": [],
   "source": [
    "new_array.any()"
   ]
  },
  {
   "cell_type": "code",
   "execution_count": null,
   "metadata": {
    "ExecuteTime": {
     "end_time": "2019-01-22T12:54:09.324600Z",
     "start_time": "2019-01-22T12:54:09.290Z"
    }
   },
   "outputs": [],
   "source": [
    "new_array.all()"
   ]
  },
  {
   "cell_type": "code",
   "execution_count": null,
   "metadata": {
    "ExecuteTime": {
     "end_time": "2019-01-22T12:54:09.329873Z",
     "start_time": "2019-01-22T12:54:09.292Z"
    }
   },
   "outputs": [],
   "source": [
    "max(new_array)"
   ]
  },
  {
   "cell_type": "code",
   "execution_count": null,
   "metadata": {
    "ExecuteTime": {
     "end_time": "2019-01-22T12:54:09.339003Z",
     "start_time": "2019-01-22T12:54:09.295Z"
    }
   },
   "outputs": [],
   "source": [
    "max(new_array, axis=0)"
   ]
  },
  {
   "cell_type": "code",
   "execution_count": null,
   "metadata": {
    "ExecuteTime": {
     "end_time": "2019-01-22T12:54:09.340362Z",
     "start_time": "2019-01-22T12:54:09.301Z"
    }
   },
   "outputs": [],
   "source": [
    "from numpy import amax "
   ]
  },
  {
   "cell_type": "code",
   "execution_count": null,
   "metadata": {
    "ExecuteTime": {
     "end_time": "2019-01-22T12:54:09.342531Z",
     "start_time": "2019-01-22T12:54:09.305Z"
    }
   },
   "outputs": [],
   "source": [
    "amax(new_array)"
   ]
  },
  {
   "cell_type": "code",
   "execution_count": null,
   "metadata": {},
   "outputs": [],
   "source": []
  }
 ],
 "metadata": {
  "kernelspec": {
   "display_name": "Python 3",
   "language": "python",
   "name": "python3"
  },
  "language_info": {
   "codemirror_mode": {
    "name": "ipython",
    "version": 3
   },
   "file_extension": ".py",
   "mimetype": "text/x-python",
   "name": "python",
   "nbconvert_exporter": "python",
   "pygments_lexer": "ipython3",
   "version": "3.6.8"
  },
  "toc": {
   "base_numbering": 1,
   "nav_menu": {},
   "number_sections": true,
   "sideBar": true,
   "skip_h1_title": false,
   "title_cell": "Table of Contents",
   "title_sidebar": "Contents",
   "toc_cell": false,
   "toc_position": {},
   "toc_section_display": true,
   "toc_window_display": false
  }
 },
 "nbformat": 4,
 "nbformat_minor": 2
}
