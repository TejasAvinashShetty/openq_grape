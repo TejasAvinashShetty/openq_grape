{
 "cells": [
  {
   "cell_type": "markdown",
   "metadata": {
    "heading_collapsed": true
   },
   "source": [
    "# Imports"
   ]
  },
  {
   "cell_type": "code",
   "execution_count": 1,
   "metadata": {
    "ExecuteTime": {
     "end_time": "2019-01-29T06:59:20.489932Z",
     "start_time": "2019-01-29T06:59:18.769294Z"
    },
    "hidden": true
   },
   "outputs": [],
   "source": [
    "\n",
    "# coding: utf-8\n",
    "\n",
    "# # Imports\n",
    "\n",
    "# ## Qutip imports 1\n",
    "\n",
    "# In[1]:\n",
    "\n",
    "\n",
    "from qutip.operators import sigmax, sigmay, sigmaz, identity\n",
    "# position, momentum, num, create, destroy, commutator, qeye \n",
    "from qutip.tensor import tensor\n",
    "from qutip.qip.gates import swap, rx, ry, rz\n",
    "from qutip.qobj import Qobj\n",
    "from qutip.visualization import hinton\n",
    "from qutip.visualization import matrix_histogram_complex, matrix_histogram\n",
    "from qutip.random_objects import rand_herm, rand_unitary, rand_dm\n",
    "\n",
    "\n",
    "# ## Qutip imports 2\n",
    "\n",
    "# In[2]:\n",
    "\n",
    "\n",
    "#from \n",
    "\n",
    "\n",
    "# ## Numpy imports \n",
    "\n",
    "# In[2]:\n",
    "\n",
    "\n",
    "from numpy import sin, cos, tan, real, imag,  log, conj\n",
    "from numpy import array, append, linspace, arange\n",
    "from numpy import add, sqrt, abs, dot\n",
    "from numpy.random import random, random_sample, rand, seed, RandomState\n",
    "from numpy import concatenate, trace, diag\n",
    "from numpy import ones, zeros, ones_like, zeros_like\n",
    "from numpy import amax, amin, nanmax, nanmin\n",
    "from numpy import outer, multiply\n",
    "# from numpy import pi\n",
    "\n",
    "\n",
    "# ## Scipy imports\n",
    "\n",
    "# In[17]:\n",
    "\n",
    "\n",
    "from scipy.integrate import ode, odeint, complex_ode\n",
    "from scipy.optimize import minimize\n",
    "from scipy.linalg import eigh, inv, norm, expm\n",
    "# from scipy.linalg import \n",
    "# from scipy import\n",
    "\n",
    "\n",
    "# ## Matplotlib imports\n",
    "\n",
    "# In[18]:\n",
    "\n",
    "\n",
    "from matplotlib.pyplot import plot, figure, show, savefig, axes\n",
    "from matplotlib.pyplot import xlabel, ylabel, title, legend\n",
    "from matplotlib import rcParams\n",
    "from matplotlib.pyplot import style \n",
    "from matplotlib.pyplot import xlim, ylim, axis \n",
    "# beware not same as axes\n",
    "from matplotlib.pyplot import subplot, subplots, text\n",
    "from matplotlib.pyplot import GridSpec\n",
    "from matplotlib.pyplot import scatter, colorbar\n",
    "\n",
    "\n",
    "pgf_with_rc_fonts = {\"pgf.texsystem\": \"pdflatex\"}\n",
    "rcParams.update(pgf_with_rc_fonts)\n",
    "style.use('seaborn-whitegrid')\n",
    "\n",
    "\n",
    "# ## Math imports\n",
    "\n",
    "# In[19]:\n",
    "\n",
    "\n",
    "from math import pi\n",
    "from math import exp\n",
    "\n",
    "\n",
    "# ## Cmath imports\n",
    "\n",
    "# ## Date and datetime imports\n",
    "\n",
    "# In[20]:\n",
    "\n",
    "\n",
    "from datetime import date\n",
    "from datetime import datetime# now\n",
    "\n",
    "\n",
    "# ## Os imports\n",
    "\n",
    "# In[21]:\n",
    "\n",
    "\n",
    "from os import getcwd, mkdir, chdir\n",
    "from os.path import abspath, join \n",
    "\n",
    "\n",
    "# ## Sympy imports\n",
    "\n",
    "# In[22]:\n",
    "\n",
    "\n",
    "from sympy import Function, dsolve, Eq, Derivative, symbols\n",
    "# x, y, z, t = symbols('x y z t')\n",
    "# k, m, n = symbols('k m n', integer=True)\n",
    "# f, g, h = symbols('f g h', cls=Function)\n",
    "\n",
    "\n",
    "# ## Miscellaneous imports\n",
    "\n",
    "# ## Extra useful functions\n",
    "\n",
    "# In[23]:\n",
    "\n",
    "\n",
    "def rint(x):\n",
    "    print(\"x = \", x)\n",
    "    return None\n",
    "\n",
    "\n",
    "# # Next chapter\n",
    "\n",
    "# ## sub topic 1\n",
    "\n",
    "# ## sub topic 2\n",
    "\n",
    "# ## sub topic 3\n",
    "\n",
    "# ### sub sub topic 1\n",
    "\n"
   ]
  },
  {
   "cell_type": "markdown",
   "metadata": {},
   "source": [
    "# Building parts"
   ]
  },
  {
   "cell_type": "markdown",
   "metadata": {},
   "source": [
    "## memory wiping"
   ]
  },
  {
   "cell_type": "code",
   "execution_count": 2,
   "metadata": {
    "ExecuteTime": {
     "end_time": "2019-01-29T06:59:20.496179Z",
     "start_time": "2019-01-29T06:59:20.492313Z"
    }
   },
   "outputs": [],
   "source": [
    " %reset_selective -f  omega_1, total_time, epsilon, max_iter, time_steps, dt"
   ]
  },
  {
   "cell_type": "code",
   "execution_count": 3,
   "metadata": {
    "ExecuteTime": {
     "end_time": "2019-01-29T06:59:20.502042Z",
     "start_time": "2019-01-29T06:59:20.498739Z"
    }
   },
   "outputs": [],
   "source": [
    "%reset_selective -f Lin, Ti,I"
   ]
  },
  {
   "cell_type": "markdown",
   "metadata": {},
   "source": [
    "## Building the Hamiltonians"
   ]
  },
  {
   "cell_type": "code",
   "execution_count": 4,
   "metadata": {
    "ExecuteTime": {
     "end_time": "2019-01-29T06:59:20.508220Z",
     "start_time": "2019-01-29T06:59:20.504466Z"
    }
   },
   "outputs": [],
   "source": [
    "def H1(omega_1):\n",
    "    r\"\"\"Building the bare Hamiltonian\"\"\"\n",
    "    H1 = omega_1*sigmaz()\n",
    "    return H1"
   ]
  },
  {
   "cell_type": "code",
   "execution_count": 5,
   "metadata": {
    "ExecuteTime": {
     "end_time": "2019-01-29T06:59:20.514396Z",
     "start_time": "2019-01-29T06:59:20.510963Z"
    }
   },
   "outputs": [],
   "source": [
    "def H2():\n",
    "    r\"\"\"Building the Interaction Hamiltonian\"\"\"\n",
    "    H2 = sigmay()\n",
    "    return H2"
   ]
  },
  {
   "cell_type": "code",
   "execution_count": 6,
   "metadata": {
    "ExecuteTime": {
     "end_time": "2019-01-29T06:59:20.519839Z",
     "start_time": "2019-01-29T06:59:20.516665Z"
    }
   },
   "outputs": [],
   "source": [
    "def Hamil(omega_1, xi):\n",
    "    H = H1(omega_1) + xi*H2()\n",
    "    return H"
   ]
  },
  {
   "cell_type": "code",
   "execution_count": 7,
   "metadata": {
    "ExecuteTime": {
     "end_time": "2019-01-29T06:59:20.531650Z",
     "start_time": "2019-01-29T06:59:20.522124Z"
    }
   },
   "outputs": [
    {
     "data": {
      "text/latex": [
       "Quantum object: dims = [[2], [2]], shape = (2, 2), type = oper, isherm = True\\begin{equation*}\\left(\\begin{array}{*{11}c}2.0 & -0.500j\\\\0.500j & -2.0\\\\\\end{array}\\right)\\end{equation*}"
      ],
      "text/plain": [
       "Quantum object: dims = [[2], [2]], shape = (2, 2), type = oper, isherm = True\n",
       "Qobj data =\n",
       "[[ 2.+0.j   0.-0.5j]\n",
       " [ 0.+0.5j -2.+0.j ]]"
      ]
     },
     "execution_count": 7,
     "metadata": {},
     "output_type": "execute_result"
    }
   ],
   "source": [
    "Hamil(2, 0.5 )"
   ]
  },
  {
   "cell_type": "markdown",
   "metadata": {},
   "source": [
    "## Transforming  the Target Unitary"
   ]
  },
  {
   "cell_type": "code",
   "execution_count": 8,
   "metadata": {
    "ExecuteTime": {
     "end_time": "2019-01-29T06:59:20.537555Z",
     "start_time": "2019-01-29T06:59:20.534190Z"
    }
   },
   "outputs": [],
   "source": [
    "def T_maker(Ti):\n",
    "    r\"\"\"Moving the target from Hilbert space to Liouville space\"\"\"\n",
    "    T = tensor(Ti.trans(), Ti)\n",
    "    return T"
   ]
  },
  {
   "cell_type": "code",
   "execution_count": 9,
   "metadata": {
    "ExecuteTime": {
     "end_time": "2019-01-29T06:59:20.550372Z",
     "start_time": "2019-01-29T06:59:20.539700Z"
    }
   },
   "outputs": [
    {
     "data": {
      "text/latex": [
       "Quantum object: dims = [[2, 2, 2], [2, 2, 2]], shape = (8, 8), type = oper, isherm = True\\begin{equation*}\\left(\\begin{array}{*{11}c}0.0 & 0.0 & 0.0 & 1.0 & 0.0 & 0.0 & 0.0 & 0.0\\\\0.0 & 0.0 & 1.0 & 0.0 & 0.0 & 0.0 & 0.0 & 0.0\\\\0.0 & 1.0 & 0.0 & 0.0 & 0.0 & 0.0 & 0.0 & 0.0\\\\1.0 & 0.0 & 0.0 & 0.0 & 0.0 & 0.0 & 0.0 & 0.0\\\\0.0 & 0.0 & 0.0 & 0.0 & 0.0 & 0.0 & 0.0 & 1.0\\\\0.0 & 0.0 & 0.0 & 0.0 & 0.0 & 0.0 & 1.0 & 0.0\\\\0.0 & 0.0 & 0.0 & 0.0 & 0.0 & 1.0 & 0.0 & 0.0\\\\0.0 & 0.0 & 0.0 & 0.0 & 1.0 & 0.0 & 0.0 & 0.0\\\\\\end{array}\\right)\\end{equation*}"
      ],
      "text/plain": [
       "Quantum object: dims = [[2, 2, 2], [2, 2, 2]], shape = (8, 8), type = oper, isherm = True\n",
       "Qobj data =\n",
       "[[0. 0. 0. 1. 0. 0. 0. 0.]\n",
       " [0. 0. 1. 0. 0. 0. 0. 0.]\n",
       " [0. 1. 0. 0. 0. 0. 0. 0.]\n",
       " [1. 0. 0. 0. 0. 0. 0. 0.]\n",
       " [0. 0. 0. 0. 0. 0. 0. 1.]\n",
       " [0. 0. 0. 0. 0. 0. 1. 0.]\n",
       " [0. 0. 0. 0. 0. 1. 0. 0.]\n",
       " [0. 0. 0. 0. 1. 0. 0. 0.]]"
      ]
     },
     "execution_count": 9,
     "metadata": {},
     "output_type": "execute_result"
    }
   ],
   "source": [
    " tensor(identity(2), T_maker(sigmax()))"
   ]
  },
  {
   "cell_type": "markdown",
   "metadata": {},
   "source": [
    "## Building $A(t)$"
   ]
  },
  {
   "cell_type": "code",
   "execution_count": 10,
   "metadata": {
    "ExecuteTime": {
     "end_time": "2019-01-29T06:59:20.559359Z",
     "start_time": "2019-01-29T06:59:20.552989Z"
    }
   },
   "outputs": [],
   "source": [
    "def leftover(Lin):\n",
    "    r\"\"\"part of $A(t)$ that depends on Linbladian operators\"\"\"\n",
    "    d = Lin.shape[0]\n",
    "    I = identity(d)\n",
    "    term1 = tensor(Lin.trans(), Lin)\n",
    "    term2 = tensor(I, ((Lin.dag())*(Lin)))\n",
    "    term3 = tensor(((Lin.trans())*(Lin.conj())), I)\n",
    "    leftover = 1j*(0.1)*(term1 - 0.5*(term2 + term3)) #gamma = 0.1\n",
    "    return leftover\n",
    "\n",
    "\n",
    "def A(omega_1, xi, Lin):\n",
    "    r\"\"\"making $A(t)$\"\"\"\n",
    "    H = Hamil(omega_1, xi)\n",
    "    d = Lin.shape[0]\n",
    "    I = identity(d)\n",
    "    A = tensor(I, H) - tensor((H.conj()), I) + leftover(Lin)\n",
    "    return A"
   ]
  },
  {
   "cell_type": "code",
   "execution_count": 11,
   "metadata": {
    "ExecuteTime": {
     "end_time": "2019-01-29T06:59:20.571442Z",
     "start_time": "2019-01-29T06:59:20.561704Z"
    }
   },
   "outputs": [
    {
     "data": {
      "text/latex": [
       "Quantum object: dims = [[2, 2], [2, 2]], shape = (4, 4), type = oper, isherm = False\\begin{equation*}\\left(\\begin{array}{*{11}c}0.0 & -0.500j & -0.500j & 0.0\\\\0.500j & (-4.0-0.200j) & 0.0 & -0.500j\\\\0.500j & 0.0 & (4.0-0.200j) & -0.500j\\\\0.0 & 0.500j & 0.500j & 0.0\\\\\\end{array}\\right)\\end{equation*}"
      ],
      "text/plain": [
       "Quantum object: dims = [[2, 2], [2, 2]], shape = (4, 4), type = oper, isherm = False\n",
       "Qobj data =\n",
       "[[ 0.+0.j   0.-0.5j  0.-0.5j  0.+0.j ]\n",
       " [ 0.+0.5j -4.-0.2j  0.+0.j   0.-0.5j]\n",
       " [ 0.+0.5j  0.+0.j   4.-0.2j  0.-0.5j]\n",
       " [ 0.+0.j   0.+0.5j  0.+0.5j  0.+0.j ]]"
      ]
     },
     "execution_count": 11,
     "metadata": {},
     "output_type": "execute_result"
    }
   ],
   "source": [
    "A(2, 0.5, sigmaz())"
   ]
  },
  {
   "cell_type": "code",
   "execution_count": 12,
   "metadata": {
    "ExecuteTime": {
     "end_time": "2019-01-29T06:59:20.584096Z",
     "start_time": "2019-01-29T06:59:20.573499Z"
    }
   },
   "outputs": [
    {
     "data": {
      "text/latex": [
       "Quantum object: dims = [[2, 2], [2, 2]], shape = (4, 4), type = oper, isherm = False\\begin{equation*}\\left(\\begin{array}{*{11}c}0.0 & -0.500j & -0.500j & 0.0\\\\0.500j & -0.200j & 0.0 & -0.500j\\\\0.500j & 0.0 & -0.200j & -0.500j\\\\0.0 & 0.500j & 0.500j & 0.0\\\\\\end{array}\\right)\\end{equation*}"
      ],
      "text/plain": [
       "Quantum object: dims = [[2, 2], [2, 2]], shape = (4, 4), type = oper, isherm = False\n",
       "Qobj data =\n",
       "[[0.+0.j  0.-0.5j 0.-0.5j 0.+0.j ]\n",
       " [0.+0.5j 0.-0.2j 0.+0.j  0.-0.5j]\n",
       " [0.+0.5j 0.+0.j  0.-0.2j 0.-0.5j]\n",
       " [0.+0.j  0.+0.5j 0.+0.5j 0.+0.j ]]"
      ]
     },
     "execution_count": 12,
     "metadata": {},
     "output_type": "execute_result"
    }
   ],
   "source": [
    "A(0, 0.5, sigmaz())"
   ]
  },
  {
   "cell_type": "markdown",
   "metadata": {},
   "source": [
    "## Building $X_{k}$ "
   ]
  },
  {
   "cell_type": "code",
   "execution_count": 13,
   "metadata": {
    "ExecuteTime": {
     "end_time": "2019-01-29T06:59:20.589330Z",
     "start_time": "2019-01-29T06:59:20.586174Z"
    },
    "code_folding": []
   },
   "outputs": [],
   "source": [
    "def x_k(omega_1, Lin ):\n",
    "    r\"\"\"Building the derivative of $X_{k}$\"\"\"\n",
    "    d = Lin.shape[0]\n",
    "    I = identity(d)\n",
    "    x_k = tensor(I, H2()) - tensor((H2().conj()), I) #+ leftover(Lin)\n",
    "    return x_k"
   ]
  },
  {
   "cell_type": "code",
   "execution_count": 14,
   "metadata": {
    "ExecuteTime": {
     "end_time": "2019-01-29T06:59:20.599858Z",
     "start_time": "2019-01-29T06:59:20.591694Z"
    }
   },
   "outputs": [
    {
     "data": {
      "text/latex": [
       "Quantum object: dims = [[2, 2], [2, 2]], shape = (4, 4), type = oper, isherm = True\\begin{equation*}\\left(\\begin{array}{*{11}c}0.0 & -1.0j & -1.0j & 0.0\\\\1.0j & 0.0 & 0.0 & -1.0j\\\\1.0j & 0.0 & 0.0 & -1.0j\\\\0.0 & 1.0j & 1.0j & 0.0\\\\\\end{array}\\right)\\end{equation*}"
      ],
      "text/plain": [
       "Quantum object: dims = [[2, 2], [2, 2]], shape = (4, 4), type = oper, isherm = True\n",
       "Qobj data =\n",
       "[[0.+0.j 0.-1.j 0.-1.j 0.+0.j]\n",
       " [0.+1.j 0.+0.j 0.+0.j 0.-1.j]\n",
       " [0.+1.j 0.+0.j 0.+0.j 0.-1.j]\n",
       " [0.+0.j 0.+1.j 0.+1.j 0.+0.j]]"
      ]
     },
     "execution_count": 14,
     "metadata": {},
     "output_type": "execute_result"
    }
   ],
   "source": [
    "x_k(0.5, sigmaz())"
   ]
  },
  {
   "cell_type": "markdown",
   "metadata": {},
   "source": [
    "## Building $L(t)$ and the Identity in the Liouville space"
   ]
  },
  {
   "cell_type": "code",
   "execution_count": 15,
   "metadata": {
    "ExecuteTime": {
     "end_time": "2019-01-29T06:59:20.605274Z",
     "start_time": "2019-01-29T06:59:20.602247Z"
    }
   },
   "outputs": [],
   "source": [
    "def L(omega_1, xi, Lin, dt):\n",
    "    r\"\"\"Making $L(t) from $A(t)$\"\"\"\n",
    "    L = (-1j*A(omega_1, xi, Lin)*dt).expm()\n",
    "    return L"
   ]
  },
  {
   "cell_type": "code",
   "execution_count": 16,
   "metadata": {
    "ExecuteTime": {
     "end_time": "2019-01-29T06:59:20.778964Z",
     "start_time": "2019-01-29T06:59:20.607706Z"
    }
   },
   "outputs": [
    {
     "data": {
      "text/latex": [
       "Quantum object: dims = [[2, 2], [2, 2]], shape = (4, 4), type = oper, isherm = False\\begin{equation*}\\left(\\begin{array}{*{11}c}1.000 & (-0.002-9.999\\times10^{-07}j) & (-0.002+9.999\\times10^{-07}j) & 4.000\\times10^{-06}\\\\(0.002+9.999\\times10^{-07}j) & (1.000+9.998\\times10^{-04}j) & -3.999\\times10^{-06} & (-0.002-9.999\\times10^{-07}j)\\\\(0.002-9.999\\times10^{-07}j) & -3.999\\times10^{-06} & (1.000-9.998\\times10^{-04}j) & (-0.002+9.999\\times10^{-07}j)\\\\4.000\\times10^{-06} & (0.002+9.999\\times10^{-07}j) & (0.002-9.999\\times10^{-07}j) & 1.000\\\\\\end{array}\\right)\\end{equation*}"
      ],
      "text/plain": [
       "Quantum object: dims = [[2, 2], [2, 2]], shape = (4, 4), type = oper, isherm = False\n",
       "Qobj data =\n",
       "[[ 9.99996000e-01+0.00000000e+00j -1.99979435e-03-9.99865260e-07j\n",
       "  -1.99979435e-03+9.99865260e-07j  3.99972768e-06+0.00000000e+00j]\n",
       " [ 1.99979435e-03+9.99865260e-07j  9.99795521e-01+9.99797187e-04j\n",
       "  -3.99946104e-06+0.00000000e+00j -1.99979435e-03-9.99865260e-07j]\n",
       " [ 1.99979435e-03-9.99865260e-07j -3.99946104e-06+0.00000000e+00j\n",
       "   9.99795521e-01-9.99797187e-04j -1.99979435e-03+9.99865260e-07j]\n",
       " [ 3.99972768e-06+0.00000000e+00j  1.99979435e-03+9.99865260e-07j\n",
       "   1.99979435e-03-9.99865260e-07j  9.99996000e-01+0.00000000e+00j]]"
      ]
     },
     "execution_count": 16,
     "metadata": {},
     "output_type": "execute_result"
    }
   ],
   "source": [
    "L(0.5, 2, sigmaz(), 0.001)"
   ]
  },
  {
   "cell_type": "code",
   "execution_count": 17,
   "metadata": {
    "ExecuteTime": {
     "end_time": "2019-01-29T06:59:20.785450Z",
     "start_time": "2019-01-29T06:59:20.781107Z"
    }
   },
   "outputs": [],
   "source": [
    "def L_I(Ti):\n",
    "    r\"\"\"Identity in the liouville space\"\"\"\n",
    "    d = Ti.shape[0]\n",
    "    I = identity(d)\n",
    "    L_I = tensor(I, I)\n",
    "    return L_I"
   ]
  },
  {
   "cell_type": "code",
   "execution_count": 18,
   "metadata": {
    "ExecuteTime": {
     "end_time": "2019-01-29T06:59:20.794529Z",
     "start_time": "2019-01-29T06:59:20.787939Z"
    }
   },
   "outputs": [
    {
     "data": {
      "text/latex": [
       "Quantum object: dims = [[2, 2], [2, 2]], shape = (4, 4), type = oper, isherm = True\\begin{equation*}\\left(\\begin{array}{*{11}c}1.0 & 0.0 & 0.0 & 0.0\\\\0.0 & 1.0 & 0.0 & 0.0\\\\0.0 & 0.0 & 1.0 & 0.0\\\\0.0 & 0.0 & 0.0 & 1.0\\\\\\end{array}\\right)\\end{equation*}"
      ],
      "text/plain": [
       "Quantum object: dims = [[2, 2], [2, 2]], shape = (4, 4), type = oper, isherm = True\n",
       "Qobj data =\n",
       "[[1. 0. 0. 0.]\n",
       " [0. 1. 0. 0.]\n",
       " [0. 0. 1. 0.]\n",
       " [0. 0. 0. 1.]]"
      ]
     },
     "execution_count": 18,
     "metadata": {},
     "output_type": "execute_result"
    }
   ],
   "source": [
    "L_I(sigmay())"
   ]
  },
  {
   "cell_type": "markdown",
   "metadata": {},
   "source": [
    "## Major functions 1"
   ]
  },
  {
   "cell_type": "code",
   "execution_count": 19,
   "metadata": {
    "ExecuteTime": {
     "end_time": "2019-01-29T06:59:20.800134Z",
     "start_time": "2019-01-29T06:59:20.796682Z"
    }
   },
   "outputs": [],
   "source": [
    "# building the function to optimize (optimizee)\n",
    "def L_vec(omega_1, xi_vec, Lin, dt):\n",
    "    r\"\"\"Building the vector of differential $L(t)$\"\"\"\n",
    "    L_vec = [L(omega_1, xi, Lin, dt) for xi in xi_vec] \n",
    "    return L_vec"
   ]
  },
  {
   "cell_type": "code",
   "execution_count": 20,
   "metadata": {
    "ExecuteTime": {
     "end_time": "2019-01-29T06:59:20.806039Z",
     "start_time": "2019-01-29T06:59:20.802284Z"
    }
   },
   "outputs": [],
   "source": [
    "def fidelity_calc(A, B):\n",
    "    r\"\"\"Making a generalised fidelity function\"\"\"\n",
    "    d1 = A.shape[0] # Assuming no rectangular shaped matrices\n",
    "    d2 = B.shape[0] # Assuming no rectangular shaped matrices\n",
    "    d = d1*d2 # Should I normalize with this?\n",
    "    first_part = (A - B).dag()\n",
    "    second_part = (A - B)\n",
    "    f_int = (first_part* second_part)\n",
    "    f = f_int.tr()\n",
    "    return f"
   ]
  },
  {
   "cell_type": "code",
   "execution_count": 21,
   "metadata": {
    "ExecuteTime": {
     "end_time": "2019-01-29T06:59:20.813364Z",
     "start_time": "2019-01-29T06:59:20.807946Z"
    }
   },
   "outputs": [],
   "source": [
    "def L_full_maker(Ti, omega_1, xi_vec, Lin, dt):\n",
    "    r\"\"\"Building the $L(t)$ for the total time $t$\"\"\"\n",
    "    xi_vec_size = xi_vec.size # finding the size of xi\n",
    "    L_full = L_I(Ti) # Identity for the for loop of L\n",
    "    L_v = L_vec(omega_1, xi_vec, Lin, dt) # calling L_vec\n",
    "    for i in range(xi_vec_size): # generating L_full\n",
    "        L_full = L_full*L_v[xi_vec_size - 1 - i]\n",
    "    return L_full"
   ]
  },
  {
   "cell_type": "code",
   "execution_count": 22,
   "metadata": {
    "ExecuteTime": {
     "end_time": "2019-01-29T06:59:20.819361Z",
     "start_time": "2019-01-29T06:59:20.815568Z"
    }
   },
   "outputs": [],
   "source": [
    "def F(Ti, omega_1, xi_vec, Lin, dt):\n",
    "    r\"\"\"Using the fidelity metric to find out the closeness between $T$\n",
    "    and $L(t)$\"\"\"\n",
    "    L_full = L_full_maker(Ti, omega_1, xi_vec, Lin, dt)\n",
    "    T = T_maker(Ti) # Transforming $T_{i}$ to liouville space\n",
    "    F = real(-fidelity_calc(T, L_full))   \n",
    "    return F"
   ]
  },
  {
   "cell_type": "markdown",
   "metadata": {},
   "source": [
    "## Testing major functions 1"
   ]
  },
  {
   "cell_type": "code",
   "execution_count": 23,
   "metadata": {
    "ExecuteTime": {
     "end_time": "2019-01-29T06:59:20.828293Z",
     "start_time": "2019-01-29T06:59:20.821483Z"
    }
   },
   "outputs": [
    {
     "data": {
      "text/plain": [
       "4.0"
      ]
     },
     "execution_count": 23,
     "metadata": {},
     "output_type": "execute_result"
    }
   ],
   "source": [
    "fidelity_calc(sigmax(), sigmay())"
   ]
  },
  {
   "cell_type": "code",
   "execution_count": 24,
   "metadata": {
    "ExecuteTime": {
     "end_time": "2019-01-29T06:59:20.836634Z",
     "start_time": "2019-01-29T06:59:20.829905Z"
    }
   },
   "outputs": [
    {
     "data": {
      "text/plain": [
       "0.0"
      ]
     },
     "execution_count": 24,
     "metadata": {},
     "output_type": "execute_result"
    }
   ],
   "source": [
    "fidelity_calc(sigmay(), sigmay())"
   ]
  },
  {
   "cell_type": "code",
   "execution_count": 25,
   "metadata": {
    "ExecuteTime": {
     "end_time": "2019-01-29T06:59:20.843132Z",
     "start_time": "2019-01-29T06:59:20.838671Z"
    }
   },
   "outputs": [
    {
     "data": {
      "text/plain": [
       "array([1., 2.])"
      ]
     },
     "execution_count": 25,
     "metadata": {},
     "output_type": "execute_result"
    }
   ],
   "source": [
    "xi_vec_test = array([1.0, 2.0])\n",
    "xi_vec_test"
   ]
  },
  {
   "cell_type": "code",
   "execution_count": 26,
   "metadata": {
    "ExecuteTime": {
     "end_time": "2019-01-29T06:59:20.849118Z",
     "start_time": "2019-01-29T06:59:20.844572Z"
    }
   },
   "outputs": [
    {
     "data": {
      "text/plain": [
       "2"
      ]
     },
     "execution_count": 26,
     "metadata": {},
     "output_type": "execute_result"
    }
   ],
   "source": [
    "xi_vec_test.size"
   ]
  },
  {
   "cell_type": "code",
   "execution_count": 27,
   "metadata": {
    "ExecuteTime": {
     "end_time": "2019-01-29T06:59:20.857224Z",
     "start_time": "2019-01-29T06:59:20.851011Z"
    }
   },
   "outputs": [
    {
     "data": {
      "text/plain": [
       "[1.0, 4.0]"
      ]
     },
     "execution_count": 27,
     "metadata": {},
     "output_type": "execute_result"
    }
   ],
   "source": [
    "w_vec = [xi**2 for xi in xi_vec_test]\n",
    "w_vec"
   ]
  },
  {
   "cell_type": "code",
   "execution_count": 28,
   "metadata": {
    "ExecuteTime": {
     "end_time": "2019-01-29T06:59:20.877479Z",
     "start_time": "2019-01-29T06:59:20.859881Z"
    }
   },
   "outputs": [
    {
     "data": {
      "text/plain": [
       "-7.998400634493139"
      ]
     },
     "execution_count": 28,
     "metadata": {},
     "output_type": "execute_result"
    }
   ],
   "source": [
    "# F(Ti, omega_1, xi_vec, Lin, dt)\n",
    "F(sigmax(), 0.5 , xi_vec_test, sigmaz(), 0.001)"
   ]
  },
  {
   "cell_type": "markdown",
   "metadata": {},
   "source": [
    "## Major Functions 2"
   ]
  },
  {
   "cell_type": "code",
   "execution_count": 29,
   "metadata": {
    "ExecuteTime": {
     "end_time": "2019-01-29T06:59:20.884303Z",
     "start_time": "2019-01-29T06:59:20.879984Z"
    }
   },
   "outputs": [],
   "source": [
    "def L_comma_k_maker(Ti, omega_1, xi_vec, k, Lin, dt):\n",
    "    r\"\"\"Making of the derivative of full $L(t)$ at time $t_{k}$\"\"\"\n",
    "    N = xi_vec.size \n",
    "    # Determining the size of xi, and thus the time_steps indirectly.\n",
    "    L_v = L_vec(omega_1, xi_vec, Lin, dt)# Making of the full $L(t)$\n",
    "    inner_part = L_I(Ti) # Beginner for the for loop\n",
    "    for i in range(N):\n",
    "        if i == ( N - 1 - k ):\n",
    "            # The step at which $X_{k}(t)$ has to be inserted \n",
    "            inner_part = inner_part*x_k(omega_1, Lin )*L_v[k - 1]\n",
    "        else:\n",
    "            # Usual multiplications of $L_{k}$\n",
    "            inner_part = inner_part*L_v[N - 1 - i]\n",
    "    l_comma_k = inner_part\n",
    "    return l_comma_k\n",
    "    "
   ]
  },
  {
   "cell_type": "code",
   "execution_count": 30,
   "metadata": {
    "ExecuteTime": {
     "end_time": "2019-01-29T06:59:20.901701Z",
     "start_time": "2019-01-29T06:59:20.885927Z"
    }
   },
   "outputs": [
    {
     "data": {
      "text/latex": [
       "Quantum object: dims = [[2, 2], [2, 2]], shape = (4, 4), type = oper, isherm = False\\begin{equation*}\\left(\\begin{array}{*{11}c}1.000 & (-0.003-3.499\\times10^{-06}j) & (-0.003+3.499\\times10^{-06}j) & 8.999\\times10^{-06}\\\\(0.003+2.499\\times10^{-06}j) & (1.000+0.002j) & (-8.998\\times10^{-06}+2.999\\times10^{-09}j) & (-0.003-2.499\\times10^{-06}j)\\\\(0.003-2.499\\times10^{-06}j) & (-8.998\\times10^{-06}-2.999\\times10^{-09}j) & (1.000-0.002j) & (-0.003+2.499\\times10^{-06}j)\\\\8.999\\times10^{-06} & (0.003+3.499\\times10^{-06}j) & (0.003-3.499\\times10^{-06}j) & 1.000\\\\\\end{array}\\right)\\end{equation*}"
      ],
      "text/plain": [
       "Quantum object: dims = [[2, 2], [2, 2]], shape = (4, 4), type = oper, isherm = False\n",
       "Qobj data =\n",
       "[[ 9.99991001e-01+0.00000000e+00j -2.99927960e-03-3.49898670e-06j\n",
       "  -2.99927960e-03+3.49898670e-06j  8.99883703e-06+0.00000000e+00j]\n",
       " [ 2.99948056e-03+2.49939255e-06j  9.99589083e-01+1.99918650e-03j\n",
       "  -8.99750347e-06+2.99899242e-09j -2.99948056e-03-2.49939255e-06j]\n",
       " [ 2.99948056e-03-2.49939255e-06j -8.99750347e-06-2.99899242e-09j\n",
       "   9.99589083e-01-1.99918650e-03j -2.99948056e-03+2.49939255e-06j]\n",
       " [ 8.99883703e-06+0.00000000e+00j  2.99927960e-03+3.49898670e-06j\n",
       "   2.99927960e-03-3.49898670e-06j  9.99991001e-01+0.00000000e+00j]]"
      ]
     },
     "execution_count": 30,
     "metadata": {},
     "output_type": "execute_result"
    }
   ],
   "source": [
    "#L_comma_k_maker(Ti, omega_1, xi_vec, k, Lin, dt)\n",
    "L_comma_k_maker(sigmax(), 0.5 , xi_vec_test, 2, sigmaz(), 0.001)"
   ]
  },
  {
   "cell_type": "code",
   "execution_count": 31,
   "metadata": {
    "ExecuteTime": {
     "end_time": "2019-01-29T06:59:20.908669Z",
     "start_time": "2019-01-29T06:59:20.903760Z"
    }
   },
   "outputs": [],
   "source": [
    "def updater(Ti, omega_1, xi_vec, Lin, dt, epsilon):\n",
    "    r\"\"\"Implementing the GRAPE update step\"\"\"\n",
    "    xi_vec_size = xi_vec.size # finding the size of xi\n",
    "    T = T_maker(Ti) # Transforming $T_{i}$ to liouville space\n",
    "    L_full = L_full_maker(Ti, omega_1, xi_vec, Lin, dt)\n",
    "    di = []\n",
    "    for k in range(xi_vec_size):\n",
    "        # Building the thing to be added to the old function\n",
    "        L_comma_k = L_comma_k_maker(Ti, omega_1, xi_vec, k, Lin, dt)\n",
    "        differentiated = T - L_comma_k\n",
    "        plain = T - L_full\n",
    "        c = -differentiated.dag()*plain\n",
    "        d = -plain.dag()*differentiated\n",
    "        inside = c.tr() + d.tr()\n",
    "        di.append(epsilon*inside)\n",
    "\n",
    "    diff = array(di)\n",
    "    xi_new_vec = xi_vec + diff\n",
    "    return diff, xi_new_vec\n",
    "    "
   ]
  },
  {
   "cell_type": "code",
   "execution_count": 32,
   "metadata": {
    "ExecuteTime": {
     "end_time": "2019-01-29T06:59:20.943798Z",
     "start_time": "2019-01-29T06:59:20.910605Z"
    }
   },
   "outputs": [
    {
     "data": {
      "text/plain": [
       "(array([-0.008+0.j, -0.008+0.j]), array([0.992+0.j, 1.992+0.j]))"
      ]
     },
     "execution_count": 32,
     "metadata": {},
     "output_type": "execute_result"
    }
   ],
   "source": [
    "#  updater(Ti, omega_1, xi_vec, Lin, dt, epsilon)\n",
    "updater(sigmax(), 0.5 , xi_vec_test, sigmaz(), 0.001, 0.001)"
   ]
  },
  {
   "cell_type": "code",
   "execution_count": 33,
   "metadata": {
    "ExecuteTime": {
     "end_time": "2019-01-29T06:59:20.950675Z",
     "start_time": "2019-01-29T06:59:20.945811Z"
    },
    "code_folding": []
   },
   "outputs": [],
   "source": [
    "def terminator(max_iter, time_steps, Ti, omega_1, Lin, total_time, epsilon):\n",
    "    r\"\"\"Brief description of the function\"\"\"\n",
    "    \n",
    "    xi_initial =  1000*random_sample((time_steps,))\n",
    "    dt = total_time/time_steps\n",
    "    xi_diff, xi_new_vec = updater(Ti, omega_1, xi_initial, Lin, dt, epsilon)\n",
    "    \n",
    "    for i in range(max_iter):\n",
    "        if amax(xi_diff) < epsilon**2 :\n",
    "            xi_final = xi_new_vec\n",
    "            break\n",
    "        else :\n",
    "            xi_diff, xi_new_vec = updater(Ti, omega_1, xi_new_vec, Lin, dt,\n",
    "                                         epsilon)\n",
    "            print(i)\n",
    "            print(amax(xi_diff))\n",
    "            \n",
    "        \n",
    "    xi_final = xi_new_vec    \n",
    "    return xi_final"
   ]
  },
  {
   "cell_type": "code",
   "execution_count": 34,
   "metadata": {
    "ExecuteTime": {
     "end_time": "2019-01-29T06:59:20.956947Z",
     "start_time": "2019-01-29T06:59:20.953096Z"
    }
   },
   "outputs": [],
   "source": [
    "omega_1 = 0.5\n",
    "total_time = 10*pi/omega_1\n",
    "epsilon = 10**(-6)\n",
    "max_iter = 10#10**4#1000#100#50#20\n",
    "time_steps = 200\n",
    "dt = total_time/time_steps"
   ]
  },
  {
   "cell_type": "code",
   "execution_count": 35,
   "metadata": {
    "ExecuteTime": {
     "end_time": "2019-01-29T06:59:20.963239Z",
     "start_time": "2019-01-29T06:59:20.959886Z"
    }
   },
   "outputs": [],
   "source": [
    "Lin = sigmaz() # Lindbladian"
   ]
  },
  {
   "cell_type": "code",
   "execution_count": 36,
   "metadata": {
    "ExecuteTime": {
     "end_time": "2019-01-29T06:59:20.969665Z",
     "start_time": "2019-01-29T06:59:20.965724Z"
    }
   },
   "outputs": [],
   "source": [
    "Ti = sigmax() # Target unitary"
   ]
  },
  {
   "cell_type": "code",
   "execution_count": 37,
   "metadata": {
    "ExecuteTime": {
     "end_time": "2019-01-29T07:01:39.777910Z",
     "start_time": "2019-01-29T06:59:20.971331Z"
    }
   },
   "outputs": [
    {
     "data": {
      "text/plain": [
       "array([930.97090634+0.j, 268.75468507+0.j,  61.64207179+0.j,\n",
       "       504.60466155+0.j, 707.59077633+0.j, 558.79770613+0.j,\n",
       "       979.00878285+0.j, 871.38319518+0.j, 231.47224435+0.j,\n",
       "       144.19666281+0.j, 417.56991891+0.j, 142.29485423+0.j,\n",
       "       710.85485129+0.j, 203.96497447+0.j, 854.1527945 +0.j,\n",
       "       323.62032378+0.j, 260.05855921+0.j, 922.02788322+0.j,\n",
       "       335.0157563 +0.j, 600.12471758+0.j, 100.67131819+0.j,\n",
       "        34.87109008+0.j, 996.83950194+0.j, 550.10941691+0.j,\n",
       "       922.68453838+0.j, 545.84264557+0.j, 461.55939937+0.j,\n",
       "       715.71205197+0.j, 239.82286947+0.j,  79.11246712+0.j,\n",
       "       215.0648327 +0.j, 792.64646269+0.j, 984.06954327+0.j,\n",
       "       877.79576548+0.j, 599.22382656+0.j, 929.28341106+0.j,\n",
       "        90.47220466+0.j, 805.98879681+0.j, 849.23925028+0.j,\n",
       "        19.7567708 +0.j,  46.04847571+0.j, 334.68670655+0.j,\n",
       "       825.44548793+0.j, 259.71754648+0.j, 411.51209815+0.j,\n",
       "       233.5975631 +0.j,  75.7483597 +0.j, 465.85940044+0.j,\n",
       "       662.40019177+0.j,  15.42618396+0.j, 584.3352542 +0.j,\n",
       "       474.21817145+0.j, 717.97831112+0.j, 668.47384565+0.j,\n",
       "       567.83136624+0.j, 320.8426379 +0.j, 380.3063662 +0.j,\n",
       "         9.81534811+0.j, 323.79018555+0.j, 563.02764549+0.j,\n",
       "       812.65329085+0.j, 300.39653537+0.j, 278.62492363+0.j,\n",
       "       158.39401331+0.j, 350.21660052+0.j, 589.01903237+0.j,\n",
       "        50.14435336+0.j, 543.02332476+0.j, 470.17881108+0.j,\n",
       "       280.72900989+0.j,  15.20620959+0.j, 407.36165118+0.j,\n",
       "       910.43537612+0.j, 117.86216305+0.j, 378.43204707+0.j,\n",
       "       860.36862121+0.j, 837.72481103+0.j, 792.22991448+0.j,\n",
       "       128.66418767+0.j, 105.10026885+0.j,  40.64736333+0.j,\n",
       "       465.66133695+0.j, 593.60373755+0.j, 886.29667959+0.j,\n",
       "       633.03279324+0.j, 640.51798005+0.j,  17.57433437+0.j,\n",
       "       254.24140241+0.j, 797.48749083+0.j, 867.68858597+0.j,\n",
       "         6.89127754+0.j, 632.93721032+0.j, 498.96210101+0.j,\n",
       "       756.70971397+0.j, 110.9971323 +0.j, 289.90785863+0.j,\n",
       "       855.10583579+0.j, 144.78724944+0.j, 758.11446909+0.j,\n",
       "        53.260427  +0.j, 245.84817788+0.j, 969.74583545+0.j,\n",
       "       652.65461907+0.j, 128.06987766+0.j, 300.63989979+0.j,\n",
       "        82.93272677+0.j, 150.44145565+0.j, 627.67634229+0.j,\n",
       "       104.7004031 +0.j, 696.99150329+0.j, 533.4098545 +0.j,\n",
       "       962.06657714+0.j, 689.56084844+0.j, 529.85022028+0.j,\n",
       "       320.01111736+0.j, 431.86803062+0.j, 791.4383501 +0.j,\n",
       "       896.24577534+0.j, 628.58219395+0.j, 864.70281931+0.j,\n",
       "       675.55700909+0.j, 903.23925425+0.j,  24.16796859+0.j,\n",
       "       845.2605082 +0.j, 298.71450374+0.j, 860.13770113+0.j,\n",
       "       930.68650419+0.j, 502.19102958+0.j, 486.14781913+0.j,\n",
       "       677.22132504+0.j, 231.0190127 +0.j, 640.31978305+0.j,\n",
       "        14.89997275+0.j, 853.4062846 +0.j, 327.07307994+0.j,\n",
       "       568.73017395+0.j, 466.87767763+0.j,  79.61107123+0.j,\n",
       "       814.90926484+0.j, 577.21117084+0.j, 580.2614852 +0.j,\n",
       "       904.0727012 +0.j, 352.07234471+0.j, 593.99125977+0.j,\n",
       "       277.46409476+0.j, 279.92100037+0.j, 211.05352109+0.j,\n",
       "       236.53342459+0.j, 753.42456118+0.j, 911.53571934+0.j,\n",
       "       107.67567266+0.j, 248.32797921+0.j, 563.15315727+0.j,\n",
       "       733.38614405+0.j, 818.55064284+0.j, 700.94432944+0.j,\n",
       "       488.16886441+0.j, 876.6627861 +0.j, 856.49047572+0.j,\n",
       "       168.79954117+0.j, 878.3936247 +0.j, 676.57937517+0.j,\n",
       "       965.08916513+0.j, 507.50064837+0.j, 251.16692191+0.j,\n",
       "        85.96021485+0.j, 218.5478485 +0.j, 702.52337582+0.j,\n",
       "       248.44346432+0.j, 615.24198081+0.j, 791.23034403+0.j,\n",
       "       340.03845645+0.j, 206.59382436+0.j, 998.2733913 +0.j,\n",
       "       845.1089425 +0.j, 429.95549725+0.j, 749.94591701+0.j,\n",
       "        32.78946813+0.j, 883.92422759+0.j, 356.24035774+0.j,\n",
       "        31.63505671+0.j, 316.19666186+0.j, 495.45163684+0.j,\n",
       "       301.75909108+0.j, 779.31832661+0.j, 211.49684944+0.j,\n",
       "       974.08250367+0.j, 267.86744612+0.j, 392.30939045+0.j,\n",
       "       670.27241249+0.j, 897.84476346+0.j, 679.85214572+0.j,\n",
       "       437.86478083+0.j, 261.62869737+0.j, 132.65482392+0.j,\n",
       "       379.41522451+0.j,  82.11708648+0.j, 677.9692198 +0.j,\n",
       "       736.05615313+0.j, 904.47552109+0.j])"
      ]
     },
     "execution_count": 37,
     "metadata": {},
     "output_type": "execute_result"
    }
   ],
   "source": [
    "# terminator(20, 20, Ti, omega_1, Lin, total_time)\n",
    "xi_opt = terminator(max_iter, time_steps, Ti, omega_1, Lin, total_time, epsilon)\n",
    "xi_opt"
   ]
  },
  {
   "cell_type": "code",
   "execution_count": 38,
   "metadata": {
    "ExecuteTime": {
     "end_time": "2019-01-29T07:01:40.659875Z",
     "start_time": "2019-01-29T07:01:39.780529Z"
    }
   },
   "outputs": [
    {
     "data": {
      "text/plain": [
       "-2.999997914233828"
      ]
     },
     "execution_count": 38,
     "metadata": {},
     "output_type": "execute_result"
    }
   ],
   "source": [
    "F(Ti, omega_1, xi_opt, Lin, dt)"
   ]
  },
  {
   "cell_type": "code",
   "execution_count": 39,
   "metadata": {
    "ExecuteTime": {
     "end_time": "2019-01-29T07:01:40.667917Z",
     "start_time": "2019-01-29T07:01:40.662373Z"
    }
   },
   "outputs": [
    {
     "data": {
      "text/plain": [
       "10"
      ]
     },
     "execution_count": 39,
     "metadata": {},
     "output_type": "execute_result"
    }
   ],
   "source": [
    "max_iter"
   ]
  },
  {
   "cell_type": "code",
   "execution_count": 40,
   "metadata": {
    "ExecuteTime": {
     "end_time": "2019-01-29T07:01:40.676494Z",
     "start_time": "2019-01-29T07:01:40.670121Z"
    }
   },
   "outputs": [
    {
     "data": {
      "text/latex": [
       "Quantum object: dims = [[2, 2], [2, 2]], shape = (4, 4), type = oper, isherm = True\\begin{equation*}\\left(\\begin{array}{*{11}c}0.0 & 0.0 & 0.0 & 1.0\\\\0.0 & 0.0 & 1.0 & 0.0\\\\0.0 & 1.0 & 0.0 & 0.0\\\\1.0 & 0.0 & 0.0 & 0.0\\\\\\end{array}\\right)\\end{equation*}"
      ],
      "text/plain": [
       "Quantum object: dims = [[2, 2], [2, 2]], shape = (4, 4), type = oper, isherm = True\n",
       "Qobj data =\n",
       "[[0. 0. 0. 1.]\n",
       " [0. 0. 1. 0.]\n",
       " [0. 1. 0. 0.]\n",
       " [1. 0. 0. 0.]]"
      ]
     },
     "execution_count": 40,
     "metadata": {},
     "output_type": "execute_result"
    }
   ],
   "source": [
    "T = T_maker(Ti)\n",
    "T"
   ]
  },
  {
   "cell_type": "code",
   "execution_count": 41,
   "metadata": {
    "ExecuteTime": {
     "end_time": "2019-01-29T07:01:41.530940Z",
     "start_time": "2019-01-29T07:01:40.678500Z"
    }
   },
   "outputs": [
    {
     "data": {
      "text/latex": [
       "Quantum object: dims = [[2, 2], [2, 2]], shape = (4, 4), type = oper, isherm = False\\begin{equation*}\\left(\\begin{array}{*{11}c}0.500 & (-9.248\\times10^{-04}-3.980\\times10^{-06}j) & (-9.248\\times10^{-04}+3.980\\times10^{-06}j) & 0.500\\\\(9.237\\times10^{-04}+8.092\\times10^{-06}j) & (5.200\\times10^{-05}+2.744\\times10^{-06}j) & (4.840\\times10^{-05}+1.757\\times10^{-05}j) & (-9.237\\times10^{-04}-8.092\\times10^{-06}j)\\\\(9.237\\times10^{-04}-8.092\\times10^{-06}j) & (4.840\\times10^{-05}-1.757\\times10^{-05}j) & (5.200\\times10^{-05}-2.744\\times10^{-06}j) & (-9.237\\times10^{-04}+8.092\\times10^{-06}j)\\\\0.500 & (9.248\\times10^{-04}+3.980\\times10^{-06}j) & (9.248\\times10^{-04}-3.980\\times10^{-06}j) & 0.500\\\\\\end{array}\\right)\\end{equation*}"
      ],
      "text/plain": [
       "Quantum object: dims = [[2, 2], [2, 2]], shape = (4, 4), type = oper, isherm = False\n",
       "Qobj data =\n",
       "[[ 5.00046163e-01+0.00000000e+00j -9.24808667e-04-3.97976712e-06j\n",
       "  -9.24808667e-04+3.97976712e-06j  4.99953837e-01+0.00000000e+00j]\n",
       " [ 9.23660307e-04+8.09158621e-06j  5.20018740e-05+2.74446524e-06j\n",
       "   4.83979620e-05+1.75710959e-05j -9.23660307e-04-8.09158621e-06j]\n",
       " [ 9.23660307e-04-8.09158621e-06j  4.83979620e-05-1.75710959e-05j\n",
       "   5.20018740e-05-2.74446524e-06j -9.23660307e-04+8.09158621e-06j]\n",
       " [ 4.99953837e-01+0.00000000e+00j  9.24808667e-04+3.97976712e-06j\n",
       "   9.24808667e-04-3.97976712e-06j  5.00046163e-01+0.00000000e+00j]]"
      ]
     },
     "execution_count": 41,
     "metadata": {},
     "output_type": "execute_result"
    }
   ],
   "source": [
    "L_full_maker(Ti, omega_1, xi_opt, Lin, dt)"
   ]
  },
  {
   "cell_type": "code",
   "execution_count": 42,
   "metadata": {
    "ExecuteTime": {
     "end_time": "2019-01-29T07:01:42.822883Z",
     "start_time": "2019-01-29T07:01:41.532766Z"
    }
   },
   "outputs": [
    {
     "data": {
      "text/plain": [
       "(<Figure size 576x432 with 2 Axes>,\n",
       " <matplotlib.axes._subplots.AxesSubplot at 0x1a11b6fe80>)"
      ]
     },
     "execution_count": 42,
     "metadata": {},
     "output_type": "execute_result"
    },
    {
     "data": {
      "image/png": "[encoded data removed]",
      "text/plain": [
       "<Figure size 576x432 with 2 Axes>"
      ]
     },
     "metadata": {},
     "output_type": "display_data"
    }
   ],
   "source": [
    "hinton(L_full_maker(Ti, omega_1, xi_opt, Lin, dt))"
   ]
  },
  {
   "cell_type": "markdown",
   "metadata": {},
   "source": []
  },
  {
   "cell_type": "code",
   "execution_count": null,
   "metadata": {},
   "outputs": [],
   "source": []
  }
 ],
 "metadata": {
  "kernelspec": {
   "display_name": "Python 3",
   "language": "python",
   "name": "python3"
  },
  "language_info": {
   "codemirror_mode": {
    "name": "ipython",
    "version": 3
   },
   "file_extension": ".py",
   "mimetype": "text/x-python",
   "name": "python",
   "nbconvert_exporter": "python",
   "pygments_lexer": "ipython3",
   "version": "3.6.8"
  },
  "toc": {
   "base_numbering": 1,
   "nav_menu": {},
   "number_sections": true,
   "sideBar": true,
   "skip_h1_title": false,
   "title_cell": "Table of Contents",
   "title_sidebar": "Contents",
   "toc_cell": false,
   "toc_position": {},
   "toc_section_display": true,
   "toc_window_display": false
  }
 },
 "nbformat": 4,
 "nbformat_minor": 2
}
