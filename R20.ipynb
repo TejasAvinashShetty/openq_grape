{
 "cells": [
  {
   "cell_type": "markdown",
   "metadata": {},
   "source": [
    "# Imports"
   ]
  },
  {
   "cell_type": "markdown",
   "metadata": {},
   "source": [
    "## Qutip imports 1"
   ]
  },
  {
   "cell_type": "code",
   "execution_count": 1,
   "metadata": {
    "ExecuteTime": {
     "end_time": "2019-01-22T13:15:42.137237Z",
     "start_time": "2019-01-22T13:15:40.808941Z"
    }
   },
   "outputs": [],
   "source": [
    "from qutip.operators import sigmax, sigmay, sigmaz, identity\n",
    "# position, momentum, num, create, destroy, commutator, qeye \n",
    "from qutip.tensor import tensor\n",
    "from qutip.qip.gates import swap, rx, ry, rz\n",
    "from qutip.qobj import Qobj\n",
    "from qutip.visualization import hinton\n",
    "from qutip.visualization import matrix_histogram_complex, matrix_histogram\n",
    "from qutip.random_objects import rand_herm, rand_unitary, rand_dm"
   ]
  },
  {
   "cell_type": "markdown",
   "metadata": {},
   "source": [
    "\n",
    "\n",
    "## Numpy imports "
   ]
  },
  {
   "cell_type": "code",
   "execution_count": 2,
   "metadata": {
    "ExecuteTime": {
     "end_time": "2019-01-22T13:15:42.144607Z",
     "start_time": "2019-01-22T13:15:42.140023Z"
    }
   },
   "outputs": [],
   "source": [
    "from numpy import sin, cos, tan, real, imag,  log, conj\n",
    "from numpy import array, append, linspace, arange\n",
    "from numpy import add, sqrt, abs, dot\n",
    "from numpy.random import random, random_sample, random\n",
    "from numpy import concatenate, trace\n",
    "from numpy import ones, zeros, ones_like, zeros_like\n",
    "from numpy import amax, amin, nanmax, nanmin\n",
    "# from numpy import pi"
   ]
  },
  {
   "cell_type": "markdown",
   "metadata": {},
   "source": [
    "\n",
    "\n",
    "\n",
    "## Scipy imports"
   ]
  },
  {
   "cell_type": "code",
   "execution_count": 3,
   "metadata": {
    "ExecuteTime": {
     "end_time": "2019-01-22T13:15:43.094529Z",
     "start_time": "2019-01-22T13:15:43.091335Z"
    }
   },
   "outputs": [],
   "source": [
    "from scipy.integrate import ode, odeint, complex_ode\n",
    "from scipy.optimize import minimize\n",
    "from scipy.linalg import eigh, inv, norm, expm\n",
    "# from scipy.linalg import \n",
    "# from scipy import"
   ]
  },
  {
   "cell_type": "markdown",
   "metadata": {},
   "source": [
    "## Matplotlib imports"
   ]
  },
  {
   "cell_type": "code",
   "execution_count": 4,
   "metadata": {
    "ExecuteTime": {
     "end_time": "2019-01-22T13:15:44.396412Z",
     "start_time": "2019-01-22T13:15:44.390087Z"
    }
   },
   "outputs": [],
   "source": [
    "from matplotlib.pyplot import plot, figure, show, savefig, axes\n",
    "from matplotlib.pyplot import xlabel, ylabel, title, legend\n",
    "from matplotlib import rcParams\n",
    "from matplotlib.pyplot import style \n",
    "from matplotlib.pyplot import xlim, ylim, axis \n",
    "# beware not same as axes\n",
    "from matplotlib.pyplot import subplot, subplots, text\n",
    "from matplotlib.pyplot import GridSpec\n",
    "\n",
    "\n",
    "\n",
    "pgf_with_rc_fonts = {\"pgf.texsystem\": \"pdflatex\"}\n",
    "rcParams.update(pgf_with_rc_fonts)\n",
    "style.use('seaborn-whitegrid')\n",
    "\n"
   ]
  },
  {
   "cell_type": "markdown",
   "metadata": {},
   "source": [
    "## Math imports"
   ]
  },
  {
   "cell_type": "code",
   "execution_count": 5,
   "metadata": {
    "ExecuteTime": {
     "end_time": "2019-01-22T13:15:45.254249Z",
     "start_time": "2019-01-22T13:15:45.248072Z"
    }
   },
   "outputs": [],
   "source": [
    "from math import pi\n",
    "from math import exp"
   ]
  },
  {
   "cell_type": "markdown",
   "metadata": {},
   "source": [
    "## Cmath imports"
   ]
  },
  {
   "cell_type": "code",
   "execution_count": null,
   "metadata": {},
   "outputs": [],
   "source": []
  },
  {
   "cell_type": "markdown",
   "metadata": {},
   "source": [
    "## Date and datetime imports"
   ]
  },
  {
   "cell_type": "code",
   "execution_count": 6,
   "metadata": {
    "ExecuteTime": {
     "end_time": "2019-01-22T13:15:46.911276Z",
     "start_time": "2019-01-22T13:15:46.904618Z"
    }
   },
   "outputs": [],
   "source": [
    "from datetime import date\n",
    "from datetime import datetime# now\n"
   ]
  },
  {
   "cell_type": "markdown",
   "metadata": {},
   "source": [
    "## Os imports"
   ]
  },
  {
   "cell_type": "code",
   "execution_count": 7,
   "metadata": {
    "ExecuteTime": {
     "end_time": "2019-01-22T13:15:47.686169Z",
     "start_time": "2019-01-22T13:15:47.675852Z"
    }
   },
   "outputs": [],
   "source": [
    "from os import getcwd, mkdir, chdir\n",
    "from os.path import abspath, join \n"
   ]
  },
  {
   "cell_type": "markdown",
   "metadata": {},
   "source": [
    "## Sympy imports"
   ]
  },
  {
   "cell_type": "code",
   "execution_count": 8,
   "metadata": {
    "ExecuteTime": {
     "end_time": "2019-01-22T13:15:48.917307Z",
     "start_time": "2019-01-22T13:15:48.345411Z"
    }
   },
   "outputs": [],
   "source": [
    "from sympy import Function, dsolve, Eq, Derivative, symbols\n",
    "# x, y, z, t = symbols('x y z t')\n",
    "# k, m, n = symbols('k m n', integer=True)\n",
    "# f, g, h = symbols('f g h', cls=Function)"
   ]
  },
  {
   "cell_type": "markdown",
   "metadata": {},
   "source": [
    "## Miscellaneous imports"
   ]
  },
  {
   "cell_type": "code",
   "execution_count": null,
   "metadata": {},
   "outputs": [],
   "source": []
  },
  {
   "cell_type": "markdown",
   "metadata": {},
   "source": [
    "## Extra useful functions"
   ]
  },
  {
   "cell_type": "code",
   "execution_count": 9,
   "metadata": {
    "ExecuteTime": {
     "end_time": "2019-01-22T13:15:49.839826Z",
     "start_time": "2019-01-22T13:15:49.828362Z"
    }
   },
   "outputs": [],
   "source": [
    "def rint(x):\n",
    "    print(\"x = \", x)\n",
    "    return None"
   ]
  },
  {
   "cell_type": "markdown",
   "metadata": {},
   "source": [
    "# Building parts"
   ]
  },
  {
   "cell_type": "code",
   "execution_count": 10,
   "metadata": {
    "ExecuteTime": {
     "end_time": "2019-01-22T13:15:50.340223Z",
     "start_time": "2019-01-22T13:15:50.274079Z"
    }
   },
   "outputs": [
    {
     "ename": "NameError",
     "evalue": "name 'omega_1' is not defined",
     "output_type": "error",
     "traceback": [
      "\u001b[0;31m---------------------------------------------------------------------------\u001b[0m",
      "\u001b[0;31mNameError\u001b[0m                                 Traceback (most recent call last)",
      "\u001b[0;32m<ipython-input-10-3e38f81848f0>\u001b[0m in \u001b[0;36m<module>\u001b[0;34m()\u001b[0m\n\u001b[0;32m----> 1\u001b[0;31m \u001b[0;32mdel\u001b[0m \u001b[0momega_1\u001b[0m\u001b[0;34m,\u001b[0m \u001b[0mtotal_time\u001b[0m\u001b[0;34m,\u001b[0m \u001b[0mepsilon\u001b[0m\u001b[0;34m,\u001b[0m\u001b[0;34m\u001b[0m\u001b[0;34m\u001b[0m\u001b[0m\n\u001b[0m\u001b[1;32m      2\u001b[0m \u001b[0momega_1\u001b[0m \u001b[0;34m=\u001b[0m \u001b[0;36m0.5\u001b[0m\u001b[0;34m\u001b[0m\u001b[0;34m\u001b[0m\u001b[0m\n\u001b[1;32m      3\u001b[0m \u001b[0mtotal_time\u001b[0m \u001b[0;34m=\u001b[0m \u001b[0;36m2\u001b[0m\u001b[0;34m*\u001b[0m\u001b[0mpi\u001b[0m\u001b[0;34m/\u001b[0m\u001b[0momega_1\u001b[0m\u001b[0;34m\u001b[0m\u001b[0;34m\u001b[0m\u001b[0m\n\u001b[1;32m      4\u001b[0m \u001b[0mepsilon\u001b[0m \u001b[0;34m=\u001b[0m \u001b[0;36m10\u001b[0m\u001b[0;34m**\u001b[0m\u001b[0;34m(\u001b[0m\u001b[0;34m-\u001b[0m\u001b[0;36m6\u001b[0m\u001b[0;34m)\u001b[0m\u001b[0;34m\u001b[0m\u001b[0;34m\u001b[0m\u001b[0m\n\u001b[1;32m      5\u001b[0m \u001b[0mmax_iter\u001b[0m \u001b[0;34m=\u001b[0m \u001b[0;36m100\u001b[0m\u001b[0;34m\u001b[0m\u001b[0;34m\u001b[0m\u001b[0m\n",
      "\u001b[0;31mNameError\u001b[0m: name 'omega_1' is not defined"
     ]
    }
   ],
   "source": [
    " del omega_1, total_time, epsilon, \n",
    "omega_1 = 0.5\n",
    "total_time = 2*pi/omega_1\n",
    "epsilon = 10**(-6)\n",
    "max_iter = 100\n",
    "time_steps = 200\n",
    "dt = total_time/time_steps"
   ]
  },
  {
   "cell_type": "code",
   "execution_count": 11,
   "metadata": {
    "ExecuteTime": {
     "end_time": "2019-01-22T13:15:50.622108Z",
     "start_time": "2019-01-22T13:15:50.606269Z"
    }
   },
   "outputs": [
    {
     "ename": "NameError",
     "evalue": "name 'Lin' is not defined",
     "output_type": "error",
     "traceback": [
      "\u001b[0;31m---------------------------------------------------------------------------\u001b[0m",
      "\u001b[0;31mNameError\u001b[0m                                 Traceback (most recent call last)",
      "\u001b[0;32m<ipython-input-11-e6d48350e5b4>\u001b[0m in \u001b[0;36m<module>\u001b[0;34m()\u001b[0m\n\u001b[0;32m----> 1\u001b[0;31m \u001b[0;32mdel\u001b[0m \u001b[0mLin\u001b[0m\u001b[0;34m,\u001b[0m \u001b[0mTi\u001b[0m\u001b[0;34m\u001b[0m\u001b[0;34m\u001b[0m\u001b[0m\n\u001b[0m",
      "\u001b[0;31mNameError\u001b[0m: name 'Lin' is not defined"
     ]
    }
   ],
   "source": [
    "del Lin, Ti"
   ]
  },
  {
   "cell_type": "code",
   "execution_count": 12,
   "metadata": {
    "ExecuteTime": {
     "end_time": "2019-01-22T13:15:50.952498Z",
     "start_time": "2019-01-22T13:15:50.933318Z"
    }
   },
   "outputs": [
    {
     "ename": "NameError",
     "evalue": "name 'Lin' is not defined",
     "output_type": "error",
     "traceback": [
      "\u001b[0;31m---------------------------------------------------------------------------\u001b[0m",
      "\u001b[0;31mNameError\u001b[0m                                 Traceback (most recent call last)",
      "\u001b[0;32m<ipython-input-12-3ce5abe2615e>\u001b[0m in \u001b[0;36m<module>\u001b[0;34m()\u001b[0m\n\u001b[0;32m----> 1\u001b[0;31m \u001b[0mLin\u001b[0m\u001b[0;34m\u001b[0m\u001b[0;34m\u001b[0m\u001b[0m\n\u001b[0m",
      "\u001b[0;31mNameError\u001b[0m: name 'Lin' is not defined"
     ]
    }
   ],
   "source": [
    "Lin"
   ]
  },
  {
   "cell_type": "markdown",
   "metadata": {},
   "source": [
    "## level 1"
   ]
  },
  {
   "cell_type": "code",
   "execution_count": 13,
   "metadata": {
    "ExecuteTime": {
     "end_time": "2019-01-22T13:15:51.542437Z",
     "start_time": "2019-01-22T13:15:51.537226Z"
    }
   },
   "outputs": [],
   "source": [
    "def H1(omega_1):\n",
    "    r\"\"\"Brief description of the function\"\"\"\n",
    "    H1 = omega_1*sigmaz()\n",
    "    return H1\n"
   ]
  },
  {
   "cell_type": "code",
   "execution_count": 14,
   "metadata": {
    "ExecuteTime": {
     "end_time": "2019-01-22T13:15:51.866365Z",
     "start_time": "2019-01-22T13:15:51.860369Z"
    }
   },
   "outputs": [],
   "source": [
    "def H2():\n",
    "    r\"\"\"Brief description of the function\"\"\"\n",
    "    H2 = sigmay()\n",
    "    return H2"
   ]
  },
  {
   "cell_type": "code",
   "execution_count": 15,
   "metadata": {
    "ExecuteTime": {
     "end_time": "2019-01-22T13:15:52.163098Z",
     "start_time": "2019-01-22T13:15:52.151364Z"
    }
   },
   "outputs": [
    {
     "ename": "NameError",
     "evalue": "name 'I' is not defined",
     "output_type": "error",
     "traceback": [
      "\u001b[0;31m---------------------------------------------------------------------------\u001b[0m",
      "\u001b[0;31mNameError\u001b[0m                                 Traceback (most recent call last)",
      "\u001b[0;32m<ipython-input-15-7d62117bf249>\u001b[0m in \u001b[0;36m<module>\u001b[0;34m()\u001b[0m\n\u001b[1;32m      1\u001b[0m \u001b[0;31m#I = identity(2)\u001b[0m\u001b[0;34m\u001b[0m\u001b[0;34m\u001b[0m\u001b[0;34m\u001b[0m\u001b[0m\n\u001b[0;32m----> 2\u001b[0;31m \u001b[0;32mdel\u001b[0m \u001b[0mI\u001b[0m\u001b[0;34m\u001b[0m\u001b[0;34m\u001b[0m\u001b[0m\n\u001b[0m",
      "\u001b[0;31mNameError\u001b[0m: name 'I' is not defined"
     ]
    }
   ],
   "source": [
    "#I = identity(2)\n",
    "del I"
   ]
  },
  {
   "cell_type": "code",
   "execution_count": 16,
   "metadata": {
    "ExecuteTime": {
     "end_time": "2019-01-22T13:15:52.489678Z",
     "start_time": "2019-01-22T13:15:52.480342Z"
    }
   },
   "outputs": [],
   "source": [
    "def T_maker(Ti):\n",
    "    r\"\"\"Brief description of the function\"\"\"\n",
    "    T = tensor(Ti.trans(), Ti)\n",
    "    return T"
   ]
  },
  {
   "cell_type": "code",
   "execution_count": 17,
   "metadata": {
    "ExecuteTime": {
     "end_time": "2019-01-22T13:15:52.889795Z",
     "start_time": "2019-01-22T13:15:52.870674Z"
    }
   },
   "outputs": [
    {
     "data": {
      "text/latex": [
       "Quantum object: dims = [[2, 2, 2], [2, 2, 2]], shape = (8, 8), type = oper, isherm = True\\begin{equation*}\\left(\\begin{array}{*{11}c}0.0 & 0.0 & 0.0 & 1.0 & 0.0 & 0.0 & 0.0 & 0.0\\\\0.0 & 0.0 & 1.0 & 0.0 & 0.0 & 0.0 & 0.0 & 0.0\\\\0.0 & 1.0 & 0.0 & 0.0 & 0.0 & 0.0 & 0.0 & 0.0\\\\1.0 & 0.0 & 0.0 & 0.0 & 0.0 & 0.0 & 0.0 & 0.0\\\\0.0 & 0.0 & 0.0 & 0.0 & 0.0 & 0.0 & 0.0 & 1.0\\\\0.0 & 0.0 & 0.0 & 0.0 & 0.0 & 0.0 & 1.0 & 0.0\\\\0.0 & 0.0 & 0.0 & 0.0 & 0.0 & 1.0 & 0.0 & 0.0\\\\0.0 & 0.0 & 0.0 & 0.0 & 1.0 & 0.0 & 0.0 & 0.0\\\\\\end{array}\\right)\\end{equation*}"
      ],
      "text/plain": [
       "Quantum object: dims = [[2, 2, 2], [2, 2, 2]], shape = (8, 8), type = oper, isherm = True\n",
       "Qobj data =\n",
       "[[0. 0. 0. 1. 0. 0. 0. 0.]\n",
       " [0. 0. 1. 0. 0. 0. 0. 0.]\n",
       " [0. 1. 0. 0. 0. 0. 0. 0.]\n",
       " [1. 0. 0. 0. 0. 0. 0. 0.]\n",
       " [0. 0. 0. 0. 0. 0. 0. 1.]\n",
       " [0. 0. 0. 0. 0. 0. 1. 0.]\n",
       " [0. 0. 0. 0. 0. 1. 0. 0.]\n",
       " [0. 0. 0. 0. 1. 0. 0. 0.]]"
      ]
     },
     "execution_count": 17,
     "metadata": {},
     "output_type": "execute_result"
    }
   ],
   "source": [
    " tensor(identity(2), T_maker(sigmax()))"
   ]
  },
  {
   "cell_type": "markdown",
   "metadata": {},
   "source": [
    "## level 2"
   ]
  },
  {
   "cell_type": "code",
   "execution_count": 18,
   "metadata": {
    "ExecuteTime": {
     "end_time": "2019-01-22T13:15:54.243911Z",
     "start_time": "2019-01-22T13:15:54.240798Z"
    }
   },
   "outputs": [],
   "source": [
    "def Hamil(omega_1, xi):\n",
    "    H = H1(omega_1) + xi*H2()\n",
    "    return H"
   ]
  },
  {
   "cell_type": "code",
   "execution_count": 19,
   "metadata": {
    "ExecuteTime": {
     "end_time": "2019-01-22T13:15:54.659524Z",
     "start_time": "2019-01-22T13:15:54.643899Z"
    }
   },
   "outputs": [
    {
     "data": {
      "text/latex": [
       "Quantum object: dims = [[2], [2]], shape = (2, 2), type = oper, isherm = True\\begin{equation*}\\left(\\begin{array}{*{11}c}2.0 & -0.500j\\\\0.500j & -2.0\\\\\\end{array}\\right)\\end{equation*}"
      ],
      "text/plain": [
       "Quantum object: dims = [[2], [2]], shape = (2, 2), type = oper, isherm = True\n",
       "Qobj data =\n",
       "[[ 2.+0.j   0.-0.5j]\n",
       " [ 0.+0.5j -2.+0.j ]]"
      ]
     },
     "execution_count": 19,
     "metadata": {},
     "output_type": "execute_result"
    }
   ],
   "source": [
    "Hamil(2, 0.5 )"
   ]
  },
  {
   "cell_type": "code",
   "execution_count": 20,
   "metadata": {
    "ExecuteTime": {
     "end_time": "2019-01-22T13:15:55.130032Z",
     "start_time": "2019-01-22T13:15:55.125003Z"
    }
   },
   "outputs": [],
   "source": [
    "def leftover(Lin):\n",
    "    r\"\"\"Brief description of the function\"\"\"\n",
    "    d = Lin.shape[0]\n",
    "    I = identity(d)\n",
    "    term1 = tensor(Lin.trans(), Lin)\n",
    "    term2 = tensor(I, ((Lin.dag())*(Lin)))\n",
    "    term3 = tensor(((Lin.trans())*(Lin.conj())), I)\n",
    "    leftover = 1j*(0.1)*(term1 - 0.5*(term2 + term3))\n",
    "    return leftover\n",
    "\n",
    "\n",
    "def A(omega_1, xi, Lin):\n",
    "    H = Hamil(omega_1, xi)\n",
    "    d = Lin.shape[0]\n",
    "    I = identity(d)\n",
    "    A = tensor(I, H) - tensor((H.conj()), I) + leftover(Lin)\n",
    "    return A"
   ]
  },
  {
   "cell_type": "code",
   "execution_count": 21,
   "metadata": {
    "ExecuteTime": {
     "end_time": "2019-01-22T13:15:55.484107Z",
     "start_time": "2019-01-22T13:15:55.462832Z"
    }
   },
   "outputs": [
    {
     "data": {
      "text/latex": [
       "Quantum object: dims = [[2, 2], [2, 2]], shape = (4, 4), type = oper, isherm = False\\begin{equation*}\\left(\\begin{array}{*{11}c}0.0 & -0.500j & -0.500j & 0.0\\\\0.500j & (-4.0-0.200j) & 0.0 & -0.500j\\\\0.500j & 0.0 & (4.0-0.200j) & -0.500j\\\\0.0 & 0.500j & 0.500j & 0.0\\\\\\end{array}\\right)\\end{equation*}"
      ],
      "text/plain": [
       "Quantum object: dims = [[2, 2], [2, 2]], shape = (4, 4), type = oper, isherm = False\n",
       "Qobj data =\n",
       "[[ 0.+0.j   0.-0.5j  0.-0.5j  0.+0.j ]\n",
       " [ 0.+0.5j -4.-0.2j  0.+0.j   0.-0.5j]\n",
       " [ 0.+0.5j  0.+0.j   4.-0.2j  0.-0.5j]\n",
       " [ 0.+0.j   0.+0.5j  0.+0.5j  0.+0.j ]]"
      ]
     },
     "execution_count": 21,
     "metadata": {},
     "output_type": "execute_result"
    }
   ],
   "source": [
    "A(2, 0.5, sigmaz())"
   ]
  },
  {
   "cell_type": "code",
   "execution_count": 22,
   "metadata": {
    "ExecuteTime": {
     "end_time": "2019-01-22T13:15:55.936057Z",
     "start_time": "2019-01-22T13:15:55.922327Z"
    }
   },
   "outputs": [
    {
     "data": {
      "text/latex": [
       "Quantum object: dims = [[2, 2], [2, 2]], shape = (4, 4), type = oper, isherm = False\\begin{equation*}\\left(\\begin{array}{*{11}c}0.0 & -0.500j & -0.500j & 0.0\\\\0.500j & -0.200j & 0.0 & -0.500j\\\\0.500j & 0.0 & -0.200j & -0.500j\\\\0.0 & 0.500j & 0.500j & 0.0\\\\\\end{array}\\right)\\end{equation*}"
      ],
      "text/plain": [
       "Quantum object: dims = [[2, 2], [2, 2]], shape = (4, 4), type = oper, isherm = False\n",
       "Qobj data =\n",
       "[[0.+0.j  0.-0.5j 0.-0.5j 0.+0.j ]\n",
       " [0.+0.5j 0.-0.2j 0.+0.j  0.-0.5j]\n",
       " [0.+0.5j 0.+0.j  0.-0.2j 0.-0.5j]\n",
       " [0.+0.j  0.+0.5j 0.+0.5j 0.+0.j ]]"
      ]
     },
     "execution_count": 22,
     "metadata": {},
     "output_type": "execute_result"
    }
   ],
   "source": [
    "A(0, 0.5, sigmaz())"
   ]
  },
  {
   "cell_type": "code",
   "execution_count": 23,
   "metadata": {
    "ExecuteTime": {
     "end_time": "2019-01-22T13:15:56.761747Z",
     "start_time": "2019-01-22T13:15:56.752482Z"
    }
   },
   "outputs": [
    {
     "ename": "NameError",
     "evalue": "name 'I' is not defined",
     "output_type": "error",
     "traceback": [
      "\u001b[0;31m---------------------------------------------------------------------------\u001b[0m",
      "\u001b[0;31mNameError\u001b[0m                                 Traceback (most recent call last)",
      "\u001b[0;32m<ipython-input-23-bde71cc9b50e>\u001b[0m in \u001b[0;36m<module>\u001b[0;34m()\u001b[0m\n\u001b[0;32m----> 1\u001b[0;31m \u001b[0mI\u001b[0m\u001b[0;34m\u001b[0m\u001b[0;34m\u001b[0m\u001b[0m\n\u001b[0m",
      "\u001b[0;31mNameError\u001b[0m: name 'I' is not defined"
     ]
    }
   ],
   "source": [
    "I"
   ]
  },
  {
   "cell_type": "code",
   "execution_count": 24,
   "metadata": {
    "ExecuteTime": {
     "end_time": "2019-01-22T13:15:57.341738Z",
     "start_time": "2019-01-22T13:15:57.335682Z"
    },
    "code_folding": []
   },
   "outputs": [],
   "source": [
    "#term1 = tensor(Lin.trans(), Lin)\n",
    "#term2 = tensor(I, ((Lin.dag())*(Lin)))\n",
    "#term3 = tensor(((Lin.trans())*(Lin.conj())), I)\n",
    "#leftover = 1j*(0.1)*(term1 - 0.5*(term2 + term2))\n",
    "def x_k(omega_1, Lin ):\n",
    "    r\"\"\"Brief description of the function\"\"\"\n",
    "    #H11 = H1(omega_1)\n",
    "    #H2_i = H2()\n",
    "    d = Lin.shape[0]\n",
    "    I = identity(d)\n",
    "    x_k = tensor(I, H2()) - tensor((H2().conj()), I) #+ leftover(Lin)\n",
    "    return x_k\n"
   ]
  },
  {
   "cell_type": "code",
   "execution_count": 25,
   "metadata": {
    "ExecuteTime": {
     "end_time": "2019-01-22T13:15:57.910687Z",
     "start_time": "2019-01-22T13:15:57.899063Z"
    }
   },
   "outputs": [
    {
     "ename": "NameError",
     "evalue": "name 'I' is not defined",
     "output_type": "error",
     "traceback": [
      "\u001b[0;31m---------------------------------------------------------------------------\u001b[0m",
      "\u001b[0;31mNameError\u001b[0m                                 Traceback (most recent call last)",
      "\u001b[0;32m<ipython-input-25-bde71cc9b50e>\u001b[0m in \u001b[0;36m<module>\u001b[0;34m()\u001b[0m\n\u001b[0;32m----> 1\u001b[0;31m \u001b[0mI\u001b[0m\u001b[0;34m\u001b[0m\u001b[0;34m\u001b[0m\u001b[0m\n\u001b[0m",
      "\u001b[0;31mNameError\u001b[0m: name 'I' is not defined"
     ]
    }
   ],
   "source": [
    "I"
   ]
  },
  {
   "cell_type": "code",
   "execution_count": 26,
   "metadata": {
    "ExecuteTime": {
     "end_time": "2019-01-22T13:15:58.396820Z",
     "start_time": "2019-01-22T13:15:58.377940Z"
    }
   },
   "outputs": [
    {
     "data": {
      "text/latex": [
       "Quantum object: dims = [[2, 2], [2, 2]], shape = (4, 4), type = oper, isherm = True\\begin{equation*}\\left(\\begin{array}{*{11}c}0.0 & -1.0j & -1.0j & 0.0\\\\1.0j & 0.0 & 0.0 & -1.0j\\\\1.0j & 0.0 & 0.0 & -1.0j\\\\0.0 & 1.0j & 1.0j & 0.0\\\\\\end{array}\\right)\\end{equation*}"
      ],
      "text/plain": [
       "Quantum object: dims = [[2, 2], [2, 2]], shape = (4, 4), type = oper, isherm = True\n",
       "Qobj data =\n",
       "[[0.+0.j 0.-1.j 0.-1.j 0.+0.j]\n",
       " [0.+1.j 0.+0.j 0.+0.j 0.-1.j]\n",
       " [0.+1.j 0.+0.j 0.+0.j 0.-1.j]\n",
       " [0.+0.j 0.+1.j 0.+1.j 0.+0.j]]"
      ]
     },
     "execution_count": 26,
     "metadata": {},
     "output_type": "execute_result"
    }
   ],
   "source": [
    "x_k(0.5, sigmaz())"
   ]
  },
  {
   "cell_type": "code",
   "execution_count": 27,
   "metadata": {
    "ExecuteTime": {
     "end_time": "2019-01-22T13:15:58.945609Z",
     "start_time": "2019-01-22T13:15:58.942089Z"
    }
   },
   "outputs": [],
   "source": [
    "def L(omega_1, xi, Lin, dt):\n",
    "    #H = H1\n",
    "    L = (-1j*A(omega_1, xi, Lin)*dt).expm()\n",
    "    return L"
   ]
  },
  {
   "cell_type": "code",
   "execution_count": 28,
   "metadata": {
    "ExecuteTime": {
     "end_time": "2019-01-22T13:15:59.781521Z",
     "start_time": "2019-01-22T13:15:59.558699Z"
    }
   },
   "outputs": [
    {
     "data": {
      "text/latex": [
       "Quantum object: dims = [[2, 2], [2, 2]], shape = (4, 4), type = oper, isherm = False\\begin{equation*}\\left(\\begin{array}{*{11}c}1.000 & (-0.002-9.999\\times10^{-07}j) & (-0.002+9.999\\times10^{-07}j) & 4.000\\times10^{-06}\\\\(0.002+9.999\\times10^{-07}j) & (1.000+9.998\\times10^{-04}j) & -3.999\\times10^{-06} & (-0.002-9.999\\times10^{-07}j)\\\\(0.002-9.999\\times10^{-07}j) & -3.999\\times10^{-06} & (1.000-9.998\\times10^{-04}j) & (-0.002+9.999\\times10^{-07}j)\\\\4.000\\times10^{-06} & (0.002+9.999\\times10^{-07}j) & (0.002-9.999\\times10^{-07}j) & 1.000\\\\\\end{array}\\right)\\end{equation*}"
      ],
      "text/plain": [
       "Quantum object: dims = [[2, 2], [2, 2]], shape = (4, 4), type = oper, isherm = False\n",
       "Qobj data =\n",
       "[[ 9.99996000e-01+0.00000000e+00j -1.99979435e-03-9.99865260e-07j\n",
       "  -1.99979435e-03+9.99865260e-07j  3.99972768e-06+0.00000000e+00j]\n",
       " [ 1.99979435e-03+9.99865260e-07j  9.99795521e-01+9.99797187e-04j\n",
       "  -3.99946104e-06+0.00000000e+00j -1.99979435e-03-9.99865260e-07j]\n",
       " [ 1.99979435e-03-9.99865260e-07j -3.99946104e-06+0.00000000e+00j\n",
       "   9.99795521e-01-9.99797187e-04j -1.99979435e-03+9.99865260e-07j]\n",
       " [ 3.99972768e-06+0.00000000e+00j  1.99979435e-03+9.99865260e-07j\n",
       "   1.99979435e-03-9.99865260e-07j  9.99996000e-01+0.00000000e+00j]]"
      ]
     },
     "execution_count": 28,
     "metadata": {},
     "output_type": "execute_result"
    }
   ],
   "source": [
    "L(0.5, 2, sigmaz(), 0.001)"
   ]
  },
  {
   "cell_type": "code",
   "execution_count": 29,
   "metadata": {
    "ExecuteTime": {
     "end_time": "2019-01-22T13:16:00.085808Z",
     "start_time": "2019-01-22T13:16:00.079409Z"
    }
   },
   "outputs": [],
   "source": [
    "def L_I(Ti):\n",
    "    r\"\"\"Brief description of the function\"\"\"\n",
    "    d = Ti.shape[0]\n",
    "    I = identity(d)\n",
    "    L_I = tensor(I, I)\n",
    "    return L_I"
   ]
  },
  {
   "cell_type": "code",
   "execution_count": 30,
   "metadata": {
    "ExecuteTime": {
     "end_time": "2019-01-22T13:16:00.704827Z",
     "start_time": "2019-01-22T13:16:00.691464Z"
    }
   },
   "outputs": [
    {
     "data": {
      "text/latex": [
       "Quantum object: dims = [[2, 2], [2, 2]], shape = (4, 4), type = oper, isherm = True\\begin{equation*}\\left(\\begin{array}{*{11}c}1.0 & 0.0 & 0.0 & 0.0\\\\0.0 & 1.0 & 0.0 & 0.0\\\\0.0 & 0.0 & 1.0 & 0.0\\\\0.0 & 0.0 & 0.0 & 1.0\\\\\\end{array}\\right)\\end{equation*}"
      ],
      "text/plain": [
       "Quantum object: dims = [[2, 2], [2, 2]], shape = (4, 4), type = oper, isherm = True\n",
       "Qobj data =\n",
       "[[1. 0. 0. 0.]\n",
       " [0. 1. 0. 0.]\n",
       " [0. 0. 1. 0.]\n",
       " [0. 0. 0. 1.]]"
      ]
     },
     "execution_count": 30,
     "metadata": {},
     "output_type": "execute_result"
    }
   ],
   "source": [
    "L_I(sigmay())"
   ]
  },
  {
   "cell_type": "markdown",
   "metadata": {},
   "source": [
    "## parameters"
   ]
  },
  {
   "cell_type": "markdown",
   "metadata": {},
   "source": [
    "### sub sub topic 1"
   ]
  },
  {
   "cell_type": "code",
   "execution_count": 31,
   "metadata": {
    "ExecuteTime": {
     "end_time": "2019-01-22T13:16:02.629022Z",
     "start_time": "2019-01-22T13:16:02.624980Z"
    }
   },
   "outputs": [],
   "source": [
    "# building the function to optimize (optimizee)\n",
    "def L_vec(omega_1, xi_vec, Lin, dt):\n",
    "    #xi_vec_size = 2#xi_vec.size # finding the size of xi\n",
    "    L_vec = [L(omega_1, xi, Lin, dt) for xi in xi_vec] \n",
    "    # constructing L #[L(1.0), L(2.0)]\n",
    "    \n",
    "    return L_vec\n"
   ]
  },
  {
   "cell_type": "code",
   "execution_count": 32,
   "metadata": {
    "ExecuteTime": {
     "end_time": "2019-01-22T13:16:03.042431Z",
     "start_time": "2019-01-22T13:16:03.037020Z"
    }
   },
   "outputs": [],
   "source": [
    "def fidelity_calc(A, B):\n",
    "    r\"\"\"Brief description of the function\"\"\"\n",
    "    d1 = A.shape[0] # Assuming no rectangular shaped matrices\n",
    "    d2 = B.shape[0] # Assuming no rectangular shaped matrices\n",
    "    d = d1*d2\n",
    "    first_part = (A - B).dag()\n",
    "    second_part = (A - B)\n",
    "    f_int = (first_part* second_part)\n",
    "    f = f_int.tr()\n",
    "    return f"
   ]
  },
  {
   "cell_type": "code",
   "execution_count": 33,
   "metadata": {
    "ExecuteTime": {
     "end_time": "2019-01-22T13:16:03.478899Z",
     "start_time": "2019-01-22T13:16:03.467199Z"
    }
   },
   "outputs": [],
   "source": [
    "def L_full_maker(Ti, omega_1, xi_vec, Lin, dt):\n",
    "    r\"\"\"Brief description of the function\"\"\"\n",
    "    xi_vec_size = xi_vec.size # finding the size of xi\n",
    "    L_full = L_I(Ti) # Identity for the for loop of L\n",
    "    L_v = L_vec(omega_1, xi_vec, Lin, dt) # calling L_vec\n",
    "    for i in range(xi_vec_size): # generating L_full\n",
    "        L_full = L_full*L_v[xi_vec_size - 1 - i]\n",
    "    return L_full"
   ]
  },
  {
   "cell_type": "code",
   "execution_count": 34,
   "metadata": {
    "ExecuteTime": {
     "end_time": "2019-01-22T13:16:03.927996Z",
     "start_time": "2019-01-22T13:16:03.922831Z"
    }
   },
   "outputs": [],
   "source": [
    "def F(Ti, omega_1, xi_vec, Lin, dt):\n",
    "    r\"\"\"Brief description of the function\"\"\"\n",
    "    L_full = L_full_maker(Ti, omega_1, xi_vec, Lin, dt)\n",
    "    T = T_maker(Ti)\n",
    "    F = real(-fidelity_calc(T, L_full))   \n",
    "    return F"
   ]
  },
  {
   "cell_type": "code",
   "execution_count": 35,
   "metadata": {
    "ExecuteTime": {
     "end_time": "2019-01-22T13:16:04.349257Z",
     "start_time": "2019-01-22T13:16:04.340150Z"
    }
   },
   "outputs": [
    {
     "data": {
      "text/plain": [
       "4.0"
      ]
     },
     "execution_count": 35,
     "metadata": {},
     "output_type": "execute_result"
    }
   ],
   "source": [
    "fidelity_calc(sigmax(), sigmay())"
   ]
  },
  {
   "cell_type": "code",
   "execution_count": 36,
   "metadata": {
    "ExecuteTime": {
     "end_time": "2019-01-22T13:16:05.060685Z",
     "start_time": "2019-01-22T13:16:05.051774Z"
    }
   },
   "outputs": [
    {
     "data": {
      "text/plain": [
       "0.0"
      ]
     },
     "execution_count": 36,
     "metadata": {},
     "output_type": "execute_result"
    }
   ],
   "source": [
    "fidelity_calc(sigmay(), sigmay())"
   ]
  },
  {
   "cell_type": "code",
   "execution_count": 37,
   "metadata": {
    "ExecuteTime": {
     "end_time": "2019-01-22T13:16:05.615619Z",
     "start_time": "2019-01-22T13:16:05.606007Z"
    }
   },
   "outputs": [
    {
     "data": {
      "text/plain": [
       "array([1., 2.])"
      ]
     },
     "execution_count": 37,
     "metadata": {},
     "output_type": "execute_result"
    }
   ],
   "source": [
    "xi_vec_test = array([1.0, 2.0])\n",
    "xi_vec_test"
   ]
  },
  {
   "cell_type": "code",
   "execution_count": 38,
   "metadata": {
    "ExecuteTime": {
     "end_time": "2019-01-22T13:16:05.988220Z",
     "start_time": "2019-01-22T13:16:05.976871Z"
    }
   },
   "outputs": [
    {
     "data": {
      "text/plain": [
       "2"
      ]
     },
     "execution_count": 38,
     "metadata": {},
     "output_type": "execute_result"
    }
   ],
   "source": [
    "xi_vec_test.size"
   ]
  },
  {
   "cell_type": "code",
   "execution_count": 39,
   "metadata": {
    "ExecuteTime": {
     "end_time": "2019-01-22T13:16:06.354839Z",
     "start_time": "2019-01-22T13:16:06.342051Z"
    }
   },
   "outputs": [
    {
     "data": {
      "text/plain": [
       "[1.0, 4.0]"
      ]
     },
     "execution_count": 39,
     "metadata": {},
     "output_type": "execute_result"
    }
   ],
   "source": [
    "w_vec = [xi**2 for xi in xi_vec_test]\n",
    "w_vec"
   ]
  },
  {
   "cell_type": "code",
   "execution_count": 40,
   "metadata": {
    "ExecuteTime": {
     "end_time": "2019-01-22T13:16:06.691562Z",
     "start_time": "2019-01-22T13:16:06.669886Z"
    }
   },
   "outputs": [
    {
     "data": {
      "text/plain": [
       "-7.998400634493139"
      ]
     },
     "execution_count": 40,
     "metadata": {},
     "output_type": "execute_result"
    }
   ],
   "source": [
    "# F(Ti, omega_1, xi_vec, Lin, dt)\n",
    "F(sigmax(), 0.5 , xi_vec_test, sigmaz(), 0.001)"
   ]
  },
  {
   "cell_type": "code",
   "execution_count": 41,
   "metadata": {
    "ExecuteTime": {
     "end_time": "2019-01-22T13:16:06.992256Z",
     "start_time": "2019-01-22T13:16:06.987183Z"
    }
   },
   "outputs": [],
   "source": [
    "def L_comma_k_maker(Ti, omega_1, xi_vec, k, Lin, dt):\n",
    "    N = xi_vec.size\n",
    "    L_v = L_vec(omega_1, xi_vec, Lin, dt)\n",
    "    \n",
    "    inner_part = L_I(Ti)\n",
    "    for i in range(N):\n",
    "        if i == ( N - 1 - k ):\n",
    "            inner_part = inner_part*x_k(omega_1, Lin )*L_v[k - 1]\n",
    "        else:\n",
    "            inner_part = inner_part*L_v[N - 1 - i]\n",
    "    l_comma_k = inner_part\n",
    "    return l_comma_k\n",
    "    "
   ]
  },
  {
   "cell_type": "code",
   "execution_count": 42,
   "metadata": {
    "ExecuteTime": {
     "end_time": "2019-01-22T13:16:07.364051Z",
     "start_time": "2019-01-22T13:16:07.341418Z"
    }
   },
   "outputs": [
    {
     "data": {
      "text/latex": [
       "Quantum object: dims = [[2, 2], [2, 2]], shape = (4, 4), type = oper, isherm = False\\begin{equation*}\\left(\\begin{array}{*{11}c}1.000 & (-0.003-3.499\\times10^{-06}j) & (-0.003+3.499\\times10^{-06}j) & 8.999\\times10^{-06}\\\\(0.003+2.499\\times10^{-06}j) & (1.000+0.002j) & (-8.998\\times10^{-06}+2.999\\times10^{-09}j) & (-0.003-2.499\\times10^{-06}j)\\\\(0.003-2.499\\times10^{-06}j) & (-8.998\\times10^{-06}-2.999\\times10^{-09}j) & (1.000-0.002j) & (-0.003+2.499\\times10^{-06}j)\\\\8.999\\times10^{-06} & (0.003+3.499\\times10^{-06}j) & (0.003-3.499\\times10^{-06}j) & 1.000\\\\\\end{array}\\right)\\end{equation*}"
      ],
      "text/plain": [
       "Quantum object: dims = [[2, 2], [2, 2]], shape = (4, 4), type = oper, isherm = False\n",
       "Qobj data =\n",
       "[[ 9.99991001e-01+0.00000000e+00j -2.99927960e-03-3.49898670e-06j\n",
       "  -2.99927960e-03+3.49898670e-06j  8.99883703e-06+0.00000000e+00j]\n",
       " [ 2.99948056e-03+2.49939255e-06j  9.99589083e-01+1.99918650e-03j\n",
       "  -8.99750347e-06+2.99899242e-09j -2.99948056e-03-2.49939255e-06j]\n",
       " [ 2.99948056e-03-2.49939255e-06j -8.99750347e-06-2.99899242e-09j\n",
       "   9.99589083e-01-1.99918650e-03j -2.99948056e-03+2.49939255e-06j]\n",
       " [ 8.99883703e-06+0.00000000e+00j  2.99927960e-03+3.49898670e-06j\n",
       "   2.99927960e-03-3.49898670e-06j  9.99991001e-01+0.00000000e+00j]]"
      ]
     },
     "execution_count": 42,
     "metadata": {},
     "output_type": "execute_result"
    }
   ],
   "source": [
    "#L_comma_k_maker(Ti, omega_1, xi_vec, k, Lin, dt)\n",
    "L_comma_k_maker(sigmax(), 0.5 , xi_vec_test, 2, sigmaz(), 0.001)"
   ]
  },
  {
   "cell_type": "code",
   "execution_count": 45,
   "metadata": {
    "ExecuteTime": {
     "end_time": "2019-01-22T13:16:36.146016Z",
     "start_time": "2019-01-22T13:16:36.140922Z"
    }
   },
   "outputs": [],
   "source": [
    "def updater(Ti, omega_1, xi_vec, Lin, dt):\n",
    "    r\"\"\"Brief description of the function\"\"\"\n",
    "    xi_vec_size = xi_vec.size # finding the size of xi\n",
    "    T = T_maker(Ti)\n",
    "    L_full = L_full_maker(Ti, omega_1, xi_vec, Lin, dt)\n",
    "    di = []\n",
    "    for k in range(xi_vec_size):\n",
    "        L_comma_k = L_comma_k_maker(Ti, omega_1, xi_vec, k, Lin, dt)\n",
    "        differentiated = T - L_comma_k\n",
    "        plain = T - L_full\n",
    "        c = differentiated.dag()*plain\n",
    "        d = plain.dag()*differentiated\n",
    "        inside = c.tr() + d.tr()\n",
    "        di.append(epsilon*real(inside))\n",
    "\n",
    "    diff = array(di)\n",
    "    xi_new_vec = xi_vec + diff\n",
    "    return diff, xi_new_vec\n",
    "    "
   ]
  },
  {
   "cell_type": "code",
   "execution_count": 46,
   "metadata": {
    "ExecuteTime": {
     "end_time": "2019-01-22T13:16:36.943217Z",
     "start_time": "2019-01-22T13:16:36.897753Z"
    }
   },
   "outputs": [
    {
     "ename": "NameError",
     "evalue": "name 'epsilon' is not defined",
     "output_type": "error",
     "traceback": [
      "\u001b[0;31m---------------------------------------------------------------------------\u001b[0m",
      "\u001b[0;31mNameError\u001b[0m                                 Traceback (most recent call last)",
      "\u001b[0;32m<ipython-input-46-8fffc312f438>\u001b[0m in \u001b[0;36m<module>\u001b[0;34m()\u001b[0m\n\u001b[1;32m      1\u001b[0m \u001b[0;31m#  updater(Ti, omega_1, xi_vec, Lin, dt)\u001b[0m\u001b[0;34m\u001b[0m\u001b[0;34m\u001b[0m\u001b[0;34m\u001b[0m\u001b[0m\n\u001b[0;32m----> 2\u001b[0;31m \u001b[0mupdater\u001b[0m\u001b[0;34m(\u001b[0m\u001b[0msigmax\u001b[0m\u001b[0;34m(\u001b[0m\u001b[0;34m)\u001b[0m\u001b[0;34m,\u001b[0m \u001b[0;36m0.5\u001b[0m \u001b[0;34m,\u001b[0m \u001b[0mxi_vec_test\u001b[0m\u001b[0;34m,\u001b[0m \u001b[0msigmaz\u001b[0m\u001b[0;34m(\u001b[0m\u001b[0;34m)\u001b[0m\u001b[0;34m,\u001b[0m \u001b[0;36m0.001\u001b[0m\u001b[0;34m)\u001b[0m\u001b[0;34m\u001b[0m\u001b[0;34m\u001b[0m\u001b[0m\n\u001b[0m",
      "\u001b[0;32m<ipython-input-45-81f57fdfb949>\u001b[0m in \u001b[0;36mupdater\u001b[0;34m(Ti, omega_1, xi_vec, Lin, dt)\u001b[0m\n\u001b[1;32m     12\u001b[0m         \u001b[0md\u001b[0m \u001b[0;34m=\u001b[0m \u001b[0mplain\u001b[0m\u001b[0;34m.\u001b[0m\u001b[0mdag\u001b[0m\u001b[0;34m(\u001b[0m\u001b[0;34m)\u001b[0m\u001b[0;34m*\u001b[0m\u001b[0mdifferentiated\u001b[0m\u001b[0;34m\u001b[0m\u001b[0;34m\u001b[0m\u001b[0m\n\u001b[1;32m     13\u001b[0m         \u001b[0minside\u001b[0m \u001b[0;34m=\u001b[0m \u001b[0mc\u001b[0m\u001b[0;34m.\u001b[0m\u001b[0mtr\u001b[0m\u001b[0;34m(\u001b[0m\u001b[0;34m)\u001b[0m \u001b[0;34m+\u001b[0m \u001b[0md\u001b[0m\u001b[0;34m.\u001b[0m\u001b[0mtr\u001b[0m\u001b[0;34m(\u001b[0m\u001b[0;34m)\u001b[0m\u001b[0;34m\u001b[0m\u001b[0;34m\u001b[0m\u001b[0m\n\u001b[0;32m---> 14\u001b[0;31m         \u001b[0mdi\u001b[0m\u001b[0;34m.\u001b[0m\u001b[0mappend\u001b[0m\u001b[0;34m(\u001b[0m\u001b[0mepsilon\u001b[0m\u001b[0;34m*\u001b[0m\u001b[0mreal\u001b[0m\u001b[0;34m(\u001b[0m\u001b[0minside\u001b[0m\u001b[0;34m)\u001b[0m\u001b[0;34m)\u001b[0m\u001b[0;34m\u001b[0m\u001b[0;34m\u001b[0m\u001b[0m\n\u001b[0m\u001b[1;32m     15\u001b[0m \u001b[0;34m\u001b[0m\u001b[0m\n\u001b[1;32m     16\u001b[0m     \u001b[0mdiff\u001b[0m \u001b[0;34m=\u001b[0m \u001b[0marray\u001b[0m\u001b[0;34m(\u001b[0m\u001b[0mdi\u001b[0m\u001b[0;34m)\u001b[0m\u001b[0;34m\u001b[0m\u001b[0;34m\u001b[0m\u001b[0m\n",
      "\u001b[0;31mNameError\u001b[0m: name 'epsilon' is not defined"
     ]
    }
   ],
   "source": [
    "#  updater(Ti, omega_1, xi_vec, Lin, dt)\n",
    "updater(sigmax(), 0.5 , xi_vec_test, sigmaz(), 0.001)"
   ]
  },
  {
   "cell_type": "code",
   "execution_count": 47,
   "metadata": {
    "ExecuteTime": {
     "end_time": "2019-01-22T13:16:37.891918Z",
     "start_time": "2019-01-22T13:16:37.887333Z"
    },
    "code_folding": []
   },
   "outputs": [],
   "source": [
    "def terminator(max_iter, time_steps, Ti, omega_1, Lin, total_time):\n",
    "    r\"\"\"Brief description of the function\"\"\"\n",
    "    \n",
    "    xi_initial =  1000*random_sample((time_steps,))\n",
    "    dt = total_time/time_steps\n",
    "    xi_diff, xi_new_vec = updater(Ti, omega_1, xi_initial, Lin, dt)\n",
    "    \n",
    "    #xi_diff = xi_new_vec - xi_initial\n",
    "    for i in range(max_iter):\n",
    "        if amax(xi_diff) < epsilon**2 :\n",
    "            xi_final = xi_new_vec\n",
    "            break\n",
    "        else :\n",
    "            xi_diff, xi_new_vec = updater(Ti, omega_1, xi_new_vec, Lin, dt)\n",
    "            print(i)\n",
    "            print(amax(xi_diff))\n",
    "            \n",
    "        \n",
    "    xi_final = xi_new_vec    \n",
    "    return xi_final"
   ]
  },
  {
   "cell_type": "code",
   "execution_count": 75,
   "metadata": {
    "ExecuteTime": {
     "end_time": "2019-01-22T14:22:51.925662Z",
     "start_time": "2019-01-22T14:22:51.921830Z"
    }
   },
   "outputs": [],
   "source": [
    "omega_1 = 0.5\n",
    "total_time = pi/omega_1\n",
    "epsilon = 10**(-6)\n",
    "max_iter = 1000#100  #20,50\n",
    "time_steps = 20\n",
    "dt = total_time/time_steps"
   ]
  },
  {
   "cell_type": "code",
   "execution_count": 76,
   "metadata": {
    "ExecuteTime": {
     "end_time": "2019-01-22T14:22:52.528803Z",
     "start_time": "2019-01-22T14:22:52.525833Z"
    }
   },
   "outputs": [],
   "source": [
    "Lin = sigmaz() # Lindbladian"
   ]
  },
  {
   "cell_type": "code",
   "execution_count": 77,
   "metadata": {
    "ExecuteTime": {
     "end_time": "2019-01-22T14:22:52.858148Z",
     "start_time": "2019-01-22T14:22:52.854656Z"
    }
   },
   "outputs": [],
   "source": [
    "Ti = sigmax() # Target unitary"
   ]
  },
  {
   "cell_type": "code",
   "execution_count": 78,
   "metadata": {
    "ExecuteTime": {
     "end_time": "2019-01-22T14:48:15.716997Z",
     "start_time": "2019-01-22T14:22:53.149988Z"
    }
   },
   "outputs": [
    {
     "name": "stdout",
     "output_type": "stream",
     "text": [
      "0\n",
      "6.568302597840732e-06\n",
      "1\n",
      "6.568302586806693e-06\n",
      "2\n",
      "6.568302575772878e-06\n",
      "3\n",
      "6.568302564739116e-06\n",
      "4\n",
      "6.568302553705399e-06\n",
      "5\n",
      "6.568302542671427e-06\n",
      "6\n",
      "6.56830253163732e-06\n",
      "7\n",
      "6.568302520603741e-06\n",
      "8\n",
      "6.568302509569884e-06\n",
      "9\n",
      "6.568302498536282e-06\n",
      "10\n",
      "6.568302487502661e-06\n",
      "11\n",
      "6.5683024764687315e-06\n",
      "12\n",
      "6.568302465435343e-06\n",
      "13\n",
      "6.568302454402014e-06\n",
      "14\n",
      "6.5683024433681094e-06\n",
      "15\n",
      "6.568302432334852e-06\n",
      "16\n",
      "6.568302421301233e-06\n",
      "17\n",
      "6.568302410267808e-06\n",
      "18\n",
      "6.568302399234222e-06\n",
      "19\n",
      "6.568302388200924e-06\n",
      "20\n",
      "6.5683023771676286e-06\n",
      "21\n",
      "6.568302366134013e-06\n",
      "22\n",
      "6.568302355101361e-06\n",
      "23\n",
      "6.56830234406791e-06\n",
      "24\n",
      "6.568302333034619e-06\n",
      "25\n",
      "6.568302322001245e-06\n",
      "26\n",
      "6.568302310968341e-06\n",
      "27\n",
      "6.568302299934979e-06\n",
      "28\n",
      "6.568302288902125e-06\n",
      "29\n",
      "6.568302277868813e-06\n",
      "30\n",
      "6.56830226683572e-06\n",
      "31\n",
      "6.568302255802772e-06\n",
      "32\n",
      "6.568302244770029e-06\n",
      "33\n",
      "6.56830223373686e-06\n",
      "34\n",
      "6.56830222270413e-06\n",
      "35\n",
      "6.56830221167105e-06\n",
      "36\n",
      "6.568302200638387e-06\n",
      "37\n",
      "6.568302189605768e-06\n",
      "38\n",
      "6.5683021785728555e-06\n",
      "39\n",
      "6.5683021675400904e-06\n",
      "40\n",
      "6.568302156507547e-06\n",
      "41\n",
      "6.568302145474733e-06\n",
      "42\n",
      "6.5683021344421315e-06\n",
      "43\n",
      "6.568302123409715e-06\n",
      "44\n",
      "6.568302112376971e-06\n",
      "45\n",
      "6.568302101344543e-06\n",
      "46\n",
      "6.568302090312036e-06\n",
      "47\n",
      "6.5683020792795724e-06\n",
      "48\n",
      "6.568302068247064e-06\n",
      "49\n",
      "6.568302057214692e-06\n",
      "50\n",
      "6.568302046182438e-06\n",
      "51\n",
      "6.568302035150143e-06\n",
      "52\n",
      "6.5683020241180205e-06\n",
      "53\n",
      "6.5683020130858975e-06\n",
      "54\n",
      "6.568302002053418e-06\n",
      "55\n",
      "6.568301991021252e-06\n",
      "56\n",
      "6.568301979988995e-06\n",
      "57\n",
      "6.568301968957204e-06\n",
      "58\n",
      "6.568301957924977e-06\n",
      "59\n",
      "6.568301946892947e-06\n",
      "60\n",
      "6.568301935860823e-06\n",
      "61\n",
      "6.568301924828968e-06\n",
      "62\n",
      "6.568301913797169e-06\n",
      "63\n",
      "6.568301902765382e-06\n",
      "64\n",
      "6.568301891733316e-06\n",
      "65\n",
      "6.568301880701596e-06\n",
      "66\n",
      "6.568301869669892e-06\n",
      "67\n",
      "6.568301858638139e-06\n",
      "68\n",
      "6.568301847606175e-06\n",
      "69\n",
      "6.568301836574842e-06\n",
      "70\n",
      "6.568301825543184e-06\n",
      "71\n",
      "6.56830181451155e-06\n",
      "72\n",
      "6.5683018034800374e-06\n",
      "73\n",
      "6.568301792448567e-06\n",
      "74\n",
      "6.5683017814171475e-06\n",
      "75\n",
      "6.5683017703856445e-06\n",
      "76\n",
      "6.568301759354117e-06\n",
      "77\n",
      "6.5683017483227546e-06\n",
      "78\n",
      "6.568301737291726e-06\n",
      "79\n",
      "6.568301726260292e-06\n",
      "80\n",
      "6.568301715229022e-06\n",
      "81\n",
      "6.568301704197888e-06\n",
      "82\n",
      "6.568301693166607e-06\n",
      "83\n",
      "6.568301682135449e-06\n",
      "84\n",
      "6.5683016711042885e-06\n",
      "85\n",
      "6.568301660073344e-06\n",
      "86\n",
      "6.5683016490424955e-06\n",
      "87\n",
      "6.56830163801133e-06\n",
      "88\n",
      "6.568301626980601e-06\n",
      "89\n",
      "6.56830161594969e-06\n",
      "90\n",
      "6.568301604918776e-06\n",
      "91\n",
      "6.568301593887577e-06\n",
      "92\n",
      "6.5683015828570155e-06\n",
      "93\n",
      "6.56830157182618e-06\n",
      "94\n",
      "6.568301560795811e-06\n",
      "95\n",
      "6.568301549764876e-06\n",
      "96\n",
      "6.56830153873423e-06\n",
      "97\n",
      "6.5683015277037256e-06\n",
      "98\n",
      "6.568301516673367e-06\n",
      "99\n",
      "6.568301505642628e-06\n",
      "100\n",
      "6.5683014946122015e-06\n",
      "101\n",
      "6.56830148358212e-06\n",
      "102\n",
      "6.568301472551294e-06\n",
      "103\n",
      "6.5683014615208604e-06\n",
      "104\n",
      "6.568301450490516e-06\n",
      "105\n",
      "6.568301439460404e-06\n",
      "106\n",
      "6.568301428430403e-06\n",
      "107\n",
      "6.568301417400308e-06\n",
      "108\n",
      "6.568301406369676e-06\n",
      "109\n",
      "6.5683013953397995e-06\n",
      "110\n",
      "6.5683013843097585e-06\n",
      "111\n",
      "6.568301373279631e-06\n",
      "112\n",
      "6.568301362249741e-06\n",
      "113\n",
      "6.568301351220064e-06\n",
      "114\n",
      "6.568301340189798e-06\n",
      "115\n",
      "6.568301329160116e-06\n",
      "116\n",
      "6.5683013181299545e-06\n",
      "117\n",
      "6.568301307100384e-06\n",
      "118\n",
      "6.568301296070656e-06\n",
      "119\n",
      "6.56830128504089e-06\n",
      "120\n",
      "6.568301274011222e-06\n",
      "121\n",
      "6.568301262981737e-06\n",
      "122\n",
      "6.568301251951873e-06\n",
      "123\n",
      "6.568301240922334e-06\n",
      "124\n",
      "6.568301229893052e-06\n",
      "125\n",
      "6.5683012188635935e-06\n",
      "126\n",
      "6.5683012078345e-06\n",
      "127\n",
      "6.568301196805006e-06\n",
      "128\n",
      "6.568301185775274e-06\n",
      "129\n",
      "6.568301174746448e-06\n",
      "130\n",
      "6.5683011637169934e-06\n",
      "131\n",
      "6.568301152687784e-06\n",
      "132\n",
      "6.568301141658571e-06\n",
      "133\n",
      "6.568301130629339e-06\n",
      "134\n",
      "6.568301119600464e-06\n",
      "135\n",
      "6.568301108571585e-06\n",
      "136\n",
      "6.568301097542303e-06\n",
      "137\n",
      "6.568301086513539e-06\n",
      "138\n",
      "6.568301075484423e-06\n",
      "139\n",
      "6.568301064455719e-06\n",
      "140\n",
      "6.5683010534272195e-06\n",
      "141\n",
      "6.568301042398308e-06\n",
      "142\n",
      "6.568301031369253e-06\n",
      "143\n",
      "6.568301020340884e-06\n",
      "144\n",
      "6.5683010093123265e-06\n",
      "145\n",
      "6.568300998283396e-06\n",
      "146\n",
      "6.568300987254984e-06\n",
      "147\n",
      "6.568300976226377e-06\n",
      "148\n",
      "6.56830096519811e-06\n",
      "149\n",
      "6.568300954169615e-06\n",
      "150\n",
      "6.5683009431410894e-06\n",
      "151\n",
      "6.5683009321130245e-06\n",
      "152\n",
      "6.5683009210848665e-06\n",
      "153\n",
      "6.568300910056301e-06\n",
      "154\n",
      "6.56830089902823e-06\n",
      "155\n",
      "6.568300887999996e-06\n",
      "156\n",
      "6.5683008769720115e-06\n",
      "157\n",
      "6.5683008659440355e-06\n",
      "158\n",
      "6.568300854915837e-06\n",
      "159\n",
      "6.568300843887738e-06\n",
      "160\n",
      "6.568300832859947e-06\n",
      "161\n",
      "6.568300821832367e-06\n",
      "162\n",
      "6.568300810804299e-06\n",
      "163\n",
      "6.568300799776275e-06\n",
      "164\n",
      "6.568300788748531e-06\n",
      "165\n",
      "6.56830077772101e-06\n",
      "166\n",
      "6.568300766693399e-06\n",
      "167\n",
      "6.568300755665798e-06\n",
      "168\n",
      "6.568300744637959e-06\n",
      "169\n",
      "6.568300733610433e-06\n",
      "170\n",
      "6.568300722583103e-06\n",
      "171\n",
      "6.568300711555618e-06\n",
      "172\n",
      "6.568300700528414e-06\n",
      "173\n",
      "6.568300689501199e-06\n",
      "174\n",
      "6.568300678473975e-06\n",
      "175\n",
      "6.568300667446626e-06\n",
      "176\n",
      "6.568300656419275e-06\n",
      "177\n",
      "6.568300645391984e-06\n",
      "178\n",
      "6.5683006343650854e-06\n",
      "179\n",
      "6.568300623337954e-06\n",
      "180\n",
      "6.568300612311046e-06\n",
      "181\n",
      "6.568300601284135e-06\n",
      "182\n",
      "6.56830059025698e-06\n",
      "183\n",
      "6.568300579230328e-06\n",
      "184\n",
      "6.568300568203604e-06\n",
      "185\n",
      "6.568300557176699e-06\n",
      "186\n",
      "6.5683005461501674e-06\n",
      "187\n",
      "6.568300535123308e-06\n",
      "188\n",
      "6.568300524096691e-06\n",
      "189\n",
      "6.568300513070041e-06\n",
      "190\n",
      "6.56830050204326e-06\n",
      "191\n",
      "6.568300491017091e-06\n",
      "192\n",
      "6.568300479990664e-06\n",
      "193\n",
      "6.568300468964263e-06\n",
      "194\n",
      "6.5683004579378354e-06\n",
      "195\n",
      "6.568300446911422e-06\n",
      "196\n",
      "6.568300435885602e-06\n",
      "197\n",
      "6.568300424859123e-06\n",
      "198\n",
      "6.568300413833051e-06\n",
      "199\n",
      "6.568300402807035e-06\n",
      "200\n",
      "6.568300391780678e-06\n",
      "201\n",
      "6.568300380754934e-06\n",
      "202\n",
      "6.56830036972884e-06\n",
      "203\n",
      "6.568300358702812e-06\n",
      "204\n",
      "6.5683003476773985e-06\n",
      "205\n",
      "6.56830033665139e-06\n",
      "206\n",
      "6.568300325625376e-06\n",
      "207\n",
      "6.568300314599676e-06\n",
      "208\n",
      "6.568300303573862e-06\n",
      "209\n",
      "6.568300292548675e-06\n",
      "210\n",
      "6.568300281522906e-06\n",
      "211\n",
      "6.568300270497614e-06\n",
      "212\n",
      "6.5683002594717944e-06\n",
      "213\n",
      "6.56830024844639e-06\n",
      "214\n",
      "6.5683002374213e-06\n",
      "215\n",
      "6.568300226395848e-06\n",
      "216\n",
      "6.568300215370565e-06\n",
      "217\n",
      "6.568300204345683e-06\n",
      "218\n",
      "6.568300193320296e-06\n",
      "219\n",
      "6.5683001822953675e-06\n",
      "220\n",
      "6.5683001712700825e-06\n",
      "221\n",
      "6.5683001602449696e-06\n",
      "222\n",
      "6.568300149220092e-06\n",
      "223\n",
      "6.568300138195391e-06\n",
      "224\n",
      "6.568300127170415e-06\n",
      "225\n",
      "6.568300116145762e-06\n",
      "226\n",
      "6.568300105120956e-06\n",
      "227\n",
      "6.568300094096218e-06\n",
      "228\n",
      "6.568300083071404e-06\n",
      "229\n",
      "6.568300072046909e-06\n",
      "230\n",
      "6.568300061022313e-06\n",
      "231\n",
      "6.5683000499979335e-06\n",
      "232\n",
      "6.568300038973563e-06\n",
      "233\n",
      "6.568300027948893e-06\n",
      "234\n",
      "6.568300016924731e-06\n",
      "235\n",
      "6.568300005900439e-06\n",
      "236\n",
      "6.5682999948760075e-06\n",
      "237\n",
      "6.568299983851959e-06\n",
      "238\n",
      "6.568299972827677e-06\n",
      "239\n",
      "6.568299961803547e-06\n",
      "240\n",
      "6.568299950779476e-06\n",
      "241\n",
      "6.568299939755524e-06\n",
      "242\n",
      "6.568299928731637e-06\n",
      "243\n",
      "6.568299917707744e-06\n",
      "244\n",
      "6.56829990668395e-06\n",
      "245\n",
      "6.568299895660068e-06\n",
      "246\n",
      "6.5682998846366125e-06\n",
      "247\n",
      "6.568299873612774e-06\n",
      "248\n",
      "6.568299862589039e-06\n",
      "249\n",
      "6.568299851565638e-06\n",
      "250\n",
      "6.568299840542027e-06\n",
      "251\n",
      "6.568299829518769e-06\n",
      "252\n",
      "6.56829981849534e-06\n",
      "253\n",
      "6.5682998074719804e-06\n",
      "254\n",
      "6.568299796448293e-06\n",
      "255\n",
      "6.568299785425154e-06\n",
      "256\n",
      "6.568299774402154e-06\n",
      "257\n",
      "6.568299763378819e-06\n",
      "258\n",
      "6.568299752355899e-06\n",
      "259\n",
      "6.568299741332747e-06\n",
      "260\n",
      "6.56829973030979e-06\n",
      "261\n",
      "6.568299719287083e-06\n",
      "262\n",
      "6.568299708264055e-06\n",
      "263\n",
      "6.5682996972413116e-06\n",
      "264\n",
      "6.5682996862185e-06\n",
      "265\n",
      "6.568299675195757e-06\n",
      "266\n",
      "6.568299664173334e-06\n",
      "267\n",
      "6.5682996531506725e-06\n",
      "268\n",
      "6.568299642128158e-06\n",
      "269\n",
      "6.568299631105677e-06\n",
      "270\n",
      "6.56829962008331e-06\n",
      "271\n",
      "6.568299609060825e-06\n",
      "272\n",
      "6.568299598038729e-06\n",
      "273\n",
      "6.5682995870162645e-06\n",
      "274\n",
      "6.568299575994201e-06\n",
      "275\n",
      "6.568299564971938e-06\n",
      "276\n",
      "6.5682995539496246e-06\n",
      "277\n",
      "6.5682995429279065e-06\n",
      "278\n",
      "6.568299531905959e-06\n",
      "279\n",
      "6.568299520883822e-06\n",
      "280\n",
      "6.568299509862201e-06\n",
      "281\n",
      "6.568299498840241e-06\n",
      "282\n",
      "6.568299487818383e-06\n",
      "283\n",
      "6.5682994767971305e-06\n",
      "284\n",
      "6.56829946577497e-06\n",
      "285\n",
      "6.568299454753405e-06\n",
      "286\n",
      "6.5682994437319034e-06\n",
      "287\n",
      "6.568299432710589e-06\n",
      "288\n",
      "6.56829942168907e-06\n",
      "289\n",
      "6.568299410667926e-06\n",
      "290\n",
      "6.5682993996464914e-06\n",
      "291\n",
      "6.568299388625151e-06\n",
      "292\n",
      "6.568299377604153e-06\n",
      "293\n",
      "6.568299366582808e-06\n",
      "294\n",
      "6.568299355561616e-06\n",
      "295\n",
      "6.568299344540732e-06\n",
      "296\n",
      "6.568299333519789e-06\n",
      "297\n",
      "6.5682993224989475e-06\n",
      "298\n",
      "6.568299311477981e-06\n",
      "299\n",
      "6.568299300457087e-06\n",
      "300\n",
      "6.5682992894360735e-06\n",
      "301\n",
      "6.56829927841589e-06\n",
      "302\n",
      "6.5682992673951505e-06\n",
      "303\n",
      "6.5682992563744226e-06\n",
      "304\n",
      "6.568299245353912e-06\n",
      "305\n",
      "6.568299234333595e-06\n",
      "306\n",
      "6.568299223313108e-06\n",
      "307\n",
      "6.568299212293008e-06\n",
      "308\n",
      "6.568299201272686e-06\n",
      "309\n",
      "6.568299190252151e-06\n",
      "310\n",
      "6.568299179232285e-06\n",
      "311\n",
      "6.568299168212115e-06\n",
      "312\n",
      "6.5682991571921965e-06\n",
      "313\n",
      "6.568299146172243e-06\n",
      "314\n",
      "6.568299135152152e-06\n",
      "315\n",
      "6.568299124132241e-06\n",
      "316\n",
      "6.568299113112497e-06\n",
      "317\n",
      "6.5682991020925364e-06\n",
      "318\n",
      "6.5682990910731545e-06\n"
     ]
    },
    {
     "name": "stdout",
     "output_type": "stream",
     "text": [
      "319\n",
      "6.5682990800536345e-06\n",
      "320\n",
      "6.568299069033707e-06\n",
      "321\n",
      "6.568299058014595e-06\n",
      "322\n",
      "6.568299046994889e-06\n",
      "323\n",
      "6.5682990359756145e-06\n",
      "324\n",
      "6.568299024956254e-06\n",
      "325\n",
      "6.568299013937115e-06\n",
      "326\n",
      "6.568299002917742e-06\n",
      "327\n",
      "6.568298991898512e-06\n",
      "328\n",
      "6.5682989808796145e-06\n",
      "329\n",
      "6.568298969860269e-06\n",
      "330\n",
      "6.568298958841632e-06\n",
      "331\n",
      "6.568298947822663e-06\n",
      "332\n",
      "6.568298936803882e-06\n",
      "333\n",
      "6.568298925784906e-06\n",
      "334\n",
      "6.568298914765853e-06\n",
      "335\n",
      "6.568298903747644e-06\n",
      "336\n",
      "6.568298892728831e-06\n",
      "337\n",
      "6.568298881710166e-06\n",
      "338\n",
      "6.568298870692273e-06\n",
      "339\n",
      "6.568298859673355e-06\n",
      "340\n",
      "6.568298848655145e-06\n",
      "341\n",
      "6.568298837636983e-06\n",
      "342\n",
      "6.568298826618629e-06\n",
      "343\n",
      "6.56829881560054e-06\n",
      "344\n",
      "6.568298804582305e-06\n",
      "345\n",
      "6.568298793564346e-06\n",
      "346\n",
      "6.568298782546135e-06\n",
      "347\n",
      "6.5682987715282455e-06\n",
      "348\n",
      "6.568298760510426e-06\n",
      "349\n",
      "6.568298749492687e-06\n",
      "350\n",
      "6.568298738475057e-06\n",
      "351\n",
      "6.5682987274568155e-06\n",
      "352\n",
      "6.568298716439642e-06\n",
      "353\n",
      "6.568298705421984e-06\n",
      "354\n",
      "6.568298694404412e-06\n",
      "355\n",
      "6.5682986833869685e-06\n",
      "356\n",
      "6.5682986723698405e-06\n",
      "357\n",
      "6.56829866135237e-06\n",
      "358\n",
      "6.568298650335077e-06\n",
      "359\n",
      "6.5682986393181686e-06\n",
      "360\n",
      "6.568298628300815e-06\n",
      "361\n",
      "6.568298617283907e-06\n",
      "362\n",
      "6.568298606266862e-06\n",
      "363\n",
      "6.568298595249784e-06\n",
      "364\n",
      "6.568298584232824e-06\n",
      "365\n",
      "6.568298573216153e-06\n",
      "366\n",
      "6.568298562199491e-06\n",
      "367\n",
      "6.568298551182976e-06\n",
      "368\n",
      "6.568298540166486e-06\n",
      "369\n",
      "6.5682985291497016e-06\n",
      "370\n",
      "6.568298518133199e-06\n",
      "371\n",
      "6.568298507116885e-06\n",
      "372\n",
      "6.568298496100166e-06\n",
      "373\n",
      "6.568298485084313e-06\n",
      "374\n",
      "6.5682984740681875e-06\n",
      "375\n",
      "6.568298463051821e-06\n",
      "376\n",
      "6.5682984520357475e-06\n",
      "377\n",
      "6.5682984410198325e-06\n",
      "378\n",
      "6.568298430003413e-06\n",
      "379\n",
      "6.568298418987737e-06\n",
      "380\n",
      "6.568298407971902e-06\n",
      "381\n",
      "6.568298396956258e-06\n",
      "382\n",
      "6.568298385940395e-06\n",
      "383\n",
      "6.568298374924655e-06\n",
      "384\n",
      "6.568298363909251e-06\n",
      "385\n",
      "6.568298352893762e-06\n",
      "386\n",
      "6.568298341878316e-06\n",
      "387\n",
      "6.568298330862747e-06\n",
      "388\n",
      "6.568298319847429e-06\n",
      "389\n",
      "6.568298308832277e-06\n",
      "390\n",
      "6.568298297817096e-06\n",
      "391\n",
      "6.568298286802021e-06\n",
      "392\n",
      "6.5682982757869945e-06\n",
      "393\n",
      "6.5682982647719485e-06\n",
      "394\n",
      "6.568298253757016e-06\n",
      "395\n",
      "6.568298242742248e-06\n",
      "396\n",
      "6.5682982317272755e-06\n",
      "397\n",
      "6.568298220712428e-06\n",
      "398\n",
      "6.568298209698218e-06\n",
      "399\n",
      "6.568298198683473e-06\n",
      "400\n",
      "6.5682981876685095e-06\n",
      "401\n",
      "6.568298176654046e-06\n",
      "402\n",
      "6.568298165639937e-06\n",
      "403\n",
      "6.568298154625511e-06\n",
      "404\n",
      "6.568298143611336e-06\n",
      "405\n",
      "6.568298132597155e-06\n",
      "406\n",
      "6.568298121583018e-06\n",
      "407\n",
      "6.568298110568973e-06\n",
      "408\n",
      "6.56829809955503e-06\n",
      "409\n",
      "6.568298088540904e-06\n",
      "410\n",
      "6.568298077527533e-06\n",
      "411\n",
      "6.5682980665136194e-06\n",
      "412\n",
      "6.56829805549953e-06\n",
      "413\n",
      "6.568298044486091e-06\n",
      "414\n",
      "6.568298033472493e-06\n",
      "415\n",
      "6.5682980224587176e-06\n",
      "416\n",
      "6.568298011445477e-06\n",
      "417\n",
      "6.56829800043247e-06\n",
      "418\n",
      "6.56829798941877e-06\n",
      "419\n",
      "6.568297978405606e-06\n",
      "420\n",
      "6.5682979673922756e-06\n",
      "421\n",
      "6.568297956379353e-06\n",
      "422\n",
      "6.568297945366424e-06\n",
      "423\n",
      "6.568297934353255e-06\n",
      "424\n",
      "6.568297923340024e-06\n",
      "425\n",
      "6.568297912327621e-06\n",
      "426\n",
      "6.5682979013148915e-06\n",
      "427\n",
      "6.5682978903020494e-06\n",
      "428\n",
      "6.568297879289315e-06\n",
      "429\n",
      "6.568297868276882e-06\n",
      "430\n",
      "6.568297857264306e-06\n",
      "431\n",
      "6.568297846252074e-06\n",
      "432\n",
      "6.568297835239653e-06\n",
      "433\n",
      "6.5682978242273276e-06\n",
      "434\n",
      "6.5682978132149785e-06\n",
      "435\n",
      "6.568297802203264e-06\n",
      "436\n",
      "6.568297791190995e-06\n",
      "437\n",
      "6.568297780178761e-06\n",
      "438\n",
      "6.56829776916704e-06\n",
      "439\n",
      "6.568297758155042e-06\n",
      "440\n",
      "6.5682977471433915e-06\n",
      "441\n",
      "6.568297736131754e-06\n",
      "442\n",
      "6.568297725120049e-06\n",
      "443\n",
      "6.568297714108533e-06\n",
      "444\n",
      "6.5682977030969295e-06\n",
      "445\n",
      "6.568297692085492e-06\n",
      "446\n",
      "6.568297681074277e-06\n",
      "447\n",
      "6.568297670062752e-06\n",
      "448\n",
      "6.56829765905148e-06\n",
      "449\n",
      "6.5682976480403105e-06\n",
      "450\n",
      "6.568297637029452e-06\n",
      "451\n",
      "6.568297626018118e-06\n",
      "452\n",
      "6.568297615007278e-06\n",
      "453\n",
      "6.5682976039966005e-06\n",
      "454\n",
      "6.56829759298575e-06\n",
      "455\n",
      "6.568297581974908e-06\n",
      "456\n",
      "6.568297570964154e-06\n",
      "457\n",
      "6.568297559954118e-06\n",
      "458\n",
      "6.568297548943422e-06\n",
      "459\n",
      "6.5682975379330095e-06\n",
      "460\n",
      "6.568297526922266e-06\n",
      "461\n",
      "6.568297515912052e-06\n",
      "462\n",
      "6.568297504902204e-06\n",
      "463\n",
      "6.568297493891943e-06\n",
      "464\n",
      "6.56829748288197e-06\n",
      "465\n",
      "6.568297471871717e-06\n",
      "466\n",
      "6.568297460861675e-06\n",
      "467\n",
      "6.568297449851754e-06\n",
      "468\n",
      "6.568297438842047e-06\n",
      "469\n",
      "6.568297427832504e-06\n",
      "470\n",
      "6.568297416822548e-06\n",
      "471\n",
      "6.568297405813701e-06\n",
      "472\n",
      "6.568297394803652e-06\n",
      "473\n",
      "6.568297383794329e-06\n",
      "474\n",
      "6.568297372785162e-06\n",
      "475\n",
      "6.56829736177549e-06\n",
      "476\n",
      "6.56829735076661e-06\n",
      "477\n",
      "6.568297339757386e-06\n",
      "478\n",
      "6.568297328748116e-06\n",
      "479\n",
      "6.568297317739185e-06\n",
      "480\n",
      "6.568297306730585e-06\n",
      "481\n",
      "6.568297295721535e-06\n",
      "482\n",
      "6.56829728471264e-06\n",
      "483\n",
      "6.568297273704317e-06\n",
      "484\n",
      "6.568297262695351e-06\n",
      "485\n",
      "6.5682972516867275e-06\n",
      "486\n",
      "6.568297240678608e-06\n",
      "487\n",
      "6.5682972296699746e-06\n",
      "488\n",
      "6.5682972186617175e-06\n",
      "489\n",
      "6.568297207653579e-06\n",
      "490\n",
      "6.568297196645416e-06\n",
      "491\n",
      "6.568297185637287e-06\n",
      "492\n",
      "6.568297174629263e-06\n",
      "493\n",
      "6.568297163621269e-06\n",
      "494\n",
      "6.5682971526134375e-06\n",
      "495\n",
      "6.568297141605629e-06\n",
      "496\n",
      "6.568297130597954e-06\n",
      "497\n",
      "6.568297119590076e-06\n",
      "498\n",
      "6.5682971085826455e-06\n",
      "499\n",
      "6.568297097575363e-06\n",
      "500\n",
      "6.568297086567897e-06\n",
      "501\n",
      "6.568297075560822e-06\n",
      "502\n",
      "6.56829706455315e-06\n",
      "503\n",
      "6.568297053546005e-06\n",
      "504\n",
      "6.568297042539294e-06\n",
      "505\n",
      "6.5682970315318e-06\n",
      "506\n",
      "6.568297020524983e-06\n",
      "507\n",
      "6.568297009518199e-06\n",
      "508\n",
      "6.568296998511396e-06\n",
      "509\n",
      "6.5682969875042875e-06\n",
      "510\n",
      "6.568296976497834e-06\n",
      "511\n",
      "6.568296965491177e-06\n",
      "512\n",
      "6.5682969544848095e-06\n",
      "513\n",
      "6.5682969434784075e-06\n",
      "514\n",
      "6.568296932472039e-06\n",
      "515\n",
      "6.568296921465936e-06\n",
      "516\n",
      "6.568296910459845e-06\n",
      "517\n",
      "6.568296899453289e-06\n",
      "518\n",
      "6.568296888447473e-06\n",
      "519\n",
      "6.56829687744158e-06\n",
      "520\n",
      "6.568296866435444e-06\n",
      "521\n",
      "6.568296855429462e-06\n",
      "522\n",
      "6.568296844423862e-06\n",
      "523\n",
      "6.568296833418181e-06\n",
      "524\n",
      "6.568296822412789e-06\n",
      "525\n",
      "6.568296811407434e-06\n",
      "526\n",
      "6.5682968004023005e-06\n",
      "527\n",
      "6.568296789396483e-06\n",
      "528\n",
      "6.568296778391168e-06\n",
      "529\n",
      "6.568296767385932e-06\n",
      "530\n",
      "6.568296756380817e-06\n",
      "531\n",
      "6.568296745376068e-06\n",
      "532\n",
      "6.5682967343712745e-06\n",
      "533\n",
      "6.568296723366083e-06\n",
      "534\n",
      "6.5682967123612505e-06\n",
      "535\n",
      "6.568296701356565e-06\n",
      "536\n",
      "6.568296690352003e-06\n",
      "537\n",
      "6.568296679347414e-06\n",
      "538\n",
      "6.568296668343041e-06\n",
      "539\n",
      "6.568296657338484e-06\n",
      "540\n",
      "6.568296646334403e-06\n",
      "541\n",
      "6.5682966353300625e-06\n",
      "542\n",
      "6.568296624325895e-06\n",
      "543\n",
      "6.568296613321656e-06\n",
      "544\n",
      "6.568296602318066e-06\n",
      "545\n",
      "6.5682965913137e-06\n",
      "546\n",
      "6.568296580309835e-06\n",
      "547\n",
      "6.568296569306373e-06\n",
      "548\n",
      "6.568296558302498e-06\n",
      "549\n",
      "6.568296547299112e-06\n",
      "550\n",
      "6.568296536295399e-06\n",
      "551\n",
      "6.568296525291899e-06\n",
      "552\n",
      "6.568296514288752e-06\n",
      "553\n",
      "6.56829650328539e-06\n",
      "554\n",
      "6.56829649228225e-06\n",
      "555\n",
      "6.568296481278874e-06\n",
      "556\n",
      "6.568296470275834e-06\n",
      "557\n",
      "6.568296459273198e-06\n",
      "558\n",
      "6.568296448270031e-06\n",
      "559\n",
      "6.568296437267111e-06\n",
      "560\n",
      "6.568296426264826e-06\n",
      "561\n",
      "6.568296415261994e-06\n",
      "562\n",
      "6.5682964042596185e-06\n",
      "563\n",
      "6.568296393256929e-06\n",
      "564\n",
      "6.568296382254622e-06\n",
      "565\n",
      "6.568296371252278e-06\n",
      "566\n",
      "6.568296360249836e-06\n",
      "567\n",
      "6.568296349247929e-06\n",
      "568\n",
      "6.568296338246053e-06\n",
      "569\n",
      "6.568296327243676e-06\n",
      "570\n",
      "6.5682963162418085e-06\n",
      "571\n",
      "6.568296305239976e-06\n",
      "572\n",
      "6.568296294238441e-06\n",
      "573\n",
      "6.568296283236855e-06\n",
      "574\n",
      "6.568296272234967e-06\n",
      "575\n",
      "6.5682962612333705e-06\n",
      "576\n",
      "6.568296250232176e-06\n",
      "577\n",
      "6.568296239230818e-06\n",
      "578\n",
      "6.568296228229615e-06\n",
      "579\n",
      "6.5682962172287485e-06\n",
      "580\n",
      "6.568296206227176e-06\n",
      "581\n",
      "6.5682961952262714e-06\n",
      "582\n",
      "6.56829618422533e-06\n",
      "583\n",
      "6.568296173224589e-06\n",
      "584\n",
      "6.56829616222374e-06\n",
      "585\n",
      "6.568296151223356e-06\n",
      "586\n",
      "6.56829614022258e-06\n",
      "587\n",
      "6.568296129222168e-06\n",
      "588\n",
      "6.56829611822172e-06\n",
      "589\n",
      "6.56829610722145e-06\n",
      "590\n",
      "6.568296096221118e-06\n",
      "591\n",
      "6.568296085221163e-06\n",
      "592\n",
      "6.568296074221093e-06\n",
      "593\n",
      "6.568296063220957e-06\n",
      "594\n",
      "6.568296052220855e-06\n",
      "595\n",
      "6.56829604122147e-06\n",
      "596\n",
      "6.568296030221715e-06\n",
      "597\n",
      "6.568296019222052e-06\n",
      "598\n",
      "6.568296008222292e-06\n",
      "599\n",
      "6.568295997222746e-06\n",
      "600\n",
      "6.568295986223171e-06\n",
      "601\n",
      "6.568295975224015e-06\n",
      "602\n",
      "6.56829596422469e-06\n",
      "603\n",
      "6.5682959532256465e-06\n",
      "604\n",
      "6.5682959422269355e-06\n",
      "605\n",
      "6.568295931227609e-06\n",
      "606\n",
      "6.568295920228654e-06\n",
      "607\n",
      "6.568295909229794e-06\n",
      "608\n",
      "6.568295898231585e-06\n",
      "609\n",
      "6.568295887232692e-06\n",
      "610\n",
      "6.5682958762340404e-06\n",
      "611\n",
      "6.568295865235459e-06\n",
      "612\n",
      "6.5682958542370784e-06\n",
      "613\n",
      "6.5682958432387715e-06\n",
      "614\n",
      "6.5682958322407475e-06\n",
      "615\n",
      "6.568295821242263e-06\n",
      "616\n",
      "6.568295810244304e-06\n",
      "617\n",
      "6.568295799246497e-06\n",
      "618\n",
      "6.568295788248239e-06\n",
      "619\n",
      "6.568295777250834e-06\n",
      "620\n",
      "6.568295766253244e-06\n",
      "621\n",
      "6.568295755255533e-06\n",
      "622\n",
      "6.568295744257859e-06\n",
      "623\n",
      "6.568295733260663e-06\n",
      "624\n",
      "6.568295722263283e-06\n",
      "625\n",
      "6.568295711266231e-06\n",
      "626\n",
      "6.568295700268668e-06\n",
      "627\n",
      "6.568295689271766e-06\n",
      "628\n",
      "6.568295678274575e-06\n",
      "629\n",
      "6.56829566727763e-06\n",
      "630\n",
      "6.568295656280944e-06\n",
      "631\n",
      "6.568295645283901e-06\n",
      "632\n",
      "6.568295634287466e-06\n",
      "633\n",
      "6.568295623291036e-06\n"
     ]
    },
    {
     "name": "stdout",
     "output_type": "stream",
     "text": [
      "634\n",
      "6.568295612294568e-06\n",
      "635\n",
      "6.568295601297877e-06\n",
      "636\n",
      "6.5682955903019645e-06\n",
      "637\n",
      "6.568295579305849e-06\n",
      "638\n",
      "6.568295568309497e-06\n",
      "639\n",
      "6.568295557313339e-06\n",
      "640\n",
      "6.5682955463176475e-06\n",
      "641\n",
      "6.568295535321748e-06\n",
      "642\n",
      "6.568295524326057e-06\n",
      "643\n",
      "6.568295513330265e-06\n",
      "644\n",
      "6.568295502334786e-06\n",
      "645\n",
      "6.568295491339185e-06\n",
      "646\n",
      "6.568295480343781e-06\n",
      "647\n",
      "6.5682954693483066e-06\n",
      "648\n",
      "6.568295458352724e-06\n",
      "649\n",
      "6.56829544735797e-06\n",
      "650\n",
      "6.568295436362894e-06\n",
      "651\n",
      "6.568295425368091e-06\n",
      "652\n",
      "6.5682954143730765e-06\n",
      "653\n",
      "6.5682954033783415e-06\n",
      "654\n",
      "6.568295392383328e-06\n",
      "655\n",
      "6.5682953813890595e-06\n",
      "656\n",
      "6.568295370394429e-06\n",
      "657\n",
      "6.5682953593999885e-06\n",
      "658\n",
      "6.568295348405602e-06\n",
      "659\n",
      "6.568295337411319e-06\n",
      "660\n",
      "6.56829532641713e-06\n",
      "661\n",
      "6.568295315423345e-06\n",
      "662\n",
      "6.568295304429144e-06\n",
      "663\n",
      "6.56829529343507e-06\n",
      "664\n",
      "6.568295282441807e-06\n",
      "665\n",
      "6.568295271447897e-06\n",
      "666\n",
      "6.568295260453926e-06\n",
      "667\n",
      "6.568295249460488e-06\n",
      "668\n",
      "6.568295238467199e-06\n",
      "669\n",
      "6.568295227473726e-06\n",
      "670\n",
      "6.568295216480585e-06\n",
      "671\n",
      "6.568295205487379e-06\n",
      "672\n",
      "6.568295194494014e-06\n",
      "673\n",
      "6.568295183501213e-06\n",
      "674\n",
      "6.568295172508223e-06\n",
      "675\n",
      "6.568295161515571e-06\n",
      "676\n",
      "6.568295150522809e-06\n",
      "677\n",
      "6.568295139530272e-06\n",
      "678\n",
      "6.568295128537608e-06\n",
      "679\n",
      "6.5682951175453124e-06\n",
      "680\n",
      "6.568295106552827e-06\n",
      "681\n",
      "6.5682950955609e-06\n",
      "682\n",
      "6.568295084568238e-06\n",
      "683\n",
      "6.568295073576258e-06\n",
      "684\n",
      "6.568295062584663e-06\n",
      "685\n",
      "6.568295051592478e-06\n",
      "686\n",
      "6.568295040600775e-06\n",
      "687\n",
      "6.568295029609009e-06\n",
      "688\n",
      "6.568295018617309e-06\n",
      "689\n",
      "6.568295007625792e-06\n",
      "690\n",
      "6.568294996634407e-06\n",
      "691\n",
      "6.568294985642992e-06\n",
      "692\n",
      "6.5682949746518715e-06\n",
      "693\n",
      "6.568294963660832e-06\n",
      "694\n",
      "6.56829495266964e-06\n",
      "695\n",
      "6.568294941678576e-06\n",
      "696\n",
      "6.568294930687446e-06\n",
      "697\n",
      "6.568294919697123e-06\n",
      "698\n",
      "6.568294908706342e-06\n",
      "699\n",
      "6.568294897715924e-06\n",
      "700\n",
      "6.568294886725324e-06\n",
      "701\n",
      "6.568294875734743e-06\n",
      "702\n",
      "6.5682948647445516e-06\n",
      "703\n",
      "6.568294853754636e-06\n",
      "704\n",
      "6.568294842763912e-06\n",
      "705\n",
      "6.568294831774214e-06\n",
      "706\n",
      "6.568294820784276e-06\n",
      "707\n",
      "6.56829480979438e-06\n",
      "708\n",
      "6.5682947988046434e-06\n",
      "709\n",
      "6.568294787814988e-06\n",
      "710\n",
      "6.568294776825385e-06\n",
      "711\n",
      "6.568294765836057e-06\n",
      "712\n",
      "6.56829475484678e-06\n",
      "713\n",
      "6.568294743857349e-06\n",
      "714\n",
      "6.568294732867865e-06\n",
      "715\n",
      "6.568294721878826e-06\n",
      "716\n",
      "6.568294710889951e-06\n",
      "717\n",
      "6.568294699901077e-06\n",
      "718\n",
      "6.568294688912549e-06\n",
      "719\n",
      "6.568294677923568e-06\n",
      "720\n",
      "6.568294666935018e-06\n",
      "721\n",
      "6.568294655946628e-06\n",
      "722\n",
      "6.568294644958201e-06\n",
      "723\n",
      "6.568294633969636e-06\n",
      "724\n",
      "6.568294622981692e-06\n",
      "725\n",
      "6.568294611993366e-06\n",
      "726\n",
      "6.568294601005371e-06\n",
      "727\n",
      "6.568294590017579e-06\n",
      "728\n",
      "6.568294579029735e-06\n",
      "729\n",
      "6.5682945680418604e-06\n",
      "730\n",
      "6.568294557054223e-06\n",
      "731\n",
      "6.568294546066575e-06\n",
      "732\n",
      "6.56829453507929e-06\n",
      "733\n",
      "6.568294524091773e-06\n",
      "734\n",
      "6.5682945131049315e-06\n",
      "735\n",
      "6.568294502117297e-06\n",
      "736\n",
      "6.568294491130411e-06\n",
      "737\n",
      "6.568294480143783e-06\n",
      "738\n",
      "6.568294469156556e-06\n",
      "739\n",
      "6.568294458169632e-06\n",
      "740\n",
      "6.568294447183123e-06\n",
      "741\n",
      "6.568294436196421e-06\n",
      "742\n",
      "6.568294425209961e-06\n",
      "743\n",
      "6.568294414223791e-06\n",
      "744\n",
      "6.56829440323724e-06\n",
      "745\n",
      "6.568294392251037e-06\n",
      "746\n",
      "6.568294381265067e-06\n",
      "747\n",
      "6.568294370279105e-06\n",
      "748\n",
      "6.56829435929309e-06\n",
      "749\n",
      "6.568294348307286e-06\n",
      "750\n",
      "6.568294337321669e-06\n",
      "751\n",
      "6.568294326335923e-06\n",
      "752\n",
      "6.568294315350496e-06\n",
      "753\n",
      "6.568294304365207e-06\n",
      "754\n",
      "6.568294293380177e-06\n",
      "755\n",
      "6.568294282394628e-06\n",
      "756\n",
      "6.568294271409336e-06\n",
      "757\n",
      "6.568294260424072e-06\n",
      "758\n",
      "6.56829424943943e-06\n",
      "759\n",
      "6.568294238454676e-06\n",
      "760\n",
      "6.5682942274699e-06\n",
      "761\n",
      "6.5682942164853554e-06\n",
      "762\n",
      "6.5682942055007e-06\n",
      "763\n",
      "6.568294194516273e-06\n",
      "764\n",
      "6.568294183532096e-06\n",
      "765\n",
      "6.568294172547787e-06\n",
      "766\n",
      "6.568294161563706e-06\n",
      "767\n",
      "6.568294150579729e-06\n",
      "768\n",
      "6.56829413959588e-06\n",
      "769\n",
      "6.5682941286116825e-06\n",
      "770\n",
      "6.568294117628093e-06\n",
      "771\n",
      "6.568294106644505e-06\n",
      "772\n",
      "6.5682940956609844e-06\n",
      "773\n",
      "6.568294084677694e-06\n",
      "774\n",
      "6.568294073694505e-06\n",
      "775\n",
      "6.568294062711384e-06\n",
      "776\n",
      "6.568294051728066e-06\n",
      "777\n",
      "6.56829404074508e-06\n",
      "778\n",
      "6.568294029762195e-06\n",
      "779\n",
      "6.568294018779134e-06\n",
      "780\n",
      "6.56829400779656e-06\n",
      "781\n",
      "6.568293996813751e-06\n",
      "782\n",
      "6.568293985831375e-06\n",
      "783\n",
      "6.568293974848933e-06\n",
      "784\n",
      "6.568293963866512e-06\n",
      "785\n",
      "6.568293952884648e-06\n",
      "786\n",
      "6.568293941902032e-06\n",
      "787\n",
      "6.568293930920274e-06\n",
      "788\n",
      "6.568293919938398e-06\n",
      "789\n",
      "6.568293908956377e-06\n",
      "790\n",
      "6.5682938979749236e-06\n",
      "791\n",
      "6.568293886993144e-06\n",
      "792\n",
      "6.568293876011338e-06\n",
      "793\n",
      "6.568293865030478e-06\n",
      "794\n",
      "6.56829385404901e-06\n",
      "795\n",
      "6.568293843067699e-06\n",
      "796\n",
      "6.5682938320866455e-06\n",
      "797\n",
      "6.56829382110566e-06\n",
      "798\n",
      "6.5682938101244855e-06\n",
      "799\n",
      "6.568293799143959e-06\n",
      "800\n",
      "6.568293788163072e-06\n",
      "801\n",
      "6.5682937771825695e-06\n",
      "802\n",
      "6.568293766201999e-06\n",
      "803\n",
      "6.568293755221695e-06\n",
      "804\n",
      "6.568293744241746e-06\n",
      "805\n",
      "6.568293733261331e-06\n",
      "806\n",
      "6.568293722281235e-06\n",
      "807\n",
      "6.5682937113012905e-06\n",
      "808\n",
      "6.568293700321553e-06\n",
      "809\n",
      "6.568293689341825e-06\n",
      "810\n",
      "6.56829367836201e-06\n",
      "811\n",
      "6.568293667382443e-06\n",
      "812\n",
      "6.568293656403267e-06\n",
      "813\n",
      "6.568293645423494e-06\n",
      "814\n",
      "6.568293634444376e-06\n",
      "815\n",
      "6.568293623465159e-06\n",
      "816\n",
      "6.568293612485993e-06\n",
      "817\n",
      "6.568293601507127e-06\n",
      "818\n",
      "6.568293590528327e-06\n",
      "819\n",
      "6.568293579549689e-06\n",
      "820\n",
      "6.5682935685712964e-06\n",
      "821\n",
      "6.568293557592579e-06\n",
      "822\n",
      "6.568293546613727e-06\n",
      "823\n",
      "6.5682935356358755e-06\n",
      "824\n",
      "6.568293524657839e-06\n",
      "825\n",
      "6.568293513679446e-06\n",
      "826\n",
      "6.5682935027014574e-06\n",
      "827\n",
      "6.568293491723631e-06\n",
      "828\n",
      "6.568293480746195e-06\n",
      "829\n",
      "6.568293469767951e-06\n",
      "830\n",
      "6.568293458790632e-06\n",
      "831\n",
      "6.568293447813209e-06\n",
      "832\n",
      "6.568293436835873e-06\n",
      "833\n",
      "6.568293425858659e-06\n",
      "834\n",
      "6.568293414881417e-06\n",
      "835\n",
      "6.568293403904297e-06\n",
      "836\n",
      "6.568293392927378e-06\n",
      "837\n",
      "6.568293381950653e-06\n",
      "838\n",
      "6.568293370973909e-06\n",
      "839\n",
      "6.568293359997184e-06\n",
      "840\n",
      "6.568293349020489e-06\n",
      "841\n",
      "6.568293338044337e-06\n",
      "842\n",
      "6.56829332706808e-06\n",
      "843\n",
      "6.568293316091971e-06\n",
      "844\n",
      "6.56829330511583e-06\n",
      "845\n",
      "6.568293294139743e-06\n",
      "846\n",
      "6.568293283163834e-06\n",
      "847\n",
      "6.56829327218829e-06\n",
      "848\n",
      "6.56829326121238e-06\n",
      "849\n",
      "6.56829325023692e-06\n",
      "850\n",
      "6.56829323926156e-06\n",
      "851\n",
      "6.568293228286409e-06\n",
      "852\n",
      "6.5682932173110285e-06\n",
      "853\n",
      "6.5682932063356415e-06\n",
      "854\n",
      "6.568293195360566e-06\n",
      "855\n",
      "6.5682931843856856e-06\n",
      "856\n",
      "6.568293173410827e-06\n",
      "857\n",
      "6.568293162436214e-06\n",
      "858\n",
      "6.568293151461485e-06\n",
      "859\n",
      "6.568293140487158e-06\n",
      "860\n",
      "6.568293129512688e-06\n",
      "861\n",
      "6.568293118538638e-06\n",
      "862\n",
      "6.568293107564488e-06\n",
      "863\n",
      "6.5682930965902615e-06\n",
      "864\n",
      "6.5682930856162026e-06\n",
      "865\n",
      "6.568293074642349e-06\n",
      "866\n",
      "6.568293063668809e-06\n",
      "867\n",
      "6.568293052695133e-06\n",
      "868\n",
      "6.5682930417216415e-06\n",
      "869\n",
      "6.56829303074852e-06\n",
      "870\n",
      "6.568293019774836e-06\n",
      "871\n",
      "6.568293008801788e-06\n",
      "872\n",
      "6.568292997828756e-06\n",
      "873\n",
      "6.56829298685583e-06\n",
      "874\n",
      "6.568292975883104e-06\n",
      "875\n",
      "6.56829296491018e-06\n",
      "876\n",
      "6.568292953937438e-06\n",
      "877\n",
      "6.568292942964928e-06\n",
      "878\n",
      "6.56829293199236e-06\n",
      "879\n",
      "6.568292921020152e-06\n",
      "880\n",
      "6.5682929100482286e-06\n",
      "881\n",
      "6.568292899076008e-06\n",
      "882\n",
      "6.568292888104126e-06\n",
      "883\n",
      "6.568292877132064e-06\n",
      "884\n",
      "6.568292866160173e-06\n",
      "885\n",
      "6.568292855188964e-06\n",
      "886\n",
      "6.5682928442171955e-06\n",
      "887\n",
      "6.568292833245671e-06\n",
      "888\n",
      "6.56829282227441e-06\n",
      "889\n",
      "6.568292811303193e-06\n",
      "890\n",
      "6.568292800331905e-06\n",
      "891\n",
      "6.568292789361317e-06\n",
      "892\n",
      "6.568292778390085e-06\n",
      "893\n",
      "6.568292767419568e-06\n",
      "894\n",
      "6.568292756448846e-06\n",
      "895\n",
      "6.568292745478164e-06\n",
      "896\n",
      "6.5682927345077916e-06\n",
      "897\n",
      "6.568292723537492e-06\n",
      "898\n",
      "6.568292712567438e-06\n",
      "899\n",
      "6.568292701597424e-06\n",
      "900\n",
      "6.568292690626949e-06\n",
      "901\n",
      "6.568292679657435e-06\n",
      "902\n",
      "6.568292668687667e-06\n",
      "903\n",
      "6.568292657717745e-06\n",
      "904\n",
      "6.568292646748581e-06\n",
      "905\n",
      "6.568292635779082e-06\n",
      "906\n",
      "6.56829262480986e-06\n",
      "907\n",
      "6.568292613840634e-06\n",
      "908\n",
      "6.5682926028715456e-06\n",
      "909\n",
      "6.568292591902334e-06\n",
      "910\n",
      "6.568292580933583e-06\n",
      "911\n",
      "6.568292569964941e-06\n",
      "912\n",
      "6.568292558996155e-06\n",
      "913\n",
      "6.568292548027708e-06\n",
      "914\n",
      "6.568292537059248e-06\n",
      "915\n",
      "6.568292526090994e-06\n",
      "916\n",
      "6.568292515122673e-06\n",
      "917\n",
      "6.568292504154739e-06\n",
      "918\n",
      "6.5682924931864566e-06\n",
      "919\n",
      "6.568292482218622e-06\n",
      "920\n",
      "6.568292471251212e-06\n",
      "921\n",
      "6.5682924602834075e-06\n",
      "922\n",
      "6.56829244931573e-06\n",
      "923\n",
      "6.5682924383488354e-06\n",
      "924\n",
      "6.568292427381152e-06\n",
      "925\n",
      "6.568292416413987e-06\n",
      "926\n",
      "6.568292405446708e-06\n",
      "927\n",
      "6.568292394479972e-06\n",
      "928\n",
      "6.568292383513197e-06\n",
      "929\n",
      "6.568292372546549e-06\n",
      "930\n",
      "6.56829236157998e-06\n",
      "931\n",
      "6.568292350613329e-06\n",
      "932\n",
      "6.568292339646929e-06\n",
      "933\n",
      "6.568292328680899e-06\n",
      "934\n",
      "6.568292317714793e-06\n",
      "935\n",
      "6.5682923067490695e-06\n",
      "936\n",
      "6.56829229578278e-06\n",
      "937\n",
      "6.568292284816953e-06\n",
      "938\n",
      "6.568292273851338e-06\n",
      "939\n",
      "6.568292262885632e-06\n",
      "940\n",
      "6.568292251920436e-06\n",
      "941\n",
      "6.568292240954852e-06\n",
      "942\n",
      "6.5682922299897546e-06\n",
      "943\n",
      "6.568292219024578e-06\n",
      "944\n",
      "6.568292208059781e-06\n",
      "945\n",
      "6.568292197094752e-06\n",
      "946\n",
      "6.568292186130076e-06\n",
      "947\n",
      "6.568292175165497e-06\n",
      "948\n",
      "6.568292164200626e-06\n",
      "949\n",
      "6.568292153236293e-06\n"
     ]
    },
    {
     "name": "stdout",
     "output_type": "stream",
     "text": [
      "950\n",
      "6.568292142272209e-06\n",
      "951\n",
      "6.568292131307999e-06\n",
      "952\n",
      "6.568292120343885e-06\n",
      "953\n",
      "6.568292109379997e-06\n",
      "954\n",
      "6.568292098416146e-06\n",
      "955\n",
      "6.568292087452256e-06\n",
      "956\n",
      "6.568292076488993e-06\n",
      "957\n",
      "6.568292065525499e-06\n",
      "958\n",
      "6.568292054561713e-06\n",
      "959\n",
      "6.568292043598632e-06\n",
      "960\n",
      "6.568292032635586e-06\n",
      "961\n",
      "6.568292021672464e-06\n",
      "962\n",
      "6.56829201070949e-06\n",
      "963\n",
      "6.568291999746752e-06\n",
      "964\n",
      "6.56829198878404e-06\n",
      "965\n",
      "6.568291977821786e-06\n",
      "966\n",
      "6.568291966859007e-06\n",
      "967\n",
      "6.568291955896982e-06\n",
      "968\n",
      "6.568291944934774e-06\n",
      "969\n",
      "6.568291933972599e-06\n",
      "970\n",
      "6.568291923010872e-06\n",
      "971\n",
      "6.568291912048881e-06\n",
      "972\n",
      "6.568291901086851e-06\n",
      "973\n",
      "6.568291890125342e-06\n",
      "974\n",
      "6.5682918791641255e-06\n",
      "975\n",
      "6.568291868202731e-06\n",
      "976\n",
      "6.5682918572415135e-06\n",
      "977\n",
      "6.568291846280098e-06\n",
      "978\n",
      "6.568291835319015e-06\n",
      "979\n",
      "6.568291824358156e-06\n",
      "980\n",
      "6.568291813397783e-06\n",
      "981\n",
      "6.568291802437066e-06\n",
      "982\n",
      "6.568291791476619e-06\n",
      "983\n",
      "6.568291780516026e-06\n",
      "984\n",
      "6.568291769555607e-06\n",
      "985\n",
      "6.5682917585954144e-06\n",
      "986\n",
      "6.568291747635555e-06\n",
      "987\n",
      "6.568291736675448e-06\n",
      "988\n",
      "6.568291725715608e-06\n",
      "989\n",
      "6.568291714756028e-06\n",
      "990\n",
      "6.568291703796282e-06\n",
      "991\n",
      "6.568291692836939e-06\n",
      "992\n",
      "6.568291681877689e-06\n",
      "993\n",
      "6.568291670918123e-06\n",
      "994\n",
      "6.568291659958887e-06\n",
      "995\n",
      "6.568291649000262e-06\n",
      "996\n",
      "6.568291638041171e-06\n",
      "997\n",
      "6.5682916270825346e-06\n",
      "998\n",
      "6.568291616123896e-06\n",
      "999\n",
      "6.568291605165331e-06\n"
     ]
    },
    {
     "data": {
      "text/plain": [
       "array([672.20170339, 833.65739636, 679.92574559, 474.28082244,\n",
       "       460.64824687, 663.15453015, 767.50774985, 257.32403908,\n",
       "        67.13784043, 854.9536184 , 239.56565343, 811.58710705,\n",
       "       532.0299296 , 585.26909793, 415.11381088, 315.4078595 ,\n",
       "       831.5440831 , 918.56895243, 668.24571025, 817.04990173])"
      ]
     },
     "execution_count": 78,
     "metadata": {},
     "output_type": "execute_result"
    }
   ],
   "source": [
    "# terminator(20, 20, Ti, omega_1, Lin, total_time)\n",
    "xi_opt = terminator(max_iter, time_steps, Ti, omega_1, Lin, total_time)\n",
    "xi_opt"
   ]
  },
  {
   "cell_type": "code",
   "execution_count": 79,
   "metadata": {
    "ExecuteTime": {
     "end_time": "2019-01-22T14:48:15.822546Z",
     "start_time": "2019-01-22T14:48:15.719608Z"
    }
   },
   "outputs": [
    {
     "data": {
      "text/plain": [
       "-4.218505524351835"
      ]
     },
     "execution_count": 79,
     "metadata": {},
     "output_type": "execute_result"
    }
   ],
   "source": [
    "F(Ti, omega_1, xi_opt, Lin, dt)"
   ]
  },
  {
   "cell_type": "code",
   "execution_count": 80,
   "metadata": {
    "ExecuteTime": {
     "end_time": "2019-01-22T14:48:15.831010Z",
     "start_time": "2019-01-22T14:48:15.825501Z"
    }
   },
   "outputs": [
    {
     "data": {
      "text/plain": [
       "1000"
      ]
     },
     "execution_count": 80,
     "metadata": {},
     "output_type": "execute_result"
    }
   ],
   "source": [
    "max_iter"
   ]
  },
  {
   "cell_type": "code",
   "execution_count": 81,
   "metadata": {
    "ExecuteTime": {
     "end_time": "2019-01-22T14:48:15.844966Z",
     "start_time": "2019-01-22T14:48:15.833729Z"
    }
   },
   "outputs": [
    {
     "data": {
      "text/latex": [
       "Quantum object: dims = [[2, 2], [2, 2]], shape = (4, 4), type = oper, isherm = True\\begin{equation*}\\left(\\begin{array}{*{11}c}0.0 & 0.0 & 0.0 & 1.0\\\\0.0 & 0.0 & 1.0 & 0.0\\\\0.0 & 1.0 & 0.0 & 0.0\\\\1.0 & 0.0 & 0.0 & 0.0\\\\\\end{array}\\right)\\end{equation*}"
      ],
      "text/plain": [
       "Quantum object: dims = [[2, 2], [2, 2]], shape = (4, 4), type = oper, isherm = True\n",
       "Qobj data =\n",
       "[[0. 0. 0. 1.]\n",
       " [0. 0. 1. 0.]\n",
       " [0. 1. 0. 0.]\n",
       " [1. 0. 0. 0.]]"
      ]
     },
     "execution_count": 81,
     "metadata": {},
     "output_type": "execute_result"
    }
   ],
   "source": [
    "T = T_maker(Ti)\n",
    "T"
   ]
  },
  {
   "cell_type": "code",
   "execution_count": 82,
   "metadata": {
    "ExecuteTime": {
     "end_time": "2019-01-22T14:48:15.960848Z",
     "start_time": "2019-01-22T14:48:15.847152Z"
    }
   },
   "outputs": [
    {
     "data": {
      "text/latex": [
       "Quantum object: dims = [[2, 2], [2, 2]], shape = (4, 4), type = oper, isherm = False\\begin{equation*}\\left(\\begin{array}{*{11}c}0.235 & (0.030-0.002j) & (0.030+0.002j) & 0.765\\\\(-0.030+0.002j) & (-0.123-3.488\\times10^{-04}j) & (-0.407-5.503\\times10^{-05}j) & (0.030-0.002j)\\\\(-0.030-0.002j) & (-0.407+5.503\\times10^{-05}j) & (-0.123+3.488\\times10^{-04}j) & (0.030+0.002j)\\\\0.765 & (-0.030+0.002j) & (-0.030-0.002j) & 0.235\\\\\\end{array}\\right)\\end{equation*}"
      ],
      "text/plain": [
       "Quantum object: dims = [[2, 2], [2, 2]], shape = (4, 4), type = oper, isherm = False\n",
       "Qobj data =\n",
       "[[ 0.23485774+0.00000000e+00j  0.03004741-2.16157599e-03j\n",
       "   0.03004741+2.16157599e-03j  0.76514226+0.00000000e+00j]\n",
       " [-0.03019654+1.92316983e-03j -0.12262023-3.48788455e-04j\n",
       "  -0.40721516-5.50277685e-05j  0.03019654-1.92316983e-03j]\n",
       " [-0.03019654-1.92316983e-03j -0.40721516+5.50277685e-05j\n",
       "  -0.12262023+3.48788455e-04j  0.03019654+1.92316983e-03j]\n",
       " [ 0.76514226+0.00000000e+00j -0.03004741+2.16157599e-03j\n",
       "  -0.03004741-2.16157599e-03j  0.23485774+0.00000000e+00j]]"
      ]
     },
     "execution_count": 82,
     "metadata": {},
     "output_type": "execute_result"
    }
   ],
   "source": [
    "L_full_maker(Ti, omega_1, xi_opt, Lin, dt)"
   ]
  },
  {
   "cell_type": "code",
   "execution_count": 83,
   "metadata": {
    "ExecuteTime": {
     "end_time": "2019-01-22T14:48:16.360081Z",
     "start_time": "2019-01-22T14:48:15.963203Z"
    }
   },
   "outputs": [
    {
     "data": {
      "text/plain": [
       "(<Figure size 576x432 with 2 Axes>,\n",
       " <matplotlib.axes._subplots.AxesSubplot at 0x1a20c9e780>)"
      ]
     },
     "execution_count": 83,
     "metadata": {},
     "output_type": "execute_result"
    },
    {
     "data": {
      "image/png": "[encoded data removed]",
      "text/plain": [
       "<Figure size 576x432 with 2 Axes>"
      ]
     },
     "metadata": {},
     "output_type": "display_data"
    }
   ],
   "source": [
    "hinton(L_full_maker(Ti, omega_1, xi_opt, Lin, dt))"
   ]
  },
  {
   "cell_type": "markdown",
   "metadata": {},
   "source": []
  },
  {
   "cell_type": "code",
   "execution_count": 12,
   "metadata": {
    "ExecuteTime": {
     "end_time": "2019-01-22T12:54:09.268631Z",
     "start_time": "2019-01-22T12:54:09.260823Z"
    }
   },
   "outputs": [
    {
     "data": {
      "text/plain": [
       "1.31350478e-05"
      ]
     },
     "execution_count": 12,
     "metadata": {},
     "output_type": "execute_result"
    }
   ],
   "source": [
    "1.31350478e-05 # 40"
   ]
  },
  {
   "cell_type": "code",
   "execution_count": 13,
   "metadata": {
    "ExecuteTime": {
     "end_time": "2019-01-22T12:54:09.282435Z",
     "start_time": "2019-01-22T12:54:09.275593Z"
    }
   },
   "outputs": [
    {
     "data": {
      "text/plain": [
       "1.31390107e-05"
      ]
     },
     "execution_count": 13,
     "metadata": {},
     "output_type": "execute_result"
    }
   ],
   "source": [
    "1.31390107e-05 # 50"
   ]
  },
  {
   "cell_type": "code",
   "execution_count": 14,
   "metadata": {
    "ExecuteTime": {
     "end_time": "2019-01-22T12:54:09.289486Z",
     "start_time": "2019-01-22T12:54:09.286073Z"
    }
   },
   "outputs": [],
   "source": [
    "α = 2"
   ]
  },
  {
   "cell_type": "code",
   "execution_count": 15,
   "metadata": {
    "ExecuteTime": {
     "end_time": "2019-01-22T12:54:09.304573Z",
     "start_time": "2019-01-22T12:54:09.292309Z"
    }
   },
   "outputs": [
    {
     "ename": "NameError",
     "evalue": "name 'random_sample' is not defined",
     "output_type": "error",
     "traceback": [
      "\u001b[0;31m---------------------------------------------------------------------------\u001b[0m",
      "\u001b[0;31mNameError\u001b[0m                                 Traceback (most recent call last)",
      "\u001b[0;32m<ipython-input-15-e03955631bdf>\u001b[0m in \u001b[0;36m<module>\u001b[0;34m()\u001b[0m\n\u001b[0;32m----> 1\u001b[0;31m \u001b[0mnew_array\u001b[0m \u001b[0;34m=\u001b[0m \u001b[0mrandom_sample\u001b[0m\u001b[0;34m(\u001b[0m\u001b[0;34m(\u001b[0m\u001b[0;36m4\u001b[0m\u001b[0;34m,\u001b[0m\u001b[0;36m3\u001b[0m\u001b[0;34m,\u001b[0m\u001b[0;34m)\u001b[0m\u001b[0;34m)\u001b[0m\u001b[0;34m\u001b[0m\u001b[0;34m\u001b[0m\u001b[0m\n\u001b[0m",
      "\u001b[0;31mNameError\u001b[0m: name 'random_sample' is not defined"
     ]
    }
   ],
   "source": [
    "new_array = random_sample((4,3,))"
   ]
  },
  {
   "cell_type": "code",
   "execution_count": null,
   "metadata": {
    "ExecuteTime": {
     "end_time": "2019-01-22T12:54:09.305812Z",
     "start_time": "2019-01-22T12:54:09.273Z"
    }
   },
   "outputs": [],
   "source": [
    "new_array"
   ]
  },
  {
   "cell_type": "code",
   "execution_count": null,
   "metadata": {
    "ExecuteTime": {
     "end_time": "2019-01-22T12:54:09.307248Z",
     "start_time": "2019-01-22T12:54:09.276Z"
    }
   },
   "outputs": [],
   "source": [
    "new_array.any()"
   ]
  },
  {
   "cell_type": "code",
   "execution_count": null,
   "metadata": {
    "ExecuteTime": {
     "end_time": "2019-01-22T12:54:09.313592Z",
     "start_time": "2019-01-22T12:54:09.279Z"
    }
   },
   "outputs": [],
   "source": [
    "new_array[0] = 0\n"
   ]
  },
  {
   "cell_type": "code",
   "execution_count": null,
   "metadata": {
    "ExecuteTime": {
     "end_time": "2019-01-22T12:54:09.322354Z",
     "start_time": "2019-01-22T12:54:09.284Z"
    }
   },
   "outputs": [],
   "source": [
    "new_array"
   ]
  },
  {
   "cell_type": "code",
   "execution_count": null,
   "metadata": {
    "ExecuteTime": {
     "end_time": "2019-01-22T12:54:09.323425Z",
     "start_time": "2019-01-22T12:54:09.287Z"
    }
   },
   "outputs": [],
   "source": [
    "new_array.any()"
   ]
  },
  {
   "cell_type": "code",
   "execution_count": null,
   "metadata": {
    "ExecuteTime": {
     "end_time": "2019-01-22T12:54:09.324600Z",
     "start_time": "2019-01-22T12:54:09.290Z"
    }
   },
   "outputs": [],
   "source": [
    "new_array.all()"
   ]
  },
  {
   "cell_type": "code",
   "execution_count": null,
   "metadata": {
    "ExecuteTime": {
     "end_time": "2019-01-22T12:54:09.329873Z",
     "start_time": "2019-01-22T12:54:09.292Z"
    }
   },
   "outputs": [],
   "source": [
    "max(new_array)"
   ]
  },
  {
   "cell_type": "code",
   "execution_count": null,
   "metadata": {
    "ExecuteTime": {
     "end_time": "2019-01-22T12:54:09.339003Z",
     "start_time": "2019-01-22T12:54:09.295Z"
    }
   },
   "outputs": [],
   "source": [
    "max(new_array, axis=0)"
   ]
  },
  {
   "cell_type": "code",
   "execution_count": null,
   "metadata": {
    "ExecuteTime": {
     "end_time": "2019-01-22T12:54:09.340362Z",
     "start_time": "2019-01-22T12:54:09.301Z"
    }
   },
   "outputs": [],
   "source": [
    "from numpy import amax "
   ]
  },
  {
   "cell_type": "code",
   "execution_count": null,
   "metadata": {
    "ExecuteTime": {
     "end_time": "2019-01-22T12:54:09.342531Z",
     "start_time": "2019-01-22T12:54:09.305Z"
    }
   },
   "outputs": [],
   "source": [
    "amax(new_array)"
   ]
  },
  {
   "cell_type": "code",
   "execution_count": null,
   "metadata": {},
   "outputs": [],
   "source": []
  }
 ],
 "metadata": {
  "kernelspec": {
   "display_name": "Python 3",
   "language": "python",
   "name": "python3"
  },
  "language_info": {
   "codemirror_mode": {
    "name": "ipython",
    "version": 3
   },
   "file_extension": ".py",
   "mimetype": "text/x-python",
   "name": "python",
   "nbconvert_exporter": "python",
   "pygments_lexer": "ipython3",
   "version": "3.6.8"
  },
  "toc": {
   "base_numbering": 1,
   "nav_menu": {},
   "number_sections": true,
   "sideBar": true,
   "skip_h1_title": false,
   "title_cell": "Table of Contents",
   "title_sidebar": "Contents",
   "toc_cell": false,
   "toc_position": {},
   "toc_section_display": true,
   "toc_window_display": false
  }
 },
 "nbformat": 4,
 "nbformat_minor": 2
}
