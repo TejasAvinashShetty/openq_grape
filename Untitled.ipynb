{
 "cells": [
  {
   "cell_type": "code",
   "execution_count": 20,
   "metadata": {
    "ExecuteTime": {
     "end_time": "2019-01-22T12:51:12.412922Z",
     "start_time": "2019-01-22T12:51:12.370311Z"
    }
   },
   "outputs": [
    {
     "name": "stdout",
     "output_type": "stream",
     "text": [
      "9\n",
      "8\n",
      "7\n",
      "6\n",
      "5\n",
      "4\n",
      "3 2\n",
      "2\n",
      "1\n",
      "0\n"
     ]
    }
   ],
   "source": [
    "N= 10\n",
    "k= 3\n",
    "for i in range(N):\n",
    "    if i == ( N - 1 - k ):\n",
    "        print(N-1-i, k - 1)\n",
    "    else:\n",
    "        print(N - 1 - i)\n",
    "    \n",
    "      \n",
    "      "
   ]
  },
  {
   "cell_type": "code",
   "execution_count": 15,
   "metadata": {
    "ExecuteTime": {
     "end_time": "2019-01-21T08:08:54.131346Z",
     "start_time": "2019-01-21T08:08:54.126200Z"
    }
   },
   "outputs": [
    {
     "data": {
      "text/plain": [
       "array([[1],\n",
       "       [4],\n",
       "       [1],\n",
       "       [8],\n",
       "       [1],\n",
       "       [4],\n",
       "       [3],\n",
       "       [5],\n",
       "       [2],\n",
       "       [8]])"
      ]
     },
     "execution_count": 15,
     "metadata": {},
     "output_type": "execute_result"
    }
   ],
   "source": [
    "from numpy.random import random, random_sample, randint\n",
    "#xi_vec = random_sample((N,1))\n",
    "xi_vec = randint(1,10,(N, 1))\n",
    "xi_vec\n",
    "    "
   ]
  },
  {
   "cell_type": "code",
   "execution_count": 19,
   "metadata": {
    "ExecuteTime": {
     "end_time": "2019-01-21T08:10:34.737660Z",
     "start_time": "2019-01-21T08:10:34.733262Z"
    }
   },
   "outputs": [
    {
     "name": "stdout",
     "output_type": "stream",
     "text": [
      "[8]\n",
      "[16]\n",
      "[80]\n",
      "[240]\n",
      "[960]\n",
      "[960]\n",
      "[7680]\n",
      "[7680]\n",
      "[30720]\n",
      "[30720]\n"
     ]
    }
   ],
   "source": [
    "w = 1\n",
    "#w = w*dus_xi[N-1-i]\n",
    "for i in range(N):\n",
    "    w = w*xi_vec[N-1-i]\n",
    "    print(w)\n",
    "    \n"
   ]
  },
  {
   "cell_type": "code",
   "execution_count": null,
   "metadata": {},
   "outputs": [],
   "source": []
  },
  {
   "cell_type": "code",
   "execution_count": null,
   "metadata": {},
   "outputs": [],
   "source": []
  },
  {
   "cell_type": "code",
   "execution_count": 16,
   "metadata": {
    "ExecuteTime": {
     "end_time": "2019-01-21T08:08:56.529995Z",
     "start_time": "2019-01-21T08:08:56.526916Z"
    }
   },
   "outputs": [],
   "source": [
    "dus_xi = [10*xi for xi in xi_vec] "
   ]
  },
  {
   "cell_type": "code",
   "execution_count": 17,
   "metadata": {
    "ExecuteTime": {
     "end_time": "2019-01-21T08:08:56.908052Z",
     "start_time": "2019-01-21T08:08:56.898275Z"
    }
   },
   "outputs": [
    {
     "data": {
      "text/plain": [
       "[array([10]),\n",
       " array([40]),\n",
       " array([10]),\n",
       " array([80]),\n",
       " array([10]),\n",
       " array([40]),\n",
       " array([30]),\n",
       " array([50]),\n",
       " array([20]),\n",
       " array([80])]"
      ]
     },
     "execution_count": 17,
     "metadata": {},
     "output_type": "execute_result"
    }
   ],
   "source": [
    "dus_xi"
   ]
  }
 ],
 "metadata": {
  "kernelspec": {
   "display_name": "Python 3",
   "language": "python",
   "name": "python3"
  },
  "language_info": {
   "codemirror_mode": {
    "name": "ipython",
    "version": 3
   },
   "file_extension": ".py",
   "mimetype": "text/x-python",
   "name": "python",
   "nbconvert_exporter": "python",
   "pygments_lexer": "ipython3",
   "version": "3.6.8"
  },
  "toc": {
   "base_numbering": 1,
   "nav_menu": {},
   "number_sections": true,
   "sideBar": true,
   "skip_h1_title": false,
   "title_cell": "Table of Contents",
   "title_sidebar": "Contents",
   "toc_cell": false,
   "toc_position": {},
   "toc_section_display": true,
   "toc_window_display": false
  }
 },
 "nbformat": 4,
 "nbformat_minor": 2
}
