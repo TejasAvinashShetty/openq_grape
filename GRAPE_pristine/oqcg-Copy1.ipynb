{
 "cells": [
  {
   "cell_type": "markdown",
   "metadata": {},
   "source": [
    "# Imports"
   ]
  },
  {
   "cell_type": "markdown",
   "metadata": {},
   "source": [
    "Need to have jate.py in your folder"
   ]
  },
  {
   "cell_type": "code",
   "execution_count": 1,
   "metadata": {
    "ExecuteTime": {
     "end_time": "2019-02-16T11:07:39.485918Z",
     "start_time": "2019-02-16T11:07:38.600967Z"
    }
   },
   "outputs": [],
   "source": [
    "%run jate.py #will import everything"
   ]
  },
  {
   "cell_type": "markdown",
   "metadata": {},
   "source": [
    "# Next chapter"
   ]
  },
  {
   "cell_type": "markdown",
   "metadata": {},
   "source": [
    "## memory clear (uses regex, so be careful)"
   ]
  },
  {
   "cell_type": "code",
   "execution_count": 2,
   "metadata": {
    "ExecuteTime": {
     "end_time": "2019-02-16T11:07:39.494209Z",
     "start_time": "2019-02-16T11:07:39.488403Z"
    }
   },
   "outputs": [],
   "source": [
    "%reset_selective -f var1, var2  # replace var1, var2 with your defined ones"
   ]
  },
  {
   "cell_type": "markdown",
   "metadata": {},
   "source": [
    "## Building parts"
   ]
  },
  {
   "cell_type": "markdown",
   "metadata": {},
   "source": [
    "### Building the things to be calculated only once"
   ]
  },
  {
   "cell_type": "code",
   "execution_count": 3,
   "metadata": {
    "ExecuteTime": {
     "end_time": "2019-02-16T11:07:39.553936Z",
     "start_time": "2019-02-16T11:07:39.496385Z"
    },
    "code_folding": []
   },
   "outputs": [],
   "source": [
    "def maker(omega_1, H_0, H_1, T_s, Lin, d=2, gamma=0.1):\n",
    "    r\"\"\"maker\n",
    "    Makes all the things that remain constant throught the program, but are \n",
    "    repeatedly used.\n",
    "    \n",
    "\n",
    "    Parameters\n",
    "    ----------\n",
    "    omega_1 : float\n",
    "              frequency corresponding to half of the difference between \n",
    "              energy levels of the qubit\n",
    "              \n",
    "    H_0     : Qobj\n",
    "              Bare Hamiltonian \n",
    "              \n",
    "    H_1     : Qobj\n",
    "              Interaction Hamiltonian \n",
    "              \n",
    "    T_s     : Qobj\n",
    "              Unitary to be implemented in the Hilbert space\n",
    "    \n",
    "    Lin     : Qobj\n",
    "              Linbladian operators\n",
    "\n",
    "    d       : int\n",
    "              Dimension of the matrix. Defaults to 2\n",
    "    \n",
    "    gamma   : float\n",
    "              Damping constant of the Linbladian\n",
    "\n",
    "    \n",
    "    Returns\n",
    "    -------\n",
    "    \n",
    "    ih0     : Qobj\n",
    "              $I\\otimes H_{0}$\n",
    "              \n",
    "    ih1     : Qobj\n",
    "              $I\\otimes H_{1}$\n",
    "\n",
    "    h0ci    : Qobj\n",
    "              $H_{0}^{*}\\otimes I $\n",
    "\n",
    "    h1ci    : Qobj\n",
    "              $H_{1}^{*}\\otimes I $\n",
    "\n",
    "    T       : Qobj\n",
    "              Target unitary transformed to the Liouville space\n",
    "\n",
    "    linbladian : Qobj\n",
    "                 The full lindbladian term as it appears on transformation to \n",
    "                 the Liouville space.\n",
    "        \n",
    "    \"\"\"\n",
    "    I = identity(d)\n",
    "    L_I = tensor(I, I)\n",
    "    ih0 = tensor(I, H_0) \n",
    "    ih1 = tensor(I, H_1) \n",
    "    h0ci = tensor(H_0.conj(), I) \n",
    "    h1ci = tensor(H_1.conj(), I)\n",
    "    x_k = ih1 - h1ci\n",
    "    term1 = tensor(Lin.trans(), Lin)\n",
    "    term2 = tensor(I, ((Lin.dag())*(Lin)))\n",
    "    term3 = tensor(((Lin.trans())*(Lin.conj())), I)\n",
    "    lindbladian = 1j*(gamma)*(term1 - 0.5*(term2 + term3))\n",
    "    T = tensor(T_s.trans(), T_s) # Transforming $T_{s}$ to liouville space\n",
    "    \n",
    "    \n",
    "    return ih0, ih1, h0ci, h1ci, x_k, lindbladian, T, L_I"
   ]
  },
  {
   "cell_type": "code",
   "execution_count": 4,
   "metadata": {
    "ExecuteTime": {
     "end_time": "2019-02-16T11:07:39.659875Z",
     "start_time": "2019-02-16T11:07:39.555949Z"
    }
   },
   "outputs": [],
   "source": [
    "omega_1 = 0.5\n",
    "H_0 = omega_1*sigmaz() \n",
    "H_1 = sigmay()\n",
    "T_s = sigmax() \n",
    "Lin = sigmaz()\n",
    "gamma = 0.1 # check for default value\n",
    "ih0, ih1, h0ci, h1ci, x_k, lindbladian, T, L_I  = maker(omega_1,\n",
    "                                                  H_0, H_1, T_s, \n",
    "                                                  Lin, d=2, gamma=gamma)"
   ]
  },
  {
   "cell_type": "code",
   "execution_count": 5,
   "metadata": {
    "ExecuteTime": {
     "end_time": "2019-02-16T11:07:39.767460Z",
     "start_time": "2019-02-16T11:07:39.661057Z"
    }
   },
   "outputs": [
    {
     "data": {
      "text/plain": [
       "0.1"
      ]
     },
     "execution_count": 5,
     "metadata": {},
     "output_type": "execute_result"
    }
   ],
   "source": [
    "gamma"
   ]
  },
  {
   "cell_type": "code",
   "execution_count": 6,
   "metadata": {
    "ExecuteTime": {
     "end_time": "2019-02-16T11:07:39.985278Z",
     "start_time": "2019-02-16T11:07:39.769173Z"
    }
   },
   "outputs": [
    {
     "data": {
      "text/latex": [
       "Quantum object: dims = [[2, 2], [2, 2]], shape = (4, 4), type = oper, isherm = True\\begin{equation*}\\left(\\begin{array}{*{11}c}1.0 & 0.0 & 0.0 & 0.0\\\\0.0 & 1.0 & 0.0 & 0.0\\\\0.0 & 0.0 & 1.0 & 0.0\\\\0.0 & 0.0 & 0.0 & 1.0\\\\\\end{array}\\right)\\end{equation*}"
      ],
      "text/plain": [
       "Quantum object: dims = [[2, 2], [2, 2]], shape = (4, 4), type = oper, isherm = True\n",
       "Qobj data =\n",
       "[[1. 0. 0. 0.]\n",
       " [0. 1. 0. 0.]\n",
       " [0. 0. 1. 0.]\n",
       " [0. 0. 0. 1.]]"
      ]
     },
     "execution_count": 6,
     "metadata": {},
     "output_type": "execute_result"
    }
   ],
   "source": [
    "L_I"
   ]
  },
  {
   "cell_type": "markdown",
   "metadata": {},
   "source": [
    "### Building $A(t)$"
   ]
  },
  {
   "cell_type": "code",
   "execution_count": 7,
   "metadata": {
    "ExecuteTime": {
     "end_time": "2019-02-16T11:07:40.062426Z",
     "start_time": "2019-02-16T11:07:39.986515Z"
    }
   },
   "outputs": [],
   "source": [
    "def A(xi):\n",
    "    r\"\"\"making $A(t)$\"\"\"\n",
    "    A = ih0 - h0ci + xi*(ih1 - h1ci) + lindbladian\n",
    "    return A"
   ]
  },
  {
   "cell_type": "code",
   "execution_count": 8,
   "metadata": {
    "ExecuteTime": {
     "end_time": "2019-02-16T11:07:40.131364Z",
     "start_time": "2019-02-16T11:07:40.063990Z"
    }
   },
   "outputs": [
    {
     "data": {
      "text/latex": [
       "Quantum object: dims = [[2, 2], [2, 2]], shape = (4, 4), type = oper, isherm = False\\begin{equation*}\\left(\\begin{array}{*{11}c}0.0 & -0.500j & -0.500j & 0.0\\\\0.500j & (-1.0-0.200j) & 0.0 & -0.500j\\\\0.500j & 0.0 & (1.0-0.200j) & -0.500j\\\\0.0 & 0.500j & 0.500j & 0.0\\\\\\end{array}\\right)\\end{equation*}"
      ],
      "text/plain": [
       "Quantum object: dims = [[2, 2], [2, 2]], shape = (4, 4), type = oper, isherm = False\n",
       "Qobj data =\n",
       "[[ 0.+0.j   0.-0.5j  0.-0.5j  0.+0.j ]\n",
       " [ 0.+0.5j -1.-0.2j  0.+0.j   0.-0.5j]\n",
       " [ 0.+0.5j  0.+0.j   1.-0.2j  0.-0.5j]\n",
       " [ 0.+0.j   0.+0.5j  0.+0.5j  0.+0.j ]]"
      ]
     },
     "execution_count": 8,
     "metadata": {},
     "output_type": "execute_result"
    }
   ],
   "source": [
    "A(0.5)"
   ]
  },
  {
   "cell_type": "markdown",
   "metadata": {},
   "source": [
    "### Building $L(t)$ and the Identity in the Liouville space"
   ]
  },
  {
   "cell_type": "code",
   "execution_count": 9,
   "metadata": {
    "ExecuteTime": {
     "end_time": "2019-02-16T11:07:40.195779Z",
     "start_time": "2019-02-16T11:07:40.132813Z"
    }
   },
   "outputs": [],
   "source": [
    "def L(xi, dt):\n",
    "    r\"\"\"Making $L(t) from $A(t)$\"\"\"\n",
    "    L = (-1j*A(xi)*dt).expm()\n",
    "    return L"
   ]
  },
  {
   "cell_type": "code",
   "execution_count": 10,
   "metadata": {
    "ExecuteTime": {
     "end_time": "2019-02-16T11:07:40.285265Z",
     "start_time": "2019-02-16T11:07:40.197566Z"
    }
   },
   "outputs": [
    {
     "data": {
      "text/latex": [
       "Quantum object: dims = [[2, 2], [2, 2]], shape = (4, 4), type = oper, isherm = False\\begin{equation*}\\left(\\begin{array}{*{11}c}1.000 & (-4.999\\times10^{-04}-2.500\\times10^{-07}j) & (-4.999\\times10^{-04}+2.500\\times10^{-07}j) & 2.500\\times10^{-07}\\\\(4.999\\times10^{-04}+2.500\\times10^{-07}j) & (1.000+9.998\\times10^{-04}j) & -2.500\\times10^{-07} & (-4.999\\times10^{-04}-2.500\\times10^{-07}j)\\\\(4.999\\times10^{-04}-2.500\\times10^{-07}j) & -2.500\\times10^{-07} & (1.000-9.998\\times10^{-04}j) & (-4.999\\times10^{-04}+2.500\\times10^{-07}j)\\\\2.500\\times10^{-07} & (4.999\\times10^{-04}+2.500\\times10^{-07}j) & (4.999\\times10^{-04}-2.500\\times10^{-07}j) & 1.000\\\\\\end{array}\\right)\\end{equation*}"
      ],
      "text/plain": [
       "Quantum object: dims = [[2, 2], [2, 2]], shape = (4, 4), type = oper, isherm = False\n",
       "Qobj data =\n",
       "[[ 9.99999750e-01+0.00000000e+00j -4.99949837e-04-2.49966628e-07j\n",
       "  -4.99949837e-04+2.49966628e-07j  2.49983293e-07+0.00000000e+00j]\n",
       " [ 4.99949837e-04+2.49966628e-07j  9.99799270e-01+9.99799687e-04j\n",
       "  -2.49966628e-07+0.00000000e+00j -4.99949837e-04-2.49966628e-07j]\n",
       " [ 4.99949837e-04-2.49966628e-07j -2.49966628e-07+0.00000000e+00j\n",
       "   9.99799270e-01-9.99799687e-04j -4.99949837e-04+2.49966628e-07j]\n",
       " [ 2.49983293e-07+0.00000000e+00j  4.99949837e-04+2.49966628e-07j\n",
       "   4.99949837e-04-2.49966628e-07j  9.99999750e-01+0.00000000e+00j]]"
      ]
     },
     "execution_count": 10,
     "metadata": {},
     "output_type": "execute_result"
    }
   ],
   "source": [
    "L(0.5, 0.001)"
   ]
  },
  {
   "cell_type": "markdown",
   "metadata": {},
   "source": [
    "## Major functions"
   ]
  },
  {
   "cell_type": "markdown",
   "metadata": {},
   "source": [
    "### Major functions 1"
   ]
  },
  {
   "cell_type": "code",
   "execution_count": 11,
   "metadata": {
    "ExecuteTime": {
     "end_time": "2019-02-16T11:07:40.338071Z",
     "start_time": "2019-02-16T11:07:40.286799Z"
    }
   },
   "outputs": [],
   "source": [
    "# building the function to optimize (optimizee)\n",
    "def L_vec(xi_vec, dt):\n",
    "    r\"\"\"Building the vector of differential $L(t)$\"\"\"\n",
    "    L_vec = [L(xi, dt) for xi in xi_vec] \n",
    "    return L_vec"
   ]
  },
  {
   "cell_type": "code",
   "execution_count": 12,
   "metadata": {
    "ExecuteTime": {
     "end_time": "2019-02-16T11:07:40.413130Z",
     "start_time": "2019-02-16T11:07:40.339884Z"
    }
   },
   "outputs": [],
   "source": [
    "def fidelity_calc(A, B):\n",
    "    r\"\"\"Making a generalised fidelity function\"\"\"\n",
    "    first_part = (A - B).dag()\n",
    "    second_part = (A - B)\n",
    "    f_int = (first_part* second_part)\n",
    "    f = f_int.tr()\n",
    "    return f"
   ]
  },
  {
   "cell_type": "code",
   "execution_count": 13,
   "metadata": {
    "ExecuteTime": {
     "end_time": "2019-02-16T11:07:40.488119Z",
     "start_time": "2019-02-16T11:07:40.414460Z"
    }
   },
   "outputs": [],
   "source": [
    "def L_full_maker(xi_vec, dt):\n",
    "    r\"\"\"Building the $L(t)$ for the total time $t$\"\"\"\n",
    "    xi_vec_size = xi_vec.size # finding the size of xi\n",
    "    L_full = L_I # Identity for the for loop of L\n",
    "    L_v = L_vec(xi_vec, dt) # calling L_vec\n",
    "    for i in range(xi_vec_size): # generating L_full\n",
    "        L_full = L_full*L_v[xi_vec_size - 1 - i]\n",
    "    return L_full"
   ]
  },
  {
   "cell_type": "code",
   "execution_count": 14,
   "metadata": {
    "ExecuteTime": {
     "end_time": "2019-02-16T11:07:40.562587Z",
     "start_time": "2019-02-16T11:07:40.489328Z"
    }
   },
   "outputs": [],
   "source": [
    "def F(xi_vec, dt):\n",
    "    r\"\"\"Using the fidelity metric to find out the closeness between $T$\n",
    "    and $L(t)$\"\"\"\n",
    "    L_full = L_full_maker(xi_vec, dt)\n",
    "    F = real(-fidelity_calc(T, L_full))   \n",
    "    return F"
   ]
  },
  {
   "cell_type": "markdown",
   "metadata": {},
   "source": [
    "### Testing major functions 1"
   ]
  },
  {
   "cell_type": "code",
   "execution_count": 15,
   "metadata": {
    "ExecuteTime": {
     "end_time": "2019-02-16T11:07:40.741394Z",
     "start_time": "2019-02-16T11:07:40.563849Z"
    }
   },
   "outputs": [
    {
     "data": {
      "text/plain": [
       "4.0"
      ]
     },
     "execution_count": 15,
     "metadata": {},
     "output_type": "execute_result"
    }
   ],
   "source": [
    "fidelity_calc(sigmax(), sigmay())"
   ]
  },
  {
   "cell_type": "code",
   "execution_count": 16,
   "metadata": {
    "ExecuteTime": {
     "end_time": "2019-02-16T11:07:40.873292Z",
     "start_time": "2019-02-16T11:07:40.742691Z"
    }
   },
   "outputs": [
    {
     "data": {
      "text/plain": [
       "0.0"
      ]
     },
     "execution_count": 16,
     "metadata": {},
     "output_type": "execute_result"
    }
   ],
   "source": [
    "fidelity_calc(sigmay(), sigmay())"
   ]
  },
  {
   "cell_type": "code",
   "execution_count": 17,
   "metadata": {
    "ExecuteTime": {
     "end_time": "2019-02-16T11:07:40.997733Z",
     "start_time": "2019-02-16T11:07:40.874418Z"
    }
   },
   "outputs": [
    {
     "data": {
      "text/plain": [
       "array([1., 2.])"
      ]
     },
     "execution_count": 17,
     "metadata": {},
     "output_type": "execute_result"
    }
   ],
   "source": [
    "xi_vec_test = array([1.0, 2.0])\n",
    "xi_vec_test"
   ]
  },
  {
   "cell_type": "code",
   "execution_count": 18,
   "metadata": {
    "ExecuteTime": {
     "end_time": "2019-02-16T11:07:41.080612Z",
     "start_time": "2019-02-16T11:07:40.999178Z"
    }
   },
   "outputs": [
    {
     "data": {
      "text/plain": [
       "2"
      ]
     },
     "execution_count": 18,
     "metadata": {},
     "output_type": "execute_result"
    }
   ],
   "source": [
    "xi_vec_test.size"
   ]
  },
  {
   "cell_type": "code",
   "execution_count": 19,
   "metadata": {
    "ExecuteTime": {
     "end_time": "2019-02-16T11:07:41.180515Z",
     "start_time": "2019-02-16T11:07:41.081826Z"
    }
   },
   "outputs": [
    {
     "data": {
      "text/plain": [
       "[1.0, 4.0]"
      ]
     },
     "execution_count": 19,
     "metadata": {},
     "output_type": "execute_result"
    }
   ],
   "source": [
    "w_vec = [xi**2 for xi in xi_vec_test]\n",
    "w_vec"
   ]
  },
  {
   "cell_type": "code",
   "execution_count": 20,
   "metadata": {
    "ExecuteTime": {
     "end_time": "2019-02-16T11:07:41.352848Z",
     "start_time": "2019-02-16T11:07:41.181571Z"
    }
   },
   "outputs": [
    {
     "data": {
      "text/plain": [
       "-7.998400634493138"
      ]
     },
     "execution_count": 20,
     "metadata": {},
     "output_type": "execute_result"
    }
   ],
   "source": [
    "# F(xi_vec, dt)\n",
    "F(xi_vec_test, 0.001)"
   ]
  },
  {
   "cell_type": "code",
   "execution_count": 21,
   "metadata": {
    "ExecuteTime": {
     "end_time": "2019-02-16T11:07:41.433198Z",
     "start_time": "2019-02-16T11:07:41.355369Z"
    }
   },
   "outputs": [],
   "source": [
    "L_v = L_vec(xi_vec_test, 0.001)"
   ]
  },
  {
   "cell_type": "code",
   "execution_count": 22,
   "metadata": {
    "ExecuteTime": {
     "end_time": "2019-02-16T11:07:41.524223Z",
     "start_time": "2019-02-16T11:07:41.434796Z"
    }
   },
   "outputs": [
    {
     "data": {
      "text/plain": [
       "[Quantum object: dims = [[2, 2], [2, 2]], shape = (4, 4), type = oper, isherm = False\n",
       " Qobj data =\n",
       " [[ 9.99999000e-01+0.00000000e+00j -9.99899173e-04-4.99933130e-07j\n",
       "   -9.99899173e-04+4.99933130e-07j  9.99932920e-07+0.00000000e+00j]\n",
       "  [ 9.99899173e-04+4.99933130e-07j  9.99798520e-01+9.99799187e-04j\n",
       "   -9.99866260e-07+0.00000000e+00j -9.99899173e-04-4.99933130e-07j]\n",
       "  [ 9.99899173e-04-4.99933130e-07j -9.99866260e-07+0.00000000e+00j\n",
       "    9.99798520e-01-9.99799187e-04j -9.99899173e-04+4.99933130e-07j]\n",
       "  [ 9.99932920e-07+0.00000000e+00j  9.99899173e-04+4.99933130e-07j\n",
       "    9.99899173e-04-4.99933130e-07j  9.99999000e-01+0.00000000e+00j]],\n",
       " Quantum object: dims = [[2, 2], [2, 2]], shape = (4, 4), type = oper, isherm = False\n",
       " Qobj data =\n",
       " [[ 9.99996000e-01+0.00000000e+00j -1.99979435e-03-9.99865260e-07j\n",
       "   -1.99979435e-03+9.99865260e-07j  3.99972768e-06+0.00000000e+00j]\n",
       "  [ 1.99979435e-03+9.99865260e-07j  9.99795521e-01+9.99797187e-04j\n",
       "   -3.99946104e-06+0.00000000e+00j -1.99979435e-03-9.99865260e-07j]\n",
       "  [ 1.99979435e-03-9.99865260e-07j -3.99946104e-06+0.00000000e+00j\n",
       "    9.99795521e-01-9.99797187e-04j -1.99979435e-03+9.99865260e-07j]\n",
       "  [ 3.99972768e-06+0.00000000e+00j  1.99979435e-03+9.99865260e-07j\n",
       "    1.99979435e-03-9.99865260e-07j  9.99996000e-01+0.00000000e+00j]]]"
      ]
     },
     "execution_count": 22,
     "metadata": {},
     "output_type": "execute_result"
    }
   ],
   "source": [
    "L_v"
   ]
  },
  {
   "cell_type": "markdown",
   "metadata": {},
   "source": [
    "### Major Functions 2"
   ]
  },
  {
   "cell_type": "code",
   "execution_count": 23,
   "metadata": {
    "ExecuteTime": {
     "end_time": "2019-02-16T11:07:41.605309Z",
     "start_time": "2019-02-16T11:07:41.525579Z"
    }
   },
   "outputs": [],
   "source": [
    "def L_comma_k_maker(xi_vec, k, dt):\n",
    "    r\"\"\"Making of the derivative of full $L(t)$ at time $t_{k}$\"\"\"\n",
    "    N = xi_vec.size \n",
    "    # Determining the size of xi, and thus the time_steps indirectly.\n",
    "    L_v = L_vec(xi_vec, dt)# Making of the full $L(t)$\n",
    "    inner_part = L_I # Beginner for the for loop\n",
    "    for i in range(N):\n",
    "        if i == ( N - 1 - k ):\n",
    "            # The step at which $X_{k}(t)$ has to be inserted \n",
    "            inner_part = inner_part*x_k*L_v[k - 1]\n",
    "        else:\n",
    "            # Usual multiplications of $L_{k}$\n",
    "            inner_part = inner_part*L_v[N - 1 - i]\n",
    "    l_comma_k = inner_part\n",
    "    return l_comma_k\n",
    "    "
   ]
  },
  {
   "cell_type": "code",
   "execution_count": 24,
   "metadata": {
    "ExecuteTime": {
     "end_time": "2019-02-16T11:07:41.712320Z",
     "start_time": "2019-02-16T11:07:41.606567Z"
    }
   },
   "outputs": [
    {
     "data": {
      "text/latex": [
       "Quantum object: dims = [[2, 2], [2, 2]], shape = (4, 4), type = oper, isherm = False\\begin{equation*}\\left(\\begin{array}{*{11}c}1.000 & (-0.003-3.499\\times10^{-06}j) & (-0.003+3.499\\times10^{-06}j) & 8.999\\times10^{-06}\\\\(0.003+2.499\\times10^{-06}j) & (1.000+0.002j) & (-8.998\\times10^{-06}+2.999\\times10^{-09}j) & (-0.003-2.499\\times10^{-06}j)\\\\(0.003-2.499\\times10^{-06}j) & (-8.998\\times10^{-06}-2.999\\times10^{-09}j) & (1.000-0.002j) & (-0.003+2.499\\times10^{-06}j)\\\\8.999\\times10^{-06} & (0.003+3.499\\times10^{-06}j) & (0.003-3.499\\times10^{-06}j) & 1.000\\\\\\end{array}\\right)\\end{equation*}"
      ],
      "text/plain": [
       "Quantum object: dims = [[2, 2], [2, 2]], shape = (4, 4), type = oper, isherm = False\n",
       "Qobj data =\n",
       "[[ 9.99991001e-01+0.00000000e+00j -2.99927960e-03-3.49898670e-06j\n",
       "  -2.99927960e-03+3.49898670e-06j  8.99883703e-06+0.00000000e+00j]\n",
       " [ 2.99948056e-03+2.49939255e-06j  9.99589083e-01+1.99918650e-03j\n",
       "  -8.99750347e-06+2.99899242e-09j -2.99948056e-03-2.49939255e-06j]\n",
       " [ 2.99948056e-03-2.49939255e-06j -8.99750347e-06-2.99899242e-09j\n",
       "   9.99589083e-01-1.99918650e-03j -2.99948056e-03+2.49939255e-06j]\n",
       " [ 8.99883703e-06+0.00000000e+00j  2.99927960e-03+3.49898670e-06j\n",
       "   2.99927960e-03-3.49898670e-06j  9.99991001e-01+0.00000000e+00j]]"
      ]
     },
     "execution_count": 24,
     "metadata": {},
     "output_type": "execute_result"
    }
   ],
   "source": [
    "# L_comma_k_maker(xi_vec, k, dt)\n",
    "L_comma_k_maker(xi_vec_test, 2, 0.001)"
   ]
  },
  {
   "cell_type": "code",
   "execution_count": 25,
   "metadata": {
    "ExecuteTime": {
     "end_time": "2019-02-16T11:07:41.788832Z",
     "start_time": "2019-02-16T11:07:41.713631Z"
    }
   },
   "outputs": [],
   "source": [
    "def updater(xi_vec, dt, epsilon):\n",
    "    r\"\"\"Implementing the GRAPE update step\"\"\"\n",
    "    xi_vec_size = xi_vec.size # finding the size of xi\n",
    "    L_full = L_full_maker(xi_vec, dt)\n",
    "    di = []\n",
    "    for k in range(xi_vec_size):\n",
    "        # Building the thing to be added to the old function\n",
    "        L_comma_k = L_comma_k_maker(xi_vec, k, dt)\n",
    "        differentiated = T - L_comma_k\n",
    "        plain = T - L_full\n",
    "        c = -differentiated.dag()*plain\n",
    "        d = -plain.dag()*differentiated\n",
    "        inside = c.tr() + d.tr()\n",
    "        di.append(epsilon*inside)\n",
    "\n",
    "    diff = array(di)\n",
    "    xi_new_vec = xi_vec + diff\n",
    "    return diff, xi_new_vec\n",
    "    "
   ]
  },
  {
   "cell_type": "code",
   "execution_count": 26,
   "metadata": {
    "ExecuteTime": {
     "end_time": "2019-02-16T11:07:41.881530Z",
     "start_time": "2019-02-16T11:07:41.789901Z"
    }
   },
   "outputs": [
    {
     "data": {
      "text/plain": [
       "(array([-0.008+0.j, -0.008+0.j]), array([0.992+0.j, 1.992+0.j]))"
      ]
     },
     "execution_count": 26,
     "metadata": {},
     "output_type": "execute_result"
    }
   ],
   "source": [
    "#  updater(xi_vec, dt, epsilon)\n",
    "updater(xi_vec_test, 0.001, 0.001)"
   ]
  },
  {
   "cell_type": "markdown",
   "metadata": {},
   "source": [
    "## Qutip grape for closed system"
   ]
  },
  {
   "cell_type": "code",
   "execution_count": 27,
   "metadata": {
    "ExecuteTime": {
     "end_time": "2019-02-16T11:07:42.021970Z",
     "start_time": "2019-02-16T11:07:41.883195Z"
    }
   },
   "outputs": [],
   "source": [
    "import time"
   ]
  },
  {
   "cell_type": "code",
   "execution_count": 28,
   "metadata": {
    "ExecuteTime": {
     "end_time": "2019-02-16T11:07:42.113897Z",
     "start_time": "2019-02-16T11:07:42.023172Z"
    }
   },
   "outputs": [],
   "source": [
    "total_time_evo = 2*pi # total time allowed for evolution"
   ]
  },
  {
   "cell_type": "code",
   "execution_count": 29,
   "metadata": {
    "ExecuteTime": {
     "end_time": "2019-02-16T11:07:42.188970Z",
     "start_time": "2019-02-16T11:07:42.115268Z"
    }
   },
   "outputs": [],
   "source": [
    "times = linspace(0, total_time_evo, 500) "
   ]
  },
  {
   "cell_type": "code",
   "execution_count": 30,
   "metadata": {
    "ExecuteTime": {
     "end_time": "2019-02-16T11:07:42.263697Z",
     "start_time": "2019-02-16T11:07:42.190452Z"
    }
   },
   "outputs": [],
   "source": [
    "# vector of times at which discretization \n",
    "# is carried out"
   ]
  },
  {
   "cell_type": "code",
   "execution_count": 31,
   "metadata": {
    "ExecuteTime": {
     "end_time": "2019-02-16T11:07:42.340075Z",
     "start_time": "2019-02-16T11:07:42.264772Z"
    }
   },
   "outputs": [
    {
     "data": {
      "text/latex": [
       "Quantum object: dims = [[2], [2]], shape = (2, 2), type = oper, isherm = True\\begin{equation*}\\left(\\begin{array}{*{11}c}0.0 & 1.0\\\\1.0 & 0.0\\\\\\end{array}\\right)\\end{equation*}"
      ],
      "text/plain": [
       "Quantum object: dims = [[2], [2]], shape = (2, 2), type = oper, isherm = True\n",
       "Qobj data =\n",
       "[[0. 1.]\n",
       " [1. 0.]]"
      ]
     },
     "execution_count": 31,
     "metadata": {},
     "output_type": "execute_result"
    }
   ],
   "source": [
    "U = T_s\n",
    "U"
   ]
  },
  {
   "cell_type": "code",
   "execution_count": 32,
   "metadata": {
    "ExecuteTime": {
     "end_time": "2019-02-16T11:07:42.413929Z",
     "start_time": "2019-02-16T11:07:42.341543Z"
    }
   },
   "outputs": [],
   "source": [
    "R = 500"
   ]
  },
  {
   "cell_type": "code",
   "execution_count": 33,
   "metadata": {
    "ExecuteTime": {
     "end_time": "2019-02-16T11:07:42.490541Z",
     "start_time": "2019-02-16T11:07:42.415438Z"
    }
   },
   "outputs": [
    {
     "data": {
      "text/plain": [
       "[Quantum object: dims = [[2], [2]], shape = (2, 2), type = oper, isherm = True\n",
       " Qobj data =\n",
       " [[0.+0.j 0.-1.j]\n",
       "  [0.+1.j 0.+0.j]]]"
      ]
     },
     "execution_count": 33,
     "metadata": {},
     "output_type": "execute_result"
    }
   ],
   "source": [
    "H_ops = [H_1]\n",
    "H_ops"
   ]
  },
  {
   "cell_type": "code",
   "execution_count": 34,
   "metadata": {
    "ExecuteTime": {
     "end_time": "2019-02-16T11:07:42.556048Z",
     "start_time": "2019-02-16T11:07:42.492000Z"
    }
   },
   "outputs": [
    {
     "data": {
      "text/plain": [
       "['$g_{no diss}$']"
      ]
     },
     "execution_count": 34,
     "metadata": {},
     "output_type": "execute_result"
    }
   ],
   "source": [
    "H_labels = [r'$g_{no diss}$']\n",
    "H_labels"
   ]
  },
  {
   "cell_type": "code",
   "execution_count": 35,
   "metadata": {
    "ExecuteTime": {
     "end_time": "2019-02-16T11:07:42.631607Z",
     "start_time": "2019-02-16T11:07:42.557435Z"
    }
   },
   "outputs": [
    {
     "data": {
      "text/latex": [
       "Quantum object: dims = [[2], [2]], shape = (2, 2), type = oper, isherm = True\\begin{equation*}\\left(\\begin{array}{*{11}c}0.500 & 0.0\\\\0.0 & -0.500\\\\\\end{array}\\right)\\end{equation*}"
      ],
      "text/plain": [
       "Quantum object: dims = [[2], [2]], shape = (2, 2), type = oper, isherm = True\n",
       "Qobj data =\n",
       "[[ 0.5  0. ]\n",
       " [ 0.  -0.5]]"
      ]
     },
     "execution_count": 35,
     "metadata": {},
     "output_type": "execute_result"
    }
   ],
   "source": [
    "H0 = H_0\n",
    "H0"
   ]
  },
  {
   "cell_type": "code",
   "execution_count": 36,
   "metadata": {
    "ExecuteTime": {
     "end_time": "2019-02-16T11:07:42.705577Z",
     "start_time": "2019-02-16T11:07:42.632873Z"
    }
   },
   "outputs": [],
   "source": [
    "c_ops = []"
   ]
  },
  {
   "cell_type": "code",
   "execution_count": 37,
   "metadata": {
    "ExecuteTime": {
     "end_time": "2019-02-16T11:07:42.780745Z",
     "start_time": "2019-02-16T11:07:42.706840Z"
    }
   },
   "outputs": [],
   "source": [
    "from qutip.control.grape import plot_grape_control_fields, _overlap \n",
    "from qutip.control.grape import grape_unitary_adaptive, cy_grape_unitary"
   ]
  },
  {
   "cell_type": "code",
   "execution_count": 38,
   "metadata": {
    "ExecuteTime": {
     "end_time": "2019-02-16T11:07:42.881523Z",
     "start_time": "2019-02-16T11:07:42.781876Z"
    }
   },
   "outputs": [],
   "source": [
    "from scipy.interpolate import interp1d\n",
    "from qutip.ui.progressbar import TextProgressBar, EnhancedTextProgressBar"
   ]
  },
  {
   "cell_type": "code",
   "execution_count": 39,
   "metadata": {
    "ExecuteTime": {
     "end_time": "2019-02-16T11:07:42.972450Z",
     "start_time": "2019-02-16T11:07:42.882598Z"
    }
   },
   "outputs": [],
   "source": [
    "u0 = array([rand(len(times)) * 2 * pi * 0.05 for _ in range(len(H_ops))])"
   ]
  },
  {
   "cell_type": "code",
   "execution_count": 40,
   "metadata": {
    "ExecuteTime": {
     "end_time": "2019-02-16T11:07:43.070740Z",
     "start_time": "2019-02-16T11:07:42.973848Z"
    }
   },
   "outputs": [],
   "source": [
    "from numpy import convolve\n",
    "u0 = [convolve(ones(10)/10, u0[idx,:], mode='same') for idx in range(len(H_ops))]"
   ]
  },
  {
   "cell_type": "code",
   "execution_count": 41,
   "metadata": {
    "ExecuteTime": {
     "end_time": "2019-02-16T11:07:43.215650Z",
     "start_time": "2019-02-16T11:07:43.072228Z"
    }
   },
   "outputs": [],
   "source": [
    "u_limits = None #[0, 1 * 2 * pi]\n",
    "alpha = None"
   ]
  },
  {
   "cell_type": "code",
   "execution_count": 42,
   "metadata": {
    "ExecuteTime": {
     "end_time": "2019-02-16T11:13:28.732520Z",
     "start_time": "2019-02-16T11:07:43.217117Z"
    }
   },
   "outputs": [
    {
     "name": "stdout",
     "output_type": "stream",
     "text": [
      "10.0%. Run time:  37.14s. Est. time left: 00:00:05:34\n",
      "20.0%. Run time:  71.78s. Est. time left: 00:00:04:47\n",
      "30.0%. Run time: 106.28s. Est. time left: 00:00:04:07\n",
      "40.0%. Run time: 142.05s. Est. time left: 00:00:03:33\n",
      "50.0%. Run time: 176.01s. Est. time left: 00:00:02:56\n",
      "60.0%. Run time: 210.15s. Est. time left: 00:00:02:20\n",
      "70.0%. Run time: 244.27s. Est. time left: 00:00:01:44\n",
      "80.0%. Run time: 278.18s. Est. time left: 00:00:01:09\n",
      "90.0%. Run time: 312.14s. Est. time left: 00:00:00:34\n",
      "Total run time: 345.30s\n"
     ]
    }
   ],
   "source": [
    "result = cy_grape_unitary(U, H0, H_ops, R, times, u_start=u0, u_limits=u_limits,\n",
    "                          eps=2*np.pi*1, alpha=alpha, phase_sensitive=False,\n",
    "                          progress_bar=TextProgressBar())"
   ]
  },
  {
   "cell_type": "markdown",
   "metadata": {},
   "source": [
    "#### Plot of optimized control field without dissipation"
   ]
  },
  {
   "cell_type": "code",
   "execution_count": 43,
   "metadata": {
    "ExecuteTime": {
     "end_time": "2019-02-16T11:13:29.929739Z",
     "start_time": "2019-02-16T11:13:28.735242Z"
    }
   },
   "outputs": [
    {
     "data": {
      "image/png": "[encoded data removed]",
      "text/plain": [
       "<Figure size 576x144 with 1 Axes>"
      ]
     },
     "metadata": {
      "needs_background": "light"
     },
     "output_type": "display_data"
    }
   ],
   "source": [
    "plot_grape_control_fields(times,\n",
    "                          result.u / (2 * np.pi), H_labels, uniform_axes=True);"
   ]
  },
  {
   "cell_type": "code",
   "execution_count": 44,
   "metadata": {
    "ExecuteTime": {
     "end_time": "2019-02-16T11:13:29.935600Z",
     "start_time": "2019-02-16T11:13:29.931534Z"
    }
   },
   "outputs": [
    {
     "data": {
      "text/latex": [
       "Quantum object: dims = [[2], [2]], shape = (2, 2), type = oper, isherm = True\\begin{equation*}\\left(\\begin{array}{*{11}c}0.0 & 1.0\\\\1.0 & 0.0\\\\\\end{array}\\right)\\end{equation*}"
      ],
      "text/plain": [
       "Quantum object: dims = [[2], [2]], shape = (2, 2), type = oper, isherm = True\n",
       "Qobj data =\n",
       "[[0. 1.]\n",
       " [1. 0.]]"
      ]
     },
     "execution_count": 44,
     "metadata": {},
     "output_type": "execute_result"
    }
   ],
   "source": [
    "U"
   ]
  },
  {
   "cell_type": "code",
   "execution_count": 45,
   "metadata": {
    "ExecuteTime": {
     "end_time": "2019-02-16T11:13:30.123212Z",
     "start_time": "2019-02-16T11:13:29.938987Z"
    }
   },
   "outputs": [
    {
     "data": {
      "text/latex": [
       "Quantum object: dims = [[2], [2]], shape = (2, 2), type = oper, isherm = False\\begin{equation*}\\left(\\begin{array}{*{11}c}8.306\\times10^{-16} & 1.0j\\\\1.000j & -6.880\\times10^{-16}\\\\\\end{array}\\right)\\end{equation*}"
      ],
      "text/plain": [
       "Quantum object: dims = [[2], [2]], shape = (2, 2), type = oper, isherm = False\n",
       "Qobj data =\n",
       "[[ 8.30617449e-16-6.67868538e-17j  1.07452553e-15+1.00000000e+00j]\n",
       " [-2.31711035e-15+1.00000000e+00j -6.87997429e-16+1.82145965e-16j]]"
      ]
     },
     "execution_count": 45,
     "metadata": {},
     "output_type": "execute_result"
    }
   ],
   "source": [
    "result.U_f"
   ]
  },
  {
   "cell_type": "markdown",
   "metadata": {},
   "source": [
    "## Analysis of result of qutip grape for closed system"
   ]
  },
  {
   "cell_type": "code",
   "execution_count": 46,
   "metadata": {
    "ExecuteTime": {
     "end_time": "2019-02-16T11:13:30.273633Z",
     "start_time": "2019-02-16T11:13:30.124365Z"
    }
   },
   "outputs": [
    {
     "data": {
      "text/latex": [
       "Quantum object: dims = [[2], [2]], shape = (2, 2), type = oper, isherm = False\\begin{equation*}\\left(\\begin{array}{*{11}c}1.0 & (-9.618\\times10^{+13}+1.196\\times10^{+15}j)\\\\(-9.618\\times10^{+13}+1.196\\times10^{+15}j) & (-0.840+0.152j)\\\\\\end{array}\\right)\\end{equation*}"
      ],
      "text/plain": [
       "Quantum object: dims = [[2], [2]], shape = (2, 2), type = oper, isherm = False\n",
       "Qobj data =\n",
       "[[ 1.00000000e+00+0.00000000e+00j -9.61811877e+13+1.19619009e+15j]\n",
       " [-9.61811877e+13+1.19619009e+15j -8.40494722e-01+1.51708788e-01j]]"
      ]
     },
     "execution_count": 46,
     "metadata": {},
     "output_type": "execute_result"
    }
   ],
   "source": [
    "result.U_f/result.U_f[0,0]"
   ]
  },
  {
   "cell_type": "code",
   "execution_count": 47,
   "metadata": {
    "ExecuteTime": {
     "end_time": "2019-02-16T11:13:30.441927Z",
     "start_time": "2019-02-16T11:13:30.274714Z"
    }
   },
   "outputs": [
    {
     "data": {
      "text/plain": [
       "(<Figure size 432x288 with 2 Axes>,\n",
       " <mpl_toolkits.mplot3d.axes3d.Axes3D at 0x7f5905fca898>)"
      ]
     },
     "execution_count": 47,
     "metadata": {},
     "output_type": "execute_result"
    },
    {
     "data": {
      "image/png": "[encoded data removed]",
      "text/plain": [
       "<Figure size 432x288 with 2 Axes>"
      ]
     },
     "metadata": {
      "needs_background": "light"
     },
     "output_type": "display_data"
    }
   ],
   "source": [
    "matrix_histogram(U)"
   ]
  },
  {
   "cell_type": "code",
   "execution_count": 48,
   "metadata": {
    "ExecuteTime": {
     "end_time": "2019-02-16T11:13:30.540180Z",
     "start_time": "2019-02-16T11:13:30.443669Z"
    }
   },
   "outputs": [
    {
     "data": {
      "text/plain": [
       "(<Figure size 432x288 with 2 Axes>,\n",
       " <mpl_toolkits.mplot3d.axes3d.Axes3D at 0x7f5905ef3128>)"
      ]
     },
     "execution_count": 48,
     "metadata": {},
     "output_type": "execute_result"
    },
    {
     "data": {
      "image/png": "[encoded data removed]",
      "text/plain": [
       "<Figure size 432x288 with 2 Axes>"
      ]
     },
     "metadata": {
      "needs_background": "light"
     },
     "output_type": "display_data"
    }
   ],
   "source": [
    "matrix_histogram(result.U_f)"
   ]
  },
  {
   "cell_type": "code",
   "execution_count": 49,
   "metadata": {
    "ExecuteTime": {
     "end_time": "2019-02-16T11:13:30.740599Z",
     "start_time": "2019-02-16T11:13:30.541739Z"
    }
   },
   "outputs": [
    {
     "data": {
      "text/plain": [
       "(<Figure size 432x288 with 2 Axes>,\n",
       " <mpl_toolkits.mplot3d.axes3d.Axes3D at 0x7f5905e62470>)"
      ]
     },
     "execution_count": 49,
     "metadata": {},
     "output_type": "execute_result"
    },
    {
     "data": {
      "image/png": "[encoded data removed]",
      "text/plain": [
       "<Figure size 432x288 with 2 Axes>"
      ]
     },
     "metadata": {
      "needs_background": "light"
     },
     "output_type": "display_data"
    }
   ],
   "source": [
    "matrix_histogram_complex(U)"
   ]
  },
  {
   "cell_type": "code",
   "execution_count": 50,
   "metadata": {
    "ExecuteTime": {
     "end_time": "2019-02-16T11:13:30.900086Z",
     "start_time": "2019-02-16T11:13:30.743193Z"
    }
   },
   "outputs": [
    {
     "data": {
      "text/plain": [
       "(<Figure size 432x288 with 2 Axes>,\n",
       " <mpl_toolkits.mplot3d.axes3d.Axes3D at 0x7f5905dea898>)"
      ]
     },
     "execution_count": 50,
     "metadata": {},
     "output_type": "execute_result"
    },
    {
     "data": {
      "image/png": "[encoded data removed]",
      "text/plain": [
       "<Figure size 432x288 with 2 Axes>"
      ]
     },
     "metadata": {
      "needs_background": "light"
     },
     "output_type": "display_data"
    }
   ],
   "source": [
    "matrix_histogram_complex(result.U_f)"
   ]
  },
  {
   "cell_type": "code",
   "execution_count": 51,
   "metadata": {
    "ExecuteTime": {
     "end_time": "2019-02-16T11:13:31.022612Z",
     "start_time": "2019-02-16T11:13:30.901195Z"
    }
   },
   "outputs": [
    {
     "data": {
      "text/plain": [
       "(<Figure size 576x432 with 2 Axes>,\n",
       " <matplotlib.axes._subplots.AxesSubplot at 0x7f5905e006a0>)"
      ]
     },
     "execution_count": 51,
     "metadata": {},
     "output_type": "execute_result"
    },
    {
     "data": {
      "image/png": "[encoded data removed]",
      "text/plain": [
       "<Figure size 576x432 with 2 Axes>"
      ]
     },
     "metadata": {
      "needs_background": "light"
     },
     "output_type": "display_data"
    }
   ],
   "source": [
    "hinton(U)"
   ]
  },
  {
   "cell_type": "code",
   "execution_count": 52,
   "metadata": {
    "ExecuteTime": {
     "end_time": "2019-02-16T11:13:31.156834Z",
     "start_time": "2019-02-16T11:13:31.024096Z"
    }
   },
   "outputs": [
    {
     "data": {
      "text/plain": [
       "(<Figure size 576x432 with 2 Axes>,\n",
       " <matplotlib.axes._subplots.AxesSubplot at 0x7f5905c8fef0>)"
      ]
     },
     "execution_count": 52,
     "metadata": {},
     "output_type": "execute_result"
    },
    {
     "data": {
      "image/png": "[encoded data removed]",
      "text/plain": [
       "<Figure size 576x432 with 2 Axes>"
      ]
     },
     "metadata": {
      "needs_background": "light"
     },
     "output_type": "display_data"
    }
   ],
   "source": [
    "hinton(result.U_f)"
   ]
  },
  {
   "cell_type": "code",
   "execution_count": null,
   "metadata": {},
   "outputs": [],
   "source": []
  },
  {
   "cell_type": "code",
   "execution_count": null,
   "metadata": {},
   "outputs": [],
   "source": []
  },
  {
   "cell_type": "code",
   "execution_count": 53,
   "metadata": {
    "ExecuteTime": {
     "end_time": "2019-02-16T11:18:33.088408Z",
     "start_time": "2019-02-16T11:13:31.158369Z"
    }
   },
   "outputs": [
    {
     "data": {
      "text/plain": [
       "(array([-0.00207529+0.j, -0.00207529+0.j, -0.00207529+0.j, -0.00207529+0.j,\n",
       "        -0.00207529+0.j, -0.00207529+0.j, -0.00207529+0.j, -0.00207529+0.j,\n",
       "        -0.00207529+0.j, -0.00207529+0.j, -0.00207529+0.j, -0.00207529+0.j,\n",
       "        -0.00207529+0.j, -0.00207529+0.j, -0.00207529+0.j, -0.00207529+0.j,\n",
       "        -0.00207529+0.j, -0.00207529+0.j, -0.00207529+0.j, -0.00207529+0.j,\n",
       "        -0.00207529+0.j, -0.00207529+0.j, -0.00207529+0.j, -0.00207529+0.j,\n",
       "        -0.00207529+0.j, -0.00207529+0.j, -0.00207529+0.j, -0.00207529+0.j,\n",
       "        -0.00207529+0.j, -0.00207529+0.j, -0.00207529+0.j, -0.00207529+0.j,\n",
       "        -0.00207529+0.j, -0.00207529+0.j, -0.00207529+0.j, -0.00207529+0.j,\n",
       "        -0.00207529+0.j, -0.00207529+0.j, -0.00207529+0.j, -0.00207529+0.j,\n",
       "        -0.00207529+0.j, -0.00207529+0.j, -0.00207529+0.j, -0.00207529+0.j,\n",
       "        -0.00207529+0.j, -0.00207529+0.j, -0.00207529+0.j, -0.00207529+0.j,\n",
       "        -0.00207529+0.j, -0.00207529+0.j, -0.00207529+0.j, -0.00207529+0.j,\n",
       "        -0.00207529+0.j, -0.00207529+0.j, -0.00207529+0.j, -0.00207529+0.j,\n",
       "        -0.00207529+0.j, -0.00207529+0.j, -0.00207529+0.j, -0.00207529+0.j,\n",
       "        -0.00207529+0.j, -0.00207529+0.j, -0.00207529+0.j, -0.00207529+0.j,\n",
       "        -0.00207529+0.j, -0.00207529+0.j, -0.00207529+0.j, -0.00207529+0.j,\n",
       "        -0.00207529+0.j, -0.00207529+0.j, -0.00207529+0.j, -0.00207529+0.j,\n",
       "        -0.00207529+0.j, -0.00207529+0.j, -0.00207529+0.j, -0.00207529+0.j,\n",
       "        -0.00207529+0.j, -0.00207529+0.j, -0.00207529+0.j, -0.00207529+0.j,\n",
       "        -0.00207529+0.j, -0.00207529+0.j, -0.00207529+0.j, -0.00207529+0.j,\n",
       "        -0.00207529+0.j, -0.00207529+0.j, -0.00207529+0.j, -0.00207529+0.j,\n",
       "        -0.00207529+0.j, -0.00207529+0.j, -0.00207529+0.j, -0.00207529+0.j,\n",
       "        -0.00207529+0.j, -0.00207529+0.j, -0.00207529+0.j, -0.00207529+0.j,\n",
       "        -0.00207529+0.j, -0.00207529+0.j, -0.00207529+0.j, -0.00207529+0.j,\n",
       "        -0.00207529+0.j, -0.00207529+0.j, -0.00207529+0.j, -0.00207529+0.j,\n",
       "        -0.00207529+0.j, -0.00207529+0.j, -0.00207529+0.j, -0.00207529+0.j,\n",
       "        -0.00207529+0.j, -0.00207529+0.j, -0.00207529+0.j, -0.00207529+0.j,\n",
       "        -0.00207529+0.j, -0.00207529+0.j, -0.00207529+0.j, -0.00207529+0.j,\n",
       "        -0.00207529+0.j, -0.00207529+0.j, -0.00207529+0.j, -0.00207529+0.j,\n",
       "        -0.00207529+0.j, -0.00207529+0.j, -0.00207529+0.j, -0.00207529+0.j,\n",
       "        -0.00207529+0.j, -0.00207529+0.j, -0.00207529+0.j, -0.00207529+0.j,\n",
       "        -0.00207529+0.j, -0.00207529+0.j, -0.00207529+0.j, -0.00207529+0.j,\n",
       "        -0.00207529+0.j, -0.00207529+0.j, -0.00207529+0.j, -0.00207529+0.j,\n",
       "        -0.00207529+0.j, -0.00207529+0.j, -0.00207529+0.j, -0.00207529+0.j,\n",
       "        -0.00207529+0.j, -0.00207529+0.j, -0.00207529+0.j, -0.00207529+0.j,\n",
       "        -0.00207529+0.j, -0.00207529+0.j, -0.00207529+0.j, -0.00207529+0.j,\n",
       "        -0.00207529+0.j, -0.00207529+0.j, -0.00207529+0.j, -0.00207529+0.j,\n",
       "        -0.00207529+0.j, -0.00207529+0.j, -0.00207529+0.j, -0.00207529+0.j,\n",
       "        -0.00207529+0.j, -0.00207529+0.j, -0.00207529+0.j, -0.00207529+0.j,\n",
       "        -0.00207529+0.j, -0.00207529+0.j, -0.00207529+0.j, -0.00207529+0.j,\n",
       "        -0.00207529+0.j, -0.00207529+0.j, -0.00207529+0.j, -0.00207529+0.j,\n",
       "        -0.00207529+0.j, -0.00207529+0.j, -0.00207529+0.j, -0.00207529+0.j,\n",
       "        -0.00207529+0.j, -0.00207529+0.j, -0.00207529+0.j, -0.00207529+0.j,\n",
       "        -0.00207529+0.j, -0.00207529+0.j, -0.00207529+0.j, -0.00207529+0.j,\n",
       "        -0.00207529+0.j, -0.00207529+0.j, -0.00207529+0.j, -0.00207529+0.j,\n",
       "        -0.00207529+0.j, -0.00207529+0.j, -0.00207529+0.j, -0.00207529+0.j,\n",
       "        -0.00207529+0.j, -0.00207529+0.j, -0.00207529+0.j, -0.00207529+0.j,\n",
       "        -0.00207529+0.j, -0.00207529+0.j, -0.00207529+0.j, -0.00207529+0.j,\n",
       "        -0.00207529+0.j, -0.00207529+0.j, -0.00207529+0.j, -0.00207529+0.j,\n",
       "        -0.00207529+0.j, -0.00207529+0.j, -0.00207529+0.j, -0.00207529+0.j,\n",
       "        -0.00207529+0.j, -0.00207529+0.j, -0.00207529+0.j, -0.00207529+0.j,\n",
       "        -0.00207529+0.j, -0.00207529+0.j, -0.00207529+0.j, -0.00207529+0.j,\n",
       "        -0.00207529+0.j, -0.00207529+0.j, -0.00207529+0.j, -0.00207529+0.j,\n",
       "        -0.00207529+0.j, -0.00207529+0.j, -0.00207529+0.j, -0.00207529+0.j,\n",
       "        -0.00207529+0.j, -0.00207529+0.j, -0.00207529+0.j, -0.00207529+0.j,\n",
       "        -0.00207529+0.j, -0.00207529+0.j, -0.00207529+0.j, -0.00207529+0.j,\n",
       "        -0.00207529+0.j, -0.00207529+0.j, -0.00207529+0.j, -0.00207529+0.j,\n",
       "        -0.00207529+0.j, -0.00207529+0.j, -0.00207529+0.j, -0.00207529+0.j,\n",
       "        -0.00207529+0.j, -0.00207529+0.j, -0.00207529+0.j, -0.00207529+0.j,\n",
       "        -0.00207529+0.j, -0.00207529+0.j, -0.00207529+0.j, -0.00207529+0.j,\n",
       "        -0.00207529+0.j, -0.00207529+0.j, -0.00207529+0.j, -0.00207529+0.j,\n",
       "        -0.00207529+0.j, -0.00207529+0.j, -0.00207529+0.j, -0.00207529+0.j,\n",
       "        -0.00207529+0.j, -0.00207529+0.j, -0.00207529+0.j, -0.00207529+0.j,\n",
       "        -0.00207529+0.j, -0.00207529+0.j, -0.00207529+0.j, -0.00207529+0.j,\n",
       "        -0.00207529+0.j, -0.00207529+0.j, -0.00207529+0.j, -0.00207529+0.j,\n",
       "        -0.00207529+0.j, -0.00207529+0.j, -0.00207529+0.j, -0.00207529+0.j,\n",
       "        -0.00207529+0.j, -0.00207529+0.j, -0.00207529+0.j, -0.00207529+0.j,\n",
       "        -0.00207529+0.j, -0.00207529+0.j, -0.00207529+0.j, -0.00207529+0.j,\n",
       "        -0.00207529+0.j, -0.00207529+0.j, -0.00207529+0.j, -0.00207529+0.j,\n",
       "        -0.00207529+0.j, -0.00207529+0.j, -0.00207529+0.j, -0.00207529+0.j,\n",
       "        -0.00207529+0.j, -0.00207529+0.j, -0.00207529+0.j, -0.00207529+0.j,\n",
       "        -0.00207529+0.j, -0.00207529+0.j, -0.00207529+0.j, -0.00207529+0.j,\n",
       "        -0.00207529+0.j, -0.00207529+0.j, -0.00207529+0.j, -0.00207529+0.j,\n",
       "        -0.00207529+0.j, -0.00207529+0.j, -0.00207529+0.j, -0.00207529+0.j,\n",
       "        -0.00207529+0.j, -0.00207529+0.j, -0.00207529+0.j, -0.00207529+0.j,\n",
       "        -0.00207529+0.j, -0.00207529+0.j, -0.00207529+0.j, -0.00207529+0.j,\n",
       "        -0.00207529+0.j, -0.00207529+0.j, -0.00207529+0.j, -0.00207529+0.j,\n",
       "        -0.00207529+0.j, -0.00207529+0.j, -0.00207529+0.j, -0.00207529+0.j,\n",
       "        -0.00207529+0.j, -0.00207529+0.j, -0.00207529+0.j, -0.00207529+0.j,\n",
       "        -0.00207529+0.j, -0.00207529+0.j, -0.00207529+0.j, -0.00207529+0.j,\n",
       "        -0.00207529+0.j, -0.00207529+0.j, -0.00207529+0.j, -0.00207529+0.j,\n",
       "        -0.00207529+0.j, -0.00207529+0.j, -0.00207529+0.j, -0.00207529+0.j,\n",
       "        -0.00207529+0.j, -0.00207529+0.j, -0.00207529+0.j, -0.00207529+0.j,\n",
       "        -0.00207529+0.j, -0.00207529+0.j, -0.00207529+0.j, -0.00207529+0.j,\n",
       "        -0.00207529+0.j, -0.00207529+0.j, -0.00207529+0.j, -0.00207529+0.j,\n",
       "        -0.00207529+0.j, -0.00207529+0.j, -0.00207529+0.j, -0.00207529+0.j,\n",
       "        -0.00207529+0.j, -0.00207529+0.j, -0.00207529+0.j, -0.00207529+0.j,\n",
       "        -0.00207529+0.j, -0.00207529+0.j, -0.00207529+0.j, -0.00207529+0.j,\n",
       "        -0.00207529+0.j, -0.00207529+0.j, -0.00207529+0.j, -0.00207529+0.j,\n",
       "        -0.00207529+0.j, -0.00207529+0.j, -0.00207529+0.j, -0.00207529+0.j,\n",
       "        -0.00207529+0.j, -0.00207529+0.j, -0.00207529+0.j, -0.00207529+0.j,\n",
       "        -0.00207529+0.j, -0.00207529+0.j, -0.00207529+0.j, -0.00207529+0.j,\n",
       "        -0.00207529+0.j, -0.00207529+0.j, -0.00207529+0.j, -0.00207529+0.j,\n",
       "        -0.00207529+0.j, -0.00207529+0.j, -0.00207529+0.j, -0.00207529+0.j,\n",
       "        -0.00207529+0.j, -0.00207529+0.j, -0.00207529+0.j, -0.00207529+0.j,\n",
       "        -0.00207529+0.j, -0.00207529+0.j, -0.00207529+0.j, -0.00207529+0.j,\n",
       "        -0.00207529+0.j, -0.00207529+0.j, -0.00207529+0.j, -0.00207529+0.j,\n",
       "        -0.00207529+0.j, -0.00207529+0.j, -0.00207529+0.j, -0.00207529+0.j,\n",
       "        -0.00207529+0.j, -0.00207529+0.j, -0.00207529+0.j, -0.00207529+0.j,\n",
       "        -0.00207529+0.j, -0.00207529+0.j, -0.00207529+0.j, -0.00207529+0.j,\n",
       "        -0.00207529+0.j, -0.00207529+0.j, -0.00207529+0.j, -0.00207529+0.j,\n",
       "        -0.00207529+0.j, -0.00207529+0.j, -0.00207529+0.j, -0.00207529+0.j,\n",
       "        -0.00207529+0.j, -0.00207529+0.j, -0.00207529+0.j, -0.00207529+0.j,\n",
       "        -0.00207529+0.j, -0.00207529+0.j, -0.00207529+0.j, -0.00207529+0.j,\n",
       "        -0.00207529+0.j, -0.00207529+0.j, -0.00207529+0.j, -0.00207529+0.j,\n",
       "        -0.00207529+0.j, -0.00207529+0.j, -0.00207529+0.j, -0.00207529+0.j,\n",
       "        -0.00207529+0.j, -0.00207529+0.j, -0.00207529+0.j, -0.00207529+0.j,\n",
       "        -0.00207529+0.j, -0.00207529+0.j, -0.00207529+0.j, -0.00207529+0.j,\n",
       "        -0.00207529+0.j, -0.00207529+0.j, -0.00207529+0.j, -0.00207529+0.j,\n",
       "        -0.00207529+0.j, -0.00207529+0.j, -0.00207529+0.j, -0.00207529+0.j,\n",
       "        -0.00207529+0.j, -0.00207529+0.j, -0.00207529+0.j, -0.00207529+0.j,\n",
       "        -0.00207529+0.j, -0.00207529+0.j, -0.00207529+0.j, -0.00207529+0.j,\n",
       "        -0.00207529+0.j, -0.00207529+0.j, -0.00207529+0.j, -0.00207529+0.j,\n",
       "        -0.00207529+0.j, -0.00207529+0.j, -0.00207529+0.j, -0.00207529+0.j,\n",
       "        -0.00207529+0.j, -0.00207529+0.j, -0.00207529+0.j, -0.00207529+0.j,\n",
       "        -0.00207529+0.j, -0.00207529+0.j, -0.00207529+0.j, -0.00207529+0.j,\n",
       "        -0.00207529+0.j, -0.00207529+0.j, -0.00207529+0.j, -0.00207529+0.j,\n",
       "        -0.00207529+0.j, -0.00207529+0.j, -0.00207529+0.j, -0.00207529+0.j,\n",
       "        -0.00207529+0.j, -0.00207529+0.j, -0.00207529+0.j, -0.00207529+0.j,\n",
       "        -0.00207529+0.j, -0.00207529+0.j, -0.00207529+0.j, -0.00207529+0.j,\n",
       "        -0.00207529+0.j, -0.00207529+0.j, -0.00207529+0.j, -0.00207529+0.j,\n",
       "        -0.00207529+0.j, -0.00207529+0.j, -0.00207529+0.j, -0.00207529+0.j,\n",
       "        -0.00207529+0.j, -0.00207529+0.j, -0.00207529+0.j, -0.00207529+0.j,\n",
       "        -0.00207529+0.j, -0.00207529+0.j, -0.00207529+0.j, -0.00207529+0.j]),\n",
       " array([-0.19473165+0.j, -0.16043213+0.j, -0.15088062+0.j, -0.13957378+0.j,\n",
       "        -0.11474741+0.j, -0.10240934+0.j, -0.108697  +0.j, -0.09122307+0.j,\n",
       "        -0.08722729+0.j, -0.09319258+0.j, -0.08636265+0.j, -0.07812847+0.j,\n",
       "        -0.05527732+0.j, -0.02354153+0.j, -0.01588211+0.j, -0.00820567+0.j,\n",
       "        -0.0038187 +0.j, -0.01461827+0.j,  0.01706295+0.j,  0.02819347+0.j,\n",
       "         0.04017482+0.j,  0.0219297 +0.j,  0.02008984+0.j,  0.00527256+0.j,\n",
       "         0.02611126+0.j,  0.05062657+0.j,  0.07464418+0.j,  0.09945339+0.j,\n",
       "         0.08163296+0.j,  0.10164079+0.j,  0.10317172+0.j,  0.11685968+0.j,\n",
       "         0.14291616+0.j,  0.17818244+0.j,  0.17989396+0.j,  0.19759602+0.j,\n",
       "         0.19835521+0.j,  0.19688813+0.j,  0.23089133+0.j,  0.23254576+0.j,\n",
       "         0.22143887+0.j,  0.22812496+0.j,  0.24164149+0.j,  0.22088135+0.j,\n",
       "         0.20874361+0.j,  0.1944938 +0.j,  0.20690054+0.j,  0.21919315+0.j,\n",
       "         0.22403767+0.j,  0.24910776+0.j,  0.27229001+0.j,  0.29960819+0.j,\n",
       "         0.30611438+0.j,  0.33768079+0.j,  0.34575037+0.j,  0.37696634+0.j,\n",
       "         0.38104334+0.j,  0.39456254+0.j,  0.39631809+0.j,  0.38325796+0.j,\n",
       "         0.38146812+0.j,  0.37562881+0.j,  0.36795862+0.j,  0.36041889+0.j,\n",
       "         0.39638344+0.j,  0.37672248+0.j,  0.39464033+0.j,  0.3935144 +0.j,\n",
       "         0.40885309+0.j,  0.42550648+0.j,  0.43847928+0.j,  0.46056661+0.j,\n",
       "         0.46437365+0.j,  0.4843023 +0.j,  0.4920195 +0.j,  0.51836502+0.j,\n",
       "         0.51249371+0.j,  0.50777763+0.j,  0.50233379+0.j,  0.50883536+0.j,\n",
       "         0.51114241+0.j,  0.5196076 +0.j,  0.53086216+0.j,  0.54423844+0.j,\n",
       "         0.52221128+0.j,  0.52657276+0.j,  0.54592993+0.j,  0.56111811+0.j,\n",
       "         0.55922727+0.j,  0.57172056+0.j,  0.59019303+0.j,  0.57249793+0.j,\n",
       "         0.57101093+0.j,  0.5720435 +0.j,  0.59170312+0.j,  0.59212994+0.j,\n",
       "         0.57496764+0.j,  0.58958217+0.j,  0.59080814+0.j,  0.60010412+0.j,\n",
       "         0.59783294+0.j,  0.62986505+0.j,  0.65074968+0.j,  0.64180293+0.j,\n",
       "         0.64332676+0.j,  0.65438744+0.j,  0.65291489+0.j,  0.66049409+0.j,\n",
       "         0.68961875+0.j,  0.66987157+0.j,  0.68688271+0.j,  0.67285811+0.j,\n",
       "         0.67431853+0.j,  0.66894482+0.j,  0.66991679+0.j,  0.67316831+0.j,\n",
       "         0.67331368+0.j,  0.66170654+0.j,  0.65709807+0.j,  0.66390155+0.j,\n",
       "         0.65066832+0.j,  0.65991827+0.j,  0.65040262+0.j,  0.67288426+0.j,\n",
       "         0.67021213+0.j,  0.66380843+0.j,  0.6827394 +0.j,  0.69021959+0.j,\n",
       "         0.67335715+0.j,  0.67573047+0.j,  0.6645802 +0.j,  0.66893014+0.j,\n",
       "         0.67793325+0.j,  0.65677518+0.j,  0.64655282+0.j,  0.63588605+0.j,\n",
       "         0.62457929+0.j,  0.6224761 +0.j,  0.64648814+0.j,  0.64608408+0.j,\n",
       "         0.65305809+0.j,  0.6454665 +0.j,  0.64727393+0.j,  0.65170075+0.j,\n",
       "         0.65791128+0.j,  0.68002036+0.j,  0.69952373+0.j,  0.68077673+0.j,\n",
       "         0.65813094+0.j,  0.65068365+0.j,  0.6620862 +0.j,  0.64013039+0.j,\n",
       "         0.64384627+0.j,  0.64388529+0.j,  0.65695164+0.j,  0.64850518+0.j,\n",
       "         0.63894576+0.j,  0.63268654+0.j,  0.64892376+0.j,  0.66441105+0.j,\n",
       "         0.65046904+0.j,  0.64594245+0.j,  0.61606737+0.j,  0.60927699+0.j,\n",
       "         0.58049002+0.j,  0.55801957+0.j,  0.53696045+0.j,  0.54188238+0.j,\n",
       "         0.50942283+0.j,  0.48498316+0.j,  0.47733679+0.j,  0.48786728+0.j,\n",
       "         0.50788705+0.j,  0.50745114+0.j,  0.51089646+0.j,  0.52180959+0.j,\n",
       "         0.52732468+0.j,  0.53011863+0.j,  0.55365138+0.j,  0.55354985+0.j,\n",
       "         0.5584992 +0.j,  0.55673312+0.j,  0.52092969+0.j,  0.52029283+0.j,\n",
       "         0.52795116+0.j,  0.50576757+0.j,  0.50045042+0.j,  0.47374662+0.j,\n",
       "         0.4644717 +0.j,  0.47451014+0.j,  0.45176796+0.j,  0.43236712+0.j,\n",
       "         0.45354491+0.j,  0.4438527 +0.j,  0.4318431 +0.j,  0.43079822+0.j,\n",
       "         0.43394552+0.j,  0.43223403+0.j,  0.42246449+0.j,  0.38949662+0.j,\n",
       "         0.37927969+0.j,  0.36547007+0.j,  0.33257263+0.j,  0.30825236+0.j,\n",
       "         0.29818864+0.j,  0.2972896 +0.j,  0.26115146+0.j,  0.26248414+0.j,\n",
       "         0.25001761+0.j,  0.24241186+0.j,  0.24479164+0.j,  0.2367091 +0.j,\n",
       "         0.24278937+0.j,  0.25817389+0.j,  0.24821564+0.j,  0.23236144+0.j,\n",
       "         0.23614492+0.j,  0.23653455+0.j,  0.22920418+0.j,  0.24188473+0.j,\n",
       "         0.23683308+0.j,  0.22950285+0.j,  0.20559782+0.j,  0.18313868+0.j,\n",
       "         0.17626289+0.j,  0.15394532+0.j,  0.15872906+0.j,  0.14659467+0.j,\n",
       "         0.14029852+0.j,  0.12337232+0.j,  0.10684132+0.j,  0.10108268+0.j,\n",
       "         0.11513519+0.j,  0.1162902 +0.j,  0.1030881 +0.j,  0.11258055+0.j,\n",
       "         0.08494698+0.j,  0.07643722+0.j,  0.04868793+0.j,  0.03753726+0.j,\n",
       "         0.04269276+0.j,  0.05598705+0.j,  0.04653261+0.j,  0.01519938+0.j,\n",
       "         0.02328898+0.j,  0.01450617+0.j,  0.00335103+0.j, -0.02376325+0.j,\n",
       "        -0.01432146+0.j, -0.01435478+0.j, -0.03150049+0.j, -0.04490664+0.j,\n",
       "        -0.07686618+0.j, -0.0602836 +0.j, -0.07070597+0.j, -0.09265824+0.j,\n",
       "        -0.07814467+0.j, -0.08591822+0.j, -0.09683447+0.j, -0.11822039+0.j,\n",
       "        -0.12200769+0.j, -0.13689176+0.j, -0.13945475+0.j, -0.16549464+0.j,\n",
       "        -0.17115101+0.j, -0.16085404+0.j, -0.1831204 +0.j, -0.17812983+0.j,\n",
       "        -0.19016109+0.j, -0.19098644+0.j, -0.20798694+0.j, -0.22928772+0.j,\n",
       "        -0.2431292 +0.j, -0.2382417 +0.j, -0.27323276+0.j, -0.29138842+0.j,\n",
       "        -0.30964311+0.j, -0.31679114+0.j, -0.32640381+0.j, -0.32823946+0.j,\n",
       "        -0.32731537+0.j, -0.31051041+0.j, -0.29142021+0.j, -0.31025013+0.j,\n",
       "        -0.28849573+0.j, -0.28687978+0.j, -0.28698545+0.j, -0.28925467+0.j,\n",
       "        -0.30206993+0.j, -0.30223202+0.j, -0.30848896+0.j, -0.33810679+0.j,\n",
       "        -0.34152141+0.j, -0.32527018+0.j, -0.33178605+0.j, -0.35209188+0.j,\n",
       "        -0.3389625 +0.j, -0.35859916+0.j, -0.35189135+0.j, -0.38250327+0.j,\n",
       "        -0.40062746+0.j, -0.37914739+0.j, -0.39931599+0.j, -0.41367838+0.j,\n",
       "        -0.41446795+0.j, -0.41147014+0.j, -0.41740585+0.j, -0.41763053+0.j,\n",
       "        -0.43269231+0.j, -0.4366105 +0.j, -0.42474198+0.j, -0.44329174+0.j,\n",
       "        -0.44125223+0.j, -0.44282951+0.j, -0.47138816+0.j, -0.45806846+0.j,\n",
       "        -0.45992091+0.j, -0.45926259+0.j, -0.44254841+0.j, -0.42181363+0.j,\n",
       "        -0.41268663+0.j, -0.41019953+0.j, -0.41310839+0.j, -0.42004099+0.j,\n",
       "        -0.41653477+0.j, -0.4333757 +0.j, -0.44621736+0.j, -0.44058703+0.j,\n",
       "        -0.46079675+0.j, -0.46733578+0.j, -0.49442312+0.j, -0.51079942+0.j,\n",
       "        -0.50177908+0.j, -0.50296331+0.j, -0.50046828+0.j, -0.50317685+0.j,\n",
       "        -0.49962697+0.j, -0.4934676 +0.j, -0.48290453+0.j, -0.47596732+0.j,\n",
       "        -0.46731807+0.j, -0.46277998+0.j, -0.47039074+0.j, -0.4588621 +0.j,\n",
       "        -0.47023686+0.j, -0.45859624+0.j, -0.464402  +0.j, -0.46602092+0.j,\n",
       "        -0.46323558+0.j, -0.48610555+0.j, -0.48749127+0.j, -0.47954407+0.j,\n",
       "        -0.49055187+0.j, -0.51016015+0.j, -0.5060245 +0.j, -0.50808851+0.j,\n",
       "        -0.51939189+0.j, -0.53180034+0.j, -0.54229673+0.j, -0.52570009+0.j,\n",
       "        -0.50897981+0.j, -0.50025765+0.j, -0.49133781+0.j, -0.49332727+0.j,\n",
       "        -0.47414776+0.j, -0.486486  +0.j, -0.46039539+0.j, -0.45889948+0.j,\n",
       "        -0.44294157+0.j, -0.44426853+0.j, -0.44972757+0.j, -0.45534956+0.j,\n",
       "        -0.44576921+0.j, -0.41582012+0.j, -0.42027926+0.j, -0.39346736+0.j,\n",
       "        -0.41283959+0.j, -0.40928668+0.j, -0.41485874+0.j, -0.41305431+0.j,\n",
       "        -0.42569231+0.j, -0.428986  +0.j, -0.42935507+0.j, -0.4532764 +0.j,\n",
       "        -0.45678695+0.j, -0.47431978+0.j, -0.46036988+0.j, -0.43502176+0.j,\n",
       "        -0.42246166+0.j, -0.40663898+0.j, -0.38464745+0.j, -0.37061073+0.j,\n",
       "        -0.36245269+0.j, -0.33080643+0.j, -0.32505499+0.j, -0.30155288+0.j,\n",
       "        -0.30630777+0.j, -0.30963987+0.j, -0.29560321+0.j, -0.30329793+0.j,\n",
       "        -0.30939098+0.j, -0.29187889+0.j, -0.27762409+0.j, -0.28991621+0.j,\n",
       "        -0.26981856+0.j, -0.27090277+0.j, -0.25588129+0.j, -0.25181555+0.j,\n",
       "        -0.26079206+0.j, -0.23676456+0.j, -0.20615123+0.j, -0.2208739 +0.j,\n",
       "        -0.24034126+0.j, -0.23933854+0.j, -0.24734081+0.j, -0.25116499+0.j,\n",
       "        -0.22799004+0.j, -0.2381022 +0.j, -0.21478584+0.j, -0.22532444+0.j,\n",
       "        -0.22737401+0.j, -0.21923739+0.j, -0.20089014+0.j, -0.16752798+0.j,\n",
       "        -0.16462733+0.j, -0.13708879+0.j, -0.14356176+0.j, -0.12096089+0.j,\n",
       "        -0.11901563+0.j, -0.10830498+0.j, -0.101744  +0.j, -0.07022373+0.j,\n",
       "        -0.06961369+0.j, -0.06344524+0.j, -0.04668542+0.j, -0.05299491+0.j,\n",
       "        -0.04103943+0.j, -0.03698095+0.j, -0.04201126+0.j, -0.04529644+0.j,\n",
       "        -0.02846023+0.j, -0.02283366+0.j,  0.00793382+0.j, -0.00924743+0.j,\n",
       "         0.01217804+0.j,  0.02690248+0.j,  0.03760943+0.j,  0.04798077+0.j,\n",
       "         0.06482132+0.j,  0.07655041+0.j,  0.08539124+0.j,  0.09738471+0.j,\n",
       "         0.09753069+0.j,  0.10903037+0.j,  0.0980708 +0.j,  0.09447536+0.j,\n",
       "         0.10576265+0.j,  0.103008  +0.j,  0.10985669+0.j,  0.14195383+0.j,\n",
       "         0.13550076+0.j,  0.12361994+0.j,  0.11540418+0.j,  0.1187744 +0.j,\n",
       "         0.13305643+0.j,  0.15922583+0.j,  0.16639284+0.j,  0.19927099+0.j,\n",
       "         0.19495673+0.j,  0.17653828+0.j,  0.18874787+0.j,  0.21364954+0.j,\n",
       "         0.22937225+0.j,  0.26091198+0.j,  0.26113076+0.j,  0.25565738+0.j,\n",
       "         0.26407607+0.j,  0.24855763+0.j,  0.27353745+0.j,  0.28159112+0.j,\n",
       "         0.27666588+0.j,  0.26111159+0.j,  0.25916392+0.j,  0.27295753+0.j,\n",
       "         0.28236021+0.j,  0.28340607+0.j,  0.29121634+0.j,  0.32083416+0.j,\n",
       "         0.33228529+0.j,  0.34846844+0.j,  0.36821196+0.j,  0.38859615+0.j,\n",
       "         0.41022189+0.j,  0.3913663 +0.j,  0.41498606+0.j,  0.42709177+0.j,\n",
       "         0.41522938+0.j,  0.39759319+0.j,  0.38053138+0.j,  0.38053138+0.j]))"
      ]
     },
     "execution_count": 53,
     "metadata": {},
     "output_type": "execute_result"
    }
   ],
   "source": [
    "updater(result.u[-1, 0, : ] , (2*pi)/500, epsilon=((0.1*2*pi)/(10**3)))"
   ]
  },
  {
   "cell_type": "code",
   "execution_count": 54,
   "metadata": {
    "ExecuteTime": {
     "end_time": "2019-02-16T11:18:33.092077Z",
     "start_time": "2019-02-16T11:18:33.089580Z"
    }
   },
   "outputs": [
    {
     "data": {
      "text/plain": [
       "6.283185307179586"
      ]
     },
     "execution_count": 54,
     "metadata": {},
     "output_type": "execute_result"
    }
   ],
   "source": [
    "times[-1]"
   ]
  },
  {
   "cell_type": "code",
   "execution_count": 55,
   "metadata": {
    "ExecuteTime": {
     "end_time": "2019-02-16T11:18:33.178413Z",
     "start_time": "2019-02-16T11:18:33.093190Z"
    }
   },
   "outputs": [
    {
     "data": {
      "text/plain": [
       "6.283185307179586"
      ]
     },
     "execution_count": 55,
     "metadata": {},
     "output_type": "execute_result"
    }
   ],
   "source": [
    "total_time_evo"
   ]
  },
  {
   "cell_type": "markdown",
   "metadata": {},
   "source": [
    "## joining qutip to my code"
   ]
  },
  {
   "cell_type": "markdown",
   "metadata": {
    "ExecuteTime": {
     "end_time": "2019-02-15T04:25:13.615608Z",
     "start_time": "2019-02-15T04:25:13.566890Z"
    }
   },
   "source": [
    "##### total_time\n",
    "---------------------------------------------------------------------------\n",
    "NameError                                 Traceback (most recent call last)\n",
    "<ipython-input-55-9bec417112c8> in <module>()\n",
    "----> 1 total_time\n",
    "\n",
    "NameError: name 'total_time' is not defined\n"
   ]
  },
  {
   "cell_type": "code",
   "execution_count": 56,
   "metadata": {
    "ExecuteTime": {
     "end_time": "2019-02-16T11:18:33.277284Z",
     "start_time": "2019-02-16T11:18:33.179707Z"
    }
   },
   "outputs": [
    {
     "data": {
      "text/plain": [
       "500"
      ]
     },
     "execution_count": 56,
     "metadata": {},
     "output_type": "execute_result"
    }
   ],
   "source": [
    "len(times)"
   ]
  },
  {
   "cell_type": "markdown",
   "metadata": {
    "ExecuteTime": {
     "end_time": "2019-02-15T04:33:44.601387Z",
     "start_time": "2019-02-15T04:33:44.593763Z"
    },
    "code_folding": []
   },
   "source": [
    "def terminator(max_iter, time_steps=len(times), total_time= total_time_evo,\n",
    "               epsilon= 2*pi*1):\n",
    "    r\"\"\"Brief description of the function\"\"\"\n",
    "    \n",
    "    xi_initial = result.u[-1, 0, : ] \n",
    "    #1000*random_sample((time_steps,))\n",
    "    dt = (2*pi)/500  #total_time/time_steps\n",
    "    xi_diff, xi_new_vec = updater(xi_initial, dt, epsilon)\n",
    "    \n",
    "    for i in range(max_iter):\n",
    "        if amax(xi_diff) < epsilon**2 :\n",
    "            xi_final = xi_new_vec\n",
    "            break\n",
    "        else :\n",
    "            xi_diff, xi_new_vec = updater(xi_new_vec, dt, epsilon)\n",
    "            print(i)\n",
    "            print(amax(xi_diff))\n",
    "            \n",
    "        \n",
    "    xi_final = xi_new_vec    \n",
    "    return xi_final"
   ]
  },
  {
   "cell_type": "code",
   "execution_count": 57,
   "metadata": {
    "ExecuteTime": {
     "end_time": "2019-02-16T11:18:33.436275Z",
     "start_time": "2019-02-16T11:18:33.279730Z"
    },
    "code_folding": []
   },
   "outputs": [],
   "source": [
    "def terminator(max_iter, time_steps=len(times),\n",
    "              total_time=total_time_evo,\n",
    "              epsilon=2*pi*1):\n",
    "    r\"\"\"Brief description of the function\"\"\"\n",
    "    xi_initial = result.u[-1, 0, :]\n",
    "    # 1000*random_sample((time_steps,))\n",
    "    dt = (2*pi)/500 #total_time/time_steps\n",
    "    xi_diff, xi_new_vec = updater(xi_initial, dt, epsilon)\n",
    "    min_iter = int(max_iter/2)\n",
    "    for i in range(max_iter):\n",
    "        if i == 0:\n",
    "            print(\"Hi\")\n",
    "            \n",
    "        \n",
    "        if i > min_iter :\n",
    "            \n",
    "            if i > min_iter + 1 :\n",
    "                print(\"Surpassed minimum iteration barrier\")\n",
    "            if amax(xi_diff) < epsilon**2 :\n",
    "                xi_final = xi_new_vec\n",
    "                print(\"Tejas is unlucky\")\n",
    "                print(\"Attempted iterations \", i)\n",
    "                break\n",
    "            else :\n",
    "                xi_diff, xi_new_vec = updater(xi_new_vec, dt, epsilon)\n",
    "                print(\"Tejas is a good boy\")\n",
    "                print(i)\n",
    "                print(amax(xi_diff))\n",
    "        \n",
    "        else :\n",
    "            print(\"Normal life\")\n",
    "            xi_diff, xi_new_vec = updater(xi_new_vec, dt, epsilon)\n",
    "            print(i)\n",
    "            print(amax(xi_diff))\n",
    "            \n",
    "    return xi_final\n"
   ]
  },
  {
   "cell_type": "markdown",
   "metadata": {},
   "source": [
    "## sub topic 3"
   ]
  },
  {
   "cell_type": "code",
   "execution_count": 58,
   "metadata": {
    "ExecuteTime": {
     "end_time": "2019-02-16T11:18:33.519087Z",
     "start_time": "2019-02-16T11:18:33.437641Z"
    }
   },
   "outputs": [],
   "source": [
    "new_label = [r'$g_{with diss}$']"
   ]
  },
  {
   "cell_type": "markdown",
   "metadata": {},
   "source": [
    "### try"
   ]
  },
  {
   "cell_type": "code",
   "execution_count": 59,
   "metadata": {
    "ExecuteTime": {
     "end_time": "2019-02-16T11:54:08.467863Z",
     "start_time": "2019-02-16T11:18:33.520491Z"
    }
   },
   "outputs": [
    {
     "name": "stdout",
     "output_type": "stream",
     "text": [
      "Hi\n",
      "Normal life\n",
      "0\n",
      "(-41.305796078296375+0j)\n",
      "Normal life\n",
      "1\n",
      "(-41.27209721607235+0j)\n",
      "Normal life\n",
      "2\n",
      "(-41.27631555998097+0j)\n",
      "Normal life\n",
      "3\n",
      "(-41.276749580409366+0j)\n",
      "Normal life\n",
      "4\n",
      "(-41.27371313083948+0j)\n",
      "Normal life\n",
      "5\n",
      "(-41.27788722896377+0j)\n",
      "Tejas is unlucky\n",
      "Attempted iterations  6\n"
     ]
    }
   ],
   "source": [
    "xi_opt = terminator(10)"
   ]
  },
  {
   "cell_type": "code",
   "execution_count": 60,
   "metadata": {
    "ExecuteTime": {
     "end_time": "2019-02-16T11:54:08.470911Z",
     "start_time": "2019-02-16T11:54:08.468944Z"
    }
   },
   "outputs": [],
   "source": [
    "time_steps=len(times)\n",
    "total_time= total_time_evo\n",
    "epsilon= 2*pi*1"
   ]
  },
  {
   "cell_type": "code",
   "execution_count": 61,
   "metadata": {
    "ExecuteTime": {
     "end_time": "2019-02-16T11:54:09.339179Z",
     "start_time": "2019-02-16T11:54:08.472400Z"
    }
   },
   "outputs": [
    {
     "data": {
      "text/plain": [
       "-4.2190689295942185"
      ]
     },
     "execution_count": 61,
     "metadata": {},
     "output_type": "execute_result"
    }
   ],
   "source": [
    "dt = (2*pi)/500\n",
    "F(xi_opt, dt)"
   ]
  },
  {
   "cell_type": "code",
   "execution_count": 62,
   "metadata": {
    "ExecuteTime": {
     "end_time": "2019-02-16T11:54:10.033039Z",
     "start_time": "2019-02-16T11:54:09.340427Z"
    }
   },
   "outputs": [
    {
     "data": {
      "text/latex": [
       "Quantum object: dims = [[2, 2], [2, 2]], shape = (4, 4), type = oper, isherm = False\\begin{equation*}\\left(\\begin{array}{*{11}c}0.407 & (-0.250+4.391\\times10^{-04}j) & (-0.250-4.391\\times10^{-04}j) & 0.593\\\\(0.250-4.386\\times10^{-04}j) & (0.049-9.316\\times10^{-04}j) & (-0.236-1.221\\times10^{-06}j) & (-0.250+4.386\\times10^{-04}j)\\\\(0.250+4.386\\times10^{-04}j) & (-0.236+1.221\\times10^{-06}j) & (0.049+9.316\\times10^{-04}j) & (-0.250-4.386\\times10^{-04}j)\\\\0.593 & (0.250-4.391\\times10^{-04}j) & (0.250+4.391\\times10^{-04}j) & 0.407\\\\\\end{array}\\right)\\end{equation*}"
      ],
      "text/plain": [
       "Quantum object: dims = [[2, 2], [2, 2]], shape = (4, 4), type = oper, isherm = False\n",
       "Qobj data =\n",
       "[[ 0.40669388+0.00000000e+00j -0.24990865+4.39074890e-04j\n",
       "  -0.24990865-4.39074890e-04j  0.59330612+0.00000000e+00j]\n",
       " [ 0.24990877-4.38580075e-04j  0.04909078-9.31563509e-04j\n",
       "  -0.23551837-1.22115050e-06j -0.24990877+4.38580075e-04j]\n",
       " [ 0.24990877+4.38580075e-04j -0.23551837+1.22115050e-06j\n",
       "   0.04909078+9.31563509e-04j -0.24990877-4.38580075e-04j]\n",
       " [ 0.59330612+0.00000000e+00j  0.24990865-4.39074890e-04j\n",
       "   0.24990865+4.39074890e-04j  0.40669388+0.00000000e+00j]]"
      ]
     },
     "execution_count": 62,
     "metadata": {},
     "output_type": "execute_result"
    }
   ],
   "source": [
    "L_full_maker(xi_opt, dt)"
   ]
  },
  {
   "cell_type": "code",
   "execution_count": 63,
   "metadata": {
    "ExecuteTime": {
     "end_time": "2019-02-16T11:54:10.138158Z",
     "start_time": "2019-02-16T11:54:10.034189Z"
    }
   },
   "outputs": [
    {
     "name": "stderr",
     "output_type": "stream",
     "text": [
      "/home/tejas/anaconda3/envs/qutip-env/lib/python3.6/site-packages/numpy/core/numeric.py:501: ComplexWarning: Casting complex values to real discards the imaginary part\n",
      "  return array(a, dtype, copy=False, order=order)\n",
      "/home/tejas/anaconda3/envs/qutip-env/lib/python3.6/site-packages/matplotlib/transforms.py:968: ComplexWarning: Casting complex values to real discards the imaginary part\n",
      "  self._points[:, 1] = interval\n"
     ]
    },
    {
     "data": {
      "image/png": "[encoded data removed]",
      "text/plain": [
       "<Figure size 432x288 with 1 Axes>"
      ]
     },
     "metadata": {
      "needs_background": "light"
     },
     "output_type": "display_data"
    }
   ],
   "source": [
    "ax = axes()\n",
    "ax.plot(times, xi_opt)\n",
    "xi_max = amax(xi_opt) + 0.1\n",
    "xi_min = amin(xi_opt) - 0.1\n",
    "\n",
    "ax.set(xlim=(0, total_time_evo), ylim=(xi_min, xi_max),\n",
    "       xlabel='time', ylabel= r'$g_{with diss}$',\n",
    "       title='Control field in the presence of dissipation');"
   ]
  },
  {
   "cell_type": "markdown",
   "metadata": {},
   "source": [
    "### try"
   ]
  },
  {
   "cell_type": "code",
   "execution_count": null,
   "metadata": {
    "ExecuteTime": {
     "start_time": "2019-02-16T11:07:40.893Z"
    }
   },
   "outputs": [
    {
     "name": "stdout",
     "output_type": "stream",
     "text": [
      "Hi\n",
      "Normal life\n",
      "0\n",
      "(-41.305796078296375+0j)\n",
      "Normal life\n",
      "1\n",
      "(-41.27209721607235+0j)\n",
      "Normal life\n",
      "2\n",
      "(-41.27631555998097+0j)\n",
      "Normal life\n",
      "3\n",
      "(-41.276749580409366+0j)\n",
      "Normal life\n",
      "4\n",
      "(-41.27371313083948+0j)\n",
      "Normal life\n",
      "5\n",
      "(-41.27788722896377+0j)\n",
      "Normal life\n",
      "6\n",
      "(-41.273295475540465+0j)\n",
      "Normal life\n",
      "7\n",
      "(-41.27779238214654+0j)\n",
      "Normal life\n",
      "8\n",
      "(-41.273795605418954+0j)\n",
      "Normal life\n",
      "9\n",
      "(-41.27705588921271+0j)\n",
      "Normal life\n",
      "10\n",
      "(-41.27469174188106+0j)\n",
      "Normal life\n",
      "11\n",
      "(-41.276095714205404+0j)\n",
      "Normal life\n",
      "12\n",
      "(-41.27560949353324+0j)\n",
      "Normal life\n",
      "13\n",
      "(-41.27525785762632+0j)\n",
      "Normal life\n",
      "14\n",
      "(-41.27628144676038+0j)\n",
      "Normal life\n",
      "15\n",
      "(-41.27476699455374+0j)\n",
      "Normal life\n",
      "16\n",
      "(-41.27656301800032+0j)\n",
      "Normal life\n",
      "17\n",
      "(-41.274695559373+0j)\n",
      "Normal life\n",
      "18\n",
      "(-41.27644993117017+0j)\n",
      "Normal life\n",
      "19\n",
      "(-41.27497193723647+0j)\n",
      "Normal life\n",
      "20\n",
      "(-41.27605895968879+0j)\n",
      "Normal life\n",
      "21\n",
      "(-41.275431051193856+0j)\n",
      "Normal life\n",
      "22\n",
      "(-41.27557629579591+0j)\n",
      "Normal life\n",
      "23\n",
      "(-41.27588151609717+0j)\n",
      "Normal life\n",
      "24\n",
      "(-41.27518983777281+0j)\n",
      "Normal life\n",
      "25\n",
      "(-41.27616689709128+0j)\n",
      "Normal life\n",
      "26\n",
      "(-41.275023218563454+0j)\n",
      "Normal life\n",
      "27\n",
      "(-41.27620945552667+0j)\n",
      "Normal life\n",
      "28\n",
      "(-41.27510324234556+0j)\n",
      "Normal life\n"
     ]
    }
   ],
   "source": [
    "xi_opt = terminator(1000)"
   ]
  },
  {
   "cell_type": "code",
   "execution_count": null,
   "metadata": {
    "ExecuteTime": {
     "start_time": "2019-02-16T11:07:40.899Z"
    }
   },
   "outputs": [],
   "source": [
    "time_steps=len(times)\n",
    "total_time= total_time_evo\n",
    "epsilon= 2*pi*1"
   ]
  },
  {
   "cell_type": "code",
   "execution_count": null,
   "metadata": {
    "ExecuteTime": {
     "start_time": "2019-02-16T11:07:40.903Z"
    }
   },
   "outputs": [],
   "source": [
    "dt = (2*pi)/500\n",
    "F(xi_opt, dt)"
   ]
  },
  {
   "cell_type": "code",
   "execution_count": null,
   "metadata": {
    "ExecuteTime": {
     "start_time": "2019-02-16T11:07:40.907Z"
    }
   },
   "outputs": [],
   "source": [
    "L_full_maker(xi_opt, dt)"
   ]
  },
  {
   "cell_type": "code",
   "execution_count": null,
   "metadata": {
    "ExecuteTime": {
     "start_time": "2019-02-16T11:07:40.912Z"
    }
   },
   "outputs": [],
   "source": [
    "ax = axes()\n",
    "ax.plot(times, xi_opt)\n",
    "xi_max = amax(xi_opt) + 0.1\n",
    "xi_min = amin(xi_opt) - 0.1\n",
    "\n",
    "ax.set(xlim=(0, total_time_evo), ylim=(xi_min, xi_max),\n",
    "       xlabel='time', ylabel= r'$g_{with diss}$',\n",
    "       title='Control field in the presence of dissipation');"
   ]
  },
  {
   "cell_type": "markdown",
   "metadata": {},
   "source": [
    "### try"
   ]
  },
  {
   "cell_type": "code",
   "execution_count": null,
   "metadata": {
    "ExecuteTime": {
     "start_time": "2019-02-16T11:07:41.061Z"
    }
   },
   "outputs": [],
   "source": [
    "xi_opt = terminator(1000,time_steps=len(times), total_time= total_time_evo,\n",
    "               epsilon= ((0.1*2*pi)/(times[-1])))"
   ]
  },
  {
   "cell_type": "code",
   "execution_count": null,
   "metadata": {
    "ExecuteTime": {
     "start_time": "2019-02-16T11:07:41.064Z"
    }
   },
   "outputs": [],
   "source": [
    "time_steps=len(times)\n",
    "total_time= total_time_evo\n",
    "epsilon = ((0.1*2*pi)/(times[-1]))"
   ]
  },
  {
   "cell_type": "code",
   "execution_count": null,
   "metadata": {
    "ExecuteTime": {
     "start_time": "2019-02-16T11:07:41.067Z"
    }
   },
   "outputs": [],
   "source": [
    "dt = (2*pi)/500\n",
    "F(xi_opt, dt)"
   ]
  },
  {
   "cell_type": "code",
   "execution_count": null,
   "metadata": {
    "ExecuteTime": {
     "start_time": "2019-02-16T11:07:41.069Z"
    }
   },
   "outputs": [],
   "source": [
    "L_full_maker(xi_opt, dt)"
   ]
  },
  {
   "cell_type": "code",
   "execution_count": null,
   "metadata": {
    "ExecuteTime": {
     "start_time": "2019-02-16T11:07:41.073Z"
    }
   },
   "outputs": [],
   "source": [
    "ax = axes()\n",
    "ax.plot(times, xi_opt)\n",
    "xi_max = amax(xi_opt) + 0.1\n",
    "xi_min = amin(xi_opt) - 0.1\n",
    "\n",
    "ax.set(xlim=(0, total_time_evo), ylim=(xi_min, xi_max),\n",
    "       xlabel='time', ylabel= r'$g_{with diss}$',\n",
    "       title='Control field in the presence of dissipation');"
   ]
  },
  {
   "cell_type": "markdown",
   "metadata": {},
   "source": [
    "### try"
   ]
  },
  {
   "cell_type": "code",
   "execution_count": null,
   "metadata": {
    "ExecuteTime": {
     "start_time": "2019-02-16T11:07:41.223Z"
    }
   },
   "outputs": [],
   "source": [
    "xi_opt = terminator(10,time_steps=len(times), total_time= total_time_evo,\n",
    "               epsilon= ((0.1*2*pi)/(times[-1])))"
   ]
  },
  {
   "cell_type": "code",
   "execution_count": null,
   "metadata": {
    "ExecuteTime": {
     "start_time": "2019-02-16T11:07:41.229Z"
    }
   },
   "outputs": [],
   "source": [
    "time_steps=len(times)\n",
    "total_time= total_time_evo\n",
    "epsilon = ((0.1*2*pi)/(times[-1]))"
   ]
  },
  {
   "cell_type": "code",
   "execution_count": null,
   "metadata": {
    "ExecuteTime": {
     "start_time": "2019-02-16T11:07:41.234Z"
    }
   },
   "outputs": [],
   "source": [
    "dt = (2*pi)/500\n",
    "F(xi_opt, dt)"
   ]
  },
  {
   "cell_type": "code",
   "execution_count": null,
   "metadata": {
    "ExecuteTime": {
     "start_time": "2019-02-16T11:07:41.237Z"
    }
   },
   "outputs": [],
   "source": [
    "L_full_maker(xi_opt, dt)"
   ]
  },
  {
   "cell_type": "code",
   "execution_count": null,
   "metadata": {
    "ExecuteTime": {
     "start_time": "2019-02-16T11:07:41.240Z"
    }
   },
   "outputs": [],
   "source": [
    "ax = axes()\n",
    "ax.plot(times, xi_opt)\n",
    "xi_max = amax(xi_opt) + 0.1\n",
    "xi_min = amin(xi_opt) - 0.1\n",
    "\n",
    "ax.set(xlim=(0, total_time_evo), ylim=(xi_min, xi_max),\n",
    "       xlabel='time', ylabel= r'$g_{with diss}$',\n",
    "       title='Control field in the presence of dissipation');"
   ]
  },
  {
   "cell_type": "markdown",
   "metadata": {},
   "source": [
    "### try"
   ]
  },
  {
   "cell_type": "code",
   "execution_count": null,
   "metadata": {
    "ExecuteTime": {
     "start_time": "2019-02-16T11:07:41.404Z"
    }
   },
   "outputs": [],
   "source": [
    "xi_opt = terminator(1000,time_steps=len(times), total_time= total_time_evo,\n",
    "               epsilon= ((0.1*2*pi)/(10**3)))"
   ]
  },
  {
   "cell_type": "code",
   "execution_count": null,
   "metadata": {
    "ExecuteTime": {
     "start_time": "2019-02-16T11:07:41.407Z"
    }
   },
   "outputs": [],
   "source": [
    "time_steps=len(times)\n",
    "total_time= total_time_evo\n",
    "epsilon = ((0.1*2*pi)/(times[-1]))"
   ]
  },
  {
   "cell_type": "code",
   "execution_count": null,
   "metadata": {
    "ExecuteTime": {
     "start_time": "2019-02-16T11:07:41.410Z"
    }
   },
   "outputs": [],
   "source": [
    "dt = (2*pi)/500\n",
    "F(xi_opt, dt)"
   ]
  },
  {
   "cell_type": "code",
   "execution_count": null,
   "metadata": {
    "ExecuteTime": {
     "start_time": "2019-02-16T11:07:41.413Z"
    }
   },
   "outputs": [],
   "source": [
    "F(result.u[-1, 0, : ], dt)"
   ]
  },
  {
   "cell_type": "code",
   "execution_count": null,
   "metadata": {
    "ExecuteTime": {
     "start_time": "2019-02-16T11:07:41.419Z"
    }
   },
   "outputs": [],
   "source": [
    "L_full_maker(xi_opt, dt)"
   ]
  },
  {
   "cell_type": "code",
   "execution_count": null,
   "metadata": {
    "ExecuteTime": {
     "start_time": "2019-02-16T11:07:41.421Z"
    }
   },
   "outputs": [],
   "source": [
    "len(times)"
   ]
  },
  {
   "cell_type": "code",
   "execution_count": null,
   "metadata": {
    "ExecuteTime": {
     "start_time": "2019-02-16T11:07:41.424Z"
    }
   },
   "outputs": [],
   "source": [
    "new_label = [r'$g_{with diss}$']"
   ]
  },
  {
   "cell_type": "markdown",
   "metadata": {
    "ExecuteTime": {
     "end_time": "2019-02-14T15:50:39.160854Z",
     "start_time": "2019-02-14T15:50:39.155605Z"
    }
   },
   "source": [
    "'''plot_grape_control_fields(times,\n",
    "                          xi_opt / (2 * np.pi), new_label, uniform_axes=True);\n",
    "ValueError                                Traceback (most recent call last)\n",
    "<ipython-input-67-f3ebb7c23258> in <module>()\n",
    "      1 plot_grape_control_fields(times,\n",
    "----> 2                           xi_opt / (2 * np.pi), new_label, uniform_axes=True);\n",
    "\n",
    "/anaconda3/envs/qutip-env/lib/python3.6/site-packages/qutip/control/grape.py in plot_grape_control_fields(times, u, labels, uniform_axes)\n",
    "    101     import matplotlib.pyplot as plt\n",
    "    102 \n",
    "--> 103     R, J, M = u.shape\n",
    "    104 \n",
    "    105     fig, axes = plt.subplots(J, 1, figsize=(8, 2 * J), squeeze=False)\n",
    "\n",
    "ValueError: not enough values to unpack (expected 3, got 1) '''"
   ]
  },
  {
   "cell_type": "code",
   "execution_count": null,
   "metadata": {
    "ExecuteTime": {
     "start_time": "2019-02-16T11:07:41.582Z"
    }
   },
   "outputs": [],
   "source": [
    "ax = axes()\n",
    "ax.plot(times, xi_opt)\n",
    "ax.set(xlim=(0, total_time_evo), ylim=(-0.8,0.8 ),\n",
    "       xlabel='time', ylabel= r'$g_{with diss}$',\n",
    "       title='Control field in the presence of dissipation');"
   ]
  },
  {
   "cell_type": "code",
   "execution_count": null,
   "metadata": {
    "ExecuteTime": {
     "start_time": "2019-02-16T11:07:41.587Z"
    }
   },
   "outputs": [],
   "source": [
    "ax = axes()\n",
    "ax.plot(times, xi_opt)\n",
    "xi_max = amax(xi_opt) + 0.1\n",
    "xi_min = amin(xi_opt) - 0.1\n",
    "\n",
    "ax.set(xlim=(0, total_time_evo), ylim=(xi_min, xi_max),\n",
    "       xlabel='time', ylabel= r'$g_{with diss}$',\n",
    "       title='Control field in the presence of dissipation');"
   ]
  },
  {
   "cell_type": "code",
   "execution_count": null,
   "metadata": {
    "ExecuteTime": {
     "start_time": "2019-02-16T11:07:41.591Z"
    }
   },
   "outputs": [],
   "source": [
    "ax = axes()\n",
    "ax.plot(times, result.u[-1, 0, : ])\n",
    "xi_max = amax(result.u[-1, 0, : ]) + 0.1\n",
    "xi_min = amin(result.u[-1, 0, : ]) - 0.1\n",
    "\n",
    "ax.set(xlim=(0, total_time_evo), ylim=(xi_min, xi_max),\n",
    "       xlabel='time', ylabel= r'$g_{with diss}$',\n",
    "       title='old Control field in the presence of \\\n",
    "              dissipation produced by qutip');"
   ]
  },
  {
   "cell_type": "markdown",
   "metadata": {},
   "source": [
    "### try"
   ]
  },
  {
   "cell_type": "code",
   "execution_count": null,
   "metadata": {
    "ExecuteTime": {
     "start_time": "2019-02-16T11:07:41.757Z"
    }
   },
   "outputs": [],
   "source": [
    "xi_opt = terminator(1000,time_steps=len(times), total_time= total_time_evo,\n",
    "               epsilon= ((0.1*2*pi)/(10**4)))"
   ]
  },
  {
   "cell_type": "code",
   "execution_count": null,
   "metadata": {
    "ExecuteTime": {
     "start_time": "2019-02-16T11:07:41.761Z"
    }
   },
   "outputs": [],
   "source": [
    "dt = (2*pi)/500\n",
    "F(xi_opt, dt)"
   ]
  },
  {
   "cell_type": "code",
   "execution_count": null,
   "metadata": {
    "ExecuteTime": {
     "start_time": "2019-02-16T11:07:41.763Z"
    }
   },
   "outputs": [],
   "source": [
    "L_full_maker(xi_opt, dt)"
   ]
  },
  {
   "cell_type": "code",
   "execution_count": null,
   "metadata": {
    "ExecuteTime": {
     "start_time": "2019-02-16T11:07:41.766Z"
    }
   },
   "outputs": [],
   "source": [
    "ax = axes()\n",
    "ax.plot(times, xi_opt)\n",
    "xi_max = amax(xi_opt) + 0.1\n",
    "xi_min = amin(xi_opt) - 0.1\n",
    "\n",
    "ax.set(xlim=(0, total_time_evo), ylim=(xi_min, xi_max),\n",
    "       xlabel='time', ylabel= r'$g_{with diss}$',\n",
    "       title='Control field in the presence of dissipation');"
   ]
  },
  {
   "cell_type": "markdown",
   "metadata": {},
   "source": [
    "### try"
   ]
  },
  {
   "cell_type": "code",
   "execution_count": null,
   "metadata": {
    "ExecuteTime": {
     "start_time": "2019-02-16T11:07:41.927Z"
    }
   },
   "outputs": [],
   "source": [
    "xi_opt = terminator(10**4,time_steps=len(times), total_time= total_time_evo,\n",
    "               epsilon= ((0.1*2*pi)/(10**3)))"
   ]
  },
  {
   "cell_type": "code",
   "execution_count": null,
   "metadata": {
    "ExecuteTime": {
     "start_time": "2019-02-16T11:07:41.931Z"
    }
   },
   "outputs": [],
   "source": [
    "dt = (2*pi)/500\n",
    "F(xi_opt, dt)"
   ]
  },
  {
   "cell_type": "code",
   "execution_count": null,
   "metadata": {
    "ExecuteTime": {
     "start_time": "2019-02-16T11:07:41.935Z"
    }
   },
   "outputs": [],
   "source": [
    "L_full_maker(xi_opt, dt)"
   ]
  },
  {
   "cell_type": "code",
   "execution_count": null,
   "metadata": {
    "ExecuteTime": {
     "start_time": "2019-02-16T11:07:41.938Z"
    }
   },
   "outputs": [],
   "source": [
    "ax = axes()\n",
    "ax.plot(times, xi_opt)\n",
    "xi_max = amax(xi_opt) + 0.1\n",
    "xi_min = amin(xi_opt) - 0.1\n",
    "\n",
    "ax.set(xlim=(0, total_time_evo), ylim=(xi_min, xi_max),\n",
    "       xlabel='time', ylabel= r'$g_{with diss}$',\n",
    "       title='Control field in the presence of dissipation');"
   ]
  },
  {
   "cell_type": "markdown",
   "metadata": {},
   "source": [
    "### try"
   ]
  },
  {
   "cell_type": "code",
   "execution_count": null,
   "metadata": {
    "ExecuteTime": {
     "start_time": "2019-02-16T11:07:42.106Z"
    }
   },
   "outputs": [],
   "source": [
    "xi_opt = terminator(10**4,time_steps=len(times), total_time= total_time_evo,\n",
    "               epsilon= ((0.1*2*pi)/(10**4)))"
   ]
  },
  {
   "cell_type": "code",
   "execution_count": null,
   "metadata": {
    "ExecuteTime": {
     "start_time": "2019-02-16T11:07:42.110Z"
    }
   },
   "outputs": [],
   "source": [
    "dt = (2*pi)/500\n",
    "F(xi_opt, dt)"
   ]
  },
  {
   "cell_type": "code",
   "execution_count": null,
   "metadata": {
    "ExecuteTime": {
     "start_time": "2019-02-16T11:07:42.122Z"
    }
   },
   "outputs": [],
   "source": [
    "L_full_maker(xi_opt, dt)"
   ]
  },
  {
   "cell_type": "code",
   "execution_count": null,
   "metadata": {
    "ExecuteTime": {
     "start_time": "2019-02-16T11:07:42.126Z"
    }
   },
   "outputs": [],
   "source": [
    "ax = axes()\n",
    "ax.plot(times, xi_opt)\n",
    "xi_max = amax(xi_opt) + 0.1\n",
    "xi_min = amin(xi_opt) - 0.1\n",
    "\n",
    "ax.set(xlim=(0, total_time_evo), ylim=(xi_min, xi_max),\n",
    "       xlabel='time', ylabel= r'$g_{with diss}$',\n",
    "       title='Control field in the presence of dissipation');"
   ]
  },
  {
   "cell_type": "markdown",
   "metadata": {},
   "source": [
    "### try"
   ]
  },
  {
   "cell_type": "code",
   "execution_count": null,
   "metadata": {
    "ExecuteTime": {
     "start_time": "2019-02-16T11:07:42.311Z"
    }
   },
   "outputs": [],
   "source": [
    "xi_opt = terminator(10**4,time_steps=len(times), total_time= total_time_evo,\n",
    "               epsilon= ((0.1*2*pi)/(10**10)))"
   ]
  },
  {
   "cell_type": "code",
   "execution_count": null,
   "metadata": {
    "ExecuteTime": {
     "start_time": "2019-02-16T11:07:42.314Z"
    }
   },
   "outputs": [],
   "source": [
    "dt = (2*pi)/500\n",
    "F(xi_opt, dt)"
   ]
  },
  {
   "cell_type": "code",
   "execution_count": null,
   "metadata": {
    "ExecuteTime": {
     "start_time": "2019-02-16T11:07:42.316Z"
    }
   },
   "outputs": [],
   "source": [
    "L_full_maker(xi_opt, dt)"
   ]
  },
  {
   "cell_type": "code",
   "execution_count": null,
   "metadata": {
    "ExecuteTime": {
     "start_time": "2019-02-16T11:07:42.319Z"
    }
   },
   "outputs": [],
   "source": [
    "ax = axes()\n",
    "ax.plot(times, xi_opt)\n",
    "xi_max = amax(xi_opt) + 0.1\n",
    "xi_min = amin(xi_opt) - 0.1\n",
    "\n",
    "ax.set(xlim=(0, total_time_evo), ylim=(xi_min, xi_max),\n",
    "       xlabel='time', ylabel= r'$g_{with diss}$',\n",
    "       title='Control field in the presence of dissipation');"
   ]
  },
  {
   "cell_type": "markdown",
   "metadata": {},
   "source": [
    "### try"
   ]
  },
  {
   "cell_type": "code",
   "execution_count": null,
   "metadata": {
    "ExecuteTime": {
     "start_time": "2019-02-16T11:07:42.522Z"
    }
   },
   "outputs": [],
   "source": [
    "xi_opt = terminator(10**4,time_steps=10**3, total_time= total_time_evo,\n",
    "               epsilon= ((0.1*2*pi)/(10**3)))"
   ]
  },
  {
   "cell_type": "code",
   "execution_count": null,
   "metadata": {
    "ExecuteTime": {
     "start_time": "2019-02-16T11:07:42.525Z"
    }
   },
   "outputs": [],
   "source": [
    "dt = (2*pi)/(10**3)#(2*pi)/500\n",
    "# probaly happened because of hard coding of dt inside terminator\n",
    "# must try it again after changing that\n",
    "F(xi_opt, dt)\n"
   ]
  },
  {
   "cell_type": "code",
   "execution_count": null,
   "metadata": {
    "ExecuteTime": {
     "start_time": "2019-02-16T11:07:42.528Z"
    }
   },
   "outputs": [],
   "source": [
    "L_full_maker(xi_opt, dt)"
   ]
  },
  {
   "cell_type": "code",
   "execution_count": null,
   "metadata": {
    "ExecuteTime": {
     "start_time": "2019-02-16T11:07:42.531Z"
    }
   },
   "outputs": [],
   "source": [
    "ax = axes()\n",
    "ax.plot(times, xi_opt)\n",
    "xi_max = amax(xi_opt) + 0.1\n",
    "xi_min = amin(xi_opt) - 0.1\n",
    "\n",
    "ax.set(xlim=(0, total_time_evo), ylim=(xi_min, xi_max),\n",
    "       xlabel='time', ylabel= r'$g_{with diss}$',\n",
    "       title='Control field in the presence of dissipation');"
   ]
  },
  {
   "cell_type": "markdown",
   "metadata": {},
   "source": [
    "## APS stuff"
   ]
  },
  {
   "cell_type": "markdown",
   "metadata": {},
   "source": [
    "### infidelity function tryouts"
   ]
  },
  {
   "cell_type": "code",
   "execution_count": null,
   "metadata": {
    "ExecuteTime": {
     "start_time": "2019-02-16T11:07:42.921Z"
    }
   },
   "outputs": [],
   "source": [
    "qone = basis(2, 0)\n",
    "qone"
   ]
  },
  {
   "cell_type": "code",
   "execution_count": null,
   "metadata": {
    "ExecuteTime": {
     "start_time": "2019-02-16T11:07:42.924Z"
    }
   },
   "outputs": [],
   "source": [
    "qzero = basis(2, 1)\n",
    "qzero"
   ]
  },
  {
   "cell_type": "markdown",
   "metadata": {
    "ExecuteTime": {
     "end_time": "2019-02-15T04:40:16.961355Z",
     "start_time": "2019-02-15T04:40:16.952718Z"
    }
   },
   "source": [
    "###### ket2bra\n",
    "---------------------------------------------------------------------------\n",
    "NameError                                 Traceback (most recent call last)\n",
    "<ipython-input-69-8f247c0c4d8f> in <module>()\n",
    "----> 1 ket2bra\n",
    "\n",
    "NameError: name 'ket2bra' is not defined\n"
   ]
  },
  {
   "cell_type": "code",
   "execution_count": null,
   "metadata": {
    "ExecuteTime": {
     "start_time": "2019-02-16T11:07:43.124Z"
    }
   },
   "outputs": [],
   "source": [
    "(sigmax()).matrix_element(qone, qzero)"
   ]
  },
  {
   "cell_type": "code",
   "execution_count": null,
   "metadata": {
    "ExecuteTime": {
     "start_time": "2019-02-16T11:07:43.128Z"
    }
   },
   "outputs": [],
   "source": [
    "abs((sigmax()).matrix_element(qone, qzero))"
   ]
  },
  {
   "cell_type": "code",
   "execution_count": null,
   "metadata": {
    "ExecuteTime": {
     "start_time": "2019-02-16T11:07:43.131Z"
    }
   },
   "outputs": [],
   "source": [
    "abs(2 + 3j)"
   ]
  },
  {
   "cell_type": "code",
   "execution_count": null,
   "metadata": {
    "ExecuteTime": {
     "start_time": "2019-02-16T11:07:43.134Z"
    }
   },
   "outputs": [],
   "source": [
    "abs(3 + 4j)"
   ]
  },
  {
   "cell_type": "code",
   "execution_count": null,
   "metadata": {
    "ExecuteTime": {
     "start_time": "2019-02-16T11:07:43.137Z"
    }
   },
   "outputs": [],
   "source": [
    "def infidelity_to_one(U):\n",
    "    r\"\"\"infidelity to state one\"\"\"\n",
    "    fidelity = (abs(U.matrix_element(qone, qzero)))**2\n",
    "    infidelity = 1 - fidelity\n",
    "    return infidelity"
   ]
  },
  {
   "cell_type": "code",
   "execution_count": null,
   "metadata": {
    "ExecuteTime": {
     "start_time": "2019-02-16T11:07:43.140Z"
    }
   },
   "outputs": [],
   "source": [
    "infidelity_to_one(sigmax()) \n",
    "# 1 - abs((sigmax()).matrix_element(qone, qzero))\n",
    "# 1 - 1 = 0"
   ]
  },
  {
   "cell_type": "markdown",
   "metadata": {},
   "source": [
    "  result.u, result.u but lindbladian evolution, xi_opt"
   ]
  },
  {
   "cell_type": "code",
   "execution_count": null,
   "metadata": {
    "ExecuteTime": {
     "start_time": "2019-02-16T11:07:43.404Z"
    }
   },
   "outputs": [],
   "source": [
    "qone.overlap(qzero)"
   ]
  },
  {
   "cell_type": "code",
   "execution_count": null,
   "metadata": {
    "ExecuteTime": {
     "start_time": "2019-02-16T11:07:43.407Z"
    }
   },
   "outputs": [],
   "source": [
    "qzero.overlap(qzero)"
   ]
  },
  {
   "cell_type": "code",
   "execution_count": null,
   "metadata": {
    "ExecuteTime": {
     "start_time": "2019-02-16T11:07:43.410Z"
    }
   },
   "outputs": [],
   "source": [
    "qone.overlap(qone)"
   ]
  },
  {
   "cell_type": "code",
   "execution_count": null,
   "metadata": {
    "ExecuteTime": {
     "start_time": "2019-02-16T11:07:43.413Z"
    }
   },
   "outputs": [],
   "source": [
    "def infidelity_to_state(psi):\n",
    "    r\"\"\"infidelity to state one\"\"\"\n",
    "    fidelity = (abs(qone.overlap(psi)))**2\n",
    "    infidelity = 1 - fidelity\n",
    "    return infidelity"
   ]
  },
  {
   "cell_type": "code",
   "execution_count": null,
   "metadata": {
    "ExecuteTime": {
     "start_time": "2019-02-16T11:07:43.416Z"
    }
   },
   "outputs": [],
   "source": [
    "infidelity_to_state(qzero)"
   ]
  },
  {
   "cell_type": "code",
   "execution_count": null,
   "metadata": {
    "ExecuteTime": {
     "start_time": "2019-02-16T11:07:43.419Z"
    }
   },
   "outputs": [],
   "source": [
    "infidelity_to_state(qone)"
   ]
  },
  {
   "cell_type": "code",
   "execution_count": null,
   "metadata": {
    "ExecuteTime": {
     "start_time": "2019-02-16T11:07:43.423Z"
    }
   },
   "outputs": [],
   "source": [
    "#mesolve"
   ]
  },
  {
   "cell_type": "markdown",
   "metadata": {
    "ExecuteTime": {
     "end_time": "2019-02-15T04:40:17.005913Z",
     "start_time": "2019-02-15T04:34:35.127Z"
    }
   },
   "source": [
    "\n",
    "### state building"
   ]
  },
  {
   "cell_type": "code",
   "execution_count": null,
   "metadata": {
    "ExecuteTime": {
     "start_time": "2019-02-16T11:07:43.636Z"
    }
   },
   "outputs": [],
   "source": [
    "H_no_diss = [H_0, [H_1, result.u[-1, 0, :] ]]\n",
    "grape_no_diss = mesolve(H_no_diss, qzero, times, c_ops=[], e_ops=[], \n",
    "                        args={}, options=None, \n",
    "                        progress_bar=EnhancedTextProgressBar() )"
   ]
  },
  {
   "cell_type": "code",
   "execution_count": null,
   "metadata": {
    "ExecuteTime": {
     "start_time": "2019-02-16T11:07:43.639Z"
    }
   },
   "outputs": [],
   "source": [
    "len(grape_no_diss.states)"
   ]
  },
  {
   "cell_type": "code",
   "execution_count": null,
   "metadata": {
    "ExecuteTime": {
     "start_time": "2019-02-16T11:07:43.644Z"
    }
   },
   "outputs": [],
   "source": [
    "Lin"
   ]
  },
  {
   "cell_type": "code",
   "execution_count": null,
   "metadata": {
    "ExecuteTime": {
     "start_time": "2019-02-16T11:07:43.647Z"
    }
   },
   "outputs": [],
   "source": [
    "sqrt(gamma)"
   ]
  },
  {
   "cell_type": "code",
   "execution_count": null,
   "metadata": {
    "ExecuteTime": {
     "start_time": "2019-02-16T11:07:43.651Z"
    }
   },
   "outputs": [],
   "source": [
    "c_ops_tejas = sqrt(gamma)*Lin\n",
    "c_ops_tejas"
   ]
  },
  {
   "cell_type": "code",
   "execution_count": null,
   "metadata": {
    "ExecuteTime": {
     "start_time": "2019-02-16T11:07:43.654Z"
    }
   },
   "outputs": [],
   "source": [
    "H_diss = [H_0, [H_1, result.u[-1, 0, :] ]]\n",
    "grape_diss = mesolve(H_no_diss, qzero, times, c_ops=[c_ops_tejas], e_ops=[], \n",
    "                        args={}, options=None, \n",
    "                        progress_bar=EnhancedTextProgressBar() )"
   ]
  },
  {
   "cell_type": "code",
   "execution_count": null,
   "metadata": {
    "ExecuteTime": {
     "start_time": "2019-02-16T11:07:43.657Z"
    }
   },
   "outputs": [],
   "source": [
    "len(grape_diss.states)"
   ]
  },
  {
   "cell_type": "code",
   "execution_count": null,
   "metadata": {
    "ExecuteTime": {
     "start_time": "2019-02-16T11:07:43.661Z"
    }
   },
   "outputs": [],
   "source": [
    "H_diss_optimized = [H_0, [H_1, xi_opt ]]\n",
    "grape_diss_optimized = mesolve(H_no_diss, qzero, times, c_ops=[c_ops_tejas], \n",
    "                               e_ops=[], args={}, options=None, \n",
    "                               progress_bar=TextProgressBar() )"
   ]
  },
  {
   "cell_type": "code",
   "execution_count": null,
   "metadata": {
    "ExecuteTime": {
     "start_time": "2019-02-16T11:07:43.664Z"
    }
   },
   "outputs": [],
   "source": [
    "len(grape_diss_optimized.states)"
   ]
  },
  {
   "cell_type": "markdown",
   "metadata": {},
   "source": [
    "### states list to fidelity list"
   ]
  },
  {
   "cell_type": "code",
   "execution_count": null,
   "metadata": {
    "ExecuteTime": {
     "start_time": "2019-02-16T11:07:43.884Z"
    }
   },
   "outputs": [],
   "source": [
    "infidelity_to_state_vec = vectorize(infidelity_to_state)"
   ]
  },
  {
   "cell_type": "code",
   "execution_count": null,
   "metadata": {
    "ExecuteTime": {
     "start_time": "2019-02-16T11:07:43.888Z"
    }
   },
   "outputs": [],
   "source": [
    "infid_grape_no_diss = infidelity_to_state_vec(grape_no_diss.states)"
   ]
  },
  {
   "cell_type": "code",
   "execution_count": null,
   "metadata": {
    "ExecuteTime": {
     "start_time": "2019-02-16T11:07:43.890Z"
    }
   },
   "outputs": [],
   "source": [
    "'''fid_grape_diss = infidelity_to_state_vec(grape_diss.states)\n",
    "TypeError                                 Traceback (most recent call last)\n",
    "<ipython-input-101-fbabc06eff84> in <module>()\n",
    "----> 1 fid_grape_diss = infidelity_to_state_vec(grape_diss.states)\n",
    "\n",
    "/anaconda3/envs/qutip-env/lib/python3.6/site-packages/numpy/lib/function_base.py in __call__(self, *args, **kwargs)\n",
    "   2753             vargs.extend([kwargs[_n] for _n in names])\n",
    "   2754 \n",
    "-> 2755         return self._vectorize_call(func=func, args=vargs)\n",
    "   2756 \n",
    "   2757     def _get_ufunc_and_otypes(self, func, args):\n",
    "\n",
    "/anaconda3/envs/qutip-env/lib/python3.6/site-packages/numpy/lib/function_base.py in _vectorize_call(self, func, args)\n",
    "   2823             res = func()\n",
    "   2824         else:\n",
    "-> 2825             ufunc, otypes = self._get_ufunc_and_otypes(func=func, args=args)\n",
    "   2826 \n",
    "   2827             # Convert args to object arrays first\n",
    "\n",
    "/anaconda3/envs/qutip-env/lib/python3.6/site-packages/numpy/lib/function_base.py in _get_ufunc_and_otypes(self, func, args)\n",
    "   2783 \n",
    "   2784             inputs = [arg.flat[0] for arg in args]\n",
    "-> 2785             outputs = func(*inputs)\n",
    "   2786 \n",
    "   2787             # Performance note: profiling indicates that -- for simple\n",
    "\n",
    "<ipython-input-96-32321f8d8a33> in infidelity_to_state(psi)\n",
    "      1 def infidelity_to_state(psi):\n",
    "      2     r\"\"\"infidelity to state one\"\"\"\n",
    "----> 3     fidelity = (abs(qone.overlap(psi)))**2\n",
    "      4     infidelity = 1 - fidelity\n",
    "      5     return infidelity\n",
    "\n",
    "/anaconda3/envs/qutip-env/lib/python3.6/site-packages/qutip/qobj.py in overlap(self, state)\n",
    "   1486                     return (self.data.H * state.data)[0, 0]\n",
    "   1487 \n",
    "-> 1488         raise TypeError(\"Can only calculate overlap for state vector Qobjs\")\n",
    "   1489 \n",
    "   1490     def eigenstates(self, sparse=False, sort='low',\n",
    "\n",
    "TypeError: Can only calculate overlap for state vector Qobjs\n",
    "\n",
    "\n",
    "'''"
   ]
  },
  {
   "cell_type": "markdown",
   "metadata": {
    "ExecuteTime": {
     "end_time": "2019-02-15T05:53:06.567791Z",
     "start_time": "2019-02-15T05:53:06.556851Z"
    }
   },
   "source": [
    "fid_grape_no_diss = infidelity_to_state_vec(grape_no_diss.states)"
   ]
  },
  {
   "cell_type": "code",
   "execution_count": null,
   "metadata": {
    "ExecuteTime": {
     "start_time": "2019-02-16T11:07:44.116Z"
    }
   },
   "outputs": [],
   "source": [
    "fidelity(sigmax(), sigmax())"
   ]
  },
  {
   "cell_type": "code",
   "execution_count": null,
   "metadata": {
    "ExecuteTime": {
     "start_time": "2019-02-16T11:07:44.120Z"
    }
   },
   "outputs": [],
   "source": [
    "zero_dm = ket2dm(qzero)\n",
    "zero_dm"
   ]
  },
  {
   "cell_type": "code",
   "execution_count": null,
   "metadata": {
    "ExecuteTime": {
     "start_time": "2019-02-16T11:07:44.123Z"
    }
   },
   "outputs": [],
   "source": [
    "one_dm = ket2dm(qone)\n",
    "one_dm"
   ]
  },
  {
   "cell_type": "code",
   "execution_count": null,
   "metadata": {
    "ExecuteTime": {
     "start_time": "2019-02-16T11:07:44.126Z"
    }
   },
   "outputs": [],
   "source": [
    "fidelity(zero_dm, zero_dm)"
   ]
  },
  {
   "cell_type": "code",
   "execution_count": null,
   "metadata": {
    "ExecuteTime": {
     "start_time": "2019-02-16T11:07:44.129Z"
    }
   },
   "outputs": [],
   "source": [
    "fidelity(zero_dm, one_dm)"
   ]
  },
  {
   "cell_type": "code",
   "execution_count": null,
   "metadata": {
    "ExecuteTime": {
     "start_time": "2019-02-16T11:07:44.133Z"
    }
   },
   "outputs": [],
   "source": [
    "fidelity(one_dm, zero_dm)"
   ]
  },
  {
   "cell_type": "code",
   "execution_count": null,
   "metadata": {
    "ExecuteTime": {
     "start_time": "2019-02-16T11:07:44.136Z"
    }
   },
   "outputs": [],
   "source": [
    "grape_no_diss.states[5]"
   ]
  },
  {
   "cell_type": "code",
   "execution_count": null,
   "metadata": {
    "ExecuteTime": {
     "start_time": "2019-02-16T11:07:44.140Z"
    }
   },
   "outputs": [],
   "source": [
    "grape_diss.states[5]"
   ]
  },
  {
   "cell_type": "code",
   "execution_count": null,
   "metadata": {
    "ExecuteTime": {
     "start_time": "2019-02-16T11:07:44.144Z"
    }
   },
   "outputs": [],
   "source": [
    "grape_diss.states[7]"
   ]
  },
  {
   "cell_type": "code",
   "execution_count": null,
   "metadata": {
    "ExecuteTime": {
     "start_time": "2019-02-16T11:07:44.147Z"
    }
   },
   "outputs": [],
   "source": [
    "fidelity(grape_diss.states[7], one_dm)"
   ]
  },
  {
   "cell_type": "code",
   "execution_count": null,
   "metadata": {
    "ExecuteTime": {
     "start_time": "2019-02-16T11:07:44.150Z"
    }
   },
   "outputs": [],
   "source": [
    "#0.012−2.347×10**−05j)"
   ]
  },
  {
   "cell_type": "code",
   "execution_count": null,
   "metadata": {
    "ExecuteTime": {
     "start_time": "2019-02-16T11:07:44.154Z"
    }
   },
   "outputs": [],
   "source": [
    "def infidelity_tejas(dm, d=2):\n",
    "    r\"\"\"Brief description of the function\"\"\"\n",
    "    infid = 1 - fidelity(one_dm, dm)\n",
    "    return infid"
   ]
  },
  {
   "cell_type": "code",
   "execution_count": null,
   "metadata": {
    "ExecuteTime": {
     "start_time": "2019-02-16T11:07:44.157Z"
    }
   },
   "outputs": [],
   "source": [
    "infid_dm_vec = vectorize(infidelity_tejas)"
   ]
  },
  {
   "cell_type": "code",
   "execution_count": null,
   "metadata": {
    "ExecuteTime": {
     "start_time": "2019-02-16T11:07:44.161Z"
    }
   },
   "outputs": [],
   "source": [
    "infid_grape_diss = infid_dm_vec(grape_diss.states) "
   ]
  },
  {
   "cell_type": "code",
   "execution_count": null,
   "metadata": {
    "ExecuteTime": {
     "start_time": "2019-02-16T11:07:44.164Z"
    }
   },
   "outputs": [],
   "source": [
    "len(infid_grape_diss)"
   ]
  },
  {
   "cell_type": "code",
   "execution_count": null,
   "metadata": {
    "ExecuteTime": {
     "start_time": "2019-02-16T11:07:44.168Z"
    }
   },
   "outputs": [],
   "source": [
    "infid_grape_diss_optimized = infid_dm_vec(grape_diss_optimized.states) "
   ]
  },
  {
   "cell_type": "code",
   "execution_count": null,
   "metadata": {
    "ExecuteTime": {
     "start_time": "2019-02-16T11:07:44.171Z"
    }
   },
   "outputs": [],
   "source": [
    "len(infid_grape_diss_optimized)"
   ]
  },
  {
   "cell_type": "markdown",
   "metadata": {},
   "source": [
    "### plots"
   ]
  },
  {
   "cell_type": "code",
   "execution_count": null,
   "metadata": {
    "ExecuteTime": {
     "start_time": "2019-02-16T11:07:44.416Z"
    },
    "code_folding": []
   },
   "outputs": [],
   "source": [
    "ax = axes()\n",
    "ax.plot(times, infid_grape_no_diss, label='grape_no_diss')\n",
    "ax.plot(times, infid_grape_diss, label='grape_diss')\n",
    "ax.plot(times, infid_grape_diss_optimized, label='grape_diss_optimized')\n",
    "#ax.plot(x, cos(x), ':b', label='cos(x)')'-g',\n",
    "#ax.axis('equal')\n",
    "ax.legend()\n",
    "ax.set(xlim=(times[0],times[-1]), ylim=(0, 1.1),\n",
    "       xlabel='time', ylabel='Infidelity',\n",
    "       title='Infidelity as a function of time ');"
   ]
  },
  {
   "cell_type": "code",
   "execution_count": null,
   "metadata": {
    "ExecuteTime": {
     "start_time": "2019-02-16T11:07:44.419Z"
    }
   },
   "outputs": [],
   "source": [
    "ax = axes()\n",
    "ax.plot(times, infid_grape_no_diss, label='grape_no_diss')\n",
    "ax.plot(times, infid_grape_diss, label='grape_diss')\n",
    "#ax.plot(times, infid_grape_diss_optimized, label='grape_diss_optimized')\n",
    "#ax.plot(x, cos(x), ':b', label='cos(x)')'-g',\n",
    "#ax.axis('equal')\n",
    "ax.legend()\n",
    "\n",
    "ax.set(xlim=(times[0],times[-1]), ylim=(0, 1.1),\n",
    "       xlabel='time', ylabel='Infidelity',\n",
    "       title='Infidelity as a function of time ');"
   ]
  },
  {
   "cell_type": "code",
   "execution_count": null,
   "metadata": {
    "ExecuteTime": {
     "start_time": "2019-02-16T11:07:44.424Z"
    }
   },
   "outputs": [],
   "source": [
    "ax = axes()\n",
    "ax.plot(times, infid_grape_no_diss, label='grape_no_diss')\n",
    "#ax.plot(times, infid_grape_diss, label='grape_diss')\n",
    "ax.plot(times, infid_grape_diss_optimized, label='grape_diss_optimized')\n",
    "#ax.plot(x, cos(x), ':b', label='cos(x)')'-g',\n",
    "#ax.axis('equal')\n",
    "ax.legend()\n",
    "\n",
    "ax.set(xlim=(times[0],times[-1]), ylim=(0, 1.1),\n",
    "       xlabel='time', ylabel='Infidelity',\n",
    "       title='Infidelity as a function of time ');"
   ]
  },
  {
   "cell_type": "code",
   "execution_count": null,
   "metadata": {
    "ExecuteTime": {
     "start_time": "2019-02-16T11:07:44.427Z"
    }
   },
   "outputs": [],
   "source": [
    "ax = axes()\n",
    "c_diff = result.u[-1, 0, : ] - xi_opt\n",
    "ax.plot(times, c_diff)\n",
    "c_max = amax(c_diff) + 0.1\n",
    "c_min = amin(c_diff) - 0.1\n",
    "\n",
    "ax.set(xlim=(0, total_time_evo), ylim=(c_min, c_max),\n",
    "       xlabel='time', ylabel= 'diff',\n",
    "       title='difference');"
   ]
  },
  {
   "cell_type": "code",
   "execution_count": null,
   "metadata": {},
   "outputs": [],
   "source": []
  },
  {
   "cell_type": "code",
   "execution_count": null,
   "metadata": {},
   "outputs": [],
   "source": []
  },
  {
   "cell_type": "code",
   "execution_count": null,
   "metadata": {},
   "outputs": [],
   "source": []
  },
  {
   "cell_type": "code",
   "execution_count": null,
   "metadata": {},
   "outputs": [],
   "source": []
  },
  {
   "cell_type": "code",
   "execution_count": null,
   "metadata": {},
   "outputs": [],
   "source": []
  },
  {
   "cell_type": "code",
   "execution_count": null,
   "metadata": {
    "ExecuteTime": {
     "start_time": "2019-02-16T11:07:44.433Z"
    }
   },
   "outputs": [],
   "source": [
    "ax = axes()\n",
    "ax.plot(times, xi_opt)\n",
    "xi_max = amax(xi_opt) + 0.1\n",
    "xi_min = amin(xi_opt) - 0.1\n",
    "\n",
    "ax.set(xlim=(0, total_time_evo), ylim=(xi_min, xi_max),\n",
    "       xlabel='time', ylabel= r'$g_{with diss}$',\n",
    "       title='Control field in the presence of dissipation');"
   ]
  },
  {
   "cell_type": "code",
   "execution_count": null,
   "metadata": {},
   "outputs": [],
   "source": []
  },
  {
   "cell_type": "code",
   "execution_count": null,
   "metadata": {},
   "outputs": [],
   "source": []
  },
  {
   "cell_type": "code",
   "execution_count": null,
   "metadata": {},
   "outputs": [],
   "source": []
  },
  {
   "cell_type": "code",
   "execution_count": null,
   "metadata": {},
   "outputs": [],
   "source": []
  },
  {
   "cell_type": "markdown",
   "metadata": {},
   "source": [
    "## Versions"
   ]
  },
  {
   "cell_type": "code",
   "execution_count": null,
   "metadata": {
    "ExecuteTime": {
     "start_time": "2019-02-16T11:07:44.699Z"
    }
   },
   "outputs": [],
   "source": [
    "from qutip.ipynbtools import version_table\n",
    "\n",
    "version_table()"
   ]
  },
  {
   "cell_type": "code",
   "execution_count": null,
   "metadata": {
    "ExecuteTime": {
     "start_time": "2019-02-16T11:07:44.703Z"
    }
   },
   "outputs": [],
   "source": [
    "cnot()"
   ]
  },
  {
   "cell_type": "code",
   "execution_count": null,
   "metadata": {},
   "outputs": [],
   "source": []
  }
 ],
 "metadata": {
  "kernelspec": {
   "display_name": "Python 3",
   "language": "python",
   "name": "python3"
  },
  "language_info": {
   "codemirror_mode": {
    "name": "ipython",
    "version": 3
   },
   "file_extension": ".py",
   "mimetype": "text/x-python",
   "name": "python",
   "nbconvert_exporter": "python",
   "pygments_lexer": "ipython3",
   "version": "3.6.8"
  },
  "toc": {
   "base_numbering": 1,
   "nav_menu": {},
   "number_sections": true,
   "sideBar": true,
   "skip_h1_title": false,
   "title_cell": "Table of Contents",
   "title_sidebar": "Contents",
   "toc_cell": false,
   "toc_position": {
    "height": "calc(100% - 180px)",
    "left": "10px",
    "top": "150px",
    "width": "288px"
   },
   "toc_section_display": true,
   "toc_window_display": true
  },
  "varInspector": {
   "cols": {
    "lenName": 16,
    "lenType": 16,
    "lenVar": 40
   },
   "kernels_config": {
    "python": {
     "delete_cmd_postfix": "",
     "delete_cmd_prefix": "del ",
     "library": "var_list.py",
     "varRefreshCmd": "print(var_dic_list())"
    },
    "r": {
     "delete_cmd_postfix": ") ",
     "delete_cmd_prefix": "rm(",
     "library": "var_list.r",
     "varRefreshCmd": "cat(var_dic_list()) "
    }
   },
   "types_to_exclude": [
    "module",
    "function",
    "builtin_function_or_method",
    "instance",
    "_Feature"
   ],
   "window_display": false
  }
 },
 "nbformat": 4,
 "nbformat_minor": 2
}
