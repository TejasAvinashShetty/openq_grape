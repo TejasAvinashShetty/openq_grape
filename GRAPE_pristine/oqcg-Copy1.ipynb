{
 "cells": [
  {
   "cell_type": "markdown",
   "metadata": {},
   "source": [
    "# Imports"
   ]
  },
  {
   "cell_type": "markdown",
   "metadata": {},
   "source": [
    "Need to have jate.py in your folder"
   ]
  },
  {
   "cell_type": "code",
   "execution_count": 1,
   "metadata": {
    "ExecuteTime": {
     "end_time": "2019-02-16T11:07:39.485918Z",
     "start_time": "2019-02-16T11:07:38.600967Z"
    }
   },
   "outputs": [],
   "source": [
    "%run jate.py #will import everything"
   ]
  },
  {
   "cell_type": "markdown",
   "metadata": {},
   "source": [
    "# Next chapter"
   ]
  },
  {
   "cell_type": "markdown",
   "metadata": {},
   "source": [
    "## memory clear (uses regex, so be careful)"
   ]
  },
  {
   "cell_type": "code",
   "execution_count": 2,
   "metadata": {
    "ExecuteTime": {
     "end_time": "2019-02-16T11:07:39.494209Z",
     "start_time": "2019-02-16T11:07:39.488403Z"
    }
   },
   "outputs": [],
   "source": [
    "%reset_selective -f var1, var2  # replace var1, var2 with your defined ones"
   ]
  },
  {
   "cell_type": "markdown",
   "metadata": {},
   "source": [
    "## Building parts"
   ]
  },
  {
   "cell_type": "markdown",
   "metadata": {},
   "source": [
    "### Building the things to be calculated only once"
   ]
  },
  {
   "cell_type": "code",
   "execution_count": 3,
   "metadata": {
    "ExecuteTime": {
     "end_time": "2019-02-16T11:07:39.553936Z",
     "start_time": "2019-02-16T11:07:39.496385Z"
    },
    "code_folding": []
   },
   "outputs": [],
   "source": [
    "def maker(omega_1, H_0, H_1, T_s, Lin, d=2, gamma=0.1):\n",
    "    r\"\"\"maker\n",
    "    Makes all the things that remain constant throught the program, but are \n",
    "    repeatedly used.\n",
    "    \n",
    "\n",
    "    Parameters\n",
    "    ----------\n",
    "    omega_1 : float\n",
    "              frequency corresponding to half of the difference between \n",
    "              energy levels of the qubit\n",
    "              \n",
    "    H_0     : Qobj\n",
    "              Bare Hamiltonian \n",
    "              \n",
    "    H_1     : Qobj\n",
    "              Interaction Hamiltonian \n",
    "              \n",
    "    T_s     : Qobj\n",
    "              Unitary to be implemented in the Hilbert space\n",
    "    \n",
    "    Lin     : Qobj\n",
    "              Linbladian operators\n",
    "\n",
    "    d       : int\n",
    "              Dimension of the matrix. Defaults to 2\n",
    "    \n",
    "    gamma   : float\n",
    "              Damping constant of the Linbladian\n",
    "\n",
    "    \n",
    "    Returns\n",
    "    -------\n",
    "    \n",
    "    ih0     : Qobj\n",
    "              $I\\otimes H_{0}$\n",
    "              \n",
    "    ih1     : Qobj\n",
    "              $I\\otimes H_{1}$\n",
    "\n",
    "    h0ci    : Qobj\n",
    "              $H_{0}^{*}\\otimes I $\n",
    "\n",
    "    h1ci    : Qobj\n",
    "              $H_{1}^{*}\\otimes I $\n",
    "\n",
    "    T       : Qobj\n",
    "              Target unitary transformed to the Liouville space\n",
    "\n",
    "    linbladian : Qobj\n",
    "                 The full lindbladian term as it appears on transformation to \n",
    "                 the Liouville space.\n",
    "        \n",
    "    \"\"\"\n",
    "    I = identity(d)\n",
    "    L_I = tensor(I, I)\n",
    "    ih0 = tensor(I, H_0) \n",
    "    ih1 = tensor(I, H_1) \n",
    "    h0ci = tensor(H_0.conj(), I) \n",
    "    h1ci = tensor(H_1.conj(), I)\n",
    "    x_k = ih1 - h1ci\n",
    "    term1 = tensor(Lin.trans(), Lin)\n",
    "    term2 = tensor(I, ((Lin.dag())*(Lin)))\n",
    "    term3 = tensor(((Lin.trans())*(Lin.conj())), I)\n",
    "    lindbladian = 1j*(gamma)*(term1 - 0.5*(term2 + term3))\n",
    "    T = tensor(T_s.trans(), T_s) # Transforming $T_{s}$ to liouville space\n",
    "    \n",
    "    \n",
    "    return ih0, ih1, h0ci, h1ci, x_k, lindbladian, T, L_I"
   ]
  },
  {
   "cell_type": "code",
   "execution_count": 4,
   "metadata": {
    "ExecuteTime": {
     "end_time": "2019-02-16T11:07:39.659875Z",
     "start_time": "2019-02-16T11:07:39.555949Z"
    }
   },
   "outputs": [],
   "source": [
    "omega_1 = 0.5\n",
    "H_0 = omega_1*sigmaz() \n",
    "H_1 = sigmay()\n",
    "T_s = sigmax() \n",
    "Lin = sigmaz()\n",
    "gamma = 0.1 # check for default value\n",
    "ih0, ih1, h0ci, h1ci, x_k, lindbladian, T, L_I  = maker(omega_1,\n",
    "                                                  H_0, H_1, T_s, \n",
    "                                                  Lin, d=2, gamma=gamma)"
   ]
  },
  {
   "cell_type": "code",
   "execution_count": 5,
   "metadata": {
    "ExecuteTime": {
     "end_time": "2019-02-16T11:07:39.767460Z",
     "start_time": "2019-02-16T11:07:39.661057Z"
    }
   },
   "outputs": [
    {
     "data": {
      "text/plain": [
       "0.1"
      ]
     },
     "execution_count": 5,
     "metadata": {},
     "output_type": "execute_result"
    }
   ],
   "source": [
    "gamma"
   ]
  },
  {
   "cell_type": "code",
   "execution_count": 6,
   "metadata": {
    "ExecuteTime": {
     "end_time": "2019-02-16T11:07:39.985278Z",
     "start_time": "2019-02-16T11:07:39.769173Z"
    }
   },
   "outputs": [
    {
     "data": {
      "text/latex": [
       "Quantum object: dims = [[2, 2], [2, 2]], shape = (4, 4), type = oper, isherm = True\\begin{equation*}\\left(\\begin{array}{*{11}c}1.0 & 0.0 & 0.0 & 0.0\\\\0.0 & 1.0 & 0.0 & 0.0\\\\0.0 & 0.0 & 1.0 & 0.0\\\\0.0 & 0.0 & 0.0 & 1.0\\\\\\end{array}\\right)\\end{equation*}"
      ],
      "text/plain": [
       "Quantum object: dims = [[2, 2], [2, 2]], shape = (4, 4), type = oper, isherm = True\n",
       "Qobj data =\n",
       "[[1. 0. 0. 0.]\n",
       " [0. 1. 0. 0.]\n",
       " [0. 0. 1. 0.]\n",
       " [0. 0. 0. 1.]]"
      ]
     },
     "execution_count": 6,
     "metadata": {},
     "output_type": "execute_result"
    }
   ],
   "source": [
    "L_I"
   ]
  },
  {
   "cell_type": "markdown",
   "metadata": {},
   "source": [
    "### Building $A(t)$"
   ]
  },
  {
   "cell_type": "code",
   "execution_count": 7,
   "metadata": {
    "ExecuteTime": {
     "end_time": "2019-02-16T11:07:40.062426Z",
     "start_time": "2019-02-16T11:07:39.986515Z"
    }
   },
   "outputs": [],
   "source": [
    "def A(xi):\n",
    "    r\"\"\"making $A(t)$\"\"\"\n",
    "    A = ih0 - h0ci + xi*(ih1 - h1ci) + lindbladian\n",
    "    return A"
   ]
  },
  {
   "cell_type": "code",
   "execution_count": 8,
   "metadata": {
    "ExecuteTime": {
     "end_time": "2019-02-16T11:07:40.131364Z",
     "start_time": "2019-02-16T11:07:40.063990Z"
    }
   },
   "outputs": [
    {
     "data": {
      "text/latex": [
       "Quantum object: dims = [[2, 2], [2, 2]], shape = (4, 4), type = oper, isherm = False\\begin{equation*}\\left(\\begin{array}{*{11}c}0.0 & -0.500j & -0.500j & 0.0\\\\0.500j & (-1.0-0.200j) & 0.0 & -0.500j\\\\0.500j & 0.0 & (1.0-0.200j) & -0.500j\\\\0.0 & 0.500j & 0.500j & 0.0\\\\\\end{array}\\right)\\end{equation*}"
      ],
      "text/plain": [
       "Quantum object: dims = [[2, 2], [2, 2]], shape = (4, 4), type = oper, isherm = False\n",
       "Qobj data =\n",
       "[[ 0.+0.j   0.-0.5j  0.-0.5j  0.+0.j ]\n",
       " [ 0.+0.5j -1.-0.2j  0.+0.j   0.-0.5j]\n",
       " [ 0.+0.5j  0.+0.j   1.-0.2j  0.-0.5j]\n",
       " [ 0.+0.j   0.+0.5j  0.+0.5j  0.+0.j ]]"
      ]
     },
     "execution_count": 8,
     "metadata": {},
     "output_type": "execute_result"
    }
   ],
   "source": [
    "A(0.5)"
   ]
  },
  {
   "cell_type": "markdown",
   "metadata": {},
   "source": [
    "### Building $L(t)$ and the Identity in the Liouville space"
   ]
  },
  {
   "cell_type": "code",
   "execution_count": 9,
   "metadata": {
    "ExecuteTime": {
     "end_time": "2019-02-16T11:07:40.195779Z",
     "start_time": "2019-02-16T11:07:40.132813Z"
    }
   },
   "outputs": [],
   "source": [
    "def L(xi, dt):\n",
    "    r\"\"\"Making $L(t) from $A(t)$\"\"\"\n",
    "    L = (-1j*A(xi)*dt).expm()\n",
    "    return L"
   ]
  },
  {
   "cell_type": "code",
   "execution_count": 10,
   "metadata": {
    "ExecuteTime": {
     "end_time": "2019-02-16T11:07:40.285265Z",
     "start_time": "2019-02-16T11:07:40.197566Z"
    }
   },
   "outputs": [
    {
     "data": {
      "text/latex": [
       "Quantum object: dims = [[2, 2], [2, 2]], shape = (4, 4), type = oper, isherm = False\\begin{equation*}\\left(\\begin{array}{*{11}c}1.000 & (-4.999\\times10^{-04}-2.500\\times10^{-07}j) & (-4.999\\times10^{-04}+2.500\\times10^{-07}j) & 2.500\\times10^{-07}\\\\(4.999\\times10^{-04}+2.500\\times10^{-07}j) & (1.000+9.998\\times10^{-04}j) & -2.500\\times10^{-07} & (-4.999\\times10^{-04}-2.500\\times10^{-07}j)\\\\(4.999\\times10^{-04}-2.500\\times10^{-07}j) & -2.500\\times10^{-07} & (1.000-9.998\\times10^{-04}j) & (-4.999\\times10^{-04}+2.500\\times10^{-07}j)\\\\2.500\\times10^{-07} & (4.999\\times10^{-04}+2.500\\times10^{-07}j) & (4.999\\times10^{-04}-2.500\\times10^{-07}j) & 1.000\\\\\\end{array}\\right)\\end{equation*}"
      ],
      "text/plain": [
       "Quantum object: dims = [[2, 2], [2, 2]], shape = (4, 4), type = oper, isherm = False\n",
       "Qobj data =\n",
       "[[ 9.99999750e-01+0.00000000e+00j -4.99949837e-04-2.49966628e-07j\n",
       "  -4.99949837e-04+2.49966628e-07j  2.49983293e-07+0.00000000e+00j]\n",
       " [ 4.99949837e-04+2.49966628e-07j  9.99799270e-01+9.99799687e-04j\n",
       "  -2.49966628e-07+0.00000000e+00j -4.99949837e-04-2.49966628e-07j]\n",
       " [ 4.99949837e-04-2.49966628e-07j -2.49966628e-07+0.00000000e+00j\n",
       "   9.99799270e-01-9.99799687e-04j -4.99949837e-04+2.49966628e-07j]\n",
       " [ 2.49983293e-07+0.00000000e+00j  4.99949837e-04+2.49966628e-07j\n",
       "   4.99949837e-04-2.49966628e-07j  9.99999750e-01+0.00000000e+00j]]"
      ]
     },
     "execution_count": 10,
     "metadata": {},
     "output_type": "execute_result"
    }
   ],
   "source": [
    "L(0.5, 0.001)"
   ]
  },
  {
   "cell_type": "markdown",
   "metadata": {},
   "source": [
    "## Major functions"
   ]
  },
  {
   "cell_type": "markdown",
   "metadata": {},
   "source": [
    "### Major functions 1"
   ]
  },
  {
   "cell_type": "code",
   "execution_count": 11,
   "metadata": {
    "ExecuteTime": {
     "end_time": "2019-02-16T11:07:40.338071Z",
     "start_time": "2019-02-16T11:07:40.286799Z"
    }
   },
   "outputs": [],
   "source": [
    "# building the function to optimize (optimizee)\n",
    "def L_vec(xi_vec, dt):\n",
    "    r\"\"\"Building the vector of differential $L(t)$\"\"\"\n",
    "    L_vec = [L(xi, dt) for xi in xi_vec] \n",
    "    return L_vec"
   ]
  },
  {
   "cell_type": "code",
   "execution_count": 12,
   "metadata": {
    "ExecuteTime": {
     "end_time": "2019-02-16T11:07:40.413130Z",
     "start_time": "2019-02-16T11:07:40.339884Z"
    }
   },
   "outputs": [],
   "source": [
    "def fidelity_calc(A, B):\n",
    "    r\"\"\"Making a generalised fidelity function\"\"\"\n",
    "    first_part = (A - B).dag()\n",
    "    second_part = (A - B)\n",
    "    f_int = (first_part* second_part)\n",
    "    f = f_int.tr()\n",
    "    return f"
   ]
  },
  {
   "cell_type": "code",
   "execution_count": 13,
   "metadata": {
    "ExecuteTime": {
     "end_time": "2019-02-16T11:07:40.488119Z",
     "start_time": "2019-02-16T11:07:40.414460Z"
    }
   },
   "outputs": [],
   "source": [
    "def L_full_maker(xi_vec, dt):\n",
    "    r\"\"\"Building the $L(t)$ for the total time $t$\"\"\"\n",
    "    xi_vec_size = xi_vec.size # finding the size of xi\n",
    "    L_full = L_I # Identity for the for loop of L\n",
    "    L_v = L_vec(xi_vec, dt) # calling L_vec\n",
    "    for i in range(xi_vec_size): # generating L_full\n",
    "        L_full = L_full*L_v[xi_vec_size - 1 - i]\n",
    "    return L_full"
   ]
  },
  {
   "cell_type": "code",
   "execution_count": 14,
   "metadata": {
    "ExecuteTime": {
     "end_time": "2019-02-16T11:07:40.562587Z",
     "start_time": "2019-02-16T11:07:40.489328Z"
    }
   },
   "outputs": [],
   "source": [
    "def F(xi_vec, dt):\n",
    "    r\"\"\"Using the fidelity metric to find out the closeness between $T$\n",
    "    and $L(t)$\"\"\"\n",
    "    L_full = L_full_maker(xi_vec, dt)\n",
    "    F = real(-fidelity_calc(T, L_full))   \n",
    "    return F"
   ]
  },
  {
   "cell_type": "markdown",
   "metadata": {},
   "source": [
    "### Testing major functions 1"
   ]
  },
  {
   "cell_type": "code",
   "execution_count": 15,
   "metadata": {
    "ExecuteTime": {
     "end_time": "2019-02-16T11:07:40.741394Z",
     "start_time": "2019-02-16T11:07:40.563849Z"
    }
   },
   "outputs": [
    {
     "data": {
      "text/plain": [
       "4.0"
      ]
     },
     "execution_count": 15,
     "metadata": {},
     "output_type": "execute_result"
    }
   ],
   "source": [
    "fidelity_calc(sigmax(), sigmay())"
   ]
  },
  {
   "cell_type": "code",
   "execution_count": 16,
   "metadata": {
    "ExecuteTime": {
     "end_time": "2019-02-16T11:07:40.873292Z",
     "start_time": "2019-02-16T11:07:40.742691Z"
    }
   },
   "outputs": [
    {
     "data": {
      "text/plain": [
       "0.0"
      ]
     },
     "execution_count": 16,
     "metadata": {},
     "output_type": "execute_result"
    }
   ],
   "source": [
    "fidelity_calc(sigmay(), sigmay())"
   ]
  },
  {
   "cell_type": "code",
   "execution_count": 17,
   "metadata": {
    "ExecuteTime": {
     "end_time": "2019-02-16T11:07:40.997733Z",
     "start_time": "2019-02-16T11:07:40.874418Z"
    }
   },
   "outputs": [
    {
     "data": {
      "text/plain": [
       "array([1., 2.])"
      ]
     },
     "execution_count": 17,
     "metadata": {},
     "output_type": "execute_result"
    }
   ],
   "source": [
    "xi_vec_test = array([1.0, 2.0])\n",
    "xi_vec_test"
   ]
  },
  {
   "cell_type": "code",
   "execution_count": 18,
   "metadata": {
    "ExecuteTime": {
     "end_time": "2019-02-16T11:07:41.080612Z",
     "start_time": "2019-02-16T11:07:40.999178Z"
    }
   },
   "outputs": [
    {
     "data": {
      "text/plain": [
       "2"
      ]
     },
     "execution_count": 18,
     "metadata": {},
     "output_type": "execute_result"
    }
   ],
   "source": [
    "xi_vec_test.size"
   ]
  },
  {
   "cell_type": "code",
   "execution_count": 19,
   "metadata": {
    "ExecuteTime": {
     "end_time": "2019-02-16T11:07:41.180515Z",
     "start_time": "2019-02-16T11:07:41.081826Z"
    }
   },
   "outputs": [
    {
     "data": {
      "text/plain": [
       "[1.0, 4.0]"
      ]
     },
     "execution_count": 19,
     "metadata": {},
     "output_type": "execute_result"
    }
   ],
   "source": [
    "w_vec = [xi**2 for xi in xi_vec_test]\n",
    "w_vec"
   ]
  },
  {
   "cell_type": "code",
   "execution_count": 20,
   "metadata": {
    "ExecuteTime": {
     "end_time": "2019-02-16T11:07:41.352848Z",
     "start_time": "2019-02-16T11:07:41.181571Z"
    }
   },
   "outputs": [
    {
     "data": {
      "text/plain": [
       "-7.998400634493138"
      ]
     },
     "execution_count": 20,
     "metadata": {},
     "output_type": "execute_result"
    }
   ],
   "source": [
    "# F(xi_vec, dt)\n",
    "F(xi_vec_test, 0.001)"
   ]
  },
  {
   "cell_type": "code",
   "execution_count": 21,
   "metadata": {
    "ExecuteTime": {
     "end_time": "2019-02-16T11:07:41.433198Z",
     "start_time": "2019-02-16T11:07:41.355369Z"
    }
   },
   "outputs": [],
   "source": [
    "L_v = L_vec(xi_vec_test, 0.001)"
   ]
  },
  {
   "cell_type": "code",
   "execution_count": 22,
   "metadata": {
    "ExecuteTime": {
     "end_time": "2019-02-16T11:07:41.524223Z",
     "start_time": "2019-02-16T11:07:41.434796Z"
    }
   },
   "outputs": [
    {
     "data": {
      "text/plain": [
       "[Quantum object: dims = [[2, 2], [2, 2]], shape = (4, 4), type = oper, isherm = False\n",
       " Qobj data =\n",
       " [[ 9.99999000e-01+0.00000000e+00j -9.99899173e-04-4.99933130e-07j\n",
       "   -9.99899173e-04+4.99933130e-07j  9.99932920e-07+0.00000000e+00j]\n",
       "  [ 9.99899173e-04+4.99933130e-07j  9.99798520e-01+9.99799187e-04j\n",
       "   -9.99866260e-07+0.00000000e+00j -9.99899173e-04-4.99933130e-07j]\n",
       "  [ 9.99899173e-04-4.99933130e-07j -9.99866260e-07+0.00000000e+00j\n",
       "    9.99798520e-01-9.99799187e-04j -9.99899173e-04+4.99933130e-07j]\n",
       "  [ 9.99932920e-07+0.00000000e+00j  9.99899173e-04+4.99933130e-07j\n",
       "    9.99899173e-04-4.99933130e-07j  9.99999000e-01+0.00000000e+00j]],\n",
       " Quantum object: dims = [[2, 2], [2, 2]], shape = (4, 4), type = oper, isherm = False\n",
       " Qobj data =\n",
       " [[ 9.99996000e-01+0.00000000e+00j -1.99979435e-03-9.99865260e-07j\n",
       "   -1.99979435e-03+9.99865260e-07j  3.99972768e-06+0.00000000e+00j]\n",
       "  [ 1.99979435e-03+9.99865260e-07j  9.99795521e-01+9.99797187e-04j\n",
       "   -3.99946104e-06+0.00000000e+00j -1.99979435e-03-9.99865260e-07j]\n",
       "  [ 1.99979435e-03-9.99865260e-07j -3.99946104e-06+0.00000000e+00j\n",
       "    9.99795521e-01-9.99797187e-04j -1.99979435e-03+9.99865260e-07j]\n",
       "  [ 3.99972768e-06+0.00000000e+00j  1.99979435e-03+9.99865260e-07j\n",
       "    1.99979435e-03-9.99865260e-07j  9.99996000e-01+0.00000000e+00j]]]"
      ]
     },
     "execution_count": 22,
     "metadata": {},
     "output_type": "execute_result"
    }
   ],
   "source": [
    "L_v"
   ]
  },
  {
   "cell_type": "markdown",
   "metadata": {},
   "source": [
    "### Major Functions 2"
   ]
  },
  {
   "cell_type": "code",
   "execution_count": 23,
   "metadata": {
    "ExecuteTime": {
     "end_time": "2019-02-16T11:07:41.605309Z",
     "start_time": "2019-02-16T11:07:41.525579Z"
    }
   },
   "outputs": [],
   "source": [
    "def L_comma_k_maker(xi_vec, k, dt):\n",
    "    r\"\"\"Making of the derivative of full $L(t)$ at time $t_{k}$\"\"\"\n",
    "    N = xi_vec.size \n",
    "    # Determining the size of xi, and thus the time_steps indirectly.\n",
    "    L_v = L_vec(xi_vec, dt)# Making of the full $L(t)$\n",
    "    inner_part = L_I # Beginner for the for loop\n",
    "    for i in range(N):\n",
    "        if i == ( N - 1 - k ):\n",
    "            # The step at which $X_{k}(t)$ has to be inserted \n",
    "            inner_part = inner_part*x_k*L_v[k - 1]\n",
    "        else:\n",
    "            # Usual multiplications of $L_{k}$\n",
    "            inner_part = inner_part*L_v[N - 1 - i]\n",
    "    l_comma_k = inner_part\n",
    "    return l_comma_k\n",
    "    "
   ]
  },
  {
   "cell_type": "code",
   "execution_count": 24,
   "metadata": {
    "ExecuteTime": {
     "end_time": "2019-02-16T11:07:41.712320Z",
     "start_time": "2019-02-16T11:07:41.606567Z"
    }
   },
   "outputs": [
    {
     "data": {
      "text/latex": [
       "Quantum object: dims = [[2, 2], [2, 2]], shape = (4, 4), type = oper, isherm = False\\begin{equation*}\\left(\\begin{array}{*{11}c}1.000 & (-0.003-3.499\\times10^{-06}j) & (-0.003+3.499\\times10^{-06}j) & 8.999\\times10^{-06}\\\\(0.003+2.499\\times10^{-06}j) & (1.000+0.002j) & (-8.998\\times10^{-06}+2.999\\times10^{-09}j) & (-0.003-2.499\\times10^{-06}j)\\\\(0.003-2.499\\times10^{-06}j) & (-8.998\\times10^{-06}-2.999\\times10^{-09}j) & (1.000-0.002j) & (-0.003+2.499\\times10^{-06}j)\\\\8.999\\times10^{-06} & (0.003+3.499\\times10^{-06}j) & (0.003-3.499\\times10^{-06}j) & 1.000\\\\\\end{array}\\right)\\end{equation*}"
      ],
      "text/plain": [
       "Quantum object: dims = [[2, 2], [2, 2]], shape = (4, 4), type = oper, isherm = False\n",
       "Qobj data =\n",
       "[[ 9.99991001e-01+0.00000000e+00j -2.99927960e-03-3.49898670e-06j\n",
       "  -2.99927960e-03+3.49898670e-06j  8.99883703e-06+0.00000000e+00j]\n",
       " [ 2.99948056e-03+2.49939255e-06j  9.99589083e-01+1.99918650e-03j\n",
       "  -8.99750347e-06+2.99899242e-09j -2.99948056e-03-2.49939255e-06j]\n",
       " [ 2.99948056e-03-2.49939255e-06j -8.99750347e-06-2.99899242e-09j\n",
       "   9.99589083e-01-1.99918650e-03j -2.99948056e-03+2.49939255e-06j]\n",
       " [ 8.99883703e-06+0.00000000e+00j  2.99927960e-03+3.49898670e-06j\n",
       "   2.99927960e-03-3.49898670e-06j  9.99991001e-01+0.00000000e+00j]]"
      ]
     },
     "execution_count": 24,
     "metadata": {},
     "output_type": "execute_result"
    }
   ],
   "source": [
    "# L_comma_k_maker(xi_vec, k, dt)\n",
    "L_comma_k_maker(xi_vec_test, 2, 0.001)"
   ]
  },
  {
   "cell_type": "code",
   "execution_count": 25,
   "metadata": {
    "ExecuteTime": {
     "end_time": "2019-02-16T11:07:41.788832Z",
     "start_time": "2019-02-16T11:07:41.713631Z"
    }
   },
   "outputs": [],
   "source": [
    "def updater(xi_vec, dt, epsilon):\n",
    "    r\"\"\"Implementing the GRAPE update step\"\"\"\n",
    "    xi_vec_size = xi_vec.size # finding the size of xi\n",
    "    L_full = L_full_maker(xi_vec, dt)\n",
    "    di = []\n",
    "    for k in range(xi_vec_size):\n",
    "        # Building the thing to be added to the old function\n",
    "        L_comma_k = L_comma_k_maker(xi_vec, k, dt)\n",
    "        differentiated = T - L_comma_k\n",
    "        plain = T - L_full\n",
    "        c = -differentiated.dag()*plain\n",
    "        d = -plain.dag()*differentiated\n",
    "        inside = c.tr() + d.tr()\n",
    "        di.append(epsilon*inside)\n",
    "\n",
    "    diff = array(di)\n",
    "    xi_new_vec = xi_vec + diff\n",
    "    return diff, xi_new_vec\n",
    "    "
   ]
  },
  {
   "cell_type": "code",
   "execution_count": 26,
   "metadata": {
    "ExecuteTime": {
     "end_time": "2019-02-16T11:07:41.881530Z",
     "start_time": "2019-02-16T11:07:41.789901Z"
    }
   },
   "outputs": [
    {
     "data": {
      "text/plain": [
       "(array([-0.008+0.j, -0.008+0.j]), array([0.992+0.j, 1.992+0.j]))"
      ]
     },
     "execution_count": 26,
     "metadata": {},
     "output_type": "execute_result"
    }
   ],
   "source": [
    "#  updater(xi_vec, dt, epsilon)\n",
    "updater(xi_vec_test, 0.001, 0.001)"
   ]
  },
  {
   "cell_type": "markdown",
   "metadata": {},
   "source": [
    "## Qutip grape for closed system"
   ]
  },
  {
   "cell_type": "code",
   "execution_count": 27,
   "metadata": {
    "ExecuteTime": {
     "end_time": "2019-02-16T11:07:42.021970Z",
     "start_time": "2019-02-16T11:07:41.883195Z"
    }
   },
   "outputs": [],
   "source": [
    "import time"
   ]
  },
  {
   "cell_type": "code",
   "execution_count": 28,
   "metadata": {
    "ExecuteTime": {
     "end_time": "2019-02-16T11:07:42.113897Z",
     "start_time": "2019-02-16T11:07:42.023172Z"
    }
   },
   "outputs": [],
   "source": [
    "total_time_evo = 2*pi # total time allowed for evolution"
   ]
  },
  {
   "cell_type": "code",
   "execution_count": 29,
   "metadata": {
    "ExecuteTime": {
     "end_time": "2019-02-16T11:07:42.188970Z",
     "start_time": "2019-02-16T11:07:42.115268Z"
    }
   },
   "outputs": [],
   "source": [
    "times = linspace(0, total_time_evo, 500) "
   ]
  },
  {
   "cell_type": "code",
   "execution_count": 30,
   "metadata": {
    "ExecuteTime": {
     "end_time": "2019-02-16T11:07:42.263697Z",
     "start_time": "2019-02-16T11:07:42.190452Z"
    }
   },
   "outputs": [],
   "source": [
    "# vector of times at which discretization \n",
    "# is carried out"
   ]
  },
  {
   "cell_type": "code",
   "execution_count": 31,
   "metadata": {
    "ExecuteTime": {
     "end_time": "2019-02-16T11:07:42.340075Z",
     "start_time": "2019-02-16T11:07:42.264772Z"
    }
   },
   "outputs": [
    {
     "data": {
      "text/latex": [
       "Quantum object: dims = [[2], [2]], shape = (2, 2), type = oper, isherm = True\\begin{equation*}\\left(\\begin{array}{*{11}c}0.0 & 1.0\\\\1.0 & 0.0\\\\\\end{array}\\right)\\end{equation*}"
      ],
      "text/plain": [
       "Quantum object: dims = [[2], [2]], shape = (2, 2), type = oper, isherm = True\n",
       "Qobj data =\n",
       "[[0. 1.]\n",
       " [1. 0.]]"
      ]
     },
     "execution_count": 31,
     "metadata": {},
     "output_type": "execute_result"
    }
   ],
   "source": [
    "U = T_s\n",
    "U"
   ]
  },
  {
   "cell_type": "code",
   "execution_count": 32,
   "metadata": {
    "ExecuteTime": {
     "end_time": "2019-02-16T11:07:42.413929Z",
     "start_time": "2019-02-16T11:07:42.341543Z"
    }
   },
   "outputs": [],
   "source": [
    "R = 500"
   ]
  },
  {
   "cell_type": "code",
   "execution_count": 33,
   "metadata": {
    "ExecuteTime": {
     "end_time": "2019-02-16T11:07:42.490541Z",
     "start_time": "2019-02-16T11:07:42.415438Z"
    }
   },
   "outputs": [
    {
     "data": {
      "text/plain": [
       "[Quantum object: dims = [[2], [2]], shape = (2, 2), type = oper, isherm = True\n",
       " Qobj data =\n",
       " [[0.+0.j 0.-1.j]\n",
       "  [0.+1.j 0.+0.j]]]"
      ]
     },
     "execution_count": 33,
     "metadata": {},
     "output_type": "execute_result"
    }
   ],
   "source": [
    "H_ops = [H_1]\n",
    "H_ops"
   ]
  },
  {
   "cell_type": "code",
   "execution_count": 34,
   "metadata": {
    "ExecuteTime": {
     "end_time": "2019-02-16T11:07:42.556048Z",
     "start_time": "2019-02-16T11:07:42.492000Z"
    }
   },
   "outputs": [
    {
     "data": {
      "text/plain": [
       "['$g_{no diss}$']"
      ]
     },
     "execution_count": 34,
     "metadata": {},
     "output_type": "execute_result"
    }
   ],
   "source": [
    "H_labels = [r'$g_{no diss}$']\n",
    "H_labels"
   ]
  },
  {
   "cell_type": "code",
   "execution_count": 35,
   "metadata": {
    "ExecuteTime": {
     "end_time": "2019-02-16T11:07:42.631607Z",
     "start_time": "2019-02-16T11:07:42.557435Z"
    }
   },
   "outputs": [
    {
     "data": {
      "text/latex": [
       "Quantum object: dims = [[2], [2]], shape = (2, 2), type = oper, isherm = True\\begin{equation*}\\left(\\begin{array}{*{11}c}0.500 & 0.0\\\\0.0 & -0.500\\\\\\end{array}\\right)\\end{equation*}"
      ],
      "text/plain": [
       "Quantum object: dims = [[2], [2]], shape = (2, 2), type = oper, isherm = True\n",
       "Qobj data =\n",
       "[[ 0.5  0. ]\n",
       " [ 0.  -0.5]]"
      ]
     },
     "execution_count": 35,
     "metadata": {},
     "output_type": "execute_result"
    }
   ],
   "source": [
    "H0 = H_0\n",
    "H0"
   ]
  },
  {
   "cell_type": "code",
   "execution_count": 36,
   "metadata": {
    "ExecuteTime": {
     "end_time": "2019-02-16T11:07:42.705577Z",
     "start_time": "2019-02-16T11:07:42.632873Z"
    }
   },
   "outputs": [],
   "source": [
    "c_ops = []"
   ]
  },
  {
   "cell_type": "code",
   "execution_count": 37,
   "metadata": {
    "ExecuteTime": {
     "end_time": "2019-02-16T11:07:42.780745Z",
     "start_time": "2019-02-16T11:07:42.706840Z"
    }
   },
   "outputs": [],
   "source": [
    "from qutip.control.grape import plot_grape_control_fields, _overlap \n",
    "from qutip.control.grape import grape_unitary_adaptive, cy_grape_unitary"
   ]
  },
  {
   "cell_type": "code",
   "execution_count": 38,
   "metadata": {
    "ExecuteTime": {
     "end_time": "2019-02-16T11:07:42.881523Z",
     "start_time": "2019-02-16T11:07:42.781876Z"
    }
   },
   "outputs": [],
   "source": [
    "from scipy.interpolate import interp1d\n",
    "from qutip.ui.progressbar import TextProgressBar, EnhancedTextProgressBar"
   ]
  },
  {
   "cell_type": "code",
   "execution_count": 39,
   "metadata": {
    "ExecuteTime": {
     "end_time": "2019-02-16T11:07:42.972450Z",
     "start_time": "2019-02-16T11:07:42.882598Z"
    }
   },
   "outputs": [],
   "source": [
    "u0 = array([rand(len(times)) * 2 * pi * 0.05 for _ in range(len(H_ops))])"
   ]
  },
  {
   "cell_type": "code",
   "execution_count": 40,
   "metadata": {
    "ExecuteTime": {
     "end_time": "2019-02-16T11:07:43.070740Z",
     "start_time": "2019-02-16T11:07:42.973848Z"
    }
   },
   "outputs": [],
   "source": [
    "from numpy import convolve\n",
    "u0 = [convolve(ones(10)/10, u0[idx,:], mode='same') for idx in range(len(H_ops))]"
   ]
  },
  {
   "cell_type": "code",
   "execution_count": 41,
   "metadata": {
    "ExecuteTime": {
     "end_time": "2019-02-16T11:07:43.215650Z",
     "start_time": "2019-02-16T11:07:43.072228Z"
    }
   },
   "outputs": [],
   "source": [
    "u_limits = None #[0, 1 * 2 * pi]\n",
    "alpha = None"
   ]
  },
  {
   "cell_type": "code",
   "execution_count": 42,
   "metadata": {
    "ExecuteTime": {
     "end_time": "2019-02-16T11:13:28.732520Z",
     "start_time": "2019-02-16T11:07:43.217117Z"
    }
   },
   "outputs": [
    {
     "name": "stdout",
     "output_type": "stream",
     "text": [
      "10.0%. Run time:  37.14s. Est. time left: 00:00:05:34\n",
      "20.0%. Run time:  71.78s. Est. time left: 00:00:04:47\n",
      "30.0%. Run time: 106.28s. Est. time left: 00:00:04:07\n",
      "40.0%. Run time: 142.05s. Est. time left: 00:00:03:33\n",
      "50.0%. Run time: 176.01s. Est. time left: 00:00:02:56\n",
      "60.0%. Run time: 210.15s. Est. time left: 00:00:02:20\n",
      "70.0%. Run time: 244.27s. Est. time left: 00:00:01:44\n",
      "80.0%. Run time: 278.18s. Est. time left: 00:00:01:09\n",
      "90.0%. Run time: 312.14s. Est. time left: 00:00:00:34\n",
      "Total run time: 345.30s\n"
     ]
    }
   ],
   "source": [
    "result = cy_grape_unitary(U, H0, H_ops, R, times, u_start=u0, u_limits=u_limits,\n",
    "                          eps=2*np.pi*1, alpha=alpha, phase_sensitive=False,\n",
    "                          progress_bar=TextProgressBar())"
   ]
  },
  {
   "cell_type": "markdown",
   "metadata": {},
   "source": [
    "#### Plot of optimized control field without dissipation"
   ]
  },
  {
   "cell_type": "code",
   "execution_count": 43,
   "metadata": {
    "ExecuteTime": {
     "end_time": "2019-02-16T11:13:29.929739Z",
     "start_time": "2019-02-16T11:13:28.735242Z"
    }
   },
   "outputs": [
    {
     "data": {
      "image/png": "[encoded data removed]",
      "text/plain": [
       "<Figure size 576x144 with 1 Axes>"
      ]
     },
     "metadata": {
      "needs_background": "light"
     },
     "output_type": "display_data"
    }
   ],
   "source": [
    "plot_grape_control_fields(times,\n",
    "                          result.u / (2 * np.pi), H_labels, uniform_axes=True);"
   ]
  },
  {
   "cell_type": "code",
   "execution_count": 44,
   "metadata": {
    "ExecuteTime": {
     "end_time": "2019-02-16T11:13:29.935600Z",
     "start_time": "2019-02-16T11:13:29.931534Z"
    }
   },
   "outputs": [
    {
     "data": {
      "text/latex": [
       "Quantum object: dims = [[2], [2]], shape = (2, 2), type = oper, isherm = True\\begin{equation*}\\left(\\begin{array}{*{11}c}0.0 & 1.0\\\\1.0 & 0.0\\\\\\end{array}\\right)\\end{equation*}"
      ],
      "text/plain": [
       "Quantum object: dims = [[2], [2]], shape = (2, 2), type = oper, isherm = True\n",
       "Qobj data =\n",
       "[[0. 1.]\n",
       " [1. 0.]]"
      ]
     },
     "execution_count": 44,
     "metadata": {},
     "output_type": "execute_result"
    }
   ],
   "source": [
    "U"
   ]
  },
  {
   "cell_type": "code",
   "execution_count": 45,
   "metadata": {
    "ExecuteTime": {
     "end_time": "2019-02-16T11:13:30.123212Z",
     "start_time": "2019-02-16T11:13:29.938987Z"
    }
   },
   "outputs": [
    {
     "data": {
      "text/latex": [
       "Quantum object: dims = [[2], [2]], shape = (2, 2), type = oper, isherm = False\\begin{equation*}\\left(\\begin{array}{*{11}c}8.306\\times10^{-16} & 1.0j\\\\1.000j & -6.880\\times10^{-16}\\\\\\end{array}\\right)\\end{equation*}"
      ],
      "text/plain": [
       "Quantum object: dims = [[2], [2]], shape = (2, 2), type = oper, isherm = False\n",
       "Qobj data =\n",
       "[[ 8.30617449e-16-6.67868538e-17j  1.07452553e-15+1.00000000e+00j]\n",
       " [-2.31711035e-15+1.00000000e+00j -6.87997429e-16+1.82145965e-16j]]"
      ]
     },
     "execution_count": 45,
     "metadata": {},
     "output_type": "execute_result"
    }
   ],
   "source": [
    "result.U_f"
   ]
  },
  {
   "cell_type": "markdown",
   "metadata": {},
   "source": [
    "## Analysis of result of qutip grape for closed system"
   ]
  },
  {
   "cell_type": "code",
   "execution_count": 46,
   "metadata": {
    "ExecuteTime": {
     "end_time": "2019-02-16T11:13:30.273633Z",
     "start_time": "2019-02-16T11:13:30.124365Z"
    }
   },
   "outputs": [
    {
     "data": {
      "text/latex": [
       "Quantum object: dims = [[2], [2]], shape = (2, 2), type = oper, isherm = False\\begin{equation*}\\left(\\begin{array}{*{11}c}1.0 & (-9.618\\times10^{+13}+1.196\\times10^{+15}j)\\\\(-9.618\\times10^{+13}+1.196\\times10^{+15}j) & (-0.840+0.152j)\\\\\\end{array}\\right)\\end{equation*}"
      ],
      "text/plain": [
       "Quantum object: dims = [[2], [2]], shape = (2, 2), type = oper, isherm = False\n",
       "Qobj data =\n",
       "[[ 1.00000000e+00+0.00000000e+00j -9.61811877e+13+1.19619009e+15j]\n",
       " [-9.61811877e+13+1.19619009e+15j -8.40494722e-01+1.51708788e-01j]]"
      ]
     },
     "execution_count": 46,
     "metadata": {},
     "output_type": "execute_result"
    }
   ],
   "source": [
    "result.U_f/result.U_f[0,0]"
   ]
  },
  {
   "cell_type": "code",
   "execution_count": 47,
   "metadata": {
    "ExecuteTime": {
     "end_time": "2019-02-16T11:13:30.441927Z",
     "start_time": "2019-02-16T11:13:30.274714Z"
    }
   },
   "outputs": [
    {
     "data": {
      "text/plain": [
       "(<Figure size 432x288 with 2 Axes>,\n",
       " <mpl_toolkits.mplot3d.axes3d.Axes3D at 0x7f5905fca898>)"
      ]
     },
     "execution_count": 47,
     "metadata": {},
     "output_type": "execute_result"
    },
    {
     "data": {
      "image/png": "[encoded data removed]",
      "text/plain": [
       "<Figure size 432x288 with 2 Axes>"
      ]
     },
     "metadata": {
      "needs_background": "light"
     },
     "output_type": "display_data"
    }
   ],
   "source": [
    "matrix_histogram(U)"
   ]
  },
  {
   "cell_type": "code",
   "execution_count": 48,
   "metadata": {
    "ExecuteTime": {
     "end_time": "2019-02-16T11:13:30.540180Z",
     "start_time": "2019-02-16T11:13:30.443669Z"
    }
   },
   "outputs": [
    {
     "data": {
      "text/plain": [
       "(<Figure size 432x288 with 2 Axes>,\n",
       " <mpl_toolkits.mplot3d.axes3d.Axes3D at 0x7f5905ef3128>)"
      ]
     },
     "execution_count": 48,
     "metadata": {},
     "output_type": "execute_result"
    },
    {
     "data": {
      "image/png": "[encoded data removed]",
      "text/plain": [
       "<Figure size 432x288 with 2 Axes>"
      ]
     },
     "metadata": {
      "needs_background": "light"
     },
     "output_type": "display_data"
    }
   ],
   "source": [
    "matrix_histogram(result.U_f)"
   ]
  },
  {
   "cell_type": "code",
   "execution_count": 49,
   "metadata": {
    "ExecuteTime": {
     "end_time": "2019-02-16T11:13:30.740599Z",
     "start_time": "2019-02-16T11:13:30.541739Z"
    }
   },
   "outputs": [
    {
     "data": {
      "text/plain": [
       "(<Figure size 432x288 with 2 Axes>,\n",
       " <mpl_toolkits.mplot3d.axes3d.Axes3D at 0x7f5905e62470>)"
      ]
     },
     "execution_count": 49,
     "metadata": {},
     "output_type": "execute_result"
    },
    {
     "data": {
      "image/png": "[encoded data removed]",
      "text/plain": [
       "<Figure size 432x288 with 2 Axes>"
      ]
     },
     "metadata": {
      "needs_background": "light"
     },
     "output_type": "display_data"
    }
   ],
   "source": [
    "matrix_histogram_complex(U)"
   ]
  },
  {
   "cell_type": "code",
   "execution_count": 50,
   "metadata": {
    "ExecuteTime": {
     "end_time": "2019-02-16T11:13:30.900086Z",
     "start_time": "2019-02-16T11:13:30.743193Z"
    }
   },
   "outputs": [
    {
     "data": {
      "text/plain": [
       "(<Figure size 432x288 with 2 Axes>,\n",
       " <mpl_toolkits.mplot3d.axes3d.Axes3D at 0x7f5905dea898>)"
      ]
     },
     "execution_count": 50,
     "metadata": {},
     "output_type": "execute_result"
    },
    {
     "data": {
      "image/png": "[encoded data removed]",
      "text/plain": [
       "<Figure size 432x288 with 2 Axes>"
      ]
     },
     "metadata": {
      "needs_background": "light"
     },
     "output_type": "display_data"
    }
   ],
   "source": [
    "matrix_histogram_complex(result.U_f)"
   ]
  },
  {
   "cell_type": "code",
   "execution_count": 51,
   "metadata": {
    "ExecuteTime": {
     "end_time": "2019-02-16T11:13:31.022612Z",
     "start_time": "2019-02-16T11:13:30.901195Z"
    }
   },
   "outputs": [
    {
     "data": {
      "text/plain": [
       "(<Figure size 576x432 with 2 Axes>,\n",
       " <matplotlib.axes._subplots.AxesSubplot at 0x7f5905e006a0>)"
      ]
     },
     "execution_count": 51,
     "metadata": {},
     "output_type": "execute_result"
    },
    {
     "data": {
      "image/png": "[encoded data removed]",
      "text/plain": [
       "<Figure size 576x432 with 2 Axes>"
      ]
     },
     "metadata": {
      "needs_background": "light"
     },
     "output_type": "display_data"
    }
   ],
   "source": [
    "hinton(U)"
   ]
  },
  {
   "cell_type": "code",
   "execution_count": 52,
   "metadata": {
    "ExecuteTime": {
     "end_time": "2019-02-16T11:13:31.156834Z",
     "start_time": "2019-02-16T11:13:31.024096Z"
    }
   },
   "outputs": [
    {
     "data": {
      "text/plain": [
       "(<Figure size 576x432 with 2 Axes>,\n",
       " <matplotlib.axes._subplots.AxesSubplot at 0x7f5905c8fef0>)"
      ]
     },
     "execution_count": 52,
     "metadata": {},
     "output_type": "execute_result"
    },
    {
     "data": {
      "image/png": "[encoded data removed]",
      "text/plain": [
       "<Figure size 576x432 with 2 Axes>"
      ]
     },
     "metadata": {
      "needs_background": "light"
     },
     "output_type": "display_data"
    }
   ],
   "source": [
    "hinton(result.U_f)"
   ]
  },
  {
   "cell_type": "code",
   "execution_count": null,
   "metadata": {},
   "outputs": [],
   "source": []
  },
  {
   "cell_type": "code",
   "execution_count": null,
   "metadata": {},
   "outputs": [],
   "source": []
  },
  {
   "cell_type": "code",
   "execution_count": 53,
   "metadata": {
    "ExecuteTime": {
     "end_time": "2019-02-16T11:18:33.088408Z",
     "start_time": "2019-02-16T11:13:31.158369Z"
    }
   },
   "outputs": [
    {
     "data": {
      "text/plain": [
       "(array([-0.00207529+0.j, -0.00207529+0.j, -0.00207529+0.j, -0.00207529+0.j,\n",
       "        -0.00207529+0.j, -0.00207529+0.j, -0.00207529+0.j, -0.00207529+0.j,\n",
       "        -0.00207529+0.j, -0.00207529+0.j, -0.00207529+0.j, -0.00207529+0.j,\n",
       "        -0.00207529+0.j, -0.00207529+0.j, -0.00207529+0.j, -0.00207529+0.j,\n",
       "        -0.00207529+0.j, -0.00207529+0.j, -0.00207529+0.j, -0.00207529+0.j,\n",
       "        -0.00207529+0.j, -0.00207529+0.j, -0.00207529+0.j, -0.00207529+0.j,\n",
       "        -0.00207529+0.j, -0.00207529+0.j, -0.00207529+0.j, -0.00207529+0.j,\n",
       "        -0.00207529+0.j, -0.00207529+0.j, -0.00207529+0.j, -0.00207529+0.j,\n",
       "        -0.00207529+0.j, -0.00207529+0.j, -0.00207529+0.j, -0.00207529+0.j,\n",
       "        -0.00207529+0.j, -0.00207529+0.j, -0.00207529+0.j, -0.00207529+0.j,\n",
       "        -0.00207529+0.j, -0.00207529+0.j, -0.00207529+0.j, -0.00207529+0.j,\n",
       "        -0.00207529+0.j, -0.00207529+0.j, -0.00207529+0.j, -0.00207529+0.j,\n",
       "        -0.00207529+0.j, -0.00207529+0.j, -0.00207529+0.j, -0.00207529+0.j,\n",
       "        -0.00207529+0.j, -0.00207529+0.j, -0.00207529+0.j, -0.00207529+0.j,\n",
       "        -0.00207529+0.j, -0.00207529+0.j, -0.00207529+0.j, -0.00207529+0.j,\n",
       "        -0.00207529+0.j, -0.00207529+0.j, -0.00207529+0.j, -0.00207529+0.j,\n",
       "        -0.00207529+0.j, -0.00207529+0.j, -0.00207529+0.j, -0.00207529+0.j,\n",
       "        -0.00207529+0.j, -0.00207529+0.j, -0.00207529+0.j, -0.00207529+0.j,\n",
       "        -0.00207529+0.j, -0.00207529+0.j, -0.00207529+0.j, -0.00207529+0.j,\n",
       "        -0.00207529+0.j, -0.00207529+0.j, -0.00207529+0.j, -0.00207529+0.j,\n",
       "        -0.00207529+0.j, -0.00207529+0.j, -0.00207529+0.j, -0.00207529+0.j,\n",
       "        -0.00207529+0.j, -0.00207529+0.j, -0.00207529+0.j, -0.00207529+0.j,\n",
       "        -0.00207529+0.j, -0.00207529+0.j, -0.00207529+0.j, -0.00207529+0.j,\n",
       "        -0.00207529+0.j, -0.00207529+0.j, -0.00207529+0.j, -0.00207529+0.j,\n",
       "        -0.00207529+0.j, -0.00207529+0.j, -0.00207529+0.j, -0.00207529+0.j,\n",
       "        -0.00207529+0.j, -0.00207529+0.j, -0.00207529+0.j, -0.00207529+0.j,\n",
       "        -0.00207529+0.j, -0.00207529+0.j, -0.00207529+0.j, -0.00207529+0.j,\n",
       "        -0.00207529+0.j, -0.00207529+0.j, -0.00207529+0.j, -0.00207529+0.j,\n",
       "        -0.00207529+0.j, -0.00207529+0.j, -0.00207529+0.j, -0.00207529+0.j,\n",
       "        -0.00207529+0.j, -0.00207529+0.j, -0.00207529+0.j, -0.00207529+0.j,\n",
       "        -0.00207529+0.j, -0.00207529+0.j, -0.00207529+0.j, -0.00207529+0.j,\n",
       "        -0.00207529+0.j, -0.00207529+0.j, -0.00207529+0.j, -0.00207529+0.j,\n",
       "        -0.00207529+0.j, -0.00207529+0.j, -0.00207529+0.j, -0.00207529+0.j,\n",
       "        -0.00207529+0.j, -0.00207529+0.j, -0.00207529+0.j, -0.00207529+0.j,\n",
       "        -0.00207529+0.j, -0.00207529+0.j, -0.00207529+0.j, -0.00207529+0.j,\n",
       "        -0.00207529+0.j, -0.00207529+0.j, -0.00207529+0.j, -0.00207529+0.j,\n",
       "        -0.00207529+0.j, -0.00207529+0.j, -0.00207529+0.j, -0.00207529+0.j,\n",
       "        -0.00207529+0.j, -0.00207529+0.j, -0.00207529+0.j, -0.00207529+0.j,\n",
       "        -0.00207529+0.j, -0.00207529+0.j, -0.00207529+0.j, -0.00207529+0.j,\n",
       "        -0.00207529+0.j, -0.00207529+0.j, -0.00207529+0.j, -0.00207529+0.j,\n",
       "        -0.00207529+0.j, -0.00207529+0.j, -0.00207529+0.j, -0.00207529+0.j,\n",
       "        -0.00207529+0.j, -0.00207529+0.j, -0.00207529+0.j, -0.00207529+0.j,\n",
       "        -0.00207529+0.j, -0.00207529+0.j, -0.00207529+0.j, -0.00207529+0.j,\n",
       "        -0.00207529+0.j, -0.00207529+0.j, -0.00207529+0.j, -0.00207529+0.j,\n",
       "        -0.00207529+0.j, -0.00207529+0.j, -0.00207529+0.j, -0.00207529+0.j,\n",
       "        -0.00207529+0.j, -0.00207529+0.j, -0.00207529+0.j, -0.00207529+0.j,\n",
       "        -0.00207529+0.j, -0.00207529+0.j, -0.00207529+0.j, -0.00207529+0.j,\n",
       "        -0.00207529+0.j, -0.00207529+0.j, -0.00207529+0.j, -0.00207529+0.j,\n",
       "        -0.00207529+0.j, -0.00207529+0.j, -0.00207529+0.j, -0.00207529+0.j,\n",
       "        -0.00207529+0.j, -0.00207529+0.j, -0.00207529+0.j, -0.00207529+0.j,\n",
       "        -0.00207529+0.j, -0.00207529+0.j, -0.00207529+0.j, -0.00207529+0.j,\n",
       "        -0.00207529+0.j, -0.00207529+0.j, -0.00207529+0.j, -0.00207529+0.j,\n",
       "        -0.00207529+0.j, -0.00207529+0.j, -0.00207529+0.j, -0.00207529+0.j,\n",
       "        -0.00207529+0.j, -0.00207529+0.j, -0.00207529+0.j, -0.00207529+0.j,\n",
       "        -0.00207529+0.j, -0.00207529+0.j, -0.00207529+0.j, -0.00207529+0.j,\n",
       "        -0.00207529+0.j, -0.00207529+0.j, -0.00207529+0.j, -0.00207529+0.j,\n",
       "        -0.00207529+0.j, -0.00207529+0.j, -0.00207529+0.j, -0.00207529+0.j,\n",
       "        -0.00207529+0.j, -0.00207529+0.j, -0.00207529+0.j, -0.00207529+0.j,\n",
       "        -0.00207529+0.j, -0.00207529+0.j, -0.00207529+0.j, -0.00207529+0.j,\n",
       "        -0.00207529+0.j, -0.00207529+0.j, -0.00207529+0.j, -0.00207529+0.j,\n",
       "        -0.00207529+0.j, -0.00207529+0.j, -0.00207529+0.j, -0.00207529+0.j,\n",
       "        -0.00207529+0.j, -0.00207529+0.j, -0.00207529+0.j, -0.00207529+0.j,\n",
       "        -0.00207529+0.j, -0.00207529+0.j, -0.00207529+0.j, -0.00207529+0.j,\n",
       "        -0.00207529+0.j, -0.00207529+0.j, -0.00207529+0.j, -0.00207529+0.j,\n",
       "        -0.00207529+0.j, -0.00207529+0.j, -0.00207529+0.j, -0.00207529+0.j,\n",
       "        -0.00207529+0.j, -0.00207529+0.j, -0.00207529+0.j, -0.00207529+0.j,\n",
       "        -0.00207529+0.j, -0.00207529+0.j, -0.00207529+0.j, -0.00207529+0.j,\n",
       "        -0.00207529+0.j, -0.00207529+0.j, -0.00207529+0.j, -0.00207529+0.j,\n",
       "        -0.00207529+0.j, -0.00207529+0.j, -0.00207529+0.j, -0.00207529+0.j,\n",
       "        -0.00207529+0.j, -0.00207529+0.j, -0.00207529+0.j, -0.00207529+0.j,\n",
       "        -0.00207529+0.j, -0.00207529+0.j, -0.00207529+0.j, -0.00207529+0.j,\n",
       "        -0.00207529+0.j, -0.00207529+0.j, -0.00207529+0.j, -0.00207529+0.j,\n",
       "        -0.00207529+0.j, -0.00207529+0.j, -0.00207529+0.j, -0.00207529+0.j,\n",
       "        -0.00207529+0.j, -0.00207529+0.j, -0.00207529+0.j, -0.00207529+0.j,\n",
       "        -0.00207529+0.j, -0.00207529+0.j, -0.00207529+0.j, -0.00207529+0.j,\n",
       "        -0.00207529+0.j, -0.00207529+0.j, -0.00207529+0.j, -0.00207529+0.j,\n",
       "        -0.00207529+0.j, -0.00207529+0.j, -0.00207529+0.j, -0.00207529+0.j,\n",
       "        -0.00207529+0.j, -0.00207529+0.j, -0.00207529+0.j, -0.00207529+0.j,\n",
       "        -0.00207529+0.j, -0.00207529+0.j, -0.00207529+0.j, -0.00207529+0.j,\n",
       "        -0.00207529+0.j, -0.00207529+0.j, -0.00207529+0.j, -0.00207529+0.j,\n",
       "        -0.00207529+0.j, -0.00207529+0.j, -0.00207529+0.j, -0.00207529+0.j,\n",
       "        -0.00207529+0.j, -0.00207529+0.j, -0.00207529+0.j, -0.00207529+0.j,\n",
       "        -0.00207529+0.j, -0.00207529+0.j, -0.00207529+0.j, -0.00207529+0.j,\n",
       "        -0.00207529+0.j, -0.00207529+0.j, -0.00207529+0.j, -0.00207529+0.j,\n",
       "        -0.00207529+0.j, -0.00207529+0.j, -0.00207529+0.j, -0.00207529+0.j,\n",
       "        -0.00207529+0.j, -0.00207529+0.j, -0.00207529+0.j, -0.00207529+0.j,\n",
       "        -0.00207529+0.j, -0.00207529+0.j, -0.00207529+0.j, -0.00207529+0.j,\n",
       "        -0.00207529+0.j, -0.00207529+0.j, -0.00207529+0.j, -0.00207529+0.j,\n",
       "        -0.00207529+0.j, -0.00207529+0.j, -0.00207529+0.j, -0.00207529+0.j,\n",
       "        -0.00207529+0.j, -0.00207529+0.j, -0.00207529+0.j, -0.00207529+0.j,\n",
       "        -0.00207529+0.j, -0.00207529+0.j, -0.00207529+0.j, -0.00207529+0.j,\n",
       "        -0.00207529+0.j, -0.00207529+0.j, -0.00207529+0.j, -0.00207529+0.j,\n",
       "        -0.00207529+0.j, -0.00207529+0.j, -0.00207529+0.j, -0.00207529+0.j,\n",
       "        -0.00207529+0.j, -0.00207529+0.j, -0.00207529+0.j, -0.00207529+0.j,\n",
       "        -0.00207529+0.j, -0.00207529+0.j, -0.00207529+0.j, -0.00207529+0.j,\n",
       "        -0.00207529+0.j, -0.00207529+0.j, -0.00207529+0.j, -0.00207529+0.j,\n",
       "        -0.00207529+0.j, -0.00207529+0.j, -0.00207529+0.j, -0.00207529+0.j,\n",
       "        -0.00207529+0.j, -0.00207529+0.j, -0.00207529+0.j, -0.00207529+0.j,\n",
       "        -0.00207529+0.j, -0.00207529+0.j, -0.00207529+0.j, -0.00207529+0.j,\n",
       "        -0.00207529+0.j, -0.00207529+0.j, -0.00207529+0.j, -0.00207529+0.j,\n",
       "        -0.00207529+0.j, -0.00207529+0.j, -0.00207529+0.j, -0.00207529+0.j,\n",
       "        -0.00207529+0.j, -0.00207529+0.j, -0.00207529+0.j, -0.00207529+0.j,\n",
       "        -0.00207529+0.j, -0.00207529+0.j, -0.00207529+0.j, -0.00207529+0.j,\n",
       "        -0.00207529+0.j, -0.00207529+0.j, -0.00207529+0.j, -0.00207529+0.j,\n",
       "        -0.00207529+0.j, -0.00207529+0.j, -0.00207529+0.j, -0.00207529+0.j,\n",
       "        -0.00207529+0.j, -0.00207529+0.j, -0.00207529+0.j, -0.00207529+0.j,\n",
       "        -0.00207529+0.j, -0.00207529+0.j, -0.00207529+0.j, -0.00207529+0.j,\n",
       "        -0.00207529+0.j, -0.00207529+0.j, -0.00207529+0.j, -0.00207529+0.j,\n",
       "        -0.00207529+0.j, -0.00207529+0.j, -0.00207529+0.j, -0.00207529+0.j,\n",
       "        -0.00207529+0.j, -0.00207529+0.j, -0.00207529+0.j, -0.00207529+0.j,\n",
       "        -0.00207529+0.j, -0.00207529+0.j, -0.00207529+0.j, -0.00207529+0.j,\n",
       "        -0.00207529+0.j, -0.00207529+0.j, -0.00207529+0.j, -0.00207529+0.j,\n",
       "        -0.00207529+0.j, -0.00207529+0.j, -0.00207529+0.j, -0.00207529+0.j,\n",
       "        -0.00207529+0.j, -0.00207529+0.j, -0.00207529+0.j, -0.00207529+0.j,\n",
       "        -0.00207529+0.j, -0.00207529+0.j, -0.00207529+0.j, -0.00207529+0.j,\n",
       "        -0.00207529+0.j, -0.00207529+0.j, -0.00207529+0.j, -0.00207529+0.j,\n",
       "        -0.00207529+0.j, -0.00207529+0.j, -0.00207529+0.j, -0.00207529+0.j,\n",
       "        -0.00207529+0.j, -0.00207529+0.j, -0.00207529+0.j, -0.00207529+0.j,\n",
       "        -0.00207529+0.j, -0.00207529+0.j, -0.00207529+0.j, -0.00207529+0.j,\n",
       "        -0.00207529+0.j, -0.00207529+0.j, -0.00207529+0.j, -0.00207529+0.j,\n",
       "        -0.00207529+0.j, -0.00207529+0.j, -0.00207529+0.j, -0.00207529+0.j,\n",
       "        -0.00207529+0.j, -0.00207529+0.j, -0.00207529+0.j, -0.00207529+0.j,\n",
       "        -0.00207529+0.j, -0.00207529+0.j, -0.00207529+0.j, -0.00207529+0.j,\n",
       "        -0.00207529+0.j, -0.00207529+0.j, -0.00207529+0.j, -0.00207529+0.j,\n",
       "        -0.00207529+0.j, -0.00207529+0.j, -0.00207529+0.j, -0.00207529+0.j]),\n",
       " array([-0.19473165+0.j, -0.16043213+0.j, -0.15088062+0.j, -0.13957378+0.j,\n",
       "        -0.11474741+0.j, -0.10240934+0.j, -0.108697  +0.j, -0.09122307+0.j,\n",
       "        -0.08722729+0.j, -0.09319258+0.j, -0.08636265+0.j, -0.07812847+0.j,\n",
       "        -0.05527732+0.j, -0.02354153+0.j, -0.01588211+0.j, -0.00820567+0.j,\n",
       "        -0.0038187 +0.j, -0.01461827+0.j,  0.01706295+0.j,  0.02819347+0.j,\n",
       "         0.04017482+0.j,  0.0219297 +0.j,  0.02008984+0.j,  0.00527256+0.j,\n",
       "         0.02611126+0.j,  0.05062657+0.j,  0.07464418+0.j,  0.09945339+0.j,\n",
       "         0.08163296+0.j,  0.10164079+0.j,  0.10317172+0.j,  0.11685968+0.j,\n",
       "         0.14291616+0.j,  0.17818244+0.j,  0.17989396+0.j,  0.19759602+0.j,\n",
       "         0.19835521+0.j,  0.19688813+0.j,  0.23089133+0.j,  0.23254576+0.j,\n",
       "         0.22143887+0.j,  0.22812496+0.j,  0.24164149+0.j,  0.22088135+0.j,\n",
       "         0.20874361+0.j,  0.1944938 +0.j,  0.20690054+0.j,  0.21919315+0.j,\n",
       "         0.22403767+0.j,  0.24910776+0.j,  0.27229001+0.j,  0.29960819+0.j,\n",
       "         0.30611438+0.j,  0.33768079+0.j,  0.34575037+0.j,  0.37696634+0.j,\n",
       "         0.38104334+0.j,  0.39456254+0.j,  0.39631809+0.j,  0.38325796+0.j,\n",
       "         0.38146812+0.j,  0.37562881+0.j,  0.36795862+0.j,  0.36041889+0.j,\n",
       "         0.39638344+0.j,  0.37672248+0.j,  0.39464033+0.j,  0.3935144 +0.j,\n",
       "         0.40885309+0.j,  0.42550648+0.j,  0.43847928+0.j,  0.46056661+0.j,\n",
       "         0.46437365+0.j,  0.4843023 +0.j,  0.4920195 +0.j,  0.51836502+0.j,\n",
       "         0.51249371+0.j,  0.50777763+0.j,  0.50233379+0.j,  0.50883536+0.j,\n",
       "         0.51114241+0.j,  0.5196076 +0.j,  0.53086216+0.j,  0.54423844+0.j,\n",
       "         0.52221128+0.j,  0.52657276+0.j,  0.54592993+0.j,  0.56111811+0.j,\n",
       "         0.55922727+0.j,  0.57172056+0.j,  0.59019303+0.j,  0.57249793+0.j,\n",
       "         0.57101093+0.j,  0.5720435 +0.j,  0.59170312+0.j,  0.59212994+0.j,\n",
       "         0.57496764+0.j,  0.58958217+0.j,  0.59080814+0.j,  0.60010412+0.j,\n",
       "         0.59783294+0.j,  0.62986505+0.j,  0.65074968+0.j,  0.64180293+0.j,\n",
       "         0.64332676+0.j,  0.65438744+0.j,  0.65291489+0.j,  0.66049409+0.j,\n",
       "         0.68961875+0.j,  0.66987157+0.j,  0.68688271+0.j,  0.67285811+0.j,\n",
       "         0.67431853+0.j,  0.66894482+0.j,  0.66991679+0.j,  0.67316831+0.j,\n",
       "         0.67331368+0.j,  0.66170654+0.j,  0.65709807+0.j,  0.66390155+0.j,\n",
       "         0.65066832+0.j,  0.65991827+0.j,  0.65040262+0.j,  0.67288426+0.j,\n",
       "         0.67021213+0.j,  0.66380843+0.j,  0.6827394 +0.j,  0.69021959+0.j,\n",
       "         0.67335715+0.j,  0.67573047+0.j,  0.6645802 +0.j,  0.66893014+0.j,\n",
       "         0.67793325+0.j,  0.65677518+0.j,  0.64655282+0.j,  0.63588605+0.j,\n",
       "         0.62457929+0.j,  0.6224761 +0.j,  0.64648814+0.j,  0.64608408+0.j,\n",
       "         0.65305809+0.j,  0.6454665 +0.j,  0.64727393+0.j,  0.65170075+0.j,\n",
       "         0.65791128+0.j,  0.68002036+0.j,  0.69952373+0.j,  0.68077673+0.j,\n",
       "         0.65813094+0.j,  0.65068365+0.j,  0.6620862 +0.j,  0.64013039+0.j,\n",
       "         0.64384627+0.j,  0.64388529+0.j,  0.65695164+0.j,  0.64850518+0.j,\n",
       "         0.63894576+0.j,  0.63268654+0.j,  0.64892376+0.j,  0.66441105+0.j,\n",
       "         0.65046904+0.j,  0.64594245+0.j,  0.61606737+0.j,  0.60927699+0.j,\n",
       "         0.58049002+0.j,  0.55801957+0.j,  0.53696045+0.j,  0.54188238+0.j,\n",
       "         0.50942283+0.j,  0.48498316+0.j,  0.47733679+0.j,  0.48786728+0.j,\n",
       "         0.50788705+0.j,  0.50745114+0.j,  0.51089646+0.j,  0.52180959+0.j,\n",
       "         0.52732468+0.j,  0.53011863+0.j,  0.55365138+0.j,  0.55354985+0.j,\n",
       "         0.5584992 +0.j,  0.55673312+0.j,  0.52092969+0.j,  0.52029283+0.j,\n",
       "         0.52795116+0.j,  0.50576757+0.j,  0.50045042+0.j,  0.47374662+0.j,\n",
       "         0.4644717 +0.j,  0.47451014+0.j,  0.45176796+0.j,  0.43236712+0.j,\n",
       "         0.45354491+0.j,  0.4438527 +0.j,  0.4318431 +0.j,  0.43079822+0.j,\n",
       "         0.43394552+0.j,  0.43223403+0.j,  0.42246449+0.j,  0.38949662+0.j,\n",
       "         0.37927969+0.j,  0.36547007+0.j,  0.33257263+0.j,  0.30825236+0.j,\n",
       "         0.29818864+0.j,  0.2972896 +0.j,  0.26115146+0.j,  0.26248414+0.j,\n",
       "         0.25001761+0.j,  0.24241186+0.j,  0.24479164+0.j,  0.2367091 +0.j,\n",
       "         0.24278937+0.j,  0.25817389+0.j,  0.24821564+0.j,  0.23236144+0.j,\n",
       "         0.23614492+0.j,  0.23653455+0.j,  0.22920418+0.j,  0.24188473+0.j,\n",
       "         0.23683308+0.j,  0.22950285+0.j,  0.20559782+0.j,  0.18313868+0.j,\n",
       "         0.17626289+0.j,  0.15394532+0.j,  0.15872906+0.j,  0.14659467+0.j,\n",
       "         0.14029852+0.j,  0.12337232+0.j,  0.10684132+0.j,  0.10108268+0.j,\n",
       "         0.11513519+0.j,  0.1162902 +0.j,  0.1030881 +0.j,  0.11258055+0.j,\n",
       "         0.08494698+0.j,  0.07643722+0.j,  0.04868793+0.j,  0.03753726+0.j,\n",
       "         0.04269276+0.j,  0.05598705+0.j,  0.04653261+0.j,  0.01519938+0.j,\n",
       "         0.02328898+0.j,  0.01450617+0.j,  0.00335103+0.j, -0.02376325+0.j,\n",
       "        -0.01432146+0.j, -0.01435478+0.j, -0.03150049+0.j, -0.04490664+0.j,\n",
       "        -0.07686618+0.j, -0.0602836 +0.j, -0.07070597+0.j, -0.09265824+0.j,\n",
       "        -0.07814467+0.j, -0.08591822+0.j, -0.09683447+0.j, -0.11822039+0.j,\n",
       "        -0.12200769+0.j, -0.13689176+0.j, -0.13945475+0.j, -0.16549464+0.j,\n",
       "        -0.17115101+0.j, -0.16085404+0.j, -0.1831204 +0.j, -0.17812983+0.j,\n",
       "        -0.19016109+0.j, -0.19098644+0.j, -0.20798694+0.j, -0.22928772+0.j,\n",
       "        -0.2431292 +0.j, -0.2382417 +0.j, -0.27323276+0.j, -0.29138842+0.j,\n",
       "        -0.30964311+0.j, -0.31679114+0.j, -0.32640381+0.j, -0.32823946+0.j,\n",
       "        -0.32731537+0.j, -0.31051041+0.j, -0.29142021+0.j, -0.31025013+0.j,\n",
       "        -0.28849573+0.j, -0.28687978+0.j, -0.28698545+0.j, -0.28925467+0.j,\n",
       "        -0.30206993+0.j, -0.30223202+0.j, -0.30848896+0.j, -0.33810679+0.j,\n",
       "        -0.34152141+0.j, -0.32527018+0.j, -0.33178605+0.j, -0.35209188+0.j,\n",
       "        -0.3389625 +0.j, -0.35859916+0.j, -0.35189135+0.j, -0.38250327+0.j,\n",
       "        -0.40062746+0.j, -0.37914739+0.j, -0.39931599+0.j, -0.41367838+0.j,\n",
       "        -0.41446795+0.j, -0.41147014+0.j, -0.41740585+0.j, -0.41763053+0.j,\n",
       "        -0.43269231+0.j, -0.4366105 +0.j, -0.42474198+0.j, -0.44329174+0.j,\n",
       "        -0.44125223+0.j, -0.44282951+0.j, -0.47138816+0.j, -0.45806846+0.j,\n",
       "        -0.45992091+0.j, -0.45926259+0.j, -0.44254841+0.j, -0.42181363+0.j,\n",
       "        -0.41268663+0.j, -0.41019953+0.j, -0.41310839+0.j, -0.42004099+0.j,\n",
       "        -0.41653477+0.j, -0.4333757 +0.j, -0.44621736+0.j, -0.44058703+0.j,\n",
       "        -0.46079675+0.j, -0.46733578+0.j, -0.49442312+0.j, -0.51079942+0.j,\n",
       "        -0.50177908+0.j, -0.50296331+0.j, -0.50046828+0.j, -0.50317685+0.j,\n",
       "        -0.49962697+0.j, -0.4934676 +0.j, -0.48290453+0.j, -0.47596732+0.j,\n",
       "        -0.46731807+0.j, -0.46277998+0.j, -0.47039074+0.j, -0.4588621 +0.j,\n",
       "        -0.47023686+0.j, -0.45859624+0.j, -0.464402  +0.j, -0.46602092+0.j,\n",
       "        -0.46323558+0.j, -0.48610555+0.j, -0.48749127+0.j, -0.47954407+0.j,\n",
       "        -0.49055187+0.j, -0.51016015+0.j, -0.5060245 +0.j, -0.50808851+0.j,\n",
       "        -0.51939189+0.j, -0.53180034+0.j, -0.54229673+0.j, -0.52570009+0.j,\n",
       "        -0.50897981+0.j, -0.50025765+0.j, -0.49133781+0.j, -0.49332727+0.j,\n",
       "        -0.47414776+0.j, -0.486486  +0.j, -0.46039539+0.j, -0.45889948+0.j,\n",
       "        -0.44294157+0.j, -0.44426853+0.j, -0.44972757+0.j, -0.45534956+0.j,\n",
       "        -0.44576921+0.j, -0.41582012+0.j, -0.42027926+0.j, -0.39346736+0.j,\n",
       "        -0.41283959+0.j, -0.40928668+0.j, -0.41485874+0.j, -0.41305431+0.j,\n",
       "        -0.42569231+0.j, -0.428986  +0.j, -0.42935507+0.j, -0.4532764 +0.j,\n",
       "        -0.45678695+0.j, -0.47431978+0.j, -0.46036988+0.j, -0.43502176+0.j,\n",
       "        -0.42246166+0.j, -0.40663898+0.j, -0.38464745+0.j, -0.37061073+0.j,\n",
       "        -0.36245269+0.j, -0.33080643+0.j, -0.32505499+0.j, -0.30155288+0.j,\n",
       "        -0.30630777+0.j, -0.30963987+0.j, -0.29560321+0.j, -0.30329793+0.j,\n",
       "        -0.30939098+0.j, -0.29187889+0.j, -0.27762409+0.j, -0.28991621+0.j,\n",
       "        -0.26981856+0.j, -0.27090277+0.j, -0.25588129+0.j, -0.25181555+0.j,\n",
       "        -0.26079206+0.j, -0.23676456+0.j, -0.20615123+0.j, -0.2208739 +0.j,\n",
       "        -0.24034126+0.j, -0.23933854+0.j, -0.24734081+0.j, -0.25116499+0.j,\n",
       "        -0.22799004+0.j, -0.2381022 +0.j, -0.21478584+0.j, -0.22532444+0.j,\n",
       "        -0.22737401+0.j, -0.21923739+0.j, -0.20089014+0.j, -0.16752798+0.j,\n",
       "        -0.16462733+0.j, -0.13708879+0.j, -0.14356176+0.j, -0.12096089+0.j,\n",
       "        -0.11901563+0.j, -0.10830498+0.j, -0.101744  +0.j, -0.07022373+0.j,\n",
       "        -0.06961369+0.j, -0.06344524+0.j, -0.04668542+0.j, -0.05299491+0.j,\n",
       "        -0.04103943+0.j, -0.03698095+0.j, -0.04201126+0.j, -0.04529644+0.j,\n",
       "        -0.02846023+0.j, -0.02283366+0.j,  0.00793382+0.j, -0.00924743+0.j,\n",
       "         0.01217804+0.j,  0.02690248+0.j,  0.03760943+0.j,  0.04798077+0.j,\n",
       "         0.06482132+0.j,  0.07655041+0.j,  0.08539124+0.j,  0.09738471+0.j,\n",
       "         0.09753069+0.j,  0.10903037+0.j,  0.0980708 +0.j,  0.09447536+0.j,\n",
       "         0.10576265+0.j,  0.103008  +0.j,  0.10985669+0.j,  0.14195383+0.j,\n",
       "         0.13550076+0.j,  0.12361994+0.j,  0.11540418+0.j,  0.1187744 +0.j,\n",
       "         0.13305643+0.j,  0.15922583+0.j,  0.16639284+0.j,  0.19927099+0.j,\n",
       "         0.19495673+0.j,  0.17653828+0.j,  0.18874787+0.j,  0.21364954+0.j,\n",
       "         0.22937225+0.j,  0.26091198+0.j,  0.26113076+0.j,  0.25565738+0.j,\n",
       "         0.26407607+0.j,  0.24855763+0.j,  0.27353745+0.j,  0.28159112+0.j,\n",
       "         0.27666588+0.j,  0.26111159+0.j,  0.25916392+0.j,  0.27295753+0.j,\n",
       "         0.28236021+0.j,  0.28340607+0.j,  0.29121634+0.j,  0.32083416+0.j,\n",
       "         0.33228529+0.j,  0.34846844+0.j,  0.36821196+0.j,  0.38859615+0.j,\n",
       "         0.41022189+0.j,  0.3913663 +0.j,  0.41498606+0.j,  0.42709177+0.j,\n",
       "         0.41522938+0.j,  0.39759319+0.j,  0.38053138+0.j,  0.38053138+0.j]))"
      ]
     },
     "execution_count": 53,
     "metadata": {},
     "output_type": "execute_result"
    }
   ],
   "source": [
    "updater(result.u[-1, 0, : ] , (2*pi)/500, epsilon=((0.1*2*pi)/(10**3)))"
   ]
  },
  {
   "cell_type": "code",
   "execution_count": 54,
   "metadata": {
    "ExecuteTime": {
     "end_time": "2019-02-16T11:18:33.092077Z",
     "start_time": "2019-02-16T11:18:33.089580Z"
    }
   },
   "outputs": [
    {
     "data": {
      "text/plain": [
       "6.283185307179586"
      ]
     },
     "execution_count": 54,
     "metadata": {},
     "output_type": "execute_result"
    }
   ],
   "source": [
    "times[-1]"
   ]
  },
  {
   "cell_type": "code",
   "execution_count": 55,
   "metadata": {
    "ExecuteTime": {
     "end_time": "2019-02-16T11:18:33.178413Z",
     "start_time": "2019-02-16T11:18:33.093190Z"
    }
   },
   "outputs": [
    {
     "data": {
      "text/plain": [
       "6.283185307179586"
      ]
     },
     "execution_count": 55,
     "metadata": {},
     "output_type": "execute_result"
    }
   ],
   "source": [
    "total_time_evo"
   ]
  },
  {
   "cell_type": "markdown",
   "metadata": {},
   "source": [
    "## joining qutip to my code"
   ]
  },
  {
   "cell_type": "markdown",
   "metadata": {
    "ExecuteTime": {
     "end_time": "2019-02-15T04:25:13.615608Z",
     "start_time": "2019-02-15T04:25:13.566890Z"
    }
   },
   "source": [
    "##### total_time\n",
    "---------------------------------------------------------------------------\n",
    "NameError                                 Traceback (most recent call last)\n",
    "<ipython-input-55-9bec417112c8> in <module>()\n",
    "----> 1 total_time\n",
    "\n",
    "NameError: name 'total_time' is not defined\n"
   ]
  },
  {
   "cell_type": "code",
   "execution_count": 56,
   "metadata": {
    "ExecuteTime": {
     "end_time": "2019-02-16T11:18:33.277284Z",
     "start_time": "2019-02-16T11:18:33.179707Z"
    }
   },
   "outputs": [
    {
     "data": {
      "text/plain": [
       "500"
      ]
     },
     "execution_count": 56,
     "metadata": {},
     "output_type": "execute_result"
    }
   ],
   "source": [
    "len(times)"
   ]
  },
  {
   "cell_type": "markdown",
   "metadata": {
    "ExecuteTime": {
     "end_time": "2019-02-15T04:33:44.601387Z",
     "start_time": "2019-02-15T04:33:44.593763Z"
    },
    "code_folding": []
   },
   "source": [
    "def terminator(max_iter, time_steps=len(times), total_time= total_time_evo,\n",
    "               epsilon= 2*pi*1):\n",
    "    r\"\"\"Brief description of the function\"\"\"\n",
    "    \n",
    "    xi_initial = result.u[-1, 0, : ] \n",
    "    #1000*random_sample((time_steps,))\n",
    "    dt = (2*pi)/500  #total_time/time_steps\n",
    "    xi_diff, xi_new_vec = updater(xi_initial, dt, epsilon)\n",
    "    \n",
    "    for i in range(max_iter):\n",
    "        if amax(xi_diff) < epsilon**2 :\n",
    "            xi_final = xi_new_vec\n",
    "            break\n",
    "        else :\n",
    "            xi_diff, xi_new_vec = updater(xi_new_vec, dt, epsilon)\n",
    "            print(i)\n",
    "            print(amax(xi_diff))\n",
    "            \n",
    "        \n",
    "    xi_final = xi_new_vec    \n",
    "    return xi_final"
   ]
  },
  {
   "cell_type": "code",
   "execution_count": 57,
   "metadata": {
    "ExecuteTime": {
     "end_time": "2019-02-16T11:18:33.436275Z",
     "start_time": "2019-02-16T11:18:33.279730Z"
    },
    "code_folding": []
   },
   "outputs": [],
   "source": [
    "def terminator(max_iter, time_steps=len(times),\n",
    "              total_time=total_time_evo,\n",
    "              epsilon=2*pi*1):\n",
    "    r\"\"\"Brief description of the function\"\"\"\n",
    "    xi_initial = result.u[-1, 0, :]\n",
    "    # 1000*random_sample((time_steps,))\n",
    "    dt = (2*pi)/500 #total_time/time_steps\n",
    "    xi_diff, xi_new_vec = updater(xi_initial, dt, epsilon)\n",
    "    min_iter = int(max_iter/2)\n",
    "    for i in range(max_iter):\n",
    "        if i == 0:\n",
    "            print(\"Hi\")\n",
    "            \n",
    "        \n",
    "        if i > min_iter :\n",
    "            \n",
    "            if i > min_iter + 1 :\n",
    "                print(\"Surpassed minimum iteration barrier\")\n",
    "            if amax(xi_diff) < epsilon**2 :\n",
    "                xi_final = xi_new_vec\n",
    "                print(\"Tejas is unlucky\")\n",
    "                print(\"Attempted iterations \", i)\n",
    "                break\n",
    "            else :\n",
    "                xi_diff, xi_new_vec = updater(xi_new_vec, dt, epsilon)\n",
    "                print(\"Tejas is a good boy\")\n",
    "                print(i)\n",
    "                print(amax(xi_diff))\n",
    "        \n",
    "        else :\n",
    "            print(\"Normal life\")\n",
    "            xi_diff, xi_new_vec = updater(xi_new_vec, dt, epsilon)\n",
    "            print(i)\n",
    "            print(amax(xi_diff))\n",
    "            \n",
    "    return xi_final\n"
   ]
  },
  {
   "cell_type": "markdown",
   "metadata": {},
   "source": [
    "## sub topic 3"
   ]
  },
  {
   "cell_type": "code",
   "execution_count": 58,
   "metadata": {
    "ExecuteTime": {
     "end_time": "2019-02-16T11:18:33.519087Z",
     "start_time": "2019-02-16T11:18:33.437641Z"
    }
   },
   "outputs": [],
   "source": [
    "new_label = [r'$g_{with diss}$']"
   ]
  },
  {
   "cell_type": "markdown",
   "metadata": {},
   "source": [
    "### try"
   ]
  },
  {
   "cell_type": "code",
   "execution_count": 59,
   "metadata": {
    "ExecuteTime": {
     "end_time": "2019-02-16T11:54:08.467863Z",
     "start_time": "2019-02-16T11:18:33.520491Z"
    }
   },
   "outputs": [
    {
     "name": "stdout",
     "output_type": "stream",
     "text": [
      "Hi\n",
      "Normal life\n",
      "0\n",
      "(-41.305796078296375+0j)\n",
      "Normal life\n",
      "1\n",
      "(-41.27209721607235+0j)\n",
      "Normal life\n",
      "2\n",
      "(-41.27631555998097+0j)\n",
      "Normal life\n",
      "3\n",
      "(-41.276749580409366+0j)\n",
      "Normal life\n",
      "4\n",
      "(-41.27371313083948+0j)\n",
      "Normal life\n",
      "5\n",
      "(-41.27788722896377+0j)\n",
      "Tejas is unlucky\n",
      "Attempted iterations  6\n"
     ]
    }
   ],
   "source": [
    "xi_opt = terminator(10)"
   ]
  },
  {
   "cell_type": "code",
   "execution_count": 60,
   "metadata": {
    "ExecuteTime": {
     "end_time": "2019-02-16T11:54:08.470911Z",
     "start_time": "2019-02-16T11:54:08.468944Z"
    }
   },
   "outputs": [],
   "source": [
    "time_steps=len(times)\n",
    "total_time= total_time_evo\n",
    "epsilon= 2*pi*1"
   ]
  },
  {
   "cell_type": "code",
   "execution_count": 61,
   "metadata": {
    "ExecuteTime": {
     "end_time": "2019-02-16T11:54:09.339179Z",
     "start_time": "2019-02-16T11:54:08.472400Z"
    }
   },
   "outputs": [
    {
     "data": {
      "text/plain": [
       "-4.2190689295942185"
      ]
     },
     "execution_count": 61,
     "metadata": {},
     "output_type": "execute_result"
    }
   ],
   "source": [
    "dt = (2*pi)/500\n",
    "F(xi_opt, dt)"
   ]
  },
  {
   "cell_type": "code",
   "execution_count": 62,
   "metadata": {
    "ExecuteTime": {
     "end_time": "2019-02-16T11:54:10.033039Z",
     "start_time": "2019-02-16T11:54:09.340427Z"
    }
   },
   "outputs": [
    {
     "data": {
      "text/latex": [
       "Quantum object: dims = [[2, 2], [2, 2]], shape = (4, 4), type = oper, isherm = False\\begin{equation*}\\left(\\begin{array}{*{11}c}0.407 & (-0.250+4.391\\times10^{-04}j) & (-0.250-4.391\\times10^{-04}j) & 0.593\\\\(0.250-4.386\\times10^{-04}j) & (0.049-9.316\\times10^{-04}j) & (-0.236-1.221\\times10^{-06}j) & (-0.250+4.386\\times10^{-04}j)\\\\(0.250+4.386\\times10^{-04}j) & (-0.236+1.221\\times10^{-06}j) & (0.049+9.316\\times10^{-04}j) & (-0.250-4.386\\times10^{-04}j)\\\\0.593 & (0.250-4.391\\times10^{-04}j) & (0.250+4.391\\times10^{-04}j) & 0.407\\\\\\end{array}\\right)\\end{equation*}"
      ],
      "text/plain": [
       "Quantum object: dims = [[2, 2], [2, 2]], shape = (4, 4), type = oper, isherm = False\n",
       "Qobj data =\n",
       "[[ 0.40669388+0.00000000e+00j -0.24990865+4.39074890e-04j\n",
       "  -0.24990865-4.39074890e-04j  0.59330612+0.00000000e+00j]\n",
       " [ 0.24990877-4.38580075e-04j  0.04909078-9.31563509e-04j\n",
       "  -0.23551837-1.22115050e-06j -0.24990877+4.38580075e-04j]\n",
       " [ 0.24990877+4.38580075e-04j -0.23551837+1.22115050e-06j\n",
       "   0.04909078+9.31563509e-04j -0.24990877-4.38580075e-04j]\n",
       " [ 0.59330612+0.00000000e+00j  0.24990865-4.39074890e-04j\n",
       "   0.24990865+4.39074890e-04j  0.40669388+0.00000000e+00j]]"
      ]
     },
     "execution_count": 62,
     "metadata": {},
     "output_type": "execute_result"
    }
   ],
   "source": [
    "L_full_maker(xi_opt, dt)"
   ]
  },
  {
   "cell_type": "code",
   "execution_count": 63,
   "metadata": {
    "ExecuteTime": {
     "end_time": "2019-02-16T11:54:10.138158Z",
     "start_time": "2019-02-16T11:54:10.034189Z"
    }
   },
   "outputs": [
    {
     "name": "stderr",
     "output_type": "stream",
     "text": [
      "/home/tejas/anaconda3/envs/qutip-env/lib/python3.6/site-packages/numpy/core/numeric.py:501: ComplexWarning: Casting complex values to real discards the imaginary part\n",
      "  return array(a, dtype, copy=False, order=order)\n",
      "/home/tejas/anaconda3/envs/qutip-env/lib/python3.6/site-packages/matplotlib/transforms.py:968: ComplexWarning: Casting complex values to real discards the imaginary part\n",
      "  self._points[:, 1] = interval\n"
     ]
    },
    {
     "data": {
      "image/png": "[encoded data removed]",
      "text/plain": [
       "<Figure size 432x288 with 1 Axes>"
      ]
     },
     "metadata": {
      "needs_background": "light"
     },
     "output_type": "display_data"
    }
   ],
   "source": [
    "ax = axes()\n",
    "ax.plot(times, xi_opt)\n",
    "xi_max = amax(xi_opt) + 0.1\n",
    "xi_min = amin(xi_opt) - 0.1\n",
    "\n",
    "ax.set(xlim=(0, total_time_evo), ylim=(xi_min, xi_max),\n",
    "       xlabel='time', ylabel= r'$g_{with diss}$',\n",
    "       title='Control field in the presence of dissipation');"
   ]
  },
  {
   "cell_type": "markdown",
   "metadata": {},
   "source": [
    "### try"
   ]
  },
  {
   "cell_type": "code",
   "execution_count": 64,
   "metadata": {
    "ExecuteTime": {
     "end_time": "2019-02-18T06:56:18.385030Z",
     "start_time": "2019-02-16T11:54:10.139401Z"
    }
   },
   "outputs": [
    {
     "name": "stdout",
     "output_type": "stream",
     "text": [
      "Hi\n",
      "Normal life\n",
      "0\n",
      "(-41.305796078296375+0j)\n",
      "Normal life\n",
      "1\n",
      "(-41.27209721607235+0j)\n",
      "Normal life\n",
      "2\n",
      "(-41.27631555998097+0j)\n",
      "Normal life\n",
      "3\n",
      "(-41.276749580409366+0j)\n",
      "Normal life\n",
      "4\n",
      "(-41.27371313083948+0j)\n",
      "Normal life\n",
      "5\n",
      "(-41.27788722896377+0j)\n",
      "Normal life\n",
      "6\n",
      "(-41.273295475540465+0j)\n",
      "Normal life\n",
      "7\n",
      "(-41.27779238214654+0j)\n",
      "Normal life\n",
      "8\n",
      "(-41.273795605418954+0j)\n",
      "Normal life\n",
      "9\n",
      "(-41.27705588921271+0j)\n",
      "Normal life\n",
      "10\n",
      "(-41.27469174188106+0j)\n",
      "Normal life\n",
      "11\n",
      "(-41.276095714205404+0j)\n",
      "Normal life\n",
      "12\n",
      "(-41.27560949353324+0j)\n",
      "Normal life\n",
      "13\n",
      "(-41.27525785762632+0j)\n",
      "Normal life\n",
      "14\n",
      "(-41.27628144676038+0j)\n",
      "Normal life\n",
      "15\n",
      "(-41.27476699455374+0j)\n",
      "Normal life\n",
      "16\n",
      "(-41.27656301800032+0j)\n",
      "Normal life\n",
      "17\n",
      "(-41.274695559373+0j)\n",
      "Normal life\n",
      "18\n",
      "(-41.27644993117017+0j)\n",
      "Normal life\n",
      "19\n",
      "(-41.27497193723647+0j)\n",
      "Normal life\n",
      "20\n",
      "(-41.27605895968879+0j)\n",
      "Normal life\n",
      "21\n",
      "(-41.275431051193856+0j)\n",
      "Normal life\n",
      "22\n",
      "(-41.27557629579591+0j)\n",
      "Normal life\n",
      "23\n",
      "(-41.27588151609717+0j)\n",
      "Normal life\n",
      "24\n",
      "(-41.27518983777281+0j)\n",
      "Normal life\n",
      "25\n",
      "(-41.27616689709128+0j)\n",
      "Normal life\n",
      "26\n",
      "(-41.275023218563454+0j)\n",
      "Normal life\n",
      "27\n",
      "(-41.27620945552667+0j)\n",
      "Normal life\n",
      "28\n",
      "(-41.27510324234556+0j)\n",
      "Normal life\n",
      "29\n",
      "(-41.276026863400325+0j)\n",
      "Normal life\n",
      "30\n",
      "(-41.27536624362986+0j)\n",
      "Normal life\n",
      "31\n",
      "(-41.27571451323562+0j)\n",
      "Normal life\n",
      "32\n",
      "(-41.275692165796016+0j)\n",
      "Normal life\n",
      "33\n",
      "(-41.275404321982414+0j)\n",
      "Normal life\n",
      "34\n",
      "(-41.27595375230553+0j)\n",
      "Normal life\n",
      "35\n",
      "(-41.27521159729892+0j)\n",
      "Normal life\n",
      "36\n",
      "(-41.2760616764219+0j)\n",
      "Normal life\n",
      "37\n",
      "(-41.275195445093225+0j)\n",
      "Normal life\n",
      "38\n",
      "(-41.27599151305514+0j)\n",
      "Normal life\n",
      "39\n",
      "(-41.275342714553204+0j)\n",
      "Normal life\n",
      "40\n",
      "(-41.27578691062566+0j)\n",
      "Normal life\n",
      "41\n",
      "(-41.2755814695382+0j)\n",
      "Normal life\n",
      "42\n",
      "(-41.27553796917995+0j)\n",
      "Normal life\n",
      "43\n",
      "(-41.275813325258035+0j)\n",
      "Normal life\n",
      "44\n",
      "(-41.27534341729223+0j)\n",
      "Normal life\n",
      "45\n",
      "(-41.27595168058367+0j)\n",
      "Normal life\n",
      "46\n",
      "(-41.27527257947245+0j)\n",
      "Normal life\n",
      "47\n",
      "(-41.27595191742764+0j)\n",
      "Normal life\n",
      "48\n",
      "(-41.275341436703314+0j)\n",
      "Normal life\n",
      "49\n",
      "(-41.27582484277052+0j)\n",
      "Normal life\n",
      "50\n",
      "(-41.2755121575719+0j)\n",
      "Normal life\n",
      "51\n",
      "(-41.27562900696002+0j)\n",
      "Normal life\n",
      "52\n",
      "(-41.275711674079744+0j)\n",
      "Normal life\n",
      "53\n",
      "(-41.275444636090654+0j)\n",
      "Normal life\n",
      "54\n",
      "(-41.27586172423902+0j)\n",
      "Normal life\n",
      "55\n",
      "(-41.27534199462569+0j)\n",
      "Normal life\n",
      "56\n",
      "(-41.2759084648399+0j)\n",
      "Normal life\n",
      "57\n",
      "(-41.27535457426616+0j)\n",
      "Normal life\n",
      "58\n",
      "(-41.27584094377719+0j)\n",
      "Normal life\n",
      "59\n",
      "(-41.27546932981085+0j)\n",
      "Normal life\n",
      "60\n",
      "(-41.27569244752311+0j)\n",
      "Normal life\n",
      "61\n",
      "(-41.275635156361844+0j)\n",
      "Normal life\n",
      "62\n",
      "(-41.2755256589346+0j)\n",
      "Normal life\n",
      "63\n",
      "(-41.27578508770117+0j)\n",
      "Normal life\n",
      "64\n",
      "(-41.27540637640983+0j)\n",
      "Normal life\n",
      "65\n",
      "(-41.27586236631414+0j)\n",
      "Normal life\n",
      "66\n",
      "(-41.27537782548128+0j)\n",
      "Normal life\n",
      "67\n",
      "(-41.27584140401564+0j)\n",
      "Normal life\n",
      "68\n",
      "(-41.27544549240022+0j)\n",
      "Normal life\n",
      "69\n",
      "(-41.27573576045154+0j)\n",
      "Normal life\n",
      "70\n",
      "(-41.275577435406554+0j)\n",
      "Normal life\n",
      "71\n",
      "(-41.275591238076714+0j)\n",
      "Normal life\n",
      "72\n",
      "(-41.27571900437333+0j)\n",
      "Normal life\n",
      "73\n",
      "(-41.275466180339286+0j)\n",
      "Normal life\n",
      "74\n",
      "(-41.275814867747826+0j)\n",
      "Normal life\n",
      "75\n",
      "(-41.27540825587724+0j)\n",
      "Normal life\n",
      "76\n",
      "(-41.27583025413649+0j)\n",
      "Normal life\n",
      "77\n",
      "(-41.275436388996134+0j)\n",
      "Normal life\n",
      "78\n",
      "(-41.27576313788665+0j)\n",
      "Normal life\n",
      "79\n",
      "(-41.27553505954168+0j)\n",
      "Normal life\n",
      "80\n",
      "(-41.27564369863285+0j)\n",
      "Normal life\n",
      "81\n",
      "(-41.27566234512672+0j)\n",
      "Normal life\n",
      "82\n",
      "(-41.27552112422678+0j)\n",
      "Normal life\n",
      "83\n",
      "(-41.27576738618552+0j)\n",
      "Normal life\n",
      "84\n",
      "(-41.27544349498643+0j)\n",
      "Normal life\n",
      "85\n",
      "(-41.27581035759538+0j)\n",
      "Normal life\n",
      "86\n",
      "(-41.27543897177634+0j)\n",
      "Normal life\n",
      "87\n",
      "(-41.275777288998924+0j)\n",
      "Normal life\n",
      "88\n",
      "(-41.27550585216461+0j)\n",
      "Normal life\n",
      "89\n",
      "(-41.275684368269125+0j)\n",
      "Normal life\n",
      "90\n",
      "(-41.275614746014604+0j)\n",
      "Normal life\n",
      "91\n",
      "(-41.27557059758279+0j)\n",
      "Normal life\n",
      "92\n",
      "(-41.275721338727756+0j)\n",
      "Normal life\n",
      "93\n",
      "(-41.27548146229152+0j)\n",
      "Normal life\n",
      "94\n",
      "(-41.27578413870023+0j)\n",
      "Normal life\n",
      "95\n",
      "(-41.275450858892725+0j)\n",
      "Normal life\n",
      "96\n",
      "(-41.27578040347757+0j)\n",
      "Normal life\n",
      "97\n",
      "(-41.275488218293155+0j)\n",
      "Normal life\n",
      "98\n",
      "(-41.27571420083978+0j)\n",
      "Normal life\n",
      "99\n",
      "(-41.27557608223438+0j)\n",
      "Normal life\n",
      "100\n",
      "(-41.27561393284603+0j)\n",
      "Normal life\n",
      "101\n",
      "(-41.275678034068505+0j)\n",
      "Normal life\n",
      "102\n",
      "(-41.27552032843941+0j)\n",
      "Normal life\n",
      "103\n",
      "(-41.27575366073312+0j)\n",
      "Normal life\n",
      "104\n",
      "(-41.27546989000287+0j)\n",
      "Normal life\n",
      "105\n",
      "(-41.275774349482354+0j)\n",
      "Normal life\n",
      "106\n",
      "(-41.2754807459532+0j)\n",
      "Normal life\n",
      "107\n",
      "(-41.27573395081506+0j)\n",
      "Normal life\n",
      "108\n",
      "(-41.2755462622313+0j)\n",
      "Normal life\n",
      "109\n",
      "(-41.275650506820156+0j)\n",
      "Normal life\n",
      "110\n",
      "(-41.27563868915082+0j)\n",
      "Normal life\n",
      "111\n",
      "(-41.27555839265901+0j)\n",
      "Normal life\n",
      "112\n",
      "(-41.27572085267907+0j)\n",
      "Normal life\n",
      "113\n",
      "(-41.27549416419882+0j)\n",
      "Normal life\n",
      "114\n",
      "(-41.275760875456676+0j)\n",
      "Normal life\n",
      "115\n",
      "(-41.27548209307806+0j)\n",
      "Normal life\n",
      "116\n",
      "(-41.27574445777617+0j)\n",
      "Normal life\n",
      "117\n",
      "(-41.27552507728751+0j)\n",
      "Normal life\n",
      "118\n",
      "(-41.275679907611504+0j)\n",
      "Normal life\n",
      "119\n",
      "(-41.27560428650032+0j)\n",
      "Normal life\n",
      "120\n",
      "(-41.27559420275947+0j)\n",
      "Normal life\n",
      "121\n",
      "(-41.275687423076704+0j)\n",
      "Normal life\n",
      "122\n",
      "(-41.27552182742632+0j)\n",
      "Normal life\n",
      "123\n",
      "(-41.27574169552898+0j)\n",
      "Normal life\n",
      "124\n",
      "(-41.27549087630048+0j)\n",
      "Normal life\n",
      "125\n",
      "(-41.275746675775046+0j)\n",
      "Normal life\n",
      "126\n",
      "(-41.275512179580915+0j)\n",
      "Normal life\n",
      "127\n",
      "(-41.27570189415962+0j)\n",
      "Normal life\n",
      "128\n",
      "(-41.27557563000365+0j)\n",
      "Normal life\n",
      "129\n",
      "(-41.27562650378578+0j)\n",
      "Normal life\n",
      "130\n",
      "(-41.27565494327854+0j)\n",
      "Normal life\n",
      "131\n",
      "(-41.27555118452442+0j)\n",
      "Normal life\n",
      "132\n",
      "(-41.27571846101837+0j)\n",
      "Normal life\n",
      "133\n",
      "(-41.27550566385603+0j)\n",
      "Normal life\n",
      "134\n",
      "(-41.275741637474276+0j)\n",
      "Normal life\n",
      "135\n",
      "(-41.27550698742001+0j)\n",
      "Normal life\n",
      "136\n",
      "(-41.27571649621212+0j)\n",
      "Normal life\n",
      "137\n",
      "(-41.27555320617308+0j)\n",
      "Normal life\n",
      "138\n",
      "(-41.27565429559172+0j)\n",
      "Normal life\n",
      "139\n",
      "(-41.27562477071019+0j)\n",
      "Normal life\n",
      "140\n",
      "(-41.27558064831598+0j)\n",
      "Normal life\n",
      "141\n",
      "(-41.27569277509179+0j)\n",
      "Normal life\n",
      "142\n",
      "(-41.27552497994268+0j)\n",
      "Normal life\n",
      "143\n",
      "(-41.27573053466356+0j)\n",
      "Normal life\n",
      "144\n",
      "(-41.275508774335016+0j)\n",
      "Normal life\n",
      "145\n",
      "(-41.2757239696917+0j)\n",
      "Normal life\n",
      "146\n",
      "(-41.27553729736014+0j)\n",
      "Normal life\n",
      "147\n",
      "(-41.275676828264984+0j)\n",
      "Normal life\n",
      "148\n",
      "(-41.27559803651197+0j)\n",
      "Normal life\n",
      "149\n",
      "(-41.2756088073393+0j)\n",
      "Normal life\n",
      "150\n",
      "(-41.275666168138265+0j)\n",
      "Normal life\n",
      "151\n",
      "(-41.2755473568052+0j)\n",
      "Normal life\n",
      "152\n",
      "(-41.27571464358026+0j)\n",
      "Normal life\n",
      "153\n",
      "(-41.27551660335849+0j)\n",
      "Normal life\n",
      "154\n",
      "(-41.27572482255295+0j)\n",
      "Normal life\n",
      "155\n",
      "(-41.27552788562058+0j)\n",
      "Normal life\n",
      "156\n",
      "(-41.275693640713854+0j)\n",
      "Normal life\n",
      "157\n",
      "(-41.27557562896909+0j)\n",
      "Normal life\n",
      "158\n",
      "(-41.27563444167761+0j)\n",
      "Normal life\n",
      "159\n",
      "(-41.27564003584382+0j)\n",
      "Normal life\n",
      "160\n",
      "(-41.27557133591545+0j)\n",
      "Normal life\n",
      "161\n",
      "(-41.275695276938954+0j)\n",
      "Normal life\n",
      "162\n",
      "(-41.275529402090044+0j)\n",
      "Normal life\n",
      "163\n",
      "(-41.27571976872274+0j)\n",
      "Normal life\n",
      "164\n",
      "(-41.27552471199018+0j)\n",
      "Normal life\n",
      "165\n",
      "(-41.275704549546056+0j)\n",
      "Normal life\n",
      "166\n",
      "(-41.275558171615195+0j)\n",
      "Normal life\n",
      "167\n",
      "(-41.27565655467601+0j)\n",
      "Normal life\n",
      "168\n",
      "(-41.275615617799716+0j)\n",
      "Normal life\n",
      "169\n",
      "(-41.27559554831933+0j)\n",
      "Normal life\n",
      "170\n",
      "(-41.27567379208396+0j)\n",
      "Normal life\n",
      "171\n",
      "(-41.2755459988774+0j)\n",
      "Normal life\n",
      "172\n",
      "(-41.27570969312376+0j)\n",
      "Normal life\n",
      "173\n",
      "(-41.275527263980536+0j)\n",
      "Normal life\n",
      "174\n",
      "(-41.27570962740956+0j)\n",
      "Normal life\n",
      "175\n",
      "(-41.27554602162621+0j)\n",
      "Normal life\n",
      "176\n",
      "(-41.27567440524511+0j)\n",
      "Normal life\n",
      "177\n",
      "(-41.2755939736227+0j)\n",
      "Normal life\n",
      "178\n",
      "(-41.2756187454524+0j)\n",
      "Normal life\n",
      "179\n",
      "(-41.27565148551581+0j)\n",
      "Normal life\n",
      "180\n",
      "(-41.27556515631239+0j)\n",
      "Normal life\n",
      "181\n",
      "(-41.27569562317239+0j)\n",
      "Normal life\n",
      "182\n",
      "(-41.27553483549903+0j)\n",
      "Normal life\n",
      "183\n",
      "(-41.27570920744601+0j)\n",
      "Normal life\n",
      "184\n",
      "(-41.27553927190363+0j)\n",
      "Normal life\n",
      "185\n",
      "(-41.27568749802049+0j)\n",
      "Normal life\n",
      "186\n",
      "(-41.275575927186054+0j)\n",
      "Normal life\n",
      "187\n",
      "(-41.27563983051765+0j)\n",
      "Normal life\n",
      "188\n",
      "(-41.27562958814826+0j)\n",
      "Normal life\n",
      "189\n",
      "(-41.27558563867373+0j)\n",
      "Normal life\n",
      "190\n",
      "(-41.275678668917024+0j)\n",
      "Normal life\n",
      "191\n",
      "(-41.27554655689597+0j)\n",
      "Normal life\n",
      "192\n",
      "(-41.27570384283008+0j)\n",
      "Normal life\n",
      "193\n",
      "(-41.275537757549515+0j)\n",
      "Normal life\n",
      "194\n",
      "(-41.2756956177082+0j)\n",
      "Normal life\n",
      "195\n",
      "(-41.2755620768346+0j)\n",
      "Normal life\n",
      "196\n",
      "(-41.275657912249436+0j)\n",
      "Normal life\n",
      "197\n",
      "(-41.27560919143616+0j)\n",
      "Normal life\n",
      "198\n",
      "(-41.27560625673563+0j)\n",
      "Normal life\n",
      "199\n",
      "(-41.27565997975794+0j)\n",
      "Normal life\n",
      "200\n",
      "(-41.275561430949196+0j)\n",
      "Normal life\n",
      "201\n",
      "(-41.27569426497549+0j)\n",
      "Normal life\n",
      "202\n",
      "(-41.275541081750205+0j)\n",
      "Normal life\n",
      "203\n",
      "(-41.27569878621982+0j)\n",
      "Normal life\n",
      "204\n",
      "(-41.27555277591356+0j)\n",
      "Normal life\n",
      "205\n",
      "(-41.27567230904337+0j)\n",
      "Normal life\n",
      "206\n",
      "(-41.27559123258117+0j)\n",
      "Normal life\n"
     ]
    },
    {
     "name": "stdout",
     "output_type": "stream",
     "text": [
      "207\n",
      "(-41.27562591642488+0j)\n",
      "Normal life\n",
      "208\n",
      "(-41.27564068894242+0j)\n",
      "Normal life\n",
      "209\n",
      "(-41.27557840088743+0j)\n",
      "Normal life\n",
      "210\n",
      "(-41.27568134999869+0j)\n",
      "Normal life\n",
      "211\n",
      "(-41.275548642322384+0j)\n",
      "Normal life\n",
      "212\n",
      "(-41.27569726605538+0j)\n",
      "Normal life\n",
      "213\n",
      "(-41.27554811400309+0j)\n",
      "Normal life\n",
      "214\n",
      "(-41.27568257585221+0j)\n",
      "Normal life\n",
      "215\n",
      "(-41.27557644980134+0j)\n",
      "Normal life\n",
      "216\n",
      "(-41.2756436509979+0j)\n",
      "Normal life\n",
      "217\n",
      "(-41.275621871637505+0j)\n",
      "Normal life\n",
      "218\n",
      "(-41.27559638294387+0j)\n",
      "Normal life\n",
      "219\n",
      "(-41.27566606300991+0j)\n",
      "Normal life\n",
      "220\n",
      "(-41.27555969679393+0j)\n",
      "Normal life\n",
      "221\n",
      "(-41.2756915296149+0j)\n",
      "Normal life\n",
      "222\n",
      "(-41.27554796241951+0j)\n",
      "Normal life\n",
      "223\n",
      "(-41.275688505525494+0j)\n",
      "Normal life\n",
      "224\n",
      "(-41.275565374473175+0j)\n",
      "Normal life\n",
      "225\n",
      "(-41.2756586721883+0j)\n",
      "Normal life\n",
      "226\n",
      "(-41.275604489794326+0j)\n",
      "Normal life\n",
      "227\n",
      "(-41.27561433612999+0j)\n",
      "Normal life\n",
      "228\n",
      "(-41.27564940872798+0j)\n",
      "Normal life\n",
      "229\n",
      "(-41.275573364618296+0j)\n",
      "Normal life\n",
      "230\n",
      "(-41.27568222404229+0j)\n",
      "Normal life\n",
      "231\n",
      "(-41.2755519740398+0j)\n",
      "Normal life\n",
      "232\n",
      "(-41.27569012553309+0j)\n",
      "Normal life\n",
      "233\n",
      "(-41.27555831082051+0j)\n",
      "Normal life\n",
      "234\n",
      "(-41.27567038494592+0j)\n",
      "Normal life\n",
      "235\n",
      "(-41.27558936631831+0j)\n",
      "Normal life\n",
      "236\n",
      "(-41.275631295563194+0j)\n",
      "Normal life\n",
      "237\n",
      "(-41.27563239277686+0j)\n",
      "Normal life\n",
      "238\n",
      "(-41.27558871131043+0j)\n",
      "Normal life\n",
      "239\n",
      "(-41.27567012237421+0j)\n",
      "Normal life\n",
      "240\n",
      "(-41.27555961390332+0j)\n",
      "Normal life\n",
      "241\n",
      "(-41.275687676002335+0j)\n",
      "Normal life\n",
      "242\n",
      "(-41.27555533591502+0j)\n",
      "Normal life\n",
      "243\n",
      "(-41.275678404497874+0j)\n",
      "Normal life\n",
      "244\n",
      "(-41.27557715104512+0j)\n",
      "Normal life\n",
      "245\n",
      "(-41.27564641344098+0j)\n",
      "Normal life\n",
      "246\n",
      "(-41.27561596206721+0j)\n",
      "Normal life\n",
      "247\n",
      "(-41.27560477587158+0j)\n",
      "Normal life\n",
      "248\n",
      "(-41.275656088954214+0j)\n",
      "Normal life\n",
      "249\n",
      "(-41.27557019955465+0j)\n",
      "Normal life\n",
      "250\n",
      "(-41.27568158889674+0j)\n",
      "Normal life\n",
      "251\n",
      "(-41.27555631513428+0j)\n",
      "Normal life\n",
      "252\n",
      "(-41.27568256464279+0j)\n",
      "Normal life\n",
      "253\n",
      "(-41.27556829781836+0j)\n",
      "Normal life\n",
      "254\n",
      "(-41.27565900040945+0j)\n",
      "Normal life\n",
      "255\n",
      "(-41.275600967890824+0j)\n",
      "Normal life\n",
      "256\n",
      "(-41.27562063244502+0j)\n",
      "Normal life\n",
      "257\n",
      "(-41.27564102362644+0j)\n",
      "Normal life\n",
      "258\n",
      "(-41.27558294704859+0j)\n",
      "Normal life\n",
      "259\n",
      "(-41.2756724544837+0j)\n",
      "Normal life\n",
      "260\n",
      "(-41.275560916560025+0j)\n",
      "Normal life\n",
      "261\n",
      "(-41.27568290941802+0j)\n",
      "Normal life\n",
      "262\n",
      "(-41.275563054939596+0j)\n",
      "Normal life\n",
      "263\n",
      "(-41.27566854318442+0j)\n",
      "Normal life\n",
      "264\n",
      "(-41.27558812806826+0j)\n",
      "Normal life\n",
      "265\n",
      "(-41.27563542666821+0j)\n",
      "Normal life\n",
      "266\n",
      "(-41.27562582367676+0j)\n",
      "Normal life\n",
      "267\n",
      "(-41.27559700615353+0j)\n",
      "Normal life\n",
      "268\n",
      "(-41.27566098191437+0j)\n",
      "Normal life\n",
      "269\n",
      "(-41.2755686439453+0j)\n",
      "Normal life\n",
      "270\n",
      "(-41.27567968034379+0j)\n",
      "Normal life\n",
      "271\n",
      "(-41.27556146848854+0j)\n",
      "Normal life\n",
      "272\n",
      "(-41.27567472533286+0j)\n",
      "Normal life\n",
      "273\n",
      "(-41.27557800684041+0j)\n",
      "Normal life\n",
      "274\n",
      "(-41.275648413962884+0j)\n",
      "Normal life\n",
      "275\n",
      "(-41.27561133122152+0j)\n",
      "Normal life\n",
      "276\n",
      "(-41.275611518037195+0j)\n",
      "Normal life\n",
      "277\n",
      "(-41.27564795574008+0j)\n",
      "Normal life\n",
      "278\n",
      "(-41.27557886471167+0j)\n",
      "Normal life\n",
      "279\n",
      "(-41.275673289138304+0j)\n",
      "Normal life\n",
      "280\n",
      "(-41.275563387271376+0j)\n",
      "Normal life\n",
      "281\n",
      "(-41.2756774210597+0j)\n",
      "Normal life\n",
      "282\n",
      "(-41.275570984576134+0j)\n",
      "Normal life\n",
      "283\n",
      "(-41.2756589970861+0j)\n",
      "Normal life\n",
      "284\n",
      "(-41.27559830136424+0j)\n",
      "Normal life\n",
      "285\n",
      "(-41.275625650592815+0j)\n",
      "Normal life\n",
      "286\n",
      "(-41.27563419586804+0j)\n",
      "Normal life\n",
      "287\n",
      "(-41.275590857888695+0j)\n",
      "Normal life\n",
      "288\n",
      "(-41.275664290647434+0j)\n",
      "Normal life\n",
      "289\n",
      "(-41.275568485239546+0j)\n",
      "Normal life\n",
      "290\n",
      "(-41.275676704599356+0j)\n",
      "Normal life\n",
      "291\n",
      "(-41.275567257891815+0j)\n",
      "Normal life\n",
      "292\n",
      "(-41.27566673604382+0j)\n",
      "Normal life\n",
      "293\n",
      "(-41.27558736297103+0j)\n",
      "Normal life\n",
      "294\n",
      "(-41.27563864214819+0j)\n",
      "Normal life\n",
      "295\n",
      "(-41.27562050818718+0j)\n",
      "Normal life\n",
      "296\n",
      "(-41.27560384495713+0j)\n",
      "Normal life\n",
      "297\n",
      "(-41.27565334495535+0j)\n",
      "Normal life\n",
      "298\n",
      "(-41.27557628458096+0j)\n",
      "Normal life\n",
      "299\n",
      "(-41.275672824524214+0j)\n",
      "Normal life\n",
      "300\n",
      "(-41.27556683188296+0j)\n",
      "Normal life\n",
      "301\n",
      "(-41.27567137681421+0j)\n",
      "Normal life\n",
      "302\n",
      "(-41.27557899829464+0j)\n",
      "Normal life\n",
      "303\n",
      "(-41.275649842481165+0j)\n",
      "Normal life\n",
      "304\n",
      "(-41.27560764765663+0j)\n",
      "Normal life\n",
      "305\n",
      "(-41.27561704569436+0j)\n",
      "Normal life\n",
      "306\n",
      "(-41.275641173775554+0j)\n",
      "Normal life\n",
      "307\n",
      "(-41.27558619110377+0j)\n",
      "Normal life\n",
      "308\n",
      "(-41.27566618447292+0j)\n",
      "Normal life\n",
      "309\n",
      "(-41.27556953711621+0j)\n",
      "Normal life\n",
      "310\n",
      "(-41.27567284370652+0j)\n",
      "Normal life\n",
      "311\n",
      "(-41.27557352313986+0j)\n",
      "Normal life\n",
      "312\n",
      "(-41.27565872655688+0j)\n",
      "Normal life\n",
      "313\n",
      "(-41.27559628552084+0j)\n",
      "Normal life\n",
      "314\n",
      "(-41.275629708861324+0j)\n",
      "Normal life\n",
      "315\n",
      "(-41.27562852978343+0j)\n",
      "Normal life\n",
      "316\n",
      "(-41.27559753026568+0j)\n",
      "Normal life\n",
      "317\n",
      "(-41.27565731420677+0j)\n",
      "Normal life\n",
      "318\n",
      "(-41.275575043517314+0j)\n",
      "Normal life\n",
      "319\n",
      "(-41.275671234277276+0j)\n",
      "Normal life\n",
      "320\n",
      "(-41.2755710777003+0j)\n",
      "Normal life\n",
      "321\n",
      "(-41.27566493431631+0j)\n",
      "Normal life\n",
      "322\n",
      "(-41.275586970104904+0j)\n",
      "Normal life\n",
      "323\n",
      "(-41.27564115742035+0j)\n",
      "Normal life\n",
      "324\n",
      "(-41.2756161456556+0j)\n",
      "Normal life\n",
      "325\n",
      "(-41.27560958563779+0j)\n",
      "Normal life\n",
      "326\n",
      "(-41.275646833693834+0j)\n",
      "Normal life\n",
      "327\n",
      "(-41.27558288688067+0j)\n",
      "Normal life\n",
      "328\n",
      "(-41.2756668135046+0j)\n",
      "Normal life\n",
      "329\n",
      "(-41.275571632593504+0j)\n",
      "Normal life\n",
      "330\n",
      "(-41.27566826046946+0j)\n",
      "Normal life\n",
      "331\n",
      "(-41.27558011100826+0j)\n",
      "Normal life\n",
      "332\n",
      "(-41.275650815113764+0j)\n",
      "Normal life\n",
      "333\n",
      "(-41.27560469940515+0j)\n",
      "Normal life\n",
      "334\n",
      "(-41.27562164171688+0j)\n",
      "Normal life\n",
      "335\n",
      "(-41.275635420203024+0j)\n",
      "Normal life\n",
      "336\n",
      "(-41.275592499192335+0j)\n",
      "Normal life\n",
      "337\n",
      "(-41.275659980729124+0j)\n",
      "Normal life\n",
      "338\n",
      "(-41.27557499578172+0j)\n",
      "Normal life\n",
      "339\n",
      "(-41.27566867959926+0j)\n",
      "Normal life\n",
      "340\n",
      "(-41.27557596145136+0j)\n",
      "Normal life\n",
      "341\n",
      "(-41.27565823483019+0j)\n",
      "Normal life\n",
      "342\n",
      "(-41.275594785682365+0j)\n",
      "Normal life\n",
      "343\n",
      "(-41.27563301989287+0j)\n",
      "Normal life\n",
      "344\n",
      "(-41.27562376363981+0j)\n",
      "Normal life\n",
      "345\n",
      "(-41.27560324771029+0j)\n",
      "Normal life\n",
      "346\n",
      "(-41.27565124685596+0j)\n",
      "Normal life\n",
      "347\n",
      "(-41.27558083187641+0j)\n",
      "Normal life\n",
      "348\n",
      "(-41.27566631799599+0j)\n",
      "Normal life\n",
      "349\n",
      "(-41.27557461550883+0j)\n",
      "Normal life\n",
      "350\n",
      "(-41.27566311566715+0j)\n",
      "Normal life\n",
      "351\n",
      "(-41.27558688206551+0j)\n",
      "Normal life\n",
      "352\n",
      "(-41.27564311429331+0j)\n",
      "Normal life\n",
      "353\n",
      "(-41.27561253162528+0j)\n",
      "Normal life\n",
      "354\n",
      "(-41.275614465395094+0j)\n",
      "Normal life\n",
      "355\n",
      "(-41.27564120206877+0j)\n",
      "Normal life\n",
      "356\n",
      "(-41.275588682896235+0j)\n",
      "Normal life\n",
      "357\n",
      "(-41.27566145184602+0j)\n",
      "Normal life\n",
      "358\n",
      "(-41.27557600669704+0j)\n",
      "Normal life\n",
      "359\n",
      "(-41.27566531143509+0j)\n",
      "Normal life\n",
      "360\n",
      "(-41.275581333770454+0j)\n",
      "Normal life\n",
      "361\n",
      "(-41.27565141965141+0j)\n",
      "Normal life\n",
      "362\n",
      "(-41.27560233723217+0j)\n",
      "Normal life\n",
      "363\n",
      "(-41.27562549777812+0j)\n",
      "Normal life\n",
      "364\n",
      "(-41.27563047838539+0j)\n",
      "Normal life\n",
      "365\n",
      "(-41.27559800736023+0j)\n",
      "Normal life\n",
      "366\n",
      "(-41.27565447989659+0j)\n",
      "Normal life\n",
      "367\n",
      "(-41.275579919853534+0j)\n",
      "Normal life\n",
      "368\n",
      "(-41.27566483134493+0j)\n",
      "Normal life\n",
      "369\n",
      "(-41.2755783377214+0j)\n",
      "Normal life\n",
      "370\n",
      "(-41.27565755410152+0j)\n",
      "Normal life\n",
      "371\n",
      "(-41.275593705872254+0j)\n",
      "Normal life\n",
      "372\n",
      "(-41.27563572890511+0j)\n",
      "Normal life\n",
      "373\n",
      "(-41.27561971527318+0j)\n",
      "Normal life\n",
      "374\n",
      "(-41.27560820449451+0j)\n",
      "Normal life\n",
      "375\n",
      "(-41.27564590083926+0j)\n",
      "Normal life\n",
      "376\n",
      "(-41.27558601375566+0j)\n",
      "Normal life\n",
      "377\n",
      "(-41.27566183320325+0j)\n",
      "Normal life\n",
      "378\n",
      "(-41.275577941979456+0j)\n",
      "Normal life\n",
      "379\n",
      "(-41.275661275024156+0j)\n",
      "Normal life\n",
      "380\n",
      "(-41.27558705052156+0j)\n",
      "Normal life\n",
      "381\n",
      "(-41.27564461442947+0j)\n",
      "Normal life\n",
      "382\n",
      "(-41.27560952499303+0j)\n",
      "Normal life\n",
      "383\n",
      "(-41.2756186548514+0j)\n",
      "Normal life\n",
      "384\n",
      "(-41.27563627392489+0j)\n",
      "Normal life\n",
      "385\n",
      "(-41.27559383808054+0j)\n",
      "Normal life\n",
      "386\n",
      "(-41.27565660370731+0j)\n",
      "Normal life\n",
      "387\n",
      "(-41.2755800462236+0j)\n",
      "Normal life\n",
      "388\n",
      "(-41.275662484880854+0j)\n",
      "Normal life\n",
      "389\n",
      "(-41.275582657624796+0j)\n",
      "Normal life\n",
      "390\n",
      "(-41.27565171617843+0j)\n",
      "Normal life\n",
      "391\n",
      "(-41.27560045772081+0j)\n",
      "Normal life\n",
      "392\n",
      "(-41.2756287518682+0j)\n",
      "Normal life\n",
      "393\n",
      "(-41.275626196618866+0j)\n",
      "Normal life\n",
      "394\n",
      "(-41.2756028690687+0j)\n",
      "Normal life\n",
      "395\n",
      "(-41.2756495455272+0j)\n",
      "Normal life\n",
      "396\n",
      "(-41.27558441698889+0j)\n",
      "Normal life\n",
      "397\n",
      "(-41.275661230983204+0j)\n",
      "Normal life\n",
      "398\n",
      "(-41.275580673108024+0j)\n",
      "Normal life\n",
      "399\n",
      "(-41.27565670921963+0j)\n",
      "Normal life\n",
      "400\n",
      "(-41.2755929761283+0j)\n",
      "Normal life\n",
      "401\n",
      "(-41.27563793844991+0j)\n",
      "Normal life\n",
      "402\n",
      "(-41.27561625996797+0j)\n",
      "Normal life\n",
      "403\n",
      "(-41.275612539865016+0j)\n",
      "Normal life\n",
      "404\n",
      "(-41.275641140560374+0j)\n",
      "Normal life\n",
      "405\n",
      "(-41.27559070407252+0j)\n",
      "Normal life\n",
      "406\n",
      "(-41.27565769381454+0j)\n",
      "Normal life\n",
      "407\n",
      "(-41.27558110288062+0j)\n",
      "Normal life\n",
      "408\n",
      "(-41.27565940550056+0j)\n",
      "Normal life\n",
      "409\n",
      "(-41.2755874379553+0j)\n",
      "Normal life\n",
      "410\n",
      "(-41.27564573265576+0j)\n",
      "Normal life\n"
     ]
    },
    {
     "name": "stdout",
     "output_type": "stream",
     "text": [
      "411\n",
      "(-41.27560702328686+0j)\n",
      "Normal life\n",
      "412\n",
      "(-41.275622268934676+0j)\n",
      "Normal life\n",
      "413\n",
      "(-41.27563192674679+0j)\n",
      "Normal life\n",
      "414\n",
      "(-41.27559846510956+0j)\n",
      "Normal life\n",
      "415\n",
      "(-41.27565217694311+0j)\n",
      "Normal life\n",
      "416\n",
      "(-41.27558381675586+0j)\n",
      "Normal life\n",
      "417\n",
      "(-41.275659751418225+0j)\n",
      "Normal life\n",
      "418\n",
      "(-41.2755840728045+0j)\n",
      "Normal life\n",
      "419\n",
      "(-41.27565174822189+0j)\n",
      "Normal life\n",
      "420\n",
      "(-41.27559898255857+0j)\n",
      "Normal life\n",
      "421\n",
      "(-41.275631500424566+0j)\n",
      "Normal life\n",
      "422\n",
      "(-41.27562246341412+0j)\n",
      "Normal life\n",
      "423\n",
      "(-41.27560719471643+0j)\n",
      "Normal life\n",
      "424\n",
      "(-41.27564507877731+0j)\n",
      "Normal life\n",
      "425\n",
      "(-41.275588563287776+0j)\n",
      "Normal life\n",
      "426\n",
      "(-41.27565782835368+0j)\n",
      "Normal life\n",
      "427\n",
      "(-41.27558298067232+0j)\n",
      "Normal life\n",
      "428\n",
      "(-41.27565572047121+0j)\n",
      "Normal life\n",
      "429\n",
      "(-41.2755925465741+0j)\n",
      "Normal life\n",
      "430\n",
      "(-41.27563972810873+0j)\n",
      "Normal life\n",
      "431\n",
      "(-41.27561330144022+0j)\n",
      "Normal life\n",
      "432\n",
      "(-41.275616352916174+0j)\n",
      "Normal life\n",
      "433\n",
      "(-41.27563687187091+0j)\n",
      "Normal life\n",
      "434\n",
      "(-41.27559498588034+0j)\n",
      "Normal life\n",
      "435\n",
      "(-41.275653840804665+0j)\n",
      "Normal life\n",
      "436\n",
      "(-41.27558413047966+0j)\n",
      "Normal life\n",
      "437\n",
      "(-41.275657505669166+0j)\n",
      "Normal life\n",
      "438\n",
      "(-41.27558801472463+0j)\n",
      "Normal life\n",
      "439\n",
      "(-41.27564652274465+0j)\n",
      "Normal life\n",
      "440\n",
      "(-41.27560495124559+0j)\n",
      "Normal life\n",
      "441\n",
      "(-41.27562539855688+0j)\n",
      "Normal life\n",
      "442\n",
      "(-41.27562806889136+0j)\n",
      "Normal life\n",
      "443\n",
      "(-41.27560264969819+0j)\n",
      "Normal life\n",
      "444\n",
      "(-41.27564810103787+0j)\n",
      "Normal life\n",
      "445\n",
      "(-41.27558736423976+0j)\n",
      "Normal life\n",
      "446\n",
      "(-41.275657093219515+0j)\n",
      "Normal life\n",
      "447\n",
      "(-41.27558557028161+0j)\n",
      "Normal life\n",
      "448\n",
      "(-41.275651554337585+0j)\n",
      "Normal life\n",
      "449\n",
      "(-41.27559785702899+0j)\n",
      "Normal life\n",
      "450\n",
      "(-41.27563381865681+0j)\n",
      "Normal life\n",
      "451\n",
      "(-41.27561919849952+0j)\n",
      "Normal life\n",
      "452\n",
      "(-41.27561106476461+0j)\n",
      "Normal life\n",
      "453\n",
      "(-41.275641009064564+0j)\n",
      "Normal life\n",
      "454\n",
      "(-41.27559241405656+0j)\n",
      "Normal life\n",
      "455\n",
      "(-41.27565459244458+0j)\n",
      "Normal life\n",
      "456\n",
      "(-41.27558526928443+0j)\n",
      "Normal life\n",
      "457\n",
      "(-41.27565460508036+0j)\n",
      "Normal life\n",
      "458\n",
      "(-41.27559237559624+0j)\n",
      "Normal life\n",
      "459\n",
      "(-41.275641154716304+0j)\n",
      "Normal life\n",
      "460\n",
      "(-41.27561076961115+0j)\n",
      "Normal life\n",
      "461\n",
      "(-41.27561971971297+0j)\n",
      "Normal life\n",
      "462\n",
      "(-41.27563302244254+0j)\n",
      "Normal life\n",
      "463\n",
      "(-41.27559891955549+0j)\n",
      "Normal life\n",
      "464\n",
      "(-41.275650230163784+0j)\n",
      "Normal life\n",
      "465\n",
      "(-41.275587046954854+0j)\n",
      "Normal life\n",
      "466\n",
      "(-41.27565557761862+0j)\n",
      "Normal life\n",
      "467\n",
      "(-41.27558875847035+0j)\n",
      "Normal life\n",
      "468\n",
      "(-41.2756470293401+0j)\n",
      "Normal life\n",
      "469\n",
      "(-41.27560324990527+0j)\n",
      "Normal life\n",
      "470\n",
      "(-41.27562810927656+0j)\n",
      "Normal life\n",
      "471\n",
      "(-41.275624633793505+0j)\n",
      "Normal life\n",
      "472\n",
      "(-41.27560645146281+0j)\n",
      "Normal life\n",
      "473\n",
      "(-41.27564432730422+0j)\n",
      "Normal life\n",
      "474\n",
      "(-41.27559072066128+0j)\n",
      "Normal life\n",
      "475\n",
      "(-41.275654495581406+0j)\n",
      "Normal life\n",
      "476\n",
      "(-41.275587141420964+0j)\n",
      "Normal life\n",
      "477\n",
      "(-41.2756511606531+0j)\n",
      "Normal life\n",
      "478\n",
      "(-41.2755970346602+0j)\n",
      "Normal life\n",
      "479\n",
      "(-41.2756357614449+0j)\n",
      "Normal life\n",
      "480\n",
      "(-41.27561633967164+0j)\n",
      "Normal life\n",
      "481\n",
      "(-41.27561453914781+0j)\n",
      "Normal life\n",
      "482\n",
      "(-41.27563728152913+0j)\n",
      "Normal life\n",
      "483\n",
      "(-41.275596009512014+0j)\n",
      "Normal life\n",
      "484\n",
      "(-41.27565149901633+0j)\n",
      "Normal life\n",
      "485\n",
      "(-41.27558754317701+0j)\n",
      "Normal life\n",
      "486\n",
      "(-41.275653376821026+0j)\n",
      "Normal life\n",
      "487\n",
      "(-41.275592431748+0j)\n",
      "Normal life\n",
      "488\n",
      "(-41.27564226469558+0j)\n",
      "Normal life\n",
      "489\n",
      "(-41.27560861245607+0j)\n",
      "Normal life\n",
      "490\n",
      "(-41.27562269663985+0j)\n",
      "Normal life\n",
      "491\n",
      "(-41.275629538544024+0j)\n",
      "Normal life\n",
      "492\n",
      "(-41.275602549113884+0j)\n",
      "Normal life\n",
      "493\n",
      "(-41.275646830795125+0j)\n",
      "Normal life\n",
      "494\n",
      "(-41.27558986730672+0j)\n",
      "Normal life\n",
      "495\n",
      "(-41.275653621908006+0j)\n",
      "Normal life\n",
      "496\n",
      "(-41.27558964798906+0j)\n",
      "Normal life\n",
      "497\n",
      "(-41.27564728659035+0j)\n",
      "Normal life\n",
      "498\n",
      "(-41.275601874714624+0j)\n",
      "Normal life\n",
      "499\n",
      "(-41.275630451902614+0j)\n",
      "Normal life\n",
      "500\n",
      "(-41.275621568807715+0j)\n",
      "Tejas is unlucky\n",
      "Attempted iterations  501\n"
     ]
    }
   ],
   "source": [
    "xi_opt = terminator(1000)"
   ]
  },
  {
   "cell_type": "code",
   "execution_count": 65,
   "metadata": {
    "ExecuteTime": {
     "end_time": "2019-02-18T06:56:18.389140Z",
     "start_time": "2019-02-18T06:56:18.386565Z"
    }
   },
   "outputs": [],
   "source": [
    "time_steps=len(times)\n",
    "total_time= total_time_evo\n",
    "epsilon= 2*pi*1"
   ]
  },
  {
   "cell_type": "code",
   "execution_count": 66,
   "metadata": {
    "ExecuteTime": {
     "end_time": "2019-02-18T06:56:19.223558Z",
     "start_time": "2019-02-18T06:56:18.390665Z"
    }
   },
   "outputs": [
    {
     "data": {
      "text/plain": [
       "-4.21943902626813"
      ]
     },
     "execution_count": 66,
     "metadata": {},
     "output_type": "execute_result"
    }
   ],
   "source": [
    "dt = (2*pi)/500\n",
    "F(xi_opt, dt)"
   ]
  },
  {
   "cell_type": "code",
   "execution_count": 67,
   "metadata": {
    "ExecuteTime": {
     "end_time": "2019-02-18T06:56:19.853616Z",
     "start_time": "2019-02-18T06:56:19.226129Z"
    }
   },
   "outputs": [
    {
     "data": {
      "text/latex": [
       "Quantum object: dims = [[2, 2], [2, 2]], shape = (4, 4), type = oper, isherm = False\\begin{equation*}\\left(\\begin{array}{*{11}c}0.249 & (-0.090+9.503\\times10^{-06}j) & (-0.090-9.503\\times10^{-06}j) & 0.751\\\\(0.090-9.503\\times10^{-06}j) & (-0.109-4.348\\times10^{-06}j) & (-0.393-5.619\\times10^{-11}j) & (-0.090+9.503\\times10^{-06}j)\\\\(0.090+9.503\\times10^{-06}j) & (-0.393+5.619\\times10^{-11}j) & (-0.109+4.348\\times10^{-06}j) & (-0.090-9.503\\times10^{-06}j)\\\\0.751 & (0.090-9.503\\times10^{-06}j) & (0.090+9.503\\times10^{-06}j) & 0.249\\\\\\end{array}\\right)\\end{equation*}"
      ],
      "text/plain": [
       "Quantum object: dims = [[2, 2], [2, 2]], shape = (4, 4), type = oper, isherm = False\n",
       "Qobj data =\n",
       "[[ 0.24890125+0.00000000e+00j -0.09001064+9.50254864e-06j\n",
       "  -0.09001064-9.50254864e-06j  0.75109875+0.00000000e+00j]\n",
       " [ 0.09001064-9.50262311e-06j -0.10879354-4.34847455e-06j\n",
       "  -0.39340308-5.61921552e-11j -0.09001064+9.50262311e-06j]\n",
       " [ 0.09001064+9.50262311e-06j -0.39340308+5.61921522e-11j\n",
       "  -0.10879354+4.34847455e-06j -0.09001064-9.50262311e-06j]\n",
       " [ 0.75109875+0.00000000e+00j  0.09001064-9.50254864e-06j\n",
       "   0.09001064+9.50254864e-06j  0.24890125+0.00000000e+00j]]"
      ]
     },
     "execution_count": 67,
     "metadata": {},
     "output_type": "execute_result"
    }
   ],
   "source": [
    "L_full_maker(xi_opt, dt)"
   ]
  },
  {
   "cell_type": "code",
   "execution_count": 68,
   "metadata": {
    "ExecuteTime": {
     "end_time": "2019-02-18T06:56:19.970346Z",
     "start_time": "2019-02-18T06:56:19.855337Z"
    }
   },
   "outputs": [
    {
     "name": "stderr",
     "output_type": "stream",
     "text": [
      "/home/tejas/anaconda3/envs/qutip-env/lib/python3.6/site-packages/numpy/core/numeric.py:501: ComplexWarning: Casting complex values to real discards the imaginary part\n",
      "  return array(a, dtype, copy=False, order=order)\n",
      "/home/tejas/anaconda3/envs/qutip-env/lib/python3.6/site-packages/matplotlib/transforms.py:968: ComplexWarning: Casting complex values to real discards the imaginary part\n",
      "  self._points[:, 1] = interval\n"
     ]
    },
    {
     "data": {
      "image/png": "[encoded data removed]",
      "text/plain": [
       "<Figure size 432x288 with 1 Axes>"
      ]
     },
     "metadata": {
      "needs_background": "light"
     },
     "output_type": "display_data"
    }
   ],
   "source": [
    "ax = axes()\n",
    "ax.plot(times, xi_opt)\n",
    "xi_max = amax(xi_opt) + 0.1\n",
    "xi_min = amin(xi_opt) - 0.1\n",
    "\n",
    "ax.set(xlim=(0, total_time_evo), ylim=(xi_min, xi_max),\n",
    "       xlabel='time', ylabel= r'$g_{with diss}$',\n",
    "       title='Control field in the presence of dissipation');"
   ]
  },
  {
   "cell_type": "markdown",
   "metadata": {},
   "source": [
    "### try"
   ]
  },
  {
   "cell_type": "code",
   "execution_count": 69,
   "metadata": {
    "ExecuteTime": {
     "end_time": "2019-02-20T01:06:25.585760Z",
     "start_time": "2019-02-18T06:56:19.972549Z"
    }
   },
   "outputs": [
    {
     "name": "stdout",
     "output_type": "stream",
     "text": [
      "Hi\n",
      "Normal life\n",
      "0\n",
      "(-0.4581806837479956+0j)\n",
      "Normal life\n",
      "1\n",
      "(-0.7236555953980017+0j)\n",
      "Normal life\n",
      "2\n",
      "(-0.6640014349807881+0j)\n",
      "Normal life\n",
      "3\n",
      "(-0.6657495433965129+0j)\n",
      "Normal life\n",
      "4\n",
      "(-0.6571476059463074+0j)\n",
      "Normal life\n",
      "5\n",
      "(-0.656645340796151+0j)\n",
      "Normal life\n",
      "6\n",
      "(-0.6604604427853853+0j)\n",
      "Normal life\n",
      "7\n",
      "(-0.6576503070157944+0j)\n",
      "Normal life\n",
      "8\n",
      "(-0.6557216598195768+0j)\n",
      "Normal life\n",
      "9\n",
      "(-0.6586695631106028+0j)\n",
      "Normal life\n",
      "10\n",
      "(-0.6579272063120425+0j)\n",
      "Normal life\n",
      "11\n",
      "(-0.6557183354661711+0j)\n",
      "Normal life\n",
      "12\n",
      "(-0.6576540642580562+0j)\n",
      "Normal life\n",
      "13\n",
      "(-0.658067596951215+0j)\n",
      "Normal life\n",
      "14\n",
      "(-0.6560989113326152+0j)\n",
      "Normal life\n",
      "15\n",
      "(-0.6570510832239522+0j)\n",
      "Normal life\n",
      "16\n",
      "(-0.658024509977726+0j)\n",
      "Normal life\n",
      "17\n",
      "(-0.6564212375832974+0j)\n",
      "Normal life\n",
      "18\n",
      "(-0.6566782278668466+0j)\n",
      "Normal life\n",
      "19\n",
      "(-0.6578767654100363+0j)\n",
      "Normal life\n",
      "20\n",
      "(-0.6567339140224422+0j)\n",
      "Normal life\n",
      "21\n",
      "(-0.656457961072727+0j)\n",
      "Normal life\n",
      "22\n",
      "(-0.6576688885684757+0j)\n",
      "Normal life\n",
      "23\n",
      "(-0.6570008103507482+0j)\n",
      "Normal life\n",
      "24\n",
      "(-0.6563633562107043+0j)\n",
      "Normal life\n",
      "25\n",
      "(-0.6574312190648546+0j)\n",
      "Normal life\n",
      "26\n",
      "(-0.6572137498023265+0j)\n",
      "Normal life\n",
      "27\n",
      "(-0.656389710965247+0j)\n",
      "Normal life\n",
      "28\n",
      "(-0.6572063607003957+0j)\n",
      "Normal life\n",
      "29\n",
      "(-0.6573564432215604+0j)\n",
      "Normal life\n",
      "30\n",
      "(-0.6564576583473144+0j)\n",
      "Normal life\n",
      "31\n",
      "(-0.6569759046436134+0j)\n",
      "Normal life\n",
      "32\n",
      "(-0.6574190099868185+0j)\n",
      "Normal life\n",
      "33\n",
      "(-0.656597326381189+0j)\n",
      "Normal life\n",
      "34\n",
      "(-0.656801937580275+0j)\n",
      "Normal life\n",
      "35\n",
      "(-0.6574140921696332+0j)\n",
      "Normal life\n",
      "36\n",
      "(-0.6567520433904392+0j)\n",
      "Normal life\n",
      "37\n",
      "(-0.656669180417861+0j)\n",
      "Normal life\n",
      "38\n",
      "(-0.6573544518754155+0j)\n",
      "Normal life\n",
      "39\n",
      "(-0.6569093722254903+0j)\n",
      "Normal life\n",
      "40\n",
      "(-0.6565910191640919+0j)\n",
      "Normal life\n",
      "41\n",
      "(-0.6572521384423887+0j)\n",
      "Normal life\n",
      "42\n",
      "(-0.6570490120048533+0j)\n",
      "Normal life\n",
      "43\n",
      "(-0.6565712256111039+0j)\n",
      "Normal life\n",
      "44\n",
      "(-0.6571236091211495+0j)\n",
      "Normal life\n",
      "45\n",
      "(-0.6571621288631373+0j)\n",
      "Normal life\n",
      "46\n",
      "(-0.6565999431747035+0j)\n",
      "Normal life\n",
      "47\n",
      "(-0.6569910227276207+0j)\n",
      "Normal life\n",
      "48\n",
      "(-0.6572242910446459+0j)\n",
      "Normal life\n",
      "49\n",
      "(-0.6566690558081206+0j)\n",
      "Normal life\n",
      "50\n",
      "(-0.6568671431094073+0j)\n",
      "Normal life\n",
      "51\n",
      "(-0.6572508897486125+0j)\n",
      "Normal life\n",
      "52\n",
      "(-0.6567661643218916+0j)\n",
      "Normal life\n",
      "53\n",
      "(-0.6567663593867631+0j)\n",
      "Normal life\n",
      "54\n",
      "(-0.657230338243057+0j)\n",
      "Normal life\n",
      "55\n",
      "(-0.6568735188249453+0j)\n",
      "Normal life\n",
      "56\n",
      "(-0.6566992670357613+0j)\n",
      "Normal life\n",
      "57\n",
      "(-0.6571748927734284+0j)\n",
      "Normal life\n",
      "58\n",
      "(-0.6569773328827161+0j)\n",
      "Normal life\n",
      "59\n",
      "(-0.6566674253806776+0j)\n",
      "Normal life\n",
      "60\n",
      "(-0.6570953668589232+0j)\n",
      "Normal life\n",
      "61\n",
      "(-0.6570660473519303+0j)\n",
      "Normal life\n",
      "62\n",
      "(-0.6566732014772924+0j)\n",
      "Normal life\n",
      "63\n",
      "(-0.6570006098121836+0j)\n",
      "Normal life\n",
      "64\n",
      "(-0.6571300223696106+0j)\n",
      "Normal life\n",
      "65\n",
      "(-0.6567128621902183+0j)\n",
      "Normal life\n",
      "66\n",
      "(-0.6569077941914294+0j)\n",
      "Normal life\n",
      "67\n",
      "(-0.6571611456937272+0j)\n",
      "Normal life\n",
      "68\n",
      "(-0.6567763965235756+0j)\n",
      "Normal life\n",
      "69\n",
      "(-0.6568263067076253+0j)\n",
      "Normal life\n",
      "70\n",
      "(-0.6571613689747361+0j)\n",
      "Normal life\n",
      "71\n",
      "(-0.6568537547313568+0j)\n",
      "Normal life\n",
      "72\n",
      "(-0.6567647574377076+0j)\n",
      "Normal life\n",
      "73\n",
      "(-0.6571313115413674+0j)\n",
      "Normal life\n",
      "74\n",
      "(-0.6569350877809533+0j)\n",
      "Normal life\n",
      "75\n",
      "(-0.656728103872855+0j)\n",
      "Normal life\n",
      "76\n",
      "(-0.6570779134291882+0j)\n",
      "Normal life\n",
      "77\n",
      "(-0.6570098622056005+0j)\n",
      "Normal life\n",
      "78\n",
      "(-0.6567209060072006+0j)\n",
      "Normal life\n",
      "79\n",
      "(-0.6570096979085616+0j)\n",
      "Normal life\n",
      "80\n",
      "(-0.6570689680970356+0j)\n",
      "Normal life\n",
      "81\n",
      "(-0.6567410139108457+0j)\n",
      "Normal life\n",
      "82\n",
      "(-0.6569361648019212+0j)\n",
      "Normal life\n",
      "83\n",
      "(-0.6571055370108144+0j)\n",
      "Normal life\n",
      "84\n",
      "(-0.6567840850464338+0j)\n",
      "Normal life\n",
      "85\n",
      "(-0.6568658953575053+0j)\n",
      "Normal life\n",
      "86\n",
      "(-0.6571155178626644+0j)\n",
      "Normal life\n",
      "87\n",
      "(-0.6568432380852488+0j)\n",
      "Normal life\n",
      "88\n",
      "(-0.6568090802820246+0j)\n",
      "Normal life\n",
      "89\n",
      "(-0.6571006301579477+0j)\n",
      "Normal life\n",
      "90\n",
      "(-0.656908140467996+0j)\n",
      "Normal life\n",
      "91\n",
      "(-0.6567716844615943+0j)\n",
      "Normal life\n",
      "92\n",
      "(-0.657064966238293+0j)\n",
      "Normal life\n",
      "93\n",
      "(-0.656972148775685+0j)\n",
      "Normal life\n",
      "94\n",
      "(-0.6567557242148938+0j)\n",
      "Normal life\n",
      "95\n",
      "(-0.65701356936161+0j)\n",
      "Normal life\n",
      "96\n",
      "(-0.6570262552323177+0j)\n",
      "Normal life\n",
      "97\n",
      "(-0.6567637227888533+0j)\n",
      "Normal life\n",
      "98\n",
      "(-0.656953779989339+0j)\n",
      "Normal life\n",
      "99\n",
      "(-0.6570634801175375+0j)\n",
      "Normal life\n",
      "100\n",
      "(-0.6567923392267998+0j)\n",
      "Normal life\n",
      "101\n",
      "(-0.656893725085255+0j)\n",
      "Normal life\n",
      "102\n",
      "(-0.6570813794100485+0j)\n",
      "Normal life\n",
      "103\n",
      "(-0.6568361000521246+0j)\n",
      "Normal life\n",
      "104\n",
      "(-0.6568415018053065+0j)\n",
      "Normal life\n",
      "105\n",
      "(-0.6570776055819624+0j)\n",
      "Normal life\n",
      "106\n",
      "(-0.6568899344032509+0j)\n",
      "Normal life\n",
      "107\n",
      "(-0.6568034402272684+0j)\n",
      "Normal life\n",
      "108\n",
      "(-0.6570547125612368+0j)\n",
      "Normal life\n",
      "109\n",
      "(-0.6569448284224655+0j)\n",
      "Normal life\n",
      "110\n",
      "(-0.6567828418073551+0j)\n",
      "Normal life\n",
      "111\n",
      "(-0.6570155142481983+0j)\n",
      "Normal life\n",
      "112\n",
      "(-0.6569947400460695+0j)\n",
      "Normal life\n",
      "113\n",
      "(-0.6567824101740309+0j)\n",
      "Normal life\n",
      "114\n",
      "(-0.6569672310177657+0j)\n",
      "Normal life\n",
      "115\n",
      "(-0.6570327383219601+0j)\n",
      "Normal life\n",
      "116\n",
      "(-0.6568001423257575+0j)\n",
      "Normal life\n",
      "117\n",
      "(-0.6569155445439112+0j)\n",
      "Normal life\n",
      "118\n",
      "(-0.6570548336899341+0j)\n",
      "Normal life\n",
      "119\n",
      "(-0.6568331447787227+0j)\n",
      "Normal life\n",
      "120\n",
      "(-0.6568676878303843+0j)\n",
      "Normal life\n",
      "121\n",
      "(-0.6570585115360915+0j)\n",
      "Normal life\n",
      "122\n",
      "(-0.6568765390503084+0j)\n",
      "Normal life\n",
      "123\n",
      "(-0.6568301786250924+0j)\n",
      "Normal life\n",
      "124\n",
      "(-0.6570451872123584+0j)\n",
      "Normal life\n",
      "125\n",
      "(-0.6569240379493282+0j)\n",
      "Normal life\n",
      "126\n",
      "(-0.6568061932677594+0j)\n",
      "Normal life\n",
      "127\n",
      "(-0.6570161594023586+0j)\n",
      "Normal life\n",
      "128\n",
      "(-0.6569696541927771+0j)\n",
      "Normal life\n",
      "129\n",
      "(-0.6567987497330458+0j)\n",
      "Normal life\n",
      "130\n",
      "(-0.6569769899492901+0j)\n",
      "Normal life\n",
      "131\n",
      "(-0.6570073574905593+0j)\n",
      "Normal life\n",
      "132\n",
      "(-0.656808201904821+0j)\n",
      "Normal life\n",
      "133\n",
      "(-0.6569323527477644+0j)\n",
      "Normal life\n",
      "134\n",
      "(-0.6570321945571973+0j)\n",
      "Normal life\n",
      "135\n",
      "(-0.6568323830480504+0j)\n",
      "Normal life\n",
      "136\n",
      "(-0.6568888142512812+0j)\n",
      "Normal life\n",
      "137\n",
      "(-0.6570421441037192+0j)\n",
      "Normal life\n",
      "138\n",
      "(-0.6568676399499062+0j)\n",
      "Normal life\n",
      "139\n",
      "(-0.6568519944546791+0j)\n",
      "Normal life\n",
      "140\n",
      "(-0.6570357052153237+0j)\n",
      "Normal life\n",
      "141\n",
      "(-0.6569087005412817+0j)\n",
      "Normal life\n",
      "142\n",
      "(-0.6568258270128168+0j)\n",
      "Normal life\n",
      "143\n",
      "(-0.6570153531791086+0j)\n",
      "Normal life\n",
      "144\n",
      "(-0.6569501366517888+0j)\n",
      "Normal life\n",
      "145\n",
      "(-0.6568134583869356+0j)\n",
      "Normal life\n",
      "146\n",
      "(-0.6569836450199292+0j)\n",
      "Normal life\n",
      "147\n",
      "(-0.6569862597711436+0j)\n",
      "Normal life\n",
      "148\n",
      "(-0.656816506612195+0j)\n",
      "Normal life\n",
      "149\n",
      "(-0.6569454006796456+0j)\n",
      "Normal life\n",
      "150\n",
      "(-0.6570129838558983+0j)\n",
      "Normal life\n",
      "151\n",
      "(-0.6568331182510392+0j)\n",
      "Normal life\n",
      "152\n",
      "(-0.6569059166145736+0j)\n",
      "Normal life\n",
      "153\n",
      "(-0.6570267994467991+0j)\n",
      "Normal life\n",
      "154\n",
      "(-0.6568611685638657+0j)\n",
      "Normal life\n",
      "155\n",
      "(-0.6568702484845909+0j)\n",
      "Normal life\n",
      "156\n",
      "(-0.6570265677163722+0j)\n",
      "Normal life\n",
      "157\n",
      "(-0.6568960964852416+0j)\n",
      "Normal life\n",
      "158\n",
      "(-0.6568431787511656+0j)\n",
      "Normal life\n",
      "159\n",
      "(-0.6570131215389943+0j)\n",
      "Normal life\n",
      "160\n",
      "(-0.6569336345483827+0j)\n",
      "Normal life\n",
      "161\n",
      "(-0.656827318372824+0j)\n",
      "Normal life\n",
      "162\n",
      "(-0.6569880330688821+0j)\n",
      "Normal life\n",
      "163\n",
      "(-0.65696835934306+0j)\n",
      "Normal life\n",
      "164\n",
      "(-0.656824803247006+0j)\n",
      "Normal life\n",
      "165\n",
      "(-0.6569558139228772+0j)\n",
      "Normal life\n",
      "166\n",
      "(-0.6569959460505055+0j)\n",
      "Normal life\n",
      "167\n",
      "(-0.6568351728210047+0j)\n",
      "Normal life\n",
      "168\n",
      "(-0.6569201995454972+0j)\n",
      "Normal life\n",
      "169\n",
      "(-0.6570129176916907+0j)\n",
      "Normal life\n",
      "170\n",
      "(-0.656856914400534+0j)\n",
      "Normal life\n",
      "171\n",
      "(-0.6568863539075749+0j)\n",
      "Normal life\n",
      "172\n",
      "(-0.6570175929287911+0j)\n",
      "Normal life\n",
      "173\n",
      "(-0.6568865705103972+0j)\n",
      "Normal life\n",
      "174\n",
      "(-0.6568585639651046+0j)\n",
      "Normal life\n",
      "175\n",
      "(-0.6570098829944087+0j)\n",
      "Normal life\n",
      "176\n",
      "(-0.6569200418811081+0j)\n",
      "Normal life\n",
      "177\n",
      "(-0.6568400539912921+0j)\n",
      "Normal life\n",
      "178\n",
      "(-0.6569908041822861+0j)\n",
      "Normal life\n",
      "179\n",
      "(-0.6569530131474042+0j)\n",
      "Normal life\n",
      "180\n",
      "(-0.6568332728850715+0j)\n",
      "Normal life\n",
      "181\n",
      "(-0.6569635760029087+0j)\n",
      "Normal life\n",
      "182\n",
      "(-0.6569808261302023+0j)\n",
      "Normal life\n",
      "183\n",
      "(-0.6568382831150062+0j)\n",
      "Normal life\n",
      "184\n",
      "(-0.6569319668339169+0j)\n",
      "Normal life\n",
      "185\n",
      "(-0.6569999913428327+0j)\n",
      "Normal life\n",
      "186\n",
      "(-0.6568545440947271+0j)\n",
      "Normal life\n",
      "187\n",
      "(-0.656900267838548+0j)\n",
      "Normal life\n",
      "188\n",
      "(-0.6570086276232971+0j)\n",
      "Normal life\n",
      "189\n",
      "(-0.6568791852709142+0j)\n",
      "Normal life\n",
      "190\n",
      "(-0.6568725022067339+0j)\n",
      "Normal life\n",
      "191\n",
      "(-0.6570058548518252+0j)\n",
      "Normal life\n",
      "192\n",
      "(-0.6569087711182324+0j)\n",
      "Normal life\n",
      "193\n",
      "(-0.6568521965503176+0j)\n",
      "Normal life\n",
      "194\n",
      "(-0.6569919966462714+0j)\n",
      "Normal life\n",
      "195\n",
      "(-0.6569395359122115+0j)\n",
      "Normal life\n",
      "196\n",
      "(-0.6568417834719701+0j)\n",
      "Normal life\n",
      "197\n",
      "(-0.6569696545345249+0j)\n",
      "Normal life\n",
      "198\n",
      "(-0.6569670525297595+0j)\n",
      "Normal life\n",
      "199\n",
      "(-0.6568425770736281+0j)\n",
      "Normal life\n",
      "200\n",
      "(-0.6569417678786931+0j)\n",
      "Normal life\n",
      "201\n",
      "(-0.6569878501431123+0j)\n",
      "Normal life\n",
      "202\n",
      "(-0.6568538719109027+0j)\n",
      "Normal life\n"
     ]
    },
    {
     "name": "stdout",
     "output_type": "stream",
     "text": [
      "203\n",
      "(-0.6569122923696286+0j)\n",
      "Normal life\n",
      "204\n",
      "(-0.6569996987590768+0j)\n",
      "Normal life\n",
      "205\n",
      "(-0.6568737208710465+0j)\n",
      "Normal life\n",
      "206\n",
      "(-0.6568850651634852+0j)\n",
      "Normal life\n",
      "207\n",
      "(-0.657000871327438+0j)\n",
      "Normal life\n",
      "208\n",
      "(-0.6568996269907335+0j)\n",
      "Normal life\n",
      "209\n",
      "(-0.6568636518041412+0j)\n",
      "Normal life\n",
      "210\n",
      "(-0.6569918421933973+0j)\n",
      "Normal life\n",
      "211\n",
      "(-0.6569278023551304+0j)\n",
      "Normal life\n",
      "212\n",
      "(-0.6568505671337171+0j)\n",
      "Normal life\n",
      "213\n",
      "(-0.6569740096023526+0j)\n",
      "Normal life\n",
      "214\n",
      "(-0.6569545781824919+0j)\n",
      "Normal life\n",
      "215\n",
      "(-0.6568473476953596+0j)\n",
      "Normal life\n",
      "216\n",
      "(-0.6569498795513994+0j)\n",
      "Normal life\n",
      "217\n",
      "(-0.6569763944545577+0j)\n",
      "Normal life\n",
      "218\n",
      "(-0.6568541486569927+0j)\n",
      "Normal life\n",
      "219\n",
      "(-0.6569229896098197+0j)\n",
      "Normal life\n",
      "220\n",
      "(-0.656990568918446+0j)\n",
      "Normal life\n",
      "221\n",
      "(-0.6568698670206383+0j)\n",
      "Normal life\n",
      "222\n",
      "(-0.6568965734288128+0j)\n",
      "Normal life\n",
      "223\n",
      "(-0.6569954142063829+0j)\n",
      "Normal life\n",
      "224\n",
      "(-0.6568921221970702+0j)\n",
      "Normal life\n",
      "225\n",
      "(-0.6568744929018188+0j)\n",
      "Normal life\n",
      "226\n",
      "(-0.6569905827808258+0j)\n",
      "Normal life\n",
      "227\n",
      "(-0.656917720666278+0j)\n",
      "Normal life\n",
      "228\n",
      "(-0.656859277385148+0j)\n",
      "Normal life\n",
      "229\n",
      "(-0.6569769101996525+0j)\n",
      "Normal life\n",
      "230\n",
      "(-0.656943384712291+0j)\n",
      "Normal life\n",
      "231\n",
      "(-0.6568527361704697+0j)\n",
      "Normal life\n",
      "232\n",
      "(-0.6569563994118733+0j)\n",
      "Normal life\n",
      "233\n",
      "(-0.656965628434126+0j)\n",
      "Normal life\n",
      "234\n",
      "(-0.6568556797180315+0j)\n",
      "Normal life\n",
      "235\n",
      "(-0.656932151537499+0j)\n",
      "Normal life\n",
      "236\n",
      "(-0.656981689428907+0j)\n",
      "Normal life\n",
      "237\n",
      "(-0.656867288204285+0j)\n",
      "Normal life\n",
      "238\n",
      "(-0.6569070130017519+0j)\n",
      "Normal life\n",
      "239\n",
      "(-0.6569896406928984+0j)\n",
      "Normal life\n",
      "240\n",
      "(-0.6568859967480165+0j)\n",
      "Normal life\n",
      "241\n",
      "(-0.6568846371583877+0j)\n",
      "Normal life\n",
      "242\n",
      "(-0.6569882725352043+0j)\n",
      "Normal life\n",
      "243\n",
      "(-0.6569090088297077+0j)\n",
      "Normal life\n",
      "244\n",
      "(-0.6568678530282767+0j)\n",
      "Normal life\n",
      "245\n",
      "(-0.6569785582582749+0j)\n",
      "Normal life\n",
      "246\n",
      "(-0.6569333241276829+0j)\n",
      "Normal life\n",
      "247\n",
      "(-0.656858732946489+0j)\n",
      "Normal life\n",
      "248\n",
      "(-0.6569615742528178+0j)\n",
      "Normal life\n",
      "249\n",
      "(-0.6569555816412173+0j)\n",
      "Normal life\n",
      "250\n",
      "(-0.6568581771499031+0j)\n",
      "Normal life\n",
      "251\n",
      "(-0.6569398286993956+0j)\n",
      "Normal life\n",
      "252\n",
      "(-0.6569729591823255+0j)\n",
      "Normal life\n",
      "253\n",
      "(-0.6568661542643728+0j)\n",
      "Normal life\n",
      "254\n",
      "(-0.6569164447403968+0j)\n",
      "Normal life\n",
      "255\n",
      "(-0.6569832593010154+0j)\n",
      "Normal life\n",
      "256\n",
      "(-0.6568813294037823+0j)\n",
      "Normal life\n",
      "257\n",
      "(-0.6568942464950058+0j)\n",
      "Normal life\n",
      "258\n",
      "(-0.6569854114402759+0j)\n",
      "Normal life\n",
      "259\n",
      "(-0.656901689150021+0j)\n",
      "Normal life\n",
      "260\n",
      "(-0.6568764713454815+0j)\n",
      "Normal life\n",
      "261\n",
      "(-0.656979077306934+0j)\n",
      "Normal life\n",
      "262\n",
      "(-0.6569242809721509+0j)\n",
      "Normal life\n",
      "263\n",
      "(-0.6568650073242374+0j)\n",
      "Normal life\n",
      "264\n",
      "(-0.6569654534234944+0j)\n",
      "Normal life\n",
      "265\n",
      "(-0.6569461275442885+0j)\n",
      "Normal life\n",
      "266\n",
      "(-0.6568614767656185+0j)\n",
      "Normal life\n",
      "267\n",
      "(-0.6569464807171088+0j)\n",
      "Normal life\n",
      "268\n",
      "(-0.6569643693770237+0j)\n",
      "Normal life\n",
      "269\n",
      "(-0.6568661028509631+0j)\n",
      "Normal life\n",
      "270\n",
      "(-0.6569248532612412+0j)\n",
      "Normal life\n",
      "271\n",
      "(-0.6569766582135821+0j)\n",
      "Normal life\n",
      "272\n",
      "(-0.6568780282370963+0j)\n",
      "Normal life\n",
      "273\n",
      "(-0.656903265309635+0j)\n",
      "Normal life\n",
      "274\n",
      "(-0.6569815862885274+0j)\n",
      "Normal life\n",
      "275\n",
      "(-0.6568955869564143+0j)\n",
      "Normal life\n",
      "276\n",
      "(-0.656884709427048+0j)\n",
      "Normal life\n",
      "277\n",
      "(-0.6569785578787194+0j)\n",
      "Normal life\n",
      "278\n",
      "(-0.6569162840146818+0j)\n",
      "Normal life\n",
      "279\n",
      "(-0.6568715851831639+0j)\n",
      "Normal life\n",
      "280\n",
      "(-0.6569681370094462+0j)\n",
      "Normal life\n",
      "281\n",
      "(-0.6569373762203763+0j)\n",
      "Normal life\n",
      "282\n",
      "(-0.6568654338737883+0j)\n",
      "Normal life\n",
      "283\n",
      "(-0.6569519163245753+0j)\n",
      "Normal life\n",
      "284\n",
      "(-0.6569560433979491+0j)\n",
      "Normal life\n",
      "285\n",
      "(-0.6568669512079125+0j)\n",
      "Normal life\n",
      "286\n",
      "(-0.656932183203376+0j)\n",
      "Normal life\n",
      "287\n",
      "(-0.6569699130840796+0j)\n",
      "Normal life\n",
      "288\n",
      "(-0.656875717484248+0j)\n",
      "Normal life\n",
      "289\n",
      "(-0.6569115337940108+0j)\n",
      "Normal life\n",
      "290\n",
      "(-0.6569771843160976+0j)\n",
      "Normal life\n",
      "291\n",
      "(-0.656890528161408+0j)\n",
      "Normal life\n",
      "292\n",
      "(-0.6568928514324288+0j)\n",
      "Normal life\n",
      "293\n",
      "(-0.6569770525911421+0j)\n",
      "Normal life\n",
      "294\n",
      "(-0.6569091613446308+0j)\n",
      "Normal life\n",
      "295\n",
      "(-0.6568783641257929+0j)\n",
      "Normal life\n",
      "296\n",
      "(-0.6569697113849184+0j)\n",
      "Normal life\n",
      "297\n",
      "(-0.6569292273237757+0j)\n",
      "Normal life\n",
      "298\n",
      "(-0.6568699323905397+0j)\n",
      "Normal life\n",
      "299\n",
      "(-0.6569563178463064+0j)\n",
      "Normal life\n",
      "300\n",
      "(-0.6569480124016799+0j)\n",
      "Normal life\n",
      "301\n",
      "(-0.6568686532324826+0j)\n",
      "Normal life\n",
      "302\n",
      "(-0.6569386493496916+0j)\n",
      "Normal life\n",
      "303\n",
      "(-0.6569630262470807+0j)\n",
      "Normal life\n",
      "304\n",
      "(-0.6568745190156154+0j)\n",
      "Normal life\n",
      "305\n",
      "(-0.6569191761444967+0j)\n",
      "Normal life\n",
      "306\n",
      "(-0.6569723304822377+0j)\n",
      "Normal life\n",
      "307\n",
      "(-0.6568865813973185+0j)\n",
      "Normal life\n",
      "308\n",
      "(-0.6569005153909543+0j)\n",
      "Normal life\n",
      "309\n",
      "(-0.6569748047968925+0j)\n",
      "Normal life\n",
      "310\n",
      "(-0.6569031227786267+0j)\n",
      "Normal life\n",
      "311\n",
      "(-0.6568851695042407+0j)\n",
      "Normal life\n",
      "312\n",
      "(-0.6569703121984972+0j)\n",
      "Normal life\n",
      "313\n",
      "(-0.65692184863251+0j)\n",
      "Normal life\n",
      "314\n",
      "(-0.6568749293108895+0j)\n",
      "Normal life\n",
      "315\n",
      "(-0.656959600756192+0j)\n",
      "Normal life\n",
      "316\n",
      "(-0.6569404003832885+0j)\n",
      "Normal life\n",
      "317\n",
      "(-0.6568711782038984+0j)\n",
      "Normal life\n",
      "318\n",
      "(-0.6569441835896367+0j)\n",
      "Normal life\n",
      "319\n",
      "(-0.656956096101358+0j)\n",
      "Normal life\n",
      "320\n",
      "(-0.6568742315628425+0j)\n",
      "Normal life\n",
      "321\n",
      "(-0.6569260919245489+0j)\n",
      "Normal life\n",
      "322\n",
      "(-0.656967112063721+0j)\n",
      "Normal life\n",
      "323\n",
      "(-0.6568836367184263+0j)\n",
      "Normal life\n",
      "324\n",
      "(-0.6569078846131313+0j)\n",
      "Normal life\n",
      "325\n",
      "(-0.6569719428161422+0j)\n",
      "Normal life\n",
      "326\n",
      "(-0.6568979427003856+0j)\n",
      "Normal life\n",
      "327\n",
      "(-0.6568918844997191+0j)\n",
      "Normal life\n",
      "328\n",
      "(-0.6569701343838134+0j)\n",
      "Normal life\n",
      "329\n",
      "(-0.6569152471509473+0j)\n",
      "Normal life\n",
      "330\n",
      "(-0.6568801686272919+0j)\n",
      "Normal life\n",
      "331\n",
      "(-0.6569620431802727+0j)\n",
      "Normal life\n",
      "332\n",
      "(-0.6569332069206361+0j)\n",
      "Normal life\n",
      "333\n",
      "(-0.6568743480550294+0j)\n",
      "Normal life\n",
      "334\n",
      "(-0.6569488363363816+0j)\n",
      "Normal life\n",
      "335\n",
      "(-0.6569493114090068+0j)\n",
      "Normal life\n",
      "336\n",
      "(-0.656874858407683+0j)\n",
      "Normal life\n",
      "337\n",
      "(-0.6569323525025377+0j)\n",
      "Normal life\n",
      "338\n",
      "(-0.65696157975824+0j)\n",
      "Normal life\n",
      "339\n",
      "(-0.6568816530705575+0j)\n",
      "Normal life\n",
      "340\n",
      "(-0.6569147870647458+0j)\n",
      "Normal life\n",
      "341\n",
      "(-0.6569684542141961+0j)\n",
      "Normal life\n",
      "342\n",
      "(-0.6568937194654119+0j)\n",
      "Normal life\n",
      "343\n",
      "(-0.6568985523296421+0j)\n",
      "Normal life\n",
      "344\n",
      "(-0.6569690775752299+0j)\n",
      "Normal life\n",
      "345\n",
      "(-0.6569093410551392+0j)\n",
      "Normal life\n",
      "346\n",
      "(-0.6568857663546118+0j)\n",
      "Normal life\n",
      "347\n",
      "(-0.6569634838703601+0j)\n",
      "Normal life\n",
      "348\n",
      "(-0.6569264333782017+0j)\n",
      "Normal life\n",
      "349\n",
      "(-0.6568779765799531+0j)\n",
      "Normal life\n",
      "350\n",
      "(-0.6569525827288464+0j)\n",
      "Normal life\n",
      "351\n",
      "(-0.6569427172308111+0j)\n",
      "Normal life\n",
      "352\n",
      "(-0.6568761521760377+0j)\n",
      "Normal life\n",
      "353\n",
      "(-0.6569377653130065+0j)\n",
      "Normal life\n",
      "354\n",
      "(-0.6569558856040221+0j)\n",
      "Normal life\n",
      "355\n",
      "(-0.656880587895956+0j)\n",
      "Normal life\n",
      "356\n",
      "(-0.6569212480232884+0j)\n",
      "Normal life\n",
      "357\n",
      "(-0.6569644935184057+0j)\n",
      "Normal life\n",
      "358\n",
      "(-0.6568903555739561+0j)\n",
      "Normal life\n",
      "359\n",
      "(-0.6569050646945653+0j)\n",
      "Normal life\n",
      "360\n",
      "(-0.6569673133228235+0j)\n",
      "Normal life\n",
      "361\n",
      "(-0.6569041803079443+0j)\n",
      "Normal life\n",
      "362\n",
      "(-0.6568914265898722+0j)\n",
      "Normal life\n",
      "363\n",
      "(-0.65696412665517+0j)\n",
      "Normal life\n",
      "364\n",
      "(-0.6569201913583708+0j)\n",
      "Normal life\n",
      "365\n",
      "(-0.6568821145791066+0j)\n",
      "Normal life\n",
      "366\n",
      "(-0.6569554348340065+0j)\n",
      "Normal life\n",
      "367\n",
      "(-0.6569362061594857+0j)\n",
      "Normal life\n",
      "368\n",
      "(-0.6568782571613184+0j)\n",
      "Normal life\n",
      "369\n",
      "(-0.6569425441964258+0j)\n",
      "Normal life\n",
      "370\n",
      "(-0.6569501767187382+0j)\n",
      "Normal life\n",
      "371\n",
      "(-0.6568802202558813+0j)\n",
      "Normal life\n",
      "372\n",
      "(-0.656927150840625+0j)\n",
      "Normal life\n",
      "373\n",
      "(-0.6569601082764496+0j)\n",
      "Normal life\n",
      "374\n",
      "(-0.656887796171743+0j)\n",
      "Normal life\n",
      "375\n",
      "(-0.6569112908987168+0j)\n",
      "Normal life\n",
      "376\n",
      "(-0.656964914908978+0j)\n",
      "Normal life\n",
      "377\n",
      "(-0.6568997942043349+0j)\n",
      "Normal life\n",
      "378\n",
      "(-0.6568971686358156+0j)\n",
      "Normal life\n",
      "379\n",
      "(-0.6569640390891456+0j)\n",
      "Normal life\n",
      "380\n",
      "(-0.6569145655835781+0j)\n",
      "Normal life\n",
      "381\n",
      "(-0.6568865959917781+0j)\n",
      "Normal life\n",
      "382\n",
      "(-0.6569575199694229+0j)\n",
      "Normal life\n",
      "383\n",
      "(-0.6569300886745488+0j)\n",
      "Normal life\n",
      "384\n",
      "(-0.6568808739300014+0j)\n",
      "Normal life\n",
      "385\n",
      "(-0.6569465032304962+0j)\n",
      "Normal life\n",
      "386\n",
      "(-0.6569443178472117+0j)\n",
      "Normal life\n",
      "387\n",
      "(-0.6568807386358237+0j)\n",
      "Normal life\n",
      "388\n",
      "(-0.6569324278917833+0j)\n",
      "Normal life\n",
      "389\n",
      "(-0.656955455516529+0j)\n",
      "Normal life\n",
      "390\n",
      "(-0.6568860684324805+0j)\n",
      "Normal life\n",
      "391\n",
      "(-0.6569172028220241+0j)\n",
      "Normal life\n",
      "392\n",
      "(-0.6569619971397485+0j)\n",
      "Normal life\n",
      "393\n",
      "(-0.6568961166842918+0j)\n",
      "Normal life\n",
      "394\n",
      "(-0.6569028859500543+0j)\n",
      "Normal life\n",
      "395\n",
      "(-0.6569631257809698+0j)\n",
      "Normal life\n",
      "396\n",
      "(-0.656909480446604+0j)\n",
      "Normal life\n",
      "397\n",
      "(-0.6568913255278136+0j)\n",
      "Normal life\n",
      "398\n",
      "(-0.6569588232919854+0j)\n",
      "Normal life\n",
      "399\n",
      "(-0.6569243053756528+0j)\n",
      "Normal life\n",
      "400\n",
      "(-0.6568840264806006+0j)\n",
      "Normal life\n",
      "401\n",
      "(-0.6569497379554186+0j)\n",
      "Normal life\n",
      "402\n",
      "(-0.6569386354024833+0j)\n",
      "Normal life\n",
      "403\n",
      "(-0.6568819049801482+0j)\n",
      "Normal life\n"
     ]
    },
    {
     "name": "stdout",
     "output_type": "stream",
     "text": [
      "404\n",
      "(-0.6569371422124637+0j)\n",
      "Normal life\n",
      "405\n",
      "(-0.656950563751737+0j)\n",
      "Normal life\n",
      "406\n",
      "(-0.6568851229210255+0j)\n",
      "Normal life\n",
      "407\n",
      "(-0.6569227196335475+0j)\n",
      "Normal life\n",
      "408\n",
      "(-0.6569585359835233+0j)\n",
      "Normal life\n",
      "409\n",
      "(-0.6568932048063587+0j)\n",
      "Normal life\n",
      "410\n",
      "(-0.656908475643696+0j)\n",
      "Normal life\n",
      "411\n",
      "(-0.6569616589696083+0j)\n",
      "Normal life\n",
      "412\n",
      "(-0.6569050324525018+0j)\n",
      "Normal life\n",
      "413\n",
      "(-0.6568962251423491+0j)\n",
      "Normal life\n",
      "414\n",
      "(-0.6569593683287323+0j)\n",
      "Normal life\n",
      "415\n",
      "(-0.6569189195405688+0j)\n",
      "Normal life\n",
      "416\n",
      "(-0.6568876079184215+0j)\n",
      "Normal life\n",
      "417\n",
      "(-0.6569522567867351+0j)\n",
      "Normal life\n",
      "418\n",
      "(-0.6569330606300452+0j)\n",
      "Normal life\n",
      "419\n",
      "(-0.6568836640548591+0j)\n",
      "Normal life\n",
      "420\n",
      "(-0.6569412485964808+0j)\n",
      "Normal life\n",
      "421\n",
      "(-0.6569455392624575+0j)\n",
      "Normal life\n",
      "422\n",
      "(-0.656884896931851+0j)\n",
      "Normal life\n",
      "423\n",
      "(-0.6569278472354585+0j)\n",
      "Normal life\n",
      "424\n",
      "(-0.6569547536228004+0j)\n",
      "Normal life\n",
      "425\n",
      "(-0.6568910132677274+0j)\n",
      "Normal life\n",
      "426\n",
      "(-0.6569139069477627+0j)\n",
      "Normal life\n",
      "427\n",
      "(-0.6569594859906314+0j)\n",
      "Normal life\n",
      "428\n",
      "(-0.6569011828877175+0j)\n",
      "Normal life\n",
      "429\n",
      "(-0.6569012570948441+0j)\n",
      "Normal life\n",
      "430\n",
      "(-0.6569592664251549+0j)\n",
      "Normal life\n",
      "431\n",
      "(-0.6569139908755519+0j)\n",
      "Normal life\n",
      "432\n",
      "(-0.6568914853203083+0j)\n",
      "Normal life\n",
      "433\n",
      "(-0.6569540838610394+0j)\n",
      "Normal life\n",
      "434\n",
      "(-0.6569277272850599+0j)\n",
      "Normal life\n",
      "435\n",
      "(-0.6568859843354015+0j)\n",
      "Normal life\n",
      "436\n",
      "(-0.6569447036862637+0j)\n",
      "Normal life\n",
      "437\n",
      "(-0.6569405094729233+0j)\n",
      "Normal life\n",
      "438\n",
      "(-0.6568853089991172+0j)\n",
      "Normal life\n",
      "439\n",
      "(-0.6569325055327364+0j)\n",
      "Normal life\n",
      "440\n",
      "(-0.656950683339569+0j)\n",
      "Normal life\n",
      "441\n",
      "(-0.656889544709625+0j)\n",
      "Normal life\n",
      "442\n",
      "(-0.656919094208221+0j)\n",
      "Normal life\n",
      "443\n",
      "(-0.656956925353154+0j)\n",
      "Normal life\n",
      "444\n",
      "(-0.656898010631223+0j)\n",
      "Normal life\n",
      "445\n",
      "(-0.6569062360542386+0j)\n",
      "Normal life\n",
      "446\n",
      "(-0.6569584506211745+0j)\n",
      "Normal life\n",
      "447\n",
      "(-0.656909569023862+0j)\n",
      "Normal life\n",
      "448\n",
      "(-0.6568957252650774+0j)\n",
      "Normal life\n",
      "449\n",
      "(-0.6569551662378214+0j)\n",
      "Normal life\n",
      "450\n",
      "(-0.6569226584101681+0j)\n",
      "Normal life\n",
      "451\n",
      "(-0.6568887914012638+0j)\n",
      "Normal life\n",
      "452\n",
      "(-0.6569475421167841+0j)\n",
      "Normal life\n",
      "453\n",
      "(-0.6569354746959006+0j)\n",
      "Normal life\n",
      "454\n",
      "(-0.6568863652034196+0j)\n",
      "Normal life\n",
      "455\n",
      "(-0.6569366448535714+0j)\n",
      "Normal life\n",
      "456\n",
      "(-0.6569463739504238+0j)\n",
      "Normal life\n",
      "457\n",
      "(-0.6568887201121028+0j)\n",
      "Normal life\n",
      "458\n",
      "(-0.6569239534697012+0j)\n",
      "Normal life\n",
      "459\n",
      "(-0.6569539096827249+0j)\n",
      "Normal life\n",
      "460\n",
      "(-0.6568954923800678+0j)\n",
      "Normal life\n",
      "461\n",
      "(-0.6569111762973292+0j)\n",
      "Normal life\n",
      "462\n",
      "(-0.656957107284701+0j)\n",
      "Normal life\n",
      "463\n",
      "(-0.6569056714777185+0j)\n",
      "Normal life\n",
      "464\n",
      "(-0.6569000547423323+0j)\n",
      "Normal life\n",
      "465\n",
      "(-0.6569556603380686+0j)\n",
      "Normal life\n",
      "466\n",
      "(-0.6569179327477389+0j)\n",
      "Normal life\n",
      "467\n",
      "(-0.6568919454276242+0j)\n",
      "Normal life\n",
      "468\n",
      "(-0.6569497030151359+0j)\n",
      "Normal life\n",
      "469\n",
      "(-0.656930559825708+0j)\n",
      "Normal life\n",
      "470\n",
      "(-0.6568879524117388+0j)\n",
      "Normal life\n",
      "471\n",
      "(-0.6569402193605631+0j)\n",
      "Normal life\n",
      "472\n",
      "(-0.6569419502934727+0j)\n",
      "Normal life\n",
      "473\n",
      "(-0.6568885520701865+0j)\n",
      "Normal life\n",
      "474\n",
      "(-0.656928466343912+0j)\n",
      "Normal life\n",
      "475\n",
      "(-0.6569505261265808+0j)\n",
      "Normal life\n",
      "476\n",
      "(-0.6568935801693324+0j)\n",
      "Normal life\n",
      "477\n",
      "(-0.6569159920053086+0j)\n",
      "Normal life\n",
      "478\n",
      "(-0.6569552175315345+0j)\n",
      "Normal life\n",
      "479\n",
      "(-0.6569023339066317+0j)\n",
      "Normal life\n",
      "480\n",
      "(-0.6569044853076854+0j)\n",
      "Normal life\n",
      "481\n",
      "(-0.6569555038534056+0j)\n",
      "Normal life\n",
      "482\n",
      "(-0.6569136075398632+0j)\n",
      "Normal life\n",
      "483\n",
      "(-0.6568954559793942+0j)\n",
      "Normal life\n",
      "484\n",
      "(-0.656951312292442+0j)\n",
      "Normal life\n",
      "485\n",
      "(-0.6569258698219543+0j)\n",
      "Normal life\n",
      "486\n",
      "(-0.6568900283380732+0j)\n",
      "Normal life\n",
      "487\n",
      "(-0.6569432847355469+0j)\n",
      "Normal life\n",
      "488\n",
      "(-0.6569374503368621+0j)\n",
      "Normal life\n",
      "489\n",
      "(-0.6568890107673577+0j)\n",
      "Normal life\n",
      "490\n",
      "(-0.6569325734825012+0j)\n",
      "Normal life\n",
      "491\n",
      "(-0.6569468673032512+0j)\n",
      "Normal life\n",
      "492\n",
      "(-0.6568923063796442+0j)\n",
      "Normal life\n",
      "493\n",
      "(-0.6569205827282496+0j)\n",
      "Normal life\n",
      "494\n",
      "(-0.6569528844317043+0j)\n",
      "Normal life\n",
      "495\n",
      "(-0.6568995455260588+0j)\n",
      "Normal life\n",
      "496\n",
      "(-0.6569089486371928+0j)\n",
      "Normal life\n",
      "497\n",
      "(-0.656954745632486+0j)\n",
      "Normal life\n",
      "498\n",
      "(-0.6569096816943014+0j)\n",
      "Normal life\n",
      "499\n",
      "(-0.6568991874336243+0j)\n",
      "Normal life\n",
      "500\n",
      "(-0.6569522324734414+0j)\n",
      "Tejas is unlucky\n",
      "Attempted iterations  501\n"
     ]
    }
   ],
   "source": [
    "xi_opt = terminator(1000,time_steps=len(times), total_time= total_time_evo,\n",
    "               epsilon= ((0.1*2*pi)/(times[-1])))"
   ]
  },
  {
   "cell_type": "code",
   "execution_count": 70,
   "metadata": {
    "ExecuteTime": {
     "end_time": "2019-02-20T01:06:25.588935Z",
     "start_time": "2019-02-20T01:06:25.587062Z"
    }
   },
   "outputs": [],
   "source": [
    "time_steps=len(times)\n",
    "total_time= total_time_evo\n",
    "epsilon = ((0.1*2*pi)/(times[-1]))"
   ]
  },
  {
   "cell_type": "code",
   "execution_count": 71,
   "metadata": {
    "ExecuteTime": {
     "end_time": "2019-02-20T01:06:26.306748Z",
     "start_time": "2019-02-20T01:06:25.589998Z"
    }
   },
   "outputs": [
    {
     "data": {
      "text/plain": [
       "-4.219434194445534"
      ]
     },
     "execution_count": 71,
     "metadata": {},
     "output_type": "execute_result"
    }
   ],
   "source": [
    "dt = (2*pi)/500\n",
    "F(xi_opt, dt)"
   ]
  },
  {
   "cell_type": "code",
   "execution_count": 72,
   "metadata": {
    "ExecuteTime": {
     "end_time": "2019-02-20T01:06:26.927844Z",
     "start_time": "2019-02-20T01:06:26.307846Z"
    }
   },
   "outputs": [
    {
     "data": {
      "text/latex": [
       "Quantum object: dims = [[2, 2], [2, 2]], shape = (4, 4), type = oper, isherm = False\\begin{equation*}\\left(\\begin{array}{*{11}c}0.233 & (-0.006+6.212\\times10^{-04}j) & (-0.006-6.212\\times10^{-04}j) & 0.767\\\\(0.006-6.215\\times10^{-04}j) & (-0.124-1.846\\times10^{-05}j) & (-0.409-3.224\\times10^{-07}j) & (-0.006+6.215\\times10^{-04}j)\\\\(0.006+6.215\\times10^{-04}j) & (-0.409+3.224\\times10^{-07}j) & (-0.124+1.846\\times10^{-05}j) & (-0.006-6.215\\times10^{-04}j)\\\\0.767 & (0.006-6.212\\times10^{-04}j) & (0.006+6.212\\times10^{-04}j) & 0.233\\\\\\end{array}\\right)\\end{equation*}"
      ],
      "text/plain": [
       "Quantum object: dims = [[2, 2], [2, 2]], shape = (4, 4), type = oper, isherm = False\n",
       "Qobj data =\n",
       "[[ 0.23332366+0.00000000e+00j -0.00598943+6.21169027e-04j\n",
       "  -0.00598943-6.21169027e-04j  0.76667634+0.00000000e+00j]\n",
       " [ 0.00598955-6.21487105e-04j -0.12437129-1.84590647e-05j\n",
       "  -0.40897977-3.22414496e-07j -0.00598955+6.21487105e-04j]\n",
       " [ 0.00598955+6.21487105e-04j -0.40897977+3.22414496e-07j\n",
       "  -0.12437129+1.84590647e-05j -0.00598955-6.21487105e-04j]\n",
       " [ 0.76667634+0.00000000e+00j  0.00598943-6.21169027e-04j\n",
       "   0.00598943+6.21169027e-04j  0.23332366+0.00000000e+00j]]"
      ]
     },
     "execution_count": 72,
     "metadata": {},
     "output_type": "execute_result"
    }
   ],
   "source": [
    "L_full_maker(xi_opt, dt)"
   ]
  },
  {
   "cell_type": "code",
   "execution_count": 73,
   "metadata": {
    "ExecuteTime": {
     "end_time": "2019-02-20T01:06:27.027945Z",
     "start_time": "2019-02-20T01:06:26.928935Z"
    }
   },
   "outputs": [
    {
     "name": "stderr",
     "output_type": "stream",
     "text": [
      "/home/tejas/anaconda3/envs/qutip-env/lib/python3.6/site-packages/numpy/core/numeric.py:501: ComplexWarning: Casting complex values to real discards the imaginary part\n",
      "  return array(a, dtype, copy=False, order=order)\n",
      "/home/tejas/anaconda3/envs/qutip-env/lib/python3.6/site-packages/matplotlib/transforms.py:968: ComplexWarning: Casting complex values to real discards the imaginary part\n",
      "  self._points[:, 1] = interval\n"
     ]
    },
    {
     "data": {
      "image/png": "[encoded data removed]",
      "text/plain": [
       "<Figure size 432x288 with 1 Axes>"
      ]
     },
     "metadata": {
      "needs_background": "light"
     },
     "output_type": "display_data"
    }
   ],
   "source": [
    "ax = axes()\n",
    "ax.plot(times, xi_opt)\n",
    "xi_max = amax(xi_opt) + 0.1\n",
    "xi_min = amin(xi_opt) - 0.1\n",
    "\n",
    "ax.set(xlim=(0, total_time_evo), ylim=(xi_min, xi_max),\n",
    "       xlabel='time', ylabel= r'$g_{with diss}$',\n",
    "       title='Control field in the presence of dissipation');"
   ]
  },
  {
   "cell_type": "markdown",
   "metadata": {},
   "source": [
    "### try"
   ]
  },
  {
   "cell_type": "code",
   "execution_count": 74,
   "metadata": {
    "ExecuteTime": {
     "end_time": "2019-02-20T01:39:58.334241Z",
     "start_time": "2019-02-20T01:06:27.029516Z"
    }
   },
   "outputs": [
    {
     "name": "stdout",
     "output_type": "stream",
     "text": [
      "Hi\n",
      "Normal life\n",
      "0\n",
      "(-0.4581806837479956+0j)\n",
      "Normal life\n",
      "1\n",
      "(-0.7236555953980017+0j)\n",
      "Normal life\n",
      "2\n",
      "(-0.6640014349807881+0j)\n",
      "Normal life\n",
      "3\n",
      "(-0.6657495433965129+0j)\n",
      "Normal life\n",
      "4\n",
      "(-0.6571476059463074+0j)\n",
      "Normal life\n",
      "5\n",
      "(-0.656645340796151+0j)\n",
      "Tejas is unlucky\n",
      "Attempted iterations  6\n"
     ]
    }
   ],
   "source": [
    "xi_opt = terminator(10,time_steps=len(times), total_time= total_time_evo,\n",
    "               epsilon= ((0.1*2*pi)/(times[-1])))"
   ]
  },
  {
   "cell_type": "code",
   "execution_count": 75,
   "metadata": {
    "ExecuteTime": {
     "end_time": "2019-02-20T01:39:58.337279Z",
     "start_time": "2019-02-20T01:39:58.335355Z"
    }
   },
   "outputs": [],
   "source": [
    "time_steps=len(times)\n",
    "total_time= total_time_evo\n",
    "epsilon = ((0.1*2*pi)/(times[-1]))"
   ]
  },
  {
   "cell_type": "code",
   "execution_count": 76,
   "metadata": {
    "ExecuteTime": {
     "end_time": "2019-02-20T01:39:59.024235Z",
     "start_time": "2019-02-20T01:39:58.338319Z"
    }
   },
   "outputs": [
    {
     "data": {
      "text/plain": [
       "-4.247313406041494"
      ]
     },
     "execution_count": 76,
     "metadata": {},
     "output_type": "execute_result"
    }
   ],
   "source": [
    "dt = (2*pi)/500\n",
    "F(xi_opt, dt)"
   ]
  },
  {
   "cell_type": "code",
   "execution_count": 77,
   "metadata": {
    "ExecuteTime": {
     "end_time": "2019-02-20T01:39:59.604393Z",
     "start_time": "2019-02-20T01:39:59.025724Z"
    }
   },
   "outputs": [
    {
     "data": {
      "text/latex": [
       "Quantum object: dims = [[2, 2], [2, 2]], shape = (4, 4), type = oper, isherm = False\\begin{equation*}\\left(\\begin{array}{*{11}c}0.595 & (0.246+0.008j) & (0.246-0.008j) & 0.405\\\\(-0.247-0.005j) & (0.232+0.060j) & (-0.056+0.004j) & (0.247+0.005j)\\\\(-0.247+0.005j) & (-0.056-0.004j) & (0.232-0.060j) & (0.247-0.005j)\\\\0.405 & (-0.246-0.008j) & (-0.246+0.008j) & 0.595\\\\\\end{array}\\right)\\end{equation*}"
      ],
      "text/plain": [
       "Quantum object: dims = [[2, 2], [2, 2]], shape = (4, 4), type = oper, isherm = False\n",
       "Qobj data =\n",
       "[[ 0.59508218+0.j          0.24582695+0.00820971j  0.24582695-0.00820971j\n",
       "   0.40491782+0.j        ]\n",
       " [-0.24650066-0.00521249j  0.23226697+0.05988335j -0.05606892+0.00441536j\n",
       "   0.24650066+0.00521249j]\n",
       " [-0.24650066+0.00521249j -0.05606892-0.00441536j  0.23226697-0.05988335j\n",
       "   0.24650066-0.00521249j]\n",
       " [ 0.40491782+0.j         -0.24582695-0.00820971j -0.24582695+0.00820971j\n",
       "   0.59508218+0.j        ]]"
      ]
     },
     "execution_count": 77,
     "metadata": {},
     "output_type": "execute_result"
    }
   ],
   "source": [
    "L_full_maker(xi_opt, dt)"
   ]
  },
  {
   "cell_type": "code",
   "execution_count": 78,
   "metadata": {
    "ExecuteTime": {
     "end_time": "2019-02-20T01:39:59.704900Z",
     "start_time": "2019-02-20T01:39:59.606067Z"
    }
   },
   "outputs": [
    {
     "name": "stderr",
     "output_type": "stream",
     "text": [
      "/home/tejas/anaconda3/envs/qutip-env/lib/python3.6/site-packages/numpy/core/numeric.py:501: ComplexWarning: Casting complex values to real discards the imaginary part\n",
      "  return array(a, dtype, copy=False, order=order)\n",
      "/home/tejas/anaconda3/envs/qutip-env/lib/python3.6/site-packages/matplotlib/transforms.py:968: ComplexWarning: Casting complex values to real discards the imaginary part\n",
      "  self._points[:, 1] = interval\n"
     ]
    },
    {
     "data": {
      "image/png": "[encoded data removed]",
      "text/plain": [
       "<Figure size 432x288 with 1 Axes>"
      ]
     },
     "metadata": {
      "needs_background": "light"
     },
     "output_type": "display_data"
    }
   ],
   "source": [
    "ax = axes()\n",
    "ax.plot(times, xi_opt)\n",
    "xi_max = amax(xi_opt) + 0.1\n",
    "xi_min = amin(xi_opt) - 0.1\n",
    "\n",
    "ax.set(xlim=(0, total_time_evo), ylim=(xi_min, xi_max),\n",
    "       xlabel='time', ylabel= r'$g_{with diss}$',\n",
    "       title='Control field in the presence of dissipation');"
   ]
  },
  {
   "cell_type": "markdown",
   "metadata": {},
   "source": [
    "### try"
   ]
  },
  {
   "cell_type": "code",
   "execution_count": 79,
   "metadata": {
    "ExecuteTime": {
     "end_time": "2019-02-21T17:38:16.978739Z",
     "start_time": "2019-02-20T01:39:59.705988Z"
    }
   },
   "outputs": [
    {
     "name": "stdout",
     "output_type": "stream",
     "text": [
      "Hi\n",
      "Normal life\n",
      "0\n",
      "(-0.002075706077914656+0j)\n",
      "Normal life\n",
      "1\n",
      "(-0.002076191196220241+0j)\n",
      "Normal life\n",
      "2\n",
      "(-0.002076740082857789+0j)\n",
      "Normal life\n",
      "3\n",
      "(-0.002077352346967375+0j)\n",
      "Normal life\n",
      "4\n",
      "(-0.0020780276117934233+0j)\n",
      "Normal life\n",
      "5\n",
      "(-0.0020787655148068337+0j)\n",
      "Normal life\n",
      "6\n",
      "(-0.002079565707830188+0j)\n",
      "Normal life\n",
      "7\n",
      "(-0.002080427857165841+0j)\n",
      "Normal life\n",
      "8\n",
      "(-0.002081351643725721+0j)\n",
      "Normal life\n",
      "9\n",
      "(-0.0020823367631667964+0j)\n",
      "Normal life\n",
      "10\n",
      "(-0.0020833829260253757+0j)\n",
      "Normal life\n",
      "11\n",
      "(-0.0020844898578570117+0j)\n",
      "Normal life\n",
      "12\n",
      "(-0.002085657299377826+0j)\n",
      "Normal life\n",
      "13\n",
      "(-0.002086885006608631+0j)\n",
      "Normal life\n",
      "14\n",
      "(-0.0020881727510215424+0j)\n",
      "Normal life\n",
      "15\n",
      "(-0.002089520319689037+0j)\n",
      "Normal life\n",
      "16\n",
      "(-0.002090927515435339+0j)\n",
      "Normal life\n",
      "17\n",
      "(-0.0020923941569901193+0j)\n",
      "Normal life\n",
      "18\n",
      "(-0.002093920079144875+0j)\n",
      "Normal life\n",
      "19\n",
      "(-0.002095505132908865+0j)\n",
      "Normal life\n",
      "20\n",
      "(-0.002097149185673197+0j)\n",
      "Normal life\n",
      "21\n",
      "(-0.0020988521213688724+0j)\n",
      "Normal life\n",
      "22\n",
      "(-0.00210061384063264+0j)\n",
      "Normal life\n",
      "23\n",
      "(-0.002102434260972091+0j)\n",
      "Normal life\n",
      "24\n",
      "(-0.002104313316932996+0j)\n",
      "Normal life\n",
      "25\n",
      "(-0.00210625096026804+0j)\n",
      "Normal life\n",
      "26\n",
      "(-0.002108247160106968+0j)\n",
      "Normal life\n",
      "27\n",
      "(-0.002110301903128123+0j)\n",
      "Normal life\n",
      "28\n",
      "(-0.0021124151937310094+0j)\n",
      "Normal life\n",
      "29\n",
      "(-0.0021145870542101323+0j)\n",
      "Normal life\n",
      "30\n",
      "(-0.0021168175249296067+0j)\n",
      "Normal life\n",
      "31\n",
      "(-0.002119106664498722+0j)\n",
      "Normal life\n",
      "32\n",
      "(-0.0021214545499475784+0j)\n",
      "Normal life\n",
      "33\n",
      "(-0.0021238612769047924+0j)\n",
      "Normal life\n",
      "34\n",
      "(-0.0021263269597735397+0j)\n",
      "Normal life\n",
      "35\n",
      "(-0.002128851731909369+0j)\n",
      "Normal life\n",
      "36\n",
      "(-0.002131435745797534+0j)\n",
      "Normal life\n",
      "37\n",
      "(-0.002134079173230472+0j)\n",
      "Normal life\n",
      "38\n",
      "(-0.0021367822054848416+0j)\n",
      "Normal life\n",
      "39\n",
      "(-0.0021395450534984588+0j)\n",
      "Normal life\n",
      "40\n",
      "(-0.0021423679480465766+0j)\n",
      "Normal life\n",
      "41\n",
      "(-0.002145251139917565+0j)\n",
      "Normal life\n",
      "42\n",
      "(-0.0021481949000876476+0j)\n",
      "Normal life\n",
      "43\n",
      "(-0.0021511995198946606+0j)\n",
      "Normal life\n",
      "44\n",
      "(-0.002154265311210674+0j)\n",
      "Normal life\n",
      "45\n",
      "(-0.0021573926066130985+0j)\n",
      "Normal life\n",
      "46\n",
      "(-0.002160581759554353+0j)\n",
      "Normal life\n",
      "47\n",
      "(-0.0021638331445296816+0j)\n",
      "Normal life\n",
      "48\n",
      "(-0.0021671471572430145+0j)\n",
      "Normal life\n",
      "49\n",
      "(-0.002170524214770746+0j)\n",
      "Normal life\n",
      "50\n",
      "(-0.0021739647557230796+0j)\n",
      "Normal life\n",
      "51\n",
      "(-0.002177469240402759+0j)\n",
      "Normal life\n",
      "52\n",
      "(-0.0021810381509615945+0j)\n",
      "Normal life\n",
      "53\n",
      "(-0.002184671991550824+0j)\n",
      "Normal life\n",
      "54\n",
      "(-0.002188371288475868+0j)\n",
      "Normal life\n",
      "55\n",
      "(-0.002192136590337445+0j)\n",
      "Normal life\n",
      "56\n",
      "(-0.0021959684681764065+0j)\n",
      "Normal life\n",
      "57\n",
      "(-0.002199867515611701+0j)\n",
      "Normal life\n",
      "58\n",
      "(-0.0022038343489743763+0j)\n",
      "Normal life\n",
      "59\n",
      "(-0.0022078696074371434+0j)\n",
      "Normal life\n",
      "60\n",
      "(-0.002211973953138924+0j)\n",
      "Normal life\n",
      "61\n",
      "(-0.002216148071304393+0j)\n",
      "Normal life\n",
      "62\n",
      "(-0.0022203926703579244+0j)\n",
      "Normal life\n",
      "63\n",
      "(-0.002224708482031826+0j)\n",
      "Normal life\n",
      "64\n",
      "(-0.002229096261468284+0j)\n",
      "Normal life\n",
      "65\n",
      "(-0.002233556787314912+0j)\n",
      "Normal life\n",
      "66\n",
      "(-0.002238090861813468+0j)\n",
      "Normal life\n",
      "67\n",
      "(-0.0022426993108810903+0j)\n",
      "Normal life\n",
      "68\n",
      "(-0.002247382984184099+0j)\n",
      "Normal life\n",
      "69\n",
      "(-0.002252142755203601+0j)\n",
      "Normal life\n",
      "70\n",
      "(-0.0022569795212924897+0j)\n",
      "Normal life\n",
      "71\n",
      "(-0.002261894203723528+0j)\n",
      "Normal life\n",
      "72\n",
      "(-0.0022668877477279455+0j)\n",
      "Normal life\n",
      "73\n",
      "(-0.002271961122523913+0j)\n",
      "Normal life\n",
      "74\n",
      "(-0.0022771153213346214+0j)\n",
      "Normal life\n",
      "75\n",
      "(-0.0022823513613951445+0j)\n",
      "Normal life\n",
      "76\n",
      "(-0.00228767028394764+0j)\n",
      "Normal life\n",
      "77\n",
      "(-0.002293073154224263+0j)\n",
      "Normal life\n",
      "78\n",
      "(-0.0022985610614170635+0j)\n",
      "Normal life\n",
      "79\n",
      "(-0.0023041351186342796+0j)\n",
      "Normal life\n",
      "80\n",
      "(-0.0023097964628422145+0j)\n",
      "Normal life\n",
      "81\n",
      "(-0.0023155462547920403+0j)\n",
      "Normal life\n",
      "82\n",
      "(-0.0023213856789306565+0j)\n",
      "Normal life\n",
      "83\n",
      "(-0.0023273159432948215+0j)\n",
      "Normal life\n",
      "84\n",
      "(-0.0023333382793876596+0j)\n",
      "Normal life\n",
      "85\n",
      "(-0.0023394539420366093+0j)\n",
      "Normal life\n",
      "86\n",
      "(-0.002345664209231975+0j)\n",
      "Normal life\n",
      "87\n",
      "(-0.0023519703819448435+0j)\n",
      "Normal life\n",
      "88\n",
      "(-0.0023583737839234916+0j)\n",
      "Normal life\n",
      "89\n",
      "(-0.0023648757614671955+0j)\n",
      "Normal life\n",
      "90\n",
      "(-0.002371477683176057+0j)\n",
      "Normal life\n",
      "91\n",
      "(-0.002378180939675884+0j)\n",
      "Normal life\n",
      "92\n",
      "(-0.002384986943316441+0j)\n",
      "Normal life\n",
      "93\n",
      "(-0.002391897127842784+0j)\n",
      "Normal life\n",
      "94\n",
      "(-0.0023989129480363417+0j)\n",
      "Normal life\n",
      "95\n",
      "(-0.0024060358793263742+0j)\n",
      "Normal life\n",
      "96\n",
      "(-0.002413267417368919+0j)\n",
      "Normal life\n",
      "97\n",
      "(-0.0024206090775919843+0j)\n",
      "Normal life\n",
      "98\n",
      "(-0.002428062394705521+0j)\n",
      "Normal life\n",
      "99\n",
      "(-0.002435628922174037+0j)\n",
      "Normal life\n",
      "100\n",
      "(-0.0024433102316502612+0j)\n",
      "Normal life\n",
      "101\n",
      "(-0.0024511079123679205+0j)\n",
      "Normal life\n",
      "102\n",
      "(-0.002459023570491444+0j)\n",
      "Normal life\n",
      "103\n",
      "(-0.002467058828420776+0j)\n",
      "Normal life\n",
      "104\n",
      "(-0.0024752153240488526+0j)\n",
      "Normal life\n",
      "105\n",
      "(-0.0024834947099706575+0j)\n",
      "Normal life\n",
      "106\n",
      "(-0.0024918986526346614+0j)\n",
      "Normal life\n",
      "107\n",
      "(-0.002500428831454206+0j)\n",
      "Normal life\n",
      "108\n",
      "(-0.002509086937843223+0j)\n",
      "Normal life\n",
      "109\n",
      "(-0.0025178746742064834+0j)\n",
      "Normal life\n",
      "110\n",
      "(-0.0025267937528621162+0j)\n",
      "Normal life\n",
      "111\n",
      "(-0.0025358458948999663+0j)\n",
      "Normal life\n",
      "112\n",
      "(-0.0025450328289719445+0j)\n",
      "Normal life\n",
      "113\n",
      "(-0.002554356290011363+0j)\n",
      "Normal life\n",
      "114\n",
      "(-0.0025638180178781714+0j)\n",
      "Normal life\n",
      "115\n",
      "(-0.002573419755926695+0j)\n",
      "Normal life\n",
      "116\n",
      "(-0.0025831632494927753+0j)\n",
      "Normal life\n",
      "117\n",
      "(-0.0025930502442966423+0j)\n",
      "Normal life\n",
      "118\n",
      "(-0.0026030824847582223+0j)\n",
      "Normal life\n",
      "119\n",
      "(-0.002613261712221126+0j)\n",
      "Normal life\n",
      "120\n",
      "(-0.0026235896630816035+0j)\n",
      "Normal life\n",
      "121\n",
      "(-0.0026340680668188437+0j)\n",
      "Normal life\n",
      "122\n",
      "(-0.0026446986439225776+0j)\n",
      "Normal life\n",
      "123\n",
      "(-0.0026554831037140913+0j)\n",
      "Normal life\n",
      "124\n",
      "(-0.0026664231420567568+0j)\n",
      "Normal life\n",
      "125\n",
      "(-0.0026775204389519205+0j)\n",
      "Normal life\n",
      "126\n",
      "(-0.0026887766560159915+0j)\n",
      "Normal life\n",
      "127\n",
      "(-0.0027001934338346826+0j)\n",
      "Normal life\n",
      "128\n",
      "(-0.0027117723891902593+0j)\n",
      "Normal life\n",
      "129\n",
      "(-0.0027235151121573972+0j)\n",
      "Normal life\n",
      "130\n",
      "(-0.002735423163063785+0j)\n",
      "Normal life\n",
      "131\n",
      "(-0.002747498069310928+0j)\n",
      "Normal life\n",
      "132\n",
      "(-0.0027597413220513184+0j)\n",
      "Normal life\n",
      "133\n",
      "(-0.0027721543727177583+0j)\n",
      "Normal life\n",
      "134\n",
      "(-0.0027847386294008575+0j)\n",
      "Normal life\n",
      "135\n",
      "(-0.0027974954530701757+0j)\n",
      "Normal life\n",
      "136\n",
      "(-0.00281042615363775+0j)\n",
      "Normal life\n",
      "137\n",
      "(-0.0028235319858556595+0j)\n",
      "Normal life\n",
      "138\n",
      "(-0.00283681414504924+0j)\n",
      "Normal life\n",
      "139\n",
      "(-0.002850273762679478+0j)\n",
      "Normal life\n",
      "140\n",
      "(-0.002863911901732983+0j)\n",
      "Normal life\n",
      "141\n",
      "(-0.0028777295519362704+0j)\n",
      "Normal life\n",
      "142\n",
      "(-0.002891727624792553+0j)\n",
      "Normal life\n",
      "143\n",
      "(-0.0029059069484385952+0j)\n",
      "Normal life\n",
      "144\n",
      "(-0.002920268262320498+0j)\n",
      "Normal life\n",
      "145\n",
      "(-0.0029348122116872647+0j)\n",
      "Normal life\n",
      "146\n",
      "(-0.0029495393419014765+0j)\n",
      "Normal life\n",
      "147\n",
      "(-0.002964450092567544+0j)\n",
      "Normal life\n",
      "148\n",
      "(-0.002979544791478165+0j)\n",
      "Normal life\n",
      "149\n",
      "(-0.0029948236483792507+0j)\n",
      "Normal life\n",
      "150\n",
      "(-0.00301028674855975+0j)\n",
      "Normal life\n",
      "151\n",
      "(-0.003025934046262527+0j)\n",
      "Normal life\n",
      "152\n",
      "(-0.003041765357927361+0j)\n",
      "Normal life\n",
      "153\n",
      "(-0.0030577803552664573+0j)\n",
      "Normal life\n",
      "154\n",
      "(-0.0030739785581817185+0j)\n",
      "Normal life\n",
      "155\n",
      "(-0.0030903593275279835+0j)\n",
      "Normal life\n",
      "156\n",
      "(-0.003106921857733841+0j)\n",
      "Normal life\n",
      "157\n",
      "(-0.003123665169287987+0j)\n",
      "Normal life\n",
      "158\n",
      "(-0.0031405881011032427+0j)\n",
      "Normal life\n",
      "159\n",
      "(-0.0031576893027709368+0j)\n",
      "Normal life\n",
      "160\n",
      "(-0.0031749672267199864+0j)\n",
      "Normal life\n",
      "161\n",
      "(-0.0031924201202970745+0j)\n",
      "Normal life\n",
      "162\n",
      "(-0.0032100460177855016+0j)\n",
      "Normal life\n",
      "163\n",
      "(-0.0032278427323826865+0j)\n",
      "Normal life\n",
      "164\n",
      "(-0.003245807848157897+0j)\n",
      "Normal life\n",
      "165\n",
      "(-0.003263938712013856+0j)\n",
      "Normal life\n",
      "166\n",
      "(-0.003282232425678082+0j)\n",
      "Normal life\n",
      "167\n",
      "(-0.003300685837751677+0j)\n",
      "Normal life\n",
      "168\n",
      "(-0.003319295535845664+0j)\n",
      "Normal life\n",
      "169\n",
      "(-0.0033380578388372884+0j)\n",
      "Normal life\n",
      "170\n",
      "(-0.003356968789280655+0j)\n",
      "Normal life\n",
      "171\n",
      "(-0.0033760241460084705+0j)\n",
      "Normal life\n",
      "172\n",
      "(-0.003395219376964334+0j)\n",
      "Normal life\n",
      "173\n",
      "(-0.0034145496523064647+0j)\n",
      "Normal life\n",
      "174\n",
      "(-0.0034340098378268396+0j)\n",
      "Normal life\n",
      "175\n",
      "(-0.003453594488731369+0j)\n",
      "Normal life\n",
      "176\n",
      "(-0.003473297843829058+0j)\n",
      "Normal life\n",
      "177\n",
      "(-0.00349311382017998+0j)\n",
      "Normal life\n",
      "178\n",
      "(-0.003513036008254122+0j)\n",
      "Normal life\n",
      "179\n",
      "(-0.003533057667654194+0j)\n",
      "Normal life\n",
      "180\n",
      "(-0.003553171723457991+0j)\n",
      "Normal life\n",
      "181\n",
      "(-0.003573370763236376+0j)\n",
      "Normal life\n",
      "182\n",
      "(-0.0035936470348045487+0j)\n",
      "Normal life\n",
      "183\n",
      "(-0.0036139924447649296+0j)\n",
      "Normal life\n",
      "184\n",
      "(-0.003634398557900384+0j)\n",
      "Normal life\n",
      "185\n",
      "(-0.0036548565974768494+0j)\n",
      "Normal life\n",
      "186\n",
      "(-0.003675357446514061+0j)\n",
      "Normal life\n",
      "187\n",
      "(-0.0036958916500822074+0j)\n",
      "Normal life\n",
      "188\n",
      "(-0.003716449418681786+0j)\n",
      "Normal life\n",
      "189\n",
      "(-0.0037370206327617273+0j)\n",
      "Normal life\n",
      "190\n",
      "(-0.0037575948484275395+0j)\n",
      "Normal life\n"
     ]
    },
    {
     "name": "stdout",
     "output_type": "stream",
     "text": [
      "191\n",
      "(-0.0037781613043947606+0j)\n",
      "Normal life\n",
      "192\n",
      "(-0.0037987089302264137+0j)\n",
      "Normal life\n",
      "193\n",
      "(-0.0038192263559060293+0j)\n",
      "Normal life\n",
      "194\n",
      "(-0.0038397019227799293+0j)\n",
      "Normal life\n",
      "195\n",
      "(-0.003860123695903846+0j)\n",
      "Normal life\n",
      "196\n",
      "(-0.003880479477821301+0j)\n",
      "Normal life\n",
      "197\n",
      "(-0.0039007568237949632+0j)\n",
      "Normal life\n",
      "198\n",
      "(-0.0039209430585049896+0j)\n",
      "Normal life\n",
      "199\n",
      "(-0.003941025294220777+0j)\n",
      "Normal life\n",
      "200\n",
      "(-0.003960990450443909+0j)\n",
      "Normal life\n",
      "201\n",
      "(-0.003980825275011575+0j)\n",
      "Normal life\n",
      "202\n",
      "(-0.00400051636663987+0j)\n",
      "Normal life\n",
      "203\n",
      "(-0.00402005019887667+0j)\n",
      "Normal life\n",
      "204\n",
      "(-0.004039413145423465+0j)\n",
      "Normal life\n",
      "205\n",
      "(-0.004058591506774534+0j)\n",
      "Normal life\n",
      "206\n",
      "(-0.004077571538111302+0j)\n",
      "Normal life\n",
      "207\n",
      "(-0.004096339478378191+0j)\n",
      "Normal life\n",
      "208\n",
      "(-0.004114881580455181+0j)\n",
      "Normal life\n",
      "209\n",
      "(-0.004133184142331306+0j)\n",
      "Normal life\n",
      "210\n",
      "(-0.0041512335391719005+0j)\n",
      "Normal life\n",
      "211\n",
      "(-0.004169016256161995+0j)\n",
      "Normal life\n",
      "212\n",
      "(-0.0041865189219976685+0j)\n",
      "Normal life\n",
      "213\n",
      "(-0.004203728342887437+0j)\n",
      "Normal life\n",
      "214\n",
      "(-0.004220631536916633+0j)\n",
      "Normal life\n",
      "215\n",
      "(-0.004237215768619205+0j)\n",
      "Normal life\n",
      "216\n",
      "(-0.004253468583594083+0j)\n",
      "Normal life\n",
      "217\n",
      "(-0.004269377842996746+0j)\n",
      "Normal life\n",
      "218\n",
      "(-0.004284931757731449+0j)\n",
      "Normal life\n",
      "219\n",
      "(-0.004300118922165644+0j)\n",
      "Normal life\n",
      "220\n",
      "(-0.004314928347185441+0j)\n",
      "Normal life\n",
      "221\n",
      "(-0.00432934949240992+0j)\n",
      "Normal life\n",
      "222\n",
      "(-0.004343372297382487+0j)\n",
      "Normal life\n",
      "223\n",
      "(-0.004356987211559486+0j)\n",
      "Normal life\n",
      "224\n",
      "(-0.004370185222919684+0j)\n",
      "Normal life\n",
      "225\n",
      "(-0.004382957885023774+0j)\n",
      "Normal life\n",
      "226\n",
      "(-0.004395297342359573+0j)\n",
      "Normal life\n",
      "227\n",
      "(-0.0044071963538171435+0j)\n",
      "Normal life\n",
      "228\n",
      "(-0.004418648314148039+0j)\n",
      "Normal life\n",
      "229\n",
      "(-0.004429647273274174+0j)\n",
      "Normal life\n",
      "230\n",
      "(-0.004440187953324699+0j)\n",
      "Normal life\n",
      "231\n",
      "(-0.004450265763293186+0j)\n",
      "Normal life\n",
      "232\n",
      "(-0.0044598768112226435+0j)\n",
      "Normal life\n",
      "233\n",
      "(-0.00446901791384194+0j)\n",
      "Normal life\n",
      "234\n",
      "(-0.004477686603594164+0j)\n",
      "Normal life\n",
      "235\n",
      "(-0.0044858811330148645+0j)\n",
      "Normal life\n",
      "236\n",
      "(-0.004493600476436248+0j)\n",
      "Normal life\n",
      "237\n",
      "(-0.004500844329011557+0j)\n",
      "Normal life\n",
      "238\n",
      "(-0.004507613103071922+0j)\n",
      "Normal life\n",
      "239\n",
      "(-0.004513907921846486+0j)\n",
      "Normal life\n",
      "240\n",
      "(-0.004519730610593874+0j)\n",
      "Normal life\n",
      "241\n",
      "(-0.00452508368521073+0j)\n",
      "Normal life\n",
      "242\n",
      "(-0.004529970338399233+0j)\n",
      "Normal life\n",
      "243\n",
      "(-0.004534394423491261+0j)\n",
      "Normal life\n",
      "244\n",
      "(-0.0045383604360414555+0j)\n",
      "Normal life\n",
      "245\n",
      "(-0.004541873493314726+0j)\n",
      "Normal life\n",
      "246\n",
      "(-0.004544939311805902+0j)\n",
      "Normal life\n",
      "247\n",
      "(-0.0045475641829399276+0j)\n",
      "Normal life\n",
      "248\n",
      "(-0.0045497549471100705+0j)\n",
      "Normal life\n",
      "249\n",
      "(-0.004551518966219507+0j)\n",
      "Normal life\n",
      "250\n",
      "(-0.004552864094897384+0j)\n",
      "Normal life\n",
      "251\n",
      "(-0.004553798650565244+0j)\n",
      "Normal life\n",
      "252\n",
      "(-0.004554331382532421+0j)\n",
      "Normal life\n",
      "253\n",
      "(-0.00455447144030025+0j)\n",
      "Normal life\n",
      "254\n",
      "(-0.004554228341254957+0j)\n",
      "Normal life\n",
      "255\n",
      "(-0.004553611937927119+0j)\n",
      "Normal life\n",
      "256\n",
      "(-0.004552632384992709+0j)\n",
      "Normal life\n",
      "257\n",
      "(-0.004551300106186354+0j)\n",
      "Normal life\n",
      "258\n",
      "(-0.0045496257612917595+0j)\n",
      "Normal life\n",
      "259\n",
      "(-0.004547620213367616+0j)\n",
      "Normal life\n",
      "260\n",
      "(-0.004545294496359881+0j)\n",
      "Normal life\n",
      "261\n",
      "(-0.004542659783242586+0j)\n",
      "Normal life\n",
      "262\n",
      "(-0.0045397273548202005+0j)\n",
      "Normal life\n",
      "263\n",
      "(-0.004536508569315092+0j)\n",
      "Normal life\n",
      "264\n",
      "(-0.004533014832853005+0j)\n",
      "Normal life\n",
      "265\n",
      "(-0.004529257570949087+0j)\n",
      "Normal life\n",
      "266\n",
      "(-0.004525248201086294+0j)\n",
      "Normal life\n",
      "267\n",
      "(-0.004520998106467017+0j)\n",
      "Normal life\n",
      "268\n",
      "(-0.004516518611007857+0j)\n",
      "Normal life\n",
      "269\n",
      "(-0.004511820955636829+0j)\n",
      "Normal life\n",
      "270\n",
      "(-0.004506916275941613+0j)\n",
      "Normal life\n",
      "271\n",
      "(-0.004501815581207168+0j)\n",
      "Normal life\n",
      "272\n",
      "(-0.004496529734871197+0j)\n",
      "Normal life\n",
      "273\n",
      "(-0.004491069436416309+0j)\n",
      "Normal life\n",
      "274\n",
      "(-0.004485445204708601+0j)\n",
      "Normal life\n",
      "275\n",
      "(-0.004479667362784212+0j)\n",
      "Normal life\n",
      "276\n",
      "(-0.004473746024076834+0j)\n",
      "Normal life\n",
      "277\n",
      "(-0.004467691080072348+0j)\n",
      "Normal life\n",
      "278\n",
      "(-0.004461512189369425+0j)\n",
      "Normal life\n",
      "279\n",
      "(-0.004455218768119073+0j)\n",
      "Normal life\n",
      "280\n",
      "(-0.004448819981810277+0j)\n",
      "Normal life\n",
      "281\n",
      "(-0.0044423247383639855+0j)\n",
      "Normal life\n",
      "282\n",
      "(-0.0044357416824931635+0j)\n",
      "Normal life\n",
      "283\n",
      "(-0.004429079191282933+0j)\n",
      "Normal life\n",
      "284\n",
      "(-0.004422345370941301+0j)\n",
      "Normal life\n",
      "285\n",
      "(-0.00441554805466863+0j)\n",
      "Normal life\n",
      "286\n",
      "(-0.00440869480159114+0j)\n",
      "Normal life\n",
      "287\n",
      "(-0.004401792896702656+0j)\n",
      "Normal life\n",
      "288\n",
      "(-0.0043948493517569544+0j)\n",
      "Normal life\n",
      "289\n",
      "(-0.0043878709070525835+0j)\n",
      "Normal life\n",
      "290\n",
      "(-0.004380864034051103+0j)\n",
      "Normal life\n",
      "291\n",
      "(-0.004373834938770087+0j)\n",
      "Normal life\n",
      "292\n",
      "(-0.004366789565891821+0j)\n",
      "Normal life\n",
      "293\n",
      "(-0.004359733603529648+0j)\n",
      "Normal life\n",
      "294\n",
      "(-0.004352672488594327+0j)\n",
      "Normal life\n",
      "295\n",
      "(-0.004345611412703678+0j)\n",
      "Normal life\n",
      "296\n",
      "(-0.0043385553285804675+0j)\n",
      "Normal life\n",
      "297\n",
      "(-0.004331508956884165+0j)\n",
      "Normal life\n",
      "298\n",
      "(-0.0043244767934243235+0j)\n",
      "Normal life\n",
      "299\n",
      "(-0.004317463116704526+0j)\n",
      "Normal life\n",
      "300\n",
      "(-0.004310471995747992+0j)\n",
      "Normal life\n",
      "301\n",
      "(-0.004303507298157427+0j)\n",
      "Normal life\n",
      "302\n",
      "(-0.00429657269836392+0j)\n",
      "Normal life\n",
      "303\n",
      "(-0.004289671686021421+0j)\n",
      "Normal life\n",
      "304\n",
      "(-0.004282807574505484+0j)\n",
      "Normal life\n",
      "305\n",
      "(-0.004275983509477+0j)\n",
      "Normal life\n",
      "306\n",
      "(-0.004269202477473593+0j)\n",
      "Normal life\n",
      "307\n",
      "(-0.0042624673144934224+0j)\n",
      "Normal life\n",
      "308\n",
      "(-0.004255780714538339+0j)\n",
      "Normal life\n",
      "309\n",
      "(-0.004249145238085023+0j)\n",
      "Normal life\n",
      "310\n",
      "(-0.004242563320455207+0j)\n",
      "Normal life\n",
      "311\n",
      "(-0.00423603728005745+0j)\n",
      "Normal life\n",
      "312\n",
      "(-0.004229569326475571+0j)\n",
      "Normal life\n",
      "313\n",
      "(-0.004223161568380118+0j)\n",
      "Normal life\n",
      "314\n",
      "(-0.0042168160212414044+0j)\n",
      "Normal life\n",
      "315\n",
      "(-0.004210534614824534+0j)\n",
      "Normal life\n",
      "316\n",
      "(-0.0042043192004483304+0j)\n",
      "Normal life\n",
      "317\n",
      "(-0.004198171557992005+0j)\n",
      "Normal life\n",
      "318\n",
      "(-0.004192093402634972+0j)\n",
      "Normal life\n",
      "319\n",
      "(-0.004186086391316868+0j)\n",
      "Normal life\n",
      "320\n",
      "(-0.0041801521289062706+0j)\n",
      "Normal life\n",
      "321\n",
      "(-0.004174292174068236+0j)\n",
      "Normal life\n",
      "322\n",
      "(-0.004168508044822233+0j)\n",
      "Normal life\n",
      "323\n",
      "(-0.004162801223783256+0j)\n",
      "Normal life\n",
      "324\n",
      "(-0.0041571731630804095+0j)\n",
      "Normal life\n",
      "325\n",
      "(-0.004151625288948439+0j)\n",
      "Normal life\n",
      "326\n",
      "(-0.004146159005988971+0j)\n",
      "Normal life\n",
      "327\n",
      "(-0.004140775701099296+0j)\n",
      "Normal life\n",
      "328\n",
      "(-0.004135476747067678+0j)\n",
      "Normal life\n",
      "329\n",
      "(-0.0041302635058353505+0j)\n",
      "Normal life\n",
      "330\n",
      "(-0.004125137331425988+0j)\n",
      "Normal life\n",
      "331\n",
      "(-0.004120099572545009+0j)\n",
      "Normal life\n",
      "332\n",
      "(-0.004115151574851218+0j)\n",
      "Normal life\n",
      "333\n",
      "(-0.004110294682904709+0j)\n",
      "Normal life\n",
      "334\n",
      "(-0.004105530241795497+0j)\n",
      "Normal life\n",
      "335\n",
      "(-0.00410085959845804+0j)\n",
      "Normal life\n",
      "336\n",
      "(-0.004096284102677566+0j)\n",
      "Normal life\n",
      "337\n",
      "(-0.004091805107794831+0j)\n",
      "Normal life\n",
      "338\n",
      "(-0.004087423971116224+0j)\n",
      "Normal life\n",
      "339\n",
      "(-0.004083142054037039+0j)\n",
      "Normal life\n",
      "340\n",
      "(-0.004078960721885805+0j)\n",
      "Normal life\n",
      "341\n",
      "(-0.0040748813434984595+0j)\n",
      "Normal life\n",
      "342\n",
      "(-0.004070905290531013+0j)\n",
      "Normal life\n",
      "343\n",
      "(-0.004067033936520169+0j)\n",
      "Normal life\n",
      "344\n",
      "(-0.004063268655701241+0j)\n",
      "Normal life\n",
      "345\n",
      "(-0.004059610821593381+0j)\n",
      "Normal life\n",
      "346\n",
      "(-0.0040560618053618845+0j)\n",
      "Normal life\n",
      "347\n",
      "(-0.004052622973967938+0j)\n",
      "Normal life\n",
      "348\n",
      "(-0.004049295688115981+0j)\n",
      "Normal life\n",
      "349\n",
      "(-0.004046081300009138+0j)\n",
      "Normal life\n",
      "350\n",
      "(-0.004042981150923187+0j)\n",
      "Normal life\n",
      "351\n",
      "(-0.004039996568609589+0j)\n",
      "Normal life\n",
      "352\n",
      "(-0.004037128864538091+0j)\n",
      "Normal life\n",
      "353\n",
      "(-0.004034379330989258+0j)\n",
      "Normal life\n",
      "354\n",
      "(-0.004031749238007717+0j)\n",
      "Normal life\n",
      "355\n",
      "(-0.004029239830226136+0j)\n",
      "Normal life\n",
      "356\n",
      "(-0.0040268523235705385+0j)\n",
      "Normal life\n",
      "357\n",
      "(-0.004024587901857045+0j)\n",
      "Normal life\n",
      "358\n",
      "(-0.0040224477132901745+0j)\n",
      "Normal life\n",
      "359\n",
      "(-0.004020432866872834+0j)\n",
      "Normal life\n",
      "360\n",
      "(-0.004018544428737672+0j)\n",
      "Normal life\n",
      "361\n",
      "(-0.004016783418409787+0j)\n",
      "Normal life\n",
      "362\n",
      "(-0.004015150805010253+0j)\n",
      "Normal life\n",
      "363\n",
      "(-0.004013647503410113+0j)\n",
      "Normal life\n",
      "364\n",
      "(-0.0040122743703440815+0j)\n",
      "Normal life\n",
      "365\n",
      "(-0.004011032200493448+0j)\n",
      "Normal life\n",
      "366\n",
      "(-0.004009921722547014+0j)\n",
      "Normal life\n",
      "367\n",
      "(-0.00400894359524956+0j)\n",
      "Normal life\n",
      "368\n",
      "(-0.0040080984034464116+0j)\n",
      "Normal life\n",
      "369\n",
      "(-0.004007386654133292+0j)\n",
      "Normal life\n",
      "370\n",
      "(-0.004006808772520184+0j)\n",
      "Normal life\n",
      "371\n",
      "(-0.004006365098118061+0j)\n",
      "Normal life\n",
      "372\n",
      "(-0.004006055880857251+0j)\n",
      "Normal life\n",
      "373\n",
      "(-0.004005881277246272+0j)\n",
      "Normal life\n",
      "374\n",
      "(-0.00400584134657985+0j)\n",
      "Normal life\n",
      "375\n",
      "(-0.004005936047205076+0j)\n",
      "Normal life\n",
      "376\n",
      "(-0.00400616523285446+0j)\n",
      "Normal life\n",
      "377\n",
      "(-0.0040065286490550845+0j)\n",
      "Normal life\n",
      "378\n",
      "(-0.0040070259296226445+0j)\n",
      "Normal life\n",
      "379\n",
      "(-0.004007656593249761+0j)\n",
      "Normal life\n",
      "380\n",
      "(-0.004008420040197951+0j)\n",
      "Normal life\n",
      "381\n",
      "(-0.0040093155491024695+0j)\n",
      "Normal life\n"
     ]
    },
    {
     "name": "stdout",
     "output_type": "stream",
     "text": [
      "382\n",
      "(-0.004010342273899997+0j)\n",
      "Normal life\n",
      "383\n",
      "(-0.0040114992408887456+0j)\n",
      "Normal life\n",
      "384\n",
      "(-0.0040127853459311835+0j)\n",
      "Normal life\n",
      "385\n",
      "(-0.004014199351809583+0j)\n",
      "Normal life\n",
      "386\n",
      "(-0.0040157398857447+0j)\n",
      "Normal life\n",
      "387\n",
      "(-0.004017405437088487+0j)\n",
      "Normal life\n",
      "388\n",
      "(-0.004019194355201433+0j)\n",
      "Normal life\n",
      "389\n",
      "(-0.004021104847525909+0j)\n",
      "Normal life\n",
      "390\n",
      "(-0.004023134977866492+0j)\n",
      "Normal life\n",
      "391\n",
      "(-0.004025282664888966+0j)\n",
      "Normal life\n",
      "392\n",
      "(-0.0040275456808496046+0j)\n",
      "Normal life\n",
      "393\n",
      "(-0.004029921650566336+0j)\n",
      "Normal life\n",
      "394\n",
      "(-0.004032408050643994+0j)\n",
      "Normal life\n",
      "395\n",
      "(-0.004035002208965399+0j)\n",
      "Normal life\n",
      "396\n",
      "(-0.004037701304460449+0j)\n",
      "Normal life\n",
      "397\n",
      "(-0.0040405023671652536+0j)\n",
      "Normal life\n",
      "398\n",
      "(-0.004043402278583242+0j)\n",
      "Normal life\n",
      "399\n",
      "(-0.0040463977723603+0j)\n",
      "Normal life\n",
      "400\n",
      "(-0.004049485435285523+0j)\n",
      "Normal life\n",
      "401\n",
      "(-0.004052661708629217+0j)\n",
      "Normal life\n",
      "402\n",
      "(-0.004055922889829285+0j)\n",
      "Normal life\n",
      "403\n",
      "(-0.0040592651345369235+0j)\n",
      "Normal life\n",
      "404\n",
      "(-0.004062684459031871+0j)\n",
      "Normal life\n",
      "405\n",
      "(-0.004066176743017167+0j)\n",
      "Normal life\n",
      "406\n",
      "(-0.004069737732802455+0j)\n",
      "Normal life\n",
      "407\n",
      "(-0.004073363044884348+0j)\n",
      "Normal life\n",
      "408\n",
      "(-0.004077048169931361+0j)\n",
      "Normal life\n",
      "409\n",
      "(-0.004080788477180051+0j)\n",
      "Normal life\n",
      "410\n",
      "(-0.004084579219247958+0j)\n",
      "Normal life\n",
      "411\n",
      "(-0.0040884155373676154+0j)\n",
      "Normal life\n",
      "412\n",
      "(-0.00409229246704484+0j)\n",
      "Normal life\n",
      "413\n",
      "(-0.004096204944143012+0j)\n",
      "Normal life\n",
      "414\n",
      "(-0.004100147811393389+0j)\n",
      "Normal life\n",
      "415\n",
      "(-0.004104115825330277+0j)\n",
      "Normal life\n",
      "416\n",
      "(-0.004108103663647799+0j)\n",
      "Normal life\n",
      "417\n",
      "(-0.0041121059329732946+0j)\n",
      "Normal life\n",
      "418\n",
      "(-0.004116117177050715+0j)\n",
      "Normal life\n",
      "419\n",
      "(-0.004120131885324898+0j)\n",
      "Normal life\n",
      "420\n",
      "(-0.004124144501916126+0j)\n",
      "Normal life\n",
      "421\n",
      "(-0.0041281494349716275+0j)\n",
      "Normal life\n",
      "422\n",
      "(-0.004132141066379109+0j)\n",
      "Normal life\n",
      "423\n",
      "(-0.004136113761824493+0j)\n",
      "Normal life\n",
      "424\n",
      "(-0.004140061881174364+0j)\n",
      "Normal life\n",
      "425\n",
      "(-0.00414397978916103+0j)\n",
      "Normal life\n",
      "426\n",
      "(-0.004147861866345665+0j)\n",
      "Normal life\n",
      "427\n",
      "(-0.004151702520333256+0j)\n",
      "Normal life\n",
      "428\n",
      "(-0.004155496197210117+0j)\n",
      "Normal life\n",
      "429\n",
      "(-0.004159237393173251+0j)\n",
      "Normal life\n",
      "430\n",
      "(-0.004162920666318107+0j)\n",
      "Normal life\n",
      "431\n",
      "(-0.004166540648549762+0j)\n",
      "Normal life\n",
      "432\n",
      "(-0.00417009205758024+0j)\n",
      "Normal life\n",
      "433\n",
      "(-0.004173569708973157+0j)\n",
      "Normal life\n",
      "434\n",
      "(-0.004176968528195103+0j)\n",
      "Normal life\n",
      "435\n",
      "(-0.004180283562631852+0j)\n",
      "Normal life\n",
      "436\n",
      "(-0.004183509993525991+0j)\n",
      "Normal life\n",
      "437\n",
      "(-0.004186643147791801+0j)\n",
      "Normal life\n",
      "438\n",
      "(-0.0041896785096620336+0j)\n",
      "Normal life\n",
      "439\n",
      "(-0.004192611732121127+0j)\n",
      "Normal life\n",
      "440\n",
      "(-0.0041954386480783+0j)\n",
      "Normal life\n",
      "441\n",
      "(-0.004198155281234811+0j)\n",
      "Normal life\n",
      "442\n",
      "(-0.00420075785659913+0j)\n",
      "Normal life\n",
      "443\n",
      "(-0.004203242810604654+0j)\n",
      "Normal life\n",
      "444\n",
      "(-0.004205606800785193+0j)\n",
      "Normal life\n",
      "445\n",
      "(-0.004207846714964659+0j)\n",
      "Normal life\n",
      "446\n",
      "(-0.004209959679918652+0j)\n",
      "Normal life\n",
      "447\n",
      "(-0.004211943069467404+0j)\n",
      "Normal life\n",
      "448\n",
      "(-0.004213794511961264+0j)\n",
      "Normal life\n",
      "449\n",
      "(-0.0042155118971224795+0j)\n",
      "Normal life\n",
      "450\n",
      "(-0.004217093382209128+0j)\n",
      "Normal life\n",
      "451\n",
      "(-0.004218537397470027+0j)\n",
      "Normal life\n",
      "452\n",
      "(-0.004219842650862405+0j)\n",
      "Normal life\n",
      "453\n",
      "(-0.004221008132007127+0j)\n",
      "Normal life\n",
      "454\n",
      "(-0.004222033115359827+0j)\n",
      "Normal life\n",
      "455\n",
      "(-0.004222917162579707+0j)\n",
      "Normal life\n",
      "456\n",
      "(-0.0042236601240815625+0j)\n",
      "Normal life\n",
      "457\n",
      "(-0.004224262139760241+0j)\n",
      "Normal life\n",
      "458\n",
      "(-0.004224723638880701+0j)\n",
      "Normal life\n",
      "459\n",
      "(-0.004225045339130808+0j)\n",
      "Normal life\n",
      "460\n",
      "(-0.004225228244837895+0j)\n",
      "Normal life\n",
      "461\n",
      "(-0.004225273644354009+0j)\n",
      "Normal life\n",
      "462\n",
      "(-0.004225183106618878+0j)\n",
      "Normal life\n",
      "463\n",
      "(-0.004224958476913215+0j)\n",
      "Normal life\n",
      "464\n",
      "(-0.004224601871818978+0j)\n",
      "Normal life\n",
      "465\n",
      "(-0.004224115673406533+0j)\n",
      "Normal life\n",
      "466\n",
      "(-0.004223502522672477+0j)\n",
      "Normal life\n",
      "467\n",
      "(-0.004222765312254867+0j)\n",
      "Normal life\n",
      "468\n",
      "(-0.004221907178455825+0j)\n",
      "Normal life\n",
      "469\n",
      "(-0.004220931492604264+0j)\n",
      "Normal life\n",
      "470\n",
      "(-0.004219841851794346+0j)\n",
      "Normal life\n",
      "471\n",
      "(-0.004218642069037179+0j)\n",
      "Normal life\n",
      "472\n",
      "(-0.0042173361628659+0j)\n",
      "Normal life\n",
      "473\n",
      "(-0.004215928346435575+0j)\n",
      "Normal life\n",
      "474\n",
      "(-0.004214423016161323+0j)\n",
      "Normal life\n",
      "475\n",
      "(-0.004212824739938955+0j)\n",
      "Normal life\n",
      "476\n",
      "(-0.004211138244993579+0j)\n",
      "Normal life\n",
      "477\n",
      "(-0.0042093684054021144+0j)\n",
      "Normal life\n",
      "478\n",
      "(-0.004207520229336084+0j)\n",
      "Normal life\n",
      "479\n",
      "(-0.004205598846071171+0j)\n",
      "Normal life\n",
      "480\n",
      "(-0.0042036094928096625+0j)\n",
      "Normal life\n",
      "481\n",
      "(-0.004201557501361734+0j)\n",
      "Normal life\n",
      "482\n",
      "(-0.004199448284730365+0j)\n",
      "Normal life\n",
      "483\n",
      "(-0.004197287323644325+0j)\n",
      "Normal life\n",
      "484\n",
      "(-0.004195080153081998+0j)\n",
      "Normal life\n",
      "485\n",
      "(-0.004192832348827719+0j)\n",
      "Normal life\n",
      "486\n",
      "(-0.004190549514100805+0j)\n",
      "Normal life\n",
      "487\n",
      "(-0.004188237266295593+0j)\n",
      "Normal life\n",
      "488\n",
      "(-0.0041859012238692865+0j)\n",
      "Normal life\n",
      "489\n",
      "(-0.00418354699341204+0j)\n",
      "Normal life\n",
      "490\n",
      "(-0.004181180156932219+0j)\n",
      "Normal life\n",
      "491\n",
      "(-0.004178806259387251+0j)\n",
      "Normal life\n",
      "492\n",
      "(-0.004176430796488504+0j)\n",
      "Normal life\n",
      "493\n",
      "(-0.00417405920280659+0j)\n",
      "Normal life\n",
      "494\n",
      "(-0.004171696840200951+0j)\n",
      "Normal life\n",
      "495\n",
      "(-0.004169348986595793+0j)\n",
      "Normal life\n",
      "496\n",
      "(-0.0041670208251220675+0j)\n",
      "Normal life\n",
      "497\n",
      "(-0.004164717433642958+0j)\n",
      "Normal life\n",
      "498\n",
      "(-0.004162443774678615+0j)\n",
      "Normal life\n",
      "499\n",
      "(-0.004160204685743575+0j)\n",
      "Normal life\n",
      "500\n",
      "(-0.004158004870108392+0j)\n",
      "Tejas is unlucky\n",
      "Attempted iterations  501\n"
     ]
    }
   ],
   "source": [
    "xi_opt = terminator(1000,time_steps=len(times), total_time= total_time_evo,\n",
    "               epsilon= ((0.1*2*pi)/(10**3)))"
   ]
  },
  {
   "cell_type": "code",
   "execution_count": 80,
   "metadata": {
    "ExecuteTime": {
     "end_time": "2019-02-21T17:38:16.981807Z",
     "start_time": "2019-02-21T17:38:16.979882Z"
    }
   },
   "outputs": [],
   "source": [
    "time_steps=len(times)\n",
    "total_time= total_time_evo\n",
    "epsilon = ((0.1*2*pi)/(times[-1]))"
   ]
  },
  {
   "cell_type": "code",
   "execution_count": 81,
   "metadata": {
    "ExecuteTime": {
     "end_time": "2019-02-21T17:38:17.675553Z",
     "start_time": "2019-02-21T17:38:16.982872Z"
    }
   },
   "outputs": [
    {
     "data": {
      "text/plain": [
       "-4.223521363583253"
      ]
     },
     "execution_count": 81,
     "metadata": {},
     "output_type": "execute_result"
    }
   ],
   "source": [
    "dt = (2*pi)/500\n",
    "F(xi_opt, dt)"
   ]
  },
  {
   "cell_type": "code",
   "execution_count": 82,
   "metadata": {
    "ExecuteTime": {
     "end_time": "2019-02-21T17:38:18.255204Z",
     "start_time": "2019-02-21T17:38:17.676769Z"
    }
   },
   "outputs": [
    {
     "data": {
      "text/plain": [
       "-0.9548251600432889"
      ]
     },
     "execution_count": 82,
     "metadata": {},
     "output_type": "execute_result"
    }
   ],
   "source": [
    "F(result.u[-1, 0, : ], dt)"
   ]
  },
  {
   "cell_type": "code",
   "execution_count": 83,
   "metadata": {
    "ExecuteTime": {
     "end_time": "2019-02-21T17:38:18.846841Z",
     "start_time": "2019-02-21T17:38:18.256557Z"
    }
   },
   "outputs": [
    {
     "data": {
      "text/latex": [
       "Quantum object: dims = [[2, 2], [2, 2]], shape = (4, 4), type = oper, isherm = False\\begin{equation*}\\left(\\begin{array}{*{11}c}0.292 & (-0.098+0.089j) & (-0.098-0.089j) & 0.708\\\\(0.108-0.091j) & (-0.086-0.061j) & (-0.362-0.032j) & (-0.108+0.091j)\\\\(0.108+0.091j) & (-0.362+0.032j) & (-0.086+0.061j) & (-0.108-0.091j)\\\\0.708 & (0.098-0.089j) & (0.098+0.089j) & 0.292\\\\\\end{array}\\right)\\end{equation*}"
      ],
      "text/plain": [
       "Quantum object: dims = [[2, 2], [2, 2]], shape = (4, 4), type = oper, isherm = False\n",
       "Qobj data =\n",
       "[[ 0.29195215+0.j         -0.09831819+0.08881595j -0.09831819-0.08881595j\n",
       "   0.70804785+0.j        ]\n",
       " [ 0.10823049-0.09111117j -0.0863594 -0.06093833j -0.36160758-0.03165887j\n",
       "  -0.10823049+0.09111117j]\n",
       " [ 0.10823049+0.09111117j -0.36160758+0.03165887j -0.0863594 +0.06093833j\n",
       "  -0.10823049-0.09111117j]\n",
       " [ 0.70804785+0.j          0.09831819-0.08881595j  0.09831819+0.08881595j\n",
       "   0.29195215+0.j        ]]"
      ]
     },
     "execution_count": 83,
     "metadata": {},
     "output_type": "execute_result"
    }
   ],
   "source": [
    "L_full_maker(xi_opt, dt)"
   ]
  },
  {
   "cell_type": "code",
   "execution_count": 84,
   "metadata": {
    "ExecuteTime": {
     "end_time": "2019-02-21T17:38:18.850910Z",
     "start_time": "2019-02-21T17:38:18.848129Z"
    }
   },
   "outputs": [
    {
     "data": {
      "text/plain": [
       "500"
      ]
     },
     "execution_count": 84,
     "metadata": {},
     "output_type": "execute_result"
    }
   ],
   "source": [
    "len(times)"
   ]
  },
  {
   "cell_type": "code",
   "execution_count": 85,
   "metadata": {
    "ExecuteTime": {
     "end_time": "2019-02-21T17:38:18.920714Z",
     "start_time": "2019-02-21T17:38:18.852551Z"
    }
   },
   "outputs": [],
   "source": [
    "new_label = [r'$g_{with diss}$']"
   ]
  },
  {
   "cell_type": "markdown",
   "metadata": {
    "ExecuteTime": {
     "end_time": "2019-02-14T15:50:39.160854Z",
     "start_time": "2019-02-14T15:50:39.155605Z"
    }
   },
   "source": [
    "'''plot_grape_control_fields(times,\n",
    "                          xi_opt / (2 * np.pi), new_label, uniform_axes=True);\n",
    "ValueError                                Traceback (most recent call last)\n",
    "<ipython-input-67-f3ebb7c23258> in <module>()\n",
    "      1 plot_grape_control_fields(times,\n",
    "----> 2                           xi_opt / (2 * np.pi), new_label, uniform_axes=True);\n",
    "\n",
    "/anaconda3/envs/qutip-env/lib/python3.6/site-packages/qutip/control/grape.py in plot_grape_control_fields(times, u, labels, uniform_axes)\n",
    "    101     import matplotlib.pyplot as plt\n",
    "    102 \n",
    "--> 103     R, J, M = u.shape\n",
    "    104 \n",
    "    105     fig, axes = plt.subplots(J, 1, figsize=(8, 2 * J), squeeze=False)\n",
    "\n",
    "ValueError: not enough values to unpack (expected 3, got 1) '''"
   ]
  },
  {
   "cell_type": "code",
   "execution_count": 86,
   "metadata": {
    "ExecuteTime": {
     "end_time": "2019-02-21T17:38:19.078052Z",
     "start_time": "2019-02-21T17:38:18.922470Z"
    }
   },
   "outputs": [
    {
     "name": "stderr",
     "output_type": "stream",
     "text": [
      "/home/tejas/anaconda3/envs/qutip-env/lib/python3.6/site-packages/numpy/core/numeric.py:501: ComplexWarning: Casting complex values to real discards the imaginary part\n",
      "  return array(a, dtype, copy=False, order=order)\n"
     ]
    },
    {
     "data": {
      "image/png": "[encoded data removed]",
      "text/plain": [
       "<Figure size 432x288 with 1 Axes>"
      ]
     },
     "metadata": {
      "needs_background": "light"
     },
     "output_type": "display_data"
    }
   ],
   "source": [
    "ax = axes()\n",
    "ax.plot(times, xi_opt)\n",
    "ax.set(xlim=(0, total_time_evo), ylim=(-0.8,0.8 ),\n",
    "       xlabel='time', ylabel= r'$g_{with diss}$',\n",
    "       title='Control field in the presence of dissipation');"
   ]
  },
  {
   "cell_type": "code",
   "execution_count": 87,
   "metadata": {
    "ExecuteTime": {
     "end_time": "2019-02-21T17:38:19.188567Z",
     "start_time": "2019-02-21T17:38:19.079734Z"
    }
   },
   "outputs": [
    {
     "name": "stderr",
     "output_type": "stream",
     "text": [
      "/home/tejas/anaconda3/envs/qutip-env/lib/python3.6/site-packages/numpy/core/numeric.py:501: ComplexWarning: Casting complex values to real discards the imaginary part\n",
      "  return array(a, dtype, copy=False, order=order)\n",
      "/home/tejas/anaconda3/envs/qutip-env/lib/python3.6/site-packages/matplotlib/transforms.py:968: ComplexWarning: Casting complex values to real discards the imaginary part\n",
      "  self._points[:, 1] = interval\n"
     ]
    },
    {
     "data": {
      "image/png": "[encoded data removed]",
      "text/plain": [
       "<Figure size 432x288 with 1 Axes>"
      ]
     },
     "metadata": {
      "needs_background": "light"
     },
     "output_type": "display_data"
    }
   ],
   "source": [
    "ax = axes()\n",
    "ax.plot(times, xi_opt)\n",
    "xi_max = amax(xi_opt) + 0.1\n",
    "xi_min = amin(xi_opt) - 0.1\n",
    "\n",
    "ax.set(xlim=(0, total_time_evo), ylim=(xi_min, xi_max),\n",
    "       xlabel='time', ylabel= r'$g_{with diss}$',\n",
    "       title='Control field in the presence of dissipation');"
   ]
  },
  {
   "cell_type": "code",
   "execution_count": 88,
   "metadata": {
    "ExecuteTime": {
     "end_time": "2019-02-21T17:38:19.307013Z",
     "start_time": "2019-02-21T17:38:19.190359Z"
    }
   },
   "outputs": [
    {
     "data": {
      "image/png": "[encoded data removed]",
      "text/plain": [
       "<Figure size 432x288 with 1 Axes>"
      ]
     },
     "metadata": {
      "needs_background": "light"
     },
     "output_type": "display_data"
    }
   ],
   "source": [
    "ax = axes()\n",
    "ax.plot(times, result.u[-1, 0, : ])\n",
    "xi_max = amax(result.u[-1, 0, : ]) + 0.1\n",
    "xi_min = amin(result.u[-1, 0, : ]) - 0.1\n",
    "\n",
    "ax.set(xlim=(0, total_time_evo), ylim=(xi_min, xi_max),\n",
    "       xlabel='time', ylabel= r'$g_{with diss}$',\n",
    "       title='old Control field in the presence of \\\n",
    "              dissipation produced by qutip');"
   ]
  },
  {
   "cell_type": "markdown",
   "metadata": {},
   "source": [
    "### try"
   ]
  },
  {
   "cell_type": "code",
   "execution_count": null,
   "metadata": {
    "ExecuteTime": {
     "start_time": "2019-02-16T11:07:41.757Z"
    }
   },
   "outputs": [
    {
     "name": "stdout",
     "output_type": "stream",
     "text": [
      "Hi\n",
      "Normal life\n",
      "0\n",
      "(-0.00020753243309379625+0j)\n",
      "Normal life\n",
      "1\n",
      "(-0.00020753641747353672+0j)\n",
      "Normal life\n",
      "2\n",
      "(-0.00020754046637570152+0j)\n",
      "Normal life\n",
      "3\n",
      "(-0.00020754457975832828+0j)\n",
      "Normal life\n",
      "4\n",
      "(-0.00020754875757959313+0j)\n",
      "Normal life\n",
      "5\n",
      "(-0.00020755299979780982+0j)\n",
      "Normal life\n",
      "6\n",
      "(-0.00020755730637142658+0j)\n",
      "Normal life\n",
      "7\n",
      "(-0.00020756167725903375+0j)\n",
      "Normal life\n",
      "8\n",
      "(-0.0002075661124193562+0j)\n",
      "Normal life\n",
      "9\n",
      "(-0.00020757061181125858+0j)\n",
      "Normal life\n",
      "10\n",
      "(-0.00020757517539373994+0j)\n",
      "Normal life\n",
      "11\n",
      "(-0.00020757980312594352+0j)\n",
      "Normal life\n",
      "12\n",
      "(-0.00020758449496714715+0j)\n",
      "Normal life\n",
      "13\n",
      "(-0.00020758925087676676+0j)\n",
      "Normal life\n",
      "14\n",
      "(-0.00020759407081435798+0j)\n",
      "Normal life\n",
      "15\n",
      "(-0.00020759895473961422+0j)\n",
      "Normal life\n",
      "16\n",
      "(-0.00020760390261236676+0j)\n",
      "Normal life\n",
      "17\n",
      "(-0.00020760891439258934+0j)\n",
      "Normal life\n",
      "18\n",
      "(-0.00020761399004039235+0j)\n",
      "Normal life\n",
      "19\n",
      "(-0.00020761912951602185+0j)\n",
      "Normal life\n",
      "20\n",
      "(-0.0002076243327798692+0j)\n",
      "Normal life\n",
      "21\n",
      "(-0.00020762959979246255+0j)\n",
      "Normal life\n",
      "22\n",
      "(-0.0002076349305144692+0j)\n",
      "Normal life\n",
      "23\n",
      "(-0.00020764032490669637+0j)\n",
      "Normal life\n",
      "24\n",
      "(-0.00020764578293008893+0j)\n",
      "Normal life\n",
      "25\n",
      "(-0.00020765130454574834+0j)\n",
      "Normal life\n",
      "26\n",
      "(-0.00020765688971486186+0j)\n",
      "Normal life\n",
      "27\n",
      "(-0.0002076625383988348+0j)\n",
      "Normal life\n",
      "28\n",
      "(-0.00020766825055916054+0j)\n",
      "Normal life\n",
      "29\n",
      "(-0.00020767402615748653+0j)\n",
      "Normal life\n",
      "30\n",
      "(-0.00020767986515560094+0j)\n",
      "Normal life\n",
      "31\n",
      "(-0.0002076857675154321+0j)\n",
      "Normal life\n",
      "32\n",
      "(-0.00020769173319904754+0j)\n",
      "Normal life\n",
      "33\n",
      "(-0.00020769776216865725+0j)\n",
      "Normal life\n",
      "34\n",
      "(-0.00020770385438661175+0j)\n",
      "Normal life\n",
      "35\n",
      "(-0.00020771000981540316+0j)\n",
      "Normal life\n",
      "36\n",
      "(-0.00020771622841766417+0j)\n",
      "Normal life\n",
      "37\n",
      "(-0.00020772251015616685+0j)\n",
      "Normal life\n",
      "38\n",
      "(-0.00020772885499383166+0j)\n",
      "Normal life\n",
      "39\n",
      "(-0.00020773526289371086+0j)\n",
      "Normal life\n",
      "40\n",
      "(-0.00020774173381900562+0j)\n",
      "Normal life\n",
      "41\n",
      "(-0.00020774826773305519+0j)\n",
      "Normal life\n",
      "42\n",
      "(-0.00020775486459934233+0j)\n",
      "Normal life\n",
      "43\n",
      "(-0.00020776152438149395+0j)\n",
      "Normal life\n",
      "44\n",
      "(-0.00020776824704327586+0j)\n",
      "Normal life\n",
      "45\n",
      "(-0.00020777503254859527+0j)\n",
      "Normal life\n",
      "46\n",
      "(-0.0002077818808615047+0j)\n",
      "Normal life\n",
      "47\n",
      "(-0.00020778879194621773+0j)\n",
      "Normal life\n",
      "48\n",
      "(-0.00020779576576701435+0j)\n",
      "Normal life\n",
      "49\n",
      "(-0.0002078028022884314+0j)\n",
      "Normal life\n",
      "50\n",
      "(-0.00020780990147507223+0j)\n",
      "Normal life\n",
      "51\n",
      "(-0.00020781706329170232+0j)\n",
      "Normal life\n",
      "52\n",
      "(-0.00020782428770323163+0j)\n",
      "Normal life\n",
      "53\n",
      "(-0.00020783157467471153+0j)\n",
      "Normal life\n",
      "54\n",
      "(-0.00020783892417133883+0j)\n",
      "Normal life\n",
      "55\n",
      "(-0.0002078463361584529+0j)\n",
      "Normal life\n",
      "56\n",
      "(-0.0002078538106015345+0j)\n",
      "Normal life\n",
      "57\n",
      "(-0.0002078613474662149+0j)\n",
      "Normal life\n",
      "58\n",
      "(-0.00020786894671826208+0j)\n",
      "Normal life\n",
      "59\n",
      "(-0.0002078766083235934+0j)\n",
      "Normal life\n",
      "60\n",
      "(-0.00020788433224826818+0j)\n",
      "Normal life\n",
      "61\n",
      "(-0.000207892118458488+0j)\n",
      "Normal life\n",
      "62\n",
      "(-0.00020789996692060258+0j)\n",
      "Normal life\n",
      "63\n",
      "(-0.00020790787760110752+0j)\n",
      "Normal life\n",
      "64\n",
      "(-0.00020791585046663668+0j)\n",
      "Normal life\n",
      "65\n",
      "(-0.00020792388548397523+0j)\n",
      "Normal life\n",
      "66\n",
      "(-0.00020793198262005153+0j)\n",
      "Normal life\n",
      "67\n",
      "(-0.00020794014184193774+0j)\n",
      "Normal life\n",
      "68\n",
      "(-0.0002079483631169189+0j)\n",
      "Normal life\n",
      "69\n",
      "(-0.00020795664641216202+0j)\n",
      "Normal life\n",
      "70\n",
      "(-0.00020796499169537178+0j)\n",
      "Normal life\n",
      "71\n",
      "(-0.00020797339893414052+0j)\n",
      "Normal life\n",
      "72\n",
      "(-0.0002079818680962698+0j)\n",
      "Normal life\n",
      "73\n",
      "(-0.00020799039914970216+0j)\n",
      "Normal life\n",
      "74\n",
      "(-0.0002079989920625373+0j)\n",
      "Normal life\n",
      "75\n",
      "(-0.0002080076468030097+0j)\n",
      "Normal life\n",
      "76\n",
      "(-0.0002080163633395081+0j)\n",
      "Normal life\n",
      "77\n",
      "(-0.00020802514164056562+0j)\n",
      "Normal life\n",
      "78\n",
      "(-0.00020803398167485934+0j)\n",
      "Normal life\n",
      "79\n",
      "(-0.000208042883411239+0j)\n",
      "Normal life\n",
      "80\n",
      "(-0.00020805184681861355+0j)\n",
      "Normal life\n",
      "81\n",
      "(-0.0002080608718661654+0j)\n",
      "Normal life\n",
      "82\n",
      "(-0.00020806995852315575+0j)\n",
      "Normal life\n",
      "83\n",
      "(-0.0002080791067589589+0j)\n",
      "Normal life\n",
      "84\n",
      "(-0.0002080883165431788+0j)\n",
      "Normal life\n",
      "85\n",
      "(-0.00020809758784550992+0j)\n",
      "Normal life\n",
      "86\n",
      "(-0.00020810692063581235+0j)\n",
      "Normal life\n",
      "87\n",
      "(-0.00020811631488408885+0j)\n",
      "Normal life\n",
      "88\n",
      "(-0.00020812577056049817+0j)\n",
      "Normal life\n",
      "89\n",
      "(-0.00020813528763533704+0j)\n",
      "Normal life\n",
      "90\n",
      "(-0.00020814486607906074+0j)\n",
      "Normal life\n",
      "91\n",
      "(-0.0002081545058622707+0j)\n",
      "Normal life\n",
      "92\n",
      "(-0.00020816420695569915+0j)\n",
      "Normal life\n",
      "93\n",
      "(-0.00020817396933026008+0j)\n",
      "Normal life\n",
      "94\n",
      "(-0.00020818379295699281+0j)\n",
      "Normal life\n",
      "95\n",
      "(-0.0002081936778070901+0j)\n",
      "Normal life\n",
      "96\n",
      "(-0.00020820362385189634+0j)\n",
      "Normal life\n",
      "97\n",
      "(-0.0002082136310629059+0j)\n",
      "Normal life\n",
      "98\n",
      "(-0.00020822369941176142+0j)\n",
      "Normal life\n",
      "99\n",
      "(-0.0002082338288702529+0j)\n",
      "Normal life\n",
      "100\n",
      "(-0.000208244019410323+0j)\n",
      "Normal life\n",
      "101\n",
      "(-0.00020825427100406663+0j)\n",
      "Normal life\n",
      "102\n",
      "(-0.00020826458362372186+0j)\n",
      "Normal life\n",
      "103\n",
      "(-0.0002082749572416813+0j)\n",
      "Normal life\n",
      "104\n",
      "(-0.00020828539183049074+0j)\n",
      "Normal life\n",
      "105\n",
      "(-0.00020829588736283832+0j)\n",
      "Normal life\n",
      "106\n",
      "(-0.0002083064438116396+0j)\n",
      "Normal life\n",
      "107\n",
      "(-0.00020831706114968318+0j)\n",
      "Normal life\n",
      "108\n",
      "(-0.0002083277393503188+0j)\n",
      "Normal life\n",
      "109\n",
      "(-0.00020833847838677572+0j)\n",
      "Normal life\n",
      "110\n",
      "(-0.00020834927823249857+0j)\n",
      "Normal life\n",
      "111\n",
      "(-0.0002083601388610916+0j)\n",
      "Normal life\n",
      "112\n",
      "(-0.00020837106024630057+0j)\n",
      "Normal life\n",
      "113\n",
      "(-0.00020838204236203002+0j)\n",
      "Normal life\n",
      "114\n",
      "(-0.0002083930851823349+0j)\n",
      "Normal life\n",
      "115\n",
      "(-0.00020840418868141837+0j)\n",
      "Normal life\n",
      "116\n",
      "(-0.00020841535283364+0j)\n",
      "Normal life\n",
      "117\n",
      "(-0.00020842657761351005+0j)\n",
      "Normal life\n",
      "118\n",
      "(-0.0002084378629956913+0j)\n",
      "Normal life\n",
      "119\n",
      "(-0.00020844920895500001+0j)\n",
      "Normal life\n",
      "120\n",
      "(-0.00020846061546640123+0j)\n",
      "Normal life\n",
      "121\n",
      "(-0.00020847208250502+0j)\n",
      "Normal life\n",
      "122\n",
      "(-0.00020848361004612693+0j)\n",
      "Normal life\n",
      "123\n",
      "(-0.00020849519806514943+0j)\n",
      "Normal life\n",
      "124\n",
      "(-0.00020850684653766802+0j)\n",
      "Normal life\n",
      "125\n",
      "(-0.00020851855543941808+0j)\n",
      "Normal life\n",
      "126\n",
      "(-0.00020853032474628413+0j)\n",
      "Normal life\n",
      "127\n",
      "(-0.00020854215443430905+0j)\n",
      "Normal life\n",
      "128\n",
      "(-0.00020855404447968592+0j)\n",
      "Normal life\n",
      "129\n",
      "(-0.00020856599485876638+0j)\n",
      "Normal life\n",
      "130\n",
      "(-0.00020857800554805128+0j)\n",
      "Normal life\n",
      "131\n",
      "(-0.00020859007652419836+0j)\n",
      "Normal life\n",
      "132\n",
      "(-0.00020860220776402035+0j)\n",
      "Normal life\n",
      "133\n",
      "(-0.00020861439924448315+0j)\n",
      "Normal life\n",
      "134\n",
      "(-0.0002086266509427102+0j)\n",
      "Normal life\n",
      "135\n",
      "(-0.0002086389628359748+0j)\n",
      "Normal life\n",
      "136\n",
      "(-0.00020865133490170963+0j)\n",
      "Normal life\n",
      "137\n",
      "(-0.00020866376711750186+0j)\n",
      "Normal life\n",
      "138\n",
      "(-0.00020867625946113927+0j)\n",
      "Normal life\n",
      "139\n",
      "(-0.0002086888119103807+0j)\n",
      "Normal life\n",
      "140\n",
      "(-0.00020870142444341885+0j)\n",
      "Normal life\n",
      "141\n",
      "(-0.00020871409703841494+0j)\n",
      "Normal life\n",
      "142\n",
      "(-0.00020872682967373668+0j)\n",
      "Normal life\n",
      "143\n",
      "(-0.00020873962232790494+0j)\n",
      "Normal life\n",
      "144\n",
      "(-0.00020875247497959646+0j)\n",
      "Normal life\n",
      "145\n",
      "(-0.00020876538760764495+0j)\n",
      "Normal life\n",
      "146\n",
      "(-0.00020877836019104137+0j)\n",
      "Normal life\n",
      "147\n",
      "(-0.00020879139270893544+0j)\n",
      "Normal life\n",
      "148\n",
      "(-0.00020880448514062848+0j)\n",
      "Normal life\n",
      "149\n",
      "(-0.00020881763746558564+0j)\n",
      "Normal life\n",
      "150\n",
      "(-0.0002088308496634244+0j)\n",
      "Normal life\n",
      "151\n",
      "(-0.00020884412171392002+0j)\n",
      "Normal life\n",
      "152\n",
      "(-0.000208857453597007+0j)\n",
      "Normal life\n",
      "153\n",
      "(-0.0002088708452927777+0j)\n",
      "Normal life\n",
      "154\n",
      "(-0.00020888429678147947+0j)\n",
      "Normal life\n",
      "155\n",
      "(-0.0002088978080435223+0j)\n",
      "Normal life\n",
      "156\n",
      "(-0.0002089113790594705+0j)\n",
      "Normal life\n",
      "157\n",
      "(-0.0002089250098100489+0j)\n",
      "Normal life\n",
      "158\n",
      "(-0.00020893870027613887+0j)\n",
      "Normal life\n",
      "159\n",
      "(-0.00020895245043878375+0j)\n",
      "Normal life\n",
      "160\n",
      "(-0.00020896626027918107+0j)\n",
      "Normal life\n",
      "161\n",
      "(-0.00020898012977869028+0j)\n",
      "Normal life\n",
      "162\n",
      "(-0.0002089940589188307+0j)\n",
      "Normal life\n",
      "163\n",
      "(-0.00020900804768127852+0j)\n",
      "Normal life\n",
      "164\n",
      "(-0.00020902209604787197+0j)\n",
      "Normal life\n",
      "165\n",
      "(-0.0002090362040006072+0j)\n",
      "Normal life\n",
      "166\n",
      "(-0.00020905037152163945+0j)\n",
      "Normal life\n",
      "167\n",
      "(-0.0002090645985932854+0j)\n",
      "Normal life\n",
      "168\n",
      "(-0.00020907888519802178+0j)\n",
      "Normal life\n",
      "169\n",
      "(-0.0002090932313184842+0j)\n",
      "Normal life\n",
      "170\n",
      "(-0.00020910763693747018+0j)\n",
      "Normal life\n",
      "171\n",
      "(-0.00020912210203793673+0j)\n",
      "Normal life\n",
      "172\n",
      "(-0.00020913662660300233+0j)\n",
      "Normal life\n",
      "173\n",
      "(-0.000209151210615948+0j)\n",
      "Normal life\n",
      "174\n",
      "(-0.00020916585406021164+0j)\n",
      "Normal life\n",
      "175\n",
      "(-0.000209180556919393+0j)\n",
      "Normal life\n",
      "176\n",
      "(-0.0002091953191772588+0j)\n",
      "Normal life\n",
      "177\n",
      "(-0.00020921014081772983+0j)\n",
      "Normal life\n",
      "178\n",
      "(-0.00020922502182489422+0j)\n",
      "Normal life\n",
      "179\n",
      "(-0.00020923996218299843+0j)\n",
      "Normal life\n",
      "180\n",
      "(-0.00020925496187645517+0j)\n",
      "Normal life\n",
      "181\n",
      "(-0.00020927002088983268+0j)\n",
      "Normal life\n",
      "182\n",
      "(-0.00020928513920786694+0j)\n",
      "Normal life\n",
      "183\n",
      "(-0.00020930031681545445+0j)\n",
      "Normal life\n",
      "184\n",
      "(-0.00020931555369765496+0j)\n",
      "Normal life\n",
      "185\n",
      "(-0.00020933084983969268+0j)\n",
      "Normal life\n"
     ]
    },
    {
     "name": "stdout",
     "output_type": "stream",
     "text": [
      "186\n",
      "(-0.00020934620522694976+0j)\n",
      "Normal life\n",
      "187\n",
      "(-0.00020936161984497472+0j)\n",
      "Normal life\n",
      "188\n",
      "(-0.00020937709367948204+0j)\n",
      "Normal life\n",
      "189\n",
      "(-0.00020939262671637292+0j)\n",
      "Normal life\n",
      "190\n",
      "(-0.00020940821894160618+0j)\n",
      "Normal life\n",
      "191\n",
      "(-0.00020942387034146345+0j)\n",
      "Normal life\n",
      "192\n",
      "(-0.0002094395809022859+0j)\n",
      "Normal life\n",
      "193\n",
      "(-0.00020945535061060494+0j)\n",
      "Normal life\n",
      "194\n",
      "(-0.00020947117945311326+0j)\n",
      "Normal life\n",
      "195\n",
      "(-0.00020948706741667316+0j)\n",
      "Normal life\n",
      "196\n",
      "(-0.00020950301448830928+0j)\n",
      "Normal life\n",
      "197\n",
      "(-0.00020951902065520812+0j)\n",
      "Normal life\n",
      "198\n",
      "(-0.00020953508590472377+0j)\n",
      "Normal life\n",
      "199\n",
      "(-0.00020955121022437842+0j)\n",
      "Normal life\n",
      "200\n",
      "(-0.0002095673936018541+0j)\n",
      "Normal life\n",
      "201\n",
      "(-0.00020958363602500128+0j)\n",
      "Normal life\n",
      "202\n",
      "(-0.00020959993748186152+0j)\n",
      "Normal life\n",
      "203\n",
      "(-0.0002096162979605407+0j)\n",
      "Normal life\n",
      "204\n",
      "(-0.00020963271744946135+0j)\n",
      "Normal life\n",
      "205\n",
      "(-0.00020964919593711038+0j)\n",
      "Normal life\n",
      "206\n",
      "(-0.00020966573341217015+0j)\n",
      "Normal life\n",
      "207\n",
      "(-0.00020968232986348518+0j)\n",
      "Normal life\n",
      "208\n",
      "(-0.00020969898528006896+0j)\n",
      "Normal life\n",
      "209\n",
      "(-0.00020971569965110113+0j)\n",
      "Normal life\n",
      "210\n",
      "(-0.00020973247296592764+0j)\n",
      "Normal life\n",
      "211\n",
      "(-0.00020974930521406378+0j)\n",
      "Normal life\n",
      "212\n",
      "(-0.00020976619638518915+0j)\n",
      "Normal life\n",
      "213\n",
      "(-0.0002097831464691544+0j)\n",
      "Normal life\n",
      "214\n",
      "(-0.00020980015545600232+0j)\n",
      "Normal life\n",
      "215\n",
      "(-0.00020981722333583046+0j)\n",
      "Normal life\n",
      "216\n",
      "(-0.00020983435009907852+0j)\n",
      "Normal life\n",
      "217\n",
      "(-0.0002098515357362377+0j)\n",
      "Normal life\n",
      "218\n",
      "(-0.00020986878023799595+0j)\n",
      "Normal life\n",
      "219\n",
      "(-0.00020988608359521192+0j)\n",
      "Normal life\n",
      "220\n",
      "(-0.00020990344579890712+0j)\n",
      "Normal life\n",
      "221\n",
      "(-0.000209920866840281+0j)\n",
      "Normal life\n",
      "222\n",
      "(-0.00020993834671069432+0j)\n",
      "Normal life\n",
      "223\n",
      "(-0.00020995588540167985+0j)\n",
      "Normal life\n",
      "224\n",
      "(-0.00020997348290494028+0j)\n",
      "Normal life\n",
      "225\n",
      "(-0.0002099911392123465+0j)\n",
      "Normal life\n",
      "226\n",
      "(-0.00021000885431593885+0j)\n",
      "Normal life\n",
      "227\n",
      "(-0.00021002662820792997+0j)\n",
      "Normal life\n",
      "228\n",
      "(-0.00021004446088069832+0j)\n",
      "Normal life\n",
      "229\n",
      "(-0.0002100623523267983+0j)\n",
      "Normal life\n",
      "230\n",
      "(-0.0002100803025389493+0j)\n",
      "Normal life\n",
      "231\n",
      "(-0.00021009831151004468+0j)\n",
      "Normal life\n",
      "232\n",
      "(-0.0002101163792331514+0j)\n",
      "Normal life\n",
      "233\n",
      "(-0.00021013450570148777+0j)\n",
      "Normal life\n",
      "234\n",
      "(-0.00021015269090847536+0j)\n",
      "Normal life\n",
      "235\n",
      "(-0.00021017093484768237+0j)\n",
      "Normal life\n",
      "236\n",
      "(-0.0002101892375128568+0j)\n",
      "Normal life\n",
      "237\n",
      "(-0.0002102075988979191+0j)\n",
      "Normal life\n",
      "238\n",
      "(-0.00021022601899695897+0j)\n",
      "Normal life\n",
      "239\n",
      "(-0.00021024449780423916+0j)\n",
      "Normal life\n",
      "240\n",
      "(-0.00021026303531419187+0j)\n",
      "Normal life\n",
      "241\n",
      "(-0.0002102816315214289+0j)\n",
      "Normal life\n",
      "242\n",
      "(-0.0002103002864208051+0j)\n",
      "Normal life\n",
      "243\n",
      "(-0.00021031900000703383+0j)\n",
      "Normal life\n",
      "244\n",
      "(-0.00021033777227548057+0j)\n",
      "Normal life\n",
      "245\n",
      "(-0.0002103566032213612+0j)\n",
      "Normal life\n",
      "246\n",
      "(-0.00021037549284014804+0j)\n",
      "Normal life\n",
      "247\n",
      "(-0.00021039444112748378+0j)\n",
      "Normal life\n",
      "248\n",
      "(-0.00021041344807918585+0j)\n",
      "Normal life\n",
      "249\n",
      "(-0.00021043251369124577+0j)\n",
      "Normal life\n",
      "250\n",
      "(-0.00021045163795982855+0j)\n",
      "Normal life\n",
      "251\n",
      "(-0.00021047082088127358+0j)\n",
      "Normal life\n",
      "252\n",
      "(-0.00021049006245209455+0j)\n",
      "Normal life\n",
      "253\n",
      "(-0.00021050936266897656+0j)\n",
      "Normal life\n",
      "254\n",
      "(-0.000210528721528783+0j)\n",
      "Normal life\n",
      "255\n",
      "(-0.00021054813902855155+0j)\n",
      "Normal life\n",
      "256\n",
      "(-0.000210567615165489+0j)\n",
      "Normal life\n",
      "257\n",
      "(-0.00021058714993698796+0j)\n",
      "Normal life\n",
      "258\n",
      "(-0.00021060674334060677+0j)\n",
      "Normal life\n",
      "259\n",
      "(-0.0002106263953740814+0j)\n",
      "Normal life\n",
      "260\n",
      "(-0.0002106461060353274+0j)\n",
      "Normal life\n",
      "261\n",
      "(-0.00021066587532243255+0j)\n",
      "Normal life\n",
      "262\n",
      "(-0.00021068570323366065+0j)\n",
      "Normal life\n",
      "263\n",
      "(-0.00021070558976745042+0j)\n",
      "Normal life\n",
      "264\n",
      "(-0.00021072553492242036+0j)\n",
      "Normal life\n",
      "265\n",
      "(-0.00021074553869736563+0j)\n",
      "Normal life\n",
      "266\n",
      "(-0.0002107656010912511+0j)\n",
      "Normal life\n",
      "267\n",
      "(-0.00021078572210322583+0j)\n",
      "Normal life\n",
      "268\n",
      "(-0.00021080590173261295+0j)\n",
      "Normal life\n",
      "269\n",
      "(-0.00021082613997891366+0j)\n",
      "Normal life\n",
      "270\n",
      "(-0.00021084643684180605+0j)\n",
      "Normal life\n",
      "271\n",
      "(-0.00021086679232114466+0j)\n",
      "Normal life\n",
      "272\n",
      "(-0.0002108872064169633+0j)\n",
      "Normal life\n",
      "273\n",
      "(-0.00021090767912947169+0j)\n",
      "Normal life\n",
      "274\n",
      "(-0.00021092821045906037+0j)\n",
      "Normal life\n",
      "275\n",
      "(-0.00021094880040629495+0j)\n",
      "Normal life\n",
      "276\n",
      "(-0.00021096944897192228+0j)\n",
      "Normal life\n",
      "277\n",
      "(-0.00021099015615686707+0j)\n",
      "Normal life\n",
      "278\n",
      "(-0.0002110109219622302+0j)\n",
      "Normal life\n",
      "279\n",
      "(-0.00021103174638929527+0j)\n",
      "Normal life\n",
      "280\n",
      "(-0.00021105262943952406+0j)\n",
      "Normal life\n",
      "281\n",
      "(-0.00021107357111455166+0j)\n",
      "Normal life\n",
      "282\n",
      "(-0.00021109457141620298+0j)\n",
      "Normal life\n",
      "283\n",
      "(-0.0002111156303464728+0j)\n",
      "Normal life\n",
      "284\n",
      "(-0.00021113674790754623+0j)\n",
      "Normal life\n",
      "285\n",
      "(-0.0002111579241017768+0j)\n",
      "Normal life\n",
      "286\n",
      "(-0.00021117915893170694+0j)\n",
      "Normal life\n",
      "287\n",
      "(-0.00021120045240005346+0j)\n",
      "Normal life\n",
      "288\n",
      "(-0.00021122180450971792+0j)\n",
      "Normal life\n",
      "289\n",
      "(-0.00021124321526378248+0j)\n",
      "Normal life\n",
      "290\n",
      "(-0.0002112646846655048+0j)\n",
      "Normal life\n",
      "291\n",
      "(-0.00021128621271833056+0j)\n",
      "Normal life\n",
      "292\n",
      "(-0.00021130779942588304+0j)\n",
      "Normal life\n",
      "293\n",
      "(-0.00021132944479196707+0j)\n",
      "Normal life\n",
      "294\n",
      "(-0.00021135114882057037+0j)\n",
      "Normal life\n",
      "295\n",
      "(-0.00021137291151585973+0j)\n",
      "Normal life\n",
      "296\n",
      "(-0.00021139473288218832+0j)\n",
      "Normal life\n",
      "297\n",
      "(-0.00021141661292408784+0j)\n",
      "Normal life\n",
      "298\n",
      "(-0.00021143855164627197+0j)\n",
      "Normal life\n",
      "299\n",
      "(-0.00021146054905364013+0j)\n",
      "Normal life\n",
      "300\n",
      "(-0.00021148260515127092+0j)\n",
      "Normal life\n",
      "301\n",
      "(-0.00021150471994442753+0j)\n",
      "Normal life\n",
      "302\n",
      "(-0.00021152689343855723+0j)\n",
      "Normal life\n",
      "303\n",
      "(-0.00021154912563928785+0j)\n",
      "Normal life\n",
      "304\n",
      "(-0.00021157141655243238+0j)\n",
      "Normal life\n",
      "305\n",
      "(-0.00021159376618398772+0j)\n",
      "Normal life\n",
      "306\n",
      "(-0.00021161617454013343+0j)\n",
      "Normal life\n",
      "307\n",
      "(-0.00021163864162723143+0j)\n",
      "Normal life\n",
      "308\n",
      "(-0.00021166116745183344+0j)\n",
      "Normal life\n",
      "309\n",
      "(-0.00021168375202066807+0j)\n",
      "Normal life\n",
      "310\n",
      "(-0.0002117063953406538+0j)\n",
      "Normal life\n",
      "311\n",
      "(-0.00021172909741889114+0j)\n",
      "Normal life\n",
      "312\n",
      "(-0.0002117518582626678+0j)\n",
      "Normal life\n",
      "313\n",
      "(-0.00021177467787945097+0j)\n",
      "Normal life\n",
      "314\n",
      "(-0.0002117975562769006+0j)\n",
      "Normal life\n",
      "315\n",
      "(-0.00021182049346285856+0j)\n",
      "Normal life\n",
      "316\n",
      "(-0.00021184348944535005+0j)\n",
      "Normal life\n",
      "317\n",
      "(-0.00021186654423258994+0j)\n",
      "Normal life\n",
      "318\n",
      "(-0.00021188965783297298+0j)\n",
      "Normal life\n",
      "319\n",
      "(-0.0002119128302551158+0j)\n",
      "Normal life\n",
      "320\n",
      "(-0.0002119360615077067+0j)\n",
      "Normal life\n",
      "321\n",
      "(-0.00021195935159978307+0j)\n",
      "Normal life\n",
      "322\n",
      "(-0.00021198270054046412+0j)\n",
      "Normal life\n",
      "323\n",
      "(-0.0002120061083390794+0j)\n",
      "Normal life\n",
      "324\n",
      "(-0.0002120295750051483+0j)\n",
      "Normal life\n",
      "325\n",
      "(-0.00021205310054837293+0j)\n",
      "Normal life\n",
      "326\n",
      "(-0.00021207668497865006+0j)\n",
      "Normal life\n",
      "327\n",
      "(-0.00021210032830605701+0j)\n",
      "Normal life\n",
      "328\n",
      "(-0.00021212403054086048+0j)\n",
      "Normal life\n",
      "329\n",
      "(-0.00021214779169351943+0j)\n",
      "Normal life\n",
      "330\n",
      "(-0.00021217161177467512+0j)\n",
      "Normal life\n",
      "331\n",
      "(-0.00021219549079516022+0j)\n",
      "Normal life\n",
      "332\n",
      "(-0.00021221942876599486+0j)\n",
      "Normal life\n",
      "333\n",
      "(-0.00021224342569838885+0j)\n",
      "Normal life\n",
      "334\n",
      "(-0.00021226748160373783+0j)\n",
      "Normal life\n",
      "335\n",
      "(-0.00021229159649363002+0j)\n",
      "Normal life\n",
      "336\n",
      "(-0.0002123157703798423+0j)\n",
      "Normal life\n",
      "337\n",
      "(-0.00021234000327433845+0j)\n",
      "Normal life\n",
      "338\n",
      "(-0.0002123642951892729+0j)\n",
      "Normal life\n",
      "339\n",
      "(-0.0002123886461369915+0j)\n",
      "Normal life\n",
      "340\n",
      "(-0.0002124130561300255+0j)\n",
      "Normal life\n",
      "341\n",
      "(-0.00021243752518110382+0j)\n",
      "Normal life\n",
      "342\n",
      "(-0.00021246205330313923+0j)\n",
      "Normal life\n",
      "343\n",
      "(-0.0002124866405092343+0j)\n",
      "Normal life\n",
      "344\n",
      "(-0.00021251128681268745+0j)\n",
      "Normal life\n",
      "345\n",
      "(-0.0002125359922269843+0j)\n",
      "Normal life\n",
      "346\n",
      "(-0.00021256075676580165+0j)\n",
      "Normal life\n",
      "347\n",
      "(-0.0002125855804430078+0j)\n",
      "Normal life\n",
      "348\n",
      "(-0.00021261046327266468+0j)\n",
      "Normal life\n",
      "349\n",
      "(-0.00021263540526902068+0j)\n",
      "Normal life\n",
      "350\n",
      "(-0.00021266040644652112+0j)\n",
      "Normal life\n",
      "351\n",
      "(-0.00021268546681980002+0j)\n",
      "Normal life\n",
      "352\n",
      "(-0.00021271058640368469+0j)\n",
      "Normal life\n",
      "353\n",
      "(-0.00021273576521319384+0j)\n",
      "Normal life\n",
      "354\n",
      "(-0.00021276100326353916+0j)\n",
      "Normal life\n",
      "355\n",
      "(-0.00021278630057012501+0j)\n",
      "Normal life\n",
      "356\n",
      "(-0.00021281165714854723+0j)\n",
      "Normal life\n",
      "357\n",
      "(-0.00021283707301459834+0j)\n",
      "Normal life\n",
      "358\n",
      "(-0.0002128625481842591+0j)\n",
      "Normal life\n",
      "359\n",
      "(-0.00021288808267370702+0j)\n",
      "Normal life\n",
      "360\n",
      "(-0.00021291367649930938+0j)\n",
      "Normal life\n",
      "361\n",
      "(-0.00021293932967763427+0j)\n",
      "Normal life\n",
      "362\n",
      "(-0.00021296504222543562+0j)\n",
      "Normal life\n",
      "363\n",
      "(-0.00021299081415966574+0j)\n",
      "Normal life\n",
      "364\n",
      "(-0.00021301664549747127+0j)\n",
      "Normal life\n",
      "365\n",
      "(-0.00021304253625618986+0j)\n",
      "Normal life\n",
      "366\n",
      "(-0.00021306848645335892+0j)\n",
      "Normal life\n",
      "367\n",
      "(-0.00021309449610670575+0j)\n",
      "Normal life\n",
      "368\n",
      "(-0.0002131205652341565+0j)\n",
      "Normal life\n",
      "369\n",
      "(-0.0002131466938538307+0j)\n",
      "Normal life\n"
     ]
    },
    {
     "name": "stdout",
     "output_type": "stream",
     "text": [
      "370\n",
      "(-0.00021317288198404195+0j)\n",
      "Normal life\n",
      "371\n",
      "(-0.00021319912964329853+0j)\n",
      "Normal life\n",
      "372\n",
      "(-0.00021322543685031137+0j)\n",
      "Normal life\n",
      "373\n",
      "(-0.00021325180362397896+0j)\n",
      "Normal life\n",
      "374\n",
      "(-0.00021327822998340207+0j)\n",
      "Normal life\n",
      "375\n",
      "(-0.00021330471594786947+0j)\n",
      "Normal life\n",
      "376\n",
      "(-0.00021333126153687504+0j)\n",
      "Normal life\n",
      "377\n",
      "(-0.00021335786677010674+0j)\n",
      "Normal life\n",
      "378\n",
      "(-0.00021338453166744746+0j)\n",
      "Normal life\n",
      "379\n",
      "(-0.00021341125624897657+0j)\n",
      "Normal life\n",
      "380\n",
      "(-0.00021343804053497366+0j)\n",
      "Normal life\n",
      "381\n",
      "(-0.00021346488454591228+0j)\n",
      "Normal life\n",
      "382\n",
      "(-0.0002134917883024669+0j)\n",
      "Normal life\n",
      "383\n",
      "(-0.0002135187518255066+0j)\n",
      "Normal life\n",
      "384\n",
      "(-0.0002135457751360992+0j)\n",
      "Normal life\n",
      "385\n",
      "(-0.00021357285825551143+0j)\n",
      "Normal life\n",
      "386\n",
      "(-0.00021360000120520704+0j)\n",
      "Normal life\n",
      "387\n",
      "(-0.00021362720400684948+0j)\n",
      "Normal life\n",
      "388\n",
      "(-0.00021365446668229843+0j)\n",
      "Normal life\n",
      "389\n",
      "(-0.0002136817892536169+0j)\n",
      "Normal life\n",
      "390\n",
      "(-0.00021370917174306207+0j)\n",
      "Normal life\n",
      "391\n",
      "(-0.00021373661417309106+0j)\n",
      "Normal life\n",
      "392\n",
      "(-0.0002137641165663611+0j)\n",
      "Normal life\n",
      "393\n",
      "(-0.00021379167894573087+0j)\n",
      "Normal life\n",
      "394\n",
      "(-0.00021381930133425637+0j)\n",
      "Normal life\n",
      "395\n",
      "(-0.0002138469837551926+0j)\n",
      "Normal life\n",
      "396\n",
      "(-0.00021387472623199543+0j)\n",
      "Normal life\n",
      "397\n",
      "(-0.00021390252878832335+0j)\n",
      "Normal life\n",
      "398\n",
      "(-0.00021393039144806448+0j)\n",
      "Normal life\n",
      "399\n",
      "(-0.00021395831423517555+0j)\n",
      "Normal life\n",
      "400\n",
      "(-0.00021398629717401594+0j)\n",
      "Normal life\n",
      "401\n",
      "(-0.00021401434028901143+0j)\n",
      "Normal life\n",
      "402\n",
      "(-0.00021404244360482075+0j)\n",
      "Normal life\n",
      "403\n",
      "(-0.0002140706071463058+0j)\n",
      "Normal life\n",
      "404\n",
      "(-0.00021409883093852954+0j)\n",
      "Normal life\n",
      "405\n",
      "(-0.00021412711500675593+0j)\n",
      "Normal life\n",
      "406\n",
      "(-0.00021415545937644953+0j)\n",
      "Normal life\n",
      "407\n",
      "(-0.0002141838640732808+0j)\n",
      "Normal life\n",
      "408\n",
      "(-0.00021421232912311779+0j)\n",
      "Normal life\n",
      "409\n",
      "(-0.0002142408545520341+0j)\n",
      "Normal life\n",
      "410\n",
      "(-0.0002142694403863057+0j)\n",
      "Normal life\n",
      "411\n",
      "(-0.0002142980866524062+0j)\n",
      "Normal life\n",
      "412\n",
      "(-0.0002143267933770202+0j)\n",
      "Normal life\n",
      "413\n",
      "(-0.00021435556058706717+0j)\n",
      "Normal life\n",
      "414\n",
      "(-0.0002143843883095205+0j)\n",
      "Normal life\n",
      "415\n",
      "(-0.00021441327657183035+0j)\n",
      "Normal life\n",
      "416\n",
      "(-0.00021444222540131398+0j)\n",
      "Normal life\n",
      "417\n",
      "(-0.0002144712348258056+0j)\n",
      "Normal life\n",
      "418\n",
      "(-0.00021450030487316332+0j)\n",
      "Normal life\n",
      "419\n",
      "(-0.00021452943557149134+0j)\n",
      "Normal life\n",
      "420\n",
      "(-0.0002145586269490981+0j)\n",
      "Normal life\n",
      "421\n",
      "(-0.00021458787903450084+0j)\n",
      "Normal life\n",
      "422\n",
      "(-0.00021461719185641675+0j)\n",
      "Normal life\n",
      "423\n",
      "(-0.0002146465654437671+0j)\n",
      "Normal life\n",
      "424\n",
      "(-0.00021467599982568424+0j)\n",
      "Normal life\n",
      "425\n",
      "(-0.0002147054950315013+0j)\n",
      "Normal life\n",
      "426\n",
      "(-0.00021473505109075348+0j)\n",
      "Normal life\n",
      "427\n",
      "(-0.00021476466803319137+0j)\n",
      "Normal life\n",
      "428\n",
      "(-0.00021479434588876143+0j)\n",
      "Normal life\n",
      "429\n",
      "(-0.00021482408468761986+0j)\n",
      "Normal life\n",
      "430\n",
      "(-0.000214853884460131+0j)\n",
      "Normal life\n",
      "431\n",
      "(-0.00021488374523686126+0j)\n",
      "Normal life\n",
      "432\n",
      "(-0.0002149136670485866+0j)\n",
      "Normal life\n",
      "433\n",
      "(-0.00021494364992628878+0j)\n",
      "Normal life\n",
      "434\n",
      "(-0.0002149736939011558+0j)\n",
      "Normal life\n",
      "435\n",
      "(-0.00021500379900458162+0j)\n",
      "Normal life\n",
      "436\n",
      "(-0.00021503396526817003+0j)\n",
      "Normal life\n",
      "437\n",
      "(-0.0002150641927237297+0j)\n",
      "Normal life\n",
      "438\n",
      "(-0.00021509448140327663+0j)\n",
      "Normal life\n",
      "439\n",
      "(-0.0002151248313390377+0j)\n",
      "Normal life\n",
      "440\n",
      "(-0.0002151552425634441+0j)\n",
      "Normal life\n",
      "441\n",
      "(-0.00021518571510913598+0j)\n",
      "Normal life\n",
      "442\n",
      "(-0.00021521624900896236+0j)\n",
      "Normal life\n",
      "443\n",
      "(-0.00021524684429597799+0j)\n",
      "Normal life\n",
      "444\n",
      "(-0.0002152775010034505+0j)\n",
      "Normal life\n",
      "445\n",
      "(-0.00021530821916485414+0j)\n",
      "Normal life\n",
      "446\n",
      "(-0.00021533899881387+0j)\n",
      "Normal life\n",
      "447\n",
      "(-0.00021536983998439108+0j)\n",
      "Normal life\n",
      "448\n",
      "(-0.0002154007427105182+0j)\n",
      "Normal life\n",
      "449\n",
      "(-0.00021543170702656135+0j)\n",
      "Normal life\n",
      "450\n",
      "(-0.0002154627329670402+0j)\n",
      "Normal life\n",
      "451\n",
      "(-0.00021549382056668565+0j)\n",
      "Normal life\n",
      "452\n",
      "(-0.00021552496986043592+0j)\n",
      "Normal life\n",
      "453\n",
      "(-0.00021555618088344163+0j)\n",
      "Normal life\n",
      "454\n",
      "(-0.00021558745367106284+0j)\n",
      "Normal life\n",
      "455\n",
      "(-0.00021561878825886874+0j)\n",
      "Normal life\n",
      "456\n",
      "(-0.00021565018468263947+0j)\n",
      "Normal life\n",
      "457\n",
      "(-0.0002156816429783692+0j)\n",
      "Normal life\n",
      "458\n",
      "(-0.00021571316318225826+0j)\n",
      "Normal life\n",
      "459\n",
      "(-0.00021574474533071967+0j)\n",
      "Normal life\n",
      "460\n",
      "(-0.0002157763894603796+0j)\n",
      "Normal life\n",
      "461\n",
      "(-0.00021580809560807384+0j)\n",
      "Normal life\n",
      "462\n",
      "(-0.00021583986381085133+0j)\n",
      "Normal life\n",
      "463\n",
      "(-0.00021587169410597007+0j)\n",
      "Normal life\n",
      "464\n",
      "(-0.00021590358653090122+0j)\n",
      "Normal life\n",
      "465\n",
      "(-0.00021593554112333093+0j)\n",
      "Normal life\n",
      "466\n",
      "(-0.0002159675579211523+0j)\n",
      "Normal life\n"
     ]
    }
   ],
   "source": [
    "xi_opt = terminator(1000,time_steps=len(times), total_time= total_time_evo,\n",
    "               epsilon= ((0.1*2*pi)/(10**4)))"
   ]
  },
  {
   "cell_type": "code",
   "execution_count": null,
   "metadata": {
    "ExecuteTime": {
     "start_time": "2019-02-16T11:07:41.761Z"
    }
   },
   "outputs": [],
   "source": [
    "dt = (2*pi)/500\n",
    "F(xi_opt, dt)"
   ]
  },
  {
   "cell_type": "code",
   "execution_count": null,
   "metadata": {
    "ExecuteTime": {
     "start_time": "2019-02-16T11:07:41.763Z"
    }
   },
   "outputs": [],
   "source": [
    "L_full_maker(xi_opt, dt)"
   ]
  },
  {
   "cell_type": "code",
   "execution_count": null,
   "metadata": {
    "ExecuteTime": {
     "start_time": "2019-02-16T11:07:41.766Z"
    }
   },
   "outputs": [],
   "source": [
    "ax = axes()\n",
    "ax.plot(times, xi_opt)\n",
    "xi_max = amax(xi_opt) + 0.1\n",
    "xi_min = amin(xi_opt) - 0.1\n",
    "\n",
    "ax.set(xlim=(0, total_time_evo), ylim=(xi_min, xi_max),\n",
    "       xlabel='time', ylabel= r'$g_{with diss}$',\n",
    "       title='Control field in the presence of dissipation');"
   ]
  },
  {
   "cell_type": "markdown",
   "metadata": {},
   "source": [
    "### try"
   ]
  },
  {
   "cell_type": "code",
   "execution_count": null,
   "metadata": {
    "ExecuteTime": {
     "start_time": "2019-02-16T11:07:41.927Z"
    }
   },
   "outputs": [],
   "source": [
    "xi_opt = terminator(10**4,time_steps=len(times), total_time= total_time_evo,\n",
    "               epsilon= ((0.1*2*pi)/(10**3)))"
   ]
  },
  {
   "cell_type": "code",
   "execution_count": null,
   "metadata": {
    "ExecuteTime": {
     "start_time": "2019-02-16T11:07:41.931Z"
    }
   },
   "outputs": [],
   "source": [
    "dt = (2*pi)/500\n",
    "F(xi_opt, dt)"
   ]
  },
  {
   "cell_type": "code",
   "execution_count": null,
   "metadata": {
    "ExecuteTime": {
     "start_time": "2019-02-16T11:07:41.935Z"
    }
   },
   "outputs": [],
   "source": [
    "L_full_maker(xi_opt, dt)"
   ]
  },
  {
   "cell_type": "code",
   "execution_count": null,
   "metadata": {
    "ExecuteTime": {
     "start_time": "2019-02-16T11:07:41.938Z"
    }
   },
   "outputs": [],
   "source": [
    "ax = axes()\n",
    "ax.plot(times, xi_opt)\n",
    "xi_max = amax(xi_opt) + 0.1\n",
    "xi_min = amin(xi_opt) - 0.1\n",
    "\n",
    "ax.set(xlim=(0, total_time_evo), ylim=(xi_min, xi_max),\n",
    "       xlabel='time', ylabel= r'$g_{with diss}$',\n",
    "       title='Control field in the presence of dissipation');"
   ]
  },
  {
   "cell_type": "markdown",
   "metadata": {},
   "source": [
    "### try"
   ]
  },
  {
   "cell_type": "code",
   "execution_count": null,
   "metadata": {
    "ExecuteTime": {
     "start_time": "2019-02-16T11:07:42.106Z"
    }
   },
   "outputs": [],
   "source": [
    "xi_opt = terminator(10**4,time_steps=len(times), total_time= total_time_evo,\n",
    "               epsilon= ((0.1*2*pi)/(10**4)))"
   ]
  },
  {
   "cell_type": "code",
   "execution_count": null,
   "metadata": {
    "ExecuteTime": {
     "start_time": "2019-02-16T11:07:42.110Z"
    }
   },
   "outputs": [],
   "source": [
    "dt = (2*pi)/500\n",
    "F(xi_opt, dt)"
   ]
  },
  {
   "cell_type": "code",
   "execution_count": null,
   "metadata": {
    "ExecuteTime": {
     "start_time": "2019-02-16T11:07:42.122Z"
    }
   },
   "outputs": [],
   "source": [
    "L_full_maker(xi_opt, dt)"
   ]
  },
  {
   "cell_type": "code",
   "execution_count": null,
   "metadata": {
    "ExecuteTime": {
     "start_time": "2019-02-16T11:07:42.126Z"
    }
   },
   "outputs": [],
   "source": [
    "ax = axes()\n",
    "ax.plot(times, xi_opt)\n",
    "xi_max = amax(xi_opt) + 0.1\n",
    "xi_min = amin(xi_opt) - 0.1\n",
    "\n",
    "ax.set(xlim=(0, total_time_evo), ylim=(xi_min, xi_max),\n",
    "       xlabel='time', ylabel= r'$g_{with diss}$',\n",
    "       title='Control field in the presence of dissipation');"
   ]
  },
  {
   "cell_type": "markdown",
   "metadata": {},
   "source": [
    "### try"
   ]
  },
  {
   "cell_type": "code",
   "execution_count": null,
   "metadata": {
    "ExecuteTime": {
     "start_time": "2019-02-16T11:07:42.311Z"
    }
   },
   "outputs": [],
   "source": [
    "xi_opt = terminator(10**4,time_steps=len(times), total_time= total_time_evo,\n",
    "               epsilon= ((0.1*2*pi)/(10**10)))"
   ]
  },
  {
   "cell_type": "code",
   "execution_count": null,
   "metadata": {
    "ExecuteTime": {
     "start_time": "2019-02-16T11:07:42.314Z"
    }
   },
   "outputs": [],
   "source": [
    "dt = (2*pi)/500\n",
    "F(xi_opt, dt)"
   ]
  },
  {
   "cell_type": "code",
   "execution_count": null,
   "metadata": {
    "ExecuteTime": {
     "start_time": "2019-02-16T11:07:42.316Z"
    }
   },
   "outputs": [],
   "source": [
    "L_full_maker(xi_opt, dt)"
   ]
  },
  {
   "cell_type": "code",
   "execution_count": null,
   "metadata": {
    "ExecuteTime": {
     "start_time": "2019-02-16T11:07:42.319Z"
    }
   },
   "outputs": [],
   "source": [
    "ax = axes()\n",
    "ax.plot(times, xi_opt)\n",
    "xi_max = amax(xi_opt) + 0.1\n",
    "xi_min = amin(xi_opt) - 0.1\n",
    "\n",
    "ax.set(xlim=(0, total_time_evo), ylim=(xi_min, xi_max),\n",
    "       xlabel='time', ylabel= r'$g_{with diss}$',\n",
    "       title='Control field in the presence of dissipation');"
   ]
  },
  {
   "cell_type": "markdown",
   "metadata": {},
   "source": [
    "### try"
   ]
  },
  {
   "cell_type": "code",
   "execution_count": null,
   "metadata": {
    "ExecuteTime": {
     "start_time": "2019-02-16T11:07:42.522Z"
    }
   },
   "outputs": [],
   "source": [
    "xi_opt = terminator(10**4,time_steps=10**3, total_time= total_time_evo,\n",
    "               epsilon= ((0.1*2*pi)/(10**3)))"
   ]
  },
  {
   "cell_type": "code",
   "execution_count": null,
   "metadata": {
    "ExecuteTime": {
     "start_time": "2019-02-16T11:07:42.525Z"
    }
   },
   "outputs": [],
   "source": [
    "dt = (2*pi)/(10**3)#(2*pi)/500\n",
    "# probaly happened because of hard coding of dt inside terminator\n",
    "# must try it again after changing that\n",
    "F(xi_opt, dt)\n"
   ]
  },
  {
   "cell_type": "code",
   "execution_count": null,
   "metadata": {
    "ExecuteTime": {
     "start_time": "2019-02-16T11:07:42.528Z"
    }
   },
   "outputs": [],
   "source": [
    "L_full_maker(xi_opt, dt)"
   ]
  },
  {
   "cell_type": "code",
   "execution_count": null,
   "metadata": {
    "ExecuteTime": {
     "start_time": "2019-02-16T11:07:42.531Z"
    }
   },
   "outputs": [],
   "source": [
    "ax = axes()\n",
    "ax.plot(times, xi_opt)\n",
    "xi_max = amax(xi_opt) + 0.1\n",
    "xi_min = amin(xi_opt) - 0.1\n",
    "\n",
    "ax.set(xlim=(0, total_time_evo), ylim=(xi_min, xi_max),\n",
    "       xlabel='time', ylabel= r'$g_{with diss}$',\n",
    "       title='Control field in the presence of dissipation');"
   ]
  },
  {
   "cell_type": "markdown",
   "metadata": {},
   "source": [
    "## APS stuff"
   ]
  },
  {
   "cell_type": "markdown",
   "metadata": {},
   "source": [
    "### infidelity function tryouts"
   ]
  },
  {
   "cell_type": "code",
   "execution_count": null,
   "metadata": {
    "ExecuteTime": {
     "start_time": "2019-02-16T11:07:42.921Z"
    }
   },
   "outputs": [],
   "source": [
    "qone = basis(2, 0)\n",
    "qone"
   ]
  },
  {
   "cell_type": "code",
   "execution_count": null,
   "metadata": {
    "ExecuteTime": {
     "start_time": "2019-02-16T11:07:42.924Z"
    }
   },
   "outputs": [],
   "source": [
    "qzero = basis(2, 1)\n",
    "qzero"
   ]
  },
  {
   "cell_type": "markdown",
   "metadata": {
    "ExecuteTime": {
     "end_time": "2019-02-15T04:40:16.961355Z",
     "start_time": "2019-02-15T04:40:16.952718Z"
    }
   },
   "source": [
    "###### ket2bra\n",
    "---------------------------------------------------------------------------\n",
    "NameError                                 Traceback (most recent call last)\n",
    "<ipython-input-69-8f247c0c4d8f> in <module>()\n",
    "----> 1 ket2bra\n",
    "\n",
    "NameError: name 'ket2bra' is not defined\n"
   ]
  },
  {
   "cell_type": "code",
   "execution_count": null,
   "metadata": {
    "ExecuteTime": {
     "start_time": "2019-02-16T11:07:43.124Z"
    }
   },
   "outputs": [],
   "source": [
    "(sigmax()).matrix_element(qone, qzero)"
   ]
  },
  {
   "cell_type": "code",
   "execution_count": null,
   "metadata": {
    "ExecuteTime": {
     "start_time": "2019-02-16T11:07:43.128Z"
    }
   },
   "outputs": [],
   "source": [
    "abs((sigmax()).matrix_element(qone, qzero))"
   ]
  },
  {
   "cell_type": "code",
   "execution_count": null,
   "metadata": {
    "ExecuteTime": {
     "start_time": "2019-02-16T11:07:43.131Z"
    }
   },
   "outputs": [],
   "source": [
    "abs(2 + 3j)"
   ]
  },
  {
   "cell_type": "code",
   "execution_count": null,
   "metadata": {
    "ExecuteTime": {
     "start_time": "2019-02-16T11:07:43.134Z"
    }
   },
   "outputs": [],
   "source": [
    "abs(3 + 4j)"
   ]
  },
  {
   "cell_type": "code",
   "execution_count": null,
   "metadata": {
    "ExecuteTime": {
     "start_time": "2019-02-16T11:07:43.137Z"
    }
   },
   "outputs": [],
   "source": [
    "def infidelity_to_one(U):\n",
    "    r\"\"\"infidelity to state one\"\"\"\n",
    "    fidelity = (abs(U.matrix_element(qone, qzero)))**2\n",
    "    infidelity = 1 - fidelity\n",
    "    return infidelity"
   ]
  },
  {
   "cell_type": "code",
   "execution_count": null,
   "metadata": {
    "ExecuteTime": {
     "start_time": "2019-02-16T11:07:43.140Z"
    }
   },
   "outputs": [],
   "source": [
    "infidelity_to_one(sigmax()) \n",
    "# 1 - abs((sigmax()).matrix_element(qone, qzero))\n",
    "# 1 - 1 = 0"
   ]
  },
  {
   "cell_type": "markdown",
   "metadata": {},
   "source": [
    "  result.u, result.u but lindbladian evolution, xi_opt"
   ]
  },
  {
   "cell_type": "code",
   "execution_count": null,
   "metadata": {
    "ExecuteTime": {
     "start_time": "2019-02-16T11:07:43.404Z"
    }
   },
   "outputs": [],
   "source": [
    "qone.overlap(qzero)"
   ]
  },
  {
   "cell_type": "code",
   "execution_count": null,
   "metadata": {
    "ExecuteTime": {
     "start_time": "2019-02-16T11:07:43.407Z"
    }
   },
   "outputs": [],
   "source": [
    "qzero.overlap(qzero)"
   ]
  },
  {
   "cell_type": "code",
   "execution_count": null,
   "metadata": {
    "ExecuteTime": {
     "start_time": "2019-02-16T11:07:43.410Z"
    }
   },
   "outputs": [],
   "source": [
    "qone.overlap(qone)"
   ]
  },
  {
   "cell_type": "code",
   "execution_count": null,
   "metadata": {
    "ExecuteTime": {
     "start_time": "2019-02-16T11:07:43.413Z"
    }
   },
   "outputs": [],
   "source": [
    "def infidelity_to_state(psi):\n",
    "    r\"\"\"infidelity to state one\"\"\"\n",
    "    fidelity = (abs(qone.overlap(psi)))**2\n",
    "    infidelity = 1 - fidelity\n",
    "    return infidelity"
   ]
  },
  {
   "cell_type": "code",
   "execution_count": null,
   "metadata": {
    "ExecuteTime": {
     "start_time": "2019-02-16T11:07:43.416Z"
    }
   },
   "outputs": [],
   "source": [
    "infidelity_to_state(qzero)"
   ]
  },
  {
   "cell_type": "code",
   "execution_count": null,
   "metadata": {
    "ExecuteTime": {
     "start_time": "2019-02-16T11:07:43.419Z"
    }
   },
   "outputs": [],
   "source": [
    "infidelity_to_state(qone)"
   ]
  },
  {
   "cell_type": "code",
   "execution_count": null,
   "metadata": {
    "ExecuteTime": {
     "start_time": "2019-02-16T11:07:43.423Z"
    }
   },
   "outputs": [],
   "source": [
    "#mesolve"
   ]
  },
  {
   "cell_type": "markdown",
   "metadata": {
    "ExecuteTime": {
     "end_time": "2019-02-15T04:40:17.005913Z",
     "start_time": "2019-02-15T04:34:35.127Z"
    }
   },
   "source": [
    "\n",
    "### state building"
   ]
  },
  {
   "cell_type": "code",
   "execution_count": null,
   "metadata": {
    "ExecuteTime": {
     "start_time": "2019-02-16T11:07:43.636Z"
    }
   },
   "outputs": [],
   "source": [
    "H_no_diss = [H_0, [H_1, result.u[-1, 0, :] ]]\n",
    "grape_no_diss = mesolve(H_no_diss, qzero, times, c_ops=[], e_ops=[], \n",
    "                        args={}, options=None, \n",
    "                        progress_bar=EnhancedTextProgressBar() )"
   ]
  },
  {
   "cell_type": "code",
   "execution_count": null,
   "metadata": {
    "ExecuteTime": {
     "start_time": "2019-02-16T11:07:43.639Z"
    }
   },
   "outputs": [],
   "source": [
    "len(grape_no_diss.states)"
   ]
  },
  {
   "cell_type": "code",
   "execution_count": null,
   "metadata": {
    "ExecuteTime": {
     "start_time": "2019-02-16T11:07:43.644Z"
    }
   },
   "outputs": [],
   "source": [
    "Lin"
   ]
  },
  {
   "cell_type": "code",
   "execution_count": null,
   "metadata": {
    "ExecuteTime": {
     "start_time": "2019-02-16T11:07:43.647Z"
    }
   },
   "outputs": [],
   "source": [
    "sqrt(gamma)"
   ]
  },
  {
   "cell_type": "code",
   "execution_count": null,
   "metadata": {
    "ExecuteTime": {
     "start_time": "2019-02-16T11:07:43.651Z"
    }
   },
   "outputs": [],
   "source": [
    "c_ops_tejas = sqrt(gamma)*Lin\n",
    "c_ops_tejas"
   ]
  },
  {
   "cell_type": "code",
   "execution_count": null,
   "metadata": {
    "ExecuteTime": {
     "start_time": "2019-02-16T11:07:43.654Z"
    }
   },
   "outputs": [],
   "source": [
    "H_diss = [H_0, [H_1, result.u[-1, 0, :] ]]\n",
    "grape_diss = mesolve(H_no_diss, qzero, times, c_ops=[c_ops_tejas], e_ops=[], \n",
    "                        args={}, options=None, \n",
    "                        progress_bar=EnhancedTextProgressBar() )"
   ]
  },
  {
   "cell_type": "code",
   "execution_count": null,
   "metadata": {
    "ExecuteTime": {
     "start_time": "2019-02-16T11:07:43.657Z"
    }
   },
   "outputs": [],
   "source": [
    "len(grape_diss.states)"
   ]
  },
  {
   "cell_type": "code",
   "execution_count": null,
   "metadata": {
    "ExecuteTime": {
     "start_time": "2019-02-16T11:07:43.661Z"
    }
   },
   "outputs": [],
   "source": [
    "H_diss_optimized = [H_0, [H_1, xi_opt ]]\n",
    "grape_diss_optimized = mesolve(H_no_diss, qzero, times, c_ops=[c_ops_tejas], \n",
    "                               e_ops=[], args={}, options=None, \n",
    "                               progress_bar=TextProgressBar() )"
   ]
  },
  {
   "cell_type": "code",
   "execution_count": null,
   "metadata": {
    "ExecuteTime": {
     "start_time": "2019-02-16T11:07:43.664Z"
    }
   },
   "outputs": [],
   "source": [
    "len(grape_diss_optimized.states)"
   ]
  },
  {
   "cell_type": "markdown",
   "metadata": {},
   "source": [
    "### states list to fidelity list"
   ]
  },
  {
   "cell_type": "code",
   "execution_count": null,
   "metadata": {
    "ExecuteTime": {
     "start_time": "2019-02-16T11:07:43.884Z"
    }
   },
   "outputs": [],
   "source": [
    "infidelity_to_state_vec = vectorize(infidelity_to_state)"
   ]
  },
  {
   "cell_type": "code",
   "execution_count": null,
   "metadata": {
    "ExecuteTime": {
     "start_time": "2019-02-16T11:07:43.888Z"
    }
   },
   "outputs": [],
   "source": [
    "infid_grape_no_diss = infidelity_to_state_vec(grape_no_diss.states)"
   ]
  },
  {
   "cell_type": "code",
   "execution_count": null,
   "metadata": {
    "ExecuteTime": {
     "start_time": "2019-02-16T11:07:43.890Z"
    }
   },
   "outputs": [],
   "source": [
    "'''fid_grape_diss = infidelity_to_state_vec(grape_diss.states)\n",
    "TypeError                                 Traceback (most recent call last)\n",
    "<ipython-input-101-fbabc06eff84> in <module>()\n",
    "----> 1 fid_grape_diss = infidelity_to_state_vec(grape_diss.states)\n",
    "\n",
    "/anaconda3/envs/qutip-env/lib/python3.6/site-packages/numpy/lib/function_base.py in __call__(self, *args, **kwargs)\n",
    "   2753             vargs.extend([kwargs[_n] for _n in names])\n",
    "   2754 \n",
    "-> 2755         return self._vectorize_call(func=func, args=vargs)\n",
    "   2756 \n",
    "   2757     def _get_ufunc_and_otypes(self, func, args):\n",
    "\n",
    "/anaconda3/envs/qutip-env/lib/python3.6/site-packages/numpy/lib/function_base.py in _vectorize_call(self, func, args)\n",
    "   2823             res = func()\n",
    "   2824         else:\n",
    "-> 2825             ufunc, otypes = self._get_ufunc_and_otypes(func=func, args=args)\n",
    "   2826 \n",
    "   2827             # Convert args to object arrays first\n",
    "\n",
    "/anaconda3/envs/qutip-env/lib/python3.6/site-packages/numpy/lib/function_base.py in _get_ufunc_and_otypes(self, func, args)\n",
    "   2783 \n",
    "   2784             inputs = [arg.flat[0] for arg in args]\n",
    "-> 2785             outputs = func(*inputs)\n",
    "   2786 \n",
    "   2787             # Performance note: profiling indicates that -- for simple\n",
    "\n",
    "<ipython-input-96-32321f8d8a33> in infidelity_to_state(psi)\n",
    "      1 def infidelity_to_state(psi):\n",
    "      2     r\"\"\"infidelity to state one\"\"\"\n",
    "----> 3     fidelity = (abs(qone.overlap(psi)))**2\n",
    "      4     infidelity = 1 - fidelity\n",
    "      5     return infidelity\n",
    "\n",
    "/anaconda3/envs/qutip-env/lib/python3.6/site-packages/qutip/qobj.py in overlap(self, state)\n",
    "   1486                     return (self.data.H * state.data)[0, 0]\n",
    "   1487 \n",
    "-> 1488         raise TypeError(\"Can only calculate overlap for state vector Qobjs\")\n",
    "   1489 \n",
    "   1490     def eigenstates(self, sparse=False, sort='low',\n",
    "\n",
    "TypeError: Can only calculate overlap for state vector Qobjs\n",
    "\n",
    "\n",
    "'''"
   ]
  },
  {
   "cell_type": "markdown",
   "metadata": {
    "ExecuteTime": {
     "end_time": "2019-02-15T05:53:06.567791Z",
     "start_time": "2019-02-15T05:53:06.556851Z"
    }
   },
   "source": [
    "fid_grape_no_diss = infidelity_to_state_vec(grape_no_diss.states)"
   ]
  },
  {
   "cell_type": "code",
   "execution_count": null,
   "metadata": {
    "ExecuteTime": {
     "start_time": "2019-02-16T11:07:44.116Z"
    }
   },
   "outputs": [],
   "source": [
    "fidelity(sigmax(), sigmax())"
   ]
  },
  {
   "cell_type": "code",
   "execution_count": null,
   "metadata": {
    "ExecuteTime": {
     "start_time": "2019-02-16T11:07:44.120Z"
    }
   },
   "outputs": [],
   "source": [
    "zero_dm = ket2dm(qzero)\n",
    "zero_dm"
   ]
  },
  {
   "cell_type": "code",
   "execution_count": null,
   "metadata": {
    "ExecuteTime": {
     "start_time": "2019-02-16T11:07:44.123Z"
    }
   },
   "outputs": [],
   "source": [
    "one_dm = ket2dm(qone)\n",
    "one_dm"
   ]
  },
  {
   "cell_type": "code",
   "execution_count": null,
   "metadata": {
    "ExecuteTime": {
     "start_time": "2019-02-16T11:07:44.126Z"
    }
   },
   "outputs": [],
   "source": [
    "fidelity(zero_dm, zero_dm)"
   ]
  },
  {
   "cell_type": "code",
   "execution_count": null,
   "metadata": {
    "ExecuteTime": {
     "start_time": "2019-02-16T11:07:44.129Z"
    }
   },
   "outputs": [],
   "source": [
    "fidelity(zero_dm, one_dm)"
   ]
  },
  {
   "cell_type": "code",
   "execution_count": null,
   "metadata": {
    "ExecuteTime": {
     "start_time": "2019-02-16T11:07:44.133Z"
    }
   },
   "outputs": [],
   "source": [
    "fidelity(one_dm, zero_dm)"
   ]
  },
  {
   "cell_type": "code",
   "execution_count": null,
   "metadata": {
    "ExecuteTime": {
     "start_time": "2019-02-16T11:07:44.136Z"
    }
   },
   "outputs": [],
   "source": [
    "grape_no_diss.states[5]"
   ]
  },
  {
   "cell_type": "code",
   "execution_count": null,
   "metadata": {
    "ExecuteTime": {
     "start_time": "2019-02-16T11:07:44.140Z"
    }
   },
   "outputs": [],
   "source": [
    "grape_diss.states[5]"
   ]
  },
  {
   "cell_type": "code",
   "execution_count": null,
   "metadata": {
    "ExecuteTime": {
     "start_time": "2019-02-16T11:07:44.144Z"
    }
   },
   "outputs": [],
   "source": [
    "grape_diss.states[7]"
   ]
  },
  {
   "cell_type": "code",
   "execution_count": null,
   "metadata": {
    "ExecuteTime": {
     "start_time": "2019-02-16T11:07:44.147Z"
    }
   },
   "outputs": [],
   "source": [
    "fidelity(grape_diss.states[7], one_dm)"
   ]
  },
  {
   "cell_type": "code",
   "execution_count": null,
   "metadata": {
    "ExecuteTime": {
     "start_time": "2019-02-16T11:07:44.150Z"
    }
   },
   "outputs": [],
   "source": [
    "#0.012−2.347×10**−05j)"
   ]
  },
  {
   "cell_type": "code",
   "execution_count": null,
   "metadata": {
    "ExecuteTime": {
     "start_time": "2019-02-16T11:07:44.154Z"
    }
   },
   "outputs": [],
   "source": [
    "def infidelity_tejas(dm, d=2):\n",
    "    r\"\"\"Brief description of the function\"\"\"\n",
    "    infid = 1 - fidelity(one_dm, dm)\n",
    "    return infid"
   ]
  },
  {
   "cell_type": "code",
   "execution_count": null,
   "metadata": {
    "ExecuteTime": {
     "start_time": "2019-02-16T11:07:44.157Z"
    }
   },
   "outputs": [],
   "source": [
    "infid_dm_vec = vectorize(infidelity_tejas)"
   ]
  },
  {
   "cell_type": "code",
   "execution_count": null,
   "metadata": {
    "ExecuteTime": {
     "start_time": "2019-02-16T11:07:44.161Z"
    }
   },
   "outputs": [],
   "source": [
    "infid_grape_diss = infid_dm_vec(grape_diss.states) "
   ]
  },
  {
   "cell_type": "code",
   "execution_count": null,
   "metadata": {
    "ExecuteTime": {
     "start_time": "2019-02-16T11:07:44.164Z"
    }
   },
   "outputs": [],
   "source": [
    "len(infid_grape_diss)"
   ]
  },
  {
   "cell_type": "code",
   "execution_count": null,
   "metadata": {
    "ExecuteTime": {
     "start_time": "2019-02-16T11:07:44.168Z"
    }
   },
   "outputs": [],
   "source": [
    "infid_grape_diss_optimized = infid_dm_vec(grape_diss_optimized.states) "
   ]
  },
  {
   "cell_type": "code",
   "execution_count": null,
   "metadata": {
    "ExecuteTime": {
     "start_time": "2019-02-16T11:07:44.171Z"
    }
   },
   "outputs": [],
   "source": [
    "len(infid_grape_diss_optimized)"
   ]
  },
  {
   "cell_type": "markdown",
   "metadata": {},
   "source": [
    "### plots"
   ]
  },
  {
   "cell_type": "code",
   "execution_count": null,
   "metadata": {
    "ExecuteTime": {
     "start_time": "2019-02-16T11:07:44.416Z"
    },
    "code_folding": []
   },
   "outputs": [],
   "source": [
    "ax = axes()\n",
    "ax.plot(times, infid_grape_no_diss, label='grape_no_diss')\n",
    "ax.plot(times, infid_grape_diss, label='grape_diss')\n",
    "ax.plot(times, infid_grape_diss_optimized, label='grape_diss_optimized')\n",
    "#ax.plot(x, cos(x), ':b', label='cos(x)')'-g',\n",
    "#ax.axis('equal')\n",
    "ax.legend()\n",
    "ax.set(xlim=(times[0],times[-1]), ylim=(0, 1.1),\n",
    "       xlabel='time', ylabel='Infidelity',\n",
    "       title='Infidelity as a function of time ');"
   ]
  },
  {
   "cell_type": "code",
   "execution_count": null,
   "metadata": {
    "ExecuteTime": {
     "start_time": "2019-02-16T11:07:44.419Z"
    }
   },
   "outputs": [],
   "source": [
    "ax = axes()\n",
    "ax.plot(times, infid_grape_no_diss, label='grape_no_diss')\n",
    "ax.plot(times, infid_grape_diss, label='grape_diss')\n",
    "#ax.plot(times, infid_grape_diss_optimized, label='grape_diss_optimized')\n",
    "#ax.plot(x, cos(x), ':b', label='cos(x)')'-g',\n",
    "#ax.axis('equal')\n",
    "ax.legend()\n",
    "\n",
    "ax.set(xlim=(times[0],times[-1]), ylim=(0, 1.1),\n",
    "       xlabel='time', ylabel='Infidelity',\n",
    "       title='Infidelity as a function of time ');"
   ]
  },
  {
   "cell_type": "code",
   "execution_count": null,
   "metadata": {
    "ExecuteTime": {
     "start_time": "2019-02-16T11:07:44.424Z"
    }
   },
   "outputs": [],
   "source": [
    "ax = axes()\n",
    "ax.plot(times, infid_grape_no_diss, label='grape_no_diss')\n",
    "#ax.plot(times, infid_grape_diss, label='grape_diss')\n",
    "ax.plot(times, infid_grape_diss_optimized, label='grape_diss_optimized')\n",
    "#ax.plot(x, cos(x), ':b', label='cos(x)')'-g',\n",
    "#ax.axis('equal')\n",
    "ax.legend()\n",
    "\n",
    "ax.set(xlim=(times[0],times[-1]), ylim=(0, 1.1),\n",
    "       xlabel='time', ylabel='Infidelity',\n",
    "       title='Infidelity as a function of time ');"
   ]
  },
  {
   "cell_type": "code",
   "execution_count": null,
   "metadata": {
    "ExecuteTime": {
     "start_time": "2019-02-16T11:07:44.427Z"
    }
   },
   "outputs": [],
   "source": [
    "ax = axes()\n",
    "c_diff = result.u[-1, 0, : ] - xi_opt\n",
    "ax.plot(times, c_diff)\n",
    "c_max = amax(c_diff) + 0.1\n",
    "c_min = amin(c_diff) - 0.1\n",
    "\n",
    "ax.set(xlim=(0, total_time_evo), ylim=(c_min, c_max),\n",
    "       xlabel='time', ylabel= 'diff',\n",
    "       title='difference');"
   ]
  },
  {
   "cell_type": "code",
   "execution_count": null,
   "metadata": {},
   "outputs": [],
   "source": []
  },
  {
   "cell_type": "code",
   "execution_count": null,
   "metadata": {},
   "outputs": [],
   "source": []
  },
  {
   "cell_type": "code",
   "execution_count": null,
   "metadata": {},
   "outputs": [],
   "source": []
  },
  {
   "cell_type": "code",
   "execution_count": null,
   "metadata": {},
   "outputs": [],
   "source": []
  },
  {
   "cell_type": "code",
   "execution_count": null,
   "metadata": {},
   "outputs": [],
   "source": []
  },
  {
   "cell_type": "code",
   "execution_count": null,
   "metadata": {
    "ExecuteTime": {
     "start_time": "2019-02-16T11:07:44.433Z"
    }
   },
   "outputs": [],
   "source": [
    "ax = axes()\n",
    "ax.plot(times, xi_opt)\n",
    "xi_max = amax(xi_opt) + 0.1\n",
    "xi_min = amin(xi_opt) - 0.1\n",
    "\n",
    "ax.set(xlim=(0, total_time_evo), ylim=(xi_min, xi_max),\n",
    "       xlabel='time', ylabel= r'$g_{with diss}$',\n",
    "       title='Control field in the presence of dissipation');"
   ]
  },
  {
   "cell_type": "code",
   "execution_count": null,
   "metadata": {},
   "outputs": [],
   "source": []
  },
  {
   "cell_type": "code",
   "execution_count": null,
   "metadata": {},
   "outputs": [],
   "source": []
  },
  {
   "cell_type": "code",
   "execution_count": null,
   "metadata": {},
   "outputs": [],
   "source": []
  },
  {
   "cell_type": "code",
   "execution_count": null,
   "metadata": {},
   "outputs": [],
   "source": []
  },
  {
   "cell_type": "markdown",
   "metadata": {},
   "source": [
    "## Versions"
   ]
  },
  {
   "cell_type": "code",
   "execution_count": null,
   "metadata": {
    "ExecuteTime": {
     "start_time": "2019-02-16T11:07:44.699Z"
    }
   },
   "outputs": [],
   "source": [
    "from qutip.ipynbtools import version_table\n",
    "\n",
    "version_table()"
   ]
  },
  {
   "cell_type": "code",
   "execution_count": null,
   "metadata": {
    "ExecuteTime": {
     "start_time": "2019-02-16T11:07:44.703Z"
    }
   },
   "outputs": [],
   "source": [
    "cnot()"
   ]
  },
  {
   "cell_type": "code",
   "execution_count": null,
   "metadata": {},
   "outputs": [],
   "source": []
  }
 ],
 "metadata": {
  "kernelspec": {
   "display_name": "Python 3",
   "language": "python",
   "name": "python3"
  },
  "language_info": {
   "codemirror_mode": {
    "name": "ipython",
    "version": 3
   },
   "file_extension": ".py",
   "mimetype": "text/x-python",
   "name": "python",
   "nbconvert_exporter": "python",
   "pygments_lexer": "ipython3",
   "version": "3.6.8"
  },
  "toc": {
   "base_numbering": 1,
   "nav_menu": {},
   "number_sections": true,
   "sideBar": true,
   "skip_h1_title": false,
   "title_cell": "Table of Contents",
   "title_sidebar": "Contents",
   "toc_cell": false,
   "toc_position": {
    "height": "calc(100% - 180px)",
    "left": "10px",
    "top": "150px",
    "width": "288px"
   },
   "toc_section_display": true,
   "toc_window_display": true
  },
  "varInspector": {
   "cols": {
    "lenName": 16,
    "lenType": 16,
    "lenVar": 40
   },
   "kernels_config": {
    "python": {
     "delete_cmd_postfix": "",
     "delete_cmd_prefix": "del ",
     "library": "var_list.py",
     "varRefreshCmd": "print(var_dic_list())"
    },
    "r": {
     "delete_cmd_postfix": ") ",
     "delete_cmd_prefix": "rm(",
     "library": "var_list.r",
     "varRefreshCmd": "cat(var_dic_list()) "
    }
   },
   "types_to_exclude": [
    "module",
    "function",
    "builtin_function_or_method",
    "instance",
    "_Feature"
   ],
   "window_display": false
  }
 },
 "nbformat": 4,
 "nbformat_minor": 2
}
