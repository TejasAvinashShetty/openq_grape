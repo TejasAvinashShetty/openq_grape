{
 "cells": [
  {
   "cell_type": "markdown",
   "metadata": {},
   "source": [
    "# Imports"
   ]
  },
  {
   "cell_type": "markdown",
   "metadata": {},
   "source": [
    "Need to have jate.py in your folder"
   ]
  },
  {
   "cell_type": "code",
   "execution_count": 1,
   "metadata": {
    "ExecuteTime": {
     "end_time": "2019-02-16T10:13:13.429772Z",
     "start_time": "2019-02-16T10:13:09.616382Z"
    }
   },
   "outputs": [],
   "source": [
    "%run jate.py #will import everything"
   ]
  },
  {
   "cell_type": "markdown",
   "metadata": {},
   "source": [
    "# Next chapter"
   ]
  },
  {
   "cell_type": "markdown",
   "metadata": {},
   "source": [
    "## memory clear (uses regex, so be careful)"
   ]
  },
  {
   "cell_type": "code",
   "execution_count": 2,
   "metadata": {
    "ExecuteTime": {
     "end_time": "2019-02-16T10:13:13.433415Z",
     "start_time": "2019-02-16T10:13:13.431107Z"
    }
   },
   "outputs": [],
   "source": [
    "%reset_selective -f var1, var2  # replace var1, var2 with your defined ones"
   ]
  },
  {
   "cell_type": "markdown",
   "metadata": {},
   "source": [
    "## Building parts"
   ]
  },
  {
   "cell_type": "markdown",
   "metadata": {},
   "source": [
    "### Building the things to be calculated only once"
   ]
  },
  {
   "cell_type": "code",
   "execution_count": 3,
   "metadata": {
    "ExecuteTime": {
     "end_time": "2019-02-16T10:13:13.591273Z",
     "start_time": "2019-02-16T10:13:13.434642Z"
    },
    "code_folding": []
   },
   "outputs": [],
   "source": [
    "def maker(omega_1, H_0, H_1, T_s, Lin, d=2, gamma=0.1):\n",
    "    r\"\"\"maker\n",
    "    Makes all the things that remain constant throught the program, but are \n",
    "    repeatedly used.\n",
    "    \n",
    "\n",
    "    Parameters\n",
    "    ----------\n",
    "    omega_1 : float\n",
    "              frequency corresponding to half of the difference between \n",
    "              energy levels of the qubit\n",
    "              \n",
    "    H_0     : Qobj\n",
    "              Bare Hamiltonian \n",
    "              \n",
    "    H_1     : Qobj\n",
    "              Interaction Hamiltonian \n",
    "              \n",
    "    T_s     : Qobj\n",
    "              Unitary to be implemented in the Hilbert space\n",
    "    \n",
    "    Lin     : Qobj\n",
    "              Linbladian operators\n",
    "\n",
    "    d       : int\n",
    "              Dimension of the matrix. Defaults to 2\n",
    "    \n",
    "    gamma   : float\n",
    "              Damping constant of the Linbladian\n",
    "\n",
    "    \n",
    "    Returns\n",
    "    -------\n",
    "    \n",
    "    ih0     : Qobj\n",
    "              $I\\otimes H_{0}$\n",
    "              \n",
    "    ih1     : Qobj\n",
    "              $I\\otimes H_{1}$\n",
    "\n",
    "    h0ci    : Qobj\n",
    "              $H_{0}^{*}\\otimes I $\n",
    "\n",
    "    h1ci    : Qobj\n",
    "              $H_{1}^{*}\\otimes I $\n",
    "\n",
    "    T       : Qobj\n",
    "              Target unitary transformed to the Liouville space\n",
    "\n",
    "    linbladian : Qobj\n",
    "                 The full lindbladian term as it appears on transformation to \n",
    "                 the Liouville space.\n",
    "        \n",
    "    \"\"\"\n",
    "    I = identity(d)\n",
    "    L_I = tensor(I, I)\n",
    "    ih0 = tensor(I, H_0) \n",
    "    ih1 = tensor(I, H_1) \n",
    "    h0ci = tensor(H_0.conj(), I) \n",
    "    h1ci = tensor(H_1.conj(), I)\n",
    "    x_k = ih1 - h1ci\n",
    "    term1 = tensor(Lin.trans(), Lin)\n",
    "    term2 = tensor(I, ((Lin.dag())*(Lin)))\n",
    "    term3 = tensor(((Lin.trans())*(Lin.conj())), I)\n",
    "    lindbladian = 1j*(gamma)*(term1 - 0.5*(term2 + term3))\n",
    "    T = tensor(T_s.trans(), T_s) # Transforming $T_{s}$ to liouville space\n",
    "    \n",
    "    \n",
    "    return ih0, ih1, h0ci, h1ci, x_k, lindbladian, T, L_I"
   ]
  },
  {
   "cell_type": "code",
   "execution_count": 4,
   "metadata": {
    "ExecuteTime": {
     "end_time": "2019-02-16T10:13:13.685764Z",
     "start_time": "2019-02-16T10:13:13.592485Z"
    }
   },
   "outputs": [],
   "source": [
    "omega_1 = 0.5\n",
    "H_0 = omega_1*sigmaz() \n",
    "H_1 = sigmay()\n",
    "T_s = sigmax() \n",
    "Lin = sigmaz()\n",
    "gamma = 0.1 # check for default value\n",
    "ih0, ih1, h0ci, h1ci, x_k, lindbladian, T, L_I  = maker(omega_1,\n",
    "                                                  H_0, H_1, T_s, \n",
    "                                                  Lin, d=2, gamma=gamma)"
   ]
  },
  {
   "cell_type": "code",
   "execution_count": 5,
   "metadata": {
    "ExecuteTime": {
     "end_time": "2019-02-16T10:13:13.810149Z",
     "start_time": "2019-02-16T10:13:13.686917Z"
    }
   },
   "outputs": [
    {
     "data": {
      "text/plain": [
       "0.1"
      ]
     },
     "execution_count": 5,
     "metadata": {},
     "output_type": "execute_result"
    }
   ],
   "source": [
    "gamma"
   ]
  },
  {
   "cell_type": "code",
   "execution_count": 6,
   "metadata": {
    "ExecuteTime": {
     "end_time": "2019-02-16T10:13:13.910259Z",
     "start_time": "2019-02-16T10:13:13.811225Z"
    }
   },
   "outputs": [
    {
     "data": {
      "text/latex": [
       "Quantum object: dims = [[2, 2], [2, 2]], shape = (4, 4), type = oper, isherm = True\\begin{equation*}\\left(\\begin{array}{*{11}c}1.0 & 0.0 & 0.0 & 0.0\\\\0.0 & 1.0 & 0.0 & 0.0\\\\0.0 & 0.0 & 1.0 & 0.0\\\\0.0 & 0.0 & 0.0 & 1.0\\\\\\end{array}\\right)\\end{equation*}"
      ],
      "text/plain": [
       "Quantum object: dims = [[2, 2], [2, 2]], shape = (4, 4), type = oper, isherm = True\n",
       "Qobj data =\n",
       "[[1. 0. 0. 0.]\n",
       " [0. 1. 0. 0.]\n",
       " [0. 0. 1. 0.]\n",
       " [0. 0. 0. 1.]]"
      ]
     },
     "execution_count": 6,
     "metadata": {},
     "output_type": "execute_result"
    }
   ],
   "source": [
    "L_I"
   ]
  },
  {
   "cell_type": "markdown",
   "metadata": {},
   "source": [
    "### Building $A(t)$"
   ]
  },
  {
   "cell_type": "code",
   "execution_count": 7,
   "metadata": {
    "ExecuteTime": {
     "end_time": "2019-02-16T10:13:13.999895Z",
     "start_time": "2019-02-16T10:13:13.911284Z"
    }
   },
   "outputs": [],
   "source": [
    "def A(xi):\n",
    "    r\"\"\"making $A(t)$\"\"\"\n",
    "    A = ih0 - h0ci + xi*(ih1 - h1ci) + lindbladian\n",
    "    return A"
   ]
  },
  {
   "cell_type": "code",
   "execution_count": 8,
   "metadata": {
    "ExecuteTime": {
     "end_time": "2019-02-16T10:13:14.094405Z",
     "start_time": "2019-02-16T10:13:14.001084Z"
    }
   },
   "outputs": [
    {
     "data": {
      "text/latex": [
       "Quantum object: dims = [[2, 2], [2, 2]], shape = (4, 4), type = oper, isherm = False\\begin{equation*}\\left(\\begin{array}{*{11}c}0.0 & -0.500j & -0.500j & 0.0\\\\0.500j & (-1.0-0.200j) & 0.0 & -0.500j\\\\0.500j & 0.0 & (1.0-0.200j) & -0.500j\\\\0.0 & 0.500j & 0.500j & 0.0\\\\\\end{array}\\right)\\end{equation*}"
      ],
      "text/plain": [
       "Quantum object: dims = [[2, 2], [2, 2]], shape = (4, 4), type = oper, isherm = False\n",
       "Qobj data =\n",
       "[[ 0.+0.j   0.-0.5j  0.-0.5j  0.+0.j ]\n",
       " [ 0.+0.5j -1.-0.2j  0.+0.j   0.-0.5j]\n",
       " [ 0.+0.5j  0.+0.j   1.-0.2j  0.-0.5j]\n",
       " [ 0.+0.j   0.+0.5j  0.+0.5j  0.+0.j ]]"
      ]
     },
     "execution_count": 8,
     "metadata": {},
     "output_type": "execute_result"
    }
   ],
   "source": [
    "A(0.5)"
   ]
  },
  {
   "cell_type": "markdown",
   "metadata": {},
   "source": [
    "### Building $L(t)$ and the Identity in the Liouville space"
   ]
  },
  {
   "cell_type": "code",
   "execution_count": 9,
   "metadata": {
    "ExecuteTime": {
     "end_time": "2019-02-16T10:13:14.184139Z",
     "start_time": "2019-02-16T10:13:14.095536Z"
    }
   },
   "outputs": [],
   "source": [
    "def L(xi, dt):\n",
    "    r\"\"\"Making $L(t) from $A(t)$\"\"\"\n",
    "    L = (-1j*A(xi)*dt).expm()\n",
    "    return L"
   ]
  },
  {
   "cell_type": "code",
   "execution_count": 10,
   "metadata": {
    "ExecuteTime": {
     "end_time": "2019-02-16T10:13:14.698891Z",
     "start_time": "2019-02-16T10:13:14.185991Z"
    }
   },
   "outputs": [
    {
     "data": {
      "text/latex": [
       "Quantum object: dims = [[2, 2], [2, 2]], shape = (4, 4), type = oper, isherm = False\\begin{equation*}\\left(\\begin{array}{*{11}c}1.000 & (-4.999\\times10^{-04}-2.500\\times10^{-07}j) & (-4.999\\times10^{-04}+2.500\\times10^{-07}j) & 2.500\\times10^{-07}\\\\(4.999\\times10^{-04}+2.500\\times10^{-07}j) & (1.000+9.998\\times10^{-04}j) & -2.500\\times10^{-07} & (-4.999\\times10^{-04}-2.500\\times10^{-07}j)\\\\(4.999\\times10^{-04}-2.500\\times10^{-07}j) & -2.500\\times10^{-07} & (1.000-9.998\\times10^{-04}j) & (-4.999\\times10^{-04}+2.500\\times10^{-07}j)\\\\2.500\\times10^{-07} & (4.999\\times10^{-04}+2.500\\times10^{-07}j) & (4.999\\times10^{-04}-2.500\\times10^{-07}j) & 1.000\\\\\\end{array}\\right)\\end{equation*}"
      ],
      "text/plain": [
       "Quantum object: dims = [[2, 2], [2, 2]], shape = (4, 4), type = oper, isherm = False\n",
       "Qobj data =\n",
       "[[ 9.99999750e-01+0.00000000e+00j -4.99949837e-04-2.49966628e-07j\n",
       "  -4.99949837e-04+2.49966628e-07j  2.49983293e-07+0.00000000e+00j]\n",
       " [ 4.99949837e-04+2.49966628e-07j  9.99799270e-01+9.99799687e-04j\n",
       "  -2.49966628e-07+0.00000000e+00j -4.99949837e-04-2.49966628e-07j]\n",
       " [ 4.99949837e-04-2.49966628e-07j -2.49966628e-07+0.00000000e+00j\n",
       "   9.99799270e-01-9.99799687e-04j -4.99949837e-04+2.49966628e-07j]\n",
       " [ 2.49983293e-07+0.00000000e+00j  4.99949837e-04+2.49966628e-07j\n",
       "   4.99949837e-04-2.49966628e-07j  9.99999750e-01+0.00000000e+00j]]"
      ]
     },
     "execution_count": 10,
     "metadata": {},
     "output_type": "execute_result"
    }
   ],
   "source": [
    "L(0.5, 0.001)"
   ]
  },
  {
   "cell_type": "markdown",
   "metadata": {},
   "source": [
    "## Major functions"
   ]
  },
  {
   "cell_type": "markdown",
   "metadata": {},
   "source": [
    "### Major functions 1"
   ]
  },
  {
   "cell_type": "code",
   "execution_count": 11,
   "metadata": {
    "ExecuteTime": {
     "end_time": "2019-02-16T10:13:14.704111Z",
     "start_time": "2019-02-16T10:13:14.700578Z"
    }
   },
   "outputs": [],
   "source": [
    "# building the function to optimize (optimizee)\n",
    "def L_vec(xi_vec, dt):\n",
    "    r\"\"\"Building the vector of differential $L(t)$\"\"\"\n",
    "    L_vec = [L(xi, dt) for xi in xi_vec] \n",
    "    return L_vec"
   ]
  },
  {
   "cell_type": "code",
   "execution_count": 12,
   "metadata": {
    "ExecuteTime": {
     "end_time": "2019-02-16T10:13:14.792065Z",
     "start_time": "2019-02-16T10:13:14.706476Z"
    }
   },
   "outputs": [],
   "source": [
    "def fidelity_calc(A, B):\n",
    "    r\"\"\"Making a generalised fidelity function\"\"\"\n",
    "    first_part = (A - B).dag()\n",
    "    second_part = (A - B)\n",
    "    f_int = (first_part* second_part)\n",
    "    f = f_int.tr()\n",
    "    return f"
   ]
  },
  {
   "cell_type": "code",
   "execution_count": 13,
   "metadata": {
    "ExecuteTime": {
     "end_time": "2019-02-16T10:13:14.866776Z",
     "start_time": "2019-02-16T10:13:14.793605Z"
    }
   },
   "outputs": [],
   "source": [
    "def L_full_maker(xi_vec, dt):\n",
    "    r\"\"\"Building the $L(t)$ for the total time $t$\"\"\"\n",
    "    xi_vec_size = xi_vec.size # finding the size of xi\n",
    "    L_full = L_I # Identity for the for loop of L\n",
    "    L_v = L_vec(xi_vec, dt) # calling L_vec\n",
    "    for i in range(xi_vec_size): # generating L_full\n",
    "        L_full = L_full*L_v[xi_vec_size - 1 - i]\n",
    "    return L_full"
   ]
  },
  {
   "cell_type": "code",
   "execution_count": 14,
   "metadata": {
    "ExecuteTime": {
     "end_time": "2019-02-16T10:13:14.950339Z",
     "start_time": "2019-02-16T10:13:14.867875Z"
    }
   },
   "outputs": [],
   "source": [
    "def F(xi_vec, dt):\n",
    "    r\"\"\"Using the fidelity metric to find out the closeness between $T$\n",
    "    and $L(t)$\"\"\"\n",
    "    L_full = L_full_maker(xi_vec, dt)\n",
    "    F = real(-fidelity_calc(T, L_full))   \n",
    "    return F"
   ]
  },
  {
   "cell_type": "markdown",
   "metadata": {},
   "source": [
    "### Testing major functions 1"
   ]
  },
  {
   "cell_type": "code",
   "execution_count": 15,
   "metadata": {
    "ExecuteTime": {
     "end_time": "2019-02-16T10:13:15.035443Z",
     "start_time": "2019-02-16T10:13:14.951499Z"
    }
   },
   "outputs": [
    {
     "data": {
      "text/plain": [
       "4.0"
      ]
     },
     "execution_count": 15,
     "metadata": {},
     "output_type": "execute_result"
    }
   ],
   "source": [
    "fidelity_calc(sigmax(), sigmay())"
   ]
  },
  {
   "cell_type": "code",
   "execution_count": 16,
   "metadata": {
    "ExecuteTime": {
     "end_time": "2019-02-16T10:13:15.129608Z",
     "start_time": "2019-02-16T10:13:15.036604Z"
    }
   },
   "outputs": [
    {
     "data": {
      "text/plain": [
       "0.0"
      ]
     },
     "execution_count": 16,
     "metadata": {},
     "output_type": "execute_result"
    }
   ],
   "source": [
    "fidelity_calc(sigmay(), sigmay())"
   ]
  },
  {
   "cell_type": "code",
   "execution_count": 17,
   "metadata": {
    "ExecuteTime": {
     "end_time": "2019-02-16T10:13:15.209763Z",
     "start_time": "2019-02-16T10:13:15.131689Z"
    }
   },
   "outputs": [
    {
     "data": {
      "text/plain": [
       "array([1., 2.])"
      ]
     },
     "execution_count": 17,
     "metadata": {},
     "output_type": "execute_result"
    }
   ],
   "source": [
    "xi_vec_test = array([1.0, 2.0])\n",
    "xi_vec_test"
   ]
  },
  {
   "cell_type": "code",
   "execution_count": 18,
   "metadata": {
    "ExecuteTime": {
     "end_time": "2019-02-16T10:13:15.292664Z",
     "start_time": "2019-02-16T10:13:15.211691Z"
    }
   },
   "outputs": [
    {
     "data": {
      "text/plain": [
       "2"
      ]
     },
     "execution_count": 18,
     "metadata": {},
     "output_type": "execute_result"
    }
   ],
   "source": [
    "xi_vec_test.size"
   ]
  },
  {
   "cell_type": "code",
   "execution_count": 19,
   "metadata": {
    "ExecuteTime": {
     "end_time": "2019-02-16T10:13:15.376305Z",
     "start_time": "2019-02-16T10:13:15.293908Z"
    }
   },
   "outputs": [
    {
     "data": {
      "text/plain": [
       "[1.0, 4.0]"
      ]
     },
     "execution_count": 19,
     "metadata": {},
     "output_type": "execute_result"
    }
   ],
   "source": [
    "w_vec = [xi**2 for xi in xi_vec_test]\n",
    "w_vec"
   ]
  },
  {
   "cell_type": "code",
   "execution_count": 20,
   "metadata": {
    "ExecuteTime": {
     "end_time": "2019-02-16T10:13:15.464727Z",
     "start_time": "2019-02-16T10:13:15.377328Z"
    }
   },
   "outputs": [
    {
     "data": {
      "text/plain": [
       "-7.998400634493138"
      ]
     },
     "execution_count": 20,
     "metadata": {},
     "output_type": "execute_result"
    }
   ],
   "source": [
    "# F(xi_vec, dt)\n",
    "F(xi_vec_test, 0.001)"
   ]
  },
  {
   "cell_type": "code",
   "execution_count": 21,
   "metadata": {
    "ExecuteTime": {
     "end_time": "2019-02-16T10:13:15.592365Z",
     "start_time": "2019-02-16T10:13:15.466317Z"
    }
   },
   "outputs": [],
   "source": [
    "L_v = L_vec(xi_vec_test, 0.001)"
   ]
  },
  {
   "cell_type": "code",
   "execution_count": 22,
   "metadata": {
    "ExecuteTime": {
     "end_time": "2019-02-16T10:13:15.669784Z",
     "start_time": "2019-02-16T10:13:15.593905Z"
    }
   },
   "outputs": [
    {
     "data": {
      "text/plain": [
       "[Quantum object: dims = [[2, 2], [2, 2]], shape = (4, 4), type = oper, isherm = False\n",
       " Qobj data =\n",
       " [[ 9.99999000e-01+0.00000000e+00j -9.99899173e-04-4.99933130e-07j\n",
       "   -9.99899173e-04+4.99933130e-07j  9.99932920e-07+0.00000000e+00j]\n",
       "  [ 9.99899173e-04+4.99933130e-07j  9.99798520e-01+9.99799187e-04j\n",
       "   -9.99866260e-07+0.00000000e+00j -9.99899173e-04-4.99933130e-07j]\n",
       "  [ 9.99899173e-04-4.99933130e-07j -9.99866260e-07+0.00000000e+00j\n",
       "    9.99798520e-01-9.99799187e-04j -9.99899173e-04+4.99933130e-07j]\n",
       "  [ 9.99932920e-07+0.00000000e+00j  9.99899173e-04+4.99933130e-07j\n",
       "    9.99899173e-04-4.99933130e-07j  9.99999000e-01+0.00000000e+00j]],\n",
       " Quantum object: dims = [[2, 2], [2, 2]], shape = (4, 4), type = oper, isherm = False\n",
       " Qobj data =\n",
       " [[ 9.99996000e-01+0.00000000e+00j -1.99979435e-03-9.99865260e-07j\n",
       "   -1.99979435e-03+9.99865260e-07j  3.99972768e-06+0.00000000e+00j]\n",
       "  [ 1.99979435e-03+9.99865260e-07j  9.99795521e-01+9.99797187e-04j\n",
       "   -3.99946104e-06+0.00000000e+00j -1.99979435e-03-9.99865260e-07j]\n",
       "  [ 1.99979435e-03-9.99865260e-07j -3.99946104e-06+0.00000000e+00j\n",
       "    9.99795521e-01-9.99797187e-04j -1.99979435e-03+9.99865260e-07j]\n",
       "  [ 3.99972768e-06+0.00000000e+00j  1.99979435e-03+9.99865260e-07j\n",
       "    1.99979435e-03-9.99865260e-07j  9.99996000e-01+0.00000000e+00j]]]"
      ]
     },
     "execution_count": 22,
     "metadata": {},
     "output_type": "execute_result"
    }
   ],
   "source": [
    "L_v"
   ]
  },
  {
   "cell_type": "markdown",
   "metadata": {},
   "source": [
    "### Major Functions 2"
   ]
  },
  {
   "cell_type": "code",
   "execution_count": 23,
   "metadata": {
    "ExecuteTime": {
     "end_time": "2019-02-16T10:13:15.742397Z",
     "start_time": "2019-02-16T10:13:15.671437Z"
    }
   },
   "outputs": [],
   "source": [
    "def L_comma_k_maker(xi_vec, k, dt):\n",
    "    r\"\"\"Making of the derivative of full $L(t)$ at time $t_{k}$\"\"\"\n",
    "    N = xi_vec.size \n",
    "    # Determining the size of xi, and thus the time_steps indirectly.\n",
    "    L_v = L_vec(xi_vec, dt)# Making of the full $L(t)$\n",
    "    inner_part = L_I # Beginner for the for loop\n",
    "    for i in range(N):\n",
    "        if i == ( N - 1 - k ):\n",
    "            # The step at which $X_{k}(t)$ has to be inserted \n",
    "            inner_part = inner_part*x_k*L_v[k - 1]\n",
    "        else:\n",
    "            # Usual multiplications of $L_{k}$\n",
    "            inner_part = inner_part*L_v[N - 1 - i]\n",
    "    l_comma_k = inner_part\n",
    "    return l_comma_k\n",
    "    "
   ]
  },
  {
   "cell_type": "code",
   "execution_count": 24,
   "metadata": {
    "ExecuteTime": {
     "end_time": "2019-02-16T10:13:15.902114Z",
     "start_time": "2019-02-16T10:13:15.743672Z"
    }
   },
   "outputs": [
    {
     "data": {
      "text/latex": [
       "Quantum object: dims = [[2, 2], [2, 2]], shape = (4, 4), type = oper, isherm = False\\begin{equation*}\\left(\\begin{array}{*{11}c}1.000 & (-0.003-3.499\\times10^{-06}j) & (-0.003+3.499\\times10^{-06}j) & 8.999\\times10^{-06}\\\\(0.003+2.499\\times10^{-06}j) & (1.000+0.002j) & (-8.998\\times10^{-06}+2.999\\times10^{-09}j) & (-0.003-2.499\\times10^{-06}j)\\\\(0.003-2.499\\times10^{-06}j) & (-8.998\\times10^{-06}-2.999\\times10^{-09}j) & (1.000-0.002j) & (-0.003+2.499\\times10^{-06}j)\\\\8.999\\times10^{-06} & (0.003+3.499\\times10^{-06}j) & (0.003-3.499\\times10^{-06}j) & 1.000\\\\\\end{array}\\right)\\end{equation*}"
      ],
      "text/plain": [
       "Quantum object: dims = [[2, 2], [2, 2]], shape = (4, 4), type = oper, isherm = False\n",
       "Qobj data =\n",
       "[[ 9.99991001e-01+0.00000000e+00j -2.99927960e-03-3.49898670e-06j\n",
       "  -2.99927960e-03+3.49898670e-06j  8.99883703e-06+0.00000000e+00j]\n",
       " [ 2.99948056e-03+2.49939255e-06j  9.99589083e-01+1.99918650e-03j\n",
       "  -8.99750347e-06+2.99899242e-09j -2.99948056e-03-2.49939255e-06j]\n",
       " [ 2.99948056e-03-2.49939255e-06j -8.99750347e-06-2.99899242e-09j\n",
       "   9.99589083e-01-1.99918650e-03j -2.99948056e-03+2.49939255e-06j]\n",
       " [ 8.99883703e-06+0.00000000e+00j  2.99927960e-03+3.49898670e-06j\n",
       "   2.99927960e-03-3.49898670e-06j  9.99991001e-01+0.00000000e+00j]]"
      ]
     },
     "execution_count": 24,
     "metadata": {},
     "output_type": "execute_result"
    }
   ],
   "source": [
    "# L_comma_k_maker(xi_vec, k, dt)\n",
    "L_comma_k_maker(xi_vec_test, 2, 0.001)"
   ]
  },
  {
   "cell_type": "code",
   "execution_count": 25,
   "metadata": {
    "ExecuteTime": {
     "end_time": "2019-02-16T10:13:15.975997Z",
     "start_time": "2019-02-16T10:13:15.903413Z"
    }
   },
   "outputs": [],
   "source": [
    "def updater(xi_vec, dt, epsilon):\n",
    "    r\"\"\"Implementing the GRAPE update step\"\"\"\n",
    "    xi_vec_size = xi_vec.size # finding the size of xi\n",
    "    L_full = L_full_maker(xi_vec, dt)\n",
    "    di = []\n",
    "    for k in range(xi_vec_size):\n",
    "        # Building the thing to be added to the old function\n",
    "        L_comma_k = L_comma_k_maker(xi_vec, k, dt)\n",
    "        differentiated = T - L_comma_k\n",
    "        plain = T - L_full\n",
    "        c = -differentiated.dag()*plain\n",
    "        d = -plain.dag()*differentiated\n",
    "        inside = c.tr() + d.tr()\n",
    "        di.append(epsilon*inside)\n",
    "\n",
    "    diff = array(di)\n",
    "    xi_new_vec = xi_vec + diff\n",
    "    return diff, xi_new_vec\n",
    "    "
   ]
  },
  {
   "cell_type": "code",
   "execution_count": 26,
   "metadata": {
    "ExecuteTime": {
     "end_time": "2019-02-16T10:13:16.052175Z",
     "start_time": "2019-02-16T10:13:15.977187Z"
    }
   },
   "outputs": [
    {
     "data": {
      "text/plain": [
       "(array([-0.008+0.j, -0.008+0.j]), array([0.992+0.j, 1.992+0.j]))"
      ]
     },
     "execution_count": 26,
     "metadata": {},
     "output_type": "execute_result"
    }
   ],
   "source": [
    "#  updater(xi_vec, dt, epsilon)\n",
    "updater(xi_vec_test, 0.001, 0.001)"
   ]
  },
  {
   "cell_type": "markdown",
   "metadata": {},
   "source": [
    "## Qutip grape for closed system"
   ]
  },
  {
   "cell_type": "code",
   "execution_count": 27,
   "metadata": {
    "ExecuteTime": {
     "end_time": "2019-02-16T10:13:16.176474Z",
     "start_time": "2019-02-16T10:13:16.053295Z"
    }
   },
   "outputs": [],
   "source": [
    "import time"
   ]
  },
  {
   "cell_type": "code",
   "execution_count": 28,
   "metadata": {
    "ExecuteTime": {
     "end_time": "2019-02-16T10:13:16.250940Z",
     "start_time": "2019-02-16T10:13:16.177968Z"
    }
   },
   "outputs": [],
   "source": [
    "total_time_evo = 2*pi # total time allowed for evolution"
   ]
  },
  {
   "cell_type": "code",
   "execution_count": 29,
   "metadata": {
    "ExecuteTime": {
     "end_time": "2019-02-16T10:13:16.317657Z",
     "start_time": "2019-02-16T10:13:16.252170Z"
    }
   },
   "outputs": [],
   "source": [
    "times = linspace(0, total_time_evo, 500) "
   ]
  },
  {
   "cell_type": "code",
   "execution_count": 30,
   "metadata": {
    "ExecuteTime": {
     "end_time": "2019-02-16T10:13:16.392598Z",
     "start_time": "2019-02-16T10:13:16.318960Z"
    }
   },
   "outputs": [],
   "source": [
    "# vector of times at which discretization \n",
    "# is carried out"
   ]
  },
  {
   "cell_type": "code",
   "execution_count": 31,
   "metadata": {
    "ExecuteTime": {
     "end_time": "2019-02-16T10:13:16.460764Z",
     "start_time": "2019-02-16T10:13:16.394055Z"
    }
   },
   "outputs": [
    {
     "data": {
      "text/latex": [
       "Quantum object: dims = [[2], [2]], shape = (2, 2), type = oper, isherm = True\\begin{equation*}\\left(\\begin{array}{*{11}c}0.0 & 1.0\\\\1.0 & 0.0\\\\\\end{array}\\right)\\end{equation*}"
      ],
      "text/plain": [
       "Quantum object: dims = [[2], [2]], shape = (2, 2), type = oper, isherm = True\n",
       "Qobj data =\n",
       "[[0. 1.]\n",
       " [1. 0.]]"
      ]
     },
     "execution_count": 31,
     "metadata": {},
     "output_type": "execute_result"
    }
   ],
   "source": [
    "U = T_s\n",
    "U"
   ]
  },
  {
   "cell_type": "code",
   "execution_count": 32,
   "metadata": {
    "ExecuteTime": {
     "end_time": "2019-02-16T10:13:16.534233Z",
     "start_time": "2019-02-16T10:13:16.462177Z"
    }
   },
   "outputs": [],
   "source": [
    "R = 500"
   ]
  },
  {
   "cell_type": "code",
   "execution_count": 33,
   "metadata": {
    "ExecuteTime": {
     "end_time": "2019-02-16T10:13:16.610205Z",
     "start_time": "2019-02-16T10:13:16.535582Z"
    }
   },
   "outputs": [
    {
     "data": {
      "text/plain": [
       "[Quantum object: dims = [[2], [2]], shape = (2, 2), type = oper, isherm = True\n",
       " Qobj data =\n",
       " [[0.+0.j 0.-1.j]\n",
       "  [0.+1.j 0.+0.j]]]"
      ]
     },
     "execution_count": 33,
     "metadata": {},
     "output_type": "execute_result"
    }
   ],
   "source": [
    "H_ops = [H_1]\n",
    "H_ops"
   ]
  },
  {
   "cell_type": "code",
   "execution_count": 34,
   "metadata": {
    "ExecuteTime": {
     "end_time": "2019-02-16T10:13:16.676553Z",
     "start_time": "2019-02-16T10:13:16.611470Z"
    }
   },
   "outputs": [
    {
     "data": {
      "text/plain": [
       "['$g_{no diss}$']"
      ]
     },
     "execution_count": 34,
     "metadata": {},
     "output_type": "execute_result"
    }
   ],
   "source": [
    "H_labels = [r'$g_{no diss}$']\n",
    "H_labels"
   ]
  },
  {
   "cell_type": "code",
   "execution_count": 35,
   "metadata": {
    "ExecuteTime": {
     "end_time": "2019-02-16T10:13:16.752150Z",
     "start_time": "2019-02-16T10:13:16.677836Z"
    }
   },
   "outputs": [
    {
     "data": {
      "text/latex": [
       "Quantum object: dims = [[2], [2]], shape = (2, 2), type = oper, isherm = True\\begin{equation*}\\left(\\begin{array}{*{11}c}0.500 & 0.0\\\\0.0 & -0.500\\\\\\end{array}\\right)\\end{equation*}"
      ],
      "text/plain": [
       "Quantum object: dims = [[2], [2]], shape = (2, 2), type = oper, isherm = True\n",
       "Qobj data =\n",
       "[[ 0.5  0. ]\n",
       " [ 0.  -0.5]]"
      ]
     },
     "execution_count": 35,
     "metadata": {},
     "output_type": "execute_result"
    }
   ],
   "source": [
    "H0 = H_0\n",
    "H0"
   ]
  },
  {
   "cell_type": "code",
   "execution_count": 36,
   "metadata": {
    "ExecuteTime": {
     "end_time": "2019-02-16T10:13:16.817662Z",
     "start_time": "2019-02-16T10:13:16.753307Z"
    }
   },
   "outputs": [],
   "source": [
    "c_ops = []"
   ]
  },
  {
   "cell_type": "code",
   "execution_count": 37,
   "metadata": {
    "ExecuteTime": {
     "end_time": "2019-02-16T10:13:16.892975Z",
     "start_time": "2019-02-16T10:13:16.819033Z"
    }
   },
   "outputs": [],
   "source": [
    "from qutip.control.grape import plot_grape_control_fields, _overlap \n",
    "from qutip.control.grape import grape_unitary_adaptive, cy_grape_unitary"
   ]
  },
  {
   "cell_type": "code",
   "execution_count": 38,
   "metadata": {
    "ExecuteTime": {
     "end_time": "2019-02-16T10:13:16.968016Z",
     "start_time": "2019-02-16T10:13:16.894352Z"
    }
   },
   "outputs": [],
   "source": [
    "from scipy.interpolate import interp1d\n",
    "from qutip.ui.progressbar import TextProgressBar, EnhancedTextProgressBar"
   ]
  },
  {
   "cell_type": "code",
   "execution_count": 39,
   "metadata": {
    "ExecuteTime": {
     "end_time": "2019-02-16T10:13:17.042748Z",
     "start_time": "2019-02-16T10:13:16.969152Z"
    }
   },
   "outputs": [],
   "source": [
    "u0 = array([rand(len(times)) * 2 * pi * 0.05 for _ in range(len(H_ops))])"
   ]
  },
  {
   "cell_type": "code",
   "execution_count": 40,
   "metadata": {
    "ExecuteTime": {
     "end_time": "2019-02-16T10:13:17.187101Z",
     "start_time": "2019-02-16T10:13:17.043829Z"
    }
   },
   "outputs": [],
   "source": [
    "from numpy import convolve\n",
    "u0 = [convolve(ones(10)/10, u0[idx,:], mode='same') for idx in range(len(H_ops))]"
   ]
  },
  {
   "cell_type": "code",
   "execution_count": 41,
   "metadata": {
    "ExecuteTime": {
     "end_time": "2019-02-16T10:13:17.283912Z",
     "start_time": "2019-02-16T10:13:17.189463Z"
    }
   },
   "outputs": [],
   "source": [
    "u_limits = None #[0, 1 * 2 * pi]\n",
    "alpha = None"
   ]
  },
  {
   "cell_type": "code",
   "execution_count": 42,
   "metadata": {
    "ExecuteTime": {
     "end_time": "2019-02-16T10:18:53.240806Z",
     "start_time": "2019-02-16T10:13:17.285188Z"
    }
   },
   "outputs": [
    {
     "name": "stdout",
     "output_type": "stream",
     "text": [
      "10.0%. Run time:  35.21s. Est. time left: 00:00:05:16\n",
      "20.0%. Run time:  68.84s. Est. time left: 00:00:04:35\n",
      "30.0%. Run time: 102.50s. Est. time left: 00:00:03:59\n",
      "40.0%. Run time: 135.89s. Est. time left: 00:00:03:23\n",
      "50.0%. Run time: 169.45s. Est. time left: 00:00:02:49\n",
      "60.0%. Run time: 202.93s. Est. time left: 00:00:02:15\n",
      "70.0%. Run time: 236.24s. Est. time left: 00:00:01:41\n",
      "80.0%. Run time: 269.57s. Est. time left: 00:00:01:07\n",
      "90.0%. Run time: 302.86s. Est. time left: 00:00:00:33\n",
      "Total run time: 335.83s\n"
     ]
    }
   ],
   "source": [
    "result = cy_grape_unitary(U, H0, H_ops, R, times, u_start=u0, u_limits=u_limits,\n",
    "                          eps=2*np.pi*1, alpha=alpha, phase_sensitive=False,\n",
    "                          progress_bar=TextProgressBar())"
   ]
  },
  {
   "cell_type": "markdown",
   "metadata": {},
   "source": [
    "#### Plot of optimized control field without dissipation"
   ]
  },
  {
   "cell_type": "code",
   "execution_count": 43,
   "metadata": {
    "ExecuteTime": {
     "end_time": "2019-02-16T10:18:54.841110Z",
     "start_time": "2019-02-16T10:18:53.242975Z"
    }
   },
   "outputs": [
    {
     "data": {
      "image/png": "[encoded data removed]",
      "text/plain": [
       "<Figure size 576x144 with 1 Axes>"
      ]
     },
     "metadata": {
      "needs_background": "light"
     },
     "output_type": "display_data"
    }
   ],
   "source": [
    "plot_grape_control_fields(times,\n",
    "                          result.u / (2 * np.pi), H_labels, uniform_axes=True);"
   ]
  },
  {
   "cell_type": "code",
   "execution_count": 44,
   "metadata": {
    "ExecuteTime": {
     "end_time": "2019-02-16T10:18:54.846105Z",
     "start_time": "2019-02-16T10:18:54.842591Z"
    }
   },
   "outputs": [
    {
     "data": {
      "text/latex": [
       "Quantum object: dims = [[2], [2]], shape = (2, 2), type = oper, isherm = True\\begin{equation*}\\left(\\begin{array}{*{11}c}0.0 & 1.0\\\\1.0 & 0.0\\\\\\end{array}\\right)\\end{equation*}"
      ],
      "text/plain": [
       "Quantum object: dims = [[2], [2]], shape = (2, 2), type = oper, isherm = True\n",
       "Qobj data =\n",
       "[[0. 1.]\n",
       " [1. 0.]]"
      ]
     },
     "execution_count": 44,
     "metadata": {},
     "output_type": "execute_result"
    }
   ],
   "source": [
    "U"
   ]
  },
  {
   "cell_type": "code",
   "execution_count": 45,
   "metadata": {
    "ExecuteTime": {
     "end_time": "2019-02-16T10:18:54.934476Z",
     "start_time": "2019-02-16T10:18:54.847793Z"
    }
   },
   "outputs": [
    {
     "data": {
      "text/latex": [
       "Quantum object: dims = [[2], [2]], shape = (2, 2), type = oper, isherm = False\\begin{equation*}\\left(\\begin{array}{*{11}c}-9.937\\times10^{-17} & 1.000j\\\\1.0j & 9.631\\times10^{-17}\\\\\\end{array}\\right)\\end{equation*}"
      ],
      "text/plain": [
       "Quantum object: dims = [[2], [2]], shape = (2, 2), type = oper, isherm = False\n",
       "Qobj data =\n",
       "[[-9.93671291e-17-5.28223298e-16j  5.11270072e-16+1.00000000e+00j]\n",
       " [-2.04523110e-17+1.00000000e+00j  9.63110342e-17-4.99600361e-16j]]"
      ]
     },
     "execution_count": 45,
     "metadata": {},
     "output_type": "execute_result"
    }
   ],
   "source": [
    "result.U_f"
   ]
  },
  {
   "cell_type": "markdown",
   "metadata": {},
   "source": [
    "## Analysis of result of qutip grape for closed system"
   ]
  },
  {
   "cell_type": "code",
   "execution_count": 46,
   "metadata": {
    "ExecuteTime": {
     "end_time": "2019-02-16T10:18:55.025712Z",
     "start_time": "2019-02-16T10:18:54.935812Z"
    }
   },
   "outputs": [
    {
     "data": {
      "text/latex": [
       "Quantum object: dims = [[2], [2]], shape = (2, 2), type = oper, isherm = False\\begin{equation*}\\left(\\begin{array}{*{11}c}1.0 & (-1.828\\times10^{+15}-3.440\\times10^{+14}j)\\\\(-1.828\\times10^{+15}-3.440\\times10^{+14}j) & (0.880+0.348j)\\\\\\end{array}\\right)\\end{equation*}"
      ],
      "text/plain": [
       "Quantum object: dims = [[2], [2]], shape = (2, 2), type = oper, isherm = False\n",
       "Qobj data =\n",
       "[[ 1.00000000e+00+0.00000000e+00j -1.82843494e+15-3.43957436e+14j]\n",
       " [-1.82843494e+15-3.43957436e+14j  8.80359862e-01+3.47939720e-01j]]"
      ]
     },
     "execution_count": 46,
     "metadata": {},
     "output_type": "execute_result"
    }
   ],
   "source": [
    "result.U_f/result.U_f[0,0]"
   ]
  },
  {
   "cell_type": "code",
   "execution_count": 47,
   "metadata": {
    "ExecuteTime": {
     "end_time": "2019-02-16T10:18:55.190596Z",
     "start_time": "2019-02-16T10:18:55.027159Z"
    }
   },
   "outputs": [
    {
     "data": {
      "text/plain": [
       "(<Figure size 432x288 with 2 Axes>,\n",
       " <mpl_toolkits.mplot3d.axes3d.Axes3D at 0x7fefd050f3c8>)"
      ]
     },
     "execution_count": 47,
     "metadata": {},
     "output_type": "execute_result"
    },
    {
     "data": {
      "image/png": "[encoded data removed]",
      "text/plain": [
       "<Figure size 432x288 with 2 Axes>"
      ]
     },
     "metadata": {
      "needs_background": "light"
     },
     "output_type": "display_data"
    }
   ],
   "source": [
    "matrix_histogram(U)"
   ]
  },
  {
   "cell_type": "code",
   "execution_count": 48,
   "metadata": {
    "ExecuteTime": {
     "end_time": "2019-02-16T10:18:55.288215Z",
     "start_time": "2019-02-16T10:18:55.192183Z"
    }
   },
   "outputs": [
    {
     "data": {
      "text/plain": [
       "(<Figure size 432x288 with 2 Axes>,\n",
       " <mpl_toolkits.mplot3d.axes3d.Axes3D at 0x7fefd043c240>)"
      ]
     },
     "execution_count": 48,
     "metadata": {},
     "output_type": "execute_result"
    },
    {
     "data": {
      "image/png": "[encoded data removed]",
      "text/plain": [
       "<Figure size 432x288 with 2 Axes>"
      ]
     },
     "metadata": {
      "needs_background": "light"
     },
     "output_type": "display_data"
    }
   ],
   "source": [
    "matrix_histogram(result.U_f)"
   ]
  },
  {
   "cell_type": "code",
   "execution_count": 49,
   "metadata": {
    "ExecuteTime": {
     "end_time": "2019-02-16T10:18:55.583453Z",
     "start_time": "2019-02-16T10:18:55.289494Z"
    }
   },
   "outputs": [
    {
     "data": {
      "text/plain": [
       "(<Figure size 432x288 with 2 Axes>,\n",
       " <mpl_toolkits.mplot3d.axes3d.Axes3D at 0x7fefd03a70b8>)"
      ]
     },
     "execution_count": 49,
     "metadata": {},
     "output_type": "execute_result"
    },
    {
     "data": {
      "image/png": "[encoded data removed]",
      "text/plain": [
       "<Figure size 432x288 with 2 Axes>"
      ]
     },
     "metadata": {
      "needs_background": "light"
     },
     "output_type": "display_data"
    }
   ],
   "source": [
    "matrix_histogram_complex(U)"
   ]
  },
  {
   "cell_type": "code",
   "execution_count": 50,
   "metadata": {
    "ExecuteTime": {
     "end_time": "2019-02-16T10:18:55.721780Z",
     "start_time": "2019-02-16T10:18:55.584960Z"
    }
   },
   "outputs": [
    {
     "data": {
      "text/plain": [
       "(<Figure size 432x288 with 2 Axes>,\n",
       " <mpl_toolkits.mplot3d.axes3d.Axes3D at 0x7fefd0351278>)"
      ]
     },
     "execution_count": 50,
     "metadata": {},
     "output_type": "execute_result"
    },
    {
     "data": {
      "image/png": "[encoded data removed]",
      "text/plain": [
       "<Figure size 432x288 with 2 Axes>"
      ]
     },
     "metadata": {
      "needs_background": "light"
     },
     "output_type": "display_data"
    }
   ],
   "source": [
    "matrix_histogram_complex(result.U_f)"
   ]
  },
  {
   "cell_type": "code",
   "execution_count": 51,
   "metadata": {
    "ExecuteTime": {
     "end_time": "2019-02-16T10:18:55.862128Z",
     "start_time": "2019-02-16T10:18:55.723083Z"
    }
   },
   "outputs": [
    {
     "data": {
      "text/plain": [
       "(<Figure size 576x432 with 2 Axes>,\n",
       " <matplotlib.axes._subplots.AxesSubplot at 0x7fefd0276a20>)"
      ]
     },
     "execution_count": 51,
     "metadata": {},
     "output_type": "execute_result"
    },
    {
     "data": {
      "image/png": "[encoded data removed]",
      "text/plain": [
       "<Figure size 576x432 with 2 Axes>"
      ]
     },
     "metadata": {
      "needs_background": "light"
     },
     "output_type": "display_data"
    }
   ],
   "source": [
    "hinton(U)"
   ]
  },
  {
   "cell_type": "code",
   "execution_count": 52,
   "metadata": {
    "ExecuteTime": {
     "end_time": "2019-02-16T10:18:55.979107Z",
     "start_time": "2019-02-16T10:18:55.863778Z"
    }
   },
   "outputs": [
    {
     "data": {
      "text/plain": [
       "(<Figure size 576x432 with 2 Axes>,\n",
       " <matplotlib.axes._subplots.AxesSubplot at 0x7fefd01c6c50>)"
      ]
     },
     "execution_count": 52,
     "metadata": {},
     "output_type": "execute_result"
    },
    {
     "data": {
      "image/png": "[encoded data removed]",
      "text/plain": [
       "<Figure size 576x432 with 2 Axes>"
      ]
     },
     "metadata": {
      "needs_background": "light"
     },
     "output_type": "display_data"
    }
   ],
   "source": [
    "hinton(result.U_f)"
   ]
  },
  {
   "cell_type": "code",
   "execution_count": null,
   "metadata": {},
   "outputs": [],
   "source": []
  },
  {
   "cell_type": "code",
   "execution_count": null,
   "metadata": {},
   "outputs": [],
   "source": []
  },
  {
   "cell_type": "code",
   "execution_count": 53,
   "metadata": {
    "ExecuteTime": {
     "end_time": "2019-02-16T10:23:48.797871Z",
     "start_time": "2019-02-16T10:18:55.980291Z"
    }
   },
   "outputs": [
    {
     "data": {
      "text/plain": [
       "(array([-0.00207526+0.j, -0.00207526+0.j, -0.00207526+0.j, -0.00207526+0.j,\n",
       "        -0.00207526+0.j, -0.00207526+0.j, -0.00207526+0.j, -0.00207526+0.j,\n",
       "        -0.00207526+0.j, -0.00207526+0.j, -0.00207526+0.j, -0.00207526+0.j,\n",
       "        -0.00207526+0.j, -0.00207526+0.j, -0.00207526+0.j, -0.00207526+0.j,\n",
       "        -0.00207526+0.j, -0.00207526+0.j, -0.00207526+0.j, -0.00207526+0.j,\n",
       "        -0.00207526+0.j, -0.00207526+0.j, -0.00207526+0.j, -0.00207526+0.j,\n",
       "        -0.00207526+0.j, -0.00207526+0.j, -0.00207526+0.j, -0.00207526+0.j,\n",
       "        -0.00207526+0.j, -0.00207526+0.j, -0.00207526+0.j, -0.00207526+0.j,\n",
       "        -0.00207526+0.j, -0.00207526+0.j, -0.00207526+0.j, -0.00207526+0.j,\n",
       "        -0.00207526+0.j, -0.00207526+0.j, -0.00207526+0.j, -0.00207526+0.j,\n",
       "        -0.00207526+0.j, -0.00207526+0.j, -0.00207526+0.j, -0.00207526+0.j,\n",
       "        -0.00207526+0.j, -0.00207526+0.j, -0.00207526+0.j, -0.00207526+0.j,\n",
       "        -0.00207526+0.j, -0.00207526+0.j, -0.00207526+0.j, -0.00207526+0.j,\n",
       "        -0.00207526+0.j, -0.00207526+0.j, -0.00207526+0.j, -0.00207526+0.j,\n",
       "        -0.00207526+0.j, -0.00207526+0.j, -0.00207526+0.j, -0.00207526+0.j,\n",
       "        -0.00207526+0.j, -0.00207526+0.j, -0.00207526+0.j, -0.00207526+0.j,\n",
       "        -0.00207526+0.j, -0.00207526+0.j, -0.00207526+0.j, -0.00207526+0.j,\n",
       "        -0.00207526+0.j, -0.00207526+0.j, -0.00207526+0.j, -0.00207526+0.j,\n",
       "        -0.00207526+0.j, -0.00207526+0.j, -0.00207526+0.j, -0.00207526+0.j,\n",
       "        -0.00207526+0.j, -0.00207526+0.j, -0.00207526+0.j, -0.00207526+0.j,\n",
       "        -0.00207526+0.j, -0.00207526+0.j, -0.00207526+0.j, -0.00207526+0.j,\n",
       "        -0.00207526+0.j, -0.00207526+0.j, -0.00207526+0.j, -0.00207526+0.j,\n",
       "        -0.00207526+0.j, -0.00207526+0.j, -0.00207526+0.j, -0.00207526+0.j,\n",
       "        -0.00207526+0.j, -0.00207526+0.j, -0.00207526+0.j, -0.00207526+0.j,\n",
       "        -0.00207526+0.j, -0.00207526+0.j, -0.00207526+0.j, -0.00207526+0.j,\n",
       "        -0.00207526+0.j, -0.00207526+0.j, -0.00207526+0.j, -0.00207526+0.j,\n",
       "        -0.00207526+0.j, -0.00207526+0.j, -0.00207526+0.j, -0.00207526+0.j,\n",
       "        -0.00207526+0.j, -0.00207526+0.j, -0.00207526+0.j, -0.00207526+0.j,\n",
       "        -0.00207526+0.j, -0.00207526+0.j, -0.00207526+0.j, -0.00207526+0.j,\n",
       "        -0.00207526+0.j, -0.00207526+0.j, -0.00207526+0.j, -0.00207526+0.j,\n",
       "        -0.00207526+0.j, -0.00207526+0.j, -0.00207526+0.j, -0.00207526+0.j,\n",
       "        -0.00207526+0.j, -0.00207526+0.j, -0.00207526+0.j, -0.00207526+0.j,\n",
       "        -0.00207526+0.j, -0.00207526+0.j, -0.00207526+0.j, -0.00207526+0.j,\n",
       "        -0.00207526+0.j, -0.00207526+0.j, -0.00207526+0.j, -0.00207526+0.j,\n",
       "        -0.00207526+0.j, -0.00207526+0.j, -0.00207526+0.j, -0.00207526+0.j,\n",
       "        -0.00207526+0.j, -0.00207526+0.j, -0.00207526+0.j, -0.00207526+0.j,\n",
       "        -0.00207526+0.j, -0.00207526+0.j, -0.00207526+0.j, -0.00207526+0.j,\n",
       "        -0.00207526+0.j, -0.00207526+0.j, -0.00207526+0.j, -0.00207526+0.j,\n",
       "        -0.00207526+0.j, -0.00207526+0.j, -0.00207526+0.j, -0.00207526+0.j,\n",
       "        -0.00207526+0.j, -0.00207526+0.j, -0.00207526+0.j, -0.00207526+0.j,\n",
       "        -0.00207526+0.j, -0.00207526+0.j, -0.00207526+0.j, -0.00207526+0.j,\n",
       "        -0.00207526+0.j, -0.00207526+0.j, -0.00207526+0.j, -0.00207526+0.j,\n",
       "        -0.00207526+0.j, -0.00207526+0.j, -0.00207526+0.j, -0.00207526+0.j,\n",
       "        -0.00207526+0.j, -0.00207526+0.j, -0.00207526+0.j, -0.00207526+0.j,\n",
       "        -0.00207526+0.j, -0.00207526+0.j, -0.00207526+0.j, -0.00207526+0.j,\n",
       "        -0.00207526+0.j, -0.00207526+0.j, -0.00207526+0.j, -0.00207526+0.j,\n",
       "        -0.00207526+0.j, -0.00207526+0.j, -0.00207526+0.j, -0.00207526+0.j,\n",
       "        -0.00207526+0.j, -0.00207526+0.j, -0.00207526+0.j, -0.00207526+0.j,\n",
       "        -0.00207526+0.j, -0.00207526+0.j, -0.00207526+0.j, -0.00207526+0.j,\n",
       "        -0.00207526+0.j, -0.00207526+0.j, -0.00207526+0.j, -0.00207526+0.j,\n",
       "        -0.00207526+0.j, -0.00207526+0.j, -0.00207526+0.j, -0.00207526+0.j,\n",
       "        -0.00207526+0.j, -0.00207526+0.j, -0.00207526+0.j, -0.00207526+0.j,\n",
       "        -0.00207526+0.j, -0.00207526+0.j, -0.00207526+0.j, -0.00207526+0.j,\n",
       "        -0.00207526+0.j, -0.00207526+0.j, -0.00207526+0.j, -0.00207526+0.j,\n",
       "        -0.00207526+0.j, -0.00207526+0.j, -0.00207526+0.j, -0.00207526+0.j,\n",
       "        -0.00207526+0.j, -0.00207526+0.j, -0.00207526+0.j, -0.00207526+0.j,\n",
       "        -0.00207526+0.j, -0.00207526+0.j, -0.00207526+0.j, -0.00207526+0.j,\n",
       "        -0.00207526+0.j, -0.00207526+0.j, -0.00207526+0.j, -0.00207526+0.j,\n",
       "        -0.00207526+0.j, -0.00207526+0.j, -0.00207526+0.j, -0.00207526+0.j,\n",
       "        -0.00207526+0.j, -0.00207526+0.j, -0.00207526+0.j, -0.00207526+0.j,\n",
       "        -0.00207526+0.j, -0.00207526+0.j, -0.00207526+0.j, -0.00207526+0.j,\n",
       "        -0.00207526+0.j, -0.00207526+0.j, -0.00207526+0.j, -0.00207526+0.j,\n",
       "        -0.00207526+0.j, -0.00207526+0.j, -0.00207526+0.j, -0.00207526+0.j,\n",
       "        -0.00207526+0.j, -0.00207526+0.j, -0.00207526+0.j, -0.00207526+0.j,\n",
       "        -0.00207526+0.j, -0.00207526+0.j, -0.00207526+0.j, -0.00207526+0.j,\n",
       "        -0.00207526+0.j, -0.00207526+0.j, -0.00207526+0.j, -0.00207526+0.j,\n",
       "        -0.00207526+0.j, -0.00207526+0.j, -0.00207526+0.j, -0.00207526+0.j,\n",
       "        -0.00207526+0.j, -0.00207526+0.j, -0.00207526+0.j, -0.00207526+0.j,\n",
       "        -0.00207526+0.j, -0.00207526+0.j, -0.00207526+0.j, -0.00207526+0.j,\n",
       "        -0.00207526+0.j, -0.00207526+0.j, -0.00207526+0.j, -0.00207526+0.j,\n",
       "        -0.00207526+0.j, -0.00207526+0.j, -0.00207526+0.j, -0.00207526+0.j,\n",
       "        -0.00207526+0.j, -0.00207526+0.j, -0.00207526+0.j, -0.00207526+0.j,\n",
       "        -0.00207526+0.j, -0.00207526+0.j, -0.00207526+0.j, -0.00207526+0.j,\n",
       "        -0.00207526+0.j, -0.00207526+0.j, -0.00207526+0.j, -0.00207526+0.j,\n",
       "        -0.00207526+0.j, -0.00207526+0.j, -0.00207526+0.j, -0.00207526+0.j,\n",
       "        -0.00207526+0.j, -0.00207526+0.j, -0.00207526+0.j, -0.00207526+0.j,\n",
       "        -0.00207526+0.j, -0.00207526+0.j, -0.00207526+0.j, -0.00207526+0.j,\n",
       "        -0.00207526+0.j, -0.00207526+0.j, -0.00207526+0.j, -0.00207526+0.j,\n",
       "        -0.00207526+0.j, -0.00207526+0.j, -0.00207526+0.j, -0.00207526+0.j,\n",
       "        -0.00207526+0.j, -0.00207526+0.j, -0.00207526+0.j, -0.00207526+0.j,\n",
       "        -0.00207526+0.j, -0.00207526+0.j, -0.00207526+0.j, -0.00207526+0.j,\n",
       "        -0.00207526+0.j, -0.00207526+0.j, -0.00207526+0.j, -0.00207526+0.j,\n",
       "        -0.00207526+0.j, -0.00207526+0.j, -0.00207526+0.j, -0.00207526+0.j,\n",
       "        -0.00207526+0.j, -0.00207526+0.j, -0.00207526+0.j, -0.00207526+0.j,\n",
       "        -0.00207526+0.j, -0.00207526+0.j, -0.00207526+0.j, -0.00207526+0.j,\n",
       "        -0.00207526+0.j, -0.00207526+0.j, -0.00207526+0.j, -0.00207526+0.j,\n",
       "        -0.00207526+0.j, -0.00207526+0.j, -0.00207526+0.j, -0.00207526+0.j,\n",
       "        -0.00207526+0.j, -0.00207526+0.j, -0.00207526+0.j, -0.00207526+0.j,\n",
       "        -0.00207526+0.j, -0.00207526+0.j, -0.00207526+0.j, -0.00207526+0.j,\n",
       "        -0.00207526+0.j, -0.00207526+0.j, -0.00207526+0.j, -0.00207526+0.j,\n",
       "        -0.00207526+0.j, -0.00207526+0.j, -0.00207526+0.j, -0.00207526+0.j,\n",
       "        -0.00207526+0.j, -0.00207526+0.j, -0.00207526+0.j, -0.00207526+0.j,\n",
       "        -0.00207526+0.j, -0.00207526+0.j, -0.00207526+0.j, -0.00207526+0.j,\n",
       "        -0.00207526+0.j, -0.00207526+0.j, -0.00207526+0.j, -0.00207526+0.j,\n",
       "        -0.00207526+0.j, -0.00207526+0.j, -0.00207526+0.j, -0.00207526+0.j,\n",
       "        -0.00207526+0.j, -0.00207526+0.j, -0.00207526+0.j, -0.00207526+0.j,\n",
       "        -0.00207526+0.j, -0.00207526+0.j, -0.00207526+0.j, -0.00207526+0.j,\n",
       "        -0.00207526+0.j, -0.00207526+0.j, -0.00207526+0.j, -0.00207526+0.j,\n",
       "        -0.00207526+0.j, -0.00207526+0.j, -0.00207526+0.j, -0.00207526+0.j,\n",
       "        -0.00207526+0.j, -0.00207526+0.j, -0.00207526+0.j, -0.00207526+0.j,\n",
       "        -0.00207526+0.j, -0.00207526+0.j, -0.00207526+0.j, -0.00207526+0.j,\n",
       "        -0.00207526+0.j, -0.00207526+0.j, -0.00207526+0.j, -0.00207526+0.j,\n",
       "        -0.00207526+0.j, -0.00207526+0.j, -0.00207526+0.j, -0.00207526+0.j,\n",
       "        -0.00207526+0.j, -0.00207526+0.j, -0.00207526+0.j, -0.00207526+0.j,\n",
       "        -0.00207526+0.j, -0.00207526+0.j, -0.00207526+0.j, -0.00207526+0.j,\n",
       "        -0.00207526+0.j, -0.00207526+0.j, -0.00207526+0.j, -0.00207526+0.j,\n",
       "        -0.00207526+0.j, -0.00207526+0.j, -0.00207526+0.j, -0.00207526+0.j,\n",
       "        -0.00207526+0.j, -0.00207526+0.j, -0.00207526+0.j, -0.00207526+0.j,\n",
       "        -0.00207526+0.j, -0.00207526+0.j, -0.00207526+0.j, -0.00207526+0.j,\n",
       "        -0.00207526+0.j, -0.00207526+0.j, -0.00207526+0.j, -0.00207526+0.j,\n",
       "        -0.00207526+0.j, -0.00207526+0.j, -0.00207526+0.j, -0.00207526+0.j,\n",
       "        -0.00207526+0.j, -0.00207526+0.j, -0.00207526+0.j, -0.00207526+0.j,\n",
       "        -0.00207526+0.j, -0.00207526+0.j, -0.00207526+0.j, -0.00207526+0.j,\n",
       "        -0.00207526+0.j, -0.00207526+0.j, -0.00207526+0.j, -0.00207526+0.j,\n",
       "        -0.00207526+0.j, -0.00207526+0.j, -0.00207526+0.j, -0.00207526+0.j,\n",
       "        -0.00207526+0.j, -0.00207526+0.j, -0.00207526+0.j, -0.00207526+0.j,\n",
       "        -0.00207526+0.j, -0.00207526+0.j, -0.00207526+0.j, -0.00207526+0.j,\n",
       "        -0.00207526+0.j, -0.00207526+0.j, -0.00207526+0.j, -0.00207526+0.j,\n",
       "        -0.00207526+0.j, -0.00207526+0.j, -0.00207526+0.j, -0.00207526+0.j,\n",
       "        -0.00207526+0.j, -0.00207526+0.j, -0.00207526+0.j, -0.00207526+0.j,\n",
       "        -0.00207526+0.j, -0.00207526+0.j, -0.00207526+0.j, -0.00207526+0.j,\n",
       "        -0.00207526+0.j, -0.00207526+0.j, -0.00207526+0.j, -0.00207526+0.j,\n",
       "        -0.00207526+0.j, -0.00207526+0.j, -0.00207526+0.j, -0.00207526+0.j,\n",
       "        -0.00207526+0.j, -0.00207526+0.j, -0.00207526+0.j, -0.00207526+0.j,\n",
       "        -0.00207526+0.j, -0.00207526+0.j, -0.00207526+0.j, -0.00207526+0.j]),\n",
       " array([-0.18981489+0.j, -0.17532648+0.j, -0.14439776+0.j, -0.10824093+0.j,\n",
       "        -0.09567925+0.j, -0.06659201+0.j, -0.05155044+0.j, -0.04496856+0.j,\n",
       "        -0.05368121+0.j, -0.07263244+0.j, -0.05431784+0.j, -0.05235868+0.j,\n",
       "        -0.04252277+0.j, -0.03262759+0.j, -0.00729903+0.j,  0.00634903+0.j,\n",
       "         0.00468536+0.j,  0.00513758+0.j,  0.00464709+0.j,  0.0222782 +0.j,\n",
       "         0.03112502+0.j,  0.04024616+0.j,  0.05110875+0.j,  0.03338055+0.j,\n",
       "         0.02501782+0.j,  0.00757774+0.j,  0.01910582+0.j,  0.0345821 +0.j,\n",
       "         0.04931579+0.j,  0.06845434+0.j,  0.07356085+0.j,  0.09481535+0.j,\n",
       "         0.09752187+0.j,  0.12735617+0.j,  0.1594223 +0.j,  0.18635566+0.j,\n",
       "         0.20741238+0.j,  0.2127336 +0.j,  0.2182719 +0.j,  0.22991645+0.j,\n",
       "         0.22171453+0.j,  0.22386559+0.j,  0.21391604+0.j,  0.22508712+0.j,\n",
       "         0.23516238+0.j,  0.22820706+0.j,  0.24660838+0.j,  0.25041709+0.j,\n",
       "         0.25915332+0.j,  0.25550177+0.j,  0.26695301+0.j,  0.28777818+0.j,\n",
       "         0.31561954+0.j,  0.31105956+0.j,  0.30460653+0.j,  0.32838411+0.j,\n",
       "         0.33689041+0.j,  0.35886909+0.j,  0.37071472+0.j,  0.37578945+0.j,\n",
       "         0.38858389+0.j,  0.39025233+0.j,  0.39307612+0.j,  0.41307595+0.j,\n",
       "         0.40643024+0.j,  0.41421651+0.j,  0.40767244+0.j,  0.41419967+0.j,\n",
       "         0.43756068+0.j,  0.45977087+0.j,  0.47657047+0.j,  0.4955884 +0.j,\n",
       "         0.49683263+0.j,  0.50374738+0.j,  0.52770218+0.j,  0.53742089+0.j,\n",
       "         0.53896688+0.j,  0.55419342+0.j,  0.56511304+0.j,  0.56207053+0.j,\n",
       "         0.55901499+0.j,  0.56670222+0.j,  0.56804928+0.j,  0.55437803+0.j,\n",
       "         0.54600026+0.j,  0.52936125+0.j,  0.5401968 +0.j,  0.52835857+0.j,\n",
       "         0.51328568+0.j,  0.51052897+0.j,  0.52592567+0.j,  0.50906907+0.j,\n",
       "         0.53135472+0.j,  0.53863585+0.j,  0.54224582+0.j,  0.57518988+0.j,\n",
       "         0.58978452+0.j,  0.61021496+0.j,  0.60556076+0.j,  0.61901571+0.j,\n",
       "         0.62115889+0.j,  0.64235455+0.j,  0.62434626+0.j,  0.62492177+0.j,\n",
       "         0.63940489+0.j,  0.62798486+0.j,  0.63644454+0.j,  0.63582665+0.j,\n",
       "         0.6580747 +0.j,  0.66799219+0.j,  0.64966433+0.j,  0.63671267+0.j,\n",
       "         0.65773049+0.j,  0.6757297 +0.j,  0.66510398+0.j,  0.67480878+0.j,\n",
       "         0.67360209+0.j,  0.67040668+0.j,  0.6655067 +0.j,  0.64475393+0.j,\n",
       "         0.65016572+0.j,  0.67338778+0.j,  0.67794346+0.j,  0.66383772+0.j,\n",
       "         0.6735167 +0.j,  0.66003833+0.j,  0.636998  +0.j,  0.64153596+0.j,\n",
       "         0.65352443+0.j,  0.67916867+0.j,  0.70194022+0.j,  0.69556726+0.j,\n",
       "         0.68653746+0.j,  0.68391691+0.j,  0.67962941+0.j,  0.67423764+0.j,\n",
       "         0.69368394+0.j,  0.67258774+0.j,  0.67273545+0.j,  0.67315896+0.j,\n",
       "         0.6517371 +0.j,  0.65721385+0.j,  0.6663704 +0.j,  0.65943668+0.j,\n",
       "         0.6591273 +0.j,  0.6820261 +0.j,  0.68187594+0.j,  0.6767627 +0.j,\n",
       "         0.67666127+0.j,  0.65271957+0.j,  0.65719275+0.j,  0.64269157+0.j,\n",
       "         0.61799018+0.j,  0.64585746+0.j,  0.64096547+0.j,  0.61059959+0.j,\n",
       "         0.58608396+0.j,  0.5828865 +0.j,  0.56566646+0.j,  0.57097945+0.j,\n",
       "         0.57005031+0.j,  0.55414373+0.j,  0.55113743+0.j,  0.52995004+0.j,\n",
       "         0.53701348+0.j,  0.56019091+0.j,  0.55632425+0.j,  0.55700318+0.j,\n",
       "         0.55923798+0.j,  0.56549333+0.j,  0.57183764+0.j,  0.58336759+0.j,\n",
       "         0.59904106+0.j,  0.60235593+0.j,  0.59984626+0.j,  0.58725173+0.j,\n",
       "         0.60824822+0.j,  0.61737596+0.j,  0.59629448+0.j,  0.57428821+0.j,\n",
       "         0.55415343+0.j,  0.54625146+0.j,  0.53344648+0.j,  0.53231955+0.j,\n",
       "         0.50845455+0.j,  0.48195091+0.j,  0.44540157+0.j,  0.431681  +0.j,\n",
       "         0.43315001+0.j,  0.42375361+0.j,  0.41621515+0.j,  0.3955753 +0.j,\n",
       "         0.39640428+0.j,  0.37644841+0.j,  0.39082553+0.j,  0.39521496+0.j,\n",
       "         0.41723454+0.j,  0.40546437+0.j,  0.40224657+0.j,  0.40918534+0.j,\n",
       "         0.39232748+0.j,  0.38234751+0.j,  0.35156531+0.j,  0.35604805+0.j,\n",
       "         0.32827676+0.j,  0.33507236+0.j,  0.30427105+0.j,  0.30450557+0.j,\n",
       "         0.30689309+0.j,  0.27978009+0.j,  0.27105834+0.j,  0.25863889+0.j,\n",
       "         0.24762204+0.j,  0.21309759+0.j,  0.21591281+0.j,  0.18342081+0.j,\n",
       "         0.19755019+0.j,  0.20039123+0.j,  0.18176412+0.j,  0.17447886+0.j,\n",
       "         0.17833621+0.j,  0.18445272+0.j,  0.17677694+0.j,  0.17748326+0.j,\n",
       "         0.17436188+0.j,  0.16547039+0.j,  0.13095384+0.j,  0.09986995+0.j,\n",
       "         0.08378487+0.j,  0.09739656+0.j,  0.09928475+0.j,  0.08361583+0.j,\n",
       "         0.09399917+0.j,  0.0821147 +0.j,  0.07285404+0.j,  0.0901184 +0.j,\n",
       "         0.0966029 +0.j,  0.10258161+0.j,  0.09233394+0.j,  0.07494531+0.j,\n",
       "         0.05082207+0.j,  0.05515701+0.j,  0.04219505+0.j,  0.05339267+0.j,\n",
       "         0.04012904+0.j,  0.01383232+0.j, -0.00712591+0.j, -0.01745221+0.j,\n",
       "        -0.02624092+0.j, -0.02260088+0.j, -0.02365738+0.j, -0.03455945+0.j,\n",
       "        -0.03533082+0.j, -0.0416341 +0.j, -0.06203955+0.j, -0.06997482+0.j,\n",
       "        -0.07400132+0.j, -0.09460447+0.j, -0.09705045+0.j, -0.12786286+0.j,\n",
       "        -0.12596214+0.j, -0.14412826+0.j, -0.15418246+0.j, -0.1641098 +0.j,\n",
       "        -0.1724538 +0.j, -0.16240899+0.j, -0.17430401+0.j, -0.18499652+0.j,\n",
       "        -0.18248914+0.j, -0.18834567+0.j, -0.21361626+0.j, -0.21345717+0.j,\n",
       "        -0.23175122+0.j, -0.25453091+0.j, -0.23481785+0.j, -0.24346882+0.j,\n",
       "        -0.24454802+0.j, -0.2273565 +0.j, -0.23238386+0.j, -0.21868758+0.j,\n",
       "        -0.22534731+0.j, -0.23055593+0.j, -0.22992686+0.j, -0.21628585+0.j,\n",
       "        -0.22227603+0.j, -0.22823219+0.j, -0.24028802+0.j, -0.26882924+0.j,\n",
       "        -0.30038103+0.j, -0.31030821+0.j, -0.31250408+0.j, -0.32376877+0.j,\n",
       "        -0.3360826 +0.j, -0.35195222+0.j, -0.35783441+0.j, -0.36177639+0.j,\n",
       "        -0.36322666+0.j, -0.36044068+0.j, -0.35642047+0.j, -0.37626743+0.j,\n",
       "        -0.38360475+0.j, -0.39863258+0.j, -0.40260139+0.j, -0.40757727+0.j,\n",
       "        -0.43508512+0.j, -0.46062144+0.j, -0.46158914+0.j, -0.45860549+0.j,\n",
       "        -0.45739458+0.j, -0.45805327+0.j, -0.44543141+0.j, -0.44611099+0.j,\n",
       "        -0.4597519 +0.j, -0.46556551+0.j, -0.46845635+0.j, -0.45402347+0.j,\n",
       "        -0.44909344+0.j, -0.45986071+0.j, -0.44755705+0.j, -0.44952101+0.j,\n",
       "        -0.47978275+0.j, -0.4746718 +0.j, -0.46359934+0.j, -0.47138964+0.j,\n",
       "        -0.453233  +0.j, -0.47930815+0.j, -0.47957041+0.j, -0.47160536+0.j,\n",
       "        -0.4910898 +0.j, -0.49666723+0.j, -0.48895116+0.j, -0.49631566+0.j,\n",
       "        -0.50992145+0.j, -0.50034438+0.j, -0.50063023+0.j, -0.49669364+0.j,\n",
       "        -0.5191154 +0.j, -0.52364944+0.j, -0.52884114+0.j, -0.53148841+0.j,\n",
       "        -0.54058291+0.j, -0.5175859 +0.j, -0.51908031+0.j, -0.51596762+0.j,\n",
       "        -0.53122122+0.j, -0.51429092+0.j, -0.50679759+0.j, -0.50784827+0.j,\n",
       "        -0.51053065+0.j, -0.50386027+0.j, -0.48679365+0.j, -0.51366852+0.j,\n",
       "        -0.48936605+0.j, -0.4847466 +0.j, -0.4717867 +0.j, -0.47308547+0.j,\n",
       "        -0.448743  +0.j, -0.46236233+0.j, -0.44830721+0.j, -0.45245764+0.j,\n",
       "        -0.46613791+0.j, -0.44112902+0.j, -0.46318575+0.j, -0.46816873+0.j,\n",
       "        -0.47431248+0.j, -0.47075347+0.j, -0.47090423+0.j, -0.46445162+0.j,\n",
       "        -0.45531539+0.j, -0.46135392+0.j, -0.45954568+0.j, -0.47870619+0.j,\n",
       "        -0.45460867+0.j, -0.46672081+0.j, -0.46381593+0.j, -0.45643221+0.j,\n",
       "        -0.4763782 +0.j, -0.46129372+0.j, -0.46007989+0.j, -0.43579596+0.j,\n",
       "        -0.40148667+0.j, -0.39174005+0.j, -0.39807442+0.j, -0.39233033+0.j,\n",
       "        -0.3877545 +0.j, -0.39226954+0.j, -0.37223244+0.j, -0.35965203+0.j,\n",
       "        -0.36091033+0.j, -0.3578557 +0.j, -0.36437633+0.j, -0.35108893+0.j,\n",
       "        -0.35607355+0.j, -0.33364665+0.j, -0.33722397+0.j, -0.33484492+0.j,\n",
       "        -0.31905242+0.j, -0.31295146+0.j, -0.30349112+0.j, -0.29919257+0.j,\n",
       "        -0.29023422+0.j, -0.27636718+0.j, -0.25045532+0.j, -0.24351126+0.j,\n",
       "        -0.23495823+0.j, -0.22911451+0.j, -0.22553002+0.j, -0.23473038+0.j,\n",
       "        -0.22629084+0.j, -0.21230721+0.j, -0.20516253+0.j, -0.20141265+0.j,\n",
       "        -0.20986307+0.j, -0.21305115+0.j, -0.19524946+0.j, -0.18412027+0.j,\n",
       "        -0.20009322+0.j, -0.1847023 +0.j, -0.18612701+0.j, -0.19856394+0.j,\n",
       "        -0.20870019+0.j, -0.20057487+0.j, -0.17211355+0.j, -0.15266146+0.j,\n",
       "        -0.14846749+0.j, -0.15543135+0.j, -0.12555856+0.j, -0.11770019+0.j,\n",
       "        -0.10729537+0.j, -0.08631548+0.j, -0.07557817+0.j, -0.0905244 +0.j,\n",
       "        -0.08694717+0.j, -0.07980948+0.j, -0.08187849+0.j, -0.07066793+0.j,\n",
       "        -0.08680067+0.j, -0.09605075+0.j, -0.09707327+0.j, -0.09537512+0.j,\n",
       "        -0.09074836+0.j, -0.07462175+0.j, -0.06276156+0.j, -0.06299608+0.j,\n",
       "        -0.04911118+0.j, -0.03409736+0.j, -0.00615456+0.j,  0.02209517+0.j,\n",
       "         0.05108223+0.j,  0.06537526+0.j,  0.07100315+0.j,  0.07573659+0.j,\n",
       "         0.07504343+0.j,  0.08132914+0.j,  0.09689284+0.j,  0.11331409+0.j,\n",
       "         0.10366834+0.j,  0.11598682+0.j,  0.10581205+0.j,  0.09926045+0.j,\n",
       "         0.12010182+0.j,  0.13565544+0.j,  0.13851948+0.j,  0.13185644+0.j,\n",
       "         0.13570809+0.j,  0.14309554+0.j,  0.16754299+0.j,  0.15015905+0.j,\n",
       "         0.16899458+0.j,  0.1742532 +0.j,  0.18322914+0.j,  0.19877095+0.j,\n",
       "         0.21635625+0.j,  0.24828109+0.j,  0.24469296+0.j,  0.24112582+0.j,\n",
       "         0.25057636+0.j,  0.26814865+0.j,  0.27635856+0.j,  0.30581701+0.j,\n",
       "         0.306278  +0.j,  0.30771324+0.j,  0.29597105+0.j,  0.28247674+0.j,\n",
       "         0.30050984+0.j,  0.30248706+0.j,  0.31071373+0.j,  0.3346877 +0.j,\n",
       "         0.35408918+0.j,  0.35429758+0.j,  0.38406155+0.j,  0.40172216+0.j,\n",
       "         0.42902731+0.j,  0.45260232+0.j,  0.44896578+0.j,  0.46993703+0.j,\n",
       "         0.45508956+0.j,  0.43671676+0.j,  0.41342787+0.j,  0.41342787+0.j]))"
      ]
     },
     "execution_count": 53,
     "metadata": {},
     "output_type": "execute_result"
    }
   ],
   "source": [
    "updater(result.u[-1, 0, : ] , (2*pi)/500, epsilon=((0.1*2*pi)/(10**3)))"
   ]
  },
  {
   "cell_type": "code",
   "execution_count": 54,
   "metadata": {
    "ExecuteTime": {
     "end_time": "2019-02-16T10:23:48.801864Z",
     "start_time": "2019-02-16T10:23:48.798910Z"
    }
   },
   "outputs": [
    {
     "data": {
      "text/plain": [
       "6.283185307179586"
      ]
     },
     "execution_count": 54,
     "metadata": {},
     "output_type": "execute_result"
    }
   ],
   "source": [
    "times[-1]"
   ]
  },
  {
   "cell_type": "code",
   "execution_count": 55,
   "metadata": {
    "ExecuteTime": {
     "end_time": "2019-02-16T10:23:48.880455Z",
     "start_time": "2019-02-16T10:23:48.803412Z"
    }
   },
   "outputs": [
    {
     "data": {
      "text/plain": [
       "6.283185307179586"
      ]
     },
     "execution_count": 55,
     "metadata": {},
     "output_type": "execute_result"
    }
   ],
   "source": [
    "total_time_evo"
   ]
  },
  {
   "cell_type": "markdown",
   "metadata": {},
   "source": [
    "## joining qutip to my code"
   ]
  },
  {
   "cell_type": "markdown",
   "metadata": {
    "ExecuteTime": {
     "end_time": "2019-02-15T04:25:13.615608Z",
     "start_time": "2019-02-15T04:25:13.566890Z"
    }
   },
   "source": [
    "##### total_time\n",
    "---------------------------------------------------------------------------\n",
    "NameError                                 Traceback (most recent call last)\n",
    "<ipython-input-55-9bec417112c8> in <module>()\n",
    "----> 1 total_time\n",
    "\n",
    "NameError: name 'total_time' is not defined\n"
   ]
  },
  {
   "cell_type": "code",
   "execution_count": 56,
   "metadata": {
    "ExecuteTime": {
     "end_time": "2019-02-16T10:23:48.948146Z",
     "start_time": "2019-02-16T10:23:48.881547Z"
    }
   },
   "outputs": [
    {
     "data": {
      "text/plain": [
       "500"
      ]
     },
     "execution_count": 56,
     "metadata": {},
     "output_type": "execute_result"
    }
   ],
   "source": [
    "len(times)"
   ]
  },
  {
   "cell_type": "markdown",
   "metadata": {
    "ExecuteTime": {
     "end_time": "2019-02-15T04:33:44.601387Z",
     "start_time": "2019-02-15T04:33:44.593763Z"
    },
    "code_folding": []
   },
   "source": [
    "def terminator(max_iter, time_steps=len(times), total_time= total_time_evo,\n",
    "               epsilon= 2*pi*1):\n",
    "    r\"\"\"Brief description of the function\"\"\"\n",
    "    \n",
    "    xi_initial = result.u[-1, 0, : ] \n",
    "    #1000*random_sample((time_steps,))\n",
    "    dt = (2*pi)/500  #total_time/time_steps\n",
    "    xi_diff, xi_new_vec = updater(xi_initial, dt, epsilon)\n",
    "    \n",
    "    for i in range(max_iter):\n",
    "        if amax(xi_diff) < epsilon**2 :\n",
    "            xi_final = xi_new_vec\n",
    "            break\n",
    "        else :\n",
    "            xi_diff, xi_new_vec = updater(xi_new_vec, dt, epsilon)\n",
    "            print(i)\n",
    "            print(amax(xi_diff))\n",
    "            \n",
    "        \n",
    "    xi_final = xi_new_vec    \n",
    "    return xi_final"
   ]
  },
  {
   "cell_type": "code",
   "execution_count": 59,
   "metadata": {
    "ExecuteTime": {
     "end_time": "2019-02-16T10:26:53.571518Z",
     "start_time": "2019-02-16T10:26:53.565572Z"
    },
    "code_folding": []
   },
   "outputs": [],
   "source": [
    "def terminator(max_iter, time_steps=len(times),\n",
    "              total_time=total_time_evo,\n",
    "              epsilon=2*pi*1):\n",
    "    r\"\"\"Brief description of the function\"\"\"\n",
    "    xi_initial = result.u[-1, 0, :]\n",
    "    # 1000*random_sample((time_steps,))\n",
    "    dt = (2*pi)/500 #total_time/time_steps\n",
    "    xi_diff, xi_new_vec = updater(xi_initial, dt, epsilon)\n",
    "    \n",
    "    for i in range(max_iter):\n",
    "        if amax(xi_diff) < epsilon**2 :\n",
    "            xi_final = xi_new_vec\n",
    "            print(\"Tejas is unlucky\")\n",
    "            break\n",
    "        else :\n",
    "            xi_diff, xi_new_vec = updater(xi_new_vec, dt, epsilon)\n",
    "            print(\"Tejas is a good boy\")\n",
    "            print(i)\n",
    "            print(amax(xi_diff))\n",
    "    \n",
    "    return xi_final\n"
   ]
  },
  {
   "cell_type": "markdown",
   "metadata": {},
   "source": [
    "## sub topic 3"
   ]
  },
  {
   "cell_type": "code",
   "execution_count": 60,
   "metadata": {
    "ExecuteTime": {
     "end_time": "2019-02-16T10:26:53.742167Z",
     "start_time": "2019-02-16T10:26:53.740083Z"
    }
   },
   "outputs": [],
   "source": [
    "new_label = [r'$g_{with diss}$']"
   ]
  },
  {
   "cell_type": "markdown",
   "metadata": {},
   "source": [
    "### try"
   ]
  },
  {
   "cell_type": "code",
   "execution_count": 61,
   "metadata": {
    "ExecuteTime": {
     "end_time": "2019-02-16T10:31:50.786089Z",
     "start_time": "2019-02-16T10:26:53.860421Z"
    }
   },
   "outputs": [
    {
     "name": "stdout",
     "output_type": "stream",
     "text": [
      "Tejas is unlucky\n"
     ]
    }
   ],
   "source": [
    "xi_opt = terminator(10)"
   ]
  },
  {
   "cell_type": "code",
   "execution_count": 62,
   "metadata": {
    "ExecuteTime": {
     "end_time": "2019-02-16T10:31:50.789357Z",
     "start_time": "2019-02-16T10:31:50.787507Z"
    }
   },
   "outputs": [],
   "source": [
    "time_steps=len(times)\n",
    "total_time= total_time_evo\n",
    "epsilon= 2*pi*1"
   ]
  },
  {
   "cell_type": "code",
   "execution_count": 63,
   "metadata": {
    "ExecuteTime": {
     "end_time": "2019-02-16T10:31:51.576212Z",
     "start_time": "2019-02-16T10:31:50.791004Z"
    }
   },
   "outputs": [
    {
     "data": {
      "text/plain": [
       "-4.223952468753483"
      ]
     },
     "execution_count": 63,
     "metadata": {},
     "output_type": "execute_result"
    }
   ],
   "source": [
    "dt = (2*pi)/500\n",
    "F(xi_opt, dt)"
   ]
  },
  {
   "cell_type": "code",
   "execution_count": 64,
   "metadata": {
    "ExecuteTime": {
     "end_time": "2019-02-16T10:31:52.244124Z",
     "start_time": "2019-02-16T10:31:51.577421Z"
    }
   },
   "outputs": [
    {
     "data": {
      "text/latex": [
       "Quantum object: dims = [[2, 2], [2, 2]], shape = (4, 4), type = oper, isherm = False\\begin{equation*}\\left(\\begin{array}{*{11}c}0.363 & (0.228+0.007j) & (0.228-0.007j) & 0.637\\\\(-0.228-0.007j) & (0.004+0.011j) & (-0.280+1.747\\times10^{-04}j) & (0.228+0.007j)\\\\(-0.228+0.007j) & (-0.280-1.747\\times10^{-04}j) & (0.004-0.011j) & (0.228-0.007j)\\\\0.637 & (-0.228-0.007j) & (-0.228+0.007j) & 0.363\\\\\\end{array}\\right)\\end{equation*}"
      ],
      "text/plain": [
       "Quantum object: dims = [[2, 2], [2, 2]], shape = (4, 4), type = oper, isherm = False\n",
       "Qobj data =\n",
       "[[ 0.36320283+0.j          0.22838923+0.00680902j  0.22838923-0.00680902j\n",
       "   0.63679717+0.j        ]\n",
       " [-0.22838525-0.00678595j  0.00418463+0.01100785j -0.28030355+0.00017474j\n",
       "   0.22838525+0.00678595j]\n",
       " [-0.22838525+0.00678595j -0.28030355-0.00017474j  0.00418463-0.01100785j\n",
       "   0.22838525-0.00678595j]\n",
       " [ 0.63679717+0.j         -0.22838923-0.00680902j -0.22838923+0.00680902j\n",
       "   0.36320283+0.j        ]]"
      ]
     },
     "execution_count": 64,
     "metadata": {},
     "output_type": "execute_result"
    }
   ],
   "source": [
    "L_full_maker(xi_opt, dt)"
   ]
  },
  {
   "cell_type": "code",
   "execution_count": 65,
   "metadata": {
    "ExecuteTime": {
     "end_time": "2019-02-16T10:31:52.469019Z",
     "start_time": "2019-02-16T10:31:52.245279Z"
    }
   },
   "outputs": [
    {
     "name": "stderr",
     "output_type": "stream",
     "text": [
      "/home/tejas/anaconda3/envs/qutip-env/lib/python3.6/site-packages/numpy/core/numeric.py:501: ComplexWarning: Casting complex values to real discards the imaginary part\n",
      "  return array(a, dtype, copy=False, order=order)\n",
      "/home/tejas/anaconda3/envs/qutip-env/lib/python3.6/site-packages/matplotlib/transforms.py:968: ComplexWarning: Casting complex values to real discards the imaginary part\n",
      "  self._points[:, 1] = interval\n"
     ]
    },
    {
     "data": {
      "image/png": "[encoded data removed]",
      "text/plain": [
       "<Figure size 432x288 with 1 Axes>"
      ]
     },
     "metadata": {
      "needs_background": "light"
     },
     "output_type": "display_data"
    }
   ],
   "source": [
    "ax = axes()\n",
    "ax.plot(times, xi_opt)\n",
    "xi_max = amax(xi_opt) + 0.1\n",
    "xi_min = amin(xi_opt) - 0.1\n",
    "\n",
    "ax.set(xlim=(0, total_time_evo), ylim=(xi_min, xi_max),\n",
    "       xlabel='time', ylabel= r'$g_{with diss}$',\n",
    "       title='Control field in the presence of dissipation');"
   ]
  },
  {
   "cell_type": "code",
   "execution_count": null,
   "metadata": {
    "code_folding": []
   },
   "outputs": [],
   "source": [
    "def cF2p(Q_G, tejas_c):\n",
    "    r\"\"\"Takes in the 2 control fields and produces the plot directly.\n",
    "    The plot contains the following lines:\n",
    "    1. Qutip grape without dissipation\n",
    "    2. Qutip grape with dissipation\n",
    "    3. My  control field with dissipation  \n",
    "    Does some stuff.\n",
    "    \n",
    "    Parameters\n",
    "    ----------\n",
    "    Q_G     : numpy array? \n",
    "              control field Qutip grape without dissipation\n",
    "         \n",
    "    tejas_c : numpy array? \n",
    "              My  control field with dissipation for open quantum system\n",
    "    \n",
    "    \n",
    "    Returns\n",
    "    -------\n",
    "    inFidelity vector for \n",
    "    1. Qutip grape without dissipation    : infid_grape_no_diss\n",
    "    2. Qutip grape with dissipation       : infid_grape_diss \n",
    "    3. My  control field with dissipation : infid_grape_diss_optimized\n",
    "    \n",
    "    \n",
    "    \"\"\"\n",
    "    qone = basis(2, 0)\n",
    "    qzero = basis(2, 1)\n",
    "    c_ops_tejas = sqrt(gamma)*Lin\n",
    "    # state list building\n",
    "    H_qutip = [H_0, [H_1, Q_G]] #result.u[-1, 0, :]\n",
    "    print(\"grape_no_diss\")\n",
    "    grape_no_diss = mesolve(H_qutip, qzero, times, c_ops=[], \n",
    "                            e_ops=[], args={}, options=None, \n",
    "                            progress_bar=TextProgressBar() )\n",
    "    print(\"\")\n",
    "    print(\"grape_diss\")\n",
    "    grape_diss = mesolve(H_qutip, qzero, times, c_ops=[c_ops_tejas], \n",
    "                         e_ops=[], args={}, options=None, \n",
    "                         progress_bar=TextProgressBar() )\n",
    "    print(\"\")\n",
    "    print(\"grape_diss_optimized\")\n",
    "    H_diss_optimized = [H_0, [H_1, tejas_c ]]\n",
    "    grape_diss_optimized = mesolve(H_diss_optimized, qzero, times, \n",
    "                                   c_ops=[c_ops_tejas], e_ops=[], \n",
    "                                   args={}, options=None,\n",
    "                                   progress_bar=TextProgressBar() )\n",
    "    # H_diss_optimized should have been written isntead of H_no_diss\n",
    "    print(\"\")\n",
    "    print(\"\")\n",
    "    \n",
    "    # states list to fidelity list\n",
    "    one_dm = ket2dm(qone)\n",
    "    zero_dm = ket2dm(qzero)\n",
    "    def infidelity_tejas(dm, d=2):\n",
    "        r\"\"\"Brief description of the function\"\"\"\n",
    "        infid = 1 - fidelity(one_dm, dm)\n",
    "        return infid\n",
    "    \n",
    "    infid_dm_vec = vectorize(infidelity_tejas)\n",
    "    infid_grape_no_diss = infid_dm_vec(grape_no_diss.states) \n",
    "    infid_grape_diss = infid_dm_vec(grape_diss.states) \n",
    "    infid_grape_diss_optimized = infid_dm_vec(grape_diss_optimized.states) \n",
    "    list_of_infid_vec = [infid_grape_no_diss, infid_grape_diss, \n",
    "                         infid_grape_diss_optimized]\n",
    "    return list_of_infid_vec"
   ]
  },
  {
   "cell_type": "code",
   "execution_count": null,
   "metadata": {},
   "outputs": [],
   "source": [
    "list_of_infid_vec = cF2p(result.u[-1, 0, :], xi_opt)                                                    "
   ]
  },
  {
   "cell_type": "code",
   "execution_count": 130,
   "metadata": {
    "ExecuteTime": {
     "end_time": "2019-02-15T06:38:35.501215Z",
     "start_time": "2019-02-15T06:38:35.324621Z"
    },
    "code_folding": []
   },
   "outputs": [
    {
     "data": {
      "image/png": "[encoded data removed]",
      "text/plain": [
       "<Figure size 432x288 with 1 Axes>"
      ]
     },
     "metadata": {},
     "output_type": "display_data"
    }
   ],
   "source": [
    "ax = axes()\n",
    "ax.plot(times, list_of_infid_vec[0], label='grape_no_diss')\n",
    "ax.plot(times, list_of_infid_vec[1], label='grape_diss')\n",
    "ax.plot(times, list_of_infid_vec[2], label='grape_diss_optimized')\n",
    "#ax.plot(x, cos(x), ':b', label='cos(x)')'-g',\n",
    "#ax.axis('equal')\n",
    "ax.legend()\n",
    "ax.set(xlim=(times[0],times[-1]), ylim=(0, 1.1),\n",
    "       xlabel='time', ylabel='Infidelity',\n",
    "       title='Infidelity as a function of time ');"
   ]
  },
  {
   "cell_type": "code",
   "execution_count": null,
   "metadata": {},
   "outputs": [],
   "source": []
  },
  {
   "cell_type": "markdown",
   "metadata": {},
   "source": [
    "### try"
   ]
  },
  {
   "cell_type": "code",
   "execution_count": 66,
   "metadata": {
    "ExecuteTime": {
     "end_time": "2019-02-16T10:36:44.865709Z",
     "start_time": "2019-02-16T10:31:52.470736Z"
    }
   },
   "outputs": [
    {
     "name": "stdout",
     "output_type": "stream",
     "text": [
      "Tejas is unlucky\n"
     ]
    }
   ],
   "source": [
    "xi_opt = terminator(1000)"
   ]
  },
  {
   "cell_type": "code",
   "execution_count": 67,
   "metadata": {
    "ExecuteTime": {
     "end_time": "2019-02-16T10:36:44.869879Z",
     "start_time": "2019-02-16T10:36:44.867546Z"
    }
   },
   "outputs": [],
   "source": [
    "time_steps=len(times)\n",
    "total_time= total_time_evo\n",
    "epsilon= 2*pi*1"
   ]
  },
  {
   "cell_type": "code",
   "execution_count": 68,
   "metadata": {
    "ExecuteTime": {
     "end_time": "2019-02-16T10:36:45.645464Z",
     "start_time": "2019-02-16T10:36:44.871502Z"
    }
   },
   "outputs": [
    {
     "data": {
      "text/plain": [
       "-4.223952468753483"
      ]
     },
     "execution_count": 68,
     "metadata": {},
     "output_type": "execute_result"
    }
   ],
   "source": [
    "dt = (2*pi)/500\n",
    "F(xi_opt, dt)"
   ]
  },
  {
   "cell_type": "code",
   "execution_count": 69,
   "metadata": {
    "ExecuteTime": {
     "end_time": "2019-02-16T10:36:46.320817Z",
     "start_time": "2019-02-16T10:36:45.646854Z"
    }
   },
   "outputs": [
    {
     "data": {
      "text/latex": [
       "Quantum object: dims = [[2, 2], [2, 2]], shape = (4, 4), type = oper, isherm = False\\begin{equation*}\\left(\\begin{array}{*{11}c}0.363 & (0.228+0.007j) & (0.228-0.007j) & 0.637\\\\(-0.228-0.007j) & (0.004+0.011j) & (-0.280+1.747\\times10^{-04}j) & (0.228+0.007j)\\\\(-0.228+0.007j) & (-0.280-1.747\\times10^{-04}j) & (0.004-0.011j) & (0.228-0.007j)\\\\0.637 & (-0.228-0.007j) & (-0.228+0.007j) & 0.363\\\\\\end{array}\\right)\\end{equation*}"
      ],
      "text/plain": [
       "Quantum object: dims = [[2, 2], [2, 2]], shape = (4, 4), type = oper, isherm = False\n",
       "Qobj data =\n",
       "[[ 0.36320283+0.j          0.22838923+0.00680902j  0.22838923-0.00680902j\n",
       "   0.63679717+0.j        ]\n",
       " [-0.22838525-0.00678595j  0.00418463+0.01100785j -0.28030355+0.00017474j\n",
       "   0.22838525+0.00678595j]\n",
       " [-0.22838525+0.00678595j -0.28030355-0.00017474j  0.00418463-0.01100785j\n",
       "   0.22838525-0.00678595j]\n",
       " [ 0.63679717+0.j         -0.22838923-0.00680902j -0.22838923+0.00680902j\n",
       "   0.36320283+0.j        ]]"
      ]
     },
     "execution_count": 69,
     "metadata": {},
     "output_type": "execute_result"
    }
   ],
   "source": [
    "L_full_maker(xi_opt, dt)"
   ]
  },
  {
   "cell_type": "code",
   "execution_count": 70,
   "metadata": {
    "ExecuteTime": {
     "end_time": "2019-02-16T10:36:46.450117Z",
     "start_time": "2019-02-16T10:36:46.322013Z"
    }
   },
   "outputs": [
    {
     "name": "stderr",
     "output_type": "stream",
     "text": [
      "/home/tejas/anaconda3/envs/qutip-env/lib/python3.6/site-packages/numpy/core/numeric.py:501: ComplexWarning: Casting complex values to real discards the imaginary part\n",
      "  return array(a, dtype, copy=False, order=order)\n",
      "/home/tejas/anaconda3/envs/qutip-env/lib/python3.6/site-packages/matplotlib/transforms.py:968: ComplexWarning: Casting complex values to real discards the imaginary part\n",
      "  self._points[:, 1] = interval\n"
     ]
    },
    {
     "data": {
      "image/png": "[encoded data removed]",
      "text/plain": [
       "<Figure size 432x288 with 1 Axes>"
      ]
     },
     "metadata": {
      "needs_background": "light"
     },
     "output_type": "display_data"
    }
   ],
   "source": [
    "ax = axes()\n",
    "ax.plot(times, xi_opt)\n",
    "xi_max = amax(xi_opt) + 0.1\n",
    "xi_min = amin(xi_opt) - 0.1\n",
    "\n",
    "ax.set(xlim=(0, total_time_evo), ylim=(xi_min, xi_max),\n",
    "       xlabel='time', ylabel= r'$g_{with diss}$',\n",
    "       title='Control field in the presence of dissipation');"
   ]
  },
  {
   "cell_type": "code",
   "execution_count": null,
   "metadata": {},
   "outputs": [],
   "source": [
    "list_of_infid_vec = cF2p(result.u[-1, 0, :], xi_opt)                                                    "
   ]
  },
  {
   "cell_type": "code",
   "execution_count": 130,
   "metadata": {
    "ExecuteTime": {
     "end_time": "2019-02-15T06:38:35.501215Z",
     "start_time": "2019-02-15T06:38:35.324621Z"
    },
    "code_folding": []
   },
   "outputs": [
    {
     "data": {
      "image/png": "[encoded data removed]",
      "text/plain": [
       "<Figure size 432x288 with 1 Axes>"
      ]
     },
     "metadata": {},
     "output_type": "display_data"
    }
   ],
   "source": [
    "ax = axes()\n",
    "ax.plot(times, list_of_infid_vec[0], label='grape_no_diss')\n",
    "ax.plot(times, list_of_infid_vec[1], label='grape_diss')\n",
    "ax.plot(times, list_of_infid_vec[2], label='grape_diss_optimized')\n",
    "#ax.plot(x, cos(x), ':b', label='cos(x)')'-g',\n",
    "#ax.axis('equal')\n",
    "ax.legend()\n",
    "ax.set(xlim=(times[0],times[-1]), ylim=(0, 1.1),\n",
    "       xlabel='time', ylabel='Infidelity',\n",
    "       title='Infidelity as a function of time ');"
   ]
  },
  {
   "cell_type": "markdown",
   "metadata": {},
   "source": [
    "### try"
   ]
  },
  {
   "cell_type": "code",
   "execution_count": 71,
   "metadata": {
    "ExecuteTime": {
     "end_time": "2019-02-16T10:41:41.684053Z",
     "start_time": "2019-02-16T10:36:46.454964Z"
    }
   },
   "outputs": [
    {
     "name": "stdout",
     "output_type": "stream",
     "text": [
      "Tejas is unlucky\n"
     ]
    }
   ],
   "source": [
    "xi_opt = terminator(1000,time_steps=len(times), total_time= total_time_evo,\n",
    "               epsilon= ((0.1*2*pi)/(times[-1])))"
   ]
  },
  {
   "cell_type": "code",
   "execution_count": 72,
   "metadata": {
    "ExecuteTime": {
     "end_time": "2019-02-16T10:41:41.687339Z",
     "start_time": "2019-02-16T10:41:41.685368Z"
    }
   },
   "outputs": [],
   "source": [
    "time_steps=len(times)\n",
    "total_time= total_time_evo\n",
    "epsilon = ((0.1*2*pi)/(times[-1]))"
   ]
  },
  {
   "cell_type": "code",
   "execution_count": 73,
   "metadata": {
    "ExecuteTime": {
     "end_time": "2019-02-16T10:41:42.418824Z",
     "start_time": "2019-02-16T10:41:41.688444Z"
    }
   },
   "outputs": [
    {
     "data": {
      "text/plain": [
       "-2.2265924567489033"
      ]
     },
     "execution_count": 73,
     "metadata": {},
     "output_type": "execute_result"
    }
   ],
   "source": [
    "dt = (2*pi)/500\n",
    "F(xi_opt, dt)"
   ]
  },
  {
   "cell_type": "code",
   "execution_count": 74,
   "metadata": {
    "ExecuteTime": {
     "end_time": "2019-02-16T10:41:43.043792Z",
     "start_time": "2019-02-16T10:41:42.420153Z"
    }
   },
   "outputs": [
    {
     "data": {
      "text/latex": [
       "Quantum object: dims = [[2, 2], [2, 2]], shape = (4, 4), type = oper, isherm = False\\begin{equation*}\\left(\\begin{array}{*{11}c}0.320 & (0.088-0.088j) & (0.088+0.088j) & 0.680\\\\(0.243+0.060j) & (-0.051+0.006j) & (0.175+0.265j) & (-0.243-0.060j)\\\\(0.243-0.060j) & (0.175-0.265j) & (-0.051-0.006j) & (-0.243+0.060j)\\\\0.680 & (-0.088+0.088j) & (-0.088-0.088j) & 0.320\\\\\\end{array}\\right)\\end{equation*}"
      ],
      "text/plain": [
       "Quantum object: dims = [[2, 2], [2, 2]], shape = (4, 4), type = oper, isherm = False\n",
       "Qobj data =\n",
       "[[ 0.31955338+0.j          0.08820645-0.08770743j  0.08820645+0.08770743j\n",
       "   0.68044662+0.j        ]\n",
       " [ 0.24289615+0.05984397j -0.05137991+0.00630814j  0.17545226+0.26533604j\n",
       "  -0.24289615-0.05984397j]\n",
       " [ 0.24289615-0.05984397j  0.17545226-0.26533604j -0.05137991-0.00630814j\n",
       "  -0.24289615+0.05984397j]\n",
       " [ 0.68044662+0.j         -0.08820645+0.08770743j -0.08820645-0.08770743j\n",
       "   0.31955338+0.j        ]]"
      ]
     },
     "execution_count": 74,
     "metadata": {},
     "output_type": "execute_result"
    }
   ],
   "source": [
    "L_full_maker(xi_opt, dt)"
   ]
  },
  {
   "cell_type": "code",
   "execution_count": 75,
   "metadata": {
    "ExecuteTime": {
     "end_time": "2019-02-16T10:41:43.155526Z",
     "start_time": "2019-02-16T10:41:43.044928Z"
    }
   },
   "outputs": [
    {
     "name": "stderr",
     "output_type": "stream",
     "text": [
      "/home/tejas/anaconda3/envs/qutip-env/lib/python3.6/site-packages/numpy/core/numeric.py:501: ComplexWarning: Casting complex values to real discards the imaginary part\n",
      "  return array(a, dtype, copy=False, order=order)\n",
      "/home/tejas/anaconda3/envs/qutip-env/lib/python3.6/site-packages/matplotlib/transforms.py:968: ComplexWarning: Casting complex values to real discards the imaginary part\n",
      "  self._points[:, 1] = interval\n"
     ]
    },
    {
     "data": {
      "image/png": "[encoded data removed]",
      "text/plain": [
       "<Figure size 432x288 with 1 Axes>"
      ]
     },
     "metadata": {
      "needs_background": "light"
     },
     "output_type": "display_data"
    }
   ],
   "source": [
    "ax = axes()\n",
    "ax.plot(times, xi_opt)\n",
    "xi_max = amax(xi_opt) + 0.1\n",
    "xi_min = amin(xi_opt) - 0.1\n",
    "\n",
    "ax.set(xlim=(0, total_time_evo), ylim=(xi_min, xi_max),\n",
    "       xlabel='time', ylabel= r'$g_{with diss}$',\n",
    "       title='Control field in the presence of dissipation');"
   ]
  },
  {
   "cell_type": "code",
   "execution_count": null,
   "metadata": {},
   "outputs": [],
   "source": [
    "list_of_infid_vec = cF2p(result.u[-1, 0, :], xi_opt)                                                    "
   ]
  },
  {
   "cell_type": "code",
   "execution_count": 130,
   "metadata": {
    "ExecuteTime": {
     "end_time": "2019-02-15T06:38:35.501215Z",
     "start_time": "2019-02-15T06:38:35.324621Z"
    },
    "code_folding": []
   },
   "outputs": [
    {
     "data": {
      "image/png": "[encoded data removed]",
      "text/plain": [
       "<Figure size 432x288 with 1 Axes>"
      ]
     },
     "metadata": {},
     "output_type": "display_data"
    }
   ],
   "source": [
    "ax = axes()\n",
    "ax.plot(times, list_of_infid_vec[0], label='grape_no_diss')\n",
    "ax.plot(times, list_of_infid_vec[1], label='grape_diss')\n",
    "ax.plot(times, list_of_infid_vec[2], label='grape_diss_optimized')\n",
    "#ax.plot(x, cos(x), ':b', label='cos(x)')'-g',\n",
    "#ax.axis('equal')\n",
    "ax.legend()\n",
    "ax.set(xlim=(times[0],times[-1]), ylim=(0, 1.1),\n",
    "       xlabel='time', ylabel='Infidelity',\n",
    "       title='Infidelity as a function of time ');"
   ]
  },
  {
   "cell_type": "markdown",
   "metadata": {},
   "source": [
    "### try"
   ]
  },
  {
   "cell_type": "code",
   "execution_count": 76,
   "metadata": {
    "ExecuteTime": {
     "end_time": "2019-02-16T10:46:34.656180Z",
     "start_time": "2019-02-16T10:41:43.157290Z"
    }
   },
   "outputs": [
    {
     "name": "stdout",
     "output_type": "stream",
     "text": [
      "Tejas is unlucky\n"
     ]
    }
   ],
   "source": [
    "xi_opt = terminator(10,time_steps=len(times), total_time= total_time_evo,\n",
    "               epsilon= ((0.1*2*pi)/(times[-1])))"
   ]
  },
  {
   "cell_type": "code",
   "execution_count": 77,
   "metadata": {
    "ExecuteTime": {
     "end_time": "2019-02-16T10:46:34.659784Z",
     "start_time": "2019-02-16T10:46:34.657616Z"
    }
   },
   "outputs": [],
   "source": [
    "time_steps=len(times)\n",
    "total_time= total_time_evo\n",
    "epsilon = ((0.1*2*pi)/(times[-1]))"
   ]
  },
  {
   "cell_type": "code",
   "execution_count": 78,
   "metadata": {
    "ExecuteTime": {
     "end_time": "2019-02-16T10:46:35.376286Z",
     "start_time": "2019-02-16T10:46:34.661224Z"
    }
   },
   "outputs": [
    {
     "data": {
      "text/plain": [
       "-2.2265924567489033"
      ]
     },
     "execution_count": 78,
     "metadata": {},
     "output_type": "execute_result"
    }
   ],
   "source": [
    "dt = (2*pi)/500\n",
    "F(xi_opt, dt)"
   ]
  },
  {
   "cell_type": "code",
   "execution_count": 79,
   "metadata": {
    "ExecuteTime": {
     "end_time": "2019-02-16T10:46:35.978069Z",
     "start_time": "2019-02-16T10:46:35.377745Z"
    }
   },
   "outputs": [
    {
     "data": {
      "text/latex": [
       "Quantum object: dims = [[2, 2], [2, 2]], shape = (4, 4), type = oper, isherm = False\\begin{equation*}\\left(\\begin{array}{*{11}c}0.320 & (0.088-0.088j) & (0.088+0.088j) & 0.680\\\\(0.243+0.060j) & (-0.051+0.006j) & (0.175+0.265j) & (-0.243-0.060j)\\\\(0.243-0.060j) & (0.175-0.265j) & (-0.051-0.006j) & (-0.243+0.060j)\\\\0.680 & (-0.088+0.088j) & (-0.088-0.088j) & 0.320\\\\\\end{array}\\right)\\end{equation*}"
      ],
      "text/plain": [
       "Quantum object: dims = [[2, 2], [2, 2]], shape = (4, 4), type = oper, isherm = False\n",
       "Qobj data =\n",
       "[[ 0.31955338+0.j          0.08820645-0.08770743j  0.08820645+0.08770743j\n",
       "   0.68044662+0.j        ]\n",
       " [ 0.24289615+0.05984397j -0.05137991+0.00630814j  0.17545226+0.26533604j\n",
       "  -0.24289615-0.05984397j]\n",
       " [ 0.24289615-0.05984397j  0.17545226-0.26533604j -0.05137991-0.00630814j\n",
       "  -0.24289615+0.05984397j]\n",
       " [ 0.68044662+0.j         -0.08820645+0.08770743j -0.08820645-0.08770743j\n",
       "   0.31955338+0.j        ]]"
      ]
     },
     "execution_count": 79,
     "metadata": {},
     "output_type": "execute_result"
    }
   ],
   "source": [
    "L_full_maker(xi_opt, dt)"
   ]
  },
  {
   "cell_type": "code",
   "execution_count": 80,
   "metadata": {
    "ExecuteTime": {
     "end_time": "2019-02-16T10:46:36.089761Z",
     "start_time": "2019-02-16T10:46:35.979459Z"
    }
   },
   "outputs": [
    {
     "name": "stderr",
     "output_type": "stream",
     "text": [
      "/home/tejas/anaconda3/envs/qutip-env/lib/python3.6/site-packages/numpy/core/numeric.py:501: ComplexWarning: Casting complex values to real discards the imaginary part\n",
      "  return array(a, dtype, copy=False, order=order)\n",
      "/home/tejas/anaconda3/envs/qutip-env/lib/python3.6/site-packages/matplotlib/transforms.py:968: ComplexWarning: Casting complex values to real discards the imaginary part\n",
      "  self._points[:, 1] = interval\n"
     ]
    },
    {
     "data": {
      "image/png": "[encoded data removed]",
      "text/plain": [
       "<Figure size 432x288 with 1 Axes>"
      ]
     },
     "metadata": {
      "needs_background": "light"
     },
     "output_type": "display_data"
    }
   ],
   "source": [
    "ax = axes()\n",
    "ax.plot(times, xi_opt)\n",
    "xi_max = amax(xi_opt) + 0.1\n",
    "xi_min = amin(xi_opt) - 0.1\n",
    "\n",
    "ax.set(xlim=(0, total_time_evo), ylim=(xi_min, xi_max),\n",
    "       xlabel='time', ylabel= r'$g_{with diss}$',\n",
    "       title='Control field in the presence of dissipation');"
   ]
  },
  {
   "cell_type": "code",
   "execution_count": null,
   "metadata": {},
   "outputs": [],
   "source": [
    "list_of_infid_vec = cF2p(result.u[-1, 0, :], xi_opt)                                                    "
   ]
  },
  {
   "cell_type": "code",
   "execution_count": 130,
   "metadata": {
    "ExecuteTime": {
     "end_time": "2019-02-15T06:38:35.501215Z",
     "start_time": "2019-02-15T06:38:35.324621Z"
    },
    "code_folding": []
   },
   "outputs": [
    {
     "data": {
      "image/png": "[encoded data removed]",
      "text/plain": [
       "<Figure size 432x288 with 1 Axes>"
      ]
     },
     "metadata": {},
     "output_type": "display_data"
    }
   ],
   "source": [
    "ax = axes()\n",
    "ax.plot(times, list_of_infid_vec[0], label='grape_no_diss')\n",
    "ax.plot(times, list_of_infid_vec[1], label='grape_diss')\n",
    "ax.plot(times, list_of_infid_vec[2], label='grape_diss_optimized')\n",
    "#ax.plot(x, cos(x), ':b', label='cos(x)')'-g',\n",
    "#ax.axis('equal')\n",
    "ax.legend()\n",
    "ax.set(xlim=(times[0],times[-1]), ylim=(0, 1.1),\n",
    "       xlabel='time', ylabel='Infidelity',\n",
    "       title='Infidelity as a function of time ');"
   ]
  },
  {
   "cell_type": "markdown",
   "metadata": {},
   "source": [
    "### try"
   ]
  },
  {
   "cell_type": "code",
   "execution_count": 81,
   "metadata": {
    "ExecuteTime": {
     "end_time": "2019-02-16T10:51:34.474949Z",
     "start_time": "2019-02-16T10:46:36.091922Z"
    }
   },
   "outputs": [
    {
     "name": "stdout",
     "output_type": "stream",
     "text": [
      "Tejas is unlucky\n"
     ]
    }
   ],
   "source": [
    "xi_opt = terminator(1000,time_steps=len(times), total_time= total_time_evo,\n",
    "               epsilon= ((0.1*2*pi)/(10**3)))"
   ]
  },
  {
   "cell_type": "code",
   "execution_count": 82,
   "metadata": {
    "ExecuteTime": {
     "end_time": "2019-02-16T10:51:34.478440Z",
     "start_time": "2019-02-16T10:51:34.476288Z"
    }
   },
   "outputs": [],
   "source": [
    "time_steps=len(times)\n",
    "total_time= total_time_evo\n",
    "epsilon = ((0.1*2*pi)/(times[-1]))"
   ]
  },
  {
   "cell_type": "code",
   "execution_count": 83,
   "metadata": {
    "ExecuteTime": {
     "end_time": "2019-02-16T10:51:35.197249Z",
     "start_time": "2019-02-16T10:51:34.479746Z"
    }
   },
   "outputs": [
    {
     "data": {
      "text/plain": [
       "-0.9549811435604786"
      ]
     },
     "execution_count": 83,
     "metadata": {},
     "output_type": "execute_result"
    }
   ],
   "source": [
    "dt = (2*pi)/500\n",
    "F(xi_opt, dt)"
   ]
  },
  {
   "cell_type": "code",
   "execution_count": 84,
   "metadata": {
    "ExecuteTime": {
     "end_time": "2019-02-16T10:51:35.803794Z",
     "start_time": "2019-02-16T10:51:35.198424Z"
    }
   },
   "outputs": [
    {
     "data": {
      "text/plain": [
       "-0.954828683341337"
      ]
     },
     "execution_count": 84,
     "metadata": {},
     "output_type": "execute_result"
    }
   ],
   "source": [
    "F(result.u[-1, 0, : ], dt)"
   ]
  },
  {
   "cell_type": "code",
   "execution_count": 85,
   "metadata": {
    "ExecuteTime": {
     "end_time": "2019-02-16T10:51:36.486218Z",
     "start_time": "2019-02-16T10:51:35.804961Z"
    }
   },
   "outputs": [
    {
     "data": {
      "text/latex": [
       "Quantum object: dims = [[2, 2], [2, 2]], shape = (4, 4), type = oper, isherm = False\\begin{equation*}\\left(\\begin{array}{*{11}c}0.219 & (0.033-0.027j) & (0.033+0.027j) & 0.781\\\\(-0.038+0.006j) & (-0.065-0.049j) & (0.394+0.015j) & (0.038-0.006j)\\\\(-0.038-0.006j) & (0.394-0.015j) & (-0.065+0.049j) & (0.038+0.006j)\\\\0.781 & (-0.033+0.027j) & (-0.033-0.027j) & 0.219\\\\\\end{array}\\right)\\end{equation*}"
      ],
      "text/plain": [
       "Quantum object: dims = [[2, 2], [2, 2]], shape = (4, 4), type = oper, isherm = False\n",
       "Qobj data =\n",
       "[[ 0.21947999+0.j          0.0331473 -0.02679917j  0.0331473 +0.02679917j\n",
       "   0.78052001+0.j        ]\n",
       " [-0.03824169+0.00581414j -0.06497678-0.04850728j  0.39359164+0.01467194j\n",
       "   0.03824169-0.00581414j]\n",
       " [-0.03824169-0.00581414j  0.39359164-0.01467194j -0.06497678+0.04850728j\n",
       "   0.03824169+0.00581414j]\n",
       " [ 0.78052001+0.j         -0.0331473 +0.02679917j -0.0331473 -0.02679917j\n",
       "   0.21947999+0.j        ]]"
      ]
     },
     "execution_count": 85,
     "metadata": {},
     "output_type": "execute_result"
    }
   ],
   "source": [
    "L_full_maker(xi_opt, dt)"
   ]
  },
  {
   "cell_type": "code",
   "execution_count": 86,
   "metadata": {
    "ExecuteTime": {
     "end_time": "2019-02-16T10:51:36.490097Z",
     "start_time": "2019-02-16T10:51:36.487443Z"
    }
   },
   "outputs": [
    {
     "data": {
      "text/plain": [
       "500"
      ]
     },
     "execution_count": 86,
     "metadata": {},
     "output_type": "execute_result"
    }
   ],
   "source": [
    "len(times)"
   ]
  },
  {
   "cell_type": "code",
   "execution_count": 87,
   "metadata": {
    "ExecuteTime": {
     "end_time": "2019-02-16T10:51:36.570778Z",
     "start_time": "2019-02-16T10:51:36.491514Z"
    }
   },
   "outputs": [],
   "source": [
    "new_label = [r'$g_{with diss}$']"
   ]
  },
  {
   "cell_type": "markdown",
   "metadata": {
    "ExecuteTime": {
     "end_time": "2019-02-14T15:50:39.160854Z",
     "start_time": "2019-02-14T15:50:39.155605Z"
    }
   },
   "source": [
    "'''plot_grape_control_fields(times,\n",
    "                          xi_opt / (2 * np.pi), new_label, uniform_axes=True);\n",
    "ValueError                                Traceback (most recent call last)\n",
    "<ipython-input-67-f3ebb7c23258> in <module>()\n",
    "      1 plot_grape_control_fields(times,\n",
    "----> 2                           xi_opt / (2 * np.pi), new_label, uniform_axes=True);\n",
    "\n",
    "/anaconda3/envs/qutip-env/lib/python3.6/site-packages/qutip/control/grape.py in plot_grape_control_fields(times, u, labels, uniform_axes)\n",
    "    101     import matplotlib.pyplot as plt\n",
    "    102 \n",
    "--> 103     R, J, M = u.shape\n",
    "    104 \n",
    "    105     fig, axes = plt.subplots(J, 1, figsize=(8, 2 * J), squeeze=False)\n",
    "\n",
    "ValueError: not enough values to unpack (expected 3, got 1) '''"
   ]
  },
  {
   "cell_type": "code",
   "execution_count": 88,
   "metadata": {
    "ExecuteTime": {
     "end_time": "2019-02-16T10:51:36.754737Z",
     "start_time": "2019-02-16T10:51:36.573667Z"
    }
   },
   "outputs": [
    {
     "name": "stderr",
     "output_type": "stream",
     "text": [
      "/home/tejas/anaconda3/envs/qutip-env/lib/python3.6/site-packages/numpy/core/numeric.py:501: ComplexWarning: Casting complex values to real discards the imaginary part\n",
      "  return array(a, dtype, copy=False, order=order)\n"
     ]
    },
    {
     "data": {
      "image/png": "[encoded data removed]",
      "text/plain": [
       "<Figure size 432x288 with 1 Axes>"
      ]
     },
     "metadata": {
      "needs_background": "light"
     },
     "output_type": "display_data"
    }
   ],
   "source": [
    "ax = axes()\n",
    "ax.plot(times, xi_opt)\n",
    "ax.set(xlim=(0, total_time_evo), ylim=(-0.8,0.8 ),\n",
    "       xlabel='time', ylabel= r'$g_{with diss}$',\n",
    "       title='Control field in the presence of dissipation');"
   ]
  },
  {
   "cell_type": "code",
   "execution_count": null,
   "metadata": {},
   "outputs": [],
   "source": [
    "list_of_infid_vec = cF2p(result.u[-1, 0, :], xi_opt)                                                    "
   ]
  },
  {
   "cell_type": "code",
   "execution_count": 130,
   "metadata": {
    "ExecuteTime": {
     "end_time": "2019-02-15T06:38:35.501215Z",
     "start_time": "2019-02-15T06:38:35.324621Z"
    },
    "code_folding": []
   },
   "outputs": [
    {
     "data": {
      "image/png": "[encoded data removed]",
      "text/plain": [
       "<Figure size 432x288 with 1 Axes>"
      ]
     },
     "metadata": {},
     "output_type": "display_data"
    }
   ],
   "source": [
    "ax = axes()\n",
    "ax.plot(times, list_of_infid_vec[0], label='grape_no_diss')\n",
    "ax.plot(times, list_of_infid_vec[1], label='grape_diss')\n",
    "ax.plot(times, list_of_infid_vec[2], label='grape_diss_optimized')\n",
    "#ax.plot(x, cos(x), ':b', label='cos(x)')'-g',\n",
    "#ax.axis('equal')\n",
    "ax.legend()\n",
    "ax.set(xlim=(times[0],times[-1]), ylim=(0, 1.1),\n",
    "       xlabel='time', ylabel='Infidelity',\n",
    "       title='Infidelity as a function of time ');"
   ]
  },
  {
   "cell_type": "code",
   "execution_count": 89,
   "metadata": {
    "ExecuteTime": {
     "end_time": "2019-02-16T10:51:36.861319Z",
     "start_time": "2019-02-16T10:51:36.756315Z"
    }
   },
   "outputs": [
    {
     "name": "stderr",
     "output_type": "stream",
     "text": [
      "/home/tejas/anaconda3/envs/qutip-env/lib/python3.6/site-packages/numpy/core/numeric.py:501: ComplexWarning: Casting complex values to real discards the imaginary part\n",
      "  return array(a, dtype, copy=False, order=order)\n",
      "/home/tejas/anaconda3/envs/qutip-env/lib/python3.6/site-packages/matplotlib/transforms.py:968: ComplexWarning: Casting complex values to real discards the imaginary part\n",
      "  self._points[:, 1] = interval\n"
     ]
    },
    {
     "data": {
      "image/png": "[encoded data removed]",
      "text/plain": [
       "<Figure size 432x288 with 1 Axes>"
      ]
     },
     "metadata": {
      "needs_background": "light"
     },
     "output_type": "display_data"
    }
   ],
   "source": [
    "ax = axes()\n",
    "ax.plot(times, xi_opt)\n",
    "xi_max = amax(xi_opt) + 0.1\n",
    "xi_min = amin(xi_opt) - 0.1\n",
    "\n",
    "ax.set(xlim=(0, total_time_evo), ylim=(xi_min, xi_max),\n",
    "       xlabel='time', ylabel= r'$g_{with diss}$',\n",
    "       title='Control field in the presence of dissipation');"
   ]
  },
  {
   "cell_type": "code",
   "execution_count": 90,
   "metadata": {
    "ExecuteTime": {
     "end_time": "2019-02-16T10:51:36.967210Z",
     "start_time": "2019-02-16T10:51:36.863656Z"
    }
   },
   "outputs": [
    {
     "data": {
      "image/png": "[encoded data removed]",
      "text/plain": [
       "<Figure size 432x288 with 1 Axes>"
      ]
     },
     "metadata": {
      "needs_background": "light"
     },
     "output_type": "display_data"
    }
   ],
   "source": [
    "ax = axes()\n",
    "ax.plot(times, result.u[-1, 0, : ])\n",
    "xi_max = amax(result.u[-1, 0, : ]) + 0.1\n",
    "xi_min = amin(result.u[-1, 0, : ]) - 0.1\n",
    "\n",
    "ax.set(xlim=(0, total_time_evo), ylim=(xi_min, xi_max),\n",
    "       xlabel='time', ylabel= r'$g_{with diss}$',\n",
    "       title='old Control field in the presence of \\\n",
    "              dissipation produced by qutip');"
   ]
  },
  {
   "cell_type": "markdown",
   "metadata": {},
   "source": [
    "### try"
   ]
  },
  {
   "cell_type": "code",
   "execution_count": 91,
   "metadata": {
    "ExecuteTime": {
     "end_time": "2019-02-16T10:56:27.856381Z",
     "start_time": "2019-02-16T10:51:36.968810Z"
    }
   },
   "outputs": [
    {
     "name": "stdout",
     "output_type": "stream",
     "text": [
      "Tejas is unlucky\n"
     ]
    }
   ],
   "source": [
    "xi_opt = terminator(1000,time_steps=len(times), total_time= total_time_evo,\n",
    "               epsilon= ((0.1*2*pi)/(10**4)))"
   ]
  },
  {
   "cell_type": "code",
   "execution_count": 92,
   "metadata": {
    "ExecuteTime": {
     "end_time": "2019-02-16T10:56:28.521279Z",
     "start_time": "2019-02-16T10:56:27.858124Z"
    }
   },
   "outputs": [
    {
     "data": {
      "text/plain": [
       "-0.9548389887847603"
      ]
     },
     "execution_count": 92,
     "metadata": {},
     "output_type": "execute_result"
    }
   ],
   "source": [
    "dt = (2*pi)/500\n",
    "F(xi_opt, dt)"
   ]
  },
  {
   "cell_type": "code",
   "execution_count": 93,
   "metadata": {
    "ExecuteTime": {
     "end_time": "2019-02-16T10:56:29.128500Z",
     "start_time": "2019-02-16T10:56:28.522571Z"
    }
   },
   "outputs": [
    {
     "data": {
      "text/latex": [
       "Quantum object: dims = [[2, 2], [2, 2]], shape = (4, 4), type = oper, isherm = False\\begin{equation*}\\left(\\begin{array}{*{11}c}0.219 & (0.035-0.028j) & (0.035+0.028j) & 0.781\\\\(-0.038+0.006j) & (-0.064-0.049j) & (0.394+0.012j) & (0.038-0.006j)\\\\(-0.038-0.006j) & (0.394-0.012j) & (-0.064+0.049j) & (0.038+0.006j)\\\\0.781 & (-0.035+0.028j) & (-0.035-0.028j) & 0.219\\\\\\end{array}\\right)\\end{equation*}"
      ],
      "text/plain": [
       "Quantum object: dims = [[2, 2], [2, 2]], shape = (4, 4), type = oper, isherm = False\n",
       "Qobj data =\n",
       "[[ 0.21946075+0.j          0.03452335-0.0275608j   0.03452335+0.0275608j\n",
       "   0.78053925+0.j        ]\n",
       " [-0.03825461+0.00564102j -0.06417983-0.04859188j  0.39372432+0.01223276j\n",
       "   0.03825461-0.00564102j]\n",
       " [-0.03825461-0.00564102j  0.39372432-0.01223276j -0.06417983+0.04859188j\n",
       "   0.03825461+0.00564102j]\n",
       " [ 0.78053925+0.j         -0.03452335+0.0275608j  -0.03452335-0.0275608j\n",
       "   0.21946075+0.j        ]]"
      ]
     },
     "execution_count": 93,
     "metadata": {},
     "output_type": "execute_result"
    }
   ],
   "source": [
    "L_full_maker(xi_opt, dt)"
   ]
  },
  {
   "cell_type": "code",
   "execution_count": 94,
   "metadata": {
    "ExecuteTime": {
     "end_time": "2019-02-16T10:56:29.241277Z",
     "start_time": "2019-02-16T10:56:29.130023Z"
    }
   },
   "outputs": [
    {
     "name": "stderr",
     "output_type": "stream",
     "text": [
      "/home/tejas/anaconda3/envs/qutip-env/lib/python3.6/site-packages/numpy/core/numeric.py:501: ComplexWarning: Casting complex values to real discards the imaginary part\n",
      "  return array(a, dtype, copy=False, order=order)\n",
      "/home/tejas/anaconda3/envs/qutip-env/lib/python3.6/site-packages/matplotlib/transforms.py:968: ComplexWarning: Casting complex values to real discards the imaginary part\n",
      "  self._points[:, 1] = interval\n"
     ]
    },
    {
     "data": {
      "image/png": "[encoded data removed]",
      "text/plain": [
       "<Figure size 432x288 with 1 Axes>"
      ]
     },
     "metadata": {
      "needs_background": "light"
     },
     "output_type": "display_data"
    }
   ],
   "source": [
    "ax = axes()\n",
    "ax.plot(times, xi_opt)\n",
    "xi_max = amax(xi_opt) + 0.1\n",
    "xi_min = amin(xi_opt) - 0.1\n",
    "\n",
    "ax.set(xlim=(0, total_time_evo), ylim=(xi_min, xi_max),\n",
    "       xlabel='time', ylabel= r'$g_{with diss}$',\n",
    "       title='Control field in the presence of dissipation');"
   ]
  },
  {
   "cell_type": "code",
   "execution_count": null,
   "metadata": {},
   "outputs": [],
   "source": [
    "list_of_infid_vec = cF2p(result.u[-1, 0, :], xi_opt)                                                    "
   ]
  },
  {
   "cell_type": "code",
   "execution_count": 130,
   "metadata": {
    "ExecuteTime": {
     "end_time": "2019-02-15T06:38:35.501215Z",
     "start_time": "2019-02-15T06:38:35.324621Z"
    },
    "code_folding": []
   },
   "outputs": [
    {
     "data": {
      "image/png": "[encoded data removed]",
      "text/plain": [
       "<Figure size 432x288 with 1 Axes>"
      ]
     },
     "metadata": {},
     "output_type": "display_data"
    }
   ],
   "source": [
    "ax = axes()\n",
    "ax.plot(times, list_of_infid_vec[0], label='grape_no_diss')\n",
    "ax.plot(times, list_of_infid_vec[1], label='grape_diss')\n",
    "ax.plot(times, list_of_infid_vec[2], label='grape_diss_optimized')\n",
    "#ax.plot(x, cos(x), ':b', label='cos(x)')'-g',\n",
    "#ax.axis('equal')\n",
    "ax.legend()\n",
    "ax.set(xlim=(times[0],times[-1]), ylim=(0, 1.1),\n",
    "       xlabel='time', ylabel='Infidelity',\n",
    "       title='Infidelity as a function of time ');"
   ]
  },
  {
   "cell_type": "markdown",
   "metadata": {},
   "source": [
    "### try"
   ]
  },
  {
   "cell_type": "code",
   "execution_count": 95,
   "metadata": {
    "ExecuteTime": {
     "end_time": "2019-02-16T11:01:20.702155Z",
     "start_time": "2019-02-16T10:56:29.243723Z"
    }
   },
   "outputs": [
    {
     "name": "stdout",
     "output_type": "stream",
     "text": [
      "Tejas is unlucky\n"
     ]
    }
   ],
   "source": [
    "xi_opt = terminator(10**4,time_steps=len(times), total_time= total_time_evo,\n",
    "               epsilon= ((0.1*2*pi)/(10**3)))"
   ]
  },
  {
   "cell_type": "code",
   "execution_count": 96,
   "metadata": {
    "ExecuteTime": {
     "end_time": "2019-02-16T11:01:21.378013Z",
     "start_time": "2019-02-16T11:01:20.703773Z"
    }
   },
   "outputs": [
    {
     "data": {
      "text/plain": [
       "-0.9549811435604786"
      ]
     },
     "execution_count": 96,
     "metadata": {},
     "output_type": "execute_result"
    }
   ],
   "source": [
    "dt = (2*pi)/500\n",
    "F(xi_opt, dt)"
   ]
  },
  {
   "cell_type": "code",
   "execution_count": 97,
   "metadata": {
    "ExecuteTime": {
     "end_time": "2019-02-16T11:01:21.986157Z",
     "start_time": "2019-02-16T11:01:21.379472Z"
    }
   },
   "outputs": [
    {
     "data": {
      "text/latex": [
       "Quantum object: dims = [[2, 2], [2, 2]], shape = (4, 4), type = oper, isherm = False\\begin{equation*}\\left(\\begin{array}{*{11}c}0.219 & (0.033-0.027j) & (0.033+0.027j) & 0.781\\\\(-0.038+0.006j) & (-0.065-0.049j) & (0.394+0.015j) & (0.038-0.006j)\\\\(-0.038-0.006j) & (0.394-0.015j) & (-0.065+0.049j) & (0.038+0.006j)\\\\0.781 & (-0.033+0.027j) & (-0.033-0.027j) & 0.219\\\\\\end{array}\\right)\\end{equation*}"
      ],
      "text/plain": [
       "Quantum object: dims = [[2, 2], [2, 2]], shape = (4, 4), type = oper, isherm = False\n",
       "Qobj data =\n",
       "[[ 0.21947999+0.j          0.0331473 -0.02679917j  0.0331473 +0.02679917j\n",
       "   0.78052001+0.j        ]\n",
       " [-0.03824169+0.00581414j -0.06497678-0.04850728j  0.39359164+0.01467194j\n",
       "   0.03824169-0.00581414j]\n",
       " [-0.03824169-0.00581414j  0.39359164-0.01467194j -0.06497678+0.04850728j\n",
       "   0.03824169+0.00581414j]\n",
       " [ 0.78052001+0.j         -0.0331473 +0.02679917j -0.0331473 -0.02679917j\n",
       "   0.21947999+0.j        ]]"
      ]
     },
     "execution_count": 97,
     "metadata": {},
     "output_type": "execute_result"
    }
   ],
   "source": [
    "L_full_maker(xi_opt, dt)"
   ]
  },
  {
   "cell_type": "code",
   "execution_count": 98,
   "metadata": {
    "ExecuteTime": {
     "end_time": "2019-02-16T11:01:22.135025Z",
     "start_time": "2019-02-16T11:01:21.987389Z"
    }
   },
   "outputs": [
    {
     "name": "stderr",
     "output_type": "stream",
     "text": [
      "/home/tejas/anaconda3/envs/qutip-env/lib/python3.6/site-packages/numpy/core/numeric.py:501: ComplexWarning: Casting complex values to real discards the imaginary part\n",
      "  return array(a, dtype, copy=False, order=order)\n",
      "/home/tejas/anaconda3/envs/qutip-env/lib/python3.6/site-packages/matplotlib/transforms.py:968: ComplexWarning: Casting complex values to real discards the imaginary part\n",
      "  self._points[:, 1] = interval\n"
     ]
    },
    {
     "data": {
      "image/png": "[encoded data removed]",
      "text/plain": [
       "<Figure size 432x288 with 1 Axes>"
      ]
     },
     "metadata": {
      "needs_background": "light"
     },
     "output_type": "display_data"
    }
   ],
   "source": [
    "ax = axes()\n",
    "ax.plot(times, xi_opt)\n",
    "xi_max = amax(xi_opt) + 0.1\n",
    "xi_min = amin(xi_opt) - 0.1\n",
    "\n",
    "ax.set(xlim=(0, total_time_evo), ylim=(xi_min, xi_max),\n",
    "       xlabel='time', ylabel= r'$g_{with diss}$',\n",
    "       title='Control field in the presence of dissipation');"
   ]
  },
  {
   "cell_type": "code",
   "execution_count": null,
   "metadata": {},
   "outputs": [],
   "source": [
    "list_of_infid_vec = cF2p(result.u[-1, 0, :], xi_opt)                                                    "
   ]
  },
  {
   "cell_type": "code",
   "execution_count": 130,
   "metadata": {
    "ExecuteTime": {
     "end_time": "2019-02-15T06:38:35.501215Z",
     "start_time": "2019-02-15T06:38:35.324621Z"
    },
    "code_folding": []
   },
   "outputs": [
    {
     "data": {
      "image/png": "[encoded data removed]",
      "text/plain": [
       "<Figure size 432x288 with 1 Axes>"
      ]
     },
     "metadata": {},
     "output_type": "display_data"
    }
   ],
   "source": [
    "ax = axes()\n",
    "ax.plot(times, list_of_infid_vec[0], label='grape_no_diss')\n",
    "ax.plot(times, list_of_infid_vec[1], label='grape_diss')\n",
    "ax.plot(times, list_of_infid_vec[2], label='grape_diss_optimized')\n",
    "#ax.plot(x, cos(x), ':b', label='cos(x)')'-g',\n",
    "#ax.axis('equal')\n",
    "ax.legend()\n",
    "ax.set(xlim=(times[0],times[-1]), ylim=(0, 1.1),\n",
    "       xlabel='time', ylabel='Infidelity',\n",
    "       title='Infidelity as a function of time ');"
   ]
  },
  {
   "cell_type": "markdown",
   "metadata": {},
   "source": [
    "### try"
   ]
  },
  {
   "cell_type": "code",
   "execution_count": 99,
   "metadata": {
    "ExecuteTime": {
     "end_time": "2019-02-16T11:06:19.226080Z",
     "start_time": "2019-02-16T11:01:22.137379Z"
    }
   },
   "outputs": [
    {
     "name": "stdout",
     "output_type": "stream",
     "text": [
      "Tejas is unlucky\n"
     ]
    }
   ],
   "source": [
    "xi_opt = terminator(10**4,time_steps=len(times), total_time= total_time_evo,\n",
    "               epsilon= ((0.1*2*pi)/(10**4)))"
   ]
  },
  {
   "cell_type": "code",
   "execution_count": 100,
   "metadata": {
    "ExecuteTime": {
     "end_time": "2019-02-16T11:06:19.856861Z",
     "start_time": "2019-02-16T11:06:19.227213Z"
    }
   },
   "outputs": [
    {
     "data": {
      "text/plain": [
       "-0.9548389887847603"
      ]
     },
     "execution_count": 100,
     "metadata": {},
     "output_type": "execute_result"
    }
   ],
   "source": [
    "dt = (2*pi)/500\n",
    "F(xi_opt, dt)"
   ]
  },
  {
   "cell_type": "code",
   "execution_count": 101,
   "metadata": {
    "ExecuteTime": {
     "end_time": "2019-02-16T11:06:20.457265Z",
     "start_time": "2019-02-16T11:06:19.858435Z"
    }
   },
   "outputs": [
    {
     "data": {
      "text/latex": [
       "Quantum object: dims = [[2, 2], [2, 2]], shape = (4, 4), type = oper, isherm = False\\begin{equation*}\\left(\\begin{array}{*{11}c}0.219 & (0.035-0.028j) & (0.035+0.028j) & 0.781\\\\(-0.038+0.006j) & (-0.064-0.049j) & (0.394+0.012j) & (0.038-0.006j)\\\\(-0.038-0.006j) & (0.394-0.012j) & (-0.064+0.049j) & (0.038+0.006j)\\\\0.781 & (-0.035+0.028j) & (-0.035-0.028j) & 0.219\\\\\\end{array}\\right)\\end{equation*}"
      ],
      "text/plain": [
       "Quantum object: dims = [[2, 2], [2, 2]], shape = (4, 4), type = oper, isherm = False\n",
       "Qobj data =\n",
       "[[ 0.21946075+0.j          0.03452335-0.0275608j   0.03452335+0.0275608j\n",
       "   0.78053925+0.j        ]\n",
       " [-0.03825461+0.00564102j -0.06417983-0.04859188j  0.39372432+0.01223276j\n",
       "   0.03825461-0.00564102j]\n",
       " [-0.03825461-0.00564102j  0.39372432-0.01223276j -0.06417983+0.04859188j\n",
       "   0.03825461+0.00564102j]\n",
       " [ 0.78053925+0.j         -0.03452335+0.0275608j  -0.03452335-0.0275608j\n",
       "   0.21946075+0.j        ]]"
      ]
     },
     "execution_count": 101,
     "metadata": {},
     "output_type": "execute_result"
    }
   ],
   "source": [
    "L_full_maker(xi_opt, dt)"
   ]
  },
  {
   "cell_type": "code",
   "execution_count": 102,
   "metadata": {
    "ExecuteTime": {
     "end_time": "2019-02-16T11:06:20.559874Z",
     "start_time": "2019-02-16T11:06:20.458788Z"
    }
   },
   "outputs": [
    {
     "name": "stderr",
     "output_type": "stream",
     "text": [
      "/home/tejas/anaconda3/envs/qutip-env/lib/python3.6/site-packages/numpy/core/numeric.py:501: ComplexWarning: Casting complex values to real discards the imaginary part\n",
      "  return array(a, dtype, copy=False, order=order)\n",
      "/home/tejas/anaconda3/envs/qutip-env/lib/python3.6/site-packages/matplotlib/transforms.py:968: ComplexWarning: Casting complex values to real discards the imaginary part\n",
      "  self._points[:, 1] = interval\n"
     ]
    },
    {
     "data": {
      "image/png": "[encoded data removed]",
      "text/plain": [
       "<Figure size 432x288 with 1 Axes>"
      ]
     },
     "metadata": {
      "needs_background": "light"
     },
     "output_type": "display_data"
    }
   ],
   "source": [
    "ax = axes()\n",
    "ax.plot(times, xi_opt)\n",
    "xi_max = amax(xi_opt) + 0.1\n",
    "xi_min = amin(xi_opt) - 0.1\n",
    "\n",
    "ax.set(xlim=(0, total_time_evo), ylim=(xi_min, xi_max),\n",
    "       xlabel='time', ylabel= r'$g_{with diss}$',\n",
    "       title='Control field in the presence of dissipation');"
   ]
  },
  {
   "cell_type": "code",
   "execution_count": null,
   "metadata": {},
   "outputs": [],
   "source": [
    "list_of_infid_vec = cF2p(result.u[-1, 0, :], xi_opt)                                                    "
   ]
  },
  {
   "cell_type": "code",
   "execution_count": 130,
   "metadata": {
    "ExecuteTime": {
     "end_time": "2019-02-15T06:38:35.501215Z",
     "start_time": "2019-02-15T06:38:35.324621Z"
    },
    "code_folding": []
   },
   "outputs": [
    {
     "data": {
      "image/png": "[encoded data removed]",
      "text/plain": [
       "<Figure size 432x288 with 1 Axes>"
      ]
     },
     "metadata": {},
     "output_type": "display_data"
    }
   ],
   "source": [
    "ax = axes()\n",
    "ax.plot(times, list_of_infid_vec[0], label='grape_no_diss')\n",
    "ax.plot(times, list_of_infid_vec[1], label='grape_diss')\n",
    "ax.plot(times, list_of_infid_vec[2], label='grape_diss_optimized')\n",
    "#ax.plot(x, cos(x), ':b', label='cos(x)')'-g',\n",
    "#ax.axis('equal')\n",
    "ax.legend()\n",
    "ax.set(xlim=(times[0],times[-1]), ylim=(0, 1.1),\n",
    "       xlabel='time', ylabel='Infidelity',\n",
    "       title='Infidelity as a function of time ');"
   ]
  },
  {
   "cell_type": "markdown",
   "metadata": {},
   "source": [
    "### try"
   ]
  },
  {
   "cell_type": "code",
   "execution_count": 103,
   "metadata": {
    "ExecuteTime": {
     "end_time": "2019-02-16T11:11:30.861562Z",
     "start_time": "2019-02-16T11:06:20.561185Z"
    }
   },
   "outputs": [
    {
     "name": "stdout",
     "output_type": "stream",
     "text": [
      "Tejas is unlucky\n"
     ]
    }
   ],
   "source": [
    "xi_opt = terminator(10**4,time_steps=len(times), total_time= total_time_evo,\n",
    "               epsilon= ((0.1*2*pi)/(10**10)))"
   ]
  },
  {
   "cell_type": "code",
   "execution_count": 104,
   "metadata": {
    "ExecuteTime": {
     "end_time": "2019-02-16T11:11:31.527850Z",
     "start_time": "2019-02-16T11:11:30.863241Z"
    }
   },
   "outputs": [
    {
     "data": {
      "text/plain": [
       "-0.9548286833510965"
      ]
     },
     "execution_count": 104,
     "metadata": {},
     "output_type": "execute_result"
    }
   ],
   "source": [
    "dt = (2*pi)/500\n",
    "F(xi_opt, dt)"
   ]
  },
  {
   "cell_type": "code",
   "execution_count": 105,
   "metadata": {
    "ExecuteTime": {
     "end_time": "2019-02-16T11:11:32.147985Z",
     "start_time": "2019-02-16T11:11:31.529277Z"
    }
   },
   "outputs": [
    {
     "data": {
      "text/latex": [
       "Quantum object: dims = [[2, 2], [2, 2]], shape = (4, 4), type = oper, isherm = False\\begin{equation*}\\left(\\begin{array}{*{11}c}0.219 & (0.035-0.028j) & (0.035+0.028j) & 0.781\\\\(-0.038+0.006j) & (-0.064-0.049j) & (0.394+0.012j) & (0.038-0.006j)\\\\(-0.038-0.006j) & (0.394-0.012j) & (-0.064+0.049j) & (0.038+0.006j)\\\\0.781 & (-0.035+0.028j) & (-0.035-0.028j) & 0.219\\\\\\end{array}\\right)\\end{equation*}"
      ],
      "text/plain": [
       "Quantum object: dims = [[2, 2], [2, 2]], shape = (4, 4), type = oper, isherm = False\n",
       "Qobj data =\n",
       "[[ 0.21945884+0.j          0.03467777-0.02764504j  0.03467777+0.02764504j\n",
       "   0.78054116+0.j        ]\n",
       " [-0.0382548 +0.00562086j -0.06409037-0.04860095j  0.39373801+0.01196291j\n",
       "   0.0382548 -0.00562086j]\n",
       " [-0.0382548 -0.00562086j  0.39373801-0.01196291j -0.06409037+0.04860095j\n",
       "   0.0382548 +0.00562086j]\n",
       " [ 0.78054116+0.j         -0.03467777+0.02764504j -0.03467777-0.02764504j\n",
       "   0.21945884+0.j        ]]"
      ]
     },
     "execution_count": 105,
     "metadata": {},
     "output_type": "execute_result"
    }
   ],
   "source": [
    "L_full_maker(xi_opt, dt)"
   ]
  },
  {
   "cell_type": "code",
   "execution_count": 106,
   "metadata": {
    "ExecuteTime": {
     "end_time": "2019-02-16T11:11:32.294160Z",
     "start_time": "2019-02-16T11:11:32.149373Z"
    }
   },
   "outputs": [
    {
     "name": "stderr",
     "output_type": "stream",
     "text": [
      "/home/tejas/anaconda3/envs/qutip-env/lib/python3.6/site-packages/numpy/core/numeric.py:501: ComplexWarning: Casting complex values to real discards the imaginary part\n",
      "  return array(a, dtype, copy=False, order=order)\n",
      "/home/tejas/anaconda3/envs/qutip-env/lib/python3.6/site-packages/matplotlib/transforms.py:968: ComplexWarning: Casting complex values to real discards the imaginary part\n",
      "  self._points[:, 1] = interval\n"
     ]
    },
    {
     "data": {
      "image/png": "[encoded data removed]",
      "text/plain": [
       "<Figure size 432x288 with 1 Axes>"
      ]
     },
     "metadata": {
      "needs_background": "light"
     },
     "output_type": "display_data"
    }
   ],
   "source": [
    "ax = axes()\n",
    "ax.plot(times, xi_opt)\n",
    "xi_max = amax(xi_opt) + 0.1\n",
    "xi_min = amin(xi_opt) - 0.1\n",
    "\n",
    "ax.set(xlim=(0, total_time_evo), ylim=(xi_min, xi_max),\n",
    "       xlabel='time', ylabel= r'$g_{with diss}$',\n",
    "       title='Control field in the presence of dissipation');"
   ]
  },
  {
   "cell_type": "code",
   "execution_count": null,
   "metadata": {},
   "outputs": [],
   "source": [
    "list_of_infid_vec = cF2p(result.u[-1, 0, :], xi_opt)                                                    "
   ]
  },
  {
   "cell_type": "code",
   "execution_count": 130,
   "metadata": {
    "ExecuteTime": {
     "end_time": "2019-02-15T06:38:35.501215Z",
     "start_time": "2019-02-15T06:38:35.324621Z"
    },
    "code_folding": []
   },
   "outputs": [
    {
     "data": {
      "image/png": "[encoded data removed]",
      "text/plain": [
       "<Figure size 432x288 with 1 Axes>"
      ]
     },
     "metadata": {},
     "output_type": "display_data"
    }
   ],
   "source": [
    "ax = axes()\n",
    "ax.plot(times, list_of_infid_vec[0], label='grape_no_diss')\n",
    "ax.plot(times, list_of_infid_vec[1], label='grape_diss')\n",
    "ax.plot(times, list_of_infid_vec[2], label='grape_diss_optimized')\n",
    "#ax.plot(x, cos(x), ':b', label='cos(x)')'-g',\n",
    "#ax.axis('equal')\n",
    "ax.legend()\n",
    "ax.set(xlim=(times[0],times[-1]), ylim=(0, 1.1),\n",
    "       xlabel='time', ylabel='Infidelity',\n",
    "       title='Infidelity as a function of time ');"
   ]
  },
  {
   "cell_type": "markdown",
   "metadata": {},
   "source": [
    "### try"
   ]
  },
  {
   "cell_type": "code",
   "execution_count": 107,
   "metadata": {
    "ExecuteTime": {
     "end_time": "2019-02-16T11:16:38.884196Z",
     "start_time": "2019-02-16T11:11:32.295598Z"
    }
   },
   "outputs": [
    {
     "name": "stdout",
     "output_type": "stream",
     "text": [
      "Tejas is unlucky\n"
     ]
    }
   ],
   "source": [
    "xi_opt = terminator(10**4,time_steps=10**3, total_time= total_time_evo,\n",
    "               epsilon= ((0.1*2*pi)/(10**3)))"
   ]
  },
  {
   "cell_type": "code",
   "execution_count": 108,
   "metadata": {
    "ExecuteTime": {
     "end_time": "2019-02-16T11:16:39.538861Z",
     "start_time": "2019-02-16T11:16:38.885526Z"
    }
   },
   "outputs": [
    {
     "data": {
      "text/plain": [
       "-4.870058606858147"
      ]
     },
     "execution_count": 108,
     "metadata": {},
     "output_type": "execute_result"
    }
   ],
   "source": [
    "dt = (2*pi)/(10**3)#(2*pi)/500\n",
    "# probaly happened because of hard coding of dt inside terminator\n",
    "# must try it again after changing that\n",
    "F(xi_opt, dt)\n"
   ]
  },
  {
   "cell_type": "code",
   "execution_count": 109,
   "metadata": {
    "ExecuteTime": {
     "end_time": "2019-02-16T11:16:40.137294Z",
     "start_time": "2019-02-16T11:16:39.540145Z"
    }
   },
   "outputs": [
    {
     "data": {
      "text/latex": [
       "Quantum object: dims = [[2, 2], [2, 2]], shape = (4, 4), type = oper, isherm = False\\begin{equation*}\\left(\\begin{array}{*{11}c}0.755 & (-0.333-0.092j) & (-0.333+0.092j) & 0.245\\\\(-0.256+0.074j) & (-0.402+0.137j) & (0.146-0.056j) & (0.256-0.074j)\\\\(-0.256-0.074j) & (0.146+0.056j) & (-0.402-0.137j) & (0.256+0.074j)\\\\0.245 & (0.333+0.092j) & (0.333-0.092j) & 0.755\\\\\\end{array}\\right)\\end{equation*}"
      ],
      "text/plain": [
       "Quantum object: dims = [[2, 2], [2, 2]], shape = (4, 4), type = oper, isherm = False\n",
       "Qobj data =\n",
       "[[ 0.75538182+0.j         -0.33312116-0.09160025j -0.33312116+0.09160025j\n",
       "   0.24461818+0.j        ]\n",
       " [-0.25622229+0.07378123j -0.4015016 +0.13690102j  0.14571279-0.05626862j\n",
       "   0.25622229-0.07378123j]\n",
       " [-0.25622229-0.07378123j  0.14571279+0.05626862j -0.4015016 -0.13690102j\n",
       "   0.25622229+0.07378123j]\n",
       " [ 0.24461818+0.j          0.33312116+0.09160025j  0.33312116-0.09160025j\n",
       "   0.75538182+0.j        ]]"
      ]
     },
     "execution_count": 109,
     "metadata": {},
     "output_type": "execute_result"
    }
   ],
   "source": [
    "L_full_maker(xi_opt, dt)"
   ]
  },
  {
   "cell_type": "code",
   "execution_count": 110,
   "metadata": {
    "ExecuteTime": {
     "end_time": "2019-02-16T11:16:40.236799Z",
     "start_time": "2019-02-16T11:16:40.138443Z"
    }
   },
   "outputs": [
    {
     "name": "stderr",
     "output_type": "stream",
     "text": [
      "/home/tejas/anaconda3/envs/qutip-env/lib/python3.6/site-packages/numpy/core/numeric.py:501: ComplexWarning: Casting complex values to real discards the imaginary part\n",
      "  return array(a, dtype, copy=False, order=order)\n",
      "/home/tejas/anaconda3/envs/qutip-env/lib/python3.6/site-packages/matplotlib/transforms.py:968: ComplexWarning: Casting complex values to real discards the imaginary part\n",
      "  self._points[:, 1] = interval\n"
     ]
    },
    {
     "data": {
      "image/png": "[encoded data removed]",
      "text/plain": [
       "<Figure size 432x288 with 1 Axes>"
      ]
     },
     "metadata": {
      "needs_background": "light"
     },
     "output_type": "display_data"
    }
   ],
   "source": [
    "ax = axes()\n",
    "ax.plot(times, xi_opt)\n",
    "xi_max = amax(xi_opt) + 0.1\n",
    "xi_min = amin(xi_opt) - 0.1\n",
    "\n",
    "ax.set(xlim=(0, total_time_evo), ylim=(xi_min, xi_max),\n",
    "       xlabel='time', ylabel= r'$g_{with diss}$',\n",
    "       title='Control field in the presence of dissipation');"
   ]
  },
  {
   "cell_type": "code",
   "execution_count": null,
   "metadata": {},
   "outputs": [],
   "source": [
    "list_of_infid_vec = cF2p(result.u[-1, 0, :], xi_opt)                                                    "
   ]
  },
  {
   "cell_type": "code",
   "execution_count": 130,
   "metadata": {
    "ExecuteTime": {
     "end_time": "2019-02-15T06:38:35.501215Z",
     "start_time": "2019-02-15T06:38:35.324621Z"
    },
    "code_folding": []
   },
   "outputs": [
    {
     "data": {
      "image/png": "[encoded data removed]",
      "text/plain": [
       "<Figure size 432x288 with 1 Axes>"
      ]
     },
     "metadata": {},
     "output_type": "display_data"
    }
   ],
   "source": [
    "ax = axes()\n",
    "ax.plot(times, list_of_infid_vec[0], label='grape_no_diss')\n",
    "ax.plot(times, list_of_infid_vec[1], label='grape_diss')\n",
    "ax.plot(times, list_of_infid_vec[2], label='grape_diss_optimized')\n",
    "#ax.plot(x, cos(x), ':b', label='cos(x)')'-g',\n",
    "#ax.axis('equal')\n",
    "ax.legend()\n",
    "ax.set(xlim=(times[0],times[-1]), ylim=(0, 1.1),\n",
    "       xlabel='time', ylabel='Infidelity',\n",
    "       title='Infidelity as a function of time ');"
   ]
  },
  {
   "cell_type": "markdown",
   "metadata": {},
   "source": [
    "## APS stuff"
   ]
  },
  {
   "cell_type": "markdown",
   "metadata": {},
   "source": [
    "### infidelity function tryouts"
   ]
  },
  {
   "cell_type": "code",
   "execution_count": 111,
   "metadata": {
    "ExecuteTime": {
     "end_time": "2019-02-16T11:16:40.250197Z",
     "start_time": "2019-02-16T11:16:40.238208Z"
    }
   },
   "outputs": [
    {
     "data": {
      "text/latex": [
       "Quantum object: dims = [[2], [1]], shape = (2, 1), type = ket\\begin{equation*}\\left(\\begin{array}{*{11}c}1.0\\\\0.0\\\\\\end{array}\\right)\\end{equation*}"
      ],
      "text/plain": [
       "Quantum object: dims = [[2], [1]], shape = (2, 1), type = ket\n",
       "Qobj data =\n",
       "[[1.]\n",
       " [0.]]"
      ]
     },
     "execution_count": 111,
     "metadata": {},
     "output_type": "execute_result"
    }
   ],
   "source": [
    "qone = basis(2, 0)\n",
    "qone"
   ]
  },
  {
   "cell_type": "code",
   "execution_count": 112,
   "metadata": {
    "ExecuteTime": {
     "end_time": "2019-02-16T11:16:40.325008Z",
     "start_time": "2019-02-16T11:16:40.251543Z"
    }
   },
   "outputs": [
    {
     "data": {
      "text/latex": [
       "Quantum object: dims = [[2], [1]], shape = (2, 1), type = ket\\begin{equation*}\\left(\\begin{array}{*{11}c}0.0\\\\1.0\\\\\\end{array}\\right)\\end{equation*}"
      ],
      "text/plain": [
       "Quantum object: dims = [[2], [1]], shape = (2, 1), type = ket\n",
       "Qobj data =\n",
       "[[0.]\n",
       " [1.]]"
      ]
     },
     "execution_count": 112,
     "metadata": {},
     "output_type": "execute_result"
    }
   ],
   "source": [
    "qzero = basis(2, 1)\n",
    "qzero"
   ]
  },
  {
   "cell_type": "markdown",
   "metadata": {
    "ExecuteTime": {
     "end_time": "2019-02-15T04:40:16.961355Z",
     "start_time": "2019-02-15T04:40:16.952718Z"
    }
   },
   "source": [
    "###### ket2bra\n",
    "---------------------------------------------------------------------------\n",
    "NameError                                 Traceback (most recent call last)\n",
    "<ipython-input-69-8f247c0c4d8f> in <module>()\n",
    "----> 1 ket2bra\n",
    "\n",
    "NameError: name 'ket2bra' is not defined\n"
   ]
  },
  {
   "cell_type": "code",
   "execution_count": 113,
   "metadata": {
    "ExecuteTime": {
     "end_time": "2019-02-16T11:16:40.399230Z",
     "start_time": "2019-02-16T11:16:40.326376Z"
    }
   },
   "outputs": [
    {
     "data": {
      "text/plain": [
       "(1+0j)"
      ]
     },
     "execution_count": 113,
     "metadata": {},
     "output_type": "execute_result"
    }
   ],
   "source": [
    "(sigmax()).matrix_element(qone, qzero)"
   ]
  },
  {
   "cell_type": "code",
   "execution_count": 114,
   "metadata": {
    "ExecuteTime": {
     "end_time": "2019-02-16T11:16:40.474757Z",
     "start_time": "2019-02-16T11:16:40.400306Z"
    }
   },
   "outputs": [
    {
     "data": {
      "text/plain": [
       "1.0"
      ]
     },
     "execution_count": 114,
     "metadata": {},
     "output_type": "execute_result"
    }
   ],
   "source": [
    "abs((sigmax()).matrix_element(qone, qzero))"
   ]
  },
  {
   "cell_type": "code",
   "execution_count": 115,
   "metadata": {
    "ExecuteTime": {
     "end_time": "2019-02-16T11:16:40.548954Z",
     "start_time": "2019-02-16T11:16:40.476378Z"
    }
   },
   "outputs": [
    {
     "data": {
      "text/plain": [
       "3.605551275463989"
      ]
     },
     "execution_count": 115,
     "metadata": {},
     "output_type": "execute_result"
    }
   ],
   "source": [
    "abs(2 + 3j)"
   ]
  },
  {
   "cell_type": "code",
   "execution_count": 116,
   "metadata": {
    "ExecuteTime": {
     "end_time": "2019-02-16T11:16:40.624579Z",
     "start_time": "2019-02-16T11:16:40.550281Z"
    }
   },
   "outputs": [
    {
     "data": {
      "text/plain": [
       "5.0"
      ]
     },
     "execution_count": 116,
     "metadata": {},
     "output_type": "execute_result"
    }
   ],
   "source": [
    "abs(3 + 4j)"
   ]
  },
  {
   "cell_type": "code",
   "execution_count": 117,
   "metadata": {
    "ExecuteTime": {
     "end_time": "2019-02-16T11:16:40.698475Z",
     "start_time": "2019-02-16T11:16:40.625924Z"
    }
   },
   "outputs": [],
   "source": [
    "def infidelity_to_one(U):\n",
    "    r\"\"\"infidelity to state one\"\"\"\n",
    "    fidelity = (abs(U.matrix_element(qone, qzero)))**2\n",
    "    infidelity = 1 - fidelity\n",
    "    return infidelity"
   ]
  },
  {
   "cell_type": "code",
   "execution_count": 118,
   "metadata": {
    "ExecuteTime": {
     "end_time": "2019-02-16T11:16:40.797639Z",
     "start_time": "2019-02-16T11:16:40.699638Z"
    }
   },
   "outputs": [
    {
     "data": {
      "text/plain": [
       "0.0"
      ]
     },
     "execution_count": 118,
     "metadata": {},
     "output_type": "execute_result"
    }
   ],
   "source": [
    "infidelity_to_one(sigmax()) \n",
    "# 1 - abs((sigmax()).matrix_element(qone, qzero))\n",
    "# 1 - 1 = 0"
   ]
  },
  {
   "cell_type": "markdown",
   "metadata": {},
   "source": [
    "  result.u, result.u but lindbladian evolution, xi_opt"
   ]
  },
  {
   "cell_type": "code",
   "execution_count": 119,
   "metadata": {
    "ExecuteTime": {
     "end_time": "2019-02-16T11:16:40.882285Z",
     "start_time": "2019-02-16T11:16:40.799238Z"
    }
   },
   "outputs": [
    {
     "data": {
      "text/plain": [
       "0j"
      ]
     },
     "execution_count": 119,
     "metadata": {},
     "output_type": "execute_result"
    }
   ],
   "source": [
    "qone.overlap(qzero)"
   ]
  },
  {
   "cell_type": "code",
   "execution_count": 120,
   "metadata": {
    "ExecuteTime": {
     "end_time": "2019-02-16T11:16:40.949767Z",
     "start_time": "2019-02-16T11:16:40.883651Z"
    }
   },
   "outputs": [
    {
     "data": {
      "text/plain": [
       "(1+0j)"
      ]
     },
     "execution_count": 120,
     "metadata": {},
     "output_type": "execute_result"
    }
   ],
   "source": [
    "qzero.overlap(qzero)"
   ]
  },
  {
   "cell_type": "code",
   "execution_count": 121,
   "metadata": {
    "ExecuteTime": {
     "end_time": "2019-02-16T11:16:41.016407Z",
     "start_time": "2019-02-16T11:16:40.951201Z"
    }
   },
   "outputs": [
    {
     "data": {
      "text/plain": [
       "(1+0j)"
      ]
     },
     "execution_count": 121,
     "metadata": {},
     "output_type": "execute_result"
    }
   ],
   "source": [
    "qone.overlap(qone)"
   ]
  },
  {
   "cell_type": "code",
   "execution_count": 122,
   "metadata": {
    "ExecuteTime": {
     "end_time": "2019-02-16T11:16:41.082302Z",
     "start_time": "2019-02-16T11:16:41.017630Z"
    }
   },
   "outputs": [],
   "source": [
    "def infidelity_to_state(psi):\n",
    "    r\"\"\"infidelity to state one\"\"\"\n",
    "    fidelity = (abs(qone.overlap(psi)))**2\n",
    "    infidelity = 1 - fidelity\n",
    "    return infidelity"
   ]
  },
  {
   "cell_type": "code",
   "execution_count": 123,
   "metadata": {
    "ExecuteTime": {
     "end_time": "2019-02-16T11:16:41.149645Z",
     "start_time": "2019-02-16T11:16:41.083361Z"
    }
   },
   "outputs": [
    {
     "data": {
      "text/plain": [
       "1.0"
      ]
     },
     "execution_count": 123,
     "metadata": {},
     "output_type": "execute_result"
    }
   ],
   "source": [
    "infidelity_to_state(qzero)"
   ]
  },
  {
   "cell_type": "code",
   "execution_count": 124,
   "metadata": {
    "ExecuteTime": {
     "end_time": "2019-02-16T11:16:41.274582Z",
     "start_time": "2019-02-16T11:16:41.150670Z"
    }
   },
   "outputs": [
    {
     "data": {
      "text/plain": [
       "0.0"
      ]
     },
     "execution_count": 124,
     "metadata": {},
     "output_type": "execute_result"
    }
   ],
   "source": [
    "infidelity_to_state(qone)"
   ]
  },
  {
   "cell_type": "code",
   "execution_count": 125,
   "metadata": {
    "ExecuteTime": {
     "end_time": "2019-02-16T11:16:41.348389Z",
     "start_time": "2019-02-16T11:16:41.275666Z"
    }
   },
   "outputs": [],
   "source": [
    "#mesolve"
   ]
  },
  {
   "cell_type": "markdown",
   "metadata": {
    "ExecuteTime": {
     "end_time": "2019-02-15T04:40:17.005913Z",
     "start_time": "2019-02-15T04:34:35.127Z"
    }
   },
   "source": [
    "\n",
    "### state building"
   ]
  },
  {
   "cell_type": "code",
   "execution_count": 126,
   "metadata": {
    "ExecuteTime": {
     "end_time": "2019-02-16T11:16:47.073220Z",
     "start_time": "2019-02-16T11:16:41.349481Z"
    }
   },
   "outputs": [
    {
     "name": "stdout",
     "output_type": "stream",
     "text": [
      " Total run time:   0.60s*] Elapsed 0.60s / Remaining 00:00:00:00[*********57%*          ] Elapsed 0.33s / Remaining 00:00:00:00[*********72%*****      ] Elapsed 0.43s / Remaining 00:00:00:00\n"
     ]
    }
   ],
   "source": [
    "H_no_diss = [H_0, [H_1, result.u[-1, 0, :] ]]\n",
    "grape_no_diss = mesolve(H_no_diss, qzero, times, c_ops=[], e_ops=[], \n",
    "                        args={}, options=None, \n",
    "                        progress_bar=EnhancedTextProgressBar() )"
   ]
  },
  {
   "cell_type": "code",
   "execution_count": 127,
   "metadata": {
    "ExecuteTime": {
     "end_time": "2019-02-16T11:16:47.080962Z",
     "start_time": "2019-02-16T11:16:47.078317Z"
    }
   },
   "outputs": [
    {
     "data": {
      "text/plain": [
       "500"
      ]
     },
     "execution_count": 127,
     "metadata": {},
     "output_type": "execute_result"
    }
   ],
   "source": [
    "len(grape_no_diss.states)"
   ]
  },
  {
   "cell_type": "code",
   "execution_count": 128,
   "metadata": {
    "ExecuteTime": {
     "end_time": "2019-02-16T11:16:47.169393Z",
     "start_time": "2019-02-16T11:16:47.085126Z"
    }
   },
   "outputs": [
    {
     "data": {
      "text/latex": [
       "Quantum object: dims = [[2], [2]], shape = (2, 2), type = oper, isherm = True\\begin{equation*}\\left(\\begin{array}{*{11}c}1.0 & 0.0\\\\0.0 & -1.0\\\\\\end{array}\\right)\\end{equation*}"
      ],
      "text/plain": [
       "Quantum object: dims = [[2], [2]], shape = (2, 2), type = oper, isherm = True\n",
       "Qobj data =\n",
       "[[ 1.  0.]\n",
       " [ 0. -1.]]"
      ]
     },
     "execution_count": 128,
     "metadata": {},
     "output_type": "execute_result"
    }
   ],
   "source": [
    "Lin"
   ]
  },
  {
   "cell_type": "code",
   "execution_count": 129,
   "metadata": {
    "ExecuteTime": {
     "end_time": "2019-02-16T11:16:47.252271Z",
     "start_time": "2019-02-16T11:16:47.171059Z"
    }
   },
   "outputs": [
    {
     "data": {
      "text/plain": [
       "0.31622776601683794"
      ]
     },
     "execution_count": 129,
     "metadata": {},
     "output_type": "execute_result"
    }
   ],
   "source": [
    "sqrt(gamma)"
   ]
  },
  {
   "cell_type": "code",
   "execution_count": 130,
   "metadata": {
    "ExecuteTime": {
     "end_time": "2019-02-16T11:16:47.319399Z",
     "start_time": "2019-02-16T11:16:47.253761Z"
    }
   },
   "outputs": [
    {
     "data": {
      "text/latex": [
       "Quantum object: dims = [[2], [2]], shape = (2, 2), type = oper, isherm = True\\begin{equation*}\\left(\\begin{array}{*{11}c}0.316 & 0.0\\\\0.0 & -0.316\\\\\\end{array}\\right)\\end{equation*}"
      ],
      "text/plain": [
       "Quantum object: dims = [[2], [2]], shape = (2, 2), type = oper, isherm = True\n",
       "Qobj data =\n",
       "[[ 0.31622777  0.        ]\n",
       " [ 0.         -0.31622777]]"
      ]
     },
     "execution_count": 130,
     "metadata": {},
     "output_type": "execute_result"
    }
   ],
   "source": [
    "c_ops_tejas = sqrt(gamma)*Lin\n",
    "c_ops_tejas"
   ]
  },
  {
   "cell_type": "code",
   "execution_count": 131,
   "metadata": {
    "ExecuteTime": {
     "end_time": "2019-02-16T11:16:50.129671Z",
     "start_time": "2019-02-16T11:16:47.320916Z"
    }
   },
   "outputs": [
    {
     "name": "stdout",
     "output_type": "stream",
     "text": [
      " Total run time:   0.39s*] Elapsed 0.39s / Remaining 00:00:00:00\n"
     ]
    }
   ],
   "source": [
    "H_diss = [H_0, [H_1, result.u[-1, 0, :] ]]\n",
    "grape_diss = mesolve(H_no_diss, qzero, times, c_ops=[c_ops_tejas], e_ops=[], \n",
    "                        args={}, options=None, \n",
    "                        progress_bar=EnhancedTextProgressBar() )"
   ]
  },
  {
   "cell_type": "code",
   "execution_count": 132,
   "metadata": {
    "ExecuteTime": {
     "end_time": "2019-02-16T11:16:50.134253Z",
     "start_time": "2019-02-16T11:16:50.131260Z"
    }
   },
   "outputs": [
    {
     "data": {
      "text/plain": [
       "500"
      ]
     },
     "execution_count": 132,
     "metadata": {},
     "output_type": "execute_result"
    }
   ],
   "source": [
    "len(grape_diss.states)"
   ]
  },
  {
   "cell_type": "code",
   "execution_count": 133,
   "metadata": {
    "ExecuteTime": {
     "end_time": "2019-02-16T11:16:52.602521Z",
     "start_time": "2019-02-16T11:16:50.135794Z"
    }
   },
   "outputs": [
    {
     "name": "stdout",
     "output_type": "stream",
     "text": [
      "10.0%. Run time:   0.01s. Est. time left: 00:00:00:00\n",
      "20.0%. Run time:   0.02s. Est. time left: 00:00:00:00\n",
      "30.0%. Run time:   0.03s. Est. time left: 00:00:00:00\n",
      "40.0%. Run time:   0.04s. Est. time left: 00:00:00:00\n",
      "50.0%. Run time:   0.05s. Est. time left: 00:00:00:00\n",
      "60.0%. Run time:   0.06s. Est. time left: 00:00:00:00\n",
      "70.0%. Run time:   0.06s. Est. time left: 00:00:00:00\n",
      "80.0%. Run time:   0.07s. Est. time left: 00:00:00:00\n",
      "90.0%. Run time:   0.08s. Est. time left: 00:00:00:00\n",
      "Total run time:   0.10s\n"
     ]
    }
   ],
   "source": [
    "H_diss_optimized = [H_0, [H_1, xi_opt ]]\n",
    "grape_diss_optimized = mesolve(H_diss_optimized, qzero, times, c_ops=[c_ops_tejas], \n",
    "                               e_ops=[], args={}, options=None, \n",
    "                               progress_bar=TextProgressBar() )\n",
    "# H_diss_optimized should have been written isntead of H_no_diss"
   ]
  },
  {
   "cell_type": "code",
   "execution_count": 134,
   "metadata": {
    "ExecuteTime": {
     "end_time": "2019-02-16T11:16:52.606922Z",
     "start_time": "2019-02-16T11:16:52.603995Z"
    }
   },
   "outputs": [
    {
     "data": {
      "text/plain": [
       "500"
      ]
     },
     "execution_count": 134,
     "metadata": {},
     "output_type": "execute_result"
    }
   ],
   "source": [
    "len(grape_diss_optimized.states)"
   ]
  },
  {
   "cell_type": "markdown",
   "metadata": {},
   "source": [
    "### states list to fidelity list"
   ]
  },
  {
   "cell_type": "code",
   "execution_count": 135,
   "metadata": {
    "ExecuteTime": {
     "end_time": "2019-02-16T11:16:52.686971Z",
     "start_time": "2019-02-16T11:16:52.608178Z"
    }
   },
   "outputs": [],
   "source": [
    "infidelity_to_state_vec = vectorize(infidelity_to_state)"
   ]
  },
  {
   "cell_type": "code",
   "execution_count": 136,
   "metadata": {
    "ExecuteTime": {
     "end_time": "2019-02-16T11:16:52.765705Z",
     "start_time": "2019-02-16T11:16:52.688187Z"
    }
   },
   "outputs": [],
   "source": [
    "infid_grape_no_diss = infidelity_to_state_vec(grape_no_diss.states)"
   ]
  },
  {
   "cell_type": "code",
   "execution_count": 137,
   "metadata": {
    "ExecuteTime": {
     "end_time": "2019-02-16T11:16:52.920920Z",
     "start_time": "2019-02-16T11:16:52.766998Z"
    }
   },
   "outputs": [
    {
     "data": {
      "text/plain": [
       "'fid_grape_diss = infidelity_to_state_vec(grape_diss.states)\\nTypeError                                 Traceback (most recent call last)\\n<ipython-input-101-fbabc06eff84> in <module>()\\n----> 1 fid_grape_diss = infidelity_to_state_vec(grape_diss.states)\\n\\n/anaconda3/envs/qutip-env/lib/python3.6/site-packages/numpy/lib/function_base.py in __call__(self, *args, **kwargs)\\n   2753             vargs.extend([kwargs[_n] for _n in names])\\n   2754 \\n-> 2755         return self._vectorize_call(func=func, args=vargs)\\n   2756 \\n   2757     def _get_ufunc_and_otypes(self, func, args):\\n\\n/anaconda3/envs/qutip-env/lib/python3.6/site-packages/numpy/lib/function_base.py in _vectorize_call(self, func, args)\\n   2823             res = func()\\n   2824         else:\\n-> 2825             ufunc, otypes = self._get_ufunc_and_otypes(func=func, args=args)\\n   2826 \\n   2827             # Convert args to object arrays first\\n\\n/anaconda3/envs/qutip-env/lib/python3.6/site-packages/numpy/lib/function_base.py in _get_ufunc_and_otypes(self, func, args)\\n   2783 \\n   2784             inputs = [arg.flat[0] for arg in args]\\n-> 2785             outputs = func(*inputs)\\n   2786 \\n   2787             # Performance note: profiling indicates that -- for simple\\n\\n<ipython-input-96-32321f8d8a33> in infidelity_to_state(psi)\\n      1 def infidelity_to_state(psi):\\n      2     r\"\"\"infidelity to state one\"\"\"\\n----> 3     fidelity = (abs(qone.overlap(psi)))**2\\n      4     infidelity = 1 - fidelity\\n      5     return infidelity\\n\\n/anaconda3/envs/qutip-env/lib/python3.6/site-packages/qutip/qobj.py in overlap(self, state)\\n   1486                     return (self.data.H * state.data)[0, 0]\\n   1487 \\n-> 1488         raise TypeError(\"Can only calculate overlap for state vector Qobjs\")\\n   1489 \\n   1490     def eigenstates(self, sparse=False, sort=\\'low\\',\\n\\nTypeError: Can only calculate overlap for state vector Qobjs\\n\\n\\n'"
      ]
     },
     "execution_count": 137,
     "metadata": {},
     "output_type": "execute_result"
    }
   ],
   "source": [
    "'''fid_grape_diss = infidelity_to_state_vec(grape_diss.states)\n",
    "TypeError                                 Traceback (most recent call last)\n",
    "<ipython-input-101-fbabc06eff84> in <module>()\n",
    "----> 1 fid_grape_diss = infidelity_to_state_vec(grape_diss.states)\n",
    "\n",
    "/anaconda3/envs/qutip-env/lib/python3.6/site-packages/numpy/lib/function_base.py in __call__(self, *args, **kwargs)\n",
    "   2753             vargs.extend([kwargs[_n] for _n in names])\n",
    "   2754 \n",
    "-> 2755         return self._vectorize_call(func=func, args=vargs)\n",
    "   2756 \n",
    "   2757     def _get_ufunc_and_otypes(self, func, args):\n",
    "\n",
    "/anaconda3/envs/qutip-env/lib/python3.6/site-packages/numpy/lib/function_base.py in _vectorize_call(self, func, args)\n",
    "   2823             res = func()\n",
    "   2824         else:\n",
    "-> 2825             ufunc, otypes = self._get_ufunc_and_otypes(func=func, args=args)\n",
    "   2826 \n",
    "   2827             # Convert args to object arrays first\n",
    "\n",
    "/anaconda3/envs/qutip-env/lib/python3.6/site-packages/numpy/lib/function_base.py in _get_ufunc_and_otypes(self, func, args)\n",
    "   2783 \n",
    "   2784             inputs = [arg.flat[0] for arg in args]\n",
    "-> 2785             outputs = func(*inputs)\n",
    "   2786 \n",
    "   2787             # Performance note: profiling indicates that -- for simple\n",
    "\n",
    "<ipython-input-96-32321f8d8a33> in infidelity_to_state(psi)\n",
    "      1 def infidelity_to_state(psi):\n",
    "      2     r\"\"\"infidelity to state one\"\"\"\n",
    "----> 3     fidelity = (abs(qone.overlap(psi)))**2\n",
    "      4     infidelity = 1 - fidelity\n",
    "      5     return infidelity\n",
    "\n",
    "/anaconda3/envs/qutip-env/lib/python3.6/site-packages/qutip/qobj.py in overlap(self, state)\n",
    "   1486                     return (self.data.H * state.data)[0, 0]\n",
    "   1487 \n",
    "-> 1488         raise TypeError(\"Can only calculate overlap for state vector Qobjs\")\n",
    "   1489 \n",
    "   1490     def eigenstates(self, sparse=False, sort='low',\n",
    "\n",
    "TypeError: Can only calculate overlap for state vector Qobjs\n",
    "\n",
    "\n",
    "'''"
   ]
  },
  {
   "cell_type": "markdown",
   "metadata": {
    "ExecuteTime": {
     "end_time": "2019-02-15T05:53:06.567791Z",
     "start_time": "2019-02-15T05:53:06.556851Z"
    }
   },
   "source": [
    "fid_grape_no_diss = infidelity_to_state_vec(grape_no_diss.states)"
   ]
  },
  {
   "cell_type": "code",
   "execution_count": 138,
   "metadata": {
    "ExecuteTime": {
     "end_time": "2019-02-16T11:16:53.119116Z",
     "start_time": "2019-02-16T11:16:52.922330Z"
    }
   },
   "outputs": [
    {
     "data": {
      "text/plain": [
       "1.9999999999999996"
      ]
     },
     "execution_count": 138,
     "metadata": {},
     "output_type": "execute_result"
    }
   ],
   "source": [
    "fidelity(sigmax(), sigmax())"
   ]
  },
  {
   "cell_type": "code",
   "execution_count": 139,
   "metadata": {
    "ExecuteTime": {
     "end_time": "2019-02-16T11:16:53.206314Z",
     "start_time": "2019-02-16T11:16:53.120790Z"
    }
   },
   "outputs": [
    {
     "data": {
      "text/latex": [
       "Quantum object: dims = [[2], [2]], shape = (2, 2), type = oper, isherm = True\\begin{equation*}\\left(\\begin{array}{*{11}c}0.0 & 0.0\\\\0.0 & 1.0\\\\\\end{array}\\right)\\end{equation*}"
      ],
      "text/plain": [
       "Quantum object: dims = [[2], [2]], shape = (2, 2), type = oper, isherm = True\n",
       "Qobj data =\n",
       "[[0. 0.]\n",
       " [0. 1.]]"
      ]
     },
     "execution_count": 139,
     "metadata": {},
     "output_type": "execute_result"
    }
   ],
   "source": [
    "zero_dm = ket2dm(qzero)\n",
    "zero_dm"
   ]
  },
  {
   "cell_type": "code",
   "execution_count": 140,
   "metadata": {
    "ExecuteTime": {
     "end_time": "2019-02-16T11:16:53.373167Z",
     "start_time": "2019-02-16T11:16:53.208116Z"
    }
   },
   "outputs": [
    {
     "data": {
      "text/latex": [
       "Quantum object: dims = [[2], [2]], shape = (2, 2), type = oper, isherm = True\\begin{equation*}\\left(\\begin{array}{*{11}c}1.0 & 0.0\\\\0.0 & 0.0\\\\\\end{array}\\right)\\end{equation*}"
      ],
      "text/plain": [
       "Quantum object: dims = [[2], [2]], shape = (2, 2), type = oper, isherm = True\n",
       "Qobj data =\n",
       "[[1. 0.]\n",
       " [0. 0.]]"
      ]
     },
     "execution_count": 140,
     "metadata": {},
     "output_type": "execute_result"
    }
   ],
   "source": [
    "one_dm = ket2dm(qone)\n",
    "one_dm"
   ]
  },
  {
   "cell_type": "code",
   "execution_count": 141,
   "metadata": {
    "ExecuteTime": {
     "end_time": "2019-02-16T11:16:53.530890Z",
     "start_time": "2019-02-16T11:16:53.374877Z"
    }
   },
   "outputs": [
    {
     "data": {
      "text/plain": [
       "1.0"
      ]
     },
     "execution_count": 141,
     "metadata": {},
     "output_type": "execute_result"
    }
   ],
   "source": [
    "fidelity(zero_dm, zero_dm)"
   ]
  },
  {
   "cell_type": "code",
   "execution_count": 142,
   "metadata": {
    "ExecuteTime": {
     "end_time": "2019-02-16T11:16:53.605070Z",
     "start_time": "2019-02-16T11:16:53.532004Z"
    }
   },
   "outputs": [
    {
     "data": {
      "text/plain": [
       "0.0"
      ]
     },
     "execution_count": 142,
     "metadata": {},
     "output_type": "execute_result"
    }
   ],
   "source": [
    "fidelity(zero_dm, one_dm)"
   ]
  },
  {
   "cell_type": "code",
   "execution_count": 143,
   "metadata": {
    "ExecuteTime": {
     "end_time": "2019-02-16T11:16:53.711452Z",
     "start_time": "2019-02-16T11:16:53.606203Z"
    }
   },
   "outputs": [
    {
     "data": {
      "text/plain": [
       "0.0"
      ]
     },
     "execution_count": 143,
     "metadata": {},
     "output_type": "execute_result"
    }
   ],
   "source": [
    "fidelity(one_dm, zero_dm)"
   ]
  },
  {
   "cell_type": "code",
   "execution_count": 144,
   "metadata": {
    "ExecuteTime": {
     "end_time": "2019-02-16T11:16:53.788384Z",
     "start_time": "2019-02-16T11:16:53.712773Z"
    }
   },
   "outputs": [
    {
     "data": {
      "text/latex": [
       "Quantum object: dims = [[2], [1]], shape = (2, 1), type = ket\\begin{equation*}\\left(\\begin{array}{*{11}c}(0.008-4.378\\times10^{-05}j)\\\\(0.999+0.031j)\\\\\\end{array}\\right)\\end{equation*}"
      ],
      "text/plain": [
       "Quantum object: dims = [[2], [1]], shape = (2, 1), type = ket\n",
       "Qobj data =\n",
       "[[0.00807569-4.37819679e-05j]\n",
       " [0.99947197+3.14733038e-02j]]"
      ]
     },
     "execution_count": 144,
     "metadata": {},
     "output_type": "execute_result"
    }
   ],
   "source": [
    "grape_no_diss.states[5]"
   ]
  },
  {
   "cell_type": "code",
   "execution_count": 145,
   "metadata": {
    "ExecuteTime": {
     "end_time": "2019-02-16T11:16:53.922423Z",
     "start_time": "2019-02-16T11:16:53.790087Z"
    }
   },
   "outputs": [
    {
     "data": {
      "text/latex": [
       "Quantum object: dims = [[2], [2]], shape = (2, 2), type = oper, isherm = True\\begin{equation*}\\left(\\begin{array}{*{11}c}6.496\\times10^{-05} & (0.008-2.952\\times10^{-04}j)\\\\(0.008+2.952\\times10^{-04}j) & 1.000\\\\\\end{array}\\right)\\end{equation*}"
      ],
      "text/plain": [
       "Quantum object: dims = [[2], [2]], shape = (2, 2), type = oper, isherm = True\n",
       "Qobj data =\n",
       "[[6.49580596e-05+0.j         8.01068830e-03-0.00029525j]\n",
       " [8.01068830e-03+0.00029525j 9.99935042e-01+0.j        ]]"
      ]
     },
     "execution_count": 145,
     "metadata": {},
     "output_type": "execute_result"
    }
   ],
   "source": [
    "grape_diss.states[5]"
   ]
  },
  {
   "cell_type": "code",
   "execution_count": 146,
   "metadata": {
    "ExecuteTime": {
     "end_time": "2019-02-16T11:16:53.989582Z",
     "start_time": "2019-02-16T11:16:53.924188Z"
    }
   },
   "outputs": [
    {
     "data": {
      "text/latex": [
       "Quantum object: dims = [[2], [2]], shape = (2, 2), type = oper, isherm = True\\begin{equation*}\\left(\\begin{array}{*{11}c}8.740\\times10^{-05} & (0.009-5.120\\times10^{-04}j)\\\\(0.009+5.120\\times10^{-04}j) & 1.000\\\\\\end{array}\\right)\\end{equation*}"
      ],
      "text/plain": [
       "Quantum object: dims = [[2], [2]], shape = (2, 2), type = oper, isherm = True\n",
       "Qobj data =\n",
       "[[8.73992492e-05+0.j         9.25584620e-03-0.00051196j]\n",
       " [9.25584620e-03+0.00051196j 9.99912601e-01+0.j        ]]"
      ]
     },
     "execution_count": 146,
     "metadata": {},
     "output_type": "execute_result"
    }
   ],
   "source": [
    "grape_diss.states[7]"
   ]
  },
  {
   "cell_type": "code",
   "execution_count": 147,
   "metadata": {
    "ExecuteTime": {
     "end_time": "2019-02-16T11:16:54.694314Z",
     "start_time": "2019-02-16T11:16:53.991160Z"
    }
   },
   "outputs": [
    {
     "data": {
      "text/plain": [
       "0.00934875656096058"
      ]
     },
     "execution_count": 147,
     "metadata": {},
     "output_type": "execute_result"
    }
   ],
   "source": [
    "fidelity(grape_diss.states[7], one_dm)"
   ]
  },
  {
   "cell_type": "code",
   "execution_count": 148,
   "metadata": {
    "ExecuteTime": {
     "end_time": "2019-02-16T11:16:54.829083Z",
     "start_time": "2019-02-16T11:16:54.695822Z"
    }
   },
   "outputs": [],
   "source": [
    "#0.012−2.347×10**−05j)"
   ]
  },
  {
   "cell_type": "code",
   "execution_count": 149,
   "metadata": {
    "ExecuteTime": {
     "end_time": "2019-02-16T11:16:54.904206Z",
     "start_time": "2019-02-16T11:16:54.830577Z"
    }
   },
   "outputs": [],
   "source": [
    "def infidelity_tejas(dm, d=2):\n",
    "    r\"\"\"Brief description of the function\"\"\"\n",
    "    infid = 1 - fidelity(one_dm, dm)\n",
    "    return infid"
   ]
  },
  {
   "cell_type": "code",
   "execution_count": 150,
   "metadata": {
    "ExecuteTime": {
     "end_time": "2019-02-16T11:16:54.979185Z",
     "start_time": "2019-02-16T11:16:54.905705Z"
    }
   },
   "outputs": [],
   "source": [
    "infid_dm_vec = vectorize(infidelity_tejas)"
   ]
  },
  {
   "cell_type": "code",
   "execution_count": 151,
   "metadata": {
    "ExecuteTime": {
     "end_time": "2019-02-16T11:16:55.419488Z",
     "start_time": "2019-02-16T11:16:54.980799Z"
    }
   },
   "outputs": [],
   "source": [
    "infid_grape_diss = infid_dm_vec(grape_diss.states) "
   ]
  },
  {
   "cell_type": "code",
   "execution_count": 152,
   "metadata": {
    "ExecuteTime": {
     "end_time": "2019-02-16T11:16:55.423482Z",
     "start_time": "2019-02-16T11:16:55.420642Z"
    }
   },
   "outputs": [
    {
     "data": {
      "text/plain": [
       "500"
      ]
     },
     "execution_count": 152,
     "metadata": {},
     "output_type": "execute_result"
    }
   ],
   "source": [
    "len(infid_grape_diss)"
   ]
  },
  {
   "cell_type": "code",
   "execution_count": 153,
   "metadata": {
    "ExecuteTime": {
     "end_time": "2019-02-16T11:16:55.889291Z",
     "start_time": "2019-02-16T11:16:55.424580Z"
    }
   },
   "outputs": [],
   "source": [
    "infid_grape_diss_optimized = infid_dm_vec(grape_diss_optimized.states) "
   ]
  },
  {
   "cell_type": "code",
   "execution_count": 154,
   "metadata": {
    "ExecuteTime": {
     "end_time": "2019-02-16T11:16:55.893178Z",
     "start_time": "2019-02-16T11:16:55.890367Z"
    }
   },
   "outputs": [
    {
     "data": {
      "text/plain": [
       "500"
      ]
     },
     "execution_count": 154,
     "metadata": {},
     "output_type": "execute_result"
    }
   ],
   "source": [
    "len(infid_grape_diss_optimized)"
   ]
  },
  {
   "cell_type": "markdown",
   "metadata": {},
   "source": [
    "### plots"
   ]
  },
  {
   "cell_type": "code",
   "execution_count": 155,
   "metadata": {
    "ExecuteTime": {
     "end_time": "2019-02-16T11:16:56.097769Z",
     "start_time": "2019-02-16T11:16:55.894628Z"
    },
    "code_folding": []
   },
   "outputs": [
    {
     "data": {
      "image/png": "[encoded data removed]",
      "text/plain": [
       "<Figure size 432x288 with 1 Axes>"
      ]
     },
     "metadata": {
      "needs_background": "light"
     },
     "output_type": "display_data"
    }
   ],
   "source": [
    "ax = axes()\n",
    "ax.plot(times, infid_grape_no_diss, label='grape_no_diss')\n",
    "ax.plot(times, infid_grape_diss, label='grape_diss')\n",
    "ax.plot(times, infid_grape_diss_optimized, label='grape_diss_optimized')\n",
    "#ax.plot(x, cos(x), ':b', label='cos(x)')'-g',\n",
    "#ax.axis('equal')\n",
    "ax.legend()\n",
    "ax.set(xlim=(times[0],times[-1]), ylim=(0, 1.1),\n",
    "       xlabel='time', ylabel='Infidelity',\n",
    "       title='Infidelity as a function of time ');"
   ]
  },
  {
   "cell_type": "code",
   "execution_count": 156,
   "metadata": {
    "ExecuteTime": {
     "end_time": "2019-02-16T11:16:56.312077Z",
     "start_time": "2019-02-16T11:16:56.099216Z"
    }
   },
   "outputs": [
    {
     "data": {
      "image/png": "[encoded data removed]",
      "text/plain": [
       "<Figure size 432x288 with 1 Axes>"
      ]
     },
     "metadata": {
      "needs_background": "light"
     },
     "output_type": "display_data"
    }
   ],
   "source": [
    "ax = axes()\n",
    "ax.plot(times, infid_grape_no_diss, label='grape_no_diss')\n",
    "ax.plot(times, infid_grape_diss, label='grape_diss')\n",
    "#ax.plot(times, infid_grape_diss_optimized, label='grape_diss_optimized')\n",
    "#ax.plot(x, cos(x), ':b', label='cos(x)')'-g',\n",
    "#ax.axis('equal')\n",
    "ax.legend()\n",
    "\n",
    "ax.set(xlim=(times[0],times[-1]), ylim=(0, 1.1),\n",
    "       xlabel='time', ylabel='Infidelity',\n",
    "       title='Infidelity as a function of time ');"
   ]
  },
  {
   "cell_type": "code",
   "execution_count": 157,
   "metadata": {
    "ExecuteTime": {
     "end_time": "2019-02-16T11:16:56.410176Z",
     "start_time": "2019-02-16T11:16:56.313401Z"
    }
   },
   "outputs": [
    {
     "data": {
      "image/png": "[encoded data removed]",
      "text/plain": [
       "<Figure size 432x288 with 1 Axes>"
      ]
     },
     "metadata": {
      "needs_background": "light"
     },
     "output_type": "display_data"
    }
   ],
   "source": [
    "ax = axes()\n",
    "ax.plot(times, infid_grape_no_diss, label='grape_no_diss')\n",
    "#ax.plot(times, infid_grape_diss, label='grape_diss')\n",
    "ax.plot(times, infid_grape_diss_optimized, label='grape_diss_optimized')\n",
    "#ax.plot(x, cos(x), ':b', label='cos(x)')'-g',\n",
    "#ax.axis('equal')\n",
    "ax.legend()\n",
    "\n",
    "ax.set(xlim=(times[0],times[-1]), ylim=(0, 1.1),\n",
    "       xlabel='time', ylabel='Infidelity',\n",
    "       title='Infidelity as a function of time ');"
   ]
  },
  {
   "cell_type": "code",
   "execution_count": 158,
   "metadata": {
    "ExecuteTime": {
     "end_time": "2019-02-16T11:16:56.493749Z",
     "start_time": "2019-02-16T11:16:56.411875Z"
    }
   },
   "outputs": [
    {
     "name": "stderr",
     "output_type": "stream",
     "text": [
      "/home/tejas/anaconda3/envs/qutip-env/lib/python3.6/site-packages/numpy/core/numeric.py:501: ComplexWarning: Casting complex values to real discards the imaginary part\n",
      "  return array(a, dtype, copy=False, order=order)\n",
      "/home/tejas/anaconda3/envs/qutip-env/lib/python3.6/site-packages/matplotlib/transforms.py:968: ComplexWarning: Casting complex values to real discards the imaginary part\n",
      "  self._points[:, 1] = interval\n"
     ]
    },
    {
     "data": {
      "image/png": "[encoded data removed]",
      "text/plain": [
       "<Figure size 432x288 with 1 Axes>"
      ]
     },
     "metadata": {
      "needs_background": "light"
     },
     "output_type": "display_data"
    }
   ],
   "source": [
    "ax = axes()\n",
    "c_diff = result.u[-1, 0, : ] - xi_opt\n",
    "ax.plot(times, c_diff)\n",
    "c_max = amax(c_diff) + 0.1\n",
    "c_min = amin(c_diff) - 0.1\n",
    "\n",
    "ax.set(xlim=(0, total_time_evo), ylim=(c_min, c_max),\n",
    "       xlabel='time', ylabel= 'diff',\n",
    "       title='difference');"
   ]
  },
  {
   "cell_type": "code",
   "execution_count": null,
   "metadata": {},
   "outputs": [],
   "source": []
  },
  {
   "cell_type": "code",
   "execution_count": null,
   "metadata": {},
   "outputs": [],
   "source": []
  },
  {
   "cell_type": "code",
   "execution_count": null,
   "metadata": {},
   "outputs": [],
   "source": []
  },
  {
   "cell_type": "code",
   "execution_count": null,
   "metadata": {},
   "outputs": [],
   "source": []
  },
  {
   "cell_type": "code",
   "execution_count": null,
   "metadata": {},
   "outputs": [],
   "source": []
  },
  {
   "cell_type": "code",
   "execution_count": 159,
   "metadata": {
    "ExecuteTime": {
     "end_time": "2019-02-16T11:16:56.621808Z",
     "start_time": "2019-02-16T11:16:56.494902Z"
    }
   },
   "outputs": [
    {
     "name": "stderr",
     "output_type": "stream",
     "text": [
      "/home/tejas/anaconda3/envs/qutip-env/lib/python3.6/site-packages/numpy/core/numeric.py:501: ComplexWarning: Casting complex values to real discards the imaginary part\n",
      "  return array(a, dtype, copy=False, order=order)\n",
      "/home/tejas/anaconda3/envs/qutip-env/lib/python3.6/site-packages/matplotlib/transforms.py:968: ComplexWarning: Casting complex values to real discards the imaginary part\n",
      "  self._points[:, 1] = interval\n"
     ]
    },
    {
     "data": {
      "image/png": "[encoded data removed]",
      "text/plain": [
       "<Figure size 432x288 with 1 Axes>"
      ]
     },
     "metadata": {
      "needs_background": "light"
     },
     "output_type": "display_data"
    }
   ],
   "source": [
    "ax = axes()\n",
    "ax.plot(times, xi_opt)\n",
    "xi_max = amax(xi_opt) + 0.1\n",
    "xi_min = amin(xi_opt) - 0.1\n",
    "\n",
    "ax.set(xlim=(0, total_time_evo), ylim=(xi_min, xi_max),\n",
    "       xlabel='time', ylabel= r'$g_{with diss}$',\n",
    "       title='Control field in the presence of dissipation');"
   ]
  },
  {
   "cell_type": "code",
   "execution_count": null,
   "metadata": {},
   "outputs": [],
   "source": []
  },
  {
   "cell_type": "code",
   "execution_count": null,
   "metadata": {},
   "outputs": [],
   "source": []
  },
  {
   "cell_type": "code",
   "execution_count": null,
   "metadata": {},
   "outputs": [],
   "source": []
  },
  {
   "cell_type": "code",
   "execution_count": null,
   "metadata": {},
   "outputs": [],
   "source": []
  },
  {
   "cell_type": "markdown",
   "metadata": {},
   "source": [
    "## Versions"
   ]
  },
  {
   "cell_type": "code",
   "execution_count": 160,
   "metadata": {
    "ExecuteTime": {
     "end_time": "2019-02-16T11:16:56.643766Z",
     "start_time": "2019-02-16T11:16:56.623325Z"
    }
   },
   "outputs": [
    {
     "data": {
      "text/html": [
       "<table><tr><th>Software</th><th>Version</th></tr><tr><td>QuTiP</td><td>4.3.1</td></tr><tr><td>Numpy</td><td>1.15.1</td></tr><tr><td>SciPy</td><td>1.1.0</td></tr><tr><td>matplotlib</td><td>2.2.3</td></tr><tr><td>Cython</td><td>0.28.5</td></tr><tr><td>Number of CPUs</td><td>4</td></tr><tr><td>BLAS Info</td><td>INTEL MKL</td></tr><tr><td>IPython</td><td>6.5.0</td></tr><tr><td>Python</td><td>3.6.8 |Anaconda, Inc.| (default, Dec 30 2018, 01:22:34) \n",
       "[GCC 7.3.0]</td></tr><tr><td>OS</td><td>posix [linux]</td></tr><tr><td colspan='2'>Sat Feb 16 16:46:56 2019 IST</td></tr></table>"
      ],
      "text/plain": [
       "<IPython.core.display.HTML object>"
      ]
     },
     "execution_count": 160,
     "metadata": {},
     "output_type": "execute_result"
    }
   ],
   "source": [
    "from qutip.ipynbtools import version_table\n",
    "\n",
    "version_table()"
   ]
  },
  {
   "cell_type": "code",
   "execution_count": 161,
   "metadata": {
    "ExecuteTime": {
     "end_time": "2019-02-16T11:16:56.748574Z",
     "start_time": "2019-02-16T11:16:56.644777Z"
    }
   },
   "outputs": [
    {
     "data": {
      "text/latex": [
       "Quantum object: dims = [[2, 2], [2, 2]], shape = (4, 4), type = oper, isherm = True\\begin{equation*}\\left(\\begin{array}{*{11}c}1.0 & 0.0 & 0.0 & 0.0\\\\0.0 & 1.0 & 0.0 & 0.0\\\\0.0 & 0.0 & 0.0 & 1.0\\\\0.0 & 0.0 & 1.0 & 0.0\\\\\\end{array}\\right)\\end{equation*}"
      ],
      "text/plain": [
       "Quantum object: dims = [[2, 2], [2, 2]], shape = (4, 4), type = oper, isherm = True\n",
       "Qobj data =\n",
       "[[1. 0. 0. 0.]\n",
       " [0. 1. 0. 0.]\n",
       " [0. 0. 0. 1.]\n",
       " [0. 0. 1. 0.]]"
      ]
     },
     "execution_count": 161,
     "metadata": {},
     "output_type": "execute_result"
    }
   ],
   "source": [
    "cnot()"
   ]
  },
  {
   "cell_type": "code",
   "execution_count": null,
   "metadata": {},
   "outputs": [],
   "source": []
  }
 ],
 "metadata": {
  "kernelspec": {
   "display_name": "Python 3",
   "language": "python",
   "name": "python3"
  },
  "language_info": {
   "codemirror_mode": {
    "name": "ipython",
    "version": 3
   },
   "file_extension": ".py",
   "mimetype": "text/x-python",
   "name": "python",
   "nbconvert_exporter": "python",
   "pygments_lexer": "ipython3",
   "version": "3.6.8"
  },
  "toc": {
   "base_numbering": 1,
   "nav_menu": {},
   "number_sections": true,
   "sideBar": true,
   "skip_h1_title": false,
   "title_cell": "Table of Contents",
   "title_sidebar": "Contents",
   "toc_cell": false,
   "toc_position": {
    "height": "calc(100% - 180px)",
    "left": "10px",
    "top": "150px",
    "width": "288px"
   },
   "toc_section_display": true,
   "toc_window_display": true
  },
  "varInspector": {
   "cols": {
    "lenName": 16,
    "lenType": 16,
    "lenVar": 40
   },
   "kernels_config": {
    "python": {
     "delete_cmd_postfix": "",
     "delete_cmd_prefix": "del ",
     "library": "var_list.py",
     "varRefreshCmd": "print(var_dic_list())"
    },
    "r": {
     "delete_cmd_postfix": ") ",
     "delete_cmd_prefix": "rm(",
     "library": "var_list.r",
     "varRefreshCmd": "cat(var_dic_list()) "
    }
   },
   "types_to_exclude": [
    "module",
    "function",
    "builtin_function_or_method",
    "instance",
    "_Feature"
   ],
   "window_display": false
  }
 },
 "nbformat": 4,
 "nbformat_minor": 2
}
