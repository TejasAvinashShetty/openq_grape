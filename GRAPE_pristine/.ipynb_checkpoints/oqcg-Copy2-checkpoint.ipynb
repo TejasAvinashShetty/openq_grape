{
 "cells": [
  {
   "cell_type": "markdown",
   "metadata": {},
   "source": [
    "# Imports"
   ]
  },
  {
   "cell_type": "markdown",
   "metadata": {},
   "source": [
    "Need to have jate.py in your folder"
   ]
  },
  {
   "cell_type": "code",
   "execution_count": 1,
   "metadata": {
    "ExecuteTime": {
     "end_time": "2019-02-16T15:42:39.513998Z",
     "start_time": "2019-02-16T15:42:37.420704Z"
    }
   },
   "outputs": [],
   "source": [
    "%run jate.py #will import everything"
   ]
  },
  {
   "cell_type": "markdown",
   "metadata": {},
   "source": [
    "# Next chapter"
   ]
  },
  {
   "cell_type": "markdown",
   "metadata": {},
   "source": [
    "## memory clear (uses regex, so be careful)"
   ]
  },
  {
   "cell_type": "code",
   "execution_count": 2,
   "metadata": {
    "ExecuteTime": {
     "end_time": "2019-02-16T15:42:39.521789Z",
     "start_time": "2019-02-16T15:42:39.516186Z"
    }
   },
   "outputs": [],
   "source": [
    "%reset_selective -f var1, var2  # replace var1, var2 with your defined ones"
   ]
  },
  {
   "cell_type": "markdown",
   "metadata": {},
   "source": [
    "## Building parts"
   ]
  },
  {
   "cell_type": "markdown",
   "metadata": {},
   "source": [
    "### Building the things to be calculated only once"
   ]
  },
  {
   "cell_type": "code",
   "execution_count": 3,
   "metadata": {
    "ExecuteTime": {
     "end_time": "2019-02-16T15:42:39.534393Z",
     "start_time": "2019-02-16T15:42:39.524205Z"
    },
    "code_folding": []
   },
   "outputs": [],
   "source": [
    "def maker(omega_1, H_0, H_1, T_s, Lin, d=2, gamma=0.1):\n",
    "    r\"\"\"maker\n",
    "    Makes all the things that remain constant throught the program, but are \n",
    "    repeatedly used.\n",
    "    \n",
    "\n",
    "    Parameters\n",
    "    ----------\n",
    "    omega_1 : float\n",
    "              frequency corresponding to half of the difference between \n",
    "              energy levels of the qubit\n",
    "              \n",
    "    H_0     : Qobj\n",
    "              Bare Hamiltonian \n",
    "              \n",
    "    H_1     : Qobj\n",
    "              Interaction Hamiltonian \n",
    "              \n",
    "    T_s     : Qobj\n",
    "              Unitary to be implemented in the Hilbert space\n",
    "    \n",
    "    Lin     : Qobj\n",
    "              Linbladian operators\n",
    "\n",
    "    d       : int\n",
    "              Dimension of the matrix. Defaults to 2\n",
    "    \n",
    "    gamma   : float\n",
    "              Damping constant of the Linbladian\n",
    "\n",
    "    \n",
    "    Returns\n",
    "    -------\n",
    "    \n",
    "    ih0     : Qobj\n",
    "              $I\\otimes H_{0}$\n",
    "              \n",
    "    ih1     : Qobj\n",
    "              $I\\otimes H_{1}$\n",
    "\n",
    "    h0ci    : Qobj\n",
    "              $H_{0}^{*}\\otimes I $\n",
    "\n",
    "    h1ci    : Qobj\n",
    "              $H_{1}^{*}\\otimes I $\n",
    "\n",
    "    T       : Qobj\n",
    "              Target unitary transformed to the Liouville space\n",
    "\n",
    "    linbladian : Qobj\n",
    "                 The full lindbladian term as it appears on transformation to \n",
    "                 the Liouville space.\n",
    "        \n",
    "    \"\"\"\n",
    "    I = identity(d)\n",
    "    L_I = tensor(I, I)\n",
    "    ih0 = tensor(I, H_0) \n",
    "    ih1 = tensor(I, H_1) \n",
    "    h0ci = tensor(H_0.conj(), I) \n",
    "    h1ci = tensor(H_1.conj(), I)\n",
    "    x_k = ih1 - h1ci\n",
    "    term1 = tensor(Lin.trans(), Lin)\n",
    "    term2 = tensor(I, ((Lin.dag())*(Lin)))\n",
    "    term3 = tensor(((Lin.trans())*(Lin.conj())), I)\n",
    "    lindbladian = 1j*(gamma)*(term1 - 0.5*(term2 + term3))\n",
    "    T = tensor(T_s.trans(), T_s) # Transforming $T_{s}$ to liouville space\n",
    "    \n",
    "    \n",
    "    return ih0, ih1, h0ci, h1ci, x_k, lindbladian, T, L_I"
   ]
  },
  {
   "cell_type": "code",
   "execution_count": 4,
   "metadata": {
    "ExecuteTime": {
     "end_time": "2019-02-16T15:42:39.545001Z",
     "start_time": "2019-02-16T15:42:39.536567Z"
    }
   },
   "outputs": [],
   "source": [
    "omega_1 = 0.5\n",
    "H_0 = omega_1*sigmaz() \n",
    "H_1 = sigmay()\n",
    "T_s = sigmax() \n",
    "Lin = sigmaz()\n",
    "gamma = 0.1 # check for default value\n",
    "ih0, ih1, h0ci, h1ci, x_k, lindbladian, T, L_I  = maker(omega_1,\n",
    "                                                  H_0, H_1, T_s, \n",
    "                                                  Lin, d=2, gamma=gamma)"
   ]
  },
  {
   "cell_type": "code",
   "execution_count": 5,
   "metadata": {
    "ExecuteTime": {
     "end_time": "2019-02-16T15:42:39.554233Z",
     "start_time": "2019-02-16T15:42:39.547236Z"
    }
   },
   "outputs": [
    {
     "data": {
      "text/plain": [
       "0.1"
      ]
     },
     "execution_count": 5,
     "metadata": {},
     "output_type": "execute_result"
    }
   ],
   "source": [
    "gamma"
   ]
  },
  {
   "cell_type": "code",
   "execution_count": 6,
   "metadata": {
    "ExecuteTime": {
     "end_time": "2019-02-16T15:42:39.574963Z",
     "start_time": "2019-02-16T15:42:39.556783Z"
    }
   },
   "outputs": [
    {
     "data": {
      "text/latex": [
       "Quantum object: dims = [[2, 2], [2, 2]], shape = (4, 4), type = oper, isherm = True\\begin{equation*}\\left(\\begin{array}{*{11}c}1.0 & 0.0 & 0.0 & 0.0\\\\0.0 & 1.0 & 0.0 & 0.0\\\\0.0 & 0.0 & 1.0 & 0.0\\\\0.0 & 0.0 & 0.0 & 1.0\\\\\\end{array}\\right)\\end{equation*}"
      ],
      "text/plain": [
       "Quantum object: dims = [[2, 2], [2, 2]], shape = (4, 4), type = oper, isherm = True\n",
       "Qobj data =\n",
       "[[1. 0. 0. 0.]\n",
       " [0. 1. 0. 0.]\n",
       " [0. 0. 1. 0.]\n",
       " [0. 0. 0. 1.]]"
      ]
     },
     "execution_count": 6,
     "metadata": {},
     "output_type": "execute_result"
    }
   ],
   "source": [
    "L_I"
   ]
  },
  {
   "cell_type": "markdown",
   "metadata": {},
   "source": [
    "### Building $A(t)$"
   ]
  },
  {
   "cell_type": "code",
   "execution_count": 7,
   "metadata": {
    "ExecuteTime": {
     "end_time": "2019-02-16T15:42:39.600707Z",
     "start_time": "2019-02-16T15:42:39.596155Z"
    }
   },
   "outputs": [],
   "source": [
    "def A(xi):\n",
    "    r\"\"\"making $A(t)$\"\"\"\n",
    "    A = ih0 - h0ci + xi*(ih1 - h1ci) + lindbladian\n",
    "    return A"
   ]
  },
  {
   "cell_type": "code",
   "execution_count": 8,
   "metadata": {
    "ExecuteTime": {
     "end_time": "2019-02-16T15:42:39.609821Z",
     "start_time": "2019-02-16T15:42:39.602511Z"
    }
   },
   "outputs": [
    {
     "data": {
      "text/latex": [
       "Quantum object: dims = [[2, 2], [2, 2]], shape = (4, 4), type = oper, isherm = False\\begin{equation*}\\left(\\begin{array}{*{11}c}0.0 & -0.500j & -0.500j & 0.0\\\\0.500j & (-1.0-0.200j) & 0.0 & -0.500j\\\\0.500j & 0.0 & (1.0-0.200j) & -0.500j\\\\0.0 & 0.500j & 0.500j & 0.0\\\\\\end{array}\\right)\\end{equation*}"
      ],
      "text/plain": [
       "Quantum object: dims = [[2, 2], [2, 2]], shape = (4, 4), type = oper, isherm = False\n",
       "Qobj data =\n",
       "[[ 0.+0.j   0.-0.5j  0.-0.5j  0.+0.j ]\n",
       " [ 0.+0.5j -1.-0.2j  0.+0.j   0.-0.5j]\n",
       " [ 0.+0.5j  0.+0.j   1.-0.2j  0.-0.5j]\n",
       " [ 0.+0.j   0.+0.5j  0.+0.5j  0.+0.j ]]"
      ]
     },
     "execution_count": 8,
     "metadata": {},
     "output_type": "execute_result"
    }
   ],
   "source": [
    "A(0.5)"
   ]
  },
  {
   "cell_type": "markdown",
   "metadata": {},
   "source": [
    "### Building $L(t)$ and the Identity in the Liouville space"
   ]
  },
  {
   "cell_type": "code",
   "execution_count": 9,
   "metadata": {
    "ExecuteTime": {
     "end_time": "2019-02-16T15:42:39.615197Z",
     "start_time": "2019-02-16T15:42:39.611678Z"
    }
   },
   "outputs": [],
   "source": [
    "def L(xi, dt):\n",
    "    r\"\"\"Making $L(t) from $A(t)$\"\"\"\n",
    "    L = (-1j*A(xi)*dt).expm()\n",
    "    return L"
   ]
  },
  {
   "cell_type": "code",
   "execution_count": 10,
   "metadata": {
    "ExecuteTime": {
     "end_time": "2019-02-16T15:42:39.866812Z",
     "start_time": "2019-02-16T15:42:39.617880Z"
    }
   },
   "outputs": [
    {
     "data": {
      "text/latex": [
       "Quantum object: dims = [[2, 2], [2, 2]], shape = (4, 4), type = oper, isherm = False\\begin{equation*}\\left(\\begin{array}{*{11}c}1.000 & (-4.999\\times10^{-04}-2.500\\times10^{-07}j) & (-4.999\\times10^{-04}+2.500\\times10^{-07}j) & 2.500\\times10^{-07}\\\\(4.999\\times10^{-04}+2.500\\times10^{-07}j) & (1.000+9.998\\times10^{-04}j) & -2.500\\times10^{-07} & (-4.999\\times10^{-04}-2.500\\times10^{-07}j)\\\\(4.999\\times10^{-04}-2.500\\times10^{-07}j) & -2.500\\times10^{-07} & (1.000-9.998\\times10^{-04}j) & (-4.999\\times10^{-04}+2.500\\times10^{-07}j)\\\\2.500\\times10^{-07} & (4.999\\times10^{-04}+2.500\\times10^{-07}j) & (4.999\\times10^{-04}-2.500\\times10^{-07}j) & 1.000\\\\\\end{array}\\right)\\end{equation*}"
      ],
      "text/plain": [
       "Quantum object: dims = [[2, 2], [2, 2]], shape = (4, 4), type = oper, isherm = False\n",
       "Qobj data =\n",
       "[[ 9.99999750e-01+0.00000000e+00j -4.99949837e-04-2.49966628e-07j\n",
       "  -4.99949837e-04+2.49966628e-07j  2.49983293e-07+0.00000000e+00j]\n",
       " [ 4.99949837e-04+2.49966628e-07j  9.99799270e-01+9.99799687e-04j\n",
       "  -2.49966628e-07+0.00000000e+00j -4.99949837e-04-2.49966628e-07j]\n",
       " [ 4.99949837e-04-2.49966628e-07j -2.49966628e-07+0.00000000e+00j\n",
       "   9.99799270e-01-9.99799687e-04j -4.99949837e-04+2.49966628e-07j]\n",
       " [ 2.49983293e-07+0.00000000e+00j  4.99949837e-04+2.49966628e-07j\n",
       "   4.99949837e-04-2.49966628e-07j  9.99999750e-01+0.00000000e+00j]]"
      ]
     },
     "execution_count": 10,
     "metadata": {},
     "output_type": "execute_result"
    }
   ],
   "source": [
    "L(0.5, 0.001)"
   ]
  },
  {
   "cell_type": "markdown",
   "metadata": {},
   "source": [
    "## Major functions"
   ]
  },
  {
   "cell_type": "markdown",
   "metadata": {},
   "source": [
    "### Major functions 1"
   ]
  },
  {
   "cell_type": "code",
   "execution_count": 11,
   "metadata": {
    "ExecuteTime": {
     "end_time": "2019-02-16T15:42:39.872400Z",
     "start_time": "2019-02-16T15:42:39.869096Z"
    }
   },
   "outputs": [],
   "source": [
    "# building the function to optimize (optimizee)\n",
    "def L_vec(xi_vec, dt):\n",
    "    r\"\"\"Building the vector of differential $L(t)$\"\"\"\n",
    "    L_vec = [L(xi, dt) for xi in xi_vec] \n",
    "    return L_vec"
   ]
  },
  {
   "cell_type": "code",
   "execution_count": 12,
   "metadata": {
    "ExecuteTime": {
     "end_time": "2019-02-16T15:42:39.884762Z",
     "start_time": "2019-02-16T15:42:39.875022Z"
    }
   },
   "outputs": [],
   "source": [
    "def fidelity_calc(A, B):\n",
    "    r\"\"\"Making a generalised fidelity function\"\"\"\n",
    "    first_part = (A - B).dag()\n",
    "    second_part = (A - B)\n",
    "    f_int = (first_part* second_part)\n",
    "    f = f_int.tr()\n",
    "    return f"
   ]
  },
  {
   "cell_type": "code",
   "execution_count": 13,
   "metadata": {
    "ExecuteTime": {
     "end_time": "2019-02-16T15:42:39.895485Z",
     "start_time": "2019-02-16T15:42:39.888584Z"
    }
   },
   "outputs": [],
   "source": [
    "def L_full_maker(xi_vec, dt):\n",
    "    r\"\"\"Building the $L(t)$ for the total time $t$\"\"\"\n",
    "    xi_vec_size = xi_vec.size # finding the size of xi\n",
    "    L_full = L_I # Identity for the for loop of L\n",
    "    L_v = L_vec(xi_vec, dt) # calling L_vec\n",
    "    for i in range(xi_vec_size): # generating L_full\n",
    "        L_full = L_full*L_v[xi_vec_size - 1 - i]\n",
    "    return L_full"
   ]
  },
  {
   "cell_type": "code",
   "execution_count": 14,
   "metadata": {
    "ExecuteTime": {
     "end_time": "2019-02-16T15:42:39.901875Z",
     "start_time": "2019-02-16T15:42:39.897927Z"
    }
   },
   "outputs": [],
   "source": [
    "def F(xi_vec, dt):\n",
    "    r\"\"\"Using the fidelity metric to find out the closeness between $T$\n",
    "    and $L(t)$\"\"\"\n",
    "    L_full = L_full_maker(xi_vec, dt)\n",
    "    F = real(-fidelity_calc(T, L_full))   \n",
    "    return F"
   ]
  },
  {
   "cell_type": "markdown",
   "metadata": {},
   "source": [
    "### Testing major functions 1"
   ]
  },
  {
   "cell_type": "code",
   "execution_count": 15,
   "metadata": {
    "ExecuteTime": {
     "end_time": "2019-02-16T15:42:39.912680Z",
     "start_time": "2019-02-16T15:42:39.904863Z"
    }
   },
   "outputs": [
    {
     "data": {
      "text/plain": [
       "4.0"
      ]
     },
     "execution_count": 15,
     "metadata": {},
     "output_type": "execute_result"
    }
   ],
   "source": [
    "fidelity_calc(sigmax(), sigmay())"
   ]
  },
  {
   "cell_type": "code",
   "execution_count": 16,
   "metadata": {
    "ExecuteTime": {
     "end_time": "2019-02-16T15:42:39.922006Z",
     "start_time": "2019-02-16T15:42:39.914957Z"
    }
   },
   "outputs": [
    {
     "data": {
      "text/plain": [
       "0.0"
      ]
     },
     "execution_count": 16,
     "metadata": {},
     "output_type": "execute_result"
    }
   ],
   "source": [
    "fidelity_calc(sigmay(), sigmay())"
   ]
  },
  {
   "cell_type": "code",
   "execution_count": 17,
   "metadata": {
    "ExecuteTime": {
     "end_time": "2019-02-16T15:42:39.928412Z",
     "start_time": "2019-02-16T15:42:39.923985Z"
    }
   },
   "outputs": [
    {
     "data": {
      "text/plain": [
       "array([1., 2.])"
      ]
     },
     "execution_count": 17,
     "metadata": {},
     "output_type": "execute_result"
    }
   ],
   "source": [
    "xi_vec_test = array([1.0, 2.0])\n",
    "xi_vec_test"
   ]
  },
  {
   "cell_type": "code",
   "execution_count": 18,
   "metadata": {
    "ExecuteTime": {
     "end_time": "2019-02-16T15:42:39.934820Z",
     "start_time": "2019-02-16T15:42:39.930520Z"
    }
   },
   "outputs": [
    {
     "data": {
      "text/plain": [
       "2"
      ]
     },
     "execution_count": 18,
     "metadata": {},
     "output_type": "execute_result"
    }
   ],
   "source": [
    "xi_vec_test.size"
   ]
  },
  {
   "cell_type": "code",
   "execution_count": 19,
   "metadata": {
    "ExecuteTime": {
     "end_time": "2019-02-16T15:42:39.942647Z",
     "start_time": "2019-02-16T15:42:39.937764Z"
    }
   },
   "outputs": [
    {
     "data": {
      "text/plain": [
       "[1.0, 4.0]"
      ]
     },
     "execution_count": 19,
     "metadata": {},
     "output_type": "execute_result"
    }
   ],
   "source": [
    "w_vec = [xi**2 for xi in xi_vec_test]\n",
    "w_vec"
   ]
  },
  {
   "cell_type": "code",
   "execution_count": 20,
   "metadata": {
    "ExecuteTime": {
     "end_time": "2019-02-16T15:42:39.956663Z",
     "start_time": "2019-02-16T15:42:39.944744Z"
    }
   },
   "outputs": [
    {
     "data": {
      "text/plain": [
       "-7.998400634493139"
      ]
     },
     "execution_count": 20,
     "metadata": {},
     "output_type": "execute_result"
    }
   ],
   "source": [
    "# F(xi_vec, dt)\n",
    "F(xi_vec_test, 0.001)"
   ]
  },
  {
   "cell_type": "code",
   "execution_count": 21,
   "metadata": {
    "ExecuteTime": {
     "end_time": "2019-02-16T15:42:39.966365Z",
     "start_time": "2019-02-16T15:42:39.958841Z"
    }
   },
   "outputs": [],
   "source": [
    "L_v = L_vec(xi_vec_test, 0.001)"
   ]
  },
  {
   "cell_type": "code",
   "execution_count": 22,
   "metadata": {
    "ExecuteTime": {
     "end_time": "2019-02-16T15:42:39.975010Z",
     "start_time": "2019-02-16T15:42:39.968484Z"
    }
   },
   "outputs": [
    {
     "data": {
      "text/plain": [
       "[Quantum object: dims = [[2, 2], [2, 2]], shape = (4, 4), type = oper, isherm = False\n",
       " Qobj data =\n",
       " [[ 9.99999000e-01+0.00000000e+00j -9.99899173e-04-4.99933130e-07j\n",
       "   -9.99899173e-04+4.99933130e-07j  9.99932920e-07+0.00000000e+00j]\n",
       "  [ 9.99899173e-04+4.99933130e-07j  9.99798520e-01+9.99799187e-04j\n",
       "   -9.99866260e-07+0.00000000e+00j -9.99899173e-04-4.99933130e-07j]\n",
       "  [ 9.99899173e-04-4.99933130e-07j -9.99866260e-07+0.00000000e+00j\n",
       "    9.99798520e-01-9.99799187e-04j -9.99899173e-04+4.99933130e-07j]\n",
       "  [ 9.99932920e-07+0.00000000e+00j  9.99899173e-04+4.99933130e-07j\n",
       "    9.99899173e-04-4.99933130e-07j  9.99999000e-01+0.00000000e+00j]],\n",
       " Quantum object: dims = [[2, 2], [2, 2]], shape = (4, 4), type = oper, isherm = False\n",
       " Qobj data =\n",
       " [[ 9.99996000e-01+0.00000000e+00j -1.99979435e-03-9.99865260e-07j\n",
       "   -1.99979435e-03+9.99865260e-07j  3.99972768e-06+0.00000000e+00j]\n",
       "  [ 1.99979435e-03+9.99865260e-07j  9.99795521e-01+9.99797187e-04j\n",
       "   -3.99946104e-06+0.00000000e+00j -1.99979435e-03-9.99865260e-07j]\n",
       "  [ 1.99979435e-03-9.99865260e-07j -3.99946104e-06+0.00000000e+00j\n",
       "    9.99795521e-01-9.99797187e-04j -1.99979435e-03+9.99865260e-07j]\n",
       "  [ 3.99972768e-06+0.00000000e+00j  1.99979435e-03+9.99865260e-07j\n",
       "    1.99979435e-03-9.99865260e-07j  9.99996000e-01+0.00000000e+00j]]]"
      ]
     },
     "execution_count": 22,
     "metadata": {},
     "output_type": "execute_result"
    }
   ],
   "source": [
    "L_v"
   ]
  },
  {
   "cell_type": "markdown",
   "metadata": {},
   "source": [
    "### Major Functions 2"
   ]
  },
  {
   "cell_type": "code",
   "execution_count": 23,
   "metadata": {
    "ExecuteTime": {
     "end_time": "2019-02-16T15:42:39.981636Z",
     "start_time": "2019-02-16T15:42:39.976996Z"
    }
   },
   "outputs": [],
   "source": [
    "def L_comma_k_maker(xi_vec, k, dt):\n",
    "    r\"\"\"Making of the derivative of full $L(t)$ at time $t_{k}$\"\"\"\n",
    "    N = xi_vec.size \n",
    "    # Determining the size of xi, and thus the time_steps indirectly.\n",
    "    L_v = L_vec(xi_vec, dt)# Making of the full $L(t)$\n",
    "    inner_part = L_I # Beginner for the for loop\n",
    "    for i in range(N):\n",
    "        if i == ( N - 1 - k ):\n",
    "            # The step at which $X_{k}(t)$ has to be inserted \n",
    "            inner_part = inner_part*x_k*L_v[k - 1]\n",
    "        else:\n",
    "            # Usual multiplications of $L_{k}$\n",
    "            inner_part = inner_part*L_v[N - 1 - i]\n",
    "    l_comma_k = inner_part\n",
    "    return l_comma_k\n",
    "    "
   ]
  },
  {
   "cell_type": "code",
   "execution_count": 24,
   "metadata": {
    "ExecuteTime": {
     "end_time": "2019-02-16T15:42:39.996518Z",
     "start_time": "2019-02-16T15:42:39.984093Z"
    }
   },
   "outputs": [
    {
     "data": {
      "text/latex": [
       "Quantum object: dims = [[2, 2], [2, 2]], shape = (4, 4), type = oper, isherm = False\\begin{equation*}\\left(\\begin{array}{*{11}c}1.000 & (-0.003-3.499\\times10^{-06}j) & (-0.003+3.499\\times10^{-06}j) & 8.999\\times10^{-06}\\\\(0.003+2.499\\times10^{-06}j) & (1.000+0.002j) & (-8.998\\times10^{-06}+2.999\\times10^{-09}j) & (-0.003-2.499\\times10^{-06}j)\\\\(0.003-2.499\\times10^{-06}j) & (-8.998\\times10^{-06}-2.999\\times10^{-09}j) & (1.000-0.002j) & (-0.003+2.499\\times10^{-06}j)\\\\8.999\\times10^{-06} & (0.003+3.499\\times10^{-06}j) & (0.003-3.499\\times10^{-06}j) & 1.000\\\\\\end{array}\\right)\\end{equation*}"
      ],
      "text/plain": [
       "Quantum object: dims = [[2, 2], [2, 2]], shape = (4, 4), type = oper, isherm = False\n",
       "Qobj data =\n",
       "[[ 9.99991001e-01+0.00000000e+00j -2.99927960e-03-3.49898670e-06j\n",
       "  -2.99927960e-03+3.49898670e-06j  8.99883703e-06+0.00000000e+00j]\n",
       " [ 2.99948056e-03+2.49939255e-06j  9.99589083e-01+1.99918650e-03j\n",
       "  -8.99750347e-06+2.99899242e-09j -2.99948056e-03-2.49939255e-06j]\n",
       " [ 2.99948056e-03-2.49939255e-06j -8.99750347e-06-2.99899242e-09j\n",
       "   9.99589083e-01-1.99918650e-03j -2.99948056e-03+2.49939255e-06j]\n",
       " [ 8.99883703e-06+0.00000000e+00j  2.99927960e-03+3.49898670e-06j\n",
       "   2.99927960e-03-3.49898670e-06j  9.99991001e-01+0.00000000e+00j]]"
      ]
     },
     "execution_count": 24,
     "metadata": {},
     "output_type": "execute_result"
    }
   ],
   "source": [
    "# L_comma_k_maker(xi_vec, k, dt)\n",
    "L_comma_k_maker(xi_vec_test, 2, 0.001)"
   ]
  },
  {
   "cell_type": "code",
   "execution_count": 25,
   "metadata": {
    "ExecuteTime": {
     "end_time": "2019-02-16T15:42:40.003564Z",
     "start_time": "2019-02-16T15:42:39.998808Z"
    }
   },
   "outputs": [],
   "source": [
    "def updater(xi_vec, dt, epsilon):\n",
    "    r\"\"\"Implementing the GRAPE update step\"\"\"\n",
    "    xi_vec_size = xi_vec.size # finding the size of xi\n",
    "    L_full = L_full_maker(xi_vec, dt)\n",
    "    di = []\n",
    "    for k in range(xi_vec_size):\n",
    "        # Building the thing to be added to the old function\n",
    "        L_comma_k = L_comma_k_maker(xi_vec, k, dt)\n",
    "        differentiated = T - L_comma_k\n",
    "        plain = T - L_full\n",
    "        c = -differentiated.dag()*plain\n",
    "        d = -plain.dag()*differentiated\n",
    "        inside = c.tr() + d.tr()\n",
    "        di.append(epsilon*inside)\n",
    "\n",
    "    diff = array(di)\n",
    "    xi_new_vec = xi_vec + diff\n",
    "    return diff, xi_new_vec\n",
    "    "
   ]
  },
  {
   "cell_type": "code",
   "execution_count": 26,
   "metadata": {
    "ExecuteTime": {
     "end_time": "2019-02-16T15:42:40.027768Z",
     "start_time": "2019-02-16T15:42:40.005777Z"
    }
   },
   "outputs": [
    {
     "data": {
      "text/plain": [
       "(array([-0.008+0.j, -0.008+0.j]), array([0.992+0.j, 1.992+0.j]))"
      ]
     },
     "execution_count": 26,
     "metadata": {},
     "output_type": "execute_result"
    }
   ],
   "source": [
    "#  updater(xi_vec, dt, epsilon)\n",
    "updater(xi_vec_test, 0.001, 0.001)"
   ]
  },
  {
   "cell_type": "markdown",
   "metadata": {},
   "source": [
    "## Qutip grape for closed system"
   ]
  },
  {
   "cell_type": "code",
   "execution_count": 27,
   "metadata": {
    "ExecuteTime": {
     "end_time": "2019-02-16T15:42:40.033455Z",
     "start_time": "2019-02-16T15:42:40.030127Z"
    }
   },
   "outputs": [],
   "source": [
    "import time"
   ]
  },
  {
   "cell_type": "code",
   "execution_count": 28,
   "metadata": {
    "ExecuteTime": {
     "end_time": "2019-02-16T15:42:40.038308Z",
     "start_time": "2019-02-16T15:42:40.035391Z"
    }
   },
   "outputs": [],
   "source": [
    "total_time_evo = 2*pi # total time allowed for evolution"
   ]
  },
  {
   "cell_type": "code",
   "execution_count": 29,
   "metadata": {
    "ExecuteTime": {
     "end_time": "2019-02-16T15:42:40.043725Z",
     "start_time": "2019-02-16T15:42:40.040434Z"
    }
   },
   "outputs": [],
   "source": [
    "times = linspace(0, total_time_evo, 500) "
   ]
  },
  {
   "cell_type": "code",
   "execution_count": 30,
   "metadata": {
    "ExecuteTime": {
     "end_time": "2019-02-16T15:42:40.048452Z",
     "start_time": "2019-02-16T15:42:40.045808Z"
    }
   },
   "outputs": [],
   "source": [
    "# vector of times at which discretization \n",
    "# is carried out"
   ]
  },
  {
   "cell_type": "code",
   "execution_count": 31,
   "metadata": {
    "ExecuteTime": {
     "end_time": "2019-02-16T15:42:40.055454Z",
     "start_time": "2019-02-16T15:42:40.050310Z"
    }
   },
   "outputs": [
    {
     "data": {
      "text/latex": [
       "Quantum object: dims = [[2], [2]], shape = (2, 2), type = oper, isherm = True\\begin{equation*}\\left(\\begin{array}{*{11}c}0.0 & 1.0\\\\1.0 & 0.0\\\\\\end{array}\\right)\\end{equation*}"
      ],
      "text/plain": [
       "Quantum object: dims = [[2], [2]], shape = (2, 2), type = oper, isherm = True\n",
       "Qobj data =\n",
       "[[0. 1.]\n",
       " [1. 0.]]"
      ]
     },
     "execution_count": 31,
     "metadata": {},
     "output_type": "execute_result"
    }
   ],
   "source": [
    "U = T_s\n",
    "U"
   ]
  },
  {
   "cell_type": "code",
   "execution_count": 32,
   "metadata": {
    "ExecuteTime": {
     "end_time": "2019-02-16T15:42:40.060127Z",
     "start_time": "2019-02-16T15:42:40.057686Z"
    }
   },
   "outputs": [],
   "source": [
    "R = 500"
   ]
  },
  {
   "cell_type": "code",
   "execution_count": 33,
   "metadata": {
    "ExecuteTime": {
     "end_time": "2019-02-16T15:42:40.067353Z",
     "start_time": "2019-02-16T15:42:40.062217Z"
    }
   },
   "outputs": [
    {
     "data": {
      "text/plain": [
       "[Quantum object: dims = [[2], [2]], shape = (2, 2), type = oper, isherm = True\n",
       " Qobj data =\n",
       " [[0.+0.j 0.-1.j]\n",
       "  [0.+1.j 0.+0.j]]]"
      ]
     },
     "execution_count": 33,
     "metadata": {},
     "output_type": "execute_result"
    }
   ],
   "source": [
    "H_ops = [H_1]\n",
    "H_ops"
   ]
  },
  {
   "cell_type": "code",
   "execution_count": 34,
   "metadata": {
    "ExecuteTime": {
     "end_time": "2019-02-16T15:42:40.073369Z",
     "start_time": "2019-02-16T15:42:40.069310Z"
    }
   },
   "outputs": [
    {
     "data": {
      "text/plain": [
       "['$g_{no diss}$']"
      ]
     },
     "execution_count": 34,
     "metadata": {},
     "output_type": "execute_result"
    }
   ],
   "source": [
    "H_labels = [r'$g_{no diss}$']\n",
    "H_labels"
   ]
  },
  {
   "cell_type": "code",
   "execution_count": 35,
   "metadata": {
    "ExecuteTime": {
     "end_time": "2019-02-16T15:42:40.081060Z",
     "start_time": "2019-02-16T15:42:40.075683Z"
    }
   },
   "outputs": [
    {
     "data": {
      "text/latex": [
       "Quantum object: dims = [[2], [2]], shape = (2, 2), type = oper, isherm = True\\begin{equation*}\\left(\\begin{array}{*{11}c}0.500 & 0.0\\\\0.0 & -0.500\\\\\\end{array}\\right)\\end{equation*}"
      ],
      "text/plain": [
       "Quantum object: dims = [[2], [2]], shape = (2, 2), type = oper, isherm = True\n",
       "Qobj data =\n",
       "[[ 0.5  0. ]\n",
       " [ 0.  -0.5]]"
      ]
     },
     "execution_count": 35,
     "metadata": {},
     "output_type": "execute_result"
    }
   ],
   "source": [
    "H0 = H_0\n",
    "H0"
   ]
  },
  {
   "cell_type": "code",
   "execution_count": 36,
   "metadata": {
    "ExecuteTime": {
     "end_time": "2019-02-16T15:42:40.086172Z",
     "start_time": "2019-02-16T15:42:40.083263Z"
    }
   },
   "outputs": [],
   "source": [
    "c_ops = []"
   ]
  },
  {
   "cell_type": "code",
   "execution_count": 37,
   "metadata": {
    "ExecuteTime": {
     "end_time": "2019-02-16T15:42:40.091670Z",
     "start_time": "2019-02-16T15:42:40.088030Z"
    }
   },
   "outputs": [],
   "source": [
    "from qutip.control.grape import plot_grape_control_fields, _overlap \n",
    "from qutip.control.grape import grape_unitary_adaptive, cy_grape_unitary"
   ]
  },
  {
   "cell_type": "code",
   "execution_count": 38,
   "metadata": {
    "ExecuteTime": {
     "end_time": "2019-02-16T15:42:40.097284Z",
     "start_time": "2019-02-16T15:42:40.093607Z"
    }
   },
   "outputs": [],
   "source": [
    "from scipy.interpolate import interp1d\n",
    "from qutip.ui.progressbar import TextProgressBar, EnhancedTextProgressBar"
   ]
  },
  {
   "cell_type": "code",
   "execution_count": 39,
   "metadata": {
    "ExecuteTime": {
     "end_time": "2019-02-16T15:42:40.103746Z",
     "start_time": "2019-02-16T15:42:40.099297Z"
    }
   },
   "outputs": [],
   "source": [
    "u0 = array([rand(len(times)) * 2 * pi * 0.05 for _ in range(len(H_ops))])"
   ]
  },
  {
   "cell_type": "code",
   "execution_count": 40,
   "metadata": {
    "ExecuteTime": {
     "end_time": "2019-02-16T15:42:40.109332Z",
     "start_time": "2019-02-16T15:42:40.105689Z"
    }
   },
   "outputs": [],
   "source": [
    "from numpy import convolve\n",
    "u0 = [convolve(ones(10)/10, u0[idx,:], mode='same') for idx in range(len(H_ops))]"
   ]
  },
  {
   "cell_type": "code",
   "execution_count": 41,
   "metadata": {
    "ExecuteTime": {
     "end_time": "2019-02-16T15:42:40.115405Z",
     "start_time": "2019-02-16T15:42:40.111580Z"
    }
   },
   "outputs": [],
   "source": [
    "u_limits = None #[0, 1 * 2 * pi]\n",
    "alpha = None"
   ]
  },
  {
   "cell_type": "code",
   "execution_count": 42,
   "metadata": {
    "ExecuteTime": {
     "end_time": "2019-02-16T15:49:53.519119Z",
     "start_time": "2019-02-16T15:42:40.117120Z"
    }
   },
   "outputs": [
    {
     "name": "stdout",
     "output_type": "stream",
     "text": [
      "10.0%. Run time:  42.33s. Est. time left: 00:00:06:20\n",
      "20.0%. Run time:  87.98s. Est. time left: 00:00:05:51\n",
      "30.0%. Run time: 130.53s. Est. time left: 00:00:05:04\n",
      "40.0%. Run time: 173.10s. Est. time left: 00:00:04:19\n",
      "50.0%. Run time: 216.28s. Est. time left: 00:00:03:36\n",
      "60.0%. Run time: 258.70s. Est. time left: 00:00:02:52\n",
      "70.0%. Run time: 301.17s. Est. time left: 00:00:02:09\n",
      "80.0%. Run time: 344.50s. Est. time left: 00:00:01:26\n",
      "90.0%. Run time: 389.85s. Est. time left: 00:00:00:43\n",
      "Total run time: 433.39s\n"
     ]
    }
   ],
   "source": [
    "result = cy_grape_unitary(U, H0, H_ops, R, times, u_start=u0, u_limits=u_limits,\n",
    "                          eps=2*np.pi*1, alpha=alpha, phase_sensitive=False,\n",
    "                          progress_bar=TextProgressBar())"
   ]
  },
  {
   "cell_type": "markdown",
   "metadata": {},
   "source": [
    "#### Plot of optimized control field without dissipation"
   ]
  },
  {
   "cell_type": "code",
   "execution_count": 43,
   "metadata": {
    "ExecuteTime": {
     "end_time": "2019-02-16T15:49:55.218443Z",
     "start_time": "2019-02-16T15:49:53.522322Z"
    }
   },
   "outputs": [
    {
     "data": {
      "image/png": "[encoded data removed]",
      "text/plain": [
       "<Figure size 576x144 with 1 Axes>"
      ]
     },
     "metadata": {},
     "output_type": "display_data"
    }
   ],
   "source": [
    "plot_grape_control_fields(times,\n",
    "                          result.u / (2 * np.pi), H_labels, uniform_axes=True);"
   ]
  },
  {
   "cell_type": "code",
   "execution_count": 44,
   "metadata": {
    "ExecuteTime": {
     "end_time": "2019-02-16T15:49:55.227779Z",
     "start_time": "2019-02-16T15:49:55.221949Z"
    }
   },
   "outputs": [
    {
     "data": {
      "text/latex": [
       "Quantum object: dims = [[2], [2]], shape = (2, 2), type = oper, isherm = True\\begin{equation*}\\left(\\begin{array}{*{11}c}0.0 & 1.0\\\\1.0 & 0.0\\\\\\end{array}\\right)\\end{equation*}"
      ],
      "text/plain": [
       "Quantum object: dims = [[2], [2]], shape = (2, 2), type = oper, isherm = True\n",
       "Qobj data =\n",
       "[[0. 1.]\n",
       " [1. 0.]]"
      ]
     },
     "execution_count": 44,
     "metadata": {},
     "output_type": "execute_result"
    }
   ],
   "source": [
    "U"
   ]
  },
  {
   "cell_type": "code",
   "execution_count": 45,
   "metadata": {
    "ExecuteTime": {
     "end_time": "2019-02-16T15:49:55.237718Z",
     "start_time": "2019-02-16T15:49:55.230770Z"
    }
   },
   "outputs": [
    {
     "data": {
      "text/latex": [
       "Quantum object: dims = [[2], [2]], shape = (2, 2), type = oper, isherm = False\\begin{equation*}\\left(\\begin{array}{*{11}c}4.513\\times10^{-16} & 1.0j\\\\1.0j & 2.599\\times10^{-16}\\\\\\end{array}\\right)\\end{equation*}"
      ],
      "text/plain": [
       "Quantum object: dims = [[2], [2]], shape = (2, 2), type = oper, isherm = False\n",
       "Qobj data =\n",
       "[[ 4.51305931e-16-6.99960923e-16j  5.45968007e-16+1.00000000e+00j]\n",
       " [-1.31430300e-15+1.00000000e+00j  2.59937471e-16-3.00974523e-16j]]"
      ]
     },
     "execution_count": 45,
     "metadata": {},
     "output_type": "execute_result"
    }
   ],
   "source": [
    "result.U_f"
   ]
  },
  {
   "cell_type": "markdown",
   "metadata": {},
   "source": [
    "## Analysis of result of qutip grape for closed system"
   ]
  },
  {
   "cell_type": "code",
   "execution_count": 46,
   "metadata": {
    "ExecuteTime": {
     "end_time": "2019-02-16T15:49:55.246267Z",
     "start_time": "2019-02-16T15:49:55.240037Z"
    }
   },
   "outputs": [
    {
     "data": {
      "text/latex": [
       "Quantum object: dims = [[2], [2]], shape = (2, 2), type = oper, isherm = False\\begin{equation*}\\left(\\begin{array}{*{11}c}1.0 & (-1.009\\times10^{+15}+6.507\\times10^{+14}j)\\\\(-1.009\\times10^{+15}+6.507\\times10^{+14}j) & (0.473+0.066j)\\\\\\end{array}\\right)\\end{equation*}"
      ],
      "text/plain": [
       "Quantum object: dims = [[2], [2]], shape = (2, 2), type = oper, isherm = False\n",
       "Qobj data =\n",
       "[[ 1.00000000e+00+0.00000000e+00j -1.00913838e+15+6.50650804e+14j]\n",
       " [-1.00913838e+15+6.50650804e+14j  4.72853468e-01+6.64835636e-02j]]"
      ]
     },
     "execution_count": 46,
     "metadata": {},
     "output_type": "execute_result"
    }
   ],
   "source": [
    "result.U_f/result.U_f[0,0]"
   ]
  },
  {
   "cell_type": "code",
   "execution_count": 47,
   "metadata": {
    "ExecuteTime": {
     "end_time": "2019-02-16T15:49:55.416427Z",
     "start_time": "2019-02-16T15:49:55.248311Z"
    }
   },
   "outputs": [
    {
     "data": {
      "text/plain": [
       "(<Figure size 432x288 with 2 Axes>,\n",
       " <mpl_toolkits.mplot3d.axes3d.Axes3D at 0x1a1a615860>)"
      ]
     },
     "execution_count": 47,
     "metadata": {},
     "output_type": "execute_result"
    },
    {
     "data": {
      "image/png": "[encoded data removed]",
      "text/plain": [
       "<Figure size 432x288 with 2 Axes>"
      ]
     },
     "metadata": {},
     "output_type": "display_data"
    }
   ],
   "source": [
    "matrix_histogram(U)"
   ]
  },
  {
   "cell_type": "code",
   "execution_count": 48,
   "metadata": {
    "ExecuteTime": {
     "end_time": "2019-02-16T15:49:55.582622Z",
     "start_time": "2019-02-16T15:49:55.418897Z"
    }
   },
   "outputs": [
    {
     "data": {
      "text/plain": [
       "(<Figure size 432x288 with 2 Axes>,\n",
       " <mpl_toolkits.mplot3d.axes3d.Axes3D at 0x1a1a6f2048>)"
      ]
     },
     "execution_count": 48,
     "metadata": {},
     "output_type": "execute_result"
    },
    {
     "data": {
      "image/png": "[encoded data removed]",
      "text/plain": [
       "<Figure size 432x288 with 2 Axes>"
      ]
     },
     "metadata": {},
     "output_type": "display_data"
    }
   ],
   "source": [
    "matrix_histogram(result.U_f)"
   ]
  },
  {
   "cell_type": "code",
   "execution_count": 49,
   "metadata": {
    "ExecuteTime": {
     "end_time": "2019-02-16T15:49:55.777716Z",
     "start_time": "2019-02-16T15:49:55.585424Z"
    }
   },
   "outputs": [
    {
     "data": {
      "text/plain": [
       "(<Figure size 432x288 with 2 Axes>,\n",
       " <mpl_toolkits.mplot3d.axes3d.Axes3D at 0x1a1a6875f8>)"
      ]
     },
     "execution_count": 49,
     "metadata": {},
     "output_type": "execute_result"
    },
    {
     "data": {
      "image/png": "[encoded data removed]",
      "text/plain": [
       "<Figure size 432x288 with 2 Axes>"
      ]
     },
     "metadata": {},
     "output_type": "display_data"
    }
   ],
   "source": [
    "matrix_histogram_complex(U)"
   ]
  },
  {
   "cell_type": "code",
   "execution_count": 50,
   "metadata": {
    "ExecuteTime": {
     "end_time": "2019-02-16T15:49:55.980971Z",
     "start_time": "2019-02-16T15:49:55.781248Z"
    }
   },
   "outputs": [
    {
     "data": {
      "text/plain": [
       "(<Figure size 432x288 with 2 Axes>,\n",
       " <mpl_toolkits.mplot3d.axes3d.Axes3D at 0x1a1a90ef98>)"
      ]
     },
     "execution_count": 50,
     "metadata": {},
     "output_type": "execute_result"
    },
    {
     "data": {
      "image/png": "[encoded data removed]",
      "text/plain": [
       "<Figure size 432x288 with 2 Axes>"
      ]
     },
     "metadata": {},
     "output_type": "display_data"
    }
   ],
   "source": [
    "matrix_histogram_complex(result.U_f)"
   ]
  },
  {
   "cell_type": "code",
   "execution_count": 51,
   "metadata": {
    "ExecuteTime": {
     "end_time": "2019-02-16T15:49:56.182244Z",
     "start_time": "2019-02-16T15:49:55.983518Z"
    }
   },
   "outputs": [
    {
     "data": {
      "text/plain": [
       "(<Figure size 576x432 with 2 Axes>,\n",
       " <matplotlib.axes._subplots.AxesSubplot at 0x1a1b05a048>)"
      ]
     },
     "execution_count": 51,
     "metadata": {},
     "output_type": "execute_result"
    },
    {
     "data": {
      "image/png": "[encoded data removed]",
      "text/plain": [
       "<Figure size 576x432 with 2 Axes>"
      ]
     },
     "metadata": {},
     "output_type": "display_data"
    }
   ],
   "source": [
    "hinton(U)"
   ]
  },
  {
   "cell_type": "code",
   "execution_count": 52,
   "metadata": {
    "ExecuteTime": {
     "end_time": "2019-02-16T15:49:56.388957Z",
     "start_time": "2019-02-16T15:49:56.184736Z"
    }
   },
   "outputs": [
    {
     "data": {
      "text/plain": [
       "(<Figure size 576x432 with 2 Axes>,\n",
       " <matplotlib.axes._subplots.AxesSubplot at 0x1a1b05a828>)"
      ]
     },
     "execution_count": 52,
     "metadata": {},
     "output_type": "execute_result"
    },
    {
     "data": {
      "image/png": "[encoded data removed]",
      "text/plain": [
       "<Figure size 576x432 with 2 Axes>"
      ]
     },
     "metadata": {},
     "output_type": "display_data"
    }
   ],
   "source": [
    "hinton(result.U_f)"
   ]
  },
  {
   "cell_type": "code",
   "execution_count": null,
   "metadata": {},
   "outputs": [],
   "source": []
  },
  {
   "cell_type": "code",
   "execution_count": null,
   "metadata": {},
   "outputs": [],
   "source": []
  },
  {
   "cell_type": "code",
   "execution_count": 53,
   "metadata": {
    "ExecuteTime": {
     "end_time": "2019-02-16T15:58:18.680858Z",
     "start_time": "2019-02-16T15:49:56.391506Z"
    }
   },
   "outputs": [
    {
     "data": {
      "text/plain": [
       "(array([-0.00207495+0.j, -0.00207495+0.j, -0.00207495+0.j, -0.00207495+0.j,\n",
       "        -0.00207495+0.j, -0.00207495+0.j, -0.00207495+0.j, -0.00207495+0.j,\n",
       "        -0.00207495+0.j, -0.00207495+0.j, -0.00207495+0.j, -0.00207495+0.j,\n",
       "        -0.00207495+0.j, -0.00207495+0.j, -0.00207495+0.j, -0.00207495+0.j,\n",
       "        -0.00207495+0.j, -0.00207495+0.j, -0.00207495+0.j, -0.00207495+0.j,\n",
       "        -0.00207495+0.j, -0.00207495+0.j, -0.00207495+0.j, -0.00207495+0.j,\n",
       "        -0.00207495+0.j, -0.00207495+0.j, -0.00207495+0.j, -0.00207495+0.j,\n",
       "        -0.00207495+0.j, -0.00207495+0.j, -0.00207495+0.j, -0.00207495+0.j,\n",
       "        -0.00207495+0.j, -0.00207495+0.j, -0.00207495+0.j, -0.00207495+0.j,\n",
       "        -0.00207495+0.j, -0.00207495+0.j, -0.00207495+0.j, -0.00207495+0.j,\n",
       "        -0.00207495+0.j, -0.00207495+0.j, -0.00207495+0.j, -0.00207495+0.j,\n",
       "        -0.00207495+0.j, -0.00207495+0.j, -0.00207495+0.j, -0.00207495+0.j,\n",
       "        -0.00207495+0.j, -0.00207495+0.j, -0.00207495+0.j, -0.00207495+0.j,\n",
       "        -0.00207495+0.j, -0.00207495+0.j, -0.00207495+0.j, -0.00207495+0.j,\n",
       "        -0.00207495+0.j, -0.00207495+0.j, -0.00207495+0.j, -0.00207495+0.j,\n",
       "        -0.00207495+0.j, -0.00207495+0.j, -0.00207495+0.j, -0.00207495+0.j,\n",
       "        -0.00207495+0.j, -0.00207495+0.j, -0.00207495+0.j, -0.00207495+0.j,\n",
       "        -0.00207495+0.j, -0.00207495+0.j, -0.00207495+0.j, -0.00207495+0.j,\n",
       "        -0.00207495+0.j, -0.00207495+0.j, -0.00207495+0.j, -0.00207495+0.j,\n",
       "        -0.00207495+0.j, -0.00207495+0.j, -0.00207495+0.j, -0.00207495+0.j,\n",
       "        -0.00207495+0.j, -0.00207495+0.j, -0.00207495+0.j, -0.00207495+0.j,\n",
       "        -0.00207495+0.j, -0.00207495+0.j, -0.00207495+0.j, -0.00207495+0.j,\n",
       "        -0.00207495+0.j, -0.00207495+0.j, -0.00207495+0.j, -0.00207495+0.j,\n",
       "        -0.00207495+0.j, -0.00207495+0.j, -0.00207495+0.j, -0.00207495+0.j,\n",
       "        -0.00207495+0.j, -0.00207495+0.j, -0.00207495+0.j, -0.00207495+0.j,\n",
       "        -0.00207495+0.j, -0.00207495+0.j, -0.00207495+0.j, -0.00207495+0.j,\n",
       "        -0.00207495+0.j, -0.00207495+0.j, -0.00207495+0.j, -0.00207495+0.j,\n",
       "        -0.00207495+0.j, -0.00207495+0.j, -0.00207495+0.j, -0.00207495+0.j,\n",
       "        -0.00207495+0.j, -0.00207495+0.j, -0.00207495+0.j, -0.00207495+0.j,\n",
       "        -0.00207495+0.j, -0.00207495+0.j, -0.00207495+0.j, -0.00207495+0.j,\n",
       "        -0.00207495+0.j, -0.00207495+0.j, -0.00207495+0.j, -0.00207495+0.j,\n",
       "        -0.00207495+0.j, -0.00207495+0.j, -0.00207495+0.j, -0.00207495+0.j,\n",
       "        -0.00207495+0.j, -0.00207495+0.j, -0.00207495+0.j, -0.00207495+0.j,\n",
       "        -0.00207495+0.j, -0.00207495+0.j, -0.00207495+0.j, -0.00207495+0.j,\n",
       "        -0.00207495+0.j, -0.00207495+0.j, -0.00207495+0.j, -0.00207495+0.j,\n",
       "        -0.00207495+0.j, -0.00207495+0.j, -0.00207495+0.j, -0.00207495+0.j,\n",
       "        -0.00207495+0.j, -0.00207495+0.j, -0.00207495+0.j, -0.00207495+0.j,\n",
       "        -0.00207495+0.j, -0.00207495+0.j, -0.00207495+0.j, -0.00207495+0.j,\n",
       "        -0.00207495+0.j, -0.00207495+0.j, -0.00207495+0.j, -0.00207495+0.j,\n",
       "        -0.00207495+0.j, -0.00207495+0.j, -0.00207495+0.j, -0.00207495+0.j,\n",
       "        -0.00207495+0.j, -0.00207495+0.j, -0.00207495+0.j, -0.00207495+0.j,\n",
       "        -0.00207495+0.j, -0.00207495+0.j, -0.00207495+0.j, -0.00207495+0.j,\n",
       "        -0.00207495+0.j, -0.00207495+0.j, -0.00207495+0.j, -0.00207495+0.j,\n",
       "        -0.00207495+0.j, -0.00207495+0.j, -0.00207495+0.j, -0.00207495+0.j,\n",
       "        -0.00207495+0.j, -0.00207495+0.j, -0.00207495+0.j, -0.00207495+0.j,\n",
       "        -0.00207495+0.j, -0.00207495+0.j, -0.00207495+0.j, -0.00207495+0.j,\n",
       "        -0.00207495+0.j, -0.00207495+0.j, -0.00207495+0.j, -0.00207495+0.j,\n",
       "        -0.00207495+0.j, -0.00207495+0.j, -0.00207495+0.j, -0.00207495+0.j,\n",
       "        -0.00207495+0.j, -0.00207495+0.j, -0.00207495+0.j, -0.00207495+0.j,\n",
       "        -0.00207495+0.j, -0.00207495+0.j, -0.00207495+0.j, -0.00207495+0.j,\n",
       "        -0.00207495+0.j, -0.00207495+0.j, -0.00207495+0.j, -0.00207495+0.j,\n",
       "        -0.00207495+0.j, -0.00207495+0.j, -0.00207495+0.j, -0.00207495+0.j,\n",
       "        -0.00207495+0.j, -0.00207495+0.j, -0.00207495+0.j, -0.00207495+0.j,\n",
       "        -0.00207495+0.j, -0.00207495+0.j, -0.00207495+0.j, -0.00207495+0.j,\n",
       "        -0.00207495+0.j, -0.00207495+0.j, -0.00207495+0.j, -0.00207495+0.j,\n",
       "        -0.00207495+0.j, -0.00207495+0.j, -0.00207495+0.j, -0.00207495+0.j,\n",
       "        -0.00207495+0.j, -0.00207495+0.j, -0.00207495+0.j, -0.00207495+0.j,\n",
       "        -0.00207495+0.j, -0.00207495+0.j, -0.00207495+0.j, -0.00207495+0.j,\n",
       "        -0.00207495+0.j, -0.00207495+0.j, -0.00207495+0.j, -0.00207495+0.j,\n",
       "        -0.00207495+0.j, -0.00207495+0.j, -0.00207495+0.j, -0.00207495+0.j,\n",
       "        -0.00207495+0.j, -0.00207495+0.j, -0.00207495+0.j, -0.00207495+0.j,\n",
       "        -0.00207495+0.j, -0.00207495+0.j, -0.00207495+0.j, -0.00207495+0.j,\n",
       "        -0.00207495+0.j, -0.00207495+0.j, -0.00207495+0.j, -0.00207495+0.j,\n",
       "        -0.00207495+0.j, -0.00207495+0.j, -0.00207495+0.j, -0.00207495+0.j,\n",
       "        -0.00207495+0.j, -0.00207495+0.j, -0.00207495+0.j, -0.00207495+0.j,\n",
       "        -0.00207495+0.j, -0.00207495+0.j, -0.00207495+0.j, -0.00207495+0.j,\n",
       "        -0.00207495+0.j, -0.00207495+0.j, -0.00207495+0.j, -0.00207495+0.j,\n",
       "        -0.00207495+0.j, -0.00207495+0.j, -0.00207495+0.j, -0.00207495+0.j,\n",
       "        -0.00207495+0.j, -0.00207495+0.j, -0.00207495+0.j, -0.00207495+0.j,\n",
       "        -0.00207495+0.j, -0.00207495+0.j, -0.00207495+0.j, -0.00207495+0.j,\n",
       "        -0.00207495+0.j, -0.00207495+0.j, -0.00207495+0.j, -0.00207495+0.j,\n",
       "        -0.00207495+0.j, -0.00207495+0.j, -0.00207495+0.j, -0.00207495+0.j,\n",
       "        -0.00207495+0.j, -0.00207495+0.j, -0.00207495+0.j, -0.00207495+0.j,\n",
       "        -0.00207495+0.j, -0.00207495+0.j, -0.00207495+0.j, -0.00207495+0.j,\n",
       "        -0.00207495+0.j, -0.00207495+0.j, -0.00207495+0.j, -0.00207495+0.j,\n",
       "        -0.00207495+0.j, -0.00207495+0.j, -0.00207495+0.j, -0.00207495+0.j,\n",
       "        -0.00207495+0.j, -0.00207495+0.j, -0.00207495+0.j, -0.00207495+0.j,\n",
       "        -0.00207495+0.j, -0.00207495+0.j, -0.00207495+0.j, -0.00207495+0.j,\n",
       "        -0.00207495+0.j, -0.00207495+0.j, -0.00207495+0.j, -0.00207495+0.j,\n",
       "        -0.00207495+0.j, -0.00207495+0.j, -0.00207495+0.j, -0.00207495+0.j,\n",
       "        -0.00207495+0.j, -0.00207495+0.j, -0.00207495+0.j, -0.00207495+0.j,\n",
       "        -0.00207495+0.j, -0.00207495+0.j, -0.00207495+0.j, -0.00207495+0.j,\n",
       "        -0.00207495+0.j, -0.00207495+0.j, -0.00207495+0.j, -0.00207495+0.j,\n",
       "        -0.00207495+0.j, -0.00207495+0.j, -0.00207495+0.j, -0.00207495+0.j,\n",
       "        -0.00207495+0.j, -0.00207495+0.j, -0.00207495+0.j, -0.00207495+0.j,\n",
       "        -0.00207495+0.j, -0.00207495+0.j, -0.00207495+0.j, -0.00207495+0.j,\n",
       "        -0.00207495+0.j, -0.00207495+0.j, -0.00207495+0.j, -0.00207495+0.j,\n",
       "        -0.00207495+0.j, -0.00207495+0.j, -0.00207495+0.j, -0.00207495+0.j,\n",
       "        -0.00207495+0.j, -0.00207495+0.j, -0.00207495+0.j, -0.00207495+0.j,\n",
       "        -0.00207495+0.j, -0.00207495+0.j, -0.00207495+0.j, -0.00207495+0.j,\n",
       "        -0.00207495+0.j, -0.00207495+0.j, -0.00207495+0.j, -0.00207495+0.j,\n",
       "        -0.00207495+0.j, -0.00207495+0.j, -0.00207495+0.j, -0.00207495+0.j,\n",
       "        -0.00207495+0.j, -0.00207495+0.j, -0.00207495+0.j, -0.00207495+0.j,\n",
       "        -0.00207495+0.j, -0.00207495+0.j, -0.00207495+0.j, -0.00207495+0.j,\n",
       "        -0.00207495+0.j, -0.00207495+0.j, -0.00207495+0.j, -0.00207495+0.j,\n",
       "        -0.00207495+0.j, -0.00207495+0.j, -0.00207495+0.j, -0.00207495+0.j,\n",
       "        -0.00207495+0.j, -0.00207495+0.j, -0.00207495+0.j, -0.00207495+0.j,\n",
       "        -0.00207495+0.j, -0.00207495+0.j, -0.00207495+0.j, -0.00207495+0.j,\n",
       "        -0.00207495+0.j, -0.00207495+0.j, -0.00207495+0.j, -0.00207495+0.j,\n",
       "        -0.00207495+0.j, -0.00207495+0.j, -0.00207495+0.j, -0.00207495+0.j,\n",
       "        -0.00207495+0.j, -0.00207495+0.j, -0.00207495+0.j, -0.00207495+0.j,\n",
       "        -0.00207495+0.j, -0.00207495+0.j, -0.00207495+0.j, -0.00207495+0.j,\n",
       "        -0.00207495+0.j, -0.00207495+0.j, -0.00207495+0.j, -0.00207495+0.j,\n",
       "        -0.00207495+0.j, -0.00207495+0.j, -0.00207495+0.j, -0.00207495+0.j,\n",
       "        -0.00207495+0.j, -0.00207495+0.j, -0.00207495+0.j, -0.00207495+0.j,\n",
       "        -0.00207495+0.j, -0.00207495+0.j, -0.00207495+0.j, -0.00207495+0.j,\n",
       "        -0.00207495+0.j, -0.00207495+0.j, -0.00207495+0.j, -0.00207495+0.j,\n",
       "        -0.00207495+0.j, -0.00207495+0.j, -0.00207495+0.j, -0.00207495+0.j,\n",
       "        -0.00207495+0.j, -0.00207495+0.j, -0.00207495+0.j, -0.00207495+0.j,\n",
       "        -0.00207495+0.j, -0.00207495+0.j, -0.00207495+0.j, -0.00207495+0.j,\n",
       "        -0.00207495+0.j, -0.00207495+0.j, -0.00207495+0.j, -0.00207495+0.j,\n",
       "        -0.00207495+0.j, -0.00207495+0.j, -0.00207495+0.j, -0.00207495+0.j,\n",
       "        -0.00207495+0.j, -0.00207495+0.j, -0.00207495+0.j, -0.00207495+0.j,\n",
       "        -0.00207495+0.j, -0.00207495+0.j, -0.00207495+0.j, -0.00207495+0.j,\n",
       "        -0.00207495+0.j, -0.00207495+0.j, -0.00207495+0.j, -0.00207495+0.j,\n",
       "        -0.00207495+0.j, -0.00207495+0.j, -0.00207495+0.j, -0.00207495+0.j,\n",
       "        -0.00207495+0.j, -0.00207495+0.j, -0.00207495+0.j, -0.00207495+0.j,\n",
       "        -0.00207495+0.j, -0.00207495+0.j, -0.00207495+0.j, -0.00207495+0.j,\n",
       "        -0.00207495+0.j, -0.00207495+0.j, -0.00207495+0.j, -0.00207495+0.j,\n",
       "        -0.00207495+0.j, -0.00207495+0.j, -0.00207495+0.j, -0.00207495+0.j,\n",
       "        -0.00207495+0.j, -0.00207495+0.j, -0.00207495+0.j, -0.00207495+0.j,\n",
       "        -0.00207495+0.j, -0.00207495+0.j, -0.00207495+0.j, -0.00207495+0.j,\n",
       "        -0.00207495+0.j, -0.00207495+0.j, -0.00207495+0.j, -0.00207495+0.j,\n",
       "        -0.00207495+0.j, -0.00207495+0.j, -0.00207495+0.j, -0.00207495+0.j,\n",
       "        -0.00207495+0.j, -0.00207495+0.j, -0.00207495+0.j, -0.00207495+0.j]),\n",
       " array([-2.07350665e-01+0.j, -1.95512863e-01+0.j, -1.87436899e-01+0.j,\n",
       "        -1.53419550e-01+0.j, -1.25327203e-01+0.j, -1.11861709e-01+0.j,\n",
       "        -1.14616691e-01+0.j, -1.06056950e-01+0.j, -9.80147556e-02+0.j,\n",
       "        -9.25104672e-02+0.j, -8.46102271e-02+0.j, -7.40594013e-02+0.j,\n",
       "        -4.47352561e-02+0.j, -5.84355089e-02+0.j, -5.11528811e-02+0.j,\n",
       "        -2.57983688e-02+0.j, -2.60452719e-02+0.j, -2.28120073e-02+0.j,\n",
       "        -1.79489520e-02+0.j,  1.29623247e-02+0.j,  3.30417001e-02+0.j,\n",
       "         5.46810096e-02+0.j,  5.95675815e-02+0.j,  7.82126993e-02+0.j,\n",
       "         9.59621685e-02+0.j,  1.00131463e-01+0.j,  1.29502456e-01+0.j,\n",
       "         1.26671880e-01+0.j,  1.37097736e-01+0.j,  1.28160084e-01+0.j,\n",
       "         1.34277649e-01+0.j,  1.27287684e-01+0.j,  1.27246011e-01+0.j,\n",
       "         1.48588073e-01+0.j,  1.58721408e-01+0.j,  1.70434415e-01+0.j,\n",
       "         1.54414598e-01+0.j,  1.62936105e-01+0.j,  1.77303354e-01+0.j,\n",
       "         1.87342547e-01+0.j,  1.94186350e-01+0.j,  2.13653198e-01+0.j,\n",
       "         2.34318643e-01+0.j,  2.20907062e-01+0.j,  2.09536362e-01+0.j,\n",
       "         2.15868541e-01+0.j,  2.47176345e-01+0.j,  2.53477773e-01+0.j,\n",
       "         2.63132816e-01+0.j,  2.87556395e-01+0.j,  2.99480646e-01+0.j,\n",
       "         2.99754945e-01+0.j,  3.12011709e-01+0.j,  3.23353810e-01+0.j,\n",
       "         3.37283754e-01+0.j,  3.38007548e-01+0.j,  3.46297481e-01+0.j,\n",
       "         3.78287321e-01+0.j,  3.88866875e-01+0.j,  3.70123557e-01+0.j,\n",
       "         3.64293166e-01+0.j,  3.83173766e-01+0.j,  3.92613538e-01+0.j,\n",
       "         3.98699356e-01+0.j,  4.06482109e-01+0.j,  4.17516939e-01+0.j,\n",
       "         4.26937309e-01+0.j,  4.30479764e-01+0.j,  4.15282526e-01+0.j,\n",
       "         4.41217297e-01+0.j,  4.59955443e-01+0.j,  4.67241378e-01+0.j,\n",
       "         4.73614659e-01+0.j,  4.91785064e-01+0.j,  4.85700972e-01+0.j,\n",
       "         4.85426949e-01+0.j,  4.77844008e-01+0.j,  4.64184476e-01+0.j,\n",
       "         4.87994734e-01+0.j,  4.84272400e-01+0.j,  5.08967290e-01+0.j,\n",
       "         5.03281613e-01+0.j,  5.03042879e-01+0.j,  4.91273668e-01+0.j,\n",
       "         5.17511410e-01+0.j,  5.36071527e-01+0.j,  5.53524086e-01+0.j,\n",
       "         5.65941374e-01+0.j,  5.63358608e-01+0.j,  5.84171622e-01+0.j,\n",
       "         5.89540621e-01+0.j,  5.94548017e-01+0.j,  5.84508950e-01+0.j,\n",
       "         6.11726852e-01+0.j,  5.93628097e-01+0.j,  5.95720736e-01+0.j,\n",
       "         5.88386156e-01+0.j,  5.97894189e-01+0.j,  5.97637111e-01+0.j,\n",
       "         5.85371162e-01+0.j,  5.70110014e-01+0.j,  5.81028633e-01+0.j,\n",
       "         5.85159948e-01+0.j,  5.88890191e-01+0.j,  6.10062774e-01+0.j,\n",
       "         6.22672532e-01+0.j,  6.21714961e-01+0.j,  6.23719961e-01+0.j,\n",
       "         6.21289465e-01+0.j,  6.34179750e-01+0.j,  6.43541525e-01+0.j,\n",
       "         6.50360378e-01+0.j,  6.46835493e-01+0.j,  6.38708433e-01+0.j,\n",
       "         6.27072785e-01+0.j,  6.08413521e-01+0.j,  6.14625089e-01+0.j,\n",
       "         6.05326740e-01+0.j,  6.11730807e-01+0.j,  6.07567951e-01+0.j,\n",
       "         6.06143575e-01+0.j,  6.13324760e-01+0.j,  6.19755351e-01+0.j,\n",
       "         6.36789834e-01+0.j,  6.56282552e-01+0.j,  6.61305952e-01+0.j,\n",
       "         6.52771198e-01+0.j,  6.83864228e-01+0.j,  7.00384035e-01+0.j,\n",
       "         7.16549129e-01+0.j,  7.19477993e-01+0.j,  6.96841202e-01+0.j,\n",
       "         7.12468566e-01+0.j,  7.14051746e-01+0.j,  7.20290802e-01+0.j,\n",
       "         7.27090448e-01+0.j,  7.52615492e-01+0.j,  7.51201101e-01+0.j,\n",
       "         7.54433371e-01+0.j,  7.40244500e-01+0.j,  7.33175786e-01+0.j,\n",
       "         7.56339017e-01+0.j,  7.42571659e-01+0.j,  7.37365042e-01+0.j,\n",
       "         7.32102995e-01+0.j,  7.11657723e-01+0.j,  6.85294727e-01+0.j,\n",
       "         6.62525797e-01+0.j,  6.49306676e-01+0.j,  6.52902818e-01+0.j,\n",
       "         6.63772281e-01+0.j,  6.52451526e-01+0.j,  6.40339969e-01+0.j,\n",
       "         6.17811275e-01+0.j,  5.88503037e-01+0.j,  6.02949661e-01+0.j,\n",
       "         6.23355373e-01+0.j,  6.22141333e-01+0.j,  6.11620981e-01+0.j,\n",
       "         5.95488441e-01+0.j,  5.82430607e-01+0.j,  5.64859290e-01+0.j,\n",
       "         5.63130790e-01+0.j,  5.80550827e-01+0.j,  6.02496818e-01+0.j,\n",
       "         5.86359965e-01+0.j,  5.65283600e-01+0.j,  5.62461618e-01+0.j,\n",
       "         5.68312305e-01+0.j,  5.53840021e-01+0.j,  5.39764009e-01+0.j,\n",
       "         5.48654717e-01+0.j,  5.58599916e-01+0.j,  5.23484175e-01+0.j,\n",
       "         4.92785558e-01+0.j,  4.84226419e-01+0.j,  4.82826382e-01+0.j,\n",
       "         4.92266177e-01+0.j,  4.68312514e-01+0.j,  4.68267998e-01+0.j,\n",
       "         4.65071370e-01+0.j,  4.65204209e-01+0.j,  4.55161811e-01+0.j,\n",
       "         4.70115283e-01+0.j,  4.80366859e-01+0.j,  4.94243095e-01+0.j,\n",
       "         4.86263373e-01+0.j,  4.77647275e-01+0.j,  4.78438389e-01+0.j,\n",
       "         4.65612867e-01+0.j,  4.78386264e-01+0.j,  4.75263482e-01+0.j,\n",
       "         4.64115484e-01+0.j,  4.45106591e-01+0.j,  4.36823272e-01+0.j,\n",
       "         4.35916683e-01+0.j,  4.37291684e-01+0.j,  4.32364642e-01+0.j,\n",
       "         4.42485939e-01+0.j,  4.59628665e-01+0.j,  4.47288539e-01+0.j,\n",
       "         4.28703636e-01+0.j,  4.37399790e-01+0.j,  4.35273241e-01+0.j,\n",
       "         4.28509847e-01+0.j,  3.96967928e-01+0.j,  3.67528693e-01+0.j,\n",
       "         3.44247122e-01+0.j,  3.09579294e-01+0.j,  2.84248894e-01+0.j,\n",
       "         2.54470359e-01+0.j,  2.57870830e-01+0.j,  2.50443694e-01+0.j,\n",
       "         2.41195568e-01+0.j,  2.18784189e-01+0.j,  2.14719186e-01+0.j,\n",
       "         2.14166727e-01+0.j,  2.21387760e-01+0.j,  2.37408131e-01+0.j,\n",
       "         2.19610866e-01+0.j,  2.30796348e-01+0.j,  1.92903887e-01+0.j,\n",
       "         1.68850657e-01+0.j,  1.57865516e-01+0.j,  1.44854503e-01+0.j,\n",
       "         1.27865970e-01+0.j,  1.10909750e-01+0.j,  8.07667534e-02+0.j,\n",
       "         5.34897660e-02+0.j,  4.78663466e-02+0.j,  2.37536882e-02+0.j,\n",
       "         2.82066828e-02+0.j,  1.35689240e-02+0.j, -5.59134445e-03+0.j,\n",
       "        -3.09667596e-04+0.j,  1.37918571e-02+0.j,  2.13463957e-02+0.j,\n",
       "         1.58576956e-02+0.j,  6.50168220e-03+0.j,  2.38409509e-02+0.j,\n",
       "         1.51119138e-02+0.j,  2.52049117e-02+0.j,  1.54585738e-02+0.j,\n",
       "         2.76144998e-02+0.j,  2.27674892e-02+0.j,  9.86013456e-03+0.j,\n",
       "        -9.34607396e-03+0.j, -7.53344779e-03+0.j,  9.35643523e-03+0.j,\n",
       "        -2.41481747e-02+0.j, -3.05222718e-02+0.j, -6.15775307e-02+0.j,\n",
       "        -6.57801232e-02+0.j, -8.29518685e-02+0.j, -8.54216517e-02+0.j,\n",
       "        -9.63260962e-02+0.j, -1.08261511e-01+0.j, -1.09899752e-01+0.j,\n",
       "        -1.40603453e-01+0.j, -1.47817565e-01+0.j, -1.51076279e-01+0.j,\n",
       "        -1.43773643e-01+0.j, -1.52551334e-01+0.j, -1.50373386e-01+0.j,\n",
       "        -1.51338549e-01+0.j, -1.57034617e-01+0.j, -1.38712521e-01+0.j,\n",
       "        -1.66981435e-01+0.j, -1.65315437e-01+0.j, -1.76220794e-01+0.j,\n",
       "        -1.73444481e-01+0.j, -1.97088531e-01+0.j, -1.96146652e-01+0.j,\n",
       "        -2.15823814e-01+0.j, -2.27839782e-01+0.j, -2.35409658e-01+0.j,\n",
       "        -2.64499265e-01+0.j, -2.48016234e-01+0.j, -2.51586886e-01+0.j,\n",
       "        -2.49047399e-01+0.j, -2.75473549e-01+0.j, -2.64811966e-01+0.j,\n",
       "        -2.65215018e-01+0.j, -2.54559582e-01+0.j, -2.60926634e-01+0.j,\n",
       "        -2.65896248e-01+0.j, -2.47874107e-01+0.j, -2.60661843e-01+0.j,\n",
       "        -2.59831996e-01+0.j, -2.63826974e-01+0.j, -2.71519599e-01+0.j,\n",
       "        -2.90688013e-01+0.j, -2.91993361e-01+0.j, -3.14595029e-01+0.j,\n",
       "        -3.42036656e-01+0.j, -3.53301600e-01+0.j, -3.64477779e-01+0.j,\n",
       "        -3.65544684e-01+0.j, -3.91105356e-01+0.j, -3.77373985e-01+0.j,\n",
       "        -3.53440699e-01+0.j, -3.51326798e-01+0.j, -3.78738946e-01+0.j,\n",
       "        -3.71245696e-01+0.j, -3.72165493e-01+0.j, -3.80526065e-01+0.j,\n",
       "        -4.05102463e-01+0.j, -4.24187425e-01+0.j, -4.05175161e-01+0.j,\n",
       "        -4.37386296e-01+0.j, -4.58657411e-01+0.j, -4.73421222e-01+0.j,\n",
       "        -4.71440677e-01+0.j, -4.70308151e-01+0.j, -4.67719623e-01+0.j,\n",
       "        -4.68761283e-01+0.j, -4.69076581e-01+0.j, -4.78728613e-01+0.j,\n",
       "        -4.94849478e-01+0.j, -4.95845240e-01+0.j, -4.86377335e-01+0.j,\n",
       "        -4.72974679e-01+0.j, -4.65344874e-01+0.j, -4.87701040e-01+0.j,\n",
       "        -4.91911188e-01+0.j, -4.92678722e-01+0.j, -4.83235320e-01+0.j,\n",
       "        -4.79317321e-01+0.j, -4.69660591e-01+0.j, -4.74861349e-01+0.j,\n",
       "        -4.82371079e-01+0.j, -4.98856128e-01+0.j, -5.02032357e-01+0.j,\n",
       "        -4.82461766e-01+0.j, -4.66952528e-01+0.j, -4.79412794e-01+0.j,\n",
       "        -4.81662298e-01+0.j, -4.68490685e-01+0.j, -4.89329349e-01+0.j,\n",
       "        -4.61926485e-01+0.j, -4.56691157e-01+0.j, -4.49805823e-01+0.j,\n",
       "        -4.54992746e-01+0.j, -4.79194396e-01+0.j, -5.02858008e-01+0.j,\n",
       "        -4.76972639e-01+0.j, -4.69368862e-01+0.j, -4.93821905e-01+0.j,\n",
       "        -4.99412310e-01+0.j, -5.22882255e-01+0.j, -5.15896474e-01+0.j,\n",
       "        -5.08303635e-01+0.j, -5.17746773e-01+0.j, -5.00422079e-01+0.j,\n",
       "        -4.73805873e-01+0.j, -4.99587567e-01+0.j, -5.20903882e-01+0.j,\n",
       "        -5.18626774e-01+0.j, -5.03806381e-01+0.j, -4.92569466e-01+0.j,\n",
       "        -5.11468003e-01+0.j, -5.07436479e-01+0.j, -4.86812449e-01+0.j,\n",
       "        -4.93937721e-01+0.j, -5.01606801e-01+0.j, -4.99462514e-01+0.j,\n",
       "        -4.73726970e-01+0.j, -4.61447117e-01+0.j, -4.46164963e-01+0.j,\n",
       "        -4.41380595e-01+0.j, -4.32350271e-01+0.j, -4.34539369e-01+0.j,\n",
       "        -4.22411212e-01+0.j, -4.26816320e-01+0.j, -4.11936518e-01+0.j,\n",
       "        -3.83397469e-01+0.j, -3.89234010e-01+0.j, -3.80271577e-01+0.j,\n",
       "        -3.79959800e-01+0.j, -3.63137011e-01+0.j, -3.67911659e-01+0.j,\n",
       "        -3.77543888e-01+0.j, -3.88622674e-01+0.j, -3.73738627e-01+0.j,\n",
       "        -3.77027418e-01+0.j, -3.83338396e-01+0.j, -3.84409689e-01+0.j,\n",
       "        -3.83534729e-01+0.j, -3.88034589e-01+0.j, -3.82661279e-01+0.j,\n",
       "        -3.59461670e-01+0.j, -3.34264692e-01+0.j, -3.30176614e-01+0.j,\n",
       "        -3.12267735e-01+0.j, -3.11274287e-01+0.j, -3.09177695e-01+0.j,\n",
       "        -2.85185464e-01+0.j, -2.81439732e-01+0.j, -2.60420311e-01+0.j,\n",
       "        -2.82487065e-01+0.j, -2.99758862e-01+0.j, -3.18842592e-01+0.j,\n",
       "        -3.20159671e-01+0.j, -3.28295043e-01+0.j, -3.37553130e-01+0.j,\n",
       "        -3.19663634e-01+0.j, -3.39528522e-01+0.j, -3.34589568e-01+0.j,\n",
       "        -3.39465982e-01+0.j, -3.05727777e-01+0.j, -2.83336035e-01+0.j,\n",
       "        -2.49688542e-01+0.j, -2.46291306e-01+0.j, -2.49031942e-01+0.j,\n",
       "        -2.29149238e-01+0.j, -2.27217064e-01+0.j, -1.99499758e-01+0.j,\n",
       "        -2.01347820e-01+0.j, -1.88441982e-01+0.j, -2.06604032e-01+0.j,\n",
       "        -1.90500755e-01+0.j, -2.02630362e-01+0.j, -1.67159970e-01+0.j,\n",
       "        -1.53621288e-01+0.j, -1.41851162e-01+0.j, -1.50414036e-01+0.j,\n",
       "        -1.58090215e-01+0.j, -1.46820175e-01+0.j, -1.51673083e-01+0.j,\n",
       "        -1.19545397e-01+0.j, -1.34895766e-01+0.j, -1.29693936e-01+0.j,\n",
       "        -1.47836389e-01+0.j, -1.25339680e-01+0.j, -1.10346042e-01+0.j,\n",
       "        -7.64516177e-02+0.j, -5.83891239e-02+0.j, -5.21570278e-02+0.j,\n",
       "        -3.99007835e-02+0.j, -3.20183261e-02+0.j, -1.15556345e-02+0.j,\n",
       "        -4.02059221e-03+0.j, -1.47182112e-04+0.j, -5.49854166e-03+0.j,\n",
       "        -2.05181798e-02+0.j, -2.93038614e-02+0.j, -3.12714697e-02+0.j,\n",
       "        -1.64129750e-02+0.j, -2.01956354e-02+0.j, -3.63843098e-02+0.j,\n",
       "        -1.59377227e-02+0.j,  3.93716998e-03+0.j,  3.61619183e-02+0.j,\n",
       "         5.87405432e-02+0.j,  7.00321259e-02+0.j,  6.63163640e-02+0.j,\n",
       "         8.28649791e-02+0.j,  8.34070421e-02+0.j,  1.13140374e-01+0.j,\n",
       "         1.47492738e-01+0.j,  1.54111208e-01+0.j,  1.57663131e-01+0.j,\n",
       "         1.51019170e-01+0.j,  1.49919171e-01+0.j,  1.64184115e-01+0.j,\n",
       "         1.76570193e-01+0.j,  1.93208148e-01+0.j,  2.12702107e-01+0.j,\n",
       "         2.16901855e-01+0.j,  2.26180534e-01+0.j,  2.36260781e-01+0.j,\n",
       "         2.42573158e-01+0.j,  2.46687657e-01+0.j,  2.63404919e-01+0.j,\n",
       "         2.68482205e-01+0.j,  2.78266376e-01+0.j,  2.68981359e-01+0.j,\n",
       "         2.76777482e-01+0.j,  2.67752836e-01+0.j,  2.57929324e-01+0.j,\n",
       "         2.49463126e-01+0.j,  2.69404806e-01+0.j,  2.92247648e-01+0.j,\n",
       "         2.94218707e-01+0.j,  3.21083139e-01+0.j,  3.47898029e-01+0.j,\n",
       "         3.52988689e-01+0.j,  3.57255129e-01+0.j,  3.61614795e-01+0.j,\n",
       "         3.79704087e-01+0.j,  3.91482067e-01+0.j,  3.99131542e-01+0.j,\n",
       "         3.91806024e-01+0.j,  3.98840702e-01+0.j,  3.98381043e-01+0.j,\n",
       "         4.08469878e-01+0.j,  4.10001731e-01+0.j,  4.08031650e-01+0.j,\n",
       "         4.14136036e-01+0.j,  4.14136036e-01+0.j]))"
      ]
     },
     "execution_count": 53,
     "metadata": {},
     "output_type": "execute_result"
    }
   ],
   "source": [
    "updater(result.u[-1, 0, : ] , (2*pi)/500, epsilon=((0.1*2*pi)/(10**3)))"
   ]
  },
  {
   "cell_type": "code",
   "execution_count": 54,
   "metadata": {
    "ExecuteTime": {
     "end_time": "2019-02-16T15:58:18.686963Z",
     "start_time": "2019-02-16T15:58:18.683152Z"
    }
   },
   "outputs": [
    {
     "data": {
      "text/plain": [
       "6.283185307179586"
      ]
     },
     "execution_count": 54,
     "metadata": {},
     "output_type": "execute_result"
    }
   ],
   "source": [
    "times[-1]"
   ]
  },
  {
   "cell_type": "code",
   "execution_count": 55,
   "metadata": {
    "ExecuteTime": {
     "end_time": "2019-02-16T15:58:18.693360Z",
     "start_time": "2019-02-16T15:58:18.689294Z"
    }
   },
   "outputs": [
    {
     "data": {
      "text/plain": [
       "6.283185307179586"
      ]
     },
     "execution_count": 55,
     "metadata": {},
     "output_type": "execute_result"
    }
   ],
   "source": [
    "total_time_evo"
   ]
  },
  {
   "cell_type": "markdown",
   "metadata": {},
   "source": [
    "## joining qutip to my code"
   ]
  },
  {
   "cell_type": "markdown",
   "metadata": {
    "ExecuteTime": {
     "end_time": "2019-02-15T04:25:13.615608Z",
     "start_time": "2019-02-15T04:25:13.566890Z"
    }
   },
   "source": [
    "##### total_time\n",
    "---------------------------------------------------------------------------\n",
    "NameError                                 Traceback (most recent call last)\n",
    "<ipython-input-55-9bec417112c8> in <module>()\n",
    "----> 1 total_time\n",
    "\n",
    "NameError: name 'total_time' is not defined\n"
   ]
  },
  {
   "cell_type": "code",
   "execution_count": 56,
   "metadata": {
    "ExecuteTime": {
     "end_time": "2019-02-16T15:58:18.700666Z",
     "start_time": "2019-02-16T15:58:18.695297Z"
    }
   },
   "outputs": [
    {
     "data": {
      "text/plain": [
       "500"
      ]
     },
     "execution_count": 56,
     "metadata": {},
     "output_type": "execute_result"
    }
   ],
   "source": [
    "len(times)"
   ]
  },
  {
   "cell_type": "markdown",
   "metadata": {
    "ExecuteTime": {
     "end_time": "2019-02-15T04:33:44.601387Z",
     "start_time": "2019-02-15T04:33:44.593763Z"
    },
    "code_folding": []
   },
   "source": [
    "def terminator(max_iter, time_steps=len(times), total_time= total_time_evo,\n",
    "               epsilon= 2*pi*1):\n",
    "    r\"\"\"Brief description of the function\"\"\"\n",
    "    \n",
    "    xi_initial = result.u[-1, 0, : ] \n",
    "    #1000*random_sample((time_steps,))\n",
    "    dt = (2*pi)/500  #total_time/time_steps\n",
    "    xi_diff, xi_new_vec = updater(xi_initial, dt, epsilon)\n",
    "    \n",
    "    for i in range(max_iter):\n",
    "        if amax(xi_diff) < epsilon**2 :\n",
    "            xi_final = xi_new_vec\n",
    "            break\n",
    "        else :\n",
    "            xi_diff, xi_new_vec = updater(xi_new_vec, dt, epsilon)\n",
    "            print(i)\n",
    "            print(amax(xi_diff))\n",
    "            \n",
    "        \n",
    "    xi_final = xi_new_vec    \n",
    "    return xi_final"
   ]
  },
  {
   "cell_type": "code",
   "execution_count": 57,
   "metadata": {
    "ExecuteTime": {
     "end_time": "2019-02-16T15:58:18.712628Z",
     "start_time": "2019-02-16T15:58:18.703666Z"
    },
    "code_folding": []
   },
   "outputs": [],
   "source": [
    "def terminator(max_iter, time_steps=len(times),\n",
    "              total_time=total_time_evo,\n",
    "              epsilon=2*pi*1):\n",
    "    r\"\"\"Brief description of the function\"\"\"\n",
    "    xi_initial = result.u[-1, 0, :]\n",
    "    # 1000*random_sample((time_steps,))\n",
    "    dt = (2*pi)/500 #total_time/time_steps\n",
    "    xi_diff, xi_new_vec = updater(xi_initial, dt, epsilon)\n",
    "    min_iter = int(max_iter/2)\n",
    "    for i in range(max_iter):\n",
    "        if i == 0:\n",
    "            print(\"Hi\")\n",
    "            \n",
    "        \n",
    "        if i > min_iter :\n",
    "            \n",
    "            if i > min_iter + 1 :\n",
    "                print(\"Surpassed minimum iteration barrier\")\n",
    "            if amax(xi_diff) < epsilon**2 :\n",
    "                xi_final = xi_new_vec\n",
    "                print(\"Tejas is unlucky\")\n",
    "                print(\"Attempted iterations \", i)\n",
    "                break\n",
    "            else :\n",
    "                xi_diff, xi_new_vec = updater(xi_new_vec, dt, epsilon)\n",
    "                print(\"Tejas is a good boy\")\n",
    "                print(i)\n",
    "                print(amax(xi_diff))\n",
    "        \n",
    "        else :\n",
    "            print(\"Normal life\")\n",
    "            xi_diff, xi_new_vec = updater(xi_new_vec, dt, epsilon)\n",
    "            print(i)\n",
    "            print(amax(xi_diff))\n",
    "            \n",
    "    return xi_final\n"
   ]
  },
  {
   "cell_type": "markdown",
   "metadata": {},
   "source": [
    "## sub topic 3"
   ]
  },
  {
   "cell_type": "code",
   "execution_count": 58,
   "metadata": {
    "ExecuteTime": {
     "end_time": "2019-02-16T15:58:18.717953Z",
     "start_time": "2019-02-16T15:58:18.714969Z"
    }
   },
   "outputs": [],
   "source": [
    "new_label = [r'$g_{with diss}$']"
   ]
  },
  {
   "cell_type": "markdown",
   "metadata": {},
   "source": [
    "### try"
   ]
  },
  {
   "cell_type": "code",
   "execution_count": 59,
   "metadata": {
    "ExecuteTime": {
     "end_time": "2019-02-16T17:11:42.184137Z",
     "start_time": "2019-02-16T15:58:18.720143Z"
    }
   },
   "outputs": [
    {
     "name": "stdout",
     "output_type": "stream",
     "text": [
      "Hi\n",
      "Normal life\n",
      "0\n",
      "(-41.30628543680357+0j)\n",
      "Normal life\n",
      "1\n",
      "(-41.2717955202614+0j)\n",
      "Normal life\n",
      "2\n",
      "(-41.27654704400552+0j)\n",
      "Normal life\n"
     ]
    },
    {
     "ename": "KeyboardInterrupt",
     "evalue": "",
     "output_type": "error",
     "traceback": [
      "\u001b[0;31m---------------------------------------------------------------------------\u001b[0m",
      "\u001b[0;31mKeyboardInterrupt\u001b[0m                         Traceback (most recent call last)",
      "\u001b[0;32m<ipython-input-59-0534cf9aa4e2>\u001b[0m in \u001b[0;36m<module>\u001b[0;34m()\u001b[0m\n\u001b[0;32m----> 1\u001b[0;31m \u001b[0mxi_opt\u001b[0m \u001b[0;34m=\u001b[0m \u001b[0mterminator\u001b[0m\u001b[0;34m(\u001b[0m\u001b[0;36m10\u001b[0m\u001b[0;34m)\u001b[0m\u001b[0;34m\u001b[0m\u001b[0;34m\u001b[0m\u001b[0m\n\u001b[0m",
      "\u001b[0;32m<ipython-input-57-bcb4276ed640>\u001b[0m in \u001b[0;36mterminator\u001b[0;34m(max_iter, time_steps, total_time, epsilon)\u001b[0m\n\u001b[1;32m     30\u001b[0m         \u001b[0;32melse\u001b[0m \u001b[0;34m:\u001b[0m\u001b[0;34m\u001b[0m\u001b[0;34m\u001b[0m\u001b[0m\n\u001b[1;32m     31\u001b[0m             \u001b[0mprint\u001b[0m\u001b[0;34m(\u001b[0m\u001b[0;34m\"Normal life\"\u001b[0m\u001b[0;34m)\u001b[0m\u001b[0;34m\u001b[0m\u001b[0;34m\u001b[0m\u001b[0m\n\u001b[0;32m---> 32\u001b[0;31m             \u001b[0mxi_diff\u001b[0m\u001b[0;34m,\u001b[0m \u001b[0mxi_new_vec\u001b[0m \u001b[0;34m=\u001b[0m \u001b[0mupdater\u001b[0m\u001b[0;34m(\u001b[0m\u001b[0mxi_new_vec\u001b[0m\u001b[0;34m,\u001b[0m \u001b[0mdt\u001b[0m\u001b[0;34m,\u001b[0m \u001b[0mepsilon\u001b[0m\u001b[0;34m)\u001b[0m\u001b[0;34m\u001b[0m\u001b[0;34m\u001b[0m\u001b[0m\n\u001b[0m\u001b[1;32m     33\u001b[0m             \u001b[0mprint\u001b[0m\u001b[0;34m(\u001b[0m\u001b[0mi\u001b[0m\u001b[0;34m)\u001b[0m\u001b[0;34m\u001b[0m\u001b[0;34m\u001b[0m\u001b[0m\n\u001b[1;32m     34\u001b[0m             \u001b[0mprint\u001b[0m\u001b[0;34m(\u001b[0m\u001b[0mamax\u001b[0m\u001b[0;34m(\u001b[0m\u001b[0mxi_diff\u001b[0m\u001b[0;34m)\u001b[0m\u001b[0;34m)\u001b[0m\u001b[0;34m\u001b[0m\u001b[0;34m\u001b[0m\u001b[0m\n",
      "\u001b[0;32m<ipython-input-25-4f67ac32308f>\u001b[0m in \u001b[0;36mupdater\u001b[0;34m(xi_vec, dt, epsilon)\u001b[0m\n\u001b[1;32m      6\u001b[0m     \u001b[0;32mfor\u001b[0m \u001b[0mk\u001b[0m \u001b[0;32min\u001b[0m \u001b[0mrange\u001b[0m\u001b[0;34m(\u001b[0m\u001b[0mxi_vec_size\u001b[0m\u001b[0;34m)\u001b[0m\u001b[0;34m:\u001b[0m\u001b[0;34m\u001b[0m\u001b[0;34m\u001b[0m\u001b[0m\n\u001b[1;32m      7\u001b[0m         \u001b[0;31m# Building the thing to be added to the old function\u001b[0m\u001b[0;34m\u001b[0m\u001b[0;34m\u001b[0m\u001b[0;34m\u001b[0m\u001b[0m\n\u001b[0;32m----> 8\u001b[0;31m         \u001b[0mL_comma_k\u001b[0m \u001b[0;34m=\u001b[0m \u001b[0mL_comma_k_maker\u001b[0m\u001b[0;34m(\u001b[0m\u001b[0mxi_vec\u001b[0m\u001b[0;34m,\u001b[0m \u001b[0mk\u001b[0m\u001b[0;34m,\u001b[0m \u001b[0mdt\u001b[0m\u001b[0;34m)\u001b[0m\u001b[0;34m\u001b[0m\u001b[0;34m\u001b[0m\u001b[0m\n\u001b[0m\u001b[1;32m      9\u001b[0m         \u001b[0mdifferentiated\u001b[0m \u001b[0;34m=\u001b[0m \u001b[0mT\u001b[0m \u001b[0;34m-\u001b[0m \u001b[0mL_comma_k\u001b[0m\u001b[0;34m\u001b[0m\u001b[0;34m\u001b[0m\u001b[0m\n\u001b[1;32m     10\u001b[0m         \u001b[0mplain\u001b[0m \u001b[0;34m=\u001b[0m \u001b[0mT\u001b[0m \u001b[0;34m-\u001b[0m \u001b[0mL_full\u001b[0m\u001b[0;34m\u001b[0m\u001b[0;34m\u001b[0m\u001b[0m\n",
      "\u001b[0;32m<ipython-input-23-67535e4594d1>\u001b[0m in \u001b[0;36mL_comma_k_maker\u001b[0;34m(xi_vec, k, dt)\u001b[0m\n\u001b[1;32m      3\u001b[0m     \u001b[0mN\u001b[0m \u001b[0;34m=\u001b[0m \u001b[0mxi_vec\u001b[0m\u001b[0;34m.\u001b[0m\u001b[0msize\u001b[0m\u001b[0;34m\u001b[0m\u001b[0;34m\u001b[0m\u001b[0m\n\u001b[1;32m      4\u001b[0m     \u001b[0;31m# Determining the size of xi, and thus the time_steps indirectly.\u001b[0m\u001b[0;34m\u001b[0m\u001b[0;34m\u001b[0m\u001b[0;34m\u001b[0m\u001b[0m\n\u001b[0;32m----> 5\u001b[0;31m     \u001b[0mL_v\u001b[0m \u001b[0;34m=\u001b[0m \u001b[0mL_vec\u001b[0m\u001b[0;34m(\u001b[0m\u001b[0mxi_vec\u001b[0m\u001b[0;34m,\u001b[0m \u001b[0mdt\u001b[0m\u001b[0;34m)\u001b[0m\u001b[0;31m# Making of the full $L(t)$\u001b[0m\u001b[0;34m\u001b[0m\u001b[0;34m\u001b[0m\u001b[0m\n\u001b[0m\u001b[1;32m      6\u001b[0m     \u001b[0minner_part\u001b[0m \u001b[0;34m=\u001b[0m \u001b[0mL_I\u001b[0m \u001b[0;31m# Beginner for the for loop\u001b[0m\u001b[0;34m\u001b[0m\u001b[0;34m\u001b[0m\u001b[0m\n\u001b[1;32m      7\u001b[0m     \u001b[0;32mfor\u001b[0m \u001b[0mi\u001b[0m \u001b[0;32min\u001b[0m \u001b[0mrange\u001b[0m\u001b[0;34m(\u001b[0m\u001b[0mN\u001b[0m\u001b[0;34m)\u001b[0m\u001b[0;34m:\u001b[0m\u001b[0;34m\u001b[0m\u001b[0;34m\u001b[0m\u001b[0m\n",
      "\u001b[0;32m<ipython-input-11-27bcc02fbdf8>\u001b[0m in \u001b[0;36mL_vec\u001b[0;34m(xi_vec, dt)\u001b[0m\n\u001b[1;32m      2\u001b[0m \u001b[0;32mdef\u001b[0m \u001b[0mL_vec\u001b[0m\u001b[0;34m(\u001b[0m\u001b[0mxi_vec\u001b[0m\u001b[0;34m,\u001b[0m \u001b[0mdt\u001b[0m\u001b[0;34m)\u001b[0m\u001b[0;34m:\u001b[0m\u001b[0;34m\u001b[0m\u001b[0;34m\u001b[0m\u001b[0m\n\u001b[1;32m      3\u001b[0m     \u001b[0;34mr\"\"\"Building the vector of differential $L(t)$\"\"\"\u001b[0m\u001b[0;34m\u001b[0m\u001b[0;34m\u001b[0m\u001b[0m\n\u001b[0;32m----> 4\u001b[0;31m     \u001b[0mL_vec\u001b[0m \u001b[0;34m=\u001b[0m \u001b[0;34m[\u001b[0m\u001b[0mL\u001b[0m\u001b[0;34m(\u001b[0m\u001b[0mxi\u001b[0m\u001b[0;34m,\u001b[0m \u001b[0mdt\u001b[0m\u001b[0;34m)\u001b[0m \u001b[0;32mfor\u001b[0m \u001b[0mxi\u001b[0m \u001b[0;32min\u001b[0m \u001b[0mxi_vec\u001b[0m\u001b[0;34m]\u001b[0m\u001b[0;34m\u001b[0m\u001b[0;34m\u001b[0m\u001b[0m\n\u001b[0m\u001b[1;32m      5\u001b[0m     \u001b[0;32mreturn\u001b[0m \u001b[0mL_vec\u001b[0m\u001b[0;34m\u001b[0m\u001b[0;34m\u001b[0m\u001b[0m\n",
      "\u001b[0;32m<ipython-input-11-27bcc02fbdf8>\u001b[0m in \u001b[0;36m<listcomp>\u001b[0;34m(.0)\u001b[0m\n\u001b[1;32m      2\u001b[0m \u001b[0;32mdef\u001b[0m \u001b[0mL_vec\u001b[0m\u001b[0;34m(\u001b[0m\u001b[0mxi_vec\u001b[0m\u001b[0;34m,\u001b[0m \u001b[0mdt\u001b[0m\u001b[0;34m)\u001b[0m\u001b[0;34m:\u001b[0m\u001b[0;34m\u001b[0m\u001b[0;34m\u001b[0m\u001b[0m\n\u001b[1;32m      3\u001b[0m     \u001b[0;34mr\"\"\"Building the vector of differential $L(t)$\"\"\"\u001b[0m\u001b[0;34m\u001b[0m\u001b[0;34m\u001b[0m\u001b[0m\n\u001b[0;32m----> 4\u001b[0;31m     \u001b[0mL_vec\u001b[0m \u001b[0;34m=\u001b[0m \u001b[0;34m[\u001b[0m\u001b[0mL\u001b[0m\u001b[0;34m(\u001b[0m\u001b[0mxi\u001b[0m\u001b[0;34m,\u001b[0m \u001b[0mdt\u001b[0m\u001b[0;34m)\u001b[0m \u001b[0;32mfor\u001b[0m \u001b[0mxi\u001b[0m \u001b[0;32min\u001b[0m \u001b[0mxi_vec\u001b[0m\u001b[0;34m]\u001b[0m\u001b[0;34m\u001b[0m\u001b[0;34m\u001b[0m\u001b[0m\n\u001b[0m\u001b[1;32m      5\u001b[0m     \u001b[0;32mreturn\u001b[0m \u001b[0mL_vec\u001b[0m\u001b[0;34m\u001b[0m\u001b[0;34m\u001b[0m\u001b[0m\n",
      "\u001b[0;32m<ipython-input-9-11b160f3fc69>\u001b[0m in \u001b[0;36mL\u001b[0;34m(xi, dt)\u001b[0m\n\u001b[1;32m      1\u001b[0m \u001b[0;32mdef\u001b[0m \u001b[0mL\u001b[0m\u001b[0;34m(\u001b[0m\u001b[0mxi\u001b[0m\u001b[0;34m,\u001b[0m \u001b[0mdt\u001b[0m\u001b[0;34m)\u001b[0m\u001b[0;34m:\u001b[0m\u001b[0;34m\u001b[0m\u001b[0;34m\u001b[0m\u001b[0m\n\u001b[1;32m      2\u001b[0m     \u001b[0;34mr\"\"\"Making $L(t) from $A(t)$\"\"\"\u001b[0m\u001b[0;34m\u001b[0m\u001b[0;34m\u001b[0m\u001b[0m\n\u001b[0;32m----> 3\u001b[0;31m     \u001b[0mL\u001b[0m \u001b[0;34m=\u001b[0m \u001b[0;34m(\u001b[0m\u001b[0;34m-\u001b[0m\u001b[0;36m1j\u001b[0m\u001b[0;34m*\u001b[0m\u001b[0mA\u001b[0m\u001b[0;34m(\u001b[0m\u001b[0mxi\u001b[0m\u001b[0;34m)\u001b[0m\u001b[0;34m*\u001b[0m\u001b[0mdt\u001b[0m\u001b[0;34m)\u001b[0m\u001b[0;34m.\u001b[0m\u001b[0mexpm\u001b[0m\u001b[0;34m(\u001b[0m\u001b[0;34m)\u001b[0m\u001b[0;34m\u001b[0m\u001b[0;34m\u001b[0m\u001b[0m\n\u001b[0m\u001b[1;32m      4\u001b[0m     \u001b[0;32mreturn\u001b[0m \u001b[0mL\u001b[0m\u001b[0;34m\u001b[0m\u001b[0;34m\u001b[0m\u001b[0m\n",
      "\u001b[0;32m<ipython-input-7-8d6e1dbbb110>\u001b[0m in \u001b[0;36mA\u001b[0;34m(xi)\u001b[0m\n\u001b[1;32m      1\u001b[0m \u001b[0;32mdef\u001b[0m \u001b[0mA\u001b[0m\u001b[0;34m(\u001b[0m\u001b[0mxi\u001b[0m\u001b[0;34m)\u001b[0m\u001b[0;34m:\u001b[0m\u001b[0;34m\u001b[0m\u001b[0;34m\u001b[0m\u001b[0m\n\u001b[1;32m      2\u001b[0m     \u001b[0;34mr\"\"\"making $A(t)$\"\"\"\u001b[0m\u001b[0;34m\u001b[0m\u001b[0;34m\u001b[0m\u001b[0m\n\u001b[0;32m----> 3\u001b[0;31m     \u001b[0mA\u001b[0m \u001b[0;34m=\u001b[0m \u001b[0mih0\u001b[0m \u001b[0;34m-\u001b[0m \u001b[0mh0ci\u001b[0m \u001b[0;34m+\u001b[0m \u001b[0mxi\u001b[0m\u001b[0;34m*\u001b[0m\u001b[0;34m(\u001b[0m\u001b[0mih1\u001b[0m \u001b[0;34m-\u001b[0m \u001b[0mh1ci\u001b[0m\u001b[0;34m)\u001b[0m \u001b[0;34m+\u001b[0m \u001b[0mlindbladian\u001b[0m\u001b[0;34m\u001b[0m\u001b[0;34m\u001b[0m\u001b[0m\n\u001b[0m\u001b[1;32m      4\u001b[0m     \u001b[0;32mreturn\u001b[0m \u001b[0mA\u001b[0m\u001b[0;34m\u001b[0m\u001b[0;34m\u001b[0m\u001b[0m\n",
      "\u001b[0;32m/anaconda3/envs/qutip-env/lib/python3.6/site-packages/qutip/qobj.py\u001b[0m in \u001b[0;36m__sub__\u001b[0;34m(self, other)\u001b[0m\n\u001b[1;32m    445\u001b[0m         \u001b[0mSUBTRACTION\u001b[0m \u001b[0;32mwith\u001b[0m \u001b[0mQobj\u001b[0m \u001b[0mon\u001b[0m \u001b[0mLEFT\u001b[0m \u001b[0;34m[\u001b[0m \u001b[0mex\u001b[0m\u001b[0;34m.\u001b[0m \u001b[0mQobj\u001b[0m\u001b[0;34m-\u001b[0m\u001b[0;36m4\u001b[0m \u001b[0;34m]\u001b[0m\u001b[0;34m\u001b[0m\u001b[0;34m\u001b[0m\u001b[0m\n\u001b[1;32m    446\u001b[0m         \"\"\"\n\u001b[0;32m--> 447\u001b[0;31m         \u001b[0;32mreturn\u001b[0m \u001b[0mself\u001b[0m \u001b[0;34m+\u001b[0m \u001b[0;34m(\u001b[0m\u001b[0;34m-\u001b[0m\u001b[0mother\u001b[0m\u001b[0;34m)\u001b[0m\u001b[0;34m\u001b[0m\u001b[0;34m\u001b[0m\u001b[0m\n\u001b[0m\u001b[1;32m    448\u001b[0m \u001b[0;34m\u001b[0m\u001b[0m\n\u001b[1;32m    449\u001b[0m     \u001b[0;32mdef\u001b[0m \u001b[0m__rsub__\u001b[0m\u001b[0;34m(\u001b[0m\u001b[0mself\u001b[0m\u001b[0;34m,\u001b[0m \u001b[0mother\u001b[0m\u001b[0;34m)\u001b[0m\u001b[0;34m:\u001b[0m\u001b[0;34m\u001b[0m\u001b[0;34m\u001b[0m\u001b[0m\n",
      "\u001b[0;32m/anaconda3/envs/qutip-env/lib/python3.6/site-packages/qutip/qobj.py\u001b[0m in \u001b[0;36m__neg__\u001b[0;34m(self)\u001b[0m\n\u001b[1;32m    617\u001b[0m         \u001b[0mNEGATION\u001b[0m \u001b[0moperation\u001b[0m\u001b[0;34m.\u001b[0m\u001b[0;34m\u001b[0m\u001b[0;34m\u001b[0m\u001b[0m\n\u001b[1;32m    618\u001b[0m         \"\"\"\n\u001b[0;32m--> 619\u001b[0;31m         \u001b[0mout\u001b[0m \u001b[0;34m=\u001b[0m \u001b[0mQobj\u001b[0m\u001b[0;34m(\u001b[0m\u001b[0;34m)\u001b[0m\u001b[0;34m\u001b[0m\u001b[0;34m\u001b[0m\u001b[0m\n\u001b[0m\u001b[1;32m    620\u001b[0m         \u001b[0mout\u001b[0m\u001b[0;34m.\u001b[0m\u001b[0mdata\u001b[0m \u001b[0;34m=\u001b[0m \u001b[0;34m-\u001b[0m\u001b[0mself\u001b[0m\u001b[0;34m.\u001b[0m\u001b[0mdata\u001b[0m\u001b[0;34m\u001b[0m\u001b[0;34m\u001b[0m\u001b[0m\n\u001b[1;32m    621\u001b[0m         \u001b[0mout\u001b[0m\u001b[0;34m.\u001b[0m\u001b[0mdims\u001b[0m \u001b[0;34m=\u001b[0m \u001b[0mself\u001b[0m\u001b[0;34m.\u001b[0m\u001b[0mdims\u001b[0m\u001b[0;34m\u001b[0m\u001b[0;34m\u001b[0m\u001b[0m\n",
      "\u001b[0;32m/anaconda3/envs/qutip-env/lib/python3.6/site-packages/qutip/qobj.py\u001b[0m in \u001b[0;36m__init__\u001b[0;34m(self, inpt, dims, shape, type, isherm, copy, fast, superrep)\u001b[0m\n\u001b[1;32m    253\u001b[0m                 \u001b[0mself\u001b[0m\u001b[0;34m.\u001b[0m\u001b[0mdims\u001b[0m \u001b[0;34m=\u001b[0m \u001b[0;34m[\u001b[0m\u001b[0;34m[\u001b[0m\u001b[0mN\u001b[0m\u001b[0;34m]\u001b[0m\u001b[0;34m,\u001b[0m \u001b[0;34m[\u001b[0m\u001b[0mM\u001b[0m\u001b[0;34m]\u001b[0m\u001b[0;34m]\u001b[0m\u001b[0;34m\u001b[0m\u001b[0;34m\u001b[0m\u001b[0m\n\u001b[1;32m    254\u001b[0m \u001b[0;34m\u001b[0m\u001b[0m\n\u001b[0;32m--> 255\u001b[0;31m             \u001b[0mself\u001b[0m\u001b[0;34m.\u001b[0m\u001b[0m_data\u001b[0m \u001b[0;34m=\u001b[0m \u001b[0mfast_csr_matrix\u001b[0m\u001b[0;34m(\u001b[0m\u001b[0mshape\u001b[0m\u001b[0;34m=\u001b[0m\u001b[0;34m(\u001b[0m\u001b[0mN\u001b[0m\u001b[0;34m,\u001b[0m \u001b[0mM\u001b[0m\u001b[0;34m)\u001b[0m\u001b[0;34m)\u001b[0m\u001b[0;34m\u001b[0m\u001b[0;34m\u001b[0m\u001b[0m\n\u001b[0m\u001b[1;32m    256\u001b[0m \u001b[0;34m\u001b[0m\u001b[0m\n\u001b[1;32m    257\u001b[0m         \u001b[0;32melif\u001b[0m \u001b[0misinstance\u001b[0m\u001b[0;34m(\u001b[0m\u001b[0minpt\u001b[0m\u001b[0;34m,\u001b[0m \u001b[0mlist\u001b[0m\u001b[0;34m)\u001b[0m \u001b[0;32mor\u001b[0m \u001b[0misinstance\u001b[0m\u001b[0;34m(\u001b[0m\u001b[0minpt\u001b[0m\u001b[0;34m,\u001b[0m \u001b[0mtuple\u001b[0m\u001b[0;34m)\u001b[0m\u001b[0;34m:\u001b[0m\u001b[0;34m\u001b[0m\u001b[0;34m\u001b[0m\u001b[0m\n",
      "\u001b[0;32m/anaconda3/envs/qutip-env/lib/python3.6/site-packages/qutip/fastsparse.py\u001b[0m in \u001b[0;36m__init__\u001b[0;34m(self, args, shape, dtype, copy)\u001b[0m\n\u001b[1;32m     51\u001b[0m             \u001b[0mself\u001b[0m\u001b[0;34m.\u001b[0m\u001b[0mdata\u001b[0m \u001b[0;34m=\u001b[0m \u001b[0mnp\u001b[0m\u001b[0;34m.\u001b[0m\u001b[0marray\u001b[0m\u001b[0;34m(\u001b[0m\u001b[0;34m[\u001b[0m\u001b[0;34m]\u001b[0m\u001b[0;34m,\u001b[0m \u001b[0mdtype\u001b[0m\u001b[0;34m=\u001b[0m\u001b[0mcomplex\u001b[0m\u001b[0;34m)\u001b[0m\u001b[0;34m\u001b[0m\u001b[0;34m\u001b[0m\u001b[0m\n\u001b[1;32m     52\u001b[0m             \u001b[0mself\u001b[0m\u001b[0;34m.\u001b[0m\u001b[0mindices\u001b[0m \u001b[0;34m=\u001b[0m \u001b[0mnp\u001b[0m\u001b[0;34m.\u001b[0m\u001b[0marray\u001b[0m\u001b[0;34m(\u001b[0m\u001b[0;34m[\u001b[0m\u001b[0;34m]\u001b[0m\u001b[0;34m,\u001b[0m \u001b[0mdtype\u001b[0m\u001b[0;34m=\u001b[0m\u001b[0mnp\u001b[0m\u001b[0;34m.\u001b[0m\u001b[0mint32\u001b[0m\u001b[0;34m)\u001b[0m\u001b[0;34m\u001b[0m\u001b[0;34m\u001b[0m\u001b[0m\n\u001b[0;32m---> 53\u001b[0;31m             \u001b[0mself\u001b[0m\u001b[0;34m.\u001b[0m\u001b[0mindptr\u001b[0m \u001b[0;34m=\u001b[0m \u001b[0mnp\u001b[0m\u001b[0;34m.\u001b[0m\u001b[0mzeros\u001b[0m\u001b[0;34m(\u001b[0m\u001b[0mshape\u001b[0m\u001b[0;34m[\u001b[0m\u001b[0;36m0\u001b[0m\u001b[0;34m]\u001b[0m\u001b[0;34m+\u001b[0m\u001b[0;36m1\u001b[0m\u001b[0;34m,\u001b[0m \u001b[0mdtype\u001b[0m\u001b[0;34m=\u001b[0m\u001b[0mnp\u001b[0m\u001b[0;34m.\u001b[0m\u001b[0mint32\u001b[0m\u001b[0;34m)\u001b[0m\u001b[0;34m\u001b[0m\u001b[0;34m\u001b[0m\u001b[0m\n\u001b[0m\u001b[1;32m     54\u001b[0m             \u001b[0mself\u001b[0m\u001b[0;34m.\u001b[0m\u001b[0m_shape\u001b[0m \u001b[0;34m=\u001b[0m \u001b[0mtuple\u001b[0m\u001b[0;34m(\u001b[0m\u001b[0mint\u001b[0m\u001b[0;34m(\u001b[0m\u001b[0ms\u001b[0m\u001b[0;34m)\u001b[0m \u001b[0;32mfor\u001b[0m \u001b[0ms\u001b[0m \u001b[0;32min\u001b[0m \u001b[0mshape\u001b[0m\u001b[0;34m)\u001b[0m\u001b[0;34m\u001b[0m\u001b[0;34m\u001b[0m\u001b[0m\n\u001b[1;32m     55\u001b[0m \u001b[0;34m\u001b[0m\u001b[0m\n",
      "\u001b[0;31mKeyboardInterrupt\u001b[0m: "
     ]
    }
   ],
   "source": [
    "xi_opt = terminator(10)"
   ]
  },
  {
   "cell_type": "code",
   "execution_count": null,
   "metadata": {
    "ExecuteTime": {
     "end_time": "2019-02-16T17:11:42.185512Z",
     "start_time": "2019-02-16T15:42:39.564Z"
    }
   },
   "outputs": [],
   "source": [
    "time_steps=len(times)\n",
    "total_time= total_time_evo\n",
    "epsilon= 2*pi*1"
   ]
  },
  {
   "cell_type": "code",
   "execution_count": null,
   "metadata": {
    "ExecuteTime": {
     "end_time": "2019-02-16T17:11:42.188810Z",
     "start_time": "2019-02-16T15:42:39.567Z"
    }
   },
   "outputs": [],
   "source": [
    "dt = (2*pi)/500\n",
    "F(xi_opt, dt)"
   ]
  },
  {
   "cell_type": "code",
   "execution_count": null,
   "metadata": {
    "ExecuteTime": {
     "end_time": "2019-02-16T17:11:42.189947Z",
     "start_time": "2019-02-16T15:42:39.570Z"
    }
   },
   "outputs": [],
   "source": [
    "L_full_maker(xi_opt, dt)"
   ]
  },
  {
   "cell_type": "code",
   "execution_count": null,
   "metadata": {
    "ExecuteTime": {
     "end_time": "2019-02-16T17:11:42.191344Z",
     "start_time": "2019-02-16T15:42:39.572Z"
    }
   },
   "outputs": [],
   "source": [
    "ax = axes()\n",
    "ax.plot(times, xi_opt)\n",
    "xi_max = amax(xi_opt) + 0.1\n",
    "xi_min = amin(xi_opt) - 0.1\n",
    "\n",
    "ax.set(xlim=(0, total_time_evo), ylim=(xi_min, xi_max),\n",
    "       xlabel='time', ylabel= r'$g_{with diss}$',\n",
    "       title='Control field in the presence of dissipation');"
   ]
  },
  {
   "cell_type": "markdown",
   "metadata": {},
   "source": [
    "### try"
   ]
  },
  {
   "cell_type": "code",
   "execution_count": null,
   "metadata": {
    "ExecuteTime": {
     "end_time": "2019-02-15T04:25:13.628468Z",
     "start_time": "2019-02-15T04:18:05.450Z"
    }
   },
   "outputs": [],
   "source": [
    "xi_opt = terminator(1000)"
   ]
  },
  {
   "cell_type": "code",
   "execution_count": null,
   "metadata": {
    "ExecuteTime": {
     "end_time": "2019-02-15T04:25:13.629889Z",
     "start_time": "2019-02-15T04:18:05.452Z"
    }
   },
   "outputs": [],
   "source": [
    "time_steps=len(times)\n",
    "total_time= total_time_evo\n",
    "epsilon= 2*pi*1"
   ]
  },
  {
   "cell_type": "code",
   "execution_count": null,
   "metadata": {
    "ExecuteTime": {
     "end_time": "2019-02-15T04:25:13.631226Z",
     "start_time": "2019-02-15T04:18:05.455Z"
    }
   },
   "outputs": [],
   "source": [
    "dt = (2*pi)/500\n",
    "F(xi_opt, dt)"
   ]
  },
  {
   "cell_type": "code",
   "execution_count": null,
   "metadata": {
    "ExecuteTime": {
     "end_time": "2019-02-15T04:25:13.632491Z",
     "start_time": "2019-02-15T04:18:05.459Z"
    }
   },
   "outputs": [],
   "source": [
    "L_full_maker(xi_opt, dt)"
   ]
  },
  {
   "cell_type": "code",
   "execution_count": null,
   "metadata": {
    "ExecuteTime": {
     "end_time": "2019-02-15T04:25:13.634224Z",
     "start_time": "2019-02-15T04:18:05.462Z"
    }
   },
   "outputs": [],
   "source": [
    "ax = axes()\n",
    "ax.plot(times, xi_opt)\n",
    "xi_max = amax(xi_opt) + 0.1\n",
    "xi_min = amin(xi_opt) - 0.1\n",
    "\n",
    "ax.set(xlim=(0, total_time_evo), ylim=(xi_min, xi_max),\n",
    "       xlabel='time', ylabel= r'$g_{with diss}$',\n",
    "       title='Control field in the presence of dissipation');"
   ]
  },
  {
   "cell_type": "markdown",
   "metadata": {},
   "source": [
    "### try"
   ]
  },
  {
   "cell_type": "code",
   "execution_count": null,
   "metadata": {
    "ExecuteTime": {
     "end_time": "2019-02-15T04:25:13.635430Z",
     "start_time": "2019-02-15T04:18:05.573Z"
    }
   },
   "outputs": [],
   "source": [
    "xi_opt = terminator(1000,time_steps=len(times), total_time= total_time_evo,\n",
    "               epsilon= ((0.1*2*pi)/(times[-1])))"
   ]
  },
  {
   "cell_type": "code",
   "execution_count": null,
   "metadata": {
    "ExecuteTime": {
     "end_time": "2019-02-15T04:25:13.637190Z",
     "start_time": "2019-02-15T04:18:05.575Z"
    }
   },
   "outputs": [],
   "source": [
    "time_steps=len(times)\n",
    "total_time= total_time_evo\n",
    "epsilon = ((0.1*2*pi)/(times[-1]))"
   ]
  },
  {
   "cell_type": "code",
   "execution_count": null,
   "metadata": {
    "ExecuteTime": {
     "end_time": "2019-02-15T04:25:13.638538Z",
     "start_time": "2019-02-15T04:18:05.577Z"
    }
   },
   "outputs": [],
   "source": [
    "dt = (2*pi)/500\n",
    "F(xi_opt, dt)"
   ]
  },
  {
   "cell_type": "code",
   "execution_count": null,
   "metadata": {
    "ExecuteTime": {
     "end_time": "2019-02-15T04:25:13.639962Z",
     "start_time": "2019-02-15T04:18:05.583Z"
    }
   },
   "outputs": [],
   "source": [
    "L_full_maker(xi_opt, dt)"
   ]
  },
  {
   "cell_type": "code",
   "execution_count": null,
   "metadata": {
    "ExecuteTime": {
     "end_time": "2019-02-15T04:25:13.641333Z",
     "start_time": "2019-02-15T04:18:05.586Z"
    }
   },
   "outputs": [],
   "source": [
    "ax = axes()\n",
    "ax.plot(times, xi_opt)\n",
    "xi_max = amax(xi_opt) + 0.1\n",
    "xi_min = amin(xi_opt) - 0.1\n",
    "\n",
    "ax.set(xlim=(0, total_time_evo), ylim=(xi_min, xi_max),\n",
    "       xlabel='time', ylabel= r'$g_{with diss}$',\n",
    "       title='Control field in the presence of dissipation');"
   ]
  },
  {
   "cell_type": "markdown",
   "metadata": {},
   "source": [
    "### try"
   ]
  },
  {
   "cell_type": "code",
   "execution_count": null,
   "metadata": {
    "ExecuteTime": {
     "end_time": "2019-02-15T04:25:13.643026Z",
     "start_time": "2019-02-15T04:18:05.699Z"
    }
   },
   "outputs": [],
   "source": [
    "xi_opt = terminator(10,time_steps=len(times), total_time= total_time_evo,\n",
    "               epsilon= ((0.1*2*pi)/(times[-1])))"
   ]
  },
  {
   "cell_type": "code",
   "execution_count": null,
   "metadata": {
    "ExecuteTime": {
     "end_time": "2019-02-15T04:25:13.644316Z",
     "start_time": "2019-02-15T04:18:05.702Z"
    }
   },
   "outputs": [],
   "source": [
    "time_steps=len(times)\n",
    "total_time= total_time_evo\n",
    "epsilon = ((0.1*2*pi)/(times[-1]))"
   ]
  },
  {
   "cell_type": "code",
   "execution_count": null,
   "metadata": {
    "ExecuteTime": {
     "end_time": "2019-02-15T04:25:13.645745Z",
     "start_time": "2019-02-15T04:18:05.704Z"
    }
   },
   "outputs": [],
   "source": [
    "dt = (2*pi)/500\n",
    "F(xi_opt, dt)"
   ]
  },
  {
   "cell_type": "code",
   "execution_count": null,
   "metadata": {
    "ExecuteTime": {
     "end_time": "2019-02-15T04:25:13.647130Z",
     "start_time": "2019-02-15T04:18:05.708Z"
    }
   },
   "outputs": [],
   "source": [
    "L_full_maker(xi_opt, dt)"
   ]
  },
  {
   "cell_type": "code",
   "execution_count": null,
   "metadata": {
    "ExecuteTime": {
     "end_time": "2019-02-15T04:25:13.648635Z",
     "start_time": "2019-02-15T04:18:05.711Z"
    }
   },
   "outputs": [],
   "source": [
    "ax = axes()\n",
    "ax.plot(times, xi_opt)\n",
    "xi_max = amax(xi_opt) + 0.1\n",
    "xi_min = amin(xi_opt) - 0.1\n",
    "\n",
    "ax.set(xlim=(0, total_time_evo), ylim=(xi_min, xi_max),\n",
    "       xlabel='time', ylabel= r'$g_{with diss}$',\n",
    "       title='Control field in the presence of dissipation');"
   ]
  },
  {
   "cell_type": "markdown",
   "metadata": {},
   "source": [
    "### try"
   ]
  },
  {
   "cell_type": "code",
   "execution_count": 60,
   "metadata": {
    "ExecuteTime": {
     "end_time": "2019-02-16T18:50:07.228134Z",
     "start_time": "2019-02-16T17:11:52.043515Z"
    }
   },
   "outputs": [
    {
     "name": "stdout",
     "output_type": "stream",
     "text": [
      "Hi\n",
      "Normal life\n",
      "0\n",
      "(-0.0020753802050400127+0j)\n",
      "Normal life\n",
      "1\n",
      "(-0.0020758775090462473+0j)\n",
      "Normal life\n",
      "2\n",
      "(-0.002076438043270584+0j)\n",
      "Normal life\n",
      "3\n",
      "(-0.0020770614187241693+0j)\n",
      "Normal life\n",
      "4\n",
      "(-0.0020777472605922106+0j)\n",
      "Normal life\n",
      "5\n",
      "(-0.002078495208357109+0j)\n",
      "Normal life\n",
      "6\n",
      "(-0.002079304915924397+0j)\n",
      "Normal life\n",
      "7\n",
      "(-0.0020801760517516078+0j)\n",
      "Normal life\n",
      "8\n",
      "(-0.00208110829897979+0j)\n",
      "Normal life\n",
      "9\n",
      "(-0.0020821013555678103+0j)\n",
      "Normal life\n",
      "10\n",
      "(-0.002083154934429446+0j)\n",
      "Normal life\n",
      "11\n",
      "(-0.0020842687635728094+0j)\n",
      "Normal life\n"
     ]
    },
    {
     "ename": "KeyboardInterrupt",
     "evalue": "",
     "output_type": "error",
     "traceback": [
      "\u001b[0;31m---------------------------------------------------------------------------\u001b[0m",
      "\u001b[0;31mKeyboardInterrupt\u001b[0m                         Traceback (most recent call last)",
      "\u001b[0;32m<ipython-input-60-b27b0eae6bba>\u001b[0m in \u001b[0;36m<module>\u001b[0;34m()\u001b[0m\n\u001b[1;32m      1\u001b[0m xi_opt = terminator(1000,time_steps=len(times), total_time= total_time_evo,\n\u001b[0;32m----> 2\u001b[0;31m                epsilon= ((0.1*2*pi)/(10**3)))\n\u001b[0m",
      "\u001b[0;32m<ipython-input-57-bcb4276ed640>\u001b[0m in \u001b[0;36mterminator\u001b[0;34m(max_iter, time_steps, total_time, epsilon)\u001b[0m\n\u001b[1;32m     30\u001b[0m         \u001b[0;32melse\u001b[0m \u001b[0;34m:\u001b[0m\u001b[0;34m\u001b[0m\u001b[0;34m\u001b[0m\u001b[0m\n\u001b[1;32m     31\u001b[0m             \u001b[0mprint\u001b[0m\u001b[0;34m(\u001b[0m\u001b[0;34m\"Normal life\"\u001b[0m\u001b[0;34m)\u001b[0m\u001b[0;34m\u001b[0m\u001b[0;34m\u001b[0m\u001b[0m\n\u001b[0;32m---> 32\u001b[0;31m             \u001b[0mxi_diff\u001b[0m\u001b[0;34m,\u001b[0m \u001b[0mxi_new_vec\u001b[0m \u001b[0;34m=\u001b[0m \u001b[0mupdater\u001b[0m\u001b[0;34m(\u001b[0m\u001b[0mxi_new_vec\u001b[0m\u001b[0;34m,\u001b[0m \u001b[0mdt\u001b[0m\u001b[0;34m,\u001b[0m \u001b[0mepsilon\u001b[0m\u001b[0;34m)\u001b[0m\u001b[0;34m\u001b[0m\u001b[0;34m\u001b[0m\u001b[0m\n\u001b[0m\u001b[1;32m     33\u001b[0m             \u001b[0mprint\u001b[0m\u001b[0;34m(\u001b[0m\u001b[0mi\u001b[0m\u001b[0;34m)\u001b[0m\u001b[0;34m\u001b[0m\u001b[0;34m\u001b[0m\u001b[0m\n\u001b[1;32m     34\u001b[0m             \u001b[0mprint\u001b[0m\u001b[0;34m(\u001b[0m\u001b[0mamax\u001b[0m\u001b[0;34m(\u001b[0m\u001b[0mxi_diff\u001b[0m\u001b[0;34m)\u001b[0m\u001b[0;34m)\u001b[0m\u001b[0;34m\u001b[0m\u001b[0;34m\u001b[0m\u001b[0m\n",
      "\u001b[0;32m<ipython-input-25-4f67ac32308f>\u001b[0m in \u001b[0;36mupdater\u001b[0;34m(xi_vec, dt, epsilon)\u001b[0m\n\u001b[1;32m      6\u001b[0m     \u001b[0;32mfor\u001b[0m \u001b[0mk\u001b[0m \u001b[0;32min\u001b[0m \u001b[0mrange\u001b[0m\u001b[0;34m(\u001b[0m\u001b[0mxi_vec_size\u001b[0m\u001b[0;34m)\u001b[0m\u001b[0;34m:\u001b[0m\u001b[0;34m\u001b[0m\u001b[0;34m\u001b[0m\u001b[0m\n\u001b[1;32m      7\u001b[0m         \u001b[0;31m# Building the thing to be added to the old function\u001b[0m\u001b[0;34m\u001b[0m\u001b[0;34m\u001b[0m\u001b[0;34m\u001b[0m\u001b[0m\n\u001b[0;32m----> 8\u001b[0;31m         \u001b[0mL_comma_k\u001b[0m \u001b[0;34m=\u001b[0m \u001b[0mL_comma_k_maker\u001b[0m\u001b[0;34m(\u001b[0m\u001b[0mxi_vec\u001b[0m\u001b[0;34m,\u001b[0m \u001b[0mk\u001b[0m\u001b[0;34m,\u001b[0m \u001b[0mdt\u001b[0m\u001b[0;34m)\u001b[0m\u001b[0;34m\u001b[0m\u001b[0;34m\u001b[0m\u001b[0m\n\u001b[0m\u001b[1;32m      9\u001b[0m         \u001b[0mdifferentiated\u001b[0m \u001b[0;34m=\u001b[0m \u001b[0mT\u001b[0m \u001b[0;34m-\u001b[0m \u001b[0mL_comma_k\u001b[0m\u001b[0;34m\u001b[0m\u001b[0;34m\u001b[0m\u001b[0m\n\u001b[1;32m     10\u001b[0m         \u001b[0mplain\u001b[0m \u001b[0;34m=\u001b[0m \u001b[0mT\u001b[0m \u001b[0;34m-\u001b[0m \u001b[0mL_full\u001b[0m\u001b[0;34m\u001b[0m\u001b[0;34m\u001b[0m\u001b[0m\n",
      "\u001b[0;32m<ipython-input-23-67535e4594d1>\u001b[0m in \u001b[0;36mL_comma_k_maker\u001b[0;34m(xi_vec, k, dt)\u001b[0m\n\u001b[1;32m      3\u001b[0m     \u001b[0mN\u001b[0m \u001b[0;34m=\u001b[0m \u001b[0mxi_vec\u001b[0m\u001b[0;34m.\u001b[0m\u001b[0msize\u001b[0m\u001b[0;34m\u001b[0m\u001b[0;34m\u001b[0m\u001b[0m\n\u001b[1;32m      4\u001b[0m     \u001b[0;31m# Determining the size of xi, and thus the time_steps indirectly.\u001b[0m\u001b[0;34m\u001b[0m\u001b[0;34m\u001b[0m\u001b[0;34m\u001b[0m\u001b[0m\n\u001b[0;32m----> 5\u001b[0;31m     \u001b[0mL_v\u001b[0m \u001b[0;34m=\u001b[0m \u001b[0mL_vec\u001b[0m\u001b[0;34m(\u001b[0m\u001b[0mxi_vec\u001b[0m\u001b[0;34m,\u001b[0m \u001b[0mdt\u001b[0m\u001b[0;34m)\u001b[0m\u001b[0;31m# Making of the full $L(t)$\u001b[0m\u001b[0;34m\u001b[0m\u001b[0;34m\u001b[0m\u001b[0m\n\u001b[0m\u001b[1;32m      6\u001b[0m     \u001b[0minner_part\u001b[0m \u001b[0;34m=\u001b[0m \u001b[0mL_I\u001b[0m \u001b[0;31m# Beginner for the for loop\u001b[0m\u001b[0;34m\u001b[0m\u001b[0;34m\u001b[0m\u001b[0m\n\u001b[1;32m      7\u001b[0m     \u001b[0;32mfor\u001b[0m \u001b[0mi\u001b[0m \u001b[0;32min\u001b[0m \u001b[0mrange\u001b[0m\u001b[0;34m(\u001b[0m\u001b[0mN\u001b[0m\u001b[0;34m)\u001b[0m\u001b[0;34m:\u001b[0m\u001b[0;34m\u001b[0m\u001b[0;34m\u001b[0m\u001b[0m\n",
      "\u001b[0;32m<ipython-input-11-27bcc02fbdf8>\u001b[0m in \u001b[0;36mL_vec\u001b[0;34m(xi_vec, dt)\u001b[0m\n\u001b[1;32m      2\u001b[0m \u001b[0;32mdef\u001b[0m \u001b[0mL_vec\u001b[0m\u001b[0;34m(\u001b[0m\u001b[0mxi_vec\u001b[0m\u001b[0;34m,\u001b[0m \u001b[0mdt\u001b[0m\u001b[0;34m)\u001b[0m\u001b[0;34m:\u001b[0m\u001b[0;34m\u001b[0m\u001b[0;34m\u001b[0m\u001b[0m\n\u001b[1;32m      3\u001b[0m     \u001b[0;34mr\"\"\"Building the vector of differential $L(t)$\"\"\"\u001b[0m\u001b[0;34m\u001b[0m\u001b[0;34m\u001b[0m\u001b[0m\n\u001b[0;32m----> 4\u001b[0;31m     \u001b[0mL_vec\u001b[0m \u001b[0;34m=\u001b[0m \u001b[0;34m[\u001b[0m\u001b[0mL\u001b[0m\u001b[0;34m(\u001b[0m\u001b[0mxi\u001b[0m\u001b[0;34m,\u001b[0m \u001b[0mdt\u001b[0m\u001b[0;34m)\u001b[0m \u001b[0;32mfor\u001b[0m \u001b[0mxi\u001b[0m \u001b[0;32min\u001b[0m \u001b[0mxi_vec\u001b[0m\u001b[0;34m]\u001b[0m\u001b[0;34m\u001b[0m\u001b[0;34m\u001b[0m\u001b[0m\n\u001b[0m\u001b[1;32m      5\u001b[0m     \u001b[0;32mreturn\u001b[0m \u001b[0mL_vec\u001b[0m\u001b[0;34m\u001b[0m\u001b[0;34m\u001b[0m\u001b[0m\n",
      "\u001b[0;32m<ipython-input-11-27bcc02fbdf8>\u001b[0m in \u001b[0;36m<listcomp>\u001b[0;34m(.0)\u001b[0m\n\u001b[1;32m      2\u001b[0m \u001b[0;32mdef\u001b[0m \u001b[0mL_vec\u001b[0m\u001b[0;34m(\u001b[0m\u001b[0mxi_vec\u001b[0m\u001b[0;34m,\u001b[0m \u001b[0mdt\u001b[0m\u001b[0;34m)\u001b[0m\u001b[0;34m:\u001b[0m\u001b[0;34m\u001b[0m\u001b[0;34m\u001b[0m\u001b[0m\n\u001b[1;32m      3\u001b[0m     \u001b[0;34mr\"\"\"Building the vector of differential $L(t)$\"\"\"\u001b[0m\u001b[0;34m\u001b[0m\u001b[0;34m\u001b[0m\u001b[0m\n\u001b[0;32m----> 4\u001b[0;31m     \u001b[0mL_vec\u001b[0m \u001b[0;34m=\u001b[0m \u001b[0;34m[\u001b[0m\u001b[0mL\u001b[0m\u001b[0;34m(\u001b[0m\u001b[0mxi\u001b[0m\u001b[0;34m,\u001b[0m \u001b[0mdt\u001b[0m\u001b[0;34m)\u001b[0m \u001b[0;32mfor\u001b[0m \u001b[0mxi\u001b[0m \u001b[0;32min\u001b[0m \u001b[0mxi_vec\u001b[0m\u001b[0;34m]\u001b[0m\u001b[0;34m\u001b[0m\u001b[0;34m\u001b[0m\u001b[0m\n\u001b[0m\u001b[1;32m      5\u001b[0m     \u001b[0;32mreturn\u001b[0m \u001b[0mL_vec\u001b[0m\u001b[0;34m\u001b[0m\u001b[0;34m\u001b[0m\u001b[0m\n",
      "\u001b[0;32m<ipython-input-9-11b160f3fc69>\u001b[0m in \u001b[0;36mL\u001b[0;34m(xi, dt)\u001b[0m\n\u001b[1;32m      1\u001b[0m \u001b[0;32mdef\u001b[0m \u001b[0mL\u001b[0m\u001b[0;34m(\u001b[0m\u001b[0mxi\u001b[0m\u001b[0;34m,\u001b[0m \u001b[0mdt\u001b[0m\u001b[0;34m)\u001b[0m\u001b[0;34m:\u001b[0m\u001b[0;34m\u001b[0m\u001b[0;34m\u001b[0m\u001b[0m\n\u001b[1;32m      2\u001b[0m     \u001b[0;34mr\"\"\"Making $L(t) from $A(t)$\"\"\"\u001b[0m\u001b[0;34m\u001b[0m\u001b[0;34m\u001b[0m\u001b[0m\n\u001b[0;32m----> 3\u001b[0;31m     \u001b[0mL\u001b[0m \u001b[0;34m=\u001b[0m \u001b[0;34m(\u001b[0m\u001b[0;34m-\u001b[0m\u001b[0;36m1j\u001b[0m\u001b[0;34m*\u001b[0m\u001b[0mA\u001b[0m\u001b[0;34m(\u001b[0m\u001b[0mxi\u001b[0m\u001b[0;34m)\u001b[0m\u001b[0;34m*\u001b[0m\u001b[0mdt\u001b[0m\u001b[0;34m)\u001b[0m\u001b[0;34m.\u001b[0m\u001b[0mexpm\u001b[0m\u001b[0;34m(\u001b[0m\u001b[0;34m)\u001b[0m\u001b[0;34m\u001b[0m\u001b[0;34m\u001b[0m\u001b[0m\n\u001b[0m\u001b[1;32m      4\u001b[0m     \u001b[0;32mreturn\u001b[0m \u001b[0mL\u001b[0m\u001b[0;34m\u001b[0m\u001b[0;34m\u001b[0m\u001b[0m\n",
      "\u001b[0;32m/anaconda3/envs/qutip-env/lib/python3.6/site-packages/qutip/qobj.py\u001b[0m in \u001b[0;36mexpm\u001b[0;34m(self, method)\u001b[0m\n\u001b[1;32m   1048\u001b[0m \u001b[0;34m\u001b[0m\u001b[0m\n\u001b[1;32m   1049\u001b[0m         \u001b[0;32mif\u001b[0m \u001b[0mmethod\u001b[0m \u001b[0;34m==\u001b[0m \u001b[0;34m'dense'\u001b[0m\u001b[0;34m:\u001b[0m\u001b[0;34m\u001b[0m\u001b[0;34m\u001b[0m\u001b[0m\n\u001b[0;32m-> 1050\u001b[0;31m             \u001b[0mF\u001b[0m \u001b[0;34m=\u001b[0m \u001b[0msp_expm\u001b[0m\u001b[0;34m(\u001b[0m\u001b[0mself\u001b[0m\u001b[0;34m.\u001b[0m\u001b[0mdata\u001b[0m\u001b[0;34m,\u001b[0m \u001b[0msparse\u001b[0m\u001b[0;34m=\u001b[0m\u001b[0;32mFalse\u001b[0m\u001b[0;34m)\u001b[0m\u001b[0;34m\u001b[0m\u001b[0;34m\u001b[0m\u001b[0m\n\u001b[0m\u001b[1;32m   1051\u001b[0m \u001b[0;34m\u001b[0m\u001b[0m\n\u001b[1;32m   1052\u001b[0m         \u001b[0;32melif\u001b[0m \u001b[0mmethod\u001b[0m \u001b[0;34m==\u001b[0m \u001b[0;34m'sparse'\u001b[0m\u001b[0;34m:\u001b[0m\u001b[0;34m\u001b[0m\u001b[0;34m\u001b[0m\u001b[0m\n",
      "\u001b[0;32m/anaconda3/envs/qutip-env/lib/python3.6/site-packages/qutip/sparse.py\u001b[0m in \u001b[0;36msp_expm\u001b[0;34m(A, sparse)\u001b[0m\n\u001b[1;32m    394\u001b[0m     \u001b[0;32melse\u001b[0m\u001b[0;34m:\u001b[0m\u001b[0;34m\u001b[0m\u001b[0;34m\u001b[0m\u001b[0m\n\u001b[1;32m    395\u001b[0m         \u001b[0mE\u001b[0m \u001b[0;34m=\u001b[0m \u001b[0mspla\u001b[0m\u001b[0;34m.\u001b[0m\u001b[0mexpm\u001b[0m\u001b[0;34m(\u001b[0m\u001b[0mA\u001b[0m\u001b[0;34m.\u001b[0m\u001b[0mtoarray\u001b[0m\u001b[0;34m(\u001b[0m\u001b[0;34m)\u001b[0m\u001b[0;34m)\u001b[0m\u001b[0;34m\u001b[0m\u001b[0;34m\u001b[0m\u001b[0m\n\u001b[0;32m--> 396\u001b[0;31m     \u001b[0;32mreturn\u001b[0m \u001b[0msp\u001b[0m\u001b[0;34m.\u001b[0m\u001b[0mcsr_matrix\u001b[0m\u001b[0;34m(\u001b[0m\u001b[0mE\u001b[0m\u001b[0;34m)\u001b[0m\u001b[0;34m\u001b[0m\u001b[0;34m\u001b[0m\u001b[0m\n\u001b[0m\u001b[1;32m    397\u001b[0m \u001b[0;34m\u001b[0m\u001b[0m\n\u001b[1;32m    398\u001b[0m \u001b[0;34m\u001b[0m\u001b[0m\n",
      "\u001b[0;32m/anaconda3/envs/qutip-env/lib/python3.6/site-packages/scipy/sparse/compressed.py\u001b[0m in \u001b[0;36m__init__\u001b[0;34m(self, arg1, shape, dtype, copy)\u001b[0m\n\u001b[1;32m     77\u001b[0m                         self.format)\n\u001b[1;32m     78\u001b[0m             \u001b[0;32mfrom\u001b[0m \u001b[0;34m.\u001b[0m\u001b[0mcoo\u001b[0m \u001b[0;32mimport\u001b[0m \u001b[0mcoo_matrix\u001b[0m\u001b[0;34m\u001b[0m\u001b[0;34m\u001b[0m\u001b[0m\n\u001b[0;32m---> 79\u001b[0;31m             \u001b[0mself\u001b[0m\u001b[0;34m.\u001b[0m\u001b[0m_set_self\u001b[0m\u001b[0;34m(\u001b[0m\u001b[0mself\u001b[0m\u001b[0;34m.\u001b[0m\u001b[0m__class__\u001b[0m\u001b[0;34m(\u001b[0m\u001b[0mcoo_matrix\u001b[0m\u001b[0;34m(\u001b[0m\u001b[0marg1\u001b[0m\u001b[0;34m,\u001b[0m \u001b[0mdtype\u001b[0m\u001b[0;34m=\u001b[0m\u001b[0mdtype\u001b[0m\u001b[0;34m)\u001b[0m\u001b[0;34m)\u001b[0m\u001b[0;34m)\u001b[0m\u001b[0;34m\u001b[0m\u001b[0;34m\u001b[0m\u001b[0m\n\u001b[0m\u001b[1;32m     80\u001b[0m \u001b[0;34m\u001b[0m\u001b[0m\n\u001b[1;32m     81\u001b[0m         \u001b[0;31m# Read matrix dimensions given, if any\u001b[0m\u001b[0;34m\u001b[0m\u001b[0;34m\u001b[0m\u001b[0;34m\u001b[0m\u001b[0m\n",
      "\u001b[0;32m/anaconda3/envs/qutip-env/lib/python3.6/site-packages/scipy/sparse/compressed.py\u001b[0m in \u001b[0;36m__init__\u001b[0;34m(self, arg1, shape, dtype, copy)\u001b[0m\n\u001b[1;32m     30\u001b[0m                 \u001b[0marg1\u001b[0m \u001b[0;34m=\u001b[0m \u001b[0marg1\u001b[0m\u001b[0;34m.\u001b[0m\u001b[0mcopy\u001b[0m\u001b[0;34m(\u001b[0m\u001b[0;34m)\u001b[0m\u001b[0;34m\u001b[0m\u001b[0;34m\u001b[0m\u001b[0m\n\u001b[1;32m     31\u001b[0m             \u001b[0;32melse\u001b[0m\u001b[0;34m:\u001b[0m\u001b[0;34m\u001b[0m\u001b[0;34m\u001b[0m\u001b[0m\n\u001b[0;32m---> 32\u001b[0;31m                 \u001b[0marg1\u001b[0m \u001b[0;34m=\u001b[0m \u001b[0marg1\u001b[0m\u001b[0;34m.\u001b[0m\u001b[0masformat\u001b[0m\u001b[0;34m(\u001b[0m\u001b[0mself\u001b[0m\u001b[0;34m.\u001b[0m\u001b[0mformat\u001b[0m\u001b[0;34m)\u001b[0m\u001b[0;34m\u001b[0m\u001b[0;34m\u001b[0m\u001b[0m\n\u001b[0m\u001b[1;32m     33\u001b[0m             \u001b[0mself\u001b[0m\u001b[0;34m.\u001b[0m\u001b[0m_set_self\u001b[0m\u001b[0;34m(\u001b[0m\u001b[0marg1\u001b[0m\u001b[0;34m)\u001b[0m\u001b[0;34m\u001b[0m\u001b[0;34m\u001b[0m\u001b[0m\n\u001b[1;32m     34\u001b[0m \u001b[0;34m\u001b[0m\u001b[0m\n",
      "\u001b[0;32m/anaconda3/envs/qutip-env/lib/python3.6/site-packages/scipy/sparse/base.py\u001b[0m in \u001b[0;36masformat\u001b[0;34m(self, format, copy)\u001b[0m\n\u001b[1;32m    324\u001b[0m                 \u001b[0;32mraise\u001b[0m \u001b[0mValueError\u001b[0m\u001b[0;34m(\u001b[0m\u001b[0;34m'Format {} is unknown.'\u001b[0m\u001b[0;34m.\u001b[0m\u001b[0mformat\u001b[0m\u001b[0;34m(\u001b[0m\u001b[0mformat\u001b[0m\u001b[0;34m)\u001b[0m\u001b[0;34m)\u001b[0m\u001b[0;34m\u001b[0m\u001b[0;34m\u001b[0m\u001b[0m\n\u001b[1;32m    325\u001b[0m             \u001b[0;32melse\u001b[0m\u001b[0;34m:\u001b[0m\u001b[0;34m\u001b[0m\u001b[0;34m\u001b[0m\u001b[0m\n\u001b[0;32m--> 326\u001b[0;31m                 \u001b[0;32mreturn\u001b[0m \u001b[0mconvert_method\u001b[0m\u001b[0;34m(\u001b[0m\u001b[0mcopy\u001b[0m\u001b[0;34m=\u001b[0m\u001b[0mcopy\u001b[0m\u001b[0;34m)\u001b[0m\u001b[0;34m\u001b[0m\u001b[0;34m\u001b[0m\u001b[0m\n\u001b[0m\u001b[1;32m    327\u001b[0m \u001b[0;34m\u001b[0m\u001b[0m\n\u001b[1;32m    328\u001b[0m     \u001b[0;31m###################################################################\u001b[0m\u001b[0;34m\u001b[0m\u001b[0;34m\u001b[0m\u001b[0;34m\u001b[0m\u001b[0m\n",
      "\u001b[0;32m/anaconda3/envs/qutip-env/lib/python3.6/site-packages/scipy/sparse/coo.py\u001b[0m in \u001b[0;36mtocsr\u001b[0;34m(self, copy)\u001b[0m\n\u001b[1;32m    393\u001b[0m             \u001b[0mdata\u001b[0m \u001b[0;34m=\u001b[0m \u001b[0mnp\u001b[0m\u001b[0;34m.\u001b[0m\u001b[0mempty_like\u001b[0m\u001b[0;34m(\u001b[0m\u001b[0mself\u001b[0m\u001b[0;34m.\u001b[0m\u001b[0mdata\u001b[0m\u001b[0;34m,\u001b[0m \u001b[0mdtype\u001b[0m\u001b[0;34m=\u001b[0m\u001b[0mupcast\u001b[0m\u001b[0;34m(\u001b[0m\u001b[0mself\u001b[0m\u001b[0;34m.\u001b[0m\u001b[0mdtype\u001b[0m\u001b[0;34m)\u001b[0m\u001b[0;34m)\u001b[0m\u001b[0;34m\u001b[0m\u001b[0;34m\u001b[0m\u001b[0m\n\u001b[1;32m    394\u001b[0m \u001b[0;34m\u001b[0m\u001b[0m\n\u001b[0;32m--> 395\u001b[0;31m             coo_tocsr(M, N, self.nnz, row, col, self.data,\n\u001b[0m\u001b[1;32m    396\u001b[0m                       indptr, indices, data)\n\u001b[1;32m    397\u001b[0m \u001b[0;34m\u001b[0m\u001b[0m\n",
      "\u001b[0;32m/anaconda3/envs/qutip-env/lib/python3.6/site-packages/scipy/sparse/base.py\u001b[0m in \u001b[0;36mnnz\u001b[0;34m(self)\u001b[0m\n\u001b[1;32m    249\u001b[0m         \u001b[0mcount_nonzero\u001b[0m \u001b[0;34m:\u001b[0m \u001b[0mNumber\u001b[0m \u001b[0mof\u001b[0m \u001b[0mnon\u001b[0m\u001b[0;34m-\u001b[0m\u001b[0mzero\u001b[0m \u001b[0mentries\u001b[0m\u001b[0;34m\u001b[0m\u001b[0;34m\u001b[0m\u001b[0m\n\u001b[1;32m    250\u001b[0m         \"\"\"\n\u001b[0;32m--> 251\u001b[0;31m         \u001b[0;32mreturn\u001b[0m \u001b[0mself\u001b[0m\u001b[0;34m.\u001b[0m\u001b[0mgetnnz\u001b[0m\u001b[0;34m(\u001b[0m\u001b[0;34m)\u001b[0m\u001b[0;34m\u001b[0m\u001b[0;34m\u001b[0m\u001b[0m\n\u001b[0m\u001b[1;32m    252\u001b[0m \u001b[0;34m\u001b[0m\u001b[0m\n\u001b[1;32m    253\u001b[0m     \u001b[0;32mdef\u001b[0m \u001b[0mgetformat\u001b[0m\u001b[0;34m(\u001b[0m\u001b[0mself\u001b[0m\u001b[0;34m)\u001b[0m\u001b[0;34m:\u001b[0m\u001b[0;34m\u001b[0m\u001b[0;34m\u001b[0m\u001b[0m\n",
      "\u001b[0;32m/anaconda3/envs/qutip-env/lib/python3.6/site-packages/scipy/sparse/coo.py\u001b[0m in \u001b[0;36mgetnnz\u001b[0;34m(self, axis)\u001b[0m\n\u001b[1;32m    228\u001b[0m     \u001b[0;32mdef\u001b[0m \u001b[0mgetnnz\u001b[0m\u001b[0;34m(\u001b[0m\u001b[0mself\u001b[0m\u001b[0;34m,\u001b[0m \u001b[0maxis\u001b[0m\u001b[0;34m=\u001b[0m\u001b[0;32mNone\u001b[0m\u001b[0;34m)\u001b[0m\u001b[0;34m:\u001b[0m\u001b[0;34m\u001b[0m\u001b[0;34m\u001b[0m\u001b[0m\n\u001b[1;32m    229\u001b[0m         \u001b[0;32mif\u001b[0m \u001b[0maxis\u001b[0m \u001b[0;32mis\u001b[0m \u001b[0;32mNone\u001b[0m\u001b[0;34m:\u001b[0m\u001b[0;34m\u001b[0m\u001b[0;34m\u001b[0m\u001b[0m\n\u001b[0;32m--> 230\u001b[0;31m             \u001b[0mnnz\u001b[0m \u001b[0;34m=\u001b[0m \u001b[0mlen\u001b[0m\u001b[0;34m(\u001b[0m\u001b[0mself\u001b[0m\u001b[0;34m.\u001b[0m\u001b[0mdata\u001b[0m\u001b[0;34m)\u001b[0m\u001b[0;34m\u001b[0m\u001b[0;34m\u001b[0m\u001b[0m\n\u001b[0m\u001b[1;32m    231\u001b[0m             \u001b[0;32mif\u001b[0m \u001b[0mnnz\u001b[0m \u001b[0;34m!=\u001b[0m \u001b[0mlen\u001b[0m\u001b[0;34m(\u001b[0m\u001b[0mself\u001b[0m\u001b[0;34m.\u001b[0m\u001b[0mrow\u001b[0m\u001b[0;34m)\u001b[0m \u001b[0;32mor\u001b[0m \u001b[0mnnz\u001b[0m \u001b[0;34m!=\u001b[0m \u001b[0mlen\u001b[0m\u001b[0;34m(\u001b[0m\u001b[0mself\u001b[0m\u001b[0;34m.\u001b[0m\u001b[0mcol\u001b[0m\u001b[0;34m)\u001b[0m\u001b[0;34m:\u001b[0m\u001b[0;34m\u001b[0m\u001b[0;34m\u001b[0m\u001b[0m\n\u001b[1;32m    232\u001b[0m                 raise ValueError('row, column, and data array must all be the '\n",
      "\u001b[0;31mKeyboardInterrupt\u001b[0m: "
     ]
    }
   ],
   "source": [
    "xi_opt = terminator(1000,time_steps=len(times), total_time= total_time_evo,\n",
    "               epsilon= ((0.1*2*pi)/(10**3)))"
   ]
  },
  {
   "cell_type": "code",
   "execution_count": null,
   "metadata": {
    "ExecuteTime": {
     "end_time": "2019-02-16T18:50:07.235501Z",
     "start_time": "2019-02-16T17:11:52.859Z"
    }
   },
   "outputs": [],
   "source": [
    "time_steps=len(times)\n",
    "total_time= total_time_evo\n",
    "epsilon = ((0.1*2*pi)/(times[-1]))"
   ]
  },
  {
   "cell_type": "code",
   "execution_count": null,
   "metadata": {
    "ExecuteTime": {
     "end_time": "2019-02-16T18:50:07.243831Z",
     "start_time": "2019-02-16T17:11:53.649Z"
    }
   },
   "outputs": [],
   "source": [
    "dt = (2*pi)/500\n",
    "F(xi_opt, dt)"
   ]
  },
  {
   "cell_type": "code",
   "execution_count": null,
   "metadata": {
    "ExecuteTime": {
     "end_time": "2019-02-16T18:50:07.250266Z",
     "start_time": "2019-02-16T17:11:54.765Z"
    }
   },
   "outputs": [],
   "source": [
    "F(result.u[-1, 0, : ], dt)"
   ]
  },
  {
   "cell_type": "code",
   "execution_count": null,
   "metadata": {
    "ExecuteTime": {
     "end_time": "2019-02-16T18:50:07.256692Z",
     "start_time": "2019-02-16T17:11:56.857Z"
    }
   },
   "outputs": [],
   "source": [
    "L_full_maker(xi_opt, dt)"
   ]
  },
  {
   "cell_type": "code",
   "execution_count": null,
   "metadata": {
    "ExecuteTime": {
     "end_time": "2019-02-16T18:50:07.262266Z",
     "start_time": "2019-02-16T17:11:58.597Z"
    }
   },
   "outputs": [],
   "source": [
    "len(times)"
   ]
  },
  {
   "cell_type": "code",
   "execution_count": null,
   "metadata": {
    "ExecuteTime": {
     "end_time": "2019-02-16T18:50:07.269853Z",
     "start_time": "2019-02-16T17:12:03.954Z"
    }
   },
   "outputs": [],
   "source": [
    "new_label = [r'$g_{with diss}$']"
   ]
  },
  {
   "cell_type": "markdown",
   "metadata": {
    "ExecuteTime": {
     "end_time": "2019-02-14T15:50:39.160854Z",
     "start_time": "2019-02-14T15:50:39.155605Z"
    }
   },
   "source": [
    "'''plot_grape_control_fields(times,\n",
    "                          xi_opt / (2 * np.pi), new_label, uniform_axes=True);\n",
    "ValueError                                Traceback (most recent call last)\n",
    "<ipython-input-67-f3ebb7c23258> in <module>()\n",
    "      1 plot_grape_control_fields(times,\n",
    "----> 2                           xi_opt / (2 * np.pi), new_label, uniform_axes=True);\n",
    "\n",
    "/anaconda3/envs/qutip-env/lib/python3.6/site-packages/qutip/control/grape.py in plot_grape_control_fields(times, u, labels, uniform_axes)\n",
    "    101     import matplotlib.pyplot as plt\n",
    "    102 \n",
    "--> 103     R, J, M = u.shape\n",
    "    104 \n",
    "    105     fig, axes = plt.subplots(J, 1, figsize=(8, 2 * J), squeeze=False)\n",
    "\n",
    "ValueError: not enough values to unpack (expected 3, got 1) '''"
   ]
  },
  {
   "cell_type": "code",
   "execution_count": null,
   "metadata": {
    "ExecuteTime": {
     "end_time": "2019-02-16T18:50:07.277204Z",
     "start_time": "2019-02-16T17:12:05.657Z"
    }
   },
   "outputs": [],
   "source": [
    "ax = axes()\n",
    "ax.plot(times, xi_opt)\n",
    "ax.set(xlim=(0, total_time_evo), ylim=(-0.8,0.8 ),\n",
    "       xlabel='time', ylabel= r'$g_{with diss}$',\n",
    "       title='Control field in the presence of dissipation');"
   ]
  },
  {
   "cell_type": "code",
   "execution_count": null,
   "metadata": {
    "ExecuteTime": {
     "end_time": "2019-02-16T18:50:07.283038Z",
     "start_time": "2019-02-16T17:12:06.795Z"
    }
   },
   "outputs": [],
   "source": [
    "ax = axes()\n",
    "ax.plot(times, xi_opt)\n",
    "xi_max = amax(xi_opt) + 0.1\n",
    "xi_min = amin(xi_opt) - 0.1\n",
    "\n",
    "ax.set(xlim=(0, total_time_evo), ylim=(xi_min, xi_max),\n",
    "       xlabel='time', ylabel= r'$g_{with diss}$',\n",
    "       title='Control field in the presence of dissipation');"
   ]
  },
  {
   "cell_type": "code",
   "execution_count": null,
   "metadata": {
    "ExecuteTime": {
     "end_time": "2019-02-16T18:50:07.289734Z",
     "start_time": "2019-02-16T17:12:07.943Z"
    }
   },
   "outputs": [],
   "source": [
    "ax = axes()\n",
    "ax.plot(times, result.u[-1, 0, : ])\n",
    "xi_max = amax(result.u[-1, 0, : ]) + 0.1\n",
    "xi_min = amin(result.u[-1, 0, : ]) - 0.1\n",
    "\n",
    "ax.set(xlim=(0, total_time_evo), ylim=(xi_min, xi_max),\n",
    "       xlabel='time', ylabel= r'$g_{with diss}$',\n",
    "       title='old Control field in the presence of \\\n",
    "              dissipation produced by qutip');"
   ]
  },
  {
   "cell_type": "markdown",
   "metadata": {},
   "source": [
    "### try"
   ]
  },
  {
   "cell_type": "code",
   "execution_count": null,
   "metadata": {
    "ExecuteTime": {
     "end_time": "2019-02-15T04:25:13.663009Z",
     "start_time": "2019-02-15T04:18:06.062Z"
    }
   },
   "outputs": [],
   "source": [
    "xi_opt = terminator(1000,time_steps=len(times), total_time= total_time_evo,\n",
    "               epsilon= ((0.1*2*pi)/(10**4)))"
   ]
  },
  {
   "cell_type": "code",
   "execution_count": null,
   "metadata": {
    "ExecuteTime": {
     "end_time": "2019-02-15T04:25:13.664257Z",
     "start_time": "2019-02-15T04:18:06.065Z"
    }
   },
   "outputs": [],
   "source": [
    "dt = (2*pi)/500\n",
    "F(xi_opt, dt)"
   ]
  },
  {
   "cell_type": "code",
   "execution_count": null,
   "metadata": {
    "ExecuteTime": {
     "end_time": "2019-02-15T04:25:13.665710Z",
     "start_time": "2019-02-15T04:18:06.069Z"
    }
   },
   "outputs": [],
   "source": [
    "L_full_maker(xi_opt, dt)"
   ]
  },
  {
   "cell_type": "code",
   "execution_count": null,
   "metadata": {
    "ExecuteTime": {
     "end_time": "2019-02-15T04:25:13.667151Z",
     "start_time": "2019-02-15T04:18:06.071Z"
    }
   },
   "outputs": [],
   "source": [
    "ax = axes()\n",
    "ax.plot(times, xi_opt)\n",
    "xi_max = amax(xi_opt) + 0.1\n",
    "xi_min = amin(xi_opt) - 0.1\n",
    "\n",
    "ax.set(xlim=(0, total_time_evo), ylim=(xi_min, xi_max),\n",
    "       xlabel='time', ylabel= r'$g_{with diss}$',\n",
    "       title='Control field in the presence of dissipation');"
   ]
  },
  {
   "cell_type": "markdown",
   "metadata": {},
   "source": [
    "### try"
   ]
  },
  {
   "cell_type": "code",
   "execution_count": null,
   "metadata": {
    "ExecuteTime": {
     "end_time": "2019-02-15T04:25:13.668734Z",
     "start_time": "2019-02-15T04:18:06.192Z"
    }
   },
   "outputs": [],
   "source": [
    "xi_opt = terminator(10**4,time_steps=len(times), total_time= total_time_evo,\n",
    "               epsilon= ((0.1*2*pi)/(10**3)))"
   ]
  },
  {
   "cell_type": "code",
   "execution_count": null,
   "metadata": {
    "ExecuteTime": {
     "end_time": "2019-02-15T04:25:13.669973Z",
     "start_time": "2019-02-15T04:18:06.195Z"
    }
   },
   "outputs": [],
   "source": [
    "dt = (2*pi)/500\n",
    "F(xi_opt, dt)"
   ]
  },
  {
   "cell_type": "code",
   "execution_count": null,
   "metadata": {
    "ExecuteTime": {
     "end_time": "2019-02-15T04:25:13.671402Z",
     "start_time": "2019-02-15T04:18:06.199Z"
    }
   },
   "outputs": [],
   "source": [
    "L_full_maker(xi_opt, dt)"
   ]
  },
  {
   "cell_type": "code",
   "execution_count": null,
   "metadata": {
    "ExecuteTime": {
     "end_time": "2019-02-15T04:25:13.672767Z",
     "start_time": "2019-02-15T04:18:06.201Z"
    }
   },
   "outputs": [],
   "source": [
    "ax = axes()\n",
    "ax.plot(times, xi_opt)\n",
    "xi_max = amax(xi_opt) + 0.1\n",
    "xi_min = amin(xi_opt) - 0.1\n",
    "\n",
    "ax.set(xlim=(0, total_time_evo), ylim=(xi_min, xi_max),\n",
    "       xlabel='time', ylabel= r'$g_{with diss}$',\n",
    "       title='Control field in the presence of dissipation');"
   ]
  },
  {
   "cell_type": "markdown",
   "metadata": {},
   "source": [
    "### try"
   ]
  },
  {
   "cell_type": "code",
   "execution_count": null,
   "metadata": {
    "ExecuteTime": {
     "end_time": "2019-02-15T04:25:13.674309Z",
     "start_time": "2019-02-15T04:18:06.333Z"
    }
   },
   "outputs": [],
   "source": [
    "xi_opt = terminator(10**4,time_steps=len(times), total_time= total_time_evo,\n",
    "               epsilon= ((0.1*2*pi)/(10**4)))"
   ]
  },
  {
   "cell_type": "code",
   "execution_count": null,
   "metadata": {
    "ExecuteTime": {
     "end_time": "2019-02-15T04:25:13.675584Z",
     "start_time": "2019-02-15T04:18:06.336Z"
    }
   },
   "outputs": [],
   "source": [
    "dt = (2*pi)/500\n",
    "F(xi_opt, dt)"
   ]
  },
  {
   "cell_type": "code",
   "execution_count": null,
   "metadata": {
    "ExecuteTime": {
     "end_time": "2019-02-15T04:25:13.676756Z",
     "start_time": "2019-02-15T04:18:06.341Z"
    }
   },
   "outputs": [],
   "source": [
    "L_full_maker(xi_opt, dt)"
   ]
  },
  {
   "cell_type": "code",
   "execution_count": null,
   "metadata": {
    "ExecuteTime": {
     "end_time": "2019-02-15T04:25:13.678172Z",
     "start_time": "2019-02-15T04:18:06.343Z"
    }
   },
   "outputs": [],
   "source": [
    "ax = axes()\n",
    "ax.plot(times, xi_opt)\n",
    "xi_max = amax(xi_opt) + 0.1\n",
    "xi_min = amin(xi_opt) - 0.1\n",
    "\n",
    "ax.set(xlim=(0, total_time_evo), ylim=(xi_min, xi_max),\n",
    "       xlabel='time', ylabel= r'$g_{with diss}$',\n",
    "       title='Control field in the presence of dissipation');"
   ]
  },
  {
   "cell_type": "markdown",
   "metadata": {},
   "source": [
    "### try"
   ]
  },
  {
   "cell_type": "code",
   "execution_count": null,
   "metadata": {
    "ExecuteTime": {
     "end_time": "2019-02-15T04:25:13.679575Z",
     "start_time": "2019-02-15T04:18:06.479Z"
    }
   },
   "outputs": [],
   "source": [
    "xi_opt = terminator(10**4,time_steps=len(times), total_time= total_time_evo,\n",
    "               epsilon= ((0.1*2*pi)/(10**10)))"
   ]
  },
  {
   "cell_type": "code",
   "execution_count": null,
   "metadata": {
    "ExecuteTime": {
     "end_time": "2019-02-15T04:25:13.680952Z",
     "start_time": "2019-02-15T04:18:06.481Z"
    }
   },
   "outputs": [],
   "source": [
    "dt = (2*pi)/500\n",
    "F(xi_opt, dt)"
   ]
  },
  {
   "cell_type": "code",
   "execution_count": null,
   "metadata": {
    "ExecuteTime": {
     "end_time": "2019-02-15T04:25:13.682349Z",
     "start_time": "2019-02-15T04:18:06.487Z"
    }
   },
   "outputs": [],
   "source": [
    "L_full_maker(xi_opt, dt)"
   ]
  },
  {
   "cell_type": "code",
   "execution_count": null,
   "metadata": {
    "ExecuteTime": {
     "end_time": "2019-02-15T04:25:13.684036Z",
     "start_time": "2019-02-15T04:18:06.489Z"
    }
   },
   "outputs": [],
   "source": [
    "ax = axes()\n",
    "ax.plot(times, xi_opt)\n",
    "xi_max = amax(xi_opt) + 0.1\n",
    "xi_min = amin(xi_opt) - 0.1\n",
    "\n",
    "ax.set(xlim=(0, total_time_evo), ylim=(xi_min, xi_max),\n",
    "       xlabel='time', ylabel= r'$g_{with diss}$',\n",
    "       title='Control field in the presence of dissipation');"
   ]
  },
  {
   "cell_type": "markdown",
   "metadata": {},
   "source": [
    "### try"
   ]
  },
  {
   "cell_type": "code",
   "execution_count": null,
   "metadata": {
    "ExecuteTime": {
     "end_time": "2019-02-15T04:25:13.685569Z",
     "start_time": "2019-02-15T04:18:06.612Z"
    }
   },
   "outputs": [],
   "source": [
    "xi_opt = terminator(10**4,time_steps=10**3, total_time= total_time_evo,\n",
    "               epsilon= ((0.1*2*pi)/(10**3)))"
   ]
  },
  {
   "cell_type": "code",
   "execution_count": null,
   "metadata": {
    "ExecuteTime": {
     "end_time": "2019-02-15T04:25:13.687057Z",
     "start_time": "2019-02-15T04:18:06.614Z"
    }
   },
   "outputs": [],
   "source": [
    "dt = (2*pi)/(10**3)#(2*pi)/500\n",
    "# probaly happened because of hard coding of dt inside terminator\n",
    "# must try it again after changing that\n",
    "F(xi_opt, dt)\n"
   ]
  },
  {
   "cell_type": "code",
   "execution_count": null,
   "metadata": {
    "ExecuteTime": {
     "end_time": "2019-02-15T04:25:13.689866Z",
     "start_time": "2019-02-15T04:18:06.618Z"
    }
   },
   "outputs": [],
   "source": [
    "L_full_maker(xi_opt, dt)"
   ]
  },
  {
   "cell_type": "code",
   "execution_count": null,
   "metadata": {
    "ExecuteTime": {
     "end_time": "2019-02-15T04:25:13.692867Z",
     "start_time": "2019-02-15T04:18:06.621Z"
    }
   },
   "outputs": [],
   "source": [
    "ax = axes()\n",
    "ax.plot(times, xi_opt)\n",
    "xi_max = amax(xi_opt) + 0.1\n",
    "xi_min = amin(xi_opt) - 0.1\n",
    "\n",
    "ax.set(xlim=(0, total_time_evo), ylim=(xi_min, xi_max),\n",
    "       xlabel='time', ylabel= r'$g_{with diss}$',\n",
    "       title='Control field in the presence of dissipation');"
   ]
  },
  {
   "cell_type": "markdown",
   "metadata": {},
   "source": [
    "## APS stuff"
   ]
  },
  {
   "cell_type": "markdown",
   "metadata": {},
   "source": [
    "### infidelity function tryouts"
   ]
  },
  {
   "cell_type": "code",
   "execution_count": 67,
   "metadata": {
    "ExecuteTime": {
     "end_time": "2019-02-15T04:40:16.828996Z",
     "start_time": "2019-02-15T04:40:16.821473Z"
    }
   },
   "outputs": [
    {
     "data": {
      "text/latex": [
       "Quantum object: dims = [[2], [1]], shape = (2, 1), type = ket\\begin{equation*}\\left(\\begin{array}{*{11}c}1.0\\\\0.0\\\\\\end{array}\\right)\\end{equation*}"
      ],
      "text/plain": [
       "Quantum object: dims = [[2], [1]], shape = (2, 1), type = ket\n",
       "Qobj data =\n",
       "[[1.]\n",
       " [0.]]"
      ]
     },
     "execution_count": 67,
     "metadata": {},
     "output_type": "execute_result"
    }
   ],
   "source": [
    "qone = basis(2, 0)\n",
    "qone"
   ]
  },
  {
   "cell_type": "code",
   "execution_count": 68,
   "metadata": {
    "ExecuteTime": {
     "end_time": "2019-02-15T04:40:16.894583Z",
     "start_time": "2019-02-15T04:40:16.887322Z"
    }
   },
   "outputs": [
    {
     "data": {
      "text/latex": [
       "Quantum object: dims = [[2], [1]], shape = (2, 1), type = ket\\begin{equation*}\\left(\\begin{array}{*{11}c}0.0\\\\1.0\\\\\\end{array}\\right)\\end{equation*}"
      ],
      "text/plain": [
       "Quantum object: dims = [[2], [1]], shape = (2, 1), type = ket\n",
       "Qobj data =\n",
       "[[0.]\n",
       " [1.]]"
      ]
     },
     "execution_count": 68,
     "metadata": {},
     "output_type": "execute_result"
    }
   ],
   "source": [
    "qzero = basis(2, 1)\n",
    "qzero"
   ]
  },
  {
   "cell_type": "markdown",
   "metadata": {
    "ExecuteTime": {
     "end_time": "2019-02-15T04:40:16.961355Z",
     "start_time": "2019-02-15T04:40:16.952718Z"
    }
   },
   "source": [
    "###### ket2bra\n",
    "---------------------------------------------------------------------------\n",
    "NameError                                 Traceback (most recent call last)\n",
    "<ipython-input-69-8f247c0c4d8f> in <module>()\n",
    "----> 1 ket2bra\n",
    "\n",
    "NameError: name 'ket2bra' is not defined\n"
   ]
  },
  {
   "cell_type": "code",
   "execution_count": 87,
   "metadata": {
    "ExecuteTime": {
     "end_time": "2019-02-15T05:33:15.272917Z",
     "start_time": "2019-02-15T05:33:15.247918Z"
    }
   },
   "outputs": [
    {
     "data": {
      "text/plain": [
       "(1+0j)"
      ]
     },
     "execution_count": 87,
     "metadata": {},
     "output_type": "execute_result"
    }
   ],
   "source": [
    "(sigmax()).matrix_element(qone, qzero)"
   ]
  },
  {
   "cell_type": "code",
   "execution_count": 88,
   "metadata": {
    "ExecuteTime": {
     "end_time": "2019-02-15T05:33:15.676205Z",
     "start_time": "2019-02-15T05:33:15.666396Z"
    }
   },
   "outputs": [
    {
     "data": {
      "text/plain": [
       "1.0"
      ]
     },
     "execution_count": 88,
     "metadata": {},
     "output_type": "execute_result"
    }
   ],
   "source": [
    "abs((sigmax()).matrix_element(qone, qzero))"
   ]
  },
  {
   "cell_type": "code",
   "execution_count": 89,
   "metadata": {
    "ExecuteTime": {
     "end_time": "2019-02-15T05:33:15.991848Z",
     "start_time": "2019-02-15T05:33:15.984679Z"
    }
   },
   "outputs": [
    {
     "data": {
      "text/plain": [
       "3.605551275463989"
      ]
     },
     "execution_count": 89,
     "metadata": {},
     "output_type": "execute_result"
    }
   ],
   "source": [
    "abs(2 + 3j)"
   ]
  },
  {
   "cell_type": "code",
   "execution_count": 90,
   "metadata": {
    "ExecuteTime": {
     "end_time": "2019-02-15T05:33:16.655725Z",
     "start_time": "2019-02-15T05:33:16.651400Z"
    }
   },
   "outputs": [
    {
     "data": {
      "text/plain": [
       "5.0"
      ]
     },
     "execution_count": 90,
     "metadata": {},
     "output_type": "execute_result"
    }
   ],
   "source": [
    "abs(3 + 4j)"
   ]
  },
  {
   "cell_type": "code",
   "execution_count": 91,
   "metadata": {
    "ExecuteTime": {
     "end_time": "2019-02-15T05:33:16.761169Z",
     "start_time": "2019-02-15T05:33:16.757647Z"
    }
   },
   "outputs": [],
   "source": [
    "def infidelity_to_one(U):\n",
    "    r\"\"\"infidelity to state one\"\"\"\n",
    "    fidelity = (abs(U.matrix_element(qone, qzero)))**2\n",
    "    infidelity = 1 - fidelity\n",
    "    return infidelity"
   ]
  },
  {
   "cell_type": "code",
   "execution_count": 92,
   "metadata": {
    "ExecuteTime": {
     "end_time": "2019-02-15T05:33:17.046048Z",
     "start_time": "2019-02-15T05:33:17.040163Z"
    }
   },
   "outputs": [
    {
     "data": {
      "text/plain": [
       "0.0"
      ]
     },
     "execution_count": 92,
     "metadata": {},
     "output_type": "execute_result"
    }
   ],
   "source": [
    "infidelity_to_one(sigmax()) \n",
    "# 1 - abs((sigmax()).matrix_element(qone, qzero))\n",
    "# 1 - 1 = 0"
   ]
  },
  {
   "cell_type": "markdown",
   "metadata": {},
   "source": [
    "  result.u, result.u but lindbladian evolution, xi_opt"
   ]
  },
  {
   "cell_type": "code",
   "execution_count": 93,
   "metadata": {
    "ExecuteTime": {
     "end_time": "2019-02-15T05:33:19.354623Z",
     "start_time": "2019-02-15T05:33:19.347847Z"
    }
   },
   "outputs": [
    {
     "data": {
      "text/plain": [
       "0j"
      ]
     },
     "execution_count": 93,
     "metadata": {},
     "output_type": "execute_result"
    }
   ],
   "source": [
    "qone.overlap(qzero)"
   ]
  },
  {
   "cell_type": "code",
   "execution_count": 94,
   "metadata": {
    "ExecuteTime": {
     "end_time": "2019-02-15T05:33:19.713833Z",
     "start_time": "2019-02-15T05:33:19.708486Z"
    }
   },
   "outputs": [
    {
     "data": {
      "text/plain": [
       "(1+0j)"
      ]
     },
     "execution_count": 94,
     "metadata": {},
     "output_type": "execute_result"
    }
   ],
   "source": [
    "qzero.overlap(qzero)"
   ]
  },
  {
   "cell_type": "code",
   "execution_count": 95,
   "metadata": {
    "ExecuteTime": {
     "end_time": "2019-02-15T05:33:20.041088Z",
     "start_time": "2019-02-15T05:33:20.036259Z"
    }
   },
   "outputs": [
    {
     "data": {
      "text/plain": [
       "(1+0j)"
      ]
     },
     "execution_count": 95,
     "metadata": {},
     "output_type": "execute_result"
    }
   ],
   "source": [
    "qone.overlap(qone)"
   ]
  },
  {
   "cell_type": "code",
   "execution_count": 96,
   "metadata": {
    "ExecuteTime": {
     "end_time": "2019-02-15T05:33:20.972292Z",
     "start_time": "2019-02-15T05:33:20.967262Z"
    }
   },
   "outputs": [],
   "source": [
    "def infidelity_to_state(psi):\n",
    "    r\"\"\"infidelity to state one\"\"\"\n",
    "    fidelity = (abs(qone.overlap(psi)))**2\n",
    "    infidelity = 1 - fidelity\n",
    "    return infidelity"
   ]
  },
  {
   "cell_type": "code",
   "execution_count": 126,
   "metadata": {
    "ExecuteTime": {
     "end_time": "2019-02-15T06:21:08.619777Z",
     "start_time": "2019-02-15T06:21:08.614552Z"
    }
   },
   "outputs": [
    {
     "data": {
      "text/plain": [
       "1.0"
      ]
     },
     "execution_count": 126,
     "metadata": {},
     "output_type": "execute_result"
    }
   ],
   "source": [
    "infidelity_to_state(qzero)"
   ]
  },
  {
   "cell_type": "code",
   "execution_count": 127,
   "metadata": {
    "ExecuteTime": {
     "end_time": "2019-02-15T06:21:28.657256Z",
     "start_time": "2019-02-15T06:21:28.650924Z"
    }
   },
   "outputs": [
    {
     "data": {
      "text/plain": [
       "0.0"
      ]
     },
     "execution_count": 127,
     "metadata": {},
     "output_type": "execute_result"
    }
   ],
   "source": [
    "infidelity_to_state(qone)"
   ]
  },
  {
   "cell_type": "code",
   "execution_count": 97,
   "metadata": {
    "ExecuteTime": {
     "end_time": "2019-02-15T05:33:30.839842Z",
     "start_time": "2019-02-15T05:33:30.836267Z"
    }
   },
   "outputs": [],
   "source": [
    "#mesolve"
   ]
  },
  {
   "cell_type": "markdown",
   "metadata": {
    "ExecuteTime": {
     "end_time": "2019-02-15T04:40:17.005913Z",
     "start_time": "2019-02-15T04:34:35.127Z"
    }
   },
   "source": [
    "\n",
    "### state building"
   ]
  },
  {
   "cell_type": "code",
   "execution_count": 73,
   "metadata": {
    "ExecuteTime": {
     "end_time": "2019-02-15T05:10:58.397315Z",
     "start_time": "2019-02-15T05:10:53.111694Z"
    }
   },
   "outputs": [
    {
     "name": "stdout",
     "output_type": "stream",
     "text": [
      " Total run time:   1.06s*] Elapsed 1.06s / Remaining 00:00:00:00[*********97%********** ] Elapsed 1.02s / Remaining 00:00:00:00\n"
     ]
    }
   ],
   "source": [
    "H_no_diss = [H_0, [H_1, result.u[-1, 0, :] ]]\n",
    "grape_no_diss = mesolve(H_no_diss, qzero, times, c_ops=[], e_ops=[], \n",
    "                        args={}, options=None, \n",
    "                        progress_bar=EnhancedTextProgressBar() )"
   ]
  },
  {
   "cell_type": "code",
   "execution_count": 74,
   "metadata": {
    "ExecuteTime": {
     "end_time": "2019-02-15T05:15:05.022670Z",
     "start_time": "2019-02-15T05:15:05.016547Z"
    }
   },
   "outputs": [
    {
     "data": {
      "text/plain": [
       "500"
      ]
     },
     "execution_count": 74,
     "metadata": {},
     "output_type": "execute_result"
    }
   ],
   "source": [
    "len(grape_no_diss.states)"
   ]
  },
  {
   "cell_type": "code",
   "execution_count": 75,
   "metadata": {
    "ExecuteTime": {
     "end_time": "2019-02-15T05:17:22.124295Z",
     "start_time": "2019-02-15T05:17:22.117557Z"
    }
   },
   "outputs": [
    {
     "data": {
      "text/latex": [
       "Quantum object: dims = [[2], [2]], shape = (2, 2), type = oper, isherm = True\\begin{equation*}\\left(\\begin{array}{*{11}c}1.0 & 0.0\\\\0.0 & -1.0\\\\\\end{array}\\right)\\end{equation*}"
      ],
      "text/plain": [
       "Quantum object: dims = [[2], [2]], shape = (2, 2), type = oper, isherm = True\n",
       "Qobj data =\n",
       "[[ 1.  0.]\n",
       " [ 0. -1.]]"
      ]
     },
     "execution_count": 75,
     "metadata": {},
     "output_type": "execute_result"
    }
   ],
   "source": [
    "Lin"
   ]
  },
  {
   "cell_type": "code",
   "execution_count": 80,
   "metadata": {
    "ExecuteTime": {
     "end_time": "2019-02-15T05:21:18.226961Z",
     "start_time": "2019-02-15T05:21:18.222491Z"
    }
   },
   "outputs": [
    {
     "data": {
      "text/plain": [
       "0.31622776601683794"
      ]
     },
     "execution_count": 80,
     "metadata": {},
     "output_type": "execute_result"
    }
   ],
   "source": [
    "sqrt(gamma)"
   ]
  },
  {
   "cell_type": "code",
   "execution_count": 79,
   "metadata": {
    "ExecuteTime": {
     "end_time": "2019-02-15T05:20:47.227009Z",
     "start_time": "2019-02-15T05:20:47.221215Z"
    }
   },
   "outputs": [
    {
     "data": {
      "text/latex": [
       "Quantum object: dims = [[2], [2]], shape = (2, 2), type = oper, isherm = True\\begin{equation*}\\left(\\begin{array}{*{11}c}0.316 & 0.0\\\\0.0 & -0.316\\\\\\end{array}\\right)\\end{equation*}"
      ],
      "text/plain": [
       "Quantum object: dims = [[2], [2]], shape = (2, 2), type = oper, isherm = True\n",
       "Qobj data =\n",
       "[[ 0.31622777  0.        ]\n",
       " [ 0.         -0.31622777]]"
      ]
     },
     "execution_count": 79,
     "metadata": {},
     "output_type": "execute_result"
    }
   ],
   "source": [
    "c_ops_tejas = sqrt(gamma)*Lin\n",
    "c_ops_tejas"
   ]
  },
  {
   "cell_type": "code",
   "execution_count": 81,
   "metadata": {
    "ExecuteTime": {
     "end_time": "2019-02-15T05:21:56.195481Z",
     "start_time": "2019-02-15T05:21:51.941570Z"
    },
    "run_control": {
     "marked": false
    }
   },
   "outputs": [
    {
     "name": "stdout",
     "output_type": "stream",
     "text": [
      " Total run time:   0.81s*] Elapsed 0.81s / Remaining 00:00:00:00[*********40%           ] Elapsed 0.30s / Remaining 00:00:00:00\n"
     ]
    }
   ],
   "source": [
    "H_diss = [H_0, [H_1, result.u[-1, 0, :] ]]\n",
    "grape_diss = mesolve(H_no_diss, qzero, times, c_ops=[c_ops_tejas], e_ops=[], \n",
    "                        args={}, options=None, \n",
    "                        progress_bar=EnhancedTextProgressBar() )"
   ]
  },
  {
   "cell_type": "code",
   "execution_count": 82,
   "metadata": {
    "ExecuteTime": {
     "end_time": "2019-02-15T05:22:07.830776Z",
     "start_time": "2019-02-15T05:22:07.824838Z"
    }
   },
   "outputs": [
    {
     "data": {
      "text/plain": [
       "500"
      ]
     },
     "execution_count": 82,
     "metadata": {},
     "output_type": "execute_result"
    }
   ],
   "source": [
    "len(grape_diss.states)"
   ]
  },
  {
   "cell_type": "code",
   "execution_count": 85,
   "metadata": {
    "ExecuteTime": {
     "end_time": "2019-02-15T05:25:24.094235Z",
     "start_time": "2019-02-15T05:25:20.910479Z"
    }
   },
   "outputs": [
    {
     "name": "stdout",
     "output_type": "stream",
     "text": [
      "10.0%. Run time:   0.02s. Est. time left: 00:00:00:00\n",
      "20.0%. Run time:   0.04s. Est. time left: 00:00:00:00\n",
      "30.0%. Run time:   0.06s. Est. time left: 00:00:00:00\n",
      "40.0%. Run time:   0.07s. Est. time left: 00:00:00:00\n",
      "50.0%. Run time:   0.09s. Est. time left: 00:00:00:00\n",
      "60.0%. Run time:   0.11s. Est. time left: 00:00:00:00\n",
      "70.0%. Run time:   0.12s. Est. time left: 00:00:00:00\n",
      "80.0%. Run time:   0.14s. Est. time left: 00:00:00:00\n",
      "90.0%. Run time:   0.16s. Est. time left: 00:00:00:00\n",
      "Total run time:   0.18s\n"
     ]
    }
   ],
   "source": [
    "H_diss_optimized = [H_0, [H_1, xi_opt ]]\n",
    "grape_diss_optimized = mesolve(H_diss_optimized, qzero, times, c_ops=[c_ops_tejas], \n",
    "                               e_ops=[], args={}, options=None, \n",
    "                               progress_bar=TextProgressBar() )\n",
    "# H_diss_optimized should have been written isntead of H_no_diss"
   ]
  },
  {
   "cell_type": "code",
   "execution_count": 86,
   "metadata": {
    "ExecuteTime": {
     "end_time": "2019-02-15T05:25:38.341555Z",
     "start_time": "2019-02-15T05:25:38.336717Z"
    }
   },
   "outputs": [
    {
     "data": {
      "text/plain": [
       "500"
      ]
     },
     "execution_count": 86,
     "metadata": {},
     "output_type": "execute_result"
    }
   ],
   "source": [
    "len(grape_diss_optimized.states)"
   ]
  },
  {
   "cell_type": "markdown",
   "metadata": {},
   "source": [
    "### states list to fidelity list"
   ]
  },
  {
   "cell_type": "code",
   "execution_count": 99,
   "metadata": {
    "ExecuteTime": {
     "end_time": "2019-02-15T05:38:50.861211Z",
     "start_time": "2019-02-15T05:38:50.858694Z"
    }
   },
   "outputs": [],
   "source": [
    "infidelity_to_state_vec = vectorize(infidelity_to_state)"
   ]
  },
  {
   "cell_type": "code",
   "execution_count": 110,
   "metadata": {
    "ExecuteTime": {
     "end_time": "2019-02-15T06:03:00.147929Z",
     "start_time": "2019-02-15T06:03:00.075022Z"
    }
   },
   "outputs": [],
   "source": [
    "infid_grape_no_diss = infidelity_to_state_vec(grape_no_diss.states)"
   ]
  },
  {
   "cell_type": "code",
   "execution_count": 103,
   "metadata": {
    "ExecuteTime": {
     "end_time": "2019-02-15T05:53:06.567791Z",
     "start_time": "2019-02-15T05:53:06.556851Z"
    }
   },
   "outputs": [
    {
     "data": {
      "text/plain": [
       "'fid_grape_diss = infidelity_to_state_vec(grape_diss.states)\\nTypeError                                 Traceback (most recent call last)\\n<ipython-input-101-fbabc06eff84> in <module>()\\n----> 1 fid_grape_diss = infidelity_to_state_vec(grape_diss.states)\\n\\n/anaconda3/envs/qutip-env/lib/python3.6/site-packages/numpy/lib/function_base.py in __call__(self, *args, **kwargs)\\n   2753             vargs.extend([kwargs[_n] for _n in names])\\n   2754 \\n-> 2755         return self._vectorize_call(func=func, args=vargs)\\n   2756 \\n   2757     def _get_ufunc_and_otypes(self, func, args):\\n\\n/anaconda3/envs/qutip-env/lib/python3.6/site-packages/numpy/lib/function_base.py in _vectorize_call(self, func, args)\\n   2823             res = func()\\n   2824         else:\\n-> 2825             ufunc, otypes = self._get_ufunc_and_otypes(func=func, args=args)\\n   2826 \\n   2827             # Convert args to object arrays first\\n\\n/anaconda3/envs/qutip-env/lib/python3.6/site-packages/numpy/lib/function_base.py in _get_ufunc_and_otypes(self, func, args)\\n   2783 \\n   2784             inputs = [arg.flat[0] for arg in args]\\n-> 2785             outputs = func(*inputs)\\n   2786 \\n   2787             # Performance note: profiling indicates that -- for simple\\n\\n<ipython-input-96-32321f8d8a33> in infidelity_to_state(psi)\\n      1 def infidelity_to_state(psi):\\n      2     r\"\"\"infidelity to state one\"\"\"\\n----> 3     fidelity = (abs(qone.overlap(psi)))**2\\n      4     infidelity = 1 - fidelity\\n      5     return infidelity\\n\\n/anaconda3/envs/qutip-env/lib/python3.6/site-packages/qutip/qobj.py in overlap(self, state)\\n   1486                     return (self.data.H * state.data)[0, 0]\\n   1487 \\n-> 1488         raise TypeError(\"Can only calculate overlap for state vector Qobjs\")\\n   1489 \\n   1490     def eigenstates(self, sparse=False, sort=\\'low\\',\\n\\nTypeError: Can only calculate overlap for state vector Qobjs\\n\\n\\n'"
      ]
     },
     "execution_count": 103,
     "metadata": {},
     "output_type": "execute_result"
    }
   ],
   "source": [
    "'''fid_grape_diss = infidelity_to_state_vec(grape_diss.states)\n",
    "TypeError                                 Traceback (most recent call last)\n",
    "<ipython-input-101-fbabc06eff84> in <module>()\n",
    "----> 1 fid_grape_diss = infidelity_to_state_vec(grape_diss.states)\n",
    "\n",
    "/anaconda3/envs/qutip-env/lib/python3.6/site-packages/numpy/lib/function_base.py in __call__(self, *args, **kwargs)\n",
    "   2753             vargs.extend([kwargs[_n] for _n in names])\n",
    "   2754 \n",
    "-> 2755         return self._vectorize_call(func=func, args=vargs)\n",
    "   2756 \n",
    "   2757     def _get_ufunc_and_otypes(self, func, args):\n",
    "\n",
    "/anaconda3/envs/qutip-env/lib/python3.6/site-packages/numpy/lib/function_base.py in _vectorize_call(self, func, args)\n",
    "   2823             res = func()\n",
    "   2824         else:\n",
    "-> 2825             ufunc, otypes = self._get_ufunc_and_otypes(func=func, args=args)\n",
    "   2826 \n",
    "   2827             # Convert args to object arrays first\n",
    "\n",
    "/anaconda3/envs/qutip-env/lib/python3.6/site-packages/numpy/lib/function_base.py in _get_ufunc_and_otypes(self, func, args)\n",
    "   2783 \n",
    "   2784             inputs = [arg.flat[0] for arg in args]\n",
    "-> 2785             outputs = func(*inputs)\n",
    "   2786 \n",
    "   2787             # Performance note: profiling indicates that -- for simple\n",
    "\n",
    "<ipython-input-96-32321f8d8a33> in infidelity_to_state(psi)\n",
    "      1 def infidelity_to_state(psi):\n",
    "      2     r\"\"\"infidelity to state one\"\"\"\n",
    "----> 3     fidelity = (abs(qone.overlap(psi)))**2\n",
    "      4     infidelity = 1 - fidelity\n",
    "      5     return infidelity\n",
    "\n",
    "/anaconda3/envs/qutip-env/lib/python3.6/site-packages/qutip/qobj.py in overlap(self, state)\n",
    "   1486                     return (self.data.H * state.data)[0, 0]\n",
    "   1487 \n",
    "-> 1488         raise TypeError(\"Can only calculate overlap for state vector Qobjs\")\n",
    "   1489 \n",
    "   1490     def eigenstates(self, sparse=False, sort='low',\n",
    "\n",
    "TypeError: Can only calculate overlap for state vector Qobjs\n",
    "\n",
    "\n",
    "'''"
   ]
  },
  {
   "cell_type": "markdown",
   "metadata": {
    "ExecuteTime": {
     "end_time": "2019-02-15T05:53:06.567791Z",
     "start_time": "2019-02-15T05:53:06.556851Z"
    }
   },
   "source": [
    "fid_grape_no_diss = infidelity_to_state_vec(grape_no_diss.states)"
   ]
  },
  {
   "cell_type": "code",
   "execution_count": 105,
   "metadata": {
    "ExecuteTime": {
     "end_time": "2019-02-15T05:54:27.415191Z",
     "start_time": "2019-02-15T05:54:27.405226Z"
    }
   },
   "outputs": [
    {
     "data": {
      "text/plain": [
       "1.9999999999999996"
      ]
     },
     "execution_count": 105,
     "metadata": {},
     "output_type": "execute_result"
    }
   ],
   "source": [
    "fidelity(sigmax(), sigmax())"
   ]
  },
  {
   "cell_type": "code",
   "execution_count": 107,
   "metadata": {
    "ExecuteTime": {
     "end_time": "2019-02-15T06:00:48.557494Z",
     "start_time": "2019-02-15T06:00:48.547494Z"
    }
   },
   "outputs": [
    {
     "data": {
      "text/latex": [
       "Quantum object: dims = [[2], [2]], shape = (2, 2), type = oper, isherm = True\\begin{equation*}\\left(\\begin{array}{*{11}c}0.0 & 0.0\\\\0.0 & 1.0\\\\\\end{array}\\right)\\end{equation*}"
      ],
      "text/plain": [
       "Quantum object: dims = [[2], [2]], shape = (2, 2), type = oper, isherm = True\n",
       "Qobj data =\n",
       "[[0. 0.]\n",
       " [0. 1.]]"
      ]
     },
     "execution_count": 107,
     "metadata": {},
     "output_type": "execute_result"
    }
   ],
   "source": [
    "zero_dm = ket2dm(qzero)\n",
    "zero_dm"
   ]
  },
  {
   "cell_type": "code",
   "execution_count": 108,
   "metadata": {
    "ExecuteTime": {
     "end_time": "2019-02-15T06:01:21.557846Z",
     "start_time": "2019-02-15T06:01:21.551681Z"
    }
   },
   "outputs": [
    {
     "data": {
      "text/latex": [
       "Quantum object: dims = [[2], [2]], shape = (2, 2), type = oper, isherm = True\\begin{equation*}\\left(\\begin{array}{*{11}c}1.0 & 0.0\\\\0.0 & 0.0\\\\\\end{array}\\right)\\end{equation*}"
      ],
      "text/plain": [
       "Quantum object: dims = [[2], [2]], shape = (2, 2), type = oper, isherm = True\n",
       "Qobj data =\n",
       "[[1. 0.]\n",
       " [0. 0.]]"
      ]
     },
     "execution_count": 108,
     "metadata": {},
     "output_type": "execute_result"
    }
   ],
   "source": [
    "one_dm = ket2dm(qone)\n",
    "one_dm"
   ]
  },
  {
   "cell_type": "code",
   "execution_count": 109,
   "metadata": {
    "ExecuteTime": {
     "end_time": "2019-02-15T06:01:39.186534Z",
     "start_time": "2019-02-15T06:01:39.177549Z"
    }
   },
   "outputs": [
    {
     "data": {
      "text/plain": [
       "1.0"
      ]
     },
     "execution_count": 109,
     "metadata": {},
     "output_type": "execute_result"
    }
   ],
   "source": [
    "fidelity(zero_dm, zero_dm)"
   ]
  },
  {
   "cell_type": "code",
   "execution_count": 111,
   "metadata": {
    "ExecuteTime": {
     "end_time": "2019-02-15T06:06:27.318346Z",
     "start_time": "2019-02-15T06:06:27.308950Z"
    }
   },
   "outputs": [
    {
     "data": {
      "text/plain": [
       "0.0"
      ]
     },
     "execution_count": 111,
     "metadata": {},
     "output_type": "execute_result"
    }
   ],
   "source": [
    "fidelity(zero_dm, one_dm)"
   ]
  },
  {
   "cell_type": "code",
   "execution_count": 112,
   "metadata": {
    "ExecuteTime": {
     "end_time": "2019-02-15T06:06:27.318346Z",
     "start_time": "2019-02-15T06:06:27.308950Z"
    }
   },
   "outputs": [
    {
     "data": {
      "text/plain": [
       "0.0"
      ]
     },
     "execution_count": 112,
     "metadata": {},
     "output_type": "execute_result"
    }
   ],
   "source": [
    "fidelity(one_dm, zero_dm)"
   ]
  },
  {
   "cell_type": "code",
   "execution_count": 113,
   "metadata": {
    "ExecuteTime": {
     "end_time": "2019-02-15T06:09:37.831837Z",
     "start_time": "2019-02-15T06:09:37.826929Z"
    }
   },
   "outputs": [
    {
     "data": {
      "text/latex": [
       "Quantum object: dims = [[2], [1]], shape = (2, 1), type = ket\\begin{equation*}\\left(\\begin{array}{*{11}c}(0.012-2.347\\times10^{-05}j)\\\\(0.999+0.031j)\\\\\\end{array}\\right)\\end{equation*}"
      ],
      "text/plain": [
       "Quantum object: dims = [[2], [1]], shape = (2, 1), type = ket\n",
       "Qobj data =\n",
       "[[0.01159567-2.34707516e-05j]\n",
       " [0.99943734+3.14729600e-02j]]"
      ]
     },
     "execution_count": 113,
     "metadata": {},
     "output_type": "execute_result"
    }
   ],
   "source": [
    "grape_no_diss.states[5]"
   ]
  },
  {
   "cell_type": "code",
   "execution_count": 114,
   "metadata": {
    "ExecuteTime": {
     "end_time": "2019-02-15T06:14:14.304865Z",
     "start_time": "2019-02-15T06:14:14.284089Z"
    }
   },
   "outputs": [
    {
     "data": {
      "text/latex": [
       "Quantum object: dims = [[2], [2]], shape = (2, 2), type = oper, isherm = True\\begin{equation*}\\left(\\begin{array}{*{11}c}1.339\\times10^{-04} & (0.012-3.850\\times10^{-04}j)\\\\(0.012+3.850\\times10^{-04}j) & 1.000\\\\\\end{array}\\right)\\end{equation*}"
      ],
      "text/plain": [
       "Quantum object: dims = [[2], [2]], shape = (2, 2), type = oper, isherm = True\n",
       "Qobj data =\n",
       "[[1.33895405e-04+0.j         1.15108042e-02-0.00038504j]\n",
       " [1.15108042e-02+0.00038504j 9.99866105e-01+0.j        ]]"
      ]
     },
     "execution_count": 114,
     "metadata": {},
     "output_type": "execute_result"
    }
   ],
   "source": [
    "grape_diss.states[5]"
   ]
  },
  {
   "cell_type": "code",
   "execution_count": 115,
   "metadata": {
    "ExecuteTime": {
     "end_time": "2019-02-15T06:14:51.447020Z",
     "start_time": "2019-02-15T06:14:51.441177Z"
    }
   },
   "outputs": [
    {
     "data": {
      "text/latex": [
       "Quantum object: dims = [[2], [2]], shape = (2, 2), type = oper, isherm = True\\begin{equation*}\\left(\\begin{array}{*{11}c}2.280\\times10^{-04} & (0.015-7.162\\times10^{-04}j)\\\\(0.015+7.162\\times10^{-04}j) & 1.000\\\\\\end{array}\\right)\\end{equation*}"
      ],
      "text/plain": [
       "Quantum object: dims = [[2], [2]], shape = (2, 2), type = oper, isherm = True\n",
       "Qobj data =\n",
       "[[2.28003289e-04+0.j         1.49807954e-02-0.00071617j]\n",
       " [1.49807954e-02+0.00071617j 9.99771997e-01+0.j        ]]"
      ]
     },
     "execution_count": 115,
     "metadata": {},
     "output_type": "execute_result"
    }
   ],
   "source": [
    "grape_diss.states[7]"
   ]
  },
  {
   "cell_type": "code",
   "execution_count": 116,
   "metadata": {
    "ExecuteTime": {
     "end_time": "2019-02-15T06:15:56.185352Z",
     "start_time": "2019-02-15T06:15:56.165445Z"
    }
   },
   "outputs": [
    {
     "data": {
      "text/plain": [
       "0.015099777811811394"
      ]
     },
     "execution_count": 116,
     "metadata": {},
     "output_type": "execute_result"
    }
   ],
   "source": [
    "fidelity(grape_diss.states[7], one_dm)"
   ]
  },
  {
   "cell_type": "code",
   "execution_count": null,
   "metadata": {},
   "outputs": [],
   "source": [
    "#0.012−2.347×10**−05j)"
   ]
  },
  {
   "cell_type": "code",
   "execution_count": 120,
   "metadata": {
    "ExecuteTime": {
     "end_time": "2019-02-15T06:18:17.752952Z",
     "start_time": "2019-02-15T06:18:17.749775Z"
    }
   },
   "outputs": [],
   "source": [
    "def infidelity_tejas(dm, d=2):\n",
    "    r\"\"\"Brief description of the function\"\"\"\n",
    "    infid = 1 - fidelity(one_dm, dm)\n",
    "    return infid"
   ]
  },
  {
   "cell_type": "code",
   "execution_count": 121,
   "metadata": {
    "ExecuteTime": {
     "end_time": "2019-02-15T06:18:18.219027Z",
     "start_time": "2019-02-15T06:18:18.215151Z"
    }
   },
   "outputs": [],
   "source": [
    "infid_dm_vec = vectorize(infidelity_tejas)"
   ]
  },
  {
   "cell_type": "code",
   "execution_count": 122,
   "metadata": {
    "ExecuteTime": {
     "end_time": "2019-02-15T06:18:19.146215Z",
     "start_time": "2019-02-15T06:18:18.676084Z"
    }
   },
   "outputs": [],
   "source": [
    "infid_grape_diss = infid_dm_vec(grape_diss.states) "
   ]
  },
  {
   "cell_type": "code",
   "execution_count": 123,
   "metadata": {
    "ExecuteTime": {
     "end_time": "2019-02-15T06:18:49.026026Z",
     "start_time": "2019-02-15T06:18:49.021082Z"
    }
   },
   "outputs": [
    {
     "data": {
      "text/plain": [
       "500"
      ]
     },
     "execution_count": 123,
     "metadata": {},
     "output_type": "execute_result"
    }
   ],
   "source": [
    "len(infid_grape_diss)"
   ]
  },
  {
   "cell_type": "code",
   "execution_count": 124,
   "metadata": {
    "ExecuteTime": {
     "end_time": "2019-02-15T06:19:32.295179Z",
     "start_time": "2019-02-15T06:19:31.846070Z"
    }
   },
   "outputs": [],
   "source": [
    "infid_grape_diss_optimized = infid_dm_vec(grape_diss_optimized.states) "
   ]
  },
  {
   "cell_type": "code",
   "execution_count": 125,
   "metadata": {
    "ExecuteTime": {
     "end_time": "2019-02-15T06:19:49.148087Z",
     "start_time": "2019-02-15T06:19:49.143486Z"
    }
   },
   "outputs": [
    {
     "data": {
      "text/plain": [
       "500"
      ]
     },
     "execution_count": 125,
     "metadata": {},
     "output_type": "execute_result"
    }
   ],
   "source": [
    "len(infid_grape_diss_optimized)"
   ]
  },
  {
   "cell_type": "markdown",
   "metadata": {},
   "source": [
    "### plots"
   ]
  },
  {
   "cell_type": "code",
   "execution_count": 130,
   "metadata": {
    "ExecuteTime": {
     "end_time": "2019-02-15T06:38:35.501215Z",
     "start_time": "2019-02-15T06:38:35.324621Z"
    },
    "code_folding": []
   },
   "outputs": [
    {
     "data": {
      "image/png": "[encoded data removed]",
      "text/plain": [
       "<Figure size 432x288 with 1 Axes>"
      ]
     },
     "metadata": {},
     "output_type": "display_data"
    }
   ],
   "source": [
    "ax = axes()\n",
    "ax.plot(times, infid_grape_no_diss, label='grape_no_diss')\n",
    "ax.plot(times, infid_grape_diss, label='grape_diss')\n",
    "ax.plot(times, infid_grape_diss_optimized, label='grape_diss_optimized')\n",
    "#ax.plot(x, cos(x), ':b', label='cos(x)')'-g',\n",
    "#ax.axis('equal')\n",
    "ax.legend()\n",
    "ax.set(xlim=(times[0],times[-1]), ylim=(0, 1.1),\n",
    "       xlabel='time', ylabel='Infidelity',\n",
    "       title='Infidelity as a function of time ');"
   ]
  },
  {
   "cell_type": "code",
   "execution_count": 131,
   "metadata": {
    "ExecuteTime": {
     "end_time": "2019-02-15T06:48:44.315096Z",
     "start_time": "2019-02-15T06:48:44.147294Z"
    }
   },
   "outputs": [
    {
     "data": {
      "image/png": "[encoded data removed]",
      "text/plain": [
       "<Figure size 432x288 with 1 Axes>"
      ]
     },
     "metadata": {},
     "output_type": "display_data"
    }
   ],
   "source": [
    "ax = axes()\n",
    "ax.plot(times, infid_grape_no_diss, label='grape_no_diss')\n",
    "ax.plot(times, infid_grape_diss, label='grape_diss')\n",
    "#ax.plot(times, infid_grape_diss_optimized, label='grape_diss_optimized')\n",
    "#ax.plot(x, cos(x), ':b', label='cos(x)')'-g',\n",
    "#ax.axis('equal')\n",
    "ax.legend()\n",
    "\n",
    "ax.set(xlim=(times[0],times[-1]), ylim=(0, 1.1),\n",
    "       xlabel='time', ylabel='Infidelity',\n",
    "       title='Infidelity as a function of time ');"
   ]
  },
  {
   "cell_type": "code",
   "execution_count": 132,
   "metadata": {
    "ExecuteTime": {
     "end_time": "2019-02-15T06:48:44.315096Z",
     "start_time": "2019-02-15T06:48:44.147294Z"
    }
   },
   "outputs": [
    {
     "data": {
      "image/png": "[encoded data removed]",
      "text/plain": [
       "<Figure size 432x288 with 1 Axes>"
      ]
     },
     "metadata": {},
     "output_type": "display_data"
    }
   ],
   "source": [
    "ax = axes()\n",
    "ax.plot(times, infid_grape_no_diss, label='grape_no_diss')\n",
    "#ax.plot(times, infid_grape_diss, label='grape_diss')\n",
    "ax.plot(times, infid_grape_diss_optimized, label='grape_diss_optimized')\n",
    "#ax.plot(x, cos(x), ':b', label='cos(x)')'-g',\n",
    "#ax.axis('equal')\n",
    "ax.legend()\n",
    "\n",
    "ax.set(xlim=(times[0],times[-1]), ylim=(0, 1.1),\n",
    "       xlabel='time', ylabel='Infidelity',\n",
    "       title='Infidelity as a function of time ');"
   ]
  },
  {
   "cell_type": "code",
   "execution_count": 143,
   "metadata": {
    "ExecuteTime": {
     "end_time": "2019-02-15T08:59:53.106409Z",
     "start_time": "2019-02-15T08:59:52.951396Z"
    }
   },
   "outputs": [
    {
     "name": "stderr",
     "output_type": "stream",
     "text": [
      "/anaconda3/envs/qutip-env/lib/python3.6/site-packages/numpy/core/numeric.py:492: ComplexWarning: Casting complex values to real discards the imaginary part\n",
      "  return array(a, dtype, copy=False, order=order)\n",
      "/anaconda3/envs/qutip-env/lib/python3.6/site-packages/matplotlib/transforms.py:954: ComplexWarning: Casting complex values to real discards the imaginary part\n",
      "  self._points[:, 1] = interval\n"
     ]
    },
    {
     "data": {
      "image/png": "[encoded data removed]",
      "text/plain": [
       "<Figure size 432x288 with 1 Axes>"
      ]
     },
     "metadata": {},
     "output_type": "display_data"
    }
   ],
   "source": [
    "ax = axes()\n",
    "c_diff = result.u[-1, 0, : ] - xi_opt\n",
    "ax.plot(times, c_diff)\n",
    "c_max = amax(c_diff) + 0.1\n",
    "c_min = amin(c_diff) - 0.1\n",
    "\n",
    "ax.set(xlim=(0, total_time_evo), ylim=(c_min, c_max),\n",
    "       xlabel='time', ylabel= 'diff',\n",
    "       title='difference');"
   ]
  },
  {
   "cell_type": "code",
   "execution_count": null,
   "metadata": {},
   "outputs": [],
   "source": []
  },
  {
   "cell_type": "code",
   "execution_count": null,
   "metadata": {},
   "outputs": [],
   "source": []
  },
  {
   "cell_type": "code",
   "execution_count": null,
   "metadata": {},
   "outputs": [],
   "source": []
  },
  {
   "cell_type": "code",
   "execution_count": null,
   "metadata": {},
   "outputs": [],
   "source": []
  },
  {
   "cell_type": "code",
   "execution_count": null,
   "metadata": {},
   "outputs": [],
   "source": []
  },
  {
   "cell_type": "code",
   "execution_count": null,
   "metadata": {
    "ExecuteTime": {
     "end_time": "2019-02-15T04:25:13.715786Z",
     "start_time": "2019-02-15T04:18:06.950Z"
    }
   },
   "outputs": [],
   "source": [
    "ax = axes()\n",
    "ax.plot(times, xi_opt)\n",
    "xi_max = amax(xi_opt) + 0.1\n",
    "xi_min = amin(xi_opt) - 0.1\n",
    "\n",
    "ax.set(xlim=(0, total_time_evo), ylim=(xi_min, xi_max),\n",
    "       xlabel='time', ylabel= r'$g_{with diss}$',\n",
    "       title='Control field in the presence of dissipation');"
   ]
  },
  {
   "cell_type": "markdown",
   "metadata": {},
   "source": [
    "## Integrated APS stuff"
   ]
  },
  {
   "cell_type": "code",
   "execution_count": null,
   "metadata": {
    "ExecuteTime": {
     "end_time": "2019-02-16T18:50:07.295078Z",
     "start_time": "2019-02-16T17:12:21.049Z"
    },
    "code_folding": []
   },
   "outputs": [],
   "source": [
    "def cF2p(Q_G, tejas_c):\n",
    "    r\"\"\"Takes in the 2 control fields and produces the plot directly.\n",
    "    The plot contains the following lines:\n",
    "    1. Qutip grape without dissipation\n",
    "    2. Qutip grape with dissipation\n",
    "    3. My  control field with dissipation  \n",
    "    Does some stuff.\n",
    "    \n",
    "    Parameters\n",
    "    ----------\n",
    "    Q_G     : numpy array? \n",
    "              control field Qutip grape without dissipation\n",
    "         \n",
    "    tejas_c : numpy array? \n",
    "              My  control field with dissipation for open quantum system\n",
    "    \n",
    "    \n",
    "    Returns\n",
    "    -------\n",
    "    inFidelity vector for \n",
    "    1. Qutip grape without dissipation    : infid_grape_no_diss\n",
    "    2. Qutip grape with dissipation       : infid_grape_diss \n",
    "    3. My  control field with dissipation : infid_grape_diss_optimized\n",
    "    \n",
    "    \n",
    "    \"\"\"\n",
    "    qone = basis(2, 0)\n",
    "    qzero = basis(2, 1)\n",
    "    c_ops_tejas = sqrt(gamma)*Lin\n",
    "    # state list building\n",
    "    H_qutip = [H_0, [H_1, Q_G]] #result.u[-1, 0, :]\n",
    "    print(\"grape_no_diss\")\n",
    "    grape_no_diss = mesolve(H_qutip, qzero, times, c_ops=[], \n",
    "                            e_ops=[], args={}, options=None, \n",
    "                            progress_bar=TextProgressBar() )\n",
    "    print(\"\")\n",
    "    print(\"grape_diss\")\n",
    "    grape_diss = mesolve(H_qutip, qzero, times, c_ops=[c_ops_tejas], \n",
    "                         e_ops=[], args={}, options=None, \n",
    "                         progress_bar=TextProgressBar() )\n",
    "    print(\"\")\n",
    "    print(\"grape_diss_optimized\")\n",
    "    H_diss_optimized = [H_0, [H_1, tejas_c ]]\n",
    "    grape_diss_optimized = mesolve(H_diss_optimized, qzero, times, \n",
    "                                   c_ops=[c_ops_tejas], e_ops=[], \n",
    "                                   args={}, options=None,\n",
    "                                   progress_bar=TextProgressBar() )\n",
    "    # H_diss_optimized should have been written isntead of H_no_diss\n",
    "    print(\"\")\n",
    "    print(\"\")\n",
    "    \n",
    "    # states list to fidelity list\n",
    "    one_dm = ket2dm(qone)\n",
    "    zero_dm = ket2dm(qzero)\n",
    "    def infidelity_tejas(dm, d=2):\n",
    "        r\"\"\"Brief description of the function\"\"\"\n",
    "        infid = 1 - fidelity(one_dm, dm)\n",
    "        return infid\n",
    "    \n",
    "    infid_dm_vec = vectorize(infidelity_tejas)\n",
    "    infid_grape_no_diss = infid_dm_vec(grape_no_diss.states) \n",
    "    infid_grape_diss = infid_dm_vec(grape_diss.states) \n",
    "    infid_grape_diss_optimized = infid_dm_vec(grape_diss_optimized.states) \n",
    "    list_of_infid_vec = [infid_grape_no_diss, infid_grape_diss, \n",
    "                         infid_grape_diss_optimized]\n",
    "    return list_of_infid_vec"
   ]
  },
  {
   "cell_type": "code",
   "execution_count": null,
   "metadata": {
    "ExecuteTime": {
     "end_time": "2019-02-16T18:50:07.300878Z",
     "start_time": "2019-02-16T17:12:22.075Z"
    }
   },
   "outputs": [],
   "source": [
    "#infid_grape_no_diss, infid_grape_diss, infid_grape_diss_optimized = \\\n",
    "#list_of_infid_vec = cF2p(Q_G, tejas_c) \n",
    "list_of_infid_vec = cF2p(result.u[-1, 0, :], xi_opt)                                                    "
   ]
  },
  {
   "cell_type": "code",
   "execution_count": null,
   "metadata": {
    "ExecuteTime": {
     "end_time": "2019-02-16T18:50:07.306850Z",
     "start_time": "2019-02-16T17:12:23.264Z"
    },
    "code_folding": []
   },
   "outputs": [],
   "source": [
    "ax = axes()\n",
    "ax.plot(times, list_of_infid_vec[0], label='grape_no_diss')\n",
    "ax.plot(times, list_of_infid_vec[1], label='grape_diss')\n",
    "ax.plot(times, list_of_infid_vec[2], label='grape_diss_optimized')\n",
    "#ax.plot(x, cos(x), ':b', label='cos(x)')'-g',\n",
    "#ax.axis('equal')\n",
    "ax.legend()\n",
    "ax.set(xlim=(times[0],times[-1]), ylim=(0, 1.1),\n",
    "       xlabel='time', ylabel='Infidelity',\n",
    "       title='Infidelity as a function of time ');"
   ]
  },
  {
   "cell_type": "code",
   "execution_count": null,
   "metadata": {},
   "outputs": [],
   "source": []
  },
  {
   "cell_type": "markdown",
   "metadata": {},
   "source": [
    "## Versions"
   ]
  },
  {
   "cell_type": "code",
   "execution_count": null,
   "metadata": {
    "ExecuteTime": {
     "end_time": "2019-02-15T04:25:13.717304Z",
     "start_time": "2019-02-15T04:18:07.092Z"
    }
   },
   "outputs": [],
   "source": [
    "from qutip.ipynbtools import version_table\n",
    "\n",
    "version_table()"
   ]
  },
  {
   "cell_type": "code",
   "execution_count": null,
   "metadata": {
    "ExecuteTime": {
     "end_time": "2019-02-15T04:25:13.718870Z",
     "start_time": "2019-02-15T04:18:07.096Z"
    }
   },
   "outputs": [],
   "source": [
    "cnot()"
   ]
  },
  {
   "cell_type": "code",
   "execution_count": null,
   "metadata": {},
   "outputs": [],
   "source": []
  }
 ],
 "metadata": {
  "kernelspec": {
   "display_name": "Python 3",
   "language": "python",
   "name": "python3"
  },
  "language_info": {
   "codemirror_mode": {
    "name": "ipython",
    "version": 3
   },
   "file_extension": ".py",
   "mimetype": "text/x-python",
   "name": "python",
   "nbconvert_exporter": "python",
   "pygments_lexer": "ipython3",
   "version": "3.6.8"
  },
  "toc": {
   "base_numbering": 1,
   "nav_menu": {},
   "number_sections": true,
   "sideBar": true,
   "skip_h1_title": false,
   "title_cell": "Table of Contents",
   "title_sidebar": "Contents",
   "toc_cell": false,
   "toc_position": {
    "height": "calc(100% - 180px)",
    "left": "10px",
    "top": "150px",
    "width": "288px"
   },
   "toc_section_display": true,
   "toc_window_display": true
  },
  "varInspector": {
   "cols": {
    "lenName": 16,
    "lenType": 16,
    "lenVar": 40
   },
   "kernels_config": {
    "python": {
     "delete_cmd_postfix": "",
     "delete_cmd_prefix": "del ",
     "library": "var_list.py",
     "varRefreshCmd": "print(var_dic_list())"
    },
    "r": {
     "delete_cmd_postfix": ") ",
     "delete_cmd_prefix": "rm(",
     "library": "var_list.r",
     "varRefreshCmd": "cat(var_dic_list()) "
    }
   },
   "types_to_exclude": [
    "module",
    "function",
    "builtin_function_or_method",
    "instance",
    "_Feature"
   ],
   "window_display": false
  }
 },
 "nbformat": 4,
 "nbformat_minor": 2
}
