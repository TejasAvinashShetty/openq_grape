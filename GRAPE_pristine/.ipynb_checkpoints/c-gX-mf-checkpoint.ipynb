{
 "cells": [
  {
   "cell_type": "markdown",
   "metadata": {},
   "source": [
    "# Pristine GRAPE calculation of control fields for cnot implementation"
   ]
  },
  {
   "cell_type": "markdown",
   "metadata": {},
   "source": [
    "Robert Johansson (robert@riken.jp)"
   ]
  },
  {
   "cell_type": "code",
   "execution_count": 14,
   "metadata": {
    "ExecuteTime": {
     "end_time": "2019-02-13T14:59:30.629829Z",
     "start_time": "2019-02-13T14:59:30.359999Z"
    }
   },
   "outputs": [],
   "source": [
    "%matplotlib inline\n",
    "import matplotlib.pyplot as plt\n",
    "import time\n",
    "import numpy as np"
   ]
  },
  {
   "cell_type": "code",
   "execution_count": 15,
   "metadata": {
    "ExecuteTime": {
     "end_time": "2019-02-13T14:59:30.873098Z",
     "start_time": "2019-02-13T14:59:30.867677Z"
    }
   },
   "outputs": [],
   "source": [
    "from qutip import *\n",
    "from qutip.control import *"
   ]
  },
  {
   "cell_type": "code",
   "execution_count": 16,
   "metadata": {
    "ExecuteTime": {
     "end_time": "2019-02-13T14:59:31.260262Z",
     "start_time": "2019-02-13T14:59:31.252537Z"
    }
   },
   "outputs": [],
   "source": [
    "T = 2 * np.pi \n",
    "times = np.linspace(0, T, 500)"
   ]
  },
  {
   "cell_type": "markdown",
   "metadata": {},
   "source": [
    "\"\"\"\n",
    "    Class for representing the result of a GRAPE simulation.\n",
    "\n",
    "    Attributes\n",
    "    ----------\n",
    "    u : array\n",
    "        GRAPE control pulse matrix.\n",
    "\n",
    "    H_t : time-dependent Hamiltonian\n",
    "        The time-dependent Hamiltonian that realize the GRAPE pulse sequence.\n",
    "\n",
    "    U_f : Qobj\n",
    "        The final unitary transformation that is realized by the evolution\n",
    "        of the system with the GRAPE generated pulse sequences.\n",
    "    \n",
    "    \"\"\""
   ]
  },
  {
   "cell_type": "code",
   "execution_count": 17,
   "metadata": {
    "ExecuteTime": {
     "end_time": "2019-02-13T14:59:33.490055Z",
     "start_time": "2019-02-13T14:59:33.412034Z"
    }
   },
   "outputs": [],
   "source": [
    "U = sigmax()\n",
    "R = 500\n",
    "H_ops = [sigmay()]\n",
    "H_labels = [r'$u_{y}$']"
   ]
  },
  {
   "cell_type": "markdown",
   "metadata": {},
   "source": [
    "$U = \\sigma_{x} $   \n",
    "$H_{ops} = [\\sigma_{y} ] $\n"
   ]
  },
  {
   "cell_type": "code",
   "execution_count": 18,
   "metadata": {
    "ExecuteTime": {
     "end_time": "2019-02-13T14:59:41.722473Z",
     "start_time": "2019-02-13T14:59:41.716180Z"
    }
   },
   "outputs": [],
   "source": [
    "omega_1 = 0.5\n",
    "H0 =  omega_1 * sigmaz()\n",
    "\n",
    "c_ops = []"
   ]
  },
  {
   "cell_type": "markdown",
   "metadata": {},
   "source": [
    "# GRAPE"
   ]
  },
  {
   "cell_type": "code",
   "execution_count": 19,
   "metadata": {
    "ExecuteTime": {
     "end_time": "2019-02-13T14:59:43.334428Z",
     "start_time": "2019-02-13T14:59:43.329819Z"
    }
   },
   "outputs": [],
   "source": [
    "from qutip.control.grape import plot_grape_control_fields, _overlap, grape_unitary_adaptive, cy_grape_unitary"
   ]
  },
  {
   "cell_type": "code",
   "execution_count": 20,
   "metadata": {
    "ExecuteTime": {
     "end_time": "2019-02-13T14:59:45.555415Z",
     "start_time": "2019-02-13T14:59:45.548950Z"
    }
   },
   "outputs": [],
   "source": [
    "from scipy.interpolate import interp1d\n",
    "from qutip.ui.progressbar import TextProgressBar"
   ]
  },
  {
   "cell_type": "code",
   "execution_count": 21,
   "metadata": {
    "ExecuteTime": {
     "end_time": "2019-02-13T15:01:10.078765Z",
     "start_time": "2019-02-13T15:01:10.054572Z"
    }
   },
   "outputs": [],
   "source": [
    "u0 = np.array([np.random.rand(len(times)) * 2 * np.pi * 0.05 for _ in range(len(H_ops))])\n",
    "\n",
    "u0 = [np.convolve(np.ones(10)/10, u0[idx,:], mode='same') for idx in range(len(H_ops))]\n",
    "\n",
    "u_limits = None #[0, 1 * 2 * pi]\n",
    "alpha = None"
   ]
  },
  {
   "cell_type": "code",
   "execution_count": 22,
   "metadata": {
    "ExecuteTime": {
     "end_time": "2019-02-13T15:08:13.085209Z",
     "start_time": "2019-02-13T15:01:14.887857Z"
    }
   },
   "outputs": [
    {
     "name": "stdout",
     "output_type": "stream",
     "text": [
      "10.0%. Run time:  44.18s. Est. time left: 00:00:06:37\n",
      "20.0%. Run time:  85.45s. Est. time left: 00:00:05:41\n",
      "30.0%. Run time: 126.96s. Est. time left: 00:00:04:56\n",
      "40.0%. Run time: 168.46s. Est. time left: 00:00:04:12\n",
      "50.0%. Run time: 210.32s. Est. time left: 00:00:03:30\n",
      "60.0%. Run time: 251.99s. Est. time left: 00:00:02:47\n",
      "70.0%. Run time: 294.16s. Est. time left: 00:00:02:06\n",
      "80.0%. Run time: 336.18s. Est. time left: 00:00:01:24\n",
      "90.0%. Run time: 377.62s. Est. time left: 00:00:00:41\n",
      "Total run time: 418.19s\n"
     ]
    }
   ],
   "source": [
    "result = cy_grape_unitary(U, H0, H_ops, R, times, u_start=u0, u_limits=u_limits,\n",
    "                          eps=2*np.pi*1, alpha=alpha, phase_sensitive=False,\n",
    "                          progress_bar=TextProgressBar())"
   ]
  },
  {
   "cell_type": "raw",
   "metadata": {},
   "source": [
    "U_f, H_list_func, u = grape_unitary_adaptive(U, H0, \n",
    "H_ops, R, times,u_start=u0, u_limits=u_limits, eps=2*pi*1, \n",
    "alpha=alpha, phase_sensitive=False, overlap_terminate=0.9999,\n",
    "progress_bar=TextProgressBar())\n"
   ]
  },
  {
   "cell_type": "markdown",
   "metadata": {},
   "source": [
    "## Plot control fields for cnot gate in the presense of single-qubit tunnelling"
   ]
  },
  {
   "cell_type": "markdown",
   "metadata": {},
   "source": [
    "plot_grape_control_fields(times, u, labels, uniform_axes=False):\n",
    "    \"\"\"\n",
    "    Plot a series of plots showing the GRAPE control fields given in the\n",
    "    given control pulse matrix u.\n",
    "\n",
    "    Parameters\n",
    "    ----------\n",
    "    times : array\n",
    "        Time coordinate array.\n",
    "\n",
    "    u : array\n",
    "        Control pulse matrix.\n",
    "\n",
    "    labels : list\n",
    "        List of labels for each control pulse sequence in the control pulse\n",
    "        matrix.\n",
    "\n",
    "    uniform_axes : bool\n",
    "        Whether or not to plot all pulse sequences using the same y-axis scale.\n",
    "    \n",
    "    \"\"\""
   ]
  },
  {
   "cell_type": "code",
   "execution_count": 23,
   "metadata": {
    "ExecuteTime": {
     "end_time": "2019-02-13T15:08:14.909244Z",
     "start_time": "2019-02-13T15:08:13.134267Z"
    }
   },
   "outputs": [
    {
     "data": {
      "image/png": "[encoded data removed]",
      "text/plain": [
       "<Figure size 576x144 with 1 Axes>"
      ]
     },
     "metadata": {},
     "output_type": "display_data"
    }
   ],
   "source": [
    "plot_grape_control_fields(times,\n",
    "                          result.u / (2 * np.pi), H_labels, uniform_axes=True);"
   ]
  },
  {
   "cell_type": "markdown",
   "metadata": {},
   "source": [
    "## Fidelity/overlap"
   ]
  },
  {
   "cell_type": "code",
   "execution_count": 24,
   "metadata": {
    "ExecuteTime": {
     "end_time": "2019-02-13T15:08:14.954152Z",
     "start_time": "2019-02-13T15:08:14.949021Z"
    }
   },
   "outputs": [
    {
     "data": {
      "text/latex": [
       "Quantum object: dims = [[2], [2]], shape = (2, 2), type = oper, isherm = True\\begin{equation*}\\left(\\begin{array}{*{11}c}0.0 & 1.0\\\\1.0 & 0.0\\\\\\end{array}\\right)\\end{equation*}"
      ],
      "text/plain": [
       "Quantum object: dims = [[2], [2]], shape = (2, 2), type = oper, isherm = True\n",
       "Qobj data =\n",
       "[[0. 1.]\n",
       " [1. 0.]]"
      ]
     },
     "execution_count": 24,
     "metadata": {},
     "output_type": "execute_result"
    }
   ],
   "source": [
    "U"
   ]
  },
  {
   "cell_type": "code",
   "execution_count": 25,
   "metadata": {
    "ExecuteTime": {
     "end_time": "2019-02-13T15:08:14.999198Z",
     "start_time": "2019-02-13T15:08:14.992473Z"
    }
   },
   "outputs": [
    {
     "data": {
      "text/latex": [
       "Quantum object: dims = [[2], [2]], shape = (2, 2), type = oper, isherm = False\\begin{equation*}\\left(\\begin{array}{*{11}c}3.391\\times10^{-16} & 1.0j\\\\1.0j & -1.849\\times10^{-16}\\\\\\end{array}\\right)\\end{equation*}"
      ],
      "text/plain": [
       "Quantum object: dims = [[2], [2]], shape = (2, 2), type = oper, isherm = False\n",
       "Qobj data =\n",
       "[[ 3.39084229e-16-3.94649591e-16j -5.31689550e-16+1.00000000e+00j]\n",
       " [ 6.50422211e-16+1.00000000e+00j -1.84903904e-16-1.68268177e-16j]]"
      ]
     },
     "execution_count": 25,
     "metadata": {},
     "output_type": "execute_result"
    }
   ],
   "source": [
    "result.U_f"
   ]
  },
  {
   "cell_type": "code",
   "execution_count": 35,
   "metadata": {
    "ExecuteTime": {
     "end_time": "2019-02-13T15:14:02.242901Z",
     "start_time": "2019-02-13T15:14:02.207124Z"
    }
   },
   "outputs": [
    {
     "data": {
      "text/latex": [
       "Quantum object: dims = [[2], [2]], shape = (2, 2), type = oper, isherm = True\\begin{equation*}\\left(\\begin{array}{*{11}c}0.0 & 1.0\\\\1.0 & 0.0\\\\\\end{array}\\right)\\end{equation*}"
      ],
      "text/plain": [
       "Quantum object: dims = [[2], [2]], shape = (2, 2), type = oper, isherm = True\n",
       "Qobj data =\n",
       "[[0. 1.]\n",
       " [1. 0.]]"
      ]
     },
     "execution_count": 35,
     "metadata": {},
     "output_type": "execute_result"
    }
   ],
   "source": [
    "result.U_f/1j"
   ]
  },
  {
   "cell_type": "code",
   "execution_count": 36,
   "metadata": {
    "ExecuteTime": {
     "end_time": "2019-02-13T15:14:29.474189Z",
     "start_time": "2019-02-13T15:14:29.221429Z"
    }
   },
   "outputs": [
    {
     "data": {
      "text/plain": [
       "(<Figure size 576x432 with 2 Axes>,\n",
       " <matplotlib.axes._subplots.AxesSubplot at 0x1a251a5dd8>)"
      ]
     },
     "execution_count": 36,
     "metadata": {},
     "output_type": "execute_result"
    },
    {
     "data": {
      "image/png": "[encoded data removed]",
      "text/plain": [
       "<Figure size 576x432 with 2 Axes>"
      ]
     },
     "metadata": {},
     "output_type": "display_data"
    }
   ],
   "source": [
    "hinton(result.U_f/1j)"
   ]
  },
  {
   "cell_type": "code",
   "execution_count": 34,
   "metadata": {
    "ExecuteTime": {
     "end_time": "2019-02-13T15:10:27.413416Z",
     "start_time": "2019-02-13T15:10:27.158858Z"
    }
   },
   "outputs": [
    {
     "data": {
      "text/plain": [
       "(<Figure size 576x432 with 2 Axes>,\n",
       " <matplotlib.axes._subplots.AxesSubplot at 0x1a25ce1ef0>)"
      ]
     },
     "execution_count": 34,
     "metadata": {},
     "output_type": "execute_result"
    },
    {
     "data": {
      "image/png": "[encoded data removed]",
      "text/plain": [
       "<Figure size 576x432 with 2 Axes>"
      ]
     },
     "metadata": {},
     "output_type": "display_data"
    }
   ],
   "source": [
    "hinton(result.U_f)"
   ]
  },
  {
   "cell_type": "code",
   "execution_count": 38,
   "metadata": {
    "ExecuteTime": {
     "end_time": "2019-02-13T15:15:37.654960Z",
     "start_time": "2019-02-13T15:15:37.648359Z"
    }
   },
   "outputs": [
    {
     "data": {
      "text/latex": [
       "Quantum object: dims = [[2], [2]], shape = (2, 2), type = oper, isherm = True\\begin{equation*}\\left(\\begin{array}{*{11}c}0.500 & 0.0\\\\0.0 & -0.500\\\\\\end{array}\\right)\\end{equation*}"
      ],
      "text/plain": [
       "Quantum object: dims = [[2], [2]], shape = (2, 2), type = oper, isherm = True\n",
       "Qobj data =\n",
       "[[ 0.5  0. ]\n",
       " [ 0.  -0.5]]"
      ]
     },
     "execution_count": 38,
     "metadata": {},
     "output_type": "execute_result"
    }
   ],
   "source": [
    "result.H_t[0]"
   ]
  },
  {
   "cell_type": "code",
   "execution_count": 39,
   "metadata": {
    "ExecuteTime": {
     "end_time": "2019-02-13T15:15:54.047481Z",
     "start_time": "2019-02-13T15:15:54.036316Z"
    }
   },
   "outputs": [
    {
     "data": {
      "text/plain": [
       "[Quantum object: dims = [[2], [2]], shape = (2, 2), type = oper, isherm = True\n",
       " Qobj data =\n",
       " [[0.+0.j 0.-1.j]\n",
       "  [0.+1.j 0.+0.j]],\n",
       " array([-2.30359010e-01, -2.17110788e-01, -1.84419941e-01, -1.70477766e-01,\n",
       "        -1.60360064e-01, -1.49279968e-01, -1.29399800e-01, -1.23344639e-01,\n",
       "        -1.06815195e-01, -7.23269323e-02, -8.00510475e-02, -7.39367166e-02,\n",
       "        -6.44375788e-02, -6.09124160e-02, -4.98940202e-02, -3.89597230e-02,\n",
       "        -3.85337234e-02, -3.10858258e-04,  6.09364296e-03, -5.27605930e-03,\n",
       "         9.75453821e-03,  4.30955827e-02,  3.04118977e-02,  3.72682178e-02,\n",
       "         5.00446954e-02,  7.76735678e-02,  9.60485597e-02,  8.35266118e-02,\n",
       "         1.07800088e-01,  1.26002944e-01,  1.26871315e-01,  1.29293602e-01,\n",
       "         1.55995823e-01,  1.91944319e-01,  2.12921904e-01,  2.00633161e-01,\n",
       "         2.17855716e-01,  2.19721860e-01,  2.21784481e-01,  2.41814142e-01,\n",
       "         2.70626469e-01,  2.56836551e-01,  2.55439934e-01,  2.35963160e-01,\n",
       "         2.28270586e-01,  2.62160788e-01,  2.46346796e-01,  2.65440454e-01,\n",
       "         2.76300906e-01,  2.68517749e-01,  2.79616515e-01,  3.08751949e-01,\n",
       "         3.13428322e-01,  3.43681217e-01,  3.48126763e-01,  3.42953191e-01,\n",
       "         3.58546124e-01,  3.58385597e-01,  3.54260607e-01,  3.57443453e-01,\n",
       "         3.44946510e-01,  3.41281694e-01,  3.37487547e-01,  3.37401201e-01,\n",
       "         3.45700044e-01,  3.40358294e-01,  3.59373835e-01,  3.73187271e-01,\n",
       "         3.92232481e-01,  4.14833149e-01,  4.26109186e-01,  4.49386015e-01,\n",
       "         4.85640657e-01,  4.97188097e-01,  5.29540916e-01,  5.44596935e-01,\n",
       "         5.54140487e-01,  5.65244505e-01,  5.61987201e-01,  5.64872468e-01,\n",
       "         5.83071195e-01,  5.63751836e-01,  5.55654764e-01,  5.56941007e-01,\n",
       "         5.49797351e-01,  5.42554554e-01,  5.54581732e-01,  5.48898918e-01,\n",
       "         5.63898057e-01,  5.55389222e-01,  5.55959188e-01,  5.79412778e-01,\n",
       "         5.77534035e-01,  5.89121760e-01,  5.97709269e-01,  6.22829474e-01,\n",
       "         6.13530735e-01,  6.22761077e-01,  6.24053882e-01,  6.23989351e-01,\n",
       "         6.20063865e-01,  6.07505046e-01,  6.11201564e-01,  6.10404856e-01,\n",
       "         6.10379998e-01,  6.11110296e-01,  5.98941064e-01,  5.92072690e-01,\n",
       "         5.79854270e-01,  6.06809252e-01,  6.21852325e-01,  6.31827681e-01,\n",
       "         6.56634552e-01,  6.41091083e-01,  6.29994697e-01,  6.19873920e-01,\n",
       "         6.26897595e-01,  6.54038720e-01,  6.76004045e-01,  6.61252011e-01,\n",
       "         6.68215258e-01,  6.70040343e-01,  6.58389413e-01,  6.74006759e-01,\n",
       "         6.98833091e-01,  7.06860021e-01,  7.11725315e-01,  7.05329509e-01,\n",
       "         6.88862456e-01,  6.87371638e-01,  6.83059198e-01,  6.98355069e-01,\n",
       "         6.85398683e-01,  6.78647799e-01,  6.49402437e-01,  6.49630820e-01,\n",
       "         6.68333693e-01,  6.75615541e-01,  6.73335276e-01,  6.74457519e-01,\n",
       "         6.81460748e-01,  6.52366056e-01,  6.61099357e-01,  6.65569576e-01,\n",
       "         6.85627368e-01,  6.96730628e-01,  6.67671221e-01,  6.37302985e-01,\n",
       "         6.23064498e-01,  6.28504659e-01,  6.12486363e-01,  6.26884411e-01,\n",
       "         6.17564491e-01,  6.23416798e-01,  6.13582941e-01,  6.03945372e-01,\n",
       "         6.07768123e-01,  6.17212339e-01,  6.38173319e-01,  6.28563373e-01,\n",
       "         6.30339305e-01,  6.33547532e-01,  6.31854471e-01,  6.24161115e-01,\n",
       "         6.14171322e-01,  5.86977913e-01,  5.83863021e-01,  5.95013751e-01,\n",
       "         5.95742442e-01,  5.97222855e-01,  5.94106296e-01,  5.89715102e-01,\n",
       "         6.01945139e-01,  5.95493159e-01,  5.96923325e-01,  6.08215316e-01,\n",
       "         6.06170640e-01,  5.72374224e-01,  5.59394906e-01,  5.32707334e-01,\n",
       "         5.17967115e-01,  5.03024493e-01,  4.95196356e-01,  4.76794571e-01,\n",
       "         4.79785938e-01,  4.67074367e-01,  4.70653121e-01,  4.63997625e-01,\n",
       "         4.32627258e-01,  4.32339285e-01,  4.10263934e-01,  4.14612061e-01,\n",
       "         4.01949762e-01,  4.13313222e-01,  3.81777426e-01,  3.73693374e-01,\n",
       "         3.48820440e-01,  3.59060820e-01,  3.65261577e-01,  3.64191679e-01,\n",
       "         3.85320773e-01,  3.68280872e-01,  3.55638006e-01,  3.45811919e-01,\n",
       "         3.56801721e-01,  3.38680014e-01,  3.41941846e-01,  3.23260450e-01,\n",
       "         3.05394533e-01,  3.06637415e-01,  2.84875205e-01,  2.63462077e-01,\n",
       "         2.55424669e-01,  2.52880112e-01,  2.32873232e-01,  2.52025599e-01,\n",
       "         2.49462324e-01,  2.45846566e-01,  2.51254559e-01,  2.33357258e-01,\n",
       "         2.15281245e-01,  2.08132723e-01,  1.97139001e-01,  1.86439011e-01,\n",
       "         1.76462229e-01,  1.64604520e-01,  1.41253353e-01,  1.29422892e-01,\n",
       "         1.08772288e-01,  9.84696074e-02,  9.33400957e-02,  1.02108577e-01,\n",
       "         9.60174040e-02,  8.58909712e-02,  6.90483034e-02,  4.08424805e-02,\n",
       "         3.64361289e-02,  1.79358166e-02,  2.36227267e-02,  1.02180006e-02,\n",
       "         8.02990296e-03,  1.34425320e-03, -1.57116697e-02, -2.29307653e-02,\n",
       "        -2.62675619e-02, -9.61421215e-03, -7.14451348e-03, -8.05184957e-03,\n",
       "        -1.34812019e-02, -2.68681567e-02, -5.07311612e-02, -6.21930451e-02,\n",
       "        -5.08566822e-02, -8.60526323e-02, -6.93993320e-02, -8.09683057e-02,\n",
       "        -9.70219210e-02, -9.05700041e-02, -9.16778864e-02, -1.01265848e-01,\n",
       "        -1.07344004e-01, -1.24307717e-01, -1.39510765e-01, -1.44486619e-01,\n",
       "        -1.52430838e-01, -1.72254826e-01, -1.94175171e-01, -2.08398524e-01,\n",
       "        -2.23133608e-01, -2.10274839e-01, -1.99318824e-01, -2.02341164e-01,\n",
       "        -2.14781320e-01, -2.21353724e-01, -2.36954566e-01, -2.40432844e-01,\n",
       "        -2.39119734e-01, -2.51009060e-01, -2.65040895e-01, -2.77432691e-01,\n",
       "        -2.85195131e-01, -2.92804573e-01, -3.02225492e-01, -3.00657470e-01,\n",
       "        -3.10312175e-01, -3.20301813e-01, -3.11637436e-01, -3.17893220e-01,\n",
       "        -3.10694147e-01, -3.09615324e-01, -3.13513118e-01, -3.32031683e-01,\n",
       "        -3.48182549e-01, -3.36466448e-01, -3.41988240e-01, -3.29569492e-01,\n",
       "        -3.36745499e-01, -3.40363555e-01, -3.42715669e-01, -3.55895371e-01,\n",
       "        -3.56391686e-01, -3.34067604e-01, -3.26899236e-01, -3.31181580e-01,\n",
       "        -3.34311952e-01, -3.62963076e-01, -3.84216093e-01, -3.74228662e-01,\n",
       "        -3.76883217e-01, -3.70482850e-01, -3.68940835e-01, -3.76771892e-01,\n",
       "        -3.73653311e-01, -3.98570651e-01, -4.12415558e-01, -4.17319842e-01,\n",
       "        -4.14988802e-01, -4.33937924e-01, -4.63752432e-01, -4.70475839e-01,\n",
       "        -5.00888096e-01, -5.01408046e-01, -5.14677197e-01, -5.18337852e-01,\n",
       "        -5.05715037e-01, -4.87661362e-01, -4.78534927e-01, -4.59086006e-01,\n",
       "        -4.40918940e-01, -4.40133799e-01, -4.32990720e-01, -4.58925830e-01,\n",
       "        -4.69056133e-01, -4.44210136e-01, -4.53818061e-01, -4.60664376e-01,\n",
       "        -4.75298765e-01, -4.89146137e-01, -4.91748827e-01, -5.11678626e-01,\n",
       "        -4.95424840e-01, -4.68051892e-01, -4.55572889e-01, -4.70502605e-01,\n",
       "        -4.73587493e-01, -4.89327280e-01, -4.93247636e-01, -5.00697086e-01,\n",
       "        -5.06673276e-01, -5.01191793e-01, -5.02945591e-01, -5.03192580e-01,\n",
       "        -4.90623470e-01, -4.90631368e-01, -4.99110514e-01, -4.82296764e-01,\n",
       "        -4.64922644e-01, -4.66165257e-01, -4.63849901e-01, -4.59960644e-01,\n",
       "        -4.56178838e-01, -4.82156213e-01, -5.02533639e-01, -5.12768586e-01,\n",
       "        -4.99567736e-01, -4.94344568e-01, -5.00744646e-01, -4.96434202e-01,\n",
       "        -4.87780974e-01, -4.82839505e-01, -4.95179688e-01, -4.71001754e-01,\n",
       "        -4.41229197e-01, -4.32440475e-01, -4.25996453e-01, -4.15924586e-01,\n",
       "        -4.15404442e-01, -4.10074241e-01, -4.06966730e-01, -3.84957880e-01,\n",
       "        -3.92975697e-01, -3.97204477e-01, -4.00337497e-01, -3.76368918e-01,\n",
       "        -3.63671652e-01, -3.85889097e-01, -3.79875850e-01, -3.70436138e-01,\n",
       "        -3.80803789e-01, -3.85462682e-01, -3.55034349e-01, -3.35995169e-01,\n",
       "        -3.52972706e-01, -3.67653713e-01, -3.70527058e-01, -3.40002472e-01,\n",
       "        -3.43557698e-01, -3.41190069e-01, -3.19287863e-01, -3.28703940e-01,\n",
       "        -3.33187796e-01, -3.45877491e-01, -3.22703804e-01, -3.13072228e-01,\n",
       "        -2.94226166e-01, -2.96082462e-01, -2.83851535e-01, -2.75422486e-01,\n",
       "        -2.84479652e-01, -2.62326027e-01, -2.51163771e-01, -2.27608360e-01,\n",
       "        -2.27975740e-01, -2.33186323e-01, -2.39443545e-01, -2.45740494e-01,\n",
       "        -2.40923388e-01, -2.33662879e-01, -2.15002178e-01, -2.21543904e-01,\n",
       "        -2.06606199e-01, -1.99786901e-01, -1.83340557e-01, -1.55635707e-01,\n",
       "        -1.60454248e-01, -1.50674267e-01, -1.34420834e-01, -1.36353103e-01,\n",
       "        -1.35008835e-01, -1.24960917e-01, -1.46715667e-01, -1.41430379e-01,\n",
       "        -1.35587571e-01, -1.34370187e-01, -1.05625071e-01, -9.50394360e-02,\n",
       "        -8.80181462e-02, -7.06834152e-02, -5.05360582e-02, -2.62446448e-02,\n",
       "        -5.67177048e-03, -1.89759747e-02,  1.17851179e-03,  1.50781739e-02,\n",
       "         2.22111255e-02,  3.84460340e-02,  3.91465315e-02,  3.56173305e-02,\n",
       "         2.61947117e-02,  3.65271264e-02,  4.95497147e-02,  6.42720007e-02,\n",
       "         4.86914395e-02,  4.06174526e-02,  5.47367139e-02,  5.95697000e-02,\n",
       "         8.58336465e-02,  1.08127691e-01,  1.36431775e-01,  1.40576990e-01,\n",
       "         1.58033571e-01,  1.84679857e-01,  2.11242815e-01,  2.29257946e-01,\n",
       "         2.36704700e-01,  2.35042771e-01,  2.24057736e-01,  2.38531280e-01,\n",
       "         2.33727076e-01,  2.36395583e-01,  2.36049811e-01,  2.17315346e-01,\n",
       "         2.10488076e-01,  2.23868332e-01,  2.09472242e-01,  2.31659636e-01,\n",
       "         2.65026261e-01,  2.56779168e-01,  2.61658079e-01,  2.66450436e-01,\n",
       "         2.82491361e-01,  3.17528619e-01,  3.18413025e-01,  3.22931357e-01,\n",
       "         3.50268152e-01,  3.43793159e-01,  3.38253640e-01,  3.56300175e-01,\n",
       "         3.52611483e-01,  3.67451751e-01,  3.79070589e-01,  3.61114783e-01,\n",
       "         3.86070063e-01,  3.84226932e-01,  3.72972128e-01,  3.90913925e-01,\n",
       "         3.80936304e-01,  3.70088888e-01,  3.76915467e-01,  3.76915467e-01])]"
      ]
     },
     "execution_count": 39,
     "metadata": {},
     "output_type": "execute_result"
    }
   ],
   "source": [
    "result.H_t[1]"
   ]
  },
  {
   "cell_type": "code",
   "execution_count": 40,
   "metadata": {
    "ExecuteTime": {
     "end_time": "2019-02-13T15:17:30.714354Z",
     "start_time": "2019-02-13T15:17:30.708223Z"
    }
   },
   "outputs": [
    {
     "data": {
      "text/plain": [
       "array([[[ 0.02891378,  0.03453429,  0.05955811, ...,  0.11081673,\n",
       "          0.11005547,  0.08577631]],\n",
       "\n",
       "       [[ 0.02875383,  0.03438885,  0.05942722, ...,  0.11097669,\n",
       "          0.11022992,  0.11022992]],\n",
       "\n",
       "       [[ 0.02852545,  0.03418122,  0.05924036, ...,  0.11120506,\n",
       "          0.11047899,  0.11047899]],\n",
       "\n",
       "       ...,\n",
       "\n",
       "       [[-0.23035901, -0.21711079, -0.18441994, ...,  0.37008889,\n",
       "          0.37691547,  0.37691547]],\n",
       "\n",
       "       [[-0.23035901, -0.21711079, -0.18441994, ...,  0.37008889,\n",
       "          0.37691547,  0.37691547]],\n",
       "\n",
       "       [[-0.23035901, -0.21711079, -0.18441994, ...,  0.37008889,\n",
       "          0.37691547,  0.37691547]]])"
      ]
     },
     "execution_count": 40,
     "metadata": {},
     "output_type": "execute_result"
    }
   ],
   "source": [
    "result.u"
   ]
  },
  {
   "cell_type": "code",
   "execution_count": 26,
   "metadata": {
    "ExecuteTime": {
     "end_time": "2019-02-13T15:08:15.042473Z",
     "start_time": "2019-02-13T15:08:15.037083Z"
    }
   },
   "outputs": [
    {
     "data": {
      "text/latex": [
       "Quantum object: dims = [[2], [2]], shape = (2, 2), type = oper, isherm = False\\begin{equation*}\\left(\\begin{array}{*{11}c}1.0 & (-1.458\\times10^{+15}+1.252\\times10^{+15}j)\\\\(-1.458\\times10^{+15}+1.252\\times10^{+15}j) & (0.014-0.480j)\\\\\\end{array}\\right)\\end{equation*}"
      ],
      "text/plain": [
       "Quantum object: dims = [[2], [2]], shape = (2, 2), type = oper, isherm = False\n",
       "Qobj data =\n",
       "[[ 1.00000000e+00+0.00000000e+00j -1.45774321e+15+1.25249777e+15j]\n",
       " [-1.45774321e+15+1.25249777e+15j  1.37000646e-02-4.80297926e-01j]]"
      ]
     },
     "execution_count": 26,
     "metadata": {},
     "output_type": "execute_result"
    }
   ],
   "source": [
    "result.U_f/result.U_f[0,0]"
   ]
  },
  {
   "cell_type": "code",
   "execution_count": 27,
   "metadata": {
    "ExecuteTime": {
     "end_time": "2019-02-13T15:08:15.083994Z",
     "start_time": "2019-02-13T15:08:15.077028Z"
    }
   },
   "outputs": [
    {
     "data": {
      "text/plain": [
       "(0.0, 1.0000000000000022)"
      ]
     },
     "execution_count": 27,
     "metadata": {},
     "output_type": "execute_result"
    }
   ],
   "source": [
    "_overlap(U, result.U_f).real, abs(_overlap(U, result.U_f)) ** 2"
   ]
  },
  {
   "cell_type": "markdown",
   "metadata": {},
   "source": [
    "## Test numerical integration of GRAPE pulse"
   ]
  },
  {
   "cell_type": "code",
   "execution_count": 28,
   "metadata": {
    "ExecuteTime": {
     "end_time": "2019-02-13T15:08:19.504821Z",
     "start_time": "2019-02-13T15:08:15.124484Z"
    }
   },
   "outputs": [
    {
     "data": {
      "text/latex": [
       "Quantum object: dims = [[2], [2]], shape = (2, 2), type = oper, isherm = False\\begin{equation*}\\left(\\begin{array}{*{11}c}(-0.955+0.270j) & (-0.121-0.022j)\\\\(0.121-0.022j) & (-0.955-0.270j)\\\\\\end{array}\\right)\\end{equation*}"
      ],
      "text/plain": [
       "Quantum object: dims = [[2], [2]], shape = (2, 2), type = oper, isherm = False\n",
       "Qobj data =\n",
       "[[-0.95498562+0.27013704j -0.12067655-0.02157835j]\n",
       " [ 0.12067655-0.02157835j -0.95498562-0.27013704j]]"
      ]
     },
     "execution_count": 28,
     "metadata": {},
     "output_type": "execute_result"
    }
   ],
   "source": [
    "U_f_numerical = propagator(\n",
    "    result.H_t, times[-1], [], options=Odeoptions(nsteps=5000), args={})\n",
    "U_f_numerical"
   ]
  },
  {
   "cell_type": "code",
   "execution_count": 29,
   "metadata": {
    "ExecuteTime": {
     "end_time": "2019-02-13T15:08:19.574241Z",
     "start_time": "2019-02-13T15:08:19.566616Z"
    }
   },
   "outputs": [
    {
     "data": {
      "text/latex": [
       "Quantum object: dims = [[2], [2]], shape = (2, 2), type = oper, isherm = False\\begin{equation*}\\left(\\begin{array}{*{11}c}1.0 & (0.111+0.054j)\\\\(-0.123-0.012j) & (0.852+0.524j)\\\\\\end{array}\\right)\\end{equation*}"
      ],
      "text/plain": [
       "Quantum object: dims = [[2], [2]], shape = (2, 2), type = oper, isherm = False\n",
       "Qobj data =\n",
       "[[ 1.        +0.j          0.11108469+0.05401803j]\n",
       " [-0.12292079-0.01217516j  0.85182512+0.52382627j]]"
      ]
     },
     "execution_count": 29,
     "metadata": {},
     "output_type": "execute_result"
    }
   ],
   "source": [
    "U_f_numerical / U_f_numerical[0,0]"
   ]
  },
  {
   "cell_type": "code",
   "execution_count": 30,
   "metadata": {
    "ExecuteTime": {
     "end_time": "2019-02-13T15:08:19.627024Z",
     "start_time": "2019-02-13T15:08:19.618178Z"
    }
   },
   "outputs": [
    {
     "data": {
      "text/plain": [
       "(-0.021578351190353548, 0.00046562524009423237)"
      ]
     },
     "execution_count": 30,
     "metadata": {},
     "output_type": "execute_result"
    }
   ],
   "source": [
    "_overlap(result.U_f, U_f_numerical).real, abs(_overlap(result.U_f, U_f_numerical))**2"
   ]
  },
  {
   "cell_type": "markdown",
   "metadata": {},
   "source": [
    "# Process tomography"
   ]
  },
  {
   "cell_type": "markdown",
   "metadata": {},
   "source": [
    "## Ideal cnot gate"
   ]
  },
  {
   "cell_type": "code",
   "execution_count": 31,
   "metadata": {
    "ExecuteTime": {
     "end_time": "2019-02-13T15:08:19.682544Z",
     "start_time": "2019-02-13T15:08:19.672263Z"
    }
   },
   "outputs": [],
   "source": [
    "op_basis = [[qeye(2), sigmax(), sigmay(), sigmaz()]] * 2\n",
    "op_label = [[\"i\", \"x\", \"y\", \"z\"]] * 2"
   ]
  },
  {
   "cell_type": "code",
   "execution_count": 32,
   "metadata": {
    "ExecuteTime": {
     "end_time": "2019-02-13T15:08:19.873371Z",
     "start_time": "2019-02-13T15:08:19.734073Z"
    }
   },
   "outputs": [
    {
     "ename": "ValueError",
     "evalue": "Input b has to have same number of rows as input a",
     "output_type": "error",
     "traceback": [
      "\u001b[0;31m---------------------------------------------------------------------------\u001b[0m",
      "\u001b[0;31mValueError\u001b[0m                                Traceback (most recent call last)",
      "\u001b[0;32m<ipython-input-32-1edb4a5809ea>\u001b[0m in \u001b[0;36m<module>\u001b[0;34m()\u001b[0m\n\u001b[1;32m      3\u001b[0m \u001b[0mU_i_s\u001b[0m \u001b[0;34m=\u001b[0m \u001b[0mto_super\u001b[0m\u001b[0;34m(\u001b[0m\u001b[0mU\u001b[0m\u001b[0;34m)\u001b[0m\u001b[0;34m\u001b[0m\u001b[0;34m\u001b[0m\u001b[0m\n\u001b[1;32m      4\u001b[0m \u001b[0;34m\u001b[0m\u001b[0m\n\u001b[0;32m----> 5\u001b[0;31m \u001b[0mchi\u001b[0m \u001b[0;34m=\u001b[0m \u001b[0mqpt\u001b[0m\u001b[0;34m(\u001b[0m\u001b[0mU_i_s\u001b[0m\u001b[0;34m,\u001b[0m \u001b[0mop_basis\u001b[0m\u001b[0;34m)\u001b[0m\u001b[0;34m\u001b[0m\u001b[0;34m\u001b[0m\u001b[0m\n\u001b[0m\u001b[1;32m      6\u001b[0m \u001b[0;34m\u001b[0m\u001b[0m\n\u001b[1;32m      7\u001b[0m \u001b[0mfig\u001b[0m \u001b[0;34m=\u001b[0m \u001b[0mqpt_plot_combined\u001b[0m\u001b[0;34m(\u001b[0m\u001b[0mchi\u001b[0m\u001b[0;34m,\u001b[0m \u001b[0mop_label\u001b[0m\u001b[0;34m,\u001b[0m \u001b[0mfig\u001b[0m\u001b[0;34m=\u001b[0m\u001b[0mfig\u001b[0m\u001b[0;34m,\u001b[0m \u001b[0mthreshold\u001b[0m\u001b[0;34m=\u001b[0m\u001b[0;36m0.001\u001b[0m\u001b[0;34m)\u001b[0m\u001b[0;34m\u001b[0m\u001b[0;34m\u001b[0m\u001b[0m\n",
      "\u001b[0;32m/anaconda3/envs/qutip-env/lib/python3.6/site-packages/qutip/tomography.py\u001b[0m in \u001b[0;36mqpt\u001b[0;34m(U, op_basis_list)\u001b[0m\n\u001b[1;32m    225\u001b[0m     \u001b[0mUvec\u001b[0m \u001b[0;34m=\u001b[0m \u001b[0mmat2vec\u001b[0m\u001b[0;34m(\u001b[0m\u001b[0mU\u001b[0m\u001b[0;34m.\u001b[0m\u001b[0mfull\u001b[0m\u001b[0;34m(\u001b[0m\u001b[0;34m)\u001b[0m\u001b[0;34m)\u001b[0m\u001b[0;34m\u001b[0m\u001b[0;34m\u001b[0m\u001b[0m\n\u001b[1;32m    226\u001b[0m \u001b[0;34m\u001b[0m\u001b[0m\n\u001b[0;32m--> 227\u001b[0;31m     \u001b[0mchi_vec\u001b[0m \u001b[0;34m=\u001b[0m \u001b[0mla\u001b[0m\u001b[0;34m.\u001b[0m\u001b[0msolve\u001b[0m\u001b[0;34m(\u001b[0m\u001b[0mM\u001b[0m\u001b[0;34m,\u001b[0m \u001b[0mUvec\u001b[0m\u001b[0;34m)\u001b[0m\u001b[0;34m\u001b[0m\u001b[0;34m\u001b[0m\u001b[0m\n\u001b[0m\u001b[1;32m    228\u001b[0m \u001b[0;34m\u001b[0m\u001b[0m\n\u001b[1;32m    229\u001b[0m     \u001b[0;32mreturn\u001b[0m \u001b[0mvec2mat\u001b[0m\u001b[0;34m(\u001b[0m\u001b[0mchi_vec\u001b[0m\u001b[0;34m)\u001b[0m\u001b[0;34m\u001b[0m\u001b[0;34m\u001b[0m\u001b[0m\n",
      "\u001b[0;32m/anaconda3/envs/qutip-env/lib/python3.6/site-packages/scipy/linalg/basic.py\u001b[0m in \u001b[0;36msolve\u001b[0;34m(a, b, sym_pos, lower, overwrite_a, overwrite_b, debug, check_finite, assume_a, transposed)\u001b[0m\n\u001b[1;32m    150\u001b[0m         \u001b[0;31m# Last chance to catch 1x1 scalar a and 1D b arrays\u001b[0m\u001b[0;34m\u001b[0m\u001b[0;34m\u001b[0m\u001b[0;34m\u001b[0m\u001b[0m\n\u001b[1;32m    151\u001b[0m         \u001b[0;32mif\u001b[0m \u001b[0;32mnot\u001b[0m \u001b[0;34m(\u001b[0m\u001b[0mn\u001b[0m \u001b[0;34m==\u001b[0m \u001b[0;36m1\u001b[0m \u001b[0;32mand\u001b[0m \u001b[0mb1\u001b[0m\u001b[0;34m.\u001b[0m\u001b[0msize\u001b[0m \u001b[0;34m!=\u001b[0m \u001b[0;36m0\u001b[0m\u001b[0;34m)\u001b[0m\u001b[0;34m:\u001b[0m\u001b[0;34m\u001b[0m\u001b[0;34m\u001b[0m\u001b[0m\n\u001b[0;32m--> 152\u001b[0;31m             raise ValueError('Input b has to have same number of rows as '\n\u001b[0m\u001b[1;32m    153\u001b[0m                              'input a')\n\u001b[1;32m    154\u001b[0m \u001b[0;34m\u001b[0m\u001b[0m\n",
      "\u001b[0;31mValueError\u001b[0m: Input b has to have same number of rows as input a"
     ]
    },
    {
     "data": {
      "text/plain": [
       "<Figure size 864x432 with 0 Axes>"
      ]
     },
     "metadata": {},
     "output_type": "display_data"
    }
   ],
   "source": [
    "fig = plt.figure(figsize=(12,6))\n",
    "\n",
    "U_i_s = to_super(U)\n",
    "\n",
    "chi = qpt(U_i_s, op_basis)\n",
    "\n",
    "fig = qpt_plot_combined(chi, op_label, fig=fig, threshold=0.001)"
   ]
  },
  {
   "cell_type": "markdown",
   "metadata": {},
   "source": [
    "## cnot gate calculated using GRAPE"
   ]
  },
  {
   "cell_type": "code",
   "execution_count": null,
   "metadata": {
    "ExecuteTime": {
     "end_time": "2019-02-13T15:08:19.877730Z",
     "start_time": "2019-02-13T15:01:43.301Z"
    }
   },
   "outputs": [],
   "source": [
    "fig = plt.figure(figsize=(12,6))\n",
    "\n",
    "U_f_s = to_super(result.U_f)\n",
    "\n",
    "chi = qpt(U_f_s, op_basis)\n",
    "\n",
    "fig = qpt_plot_combined(chi, op_label, fig=fig, threshold=0.001)"
   ]
  },
  {
   "cell_type": "markdown",
   "metadata": {},
   "source": [
    "## Versions"
   ]
  },
  {
   "cell_type": "code",
   "execution_count": null,
   "metadata": {
    "ExecuteTime": {
     "end_time": "2019-02-13T15:08:19.882584Z",
     "start_time": "2019-02-13T15:01:44.663Z"
    }
   },
   "outputs": [],
   "source": [
    "from qutip.ipynbtools import version_table\n",
    "\n",
    "version_table()"
   ]
  },
  {
   "cell_type": "code",
   "execution_count": null,
   "metadata": {},
   "outputs": [],
   "source": []
  }
 ],
 "metadata": {
  "kernelspec": {
   "display_name": "Python 3",
   "language": "python",
   "name": "python3"
  },
  "language_info": {
   "codemirror_mode": {
    "name": "ipython",
    "version": 3
   },
   "file_extension": ".py",
   "mimetype": "text/x-python",
   "name": "python",
   "nbconvert_exporter": "python",
   "pygments_lexer": "ipython3",
   "version": "3.6.8"
  },
  "toc": {
   "base_numbering": 1,
   "nav_menu": {},
   "number_sections": true,
   "sideBar": true,
   "skip_h1_title": false,
   "title_cell": "Table of Contents",
   "title_sidebar": "Contents",
   "toc_cell": false,
   "toc_position": {},
   "toc_section_display": true,
   "toc_window_display": false
  },
  "varInspector": {
   "cols": {
    "lenName": 16,
    "lenType": 16,
    "lenVar": 40
   },
   "kernels_config": {
    "python": {
     "delete_cmd_postfix": "",
     "delete_cmd_prefix": "del ",
     "library": "var_list.py",
     "varRefreshCmd": "print(var_dic_list())"
    },
    "r": {
     "delete_cmd_postfix": ") ",
     "delete_cmd_prefix": "rm(",
     "library": "var_list.r",
     "varRefreshCmd": "cat(var_dic_list()) "
    }
   },
   "types_to_exclude": [
    "module",
    "function",
    "builtin_function_or_method",
    "instance",
    "_Feature"
   ],
   "window_display": false
  }
 },
 "nbformat": 4,
 "nbformat_minor": 1
}
