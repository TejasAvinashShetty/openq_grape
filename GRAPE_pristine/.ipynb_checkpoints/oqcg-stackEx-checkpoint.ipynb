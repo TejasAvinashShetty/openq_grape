{
 "cells": [
  {
   "cell_type": "markdown",
   "metadata": {},
   "source": [
    "# Imports"
   ]
  },
  {
   "cell_type": "markdown",
   "metadata": {},
   "source": [
    "Need to have jate.py in your folder"
   ]
  },
  {
   "cell_type": "code",
   "execution_count": 1,
   "metadata": {
    "ExecuteTime": {
     "end_time": "2019-05-25T11:53:33.801986Z",
     "start_time": "2019-05-25T11:53:31.102072Z"
    }
   },
   "outputs": [],
   "source": [
    "%run jate.py #will import everything"
   ]
  },
  {
   "cell_type": "markdown",
   "metadata": {},
   "source": [
    "# Next chapter"
   ]
  },
  {
   "cell_type": "markdown",
   "metadata": {},
   "source": [
    "## memory clear (uses regex, so be careful)"
   ]
  },
  {
   "cell_type": "code",
   "execution_count": 2,
   "metadata": {
    "ExecuteTime": {
     "end_time": "2019-05-25T11:53:33.826884Z",
     "start_time": "2019-05-25T11:53:33.822023Z"
    }
   },
   "outputs": [],
   "source": [
    "%reset_selective -f var1, var2  # replace var1, var2 with your defined ones"
   ]
  },
  {
   "cell_type": "markdown",
   "metadata": {},
   "source": [
    "## Building parts"
   ]
  },
  {
   "cell_type": "markdown",
   "metadata": {},
   "source": [
    "### Building the things to be calculated only once"
   ]
  },
  {
   "cell_type": "code",
   "execution_count": 3,
   "metadata": {
    "ExecuteTime": {
     "end_time": "2019-05-25T11:53:35.222032Z",
     "start_time": "2019-05-25T11:53:35.211774Z"
    },
    "code_folding": []
   },
   "outputs": [],
   "source": [
    "def maker(omega_1, H_0, H_1, T_s, Lin, d=2, gamma=0.1):\n",
    "    r\"\"\"maker\n",
    "    Makes all the things that remain constant throught the program, but are \n",
    "    repeatedly used.\n",
    "    \n",
    "\n",
    "    Parameters\n",
    "    ----------\n",
    "    omega_1 : float\n",
    "              frequency corresponding to half of the difference between \n",
    "              energy levels of the qubit\n",
    "              \n",
    "    H_0     : Qobj\n",
    "              Bare Hamiltonian \n",
    "              \n",
    "    H_1     : Qobj\n",
    "              Interaction Hamiltonian \n",
    "              \n",
    "    T_s     : Qobj\n",
    "              Unitary to be implemented in the Hilbert space\n",
    "    \n",
    "    Lin     : Qobj\n",
    "              Linbladian operators\n",
    "\n",
    "    d       : int\n",
    "              Dimension of the matrix. Defaults to 2\n",
    "    \n",
    "    gamma   : float\n",
    "              Damping constant of the Linbladian\n",
    "\n",
    "    \n",
    "    Returns\n",
    "    -------\n",
    "    \n",
    "    ih0     : Qobj\n",
    "              $I\\otimes H_{0}$\n",
    "              \n",
    "    ih1     : Qobj\n",
    "              $I\\otimes H_{1}$\n",
    "\n",
    "    h0ci    : Qobj\n",
    "              $H_{0}^{*}\\otimes I $\n",
    "\n",
    "    h1ci    : Qobj\n",
    "              $H_{1}^{*}\\otimes I $\n",
    "\n",
    "    T       : Qobj\n",
    "              Target unitary transformed to the Liouville space\n",
    "\n",
    "    linbladian : Qobj\n",
    "                 The full lindbladian term as it appears on transformation to \n",
    "                 the Liouville space.\n",
    "        \n",
    "    \"\"\"\n",
    "    I = identity(d)\n",
    "    L_I = tensor(I, I)\n",
    "    ih0 = tensor(I, H_0) \n",
    "    ih1 = tensor(I, H_1) \n",
    "    h0ci = tensor(H_0.conj(), I) \n",
    "    h1ci = tensor(H_1.conj(), I)\n",
    "    x_k = ih1 - h1ci\n",
    "    term1 = tensor(Lin.trans(), Lin)\n",
    "    term2 = tensor(I, ((Lin.dag())*(Lin)))\n",
    "    term3 = tensor(((Lin.trans())*(Lin.conj())), I)\n",
    "    lindbladian = 1j*(gamma)*(term1 - 0.5*(term2 + term3))\n",
    "    T = tensor(T_s.trans(), T_s) # Transforming $T_{s}$ to liouville space\n",
    "    \n",
    "    \n",
    "    return ih0, ih1, h0ci, h1ci, x_k, lindbladian, T, L_I"
   ]
  },
  {
   "cell_type": "code",
   "execution_count": 4,
   "metadata": {
    "ExecuteTime": {
     "end_time": "2019-05-25T11:53:35.939837Z",
     "start_time": "2019-05-25T11:53:35.931218Z"
    }
   },
   "outputs": [],
   "source": [
    "omega_1 = 0.5\n",
    "H_0 = omega_1*sigmaz() \n",
    "H_1 = sigmay()\n",
    "T_s = sigmax() \n",
    "Lin = sigmaz()\n",
    "gamma = 0.1 # check for default value\n",
    "ih0, ih1, h0ci, h1ci, x_k, lindbladian, T, L_I  = maker(omega_1,\n",
    "                                                  H_0, H_1, T_s, \n",
    "                                                  Lin, d=2, gamma=gamma)"
   ]
  },
  {
   "cell_type": "code",
   "execution_count": 5,
   "metadata": {
    "ExecuteTime": {
     "end_time": "2019-05-25T11:53:36.601759Z",
     "start_time": "2019-05-25T11:53:36.596140Z"
    }
   },
   "outputs": [
    {
     "data": {
      "text/plain": [
       "0.1"
      ]
     },
     "execution_count": 5,
     "metadata": {},
     "output_type": "execute_result"
    }
   ],
   "source": [
    "gamma"
   ]
  },
  {
   "cell_type": "code",
   "execution_count": 6,
   "metadata": {
    "ExecuteTime": {
     "end_time": "2019-05-25T11:53:37.125255Z",
     "start_time": "2019-05-25T11:53:37.117606Z"
    }
   },
   "outputs": [
    {
     "data": {
      "text/latex": [
       "Quantum object: dims = [[2, 2], [2, 2]], shape = (4, 4), type = oper, isherm = True\\begin{equation*}\\left(\\begin{array}{*{11}c}1.0 & 0.0 & 0.0 & 0.0\\\\0.0 & 1.0 & 0.0 & 0.0\\\\0.0 & 0.0 & 1.0 & 0.0\\\\0.0 & 0.0 & 0.0 & 1.0\\\\\\end{array}\\right)\\end{equation*}"
      ],
      "text/plain": [
       "Quantum object: dims = [[2, 2], [2, 2]], shape = (4, 4), type = oper, isherm = True\n",
       "Qobj data =\n",
       "[[1. 0. 0. 0.]\n",
       " [0. 1. 0. 0.]\n",
       " [0. 0. 1. 0.]\n",
       " [0. 0. 0. 1.]]"
      ]
     },
     "execution_count": 6,
     "metadata": {},
     "output_type": "execute_result"
    }
   ],
   "source": [
    "L_I"
   ]
  },
  {
   "cell_type": "markdown",
   "metadata": {},
   "source": [
    "### Building $A(t)$"
   ]
  },
  {
   "cell_type": "code",
   "execution_count": 7,
   "metadata": {
    "ExecuteTime": {
     "end_time": "2019-05-25T11:53:38.112123Z",
     "start_time": "2019-05-25T11:53:38.102958Z"
    }
   },
   "outputs": [],
   "source": [
    "def A(xi):\n",
    "    r\"\"\"making $A(t)$\"\"\"\n",
    "    A = ih0 - h0ci + xi*(ih1 - h1ci) + lindbladian\n",
    "    return A"
   ]
  },
  {
   "cell_type": "code",
   "execution_count": 8,
   "metadata": {
    "ExecuteTime": {
     "end_time": "2019-05-25T11:53:38.657251Z",
     "start_time": "2019-05-25T11:53:38.650194Z"
    }
   },
   "outputs": [
    {
     "data": {
      "text/latex": [
       "Quantum object: dims = [[2, 2], [2, 2]], shape = (4, 4), type = oper, isherm = False\\begin{equation*}\\left(\\begin{array}{*{11}c}0.0 & -0.500j & -0.500j & 0.0\\\\0.500j & (-1.0-0.200j) & 0.0 & -0.500j\\\\0.500j & 0.0 & (1.0-0.200j) & -0.500j\\\\0.0 & 0.500j & 0.500j & 0.0\\\\\\end{array}\\right)\\end{equation*}"
      ],
      "text/plain": [
       "Quantum object: dims = [[2, 2], [2, 2]], shape = (4, 4), type = oper, isherm = False\n",
       "Qobj data =\n",
       "[[ 0.+0.j   0.-0.5j  0.-0.5j  0.+0.j ]\n",
       " [ 0.+0.5j -1.-0.2j  0.+0.j   0.-0.5j]\n",
       " [ 0.+0.5j  0.+0.j   1.-0.2j  0.-0.5j]\n",
       " [ 0.+0.j   0.+0.5j  0.+0.5j  0.+0.j ]]"
      ]
     },
     "execution_count": 8,
     "metadata": {},
     "output_type": "execute_result"
    }
   ],
   "source": [
    "A(0.5)"
   ]
  },
  {
   "cell_type": "markdown",
   "metadata": {},
   "source": [
    "### Building $L(t)$ and the Identity in the Liouville space"
   ]
  },
  {
   "cell_type": "code",
   "execution_count": 9,
   "metadata": {
    "ExecuteTime": {
     "end_time": "2019-05-25T11:53:39.800955Z",
     "start_time": "2019-05-25T11:53:39.797308Z"
    }
   },
   "outputs": [],
   "source": [
    "def L(xi, dt):\n",
    "    r\"\"\"Making $L(t) from $A(t)$\"\"\"\n",
    "    L = (-1j*A(xi)*dt).expm()\n",
    "    return L"
   ]
  },
  {
   "cell_type": "code",
   "execution_count": 10,
   "metadata": {
    "ExecuteTime": {
     "end_time": "2019-05-25T11:53:40.376438Z",
     "start_time": "2019-05-25T11:53:40.354235Z"
    }
   },
   "outputs": [
    {
     "data": {
      "text/latex": [
       "Quantum object: dims = [[2, 2], [2, 2]], shape = (4, 4), type = oper, isherm = False\\begin{equation*}\\left(\\begin{array}{*{11}c}1.000 & (-4.999\\times10^{-04}-2.500\\times10^{-07}j) & (-4.999\\times10^{-04}+2.500\\times10^{-07}j) & 2.500\\times10^{-07}\\\\(4.999\\times10^{-04}+2.500\\times10^{-07}j) & (1.000+9.998\\times10^{-04}j) & -2.500\\times10^{-07} & (-4.999\\times10^{-04}-2.500\\times10^{-07}j)\\\\(4.999\\times10^{-04}-2.500\\times10^{-07}j) & -2.500\\times10^{-07} & (1.000-9.998\\times10^{-04}j) & (-4.999\\times10^{-04}+2.500\\times10^{-07}j)\\\\2.500\\times10^{-07} & (4.999\\times10^{-04}+2.500\\times10^{-07}j) & (4.999\\times10^{-04}-2.500\\times10^{-07}j) & 1.000\\\\\\end{array}\\right)\\end{equation*}"
      ],
      "text/plain": [
       "Quantum object: dims = [[2, 2], [2, 2]], shape = (4, 4), type = oper, isherm = False\n",
       "Qobj data =\n",
       "[[ 9.99999750e-01+0.00000000e+00j -4.99949837e-04-2.49966628e-07j\n",
       "  -4.99949837e-04+2.49966628e-07j  2.49983293e-07+0.00000000e+00j]\n",
       " [ 4.99949837e-04+2.49966628e-07j  9.99799270e-01+9.99799687e-04j\n",
       "  -2.49966628e-07+0.00000000e+00j -4.99949837e-04-2.49966628e-07j]\n",
       " [ 4.99949837e-04-2.49966628e-07j -2.49966628e-07+0.00000000e+00j\n",
       "   9.99799270e-01-9.99799687e-04j -4.99949837e-04+2.49966628e-07j]\n",
       " [ 2.49983293e-07+0.00000000e+00j  4.99949837e-04+2.49966628e-07j\n",
       "   4.99949837e-04-2.49966628e-07j  9.99999750e-01+0.00000000e+00j]]"
      ]
     },
     "execution_count": 10,
     "metadata": {},
     "output_type": "execute_result"
    }
   ],
   "source": [
    "L(0.5, 0.001)"
   ]
  },
  {
   "cell_type": "markdown",
   "metadata": {},
   "source": [
    "## Major functions"
   ]
  },
  {
   "cell_type": "markdown",
   "metadata": {},
   "source": [
    "### Major functions 1"
   ]
  },
  {
   "cell_type": "code",
   "execution_count": 11,
   "metadata": {
    "ExecuteTime": {
     "end_time": "2019-05-25T11:53:42.224905Z",
     "start_time": "2019-05-25T11:53:42.222059Z"
    }
   },
   "outputs": [],
   "source": [
    "# building the function to optimize (optimizee)\n",
    "def L_vec(xi_vec, dt):\n",
    "    r\"\"\"Building the vector of differential $L(t)$\"\"\"\n",
    "    L_vec = [L(xi, dt) for xi in xi_vec] \n",
    "    return L_vec"
   ]
  },
  {
   "cell_type": "code",
   "execution_count": 12,
   "metadata": {
    "ExecuteTime": {
     "end_time": "2019-05-25T11:53:42.821937Z",
     "start_time": "2019-05-25T11:53:42.818780Z"
    }
   },
   "outputs": [],
   "source": [
    "def fidelity_calc(A, B):\n",
    "    r\"\"\"Making a generalised fidelity function\"\"\"\n",
    "    first_part = (A - B).dag()\n",
    "    second_part = (A - B)\n",
    "    f_int = (first_part* second_part)\n",
    "    f = f_int.tr()\n",
    "    return f"
   ]
  },
  {
   "cell_type": "code",
   "execution_count": 13,
   "metadata": {
    "ExecuteTime": {
     "end_time": "2019-05-25T11:53:43.396665Z",
     "start_time": "2019-05-25T11:53:43.392631Z"
    }
   },
   "outputs": [],
   "source": [
    "def L_full_maker(xi_vec, dt):\n",
    "    r\"\"\"Building the $L(t)$ for the total time $t$\"\"\"\n",
    "    xi_vec_size = xi_vec.size # finding the size of xi\n",
    "    L_full = L_I # Identity for the for loop of L\n",
    "    L_v = L_vec(xi_vec, dt) # calling L_vec\n",
    "    for i in range(xi_vec_size): # generating L_full\n",
    "        L_full = L_full*L_v[xi_vec_size - 1 - i]\n",
    "    return L_full"
   ]
  },
  {
   "cell_type": "code",
   "execution_count": 14,
   "metadata": {
    "ExecuteTime": {
     "end_time": "2019-05-25T11:53:43.922528Z",
     "start_time": "2019-05-25T11:53:43.919430Z"
    }
   },
   "outputs": [],
   "source": [
    "def F(xi_vec, dt):\n",
    "    r\"\"\"Using the fidelity metric to find out the closeness between $T$\n",
    "    and $L(t)$\"\"\"\n",
    "    L_full = L_full_maker(xi_vec, dt)\n",
    "    F = real(-fidelity_calc(T, L_full))   \n",
    "    return F"
   ]
  },
  {
   "cell_type": "markdown",
   "metadata": {},
   "source": [
    "### Testing major functions 1"
   ]
  },
  {
   "cell_type": "code",
   "execution_count": 15,
   "metadata": {
    "ExecuteTime": {
     "end_time": "2019-05-25T11:53:45.316901Z",
     "start_time": "2019-05-25T11:53:45.309432Z"
    }
   },
   "outputs": [
    {
     "data": {
      "text/plain": [
       "4.0"
      ]
     },
     "execution_count": 15,
     "metadata": {},
     "output_type": "execute_result"
    }
   ],
   "source": [
    "fidelity_calc(sigmax(), sigmay())"
   ]
  },
  {
   "cell_type": "code",
   "execution_count": 16,
   "metadata": {
    "ExecuteTime": {
     "end_time": "2019-05-25T11:53:45.909770Z",
     "start_time": "2019-05-25T11:53:45.903867Z"
    }
   },
   "outputs": [
    {
     "data": {
      "text/plain": [
       "0.0"
      ]
     },
     "execution_count": 16,
     "metadata": {},
     "output_type": "execute_result"
    }
   ],
   "source": [
    "fidelity_calc(sigmay(), sigmay())"
   ]
  },
  {
   "cell_type": "code",
   "execution_count": 17,
   "metadata": {
    "ExecuteTime": {
     "end_time": "2019-05-25T11:53:46.434279Z",
     "start_time": "2019-05-25T11:53:46.419820Z"
    }
   },
   "outputs": [
    {
     "data": {
      "text/plain": [
       "array([1., 2.])"
      ]
     },
     "execution_count": 17,
     "metadata": {},
     "output_type": "execute_result"
    }
   ],
   "source": [
    "xi_vec_test = array([1.0, 2.0])\n",
    "xi_vec_test"
   ]
  },
  {
   "cell_type": "code",
   "execution_count": 18,
   "metadata": {
    "ExecuteTime": {
     "end_time": "2019-05-25T11:53:46.946358Z",
     "start_time": "2019-05-25T11:53:46.942057Z"
    }
   },
   "outputs": [
    {
     "data": {
      "text/plain": [
       "2"
      ]
     },
     "execution_count": 18,
     "metadata": {},
     "output_type": "execute_result"
    }
   ],
   "source": [
    "xi_vec_test.size"
   ]
  },
  {
   "cell_type": "code",
   "execution_count": 19,
   "metadata": {
    "ExecuteTime": {
     "end_time": "2019-05-25T11:53:47.414559Z",
     "start_time": "2019-05-25T11:53:47.407040Z"
    }
   },
   "outputs": [
    {
     "data": {
      "text/plain": [
       "[1.0, 4.0]"
      ]
     },
     "execution_count": 19,
     "metadata": {},
     "output_type": "execute_result"
    }
   ],
   "source": [
    "w_vec = [xi**2 for xi in xi_vec_test]\n",
    "w_vec"
   ]
  },
  {
   "cell_type": "code",
   "execution_count": 20,
   "metadata": {
    "ExecuteTime": {
     "end_time": "2019-05-25T11:53:47.920930Z",
     "start_time": "2019-05-25T11:53:47.908857Z"
    }
   },
   "outputs": [
    {
     "data": {
      "text/plain": [
       "-7.998400634493139"
      ]
     },
     "execution_count": 20,
     "metadata": {},
     "output_type": "execute_result"
    }
   ],
   "source": [
    "# F(xi_vec, dt)\n",
    "F(xi_vec_test, 0.001)"
   ]
  },
  {
   "cell_type": "code",
   "execution_count": 21,
   "metadata": {
    "ExecuteTime": {
     "end_time": "2019-05-25T11:53:48.613231Z",
     "start_time": "2019-05-25T11:53:48.605272Z"
    }
   },
   "outputs": [],
   "source": [
    "L_v = L_vec(xi_vec_test, 0.001)"
   ]
  },
  {
   "cell_type": "code",
   "execution_count": 22,
   "metadata": {
    "ExecuteTime": {
     "end_time": "2019-05-25T11:53:49.405486Z",
     "start_time": "2019-05-25T11:53:49.399459Z"
    }
   },
   "outputs": [
    {
     "data": {
      "text/plain": [
       "[Quantum object: dims = [[2, 2], [2, 2]], shape = (4, 4), type = oper, isherm = False\n",
       " Qobj data =\n",
       " [[ 9.99999000e-01+0.00000000e+00j -9.99899173e-04-4.99933130e-07j\n",
       "   -9.99899173e-04+4.99933130e-07j  9.99932920e-07+0.00000000e+00j]\n",
       "  [ 9.99899173e-04+4.99933130e-07j  9.99798520e-01+9.99799187e-04j\n",
       "   -9.99866260e-07+0.00000000e+00j -9.99899173e-04-4.99933130e-07j]\n",
       "  [ 9.99899173e-04-4.99933130e-07j -9.99866260e-07+0.00000000e+00j\n",
       "    9.99798520e-01-9.99799187e-04j -9.99899173e-04+4.99933130e-07j]\n",
       "  [ 9.99932920e-07+0.00000000e+00j  9.99899173e-04+4.99933130e-07j\n",
       "    9.99899173e-04-4.99933130e-07j  9.99999000e-01+0.00000000e+00j]],\n",
       " Quantum object: dims = [[2, 2], [2, 2]], shape = (4, 4), type = oper, isherm = False\n",
       " Qobj data =\n",
       " [[ 9.99996000e-01+0.00000000e+00j -1.99979435e-03-9.99865260e-07j\n",
       "   -1.99979435e-03+9.99865260e-07j  3.99972768e-06+0.00000000e+00j]\n",
       "  [ 1.99979435e-03+9.99865260e-07j  9.99795521e-01+9.99797187e-04j\n",
       "   -3.99946104e-06+0.00000000e+00j -1.99979435e-03-9.99865260e-07j]\n",
       "  [ 1.99979435e-03-9.99865260e-07j -3.99946104e-06+0.00000000e+00j\n",
       "    9.99795521e-01-9.99797187e-04j -1.99979435e-03+9.99865260e-07j]\n",
       "  [ 3.99972768e-06+0.00000000e+00j  1.99979435e-03+9.99865260e-07j\n",
       "    1.99979435e-03-9.99865260e-07j  9.99996000e-01+0.00000000e+00j]]]"
      ]
     },
     "execution_count": 22,
     "metadata": {},
     "output_type": "execute_result"
    }
   ],
   "source": [
    "L_v"
   ]
  },
  {
   "cell_type": "markdown",
   "metadata": {},
   "source": [
    "### Major Functions 2"
   ]
  },
  {
   "cell_type": "code",
   "execution_count": 23,
   "metadata": {
    "ExecuteTime": {
     "end_time": "2019-05-25T11:53:50.665550Z",
     "start_time": "2019-05-25T11:53:50.661517Z"
    }
   },
   "outputs": [],
   "source": [
    "def L_comma_k_maker(xi_vec, k, dt):\n",
    "    r\"\"\"Making of the derivative of full $L(t)$ at time $t_{k}$\"\"\"\n",
    "    N = xi_vec.size \n",
    "    # Determining the size of xi, and thus the time_steps indirectly.\n",
    "    L_v = L_vec(xi_vec, dt)# Making of the full $L(t)$\n",
    "    inner_part = L_I # Beginner for the for loop\n",
    "    for i in range(N):\n",
    "        if i == ( N - 1 - k ):\n",
    "            # The step at which $X_{k}(t)$ has to be inserted \n",
    "            inner_part = inner_part*x_k*L_v[k - 1]\n",
    "        else:\n",
    "            # Usual multiplications of $L_{k}$\n",
    "            inner_part = inner_part*L_v[N - 1 - i]\n",
    "    l_comma_k = inner_part\n",
    "    return l_comma_k\n",
    "    "
   ]
  },
  {
   "cell_type": "code",
   "execution_count": 24,
   "metadata": {
    "ExecuteTime": {
     "end_time": "2019-05-25T11:53:51.337920Z",
     "start_time": "2019-05-25T11:53:51.325823Z"
    }
   },
   "outputs": [
    {
     "data": {
      "text/latex": [
       "Quantum object: dims = [[2, 2], [2, 2]], shape = (4, 4), type = oper, isherm = False\\begin{equation*}\\left(\\begin{array}{*{11}c}1.000 & (-0.003-3.499\\times10^{-06}j) & (-0.003+3.499\\times10^{-06}j) & 8.999\\times10^{-06}\\\\(0.003+2.499\\times10^{-06}j) & (1.000+0.002j) & (-8.998\\times10^{-06}+2.999\\times10^{-09}j) & (-0.003-2.499\\times10^{-06}j)\\\\(0.003-2.499\\times10^{-06}j) & (-8.998\\times10^{-06}-2.999\\times10^{-09}j) & (1.000-0.002j) & (-0.003+2.499\\times10^{-06}j)\\\\8.999\\times10^{-06} & (0.003+3.499\\times10^{-06}j) & (0.003-3.499\\times10^{-06}j) & 1.000\\\\\\end{array}\\right)\\end{equation*}"
      ],
      "text/plain": [
       "Quantum object: dims = [[2, 2], [2, 2]], shape = (4, 4), type = oper, isherm = False\n",
       "Qobj data =\n",
       "[[ 9.99991001e-01+0.00000000e+00j -2.99927960e-03-3.49898670e-06j\n",
       "  -2.99927960e-03+3.49898670e-06j  8.99883703e-06+0.00000000e+00j]\n",
       " [ 2.99948056e-03+2.49939255e-06j  9.99589083e-01+1.99918650e-03j\n",
       "  -8.99750347e-06+2.99899242e-09j -2.99948056e-03-2.49939255e-06j]\n",
       " [ 2.99948056e-03-2.49939255e-06j -8.99750347e-06-2.99899242e-09j\n",
       "   9.99589083e-01-1.99918650e-03j -2.99948056e-03+2.49939255e-06j]\n",
       " [ 8.99883703e-06+0.00000000e+00j  2.99927960e-03+3.49898670e-06j\n",
       "   2.99927960e-03-3.49898670e-06j  9.99991001e-01+0.00000000e+00j]]"
      ]
     },
     "execution_count": 24,
     "metadata": {},
     "output_type": "execute_result"
    }
   ],
   "source": [
    "# L_comma_k_maker(xi_vec, k, dt)\n",
    "L_comma_k_maker(xi_vec_test, 2, 0.001)"
   ]
  },
  {
   "cell_type": "code",
   "execution_count": 25,
   "metadata": {
    "ExecuteTime": {
     "end_time": "2019-05-25T11:53:51.984578Z",
     "start_time": "2019-05-25T11:53:51.979129Z"
    }
   },
   "outputs": [],
   "source": [
    "def updater(xi_vec, dt, epsilon):\n",
    "    r\"\"\"Implementing the GRAPE update step\"\"\"\n",
    "    xi_vec_size = xi_vec.size # finding the size of xi\n",
    "    L_full = L_full_maker(xi_vec, dt)\n",
    "    di = []\n",
    "    for k in range(xi_vec_size):\n",
    "        # Building the thing to be added to the old function\n",
    "        L_comma_k = L_comma_k_maker(xi_vec, k, dt)\n",
    "        differentiated = T - L_comma_k\n",
    "        plain = T - L_full\n",
    "        c = -differentiated.dag()*plain\n",
    "        d = -plain.dag()*differentiated\n",
    "        inside = c.tr() + d.tr()\n",
    "        di.append(epsilon*inside)\n",
    "\n",
    "    diff = array(di)\n",
    "    xi_new_vec = xi_vec + diff\n",
    "    return diff, xi_new_vec\n",
    "    "
   ]
  },
  {
   "cell_type": "code",
   "execution_count": 26,
   "metadata": {
    "ExecuteTime": {
     "end_time": "2019-05-25T11:53:52.644496Z",
     "start_time": "2019-05-25T11:53:52.625484Z"
    }
   },
   "outputs": [
    {
     "data": {
      "text/plain": [
       "(array([-0.008+0.j, -0.008+0.j]), array([0.992+0.j, 1.992+0.j]))"
      ]
     },
     "execution_count": 26,
     "metadata": {},
     "output_type": "execute_result"
    }
   ],
   "source": [
    "#  updater(xi_vec, dt, epsilon)\n",
    "updater(xi_vec_test, 0.001, 0.001)"
   ]
  },
  {
   "cell_type": "markdown",
   "metadata": {},
   "source": [
    "## Qutip grape for closed system"
   ]
  },
  {
   "cell_type": "code",
   "execution_count": 27,
   "metadata": {
    "ExecuteTime": {
     "end_time": "2019-05-25T11:53:54.134706Z",
     "start_time": "2019-05-25T11:53:54.132041Z"
    }
   },
   "outputs": [],
   "source": [
    "import time"
   ]
  },
  {
   "cell_type": "code",
   "execution_count": 28,
   "metadata": {
    "ExecuteTime": {
     "end_time": "2019-05-25T11:53:54.864175Z",
     "start_time": "2019-05-25T11:53:54.861553Z"
    }
   },
   "outputs": [],
   "source": [
    "total_time_evo = 2*pi # total time allowed for evolution"
   ]
  },
  {
   "cell_type": "code",
   "execution_count": 29,
   "metadata": {
    "ExecuteTime": {
     "end_time": "2019-05-25T11:53:55.461916Z",
     "start_time": "2019-05-25T11:53:55.459272Z"
    }
   },
   "outputs": [],
   "source": [
    "times = linspace(0, total_time_evo, 500) "
   ]
  },
  {
   "cell_type": "code",
   "execution_count": 30,
   "metadata": {
    "ExecuteTime": {
     "end_time": "2019-05-25T11:53:56.047565Z",
     "start_time": "2019-05-25T11:53:56.045461Z"
    }
   },
   "outputs": [],
   "source": [
    "# vector of times at which discretization \n",
    "# is carried out"
   ]
  },
  {
   "cell_type": "code",
   "execution_count": 31,
   "metadata": {
    "ExecuteTime": {
     "end_time": "2019-05-25T11:53:56.580565Z",
     "start_time": "2019-05-25T11:53:56.576119Z"
    }
   },
   "outputs": [
    {
     "data": {
      "text/latex": [
       "Quantum object: dims = [[2], [2]], shape = (2, 2), type = oper, isherm = True\\begin{equation*}\\left(\\begin{array}{*{11}c}0.0 & 1.0\\\\1.0 & 0.0\\\\\\end{array}\\right)\\end{equation*}"
      ],
      "text/plain": [
       "Quantum object: dims = [[2], [2]], shape = (2, 2), type = oper, isherm = True\n",
       "Qobj data =\n",
       "[[0. 1.]\n",
       " [1. 0.]]"
      ]
     },
     "execution_count": 31,
     "metadata": {},
     "output_type": "execute_result"
    }
   ],
   "source": [
    "U = T_s\n",
    "U"
   ]
  },
  {
   "cell_type": "code",
   "execution_count": 32,
   "metadata": {
    "ExecuteTime": {
     "end_time": "2019-05-25T11:53:57.159224Z",
     "start_time": "2019-05-25T11:53:57.156762Z"
    }
   },
   "outputs": [],
   "source": [
    "R = 500"
   ]
  },
  {
   "cell_type": "code",
   "execution_count": 33,
   "metadata": {
    "ExecuteTime": {
     "end_time": "2019-05-25T11:53:57.729747Z",
     "start_time": "2019-05-25T11:53:57.724340Z"
    }
   },
   "outputs": [
    {
     "data": {
      "text/plain": [
       "[Quantum object: dims = [[2], [2]], shape = (2, 2), type = oper, isherm = True\n",
       " Qobj data =\n",
       " [[0.+0.j 0.-1.j]\n",
       "  [0.+1.j 0.+0.j]]]"
      ]
     },
     "execution_count": 33,
     "metadata": {},
     "output_type": "execute_result"
    }
   ],
   "source": [
    "H_ops = [H_1]\n",
    "H_ops"
   ]
  },
  {
   "cell_type": "code",
   "execution_count": 34,
   "metadata": {
    "ExecuteTime": {
     "end_time": "2019-05-25T11:53:58.262525Z",
     "start_time": "2019-05-25T11:53:58.258449Z"
    }
   },
   "outputs": [
    {
     "data": {
      "text/plain": [
       "['$g_{no diss}$']"
      ]
     },
     "execution_count": 34,
     "metadata": {},
     "output_type": "execute_result"
    }
   ],
   "source": [
    "H_labels = [r'$g_{no diss}$']\n",
    "H_labels"
   ]
  },
  {
   "cell_type": "code",
   "execution_count": 35,
   "metadata": {
    "ExecuteTime": {
     "end_time": "2019-05-25T11:53:58.820501Z",
     "start_time": "2019-05-25T11:53:58.815635Z"
    }
   },
   "outputs": [
    {
     "data": {
      "text/latex": [
       "Quantum object: dims = [[2], [2]], shape = (2, 2), type = oper, isherm = True\\begin{equation*}\\left(\\begin{array}{*{11}c}0.500 & 0.0\\\\0.0 & -0.500\\\\\\end{array}\\right)\\end{equation*}"
      ],
      "text/plain": [
       "Quantum object: dims = [[2], [2]], shape = (2, 2), type = oper, isherm = True\n",
       "Qobj data =\n",
       "[[ 0.5  0. ]\n",
       " [ 0.  -0.5]]"
      ]
     },
     "execution_count": 35,
     "metadata": {},
     "output_type": "execute_result"
    }
   ],
   "source": [
    "H0 = H_0\n",
    "H0"
   ]
  },
  {
   "cell_type": "code",
   "execution_count": 36,
   "metadata": {
    "ExecuteTime": {
     "end_time": "2019-05-25T11:53:59.316563Z",
     "start_time": "2019-05-25T11:53:59.314129Z"
    }
   },
   "outputs": [],
   "source": [
    "c_ops = []"
   ]
  },
  {
   "cell_type": "code",
   "execution_count": 37,
   "metadata": {
    "ExecuteTime": {
     "end_time": "2019-05-25T11:53:59.880932Z",
     "start_time": "2019-05-25T11:53:59.878004Z"
    }
   },
   "outputs": [],
   "source": [
    "from qutip.control.grape import plot_grape_control_fields, _overlap \n",
    "from qutip.control.grape import grape_unitary_adaptive, cy_grape_unitary"
   ]
  },
  {
   "cell_type": "code",
   "execution_count": 38,
   "metadata": {
    "ExecuteTime": {
     "end_time": "2019-05-25T11:54:00.448850Z",
     "start_time": "2019-05-25T11:54:00.446347Z"
    }
   },
   "outputs": [],
   "source": [
    "from scipy.interpolate import interp1d\n",
    "from qutip.ui.progressbar import TextProgressBar, EnhancedTextProgressBar"
   ]
  },
  {
   "cell_type": "code",
   "execution_count": 39,
   "metadata": {
    "ExecuteTime": {
     "end_time": "2019-05-25T11:54:00.985195Z",
     "start_time": "2019-05-25T11:54:00.979492Z"
    }
   },
   "outputs": [],
   "source": [
    "u0 = array([rand(len(times)) * 2 * pi * 0.05 for _ in range(len(H_ops))])"
   ]
  },
  {
   "cell_type": "code",
   "execution_count": 40,
   "metadata": {
    "ExecuteTime": {
     "end_time": "2019-05-25T11:54:01.498631Z",
     "start_time": "2019-05-25T11:54:01.495539Z"
    }
   },
   "outputs": [],
   "source": [
    "from numpy import convolve\n",
    "u0 = [convolve(ones(10)/10, u0[idx,:], mode='same') for idx in range(len(H_ops))]"
   ]
  },
  {
   "cell_type": "code",
   "execution_count": 41,
   "metadata": {
    "ExecuteTime": {
     "end_time": "2019-05-25T11:54:02.018457Z",
     "start_time": "2019-05-25T11:54:02.015289Z"
    }
   },
   "outputs": [],
   "source": [
    "u_limits = None #[0, 1 * 2 * pi]\n",
    "alpha = None"
   ]
  },
  {
   "cell_type": "code",
   "execution_count": 42,
   "metadata": {
    "ExecuteTime": {
     "end_time": "2019-05-25T12:01:41.103937Z",
     "start_time": "2019-05-25T11:54:02.614818Z"
    }
   },
   "outputs": [
    {
     "name": "stdout",
     "output_type": "stream",
     "text": [
      "10.0%. Run time:  48.09s. Est. time left: 00:00:07:12\n",
      "20.0%. Run time:  89.78s. Est. time left: 00:00:05:59\n",
      "30.0%. Run time: 132.00s. Est. time left: 00:00:05:07\n",
      "40.0%. Run time: 174.19s. Est. time left: 00:00:04:21\n",
      "50.0%. Run time: 224.94s. Est. time left: 00:00:03:44\n",
      "60.0%. Run time: 269.07s. Est. time left: 00:00:02:59\n",
      "70.0%. Run time: 317.43s. Est. time left: 00:00:02:16\n",
      "80.0%. Run time: 365.23s. Est. time left: 00:00:01:31\n",
      "90.0%. Run time: 414.84s. Est. time left: 00:00:00:46\n",
      "Total run time: 458.48s\n"
     ]
    }
   ],
   "source": [
    "result = cy_grape_unitary(U, H0, H_ops, R, times, u_start=u0, u_limits=u_limits,\n",
    "                          eps=2*np.pi*1, alpha=alpha, phase_sensitive=False,\n",
    "                          progress_bar=TextProgressBar())"
   ]
  },
  {
   "cell_type": "markdown",
   "metadata": {},
   "source": [
    "#### Plot of optimized control field without dissipation"
   ]
  },
  {
   "cell_type": "code",
   "execution_count": 43,
   "metadata": {
    "ExecuteTime": {
     "end_time": "2019-05-25T12:01:43.175130Z",
     "start_time": "2019-05-25T12:01:41.149741Z"
    }
   },
   "outputs": [
    {
     "data": {
      "image/png": "[encoded data removed]",
      "text/plain": [
       "<Figure size 576x144 with 1 Axes>"
      ]
     },
     "metadata": {
      "needs_background": "light"
     },
     "output_type": "display_data"
    }
   ],
   "source": [
    "plot_grape_control_fields(times,\n",
    "                          result.u / (2 * np.pi), H_labels, uniform_axes=True);"
   ]
  },
  {
   "cell_type": "code",
   "execution_count": 44,
   "metadata": {
    "ExecuteTime": {
     "end_time": "2019-05-25T12:01:43.247149Z",
     "start_time": "2019-05-25T12:01:43.242043Z"
    }
   },
   "outputs": [
    {
     "data": {
      "text/latex": [
       "Quantum object: dims = [[2], [2]], shape = (2, 2), type = oper, isherm = True\\begin{equation*}\\left(\\begin{array}{*{11}c}0.0 & 1.0\\\\1.0 & 0.0\\\\\\end{array}\\right)\\end{equation*}"
      ],
      "text/plain": [
       "Quantum object: dims = [[2], [2]], shape = (2, 2), type = oper, isherm = True\n",
       "Qobj data =\n",
       "[[0. 1.]\n",
       " [1. 0.]]"
      ]
     },
     "execution_count": 44,
     "metadata": {},
     "output_type": "execute_result"
    }
   ],
   "source": [
    "U"
   ]
  },
  {
   "cell_type": "code",
   "execution_count": 45,
   "metadata": {
    "ExecuteTime": {
     "end_time": "2019-05-25T12:01:43.306147Z",
     "start_time": "2019-05-25T12:01:43.300480Z"
    }
   },
   "outputs": [
    {
     "data": {
      "text/latex": [
       "Quantum object: dims = [[2], [2]], shape = (2, 2), type = oper, isherm = False\\begin{equation*}\\left(\\begin{array}{*{11}c}-7.765\\times10^{-16} & -1.000j\\\\-1.000j & 1.227\\times10^{-15}\\\\\\end{array}\\right)\\end{equation*}"
      ],
      "text/plain": [
       "Quantum object: dims = [[2], [2]], shape = (2, 2), type = oper, isherm = False\n",
       "Qobj data =\n",
       "[[-7.76468326e-16-1.53956708e-16j -3.66195506e-16-1.00000000e+00j]\n",
       " [-7.56604627e-17-1.00000000e+00j  1.22681542e-15+5.06105574e-16j]]"
      ]
     },
     "execution_count": 45,
     "metadata": {},
     "output_type": "execute_result"
    }
   ],
   "source": [
    "result.U_f"
   ]
  },
  {
   "cell_type": "markdown",
   "metadata": {},
   "source": [
    "## Analysis of result of qutip grape for closed system"
   ]
  },
  {
   "cell_type": "code",
   "execution_count": 46,
   "metadata": {
    "ExecuteTime": {
     "end_time": "2019-05-25T12:01:43.361287Z",
     "start_time": "2019-05-25T12:01:43.355148Z"
    }
   },
   "outputs": [
    {
     "data": {
      "text/latex": [
       "Quantum object: dims = [[2], [2]], shape = (2, 2), type = oper, isherm = False\\begin{equation*}\\left(\\begin{array}{*{11}c}1.0 & (2.457\\times10^{+14}+1.239\\times10^{+15}j)\\\\(2.457\\times10^{+14}+1.239\\times10^{+15}j) & (-1.645-0.326j)\\\\\\end{array}\\right)\\end{equation*}"
      ],
      "text/plain": [
       "Quantum object: dims = [[2], [2]], shape = (2, 2), type = oper, isherm = False\n",
       "Qobj data =\n",
       "[[ 1.00000000e+00+0.00000000e+00j  2.45699490e+14+1.23916570e+15j]\n",
       " [ 2.45699490e+14+1.23916570e+15j -1.64457746e+00-3.25720744e-01j]]"
      ]
     },
     "execution_count": 46,
     "metadata": {},
     "output_type": "execute_result"
    }
   ],
   "source": [
    "result.U_f/result.U_f[0,0]"
   ]
  },
  {
   "cell_type": "code",
   "execution_count": 47,
   "metadata": {
    "ExecuteTime": {
     "end_time": "2019-05-25T12:01:43.608915Z",
     "start_time": "2019-05-25T12:01:43.412549Z"
    }
   },
   "outputs": [
    {
     "data": {
      "text/plain": [
       "(<Figure size 432x288 with 2 Axes>,\n",
       " <mpl_toolkits.mplot3d.axes3d.Axes3D at 0x1a12692fd0>)"
      ]
     },
     "execution_count": 47,
     "metadata": {},
     "output_type": "execute_result"
    },
    {
     "data": {
      "image/png": "[encoded data removed]",
      "text/plain": [
       "<Figure size 432x288 with 2 Axes>"
      ]
     },
     "metadata": {
      "needs_background": "light"
     },
     "output_type": "display_data"
    }
   ],
   "source": [
    "matrix_histogram(U)"
   ]
  },
  {
   "cell_type": "code",
   "execution_count": 48,
   "metadata": {
    "ExecuteTime": {
     "end_time": "2019-05-25T12:01:43.973606Z",
     "start_time": "2019-05-25T12:01:43.671697Z"
    }
   },
   "outputs": [
    {
     "data": {
      "text/plain": [
       "(<Figure size 432x288 with 2 Axes>,\n",
       " <mpl_toolkits.mplot3d.axes3d.Axes3D at 0x1a1271ec50>)"
      ]
     },
     "execution_count": 48,
     "metadata": {},
     "output_type": "execute_result"
    },
    {
     "data": {
      "image/png": "[encoded data removed]",
      "text/plain": [
       "<Figure size 432x288 with 2 Axes>"
      ]
     },
     "metadata": {
      "needs_background": "light"
     },
     "output_type": "display_data"
    }
   ],
   "source": [
    "matrix_histogram(result.U_f)"
   ]
  },
  {
   "cell_type": "code",
   "execution_count": 49,
   "metadata": {
    "ExecuteTime": {
     "end_time": "2019-05-25T12:01:44.403016Z",
     "start_time": "2019-05-25T12:01:44.121113Z"
    }
   },
   "outputs": [
    {
     "data": {
      "text/plain": [
       "(<Figure size 432x288 with 2 Axes>,\n",
       " <mpl_toolkits.mplot3d.axes3d.Axes3D at 0x1a128cff28>)"
      ]
     },
     "execution_count": 49,
     "metadata": {},
     "output_type": "execute_result"
    },
    {
     "data": {
      "image/png": "[encoded data removed]",
      "text/plain": [
       "<Figure size 432x288 with 2 Axes>"
      ]
     },
     "metadata": {
      "needs_background": "light"
     },
     "output_type": "display_data"
    }
   ],
   "source": [
    "matrix_histogram_complex(U)"
   ]
  },
  {
   "cell_type": "code",
   "execution_count": 50,
   "metadata": {
    "ExecuteTime": {
     "end_time": "2019-05-25T12:01:44.734351Z",
     "start_time": "2019-05-25T12:01:44.486309Z"
    }
   },
   "outputs": [
    {
     "data": {
      "text/plain": [
       "(<Figure size 432x288 with 2 Axes>,\n",
       " <mpl_toolkits.mplot3d.axes3d.Axes3D at 0x1a116bff60>)"
      ]
     },
     "execution_count": 50,
     "metadata": {},
     "output_type": "execute_result"
    },
    {
     "data": {
      "image/png": "[encoded data removed]",
      "text/plain": [
       "<Figure size 432x288 with 2 Axes>"
      ]
     },
     "metadata": {
      "needs_background": "light"
     },
     "output_type": "display_data"
    }
   ],
   "source": [
    "matrix_histogram_complex(result.U_f)"
   ]
  },
  {
   "cell_type": "code",
   "execution_count": 51,
   "metadata": {
    "ExecuteTime": {
     "end_time": "2019-05-25T12:01:45.059734Z",
     "start_time": "2019-05-25T12:01:44.803286Z"
    }
   },
   "outputs": [
    {
     "data": {
      "text/plain": [
       "(<Figure size 576x432 with 2 Axes>,\n",
       " <matplotlib.axes._subplots.AxesSubplot at 0x1a1192a358>)"
      ]
     },
     "execution_count": 51,
     "metadata": {},
     "output_type": "execute_result"
    },
    {
     "data": {
      "image/png": "[encoded data removed]",
      "text/plain": [
       "<Figure size 576x432 with 2 Axes>"
      ]
     },
     "metadata": {
      "needs_background": "light"
     },
     "output_type": "display_data"
    }
   ],
   "source": [
    "hinton(U)"
   ]
  },
  {
   "cell_type": "code",
   "execution_count": 52,
   "metadata": {
    "ExecuteTime": {
     "end_time": "2019-05-25T12:01:45.515179Z",
     "start_time": "2019-05-25T12:01:45.142328Z"
    }
   },
   "outputs": [
    {
     "data": {
      "text/plain": [
       "(<Figure size 576x432 with 2 Axes>,\n",
       " <matplotlib.axes._subplots.AxesSubplot at 0x1a119707b8>)"
      ]
     },
     "execution_count": 52,
     "metadata": {},
     "output_type": "execute_result"
    },
    {
     "data": {
      "image/png": "[encoded data removed]",
      "text/plain": [
       "<Figure size 576x432 with 2 Axes>"
      ]
     },
     "metadata": {
      "needs_background": "light"
     },
     "output_type": "display_data"
    }
   ],
   "source": [
    "hinton(result.U_f)"
   ]
  },
  {
   "cell_type": "code",
   "execution_count": null,
   "metadata": {},
   "outputs": [],
   "source": []
  },
  {
   "cell_type": "code",
   "execution_count": null,
   "metadata": {},
   "outputs": [],
   "source": []
  },
  {
   "cell_type": "code",
   "execution_count": 53,
   "metadata": {
    "ExecuteTime": {
     "end_time": "2019-05-25T12:08:23.702964Z",
     "start_time": "2019-05-25T12:01:45.672324Z"
    }
   },
   "outputs": [
    {
     "data": {
      "text/plain": [
       "(array([-0.0020768+0.j, -0.0020768+0.j, -0.0020768+0.j, -0.0020768+0.j,\n",
       "        -0.0020768+0.j, -0.0020768+0.j, -0.0020768+0.j, -0.0020768+0.j,\n",
       "        -0.0020768+0.j, -0.0020768+0.j, -0.0020768+0.j, -0.0020768+0.j,\n",
       "        -0.0020768+0.j, -0.0020768+0.j, -0.0020768+0.j, -0.0020768+0.j,\n",
       "        -0.0020768+0.j, -0.0020768+0.j, -0.0020768+0.j, -0.0020768+0.j,\n",
       "        -0.0020768+0.j, -0.0020768+0.j, -0.0020768+0.j, -0.0020768+0.j,\n",
       "        -0.0020768+0.j, -0.0020768+0.j, -0.0020768+0.j, -0.0020768+0.j,\n",
       "        -0.0020768+0.j, -0.0020768+0.j, -0.0020768+0.j, -0.0020768+0.j,\n",
       "        -0.0020768+0.j, -0.0020768+0.j, -0.0020768+0.j, -0.0020768+0.j,\n",
       "        -0.0020768+0.j, -0.0020768+0.j, -0.0020768+0.j, -0.0020768+0.j,\n",
       "        -0.0020768+0.j, -0.0020768+0.j, -0.0020768+0.j, -0.0020768+0.j,\n",
       "        -0.0020768+0.j, -0.0020768+0.j, -0.0020768+0.j, -0.0020768+0.j,\n",
       "        -0.0020768+0.j, -0.0020768+0.j, -0.0020768+0.j, -0.0020768+0.j,\n",
       "        -0.0020768+0.j, -0.0020768+0.j, -0.0020768+0.j, -0.0020768+0.j,\n",
       "        -0.0020768+0.j, -0.0020768+0.j, -0.0020768+0.j, -0.0020768+0.j,\n",
       "        -0.0020768+0.j, -0.0020768+0.j, -0.0020768+0.j, -0.0020768+0.j,\n",
       "        -0.0020768+0.j, -0.0020768+0.j, -0.0020768+0.j, -0.0020768+0.j,\n",
       "        -0.0020768+0.j, -0.0020768+0.j, -0.0020768+0.j, -0.0020768+0.j,\n",
       "        -0.0020768+0.j, -0.0020768+0.j, -0.0020768+0.j, -0.0020768+0.j,\n",
       "        -0.0020768+0.j, -0.0020768+0.j, -0.0020768+0.j, -0.0020768+0.j,\n",
       "        -0.0020768+0.j, -0.0020768+0.j, -0.0020768+0.j, -0.0020768+0.j,\n",
       "        -0.0020768+0.j, -0.0020768+0.j, -0.0020768+0.j, -0.0020768+0.j,\n",
       "        -0.0020768+0.j, -0.0020768+0.j, -0.0020768+0.j, -0.0020768+0.j,\n",
       "        -0.0020768+0.j, -0.0020768+0.j, -0.0020768+0.j, -0.0020768+0.j,\n",
       "        -0.0020768+0.j, -0.0020768+0.j, -0.0020768+0.j, -0.0020768+0.j,\n",
       "        -0.0020768+0.j, -0.0020768+0.j, -0.0020768+0.j, -0.0020768+0.j,\n",
       "        -0.0020768+0.j, -0.0020768+0.j, -0.0020768+0.j, -0.0020768+0.j,\n",
       "        -0.0020768+0.j, -0.0020768+0.j, -0.0020768+0.j, -0.0020768+0.j,\n",
       "        -0.0020768+0.j, -0.0020768+0.j, -0.0020768+0.j, -0.0020768+0.j,\n",
       "        -0.0020768+0.j, -0.0020768+0.j, -0.0020768+0.j, -0.0020768+0.j,\n",
       "        -0.0020768+0.j, -0.0020768+0.j, -0.0020768+0.j, -0.0020768+0.j,\n",
       "        -0.0020768+0.j, -0.0020768+0.j, -0.0020768+0.j, -0.0020768+0.j,\n",
       "        -0.0020768+0.j, -0.0020768+0.j, -0.0020768+0.j, -0.0020768+0.j,\n",
       "        -0.0020768+0.j, -0.0020768+0.j, -0.0020768+0.j, -0.0020768+0.j,\n",
       "        -0.0020768+0.j, -0.0020768+0.j, -0.0020768+0.j, -0.0020768+0.j,\n",
       "        -0.0020768+0.j, -0.0020768+0.j, -0.0020768+0.j, -0.0020768+0.j,\n",
       "        -0.0020768+0.j, -0.0020768+0.j, -0.0020768+0.j, -0.0020768+0.j,\n",
       "        -0.0020768+0.j, -0.0020768+0.j, -0.0020768+0.j, -0.0020768+0.j,\n",
       "        -0.0020768+0.j, -0.0020768+0.j, -0.0020768+0.j, -0.0020768+0.j,\n",
       "        -0.0020768+0.j, -0.0020768+0.j, -0.0020768+0.j, -0.0020768+0.j,\n",
       "        -0.0020768+0.j, -0.0020768+0.j, -0.0020768+0.j, -0.0020768+0.j,\n",
       "        -0.0020768+0.j, -0.0020768+0.j, -0.0020768+0.j, -0.0020768+0.j,\n",
       "        -0.0020768+0.j, -0.0020768+0.j, -0.0020768+0.j, -0.0020768+0.j,\n",
       "        -0.0020768+0.j, -0.0020768+0.j, -0.0020768+0.j, -0.0020768+0.j,\n",
       "        -0.0020768+0.j, -0.0020768+0.j, -0.0020768+0.j, -0.0020768+0.j,\n",
       "        -0.0020768+0.j, -0.0020768+0.j, -0.0020768+0.j, -0.0020768+0.j,\n",
       "        -0.0020768+0.j, -0.0020768+0.j, -0.0020768+0.j, -0.0020768+0.j,\n",
       "        -0.0020768+0.j, -0.0020768+0.j, -0.0020768+0.j, -0.0020768+0.j,\n",
       "        -0.0020768+0.j, -0.0020768+0.j, -0.0020768+0.j, -0.0020768+0.j,\n",
       "        -0.0020768+0.j, -0.0020768+0.j, -0.0020768+0.j, -0.0020768+0.j,\n",
       "        -0.0020768+0.j, -0.0020768+0.j, -0.0020768+0.j, -0.0020768+0.j,\n",
       "        -0.0020768+0.j, -0.0020768+0.j, -0.0020768+0.j, -0.0020768+0.j,\n",
       "        -0.0020768+0.j, -0.0020768+0.j, -0.0020768+0.j, -0.0020768+0.j,\n",
       "        -0.0020768+0.j, -0.0020768+0.j, -0.0020768+0.j, -0.0020768+0.j,\n",
       "        -0.0020768+0.j, -0.0020768+0.j, -0.0020768+0.j, -0.0020768+0.j,\n",
       "        -0.0020768+0.j, -0.0020768+0.j, -0.0020768+0.j, -0.0020768+0.j,\n",
       "        -0.0020768+0.j, -0.0020768+0.j, -0.0020768+0.j, -0.0020768+0.j,\n",
       "        -0.0020768+0.j, -0.0020768+0.j, -0.0020768+0.j, -0.0020768+0.j,\n",
       "        -0.0020768+0.j, -0.0020768+0.j, -0.0020768+0.j, -0.0020768+0.j,\n",
       "        -0.0020768+0.j, -0.0020768+0.j, -0.0020768+0.j, -0.0020768+0.j,\n",
       "        -0.0020768+0.j, -0.0020768+0.j, -0.0020768+0.j, -0.0020768+0.j,\n",
       "        -0.0020768+0.j, -0.0020768+0.j, -0.0020768+0.j, -0.0020768+0.j,\n",
       "        -0.0020768+0.j, -0.0020768+0.j, -0.0020768+0.j, -0.0020768+0.j,\n",
       "        -0.0020768+0.j, -0.0020768+0.j, -0.0020768+0.j, -0.0020768+0.j,\n",
       "        -0.0020768+0.j, -0.0020768+0.j, -0.0020768+0.j, -0.0020768+0.j,\n",
       "        -0.0020768+0.j, -0.0020768+0.j, -0.0020768+0.j, -0.0020768+0.j,\n",
       "        -0.0020768+0.j, -0.0020768+0.j, -0.0020768+0.j, -0.0020768+0.j,\n",
       "        -0.0020768+0.j, -0.0020768+0.j, -0.0020768+0.j, -0.0020768+0.j,\n",
       "        -0.0020768+0.j, -0.0020768+0.j, -0.0020768+0.j, -0.0020768+0.j,\n",
       "        -0.0020768+0.j, -0.0020768+0.j, -0.0020768+0.j, -0.0020768+0.j,\n",
       "        -0.0020768+0.j, -0.0020768+0.j, -0.0020768+0.j, -0.0020768+0.j,\n",
       "        -0.0020768+0.j, -0.0020768+0.j, -0.0020768+0.j, -0.0020768+0.j,\n",
       "        -0.0020768+0.j, -0.0020768+0.j, -0.0020768+0.j, -0.0020768+0.j,\n",
       "        -0.0020768+0.j, -0.0020768+0.j, -0.0020768+0.j, -0.0020768+0.j,\n",
       "        -0.0020768+0.j, -0.0020768+0.j, -0.0020768+0.j, -0.0020768+0.j,\n",
       "        -0.0020768+0.j, -0.0020768+0.j, -0.0020768+0.j, -0.0020768+0.j,\n",
       "        -0.0020768+0.j, -0.0020768+0.j, -0.0020768+0.j, -0.0020768+0.j,\n",
       "        -0.0020768+0.j, -0.0020768+0.j, -0.0020768+0.j, -0.0020768+0.j,\n",
       "        -0.0020768+0.j, -0.0020768+0.j, -0.0020768+0.j, -0.0020768+0.j,\n",
       "        -0.0020768+0.j, -0.0020768+0.j, -0.0020768+0.j, -0.0020768+0.j,\n",
       "        -0.0020768+0.j, -0.0020768+0.j, -0.0020768+0.j, -0.0020768+0.j,\n",
       "        -0.0020768+0.j, -0.0020768+0.j, -0.0020768+0.j, -0.0020768+0.j,\n",
       "        -0.0020768+0.j, -0.0020768+0.j, -0.0020768+0.j, -0.0020768+0.j,\n",
       "        -0.0020768+0.j, -0.0020768+0.j, -0.0020768+0.j, -0.0020768+0.j,\n",
       "        -0.0020768+0.j, -0.0020768+0.j, -0.0020768+0.j, -0.0020768+0.j,\n",
       "        -0.0020768+0.j, -0.0020768+0.j, -0.0020768+0.j, -0.0020768+0.j,\n",
       "        -0.0020768+0.j, -0.0020768+0.j, -0.0020768+0.j, -0.0020768+0.j,\n",
       "        -0.0020768+0.j, -0.0020768+0.j, -0.0020768+0.j, -0.0020768+0.j,\n",
       "        -0.0020768+0.j, -0.0020768+0.j, -0.0020768+0.j, -0.0020768+0.j,\n",
       "        -0.0020768+0.j, -0.0020768+0.j, -0.0020768+0.j, -0.0020768+0.j,\n",
       "        -0.0020768+0.j, -0.0020768+0.j, -0.0020768+0.j, -0.0020768+0.j,\n",
       "        -0.0020768+0.j, -0.0020768+0.j, -0.0020768+0.j, -0.0020768+0.j,\n",
       "        -0.0020768+0.j, -0.0020768+0.j, -0.0020768+0.j, -0.0020768+0.j,\n",
       "        -0.0020768+0.j, -0.0020768+0.j, -0.0020768+0.j, -0.0020768+0.j,\n",
       "        -0.0020768+0.j, -0.0020768+0.j, -0.0020768+0.j, -0.0020768+0.j,\n",
       "        -0.0020768+0.j, -0.0020768+0.j, -0.0020768+0.j, -0.0020768+0.j,\n",
       "        -0.0020768+0.j, -0.0020768+0.j, -0.0020768+0.j, -0.0020768+0.j,\n",
       "        -0.0020768+0.j, -0.0020768+0.j, -0.0020768+0.j, -0.0020768+0.j,\n",
       "        -0.0020768+0.j, -0.0020768+0.j, -0.0020768+0.j, -0.0020768+0.j,\n",
       "        -0.0020768+0.j, -0.0020768+0.j, -0.0020768+0.j, -0.0020768+0.j,\n",
       "        -0.0020768+0.j, -0.0020768+0.j, -0.0020768+0.j, -0.0020768+0.j,\n",
       "        -0.0020768+0.j, -0.0020768+0.j, -0.0020768+0.j, -0.0020768+0.j,\n",
       "        -0.0020768+0.j, -0.0020768+0.j, -0.0020768+0.j, -0.0020768+0.j,\n",
       "        -0.0020768+0.j, -0.0020768+0.j, -0.0020768+0.j, -0.0020768+0.j,\n",
       "        -0.0020768+0.j, -0.0020768+0.j, -0.0020768+0.j, -0.0020768+0.j,\n",
       "        -0.0020768+0.j, -0.0020768+0.j, -0.0020768+0.j, -0.0020768+0.j,\n",
       "        -0.0020768+0.j, -0.0020768+0.j, -0.0020768+0.j, -0.0020768+0.j,\n",
       "        -0.0020768+0.j, -0.0020768+0.j, -0.0020768+0.j, -0.0020768+0.j,\n",
       "        -0.0020768+0.j, -0.0020768+0.j, -0.0020768+0.j, -0.0020768+0.j,\n",
       "        -0.0020768+0.j, -0.0020768+0.j, -0.0020768+0.j, -0.0020768+0.j,\n",
       "        -0.0020768+0.j, -0.0020768+0.j, -0.0020768+0.j, -0.0020768+0.j,\n",
       "        -0.0020768+0.j, -0.0020768+0.j, -0.0020768+0.j, -0.0020768+0.j,\n",
       "        -0.0020768+0.j, -0.0020768+0.j, -0.0020768+0.j, -0.0020768+0.j,\n",
       "        -0.0020768+0.j, -0.0020768+0.j, -0.0020768+0.j, -0.0020768+0.j,\n",
       "        -0.0020768+0.j, -0.0020768+0.j, -0.0020768+0.j, -0.0020768+0.j,\n",
       "        -0.0020768+0.j, -0.0020768+0.j, -0.0020768+0.j, -0.0020768+0.j,\n",
       "        -0.0020768+0.j, -0.0020768+0.j, -0.0020768+0.j, -0.0020768+0.j,\n",
       "        -0.0020768+0.j, -0.0020768+0.j, -0.0020768+0.j, -0.0020768+0.j,\n",
       "        -0.0020768+0.j, -0.0020768+0.j, -0.0020768+0.j, -0.0020768+0.j,\n",
       "        -0.0020768+0.j, -0.0020768+0.j, -0.0020768+0.j, -0.0020768+0.j,\n",
       "        -0.0020768+0.j, -0.0020768+0.j, -0.0020768+0.j, -0.0020768+0.j,\n",
       "        -0.0020768+0.j, -0.0020768+0.j, -0.0020768+0.j, -0.0020768+0.j,\n",
       "        -0.0020768+0.j, -0.0020768+0.j, -0.0020768+0.j, -0.0020768+0.j,\n",
       "        -0.0020768+0.j, -0.0020768+0.j, -0.0020768+0.j, -0.0020768+0.j,\n",
       "        -0.0020768+0.j, -0.0020768+0.j, -0.0020768+0.j, -0.0020768+0.j]),\n",
       " array([ 3.65205662e-01+0.j,  3.58874674e-01+0.j,  3.79143490e-01+0.j,\n",
       "         3.93956500e-01+0.j,  4.17480592e-01+0.j,  4.23191166e-01+0.j,\n",
       "         4.41876136e-01+0.j,  4.44778983e-01+0.j,  4.33338267e-01+0.j,\n",
       "         4.22625360e-01+0.j,  4.00661470e-01+0.j,  4.17040461e-01+0.j,\n",
       "         4.08834696e-01+0.j,  3.93647554e-01+0.j,  3.61347896e-01+0.j,\n",
       "         3.44472334e-01+0.j,  3.21909578e-01+0.j,  3.06463887e-01+0.j,\n",
       "         2.81056359e-01+0.j,  2.73508864e-01+0.j,  2.55377171e-01+0.j,\n",
       "         2.31650297e-01+0.j,  2.24568668e-01+0.j,  2.31232589e-01+0.j,\n",
       "         2.31077542e-01+0.j,  2.49354135e-01+0.j,  2.51533203e-01+0.j,\n",
       "         2.42797294e-01+0.j,  2.55723483e-01+0.j,  2.34476375e-01+0.j,\n",
       "         2.34683511e-01+0.j,  2.28738144e-01+0.j,  1.95966497e-01+0.j,\n",
       "         1.63355774e-01+0.j,  1.58995621e-01+0.j,  1.46528286e-01+0.j,\n",
       "         1.30121065e-01+0.j,  1.15774090e-01+0.j,  7.97741444e-02+0.j,\n",
       "         7.07722621e-02+0.j,  8.37521192e-02+0.j,  6.60332327e-02+0.j,\n",
       "         5.76152471e-02+0.j,  5.06173982e-02+0.j,  2.86276300e-02+0.j,\n",
       "         8.00801526e-03+0.j,  3.09946767e-03+0.j,  1.15684149e-02+0.j,\n",
       "         2.40372777e-02+0.j,  1.47055428e-02+0.j, -1.61557450e-02+0.j,\n",
       "        -1.76817722e-02+0.j, -3.61381408e-03+0.j, -1.43796243e-02+0.j,\n",
       "        -1.90503343e-02+0.j, -2.06975390e-02+0.j, -4.64009562e-02+0.j,\n",
       "        -5.78800452e-02+0.j, -7.93325436e-02+0.j, -9.45378834e-02+0.j,\n",
       "        -8.62070900e-02+0.j, -7.63849502e-02+0.j, -9.68636496e-02+0.j,\n",
       "        -8.66642321e-02+0.j, -9.09197887e-02+0.j, -9.29864058e-02+0.j,\n",
       "        -9.95157076e-02+0.j, -1.14424552e-01+0.j, -1.31669516e-01+0.j,\n",
       "        -1.43606846e-01+0.j, -1.64129921e-01+0.j, -1.84368653e-01+0.j,\n",
       "        -1.87965855e-01+0.j, -2.08657528e-01+0.j, -2.17929479e-01+0.j,\n",
       "        -2.23932929e-01+0.j, -2.18439751e-01+0.j, -2.09794362e-01+0.j,\n",
       "        -1.87418123e-01+0.j, -1.95043307e-01+0.j, -1.99415593e-01+0.j,\n",
       "        -2.05457308e-01+0.j, -2.14409174e-01+0.j, -2.26390763e-01+0.j,\n",
       "        -2.15538673e-01+0.j, -2.28443633e-01+0.j, -2.49886104e-01+0.j,\n",
       "        -2.64498437e-01+0.j, -2.92562460e-01+0.j, -2.97341279e-01+0.j,\n",
       "        -3.03371536e-01+0.j, -3.21914383e-01+0.j, -3.20084178e-01+0.j,\n",
       "        -3.24237681e-01+0.j, -3.50914576e-01+0.j, -3.52152846e-01+0.j,\n",
       "        -3.29952491e-01+0.j, -3.36316431e-01+0.j, -3.40201195e-01+0.j,\n",
       "        -3.44302160e-01+0.j, -3.61535182e-01+0.j, -3.45696680e-01+0.j,\n",
       "        -3.51734436e-01+0.j, -3.50306542e-01+0.j, -3.61969313e-01+0.j,\n",
       "        -3.66792814e-01+0.j, -3.96747900e-01+0.j, -4.03975212e-01+0.j,\n",
       "        -4.13208251e-01+0.j, -4.08281486e-01+0.j, -3.85620460e-01+0.j,\n",
       "        -3.91703195e-01+0.j, -3.93780768e-01+0.j, -3.96980768e-01+0.j,\n",
       "        -3.96243579e-01+0.j, -4.10696458e-01+0.j, -3.93291725e-01+0.j,\n",
       "        -3.90571522e-01+0.j, -3.97198134e-01+0.j, -3.98065981e-01+0.j,\n",
       "        -4.12974053e-01+0.j, -4.39691511e-01+0.j, -4.44120232e-01+0.j,\n",
       "        -4.61061411e-01+0.j, -4.49054499e-01+0.j, -4.42821678e-01+0.j,\n",
       "        -4.70356688e-01+0.j, -4.73463450e-01+0.j, -4.65164639e-01+0.j,\n",
       "        -4.57052687e-01+0.j, -4.75955804e-01+0.j, -4.49906432e-01+0.j,\n",
       "        -4.51985237e-01+0.j, -4.38440219e-01+0.j, -4.51260839e-01+0.j,\n",
       "        -4.52862387e-01+0.j, -4.26783204e-01+0.j, -4.44465573e-01+0.j,\n",
       "        -4.51202578e-01+0.j, -4.73206970e-01+0.j, -4.53122726e-01+0.j,\n",
       "        -4.63402566e-01+0.j, -4.72547435e-01+0.j, -4.89293983e-01+0.j,\n",
       "        -4.76638224e-01+0.j, -5.03422090e-01+0.j, -5.09785392e-01+0.j,\n",
       "        -4.93414912e-01+0.j, -4.95507086e-01+0.j, -4.99424430e-01+0.j,\n",
       "        -5.10942256e-01+0.j, -5.26221728e-01+0.j, -5.16570495e-01+0.j,\n",
       "        -5.04081712e-01+0.j, -5.03574349e-01+0.j, -4.81897313e-01+0.j,\n",
       "        -4.86524747e-01+0.j, -4.77901692e-01+0.j, -4.69155376e-01+0.j,\n",
       "        -4.72300551e-01+0.j, -4.79259154e-01+0.j, -4.81682674e-01+0.j,\n",
       "        -4.86997442e-01+0.j, -4.99052632e-01+0.j, -4.93589371e-01+0.j,\n",
       "        -4.92743651e-01+0.j, -4.97376360e-01+0.j, -4.96716389e-01+0.j,\n",
       "        -4.98780421e-01+0.j, -4.90469326e-01+0.j, -4.90864750e-01+0.j,\n",
       "        -4.74589914e-01+0.j, -4.81385751e-01+0.j, -4.73297604e-01+0.j,\n",
       "        -4.87883941e-01+0.j, -4.94698098e-01+0.j, -4.76914481e-01+0.j,\n",
       "        -4.92397835e-01+0.j, -4.77003195e-01+0.j, -4.81464272e-01+0.j,\n",
       "        -4.76983232e-01+0.j, -4.80639367e-01+0.j, -4.72002120e-01+0.j,\n",
       "        -4.59521519e-01+0.j, -4.67922884e-01+0.j, -4.57429387e-01+0.j,\n",
       "        -4.81064254e-01+0.j, -4.68782537e-01+0.j, -4.77000778e-01+0.j,\n",
       "        -4.63471174e-01+0.j, -4.62119400e-01+0.j, -4.58264330e-01+0.j,\n",
       "        -4.70875758e-01+0.j, -4.79377725e-01+0.j, -4.57556694e-01+0.j,\n",
       "        -4.72501526e-01+0.j, -4.39049870e-01+0.j, -4.21634589e-01+0.j,\n",
       "        -4.11689706e-01+0.j, -4.06455850e-01+0.j, -3.90967220e-01+0.j,\n",
       "        -3.85073733e-01+0.j, -3.51674430e-01+0.j, -3.46154609e-01+0.j,\n",
       "        -3.44517392e-01+0.j, -3.13964414e-01+0.j, -3.08619023e-01+0.j,\n",
       "        -3.20525390e-01+0.j, -3.31993188e-01+0.j, -3.33687756e-01+0.j,\n",
       "        -3.28996911e-01+0.j, -3.12139831e-01+0.j, -3.14761364e-01+0.j,\n",
       "        -3.04371286e-01+0.j, -2.95929054e-01+0.j, -2.94897557e-01+0.j,\n",
       "        -3.02958419e-01+0.j, -2.95356472e-01+0.j, -2.89325677e-01+0.j,\n",
       "        -2.63195635e-01+0.j, -2.67709226e-01+0.j, -2.52390973e-01+0.j,\n",
       "        -2.47718799e-01+0.j, -2.22793111e-01+0.j, -2.29803505e-01+0.j,\n",
       "        -2.20233717e-01+0.j, -2.24503138e-01+0.j, -2.20346719e-01+0.j,\n",
       "        -1.89486191e-01+0.j, -1.75314275e-01+0.j, -1.45835980e-01+0.j,\n",
       "        -1.67911405e-01+0.j, -1.71257090e-01+0.j, -1.64520459e-01+0.j,\n",
       "        -1.35556792e-01+0.j, -1.41885441e-01+0.j, -1.24388480e-01+0.j,\n",
       "        -1.17217290e-01+0.j, -1.21429983e-01+0.j, -1.14756826e-01+0.j,\n",
       "        -9.89841877e-02+0.j, -6.38024417e-02+0.j, -6.06543177e-02+0.j,\n",
       "        -6.31053356e-02+0.j, -6.63422695e-02+0.j, -4.62919959e-02+0.j,\n",
       "        -2.99883962e-02+0.j, -1.14015455e-02+0.j,  1.11497349e-02+0.j,\n",
       "        -7.27974089e-03+0.j, -2.21218704e-04+0.j, -9.17495532e-03+0.j,\n",
       "         1.47577417e-02+0.j,  2.83256289e-02+0.j,  3.35923562e-02+0.j,\n",
       "         3.29717830e-02+0.j,  1.95789944e-02+0.j,  7.58500456e-03+0.j,\n",
       "         1.37640328e-02+0.j,  4.43528929e-02+0.j,  3.05732261e-02+0.j,\n",
       "         5.89604695e-02+0.j,  5.60639746e-02+0.j,  5.93667929e-02+0.j,\n",
       "         8.17243290e-02+0.j,  9.73407404e-02+0.j,  1.09968179e-01+0.j,\n",
       "         1.47728083e-01+0.j,  1.40507429e-01+0.j,  1.53479824e-01+0.j,\n",
       "         1.60887387e-01+0.j,  1.63580241e-01+0.j,  1.73605562e-01+0.j,\n",
       "         1.71616198e-01+0.j,  1.68593685e-01+0.j,  1.69744789e-01+0.j,\n",
       "         2.00367273e-01+0.j,  2.06036978e-01+0.j,  2.31264643e-01+0.j,\n",
       "         2.21030128e-01+0.j,  2.24184049e-01+0.j,  2.30133116e-01+0.j,\n",
       "         2.31575933e-01+0.j,  2.42066550e-01+0.j,  2.57220293e-01+0.j,\n",
       "         2.75416240e-01+0.j,  2.65615447e-01+0.j,  2.57952252e-01+0.j,\n",
       "         2.61882263e-01+0.j,  2.80784500e-01+0.j,  3.17943257e-01+0.j,\n",
       "         3.26671140e-01+0.j,  3.45028126e-01+0.j,  3.49452104e-01+0.j,\n",
       "         3.62801438e-01+0.j,  3.78234590e-01+0.j,  3.93008114e-01+0.j,\n",
       "         3.94830393e-01+0.j,  3.88588804e-01+0.j,  3.76414637e-01+0.j,\n",
       "         3.58592498e-01+0.j,  3.44641331e-01+0.j,  3.53427757e-01+0.j,\n",
       "         3.80116469e-01+0.j,  3.74710832e-01+0.j,  3.72391809e-01+0.j,\n",
       "         3.86297767e-01+0.j,  4.13592914e-01+0.j,  4.33275645e-01+0.j,\n",
       "         4.44231918e-01+0.j,  4.76492751e-01+0.j,  5.06490706e-01+0.j,\n",
       "         5.00439245e-01+0.j,  5.05113433e-01+0.j,  5.02980753e-01+0.j,\n",
       "         5.19298763e-01+0.j,  5.15844955e-01+0.j,  4.97824229e-01+0.j,\n",
       "         4.85909055e-01+0.j,  4.92742303e-01+0.j,  4.77652112e-01+0.j,\n",
       "         4.62961119e-01+0.j,  4.69738241e-01+0.j,  4.79476857e-01+0.j,\n",
       "         4.97254964e-01+0.j,  4.86544006e-01+0.j,  5.00388275e-01+0.j,\n",
       "         5.20417349e-01+0.j,  5.29020190e-01+0.j,  5.52058732e-01+0.j,\n",
       "         5.75068352e-01+0.j,  6.04946359e-01+0.j,  6.22222624e-01+0.j,\n",
       "         6.30340553e-01+0.j,  6.28147325e-01+0.j,  6.24664933e-01+0.j,\n",
       "         6.13731590e-01+0.j,  6.18339108e-01+0.j,  6.34715251e-01+0.j,\n",
       "         6.23912974e-01+0.j,  6.25352659e-01+0.j,  6.01301076e-01+0.j,\n",
       "         6.06368877e-01+0.j,  5.98483095e-01+0.j,  5.98578939e-01+0.j,\n",
       "         5.98739367e-01+0.j,  6.16832785e-01+0.j,  6.31044295e-01+0.j,\n",
       "         6.34568261e-01+0.j,  6.51210828e-01+0.j,  6.46676616e-01+0.j,\n",
       "         6.67252273e-01+0.j,  6.59146148e-01+0.j,  6.56667844e-01+0.j,\n",
       "         6.68170045e-01+0.j,  6.90353686e-01+0.j,  7.00467958e-01+0.j,\n",
       "         6.85234270e-01+0.j,  6.71148657e-01+0.j,  6.64214545e-01+0.j,\n",
       "         6.54322813e-01+0.j,  6.62579681e-01+0.j,  6.85105332e-01+0.j,\n",
       "         6.76546886e-01+0.j,  6.78112657e-01+0.j,  6.59958548e-01+0.j,\n",
       "         6.49600219e-01+0.j,  6.40027700e-01+0.j,  6.64794180e-01+0.j,\n",
       "         6.58349083e-01+0.j,  6.73107842e-01+0.j,  6.71289146e-01+0.j,\n",
       "         6.43237221e-01+0.j,  6.60919705e-01+0.j,  6.47653708e-01+0.j,\n",
       "         6.70638395e-01+0.j,  6.56022348e-01+0.j,  6.69765832e-01+0.j,\n",
       "         6.59353877e-01+0.j,  6.49851818e-01+0.j,  6.56198651e-01+0.j,\n",
       "         6.31646078e-01+0.j,  6.50482730e-01+0.j,  6.30212912e-01+0.j,\n",
       "         6.41994289e-01+0.j,  6.14792681e-01+0.j,  6.24957127e-01+0.j,\n",
       "         6.31528246e-01+0.j,  6.17770058e-01+0.j,  6.37322752e-01+0.j,\n",
       "         6.15983100e-01+0.j,  6.26382132e-01+0.j,  6.07931693e-01+0.j,\n",
       "         6.27284977e-01+0.j,  6.13938704e-01+0.j,  6.23237443e-01+0.j,\n",
       "         6.09501993e-01+0.j,  5.79508998e-01+0.j,  5.91655341e-01+0.j,\n",
       "         5.94078625e-01+0.j,  5.85626950e-01+0.j,  5.81634174e-01+0.j,\n",
       "         5.78849400e-01+0.j,  5.58685228e-01+0.j,  5.53201893e-01+0.j,\n",
       "         5.44962445e-01+0.j,  5.38656364e-01+0.j,  5.39210987e-01+0.j,\n",
       "         5.18144867e-01+0.j,  5.07216792e-01+0.j,  5.11482961e-01+0.j,\n",
       "         4.99730465e-01+0.j,  4.93174250e-01+0.j,  4.96710769e-01+0.j,\n",
       "         4.84516052e-01+0.j,  4.88497476e-01+0.j,  4.85571395e-01+0.j,\n",
       "         4.83355920e-01+0.j,  4.95465343e-01+0.j,  4.67064743e-01+0.j,\n",
       "         4.56998812e-01+0.j,  4.45668960e-01+0.j,  4.50527641e-01+0.j,\n",
       "         4.34288718e-01+0.j,  4.46291255e-01+0.j,  4.37467871e-01+0.j,\n",
       "         4.42899720e-01+0.j,  4.38939662e-01+0.j,  4.06980450e-01+0.j,\n",
       "         4.25148581e-01+0.j,  4.23540803e-01+0.j,  4.13070236e-01+0.j,\n",
       "         3.88562647e-01+0.j,  3.95485458e-01+0.j,  3.72545052e-01+0.j,\n",
       "         3.47099181e-01+0.j,  3.38485722e-01+0.j,  3.18512828e-01+0.j,\n",
       "         3.20421929e-01+0.j,  2.86093325e-01+0.j,  2.83666168e-01+0.j,\n",
       "         2.91429061e-01+0.j,  3.04173028e-01+0.j,  2.77469097e-01+0.j,\n",
       "         2.92863028e-01+0.j,  3.08363752e-01+0.j,  2.83032955e-01+0.j,\n",
       "         3.01558703e-01+0.j,  2.98493872e-01+0.j,  3.10304952e-01+0.j,\n",
       "         3.02829050e-01+0.j,  2.83836781e-01+0.j,  2.72575585e-01+0.j,\n",
       "         2.81079311e-01+0.j,  2.69174468e-01+0.j,  2.62709186e-01+0.j,\n",
       "         2.64146145e-01+0.j,  2.52318387e-01+0.j,  2.30584808e-01+0.j,\n",
       "         2.08924634e-01+0.j,  1.94101491e-01+0.j,  2.08835935e-01+0.j,\n",
       "         1.98726764e-01+0.j,  1.68026164e-01+0.j,  1.64781618e-01+0.j,\n",
       "         1.27570863e-01+0.j,  1.22643008e-01+0.j,  9.40005318e-02+0.j,\n",
       "         9.29321888e-02+0.j,  9.19438300e-02+0.j,  7.09681067e-02+0.j,\n",
       "         3.17714169e-02+0.j,  6.64079391e-03+0.j,  1.20032097e-02+0.j,\n",
       "         4.89501836e-03+0.j,  2.36766901e-02+0.j,  8.64788387e-03+0.j,\n",
       "         2.17656287e-02+0.j,  2.38253062e-02+0.j,  8.66770495e-03+0.j,\n",
       "         7.80611151e-03+0.j,  2.17135722e-03+0.j,  2.20188941e-02+0.j,\n",
       "         2.93043642e-02+0.j,  1.25940330e-02+0.j,  1.29833485e-03+0.j,\n",
       "        -4.96685276e-04+0.j, -2.81580512e-02+0.j, -2.85305163e-02+0.j,\n",
       "        -3.62970147e-02+0.j, -3.15116012e-02+0.j, -2.94767461e-02+0.j,\n",
       "        -4.90226457e-02+0.j, -6.43359774e-02+0.j, -7.40980236e-02+0.j,\n",
       "        -8.51955438e-02+0.j, -1.10076423e-01+0.j, -1.22328351e-01+0.j,\n",
       "        -1.59282367e-01+0.j, -1.59282367e-01+0.j]))"
      ]
     },
     "execution_count": 53,
     "metadata": {},
     "output_type": "execute_result"
    }
   ],
   "source": [
    "updater(result.u[-1, 0, : ] , (2*pi)/500, epsilon=((0.1*2*pi)/(10**3)))"
   ]
  },
  {
   "cell_type": "code",
   "execution_count": 54,
   "metadata": {
    "ExecuteTime": {
     "end_time": "2019-05-25T12:08:23.748006Z",
     "start_time": "2019-05-25T12:08:23.744163Z"
    }
   },
   "outputs": [
    {
     "data": {
      "text/plain": [
       "6.283185307179586"
      ]
     },
     "execution_count": 54,
     "metadata": {},
     "output_type": "execute_result"
    }
   ],
   "source": [
    "times[-1]"
   ]
  },
  {
   "cell_type": "code",
   "execution_count": 55,
   "metadata": {
    "ExecuteTime": {
     "end_time": "2019-05-25T12:08:23.792875Z",
     "start_time": "2019-05-25T12:08:23.789026Z"
    }
   },
   "outputs": [
    {
     "data": {
      "text/plain": [
       "6.283185307179586"
      ]
     },
     "execution_count": 55,
     "metadata": {},
     "output_type": "execute_result"
    }
   ],
   "source": [
    "total_time_evo"
   ]
  },
  {
   "cell_type": "markdown",
   "metadata": {},
   "source": [
    "## joining qutip to my code"
   ]
  },
  {
   "cell_type": "markdown",
   "metadata": {
    "ExecuteTime": {
     "end_time": "2019-02-15T04:25:13.615608Z",
     "start_time": "2019-02-15T04:25:13.566890Z"
    }
   },
   "source": [
    "##### total_time\n",
    "---------------------------------------------------------------------------\n",
    "NameError                                 Traceback (most recent call last)\n",
    "<ipython-input-55-9bec417112c8> in <module>()\n",
    "----> 1 total_time\n",
    "\n",
    "NameError: name 'total_time' is not defined\n"
   ]
  },
  {
   "cell_type": "code",
   "execution_count": 56,
   "metadata": {
    "ExecuteTime": {
     "end_time": "2019-05-25T12:08:23.837996Z",
     "start_time": "2019-05-25T12:08:23.832867Z"
    }
   },
   "outputs": [
    {
     "data": {
      "text/plain": [
       "500"
      ]
     },
     "execution_count": 56,
     "metadata": {},
     "output_type": "execute_result"
    }
   ],
   "source": [
    "len(times)"
   ]
  },
  {
   "cell_type": "markdown",
   "metadata": {
    "ExecuteTime": {
     "end_time": "2019-02-15T04:33:44.601387Z",
     "start_time": "2019-02-15T04:33:44.593763Z"
    },
    "code_folding": []
   },
   "source": [
    "def terminator(max_iter, time_steps=len(times), total_time= total_time_evo,\n",
    "               epsilon= 2*pi*1):\n",
    "    r\"\"\"Brief description of the function\"\"\"\n",
    "    \n",
    "    xi_initial = result.u[-1, 0, : ] \n",
    "    #1000*random_sample((time_steps,))\n",
    "    dt = (2*pi)/500  #total_time/time_steps\n",
    "    xi_diff, xi_new_vec = updater(xi_initial, dt, epsilon)\n",
    "    \n",
    "    for i in range(max_iter):\n",
    "        if amax(xi_diff) < epsilon**2 :\n",
    "            xi_final = xi_new_vec\n",
    "            break\n",
    "        else :\n",
    "            xi_diff, xi_new_vec = updater(xi_new_vec, dt, epsilon)\n",
    "            print(i)\n",
    "            print(amax(xi_diff))\n",
    "            \n",
    "        \n",
    "    xi_final = xi_new_vec    \n",
    "    return xi_final"
   ]
  },
  {
   "cell_type": "markdown",
   "metadata": {
    "ExecuteTime": {
     "end_time": "2019-02-16T18:32:50.744234Z",
     "start_time": "2019-02-16T18:22:36.114Z"
    },
    "code_folding": []
   },
   "source": [
    "def terminator(max_iter, time_steps=len(times),\n",
    "              total_time=total_time_evo,\n",
    "              epsilon=2*pi*1):\n",
    "    r\"\"\"Brief description of the function\"\"\"\n",
    "    xi_initial = result.u[-1, 0, :]\n",
    "    # 1000*random_sample((time_steps,))\n",
    "    dt = (2*pi)/500 #total_time/time_steps\n",
    "    xi_diff, xi_new_vec = updater(xi_initial, dt, epsilon)\n",
    "    \n",
    "    for i in range(max_iter):\n",
    "        if amax(xi_diff) < epsilon**2 :\n",
    "            xi_final = xi_new_vec\n",
    "            print(\"Tejas is unlucky\")\n",
    "            break\n",
    "        else :\n",
    "            xi_diff, xi_new_vec = updater(xi_new_vec, dt, epsilon)\n",
    "            print(\"Tejas is a good boy\")\n",
    "            print(i)\n",
    "            print(amax(xi_diff))\n",
    "    \n",
    "    return xi_final\n"
   ]
  },
  {
   "cell_type": "code",
   "execution_count": 57,
   "metadata": {
    "ExecuteTime": {
     "end_time": "2019-05-25T12:08:23.887291Z",
     "start_time": "2019-05-25T12:08:23.877565Z"
    }
   },
   "outputs": [],
   "source": [
    "def terminator(max_iter, time_steps=len(times),\n",
    "              total_time=total_time_evo,\n",
    "              epsilon=2*pi*1):\n",
    "    r\"\"\"Brief description of the function\"\"\"\n",
    "    xi_initial = result.u[-1, 0, :]\n",
    "    # 1000*random_sample((time_steps,))\n",
    "    dt = (2*pi)/500 #total_time/time_steps\n",
    "    xi_diff, xi_new_vec = updater(xi_initial, dt, epsilon)\n",
    "    min_iter = int(max_iter/2)\n",
    "    for i in range(max_iter):\n",
    "        if i == 0:\n",
    "            print(\"Hi\")\n",
    "            \n",
    "        \n",
    "        if i > min_iter :\n",
    "            \n",
    "            if i > min_iter + 1 :\n",
    "                print(\"Surpassed minimum iteration barrier\")\n",
    "            if amax(xi_diff) < epsilon**2 :\n",
    "                xi_final = xi_new_vec\n",
    "                #print(\"Tejas is unlucky\")\n",
    "                print(\"Attempted iterations \", i)\n",
    "                break\n",
    "            else :\n",
    "                xi_diff, xi_new_vec = updater(xi_new_vec, dt, epsilon)\n",
    "                #print(\"Tejas is a good boy\")\n",
    "                print(i)\n",
    "                print(amax(xi_diff))\n",
    "        \n",
    "        else :\n",
    "            #print(\"Normal life\")\n",
    "            xi_diff, xi_new_vec = updater(xi_new_vec, dt, epsilon)\n",
    "            print(i)\n",
    "            print(amax(xi_diff))\n",
    "            \n",
    "    return xi_final"
   ]
  },
  {
   "cell_type": "markdown",
   "metadata": {},
   "source": [
    "## sub topic 3"
   ]
  },
  {
   "cell_type": "code",
   "execution_count": 58,
   "metadata": {
    "ExecuteTime": {
     "end_time": "2019-05-25T12:08:23.932235Z",
     "start_time": "2019-05-25T12:08:23.928696Z"
    }
   },
   "outputs": [],
   "source": [
    "new_label = [r'$g_{with diss}$']"
   ]
  },
  {
   "cell_type": "markdown",
   "metadata": {},
   "source": [
    "### try"
   ]
  },
  {
   "cell_type": "code",
   "execution_count": 59,
   "metadata": {
    "ExecuteTime": {
     "end_time": "2019-05-25T12:55:52.236259Z",
     "start_time": "2019-05-25T12:08:23.977761Z"
    }
   },
   "outputs": [
    {
     "name": "stdout",
     "output_type": "stream",
     "text": [
      "Hi\n",
      "0\n",
      "(-41.299180393545+0j)\n",
      "1\n",
      "(-41.27437113030629+0j)\n",
      "2\n",
      "(-41.27471879626928+0j)\n",
      "3\n",
      "(-41.277732621937766+0j)\n",
      "4\n",
      "(-41.27305051518134+0j)\n",
      "5\n",
      "(-41.2782648350165+0j)\n",
      "Attempted iterations  6\n"
     ]
    }
   ],
   "source": [
    "xi_opt = terminator(10)"
   ]
  },
  {
   "cell_type": "code",
   "execution_count": 60,
   "metadata": {
    "ExecuteTime": {
     "end_time": "2019-05-25T12:55:52.358333Z",
     "start_time": "2019-05-25T12:55:52.353841Z"
    }
   },
   "outputs": [],
   "source": [
    "time_steps=len(times)\n",
    "total_time= total_time_evo\n",
    "epsilon= 2*pi*1"
   ]
  },
  {
   "cell_type": "code",
   "execution_count": 61,
   "metadata": {
    "ExecuteTime": {
     "end_time": "2019-05-25T12:55:53.619200Z",
     "start_time": "2019-05-25T12:55:52.453385Z"
    }
   },
   "outputs": [
    {
     "data": {
      "text/plain": [
       "-4.219046758494439"
      ]
     },
     "execution_count": 61,
     "metadata": {},
     "output_type": "execute_result"
    }
   ],
   "source": [
    "dt = (2*pi)/500\n",
    "F(xi_opt, dt)"
   ]
  },
  {
   "cell_type": "code",
   "execution_count": 62,
   "metadata": {
    "ExecuteTime": {
     "end_time": "2019-05-25T12:55:54.565811Z",
     "start_time": "2019-05-25T12:55:53.682486Z"
    }
   },
   "outputs": [
    {
     "data": {
      "text/latex": [
       "Quantum object: dims = [[2, 2], [2, 2]], shape = (4, 4), type = oper, isherm = False\\begin{equation*}\\left(\\begin{array}{*{11}c}0.467 & (-0.265+3.250\\times10^{-04}j) & (-0.265-3.250\\times10^{-04}j) & 0.533\\\\(0.265-3.259\\times10^{-04}j) & (0.110-9.864\\times10^{-04}j) & (-0.175+1.349\\times10^{-06}j) & (-0.265+3.259\\times10^{-04}j)\\\\(0.265+3.259\\times10^{-04}j) & (-0.175-1.349\\times10^{-06}j) & (0.110+9.864\\times10^{-04}j) & (-0.265-3.259\\times10^{-04}j)\\\\0.533 & (0.265-3.250\\times10^{-04}j) & (0.265+3.250\\times10^{-04}j) & 0.467\\\\\\end{array}\\right)\\end{equation*}"
      ],
      "text/plain": [
       "Quantum object: dims = [[2, 2], [2, 2]], shape = (4, 4), type = oper, isherm = False\n",
       "Qobj data =\n",
       "[[ 0.46740243+0.00000000e+00j -0.26474972+3.25005802e-04j\n",
       "  -0.26474972-3.25005802e-04j  0.53259757+0.00000000e+00j]\n",
       " [ 0.2647497 -3.25878957e-04j  0.1098053 -9.86359540e-04j\n",
       "  -0.17480427+1.34938647e-06j -0.2647497 +3.25878957e-04j]\n",
       " [ 0.2647497 +3.25878957e-04j -0.17480427-1.34938647e-06j\n",
       "   0.1098053 +9.86359540e-04j -0.2647497 -3.25878957e-04j]\n",
       " [ 0.53259757+0.00000000e+00j  0.26474972-3.25005802e-04j\n",
       "   0.26474972+3.25005802e-04j  0.46740243+0.00000000e+00j]]"
      ]
     },
     "execution_count": 62,
     "metadata": {},
     "output_type": "execute_result"
    }
   ],
   "source": [
    "L_full_maker(xi_opt, dt)"
   ]
  },
  {
   "cell_type": "code",
   "execution_count": 63,
   "metadata": {
    "ExecuteTime": {
     "end_time": "2019-05-25T12:55:54.881111Z",
     "start_time": "2019-05-25T12:55:54.646996Z"
    }
   },
   "outputs": [
    {
     "name": "stderr",
     "output_type": "stream",
     "text": [
      "/anaconda3/envs/qutip-env/lib/python3.6/site-packages/numpy/core/numeric.py:538: ComplexWarning: Casting complex values to real discards the imaginary part\n",
      "  return array(a, dtype, copy=False, order=order)\n",
      "/anaconda3/envs/qutip-env/lib/python3.6/site-packages/matplotlib/transforms.py:954: ComplexWarning: Casting complex values to real discards the imaginary part\n",
      "  self._points[:, 1] = interval\n"
     ]
    },
    {
     "data": {
      "image/png": "[encoded data removed]",
      "text/plain": [
       "<Figure size 432x288 with 1 Axes>"
      ]
     },
     "metadata": {
      "needs_background": "light"
     },
     "output_type": "display_data"
    }
   ],
   "source": [
    "ax = axes()\n",
    "ax.plot(times, xi_opt)\n",
    "xi_max = amax(xi_opt) + 0.1\n",
    "xi_min = amin(xi_opt) - 0.1\n",
    "\n",
    "ax.set(xlim=(0, total_time_evo), ylim=(xi_min, xi_max),\n",
    "       xlabel='time', ylabel= r'$g_{with diss}$',\n",
    "       title='Control field in the presence of dissipation');"
   ]
  },
  {
   "cell_type": "code",
   "execution_count": 64,
   "metadata": {
    "ExecuteTime": {
     "end_time": "2019-05-25T12:55:54.951207Z",
     "start_time": "2019-05-25T12:55:54.941667Z"
    },
    "code_folding": []
   },
   "outputs": [],
   "source": [
    "def cF2p(Q_G, tejas_c):\n",
    "    r\"\"\"Takes in the 2 control fields and produces the plot directly.\n",
    "    The plot contains the following lines:\n",
    "    1. Qutip grape without dissipation\n",
    "    2. Qutip grape with dissipation\n",
    "    3. My  control field with dissipation  \n",
    "    Does some stuff.\n",
    "    \n",
    "    Parameters\n",
    "    ----------\n",
    "    Q_G     : numpy array? \n",
    "              control field Qutip grape without dissipation\n",
    "         \n",
    "    tejas_c : numpy array? \n",
    "              My  control field with dissipation for open quantum system\n",
    "    \n",
    "    \n",
    "    Returns\n",
    "    -------\n",
    "    inFidelity vector for \n",
    "    1. Qutip grape without dissipation    : infid_grape_no_diss\n",
    "    2. Qutip grape with dissipation       : infid_grape_diss \n",
    "    3. My  control field with dissipation : infid_grape_diss_optimized\n",
    "    \n",
    "    \n",
    "    \"\"\"\n",
    "    qone = basis(2, 0)\n",
    "    qzero = basis(2, 1)\n",
    "    c_ops_tejas = sqrt(gamma)*Lin\n",
    "    # state list building\n",
    "    H_qutip = [H_0, [H_1, Q_G]] #result.u[-1, 0, :]\n",
    "    print(\"grape_no_diss\")\n",
    "    grape_no_diss = mesolve(H_qutip, qzero, times, c_ops=[], \n",
    "                            e_ops=[], args={}, options=None, \n",
    "                            progress_bar=TextProgressBar() )\n",
    "    print(\"\")\n",
    "    print(\"grape_diss\")\n",
    "    grape_diss = mesolve(H_qutip, qzero, times, c_ops=[c_ops_tejas], \n",
    "                         e_ops=[], args={}, options=None, \n",
    "                         progress_bar=TextProgressBar() )\n",
    "    print(\"\")\n",
    "    print(\"grape_diss_optimized\")\n",
    "    H_diss_optimized = [H_0, [H_1, tejas_c ]]\n",
    "    grape_diss_optimized = mesolve(H_diss_optimized, qzero, times, \n",
    "                                   c_ops=[c_ops_tejas], e_ops=[], \n",
    "                                   args={}, options=None,\n",
    "                                   progress_bar=TextProgressBar() )\n",
    "    # H_diss_optimized should have been written isntead of H_no_diss\n",
    "    print(\"\")\n",
    "    print(\"\")\n",
    "    \n",
    "    # states list to fidelity list\n",
    "    one_dm = ket2dm(qone)\n",
    "    zero_dm = ket2dm(qzero)\n",
    "    def infidelity_tejas(dm, d=2):\n",
    "        r\"\"\"Brief description of the function\"\"\"\n",
    "        infid = 1 - fidelity(one_dm, dm)\n",
    "        return infid\n",
    "    \n",
    "    infid_dm_vec = vectorize(infidelity_tejas)\n",
    "    infid_grape_no_diss = infid_dm_vec(grape_no_diss.states) \n",
    "    infid_grape_diss = infid_dm_vec(grape_diss.states) \n",
    "    infid_grape_diss_optimized = infid_dm_vec(grape_diss_optimized.states) \n",
    "    list_of_infid_vec = [infid_grape_no_diss, infid_grape_diss, \n",
    "                         infid_grape_diss_optimized]\n",
    "    return list_of_infid_vec"
   ]
  },
  {
   "cell_type": "code",
   "execution_count": 65,
   "metadata": {
    "ExecuteTime": {
     "end_time": "2019-05-25T12:56:06.503357Z",
     "start_time": "2019-05-25T12:55:55.023406Z"
    }
   },
   "outputs": [
    {
     "name": "stdout",
     "output_type": "stream",
     "text": [
      "grape_no_diss\n"
     ]
    },
    {
     "name": "stderr",
     "output_type": "stream",
     "text": [
      "/anaconda3/envs/qutip-env/lib/python3.6/site-packages/Cython/Compiler/Main.py:367: FutureWarning: Cython directive 'language_level' not set, using 2 for now (Py2). This will change in a later release! File: /Users/tejasshetty 1/Documents/GitHub/gitt/openq_grape/GRAPE_pristine/rhs15510.pyx\n",
      "  tree = Parsing.p_module(s, pxd, full_module_name)\n"
     ]
    },
    {
     "name": "stdout",
     "output_type": "stream",
     "text": [
      "10.0%. Run time:   0.04s. Est. time left: 00:00:00:00\n",
      "20.0%. Run time:   0.07s. Est. time left: 00:00:00:00\n",
      "30.0%. Run time:   0.11s. Est. time left: 00:00:00:00\n",
      "40.0%. Run time:   0.14s. Est. time left: 00:00:00:00\n",
      "50.0%. Run time:   0.17s. Est. time left: 00:00:00:00\n",
      "60.0%. Run time:   0.20s. Est. time left: 00:00:00:00\n",
      "70.0%. Run time:   0.23s. Est. time left: 00:00:00:00\n",
      "80.0%. Run time:   0.27s. Est. time left: 00:00:00:00\n",
      "90.0%. Run time:   0.30s. Est. time left: 00:00:00:00\n",
      "Total run time:   0.34s\n",
      "\n",
      "grape_diss\n"
     ]
    },
    {
     "name": "stderr",
     "output_type": "stream",
     "text": [
      "/anaconda3/envs/qutip-env/lib/python3.6/site-packages/Cython/Compiler/Main.py:367: FutureWarning: Cython directive 'language_level' not set, using 2 for now (Py2). This will change in a later release! File: /Users/tejasshetty 1/Documents/GitHub/gitt/openq_grape/GRAPE_pristine/rhs15511.pyx\n",
      "  tree = Parsing.p_module(s, pxd, full_module_name)\n"
     ]
    },
    {
     "name": "stdout",
     "output_type": "stream",
     "text": [
      "10.0%. Run time:   0.02s. Est. time left: 00:00:00:00\n",
      "20.0%. Run time:   0.04s. Est. time left: 00:00:00:00\n",
      "30.0%. Run time:   0.05s. Est. time left: 00:00:00:00\n",
      "40.0%. Run time:   0.06s. Est. time left: 00:00:00:00\n",
      "50.0%. Run time:   0.08s. Est. time left: 00:00:00:00\n",
      "60.0%. Run time:   0.09s. Est. time left: 00:00:00:00\n",
      "70.0%. Run time:   0.10s. Est. time left: 00:00:00:00\n",
      "80.0%. Run time:   0.11s. Est. time left: 00:00:00:00\n",
      "90.0%. Run time:   0.13s. Est. time left: 00:00:00:00\n",
      "Total run time:   0.14s\n",
      "\n",
      "grape_diss_optimized\n"
     ]
    },
    {
     "name": "stderr",
     "output_type": "stream",
     "text": [
      "/anaconda3/envs/qutip-env/lib/python3.6/site-packages/Cython/Compiler/Main.py:367: FutureWarning: Cython directive 'language_level' not set, using 2 for now (Py2). This will change in a later release! File: /Users/tejasshetty 1/Documents/GitHub/gitt/openq_grape/GRAPE_pristine/rhs15512.pyx\n",
      "  tree = Parsing.p_module(s, pxd, full_module_name)\n"
     ]
    },
    {
     "name": "stdout",
     "output_type": "stream",
     "text": [
      "10.0%. Run time:   0.04s. Est. time left: 00:00:00:00\n",
      "20.0%. Run time:   0.08s. Est. time left: 00:00:00:00\n",
      "30.0%. Run time:   0.11s. Est. time left: 00:00:00:00\n",
      "40.0%. Run time:   0.15s. Est. time left: 00:00:00:00\n",
      "50.0%. Run time:   0.19s. Est. time left: 00:00:00:00\n",
      "60.0%. Run time:   0.23s. Est. time left: 00:00:00:00\n",
      "70.0%. Run time:   0.26s. Est. time left: 00:00:00:00\n",
      "80.0%. Run time:   0.30s. Est. time left: 00:00:00:00\n",
      "90.0%. Run time:   0.33s. Est. time left: 00:00:00:00\n",
      "Total run time:   0.37s\n",
      "\n",
      "\n"
     ]
    }
   ],
   "source": [
    "list_of_infid_vec = cF2p(result.u[-1, 0, :], xi_opt)                                                    "
   ]
  },
  {
   "cell_type": "code",
   "execution_count": 66,
   "metadata": {
    "ExecuteTime": {
     "end_time": "2019-05-25T12:56:06.798886Z",
     "start_time": "2019-05-25T12:56:06.594389Z"
    },
    "code_folding": []
   },
   "outputs": [
    {
     "data": {
      "image/png": "[encoded data removed]",
      "text/plain": [
       "<Figure size 432x288 with 1 Axes>"
      ]
     },
     "metadata": {
      "needs_background": "light"
     },
     "output_type": "display_data"
    }
   ],
   "source": [
    "ax = axes()\n",
    "ax.plot(times, list_of_infid_vec[0], label='grape_no_diss')\n",
    "ax.plot(times, list_of_infid_vec[1], label='grape_diss')\n",
    "ax.plot(times, list_of_infid_vec[2], label='grape_diss_optimized')\n",
    "#ax.plot(x, cos(x), ':b', label='cos(x)')'-g',\n",
    "#ax.axis('equal')\n",
    "ax.legend()\n",
    "ax.set(xlim=(times[0],times[-1]), ylim=(0, 1.1),\n",
    "       xlabel='time', ylabel='Infidelity',\n",
    "       title='Infidelity as a function of time ');"
   ]
  },
  {
   "cell_type": "code",
   "execution_count": 67,
   "metadata": {
    "ExecuteTime": {
     "end_time": "2019-05-25T12:56:06.880642Z",
     "start_time": "2019-05-25T12:56:06.876847Z"
    }
   },
   "outputs": [
    {
     "data": {
      "text/plain": [
       "array([1.        , 0.76703801, 0.54828004, 0.35444784, 0.19595346,\n",
       "       0.08118348, 0.01615841, 0.00419153, 0.04576365, 0.13852562])"
      ]
     },
     "execution_count": 67,
     "metadata": {},
     "output_type": "execute_result"
    }
   ],
   "source": [
    "list_of_infid_vec[2][0:10]"
   ]
  },
  {
   "cell_type": "code",
   "execution_count": 68,
   "metadata": {
    "ExecuteTime": {
     "end_time": "2019-05-25T12:56:06.956635Z",
     "start_time": "2019-05-25T12:56:06.952325Z"
    }
   },
   "outputs": [
    {
     "data": {
      "text/plain": [
       "500"
      ]
     },
     "execution_count": 68,
     "metadata": {},
     "output_type": "execute_result"
    }
   ],
   "source": [
    "len(list_of_infid_vec[2])"
   ]
  },
  {
   "cell_type": "code",
   "execution_count": 69,
   "metadata": {
    "ExecuteTime": {
     "end_time": "2019-05-25T12:56:07.171346Z",
     "start_time": "2019-05-25T12:56:07.029912Z"
    },
    "code_folding": []
   },
   "outputs": [
    {
     "data": {
      "image/png": "[encoded data removed]",
      "text/plain": [
       "<Figure size 432x288 with 1 Axes>"
      ]
     },
     "metadata": {
      "needs_background": "light"
     },
     "output_type": "display_data"
    }
   ],
   "source": [
    "ax = axes()\n",
    "#ax.plot(times, list_of_infid_vec[0], label='grape_no_diss')\n",
    "#ax.plot(times, list_of_infid_vec[1], label='grape_diss')\n",
    "ax.plot(times, list_of_infid_vec[2], label='grape_diss_optimized')\n",
    "#ax.plot(x, cos(x), ':b', label='cos(x)')'-g',\n",
    "#ax.axis('equal')\n",
    "ax.legend()\n",
    "ax.set(xlim=(times[0], 1), ylim=(0, 1.1),\n",
    "       xlabel='time', ylabel='Infidelity',\n",
    "       title='Infidelity as a function of time ');"
   ]
  },
  {
   "cell_type": "code",
   "execution_count": 70,
   "metadata": {
    "ExecuteTime": {
     "end_time": "2019-05-25T12:56:07.394713Z",
     "start_time": "2019-05-25T12:56:07.250045Z"
    },
    "code_folding": []
   },
   "outputs": [
    {
     "data": {
      "image/png": "[encoded data removed]",
      "text/plain": [
       "<Figure size 432x288 with 1 Axes>"
      ]
     },
     "metadata": {
      "needs_background": "light"
     },
     "output_type": "display_data"
    }
   ],
   "source": [
    "ax = axes()\n",
    "#ax.plot(times, list_of_infid_vec[0], label='grape_no_diss')\n",
    "#ax.plot(times, list_of_infid_vec[1], label='grape_diss')\n",
    "ax.plot(times, list_of_infid_vec[2], label='grape_diss_optimized')\n",
    "#ax.plot(x, cos(x), ':b', label='cos(x)')'-g',\n",
    "#ax.axis('equal')\n",
    "ax.legend()\n",
    "ax.set(xlim=(times[0], 0.1), ylim=(0, 1.1),\n",
    "       xlabel='time', ylabel='Infidelity',\n",
    "       title='Infidelity as a function of time ');"
   ]
  },
  {
   "cell_type": "code",
   "execution_count": 71,
   "metadata": {
    "ExecuteTime": {
     "end_time": "2019-05-25T12:56:07.623353Z",
     "start_time": "2019-05-25T12:56:07.619651Z"
    }
   },
   "outputs": [
    {
     "data": {
      "text/plain": [
       "array([1.        , 0.76703801, 0.54828004, 0.35444784, 0.19595346,\n",
       "       0.08118348, 0.01615841, 0.00419153, 0.04576365, 0.13852562])"
      ]
     },
     "execution_count": 71,
     "metadata": {},
     "output_type": "execute_result"
    }
   ],
   "source": [
    "list_of_infid_vec[2][0:10]"
   ]
  },
  {
   "cell_type": "code",
   "execution_count": 72,
   "metadata": {
    "ExecuteTime": {
     "end_time": "2019-05-25T12:56:07.746269Z",
     "start_time": "2019-05-25T12:56:07.695707Z"
    }
   },
   "outputs": [
    {
     "name": "stdout",
     "output_type": "stream",
     "text": [
      "\n",
      "\n",
      "\n",
      "\n",
      "\n",
      "\n",
      "\n",
      "\n",
      "\n",
      "\n",
      "\n",
      "\n",
      "\n",
      "\n",
      "\n",
      "\n",
      "\n",
      "\n",
      "\n",
      "\n",
      "\n",
      "\n",
      "\n",
      "\n",
      "\n",
      "\n",
      "\n",
      "\n",
      "\n",
      "\n",
      "\n",
      "\n",
      "\n",
      "\n",
      "\n",
      "\n",
      "\n",
      "\n",
      "\n",
      "\n",
      "\n",
      "\n",
      "\n",
      "\n",
      "\n",
      "\n",
      "\n",
      "\n",
      "\n",
      "\n",
      "\n",
      "\n",
      "\n",
      "\n",
      "\n",
      "\n",
      "\n",
      "\n",
      "\n",
      "\n",
      "\n",
      "\n",
      "\n",
      "\n",
      "\n",
      "\n",
      "\n",
      "\n",
      "\n",
      "\n",
      "\n",
      "\n",
      "\n",
      "\n",
      "\n",
      "\n",
      "\n",
      "\n",
      "\n",
      "\n",
      "\n",
      "\n",
      "\n",
      "\n",
      "\n",
      "\n",
      "\n",
      "\n",
      "\n",
      "\n",
      "\n",
      "\n",
      "\n",
      "\n",
      "\n",
      "\n",
      "\n",
      "\n",
      "\n",
      "\n",
      "\n",
      "\n",
      "\n",
      "\n",
      "\n",
      "\n",
      "\n",
      "\n",
      "\n",
      "\n",
      "\n",
      "\n",
      "\n",
      "\n",
      "\n",
      "\n",
      "\n",
      "\n",
      "\n",
      "\n",
      "\n",
      "\n",
      "\n",
      "\n",
      "\n",
      "\n",
      "\n",
      "\n",
      "\n",
      "\n",
      "\n",
      "\n",
      "\n",
      "\n",
      "\n",
      "\n",
      "\n",
      "\n",
      "\n",
      "\n",
      "\n",
      "\n",
      "\n",
      "\n",
      "\n",
      "\n",
      "\n",
      "\n",
      "\n",
      "\n",
      "\n",
      "\n",
      "\n",
      "\n",
      "\n",
      "\n",
      "\n",
      "\n",
      "\n",
      "\n",
      "\n",
      "\n",
      "\n",
      "\n",
      "\n",
      "\n",
      "\n",
      "\n",
      "\n",
      "\n",
      "\n",
      "\n",
      "\n",
      "\n",
      "\n",
      "\n",
      "\n",
      "\n",
      "\n",
      "\n",
      "\n",
      "\n",
      "\n",
      "\n",
      "\n",
      "\n",
      "\n",
      "\n",
      "\n",
      "\n",
      "\n",
      "\n",
      "\n",
      "\n",
      "\n",
      "\n",
      "\n",
      "\n",
      "\n",
      "\n",
      "\n",
      "\n",
      "\n",
      "\n",
      "\n",
      "\n",
      "\n",
      "\n",
      "\n",
      "\n",
      "\n",
      "\n",
      "\n",
      "\n",
      "\n",
      "\n",
      "\n",
      "\n",
      "\n",
      "\n",
      "\n",
      "\n",
      "\n",
      "\n",
      "\n",
      "\n",
      "\n",
      "\n",
      "\n",
      "\n",
      "\n",
      "\n",
      "\n",
      "\n",
      "\n",
      "\n",
      "\n",
      "\n",
      "\n",
      "\n",
      "\n",
      "\n",
      "\n",
      "\n",
      "\n",
      "\n",
      "\n",
      "\n",
      "\n",
      "\n",
      "\n",
      "\n",
      "\n",
      "\n",
      "\n",
      "\n",
      "\n",
      "\n",
      "\n",
      "\n",
      "\n",
      "\n",
      "\n",
      "\n",
      "\n",
      "\n",
      "\n",
      "\n",
      "\n",
      "\n",
      "\n",
      "\n",
      "\n",
      "\n",
      "\n",
      "\n",
      "\n",
      "\n",
      "\n",
      "\n",
      "\n",
      "\n",
      "\n",
      "\n",
      "\n",
      "\n",
      "\n",
      "\n",
      "\n",
      "\n",
      "\n",
      "\n",
      "\n",
      "\n",
      "\n",
      "\n",
      "\n",
      "\n",
      "\n",
      "\n",
      "\n",
      "\n",
      "\n",
      "\n",
      "\n",
      "\n",
      "\n",
      "\n",
      "\n",
      "\n",
      "\n",
      "\n",
      "\n",
      "\n",
      "\n",
      "\n",
      "\n",
      "\n",
      "\n",
      "\n",
      "\n",
      "\n",
      "\n",
      "\n",
      "\n",
      "\n",
      "\n",
      "\n",
      "\n",
      "\n",
      "\n",
      "\n",
      "\n",
      "\n",
      "\n",
      "\n",
      "\n",
      "\n",
      "\n",
      "\n",
      "\n",
      "\n",
      "\n",
      "\n",
      "\n",
      "\n",
      "\n",
      "\n",
      "\n",
      "\n",
      "\n",
      "\n",
      "\n",
      "\n",
      "\n",
      "\n",
      "\n",
      "\n",
      "\n",
      "\n",
      "\n",
      "\n",
      "\n",
      "\n",
      "\n",
      "\n",
      "\n",
      "\n",
      "\n",
      "\n",
      "\n",
      "\n",
      "\n",
      "\n",
      "\n",
      "\n",
      "\n",
      "\n",
      "\n",
      "\n",
      "\n",
      "\n",
      "\n",
      "\n",
      "\n",
      "\n",
      "\n",
      "\n",
      "\n",
      "\n",
      "\n",
      "\n",
      "\n",
      "\n",
      "\n",
      "\n",
      "\n",
      "\n",
      "\n",
      "\n",
      "\n",
      "\n",
      "\n",
      "\n",
      "\n",
      "\n",
      "\n",
      "\n",
      "\n",
      "\n",
      "\n",
      "\n",
      "\n",
      "\n",
      "\n",
      "\n",
      "\n",
      "\n",
      "\n",
      "\n",
      "\n",
      "\n",
      "\n",
      "\n",
      "\n",
      "\n",
      "\n",
      "\n",
      "\n",
      "\n",
      "\n",
      "\n",
      "\n",
      "\n",
      "\n",
      "\n",
      "\n",
      "\n",
      "\n",
      "\n",
      "\n",
      "\n",
      "\n",
      "\n",
      "\n",
      "\n",
      "\n",
      "\n",
      "\n",
      "\n",
      "\n",
      "\n",
      "\n",
      "\n",
      "\n",
      "\n",
      "\n",
      "\n",
      "\n",
      "\n",
      "\n",
      "\n",
      "\n",
      "\n",
      "\n",
      "\n",
      "\n",
      "\n",
      "\n",
      "\n",
      "\n",
      "\n",
      "\n",
      "\n",
      "\n",
      "\n",
      "\n",
      "\n",
      "\n",
      "\n",
      "\n",
      "\n",
      "\n",
      "\n",
      "\n",
      "\n",
      "\n",
      "\n",
      "\n",
      "\n",
      "\n",
      "\n",
      "\n",
      "\n",
      "\n",
      "\n",
      "\n",
      "\n",
      "\n",
      "\n"
     ]
    }
   ],
   "source": [
    "for n in range(len(times)) : \n",
    "    print(\"\")\n"
   ]
  },
  {
   "cell_type": "markdown",
   "metadata": {
    "ExecuteTime": {
     "end_time": "2019-02-17T04:58:16.041446Z",
     "start_time": "2019-02-17T04:58:16.032346Z"
    }
   },
   "source": [
    "the_ones = [n for n in range(times[-1]) ] \n",
    "---------------------------------------------------------------------------\n",
    "TypeError                                 Traceback (most recent call last)\n",
    "<ipython-input-295-a3044dec3033> in <module>()\n",
    "----> 1 the_ones = [n for n in range(times[-1]) ]\n",
    "\n",
    "TypeError: 'numpy.float64' object cannot be interpreted as an integer"
   ]
  },
  {
   "cell_type": "markdown",
   "metadata": {
    "ExecuteTime": {
     "end_time": "2019-02-17T05:00:48.211909Z",
     "start_time": "2019-02-17T05:00:48.202355Z"
    }
   },
   "source": [
    "the_chosen_ones = [n for n in range(times[-1]) \n",
    "                  if abs(list_of_infid_vec[2][n] < 0.001)] \n",
    "---------------------------------------------------------------------------\n",
    "TypeError                                 Traceback (most recent call last)\n",
    "<ipython-input-299-0e1b2f1921ae> in <module>()\n",
    "----> 1 the_chosen_ones = [n for n in range(times[-1]) \n",
    "      2                   if abs(list_of_infid_vec[2][n] < 0.001)] \n",
    "\n",
    "TypeError: 'numpy.float64' object cannot be interpreted as an integer"
   ]
  },
  {
   "cell_type": "code",
   "execution_count": 407,
   "metadata": {
    "ExecuteTime": {
     "end_time": "2019-02-21T10:59:41.602795Z",
     "start_time": "2019-02-21T10:59:41.487435Z"
    }
   },
   "outputs": [
    {
     "data": {
      "text/plain": [
       "False"
      ]
     },
     "execution_count": 407,
     "metadata": {},
     "output_type": "execute_result"
    }
   ],
   "source": [
    "abs(list_of_infid_vec[2][3] < 0.001)"
   ]
  },
  {
   "cell_type": "code",
   "execution_count": 408,
   "metadata": {
    "ExecuteTime": {
     "end_time": "2019-02-21T10:59:41.702745Z",
     "start_time": "2019-02-21T10:59:41.604561Z"
    }
   },
   "outputs": [],
   "source": [
    "the_chosen_ones = [n for n in range(len(times)) \n",
    "                  if abs(list_of_infid_vec[2][n] < 0.001)] \n"
   ]
  },
  {
   "cell_type": "code",
   "execution_count": 409,
   "metadata": {
    "ExecuteTime": {
     "end_time": "2019-02-21T10:59:41.829720Z",
     "start_time": "2019-02-21T10:59:41.704434Z"
    }
   },
   "outputs": [
    {
     "data": {
      "text/plain": [
       "[]"
      ]
     },
     "execution_count": 409,
     "metadata": {},
     "output_type": "execute_result"
    }
   ],
   "source": [
    "the_chosen_ones"
   ]
  },
  {
   "cell_type": "code",
   "execution_count": 410,
   "metadata": {
    "ExecuteTime": {
     "end_time": "2019-02-21T10:59:41.927309Z",
     "start_time": "2019-02-21T10:59:41.831479Z"
    }
   },
   "outputs": [],
   "source": [
    "the_chosen_ones = [n for n in range(len(times)) \n",
    "                  if abs(list_of_infid_vec[2][n]) < 0.001 ] \n"
   ]
  },
  {
   "cell_type": "code",
   "execution_count": 411,
   "metadata": {
    "ExecuteTime": {
     "end_time": "2019-02-21T10:59:42.027863Z",
     "start_time": "2019-02-21T10:59:41.928876Z"
    }
   },
   "outputs": [
    {
     "data": {
      "text/plain": [
       "[]"
      ]
     },
     "execution_count": 411,
     "metadata": {},
     "output_type": "execute_result"
    }
   ],
   "source": [
    "the_chosen_ones"
   ]
  },
  {
   "cell_type": "code",
   "execution_count": 412,
   "metadata": {
    "ExecuteTime": {
     "end_time": "2019-02-21T10:59:42.127914Z",
     "start_time": "2019-02-21T10:59:42.029685Z"
    }
   },
   "outputs": [],
   "source": [
    "the_chosen_ones = [n for n in range(len(times)) \n",
    "                  if abs(list_of_infid_vec[2][n]) > 0.001 ] \n"
   ]
  },
  {
   "cell_type": "code",
   "execution_count": 413,
   "metadata": {
    "ExecuteTime": {
     "end_time": "2019-02-21T10:59:42.228194Z",
     "start_time": "2019-02-21T10:59:42.129438Z"
    }
   },
   "outputs": [
    {
     "data": {
      "text/plain": [
       "500"
      ]
     },
     "execution_count": 413,
     "metadata": {},
     "output_type": "execute_result"
    }
   ],
   "source": [
    "len(the_chosen_ones)"
   ]
  },
  {
   "cell_type": "code",
   "execution_count": 414,
   "metadata": {
    "ExecuteTime": {
     "end_time": "2019-02-21T10:59:42.328623Z",
     "start_time": "2019-02-21T10:59:42.229848Z"
    }
   },
   "outputs": [
    {
     "data": {
      "text/plain": [
       "0.004205267397021539"
      ]
     },
     "execution_count": 414,
     "metadata": {},
     "output_type": "execute_result"
    }
   ],
   "source": [
    "amin(list_of_infid_vec[2])"
   ]
  },
  {
   "cell_type": "code",
   "execution_count": 415,
   "metadata": {
    "ExecuteTime": {
     "end_time": "2019-02-21T10:59:42.440698Z",
     "start_time": "2019-02-21T10:59:42.330300Z"
    }
   },
   "outputs": [],
   "source": [
    "the_chosen_ones = [n for n in range(len(times)) \n",
    "                  if abs(list_of_infid_vec[2][n])\n",
    "                   < (10**(-4) + amin(list_of_infid_vec[2]))  ] \n"
   ]
  },
  {
   "cell_type": "code",
   "execution_count": 416,
   "metadata": {
    "ExecuteTime": {
     "end_time": "2019-02-21T10:59:42.544756Z",
     "start_time": "2019-02-21T10:59:42.442384Z"
    }
   },
   "outputs": [
    {
     "data": {
      "text/plain": [
       "[7]"
      ]
     },
     "execution_count": 416,
     "metadata": {},
     "output_type": "execute_result"
    }
   ],
   "source": [
    "the_chosen_ones"
   ]
  },
  {
   "cell_type": "code",
   "execution_count": 417,
   "metadata": {
    "ExecuteTime": {
     "end_time": "2019-02-21T10:59:42.661794Z",
     "start_time": "2019-02-21T10:59:42.546443Z"
    }
   },
   "outputs": [
    {
     "data": {
      "text/plain": [
       "0.004205267397021539"
      ]
     },
     "execution_count": 417,
     "metadata": {},
     "output_type": "execute_result"
    }
   ],
   "source": [
    "list_of_infid_vec[2][7]"
   ]
  },
  {
   "cell_type": "code",
   "execution_count": 418,
   "metadata": {
    "ExecuteTime": {
     "end_time": "2019-02-21T10:59:42.769516Z",
     "start_time": "2019-02-21T10:59:42.663746Z"
    }
   },
   "outputs": [
    {
     "data": {
      "text/plain": [
       "0.08814087605261944"
      ]
     },
     "execution_count": 418,
     "metadata": {},
     "output_type": "execute_result"
    }
   ],
   "source": [
    "times[7]"
   ]
  },
  {
   "cell_type": "code",
   "execution_count": 419,
   "metadata": {
    "ExecuteTime": {
     "end_time": "2019-02-21T10:59:42.844483Z",
     "start_time": "2019-02-21T10:59:42.770858Z"
    }
   },
   "outputs": [
    {
     "data": {
      "text/plain": [
       "(-267.74011738337043+0j)"
      ]
     },
     "execution_count": 419,
     "metadata": {},
     "output_type": "execute_result"
    }
   ],
   "source": [
    "amax(xi_opt)"
   ]
  },
  {
   "cell_type": "markdown",
   "metadata": {},
   "source": [
    "### try"
   ]
  },
  {
   "cell_type": "code",
   "execution_count": 420,
   "metadata": {
    "ExecuteTime": {
     "end_time": "2019-02-23T06:32:10.480714Z",
     "start_time": "2019-02-21T10:59:42.845667Z"
    }
   },
   "outputs": [
    {
     "name": "stdout",
     "output_type": "stream",
     "text": [
      "Hi\n",
      "0\n",
      "(-41.299246932687744+0j)\n",
      "1\n",
      "(-41.27439287485222+0j)\n",
      "2\n",
      "(-41.27472211928908+0j)\n",
      "3\n",
      "(-41.277736955695346+0j)\n",
      "4\n",
      "(-41.27304627869958+0j)\n",
      "5\n",
      "(-41.27826710622938+0j)\n",
      "6\n",
      "(-41.27315541515397+0j)\n",
      "7\n",
      "(-41.277766775419195+0j)\n",
      "8\n",
      "(-41.273969621223856+0j)\n",
      "9\n",
      "(-41.276796613693406+0j)\n",
      "10\n",
      "(-41.275000947298835+0j)\n",
      "11\n",
      "(-41.27577015040115+0j)\n",
      "12\n",
      "(-41.27591030326318+0j)\n",
      "13\n",
      "(-41.27499894575271+0j)\n",
      "14\n",
      "(-41.27647306469129+0j)\n",
      "15\n",
      "(-41.274650021575596+0j)\n",
      "16\n",
      "(-41.2766055261332+0j)\n",
      "17\n",
      "(-41.27472753900597+0j)\n",
      "18\n",
      "(-41.27635859426097+0j)\n",
      "19\n",
      "(-41.2751097299182+0j)\n",
      "20\n",
      "(-41.275892471296395+0j)\n",
      "21\n",
      "(-41.27560538414529+0j)\n",
      "22\n",
      "(-41.275409299298865+0j)\n",
      "23\n",
      "(-41.27602284065188+0j)\n",
      "24\n",
      "(-41.275084464135084+0j)\n",
      "25\n",
      "(-41.27622844178112+0j)\n",
      "26\n",
      "(-41.27500905843122+0j)\n",
      "27\n",
      "(-41.276179728410675+0j)\n",
      "28\n",
      "(-41.27517239536638+0j)\n",
      "29\n",
      "(-41.27592874423086+0j)\n",
      "30\n",
      "(-41.27548149644302+0j)\n",
      "31\n",
      "(-41.27559364214684+0j)\n",
      "32\n",
      "(-41.27580477849266+0j)\n",
      "33\n",
      "(-41.27530918227452+0j)\n",
      "34\n",
      "(-41.276022028243474+0j)\n",
      "35\n",
      "(-41.27517543292903+0j)\n",
      "36\n",
      "(-41.27606459823536+0j)\n",
      "37\n",
      "(-41.275225447075115+0j)\n",
      "38\n",
      "(-41.275934277727096+0j)\n",
      "39\n",
      "(-41.27542049099464+0j)\n",
      "40\n",
      "(-41.27569724964979+0j)\n",
      "41\n",
      "(-41.275672839304036+0j)\n",
      "42\n",
      "(-41.27545333701491+0j)\n",
      "43\n",
      "(-41.27588238433302+0j)\n",
      "44\n",
      "(-41.27529591325874+0j)\n",
      "45\n",
      "(-41.275973945418265+0j)\n",
      "46\n",
      "(-41.275277113059765+0j)\n",
      "47\n",
      "(-41.27592266711172+0j)\n",
      "48\n",
      "(-41.27539187191115+0j)\n",
      "49\n",
      "(-41.275759378722356+0j)\n",
      "50\n",
      "(-41.27558538444292+0j)\n",
      "51\n",
      "(-41.27555533255549+0j)\n",
      "52\n",
      "(-41.275777845178354+0j)\n",
      "53\n",
      "(-41.27539192248112+0j)\n",
      "54\n",
      "(-41.275895965411806+0j)\n",
      "55\n",
      "(-41.27532916997921+0j)\n",
      "56\n",
      "(-41.275899767197565+0j)\n",
      "57\n",
      "(-41.27538364187057+0j)\n",
      "58\n",
      "(-41.27579542681941+0j)\n",
      "59\n",
      "(-41.27552615078123+0j)\n",
      "60\n",
      "(-41.27563023044314+0j)\n",
      "61\n",
      "(-41.27569597767209+0j)\n",
      "62\n",
      "(-41.27547200064277+0j)\n",
      "63\n",
      "(-41.2758261664145+0j)\n",
      "64\n",
      "(-41.275381620331+0j)\n",
      "65\n",
      "(-41.275868960798554+0j)\n",
      "66\n",
      "(-41.27538980294402+0j)\n",
      "67\n",
      "(-41.27581289277708+0j)\n",
      "68\n",
      "(-41.275487339110335+0j)\n",
      "69\n",
      "(-41.27568523532649+0j)\n",
      "70\n",
      "(-41.275631161887986+0j)\n",
      "71\n",
      "(-41.275539619805976+0j)\n",
      "72\n",
      "(-41.27576310190688+0j)\n",
      "73\n",
      "(-41.27543373882821+0j)\n",
      "74\n",
      "(-41.27583271421034+0j)\n",
      "75\n",
      "(-41.275406601370975+0j)\n",
      "76\n",
      "(-41.275816211144765+0j)\n",
      "77\n",
      "(-41.275464515235896+0j)\n",
      "78\n",
      "(-41.275724251258374+0j)\n",
      "79\n",
      "(-41.275580460991364+0j)\n",
      "80\n",
      "(-41.27559639443979+0j)\n",
      "81\n",
      "(-41.27570648555174+0j)\n",
      "82\n",
      "(-41.27548438598661+0j)\n",
      "83\n",
      "(-41.275793123151246+0j)\n",
      "84\n",
      "(-41.27543117649978+0j)\n",
      "85\n",
      "(-41.27580848165532+0j)\n",
      "86\n",
      "(-41.27545473842026+0j)\n",
      "87\n",
      "(-41.27574972407095+0j)\n",
      "88\n",
      "(-41.27554221461538+0j)\n",
      "89\n",
      "(-41.27564305897061+0j)\n",
      "90\n",
      "(-41.27565657436922+0j)\n",
      "91\n",
      "(-41.275532367718284+0j)\n",
      "92\n",
      "(-41.27575203867639+0j)\n",
      "93\n",
      "(-41.27546120147842+0j)\n",
      "94\n",
      "(-41.275792184211994+0j)\n",
      "95\n",
      "(-41.27545572187066+0j)\n",
      "96\n",
      "(-41.27576351080131+0j)\n",
      "97\n",
      "(-41.27551525107059+0j)\n",
      "98\n",
      "(-41.2756799929309+0j)\n",
      "99\n",
      "(-41.275613763062694+0j)\n",
      "100\n",
      "(-41.27557654550294+0j)\n",
      "101\n",
      "(-41.275711191684806+0j)\n",
      "102\n",
      "(-41.27549458652306+0j)\n",
      "103\n",
      "(-41.275769473440405+0j)\n",
      "104\n",
      "(-41.27546548110653+0j)\n",
      "105\n",
      "(-41.27576723485629+0j)\n",
      "106\n",
      "(-41.275498561065696+0j)\n",
      "107\n",
      "(-41.27570752795565+0j)\n",
      "108\n",
      "(-41.27557844528759+0j)\n",
      "109\n",
      "(-41.27561588083636+0j)\n",
      "110\n",
      "(-41.275672097650514+0j)\n",
      "111\n",
      "(-41.27552949128086+0j)\n",
      "112\n",
      "(-41.275742320016576+0j)\n",
      "113\n",
      "(-41.275482182354374+0j)\n",
      "114\n",
      "(-41.27576237722797+0j)\n",
      "115\n",
      "(-41.27549114974385+0j)\n",
      "116\n",
      "(-41.27572605600797+0j)\n",
      "117\n",
      "(-41.27555085231301+0j)\n",
      "118\n",
      "(-41.275649502707275+0j)\n",
      "119\n",
      "(-41.275636093838024+0j)\n",
      "120\n",
      "(-41.27556418908064+0j)\n",
      "121\n",
      "(-41.27571253286147+0j)\n",
      "122\n",
      "(-41.275504047065276+0j)\n",
      "123\n",
      "(-41.275750469083725+0j)\n",
      "124\n",
      "(-41.275491930982724+0j)\n",
      "125\n",
      "(-41.27573614226311+0j)\n",
      "126\n",
      "(-41.27553102655893+0j)\n",
      "127\n",
      "(-41.27567679844888+0j)\n",
      "128\n",
      "(-41.275604278747544+0j)\n",
      "129\n",
      "(-41.275597192197935+0j)\n",
      "130\n",
      "(-41.27568182309637+0j)\n",
      "131\n",
      "(-41.275529376415726+0j)\n",
      "132\n",
      "(-41.27573302662364+0j)\n",
      "133\n",
      "(-41.275499733604846+0j)\n",
      "134\n",
      "(-41.27573850767638+0j)\n",
      "135\n",
      "(-41.275518792159154+0j)\n",
      "136\n",
      "(-41.27569739229345+0j)\n",
      "137\n",
      "(-41.275577555898316+0j)\n",
      "138\n",
      "(-41.275627225987456+0j)\n",
      "139\n",
      "(-41.27565169669093+0j)\n",
      "140\n",
      "(-41.2755565361911+0j)\n",
      "141\n",
      "(-41.275711598928+0j)\n",
      "142\n",
      "(-41.27551328216038+0j)\n",
      "143\n",
      "(-41.27573404510508+0j)\n",
      "144\n",
      "(-41.27551375454977+0j)\n",
      "145\n",
      "(-41.275711188379766+0j)\n",
      "146\n",
      "(-41.27555651381072+0j)\n",
      "147\n",
      "(-41.27565322987593+0j)\n",
      "148\n",
      "(-41.27562351358963+0j)\n",
      "149\n",
      "(-41.275584016724+0j)\n",
      "150\n",
      "(-41.275687690666835+0j)\n",
      "151\n",
      "(-41.27553122014973+0j)\n",
      "152\n",
      "(-41.27572381216786+0j)\n",
      "153\n",
      "(-41.275515277724196+0j)\n",
      "154\n",
      "(-41.2757183298776+0j)\n",
      "155\n",
      "(-41.275541490694756+0j)\n",
      "156\n",
      "(-41.27567443420164+0j)\n",
      "157\n",
      "(-41.27559840200494+0j)\n",
      "158\n",
      "(-41.275610439479216+0j)\n",
      "159\n",
      "(-41.27566274745646+0j)\n",
      "160\n",
      "(-41.275552166286815+0j)\n",
      "161\n",
      "(-41.27570896723428+0j)\n",
      "162\n",
      "(-41.27552253981817+0j)\n",
      "163\n",
      "(-41.27571923103962+0j)\n",
      "164\n",
      "(-41.27553255644763+0j)\n",
      "165\n",
      "(-41.27569033008704+0j)\n",
      "166\n",
      "(-41.27557725628456+0j)\n",
      "167\n",
      "(-41.27563459953643+0j)\n",
      "168\n",
      "(-41.27563812653189+0j)\n",
      "169\n",
      "(-41.275574740665625+0j)\n",
      "170\n",
      "(-41.27569075061387+0j)\n",
      "171\n",
      "(-41.27553456063352+0j)\n",
      "172\n",
      "(-41.27571451987682+0j)\n",
      "173\n",
      "(-41.27552950298466+0j)\n",
      "174\n",
      "(-41.2757006756326+0j)\n",
      "175\n",
      "(-41.27556072829768+0j)\n",
      "176\n",
      "(-41.27565552535024+0j)\n",
      "177\n",
      "(-41.27561503562648+0j)\n",
      "178\n",
      "(-41.2755976359075+0j)\n",
      "179\n",
      "(-41.27567043895233+0j)\n",
      "180\n",
      "(-41.27555024637408+0j)\n",
      "181\n",
      "(-41.275705006634034+0j)\n",
      "182\n",
      "(-41.27553189644097+0j)\n",
      "183\n",
      "(-41.27570551434565+0j)\n",
      "184\n",
      "(-41.2755491918983+0j)\n",
      "185\n",
      "(-41.275672463004796+0j)\n",
      "186\n",
      "(-41.275594496711925+0j)\n",
      "187\n",
      "(-41.275619648501376+0j)\n",
      "188\n",
      "(-41.275649271164696+0j)\n",
      "189\n",
      "(-41.27556842753961+0j)\n",
      "190\n",
      "(-41.27569165201341+0j)\n",
      "191\n",
      "(-41.27553908360458+0j)\n",
      "192\n",
      "(-41.27570511997339+0j)\n",
      "193\n",
      "(-41.27554277684599+0j)\n",
      "194\n",
      "(-41.27568491481111+0j)\n",
      "195\n",
      "(-41.27557733577761+0j)\n",
      "196\n",
      "(-41.27563970742448+0j)\n",
      "197\n",
      "(-41.27562843086652+0j)\n",
      "198\n",
      "(-41.275587929776755+0j)\n",
      "199\n",
      "(-41.27567550187023+0j)\n",
      "200\n",
      "(-41.275550257732526+0j)\n",
      "201\n",
      "(-41.275699996990404+0j)\n",
      "202\n",
      "(-41.27554134645617+0j)\n",
      "203\n",
      "(-41.275692637674865+0j)\n",
      "204\n",
      "(-41.27556414529605+0j)\n",
      "205\n",
      "(-41.27565694226253+0j)\n",
      "206\n",
      "(-41.27560897718408+0j)\n",
      "207\n",
      "(-41.27560760727167+0j)\n",
      "208\n",
      "(-41.27565765364188+0j)\n",
      "209\n",
      "(-41.27556447635104+0j)\n",
      "210\n",
      "(-41.275690826401146+0j)\n",
      "211\n",
      "(-41.275544551943206+0j)\n",
      "212\n",
      "(-41.27569563350076+0j)\n",
      "213\n",
      "(-41.27555528120744+0j)\n",
      "214\n",
      "(-41.27567068023574+0j)\n",
      "215\n",
      "(-41.275591819201686+0j)\n",
      "216\n",
      "(-41.275626400140155+0j)\n",
      "217\n",
      "(-41.2756391957402+0j)\n",
      "218\n",
      "(-41.27558072824959+0j)\n",
      "219\n",
      "(-41.27567843978125+0j)\n",
      "220\n",
      "(-41.275551826730684+0j)\n",
      "221\n",
      "(-41.275694139284234+0j)\n",
      "222\n",
      "(-41.27555085924715+0j)\n",
      "223\n",
      "(-41.275680477164244+0j)\n",
      "224\n",
      "(-41.27557768943425+0j)\n",
      "225\n",
      "(-41.27564337591005+0j)\n",
      "226\n",
      "(-41.27562116413878+0j)\n",
      "227\n",
      "(-41.275597976872014+0j)\n",
      "228\n",
      "(-41.27566375393181+0j)\n",
      "229\n",
      "(-41.275562463780666+0j)\n",
      "230\n",
      "(-41.27568859400219+0j)\n",
      "231\n",
      "(-41.27555076444742+0j)\n",
      "232\n",
      "(-41.27568611891638+0j)\n",
      "233\n",
      "(-41.275567099982496+0j)\n",
      "234\n",
      "(-41.275657765305326+0j)\n",
      "235\n",
      "(-41.27560449139137+0j)\n",
      "236\n",
      "(-41.27561522003617+0j)\n",
      "237\n",
      "(-41.27564774461728+0j)\n",
      "238\n",
      "(-41.27557562773369+0j)\n",
      "239\n",
      "(-41.27567960551164+0j)\n",
      "240\n",
      "(-41.27555467257094+0j)\n",
      "241\n",
      "(-41.27568762131774+0j)\n",
      "242\n",
      "(-41.27556036163864+0j)\n",
      "243\n",
      "(-41.27566898375291+0j)\n",
      "244\n",
      "(-41.27558997899594+0j)\n",
      "245\n",
      "(-41.2756315192123+0j)\n",
      "246\n",
      "(-41.27563136811476+0j)\n",
      "247\n",
      "(-41.275590417770196+0j)\n",
      "248\n",
      "(-41.27566791872282+0j)\n",
      "249\n",
      "(-41.27556207927442+0j)\n",
      "250\n",
      "(-41.27568520251558+0j)\n",
      "251\n",
      "(-41.275557557550435+0j)\n",
      "252\n",
      "(-41.27567665246582+0j)\n",
      "253\n",
      "(-41.275578256131375+0j)\n",
      "254\n",
      "(-41.27564605357575+0j)\n",
      "255\n",
      "(-41.27561554566133+0j)\n",
      "256\n",
      "(-41.27560590991648+0j)\n",
      "257\n",
      "(-41.27565436190931+0j)\n",
      "258\n",
      "(-41.275572331587156+0j)\n",
      "259\n",
      "(-41.27567927622649+0j)\n",
      "260\n",
      "(-41.27555856663675+0j)\n",
      "261\n",
      "(-41.27568059831461+0j)\n",
      "262\n",
      "(-41.275569773064404+0j)\n",
      "263\n",
      "(-41.275658153274705+0j)\n",
      "264\n",
      "(-41.275601102406874+0j)\n",
      "265\n",
      "(-41.27562120788265+0j)\n",
      "266\n",
      "(-41.275639805676256+0j)\n",
      "267\n",
      "(-41.27558467275713+0j)\n",
      "268\n",
      "(-41.27567040439582+0j)\n",
      "269\n",
      "(-41.27556307444419+0j)\n",
      "270\n",
      "(-41.27568086541194+0j)\n",
      "271\n",
      "(-41.275564775298+0j)\n",
      "272\n",
      "(-41.27566731586958+0j)\n",
      "273\n",
      "(-41.275588739173884+0j)\n",
      "274\n",
      "(-41.27563548042508+0j)\n",
      "275\n",
      "(-41.275625114465555+0j)\n",
      "276\n",
      "(-41.27559828464545+0j)\n",
      "277\n",
      "(-41.27565927239711+0j)\n",
      "278\n",
      "(-41.275570603782626+0j)\n",
      "279\n",
      "(-41.27567767561327+0j)\n",
      "280\n",
      "(-41.275563309907206+0j)\n",
      "281\n",
      "(-41.275673228641345+0j)\n",
      "282\n",
      "(-41.27557900350847+0j)\n",
      "283\n",
      "(-41.2756480091687+0j)\n",
      "284\n",
      "(-41.275611109142915+0j)\n",
      "285\n",
      "(-41.275612333838005+0j)\n",
      "286\n",
      "(-41.27564663722499+0j)\n",
      "287\n",
      "(-41.27558054543732+0j)\n",
      "288\n",
      "(-41.275671425419844+0j)\n",
      "289\n",
      "(-41.27556523960673+0j)\n",
      "290\n",
      "(-41.27567576756884+0j)\n",
      "291\n",
      "(-41.275572269063716+0j)\n",
      "292\n",
      "(-41.27565820586423+0j)\n",
      "293\n",
      "(-41.27559852050608+0j)\n"
     ]
    },
    {
     "name": "stdout",
     "output_type": "stream",
     "text": [
      "294\n",
      "(-41.27562601324415+0j)\n",
      "295\n",
      "(-41.27563329193355+0j)\n",
      "296\n",
      "(-41.275592199957664+0j)\n",
      "297\n",
      "(-41.275662653203796+0j)\n",
      "298\n",
      "(-41.275570247444065+0j)\n",
      "299\n",
      "(-41.27567500062424+0j)\n",
      "300\n",
      "(-41.275568728050104+0j)\n",
      "301\n",
      "(-41.27566564643282+0j)\n",
      "302\n",
      "(-41.275587962472244+0j)\n",
      "303\n",
      "(-41.27563858434905+0j)\n",
      "304\n",
      "(-41.275620023425134+0j)\n",
      "305\n",
      "(-41.275604816478186+0j)\n",
      "306\n",
      "(-41.27565199286994+0j)\n",
      "307\n",
      "(-41.275577871487634+0j)\n",
      "308\n",
      "(-41.27567116582455+0j)\n",
      "309\n",
      "(-41.27556838842048+0j)\n",
      "310\n",
      "(-41.27567007881935+0j)\n",
      "311\n",
      "(-41.27557990450594+0j)\n",
      "312\n",
      "(-41.27564941067893+0j)\n",
      "313\n",
      "(-41.275607561238076+0j)\n",
      "314\n",
      "(-41.27561763270823+0j)\n",
      "315\n",
      "(-41.27564015148078+0j)\n",
      "316\n",
      "(-41.275587537856914+0j)\n",
      "317\n",
      "(-41.27566465677094+0j)\n",
      "318\n",
      "(-41.27557108881888+0j)\n",
      "319\n",
      "(-41.27567142773135+0j)\n",
      "320\n",
      "(-41.275574656347764+0j)\n",
      "321\n",
      "(-41.27565798519149+0j)\n",
      "322\n",
      "(-41.275596560233744+0j)\n",
      "323\n",
      "(-41.27562992149948+0j)\n",
      "324\n",
      "(-41.275627856739646+0j)\n",
      "325\n",
      "(-41.275598588356765+0j)\n",
      "326\n",
      "(-41.27565598280835+0j)\n",
      "327\n",
      "(-41.275576505510685+0j)\n",
      "328\n",
      "(-41.27566979067839+0j)\n",
      "329\n",
      "(-41.27557235231771+0j)\n",
      "330\n",
      "(-41.27566395283859+0j)\n",
      "331\n",
      "(-41.27558755416058+0j)\n",
      "332\n",
      "(-41.27564102144666+0j)\n",
      "333\n",
      "(-41.27561582134614+0j)\n",
      "334\n",
      "(-41.275610328215166+0j)\n",
      "335\n",
      "(-41.275645751787245+0j)\n",
      "336\n",
      "(-41.27558419167881+0j)\n",
      "337\n",
      "(-41.275665420880436+0j)\n",
      "338\n",
      "(-41.27557296748155+0j)\n",
      "339\n",
      "(-41.2756671187014+0j)\n",
      "340\n",
      "(-41.275580942849594+0j)\n",
      "341\n",
      "(-41.275650372786195+0j)\n",
      "342\n",
      "(-41.27560470870867+0j)\n",
      "343\n",
      "(-41.275622059249486+0j)\n",
      "344\n",
      "(-41.2756346206087+0j)\n",
      "345\n",
      "(-41.27559359218397+0j)\n",
      "346\n",
      "(-41.27565870884012+0j)\n",
      "347\n",
      "(-41.27557631295055+0j)\n",
      "348\n",
      "(-41.27566745199072+0j)\n",
      "349\n",
      "(-41.2755769729217+0j)\n",
      "350\n",
      "(-41.2756575388721+0j)\n",
      "351\n",
      "(-41.275595095144055+0j)\n",
      "352\n",
      "(-41.27563312189877+0j)\n",
      "353\n",
      "(-41.27562326316506+0j)\n",
      "354\n",
      "(-41.27560408871107+0j)\n",
      "355\n",
      "(-41.275650152746316+0j)\n",
      "356\n",
      "(-41.27558206214208+0j)\n",
      "357\n",
      "(-41.27566507810351+0j)\n",
      "358\n",
      "(-41.27557573564163+0j)\n",
      "359\n",
      "(-41.27566222749764+0j)\n",
      "360\n",
      "(-41.27558744818148+0j)\n",
      "361\n",
      "(-41.275642923826474+0j)\n",
      "362\n",
      "(-41.27561232892951+0j)\n",
      "363\n",
      "(-41.27561503525877+0j)\n",
      "364\n",
      "(-41.27564032785109+0j)\n",
      "365\n",
      "(-41.27558976879367+0j)\n",
      "366\n",
      "(-41.27566026793822+0j)\n",
      "367\n",
      "(-41.27557716470477+0j)\n",
      "368\n",
      "(-41.275664295798876+0j)\n",
      "369\n",
      "(-41.2755821015024+0j)\n",
      "370\n",
      "(-41.2756509738089+0j)\n",
      "371\n",
      "(-41.275602415606116+0j)\n",
      "372\n",
      "(-41.275625788697766+0j)\n",
      "373\n",
      "(-41.275629852804755+0j)\n",
      "374\n",
      "(-41.27559890182908+0j)\n",
      "375\n",
      "(-41.275653411838746+0j)\n",
      "376\n",
      "(-41.27558105151435+0j)\n",
      "377\n",
      "(-41.2756637547793+0j)\n",
      "378\n",
      "(-41.27557924875205+0j)\n",
      "379\n",
      "(-41.27565689904512+0j)\n",
      "380\n",
      "(-41.2755940373495+0j)\n",
      "381\n",
      "(-41.27563574797465+0j)\n",
      "382\n",
      "(-41.275619348370306+0j)\n",
      "383\n",
      "(-41.27560887786037+0j)\n",
      "384\n",
      "(-41.27564499282287+0j)\n",
      "385\n",
      "(-41.27558705887249+0j)\n",
      "386\n",
      "(-41.275660757969014+0j)\n",
      "387\n",
      "(-41.27557893493807+0j)\n",
      "388\n",
      "(-41.275660463803355+0j)\n",
      "389\n",
      "(-41.27558759633731+0j)\n",
      "390\n",
      "(-41.275644386257966+0j)\n",
      "391\n",
      "(-41.27560941437051+0j)\n",
      "392\n",
      "(-41.27561908816556+0j)\n",
      "393\n",
      "(-41.27563556447158+0j)\n",
      "394\n",
      "(-41.27559474835339+0j)\n",
      "395\n",
      "(-41.27565558878985+0j)\n",
      "396\n",
      "(-41.27558106123747+0j)\n",
      "397\n",
      "(-41.27566157507096+0j)\n",
      "398\n",
      "(-41.27558336971182+0j)\n",
      "399\n",
      "(-41.27565127120917+0j)\n",
      "400\n",
      "(-41.27560058848694+0j)\n",
      "401\n",
      "(-41.27562894264638+0j)\n",
      "402\n",
      "(-41.27562570502659+0j)\n",
      "403\n",
      "(-41.27560360749055+0j)\n",
      "404\n",
      "(-41.27564863910536+0j)\n",
      "405\n",
      "(-41.27558539708691+0j)\n",
      "406\n",
      "(-41.2756602777411+0j)\n",
      "407\n",
      "(-41.27558149982661+0j)\n",
      "408\n",
      "(-41.27565609124648+0j)\n",
      "409\n",
      "(-41.27559332263168+0j)\n",
      "410\n",
      "(-41.27563789553004+0j)\n",
      "411\n",
      "(-41.27561599644328+0j)\n",
      "412\n",
      "(-41.275613078824634+0j)\n",
      "413\n",
      "(-41.27564038273547+0j)\n",
      "414\n",
      "(-41.275591599448624+0j)\n",
      "415\n",
      "(-41.275656753849816+0j)\n",
      "416\n",
      "(-41.275581990301916+0j)\n",
      "417\n",
      "(-41.27565866048518+0j)\n",
      "418\n",
      "(-41.275587963320774+0j)\n",
      "419\n",
      "(-41.27564547630306+0j)\n",
      "420\n",
      "(-41.27560698396308+0j)\n",
      "421\n",
      "(-41.275622595887334+0j)\n",
      "422\n",
      "(-41.27563134764499+0j)\n",
      "423\n",
      "(-41.27559923410418+0j)\n",
      "424\n",
      "(-41.27565129897788+0j)\n",
      "425\n",
      "(-41.27558471264597+0j)\n",
      "426\n",
      "(-41.275658929749376+0j)\n",
      "427\n",
      "(-41.27558473514722+0j)\n",
      "428\n",
      "(-41.27565131011062+0j)\n",
      "429\n",
      "(-41.275599152855236+0j)\n",
      "430\n",
      "(-41.27563161333872+0j)\n",
      "431\n",
      "(-41.275622080866256+0j)\n",
      "432\n",
      "(-41.275607805328725+0j)\n",
      "433\n",
      "(-41.275644305865555+0j)\n",
      "434\n",
      "(-41.275589418538644+0j)\n",
      "435\n",
      "(-41.275656979915716+0j)\n",
      "436\n",
      "(-41.27558373513798+0j)\n",
      "437\n",
      "(-41.275655136649206+0j)\n",
      "438\n",
      "(-41.27559290015897+0j)\n",
      "439\n",
      "(-41.27563963728138+0j)\n",
      "440\n",
      "(-41.275613120333595+0j)\n",
      "441\n",
      "(-41.27561678376733+0j)\n",
      "442\n",
      "(-41.275636236988575+0j)\n",
      "443\n",
      "(-41.27559575754635+0j)\n",
      "444\n",
      "(-41.27565301318177+0j)\n",
      "445\n",
      "(-41.27558492853325+0j)\n",
      "446\n",
      "(-41.27565681875533+0j)\n",
      "447\n",
      "(-41.27558852009085+0j)\n",
      "448\n",
      "(-41.27564624809853+0j)\n",
      "449\n",
      "(-41.275604967077115+0j)\n",
      "450\n",
      "(-41.27562563900843+0j)\n",
      "451\n",
      "(-41.27562759733545+0j)\n",
      "452\n",
      "(-41.27560330140232+0j)\n",
      "453\n",
      "(-41.275647338121836+0j)\n",
      "454\n",
      "(-41.275588160000225+0j)\n",
      "455\n",
      "(-41.27565634690891+0j)\n",
      "456\n",
      "(-41.2755861897056+0j)\n",
      "457\n",
      "(-41.275651123517+0j)\n",
      "458\n",
      "(-41.27559805549307+0j)\n",
      "459\n",
      "(-41.275633869807486+0j)\n",
      "460\n",
      "(-41.27561890316604+0j)\n",
      "461\n",
      "(-41.275611570050074+0j)\n",
      "462\n",
      "(-41.275640346200746+0j)\n",
      "463\n",
      "(-41.275593164310045+0j)\n",
      "464\n",
      "(-41.27565383221642+0j)\n",
      "465\n",
      "(-41.27558596107035+0j)\n",
      "466\n",
      "(-41.275654052239894+0j)\n",
      "467\n",
      "(-41.27559273294967+0j)\n",
      "468\n",
      "(-41.275641027103454+0j)\n",
      "469\n",
      "(-41.27561065620041+0j)\n",
      "470\n",
      "(-41.27562006128145+0j)\n",
      "471\n",
      "(-41.27563248933377+0j)\n",
      "472\n",
      "(-41.2755995869518+0j)\n",
      "473\n",
      "(-41.275649497855795+0j)\n",
      "474\n",
      "(-41.27558776823094+0j)\n",
      "475\n",
      "(-41.275654941046824+0j)\n",
      "476\n",
      "(-41.27558924436744+0j)\n",
      "477\n",
      "(-41.27564674157097+0j)\n",
      "478\n",
      "(-41.27560331051426+0j)\n",
      "479\n",
      "(-41.275628280259184+0j)\n",
      "480\n",
      "(-41.27562425061217+0j)\n",
      "481\n",
      "(-41.2756070057373+0j)\n",
      "482\n",
      "(-41.27564366065166+0j)\n",
      "483\n",
      "(-41.275591430937695+0j)\n",
      "484\n",
      "(-41.27565381550385+0j)\n",
      "485\n",
      "(-41.27558772118339+0j)\n",
      "486\n",
      "(-41.27565073944064+0j)\n",
      "487\n",
      "(-41.2755972547808+0j)\n",
      "488\n",
      "(-41.27563576331467+0j)\n",
      "489\n",
      "(-41.2756161173216+0j)\n",
      "490\n",
      "(-41.27561495684625+0j)\n",
      "491\n",
      "(-41.27563671209145+0j)\n",
      "492\n",
      "(-41.27559667028677+0j)\n",
      "493\n",
      "(-41.275650815103035+0j)\n",
      "494\n",
      "(-41.27558817944865+0j)\n",
      "495\n",
      "(-41.27565285342688+0j)\n",
      "496\n",
      "(-41.27559278929635+0j)\n",
      "497\n",
      "(-41.275642108095+0j)\n",
      "498\n",
      "(-41.275608552274896+0j)\n",
      "499\n",
      "(-41.27562296466469+0j)\n",
      "500\n",
      "(-41.27562909127848+0j)\n",
      "Attempted iterations  501\n"
     ]
    }
   ],
   "source": [
    "xi_opt = terminator(1000)"
   ]
  },
  {
   "cell_type": "code",
   "execution_count": 421,
   "metadata": {
    "ExecuteTime": {
     "end_time": "2019-02-23T06:32:10.484167Z",
     "start_time": "2019-02-23T06:32:10.482224Z"
    }
   },
   "outputs": [],
   "source": [
    "time_steps=len(times)\n",
    "total_time= total_time_evo\n",
    "epsilon= 2*pi*1"
   ]
  },
  {
   "cell_type": "code",
   "execution_count": 422,
   "metadata": {
    "ExecuteTime": {
     "end_time": "2019-02-23T06:32:11.280658Z",
     "start_time": "2019-02-23T06:32:10.485323Z"
    }
   },
   "outputs": [
    {
     "data": {
      "text/plain": [
       "-4.219437945539331"
      ]
     },
     "execution_count": 422,
     "metadata": {},
     "output_type": "execute_result"
    }
   ],
   "source": [
    "dt = (2*pi)/500\n",
    "F(xi_opt, dt)"
   ]
  },
  {
   "cell_type": "code",
   "execution_count": 423,
   "metadata": {
    "ExecuteTime": {
     "end_time": "2019-02-23T06:32:11.939438Z",
     "start_time": "2019-02-23T06:32:11.282378Z"
    }
   },
   "outputs": [
    {
     "data": {
      "text/latex": [
       "Quantum object: dims = [[2, 2], [2, 2]], shape = (4, 4), type = oper, isherm = False\\begin{equation*}\\left(\\begin{array}{*{11}c}0.277 & (-0.146+8.831\\times10^{-06}j) & (-0.146-8.831\\times10^{-06}j) & 0.723\\\\(0.146-8.831\\times10^{-06}j) & (-0.081-7.050\\times10^{-06}j) & (-0.366+9.024\\times10^{-11}j) & (-0.146+8.831\\times10^{-06}j)\\\\(0.146+8.831\\times10^{-06}j) & (-0.366-9.024\\times10^{-11}j) & (-0.081+7.050\\times10^{-06}j) & (-0.146-8.831\\times10^{-06}j)\\\\0.723 & (0.146-8.831\\times10^{-06}j) & (0.146+8.831\\times10^{-06}j) & 0.277\\\\\\end{array}\\right)\\end{equation*}"
      ],
      "text/plain": [
       "Quantum object: dims = [[2, 2], [2, 2]], shape = (4, 4), type = oper, isherm = False\n",
       "Qobj data =\n",
       "[[ 0.27671832+0.00000000e+00j -0.14593778+8.83069368e-06j\n",
       "  -0.14593778-8.83069368e-06j  0.72328168+0.00000000e+00j]\n",
       " [ 0.14593778-8.83063972e-06j -0.0809762 -7.05029512e-06j\n",
       "  -0.36558575+9.02398212e-11j -0.14593778+8.83063972e-06j]\n",
       " [ 0.14593778+8.83063972e-06j -0.36558575-9.02398240e-11j\n",
       "  -0.0809762 +7.05029512e-06j -0.14593778-8.83063972e-06j]\n",
       " [ 0.72328168+0.00000000e+00j  0.14593778-8.83069368e-06j\n",
       "   0.14593778+8.83069368e-06j  0.27671832+0.00000000e+00j]]"
      ]
     },
     "execution_count": 423,
     "metadata": {},
     "output_type": "execute_result"
    }
   ],
   "source": [
    "L_full_maker(xi_opt, dt)"
   ]
  },
  {
   "cell_type": "code",
   "execution_count": 424,
   "metadata": {
    "ExecuteTime": {
     "end_time": "2019-02-23T06:32:12.062607Z",
     "start_time": "2019-02-23T06:32:11.940626Z"
    }
   },
   "outputs": [
    {
     "name": "stderr",
     "output_type": "stream",
     "text": [
      "/home/tejas/anaconda3/envs/qutip-env/lib/python3.6/site-packages/numpy/core/numeric.py:501: ComplexWarning: Casting complex values to real discards the imaginary part\n",
      "  return array(a, dtype, copy=False, order=order)\n",
      "/home/tejas/anaconda3/envs/qutip-env/lib/python3.6/site-packages/matplotlib/transforms.py:968: ComplexWarning: Casting complex values to real discards the imaginary part\n",
      "  self._points[:, 1] = interval\n"
     ]
    },
    {
     "data": {
      "image/png": "[encoded data removed]",
      "text/plain": [
       "<Figure size 432x288 with 1 Axes>"
      ]
     },
     "metadata": {},
     "output_type": "display_data"
    }
   ],
   "source": [
    "ax = axes()\n",
    "ax.plot(times, xi_opt)\n",
    "xi_max = amax(xi_opt) + 0.1\n",
    "xi_min = amin(xi_opt) - 0.1\n",
    "\n",
    "ax.set(xlim=(0, total_time_evo), ylim=(xi_min, xi_max),\n",
    "       xlabel='time', ylabel= r'$g_{with diss}$',\n",
    "       title='Control field in the presence of dissipation');"
   ]
  },
  {
   "cell_type": "code",
   "execution_count": 425,
   "metadata": {
    "ExecuteTime": {
     "end_time": "2019-02-23T06:32:20.898480Z",
     "start_time": "2019-02-23T06:32:12.064434Z"
    }
   },
   "outputs": [
    {
     "name": "stdout",
     "output_type": "stream",
     "text": [
      "grape_no_diss\n",
      "10.0%. Run time:   0.03s. Est. time left: 00:00:00:00\n",
      "20.0%. Run time:   0.05s. Est. time left: 00:00:00:00\n",
      "30.0%. Run time:   0.08s. Est. time left: 00:00:00:00\n",
      "40.0%. Run time:   0.10s. Est. time left: 00:00:00:00\n",
      "50.0%. Run time:   0.13s. Est. time left: 00:00:00:00\n",
      "60.0%. Run time:   0.15s. Est. time left: 00:00:00:00\n",
      "70.0%. Run time:   0.17s. Est. time left: 00:00:00:00\n",
      "80.0%. Run time:   0.20s. Est. time left: 00:00:00:00\n",
      "90.0%. Run time:   0.22s. Est. time left: 00:00:00:00\n",
      "Total run time:   0.25s\n",
      "\n",
      "grape_diss\n",
      "10.0%. Run time:   0.02s. Est. time left: 00:00:00:00\n",
      "20.0%. Run time:   0.04s. Est. time left: 00:00:00:00\n",
      "30.0%. Run time:   0.05s. Est. time left: 00:00:00:00\n",
      "40.0%. Run time:   0.06s. Est. time left: 00:00:00:00\n",
      "50.0%. Run time:   0.07s. Est. time left: 00:00:00:00\n",
      "60.0%. Run time:   0.08s. Est. time left: 00:00:00:00\n",
      "70.0%. Run time:   0.09s. Est. time left: 00:00:00:00\n",
      "80.0%. Run time:   0.10s. Est. time left: 00:00:00:00\n",
      "90.0%. Run time:   0.11s. Est. time left: 00:00:00:00\n",
      "Total run time:   0.12s\n",
      "\n",
      "grape_diss_optimized\n"
     ]
    },
    {
     "name": "stderr",
     "output_type": "stream",
     "text": [
      "/home/tejas/anaconda3/envs/qutip-env/lib/python3.6/site-packages/scipy/integrate/_ode.py:1009: UserWarning: zvode: Excess work done on this call. (Perhaps wrong MF.)\n",
      "  self.messages.get(istate, unexpected_istate_msg)))\n"
     ]
    },
    {
     "ename": "Exception",
     "evalue": "ODE integration error: Try to increase the allowed number of substeps by increasing the nsteps parameter in the Options class.",
     "output_type": "error",
     "traceback": [
      "\u001b[0;31m---------------------------------------------------------------------------\u001b[0m",
      "\u001b[0;31mException\u001b[0m                                 Traceback (most recent call last)",
      "\u001b[0;32m<ipython-input-425-348f8135093b>\u001b[0m in \u001b[0;36m<module>\u001b[0;34m()\u001b[0m\n\u001b[0;32m----> 1\u001b[0;31m \u001b[0mlist_of_infid_vec\u001b[0m \u001b[0;34m=\u001b[0m \u001b[0mcF2p\u001b[0m\u001b[0;34m(\u001b[0m\u001b[0mresult\u001b[0m\u001b[0;34m.\u001b[0m\u001b[0mu\u001b[0m\u001b[0;34m[\u001b[0m\u001b[0;34m-\u001b[0m\u001b[0;36m1\u001b[0m\u001b[0;34m,\u001b[0m \u001b[0;36m0\u001b[0m\u001b[0;34m,\u001b[0m \u001b[0;34m:\u001b[0m\u001b[0;34m]\u001b[0m\u001b[0;34m,\u001b[0m \u001b[0mxi_opt\u001b[0m\u001b[0;34m)\u001b[0m\u001b[0;34m\u001b[0m\u001b[0;34m\u001b[0m\u001b[0m\n\u001b[0m",
      "\u001b[0;32m<ipython-input-398-1ed178d66b7f>\u001b[0m in \u001b[0;36mcF2p\u001b[0;34m(Q_G, tejas_c)\u001b[0m\n\u001b[1;32m     45\u001b[0m                                    \u001b[0mc_ops\u001b[0m\u001b[0;34m=\u001b[0m\u001b[0;34m[\u001b[0m\u001b[0mc_ops_tejas\u001b[0m\u001b[0;34m]\u001b[0m\u001b[0;34m,\u001b[0m \u001b[0me_ops\u001b[0m\u001b[0;34m=\u001b[0m\u001b[0;34m[\u001b[0m\u001b[0;34m]\u001b[0m\u001b[0;34m,\u001b[0m\u001b[0;34m\u001b[0m\u001b[0;34m\u001b[0m\u001b[0m\n\u001b[1;32m     46\u001b[0m                                    \u001b[0margs\u001b[0m\u001b[0;34m=\u001b[0m\u001b[0;34m{\u001b[0m\u001b[0;34m}\u001b[0m\u001b[0;34m,\u001b[0m \u001b[0moptions\u001b[0m\u001b[0;34m=\u001b[0m\u001b[0;32mNone\u001b[0m\u001b[0;34m,\u001b[0m\u001b[0;34m\u001b[0m\u001b[0;34m\u001b[0m\u001b[0m\n\u001b[0;32m---> 47\u001b[0;31m                                    progress_bar=TextProgressBar() )\n\u001b[0m\u001b[1;32m     48\u001b[0m     \u001b[0;31m# H_diss_optimized should have been written isntead of H_no_diss\u001b[0m\u001b[0;34m\u001b[0m\u001b[0;34m\u001b[0m\u001b[0;34m\u001b[0m\u001b[0m\n\u001b[1;32m     49\u001b[0m     \u001b[0mprint\u001b[0m\u001b[0;34m(\u001b[0m\u001b[0;34m\"\"\u001b[0m\u001b[0;34m)\u001b[0m\u001b[0;34m\u001b[0m\u001b[0;34m\u001b[0m\u001b[0m\n",
      "\u001b[0;32m~/anaconda3/envs/qutip-env/lib/python3.6/site-packages/qutip/mesolve.py\u001b[0m in \u001b[0;36mmesolve\u001b[0;34m(H, rho0, tlist, c_ops, e_ops, args, options, progress_bar, _safe_mode)\u001b[0m\n\u001b[1;32m    319\u001b[0m                 res = _mesolve_list_str_td(H, rho0, tlist, c_ops,\n\u001b[1;32m    320\u001b[0m                                            \u001b[0me_ops\u001b[0m\u001b[0;34m,\u001b[0m \u001b[0margs\u001b[0m\u001b[0;34m,\u001b[0m \u001b[0moptions\u001b[0m\u001b[0;34m,\u001b[0m\u001b[0;34m\u001b[0m\u001b[0;34m\u001b[0m\u001b[0m\n\u001b[0;32m--> 321\u001b[0;31m                                            progress_bar)\n\u001b[0m\u001b[1;32m    322\u001b[0m \u001b[0;34m\u001b[0m\u001b[0m\n\u001b[1;32m    323\u001b[0m         \u001b[0;32melse\u001b[0m\u001b[0;34m:\u001b[0m\u001b[0;34m\u001b[0m\u001b[0;34m\u001b[0m\u001b[0m\n",
      "\u001b[0;32m~/anaconda3/envs/qutip-env/lib/python3.6/site-packages/qutip/mesolve.py\u001b[0m in \u001b[0;36m_mesolve_list_str_td\u001b[0;34m(H_list, rho0, tlist, c_list, e_ops, args, opt, progress_bar)\u001b[0m\n\u001b[1;32m    759\u001b[0m     \u001b[0;31m# call generic ODE code\u001b[0m\u001b[0;34m\u001b[0m\u001b[0;34m\u001b[0m\u001b[0;34m\u001b[0m\u001b[0m\n\u001b[1;32m    760\u001b[0m     \u001b[0;31m#\u001b[0m\u001b[0;34m\u001b[0m\u001b[0;34m\u001b[0m\u001b[0;34m\u001b[0m\u001b[0m\n\u001b[0;32m--> 761\u001b[0;31m     \u001b[0;32mreturn\u001b[0m \u001b[0m_generic_ode_solve\u001b[0m\u001b[0;34m(\u001b[0m\u001b[0mr\u001b[0m\u001b[0;34m,\u001b[0m \u001b[0mrho0\u001b[0m\u001b[0;34m,\u001b[0m \u001b[0mtlist\u001b[0m\u001b[0;34m,\u001b[0m \u001b[0me_ops\u001b[0m\u001b[0;34m,\u001b[0m \u001b[0mopt\u001b[0m\u001b[0;34m,\u001b[0m \u001b[0mprogress_bar\u001b[0m\u001b[0;34m)\u001b[0m\u001b[0;34m\u001b[0m\u001b[0;34m\u001b[0m\u001b[0m\n\u001b[0m\u001b[1;32m    762\u001b[0m \u001b[0;34m\u001b[0m\u001b[0m\n\u001b[1;32m    763\u001b[0m \u001b[0;32mdef\u001b[0m \u001b[0m_td_ode_rhs_super\u001b[0m\u001b[0;34m(\u001b[0m\u001b[0mt\u001b[0m\u001b[0;34m,\u001b[0m \u001b[0my\u001b[0m\u001b[0;34m,\u001b[0m \u001b[0marglist\u001b[0m\u001b[0;34m)\u001b[0m\u001b[0;34m:\u001b[0m\u001b[0;34m\u001b[0m\u001b[0;34m\u001b[0m\u001b[0m\n",
      "\u001b[0;32m~/anaconda3/envs/qutip-env/lib/python3.6/site-packages/qutip/mesolve.py\u001b[0m in \u001b[0;36m_generic_ode_solve\u001b[0;34m(r, rho0, tlist, e_ops, opt, progress_bar)\u001b[0m\n\u001b[1;32m   1041\u001b[0m \u001b[0;34m\u001b[0m\u001b[0m\n\u001b[1;32m   1042\u001b[0m         \u001b[0;32mif\u001b[0m \u001b[0;32mnot\u001b[0m \u001b[0mr\u001b[0m\u001b[0;34m.\u001b[0m\u001b[0msuccessful\u001b[0m\u001b[0;34m(\u001b[0m\u001b[0;34m)\u001b[0m\u001b[0;34m:\u001b[0m\u001b[0;34m\u001b[0m\u001b[0;34m\u001b[0m\u001b[0m\n\u001b[0;32m-> 1043\u001b[0;31m             raise Exception(\"ODE integration error: Try to increase \"\n\u001b[0m\u001b[1;32m   1044\u001b[0m                             \u001b[0;34m\"the allowed number of substeps by increasing \"\u001b[0m\u001b[0;34m\u001b[0m\u001b[0;34m\u001b[0m\u001b[0m\n\u001b[1;32m   1045\u001b[0m                             \"the nsteps parameter in the Options class.\")\n",
      "\u001b[0;31mException\u001b[0m: ODE integration error: Try to increase the allowed number of substeps by increasing the nsteps parameter in the Options class."
     ]
    }
   ],
   "source": [
    "list_of_infid_vec = cF2p(result.u[-1, 0, :], xi_opt)                                                    "
   ]
  },
  {
   "cell_type": "code",
   "execution_count": null,
   "metadata": {
    "ExecuteTime": {
     "end_time": "2019-02-23T06:32:20.899519Z",
     "start_time": "2019-02-21T10:13:24.470Z"
    },
    "code_folding": []
   },
   "outputs": [],
   "source": [
    "ax = axes()\n",
    "ax.plot(times, list_of_infid_vec[0], label='grape_no_diss')\n",
    "ax.plot(times, list_of_infid_vec[1], label='grape_diss')\n",
    "ax.plot(times, list_of_infid_vec[2], label='grape_diss_optimized')\n",
    "#ax.plot(x, cos(x), ':b', label='cos(x)')'-g',\n",
    "#ax.axis('equal')\n",
    "ax.legend()\n",
    "ax.set(xlim=(times[0],times[-1]), ylim=(0, 1.1),\n",
    "       xlabel='time', ylabel='Infidelity',\n",
    "       title='Infidelity as a function of time ');"
   ]
  },
  {
   "cell_type": "markdown",
   "metadata": {},
   "source": [
    "### try"
   ]
  },
  {
   "cell_type": "code",
   "execution_count": null,
   "metadata": {
    "ExecuteTime": {
     "end_time": "2019-02-23T06:32:20.900590Z",
     "start_time": "2019-02-21T10:13:24.761Z"
    }
   },
   "outputs": [],
   "source": [
    "xi_opt = terminator(1000,time_steps=len(times), total_time= total_time_evo,\n",
    "               epsilon= ((0.1*2*pi)/(times[-1])))"
   ]
  },
  {
   "cell_type": "code",
   "execution_count": null,
   "metadata": {
    "ExecuteTime": {
     "end_time": "2019-02-23T06:32:20.901553Z",
     "start_time": "2019-02-21T10:13:24.765Z"
    }
   },
   "outputs": [],
   "source": [
    "time_steps=len(times)\n",
    "total_time= total_time_evo\n",
    "epsilon = ((0.1*2*pi)/(times[-1]))"
   ]
  },
  {
   "cell_type": "code",
   "execution_count": null,
   "metadata": {
    "ExecuteTime": {
     "end_time": "2019-02-23T06:32:20.902511Z",
     "start_time": "2019-02-21T10:13:24.770Z"
    }
   },
   "outputs": [],
   "source": [
    "dt = (2*pi)/500\n",
    "F(xi_opt, dt)"
   ]
  },
  {
   "cell_type": "code",
   "execution_count": null,
   "metadata": {
    "ExecuteTime": {
     "end_time": "2019-02-23T06:32:20.903175Z",
     "start_time": "2019-02-21T10:13:24.773Z"
    }
   },
   "outputs": [],
   "source": [
    "L_full_maker(xi_opt, dt)"
   ]
  },
  {
   "cell_type": "code",
   "execution_count": null,
   "metadata": {
    "ExecuteTime": {
     "end_time": "2019-02-23T06:32:20.903835Z",
     "start_time": "2019-02-21T10:13:24.778Z"
    }
   },
   "outputs": [],
   "source": [
    "ax = axes()\n",
    "ax.plot(times, xi_opt)\n",
    "xi_max = amax(xi_opt) + 0.1\n",
    "xi_min = amin(xi_opt) - 0.1\n",
    "\n",
    "ax.set(xlim=(0, total_time_evo), ylim=(xi_min, xi_max),\n",
    "       xlabel='time', ylabel= r'$g_{with diss}$',\n",
    "       title='Control field in the presence of dissipation');"
   ]
  },
  {
   "cell_type": "code",
   "execution_count": null,
   "metadata": {
    "ExecuteTime": {
     "end_time": "2019-02-23T06:32:20.904414Z",
     "start_time": "2019-02-21T10:13:24.782Z"
    }
   },
   "outputs": [],
   "source": [
    "list_of_infid_vec = cF2p(result.u[-1, 0, :], xi_opt)                                                    "
   ]
  },
  {
   "cell_type": "code",
   "execution_count": null,
   "metadata": {
    "ExecuteTime": {
     "end_time": "2019-02-23T06:32:20.905132Z",
     "start_time": "2019-02-21T10:13:24.786Z"
    },
    "code_folding": []
   },
   "outputs": [],
   "source": [
    "ax = axes()\n",
    "ax.plot(times, list_of_infid_vec[0], label='grape_no_diss')\n",
    "ax.plot(times, list_of_infid_vec[1], label='grape_diss')\n",
    "ax.plot(times, list_of_infid_vec[2], label='grape_diss_optimized')\n",
    "#ax.plot(x, cos(x), ':b', label='cos(x)')'-g',\n",
    "#ax.axis('equal')\n",
    "ax.legend()\n",
    "ax.set(xlim=(times[0],times[-1]), ylim=(0, 1.1),\n",
    "       xlabel='time', ylabel='Infidelity',\n",
    "       title='Infidelity as a function of time ');"
   ]
  },
  {
   "cell_type": "markdown",
   "metadata": {},
   "source": [
    "### try"
   ]
  },
  {
   "cell_type": "code",
   "execution_count": null,
   "metadata": {
    "ExecuteTime": {
     "end_time": "2019-02-23T06:32:20.905789Z",
     "start_time": "2019-02-21T10:13:25.156Z"
    }
   },
   "outputs": [],
   "source": [
    "xi_opt = terminator(10,time_steps=len(times), total_time= total_time_evo,\n",
    "               epsilon= ((0.1*2*pi)/(times[-1])))"
   ]
  },
  {
   "cell_type": "code",
   "execution_count": null,
   "metadata": {
    "ExecuteTime": {
     "end_time": "2019-02-23T06:32:20.906510Z",
     "start_time": "2019-02-21T10:13:25.161Z"
    }
   },
   "outputs": [],
   "source": [
    "time_steps=len(times)\n",
    "total_time= total_time_evo\n",
    "epsilon = ((0.1*2*pi)/(times[-1]))"
   ]
  },
  {
   "cell_type": "code",
   "execution_count": null,
   "metadata": {
    "ExecuteTime": {
     "end_time": "2019-02-23T06:32:20.907268Z",
     "start_time": "2019-02-21T10:13:25.166Z"
    }
   },
   "outputs": [],
   "source": [
    "dt = (2*pi)/500\n",
    "F(xi_opt, dt)"
   ]
  },
  {
   "cell_type": "code",
   "execution_count": null,
   "metadata": {
    "ExecuteTime": {
     "end_time": "2019-02-23T06:32:20.907956Z",
     "start_time": "2019-02-21T10:13:25.170Z"
    }
   },
   "outputs": [],
   "source": [
    "L_full_maker(xi_opt, dt)"
   ]
  },
  {
   "cell_type": "code",
   "execution_count": null,
   "metadata": {
    "ExecuteTime": {
     "end_time": "2019-02-23T06:32:20.908555Z",
     "start_time": "2019-02-21T10:13:25.175Z"
    }
   },
   "outputs": [],
   "source": [
    "ax = axes()\n",
    "ax.plot(times, xi_opt)\n",
    "xi_max = amax(xi_opt) + 0.1\n",
    "xi_min = amin(xi_opt) - 0.1\n",
    "\n",
    "ax.set(xlim=(0, total_time_evo), ylim=(xi_min, xi_max),\n",
    "       xlabel='time', ylabel= r'$g_{with diss}$',\n",
    "       title='Control field in the presence of dissipation');"
   ]
  },
  {
   "cell_type": "code",
   "execution_count": null,
   "metadata": {
    "ExecuteTime": {
     "end_time": "2019-02-23T06:32:20.909272Z",
     "start_time": "2019-02-21T10:13:25.179Z"
    }
   },
   "outputs": [],
   "source": [
    "list_of_infid_vec = cF2p(result.u[-1, 0, :], xi_opt)                                                    "
   ]
  },
  {
   "cell_type": "code",
   "execution_count": null,
   "metadata": {
    "ExecuteTime": {
     "end_time": "2019-02-23T06:32:20.909894Z",
     "start_time": "2019-02-21T10:13:25.184Z"
    },
    "code_folding": []
   },
   "outputs": [],
   "source": [
    "ax = axes()\n",
    "ax.plot(times, list_of_infid_vec[0], label='grape_no_diss')\n",
    "ax.plot(times, list_of_infid_vec[1], label='grape_diss')\n",
    "ax.plot(times, list_of_infid_vec[2], label='grape_diss_optimized')\n",
    "#ax.plot(x, cos(x), ':b', label='cos(x)')'-g',\n",
    "#ax.axis('equal')\n",
    "ax.legend()\n",
    "ax.set(xlim=(times[0],times[-1]), ylim=(0, 1.1),\n",
    "       xlabel='time', ylabel='Infidelity',\n",
    "       title='Infidelity as a function of time ');"
   ]
  },
  {
   "cell_type": "markdown",
   "metadata": {},
   "source": [
    "### try"
   ]
  },
  {
   "cell_type": "code",
   "execution_count": null,
   "metadata": {
    "ExecuteTime": {
     "end_time": "2019-02-23T06:32:20.910421Z",
     "start_time": "2019-02-21T10:13:25.537Z"
    }
   },
   "outputs": [],
   "source": [
    "xi_opt = terminator(1000,time_steps=len(times), total_time= total_time_evo,\n",
    "               epsilon= ((0.1*2*pi)/(10**3)))"
   ]
  },
  {
   "cell_type": "code",
   "execution_count": null,
   "metadata": {
    "ExecuteTime": {
     "end_time": "2019-02-23T06:32:20.911111Z",
     "start_time": "2019-02-21T10:13:25.542Z"
    }
   },
   "outputs": [],
   "source": [
    "time_steps=len(times)\n",
    "total_time= total_time_evo\n",
    "epsilon = ((0.1*2*pi)/(times[-1]))"
   ]
  },
  {
   "cell_type": "code",
   "execution_count": null,
   "metadata": {
    "ExecuteTime": {
     "end_time": "2019-02-23T06:32:20.911653Z",
     "start_time": "2019-02-21T10:13:25.546Z"
    }
   },
   "outputs": [],
   "source": [
    "dt = (2*pi)/500\n",
    "F(xi_opt, dt)"
   ]
  },
  {
   "cell_type": "code",
   "execution_count": null,
   "metadata": {
    "ExecuteTime": {
     "end_time": "2019-02-23T06:32:20.912288Z",
     "start_time": "2019-02-21T10:13:25.549Z"
    }
   },
   "outputs": [],
   "source": [
    "F(result.u[-1, 0, : ], dt)"
   ]
  },
  {
   "cell_type": "code",
   "execution_count": null,
   "metadata": {
    "ExecuteTime": {
     "end_time": "2019-02-23T06:32:20.912894Z",
     "start_time": "2019-02-21T10:13:25.554Z"
    }
   },
   "outputs": [],
   "source": [
    "L_full_maker(xi_opt, dt)"
   ]
  },
  {
   "cell_type": "code",
   "execution_count": null,
   "metadata": {
    "ExecuteTime": {
     "end_time": "2019-02-23T06:32:20.913655Z",
     "start_time": "2019-02-21T10:13:25.559Z"
    }
   },
   "outputs": [],
   "source": [
    "len(times)"
   ]
  },
  {
   "cell_type": "code",
   "execution_count": null,
   "metadata": {
    "ExecuteTime": {
     "end_time": "2019-02-23T06:32:20.914265Z",
     "start_time": "2019-02-21T10:13:25.562Z"
    }
   },
   "outputs": [],
   "source": [
    "new_label = [r'$g_{with diss}$']"
   ]
  },
  {
   "cell_type": "markdown",
   "metadata": {
    "ExecuteTime": {
     "end_time": "2019-02-14T15:50:39.160854Z",
     "start_time": "2019-02-14T15:50:39.155605Z"
    }
   },
   "source": [
    "'''plot_grape_control_fields(times,\n",
    "                          xi_opt / (2 * np.pi), new_label, uniform_axes=True);\n",
    "ValueError                                Traceback (most recent call last)\n",
    "<ipython-input-67-f3ebb7c23258> in <module>()\n",
    "      1 plot_grape_control_fields(times,\n",
    "----> 2                           xi_opt / (2 * np.pi), new_label, uniform_axes=True);\n",
    "\n",
    "/anaconda3/envs/qutip-env/lib/python3.6/site-packages/qutip/control/grape.py in plot_grape_control_fields(times, u, labels, uniform_axes)\n",
    "    101     import matplotlib.pyplot as plt\n",
    "    102 \n",
    "--> 103     R, J, M = u.shape\n",
    "    104 \n",
    "    105     fig, axes = plt.subplots(J, 1, figsize=(8, 2 * J), squeeze=False)\n",
    "\n",
    "ValueError: not enough values to unpack (expected 3, got 1) '''"
   ]
  },
  {
   "cell_type": "code",
   "execution_count": null,
   "metadata": {
    "ExecuteTime": {
     "end_time": "2019-02-23T06:32:20.914919Z",
     "start_time": "2019-02-21T10:13:25.922Z"
    }
   },
   "outputs": [],
   "source": [
    "ax = axes()\n",
    "ax.plot(times, xi_opt)\n",
    "ax.set(xlim=(0, total_time_evo), ylim=(-0.8,0.8 ),\n",
    "       xlabel='time', ylabel= r'$g_{with diss}$',\n",
    "       title='Control field in the presence of dissipation');"
   ]
  },
  {
   "cell_type": "code",
   "execution_count": null,
   "metadata": {
    "ExecuteTime": {
     "end_time": "2019-02-23T06:32:20.915600Z",
     "start_time": "2019-02-21T10:13:25.927Z"
    }
   },
   "outputs": [],
   "source": [
    "list_of_infid_vec = cF2p(result.u[-1, 0, :], xi_opt)                                                    "
   ]
  },
  {
   "cell_type": "code",
   "execution_count": null,
   "metadata": {
    "ExecuteTime": {
     "end_time": "2019-02-23T06:32:20.916181Z",
     "start_time": "2019-02-21T10:13:25.930Z"
    },
    "code_folding": []
   },
   "outputs": [],
   "source": [
    "ax = axes()\n",
    "ax.plot(times, list_of_infid_vec[0], label='grape_no_diss')\n",
    "ax.plot(times, list_of_infid_vec[1], label='grape_diss')\n",
    "ax.plot(times, list_of_infid_vec[2], label='grape_diss_optimized')\n",
    "#ax.plot(x, cos(x), ':b', label='cos(x)')'-g',\n",
    "#ax.axis('equal')\n",
    "ax.legend()\n",
    "ax.set(xlim=(times[0],times[-1]), ylim=(0, 1.1),\n",
    "       xlabel='time', ylabel='Infidelity',\n",
    "       title='Infidelity as a function of time ');"
   ]
  },
  {
   "cell_type": "code",
   "execution_count": null,
   "metadata": {
    "ExecuteTime": {
     "end_time": "2019-02-23T06:32:20.916727Z",
     "start_time": "2019-02-21T10:13:25.935Z"
    }
   },
   "outputs": [],
   "source": [
    "ax = axes()\n",
    "ax.plot(times, xi_opt)\n",
    "xi_max = amax(xi_opt) + 0.1\n",
    "xi_min = amin(xi_opt) - 0.1\n",
    "\n",
    "ax.set(xlim=(0, total_time_evo), ylim=(xi_min, xi_max),\n",
    "       xlabel='time', ylabel= r'$g_{with diss}$',\n",
    "       title='Control field in the presence of dissipation');"
   ]
  },
  {
   "cell_type": "code",
   "execution_count": null,
   "metadata": {
    "ExecuteTime": {
     "end_time": "2019-02-23T06:32:20.917448Z",
     "start_time": "2019-02-21T10:13:25.940Z"
    }
   },
   "outputs": [],
   "source": [
    "ax = axes()\n",
    "ax.plot(times, result.u[-1, 0, : ])\n",
    "xi_max = amax(result.u[-1, 0, : ]) + 0.1\n",
    "xi_min = amin(result.u[-1, 0, : ]) - 0.1\n",
    "\n",
    "ax.set(xlim=(0, total_time_evo), ylim=(xi_min, xi_max),\n",
    "       xlabel='time', ylabel= r'$g_{with diss}$',\n",
    "       title='old Control field in the presence of \\\n",
    "              dissipation produced by qutip');"
   ]
  },
  {
   "cell_type": "markdown",
   "metadata": {},
   "source": [
    "### try"
   ]
  },
  {
   "cell_type": "code",
   "execution_count": null,
   "metadata": {
    "ExecuteTime": {
     "end_time": "2019-02-23T06:32:20.918216Z",
     "start_time": "2019-02-21T10:13:26.386Z"
    }
   },
   "outputs": [],
   "source": [
    "\n",
    "xi_opt = terminator(1000,time_steps=len(times), total_time= total_time_evo,\n",
    "               epsilon= ((0.1*2*pi)/(10**4)))"
   ]
  },
  {
   "cell_type": "code",
   "execution_count": null,
   "metadata": {
    "ExecuteTime": {
     "end_time": "2019-02-23T06:32:20.918945Z",
     "start_time": "2019-02-21T10:13:26.393Z"
    }
   },
   "outputs": [],
   "source": [
    "dt = (2*pi)/500\n",
    "F(xi_opt, dt)"
   ]
  },
  {
   "cell_type": "code",
   "execution_count": null,
   "metadata": {
    "ExecuteTime": {
     "end_time": "2019-02-23T06:32:20.919970Z",
     "start_time": "2019-02-21T10:13:26.401Z"
    }
   },
   "outputs": [],
   "source": [
    "L_full_maker(xi_opt, dt)"
   ]
  },
  {
   "cell_type": "code",
   "execution_count": null,
   "metadata": {
    "ExecuteTime": {
     "end_time": "2019-02-23T06:32:20.921005Z",
     "start_time": "2019-02-21T10:13:26.407Z"
    }
   },
   "outputs": [],
   "source": [
    "ax = axes()\n",
    "ax.plot(times, xi_opt)\n",
    "xi_max = amax(xi_opt) + 0.1\n",
    "xi_min = amin(xi_opt) - 0.1\n",
    "\n",
    "ax.set(xlim=(0, total_time_evo), ylim=(xi_min, xi_max),\n",
    "       xlabel='time', ylabel= r'$g_{with diss}$',\n",
    "       title='Control field in the presence of dissipation');"
   ]
  },
  {
   "cell_type": "code",
   "execution_count": null,
   "metadata": {
    "ExecuteTime": {
     "end_time": "2019-02-23T06:32:20.921836Z",
     "start_time": "2019-02-21T10:13:26.412Z"
    }
   },
   "outputs": [],
   "source": [
    "list_of_infid_vec = cF2p(result.u[-1, 0, :], xi_opt)                                                    "
   ]
  },
  {
   "cell_type": "code",
   "execution_count": null,
   "metadata": {
    "ExecuteTime": {
     "end_time": "2019-02-23T06:32:20.922617Z",
     "start_time": "2019-02-21T10:13:26.417Z"
    },
    "code_folding": []
   },
   "outputs": [],
   "source": [
    "ax = axes()\n",
    "ax.plot(times, list_of_infid_vec[0], label='grape_no_diss')\n",
    "ax.plot(times, list_of_infid_vec[1], label='grape_diss')\n",
    "ax.plot(times, list_of_infid_vec[2], label='grape_diss_optimized')\n",
    "#ax.plot(x, cos(x), ':b', label='cos(x)')'-g',\n",
    "#ax.axis('equal')\n",
    "ax.legend()\n",
    "ax.set(xlim=(times[0],times[-1]), ylim=(0, 1.1),\n",
    "       xlabel='time', ylabel='Infidelity',\n",
    "       title='Infidelity as a function of time ');"
   ]
  },
  {
   "cell_type": "markdown",
   "metadata": {},
   "source": [
    "### try"
   ]
  },
  {
   "cell_type": "code",
   "execution_count": null,
   "metadata": {
    "ExecuteTime": {
     "end_time": "2019-02-23T06:32:20.923583Z",
     "start_time": "2019-02-21T10:13:26.829Z"
    }
   },
   "outputs": [],
   "source": [
    "xi_opt = terminator(10**4,time_steps=len(times), total_time= total_time_evo,\n",
    "               epsilon= ((0.1*2*pi)/(10**3)))"
   ]
  },
  {
   "cell_type": "code",
   "execution_count": null,
   "metadata": {
    "ExecuteTime": {
     "end_time": "2019-02-23T06:32:20.924449Z",
     "start_time": "2019-02-21T10:13:26.835Z"
    }
   },
   "outputs": [],
   "source": [
    "dt = (2*pi)/500\n",
    "F(xi_opt, dt)"
   ]
  },
  {
   "cell_type": "code",
   "execution_count": null,
   "metadata": {
    "ExecuteTime": {
     "end_time": "2019-02-23T06:32:20.925317Z",
     "start_time": "2019-02-21T10:13:26.841Z"
    }
   },
   "outputs": [],
   "source": [
    "L_full_maker(xi_opt, dt)"
   ]
  },
  {
   "cell_type": "code",
   "execution_count": null,
   "metadata": {
    "ExecuteTime": {
     "end_time": "2019-02-23T06:32:20.926252Z",
     "start_time": "2019-02-21T10:13:26.846Z"
    }
   },
   "outputs": [],
   "source": [
    "ax = axes()\n",
    "ax.plot(times, xi_opt)\n",
    "xi_max = amax(xi_opt) + 0.1\n",
    "xi_min = amin(xi_opt) - 0.1\n",
    "\n",
    "ax.set(xlim=(0, total_time_evo), ylim=(xi_min, xi_max),\n",
    "       xlabel='time', ylabel= r'$g_{with diss}$',\n",
    "       title='Control field in the presence of dissipation');"
   ]
  },
  {
   "cell_type": "code",
   "execution_count": null,
   "metadata": {
    "ExecuteTime": {
     "end_time": "2019-02-23T06:32:20.927111Z",
     "start_time": "2019-02-21T10:13:26.852Z"
    }
   },
   "outputs": [],
   "source": [
    "list_of_infid_vec = cF2p(result.u[-1, 0, :], xi_opt)                                                    "
   ]
  },
  {
   "cell_type": "code",
   "execution_count": null,
   "metadata": {
    "ExecuteTime": {
     "end_time": "2019-02-23T06:32:20.928109Z",
     "start_time": "2019-02-21T10:13:26.858Z"
    },
    "code_folding": []
   },
   "outputs": [],
   "source": [
    "ax = axes()\n",
    "ax.plot(times, list_of_infid_vec[0], label='grape_no_diss')\n",
    "ax.plot(times, list_of_infid_vec[1], label='grape_diss')\n",
    "ax.plot(times, list_of_infid_vec[2], label='grape_diss_optimized')\n",
    "#ax.plot(x, cos(x), ':b', label='cos(x)')'-g',\n",
    "#ax.axis('equal')\n",
    "ax.legend()\n",
    "ax.set(xlim=(times[0],times[-1]), ylim=(0, 1.1),\n",
    "       xlabel='time', ylabel='Infidelity',\n",
    "       title='Infidelity as a function of time ');"
   ]
  },
  {
   "cell_type": "markdown",
   "metadata": {},
   "source": [
    "### try"
   ]
  },
  {
   "cell_type": "code",
   "execution_count": null,
   "metadata": {
    "ExecuteTime": {
     "end_time": "2019-02-23T06:32:20.929047Z",
     "start_time": "2019-02-21T10:13:27.322Z"
    }
   },
   "outputs": [],
   "source": [
    "xi_opt = terminator(10**4,time_steps=len(times), total_time= total_time_evo,\n",
    "               epsilon= ((0.1*2*pi)/(10**4)))"
   ]
  },
  {
   "cell_type": "code",
   "execution_count": null,
   "metadata": {
    "ExecuteTime": {
     "end_time": "2019-02-23T06:32:20.929945Z",
     "start_time": "2019-02-21T10:13:27.326Z"
    }
   },
   "outputs": [],
   "source": [
    "dt = (2*pi)/500\n",
    "F(xi_opt, dt)"
   ]
  },
  {
   "cell_type": "code",
   "execution_count": null,
   "metadata": {
    "ExecuteTime": {
     "end_time": "2019-02-23T06:32:20.930966Z",
     "start_time": "2019-02-21T10:13:27.330Z"
    }
   },
   "outputs": [],
   "source": [
    "L_full_maker(xi_opt, dt)"
   ]
  },
  {
   "cell_type": "code",
   "execution_count": null,
   "metadata": {
    "ExecuteTime": {
     "end_time": "2019-02-23T06:32:20.931857Z",
     "start_time": "2019-02-21T10:13:27.334Z"
    }
   },
   "outputs": [],
   "source": [
    "ax = axes()\n",
    "ax.plot(times, xi_opt)\n",
    "xi_max = amax(xi_opt) + 0.1\n",
    "xi_min = amin(xi_opt) - 0.1\n",
    "\n",
    "ax.set(xlim=(0, total_time_evo), ylim=(xi_min, xi_max),\n",
    "       xlabel='time', ylabel= r'$g_{with diss}$',\n",
    "       title='Control field in the presence of dissipation');"
   ]
  },
  {
   "cell_type": "code",
   "execution_count": null,
   "metadata": {
    "ExecuteTime": {
     "end_time": "2019-02-23T06:32:20.932865Z",
     "start_time": "2019-02-21T10:13:27.337Z"
    }
   },
   "outputs": [],
   "source": [
    "list_of_infid_vec = cF2p(result.u[-1, 0, :], xi_opt)                                                    "
   ]
  },
  {
   "cell_type": "code",
   "execution_count": null,
   "metadata": {
    "ExecuteTime": {
     "end_time": "2019-02-23T06:32:20.933736Z",
     "start_time": "2019-02-21T10:13:27.342Z"
    },
    "code_folding": []
   },
   "outputs": [],
   "source": [
    "ax = axes()\n",
    "ax.plot(times, list_of_infid_vec[0], label='grape_no_diss')\n",
    "ax.plot(times, list_of_infid_vec[1], label='grape_diss')\n",
    "ax.plot(times, list_of_infid_vec[2], label='grape_diss_optimized')\n",
    "#ax.plot(x, cos(x), ':b', label='cos(x)')'-g',\n",
    "#ax.axis('equal')\n",
    "ax.legend()\n",
    "ax.set(xlim=(times[0],times[-1]), ylim=(0, 1.1),\n",
    "       xlabel='time', ylabel='Infidelity',\n",
    "       title='Infidelity as a function of time ');"
   ]
  },
  {
   "cell_type": "markdown",
   "metadata": {},
   "source": [
    "### try"
   ]
  },
  {
   "cell_type": "code",
   "execution_count": null,
   "metadata": {
    "ExecuteTime": {
     "end_time": "2019-02-23T06:32:20.934698Z",
     "start_time": "2019-02-21T10:13:27.745Z"
    }
   },
   "outputs": [],
   "source": [
    "xi_opt = terminator(10**4,time_steps=len(times), total_time= total_time_evo,\n",
    "               epsilon= ((0.1*2*pi)/(10**10)))"
   ]
  },
  {
   "cell_type": "code",
   "execution_count": null,
   "metadata": {
    "ExecuteTime": {
     "end_time": "2019-02-23T06:32:20.935601Z",
     "start_time": "2019-02-21T10:13:27.749Z"
    }
   },
   "outputs": [],
   "source": [
    "dt = (2*pi)/500\n",
    "F(xi_opt, dt)"
   ]
  },
  {
   "cell_type": "code",
   "execution_count": null,
   "metadata": {
    "ExecuteTime": {
     "end_time": "2019-02-23T06:32:20.936603Z",
     "start_time": "2019-02-21T10:13:27.753Z"
    }
   },
   "outputs": [],
   "source": [
    "L_full_maker(xi_opt, dt)"
   ]
  },
  {
   "cell_type": "code",
   "execution_count": null,
   "metadata": {
    "ExecuteTime": {
     "end_time": "2019-02-23T06:32:20.937598Z",
     "start_time": "2019-02-21T10:13:27.758Z"
    }
   },
   "outputs": [],
   "source": [
    "ax = axes()\n",
    "ax.plot(times, xi_opt)\n",
    "xi_max = amax(xi_opt) + 0.1\n",
    "xi_min = amin(xi_opt) - 0.1\n",
    "\n",
    "ax.set(xlim=(0, total_time_evo), ylim=(xi_min, xi_max),\n",
    "       xlabel='time', ylabel= r'$g_{with diss}$',\n",
    "       title='Control field in the presence of dissipation');"
   ]
  },
  {
   "cell_type": "code",
   "execution_count": null,
   "metadata": {
    "ExecuteTime": {
     "end_time": "2019-02-23T06:32:20.938357Z",
     "start_time": "2019-02-21T10:13:27.762Z"
    }
   },
   "outputs": [],
   "source": [
    "list_of_infid_vec = cF2p(result.u[-1, 0, :], xi_opt)                                                    "
   ]
  },
  {
   "cell_type": "code",
   "execution_count": null,
   "metadata": {
    "ExecuteTime": {
     "end_time": "2019-02-23T06:32:20.939078Z",
     "start_time": "2019-02-21T10:13:27.766Z"
    },
    "code_folding": []
   },
   "outputs": [],
   "source": [
    "ax = axes()\n",
    "ax.plot(times, list_of_infid_vec[0], label='grape_no_diss')\n",
    "ax.plot(times, list_of_infid_vec[1], label='grape_diss')\n",
    "ax.plot(times, list_of_infid_vec[2], label='grape_diss_optimized')\n",
    "#ax.plot(x, cos(x), ':b', label='cos(x)')'-g',\n",
    "#ax.axis('equal')\n",
    "ax.legend()\n",
    "ax.set(xlim=(times[0],times[-1]), ylim=(0, 1.1),\n",
    "       xlabel='time', ylabel='Infidelity',\n",
    "       title='Infidelity as a function of time ');"
   ]
  },
  {
   "cell_type": "markdown",
   "metadata": {},
   "source": [
    "### try"
   ]
  },
  {
   "cell_type": "code",
   "execution_count": null,
   "metadata": {
    "ExecuteTime": {
     "end_time": "2019-02-23T06:32:20.939738Z",
     "start_time": "2019-02-21T10:13:28.196Z"
    }
   },
   "outputs": [],
   "source": [
    "xi_opt = terminator(10**4,time_steps=10**3, total_time= total_time_evo,\n",
    "               epsilon= ((0.1*2*pi)/(10**3)))"
   ]
  },
  {
   "cell_type": "code",
   "execution_count": null,
   "metadata": {
    "ExecuteTime": {
     "end_time": "2019-02-23T06:32:20.940472Z",
     "start_time": "2019-02-21T10:13:28.200Z"
    }
   },
   "outputs": [],
   "source": [
    "dt = (2*pi)/(10**3)#(2*pi)/500\n",
    "# probaly happened because of hard coding of dt inside terminator\n",
    "# must try it again after changing that\n",
    "F(xi_opt, dt)\n"
   ]
  },
  {
   "cell_type": "code",
   "execution_count": null,
   "metadata": {
    "ExecuteTime": {
     "end_time": "2019-02-23T06:32:20.941119Z",
     "start_time": "2019-02-21T10:13:28.205Z"
    }
   },
   "outputs": [],
   "source": [
    "L_full_maker(xi_opt, dt)"
   ]
  },
  {
   "cell_type": "code",
   "execution_count": null,
   "metadata": {
    "ExecuteTime": {
     "end_time": "2019-02-23T06:32:20.941738Z",
     "start_time": "2019-02-21T10:13:28.211Z"
    }
   },
   "outputs": [],
   "source": [
    "ax = axes()\n",
    "ax.plot(times, xi_opt)\n",
    "xi_max = amax(xi_opt) + 0.1\n",
    "xi_min = amin(xi_opt) - 0.1\n",
    "\n",
    "ax.set(xlim=(0, total_time_evo), ylim=(xi_min, xi_max),\n",
    "       xlabel='time', ylabel= r'$g_{with diss}$',\n",
    "       title='Control field in the presence of dissipation');"
   ]
  },
  {
   "cell_type": "code",
   "execution_count": null,
   "metadata": {
    "ExecuteTime": {
     "end_time": "2019-02-23T06:32:20.942390Z",
     "start_time": "2019-02-21T10:13:28.216Z"
    }
   },
   "outputs": [],
   "source": [
    "list_of_infid_vec = cF2p(result.u[-1, 0, :], xi_opt)                                                    "
   ]
  },
  {
   "cell_type": "code",
   "execution_count": null,
   "metadata": {
    "ExecuteTime": {
     "end_time": "2019-02-23T06:32:20.943046Z",
     "start_time": "2019-02-21T10:13:28.220Z"
    },
    "code_folding": []
   },
   "outputs": [],
   "source": [
    "ax = axes()\n",
    "ax.plot(times, list_of_infid_vec[0], label='grape_no_diss')\n",
    "ax.plot(times, list_of_infid_vec[1], label='grape_diss')\n",
    "ax.plot(times, list_of_infid_vec[2], label='grape_diss_optimized')\n",
    "#ax.plot(x, cos(x), ':b', label='cos(x)')'-g',\n",
    "#ax.axis('equal')\n",
    "ax.legend()\n",
    "ax.set(xlim=(times[0],times[-1]), ylim=(0, 1.1),\n",
    "       xlabel='time', ylabel='Infidelity',\n",
    "       title='Infidelity as a function of time ');"
   ]
  },
  {
   "cell_type": "markdown",
   "metadata": {},
   "source": [
    "### try"
   ]
  },
  {
   "cell_type": "code",
   "execution_count": null,
   "metadata": {
    "ExecuteTime": {
     "end_time": "2019-02-23T06:32:20.943761Z",
     "start_time": "2019-02-21T10:13:28.659Z"
    }
   },
   "outputs": [],
   "source": [
    "xi_opt = terminator(10,time_steps=len(times), total_time= total_time_evo,\n",
    "               epsilon= ((0.1*2*pi)/(10**3)))"
   ]
  },
  {
   "cell_type": "code",
   "execution_count": null,
   "metadata": {
    "ExecuteTime": {
     "end_time": "2019-02-23T06:32:20.944445Z",
     "start_time": "2019-02-21T10:13:28.662Z"
    }
   },
   "outputs": [],
   "source": [
    "dt = (2*pi)/500\n",
    "F(xi_opt, dt)"
   ]
  },
  {
   "cell_type": "code",
   "execution_count": null,
   "metadata": {
    "ExecuteTime": {
     "end_time": "2019-02-23T06:32:20.945053Z",
     "start_time": "2019-02-21T10:13:28.667Z"
    }
   },
   "outputs": [],
   "source": [
    "F(result.u[-1, 0, : ], dt)"
   ]
  },
  {
   "cell_type": "code",
   "execution_count": null,
   "metadata": {
    "ExecuteTime": {
     "end_time": "2019-02-23T06:32:20.945643Z",
     "start_time": "2019-02-21T10:13:28.674Z"
    }
   },
   "outputs": [],
   "source": [
    "L_full_maker(xi_opt, dt)"
   ]
  },
  {
   "cell_type": "code",
   "execution_count": null,
   "metadata": {
    "ExecuteTime": {
     "end_time": "2019-02-23T06:32:20.946314Z",
     "start_time": "2019-02-21T10:13:28.678Z"
    }
   },
   "outputs": [],
   "source": [
    "len(times)"
   ]
  },
  {
   "cell_type": "code",
   "execution_count": null,
   "metadata": {
    "ExecuteTime": {
     "end_time": "2019-02-23T06:32:20.947208Z",
     "start_time": "2019-02-21T10:13:28.682Z"
    }
   },
   "outputs": [],
   "source": [
    "new_label = [r'$g_{with diss}$']"
   ]
  },
  {
   "cell_type": "code",
   "execution_count": null,
   "metadata": {
    "ExecuteTime": {
     "end_time": "2019-02-23T06:32:20.948076Z",
     "start_time": "2019-02-21T10:13:28.686Z"
    }
   },
   "outputs": [],
   "source": [
    "ax = axes()\n",
    "ax.plot(times, xi_opt)\n",
    "ax.set(xlim=(0, total_time_evo), ylim=(-0.8,0.8 ),\n",
    "       xlabel='time', ylabel= r'$g_{with diss}$',\n",
    "       title='Control field in the presence of dissipation');"
   ]
  },
  {
   "cell_type": "code",
   "execution_count": null,
   "metadata": {
    "ExecuteTime": {
     "end_time": "2019-02-23T06:32:20.948950Z",
     "start_time": "2019-02-21T10:13:28.690Z"
    }
   },
   "outputs": [],
   "source": [
    "list_of_infid_vec = cF2p(result.u[-1, 0, :], xi_opt)                                                    "
   ]
  },
  {
   "cell_type": "code",
   "execution_count": null,
   "metadata": {
    "ExecuteTime": {
     "end_time": "2019-02-23T06:32:20.949887Z",
     "start_time": "2019-02-21T10:13:28.694Z"
    },
    "code_folding": []
   },
   "outputs": [],
   "source": [
    "ax = axes()\n",
    "ax.plot(times, list_of_infid_vec[0], label='grape_no_diss')\n",
    "ax.plot(times, list_of_infid_vec[1], label='grape_diss')\n",
    "ax.plot(times, list_of_infid_vec[2], label='grape_diss_optimized')\n",
    "#ax.plot(x, cos(x), ':b', label='cos(x)')'-g',\n",
    "#ax.axis('equal')\n",
    "ax.legend()\n",
    "ax.set(xlim=(times[0],times[-1]), ylim=(0, 1.1),\n",
    "       xlabel='time', ylabel='Infidelity',\n",
    "       title='Infidelity as a function of time ');"
   ]
  },
  {
   "cell_type": "code",
   "execution_count": null,
   "metadata": {
    "ExecuteTime": {
     "end_time": "2019-02-23T06:32:20.950749Z",
     "start_time": "2019-02-21T10:13:28.699Z"
    }
   },
   "outputs": [],
   "source": [
    "ax = axes()\n",
    "ax.plot(times, xi_opt)\n",
    "xi_max = amax(xi_opt) + 0.1\n",
    "xi_min = amin(xi_opt) - 0.1\n",
    "\n",
    "ax.set(xlim=(0, total_time_evo), ylim=(xi_min, xi_max),\n",
    "       xlabel='time', ylabel= r'$g_{with diss}$',\n",
    "       title='Control field in the presence of dissipation');"
   ]
  },
  {
   "cell_type": "code",
   "execution_count": null,
   "metadata": {
    "ExecuteTime": {
     "end_time": "2019-02-23T06:32:20.951303Z",
     "start_time": "2019-02-21T10:13:28.703Z"
    }
   },
   "outputs": [],
   "source": [
    "ax = axes()\n",
    "ax.plot(times, result.u[-1, 0, : ])\n",
    "xi_max = amax(result.u[-1, 0, : ]) + 0.1\n",
    "xi_min = amin(result.u[-1, 0, : ]) - 0.1\n",
    "\n",
    "ax.set(xlim=(0, total_time_evo), ylim=(xi_min, xi_max),\n",
    "       xlabel='time', ylabel= r'$g_{with diss}$',\n",
    "       title='old Control field in the presence of \\\n",
    "              dissipation produced by qutip');"
   ]
  },
  {
   "cell_type": "code",
   "execution_count": null,
   "metadata": {
    "ExecuteTime": {
     "end_time": "2019-02-23T06:32:20.951979Z",
     "start_time": "2019-02-21T10:13:28.707Z"
    }
   },
   "outputs": [],
   "source": [
    "list_of_infid_vec = cF2p(result.u[-1, 0, :], xi_opt)                                                    "
   ]
  },
  {
   "cell_type": "code",
   "execution_count": null,
   "metadata": {
    "ExecuteTime": {
     "end_time": "2019-02-23T06:32:20.952793Z",
     "start_time": "2019-02-21T10:13:28.711Z"
    },
    "code_folding": []
   },
   "outputs": [],
   "source": [
    "ax = axes()\n",
    "ax.plot(times, list_of_infid_vec[0], label='grape_no_diss')\n",
    "ax.plot(times, list_of_infid_vec[1], label='grape_diss')\n",
    "ax.plot(times, list_of_infid_vec[2], label='grape_diss_optimized')\n",
    "#ax.plot(x, cos(x), ':b', label='cos(x)')'-g',\n",
    "#ax.axis('equal')\n",
    "ax.legend()\n",
    "ax.set(xlim=(times[0],times[-1]), ylim=(0, 1.1),\n",
    "       xlabel='time', ylabel='Infidelity',\n",
    "       title='Infidelity as a function of time ');"
   ]
  },
  {
   "cell_type": "markdown",
   "metadata": {},
   "source": [
    "## APS stuff"
   ]
  },
  {
   "cell_type": "markdown",
   "metadata": {},
   "source": [
    "### infidelity function tryouts"
   ]
  },
  {
   "cell_type": "code",
   "execution_count": null,
   "metadata": {
    "ExecuteTime": {
     "end_time": "2019-02-23T06:32:20.953475Z",
     "start_time": "2019-02-21T10:13:29.692Z"
    }
   },
   "outputs": [],
   "source": [
    "qone = basis(2, 0)\n",
    "qone"
   ]
  },
  {
   "cell_type": "code",
   "execution_count": null,
   "metadata": {
    "ExecuteTime": {
     "end_time": "2019-02-23T06:32:20.954036Z",
     "start_time": "2019-02-21T10:13:29.697Z"
    }
   },
   "outputs": [],
   "source": [
    "qzero = basis(2, 1)\n",
    "qzero"
   ]
  },
  {
   "cell_type": "markdown",
   "metadata": {
    "ExecuteTime": {
     "end_time": "2019-02-15T04:40:16.961355Z",
     "start_time": "2019-02-15T04:40:16.952718Z"
    }
   },
   "source": [
    "###### ket2bra\n",
    "---------------------------------------------------------------------------\n",
    "NameError                                 Traceback (most recent call last)\n",
    "<ipython-input-69-8f247c0c4d8f> in <module>()\n",
    "----> 1 ket2bra\n",
    "\n",
    "NameError: name 'ket2bra' is not defined\n"
   ]
  },
  {
   "cell_type": "code",
   "execution_count": null,
   "metadata": {
    "ExecuteTime": {
     "end_time": "2019-02-23T06:32:20.954605Z",
     "start_time": "2019-02-21T10:13:30.215Z"
    }
   },
   "outputs": [],
   "source": [
    "(sigmax()).matrix_element(qone, qzero)"
   ]
  },
  {
   "cell_type": "code",
   "execution_count": null,
   "metadata": {
    "ExecuteTime": {
     "end_time": "2019-02-23T06:32:20.955208Z",
     "start_time": "2019-02-21T10:13:30.220Z"
    }
   },
   "outputs": [],
   "source": [
    "abs((sigmax()).matrix_element(qone, qzero))"
   ]
  },
  {
   "cell_type": "code",
   "execution_count": null,
   "metadata": {
    "ExecuteTime": {
     "end_time": "2019-02-23T06:32:20.955783Z",
     "start_time": "2019-02-21T10:13:30.224Z"
    }
   },
   "outputs": [],
   "source": [
    "abs(2 + 3j)"
   ]
  },
  {
   "cell_type": "code",
   "execution_count": null,
   "metadata": {
    "ExecuteTime": {
     "end_time": "2019-02-23T06:32:20.956364Z",
     "start_time": "2019-02-21T10:13:30.230Z"
    }
   },
   "outputs": [],
   "source": [
    "abs(3 + 4j)"
   ]
  },
  {
   "cell_type": "code",
   "execution_count": null,
   "metadata": {
    "ExecuteTime": {
     "end_time": "2019-02-23T06:32:20.957369Z",
     "start_time": "2019-02-21T10:13:30.235Z"
    }
   },
   "outputs": [],
   "source": [
    "def infidelity_to_one(U):\n",
    "    r\"\"\"infidelity to state one\"\"\"\n",
    "    fidelity = (abs(U.matrix_element(qone, qzero)))**2\n",
    "    infidelity = 1 - fidelity\n",
    "    return infidelity"
   ]
  },
  {
   "cell_type": "code",
   "execution_count": null,
   "metadata": {
    "ExecuteTime": {
     "end_time": "2019-02-23T06:32:20.958469Z",
     "start_time": "2019-02-21T10:13:30.240Z"
    }
   },
   "outputs": [],
   "source": [
    "infidelity_to_one(sigmax()) \n",
    "# 1 - abs((sigmax()).matrix_element(qone, qzero))\n",
    "# 1 - 1 = 0"
   ]
  },
  {
   "cell_type": "markdown",
   "metadata": {},
   "source": [
    "  result.u, result.u but lindbladian evolution, xi_opt"
   ]
  },
  {
   "cell_type": "code",
   "execution_count": null,
   "metadata": {
    "ExecuteTime": {
     "end_time": "2019-02-23T06:32:20.959529Z",
     "start_time": "2019-02-21T10:13:30.771Z"
    }
   },
   "outputs": [],
   "source": [
    "qone.overlap(qzero)"
   ]
  },
  {
   "cell_type": "code",
   "execution_count": null,
   "metadata": {
    "ExecuteTime": {
     "end_time": "2019-02-23T06:32:20.960505Z",
     "start_time": "2019-02-21T10:13:30.775Z"
    }
   },
   "outputs": [],
   "source": [
    "qzero.overlap(qzero)"
   ]
  },
  {
   "cell_type": "code",
   "execution_count": null,
   "metadata": {
    "ExecuteTime": {
     "end_time": "2019-02-23T06:32:20.961500Z",
     "start_time": "2019-02-21T10:13:30.779Z"
    }
   },
   "outputs": [],
   "source": [
    "qone.overlap(qone)"
   ]
  },
  {
   "cell_type": "code",
   "execution_count": null,
   "metadata": {
    "ExecuteTime": {
     "end_time": "2019-02-23T06:32:20.963231Z",
     "start_time": "2019-02-21T10:13:30.783Z"
    }
   },
   "outputs": [],
   "source": [
    "def infidelity_to_state(psi):\n",
    "    r\"\"\"infidelity to state one\"\"\"\n",
    "    fidelity = (abs(qone.overlap(psi)))**2\n",
    "    infidelity = 1 - fidelity\n",
    "    return infidelity"
   ]
  },
  {
   "cell_type": "code",
   "execution_count": null,
   "metadata": {
    "ExecuteTime": {
     "end_time": "2019-02-23T06:32:20.964345Z",
     "start_time": "2019-02-21T10:13:30.788Z"
    }
   },
   "outputs": [],
   "source": [
    "infidelity_to_state(qzero)"
   ]
  },
  {
   "cell_type": "code",
   "execution_count": null,
   "metadata": {
    "ExecuteTime": {
     "end_time": "2019-02-23T06:32:20.965521Z",
     "start_time": "2019-02-21T10:13:30.791Z"
    }
   },
   "outputs": [],
   "source": [
    "infidelity_to_state(qone)"
   ]
  },
  {
   "cell_type": "code",
   "execution_count": null,
   "metadata": {
    "ExecuteTime": {
     "end_time": "2019-02-23T06:32:20.966845Z",
     "start_time": "2019-02-21T10:13:30.796Z"
    }
   },
   "outputs": [],
   "source": [
    "#mesolve"
   ]
  },
  {
   "cell_type": "markdown",
   "metadata": {
    "ExecuteTime": {
     "end_time": "2019-02-15T04:40:17.005913Z",
     "start_time": "2019-02-15T04:34:35.127Z"
    }
   },
   "source": [
    "\n",
    "### state building"
   ]
  },
  {
   "cell_type": "code",
   "execution_count": null,
   "metadata": {
    "ExecuteTime": {
     "end_time": "2019-02-23T06:32:20.967783Z",
     "start_time": "2019-02-21T10:13:31.352Z"
    }
   },
   "outputs": [],
   "source": [
    "H_no_diss = [H_0, [H_1, result.u[-1, 0, :] ]]\n",
    "grape_no_diss = mesolve(H_no_diss, qzero, times, c_ops=[], e_ops=[], \n",
    "                        args={}, options=None, \n",
    "                        progress_bar=EnhancedTextProgressBar() )"
   ]
  },
  {
   "cell_type": "code",
   "execution_count": null,
   "metadata": {
    "ExecuteTime": {
     "end_time": "2019-02-23T06:32:20.968788Z",
     "start_time": "2019-02-21T10:13:31.357Z"
    }
   },
   "outputs": [],
   "source": [
    "len(grape_no_diss.states)"
   ]
  },
  {
   "cell_type": "code",
   "execution_count": null,
   "metadata": {
    "ExecuteTime": {
     "end_time": "2019-02-23T06:32:20.969525Z",
     "start_time": "2019-02-21T10:13:31.362Z"
    }
   },
   "outputs": [],
   "source": [
    "Lin"
   ]
  },
  {
   "cell_type": "code",
   "execution_count": null,
   "metadata": {
    "ExecuteTime": {
     "end_time": "2019-02-23T06:32:20.970240Z",
     "start_time": "2019-02-21T10:13:31.368Z"
    }
   },
   "outputs": [],
   "source": [
    "sqrt(gamma)"
   ]
  },
  {
   "cell_type": "code",
   "execution_count": null,
   "metadata": {
    "ExecuteTime": {
     "end_time": "2019-02-23T06:32:20.970979Z",
     "start_time": "2019-02-21T10:13:31.373Z"
    }
   },
   "outputs": [],
   "source": [
    "c_ops_tejas = sqrt(gamma)*Lin\n",
    "c_ops_tejas"
   ]
  },
  {
   "cell_type": "code",
   "execution_count": null,
   "metadata": {
    "ExecuteTime": {
     "end_time": "2019-02-23T06:32:20.971617Z",
     "start_time": "2019-02-21T10:13:31.378Z"
    }
   },
   "outputs": [],
   "source": [
    "H_diss = [H_0, [H_1, result.u[-1, 0, :] ]]\n",
    "grape_diss = mesolve(H_no_diss, qzero, times, c_ops=[c_ops_tejas], e_ops=[], \n",
    "                        args={}, options=None, \n",
    "                        progress_bar=EnhancedTextProgressBar() )"
   ]
  },
  {
   "cell_type": "code",
   "execution_count": null,
   "metadata": {
    "ExecuteTime": {
     "end_time": "2019-02-23T06:32:20.972244Z",
     "start_time": "2019-02-21T10:13:31.384Z"
    }
   },
   "outputs": [],
   "source": [
    "len(grape_diss.states)"
   ]
  },
  {
   "cell_type": "code",
   "execution_count": null,
   "metadata": {
    "ExecuteTime": {
     "end_time": "2019-02-23T06:32:20.972973Z",
     "start_time": "2019-02-21T10:13:31.388Z"
    }
   },
   "outputs": [],
   "source": [
    "H_diss_optimized = [H_0, [H_1, xi_opt ]]\n",
    "grape_diss_optimized = mesolve(H_diss_optimized, qzero, times, c_ops=[c_ops_tejas], \n",
    "                               e_ops=[], args={}, options=None, \n",
    "                               progress_bar=TextProgressBar() )\n",
    "# H_diss_optimized should have been written isntead of H_no_diss"
   ]
  },
  {
   "cell_type": "code",
   "execution_count": null,
   "metadata": {
    "ExecuteTime": {
     "end_time": "2019-02-23T06:32:20.973651Z",
     "start_time": "2019-02-21T10:13:31.392Z"
    }
   },
   "outputs": [],
   "source": [
    "len(grape_diss_optimized.states)"
   ]
  },
  {
   "cell_type": "markdown",
   "metadata": {},
   "source": [
    "### states list to fidelity list"
   ]
  },
  {
   "cell_type": "code",
   "execution_count": null,
   "metadata": {
    "ExecuteTime": {
     "end_time": "2019-02-23T06:32:20.974279Z",
     "start_time": "2019-02-21T10:13:31.886Z"
    }
   },
   "outputs": [],
   "source": [
    "infidelity_to_state_vec = vectorize(infidelity_to_state)"
   ]
  },
  {
   "cell_type": "code",
   "execution_count": null,
   "metadata": {
    "ExecuteTime": {
     "end_time": "2019-02-23T06:32:20.974863Z",
     "start_time": "2019-02-21T10:13:31.891Z"
    }
   },
   "outputs": [],
   "source": [
    "infid_grape_no_diss = infidelity_to_state_vec(grape_no_diss.states)"
   ]
  },
  {
   "cell_type": "code",
   "execution_count": null,
   "metadata": {
    "ExecuteTime": {
     "end_time": "2019-02-23T06:32:20.977571Z",
     "start_time": "2019-02-21T10:13:31.894Z"
    }
   },
   "outputs": [],
   "source": [
    "'''fid_grape_diss = infidelity_to_state_vec(grape_diss.states)\n",
    "TypeError                                 Traceback (most recent call last)\n",
    "<ipython-input-101-fbabc06eff84> in <module>()\n",
    "----> 1 fid_grape_diss = infidelity_to_state_vec(grape_diss.states)\n",
    "\n",
    "/anaconda3/envs/qutip-env/lib/python3.6/site-packages/numpy/lib/function_base.py in __call__(self, *args, **kwargs)\n",
    "   2753             vargs.extend([kwargs[_n] for _n in names])\n",
    "   2754 \n",
    "-> 2755         return self._vectorize_call(func=func, args=vargs)\n",
    "   2756 \n",
    "   2757     def _get_ufunc_and_otypes(self, func, args):\n",
    "\n",
    "/anaconda3/envs/qutip-env/lib/python3.6/site-packages/numpy/lib/function_base.py in _vectorize_call(self, func, args)\n",
    "   2823             res = func()\n",
    "   2824         else:\n",
    "-> 2825             ufunc, otypes = self._get_ufunc_and_otypes(func=func, args=args)\n",
    "   2826 \n",
    "   2827             # Convert args to object arrays first\n",
    "\n",
    "/anaconda3/envs/qutip-env/lib/python3.6/site-packages/numpy/lib/function_base.py in _get_ufunc_and_otypes(self, func, args)\n",
    "   2783 \n",
    "   2784             inputs = [arg.flat[0] for arg in args]\n",
    "-> 2785             outputs = func(*inputs)\n",
    "   2786 \n",
    "   2787             # Performance note: profiling indicates that -- for simple\n",
    "\n",
    "<ipython-input-96-32321f8d8a33> in infidelity_to_state(psi)\n",
    "      1 def infidelity_to_state(psi):\n",
    "      2     r\"\"\"infidelity to state one\"\"\"\n",
    "----> 3     fidelity = (abs(qone.overlap(psi)))**2\n",
    "      4     infidelity = 1 - fidelity\n",
    "      5     return infidelity\n",
    "\n",
    "/anaconda3/envs/qutip-env/lib/python3.6/site-packages/qutip/qobj.py in overlap(self, state)\n",
    "   1486                     return (self.data.H * state.data)[0, 0]\n",
    "   1487 \n",
    "-> 1488         raise TypeError(\"Can only calculate overlap for state vector Qobjs\")\n",
    "   1489 \n",
    "   1490     def eigenstates(self, sparse=False, sort='low',\n",
    "\n",
    "TypeError: Can only calculate overlap for state vector Qobjs\n",
    "\n",
    "\n",
    "'''"
   ]
  },
  {
   "cell_type": "markdown",
   "metadata": {
    "ExecuteTime": {
     "end_time": "2019-02-15T05:53:06.567791Z",
     "start_time": "2019-02-15T05:53:06.556851Z"
    }
   },
   "source": [
    "fid_grape_no_diss = infidelity_to_state_vec(grape_no_diss.states)"
   ]
  },
  {
   "cell_type": "code",
   "execution_count": null,
   "metadata": {
    "ExecuteTime": {
     "end_time": "2019-02-23T06:32:20.978706Z",
     "start_time": "2019-02-21T10:13:32.414Z"
    }
   },
   "outputs": [],
   "source": [
    "fidelity(sigmax(), sigmax())"
   ]
  },
  {
   "cell_type": "code",
   "execution_count": null,
   "metadata": {
    "ExecuteTime": {
     "end_time": "2019-02-23T06:32:20.979624Z",
     "start_time": "2019-02-21T10:13:32.419Z"
    }
   },
   "outputs": [],
   "source": [
    "zero_dm = ket2dm(qzero)\n",
    "zero_dm"
   ]
  },
  {
   "cell_type": "code",
   "execution_count": null,
   "metadata": {
    "ExecuteTime": {
     "end_time": "2019-02-23T06:32:20.980546Z",
     "start_time": "2019-02-21T10:13:32.423Z"
    }
   },
   "outputs": [],
   "source": [
    "one_dm = ket2dm(qone)\n",
    "one_dm"
   ]
  },
  {
   "cell_type": "code",
   "execution_count": null,
   "metadata": {
    "ExecuteTime": {
     "end_time": "2019-02-23T06:32:20.981286Z",
     "start_time": "2019-02-21T10:13:32.427Z"
    }
   },
   "outputs": [],
   "source": [
    "fidelity(zero_dm, zero_dm)"
   ]
  },
  {
   "cell_type": "code",
   "execution_count": null,
   "metadata": {
    "ExecuteTime": {
     "end_time": "2019-02-23T06:32:20.981913Z",
     "start_time": "2019-02-21T10:13:32.431Z"
    }
   },
   "outputs": [],
   "source": [
    "fidelity(zero_dm, one_dm)"
   ]
  },
  {
   "cell_type": "code",
   "execution_count": null,
   "metadata": {
    "ExecuteTime": {
     "end_time": "2019-02-23T06:32:20.982584Z",
     "start_time": "2019-02-21T10:13:32.435Z"
    }
   },
   "outputs": [],
   "source": [
    "fidelity(one_dm, zero_dm)"
   ]
  },
  {
   "cell_type": "code",
   "execution_count": null,
   "metadata": {
    "ExecuteTime": {
     "end_time": "2019-02-23T06:32:20.983253Z",
     "start_time": "2019-02-21T10:13:32.439Z"
    }
   },
   "outputs": [],
   "source": [
    "grape_no_diss.states[5]"
   ]
  },
  {
   "cell_type": "code",
   "execution_count": null,
   "metadata": {
    "ExecuteTime": {
     "end_time": "2019-02-23T06:32:20.983862Z",
     "start_time": "2019-02-21T10:13:32.443Z"
    }
   },
   "outputs": [],
   "source": [
    "grape_diss.states[5]"
   ]
  },
  {
   "cell_type": "code",
   "execution_count": null,
   "metadata": {
    "ExecuteTime": {
     "end_time": "2019-02-23T06:32:20.984557Z",
     "start_time": "2019-02-21T10:13:32.447Z"
    }
   },
   "outputs": [],
   "source": [
    "grape_diss.states[7]"
   ]
  },
  {
   "cell_type": "code",
   "execution_count": null,
   "metadata": {
    "ExecuteTime": {
     "end_time": "2019-02-23T06:32:20.985180Z",
     "start_time": "2019-02-21T10:13:32.461Z"
    }
   },
   "outputs": [],
   "source": [
    "fidelity(grape_diss.states[7], one_dm)"
   ]
  },
  {
   "cell_type": "code",
   "execution_count": null,
   "metadata": {
    "ExecuteTime": {
     "end_time": "2019-02-23T06:32:20.986152Z",
     "start_time": "2019-02-21T10:13:32.466Z"
    }
   },
   "outputs": [],
   "source": [
    "#0.012−2.347×10**−05j)"
   ]
  },
  {
   "cell_type": "code",
   "execution_count": null,
   "metadata": {
    "ExecuteTime": {
     "end_time": "2019-02-23T06:32:20.986943Z",
     "start_time": "2019-02-21T10:13:32.471Z"
    }
   },
   "outputs": [],
   "source": [
    "def infidelity_tejas(dm, d=2):\n",
    "    r\"\"\"Brief description of the function\"\"\"\n",
    "    infid = 1 - fidelity(one_dm, dm)\n",
    "    return infid"
   ]
  },
  {
   "cell_type": "code",
   "execution_count": null,
   "metadata": {
    "ExecuteTime": {
     "end_time": "2019-02-23T06:32:20.987922Z",
     "start_time": "2019-02-21T10:13:32.476Z"
    }
   },
   "outputs": [],
   "source": [
    "infid_dm_vec = vectorize(infidelity_tejas)"
   ]
  },
  {
   "cell_type": "code",
   "execution_count": null,
   "metadata": {
    "ExecuteTime": {
     "end_time": "2019-02-23T06:32:20.988817Z",
     "start_time": "2019-02-21T10:13:32.480Z"
    }
   },
   "outputs": [],
   "source": [
    "infid_grape_diss = infid_dm_vec(grape_diss.states) "
   ]
  },
  {
   "cell_type": "code",
   "execution_count": null,
   "metadata": {
    "ExecuteTime": {
     "end_time": "2019-02-23T06:32:20.989625Z",
     "start_time": "2019-02-21T10:13:32.485Z"
    }
   },
   "outputs": [],
   "source": [
    "len(infid_grape_diss)"
   ]
  },
  {
   "cell_type": "code",
   "execution_count": null,
   "metadata": {
    "ExecuteTime": {
     "end_time": "2019-02-23T06:32:20.990579Z",
     "start_time": "2019-02-21T10:13:32.489Z"
    }
   },
   "outputs": [],
   "source": [
    "infid_grape_diss_optimized = infid_dm_vec(grape_diss_optimized.states) "
   ]
  },
  {
   "cell_type": "code",
   "execution_count": null,
   "metadata": {
    "ExecuteTime": {
     "end_time": "2019-02-23T06:32:20.991501Z",
     "start_time": "2019-02-21T10:13:32.493Z"
    }
   },
   "outputs": [],
   "source": [
    "len(infid_grape_diss_optimized)"
   ]
  },
  {
   "cell_type": "markdown",
   "metadata": {},
   "source": [
    "### plots"
   ]
  },
  {
   "cell_type": "code",
   "execution_count": null,
   "metadata": {
    "ExecuteTime": {
     "end_time": "2019-02-23T06:32:20.992517Z",
     "start_time": "2019-02-21T10:13:33.032Z"
    },
    "code_folding": []
   },
   "outputs": [],
   "source": [
    "ax = axes()\n",
    "ax.plot(times, infid_grape_no_diss, label='grape_no_diss')\n",
    "ax.plot(times, infid_grape_diss, label='grape_diss')\n",
    "ax.plot(times, infid_grape_diss_optimized, label='grape_diss_optimized')\n",
    "#ax.plot(x, cos(x), ':b', label='cos(x)')'-g',\n",
    "#ax.axis('equal')\n",
    "ax.legend()\n",
    "ax.set(xlim=(times[0],times[-1]), ylim=(0, 1.1),\n",
    "       xlabel='time', ylabel='Infidelity',\n",
    "       title='Infidelity as a function of time ');"
   ]
  },
  {
   "cell_type": "code",
   "execution_count": null,
   "metadata": {
    "ExecuteTime": {
     "end_time": "2019-02-23T06:32:20.993509Z",
     "start_time": "2019-02-21T10:13:33.036Z"
    }
   },
   "outputs": [],
   "source": [
    "ax = axes()\n",
    "ax.plot(times, infid_grape_no_diss, label='grape_no_diss')\n",
    "ax.plot(times, infid_grape_diss, label='grape_diss')\n",
    "#ax.plot(times, infid_grape_diss_optimized, label='grape_diss_optimized')\n",
    "#ax.plot(x, cos(x), ':b', label='cos(x)')'-g',\n",
    "#ax.axis('equal')\n",
    "ax.legend()\n",
    "\n",
    "ax.set(xlim=(times[0],times[-1]), ylim=(0, 1.1),\n",
    "       xlabel='time', ylabel='Infidelity',\n",
    "       title='Infidelity as a function of time ');"
   ]
  },
  {
   "cell_type": "code",
   "execution_count": null,
   "metadata": {
    "ExecuteTime": {
     "end_time": "2019-02-23T06:32:20.994103Z",
     "start_time": "2019-02-21T10:13:33.040Z"
    }
   },
   "outputs": [],
   "source": [
    "ax = axes()\n",
    "ax.plot(times, infid_grape_no_diss, label='grape_no_diss')\n",
    "#ax.plot(times, infid_grape_diss, label='grape_diss')\n",
    "ax.plot(times, infid_grape_diss_optimized, label='grape_diss_optimized')\n",
    "#ax.plot(x, cos(x), ':b', label='cos(x)')'-g',\n",
    "#ax.axis('equal')\n",
    "ax.legend()\n",
    "\n",
    "ax.set(xlim=(times[0],times[-1]), ylim=(0, 1.1),\n",
    "       xlabel='time', ylabel='Infidelity',\n",
    "       title='Infidelity as a function of time ');"
   ]
  },
  {
   "cell_type": "code",
   "execution_count": null,
   "metadata": {
    "ExecuteTime": {
     "end_time": "2019-02-23T06:32:20.994976Z",
     "start_time": "2019-02-21T10:13:33.044Z"
    }
   },
   "outputs": [],
   "source": [
    "ax = axes()\n",
    "c_diff = result.u[-1, 0, : ] - xi_opt\n",
    "ax.plot(times, c_diff)\n",
    "c_max = amax(c_diff) + 0.1\n",
    "c_min = amin(c_diff) - 0.1\n",
    "\n",
    "ax.set(xlim=(0, total_time_evo), ylim=(c_min, c_max),\n",
    "       xlabel='time', ylabel= 'diff',\n",
    "       title='difference');"
   ]
  },
  {
   "cell_type": "code",
   "execution_count": null,
   "metadata": {},
   "outputs": [],
   "source": []
  },
  {
   "cell_type": "code",
   "execution_count": null,
   "metadata": {},
   "outputs": [],
   "source": []
  },
  {
   "cell_type": "code",
   "execution_count": null,
   "metadata": {},
   "outputs": [],
   "source": []
  },
  {
   "cell_type": "code",
   "execution_count": null,
   "metadata": {},
   "outputs": [],
   "source": []
  },
  {
   "cell_type": "code",
   "execution_count": null,
   "metadata": {},
   "outputs": [],
   "source": []
  },
  {
   "cell_type": "code",
   "execution_count": null,
   "metadata": {
    "ExecuteTime": {
     "end_time": "2019-02-23T06:32:20.995651Z",
     "start_time": "2019-02-21T10:13:33.051Z"
    }
   },
   "outputs": [],
   "source": [
    "ax = axes()\n",
    "ax.plot(times, xi_opt)\n",
    "xi_max = amax(xi_opt) + 0.1\n",
    "xi_min = amin(xi_opt) - 0.1\n",
    "\n",
    "ax.set(xlim=(0, total_time_evo), ylim=(xi_min, xi_max),\n",
    "       xlabel='time', ylabel= r'$g_{with diss}$',\n",
    "       title='Control field in the presence of dissipation');"
   ]
  },
  {
   "cell_type": "code",
   "execution_count": null,
   "metadata": {},
   "outputs": [],
   "source": []
  },
  {
   "cell_type": "code",
   "execution_count": null,
   "metadata": {},
   "outputs": [],
   "source": []
  },
  {
   "cell_type": "code",
   "execution_count": null,
   "metadata": {},
   "outputs": [],
   "source": []
  },
  {
   "cell_type": "code",
   "execution_count": null,
   "metadata": {},
   "outputs": [],
   "source": []
  },
  {
   "cell_type": "markdown",
   "metadata": {},
   "source": [
    "## Versions"
   ]
  },
  {
   "cell_type": "code",
   "execution_count": null,
   "metadata": {
    "ExecuteTime": {
     "end_time": "2019-02-23T06:32:20.996257Z",
     "start_time": "2019-02-21T10:13:33.628Z"
    }
   },
   "outputs": [],
   "source": [
    "from qutip.ipynbtools import version_table\n",
    "\n",
    "version_table()"
   ]
  },
  {
   "cell_type": "code",
   "execution_count": null,
   "metadata": {
    "ExecuteTime": {
     "end_time": "2019-02-23T06:32:20.996912Z",
     "start_time": "2019-02-21T10:13:33.633Z"
    }
   },
   "outputs": [],
   "source": [
    "cnot()"
   ]
  },
  {
   "cell_type": "code",
   "execution_count": null,
   "metadata": {},
   "outputs": [],
   "source": []
  }
 ],
 "metadata": {
  "kernelspec": {
   "display_name": "Python 3",
   "language": "python",
   "name": "python3"
  },
  "language_info": {
   "codemirror_mode": {
    "name": "ipython",
    "version": 3
   },
   "file_extension": ".py",
   "mimetype": "text/x-python",
   "name": "python",
   "nbconvert_exporter": "python",
   "pygments_lexer": "ipython3",
   "version": "3.6.8"
  },
  "toc": {
   "base_numbering": 1,
   "nav_menu": {},
   "number_sections": true,
   "sideBar": true,
   "skip_h1_title": false,
   "title_cell": "Table of Contents",
   "title_sidebar": "Contents",
   "toc_cell": false,
   "toc_position": {
    "height": "calc(100% - 180px)",
    "left": "10px",
    "top": "150px",
    "width": "288px"
   },
   "toc_section_display": true,
   "toc_window_display": true
  },
  "varInspector": {
   "cols": {
    "lenName": 16,
    "lenType": 16,
    "lenVar": 40
   },
   "kernels_config": {
    "python": {
     "delete_cmd_postfix": "",
     "delete_cmd_prefix": "del ",
     "library": "var_list.py",
     "varRefreshCmd": "print(var_dic_list())"
    },
    "r": {
     "delete_cmd_postfix": ") ",
     "delete_cmd_prefix": "rm(",
     "library": "var_list.r",
     "varRefreshCmd": "cat(var_dic_list()) "
    }
   },
   "types_to_exclude": [
    "module",
    "function",
    "builtin_function_or_method",
    "instance",
    "_Feature"
   ],
   "window_display": false
  }
 },
 "nbformat": 4,
 "nbformat_minor": 2
}
