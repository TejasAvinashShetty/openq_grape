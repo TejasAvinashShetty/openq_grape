{
 "cells": [
  {
   "cell_type": "markdown",
   "metadata": {},
   "source": [
    "# Pristine GRAPE calculation of control fields for cnot implementation"
   ]
  },
  {
   "cell_type": "markdown",
   "metadata": {},
   "source": [
    "Robert Johansson (robert@riken.jp)"
   ]
  },
  {
   "cell_type": "code",
   "execution_count": 4,
   "metadata": {
    "ExecuteTime": {
     "end_time": "2019-01-30T11:28:56.915778Z",
     "start_time": "2019-01-30T11:28:56.910686Z"
    }
   },
   "outputs": [],
   "source": [
    "%matplotlib inline\n",
    "import matplotlib.pyplot as plt\n",
    "import time\n",
    "import numpy as np"
   ]
  },
  {
   "cell_type": "code",
   "execution_count": 5,
   "metadata": {
    "ExecuteTime": {
     "end_time": "2019-01-30T11:28:56.921851Z",
     "start_time": "2019-01-30T11:28:56.918506Z"
    }
   },
   "outputs": [],
   "source": [
    "from qutip import *\n",
    "from qutip.control import *"
   ]
  },
  {
   "cell_type": "code",
   "execution_count": 6,
   "metadata": {
    "ExecuteTime": {
     "end_time": "2019-01-30T11:28:56.928504Z",
     "start_time": "2019-01-30T11:28:56.924641Z"
    }
   },
   "outputs": [],
   "source": [
    "T = 2 * np.pi \n",
    "times = np.linspace(0, T, 500)"
   ]
  },
  {
   "cell_type": "code",
   "execution_count": 7,
   "metadata": {
    "ExecuteTime": {
     "end_time": "2019-01-30T11:28:56.943652Z",
     "start_time": "2019-01-30T11:28:56.930977Z"
    }
   },
   "outputs": [],
   "source": [
    "U = cnot()\n",
    "R = 500\n",
    "H_ops = [tensor(sigmax(), identity(2)),\n",
    "         tensor(sigmay(), identity(2)),\n",
    "         tensor(sigmaz(), identity(2)),\n",
    "         tensor(identity(2), sigmax()),\n",
    "         tensor(identity(2), sigmay()),\n",
    "         tensor(identity(2), sigmaz()),\n",
    "         tensor(sigmax(), sigmax()) +\n",
    "         tensor(sigmay(), sigmay()) +\n",
    "         tensor(sigmaz(), sigmaz())]\n",
    "\n",
    "H_labels = [r'$u_{1x}$', r'$u_{1y}$', r'$u_{1z}$',\n",
    "            r'$u_{2x}$', r'$u_{1y}$', r'$u_{2z}$',\n",
    "            r'$u_{xx}$',\n",
    "            r'$u_{yy}$',\n",
    "            r'$u_{zz}$',\n",
    "        ]"
   ]
  },
  {
   "cell_type": "markdown",
   "metadata": {},
   "source": [
    "$U = CNOT $   \n",
    "$H_{ops} = [\\sigma_{x} \\otimes Q, \\sigma_{y} \\otimes Q,  \\sigma_{z} \\otimes Q, Q \\otimes \\sigma_{x}, Q \\otimes \\sigma_{y}, Q \\otimes \\sigma_{z}, \\sigma_{x} \\otimes \\sigma_{x}, \\sigma_{y} \\otimes \\sigma_{y}, \\sigma_{z} \\otimes \\sigma_{z}, ] $\n"
   ]
  },
  {
   "cell_type": "code",
   "execution_count": 8,
   "metadata": {
    "ExecuteTime": {
     "end_time": "2019-01-30T11:28:56.974726Z",
     "start_time": "2019-01-30T11:28:56.969727Z"
    }
   },
   "outputs": [],
   "source": [
    "H0 = 0 * np.pi * (tensor(sigmax(), identity(2)) + tensor(identity(2), sigmax()))\n",
    "\n",
    "c_ops = []\n",
    "\n",
    "# This is the analytical result in the absense of single-qubit tunnelling\n",
    "#g = pi/(4 * T)\n",
    "#H = g * (tensor(sigmax(), sigmax()) + tensor(sigmay(), sigmay()))"
   ]
  },
  {
   "cell_type": "markdown",
   "metadata": {},
   "source": [
    "# GRAPE"
   ]
  },
  {
   "cell_type": "code",
   "execution_count": 9,
   "metadata": {
    "ExecuteTime": {
     "end_time": "2019-01-30T11:28:57.019768Z",
     "start_time": "2019-01-30T11:28:57.015792Z"
    }
   },
   "outputs": [],
   "source": [
    "from qutip.control.grape import plot_grape_control_fields, _overlap, grape_unitary_adaptive, cy_grape_unitary"
   ]
  },
  {
   "cell_type": "code",
   "execution_count": 10,
   "metadata": {
    "ExecuteTime": {
     "end_time": "2019-01-30T11:28:57.025699Z",
     "start_time": "2019-01-30T11:28:57.022167Z"
    }
   },
   "outputs": [],
   "source": [
    "from scipy.interpolate import interp1d\n",
    "from qutip.ui.progressbar import TextProgressBar"
   ]
  },
  {
   "cell_type": "code",
   "execution_count": 11,
   "metadata": {
    "ExecuteTime": {
     "end_time": "2019-01-30T11:28:57.132930Z",
     "start_time": "2019-01-30T11:28:57.030216Z"
    }
   },
   "outputs": [],
   "source": [
    "u0 = np.array([np.random.rand(len(times)) * 2 * np.pi * 0.05 for _ in range(len(H_ops))])\n",
    "\n",
    "u0 = [np.convolve(np.ones(10)/10, u0[idx,:], mode='same') for idx in range(len(H_ops))]\n",
    "\n",
    "u_limits = None #[0, 1 * 2 * pi]\n",
    "alpha = None"
   ]
  },
  {
   "cell_type": "code",
   "execution_count": null,
   "metadata": {
    "ExecuteTime": {
     "start_time": "2019-01-30T11:28:57.021Z"
    }
   },
   "outputs": [],
   "source": [
    "result = cy_grape_unitary(U, H0, H_ops, R, times, u_start=u0, u_limits=u_limits,\n",
    "                          eps=2*np.pi*1, alpha=alpha, phase_sensitive=False,\n",
    "                          progress_bar=TextProgressBar())"
   ]
  },
  {
   "cell_type": "raw",
   "metadata": {},
   "source": [
    "U_f, H_list_func, u = grape_unitary_adaptive(U, H0, H_ops, R, times, u_start=u0, u_limits=u_limits,\n",
    "                                    eps=2*pi*1, alpha=alpha, phase_sensitive=False,\n",
    "                                    overlap_terminate=0.9999,\n",
    "                                    progress_bar=TextProgressBar())"
   ]
  },
  {
   "cell_type": "markdown",
   "metadata": {},
   "source": [
    "## Plot control fields for cnot gate in the presense of single-qubit tunnelling"
   ]
  },
  {
   "cell_type": "code",
   "execution_count": null,
   "metadata": {
    "ExecuteTime": {
     "start_time": "2019-01-30T11:28:57.145Z"
    }
   },
   "outputs": [],
   "source": [
    "plot_grape_control_fields(times, result.u / (2 * np.pi), H_labels, uniform_axes=True);"
   ]
  },
  {
   "cell_type": "markdown",
   "metadata": {},
   "source": [
    "## Fidelity/overlap"
   ]
  },
  {
   "cell_type": "code",
   "execution_count": null,
   "metadata": {
    "ExecuteTime": {
     "start_time": "2019-01-30T11:28:57.210Z"
    }
   },
   "outputs": [],
   "source": [
    "U"
   ]
  },
  {
   "cell_type": "code",
   "execution_count": null,
   "metadata": {
    "ExecuteTime": {
     "start_time": "2019-01-30T11:28:57.220Z"
    }
   },
   "outputs": [],
   "source": [
    "result.U_f"
   ]
  },
  {
   "cell_type": "code",
   "execution_count": null,
   "metadata": {
    "ExecuteTime": {
     "start_time": "2019-01-30T11:28:57.232Z"
    }
   },
   "outputs": [],
   "source": [
    "result.U_f/result.U_f[0,0]"
   ]
  },
  {
   "cell_type": "code",
   "execution_count": null,
   "metadata": {
    "ExecuteTime": {
     "start_time": "2019-01-30T11:28:57.235Z"
    }
   },
   "outputs": [],
   "source": [
    "_overlap(U, result.U_f).real, abs(_overlap(U, result.U_f)) ** 2"
   ]
  },
  {
   "cell_type": "markdown",
   "metadata": {},
   "source": [
    "## Test numerical integration of GRAPE pulse"
   ]
  },
  {
   "cell_type": "code",
   "execution_count": null,
   "metadata": {
    "ExecuteTime": {
     "start_time": "2019-01-30T11:28:57.301Z"
    }
   },
   "outputs": [],
   "source": [
    "U_f_numerical = propagator(result.H_t, times[-1], [], options=Odeoptions(nsteps=5000), args={})\n",
    "U_f_numerical"
   ]
  },
  {
   "cell_type": "code",
   "execution_count": null,
   "metadata": {
    "ExecuteTime": {
     "start_time": "2019-01-30T11:28:57.306Z"
    }
   },
   "outputs": [],
   "source": [
    "U_f_numerical / U_f_numerical[0,0]"
   ]
  },
  {
   "cell_type": "code",
   "execution_count": null,
   "metadata": {
    "ExecuteTime": {
     "start_time": "2019-01-30T11:28:57.307Z"
    }
   },
   "outputs": [],
   "source": [
    "_overlap(result.U_f, U_f_numerical).real, abs(_overlap(result.U_f, U_f_numerical))**2"
   ]
  },
  {
   "cell_type": "markdown",
   "metadata": {},
   "source": [
    "# Process tomography"
   ]
  },
  {
   "cell_type": "markdown",
   "metadata": {},
   "source": [
    "## Ideal cnot gate"
   ]
  },
  {
   "cell_type": "code",
   "execution_count": null,
   "metadata": {
    "ExecuteTime": {
     "start_time": "2019-01-30T11:28:57.408Z"
    }
   },
   "outputs": [],
   "source": [
    "op_basis = [[qeye(2), sigmax(), sigmay(), sigmaz()]] * 2\n",
    "op_label = [[\"i\", \"x\", \"y\", \"z\"]] * 2"
   ]
  },
  {
   "cell_type": "code",
   "execution_count": null,
   "metadata": {
    "ExecuteTime": {
     "start_time": "2019-01-30T11:28:57.410Z"
    }
   },
   "outputs": [],
   "source": [
    "fig = plt.figure(figsize=(12,6))\n",
    "\n",
    "U_i_s = to_super(U)\n",
    "\n",
    "chi = qpt(U_i_s, op_basis)\n",
    "\n",
    "fig = qpt_plot_combined(chi, op_label, fig=fig, threshold=0.001)"
   ]
  },
  {
   "cell_type": "markdown",
   "metadata": {},
   "source": [
    "## cnot gate calculated using GRAPE"
   ]
  },
  {
   "cell_type": "code",
   "execution_count": null,
   "metadata": {
    "ExecuteTime": {
     "start_time": "2019-01-30T11:28:57.457Z"
    }
   },
   "outputs": [],
   "source": [
    "fig = plt.figure(figsize=(12,6))\n",
    "\n",
    "U_f_s = to_super(result.U_f)\n",
    "\n",
    "chi = qpt(U_f_s, op_basis)\n",
    "\n",
    "fig = qpt_plot_combined(chi, op_label, fig=fig, threshold=0.001)"
   ]
  },
  {
   "cell_type": "markdown",
   "metadata": {},
   "source": [
    "## Versions"
   ]
  },
  {
   "cell_type": "code",
   "execution_count": null,
   "metadata": {
    "ExecuteTime": {
     "start_time": "2019-01-30T11:28:57.505Z"
    }
   },
   "outputs": [],
   "source": [
    "from qutip.ipynbtools import version_table\n",
    "\n",
    "version_table()"
   ]
  },
  {
   "cell_type": "code",
   "execution_count": null,
   "metadata": {},
   "outputs": [],
   "source": []
  }
 ],
 "metadata": {
  "kernelspec": {
   "display_name": "Python 3",
   "language": "python",
   "name": "python3"
  },
  "language_info": {
   "codemirror_mode": {
    "name": "ipython",
    "version": 3
   },
   "file_extension": ".py",
   "mimetype": "text/x-python",
   "name": "python",
   "nbconvert_exporter": "python",
   "pygments_lexer": "ipython3",
   "version": "3.6.8"
  },
  "toc": {
   "base_numbering": 1,
   "nav_menu": {},
   "number_sections": true,
   "sideBar": true,
   "skip_h1_title": false,
   "title_cell": "Table of Contents",
   "title_sidebar": "Contents",
   "toc_cell": false,
   "toc_position": {},
   "toc_section_display": true,
   "toc_window_display": false
  }
 },
 "nbformat": 4,
 "nbformat_minor": 1
}
