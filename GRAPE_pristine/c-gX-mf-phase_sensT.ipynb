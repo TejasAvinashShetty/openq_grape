{
 "cells": [
  {
   "cell_type": "markdown",
   "metadata": {},
   "source": [
    "# Pristine GRAPE calculation of control fields for cnot implementation"
   ]
  },
  {
   "cell_type": "markdown",
   "metadata": {},
   "source": [
    "Robert Johansson (robert@riken.jp)"
   ]
  },
  {
   "cell_type": "code",
   "execution_count": 1,
   "metadata": {
    "ExecuteTime": {
     "end_time": "2019-02-14T06:58:06.588741Z",
     "start_time": "2019-02-14T06:58:06.303451Z"
    }
   },
   "outputs": [],
   "source": [
    "%matplotlib inline\n",
    "import matplotlib.pyplot as plt\n",
    "import time\n",
    "import numpy as np"
   ]
  },
  {
   "cell_type": "code",
   "execution_count": 2,
   "metadata": {
    "ExecuteTime": {
     "end_time": "2019-02-14T06:58:07.355587Z",
     "start_time": "2019-02-14T06:58:06.590620Z"
    }
   },
   "outputs": [],
   "source": [
    "from qutip import *\n",
    "from qutip.control import *"
   ]
  },
  {
   "cell_type": "code",
   "execution_count": 3,
   "metadata": {
    "ExecuteTime": {
     "end_time": "2019-02-14T06:58:07.362294Z",
     "start_time": "2019-02-14T06:58:07.357511Z"
    }
   },
   "outputs": [],
   "source": [
    "T = 2 * np.pi \n",
    "times = np.linspace(0, T, 500)"
   ]
  },
  {
   "cell_type": "code",
   "execution_count": 4,
   "metadata": {
    "ExecuteTime": {
     "end_time": "2019-02-14T06:58:07.371852Z",
     "start_time": "2019-02-14T06:58:07.364671Z"
    }
   },
   "outputs": [
    {
     "data": {
      "text/plain": [
       "6.283185307179586"
      ]
     },
     "execution_count": 4,
     "metadata": {},
     "output_type": "execute_result"
    }
   ],
   "source": [
    "T"
   ]
  },
  {
   "cell_type": "markdown",
   "metadata": {},
   "source": [
    "\"\"\"\n",
    "    Class for representing the result of a GRAPE simulation.\n",
    "\n",
    "    Attributes\n",
    "    ----------\n",
    "    u : array\n",
    "        GRAPE control pulse matrix.\n",
    "\n",
    "    H_t : time-dependent Hamiltonian\n",
    "        The time-dependent Hamiltonian that realize the GRAPE pulse sequence.\n",
    "\n",
    "    U_f : Qobj\n",
    "        The final unitary transformation that is realized by the evolution\n",
    "        of the system with the GRAPE generated pulse sequences.\n",
    "    \n",
    "    \"\"\""
   ]
  },
  {
   "cell_type": "code",
   "execution_count": 5,
   "metadata": {
    "ExecuteTime": {
     "end_time": "2019-02-14T06:58:07.379279Z",
     "start_time": "2019-02-14T06:58:07.374264Z"
    }
   },
   "outputs": [],
   "source": [
    "U = sigmax()\n",
    "R = 500\n",
    "H_ops = [sigmay()]\n",
    "H_labels = [r'$u_{y}$']"
   ]
  },
  {
   "cell_type": "markdown",
   "metadata": {},
   "source": [
    "$U = \\sigma_{x} $   \n",
    "$H_{ops} = [\\sigma_{y} ] $\n"
   ]
  },
  {
   "cell_type": "code",
   "execution_count": 6,
   "metadata": {
    "ExecuteTime": {
     "end_time": "2019-02-14T06:58:07.386329Z",
     "start_time": "2019-02-14T06:58:07.381455Z"
    }
   },
   "outputs": [],
   "source": [
    "omega_1 = 0.5\n",
    "H0 =  omega_1 * sigmaz()\n",
    "\n",
    "c_ops = []"
   ]
  },
  {
   "cell_type": "markdown",
   "metadata": {},
   "source": [
    "# GRAPE"
   ]
  },
  {
   "cell_type": "code",
   "execution_count": 7,
   "metadata": {
    "ExecuteTime": {
     "end_time": "2019-02-14T06:58:07.392539Z",
     "start_time": "2019-02-14T06:58:07.388896Z"
    }
   },
   "outputs": [],
   "source": [
    "from qutip.control.grape import plot_grape_control_fields, _overlap, grape_unitary_adaptive, cy_grape_unitary"
   ]
  },
  {
   "cell_type": "code",
   "execution_count": 8,
   "metadata": {
    "ExecuteTime": {
     "end_time": "2019-02-14T06:58:07.397666Z",
     "start_time": "2019-02-14T06:58:07.394704Z"
    }
   },
   "outputs": [],
   "source": [
    "from scipy.interpolate import interp1d\n",
    "from qutip.ui.progressbar import TextProgressBar"
   ]
  },
  {
   "cell_type": "code",
   "execution_count": 9,
   "metadata": {
    "ExecuteTime": {
     "end_time": "2019-02-14T06:58:07.577737Z",
     "start_time": "2019-02-14T06:58:07.400656Z"
    }
   },
   "outputs": [],
   "source": [
    "u0 = np.array([np.random.rand(len(times)) * 2 * np.pi * 0.05 for _ in range(len(H_ops))])\n",
    "\n",
    "u0 = [np.convolve(np.ones(10)/10, u0[idx,:], mode='same') for idx in range(len(H_ops))]\n",
    "\n",
    "u_limits = None #[0, 1 * 2 * pi]\n",
    "alpha = None"
   ]
  },
  {
   "cell_type": "code",
   "execution_count": 10,
   "metadata": {
    "ExecuteTime": {
     "end_time": "2019-02-14T07:04:53.410017Z",
     "start_time": "2019-02-14T06:58:07.579789Z"
    }
   },
   "outputs": [
    {
     "name": "stdout",
     "output_type": "stream",
     "text": [
      "10.0%. Run time:  40.69s. Est. time left: 00:00:06:06\n",
      "20.0%. Run time:  81.51s. Est. time left: 00:00:05:26\n",
      "30.0%. Run time: 121.88s. Est. time left: 00:00:04:44\n",
      "40.0%. Run time: 162.64s. Est. time left: 00:00:04:03\n",
      "50.0%. Run time: 203.13s. Est. time left: 00:00:03:23\n",
      "60.0%. Run time: 243.80s. Est. time left: 00:00:02:42\n",
      "70.0%. Run time: 284.56s. Est. time left: 00:00:02:01\n",
      "80.0%. Run time: 325.58s. Est. time left: 00:00:01:21\n",
      "90.0%. Run time: 366.03s. Est. time left: 00:00:00:40\n",
      "Total run time: 405.82s\n"
     ]
    }
   ],
   "source": [
    "result = cy_grape_unitary(U, H0, H_ops, R, times, u_start=u0, u_limits=u_limits,\n",
    "                          eps=2*np.pi*1, alpha=alpha, phase_sensitive=True,\n",
    "                          progress_bar=TextProgressBar())"
   ]
  },
  {
   "cell_type": "raw",
   "metadata": {},
   "source": [
    "U_f, H_list_func, u = grape_unitary_adaptive(U, H0, \n",
    "H_ops, R, times,u_start=u0, u_limits=u_limits, eps=2*pi*1, \n",
    "alpha=alpha, phase_sensitive=False, overlap_terminate=0.9999,\n",
    "progress_bar=TextProgressBar())\n"
   ]
  },
  {
   "cell_type": "markdown",
   "metadata": {},
   "source": [
    "## Plot control fields for cnot gate in the presense of single-qubit tunnelling"
   ]
  },
  {
   "cell_type": "markdown",
   "metadata": {},
   "source": [
    "plot_grape_control_fields(times, u, labels, uniform_axes=False):\n",
    "    \"\"\"\n",
    "    Plot a series of plots showing the GRAPE control fields given in the\n",
    "    given control pulse matrix u.\n",
    "\n",
    "    Parameters\n",
    "    ----------\n",
    "    times : array\n",
    "        Time coordinate array.\n",
    "\n",
    "    u : array\n",
    "        Control pulse matrix.\n",
    "\n",
    "    labels : list\n",
    "        List of labels for each control pulse sequence in the control pulse\n",
    "        matrix.\n",
    "\n",
    "    uniform_axes : bool\n",
    "        Whether or not to plot all pulse sequences using the same y-axis scale.\n",
    "    \n",
    "    \"\"\""
   ]
  },
  {
   "cell_type": "code",
   "execution_count": 11,
   "metadata": {
    "ExecuteTime": {
     "end_time": "2019-02-14T07:04:55.183304Z",
     "start_time": "2019-02-14T07:04:53.412411Z"
    }
   },
   "outputs": [
    {
     "data": {
      "image/png": "[encoded data removed]",
      "text/plain": [
       "<Figure size 576x144 with 1 Axes>"
      ]
     },
     "metadata": {},
     "output_type": "display_data"
    }
   ],
   "source": [
    "plot_grape_control_fields(times,\n",
    "                          result.u / (2 * np.pi), H_labels, uniform_axes=True);"
   ]
  },
  {
   "cell_type": "markdown",
   "metadata": {},
   "source": [
    "## Fidelity/overlap"
   ]
  },
  {
   "cell_type": "code",
   "execution_count": 12,
   "metadata": {
    "ExecuteTime": {
     "end_time": "2019-02-14T07:04:55.190860Z",
     "start_time": "2019-02-14T07:04:55.185521Z"
    }
   },
   "outputs": [
    {
     "data": {
      "text/latex": [
       "Quantum object: dims = [[2], [2]], shape = (2, 2), type = oper, isherm = True\\begin{equation*}\\left(\\begin{array}{*{11}c}0.0 & 1.0\\\\1.0 & 0.0\\\\\\end{array}\\right)\\end{equation*}"
      ],
      "text/plain": [
       "Quantum object: dims = [[2], [2]], shape = (2, 2), type = oper, isherm = True\n",
       "Qobj data =\n",
       "[[0. 1.]\n",
       " [1. 0.]]"
      ]
     },
     "execution_count": 12,
     "metadata": {},
     "output_type": "execute_result"
    }
   ],
   "source": [
    "U"
   ]
  },
  {
   "cell_type": "code",
   "execution_count": 13,
   "metadata": {
    "ExecuteTime": {
     "end_time": "2019-02-14T07:04:55.199009Z",
     "start_time": "2019-02-14T07:04:55.193111Z"
    }
   },
   "outputs": [
    {
     "data": {
      "text/latex": [
       "Quantum object: dims = [[2], [2]], shape = (2, 2), type = oper, isherm = False\\begin{equation*}\\left(\\begin{array}{*{11}c}(-0.987+0.160j) & (0.027+0.004j)\\\\(-0.027+0.004j) & (-0.987-0.160j)\\\\\\end{array}\\right)\\end{equation*}"
      ],
      "text/plain": [
       "Quantum object: dims = [[2], [2]], shape = (2, 2), type = oper, isherm = False\n",
       "Qobj data =\n",
       "[[-0.98676906+0.15977001j  0.02720972+0.00447186j]\n",
       " [-0.02720972+0.00447186j -0.98676906-0.15977001j]]"
      ]
     },
     "execution_count": 13,
     "metadata": {},
     "output_type": "execute_result"
    }
   ],
   "source": [
    "result.U_f"
   ]
  },
  {
   "cell_type": "code",
   "execution_count": 14,
   "metadata": {
    "ExecuteTime": {
     "end_time": "2019-02-14T07:04:55.207346Z",
     "start_time": "2019-02-14T07:04:55.201328Z"
    }
   },
   "outputs": [
    {
     "data": {
      "text/latex": [
       "Quantum object: dims = [[2], [2]], shape = (2, 2), type = oper, isherm = False\\begin{equation*}\\left(\\begin{array}{*{11}c}(0.160+0.987j) & (0.004-0.027j)\\\\(0.004+0.027j) & (-0.160+0.987j)\\\\\\end{array}\\right)\\end{equation*}"
      ],
      "text/plain": [
       "Quantum object: dims = [[2], [2]], shape = (2, 2), type = oper, isherm = False\n",
       "Qobj data =\n",
       "[[ 0.15977001+0.98676906j  0.00447186-0.02720972j]\n",
       " [ 0.00447186+0.02720972j -0.15977001+0.98676906j]]"
      ]
     },
     "execution_count": 14,
     "metadata": {},
     "output_type": "execute_result"
    }
   ],
   "source": [
    "result.U_f/1j"
   ]
  },
  {
   "cell_type": "code",
   "execution_count": 15,
   "metadata": {
    "ExecuteTime": {
     "end_time": "2019-02-14T07:04:55.397744Z",
     "start_time": "2019-02-14T07:04:55.209739Z"
    }
   },
   "outputs": [
    {
     "data": {
      "text/plain": [
       "(<Figure size 576x432 with 2 Axes>,\n",
       " <matplotlib.axes._subplots.AxesSubplot at 0x1a2127a0b8>)"
      ]
     },
     "execution_count": 15,
     "metadata": {},
     "output_type": "execute_result"
    },
    {
     "data": {
      "image/png": "[encoded data removed]",
      "text/plain": [
       "<Figure size 576x432 with 2 Axes>"
      ]
     },
     "metadata": {},
     "output_type": "display_data"
    }
   ],
   "source": [
    "hinton(result.U_f/1j)"
   ]
  },
  {
   "cell_type": "code",
   "execution_count": 16,
   "metadata": {
    "ExecuteTime": {
     "end_time": "2019-02-14T07:04:55.590478Z",
     "start_time": "2019-02-14T07:04:55.400003Z"
    }
   },
   "outputs": [
    {
     "data": {
      "text/plain": [
       "(<Figure size 576x432 with 2 Axes>,\n",
       " <matplotlib.axes._subplots.AxesSubplot at 0x1a2130e4a8>)"
      ]
     },
     "execution_count": 16,
     "metadata": {},
     "output_type": "execute_result"
    },
    {
     "data": {
      "image/png": "[encoded data removed]",
      "text/plain": [
       "<Figure size 576x432 with 2 Axes>"
      ]
     },
     "metadata": {},
     "output_type": "display_data"
    }
   ],
   "source": [
    "hinton(result.U_f)"
   ]
  },
  {
   "cell_type": "code",
   "execution_count": 17,
   "metadata": {
    "ExecuteTime": {
     "end_time": "2019-02-14T07:04:55.598342Z",
     "start_time": "2019-02-14T07:04:55.592563Z"
    }
   },
   "outputs": [
    {
     "data": {
      "text/latex": [
       "Quantum object: dims = [[2], [2]], shape = (2, 2), type = oper, isherm = True\\begin{equation*}\\left(\\begin{array}{*{11}c}0.500 & 0.0\\\\0.0 & -0.500\\\\\\end{array}\\right)\\end{equation*}"
      ],
      "text/plain": [
       "Quantum object: dims = [[2], [2]], shape = (2, 2), type = oper, isherm = True\n",
       "Qobj data =\n",
       "[[ 0.5  0. ]\n",
       " [ 0.  -0.5]]"
      ]
     },
     "execution_count": 17,
     "metadata": {},
     "output_type": "execute_result"
    }
   ],
   "source": [
    "result.H_t[0]"
   ]
  },
  {
   "cell_type": "code",
   "execution_count": 18,
   "metadata": {
    "ExecuteTime": {
     "end_time": "2019-02-14T07:04:55.609341Z",
     "start_time": "2019-02-14T07:04:55.600196Z"
    }
   },
   "outputs": [
    {
     "data": {
      "text/plain": [
       "[Quantum object: dims = [[2], [2]], shape = (2, 2), type = oper, isherm = True\n",
       " Qobj data =\n",
       " [[0.+0.j 0.-1.j]\n",
       "  [0.+1.j 0.+0.j]],\n",
       " array([0.0490166 , 0.07407331, 0.10295165, 0.13377211, 0.16212405,\n",
       "        0.18876499, 0.19707723, 0.21929866, 0.23336211, 0.21313667,\n",
       "        0.2173401 , 0.20277326, 0.18916689, 0.17681495, 0.16477132,\n",
       "        0.14111555, 0.13007859, 0.13462039, 0.11846277, 0.12425952,\n",
       "        0.13606705, 0.13909066, 0.14768612, 0.13803872, 0.14884598,\n",
       "        0.1566339 , 0.16499759, 0.13877329, 0.15622705, 0.16308009,\n",
       "        0.14727327, 0.16071544, 0.1627953 , 0.18412784, 0.15858426,\n",
       "        0.15397307, 0.16870518, 0.19555837, 0.18522066, 0.18248431,\n",
       "        0.1938177 , 0.16841547, 0.16818617, 0.15386083, 0.16012831,\n",
       "        0.16960594, 0.14864352, 0.14968464, 0.14841248, 0.13725437,\n",
       "        0.13574534, 0.1492244 , 0.13917754, 0.13104315, 0.13076466,\n",
       "        0.12208635, 0.11908079, 0.09042814, 0.09158315, 0.09405663,\n",
       "        0.08822078, 0.09678564, 0.10455382, 0.10049279, 0.11801597,\n",
       "        0.12248866, 0.14694199, 0.15343512, 0.17019215, 0.17259179,\n",
       "        0.1804393 , 0.18710611, 0.18794328, 0.21567839, 0.19847586,\n",
       "        0.21354086, 0.20567087, 0.21433495, 0.19284947, 0.20216658,\n",
       "        0.18590376, 0.16927549, 0.16351994, 0.16229624, 0.1639434 ,\n",
       "        0.16260219, 0.16664382, 0.16309614, 0.1842639 , 0.17181614,\n",
       "        0.19365904, 0.2096449 , 0.21136169, 0.20276844, 0.2212055 ,\n",
       "        0.21798942, 0.22523707, 0.2186846 , 0.19888957, 0.1989681 ,\n",
       "        0.18009262, 0.16963993, 0.15958783, 0.14670536, 0.14073086,\n",
       "        0.13097776, 0.12118795, 0.13791926, 0.13642024, 0.14027177,\n",
       "        0.13874384, 0.12266495, 0.11958703, 0.1410318 , 0.13593744,\n",
       "        0.12397333, 0.11785458, 0.1225195 , 0.14679499, 0.16835369,\n",
       "        0.18553976, 0.19291842, 0.20603422, 0.18496539, 0.19620189,\n",
       "        0.22687953, 0.22547271, 0.22184099, 0.21547443, 0.20514465,\n",
       "        0.18825905, 0.18332858, 0.17016982, 0.18144279, 0.16542807,\n",
       "        0.13964993, 0.15026917, 0.14804262, 0.14012592, 0.13850204,\n",
       "        0.12803656, 0.13186049, 0.12736557, 0.11519596, 0.10743893,\n",
       "        0.12704527, 0.11052514, 0.11660336, 0.12329034, 0.11065831,\n",
       "        0.13221692, 0.13546795, 0.13842585, 0.14546571, 0.16474192,\n",
       "        0.15162081, 0.15355805, 0.15192352, 0.14801671, 0.17099311,\n",
       "        0.15505791, 0.14381232, 0.16324256, 0.17538805, 0.15947439,\n",
       "        0.14890733, 0.16273173, 0.15798507, 0.1636551 , 0.13489098,\n",
       "        0.13576406, 0.15704535, 0.15885922, 0.13778001, 0.13393223,\n",
       "        0.14986441, 0.13196987, 0.12313926, 0.11487371, 0.12170382,\n",
       "        0.13051669, 0.12107986, 0.1078494 , 0.11556715, 0.13040084,\n",
       "        0.11851683, 0.1409008 , 0.150005  , 0.16734764, 0.18794034,\n",
       "        0.18117909, 0.18664987, 0.18502804, 0.19435071, 0.19842012,\n",
       "        0.19403945, 0.19335102, 0.17445737, 0.1614208 , 0.16001377,\n",
       "        0.15186223, 0.16385885, 0.1762877 , 0.18343217, 0.18419025,\n",
       "        0.20107593, 0.17966039, 0.19052989, 0.19664067, 0.19532125,\n",
       "        0.21607259, 0.20726572, 0.18411804, 0.18227148, 0.16200906,\n",
       "        0.17095077, 0.19201456, 0.18963455, 0.19574127, 0.195663  ,\n",
       "        0.18315318, 0.18263448, 0.19779215, 0.19265939, 0.20342341,\n",
       "        0.19916806, 0.2017354 , 0.21195187, 0.20906326, 0.18731955,\n",
       "        0.19382589, 0.20160132, 0.19216397, 0.18645589, 0.18663983,\n",
       "        0.18927646, 0.16836352, 0.17303228, 0.17537308, 0.18572495,\n",
       "        0.18913067, 0.18120048, 0.17568977, 0.18896044, 0.18909387,\n",
       "        0.17698398, 0.19505397, 0.1944358 , 0.1947156 , 0.20020124,\n",
       "        0.21164021, 0.22111566, 0.24541195, 0.2453594 , 0.24804015,\n",
       "        0.23916956, 0.24397524, 0.23568121, 0.23010639, 0.21604755,\n",
       "        0.20640836, 0.19025471, 0.18537576, 0.15661968, 0.14720638,\n",
       "        0.1708668 , 0.16640108, 0.15099251, 0.15732609, 0.18262434,\n",
       "        0.17308343, 0.17061811, 0.15164251, 0.16091401, 0.1566928 ,\n",
       "        0.15071808, 0.13436998, 0.14190566, 0.11299373, 0.08719009,\n",
       "        0.08340332, 0.09790542, 0.12032032, 0.11506832, 0.12659287,\n",
       "        0.10726223, 0.12821006, 0.12154627, 0.14853532, 0.16626243,\n",
       "        0.17228101, 0.16273003, 0.16635647, 0.18143934, 0.19303479,\n",
       "        0.21070658, 0.20355959, 0.2037653 , 0.20428141, 0.20507885,\n",
       "        0.19273703, 0.18578634, 0.18821338, 0.19002536, 0.18247537,\n",
       "        0.17510883, 0.18243428, 0.19205702, 0.16497455, 0.16032578,\n",
       "        0.16803275, 0.18295989, 0.18309946, 0.17497339, 0.1621818 ,\n",
       "        0.153959  , 0.13222284, 0.14636738, 0.15612378, 0.14571459,\n",
       "        0.1398437 , 0.11492154, 0.08534107, 0.07343482, 0.09543096,\n",
       "        0.11801479, 0.1228843 , 0.11906206, 0.11844633, 0.11515434,\n",
       "        0.13616858, 0.14387789, 0.15780748, 0.16585569, 0.15891808,\n",
       "        0.1373402 , 0.14360531, 0.14736163, 0.15711218, 0.16726142,\n",
       "        0.14412689, 0.15389236, 0.16026664, 0.17602843, 0.18304111,\n",
       "        0.1932188 , 0.18672988, 0.19016589, 0.19382294, 0.17902149,\n",
       "        0.17861667, 0.17137165, 0.16230342, 0.14996629, 0.1235989 ,\n",
       "        0.13734118, 0.14768319, 0.12270072, 0.11073455, 0.13257595,\n",
       "        0.16323335, 0.16412932, 0.1621163 , 0.16398819, 0.18453185,\n",
       "        0.17001684, 0.14686018, 0.17270543, 0.18957392, 0.17624882,\n",
       "        0.1519903 , 0.15477963, 0.17499367, 0.18122573, 0.16462047,\n",
       "        0.16260397, 0.17677087, 0.16559856, 0.14031559, 0.14020984,\n",
       "        0.15861416, 0.15103836, 0.14846022, 0.14809097, 0.16726585,\n",
       "        0.16620253, 0.17070696, 0.15408587, 0.16355633, 0.18355235,\n",
       "        0.16841911, 0.18351994, 0.15944744, 0.14881608, 0.13744965,\n",
       "        0.15158373, 0.1339538 , 0.15121733, 0.16307294, 0.15721182,\n",
       "        0.17798889, 0.17463048, 0.20232962, 0.19192578, 0.18964268,\n",
       "        0.17144969, 0.18804695, 0.17320763, 0.15466958, 0.15809389,\n",
       "        0.13492078, 0.1453952 , 0.14183561, 0.1681926 , 0.16239291,\n",
       "        0.15621433, 0.14082746, 0.14178394, 0.16184633, 0.14934714,\n",
       "        0.15809991, 0.16003909, 0.14113928, 0.12882789, 0.12947282,\n",
       "        0.13039589, 0.1424656 , 0.15754584, 0.14007358, 0.13525927,\n",
       "        0.13067202, 0.10673691, 0.12758445, 0.11716843, 0.13643171,\n",
       "        0.15543244, 0.16645654, 0.1705201 , 0.16358039, 0.17670461,\n",
       "        0.19276009, 0.20561521, 0.18740409, 0.20653948, 0.2108362 ,\n",
       "        0.20631208, 0.20978509, 0.19692814, 0.21146992, 0.20723707,\n",
       "        0.20326016, 0.21132221, 0.20124764, 0.18262878, 0.17056898,\n",
       "        0.15651863, 0.15154798, 0.14447216, 0.15290844, 0.15583688,\n",
       "        0.15436788, 0.1525792 , 0.15883144, 0.17488406, 0.1655659 ,\n",
       "        0.18940395, 0.16577303, 0.16672049, 0.1579906 , 0.14195557,\n",
       "        0.1241401 , 0.12077516, 0.11574478, 0.11336231, 0.121511  ,\n",
       "        0.09536292, 0.10674929, 0.11705345, 0.10751399, 0.11234019,\n",
       "        0.12770225, 0.12971881, 0.15704645, 0.1465411 , 0.1464469 ,\n",
       "        0.16389382, 0.16389511, 0.16294517, 0.17033233, 0.17980365,\n",
       "        0.1782331 , 0.17626453, 0.17090848, 0.16677599, 0.17708969,\n",
       "        0.17504476, 0.16196749, 0.14604496, 0.13199433, 0.13199433])]"
      ]
     },
     "execution_count": 18,
     "metadata": {},
     "output_type": "execute_result"
    }
   ],
   "source": [
    "result.H_t[1]"
   ]
  },
  {
   "cell_type": "code",
   "execution_count": 19,
   "metadata": {
    "ExecuteTime": {
     "end_time": "2019-02-14T07:04:55.616765Z",
     "start_time": "2019-02-14T07:04:55.611916Z"
    }
   },
   "outputs": [
    {
     "data": {
      "text/plain": [
       "array([[[0.0490166 , 0.07407331, 0.10295165, ..., 0.14604496,\n",
       "         0.13199433, 0.11273802]],\n",
       "\n",
       "       [[0.0490166 , 0.07407331, 0.10295165, ..., 0.14604496,\n",
       "         0.13199433, 0.13199433]],\n",
       "\n",
       "       [[0.0490166 , 0.07407331, 0.10295165, ..., 0.14604496,\n",
       "         0.13199433, 0.13199433]],\n",
       "\n",
       "       ...,\n",
       "\n",
       "       [[0.0490166 , 0.07407331, 0.10295165, ..., 0.14604496,\n",
       "         0.13199433, 0.13199433]],\n",
       "\n",
       "       [[0.0490166 , 0.07407331, 0.10295165, ..., 0.14604496,\n",
       "         0.13199433, 0.13199433]],\n",
       "\n",
       "       [[0.0490166 , 0.07407331, 0.10295165, ..., 0.14604496,\n",
       "         0.13199433, 0.13199433]]])"
      ]
     },
     "execution_count": 19,
     "metadata": {},
     "output_type": "execute_result"
    }
   ],
   "source": [
    "result.u"
   ]
  },
  {
   "cell_type": "markdown",
   "metadata": {},
   "source": [
    "## Test numerical integration of GRAPE pulse"
   ]
  },
  {
   "cell_type": "code",
   "execution_count": 20,
   "metadata": {
    "ExecuteTime": {
     "end_time": "2019-02-14T07:04:59.683311Z",
     "start_time": "2019-02-14T07:04:55.619145Z"
    }
   },
   "outputs": [
    {
     "data": {
      "text/latex": [
       "Quantum object: dims = [[2], [2]], shape = (2, 2), type = oper, isherm = False\\begin{equation*}\\left(\\begin{array}{*{11}c}(-0.998+0.025j) & (0.003-0.049j)\\\\(-0.003-0.049j) & (-0.998-0.025j)\\\\\\end{array}\\right)\\end{equation*}"
      ],
      "text/plain": [
       "Quantum object: dims = [[2], [2]], shape = (2, 2), type = oper, isherm = False\n",
       "Qobj data =\n",
       "[[-0.99847804+0.02450957j  0.00277707-0.04932724j]\n",
       " [-0.00277707-0.04932724j -0.99847804-0.02450957j]]"
      ]
     },
     "execution_count": 20,
     "metadata": {},
     "output_type": "execute_result"
    }
   ],
   "source": [
    "U_f_numerical = propagator(\n",
    "    result.H_t, times[-1], [], options=Odeoptions(nsteps=5000), args={})\n",
    "U_f_numerical"
   ]
  },
  {
   "cell_type": "code",
   "execution_count": 21,
   "metadata": {
    "ExecuteTime": {
     "end_time": "2019-02-14T07:04:59.694561Z",
     "start_time": "2019-02-14T07:04:59.686696Z"
    }
   },
   "outputs": [
    {
     "data": {
      "text/latex": [
       "Quantum object: dims = [[2], [2]], shape = (2, 2), type = oper, isherm = False\\begin{equation*}\\left(\\begin{array}{*{11}c}1.000 & (-0.004+0.049j)\\\\(0.002+0.049j) & (0.999+0.049j)\\\\\\end{array}\\right)\\end{equation*}"
      ],
      "text/plain": [
       "Quantum object: dims = [[2], [2]], shape = (2, 2), type = oper, isherm = False\n",
       "Qobj data =\n",
       "[[ 1.        +0.j         -0.00399157+0.04930445j]\n",
       " [ 0.00156768+0.04944091j  0.99879562+0.04906429j]]"
      ]
     },
     "execution_count": 21,
     "metadata": {},
     "output_type": "execute_result"
    }
   ],
   "source": [
    "U_f_numerical / U_f_numerical[0,0]"
   ]
  },
  {
   "cell_type": "code",
   "execution_count": 22,
   "metadata": {
    "ExecuteTime": {
     "end_time": "2019-02-14T07:04:59.704283Z",
     "start_time": "2019-02-14T07:04:59.697490Z"
    }
   },
   "outputs": [
    {
     "data": {
      "text/plain": [
       "(0.9890381067559504, 0.9781963766153947)"
      ]
     },
     "execution_count": 22,
     "metadata": {},
     "output_type": "execute_result"
    }
   ],
   "source": [
    "_overlap(result.U_f, U_f_numerical).real, abs(_overlap(result.U_f, U_f_numerical))**2"
   ]
  },
  {
   "cell_type": "markdown",
   "metadata": {},
   "source": [
    "# Imports"
   ]
  },
  {
   "cell_type": "markdown",
   "metadata": {},
   "source": [
    "Need to have jate.py in your folder"
   ]
  },
  {
   "cell_type": "code",
   "execution_count": 23,
   "metadata": {
    "ExecuteTime": {
     "end_time": "2019-02-14T07:05:00.288521Z",
     "start_time": "2019-02-14T07:04:59.706905Z"
    }
   },
   "outputs": [
    {
     "data": {
      "text/plain": [
       "<Figure size 432x288 with 0 Axes>"
      ]
     },
     "metadata": {},
     "output_type": "display_data"
    }
   ],
   "source": [
    "%run jate.py #will import everything"
   ]
  },
  {
   "cell_type": "markdown",
   "metadata": {},
   "source": [
    "## My code "
   ]
  },
  {
   "cell_type": "markdown",
   "metadata": {},
   "source": [
    "## Building parts"
   ]
  },
  {
   "cell_type": "markdown",
   "metadata": {},
   "source": [
    "### Building the things to be calculated only once"
   ]
  },
  {
   "cell_type": "code",
   "execution_count": 24,
   "metadata": {
    "ExecuteTime": {
     "end_time": "2019-02-14T07:05:00.299616Z",
     "start_time": "2019-02-14T07:05:00.290688Z"
    },
    "code_folding": []
   },
   "outputs": [],
   "source": [
    "def maker(omega_1, H_0, H_1, T_s, Lin, d=2, gamma=0.1):\n",
    "    r\"\"\"maker\n",
    "    Makes all the things that remain constant throught the program, but are \n",
    "    repeatedly used.\n",
    "    \n",
    "\n",
    "    Parameters\n",
    "    ----------\n",
    "    omega_1 : float\n",
    "              frequency corresponding to half of the difference between \n",
    "              energy levels of the qubit\n",
    "              \n",
    "    H_0     : Qobj\n",
    "              Bare Hamiltonian \n",
    "              \n",
    "    H_1     : Qobj\n",
    "              Interaction Hamiltonian \n",
    "              \n",
    "    T_s     : Qobj\n",
    "              Unitary to be implemented in the Hilbert space\n",
    "    \n",
    "    Lin     : Qobj\n",
    "              Linbladian operators\n",
    "\n",
    "    d       : int\n",
    "              Dimension of the matrix. Defaults to 2\n",
    "    \n",
    "    gamma   : float\n",
    "              Damping constantof the Linbladian\n",
    "\n",
    "    \n",
    "    Returns\n",
    "    -------\n",
    "    \n",
    "    ih0     : Qobj\n",
    "              $I\\otimes H_{0}$\n",
    "              \n",
    "    ih1     : Qobj\n",
    "              $I\\otimes H_{1}$\n",
    "\n",
    "    h0ci    : Qobj\n",
    "              $H_{0}^{*}\\otimes I $\n",
    "\n",
    "    h1ci    : Qobj\n",
    "              $H_{1}^{*}\\otimes I $\n",
    "\n",
    "    T       : Qobj\n",
    "              Target unitary transformed to the Liouville space\n",
    "\n",
    "    linbladian : Qobj\n",
    "                 The full lindbladian term as it appears on transformation to \n",
    "                 the Liouville space.\n",
    "        \n",
    "    \"\"\"\n",
    "    I = identity(d)\n",
    "    L_I = tensor(I, I)\n",
    "    ih0 = tensor(I, H_0) \n",
    "    ih1 = tensor(I, H_1) \n",
    "    h0ci = tensor(H_0.conj(), I) \n",
    "    h1ci = tensor(H_1.conj(), I)\n",
    "    x_k = ih1 - h1ci\n",
    "    term1 = tensor(Lin.trans(), Lin)\n",
    "    term2 = tensor(I, ((Lin.dag())*(Lin)))\n",
    "    term3 = tensor(((Lin.trans())*(Lin.conj())), I)\n",
    "    lindbladian = 1j*(gamma)*(term1 - 0.5*(term2 + term3))\n",
    "    T = tensor(T_s.trans(), T_s) # Transforming $T_{s}$ to liouville space\n",
    "    \n",
    "    \n",
    "    return ih0, ih1, h0ci, h1ci, x_k, lindbladian, T, L_I"
   ]
  },
  {
   "cell_type": "code",
   "execution_count": 25,
   "metadata": {
    "ExecuteTime": {
     "end_time": "2019-02-14T07:05:00.313210Z",
     "start_time": "2019-02-14T07:05:00.301907Z"
    }
   },
   "outputs": [],
   "source": [
    "omega_1 = 0.5\n",
    "H_0 = omega_1*sigmaz() \n",
    "H_1 = sigmay()\n",
    "T_s = sigmax() \n",
    "Lin = sigmaz()\n",
    "ih0, ih1, h0ci, h1ci, x_k, lindbladian, T, L_I  = maker(omega_1,\n",
    "                                                  H_0, H_1, T_s, \n",
    "                                                  Lin, d=2, gamma=0.0)"
   ]
  },
  {
   "cell_type": "code",
   "execution_count": 26,
   "metadata": {
    "ExecuteTime": {
     "end_time": "2019-02-14T07:05:00.323009Z",
     "start_time": "2019-02-14T07:05:00.315058Z"
    }
   },
   "outputs": [
    {
     "data": {
      "text/latex": [
       "Quantum object: dims = [[2, 2], [2, 2]], shape = (4, 4), type = oper, isherm = True\\begin{equation*}\\left(\\begin{array}{*{11}c}1.0 & 0.0 & 0.0 & 0.0\\\\0.0 & 1.0 & 0.0 & 0.0\\\\0.0 & 0.0 & 1.0 & 0.0\\\\0.0 & 0.0 & 0.0 & 1.0\\\\\\end{array}\\right)\\end{equation*}"
      ],
      "text/plain": [
       "Quantum object: dims = [[2, 2], [2, 2]], shape = (4, 4), type = oper, isherm = True\n",
       "Qobj data =\n",
       "[[1. 0. 0. 0.]\n",
       " [0. 1. 0. 0.]\n",
       " [0. 0. 1. 0.]\n",
       " [0. 0. 0. 1.]]"
      ]
     },
     "execution_count": 26,
     "metadata": {},
     "output_type": "execute_result"
    }
   ],
   "source": [
    "L_I"
   ]
  },
  {
   "cell_type": "markdown",
   "metadata": {},
   "source": [
    "### Building $A(t)$"
   ]
  },
  {
   "cell_type": "code",
   "execution_count": 27,
   "metadata": {
    "ExecuteTime": {
     "end_time": "2019-02-14T07:05:00.328404Z",
     "start_time": "2019-02-14T07:05:00.325566Z"
    }
   },
   "outputs": [],
   "source": [
    "def A(xi):\n",
    "    r\"\"\"making $A(t)$\"\"\"\n",
    "    A = ih0 - h0ci + xi*(ih1 - h1ci) + lindbladian\n",
    "    return A"
   ]
  },
  {
   "cell_type": "code",
   "execution_count": 28,
   "metadata": {
    "ExecuteTime": {
     "end_time": "2019-02-14T07:05:00.337976Z",
     "start_time": "2019-02-14T07:05:00.330741Z"
    }
   },
   "outputs": [
    {
     "data": {
      "text/latex": [
       "Quantum object: dims = [[2, 2], [2, 2]], shape = (4, 4), type = oper, isherm = True\\begin{equation*}\\left(\\begin{array}{*{11}c}0.0 & -0.500j & -0.500j & 0.0\\\\0.500j & -1.0 & 0.0 & -0.500j\\\\0.500j & 0.0 & 1.0 & -0.500j\\\\0.0 & 0.500j & 0.500j & 0.0\\\\\\end{array}\\right)\\end{equation*}"
      ],
      "text/plain": [
       "Quantum object: dims = [[2, 2], [2, 2]], shape = (4, 4), type = oper, isherm = True\n",
       "Qobj data =\n",
       "[[ 0.+0.j   0.-0.5j  0.-0.5j  0.+0.j ]\n",
       " [ 0.+0.5j -1.+0.j   0.+0.j   0.-0.5j]\n",
       " [ 0.+0.5j  0.+0.j   1.+0.j   0.-0.5j]\n",
       " [ 0.+0.j   0.+0.5j  0.+0.5j  0.+0.j ]]"
      ]
     },
     "execution_count": 28,
     "metadata": {},
     "output_type": "execute_result"
    }
   ],
   "source": [
    "A(0.5)"
   ]
  },
  {
   "cell_type": "markdown",
   "metadata": {},
   "source": [
    "### Building $L(t)$ and the Identity in the Liouville space"
   ]
  },
  {
   "cell_type": "code",
   "execution_count": 29,
   "metadata": {
    "ExecuteTime": {
     "end_time": "2019-02-14T07:05:00.344741Z",
     "start_time": "2019-02-14T07:05:00.341487Z"
    }
   },
   "outputs": [],
   "source": [
    "def L(xi, dt):\n",
    "    r\"\"\"Making $L(t) from $A(t)$\"\"\"\n",
    "    L = (-1j*A(xi)*dt).expm()\n",
    "    return L"
   ]
  },
  {
   "cell_type": "code",
   "execution_count": 30,
   "metadata": {
    "ExecuteTime": {
     "end_time": "2019-02-14T07:05:00.355489Z",
     "start_time": "2019-02-14T07:05:00.346867Z"
    }
   },
   "outputs": [
    {
     "data": {
      "text/latex": [
       "Quantum object: dims = [[2, 2], [2, 2]], shape = (4, 4), type = oper, isherm = False\\begin{equation*}\\left(\\begin{array}{*{11}c}1.000 & (-5.000\\times10^{-04}-2.500\\times10^{-07}j) & (-5.000\\times10^{-04}+2.500\\times10^{-07}j) & 2.500\\times10^{-07}\\\\(5.000\\times10^{-04}+2.500\\times10^{-07}j) & (1.000+1.000\\times10^{-03}j) & -2.500\\times10^{-07} & (-5.000\\times10^{-04}-2.500\\times10^{-07}j)\\\\(5.000\\times10^{-04}-2.500\\times10^{-07}j) & -2.500\\times10^{-07} & (1.000-1.000\\times10^{-03}j) & (-5.000\\times10^{-04}+2.500\\times10^{-07}j)\\\\2.500\\times10^{-07} & (5.000\\times10^{-04}+2.500\\times10^{-07}j) & (5.000\\times10^{-04}-2.500\\times10^{-07}j) & 1.000\\\\\\end{array}\\right)\\end{equation*}"
      ],
      "text/plain": [
       "Quantum object: dims = [[2, 2], [2, 2]], shape = (4, 4), type = oper, isherm = False\n",
       "Qobj data =\n",
       "[[ 9.99999750e-01+0.00000000e+00j -4.99999833e-04-2.49999958e-07j\n",
       "  -4.99999833e-04+2.49999958e-07j  2.49999958e-07+0.00000000e+00j]\n",
       " [ 4.99999833e-04+2.49999958e-07j  9.99999250e-01+9.99999667e-04j\n",
       "  -2.49999958e-07+0.00000000e+00j -4.99999833e-04-2.49999958e-07j]\n",
       " [ 4.99999833e-04-2.49999958e-07j -2.49999958e-07+0.00000000e+00j\n",
       "   9.99999250e-01-9.99999667e-04j -4.99999833e-04+2.49999958e-07j]\n",
       " [ 2.49999958e-07+0.00000000e+00j  4.99999833e-04+2.49999958e-07j\n",
       "   4.99999833e-04-2.49999958e-07j  9.99999750e-01+0.00000000e+00j]]"
      ]
     },
     "execution_count": 30,
     "metadata": {},
     "output_type": "execute_result"
    }
   ],
   "source": [
    "L(0.5, 0.001)"
   ]
  },
  {
   "cell_type": "markdown",
   "metadata": {},
   "source": [
    "## Major functions"
   ]
  },
  {
   "cell_type": "markdown",
   "metadata": {},
   "source": [
    "### Major functions 1"
   ]
  },
  {
   "cell_type": "code",
   "execution_count": 31,
   "metadata": {
    "ExecuteTime": {
     "end_time": "2019-02-14T07:05:00.361502Z",
     "start_time": "2019-02-14T07:05:00.357983Z"
    }
   },
   "outputs": [],
   "source": [
    "# building the function to optimize (optimizee)\n",
    "def L_vec(xi_vec, dt):\n",
    "    r\"\"\"Building the vector of differential $L(t)$\"\"\"\n",
    "    L_vec = [L(xi, dt) for xi in xi_vec] \n",
    "    return L_vec"
   ]
  },
  {
   "cell_type": "code",
   "execution_count": 32,
   "metadata": {
    "ExecuteTime": {
     "end_time": "2019-02-14T07:05:00.366679Z",
     "start_time": "2019-02-14T07:05:00.363436Z"
    }
   },
   "outputs": [],
   "source": [
    "def fidelity_calc(A, B):\n",
    "    r\"\"\"Making a generalised fidelity function\"\"\"\n",
    "    first_part = (A - B).dag()\n",
    "    second_part = (A - B)\n",
    "    f_int = (first_part* second_part)\n",
    "    f = f_int.tr()\n",
    "    return f"
   ]
  },
  {
   "cell_type": "code",
   "execution_count": 33,
   "metadata": {
    "ExecuteTime": {
     "end_time": "2019-02-14T07:05:00.372961Z",
     "start_time": "2019-02-14T07:05:00.368619Z"
    }
   },
   "outputs": [],
   "source": [
    "def L_full_maker(xi_vec, dt):\n",
    "    r\"\"\"Building the $L(t)$ for the total time $t$\"\"\"\n",
    "    xi_vec_size = xi_vec.size # finding the size of xi\n",
    "    L_full = L_I # Identity for the for loop of L\n",
    "    L_v = L_vec(xi_vec, dt) # calling L_vec\n",
    "    for i in range(xi_vec_size): # generating L_full\n",
    "        L_full = L_full*L_v[xi_vec_size - 1 - i]\n",
    "    return L_full"
   ]
  },
  {
   "cell_type": "code",
   "execution_count": 34,
   "metadata": {
    "ExecuteTime": {
     "end_time": "2019-02-14T07:05:00.378357Z",
     "start_time": "2019-02-14T07:05:00.375028Z"
    }
   },
   "outputs": [],
   "source": [
    "def F(xi_vec, dt):\n",
    "    r\"\"\"Using the fidelity metric to find out the closeness between $T$\n",
    "    and $L(t)$\"\"\"\n",
    "    L_full = L_full_maker(xi_vec, dt)\n",
    "    F = real(-fidelity_calc(T, L_full))   \n",
    "    return F"
   ]
  },
  {
   "cell_type": "markdown",
   "metadata": {},
   "source": [
    "### Testing major functions 1"
   ]
  },
  {
   "cell_type": "code",
   "execution_count": 35,
   "metadata": {
    "ExecuteTime": {
     "end_time": "2019-02-14T07:05:00.388454Z",
     "start_time": "2019-02-14T07:05:00.380468Z"
    }
   },
   "outputs": [
    {
     "data": {
      "text/plain": [
       "4.0"
      ]
     },
     "execution_count": 35,
     "metadata": {},
     "output_type": "execute_result"
    }
   ],
   "source": [
    "fidelity_calc(sigmax(), sigmay())"
   ]
  },
  {
   "cell_type": "code",
   "execution_count": 36,
   "metadata": {
    "ExecuteTime": {
     "end_time": "2019-02-14T07:05:00.397489Z",
     "start_time": "2019-02-14T07:05:00.390879Z"
    }
   },
   "outputs": [
    {
     "data": {
      "text/plain": [
       "0.0"
      ]
     },
     "execution_count": 36,
     "metadata": {},
     "output_type": "execute_result"
    }
   ],
   "source": [
    "fidelity_calc(sigmay(), sigmay())"
   ]
  },
  {
   "cell_type": "code",
   "execution_count": 37,
   "metadata": {
    "ExecuteTime": {
     "end_time": "2019-02-14T07:05:00.405967Z",
     "start_time": "2019-02-14T07:05:00.399829Z"
    }
   },
   "outputs": [
    {
     "data": {
      "text/plain": [
       "array([1., 2.])"
      ]
     },
     "execution_count": 37,
     "metadata": {},
     "output_type": "execute_result"
    }
   ],
   "source": [
    "xi_vec_test = array([1.0, 2.0])\n",
    "xi_vec_test"
   ]
  },
  {
   "cell_type": "code",
   "execution_count": 38,
   "metadata": {
    "ExecuteTime": {
     "end_time": "2019-02-14T07:05:00.413225Z",
     "start_time": "2019-02-14T07:05:00.408563Z"
    }
   },
   "outputs": [
    {
     "data": {
      "text/plain": [
       "2"
      ]
     },
     "execution_count": 38,
     "metadata": {},
     "output_type": "execute_result"
    }
   ],
   "source": [
    "xi_vec_test.size"
   ]
  },
  {
   "cell_type": "code",
   "execution_count": 39,
   "metadata": {
    "ExecuteTime": {
     "end_time": "2019-02-14T07:05:00.420191Z",
     "start_time": "2019-02-14T07:05:00.415397Z"
    }
   },
   "outputs": [
    {
     "data": {
      "text/plain": [
       "[1.0, 4.0]"
      ]
     },
     "execution_count": 39,
     "metadata": {},
     "output_type": "execute_result"
    }
   ],
   "source": [
    "w_vec = [xi**2 for xi in xi_vec_test]\n",
    "w_vec"
   ]
  },
  {
   "cell_type": "code",
   "execution_count": 40,
   "metadata": {
    "ExecuteTime": {
     "end_time": "2019-02-14T07:05:00.431575Z",
     "start_time": "2019-02-14T07:05:00.422411Z"
    }
   },
   "outputs": [
    {
     "data": {
      "text/plain": [
       "-7.999999999998001"
      ]
     },
     "execution_count": 40,
     "metadata": {},
     "output_type": "execute_result"
    }
   ],
   "source": [
    "# F(xi_vec, dt)\n",
    "F(xi_vec_test, 0.001)"
   ]
  },
  {
   "cell_type": "code",
   "execution_count": 41,
   "metadata": {
    "ExecuteTime": {
     "end_time": "2019-02-14T07:05:00.442910Z",
     "start_time": "2019-02-14T07:05:00.434103Z"
    }
   },
   "outputs": [],
   "source": [
    "L_v = L_vec(xi_vec_test, 0.001)"
   ]
  },
  {
   "cell_type": "code",
   "execution_count": 42,
   "metadata": {
    "ExecuteTime": {
     "end_time": "2019-02-14T07:05:00.450917Z",
     "start_time": "2019-02-14T07:05:00.445004Z"
    }
   },
   "outputs": [
    {
     "data": {
      "text/plain": [
       "[Quantum object: dims = [[2, 2], [2, 2]], shape = (4, 4), type = oper, isherm = False\n",
       " Qobj data =\n",
       " [[ 9.99999000e-01+0.00000000e+00j -9.99999167e-04-4.99999792e-07j\n",
       "   -9.99999167e-04+4.99999792e-07j  9.99999583e-07+0.00000000e+00j]\n",
       "  [ 9.99999167e-04+4.99999792e-07j  9.99998500e-01+9.99999167e-04j\n",
       "   -9.99999583e-07+0.00000000e+00j -9.99999167e-04-4.99999792e-07j]\n",
       "  [ 9.99999167e-04-4.99999792e-07j -9.99999583e-07+0.00000000e+00j\n",
       "    9.99998500e-01-9.99999167e-04j -9.99999167e-04+4.99999792e-07j]\n",
       "  [ 9.99999583e-07+0.00000000e+00j  9.99999167e-04+4.99999792e-07j\n",
       "    9.99999167e-04-4.99999792e-07j  9.99999000e-01+0.00000000e+00j]],\n",
       " Quantum object: dims = [[2, 2], [2, 2]], shape = (4, 4), type = oper, isherm = False\n",
       " Qobj data =\n",
       " [[ 9.99996000e-01+0.00000000e+00j -1.99999433e-03-9.99998583e-07j\n",
       "   -1.99999433e-03+9.99998583e-07j  3.99999433e-06+0.00000000e+00j]\n",
       "  [ 1.99999433e-03+9.99998583e-07j  9.99995500e-01+9.99997167e-04j\n",
       "   -3.99999433e-06+0.00000000e+00j -1.99999433e-03-9.99998583e-07j]\n",
       "  [ 1.99999433e-03-9.99998583e-07j -3.99999433e-06+0.00000000e+00j\n",
       "    9.99995500e-01-9.99997167e-04j -1.99999433e-03+9.99998583e-07j]\n",
       "  [ 3.99999433e-06+0.00000000e+00j  1.99999433e-03+9.99998583e-07j\n",
       "    1.99999433e-03-9.99998583e-07j  9.99996000e-01+0.00000000e+00j]]]"
      ]
     },
     "execution_count": 42,
     "metadata": {},
     "output_type": "execute_result"
    }
   ],
   "source": [
    "L_v"
   ]
  },
  {
   "cell_type": "markdown",
   "metadata": {},
   "source": [
    "### Major Functions 2"
   ]
  },
  {
   "cell_type": "code",
   "execution_count": 43,
   "metadata": {
    "ExecuteTime": {
     "end_time": "2019-02-14T07:05:00.458602Z",
     "start_time": "2019-02-14T07:05:00.453238Z"
    }
   },
   "outputs": [],
   "source": [
    "def L_comma_k_maker(xi_vec, k, dt):\n",
    "    r\"\"\"Making of the derivative of full $L(t)$ at time $t_{k}$\"\"\"\n",
    "    N = xi_vec.size \n",
    "    # Determining the size of xi, and thus the time_steps indirectly.\n",
    "    L_v = L_vec(xi_vec, dt)# Making of the full $L(t)$\n",
    "    inner_part = L_I # Beginner for the for loop\n",
    "    for i in range(N):\n",
    "        if i == ( N - 1 - k ):\n",
    "            # The step at which $X_{k}(t)$ has to be inserted \n",
    "            inner_part = inner_part*x_k*L_v[k - 1]\n",
    "        else:\n",
    "            # Usual multiplications of $L_{k}$\n",
    "            inner_part = inner_part*L_v[N - 1 - i]\n",
    "    l_comma_k = inner_part\n",
    "    return l_comma_k\n",
    "    "
   ]
  },
  {
   "cell_type": "code",
   "execution_count": 44,
   "metadata": {
    "ExecuteTime": {
     "end_time": "2019-02-14T07:05:00.470899Z",
     "start_time": "2019-02-14T07:05:00.460722Z"
    }
   },
   "outputs": [
    {
     "data": {
      "text/latex": [
       "Quantum object: dims = [[2, 2], [2, 2]], shape = (4, 4), type = oper, isherm = False\\begin{equation*}\\left(\\begin{array}{*{11}c}1.000 & (-0.003-3.500\\times10^{-06}j) & (-0.003+3.500\\times10^{-06}j) & 9.000\\times10^{-06}\\\\(0.003+2.500\\times10^{-06}j) & (1.000+0.002j) & (-9.000\\times10^{-06}+3.000\\times10^{-09}j) & (-0.003-2.500\\times10^{-06}j)\\\\(0.003-2.500\\times10^{-06}j) & (-9.000\\times10^{-06}-3.000\\times10^{-09}j) & (1.000-0.002j) & (-0.003+2.500\\times10^{-06}j)\\\\9.000\\times10^{-06} & (0.003+3.500\\times10^{-06}j) & (0.003-3.500\\times10^{-06}j) & 1.000\\\\\\end{array}\\right)\\end{equation*}"
      ],
      "text/plain": [
       "Quantum object: dims = [[2, 2], [2, 2]], shape = (4, 4), type = oper, isherm = False\n",
       "Qobj data =\n",
       "[[ 9.99991000e-01+0.00000000e+00j -2.99997950e-03-3.49998654e-06j\n",
       "  -2.99997950e-03+3.49998654e-06j  8.99997025e-06+0.00000000e+00j]\n",
       " [ 2.99998050e-03+2.49999246e-06j  9.99989000e-01+1.99998633e-03j\n",
       "  -8.99996975e-06+2.99999225e-09j -2.99998050e-03-2.49999246e-06j]\n",
       " [ 2.99998050e-03-2.49999246e-06j -8.99996975e-06-2.99999225e-09j\n",
       "   9.99989000e-01-1.99998633e-03j -2.99998050e-03+2.49999246e-06j]\n",
       " [ 8.99997025e-06+0.00000000e+00j  2.99997950e-03+3.49998654e-06j\n",
       "   2.99997950e-03-3.49998654e-06j  9.99991000e-01+0.00000000e+00j]]"
      ]
     },
     "execution_count": 44,
     "metadata": {},
     "output_type": "execute_result"
    }
   ],
   "source": [
    "# L_comma_k_maker(xi_vec, k, dt)\n",
    "L_comma_k_maker(xi_vec_test, 2, 0.001)"
   ]
  },
  {
   "cell_type": "code",
   "execution_count": 45,
   "metadata": {
    "ExecuteTime": {
     "end_time": "2019-02-14T07:05:00.477368Z",
     "start_time": "2019-02-14T07:05:00.472956Z"
    }
   },
   "outputs": [],
   "source": [
    "def updater(xi_vec, dt, epsilon):\n",
    "    r\"\"\"Implementing the GRAPE update step\"\"\"\n",
    "    xi_vec_size = xi_vec.size # finding the size of xi\n",
    "    L_full = L_full_maker(xi_vec, dt)\n",
    "    di = []\n",
    "    for k in range(xi_vec_size):\n",
    "        # Building the thing to be added to the old function\n",
    "        L_comma_k = L_comma_k_maker(xi_vec, k, dt)\n",
    "        differentiated = T - L_comma_k\n",
    "        plain = T - L_full\n",
    "        c = -differentiated.dag()*plain\n",
    "        d = -plain.dag()*differentiated\n",
    "        inside = c.tr() + d.tr()\n",
    "        di.append(epsilon*inside)\n",
    "\n",
    "    diff = array(di)\n",
    "    xi_new_vec = xi_vec + diff\n",
    "    return diff, xi_new_vec\n",
    "    "
   ]
  },
  {
   "cell_type": "code",
   "execution_count": 46,
   "metadata": {
    "ExecuteTime": {
     "end_time": "2019-02-14T07:05:00.497683Z",
     "start_time": "2019-02-14T07:05:00.479932Z"
    }
   },
   "outputs": [
    {
     "data": {
      "text/plain": [
       "(array([-0.008+0.j, -0.008+0.j]), array([0.992+0.j, 1.992+0.j]))"
      ]
     },
     "execution_count": 46,
     "metadata": {},
     "output_type": "execute_result"
    }
   ],
   "source": [
    "#  updater(xi_vec, dt, epsilon)\n",
    "updater(xi_vec_test, 0.001, 0.001)"
   ]
  },
  {
   "cell_type": "code",
   "execution_count": 47,
   "metadata": {
    "ExecuteTime": {
     "end_time": "2019-02-14T07:05:00.504909Z",
     "start_time": "2019-02-14T07:05:00.499922Z"
    },
    "code_folding": []
   },
   "outputs": [],
   "source": [
    "def terminator(max_iter, time_steps, total_time, epsilon):\n",
    "    r\"\"\"Brief description of the function\"\"\"\n",
    "    \n",
    "    xi_initial =  1000*random_sample((time_steps,))\n",
    "    dt = total_time/time_steps\n",
    "    xi_diff, xi_new_vec = updater(xi_initial, dt, epsilon)\n",
    "    \n",
    "    for i in range(max_iter):\n",
    "        if amax(xi_diff) < epsilon**2 :\n",
    "            \n",
    "            xi_final = xi_new_vec\n",
    "            break\n",
    "        else :\n",
    "            xi_diff, xi_new_vec = updater(xi_new_vec, dt, epsilon)\n",
    "            print(i)\n",
    "            print(amax(xi_diff))\n",
    "            \n",
    "        \n",
    "    xi_final = xi_new_vec    \n",
    "    return xi_final"
   ]
  },
  {
   "cell_type": "markdown",
   "metadata": {},
   "source": [
    "# Running stuff"
   ]
  },
  {
   "cell_type": "markdown",
   "metadata": {},
   "source": [
    "### qutip grape"
   ]
  },
  {
   "cell_type": "code",
   "execution_count": 48,
   "metadata": {
    "ExecuteTime": {
     "end_time": "2019-02-14T07:05:00.509661Z",
     "start_time": "2019-02-14T07:05:00.506926Z"
    }
   },
   "outputs": [],
   "source": [
    "xi_qutip = result.u"
   ]
  },
  {
   "cell_type": "code",
   "execution_count": 49,
   "metadata": {
    "ExecuteTime": {
     "end_time": "2019-02-14T07:05:00.515891Z",
     "start_time": "2019-02-14T07:05:00.511519Z"
    }
   },
   "outputs": [
    {
     "data": {
      "text/plain": [
       "500"
      ]
     },
     "execution_count": 49,
     "metadata": {},
     "output_type": "execute_result"
    }
   ],
   "source": [
    "len(xi_qutip)"
   ]
  },
  {
   "cell_type": "code",
   "execution_count": 50,
   "metadata": {
    "ExecuteTime": {
     "end_time": "2019-02-14T07:05:00.522340Z",
     "start_time": "2019-02-14T07:05:00.518348Z"
    }
   },
   "outputs": [
    {
     "data": {
      "text/plain": [
       "(500, 1, 500)"
      ]
     },
     "execution_count": 50,
     "metadata": {},
     "output_type": "execute_result"
    }
   ],
   "source": [
    "xi_qutip.shape"
   ]
  },
  {
   "cell_type": "code",
   "execution_count": 51,
   "metadata": {
    "ExecuteTime": {
     "end_time": "2019-02-14T07:05:00.528426Z",
     "start_time": "2019-02-14T07:05:00.524504Z"
    }
   },
   "outputs": [
    {
     "data": {
      "text/plain": [
       "250000"
      ]
     },
     "execution_count": 51,
     "metadata": {},
     "output_type": "execute_result"
    }
   ],
   "source": [
    "xi_qutip.size"
   ]
  },
  {
   "cell_type": "code",
   "execution_count": 52,
   "metadata": {
    "ExecuteTime": {
     "end_time": "2019-02-14T07:05:00.535322Z",
     "start_time": "2019-02-14T07:05:00.531122Z"
    }
   },
   "outputs": [
    {
     "data": {
      "text/plain": [
       "1"
      ]
     },
     "execution_count": 52,
     "metadata": {},
     "output_type": "execute_result"
    }
   ],
   "source": [
    "len(xi_qutip[0])"
   ]
  },
  {
   "cell_type": "code",
   "execution_count": 53,
   "metadata": {
    "ExecuteTime": {
     "end_time": "2019-02-14T07:05:00.542401Z",
     "start_time": "2019-02-14T07:05:00.537466Z"
    }
   },
   "outputs": [
    {
     "data": {
      "text/plain": [
       "1"
      ]
     },
     "execution_count": 53,
     "metadata": {},
     "output_type": "execute_result"
    }
   ],
   "source": [
    "len(xi_qutip[1])"
   ]
  },
  {
   "cell_type": "code",
   "execution_count": 54,
   "metadata": {
    "ExecuteTime": {
     "end_time": "2019-02-14T07:05:00.549913Z",
     "start_time": "2019-02-14T07:05:00.545754Z"
    }
   },
   "outputs": [
    {
     "data": {
      "text/plain": [
       "1"
      ]
     },
     "execution_count": 54,
     "metadata": {},
     "output_type": "execute_result"
    }
   ],
   "source": [
    "len(xi_qutip[2])"
   ]
  },
  {
   "cell_type": "code",
   "execution_count": 55,
   "metadata": {
    "ExecuteTime": {
     "end_time": "2019-02-14T07:05:00.556403Z",
     "start_time": "2019-02-14T07:05:00.551986Z"
    }
   },
   "outputs": [
    {
     "data": {
      "text/plain": [
       "500"
      ]
     },
     "execution_count": 55,
     "metadata": {},
     "output_type": "execute_result"
    }
   ],
   "source": [
    "len(xi_qutip[0][0])"
   ]
  },
  {
   "cell_type": "code",
   "execution_count": 56,
   "metadata": {
    "ExecuteTime": {
     "end_time": "2019-02-14T07:05:00.563288Z",
     "start_time": "2019-02-14T07:05:00.558840Z"
    }
   },
   "outputs": [
    {
     "data": {
      "text/plain": [
       "500"
      ]
     },
     "execution_count": 56,
     "metadata": {},
     "output_type": "execute_result"
    }
   ],
   "source": [
    "len(xi_qutip[1][0])"
   ]
  },
  {
   "cell_type": "code",
   "execution_count": 57,
   "metadata": {
    "ExecuteTime": {
     "end_time": "2019-02-14T07:05:00.570244Z",
     "start_time": "2019-02-14T07:05:00.566284Z"
    }
   },
   "outputs": [
    {
     "data": {
      "text/plain": [
       "500"
      ]
     },
     "execution_count": 57,
     "metadata": {},
     "output_type": "execute_result"
    }
   ],
   "source": [
    "len(xi_qutip[1][0])"
   ]
  },
  {
   "cell_type": "code",
   "execution_count": 58,
   "metadata": {
    "ExecuteTime": {
     "end_time": "2019-02-14T07:05:00.576077Z",
     "start_time": "2019-02-14T07:05:00.572499Z"
    }
   },
   "outputs": [
    {
     "data": {
      "text/plain": [
       "500"
      ]
     },
     "execution_count": 58,
     "metadata": {},
     "output_type": "execute_result"
    }
   ],
   "source": [
    "len(xi_qutip[250][0])"
   ]
  },
  {
   "cell_type": "code",
   "execution_count": 59,
   "metadata": {
    "ExecuteTime": {
     "end_time": "2019-02-14T07:05:00.582768Z",
     "start_time": "2019-02-14T07:05:00.578300Z"
    }
   },
   "outputs": [
    {
     "data": {
      "text/plain": [
       "500"
      ]
     },
     "execution_count": 59,
     "metadata": {},
     "output_type": "execute_result"
    }
   ],
   "source": [
    "len(xi_qutip[250,0,:])"
   ]
  },
  {
   "cell_type": "code",
   "execution_count": 60,
   "metadata": {
    "ExecuteTime": {
     "end_time": "2019-02-14T07:05:00.649112Z",
     "start_time": "2019-02-14T07:05:00.585147Z"
    }
   },
   "outputs": [
    {
     "ename": "IndexError",
     "evalue": "index 1 is out of bounds for axis 1 with size 1",
     "output_type": "error",
     "traceback": [
      "\u001b[0;31m---------------------------------------------------------------------------\u001b[0m",
      "\u001b[0;31mIndexError\u001b[0m                                Traceback (most recent call last)",
      "\u001b[0;32m<ipython-input-60-5c4a620259a6>\u001b[0m in \u001b[0;36m<module>\u001b[0;34m()\u001b[0m\n\u001b[0;32m----> 1\u001b[0;31m \u001b[0mlen\u001b[0m\u001b[0;34m(\u001b[0m\u001b[0mxi_qutip\u001b[0m\u001b[0;34m[\u001b[0m\u001b[0;36m250\u001b[0m\u001b[0;34m,\u001b[0m\u001b[0;36m1\u001b[0m\u001b[0;34m,\u001b[0m\u001b[0;34m:\u001b[0m\u001b[0;34m]\u001b[0m\u001b[0;34m)\u001b[0m\u001b[0;34m\u001b[0m\u001b[0;34m\u001b[0m\u001b[0m\n\u001b[0m",
      "\u001b[0;31mIndexError\u001b[0m: index 1 is out of bounds for axis 1 with size 1"
     ]
    }
   ],
   "source": [
    "len(xi_qutip[250,1,:])"
   ]
  },
  {
   "cell_type": "code",
   "execution_count": 61,
   "metadata": {
    "ExecuteTime": {
     "end_time": "2019-02-14T07:10:58.566859Z",
     "start_time": "2019-02-14T07:10:58.551226Z"
    }
   },
   "outputs": [
    {
     "data": {
      "text/plain": [
       "500"
      ]
     },
     "execution_count": 61,
     "metadata": {},
     "output_type": "execute_result"
    }
   ],
   "source": [
    "len(xi_qutip[-1,0,:])"
   ]
  },
  {
   "cell_type": "code",
   "execution_count": 62,
   "metadata": {
    "ExecuteTime": {
     "end_time": "2019-02-14T07:10:58.829924Z",
     "start_time": "2019-02-14T07:10:58.824888Z"
    }
   },
   "outputs": [
    {
     "data": {
      "text/plain": [
       "0.07407330669029837"
      ]
     },
     "execution_count": 62,
     "metadata": {},
     "output_type": "execute_result"
    }
   ],
   "source": [
    "xi_qutip[0][0][1]"
   ]
  },
  {
   "cell_type": "code",
   "execution_count": 63,
   "metadata": {
    "ExecuteTime": {
     "end_time": "2019-02-14T07:10:59.071992Z",
     "start_time": "2019-02-14T07:10:59.064112Z"
    }
   },
   "outputs": [
    {
     "data": {
      "text/plain": [
       "array([[[0.0490166 , 0.07407331, 0.10295165, ..., 0.14604496,\n",
       "         0.13199433, 0.11273802]],\n",
       "\n",
       "       [[0.0490166 , 0.07407331, 0.10295165, ..., 0.14604496,\n",
       "         0.13199433, 0.13199433]],\n",
       "\n",
       "       [[0.0490166 , 0.07407331, 0.10295165, ..., 0.14604496,\n",
       "         0.13199433, 0.13199433]],\n",
       "\n",
       "       ...,\n",
       "\n",
       "       [[0.0490166 , 0.07407331, 0.10295165, ..., 0.14604496,\n",
       "         0.13199433, 0.13199433]],\n",
       "\n",
       "       [[0.0490166 , 0.07407331, 0.10295165, ..., 0.14604496,\n",
       "         0.13199433, 0.13199433]],\n",
       "\n",
       "       [[0.0490166 , 0.07407331, 0.10295165, ..., 0.14604496,\n",
       "         0.13199433, 0.13199433]]])"
      ]
     },
     "execution_count": 63,
     "metadata": {},
     "output_type": "execute_result"
    }
   ],
   "source": [
    "xi_qutip"
   ]
  },
  {
   "cell_type": "code",
   "execution_count": 64,
   "metadata": {
    "ExecuteTime": {
     "end_time": "2019-02-14T07:10:59.294702Z",
     "start_time": "2019-02-14T07:10:59.283699Z"
    }
   },
   "outputs": [
    {
     "data": {
      "text/plain": [
       "array([0.0490166 , 0.07407331, 0.10295165, 0.13377211, 0.16212405,\n",
       "       0.18876499, 0.19707723, 0.21929866, 0.23336211, 0.21313667,\n",
       "       0.2173401 , 0.20277326, 0.18916689, 0.17681495, 0.16477132,\n",
       "       0.14111555, 0.13007859, 0.13462039, 0.11846277, 0.12425952,\n",
       "       0.13606705, 0.13909066, 0.14768612, 0.13803872, 0.14884598,\n",
       "       0.1566339 , 0.16499759, 0.13877329, 0.15622705, 0.16308009,\n",
       "       0.14727327, 0.16071544, 0.1627953 , 0.18412784, 0.15858426,\n",
       "       0.15397307, 0.16870518, 0.19555837, 0.18522066, 0.18248431,\n",
       "       0.1938177 , 0.16841547, 0.16818617, 0.15386083, 0.16012831,\n",
       "       0.16960594, 0.14864352, 0.14968464, 0.14841248, 0.13725437,\n",
       "       0.13574534, 0.1492244 , 0.13917754, 0.13104315, 0.13076466,\n",
       "       0.12208635, 0.11908079, 0.09042814, 0.09158315, 0.09405663,\n",
       "       0.08822078, 0.09678564, 0.10455382, 0.10049279, 0.11801597,\n",
       "       0.12248866, 0.14694199, 0.15343512, 0.17019215, 0.17259179,\n",
       "       0.1804393 , 0.18710611, 0.18794328, 0.21567839, 0.19847586,\n",
       "       0.21354086, 0.20567087, 0.21433495, 0.19284947, 0.20216658,\n",
       "       0.18590376, 0.16927549, 0.16351994, 0.16229624, 0.1639434 ,\n",
       "       0.16260219, 0.16664382, 0.16309614, 0.1842639 , 0.17181614,\n",
       "       0.19365904, 0.2096449 , 0.21136169, 0.20276844, 0.2212055 ,\n",
       "       0.21798942, 0.22523707, 0.2186846 , 0.19888957, 0.1989681 ,\n",
       "       0.18009262, 0.16963993, 0.15958783, 0.14670536, 0.14073086,\n",
       "       0.13097776, 0.12118795, 0.13791926, 0.13642024, 0.14027177,\n",
       "       0.13874384, 0.12266495, 0.11958703, 0.1410318 , 0.13593744,\n",
       "       0.12397333, 0.11785458, 0.1225195 , 0.14679499, 0.16835369,\n",
       "       0.18553976, 0.19291842, 0.20603422, 0.18496539, 0.19620189,\n",
       "       0.22687953, 0.22547271, 0.22184099, 0.21547443, 0.20514465,\n",
       "       0.18825905, 0.18332858, 0.17016982, 0.18144279, 0.16542807,\n",
       "       0.13964993, 0.15026917, 0.14804262, 0.14012592, 0.13850204,\n",
       "       0.12803656, 0.13186049, 0.12736557, 0.11519596, 0.10743893,\n",
       "       0.12704527, 0.11052514, 0.11660336, 0.12329034, 0.11065831,\n",
       "       0.13221692, 0.13546795, 0.13842585, 0.14546571, 0.16474192,\n",
       "       0.15162081, 0.15355805, 0.15192352, 0.14801671, 0.17099311,\n",
       "       0.15505791, 0.14381232, 0.16324256, 0.17538805, 0.15947439,\n",
       "       0.14890733, 0.16273173, 0.15798507, 0.1636551 , 0.13489098,\n",
       "       0.13576406, 0.15704535, 0.15885922, 0.13778001, 0.13393223,\n",
       "       0.14986441, 0.13196987, 0.12313926, 0.11487371, 0.12170382,\n",
       "       0.13051669, 0.12107986, 0.1078494 , 0.11556715, 0.13040084,\n",
       "       0.11851683, 0.1409008 , 0.150005  , 0.16734764, 0.18794034,\n",
       "       0.18117909, 0.18664987, 0.18502804, 0.19435071, 0.19842012,\n",
       "       0.19403945, 0.19335102, 0.17445737, 0.1614208 , 0.16001377,\n",
       "       0.15186223, 0.16385885, 0.1762877 , 0.18343217, 0.18419025,\n",
       "       0.20107593, 0.17966039, 0.19052989, 0.19664067, 0.19532125,\n",
       "       0.21607259, 0.20726572, 0.18411804, 0.18227148, 0.16200906,\n",
       "       0.17095077, 0.19201456, 0.18963455, 0.19574127, 0.195663  ,\n",
       "       0.18315318, 0.18263448, 0.19779215, 0.19265939, 0.20342341,\n",
       "       0.19916806, 0.2017354 , 0.21195187, 0.20906326, 0.18731955,\n",
       "       0.19382589, 0.20160132, 0.19216397, 0.18645589, 0.18663983,\n",
       "       0.18927646, 0.16836352, 0.17303228, 0.17537308, 0.18572495,\n",
       "       0.18913067, 0.18120048, 0.17568977, 0.18896044, 0.18909387,\n",
       "       0.17698398, 0.19505397, 0.1944358 , 0.1947156 , 0.20020124,\n",
       "       0.21164021, 0.22111566, 0.24541195, 0.2453594 , 0.24804015,\n",
       "       0.23916956, 0.24397524, 0.23568121, 0.23010639, 0.21604755,\n",
       "       0.20640836, 0.19025471, 0.18537576, 0.15661968, 0.14720638,\n",
       "       0.1708668 , 0.16640108, 0.15099251, 0.15732609, 0.18262434,\n",
       "       0.17308343, 0.17061811, 0.15164251, 0.16091401, 0.1566928 ,\n",
       "       0.15071808, 0.13436998, 0.14190566, 0.11299373, 0.08719009,\n",
       "       0.08340332, 0.09790542, 0.12032032, 0.11506832, 0.12659287,\n",
       "       0.10726223, 0.12821006, 0.12154627, 0.14853532, 0.16626243,\n",
       "       0.17228101, 0.16273003, 0.16635647, 0.18143934, 0.19303479,\n",
       "       0.21070658, 0.20355959, 0.2037653 , 0.20428141, 0.20507885,\n",
       "       0.19273703, 0.18578634, 0.18821338, 0.19002536, 0.18247537,\n",
       "       0.17510883, 0.18243428, 0.19205702, 0.16497455, 0.16032578,\n",
       "       0.16803275, 0.18295989, 0.18309946, 0.17497339, 0.1621818 ,\n",
       "       0.153959  , 0.13222284, 0.14636738, 0.15612378, 0.14571459,\n",
       "       0.1398437 , 0.11492154, 0.08534107, 0.07343482, 0.09543096,\n",
       "       0.11801479, 0.1228843 , 0.11906206, 0.11844633, 0.11515434,\n",
       "       0.13616858, 0.14387789, 0.15780748, 0.16585569, 0.15891808,\n",
       "       0.1373402 , 0.14360531, 0.14736163, 0.15711218, 0.16726142,\n",
       "       0.14412689, 0.15389236, 0.16026664, 0.17602843, 0.18304111,\n",
       "       0.1932188 , 0.18672988, 0.19016589, 0.19382294, 0.17902149,\n",
       "       0.17861667, 0.17137165, 0.16230342, 0.14996629, 0.1235989 ,\n",
       "       0.13734118, 0.14768319, 0.12270072, 0.11073455, 0.13257595,\n",
       "       0.16323335, 0.16412932, 0.1621163 , 0.16398819, 0.18453185,\n",
       "       0.17001684, 0.14686018, 0.17270543, 0.18957392, 0.17624882,\n",
       "       0.1519903 , 0.15477963, 0.17499367, 0.18122573, 0.16462047,\n",
       "       0.16260397, 0.17677087, 0.16559856, 0.14031559, 0.14020984,\n",
       "       0.15861416, 0.15103836, 0.14846022, 0.14809097, 0.16726585,\n",
       "       0.16620253, 0.17070696, 0.15408587, 0.16355633, 0.18355235,\n",
       "       0.16841911, 0.18351994, 0.15944744, 0.14881608, 0.13744965,\n",
       "       0.15158373, 0.1339538 , 0.15121733, 0.16307294, 0.15721182,\n",
       "       0.17798889, 0.17463048, 0.20232962, 0.19192578, 0.18964268,\n",
       "       0.17144969, 0.18804695, 0.17320763, 0.15466958, 0.15809389,\n",
       "       0.13492078, 0.1453952 , 0.14183561, 0.1681926 , 0.16239291,\n",
       "       0.15621433, 0.14082746, 0.14178394, 0.16184633, 0.14934714,\n",
       "       0.15809991, 0.16003909, 0.14113928, 0.12882789, 0.12947282,\n",
       "       0.13039589, 0.1424656 , 0.15754584, 0.14007358, 0.13525927,\n",
       "       0.13067202, 0.10673691, 0.12758445, 0.11716843, 0.13643171,\n",
       "       0.15543244, 0.16645654, 0.1705201 , 0.16358039, 0.17670461,\n",
       "       0.19276009, 0.20561521, 0.18740409, 0.20653948, 0.2108362 ,\n",
       "       0.20631208, 0.20978509, 0.19692814, 0.21146992, 0.20723707,\n",
       "       0.20326016, 0.21132221, 0.20124764, 0.18262878, 0.17056898,\n",
       "       0.15651863, 0.15154798, 0.14447216, 0.15290844, 0.15583688,\n",
       "       0.15436788, 0.1525792 , 0.15883144, 0.17488406, 0.1655659 ,\n",
       "       0.18940395, 0.16577303, 0.16672049, 0.1579906 , 0.14195557,\n",
       "       0.1241401 , 0.12077516, 0.11574478, 0.11336231, 0.121511  ,\n",
       "       0.09536292, 0.10674929, 0.11705345, 0.10751399, 0.11234019,\n",
       "       0.12770225, 0.12971881, 0.15704645, 0.1465411 , 0.1464469 ,\n",
       "       0.16389382, 0.16389511, 0.16294517, 0.17033233, 0.17980365,\n",
       "       0.1782331 , 0.17626453, 0.17090848, 0.16677599, 0.17708969,\n",
       "       0.17504476, 0.16196749, 0.14604496, 0.13199433, 0.13199433])"
      ]
     },
     "execution_count": 64,
     "metadata": {},
     "output_type": "execute_result"
    }
   ],
   "source": [
    "xi_qutip[-1,0, :]"
   ]
  },
  {
   "cell_type": "code",
   "execution_count": 65,
   "metadata": {
    "ExecuteTime": {
     "end_time": "2019-02-14T07:10:59.559955Z",
     "start_time": "2019-02-14T07:10:59.522810Z"
    }
   },
   "outputs": [
    {
     "ename": "NameError",
     "evalue": "name 'dt' is not defined",
     "output_type": "error",
     "traceback": [
      "\u001b[0;31m---------------------------------------------------------------------------\u001b[0m",
      "\u001b[0;31mNameError\u001b[0m                                 Traceback (most recent call last)",
      "\u001b[0;32m<ipython-input-65-a7ef2f9806ab>\u001b[0m in \u001b[0;36m<module>\u001b[0;34m()\u001b[0m\n\u001b[1;32m      1\u001b[0m \u001b[0;31m#L_full_maker(xi_qutip, dt)\u001b[0m\u001b[0;34m\u001b[0m\u001b[0;34m\u001b[0m\u001b[0;34m\u001b[0m\u001b[0m\n\u001b[0;32m----> 2\u001b[0;31m \u001b[0mL_full_maker\u001b[0m\u001b[0;34m(\u001b[0m\u001b[0mxi_qutip\u001b[0m\u001b[0;34m[\u001b[0m\u001b[0;34m-\u001b[0m\u001b[0;36m1\u001b[0m\u001b[0;34m,\u001b[0m \u001b[0;36m0\u001b[0m\u001b[0;34m,\u001b[0m \u001b[0;34m:\u001b[0m\u001b[0;34m]\u001b[0m\u001b[0;34m,\u001b[0m \u001b[0mdt\u001b[0m\u001b[0;34m)\u001b[0m\u001b[0;34m\u001b[0m\u001b[0;34m\u001b[0m\u001b[0m\n\u001b[0m",
      "\u001b[0;31mNameError\u001b[0m: name 'dt' is not defined"
     ]
    }
   ],
   "source": [
    "#L_full_maker(xi_qutip, dt)\n",
    "L_full_maker(xi_qutip[-1, 0, :], dt)"
   ]
  },
  {
   "cell_type": "code",
   "execution_count": 69,
   "metadata": {
    "ExecuteTime": {
     "end_time": "2019-02-14T07:11:12.913126Z",
     "start_time": "2019-02-14T07:11:12.908115Z"
    }
   },
   "outputs": [
    {
     "data": {
      "text/plain": [
       "0.012566370614359173"
      ]
     },
     "execution_count": 69,
     "metadata": {},
     "output_type": "execute_result"
    }
   ],
   "source": [
    "2 * np.pi/500"
   ]
  },
  {
   "cell_type": "code",
   "execution_count": 70,
   "metadata": {
    "ExecuteTime": {
     "end_time": "2019-02-14T07:11:14.272897Z",
     "start_time": "2019-02-14T07:11:13.529952Z"
    }
   },
   "outputs": [
    {
     "data": {
      "text/latex": [
       "Quantum object: dims = [[2, 2], [2, 2]], shape = (4, 4), type = oper, isherm = False\\begin{equation*}\\left(\\begin{array}{*{11}c}0.999 & (-0.026-0.009j) & (-0.026+0.009j) & 7.461\\times10^{-04}\\\\(0.027-1.905\\times10^{-04}j) & (0.948+0.315j) & (-7.047\\times10^{-04}+2.453\\times10^{-04}j) & (-0.027+1.905\\times10^{-04}j)\\\\(0.027+1.905\\times10^{-04}j) & (-7.047\\times10^{-04}-2.453\\times10^{-04}j) & (0.948-0.315j) & (-0.027-1.905\\times10^{-04}j)\\\\7.461\\times10^{-04} & (0.026+0.009j) & (0.026-0.009j) & 0.999\\\\\\end{array}\\right)\\end{equation*}"
      ],
      "text/plain": [
       "Quantum object: dims = [[2, 2], [2, 2]], shape = (4, 4), type = oper, isherm = False\n",
       "Qobj data =\n",
       "[[ 9.99253868e-01+0.00000000e+00j -2.58499650e-02-8.79514822e-03j\n",
       "  -2.58499650e-02+8.79514822e-03j  7.46132034e-04+0.00000000e+00j]\n",
       " [ 2.73045606e-02-1.90499286e-04j  9.48220118e-01+3.15256881e-01j\n",
       "  -7.04672244e-04+2.45255050e-04j -2.73045606e-02+1.90499286e-04j]\n",
       " [ 2.73045606e-02+1.90499286e-04j -7.04672244e-04-2.45255050e-04j\n",
       "   9.48220118e-01-3.15256881e-01j -2.73045606e-02-1.90499286e-04j]\n",
       " [ 7.46132034e-04+0.00000000e+00j  2.58499650e-02+8.79514822e-03j\n",
       "   2.58499650e-02-8.79514822e-03j  9.99253868e-01+0.00000000e+00j]]"
      ]
     },
     "execution_count": 70,
     "metadata": {},
     "output_type": "execute_result"
    }
   ],
   "source": [
    "#L_full_maker(xi_qutip, dt)\n",
    "blah = L_full_maker(xi_qutip[-1, 0, :], (2 * np.pi/500))\n",
    "blah"
   ]
  },
  {
   "cell_type": "code",
   "execution_count": 71,
   "metadata": {
    "ExecuteTime": {
     "end_time": "2019-02-14T07:11:16.528009Z",
     "start_time": "2019-02-14T07:11:16.220605Z"
    }
   },
   "outputs": [
    {
     "data": {
      "text/plain": [
       "(<Figure size 576x432 with 2 Axes>,\n",
       " <matplotlib.axes._subplots.AxesSubplot at 0x1a240ba9b0>)"
      ]
     },
     "execution_count": 71,
     "metadata": {},
     "output_type": "execute_result"
    },
    {
     "data": {
      "image/png": "[encoded data removed]",
      "text/plain": [
       "<Figure size 576x432 with 2 Axes>"
      ]
     },
     "metadata": {},
     "output_type": "display_data"
    }
   ],
   "source": [
    "hinton(T)"
   ]
  },
  {
   "cell_type": "code",
   "execution_count": 72,
   "metadata": {
    "ExecuteTime": {
     "end_time": "2019-02-14T07:11:17.615870Z",
     "start_time": "2019-02-14T07:11:17.182958Z"
    }
   },
   "outputs": [
    {
     "data": {
      "text/plain": [
       "(<Figure size 576x432 with 2 Axes>,\n",
       " <matplotlib.axes._subplots.AxesSubplot at 0x1a24320438>)"
      ]
     },
     "execution_count": 72,
     "metadata": {},
     "output_type": "execute_result"
    },
    {
     "data": {
      "image/png": "[encoded data removed]",
      "text/plain": [
       "<Figure size 576x432 with 2 Axes>"
      ]
     },
     "metadata": {},
     "output_type": "display_data"
    }
   ],
   "source": [
    "hinton(blah/blah[0,0])"
   ]
  },
  {
   "cell_type": "code",
   "execution_count": 73,
   "metadata": {
    "ExecuteTime": {
     "end_time": "2019-02-14T07:11:21.454010Z",
     "start_time": "2019-02-14T07:11:21.250513Z"
    }
   },
   "outputs": [
    {
     "data": {
      "text/plain": [
       "(<Figure size 432x288 with 2 Axes>,\n",
       " <mpl_toolkits.mplot3d.axes3d.Axes3D at 0x1a24033f28>)"
      ]
     },
     "execution_count": 73,
     "metadata": {},
     "output_type": "execute_result"
    },
    {
     "data": {
      "image/png": "[encoded data removed]",
      "text/plain": [
       "<Figure size 432x288 with 2 Axes>"
      ]
     },
     "metadata": {},
     "output_type": "display_data"
    }
   ],
   "source": [
    "matrix_histogram(blah)"
   ]
  },
  {
   "cell_type": "code",
   "execution_count": 74,
   "metadata": {
    "ExecuteTime": {
     "end_time": "2019-02-14T07:11:26.598761Z",
     "start_time": "2019-02-14T07:11:26.394987Z"
    }
   },
   "outputs": [
    {
     "data": {
      "text/plain": [
       "(<Figure size 432x288 with 2 Axes>,\n",
       " <mpl_toolkits.mplot3d.axes3d.Axes3D at 0x1a245caeb8>)"
      ]
     },
     "execution_count": 74,
     "metadata": {},
     "output_type": "execute_result"
    },
    {
     "data": {
      "image/png": "[encoded data removed]",
      "text/plain": [
       "<Figure size 432x288 with 2 Axes>"
      ]
     },
     "metadata": {},
     "output_type": "display_data"
    }
   ],
   "source": [
    "matrix_histogram(T)"
   ]
  },
  {
   "cell_type": "code",
   "execution_count": null,
   "metadata": {},
   "outputs": [],
   "source": []
  },
  {
   "cell_type": "code",
   "execution_count": 75,
   "metadata": {
    "ExecuteTime": {
     "end_time": "2019-02-14T07:11:30.087644Z",
     "start_time": "2019-02-14T07:11:30.080920Z"
    }
   },
   "outputs": [
    {
     "data": {
      "text/latex": [
       "Quantum object: dims = [[2], [2]], shape = (2, 2), type = oper, isherm = True\\begin{equation*}\\left(\\begin{array}{*{11}c}0.0 & 1.0\\\\1.0 & 0.0\\\\\\end{array}\\right)\\end{equation*}"
      ],
      "text/plain": [
       "Quantum object: dims = [[2], [2]], shape = (2, 2), type = oper, isherm = True\n",
       "Qobj data =\n",
       "[[0. 1.]\n",
       " [1. 0.]]"
      ]
     },
     "execution_count": 75,
     "metadata": {},
     "output_type": "execute_result"
    }
   ],
   "source": [
    "T_s"
   ]
  },
  {
   "cell_type": "code",
   "execution_count": null,
   "metadata": {},
   "outputs": [],
   "source": []
  },
  {
   "cell_type": "code",
   "execution_count": 76,
   "metadata": {
    "ExecuteTime": {
     "end_time": "2019-02-14T07:11:33.348191Z",
     "start_time": "2019-02-14T07:11:33.338270Z"
    }
   },
   "outputs": [
    {
     "ename": "NameError",
     "evalue": "name 'dt' is not defined",
     "output_type": "error",
     "traceback": [
      "\u001b[0;31m---------------------------------------------------------------------------\u001b[0m",
      "\u001b[0;31mNameError\u001b[0m                                 Traceback (most recent call last)",
      "\u001b[0;32m<ipython-input-76-c01241f7a18c>\u001b[0m in \u001b[0;36m<module>\u001b[0;34m()\u001b[0m\n\u001b[0;32m----> 1\u001b[0;31m \u001b[0mF\u001b[0m\u001b[0;34m(\u001b[0m\u001b[0mxi_qutip\u001b[0m\u001b[0;34m[\u001b[0m\u001b[0;34m-\u001b[0m\u001b[0;36m1\u001b[0m\u001b[0;34m,\u001b[0m \u001b[0;36m0\u001b[0m\u001b[0;34m,\u001b[0m \u001b[0;34m:\u001b[0m\u001b[0;34m]\u001b[0m\u001b[0;34m,\u001b[0m \u001b[0mdt\u001b[0m\u001b[0;34m)\u001b[0m\u001b[0;34m\u001b[0m\u001b[0;34m\u001b[0m\u001b[0m\n\u001b[0m",
      "\u001b[0;31mNameError\u001b[0m: name 'dt' is not defined"
     ]
    }
   ],
   "source": [
    "F(xi_qutip[-1, 0, :], dt)"
   ]
  },
  {
   "cell_type": "code",
   "execution_count": 77,
   "metadata": {
    "ExecuteTime": {
     "end_time": "2019-02-14T07:11:35.611638Z",
     "start_time": "2019-02-14T07:11:34.800767Z"
    }
   },
   "outputs": [
    {
     "data": {
      "text/plain": [
       "-7.9998341608429975"
      ]
     },
     "execution_count": 77,
     "metadata": {},
     "output_type": "execute_result"
    }
   ],
   "source": [
    "F(xi_qutip[-1, 0, :], (2*np.pi/500))"
   ]
  },
  {
   "cell_type": "code",
   "execution_count": null,
   "metadata": {},
   "outputs": [],
   "source": []
  },
  {
   "cell_type": "code",
   "execution_count": null,
   "metadata": {},
   "outputs": [],
   "source": []
  },
  {
   "cell_type": "code",
   "execution_count": null,
   "metadata": {},
   "outputs": [],
   "source": []
  },
  {
   "cell_type": "markdown",
   "metadata": {},
   "source": [
    "### Try1"
   ]
  },
  {
   "cell_type": "code",
   "execution_count": null,
   "metadata": {
    "ExecuteTime": {
     "end_time": "2019-02-14T07:05:00.675733Z",
     "start_time": "2019-02-14T06:58:08.385Z"
    }
   },
   "outputs": [],
   "source": [
    "total_time = pi/omega_1\n",
    "epsilon = 10**(-6)\n",
    "max_iter = 10#10**4#1000#100#50#20\n",
    "time_steps = 20\n",
    "dt = total_time/time_steps"
   ]
  },
  {
   "cell_type": "code",
   "execution_count": null,
   "metadata": {
    "ExecuteTime": {
     "end_time": "2019-02-14T07:05:00.677378Z",
     "start_time": "2019-02-14T06:58:08.388Z"
    }
   },
   "outputs": [],
   "source": [
    "hinton(T)"
   ]
  },
  {
   "cell_type": "code",
   "execution_count": null,
   "metadata": {
    "ExecuteTime": {
     "end_time": "2019-02-14T07:05:00.678936Z",
     "start_time": "2019-02-14T06:58:08.390Z"
    }
   },
   "outputs": [],
   "source": [
    "xi_opt = terminator(max_iter, time_steps, total_time, epsilon)\n",
    "xi_opt"
   ]
  },
  {
   "cell_type": "code",
   "execution_count": null,
   "metadata": {
    "ExecuteTime": {
     "end_time": "2019-02-14T07:05:00.680380Z",
     "start_time": "2019-02-14T06:58:08.392Z"
    }
   },
   "outputs": [],
   "source": [
    "F(xi_opt, dt)"
   ]
  },
  {
   "cell_type": "code",
   "execution_count": null,
   "metadata": {
    "ExecuteTime": {
     "end_time": "2019-02-14T07:05:00.681872Z",
     "start_time": "2019-02-14T06:58:08.394Z"
    }
   },
   "outputs": [],
   "source": [
    "max_iter"
   ]
  },
  {
   "cell_type": "code",
   "execution_count": null,
   "metadata": {
    "ExecuteTime": {
     "end_time": "2019-02-14T07:05:00.683464Z",
     "start_time": "2019-02-14T06:58:08.396Z"
    }
   },
   "outputs": [],
   "source": [
    "T"
   ]
  },
  {
   "cell_type": "code",
   "execution_count": null,
   "metadata": {
    "ExecuteTime": {
     "end_time": "2019-02-14T07:05:00.685067Z",
     "start_time": "2019-02-14T06:58:08.399Z"
    }
   },
   "outputs": [],
   "source": [
    "L_full_maker(xi_opt, dt)"
   ]
  },
  {
   "cell_type": "code",
   "execution_count": null,
   "metadata": {
    "ExecuteTime": {
     "end_time": "2019-02-14T07:05:00.686630Z",
     "start_time": "2019-02-14T06:58:08.402Z"
    }
   },
   "outputs": [],
   "source": [
    "hinton(L_full_maker(xi_opt, dt))"
   ]
  },
  {
   "cell_type": "markdown",
   "metadata": {},
   "source": []
  },
  {
   "cell_type": "code",
   "execution_count": null,
   "metadata": {},
   "outputs": [],
   "source": []
  },
  {
   "cell_type": "code",
   "execution_count": null,
   "metadata": {},
   "outputs": [],
   "source": []
  }
 ],
 "metadata": {
  "kernelspec": {
   "display_name": "Python 3",
   "language": "python",
   "name": "python3"
  },
  "language_info": {
   "codemirror_mode": {
    "name": "ipython",
    "version": 3
   },
   "file_extension": ".py",
   "mimetype": "text/x-python",
   "name": "python",
   "nbconvert_exporter": "python",
   "pygments_lexer": "ipython3",
   "version": "3.6.8"
  },
  "toc": {
   "base_numbering": 1,
   "nav_menu": {},
   "number_sections": true,
   "sideBar": true,
   "skip_h1_title": false,
   "title_cell": "Table of Contents",
   "title_sidebar": "Contents",
   "toc_cell": false,
   "toc_position": {},
   "toc_section_display": true,
   "toc_window_display": true
  },
  "varInspector": {
   "cols": {
    "lenName": 16,
    "lenType": 16,
    "lenVar": 40
   },
   "kernels_config": {
    "python": {
     "delete_cmd_postfix": "",
     "delete_cmd_prefix": "del ",
     "library": "var_list.py",
     "varRefreshCmd": "print(var_dic_list())"
    },
    "r": {
     "delete_cmd_postfix": ") ",
     "delete_cmd_prefix": "rm(",
     "library": "var_list.r",
     "varRefreshCmd": "cat(var_dic_list()) "
    }
   },
   "types_to_exclude": [
    "module",
    "function",
    "builtin_function_or_method",
    "instance",
    "_Feature"
   ],
   "window_display": false
  }
 },
 "nbformat": 4,
 "nbformat_minor": 1
}
