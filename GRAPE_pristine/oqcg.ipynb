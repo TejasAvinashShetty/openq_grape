{
 "cells": [
  {
   "cell_type": "markdown",
   "metadata": {},
   "source": [
    "# Imports"
   ]
  },
  {
   "cell_type": "markdown",
   "metadata": {},
   "source": [
    "Need to have jate.py in your folder"
   ]
  },
  {
   "cell_type": "code",
   "execution_count": 335,
   "metadata": {
    "ExecuteTime": {
     "end_time": "2019-02-21T10:13:19.653756Z",
     "start_time": "2019-02-21T10:13:19.649327Z"
    }
   },
   "outputs": [],
   "source": [
    "%run jate.py #will import everything"
   ]
  },
  {
   "cell_type": "markdown",
   "metadata": {},
   "source": [
    "# Next chapter"
   ]
  },
  {
   "cell_type": "markdown",
   "metadata": {},
   "source": [
    "## memory clear (uses regex, so be careful)"
   ]
  },
  {
   "cell_type": "code",
   "execution_count": 336,
   "metadata": {
    "ExecuteTime": {
     "end_time": "2019-02-21T10:13:20.036877Z",
     "start_time": "2019-02-21T10:13:20.033822Z"
    }
   },
   "outputs": [],
   "source": [
    "%reset_selective -f var1, var2  # replace var1, var2 with your defined ones"
   ]
  },
  {
   "cell_type": "markdown",
   "metadata": {},
   "source": [
    "## Building parts"
   ]
  },
  {
   "cell_type": "markdown",
   "metadata": {},
   "source": [
    "### Building the things to be calculated only once"
   ]
  },
  {
   "cell_type": "code",
   "execution_count": 337,
   "metadata": {
    "ExecuteTime": {
     "end_time": "2019-02-21T10:13:20.316939Z",
     "start_time": "2019-02-21T10:13:20.310793Z"
    },
    "code_folding": []
   },
   "outputs": [],
   "source": [
    "def maker(omega_1, H_0, H_1, T_s, Lin, d=2, gamma=0.1):\n",
    "    r\"\"\"maker\n",
    "    Makes all the things that remain constant throught the program, but are \n",
    "    repeatedly used.\n",
    "    \n",
    "\n",
    "    Parameters\n",
    "    ----------\n",
    "    omega_1 : float\n",
    "              frequency corresponding to half of the difference between \n",
    "              energy levels of the qubit\n",
    "              \n",
    "    H_0     : Qobj\n",
    "              Bare Hamiltonian \n",
    "              \n",
    "    H_1     : Qobj\n",
    "              Interaction Hamiltonian \n",
    "              \n",
    "    T_s     : Qobj\n",
    "              Unitary to be implemented in the Hilbert space\n",
    "    \n",
    "    Lin     : Qobj\n",
    "              Linbladian operators\n",
    "\n",
    "    d       : int\n",
    "              Dimension of the matrix. Defaults to 2\n",
    "    \n",
    "    gamma   : float\n",
    "              Damping constant of the Linbladian\n",
    "\n",
    "    \n",
    "    Returns\n",
    "    -------\n",
    "    \n",
    "    ih0     : Qobj\n",
    "              $I\\otimes H_{0}$\n",
    "              \n",
    "    ih1     : Qobj\n",
    "              $I\\otimes H_{1}$\n",
    "\n",
    "    h0ci    : Qobj\n",
    "              $H_{0}^{*}\\otimes I $\n",
    "\n",
    "    h1ci    : Qobj\n",
    "              $H_{1}^{*}\\otimes I $\n",
    "\n",
    "    T       : Qobj\n",
    "              Target unitary transformed to the Liouville space\n",
    "\n",
    "    linbladian : Qobj\n",
    "                 The full lindbladian term as it appears on transformation to \n",
    "                 the Liouville space.\n",
    "        \n",
    "    \"\"\"\n",
    "    I = identity(d)\n",
    "    L_I = tensor(I, I)\n",
    "    ih0 = tensor(I, H_0) \n",
    "    ih1 = tensor(I, H_1) \n",
    "    h0ci = tensor(H_0.conj(), I) \n",
    "    h1ci = tensor(H_1.conj(), I)\n",
    "    x_k = ih1 - h1ci\n",
    "    term1 = tensor(Lin.trans(), Lin)\n",
    "    term2 = tensor(I, ((Lin.dag())*(Lin)))\n",
    "    term3 = tensor(((Lin.trans())*(Lin.conj())), I)\n",
    "    lindbladian = 1j*(gamma)*(term1 - 0.5*(term2 + term3))\n",
    "    T = tensor(T_s.trans(), T_s) # Transforming $T_{s}$ to liouville space\n",
    "    \n",
    "    \n",
    "    return ih0, ih1, h0ci, h1ci, x_k, lindbladian, T, L_I"
   ]
  },
  {
   "cell_type": "code",
   "execution_count": 338,
   "metadata": {
    "ExecuteTime": {
     "end_time": "2019-02-21T10:13:20.470362Z",
     "start_time": "2019-02-21T10:13:20.321859Z"
    }
   },
   "outputs": [],
   "source": [
    "omega_1 = 0.5\n",
    "H_0 = omega_1*sigmaz() \n",
    "H_1 = sigmay()\n",
    "T_s = sigmax() \n",
    "Lin = sigmaz()\n",
    "gamma = 0.1 # check for default value\n",
    "ih0, ih1, h0ci, h1ci, x_k, lindbladian, T, L_I  = maker(omega_1,\n",
    "                                                  H_0, H_1, T_s, \n",
    "                                                  Lin, d=2, gamma=gamma)"
   ]
  },
  {
   "cell_type": "code",
   "execution_count": 339,
   "metadata": {
    "ExecuteTime": {
     "end_time": "2019-02-21T10:13:20.586387Z",
     "start_time": "2019-02-21T10:13:20.471886Z"
    }
   },
   "outputs": [
    {
     "data": {
      "text/plain": [
       "0.1"
      ]
     },
     "execution_count": 339,
     "metadata": {},
     "output_type": "execute_result"
    }
   ],
   "source": [
    "gamma"
   ]
  },
  {
   "cell_type": "code",
   "execution_count": 340,
   "metadata": {
    "ExecuteTime": {
     "end_time": "2019-02-21T10:13:20.681469Z",
     "start_time": "2019-02-21T10:13:20.588009Z"
    }
   },
   "outputs": [
    {
     "data": {
      "text/latex": [
       "Quantum object: dims = [[2, 2], [2, 2]], shape = (4, 4), type = oper, isherm = True\\begin{equation*}\\left(\\begin{array}{*{11}c}1.0 & 0.0 & 0.0 & 0.0\\\\0.0 & 1.0 & 0.0 & 0.0\\\\0.0 & 0.0 & 1.0 & 0.0\\\\0.0 & 0.0 & 0.0 & 1.0\\\\\\end{array}\\right)\\end{equation*}"
      ],
      "text/plain": [
       "Quantum object: dims = [[2, 2], [2, 2]], shape = (4, 4), type = oper, isherm = True\n",
       "Qobj data =\n",
       "[[1. 0. 0. 0.]\n",
       " [0. 1. 0. 0.]\n",
       " [0. 0. 1. 0.]\n",
       " [0. 0. 0. 1.]]"
      ]
     },
     "execution_count": 340,
     "metadata": {},
     "output_type": "execute_result"
    }
   ],
   "source": [
    "L_I"
   ]
  },
  {
   "cell_type": "markdown",
   "metadata": {},
   "source": [
    "### Building $A(t)$"
   ]
  },
  {
   "cell_type": "code",
   "execution_count": 341,
   "metadata": {
    "ExecuteTime": {
     "end_time": "2019-02-21T10:13:20.762374Z",
     "start_time": "2019-02-21T10:13:20.684182Z"
    }
   },
   "outputs": [],
   "source": [
    "def A(xi):\n",
    "    r\"\"\"making $A(t)$\"\"\"\n",
    "    A = ih0 - h0ci + xi*(ih1 - h1ci) + lindbladian\n",
    "    return A"
   ]
  },
  {
   "cell_type": "code",
   "execution_count": 342,
   "metadata": {
    "ExecuteTime": {
     "end_time": "2019-02-21T10:13:20.866465Z",
     "start_time": "2019-02-21T10:13:20.764012Z"
    }
   },
   "outputs": [
    {
     "data": {
      "text/latex": [
       "Quantum object: dims = [[2, 2], [2, 2]], shape = (4, 4), type = oper, isherm = False\\begin{equation*}\\left(\\begin{array}{*{11}c}0.0 & -0.500j & -0.500j & 0.0\\\\0.500j & (-1.0-0.200j) & 0.0 & -0.500j\\\\0.500j & 0.0 & (1.0-0.200j) & -0.500j\\\\0.0 & 0.500j & 0.500j & 0.0\\\\\\end{array}\\right)\\end{equation*}"
      ],
      "text/plain": [
       "Quantum object: dims = [[2, 2], [2, 2]], shape = (4, 4), type = oper, isherm = False\n",
       "Qobj data =\n",
       "[[ 0.+0.j   0.-0.5j  0.-0.5j  0.+0.j ]\n",
       " [ 0.+0.5j -1.-0.2j  0.+0.j   0.-0.5j]\n",
       " [ 0.+0.5j  0.+0.j   1.-0.2j  0.-0.5j]\n",
       " [ 0.+0.j   0.+0.5j  0.+0.5j  0.+0.j ]]"
      ]
     },
     "execution_count": 342,
     "metadata": {},
     "output_type": "execute_result"
    }
   ],
   "source": [
    "A(0.5)"
   ]
  },
  {
   "cell_type": "markdown",
   "metadata": {},
   "source": [
    "### Building $L(t)$ and the Identity in the Liouville space"
   ]
  },
  {
   "cell_type": "code",
   "execution_count": 343,
   "metadata": {
    "ExecuteTime": {
     "end_time": "2019-02-21T10:13:20.971142Z",
     "start_time": "2019-02-21T10:13:20.867936Z"
    }
   },
   "outputs": [],
   "source": [
    "def L(xi, dt):\n",
    "    r\"\"\"Making $L(t) from $A(t)$\"\"\"\n",
    "    L = (-1j*A(xi)*dt).expm()\n",
    "    return L"
   ]
  },
  {
   "cell_type": "code",
   "execution_count": 344,
   "metadata": {
    "ExecuteTime": {
     "end_time": "2019-02-21T10:13:21.084763Z",
     "start_time": "2019-02-21T10:13:20.972841Z"
    }
   },
   "outputs": [
    {
     "data": {
      "text/latex": [
       "Quantum object: dims = [[2, 2], [2, 2]], shape = (4, 4), type = oper, isherm = False\\begin{equation*}\\left(\\begin{array}{*{11}c}1.000 & (-4.999\\times10^{-04}-2.500\\times10^{-07}j) & (-4.999\\times10^{-04}+2.500\\times10^{-07}j) & 2.500\\times10^{-07}\\\\(4.999\\times10^{-04}+2.500\\times10^{-07}j) & (1.000+9.998\\times10^{-04}j) & -2.500\\times10^{-07} & (-4.999\\times10^{-04}-2.500\\times10^{-07}j)\\\\(4.999\\times10^{-04}-2.500\\times10^{-07}j) & -2.500\\times10^{-07} & (1.000-9.998\\times10^{-04}j) & (-4.999\\times10^{-04}+2.500\\times10^{-07}j)\\\\2.500\\times10^{-07} & (4.999\\times10^{-04}+2.500\\times10^{-07}j) & (4.999\\times10^{-04}-2.500\\times10^{-07}j) & 1.000\\\\\\end{array}\\right)\\end{equation*}"
      ],
      "text/plain": [
       "Quantum object: dims = [[2, 2], [2, 2]], shape = (4, 4), type = oper, isherm = False\n",
       "Qobj data =\n",
       "[[ 9.99999750e-01+0.00000000e+00j -4.99949837e-04-2.49966628e-07j\n",
       "  -4.99949837e-04+2.49966628e-07j  2.49983293e-07+0.00000000e+00j]\n",
       " [ 4.99949837e-04+2.49966628e-07j  9.99799270e-01+9.99799687e-04j\n",
       "  -2.49966628e-07+0.00000000e+00j -4.99949837e-04-2.49966628e-07j]\n",
       " [ 4.99949837e-04-2.49966628e-07j -2.49966628e-07+0.00000000e+00j\n",
       "   9.99799270e-01-9.99799687e-04j -4.99949837e-04+2.49966628e-07j]\n",
       " [ 2.49983293e-07+0.00000000e+00j  4.99949837e-04+2.49966628e-07j\n",
       "   4.99949837e-04-2.49966628e-07j  9.99999750e-01+0.00000000e+00j]]"
      ]
     },
     "execution_count": 344,
     "metadata": {},
     "output_type": "execute_result"
    }
   ],
   "source": [
    "L(0.5, 0.001)"
   ]
  },
  {
   "cell_type": "markdown",
   "metadata": {},
   "source": [
    "## Major functions"
   ]
  },
  {
   "cell_type": "markdown",
   "metadata": {},
   "source": [
    "### Major functions 1"
   ]
  },
  {
   "cell_type": "code",
   "execution_count": 345,
   "metadata": {
    "ExecuteTime": {
     "end_time": "2019-02-21T10:13:21.187666Z",
     "start_time": "2019-02-21T10:13:21.086531Z"
    }
   },
   "outputs": [],
   "source": [
    "# building the function to optimize (optimizee)\n",
    "def L_vec(xi_vec, dt):\n",
    "    r\"\"\"Building the vector of differential $L(t)$\"\"\"\n",
    "    L_vec = [L(xi, dt) for xi in xi_vec] \n",
    "    return L_vec"
   ]
  },
  {
   "cell_type": "code",
   "execution_count": 346,
   "metadata": {
    "ExecuteTime": {
     "end_time": "2019-02-21T10:13:21.296100Z",
     "start_time": "2019-02-21T10:13:21.189337Z"
    }
   },
   "outputs": [],
   "source": [
    "def fidelity_calc(A, B):\n",
    "    r\"\"\"Making a generalised fidelity function\"\"\"\n",
    "    first_part = (A - B).dag()\n",
    "    second_part = (A - B)\n",
    "    f_int = (first_part* second_part)\n",
    "    f = f_int.tr()\n",
    "    return f"
   ]
  },
  {
   "cell_type": "code",
   "execution_count": 347,
   "metadata": {
    "ExecuteTime": {
     "end_time": "2019-02-21T10:13:21.429315Z",
     "start_time": "2019-02-21T10:13:21.297998Z"
    }
   },
   "outputs": [],
   "source": [
    "def L_full_maker(xi_vec, dt):\n",
    "    r\"\"\"Building the $L(t)$ for the total time $t$\"\"\"\n",
    "    xi_vec_size = xi_vec.size # finding the size of xi\n",
    "    L_full = L_I # Identity for the for loop of L\n",
    "    L_v = L_vec(xi_vec, dt) # calling L_vec\n",
    "    for i in range(xi_vec_size): # generating L_full\n",
    "        L_full = L_full*L_v[xi_vec_size - 1 - i]\n",
    "    return L_full"
   ]
  },
  {
   "cell_type": "code",
   "execution_count": 348,
   "metadata": {
    "ExecuteTime": {
     "end_time": "2019-02-21T10:13:21.537738Z",
     "start_time": "2019-02-21T10:13:21.430999Z"
    }
   },
   "outputs": [],
   "source": [
    "def F(xi_vec, dt):\n",
    "    r\"\"\"Using the fidelity metric to find out the closeness between $T$\n",
    "    and $L(t)$\"\"\"\n",
    "    L_full = L_full_maker(xi_vec, dt)\n",
    "    F = real(-fidelity_calc(T, L_full))   \n",
    "    return F"
   ]
  },
  {
   "cell_type": "markdown",
   "metadata": {},
   "source": [
    "### Testing major functions 1"
   ]
  },
  {
   "cell_type": "code",
   "execution_count": 349,
   "metadata": {
    "ExecuteTime": {
     "end_time": "2019-02-21T10:13:21.648961Z",
     "start_time": "2019-02-21T10:13:21.539328Z"
    }
   },
   "outputs": [
    {
     "data": {
      "text/plain": [
       "4.0"
      ]
     },
     "execution_count": 349,
     "metadata": {},
     "output_type": "execute_result"
    }
   ],
   "source": [
    "fidelity_calc(sigmax(), sigmay())"
   ]
  },
  {
   "cell_type": "code",
   "execution_count": 350,
   "metadata": {
    "ExecuteTime": {
     "end_time": "2019-02-21T10:13:21.757471Z",
     "start_time": "2019-02-21T10:13:21.650505Z"
    }
   },
   "outputs": [
    {
     "data": {
      "text/plain": [
       "0.0"
      ]
     },
     "execution_count": 350,
     "metadata": {},
     "output_type": "execute_result"
    }
   ],
   "source": [
    "fidelity_calc(sigmay(), sigmay())"
   ]
  },
  {
   "cell_type": "code",
   "execution_count": 351,
   "metadata": {
    "ExecuteTime": {
     "end_time": "2019-02-21T10:13:21.863880Z",
     "start_time": "2019-02-21T10:13:21.759168Z"
    }
   },
   "outputs": [
    {
     "data": {
      "text/plain": [
       "array([1., 2.])"
      ]
     },
     "execution_count": 351,
     "metadata": {},
     "output_type": "execute_result"
    }
   ],
   "source": [
    "xi_vec_test = array([1.0, 2.0])\n",
    "xi_vec_test"
   ]
  },
  {
   "cell_type": "code",
   "execution_count": 352,
   "metadata": {
    "ExecuteTime": {
     "end_time": "2019-02-21T10:13:21.963509Z",
     "start_time": "2019-02-21T10:13:21.865554Z"
    }
   },
   "outputs": [
    {
     "data": {
      "text/plain": [
       "2"
      ]
     },
     "execution_count": 352,
     "metadata": {},
     "output_type": "execute_result"
    }
   ],
   "source": [
    "xi_vec_test.size"
   ]
  },
  {
   "cell_type": "code",
   "execution_count": 353,
   "metadata": {
    "ExecuteTime": {
     "end_time": "2019-02-21T10:13:22.064027Z",
     "start_time": "2019-02-21T10:13:21.965072Z"
    }
   },
   "outputs": [
    {
     "data": {
      "text/plain": [
       "[1.0, 4.0]"
      ]
     },
     "execution_count": 353,
     "metadata": {},
     "output_type": "execute_result"
    }
   ],
   "source": [
    "w_vec = [xi**2 for xi in xi_vec_test]\n",
    "w_vec"
   ]
  },
  {
   "cell_type": "code",
   "execution_count": 354,
   "metadata": {
    "ExecuteTime": {
     "end_time": "2019-02-21T10:13:22.169413Z",
     "start_time": "2019-02-21T10:13:22.065528Z"
    }
   },
   "outputs": [
    {
     "data": {
      "text/plain": [
       "-7.998400634493138"
      ]
     },
     "execution_count": 354,
     "metadata": {},
     "output_type": "execute_result"
    }
   ],
   "source": [
    "# F(xi_vec, dt)\n",
    "F(xi_vec_test, 0.001)"
   ]
  },
  {
   "cell_type": "code",
   "execution_count": 355,
   "metadata": {
    "ExecuteTime": {
     "end_time": "2019-02-21T10:13:22.282485Z",
     "start_time": "2019-02-21T10:13:22.171032Z"
    }
   },
   "outputs": [],
   "source": [
    "L_v = L_vec(xi_vec_test, 0.001)"
   ]
  },
  {
   "cell_type": "code",
   "execution_count": 356,
   "metadata": {
    "ExecuteTime": {
     "end_time": "2019-02-21T10:13:22.397614Z",
     "start_time": "2019-02-21T10:13:22.283854Z"
    }
   },
   "outputs": [
    {
     "data": {
      "text/plain": [
       "[Quantum object: dims = [[2, 2], [2, 2]], shape = (4, 4), type = oper, isherm = False\n",
       " Qobj data =\n",
       " [[ 9.99999000e-01+0.00000000e+00j -9.99899173e-04-4.99933130e-07j\n",
       "   -9.99899173e-04+4.99933130e-07j  9.99932920e-07+0.00000000e+00j]\n",
       "  [ 9.99899173e-04+4.99933130e-07j  9.99798520e-01+9.99799187e-04j\n",
       "   -9.99866260e-07+0.00000000e+00j -9.99899173e-04-4.99933130e-07j]\n",
       "  [ 9.99899173e-04-4.99933130e-07j -9.99866260e-07+0.00000000e+00j\n",
       "    9.99798520e-01-9.99799187e-04j -9.99899173e-04+4.99933130e-07j]\n",
       "  [ 9.99932920e-07+0.00000000e+00j  9.99899173e-04+4.99933130e-07j\n",
       "    9.99899173e-04-4.99933130e-07j  9.99999000e-01+0.00000000e+00j]],\n",
       " Quantum object: dims = [[2, 2], [2, 2]], shape = (4, 4), type = oper, isherm = False\n",
       " Qobj data =\n",
       " [[ 9.99996000e-01+0.00000000e+00j -1.99979435e-03-9.99865260e-07j\n",
       "   -1.99979435e-03+9.99865260e-07j  3.99972768e-06+0.00000000e+00j]\n",
       "  [ 1.99979435e-03+9.99865260e-07j  9.99795521e-01+9.99797187e-04j\n",
       "   -3.99946104e-06+0.00000000e+00j -1.99979435e-03-9.99865260e-07j]\n",
       "  [ 1.99979435e-03-9.99865260e-07j -3.99946104e-06+0.00000000e+00j\n",
       "    9.99795521e-01-9.99797187e-04j -1.99979435e-03+9.99865260e-07j]\n",
       "  [ 3.99972768e-06+0.00000000e+00j  1.99979435e-03+9.99865260e-07j\n",
       "    1.99979435e-03-9.99865260e-07j  9.99996000e-01+0.00000000e+00j]]]"
      ]
     },
     "execution_count": 356,
     "metadata": {},
     "output_type": "execute_result"
    }
   ],
   "source": [
    "L_v"
   ]
  },
  {
   "cell_type": "markdown",
   "metadata": {},
   "source": [
    "### Major Functions 2"
   ]
  },
  {
   "cell_type": "code",
   "execution_count": 357,
   "metadata": {
    "ExecuteTime": {
     "end_time": "2019-02-21T10:13:22.521313Z",
     "start_time": "2019-02-21T10:13:22.399264Z"
    }
   },
   "outputs": [],
   "source": [
    "def L_comma_k_maker(xi_vec, k, dt):\n",
    "    r\"\"\"Making of the derivative of full $L(t)$ at time $t_{k}$\"\"\"\n",
    "    N = xi_vec.size \n",
    "    # Determining the size of xi, and thus the time_steps indirectly.\n",
    "    L_v = L_vec(xi_vec, dt)# Making of the full $L(t)$\n",
    "    inner_part = L_I # Beginner for the for loop\n",
    "    for i in range(N):\n",
    "        if i == ( N - 1 - k ):\n",
    "            # The step at which $X_{k}(t)$ has to be inserted \n",
    "            inner_part = inner_part*x_k*L_v[k - 1]\n",
    "        else:\n",
    "            # Usual multiplications of $L_{k}$\n",
    "            inner_part = inner_part*L_v[N - 1 - i]\n",
    "    l_comma_k = inner_part\n",
    "    return l_comma_k\n",
    "    "
   ]
  },
  {
   "cell_type": "code",
   "execution_count": 358,
   "metadata": {
    "ExecuteTime": {
     "end_time": "2019-02-21T10:13:22.665438Z",
     "start_time": "2019-02-21T10:13:22.522722Z"
    }
   },
   "outputs": [
    {
     "data": {
      "text/latex": [
       "Quantum object: dims = [[2, 2], [2, 2]], shape = (4, 4), type = oper, isherm = False\\begin{equation*}\\left(\\begin{array}{*{11}c}1.000 & (-0.003-3.499\\times10^{-06}j) & (-0.003+3.499\\times10^{-06}j) & 8.999\\times10^{-06}\\\\(0.003+2.499\\times10^{-06}j) & (1.000+0.002j) & (-8.998\\times10^{-06}+2.999\\times10^{-09}j) & (-0.003-2.499\\times10^{-06}j)\\\\(0.003-2.499\\times10^{-06}j) & (-8.998\\times10^{-06}-2.999\\times10^{-09}j) & (1.000-0.002j) & (-0.003+2.499\\times10^{-06}j)\\\\8.999\\times10^{-06} & (0.003+3.499\\times10^{-06}j) & (0.003-3.499\\times10^{-06}j) & 1.000\\\\\\end{array}\\right)\\end{equation*}"
      ],
      "text/plain": [
       "Quantum object: dims = [[2, 2], [2, 2]], shape = (4, 4), type = oper, isherm = False\n",
       "Qobj data =\n",
       "[[ 9.99991001e-01+0.00000000e+00j -2.99927960e-03-3.49898670e-06j\n",
       "  -2.99927960e-03+3.49898670e-06j  8.99883703e-06+0.00000000e+00j]\n",
       " [ 2.99948056e-03+2.49939255e-06j  9.99589083e-01+1.99918650e-03j\n",
       "  -8.99750347e-06+2.99899242e-09j -2.99948056e-03-2.49939255e-06j]\n",
       " [ 2.99948056e-03-2.49939255e-06j -8.99750347e-06-2.99899242e-09j\n",
       "   9.99589083e-01-1.99918650e-03j -2.99948056e-03+2.49939255e-06j]\n",
       " [ 8.99883703e-06+0.00000000e+00j  2.99927960e-03+3.49898670e-06j\n",
       "   2.99927960e-03-3.49898670e-06j  9.99991001e-01+0.00000000e+00j]]"
      ]
     },
     "execution_count": 358,
     "metadata": {},
     "output_type": "execute_result"
    }
   ],
   "source": [
    "# L_comma_k_maker(xi_vec, k, dt)\n",
    "L_comma_k_maker(xi_vec_test, 2, 0.001)"
   ]
  },
  {
   "cell_type": "code",
   "execution_count": 359,
   "metadata": {
    "ExecuteTime": {
     "end_time": "2019-02-21T10:13:22.737898Z",
     "start_time": "2019-02-21T10:13:22.667236Z"
    }
   },
   "outputs": [],
   "source": [
    "def updater(xi_vec, dt, epsilon):\n",
    "    r\"\"\"Implementing the GRAPE update step\"\"\"\n",
    "    xi_vec_size = xi_vec.size # finding the size of xi\n",
    "    L_full = L_full_maker(xi_vec, dt)\n",
    "    di = []\n",
    "    for k in range(xi_vec_size):\n",
    "        # Building the thing to be added to the old function\n",
    "        L_comma_k = L_comma_k_maker(xi_vec, k, dt)\n",
    "        differentiated = T - L_comma_k\n",
    "        plain = T - L_full\n",
    "        c = -differentiated.dag()*plain\n",
    "        d = -plain.dag()*differentiated\n",
    "        inside = c.tr() + d.tr()\n",
    "        di.append(epsilon*inside)\n",
    "\n",
    "    diff = array(di)\n",
    "    xi_new_vec = xi_vec + diff\n",
    "    return diff, xi_new_vec\n",
    "    "
   ]
  },
  {
   "cell_type": "code",
   "execution_count": 360,
   "metadata": {
    "ExecuteTime": {
     "end_time": "2019-02-21T10:13:22.855152Z",
     "start_time": "2019-02-21T10:13:22.739633Z"
    }
   },
   "outputs": [
    {
     "data": {
      "text/plain": [
       "(array([-0.008+0.j, -0.008+0.j]), array([0.992+0.j, 1.992+0.j]))"
      ]
     },
     "execution_count": 360,
     "metadata": {},
     "output_type": "execute_result"
    }
   ],
   "source": [
    "#  updater(xi_vec, dt, epsilon)\n",
    "updater(xi_vec_test, 0.001, 0.001)"
   ]
  },
  {
   "cell_type": "markdown",
   "metadata": {},
   "source": [
    "## Qutip grape for closed system"
   ]
  },
  {
   "cell_type": "code",
   "execution_count": 361,
   "metadata": {
    "ExecuteTime": {
     "end_time": "2019-02-21T10:13:22.938424Z",
     "start_time": "2019-02-21T10:13:22.856780Z"
    }
   },
   "outputs": [],
   "source": [
    "import time"
   ]
  },
  {
   "cell_type": "code",
   "execution_count": 362,
   "metadata": {
    "ExecuteTime": {
     "end_time": "2019-02-21T10:13:23.038387Z",
     "start_time": "2019-02-21T10:13:22.940064Z"
    }
   },
   "outputs": [],
   "source": [
    "total_time_evo = 2*pi # total time allowed for evolution"
   ]
  },
  {
   "cell_type": "code",
   "execution_count": 363,
   "metadata": {
    "ExecuteTime": {
     "end_time": "2019-02-21T10:13:23.138371Z",
     "start_time": "2019-02-21T10:13:23.040045Z"
    }
   },
   "outputs": [],
   "source": [
    "times = linspace(0, total_time_evo, 500) "
   ]
  },
  {
   "cell_type": "code",
   "execution_count": 364,
   "metadata": {
    "ExecuteTime": {
     "end_time": "2019-02-21T10:13:23.238296Z",
     "start_time": "2019-02-21T10:13:23.140052Z"
    }
   },
   "outputs": [],
   "source": [
    "# vector of times at which discretization \n",
    "# is carried out"
   ]
  },
  {
   "cell_type": "code",
   "execution_count": 365,
   "metadata": {
    "ExecuteTime": {
     "end_time": "2019-02-21T10:13:23.365135Z",
     "start_time": "2019-02-21T10:13:23.240121Z"
    }
   },
   "outputs": [
    {
     "data": {
      "text/latex": [
       "Quantum object: dims = [[2], [2]], shape = (2, 2), type = oper, isherm = True\\begin{equation*}\\left(\\begin{array}{*{11}c}0.0 & 1.0\\\\1.0 & 0.0\\\\\\end{array}\\right)\\end{equation*}"
      ],
      "text/plain": [
       "Quantum object: dims = [[2], [2]], shape = (2, 2), type = oper, isherm = True\n",
       "Qobj data =\n",
       "[[0. 1.]\n",
       " [1. 0.]]"
      ]
     },
     "execution_count": 365,
     "metadata": {},
     "output_type": "execute_result"
    }
   ],
   "source": [
    "U = T_s\n",
    "U"
   ]
  },
  {
   "cell_type": "code",
   "execution_count": 366,
   "metadata": {
    "ExecuteTime": {
     "end_time": "2019-02-21T10:13:23.463448Z",
     "start_time": "2019-02-21T10:13:23.366777Z"
    }
   },
   "outputs": [],
   "source": [
    "R = 500"
   ]
  },
  {
   "cell_type": "code",
   "execution_count": 367,
   "metadata": {
    "ExecuteTime": {
     "end_time": "2019-02-21T10:13:23.581054Z",
     "start_time": "2019-02-21T10:13:23.464679Z"
    }
   },
   "outputs": [
    {
     "data": {
      "text/plain": [
       "[Quantum object: dims = [[2], [2]], shape = (2, 2), type = oper, isherm = True\n",
       " Qobj data =\n",
       " [[0.+0.j 0.-1.j]\n",
       "  [0.+1.j 0.+0.j]]]"
      ]
     },
     "execution_count": 367,
     "metadata": {},
     "output_type": "execute_result"
    }
   ],
   "source": [
    "H_ops = [H_1]\n",
    "H_ops"
   ]
  },
  {
   "cell_type": "code",
   "execution_count": 368,
   "metadata": {
    "ExecuteTime": {
     "end_time": "2019-02-21T10:13:23.681037Z",
     "start_time": "2019-02-21T10:13:23.582863Z"
    }
   },
   "outputs": [
    {
     "data": {
      "text/plain": [
       "['$g_{no diss}$']"
      ]
     },
     "execution_count": 368,
     "metadata": {},
     "output_type": "execute_result"
    }
   ],
   "source": [
    "H_labels = [r'$g_{no diss}$']\n",
    "H_labels"
   ]
  },
  {
   "cell_type": "code",
   "execution_count": 369,
   "metadata": {
    "ExecuteTime": {
     "end_time": "2019-02-21T10:13:23.806449Z",
     "start_time": "2019-02-21T10:13:23.682413Z"
    }
   },
   "outputs": [
    {
     "data": {
      "text/latex": [
       "Quantum object: dims = [[2], [2]], shape = (2, 2), type = oper, isherm = True\\begin{equation*}\\left(\\begin{array}{*{11}c}0.500 & 0.0\\\\0.0 & -0.500\\\\\\end{array}\\right)\\end{equation*}"
      ],
      "text/plain": [
       "Quantum object: dims = [[2], [2]], shape = (2, 2), type = oper, isherm = True\n",
       "Qobj data =\n",
       "[[ 0.5  0. ]\n",
       " [ 0.  -0.5]]"
      ]
     },
     "execution_count": 369,
     "metadata": {},
     "output_type": "execute_result"
    }
   ],
   "source": [
    "H0 = H_0\n",
    "H0"
   ]
  },
  {
   "cell_type": "code",
   "execution_count": 370,
   "metadata": {
    "ExecuteTime": {
     "end_time": "2019-02-21T10:13:23.871734Z",
     "start_time": "2019-02-21T10:13:23.807673Z"
    }
   },
   "outputs": [],
   "source": [
    "c_ops = []"
   ]
  },
  {
   "cell_type": "code",
   "execution_count": 371,
   "metadata": {
    "ExecuteTime": {
     "end_time": "2019-02-21T10:13:23.979873Z",
     "start_time": "2019-02-21T10:13:23.873193Z"
    }
   },
   "outputs": [],
   "source": [
    "from qutip.control.grape import plot_grape_control_fields, _overlap \n",
    "from qutip.control.grape import grape_unitary_adaptive, cy_grape_unitary"
   ]
  },
  {
   "cell_type": "code",
   "execution_count": 372,
   "metadata": {
    "ExecuteTime": {
     "end_time": "2019-02-21T10:13:24.088218Z",
     "start_time": "2019-02-21T10:13:23.981040Z"
    }
   },
   "outputs": [],
   "source": [
    "from scipy.interpolate import interp1d\n",
    "from qutip.ui.progressbar import TextProgressBar, EnhancedTextProgressBar"
   ]
  },
  {
   "cell_type": "code",
   "execution_count": 373,
   "metadata": {
    "ExecuteTime": {
     "end_time": "2019-02-21T10:13:24.238363Z",
     "start_time": "2019-02-21T10:13:24.089522Z"
    }
   },
   "outputs": [],
   "source": [
    "u0 = array([rand(len(times)) * 2 * pi * 0.05 for _ in range(len(H_ops))])"
   ]
  },
  {
   "cell_type": "code",
   "execution_count": 374,
   "metadata": {
    "ExecuteTime": {
     "end_time": "2019-02-21T10:13:24.371003Z",
     "start_time": "2019-02-21T10:13:24.239453Z"
    }
   },
   "outputs": [],
   "source": [
    "from numpy import convolve\n",
    "u0 = [convolve(ones(10)/10, u0[idx,:], mode='same') for idx in range(len(H_ops))]"
   ]
  },
  {
   "cell_type": "code",
   "execution_count": 375,
   "metadata": {
    "ExecuteTime": {
     "end_time": "2019-02-21T10:13:24.463341Z",
     "start_time": "2019-02-21T10:13:24.372496Z"
    }
   },
   "outputs": [],
   "source": [
    "u_limits = None #[0, 1 * 2 * pi]\n",
    "alpha = None"
   ]
  },
  {
   "cell_type": "code",
   "execution_count": 376,
   "metadata": {
    "ExecuteTime": {
     "end_time": "2019-02-21T10:19:17.793402Z",
     "start_time": "2019-02-21T10:13:24.464777Z"
    }
   },
   "outputs": [
    {
     "name": "stdout",
     "output_type": "stream",
     "text": [
      "10.0%. Run time:  36.57s. Est. time left: 00:00:05:29\n",
      "20.0%. Run time:  71.64s. Est. time left: 00:00:04:46\n",
      "30.0%. Run time: 107.35s. Est. time left: 00:00:04:10\n",
      "40.0%. Run time: 142.59s. Est. time left: 00:00:03:33\n",
      "50.0%. Run time: 177.99s. Est. time left: 00:00:02:57\n",
      "60.0%. Run time: 213.70s. Est. time left: 00:00:02:22\n",
      "70.0%. Run time: 249.70s. Est. time left: 00:00:01:47\n",
      "80.0%. Run time: 284.79s. Est. time left: 00:00:01:11\n",
      "90.0%. Run time: 319.59s. Est. time left: 00:00:00:35\n",
      "Total run time: 353.15s\n"
     ]
    }
   ],
   "source": [
    "result = cy_grape_unitary(U, H0, H_ops, R, times, u_start=u0, u_limits=u_limits,\n",
    "                          eps=2*np.pi*1, alpha=alpha, phase_sensitive=False,\n",
    "                          progress_bar=TextProgressBar())"
   ]
  },
  {
   "cell_type": "markdown",
   "metadata": {},
   "source": [
    "#### Plot of optimized control field without dissipation"
   ]
  },
  {
   "cell_type": "code",
   "execution_count": 377,
   "metadata": {
    "ExecuteTime": {
     "end_time": "2019-02-21T10:19:18.792987Z",
     "start_time": "2019-02-21T10:19:17.795398Z"
    }
   },
   "outputs": [
    {
     "data": {
      "image/png": "[encoded data removed]",
      "text/plain": [
       "<Figure size 576x144 with 1 Axes>"
      ]
     },
     "metadata": {},
     "output_type": "display_data"
    }
   ],
   "source": [
    "plot_grape_control_fields(times,\n",
    "                          result.u / (2 * np.pi), H_labels, uniform_axes=True);"
   ]
  },
  {
   "cell_type": "code",
   "execution_count": 378,
   "metadata": {
    "ExecuteTime": {
     "end_time": "2019-02-21T10:19:18.798641Z",
     "start_time": "2019-02-21T10:19:18.794491Z"
    }
   },
   "outputs": [
    {
     "data": {
      "text/latex": [
       "Quantum object: dims = [[2], [2]], shape = (2, 2), type = oper, isherm = True\\begin{equation*}\\left(\\begin{array}{*{11}c}0.0 & 1.0\\\\1.0 & 0.0\\\\\\end{array}\\right)\\end{equation*}"
      ],
      "text/plain": [
       "Quantum object: dims = [[2], [2]], shape = (2, 2), type = oper, isherm = True\n",
       "Qobj data =\n",
       "[[0. 1.]\n",
       " [1. 0.]]"
      ]
     },
     "execution_count": 378,
     "metadata": {},
     "output_type": "execute_result"
    }
   ],
   "source": [
    "U"
   ]
  },
  {
   "cell_type": "code",
   "execution_count": 379,
   "metadata": {
    "ExecuteTime": {
     "end_time": "2019-02-21T10:19:18.886598Z",
     "start_time": "2019-02-21T10:19:18.800433Z"
    }
   },
   "outputs": [
    {
     "data": {
      "text/latex": [
       "Quantum object: dims = [[2], [2]], shape = (2, 2), type = oper, isherm = False\\begin{equation*}\\left(\\begin{array}{*{11}c}1.318\\times10^{-15} & -1.000j\\\\-1.0j & -1.063\\times10^{-15}\\\\\\end{array}\\right)\\end{equation*}"
      ],
      "text/plain": [
       "Quantum object: dims = [[2], [2]], shape = (2, 2), type = oper, isherm = False\n",
       "Qobj data =\n",
       "[[ 1.31810016e-15-3.24393290e-16j -1.88908941e-16-1.00000000e+00j]\n",
       " [-4.66176684e-16-1.00000000e+00j -1.06326013e-15-4.51028104e-16j]]"
      ]
     },
     "execution_count": 379,
     "metadata": {},
     "output_type": "execute_result"
    }
   ],
   "source": [
    "result.U_f"
   ]
  },
  {
   "cell_type": "markdown",
   "metadata": {},
   "source": [
    "## Analysis of result of qutip grape for closed system"
   ]
  },
  {
   "cell_type": "code",
   "execution_count": 380,
   "metadata": {
    "ExecuteTime": {
     "end_time": "2019-02-21T10:19:19.012775Z",
     "start_time": "2019-02-21T10:19:18.888495Z"
    }
   },
   "outputs": [
    {
     "data": {
      "text/latex": [
       "Quantum object: dims = [[2], [2]], shape = (2, 2), type = oper, isherm = False\\begin{equation*}\\left(\\begin{array}{*{11}c}1.000 & (1.761\\times10^{+14}-7.153\\times10^{+14}j)\\\\(1.761\\times10^{+14}-7.153\\times10^{+14}j) & (-0.681-0.510j)\\\\\\end{array}\\right)\\end{equation*}"
      ],
      "text/plain": [
       "Quantum object: dims = [[2], [2]], shape = (2, 2), type = oper, isherm = False\n",
       "Qobj data =\n",
       "[[ 1.00000000e+00+0.00000000e+00j  1.76050114e+14-7.15340575e+14j]\n",
       " [ 1.76050114e+14-7.15340575e+14j -6.81189564e-01-5.09825770e-01j]]"
      ]
     },
     "execution_count": 380,
     "metadata": {},
     "output_type": "execute_result"
    }
   ],
   "source": [
    "result.U_f/result.U_f[0,0]"
   ]
  },
  {
   "cell_type": "code",
   "execution_count": 381,
   "metadata": {
    "ExecuteTime": {
     "end_time": "2019-02-21T10:19:19.209242Z",
     "start_time": "2019-02-21T10:19:19.015878Z"
    }
   },
   "outputs": [
    {
     "data": {
      "text/plain": [
       "(<Figure size 432x288 with 2 Axes>,\n",
       " <mpl_toolkits.mplot3d.axes3d.Axes3D at 0x7fefcc7688d0>)"
      ]
     },
     "execution_count": 381,
     "metadata": {},
     "output_type": "execute_result"
    },
    {
     "data": {
      "image/png": "[encoded data removed]",
      "text/plain": [
       "<Figure size 432x288 with 2 Axes>"
      ]
     },
     "metadata": {},
     "output_type": "display_data"
    }
   ],
   "source": [
    "matrix_histogram(U)"
   ]
  },
  {
   "cell_type": "code",
   "execution_count": 382,
   "metadata": {
    "ExecuteTime": {
     "end_time": "2019-02-21T10:19:19.310564Z",
     "start_time": "2019-02-21T10:19:19.210408Z"
    }
   },
   "outputs": [
    {
     "data": {
      "text/plain": [
       "(<Figure size 432x288 with 2 Axes>,\n",
       " <mpl_toolkits.mplot3d.axes3d.Axes3D at 0x7fefcc703208>)"
      ]
     },
     "execution_count": 382,
     "metadata": {},
     "output_type": "execute_result"
    },
    {
     "data": {
      "image/png": "[encoded data removed]",
      "text/plain": [
       "<Figure size 432x288 with 2 Axes>"
      ]
     },
     "metadata": {},
     "output_type": "display_data"
    }
   ],
   "source": [
    "matrix_histogram(result.U_f)"
   ]
  },
  {
   "cell_type": "code",
   "execution_count": 383,
   "metadata": {
    "ExecuteTime": {
     "end_time": "2019-02-21T10:19:19.508788Z",
     "start_time": "2019-02-21T10:19:19.311744Z"
    }
   },
   "outputs": [
    {
     "data": {
      "text/plain": [
       "(<Figure size 432x288 with 2 Axes>,\n",
       " <mpl_toolkits.mplot3d.axes3d.Axes3D at 0x7fefd062b0b8>)"
      ]
     },
     "execution_count": 383,
     "metadata": {},
     "output_type": "execute_result"
    },
    {
     "data": {
      "image/png": "[encoded data removed]",
      "text/plain": [
       "<Figure size 432x288 with 2 Axes>"
      ]
     },
     "metadata": {},
     "output_type": "display_data"
    }
   ],
   "source": [
    "matrix_histogram_complex(U)"
   ]
  },
  {
   "cell_type": "code",
   "execution_count": 384,
   "metadata": {
    "ExecuteTime": {
     "end_time": "2019-02-21T10:19:19.653909Z",
     "start_time": "2019-02-21T10:19:19.510557Z"
    }
   },
   "outputs": [
    {
     "data": {
      "text/plain": [
       "(<Figure size 432x288 with 2 Axes>,\n",
       " <mpl_toolkits.mplot3d.axes3d.Axes3D at 0x7fefce216e48>)"
      ]
     },
     "execution_count": 384,
     "metadata": {},
     "output_type": "execute_result"
    },
    {
     "data": {
      "image/png": "[encoded data removed]",
      "text/plain": [
       "<Figure size 432x288 with 2 Axes>"
      ]
     },
     "metadata": {},
     "output_type": "display_data"
    }
   ],
   "source": [
    "matrix_histogram_complex(result.U_f)"
   ]
  },
  {
   "cell_type": "code",
   "execution_count": 385,
   "metadata": {
    "ExecuteTime": {
     "end_time": "2019-02-21T10:19:19.769005Z",
     "start_time": "2019-02-21T10:19:19.655643Z"
    }
   },
   "outputs": [
    {
     "data": {
      "text/plain": [
       "(<Figure size 576x432 with 2 Axes>,\n",
       " <matplotlib.axes._subplots.AxesSubplot at 0x7fefcce14828>)"
      ]
     },
     "execution_count": 385,
     "metadata": {},
     "output_type": "execute_result"
    },
    {
     "data": {
      "image/png": "[encoded data removed]",
      "text/plain": [
       "<Figure size 576x432 with 2 Axes>"
      ]
     },
     "metadata": {},
     "output_type": "display_data"
    }
   ],
   "source": [
    "hinton(U)"
   ]
  },
  {
   "cell_type": "code",
   "execution_count": 386,
   "metadata": {
    "ExecuteTime": {
     "end_time": "2019-02-21T10:19:19.920176Z",
     "start_time": "2019-02-21T10:19:19.770379Z"
    }
   },
   "outputs": [
    {
     "data": {
      "text/plain": [
       "(<Figure size 576x432 with 2 Axes>,\n",
       " <matplotlib.axes._subplots.AxesSubplot at 0x7fefcdbe8898>)"
      ]
     },
     "execution_count": 386,
     "metadata": {},
     "output_type": "execute_result"
    },
    {
     "data": {
      "image/png": "[encoded data removed]",
      "text/plain": [
       "<Figure size 576x432 with 2 Axes>"
      ]
     },
     "metadata": {},
     "output_type": "display_data"
    }
   ],
   "source": [
    "hinton(result.U_f)"
   ]
  },
  {
   "cell_type": "code",
   "execution_count": null,
   "metadata": {},
   "outputs": [],
   "source": []
  },
  {
   "cell_type": "code",
   "execution_count": null,
   "metadata": {},
   "outputs": [],
   "source": []
  },
  {
   "cell_type": "code",
   "execution_count": 387,
   "metadata": {
    "ExecuteTime": {
     "end_time": "2019-02-21T10:24:10.846142Z",
     "start_time": "2019-02-21T10:19:19.921572Z"
    }
   },
   "outputs": [
    {
     "data": {
      "text/plain": [
       "(array([-0.00207694+0.j, -0.00207694+0.j, -0.00207694+0.j, -0.00207694+0.j,\n",
       "        -0.00207694+0.j, -0.00207694+0.j, -0.00207694+0.j, -0.00207694+0.j,\n",
       "        -0.00207694+0.j, -0.00207694+0.j, -0.00207694+0.j, -0.00207694+0.j,\n",
       "        -0.00207694+0.j, -0.00207694+0.j, -0.00207694+0.j, -0.00207694+0.j,\n",
       "        -0.00207694+0.j, -0.00207694+0.j, -0.00207694+0.j, -0.00207694+0.j,\n",
       "        -0.00207694+0.j, -0.00207694+0.j, -0.00207694+0.j, -0.00207694+0.j,\n",
       "        -0.00207694+0.j, -0.00207694+0.j, -0.00207694+0.j, -0.00207694+0.j,\n",
       "        -0.00207694+0.j, -0.00207694+0.j, -0.00207694+0.j, -0.00207694+0.j,\n",
       "        -0.00207694+0.j, -0.00207694+0.j, -0.00207694+0.j, -0.00207694+0.j,\n",
       "        -0.00207694+0.j, -0.00207694+0.j, -0.00207694+0.j, -0.00207694+0.j,\n",
       "        -0.00207694+0.j, -0.00207694+0.j, -0.00207694+0.j, -0.00207694+0.j,\n",
       "        -0.00207694+0.j, -0.00207694+0.j, -0.00207694+0.j, -0.00207694+0.j,\n",
       "        -0.00207694+0.j, -0.00207694+0.j, -0.00207694+0.j, -0.00207694+0.j,\n",
       "        -0.00207694+0.j, -0.00207694+0.j, -0.00207694+0.j, -0.00207694+0.j,\n",
       "        -0.00207694+0.j, -0.00207694+0.j, -0.00207694+0.j, -0.00207694+0.j,\n",
       "        -0.00207694+0.j, -0.00207694+0.j, -0.00207694+0.j, -0.00207694+0.j,\n",
       "        -0.00207694+0.j, -0.00207694+0.j, -0.00207694+0.j, -0.00207694+0.j,\n",
       "        -0.00207694+0.j, -0.00207694+0.j, -0.00207694+0.j, -0.00207694+0.j,\n",
       "        -0.00207694+0.j, -0.00207694+0.j, -0.00207694+0.j, -0.00207694+0.j,\n",
       "        -0.00207694+0.j, -0.00207694+0.j, -0.00207694+0.j, -0.00207694+0.j,\n",
       "        -0.00207694+0.j, -0.00207694+0.j, -0.00207694+0.j, -0.00207694+0.j,\n",
       "        -0.00207694+0.j, -0.00207694+0.j, -0.00207694+0.j, -0.00207694+0.j,\n",
       "        -0.00207694+0.j, -0.00207694+0.j, -0.00207694+0.j, -0.00207694+0.j,\n",
       "        -0.00207694+0.j, -0.00207694+0.j, -0.00207694+0.j, -0.00207694+0.j,\n",
       "        -0.00207694+0.j, -0.00207694+0.j, -0.00207694+0.j, -0.00207694+0.j,\n",
       "        -0.00207694+0.j, -0.00207694+0.j, -0.00207694+0.j, -0.00207694+0.j,\n",
       "        -0.00207694+0.j, -0.00207694+0.j, -0.00207694+0.j, -0.00207694+0.j,\n",
       "        -0.00207694+0.j, -0.00207694+0.j, -0.00207694+0.j, -0.00207694+0.j,\n",
       "        -0.00207694+0.j, -0.00207694+0.j, -0.00207694+0.j, -0.00207694+0.j,\n",
       "        -0.00207694+0.j, -0.00207694+0.j, -0.00207694+0.j, -0.00207694+0.j,\n",
       "        -0.00207694+0.j, -0.00207694+0.j, -0.00207694+0.j, -0.00207694+0.j,\n",
       "        -0.00207694+0.j, -0.00207694+0.j, -0.00207694+0.j, -0.00207694+0.j,\n",
       "        -0.00207694+0.j, -0.00207694+0.j, -0.00207694+0.j, -0.00207694+0.j,\n",
       "        -0.00207694+0.j, -0.00207694+0.j, -0.00207694+0.j, -0.00207694+0.j,\n",
       "        -0.00207694+0.j, -0.00207694+0.j, -0.00207694+0.j, -0.00207694+0.j,\n",
       "        -0.00207694+0.j, -0.00207694+0.j, -0.00207694+0.j, -0.00207694+0.j,\n",
       "        -0.00207694+0.j, -0.00207694+0.j, -0.00207694+0.j, -0.00207694+0.j,\n",
       "        -0.00207694+0.j, -0.00207694+0.j, -0.00207694+0.j, -0.00207694+0.j,\n",
       "        -0.00207694+0.j, -0.00207694+0.j, -0.00207694+0.j, -0.00207694+0.j,\n",
       "        -0.00207694+0.j, -0.00207694+0.j, -0.00207694+0.j, -0.00207694+0.j,\n",
       "        -0.00207694+0.j, -0.00207694+0.j, -0.00207694+0.j, -0.00207694+0.j,\n",
       "        -0.00207694+0.j, -0.00207694+0.j, -0.00207694+0.j, -0.00207694+0.j,\n",
       "        -0.00207694+0.j, -0.00207694+0.j, -0.00207694+0.j, -0.00207694+0.j,\n",
       "        -0.00207694+0.j, -0.00207694+0.j, -0.00207694+0.j, -0.00207694+0.j,\n",
       "        -0.00207694+0.j, -0.00207694+0.j, -0.00207694+0.j, -0.00207694+0.j,\n",
       "        -0.00207694+0.j, -0.00207694+0.j, -0.00207694+0.j, -0.00207694+0.j,\n",
       "        -0.00207694+0.j, -0.00207694+0.j, -0.00207694+0.j, -0.00207694+0.j,\n",
       "        -0.00207694+0.j, -0.00207694+0.j, -0.00207694+0.j, -0.00207694+0.j,\n",
       "        -0.00207694+0.j, -0.00207694+0.j, -0.00207694+0.j, -0.00207694+0.j,\n",
       "        -0.00207694+0.j, -0.00207694+0.j, -0.00207694+0.j, -0.00207694+0.j,\n",
       "        -0.00207694+0.j, -0.00207694+0.j, -0.00207694+0.j, -0.00207694+0.j,\n",
       "        -0.00207694+0.j, -0.00207694+0.j, -0.00207694+0.j, -0.00207694+0.j,\n",
       "        -0.00207694+0.j, -0.00207694+0.j, -0.00207694+0.j, -0.00207694+0.j,\n",
       "        -0.00207694+0.j, -0.00207694+0.j, -0.00207694+0.j, -0.00207694+0.j,\n",
       "        -0.00207694+0.j, -0.00207694+0.j, -0.00207694+0.j, -0.00207694+0.j,\n",
       "        -0.00207694+0.j, -0.00207694+0.j, -0.00207694+0.j, -0.00207694+0.j,\n",
       "        -0.00207694+0.j, -0.00207694+0.j, -0.00207694+0.j, -0.00207694+0.j,\n",
       "        -0.00207694+0.j, -0.00207694+0.j, -0.00207694+0.j, -0.00207694+0.j,\n",
       "        -0.00207694+0.j, -0.00207694+0.j, -0.00207694+0.j, -0.00207694+0.j,\n",
       "        -0.00207694+0.j, -0.00207694+0.j, -0.00207694+0.j, -0.00207694+0.j,\n",
       "        -0.00207694+0.j, -0.00207694+0.j, -0.00207694+0.j, -0.00207694+0.j,\n",
       "        -0.00207694+0.j, -0.00207694+0.j, -0.00207694+0.j, -0.00207694+0.j,\n",
       "        -0.00207694+0.j, -0.00207694+0.j, -0.00207694+0.j, -0.00207694+0.j,\n",
       "        -0.00207694+0.j, -0.00207694+0.j, -0.00207694+0.j, -0.00207694+0.j,\n",
       "        -0.00207694+0.j, -0.00207694+0.j, -0.00207694+0.j, -0.00207694+0.j,\n",
       "        -0.00207694+0.j, -0.00207694+0.j, -0.00207694+0.j, -0.00207694+0.j,\n",
       "        -0.00207694+0.j, -0.00207694+0.j, -0.00207694+0.j, -0.00207694+0.j,\n",
       "        -0.00207694+0.j, -0.00207694+0.j, -0.00207694+0.j, -0.00207694+0.j,\n",
       "        -0.00207694+0.j, -0.00207694+0.j, -0.00207694+0.j, -0.00207694+0.j,\n",
       "        -0.00207694+0.j, -0.00207694+0.j, -0.00207694+0.j, -0.00207694+0.j,\n",
       "        -0.00207694+0.j, -0.00207694+0.j, -0.00207694+0.j, -0.00207694+0.j,\n",
       "        -0.00207694+0.j, -0.00207694+0.j, -0.00207694+0.j, -0.00207694+0.j,\n",
       "        -0.00207694+0.j, -0.00207694+0.j, -0.00207694+0.j, -0.00207694+0.j,\n",
       "        -0.00207694+0.j, -0.00207694+0.j, -0.00207694+0.j, -0.00207694+0.j,\n",
       "        -0.00207694+0.j, -0.00207694+0.j, -0.00207694+0.j, -0.00207694+0.j,\n",
       "        -0.00207694+0.j, -0.00207694+0.j, -0.00207694+0.j, -0.00207694+0.j,\n",
       "        -0.00207694+0.j, -0.00207694+0.j, -0.00207694+0.j, -0.00207694+0.j,\n",
       "        -0.00207694+0.j, -0.00207694+0.j, -0.00207694+0.j, -0.00207694+0.j,\n",
       "        -0.00207694+0.j, -0.00207694+0.j, -0.00207694+0.j, -0.00207694+0.j,\n",
       "        -0.00207694+0.j, -0.00207694+0.j, -0.00207694+0.j, -0.00207694+0.j,\n",
       "        -0.00207694+0.j, -0.00207694+0.j, -0.00207694+0.j, -0.00207694+0.j,\n",
       "        -0.00207694+0.j, -0.00207694+0.j, -0.00207694+0.j, -0.00207694+0.j,\n",
       "        -0.00207694+0.j, -0.00207694+0.j, -0.00207694+0.j, -0.00207694+0.j,\n",
       "        -0.00207694+0.j, -0.00207694+0.j, -0.00207694+0.j, -0.00207694+0.j,\n",
       "        -0.00207694+0.j, -0.00207694+0.j, -0.00207694+0.j, -0.00207694+0.j,\n",
       "        -0.00207694+0.j, -0.00207694+0.j, -0.00207694+0.j, -0.00207694+0.j,\n",
       "        -0.00207694+0.j, -0.00207694+0.j, -0.00207694+0.j, -0.00207694+0.j,\n",
       "        -0.00207694+0.j, -0.00207694+0.j, -0.00207694+0.j, -0.00207694+0.j,\n",
       "        -0.00207694+0.j, -0.00207694+0.j, -0.00207694+0.j, -0.00207694+0.j,\n",
       "        -0.00207694+0.j, -0.00207694+0.j, -0.00207694+0.j, -0.00207694+0.j,\n",
       "        -0.00207694+0.j, -0.00207694+0.j, -0.00207694+0.j, -0.00207694+0.j,\n",
       "        -0.00207694+0.j, -0.00207694+0.j, -0.00207694+0.j, -0.00207694+0.j,\n",
       "        -0.00207694+0.j, -0.00207694+0.j, -0.00207694+0.j, -0.00207694+0.j,\n",
       "        -0.00207694+0.j, -0.00207694+0.j, -0.00207694+0.j, -0.00207694+0.j,\n",
       "        -0.00207694+0.j, -0.00207694+0.j, -0.00207694+0.j, -0.00207694+0.j,\n",
       "        -0.00207694+0.j, -0.00207694+0.j, -0.00207694+0.j, -0.00207694+0.j,\n",
       "        -0.00207694+0.j, -0.00207694+0.j, -0.00207694+0.j, -0.00207694+0.j,\n",
       "        -0.00207694+0.j, -0.00207694+0.j, -0.00207694+0.j, -0.00207694+0.j,\n",
       "        -0.00207694+0.j, -0.00207694+0.j, -0.00207694+0.j, -0.00207694+0.j,\n",
       "        -0.00207694+0.j, -0.00207694+0.j, -0.00207694+0.j, -0.00207694+0.j,\n",
       "        -0.00207694+0.j, -0.00207694+0.j, -0.00207694+0.j, -0.00207694+0.j,\n",
       "        -0.00207694+0.j, -0.00207694+0.j, -0.00207694+0.j, -0.00207694+0.j,\n",
       "        -0.00207694+0.j, -0.00207694+0.j, -0.00207694+0.j, -0.00207694+0.j,\n",
       "        -0.00207694+0.j, -0.00207694+0.j, -0.00207694+0.j, -0.00207694+0.j,\n",
       "        -0.00207694+0.j, -0.00207694+0.j, -0.00207694+0.j, -0.00207694+0.j,\n",
       "        -0.00207694+0.j, -0.00207694+0.j, -0.00207694+0.j, -0.00207694+0.j,\n",
       "        -0.00207694+0.j, -0.00207694+0.j, -0.00207694+0.j, -0.00207694+0.j,\n",
       "        -0.00207694+0.j, -0.00207694+0.j, -0.00207694+0.j, -0.00207694+0.j,\n",
       "        -0.00207694+0.j, -0.00207694+0.j, -0.00207694+0.j, -0.00207694+0.j,\n",
       "        -0.00207694+0.j, -0.00207694+0.j, -0.00207694+0.j, -0.00207694+0.j,\n",
       "        -0.00207694+0.j, -0.00207694+0.j, -0.00207694+0.j, -0.00207694+0.j,\n",
       "        -0.00207694+0.j, -0.00207694+0.j, -0.00207694+0.j, -0.00207694+0.j,\n",
       "        -0.00207694+0.j, -0.00207694+0.j, -0.00207694+0.j, -0.00207694+0.j,\n",
       "        -0.00207694+0.j, -0.00207694+0.j, -0.00207694+0.j, -0.00207694+0.j,\n",
       "        -0.00207694+0.j, -0.00207694+0.j, -0.00207694+0.j, -0.00207694+0.j,\n",
       "        -0.00207694+0.j, -0.00207694+0.j, -0.00207694+0.j, -0.00207694+0.j,\n",
       "        -0.00207694+0.j, -0.00207694+0.j, -0.00207694+0.j, -0.00207694+0.j,\n",
       "        -0.00207694+0.j, -0.00207694+0.j, -0.00207694+0.j, -0.00207694+0.j,\n",
       "        -0.00207694+0.j, -0.00207694+0.j, -0.00207694+0.j, -0.00207694+0.j,\n",
       "        -0.00207694+0.j, -0.00207694+0.j, -0.00207694+0.j, -0.00207694+0.j,\n",
       "        -0.00207694+0.j, -0.00207694+0.j, -0.00207694+0.j, -0.00207694+0.j,\n",
       "        -0.00207694+0.j, -0.00207694+0.j, -0.00207694+0.j, -0.00207694+0.j,\n",
       "        -0.00207694+0.j, -0.00207694+0.j, -0.00207694+0.j, -0.00207694+0.j,\n",
       "        -0.00207694+0.j, -0.00207694+0.j, -0.00207694+0.j, -0.00207694+0.j,\n",
       "        -0.00207694+0.j, -0.00207694+0.j, -0.00207694+0.j, -0.00207694+0.j]),\n",
       " array([ 0.3735136 +0.j,  0.38104207+0.j,  0.39121768+0.j,  0.40391302+0.j,\n",
       "         0.41355468+0.j,  0.42498798+0.j,  0.41065345+0.j,  0.40295475+0.j,\n",
       "         0.41476632+0.j,  0.38567395+0.j,  0.36953598+0.j,  0.34648043+0.j,\n",
       "         0.32275581+0.j,  0.32240169+0.j,  0.32177852+0.j,  0.30393404+0.j,\n",
       "         0.28668365+0.j,  0.26623321+0.j,  0.24929243+0.j,  0.25738962+0.j,\n",
       "         0.26063537+0.j,  0.28119561+0.j,  0.2937579 +0.j,  0.28643913+0.j,\n",
       "         0.28136297+0.j,  0.27103784+0.j,  0.27645882+0.j,  0.2850781 +0.j,\n",
       "         0.25800602+0.j,  0.24276126+0.j,  0.24156745+0.j,  0.21088597+0.j,\n",
       "         0.19931507+0.j,  0.16974183+0.j,  0.14796138+0.j,  0.15422658+0.j,\n",
       "         0.1595358 +0.j,  0.13157751+0.j,  0.13720437+0.j,  0.13161778+0.j,\n",
       "         0.11565115+0.j,  0.10226682+0.j,  0.07912171+0.j,  0.0838153 +0.j,\n",
       "         0.06195513+0.j,  0.06142235+0.j,  0.04764372+0.j,  0.05420928+0.j,\n",
       "         0.03990076+0.j,  0.01503142+0.j,  0.01631556+0.j,  0.03202038+0.j,\n",
       "         0.02860981+0.j,  0.01652327+0.j,  0.03194603+0.j,  0.0058854 +0.j,\n",
       "        -0.00691249+0.j, -0.03670449+0.j, -0.04349605+0.j, -0.05091651+0.j,\n",
       "        -0.06612127+0.j, -0.08575117+0.j, -0.08611747+0.j, -0.08609054+0.j,\n",
       "        -0.09125919+0.j, -0.09569226+0.j, -0.10778273+0.j, -0.10775234+0.j,\n",
       "        -0.12463044+0.j, -0.11515508+0.j, -0.12693439+0.j, -0.14281545+0.j,\n",
       "        -0.14150078+0.j, -0.15281531+0.j, -0.15975659+0.j, -0.16532072+0.j,\n",
       "        -0.1716607 +0.j, -0.18692666+0.j, -0.18672602+0.j, -0.21262935+0.j,\n",
       "        -0.20814983+0.j, -0.21618085+0.j, -0.22501391+0.j, -0.2478155 +0.j,\n",
       "        -0.27750423+0.j, -0.29842366+0.j, -0.31691775+0.j, -0.3021371 +0.j,\n",
       "        -0.30779177+0.j, -0.29398054+0.j, -0.29942519+0.j, -0.28151389+0.j,\n",
       "        -0.30227004+0.j, -0.28433699+0.j, -0.28926793+0.j, -0.28812487+0.j,\n",
       "        -0.26575749+0.j, -0.27824562+0.j, -0.28356145+0.j, -0.30958548+0.j,\n",
       "        -0.3332533 +0.j, -0.34698099+0.j, -0.36072989+0.j, -0.39123467+0.j,\n",
       "        -0.37159937+0.j, -0.38476206+0.j, -0.41538167+0.j, -0.43132537+0.j,\n",
       "        -0.43019941+0.j, -0.42924038+0.j, -0.44026989+0.j, -0.46207634+0.j,\n",
       "        -0.45790198+0.j, -0.44971129+0.j, -0.47449075+0.j, -0.4496235 +0.j,\n",
       "        -0.43208363+0.j, -0.43834258+0.j, -0.45831537+0.j, -0.46814257+0.j,\n",
       "        -0.47427559+0.j, -0.47524135+0.j, -0.47550634+0.j, -0.4841167 +0.j,\n",
       "        -0.49248413+0.j, -0.50811301+0.j, -0.50920242+0.j, -0.49049211+0.j,\n",
       "        -0.46959159+0.j, -0.47241882+0.j, -0.4554846 +0.j, -0.44503108+0.j,\n",
       "        -0.44686814+0.j, -0.45868022+0.j, -0.44968478+0.j, -0.46950361+0.j,\n",
       "        -0.49634388+0.j, -0.51032884+0.j, -0.51838717+0.j, -0.52055958+0.j,\n",
       "        -0.52319713+0.j, -0.52237064+0.j, -0.53582878+0.j, -0.53806983+0.j,\n",
       "        -0.52911656+0.j, -0.50362881+0.j, -0.49988979+0.j, -0.49249728+0.j,\n",
       "        -0.50374489+0.j, -0.49172887+0.j, -0.49325481+0.j, -0.50494556+0.j,\n",
       "        -0.48172357+0.j, -0.45437054+0.j, -0.4700929 +0.j, -0.48279213+0.j,\n",
       "        -0.48968204+0.j, -0.50871572+0.j, -0.49818386+0.j, -0.49319645+0.j,\n",
       "        -0.48878086+0.j, -0.4726055 +0.j, -0.48619507+0.j, -0.49168215+0.j,\n",
       "        -0.47418613+0.j, -0.47902446+0.j, -0.4544486 +0.j, -0.44853882+0.j,\n",
       "        -0.45500203+0.j, -0.46235766+0.j, -0.47141702+0.j, -0.48984767+0.j,\n",
       "        -0.48315197+0.j, -0.49098056+0.j, -0.51091619+0.j, -0.4889057 +0.j,\n",
       "        -0.48697621+0.j, -0.46703787+0.j, -0.45293326+0.j, -0.44395701+0.j,\n",
       "        -0.43889146+0.j, -0.43847703+0.j, -0.44709556+0.j, -0.44267451+0.j,\n",
       "        -0.42207534+0.j, -0.42108019+0.j, -0.42127853+0.j, -0.43343531+0.j,\n",
       "        -0.44264331+0.j, -0.4398584 +0.j, -0.44233536+0.j, -0.43811968+0.j,\n",
       "        -0.41696807+0.j, -0.41165723+0.j, -0.41121723+0.j, -0.42090485+0.j,\n",
       "        -0.41940138+0.j, -0.3994827 +0.j, -0.38918088+0.j, -0.37216793+0.j,\n",
       "        -0.34696745+0.j, -0.31478278+0.j, -0.33105625+0.j, -0.31349274+0.j,\n",
       "        -0.31819484+0.j, -0.31782035+0.j, -0.30760351+0.j, -0.30686116+0.j,\n",
       "        -0.30002178+0.j, -0.30038894+0.j, -0.29879596+0.j, -0.30137312+0.j,\n",
       "        -0.2743947 +0.j, -0.27374574+0.j, -0.27321697+0.j, -0.2496798 +0.j,\n",
       "        -0.25847254+0.j, -0.25377128+0.j, -0.23369696+0.j, -0.23746544+0.j,\n",
       "        -0.25001608+0.j, -0.24411042+0.j, -0.25688064+0.j, -0.24356178+0.j,\n",
       "        -0.22224864+0.j, -0.23526319+0.j, -0.2244334 +0.j, -0.20985626+0.j,\n",
       "        -0.21731567+0.j, -0.20990332+0.j, -0.18528865+0.j, -0.17894917+0.j,\n",
       "        -0.15931128+0.j, -0.15939529+0.j, -0.15811155+0.j, -0.154313  +0.j,\n",
       "        -0.14222671+0.j, -0.15303894+0.j, -0.13028957+0.j, -0.11590457+0.j,\n",
       "        -0.11231288+0.j, -0.12050593+0.j, -0.10489264+0.j, -0.10035921+0.j,\n",
       "        -0.10268398+0.j, -0.08856684+0.j, -0.06721029+0.j, -0.03778418+0.j,\n",
       "        -0.03798324+0.j, -0.04333881+0.j, -0.04684163+0.j, -0.02959748+0.j,\n",
       "        -0.04088731+0.j, -0.02110529+0.j,  0.01138784+0.j,  0.0212976 +0.j,\n",
       "         0.02063852+0.j,  0.01627839+0.j,  0.01320086+0.j,  0.02020458+0.j,\n",
       "         0.05135069+0.j,  0.07432817+0.j,  0.09240554+0.j,  0.09049921+0.j,\n",
       "         0.0749734 +0.j,  0.0898988 +0.j,  0.10226987+0.j,  0.11896638+0.j,\n",
       "         0.13642102+0.j,  0.15351975+0.j,  0.13887705+0.j,  0.12368573+0.j,\n",
       "         0.14603538+0.j,  0.1567425 +0.j,  0.17134146+0.j,  0.18562124+0.j,\n",
       "         0.18528478+0.j,  0.19573638+0.j,  0.18665738+0.j,  0.19754569+0.j,\n",
       "         0.21510653+0.j,  0.23589392+0.j,  0.23316323+0.j,  0.234618  +0.j,\n",
       "         0.25540349+0.j,  0.26129855+0.j,  0.26500742+0.j,  0.26671659+0.j,\n",
       "         0.29451143+0.j,  0.29826593+0.j,  0.31154396+0.j,  0.3198992 +0.j,\n",
       "         0.32551958+0.j,  0.34660145+0.j,  0.34507039+0.j,  0.35150868+0.j,\n",
       "         0.36784103+0.j,  0.38023055+0.j,  0.38833062+0.j,  0.4001574 +0.j,\n",
       "         0.39234023+0.j,  0.39362972+0.j,  0.39349233+0.j,  0.3823241 +0.j,\n",
       "         0.40468405+0.j,  0.40416673+0.j,  0.40355329+0.j,  0.39649476+0.j,\n",
       "         0.3845889 +0.j,  0.40627262+0.j,  0.41442211+0.j,  0.42213013+0.j,\n",
       "         0.43051743+0.j,  0.4477739 +0.j,  0.44529574+0.j,  0.46699225+0.j,\n",
       "         0.47111206+0.j,  0.49250373+0.j,  0.50102718+0.j,  0.47861143+0.j,\n",
       "         0.4912932 +0.j,  0.51193896+0.j,  0.54231473+0.j,  0.53383891+0.j,\n",
       "         0.55095873+0.j,  0.55130254+0.j,  0.56561818+0.j,  0.56682137+0.j,\n",
       "         0.57741496+0.j,  0.61188127+0.j,  0.6209913 +0.j,  0.62732097+0.j,\n",
       "         0.63026595+0.j,  0.65136099+0.j,  0.6379539 +0.j,  0.63773219+0.j,\n",
       "         0.63915009+0.j,  0.63428707+0.j,  0.62935552+0.j,  0.6227963 +0.j,\n",
       "         0.63058451+0.j,  0.63655599+0.j,  0.61882709+0.j,  0.60693895+0.j,\n",
       "         0.61230414+0.j,  0.62043525+0.j,  0.62613198+0.j,  0.62037231+0.j,\n",
       "         0.63635944+0.j,  0.64322619+0.j,  0.63095523+0.j,  0.62052621+0.j,\n",
       "         0.62442779+0.j,  0.63795181+0.j,  0.65835007+0.j,  0.64693005+0.j,\n",
       "         0.64134313+0.j,  0.64211683+0.j,  0.65560903+0.j,  0.66291624+0.j,\n",
       "         0.66308845+0.j,  0.65964192+0.j,  0.66466842+0.j,  0.65615988+0.j,\n",
       "         0.6546536 +0.j,  0.66968749+0.j,  0.67837987+0.j,  0.69950475+0.j,\n",
       "         0.69616447+0.j,  0.69312305+0.j,  0.69902753+0.j,  0.70465599+0.j,\n",
       "         0.70225058+0.j,  0.69592758+0.j,  0.68669726+0.j,  0.68084116+0.j,\n",
       "         0.66979563+0.j,  0.66294759+0.j,  0.64785811+0.j,  0.62162916+0.j,\n",
       "         0.62451215+0.j,  0.60772148+0.j,  0.61528241+0.j,  0.61128373+0.j,\n",
       "         0.6092557 +0.j,  0.60370538+0.j,  0.59903883+0.j,  0.58846271+0.j,\n",
       "         0.57861235+0.j,  0.59294193+0.j,  0.58520768+0.j,  0.60165169+0.j,\n",
       "         0.58860671+0.j,  0.60783128+0.j,  0.61378114+0.j,  0.60214213+0.j,\n",
       "         0.59896708+0.j,  0.58867025+0.j,  0.5918923 +0.j,  0.58053515+0.j,\n",
       "         0.5866776 +0.j,  0.56994365+0.j,  0.56019235+0.j,  0.53444446+0.j,\n",
       "         0.52693123+0.j,  0.53259488+0.j,  0.54553008+0.j,  0.53789779+0.j,\n",
       "         0.54131162+0.j,  0.52494699+0.j,  0.51738197+0.j,  0.50304916+0.j,\n",
       "         0.5194062 +0.j,  0.51494689+0.j,  0.5006723 +0.j,  0.48402758+0.j,\n",
       "         0.46083494+0.j,  0.4839371 +0.j,  0.4683391 +0.j,  0.48153293+0.j,\n",
       "         0.48340133+0.j,  0.49458555+0.j,  0.48869193+0.j,  0.48223273+0.j,\n",
       "         0.45720248+0.j,  0.45665139+0.j,  0.45762978+0.j,  0.45142683+0.j,\n",
       "         0.44127373+0.j,  0.41974579+0.j,  0.39446474+0.j,  0.38247759+0.j,\n",
       "         0.36225703+0.j,  0.3537977 +0.j,  0.36907131+0.j,  0.38135756+0.j,\n",
       "         0.379954  +0.j,  0.3428539 +0.j,  0.3504024 +0.j,  0.36187206+0.j,\n",
       "         0.34885573+0.j,  0.34353314+0.j,  0.34447468+0.j,  0.35811509+0.j,\n",
       "         0.33798893+0.j,  0.31825851+0.j,  0.30179899+0.j,  0.31865871+0.j,\n",
       "         0.3099937 +0.j,  0.27630016+0.j,  0.27596722+0.j,  0.27496366+0.j,\n",
       "         0.26215857+0.j,  0.24400118+0.j,  0.25264336+0.j,  0.23175834+0.j,\n",
       "         0.23231793+0.j,  0.2198462 +0.j,  0.214221  +0.j,  0.22714745+0.j,\n",
       "         0.23449132+0.j,  0.20434286+0.j,  0.19581212+0.j,  0.19079109+0.j,\n",
       "         0.16252143+0.j,  0.1579195 +0.j,  0.13566051+0.j,  0.10538575+0.j,\n",
       "         0.07593253+0.j,  0.07650985+0.j,  0.06259958+0.j,  0.08251113+0.j,\n",
       "         0.07926699+0.j,  0.05994124+0.j,  0.06069177+0.j,  0.05768594+0.j,\n",
       "         0.05712007+0.j,  0.06955505+0.j,  0.09025625+0.j,  0.0701667 +0.j,\n",
       "         0.04157884+0.j,  0.02587903+0.j,  0.01634136+0.j,  0.00717831+0.j,\n",
       "        -0.00930752+0.j, -0.01686789+0.j, -0.03516011+0.j, -0.03708664+0.j,\n",
       "        -0.06807841+0.j, -0.07378537+0.j, -0.08065783+0.j, -0.08619332+0.j,\n",
       "        -0.0882573 +0.j, -0.09631683+0.j, -0.10102649+0.j, -0.11790719+0.j,\n",
       "        -0.13201995+0.j, -0.16709761+0.j, -0.18274504+0.j, -0.18274504+0.j]))"
      ]
     },
     "execution_count": 387,
     "metadata": {},
     "output_type": "execute_result"
    }
   ],
   "source": [
    "updater(result.u[-1, 0, : ] , (2*pi)/500, epsilon=((0.1*2*pi)/(10**3)))"
   ]
  },
  {
   "cell_type": "code",
   "execution_count": 388,
   "metadata": {
    "ExecuteTime": {
     "end_time": "2019-02-21T10:24:10.851074Z",
     "start_time": "2019-02-21T10:24:10.847495Z"
    }
   },
   "outputs": [
    {
     "data": {
      "text/plain": [
       "6.283185307179586"
      ]
     },
     "execution_count": 388,
     "metadata": {},
     "output_type": "execute_result"
    }
   ],
   "source": [
    "times[-1]"
   ]
  },
  {
   "cell_type": "code",
   "execution_count": 389,
   "metadata": {
    "ExecuteTime": {
     "end_time": "2019-02-21T10:24:10.950082Z",
     "start_time": "2019-02-21T10:24:10.852724Z"
    }
   },
   "outputs": [
    {
     "data": {
      "text/plain": [
       "6.283185307179586"
      ]
     },
     "execution_count": 389,
     "metadata": {},
     "output_type": "execute_result"
    }
   ],
   "source": [
    "total_time_evo"
   ]
  },
  {
   "cell_type": "markdown",
   "metadata": {},
   "source": [
    "## joining qutip to my code"
   ]
  },
  {
   "cell_type": "markdown",
   "metadata": {
    "ExecuteTime": {
     "end_time": "2019-02-15T04:25:13.615608Z",
     "start_time": "2019-02-15T04:25:13.566890Z"
    }
   },
   "source": [
    "##### total_time\n",
    "---------------------------------------------------------------------------\n",
    "NameError                                 Traceback (most recent call last)\n",
    "<ipython-input-55-9bec417112c8> in <module>()\n",
    "----> 1 total_time\n",
    "\n",
    "NameError: name 'total_time' is not defined\n"
   ]
  },
  {
   "cell_type": "code",
   "execution_count": 390,
   "metadata": {
    "ExecuteTime": {
     "end_time": "2019-02-21T10:24:11.058947Z",
     "start_time": "2019-02-21T10:24:10.951620Z"
    }
   },
   "outputs": [
    {
     "data": {
      "text/plain": [
       "500"
      ]
     },
     "execution_count": 390,
     "metadata": {},
     "output_type": "execute_result"
    }
   ],
   "source": [
    "len(times)"
   ]
  },
  {
   "cell_type": "markdown",
   "metadata": {
    "ExecuteTime": {
     "end_time": "2019-02-15T04:33:44.601387Z",
     "start_time": "2019-02-15T04:33:44.593763Z"
    },
    "code_folding": []
   },
   "source": [
    "def terminator(max_iter, time_steps=len(times), total_time= total_time_evo,\n",
    "               epsilon= 2*pi*1):\n",
    "    r\"\"\"Brief description of the function\"\"\"\n",
    "    \n",
    "    xi_initial = result.u[-1, 0, : ] \n",
    "    #1000*random_sample((time_steps,))\n",
    "    dt = (2*pi)/500  #total_time/time_steps\n",
    "    xi_diff, xi_new_vec = updater(xi_initial, dt, epsilon)\n",
    "    \n",
    "    for i in range(max_iter):\n",
    "        if amax(xi_diff) < epsilon**2 :\n",
    "            xi_final = xi_new_vec\n",
    "            break\n",
    "        else :\n",
    "            xi_diff, xi_new_vec = updater(xi_new_vec, dt, epsilon)\n",
    "            print(i)\n",
    "            print(amax(xi_diff))\n",
    "            \n",
    "        \n",
    "    xi_final = xi_new_vec    \n",
    "    return xi_final"
   ]
  },
  {
   "cell_type": "markdown",
   "metadata": {
    "ExecuteTime": {
     "end_time": "2019-02-16T18:32:50.744234Z",
     "start_time": "2019-02-16T18:22:36.114Z"
    },
    "code_folding": []
   },
   "source": [
    "def terminator(max_iter, time_steps=len(times),\n",
    "              total_time=total_time_evo,\n",
    "              epsilon=2*pi*1):\n",
    "    r\"\"\"Brief description of the function\"\"\"\n",
    "    xi_initial = result.u[-1, 0, :]\n",
    "    # 1000*random_sample((time_steps,))\n",
    "    dt = (2*pi)/500 #total_time/time_steps\n",
    "    xi_diff, xi_new_vec = updater(xi_initial, dt, epsilon)\n",
    "    \n",
    "    for i in range(max_iter):\n",
    "        if amax(xi_diff) < epsilon**2 :\n",
    "            xi_final = xi_new_vec\n",
    "            print(\"Tejas is unlucky\")\n",
    "            break\n",
    "        else :\n",
    "            xi_diff, xi_new_vec = updater(xi_new_vec, dt, epsilon)\n",
    "            print(\"Tejas is a good boy\")\n",
    "            print(i)\n",
    "            print(amax(xi_diff))\n",
    "    \n",
    "    return xi_final\n"
   ]
  },
  {
   "cell_type": "code",
   "execution_count": 391,
   "metadata": {
    "ExecuteTime": {
     "end_time": "2019-02-21T10:24:11.279055Z",
     "start_time": "2019-02-21T10:24:11.060617Z"
    }
   },
   "outputs": [],
   "source": [
    "def terminator(max_iter, time_steps=len(times),\n",
    "              total_time=total_time_evo,\n",
    "              epsilon=2*pi*1):\n",
    "    r\"\"\"Brief description of the function\"\"\"\n",
    "    xi_initial = result.u[-1, 0, :]\n",
    "    # 1000*random_sample((time_steps,))\n",
    "    dt = (2*pi)/500 #total_time/time_steps\n",
    "    xi_diff, xi_new_vec = updater(xi_initial, dt, epsilon)\n",
    "    min_iter = int(max_iter/2)\n",
    "    for i in range(max_iter):\n",
    "        if i == 0:\n",
    "            print(\"Hi\")\n",
    "            \n",
    "        \n",
    "        if i > min_iter :\n",
    "            \n",
    "            if i > min_iter + 1 :\n",
    "                print(\"Surpassed minimum iteration barrier\")\n",
    "            if amax(xi_diff) < epsilon**2 :\n",
    "                xi_final = xi_new_vec\n",
    "                #print(\"Tejas is unlucky\")\n",
    "                print(\"Attempted iterations \", i)\n",
    "                break\n",
    "            else :\n",
    "                xi_diff, xi_new_vec = updater(xi_new_vec, dt, epsilon)\n",
    "                #print(\"Tejas is a good boy\")\n",
    "                print(i)\n",
    "                print(amax(xi_diff))\n",
    "        \n",
    "        else :\n",
    "            #print(\"Normal life\")\n",
    "            xi_diff, xi_new_vec = updater(xi_new_vec, dt, epsilon)\n",
    "            print(i)\n",
    "            print(amax(xi_diff))\n",
    "            \n",
    "    return xi_final\n",
    "\n"
   ]
  },
  {
   "cell_type": "markdown",
   "metadata": {},
   "source": [
    "## sub topic 3"
   ]
  },
  {
   "cell_type": "code",
   "execution_count": 392,
   "metadata": {
    "ExecuteTime": {
     "end_time": "2019-02-21T10:24:11.404264Z",
     "start_time": "2019-02-21T10:24:11.280547Z"
    }
   },
   "outputs": [],
   "source": [
    "new_label = [r'$g_{with diss}$']"
   ]
  },
  {
   "cell_type": "markdown",
   "metadata": {},
   "source": [
    "### try"
   ]
  },
  {
   "cell_type": "code",
   "execution_count": 393,
   "metadata": {
    "ExecuteTime": {
     "end_time": "2019-02-21T10:59:30.518915Z",
     "start_time": "2019-02-21T10:24:11.406523Z"
    }
   },
   "outputs": [
    {
     "name": "stdout",
     "output_type": "stream",
     "text": [
      "Hi\n",
      "0\n",
      "(-41.299246932687744+0j)\n",
      "1\n",
      "(-41.27439287485222+0j)\n",
      "2\n",
      "(-41.27472211928908+0j)\n",
      "3\n",
      "(-41.277736955695346+0j)\n",
      "4\n",
      "(-41.27304627869958+0j)\n",
      "5\n",
      "(-41.27826710622938+0j)\n",
      "Attempted iterations  6\n"
     ]
    }
   ],
   "source": [
    "xi_opt = terminator(10)"
   ]
  },
  {
   "cell_type": "code",
   "execution_count": 394,
   "metadata": {
    "ExecuteTime": {
     "end_time": "2019-02-21T10:59:30.522700Z",
     "start_time": "2019-02-21T10:59:30.520313Z"
    }
   },
   "outputs": [],
   "source": [
    "time_steps=len(times)\n",
    "total_time= total_time_evo\n",
    "epsilon= 2*pi*1"
   ]
  },
  {
   "cell_type": "code",
   "execution_count": 395,
   "metadata": {
    "ExecuteTime": {
     "end_time": "2019-02-21T10:59:31.330034Z",
     "start_time": "2019-02-21T10:59:30.524126Z"
    }
   },
   "outputs": [
    {
     "data": {
      "text/plain": [
       "-4.219046642816681"
      ]
     },
     "execution_count": 395,
     "metadata": {},
     "output_type": "execute_result"
    }
   ],
   "source": [
    "dt = (2*pi)/500\n",
    "F(xi_opt, dt)"
   ]
  },
  {
   "cell_type": "code",
   "execution_count": 396,
   "metadata": {
    "ExecuteTime": {
     "end_time": "2019-02-21T10:59:31.956879Z",
     "start_time": "2019-02-21T10:59:31.331653Z"
    }
   },
   "outputs": [
    {
     "data": {
      "text/latex": [
       "Quantum object: dims = [[2, 2], [2, 2]], shape = (4, 4), type = oper, isherm = False\\begin{equation*}\\left(\\begin{array}{*{11}c}0.468 & (-0.265+3.247\\times10^{-04}j) & (-0.265-3.247\\times10^{-04}j) & 0.532\\\\(0.265-3.255\\times10^{-04}j) & (0.110-9.868\\times10^{-04}j) & (-0.174+1.222\\times10^{-06}j) & (-0.265+3.255\\times10^{-04}j)\\\\(0.265+3.255\\times10^{-04}j) & (-0.174-1.222\\times10^{-06}j) & (0.110+9.868\\times10^{-04}j) & (-0.265-3.255\\times10^{-04}j)\\\\0.532 & (0.265-3.247\\times10^{-04}j) & (0.265+3.247\\times10^{-04}j) & 0.468\\\\\\end{array}\\right)\\end{equation*}"
      ],
      "text/plain": [
       "Quantum object: dims = [[2, 2], [2, 2]], shape = (4, 4), type = oper, isherm = False\n",
       "Qobj data =\n",
       "[[ 0.46772079+0.00000000e+00j -0.26478862+3.24682337e-04j\n",
       "  -0.26478862-3.24682337e-04j  0.53227921+0.00000000e+00j]\n",
       " [ 0.26478869-3.25542045e-04j  0.11012369-9.86812968e-04j\n",
       "  -0.17448588+1.22186515e-06j -0.26478869+3.25542045e-04j]\n",
       " [ 0.26478869+3.25542045e-04j -0.17448588-1.22186515e-06j\n",
       "   0.11012369+9.86812968e-04j -0.26478869-3.25542045e-04j]\n",
       " [ 0.53227921+0.00000000e+00j  0.26478862-3.24682337e-04j\n",
       "   0.26478862+3.24682337e-04j  0.46772079+0.00000000e+00j]]"
      ]
     },
     "execution_count": 396,
     "metadata": {},
     "output_type": "execute_result"
    }
   ],
   "source": [
    "L_full_maker(xi_opt, dt)"
   ]
  },
  {
   "cell_type": "code",
   "execution_count": 397,
   "metadata": {
    "ExecuteTime": {
     "end_time": "2019-02-21T10:59:32.108148Z",
     "start_time": "2019-02-21T10:59:31.958464Z"
    }
   },
   "outputs": [
    {
     "name": "stderr",
     "output_type": "stream",
     "text": [
      "/home/tejas/anaconda3/envs/qutip-env/lib/python3.6/site-packages/numpy/core/numeric.py:501: ComplexWarning: Casting complex values to real discards the imaginary part\n",
      "  return array(a, dtype, copy=False, order=order)\n",
      "/home/tejas/anaconda3/envs/qutip-env/lib/python3.6/site-packages/matplotlib/transforms.py:968: ComplexWarning: Casting complex values to real discards the imaginary part\n",
      "  self._points[:, 1] = interval\n"
     ]
    },
    {
     "data": {
      "image/png": "[encoded data removed]",
      "text/plain": [
       "<Figure size 432x288 with 1 Axes>"
      ]
     },
     "metadata": {},
     "output_type": "display_data"
    }
   ],
   "source": [
    "ax = axes()\n",
    "ax.plot(times, xi_opt)\n",
    "xi_max = amax(xi_opt) + 0.1\n",
    "xi_min = amin(xi_opt) - 0.1\n",
    "\n",
    "ax.set(xlim=(0, total_time_evo), ylim=(xi_min, xi_max),\n",
    "       xlabel='time', ylabel= r'$g_{with diss}$',\n",
    "       title='Control field in the presence of dissipation');"
   ]
  },
  {
   "cell_type": "code",
   "execution_count": 398,
   "metadata": {
    "ExecuteTime": {
     "end_time": "2019-02-21T10:59:32.119246Z",
     "start_time": "2019-02-21T10:59:32.110187Z"
    },
    "code_folding": []
   },
   "outputs": [],
   "source": [
    "def cF2p(Q_G, tejas_c):\n",
    "    r\"\"\"Takes in the 2 control fields and produces the plot directly.\n",
    "    The plot contains the following lines:\n",
    "    1. Qutip grape without dissipation\n",
    "    2. Qutip grape with dissipation\n",
    "    3. My  control field with dissipation  \n",
    "    Does some stuff.\n",
    "    \n",
    "    Parameters\n",
    "    ----------\n",
    "    Q_G     : numpy array? \n",
    "              control field Qutip grape without dissipation\n",
    "         \n",
    "    tejas_c : numpy array? \n",
    "              My  control field with dissipation for open quantum system\n",
    "    \n",
    "    \n",
    "    Returns\n",
    "    -------\n",
    "    inFidelity vector for \n",
    "    1. Qutip grape without dissipation    : infid_grape_no_diss\n",
    "    2. Qutip grape with dissipation       : infid_grape_diss \n",
    "    3. My  control field with dissipation : infid_grape_diss_optimized\n",
    "    \n",
    "    \n",
    "    \"\"\"\n",
    "    qone = basis(2, 0)\n",
    "    qzero = basis(2, 1)\n",
    "    c_ops_tejas = sqrt(gamma)*Lin\n",
    "    # state list building\n",
    "    H_qutip = [H_0, [H_1, Q_G]] #result.u[-1, 0, :]\n",
    "    print(\"grape_no_diss\")\n",
    "    grape_no_diss = mesolve(H_qutip, qzero, times, c_ops=[], \n",
    "                            e_ops=[], args={}, options=None, \n",
    "                            progress_bar=TextProgressBar() )\n",
    "    print(\"\")\n",
    "    print(\"grape_diss\")\n",
    "    grape_diss = mesolve(H_qutip, qzero, times, c_ops=[c_ops_tejas], \n",
    "                         e_ops=[], args={}, options=None, \n",
    "                         progress_bar=TextProgressBar() )\n",
    "    print(\"\")\n",
    "    print(\"grape_diss_optimized\")\n",
    "    H_diss_optimized = [H_0, [H_1, tejas_c ]]\n",
    "    grape_diss_optimized = mesolve(H_diss_optimized, qzero, times, \n",
    "                                   c_ops=[c_ops_tejas], e_ops=[], \n",
    "                                   args={}, options=None,\n",
    "                                   progress_bar=TextProgressBar() )\n",
    "    # H_diss_optimized should have been written isntead of H_no_diss\n",
    "    print(\"\")\n",
    "    print(\"\")\n",
    "    \n",
    "    # states list to fidelity list\n",
    "    one_dm = ket2dm(qone)\n",
    "    zero_dm = ket2dm(qzero)\n",
    "    def infidelity_tejas(dm, d=2):\n",
    "        r\"\"\"Brief description of the function\"\"\"\n",
    "        infid = 1 - fidelity(one_dm, dm)\n",
    "        return infid\n",
    "    \n",
    "    infid_dm_vec = vectorize(infidelity_tejas)\n",
    "    infid_grape_no_diss = infid_dm_vec(grape_no_diss.states) \n",
    "    infid_grape_diss = infid_dm_vec(grape_diss.states) \n",
    "    infid_grape_diss_optimized = infid_dm_vec(grape_diss_optimized.states) \n",
    "    list_of_infid_vec = [infid_grape_no_diss, infid_grape_diss, \n",
    "                         infid_grape_diss_optimized]\n",
    "    return list_of_infid_vec"
   ]
  },
  {
   "cell_type": "code",
   "execution_count": 399,
   "metadata": {
    "ExecuteTime": {
     "end_time": "2019-02-21T10:59:40.861908Z",
     "start_time": "2019-02-21T10:59:32.121029Z"
    }
   },
   "outputs": [
    {
     "name": "stdout",
     "output_type": "stream",
     "text": [
      "grape_no_diss\n",
      "10.0%. Run time:   0.03s. Est. time left: 00:00:00:00\n",
      "20.0%. Run time:   0.05s. Est. time left: 00:00:00:00\n",
      "30.0%. Run time:   0.07s. Est. time left: 00:00:00:00\n",
      "40.0%. Run time:   0.10s. Est. time left: 00:00:00:00\n",
      "50.0%. Run time:   0.12s. Est. time left: 00:00:00:00\n",
      "60.0%. Run time:   0.14s. Est. time left: 00:00:00:00\n",
      "70.0%. Run time:   0.16s. Est. time left: 00:00:00:00\n",
      "80.0%. Run time:   0.18s. Est. time left: 00:00:00:00\n",
      "90.0%. Run time:   0.21s. Est. time left: 00:00:00:00\n",
      "Total run time:   0.24s\n",
      "\n",
      "grape_diss\n",
      "10.0%. Run time:   0.01s. Est. time left: 00:00:00:00\n",
      "20.0%. Run time:   0.02s. Est. time left: 00:00:00:00\n",
      "30.0%. Run time:   0.03s. Est. time left: 00:00:00:00\n",
      "40.0%. Run time:   0.04s. Est. time left: 00:00:00:00\n",
      "50.0%. Run time:   0.05s. Est. time left: 00:00:00:00\n",
      "60.0%. Run time:   0.06s. Est. time left: 00:00:00:00\n",
      "70.0%. Run time:   0.07s. Est. time left: 00:00:00:00\n",
      "80.0%. Run time:   0.07s. Est. time left: 00:00:00:00\n",
      "90.0%. Run time:   0.09s. Est. time left: 00:00:00:00\n",
      "Total run time:   0.10s\n",
      "\n",
      "grape_diss_optimized\n",
      "10.0%. Run time:   0.02s. Est. time left: 00:00:00:00\n",
      "20.0%. Run time:   0.04s. Est. time left: 00:00:00:00\n",
      "30.0%. Run time:   0.07s. Est. time left: 00:00:00:00\n",
      "40.0%. Run time:   0.09s. Est. time left: 00:00:00:00\n",
      "50.0%. Run time:   0.12s. Est. time left: 00:00:00:00\n",
      "60.0%. Run time:   0.14s. Est. time left: 00:00:00:00\n",
      "70.0%. Run time:   0.18s. Est. time left: 00:00:00:00\n",
      "80.0%. Run time:   0.21s. Est. time left: 00:00:00:00\n",
      "90.0%. Run time:   0.23s. Est. time left: 00:00:00:00\n",
      "Total run time:   0.25s\n",
      "\n",
      "\n"
     ]
    }
   ],
   "source": [
    "list_of_infid_vec = cF2p(result.u[-1, 0, :], xi_opt)                                                    "
   ]
  },
  {
   "cell_type": "code",
   "execution_count": 400,
   "metadata": {
    "ExecuteTime": {
     "end_time": "2019-02-21T10:59:40.979338Z",
     "start_time": "2019-02-21T10:59:40.865382Z"
    },
    "code_folding": []
   },
   "outputs": [
    {
     "data": {
      "image/png": "[encoded data removed]",
      "text/plain": [
       "<Figure size 432x288 with 1 Axes>"
      ]
     },
     "metadata": {},
     "output_type": "display_data"
    }
   ],
   "source": [
    "ax = axes()\n",
    "ax.plot(times, list_of_infid_vec[0], label='grape_no_diss')\n",
    "ax.plot(times, list_of_infid_vec[1], label='grape_diss')\n",
    "ax.plot(times, list_of_infid_vec[2], label='grape_diss_optimized')\n",
    "#ax.plot(x, cos(x), ':b', label='cos(x)')'-g',\n",
    "#ax.axis('equal')\n",
    "ax.legend()\n",
    "ax.set(xlim=(times[0],times[-1]), ylim=(0, 1.1),\n",
    "       xlabel='time', ylabel='Infidelity',\n",
    "       title='Infidelity as a function of time ');"
   ]
  },
  {
   "cell_type": "code",
   "execution_count": 401,
   "metadata": {
    "ExecuteTime": {
     "end_time": "2019-02-21T10:59:40.984190Z",
     "start_time": "2019-02-21T10:59:40.980859Z"
    }
   },
   "outputs": [
    {
     "data": {
      "text/plain": [
       "array([1.        , 0.76720645, 0.54861383, 0.35482415, 0.1962549 ,\n",
       "       0.08137006, 0.01620385, 0.00420527, 0.04593909, 0.13901424])"
      ]
     },
     "execution_count": 401,
     "metadata": {},
     "output_type": "execute_result"
    }
   ],
   "source": [
    "list_of_infid_vec[2][0:10]"
   ]
  },
  {
   "cell_type": "code",
   "execution_count": 402,
   "metadata": {
    "ExecuteTime": {
     "end_time": "2019-02-21T10:59:41.094309Z",
     "start_time": "2019-02-21T10:59:40.985907Z"
    }
   },
   "outputs": [
    {
     "data": {
      "text/plain": [
       "500"
      ]
     },
     "execution_count": 402,
     "metadata": {},
     "output_type": "execute_result"
    }
   ],
   "source": [
    "len(list_of_infid_vec[2])"
   ]
  },
  {
   "cell_type": "code",
   "execution_count": 403,
   "metadata": {
    "ExecuteTime": {
     "end_time": "2019-02-21T10:59:41.303586Z",
     "start_time": "2019-02-21T10:59:41.095732Z"
    },
    "code_folding": []
   },
   "outputs": [
    {
     "data": {
      "image/png": "[encoded data removed]",
      "text/plain": [
       "<Figure size 432x288 with 1 Axes>"
      ]
     },
     "metadata": {},
     "output_type": "display_data"
    }
   ],
   "source": [
    "ax = axes()\n",
    "#ax.plot(times, list_of_infid_vec[0], label='grape_no_diss')\n",
    "#ax.plot(times, list_of_infid_vec[1], label='grape_diss')\n",
    "ax.plot(times, list_of_infid_vec[2], label='grape_diss_optimized')\n",
    "#ax.plot(x, cos(x), ':b', label='cos(x)')'-g',\n",
    "#ax.axis('equal')\n",
    "ax.legend()\n",
    "ax.set(xlim=(times[0], 1), ylim=(0, 1.1),\n",
    "       xlabel='time', ylabel='Infidelity',\n",
    "       title='Infidelity as a function of time ');"
   ]
  },
  {
   "cell_type": "code",
   "execution_count": 404,
   "metadata": {
    "ExecuteTime": {
     "end_time": "2019-02-21T10:59:41.399345Z",
     "start_time": "2019-02-21T10:59:41.305163Z"
    },
    "code_folding": []
   },
   "outputs": [
    {
     "data": {
      "image/png": "[encoded data removed]",
      "text/plain": [
       "<Figure size 432x288 with 1 Axes>"
      ]
     },
     "metadata": {},
     "output_type": "display_data"
    }
   ],
   "source": [
    "ax = axes()\n",
    "#ax.plot(times, list_of_infid_vec[0], label='grape_no_diss')\n",
    "#ax.plot(times, list_of_infid_vec[1], label='grape_diss')\n",
    "ax.plot(times, list_of_infid_vec[2], label='grape_diss_optimized')\n",
    "#ax.plot(x, cos(x), ':b', label='cos(x)')'-g',\n",
    "#ax.axis('equal')\n",
    "ax.legend()\n",
    "ax.set(xlim=(times[0], 0.1), ylim=(0, 1.1),\n",
    "       xlabel='time', ylabel='Infidelity',\n",
    "       title='Infidelity as a function of time ');"
   ]
  },
  {
   "cell_type": "code",
   "execution_count": 405,
   "metadata": {
    "ExecuteTime": {
     "end_time": "2019-02-21T10:59:41.404061Z",
     "start_time": "2019-02-21T10:59:41.400875Z"
    }
   },
   "outputs": [
    {
     "data": {
      "text/plain": [
       "array([1.        , 0.76720645, 0.54861383, 0.35482415, 0.1962549 ,\n",
       "       0.08137006, 0.01620385, 0.00420527, 0.04593909, 0.13901424])"
      ]
     },
     "execution_count": 405,
     "metadata": {},
     "output_type": "execute_result"
    }
   ],
   "source": [
    "list_of_infid_vec[2][0:10]"
   ]
  },
  {
   "cell_type": "code",
   "execution_count": 406,
   "metadata": {
    "ExecuteTime": {
     "end_time": "2019-02-21T10:59:41.483313Z",
     "start_time": "2019-02-21T10:59:41.405802Z"
    }
   },
   "outputs": [
    {
     "name": "stdout",
     "output_type": "stream",
     "text": [
      "\n",
      "\n",
      "\n",
      "\n",
      "\n",
      "\n",
      "\n",
      "\n",
      "\n",
      "\n",
      "\n",
      "\n",
      "\n",
      "\n",
      "\n",
      "\n",
      "\n",
      "\n",
      "\n",
      "\n",
      "\n",
      "\n",
      "\n",
      "\n",
      "\n",
      "\n",
      "\n",
      "\n",
      "\n",
      "\n",
      "\n",
      "\n",
      "\n",
      "\n",
      "\n",
      "\n",
      "\n",
      "\n",
      "\n",
      "\n",
      "\n",
      "\n",
      "\n",
      "\n",
      "\n",
      "\n",
      "\n",
      "\n",
      "\n",
      "\n",
      "\n",
      "\n",
      "\n",
      "\n",
      "\n",
      "\n",
      "\n",
      "\n",
      "\n",
      "\n",
      "\n",
      "\n",
      "\n",
      "\n",
      "\n",
      "\n",
      "\n",
      "\n",
      "\n",
      "\n",
      "\n",
      "\n",
      "\n",
      "\n",
      "\n",
      "\n",
      "\n",
      "\n",
      "\n",
      "\n",
      "\n",
      "\n",
      "\n",
      "\n",
      "\n",
      "\n",
      "\n",
      "\n",
      "\n",
      "\n",
      "\n",
      "\n",
      "\n",
      "\n",
      "\n",
      "\n",
      "\n",
      "\n",
      "\n",
      "\n",
      "\n",
      "\n",
      "\n",
      "\n",
      "\n",
      "\n",
      "\n",
      "\n",
      "\n",
      "\n",
      "\n",
      "\n",
      "\n",
      "\n",
      "\n",
      "\n",
      "\n",
      "\n",
      "\n",
      "\n",
      "\n",
      "\n",
      "\n",
      "\n",
      "\n",
      "\n",
      "\n",
      "\n",
      "\n",
      "\n",
      "\n",
      "\n",
      "\n",
      "\n",
      "\n",
      "\n",
      "\n",
      "\n",
      "\n",
      "\n",
      "\n",
      "\n",
      "\n",
      "\n",
      "\n",
      "\n",
      "\n",
      "\n",
      "\n",
      "\n",
      "\n",
      "\n",
      "\n",
      "\n",
      "\n",
      "\n",
      "\n",
      "\n",
      "\n",
      "\n",
      "\n",
      "\n",
      "\n",
      "\n",
      "\n",
      "\n",
      "\n",
      "\n",
      "\n",
      "\n",
      "\n",
      "\n",
      "\n",
      "\n",
      "\n",
      "\n",
      "\n",
      "\n",
      "\n",
      "\n",
      "\n",
      "\n",
      "\n",
      "\n",
      "\n",
      "\n",
      "\n",
      "\n",
      "\n",
      "\n",
      "\n",
      "\n",
      "\n",
      "\n",
      "\n",
      "\n",
      "\n",
      "\n",
      "\n",
      "\n",
      "\n",
      "\n",
      "\n",
      "\n",
      "\n",
      "\n",
      "\n",
      "\n",
      "\n",
      "\n",
      "\n",
      "\n",
      "\n",
      "\n",
      "\n",
      "\n",
      "\n",
      "\n",
      "\n",
      "\n",
      "\n",
      "\n",
      "\n",
      "\n",
      "\n",
      "\n",
      "\n",
      "\n",
      "\n",
      "\n",
      "\n",
      "\n",
      "\n",
      "\n",
      "\n",
      "\n",
      "\n",
      "\n",
      "\n",
      "\n",
      "\n",
      "\n",
      "\n",
      "\n",
      "\n",
      "\n",
      "\n",
      "\n",
      "\n",
      "\n",
      "\n",
      "\n",
      "\n",
      "\n",
      "\n",
      "\n",
      "\n",
      "\n",
      "\n",
      "\n",
      "\n",
      "\n",
      "\n",
      "\n",
      "\n",
      "\n",
      "\n",
      "\n",
      "\n",
      "\n",
      "\n",
      "\n",
      "\n",
      "\n",
      "\n",
      "\n",
      "\n",
      "\n",
      "\n",
      "\n",
      "\n",
      "\n",
      "\n",
      "\n",
      "\n",
      "\n",
      "\n",
      "\n",
      "\n",
      "\n",
      "\n",
      "\n",
      "\n",
      "\n",
      "\n",
      "\n",
      "\n",
      "\n",
      "\n",
      "\n",
      "\n",
      "\n",
      "\n",
      "\n",
      "\n",
      "\n",
      "\n",
      "\n",
      "\n",
      "\n",
      "\n",
      "\n",
      "\n",
      "\n",
      "\n",
      "\n",
      "\n",
      "\n",
      "\n",
      "\n",
      "\n",
      "\n",
      "\n",
      "\n",
      "\n",
      "\n",
      "\n",
      "\n",
      "\n",
      "\n",
      "\n",
      "\n",
      "\n",
      "\n",
      "\n",
      "\n",
      "\n",
      "\n",
      "\n",
      "\n",
      "\n",
      "\n",
      "\n",
      "\n",
      "\n",
      "\n",
      "\n",
      "\n",
      "\n",
      "\n",
      "\n",
      "\n",
      "\n",
      "\n",
      "\n",
      "\n",
      "\n",
      "\n",
      "\n",
      "\n",
      "\n",
      "\n",
      "\n",
      "\n",
      "\n",
      "\n",
      "\n",
      "\n",
      "\n",
      "\n",
      "\n",
      "\n",
      "\n",
      "\n",
      "\n",
      "\n",
      "\n",
      "\n",
      "\n",
      "\n",
      "\n",
      "\n",
      "\n",
      "\n",
      "\n",
      "\n",
      "\n",
      "\n",
      "\n",
      "\n",
      "\n",
      "\n",
      "\n",
      "\n",
      "\n",
      "\n",
      "\n",
      "\n",
      "\n",
      "\n",
      "\n",
      "\n",
      "\n",
      "\n",
      "\n",
      "\n",
      "\n",
      "\n",
      "\n",
      "\n",
      "\n",
      "\n",
      "\n",
      "\n",
      "\n",
      "\n",
      "\n",
      "\n",
      "\n",
      "\n",
      "\n",
      "\n",
      "\n",
      "\n",
      "\n",
      "\n",
      "\n",
      "\n",
      "\n",
      "\n",
      "\n",
      "\n",
      "\n",
      "\n",
      "\n",
      "\n",
      "\n",
      "\n",
      "\n",
      "\n",
      "\n",
      "\n",
      "\n",
      "\n",
      "\n",
      "\n",
      "\n",
      "\n",
      "\n",
      "\n",
      "\n",
      "\n",
      "\n",
      "\n",
      "\n",
      "\n",
      "\n",
      "\n",
      "\n",
      "\n",
      "\n",
      "\n",
      "\n",
      "\n",
      "\n",
      "\n",
      "\n",
      "\n",
      "\n",
      "\n",
      "\n",
      "\n",
      "\n",
      "\n",
      "\n",
      "\n",
      "\n",
      "\n",
      "\n",
      "\n",
      "\n",
      "\n",
      "\n",
      "\n",
      "\n",
      "\n",
      "\n",
      "\n",
      "\n",
      "\n",
      "\n",
      "\n",
      "\n",
      "\n",
      "\n",
      "\n",
      "\n",
      "\n",
      "\n",
      "\n"
     ]
    }
   ],
   "source": [
    "for n in range(len(times)) : \n",
    "    print(\"\")\n"
   ]
  },
  {
   "cell_type": "markdown",
   "metadata": {
    "ExecuteTime": {
     "end_time": "2019-02-17T04:58:16.041446Z",
     "start_time": "2019-02-17T04:58:16.032346Z"
    }
   },
   "source": [
    "the_ones = [n for n in range(times[-1]) ] \n",
    "---------------------------------------------------------------------------\n",
    "TypeError                                 Traceback (most recent call last)\n",
    "<ipython-input-295-a3044dec3033> in <module>()\n",
    "----> 1 the_ones = [n for n in range(times[-1]) ]\n",
    "\n",
    "TypeError: 'numpy.float64' object cannot be interpreted as an integer"
   ]
  },
  {
   "cell_type": "markdown",
   "metadata": {
    "ExecuteTime": {
     "end_time": "2019-02-17T05:00:48.211909Z",
     "start_time": "2019-02-17T05:00:48.202355Z"
    }
   },
   "source": [
    "the_chosen_ones = [n for n in range(times[-1]) \n",
    "                  if abs(list_of_infid_vec[2][n] < 0.001)] \n",
    "---------------------------------------------------------------------------\n",
    "TypeError                                 Traceback (most recent call last)\n",
    "<ipython-input-299-0e1b2f1921ae> in <module>()\n",
    "----> 1 the_chosen_ones = [n for n in range(times[-1]) \n",
    "      2                   if abs(list_of_infid_vec[2][n] < 0.001)] \n",
    "\n",
    "TypeError: 'numpy.float64' object cannot be interpreted as an integer"
   ]
  },
  {
   "cell_type": "code",
   "execution_count": 407,
   "metadata": {
    "ExecuteTime": {
     "end_time": "2019-02-21T10:59:41.602795Z",
     "start_time": "2019-02-21T10:59:41.487435Z"
    }
   },
   "outputs": [
    {
     "data": {
      "text/plain": [
       "False"
      ]
     },
     "execution_count": 407,
     "metadata": {},
     "output_type": "execute_result"
    }
   ],
   "source": [
    "abs(list_of_infid_vec[2][3] < 0.001)"
   ]
  },
  {
   "cell_type": "code",
   "execution_count": 408,
   "metadata": {
    "ExecuteTime": {
     "end_time": "2019-02-21T10:59:41.702745Z",
     "start_time": "2019-02-21T10:59:41.604561Z"
    }
   },
   "outputs": [],
   "source": [
    "the_chosen_ones = [n for n in range(len(times)) \n",
    "                  if abs(list_of_infid_vec[2][n] < 0.001)] \n"
   ]
  },
  {
   "cell_type": "code",
   "execution_count": 409,
   "metadata": {
    "ExecuteTime": {
     "end_time": "2019-02-21T10:59:41.829720Z",
     "start_time": "2019-02-21T10:59:41.704434Z"
    }
   },
   "outputs": [
    {
     "data": {
      "text/plain": [
       "[]"
      ]
     },
     "execution_count": 409,
     "metadata": {},
     "output_type": "execute_result"
    }
   ],
   "source": [
    "the_chosen_ones"
   ]
  },
  {
   "cell_type": "code",
   "execution_count": 410,
   "metadata": {
    "ExecuteTime": {
     "end_time": "2019-02-21T10:59:41.927309Z",
     "start_time": "2019-02-21T10:59:41.831479Z"
    }
   },
   "outputs": [],
   "source": [
    "the_chosen_ones = [n for n in range(len(times)) \n",
    "                  if abs(list_of_infid_vec[2][n]) < 0.001 ] \n"
   ]
  },
  {
   "cell_type": "code",
   "execution_count": 411,
   "metadata": {
    "ExecuteTime": {
     "end_time": "2019-02-21T10:59:42.027863Z",
     "start_time": "2019-02-21T10:59:41.928876Z"
    }
   },
   "outputs": [
    {
     "data": {
      "text/plain": [
       "[]"
      ]
     },
     "execution_count": 411,
     "metadata": {},
     "output_type": "execute_result"
    }
   ],
   "source": [
    "the_chosen_ones"
   ]
  },
  {
   "cell_type": "code",
   "execution_count": 412,
   "metadata": {
    "ExecuteTime": {
     "end_time": "2019-02-21T10:59:42.127914Z",
     "start_time": "2019-02-21T10:59:42.029685Z"
    }
   },
   "outputs": [],
   "source": [
    "the_chosen_ones = [n for n in range(len(times)) \n",
    "                  if abs(list_of_infid_vec[2][n]) > 0.001 ] \n"
   ]
  },
  {
   "cell_type": "code",
   "execution_count": 413,
   "metadata": {
    "ExecuteTime": {
     "end_time": "2019-02-21T10:59:42.228194Z",
     "start_time": "2019-02-21T10:59:42.129438Z"
    }
   },
   "outputs": [
    {
     "data": {
      "text/plain": [
       "500"
      ]
     },
     "execution_count": 413,
     "metadata": {},
     "output_type": "execute_result"
    }
   ],
   "source": [
    "len(the_chosen_ones)"
   ]
  },
  {
   "cell_type": "code",
   "execution_count": 414,
   "metadata": {
    "ExecuteTime": {
     "end_time": "2019-02-21T10:59:42.328623Z",
     "start_time": "2019-02-21T10:59:42.229848Z"
    }
   },
   "outputs": [
    {
     "data": {
      "text/plain": [
       "0.004205267397021539"
      ]
     },
     "execution_count": 414,
     "metadata": {},
     "output_type": "execute_result"
    }
   ],
   "source": [
    "amin(list_of_infid_vec[2])"
   ]
  },
  {
   "cell_type": "code",
   "execution_count": 415,
   "metadata": {
    "ExecuteTime": {
     "end_time": "2019-02-21T10:59:42.440698Z",
     "start_time": "2019-02-21T10:59:42.330300Z"
    }
   },
   "outputs": [],
   "source": [
    "the_chosen_ones = [n for n in range(len(times)) \n",
    "                  if abs(list_of_infid_vec[2][n])\n",
    "                   < (10**(-4) + amin(list_of_infid_vec[2]))  ] \n"
   ]
  },
  {
   "cell_type": "code",
   "execution_count": 416,
   "metadata": {
    "ExecuteTime": {
     "end_time": "2019-02-21T10:59:42.544756Z",
     "start_time": "2019-02-21T10:59:42.442384Z"
    }
   },
   "outputs": [
    {
     "data": {
      "text/plain": [
       "[7]"
      ]
     },
     "execution_count": 416,
     "metadata": {},
     "output_type": "execute_result"
    }
   ],
   "source": [
    "the_chosen_ones"
   ]
  },
  {
   "cell_type": "code",
   "execution_count": 417,
   "metadata": {
    "ExecuteTime": {
     "end_time": "2019-02-21T10:59:42.661794Z",
     "start_time": "2019-02-21T10:59:42.546443Z"
    }
   },
   "outputs": [
    {
     "data": {
      "text/plain": [
       "0.004205267397021539"
      ]
     },
     "execution_count": 417,
     "metadata": {},
     "output_type": "execute_result"
    }
   ],
   "source": [
    "list_of_infid_vec[2][7]"
   ]
  },
  {
   "cell_type": "code",
   "execution_count": 418,
   "metadata": {
    "ExecuteTime": {
     "end_time": "2019-02-21T10:59:42.769516Z",
     "start_time": "2019-02-21T10:59:42.663746Z"
    }
   },
   "outputs": [
    {
     "data": {
      "text/plain": [
       "0.08814087605261944"
      ]
     },
     "execution_count": 418,
     "metadata": {},
     "output_type": "execute_result"
    }
   ],
   "source": [
    "times[7]"
   ]
  },
  {
   "cell_type": "code",
   "execution_count": 419,
   "metadata": {
    "ExecuteTime": {
     "end_time": "2019-02-21T10:59:42.844483Z",
     "start_time": "2019-02-21T10:59:42.770858Z"
    }
   },
   "outputs": [
    {
     "data": {
      "text/plain": [
       "(-267.74011738337043+0j)"
      ]
     },
     "execution_count": 419,
     "metadata": {},
     "output_type": "execute_result"
    }
   ],
   "source": [
    "amax(xi_opt)"
   ]
  },
  {
   "cell_type": "markdown",
   "metadata": {},
   "source": [
    "### try"
   ]
  },
  {
   "cell_type": "code",
   "execution_count": 420,
   "metadata": {
    "ExecuteTime": {
     "end_time": "2019-02-23T06:32:10.480714Z",
     "start_time": "2019-02-21T10:59:42.845667Z"
    }
   },
   "outputs": [
    {
     "name": "stdout",
     "output_type": "stream",
     "text": [
      "Hi\n",
      "0\n",
      "(-41.299246932687744+0j)\n",
      "1\n",
      "(-41.27439287485222+0j)\n",
      "2\n",
      "(-41.27472211928908+0j)\n",
      "3\n",
      "(-41.277736955695346+0j)\n",
      "4\n",
      "(-41.27304627869958+0j)\n",
      "5\n",
      "(-41.27826710622938+0j)\n",
      "6\n",
      "(-41.27315541515397+0j)\n",
      "7\n",
      "(-41.277766775419195+0j)\n",
      "8\n",
      "(-41.273969621223856+0j)\n",
      "9\n",
      "(-41.276796613693406+0j)\n",
      "10\n",
      "(-41.275000947298835+0j)\n",
      "11\n",
      "(-41.27577015040115+0j)\n",
      "12\n",
      "(-41.27591030326318+0j)\n",
      "13\n",
      "(-41.27499894575271+0j)\n",
      "14\n",
      "(-41.27647306469129+0j)\n",
      "15\n",
      "(-41.274650021575596+0j)\n",
      "16\n",
      "(-41.2766055261332+0j)\n",
      "17\n",
      "(-41.27472753900597+0j)\n",
      "18\n",
      "(-41.27635859426097+0j)\n",
      "19\n",
      "(-41.2751097299182+0j)\n",
      "20\n",
      "(-41.275892471296395+0j)\n",
      "21\n",
      "(-41.27560538414529+0j)\n",
      "22\n",
      "(-41.275409299298865+0j)\n",
      "23\n",
      "(-41.27602284065188+0j)\n",
      "24\n",
      "(-41.275084464135084+0j)\n",
      "25\n",
      "(-41.27622844178112+0j)\n",
      "26\n",
      "(-41.27500905843122+0j)\n",
      "27\n",
      "(-41.276179728410675+0j)\n",
      "28\n",
      "(-41.27517239536638+0j)\n",
      "29\n",
      "(-41.27592874423086+0j)\n",
      "30\n",
      "(-41.27548149644302+0j)\n",
      "31\n",
      "(-41.27559364214684+0j)\n",
      "32\n",
      "(-41.27580477849266+0j)\n",
      "33\n",
      "(-41.27530918227452+0j)\n",
      "34\n",
      "(-41.276022028243474+0j)\n",
      "35\n",
      "(-41.27517543292903+0j)\n",
      "36\n",
      "(-41.27606459823536+0j)\n",
      "37\n",
      "(-41.275225447075115+0j)\n",
      "38\n",
      "(-41.275934277727096+0j)\n",
      "39\n",
      "(-41.27542049099464+0j)\n",
      "40\n",
      "(-41.27569724964979+0j)\n",
      "41\n",
      "(-41.275672839304036+0j)\n",
      "42\n",
      "(-41.27545333701491+0j)\n",
      "43\n",
      "(-41.27588238433302+0j)\n",
      "44\n",
      "(-41.27529591325874+0j)\n",
      "45\n",
      "(-41.275973945418265+0j)\n",
      "46\n",
      "(-41.275277113059765+0j)\n",
      "47\n",
      "(-41.27592266711172+0j)\n",
      "48\n",
      "(-41.27539187191115+0j)\n",
      "49\n",
      "(-41.275759378722356+0j)\n",
      "50\n",
      "(-41.27558538444292+0j)\n",
      "51\n",
      "(-41.27555533255549+0j)\n",
      "52\n",
      "(-41.275777845178354+0j)\n",
      "53\n",
      "(-41.27539192248112+0j)\n",
      "54\n",
      "(-41.275895965411806+0j)\n",
      "55\n",
      "(-41.27532916997921+0j)\n",
      "56\n",
      "(-41.275899767197565+0j)\n",
      "57\n",
      "(-41.27538364187057+0j)\n",
      "58\n",
      "(-41.27579542681941+0j)\n",
      "59\n",
      "(-41.27552615078123+0j)\n",
      "60\n",
      "(-41.27563023044314+0j)\n",
      "61\n",
      "(-41.27569597767209+0j)\n",
      "62\n",
      "(-41.27547200064277+0j)\n",
      "63\n",
      "(-41.2758261664145+0j)\n",
      "64\n",
      "(-41.275381620331+0j)\n",
      "65\n",
      "(-41.275868960798554+0j)\n",
      "66\n",
      "(-41.27538980294402+0j)\n",
      "67\n",
      "(-41.27581289277708+0j)\n",
      "68\n",
      "(-41.275487339110335+0j)\n",
      "69\n",
      "(-41.27568523532649+0j)\n",
      "70\n",
      "(-41.275631161887986+0j)\n",
      "71\n",
      "(-41.275539619805976+0j)\n",
      "72\n",
      "(-41.27576310190688+0j)\n",
      "73\n",
      "(-41.27543373882821+0j)\n",
      "74\n",
      "(-41.27583271421034+0j)\n",
      "75\n",
      "(-41.275406601370975+0j)\n",
      "76\n",
      "(-41.275816211144765+0j)\n",
      "77\n",
      "(-41.275464515235896+0j)\n",
      "78\n",
      "(-41.275724251258374+0j)\n",
      "79\n",
      "(-41.275580460991364+0j)\n",
      "80\n",
      "(-41.27559639443979+0j)\n",
      "81\n",
      "(-41.27570648555174+0j)\n",
      "82\n",
      "(-41.27548438598661+0j)\n",
      "83\n",
      "(-41.275793123151246+0j)\n",
      "84\n",
      "(-41.27543117649978+0j)\n",
      "85\n",
      "(-41.27580848165532+0j)\n",
      "86\n",
      "(-41.27545473842026+0j)\n",
      "87\n",
      "(-41.27574972407095+0j)\n",
      "88\n",
      "(-41.27554221461538+0j)\n",
      "89\n",
      "(-41.27564305897061+0j)\n",
      "90\n",
      "(-41.27565657436922+0j)\n",
      "91\n",
      "(-41.275532367718284+0j)\n",
      "92\n",
      "(-41.27575203867639+0j)\n",
      "93\n",
      "(-41.27546120147842+0j)\n",
      "94\n",
      "(-41.275792184211994+0j)\n",
      "95\n",
      "(-41.27545572187066+0j)\n",
      "96\n",
      "(-41.27576351080131+0j)\n",
      "97\n",
      "(-41.27551525107059+0j)\n",
      "98\n",
      "(-41.2756799929309+0j)\n",
      "99\n",
      "(-41.275613763062694+0j)\n",
      "100\n",
      "(-41.27557654550294+0j)\n",
      "101\n",
      "(-41.275711191684806+0j)\n",
      "102\n",
      "(-41.27549458652306+0j)\n",
      "103\n",
      "(-41.275769473440405+0j)\n",
      "104\n",
      "(-41.27546548110653+0j)\n",
      "105\n",
      "(-41.27576723485629+0j)\n",
      "106\n",
      "(-41.275498561065696+0j)\n",
      "107\n",
      "(-41.27570752795565+0j)\n",
      "108\n",
      "(-41.27557844528759+0j)\n",
      "109\n",
      "(-41.27561588083636+0j)\n",
      "110\n",
      "(-41.275672097650514+0j)\n",
      "111\n",
      "(-41.27552949128086+0j)\n",
      "112\n",
      "(-41.275742320016576+0j)\n",
      "113\n",
      "(-41.275482182354374+0j)\n",
      "114\n",
      "(-41.27576237722797+0j)\n",
      "115\n",
      "(-41.27549114974385+0j)\n",
      "116\n",
      "(-41.27572605600797+0j)\n",
      "117\n",
      "(-41.27555085231301+0j)\n",
      "118\n",
      "(-41.275649502707275+0j)\n",
      "119\n",
      "(-41.275636093838024+0j)\n",
      "120\n",
      "(-41.27556418908064+0j)\n",
      "121\n",
      "(-41.27571253286147+0j)\n",
      "122\n",
      "(-41.275504047065276+0j)\n",
      "123\n",
      "(-41.275750469083725+0j)\n",
      "124\n",
      "(-41.275491930982724+0j)\n",
      "125\n",
      "(-41.27573614226311+0j)\n",
      "126\n",
      "(-41.27553102655893+0j)\n",
      "127\n",
      "(-41.27567679844888+0j)\n",
      "128\n",
      "(-41.275604278747544+0j)\n",
      "129\n",
      "(-41.275597192197935+0j)\n",
      "130\n",
      "(-41.27568182309637+0j)\n",
      "131\n",
      "(-41.275529376415726+0j)\n",
      "132\n",
      "(-41.27573302662364+0j)\n",
      "133\n",
      "(-41.275499733604846+0j)\n",
      "134\n",
      "(-41.27573850767638+0j)\n",
      "135\n",
      "(-41.275518792159154+0j)\n",
      "136\n",
      "(-41.27569739229345+0j)\n",
      "137\n",
      "(-41.275577555898316+0j)\n",
      "138\n",
      "(-41.275627225987456+0j)\n",
      "139\n",
      "(-41.27565169669093+0j)\n",
      "140\n",
      "(-41.2755565361911+0j)\n",
      "141\n",
      "(-41.275711598928+0j)\n",
      "142\n",
      "(-41.27551328216038+0j)\n",
      "143\n",
      "(-41.27573404510508+0j)\n",
      "144\n",
      "(-41.27551375454977+0j)\n",
      "145\n",
      "(-41.275711188379766+0j)\n",
      "146\n",
      "(-41.27555651381072+0j)\n",
      "147\n",
      "(-41.27565322987593+0j)\n",
      "148\n",
      "(-41.27562351358963+0j)\n",
      "149\n",
      "(-41.275584016724+0j)\n",
      "150\n",
      "(-41.275687690666835+0j)\n",
      "151\n",
      "(-41.27553122014973+0j)\n",
      "152\n",
      "(-41.27572381216786+0j)\n",
      "153\n",
      "(-41.275515277724196+0j)\n",
      "154\n",
      "(-41.2757183298776+0j)\n",
      "155\n",
      "(-41.275541490694756+0j)\n",
      "156\n",
      "(-41.27567443420164+0j)\n",
      "157\n",
      "(-41.27559840200494+0j)\n",
      "158\n",
      "(-41.275610439479216+0j)\n",
      "159\n",
      "(-41.27566274745646+0j)\n",
      "160\n",
      "(-41.275552166286815+0j)\n",
      "161\n",
      "(-41.27570896723428+0j)\n",
      "162\n",
      "(-41.27552253981817+0j)\n",
      "163\n",
      "(-41.27571923103962+0j)\n",
      "164\n",
      "(-41.27553255644763+0j)\n",
      "165\n",
      "(-41.27569033008704+0j)\n",
      "166\n",
      "(-41.27557725628456+0j)\n",
      "167\n",
      "(-41.27563459953643+0j)\n",
      "168\n",
      "(-41.27563812653189+0j)\n",
      "169\n",
      "(-41.275574740665625+0j)\n",
      "170\n",
      "(-41.27569075061387+0j)\n",
      "171\n",
      "(-41.27553456063352+0j)\n",
      "172\n",
      "(-41.27571451987682+0j)\n",
      "173\n",
      "(-41.27552950298466+0j)\n",
      "174\n",
      "(-41.2757006756326+0j)\n",
      "175\n",
      "(-41.27556072829768+0j)\n",
      "176\n",
      "(-41.27565552535024+0j)\n",
      "177\n",
      "(-41.27561503562648+0j)\n",
      "178\n",
      "(-41.2755976359075+0j)\n",
      "179\n",
      "(-41.27567043895233+0j)\n",
      "180\n",
      "(-41.27555024637408+0j)\n",
      "181\n",
      "(-41.275705006634034+0j)\n",
      "182\n",
      "(-41.27553189644097+0j)\n",
      "183\n",
      "(-41.27570551434565+0j)\n",
      "184\n",
      "(-41.2755491918983+0j)\n",
      "185\n",
      "(-41.275672463004796+0j)\n",
      "186\n",
      "(-41.275594496711925+0j)\n",
      "187\n",
      "(-41.275619648501376+0j)\n",
      "188\n",
      "(-41.275649271164696+0j)\n",
      "189\n",
      "(-41.27556842753961+0j)\n",
      "190\n",
      "(-41.27569165201341+0j)\n",
      "191\n",
      "(-41.27553908360458+0j)\n",
      "192\n",
      "(-41.27570511997339+0j)\n",
      "193\n",
      "(-41.27554277684599+0j)\n",
      "194\n",
      "(-41.27568491481111+0j)\n",
      "195\n",
      "(-41.27557733577761+0j)\n",
      "196\n",
      "(-41.27563970742448+0j)\n",
      "197\n",
      "(-41.27562843086652+0j)\n",
      "198\n",
      "(-41.275587929776755+0j)\n",
      "199\n",
      "(-41.27567550187023+0j)\n",
      "200\n",
      "(-41.275550257732526+0j)\n",
      "201\n",
      "(-41.275699996990404+0j)\n",
      "202\n",
      "(-41.27554134645617+0j)\n",
      "203\n",
      "(-41.275692637674865+0j)\n",
      "204\n",
      "(-41.27556414529605+0j)\n",
      "205\n",
      "(-41.27565694226253+0j)\n",
      "206\n",
      "(-41.27560897718408+0j)\n",
      "207\n",
      "(-41.27560760727167+0j)\n",
      "208\n",
      "(-41.27565765364188+0j)\n",
      "209\n",
      "(-41.27556447635104+0j)\n",
      "210\n",
      "(-41.275690826401146+0j)\n",
      "211\n",
      "(-41.275544551943206+0j)\n",
      "212\n",
      "(-41.27569563350076+0j)\n",
      "213\n",
      "(-41.27555528120744+0j)\n",
      "214\n",
      "(-41.27567068023574+0j)\n",
      "215\n",
      "(-41.275591819201686+0j)\n",
      "216\n",
      "(-41.275626400140155+0j)\n",
      "217\n",
      "(-41.2756391957402+0j)\n",
      "218\n",
      "(-41.27558072824959+0j)\n",
      "219\n",
      "(-41.27567843978125+0j)\n",
      "220\n",
      "(-41.275551826730684+0j)\n",
      "221\n",
      "(-41.275694139284234+0j)\n",
      "222\n",
      "(-41.27555085924715+0j)\n",
      "223\n",
      "(-41.275680477164244+0j)\n",
      "224\n",
      "(-41.27557768943425+0j)\n",
      "225\n",
      "(-41.27564337591005+0j)\n",
      "226\n",
      "(-41.27562116413878+0j)\n",
      "227\n",
      "(-41.275597976872014+0j)\n",
      "228\n",
      "(-41.27566375393181+0j)\n",
      "229\n",
      "(-41.275562463780666+0j)\n",
      "230\n",
      "(-41.27568859400219+0j)\n",
      "231\n",
      "(-41.27555076444742+0j)\n",
      "232\n",
      "(-41.27568611891638+0j)\n",
      "233\n",
      "(-41.275567099982496+0j)\n",
      "234\n",
      "(-41.275657765305326+0j)\n",
      "235\n",
      "(-41.27560449139137+0j)\n",
      "236\n",
      "(-41.27561522003617+0j)\n",
      "237\n",
      "(-41.27564774461728+0j)\n",
      "238\n",
      "(-41.27557562773369+0j)\n",
      "239\n",
      "(-41.27567960551164+0j)\n",
      "240\n",
      "(-41.27555467257094+0j)\n",
      "241\n",
      "(-41.27568762131774+0j)\n",
      "242\n",
      "(-41.27556036163864+0j)\n",
      "243\n",
      "(-41.27566898375291+0j)\n",
      "244\n",
      "(-41.27558997899594+0j)\n",
      "245\n",
      "(-41.2756315192123+0j)\n",
      "246\n",
      "(-41.27563136811476+0j)\n",
      "247\n",
      "(-41.275590417770196+0j)\n",
      "248\n",
      "(-41.27566791872282+0j)\n",
      "249\n",
      "(-41.27556207927442+0j)\n",
      "250\n",
      "(-41.27568520251558+0j)\n",
      "251\n",
      "(-41.275557557550435+0j)\n",
      "252\n",
      "(-41.27567665246582+0j)\n",
      "253\n",
      "(-41.275578256131375+0j)\n",
      "254\n",
      "(-41.27564605357575+0j)\n",
      "255\n",
      "(-41.27561554566133+0j)\n",
      "256\n",
      "(-41.27560590991648+0j)\n",
      "257\n",
      "(-41.27565436190931+0j)\n",
      "258\n",
      "(-41.275572331587156+0j)\n",
      "259\n",
      "(-41.27567927622649+0j)\n",
      "260\n",
      "(-41.27555856663675+0j)\n",
      "261\n",
      "(-41.27568059831461+0j)\n",
      "262\n",
      "(-41.275569773064404+0j)\n",
      "263\n",
      "(-41.275658153274705+0j)\n",
      "264\n",
      "(-41.275601102406874+0j)\n",
      "265\n",
      "(-41.27562120788265+0j)\n",
      "266\n",
      "(-41.275639805676256+0j)\n",
      "267\n",
      "(-41.27558467275713+0j)\n",
      "268\n",
      "(-41.27567040439582+0j)\n",
      "269\n",
      "(-41.27556307444419+0j)\n",
      "270\n",
      "(-41.27568086541194+0j)\n",
      "271\n",
      "(-41.275564775298+0j)\n",
      "272\n",
      "(-41.27566731586958+0j)\n",
      "273\n",
      "(-41.275588739173884+0j)\n",
      "274\n",
      "(-41.27563548042508+0j)\n",
      "275\n",
      "(-41.275625114465555+0j)\n",
      "276\n",
      "(-41.27559828464545+0j)\n",
      "277\n",
      "(-41.27565927239711+0j)\n",
      "278\n",
      "(-41.275570603782626+0j)\n",
      "279\n",
      "(-41.27567767561327+0j)\n",
      "280\n",
      "(-41.275563309907206+0j)\n",
      "281\n",
      "(-41.275673228641345+0j)\n",
      "282\n",
      "(-41.27557900350847+0j)\n",
      "283\n",
      "(-41.2756480091687+0j)\n",
      "284\n",
      "(-41.275611109142915+0j)\n",
      "285\n",
      "(-41.275612333838005+0j)\n",
      "286\n",
      "(-41.27564663722499+0j)\n",
      "287\n",
      "(-41.27558054543732+0j)\n",
      "288\n",
      "(-41.275671425419844+0j)\n",
      "289\n",
      "(-41.27556523960673+0j)\n",
      "290\n",
      "(-41.27567576756884+0j)\n",
      "291\n",
      "(-41.275572269063716+0j)\n",
      "292\n",
      "(-41.27565820586423+0j)\n",
      "293\n",
      "(-41.27559852050608+0j)\n"
     ]
    },
    {
     "name": "stdout",
     "output_type": "stream",
     "text": [
      "294\n",
      "(-41.27562601324415+0j)\n",
      "295\n",
      "(-41.27563329193355+0j)\n",
      "296\n",
      "(-41.275592199957664+0j)\n",
      "297\n",
      "(-41.275662653203796+0j)\n",
      "298\n",
      "(-41.275570247444065+0j)\n",
      "299\n",
      "(-41.27567500062424+0j)\n",
      "300\n",
      "(-41.275568728050104+0j)\n",
      "301\n",
      "(-41.27566564643282+0j)\n",
      "302\n",
      "(-41.275587962472244+0j)\n",
      "303\n",
      "(-41.27563858434905+0j)\n",
      "304\n",
      "(-41.275620023425134+0j)\n",
      "305\n",
      "(-41.275604816478186+0j)\n",
      "306\n",
      "(-41.27565199286994+0j)\n",
      "307\n",
      "(-41.275577871487634+0j)\n",
      "308\n",
      "(-41.27567116582455+0j)\n",
      "309\n",
      "(-41.27556838842048+0j)\n",
      "310\n",
      "(-41.27567007881935+0j)\n",
      "311\n",
      "(-41.27557990450594+0j)\n",
      "312\n",
      "(-41.27564941067893+0j)\n",
      "313\n",
      "(-41.275607561238076+0j)\n",
      "314\n",
      "(-41.27561763270823+0j)\n",
      "315\n",
      "(-41.27564015148078+0j)\n",
      "316\n",
      "(-41.275587537856914+0j)\n",
      "317\n",
      "(-41.27566465677094+0j)\n",
      "318\n",
      "(-41.27557108881888+0j)\n",
      "319\n",
      "(-41.27567142773135+0j)\n",
      "320\n",
      "(-41.275574656347764+0j)\n",
      "321\n",
      "(-41.27565798519149+0j)\n",
      "322\n",
      "(-41.275596560233744+0j)\n",
      "323\n",
      "(-41.27562992149948+0j)\n",
      "324\n",
      "(-41.275627856739646+0j)\n",
      "325\n",
      "(-41.275598588356765+0j)\n",
      "326\n",
      "(-41.27565598280835+0j)\n",
      "327\n",
      "(-41.275576505510685+0j)\n",
      "328\n",
      "(-41.27566979067839+0j)\n",
      "329\n",
      "(-41.27557235231771+0j)\n",
      "330\n",
      "(-41.27566395283859+0j)\n",
      "331\n",
      "(-41.27558755416058+0j)\n",
      "332\n",
      "(-41.27564102144666+0j)\n",
      "333\n",
      "(-41.27561582134614+0j)\n",
      "334\n",
      "(-41.275610328215166+0j)\n",
      "335\n",
      "(-41.275645751787245+0j)\n",
      "336\n",
      "(-41.27558419167881+0j)\n",
      "337\n",
      "(-41.275665420880436+0j)\n",
      "338\n",
      "(-41.27557296748155+0j)\n",
      "339\n",
      "(-41.2756671187014+0j)\n",
      "340\n",
      "(-41.275580942849594+0j)\n",
      "341\n",
      "(-41.275650372786195+0j)\n",
      "342\n",
      "(-41.27560470870867+0j)\n",
      "343\n",
      "(-41.275622059249486+0j)\n",
      "344\n",
      "(-41.2756346206087+0j)\n",
      "345\n",
      "(-41.27559359218397+0j)\n",
      "346\n",
      "(-41.27565870884012+0j)\n",
      "347\n",
      "(-41.27557631295055+0j)\n",
      "348\n",
      "(-41.27566745199072+0j)\n",
      "349\n",
      "(-41.2755769729217+0j)\n",
      "350\n",
      "(-41.2756575388721+0j)\n",
      "351\n",
      "(-41.275595095144055+0j)\n",
      "352\n",
      "(-41.27563312189877+0j)\n",
      "353\n",
      "(-41.27562326316506+0j)\n",
      "354\n",
      "(-41.27560408871107+0j)\n",
      "355\n",
      "(-41.275650152746316+0j)\n",
      "356\n",
      "(-41.27558206214208+0j)\n",
      "357\n",
      "(-41.27566507810351+0j)\n",
      "358\n",
      "(-41.27557573564163+0j)\n",
      "359\n",
      "(-41.27566222749764+0j)\n",
      "360\n",
      "(-41.27558744818148+0j)\n",
      "361\n",
      "(-41.275642923826474+0j)\n",
      "362\n",
      "(-41.27561232892951+0j)\n",
      "363\n",
      "(-41.27561503525877+0j)\n",
      "364\n",
      "(-41.27564032785109+0j)\n",
      "365\n",
      "(-41.27558976879367+0j)\n",
      "366\n",
      "(-41.27566026793822+0j)\n",
      "367\n",
      "(-41.27557716470477+0j)\n",
      "368\n",
      "(-41.275664295798876+0j)\n",
      "369\n",
      "(-41.2755821015024+0j)\n",
      "370\n",
      "(-41.2756509738089+0j)\n",
      "371\n",
      "(-41.275602415606116+0j)\n",
      "372\n",
      "(-41.275625788697766+0j)\n",
      "373\n",
      "(-41.275629852804755+0j)\n",
      "374\n",
      "(-41.27559890182908+0j)\n",
      "375\n",
      "(-41.275653411838746+0j)\n",
      "376\n",
      "(-41.27558105151435+0j)\n",
      "377\n",
      "(-41.2756637547793+0j)\n",
      "378\n",
      "(-41.27557924875205+0j)\n",
      "379\n",
      "(-41.27565689904512+0j)\n",
      "380\n",
      "(-41.2755940373495+0j)\n",
      "381\n",
      "(-41.27563574797465+0j)\n",
      "382\n",
      "(-41.275619348370306+0j)\n",
      "383\n",
      "(-41.27560887786037+0j)\n",
      "384\n",
      "(-41.27564499282287+0j)\n",
      "385\n",
      "(-41.27558705887249+0j)\n",
      "386\n",
      "(-41.275660757969014+0j)\n",
      "387\n",
      "(-41.27557893493807+0j)\n",
      "388\n",
      "(-41.275660463803355+0j)\n",
      "389\n",
      "(-41.27558759633731+0j)\n",
      "390\n",
      "(-41.275644386257966+0j)\n",
      "391\n",
      "(-41.27560941437051+0j)\n",
      "392\n",
      "(-41.27561908816556+0j)\n",
      "393\n",
      "(-41.27563556447158+0j)\n",
      "394\n",
      "(-41.27559474835339+0j)\n",
      "395\n",
      "(-41.27565558878985+0j)\n",
      "396\n",
      "(-41.27558106123747+0j)\n",
      "397\n",
      "(-41.27566157507096+0j)\n",
      "398\n",
      "(-41.27558336971182+0j)\n",
      "399\n",
      "(-41.27565127120917+0j)\n",
      "400\n",
      "(-41.27560058848694+0j)\n",
      "401\n",
      "(-41.27562894264638+0j)\n",
      "402\n",
      "(-41.27562570502659+0j)\n",
      "403\n",
      "(-41.27560360749055+0j)\n",
      "404\n",
      "(-41.27564863910536+0j)\n",
      "405\n",
      "(-41.27558539708691+0j)\n",
      "406\n",
      "(-41.2756602777411+0j)\n",
      "407\n",
      "(-41.27558149982661+0j)\n",
      "408\n",
      "(-41.27565609124648+0j)\n",
      "409\n",
      "(-41.27559332263168+0j)\n",
      "410\n",
      "(-41.27563789553004+0j)\n",
      "411\n",
      "(-41.27561599644328+0j)\n",
      "412\n",
      "(-41.275613078824634+0j)\n",
      "413\n",
      "(-41.27564038273547+0j)\n",
      "414\n",
      "(-41.275591599448624+0j)\n",
      "415\n",
      "(-41.275656753849816+0j)\n",
      "416\n",
      "(-41.275581990301916+0j)\n",
      "417\n",
      "(-41.27565866048518+0j)\n",
      "418\n",
      "(-41.275587963320774+0j)\n",
      "419\n",
      "(-41.27564547630306+0j)\n",
      "420\n",
      "(-41.27560698396308+0j)\n",
      "421\n",
      "(-41.275622595887334+0j)\n",
      "422\n",
      "(-41.27563134764499+0j)\n",
      "423\n",
      "(-41.27559923410418+0j)\n",
      "424\n",
      "(-41.27565129897788+0j)\n",
      "425\n",
      "(-41.27558471264597+0j)\n",
      "426\n",
      "(-41.275658929749376+0j)\n",
      "427\n",
      "(-41.27558473514722+0j)\n",
      "428\n",
      "(-41.27565131011062+0j)\n",
      "429\n",
      "(-41.275599152855236+0j)\n",
      "430\n",
      "(-41.27563161333872+0j)\n",
      "431\n",
      "(-41.275622080866256+0j)\n",
      "432\n",
      "(-41.275607805328725+0j)\n",
      "433\n",
      "(-41.275644305865555+0j)\n",
      "434\n",
      "(-41.275589418538644+0j)\n",
      "435\n",
      "(-41.275656979915716+0j)\n",
      "436\n",
      "(-41.27558373513798+0j)\n",
      "437\n",
      "(-41.275655136649206+0j)\n",
      "438\n",
      "(-41.27559290015897+0j)\n",
      "439\n",
      "(-41.27563963728138+0j)\n",
      "440\n",
      "(-41.275613120333595+0j)\n",
      "441\n",
      "(-41.27561678376733+0j)\n",
      "442\n",
      "(-41.275636236988575+0j)\n",
      "443\n",
      "(-41.27559575754635+0j)\n",
      "444\n",
      "(-41.27565301318177+0j)\n",
      "445\n",
      "(-41.27558492853325+0j)\n",
      "446\n",
      "(-41.27565681875533+0j)\n",
      "447\n",
      "(-41.27558852009085+0j)\n",
      "448\n",
      "(-41.27564624809853+0j)\n",
      "449\n",
      "(-41.275604967077115+0j)\n",
      "450\n",
      "(-41.27562563900843+0j)\n",
      "451\n",
      "(-41.27562759733545+0j)\n",
      "452\n",
      "(-41.27560330140232+0j)\n",
      "453\n",
      "(-41.275647338121836+0j)\n",
      "454\n",
      "(-41.275588160000225+0j)\n",
      "455\n",
      "(-41.27565634690891+0j)\n",
      "456\n",
      "(-41.2755861897056+0j)\n",
      "457\n",
      "(-41.275651123517+0j)\n",
      "458\n",
      "(-41.27559805549307+0j)\n",
      "459\n",
      "(-41.275633869807486+0j)\n",
      "460\n",
      "(-41.27561890316604+0j)\n",
      "461\n",
      "(-41.275611570050074+0j)\n",
      "462\n",
      "(-41.275640346200746+0j)\n",
      "463\n",
      "(-41.275593164310045+0j)\n",
      "464\n",
      "(-41.27565383221642+0j)\n",
      "465\n",
      "(-41.27558596107035+0j)\n",
      "466\n",
      "(-41.275654052239894+0j)\n",
      "467\n",
      "(-41.27559273294967+0j)\n",
      "468\n",
      "(-41.275641027103454+0j)\n",
      "469\n",
      "(-41.27561065620041+0j)\n",
      "470\n",
      "(-41.27562006128145+0j)\n",
      "471\n",
      "(-41.27563248933377+0j)\n",
      "472\n",
      "(-41.2755995869518+0j)\n",
      "473\n",
      "(-41.275649497855795+0j)\n",
      "474\n",
      "(-41.27558776823094+0j)\n",
      "475\n",
      "(-41.275654941046824+0j)\n",
      "476\n",
      "(-41.27558924436744+0j)\n",
      "477\n",
      "(-41.27564674157097+0j)\n",
      "478\n",
      "(-41.27560331051426+0j)\n",
      "479\n",
      "(-41.275628280259184+0j)\n",
      "480\n",
      "(-41.27562425061217+0j)\n",
      "481\n",
      "(-41.2756070057373+0j)\n",
      "482\n",
      "(-41.27564366065166+0j)\n",
      "483\n",
      "(-41.275591430937695+0j)\n",
      "484\n",
      "(-41.27565381550385+0j)\n",
      "485\n",
      "(-41.27558772118339+0j)\n",
      "486\n",
      "(-41.27565073944064+0j)\n",
      "487\n",
      "(-41.2755972547808+0j)\n",
      "488\n",
      "(-41.27563576331467+0j)\n",
      "489\n",
      "(-41.2756161173216+0j)\n",
      "490\n",
      "(-41.27561495684625+0j)\n",
      "491\n",
      "(-41.27563671209145+0j)\n",
      "492\n",
      "(-41.27559667028677+0j)\n",
      "493\n",
      "(-41.275650815103035+0j)\n",
      "494\n",
      "(-41.27558817944865+0j)\n",
      "495\n",
      "(-41.27565285342688+0j)\n",
      "496\n",
      "(-41.27559278929635+0j)\n",
      "497\n",
      "(-41.275642108095+0j)\n",
      "498\n",
      "(-41.275608552274896+0j)\n",
      "499\n",
      "(-41.27562296466469+0j)\n",
      "500\n",
      "(-41.27562909127848+0j)\n",
      "Attempted iterations  501\n"
     ]
    }
   ],
   "source": [
    "xi_opt = terminator(1000)"
   ]
  },
  {
   "cell_type": "code",
   "execution_count": 421,
   "metadata": {
    "ExecuteTime": {
     "end_time": "2019-02-23T06:32:10.484167Z",
     "start_time": "2019-02-23T06:32:10.482224Z"
    }
   },
   "outputs": [],
   "source": [
    "time_steps=len(times)\n",
    "total_time= total_time_evo\n",
    "epsilon= 2*pi*1"
   ]
  },
  {
   "cell_type": "code",
   "execution_count": 422,
   "metadata": {
    "ExecuteTime": {
     "end_time": "2019-02-23T06:32:11.280658Z",
     "start_time": "2019-02-23T06:32:10.485323Z"
    }
   },
   "outputs": [
    {
     "data": {
      "text/plain": [
       "-4.219437945539331"
      ]
     },
     "execution_count": 422,
     "metadata": {},
     "output_type": "execute_result"
    }
   ],
   "source": [
    "dt = (2*pi)/500\n",
    "F(xi_opt, dt)"
   ]
  },
  {
   "cell_type": "code",
   "execution_count": 423,
   "metadata": {
    "ExecuteTime": {
     "end_time": "2019-02-23T06:32:11.939438Z",
     "start_time": "2019-02-23T06:32:11.282378Z"
    }
   },
   "outputs": [
    {
     "data": {
      "text/latex": [
       "Quantum object: dims = [[2, 2], [2, 2]], shape = (4, 4), type = oper, isherm = False\\begin{equation*}\\left(\\begin{array}{*{11}c}0.277 & (-0.146+8.831\\times10^{-06}j) & (-0.146-8.831\\times10^{-06}j) & 0.723\\\\(0.146-8.831\\times10^{-06}j) & (-0.081-7.050\\times10^{-06}j) & (-0.366+9.024\\times10^{-11}j) & (-0.146+8.831\\times10^{-06}j)\\\\(0.146+8.831\\times10^{-06}j) & (-0.366-9.024\\times10^{-11}j) & (-0.081+7.050\\times10^{-06}j) & (-0.146-8.831\\times10^{-06}j)\\\\0.723 & (0.146-8.831\\times10^{-06}j) & (0.146+8.831\\times10^{-06}j) & 0.277\\\\\\end{array}\\right)\\end{equation*}"
      ],
      "text/plain": [
       "Quantum object: dims = [[2, 2], [2, 2]], shape = (4, 4), type = oper, isherm = False\n",
       "Qobj data =\n",
       "[[ 0.27671832+0.00000000e+00j -0.14593778+8.83069368e-06j\n",
       "  -0.14593778-8.83069368e-06j  0.72328168+0.00000000e+00j]\n",
       " [ 0.14593778-8.83063972e-06j -0.0809762 -7.05029512e-06j\n",
       "  -0.36558575+9.02398212e-11j -0.14593778+8.83063972e-06j]\n",
       " [ 0.14593778+8.83063972e-06j -0.36558575-9.02398240e-11j\n",
       "  -0.0809762 +7.05029512e-06j -0.14593778-8.83063972e-06j]\n",
       " [ 0.72328168+0.00000000e+00j  0.14593778-8.83069368e-06j\n",
       "   0.14593778+8.83069368e-06j  0.27671832+0.00000000e+00j]]"
      ]
     },
     "execution_count": 423,
     "metadata": {},
     "output_type": "execute_result"
    }
   ],
   "source": [
    "L_full_maker(xi_opt, dt)"
   ]
  },
  {
   "cell_type": "code",
   "execution_count": 424,
   "metadata": {
    "ExecuteTime": {
     "end_time": "2019-02-23T06:32:12.062607Z",
     "start_time": "2019-02-23T06:32:11.940626Z"
    }
   },
   "outputs": [
    {
     "name": "stderr",
     "output_type": "stream",
     "text": [
      "/home/tejas/anaconda3/envs/qutip-env/lib/python3.6/site-packages/numpy/core/numeric.py:501: ComplexWarning: Casting complex values to real discards the imaginary part\n",
      "  return array(a, dtype, copy=False, order=order)\n",
      "/home/tejas/anaconda3/envs/qutip-env/lib/python3.6/site-packages/matplotlib/transforms.py:968: ComplexWarning: Casting complex values to real discards the imaginary part\n",
      "  self._points[:, 1] = interval\n"
     ]
    },
    {
     "data": {
      "image/png": "[encoded data removed]",
      "text/plain": [
       "<Figure size 432x288 with 1 Axes>"
      ]
     },
     "metadata": {},
     "output_type": "display_data"
    }
   ],
   "source": [
    "ax = axes()\n",
    "ax.plot(times, xi_opt)\n",
    "xi_max = amax(xi_opt) + 0.1\n",
    "xi_min = amin(xi_opt) - 0.1\n",
    "\n",
    "ax.set(xlim=(0, total_time_evo), ylim=(xi_min, xi_max),\n",
    "       xlabel='time', ylabel= r'$g_{with diss}$',\n",
    "       title='Control field in the presence of dissipation');"
   ]
  },
  {
   "cell_type": "code",
   "execution_count": 425,
   "metadata": {
    "ExecuteTime": {
     "end_time": "2019-02-23T06:32:20.898480Z",
     "start_time": "2019-02-23T06:32:12.064434Z"
    }
   },
   "outputs": [
    {
     "name": "stdout",
     "output_type": "stream",
     "text": [
      "grape_no_diss\n",
      "10.0%. Run time:   0.03s. Est. time left: 00:00:00:00\n",
      "20.0%. Run time:   0.05s. Est. time left: 00:00:00:00\n",
      "30.0%. Run time:   0.08s. Est. time left: 00:00:00:00\n",
      "40.0%. Run time:   0.10s. Est. time left: 00:00:00:00\n",
      "50.0%. Run time:   0.13s. Est. time left: 00:00:00:00\n",
      "60.0%. Run time:   0.15s. Est. time left: 00:00:00:00\n",
      "70.0%. Run time:   0.17s. Est. time left: 00:00:00:00\n",
      "80.0%. Run time:   0.20s. Est. time left: 00:00:00:00\n",
      "90.0%. Run time:   0.22s. Est. time left: 00:00:00:00\n",
      "Total run time:   0.25s\n",
      "\n",
      "grape_diss\n",
      "10.0%. Run time:   0.02s. Est. time left: 00:00:00:00\n",
      "20.0%. Run time:   0.04s. Est. time left: 00:00:00:00\n",
      "30.0%. Run time:   0.05s. Est. time left: 00:00:00:00\n",
      "40.0%. Run time:   0.06s. Est. time left: 00:00:00:00\n",
      "50.0%. Run time:   0.07s. Est. time left: 00:00:00:00\n",
      "60.0%. Run time:   0.08s. Est. time left: 00:00:00:00\n",
      "70.0%. Run time:   0.09s. Est. time left: 00:00:00:00\n",
      "80.0%. Run time:   0.10s. Est. time left: 00:00:00:00\n",
      "90.0%. Run time:   0.11s. Est. time left: 00:00:00:00\n",
      "Total run time:   0.12s\n",
      "\n",
      "grape_diss_optimized\n"
     ]
    },
    {
     "name": "stderr",
     "output_type": "stream",
     "text": [
      "/home/tejas/anaconda3/envs/qutip-env/lib/python3.6/site-packages/scipy/integrate/_ode.py:1009: UserWarning: zvode: Excess work done on this call. (Perhaps wrong MF.)\n",
      "  self.messages.get(istate, unexpected_istate_msg)))\n"
     ]
    },
    {
     "ename": "Exception",
     "evalue": "ODE integration error: Try to increase the allowed number of substeps by increasing the nsteps parameter in the Options class.",
     "output_type": "error",
     "traceback": [
      "\u001b[0;31m---------------------------------------------------------------------------\u001b[0m",
      "\u001b[0;31mException\u001b[0m                                 Traceback (most recent call last)",
      "\u001b[0;32m<ipython-input-425-348f8135093b>\u001b[0m in \u001b[0;36m<module>\u001b[0;34m()\u001b[0m\n\u001b[0;32m----> 1\u001b[0;31m \u001b[0mlist_of_infid_vec\u001b[0m \u001b[0;34m=\u001b[0m \u001b[0mcF2p\u001b[0m\u001b[0;34m(\u001b[0m\u001b[0mresult\u001b[0m\u001b[0;34m.\u001b[0m\u001b[0mu\u001b[0m\u001b[0;34m[\u001b[0m\u001b[0;34m-\u001b[0m\u001b[0;36m1\u001b[0m\u001b[0;34m,\u001b[0m \u001b[0;36m0\u001b[0m\u001b[0;34m,\u001b[0m \u001b[0;34m:\u001b[0m\u001b[0;34m]\u001b[0m\u001b[0;34m,\u001b[0m \u001b[0mxi_opt\u001b[0m\u001b[0;34m)\u001b[0m\u001b[0;34m\u001b[0m\u001b[0;34m\u001b[0m\u001b[0m\n\u001b[0m",
      "\u001b[0;32m<ipython-input-398-1ed178d66b7f>\u001b[0m in \u001b[0;36mcF2p\u001b[0;34m(Q_G, tejas_c)\u001b[0m\n\u001b[1;32m     45\u001b[0m                                    \u001b[0mc_ops\u001b[0m\u001b[0;34m=\u001b[0m\u001b[0;34m[\u001b[0m\u001b[0mc_ops_tejas\u001b[0m\u001b[0;34m]\u001b[0m\u001b[0;34m,\u001b[0m \u001b[0me_ops\u001b[0m\u001b[0;34m=\u001b[0m\u001b[0;34m[\u001b[0m\u001b[0;34m]\u001b[0m\u001b[0;34m,\u001b[0m\u001b[0;34m\u001b[0m\u001b[0;34m\u001b[0m\u001b[0m\n\u001b[1;32m     46\u001b[0m                                    \u001b[0margs\u001b[0m\u001b[0;34m=\u001b[0m\u001b[0;34m{\u001b[0m\u001b[0;34m}\u001b[0m\u001b[0;34m,\u001b[0m \u001b[0moptions\u001b[0m\u001b[0;34m=\u001b[0m\u001b[0;32mNone\u001b[0m\u001b[0;34m,\u001b[0m\u001b[0;34m\u001b[0m\u001b[0;34m\u001b[0m\u001b[0m\n\u001b[0;32m---> 47\u001b[0;31m                                    progress_bar=TextProgressBar() )\n\u001b[0m\u001b[1;32m     48\u001b[0m     \u001b[0;31m# H_diss_optimized should have been written isntead of H_no_diss\u001b[0m\u001b[0;34m\u001b[0m\u001b[0;34m\u001b[0m\u001b[0;34m\u001b[0m\u001b[0m\n\u001b[1;32m     49\u001b[0m     \u001b[0mprint\u001b[0m\u001b[0;34m(\u001b[0m\u001b[0;34m\"\"\u001b[0m\u001b[0;34m)\u001b[0m\u001b[0;34m\u001b[0m\u001b[0;34m\u001b[0m\u001b[0m\n",
      "\u001b[0;32m~/anaconda3/envs/qutip-env/lib/python3.6/site-packages/qutip/mesolve.py\u001b[0m in \u001b[0;36mmesolve\u001b[0;34m(H, rho0, tlist, c_ops, e_ops, args, options, progress_bar, _safe_mode)\u001b[0m\n\u001b[1;32m    319\u001b[0m                 res = _mesolve_list_str_td(H, rho0, tlist, c_ops,\n\u001b[1;32m    320\u001b[0m                                            \u001b[0me_ops\u001b[0m\u001b[0;34m,\u001b[0m \u001b[0margs\u001b[0m\u001b[0;34m,\u001b[0m \u001b[0moptions\u001b[0m\u001b[0;34m,\u001b[0m\u001b[0;34m\u001b[0m\u001b[0;34m\u001b[0m\u001b[0m\n\u001b[0;32m--> 321\u001b[0;31m                                            progress_bar)\n\u001b[0m\u001b[1;32m    322\u001b[0m \u001b[0;34m\u001b[0m\u001b[0m\n\u001b[1;32m    323\u001b[0m         \u001b[0;32melse\u001b[0m\u001b[0;34m:\u001b[0m\u001b[0;34m\u001b[0m\u001b[0;34m\u001b[0m\u001b[0m\n",
      "\u001b[0;32m~/anaconda3/envs/qutip-env/lib/python3.6/site-packages/qutip/mesolve.py\u001b[0m in \u001b[0;36m_mesolve_list_str_td\u001b[0;34m(H_list, rho0, tlist, c_list, e_ops, args, opt, progress_bar)\u001b[0m\n\u001b[1;32m    759\u001b[0m     \u001b[0;31m# call generic ODE code\u001b[0m\u001b[0;34m\u001b[0m\u001b[0;34m\u001b[0m\u001b[0;34m\u001b[0m\u001b[0m\n\u001b[1;32m    760\u001b[0m     \u001b[0;31m#\u001b[0m\u001b[0;34m\u001b[0m\u001b[0;34m\u001b[0m\u001b[0;34m\u001b[0m\u001b[0m\n\u001b[0;32m--> 761\u001b[0;31m     \u001b[0;32mreturn\u001b[0m \u001b[0m_generic_ode_solve\u001b[0m\u001b[0;34m(\u001b[0m\u001b[0mr\u001b[0m\u001b[0;34m,\u001b[0m \u001b[0mrho0\u001b[0m\u001b[0;34m,\u001b[0m \u001b[0mtlist\u001b[0m\u001b[0;34m,\u001b[0m \u001b[0me_ops\u001b[0m\u001b[0;34m,\u001b[0m \u001b[0mopt\u001b[0m\u001b[0;34m,\u001b[0m \u001b[0mprogress_bar\u001b[0m\u001b[0;34m)\u001b[0m\u001b[0;34m\u001b[0m\u001b[0;34m\u001b[0m\u001b[0m\n\u001b[0m\u001b[1;32m    762\u001b[0m \u001b[0;34m\u001b[0m\u001b[0m\n\u001b[1;32m    763\u001b[0m \u001b[0;32mdef\u001b[0m \u001b[0m_td_ode_rhs_super\u001b[0m\u001b[0;34m(\u001b[0m\u001b[0mt\u001b[0m\u001b[0;34m,\u001b[0m \u001b[0my\u001b[0m\u001b[0;34m,\u001b[0m \u001b[0marglist\u001b[0m\u001b[0;34m)\u001b[0m\u001b[0;34m:\u001b[0m\u001b[0;34m\u001b[0m\u001b[0;34m\u001b[0m\u001b[0m\n",
      "\u001b[0;32m~/anaconda3/envs/qutip-env/lib/python3.6/site-packages/qutip/mesolve.py\u001b[0m in \u001b[0;36m_generic_ode_solve\u001b[0;34m(r, rho0, tlist, e_ops, opt, progress_bar)\u001b[0m\n\u001b[1;32m   1041\u001b[0m \u001b[0;34m\u001b[0m\u001b[0m\n\u001b[1;32m   1042\u001b[0m         \u001b[0;32mif\u001b[0m \u001b[0;32mnot\u001b[0m \u001b[0mr\u001b[0m\u001b[0;34m.\u001b[0m\u001b[0msuccessful\u001b[0m\u001b[0;34m(\u001b[0m\u001b[0;34m)\u001b[0m\u001b[0;34m:\u001b[0m\u001b[0;34m\u001b[0m\u001b[0;34m\u001b[0m\u001b[0m\n\u001b[0;32m-> 1043\u001b[0;31m             raise Exception(\"ODE integration error: Try to increase \"\n\u001b[0m\u001b[1;32m   1044\u001b[0m                             \u001b[0;34m\"the allowed number of substeps by increasing \"\u001b[0m\u001b[0;34m\u001b[0m\u001b[0;34m\u001b[0m\u001b[0m\n\u001b[1;32m   1045\u001b[0m                             \"the nsteps parameter in the Options class.\")\n",
      "\u001b[0;31mException\u001b[0m: ODE integration error: Try to increase the allowed number of substeps by increasing the nsteps parameter in the Options class."
     ]
    }
   ],
   "source": [
    "list_of_infid_vec = cF2p(result.u[-1, 0, :], xi_opt)                                                    "
   ]
  },
  {
   "cell_type": "code",
   "execution_count": null,
   "metadata": {
    "ExecuteTime": {
     "end_time": "2019-02-23T06:32:20.899519Z",
     "start_time": "2019-02-21T10:13:24.470Z"
    },
    "code_folding": []
   },
   "outputs": [],
   "source": [
    "ax = axes()\n",
    "ax.plot(times, list_of_infid_vec[0], label='grape_no_diss')\n",
    "ax.plot(times, list_of_infid_vec[1], label='grape_diss')\n",
    "ax.plot(times, list_of_infid_vec[2], label='grape_diss_optimized')\n",
    "#ax.plot(x, cos(x), ':b', label='cos(x)')'-g',\n",
    "#ax.axis('equal')\n",
    "ax.legend()\n",
    "ax.set(xlim=(times[0],times[-1]), ylim=(0, 1.1),\n",
    "       xlabel='time', ylabel='Infidelity',\n",
    "       title='Infidelity as a function of time ');"
   ]
  },
  {
   "cell_type": "markdown",
   "metadata": {},
   "source": [
    "### try"
   ]
  },
  {
   "cell_type": "code",
   "execution_count": null,
   "metadata": {
    "ExecuteTime": {
     "end_time": "2019-02-23T06:32:20.900590Z",
     "start_time": "2019-02-21T10:13:24.761Z"
    }
   },
   "outputs": [],
   "source": [
    "xi_opt = terminator(1000,time_steps=len(times), total_time= total_time_evo,\n",
    "               epsilon= ((0.1*2*pi)/(times[-1])))"
   ]
  },
  {
   "cell_type": "code",
   "execution_count": null,
   "metadata": {
    "ExecuteTime": {
     "end_time": "2019-02-23T06:32:20.901553Z",
     "start_time": "2019-02-21T10:13:24.765Z"
    }
   },
   "outputs": [],
   "source": [
    "time_steps=len(times)\n",
    "total_time= total_time_evo\n",
    "epsilon = ((0.1*2*pi)/(times[-1]))"
   ]
  },
  {
   "cell_type": "code",
   "execution_count": null,
   "metadata": {
    "ExecuteTime": {
     "end_time": "2019-02-23T06:32:20.902511Z",
     "start_time": "2019-02-21T10:13:24.770Z"
    }
   },
   "outputs": [],
   "source": [
    "dt = (2*pi)/500\n",
    "F(xi_opt, dt)"
   ]
  },
  {
   "cell_type": "code",
   "execution_count": null,
   "metadata": {
    "ExecuteTime": {
     "end_time": "2019-02-23T06:32:20.903175Z",
     "start_time": "2019-02-21T10:13:24.773Z"
    }
   },
   "outputs": [],
   "source": [
    "L_full_maker(xi_opt, dt)"
   ]
  },
  {
   "cell_type": "code",
   "execution_count": null,
   "metadata": {
    "ExecuteTime": {
     "end_time": "2019-02-23T06:32:20.903835Z",
     "start_time": "2019-02-21T10:13:24.778Z"
    }
   },
   "outputs": [],
   "source": [
    "ax = axes()\n",
    "ax.plot(times, xi_opt)\n",
    "xi_max = amax(xi_opt) + 0.1\n",
    "xi_min = amin(xi_opt) - 0.1\n",
    "\n",
    "ax.set(xlim=(0, total_time_evo), ylim=(xi_min, xi_max),\n",
    "       xlabel='time', ylabel= r'$g_{with diss}$',\n",
    "       title='Control field in the presence of dissipation');"
   ]
  },
  {
   "cell_type": "code",
   "execution_count": null,
   "metadata": {
    "ExecuteTime": {
     "end_time": "2019-02-23T06:32:20.904414Z",
     "start_time": "2019-02-21T10:13:24.782Z"
    }
   },
   "outputs": [],
   "source": [
    "list_of_infid_vec = cF2p(result.u[-1, 0, :], xi_opt)                                                    "
   ]
  },
  {
   "cell_type": "code",
   "execution_count": null,
   "metadata": {
    "ExecuteTime": {
     "end_time": "2019-02-23T06:32:20.905132Z",
     "start_time": "2019-02-21T10:13:24.786Z"
    },
    "code_folding": []
   },
   "outputs": [],
   "source": [
    "ax = axes()\n",
    "ax.plot(times, list_of_infid_vec[0], label='grape_no_diss')\n",
    "ax.plot(times, list_of_infid_vec[1], label='grape_diss')\n",
    "ax.plot(times, list_of_infid_vec[2], label='grape_diss_optimized')\n",
    "#ax.plot(x, cos(x), ':b', label='cos(x)')'-g',\n",
    "#ax.axis('equal')\n",
    "ax.legend()\n",
    "ax.set(xlim=(times[0],times[-1]), ylim=(0, 1.1),\n",
    "       xlabel='time', ylabel='Infidelity',\n",
    "       title='Infidelity as a function of time ');"
   ]
  },
  {
   "cell_type": "markdown",
   "metadata": {},
   "source": [
    "### try"
   ]
  },
  {
   "cell_type": "code",
   "execution_count": null,
   "metadata": {
    "ExecuteTime": {
     "end_time": "2019-02-23T06:32:20.905789Z",
     "start_time": "2019-02-21T10:13:25.156Z"
    }
   },
   "outputs": [],
   "source": [
    "xi_opt = terminator(10,time_steps=len(times), total_time= total_time_evo,\n",
    "               epsilon= ((0.1*2*pi)/(times[-1])))"
   ]
  },
  {
   "cell_type": "code",
   "execution_count": null,
   "metadata": {
    "ExecuteTime": {
     "end_time": "2019-02-23T06:32:20.906510Z",
     "start_time": "2019-02-21T10:13:25.161Z"
    }
   },
   "outputs": [],
   "source": [
    "time_steps=len(times)\n",
    "total_time= total_time_evo\n",
    "epsilon = ((0.1*2*pi)/(times[-1]))"
   ]
  },
  {
   "cell_type": "code",
   "execution_count": null,
   "metadata": {
    "ExecuteTime": {
     "end_time": "2019-02-23T06:32:20.907268Z",
     "start_time": "2019-02-21T10:13:25.166Z"
    }
   },
   "outputs": [],
   "source": [
    "dt = (2*pi)/500\n",
    "F(xi_opt, dt)"
   ]
  },
  {
   "cell_type": "code",
   "execution_count": null,
   "metadata": {
    "ExecuteTime": {
     "end_time": "2019-02-23T06:32:20.907956Z",
     "start_time": "2019-02-21T10:13:25.170Z"
    }
   },
   "outputs": [],
   "source": [
    "L_full_maker(xi_opt, dt)"
   ]
  },
  {
   "cell_type": "code",
   "execution_count": null,
   "metadata": {
    "ExecuteTime": {
     "end_time": "2019-02-23T06:32:20.908555Z",
     "start_time": "2019-02-21T10:13:25.175Z"
    }
   },
   "outputs": [],
   "source": [
    "ax = axes()\n",
    "ax.plot(times, xi_opt)\n",
    "xi_max = amax(xi_opt) + 0.1\n",
    "xi_min = amin(xi_opt) - 0.1\n",
    "\n",
    "ax.set(xlim=(0, total_time_evo), ylim=(xi_min, xi_max),\n",
    "       xlabel='time', ylabel= r'$g_{with diss}$',\n",
    "       title='Control field in the presence of dissipation');"
   ]
  },
  {
   "cell_type": "code",
   "execution_count": null,
   "metadata": {
    "ExecuteTime": {
     "end_time": "2019-02-23T06:32:20.909272Z",
     "start_time": "2019-02-21T10:13:25.179Z"
    }
   },
   "outputs": [],
   "source": [
    "list_of_infid_vec = cF2p(result.u[-1, 0, :], xi_opt)                                                    "
   ]
  },
  {
   "cell_type": "code",
   "execution_count": null,
   "metadata": {
    "ExecuteTime": {
     "end_time": "2019-02-23T06:32:20.909894Z",
     "start_time": "2019-02-21T10:13:25.184Z"
    },
    "code_folding": []
   },
   "outputs": [],
   "source": [
    "ax = axes()\n",
    "ax.plot(times, list_of_infid_vec[0], label='grape_no_diss')\n",
    "ax.plot(times, list_of_infid_vec[1], label='grape_diss')\n",
    "ax.plot(times, list_of_infid_vec[2], label='grape_diss_optimized')\n",
    "#ax.plot(x, cos(x), ':b', label='cos(x)')'-g',\n",
    "#ax.axis('equal')\n",
    "ax.legend()\n",
    "ax.set(xlim=(times[0],times[-1]), ylim=(0, 1.1),\n",
    "       xlabel='time', ylabel='Infidelity',\n",
    "       title='Infidelity as a function of time ');"
   ]
  },
  {
   "cell_type": "markdown",
   "metadata": {},
   "source": [
    "### try"
   ]
  },
  {
   "cell_type": "code",
   "execution_count": null,
   "metadata": {
    "ExecuteTime": {
     "end_time": "2019-02-23T06:32:20.910421Z",
     "start_time": "2019-02-21T10:13:25.537Z"
    }
   },
   "outputs": [],
   "source": [
    "xi_opt = terminator(1000,time_steps=len(times), total_time= total_time_evo,\n",
    "               epsilon= ((0.1*2*pi)/(10**3)))"
   ]
  },
  {
   "cell_type": "code",
   "execution_count": null,
   "metadata": {
    "ExecuteTime": {
     "end_time": "2019-02-23T06:32:20.911111Z",
     "start_time": "2019-02-21T10:13:25.542Z"
    }
   },
   "outputs": [],
   "source": [
    "time_steps=len(times)\n",
    "total_time= total_time_evo\n",
    "epsilon = ((0.1*2*pi)/(times[-1]))"
   ]
  },
  {
   "cell_type": "code",
   "execution_count": null,
   "metadata": {
    "ExecuteTime": {
     "end_time": "2019-02-23T06:32:20.911653Z",
     "start_time": "2019-02-21T10:13:25.546Z"
    }
   },
   "outputs": [],
   "source": [
    "dt = (2*pi)/500\n",
    "F(xi_opt, dt)"
   ]
  },
  {
   "cell_type": "code",
   "execution_count": null,
   "metadata": {
    "ExecuteTime": {
     "end_time": "2019-02-23T06:32:20.912288Z",
     "start_time": "2019-02-21T10:13:25.549Z"
    }
   },
   "outputs": [],
   "source": [
    "F(result.u[-1, 0, : ], dt)"
   ]
  },
  {
   "cell_type": "code",
   "execution_count": null,
   "metadata": {
    "ExecuteTime": {
     "end_time": "2019-02-23T06:32:20.912894Z",
     "start_time": "2019-02-21T10:13:25.554Z"
    }
   },
   "outputs": [],
   "source": [
    "L_full_maker(xi_opt, dt)"
   ]
  },
  {
   "cell_type": "code",
   "execution_count": null,
   "metadata": {
    "ExecuteTime": {
     "end_time": "2019-02-23T06:32:20.913655Z",
     "start_time": "2019-02-21T10:13:25.559Z"
    }
   },
   "outputs": [],
   "source": [
    "len(times)"
   ]
  },
  {
   "cell_type": "code",
   "execution_count": null,
   "metadata": {
    "ExecuteTime": {
     "end_time": "2019-02-23T06:32:20.914265Z",
     "start_time": "2019-02-21T10:13:25.562Z"
    }
   },
   "outputs": [],
   "source": [
    "new_label = [r'$g_{with diss}$']"
   ]
  },
  {
   "cell_type": "markdown",
   "metadata": {
    "ExecuteTime": {
     "end_time": "2019-02-14T15:50:39.160854Z",
     "start_time": "2019-02-14T15:50:39.155605Z"
    }
   },
   "source": [
    "'''plot_grape_control_fields(times,\n",
    "                          xi_opt / (2 * np.pi), new_label, uniform_axes=True);\n",
    "ValueError                                Traceback (most recent call last)\n",
    "<ipython-input-67-f3ebb7c23258> in <module>()\n",
    "      1 plot_grape_control_fields(times,\n",
    "----> 2                           xi_opt / (2 * np.pi), new_label, uniform_axes=True);\n",
    "\n",
    "/anaconda3/envs/qutip-env/lib/python3.6/site-packages/qutip/control/grape.py in plot_grape_control_fields(times, u, labels, uniform_axes)\n",
    "    101     import matplotlib.pyplot as plt\n",
    "    102 \n",
    "--> 103     R, J, M = u.shape\n",
    "    104 \n",
    "    105     fig, axes = plt.subplots(J, 1, figsize=(8, 2 * J), squeeze=False)\n",
    "\n",
    "ValueError: not enough values to unpack (expected 3, got 1) '''"
   ]
  },
  {
   "cell_type": "code",
   "execution_count": null,
   "metadata": {
    "ExecuteTime": {
     "end_time": "2019-02-23T06:32:20.914919Z",
     "start_time": "2019-02-21T10:13:25.922Z"
    }
   },
   "outputs": [],
   "source": [
    "ax = axes()\n",
    "ax.plot(times, xi_opt)\n",
    "ax.set(xlim=(0, total_time_evo), ylim=(-0.8,0.8 ),\n",
    "       xlabel='time', ylabel= r'$g_{with diss}$',\n",
    "       title='Control field in the presence of dissipation');"
   ]
  },
  {
   "cell_type": "code",
   "execution_count": null,
   "metadata": {
    "ExecuteTime": {
     "end_time": "2019-02-23T06:32:20.915600Z",
     "start_time": "2019-02-21T10:13:25.927Z"
    }
   },
   "outputs": [],
   "source": [
    "list_of_infid_vec = cF2p(result.u[-1, 0, :], xi_opt)                                                    "
   ]
  },
  {
   "cell_type": "code",
   "execution_count": null,
   "metadata": {
    "ExecuteTime": {
     "end_time": "2019-02-23T06:32:20.916181Z",
     "start_time": "2019-02-21T10:13:25.930Z"
    },
    "code_folding": []
   },
   "outputs": [],
   "source": [
    "ax = axes()\n",
    "ax.plot(times, list_of_infid_vec[0], label='grape_no_diss')\n",
    "ax.plot(times, list_of_infid_vec[1], label='grape_diss')\n",
    "ax.plot(times, list_of_infid_vec[2], label='grape_diss_optimized')\n",
    "#ax.plot(x, cos(x), ':b', label='cos(x)')'-g',\n",
    "#ax.axis('equal')\n",
    "ax.legend()\n",
    "ax.set(xlim=(times[0],times[-1]), ylim=(0, 1.1),\n",
    "       xlabel='time', ylabel='Infidelity',\n",
    "       title='Infidelity as a function of time ');"
   ]
  },
  {
   "cell_type": "code",
   "execution_count": null,
   "metadata": {
    "ExecuteTime": {
     "end_time": "2019-02-23T06:32:20.916727Z",
     "start_time": "2019-02-21T10:13:25.935Z"
    }
   },
   "outputs": [],
   "source": [
    "ax = axes()\n",
    "ax.plot(times, xi_opt)\n",
    "xi_max = amax(xi_opt) + 0.1\n",
    "xi_min = amin(xi_opt) - 0.1\n",
    "\n",
    "ax.set(xlim=(0, total_time_evo), ylim=(xi_min, xi_max),\n",
    "       xlabel='time', ylabel= r'$g_{with diss}$',\n",
    "       title='Control field in the presence of dissipation');"
   ]
  },
  {
   "cell_type": "code",
   "execution_count": null,
   "metadata": {
    "ExecuteTime": {
     "end_time": "2019-02-23T06:32:20.917448Z",
     "start_time": "2019-02-21T10:13:25.940Z"
    }
   },
   "outputs": [],
   "source": [
    "ax = axes()\n",
    "ax.plot(times, result.u[-1, 0, : ])\n",
    "xi_max = amax(result.u[-1, 0, : ]) + 0.1\n",
    "xi_min = amin(result.u[-1, 0, : ]) - 0.1\n",
    "\n",
    "ax.set(xlim=(0, total_time_evo), ylim=(xi_min, xi_max),\n",
    "       xlabel='time', ylabel= r'$g_{with diss}$',\n",
    "       title='old Control field in the presence of \\\n",
    "              dissipation produced by qutip');"
   ]
  },
  {
   "cell_type": "markdown",
   "metadata": {},
   "source": [
    "### try"
   ]
  },
  {
   "cell_type": "code",
   "execution_count": null,
   "metadata": {
    "ExecuteTime": {
     "end_time": "2019-02-23T06:32:20.918216Z",
     "start_time": "2019-02-21T10:13:26.386Z"
    }
   },
   "outputs": [],
   "source": [
    "\n",
    "xi_opt = terminator(1000,time_steps=len(times), total_time= total_time_evo,\n",
    "               epsilon= ((0.1*2*pi)/(10**4)))"
   ]
  },
  {
   "cell_type": "code",
   "execution_count": null,
   "metadata": {
    "ExecuteTime": {
     "end_time": "2019-02-23T06:32:20.918945Z",
     "start_time": "2019-02-21T10:13:26.393Z"
    }
   },
   "outputs": [],
   "source": [
    "dt = (2*pi)/500\n",
    "F(xi_opt, dt)"
   ]
  },
  {
   "cell_type": "code",
   "execution_count": null,
   "metadata": {
    "ExecuteTime": {
     "end_time": "2019-02-23T06:32:20.919970Z",
     "start_time": "2019-02-21T10:13:26.401Z"
    }
   },
   "outputs": [],
   "source": [
    "L_full_maker(xi_opt, dt)"
   ]
  },
  {
   "cell_type": "code",
   "execution_count": null,
   "metadata": {
    "ExecuteTime": {
     "end_time": "2019-02-23T06:32:20.921005Z",
     "start_time": "2019-02-21T10:13:26.407Z"
    }
   },
   "outputs": [],
   "source": [
    "ax = axes()\n",
    "ax.plot(times, xi_opt)\n",
    "xi_max = amax(xi_opt) + 0.1\n",
    "xi_min = amin(xi_opt) - 0.1\n",
    "\n",
    "ax.set(xlim=(0, total_time_evo), ylim=(xi_min, xi_max),\n",
    "       xlabel='time', ylabel= r'$g_{with diss}$',\n",
    "       title='Control field in the presence of dissipation');"
   ]
  },
  {
   "cell_type": "code",
   "execution_count": null,
   "metadata": {
    "ExecuteTime": {
     "end_time": "2019-02-23T06:32:20.921836Z",
     "start_time": "2019-02-21T10:13:26.412Z"
    }
   },
   "outputs": [],
   "source": [
    "list_of_infid_vec = cF2p(result.u[-1, 0, :], xi_opt)                                                    "
   ]
  },
  {
   "cell_type": "code",
   "execution_count": null,
   "metadata": {
    "ExecuteTime": {
     "end_time": "2019-02-23T06:32:20.922617Z",
     "start_time": "2019-02-21T10:13:26.417Z"
    },
    "code_folding": []
   },
   "outputs": [],
   "source": [
    "ax = axes()\n",
    "ax.plot(times, list_of_infid_vec[0], label='grape_no_diss')\n",
    "ax.plot(times, list_of_infid_vec[1], label='grape_diss')\n",
    "ax.plot(times, list_of_infid_vec[2], label='grape_diss_optimized')\n",
    "#ax.plot(x, cos(x), ':b', label='cos(x)')'-g',\n",
    "#ax.axis('equal')\n",
    "ax.legend()\n",
    "ax.set(xlim=(times[0],times[-1]), ylim=(0, 1.1),\n",
    "       xlabel='time', ylabel='Infidelity',\n",
    "       title='Infidelity as a function of time ');"
   ]
  },
  {
   "cell_type": "markdown",
   "metadata": {},
   "source": [
    "### try"
   ]
  },
  {
   "cell_type": "code",
   "execution_count": null,
   "metadata": {
    "ExecuteTime": {
     "end_time": "2019-02-23T06:32:20.923583Z",
     "start_time": "2019-02-21T10:13:26.829Z"
    }
   },
   "outputs": [],
   "source": [
    "xi_opt = terminator(10**4,time_steps=len(times), total_time= total_time_evo,\n",
    "               epsilon= ((0.1*2*pi)/(10**3)))"
   ]
  },
  {
   "cell_type": "code",
   "execution_count": null,
   "metadata": {
    "ExecuteTime": {
     "end_time": "2019-02-23T06:32:20.924449Z",
     "start_time": "2019-02-21T10:13:26.835Z"
    }
   },
   "outputs": [],
   "source": [
    "dt = (2*pi)/500\n",
    "F(xi_opt, dt)"
   ]
  },
  {
   "cell_type": "code",
   "execution_count": null,
   "metadata": {
    "ExecuteTime": {
     "end_time": "2019-02-23T06:32:20.925317Z",
     "start_time": "2019-02-21T10:13:26.841Z"
    }
   },
   "outputs": [],
   "source": [
    "L_full_maker(xi_opt, dt)"
   ]
  },
  {
   "cell_type": "code",
   "execution_count": null,
   "metadata": {
    "ExecuteTime": {
     "end_time": "2019-02-23T06:32:20.926252Z",
     "start_time": "2019-02-21T10:13:26.846Z"
    }
   },
   "outputs": [],
   "source": [
    "ax = axes()\n",
    "ax.plot(times, xi_opt)\n",
    "xi_max = amax(xi_opt) + 0.1\n",
    "xi_min = amin(xi_opt) - 0.1\n",
    "\n",
    "ax.set(xlim=(0, total_time_evo), ylim=(xi_min, xi_max),\n",
    "       xlabel='time', ylabel= r'$g_{with diss}$',\n",
    "       title='Control field in the presence of dissipation');"
   ]
  },
  {
   "cell_type": "code",
   "execution_count": null,
   "metadata": {
    "ExecuteTime": {
     "end_time": "2019-02-23T06:32:20.927111Z",
     "start_time": "2019-02-21T10:13:26.852Z"
    }
   },
   "outputs": [],
   "source": [
    "list_of_infid_vec = cF2p(result.u[-1, 0, :], xi_opt)                                                    "
   ]
  },
  {
   "cell_type": "code",
   "execution_count": null,
   "metadata": {
    "ExecuteTime": {
     "end_time": "2019-02-23T06:32:20.928109Z",
     "start_time": "2019-02-21T10:13:26.858Z"
    },
    "code_folding": []
   },
   "outputs": [],
   "source": [
    "ax = axes()\n",
    "ax.plot(times, list_of_infid_vec[0], label='grape_no_diss')\n",
    "ax.plot(times, list_of_infid_vec[1], label='grape_diss')\n",
    "ax.plot(times, list_of_infid_vec[2], label='grape_diss_optimized')\n",
    "#ax.plot(x, cos(x), ':b', label='cos(x)')'-g',\n",
    "#ax.axis('equal')\n",
    "ax.legend()\n",
    "ax.set(xlim=(times[0],times[-1]), ylim=(0, 1.1),\n",
    "       xlabel='time', ylabel='Infidelity',\n",
    "       title='Infidelity as a function of time ');"
   ]
  },
  {
   "cell_type": "markdown",
   "metadata": {},
   "source": [
    "### try"
   ]
  },
  {
   "cell_type": "code",
   "execution_count": null,
   "metadata": {
    "ExecuteTime": {
     "end_time": "2019-02-23T06:32:20.929047Z",
     "start_time": "2019-02-21T10:13:27.322Z"
    }
   },
   "outputs": [],
   "source": [
    "xi_opt = terminator(10**4,time_steps=len(times), total_time= total_time_evo,\n",
    "               epsilon= ((0.1*2*pi)/(10**4)))"
   ]
  },
  {
   "cell_type": "code",
   "execution_count": null,
   "metadata": {
    "ExecuteTime": {
     "end_time": "2019-02-23T06:32:20.929945Z",
     "start_time": "2019-02-21T10:13:27.326Z"
    }
   },
   "outputs": [],
   "source": [
    "dt = (2*pi)/500\n",
    "F(xi_opt, dt)"
   ]
  },
  {
   "cell_type": "code",
   "execution_count": null,
   "metadata": {
    "ExecuteTime": {
     "end_time": "2019-02-23T06:32:20.930966Z",
     "start_time": "2019-02-21T10:13:27.330Z"
    }
   },
   "outputs": [],
   "source": [
    "L_full_maker(xi_opt, dt)"
   ]
  },
  {
   "cell_type": "code",
   "execution_count": null,
   "metadata": {
    "ExecuteTime": {
     "end_time": "2019-02-23T06:32:20.931857Z",
     "start_time": "2019-02-21T10:13:27.334Z"
    }
   },
   "outputs": [],
   "source": [
    "ax = axes()\n",
    "ax.plot(times, xi_opt)\n",
    "xi_max = amax(xi_opt) + 0.1\n",
    "xi_min = amin(xi_opt) - 0.1\n",
    "\n",
    "ax.set(xlim=(0, total_time_evo), ylim=(xi_min, xi_max),\n",
    "       xlabel='time', ylabel= r'$g_{with diss}$',\n",
    "       title='Control field in the presence of dissipation');"
   ]
  },
  {
   "cell_type": "code",
   "execution_count": null,
   "metadata": {
    "ExecuteTime": {
     "end_time": "2019-02-23T06:32:20.932865Z",
     "start_time": "2019-02-21T10:13:27.337Z"
    }
   },
   "outputs": [],
   "source": [
    "list_of_infid_vec = cF2p(result.u[-1, 0, :], xi_opt)                                                    "
   ]
  },
  {
   "cell_type": "code",
   "execution_count": null,
   "metadata": {
    "ExecuteTime": {
     "end_time": "2019-02-23T06:32:20.933736Z",
     "start_time": "2019-02-21T10:13:27.342Z"
    },
    "code_folding": []
   },
   "outputs": [],
   "source": [
    "ax = axes()\n",
    "ax.plot(times, list_of_infid_vec[0], label='grape_no_diss')\n",
    "ax.plot(times, list_of_infid_vec[1], label='grape_diss')\n",
    "ax.plot(times, list_of_infid_vec[2], label='grape_diss_optimized')\n",
    "#ax.plot(x, cos(x), ':b', label='cos(x)')'-g',\n",
    "#ax.axis('equal')\n",
    "ax.legend()\n",
    "ax.set(xlim=(times[0],times[-1]), ylim=(0, 1.1),\n",
    "       xlabel='time', ylabel='Infidelity',\n",
    "       title='Infidelity as a function of time ');"
   ]
  },
  {
   "cell_type": "markdown",
   "metadata": {},
   "source": [
    "### try"
   ]
  },
  {
   "cell_type": "code",
   "execution_count": null,
   "metadata": {
    "ExecuteTime": {
     "end_time": "2019-02-23T06:32:20.934698Z",
     "start_time": "2019-02-21T10:13:27.745Z"
    }
   },
   "outputs": [],
   "source": [
    "xi_opt = terminator(10**4,time_steps=len(times), total_time= total_time_evo,\n",
    "               epsilon= ((0.1*2*pi)/(10**10)))"
   ]
  },
  {
   "cell_type": "code",
   "execution_count": null,
   "metadata": {
    "ExecuteTime": {
     "end_time": "2019-02-23T06:32:20.935601Z",
     "start_time": "2019-02-21T10:13:27.749Z"
    }
   },
   "outputs": [],
   "source": [
    "dt = (2*pi)/500\n",
    "F(xi_opt, dt)"
   ]
  },
  {
   "cell_type": "code",
   "execution_count": null,
   "metadata": {
    "ExecuteTime": {
     "end_time": "2019-02-23T06:32:20.936603Z",
     "start_time": "2019-02-21T10:13:27.753Z"
    }
   },
   "outputs": [],
   "source": [
    "L_full_maker(xi_opt, dt)"
   ]
  },
  {
   "cell_type": "code",
   "execution_count": null,
   "metadata": {
    "ExecuteTime": {
     "end_time": "2019-02-23T06:32:20.937598Z",
     "start_time": "2019-02-21T10:13:27.758Z"
    }
   },
   "outputs": [],
   "source": [
    "ax = axes()\n",
    "ax.plot(times, xi_opt)\n",
    "xi_max = amax(xi_opt) + 0.1\n",
    "xi_min = amin(xi_opt) - 0.1\n",
    "\n",
    "ax.set(xlim=(0, total_time_evo), ylim=(xi_min, xi_max),\n",
    "       xlabel='time', ylabel= r'$g_{with diss}$',\n",
    "       title='Control field in the presence of dissipation');"
   ]
  },
  {
   "cell_type": "code",
   "execution_count": null,
   "metadata": {
    "ExecuteTime": {
     "end_time": "2019-02-23T06:32:20.938357Z",
     "start_time": "2019-02-21T10:13:27.762Z"
    }
   },
   "outputs": [],
   "source": [
    "list_of_infid_vec = cF2p(result.u[-1, 0, :], xi_opt)                                                    "
   ]
  },
  {
   "cell_type": "code",
   "execution_count": null,
   "metadata": {
    "ExecuteTime": {
     "end_time": "2019-02-23T06:32:20.939078Z",
     "start_time": "2019-02-21T10:13:27.766Z"
    },
    "code_folding": []
   },
   "outputs": [],
   "source": [
    "ax = axes()\n",
    "ax.plot(times, list_of_infid_vec[0], label='grape_no_diss')\n",
    "ax.plot(times, list_of_infid_vec[1], label='grape_diss')\n",
    "ax.plot(times, list_of_infid_vec[2], label='grape_diss_optimized')\n",
    "#ax.plot(x, cos(x), ':b', label='cos(x)')'-g',\n",
    "#ax.axis('equal')\n",
    "ax.legend()\n",
    "ax.set(xlim=(times[0],times[-1]), ylim=(0, 1.1),\n",
    "       xlabel='time', ylabel='Infidelity',\n",
    "       title='Infidelity as a function of time ');"
   ]
  },
  {
   "cell_type": "markdown",
   "metadata": {},
   "source": [
    "### try"
   ]
  },
  {
   "cell_type": "code",
   "execution_count": null,
   "metadata": {
    "ExecuteTime": {
     "end_time": "2019-02-23T06:32:20.939738Z",
     "start_time": "2019-02-21T10:13:28.196Z"
    }
   },
   "outputs": [],
   "source": [
    "xi_opt = terminator(10**4,time_steps=10**3, total_time= total_time_evo,\n",
    "               epsilon= ((0.1*2*pi)/(10**3)))"
   ]
  },
  {
   "cell_type": "code",
   "execution_count": null,
   "metadata": {
    "ExecuteTime": {
     "end_time": "2019-02-23T06:32:20.940472Z",
     "start_time": "2019-02-21T10:13:28.200Z"
    }
   },
   "outputs": [],
   "source": [
    "dt = (2*pi)/(10**3)#(2*pi)/500\n",
    "# probaly happened because of hard coding of dt inside terminator\n",
    "# must try it again after changing that\n",
    "F(xi_opt, dt)\n"
   ]
  },
  {
   "cell_type": "code",
   "execution_count": null,
   "metadata": {
    "ExecuteTime": {
     "end_time": "2019-02-23T06:32:20.941119Z",
     "start_time": "2019-02-21T10:13:28.205Z"
    }
   },
   "outputs": [],
   "source": [
    "L_full_maker(xi_opt, dt)"
   ]
  },
  {
   "cell_type": "code",
   "execution_count": null,
   "metadata": {
    "ExecuteTime": {
     "end_time": "2019-02-23T06:32:20.941738Z",
     "start_time": "2019-02-21T10:13:28.211Z"
    }
   },
   "outputs": [],
   "source": [
    "ax = axes()\n",
    "ax.plot(times, xi_opt)\n",
    "xi_max = amax(xi_opt) + 0.1\n",
    "xi_min = amin(xi_opt) - 0.1\n",
    "\n",
    "ax.set(xlim=(0, total_time_evo), ylim=(xi_min, xi_max),\n",
    "       xlabel='time', ylabel= r'$g_{with diss}$',\n",
    "       title='Control field in the presence of dissipation');"
   ]
  },
  {
   "cell_type": "code",
   "execution_count": null,
   "metadata": {
    "ExecuteTime": {
     "end_time": "2019-02-23T06:32:20.942390Z",
     "start_time": "2019-02-21T10:13:28.216Z"
    }
   },
   "outputs": [],
   "source": [
    "list_of_infid_vec = cF2p(result.u[-1, 0, :], xi_opt)                                                    "
   ]
  },
  {
   "cell_type": "code",
   "execution_count": null,
   "metadata": {
    "ExecuteTime": {
     "end_time": "2019-02-23T06:32:20.943046Z",
     "start_time": "2019-02-21T10:13:28.220Z"
    },
    "code_folding": []
   },
   "outputs": [],
   "source": [
    "ax = axes()\n",
    "ax.plot(times, list_of_infid_vec[0], label='grape_no_diss')\n",
    "ax.plot(times, list_of_infid_vec[1], label='grape_diss')\n",
    "ax.plot(times, list_of_infid_vec[2], label='grape_diss_optimized')\n",
    "#ax.plot(x, cos(x), ':b', label='cos(x)')'-g',\n",
    "#ax.axis('equal')\n",
    "ax.legend()\n",
    "ax.set(xlim=(times[0],times[-1]), ylim=(0, 1.1),\n",
    "       xlabel='time', ylabel='Infidelity',\n",
    "       title='Infidelity as a function of time ');"
   ]
  },
  {
   "cell_type": "markdown",
   "metadata": {},
   "source": [
    "### try"
   ]
  },
  {
   "cell_type": "code",
   "execution_count": null,
   "metadata": {
    "ExecuteTime": {
     "end_time": "2019-02-23T06:32:20.943761Z",
     "start_time": "2019-02-21T10:13:28.659Z"
    }
   },
   "outputs": [],
   "source": [
    "xi_opt = terminator(10,time_steps=len(times), total_time= total_time_evo,\n",
    "               epsilon= ((0.1*2*pi)/(10**3)))"
   ]
  },
  {
   "cell_type": "code",
   "execution_count": null,
   "metadata": {
    "ExecuteTime": {
     "end_time": "2019-02-23T06:32:20.944445Z",
     "start_time": "2019-02-21T10:13:28.662Z"
    }
   },
   "outputs": [],
   "source": [
    "dt = (2*pi)/500\n",
    "F(xi_opt, dt)"
   ]
  },
  {
   "cell_type": "code",
   "execution_count": null,
   "metadata": {
    "ExecuteTime": {
     "end_time": "2019-02-23T06:32:20.945053Z",
     "start_time": "2019-02-21T10:13:28.667Z"
    }
   },
   "outputs": [],
   "source": [
    "F(result.u[-1, 0, : ], dt)"
   ]
  },
  {
   "cell_type": "code",
   "execution_count": null,
   "metadata": {
    "ExecuteTime": {
     "end_time": "2019-02-23T06:32:20.945643Z",
     "start_time": "2019-02-21T10:13:28.674Z"
    }
   },
   "outputs": [],
   "source": [
    "L_full_maker(xi_opt, dt)"
   ]
  },
  {
   "cell_type": "code",
   "execution_count": null,
   "metadata": {
    "ExecuteTime": {
     "end_time": "2019-02-23T06:32:20.946314Z",
     "start_time": "2019-02-21T10:13:28.678Z"
    }
   },
   "outputs": [],
   "source": [
    "len(times)"
   ]
  },
  {
   "cell_type": "code",
   "execution_count": null,
   "metadata": {
    "ExecuteTime": {
     "end_time": "2019-02-23T06:32:20.947208Z",
     "start_time": "2019-02-21T10:13:28.682Z"
    }
   },
   "outputs": [],
   "source": [
    "new_label = [r'$g_{with diss}$']"
   ]
  },
  {
   "cell_type": "code",
   "execution_count": null,
   "metadata": {
    "ExecuteTime": {
     "end_time": "2019-02-23T06:32:20.948076Z",
     "start_time": "2019-02-21T10:13:28.686Z"
    }
   },
   "outputs": [],
   "source": [
    "ax = axes()\n",
    "ax.plot(times, xi_opt)\n",
    "ax.set(xlim=(0, total_time_evo), ylim=(-0.8,0.8 ),\n",
    "       xlabel='time', ylabel= r'$g_{with diss}$',\n",
    "       title='Control field in the presence of dissipation');"
   ]
  },
  {
   "cell_type": "code",
   "execution_count": null,
   "metadata": {
    "ExecuteTime": {
     "end_time": "2019-02-23T06:32:20.948950Z",
     "start_time": "2019-02-21T10:13:28.690Z"
    }
   },
   "outputs": [],
   "source": [
    "list_of_infid_vec = cF2p(result.u[-1, 0, :], xi_opt)                                                    "
   ]
  },
  {
   "cell_type": "code",
   "execution_count": null,
   "metadata": {
    "ExecuteTime": {
     "end_time": "2019-02-23T06:32:20.949887Z",
     "start_time": "2019-02-21T10:13:28.694Z"
    },
    "code_folding": []
   },
   "outputs": [],
   "source": [
    "ax = axes()\n",
    "ax.plot(times, list_of_infid_vec[0], label='grape_no_diss')\n",
    "ax.plot(times, list_of_infid_vec[1], label='grape_diss')\n",
    "ax.plot(times, list_of_infid_vec[2], label='grape_diss_optimized')\n",
    "#ax.plot(x, cos(x), ':b', label='cos(x)')'-g',\n",
    "#ax.axis('equal')\n",
    "ax.legend()\n",
    "ax.set(xlim=(times[0],times[-1]), ylim=(0, 1.1),\n",
    "       xlabel='time', ylabel='Infidelity',\n",
    "       title='Infidelity as a function of time ');"
   ]
  },
  {
   "cell_type": "code",
   "execution_count": null,
   "metadata": {
    "ExecuteTime": {
     "end_time": "2019-02-23T06:32:20.950749Z",
     "start_time": "2019-02-21T10:13:28.699Z"
    }
   },
   "outputs": [],
   "source": [
    "ax = axes()\n",
    "ax.plot(times, xi_opt)\n",
    "xi_max = amax(xi_opt) + 0.1\n",
    "xi_min = amin(xi_opt) - 0.1\n",
    "\n",
    "ax.set(xlim=(0, total_time_evo), ylim=(xi_min, xi_max),\n",
    "       xlabel='time', ylabel= r'$g_{with diss}$',\n",
    "       title='Control field in the presence of dissipation');"
   ]
  },
  {
   "cell_type": "code",
   "execution_count": null,
   "metadata": {
    "ExecuteTime": {
     "end_time": "2019-02-23T06:32:20.951303Z",
     "start_time": "2019-02-21T10:13:28.703Z"
    }
   },
   "outputs": [],
   "source": [
    "ax = axes()\n",
    "ax.plot(times, result.u[-1, 0, : ])\n",
    "xi_max = amax(result.u[-1, 0, : ]) + 0.1\n",
    "xi_min = amin(result.u[-1, 0, : ]) - 0.1\n",
    "\n",
    "ax.set(xlim=(0, total_time_evo), ylim=(xi_min, xi_max),\n",
    "       xlabel='time', ylabel= r'$g_{with diss}$',\n",
    "       title='old Control field in the presence of \\\n",
    "              dissipation produced by qutip');"
   ]
  },
  {
   "cell_type": "code",
   "execution_count": null,
   "metadata": {
    "ExecuteTime": {
     "end_time": "2019-02-23T06:32:20.951979Z",
     "start_time": "2019-02-21T10:13:28.707Z"
    }
   },
   "outputs": [],
   "source": [
    "list_of_infid_vec = cF2p(result.u[-1, 0, :], xi_opt)                                                    "
   ]
  },
  {
   "cell_type": "code",
   "execution_count": null,
   "metadata": {
    "ExecuteTime": {
     "end_time": "2019-02-23T06:32:20.952793Z",
     "start_time": "2019-02-21T10:13:28.711Z"
    },
    "code_folding": []
   },
   "outputs": [],
   "source": [
    "ax = axes()\n",
    "ax.plot(times, list_of_infid_vec[0], label='grape_no_diss')\n",
    "ax.plot(times, list_of_infid_vec[1], label='grape_diss')\n",
    "ax.plot(times, list_of_infid_vec[2], label='grape_diss_optimized')\n",
    "#ax.plot(x, cos(x), ':b', label='cos(x)')'-g',\n",
    "#ax.axis('equal')\n",
    "ax.legend()\n",
    "ax.set(xlim=(times[0],times[-1]), ylim=(0, 1.1),\n",
    "       xlabel='time', ylabel='Infidelity',\n",
    "       title='Infidelity as a function of time ');"
   ]
  },
  {
   "cell_type": "markdown",
   "metadata": {},
   "source": [
    "## APS stuff"
   ]
  },
  {
   "cell_type": "markdown",
   "metadata": {},
   "source": [
    "### infidelity function tryouts"
   ]
  },
  {
   "cell_type": "code",
   "execution_count": null,
   "metadata": {
    "ExecuteTime": {
     "end_time": "2019-02-23T06:32:20.953475Z",
     "start_time": "2019-02-21T10:13:29.692Z"
    }
   },
   "outputs": [],
   "source": [
    "qone = basis(2, 0)\n",
    "qone"
   ]
  },
  {
   "cell_type": "code",
   "execution_count": null,
   "metadata": {
    "ExecuteTime": {
     "end_time": "2019-02-23T06:32:20.954036Z",
     "start_time": "2019-02-21T10:13:29.697Z"
    }
   },
   "outputs": [],
   "source": [
    "qzero = basis(2, 1)\n",
    "qzero"
   ]
  },
  {
   "cell_type": "markdown",
   "metadata": {
    "ExecuteTime": {
     "end_time": "2019-02-15T04:40:16.961355Z",
     "start_time": "2019-02-15T04:40:16.952718Z"
    }
   },
   "source": [
    "###### ket2bra\n",
    "---------------------------------------------------------------------------\n",
    "NameError                                 Traceback (most recent call last)\n",
    "<ipython-input-69-8f247c0c4d8f> in <module>()\n",
    "----> 1 ket2bra\n",
    "\n",
    "NameError: name 'ket2bra' is not defined\n"
   ]
  },
  {
   "cell_type": "code",
   "execution_count": null,
   "metadata": {
    "ExecuteTime": {
     "end_time": "2019-02-23T06:32:20.954605Z",
     "start_time": "2019-02-21T10:13:30.215Z"
    }
   },
   "outputs": [],
   "source": [
    "(sigmax()).matrix_element(qone, qzero)"
   ]
  },
  {
   "cell_type": "code",
   "execution_count": null,
   "metadata": {
    "ExecuteTime": {
     "end_time": "2019-02-23T06:32:20.955208Z",
     "start_time": "2019-02-21T10:13:30.220Z"
    }
   },
   "outputs": [],
   "source": [
    "abs((sigmax()).matrix_element(qone, qzero))"
   ]
  },
  {
   "cell_type": "code",
   "execution_count": null,
   "metadata": {
    "ExecuteTime": {
     "end_time": "2019-02-23T06:32:20.955783Z",
     "start_time": "2019-02-21T10:13:30.224Z"
    }
   },
   "outputs": [],
   "source": [
    "abs(2 + 3j)"
   ]
  },
  {
   "cell_type": "code",
   "execution_count": null,
   "metadata": {
    "ExecuteTime": {
     "end_time": "2019-02-23T06:32:20.956364Z",
     "start_time": "2019-02-21T10:13:30.230Z"
    }
   },
   "outputs": [],
   "source": [
    "abs(3 + 4j)"
   ]
  },
  {
   "cell_type": "code",
   "execution_count": null,
   "metadata": {
    "ExecuteTime": {
     "end_time": "2019-02-23T06:32:20.957369Z",
     "start_time": "2019-02-21T10:13:30.235Z"
    }
   },
   "outputs": [],
   "source": [
    "def infidelity_to_one(U):\n",
    "    r\"\"\"infidelity to state one\"\"\"\n",
    "    fidelity = (abs(U.matrix_element(qone, qzero)))**2\n",
    "    infidelity = 1 - fidelity\n",
    "    return infidelity"
   ]
  },
  {
   "cell_type": "code",
   "execution_count": null,
   "metadata": {
    "ExecuteTime": {
     "end_time": "2019-02-23T06:32:20.958469Z",
     "start_time": "2019-02-21T10:13:30.240Z"
    }
   },
   "outputs": [],
   "source": [
    "infidelity_to_one(sigmax()) \n",
    "# 1 - abs((sigmax()).matrix_element(qone, qzero))\n",
    "# 1 - 1 = 0"
   ]
  },
  {
   "cell_type": "markdown",
   "metadata": {},
   "source": [
    "  result.u, result.u but lindbladian evolution, xi_opt"
   ]
  },
  {
   "cell_type": "code",
   "execution_count": null,
   "metadata": {
    "ExecuteTime": {
     "end_time": "2019-02-23T06:32:20.959529Z",
     "start_time": "2019-02-21T10:13:30.771Z"
    }
   },
   "outputs": [],
   "source": [
    "qone.overlap(qzero)"
   ]
  },
  {
   "cell_type": "code",
   "execution_count": null,
   "metadata": {
    "ExecuteTime": {
     "end_time": "2019-02-23T06:32:20.960505Z",
     "start_time": "2019-02-21T10:13:30.775Z"
    }
   },
   "outputs": [],
   "source": [
    "qzero.overlap(qzero)"
   ]
  },
  {
   "cell_type": "code",
   "execution_count": null,
   "metadata": {
    "ExecuteTime": {
     "end_time": "2019-02-23T06:32:20.961500Z",
     "start_time": "2019-02-21T10:13:30.779Z"
    }
   },
   "outputs": [],
   "source": [
    "qone.overlap(qone)"
   ]
  },
  {
   "cell_type": "code",
   "execution_count": null,
   "metadata": {
    "ExecuteTime": {
     "end_time": "2019-02-23T06:32:20.963231Z",
     "start_time": "2019-02-21T10:13:30.783Z"
    }
   },
   "outputs": [],
   "source": [
    "def infidelity_to_state(psi):\n",
    "    r\"\"\"infidelity to state one\"\"\"\n",
    "    fidelity = (abs(qone.overlap(psi)))**2\n",
    "    infidelity = 1 - fidelity\n",
    "    return infidelity"
   ]
  },
  {
   "cell_type": "code",
   "execution_count": null,
   "metadata": {
    "ExecuteTime": {
     "end_time": "2019-02-23T06:32:20.964345Z",
     "start_time": "2019-02-21T10:13:30.788Z"
    }
   },
   "outputs": [],
   "source": [
    "infidelity_to_state(qzero)"
   ]
  },
  {
   "cell_type": "code",
   "execution_count": null,
   "metadata": {
    "ExecuteTime": {
     "end_time": "2019-02-23T06:32:20.965521Z",
     "start_time": "2019-02-21T10:13:30.791Z"
    }
   },
   "outputs": [],
   "source": [
    "infidelity_to_state(qone)"
   ]
  },
  {
   "cell_type": "code",
   "execution_count": null,
   "metadata": {
    "ExecuteTime": {
     "end_time": "2019-02-23T06:32:20.966845Z",
     "start_time": "2019-02-21T10:13:30.796Z"
    }
   },
   "outputs": [],
   "source": [
    "#mesolve"
   ]
  },
  {
   "cell_type": "markdown",
   "metadata": {
    "ExecuteTime": {
     "end_time": "2019-02-15T04:40:17.005913Z",
     "start_time": "2019-02-15T04:34:35.127Z"
    }
   },
   "source": [
    "\n",
    "### state building"
   ]
  },
  {
   "cell_type": "code",
   "execution_count": null,
   "metadata": {
    "ExecuteTime": {
     "end_time": "2019-02-23T06:32:20.967783Z",
     "start_time": "2019-02-21T10:13:31.352Z"
    }
   },
   "outputs": [],
   "source": [
    "H_no_diss = [H_0, [H_1, result.u[-1, 0, :] ]]\n",
    "grape_no_diss = mesolve(H_no_diss, qzero, times, c_ops=[], e_ops=[], \n",
    "                        args={}, options=None, \n",
    "                        progress_bar=EnhancedTextProgressBar() )"
   ]
  },
  {
   "cell_type": "code",
   "execution_count": null,
   "metadata": {
    "ExecuteTime": {
     "end_time": "2019-02-23T06:32:20.968788Z",
     "start_time": "2019-02-21T10:13:31.357Z"
    }
   },
   "outputs": [],
   "source": [
    "len(grape_no_diss.states)"
   ]
  },
  {
   "cell_type": "code",
   "execution_count": null,
   "metadata": {
    "ExecuteTime": {
     "end_time": "2019-02-23T06:32:20.969525Z",
     "start_time": "2019-02-21T10:13:31.362Z"
    }
   },
   "outputs": [],
   "source": [
    "Lin"
   ]
  },
  {
   "cell_type": "code",
   "execution_count": null,
   "metadata": {
    "ExecuteTime": {
     "end_time": "2019-02-23T06:32:20.970240Z",
     "start_time": "2019-02-21T10:13:31.368Z"
    }
   },
   "outputs": [],
   "source": [
    "sqrt(gamma)"
   ]
  },
  {
   "cell_type": "code",
   "execution_count": null,
   "metadata": {
    "ExecuteTime": {
     "end_time": "2019-02-23T06:32:20.970979Z",
     "start_time": "2019-02-21T10:13:31.373Z"
    }
   },
   "outputs": [],
   "source": [
    "c_ops_tejas = sqrt(gamma)*Lin\n",
    "c_ops_tejas"
   ]
  },
  {
   "cell_type": "code",
   "execution_count": null,
   "metadata": {
    "ExecuteTime": {
     "end_time": "2019-02-23T06:32:20.971617Z",
     "start_time": "2019-02-21T10:13:31.378Z"
    }
   },
   "outputs": [],
   "source": [
    "H_diss = [H_0, [H_1, result.u[-1, 0, :] ]]\n",
    "grape_diss = mesolve(H_no_diss, qzero, times, c_ops=[c_ops_tejas], e_ops=[], \n",
    "                        args={}, options=None, \n",
    "                        progress_bar=EnhancedTextProgressBar() )"
   ]
  },
  {
   "cell_type": "code",
   "execution_count": null,
   "metadata": {
    "ExecuteTime": {
     "end_time": "2019-02-23T06:32:20.972244Z",
     "start_time": "2019-02-21T10:13:31.384Z"
    }
   },
   "outputs": [],
   "source": [
    "len(grape_diss.states)"
   ]
  },
  {
   "cell_type": "code",
   "execution_count": null,
   "metadata": {
    "ExecuteTime": {
     "end_time": "2019-02-23T06:32:20.972973Z",
     "start_time": "2019-02-21T10:13:31.388Z"
    }
   },
   "outputs": [],
   "source": [
    "H_diss_optimized = [H_0, [H_1, xi_opt ]]\n",
    "grape_diss_optimized = mesolve(H_diss_optimized, qzero, times, c_ops=[c_ops_tejas], \n",
    "                               e_ops=[], args={}, options=None, \n",
    "                               progress_bar=TextProgressBar() )\n",
    "# H_diss_optimized should have been written isntead of H_no_diss"
   ]
  },
  {
   "cell_type": "code",
   "execution_count": null,
   "metadata": {
    "ExecuteTime": {
     "end_time": "2019-02-23T06:32:20.973651Z",
     "start_time": "2019-02-21T10:13:31.392Z"
    }
   },
   "outputs": [],
   "source": [
    "len(grape_diss_optimized.states)"
   ]
  },
  {
   "cell_type": "markdown",
   "metadata": {},
   "source": [
    "### states list to fidelity list"
   ]
  },
  {
   "cell_type": "code",
   "execution_count": null,
   "metadata": {
    "ExecuteTime": {
     "end_time": "2019-02-23T06:32:20.974279Z",
     "start_time": "2019-02-21T10:13:31.886Z"
    }
   },
   "outputs": [],
   "source": [
    "infidelity_to_state_vec = vectorize(infidelity_to_state)"
   ]
  },
  {
   "cell_type": "code",
   "execution_count": null,
   "metadata": {
    "ExecuteTime": {
     "end_time": "2019-02-23T06:32:20.974863Z",
     "start_time": "2019-02-21T10:13:31.891Z"
    }
   },
   "outputs": [],
   "source": [
    "infid_grape_no_diss = infidelity_to_state_vec(grape_no_diss.states)"
   ]
  },
  {
   "cell_type": "code",
   "execution_count": null,
   "metadata": {
    "ExecuteTime": {
     "end_time": "2019-02-23T06:32:20.977571Z",
     "start_time": "2019-02-21T10:13:31.894Z"
    }
   },
   "outputs": [],
   "source": [
    "'''fid_grape_diss = infidelity_to_state_vec(grape_diss.states)\n",
    "TypeError                                 Traceback (most recent call last)\n",
    "<ipython-input-101-fbabc06eff84> in <module>()\n",
    "----> 1 fid_grape_diss = infidelity_to_state_vec(grape_diss.states)\n",
    "\n",
    "/anaconda3/envs/qutip-env/lib/python3.6/site-packages/numpy/lib/function_base.py in __call__(self, *args, **kwargs)\n",
    "   2753             vargs.extend([kwargs[_n] for _n in names])\n",
    "   2754 \n",
    "-> 2755         return self._vectorize_call(func=func, args=vargs)\n",
    "   2756 \n",
    "   2757     def _get_ufunc_and_otypes(self, func, args):\n",
    "\n",
    "/anaconda3/envs/qutip-env/lib/python3.6/site-packages/numpy/lib/function_base.py in _vectorize_call(self, func, args)\n",
    "   2823             res = func()\n",
    "   2824         else:\n",
    "-> 2825             ufunc, otypes = self._get_ufunc_and_otypes(func=func, args=args)\n",
    "   2826 \n",
    "   2827             # Convert args to object arrays first\n",
    "\n",
    "/anaconda3/envs/qutip-env/lib/python3.6/site-packages/numpy/lib/function_base.py in _get_ufunc_and_otypes(self, func, args)\n",
    "   2783 \n",
    "   2784             inputs = [arg.flat[0] for arg in args]\n",
    "-> 2785             outputs = func(*inputs)\n",
    "   2786 \n",
    "   2787             # Performance note: profiling indicates that -- for simple\n",
    "\n",
    "<ipython-input-96-32321f8d8a33> in infidelity_to_state(psi)\n",
    "      1 def infidelity_to_state(psi):\n",
    "      2     r\"\"\"infidelity to state one\"\"\"\n",
    "----> 3     fidelity = (abs(qone.overlap(psi)))**2\n",
    "      4     infidelity = 1 - fidelity\n",
    "      5     return infidelity\n",
    "\n",
    "/anaconda3/envs/qutip-env/lib/python3.6/site-packages/qutip/qobj.py in overlap(self, state)\n",
    "   1486                     return (self.data.H * state.data)[0, 0]\n",
    "   1487 \n",
    "-> 1488         raise TypeError(\"Can only calculate overlap for state vector Qobjs\")\n",
    "   1489 \n",
    "   1490     def eigenstates(self, sparse=False, sort='low',\n",
    "\n",
    "TypeError: Can only calculate overlap for state vector Qobjs\n",
    "\n",
    "\n",
    "'''"
   ]
  },
  {
   "cell_type": "markdown",
   "metadata": {
    "ExecuteTime": {
     "end_time": "2019-02-15T05:53:06.567791Z",
     "start_time": "2019-02-15T05:53:06.556851Z"
    }
   },
   "source": [
    "fid_grape_no_diss = infidelity_to_state_vec(grape_no_diss.states)"
   ]
  },
  {
   "cell_type": "code",
   "execution_count": null,
   "metadata": {
    "ExecuteTime": {
     "end_time": "2019-02-23T06:32:20.978706Z",
     "start_time": "2019-02-21T10:13:32.414Z"
    }
   },
   "outputs": [],
   "source": [
    "fidelity(sigmax(), sigmax())"
   ]
  },
  {
   "cell_type": "code",
   "execution_count": null,
   "metadata": {
    "ExecuteTime": {
     "end_time": "2019-02-23T06:32:20.979624Z",
     "start_time": "2019-02-21T10:13:32.419Z"
    }
   },
   "outputs": [],
   "source": [
    "zero_dm = ket2dm(qzero)\n",
    "zero_dm"
   ]
  },
  {
   "cell_type": "code",
   "execution_count": null,
   "metadata": {
    "ExecuteTime": {
     "end_time": "2019-02-23T06:32:20.980546Z",
     "start_time": "2019-02-21T10:13:32.423Z"
    }
   },
   "outputs": [],
   "source": [
    "one_dm = ket2dm(qone)\n",
    "one_dm"
   ]
  },
  {
   "cell_type": "code",
   "execution_count": null,
   "metadata": {
    "ExecuteTime": {
     "end_time": "2019-02-23T06:32:20.981286Z",
     "start_time": "2019-02-21T10:13:32.427Z"
    }
   },
   "outputs": [],
   "source": [
    "fidelity(zero_dm, zero_dm)"
   ]
  },
  {
   "cell_type": "code",
   "execution_count": null,
   "metadata": {
    "ExecuteTime": {
     "end_time": "2019-02-23T06:32:20.981913Z",
     "start_time": "2019-02-21T10:13:32.431Z"
    }
   },
   "outputs": [],
   "source": [
    "fidelity(zero_dm, one_dm)"
   ]
  },
  {
   "cell_type": "code",
   "execution_count": null,
   "metadata": {
    "ExecuteTime": {
     "end_time": "2019-02-23T06:32:20.982584Z",
     "start_time": "2019-02-21T10:13:32.435Z"
    }
   },
   "outputs": [],
   "source": [
    "fidelity(one_dm, zero_dm)"
   ]
  },
  {
   "cell_type": "code",
   "execution_count": null,
   "metadata": {
    "ExecuteTime": {
     "end_time": "2019-02-23T06:32:20.983253Z",
     "start_time": "2019-02-21T10:13:32.439Z"
    }
   },
   "outputs": [],
   "source": [
    "grape_no_diss.states[5]"
   ]
  },
  {
   "cell_type": "code",
   "execution_count": null,
   "metadata": {
    "ExecuteTime": {
     "end_time": "2019-02-23T06:32:20.983862Z",
     "start_time": "2019-02-21T10:13:32.443Z"
    }
   },
   "outputs": [],
   "source": [
    "grape_diss.states[5]"
   ]
  },
  {
   "cell_type": "code",
   "execution_count": null,
   "metadata": {
    "ExecuteTime": {
     "end_time": "2019-02-23T06:32:20.984557Z",
     "start_time": "2019-02-21T10:13:32.447Z"
    }
   },
   "outputs": [],
   "source": [
    "grape_diss.states[7]"
   ]
  },
  {
   "cell_type": "code",
   "execution_count": null,
   "metadata": {
    "ExecuteTime": {
     "end_time": "2019-02-23T06:32:20.985180Z",
     "start_time": "2019-02-21T10:13:32.461Z"
    }
   },
   "outputs": [],
   "source": [
    "fidelity(grape_diss.states[7], one_dm)"
   ]
  },
  {
   "cell_type": "code",
   "execution_count": null,
   "metadata": {
    "ExecuteTime": {
     "end_time": "2019-02-23T06:32:20.986152Z",
     "start_time": "2019-02-21T10:13:32.466Z"
    }
   },
   "outputs": [],
   "source": [
    "#0.012−2.347×10**−05j)"
   ]
  },
  {
   "cell_type": "code",
   "execution_count": null,
   "metadata": {
    "ExecuteTime": {
     "end_time": "2019-02-23T06:32:20.986943Z",
     "start_time": "2019-02-21T10:13:32.471Z"
    }
   },
   "outputs": [],
   "source": [
    "def infidelity_tejas(dm, d=2):\n",
    "    r\"\"\"Brief description of the function\"\"\"\n",
    "    infid = 1 - fidelity(one_dm, dm)\n",
    "    return infid"
   ]
  },
  {
   "cell_type": "code",
   "execution_count": null,
   "metadata": {
    "ExecuteTime": {
     "end_time": "2019-02-23T06:32:20.987922Z",
     "start_time": "2019-02-21T10:13:32.476Z"
    }
   },
   "outputs": [],
   "source": [
    "infid_dm_vec = vectorize(infidelity_tejas)"
   ]
  },
  {
   "cell_type": "code",
   "execution_count": null,
   "metadata": {
    "ExecuteTime": {
     "end_time": "2019-02-23T06:32:20.988817Z",
     "start_time": "2019-02-21T10:13:32.480Z"
    }
   },
   "outputs": [],
   "source": [
    "infid_grape_diss = infid_dm_vec(grape_diss.states) "
   ]
  },
  {
   "cell_type": "code",
   "execution_count": null,
   "metadata": {
    "ExecuteTime": {
     "end_time": "2019-02-23T06:32:20.989625Z",
     "start_time": "2019-02-21T10:13:32.485Z"
    }
   },
   "outputs": [],
   "source": [
    "len(infid_grape_diss)"
   ]
  },
  {
   "cell_type": "code",
   "execution_count": null,
   "metadata": {
    "ExecuteTime": {
     "end_time": "2019-02-23T06:32:20.990579Z",
     "start_time": "2019-02-21T10:13:32.489Z"
    }
   },
   "outputs": [],
   "source": [
    "infid_grape_diss_optimized = infid_dm_vec(grape_diss_optimized.states) "
   ]
  },
  {
   "cell_type": "code",
   "execution_count": null,
   "metadata": {
    "ExecuteTime": {
     "end_time": "2019-02-23T06:32:20.991501Z",
     "start_time": "2019-02-21T10:13:32.493Z"
    }
   },
   "outputs": [],
   "source": [
    "len(infid_grape_diss_optimized)"
   ]
  },
  {
   "cell_type": "markdown",
   "metadata": {},
   "source": [
    "### plots"
   ]
  },
  {
   "cell_type": "code",
   "execution_count": null,
   "metadata": {
    "ExecuteTime": {
     "end_time": "2019-02-23T06:32:20.992517Z",
     "start_time": "2019-02-21T10:13:33.032Z"
    },
    "code_folding": []
   },
   "outputs": [],
   "source": [
    "ax = axes()\n",
    "ax.plot(times, infid_grape_no_diss, label='grape_no_diss')\n",
    "ax.plot(times, infid_grape_diss, label='grape_diss')\n",
    "ax.plot(times, infid_grape_diss_optimized, label='grape_diss_optimized')\n",
    "#ax.plot(x, cos(x), ':b', label='cos(x)')'-g',\n",
    "#ax.axis('equal')\n",
    "ax.legend()\n",
    "ax.set(xlim=(times[0],times[-1]), ylim=(0, 1.1),\n",
    "       xlabel='time', ylabel='Infidelity',\n",
    "       title='Infidelity as a function of time ');"
   ]
  },
  {
   "cell_type": "code",
   "execution_count": null,
   "metadata": {
    "ExecuteTime": {
     "end_time": "2019-02-23T06:32:20.993509Z",
     "start_time": "2019-02-21T10:13:33.036Z"
    }
   },
   "outputs": [],
   "source": [
    "ax = axes()\n",
    "ax.plot(times, infid_grape_no_diss, label='grape_no_diss')\n",
    "ax.plot(times, infid_grape_diss, label='grape_diss')\n",
    "#ax.plot(times, infid_grape_diss_optimized, label='grape_diss_optimized')\n",
    "#ax.plot(x, cos(x), ':b', label='cos(x)')'-g',\n",
    "#ax.axis('equal')\n",
    "ax.legend()\n",
    "\n",
    "ax.set(xlim=(times[0],times[-1]), ylim=(0, 1.1),\n",
    "       xlabel='time', ylabel='Infidelity',\n",
    "       title='Infidelity as a function of time ');"
   ]
  },
  {
   "cell_type": "code",
   "execution_count": null,
   "metadata": {
    "ExecuteTime": {
     "end_time": "2019-02-23T06:32:20.994103Z",
     "start_time": "2019-02-21T10:13:33.040Z"
    }
   },
   "outputs": [],
   "source": [
    "ax = axes()\n",
    "ax.plot(times, infid_grape_no_diss, label='grape_no_diss')\n",
    "#ax.plot(times, infid_grape_diss, label='grape_diss')\n",
    "ax.plot(times, infid_grape_diss_optimized, label='grape_diss_optimized')\n",
    "#ax.plot(x, cos(x), ':b', label='cos(x)')'-g',\n",
    "#ax.axis('equal')\n",
    "ax.legend()\n",
    "\n",
    "ax.set(xlim=(times[0],times[-1]), ylim=(0, 1.1),\n",
    "       xlabel='time', ylabel='Infidelity',\n",
    "       title='Infidelity as a function of time ');"
   ]
  },
  {
   "cell_type": "code",
   "execution_count": null,
   "metadata": {
    "ExecuteTime": {
     "end_time": "2019-02-23T06:32:20.994976Z",
     "start_time": "2019-02-21T10:13:33.044Z"
    }
   },
   "outputs": [],
   "source": [
    "ax = axes()\n",
    "c_diff = result.u[-1, 0, : ] - xi_opt\n",
    "ax.plot(times, c_diff)\n",
    "c_max = amax(c_diff) + 0.1\n",
    "c_min = amin(c_diff) - 0.1\n",
    "\n",
    "ax.set(xlim=(0, total_time_evo), ylim=(c_min, c_max),\n",
    "       xlabel='time', ylabel= 'diff',\n",
    "       title='difference');"
   ]
  },
  {
   "cell_type": "code",
   "execution_count": null,
   "metadata": {},
   "outputs": [],
   "source": []
  },
  {
   "cell_type": "code",
   "execution_count": null,
   "metadata": {},
   "outputs": [],
   "source": []
  },
  {
   "cell_type": "code",
   "execution_count": null,
   "metadata": {},
   "outputs": [],
   "source": []
  },
  {
   "cell_type": "code",
   "execution_count": null,
   "metadata": {},
   "outputs": [],
   "source": []
  },
  {
   "cell_type": "code",
   "execution_count": null,
   "metadata": {},
   "outputs": [],
   "source": []
  },
  {
   "cell_type": "code",
   "execution_count": null,
   "metadata": {
    "ExecuteTime": {
     "end_time": "2019-02-23T06:32:20.995651Z",
     "start_time": "2019-02-21T10:13:33.051Z"
    }
   },
   "outputs": [],
   "source": [
    "ax = axes()\n",
    "ax.plot(times, xi_opt)\n",
    "xi_max = amax(xi_opt) + 0.1\n",
    "xi_min = amin(xi_opt) - 0.1\n",
    "\n",
    "ax.set(xlim=(0, total_time_evo), ylim=(xi_min, xi_max),\n",
    "       xlabel='time', ylabel= r'$g_{with diss}$',\n",
    "       title='Control field in the presence of dissipation');"
   ]
  },
  {
   "cell_type": "code",
   "execution_count": null,
   "metadata": {},
   "outputs": [],
   "source": []
  },
  {
   "cell_type": "code",
   "execution_count": null,
   "metadata": {},
   "outputs": [],
   "source": []
  },
  {
   "cell_type": "code",
   "execution_count": null,
   "metadata": {},
   "outputs": [],
   "source": []
  },
  {
   "cell_type": "code",
   "execution_count": null,
   "metadata": {},
   "outputs": [],
   "source": []
  },
  {
   "cell_type": "markdown",
   "metadata": {},
   "source": [
    "## Versions"
   ]
  },
  {
   "cell_type": "code",
   "execution_count": null,
   "metadata": {
    "ExecuteTime": {
     "end_time": "2019-02-23T06:32:20.996257Z",
     "start_time": "2019-02-21T10:13:33.628Z"
    }
   },
   "outputs": [],
   "source": [
    "from qutip.ipynbtools import version_table\n",
    "\n",
    "version_table()"
   ]
  },
  {
   "cell_type": "code",
   "execution_count": null,
   "metadata": {
    "ExecuteTime": {
     "end_time": "2019-02-23T06:32:20.996912Z",
     "start_time": "2019-02-21T10:13:33.633Z"
    }
   },
   "outputs": [],
   "source": [
    "cnot()"
   ]
  },
  {
   "cell_type": "code",
   "execution_count": null,
   "metadata": {},
   "outputs": [],
   "source": []
  }
 ],
 "metadata": {
  "kernelspec": {
   "display_name": "Python 3",
   "language": "python",
   "name": "python3"
  },
  "language_info": {
   "codemirror_mode": {
    "name": "ipython",
    "version": 3
   },
   "file_extension": ".py",
   "mimetype": "text/x-python",
   "name": "python",
   "nbconvert_exporter": "python",
   "pygments_lexer": "ipython3",
   "version": "3.6.8"
  },
  "toc": {
   "base_numbering": 1,
   "nav_menu": {},
   "number_sections": true,
   "sideBar": true,
   "skip_h1_title": false,
   "title_cell": "Table of Contents",
   "title_sidebar": "Contents",
   "toc_cell": false,
   "toc_position": {
    "height": "calc(100% - 180px)",
    "left": "10px",
    "top": "150px",
    "width": "288px"
   },
   "toc_section_display": true,
   "toc_window_display": true
  },
  "varInspector": {
   "cols": {
    "lenName": 16,
    "lenType": 16,
    "lenVar": 40
   },
   "kernels_config": {
    "python": {
     "delete_cmd_postfix": "",
     "delete_cmd_prefix": "del ",
     "library": "var_list.py",
     "varRefreshCmd": "print(var_dic_list())"
    },
    "r": {
     "delete_cmd_postfix": ") ",
     "delete_cmd_prefix": "rm(",
     "library": "var_list.r",
     "varRefreshCmd": "cat(var_dic_list()) "
    }
   },
   "types_to_exclude": [
    "module",
    "function",
    "builtin_function_or_method",
    "instance",
    "_Feature"
   ],
   "window_display": false
  }
 },
 "nbformat": 4,
 "nbformat_minor": 2
}
