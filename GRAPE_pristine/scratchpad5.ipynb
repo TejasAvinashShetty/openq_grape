{
 "cells": [
  {
   "cell_type": "markdown",
   "metadata": {},
   "source": [
    "# Imports"
   ]
  },
  {
   "cell_type": "markdown",
   "metadata": {},
   "source": [
    "Need to have jate.py in your folder"
   ]
  },
  {
   "cell_type": "code",
   "execution_count": 6,
   "metadata": {
    "ExecuteTime": {
     "end_time": "2019-01-31T17:50:49.978283Z",
     "start_time": "2019-01-31T17:50:49.971675Z"
    }
   },
   "outputs": [],
   "source": [
    "%run jate.py #will import everything"
   ]
  },
  {
   "cell_type": "markdown",
   "metadata": {},
   "source": [
    "# Next chapter"
   ]
  },
  {
   "cell_type": "markdown",
   "metadata": {},
   "source": [
    "## memory clear (uses regex, so be careful)"
   ]
  },
  {
   "cell_type": "code",
   "execution_count": 7,
   "metadata": {
    "ExecuteTime": {
     "end_time": "2019-01-31T17:50:51.925936Z",
     "start_time": "2019-01-31T17:50:51.921119Z"
    }
   },
   "outputs": [],
   "source": [
    "%reset_selective -f var1, var2  # replace var1, var2 with your defined ones"
   ]
  },
  {
   "cell_type": "markdown",
   "metadata": {},
   "source": [
    "## sub topic 2"
   ]
  },
  {
   "cell_type": "code",
   "execution_count": 8,
   "metadata": {
    "ExecuteTime": {
     "end_time": "2019-01-31T17:50:53.448827Z",
     "start_time": "2019-01-31T17:50:53.441308Z"
    }
   },
   "outputs": [
    {
     "data": {
      "text/latex": [
       "Quantum object: dims = [[2, 2], [2, 2]], shape = (4, 4), type = oper, isherm = True\\begin{equation*}\\left(\\begin{array}{*{11}c}1.0 & 0.0 & 0.0 & 0.0\\\\0.0 & 1.0 & 0.0 & 0.0\\\\0.0 & 0.0 & 0.0 & 1.0\\\\0.0 & 0.0 & 1.0 & 0.0\\\\\\end{array}\\right)\\end{equation*}"
      ],
      "text/plain": [
       "Quantum object: dims = [[2, 2], [2, 2]], shape = (4, 4), type = oper, isherm = True\n",
       "Qobj data =\n",
       "[[1. 0. 0. 0.]\n",
       " [0. 1. 0. 0.]\n",
       " [0. 0. 0. 1.]\n",
       " [0. 0. 1. 0.]]"
      ]
     },
     "execution_count": 8,
     "metadata": {},
     "output_type": "execute_result"
    }
   ],
   "source": [
    "cnot()"
   ]
  },
  {
   "cell_type": "markdown",
   "metadata": {},
   "source": [
    "## sub topic 3"
   ]
  },
  {
   "cell_type": "markdown",
   "metadata": {},
   "source": [
    "### sub sub topic 1"
   ]
  },
  {
   "cell_type": "code",
   "execution_count": 4,
   "metadata": {
    "ExecuteTime": {
     "end_time": "2019-02-16T09:36:53.326924Z",
     "start_time": "2019-02-16T09:36:53.323990Z"
    }
   },
   "outputs": [],
   "source": [
    "name = 1"
   ]
  },
  {
   "cell_type": "code",
   "execution_count": 5,
   "metadata": {
    "ExecuteTime": {
     "end_time": "2019-02-16T09:36:53.816954Z",
     "start_time": "2019-02-16T09:36:53.812617Z"
    }
   },
   "outputs": [
    {
     "name": "stdout",
     "output_type": "stream",
     "text": [
      "Please enter a name\n"
     ]
    }
   ],
   "source": [
    "if name > 1 :\n",
    "    print(\"tejas\")\n",
    "else :\n",
    "    print(\"Please enter a name\")"
   ]
  },
  {
   "cell_type": "code",
   "execution_count": 7,
   "metadata": {
    "ExecuteTime": {
     "end_time": "2019-02-16T09:39:32.165845Z",
     "start_time": "2019-02-16T09:39:32.162504Z"
    },
    "code_folding": []
   },
   "outputs": [],
   "source": [
    "def name_game(name):\n",
    "    r\"\"\"Brief description of the function\"\"\"\n",
    "        \n",
    "    if name > 1 :\n",
    "        print(\"tejas\")\n",
    "    else :\n",
    "        print(\"Please enter a name\")\n",
    "    return None"
   ]
  },
  {
   "cell_type": "code",
   "execution_count": 8,
   "metadata": {
    "ExecuteTime": {
     "end_time": "2019-02-16T09:39:46.417871Z",
     "start_time": "2019-02-16T09:39:46.414835Z"
    }
   },
   "outputs": [
    {
     "name": "stdout",
     "output_type": "stream",
     "text": [
      "tejas\n"
     ]
    }
   ],
   "source": [
    "name_game(3)"
   ]
  },
  {
   "cell_type": "code",
   "execution_count": 9,
   "metadata": {
    "ExecuteTime": {
     "end_time": "2019-02-16T09:40:00.769949Z",
     "start_time": "2019-02-16T09:40:00.765586Z"
    }
   },
   "outputs": [
    {
     "name": "stdout",
     "output_type": "stream",
     "text": [
      "Please enter a name\n"
     ]
    }
   ],
   "source": [
    "name_game(0)"
   ]
  },
  {
   "cell_type": "code",
   "execution_count": 10,
   "metadata": {
    "ExecuteTime": {
     "end_time": "2019-02-16T09:40:20.544405Z",
     "start_time": "2019-02-16T09:40:20.541049Z"
    }
   },
   "outputs": [
    {
     "name": "stdout",
     "output_type": "stream",
     "text": [
      "Please enter a name\n"
     ]
    }
   ],
   "source": [
    "name_game(-2.5)"
   ]
  },
  {
   "cell_type": "code",
   "execution_count": null,
   "metadata": {},
   "outputs": [],
   "source": []
  },
  {
   "cell_type": "code",
   "execution_count": 21,
   "metadata": {
    "ExecuteTime": {
     "end_time": "2019-02-16T10:52:33.082766Z",
     "start_time": "2019-02-16T10:52:33.072069Z"
    },
    "code_folding": []
   },
   "outputs": [],
   "source": [
    "def max_min_iter(max_iter):\n",
    "    r\"\"\"Brief description of the function\"\"\"\n",
    "    min_iter = int(max_iter/2)\n",
    "    print(\"Hey, I have reached the loop\")\n",
    "    for i in range(max_iter):\n",
    "        if i==0 :\n",
    "            print(\"Hey, I have entered the loop\")\n",
    "            \n",
    "            \n",
    "        print(\"Hey, I have re-entered the loop\")\n",
    "        if i > min_iter :\n",
    "            print(\"Surpassed min iteration barrier\")\n",
    "            if i**2 > 1000:\n",
    "                print(\"Oh no. The end\")\n",
    "                print(\"square of i crossed 100\")\n",
    "                print(\"Attempted iterations \", i)\n",
    "                break\n",
    "            else :\n",
    "                print(\"Some hope remains\")\n",
    "                print(i**2)\n",
    "        else:\n",
    "            print(i**2)\n",
    "    return i"
   ]
  },
  {
   "cell_type": "code",
   "execution_count": 22,
   "metadata": {
    "ExecuteTime": {
     "end_time": "2019-02-16T10:52:33.607616Z",
     "start_time": "2019-02-16T10:52:33.598687Z"
    }
   },
   "outputs": [
    {
     "name": "stdout",
     "output_type": "stream",
     "text": [
      "Hey, I have reached the loop\n",
      "Hey, I have entered the loop\n",
      "Hey, I have re-entered the loop\n",
      "0\n",
      "Hey, I have re-entered the loop\n",
      "1\n",
      "Hey, I have re-entered the loop\n",
      "4\n",
      "Hey, I have re-entered the loop\n",
      "9\n",
      "Hey, I have re-entered the loop\n",
      "16\n",
      "Hey, I have re-entered the loop\n",
      "25\n",
      "Hey, I have re-entered the loop\n",
      "36\n",
      "Hey, I have re-entered the loop\n",
      "49\n",
      "Hey, I have re-entered the loop\n",
      "64\n",
      "Hey, I have re-entered the loop\n",
      "81\n",
      "Hey, I have re-entered the loop\n",
      "100\n",
      "Hey, I have re-entered the loop\n",
      "121\n",
      "Hey, I have re-entered the loop\n",
      "144\n",
      "Hey, I have re-entered the loop\n",
      "169\n",
      "Hey, I have re-entered the loop\n",
      "196\n",
      "Hey, I have re-entered the loop\n",
      "225\n",
      "Hey, I have re-entered the loop\n",
      "Surpassed min iteration barrier\n",
      "Some hope remains\n",
      "256\n",
      "Hey, I have re-entered the loop\n",
      "Surpassed min iteration barrier\n",
      "Some hope remains\n",
      "289\n",
      "Hey, I have re-entered the loop\n",
      "Surpassed min iteration barrier\n",
      "Some hope remains\n",
      "324\n",
      "Hey, I have re-entered the loop\n",
      "Surpassed min iteration barrier\n",
      "Some hope remains\n",
      "361\n",
      "Hey, I have re-entered the loop\n",
      "Surpassed min iteration barrier\n",
      "Some hope remains\n",
      "400\n",
      "Hey, I have re-entered the loop\n",
      "Surpassed min iteration barrier\n",
      "Some hope remains\n",
      "441\n",
      "Hey, I have re-entered the loop\n",
      "Surpassed min iteration barrier\n",
      "Some hope remains\n",
      "484\n",
      "Hey, I have re-entered the loop\n",
      "Surpassed min iteration barrier\n",
      "Some hope remains\n",
      "529\n",
      "Hey, I have re-entered the loop\n",
      "Surpassed min iteration barrier\n",
      "Some hope remains\n",
      "576\n",
      "Hey, I have re-entered the loop\n",
      "Surpassed min iteration barrier\n",
      "Some hope remains\n",
      "625\n",
      "Hey, I have re-entered the loop\n",
      "Surpassed min iteration barrier\n",
      "Some hope remains\n",
      "676\n",
      "Hey, I have re-entered the loop\n",
      "Surpassed min iteration barrier\n",
      "Some hope remains\n",
      "729\n",
      "Hey, I have re-entered the loop\n",
      "Surpassed min iteration barrier\n",
      "Some hope remains\n",
      "784\n",
      "Hey, I have re-entered the loop\n",
      "Surpassed min iteration barrier\n",
      "Some hope remains\n",
      "841\n"
     ]
    },
    {
     "data": {
      "text/plain": [
       "29"
      ]
     },
     "execution_count": 22,
     "metadata": {},
     "output_type": "execute_result"
    }
   ],
   "source": [
    "max_min_iter(30)"
   ]
  },
  {
   "cell_type": "code",
   "execution_count": 13,
   "metadata": {
    "ExecuteTime": {
     "end_time": "2019-02-16T10:42:17.601396Z",
     "start_time": "2019-02-16T10:42:17.594929Z"
    }
   },
   "outputs": [
    {
     "data": {
      "text/plain": [
       "841"
      ]
     },
     "execution_count": 13,
     "metadata": {},
     "output_type": "execute_result"
    }
   ],
   "source": [
    "29**2"
   ]
  },
  {
   "cell_type": "code",
   "execution_count": 23,
   "metadata": {
    "ExecuteTime": {
     "end_time": "2019-02-16T10:53:36.558971Z",
     "start_time": "2019-02-16T10:53:36.552383Z"
    }
   },
   "outputs": [
    {
     "name": "stdout",
     "output_type": "stream",
     "text": [
      "Hey, I have reached the loop\n",
      "Hey, I have entered the loop\n",
      "Hey, I have re-entered the loop\n",
      "0\n",
      "Hey, I have re-entered the loop\n",
      "1\n",
      "Hey, I have re-entered the loop\n",
      "4\n",
      "Hey, I have re-entered the loop\n",
      "9\n",
      "Hey, I have re-entered the loop\n",
      "16\n",
      "Hey, I have re-entered the loop\n",
      "25\n",
      "Hey, I have re-entered the loop\n",
      "36\n",
      "Hey, I have re-entered the loop\n",
      "49\n",
      "Hey, I have re-entered the loop\n",
      "64\n",
      "Hey, I have re-entered the loop\n",
      "81\n",
      "Hey, I have re-entered the loop\n",
      "100\n",
      "Hey, I have re-entered the loop\n",
      "121\n",
      "Hey, I have re-entered the loop\n",
      "144\n",
      "Hey, I have re-entered the loop\n",
      "169\n",
      "Hey, I have re-entered the loop\n",
      "196\n",
      "Hey, I have re-entered the loop\n",
      "225\n",
      "Hey, I have re-entered the loop\n",
      "256\n",
      "Hey, I have re-entered the loop\n",
      "289\n",
      "Hey, I have re-entered the loop\n",
      "324\n",
      "Hey, I have re-entered the loop\n",
      "361\n",
      "Hey, I have re-entered the loop\n",
      "400\n",
      "Hey, I have re-entered the loop\n",
      "441\n",
      "Hey, I have re-entered the loop\n",
      "484\n",
      "Hey, I have re-entered the loop\n",
      "529\n",
      "Hey, I have re-entered the loop\n",
      "576\n",
      "Hey, I have re-entered the loop\n",
      "625\n",
      "Hey, I have re-entered the loop\n",
      "Surpassed min iteration barrier\n",
      "Some hope remains\n",
      "676\n",
      "Hey, I have re-entered the loop\n",
      "Surpassed min iteration barrier\n",
      "Some hope remains\n",
      "729\n",
      "Hey, I have re-entered the loop\n",
      "Surpassed min iteration barrier\n",
      "Some hope remains\n",
      "784\n",
      "Hey, I have re-entered the loop\n",
      "Surpassed min iteration barrier\n",
      "Some hope remains\n",
      "841\n",
      "Hey, I have re-entered the loop\n",
      "Surpassed min iteration barrier\n",
      "Some hope remains\n",
      "900\n",
      "Hey, I have re-entered the loop\n",
      "Surpassed min iteration barrier\n",
      "Some hope remains\n",
      "961\n",
      "Hey, I have re-entered the loop\n",
      "Surpassed min iteration barrier\n",
      "Oh no. The end\n",
      "square of i crossed 100\n",
      "Attempted iterations  32\n"
     ]
    },
    {
     "data": {
      "text/plain": [
       "32"
      ]
     },
     "execution_count": 23,
     "metadata": {},
     "output_type": "execute_result"
    }
   ],
   "source": [
    "max_min_iter(50)"
   ]
  },
  {
   "cell_type": "code",
   "execution_count": null,
   "metadata": {},
   "outputs": [],
   "source": []
  },
  {
   "cell_type": "code",
   "execution_count": null,
   "metadata": {},
   "outputs": [],
   "source": []
  },
  {
   "cell_type": "code",
   "execution_count": null,
   "metadata": {},
   "outputs": [],
   "source": []
  },
  {
   "cell_type": "markdown",
   "metadata": {},
   "source": [
    "## Versions"
   ]
  },
  {
   "cell_type": "code",
   "execution_count": 97,
   "metadata": {
    "ExecuteTime": {
     "end_time": "2019-02-11T17:59:58.763113Z",
     "start_time": "2019-02-11T17:59:58.495424Z"
    }
   },
   "outputs": [
    {
     "data": {
      "text/html": [
       "<table><tr><th>Software</th><th>Version</th></tr><tr><td>QuTiP</td><td>4.2.0</td></tr><tr><td>Numpy</td><td>1.14.3</td></tr><tr><td>SciPy</td><td>1.1.0</td></tr><tr><td>matplotlib</td><td>3.0.2</td></tr><tr><td>Cython</td><td>0.28.1</td></tr><tr><td>Number of CPUs</td><td>2</td></tr><tr><td>BLAS Info</td><td>INTEL MKL</td></tr><tr><td>IPython</td><td>6.3.1</td></tr><tr><td>Python</td><td>3.6.8 |Anaconda, Inc.| (default, Dec 29 2018, 19:04:46) \n",
       "[GCC 4.2.1 Compatible Clang 4.0.1 (tags/RELEASE_401/final)]</td></tr><tr><td>OS</td><td>posix [darwin]</td></tr><tr><td colspan='2'>Mon Feb 11 23:29:58 2019 IST</td></tr></table>"
      ],
      "text/plain": [
       "<IPython.core.display.HTML object>"
      ]
     },
     "execution_count": 97,
     "metadata": {},
     "output_type": "execute_result"
    }
   ],
   "source": [
    "from qutip.ipynbtools import version_table\n",
    "\n",
    "version_table()"
   ]
  }
 ],
 "metadata": {
  "kernelspec": {
   "display_name": "Python 3",
   "language": "python",
   "name": "python3"
  },
  "language_info": {
   "codemirror_mode": {
    "name": "ipython",
    "version": 3
   },
   "file_extension": ".py",
   "mimetype": "text/x-python",
   "name": "python",
   "nbconvert_exporter": "python",
   "pygments_lexer": "ipython3",
   "version": "3.6.8"
  },
  "toc": {
   "base_numbering": 1,
   "nav_menu": {},
   "number_sections": true,
   "sideBar": true,
   "skip_h1_title": false,
   "title_cell": "Table of Contents",
   "title_sidebar": "Contents",
   "toc_cell": false,
   "toc_position": {},
   "toc_section_display": true,
   "toc_window_display": true
  },
  "varInspector": {
   "cols": {
    "lenName": 16,
    "lenType": 16,
    "lenVar": 40
   },
   "kernels_config": {
    "python": {
     "delete_cmd_postfix": "",
     "delete_cmd_prefix": "del ",
     "library": "var_list.py",
     "varRefreshCmd": "print(var_dic_list())"
    },
    "r": {
     "delete_cmd_postfix": ") ",
     "delete_cmd_prefix": "rm(",
     "library": "var_list.r",
     "varRefreshCmd": "cat(var_dic_list()) "
    }
   },
   "types_to_exclude": [
    "module",
    "function",
    "builtin_function_or_method",
    "instance",
    "_Feature"
   ],
   "window_display": false
  }
 },
 "nbformat": 4,
 "nbformat_minor": 2
}
