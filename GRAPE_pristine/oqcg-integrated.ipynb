{
 "cells": [
  {
   "cell_type": "markdown",
   "metadata": {},
   "source": [
    "# Imports"
   ]
  },
  {
   "cell_type": "markdown",
   "metadata": {},
   "source": [
    "Need to have jate.py in your folder"
   ]
  },
  {
   "cell_type": "code",
   "execution_count": 102,
   "metadata": {
    "ExecuteTime": {
     "end_time": "2019-02-15T05:51:34.476309Z",
     "start_time": "2019-02-15T05:51:34.450761Z"
    }
   },
   "outputs": [],
   "source": [
    "%run jate.py #will import everything"
   ]
  },
  {
   "cell_type": "markdown",
   "metadata": {},
   "source": [
    "# Next chapter"
   ]
  },
  {
   "cell_type": "markdown",
   "metadata": {},
   "source": [
    "## memory clear (uses regex, so be careful)"
   ]
  },
  {
   "cell_type": "code",
   "execution_count": 3,
   "metadata": {
    "ExecuteTime": {
     "end_time": "2019-02-15T04:18:04.164645Z",
     "start_time": "2019-02-15T04:18:04.159054Z"
    }
   },
   "outputs": [],
   "source": [
    "%reset_selective -f var1, var2  # replace var1, var2 with your defined ones"
   ]
  },
  {
   "cell_type": "markdown",
   "metadata": {},
   "source": [
    "## Building parts"
   ]
  },
  {
   "cell_type": "markdown",
   "metadata": {},
   "source": [
    "### Building the things to be calculated only once"
   ]
  },
  {
   "cell_type": "code",
   "execution_count": 4,
   "metadata": {
    "ExecuteTime": {
     "end_time": "2019-02-15T04:18:04.342018Z",
     "start_time": "2019-02-15T04:18:04.333176Z"
    },
    "code_folding": []
   },
   "outputs": [],
   "source": [
    "def maker(omega_1, H_0, H_1, T_s, Lin, d=2, gamma=0.1):\n",
    "    r\"\"\"maker\n",
    "    Makes all the things that remain constant throught the program, but are \n",
    "    repeatedly used.\n",
    "    \n",
    "\n",
    "    Parameters\n",
    "    ----------\n",
    "    omega_1 : float\n",
    "              frequency corresponding to half of the difference between \n",
    "              energy levels of the qubit\n",
    "              \n",
    "    H_0     : Qobj\n",
    "              Bare Hamiltonian \n",
    "              \n",
    "    H_1     : Qobj\n",
    "              Interaction Hamiltonian \n",
    "              \n",
    "    T_s     : Qobj\n",
    "              Unitary to be implemented in the Hilbert space\n",
    "    \n",
    "    Lin     : Qobj\n",
    "              Linbladian operators\n",
    "\n",
    "    d       : int\n",
    "              Dimension of the matrix. Defaults to 2\n",
    "    \n",
    "    gamma   : float\n",
    "              Damping constant of the Linbladian\n",
    "\n",
    "    \n",
    "    Returns\n",
    "    -------\n",
    "    \n",
    "    ih0     : Qobj\n",
    "              $I\\otimes H_{0}$\n",
    "              \n",
    "    ih1     : Qobj\n",
    "              $I\\otimes H_{1}$\n",
    "\n",
    "    h0ci    : Qobj\n",
    "              $H_{0}^{*}\\otimes I $\n",
    "\n",
    "    h1ci    : Qobj\n",
    "              $H_{1}^{*}\\otimes I $\n",
    "\n",
    "    T       : Qobj\n",
    "              Target unitary transformed to the Liouville space\n",
    "\n",
    "    linbladian : Qobj\n",
    "                 The full lindbladian term as it appears on transformation to \n",
    "                 the Liouville space.\n",
    "        \n",
    "    \"\"\"\n",
    "    I = identity(d)\n",
    "    L_I = tensor(I, I)\n",
    "    ih0 = tensor(I, H_0) \n",
    "    ih1 = tensor(I, H_1) \n",
    "    h0ci = tensor(H_0.conj(), I) \n",
    "    h1ci = tensor(H_1.conj(), I)\n",
    "    x_k = ih1 - h1ci\n",
    "    term1 = tensor(Lin.trans(), Lin)\n",
    "    term2 = tensor(I, ((Lin.dag())*(Lin)))\n",
    "    term3 = tensor(((Lin.trans())*(Lin.conj())), I)\n",
    "    lindbladian = 1j*(gamma)*(term1 - 0.5*(term2 + term3))\n",
    "    T = tensor(T_s.trans(), T_s) # Transforming $T_{s}$ to liouville space\n",
    "    \n",
    "    \n",
    "    return ih0, ih1, h0ci, h1ci, x_k, lindbladian, T, L_I"
   ]
  },
  {
   "cell_type": "code",
   "execution_count": 77,
   "metadata": {
    "ExecuteTime": {
     "end_time": "2019-02-15T05:20:24.525601Z",
     "start_time": "2019-02-15T05:20:24.516300Z"
    }
   },
   "outputs": [],
   "source": [
    "omega_1 = 0.5\n",
    "H_0 = omega_1*sigmaz() \n",
    "H_1 = sigmay()\n",
    "T_s = sigmax() \n",
    "Lin = sigmaz()\n",
    "gamma = 0.1 # check for default value\n",
    "ih0, ih1, h0ci, h1ci, x_k, lindbladian, T, L_I  = maker(omega_1,\n",
    "                                                  H_0, H_1, T_s, \n",
    "                                                  Lin, d=2, gamma=gamma)"
   ]
  },
  {
   "cell_type": "code",
   "execution_count": 78,
   "metadata": {
    "ExecuteTime": {
     "end_time": "2019-02-15T05:20:34.018983Z",
     "start_time": "2019-02-15T05:20:34.014280Z"
    }
   },
   "outputs": [
    {
     "data": {
      "text/plain": [
       "0.1"
      ]
     },
     "execution_count": 78,
     "metadata": {},
     "output_type": "execute_result"
    }
   ],
   "source": [
    "gamma"
   ]
  },
  {
   "cell_type": "code",
   "execution_count": 6,
   "metadata": {
    "ExecuteTime": {
     "end_time": "2019-02-15T04:18:04.371400Z",
     "start_time": "2019-02-15T04:18:04.360164Z"
    }
   },
   "outputs": [
    {
     "data": {
      "text/latex": [
       "Quantum object: dims = [[2, 2], [2, 2]], shape = (4, 4), type = oper, isherm = True\\begin{equation*}\\left(\\begin{array}{*{11}c}1.0 & 0.0 & 0.0 & 0.0\\\\0.0 & 1.0 & 0.0 & 0.0\\\\0.0 & 0.0 & 1.0 & 0.0\\\\0.0 & 0.0 & 0.0 & 1.0\\\\\\end{array}\\right)\\end{equation*}"
      ],
      "text/plain": [
       "Quantum object: dims = [[2, 2], [2, 2]], shape = (4, 4), type = oper, isherm = True\n",
       "Qobj data =\n",
       "[[1. 0. 0. 0.]\n",
       " [0. 1. 0. 0.]\n",
       " [0. 0. 1. 0.]\n",
       " [0. 0. 0. 1.]]"
      ]
     },
     "execution_count": 6,
     "metadata": {},
     "output_type": "execute_result"
    }
   ],
   "source": [
    "L_I"
   ]
  },
  {
   "cell_type": "markdown",
   "metadata": {},
   "source": [
    "### Building $A(t)$"
   ]
  },
  {
   "cell_type": "code",
   "execution_count": 7,
   "metadata": {
    "ExecuteTime": {
     "end_time": "2019-02-15T04:18:04.432688Z",
     "start_time": "2019-02-15T04:18:04.428522Z"
    }
   },
   "outputs": [],
   "source": [
    "def A(xi):\n",
    "    r\"\"\"making $A(t)$\"\"\"\n",
    "    A = ih0 - h0ci + xi*(ih1 - h1ci) + lindbladian\n",
    "    return A"
   ]
  },
  {
   "cell_type": "code",
   "execution_count": 8,
   "metadata": {
    "ExecuteTime": {
     "end_time": "2019-02-15T04:18:04.444462Z",
     "start_time": "2019-02-15T04:18:04.436635Z"
    }
   },
   "outputs": [
    {
     "data": {
      "text/latex": [
       "Quantum object: dims = [[2, 2], [2, 2]], shape = (4, 4), type = oper, isherm = False\\begin{equation*}\\left(\\begin{array}{*{11}c}0.0 & -0.500j & -0.500j & 0.0\\\\0.500j & (-1.0-0.200j) & 0.0 & -0.500j\\\\0.500j & 0.0 & (1.0-0.200j) & -0.500j\\\\0.0 & 0.500j & 0.500j & 0.0\\\\\\end{array}\\right)\\end{equation*}"
      ],
      "text/plain": [
       "Quantum object: dims = [[2, 2], [2, 2]], shape = (4, 4), type = oper, isherm = False\n",
       "Qobj data =\n",
       "[[ 0.+0.j   0.-0.5j  0.-0.5j  0.+0.j ]\n",
       " [ 0.+0.5j -1.-0.2j  0.+0.j   0.-0.5j]\n",
       " [ 0.+0.5j  0.+0.j   1.-0.2j  0.-0.5j]\n",
       " [ 0.+0.j   0.+0.5j  0.+0.5j  0.+0.j ]]"
      ]
     },
     "execution_count": 8,
     "metadata": {},
     "output_type": "execute_result"
    }
   ],
   "source": [
    "A(0.5)"
   ]
  },
  {
   "cell_type": "markdown",
   "metadata": {},
   "source": [
    "### Building $L(t)$ and the Identity in the Liouville space"
   ]
  },
  {
   "cell_type": "code",
   "execution_count": 9,
   "metadata": {
    "ExecuteTime": {
     "end_time": "2019-02-15T04:18:04.515132Z",
     "start_time": "2019-02-15T04:18:04.510761Z"
    }
   },
   "outputs": [],
   "source": [
    "def L(xi, dt):\n",
    "    r\"\"\"Making $L(t) from $A(t)$\"\"\"\n",
    "    L = (-1j*A(xi)*dt).expm()\n",
    "    return L"
   ]
  },
  {
   "cell_type": "code",
   "execution_count": 10,
   "metadata": {
    "ExecuteTime": {
     "end_time": "2019-02-15T04:18:04.852298Z",
     "start_time": "2019-02-15T04:18:04.520725Z"
    }
   },
   "outputs": [
    {
     "data": {
      "text/latex": [
       "Quantum object: dims = [[2, 2], [2, 2]], shape = (4, 4), type = oper, isherm = False\\begin{equation*}\\left(\\begin{array}{*{11}c}1.000 & (-4.999\\times10^{-04}-2.500\\times10^{-07}j) & (-4.999\\times10^{-04}+2.500\\times10^{-07}j) & 2.500\\times10^{-07}\\\\(4.999\\times10^{-04}+2.500\\times10^{-07}j) & (1.000+9.998\\times10^{-04}j) & -2.500\\times10^{-07} & (-4.999\\times10^{-04}-2.500\\times10^{-07}j)\\\\(4.999\\times10^{-04}-2.500\\times10^{-07}j) & -2.500\\times10^{-07} & (1.000-9.998\\times10^{-04}j) & (-4.999\\times10^{-04}+2.500\\times10^{-07}j)\\\\2.500\\times10^{-07} & (4.999\\times10^{-04}+2.500\\times10^{-07}j) & (4.999\\times10^{-04}-2.500\\times10^{-07}j) & 1.000\\\\\\end{array}\\right)\\end{equation*}"
      ],
      "text/plain": [
       "Quantum object: dims = [[2, 2], [2, 2]], shape = (4, 4), type = oper, isherm = False\n",
       "Qobj data =\n",
       "[[ 9.99999750e-01+0.00000000e+00j -4.99949837e-04-2.49966628e-07j\n",
       "  -4.99949837e-04+2.49966628e-07j  2.49983293e-07+0.00000000e+00j]\n",
       " [ 4.99949837e-04+2.49966628e-07j  9.99799270e-01+9.99799687e-04j\n",
       "  -2.49966628e-07+0.00000000e+00j -4.99949837e-04-2.49966628e-07j]\n",
       " [ 4.99949837e-04-2.49966628e-07j -2.49966628e-07+0.00000000e+00j\n",
       "   9.99799270e-01-9.99799687e-04j -4.99949837e-04+2.49966628e-07j]\n",
       " [ 2.49983293e-07+0.00000000e+00j  4.99949837e-04+2.49966628e-07j\n",
       "   4.99949837e-04-2.49966628e-07j  9.99999750e-01+0.00000000e+00j]]"
      ]
     },
     "execution_count": 10,
     "metadata": {},
     "output_type": "execute_result"
    }
   ],
   "source": [
    "L(0.5, 0.001)"
   ]
  },
  {
   "cell_type": "markdown",
   "metadata": {},
   "source": [
    "## Major functions"
   ]
  },
  {
   "cell_type": "markdown",
   "metadata": {},
   "source": [
    "### Major functions 1"
   ]
  },
  {
   "cell_type": "code",
   "execution_count": 11,
   "metadata": {
    "ExecuteTime": {
     "end_time": "2019-02-15T04:18:04.857487Z",
     "start_time": "2019-02-15T04:18:04.854162Z"
    }
   },
   "outputs": [],
   "source": [
    "# building the function to optimize (optimizee)\n",
    "def L_vec(xi_vec, dt):\n",
    "    r\"\"\"Building the vector of differential $L(t)$\"\"\"\n",
    "    L_vec = [L(xi, dt) for xi in xi_vec] \n",
    "    return L_vec"
   ]
  },
  {
   "cell_type": "code",
   "execution_count": 12,
   "metadata": {
    "ExecuteTime": {
     "end_time": "2019-02-15T04:18:04.863150Z",
     "start_time": "2019-02-15T04:18:04.859792Z"
    }
   },
   "outputs": [],
   "source": [
    "def fidelity_calc(A, B):\n",
    "    r\"\"\"Making a generalised fidelity function\"\"\"\n",
    "    first_part = (A - B).dag()\n",
    "    second_part = (A - B)\n",
    "    f_int = (first_part* second_part)\n",
    "    f = f_int.tr()\n",
    "    return f"
   ]
  },
  {
   "cell_type": "code",
   "execution_count": 13,
   "metadata": {
    "ExecuteTime": {
     "end_time": "2019-02-15T04:18:04.869317Z",
     "start_time": "2019-02-15T04:18:04.865142Z"
    }
   },
   "outputs": [],
   "source": [
    "def L_full_maker(xi_vec, dt):\n",
    "    r\"\"\"Building the $L(t)$ for the total time $t$\"\"\"\n",
    "    xi_vec_size = xi_vec.size # finding the size of xi\n",
    "    L_full = L_I # Identity for the for loop of L\n",
    "    L_v = L_vec(xi_vec, dt) # calling L_vec\n",
    "    for i in range(xi_vec_size): # generating L_full\n",
    "        L_full = L_full*L_v[xi_vec_size - 1 - i]\n",
    "    return L_full"
   ]
  },
  {
   "cell_type": "code",
   "execution_count": 14,
   "metadata": {
    "ExecuteTime": {
     "end_time": "2019-02-15T04:18:04.874570Z",
     "start_time": "2019-02-15T04:18:04.871360Z"
    }
   },
   "outputs": [],
   "source": [
    "def F(xi_vec, dt):\n",
    "    r\"\"\"Using the fidelity metric to find out the closeness between $T$\n",
    "    and $L(t)$\"\"\"\n",
    "    L_full = L_full_maker(xi_vec, dt)\n",
    "    F = real(-fidelity_calc(T, L_full))   \n",
    "    return F"
   ]
  },
  {
   "cell_type": "markdown",
   "metadata": {},
   "source": [
    "### Testing major functions 1"
   ]
  },
  {
   "cell_type": "code",
   "execution_count": 15,
   "metadata": {
    "ExecuteTime": {
     "end_time": "2019-02-15T04:18:04.883195Z",
     "start_time": "2019-02-15T04:18:04.876798Z"
    }
   },
   "outputs": [
    {
     "data": {
      "text/plain": [
       "4.0"
      ]
     },
     "execution_count": 15,
     "metadata": {},
     "output_type": "execute_result"
    }
   ],
   "source": [
    "fidelity_calc(sigmax(), sigmay())"
   ]
  },
  {
   "cell_type": "code",
   "execution_count": 16,
   "metadata": {
    "ExecuteTime": {
     "end_time": "2019-02-15T04:18:04.891480Z",
     "start_time": "2019-02-15T04:18:04.885115Z"
    }
   },
   "outputs": [
    {
     "data": {
      "text/plain": [
       "0.0"
      ]
     },
     "execution_count": 16,
     "metadata": {},
     "output_type": "execute_result"
    }
   ],
   "source": [
    "fidelity_calc(sigmay(), sigmay())"
   ]
  },
  {
   "cell_type": "code",
   "execution_count": 17,
   "metadata": {
    "ExecuteTime": {
     "end_time": "2019-02-15T04:18:04.899014Z",
     "start_time": "2019-02-15T04:18:04.893953Z"
    }
   },
   "outputs": [
    {
     "data": {
      "text/plain": [
       "array([1., 2.])"
      ]
     },
     "execution_count": 17,
     "metadata": {},
     "output_type": "execute_result"
    }
   ],
   "source": [
    "xi_vec_test = array([1.0, 2.0])\n",
    "xi_vec_test"
   ]
  },
  {
   "cell_type": "code",
   "execution_count": 18,
   "metadata": {
    "ExecuteTime": {
     "end_time": "2019-02-15T04:18:04.905283Z",
     "start_time": "2019-02-15T04:18:04.901220Z"
    }
   },
   "outputs": [
    {
     "data": {
      "text/plain": [
       "2"
      ]
     },
     "execution_count": 18,
     "metadata": {},
     "output_type": "execute_result"
    }
   ],
   "source": [
    "xi_vec_test.size"
   ]
  },
  {
   "cell_type": "code",
   "execution_count": 19,
   "metadata": {
    "ExecuteTime": {
     "end_time": "2019-02-15T04:18:04.913237Z",
     "start_time": "2019-02-15T04:18:04.907808Z"
    }
   },
   "outputs": [
    {
     "data": {
      "text/plain": [
       "[1.0, 4.0]"
      ]
     },
     "execution_count": 19,
     "metadata": {},
     "output_type": "execute_result"
    }
   ],
   "source": [
    "w_vec = [xi**2 for xi in xi_vec_test]\n",
    "w_vec"
   ]
  },
  {
   "cell_type": "code",
   "execution_count": 20,
   "metadata": {
    "ExecuteTime": {
     "end_time": "2019-02-15T04:18:04.928649Z",
     "start_time": "2019-02-15T04:18:04.915686Z"
    }
   },
   "outputs": [
    {
     "data": {
      "text/plain": [
       "-7.998400634493139"
      ]
     },
     "execution_count": 20,
     "metadata": {},
     "output_type": "execute_result"
    }
   ],
   "source": [
    "# F(xi_vec, dt)\n",
    "F(xi_vec_test, 0.001)"
   ]
  },
  {
   "cell_type": "code",
   "execution_count": 21,
   "metadata": {
    "ExecuteTime": {
     "end_time": "2019-02-15T04:18:04.940661Z",
     "start_time": "2019-02-15T04:18:04.931215Z"
    }
   },
   "outputs": [],
   "source": [
    "L_v = L_vec(xi_vec_test, 0.001)"
   ]
  },
  {
   "cell_type": "code",
   "execution_count": 22,
   "metadata": {
    "ExecuteTime": {
     "end_time": "2019-02-15T04:18:04.948546Z",
     "start_time": "2019-02-15T04:18:04.942771Z"
    }
   },
   "outputs": [
    {
     "data": {
      "text/plain": [
       "[Quantum object: dims = [[2, 2], [2, 2]], shape = (4, 4), type = oper, isherm = False\n",
       " Qobj data =\n",
       " [[ 9.99999000e-01+0.00000000e+00j -9.99899173e-04-4.99933130e-07j\n",
       "   -9.99899173e-04+4.99933130e-07j  9.99932920e-07+0.00000000e+00j]\n",
       "  [ 9.99899173e-04+4.99933130e-07j  9.99798520e-01+9.99799187e-04j\n",
       "   -9.99866260e-07+0.00000000e+00j -9.99899173e-04-4.99933130e-07j]\n",
       "  [ 9.99899173e-04-4.99933130e-07j -9.99866260e-07+0.00000000e+00j\n",
       "    9.99798520e-01-9.99799187e-04j -9.99899173e-04+4.99933130e-07j]\n",
       "  [ 9.99932920e-07+0.00000000e+00j  9.99899173e-04+4.99933130e-07j\n",
       "    9.99899173e-04-4.99933130e-07j  9.99999000e-01+0.00000000e+00j]],\n",
       " Quantum object: dims = [[2, 2], [2, 2]], shape = (4, 4), type = oper, isherm = False\n",
       " Qobj data =\n",
       " [[ 9.99996000e-01+0.00000000e+00j -1.99979435e-03-9.99865260e-07j\n",
       "   -1.99979435e-03+9.99865260e-07j  3.99972768e-06+0.00000000e+00j]\n",
       "  [ 1.99979435e-03+9.99865260e-07j  9.99795521e-01+9.99797187e-04j\n",
       "   -3.99946104e-06+0.00000000e+00j -1.99979435e-03-9.99865260e-07j]\n",
       "  [ 1.99979435e-03-9.99865260e-07j -3.99946104e-06+0.00000000e+00j\n",
       "    9.99795521e-01-9.99797187e-04j -1.99979435e-03+9.99865260e-07j]\n",
       "  [ 3.99972768e-06+0.00000000e+00j  1.99979435e-03+9.99865260e-07j\n",
       "    1.99979435e-03-9.99865260e-07j  9.99996000e-01+0.00000000e+00j]]]"
      ]
     },
     "execution_count": 22,
     "metadata": {},
     "output_type": "execute_result"
    }
   ],
   "source": [
    "L_v"
   ]
  },
  {
   "cell_type": "markdown",
   "metadata": {},
   "source": [
    "### Major Functions 2"
   ]
  },
  {
   "cell_type": "code",
   "execution_count": 23,
   "metadata": {
    "ExecuteTime": {
     "end_time": "2019-02-15T04:18:04.958019Z",
     "start_time": "2019-02-15T04:18:04.950751Z"
    }
   },
   "outputs": [],
   "source": [
    "def L_comma_k_maker(xi_vec, k, dt):\n",
    "    r\"\"\"Making of the derivative of full $L(t)$ at time $t_{k}$\"\"\"\n",
    "    N = xi_vec.size \n",
    "    # Determining the size of xi, and thus the time_steps indirectly.\n",
    "    L_v = L_vec(xi_vec, dt)# Making of the full $L(t)$\n",
    "    inner_part = L_I # Beginner for the for loop\n",
    "    for i in range(N):\n",
    "        if i == ( N - 1 - k ):\n",
    "            # The step at which $X_{k}(t)$ has to be inserted \n",
    "            inner_part = inner_part*x_k*L_v[k - 1]\n",
    "        else:\n",
    "            # Usual multiplications of $L_{k}$\n",
    "            inner_part = inner_part*L_v[N - 1 - i]\n",
    "    l_comma_k = inner_part\n",
    "    return l_comma_k\n",
    "    "
   ]
  },
  {
   "cell_type": "code",
   "execution_count": 24,
   "metadata": {
    "ExecuteTime": {
     "end_time": "2019-02-15T04:18:04.969086Z",
     "start_time": "2019-02-15T04:18:04.960403Z"
    }
   },
   "outputs": [
    {
     "data": {
      "text/latex": [
       "Quantum object: dims = [[2, 2], [2, 2]], shape = (4, 4), type = oper, isherm = False\\begin{equation*}\\left(\\begin{array}{*{11}c}1.000 & (-0.003-3.499\\times10^{-06}j) & (-0.003+3.499\\times10^{-06}j) & 8.999\\times10^{-06}\\\\(0.003+2.499\\times10^{-06}j) & (1.000+0.002j) & (-8.998\\times10^{-06}+2.999\\times10^{-09}j) & (-0.003-2.499\\times10^{-06}j)\\\\(0.003-2.499\\times10^{-06}j) & (-8.998\\times10^{-06}-2.999\\times10^{-09}j) & (1.000-0.002j) & (-0.003+2.499\\times10^{-06}j)\\\\8.999\\times10^{-06} & (0.003+3.499\\times10^{-06}j) & (0.003-3.499\\times10^{-06}j) & 1.000\\\\\\end{array}\\right)\\end{equation*}"
      ],
      "text/plain": [
       "Quantum object: dims = [[2, 2], [2, 2]], shape = (4, 4), type = oper, isherm = False\n",
       "Qobj data =\n",
       "[[ 9.99991001e-01+0.00000000e+00j -2.99927960e-03-3.49898670e-06j\n",
       "  -2.99927960e-03+3.49898670e-06j  8.99883703e-06+0.00000000e+00j]\n",
       " [ 2.99948056e-03+2.49939255e-06j  9.99589083e-01+1.99918650e-03j\n",
       "  -8.99750347e-06+2.99899242e-09j -2.99948056e-03-2.49939255e-06j]\n",
       " [ 2.99948056e-03-2.49939255e-06j -8.99750347e-06-2.99899242e-09j\n",
       "   9.99589083e-01-1.99918650e-03j -2.99948056e-03+2.49939255e-06j]\n",
       " [ 8.99883703e-06+0.00000000e+00j  2.99927960e-03+3.49898670e-06j\n",
       "   2.99927960e-03-3.49898670e-06j  9.99991001e-01+0.00000000e+00j]]"
      ]
     },
     "execution_count": 24,
     "metadata": {},
     "output_type": "execute_result"
    }
   ],
   "source": [
    "# L_comma_k_maker(xi_vec, k, dt)\n",
    "L_comma_k_maker(xi_vec_test, 2, 0.001)"
   ]
  },
  {
   "cell_type": "code",
   "execution_count": 25,
   "metadata": {
    "ExecuteTime": {
     "end_time": "2019-02-15T04:18:04.975594Z",
     "start_time": "2019-02-15T04:18:04.970827Z"
    }
   },
   "outputs": [],
   "source": [
    "def updater(xi_vec, dt, epsilon):\n",
    "    r\"\"\"Implementing the GRAPE update step\"\"\"\n",
    "    xi_vec_size = xi_vec.size # finding the size of xi\n",
    "    L_full = L_full_maker(xi_vec, dt)\n",
    "    di = []\n",
    "    for k in range(xi_vec_size):\n",
    "        # Building the thing to be added to the old function\n",
    "        L_comma_k = L_comma_k_maker(xi_vec, k, dt)\n",
    "        differentiated = T - L_comma_k\n",
    "        plain = T - L_full\n",
    "        c = -differentiated.dag()*plain\n",
    "        d = -plain.dag()*differentiated\n",
    "        inside = c.tr() + d.tr()\n",
    "        di.append(epsilon*inside)\n",
    "\n",
    "    diff = array(di)\n",
    "    xi_new_vec = xi_vec + diff\n",
    "    return diff, xi_new_vec\n",
    "    "
   ]
  },
  {
   "cell_type": "code",
   "execution_count": 26,
   "metadata": {
    "ExecuteTime": {
     "end_time": "2019-02-15T04:18:04.996485Z",
     "start_time": "2019-02-15T04:18:04.977913Z"
    }
   },
   "outputs": [
    {
     "data": {
      "text/plain": [
       "(array([-0.008+0.j, -0.008+0.j]), array([0.992+0.j, 1.992+0.j]))"
      ]
     },
     "execution_count": 26,
     "metadata": {},
     "output_type": "execute_result"
    }
   ],
   "source": [
    "#  updater(xi_vec, dt, epsilon)\n",
    "updater(xi_vec_test, 0.001, 0.001)"
   ]
  },
  {
   "cell_type": "code",
   "execution_count": 27,
   "metadata": {
    "ExecuteTime": {
     "end_time": "2019-02-15T04:18:05.001867Z",
     "start_time": "2019-02-15T04:18:04.998658Z"
    }
   },
   "outputs": [],
   "source": [
    "import time"
   ]
  },
  {
   "cell_type": "code",
   "execution_count": 28,
   "metadata": {
    "ExecuteTime": {
     "end_time": "2019-02-15T04:18:05.007113Z",
     "start_time": "2019-02-15T04:18:05.003773Z"
    }
   },
   "outputs": [],
   "source": [
    "total_time_evo = 2*pi # total time allowed for evolution"
   ]
  },
  {
   "cell_type": "code",
   "execution_count": 29,
   "metadata": {
    "ExecuteTime": {
     "end_time": "2019-02-15T04:18:05.013409Z",
     "start_time": "2019-02-15T04:18:05.008986Z"
    }
   },
   "outputs": [],
   "source": [
    "times = linspace(0, total_time_evo, 500) "
   ]
  },
  {
   "cell_type": "code",
   "execution_count": 30,
   "metadata": {
    "ExecuteTime": {
     "end_time": "2019-02-15T04:18:05.017941Z",
     "start_time": "2019-02-15T04:18:05.015315Z"
    }
   },
   "outputs": [],
   "source": [
    "# vector of times at which discretization \n",
    "# is carried out"
   ]
  },
  {
   "cell_type": "code",
   "execution_count": 31,
   "metadata": {
    "ExecuteTime": {
     "end_time": "2019-02-15T04:18:05.024763Z",
     "start_time": "2019-02-15T04:18:05.020097Z"
    }
   },
   "outputs": [
    {
     "data": {
      "text/latex": [
       "Quantum object: dims = [[2], [2]], shape = (2, 2), type = oper, isherm = True\\begin{equation*}\\left(\\begin{array}{*{11}c}0.0 & 1.0\\\\1.0 & 0.0\\\\\\end{array}\\right)\\end{equation*}"
      ],
      "text/plain": [
       "Quantum object: dims = [[2], [2]], shape = (2, 2), type = oper, isherm = True\n",
       "Qobj data =\n",
       "[[0. 1.]\n",
       " [1. 0.]]"
      ]
     },
     "execution_count": 31,
     "metadata": {},
     "output_type": "execute_result"
    }
   ],
   "source": [
    "U = T_s\n",
    "U"
   ]
  },
  {
   "cell_type": "code",
   "execution_count": 32,
   "metadata": {
    "ExecuteTime": {
     "end_time": "2019-02-15T04:18:05.030220Z",
     "start_time": "2019-02-15T04:18:05.026842Z"
    }
   },
   "outputs": [],
   "source": [
    "R = 500"
   ]
  },
  {
   "cell_type": "code",
   "execution_count": 33,
   "metadata": {
    "ExecuteTime": {
     "end_time": "2019-02-15T04:18:05.037601Z",
     "start_time": "2019-02-15T04:18:05.032140Z"
    }
   },
   "outputs": [
    {
     "data": {
      "text/plain": [
       "[Quantum object: dims = [[2], [2]], shape = (2, 2), type = oper, isherm = True\n",
       " Qobj data =\n",
       " [[0.+0.j 0.-1.j]\n",
       "  [0.+1.j 0.+0.j]]]"
      ]
     },
     "execution_count": 33,
     "metadata": {},
     "output_type": "execute_result"
    }
   ],
   "source": [
    "H_ops = [H_1]\n",
    "H_ops"
   ]
  },
  {
   "cell_type": "code",
   "execution_count": 34,
   "metadata": {
    "ExecuteTime": {
     "end_time": "2019-02-15T04:18:05.044866Z",
     "start_time": "2019-02-15T04:18:05.039688Z"
    }
   },
   "outputs": [
    {
     "data": {
      "text/plain": [
       "['$g_{no diss}$']"
      ]
     },
     "execution_count": 34,
     "metadata": {},
     "output_type": "execute_result"
    }
   ],
   "source": [
    "H_labels = [r'$g_{no diss}$']\n",
    "H_labels"
   ]
  },
  {
   "cell_type": "code",
   "execution_count": 35,
   "metadata": {
    "ExecuteTime": {
     "end_time": "2019-02-15T04:18:05.055730Z",
     "start_time": "2019-02-15T04:18:05.047421Z"
    }
   },
   "outputs": [
    {
     "data": {
      "text/latex": [
       "Quantum object: dims = [[2], [2]], shape = (2, 2), type = oper, isherm = True\\begin{equation*}\\left(\\begin{array}{*{11}c}0.500 & 0.0\\\\0.0 & -0.500\\\\\\end{array}\\right)\\end{equation*}"
      ],
      "text/plain": [
       "Quantum object: dims = [[2], [2]], shape = (2, 2), type = oper, isherm = True\n",
       "Qobj data =\n",
       "[[ 0.5  0. ]\n",
       " [ 0.  -0.5]]"
      ]
     },
     "execution_count": 35,
     "metadata": {},
     "output_type": "execute_result"
    }
   ],
   "source": [
    "H0 = H_0\n",
    "H0"
   ]
  },
  {
   "cell_type": "code",
   "execution_count": 36,
   "metadata": {
    "ExecuteTime": {
     "end_time": "2019-02-15T04:18:05.061893Z",
     "start_time": "2019-02-15T04:18:05.057926Z"
    }
   },
   "outputs": [],
   "source": [
    "c_ops = []"
   ]
  },
  {
   "cell_type": "code",
   "execution_count": 37,
   "metadata": {
    "ExecuteTime": {
     "end_time": "2019-02-15T04:18:05.067423Z",
     "start_time": "2019-02-15T04:18:05.064268Z"
    }
   },
   "outputs": [],
   "source": [
    "from qutip.control.grape import plot_grape_control_fields, _overlap \n",
    "from qutip.control.grape import grape_unitary_adaptive, cy_grape_unitary"
   ]
  },
  {
   "cell_type": "code",
   "execution_count": 70,
   "metadata": {
    "ExecuteTime": {
     "end_time": "2019-02-15T05:09:14.883598Z",
     "start_time": "2019-02-15T05:09:14.872019Z"
    }
   },
   "outputs": [],
   "source": [
    "from scipy.interpolate import interp1d\n",
    "from qutip.ui.progressbar import TextProgressBar, EnhancedTextProgressBar"
   ]
  },
  {
   "cell_type": "code",
   "execution_count": 39,
   "metadata": {
    "ExecuteTime": {
     "end_time": "2019-02-15T04:18:05.080831Z",
     "start_time": "2019-02-15T04:18:05.075552Z"
    }
   },
   "outputs": [],
   "source": [
    "u0 = array([rand(len(times)) * 2 * pi * 0.05 for _ in range(len(H_ops))])"
   ]
  },
  {
   "cell_type": "code",
   "execution_count": 40,
   "metadata": {
    "ExecuteTime": {
     "end_time": "2019-02-15T04:18:05.086403Z",
     "start_time": "2019-02-15T04:18:05.082332Z"
    }
   },
   "outputs": [],
   "source": [
    "from numpy import convolve\n",
    "u0 = [convolve(ones(10)/10, u0[idx,:], mode='same') for idx in range(len(H_ops))]"
   ]
  },
  {
   "cell_type": "code",
   "execution_count": 41,
   "metadata": {
    "ExecuteTime": {
     "end_time": "2019-02-15T04:18:05.094307Z",
     "start_time": "2019-02-15T04:18:05.088299Z"
    }
   },
   "outputs": [],
   "source": [
    "u_limits = None #[0, 1 * 2 * pi]\n",
    "alpha = None"
   ]
  },
  {
   "cell_type": "code",
   "execution_count": 42,
   "metadata": {
    "ExecuteTime": {
     "end_time": "2019-02-15T04:25:10.842514Z",
     "start_time": "2019-02-15T04:18:05.096860Z"
    }
   },
   "outputs": [
    {
     "name": "stdout",
     "output_type": "stream",
     "text": [
      "10.0%. Run time:  43.99s. Est. time left: 00:00:06:35\n",
      "20.0%. Run time:  87.69s. Est. time left: 00:00:05:50\n",
      "30.0%. Run time: 129.62s. Est. time left: 00:00:05:02\n",
      "40.0%. Run time: 174.08s. Est. time left: 00:00:04:21\n",
      "50.0%. Run time: 219.23s. Est. time left: 00:00:03:39\n",
      "60.0%. Run time: 261.17s. Est. time left: 00:00:02:54\n",
      "70.0%. Run time: 304.51s. Est. time left: 00:00:02:10\n",
      "80.0%. Run time: 346.86s. Est. time left: 00:00:01:26\n",
      "90.0%. Run time: 386.67s. Est. time left: 00:00:00:42\n",
      "Total run time: 425.74s\n"
     ]
    }
   ],
   "source": [
    "result = cy_grape_unitary(U, H0, H_ops, R, times, u_start=u0, u_limits=u_limits,\n",
    "                          eps=2*np.pi*1, alpha=alpha, phase_sensitive=False,\n",
    "                          progress_bar=TextProgressBar())"
   ]
  },
  {
   "cell_type": "markdown",
   "metadata": {},
   "source": [
    "#### Plot of optimized control field without dissipation"
   ]
  },
  {
   "cell_type": "code",
   "execution_count": 43,
   "metadata": {
    "ExecuteTime": {
     "end_time": "2019-02-15T04:25:12.479523Z",
     "start_time": "2019-02-15T04:25:10.844857Z"
    }
   },
   "outputs": [
    {
     "data": {
      "image/png": "[encoded data removed]",
      "text/plain": [
       "<Figure size 576x144 with 1 Axes>"
      ]
     },
     "metadata": {},
     "output_type": "display_data"
    }
   ],
   "source": [
    "plot_grape_control_fields(times,\n",
    "                          result.u / (2 * np.pi), H_labels, uniform_axes=True);"
   ]
  },
  {
   "cell_type": "code",
   "execution_count": 44,
   "metadata": {
    "ExecuteTime": {
     "end_time": "2019-02-15T04:25:12.488321Z",
     "start_time": "2019-02-15T04:25:12.482294Z"
    }
   },
   "outputs": [
    {
     "data": {
      "text/latex": [
       "Quantum object: dims = [[2], [2]], shape = (2, 2), type = oper, isherm = True\\begin{equation*}\\left(\\begin{array}{*{11}c}0.0 & 1.0\\\\1.0 & 0.0\\\\\\end{array}\\right)\\end{equation*}"
      ],
      "text/plain": [
       "Quantum object: dims = [[2], [2]], shape = (2, 2), type = oper, isherm = True\n",
       "Qobj data =\n",
       "[[0. 1.]\n",
       " [1. 0.]]"
      ]
     },
     "execution_count": 44,
     "metadata": {},
     "output_type": "execute_result"
    }
   ],
   "source": [
    "U"
   ]
  },
  {
   "cell_type": "code",
   "execution_count": 45,
   "metadata": {
    "ExecuteTime": {
     "end_time": "2019-02-15T04:25:12.496993Z",
     "start_time": "2019-02-15T04:25:12.490453Z"
    }
   },
   "outputs": [
    {
     "data": {
      "text/latex": [
       "Quantum object: dims = [[2], [2]], shape = (2, 2), type = oper, isherm = False\\begin{equation*}\\left(\\begin{array}{*{11}c}-2.188\\times10^{-16} & 1.000j\\\\1.0j & -2.679\\times10^{-16}\\\\\\end{array}\\right)\\end{equation*}"
      ],
      "text/plain": [
       "Quantum object: dims = [[2], [2]], shape = (2, 2), type = oper, isherm = False\n",
       "Qobj data =\n",
       "[[-2.18754729e-16+2.34187669e-16j -5.34810514e-16+1.00000000e+00j]\n",
       " [ 6.44313990e-16+1.00000000e+00j -2.67902969e-16+2.25514052e-16j]]"
      ]
     },
     "execution_count": 45,
     "metadata": {},
     "output_type": "execute_result"
    }
   ],
   "source": [
    "result.U_f"
   ]
  },
  {
   "cell_type": "code",
   "execution_count": 46,
   "metadata": {
    "ExecuteTime": {
     "end_time": "2019-02-15T04:25:12.505777Z",
     "start_time": "2019-02-15T04:25:12.499337Z"
    }
   },
   "outputs": [
    {
     "data": {
      "text/latex": [
       "Quantum object: dims = [[2], [2]], shape = (2, 2), type = oper, isherm = False\\begin{equation*}\\left(\\begin{array}{*{11}c}1.0 & (2.280\\times10^{+15}-2.130\\times10^{+15}j)\\\\(2.280\\times10^{+15}-2.130\\times10^{+15}j) & (1.085+0.131j)\\\\\\end{array}\\right)\\end{equation*}"
      ],
      "text/plain": [
       "Quantum object: dims = [[2], [2]], shape = (2, 2), type = oper, isherm = False\n",
       "Qobj data =\n",
       "[[1.00000000e+00+0.00000000e+00j 2.28036397e+15-2.13008825e+15j]\n",
       " [2.28036397e+15-2.13008825e+15j 1.08491108e+00+1.30551445e-01j]]"
      ]
     },
     "execution_count": 46,
     "metadata": {},
     "output_type": "execute_result"
    }
   ],
   "source": [
    "result.U_f/result.U_f[0,0]"
   ]
  },
  {
   "cell_type": "code",
   "execution_count": 47,
   "metadata": {
    "ExecuteTime": {
     "end_time": "2019-02-15T04:25:12.670486Z",
     "start_time": "2019-02-15T04:25:12.508312Z"
    }
   },
   "outputs": [
    {
     "data": {
      "text/plain": [
       "(<Figure size 432x288 with 2 Axes>,\n",
       " <mpl_toolkits.mplot3d.axes3d.Axes3D at 0x1a183b27f0>)"
      ]
     },
     "execution_count": 47,
     "metadata": {},
     "output_type": "execute_result"
    },
    {
     "data": {
      "image/png": "[encoded data removed]",
      "text/plain": [
       "<Figure size 432x288 with 2 Axes>"
      ]
     },
     "metadata": {},
     "output_type": "display_data"
    }
   ],
   "source": [
    "matrix_histogram(U)"
   ]
  },
  {
   "cell_type": "code",
   "execution_count": 48,
   "metadata": {
    "ExecuteTime": {
     "end_time": "2019-02-15T04:25:12.804731Z",
     "start_time": "2019-02-15T04:25:12.672727Z"
    }
   },
   "outputs": [
    {
     "data": {
      "text/plain": [
       "(<Figure size 432x288 with 2 Axes>,\n",
       " <mpl_toolkits.mplot3d.axes3d.Axes3D at 0x1a1847fcf8>)"
      ]
     },
     "execution_count": 48,
     "metadata": {},
     "output_type": "execute_result"
    },
    {
     "data": {
      "image/png": "[encoded data removed]",
      "text/plain": [
       "<Figure size 432x288 with 2 Axes>"
      ]
     },
     "metadata": {},
     "output_type": "display_data"
    }
   ],
   "source": [
    "matrix_histogram(result.U_f)"
   ]
  },
  {
   "cell_type": "code",
   "execution_count": 49,
   "metadata": {
    "ExecuteTime": {
     "end_time": "2019-02-15T04:25:13.001801Z",
     "start_time": "2019-02-15T04:25:12.806888Z"
    }
   },
   "outputs": [
    {
     "data": {
      "text/plain": [
       "(<Figure size 432x288 with 2 Axes>,\n",
       " <mpl_toolkits.mplot3d.axes3d.Axes3D at 0x1a1864d908>)"
      ]
     },
     "execution_count": 49,
     "metadata": {},
     "output_type": "execute_result"
    },
    {
     "data": {
      "image/png": "[encoded data removed]",
      "text/plain": [
       "<Figure size 432x288 with 2 Axes>"
      ]
     },
     "metadata": {},
     "output_type": "display_data"
    }
   ],
   "source": [
    "matrix_histogram_complex(U)"
   ]
  },
  {
   "cell_type": "code",
   "execution_count": 50,
   "metadata": {
    "ExecuteTime": {
     "end_time": "2019-02-15T04:25:13.183403Z",
     "start_time": "2019-02-15T04:25:13.004249Z"
    }
   },
   "outputs": [
    {
     "data": {
      "text/plain": [
       "(<Figure size 432x288 with 2 Axes>,\n",
       " <mpl_toolkits.mplot3d.axes3d.Axes3D at 0x1a188090b8>)"
      ]
     },
     "execution_count": 50,
     "metadata": {},
     "output_type": "execute_result"
    },
    {
     "data": {
      "image/png": "[encoded data removed]",
      "text/plain": [
       "<Figure size 432x288 with 2 Axes>"
      ]
     },
     "metadata": {},
     "output_type": "display_data"
    }
   ],
   "source": [
    "matrix_histogram_complex(result.U_f)"
   ]
  },
  {
   "cell_type": "code",
   "execution_count": 51,
   "metadata": {
    "ExecuteTime": {
     "end_time": "2019-02-15T04:25:13.369746Z",
     "start_time": "2019-02-15T04:25:13.186946Z"
    }
   },
   "outputs": [
    {
     "data": {
      "text/plain": [
       "(<Figure size 576x432 with 2 Axes>,\n",
       " <matplotlib.axes._subplots.AxesSubplot at 0x1a18dcaba8>)"
      ]
     },
     "execution_count": 51,
     "metadata": {},
     "output_type": "execute_result"
    },
    {
     "data": {
      "image/png": "[encoded data removed]",
      "text/plain": [
       "<Figure size 576x432 with 2 Axes>"
      ]
     },
     "metadata": {},
     "output_type": "display_data"
    }
   ],
   "source": [
    "hinton(U)"
   ]
  },
  {
   "cell_type": "code",
   "execution_count": 52,
   "metadata": {
    "ExecuteTime": {
     "end_time": "2019-02-15T04:25:13.551682Z",
     "start_time": "2019-02-15T04:25:13.371748Z"
    }
   },
   "outputs": [
    {
     "data": {
      "text/plain": [
       "(<Figure size 576x432 with 2 Axes>,\n",
       " <matplotlib.axes._subplots.AxesSubplot at 0x1a18d38f60>)"
      ]
     },
     "execution_count": 52,
     "metadata": {},
     "output_type": "execute_result"
    },
    {
     "data": {
      "image/png": "[encoded data removed]",
      "text/plain": [
       "<Figure size 576x432 with 2 Axes>"
      ]
     },
     "metadata": {},
     "output_type": "display_data"
    }
   ],
   "source": [
    "hinton(result.U_f)"
   ]
  },
  {
   "cell_type": "code",
   "execution_count": null,
   "metadata": {},
   "outputs": [],
   "source": []
  },
  {
   "cell_type": "code",
   "execution_count": null,
   "metadata": {},
   "outputs": [],
   "source": []
  },
  {
   "cell_type": "code",
   "execution_count": 137,
   "metadata": {
    "ExecuteTime": {
     "end_time": "2019-02-15T07:40:06.998266Z",
     "start_time": "2019-02-15T07:33:57.392241Z"
    }
   },
   "outputs": [
    {
     "data": {
      "text/plain": [
       "(array([-0.00207406+0.j, -0.00207406+0.j, -0.00207406+0.j, -0.00207406+0.j,\n",
       "        -0.00207406+0.j, -0.00207406+0.j, -0.00207406+0.j, -0.00207406+0.j,\n",
       "        -0.00207406+0.j, -0.00207406+0.j, -0.00207406+0.j, -0.00207406+0.j,\n",
       "        -0.00207406+0.j, -0.00207406+0.j, -0.00207406+0.j, -0.00207406+0.j,\n",
       "        -0.00207406+0.j, -0.00207406+0.j, -0.00207406+0.j, -0.00207406+0.j,\n",
       "        -0.00207406+0.j, -0.00207406+0.j, -0.00207406+0.j, -0.00207406+0.j,\n",
       "        -0.00207406+0.j, -0.00207406+0.j, -0.00207406+0.j, -0.00207406+0.j,\n",
       "        -0.00207406+0.j, -0.00207406+0.j, -0.00207406+0.j, -0.00207406+0.j,\n",
       "        -0.00207406+0.j, -0.00207406+0.j, -0.00207406+0.j, -0.00207406+0.j,\n",
       "        -0.00207406+0.j, -0.00207406+0.j, -0.00207406+0.j, -0.00207406+0.j,\n",
       "        -0.00207406+0.j, -0.00207406+0.j, -0.00207406+0.j, -0.00207406+0.j,\n",
       "        -0.00207406+0.j, -0.00207406+0.j, -0.00207406+0.j, -0.00207406+0.j,\n",
       "        -0.00207406+0.j, -0.00207406+0.j, -0.00207406+0.j, -0.00207406+0.j,\n",
       "        -0.00207406+0.j, -0.00207406+0.j, -0.00207406+0.j, -0.00207406+0.j,\n",
       "        -0.00207406+0.j, -0.00207406+0.j, -0.00207406+0.j, -0.00207406+0.j,\n",
       "        -0.00207406+0.j, -0.00207406+0.j, -0.00207406+0.j, -0.00207406+0.j,\n",
       "        -0.00207406+0.j, -0.00207406+0.j, -0.00207406+0.j, -0.00207406+0.j,\n",
       "        -0.00207406+0.j, -0.00207406+0.j, -0.00207406+0.j, -0.00207406+0.j,\n",
       "        -0.00207406+0.j, -0.00207406+0.j, -0.00207406+0.j, -0.00207406+0.j,\n",
       "        -0.00207406+0.j, -0.00207406+0.j, -0.00207406+0.j, -0.00207406+0.j,\n",
       "        -0.00207406+0.j, -0.00207406+0.j, -0.00207406+0.j, -0.00207406+0.j,\n",
       "        -0.00207406+0.j, -0.00207406+0.j, -0.00207406+0.j, -0.00207406+0.j,\n",
       "        -0.00207406+0.j, -0.00207406+0.j, -0.00207406+0.j, -0.00207406+0.j,\n",
       "        -0.00207406+0.j, -0.00207406+0.j, -0.00207406+0.j, -0.00207406+0.j,\n",
       "        -0.00207406+0.j, -0.00207406+0.j, -0.00207406+0.j, -0.00207406+0.j,\n",
       "        -0.00207406+0.j, -0.00207406+0.j, -0.00207406+0.j, -0.00207406+0.j,\n",
       "        -0.00207406+0.j, -0.00207406+0.j, -0.00207406+0.j, -0.00207406+0.j,\n",
       "        -0.00207406+0.j, -0.00207406+0.j, -0.00207406+0.j, -0.00207406+0.j,\n",
       "        -0.00207406+0.j, -0.00207406+0.j, -0.00207406+0.j, -0.00207406+0.j,\n",
       "        -0.00207406+0.j, -0.00207406+0.j, -0.00207406+0.j, -0.00207406+0.j,\n",
       "        -0.00207406+0.j, -0.00207406+0.j, -0.00207406+0.j, -0.00207406+0.j,\n",
       "        -0.00207406+0.j, -0.00207406+0.j, -0.00207406+0.j, -0.00207406+0.j,\n",
       "        -0.00207406+0.j, -0.00207406+0.j, -0.00207406+0.j, -0.00207406+0.j,\n",
       "        -0.00207406+0.j, -0.00207406+0.j, -0.00207406+0.j, -0.00207406+0.j,\n",
       "        -0.00207406+0.j, -0.00207406+0.j, -0.00207406+0.j, -0.00207406+0.j,\n",
       "        -0.00207406+0.j, -0.00207406+0.j, -0.00207406+0.j, -0.00207406+0.j,\n",
       "        -0.00207406+0.j, -0.00207406+0.j, -0.00207406+0.j, -0.00207406+0.j,\n",
       "        -0.00207406+0.j, -0.00207406+0.j, -0.00207406+0.j, -0.00207406+0.j,\n",
       "        -0.00207406+0.j, -0.00207406+0.j, -0.00207406+0.j, -0.00207406+0.j,\n",
       "        -0.00207406+0.j, -0.00207406+0.j, -0.00207406+0.j, -0.00207406+0.j,\n",
       "        -0.00207406+0.j, -0.00207406+0.j, -0.00207406+0.j, -0.00207406+0.j,\n",
       "        -0.00207406+0.j, -0.00207406+0.j, -0.00207406+0.j, -0.00207406+0.j,\n",
       "        -0.00207406+0.j, -0.00207406+0.j, -0.00207406+0.j, -0.00207406+0.j,\n",
       "        -0.00207406+0.j, -0.00207406+0.j, -0.00207406+0.j, -0.00207406+0.j,\n",
       "        -0.00207406+0.j, -0.00207406+0.j, -0.00207406+0.j, -0.00207406+0.j,\n",
       "        -0.00207406+0.j, -0.00207406+0.j, -0.00207406+0.j, -0.00207406+0.j,\n",
       "        -0.00207406+0.j, -0.00207406+0.j, -0.00207406+0.j, -0.00207406+0.j,\n",
       "        -0.00207406+0.j, -0.00207406+0.j, -0.00207406+0.j, -0.00207406+0.j,\n",
       "        -0.00207406+0.j, -0.00207406+0.j, -0.00207406+0.j, -0.00207406+0.j,\n",
       "        -0.00207406+0.j, -0.00207406+0.j, -0.00207406+0.j, -0.00207406+0.j,\n",
       "        -0.00207406+0.j, -0.00207406+0.j, -0.00207406+0.j, -0.00207406+0.j,\n",
       "        -0.00207406+0.j, -0.00207406+0.j, -0.00207406+0.j, -0.00207406+0.j,\n",
       "        -0.00207406+0.j, -0.00207406+0.j, -0.00207406+0.j, -0.00207406+0.j,\n",
       "        -0.00207406+0.j, -0.00207406+0.j, -0.00207406+0.j, -0.00207406+0.j,\n",
       "        -0.00207406+0.j, -0.00207406+0.j, -0.00207406+0.j, -0.00207406+0.j,\n",
       "        -0.00207406+0.j, -0.00207406+0.j, -0.00207406+0.j, -0.00207406+0.j,\n",
       "        -0.00207406+0.j, -0.00207406+0.j, -0.00207406+0.j, -0.00207406+0.j,\n",
       "        -0.00207406+0.j, -0.00207406+0.j, -0.00207406+0.j, -0.00207406+0.j,\n",
       "        -0.00207406+0.j, -0.00207406+0.j, -0.00207406+0.j, -0.00207406+0.j,\n",
       "        -0.00207406+0.j, -0.00207406+0.j, -0.00207406+0.j, -0.00207406+0.j,\n",
       "        -0.00207406+0.j, -0.00207406+0.j, -0.00207406+0.j, -0.00207406+0.j,\n",
       "        -0.00207406+0.j, -0.00207406+0.j, -0.00207406+0.j, -0.00207406+0.j,\n",
       "        -0.00207406+0.j, -0.00207406+0.j, -0.00207406+0.j, -0.00207406+0.j,\n",
       "        -0.00207406+0.j, -0.00207406+0.j, -0.00207406+0.j, -0.00207406+0.j,\n",
       "        -0.00207406+0.j, -0.00207406+0.j, -0.00207406+0.j, -0.00207406+0.j,\n",
       "        -0.00207406+0.j, -0.00207406+0.j, -0.00207406+0.j, -0.00207406+0.j,\n",
       "        -0.00207406+0.j, -0.00207406+0.j, -0.00207406+0.j, -0.00207406+0.j,\n",
       "        -0.00207406+0.j, -0.00207406+0.j, -0.00207406+0.j, -0.00207406+0.j,\n",
       "        -0.00207406+0.j, -0.00207406+0.j, -0.00207406+0.j, -0.00207406+0.j,\n",
       "        -0.00207406+0.j, -0.00207406+0.j, -0.00207406+0.j, -0.00207406+0.j,\n",
       "        -0.00207406+0.j, -0.00207406+0.j, -0.00207406+0.j, -0.00207406+0.j,\n",
       "        -0.00207406+0.j, -0.00207406+0.j, -0.00207406+0.j, -0.00207406+0.j,\n",
       "        -0.00207406+0.j, -0.00207406+0.j, -0.00207406+0.j, -0.00207406+0.j,\n",
       "        -0.00207406+0.j, -0.00207406+0.j, -0.00207406+0.j, -0.00207406+0.j,\n",
       "        -0.00207406+0.j, -0.00207406+0.j, -0.00207406+0.j, -0.00207406+0.j,\n",
       "        -0.00207406+0.j, -0.00207406+0.j, -0.00207406+0.j, -0.00207406+0.j,\n",
       "        -0.00207406+0.j, -0.00207406+0.j, -0.00207406+0.j, -0.00207406+0.j,\n",
       "        -0.00207406+0.j, -0.00207406+0.j, -0.00207406+0.j, -0.00207406+0.j,\n",
       "        -0.00207406+0.j, -0.00207406+0.j, -0.00207406+0.j, -0.00207406+0.j,\n",
       "        -0.00207406+0.j, -0.00207406+0.j, -0.00207406+0.j, -0.00207406+0.j,\n",
       "        -0.00207406+0.j, -0.00207406+0.j, -0.00207406+0.j, -0.00207406+0.j,\n",
       "        -0.00207406+0.j, -0.00207406+0.j, -0.00207406+0.j, -0.00207406+0.j,\n",
       "        -0.00207406+0.j, -0.00207406+0.j, -0.00207406+0.j, -0.00207406+0.j,\n",
       "        -0.00207406+0.j, -0.00207406+0.j, -0.00207406+0.j, -0.00207406+0.j,\n",
       "        -0.00207406+0.j, -0.00207406+0.j, -0.00207406+0.j, -0.00207406+0.j,\n",
       "        -0.00207406+0.j, -0.00207406+0.j, -0.00207406+0.j, -0.00207406+0.j,\n",
       "        -0.00207406+0.j, -0.00207406+0.j, -0.00207406+0.j, -0.00207406+0.j,\n",
       "        -0.00207406+0.j, -0.00207406+0.j, -0.00207406+0.j, -0.00207406+0.j,\n",
       "        -0.00207406+0.j, -0.00207406+0.j, -0.00207406+0.j, -0.00207406+0.j,\n",
       "        -0.00207406+0.j, -0.00207406+0.j, -0.00207406+0.j, -0.00207406+0.j,\n",
       "        -0.00207406+0.j, -0.00207406+0.j, -0.00207406+0.j, -0.00207406+0.j,\n",
       "        -0.00207406+0.j, -0.00207406+0.j, -0.00207406+0.j, -0.00207406+0.j,\n",
       "        -0.00207406+0.j, -0.00207406+0.j, -0.00207406+0.j, -0.00207406+0.j,\n",
       "        -0.00207406+0.j, -0.00207406+0.j, -0.00207406+0.j, -0.00207406+0.j,\n",
       "        -0.00207406+0.j, -0.00207406+0.j, -0.00207406+0.j, -0.00207406+0.j,\n",
       "        -0.00207406+0.j, -0.00207406+0.j, -0.00207406+0.j, -0.00207406+0.j,\n",
       "        -0.00207406+0.j, -0.00207406+0.j, -0.00207406+0.j, -0.00207406+0.j,\n",
       "        -0.00207406+0.j, -0.00207406+0.j, -0.00207406+0.j, -0.00207406+0.j,\n",
       "        -0.00207406+0.j, -0.00207406+0.j, -0.00207406+0.j, -0.00207406+0.j,\n",
       "        -0.00207406+0.j, -0.00207406+0.j, -0.00207406+0.j, -0.00207406+0.j,\n",
       "        -0.00207406+0.j, -0.00207406+0.j, -0.00207406+0.j, -0.00207406+0.j,\n",
       "        -0.00207406+0.j, -0.00207406+0.j, -0.00207406+0.j, -0.00207406+0.j,\n",
       "        -0.00207406+0.j, -0.00207406+0.j, -0.00207406+0.j, -0.00207406+0.j,\n",
       "        -0.00207406+0.j, -0.00207406+0.j, -0.00207406+0.j, -0.00207406+0.j,\n",
       "        -0.00207406+0.j, -0.00207406+0.j, -0.00207406+0.j, -0.00207406+0.j,\n",
       "        -0.00207406+0.j, -0.00207406+0.j, -0.00207406+0.j, -0.00207406+0.j,\n",
       "        -0.00207406+0.j, -0.00207406+0.j, -0.00207406+0.j, -0.00207406+0.j,\n",
       "        -0.00207406+0.j, -0.00207406+0.j, -0.00207406+0.j, -0.00207406+0.j,\n",
       "        -0.00207406+0.j, -0.00207406+0.j, -0.00207406+0.j, -0.00207406+0.j,\n",
       "        -0.00207406+0.j, -0.00207406+0.j, -0.00207406+0.j, -0.00207406+0.j,\n",
       "        -0.00207406+0.j, -0.00207406+0.j, -0.00207406+0.j, -0.00207406+0.j,\n",
       "        -0.00207406+0.j, -0.00207406+0.j, -0.00207406+0.j, -0.00207406+0.j,\n",
       "        -0.00207406+0.j, -0.00207406+0.j, -0.00207406+0.j, -0.00207406+0.j,\n",
       "        -0.00207406+0.j, -0.00207406+0.j, -0.00207406+0.j, -0.00207406+0.j,\n",
       "        -0.00207406+0.j, -0.00207406+0.j, -0.00207406+0.j, -0.00207406+0.j,\n",
       "        -0.00207406+0.j, -0.00207406+0.j, -0.00207406+0.j, -0.00207406+0.j,\n",
       "        -0.00207406+0.j, -0.00207406+0.j, -0.00207406+0.j, -0.00207406+0.j,\n",
       "        -0.00207406+0.j, -0.00207406+0.j, -0.00207406+0.j, -0.00207406+0.j,\n",
       "        -0.00207406+0.j, -0.00207406+0.j, -0.00207406+0.j, -0.00207406+0.j,\n",
       "        -0.00207406+0.j, -0.00207406+0.j, -0.00207406+0.j, -0.00207406+0.j,\n",
       "        -0.00207406+0.j, -0.00207406+0.j, -0.00207406+0.j, -0.00207406+0.j,\n",
       "        -0.00207406+0.j, -0.00207406+0.j, -0.00207406+0.j, -0.00207406+0.j,\n",
       "        -0.00207406+0.j, -0.00207406+0.j, -0.00207406+0.j, -0.00207406+0.j,\n",
       "        -0.00207406+0.j, -0.00207406+0.j, -0.00207406+0.j, -0.00207406+0.j,\n",
       "        -0.00207406+0.j, -0.00207406+0.j, -0.00207406+0.j, -0.00207406+0.j]),\n",
       " array([-2.19007667e-01+0.j, -2.08571297e-01+0.j, -1.90683969e-01+0.j,\n",
       "        -1.80095310e-01+0.j, -1.72438036e-01+0.j, -1.40303656e-01+0.j,\n",
       "        -1.47922032e-01+0.j, -1.36264198e-01+0.j, -1.15384310e-01+0.j,\n",
       "        -1.00606057e-01+0.j, -6.78186208e-02+0.j, -4.62012159e-02+0.j,\n",
       "        -4.75973718e-02+0.j, -1.89234762e-02+0.j, -4.77903806e-03+0.j,\n",
       "        -2.04546811e-02+0.j,  9.04393340e-03+0.j,  4.85063079e-03+0.j,\n",
       "         1.61616982e-02+0.j,  3.96838326e-03+0.j, -1.91300737e-03+0.j,\n",
       "         3.41797617e-03+0.j,  1.14708459e-02+0.j,  2.21493366e-02+0.j,\n",
       "         5.13179451e-02+0.j,  8.29449036e-02+0.j,  7.88873755e-02+0.j,\n",
       "         1.12334173e-01+0.j,  1.23361005e-01+0.j,  1.42075039e-01+0.j,\n",
       "         1.60180615e-01+0.j,  1.80589722e-01+0.j,  2.08298821e-01+0.j,\n",
       "         1.91683328e-01+0.j,  1.97523645e-01+0.j,  1.82858625e-01+0.j,\n",
       "         1.81548267e-01+0.j,  1.81192731e-01+0.j,  1.65197565e-01+0.j,\n",
       "         1.66578890e-01+0.j,  1.61845987e-01+0.j,  1.70382768e-01+0.j,\n",
       "         1.73006169e-01+0.j,  1.93011163e-01+0.j,  1.93876511e-01+0.j,\n",
       "         2.29003921e-01+0.j,  2.62873347e-01+0.j,  2.61570660e-01+0.j,\n",
       "         2.80059183e-01+0.j,  2.86224671e-01+0.j,  3.13770319e-01+0.j,\n",
       "         3.23535763e-01+0.j,  3.30105876e-01+0.j,  3.25074880e-01+0.j,\n",
       "         3.27262354e-01+0.j,  3.27673690e-01+0.j,  3.32757055e-01+0.j,\n",
       "         3.48815416e-01+0.j,  3.65889474e-01+0.j,  3.94850471e-01+0.j,\n",
       "         3.87142663e-01+0.j,  3.75117471e-01+0.j,  3.93588178e-01+0.j,\n",
       "         4.03500609e-01+0.j,  4.29840228e-01+0.j,  4.47418062e-01+0.j,\n",
       "         4.56698517e-01+0.j,  4.74432570e-01+0.j,  4.64607564e-01+0.j,\n",
       "         4.46065849e-01+0.j,  4.69939574e-01+0.j,  4.97434549e-01+0.j,\n",
       "         4.90706305e-01+0.j,  5.13403538e-01+0.j,  4.94596942e-01+0.j,\n",
       "         4.92018823e-01+0.j,  4.74645142e-01+0.j,  4.75697146e-01+0.j,\n",
       "         4.95992024e-01+0.j,  5.07526864e-01+0.j,  5.06942365e-01+0.j,\n",
       "         4.93042968e-01+0.j,  5.15511208e-01+0.j,  5.10874033e-01+0.j,\n",
       "         5.15141657e-01+0.j,  5.17570735e-01+0.j,  5.33538785e-01+0.j,\n",
       "         5.37906727e-01+0.j,  5.39522955e-01+0.j,  5.59095977e-01+0.j,\n",
       "         5.70349188e-01+0.j,  5.87888730e-01+0.j,  5.96861256e-01+0.j,\n",
       "         6.21744805e-01+0.j,  6.49435761e-01+0.j,  6.41229766e-01+0.j,\n",
       "         6.44245331e-01+0.j,  6.49204974e-01+0.j,  6.56886214e-01+0.j,\n",
       "         6.58745869e-01+0.j,  6.49938142e-01+0.j,  6.50184752e-01+0.j,\n",
       "         6.30986616e-01+0.j,  6.08856120e-01+0.j,  6.08975055e-01+0.j,\n",
       "         6.32640903e-01+0.j,  6.28076978e-01+0.j,  6.24397992e-01+0.j,\n",
       "         6.36443354e-01+0.j,  6.45108033e-01+0.j,  6.43344396e-01+0.j,\n",
       "         6.36756409e-01+0.j,  6.54940200e-01+0.j,  6.67449340e-01+0.j,\n",
       "         6.55894640e-01+0.j,  6.61695062e-01+0.j,  6.79653770e-01+0.j,\n",
       "         6.76839884e-01+0.j,  6.69104831e-01+0.j,  6.66319064e-01+0.j,\n",
       "         6.66063506e-01+0.j,  6.80603034e-01+0.j,  6.58924190e-01+0.j,\n",
       "         6.78314294e-01+0.j,  7.01309913e-01+0.j,  6.92605265e-01+0.j,\n",
       "         7.01031269e-01+0.j,  7.17507403e-01+0.j,  7.09100631e-01+0.j,\n",
       "         6.92997750e-01+0.j,  7.00575299e-01+0.j,  6.88042913e-01+0.j,\n",
       "         6.93861041e-01+0.j,  6.95201207e-01+0.j,  6.87532634e-01+0.j,\n",
       "         6.93741943e-01+0.j,  6.73294827e-01+0.j,  6.64226907e-01+0.j,\n",
       "         6.60169186e-01+0.j,  6.56690714e-01+0.j,  6.61266288e-01+0.j,\n",
       "         6.52039401e-01+0.j,  6.75307936e-01+0.j,  6.69323440e-01+0.j,\n",
       "         6.63775391e-01+0.j,  6.37239635e-01+0.j,  6.35354136e-01+0.j,\n",
       "         6.41816769e-01+0.j,  6.35738629e-01+0.j,  6.55342096e-01+0.j,\n",
       "         6.36669473e-01+0.j,  6.50780502e-01+0.j,  6.17474830e-01+0.j,\n",
       "         5.96968396e-01+0.j,  6.03976493e-01+0.j,  6.29363517e-01+0.j,\n",
       "         6.22547228e-01+0.j,  6.11452650e-01+0.j,  6.19825665e-01+0.j,\n",
       "         6.21107787e-01+0.j,  6.15746319e-01+0.j,  6.20681907e-01+0.j,\n",
       "         6.26135972e-01+0.j,  6.35022014e-01+0.j,  6.07467556e-01+0.j,\n",
       "         5.80177846e-01+0.j,  5.94245417e-01+0.j,  5.90081360e-01+0.j,\n",
       "         5.76590585e-01+0.j,  5.65659901e-01+0.j,  5.76172276e-01+0.j,\n",
       "         5.64994002e-01+0.j,  5.71776021e-01+0.j,  5.71509514e-01+0.j,\n",
       "         5.62693839e-01+0.j,  5.67095243e-01+0.j,  5.56355324e-01+0.j,\n",
       "         5.50648590e-01+0.j,  5.52589458e-01+0.j,  5.42052253e-01+0.j,\n",
       "         5.35982439e-01+0.j,  5.09737994e-01+0.j,  4.97393267e-01+0.j,\n",
       "         4.83146563e-01+0.j,  4.95962087e-01+0.j,  4.84810949e-01+0.j,\n",
       "         4.72034801e-01+0.j,  4.72055296e-01+0.j,  4.56856527e-01+0.j,\n",
       "         4.57747314e-01+0.j,  4.55889842e-01+0.j,  4.60066028e-01+0.j,\n",
       "         4.64030331e-01+0.j,  4.60489419e-01+0.j,  4.53551905e-01+0.j,\n",
       "         4.52425135e-01+0.j,  4.52237471e-01+0.j,  4.33411011e-01+0.j,\n",
       "         4.23734738e-01+0.j,  4.07807601e-01+0.j,  3.81537655e-01+0.j,\n",
       "         3.62685244e-01+0.j,  3.53929503e-01+0.j,  3.27833414e-01+0.j,\n",
       "         3.10805638e-01+0.j,  2.86420112e-01+0.j,  2.86828389e-01+0.j,\n",
       "         2.88860761e-01+0.j,  2.86929427e-01+0.j,  2.58742519e-01+0.j,\n",
       "         2.52347832e-01+0.j,  2.59629394e-01+0.j,  2.29982307e-01+0.j,\n",
       "         2.43261753e-01+0.j,  2.43043329e-01+0.j,  2.57740662e-01+0.j,\n",
       "         2.37548029e-01+0.j,  2.27758221e-01+0.j,  2.39709744e-01+0.j,\n",
       "         2.49299755e-01+0.j,  2.41418603e-01+0.j,  2.37337942e-01+0.j,\n",
       "         2.36853126e-01+0.j,  2.12329005e-01+0.j,  2.02140056e-01+0.j,\n",
       "         1.79515715e-01+0.j,  1.60488789e-01+0.j,  1.49285560e-01+0.j,\n",
       "         1.17107274e-01+0.j,  9.05443948e-02+0.j,  1.01094116e-01+0.j,\n",
       "         9.88570087e-02+0.j,  8.49757478e-02+0.j,  7.89894871e-02+0.j,\n",
       "         7.88145629e-02+0.j,  8.85017845e-02+0.j,  8.05249337e-02+0.j,\n",
       "         7.91429081e-02+0.j,  9.01518822e-02+0.j,  1.06697861e-01+0.j,\n",
       "         8.19440496e-02+0.j,  6.06793353e-02+0.j,  6.82135223e-02+0.j,\n",
       "         5.76146227e-02+0.j,  2.48296699e-02+0.j, -1.00915816e-02+0.j,\n",
       "        -1.93344209e-02+0.j, -5.46454415e-02+0.j, -6.67083017e-02+0.j,\n",
       "        -9.83903146e-02+0.j, -8.85856099e-02+0.j, -1.05472610e-01+0.j,\n",
       "        -1.35413145e-01+0.j, -1.41521642e-01+0.j, -1.33869784e-01+0.j,\n",
       "        -1.25651407e-01+0.j, -1.20967989e-01+0.j, -1.18202677e-01+0.j,\n",
       "        -1.19403965e-01+0.j, -1.10052992e-01+0.j, -1.35309085e-01+0.j,\n",
       "        -1.22533086e-01+0.j, -1.01010572e-01+0.j, -1.20713090e-01+0.j,\n",
       "        -1.18082668e-01+0.j, -1.32578516e-01+0.j, -1.49773570e-01+0.j,\n",
       "        -1.47440802e-01+0.j, -1.82272544e-01+0.j, -2.05694563e-01+0.j,\n",
       "        -1.99658383e-01+0.j, -2.29061867e-01+0.j, -2.62583256e-01+0.j,\n",
       "        -2.65067761e-01+0.j, -2.72996874e-01+0.j, -2.76555431e-01+0.j,\n",
       "        -2.90921168e-01+0.j, -3.14299721e-01+0.j, -3.01017080e-01+0.j,\n",
       "        -2.78757583e-01+0.j, -2.98950126e-01+0.j, -2.90148093e-01+0.j,\n",
       "        -2.89077161e-01+0.j, -2.83168720e-01+0.j, -3.00152231e-01+0.j,\n",
       "        -3.13733764e-01+0.j, -3.16246614e-01+0.j, -3.25425200e-01+0.j,\n",
       "        -3.50129886e-01+0.j, -3.64524606e-01+0.j, -3.56360671e-01+0.j,\n",
       "        -3.74959924e-01+0.j, -3.91574999e-01+0.j, -3.89324430e-01+0.j,\n",
       "        -4.07347888e-01+0.j, -4.02113615e-01+0.j, -4.01672239e-01+0.j,\n",
       "        -3.80178411e-01+0.j, -3.76532069e-01+0.j, -3.84805846e-01+0.j,\n",
       "        -3.85386199e-01+0.j, -3.78573653e-01+0.j, -3.73316248e-01+0.j,\n",
       "        -4.02995311e-01+0.j, -3.96114431e-01+0.j, -4.15007854e-01+0.j,\n",
       "        -4.18104652e-01+0.j, -4.37337039e-01+0.j, -4.47402769e-01+0.j,\n",
       "        -4.63759482e-01+0.j, -4.78615425e-01+0.j, -4.84427076e-01+0.j,\n",
       "        -4.82468550e-01+0.j, -4.68795099e-01+0.j, -4.65781744e-01+0.j,\n",
       "        -4.65419173e-01+0.j, -4.63635340e-01+0.j, -4.55953240e-01+0.j,\n",
       "        -4.45392273e-01+0.j, -4.41344296e-01+0.j, -4.39989965e-01+0.j,\n",
       "        -4.38520974e-01+0.j, -4.42565638e-01+0.j, -4.30698350e-01+0.j,\n",
       "        -4.39936940e-01+0.j, -4.45997389e-01+0.j, -4.45230921e-01+0.j,\n",
       "        -4.46591201e-01+0.j, -4.43368706e-01+0.j, -4.46566549e-01+0.j,\n",
       "        -4.51820970e-01+0.j, -4.42867499e-01+0.j, -4.30758250e-01+0.j,\n",
       "        -4.62073187e-01+0.j, -4.60115786e-01+0.j, -4.38704397e-01+0.j,\n",
       "        -4.33656064e-01+0.j, -4.46337473e-01+0.j, -4.58232070e-01+0.j,\n",
       "        -4.44880180e-01+0.j, -4.62673245e-01+0.j, -4.86451539e-01+0.j,\n",
       "        -4.86780207e-01+0.j, -4.78674152e-01+0.j, -4.72903245e-01+0.j,\n",
       "        -4.82541381e-01+0.j, -4.92951113e-01+0.j, -5.06279050e-01+0.j,\n",
       "        -4.94309093e-01+0.j, -4.92327619e-01+0.j, -4.82316960e-01+0.j,\n",
       "        -4.86389300e-01+0.j, -4.87341466e-01+0.j, -4.64430808e-01+0.j,\n",
       "        -4.84415221e-01+0.j, -4.89841762e-01+0.j, -4.73856750e-01+0.j,\n",
       "        -4.68700665e-01+0.j, -4.65569446e-01+0.j, -4.87055780e-01+0.j,\n",
       "        -4.71734133e-01+0.j, -4.41054578e-01+0.j, -4.47935382e-01+0.j,\n",
       "        -4.70084852e-01+0.j, -4.52794244e-01+0.j, -4.44825230e-01+0.j,\n",
       "        -4.42916845e-01+0.j, -4.17853250e-01+0.j, -4.24770802e-01+0.j,\n",
       "        -4.11983906e-01+0.j, -4.03306526e-01+0.j, -4.11948771e-01+0.j,\n",
       "        -4.16546187e-01+0.j, -4.11964464e-01+0.j, -4.09610251e-01+0.j,\n",
       "        -4.15235662e-01+0.j, -4.37496527e-01+0.j, -4.38323924e-01+0.j,\n",
       "        -4.47724506e-01+0.j, -4.37411803e-01+0.j, -4.32314368e-01+0.j,\n",
       "        -4.38450985e-01+0.j, -4.17677452e-01+0.j, -3.98846832e-01+0.j,\n",
       "        -3.96000198e-01+0.j, -3.86534311e-01+0.j, -3.57381912e-01+0.j,\n",
       "        -3.55248930e-01+0.j, -3.42997851e-01+0.j, -3.35338162e-01+0.j,\n",
       "        -3.39076160e-01+0.j, -3.19853839e-01+0.j, -3.27667324e-01+0.j,\n",
       "        -3.21270246e-01+0.j, -3.25795397e-01+0.j, -3.15844861e-01+0.j,\n",
       "        -3.10319023e-01+0.j, -3.06700351e-01+0.j, -3.08820164e-01+0.j,\n",
       "        -2.97733651e-01+0.j, -2.91250929e-01+0.j, -2.99255510e-01+0.j,\n",
       "        -2.85377185e-01+0.j, -2.84688767e-01+0.j, -2.78717253e-01+0.j,\n",
       "        -2.67331068e-01+0.j, -2.75129407e-01+0.j, -2.62692805e-01+0.j,\n",
       "        -2.34841251e-01+0.j, -2.31376808e-01+0.j, -2.32403349e-01+0.j,\n",
       "        -2.32748955e-01+0.j, -2.41890347e-01+0.j, -2.40669363e-01+0.j,\n",
       "        -2.33638120e-01+0.j, -2.30354749e-01+0.j, -2.10624239e-01+0.j,\n",
       "        -2.06791154e-01+0.j, -2.11912379e-01+0.j, -2.23302830e-01+0.j,\n",
       "        -2.07104740e-01+0.j, -1.95818817e-01+0.j, -1.79263724e-01+0.j,\n",
       "        -1.73170217e-01+0.j, -1.49291045e-01+0.j, -1.55214002e-01+0.j,\n",
       "        -1.44540032e-01+0.j, -1.49029611e-01+0.j, -1.40963009e-01+0.j,\n",
       "        -1.17301843e-01+0.j, -1.16940119e-01+0.j, -1.12353315e-01+0.j,\n",
       "        -9.53120195e-02+0.j, -8.95009802e-02+0.j, -9.94449773e-02+0.j,\n",
       "        -7.13763555e-02+0.j, -8.38572719e-02+0.j, -6.31851420e-02+0.j,\n",
       "        -4.50309238e-02+0.j, -3.84262039e-02+0.j, -3.94617052e-02+0.j,\n",
       "        -5.52119599e-03+0.j,  1.46003850e-04+0.j,  7.42902519e-03+0.j,\n",
       "         3.97900715e-02+0.j,  2.53711548e-02+0.j,  4.69013762e-02+0.j,\n",
       "         3.53915072e-02+0.j,  5.25766029e-02+0.j,  4.29917050e-02+0.j,\n",
       "         5.48653174e-02+0.j,  4.12662430e-02+0.j,  4.80747455e-02+0.j,\n",
       "         7.73861965e-02+0.j,  8.44541321e-02+0.j,  1.13048243e-01+0.j,\n",
       "         1.04909250e-01+0.j,  1.29033938e-01+0.j,  1.16342067e-01+0.j,\n",
       "         1.38984863e-01+0.j,  1.62719611e-01+0.j,  1.84522916e-01+0.j,\n",
       "         1.92068321e-01+0.j,  1.89489468e-01+0.j,  1.91547733e-01+0.j,\n",
       "         1.92208507e-01+0.j,  2.06893029e-01+0.j,  2.16982655e-01+0.j,\n",
       "         2.26870010e-01+0.j,  2.37128021e-01+0.j,  2.41339864e-01+0.j,\n",
       "         2.31558486e-01+0.j,  2.26426941e-01+0.j,  2.37888598e-01+0.j,\n",
       "         2.35952947e-01+0.j,  2.49458901e-01+0.j,  2.59041444e-01+0.j,\n",
       "         2.56810417e-01+0.j,  2.60258665e-01+0.j,  2.50265696e-01+0.j,\n",
       "         2.46441207e-01+0.j,  2.79966634e-01+0.j,  2.88256177e-01+0.j,\n",
       "         2.74707656e-01+0.j,  2.84247794e-01+0.j,  2.83642851e-01+0.j,\n",
       "         2.82671248e-01+0.j,  2.99240936e-01+0.j,  3.06123422e-01+0.j,\n",
       "         3.30635835e-01+0.j,  3.47849266e-01+0.j,  3.38349772e-01+0.j,\n",
       "         3.44846419e-01+0.j,  3.55101568e-01+0.j,  3.65789065e-01+0.j,\n",
       "         3.70302828e-01+0.j,  3.72093363e-01+0.j,  3.61546581e-01+0.j,\n",
       "         3.64645402e-01+0.j,  3.64645402e-01+0.j]))"
      ]
     },
     "execution_count": 137,
     "metadata": {},
     "output_type": "execute_result"
    }
   ],
   "source": [
    "updater(result.u[-1, 0, : ] , (2*pi)/500, epsilon=((0.1*2*pi)/(10**3)))"
   ]
  },
  {
   "cell_type": "code",
   "execution_count": 53,
   "metadata": {
    "ExecuteTime": {
     "end_time": "2019-02-15T04:25:13.558539Z",
     "start_time": "2019-02-15T04:25:13.553902Z"
    }
   },
   "outputs": [
    {
     "data": {
      "text/plain": [
       "6.283185307179586"
      ]
     },
     "execution_count": 53,
     "metadata": {},
     "output_type": "execute_result"
    }
   ],
   "source": [
    "times[-1]"
   ]
  },
  {
   "cell_type": "code",
   "execution_count": 54,
   "metadata": {
    "ExecuteTime": {
     "end_time": "2019-02-15T04:25:13.565054Z",
     "start_time": "2019-02-15T04:25:13.560760Z"
    }
   },
   "outputs": [
    {
     "data": {
      "text/plain": [
       "6.283185307179586"
      ]
     },
     "execution_count": 54,
     "metadata": {},
     "output_type": "execute_result"
    }
   ],
   "source": [
    "total_time_evo"
   ]
  },
  {
   "cell_type": "markdown",
   "metadata": {
    "ExecuteTime": {
     "end_time": "2019-02-15T04:25:13.615608Z",
     "start_time": "2019-02-15T04:25:13.566890Z"
    }
   },
   "source": [
    "total_time\n",
    "---------------------------------------------------------------------------\n",
    "NameError                                 Traceback (most recent call last)\n",
    "<ipython-input-55-9bec417112c8> in <module>()\n",
    "----> 1 total_time\n",
    "\n",
    "NameError: name 'total_time' is not defined\n"
   ]
  },
  {
   "cell_type": "code",
   "execution_count": 56,
   "metadata": {
    "ExecuteTime": {
     "end_time": "2019-02-15T04:33:44.148325Z",
     "start_time": "2019-02-15T04:33:44.143868Z"
    }
   },
   "outputs": [
    {
     "data": {
      "text/plain": [
       "500"
      ]
     },
     "execution_count": 56,
     "metadata": {},
     "output_type": "execute_result"
    }
   ],
   "source": [
    "len(times)"
   ]
  },
  {
   "cell_type": "markdown",
   "metadata": {
    "ExecuteTime": {
     "end_time": "2019-02-15T04:33:44.601387Z",
     "start_time": "2019-02-15T04:33:44.593763Z"
    },
    "code_folding": []
   },
   "source": [
    "def terminator(max_iter, time_steps=len(times), total_time= total_time_evo,\n",
    "               epsilon= 2*pi*1):\n",
    "    r\"\"\"Brief description of the function\"\"\"\n",
    "    \n",
    "    xi_initial = result.u[-1, 0, : ] \n",
    "    #1000*random_sample((time_steps,))\n",
    "    dt = (2*pi)/500  #total_time/time_steps\n",
    "    xi_diff, xi_new_vec = updater(xi_initial, dt, epsilon)\n",
    "    \n",
    "    for i in range(max_iter):\n",
    "        if amax(xi_diff) < epsilon**2 :\n",
    "            xi_final = xi_new_vec\n",
    "            break\n",
    "        else :\n",
    "            xi_diff, xi_new_vec = updater(xi_new_vec, dt, epsilon)\n",
    "            print(i)\n",
    "            print(amax(xi_diff))\n",
    "            \n",
    "        \n",
    "    xi_final = xi_new_vec    \n",
    "    return xi_final"
   ]
  },
  {
   "cell_type": "code",
   "execution_count": null,
   "metadata": {},
   "outputs": [],
   "source": [
    "def terminator(max_iter, time_steps=len(times),\n",
    "              total_time=total_time_evo,\n",
    "              epsilon=2*pi*1):\n",
    "    r\"\"\"Brief description of the function\"\"\"\n",
    "    xi_initial = result.u[-1, 0, :]\n",
    "    # 1000*random_sample((time_steps,))\n",
    "    dt = (2*pi)/500 #total_time/time_steps\n",
    "    xi\n",
    "    \n",
    "    return xi_final\n",
    "'''def terminator(max_iter, \n",
    "               time_steps=len(times),\n",
    "               total_time=total_time_evo,\n",
    "              ):''''''"
   ]
  },
  {
   "cell_type": "markdown",
   "metadata": {},
   "source": [
    "## sub topic 3"
   ]
  },
  {
   "cell_type": "code",
   "execution_count": 58,
   "metadata": {
    "ExecuteTime": {
     "end_time": "2019-02-15T04:33:46.327762Z",
     "start_time": "2019-02-15T04:33:46.324554Z"
    }
   },
   "outputs": [],
   "source": [
    "new_label = [r'$g_{with diss}$']"
   ]
  },
  {
   "cell_type": "markdown",
   "metadata": {},
   "source": [
    "### try"
   ]
  },
  {
   "cell_type": "code",
   "execution_count": null,
   "metadata": {
    "ExecuteTime": {
     "end_time": "2019-02-15T04:25:13.621825Z",
     "start_time": "2019-02-15T04:18:05.330Z"
    }
   },
   "outputs": [],
   "source": [
    "xi_opt = terminator(10)"
   ]
  },
  {
   "cell_type": "code",
   "execution_count": null,
   "metadata": {
    "ExecuteTime": {
     "end_time": "2019-02-15T04:25:13.623040Z",
     "start_time": "2019-02-15T04:18:05.333Z"
    }
   },
   "outputs": [],
   "source": [
    "time_steps=len(times)\n",
    "total_time= total_time_evo\n",
    "epsilon= 2*pi*1"
   ]
  },
  {
   "cell_type": "code",
   "execution_count": null,
   "metadata": {
    "ExecuteTime": {
     "end_time": "2019-02-15T04:25:13.624293Z",
     "start_time": "2019-02-15T04:18:05.335Z"
    }
   },
   "outputs": [],
   "source": [
    "dt = (2*pi)/500\n",
    "F(xi_opt, dt)"
   ]
  },
  {
   "cell_type": "code",
   "execution_count": null,
   "metadata": {
    "ExecuteTime": {
     "end_time": "2019-02-15T04:25:13.625364Z",
     "start_time": "2019-02-15T04:18:05.339Z"
    }
   },
   "outputs": [],
   "source": [
    "L_full_maker(xi_opt, dt)"
   ]
  },
  {
   "cell_type": "code",
   "execution_count": null,
   "metadata": {
    "ExecuteTime": {
     "end_time": "2019-02-15T04:25:13.626731Z",
     "start_time": "2019-02-15T04:18:05.341Z"
    }
   },
   "outputs": [],
   "source": [
    "ax = axes()\n",
    "ax.plot(times, xi_opt)\n",
    "xi_max = amax(xi_opt) + 0.1\n",
    "xi_min = amin(xi_opt) - 0.1\n",
    "\n",
    "ax.set(xlim=(0, total_time_evo), ylim=(xi_min, xi_max),\n",
    "       xlabel='time', ylabel= r'$g_{with diss}$',\n",
    "       title='Control field in the presence of dissipation');"
   ]
  },
  {
   "cell_type": "markdown",
   "metadata": {},
   "source": [
    "### try"
   ]
  },
  {
   "cell_type": "code",
   "execution_count": null,
   "metadata": {
    "ExecuteTime": {
     "end_time": "2019-02-15T04:25:13.628468Z",
     "start_time": "2019-02-15T04:18:05.450Z"
    }
   },
   "outputs": [],
   "source": [
    "xi_opt = terminator(1000)"
   ]
  },
  {
   "cell_type": "code",
   "execution_count": null,
   "metadata": {
    "ExecuteTime": {
     "end_time": "2019-02-15T04:25:13.629889Z",
     "start_time": "2019-02-15T04:18:05.452Z"
    }
   },
   "outputs": [],
   "source": [
    "time_steps=len(times)\n",
    "total_time= total_time_evo\n",
    "epsilon= 2*pi*1"
   ]
  },
  {
   "cell_type": "code",
   "execution_count": null,
   "metadata": {
    "ExecuteTime": {
     "end_time": "2019-02-15T04:25:13.631226Z",
     "start_time": "2019-02-15T04:18:05.455Z"
    }
   },
   "outputs": [],
   "source": [
    "dt = (2*pi)/500\n",
    "F(xi_opt, dt)"
   ]
  },
  {
   "cell_type": "code",
   "execution_count": null,
   "metadata": {
    "ExecuteTime": {
     "end_time": "2019-02-15T04:25:13.632491Z",
     "start_time": "2019-02-15T04:18:05.459Z"
    }
   },
   "outputs": [],
   "source": [
    "L_full_maker(xi_opt, dt)"
   ]
  },
  {
   "cell_type": "code",
   "execution_count": null,
   "metadata": {
    "ExecuteTime": {
     "end_time": "2019-02-15T04:25:13.634224Z",
     "start_time": "2019-02-15T04:18:05.462Z"
    }
   },
   "outputs": [],
   "source": [
    "ax = axes()\n",
    "ax.plot(times, xi_opt)\n",
    "xi_max = amax(xi_opt) + 0.1\n",
    "xi_min = amin(xi_opt) - 0.1\n",
    "\n",
    "ax.set(xlim=(0, total_time_evo), ylim=(xi_min, xi_max),\n",
    "       xlabel='time', ylabel= r'$g_{with diss}$',\n",
    "       title='Control field in the presence of dissipation');"
   ]
  },
  {
   "cell_type": "markdown",
   "metadata": {},
   "source": [
    "### try"
   ]
  },
  {
   "cell_type": "code",
   "execution_count": null,
   "metadata": {
    "ExecuteTime": {
     "end_time": "2019-02-15T04:25:13.635430Z",
     "start_time": "2019-02-15T04:18:05.573Z"
    }
   },
   "outputs": [],
   "source": [
    "xi_opt = terminator(1000,time_steps=len(times), total_time= total_time_evo,\n",
    "               epsilon= ((0.1*2*pi)/(times[-1])))"
   ]
  },
  {
   "cell_type": "code",
   "execution_count": null,
   "metadata": {
    "ExecuteTime": {
     "end_time": "2019-02-15T04:25:13.637190Z",
     "start_time": "2019-02-15T04:18:05.575Z"
    }
   },
   "outputs": [],
   "source": [
    "time_steps=len(times)\n",
    "total_time= total_time_evo\n",
    "epsilon = ((0.1*2*pi)/(times[-1]))"
   ]
  },
  {
   "cell_type": "code",
   "execution_count": null,
   "metadata": {
    "ExecuteTime": {
     "end_time": "2019-02-15T04:25:13.638538Z",
     "start_time": "2019-02-15T04:18:05.577Z"
    }
   },
   "outputs": [],
   "source": [
    "dt = (2*pi)/500\n",
    "F(xi_opt, dt)"
   ]
  },
  {
   "cell_type": "code",
   "execution_count": null,
   "metadata": {
    "ExecuteTime": {
     "end_time": "2019-02-15T04:25:13.639962Z",
     "start_time": "2019-02-15T04:18:05.583Z"
    }
   },
   "outputs": [],
   "source": [
    "L_full_maker(xi_opt, dt)"
   ]
  },
  {
   "cell_type": "code",
   "execution_count": null,
   "metadata": {
    "ExecuteTime": {
     "end_time": "2019-02-15T04:25:13.641333Z",
     "start_time": "2019-02-15T04:18:05.586Z"
    }
   },
   "outputs": [],
   "source": [
    "ax = axes()\n",
    "ax.plot(times, xi_opt)\n",
    "xi_max = amax(xi_opt) + 0.1\n",
    "xi_min = amin(xi_opt) - 0.1\n",
    "\n",
    "ax.set(xlim=(0, total_time_evo), ylim=(xi_min, xi_max),\n",
    "       xlabel='time', ylabel= r'$g_{with diss}$',\n",
    "       title='Control field in the presence of dissipation');"
   ]
  },
  {
   "cell_type": "markdown",
   "metadata": {},
   "source": [
    "### try"
   ]
  },
  {
   "cell_type": "code",
   "execution_count": null,
   "metadata": {
    "ExecuteTime": {
     "end_time": "2019-02-15T04:25:13.643026Z",
     "start_time": "2019-02-15T04:18:05.699Z"
    }
   },
   "outputs": [],
   "source": [
    "xi_opt = terminator(10,time_steps=len(times), total_time= total_time_evo,\n",
    "               epsilon= ((0.1*2*pi)/(times[-1])))"
   ]
  },
  {
   "cell_type": "code",
   "execution_count": null,
   "metadata": {
    "ExecuteTime": {
     "end_time": "2019-02-15T04:25:13.644316Z",
     "start_time": "2019-02-15T04:18:05.702Z"
    }
   },
   "outputs": [],
   "source": [
    "time_steps=len(times)\n",
    "total_time= total_time_evo\n",
    "epsilon = ((0.1*2*pi)/(times[-1]))"
   ]
  },
  {
   "cell_type": "code",
   "execution_count": null,
   "metadata": {
    "ExecuteTime": {
     "end_time": "2019-02-15T04:25:13.645745Z",
     "start_time": "2019-02-15T04:18:05.704Z"
    }
   },
   "outputs": [],
   "source": [
    "dt = (2*pi)/500\n",
    "F(xi_opt, dt)"
   ]
  },
  {
   "cell_type": "code",
   "execution_count": null,
   "metadata": {
    "ExecuteTime": {
     "end_time": "2019-02-15T04:25:13.647130Z",
     "start_time": "2019-02-15T04:18:05.708Z"
    }
   },
   "outputs": [],
   "source": [
    "L_full_maker(xi_opt, dt)"
   ]
  },
  {
   "cell_type": "code",
   "execution_count": null,
   "metadata": {
    "ExecuteTime": {
     "end_time": "2019-02-15T04:25:13.648635Z",
     "start_time": "2019-02-15T04:18:05.711Z"
    }
   },
   "outputs": [],
   "source": [
    "ax = axes()\n",
    "ax.plot(times, xi_opt)\n",
    "xi_max = amax(xi_opt) + 0.1\n",
    "xi_min = amin(xi_opt) - 0.1\n",
    "\n",
    "ax.set(xlim=(0, total_time_evo), ylim=(xi_min, xi_max),\n",
    "       xlabel='time', ylabel= r'$g_{with diss}$',\n",
    "       title='Control field in the presence of dissipation');"
   ]
  },
  {
   "cell_type": "markdown",
   "metadata": {},
   "source": [
    "### try"
   ]
  },
  {
   "cell_type": "code",
   "execution_count": 59,
   "metadata": {
    "ExecuteTime": {
     "end_time": "2019-02-15T04:40:14.545325Z",
     "start_time": "2019-02-15T04:34:11.575295Z"
    }
   },
   "outputs": [],
   "source": [
    "xi_opt = terminator(1000,time_steps=len(times), total_time= total_time_evo,\n",
    "               epsilon= ((0.1*2*pi)/(10**3)))"
   ]
  },
  {
   "cell_type": "code",
   "execution_count": 60,
   "metadata": {
    "ExecuteTime": {
     "end_time": "2019-02-15T04:40:14.608611Z",
     "start_time": "2019-02-15T04:40:14.605190Z"
    }
   },
   "outputs": [],
   "source": [
    "time_steps=len(times)\n",
    "total_time= total_time_evo\n",
    "epsilon = ((0.1*2*pi)/(times[-1]))"
   ]
  },
  {
   "cell_type": "code",
   "execution_count": 61,
   "metadata": {
    "ExecuteTime": {
     "end_time": "2019-02-15T04:40:15.406317Z",
     "start_time": "2019-02-15T04:40:14.669482Z"
    }
   },
   "outputs": [
    {
     "data": {
      "text/plain": [
       "-0.9551984487876115"
      ]
     },
     "execution_count": 61,
     "metadata": {},
     "output_type": "execute_result"
    }
   ],
   "source": [
    "dt = (2*pi)/500\n",
    "F(xi_opt, dt)"
   ]
  },
  {
   "cell_type": "code",
   "execution_count": 133,
   "metadata": {
    "ExecuteTime": {
     "end_time": "2019-02-15T06:51:53.739541Z",
     "start_time": "2019-02-15T06:51:52.554700Z"
    }
   },
   "outputs": [
    {
     "data": {
      "text/plain": [
       "-0.9550592330436419"
      ]
     },
     "execution_count": 133,
     "metadata": {},
     "output_type": "execute_result"
    }
   ],
   "source": [
    "F(result.u[-1, 0, : ], dt)"
   ]
  },
  {
   "cell_type": "code",
   "execution_count": 62,
   "metadata": {
    "ExecuteTime": {
     "end_time": "2019-02-15T04:40:16.201621Z",
     "start_time": "2019-02-15T04:40:15.469412Z"
    }
   },
   "outputs": [
    {
     "data": {
      "text/latex": [
       "Quantum object: dims = [[2, 2], [2, 2]], shape = (4, 4), type = oper, isherm = False\\begin{equation*}\\left(\\begin{array}{*{11}c}0.217 & (0.033-0.028j) & (0.033+0.028j) & 0.783\\\\(-0.038+0.007j) & (-0.063-0.048j) & (0.392+0.014j) & (0.038-0.007j)\\\\(-0.038-0.007j) & (0.392-0.014j) & (-0.063+0.048j) & (0.038+0.007j)\\\\0.783 & (-0.033+0.028j) & (-0.033-0.028j) & 0.217\\\\\\end{array}\\right)\\end{equation*}"
      ],
      "text/plain": [
       "Quantum object: dims = [[2, 2], [2, 2]], shape = (4, 4), type = oper, isherm = False\n",
       "Qobj data =\n",
       "[[ 0.21712042+0.j          0.03323531-0.02846357j  0.03323531+0.02846357j\n",
       "   0.78287958+0.j        ]\n",
       " [-0.03772689+0.0074809j  -0.06305574-0.04820519j  0.39170227+0.01423675j\n",
       "   0.03772689-0.0074809j ]\n",
       " [-0.03772689-0.0074809j   0.39170227-0.01423675j -0.06305574+0.04820519j\n",
       "   0.03772689+0.0074809j ]\n",
       " [ 0.78287958+0.j         -0.03323531+0.02846357j -0.03323531-0.02846357j\n",
       "   0.21712042+0.j        ]]"
      ]
     },
     "execution_count": 62,
     "metadata": {},
     "output_type": "execute_result"
    }
   ],
   "source": [
    "L_full_maker(xi_opt, dt)"
   ]
  },
  {
   "cell_type": "code",
   "execution_count": 63,
   "metadata": {
    "ExecuteTime": {
     "end_time": "2019-02-15T04:40:16.267146Z",
     "start_time": "2019-02-15T04:40:16.263389Z"
    }
   },
   "outputs": [
    {
     "data": {
      "text/plain": [
       "500"
      ]
     },
     "execution_count": 63,
     "metadata": {},
     "output_type": "execute_result"
    }
   ],
   "source": [
    "len(times)"
   ]
  },
  {
   "cell_type": "code",
   "execution_count": 64,
   "metadata": {
    "ExecuteTime": {
     "end_time": "2019-02-15T04:40:16.330845Z",
     "start_time": "2019-02-15T04:40:16.327804Z"
    }
   },
   "outputs": [],
   "source": [
    "new_label = [r'$g_{with diss}$']"
   ]
  },
  {
   "cell_type": "markdown",
   "metadata": {
    "ExecuteTime": {
     "end_time": "2019-02-14T15:50:39.160854Z",
     "start_time": "2019-02-14T15:50:39.155605Z"
    }
   },
   "source": [
    "'''plot_grape_control_fields(times,\n",
    "                          xi_opt / (2 * np.pi), new_label, uniform_axes=True);\n",
    "ValueError                                Traceback (most recent call last)\n",
    "<ipython-input-67-f3ebb7c23258> in <module>()\n",
    "      1 plot_grape_control_fields(times,\n",
    "----> 2                           xi_opt / (2 * np.pi), new_label, uniform_axes=True);\n",
    "\n",
    "/anaconda3/envs/qutip-env/lib/python3.6/site-packages/qutip/control/grape.py in plot_grape_control_fields(times, u, labels, uniform_axes)\n",
    "    101     import matplotlib.pyplot as plt\n",
    "    102 \n",
    "--> 103     R, J, M = u.shape\n",
    "    104 \n",
    "    105     fig, axes = plt.subplots(J, 1, figsize=(8, 2 * J), squeeze=False)\n",
    "\n",
    "ValueError: not enough values to unpack (expected 3, got 1) '''"
   ]
  },
  {
   "cell_type": "code",
   "execution_count": 65,
   "metadata": {
    "ExecuteTime": {
     "end_time": "2019-02-15T04:40:16.551916Z",
     "start_time": "2019-02-15T04:40:16.390075Z"
    }
   },
   "outputs": [
    {
     "name": "stderr",
     "output_type": "stream",
     "text": [
      "/anaconda3/envs/qutip-env/lib/python3.6/site-packages/numpy/core/numeric.py:492: ComplexWarning: Casting complex values to real discards the imaginary part\n",
      "  return array(a, dtype, copy=False, order=order)\n"
     ]
    },
    {
     "data": {
      "image/png": "[encoded data removed]",
      "text/plain": [
       "<Figure size 432x288 with 1 Axes>"
      ]
     },
     "metadata": {},
     "output_type": "display_data"
    }
   ],
   "source": [
    "ax = axes()\n",
    "ax.plot(times, xi_opt)\n",
    "ax.set(xlim=(0, total_time_evo), ylim=(-0.8,0.8 ),\n",
    "       xlabel='time', ylabel= r'$g_{with diss}$',\n",
    "       title='Control field in the presence of dissipation');"
   ]
  },
  {
   "cell_type": "code",
   "execution_count": 66,
   "metadata": {
    "ExecuteTime": {
     "end_time": "2019-02-15T04:40:16.763662Z",
     "start_time": "2019-02-15T04:40:16.613034Z"
    }
   },
   "outputs": [
    {
     "name": "stderr",
     "output_type": "stream",
     "text": [
      "/anaconda3/envs/qutip-env/lib/python3.6/site-packages/numpy/core/numeric.py:492: ComplexWarning: Casting complex values to real discards the imaginary part\n",
      "  return array(a, dtype, copy=False, order=order)\n",
      "/anaconda3/envs/qutip-env/lib/python3.6/site-packages/matplotlib/transforms.py:954: ComplexWarning: Casting complex values to real discards the imaginary part\n",
      "  self._points[:, 1] = interval\n"
     ]
    },
    {
     "data": {
      "image/png": "[encoded data removed]",
      "text/plain": [
       "<Figure size 432x288 with 1 Axes>"
      ]
     },
     "metadata": {},
     "output_type": "display_data"
    }
   ],
   "source": [
    "ax = axes()\n",
    "ax.plot(times, xi_opt)\n",
    "xi_max = amax(xi_opt) + 0.1\n",
    "xi_min = amin(xi_opt) - 0.1\n",
    "\n",
    "ax.set(xlim=(0, total_time_evo), ylim=(xi_min, xi_max),\n",
    "       xlabel='time', ylabel= r'$g_{with diss}$',\n",
    "       title='Control field in the presence of dissipation');"
   ]
  },
  {
   "cell_type": "code",
   "execution_count": 135,
   "metadata": {
    "ExecuteTime": {
     "end_time": "2019-02-15T07:03:12.931565Z",
     "start_time": "2019-02-15T07:03:12.677633Z"
    }
   },
   "outputs": [
    {
     "data": {
      "image/png": "[encoded data removed]",
      "text/plain": [
       "<Figure size 432x288 with 1 Axes>"
      ]
     },
     "metadata": {},
     "output_type": "display_data"
    }
   ],
   "source": [
    "ax = axes()\n",
    "ax.plot(times, result.u[-1, 0, : ])\n",
    "xi_max = amax(result.u[-1, 0, : ]) + 0.1\n",
    "xi_min = amin(result.u[-1, 0, : ]) - 0.1\n",
    "\n",
    "ax.set(xlim=(0, total_time_evo), ylim=(xi_min, xi_max),\n",
    "       xlabel='time', ylabel= r'$g_{with diss}$',\n",
    "       title='old Control field in the presence of \\\n",
    "              dissipation produced by qutip');"
   ]
  },
  {
   "cell_type": "markdown",
   "metadata": {},
   "source": [
    "### try"
   ]
  },
  {
   "cell_type": "code",
   "execution_count": null,
   "metadata": {
    "ExecuteTime": {
     "end_time": "2019-02-15T04:25:13.663009Z",
     "start_time": "2019-02-15T04:18:06.062Z"
    }
   },
   "outputs": [],
   "source": [
    "xi_opt = terminator(1000,time_steps=len(times), total_time= total_time_evo,\n",
    "               epsilon= ((0.1*2*pi)/(10**4)))"
   ]
  },
  {
   "cell_type": "code",
   "execution_count": null,
   "metadata": {
    "ExecuteTime": {
     "end_time": "2019-02-15T04:25:13.664257Z",
     "start_time": "2019-02-15T04:18:06.065Z"
    }
   },
   "outputs": [],
   "source": [
    "dt = (2*pi)/500\n",
    "F(xi_opt, dt)"
   ]
  },
  {
   "cell_type": "code",
   "execution_count": null,
   "metadata": {
    "ExecuteTime": {
     "end_time": "2019-02-15T04:25:13.665710Z",
     "start_time": "2019-02-15T04:18:06.069Z"
    }
   },
   "outputs": [],
   "source": [
    "L_full_maker(xi_opt, dt)"
   ]
  },
  {
   "cell_type": "code",
   "execution_count": null,
   "metadata": {
    "ExecuteTime": {
     "end_time": "2019-02-15T04:25:13.667151Z",
     "start_time": "2019-02-15T04:18:06.071Z"
    }
   },
   "outputs": [],
   "source": [
    "ax = axes()\n",
    "ax.plot(times, xi_opt)\n",
    "xi_max = amax(xi_opt) + 0.1\n",
    "xi_min = amin(xi_opt) - 0.1\n",
    "\n",
    "ax.set(xlim=(0, total_time_evo), ylim=(xi_min, xi_max),\n",
    "       xlabel='time', ylabel= r'$g_{with diss}$',\n",
    "       title='Control field in the presence of dissipation');"
   ]
  },
  {
   "cell_type": "markdown",
   "metadata": {},
   "source": [
    "### try"
   ]
  },
  {
   "cell_type": "code",
   "execution_count": null,
   "metadata": {
    "ExecuteTime": {
     "end_time": "2019-02-15T04:25:13.668734Z",
     "start_time": "2019-02-15T04:18:06.192Z"
    }
   },
   "outputs": [],
   "source": [
    "xi_opt = terminator(10**4,time_steps=len(times), total_time= total_time_evo,\n",
    "               epsilon= ((0.1*2*pi)/(10**3)))"
   ]
  },
  {
   "cell_type": "code",
   "execution_count": null,
   "metadata": {
    "ExecuteTime": {
     "end_time": "2019-02-15T04:25:13.669973Z",
     "start_time": "2019-02-15T04:18:06.195Z"
    }
   },
   "outputs": [],
   "source": [
    "dt = (2*pi)/500\n",
    "F(xi_opt, dt)"
   ]
  },
  {
   "cell_type": "code",
   "execution_count": null,
   "metadata": {
    "ExecuteTime": {
     "end_time": "2019-02-15T04:25:13.671402Z",
     "start_time": "2019-02-15T04:18:06.199Z"
    }
   },
   "outputs": [],
   "source": [
    "L_full_maker(xi_opt, dt)"
   ]
  },
  {
   "cell_type": "code",
   "execution_count": null,
   "metadata": {
    "ExecuteTime": {
     "end_time": "2019-02-15T04:25:13.672767Z",
     "start_time": "2019-02-15T04:18:06.201Z"
    }
   },
   "outputs": [],
   "source": [
    "ax = axes()\n",
    "ax.plot(times, xi_opt)\n",
    "xi_max = amax(xi_opt) + 0.1\n",
    "xi_min = amin(xi_opt) - 0.1\n",
    "\n",
    "ax.set(xlim=(0, total_time_evo), ylim=(xi_min, xi_max),\n",
    "       xlabel='time', ylabel= r'$g_{with diss}$',\n",
    "       title='Control field in the presence of dissipation');"
   ]
  },
  {
   "cell_type": "markdown",
   "metadata": {},
   "source": [
    "### try"
   ]
  },
  {
   "cell_type": "code",
   "execution_count": null,
   "metadata": {
    "ExecuteTime": {
     "end_time": "2019-02-15T04:25:13.674309Z",
     "start_time": "2019-02-15T04:18:06.333Z"
    }
   },
   "outputs": [],
   "source": [
    "xi_opt = terminator(10**4,time_steps=len(times), total_time= total_time_evo,\n",
    "               epsilon= ((0.1*2*pi)/(10**4)))"
   ]
  },
  {
   "cell_type": "code",
   "execution_count": null,
   "metadata": {
    "ExecuteTime": {
     "end_time": "2019-02-15T04:25:13.675584Z",
     "start_time": "2019-02-15T04:18:06.336Z"
    }
   },
   "outputs": [],
   "source": [
    "dt = (2*pi)/500\n",
    "F(xi_opt, dt)"
   ]
  },
  {
   "cell_type": "code",
   "execution_count": null,
   "metadata": {
    "ExecuteTime": {
     "end_time": "2019-02-15T04:25:13.676756Z",
     "start_time": "2019-02-15T04:18:06.341Z"
    }
   },
   "outputs": [],
   "source": [
    "L_full_maker(xi_opt, dt)"
   ]
  },
  {
   "cell_type": "code",
   "execution_count": null,
   "metadata": {
    "ExecuteTime": {
     "end_time": "2019-02-15T04:25:13.678172Z",
     "start_time": "2019-02-15T04:18:06.343Z"
    }
   },
   "outputs": [],
   "source": [
    "ax = axes()\n",
    "ax.plot(times, xi_opt)\n",
    "xi_max = amax(xi_opt) + 0.1\n",
    "xi_min = amin(xi_opt) - 0.1\n",
    "\n",
    "ax.set(xlim=(0, total_time_evo), ylim=(xi_min, xi_max),\n",
    "       xlabel='time', ylabel= r'$g_{with diss}$',\n",
    "       title='Control field in the presence of dissipation');"
   ]
  },
  {
   "cell_type": "markdown",
   "metadata": {},
   "source": [
    "### try"
   ]
  },
  {
   "cell_type": "code",
   "execution_count": null,
   "metadata": {
    "ExecuteTime": {
     "end_time": "2019-02-15T04:25:13.679575Z",
     "start_time": "2019-02-15T04:18:06.479Z"
    }
   },
   "outputs": [],
   "source": [
    "xi_opt = terminator(10**4,time_steps=len(times), total_time= total_time_evo,\n",
    "               epsilon= ((0.1*2*pi)/(10**10)))"
   ]
  },
  {
   "cell_type": "code",
   "execution_count": null,
   "metadata": {
    "ExecuteTime": {
     "end_time": "2019-02-15T04:25:13.680952Z",
     "start_time": "2019-02-15T04:18:06.481Z"
    }
   },
   "outputs": [],
   "source": [
    "dt = (2*pi)/500\n",
    "F(xi_opt, dt)"
   ]
  },
  {
   "cell_type": "code",
   "execution_count": null,
   "metadata": {
    "ExecuteTime": {
     "end_time": "2019-02-15T04:25:13.682349Z",
     "start_time": "2019-02-15T04:18:06.487Z"
    }
   },
   "outputs": [],
   "source": [
    "L_full_maker(xi_opt, dt)"
   ]
  },
  {
   "cell_type": "code",
   "execution_count": null,
   "metadata": {
    "ExecuteTime": {
     "end_time": "2019-02-15T04:25:13.684036Z",
     "start_time": "2019-02-15T04:18:06.489Z"
    }
   },
   "outputs": [],
   "source": [
    "ax = axes()\n",
    "ax.plot(times, xi_opt)\n",
    "xi_max = amax(xi_opt) + 0.1\n",
    "xi_min = amin(xi_opt) - 0.1\n",
    "\n",
    "ax.set(xlim=(0, total_time_evo), ylim=(xi_min, xi_max),\n",
    "       xlabel='time', ylabel= r'$g_{with diss}$',\n",
    "       title='Control field in the presence of dissipation');"
   ]
  },
  {
   "cell_type": "markdown",
   "metadata": {},
   "source": [
    "### try"
   ]
  },
  {
   "cell_type": "code",
   "execution_count": null,
   "metadata": {
    "ExecuteTime": {
     "end_time": "2019-02-15T04:25:13.685569Z",
     "start_time": "2019-02-15T04:18:06.612Z"
    }
   },
   "outputs": [],
   "source": [
    "xi_opt = terminator(10**4,time_steps=10**3, total_time= total_time_evo,\n",
    "               epsilon= ((0.1*2*pi)/(10**3)))"
   ]
  },
  {
   "cell_type": "code",
   "execution_count": null,
   "metadata": {
    "ExecuteTime": {
     "end_time": "2019-02-15T04:25:13.687057Z",
     "start_time": "2019-02-15T04:18:06.614Z"
    }
   },
   "outputs": [],
   "source": [
    "dt = (2*pi)/(10**3)#(2*pi)/500\n",
    "# probaly happened because of hard coding of dt inside terminator\n",
    "# must try it again after changing that\n",
    "F(xi_opt, dt)\n"
   ]
  },
  {
   "cell_type": "code",
   "execution_count": null,
   "metadata": {
    "ExecuteTime": {
     "end_time": "2019-02-15T04:25:13.689866Z",
     "start_time": "2019-02-15T04:18:06.618Z"
    }
   },
   "outputs": [],
   "source": [
    "L_full_maker(xi_opt, dt)"
   ]
  },
  {
   "cell_type": "code",
   "execution_count": null,
   "metadata": {
    "ExecuteTime": {
     "end_time": "2019-02-15T04:25:13.692867Z",
     "start_time": "2019-02-15T04:18:06.621Z"
    }
   },
   "outputs": [],
   "source": [
    "ax = axes()\n",
    "ax.plot(times, xi_opt)\n",
    "xi_max = amax(xi_opt) + 0.1\n",
    "xi_min = amin(xi_opt) - 0.1\n",
    "\n",
    "ax.set(xlim=(0, total_time_evo), ylim=(xi_min, xi_max),\n",
    "       xlabel='time', ylabel= r'$g_{with diss}$',\n",
    "       title='Control field in the presence of dissipation');"
   ]
  },
  {
   "cell_type": "markdown",
   "metadata": {},
   "source": [
    "## APS stuff"
   ]
  },
  {
   "cell_type": "markdown",
   "metadata": {},
   "source": [
    "### infidelity function tryouts"
   ]
  },
  {
   "cell_type": "code",
   "execution_count": 67,
   "metadata": {
    "ExecuteTime": {
     "end_time": "2019-02-15T04:40:16.828996Z",
     "start_time": "2019-02-15T04:40:16.821473Z"
    }
   },
   "outputs": [
    {
     "data": {
      "text/latex": [
       "Quantum object: dims = [[2], [1]], shape = (2, 1), type = ket\\begin{equation*}\\left(\\begin{array}{*{11}c}1.0\\\\0.0\\\\\\end{array}\\right)\\end{equation*}"
      ],
      "text/plain": [
       "Quantum object: dims = [[2], [1]], shape = (2, 1), type = ket\n",
       "Qobj data =\n",
       "[[1.]\n",
       " [0.]]"
      ]
     },
     "execution_count": 67,
     "metadata": {},
     "output_type": "execute_result"
    }
   ],
   "source": [
    "qone = basis(2, 0)\n",
    "qone"
   ]
  },
  {
   "cell_type": "code",
   "execution_count": 68,
   "metadata": {
    "ExecuteTime": {
     "end_time": "2019-02-15T04:40:16.894583Z",
     "start_time": "2019-02-15T04:40:16.887322Z"
    }
   },
   "outputs": [
    {
     "data": {
      "text/latex": [
       "Quantum object: dims = [[2], [1]], shape = (2, 1), type = ket\\begin{equation*}\\left(\\begin{array}{*{11}c}0.0\\\\1.0\\\\\\end{array}\\right)\\end{equation*}"
      ],
      "text/plain": [
       "Quantum object: dims = [[2], [1]], shape = (2, 1), type = ket\n",
       "Qobj data =\n",
       "[[0.]\n",
       " [1.]]"
      ]
     },
     "execution_count": 68,
     "metadata": {},
     "output_type": "execute_result"
    }
   ],
   "source": [
    "qzero = basis(2, 1)\n",
    "qzero"
   ]
  },
  {
   "cell_type": "markdown",
   "metadata": {
    "ExecuteTime": {
     "end_time": "2019-02-15T04:40:16.961355Z",
     "start_time": "2019-02-15T04:40:16.952718Z"
    }
   },
   "source": [
    "###### ket2bra\n",
    "---------------------------------------------------------------------------\n",
    "NameError                                 Traceback (most recent call last)\n",
    "<ipython-input-69-8f247c0c4d8f> in <module>()\n",
    "----> 1 ket2bra\n",
    "\n",
    "NameError: name 'ket2bra' is not defined\n"
   ]
  },
  {
   "cell_type": "code",
   "execution_count": 87,
   "metadata": {
    "ExecuteTime": {
     "end_time": "2019-02-15T05:33:15.272917Z",
     "start_time": "2019-02-15T05:33:15.247918Z"
    }
   },
   "outputs": [
    {
     "data": {
      "text/plain": [
       "(1+0j)"
      ]
     },
     "execution_count": 87,
     "metadata": {},
     "output_type": "execute_result"
    }
   ],
   "source": [
    "(sigmax()).matrix_element(qone, qzero)"
   ]
  },
  {
   "cell_type": "code",
   "execution_count": 88,
   "metadata": {
    "ExecuteTime": {
     "end_time": "2019-02-15T05:33:15.676205Z",
     "start_time": "2019-02-15T05:33:15.666396Z"
    }
   },
   "outputs": [
    {
     "data": {
      "text/plain": [
       "1.0"
      ]
     },
     "execution_count": 88,
     "metadata": {},
     "output_type": "execute_result"
    }
   ],
   "source": [
    "abs((sigmax()).matrix_element(qone, qzero))"
   ]
  },
  {
   "cell_type": "code",
   "execution_count": 89,
   "metadata": {
    "ExecuteTime": {
     "end_time": "2019-02-15T05:33:15.991848Z",
     "start_time": "2019-02-15T05:33:15.984679Z"
    }
   },
   "outputs": [
    {
     "data": {
      "text/plain": [
       "3.605551275463989"
      ]
     },
     "execution_count": 89,
     "metadata": {},
     "output_type": "execute_result"
    }
   ],
   "source": [
    "abs(2 + 3j)"
   ]
  },
  {
   "cell_type": "code",
   "execution_count": 90,
   "metadata": {
    "ExecuteTime": {
     "end_time": "2019-02-15T05:33:16.655725Z",
     "start_time": "2019-02-15T05:33:16.651400Z"
    }
   },
   "outputs": [
    {
     "data": {
      "text/plain": [
       "5.0"
      ]
     },
     "execution_count": 90,
     "metadata": {},
     "output_type": "execute_result"
    }
   ],
   "source": [
    "abs(3 + 4j)"
   ]
  },
  {
   "cell_type": "code",
   "execution_count": 91,
   "metadata": {
    "ExecuteTime": {
     "end_time": "2019-02-15T05:33:16.761169Z",
     "start_time": "2019-02-15T05:33:16.757647Z"
    }
   },
   "outputs": [],
   "source": [
    "def infidelity_to_one(U):\n",
    "    r\"\"\"infidelity to state one\"\"\"\n",
    "    fidelity = (abs(U.matrix_element(qone, qzero)))**2\n",
    "    infidelity = 1 - fidelity\n",
    "    return infidelity"
   ]
  },
  {
   "cell_type": "code",
   "execution_count": 92,
   "metadata": {
    "ExecuteTime": {
     "end_time": "2019-02-15T05:33:17.046048Z",
     "start_time": "2019-02-15T05:33:17.040163Z"
    }
   },
   "outputs": [
    {
     "data": {
      "text/plain": [
       "0.0"
      ]
     },
     "execution_count": 92,
     "metadata": {},
     "output_type": "execute_result"
    }
   ],
   "source": [
    "infidelity_to_one(sigmax()) \n",
    "# 1 - abs((sigmax()).matrix_element(qone, qzero))\n",
    "# 1 - 1 = 0"
   ]
  },
  {
   "cell_type": "markdown",
   "metadata": {},
   "source": [
    "  result.u, result.u but lindbladian evolution, xi_opt"
   ]
  },
  {
   "cell_type": "code",
   "execution_count": 93,
   "metadata": {
    "ExecuteTime": {
     "end_time": "2019-02-15T05:33:19.354623Z",
     "start_time": "2019-02-15T05:33:19.347847Z"
    }
   },
   "outputs": [
    {
     "data": {
      "text/plain": [
       "0j"
      ]
     },
     "execution_count": 93,
     "metadata": {},
     "output_type": "execute_result"
    }
   ],
   "source": [
    "qone.overlap(qzero)"
   ]
  },
  {
   "cell_type": "code",
   "execution_count": 94,
   "metadata": {
    "ExecuteTime": {
     "end_time": "2019-02-15T05:33:19.713833Z",
     "start_time": "2019-02-15T05:33:19.708486Z"
    }
   },
   "outputs": [
    {
     "data": {
      "text/plain": [
       "(1+0j)"
      ]
     },
     "execution_count": 94,
     "metadata": {},
     "output_type": "execute_result"
    }
   ],
   "source": [
    "qzero.overlap(qzero)"
   ]
  },
  {
   "cell_type": "code",
   "execution_count": 95,
   "metadata": {
    "ExecuteTime": {
     "end_time": "2019-02-15T05:33:20.041088Z",
     "start_time": "2019-02-15T05:33:20.036259Z"
    }
   },
   "outputs": [
    {
     "data": {
      "text/plain": [
       "(1+0j)"
      ]
     },
     "execution_count": 95,
     "metadata": {},
     "output_type": "execute_result"
    }
   ],
   "source": [
    "qone.overlap(qone)"
   ]
  },
  {
   "cell_type": "code",
   "execution_count": 96,
   "metadata": {
    "ExecuteTime": {
     "end_time": "2019-02-15T05:33:20.972292Z",
     "start_time": "2019-02-15T05:33:20.967262Z"
    }
   },
   "outputs": [],
   "source": [
    "def infidelity_to_state(psi):\n",
    "    r\"\"\"infidelity to state one\"\"\"\n",
    "    fidelity = (abs(qone.overlap(psi)))**2\n",
    "    infidelity = 1 - fidelity\n",
    "    return infidelity"
   ]
  },
  {
   "cell_type": "code",
   "execution_count": 126,
   "metadata": {
    "ExecuteTime": {
     "end_time": "2019-02-15T06:21:08.619777Z",
     "start_time": "2019-02-15T06:21:08.614552Z"
    }
   },
   "outputs": [
    {
     "data": {
      "text/plain": [
       "1.0"
      ]
     },
     "execution_count": 126,
     "metadata": {},
     "output_type": "execute_result"
    }
   ],
   "source": [
    "infidelity_to_state(qzero)"
   ]
  },
  {
   "cell_type": "code",
   "execution_count": 127,
   "metadata": {
    "ExecuteTime": {
     "end_time": "2019-02-15T06:21:28.657256Z",
     "start_time": "2019-02-15T06:21:28.650924Z"
    }
   },
   "outputs": [
    {
     "data": {
      "text/plain": [
       "0.0"
      ]
     },
     "execution_count": 127,
     "metadata": {},
     "output_type": "execute_result"
    }
   ],
   "source": [
    "infidelity_to_state(qone)"
   ]
  },
  {
   "cell_type": "code",
   "execution_count": 97,
   "metadata": {
    "ExecuteTime": {
     "end_time": "2019-02-15T05:33:30.839842Z",
     "start_time": "2019-02-15T05:33:30.836267Z"
    }
   },
   "outputs": [],
   "source": [
    "#mesolve"
   ]
  },
  {
   "cell_type": "markdown",
   "metadata": {
    "ExecuteTime": {
     "end_time": "2019-02-15T04:40:17.005913Z",
     "start_time": "2019-02-15T04:34:35.127Z"
    }
   },
   "source": [
    "\n",
    "### state building"
   ]
  },
  {
   "cell_type": "code",
   "execution_count": 73,
   "metadata": {
    "ExecuteTime": {
     "end_time": "2019-02-15T05:10:58.397315Z",
     "start_time": "2019-02-15T05:10:53.111694Z"
    }
   },
   "outputs": [
    {
     "name": "stdout",
     "output_type": "stream",
     "text": [
      " Total run time:   1.06s*] Elapsed 1.06s / Remaining 00:00:00:00[*********97%********** ] Elapsed 1.02s / Remaining 00:00:00:00\n"
     ]
    }
   ],
   "source": [
    "H_no_diss = [H_0, [H_1, result.u[-1, 0, :] ]]\n",
    "grape_no_diss = mesolve(H_no_diss, qzero, times, c_ops=[], e_ops=[], \n",
    "                        args={}, options=None, \n",
    "                        progress_bar=EnhancedTextProgressBar() )"
   ]
  },
  {
   "cell_type": "code",
   "execution_count": 74,
   "metadata": {
    "ExecuteTime": {
     "end_time": "2019-02-15T05:15:05.022670Z",
     "start_time": "2019-02-15T05:15:05.016547Z"
    }
   },
   "outputs": [
    {
     "data": {
      "text/plain": [
       "500"
      ]
     },
     "execution_count": 74,
     "metadata": {},
     "output_type": "execute_result"
    }
   ],
   "source": [
    "len(grape_no_diss.states)"
   ]
  },
  {
   "cell_type": "code",
   "execution_count": 75,
   "metadata": {
    "ExecuteTime": {
     "end_time": "2019-02-15T05:17:22.124295Z",
     "start_time": "2019-02-15T05:17:22.117557Z"
    }
   },
   "outputs": [
    {
     "data": {
      "text/latex": [
       "Quantum object: dims = [[2], [2]], shape = (2, 2), type = oper, isherm = True\\begin{equation*}\\left(\\begin{array}{*{11}c}1.0 & 0.0\\\\0.0 & -1.0\\\\\\end{array}\\right)\\end{equation*}"
      ],
      "text/plain": [
       "Quantum object: dims = [[2], [2]], shape = (2, 2), type = oper, isherm = True\n",
       "Qobj data =\n",
       "[[ 1.  0.]\n",
       " [ 0. -1.]]"
      ]
     },
     "execution_count": 75,
     "metadata": {},
     "output_type": "execute_result"
    }
   ],
   "source": [
    "Lin"
   ]
  },
  {
   "cell_type": "code",
   "execution_count": 80,
   "metadata": {
    "ExecuteTime": {
     "end_time": "2019-02-15T05:21:18.226961Z",
     "start_time": "2019-02-15T05:21:18.222491Z"
    }
   },
   "outputs": [
    {
     "data": {
      "text/plain": [
       "0.31622776601683794"
      ]
     },
     "execution_count": 80,
     "metadata": {},
     "output_type": "execute_result"
    }
   ],
   "source": [
    "sqrt(gamma)"
   ]
  },
  {
   "cell_type": "code",
   "execution_count": 79,
   "metadata": {
    "ExecuteTime": {
     "end_time": "2019-02-15T05:20:47.227009Z",
     "start_time": "2019-02-15T05:20:47.221215Z"
    }
   },
   "outputs": [
    {
     "data": {
      "text/latex": [
       "Quantum object: dims = [[2], [2]], shape = (2, 2), type = oper, isherm = True\\begin{equation*}\\left(\\begin{array}{*{11}c}0.316 & 0.0\\\\0.0 & -0.316\\\\\\end{array}\\right)\\end{equation*}"
      ],
      "text/plain": [
       "Quantum object: dims = [[2], [2]], shape = (2, 2), type = oper, isherm = True\n",
       "Qobj data =\n",
       "[[ 0.31622777  0.        ]\n",
       " [ 0.         -0.31622777]]"
      ]
     },
     "execution_count": 79,
     "metadata": {},
     "output_type": "execute_result"
    }
   ],
   "source": [
    "c_ops_tejas = sqrt(gamma)*Lin\n",
    "c_ops_tejas"
   ]
  },
  {
   "cell_type": "code",
   "execution_count": 81,
   "metadata": {
    "ExecuteTime": {
     "end_time": "2019-02-15T05:21:56.195481Z",
     "start_time": "2019-02-15T05:21:51.941570Z"
    }
   },
   "outputs": [
    {
     "name": "stdout",
     "output_type": "stream",
     "text": [
      " Total run time:   0.81s*] Elapsed 0.81s / Remaining 00:00:00:00[*********40%           ] Elapsed 0.30s / Remaining 00:00:00:00\n"
     ]
    }
   ],
   "source": [
    "H_diss = [H_0, [H_1, result.u[-1, 0, :] ]]\n",
    "grape_diss = mesolve(H_no_diss, qzero, times, c_ops=[c_ops_tejas], e_ops=[], \n",
    "                        args={}, options=None, \n",
    "                        progress_bar=EnhancedTextProgressBar() )"
   ]
  },
  {
   "cell_type": "code",
   "execution_count": 82,
   "metadata": {
    "ExecuteTime": {
     "end_time": "2019-02-15T05:22:07.830776Z",
     "start_time": "2019-02-15T05:22:07.824838Z"
    }
   },
   "outputs": [
    {
     "data": {
      "text/plain": [
       "500"
      ]
     },
     "execution_count": 82,
     "metadata": {},
     "output_type": "execute_result"
    }
   ],
   "source": [
    "len(grape_diss.states)"
   ]
  },
  {
   "cell_type": "code",
   "execution_count": 85,
   "metadata": {
    "ExecuteTime": {
     "end_time": "2019-02-15T05:25:24.094235Z",
     "start_time": "2019-02-15T05:25:20.910479Z"
    }
   },
   "outputs": [
    {
     "name": "stdout",
     "output_type": "stream",
     "text": [
      "10.0%. Run time:   0.02s. Est. time left: 00:00:00:00\n",
      "20.0%. Run time:   0.04s. Est. time left: 00:00:00:00\n",
      "30.0%. Run time:   0.06s. Est. time left: 00:00:00:00\n",
      "40.0%. Run time:   0.07s. Est. time left: 00:00:00:00\n",
      "50.0%. Run time:   0.09s. Est. time left: 00:00:00:00\n",
      "60.0%. Run time:   0.11s. Est. time left: 00:00:00:00\n",
      "70.0%. Run time:   0.12s. Est. time left: 00:00:00:00\n",
      "80.0%. Run time:   0.14s. Est. time left: 00:00:00:00\n",
      "90.0%. Run time:   0.16s. Est. time left: 00:00:00:00\n",
      "Total run time:   0.18s\n"
     ]
    }
   ],
   "source": [
    "H_diss_optimized = [H_0, [H_1, xi_opt ]]\n",
    "grape_diss_optimized = mesolve(H_no_diss, qzero, times, c_ops=[c_ops_tejas], \n",
    "                               e_ops=[], args={}, options=None, \n",
    "                               progress_bar=TextProgressBar() )"
   ]
  },
  {
   "cell_type": "code",
   "execution_count": 86,
   "metadata": {
    "ExecuteTime": {
     "end_time": "2019-02-15T05:25:38.341555Z",
     "start_time": "2019-02-15T05:25:38.336717Z"
    }
   },
   "outputs": [
    {
     "data": {
      "text/plain": [
       "500"
      ]
     },
     "execution_count": 86,
     "metadata": {},
     "output_type": "execute_result"
    }
   ],
   "source": [
    "len(grape_diss_optimized.states)"
   ]
  },
  {
   "cell_type": "markdown",
   "metadata": {},
   "source": [
    "### states list to fidelity list"
   ]
  },
  {
   "cell_type": "code",
   "execution_count": 99,
   "metadata": {
    "ExecuteTime": {
     "end_time": "2019-02-15T05:38:50.861211Z",
     "start_time": "2019-02-15T05:38:50.858694Z"
    }
   },
   "outputs": [],
   "source": [
    "infidelity_to_state_vec = vectorize(infidelity_to_state)"
   ]
  },
  {
   "cell_type": "code",
   "execution_count": 110,
   "metadata": {
    "ExecuteTime": {
     "end_time": "2019-02-15T06:03:00.147929Z",
     "start_time": "2019-02-15T06:03:00.075022Z"
    }
   },
   "outputs": [],
   "source": [
    "infid_grape_no_diss = infidelity_to_state_vec(grape_no_diss.states)"
   ]
  },
  {
   "cell_type": "code",
   "execution_count": 103,
   "metadata": {
    "ExecuteTime": {
     "end_time": "2019-02-15T05:53:06.567791Z",
     "start_time": "2019-02-15T05:53:06.556851Z"
    }
   },
   "outputs": [
    {
     "data": {
      "text/plain": [
       "'fid_grape_diss = infidelity_to_state_vec(grape_diss.states)\\nTypeError                                 Traceback (most recent call last)\\n<ipython-input-101-fbabc06eff84> in <module>()\\n----> 1 fid_grape_diss = infidelity_to_state_vec(grape_diss.states)\\n\\n/anaconda3/envs/qutip-env/lib/python3.6/site-packages/numpy/lib/function_base.py in __call__(self, *args, **kwargs)\\n   2753             vargs.extend([kwargs[_n] for _n in names])\\n   2754 \\n-> 2755         return self._vectorize_call(func=func, args=vargs)\\n   2756 \\n   2757     def _get_ufunc_and_otypes(self, func, args):\\n\\n/anaconda3/envs/qutip-env/lib/python3.6/site-packages/numpy/lib/function_base.py in _vectorize_call(self, func, args)\\n   2823             res = func()\\n   2824         else:\\n-> 2825             ufunc, otypes = self._get_ufunc_and_otypes(func=func, args=args)\\n   2826 \\n   2827             # Convert args to object arrays first\\n\\n/anaconda3/envs/qutip-env/lib/python3.6/site-packages/numpy/lib/function_base.py in _get_ufunc_and_otypes(self, func, args)\\n   2783 \\n   2784             inputs = [arg.flat[0] for arg in args]\\n-> 2785             outputs = func(*inputs)\\n   2786 \\n   2787             # Performance note: profiling indicates that -- for simple\\n\\n<ipython-input-96-32321f8d8a33> in infidelity_to_state(psi)\\n      1 def infidelity_to_state(psi):\\n      2     r\"\"\"infidelity to state one\"\"\"\\n----> 3     fidelity = (abs(qone.overlap(psi)))**2\\n      4     infidelity = 1 - fidelity\\n      5     return infidelity\\n\\n/anaconda3/envs/qutip-env/lib/python3.6/site-packages/qutip/qobj.py in overlap(self, state)\\n   1486                     return (self.data.H * state.data)[0, 0]\\n   1487 \\n-> 1488         raise TypeError(\"Can only calculate overlap for state vector Qobjs\")\\n   1489 \\n   1490     def eigenstates(self, sparse=False, sort=\\'low\\',\\n\\nTypeError: Can only calculate overlap for state vector Qobjs\\n\\n\\n'"
      ]
     },
     "execution_count": 103,
     "metadata": {},
     "output_type": "execute_result"
    }
   ],
   "source": [
    "'''fid_grape_diss = infidelity_to_state_vec(grape_diss.states)\n",
    "TypeError                                 Traceback (most recent call last)\n",
    "<ipython-input-101-fbabc06eff84> in <module>()\n",
    "----> 1 fid_grape_diss = infidelity_to_state_vec(grape_diss.states)\n",
    "\n",
    "/anaconda3/envs/qutip-env/lib/python3.6/site-packages/numpy/lib/function_base.py in __call__(self, *args, **kwargs)\n",
    "   2753             vargs.extend([kwargs[_n] for _n in names])\n",
    "   2754 \n",
    "-> 2755         return self._vectorize_call(func=func, args=vargs)\n",
    "   2756 \n",
    "   2757     def _get_ufunc_and_otypes(self, func, args):\n",
    "\n",
    "/anaconda3/envs/qutip-env/lib/python3.6/site-packages/numpy/lib/function_base.py in _vectorize_call(self, func, args)\n",
    "   2823             res = func()\n",
    "   2824         else:\n",
    "-> 2825             ufunc, otypes = self._get_ufunc_and_otypes(func=func, args=args)\n",
    "   2826 \n",
    "   2827             # Convert args to object arrays first\n",
    "\n",
    "/anaconda3/envs/qutip-env/lib/python3.6/site-packages/numpy/lib/function_base.py in _get_ufunc_and_otypes(self, func, args)\n",
    "   2783 \n",
    "   2784             inputs = [arg.flat[0] for arg in args]\n",
    "-> 2785             outputs = func(*inputs)\n",
    "   2786 \n",
    "   2787             # Performance note: profiling indicates that -- for simple\n",
    "\n",
    "<ipython-input-96-32321f8d8a33> in infidelity_to_state(psi)\n",
    "      1 def infidelity_to_state(psi):\n",
    "      2     r\"\"\"infidelity to state one\"\"\"\n",
    "----> 3     fidelity = (abs(qone.overlap(psi)))**2\n",
    "      4     infidelity = 1 - fidelity\n",
    "      5     return infidelity\n",
    "\n",
    "/anaconda3/envs/qutip-env/lib/python3.6/site-packages/qutip/qobj.py in overlap(self, state)\n",
    "   1486                     return (self.data.H * state.data)[0, 0]\n",
    "   1487 \n",
    "-> 1488         raise TypeError(\"Can only calculate overlap for state vector Qobjs\")\n",
    "   1489 \n",
    "   1490     def eigenstates(self, sparse=False, sort='low',\n",
    "\n",
    "TypeError: Can only calculate overlap for state vector Qobjs\n",
    "\n",
    "\n",
    "'''"
   ]
  },
  {
   "cell_type": "markdown",
   "metadata": {
    "ExecuteTime": {
     "end_time": "2019-02-15T05:53:06.567791Z",
     "start_time": "2019-02-15T05:53:06.556851Z"
    }
   },
   "source": [
    "fid_grape_no_diss = infidelity_to_state_vec(grape_no_diss.states)"
   ]
  },
  {
   "cell_type": "code",
   "execution_count": 105,
   "metadata": {
    "ExecuteTime": {
     "end_time": "2019-02-15T05:54:27.415191Z",
     "start_time": "2019-02-15T05:54:27.405226Z"
    }
   },
   "outputs": [
    {
     "data": {
      "text/plain": [
       "1.9999999999999996"
      ]
     },
     "execution_count": 105,
     "metadata": {},
     "output_type": "execute_result"
    }
   ],
   "source": [
    "fidelity(sigmax(), sigmax())"
   ]
  },
  {
   "cell_type": "code",
   "execution_count": 107,
   "metadata": {
    "ExecuteTime": {
     "end_time": "2019-02-15T06:00:48.557494Z",
     "start_time": "2019-02-15T06:00:48.547494Z"
    }
   },
   "outputs": [
    {
     "data": {
      "text/latex": [
       "Quantum object: dims = [[2], [2]], shape = (2, 2), type = oper, isherm = True\\begin{equation*}\\left(\\begin{array}{*{11}c}0.0 & 0.0\\\\0.0 & 1.0\\\\\\end{array}\\right)\\end{equation*}"
      ],
      "text/plain": [
       "Quantum object: dims = [[2], [2]], shape = (2, 2), type = oper, isherm = True\n",
       "Qobj data =\n",
       "[[0. 0.]\n",
       " [0. 1.]]"
      ]
     },
     "execution_count": 107,
     "metadata": {},
     "output_type": "execute_result"
    }
   ],
   "source": [
    "zero_dm = ket2dm(qzero)\n",
    "zero_dm"
   ]
  },
  {
   "cell_type": "code",
   "execution_count": 108,
   "metadata": {
    "ExecuteTime": {
     "end_time": "2019-02-15T06:01:21.557846Z",
     "start_time": "2019-02-15T06:01:21.551681Z"
    }
   },
   "outputs": [
    {
     "data": {
      "text/latex": [
       "Quantum object: dims = [[2], [2]], shape = (2, 2), type = oper, isherm = True\\begin{equation*}\\left(\\begin{array}{*{11}c}1.0 & 0.0\\\\0.0 & 0.0\\\\\\end{array}\\right)\\end{equation*}"
      ],
      "text/plain": [
       "Quantum object: dims = [[2], [2]], shape = (2, 2), type = oper, isherm = True\n",
       "Qobj data =\n",
       "[[1. 0.]\n",
       " [0. 0.]]"
      ]
     },
     "execution_count": 108,
     "metadata": {},
     "output_type": "execute_result"
    }
   ],
   "source": [
    "one_dm = ket2dm(qone)\n",
    "one_dm"
   ]
  },
  {
   "cell_type": "code",
   "execution_count": 109,
   "metadata": {
    "ExecuteTime": {
     "end_time": "2019-02-15T06:01:39.186534Z",
     "start_time": "2019-02-15T06:01:39.177549Z"
    }
   },
   "outputs": [
    {
     "data": {
      "text/plain": [
       "1.0"
      ]
     },
     "execution_count": 109,
     "metadata": {},
     "output_type": "execute_result"
    }
   ],
   "source": [
    "fidelity(zero_dm, zero_dm)"
   ]
  },
  {
   "cell_type": "code",
   "execution_count": 111,
   "metadata": {
    "ExecuteTime": {
     "end_time": "2019-02-15T06:06:27.318346Z",
     "start_time": "2019-02-15T06:06:27.308950Z"
    }
   },
   "outputs": [
    {
     "data": {
      "text/plain": [
       "0.0"
      ]
     },
     "execution_count": 111,
     "metadata": {},
     "output_type": "execute_result"
    }
   ],
   "source": [
    "fidelity(zero_dm, one_dm)"
   ]
  },
  {
   "cell_type": "code",
   "execution_count": 112,
   "metadata": {
    "ExecuteTime": {
     "end_time": "2019-02-15T06:06:27.318346Z",
     "start_time": "2019-02-15T06:06:27.308950Z"
    }
   },
   "outputs": [
    {
     "data": {
      "text/plain": [
       "0.0"
      ]
     },
     "execution_count": 112,
     "metadata": {},
     "output_type": "execute_result"
    }
   ],
   "source": [
    "fidelity(one_dm, zero_dm)"
   ]
  },
  {
   "cell_type": "code",
   "execution_count": 113,
   "metadata": {
    "ExecuteTime": {
     "end_time": "2019-02-15T06:09:37.831837Z",
     "start_time": "2019-02-15T06:09:37.826929Z"
    }
   },
   "outputs": [
    {
     "data": {
      "text/latex": [
       "Quantum object: dims = [[2], [1]], shape = (2, 1), type = ket\\begin{equation*}\\left(\\begin{array}{*{11}c}(0.012-2.347\\times10^{-05}j)\\\\(0.999+0.031j)\\\\\\end{array}\\right)\\end{equation*}"
      ],
      "text/plain": [
       "Quantum object: dims = [[2], [1]], shape = (2, 1), type = ket\n",
       "Qobj data =\n",
       "[[0.01159567-2.34707516e-05j]\n",
       " [0.99943734+3.14729600e-02j]]"
      ]
     },
     "execution_count": 113,
     "metadata": {},
     "output_type": "execute_result"
    }
   ],
   "source": [
    "grape_no_diss.states[5]"
   ]
  },
  {
   "cell_type": "code",
   "execution_count": 114,
   "metadata": {
    "ExecuteTime": {
     "end_time": "2019-02-15T06:14:14.304865Z",
     "start_time": "2019-02-15T06:14:14.284089Z"
    }
   },
   "outputs": [
    {
     "data": {
      "text/latex": [
       "Quantum object: dims = [[2], [2]], shape = (2, 2), type = oper, isherm = True\\begin{equation*}\\left(\\begin{array}{*{11}c}1.339\\times10^{-04} & (0.012-3.850\\times10^{-04}j)\\\\(0.012+3.850\\times10^{-04}j) & 1.000\\\\\\end{array}\\right)\\end{equation*}"
      ],
      "text/plain": [
       "Quantum object: dims = [[2], [2]], shape = (2, 2), type = oper, isherm = True\n",
       "Qobj data =\n",
       "[[1.33895405e-04+0.j         1.15108042e-02-0.00038504j]\n",
       " [1.15108042e-02+0.00038504j 9.99866105e-01+0.j        ]]"
      ]
     },
     "execution_count": 114,
     "metadata": {},
     "output_type": "execute_result"
    }
   ],
   "source": [
    "grape_diss.states[5]"
   ]
  },
  {
   "cell_type": "code",
   "execution_count": 115,
   "metadata": {
    "ExecuteTime": {
     "end_time": "2019-02-15T06:14:51.447020Z",
     "start_time": "2019-02-15T06:14:51.441177Z"
    }
   },
   "outputs": [
    {
     "data": {
      "text/latex": [
       "Quantum object: dims = [[2], [2]], shape = (2, 2), type = oper, isherm = True\\begin{equation*}\\left(\\begin{array}{*{11}c}2.280\\times10^{-04} & (0.015-7.162\\times10^{-04}j)\\\\(0.015+7.162\\times10^{-04}j) & 1.000\\\\\\end{array}\\right)\\end{equation*}"
      ],
      "text/plain": [
       "Quantum object: dims = [[2], [2]], shape = (2, 2), type = oper, isherm = True\n",
       "Qobj data =\n",
       "[[2.28003289e-04+0.j         1.49807954e-02-0.00071617j]\n",
       " [1.49807954e-02+0.00071617j 9.99771997e-01+0.j        ]]"
      ]
     },
     "execution_count": 115,
     "metadata": {},
     "output_type": "execute_result"
    }
   ],
   "source": [
    "grape_diss.states[7]"
   ]
  },
  {
   "cell_type": "code",
   "execution_count": 116,
   "metadata": {
    "ExecuteTime": {
     "end_time": "2019-02-15T06:15:56.185352Z",
     "start_time": "2019-02-15T06:15:56.165445Z"
    }
   },
   "outputs": [
    {
     "data": {
      "text/plain": [
       "0.015099777811811394"
      ]
     },
     "execution_count": 116,
     "metadata": {},
     "output_type": "execute_result"
    }
   ],
   "source": [
    "fidelity(grape_diss.states[7], one_dm)"
   ]
  },
  {
   "cell_type": "code",
   "execution_count": null,
   "metadata": {},
   "outputs": [],
   "source": [
    "#0.012−2.347×10**−05j)"
   ]
  },
  {
   "cell_type": "code",
   "execution_count": 120,
   "metadata": {
    "ExecuteTime": {
     "end_time": "2019-02-15T06:18:17.752952Z",
     "start_time": "2019-02-15T06:18:17.749775Z"
    }
   },
   "outputs": [],
   "source": [
    "def infidelity_tejas(dm, d=2):\n",
    "    r\"\"\"Brief description of the function\"\"\"\n",
    "    infid = 1 - fidelity(one_dm, dm)\n",
    "    return infid"
   ]
  },
  {
   "cell_type": "code",
   "execution_count": 121,
   "metadata": {
    "ExecuteTime": {
     "end_time": "2019-02-15T06:18:18.219027Z",
     "start_time": "2019-02-15T06:18:18.215151Z"
    }
   },
   "outputs": [],
   "source": [
    "infid_dm_vec = vectorize(infidelity_tejas)"
   ]
  },
  {
   "cell_type": "code",
   "execution_count": 122,
   "metadata": {
    "ExecuteTime": {
     "end_time": "2019-02-15T06:18:19.146215Z",
     "start_time": "2019-02-15T06:18:18.676084Z"
    }
   },
   "outputs": [],
   "source": [
    "infid_grape_diss = infid_dm_vec(grape_diss.states) "
   ]
  },
  {
   "cell_type": "code",
   "execution_count": 123,
   "metadata": {
    "ExecuteTime": {
     "end_time": "2019-02-15T06:18:49.026026Z",
     "start_time": "2019-02-15T06:18:49.021082Z"
    }
   },
   "outputs": [
    {
     "data": {
      "text/plain": [
       "500"
      ]
     },
     "execution_count": 123,
     "metadata": {},
     "output_type": "execute_result"
    }
   ],
   "source": [
    "len(infid_grape_diss)"
   ]
  },
  {
   "cell_type": "code",
   "execution_count": 124,
   "metadata": {
    "ExecuteTime": {
     "end_time": "2019-02-15T06:19:32.295179Z",
     "start_time": "2019-02-15T06:19:31.846070Z"
    }
   },
   "outputs": [],
   "source": [
    "infid_grape_diss_optimized = infid_dm_vec(grape_diss_optimized.states) "
   ]
  },
  {
   "cell_type": "code",
   "execution_count": 125,
   "metadata": {
    "ExecuteTime": {
     "end_time": "2019-02-15T06:19:49.148087Z",
     "start_time": "2019-02-15T06:19:49.143486Z"
    }
   },
   "outputs": [
    {
     "data": {
      "text/plain": [
       "500"
      ]
     },
     "execution_count": 125,
     "metadata": {},
     "output_type": "execute_result"
    }
   ],
   "source": [
    "len(infid_grape_diss_optimized)"
   ]
  },
  {
   "cell_type": "markdown",
   "metadata": {},
   "source": [
    "### plots"
   ]
  },
  {
   "cell_type": "code",
   "execution_count": 130,
   "metadata": {
    "ExecuteTime": {
     "end_time": "2019-02-15T06:38:35.501215Z",
     "start_time": "2019-02-15T06:38:35.324621Z"
    },
    "code_folding": []
   },
   "outputs": [
    {
     "data": {
      "image/png": "[encoded data removed]",
      "text/plain": [
       "<Figure size 432x288 with 1 Axes>"
      ]
     },
     "metadata": {},
     "output_type": "display_data"
    }
   ],
   "source": [
    "ax = axes()\n",
    "ax.plot(times, infid_grape_no_diss, label='grape_no_diss')\n",
    "ax.plot(times, infid_grape_diss, label='grape_diss')\n",
    "ax.plot(times, infid_grape_diss_optimized, label='grape_diss_optimized')\n",
    "#ax.plot(x, cos(x), ':b', label='cos(x)')'-g',\n",
    "#ax.axis('equal')\n",
    "ax.legend()\n",
    "ax.set(xlim=(times[0],times[-1]), ylim=(0, 1.1),\n",
    "       xlabel='time', ylabel='Infidelity',\n",
    "       title='Infidelity as a function of time ');"
   ]
  },
  {
   "cell_type": "code",
   "execution_count": 131,
   "metadata": {
    "ExecuteTime": {
     "end_time": "2019-02-15T06:48:44.315096Z",
     "start_time": "2019-02-15T06:48:44.147294Z"
    }
   },
   "outputs": [
    {
     "data": {
      "image/png": "[encoded data removed]",
      "text/plain": [
       "<Figure size 432x288 with 1 Axes>"
      ]
     },
     "metadata": {},
     "output_type": "display_data"
    }
   ],
   "source": [
    "ax = axes()\n",
    "ax.plot(times, infid_grape_no_diss, label='grape_no_diss')\n",
    "ax.plot(times, infid_grape_diss, label='grape_diss')\n",
    "#ax.plot(times, infid_grape_diss_optimized, label='grape_diss_optimized')\n",
    "#ax.plot(x, cos(x), ':b', label='cos(x)')'-g',\n",
    "#ax.axis('equal')\n",
    "ax.legend()\n",
    "\n",
    "ax.set(xlim=(times[0],times[-1]), ylim=(0, 1.1),\n",
    "       xlabel='time', ylabel='Infidelity',\n",
    "       title='Infidelity as a function of time ');"
   ]
  },
  {
   "cell_type": "code",
   "execution_count": 132,
   "metadata": {
    "ExecuteTime": {
     "end_time": "2019-02-15T06:48:44.315096Z",
     "start_time": "2019-02-15T06:48:44.147294Z"
    }
   },
   "outputs": [
    {
     "data": {
      "image/png": "[encoded data removed]",
      "text/plain": [
       "<Figure size 432x288 with 1 Axes>"
      ]
     },
     "metadata": {},
     "output_type": "display_data"
    }
   ],
   "source": [
    "ax = axes()\n",
    "ax.plot(times, infid_grape_no_diss, label='grape_no_diss')\n",
    "#ax.plot(times, infid_grape_diss, label='grape_diss')\n",
    "ax.plot(times, infid_grape_diss_optimized, label='grape_diss_optimized')\n",
    "#ax.plot(x, cos(x), ':b', label='cos(x)')'-g',\n",
    "#ax.axis('equal')\n",
    "ax.legend()\n",
    "\n",
    "ax.set(xlim=(times[0],times[-1]), ylim=(0, 1.1),\n",
    "       xlabel='time', ylabel='Infidelity',\n",
    "       title='Infidelity as a function of time ');"
   ]
  },
  {
   "cell_type": "code",
   "execution_count": 143,
   "metadata": {
    "ExecuteTime": {
     "end_time": "2019-02-15T08:59:53.106409Z",
     "start_time": "2019-02-15T08:59:52.951396Z"
    }
   },
   "outputs": [
    {
     "name": "stderr",
     "output_type": "stream",
     "text": [
      "/anaconda3/envs/qutip-env/lib/python3.6/site-packages/numpy/core/numeric.py:492: ComplexWarning: Casting complex values to real discards the imaginary part\n",
      "  return array(a, dtype, copy=False, order=order)\n",
      "/anaconda3/envs/qutip-env/lib/python3.6/site-packages/matplotlib/transforms.py:954: ComplexWarning: Casting complex values to real discards the imaginary part\n",
      "  self._points[:, 1] = interval\n"
     ]
    },
    {
     "data": {
      "image/png": "[encoded data removed]",
      "text/plain": [
       "<Figure size 432x288 with 1 Axes>"
      ]
     },
     "metadata": {},
     "output_type": "display_data"
    }
   ],
   "source": [
    "ax = axes()\n",
    "c_diff = result.u[-1, 0, : ] - xi_opt\n",
    "ax.plot(times, c_diff)\n",
    "c_max = amax(c_diff) + 0.1\n",
    "c_min = amin(c_diff) - 0.1\n",
    "\n",
    "ax.set(xlim=(0, total_time_evo), ylim=(c_min, c_max),\n",
    "       xlabel='time', ylabel= 'diff',\n",
    "       title='difference');"
   ]
  },
  {
   "cell_type": "code",
   "execution_count": null,
   "metadata": {},
   "outputs": [],
   "source": []
  },
  {
   "cell_type": "code",
   "execution_count": null,
   "metadata": {},
   "outputs": [],
   "source": []
  },
  {
   "cell_type": "code",
   "execution_count": null,
   "metadata": {},
   "outputs": [],
   "source": []
  },
  {
   "cell_type": "code",
   "execution_count": null,
   "metadata": {},
   "outputs": [],
   "source": []
  },
  {
   "cell_type": "code",
   "execution_count": null,
   "metadata": {},
   "outputs": [],
   "source": []
  },
  {
   "cell_type": "code",
   "execution_count": null,
   "metadata": {
    "ExecuteTime": {
     "end_time": "2019-02-15T04:25:13.715786Z",
     "start_time": "2019-02-15T04:18:06.950Z"
    }
   },
   "outputs": [],
   "source": [
    "ax = axes()\n",
    "ax.plot(times, xi_opt)\n",
    "xi_max = amax(xi_opt) + 0.1\n",
    "xi_min = amin(xi_opt) - 0.1\n",
    "\n",
    "ax.set(xlim=(0, total_time_evo), ylim=(xi_min, xi_max),\n",
    "       xlabel='time', ylabel= r'$g_{with diss}$',\n",
    "       title='Control field in the presence of dissipation');"
   ]
  },
  {
   "cell_type": "code",
   "execution_count": null,
   "metadata": {},
   "outputs": [],
   "source": []
  },
  {
   "cell_type": "code",
   "execution_count": null,
   "metadata": {},
   "outputs": [],
   "source": []
  },
  {
   "cell_type": "code",
   "execution_count": null,
   "metadata": {},
   "outputs": [],
   "source": []
  },
  {
   "cell_type": "code",
   "execution_count": null,
   "metadata": {},
   "outputs": [],
   "source": []
  },
  {
   "cell_type": "markdown",
   "metadata": {},
   "source": [
    "## Versions"
   ]
  },
  {
   "cell_type": "code",
   "execution_count": null,
   "metadata": {
    "ExecuteTime": {
     "end_time": "2019-02-15T04:25:13.717304Z",
     "start_time": "2019-02-15T04:18:07.092Z"
    }
   },
   "outputs": [],
   "source": [
    "from qutip.ipynbtools import version_table\n",
    "\n",
    "version_table()"
   ]
  },
  {
   "cell_type": "code",
   "execution_count": null,
   "metadata": {
    "ExecuteTime": {
     "end_time": "2019-02-15T04:25:13.718870Z",
     "start_time": "2019-02-15T04:18:07.096Z"
    }
   },
   "outputs": [],
   "source": [
    "cnot()"
   ]
  },
  {
   "cell_type": "code",
   "execution_count": null,
   "metadata": {},
   "outputs": [],
   "source": []
  }
 ],
 "metadata": {
  "kernelspec": {
   "display_name": "Python 3",
   "language": "python",
   "name": "python3"
  },
  "language_info": {
   "codemirror_mode": {
    "name": "ipython",
    "version": 3
   },
   "file_extension": ".py",
   "mimetype": "text/x-python",
   "name": "python",
   "nbconvert_exporter": "python",
   "pygments_lexer": "ipython3",
   "version": "3.6.8"
  },
  "toc": {
   "base_numbering": 1,
   "nav_menu": {},
   "number_sections": true,
   "sideBar": true,
   "skip_h1_title": false,
   "title_cell": "Table of Contents",
   "title_sidebar": "Contents",
   "toc_cell": false,
   "toc_position": {
    "height": "calc(100% - 180px)",
    "left": "10px",
    "top": "150px",
    "width": "288px"
   },
   "toc_section_display": true,
   "toc_window_display": true
  },
  "varInspector": {
   "cols": {
    "lenName": 16,
    "lenType": 16,
    "lenVar": 40
   },
   "kernels_config": {
    "python": {
     "delete_cmd_postfix": "",
     "delete_cmd_prefix": "del ",
     "library": "var_list.py",
     "varRefreshCmd": "print(var_dic_list())"
    },
    "r": {
     "delete_cmd_postfix": ") ",
     "delete_cmd_prefix": "rm(",
     "library": "var_list.r",
     "varRefreshCmd": "cat(var_dic_list()) "
    }
   },
   "types_to_exclude": [
    "module",
    "function",
    "builtin_function_or_method",
    "instance",
    "_Feature"
   ],
   "window_display": false
  }
 },
 "nbformat": 4,
 "nbformat_minor": 2
}
