{
 "cells": [
  {
   "cell_type": "markdown",
   "metadata": {},
   "source": [
    "# Imports"
   ]
  },
  {
   "cell_type": "markdown",
   "metadata": {},
   "source": [
    "Need to have jate.py in your folder"
   ]
  },
  {
   "cell_type": "code",
   "execution_count": 1,
   "metadata": {
    "ExecuteTime": {
     "end_time": "2019-02-23T14:54:47.327138Z",
     "start_time": "2019-02-23T14:54:43.231124Z"
    }
   },
   "outputs": [],
   "source": [
    "%run jate.py #will import everything"
   ]
  },
  {
   "cell_type": "markdown",
   "metadata": {},
   "source": [
    "# Next chapter"
   ]
  },
  {
   "cell_type": "markdown",
   "metadata": {},
   "source": [
    "## memory clear (uses regex, so be careful)"
   ]
  },
  {
   "cell_type": "code",
   "execution_count": 2,
   "metadata": {
    "ExecuteTime": {
     "end_time": "2019-02-23T14:54:47.330755Z",
     "start_time": "2019-02-23T14:54:47.328360Z"
    }
   },
   "outputs": [],
   "source": [
    "%reset_selective -f var1, var2  # replace var1, var2 with your defined ones"
   ]
  },
  {
   "cell_type": "markdown",
   "metadata": {},
   "source": [
    "## Building parts"
   ]
  },
  {
   "cell_type": "markdown",
   "metadata": {},
   "source": [
    "### Building the things to be calculated only once"
   ]
  },
  {
   "cell_type": "code",
   "execution_count": 3,
   "metadata": {
    "ExecuteTime": {
     "end_time": "2019-02-23T14:54:47.447886Z",
     "start_time": "2019-02-23T14:54:47.331803Z"
    },
    "code_folding": []
   },
   "outputs": [],
   "source": [
    "def maker(omega_1, H_0, H_1, T_s, Lin, d=2, gamma=0.1):\n",
    "    r\"\"\"maker\n",
    "    Makes all the things that remain constant throught the program, but are \n",
    "    repeatedly used.\n",
    "    \n",
    "\n",
    "    Parameters\n",
    "    ----------\n",
    "    omega_1 : float\n",
    "              frequency corresponding to half of the difference between \n",
    "              energy levels of the qubit\n",
    "              \n",
    "    H_0     : Qobj\n",
    "              Bare Hamiltonian \n",
    "              \n",
    "    H_1     : Qobj\n",
    "              Interaction Hamiltonian \n",
    "              \n",
    "    T_s     : Qobj\n",
    "              Unitary to be implemented in the Hilbert space\n",
    "    \n",
    "    Lin     : Qobj\n",
    "              Linbladian operators\n",
    "\n",
    "    d       : int\n",
    "              Dimension of the matrix. Defaults to 2\n",
    "    \n",
    "    gamma   : float\n",
    "              Damping constant of the Linbladian\n",
    "\n",
    "    \n",
    "    Returns\n",
    "    -------\n",
    "    \n",
    "    ih0     : Qobj\n",
    "              $I\\otimes H_{0}$\n",
    "              \n",
    "    ih1     : Qobj\n",
    "              $I\\otimes H_{1}$\n",
    "\n",
    "    h0ci    : Qobj\n",
    "              $H_{0}^{*}\\otimes I $\n",
    "\n",
    "    h1ci    : Qobj\n",
    "              $H_{1}^{*}\\otimes I $\n",
    "\n",
    "    T       : Qobj\n",
    "              Target unitary transformed to the Liouville space\n",
    "\n",
    "    linbladian : Qobj\n",
    "                 The full lindbladian term as it appears on transformation to \n",
    "                 the Liouville space.\n",
    "        \n",
    "    \"\"\"\n",
    "    I = identity(d)\n",
    "    L_I = tensor(I, I)\n",
    "    ih0 = tensor(I, H_0) \n",
    "    ih1 = tensor(I, H_1) \n",
    "    h0ci = tensor(H_0.conj(), I) \n",
    "    h1ci = tensor(H_1.conj(), I)\n",
    "    x_k = ih1 - h1ci\n",
    "    term1 = tensor(Lin.trans(), Lin)\n",
    "    term2 = tensor(I, ((Lin.dag())*(Lin)))\n",
    "    term3 = tensor(((Lin.trans())*(Lin.conj())), I)\n",
    "    lindbladian = 1j*(gamma)*(term1 - 0.5*(term2 + term3))\n",
    "    T = tensor(T_s.trans(), T_s) # Transforming $T_{s}$ to liouville space\n",
    "    \n",
    "    \n",
    "    return ih0, ih1, h0ci, h1ci, x_k, lindbladian, T, L_I"
   ]
  },
  {
   "cell_type": "code",
   "execution_count": 4,
   "metadata": {
    "ExecuteTime": {
     "end_time": "2019-02-23T14:54:47.545803Z",
     "start_time": "2019-02-23T14:54:47.449005Z"
    }
   },
   "outputs": [],
   "source": [
    "omega_1 = 0.5\n",
    "H_0 = omega_1*sigmaz() \n",
    "H_1 = sigmay()\n",
    "T_s = sigmax() \n",
    "Lin = sigmaz()\n",
    "gamma = 0.1 # check for default value\n",
    "ih0, ih1, h0ci, h1ci, x_k, lindbladian, T, L_I  = maker(omega_1,\n",
    "                                                  H_0, H_1, T_s, \n",
    "                                                  Lin, d=2, gamma=gamma)"
   ]
  },
  {
   "cell_type": "code",
   "execution_count": 5,
   "metadata": {
    "ExecuteTime": {
     "end_time": "2019-02-23T14:54:47.662069Z",
     "start_time": "2019-02-23T14:54:47.547200Z"
    }
   },
   "outputs": [
    {
     "data": {
      "text/plain": [
       "0.1"
      ]
     },
     "execution_count": 5,
     "metadata": {},
     "output_type": "execute_result"
    }
   ],
   "source": [
    "gamma"
   ]
  },
  {
   "cell_type": "code",
   "execution_count": 6,
   "metadata": {
    "ExecuteTime": {
     "end_time": "2019-02-23T14:54:47.862482Z",
     "start_time": "2019-02-23T14:54:47.663123Z"
    }
   },
   "outputs": [
    {
     "data": {
      "text/latex": [
       "Quantum object: dims = [[2, 2], [2, 2]], shape = (4, 4), type = oper, isherm = True\\begin{equation*}\\left(\\begin{array}{*{11}c}1.0 & 0.0 & 0.0 & 0.0\\\\0.0 & 1.0 & 0.0 & 0.0\\\\0.0 & 0.0 & 1.0 & 0.0\\\\0.0 & 0.0 & 0.0 & 1.0\\\\\\end{array}\\right)\\end{equation*}"
      ],
      "text/plain": [
       "Quantum object: dims = [[2, 2], [2, 2]], shape = (4, 4), type = oper, isherm = True\n",
       "Qobj data =\n",
       "[[1. 0. 0. 0.]\n",
       " [0. 1. 0. 0.]\n",
       " [0. 0. 1. 0.]\n",
       " [0. 0. 0. 1.]]"
      ]
     },
     "execution_count": 6,
     "metadata": {},
     "output_type": "execute_result"
    }
   ],
   "source": [
    "L_I"
   ]
  },
  {
   "cell_type": "markdown",
   "metadata": {},
   "source": [
    "### Building $A(t)$"
   ]
  },
  {
   "cell_type": "code",
   "execution_count": 7,
   "metadata": {
    "ExecuteTime": {
     "end_time": "2019-02-23T14:54:47.947339Z",
     "start_time": "2019-02-23T14:54:47.863563Z"
    }
   },
   "outputs": [],
   "source": [
    "def A(xi):\n",
    "    r\"\"\"making $A(t)$\"\"\"\n",
    "    A = ih0 - h0ci + xi*(ih1 - h1ci) + lindbladian\n",
    "    return A"
   ]
  },
  {
   "cell_type": "code",
   "execution_count": 8,
   "metadata": {
    "ExecuteTime": {
     "end_time": "2019-02-23T14:54:48.034703Z",
     "start_time": "2019-02-23T14:54:47.948777Z"
    }
   },
   "outputs": [
    {
     "data": {
      "text/latex": [
       "Quantum object: dims = [[2, 2], [2, 2]], shape = (4, 4), type = oper, isherm = False\\begin{equation*}\\left(\\begin{array}{*{11}c}0.0 & -0.500j & -0.500j & 0.0\\\\0.500j & (-1.0-0.200j) & 0.0 & -0.500j\\\\0.500j & 0.0 & (1.0-0.200j) & -0.500j\\\\0.0 & 0.500j & 0.500j & 0.0\\\\\\end{array}\\right)\\end{equation*}"
      ],
      "text/plain": [
       "Quantum object: dims = [[2, 2], [2, 2]], shape = (4, 4), type = oper, isherm = False\n",
       "Qobj data =\n",
       "[[ 0.+0.j   0.-0.5j  0.-0.5j  0.+0.j ]\n",
       " [ 0.+0.5j -1.-0.2j  0.+0.j   0.-0.5j]\n",
       " [ 0.+0.5j  0.+0.j   1.-0.2j  0.-0.5j]\n",
       " [ 0.+0.j   0.+0.5j  0.+0.5j  0.+0.j ]]"
      ]
     },
     "execution_count": 8,
     "metadata": {},
     "output_type": "execute_result"
    }
   ],
   "source": [
    "A(0.5)"
   ]
  },
  {
   "cell_type": "markdown",
   "metadata": {},
   "source": [
    "### Building $L(t)$ and the Identity in the Liouville space"
   ]
  },
  {
   "cell_type": "code",
   "execution_count": 9,
   "metadata": {
    "ExecuteTime": {
     "end_time": "2019-02-23T14:54:48.115363Z",
     "start_time": "2019-02-23T14:54:48.036145Z"
    }
   },
   "outputs": [],
   "source": [
    "def L(xi, dt):\n",
    "    r\"\"\"Making $L(t) from $A(t)$\"\"\"\n",
    "    L = (-1j*A(xi)*dt).expm()\n",
    "    return L"
   ]
  },
  {
   "cell_type": "code",
   "execution_count": 10,
   "metadata": {
    "ExecuteTime": {
     "end_time": "2019-02-23T14:54:48.695842Z",
     "start_time": "2019-02-23T14:54:48.116957Z"
    }
   },
   "outputs": [
    {
     "data": {
      "text/latex": [
       "Quantum object: dims = [[2, 2], [2, 2]], shape = (4, 4), type = oper, isherm = False\\begin{equation*}\\left(\\begin{array}{*{11}c}1.000 & (-4.999\\times10^{-04}-2.500\\times10^{-07}j) & (-4.999\\times10^{-04}+2.500\\times10^{-07}j) & 2.500\\times10^{-07}\\\\(4.999\\times10^{-04}+2.500\\times10^{-07}j) & (1.000+9.998\\times10^{-04}j) & -2.500\\times10^{-07} & (-4.999\\times10^{-04}-2.500\\times10^{-07}j)\\\\(4.999\\times10^{-04}-2.500\\times10^{-07}j) & -2.500\\times10^{-07} & (1.000-9.998\\times10^{-04}j) & (-4.999\\times10^{-04}+2.500\\times10^{-07}j)\\\\2.500\\times10^{-07} & (4.999\\times10^{-04}+2.500\\times10^{-07}j) & (4.999\\times10^{-04}-2.500\\times10^{-07}j) & 1.000\\\\\\end{array}\\right)\\end{equation*}"
      ],
      "text/plain": [
       "Quantum object: dims = [[2, 2], [2, 2]], shape = (4, 4), type = oper, isherm = False\n",
       "Qobj data =\n",
       "[[ 9.99999750e-01+0.00000000e+00j -4.99949837e-04-2.49966628e-07j\n",
       "  -4.99949837e-04+2.49966628e-07j  2.49983293e-07+0.00000000e+00j]\n",
       " [ 4.99949837e-04+2.49966628e-07j  9.99799270e-01+9.99799687e-04j\n",
       "  -2.49966628e-07+0.00000000e+00j -4.99949837e-04-2.49966628e-07j]\n",
       " [ 4.99949837e-04-2.49966628e-07j -2.49966628e-07+0.00000000e+00j\n",
       "   9.99799270e-01-9.99799687e-04j -4.99949837e-04+2.49966628e-07j]\n",
       " [ 2.49983293e-07+0.00000000e+00j  4.99949837e-04+2.49966628e-07j\n",
       "   4.99949837e-04-2.49966628e-07j  9.99999750e-01+0.00000000e+00j]]"
      ]
     },
     "execution_count": 10,
     "metadata": {},
     "output_type": "execute_result"
    }
   ],
   "source": [
    "L(0.5, 0.001)"
   ]
  },
  {
   "cell_type": "markdown",
   "metadata": {},
   "source": [
    "## Major functions"
   ]
  },
  {
   "cell_type": "markdown",
   "metadata": {},
   "source": [
    "### Major functions 1"
   ]
  },
  {
   "cell_type": "code",
   "execution_count": 11,
   "metadata": {
    "ExecuteTime": {
     "end_time": "2019-02-23T14:54:48.699483Z",
     "start_time": "2019-02-23T14:54:48.697216Z"
    }
   },
   "outputs": [],
   "source": [
    "# building the function to optimize (optimizee)\n",
    "def L_vec(xi_vec, dt):\n",
    "    r\"\"\"Building the vector of differential $L(t)$\"\"\"\n",
    "    L_vec = [L(xi, dt) for xi in xi_vec] \n",
    "    return L_vec"
   ]
  },
  {
   "cell_type": "code",
   "execution_count": 12,
   "metadata": {
    "ExecuteTime": {
     "end_time": "2019-02-23T14:54:48.790402Z",
     "start_time": "2019-02-23T14:54:48.700783Z"
    }
   },
   "outputs": [],
   "source": [
    "def fidelity_calc(A, B):\n",
    "    r\"\"\"Making a generalised fidelity function\"\"\"\n",
    "    first_part = (A - B).dag()\n",
    "    second_part = (A - B)\n",
    "    f_int = (first_part* second_part)\n",
    "    f = f_int.tr()\n",
    "    return f"
   ]
  },
  {
   "cell_type": "code",
   "execution_count": 13,
   "metadata": {
    "ExecuteTime": {
     "end_time": "2019-02-23T14:54:48.865021Z",
     "start_time": "2019-02-23T14:54:48.791633Z"
    }
   },
   "outputs": [],
   "source": [
    "def L_full_maker(xi_vec, dt):\n",
    "    r\"\"\"Building the $L(t)$ for the total time $t$\"\"\"\n",
    "    xi_vec_size = xi_vec.size # finding the size of xi\n",
    "    L_full = L_I # Identity for the for loop of L\n",
    "    L_v = L_vec(xi_vec, dt) # calling L_vec\n",
    "    for i in range(xi_vec_size): # generating L_full\n",
    "        L_full = L_full*L_v[xi_vec_size - 1 - i]\n",
    "    return L_full"
   ]
  },
  {
   "cell_type": "code",
   "execution_count": 14,
   "metadata": {
    "ExecuteTime": {
     "end_time": "2019-02-23T14:54:48.948363Z",
     "start_time": "2019-02-23T14:54:48.866089Z"
    }
   },
   "outputs": [],
   "source": [
    "def F(xi_vec, dt):\n",
    "    r\"\"\"Using the fidelity metric to find out the closeness between $T$\n",
    "    and $L(t)$\"\"\"\n",
    "    L_full = L_full_maker(xi_vec, dt)\n",
    "    F = real(-fidelity_calc(T, L_full))   \n",
    "    return F"
   ]
  },
  {
   "cell_type": "markdown",
   "metadata": {},
   "source": [
    "### Testing major functions 1"
   ]
  },
  {
   "cell_type": "code",
   "execution_count": 15,
   "metadata": {
    "ExecuteTime": {
     "end_time": "2019-02-23T14:54:49.033480Z",
     "start_time": "2019-02-23T14:54:48.949434Z"
    }
   },
   "outputs": [
    {
     "data": {
      "text/plain": [
       "4.0"
      ]
     },
     "execution_count": 15,
     "metadata": {},
     "output_type": "execute_result"
    }
   ],
   "source": [
    "fidelity_calc(sigmax(), sigmay())"
   ]
  },
  {
   "cell_type": "code",
   "execution_count": 16,
   "metadata": {
    "ExecuteTime": {
     "end_time": "2019-02-23T14:54:49.116905Z",
     "start_time": "2019-02-23T14:54:49.034576Z"
    }
   },
   "outputs": [
    {
     "data": {
      "text/plain": [
       "0.0"
      ]
     },
     "execution_count": 16,
     "metadata": {},
     "output_type": "execute_result"
    }
   ],
   "source": [
    "fidelity_calc(sigmay(), sigmay())"
   ]
  },
  {
   "cell_type": "code",
   "execution_count": 17,
   "metadata": {
    "ExecuteTime": {
     "end_time": "2019-02-23T14:54:49.199620Z",
     "start_time": "2019-02-23T14:54:49.117890Z"
    }
   },
   "outputs": [
    {
     "data": {
      "text/plain": [
       "array([1., 2.])"
      ]
     },
     "execution_count": 17,
     "metadata": {},
     "output_type": "execute_result"
    }
   ],
   "source": [
    "xi_vec_test = array([1.0, 2.0])\n",
    "xi_vec_test"
   ]
  },
  {
   "cell_type": "code",
   "execution_count": 18,
   "metadata": {
    "ExecuteTime": {
     "end_time": "2019-02-23T14:54:49.282909Z",
     "start_time": "2019-02-23T14:54:49.200977Z"
    }
   },
   "outputs": [
    {
     "data": {
      "text/plain": [
       "2"
      ]
     },
     "execution_count": 18,
     "metadata": {},
     "output_type": "execute_result"
    }
   ],
   "source": [
    "xi_vec_test.size"
   ]
  },
  {
   "cell_type": "code",
   "execution_count": 19,
   "metadata": {
    "ExecuteTime": {
     "end_time": "2019-02-23T14:54:49.366426Z",
     "start_time": "2019-02-23T14:54:49.283952Z"
    }
   },
   "outputs": [
    {
     "data": {
      "text/plain": [
       "[1.0, 4.0]"
      ]
     },
     "execution_count": 19,
     "metadata": {},
     "output_type": "execute_result"
    }
   ],
   "source": [
    "w_vec = [xi**2 for xi in xi_vec_test]\n",
    "w_vec"
   ]
  },
  {
   "cell_type": "code",
   "execution_count": 20,
   "metadata": {
    "ExecuteTime": {
     "end_time": "2019-02-23T14:54:49.452927Z",
     "start_time": "2019-02-23T14:54:49.367708Z"
    }
   },
   "outputs": [
    {
     "data": {
      "text/plain": [
       "-7.998400634493138"
      ]
     },
     "execution_count": 20,
     "metadata": {},
     "output_type": "execute_result"
    }
   ],
   "source": [
    "# F(xi_vec, dt)\n",
    "F(xi_vec_test, 0.001)"
   ]
  },
  {
   "cell_type": "code",
   "execution_count": 21,
   "metadata": {
    "ExecuteTime": {
     "end_time": "2019-02-23T14:54:49.534921Z",
     "start_time": "2019-02-23T14:54:49.454129Z"
    }
   },
   "outputs": [],
   "source": [
    "L_v = L_vec(xi_vec_test, 0.001)"
   ]
  },
  {
   "cell_type": "code",
   "execution_count": 22,
   "metadata": {
    "ExecuteTime": {
     "end_time": "2019-02-23T14:54:49.609029Z",
     "start_time": "2019-02-23T14:54:49.536408Z"
    }
   },
   "outputs": [
    {
     "data": {
      "text/plain": [
       "[Quantum object: dims = [[2, 2], [2, 2]], shape = (4, 4), type = oper, isherm = False\n",
       " Qobj data =\n",
       " [[ 9.99999000e-01+0.00000000e+00j -9.99899173e-04-4.99933130e-07j\n",
       "   -9.99899173e-04+4.99933130e-07j  9.99932920e-07+0.00000000e+00j]\n",
       "  [ 9.99899173e-04+4.99933130e-07j  9.99798520e-01+9.99799187e-04j\n",
       "   -9.99866260e-07+0.00000000e+00j -9.99899173e-04-4.99933130e-07j]\n",
       "  [ 9.99899173e-04-4.99933130e-07j -9.99866260e-07+0.00000000e+00j\n",
       "    9.99798520e-01-9.99799187e-04j -9.99899173e-04+4.99933130e-07j]\n",
       "  [ 9.99932920e-07+0.00000000e+00j  9.99899173e-04+4.99933130e-07j\n",
       "    9.99899173e-04-4.99933130e-07j  9.99999000e-01+0.00000000e+00j]],\n",
       " Quantum object: dims = [[2, 2], [2, 2]], shape = (4, 4), type = oper, isherm = False\n",
       " Qobj data =\n",
       " [[ 9.99996000e-01+0.00000000e+00j -1.99979435e-03-9.99865260e-07j\n",
       "   -1.99979435e-03+9.99865260e-07j  3.99972768e-06+0.00000000e+00j]\n",
       "  [ 1.99979435e-03+9.99865260e-07j  9.99795521e-01+9.99797187e-04j\n",
       "   -3.99946104e-06+0.00000000e+00j -1.99979435e-03-9.99865260e-07j]\n",
       "  [ 1.99979435e-03-9.99865260e-07j -3.99946104e-06+0.00000000e+00j\n",
       "    9.99795521e-01-9.99797187e-04j -1.99979435e-03+9.99865260e-07j]\n",
       "  [ 3.99972768e-06+0.00000000e+00j  1.99979435e-03+9.99865260e-07j\n",
       "    1.99979435e-03-9.99865260e-07j  9.99996000e-01+0.00000000e+00j]]]"
      ]
     },
     "execution_count": 22,
     "metadata": {},
     "output_type": "execute_result"
    }
   ],
   "source": [
    "L_v"
   ]
  },
  {
   "cell_type": "markdown",
   "metadata": {},
   "source": [
    "### Major Functions 2"
   ]
  },
  {
   "cell_type": "code",
   "execution_count": 23,
   "metadata": {
    "ExecuteTime": {
     "end_time": "2019-02-23T14:54:49.690541Z",
     "start_time": "2019-02-23T14:54:49.610094Z"
    }
   },
   "outputs": [],
   "source": [
    "def L_comma_k_maker(xi_vec, k, dt):\n",
    "    r\"\"\"Making of the derivative of full $L(t)$ at time $t_{k}$\"\"\"\n",
    "    N = xi_vec.size \n",
    "    # Determining the size of xi, and thus the time_steps indirectly.\n",
    "    L_v = L_vec(xi_vec, dt)# Making of the full $L(t)$\n",
    "    inner_part = L_I # Beginner for the for loop\n",
    "    for i in range(N):\n",
    "        if i == ( N - 1 - k ):\n",
    "            # The step at which $X_{k}(t)$ has to be inserted \n",
    "            inner_part = inner_part*x_k*L_v[k - 1]\n",
    "        else:\n",
    "            # Usual multiplications of $L_{k}$\n",
    "            inner_part = inner_part*L_v[N - 1 - i]\n",
    "    l_comma_k = inner_part\n",
    "    return l_comma_k\n",
    "    "
   ]
  },
  {
   "cell_type": "code",
   "execution_count": 24,
   "metadata": {
    "ExecuteTime": {
     "end_time": "2019-02-23T14:54:49.820633Z",
     "start_time": "2019-02-23T14:54:49.691604Z"
    }
   },
   "outputs": [
    {
     "data": {
      "text/latex": [
       "Quantum object: dims = [[2, 2], [2, 2]], shape = (4, 4), type = oper, isherm = False\\begin{equation*}\\left(\\begin{array}{*{11}c}1.000 & (-0.003-3.499\\times10^{-06}j) & (-0.003+3.499\\times10^{-06}j) & 8.999\\times10^{-06}\\\\(0.003+2.499\\times10^{-06}j) & (1.000+0.002j) & (-8.998\\times10^{-06}+2.999\\times10^{-09}j) & (-0.003-2.499\\times10^{-06}j)\\\\(0.003-2.499\\times10^{-06}j) & (-8.998\\times10^{-06}-2.999\\times10^{-09}j) & (1.000-0.002j) & (-0.003+2.499\\times10^{-06}j)\\\\8.999\\times10^{-06} & (0.003+3.499\\times10^{-06}j) & (0.003-3.499\\times10^{-06}j) & 1.000\\\\\\end{array}\\right)\\end{equation*}"
      ],
      "text/plain": [
       "Quantum object: dims = [[2, 2], [2, 2]], shape = (4, 4), type = oper, isherm = False\n",
       "Qobj data =\n",
       "[[ 9.99991001e-01+0.00000000e+00j -2.99927960e-03-3.49898670e-06j\n",
       "  -2.99927960e-03+3.49898670e-06j  8.99883703e-06+0.00000000e+00j]\n",
       " [ 2.99948056e-03+2.49939255e-06j  9.99589083e-01+1.99918650e-03j\n",
       "  -8.99750347e-06+2.99899242e-09j -2.99948056e-03-2.49939255e-06j]\n",
       " [ 2.99948056e-03-2.49939255e-06j -8.99750347e-06-2.99899242e-09j\n",
       "   9.99589083e-01-1.99918650e-03j -2.99948056e-03+2.49939255e-06j]\n",
       " [ 8.99883703e-06+0.00000000e+00j  2.99927960e-03+3.49898670e-06j\n",
       "   2.99927960e-03-3.49898670e-06j  9.99991001e-01+0.00000000e+00j]]"
      ]
     },
     "execution_count": 24,
     "metadata": {},
     "output_type": "execute_result"
    }
   ],
   "source": [
    "# L_comma_k_maker(xi_vec, k, dt)\n",
    "L_comma_k_maker(xi_vec_test, 2, 0.001)"
   ]
  },
  {
   "cell_type": "code",
   "execution_count": 25,
   "metadata": {
    "ExecuteTime": {
     "end_time": "2019-02-23T14:54:49.890683Z",
     "start_time": "2019-02-23T14:54:49.821757Z"
    }
   },
   "outputs": [],
   "source": [
    "def updater(xi_vec, dt, epsilon):\n",
    "    r\"\"\"Implementing the GRAPE update step\"\"\"\n",
    "    xi_vec_size = xi_vec.size # finding the size of xi\n",
    "    L_full = L_full_maker(xi_vec, dt)\n",
    "    di = []\n",
    "    for k in range(xi_vec_size):\n",
    "        # Building the thing to be added to the old function\n",
    "        L_comma_k = L_comma_k_maker(xi_vec, k, dt)\n",
    "        differentiated = T - L_comma_k\n",
    "        plain = T - L_full\n",
    "        c = -differentiated.dag()*plain\n",
    "        d = -plain.dag()*differentiated\n",
    "        inside = c.tr() + d.tr()\n",
    "        di.append(epsilon*inside)\n",
    "\n",
    "    diff = array(di)\n",
    "    xi_new_vec = xi_vec + diff\n",
    "    return diff, xi_new_vec\n",
    "    "
   ]
  },
  {
   "cell_type": "code",
   "execution_count": 26,
   "metadata": {
    "ExecuteTime": {
     "end_time": "2019-02-23T14:54:49.983517Z",
     "start_time": "2019-02-23T14:54:49.891806Z"
    }
   },
   "outputs": [
    {
     "data": {
      "text/plain": [
       "(array([-0.008+0.j, -0.008+0.j]), array([0.992+0.j, 1.992+0.j]))"
      ]
     },
     "execution_count": 26,
     "metadata": {},
     "output_type": "execute_result"
    }
   ],
   "source": [
    "#  updater(xi_vec, dt, epsilon)\n",
    "updater(xi_vec_test, 0.001, 0.001)"
   ]
  },
  {
   "cell_type": "markdown",
   "metadata": {},
   "source": [
    "## Qutip grape for closed system"
   ]
  },
  {
   "cell_type": "code",
   "execution_count": 27,
   "metadata": {
    "ExecuteTime": {
     "end_time": "2019-02-23T14:54:50.083225Z",
     "start_time": "2019-02-23T14:54:49.984615Z"
    }
   },
   "outputs": [],
   "source": [
    "import time"
   ]
  },
  {
   "cell_type": "code",
   "execution_count": 28,
   "metadata": {
    "ExecuteTime": {
     "end_time": "2019-02-23T14:54:50.181693Z",
     "start_time": "2019-02-23T14:54:50.084501Z"
    }
   },
   "outputs": [],
   "source": [
    "total_time_evo = 2*pi # total time allowed for evolution"
   ]
  },
  {
   "cell_type": "code",
   "execution_count": 29,
   "metadata": {
    "ExecuteTime": {
     "end_time": "2019-02-23T14:54:50.257394Z",
     "start_time": "2019-02-23T14:54:50.182865Z"
    }
   },
   "outputs": [],
   "source": [
    "times = linspace(0, total_time_evo, 500) "
   ]
  },
  {
   "cell_type": "code",
   "execution_count": 30,
   "metadata": {
    "ExecuteTime": {
     "end_time": "2019-02-23T14:54:50.324170Z",
     "start_time": "2019-02-23T14:54:50.258970Z"
    }
   },
   "outputs": [],
   "source": [
    "# vector of times at which discretization \n",
    "# is carried out"
   ]
  },
  {
   "cell_type": "code",
   "execution_count": 31,
   "metadata": {
    "ExecuteTime": {
     "end_time": "2019-02-23T14:54:50.400842Z",
     "start_time": "2019-02-23T14:54:50.325704Z"
    }
   },
   "outputs": [
    {
     "data": {
      "text/latex": [
       "Quantum object: dims = [[2], [2]], shape = (2, 2), type = oper, isherm = True\\begin{equation*}\\left(\\begin{array}{*{11}c}0.0 & 1.0\\\\1.0 & 0.0\\\\\\end{array}\\right)\\end{equation*}"
      ],
      "text/plain": [
       "Quantum object: dims = [[2], [2]], shape = (2, 2), type = oper, isherm = True\n",
       "Qobj data =\n",
       "[[0. 1.]\n",
       " [1. 0.]]"
      ]
     },
     "execution_count": 31,
     "metadata": {},
     "output_type": "execute_result"
    }
   ],
   "source": [
    "U = T_s\n",
    "U"
   ]
  },
  {
   "cell_type": "code",
   "execution_count": 32,
   "metadata": {
    "ExecuteTime": {
     "end_time": "2019-02-23T14:54:50.474168Z",
     "start_time": "2019-02-23T14:54:50.402266Z"
    }
   },
   "outputs": [],
   "source": [
    "R = 500"
   ]
  },
  {
   "cell_type": "code",
   "execution_count": 33,
   "metadata": {
    "ExecuteTime": {
     "end_time": "2019-02-23T14:54:50.550682Z",
     "start_time": "2019-02-23T14:54:50.475673Z"
    }
   },
   "outputs": [
    {
     "data": {
      "text/plain": [
       "[Quantum object: dims = [[2], [2]], shape = (2, 2), type = oper, isherm = True\n",
       " Qobj data =\n",
       " [[0.+0.j 0.-1.j]\n",
       "  [0.+1.j 0.+0.j]]]"
      ]
     },
     "execution_count": 33,
     "metadata": {},
     "output_type": "execute_result"
    }
   ],
   "source": [
    "H_ops = [H_1]\n",
    "H_ops"
   ]
  },
  {
   "cell_type": "code",
   "execution_count": 34,
   "metadata": {
    "ExecuteTime": {
     "end_time": "2019-02-23T14:54:50.641768Z",
     "start_time": "2019-02-23T14:54:50.552106Z"
    }
   },
   "outputs": [
    {
     "data": {
      "text/plain": [
       "['$g_{no diss}$']"
      ]
     },
     "execution_count": 34,
     "metadata": {},
     "output_type": "execute_result"
    }
   ],
   "source": [
    "H_labels = [r'$g_{no diss}$']\n",
    "H_labels"
   ]
  },
  {
   "cell_type": "code",
   "execution_count": 35,
   "metadata": {
    "ExecuteTime": {
     "end_time": "2019-02-23T14:54:50.717621Z",
     "start_time": "2019-02-23T14:54:50.642863Z"
    }
   },
   "outputs": [
    {
     "data": {
      "text/latex": [
       "Quantum object: dims = [[2], [2]], shape = (2, 2), type = oper, isherm = True\\begin{equation*}\\left(\\begin{array}{*{11}c}0.500 & 0.0\\\\0.0 & -0.500\\\\\\end{array}\\right)\\end{equation*}"
      ],
      "text/plain": [
       "Quantum object: dims = [[2], [2]], shape = (2, 2), type = oper, isherm = True\n",
       "Qobj data =\n",
       "[[ 0.5  0. ]\n",
       " [ 0.  -0.5]]"
      ]
     },
     "execution_count": 35,
     "metadata": {},
     "output_type": "execute_result"
    }
   ],
   "source": [
    "H0 = H_0\n",
    "H0"
   ]
  },
  {
   "cell_type": "code",
   "execution_count": 36,
   "metadata": {
    "ExecuteTime": {
     "end_time": "2019-02-23T14:54:50.807726Z",
     "start_time": "2019-02-23T14:54:50.719163Z"
    }
   },
   "outputs": [],
   "source": [
    "c_ops = []"
   ]
  },
  {
   "cell_type": "code",
   "execution_count": 37,
   "metadata": {
    "ExecuteTime": {
     "end_time": "2019-02-23T14:54:50.948730Z",
     "start_time": "2019-02-23T14:54:50.808853Z"
    }
   },
   "outputs": [],
   "source": [
    "from qutip.control.grape import plot_grape_control_fields, _overlap \n",
    "from qutip.control.grape import grape_unitary_adaptive, cy_grape_unitary"
   ]
  },
  {
   "cell_type": "code",
   "execution_count": 38,
   "metadata": {
    "ExecuteTime": {
     "end_time": "2019-02-23T14:54:51.024371Z",
     "start_time": "2019-02-23T14:54:50.949760Z"
    }
   },
   "outputs": [],
   "source": [
    "from scipy.interpolate import interp1d\n",
    "from qutip.ui.progressbar import TextProgressBar, EnhancedTextProgressBar"
   ]
  },
  {
   "cell_type": "code",
   "execution_count": 39,
   "metadata": {
    "ExecuteTime": {
     "end_time": "2019-02-23T14:54:51.099463Z",
     "start_time": "2019-02-23T14:54:51.025433Z"
    }
   },
   "outputs": [],
   "source": [
    "u0 = array([rand(len(times)) * 2 * pi * 0.05 for _ in range(len(H_ops))])"
   ]
  },
  {
   "cell_type": "code",
   "execution_count": 40,
   "metadata": {
    "ExecuteTime": {
     "end_time": "2019-02-23T14:54:51.354888Z",
     "start_time": "2019-02-23T14:54:51.100935Z"
    }
   },
   "outputs": [],
   "source": [
    "from numpy import convolve\n",
    "u0 = [convolve(ones(10)/10, u0[idx,:], mode='same') for idx in range(len(H_ops))]"
   ]
  },
  {
   "cell_type": "code",
   "execution_count": 41,
   "metadata": {
    "ExecuteTime": {
     "end_time": "2019-02-23T14:54:51.441050Z",
     "start_time": "2019-02-23T14:54:51.355896Z"
    }
   },
   "outputs": [],
   "source": [
    "u_limits = None #[0, 1 * 2 * pi]\n",
    "alpha = None"
   ]
  },
  {
   "cell_type": "code",
   "execution_count": 42,
   "metadata": {
    "ExecuteTime": {
     "end_time": "2019-02-23T15:00:17.883955Z",
     "start_time": "2019-02-23T14:54:51.442237Z"
    }
   },
   "outputs": [
    {
     "name": "stdout",
     "output_type": "stream",
     "text": [
      "10.0%. Run time:  33.41s. Est. time left: 00:00:05:00\n",
      "20.0%. Run time:  67.28s. Est. time left: 00:00:04:29\n",
      "30.0%. Run time:  99.59s. Est. time left: 00:00:03:52\n",
      "40.0%. Run time: 131.88s. Est. time left: 00:00:03:17\n",
      "50.0%. Run time: 164.22s. Est. time left: 00:00:02:44\n",
      "60.0%. Run time: 196.30s. Est. time left: 00:00:02:10\n",
      "70.0%. Run time: 228.43s. Est. time left: 00:00:01:37\n",
      "80.0%. Run time: 260.48s. Est. time left: 00:00:01:05\n",
      "90.0%. Run time: 294.69s. Est. time left: 00:00:00:32\n",
      "Total run time: 326.33s\n"
     ]
    }
   ],
   "source": [
    "result = cy_grape_unitary(U, H0, H_ops, R, times, u_start=u0, u_limits=u_limits,\n",
    "                          eps=2*np.pi*1, alpha=alpha, phase_sensitive=False,\n",
    "                          progress_bar=TextProgressBar())"
   ]
  },
  {
   "cell_type": "markdown",
   "metadata": {},
   "source": [
    "#### Plot of optimized control field without dissipation"
   ]
  },
  {
   "cell_type": "code",
   "execution_count": 43,
   "metadata": {
    "ExecuteTime": {
     "end_time": "2019-02-23T15:00:19.353740Z",
     "start_time": "2019-02-23T15:00:17.886259Z"
    }
   },
   "outputs": [
    {
     "data": {
      "image/png": "[encoded data removed]",
      "text/plain": [
       "<Figure size 576x144 with 1 Axes>"
      ]
     },
     "metadata": {
      "needs_background": "light"
     },
     "output_type": "display_data"
    }
   ],
   "source": [
    "plot_grape_control_fields(times,\n",
    "                          result.u / (2 * np.pi), H_labels, uniform_axes=True);"
   ]
  },
  {
   "cell_type": "code",
   "execution_count": 44,
   "metadata": {
    "ExecuteTime": {
     "end_time": "2019-02-23T15:00:19.358035Z",
     "start_time": "2019-02-23T15:00:19.354984Z"
    }
   },
   "outputs": [
    {
     "data": {
      "text/latex": [
       "Quantum object: dims = [[2], [2]], shape = (2, 2), type = oper, isherm = True\\begin{equation*}\\left(\\begin{array}{*{11}c}0.0 & 1.0\\\\1.0 & 0.0\\\\\\end{array}\\right)\\end{equation*}"
      ],
      "text/plain": [
       "Quantum object: dims = [[2], [2]], shape = (2, 2), type = oper, isherm = True\n",
       "Qobj data =\n",
       "[[0. 1.]\n",
       " [1. 0.]]"
      ]
     },
     "execution_count": 44,
     "metadata": {},
     "output_type": "execute_result"
    }
   ],
   "source": [
    "U"
   ]
  },
  {
   "cell_type": "code",
   "execution_count": 45,
   "metadata": {
    "ExecuteTime": {
     "end_time": "2019-02-23T15:00:19.465839Z",
     "start_time": "2019-02-23T15:00:19.359484Z"
    }
   },
   "outputs": [
    {
     "data": {
      "text/latex": [
       "Quantum object: dims = [[2], [2]], shape = (2, 2), type = oper, isherm = False\\begin{equation*}\\left(\\begin{array}{*{11}c}5.500\\times10^{-16} & -1.0j\\\\-1.0j & -8.547\\times10^{-16}\\\\\\end{array}\\right)\\end{equation*}"
      ],
      "text/plain": [
       "Quantum object: dims = [[2], [2]], shape = (2, 2), type = oper, isherm = False\n",
       "Qobj data =\n",
       "[[ 5.49998821e-16+1.60461922e-17j  2.94609264e-16-1.00000000e+00j]\n",
       " [-9.95309563e-16-1.00000000e+00j -8.54683349e-16+1.27068495e-16j]]"
      ]
     },
     "execution_count": 45,
     "metadata": {},
     "output_type": "execute_result"
    }
   ],
   "source": [
    "result.U_f"
   ]
  },
  {
   "cell_type": "markdown",
   "metadata": {},
   "source": [
    "## Analysis of result of qutip grape for closed system"
   ]
  },
  {
   "cell_type": "code",
   "execution_count": 46,
   "metadata": {
    "ExecuteTime": {
     "end_time": "2019-02-23T15:00:19.557018Z",
     "start_time": "2019-02-23T15:00:19.467119Z"
    }
   },
   "outputs": [
    {
     "data": {
      "text/latex": [
       "Quantum object: dims = [[2], [2]], shape = (2, 2), type = oper, isherm = False\\begin{equation*}\\left(\\begin{array}{*{11}c}1.0 & (-5.300\\times10^{+13}-1.817\\times10^{+15}j)\\\\(-5.300\\times10^{+13}-1.817\\times10^{+15}j) & (-1.546+0.276j)\\\\\\end{array}\\right)\\end{equation*}"
      ],
      "text/plain": [
       "Quantum object: dims = [[2], [2]], shape = (2, 2), type = oper, isherm = False\n",
       "Qobj data =\n",
       "[[ 1.00000000e+00+0.00000000e+00j -5.30003779e+13-1.81663943e+15j]\n",
       " [-5.30003779e+13-1.81663943e+15j -1.54591679e+00+2.76136178e-01j]]"
      ]
     },
     "execution_count": 46,
     "metadata": {},
     "output_type": "execute_result"
    }
   ],
   "source": [
    "result.U_f/result.U_f[0,0]"
   ]
  },
  {
   "cell_type": "code",
   "execution_count": 47,
   "metadata": {
    "ExecuteTime": {
     "end_time": "2019-02-23T15:00:19.745823Z",
     "start_time": "2019-02-23T15:00:19.558965Z"
    }
   },
   "outputs": [
    {
     "data": {
      "text/plain": [
       "(<Figure size 432x288 with 2 Axes>,\n",
       " <mpl_toolkits.mplot3d.axes3d.Axes3D at 0x7f93be2af400>)"
      ]
     },
     "execution_count": 47,
     "metadata": {},
     "output_type": "execute_result"
    },
    {
     "data": {
      "image/png": "[encoded data removed]",
      "text/plain": [
       "<Figure size 432x288 with 2 Axes>"
      ]
     },
     "metadata": {
      "needs_background": "light"
     },
     "output_type": "display_data"
    }
   ],
   "source": [
    "matrix_histogram(U)"
   ]
  },
  {
   "cell_type": "code",
   "execution_count": 48,
   "metadata": {
    "ExecuteTime": {
     "end_time": "2019-02-23T15:00:19.842208Z",
     "start_time": "2019-02-23T15:00:19.746960Z"
    }
   },
   "outputs": [
    {
     "data": {
      "text/plain": [
       "(<Figure size 432x288 with 2 Axes>,\n",
       " <mpl_toolkits.mplot3d.axes3d.Axes3D at 0x7f93be1d4208>)"
      ]
     },
     "execution_count": 48,
     "metadata": {},
     "output_type": "execute_result"
    },
    {
     "data": {
      "image/png": "[encoded data removed]",
      "text/plain": [
       "<Figure size 432x288 with 2 Axes>"
      ]
     },
     "metadata": {
      "needs_background": "light"
     },
     "output_type": "display_data"
    }
   ],
   "source": [
    "matrix_histogram(result.U_f)"
   ]
  },
  {
   "cell_type": "code",
   "execution_count": 49,
   "metadata": {
    "ExecuteTime": {
     "end_time": "2019-02-23T15:00:20.073090Z",
     "start_time": "2019-02-23T15:00:19.843331Z"
    }
   },
   "outputs": [
    {
     "data": {
      "text/plain": [
       "(<Figure size 432x288 with 2 Axes>,\n",
       " <mpl_toolkits.mplot3d.axes3d.Axes3D at 0x7f93be14f4e0>)"
      ]
     },
     "execution_count": 49,
     "metadata": {},
     "output_type": "execute_result"
    },
    {
     "data": {
      "image/png": "[encoded data removed]",
      "text/plain": [
       "<Figure size 432x288 with 2 Axes>"
      ]
     },
     "metadata": {
      "needs_background": "light"
     },
     "output_type": "display_data"
    }
   ],
   "source": [
    "matrix_histogram_complex(U)"
   ]
  },
  {
   "cell_type": "code",
   "execution_count": 50,
   "metadata": {
    "ExecuteTime": {
     "end_time": "2019-02-23T15:00:20.194142Z",
     "start_time": "2019-02-23T15:00:20.074658Z"
    }
   },
   "outputs": [
    {
     "data": {
      "text/plain": [
       "(<Figure size 432x288 with 2 Axes>,\n",
       " <mpl_toolkits.mplot3d.axes3d.Axes3D at 0x7f93be11ee10>)"
      ]
     },
     "execution_count": 50,
     "metadata": {},
     "output_type": "execute_result"
    },
    {
     "data": {
      "image/png": "[encoded data removed]",
      "text/plain": [
       "<Figure size 432x288 with 2 Axes>"
      ]
     },
     "metadata": {
      "needs_background": "light"
     },
     "output_type": "display_data"
    }
   ],
   "source": [
    "matrix_histogram_complex(result.U_f)"
   ]
  },
  {
   "cell_type": "code",
   "execution_count": 51,
   "metadata": {
    "ExecuteTime": {
     "end_time": "2019-02-23T15:00:20.307312Z",
     "start_time": "2019-02-23T15:00:20.195347Z"
    }
   },
   "outputs": [
    {
     "data": {
      "text/plain": [
       "(<Figure size 576x432 with 2 Axes>,\n",
       " <matplotlib.axes._subplots.AxesSubplot at 0x7f93bdfc1fd0>)"
      ]
     },
     "execution_count": 51,
     "metadata": {},
     "output_type": "execute_result"
    },
    {
     "data": {
      "image/png": "[encoded data removed]",
      "text/plain": [
       "<Figure size 576x432 with 2 Axes>"
      ]
     },
     "metadata": {
      "needs_background": "light"
     },
     "output_type": "display_data"
    }
   ],
   "source": [
    "hinton(U)"
   ]
  },
  {
   "cell_type": "code",
   "execution_count": 52,
   "metadata": {
    "ExecuteTime": {
     "end_time": "2019-02-23T15:00:20.404344Z",
     "start_time": "2019-02-23T15:00:20.308558Z"
    }
   },
   "outputs": [
    {
     "data": {
      "text/plain": [
       "(<Figure size 576x432 with 2 Axes>,\n",
       " <matplotlib.axes._subplots.AxesSubplot at 0x7f93bdf67f98>)"
      ]
     },
     "execution_count": 52,
     "metadata": {},
     "output_type": "execute_result"
    },
    {
     "data": {
      "image/png": "[encoded data removed]",
      "text/plain": [
       "<Figure size 576x432 with 2 Axes>"
      ]
     },
     "metadata": {
      "needs_background": "light"
     },
     "output_type": "display_data"
    }
   ],
   "source": [
    "hinton(result.U_f)"
   ]
  },
  {
   "cell_type": "code",
   "execution_count": null,
   "metadata": {},
   "outputs": [],
   "source": []
  },
  {
   "cell_type": "code",
   "execution_count": null,
   "metadata": {},
   "outputs": [],
   "source": []
  },
  {
   "cell_type": "code",
   "execution_count": 53,
   "metadata": {
    "ExecuteTime": {
     "end_time": "2019-02-23T15:04:59.520137Z",
     "start_time": "2019-02-23T15:00:20.405514Z"
    }
   },
   "outputs": [
    {
     "data": {
      "text/plain": [
       "(array([-0.00207613+0.j, -0.00207613+0.j, -0.00207613+0.j, -0.00207613+0.j,\n",
       "        -0.00207613+0.j, -0.00207613+0.j, -0.00207613+0.j, -0.00207613+0.j,\n",
       "        -0.00207613+0.j, -0.00207613+0.j, -0.00207613+0.j, -0.00207613+0.j,\n",
       "        -0.00207613+0.j, -0.00207613+0.j, -0.00207613+0.j, -0.00207613+0.j,\n",
       "        -0.00207613+0.j, -0.00207613+0.j, -0.00207613+0.j, -0.00207613+0.j,\n",
       "        -0.00207613+0.j, -0.00207613+0.j, -0.00207613+0.j, -0.00207613+0.j,\n",
       "        -0.00207613+0.j, -0.00207613+0.j, -0.00207613+0.j, -0.00207613+0.j,\n",
       "        -0.00207613+0.j, -0.00207613+0.j, -0.00207613+0.j, -0.00207613+0.j,\n",
       "        -0.00207613+0.j, -0.00207613+0.j, -0.00207613+0.j, -0.00207613+0.j,\n",
       "        -0.00207613+0.j, -0.00207613+0.j, -0.00207613+0.j, -0.00207613+0.j,\n",
       "        -0.00207613+0.j, -0.00207613+0.j, -0.00207613+0.j, -0.00207613+0.j,\n",
       "        -0.00207613+0.j, -0.00207613+0.j, -0.00207613+0.j, -0.00207613+0.j,\n",
       "        -0.00207613+0.j, -0.00207613+0.j, -0.00207613+0.j, -0.00207613+0.j,\n",
       "        -0.00207613+0.j, -0.00207613+0.j, -0.00207613+0.j, -0.00207613+0.j,\n",
       "        -0.00207613+0.j, -0.00207613+0.j, -0.00207613+0.j, -0.00207613+0.j,\n",
       "        -0.00207613+0.j, -0.00207613+0.j, -0.00207613+0.j, -0.00207613+0.j,\n",
       "        -0.00207613+0.j, -0.00207613+0.j, -0.00207613+0.j, -0.00207613+0.j,\n",
       "        -0.00207613+0.j, -0.00207613+0.j, -0.00207613+0.j, -0.00207613+0.j,\n",
       "        -0.00207613+0.j, -0.00207613+0.j, -0.00207613+0.j, -0.00207613+0.j,\n",
       "        -0.00207613+0.j, -0.00207613+0.j, -0.00207613+0.j, -0.00207613+0.j,\n",
       "        -0.00207613+0.j, -0.00207613+0.j, -0.00207613+0.j, -0.00207613+0.j,\n",
       "        -0.00207613+0.j, -0.00207613+0.j, -0.00207613+0.j, -0.00207613+0.j,\n",
       "        -0.00207613+0.j, -0.00207613+0.j, -0.00207613+0.j, -0.00207613+0.j,\n",
       "        -0.00207613+0.j, -0.00207613+0.j, -0.00207613+0.j, -0.00207613+0.j,\n",
       "        -0.00207613+0.j, -0.00207613+0.j, -0.00207613+0.j, -0.00207613+0.j,\n",
       "        -0.00207613+0.j, -0.00207613+0.j, -0.00207613+0.j, -0.00207613+0.j,\n",
       "        -0.00207613+0.j, -0.00207613+0.j, -0.00207613+0.j, -0.00207613+0.j,\n",
       "        -0.00207613+0.j, -0.00207613+0.j, -0.00207613+0.j, -0.00207613+0.j,\n",
       "        -0.00207613+0.j, -0.00207613+0.j, -0.00207613+0.j, -0.00207613+0.j,\n",
       "        -0.00207613+0.j, -0.00207613+0.j, -0.00207613+0.j, -0.00207613+0.j,\n",
       "        -0.00207613+0.j, -0.00207613+0.j, -0.00207613+0.j, -0.00207613+0.j,\n",
       "        -0.00207613+0.j, -0.00207613+0.j, -0.00207613+0.j, -0.00207613+0.j,\n",
       "        -0.00207613+0.j, -0.00207613+0.j, -0.00207613+0.j, -0.00207613+0.j,\n",
       "        -0.00207613+0.j, -0.00207613+0.j, -0.00207613+0.j, -0.00207613+0.j,\n",
       "        -0.00207613+0.j, -0.00207613+0.j, -0.00207613+0.j, -0.00207613+0.j,\n",
       "        -0.00207613+0.j, -0.00207613+0.j, -0.00207613+0.j, -0.00207613+0.j,\n",
       "        -0.00207613+0.j, -0.00207613+0.j, -0.00207613+0.j, -0.00207613+0.j,\n",
       "        -0.00207613+0.j, -0.00207613+0.j, -0.00207613+0.j, -0.00207613+0.j,\n",
       "        -0.00207613+0.j, -0.00207613+0.j, -0.00207613+0.j, -0.00207613+0.j,\n",
       "        -0.00207613+0.j, -0.00207613+0.j, -0.00207613+0.j, -0.00207613+0.j,\n",
       "        -0.00207613+0.j, -0.00207613+0.j, -0.00207613+0.j, -0.00207613+0.j,\n",
       "        -0.00207613+0.j, -0.00207613+0.j, -0.00207613+0.j, -0.00207613+0.j,\n",
       "        -0.00207613+0.j, -0.00207613+0.j, -0.00207613+0.j, -0.00207613+0.j,\n",
       "        -0.00207613+0.j, -0.00207613+0.j, -0.00207613+0.j, -0.00207613+0.j,\n",
       "        -0.00207613+0.j, -0.00207613+0.j, -0.00207613+0.j, -0.00207613+0.j,\n",
       "        -0.00207613+0.j, -0.00207613+0.j, -0.00207613+0.j, -0.00207613+0.j,\n",
       "        -0.00207613+0.j, -0.00207613+0.j, -0.00207613+0.j, -0.00207613+0.j,\n",
       "        -0.00207613+0.j, -0.00207613+0.j, -0.00207613+0.j, -0.00207613+0.j,\n",
       "        -0.00207613+0.j, -0.00207613+0.j, -0.00207613+0.j, -0.00207613+0.j,\n",
       "        -0.00207613+0.j, -0.00207613+0.j, -0.00207613+0.j, -0.00207613+0.j,\n",
       "        -0.00207613+0.j, -0.00207613+0.j, -0.00207613+0.j, -0.00207613+0.j,\n",
       "        -0.00207613+0.j, -0.00207613+0.j, -0.00207613+0.j, -0.00207613+0.j,\n",
       "        -0.00207613+0.j, -0.00207613+0.j, -0.00207613+0.j, -0.00207613+0.j,\n",
       "        -0.00207613+0.j, -0.00207613+0.j, -0.00207613+0.j, -0.00207613+0.j,\n",
       "        -0.00207613+0.j, -0.00207613+0.j, -0.00207613+0.j, -0.00207613+0.j,\n",
       "        -0.00207613+0.j, -0.00207613+0.j, -0.00207613+0.j, -0.00207613+0.j,\n",
       "        -0.00207613+0.j, -0.00207613+0.j, -0.00207613+0.j, -0.00207613+0.j,\n",
       "        -0.00207613+0.j, -0.00207613+0.j, -0.00207613+0.j, -0.00207613+0.j,\n",
       "        -0.00207613+0.j, -0.00207613+0.j, -0.00207613+0.j, -0.00207613+0.j,\n",
       "        -0.00207613+0.j, -0.00207613+0.j, -0.00207613+0.j, -0.00207613+0.j,\n",
       "        -0.00207613+0.j, -0.00207613+0.j, -0.00207613+0.j, -0.00207613+0.j,\n",
       "        -0.00207613+0.j, -0.00207613+0.j, -0.00207613+0.j, -0.00207613+0.j,\n",
       "        -0.00207613+0.j, -0.00207613+0.j, -0.00207613+0.j, -0.00207613+0.j,\n",
       "        -0.00207613+0.j, -0.00207613+0.j, -0.00207613+0.j, -0.00207613+0.j,\n",
       "        -0.00207613+0.j, -0.00207613+0.j, -0.00207613+0.j, -0.00207613+0.j,\n",
       "        -0.00207613+0.j, -0.00207613+0.j, -0.00207613+0.j, -0.00207613+0.j,\n",
       "        -0.00207613+0.j, -0.00207613+0.j, -0.00207613+0.j, -0.00207613+0.j,\n",
       "        -0.00207613+0.j, -0.00207613+0.j, -0.00207613+0.j, -0.00207613+0.j,\n",
       "        -0.00207613+0.j, -0.00207613+0.j, -0.00207613+0.j, -0.00207613+0.j,\n",
       "        -0.00207613+0.j, -0.00207613+0.j, -0.00207613+0.j, -0.00207613+0.j,\n",
       "        -0.00207613+0.j, -0.00207613+0.j, -0.00207613+0.j, -0.00207613+0.j,\n",
       "        -0.00207613+0.j, -0.00207613+0.j, -0.00207613+0.j, -0.00207613+0.j,\n",
       "        -0.00207613+0.j, -0.00207613+0.j, -0.00207613+0.j, -0.00207613+0.j,\n",
       "        -0.00207613+0.j, -0.00207613+0.j, -0.00207613+0.j, -0.00207613+0.j,\n",
       "        -0.00207613+0.j, -0.00207613+0.j, -0.00207613+0.j, -0.00207613+0.j,\n",
       "        -0.00207613+0.j, -0.00207613+0.j, -0.00207613+0.j, -0.00207613+0.j,\n",
       "        -0.00207613+0.j, -0.00207613+0.j, -0.00207613+0.j, -0.00207613+0.j,\n",
       "        -0.00207613+0.j, -0.00207613+0.j, -0.00207613+0.j, -0.00207613+0.j,\n",
       "        -0.00207613+0.j, -0.00207613+0.j, -0.00207613+0.j, -0.00207613+0.j,\n",
       "        -0.00207613+0.j, -0.00207613+0.j, -0.00207613+0.j, -0.00207613+0.j,\n",
       "        -0.00207613+0.j, -0.00207613+0.j, -0.00207613+0.j, -0.00207613+0.j,\n",
       "        -0.00207613+0.j, -0.00207613+0.j, -0.00207613+0.j, -0.00207613+0.j,\n",
       "        -0.00207613+0.j, -0.00207613+0.j, -0.00207613+0.j, -0.00207613+0.j,\n",
       "        -0.00207613+0.j, -0.00207613+0.j, -0.00207613+0.j, -0.00207613+0.j,\n",
       "        -0.00207613+0.j, -0.00207613+0.j, -0.00207613+0.j, -0.00207613+0.j,\n",
       "        -0.00207613+0.j, -0.00207613+0.j, -0.00207613+0.j, -0.00207613+0.j,\n",
       "        -0.00207613+0.j, -0.00207613+0.j, -0.00207613+0.j, -0.00207613+0.j,\n",
       "        -0.00207613+0.j, -0.00207613+0.j, -0.00207613+0.j, -0.00207613+0.j,\n",
       "        -0.00207613+0.j, -0.00207613+0.j, -0.00207613+0.j, -0.00207613+0.j,\n",
       "        -0.00207613+0.j, -0.00207613+0.j, -0.00207613+0.j, -0.00207613+0.j,\n",
       "        -0.00207613+0.j, -0.00207613+0.j, -0.00207613+0.j, -0.00207613+0.j,\n",
       "        -0.00207613+0.j, -0.00207613+0.j, -0.00207613+0.j, -0.00207613+0.j,\n",
       "        -0.00207613+0.j, -0.00207613+0.j, -0.00207613+0.j, -0.00207613+0.j,\n",
       "        -0.00207613+0.j, -0.00207613+0.j, -0.00207613+0.j, -0.00207613+0.j,\n",
       "        -0.00207613+0.j, -0.00207613+0.j, -0.00207613+0.j, -0.00207613+0.j,\n",
       "        -0.00207613+0.j, -0.00207613+0.j, -0.00207613+0.j, -0.00207613+0.j,\n",
       "        -0.00207613+0.j, -0.00207613+0.j, -0.00207613+0.j, -0.00207613+0.j,\n",
       "        -0.00207613+0.j, -0.00207613+0.j, -0.00207613+0.j, -0.00207613+0.j,\n",
       "        -0.00207613+0.j, -0.00207613+0.j, -0.00207613+0.j, -0.00207613+0.j,\n",
       "        -0.00207613+0.j, -0.00207613+0.j, -0.00207613+0.j, -0.00207613+0.j,\n",
       "        -0.00207613+0.j, -0.00207613+0.j, -0.00207613+0.j, -0.00207613+0.j,\n",
       "        -0.00207613+0.j, -0.00207613+0.j, -0.00207613+0.j, -0.00207613+0.j,\n",
       "        -0.00207613+0.j, -0.00207613+0.j, -0.00207613+0.j, -0.00207613+0.j,\n",
       "        -0.00207613+0.j, -0.00207613+0.j, -0.00207613+0.j, -0.00207613+0.j,\n",
       "        -0.00207613+0.j, -0.00207613+0.j, -0.00207613+0.j, -0.00207613+0.j,\n",
       "        -0.00207613+0.j, -0.00207613+0.j, -0.00207613+0.j, -0.00207613+0.j,\n",
       "        -0.00207613+0.j, -0.00207613+0.j, -0.00207613+0.j, -0.00207613+0.j,\n",
       "        -0.00207613+0.j, -0.00207613+0.j, -0.00207613+0.j, -0.00207613+0.j,\n",
       "        -0.00207613+0.j, -0.00207613+0.j, -0.00207613+0.j, -0.00207613+0.j,\n",
       "        -0.00207613+0.j, -0.00207613+0.j, -0.00207613+0.j, -0.00207613+0.j,\n",
       "        -0.00207613+0.j, -0.00207613+0.j, -0.00207613+0.j, -0.00207613+0.j,\n",
       "        -0.00207613+0.j, -0.00207613+0.j, -0.00207613+0.j, -0.00207613+0.j,\n",
       "        -0.00207613+0.j, -0.00207613+0.j, -0.00207613+0.j, -0.00207613+0.j,\n",
       "        -0.00207613+0.j, -0.00207613+0.j, -0.00207613+0.j, -0.00207613+0.j,\n",
       "        -0.00207613+0.j, -0.00207613+0.j, -0.00207613+0.j, -0.00207613+0.j,\n",
       "        -0.00207613+0.j, -0.00207613+0.j, -0.00207613+0.j, -0.00207613+0.j,\n",
       "        -0.00207613+0.j, -0.00207613+0.j, -0.00207613+0.j, -0.00207613+0.j,\n",
       "        -0.00207613+0.j, -0.00207613+0.j, -0.00207613+0.j, -0.00207613+0.j,\n",
       "        -0.00207613+0.j, -0.00207613+0.j, -0.00207613+0.j, -0.00207613+0.j,\n",
       "        -0.00207613+0.j, -0.00207613+0.j, -0.00207613+0.j, -0.00207613+0.j,\n",
       "        -0.00207613+0.j, -0.00207613+0.j, -0.00207613+0.j, -0.00207613+0.j,\n",
       "        -0.00207613+0.j, -0.00207613+0.j, -0.00207613+0.j, -0.00207613+0.j,\n",
       "        -0.00207613+0.j, -0.00207613+0.j, -0.00207613+0.j, -0.00207613+0.j,\n",
       "        -0.00207613+0.j, -0.00207613+0.j, -0.00207613+0.j, -0.00207613+0.j,\n",
       "        -0.00207613+0.j, -0.00207613+0.j, -0.00207613+0.j, -0.00207613+0.j]),\n",
       " array([ 0.32212431+0.j,  0.33760577+0.j,  0.35988266+0.j,  0.37134491+0.j,\n",
       "         0.36898966+0.j,  0.36814705+0.j,  0.37297004+0.j,  0.38601305+0.j,\n",
       "         0.40333257+0.j,  0.39539344+0.j,  0.37344059+0.j,  0.35537663+0.j,\n",
       "         0.32565633+0.j,  0.31894814+0.j,  0.32470183+0.j,  0.32381474+0.j,\n",
       "         0.30295164+0.j,  0.29727198+0.j,  0.26519424+0.j,  0.24582377+0.j,\n",
       "         0.23293922+0.j,  0.21816069+0.j,  0.22156179+0.j,  0.214643  +0.j,\n",
       "         0.19027281+0.j,  0.19277318+0.j,  0.20536117+0.j,  0.20192345+0.j,\n",
       "         0.1956007 +0.j,  0.1910087 +0.j,  0.18833169+0.j,  0.19369207+0.j,\n",
       "         0.18117019+0.j,  0.15879415+0.j,  0.15995934+0.j,  0.13822763+0.j,\n",
       "         0.11508256+0.j,  0.09639888+0.j,  0.09867887+0.j,  0.10015363+0.j,\n",
       "         0.10588822+0.j,  0.10892879+0.j,  0.09642814+0.j,  0.09171448+0.j,\n",
       "         0.08699971+0.j,  0.07761538+0.j,  0.07669319+0.j,  0.07311015+0.j,\n",
       "         0.05215722+0.j,  0.05674176+0.j,  0.03487091+0.j, -0.00253369+0.j,\n",
       "        -0.0190276 +0.j, -0.03615591+0.j, -0.05785728+0.j, -0.05954991+0.j,\n",
       "        -0.06726596+0.j, -0.09160703+0.j, -0.07682876+0.j, -0.1089077 +0.j,\n",
       "        -0.12417933+0.j, -0.13188684+0.j, -0.11630564+0.j, -0.11761907+0.j,\n",
       "        -0.11924657+0.j, -0.12105765+0.j, -0.12950294+0.j, -0.13613215+0.j,\n",
       "        -0.15926298+0.j, -0.15675604+0.j, -0.1434753 +0.j, -0.15184531+0.j,\n",
       "        -0.15494704+0.j, -0.14382597+0.j, -0.15359412+0.j, -0.16364567+0.j,\n",
       "        -0.18043029+0.j, -0.17848558+0.j, -0.18599294+0.j, -0.19593966+0.j,\n",
       "        -0.21802854+0.j, -0.20521632+0.j, -0.23293065+0.j, -0.26375346+0.j,\n",
       "        -0.27342181+0.j, -0.29690903+0.j, -0.28228828+0.j, -0.29092959+0.j,\n",
       "        -0.2809837 +0.j, -0.28238646+0.j, -0.29330616+0.j, -0.31400468+0.j,\n",
       "        -0.31725172+0.j, -0.30249069+0.j, -0.30119034+0.j, -0.29968971+0.j,\n",
       "        -0.31132724+0.j, -0.30930565+0.j, -0.31017716+0.j, -0.30794219+0.j,\n",
       "        -0.29626431+0.j, -0.28877382+0.j, -0.28388404+0.j, -0.30888509+0.j,\n",
       "        -0.29985824+0.j, -0.2918237 +0.j, -0.29838648+0.j, -0.31203154+0.j,\n",
       "        -0.34076442+0.j, -0.34903672+0.j, -0.35059649+0.j, -0.34761306+0.j,\n",
       "        -0.37141232+0.j, -0.35741372+0.j, -0.38640042+0.j, -0.39489161+0.j,\n",
       "        -0.39836449+0.j, -0.38584038+0.j, -0.39372653+0.j, -0.41578703+0.j,\n",
       "        -0.44623362+0.j, -0.45167188+0.j, -0.44323365+0.j, -0.43909554+0.j,\n",
       "        -0.43945841+0.j, -0.44437602+0.j, -0.44007448+0.j, -0.44941092+0.j,\n",
       "        -0.43520476+0.j, -0.41185118+0.j, -0.41210675+0.j, -0.41966536+0.j,\n",
       "        -0.43218807+0.j, -0.43753397+0.j, -0.41942439+0.j, -0.43182281+0.j,\n",
       "        -0.45333292+0.j, -0.46707232+0.j, -0.47496536+0.j, -0.48917377+0.j,\n",
       "        -0.47915114+0.j, -0.49726147+0.j, -0.48775197+0.j, -0.48954086+0.j,\n",
       "        -0.48678332+0.j, -0.4938569 +0.j, -0.49052595+0.j, -0.50157538+0.j,\n",
       "        -0.5149153 +0.j, -0.52894518+0.j, -0.52667406+0.j, -0.5225608 +0.j,\n",
       "        -0.51801786+0.j, -0.53354221+0.j, -0.53798532+0.j, -0.5276987 +0.j,\n",
       "        -0.53289886+0.j, -0.52477079+0.j, -0.509074  +0.j, -0.50877845+0.j,\n",
       "        -0.52131991+0.j, -0.49831833+0.j, -0.49400255+0.j, -0.492721  +0.j,\n",
       "        -0.50808103+0.j, -0.50975544+0.j, -0.50168309+0.j, -0.50463573+0.j,\n",
       "        -0.50026689+0.j, -0.48891009+0.j, -0.48612417+0.j, -0.48943372+0.j,\n",
       "        -0.49059737+0.j, -0.4769172 +0.j, -0.46245415+0.j, -0.46723528+0.j,\n",
       "        -0.45776077+0.j, -0.45830379+0.j, -0.45576307+0.j, -0.45575274+0.j,\n",
       "        -0.43885121+0.j, -0.4585834 +0.j, -0.47055413+0.j, -0.47260133+0.j,\n",
       "        -0.47756195+0.j, -0.47193324+0.j, -0.48965062+0.j, -0.47441076+0.j,\n",
       "        -0.48057283+0.j, -0.48121386+0.j, -0.49853092+0.j, -0.47355335+0.j,\n",
       "        -0.45491584+0.j, -0.44259348+0.j, -0.44860931+0.j, -0.42048433+0.j,\n",
       "        -0.41433753+0.j, -0.40493511+0.j, -0.38982815+0.j, -0.36187601+0.j,\n",
       "        -0.33749321+0.j, -0.34631502+0.j, -0.36087404+0.j, -0.36669362+0.j,\n",
       "        -0.35613548+0.j, -0.37228122+0.j, -0.35820469+0.j, -0.35437019+0.j,\n",
       "        -0.35171671+0.j, -0.34600993+0.j, -0.34431146+0.j, -0.32433299+0.j,\n",
       "        -0.2996653 +0.j, -0.30039793+0.j, -0.27902716+0.j, -0.26478692+0.j,\n",
       "        -0.25773411+0.j, -0.26430432+0.j, -0.26307522+0.j, -0.25934552+0.j,\n",
       "        -0.25281895+0.j, -0.26411295+0.j, -0.26418748+0.j, -0.24467587+0.j,\n",
       "        -0.25679964+0.j, -0.24740637+0.j, -0.23443735+0.j, -0.21490581+0.j,\n",
       "        -0.21358154+0.j, -0.22085131+0.j, -0.21500739+0.j, -0.21317639+0.j,\n",
       "        -0.21847607+0.j, -0.21732972+0.j, -0.20073669+0.j, -0.18254133+0.j,\n",
       "        -0.1939504 +0.j, -0.18266937+0.j, -0.17595821+0.j, -0.16883619+0.j,\n",
       "        -0.16057916+0.j, -0.1327792 +0.j, -0.121747  +0.j, -0.10824889+0.j,\n",
       "        -0.09179435+0.j, -0.10683058+0.j, -0.09170519+0.j, -0.08557635+0.j,\n",
       "        -0.05098897+0.j, -0.02900074+0.j, -0.02964506+0.j, -0.02168805+0.j,\n",
       "        -0.01107969+0.j, -0.01093472+0.j,  0.00670802+0.j,  0.034236  +0.j,\n",
       "         0.04959978+0.j,  0.05060218+0.j,  0.04892752+0.j,  0.04980533+0.j,\n",
       "         0.07397623+0.j,  0.07540234+0.j,  0.10777001+0.j,  0.11308959+0.j,\n",
       "         0.11040139+0.j,  0.1118884 +0.j,  0.12281058+0.j,  0.14044139+0.j,\n",
       "         0.14959713+0.j,  0.16965097+0.j,  0.16856294+0.j,  0.18057924+0.j,\n",
       "         0.18364498+0.j,  0.20232922+0.j,  0.22177718+0.j,  0.22902456+0.j,\n",
       "         0.23206907+0.j,  0.24894099+0.j,  0.26745534+0.j,  0.27001115+0.j,\n",
       "         0.2842615 +0.j,  0.29314732+0.j,  0.30461633+0.j,  0.32134306+0.j,\n",
       "         0.33125967+0.j,  0.32452889+0.j,  0.34317668+0.j,  0.33474159+0.j,\n",
       "         0.31561115+0.j,  0.32020901+0.j,  0.33419012+0.j,  0.35401874+0.j,\n",
       "         0.33484251+0.j,  0.31854097+0.j,  0.30675633+0.j,  0.33783249+0.j,\n",
       "         0.34228308+0.j,  0.34800085+0.j,  0.36119016+0.j,  0.37273191+0.j,\n",
       "         0.36839844+0.j,  0.35559144+0.j,  0.39285235+0.j,  0.39994535+0.j,\n",
       "         0.41909272+0.j,  0.41766811+0.j,  0.43701127+0.j,  0.44797093+0.j,\n",
       "         0.46544989+0.j,  0.4739135 +0.j,  0.48228556+0.j,  0.49350336+0.j,\n",
       "         0.47278468+0.j,  0.47967656+0.j,  0.47539568+0.j,  0.48326386+0.j,\n",
       "         0.48711321+0.j,  0.4793348 +0.j,  0.48710287+0.j,  0.49871296+0.j,\n",
       "         0.49144597+0.j,  0.50487557+0.j,  0.50837757+0.j,  0.53728567+0.j,\n",
       "         0.53527912+0.j,  0.53255546+0.j,  0.50943427+0.j,  0.52191391+0.j,\n",
       "         0.52268846+0.j,  0.52860656+0.j,  0.55388913+0.j,  0.55085857+0.j,\n",
       "         0.56979641+0.j,  0.57359649+0.j,  0.58071867+0.j,  0.58899868+0.j,\n",
       "         0.60532503+0.j,  0.61100714+0.j,  0.60298057+0.j,  0.59691822+0.j,\n",
       "         0.58580419+0.j,  0.57917116+0.j,  0.58028154+0.j,  0.58518204+0.j,\n",
       "         0.60513627+0.j,  0.60991698+0.j,  0.60844551+0.j,  0.61156439+0.j,\n",
       "         0.63605087+0.j,  0.62726594+0.j,  0.65303264+0.j,  0.67730735+0.j,\n",
       "         0.66808218+0.j,  0.65974712+0.j,  0.65698011+0.j,  0.66308862+0.j,\n",
       "         0.66410168+0.j,  0.67045365+0.j,  0.67196964+0.j,  0.68721244+0.j,\n",
       "         0.66966735+0.j,  0.67253129+0.j,  0.70258584+0.j,  0.69848848+0.j,\n",
       "         0.71171148+0.j,  0.70228868+0.j,  0.72271755+0.j,  0.7089144 +0.j,\n",
       "         0.70517555+0.j,  0.69487042+0.j,  0.6850158 +0.j,  0.67809806+0.j,\n",
       "         0.65616765+0.j,  0.65383954+0.j,  0.64224999+0.j,  0.63695412+0.j,\n",
       "         0.62552415+0.j,  0.65288542+0.j,  0.63651506+0.j,  0.63766948+0.j,\n",
       "         0.65277686+0.j,  0.66007625+0.j,  0.65755265+0.j,  0.65408636+0.j,\n",
       "         0.64085751+0.j,  0.64829272+0.j,  0.64501099+0.j,  0.63170725+0.j,\n",
       "         0.62956092+0.j,  0.63176185+0.j,  0.63507383+0.j,  0.61686597+0.j,\n",
       "         0.62979309+0.j,  0.62336239+0.j,  0.6407147 +0.j,  0.6340547 +0.j,\n",
       "         0.63919105+0.j,  0.6280015 +0.j,  0.61678901+0.j,  0.59624194+0.j,\n",
       "         0.58326831+0.j,  0.58039826+0.j,  0.57814523+0.j,  0.59003074+0.j,\n",
       "         0.57659867+0.j,  0.58016388+0.j,  0.55954389+0.j,  0.54637574+0.j,\n",
       "         0.54875725+0.j,  0.5657213 +0.j,  0.55660731+0.j,  0.53928591+0.j,\n",
       "         0.51636534+0.j,  0.5096438 +0.j,  0.50298207+0.j,  0.47842153+0.j,\n",
       "         0.46396936+0.j,  0.46435671+0.j,  0.46642693+0.j,  0.4418062 +0.j,\n",
       "         0.43869652+0.j,  0.43747769+0.j,  0.44294695+0.j,  0.4207121 +0.j,\n",
       "         0.40317627+0.j,  0.40170749+0.j,  0.39708449+0.j,  0.38888377+0.j,\n",
       "         0.38954418+0.j,  0.40239249+0.j,  0.41060766+0.j,  0.39428549+0.j,\n",
       "         0.3825326 +0.j,  0.39623553+0.j,  0.408894  +0.j,  0.40494591+0.j,\n",
       "         0.39475028+0.j,  0.38773459+0.j,  0.35666131+0.j,  0.34382051+0.j,\n",
       "         0.32481718+0.j,  0.34751236+0.j,  0.32536291+0.j,  0.30131881+0.j,\n",
       "         0.26262666+0.j,  0.25770127+0.j,  0.24968757+0.j,  0.25459598+0.j,\n",
       "         0.24581653+0.j,  0.23410363+0.j,  0.23529085+0.j,  0.21674666+0.j,\n",
       "         0.23543271+0.j,  0.2253025 +0.j,  0.24628076+0.j,  0.24108838+0.j,\n",
       "         0.26092684+0.j,  0.25526047+0.j,  0.25676617+0.j,  0.24436377+0.j,\n",
       "         0.21953463+0.j,  0.19724144+0.j,  0.17203688+0.j,  0.17516534+0.j,\n",
       "         0.15607818+0.j,  0.15939276+0.j,  0.13006698+0.j,  0.1071257 +0.j,\n",
       "         0.09800911+0.j,  0.08125394+0.j,  0.06834686+0.j,  0.06241568+0.j,\n",
       "         0.0664388 +0.j,  0.06472686+0.j,  0.06764031+0.j,  0.03686422+0.j,\n",
       "         0.02351934+0.j,  0.02161242+0.j,  0.01756972+0.j,  0.02330623+0.j,\n",
       "         0.01809967+0.j,  0.00493324+0.j, -0.0167063 +0.j, -0.02712473+0.j,\n",
       "        -0.04350537+0.j, -0.02551287+0.j, -0.03197094+0.j, -0.0411025 +0.j,\n",
       "        -0.03983144+0.j, -0.06472654+0.j, -0.06365683+0.j, -0.07462508+0.j,\n",
       "        -0.06407715+0.j, -0.08337367+0.j, -0.11108681+0.j, -0.12415858+0.j,\n",
       "        -0.13677141+0.j, -0.15995649+0.j, -0.19089919+0.j, -0.19089919+0.j]))"
      ]
     },
     "execution_count": 53,
     "metadata": {},
     "output_type": "execute_result"
    }
   ],
   "source": [
    "updater(result.u[-1, 0, : ] , (2*pi)/500, epsilon=((0.1*2*pi)/(10**3)))"
   ]
  },
  {
   "cell_type": "code",
   "execution_count": 54,
   "metadata": {
    "ExecuteTime": {
     "end_time": "2019-02-23T15:04:59.523868Z",
     "start_time": "2019-02-23T15:04:59.521122Z"
    }
   },
   "outputs": [
    {
     "data": {
      "text/plain": [
       "6.283185307179586"
      ]
     },
     "execution_count": 54,
     "metadata": {},
     "output_type": "execute_result"
    }
   ],
   "source": [
    "times[-1]"
   ]
  },
  {
   "cell_type": "code",
   "execution_count": 55,
   "metadata": {
    "ExecuteTime": {
     "end_time": "2019-02-23T15:04:59.591458Z",
     "start_time": "2019-02-23T15:04:59.524833Z"
    }
   },
   "outputs": [
    {
     "data": {
      "text/plain": [
       "6.283185307179586"
      ]
     },
     "execution_count": 55,
     "metadata": {},
     "output_type": "execute_result"
    }
   ],
   "source": [
    "total_time_evo"
   ]
  },
  {
   "cell_type": "markdown",
   "metadata": {},
   "source": [
    "## joining qutip to my code"
   ]
  },
  {
   "cell_type": "markdown",
   "metadata": {
    "ExecuteTime": {
     "end_time": "2019-02-15T04:25:13.615608Z",
     "start_time": "2019-02-15T04:25:13.566890Z"
    }
   },
   "source": [
    "##### total_time\n",
    "---------------------------------------------------------------------------\n",
    "NameError                                 Traceback (most recent call last)\n",
    "<ipython-input-55-9bec417112c8> in <module>()\n",
    "----> 1 total_time\n",
    "\n",
    "NameError: name 'total_time' is not defined\n"
   ]
  },
  {
   "cell_type": "code",
   "execution_count": 56,
   "metadata": {
    "ExecuteTime": {
     "end_time": "2019-02-23T15:04:59.657250Z",
     "start_time": "2019-02-23T15:04:59.592729Z"
    }
   },
   "outputs": [
    {
     "data": {
      "text/plain": [
       "500"
      ]
     },
     "execution_count": 56,
     "metadata": {},
     "output_type": "execute_result"
    }
   ],
   "source": [
    "len(times)"
   ]
  },
  {
   "cell_type": "markdown",
   "metadata": {
    "ExecuteTime": {
     "end_time": "2019-02-15T04:33:44.601387Z",
     "start_time": "2019-02-15T04:33:44.593763Z"
    },
    "code_folding": []
   },
   "source": [
    "def terminator(max_iter, time_steps=len(times), total_time= total_time_evo,\n",
    "               epsilon= 2*pi*1):\n",
    "    r\"\"\"Brief description of the function\"\"\"\n",
    "    \n",
    "    xi_initial = result.u[-1, 0, : ] \n",
    "    #1000*random_sample((time_steps,))\n",
    "    dt = (2*pi)/500  #total_time/time_steps\n",
    "    xi_diff, xi_new_vec = updater(xi_initial, dt, epsilon)\n",
    "    \n",
    "    for i in range(max_iter):\n",
    "        if amax(xi_diff) < epsilon**2 :\n",
    "            xi_final = xi_new_vec\n",
    "            break\n",
    "        else :\n",
    "            xi_diff, xi_new_vec = updater(xi_new_vec, dt, epsilon)\n",
    "            print(i)\n",
    "            print(amax(xi_diff))\n",
    "            \n",
    "        \n",
    "    xi_final = xi_new_vec    \n",
    "    return xi_final"
   ]
  },
  {
   "cell_type": "code",
   "execution_count": 57,
   "metadata": {
    "ExecuteTime": {
     "end_time": "2019-02-23T15:04:59.723323Z",
     "start_time": "2019-02-23T15:04:59.659000Z"
    },
    "code_folding": []
   },
   "outputs": [],
   "source": [
    "def terminator(max_iter, time_steps=len(times),\n",
    "              total_time=total_time_evo,\n",
    "              epsilon=2*pi*1):\n",
    "    r\"\"\"Brief description of the function\"\"\"\n",
    "    xi_initial = result.u[-1, 0, :]\n",
    "    # 1000*random_sample((time_steps,))\n",
    "    dt = (2*pi)/500 #total_time/time_steps\n",
    "    xi_diff, xi_new_vec = updater(xi_initial, dt, epsilon)\n",
    "    min_iter = int(max_iter/2)\n",
    "    for i in range(max_iter):\n",
    "        if i == 0:\n",
    "            print(\"Hi\")\n",
    "            \n",
    "        \n",
    "        if i > min_iter :\n",
    "            \n",
    "            if i > min_iter + 1 :\n",
    "                print(\"Surpassed minimum iteration barrier\")\n",
    "            if amax(xi_diff) < epsilon**2 :\n",
    "                xi_final = xi_new_vec\n",
    "                #print(\"Tejas is unlucky\")\n",
    "                print(\"Attempted iterations \", i)\n",
    "                break\n",
    "            else :\n",
    "                xi_diff, xi_new_vec = updater(xi_new_vec, dt, epsilon)\n",
    "                #print(\"Tejas is a good boy\")\n",
    "                print(i)\n",
    "                print(amax(xi_diff))\n",
    "        \n",
    "        else :\n",
    "            #print(\"Normal life\")    \n",
    "            xi_diff, xi_new_vec = updater(xi_new_vec, dt, epsilon)\n",
    "            print(i)\n",
    "            print(amax(xi_diff))\n",
    "            \n",
    "    return xi_final\n"
   ]
  },
  {
   "cell_type": "markdown",
   "metadata": {},
   "source": [
    "## sub topic 3"
   ]
  },
  {
   "cell_type": "code",
   "execution_count": 58,
   "metadata": {
    "ExecuteTime": {
     "end_time": "2019-02-23T15:04:59.826524Z",
     "start_time": "2019-02-23T15:04:59.724377Z"
    }
   },
   "outputs": [],
   "source": [
    "new_label = [r'$g_{with diss}$']"
   ]
  },
  {
   "cell_type": "markdown",
   "metadata": {},
   "source": [
    "### try"
   ]
  },
  {
   "cell_type": "code",
   "execution_count": 59,
   "metadata": {
    "ExecuteTime": {
     "end_time": "2019-02-23T15:39:00.523220Z",
     "start_time": "2019-02-23T15:04:59.829175Z"
    }
   },
   "outputs": [
    {
     "name": "stdout",
     "output_type": "stream",
     "text": [
      "Hi\n",
      "0\n",
      "(-41.30117088126254+0j)\n",
      "1\n",
      "(-41.27381629787922+0j)\n",
      "2\n",
      "(-41.27511764368741+0j)\n",
      "3\n",
      "(-41.27750316853387+0j)\n",
      "4\n",
      "(-41.27320045060356+0j)\n",
      "5\n",
      "(-41.27818536892015+0j)\n",
      "Attempted iterations  6\n"
     ]
    }
   ],
   "source": [
    "xi_opt = terminator(10)"
   ]
  },
  {
   "cell_type": "code",
   "execution_count": 60,
   "metadata": {
    "ExecuteTime": {
     "end_time": "2019-02-23T15:39:00.526713Z",
     "start_time": "2019-02-23T15:39:00.524538Z"
    }
   },
   "outputs": [],
   "source": [
    "time_steps=len(times)\n",
    "total_time= total_time_evo\n",
    "epsilon= 2*pi*1"
   ]
  },
  {
   "cell_type": "code",
   "execution_count": 61,
   "metadata": {
    "ExecuteTime": {
     "end_time": "2019-02-23T15:39:01.312280Z",
     "start_time": "2019-02-23T15:39:00.527785Z"
    }
   },
   "outputs": [
    {
     "data": {
      "text/plain": [
       "-4.219049970380669"
      ]
     },
     "execution_count": 61,
     "metadata": {},
     "output_type": "execute_result"
    }
   ],
   "source": [
    "dt = (2*pi)/500\n",
    "F(xi_opt, dt)"
   ]
  },
  {
   "cell_type": "code",
   "execution_count": 62,
   "metadata": {
    "ExecuteTime": {
     "end_time": "2019-02-23T15:39:01.916677Z",
     "start_time": "2019-02-23T15:39:01.313334Z"
    }
   },
   "outputs": [
    {
     "data": {
      "text/latex": [
       "Quantum object: dims = [[2, 2], [2, 2]], shape = (4, 4), type = oper, isherm = False\\begin{equation*}\\left(\\begin{array}{*{11}c}0.452 & (-0.262+3.533\\times10^{-04}j) & (-0.262-3.533\\times10^{-04}j) & 0.548\\\\(0.262-3.542\\times10^{-04}j) & (0.095-9.778\\times10^{-04}j) & (-0.190+1.657\\times10^{-06}j) & (-0.262+3.542\\times10^{-04}j)\\\\(0.262+3.542\\times10^{-04}j) & (-0.190-1.657\\times10^{-06}j) & (0.095+9.778\\times10^{-04}j) & (-0.262-3.542\\times10^{-04}j)\\\\0.548 & (0.262-3.533\\times10^{-04}j) & (0.262+3.533\\times10^{-04}j) & 0.452\\\\\\end{array}\\right)\\end{equation*}"
      ],
      "text/plain": [
       "Quantum object: dims = [[2, 2], [2, 2]], shape = (4, 4), type = oper, isherm = False\n",
       "Qobj data =\n",
       "[[ 0.45230997+0.00000000e+00j -0.26245401+3.53272532e-04j\n",
       "  -0.26245401-3.53272532e-04j  0.54769003+0.00000000e+00j]\n",
       " [ 0.26245399-3.54157943e-04j  0.09471193-9.77811602e-04j\n",
       "  -0.18989754+1.65650098e-06j -0.26245399+3.54157943e-04j]\n",
       " [ 0.26245399+3.54157943e-04j -0.18989754-1.65650098e-06j\n",
       "   0.09471193+9.77811602e-04j -0.26245399-3.54157943e-04j]\n",
       " [ 0.54769003+0.00000000e+00j  0.26245401-3.53272532e-04j\n",
       "   0.26245401+3.53272532e-04j  0.45230997+0.00000000e+00j]]"
      ]
     },
     "execution_count": 62,
     "metadata": {},
     "output_type": "execute_result"
    }
   ],
   "source": [
    "L_full_maker(xi_opt, dt)"
   ]
  },
  {
   "cell_type": "code",
   "execution_count": 63,
   "metadata": {
    "ExecuteTime": {
     "end_time": "2019-02-23T15:39:02.102875Z",
     "start_time": "2019-02-23T15:39:01.918274Z"
    }
   },
   "outputs": [
    {
     "name": "stderr",
     "output_type": "stream",
     "text": [
      "/home/tejas/anaconda3/envs/qutip-env/lib/python3.6/site-packages/numpy/core/numeric.py:501: ComplexWarning: Casting complex values to real discards the imaginary part\n",
      "  return array(a, dtype, copy=False, order=order)\n",
      "/home/tejas/anaconda3/envs/qutip-env/lib/python3.6/site-packages/matplotlib/transforms.py:968: ComplexWarning: Casting complex values to real discards the imaginary part\n",
      "  self._points[:, 1] = interval\n"
     ]
    },
    {
     "data": {
      "image/png": "[encoded data removed]",
      "text/plain": [
       "<Figure size 432x288 with 1 Axes>"
      ]
     },
     "metadata": {
      "needs_background": "light"
     },
     "output_type": "display_data"
    }
   ],
   "source": [
    "ax = axes()\n",
    "ax.plot(times, xi_opt)\n",
    "xi_max = amax(xi_opt) + 0.1\n",
    "xi_min = amin(xi_opt) - 0.1\n",
    "\n",
    "ax.set(xlim=(0, total_time_evo), ylim=(xi_min, xi_max),\n",
    "       xlabel='time', ylabel= r'$g_{with diss}$',\n",
    "       title='Control field in the presence of dissipation');"
   ]
  },
  {
   "cell_type": "markdown",
   "metadata": {},
   "source": [
    "### try"
   ]
  },
  {
   "cell_type": "code",
   "execution_count": 64,
   "metadata": {
    "ExecuteTime": {
     "end_time": "2019-02-25T09:42:42.271048Z",
     "start_time": "2019-02-23T15:39:02.104381Z"
    }
   },
   "outputs": [
    {
     "name": "stdout",
     "output_type": "stream",
     "text": [
      "Hi\n",
      "0\n",
      "(-41.30117088126254+0j)\n",
      "1\n",
      "(-41.27381629787922+0j)\n",
      "2\n",
      "(-41.27511764368741+0j)\n",
      "3\n",
      "(-41.27750316853387+0j)\n",
      "4\n",
      "(-41.27320045060356+0j)\n",
      "5\n",
      "(-41.27818536892015+0j)\n",
      "6\n",
      "(-41.27317632735506+0j)\n",
      "7\n",
      "(-41.27778408036589+0j)\n",
      "8\n",
      "(-41.273917844358266+0j)\n",
      "9\n",
      "(-41.276866807220905+0j)\n",
      "10\n",
      "(-41.274921417802204+0j)\n",
      "11\n",
      "(-41.275852421726185+0j)\n",
      "12\n",
      "(-41.27583645310008+0j)\n",
      "13\n",
      "(-41.27506027434989+0j)\n",
      "14\n",
      "(-41.27642955065619+0j)\n",
      "15\n",
      "(-41.27467393097016+0j)\n",
      "16\n",
      "(-41.27659989356431+0j)\n",
      "17\n",
      "(-41.27471497852044+0j)\n",
      "18\n",
      "(-41.27638531306426+0j)\n",
      "19\n",
      "(-41.27507287527054+0j)\n",
      "20\n",
      "(-41.27593531862958+0j)\n",
      "21\n",
      "(-41.27556170647555+0j)\n",
      "22\n",
      "(-41.27544992333113+0j)\n",
      "23\n",
      "(-41.27598955181517+0j)\n",
      "24\n",
      "(-41.27510805871702+0j)\n",
      "25\n",
      "(-41.276216088798144+0j)\n",
      "26\n",
      "(-41.27500930266141+0j)\n",
      "27\n",
      "(-41.2761900363144+0j)\n",
      "28\n",
      "(-41.27515281823597+0j)\n",
      "29\n",
      "(-41.27595490210073+0j)\n",
      "30\n",
      "(-41.2754519305058+0j)\n",
      "31\n",
      "(-41.275623717078524+0j)\n",
      "32\n",
      "(-41.27577749838867+0j)\n",
      "33\n",
      "(-41.2753313333146+0j)\n",
      "34\n",
      "(-41.27600698448428+0j)\n",
      "35\n",
      "(-41.2751822176336+0j)\n",
      "36\n",
      "(-41.276066092135146+0j)\n",
      "37\n",
      "(-41.275215945206426+0j)\n",
      "38\n",
      "(-41.27595020533997+0j)\n",
      "39\n",
      "(-41.27540005470403+0j)\n",
      "40\n",
      "(-41.275720067155085+0j)\n",
      "41\n",
      "(-41.27565024590718+0j)\n",
      "42\n",
      "(-41.27547363387827+0j)\n",
      "43\n",
      "(-41.27586644857104+0j)\n",
      "44\n",
      "(-41.27530611856462+0j)\n",
      "45\n",
      "(-41.275970190306026+0j)\n",
      "46\n",
      "(-41.27527417196089+0j)\n",
      "47\n",
      "(-41.27593151819016+0j)\n",
      "48\n",
      "(-41.275378088589974+0j)\n",
      "49\n",
      "(-41.27577644801036+0j)\n",
      "50\n",
      "(-41.275566896626216+0j)\n",
      "51\n",
      "(-41.27557342096644+0j)\n",
      "52\n",
      "(-41.27576206911177+0j)\n",
      "53\n",
      "(-41.27540396712531+0j)\n",
      "54\n",
      "(-41.27588881541713+0j)\n",
      "55\n",
      "(-41.27533084759068+0j)\n",
      "56\n",
      "(-41.275903410250855+0j)\n",
      "57\n",
      "(-41.27537514196288+0j)\n",
      "58\n",
      "(-41.2758077064822+0j)\n",
      "59\n",
      "(-41.27551143393993+0j)\n",
      "60\n",
      "(-41.27564582841292+0j)\n",
      "61\n",
      "(-41.27568115600516+0j)\n",
      "62\n",
      "(-41.27548464545838+0j)\n",
      "63\n",
      "(-41.2758169719992+0j)\n",
      "64\n",
      "(-41.27538657571393+0j)\n",
      "65\n",
      "(-41.27586859008721+0j)\n",
      "66\n",
      "(-41.27538563165535+0j)\n",
      "67\n",
      "(-41.27582101888094+0j)\n",
      "68\n",
      "(-41.275476168822635+0j)\n",
      "69\n",
      "(-41.27569820804681+0j)\n",
      "70\n",
      "(-41.27561777942589+0j)\n",
      "71\n",
      "(-41.27555210934413+0j)\n",
      "72\n",
      "(-41.27575279967716+0j)\n",
      "73\n",
      "(-41.27544087581823+0j)\n",
      "74\n",
      "(-41.275829335789595+0j)\n",
      "75\n",
      "(-41.27540590754465+0j)\n",
      "76\n",
      "(-41.2758207193178+0j)\n",
      "77\n",
      "(-41.27545668038258+0j)\n",
      "78\n",
      "(-41.27573451477027+0j)\n",
      "79\n",
      "(-41.27556890851481+0j)\n",
      "80\n",
      "(-41.27560811002755+0j)\n",
      "81\n",
      "(-41.275695875159975+0j)\n",
      "82\n",
      "(-41.275492856779984+0j)\n",
      "83\n",
      "(-41.27578755435566+0j)\n",
      "84\n",
      "(-41.27543327935116+0j)\n",
      "85\n",
      "(-41.2758099213222+0j)\n",
      "86\n",
      "(-41.27544994776337+0j)\n",
      "87\n",
      "(-41.27575728677926+0j)\n",
      "88\n",
      "(-41.27553272004052+0j)\n",
      "89\n",
      "(-41.27565351581555+0j)\n",
      "90\n",
      "(-41.27564628886251+0j)\n",
      "91\n",
      "(-41.275541471833485+0j)\n",
      "92\n",
      "(-41.275745035838085+0j)\n",
      "93\n",
      "(-41.27546543800152+0j)\n",
      "94\n",
      "(-41.27579105155422+0j)\n",
      "95\n",
      "(-41.275453645309526+0j)\n",
      "96\n",
      "(-41.27576847838196+0j)\n",
      "97\n",
      "(-41.27550794367694+0j)\n",
      "98\n",
      "(-41.275688857920755+0j)\n",
      "99\n",
      "(-41.27560430819224+0j)\n",
      "100\n",
      "(-41.27558567010705+0j)\n",
      "101\n",
      "(-41.27570336529217+0j)\n",
      "102\n",
      "(-41.27550037579894+0j)\n",
      "103\n",
      "(-41.27576628818332+0j)\n",
      "104\n",
      "(-41.27546578386312+0j)\n",
      "105\n",
      "(-41.275769771730964+0j)\n",
      "106\n",
      "(-41.275493478531445+0j)\n",
      "107\n",
      "(-41.275714585357626+0j)\n",
      "108\n",
      "(-41.27557017668434+0j)\n",
      "109\n",
      "(-41.275624508783814+0j)\n",
      "110\n",
      "(-41.275664000010124+0j)\n",
      "111\n",
      "(-41.275536237274736+0j)\n",
      "112\n",
      "(-41.275737569159745+0j)\n",
      "113\n",
      "(-41.27548445635015+0j)\n",
      "114\n",
      "(-41.27576272937943+0j)\n",
      "115\n",
      "(-41.27548820780132+0j)\n",
      "116\n",
      "(-41.275731220536535+0j)\n",
      "117\n",
      "(-41.27554404449669+0j)\n",
      "118\n",
      "(-41.275657262530544+0j)\n",
      "119\n",
      "(-41.275628210007504+0j)\n",
      "120\n",
      "(-41.27557140314217+0j)\n",
      "121\n",
      "(-41.27570672722682+0j)\n",
      "122\n",
      "(-41.275507888771735+0j)\n",
      "123\n",
      "(-41.275748938949114+0j)\n",
      "124\n",
      "(-41.275491003936956+0j)\n",
      "125\n",
      "(-41.27573937583193+0j)\n",
      "126\n",
      "(-41.275525846974034+0j)\n",
      "127\n",
      "(-41.275683364383525+0j)\n",
      "128\n",
      "(-41.27559703091544+0j)\n",
      "129\n",
      "(-41.275604401722866+0j)\n",
      "130\n",
      "(-41.275675413237266+0j)\n",
      "131\n",
      "(-41.27553435761917+0j)\n",
      "132\n",
      "(-41.27572996514342+0j)\n",
      "133\n",
      "(-41.27550059374929+0j)\n",
      "134\n",
      "(-41.27573989649808+0j)\n",
      "135\n",
      "(-41.27551531259706+0j)\n",
      "136\n",
      "(-41.27570257034829+0j)\n",
      "137\n",
      "(-41.27557124192931+0j)\n",
      "138\n",
      "(-41.275634030280244+0j)\n",
      "139\n",
      "(-41.27564512233036+0j)\n",
      "140\n",
      "(-41.27556223571341+0j)\n",
      "141\n",
      "(-41.27570735727024+0j)\n",
      "142\n",
      "(-41.27551565306602+0j)\n",
      "143\n",
      "(-41.27573375190431+0j)\n",
      "144\n",
      "(-41.27551195568332+0j)\n",
      "145\n",
      "(-41.2757148500365+0j)\n",
      "146\n",
      "(-41.2755513751228+0j)\n",
      "147\n",
      "(-41.27565930023379+0j)\n",
      "148\n",
      "(-41.275617151434346+0j)\n",
      "149\n",
      "(-41.27559002864369+0j)\n",
      "150\n",
      "(-41.2756826506666+0j)\n",
      "151\n",
      "(-41.27553479159412+0j)\n",
      "152\n",
      "(-41.27572204760035+0j)\n",
      "153\n",
      "(-41.275515064845685+0j)\n",
      "154\n",
      "(-41.275720457820675+0j)\n",
      "155\n",
      "(-41.27553767740519+0j)\n",
      "156\n",
      "(-41.27567951737695+0j)\n",
      "157\n",
      "(-41.275592591059784+0j)\n",
      "158\n",
      "(-41.275616386502215+0j)\n",
      "159\n",
      "(-41.27565728433365+0j)\n",
      "160\n",
      "(-41.2755566065933+0j)\n",
      "161\n",
      "(-41.27570599394739+0j)\n",
      "162\n",
      "(-41.27552375054154+0j)\n",
      "163\n",
      "(-41.2757198742079+0j)\n",
      "164\n",
      "(-41.27553013947038+0j)\n",
      "165\n",
      "(-41.275694244485884+0j)\n",
      "166\n",
      "(-41.27557225565593+0j)\n",
      "167\n",
      "(-41.275640164065315+0j)\n",
      "168\n",
      "(-41.27563258744255+0j)\n",
      "169\n",
      "(-41.27557970826068+0j)\n",
      "170\n",
      "(-41.27568686882141+0j)\n",
      "171\n",
      "(-41.275536976525274+0j)\n",
      "172\n",
      "(-41.275713795834946+0j)\n",
      "173\n",
      "(-41.27552847186564+0j)\n",
      "174\n",
      "(-41.27570332643337+0j)\n",
      "175\n",
      "(-41.27555673803564+0j)\n",
      "176\n",
      "(-41.27566042636777+0j)\n",
      "177\n",
      "(-41.27560973660577+0j)\n",
      "178\n",
      "(-41.275602799118005+0j)\n",
      "179\n",
      "(-41.275665953648726+0j)\n",
      "180\n",
      "(-41.275553611572015+0j)\n",
      "181\n",
      "(-41.27570309495686+0j)\n",
      "182\n",
      "(-41.27553216988915+0j)\n",
      "183\n",
      "(-41.27570687504711+0j)\n",
      "184\n",
      "(-41.27554634106243+0j)\n",
      "185\n",
      "(-41.27567649125977+0j)\n",
      "186\n",
      "(-41.275589714957746+0j)\n",
      "187\n",
      "(-41.275624690712014+0j)\n",
      "188\n",
      "(-41.27564449504275+0j)\n",
      "189\n",
      "(-41.275572463984865+0j)\n",
      "190\n",
      "(-41.2756887686999+0j)\n",
      "191\n",
      "(-41.27554053180826+0j)\n",
      "192\n",
      "(-41.275705235214986+0j)\n",
      "193\n",
      "(-41.27554111822017+0j)\n",
      "194\n",
      "(-41.27568792312872+0j)\n",
      "195\n",
      "(-41.27557329316994+0j)\n",
      "196\n",
      "(-41.275644360404534+0j)\n",
      "197\n",
      "(-41.275623655574506+0j)\n",
      "198\n",
      "(-41.27559234332375+0j)\n",
      "199\n",
      "(-41.27567190105205+0j)\n",
      "200\n",
      "(-41.27555268816645+0j)\n",
      "201\n",
      "(-41.27569897128514+0j)\n",
      "202\n",
      "(-41.27554087146341+0j)\n",
      "203\n",
      "(-41.275694546052534+0j)\n",
      "204\n",
      "(-41.27556100887467+0j)\n",
      "205\n",
      "(-41.275660973392704+0j)\n",
      "206\n",
      "(-41.2756044765834+0j)\n",
      "207\n",
      "(-41.27561211827698+0j)\n",
      "208\n",
      "(-41.27565359969432+0j)\n",
      "209\n",
      "(-41.27556766773397+0j)\n",
      "210\n",
      "(-41.27568881591641+0j)\n",
      "211\n",
      "(-41.27554517985807+0j)\n",
      "212\n",
      "(-41.27569642774818+0j)\n",
      "213\n",
      "(-41.27555315021298+0j)\n",
      "214\n",
      "(-41.27567391410559+0j)\n",
      "215\n",
      "(-41.27558782414705+0j)\n",
      "216\n",
      "(-41.275630744049295+0j)\n",
      "217\n",
      "(-41.27563495729381+0j)\n",
      "218\n",
      "(-41.275584435910666+0j)\n",
      "219\n",
      "(-41.27567563946697+0j)\n",
      "220\n",
      "(-41.27555343891158+0j)\n",
      "221\n",
      "(-41.27569386412335+0j)\n",
      "222\n",
      "(-41.27554977335306+0j)\n",
      "223\n",
      "(-41.27568279308583+0j)\n",
      "224\n",
      "(-41.27557438438049+0j)\n",
      "225\n",
      "(-41.27564731789653+0j)\n",
      "226\n",
      "(-41.27561699424378+0j)\n",
      "227\n",
      "(-41.275601950832474+0j)\n",
      "228\n",
      "(-41.27566038815959+0j)\n",
      "229\n",
      "(-41.275564889960265+0j)\n",
      "230\n",
      "(-41.275687349457385+0j)\n",
      "231\n",
      "(-41.275550705331035+0j)\n",
      "232\n",
      "(-41.27568745876385+0j)\n",
      "233\n",
      "(-41.27556462422516+0j)\n",
      "234\n",
      "(-41.27566111434155+0j)\n",
      "235\n",
      "(-41.275600623356375+0j)\n",
      "236\n",
      "(-41.27561921185894+0j)\n",
      "237\n",
      "(-41.27564404226136+0j)\n",
      "238\n",
      "(-41.27557866733591+0j)\n",
      "239\n",
      "(-41.2756775353389+0j)\n",
      "240\n",
      "(-41.275555566891136+0j)\n",
      "241\n",
      "(-41.27568797818157+0j)\n",
      "242\n",
      "(-41.275558793145876+0j)\n",
      "243\n",
      "(-41.27567158867311+0j)\n",
      "244\n",
      "(-41.275586611746526+0j)\n",
      "245\n",
      "(-41.275635299641515+0j)\n",
      "246\n",
      "(-41.27562756824639+0j)\n",
      "247\n",
      "(-41.27559385130817+0j)\n",
      "248\n",
      "(-41.27566520077443+0j)\n",
      "249\n",
      "(-41.27556380664728+0j)\n",
      "250\n",
      "(-41.27568463030739+0j)\n",
      "251\n",
      "(-41.27555691997696+0j)\n",
      "252\n",
      "(-41.27567841781117+0j)\n",
      "253\n",
      "(-41.27557554506686+0j)\n",
      "254\n",
      "(-41.27564942329908+0j)\n",
      "255\n",
      "(-41.275611870542406+0j)\n",
      "256\n",
      "(-41.27560951577466+0j)\n",
      "257\n",
      "(-41.27565119878369+0j)\n",
      "258\n",
      "(-41.275574735434716+0j)\n",
      "259\n",
      "(-41.27567787089083+0j)\n",
      "260\n",
      "(-41.27555883321389+0j)\n",
      "261\n",
      "(-41.27568148614911+0j)\n",
      "262\n",
      "(-41.27556782851096+0j)\n",
      "263\n",
      "(-41.27566094535326+0j)\n",
      "264\n",
      "(-41.27559775591713+0j)\n",
      "265\n",
      "(-41.27562476616779+0j)\n",
      "266\n",
      "(-41.275636406110856+0j)\n",
      "267\n",
      "(-41.2755875715191+0j)\n",
      "268\n",
      "(-41.27566830170857+0j)\n",
      "269\n",
      "(-41.27556416935859+0j)\n",
      "270\n",
      "(-41.27568087910618+0j)\n",
      "271\n",
      "(-41.27556365799794+0j)\n",
      "272\n",
      "(-41.275669409756425+0j)\n",
      "273\n",
      "(-41.27558588905791+0j)\n",
      "274\n",
      "(-41.27563879276875+0j)\n",
      "275\n",
      "(-41.275621688625385+0j)\n",
      "276\n",
      "(-41.275601478525076+0j)\n",
      "277\n",
      "(-41.27565663965225+0j)\n",
      "278\n",
      "(-41.2755724108081+0j)\n",
      "279\n",
      "(-41.27567687162375+0j)\n",
      "280\n",
      "(-41.27556303311709+0j)\n",
      "281\n",
      "(-41.27567454764144+0j)\n",
      "282\n",
      "(-41.27557678152417+0j)\n",
      "283\n",
      "(-41.275650897577236+0j)\n",
      "284\n",
      "(-41.27560785557267+0j)\n",
      "285\n",
      "(-41.27561562069602+0j)\n",
      "286\n",
      "(-41.275643657890456+0j)\n",
      "287\n",
      "(-41.275582917127686+0j)\n",
      "288\n",
      "(-41.27566990143626+0j)\n",
      "289\n",
      "(-41.275565764454456+0j)\n",
      "290\n",
      "(-41.27567628480299+0j)\n",
      "291\n",
      "(-41.275570766248855+0j)\n",
      "292\n",
      "(-41.27566053235949+0j)\n",
      "293\n",
      "(-41.275595614873524+0j)\n",
      "294\n",
      "(-41.2756291995793+0j)\n"
     ]
    },
    {
     "name": "stdout",
     "output_type": "stream",
     "text": [
      "295\n",
      "(-41.27563015865653+0j)\n",
      "296\n",
      "(-41.27559496546702+0j)\n",
      "297\n",
      "(-41.27566053936528+0j)\n",
      "298\n",
      "(-41.27557149605902+0j)\n",
      "299\n",
      "(-41.27567473576749+0j)\n",
      "300\n",
      "(-41.27556798439604+0j)\n",
      "301\n",
      "(-41.275667311577386+0j)\n",
      "302\n",
      "(-41.27558555037337+0j)\n",
      "303\n",
      "(-41.27564149236707+0j)\n",
      "304\n",
      "(-41.27561692302436+0j)\n",
      "305\n",
      "(-41.2756077932927+0j)\n",
      "306\n",
      "(-41.275649446857436+0j)\n",
      "307\n",
      "(-41.27557973265099+0j)\n",
      "308\n",
      "(-41.275670179344566+0j)\n",
      "309\n",
      "(-41.275568405158566+0j)\n",
      "310\n",
      "(-41.27567102331797+0j)\n",
      "311\n",
      "(-41.27557809708235+0j)\n",
      "312\n",
      "(-41.275651888338565+0j)\n",
      "313\n",
      "(-41.27560467261462+0j)\n",
      "314\n",
      "(-41.27562063694333+0j)\n",
      "315\n",
      "(-41.27563734338438+0j)\n",
      "316\n",
      "(-41.27558986524449+0j)\n",
      "317\n",
      "(-41.27566304536457+0j)\n",
      "318\n",
      "(-41.2755718200535+0j)\n",
      "319\n",
      "(-41.27567164025943+0j)\n",
      "320\n",
      "(-41.27557352235394+0j)\n",
      "321\n",
      "(-41.27565991562888+0j)\n",
      "322\n",
      "(-41.27559403584711+0j)\n",
      "323\n",
      "(-41.27563277939486+0j)\n",
      "324\n",
      "(-41.27562496299199+0j)\n",
      "325\n",
      "(-41.275601224382456+0j)\n",
      "326\n",
      "(-41.275653875358564+0j)\n",
      "327\n",
      "(-41.2755778728992+0j)\n",
      "328\n",
      "(-41.27566929737103+0j)\n",
      "329\n",
      "(-41.27557192203541+0j)\n",
      "330\n",
      "(-41.2756652530444+0j)\n",
      "331\n",
      "(-41.2755855204973+0j)\n",
      "332\n",
      "(-41.27564357535057+0j)\n",
      "333\n",
      "(-41.275613013850645+0j)\n",
      "334\n",
      "(-41.27561310473541+0j)\n",
      "335\n",
      "(-41.275643296162414+0j)\n",
      "336\n",
      "(-41.27558608059482+0j)\n",
      "337\n",
      "(-41.27566429035042+0j)\n",
      "338\n",
      "(-41.27557322777464+0j)\n",
      "339\n",
      "(-41.27566774811058+0j)\n",
      "340\n",
      "(-41.275579491011925+0j)\n",
      "341\n",
      "(-41.27565249132246+0j)\n",
      "342\n",
      "(-41.27560214327756+0j)\n",
      "343\n",
      "(-41.275624807767095+0j)\n",
      "344\n",
      "(-41.27563197612257+0j)\n",
      "345\n",
      "(-41.27559586680274+0j)\n",
      "346\n",
      "(-41.27565703739125+0j)\n",
      "347\n",
      "(-41.27557721418257+0j)\n",
      "348\n",
      "(-41.27566740886013+0j)\n",
      "349\n",
      "(-41.275576156949754+0j)\n",
      "350\n",
      "(-41.27565912394505+0j)\n",
      "351\n",
      "(-41.275592908286136+0j)\n",
      "352\n",
      "(-41.27563568500418+0j)\n",
      "353\n",
      "(-41.27562059041704+0j)\n",
      "354\n",
      "(-41.27560659884866+0j)\n",
      "355\n",
      "(-41.275648064547184+0j)\n",
      "356\n",
      "(-41.275583517955624+0j)\n",
      "357\n",
      "(-41.27566439980536+0j)\n",
      "358\n",
      "(-41.27557557024194+0j)\n",
      "359\n",
      "(-41.2756632124724+0j)\n",
      "360\n",
      "(-41.27558574574723+0j)\n",
      "361\n",
      "(-41.27564516316701+0j)\n",
      "362\n",
      "(-41.27560978542608+0j)\n",
      "363\n",
      "(-41.27561762233156+0j)\n",
      "364\n",
      "(-41.275637964649405+0j)\n",
      "365\n",
      "(-41.27559166905886+0j)\n",
      "366\n",
      "(-41.27565902355851+0j)\n",
      "367\n",
      "(-41.27557762855948+0j)\n",
      "368\n",
      "(-41.27566465444538+0j)\n",
      "369\n",
      "(-41.27558095996995+0j)\n",
      "370\n",
      "(-41.27565277489104+0j)\n",
      "371\n",
      "(-41.27560014256142+0j)\n",
      "372\n",
      "(-41.275628300975605+0j)\n",
      "373\n",
      "(-41.275627362811356+0j)\n",
      "374\n",
      "(-41.275601116009284+0j)\n",
      "375\n",
      "(-41.27565170087366+0j)\n",
      "376\n",
      "(-41.275582086868155+0j)\n",
      "377\n",
      "(-41.275663495601464+0j)\n",
      "378\n",
      "(-41.27557870736695+0j)\n",
      "379\n",
      "(-41.27565817978414+0j)\n",
      "380\n",
      "(-41.275592151274815+0j)\n",
      "381\n",
      "(-41.275638043228945+0j)\n",
      "382\n",
      "(-41.27561688331118+0j)\n",
      "383\n",
      "(-41.275611261247306+0j)\n",
      "384\n",
      "(-41.27564293691105+0j)\n",
      "385\n",
      "(-41.275588580106295+0j)\n",
      "386\n",
      "(-41.27565992490583+0j)\n",
      "387\n",
      "(-41.275578996497046+0j)\n",
      "388\n",
      "(-41.275661173612505+0j)\n",
      "389\n",
      "(-41.27558618935363+0j)\n",
      "390\n",
      "(-41.27564634077072+0j)\n",
      "391\n",
      "(-41.2756071143908+0j)\n",
      "392\n",
      "(-41.27562149648794+0j)\n",
      "393\n",
      "(-41.27563329619797+0j)\n",
      "394\n",
      "(-41.2755966452521+0j)\n",
      "395\n",
      "(-41.275654256065394+0j)\n",
      "396\n",
      "(-41.27558169482572+0j)\n",
      "397\n",
      "(-41.275661698388426+0j)\n",
      "398\n",
      "(-41.27558250167468+0j)\n",
      "399\n",
      "(-41.275652788717736+0j)\n",
      "400\n",
      "(-41.27559857938718+0j)\n",
      "401\n",
      "(-41.275631234953224+0j)\n",
      "402\n",
      "(-41.27562336736996+0j)\n",
      "403\n",
      "(-41.275605752757784+0j)\n",
      "404\n",
      "(-41.27564690633155+0j)\n",
      "405\n",
      "(-41.27558654164003+0j)\n",
      "406\n",
      "(-41.275659835038525+0j)\n",
      "407\n",
      "(-41.275581196917656+0j)\n",
      "408\n",
      "(-41.27565710189862+0j)\n",
      "409\n",
      "(-41.27559170867788+0j)\n",
      "410\n",
      "(-41.275639944018906+0j)\n",
      "411\n",
      "(-41.27561372659216+0j)\n",
      "412\n",
      "(-41.275615337791926+0j)\n",
      "413\n",
      "(-41.27563836857257+0j)\n",
      "414\n",
      "(-41.275593165346486+0j)\n",
      "415\n",
      "(-41.2756557940873+0j)\n",
      "416\n",
      "(-41.2755822460555+0j)\n",
      "417\n",
      "(-41.27565912880356+0j)\n",
      "418\n",
      "(-41.27558682044444+0j)\n",
      "419\n",
      "(-41.27564717313687+0j)\n",
      "420\n",
      "(-41.27560491148798+0j)\n",
      "421\n",
      "(-41.2756248329181+0j)\n",
      "422\n",
      "(-41.27562917967893+0j)\n",
      "423\n",
      "(-41.27560111396275+0j)\n",
      "424\n",
      "(-41.27564989993785+0j)\n",
      "425\n",
      "(-41.27558548941751+0j)\n",
      "426\n",
      "(-41.275658850736065+0j)\n",
      "427\n",
      "(-41.275584109780944+0j)\n",
      "428\n",
      "(-41.27565257066216+0j)\n",
      "429\n",
      "(-41.27559738838869+0j)\n",
      "430\n",
      "(-41.27563369955709+0j)\n",
      "431\n",
      "(-41.27561989101676+0j)\n",
      "432\n",
      "(-41.27560987649334+0j)\n",
      "433\n",
      "(-41.27564256700606+0j)\n",
      "434\n",
      "(-41.27559064905437+0j)\n",
      "435\n",
      "(-41.2756563810014+0j)\n",
      "436\n",
      "(-41.27558364271185+0j)\n",
      "437\n",
      "(-41.27565590623757+0j)\n",
      "438\n",
      "(-41.275591533951875+0j)\n",
      "439\n",
      "(-41.27564145688489+0j)\n",
      "440\n",
      "(-41.2756110369113+0j)\n",
      "441\n",
      "(-41.2756189177623+0j)\n",
      "442\n",
      "(-41.27563427326832+0j)\n",
      "443\n",
      "(-41.27559735184731+0j)\n",
      "444\n",
      "(-41.275651950254996+0j)\n",
      "445\n",
      "(-41.27558535246317+0j)\n",
      "446\n",
      "(-41.275657072729125+0j)\n",
      "447\n",
      "(-41.27558761521709+0j)\n",
      "448\n",
      "(-41.27564770660874+0j)\n",
      "449\n",
      "(-41.27560310720033+0j)\n",
      "450\n",
      "(-41.275627710488685+0j)\n",
      "451\n",
      "(-41.275625531232556+0j)\n",
      "452\n",
      "(-41.27560515251539+0j)\n",
      "453\n",
      "(-41.27564589062553+0j)\n",
      "454\n",
      "(-41.27558905512995+0j)\n",
      "455\n",
      "(-41.27565609110707+0j)\n",
      "456\n",
      "(-41.275585780402196+0j)\n",
      "457\n",
      "(-41.2756521508904+0j)\n",
      "458\n",
      "(-41.27559651711742+0j)\n",
      "459\n",
      "(-41.275635759431864+0j)\n",
      "460\n",
      "(-41.275616858826126+0j)\n",
      "461\n",
      "(-41.275613561006956+0j)\n",
      "462\n",
      "(-41.275638614446834+0j)\n",
      "463\n",
      "(-41.275594461141644+0j)\n",
      "464\n",
      "(-41.275653101353754+0j)\n",
      "465\n",
      "(-41.27558605245808+0j)\n",
      "466\n",
      "(-41.275654605219216+0j)\n",
      "467\n",
      "(-41.275591593176756+0j)\n",
      "468\n",
      "(-41.27564263290055+0j)\n",
      "469\n",
      "(-41.27560875046229+0j)\n",
      "470\n",
      "(-41.27562207073973+0j)\n",
      "471\n",
      "(-41.275630584212934+0j)\n",
      "472\n",
      "(-41.27560119439554+0j)\n",
      "473\n",
      "(-41.275648352290645+0j)\n",
      "474\n",
      "(-41.2755883360501+0j)\n",
      "475\n",
      "(-41.27565500571943+0j)\n",
      "476\n",
      "(-41.2755885550499+0j)\n",
      "477\n",
      "(-41.275647980951796+0j)\n",
      "478\n",
      "(-41.275601650007744+0j)\n",
      "479\n",
      "(-41.275630190223126+0j)\n",
      "480\n",
      "(-41.275622289191034+0j)\n",
      "481\n",
      "(-41.275608818952364+0j)\n",
      "482\n",
      "(-41.27564218258731+0j)\n",
      "483\n",
      "(-41.275592424285165+0j)\n",
      "484\n",
      "(-41.275653406080274+0j)\n",
      "485\n",
      "(-41.27558750568502+0j)\n",
      "486\n",
      "(-41.275651553502556+0j)\n",
      "487\n",
      "(-41.27559592644654+0j)\n",
      "488\n",
      "(-41.27563746667223+0j)\n",
      "489\n",
      "(-41.27561421549822+0j)\n",
      "490\n",
      "(-41.27561686250957+0j)\n",
      "491\n",
      "(-41.27563499936677+0j)\n",
      "492\n",
      "(-41.275598016345874+0j)\n",
      "493\n",
      "(-41.2756499727136+0j)\n",
      "494\n",
      "(-41.27558843296654+0j)\n",
      "495\n",
      "(-41.27565321104134+0j)\n",
      "496\n",
      "(-41.27559185878855+0j)\n",
      "497\n",
      "(-41.27564351321501+0j)\n",
      "498\n",
      "(-41.27560681847492+0j)\n",
      "499\n",
      "(-41.27562484849918+0j)\n",
      "500\n",
      "(-41.275627252074024+0j)\n",
      "Attempted iterations  501\n"
     ]
    }
   ],
   "source": [
    "xi_opt = terminator(1000)"
   ]
  },
  {
   "cell_type": "code",
   "execution_count": 65,
   "metadata": {
    "ExecuteTime": {
     "end_time": "2019-02-25T09:42:42.273948Z",
     "start_time": "2019-02-25T09:42:42.272161Z"
    }
   },
   "outputs": [],
   "source": [
    "time_steps=len(times)\n",
    "total_time= total_time_evo\n",
    "epsilon= 2*pi*1"
   ]
  },
  {
   "cell_type": "code",
   "execution_count": 66,
   "metadata": {
    "ExecuteTime": {
     "end_time": "2019-02-25T09:42:43.126633Z",
     "start_time": "2019-02-25T09:42:42.275156Z"
    }
   },
   "outputs": [
    {
     "data": {
      "text/plain": [
       "-4.219438201331842"
      ]
     },
     "execution_count": 66,
     "metadata": {},
     "output_type": "execute_result"
    }
   ],
   "source": [
    "dt = (2*pi)/500\n",
    "F(xi_opt, dt)"
   ]
  },
  {
   "cell_type": "code",
   "execution_count": 67,
   "metadata": {
    "ExecuteTime": {
     "end_time": "2019-02-25T09:42:43.765288Z",
     "start_time": "2019-02-25T09:42:43.128043Z"
    }
   },
   "outputs": [
    {
     "data": {
      "text/latex": [
       "Quantum object: dims = [[2, 2], [2, 2]], shape = (4, 4), type = oper, isherm = False\\begin{equation*}\\left(\\begin{array}{*{11}c}0.269 & (-0.133+9.027\\times10^{-06}j) & (-0.133-9.027\\times10^{-06}j) & 0.731\\\\(0.133-9.027\\times10^{-06}j) & (-0.089-6.411\\times10^{-06}j) & (-0.374+6.776\\times10^{-11}j) & (-0.133+9.027\\times10^{-06}j)\\\\(0.133+9.027\\times10^{-06}j) & (-0.374-6.776\\times10^{-11}j) & (-0.089+6.411\\times10^{-06}j) & (-0.133-9.027\\times10^{-06}j)\\\\0.731 & (0.133-9.027\\times10^{-06}j) & (0.133+9.027\\times10^{-06}j) & 0.269\\\\\\end{array}\\right)\\end{equation*}"
      ],
      "text/plain": [
       "Quantum object: dims = [[2, 2], [2, 2]], shape = (4, 4), type = oper, isherm = False\n",
       "Qobj data =\n",
       "[[ 0.26860643+0.00000000e+00j -0.13270097+9.02661703e-06j\n",
       "  -0.13270097-9.02661703e-06j  0.73139357+0.00000000e+00j]\n",
       " [ 0.13270097-9.02656244e-06j -0.08908816-6.41081955e-06j\n",
       "  -0.37369771+6.77637638e-11j -0.13270097+9.02656244e-06j]\n",
       " [ 0.13270097+9.02656244e-06j -0.37369771-6.77637650e-11j\n",
       "  -0.08908816+6.41081955e-06j -0.13270097-9.02656244e-06j]\n",
       " [ 0.73139357+0.00000000e+00j  0.13270097-9.02661703e-06j\n",
       "   0.13270097+9.02661703e-06j  0.26860643+0.00000000e+00j]]"
      ]
     },
     "execution_count": 67,
     "metadata": {},
     "output_type": "execute_result"
    }
   ],
   "source": [
    "L_full_maker(xi_opt, dt)"
   ]
  },
  {
   "cell_type": "code",
   "execution_count": 68,
   "metadata": {
    "ExecuteTime": {
     "end_time": "2019-02-25T09:42:44.425195Z",
     "start_time": "2019-02-25T09:42:43.766471Z"
    }
   },
   "outputs": [
    {
     "name": "stderr",
     "output_type": "stream",
     "text": [
      "/home/tejas/anaconda3/envs/qutip-env/lib/python3.6/site-packages/numpy/core/numeric.py:501: ComplexWarning: Casting complex values to real discards the imaginary part\n",
      "  return array(a, dtype, copy=False, order=order)\n",
      "/home/tejas/anaconda3/envs/qutip-env/lib/python3.6/site-packages/matplotlib/transforms.py:968: ComplexWarning: Casting complex values to real discards the imaginary part\n",
      "  self._points[:, 1] = interval\n"
     ]
    },
    {
     "data": {
      "image/png": "[encoded data removed]",
      "text/plain": [
       "<Figure size 432x288 with 1 Axes>"
      ]
     },
     "metadata": {
      "needs_background": "light"
     },
     "output_type": "display_data"
    }
   ],
   "source": [
    "ax = axes()\n",
    "ax.plot(times, xi_opt)\n",
    "xi_max = amax(xi_opt) + 0.1\n",
    "xi_min = amin(xi_opt) - 0.1\n",
    "\n",
    "ax.set(xlim=(0, total_time_evo), ylim=(xi_min, xi_max),\n",
    "       xlabel='time', ylabel= r'$g_{with diss}$',\n",
    "       title='Control field in the presence of dissipation');"
   ]
  },
  {
   "cell_type": "markdown",
   "metadata": {},
   "source": [
    "### try"
   ]
  },
  {
   "cell_type": "code",
   "execution_count": null,
   "metadata": {
    "ExecuteTime": {
     "start_time": "2019-02-23T14:54:46.687Z"
    }
   },
   "outputs": [
    {
     "name": "stdout",
     "output_type": "stream",
     "text": [
      "Hi\n",
      "0\n",
      "(-0.4571045443570439+0j)\n",
      "1\n",
      "(-0.7232345261942117+0j)\n",
      "2\n",
      "(-0.6651785575847724+0j)\n",
      "3\n",
      "(-0.6657926571118615+0j)\n",
      "4\n",
      "(-0.6569079717013682+0j)\n",
      "5\n",
      "(-0.6567650441007232+0j)\n",
      "6\n",
      "(-0.6605889590292744+0j)\n",
      "7\n",
      "(-0.6574390800143084+0j)\n",
      "8\n",
      "(-0.6558851842025688+0j)\n",
      "9\n",
      "(-0.6587849143026541+0j)\n",
      "10\n",
      "(-0.6578088158649859+0j)\n",
      "11\n",
      "(-0.6558310260550814+0j)\n",
      "12\n",
      "(-0.6577883792279144+0j)\n",
      "13\n",
      "(-0.6579602105422354+0j)\n",
      "14\n",
      "(-0.6560718338285085+0j)\n",
      "15\n",
      "(-0.6571640686327712+0j)\n",
      "16\n",
      "(-0.6579614590330518+0j)\n",
      "17\n",
      "(-0.656348736084635+0j)\n",
      "18\n",
      "(-0.6567749124697024+0j)\n",
      "19\n",
      "(-0.657870649153663+0j)\n",
      "20\n",
      "(-0.6566521300661731+0j)\n",
      "21\n",
      "(-0.656530645550628+0j)\n",
      "22\n",
      "(-0.657702824591559+0j)\n",
      "23\n",
      "(-0.6569167276689452+0j)\n",
      "24\n",
      "(-0.6564005505920196+0j)\n",
      "25\n",
      "(-0.6574823491881572+0j)\n",
      "26\n",
      "(-0.6571399050707316+0j)\n",
      "27\n",
      "(-0.6563851341982101+0j)\n",
      "28\n",
      "(-0.6572554522049496+0j)\n",
      "29\n",
      "(-0.6573081712538067+0j)\n",
      "30\n",
      "(-0.6564389829834735+0j)\n",
      "31\n",
      "(-0.6570324942334133+0j)\n",
      "32\n",
      "(-0.6573882343276725+0j)\n",
      "33\n",
      "(-0.6565646738057156+0j)\n",
      "34\n",
      "(-0.6568503922434517+0j)\n",
      "35\n",
      "(-0.6574064892462403+0j)\n",
      "36\n",
      "(-0.6567069610957265+0j)\n",
      "37\n",
      "(-0.6567083046328719+0j)\n",
      "38\n",
      "(-0.6573662812406396+0j)\n",
      "39\n",
      "(-0.6568631003573188+0j)\n",
      "40\n",
      "(-0.6566165211525666+0j)\n",
      "41\n",
      "(-0.6572761105334455+0j)\n",
      "42\n",
      "(-0.657005742093494+0j)\n",
      "43\n",
      "(-0.6565798738469106+0j)\n",
      "44\n",
      "(-0.6571612616796831+0j)\n",
      "45\n",
      "(-0.6571253921141881+0j)\n",
      "46\n",
      "(-0.6565935985071092+0j)\n",
      "47\n",
      "(-0.6570305722849115+0j)\n",
      "48\n",
      "(-0.6572041745483939+0j)\n",
      "49\n",
      "(-0.6566472125500835+0j)\n",
      "50\n",
      "(-0.6569038564833953+0j)\n",
      "51\n",
      "(-0.6572405340982814+0j)\n",
      "52\n",
      "(-0.6567355690211252+0j)\n",
      "53\n",
      "(-0.6567984359900008+0j)\n",
      "54\n",
      "(-0.6572337469023308+0j)\n",
      "55\n",
      "(-0.6568404935674123+0j)\n",
      "56\n",
      "(-0.656719585598618+0j)\n",
      "57\n",
      "(-0.657190893571471+0j)\n",
      "58\n",
      "(-0.6569449989349715+0j)\n",
      "59\n",
      "(-0.6566775307301872+0j)\n",
      "60\n",
      "(-0.657118385462153+0j)\n",
      "61\n",
      "(-0.6570382429266376+0j)\n",
      "62\n",
      "(-0.6566709730374923+0j)\n",
      "63\n",
      "(-0.6570301499525453+0j)\n",
      "64\n",
      "(-0.6571087634280471+0j)\n",
      "65\n",
      "(-0.6566999364435758+0j)\n",
      "66\n",
      "(-0.6569358675992296+0j)\n",
      "67\n",
      "(-0.6571512553652802+0j)\n",
      "68\n",
      "(-0.6567552819999513+0j)\n",
      "69\n",
      "(-0.6568508109395131+0j)\n",
      "70\n",
      "(-0.6571610114621276+0j)\n",
      "71\n",
      "(-0.6568297748051298+0j)\n",
      "72\n",
      "(-0.6567826912971683+0j)\n",
      "73\n",
      "(-0.6571404721550944+0j)\n",
      "74\n",
      "(-0.656910348199331+0j)\n",
      "75\n",
      "(-0.6567386389854374+0j)\n",
      "76\n",
      "(-0.6570940934091027+0j)\n",
      "77\n",
      "(-0.6569868690713494+0j)\n",
      "78\n",
      "(-0.6567227978860274+0j)\n",
      "79\n",
      "(-0.6570304768270088+0j)\n",
      "80\n",
      "(-0.6570508794810861+0j)\n",
      "81\n",
      "(-0.6567349317642021+0j)\n",
      "82\n",
      "(-0.6569583478798546+0j)\n",
      "83\n",
      "(-0.6570932295195601+0j)\n",
      "84\n",
      "(-0.656770238536463+0j)\n",
      "85\n",
      "(-0.6568867269775328+0j)\n",
      "86\n",
      "(-0.6571130553693836+0j)\n",
      "87\n",
      "(-0.6568237409573568+0j)\n",
      "88\n",
      "(-0.6568260056300961+0j)\n",
      "89\n",
      "(-0.6571075149643065+0j)\n",
      "90\n",
      "(-0.6568877660639456+0j)\n",
      "91\n",
      "(-0.6567817026734991+0j)\n",
      "92\n",
      "(-0.6570770805942718+0j)\n",
      "93\n",
      "(-0.6569525105952817+0j)\n",
      "94\n",
      "(-0.6567598243891596+0j)\n",
      "95\n",
      "(-0.6570298031961058+0j)\n",
      "96\n",
      "(-0.657010016870458+0j)\n",
      "97\n",
      "(-0.6567604417409534+0j)\n",
      "98\n",
      "(-0.6569725086264495+0j)\n",
      "99\n",
      "(-0.6570533348234588+0j)\n",
      "100\n",
      "(-0.6567825648778577+0j)\n",
      "101\n",
      "(-0.6569126030345938+0j)\n",
      "102\n",
      "(-0.6570772751388668+0j)\n",
      "103\n",
      "(-0.6568221283369001+0j)\n",
      "104\n",
      "(-0.6568577658760644+0j)\n",
      "105\n",
      "(-0.6570799503890434+0j)\n",
      "106\n",
      "(-0.6568731704495177+0j)\n",
      "107\n",
      "(-0.656815098312182+0j)\n",
      "108\n",
      "(-0.6570621613552725+0j)\n",
      "109\n",
      "(-0.6569279182164428+0j)\n",
      "110\n",
      "(-0.6567889255157695+0j)\n",
      "111\n",
      "(-0.6570281532071437+0j)\n",
      "112\n",
      "(-0.6569796186374207+0j)\n",
      "113\n",
      "(-0.6567817693141229+0j)\n",
      "114\n",
      "(-0.6569824804896589+0j)\n",
      "115\n",
      "(-0.6570214090329427+0j)\n",
      "116\n",
      "(-0.6567937929028703+0j)\n",
      "117\n",
      "(-0.656931732770282+0j)\n",
      "118\n",
      "(-0.6570483858310041+0j)\n",
      "119\n",
      "(-0.6568224316258912+0j)\n",
      "120\n",
      "(-0.6568824204669499+0j)\n",
      "121\n",
      "(-0.657058409784587+0j)\n",
      "122\n",
      "(-0.656862828685664+0j)\n",
      "123\n",
      "(-0.6568409907670918+0j)\n",
      "124\n",
      "(-0.6570500862593261+0j)\n",
      "125\n",
      "(-0.6569098116289522+0j)\n",
      "126\n",
      "(-0.6568126312374938+0j)\n",
      "127\n",
      "(-0.6570257491281609+0j)\n",
      "128\n",
      "(-0.656956074361112+0j)\n",
      "129\n",
      "(-0.6568001534476149+0j)\n",
      "130\n",
      "(-0.6569892710887212+0j)\n",
      "131\n",
      "(-0.6569961790686616+0j)\n",
      "132\n",
      "(-0.6568043831623328+0j)\n",
      "133\n",
      "(-0.6569462239010562+0j)\n",
      "134\n",
      "(-0.6570251732563231+0j)\n",
      "135\n",
      "(-0.6568240442939535+0j)\n",
      "136\n",
      "(-0.6569019809885296+0j)\n",
      "137\n",
      "(-0.6570396472513775+0j)\n",
      "138\n",
      "(-0.6568559687799296+0j)\n",
      "139\n",
      "(-0.6568626072344936+0j)\n",
      "140\n",
      "(-0.657038725393009+0j)\n",
      "141\n",
      "(-0.6568955886812429+0j)\n",
      "142\n",
      "(-0.6568331461332675+0j)\n",
      "143\n",
      "(-0.6570224742789006+0j)\n",
      "144\n",
      "(-0.656937318344617+0j)\n",
      "145\n",
      "(-0.6568164230771929+0j)\n",
      "146\n",
      "(-0.6569938253515336+0j)\n",
      "147\n",
      "(-0.6569753947824059+0j)\n",
      "148\n",
      "(-0.6568146456376526+0j)\n",
      "149\n",
      "(-0.6569575218023145+0j)\n",
      "150\n",
      "(-0.6570052444173715+0j)\n",
      "151\n",
      "(-0.6568271073160349+0j)\n",
      "152\n",
      "(-0.6569181491283755+0j)\n",
      "153\n",
      "(-0.6570232436595547+0j)\n",
      "154\n",
      "(-0.6568517779406486+0j)\n",
      "155\n",
      "(-0.6568812095101033+0j)\n",
      "156\n",
      "(-0.6570275808624202+0j)\n",
      "157\n",
      "(-0.6568849002690342+0j)\n",
      "158\n",
      "(-0.6568510104402712+0j)\n",
      "159\n",
      "(-0.657018204995829+0j)\n",
      "160\n",
      "(-0.6569219371064209+0j)\n",
      "161\n",
      "(-0.656831390690872+0j)\n",
      "162\n",
      "(-0.6569967138318269+0j)\n",
      "163\n",
      "(-0.6569578211644571+0j)\n",
      "164\n",
      "(-0.6568247676632711+0j)\n",
      "165\n",
      "(-0.6569661600545422+0j)\n",
      "166\n",
      "(-0.6569880294220728+0j)\n",
      "167\n",
      "(-0.6568312137187883+0j)\n",
      "168\n",
      "(-0.6569312425880439+0j)\n",
      "169\n",
      "(-0.6570082225893401+0j)\n",
      "170\n",
      "(-0.6568494903569754+0j)\n",
      "171\n",
      "(-0.6568966194498896+0j)\n",
      "172\n",
      "(-0.6570169511707785+0j)\n",
      "173\n",
      "(-0.6568769433423692+0j)\n",
      "174\n",
      "(-0.6568667791459776+0j)\n",
      "175\n",
      "(-0.6570131351378843+0j)\n",
      "176\n",
      "(-0.6569093445040219+0j)\n",
      "177\n",
      "(-0.6568451023397701+0j)\n",
      "178\n",
      "(-0.6569973036881679+0j)\n",
      "179\n",
      "(-0.6569428474072225+0j)\n",
      "180\n",
      "(-0.6568345096899257+0j)\n",
      "181\n",
      "(-0.6569725416555828+0j)\n",
      "182\n",
      "(-0.6569723717268814+0j)\n",
      "183\n",
      "(-0.6568360102884507+0j)\n",
      "184\n",
      "(-0.656942168908955+0j)\n",
      "185\n",
      "(-0.6569947161145168+0j)\n",
      "186\n",
      "(-0.6568487194643071+0j)\n",
      "187\n",
      "(-0.6569100305498815+0j)\n",
      "188\n",
      "(-0.6570067579106889+0j)\n",
      "189\n",
      "(-0.6568710554423152+0j)\n",
      "190\n",
      "(-0.6568807885717396+0j)\n",
      "191\n",
      "(-0.6570075163371335+0j)\n",
      "192\n",
      "(-0.6568992949918062+0j)\n",
      "193\n",
      "(-0.6568579497450603+0j)\n",
      "194\n",
      "(-0.6569970068019235+0j)\n",
      "195\n",
      "(-0.6569299120891482+0j)\n",
      "196\n",
      "(-0.6568441738072323+0j)\n",
      "197\n",
      "(-0.656977035765168+0j)\n",
      "198\n",
      "(-0.6569587967124644+0j)\n",
      "199\n",
      "(-0.6568415174292794+0j)\n",
      "200\n",
      "(-0.6569507047446979+0j)\n",
      "201\n",
      "(-0.6569819089691727+0j)\n",
      "202\n",
      "(-0.6568495516531683+0j)\n",
      "203\n",
      "(-0.6569215802554296+0j)\n",
      "204\n",
      "(-0.6569967094158953+0j)\n",
      "205\n",
      "(-0.656866883519539+0j)\n",
      "206\n",
      "(-0.6568932383557793+0j)\n",
      "207\n",
      "(-0.6570012319361865+0j)\n",
      "208\n",
      "(-0.6568911855715229+0j)\n",
      "209\n",
      "(-0.6568698306599652+0j)\n",
      "210\n",
      "(-0.6569953832540111+0j)\n",
      "211\n",
      "(-0.6569189605707905+0j)\n",
      "212\n",
      "(-0.6568540267230027+0j)\n",
      "213\n",
      "(-0.6569801067295711+0j)\n",
      "214\n",
      "(-0.6569464295896081+0j)\n",
      "215\n",
      "(-0.6568476053264928+0j)\n",
      "216\n",
      "(-0.656957743553266+0j)\n",
      "217\n",
      "(-0.6569699984748323+0j)\n",
      "218\n",
      "(-0.6568511914741486+0j)\n",
      "219\n",
      "(-0.6569314108790616+0j)\n",
      "220\n",
      "(-0.6569867904486661+0j)\n",
      "221\n",
      "(-0.6568643036719652+0j)\n",
      "222\n",
      "(-0.656904686299717+0j)\n",
      "223\n",
      "(-0.6569946706279839+0j)\n",
      "224\n",
      "(-0.6568847221681392+0j)\n",
      "225\n",
      "(-0.6568809730356042+0j)\n",
      "226\n",
      "(-0.6569927744307682+0j)\n",
      "227\n",
      "(-0.6569095760197549+0j)\n",
      "228\n",
      "(-0.6568634242050022+0j)\n",
      "229\n",
      "(-0.6569817700976573+0j)\n",
      "230\n",
      "(-0.6569355292038324+0j)\n",
      "231\n",
      "(-0.6568541016961412+0j)\n",
      "232\n",
      "(-0.6569632531170959+0j)\n",
      "233\n",
      "(-0.656959064318705+0j)\n",
      "234\n",
      "(-0.6568540872848962+0j)\n",
      "235\n",
      "(-0.6569398606397211+0j)\n",
      "236\n",
      "(-0.6569771469681204+0j)\n",
      "237\n",
      "(-0.6568630766352528+0j)\n",
      "238\n",
      "(-0.6569148328750156+0j)\n",
      "239\n",
      "(-0.6569877247731576+0j)\n",
      "240\n",
      "(-0.6568796847886769+0j)\n",
      "241\n",
      "(-0.6568913798212173+0j)\n",
      "242\n",
      "(-0.656989448059275+0j)\n",
      "243\n",
      "(-0.6569016351542006+0j)\n",
      "244\n",
      "(-0.6568726140062582+0j)\n"
     ]
    }
   ],
   "source": [
    "xi_opt = terminator(1000,time_steps=len(times), total_time= total_time_evo,\n",
    "               epsilon= ((0.1*2*pi)/(times[-1])))"
   ]
  },
  {
   "cell_type": "code",
   "execution_count": null,
   "metadata": {
    "ExecuteTime": {
     "start_time": "2019-02-23T14:54:46.691Z"
    }
   },
   "outputs": [],
   "source": [
    "time_steps=len(times)\n",
    "total_time= total_time_evo\n",
    "epsilon = ((0.1*2*pi)/(times[-1]))"
   ]
  },
  {
   "cell_type": "code",
   "execution_count": null,
   "metadata": {
    "ExecuteTime": {
     "start_time": "2019-02-23T14:54:46.694Z"
    }
   },
   "outputs": [],
   "source": [
    "dt = (2*pi)/500\n",
    "F(xi_opt, dt)"
   ]
  },
  {
   "cell_type": "code",
   "execution_count": null,
   "metadata": {
    "ExecuteTime": {
     "start_time": "2019-02-23T14:54:46.701Z"
    }
   },
   "outputs": [],
   "source": [
    "L_full_maker(xi_opt, dt)"
   ]
  },
  {
   "cell_type": "code",
   "execution_count": null,
   "metadata": {
    "ExecuteTime": {
     "start_time": "2019-02-23T14:54:46.706Z"
    }
   },
   "outputs": [],
   "source": [
    "ax = axes()\n",
    "ax.plot(times, xi_opt)\n",
    "xi_max = amax(xi_opt) + 0.1\n",
    "xi_min = amin(xi_opt) - 0.1\n",
    "\n",
    "ax.set(xlim=(0, total_time_evo), ylim=(xi_min, xi_max),\n",
    "       xlabel='time', ylabel= r'$g_{with diss}$',\n",
    "       title='Control field in the presence of dissipation');"
   ]
  },
  {
   "cell_type": "markdown",
   "metadata": {},
   "source": [
    "### try"
   ]
  },
  {
   "cell_type": "code",
   "execution_count": null,
   "metadata": {
    "ExecuteTime": {
     "start_time": "2019-02-23T14:54:46.876Z"
    }
   },
   "outputs": [],
   "source": [
    "xi_opt = terminator(10,time_steps=len(times), total_time= total_time_evo,\n",
    "               epsilon= ((0.1*2*pi)/(times[-1])))"
   ]
  },
  {
   "cell_type": "code",
   "execution_count": null,
   "metadata": {
    "ExecuteTime": {
     "start_time": "2019-02-23T14:54:46.884Z"
    }
   },
   "outputs": [],
   "source": [
    "time_steps=len(times)\n",
    "total_time= total_time_evo\n",
    "epsilon = ((0.1*2*pi)/(times[-1]))"
   ]
  },
  {
   "cell_type": "code",
   "execution_count": null,
   "metadata": {
    "ExecuteTime": {
     "start_time": "2019-02-23T14:54:46.889Z"
    }
   },
   "outputs": [],
   "source": [
    "dt = (2*pi)/500\n",
    "F(xi_opt, dt)"
   ]
  },
  {
   "cell_type": "code",
   "execution_count": null,
   "metadata": {
    "ExecuteTime": {
     "start_time": "2019-02-23T14:54:46.893Z"
    }
   },
   "outputs": [],
   "source": [
    "L_full_maker(xi_opt, dt)"
   ]
  },
  {
   "cell_type": "code",
   "execution_count": null,
   "metadata": {
    "ExecuteTime": {
     "start_time": "2019-02-23T14:54:46.897Z"
    }
   },
   "outputs": [],
   "source": [
    "ax = axes()\n",
    "ax.plot(times, xi_opt)\n",
    "xi_max = amax(xi_opt) + 0.1\n",
    "xi_min = amin(xi_opt) - 0.1\n",
    "\n",
    "ax.set(xlim=(0, total_time_evo), ylim=(xi_min, xi_max),\n",
    "       xlabel='time', ylabel= r'$g_{with diss}$',\n",
    "       title='Control field in the presence of dissipation');"
   ]
  },
  {
   "cell_type": "markdown",
   "metadata": {},
   "source": [
    "### try"
   ]
  },
  {
   "cell_type": "code",
   "execution_count": null,
   "metadata": {
    "ExecuteTime": {
     "start_time": "2019-02-23T14:54:47.084Z"
    }
   },
   "outputs": [],
   "source": [
    "xi_opt = terminator(1000,time_steps=len(times), total_time= total_time_evo,\n",
    "               epsilon= ((0.1*2*pi)/(10**3)))"
   ]
  },
  {
   "cell_type": "code",
   "execution_count": null,
   "metadata": {
    "ExecuteTime": {
     "start_time": "2019-02-23T14:54:47.087Z"
    }
   },
   "outputs": [],
   "source": [
    "time_steps=len(times)\n",
    "total_time= total_time_evo\n",
    "epsilon = ((0.1*2*pi)/(times[-1]))"
   ]
  },
  {
   "cell_type": "code",
   "execution_count": null,
   "metadata": {
    "ExecuteTime": {
     "start_time": "2019-02-23T14:54:47.090Z"
    }
   },
   "outputs": [],
   "source": [
    "dt = (2*pi)/500\n",
    "F(xi_opt, dt)"
   ]
  },
  {
   "cell_type": "code",
   "execution_count": null,
   "metadata": {
    "ExecuteTime": {
     "start_time": "2019-02-23T14:54:47.094Z"
    }
   },
   "outputs": [],
   "source": [
    "F(result.u[-1, 0, : ], dt)"
   ]
  },
  {
   "cell_type": "code",
   "execution_count": null,
   "metadata": {
    "ExecuteTime": {
     "start_time": "2019-02-23T14:54:47.100Z"
    }
   },
   "outputs": [],
   "source": [
    "L_full_maker(xi_opt, dt)"
   ]
  },
  {
   "cell_type": "code",
   "execution_count": null,
   "metadata": {
    "ExecuteTime": {
     "start_time": "2019-02-23T14:54:47.102Z"
    }
   },
   "outputs": [],
   "source": [
    "len(times)"
   ]
  },
  {
   "cell_type": "code",
   "execution_count": null,
   "metadata": {
    "ExecuteTime": {
     "start_time": "2019-02-23T14:54:47.106Z"
    }
   },
   "outputs": [],
   "source": [
    "new_label = [r'$g_{with diss}$']"
   ]
  },
  {
   "cell_type": "markdown",
   "metadata": {
    "ExecuteTime": {
     "end_time": "2019-02-14T15:50:39.160854Z",
     "start_time": "2019-02-14T15:50:39.155605Z"
    }
   },
   "source": [
    "'''plot_grape_control_fields(times,\n",
    "                          xi_opt / (2 * np.pi), new_label, uniform_axes=True);\n",
    "ValueError                                Traceback (most recent call last)\n",
    "<ipython-input-67-f3ebb7c23258> in <module>()\n",
    "      1 plot_grape_control_fields(times,\n",
    "----> 2                           xi_opt / (2 * np.pi), new_label, uniform_axes=True);\n",
    "\n",
    "/anaconda3/envs/qutip-env/lib/python3.6/site-packages/qutip/control/grape.py in plot_grape_control_fields(times, u, labels, uniform_axes)\n",
    "    101     import matplotlib.pyplot as plt\n",
    "    102 \n",
    "--> 103     R, J, M = u.shape\n",
    "    104 \n",
    "    105     fig, axes = plt.subplots(J, 1, figsize=(8, 2 * J), squeeze=False)\n",
    "\n",
    "ValueError: not enough values to unpack (expected 3, got 1) '''"
   ]
  },
  {
   "cell_type": "code",
   "execution_count": null,
   "metadata": {
    "ExecuteTime": {
     "start_time": "2019-02-23T14:54:47.312Z"
    }
   },
   "outputs": [],
   "source": [
    "ax = axes()\n",
    "ax.plot(times, xi_opt)\n",
    "ax.set(xlim=(0, total_time_evo), ylim=(-0.8,0.8 ),\n",
    "       xlabel='time', ylabel= r'$g_{with diss}$',\n",
    "       title='Control field in the presence of dissipation');"
   ]
  },
  {
   "cell_type": "code",
   "execution_count": null,
   "metadata": {
    "ExecuteTime": {
     "start_time": "2019-02-23T14:54:47.315Z"
    }
   },
   "outputs": [],
   "source": [
    "ax = axes()\n",
    "ax.plot(times, xi_opt)\n",
    "xi_max = amax(xi_opt) + 0.1\n",
    "xi_min = amin(xi_opt) - 0.1\n",
    "\n",
    "ax.set(xlim=(0, total_time_evo), ylim=(xi_min, xi_max),\n",
    "       xlabel='time', ylabel= r'$g_{with diss}$',\n",
    "       title='Control field in the presence of dissipation');"
   ]
  },
  {
   "cell_type": "code",
   "execution_count": null,
   "metadata": {
    "ExecuteTime": {
     "start_time": "2019-02-23T14:54:47.319Z"
    }
   },
   "outputs": [],
   "source": [
    "ax = axes()\n",
    "ax.plot(times, result.u[-1, 0, : ])\n",
    "xi_max = amax(result.u[-1, 0, : ]) + 0.1\n",
    "xi_min = amin(result.u[-1, 0, : ]) - 0.1\n",
    "\n",
    "ax.set(xlim=(0, total_time_evo), ylim=(xi_min, xi_max),\n",
    "       xlabel='time', ylabel= r'$g_{with diss}$',\n",
    "       title='old Control field in the presence of \\\n",
    "              dissipation produced by qutip');"
   ]
  },
  {
   "cell_type": "markdown",
   "metadata": {},
   "source": [
    "### try"
   ]
  },
  {
   "cell_type": "code",
   "execution_count": null,
   "metadata": {
    "ExecuteTime": {
     "start_time": "2019-02-23T14:54:47.523Z"
    }
   },
   "outputs": [],
   "source": [
    "xi_opt = terminator(1000,time_steps=len(times), total_time= total_time_evo,\n",
    "               epsilon= ((0.1*2*pi)/(10**4)))"
   ]
  },
  {
   "cell_type": "code",
   "execution_count": null,
   "metadata": {
    "ExecuteTime": {
     "start_time": "2019-02-23T14:54:47.526Z"
    }
   },
   "outputs": [],
   "source": [
    "dt = (2*pi)/500\n",
    "F(xi_opt, dt)"
   ]
  },
  {
   "cell_type": "code",
   "execution_count": null,
   "metadata": {
    "ExecuteTime": {
     "start_time": "2019-02-23T14:54:47.529Z"
    }
   },
   "outputs": [],
   "source": [
    "L_full_maker(xi_opt, dt)"
   ]
  },
  {
   "cell_type": "code",
   "execution_count": null,
   "metadata": {
    "ExecuteTime": {
     "start_time": "2019-02-23T14:54:47.532Z"
    }
   },
   "outputs": [],
   "source": [
    "ax = axes()\n",
    "ax.plot(times, xi_opt)\n",
    "xi_max = amax(xi_opt) + 0.1\n",
    "xi_min = amin(xi_opt) - 0.1\n",
    "\n",
    "ax.set(xlim=(0, total_time_evo), ylim=(xi_min, xi_max),\n",
    "       xlabel='time', ylabel= r'$g_{with diss}$',\n",
    "       title='Control field in the presence of dissipation');"
   ]
  },
  {
   "cell_type": "markdown",
   "metadata": {},
   "source": [
    "### try"
   ]
  },
  {
   "cell_type": "code",
   "execution_count": null,
   "metadata": {
    "ExecuteTime": {
     "start_time": "2019-02-23T14:54:47.717Z"
    }
   },
   "outputs": [],
   "source": [
    "xi_opt = terminator(10**4,time_steps=len(times), total_time= total_time_evo,\n",
    "               epsilon= ((0.1*2*pi)/(10**3)))"
   ]
  },
  {
   "cell_type": "code",
   "execution_count": null,
   "metadata": {
    "ExecuteTime": {
     "start_time": "2019-02-23T14:54:47.720Z"
    }
   },
   "outputs": [],
   "source": [
    "dt = (2*pi)/500\n",
    "F(xi_opt, dt)"
   ]
  },
  {
   "cell_type": "code",
   "execution_count": null,
   "metadata": {
    "ExecuteTime": {
     "start_time": "2019-02-23T14:54:47.723Z"
    }
   },
   "outputs": [],
   "source": [
    "L_full_maker(xi_opt, dt)"
   ]
  },
  {
   "cell_type": "code",
   "execution_count": null,
   "metadata": {
    "ExecuteTime": {
     "start_time": "2019-02-23T14:54:47.726Z"
    }
   },
   "outputs": [],
   "source": [
    "ax = axes()\n",
    "ax.plot(times, xi_opt)\n",
    "xi_max = amax(xi_opt) + 0.1\n",
    "xi_min = amin(xi_opt) - 0.1\n",
    "\n",
    "ax.set(xlim=(0, total_time_evo), ylim=(xi_min, xi_max),\n",
    "       xlabel='time', ylabel= r'$g_{with diss}$',\n",
    "       title='Control field in the presence of dissipation');"
   ]
  },
  {
   "cell_type": "markdown",
   "metadata": {},
   "source": [
    "### try"
   ]
  },
  {
   "cell_type": "code",
   "execution_count": null,
   "metadata": {
    "ExecuteTime": {
     "start_time": "2019-02-23T14:54:47.912Z"
    }
   },
   "outputs": [],
   "source": [
    "xi_opt = terminator(10**4,time_steps=len(times), total_time= total_time_evo,\n",
    "               epsilon= ((0.1*2*pi)/(10**4)))"
   ]
  },
  {
   "cell_type": "code",
   "execution_count": null,
   "metadata": {
    "ExecuteTime": {
     "start_time": "2019-02-23T14:54:47.916Z"
    }
   },
   "outputs": [],
   "source": [
    "dt = (2*pi)/500\n",
    "F(xi_opt, dt)"
   ]
  },
  {
   "cell_type": "code",
   "execution_count": null,
   "metadata": {
    "ExecuteTime": {
     "start_time": "2019-02-23T14:54:47.919Z"
    }
   },
   "outputs": [],
   "source": [
    "L_full_maker(xi_opt, dt)"
   ]
  },
  {
   "cell_type": "code",
   "execution_count": null,
   "metadata": {
    "ExecuteTime": {
     "start_time": "2019-02-23T14:54:47.923Z"
    }
   },
   "outputs": [],
   "source": [
    "ax = axes()\n",
    "ax.plot(times, xi_opt)\n",
    "xi_max = amax(xi_opt) + 0.1\n",
    "xi_min = amin(xi_opt) - 0.1\n",
    "\n",
    "ax.set(xlim=(0, total_time_evo), ylim=(xi_min, xi_max),\n",
    "       xlabel='time', ylabel= r'$g_{with diss}$',\n",
    "       title='Control field in the presence of dissipation');"
   ]
  },
  {
   "cell_type": "markdown",
   "metadata": {},
   "source": [
    "### try"
   ]
  },
  {
   "cell_type": "code",
   "execution_count": null,
   "metadata": {
    "ExecuteTime": {
     "start_time": "2019-02-23T14:54:48.171Z"
    }
   },
   "outputs": [],
   "source": [
    "xi_opt = terminator(10**4,time_steps=len(times), total_time= total_time_evo,\n",
    "               epsilon= ((0.1*2*pi)/(10**10)))"
   ]
  },
  {
   "cell_type": "code",
   "execution_count": null,
   "metadata": {
    "ExecuteTime": {
     "start_time": "2019-02-23T14:54:48.175Z"
    }
   },
   "outputs": [],
   "source": [
    "dt = (2*pi)/500\n",
    "F(xi_opt, dt)"
   ]
  },
  {
   "cell_type": "code",
   "execution_count": null,
   "metadata": {
    "ExecuteTime": {
     "start_time": "2019-02-23T14:54:48.180Z"
    }
   },
   "outputs": [],
   "source": [
    "L_full_maker(xi_opt, dt)"
   ]
  },
  {
   "cell_type": "code",
   "execution_count": null,
   "metadata": {
    "ExecuteTime": {
     "start_time": "2019-02-23T14:54:48.185Z"
    }
   },
   "outputs": [],
   "source": [
    "ax = axes()\n",
    "ax.plot(times, xi_opt)\n",
    "xi_max = amax(xi_opt) + 0.1\n",
    "xi_min = amin(xi_opt) - 0.1\n",
    "\n",
    "ax.set(xlim=(0, total_time_evo), ylim=(xi_min, xi_max),\n",
    "       xlabel='time', ylabel= r'$g_{with diss}$',\n",
    "       title='Control field in the presence of dissipation');"
   ]
  },
  {
   "cell_type": "markdown",
   "metadata": {},
   "source": [
    "### try"
   ]
  },
  {
   "cell_type": "code",
   "execution_count": null,
   "metadata": {
    "ExecuteTime": {
     "start_time": "2019-02-23T14:54:48.387Z"
    }
   },
   "outputs": [],
   "source": [
    "xi_opt = terminator(10**4,time_steps=10**3, total_time= total_time_evo,\n",
    "               epsilon= ((0.1*2*pi)/(10**3)))"
   ]
  },
  {
   "cell_type": "code",
   "execution_count": null,
   "metadata": {
    "ExecuteTime": {
     "start_time": "2019-02-23T14:54:48.390Z"
    }
   },
   "outputs": [],
   "source": [
    "dt = (2*pi)/(10**3)#(2*pi)/500\n",
    "# probaly happened because of hard coding of dt inside terminator\n",
    "# must try it again after changing that\n",
    "F(xi_opt, dt)\n"
   ]
  },
  {
   "cell_type": "code",
   "execution_count": null,
   "metadata": {
    "ExecuteTime": {
     "start_time": "2019-02-23T14:54:48.393Z"
    }
   },
   "outputs": [],
   "source": [
    "L_full_maker(xi_opt, dt)"
   ]
  },
  {
   "cell_type": "code",
   "execution_count": null,
   "metadata": {
    "ExecuteTime": {
     "start_time": "2019-02-23T14:54:48.397Z"
    }
   },
   "outputs": [],
   "source": [
    "ax = axes()\n",
    "ax.plot(times, xi_opt)\n",
    "xi_max = amax(xi_opt) + 0.1\n",
    "xi_min = amin(xi_opt) - 0.1\n",
    "\n",
    "ax.set(xlim=(0, total_time_evo), ylim=(xi_min, xi_max),\n",
    "       xlabel='time', ylabel= r'$g_{with diss}$',\n",
    "       title='Control field in the presence of dissipation');"
   ]
  },
  {
   "cell_type": "markdown",
   "metadata": {},
   "source": [
    "## APS stuff"
   ]
  },
  {
   "cell_type": "markdown",
   "metadata": {},
   "source": [
    "### infidelity function tryouts"
   ]
  },
  {
   "cell_type": "code",
   "execution_count": null,
   "metadata": {
    "ExecuteTime": {
     "start_time": "2019-02-23T14:54:48.838Z"
    }
   },
   "outputs": [],
   "source": [
    "qone = basis(2, 0)\n",
    "qone"
   ]
  },
  {
   "cell_type": "code",
   "execution_count": null,
   "metadata": {
    "ExecuteTime": {
     "start_time": "2019-02-23T14:54:48.842Z"
    }
   },
   "outputs": [],
   "source": [
    "qzero = basis(2, 1)\n",
    "qzero"
   ]
  },
  {
   "cell_type": "markdown",
   "metadata": {
    "ExecuteTime": {
     "end_time": "2019-02-15T04:40:16.961355Z",
     "start_time": "2019-02-15T04:40:16.952718Z"
    }
   },
   "source": [
    "###### ket2bra\n",
    "---------------------------------------------------------------------------\n",
    "NameError                                 Traceback (most recent call last)\n",
    "<ipython-input-69-8f247c0c4d8f> in <module>()\n",
    "----> 1 ket2bra\n",
    "\n",
    "NameError: name 'ket2bra' is not defined\n"
   ]
  },
  {
   "cell_type": "code",
   "execution_count": null,
   "metadata": {
    "ExecuteTime": {
     "start_time": "2019-02-23T14:54:49.049Z"
    }
   },
   "outputs": [],
   "source": [
    "(sigmax()).matrix_element(qone, qzero)"
   ]
  },
  {
   "cell_type": "code",
   "execution_count": null,
   "metadata": {
    "ExecuteTime": {
     "start_time": "2019-02-23T14:54:49.053Z"
    }
   },
   "outputs": [],
   "source": [
    "abs((sigmax()).matrix_element(qone, qzero))"
   ]
  },
  {
   "cell_type": "code",
   "execution_count": null,
   "metadata": {
    "ExecuteTime": {
     "start_time": "2019-02-23T14:54:49.055Z"
    }
   },
   "outputs": [],
   "source": [
    "abs(2 + 3j)"
   ]
  },
  {
   "cell_type": "code",
   "execution_count": null,
   "metadata": {
    "ExecuteTime": {
     "start_time": "2019-02-23T14:54:49.059Z"
    }
   },
   "outputs": [],
   "source": [
    "abs(3 + 4j)"
   ]
  },
  {
   "cell_type": "code",
   "execution_count": null,
   "metadata": {
    "ExecuteTime": {
     "start_time": "2019-02-23T14:54:49.062Z"
    }
   },
   "outputs": [],
   "source": [
    "def infidelity_to_one(U):\n",
    "    r\"\"\"infidelity to state one\"\"\"\n",
    "    fidelity = (abs(U.matrix_element(qone, qzero)))**2\n",
    "    infidelity = 1 - fidelity\n",
    "    return infidelity"
   ]
  },
  {
   "cell_type": "code",
   "execution_count": null,
   "metadata": {
    "ExecuteTime": {
     "start_time": "2019-02-23T14:54:49.065Z"
    }
   },
   "outputs": [],
   "source": [
    "infidelity_to_one(sigmax()) \n",
    "# 1 - abs((sigmax()).matrix_element(qone, qzero))\n",
    "# 1 - 1 = 0"
   ]
  },
  {
   "cell_type": "markdown",
   "metadata": {},
   "source": [
    "  result.u, result.u but lindbladian evolution, xi_opt"
   ]
  },
  {
   "cell_type": "code",
   "execution_count": null,
   "metadata": {
    "ExecuteTime": {
     "start_time": "2019-02-23T14:54:49.286Z"
    }
   },
   "outputs": [],
   "source": [
    "qone.overlap(qzero)"
   ]
  },
  {
   "cell_type": "code",
   "execution_count": null,
   "metadata": {
    "ExecuteTime": {
     "start_time": "2019-02-23T14:54:49.289Z"
    }
   },
   "outputs": [],
   "source": [
    "qzero.overlap(qzero)"
   ]
  },
  {
   "cell_type": "code",
   "execution_count": null,
   "metadata": {
    "ExecuteTime": {
     "start_time": "2019-02-23T14:54:49.292Z"
    }
   },
   "outputs": [],
   "source": [
    "qone.overlap(qone)"
   ]
  },
  {
   "cell_type": "code",
   "execution_count": null,
   "metadata": {
    "ExecuteTime": {
     "start_time": "2019-02-23T14:54:49.295Z"
    }
   },
   "outputs": [],
   "source": [
    "def infidelity_to_state(psi):\n",
    "    r\"\"\"infidelity to state one\"\"\"\n",
    "    fidelity = (abs(qone.overlap(psi)))**2\n",
    "    infidelity = 1 - fidelity\n",
    "    return infidelity"
   ]
  },
  {
   "cell_type": "code",
   "execution_count": null,
   "metadata": {
    "ExecuteTime": {
     "start_time": "2019-02-23T14:54:49.298Z"
    }
   },
   "outputs": [],
   "source": [
    "infidelity_to_state(qzero)"
   ]
  },
  {
   "cell_type": "code",
   "execution_count": null,
   "metadata": {
    "ExecuteTime": {
     "start_time": "2019-02-23T14:54:49.301Z"
    }
   },
   "outputs": [],
   "source": [
    "infidelity_to_state(qone)"
   ]
  },
  {
   "cell_type": "code",
   "execution_count": null,
   "metadata": {
    "ExecuteTime": {
     "start_time": "2019-02-23T14:54:49.304Z"
    }
   },
   "outputs": [],
   "source": [
    "#mesolve"
   ]
  },
  {
   "cell_type": "markdown",
   "metadata": {
    "ExecuteTime": {
     "end_time": "2019-02-15T04:40:17.005913Z",
     "start_time": "2019-02-15T04:34:35.127Z"
    }
   },
   "source": [
    "\n",
    "### state building"
   ]
  },
  {
   "cell_type": "code",
   "execution_count": null,
   "metadata": {
    "ExecuteTime": {
     "start_time": "2019-02-23T14:54:49.602Z"
    }
   },
   "outputs": [],
   "source": [
    "H_no_diss = [H_0, [H_1, result.u[-1, 0, :] ]]\n",
    "grape_no_diss = mesolve(H_no_diss, qzero, times, c_ops=[], e_ops=[], \n",
    "                        args={}, options=None, \n",
    "                        progress_bar=EnhancedTextProgressBar() )"
   ]
  },
  {
   "cell_type": "code",
   "execution_count": null,
   "metadata": {
    "ExecuteTime": {
     "start_time": "2019-02-23T14:54:49.607Z"
    }
   },
   "outputs": [],
   "source": [
    "len(grape_no_diss.states)"
   ]
  },
  {
   "cell_type": "code",
   "execution_count": null,
   "metadata": {
    "ExecuteTime": {
     "start_time": "2019-02-23T14:54:49.611Z"
    }
   },
   "outputs": [],
   "source": [
    "Lin"
   ]
  },
  {
   "cell_type": "code",
   "execution_count": null,
   "metadata": {
    "ExecuteTime": {
     "start_time": "2019-02-23T14:54:49.616Z"
    }
   },
   "outputs": [],
   "source": [
    "sqrt(gamma)"
   ]
  },
  {
   "cell_type": "code",
   "execution_count": null,
   "metadata": {
    "ExecuteTime": {
     "start_time": "2019-02-23T14:54:49.620Z"
    }
   },
   "outputs": [],
   "source": [
    "c_ops_tejas = sqrt(gamma)*Lin\n",
    "c_ops_tejas"
   ]
  },
  {
   "cell_type": "code",
   "execution_count": null,
   "metadata": {
    "ExecuteTime": {
     "start_time": "2019-02-23T14:54:49.623Z"
    },
    "run_control": {
     "marked": false
    }
   },
   "outputs": [],
   "source": [
    "H_diss = [H_0, [H_1, result.u[-1, 0, :] ]]\n",
    "grape_diss = mesolve(H_no_diss, qzero, times, c_ops=[c_ops_tejas], e_ops=[], \n",
    "                        args={}, options=None, \n",
    "                        progress_bar=EnhancedTextProgressBar() )"
   ]
  },
  {
   "cell_type": "code",
   "execution_count": null,
   "metadata": {
    "ExecuteTime": {
     "start_time": "2019-02-23T14:54:49.627Z"
    }
   },
   "outputs": [],
   "source": [
    "len(grape_diss.states)"
   ]
  },
  {
   "cell_type": "code",
   "execution_count": null,
   "metadata": {
    "ExecuteTime": {
     "start_time": "2019-02-23T14:54:49.631Z"
    }
   },
   "outputs": [],
   "source": [
    "H_diss_optimized = [H_0, [H_1, xi_opt ]]\n",
    "grape_diss_optimized = mesolve(H_diss_optimized, qzero, times, c_ops=[c_ops_tejas], \n",
    "                               e_ops=[], args={}, options=None, \n",
    "                               progress_bar=TextProgressBar() )\n",
    "# H_diss_optimized should have been written isntead of H_no_diss"
   ]
  },
  {
   "cell_type": "code",
   "execution_count": null,
   "metadata": {
    "ExecuteTime": {
     "start_time": "2019-02-23T14:54:49.635Z"
    }
   },
   "outputs": [],
   "source": [
    "len(grape_diss_optimized.states)"
   ]
  },
  {
   "cell_type": "markdown",
   "metadata": {},
   "source": [
    "### states list to fidelity list"
   ]
  },
  {
   "cell_type": "code",
   "execution_count": null,
   "metadata": {
    "ExecuteTime": {
     "start_time": "2019-02-23T14:54:49.917Z"
    }
   },
   "outputs": [],
   "source": [
    "infidelity_to_state_vec = vectorize(infidelity_to_state)"
   ]
  },
  {
   "cell_type": "code",
   "execution_count": null,
   "metadata": {
    "ExecuteTime": {
     "start_time": "2019-02-23T14:54:49.919Z"
    }
   },
   "outputs": [],
   "source": [
    "infid_grape_no_diss = infidelity_to_state_vec(grape_no_diss.states)"
   ]
  },
  {
   "cell_type": "code",
   "execution_count": null,
   "metadata": {
    "ExecuteTime": {
     "start_time": "2019-02-23T14:54:49.922Z"
    }
   },
   "outputs": [],
   "source": [
    "'''fid_grape_diss = infidelity_to_state_vec(grape_diss.states)\n",
    "TypeError                                 Traceback (most recent call last)\n",
    "<ipython-input-101-fbabc06eff84> in <module>()\n",
    "----> 1 fid_grape_diss = infidelity_to_state_vec(grape_diss.states)\n",
    "\n",
    "/anaconda3/envs/qutip-env/lib/python3.6/site-packages/numpy/lib/function_base.py in __call__(self, *args, **kwargs)\n",
    "   2753             vargs.extend([kwargs[_n] for _n in names])\n",
    "   2754 \n",
    "-> 2755         return self._vectorize_call(func=func, args=vargs)\n",
    "   2756 \n",
    "   2757     def _get_ufunc_and_otypes(self, func, args):\n",
    "\n",
    "/anaconda3/envs/qutip-env/lib/python3.6/site-packages/numpy/lib/function_base.py in _vectorize_call(self, func, args)\n",
    "   2823             res = func()\n",
    "   2824         else:\n",
    "-> 2825             ufunc, otypes = self._get_ufunc_and_otypes(func=func, args=args)\n",
    "   2826 \n",
    "   2827             # Convert args to object arrays first\n",
    "\n",
    "/anaconda3/envs/qutip-env/lib/python3.6/site-packages/numpy/lib/function_base.py in _get_ufunc_and_otypes(self, func, args)\n",
    "   2783 \n",
    "   2784             inputs = [arg.flat[0] for arg in args]\n",
    "-> 2785             outputs = func(*inputs)\n",
    "   2786 \n",
    "   2787             # Performance note: profiling indicates that -- for simple\n",
    "\n",
    "<ipython-input-96-32321f8d8a33> in infidelity_to_state(psi)\n",
    "      1 def infidelity_to_state(psi):\n",
    "      2     r\"\"\"infidelity to state one\"\"\"\n",
    "----> 3     fidelity = (abs(qone.overlap(psi)))**2\n",
    "      4     infidelity = 1 - fidelity\n",
    "      5     return infidelity\n",
    "\n",
    "/anaconda3/envs/qutip-env/lib/python3.6/site-packages/qutip/qobj.py in overlap(self, state)\n",
    "   1486                     return (self.data.H * state.data)[0, 0]\n",
    "   1487 \n",
    "-> 1488         raise TypeError(\"Can only calculate overlap for state vector Qobjs\")\n",
    "   1489 \n",
    "   1490     def eigenstates(self, sparse=False, sort='low',\n",
    "\n",
    "TypeError: Can only calculate overlap for state vector Qobjs\n",
    "\n",
    "\n",
    "'''"
   ]
  },
  {
   "cell_type": "markdown",
   "metadata": {
    "ExecuteTime": {
     "end_time": "2019-02-15T05:53:06.567791Z",
     "start_time": "2019-02-15T05:53:06.556851Z"
    }
   },
   "source": [
    "fid_grape_no_diss = infidelity_to_state_vec(grape_no_diss.states)"
   ]
  },
  {
   "cell_type": "code",
   "execution_count": null,
   "metadata": {
    "ExecuteTime": {
     "start_time": "2019-02-23T14:54:50.176Z"
    }
   },
   "outputs": [],
   "source": [
    "fidelity(sigmax(), sigmax())"
   ]
  },
  {
   "cell_type": "code",
   "execution_count": null,
   "metadata": {
    "ExecuteTime": {
     "start_time": "2019-02-23T14:54:50.180Z"
    }
   },
   "outputs": [],
   "source": [
    "zero_dm = ket2dm(qzero)\n",
    "zero_dm"
   ]
  },
  {
   "cell_type": "code",
   "execution_count": null,
   "metadata": {
    "ExecuteTime": {
     "start_time": "2019-02-23T14:54:50.184Z"
    }
   },
   "outputs": [],
   "source": [
    "one_dm = ket2dm(qone)\n",
    "one_dm"
   ]
  },
  {
   "cell_type": "code",
   "execution_count": null,
   "metadata": {
    "ExecuteTime": {
     "start_time": "2019-02-23T14:54:50.188Z"
    }
   },
   "outputs": [],
   "source": [
    "fidelity(zero_dm, zero_dm)"
   ]
  },
  {
   "cell_type": "code",
   "execution_count": null,
   "metadata": {
    "ExecuteTime": {
     "start_time": "2019-02-23T14:54:50.192Z"
    }
   },
   "outputs": [],
   "source": [
    "fidelity(zero_dm, one_dm)"
   ]
  },
  {
   "cell_type": "code",
   "execution_count": null,
   "metadata": {
    "ExecuteTime": {
     "start_time": "2019-02-23T14:54:50.195Z"
    }
   },
   "outputs": [],
   "source": [
    "fidelity(one_dm, zero_dm)"
   ]
  },
  {
   "cell_type": "code",
   "execution_count": null,
   "metadata": {
    "ExecuteTime": {
     "start_time": "2019-02-23T14:54:50.199Z"
    }
   },
   "outputs": [],
   "source": [
    "grape_no_diss.states[5]"
   ]
  },
  {
   "cell_type": "code",
   "execution_count": null,
   "metadata": {
    "ExecuteTime": {
     "start_time": "2019-02-23T14:54:50.202Z"
    }
   },
   "outputs": [],
   "source": [
    "grape_diss.states[5]"
   ]
  },
  {
   "cell_type": "code",
   "execution_count": null,
   "metadata": {
    "ExecuteTime": {
     "start_time": "2019-02-23T14:54:50.207Z"
    }
   },
   "outputs": [],
   "source": [
    "grape_diss.states[7]"
   ]
  },
  {
   "cell_type": "code",
   "execution_count": null,
   "metadata": {
    "ExecuteTime": {
     "start_time": "2019-02-23T14:54:50.211Z"
    }
   },
   "outputs": [],
   "source": [
    "fidelity(grape_diss.states[7], one_dm)"
   ]
  },
  {
   "cell_type": "code",
   "execution_count": null,
   "metadata": {
    "ExecuteTime": {
     "start_time": "2019-02-23T14:54:50.214Z"
    }
   },
   "outputs": [],
   "source": [
    "#0.012−2.347×10**−05j)"
   ]
  },
  {
   "cell_type": "code",
   "execution_count": null,
   "metadata": {
    "ExecuteTime": {
     "start_time": "2019-02-23T14:54:50.217Z"
    }
   },
   "outputs": [],
   "source": [
    "def infidelity_tejas(dm, d=2):\n",
    "    r\"\"\"Brief description of the function\"\"\"\n",
    "    infid = 1 - fidelity(one_dm, dm)\n",
    "    return infid"
   ]
  },
  {
   "cell_type": "code",
   "execution_count": null,
   "metadata": {
    "ExecuteTime": {
     "start_time": "2019-02-23T14:54:50.220Z"
    }
   },
   "outputs": [],
   "source": [
    "infid_dm_vec = vectorize(infidelity_tejas)"
   ]
  },
  {
   "cell_type": "code",
   "execution_count": null,
   "metadata": {
    "ExecuteTime": {
     "start_time": "2019-02-23T14:54:50.224Z"
    }
   },
   "outputs": [],
   "source": [
    "infid_grape_diss = infid_dm_vec(grape_diss.states) "
   ]
  },
  {
   "cell_type": "code",
   "execution_count": null,
   "metadata": {
    "ExecuteTime": {
     "start_time": "2019-02-23T14:54:50.227Z"
    }
   },
   "outputs": [],
   "source": [
    "len(infid_grape_diss)"
   ]
  },
  {
   "cell_type": "code",
   "execution_count": null,
   "metadata": {
    "ExecuteTime": {
     "start_time": "2019-02-23T14:54:50.230Z"
    }
   },
   "outputs": [],
   "source": [
    "infid_grape_diss_optimized = infid_dm_vec(grape_diss_optimized.states) "
   ]
  },
  {
   "cell_type": "code",
   "execution_count": null,
   "metadata": {
    "ExecuteTime": {
     "start_time": "2019-02-23T14:54:50.234Z"
    }
   },
   "outputs": [],
   "source": [
    "len(infid_grape_diss_optimized)"
   ]
  },
  {
   "cell_type": "markdown",
   "metadata": {},
   "source": [
    "### plots"
   ]
  },
  {
   "cell_type": "code",
   "execution_count": null,
   "metadata": {
    "ExecuteTime": {
     "start_time": "2019-02-23T14:54:50.505Z"
    },
    "code_folding": []
   },
   "outputs": [],
   "source": [
    "ax = axes()\n",
    "ax.plot(times, infid_grape_no_diss, label='grape_no_diss')\n",
    "ax.plot(times, infid_grape_diss, label='grape_diss')\n",
    "ax.plot(times, infid_grape_diss_optimized, label='grape_diss_optimized')\n",
    "#ax.plot(x, cos(x), ':b', label='cos(x)')'-g',\n",
    "#ax.axis('equal')\n",
    "ax.legend()\n",
    "ax.set(xlim=(times[0],times[-1]), ylim=(0, 1.1),\n",
    "       xlabel='time', ylabel='Infidelity',\n",
    "       title='Infidelity as a function of time ');"
   ]
  },
  {
   "cell_type": "code",
   "execution_count": null,
   "metadata": {
    "ExecuteTime": {
     "start_time": "2019-02-23T14:54:50.508Z"
    }
   },
   "outputs": [],
   "source": [
    "ax = axes()\n",
    "ax.plot(times, infid_grape_no_diss, label='grape_no_diss')\n",
    "ax.plot(times, infid_grape_diss, label='grape_diss')\n",
    "#ax.plot(times, infid_grape_diss_optimized, label='grape_diss_optimized')\n",
    "#ax.plot(x, cos(x), ':b', label='cos(x)')'-g',\n",
    "#ax.axis('equal')\n",
    "ax.legend()\n",
    "\n",
    "ax.set(xlim=(times[0],times[-1]), ylim=(0, 1.1),\n",
    "       xlabel='time', ylabel='Infidelity',\n",
    "       title='Infidelity as a function of time ');"
   ]
  },
  {
   "cell_type": "code",
   "execution_count": null,
   "metadata": {
    "ExecuteTime": {
     "start_time": "2019-02-23T14:54:50.513Z"
    }
   },
   "outputs": [],
   "source": [
    "ax = axes()\n",
    "ax.plot(times, infid_grape_no_diss, label='grape_no_diss')\n",
    "#ax.plot(times, infid_grape_diss, label='grape_diss')\n",
    "ax.plot(times, infid_grape_diss_optimized, label='grape_diss_optimized')\n",
    "#ax.plot(x, cos(x), ':b', label='cos(x)')'-g',\n",
    "#ax.axis('equal')\n",
    "ax.legend()\n",
    "\n",
    "ax.set(xlim=(times[0],times[-1]), ylim=(0, 1.1),\n",
    "       xlabel='time', ylabel='Infidelity',\n",
    "       title='Infidelity as a function of time ');"
   ]
  },
  {
   "cell_type": "code",
   "execution_count": null,
   "metadata": {
    "ExecuteTime": {
     "start_time": "2019-02-23T14:54:50.517Z"
    }
   },
   "outputs": [],
   "source": [
    "ax = axes()\n",
    "c_diff = result.u[-1, 0, : ] - xi_opt\n",
    "ax.plot(times, c_diff)\n",
    "c_max = amax(c_diff) + 0.1\n",
    "c_min = amin(c_diff) - 0.1\n",
    "\n",
    "ax.set(xlim=(0, total_time_evo), ylim=(c_min, c_max),\n",
    "       xlabel='time', ylabel= 'diff',\n",
    "       title='difference');"
   ]
  },
  {
   "cell_type": "code",
   "execution_count": null,
   "metadata": {},
   "outputs": [],
   "source": []
  },
  {
   "cell_type": "code",
   "execution_count": null,
   "metadata": {},
   "outputs": [],
   "source": []
  },
  {
   "cell_type": "code",
   "execution_count": null,
   "metadata": {},
   "outputs": [],
   "source": []
  },
  {
   "cell_type": "code",
   "execution_count": null,
   "metadata": {},
   "outputs": [],
   "source": []
  },
  {
   "cell_type": "code",
   "execution_count": null,
   "metadata": {},
   "outputs": [],
   "source": []
  },
  {
   "cell_type": "code",
   "execution_count": null,
   "metadata": {
    "ExecuteTime": {
     "start_time": "2019-02-23T14:54:50.524Z"
    }
   },
   "outputs": [],
   "source": [
    "ax = axes()\n",
    "ax.plot(times, xi_opt)\n",
    "xi_max = amax(xi_opt) + 0.1\n",
    "xi_min = amin(xi_opt) - 0.1\n",
    "\n",
    "ax.set(xlim=(0, total_time_evo), ylim=(xi_min, xi_max),\n",
    "       xlabel='time', ylabel= r'$g_{with diss}$',\n",
    "       title='Control field in the presence of dissipation');"
   ]
  },
  {
   "cell_type": "markdown",
   "metadata": {},
   "source": [
    "## Integrated APS stuff"
   ]
  },
  {
   "cell_type": "code",
   "execution_count": null,
   "metadata": {
    "ExecuteTime": {
     "start_time": "2019-02-23T14:54:50.914Z"
    },
    "code_folding": []
   },
   "outputs": [],
   "source": [
    "def cF2p(Q_G, tejas_c):\n",
    "    r\"\"\"Takes in the 2 control fields and produces the plot directly.\n",
    "    The plot contains the following lines:\n",
    "    1. Qutip grape without dissipation\n",
    "    2. Qutip grape with dissipation\n",
    "    3. My  control field with dissipation  \n",
    "    Does some stuff.\n",
    "    \n",
    "    Parameters\n",
    "    ----------\n",
    "    Q_G     : numpy array? \n",
    "              control field Qutip grape without dissipation\n",
    "         \n",
    "    tejas_c : numpy array? \n",
    "              My  control field with dissipation for open quantum system\n",
    "    \n",
    "    \n",
    "    Returns\n",
    "    -------\n",
    "    inFidelity vector for \n",
    "    1. Qutip grape without dissipation    : infid_grape_no_diss\n",
    "    2. Qutip grape with dissipation       : infid_grape_diss \n",
    "    3. My  control field with dissipation : infid_grape_diss_optimized\n",
    "    \n",
    "    \n",
    "    \"\"\"\n",
    "    qone = basis(2, 0)\n",
    "    qzero = basis(2, 1)\n",
    "    c_ops_tejas = sqrt(gamma)*Lin\n",
    "    # state list building\n",
    "    H_qutip = [H_0, [H_1, Q_G]] #result.u[-1, 0, :]\n",
    "    print(\"grape_no_diss\")\n",
    "    grape_no_diss = mesolve(H_qutip, qzero, times, c_ops=[], \n",
    "                            e_ops=[], args={}, options=None, \n",
    "                            progress_bar=TextProgressBar() )\n",
    "    print(\"\")\n",
    "    print(\"grape_diss\")\n",
    "    grape_diss = mesolve(H_qutip, qzero, times, c_ops=[c_ops_tejas], \n",
    "                         e_ops=[], args={}, options=None, \n",
    "                         progress_bar=TextProgressBar() )\n",
    "    print(\"\")\n",
    "    print(\"grape_diss_optimized\")\n",
    "    H_diss_optimized = [H_0, [H_1, tejas_c ]]\n",
    "    grape_diss_optimized = mesolve(H_diss_optimized, qzero, times, \n",
    "                                   c_ops=[c_ops_tejas], e_ops=[], \n",
    "                                   args={}, options=None,\n",
    "                                   progress_bar=TextProgressBar() )\n",
    "    # H_diss_optimized should have been written isntead of H_no_diss\n",
    "    print(\"\")\n",
    "    print(\"\")\n",
    "    \n",
    "    # states list to fidelity list\n",
    "    one_dm = ket2dm(qone)\n",
    "    zero_dm = ket2dm(qzero)\n",
    "    def infidelity_tejas(dm, d=2):\n",
    "        r\"\"\"Brief description of the function\"\"\"\n",
    "        infid = 1 - fidelity(one_dm, dm)\n",
    "        return infid\n",
    "    \n",
    "    infid_dm_vec = vectorize(infidelity_tejas)\n",
    "    infid_grape_no_diss = infid_dm_vec(grape_no_diss.states) \n",
    "    infid_grape_diss = infid_dm_vec(grape_diss.states) \n",
    "    infid_grape_diss_optimized = infid_dm_vec(grape_diss_optimized.states) \n",
    "    list_of_infid_vec = [infid_grape_no_diss, infid_grape_diss, \n",
    "                         infid_grape_diss_optimized]\n",
    "    return list_of_infid_vec"
   ]
  },
  {
   "cell_type": "code",
   "execution_count": null,
   "metadata": {
    "ExecuteTime": {
     "start_time": "2019-02-23T14:54:50.918Z"
    }
   },
   "outputs": [],
   "source": [
    "#infid_grape_no_diss, infid_grape_diss, infid_grape_diss_optimized = \\\n",
    "#list_of_infid_vec = cF2p(Q_G, tejas_c) \n",
    "list_of_infid_vec = cF2p(result.u[-1, 0, :], xi_opt)                                                    "
   ]
  },
  {
   "cell_type": "code",
   "execution_count": null,
   "metadata": {
    "ExecuteTime": {
     "start_time": "2019-02-23T14:54:50.923Z"
    },
    "code_folding": []
   },
   "outputs": [],
   "source": [
    "ax = axes()\n",
    "ax.plot(times, list_of_infid_vec[0], label='grape_no_diss')\n",
    "ax.plot(times, list_of_infid_vec[1], label='grape_diss')\n",
    "ax.plot(times, list_of_infid_vec[2], label='grape_diss_optimized')\n",
    "#ax.plot(x, cos(x), ':b', label='cos(x)')'-g',\n",
    "#ax.axis('equal')\n",
    "ax.legend()\n",
    "ax.set(xlim=(times[0],times[-1]), ylim=(0, 1.1),\n",
    "       xlabel='time', ylabel='Infidelity',\n",
    "       title='Infidelity as a function of time ');"
   ]
  },
  {
   "cell_type": "code",
   "execution_count": null,
   "metadata": {},
   "outputs": [],
   "source": []
  },
  {
   "cell_type": "markdown",
   "metadata": {},
   "source": [
    "## Versions"
   ]
  },
  {
   "cell_type": "code",
   "execution_count": null,
   "metadata": {
    "ExecuteTime": {
     "start_time": "2019-02-23T14:54:51.238Z"
    }
   },
   "outputs": [],
   "source": [
    "from qutip.ipynbtools import version_table\n",
    "\n",
    "version_table()"
   ]
  },
  {
   "cell_type": "code",
   "execution_count": null,
   "metadata": {
    "ExecuteTime": {
     "start_time": "2019-02-23T14:54:51.241Z"
    }
   },
   "outputs": [],
   "source": [
    "cnot()"
   ]
  },
  {
   "cell_type": "code",
   "execution_count": null,
   "metadata": {},
   "outputs": [],
   "source": []
  }
 ],
 "metadata": {
  "kernelspec": {
   "display_name": "Python 3",
   "language": "python",
   "name": "python3"
  },
  "language_info": {
   "codemirror_mode": {
    "name": "ipython",
    "version": 3
   },
   "file_extension": ".py",
   "mimetype": "text/x-python",
   "name": "python",
   "nbconvert_exporter": "python",
   "pygments_lexer": "ipython3",
   "version": "3.6.8"
  },
  "toc": {
   "base_numbering": 1,
   "nav_menu": {},
   "number_sections": true,
   "sideBar": true,
   "skip_h1_title": false,
   "title_cell": "Table of Contents",
   "title_sidebar": "Contents",
   "toc_cell": false,
   "toc_position": {
    "height": "calc(100% - 180px)",
    "left": "10px",
    "top": "150px",
    "width": "288px"
   },
   "toc_section_display": true,
   "toc_window_display": true
  },
  "varInspector": {
   "cols": {
    "lenName": 16,
    "lenType": 16,
    "lenVar": 40
   },
   "kernels_config": {
    "python": {
     "delete_cmd_postfix": "",
     "delete_cmd_prefix": "del ",
     "library": "var_list.py",
     "varRefreshCmd": "print(var_dic_list())"
    },
    "r": {
     "delete_cmd_postfix": ") ",
     "delete_cmd_prefix": "rm(",
     "library": "var_list.r",
     "varRefreshCmd": "cat(var_dic_list()) "
    }
   },
   "types_to_exclude": [
    "module",
    "function",
    "builtin_function_or_method",
    "instance",
    "_Feature"
   ],
   "window_display": false
  }
 },
 "nbformat": 4,
 "nbformat_minor": 2
}
