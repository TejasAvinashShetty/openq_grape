{
 "cells": [
  {
   "cell_type": "markdown",
   "metadata": {},
   "source": [
    "# Pristine GRAPE calculation of control fields for cnot implementation"
   ]
  },
  {
   "cell_type": "code",
   "execution_count": 33,
   "metadata": {
    "ExecuteTime": {
     "end_time": "2019-02-13T16:43:17.173122Z",
     "start_time": "2019-02-13T16:43:17.164220Z"
    }
   },
   "outputs": [],
   "source": [
    "%matplotlib inline\n",
    "import matplotlib.pyplot as plt\n",
    "import time\n",
    "import numpy as np"
   ]
  },
  {
   "cell_type": "code",
   "execution_count": 34,
   "metadata": {
    "ExecuteTime": {
     "end_time": "2019-02-13T16:43:17.638335Z",
     "start_time": "2019-02-13T16:43:17.568800Z"
    }
   },
   "outputs": [],
   "source": [
    "from qutip import *\n",
    "from qutip.control import *"
   ]
  },
  {
   "cell_type": "code",
   "execution_count": 35,
   "metadata": {
    "ExecuteTime": {
     "end_time": "2019-02-13T16:43:18.057631Z",
     "start_time": "2019-02-13T16:43:18.053581Z"
    }
   },
   "outputs": [],
   "source": [
    "T = 2 * np.pi \n",
    "times = np.linspace(0, T, 500)"
   ]
  },
  {
   "cell_type": "code",
   "execution_count": 142,
   "metadata": {
    "ExecuteTime": {
     "end_time": "2019-02-13T17:52:22.081763Z",
     "start_time": "2019-02-13T17:52:22.057751Z"
    }
   },
   "outputs": [
    {
     "data": {
      "text/latex": [
       "Quantum object: dims = [[2, 2], [2, 2]], shape = (4, 4), type = oper, isherm = True\\begin{equation*}\\left(\\begin{array}{*{11}c}0.0 & 0.0 & 0.0 & 1.0\\\\0.0 & 0.0 & 1.0 & 0.0\\\\0.0 & 1.0 & 0.0 & 0.0\\\\1.0 & 0.0 & 0.0 & 0.0\\\\\\end{array}\\right)\\end{equation*}"
      ],
      "text/plain": [
       "Quantum object: dims = [[2, 2], [2, 2]], shape = (4, 4), type = oper, isherm = True\n",
       "Qobj data =\n",
       "[[0. 0. 0. 1.]\n",
       " [0. 0. 1. 0.]\n",
       " [0. 1. 0. 0.]\n",
       " [1. 0. 0. 0.]]"
      ]
     },
     "execution_count": 142,
     "metadata": {},
     "output_type": "execute_result"
    }
   ],
   "source": [
    "T"
   ]
  },
  {
   "cell_type": "markdown",
   "metadata": {},
   "source": [
    "\"\"\"\n",
    "    Class for representing the result of a GRAPE simulation.\n",
    "\n",
    "    Attributes\n",
    "    ----------\n",
    "    u : array\n",
    "        GRAPE control pulse matrix.\n",
    "\n",
    "    H_t : time-dependent Hamiltonian\n",
    "        The time-dependent Hamiltonian that realize the GRAPE pulse sequence.\n",
    "\n",
    "    U_f : Qobj\n",
    "        The final unitary transformation that is realized by the evolution\n",
    "        of the system with the GRAPE generated pulse sequences.\n",
    "    \n",
    "    \"\"\""
   ]
  },
  {
   "cell_type": "code",
   "execution_count": 36,
   "metadata": {
    "ExecuteTime": {
     "end_time": "2019-02-13T16:43:20.858256Z",
     "start_time": "2019-02-13T16:43:20.852800Z"
    }
   },
   "outputs": [],
   "source": [
    "U = sigmax()\n",
    "R = 500\n",
    "H_ops = [sigmay()]\n",
    "H_labels = [r'$u_{y}$']"
   ]
  },
  {
   "cell_type": "markdown",
   "metadata": {},
   "source": [
    "$U = \\sigma_{x} $   \n",
    "$H_{ops} = [\\sigma_{y} ] $\n"
   ]
  },
  {
   "cell_type": "code",
   "execution_count": 37,
   "metadata": {
    "ExecuteTime": {
     "end_time": "2019-02-13T16:43:21.396586Z",
     "start_time": "2019-02-13T16:43:21.392083Z"
    }
   },
   "outputs": [],
   "source": [
    "omega_1 = 0.5\n",
    "H0 =  omega_1 * sigmaz()\n",
    "\n",
    "c_ops = []"
   ]
  },
  {
   "cell_type": "markdown",
   "metadata": {},
   "source": [
    "# GRAPE"
   ]
  },
  {
   "cell_type": "code",
   "execution_count": 38,
   "metadata": {
    "ExecuteTime": {
     "end_time": "2019-02-13T16:43:21.965597Z",
     "start_time": "2019-02-13T16:43:21.963030Z"
    }
   },
   "outputs": [],
   "source": [
    "from qutip.control.grape import plot_grape_control_fields, _overlap, grape_unitary_adaptive, cy_grape_unitary"
   ]
  },
  {
   "cell_type": "code",
   "execution_count": 39,
   "metadata": {
    "ExecuteTime": {
     "end_time": "2019-02-13T16:43:22.232047Z",
     "start_time": "2019-02-13T16:43:22.228989Z"
    }
   },
   "outputs": [],
   "source": [
    "from scipy.interpolate import interp1d\n",
    "from qutip.ui.progressbar import TextProgressBar"
   ]
  },
  {
   "cell_type": "code",
   "execution_count": 40,
   "metadata": {
    "ExecuteTime": {
     "end_time": "2019-02-13T16:43:22.513541Z",
     "start_time": "2019-02-13T16:43:22.503260Z"
    }
   },
   "outputs": [],
   "source": [
    "u0 = np.array([np.random.rand(len(times)) * 2 * np.pi * 0.05 for _ in range(len(H_ops))])\n",
    "\n",
    "u0 = [np.convolve(np.ones(10)/10, u0[idx,:], mode='same') for idx in range(len(H_ops))]\n",
    "\n",
    "u_limits = None #[0, 1 * 2 * pi]\n",
    "alpha = None"
   ]
  },
  {
   "cell_type": "code",
   "execution_count": 41,
   "metadata": {
    "ExecuteTime": {
     "end_time": "2019-02-13T16:50:25.344759Z",
     "start_time": "2019-02-13T16:43:22.812186Z"
    }
   },
   "outputs": [
    {
     "name": "stdout",
     "output_type": "stream",
     "text": [
      "10.0%. Run time:  44.15s. Est. time left: 00:00:06:37\n",
      "20.0%. Run time:  86.51s. Est. time left: 00:00:05:46\n",
      "30.0%. Run time: 128.07s. Est. time left: 00:00:04:58\n",
      "40.0%. Run time: 171.82s. Est. time left: 00:00:04:17\n",
      "50.0%. Run time: 213.41s. Est. time left: 00:00:03:33\n",
      "60.0%. Run time: 255.96s. Est. time left: 00:00:02:50\n",
      "70.0%. Run time: 299.02s. Est. time left: 00:00:02:08\n",
      "80.0%. Run time: 341.06s. Est. time left: 00:00:01:25\n",
      "90.0%. Run time: 382.09s. Est. time left: 00:00:00:42\n",
      "Total run time: 422.53s\n"
     ]
    }
   ],
   "source": [
    "result = cy_grape_unitary(U, H0, H_ops, R, times, u_start=u0, u_limits=u_limits,\n",
    "                          eps=2*np.pi*1, alpha=alpha, phase_sensitive=False,\n",
    "                          progress_bar=TextProgressBar())"
   ]
  },
  {
   "cell_type": "raw",
   "metadata": {},
   "source": [
    "U_f, H_list_func, u = grape_unitary_adaptive(U, H0, \n",
    "H_ops, R, times,u_start=u0, u_limits=u_limits, eps=2*pi*1, \n",
    "alpha=alpha, phase_sensitive=False, overlap_terminate=0.9999,\n",
    "progress_bar=TextProgressBar())\n"
   ]
  },
  {
   "cell_type": "markdown",
   "metadata": {},
   "source": [
    "## Plot control fields for cnot gate in the presense of single-qubit tunnelling"
   ]
  },
  {
   "cell_type": "markdown",
   "metadata": {},
   "source": [
    "plot_grape_control_fields(times, u, labels, uniform_axes=False):\n",
    "    \"\"\"\n",
    "    Plot a series of plots showing the GRAPE control fields given in the\n",
    "    given control pulse matrix u.\n",
    "\n",
    "    Parameters\n",
    "    ----------\n",
    "    times : array\n",
    "        Time coordinate array.\n",
    "\n",
    "    u : array\n",
    "        Control pulse matrix.\n",
    "\n",
    "    labels : list\n",
    "        List of labels for each control pulse sequence in the control pulse\n",
    "        matrix.\n",
    "\n",
    "    uniform_axes : bool\n",
    "        Whether or not to plot all pulse sequences using the same y-axis scale.\n",
    "    \n",
    "    \"\"\""
   ]
  },
  {
   "cell_type": "code",
   "execution_count": 42,
   "metadata": {
    "ExecuteTime": {
     "end_time": "2019-02-13T16:50:27.096094Z",
     "start_time": "2019-02-13T16:50:25.398378Z"
    }
   },
   "outputs": [
    {
     "data": {
      "image/png": "[encoded data removed]",
      "text/plain": [
       "<Figure size 576x144 with 1 Axes>"
      ]
     },
     "metadata": {},
     "output_type": "display_data"
    }
   ],
   "source": [
    "plot_grape_control_fields(times,\n",
    "                          result.u / (2 * np.pi), H_labels, uniform_axes=True);"
   ]
  },
  {
   "cell_type": "markdown",
   "metadata": {},
   "source": [
    "## Fidelity/overlap"
   ]
  },
  {
   "cell_type": "code",
   "execution_count": 43,
   "metadata": {
    "ExecuteTime": {
     "end_time": "2019-02-13T16:50:27.159642Z",
     "start_time": "2019-02-13T16:50:27.152536Z"
    }
   },
   "outputs": [
    {
     "data": {
      "text/latex": [
       "Quantum object: dims = [[2], [2]], shape = (2, 2), type = oper, isherm = True\\begin{equation*}\\left(\\begin{array}{*{11}c}0.0 & 1.0\\\\1.0 & 0.0\\\\\\end{array}\\right)\\end{equation*}"
      ],
      "text/plain": [
       "Quantum object: dims = [[2], [2]], shape = (2, 2), type = oper, isherm = True\n",
       "Qobj data =\n",
       "[[0. 1.]\n",
       " [1. 0.]]"
      ]
     },
     "execution_count": 43,
     "metadata": {},
     "output_type": "execute_result"
    }
   ],
   "source": [
    "U"
   ]
  },
  {
   "cell_type": "code",
   "execution_count": 44,
   "metadata": {
    "ExecuteTime": {
     "end_time": "2019-02-13T16:50:27.231122Z",
     "start_time": "2019-02-13T16:50:27.225522Z"
    }
   },
   "outputs": [
    {
     "data": {
      "text/latex": [
       "Quantum object: dims = [[2], [2]], shape = (2, 2), type = oper, isherm = False\\begin{equation*}\\left(\\begin{array}{*{11}c}7.672\\times10^{-16} & -1.0j\\\\-1.0j & -5.926\\times10^{-16}\\\\\\end{array}\\right)\\end{equation*}"
      ],
      "text/plain": [
       "Quantum object: dims = [[2], [2]], shape = (2, 2), type = oper, isherm = False\n",
       "Qobj data =\n",
       "[[ 7.67174681e-16+2.14672030e-17j  4.97753226e-16-1.00000000e+00j]\n",
       " [ 7.41953393e-17-1.00000000e+00j -5.92646930e-16-3.34801631e-16j]]"
      ]
     },
     "execution_count": 44,
     "metadata": {},
     "output_type": "execute_result"
    }
   ],
   "source": [
    "result.U_f"
   ]
  },
  {
   "cell_type": "code",
   "execution_count": 45,
   "metadata": {
    "ExecuteTime": {
     "end_time": "2019-02-13T16:50:27.283713Z",
     "start_time": "2019-02-13T16:50:27.278424Z"
    }
   },
   "outputs": [
    {
     "data": {
      "text/latex": [
       "Quantum object: dims = [[2], [2]], shape = (2, 2), type = oper, isherm = True\\begin{equation*}\\left(\\begin{array}{*{11}c}0.0 & -1.0\\\\-1.0 & 0.0\\\\\\end{array}\\right)\\end{equation*}"
      ],
      "text/plain": [
       "Quantum object: dims = [[2], [2]], shape = (2, 2), type = oper, isherm = True\n",
       "Qobj data =\n",
       "[[ 0. -1.]\n",
       " [-1.  0.]]"
      ]
     },
     "execution_count": 45,
     "metadata": {},
     "output_type": "execute_result"
    }
   ],
   "source": [
    "result.U_f/1j"
   ]
  },
  {
   "cell_type": "code",
   "execution_count": 46,
   "metadata": {
    "ExecuteTime": {
     "end_time": "2019-02-13T16:50:27.539241Z",
     "start_time": "2019-02-13T16:50:27.336273Z"
    }
   },
   "outputs": [
    {
     "data": {
      "text/plain": [
       "(<Figure size 576x432 with 2 Axes>,\n",
       " <matplotlib.axes._subplots.AxesSubplot at 0x1a15778cc0>)"
      ]
     },
     "execution_count": 46,
     "metadata": {},
     "output_type": "execute_result"
    },
    {
     "data": {
      "image/png": "[encoded data removed]",
      "text/plain": [
       "<Figure size 576x432 with 2 Axes>"
      ]
     },
     "metadata": {},
     "output_type": "display_data"
    }
   ],
   "source": [
    "hinton(result.U_f/1j)"
   ]
  },
  {
   "cell_type": "code",
   "execution_count": 47,
   "metadata": {
    "ExecuteTime": {
     "end_time": "2019-02-13T16:50:27.815779Z",
     "start_time": "2019-02-13T16:50:27.589286Z"
    }
   },
   "outputs": [
    {
     "data": {
      "text/plain": [
       "(<Figure size 576x432 with 2 Axes>,\n",
       " <matplotlib.axes._subplots.AxesSubplot at 0x1a157bdbe0>)"
      ]
     },
     "execution_count": 47,
     "metadata": {},
     "output_type": "execute_result"
    },
    {
     "data": {
      "image/png": "[encoded data removed]",
      "text/plain": [
       "<Figure size 576x432 with 2 Axes>"
      ]
     },
     "metadata": {},
     "output_type": "display_data"
    }
   ],
   "source": [
    "hinton(result.U_f)"
   ]
  },
  {
   "cell_type": "code",
   "execution_count": 48,
   "metadata": {
    "ExecuteTime": {
     "end_time": "2019-02-13T16:50:27.888234Z",
     "start_time": "2019-02-13T16:50:27.880496Z"
    }
   },
   "outputs": [
    {
     "data": {
      "text/latex": [
       "Quantum object: dims = [[2], [2]], shape = (2, 2), type = oper, isherm = True\\begin{equation*}\\left(\\begin{array}{*{11}c}0.500 & 0.0\\\\0.0 & -0.500\\\\\\end{array}\\right)\\end{equation*}"
      ],
      "text/plain": [
       "Quantum object: dims = [[2], [2]], shape = (2, 2), type = oper, isherm = True\n",
       "Qobj data =\n",
       "[[ 0.5  0. ]\n",
       " [ 0.  -0.5]]"
      ]
     },
     "execution_count": 48,
     "metadata": {},
     "output_type": "execute_result"
    }
   ],
   "source": [
    "result.H_t[0]"
   ]
  },
  {
   "cell_type": "code",
   "execution_count": 49,
   "metadata": {
    "ExecuteTime": {
     "end_time": "2019-02-13T16:50:27.956667Z",
     "start_time": "2019-02-13T16:50:27.946404Z"
    }
   },
   "outputs": [
    {
     "data": {
      "text/plain": [
       "[Quantum object: dims = [[2], [2]], shape = (2, 2), type = oper, isherm = True\n",
       " Qobj data =\n",
       " [[0.+0.j 0.-1.j]\n",
       "  [0.+1.j 0.+0.j]],\n",
       " array([ 0.36343123,  0.36087463,  0.35468705,  0.37502843,  0.38489184,\n",
       "         0.3812145 ,  0.35968703,  0.37323339,  0.36125918,  0.34885048,\n",
       "         0.3548945 ,  0.36666447,  0.37802628,  0.35323429,  0.33913675,\n",
       "         0.32673345,  0.33060962,  0.30623606,  0.30310382,  0.3161601 ,\n",
       "         0.29755848,  0.28033645,  0.27878876,  0.28570362,  0.27772505,\n",
       "         0.28853517,  0.25276866,  0.26121285,  0.26157663,  0.24666244,\n",
       "         0.25024423,  0.24207515,  0.22960474,  0.21547174,  0.2211422 ,\n",
       "         0.19341229,  0.19825187,  0.18082503,  0.16728245,  0.15420372,\n",
       "         0.13837435,  0.11982971,  0.10543622,  0.08832197,  0.05542073,\n",
       "         0.07131188,  0.07688305,  0.06286033,  0.06224014,  0.06010421,\n",
       "         0.03041083,  0.02749265,  0.0240883 ,  0.02439677,  0.04133374,\n",
       "         0.02561522, -0.00310302, -0.01834338, -0.05643079, -0.05587424,\n",
       "        -0.04136481, -0.05149552, -0.05496803, -0.0659153 , -0.09300346,\n",
       "        -0.10721999, -0.09270396, -0.09495942, -0.10227233, -0.11802917,\n",
       "        -0.12699829, -0.13324367, -0.15955569, -0.17488213, -0.18308652,\n",
       "        -0.18994397, -0.21549776, -0.22096707, -0.2266922 , -0.22596225,\n",
       "        -0.25273951, -0.24602251, -0.2522075 , -0.26920423, -0.26534736,\n",
       "        -0.27163145, -0.2798181 , -0.2931483 , -0.28352647, -0.31108537,\n",
       "        -0.30275413, -0.32977887, -0.31935004, -0.31212546, -0.32176236,\n",
       "        -0.33503337, -0.33963374, -0.32059068, -0.31654747, -0.32228153,\n",
       "        -0.3228704 , -0.31685509, -0.32097346, -0.33770328, -0.35192533,\n",
       "        -0.34339126, -0.35448957, -0.37723925, -0.40000332, -0.39480491,\n",
       "        -0.40617458, -0.40034514, -0.42115852, -0.40565757, -0.39945653,\n",
       "        -0.42068085, -0.41240764, -0.41236736, -0.42257889, -0.4184382 ,\n",
       "        -0.43381576, -0.46260509, -0.4545323 , -0.45753557, -0.44803573,\n",
       "        -0.42606693, -0.44094056, -0.43606368, -0.41920296, -0.43073623,\n",
       "        -0.42088446, -0.42325792, -0.41820599, -0.44341484, -0.45916857,\n",
       "        -0.47399793, -0.4755766 , -0.48732855, -0.5045849 , -0.51341755,\n",
       "        -0.52296886, -0.5260767 , -0.5290402 , -0.50837114, -0.52417862,\n",
       "        -0.53387944, -0.52537981, -0.52518843, -0.52877576, -0.51883765,\n",
       "        -0.52413183, -0.5061419 , -0.53338426, -0.54800893, -0.52851236,\n",
       "        -0.5209971 , -0.51355558, -0.51498247, -0.4917101 , -0.48383978,\n",
       "        -0.46237127, -0.4520946 , -0.45102441, -0.43178344, -0.44391889,\n",
       "        -0.42544006, -0.4303562 , -0.42557885, -0.42493378, -0.44111767,\n",
       "        -0.43461617, -0.45403164, -0.45304823, -0.46699765, -0.45620254,\n",
       "        -0.47618116, -0.47473255, -0.47738851, -0.49413705, -0.48213439,\n",
       "        -0.50551511, -0.49210719, -0.49001049, -0.47837965, -0.47902273,\n",
       "        -0.46869788, -0.47035214, -0.47593453, -0.4758059 , -0.49000694,\n",
       "        -0.48418665, -0.49319146, -0.46179652, -0.47341826, -0.45161137,\n",
       "        -0.45387787, -0.4435621 , -0.43039527, -0.40134915, -0.3831665 ,\n",
       "        -0.36914135, -0.34911133, -0.35711953, -0.32448697, -0.32552369,\n",
       "        -0.3206382 , -0.309523  , -0.29951969, -0.31859841, -0.32059774,\n",
       "        -0.31881477, -0.31652747, -0.31648092, -0.33347965, -0.32277941,\n",
       "        -0.307758  , -0.30354051, -0.3109558 , -0.2942886 , -0.27725785,\n",
       "        -0.27550254, -0.27239205, -0.24603136, -0.22304473, -0.23696234,\n",
       "        -0.23573192, -0.24334509, -0.21329667, -0.20693304, -0.19540887,\n",
       "        -0.16700755, -0.16494173, -0.16282246, -0.15822144, -0.1361765 ,\n",
       "        -0.11045505, -0.10652895, -0.10977544, -0.09060939, -0.08931722,\n",
       "        -0.10508321, -0.07783848, -0.07704824, -0.06615734, -0.0784256 ,\n",
       "        -0.07337183, -0.05552063, -0.03484193, -0.02538965, -0.0280714 ,\n",
       "        -0.00802377,  0.00406773,  0.01120585,  0.01837894,  0.05131776,\n",
       "         0.05459711,  0.07185618,  0.07892688,  0.07411284,  0.08559681,\n",
       "         0.09273325,  0.07853051,  0.07489378,  0.07166553,  0.05871618,\n",
       "         0.07643135,  0.0904624 ,  0.08808934,  0.0952363 ,  0.1219811 ,\n",
       "         0.13366301,  0.16524109,  0.19564037,  0.19391101,  0.20059576,\n",
       "         0.1993519 ,  0.18327957,  0.19544197,  0.22209282,  0.23423002,\n",
       "         0.25132876,  0.23830455,  0.24778012,  0.2774881 ,  0.30028705,\n",
       "         0.29820517,  0.3301976 ,  0.34463916,  0.33891287,  0.33785358,\n",
       "         0.32468839,  0.32464539,  0.3096365 ,  0.32152782,  0.33566699,\n",
       "         0.35871394,  0.35045335,  0.3649567 ,  0.37068261,  0.38545274,\n",
       "         0.39111074,  0.41672367,  0.42594354,  0.42183662,  0.43155652,\n",
       "         0.4179949 ,  0.42614948,  0.42246819,  0.42237157,  0.40735221,\n",
       "         0.41974043,  0.41712245,  0.43024558,  0.43513686,  0.4352157 ,\n",
       "         0.45080504,  0.45194259,  0.46333165,  0.4668247 ,  0.49017623,\n",
       "         0.50355099,  0.51292927,  0.52933816,  0.54045331,  0.53462095,\n",
       "         0.55284543,  0.57139293,  0.55323154,  0.56537508,  0.5583346 ,\n",
       "         0.57705954,  0.57547554,  0.56865779,  0.56277721,  0.56696231,\n",
       "         0.5591555 ,  0.56032179,  0.57763567,  0.57241835,  0.59549117,\n",
       "         0.57317851,  0.58127616,  0.58901306,  0.59685337,  0.61556826,\n",
       "         0.63588804,  0.63567677,  0.6498102 ,  0.66736056,  0.67146702,\n",
       "         0.67641847,  0.69815856,  0.70671357,  0.70626265,  0.69883484,\n",
       "         0.67749199,  0.67685603,  0.67734153,  0.68111376,  0.66081142,\n",
       "         0.67277156,  0.6541562 ,  0.63636172,  0.65928825,  0.67046817,\n",
       "         0.67856385,  0.67867918,  0.67956988,  0.68948531,  0.69537956,\n",
       "         0.70979065,  0.71244304,  0.72306715,  0.69184545,  0.6862579 ,\n",
       "         0.67852291,  0.66848962,  0.65109591,  0.62232329,  0.62785232,\n",
       "         0.60436465,  0.59065382,  0.59354567,  0.61655096,  0.6243997 ,\n",
       "         0.64173346,  0.66039212,  0.66083763,  0.66687504,  0.64927944,\n",
       "         0.64075508,  0.63790097,  0.61703953,  0.59534353,  0.57082453,\n",
       "         0.54032675,  0.53451391,  0.54825319,  0.53767725,  0.55276206,\n",
       "         0.56955421,  0.57142168,  0.56625068,  0.56798129,  0.56113261,\n",
       "         0.58370187,  0.57411718,  0.56756705,  0.56788868,  0.55234048,\n",
       "         0.55190407,  0.54822904,  0.55349915,  0.55743299,  0.55300219,\n",
       "         0.54142611,  0.52420031,  0.49646343,  0.48561702,  0.48296035,\n",
       "         0.47162924,  0.45707069,  0.464583  ,  0.44438839,  0.44970499,\n",
       "         0.44527203,  0.44967928,  0.46393416,  0.46374354,  0.4366273 ,\n",
       "         0.43227191,  0.4495798 ,  0.4397969 ,  0.44474393,  0.42482498,\n",
       "         0.41791306,  0.40938953,  0.37418931,  0.35703618,  0.37177839,\n",
       "         0.34099651,  0.3315798 ,  0.30083031,  0.2873111 ,  0.28368825,\n",
       "         0.26605423,  0.24165096,  0.23599455,  0.25114269,  0.2353946 ,\n",
       "         0.2315146 ,  0.21534343,  0.22812487,  0.20990651,  0.21586067,\n",
       "         0.19168977,  0.19942381,  0.21402191,  0.20362704,  0.20695213,\n",
       "         0.20349419,  0.19006069,  0.1841383 ,  0.18039155,  0.16081772,\n",
       "         0.17203994,  0.15751284,  0.15278068,  0.12705723,  0.09325502,\n",
       "         0.10077377,  0.1052759 ,  0.07514691,  0.08361175,  0.08995332,\n",
       "         0.07587507,  0.06844944,  0.05600474,  0.06582891,  0.08272086,\n",
       "         0.06143224,  0.04428039,  0.03488099,  0.02607246,  0.00543565,\n",
       "        -0.01537931, -0.0102294 , -0.01942895, -0.02455379, -0.04796158,\n",
       "        -0.04222807, -0.03877026, -0.02153307, -0.03458709, -0.03745852,\n",
       "        -0.02692546, -0.05976356, -0.09341405, -0.13101461, -0.13101461])]"
      ]
     },
     "execution_count": 49,
     "metadata": {},
     "output_type": "execute_result"
    }
   ],
   "source": [
    "result.H_t[1]"
   ]
  },
  {
   "cell_type": "code",
   "execution_count": 50,
   "metadata": {
    "ExecuteTime": {
     "end_time": "2019-02-13T16:50:28.021533Z",
     "start_time": "2019-02-13T16:50:28.015569Z"
    }
   },
   "outputs": [
    {
     "data": {
      "text/plain": [
       "array([[[ 0.07306086,  0.07819237,  0.07974008, ...,  0.19695765,\n",
       "          0.16699535,  0.15472806]],\n",
       "\n",
       "       [[ 0.07308664,  0.07821569,  0.07976093, ...,  0.19693186,\n",
       "          0.1669671 ,  0.1669671 ]],\n",
       "\n",
       "       [[ 0.07312354,  0.07824906,  0.07979077, ...,  0.19689496,\n",
       "          0.16692669,  0.16692669]],\n",
       "\n",
       "       ...,\n",
       "\n",
       "       [[ 0.36343123,  0.36087463,  0.35468705, ..., -0.09341405,\n",
       "         -0.13101461, -0.13101461]],\n",
       "\n",
       "       [[ 0.36343123,  0.36087463,  0.35468705, ..., -0.09341405,\n",
       "         -0.13101461, -0.13101461]],\n",
       "\n",
       "       [[ 0.36343123,  0.36087463,  0.35468705, ..., -0.09341405,\n",
       "         -0.13101461, -0.13101461]]])"
      ]
     },
     "execution_count": 50,
     "metadata": {},
     "output_type": "execute_result"
    }
   ],
   "source": [
    "result.u"
   ]
  },
  {
   "cell_type": "markdown",
   "metadata": {},
   "source": [
    "## Test numerical integration of GRAPE pulse"
   ]
  },
  {
   "cell_type": "code",
   "execution_count": 51,
   "metadata": {
    "ExecuteTime": {
     "end_time": "2019-02-13T16:50:32.449988Z",
     "start_time": "2019-02-13T16:50:28.084066Z"
    }
   },
   "outputs": [
    {
     "data": {
      "text/latex": [
       "Quantum object: dims = [[2], [2]], shape = (2, 2), type = oper, isherm = False\\begin{equation*}\\left(\\begin{array}{*{11}c}(-0.740+0.545j) & (0.394+0.003j)\\\\(-0.394+0.003j) & (-0.740-0.545j)\\\\\\end{array}\\right)\\end{equation*}"
      ],
      "text/plain": [
       "Quantum object: dims = [[2], [2]], shape = (2, 2), type = oper, isherm = False\n",
       "Qobj data =\n",
       "[[-0.74014033+0.54460277j  0.39445101+0.00291764j]\n",
       " [-0.39445101+0.00291764j -0.74014033-0.54460277j]]"
      ]
     },
     "execution_count": 51,
     "metadata": {},
     "output_type": "execute_result"
    }
   ],
   "source": [
    "U_f_numerical = propagator(\n",
    "    result.H_t, times[-1], [], options=Odeoptions(nsteps=5000), args={})\n",
    "U_f_numerical"
   ]
  },
  {
   "cell_type": "code",
   "execution_count": 52,
   "metadata": {
    "ExecuteTime": {
     "end_time": "2019-02-13T16:50:32.532778Z",
     "start_time": "2019-02-13T16:50:32.526063Z"
    }
   },
   "outputs": [
    {
     "data": {
      "text/latex": [
       "Quantum object: dims = [[2], [2]], shape = (2, 2), type = oper, isherm = False\\begin{equation*}\\left(\\begin{array}{*{11}c}1.0 & (-0.344-0.257j)\\\\(0.348+0.252j) & (0.298+0.955j)\\\\\\end{array}\\right)\\end{equation*}"
      ],
      "text/plain": [
       "Quantum object: dims = [[2], [2]], shape = (2, 2), type = oper, isherm = False\n",
       "Qobj data =\n",
       "[[ 1.        +0.j         -0.34386569-0.25696187j]\n",
       " [ 0.3476292 +0.25184709j  0.29750778+0.95471939j]]"
      ]
     },
     "execution_count": 52,
     "metadata": {},
     "output_type": "execute_result"
    }
   ],
   "source": [
    "U_f_numerical / U_f_numerical[0,0]"
   ]
  },
  {
   "cell_type": "code",
   "execution_count": 53,
   "metadata": {
    "ExecuteTime": {
     "end_time": "2019-02-13T16:50:32.596125Z",
     "start_time": "2019-02-13T16:50:32.589545Z"
    }
   },
   "outputs": [
    {
     "data": {
      "text/plain": [
       "(-0.0029176384271234856, 8.512613991427607e-06)"
      ]
     },
     "execution_count": 53,
     "metadata": {},
     "output_type": "execute_result"
    }
   ],
   "source": [
    "_overlap(result.U_f, U_f_numerical).real, abs(_overlap(result.U_f, U_f_numerical))**2"
   ]
  },
  {
   "cell_type": "markdown",
   "metadata": {},
   "source": [
    "# Imports"
   ]
  },
  {
   "cell_type": "markdown",
   "metadata": {},
   "source": [
    "Need to have jate.py in your folder"
   ]
  },
  {
   "cell_type": "code",
   "execution_count": 54,
   "metadata": {
    "ExecuteTime": {
     "end_time": "2019-02-13T16:50:32.657857Z",
     "start_time": "2019-02-13T16:50:32.647321Z"
    }
   },
   "outputs": [
    {
     "data": {
      "text/plain": [
       "<Figure size 432x288 with 0 Axes>"
      ]
     },
     "metadata": {},
     "output_type": "display_data"
    }
   ],
   "source": [
    "%run jate.py #will import everything"
   ]
  },
  {
   "cell_type": "markdown",
   "metadata": {},
   "source": [
    "## My code "
   ]
  },
  {
   "cell_type": "markdown",
   "metadata": {},
   "source": [
    "## Building parts"
   ]
  },
  {
   "cell_type": "markdown",
   "metadata": {},
   "source": [
    "### Building the things to be calculated only once"
   ]
  },
  {
   "cell_type": "code",
   "execution_count": 55,
   "metadata": {
    "ExecuteTime": {
     "end_time": "2019-02-13T16:50:32.725152Z",
     "start_time": "2019-02-13T16:50:32.716417Z"
    },
    "code_folding": []
   },
   "outputs": [],
   "source": [
    "def maker(omega_1, H_0, H_1, T_s, Lin, d=2, gamma=0.1):\n",
    "    r\"\"\"maker\n",
    "    Makes all the things that remain constant throught the program, but are \n",
    "    repeatedly used.\n",
    "    \n",
    "\n",
    "    Parameters\n",
    "    ----------\n",
    "    omega_1 : float\n",
    "              frequency corresponding to half of the difference between \n",
    "              energy levels of the qubit\n",
    "              \n",
    "    H_0     : Qobj\n",
    "              Bare Hamiltonian \n",
    "              \n",
    "    H_1     : Qobj\n",
    "              Interaction Hamiltonian \n",
    "              \n",
    "    T_s     : Qobj\n",
    "              Unitary to be implemented in the Hilbert space\n",
    "    \n",
    "    Lin     : Qobj\n",
    "              Linbladian operators\n",
    "\n",
    "    d       : int\n",
    "              Dimension of the matrix. Defaults to 2\n",
    "    \n",
    "    gamma   : float\n",
    "              Damping constantof the Linbladian\n",
    "\n",
    "    \n",
    "    Returns\n",
    "    -------\n",
    "    \n",
    "    ih0     : Qobj\n",
    "              $I\\otimes H_{0}$\n",
    "              \n",
    "    ih1     : Qobj\n",
    "              $I\\otimes H_{1}$\n",
    "\n",
    "    h0ci    : Qobj\n",
    "              $H_{0}^{*}\\otimes I $\n",
    "\n",
    "    h1ci    : Qobj\n",
    "              $H_{1}^{*}\\otimes I $\n",
    "\n",
    "    T       : Qobj\n",
    "              Target unitary transformed to the Liouville space\n",
    "\n",
    "    linbladian : Qobj\n",
    "                 The full lindbladian term as it appears on transformation to \n",
    "                 the Liouville space.\n",
    "        \n",
    "    \"\"\"\n",
    "    I = identity(d)\n",
    "    L_I = tensor(I, I)\n",
    "    ih0 = tensor(I, H_0) \n",
    "    ih1 = tensor(I, H_1) \n",
    "    h0ci = tensor(H_0.conj(), I) \n",
    "    h1ci = tensor(H_1.conj(), I)\n",
    "    x_k = ih1 - h1ci\n",
    "    term1 = tensor(Lin.trans(), Lin)\n",
    "    term2 = tensor(I, ((Lin.dag())*(Lin)))\n",
    "    term3 = tensor(((Lin.trans())*(Lin.conj())), I)\n",
    "    lindbladian = 1j*(gamma)*(term1 - 0.5*(term2 + term3))\n",
    "    T = tensor(T_s.trans(), T_s) # Transforming $T_{s}$ to liouville space\n",
    "    \n",
    "    \n",
    "    return ih0, ih1, h0ci, h1ci, x_k, lindbladian, T, L_I"
   ]
  },
  {
   "cell_type": "code",
   "execution_count": 80,
   "metadata": {
    "ExecuteTime": {
     "end_time": "2019-02-13T16:50:34.237587Z",
     "start_time": "2019-02-13T16:50:34.228701Z"
    }
   },
   "outputs": [],
   "source": [
    "omega_1 = 0.5\n",
    "H_0 = omega_1*sigmaz() \n",
    "H_1 = sigmay()\n",
    "T_s = sigmax() \n",
    "Lin = sigmaz()\n",
    "ih0, ih1, h0ci, h1ci, x_k, lindbladian, T, L_I  = maker(omega_1,\n",
    "                                                  H_0, H_1, T_s, \n",
    "                                                  Lin, d=2, gamma=0.0)"
   ]
  },
  {
   "cell_type": "code",
   "execution_count": 81,
   "metadata": {
    "ExecuteTime": {
     "end_time": "2019-02-13T16:50:34.295182Z",
     "start_time": "2019-02-13T16:50:34.288341Z"
    }
   },
   "outputs": [
    {
     "data": {
      "text/latex": [
       "Quantum object: dims = [[2, 2], [2, 2]], shape = (4, 4), type = oper, isherm = True\\begin{equation*}\\left(\\begin{array}{*{11}c}1.0 & 0.0 & 0.0 & 0.0\\\\0.0 & 1.0 & 0.0 & 0.0\\\\0.0 & 0.0 & 1.0 & 0.0\\\\0.0 & 0.0 & 0.0 & 1.0\\\\\\end{array}\\right)\\end{equation*}"
      ],
      "text/plain": [
       "Quantum object: dims = [[2, 2], [2, 2]], shape = (4, 4), type = oper, isherm = True\n",
       "Qobj data =\n",
       "[[1. 0. 0. 0.]\n",
       " [0. 1. 0. 0.]\n",
       " [0. 0. 1. 0.]\n",
       " [0. 0. 0. 1.]]"
      ]
     },
     "execution_count": 81,
     "metadata": {},
     "output_type": "execute_result"
    }
   ],
   "source": [
    "L_I"
   ]
  },
  {
   "cell_type": "markdown",
   "metadata": {},
   "source": [
    "### Building $A(t)$"
   ]
  },
  {
   "cell_type": "code",
   "execution_count": 82,
   "metadata": {
    "ExecuteTime": {
     "end_time": "2019-02-13T16:50:34.352144Z",
     "start_time": "2019-02-13T16:50:34.348373Z"
    }
   },
   "outputs": [],
   "source": [
    "def A(xi):\n",
    "    r\"\"\"making $A(t)$\"\"\"\n",
    "    A = ih0 - h0ci + xi*(ih1 - h1ci) + lindbladian\n",
    "    return A"
   ]
  },
  {
   "cell_type": "code",
   "execution_count": 83,
   "metadata": {
    "ExecuteTime": {
     "end_time": "2019-02-13T16:50:34.410187Z",
     "start_time": "2019-02-13T16:50:34.402129Z"
    }
   },
   "outputs": [
    {
     "data": {
      "text/latex": [
       "Quantum object: dims = [[2, 2], [2, 2]], shape = (4, 4), type = oper, isherm = True\\begin{equation*}\\left(\\begin{array}{*{11}c}0.0 & -0.500j & -0.500j & 0.0\\\\0.500j & -1.0 & 0.0 & -0.500j\\\\0.500j & 0.0 & 1.0 & -0.500j\\\\0.0 & 0.500j & 0.500j & 0.0\\\\\\end{array}\\right)\\end{equation*}"
      ],
      "text/plain": [
       "Quantum object: dims = [[2, 2], [2, 2]], shape = (4, 4), type = oper, isherm = True\n",
       "Qobj data =\n",
       "[[ 0.+0.j   0.-0.5j  0.-0.5j  0.+0.j ]\n",
       " [ 0.+0.5j -1.+0.j   0.+0.j   0.-0.5j]\n",
       " [ 0.+0.5j  0.+0.j   1.+0.j   0.-0.5j]\n",
       " [ 0.+0.j   0.+0.5j  0.+0.5j  0.+0.j ]]"
      ]
     },
     "execution_count": 83,
     "metadata": {},
     "output_type": "execute_result"
    }
   ],
   "source": [
    "A(0.5)"
   ]
  },
  {
   "cell_type": "markdown",
   "metadata": {},
   "source": [
    "### Building $L(t)$ and the Identity in the Liouville space"
   ]
  },
  {
   "cell_type": "code",
   "execution_count": 84,
   "metadata": {
    "ExecuteTime": {
     "end_time": "2019-02-13T16:50:34.463758Z",
     "start_time": "2019-02-13T16:50:34.460170Z"
    }
   },
   "outputs": [],
   "source": [
    "def L(xi, dt):\n",
    "    r\"\"\"Making $L(t) from $A(t)$\"\"\"\n",
    "    L = (-1j*A(xi)*dt).expm()\n",
    "    return L"
   ]
  },
  {
   "cell_type": "code",
   "execution_count": 85,
   "metadata": {
    "ExecuteTime": {
     "end_time": "2019-02-13T16:50:34.521739Z",
     "start_time": "2019-02-13T16:50:34.512795Z"
    }
   },
   "outputs": [
    {
     "data": {
      "text/latex": [
       "Quantum object: dims = [[2, 2], [2, 2]], shape = (4, 4), type = oper, isherm = False\\begin{equation*}\\left(\\begin{array}{*{11}c}1.000 & (-5.000\\times10^{-04}-2.500\\times10^{-07}j) & (-5.000\\times10^{-04}+2.500\\times10^{-07}j) & 2.500\\times10^{-07}\\\\(5.000\\times10^{-04}+2.500\\times10^{-07}j) & (1.000+1.000\\times10^{-03}j) & -2.500\\times10^{-07} & (-5.000\\times10^{-04}-2.500\\times10^{-07}j)\\\\(5.000\\times10^{-04}-2.500\\times10^{-07}j) & -2.500\\times10^{-07} & (1.000-1.000\\times10^{-03}j) & (-5.000\\times10^{-04}+2.500\\times10^{-07}j)\\\\2.500\\times10^{-07} & (5.000\\times10^{-04}+2.500\\times10^{-07}j) & (5.000\\times10^{-04}-2.500\\times10^{-07}j) & 1.000\\\\\\end{array}\\right)\\end{equation*}"
      ],
      "text/plain": [
       "Quantum object: dims = [[2, 2], [2, 2]], shape = (4, 4), type = oper, isherm = False\n",
       "Qobj data =\n",
       "[[ 9.99999750e-01+0.00000000e+00j -4.99999833e-04-2.49999958e-07j\n",
       "  -4.99999833e-04+2.49999958e-07j  2.49999958e-07+0.00000000e+00j]\n",
       " [ 4.99999833e-04+2.49999958e-07j  9.99999250e-01+9.99999667e-04j\n",
       "  -2.49999958e-07+0.00000000e+00j -4.99999833e-04-2.49999958e-07j]\n",
       " [ 4.99999833e-04-2.49999958e-07j -2.49999958e-07+0.00000000e+00j\n",
       "   9.99999250e-01-9.99999667e-04j -4.99999833e-04+2.49999958e-07j]\n",
       " [ 2.49999958e-07+0.00000000e+00j  4.99999833e-04+2.49999958e-07j\n",
       "   4.99999833e-04-2.49999958e-07j  9.99999750e-01+0.00000000e+00j]]"
      ]
     },
     "execution_count": 85,
     "metadata": {},
     "output_type": "execute_result"
    }
   ],
   "source": [
    "L(0.5, 0.001)"
   ]
  },
  {
   "cell_type": "markdown",
   "metadata": {},
   "source": [
    "## Major functions"
   ]
  },
  {
   "cell_type": "markdown",
   "metadata": {},
   "source": [
    "### Major functions 1"
   ]
  },
  {
   "cell_type": "code",
   "execution_count": 86,
   "metadata": {
    "ExecuteTime": {
     "end_time": "2019-02-13T16:50:34.573851Z",
     "start_time": "2019-02-13T16:50:34.571108Z"
    }
   },
   "outputs": [],
   "source": [
    "# building the function to optimize (optimizee)\n",
    "def L_vec(xi_vec, dt):\n",
    "    r\"\"\"Building the vector of differential $L(t)$\"\"\"\n",
    "    L_vec = [L(xi, dt) for xi in xi_vec] \n",
    "    return L_vec"
   ]
  },
  {
   "cell_type": "code",
   "execution_count": 87,
   "metadata": {
    "ExecuteTime": {
     "end_time": "2019-02-13T16:50:34.627096Z",
     "start_time": "2019-02-13T16:50:34.621913Z"
    }
   },
   "outputs": [],
   "source": [
    "def fidelity_calc(A, B):\n",
    "    r\"\"\"Making a generalised fidelity function\"\"\"\n",
    "    first_part = (A - B).dag()\n",
    "    second_part = (A - B)\n",
    "    f_int = (first_part* second_part)\n",
    "    f = f_int.tr()\n",
    "    return f"
   ]
  },
  {
   "cell_type": "code",
   "execution_count": 88,
   "metadata": {
    "ExecuteTime": {
     "end_time": "2019-02-13T16:50:34.681005Z",
     "start_time": "2019-02-13T16:50:34.676960Z"
    }
   },
   "outputs": [],
   "source": [
    "def L_full_maker(xi_vec, dt):\n",
    "    r\"\"\"Building the $L(t)$ for the total time $t$\"\"\"\n",
    "    xi_vec_size = xi_vec.size # finding the size of xi\n",
    "    L_full = L_I # Identity for the for loop of L\n",
    "    L_v = L_vec(xi_vec, dt) # calling L_vec\n",
    "    for i in range(xi_vec_size): # generating L_full\n",
    "        L_full = L_full*L_v[xi_vec_size - 1 - i]\n",
    "    return L_full"
   ]
  },
  {
   "cell_type": "code",
   "execution_count": 89,
   "metadata": {
    "ExecuteTime": {
     "end_time": "2019-02-13T16:50:34.738798Z",
     "start_time": "2019-02-13T16:50:34.735529Z"
    }
   },
   "outputs": [],
   "source": [
    "def F(xi_vec, dt):\n",
    "    r\"\"\"Using the fidelity metric to find out the closeness between $T$\n",
    "    and $L(t)$\"\"\"\n",
    "    L_full = L_full_maker(xi_vec, dt)\n",
    "    F = real(-fidelity_calc(T, L_full))   \n",
    "    return F"
   ]
  },
  {
   "cell_type": "markdown",
   "metadata": {},
   "source": [
    "### Testing major functions 1"
   ]
  },
  {
   "cell_type": "code",
   "execution_count": 90,
   "metadata": {
    "ExecuteTime": {
     "end_time": "2019-02-13T16:50:34.792285Z",
     "start_time": "2019-02-13T16:50:34.785550Z"
    }
   },
   "outputs": [
    {
     "data": {
      "text/plain": [
       "4.0"
      ]
     },
     "execution_count": 90,
     "metadata": {},
     "output_type": "execute_result"
    }
   ],
   "source": [
    "fidelity_calc(sigmax(), sigmay())"
   ]
  },
  {
   "cell_type": "code",
   "execution_count": 91,
   "metadata": {
    "ExecuteTime": {
     "end_time": "2019-02-13T16:50:34.848446Z",
     "start_time": "2019-02-13T16:50:34.840966Z"
    }
   },
   "outputs": [
    {
     "data": {
      "text/plain": [
       "0.0"
      ]
     },
     "execution_count": 91,
     "metadata": {},
     "output_type": "execute_result"
    }
   ],
   "source": [
    "fidelity_calc(sigmay(), sigmay())"
   ]
  },
  {
   "cell_type": "code",
   "execution_count": 92,
   "metadata": {
    "ExecuteTime": {
     "end_time": "2019-02-13T16:50:34.907800Z",
     "start_time": "2019-02-13T16:50:34.901509Z"
    }
   },
   "outputs": [
    {
     "data": {
      "text/plain": [
       "array([1., 2.])"
      ]
     },
     "execution_count": 92,
     "metadata": {},
     "output_type": "execute_result"
    }
   ],
   "source": [
    "xi_vec_test = array([1.0, 2.0])\n",
    "xi_vec_test"
   ]
  },
  {
   "cell_type": "code",
   "execution_count": 93,
   "metadata": {
    "ExecuteTime": {
     "end_time": "2019-02-13T16:50:34.962276Z",
     "start_time": "2019-02-13T16:50:34.957125Z"
    }
   },
   "outputs": [
    {
     "data": {
      "text/plain": [
       "2"
      ]
     },
     "execution_count": 93,
     "metadata": {},
     "output_type": "execute_result"
    }
   ],
   "source": [
    "xi_vec_test.size"
   ]
  },
  {
   "cell_type": "code",
   "execution_count": 94,
   "metadata": {
    "ExecuteTime": {
     "end_time": "2019-02-13T16:50:35.018557Z",
     "start_time": "2019-02-13T16:50:35.013669Z"
    }
   },
   "outputs": [
    {
     "data": {
      "text/plain": [
       "[1.0, 4.0]"
      ]
     },
     "execution_count": 94,
     "metadata": {},
     "output_type": "execute_result"
    }
   ],
   "source": [
    "w_vec = [xi**2 for xi in xi_vec_test]\n",
    "w_vec"
   ]
  },
  {
   "cell_type": "code",
   "execution_count": 95,
   "metadata": {
    "ExecuteTime": {
     "end_time": "2019-02-13T16:50:35.078806Z",
     "start_time": "2019-02-13T16:50:35.067497Z"
    }
   },
   "outputs": [
    {
     "data": {
      "text/plain": [
       "-7.999999999998001"
      ]
     },
     "execution_count": 95,
     "metadata": {},
     "output_type": "execute_result"
    }
   ],
   "source": [
    "# F(xi_vec, dt)\n",
    "F(xi_vec_test, 0.001)"
   ]
  },
  {
   "cell_type": "code",
   "execution_count": 96,
   "metadata": {
    "ExecuteTime": {
     "end_time": "2019-02-13T16:50:35.137458Z",
     "start_time": "2019-02-13T16:50:35.129754Z"
    }
   },
   "outputs": [],
   "source": [
    "L_v = L_vec(xi_vec_test, 0.001)"
   ]
  },
  {
   "cell_type": "code",
   "execution_count": 97,
   "metadata": {
    "ExecuteTime": {
     "end_time": "2019-02-13T16:50:35.146039Z",
     "start_time": "2019-02-13T16:50:35.139095Z"
    }
   },
   "outputs": [
    {
     "data": {
      "text/plain": [
       "[Quantum object: dims = [[2, 2], [2, 2]], shape = (4, 4), type = oper, isherm = False\n",
       " Qobj data =\n",
       " [[ 9.99999000e-01+0.00000000e+00j -9.99999167e-04-4.99999792e-07j\n",
       "   -9.99999167e-04+4.99999792e-07j  9.99999583e-07+0.00000000e+00j]\n",
       "  [ 9.99999167e-04+4.99999792e-07j  9.99998500e-01+9.99999167e-04j\n",
       "   -9.99999583e-07+0.00000000e+00j -9.99999167e-04-4.99999792e-07j]\n",
       "  [ 9.99999167e-04-4.99999792e-07j -9.99999583e-07+0.00000000e+00j\n",
       "    9.99998500e-01-9.99999167e-04j -9.99999167e-04+4.99999792e-07j]\n",
       "  [ 9.99999583e-07+0.00000000e+00j  9.99999167e-04+4.99999792e-07j\n",
       "    9.99999167e-04-4.99999792e-07j  9.99999000e-01+0.00000000e+00j]],\n",
       " Quantum object: dims = [[2, 2], [2, 2]], shape = (4, 4), type = oper, isherm = False\n",
       " Qobj data =\n",
       " [[ 9.99996000e-01+0.00000000e+00j -1.99999433e-03-9.99998583e-07j\n",
       "   -1.99999433e-03+9.99998583e-07j  3.99999433e-06+0.00000000e+00j]\n",
       "  [ 1.99999433e-03+9.99998583e-07j  9.99995500e-01+9.99997167e-04j\n",
       "   -3.99999433e-06+0.00000000e+00j -1.99999433e-03-9.99998583e-07j]\n",
       "  [ 1.99999433e-03-9.99998583e-07j -3.99999433e-06+0.00000000e+00j\n",
       "    9.99995500e-01-9.99997167e-04j -1.99999433e-03+9.99998583e-07j]\n",
       "  [ 3.99999433e-06+0.00000000e+00j  1.99999433e-03+9.99998583e-07j\n",
       "    1.99999433e-03-9.99998583e-07j  9.99996000e-01+0.00000000e+00j]]]"
      ]
     },
     "execution_count": 97,
     "metadata": {},
     "output_type": "execute_result"
    }
   ],
   "source": [
    "L_v"
   ]
  },
  {
   "cell_type": "markdown",
   "metadata": {},
   "source": [
    "### Major Functions 2"
   ]
  },
  {
   "cell_type": "code",
   "execution_count": 98,
   "metadata": {
    "ExecuteTime": {
     "end_time": "2019-02-13T16:50:35.243524Z",
     "start_time": "2019-02-13T16:50:35.239346Z"
    }
   },
   "outputs": [],
   "source": [
    "def L_comma_k_maker(xi_vec, k, dt):\n",
    "    r\"\"\"Making of the derivative of full $L(t)$ at time $t_{k}$\"\"\"\n",
    "    N = xi_vec.size \n",
    "    # Determining the size of xi, and thus the time_steps indirectly.\n",
    "    L_v = L_vec(xi_vec, dt)# Making of the full $L(t)$\n",
    "    inner_part = L_I # Beginner for the for loop\n",
    "    for i in range(N):\n",
    "        if i == ( N - 1 - k ):\n",
    "            # The step at which $X_{k}(t)$ has to be inserted \n",
    "            inner_part = inner_part*x_k*L_v[k - 1]\n",
    "        else:\n",
    "            # Usual multiplications of $L_{k}$\n",
    "            inner_part = inner_part*L_v[N - 1 - i]\n",
    "    l_comma_k = inner_part\n",
    "    return l_comma_k\n",
    "    "
   ]
  },
  {
   "cell_type": "code",
   "execution_count": 99,
   "metadata": {
    "ExecuteTime": {
     "end_time": "2019-02-13T16:50:35.260846Z",
     "start_time": "2019-02-13T16:50:35.245652Z"
    }
   },
   "outputs": [
    {
     "data": {
      "text/latex": [
       "Quantum object: dims = [[2, 2], [2, 2]], shape = (4, 4), type = oper, isherm = False\\begin{equation*}\\left(\\begin{array}{*{11}c}1.000 & (-0.003-3.500\\times10^{-06}j) & (-0.003+3.500\\times10^{-06}j) & 9.000\\times10^{-06}\\\\(0.003+2.500\\times10^{-06}j) & (1.000+0.002j) & (-9.000\\times10^{-06}+3.000\\times10^{-09}j) & (-0.003-2.500\\times10^{-06}j)\\\\(0.003-2.500\\times10^{-06}j) & (-9.000\\times10^{-06}-3.000\\times10^{-09}j) & (1.000-0.002j) & (-0.003+2.500\\times10^{-06}j)\\\\9.000\\times10^{-06} & (0.003+3.500\\times10^{-06}j) & (0.003-3.500\\times10^{-06}j) & 1.000\\\\\\end{array}\\right)\\end{equation*}"
      ],
      "text/plain": [
       "Quantum object: dims = [[2, 2], [2, 2]], shape = (4, 4), type = oper, isherm = False\n",
       "Qobj data =\n",
       "[[ 9.99991000e-01+0.00000000e+00j -2.99997950e-03-3.49998654e-06j\n",
       "  -2.99997950e-03+3.49998654e-06j  8.99997025e-06+0.00000000e+00j]\n",
       " [ 2.99998050e-03+2.49999246e-06j  9.99989000e-01+1.99998633e-03j\n",
       "  -8.99996975e-06+2.99999225e-09j -2.99998050e-03-2.49999246e-06j]\n",
       " [ 2.99998050e-03-2.49999246e-06j -8.99996975e-06-2.99999225e-09j\n",
       "   9.99989000e-01-1.99998633e-03j -2.99998050e-03+2.49999246e-06j]\n",
       " [ 8.99997025e-06+0.00000000e+00j  2.99997950e-03+3.49998654e-06j\n",
       "   2.99997950e-03-3.49998654e-06j  9.99991000e-01+0.00000000e+00j]]"
      ]
     },
     "execution_count": 99,
     "metadata": {},
     "output_type": "execute_result"
    }
   ],
   "source": [
    "# L_comma_k_maker(xi_vec, k, dt)\n",
    "L_comma_k_maker(xi_vec_test, 2, 0.001)"
   ]
  },
  {
   "cell_type": "code",
   "execution_count": 100,
   "metadata": {
    "ExecuteTime": {
     "end_time": "2019-02-13T16:50:35.267794Z",
     "start_time": "2019-02-13T16:50:35.263130Z"
    }
   },
   "outputs": [],
   "source": [
    "def updater(xi_vec, dt, epsilon):\n",
    "    r\"\"\"Implementing the GRAPE update step\"\"\"\n",
    "    xi_vec_size = xi_vec.size # finding the size of xi\n",
    "    L_full = L_full_maker(xi_vec, dt)\n",
    "    di = []\n",
    "    for k in range(xi_vec_size):\n",
    "        # Building the thing to be added to the old function\n",
    "        L_comma_k = L_comma_k_maker(xi_vec, k, dt)\n",
    "        differentiated = T - L_comma_k\n",
    "        plain = T - L_full\n",
    "        c = -differentiated.dag()*plain\n",
    "        d = -plain.dag()*differentiated\n",
    "        inside = c.tr() + d.tr()\n",
    "        di.append(epsilon*inside)\n",
    "\n",
    "    diff = array(di)\n",
    "    xi_new_vec = xi_vec + diff\n",
    "    return diff, xi_new_vec\n",
    "    "
   ]
  },
  {
   "cell_type": "code",
   "execution_count": 101,
   "metadata": {
    "ExecuteTime": {
     "end_time": "2019-02-13T16:50:35.288097Z",
     "start_time": "2019-02-13T16:50:35.269760Z"
    }
   },
   "outputs": [
    {
     "data": {
      "text/plain": [
       "(array([-0.008+0.j, -0.008+0.j]), array([0.992+0.j, 1.992+0.j]))"
      ]
     },
     "execution_count": 101,
     "metadata": {},
     "output_type": "execute_result"
    }
   ],
   "source": [
    "#  updater(xi_vec, dt, epsilon)\n",
    "updater(xi_vec_test, 0.001, 0.001)"
   ]
  },
  {
   "cell_type": "code",
   "execution_count": 102,
   "metadata": {
    "ExecuteTime": {
     "end_time": "2019-02-13T16:50:35.490855Z",
     "start_time": "2019-02-13T16:50:35.485744Z"
    },
    "code_folding": []
   },
   "outputs": [],
   "source": [
    "def terminator(max_iter, time_steps, total_time, epsilon):\n",
    "    r\"\"\"Brief description of the function\"\"\"\n",
    "    \n",
    "    xi_initial =  1000*random_sample((time_steps,))\n",
    "    dt = total_time/time_steps\n",
    "    xi_diff, xi_new_vec = updater(xi_initial, dt, epsilon)\n",
    "    \n",
    "    for i in range(max_iter):\n",
    "        if amax(xi_diff) < epsilon**2 :\n",
    "            \n",
    "            xi_final = xi_new_vec\n",
    "            break\n",
    "        else :\n",
    "            xi_diff, xi_new_vec = updater(xi_new_vec, dt, epsilon)\n",
    "            print(i)\n",
    "            print(amax(xi_diff))\n",
    "            \n",
    "        \n",
    "    xi_final = xi_new_vec    \n",
    "    return xi_final"
   ]
  },
  {
   "cell_type": "markdown",
   "metadata": {},
   "source": [
    "# Running stuff"
   ]
  },
  {
   "cell_type": "markdown",
   "metadata": {},
   "source": [
    "### qutip grape"
   ]
  },
  {
   "cell_type": "code",
   "execution_count": 103,
   "metadata": {
    "ExecuteTime": {
     "end_time": "2019-02-13T16:50:35.539872Z",
     "start_time": "2019-02-13T16:50:35.536903Z"
    }
   },
   "outputs": [],
   "source": [
    "xi_qutip = result.u"
   ]
  },
  {
   "cell_type": "code",
   "execution_count": 113,
   "metadata": {
    "ExecuteTime": {
     "end_time": "2019-02-13T16:52:44.219280Z",
     "start_time": "2019-02-13T16:52:44.215084Z"
    }
   },
   "outputs": [
    {
     "data": {
      "text/plain": [
       "500"
      ]
     },
     "execution_count": 113,
     "metadata": {},
     "output_type": "execute_result"
    }
   ],
   "source": [
    "len(xi_qutip)"
   ]
  },
  {
   "cell_type": "code",
   "execution_count": 119,
   "metadata": {
    "ExecuteTime": {
     "end_time": "2019-02-13T16:58:26.441444Z",
     "start_time": "2019-02-13T16:58:26.436607Z"
    }
   },
   "outputs": [
    {
     "data": {
      "text/plain": [
       "(500, 1, 500)"
      ]
     },
     "execution_count": 119,
     "metadata": {},
     "output_type": "execute_result"
    }
   ],
   "source": [
    "xi_qutip.shape"
   ]
  },
  {
   "cell_type": "code",
   "execution_count": 121,
   "metadata": {
    "ExecuteTime": {
     "end_time": "2019-02-13T16:58:53.591569Z",
     "start_time": "2019-02-13T16:58:53.587013Z"
    }
   },
   "outputs": [
    {
     "data": {
      "text/plain": [
       "250000"
      ]
     },
     "execution_count": 121,
     "metadata": {},
     "output_type": "execute_result"
    }
   ],
   "source": [
    "xi_qutip.size"
   ]
  },
  {
   "cell_type": "code",
   "execution_count": 122,
   "metadata": {
    "ExecuteTime": {
     "end_time": "2019-02-13T17:00:49.201666Z",
     "start_time": "2019-02-13T17:00:49.189219Z"
    }
   },
   "outputs": [
    {
     "data": {
      "text/plain": [
       "1"
      ]
     },
     "execution_count": 122,
     "metadata": {},
     "output_type": "execute_result"
    }
   ],
   "source": [
    "len(xi_qutip[0])"
   ]
  },
  {
   "cell_type": "code",
   "execution_count": 123,
   "metadata": {
    "ExecuteTime": {
     "end_time": "2019-02-13T17:11:15.229490Z",
     "start_time": "2019-02-13T17:11:15.214533Z"
    }
   },
   "outputs": [
    {
     "data": {
      "text/plain": [
       "1"
      ]
     },
     "execution_count": 123,
     "metadata": {},
     "output_type": "execute_result"
    }
   ],
   "source": [
    "len(xi_qutip[1])"
   ]
  },
  {
   "cell_type": "code",
   "execution_count": 124,
   "metadata": {
    "ExecuteTime": {
     "end_time": "2019-02-13T17:11:15.229490Z",
     "start_time": "2019-02-13T17:11:15.214533Z"
    }
   },
   "outputs": [
    {
     "data": {
      "text/plain": [
       "1"
      ]
     },
     "execution_count": 124,
     "metadata": {},
     "output_type": "execute_result"
    }
   ],
   "source": [
    "len(xi_qutip[2])"
   ]
  },
  {
   "cell_type": "code",
   "execution_count": 127,
   "metadata": {
    "ExecuteTime": {
     "end_time": "2019-02-13T17:11:15.229490Z",
     "start_time": "2019-02-13T17:11:15.214533Z"
    }
   },
   "outputs": [
    {
     "data": {
      "text/plain": [
       "500"
      ]
     },
     "execution_count": 127,
     "metadata": {},
     "output_type": "execute_result"
    }
   ],
   "source": [
    "len(xi_qutip[0][0])"
   ]
  },
  {
   "cell_type": "code",
   "execution_count": 130,
   "metadata": {
    "ExecuteTime": {
     "end_time": "2019-02-13T17:25:41.325235Z",
     "start_time": "2019-02-13T17:25:41.318183Z"
    }
   },
   "outputs": [
    {
     "data": {
      "text/plain": [
       "500"
      ]
     },
     "execution_count": 130,
     "metadata": {},
     "output_type": "execute_result"
    }
   ],
   "source": [
    "len(xi_qutip[1][0])"
   ]
  },
  {
   "cell_type": "code",
   "execution_count": 130,
   "metadata": {
    "ExecuteTime": {
     "end_time": "2019-02-13T17:25:41.325235Z",
     "start_time": "2019-02-13T17:25:41.318183Z"
    }
   },
   "outputs": [
    {
     "data": {
      "text/plain": [
       "500"
      ]
     },
     "execution_count": 130,
     "metadata": {},
     "output_type": "execute_result"
    }
   ],
   "source": [
    "len(xi_qutip[1][0])"
   ]
  },
  {
   "cell_type": "code",
   "execution_count": 131,
   "metadata": {
    "ExecuteTime": {
     "end_time": "2019-02-13T17:25:41.325235Z",
     "start_time": "2019-02-13T17:25:41.318183Z"
    }
   },
   "outputs": [
    {
     "data": {
      "text/plain": [
       "500"
      ]
     },
     "execution_count": 131,
     "metadata": {},
     "output_type": "execute_result"
    }
   ],
   "source": [
    "len(xi_qutip[250][0])"
   ]
  },
  {
   "cell_type": "code",
   "execution_count": 132,
   "metadata": {
    "ExecuteTime": {
     "end_time": "2019-02-13T17:25:41.325235Z",
     "start_time": "2019-02-13T17:25:41.318183Z"
    }
   },
   "outputs": [
    {
     "data": {
      "text/plain": [
       "500"
      ]
     },
     "execution_count": 132,
     "metadata": {},
     "output_type": "execute_result"
    }
   ],
   "source": [
    "len(xi_qutip[250,0,:])"
   ]
  },
  {
   "cell_type": "code",
   "execution_count": 134,
   "metadata": {
    "ExecuteTime": {
     "end_time": "2019-02-13T17:26:45.364088Z",
     "start_time": "2019-02-13T17:26:45.322910Z"
    }
   },
   "outputs": [
    {
     "ename": "IndexError",
     "evalue": "index 1 is out of bounds for axis 1 with size 1",
     "output_type": "error",
     "traceback": [
      "\u001b[0;31m---------------------------------------------------------------------------\u001b[0m",
      "\u001b[0;31mIndexError\u001b[0m                                Traceback (most recent call last)",
      "\u001b[0;32m<ipython-input-134-5c4a620259a6>\u001b[0m in \u001b[0;36m<module>\u001b[0;34m()\u001b[0m\n\u001b[0;32m----> 1\u001b[0;31m \u001b[0mlen\u001b[0m\u001b[0;34m(\u001b[0m\u001b[0mxi_qutip\u001b[0m\u001b[0;34m[\u001b[0m\u001b[0;36m250\u001b[0m\u001b[0;34m,\u001b[0m\u001b[0;36m1\u001b[0m\u001b[0;34m,\u001b[0m\u001b[0;34m:\u001b[0m\u001b[0;34m]\u001b[0m\u001b[0;34m)\u001b[0m\u001b[0;34m\u001b[0m\u001b[0;34m\u001b[0m\u001b[0m\n\u001b[0m",
      "\u001b[0;31mIndexError\u001b[0m: index 1 is out of bounds for axis 1 with size 1"
     ]
    }
   ],
   "source": [
    "len(xi_qutip[250,1,:])"
   ]
  },
  {
   "cell_type": "code",
   "execution_count": 133,
   "metadata": {
    "ExecuteTime": {
     "end_time": "2019-02-13T17:26:08.762277Z",
     "start_time": "2019-02-13T17:26:08.754085Z"
    }
   },
   "outputs": [
    {
     "data": {
      "text/plain": [
       "500"
      ]
     },
     "execution_count": 133,
     "metadata": {},
     "output_type": "execute_result"
    }
   ],
   "source": [
    "len(xi_qutip[-1,0,:])"
   ]
  },
  {
   "cell_type": "code",
   "execution_count": 129,
   "metadata": {
    "ExecuteTime": {
     "end_time": "2019-02-13T17:17:35.044713Z",
     "start_time": "2019-02-13T17:17:35.035986Z"
    }
   },
   "outputs": [
    {
     "data": {
      "text/plain": [
       "0.07819237012052123"
      ]
     },
     "execution_count": 129,
     "metadata": {},
     "output_type": "execute_result"
    }
   ],
   "source": [
    "xi_qutip[0][0][1]"
   ]
  },
  {
   "cell_type": "code",
   "execution_count": 114,
   "metadata": {
    "ExecuteTime": {
     "end_time": "2019-02-13T16:54:02.230943Z",
     "start_time": "2019-02-13T16:54:02.224889Z"
    }
   },
   "outputs": [
    {
     "data": {
      "text/plain": [
       "array([[[ 0.07306086,  0.07819237,  0.07974008, ...,  0.19695765,\n",
       "          0.16699535,  0.15472806]],\n",
       "\n",
       "       [[ 0.07308664,  0.07821569,  0.07976093, ...,  0.19693186,\n",
       "          0.1669671 ,  0.1669671 ]],\n",
       "\n",
       "       [[ 0.07312354,  0.07824906,  0.07979077, ...,  0.19689496,\n",
       "          0.16692669,  0.16692669]],\n",
       "\n",
       "       ...,\n",
       "\n",
       "       [[ 0.36343123,  0.36087463,  0.35468705, ..., -0.09341405,\n",
       "         -0.13101461, -0.13101461]],\n",
       "\n",
       "       [[ 0.36343123,  0.36087463,  0.35468705, ..., -0.09341405,\n",
       "         -0.13101461, -0.13101461]],\n",
       "\n",
       "       [[ 0.36343123,  0.36087463,  0.35468705, ..., -0.09341405,\n",
       "         -0.13101461, -0.13101461]]])"
      ]
     },
     "execution_count": 114,
     "metadata": {},
     "output_type": "execute_result"
    }
   ],
   "source": [
    "xi_qutip"
   ]
  },
  {
   "cell_type": "code",
   "execution_count": 136,
   "metadata": {
    "ExecuteTime": {
     "end_time": "2019-02-13T17:28:12.960587Z",
     "start_time": "2019-02-13T17:28:12.948464Z"
    }
   },
   "outputs": [
    {
     "data": {
      "text/plain": [
       "array([ 0.36343123,  0.36087463,  0.35468705,  0.37502843,  0.38489184,\n",
       "        0.3812145 ,  0.35968703,  0.37323339,  0.36125918,  0.34885048,\n",
       "        0.3548945 ,  0.36666447,  0.37802628,  0.35323429,  0.33913675,\n",
       "        0.32673345,  0.33060962,  0.30623606,  0.30310382,  0.3161601 ,\n",
       "        0.29755848,  0.28033645,  0.27878876,  0.28570362,  0.27772505,\n",
       "        0.28853517,  0.25276866,  0.26121285,  0.26157663,  0.24666244,\n",
       "        0.25024423,  0.24207515,  0.22960474,  0.21547174,  0.2211422 ,\n",
       "        0.19341229,  0.19825187,  0.18082503,  0.16728245,  0.15420372,\n",
       "        0.13837435,  0.11982971,  0.10543622,  0.08832197,  0.05542073,\n",
       "        0.07131188,  0.07688305,  0.06286033,  0.06224014,  0.06010421,\n",
       "        0.03041083,  0.02749265,  0.0240883 ,  0.02439677,  0.04133374,\n",
       "        0.02561522, -0.00310302, -0.01834338, -0.05643079, -0.05587424,\n",
       "       -0.04136481, -0.05149552, -0.05496803, -0.0659153 , -0.09300346,\n",
       "       -0.10721999, -0.09270396, -0.09495942, -0.10227233, -0.11802917,\n",
       "       -0.12699829, -0.13324367, -0.15955569, -0.17488213, -0.18308652,\n",
       "       -0.18994397, -0.21549776, -0.22096707, -0.2266922 , -0.22596225,\n",
       "       -0.25273951, -0.24602251, -0.2522075 , -0.26920423, -0.26534736,\n",
       "       -0.27163145, -0.2798181 , -0.2931483 , -0.28352647, -0.31108537,\n",
       "       -0.30275413, -0.32977887, -0.31935004, -0.31212546, -0.32176236,\n",
       "       -0.33503337, -0.33963374, -0.32059068, -0.31654747, -0.32228153,\n",
       "       -0.3228704 , -0.31685509, -0.32097346, -0.33770328, -0.35192533,\n",
       "       -0.34339126, -0.35448957, -0.37723925, -0.40000332, -0.39480491,\n",
       "       -0.40617458, -0.40034514, -0.42115852, -0.40565757, -0.39945653,\n",
       "       -0.42068085, -0.41240764, -0.41236736, -0.42257889, -0.4184382 ,\n",
       "       -0.43381576, -0.46260509, -0.4545323 , -0.45753557, -0.44803573,\n",
       "       -0.42606693, -0.44094056, -0.43606368, -0.41920296, -0.43073623,\n",
       "       -0.42088446, -0.42325792, -0.41820599, -0.44341484, -0.45916857,\n",
       "       -0.47399793, -0.4755766 , -0.48732855, -0.5045849 , -0.51341755,\n",
       "       -0.52296886, -0.5260767 , -0.5290402 , -0.50837114, -0.52417862,\n",
       "       -0.53387944, -0.52537981, -0.52518843, -0.52877576, -0.51883765,\n",
       "       -0.52413183, -0.5061419 , -0.53338426, -0.54800893, -0.52851236,\n",
       "       -0.5209971 , -0.51355558, -0.51498247, -0.4917101 , -0.48383978,\n",
       "       -0.46237127, -0.4520946 , -0.45102441, -0.43178344, -0.44391889,\n",
       "       -0.42544006, -0.4303562 , -0.42557885, -0.42493378, -0.44111767,\n",
       "       -0.43461617, -0.45403164, -0.45304823, -0.46699765, -0.45620254,\n",
       "       -0.47618116, -0.47473255, -0.47738851, -0.49413705, -0.48213439,\n",
       "       -0.50551511, -0.49210719, -0.49001049, -0.47837965, -0.47902273,\n",
       "       -0.46869788, -0.47035214, -0.47593453, -0.4758059 , -0.49000694,\n",
       "       -0.48418665, -0.49319146, -0.46179652, -0.47341826, -0.45161137,\n",
       "       -0.45387787, -0.4435621 , -0.43039527, -0.40134915, -0.3831665 ,\n",
       "       -0.36914135, -0.34911133, -0.35711953, -0.32448697, -0.32552369,\n",
       "       -0.3206382 , -0.309523  , -0.29951969, -0.31859841, -0.32059774,\n",
       "       -0.31881477, -0.31652747, -0.31648092, -0.33347965, -0.32277941,\n",
       "       -0.307758  , -0.30354051, -0.3109558 , -0.2942886 , -0.27725785,\n",
       "       -0.27550254, -0.27239205, -0.24603136, -0.22304473, -0.23696234,\n",
       "       -0.23573192, -0.24334509, -0.21329667, -0.20693304, -0.19540887,\n",
       "       -0.16700755, -0.16494173, -0.16282246, -0.15822144, -0.1361765 ,\n",
       "       -0.11045505, -0.10652895, -0.10977544, -0.09060939, -0.08931722,\n",
       "       -0.10508321, -0.07783848, -0.07704824, -0.06615734, -0.0784256 ,\n",
       "       -0.07337183, -0.05552063, -0.03484193, -0.02538965, -0.0280714 ,\n",
       "       -0.00802377,  0.00406773,  0.01120585,  0.01837894,  0.05131776,\n",
       "        0.05459711,  0.07185618,  0.07892688,  0.07411284,  0.08559681,\n",
       "        0.09273325,  0.07853051,  0.07489378,  0.07166553,  0.05871618,\n",
       "        0.07643135,  0.0904624 ,  0.08808934,  0.0952363 ,  0.1219811 ,\n",
       "        0.13366301,  0.16524109,  0.19564037,  0.19391101,  0.20059576,\n",
       "        0.1993519 ,  0.18327957,  0.19544197,  0.22209282,  0.23423002,\n",
       "        0.25132876,  0.23830455,  0.24778012,  0.2774881 ,  0.30028705,\n",
       "        0.29820517,  0.3301976 ,  0.34463916,  0.33891287,  0.33785358,\n",
       "        0.32468839,  0.32464539,  0.3096365 ,  0.32152782,  0.33566699,\n",
       "        0.35871394,  0.35045335,  0.3649567 ,  0.37068261,  0.38545274,\n",
       "        0.39111074,  0.41672367,  0.42594354,  0.42183662,  0.43155652,\n",
       "        0.4179949 ,  0.42614948,  0.42246819,  0.42237157,  0.40735221,\n",
       "        0.41974043,  0.41712245,  0.43024558,  0.43513686,  0.4352157 ,\n",
       "        0.45080504,  0.45194259,  0.46333165,  0.4668247 ,  0.49017623,\n",
       "        0.50355099,  0.51292927,  0.52933816,  0.54045331,  0.53462095,\n",
       "        0.55284543,  0.57139293,  0.55323154,  0.56537508,  0.5583346 ,\n",
       "        0.57705954,  0.57547554,  0.56865779,  0.56277721,  0.56696231,\n",
       "        0.5591555 ,  0.56032179,  0.57763567,  0.57241835,  0.59549117,\n",
       "        0.57317851,  0.58127616,  0.58901306,  0.59685337,  0.61556826,\n",
       "        0.63588804,  0.63567677,  0.6498102 ,  0.66736056,  0.67146702,\n",
       "        0.67641847,  0.69815856,  0.70671357,  0.70626265,  0.69883484,\n",
       "        0.67749199,  0.67685603,  0.67734153,  0.68111376,  0.66081142,\n",
       "        0.67277156,  0.6541562 ,  0.63636172,  0.65928825,  0.67046817,\n",
       "        0.67856385,  0.67867918,  0.67956988,  0.68948531,  0.69537956,\n",
       "        0.70979065,  0.71244304,  0.72306715,  0.69184545,  0.6862579 ,\n",
       "        0.67852291,  0.66848962,  0.65109591,  0.62232329,  0.62785232,\n",
       "        0.60436465,  0.59065382,  0.59354567,  0.61655096,  0.6243997 ,\n",
       "        0.64173346,  0.66039212,  0.66083763,  0.66687504,  0.64927944,\n",
       "        0.64075508,  0.63790097,  0.61703953,  0.59534353,  0.57082453,\n",
       "        0.54032675,  0.53451391,  0.54825319,  0.53767725,  0.55276206,\n",
       "        0.56955421,  0.57142168,  0.56625068,  0.56798129,  0.56113261,\n",
       "        0.58370187,  0.57411718,  0.56756705,  0.56788868,  0.55234048,\n",
       "        0.55190407,  0.54822904,  0.55349915,  0.55743299,  0.55300219,\n",
       "        0.54142611,  0.52420031,  0.49646343,  0.48561702,  0.48296035,\n",
       "        0.47162924,  0.45707069,  0.464583  ,  0.44438839,  0.44970499,\n",
       "        0.44527203,  0.44967928,  0.46393416,  0.46374354,  0.4366273 ,\n",
       "        0.43227191,  0.4495798 ,  0.4397969 ,  0.44474393,  0.42482498,\n",
       "        0.41791306,  0.40938953,  0.37418931,  0.35703618,  0.37177839,\n",
       "        0.34099651,  0.3315798 ,  0.30083031,  0.2873111 ,  0.28368825,\n",
       "        0.26605423,  0.24165096,  0.23599455,  0.25114269,  0.2353946 ,\n",
       "        0.2315146 ,  0.21534343,  0.22812487,  0.20990651,  0.21586067,\n",
       "        0.19168977,  0.19942381,  0.21402191,  0.20362704,  0.20695213,\n",
       "        0.20349419,  0.19006069,  0.1841383 ,  0.18039155,  0.16081772,\n",
       "        0.17203994,  0.15751284,  0.15278068,  0.12705723,  0.09325502,\n",
       "        0.10077377,  0.1052759 ,  0.07514691,  0.08361175,  0.08995332,\n",
       "        0.07587507,  0.06844944,  0.05600474,  0.06582891,  0.08272086,\n",
       "        0.06143224,  0.04428039,  0.03488099,  0.02607246,  0.00543565,\n",
       "       -0.01537931, -0.0102294 , -0.01942895, -0.02455379, -0.04796158,\n",
       "       -0.04222807, -0.03877026, -0.02153307, -0.03458709, -0.03745852,\n",
       "       -0.02692546, -0.05976356, -0.09341405, -0.13101461, -0.13101461])"
      ]
     },
     "execution_count": 136,
     "metadata": {},
     "output_type": "execute_result"
    }
   ],
   "source": [
    "xi_qutip[-1,0, :]"
   ]
  },
  {
   "cell_type": "code",
   "execution_count": 137,
   "metadata": {
    "ExecuteTime": {
     "end_time": "2019-02-13T17:28:31.251885Z",
     "start_time": "2019-02-13T17:28:30.163701Z"
    }
   },
   "outputs": [
    {
     "data": {
      "text/latex": [
       "Quantum object: dims = [[2, 2], [2, 2]], shape = (4, 4), type = oper, isherm = False\\begin{equation*}\\left(\\begin{array}{*{11}c}0.961 & (0.141-0.132j) & (0.141+0.132j) & 0.039\\\\(0.128+0.144j) & (-0.957-0.090j) & (-9.960\\times10^{-04}+0.039j) & (-0.128-0.144j)\\\\(0.128-0.144j) & (-9.960\\times10^{-04}-0.039j) & (-0.957+0.090j) & (-0.128+0.144j)\\\\0.039 & (-0.141+0.132j) & (-0.141-0.132j) & 0.961\\\\\\end{array}\\right)\\end{equation*}"
      ],
      "text/plain": [
       "Quantum object: dims = [[2, 2], [2, 2]], shape = (4, 4), type = oper, isherm = False\n",
       "Qobj data =\n",
       "[[ 0.96135485+0.j          0.14082938-0.13160086j  0.14082938+0.13160086j\n",
       "   0.03864515+0.j        ]\n",
       " [ 0.12792762+0.14417429j -0.95715579-0.0897549j  -0.00099598+0.03863231j\n",
       "  -0.12792762-0.14417429j]\n",
       " [ 0.12792762-0.14417429j -0.00099598-0.03863231j -0.95715579+0.0897549j\n",
       "  -0.12792762+0.14417429j]\n",
       " [ 0.03864515+0.j         -0.14082938+0.13160086j -0.14082938-0.13160086j\n",
       "   0.96135485+0.j        ]]"
      ]
     },
     "execution_count": 137,
     "metadata": {},
     "output_type": "execute_result"
    }
   ],
   "source": [
    "#L_full_maker(xi_qutip, dt)\n",
    "L_full_maker(xi_qutip[-1, 0, :], dt)"
   ]
  },
  {
   "cell_type": "code",
   "execution_count": 143,
   "metadata": {
    "ExecuteTime": {
     "end_time": "2019-02-13T17:53:33.649809Z",
     "start_time": "2019-02-13T17:53:33.643618Z"
    }
   },
   "outputs": [
    {
     "data": {
      "text/plain": [
       "0.012566370614359173"
      ]
     },
     "execution_count": 143,
     "metadata": {},
     "output_type": "execute_result"
    }
   ],
   "source": [
    "2 * np.pi/500"
   ]
  },
  {
   "cell_type": "code",
   "execution_count": 145,
   "metadata": {
    "ExecuteTime": {
     "end_time": "2019-02-13T17:54:52.106352Z",
     "start_time": "2019-02-13T17:54:51.329393Z"
    }
   },
   "outputs": [
    {
     "data": {
      "text/latex": [
       "Quantum object: dims = [[2, 2], [2, 2]], shape = (4, 4), type = oper, isherm = False\\begin{equation*}\\left(\\begin{array}{*{11}c}3.516\\times10^{-05} & (0.005+0.004j) & (0.005-0.004j) & 1.000\\\\(0.005+0.004j) & (-5.798\\times10^{-06}-3.468\\times10^{-05}j) & (1.000+0.012j) & (-0.005-0.004j)\\\\(0.005-0.004j) & (1.000-0.012j) & (-5.798\\times10^{-06}+3.468\\times10^{-05}j) & (-0.005+0.004j)\\\\1.000 & (-0.005-0.004j) & (-0.005+0.004j) & 3.516\\times10^{-05}\\\\\\end{array}\\right)\\end{equation*}"
      ],
      "text/plain": [
       "Quantum object: dims = [[2, 2], [2, 2]], shape = (4, 4), type = oper, isherm = False\n",
       "Qobj data =\n",
       "[[ 3.51636624e-05+0.00000000e+00j  4.54878726e-03+3.80407155e-03j\n",
       "   4.54878726e-03-3.80407155e-03j  9.99964836e-01+0.00000000e+00j]\n",
       " [ 4.50208265e-03+3.85923279e-03j -5.79842243e-06-3.46822930e-05j\n",
       "   9.99890554e-01+1.21882754e-02j -4.50208265e-03-3.85923279e-03j]\n",
       " [ 4.50208265e-03-3.85923279e-03j  9.99890554e-01-1.21882754e-02j\n",
       "  -5.79842243e-06+3.46822930e-05j -4.50208265e-03+3.85923279e-03j]\n",
       " [ 9.99964836e-01+0.00000000e+00j -4.54878726e-03-3.80407155e-03j\n",
       "  -4.54878726e-03+3.80407155e-03j  3.51636624e-05+0.00000000e+00j]]"
      ]
     },
     "execution_count": 145,
     "metadata": {},
     "output_type": "execute_result"
    }
   ],
   "source": [
    "#L_full_maker(xi_qutip, dt)\n",
    "blah = L_full_maker(xi_qutip[-1, 0, :], (2 * np.pi/500))\n",
    "blah"
   ]
  },
  {
   "cell_type": "code",
   "execution_count": 139,
   "metadata": {
    "ExecuteTime": {
     "end_time": "2019-02-13T17:30:01.262890Z",
     "start_time": "2019-02-13T17:30:00.687190Z"
    }
   },
   "outputs": [
    {
     "data": {
      "text/plain": [
       "(<Figure size 576x432 with 2 Axes>,\n",
       " <matplotlib.axes._subplots.AxesSubplot at 0x1a1717bda0>)"
      ]
     },
     "execution_count": 139,
     "metadata": {},
     "output_type": "execute_result"
    },
    {
     "data": {
      "image/png": "[encoded data removed]",
      "text/plain": [
       "<Figure size 576x432 with 2 Axes>"
      ]
     },
     "metadata": {},
     "output_type": "display_data"
    }
   ],
   "source": [
    "hinton(T)"
   ]
  },
  {
   "cell_type": "code",
   "execution_count": 151,
   "metadata": {
    "ExecuteTime": {
     "end_time": "2019-02-13T18:00:40.832429Z",
     "start_time": "2019-02-13T18:00:40.499336Z"
    }
   },
   "outputs": [
    {
     "data": {
      "text/plain": [
       "(<Figure size 576x432 with 2 Axes>,\n",
       " <matplotlib.axes._subplots.AxesSubplot at 0x1a17b10208>)"
      ]
     },
     "execution_count": 151,
     "metadata": {},
     "output_type": "execute_result"
    },
    {
     "data": {
      "image/png": "[encoded data removed]",
      "text/plain": [
       "<Figure size 576x432 with 2 Axes>"
      ]
     },
     "metadata": {},
     "output_type": "display_data"
    }
   ],
   "source": [
    "hinton(blah/blah[0,0])"
   ]
  },
  {
   "cell_type": "code",
   "execution_count": 149,
   "metadata": {
    "ExecuteTime": {
     "end_time": "2019-02-13T17:59:25.100593Z",
     "start_time": "2019-02-13T17:59:24.771216Z"
    }
   },
   "outputs": [
    {
     "data": {
      "text/plain": [
       "(<Figure size 432x288 with 2 Axes>,\n",
       " <mpl_toolkits.mplot3d.axes3d.Axes3D at 0x1a1715d908>)"
      ]
     },
     "execution_count": 149,
     "metadata": {},
     "output_type": "execute_result"
    },
    {
     "data": {
      "image/png": "[encoded data removed]",
      "text/plain": [
       "<Figure size 432x288 with 2 Axes>"
      ]
     },
     "metadata": {},
     "output_type": "display_data"
    }
   ],
   "source": [
    "matrix_histogram(blah)"
   ]
  },
  {
   "cell_type": "code",
   "execution_count": 150,
   "metadata": {
    "ExecuteTime": {
     "end_time": "2019-02-13T17:59:59.945050Z",
     "start_time": "2019-02-13T17:59:59.746888Z"
    }
   },
   "outputs": [
    {
     "data": {
      "text/plain": [
       "(<Figure size 432x288 with 2 Axes>,\n",
       " <mpl_toolkits.mplot3d.axes3d.Axes3D at 0x1a17b95588>)"
      ]
     },
     "execution_count": 150,
     "metadata": {},
     "output_type": "execute_result"
    },
    {
     "data": {
      "image/png": "[encoded data removed]",
      "text/plain": [
       "<Figure size 432x288 with 2 Axes>"
      ]
     },
     "metadata": {},
     "output_type": "display_data"
    }
   ],
   "source": [
    "matrix_histogram(T)"
   ]
  },
  {
   "cell_type": "code",
   "execution_count": null,
   "metadata": {},
   "outputs": [],
   "source": []
  },
  {
   "cell_type": "code",
   "execution_count": 140,
   "metadata": {
    "ExecuteTime": {
     "end_time": "2019-02-13T17:30:49.720359Z",
     "start_time": "2019-02-13T17:30:49.715117Z"
    }
   },
   "outputs": [
    {
     "data": {
      "text/latex": [
       "Quantum object: dims = [[2], [2]], shape = (2, 2), type = oper, isherm = True\\begin{equation*}\\left(\\begin{array}{*{11}c}0.0 & 1.0\\\\1.0 & 0.0\\\\\\end{array}\\right)\\end{equation*}"
      ],
      "text/plain": [
       "Quantum object: dims = [[2], [2]], shape = (2, 2), type = oper, isherm = True\n",
       "Qobj data =\n",
       "[[0. 1.]\n",
       " [1. 0.]]"
      ]
     },
     "execution_count": 140,
     "metadata": {},
     "output_type": "execute_result"
    }
   ],
   "source": [
    "T_s"
   ]
  },
  {
   "cell_type": "code",
   "execution_count": null,
   "metadata": {},
   "outputs": [],
   "source": []
  },
  {
   "cell_type": "code",
   "execution_count": 141,
   "metadata": {
    "ExecuteTime": {
     "end_time": "2019-02-13T17:32:22.533721Z",
     "start_time": "2019-02-13T17:32:21.166666Z"
    }
   },
   "outputs": [
    {
     "data": {
      "text/plain": [
       "-7.849403337324857"
      ]
     },
     "execution_count": 141,
     "metadata": {},
     "output_type": "execute_result"
    }
   ],
   "source": [
    "F(xi_qutip[-1, 0, :], dt)"
   ]
  },
  {
   "cell_type": "code",
   "execution_count": 148,
   "metadata": {
    "ExecuteTime": {
     "end_time": "2019-02-13T17:57:18.693790Z",
     "start_time": "2019-02-13T17:57:17.910291Z"
    }
   },
   "outputs": [
    {
     "data": {
      "text/plain": [
       "-0.0005784388991306006"
      ]
     },
     "execution_count": 148,
     "metadata": {},
     "output_type": "execute_result"
    }
   ],
   "source": [
    "F(xi_qutip[-1, 0, :], (2*np.pi/500))"
   ]
  },
  {
   "cell_type": "code",
   "execution_count": null,
   "metadata": {},
   "outputs": [],
   "source": []
  },
  {
   "cell_type": "code",
   "execution_count": null,
   "metadata": {},
   "outputs": [],
   "source": []
  },
  {
   "cell_type": "code",
   "execution_count": null,
   "metadata": {},
   "outputs": [],
   "source": []
  },
  {
   "cell_type": "markdown",
   "metadata": {},
   "source": [
    "### Try1"
   ]
  },
  {
   "cell_type": "code",
   "execution_count": 104,
   "metadata": {
    "ExecuteTime": {
     "end_time": "2019-02-13T16:50:35.593711Z",
     "start_time": "2019-02-13T16:50:35.589659Z"
    }
   },
   "outputs": [],
   "source": [
    "total_time = pi/omega_1\n",
    "epsilon = 10**(-6)\n",
    "max_iter = 10#10**4#1000#100#50#20\n",
    "time_steps = 20\n",
    "dt = total_time/time_steps"
   ]
  },
  {
   "cell_type": "code",
   "execution_count": 105,
   "metadata": {
    "ExecuteTime": {
     "end_time": "2019-02-13T16:50:35.867472Z",
     "start_time": "2019-02-13T16:50:35.596324Z"
    }
   },
   "outputs": [
    {
     "data": {
      "text/plain": [
       "(<Figure size 576x432 with 2 Axes>,\n",
       " <matplotlib.axes._subplots.AxesSubplot at 0x1a17010a58>)"
      ]
     },
     "execution_count": 105,
     "metadata": {},
     "output_type": "execute_result"
    },
    {
     "data": {
      "image/png": "[encoded data removed]",
      "text/plain": [
       "<Figure size 576x432 with 2 Axes>"
      ]
     },
     "metadata": {},
     "output_type": "display_data"
    }
   ],
   "source": [
    "hinton(T)"
   ]
  },
  {
   "cell_type": "code",
   "execution_count": 106,
   "metadata": {
    "ExecuteTime": {
     "end_time": "2019-02-13T16:50:36.571726Z",
     "start_time": "2019-02-13T16:50:35.869507Z"
    }
   },
   "outputs": [
    {
     "data": {
      "text/plain": [
       "array([677.35845317+0.j, 798.11800551+0.j, 881.88119845+0.j,\n",
       "        28.37897987+0.j, 370.96641791+0.j, 652.47408513+0.j,\n",
       "       690.91298617+0.j, 625.63186372+0.j, 364.41946052+0.j,\n",
       "       313.83645322+0.j, 871.96106148+0.j, 765.75665394+0.j,\n",
       "       429.23857023+0.j, 937.86106005+0.j, 885.07914586+0.j,\n",
       "       122.63126095+0.j, 754.55897974+0.j, 690.16014984+0.j,\n",
       "       449.67595937+0.j,  77.994341  +0.j])"
      ]
     },
     "execution_count": 106,
     "metadata": {},
     "output_type": "execute_result"
    }
   ],
   "source": [
    "xi_opt = terminator(max_iter, time_steps, total_time, epsilon)\n",
    "xi_opt"
   ]
  },
  {
   "cell_type": "code",
   "execution_count": 107,
   "metadata": {
    "ExecuteTime": {
     "end_time": "2019-02-13T16:50:36.617986Z",
     "start_time": "2019-02-13T16:50:36.573910Z"
    }
   },
   "outputs": [
    {
     "data": {
      "text/plain": [
       "-7.999719311146443"
      ]
     },
     "execution_count": 107,
     "metadata": {},
     "output_type": "execute_result"
    }
   ],
   "source": [
    "F(xi_opt, dt)"
   ]
  },
  {
   "cell_type": "code",
   "execution_count": 108,
   "metadata": {
    "ExecuteTime": {
     "end_time": "2019-02-13T16:50:36.625044Z",
     "start_time": "2019-02-13T16:50:36.620205Z"
    }
   },
   "outputs": [
    {
     "data": {
      "text/plain": [
       "10"
      ]
     },
     "execution_count": 108,
     "metadata": {},
     "output_type": "execute_result"
    }
   ],
   "source": [
    "max_iter"
   ]
  },
  {
   "cell_type": "code",
   "execution_count": 109,
   "metadata": {
    "ExecuteTime": {
     "end_time": "2019-02-13T16:50:36.633339Z",
     "start_time": "2019-02-13T16:50:36.627913Z"
    }
   },
   "outputs": [
    {
     "data": {
      "text/latex": [
       "Quantum object: dims = [[2, 2], [2, 2]], shape = (4, 4), type = oper, isherm = True\\begin{equation*}\\left(\\begin{array}{*{11}c}0.0 & 0.0 & 0.0 & 1.0\\\\0.0 & 0.0 & 1.0 & 0.0\\\\0.0 & 1.0 & 0.0 & 0.0\\\\1.0 & 0.0 & 0.0 & 0.0\\\\\\end{array}\\right)\\end{equation*}"
      ],
      "text/plain": [
       "Quantum object: dims = [[2, 2], [2, 2]], shape = (4, 4), type = oper, isherm = True\n",
       "Qobj data =\n",
       "[[0. 0. 0. 1.]\n",
       " [0. 0. 1. 0.]\n",
       " [0. 1. 0. 0.]\n",
       " [1. 0. 0. 0.]]"
      ]
     },
     "execution_count": 109,
     "metadata": {},
     "output_type": "execute_result"
    }
   ],
   "source": [
    "T"
   ]
  },
  {
   "cell_type": "code",
   "execution_count": 110,
   "metadata": {
    "ExecuteTime": {
     "end_time": "2019-02-13T16:50:36.984151Z",
     "start_time": "2019-02-13T16:50:36.935563Z"
    }
   },
   "outputs": [
    {
     "data": {
      "text/latex": [
       "Quantum object: dims = [[2, 2], [2, 2]], shape = (4, 4), type = oper, isherm = False\\begin{equation*}\\left(\\begin{array}{*{11}c}0.886 & (0.317+0.004j) & (0.317-0.004j) & 0.114\\\\(-0.317+0.007j) & (0.886-0.006j) & (-0.113+0.004j) & (0.317-0.007j)\\\\(-0.317-0.007j) & (-0.113-0.004j) & (0.886+0.006j) & (0.317+0.007j)\\\\0.114 & (-0.317-0.004j) & (-0.317+0.004j) & 0.886\\\\\\end{array}\\right)\\end{equation*}"
      ],
      "text/plain": [
       "Quantum object: dims = [[2, 2], [2, 2]], shape = (4, 4), type = oper, isherm = False\n",
       "Qobj data =\n",
       "[[ 0.88644004+0.j          0.31724527+0.00441918j  0.31724527-0.00441918j\n",
       "   0.11355996+0.j        ]\n",
       " [-0.31720457+0.00673453j  0.88641643-0.00646984j -0.11348978+0.00399156j\n",
       "   0.31720457-0.00673453j]\n",
       " [-0.31720457-0.00673453j -0.11348978-0.00399156j  0.88641643+0.00646984j\n",
       "   0.31720457+0.00673453j]\n",
       " [ 0.11355996+0.j         -0.31724527-0.00441918j -0.31724527+0.00441918j\n",
       "   0.88644004+0.j        ]]"
      ]
     },
     "execution_count": 110,
     "metadata": {},
     "output_type": "execute_result"
    }
   ],
   "source": [
    "L_full_maker(xi_opt, dt)"
   ]
  },
  {
   "cell_type": "code",
   "execution_count": 111,
   "metadata": {
    "ExecuteTime": {
     "end_time": "2019-02-13T16:50:37.323965Z",
     "start_time": "2019-02-13T16:50:37.037195Z"
    }
   },
   "outputs": [
    {
     "data": {
      "text/plain": [
       "(<Figure size 576x432 with 2 Axes>,\n",
       " <matplotlib.axes._subplots.AxesSubplot at 0x1a1709e630>)"
      ]
     },
     "execution_count": 111,
     "metadata": {},
     "output_type": "execute_result"
    },
    {
     "data": {
      "image/png": "[encoded data removed]",
      "text/plain": [
       "<Figure size 576x432 with 2 Axes>"
      ]
     },
     "metadata": {},
     "output_type": "display_data"
    }
   ],
   "source": [
    "hinton(L_full_maker(xi_opt, dt))"
   ]
  },
  {
   "cell_type": "markdown",
   "metadata": {},
   "source": []
  },
  {
   "cell_type": "code",
   "execution_count": null,
   "metadata": {},
   "outputs": [],
   "source": []
  },
  {
   "cell_type": "code",
   "execution_count": null,
   "metadata": {},
   "outputs": [],
   "source": []
  }
 ],
 "metadata": {
  "kernelspec": {
   "display_name": "Python 3",
   "language": "python",
   "name": "python3"
  },
  "language_info": {
   "codemirror_mode": {
    "name": "ipython",
    "version": 3
   },
   "file_extension": ".py",
   "mimetype": "text/x-python",
   "name": "python",
   "nbconvert_exporter": "python",
   "pygments_lexer": "ipython3",
   "version": "3.6.8"
  },
  "toc": {
   "base_numbering": 1,
   "nav_menu": {},
   "number_sections": true,
   "sideBar": true,
   "skip_h1_title": false,
   "title_cell": "Table of Contents",
   "title_sidebar": "Contents",
   "toc_cell": false,
   "toc_position": {},
   "toc_section_display": true,
   "toc_window_display": true
  },
  "varInspector": {
   "cols": {
    "lenName": 16,
    "lenType": 16,
    "lenVar": 40
   },
   "kernels_config": {
    "python": {
     "delete_cmd_postfix": "",
     "delete_cmd_prefix": "del ",
     "library": "var_list.py",
     "varRefreshCmd": "print(var_dic_list())"
    },
    "r": {
     "delete_cmd_postfix": ") ",
     "delete_cmd_prefix": "rm(",
     "library": "var_list.r",
     "varRefreshCmd": "cat(var_dic_list()) "
    }
   },
   "types_to_exclude": [
    "module",
    "function",
    "builtin_function_or_method",
    "instance",
    "_Feature"
   ],
   "window_display": false
  }
 },
 "nbformat": 4,
 "nbformat_minor": 1
}
