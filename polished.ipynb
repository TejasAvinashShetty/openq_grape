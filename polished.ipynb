{
 "cells": [
  {
   "cell_type": "markdown",
   "metadata": {},
   "source": [
    "# Imports"
   ]
  },
  {
   "cell_type": "code",
   "execution_count": 65,
   "metadata": {
    "ExecuteTime": {
     "end_time": "2019-01-26T14:25:11.322138Z",
     "start_time": "2019-01-26T14:25:11.260255Z"
    }
   },
   "outputs": [],
   "source": [
    "\n",
    "# coding: utf-8\n",
    "\n",
    "# # Imports\n",
    "\n",
    "# ## Qutip imports 1\n",
    "\n",
    "# In[1]:\n",
    "\n",
    "\n",
    "from qutip.operators import sigmax, sigmay, sigmaz, identity\n",
    "# position, momentum, num, create, destroy, commutator, qeye \n",
    "from qutip.tensor import tensor\n",
    "from qutip.qip.gates import swap, rx, ry, rz\n",
    "from qutip.qobj import Qobj\n",
    "from qutip.visualization import hinton\n",
    "from qutip.visualization import matrix_histogram_complex, matrix_histogram\n",
    "from qutip.random_objects import rand_herm, rand_unitary, rand_dm\n",
    "\n",
    "\n",
    "# ## Qutip imports 2\n",
    "\n",
    "# In[2]:\n",
    "\n",
    "\n",
    "#from \n",
    "\n",
    "\n",
    "# ## Numpy imports \n",
    "\n",
    "# In[2]:\n",
    "\n",
    "\n",
    "from numpy import sin, cos, tan, real, imag,  log, conj\n",
    "from numpy import array, append, linspace, arange\n",
    "from numpy import add, sqrt, abs, dot\n",
    "from numpy.random import random, random_sample, rand, seed, RandomState\n",
    "from numpy import concatenate, trace, diag\n",
    "from numpy import ones, zeros, ones_like, zeros_like\n",
    "from numpy import amax, amin, nanmax, nanmin\n",
    "from numpy import outer, multiply\n",
    "# from numpy import pi\n",
    "\n",
    "\n",
    "# ## Scipy imports\n",
    "\n",
    "# In[17]:\n",
    "\n",
    "\n",
    "from scipy.integrate import ode, odeint, complex_ode\n",
    "from scipy.optimize import minimize\n",
    "from scipy.linalg import eigh, inv, norm, expm\n",
    "# from scipy.linalg import \n",
    "# from scipy import\n",
    "\n",
    "\n",
    "# ## Matplotlib imports\n",
    "\n",
    "# In[18]:\n",
    "\n",
    "\n",
    "from matplotlib.pyplot import plot, figure, show, savefig, axes\n",
    "from matplotlib.pyplot import xlabel, ylabel, title, legend\n",
    "from matplotlib import rcParams\n",
    "from matplotlib.pyplot import style \n",
    "from matplotlib.pyplot import xlim, ylim, axis \n",
    "# beware not same as axes\n",
    "from matplotlib.pyplot import subplot, subplots, text\n",
    "from matplotlib.pyplot import GridSpec\n",
    "from matplotlib.pyplot import scatter, colorbar\n",
    "\n",
    "\n",
    "pgf_with_rc_fonts = {\"pgf.texsystem\": \"pdflatex\"}\n",
    "rcParams.update(pgf_with_rc_fonts)\n",
    "style.use('seaborn-whitegrid')\n",
    "\n",
    "\n",
    "# ## Math imports\n",
    "\n",
    "# In[19]:\n",
    "\n",
    "\n",
    "from math import pi\n",
    "from math import exp\n",
    "\n",
    "\n",
    "# ## Cmath imports\n",
    "\n",
    "# ## Date and datetime imports\n",
    "\n",
    "# In[20]:\n",
    "\n",
    "\n",
    "from datetime import date\n",
    "from datetime import datetime# now\n",
    "\n",
    "\n",
    "# ## Os imports\n",
    "\n",
    "# In[21]:\n",
    "\n",
    "\n",
    "from os import getcwd, mkdir, chdir\n",
    "from os.path import abspath, join \n",
    "\n",
    "\n",
    "# ## Sympy imports\n",
    "\n",
    "# In[22]:\n",
    "\n",
    "\n",
    "from sympy import Function, dsolve, Eq, Derivative, symbols\n",
    "# x, y, z, t = symbols('x y z t')\n",
    "# k, m, n = symbols('k m n', integer=True)\n",
    "# f, g, h = symbols('f g h', cls=Function)\n",
    "\n",
    "\n",
    "# ## Miscellaneous imports\n",
    "\n",
    "# ## Extra useful functions\n",
    "\n",
    "# In[23]:\n",
    "\n",
    "\n",
    "def rint(x):\n",
    "    print(\"x = \", x)\n",
    "    return None\n",
    "\n",
    "\n",
    "# # Next chapter\n",
    "\n",
    "# ## sub topic 1\n",
    "\n",
    "# ## sub topic 2\n",
    "\n",
    "# ## sub topic 3\n",
    "\n",
    "# ### sub sub topic 1\n",
    "\n"
   ]
  },
  {
   "cell_type": "markdown",
   "metadata": {},
   "source": [
    "# Building parts"
   ]
  },
  {
   "cell_type": "markdown",
   "metadata": {},
   "source": [
    "## memory wiping"
   ]
  },
  {
   "cell_type": "code",
   "execution_count": 48,
   "metadata": {
    "ExecuteTime": {
     "end_time": "2019-01-26T13:57:45.164724Z",
     "start_time": "2019-01-26T13:57:45.145107Z"
    }
   },
   "outputs": [],
   "source": [
    " del omega_1, total_time, epsilon, max_iter, time_steps, dt"
   ]
  },
  {
   "cell_type": "code",
   "execution_count": 49,
   "metadata": {
    "ExecuteTime": {
     "end_time": "2019-01-26T13:57:48.854721Z",
     "start_time": "2019-01-26T13:57:48.847649Z"
    }
   },
   "outputs": [],
   "source": [
    "del Lin, Ti,I"
   ]
  },
  {
   "cell_type": "markdown",
   "metadata": {},
   "source": [
    "## Building the Hamiltonians"
   ]
  },
  {
   "cell_type": "code",
   "execution_count": 10,
   "metadata": {
    "ExecuteTime": {
     "end_time": "2019-01-26T09:05:38.935492Z",
     "start_time": "2019-01-26T09:05:38.932458Z"
    }
   },
   "outputs": [],
   "source": [
    "def H1(omega_1):\n",
    "    r\"\"\"Building the bare Hamiltonian\"\"\"\n",
    "    H1 = omega_1*sigmaz()\n",
    "    return H1\n"
   ]
  },
  {
   "cell_type": "code",
   "execution_count": 50,
   "metadata": {
    "ExecuteTime": {
     "end_time": "2019-01-26T13:59:58.842768Z",
     "start_time": "2019-01-26T13:59:58.835254Z"
    }
   },
   "outputs": [],
   "source": [
    "def H2():\n",
    "    r\"\"\"Building the Interaction Hamiltonian\"\"\"\n",
    "    H2 = sigmay()\n",
    "    return H2"
   ]
  },
  {
   "cell_type": "code",
   "execution_count": 51,
   "metadata": {
    "ExecuteTime": {
     "end_time": "2019-01-26T14:01:00.188678Z",
     "start_time": "2019-01-26T14:01:00.182268Z"
    }
   },
   "outputs": [],
   "source": [
    "def Hamil(omega_1, xi):\n",
    "    H = H1(omega_1) + xi*H2()\n",
    "    return H"
   ]
  },
  {
   "cell_type": "code",
   "execution_count": 52,
   "metadata": {
    "ExecuteTime": {
     "end_time": "2019-01-26T14:01:03.985272Z",
     "start_time": "2019-01-26T14:01:03.951518Z"
    }
   },
   "outputs": [
    {
     "data": {
      "text/latex": [
       "Quantum object: dims = [[2], [2]], shape = (2, 2), type = oper, isherm = True\\begin{equation*}\\left(\\begin{array}{*{11}c}2.0 & -0.500j\\\\0.500j & -2.0\\\\\\end{array}\\right)\\end{equation*}"
      ],
      "text/plain": [
       "Quantum object: dims = [[2], [2]], shape = (2, 2), type = oper, isherm = True\n",
       "Qobj data =\n",
       "[[ 2.+0.j   0.-0.5j]\n",
       " [ 0.+0.5j -2.+0.j ]]"
      ]
     },
     "execution_count": 52,
     "metadata": {},
     "output_type": "execute_result"
    }
   ],
   "source": [
    "Hamil(2, 0.5 )"
   ]
  },
  {
   "cell_type": "markdown",
   "metadata": {},
   "source": [
    "## Transforming  the Target Unitary"
   ]
  },
  {
   "cell_type": "code",
   "execution_count": 103,
   "metadata": {
    "ExecuteTime": {
     "end_time": "2019-01-27T09:39:11.982027Z",
     "start_time": "2019-01-27T09:39:11.978629Z"
    }
   },
   "outputs": [],
   "source": [
    "def T_maker(Ti):\n",
    "    r\"\"\"Moving the target from Hilbert space to Liouville space\"\"\"\n",
    "    T = tensor(Ti.trans(), Ti)\n",
    "    return T"
   ]
  },
  {
   "cell_type": "code",
   "execution_count": 56,
   "metadata": {
    "ExecuteTime": {
     "end_time": "2019-01-26T14:06:09.012313Z",
     "start_time": "2019-01-26T14:06:09.000779Z"
    }
   },
   "outputs": [
    {
     "data": {
      "text/latex": [
       "Quantum object: dims = [[2, 2, 2], [2, 2, 2]], shape = (8, 8), type = oper, isherm = True\\begin{equation*}\\left(\\begin{array}{*{11}c}0.0 & 0.0 & 0.0 & 1.0 & 0.0 & 0.0 & 0.0 & 0.0\\\\0.0 & 0.0 & 1.0 & 0.0 & 0.0 & 0.0 & 0.0 & 0.0\\\\0.0 & 1.0 & 0.0 & 0.0 & 0.0 & 0.0 & 0.0 & 0.0\\\\1.0 & 0.0 & 0.0 & 0.0 & 0.0 & 0.0 & 0.0 & 0.0\\\\0.0 & 0.0 & 0.0 & 0.0 & 0.0 & 0.0 & 0.0 & 1.0\\\\0.0 & 0.0 & 0.0 & 0.0 & 0.0 & 0.0 & 1.0 & 0.0\\\\0.0 & 0.0 & 0.0 & 0.0 & 0.0 & 1.0 & 0.0 & 0.0\\\\0.0 & 0.0 & 0.0 & 0.0 & 1.0 & 0.0 & 0.0 & 0.0\\\\\\end{array}\\right)\\end{equation*}"
      ],
      "text/plain": [
       "Quantum object: dims = [[2, 2, 2], [2, 2, 2]], shape = (8, 8), type = oper, isherm = True\n",
       "Qobj data =\n",
       "[[0. 0. 0. 1. 0. 0. 0. 0.]\n",
       " [0. 0. 1. 0. 0. 0. 0. 0.]\n",
       " [0. 1. 0. 0. 0. 0. 0. 0.]\n",
       " [1. 0. 0. 0. 0. 0. 0. 0.]\n",
       " [0. 0. 0. 0. 0. 0. 0. 1.]\n",
       " [0. 0. 0. 0. 0. 0. 1. 0.]\n",
       " [0. 0. 0. 0. 0. 1. 0. 0.]\n",
       " [0. 0. 0. 0. 1. 0. 0. 0.]]"
      ]
     },
     "execution_count": 56,
     "metadata": {},
     "output_type": "execute_result"
    }
   ],
   "source": [
    " tensor(identity(2), T_maker(sigmax()))"
   ]
  },
  {
   "cell_type": "markdown",
   "metadata": {},
   "source": [
    "## Building $A(t)$"
   ]
  },
  {
   "cell_type": "code",
   "execution_count": 75,
   "metadata": {
    "ExecuteTime": {
     "end_time": "2019-01-27T09:22:20.543347Z",
     "start_time": "2019-01-27T09:22:20.536038Z"
    }
   },
   "outputs": [],
   "source": [
    "def leftover(Lin):\n",
    "    r\"\"\"part of $A(t)$ that depends on Linbladian operators\"\"\"\n",
    "    d = Lin.shape[0]\n",
    "    I = identity(d)\n",
    "    term1 = tensor(Lin.trans(), Lin)\n",
    "    term2 = tensor(I, ((Lin.dag())*(Lin)))\n",
    "    term3 = tensor(((Lin.trans())*(Lin.conj())), I)\n",
    "    leftover = 1j*(0.1)*(term1 - 0.5*(term2 + term3))\n",
    "    return leftover\n",
    "\n",
    "\n",
    "def A(omega_1, xi, Lin):\n",
    "    r\"\"\"making $A(t)$\"\"\"\n",
    "    H = Hamil(omega_1, xi)\n",
    "    d = Lin.shape[0]\n",
    "    I = identity(d)\n",
    "    A = tensor(I, H) - tensor((H.conj()), I) + leftover(Lin)\n",
    "    return A"
   ]
  },
  {
   "cell_type": "code",
   "execution_count": 76,
   "metadata": {
    "ExecuteTime": {
     "end_time": "2019-01-27T09:22:22.824728Z",
     "start_time": "2019-01-27T09:22:22.813009Z"
    }
   },
   "outputs": [
    {
     "data": {
      "text/latex": [
       "Quantum object: dims = [[2, 2], [2, 2]], shape = (4, 4), type = oper, isherm = False\\begin{equation*}\\left(\\begin{array}{*{11}c}0.0 & -0.500j & -0.500j & 0.0\\\\0.500j & (-4.0-0.200j) & 0.0 & -0.500j\\\\0.500j & 0.0 & (4.0-0.200j) & -0.500j\\\\0.0 & 0.500j & 0.500j & 0.0\\\\\\end{array}\\right)\\end{equation*}"
      ],
      "text/plain": [
       "Quantum object: dims = [[2, 2], [2, 2]], shape = (4, 4), type = oper, isherm = False\n",
       "Qobj data =\n",
       "[[ 0.+0.j   0.-0.5j  0.-0.5j  0.+0.j ]\n",
       " [ 0.+0.5j -4.-0.2j  0.+0.j   0.-0.5j]\n",
       " [ 0.+0.5j  0.+0.j   4.-0.2j  0.-0.5j]\n",
       " [ 0.+0.j   0.+0.5j  0.+0.5j  0.+0.j ]]"
      ]
     },
     "execution_count": 76,
     "metadata": {},
     "output_type": "execute_result"
    }
   ],
   "source": [
    "A(2, 0.5, sigmaz())"
   ]
  },
  {
   "cell_type": "code",
   "execution_count": 77,
   "metadata": {
    "ExecuteTime": {
     "end_time": "2019-01-27T09:22:52.545265Z",
     "start_time": "2019-01-27T09:22:52.530523Z"
    }
   },
   "outputs": [
    {
     "data": {
      "text/latex": [
       "Quantum object: dims = [[2, 2], [2, 2]], shape = (4, 4), type = oper, isherm = False\\begin{equation*}\\left(\\begin{array}{*{11}c}0.0 & -0.500j & -0.500j & 0.0\\\\0.500j & -0.200j & 0.0 & -0.500j\\\\0.500j & 0.0 & -0.200j & -0.500j\\\\0.0 & 0.500j & 0.500j & 0.0\\\\\\end{array}\\right)\\end{equation*}"
      ],
      "text/plain": [
       "Quantum object: dims = [[2, 2], [2, 2]], shape = (4, 4), type = oper, isherm = False\n",
       "Qobj data =\n",
       "[[0.+0.j  0.-0.5j 0.-0.5j 0.+0.j ]\n",
       " [0.+0.5j 0.-0.2j 0.+0.j  0.-0.5j]\n",
       " [0.+0.5j 0.+0.j  0.-0.2j 0.-0.5j]\n",
       " [0.+0.j  0.+0.5j 0.+0.5j 0.+0.j ]]"
      ]
     },
     "execution_count": 77,
     "metadata": {},
     "output_type": "execute_result"
    }
   ],
   "source": [
    "A(0, 0.5, sigmaz())"
   ]
  },
  {
   "cell_type": "markdown",
   "metadata": {},
   "source": [
    "## Building $X_{k}$ "
   ]
  },
  {
   "cell_type": "code",
   "execution_count": 78,
   "metadata": {
    "ExecuteTime": {
     "end_time": "2019-01-27T09:23:14.060983Z",
     "start_time": "2019-01-27T09:23:14.052598Z"
    },
    "code_folding": []
   },
   "outputs": [],
   "source": [
    "def x_k(omega_1, Lin ):\n",
    "    r\"\"\"Building the derivative of $X_{k}$\"\"\"\n",
    "    d = Lin.shape[0]\n",
    "    I = identity(d)\n",
    "    x_k = tensor(I, H2()) - tensor((H2().conj()), I) #+ leftover(Lin)\n",
    "    return x_k"
   ]
  },
  {
   "cell_type": "code",
   "execution_count": 79,
   "metadata": {
    "ExecuteTime": {
     "end_time": "2019-01-27T09:23:14.995930Z",
     "start_time": "2019-01-27T09:23:14.988297Z"
    }
   },
   "outputs": [
    {
     "data": {
      "text/latex": [
       "Quantum object: dims = [[2, 2], [2, 2]], shape = (4, 4), type = oper, isherm = True\\begin{equation*}\\left(\\begin{array}{*{11}c}0.0 & -1.0j & -1.0j & 0.0\\\\1.0j & 0.0 & 0.0 & -1.0j\\\\1.0j & 0.0 & 0.0 & -1.0j\\\\0.0 & 1.0j & 1.0j & 0.0\\\\\\end{array}\\right)\\end{equation*}"
      ],
      "text/plain": [
       "Quantum object: dims = [[2, 2], [2, 2]], shape = (4, 4), type = oper, isherm = True\n",
       "Qobj data =\n",
       "[[0.+0.j 0.-1.j 0.-1.j 0.+0.j]\n",
       " [0.+1.j 0.+0.j 0.+0.j 0.-1.j]\n",
       " [0.+1.j 0.+0.j 0.+0.j 0.-1.j]\n",
       " [0.+0.j 0.+1.j 0.+1.j 0.+0.j]]"
      ]
     },
     "execution_count": 79,
     "metadata": {},
     "output_type": "execute_result"
    }
   ],
   "source": [
    "x_k(0.5, sigmaz())"
   ]
  },
  {
   "cell_type": "markdown",
   "metadata": {},
   "source": [
    "## Building $L(t)$ and the Identity in the Liouville space"
   ]
  },
  {
   "cell_type": "code",
   "execution_count": 82,
   "metadata": {
    "ExecuteTime": {
     "end_time": "2019-01-27T09:24:54.519037Z",
     "start_time": "2019-01-27T09:24:54.513621Z"
    }
   },
   "outputs": [],
   "source": [
    "def L(omega_1, xi, Lin, dt):\n",
    "    r\"\"\"Making $L(t) from $A(t)$\"\"\"\n",
    "    L = (-1j*A(omega_1, xi, Lin)*dt).expm()\n",
    "    return L"
   ]
  },
  {
   "cell_type": "code",
   "execution_count": 83,
   "metadata": {
    "ExecuteTime": {
     "end_time": "2019-01-27T09:24:55.197338Z",
     "start_time": "2019-01-27T09:24:55.185672Z"
    }
   },
   "outputs": [
    {
     "data": {
      "text/latex": [
       "Quantum object: dims = [[2, 2], [2, 2]], shape = (4, 4), type = oper, isherm = False\\begin{equation*}\\left(\\begin{array}{*{11}c}1.000 & (-0.002-9.999\\times10^{-07}j) & (-0.002+9.999\\times10^{-07}j) & 4.000\\times10^{-06}\\\\(0.002+9.999\\times10^{-07}j) & (1.000+9.998\\times10^{-04}j) & -3.999\\times10^{-06} & (-0.002-9.999\\times10^{-07}j)\\\\(0.002-9.999\\times10^{-07}j) & -3.999\\times10^{-06} & (1.000-9.998\\times10^{-04}j) & (-0.002+9.999\\times10^{-07}j)\\\\4.000\\times10^{-06} & (0.002+9.999\\times10^{-07}j) & (0.002-9.999\\times10^{-07}j) & 1.000\\\\\\end{array}\\right)\\end{equation*}"
      ],
      "text/plain": [
       "Quantum object: dims = [[2, 2], [2, 2]], shape = (4, 4), type = oper, isherm = False\n",
       "Qobj data =\n",
       "[[ 9.99996000e-01+0.00000000e+00j -1.99979435e-03-9.99865260e-07j\n",
       "  -1.99979435e-03+9.99865260e-07j  3.99972768e-06+0.00000000e+00j]\n",
       " [ 1.99979435e-03+9.99865260e-07j  9.99795521e-01+9.99797187e-04j\n",
       "  -3.99946104e-06+0.00000000e+00j -1.99979435e-03-9.99865260e-07j]\n",
       " [ 1.99979435e-03-9.99865260e-07j -3.99946104e-06+0.00000000e+00j\n",
       "   9.99795521e-01-9.99797187e-04j -1.99979435e-03+9.99865260e-07j]\n",
       " [ 3.99972768e-06+0.00000000e+00j  1.99979435e-03+9.99865260e-07j\n",
       "   1.99979435e-03-9.99865260e-07j  9.99996000e-01+0.00000000e+00j]]"
      ]
     },
     "execution_count": 83,
     "metadata": {},
     "output_type": "execute_result"
    }
   ],
   "source": [
    "L(0.5, 2, sigmaz(), 0.001)"
   ]
  },
  {
   "cell_type": "code",
   "execution_count": 84,
   "metadata": {
    "ExecuteTime": {
     "end_time": "2019-01-27T09:24:56.050894Z",
     "start_time": "2019-01-27T09:24:56.047716Z"
    }
   },
   "outputs": [],
   "source": [
    "def L_I(Ti):\n",
    "    r\"\"\"Identity in the liouville space\"\"\"\n",
    "    d = Ti.shape[0]\n",
    "    I = identity(d)\n",
    "    L_I = tensor(I, I)\n",
    "    return L_I"
   ]
  },
  {
   "cell_type": "code",
   "execution_count": 85,
   "metadata": {
    "ExecuteTime": {
     "end_time": "2019-01-27T09:24:57.215174Z",
     "start_time": "2019-01-27T09:24:57.207025Z"
    }
   },
   "outputs": [
    {
     "data": {
      "text/latex": [
       "Quantum object: dims = [[2, 2], [2, 2]], shape = (4, 4), type = oper, isherm = True\\begin{equation*}\\left(\\begin{array}{*{11}c}1.0 & 0.0 & 0.0 & 0.0\\\\0.0 & 1.0 & 0.0 & 0.0\\\\0.0 & 0.0 & 1.0 & 0.0\\\\0.0 & 0.0 & 0.0 & 1.0\\\\\\end{array}\\right)\\end{equation*}"
      ],
      "text/plain": [
       "Quantum object: dims = [[2, 2], [2, 2]], shape = (4, 4), type = oper, isherm = True\n",
       "Qobj data =\n",
       "[[1. 0. 0. 0.]\n",
       " [0. 1. 0. 0.]\n",
       " [0. 0. 1. 0.]\n",
       " [0. 0. 0. 1.]]"
      ]
     },
     "execution_count": 85,
     "metadata": {},
     "output_type": "execute_result"
    }
   ],
   "source": [
    "L_I(sigmay())"
   ]
  },
  {
   "cell_type": "markdown",
   "metadata": {},
   "source": [
    "## Major functions 1"
   ]
  },
  {
   "cell_type": "code",
   "execution_count": 86,
   "metadata": {
    "ExecuteTime": {
     "end_time": "2019-01-27T09:26:36.776521Z",
     "start_time": "2019-01-27T09:26:36.769696Z"
    }
   },
   "outputs": [],
   "source": [
    "# building the function to optimize (optimizee)\n",
    "def L_vec(omega_1, xi_vec, Lin, dt):\n",
    "    r\"\"\"Building the vector of differential $L(t)$\"\"\"\n",
    "    L_vec = [L(omega_1, xi, Lin, dt) for xi in xi_vec] \n",
    "    return L_vec"
   ]
  },
  {
   "cell_type": "code",
   "execution_count": 87,
   "metadata": {
    "ExecuteTime": {
     "end_time": "2019-01-27T09:28:02.305490Z",
     "start_time": "2019-01-27T09:28:02.301502Z"
    }
   },
   "outputs": [],
   "source": [
    "def fidelity_calc(A, B):\n",
    "    r\"\"\"Making a generalised fidelity function\"\"\"\n",
    "    d1 = A.shape[0] # Assuming no rectangular shaped matrices\n",
    "    d2 = B.shape[0] # Assuming no rectangular shaped matrices\n",
    "    d = d1*d2 # Should I normalize with this?\n",
    "    first_part = (A - B).dag()\n",
    "    second_part = (A - B)\n",
    "    f_int = (first_part* second_part)\n",
    "    f = f_int.tr()\n",
    "    return f"
   ]
  },
  {
   "cell_type": "code",
   "execution_count": 88,
   "metadata": {
    "ExecuteTime": {
     "end_time": "2019-01-27T09:29:04.136778Z",
     "start_time": "2019-01-27T09:29:04.130026Z"
    }
   },
   "outputs": [],
   "source": [
    "def L_full_maker(Ti, omega_1, xi_vec, Lin, dt):\n",
    "    r\"\"\"Building the $L(t)$ for the total time $t$\"\"\"\n",
    "    xi_vec_size = xi_vec.size # finding the size of xi\n",
    "    L_full = L_I(Ti) # Identity for the for loop of L\n",
    "    L_v = L_vec(omega_1, xi_vec, Lin, dt) # calling L_vec\n",
    "    for i in range(xi_vec_size): # generating L_full\n",
    "        L_full = L_full*L_v[xi_vec_size - 1 - i]\n",
    "    return L_full"
   ]
  },
  {
   "cell_type": "code",
   "execution_count": 89,
   "metadata": {
    "ExecuteTime": {
     "end_time": "2019-01-27T09:30:40.458330Z",
     "start_time": "2019-01-27T09:30:40.454817Z"
    }
   },
   "outputs": [],
   "source": [
    "def F(Ti, omega_1, xi_vec, Lin, dt):\n",
    "    r\"\"\"Using the fidelity metric to find out the closeness between $T$\n",
    "    and $L(t)$\"\"\"\n",
    "    L_full = L_full_maker(Ti, omega_1, xi_vec, Lin, dt)\n",
    "    T = T_maker(Ti) # Transforming $T_{i}$ to liouville space\n",
    "    F = real(-fidelity_calc(T, L_full))   \n",
    "    return F"
   ]
  },
  {
   "cell_type": "markdown",
   "metadata": {},
   "source": [
    "## Testing major functions 1"
   ]
  },
  {
   "cell_type": "code",
   "execution_count": 92,
   "metadata": {
    "ExecuteTime": {
     "end_time": "2019-01-27T09:31:22.988508Z",
     "start_time": "2019-01-27T09:31:22.977944Z"
    }
   },
   "outputs": [
    {
     "data": {
      "text/plain": [
       "4.0"
      ]
     },
     "execution_count": 92,
     "metadata": {},
     "output_type": "execute_result"
    }
   ],
   "source": [
    "fidelity_calc(sigmax(), sigmay())"
   ]
  },
  {
   "cell_type": "code",
   "execution_count": 93,
   "metadata": {
    "ExecuteTime": {
     "end_time": "2019-01-27T09:31:23.474863Z",
     "start_time": "2019-01-27T09:31:23.468572Z"
    }
   },
   "outputs": [
    {
     "data": {
      "text/plain": [
       "0.0"
      ]
     },
     "execution_count": 93,
     "metadata": {},
     "output_type": "execute_result"
    }
   ],
   "source": [
    "fidelity_calc(sigmay(), sigmay())"
   ]
  },
  {
   "cell_type": "code",
   "execution_count": 94,
   "metadata": {
    "ExecuteTime": {
     "end_time": "2019-01-27T09:31:24.024478Z",
     "start_time": "2019-01-27T09:31:24.017854Z"
    }
   },
   "outputs": [
    {
     "data": {
      "text/plain": [
       "array([1., 2.])"
      ]
     },
     "execution_count": 94,
     "metadata": {},
     "output_type": "execute_result"
    }
   ],
   "source": [
    "xi_vec_test = array([1.0, 2.0])\n",
    "xi_vec_test"
   ]
  },
  {
   "cell_type": "code",
   "execution_count": 95,
   "metadata": {
    "ExecuteTime": {
     "end_time": "2019-01-27T09:31:24.594064Z",
     "start_time": "2019-01-27T09:31:24.588905Z"
    }
   },
   "outputs": [
    {
     "data": {
      "text/plain": [
       "2"
      ]
     },
     "execution_count": 95,
     "metadata": {},
     "output_type": "execute_result"
    }
   ],
   "source": [
    "xi_vec_test.size"
   ]
  },
  {
   "cell_type": "code",
   "execution_count": 96,
   "metadata": {
    "ExecuteTime": {
     "end_time": "2019-01-27T09:31:25.088926Z",
     "start_time": "2019-01-27T09:31:25.081455Z"
    }
   },
   "outputs": [
    {
     "data": {
      "text/plain": [
       "[1.0, 4.0]"
      ]
     },
     "execution_count": 96,
     "metadata": {},
     "output_type": "execute_result"
    }
   ],
   "source": [
    "w_vec = [xi**2 for xi in xi_vec_test]\n",
    "w_vec"
   ]
  },
  {
   "cell_type": "code",
   "execution_count": 97,
   "metadata": {
    "ExecuteTime": {
     "end_time": "2019-01-27T09:31:26.498790Z",
     "start_time": "2019-01-27T09:31:26.478273Z"
    }
   },
   "outputs": [
    {
     "data": {
      "text/plain": [
       "-7.998400634493139"
      ]
     },
     "execution_count": 97,
     "metadata": {},
     "output_type": "execute_result"
    }
   ],
   "source": [
    "# F(Ti, omega_1, xi_vec, Lin, dt)\n",
    "F(sigmax(), 0.5 , xi_vec_test, sigmaz(), 0.001)"
   ]
  },
  {
   "cell_type": "markdown",
   "metadata": {},
   "source": [
    "## Major Functions 2"
   ]
  },
  {
   "cell_type": "code",
   "execution_count": 101,
   "metadata": {
    "ExecuteTime": {
     "end_time": "2019-01-27T09:37:00.664969Z",
     "start_time": "2019-01-27T09:37:00.660677Z"
    }
   },
   "outputs": [],
   "source": [
    "def L_comma_k_maker(Ti, omega_1, xi_vec, k, Lin, dt):\n",
    "    r\"\"\"Making of the derivative of full $L(t)$ at time $t_{k}$\"\"\"\n",
    "    N = xi_vec.size \n",
    "    # Determining the size of xi, and thus the time_steps indirectly.\n",
    "    L_v = L_vec(omega_1, xi_vec, Lin, dt)# Making of the full $L(t)$\n",
    "    inner_part = L_I(Ti) # Beginner for the for loop\n",
    "    for i in range(N):\n",
    "        if i == ( N - 1 - k ):\n",
    "            # The step at which $X_{k}(t)$ has to be inserted \n",
    "            inner_part = inner_part*x_k(omega_1, Lin )*L_v[k - 1]\n",
    "        else:\n",
    "            # Usual multiplications of $L_{k}$\n",
    "            inner_part = inner_part*L_v[N - 1 - i]\n",
    "    l_comma_k = inner_part\n",
    "    return l_comma_k\n",
    "    "
   ]
  },
  {
   "cell_type": "code",
   "execution_count": 102,
   "metadata": {
    "ExecuteTime": {
     "end_time": "2019-01-27T09:37:01.568257Z",
     "start_time": "2019-01-27T09:37:01.550903Z"
    }
   },
   "outputs": [
    {
     "data": {
      "text/latex": [
       "Quantum object: dims = [[2, 2], [2, 2]], shape = (4, 4), type = oper, isherm = False\\begin{equation*}\\left(\\begin{array}{*{11}c}1.000 & (-0.003-3.499\\times10^{-06}j) & (-0.003+3.499\\times10^{-06}j) & 8.999\\times10^{-06}\\\\(0.003+2.499\\times10^{-06}j) & (1.000+0.002j) & (-8.998\\times10^{-06}+2.999\\times10^{-09}j) & (-0.003-2.499\\times10^{-06}j)\\\\(0.003-2.499\\times10^{-06}j) & (-8.998\\times10^{-06}-2.999\\times10^{-09}j) & (1.000-0.002j) & (-0.003+2.499\\times10^{-06}j)\\\\8.999\\times10^{-06} & (0.003+3.499\\times10^{-06}j) & (0.003-3.499\\times10^{-06}j) & 1.000\\\\\\end{array}\\right)\\end{equation*}"
      ],
      "text/plain": [
       "Quantum object: dims = [[2, 2], [2, 2]], shape = (4, 4), type = oper, isherm = False\n",
       "Qobj data =\n",
       "[[ 9.99991001e-01+0.00000000e+00j -2.99927960e-03-3.49898670e-06j\n",
       "  -2.99927960e-03+3.49898670e-06j  8.99883703e-06+0.00000000e+00j]\n",
       " [ 2.99948056e-03+2.49939255e-06j  9.99589083e-01+1.99918650e-03j\n",
       "  -8.99750347e-06+2.99899242e-09j -2.99948056e-03-2.49939255e-06j]\n",
       " [ 2.99948056e-03-2.49939255e-06j -8.99750347e-06-2.99899242e-09j\n",
       "   9.99589083e-01-1.99918650e-03j -2.99948056e-03+2.49939255e-06j]\n",
       " [ 8.99883703e-06+0.00000000e+00j  2.99927960e-03+3.49898670e-06j\n",
       "   2.99927960e-03-3.49898670e-06j  9.99991001e-01+0.00000000e+00j]]"
      ]
     },
     "execution_count": 102,
     "metadata": {},
     "output_type": "execute_result"
    }
   ],
   "source": [
    "#L_comma_k_maker(Ti, omega_1, xi_vec, k, Lin, dt)\n",
    "L_comma_k_maker(sigmax(), 0.5 , xi_vec_test, 2, sigmaz(), 0.001)"
   ]
  },
  {
   "cell_type": "code",
   "execution_count": 100,
   "metadata": {
    "ExecuteTime": {
     "end_time": "2019-01-27T09:31:57.752700Z",
     "start_time": "2019-01-27T09:31:57.746439Z"
    }
   },
   "outputs": [],
   "source": [
    "def updater(Ti, omega_1, xi_vec, Lin, dt):\n",
    "    r\"\"\"Implementing the GRAPE update step\"\"\"\n",
    "    xi_vec_size = xi_vec.size # finding the size of xi\n",
    "    T = T_maker(Ti) # Transforming $T_{i}$ to liouville space\n",
    "    L_full = L_full_maker(Ti, omega_1, xi_vec, Lin, dt)\n",
    "    di = []\n",
    "    for k in range(xi_vec_size):\n",
    "        # Building the thing to be added to the old function\n",
    "        L_comma_k = L_comma_k_maker(Ti, omega_1, xi_vec, k, Lin, dt)\n",
    "        differentiated = T - L_comma_k\n",
    "        plain = T - L_full\n",
    "        c = differentiated.dag()*plain\n",
    "        d = plain.dag()*differentiated\n",
    "        inside = c.tr() + d.tr()\n",
    "        di.append(epsilon*inside)\n",
    "\n",
    "    diff = array(di)\n",
    "    xi_new_vec = xi_vec + diff\n",
    "    return diff, xi_new_vec\n",
    "    "
   ]
  },
  {
   "cell_type": "code",
   "execution_count": 41,
   "metadata": {
    "ExecuteTime": {
     "end_time": "2019-01-26T09:05:47.933046Z",
     "start_time": "2019-01-26T09:05:47.898926Z"
    }
   },
   "outputs": [
    {
     "ename": "NameError",
     "evalue": "name 'epsilon' is not defined",
     "output_type": "error",
     "traceback": [
      "\u001b[0;31m---------------------------------------------------------------------------\u001b[0m",
      "\u001b[0;31mNameError\u001b[0m                                 Traceback (most recent call last)",
      "\u001b[0;32m<ipython-input-41-8fffc312f438>\u001b[0m in \u001b[0;36m<module>\u001b[0;34m()\u001b[0m\n\u001b[1;32m      1\u001b[0m \u001b[0;31m#  updater(Ti, omega_1, xi_vec, Lin, dt)\u001b[0m\u001b[0;34m\u001b[0m\u001b[0;34m\u001b[0m\u001b[0;34m\u001b[0m\u001b[0m\n\u001b[0;32m----> 2\u001b[0;31m \u001b[0mupdater\u001b[0m\u001b[0;34m(\u001b[0m\u001b[0msigmax\u001b[0m\u001b[0;34m(\u001b[0m\u001b[0;34m)\u001b[0m\u001b[0;34m,\u001b[0m \u001b[0;36m0.5\u001b[0m \u001b[0;34m,\u001b[0m \u001b[0mxi_vec_test\u001b[0m\u001b[0;34m,\u001b[0m \u001b[0msigmaz\u001b[0m\u001b[0;34m(\u001b[0m\u001b[0;34m)\u001b[0m\u001b[0;34m,\u001b[0m \u001b[0;36m0.001\u001b[0m\u001b[0;34m)\u001b[0m\u001b[0;34m\u001b[0m\u001b[0;34m\u001b[0m\u001b[0m\n\u001b[0m",
      "\u001b[0;32m<ipython-input-40-4b39b877af56>\u001b[0m in \u001b[0;36mupdater\u001b[0;34m(Ti, omega_1, xi_vec, Lin, dt)\u001b[0m\n\u001b[1;32m     12\u001b[0m         \u001b[0md\u001b[0m \u001b[0;34m=\u001b[0m \u001b[0mplain\u001b[0m\u001b[0;34m.\u001b[0m\u001b[0mdag\u001b[0m\u001b[0;34m(\u001b[0m\u001b[0;34m)\u001b[0m\u001b[0;34m*\u001b[0m\u001b[0mdifferentiated\u001b[0m\u001b[0;34m\u001b[0m\u001b[0;34m\u001b[0m\u001b[0m\n\u001b[1;32m     13\u001b[0m         \u001b[0minside\u001b[0m \u001b[0;34m=\u001b[0m \u001b[0mc\u001b[0m\u001b[0;34m.\u001b[0m\u001b[0mtr\u001b[0m\u001b[0;34m(\u001b[0m\u001b[0;34m)\u001b[0m \u001b[0;34m+\u001b[0m \u001b[0md\u001b[0m\u001b[0;34m.\u001b[0m\u001b[0mtr\u001b[0m\u001b[0;34m(\u001b[0m\u001b[0;34m)\u001b[0m\u001b[0;34m\u001b[0m\u001b[0;34m\u001b[0m\u001b[0m\n\u001b[0;32m---> 14\u001b[0;31m         \u001b[0mdi\u001b[0m\u001b[0;34m.\u001b[0m\u001b[0mappend\u001b[0m\u001b[0;34m(\u001b[0m\u001b[0mepsilon\u001b[0m\u001b[0;34m*\u001b[0m\u001b[0minside\u001b[0m\u001b[0;34m)\u001b[0m\u001b[0;34m\u001b[0m\u001b[0;34m\u001b[0m\u001b[0m\n\u001b[0m\u001b[1;32m     15\u001b[0m \u001b[0;34m\u001b[0m\u001b[0m\n\u001b[1;32m     16\u001b[0m     \u001b[0mdiff\u001b[0m \u001b[0;34m=\u001b[0m \u001b[0marray\u001b[0m\u001b[0;34m(\u001b[0m\u001b[0mdi\u001b[0m\u001b[0;34m)\u001b[0m\u001b[0;34m\u001b[0m\u001b[0;34m\u001b[0m\u001b[0m\n",
      "\u001b[0;31mNameError\u001b[0m: name 'epsilon' is not defined"
     ]
    }
   ],
   "source": [
    "#  updater(Ti, omega_1, xi_vec, Lin, dt)\n",
    "updater(sigmax(), 0.5 , xi_vec_test, sigmaz(), 0.001)"
   ]
  },
  {
   "cell_type": "code",
   "execution_count": 42,
   "metadata": {
    "ExecuteTime": {
     "end_time": "2019-01-26T09:05:48.175697Z",
     "start_time": "2019-01-26T09:05:48.171272Z"
    },
    "code_folding": []
   },
   "outputs": [],
   "source": [
    "def terminator(max_iter, time_steps, Ti, omega_1, Lin, total_time):\n",
    "    r\"\"\"Brief description of the function\"\"\"\n",
    "    \n",
    "    xi_initial =  1000*random_sample((time_steps,))\n",
    "    dt = total_time/time_steps\n",
    "    xi_diff, xi_new_vec = updater(Ti, omega_1, xi_initial, Lin, dt)\n",
    "    \n",
    "    #xi_diff = xi_new_vec - xi_initial\n",
    "    for i in range(max_iter):\n",
    "        if amax(xi_diff) < epsilon**2 :\n",
    "            xi_final = xi_new_vec\n",
    "            break\n",
    "        else :\n",
    "            xi_diff, xi_new_vec = updater(Ti, omega_1, xi_new_vec, Lin, dt)\n",
    "            print(i)\n",
    "            print(amax(xi_diff))\n",
    "            \n",
    "        \n",
    "    xi_final = xi_new_vec    \n",
    "    return xi_final"
   ]
  },
  {
   "cell_type": "code",
   "execution_count": 43,
   "metadata": {
    "ExecuteTime": {
     "end_time": "2019-01-26T09:05:48.449707Z",
     "start_time": "2019-01-26T09:05:48.444275Z"
    }
   },
   "outputs": [],
   "source": [
    "omega_1 = 0.5\n",
    "total_time = pi/omega_1\n",
    "epsilon = 10**(-6)\n",
    "max_iter = 10#10**4#1000#100#50#20\n",
    "time_steps = 20\n",
    "dt = total_time/time_steps"
   ]
  },
  {
   "cell_type": "code",
   "execution_count": 44,
   "metadata": {
    "ExecuteTime": {
     "end_time": "2019-01-26T09:05:48.703629Z",
     "start_time": "2019-01-26T09:05:48.700613Z"
    }
   },
   "outputs": [],
   "source": [
    "Lin = sigmaz() # Lindbladian"
   ]
  },
  {
   "cell_type": "code",
   "execution_count": 45,
   "metadata": {
    "ExecuteTime": {
     "end_time": "2019-01-26T09:05:48.985449Z",
     "start_time": "2019-01-26T09:05:48.982269Z"
    }
   },
   "outputs": [],
   "source": [
    "Ti = sigmax() # Target unitary"
   ]
  },
  {
   "cell_type": "code",
   "execution_count": 46,
   "metadata": {
    "ExecuteTime": {
     "end_time": "2019-01-26T09:06:07.913486Z",
     "start_time": "2019-01-26T09:05:49.264216Z"
    }
   },
   "outputs": [
    {
     "name": "stdout",
     "output_type": "stream",
     "text": [
      "0\n",
      "(6.568820878237062e-06+0j)\n",
      "1\n",
      "(6.568820909421449e-06+0j)\n",
      "2\n",
      "(6.568820940607236e-06+0j)\n",
      "3\n",
      "(6.56882097179551e-06+0j)\n",
      "4\n",
      "(6.568821002985679e-06+0j)\n",
      "5\n",
      "(6.568821034177373e-06+0j)\n",
      "6\n",
      "(6.568821065371374e-06+0j)\n",
      "7\n",
      "(6.56882109656741e-06+0j)\n",
      "8\n",
      "(6.568821127764933e-06+0j)\n",
      "9\n",
      "(6.568821158964899e-06+0j)\n"
     ]
    },
    {
     "data": {
      "text/plain": [
       "array([649.36894964+0.j, 419.63985958+0.j, 916.32428814+0.j,\n",
       "       266.52013209+0.j, 741.90024088+0.j, 439.41472028+0.j,\n",
       "       679.56274981+0.j, 535.96433696+0.j, 446.91610039+0.j,\n",
       "       247.12376243+0.j, 420.91601088+0.j, 710.65534935+0.j,\n",
       "       740.95452639+0.j, 636.66686645+0.j, 329.584046  +0.j,\n",
       "       423.10814406+0.j,  83.54667362+0.j,  65.91867922+0.j,\n",
       "       977.95417182+0.j, 688.11167911+0.j])"
      ]
     },
     "execution_count": 46,
     "metadata": {},
     "output_type": "execute_result"
    }
   ],
   "source": [
    "# terminator(20, 20, Ti, omega_1, Lin, total_time)\n",
    "xi_opt = terminator(max_iter, time_steps, Ti, omega_1, Lin, total_time)\n",
    "xi_opt"
   ]
  },
  {
   "cell_type": "code",
   "execution_count": 47,
   "metadata": {
    "ExecuteTime": {
     "end_time": "2019-01-26T09:06:08.020720Z",
     "start_time": "2019-01-26T09:06:07.916950Z"
    }
   },
   "outputs": [
    {
     "data": {
      "text/plain": [
       "-4.219038388065628"
      ]
     },
     "execution_count": 47,
     "metadata": {},
     "output_type": "execute_result"
    }
   ],
   "source": [
    "F(Ti, omega_1, xi_opt, Lin, dt)"
   ]
  },
  {
   "cell_type": "code",
   "execution_count": 54,
   "metadata": {
    "ExecuteTime": {
     "end_time": "2019-01-26T08:57:51.786742Z",
     "start_time": "2019-01-26T08:57:51.781609Z"
    }
   },
   "outputs": [
    {
     "data": {
      "text/plain": [
       "10"
      ]
     },
     "execution_count": 54,
     "metadata": {},
     "output_type": "execute_result"
    }
   ],
   "source": [
    "max_iter"
   ]
  },
  {
   "cell_type": "code",
   "execution_count": 55,
   "metadata": {
    "ExecuteTime": {
     "end_time": "2019-01-26T08:57:51.798791Z",
     "start_time": "2019-01-26T08:57:51.792238Z"
    }
   },
   "outputs": [
    {
     "data": {
      "text/latex": [
       "Quantum object: dims = [[2, 2], [2, 2]], shape = (4, 4), type = oper, isherm = True\\begin{equation*}\\left(\\begin{array}{*{11}c}0.0 & 0.0 & 0.0 & 1.0\\\\0.0 & 0.0 & 1.0 & 0.0\\\\0.0 & 1.0 & 0.0 & 0.0\\\\1.0 & 0.0 & 0.0 & 0.0\\\\\\end{array}\\right)\\end{equation*}"
      ],
      "text/plain": [
       "Quantum object: dims = [[2, 2], [2, 2]], shape = (4, 4), type = oper, isherm = True\n",
       "Qobj data =\n",
       "[[0. 0. 0. 1.]\n",
       " [0. 0. 1. 0.]\n",
       " [0. 1. 0. 0.]\n",
       " [1. 0. 0. 0.]]"
      ]
     },
     "execution_count": 55,
     "metadata": {},
     "output_type": "execute_result"
    }
   ],
   "source": [
    "T = T_maker(Ti)\n",
    "T"
   ]
  },
  {
   "cell_type": "code",
   "execution_count": 56,
   "metadata": {
    "ExecuteTime": {
     "end_time": "2019-01-26T08:57:51.902194Z",
     "start_time": "2019-01-26T08:57:51.800875Z"
    }
   },
   "outputs": [
    {
     "data": {
      "text/latex": [
       "Quantum object: dims = [[2, 2], [2, 2]], shape = (4, 4), type = oper, isherm = False\\begin{equation*}\\left(\\begin{array}{*{11}c}0.692 & (0.185-7.410\\times10^{-04}j) & (0.185+7.410\\times10^{-04}j) & 0.308\\\\(-0.185-1.157\\times10^{-04}j) & (0.335-0.002j) & (0.050-6.903\\times10^{-04}j) & (0.185+1.157\\times10^{-04}j)\\\\(-0.185+1.157\\times10^{-04}j) & (0.050+6.903\\times10^{-04}j) & (0.335+0.002j) & (0.185-1.157\\times10^{-04}j)\\\\0.308 & (-0.185+7.410\\times10^{-04}j) & (-0.185-7.410\\times10^{-04}j) & 0.692\\\\\\end{array}\\right)\\end{equation*}"
      ],
      "text/plain": [
       "Quantum object: dims = [[2, 2], [2, 2]], shape = (4, 4), type = oper, isherm = False\n",
       "Qobj data =\n",
       "[[ 0.69221572+0.j          0.18504599-0.00074103j  0.18504599+0.00074103j\n",
       "   0.30778428+0.j        ]\n",
       " [-0.18473426-0.00011568j  0.33461975-0.00187943j  0.05001153-0.00069032j\n",
       "   0.18473426+0.00011568j]\n",
       " [-0.18473426+0.00011568j  0.05001153+0.00069032j  0.33461975+0.00187943j\n",
       "   0.18473426-0.00011568j]\n",
       " [ 0.30778428+0.j         -0.18504599+0.00074103j -0.18504599-0.00074103j\n",
       "   0.69221572+0.j        ]]"
      ]
     },
     "execution_count": 56,
     "metadata": {},
     "output_type": "execute_result"
    }
   ],
   "source": [
    "L_full_maker(Ti, omega_1, xi_opt, Lin, dt)"
   ]
  },
  {
   "cell_type": "code",
   "execution_count": 57,
   "metadata": {
    "ExecuteTime": {
     "end_time": "2019-01-26T08:57:52.465181Z",
     "start_time": "2019-01-26T08:57:51.904755Z"
    }
   },
   "outputs": [
    {
     "data": {
      "text/plain": [
       "(<Figure size 576x432 with 2 Axes>,\n",
       " <matplotlib.axes._subplots.AxesSubplot at 0x109b59a20>)"
      ]
     },
     "execution_count": 57,
     "metadata": {},
     "output_type": "execute_result"
    },
    {
     "data": {
      "image/png": "[encoded data removed]",
      "text/plain": [
       "<Figure size 576x432 with 2 Axes>"
      ]
     },
     "metadata": {},
     "output_type": "display_data"
    }
   ],
   "source": [
    "hinton(L_full_maker(Ti, omega_1, xi_opt, Lin, dt))"
   ]
  },
  {
   "cell_type": "markdown",
   "metadata": {},
   "source": []
  },
  {
   "cell_type": "code",
   "execution_count": 58,
   "metadata": {
    "ExecuteTime": {
     "end_time": "2019-01-26T08:57:52.472749Z",
     "start_time": "2019-01-26T08:57:52.467815Z"
    }
   },
   "outputs": [
    {
     "data": {
      "text/plain": [
       "1.31350478e-05"
      ]
     },
     "execution_count": 58,
     "metadata": {},
     "output_type": "execute_result"
    }
   ],
   "source": [
    "1.31350478e-05 # 40"
   ]
  },
  {
   "cell_type": "code",
   "execution_count": 59,
   "metadata": {
    "ExecuteTime": {
     "end_time": "2019-01-26T08:57:52.481420Z",
     "start_time": "2019-01-26T08:57:52.475147Z"
    }
   },
   "outputs": [
    {
     "data": {
      "text/plain": [
       "1.31390107e-05"
      ]
     },
     "execution_count": 59,
     "metadata": {},
     "output_type": "execute_result"
    }
   ],
   "source": [
    "1.31390107e-05 # 50"
   ]
  },
  {
   "cell_type": "code",
   "execution_count": 14,
   "metadata": {
    "ExecuteTime": {
     "end_time": "2019-01-22T12:54:09.289486Z",
     "start_time": "2019-01-22T12:54:09.286073Z"
    }
   },
   "outputs": [],
   "source": [
    "α = 2"
   ]
  },
  {
   "cell_type": "code",
   "execution_count": 15,
   "metadata": {
    "ExecuteTime": {
     "end_time": "2019-01-22T12:54:09.304573Z",
     "start_time": "2019-01-22T12:54:09.292309Z"
    }
   },
   "outputs": [
    {
     "ename": "NameError",
     "evalue": "name 'random_sample' is not defined",
     "output_type": "error",
     "traceback": [
      "\u001b[0;31m---------------------------------------------------------------------------\u001b[0m",
      "\u001b[0;31mNameError\u001b[0m                                 Traceback (most recent call last)",
      "\u001b[0;32m<ipython-input-15-e03955631bdf>\u001b[0m in \u001b[0;36m<module>\u001b[0;34m()\u001b[0m\n\u001b[0;32m----> 1\u001b[0;31m \u001b[0mnew_array\u001b[0m \u001b[0;34m=\u001b[0m \u001b[0mrandom_sample\u001b[0m\u001b[0;34m(\u001b[0m\u001b[0;34m(\u001b[0m\u001b[0;36m4\u001b[0m\u001b[0;34m,\u001b[0m\u001b[0;36m3\u001b[0m\u001b[0;34m,\u001b[0m\u001b[0;34m)\u001b[0m\u001b[0;34m)\u001b[0m\u001b[0;34m\u001b[0m\u001b[0;34m\u001b[0m\u001b[0m\n\u001b[0m",
      "\u001b[0;31mNameError\u001b[0m: name 'random_sample' is not defined"
     ]
    }
   ],
   "source": [
    "new_array = random_sample((4,3,))"
   ]
  },
  {
   "cell_type": "code",
   "execution_count": null,
   "metadata": {
    "ExecuteTime": {
     "end_time": "2019-01-22T12:54:09.305812Z",
     "start_time": "2019-01-22T12:54:09.273Z"
    }
   },
   "outputs": [],
   "source": [
    "new_array"
   ]
  },
  {
   "cell_type": "code",
   "execution_count": null,
   "metadata": {
    "ExecuteTime": {
     "end_time": "2019-01-22T12:54:09.307248Z",
     "start_time": "2019-01-22T12:54:09.276Z"
    }
   },
   "outputs": [],
   "source": [
    "new_array.any()"
   ]
  },
  {
   "cell_type": "code",
   "execution_count": null,
   "metadata": {
    "ExecuteTime": {
     "end_time": "2019-01-22T12:54:09.313592Z",
     "start_time": "2019-01-22T12:54:09.279Z"
    }
   },
   "outputs": [],
   "source": [
    "new_array[0] = 0\n"
   ]
  },
  {
   "cell_type": "code",
   "execution_count": null,
   "metadata": {
    "ExecuteTime": {
     "end_time": "2019-01-22T12:54:09.322354Z",
     "start_time": "2019-01-22T12:54:09.284Z"
    }
   },
   "outputs": [],
   "source": [
    "new_array"
   ]
  },
  {
   "cell_type": "code",
   "execution_count": null,
   "metadata": {
    "ExecuteTime": {
     "end_time": "2019-01-22T12:54:09.323425Z",
     "start_time": "2019-01-22T12:54:09.287Z"
    }
   },
   "outputs": [],
   "source": [
    "new_array.any()"
   ]
  },
  {
   "cell_type": "code",
   "execution_count": null,
   "metadata": {
    "ExecuteTime": {
     "end_time": "2019-01-22T12:54:09.324600Z",
     "start_time": "2019-01-22T12:54:09.290Z"
    }
   },
   "outputs": [],
   "source": [
    "new_array.all()"
   ]
  },
  {
   "cell_type": "code",
   "execution_count": null,
   "metadata": {
    "ExecuteTime": {
     "end_time": "2019-01-22T12:54:09.329873Z",
     "start_time": "2019-01-22T12:54:09.292Z"
    }
   },
   "outputs": [],
   "source": [
    "max(new_array)"
   ]
  },
  {
   "cell_type": "code",
   "execution_count": null,
   "metadata": {
    "ExecuteTime": {
     "end_time": "2019-01-22T12:54:09.339003Z",
     "start_time": "2019-01-22T12:54:09.295Z"
    }
   },
   "outputs": [],
   "source": [
    "max(new_array, axis=0)"
   ]
  },
  {
   "cell_type": "code",
   "execution_count": null,
   "metadata": {
    "ExecuteTime": {
     "end_time": "2019-01-22T12:54:09.340362Z",
     "start_time": "2019-01-22T12:54:09.301Z"
    }
   },
   "outputs": [],
   "source": [
    "from numpy import amax "
   ]
  },
  {
   "cell_type": "code",
   "execution_count": null,
   "metadata": {
    "ExecuteTime": {
     "end_time": "2019-01-22T12:54:09.342531Z",
     "start_time": "2019-01-22T12:54:09.305Z"
    }
   },
   "outputs": [],
   "source": [
    "amax(new_array)"
   ]
  },
  {
   "cell_type": "code",
   "execution_count": null,
   "metadata": {},
   "outputs": [],
   "source": []
  }
 ],
 "metadata": {
  "kernelspec": {
   "display_name": "Python 3",
   "language": "python",
   "name": "python3"
  },
  "language_info": {
   "codemirror_mode": {
    "name": "ipython",
    "version": 3
   },
   "file_extension": ".py",
   "mimetype": "text/x-python",
   "name": "python",
   "nbconvert_exporter": "python",
   "pygments_lexer": "ipython3",
   "version": "3.6.8"
  },
  "toc": {
   "base_numbering": 1,
   "nav_menu": {},
   "number_sections": true,
   "sideBar": true,
   "skip_h1_title": false,
   "title_cell": "Table of Contents",
   "title_sidebar": "Contents",
   "toc_cell": false,
   "toc_position": {},
   "toc_section_display": true,
   "toc_window_display": false
  }
 },
 "nbformat": 4,
 "nbformat_minor": 2
}
