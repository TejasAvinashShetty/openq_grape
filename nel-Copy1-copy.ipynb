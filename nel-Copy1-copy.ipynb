{
 "cells": [
  {
   "cell_type": "markdown",
   "metadata": {},
   "source": [
    "# Imports"
   ]
  },
  {
   "cell_type": "markdown",
   "metadata": {},
   "source": [
    "Need to have jate.py in your folder"
   ]
  },
  {
   "cell_type": "code",
   "execution_count": 102,
   "metadata": {
    "ExecuteTime": {
     "end_time": "2019-02-06T06:48:54.869592Z",
     "start_time": "2019-02-06T06:48:53.201245Z"
    }
   },
   "outputs": [],
   "source": [
    "%run jate.py #will import everything"
   ]
  },
  {
   "cell_type": "markdown",
   "metadata": {},
   "source": [
    "# The code"
   ]
  },
  {
   "cell_type": "markdown",
   "metadata": {},
   "source": [
    "## memory wiping"
   ]
  },
  {
   "cell_type": "code",
   "execution_count": 103,
   "metadata": {
    "ExecuteTime": {
     "end_time": "2019-02-06T06:48:54.874726Z",
     "start_time": "2019-02-06T06:48:54.871465Z"
    }
   },
   "outputs": [],
   "source": [
    "%reset_selective -f  omega_1, total_time, epsilon, max_iter, time_steps, dt"
   ]
  },
  {
   "cell_type": "code",
   "execution_count": 104,
   "metadata": {
    "ExecuteTime": {
     "end_time": "2019-02-06T06:48:55.070911Z",
     "start_time": "2019-02-06T06:48:55.067014Z"
    }
   },
   "outputs": [],
   "source": [
    "%reset_selective -f  Lin, T_s, I"
   ]
  },
  {
   "cell_type": "markdown",
   "metadata": {},
   "source": [
    "## Building parts"
   ]
  },
  {
   "cell_type": "markdown",
   "metadata": {},
   "source": [
    "### Building the things to be calculated only once"
   ]
  },
  {
   "cell_type": "code",
   "execution_count": 105,
   "metadata": {
    "ExecuteTime": {
     "end_time": "2019-02-06T06:48:58.768575Z",
     "start_time": "2019-02-06T06:48:58.757795Z"
    },
    "code_folding": []
   },
   "outputs": [],
   "source": [
    "def maker(omega_1, H_0, H_1, T_s, Lin, d=2, gamma=0.1):\n",
    "    r\"\"\"maker\n",
    "    Makes all the things that remain constant throught the program, but are \n",
    "    repeatedly used.\n",
    "    \n",
    "\n",
    "    Parameters\n",
    "    ----------\n",
    "    omega_1 : float\n",
    "              frequency corresponding to half of the difference between \n",
    "              energy levels of the qubit\n",
    "              \n",
    "    H_0     : Qobj\n",
    "              Bare Hamiltonian \n",
    "              \n",
    "    H_1     : Qobj\n",
    "              Interaction Hamiltonian \n",
    "              \n",
    "    T_s     : Qobj\n",
    "              Unitary to be implemented in the Hilbert space\n",
    "    \n",
    "    Lin     : Qobj\n",
    "              Linbladian operators\n",
    "\n",
    "    d       : int\n",
    "              Dimension of the matrix. Defaults to 2\n",
    "    \n",
    "    gamma   : float\n",
    "              Damping constantof the Linbladian\n",
    "\n",
    "    \n",
    "    Returns\n",
    "    -------\n",
    "    \n",
    "    ih0     : Qobj\n",
    "              $I\\otimes H_{0}$\n",
    "              \n",
    "    ih1     : Qobj\n",
    "              $I\\otimes H_{1}$\n",
    "\n",
    "    h0ci    : Qobj\n",
    "              $H_{0}^{*}\\otimes I $\n",
    "\n",
    "    h1ci    : Qobj\n",
    "              $H_{1}^{*}\\otimes I $\n",
    "\n",
    "    T       : Qobj\n",
    "              Target unitary transformed to the Liouville space\n",
    "\n",
    "    linbladian : Qobj\n",
    "                 The full lindbladian term as it appears on transformation to \n",
    "                 the Liouville space.\n",
    "        \n",
    "    \"\"\"\n",
    "    I = identity(d)\n",
    "    L_I = tensor(I, I)\n",
    "    ih0 = tensor(I, H_0) \n",
    "    ih1 = tensor(I, H_1) \n",
    "    h0ci = tensor(H_0.conj(), I) \n",
    "    h1ci = tensor(H_1.conj(), I)\n",
    "    x_k = ih1 - h1ci\n",
    "    term1 = tensor(Lin.trans(), Lin)\n",
    "    term2 = tensor(I, ((Lin.dag())*(Lin)))\n",
    "    term3 = tensor(((Lin.trans())*(Lin.conj())), I)\n",
    "    lindbladian = 1j*(gamma)*(term1 - 0.5*(term2 + term3))\n",
    "    T = tensor(T_s.trans(), T_s) # Transforming $T_{s}$ to liouville space\n",
    "    \n",
    "    \n",
    "    return ih0, ih1, h0ci, h1ci, x_k, lindbladian, T, L_I"
   ]
  },
  {
   "cell_type": "code",
   "execution_count": 106,
   "metadata": {
    "ExecuteTime": {
     "end_time": "2019-02-06T06:49:00.808023Z",
     "start_time": "2019-02-06T06:49:00.797020Z"
    }
   },
   "outputs": [],
   "source": [
    "omega_1 = 0.5\n",
    "H_0 = sigmaz() \n",
    "H_1 = sigmay()\n",
    "T_s = sigmax() \n",
    "Lin = sigmaz()\n",
    "ih0, ih1, h0ci, h1ci, x_k, lindbladian, T, L_I  = maker(omega_1,\n",
    "                                                  H_0, H_1, T_s, \n",
    "                                                  Lin, d=2, gamma=0.1)"
   ]
  },
  {
   "cell_type": "code",
   "execution_count": 107,
   "metadata": {
    "ExecuteTime": {
     "end_time": "2019-02-06T06:49:01.880959Z",
     "start_time": "2019-02-06T06:49:01.870090Z"
    }
   },
   "outputs": [
    {
     "data": {
      "text/latex": [
       "Quantum object: dims = [[2, 2], [2, 2]], shape = (4, 4), type = oper, isherm = True\\begin{equation*}\\left(\\begin{array}{*{11}c}1.0 & 0.0 & 0.0 & 0.0\\\\0.0 & 1.0 & 0.0 & 0.0\\\\0.0 & 0.0 & 1.0 & 0.0\\\\0.0 & 0.0 & 0.0 & 1.0\\\\\\end{array}\\right)\\end{equation*}"
      ],
      "text/plain": [
       "Quantum object: dims = [[2, 2], [2, 2]], shape = (4, 4), type = oper, isherm = True\n",
       "Qobj data =\n",
       "[[1. 0. 0. 0.]\n",
       " [0. 1. 0. 0.]\n",
       " [0. 0. 1. 0.]\n",
       " [0. 0. 0. 1.]]"
      ]
     },
     "execution_count": 107,
     "metadata": {},
     "output_type": "execute_result"
    }
   ],
   "source": [
    "L_I"
   ]
  },
  {
   "cell_type": "markdown",
   "metadata": {},
   "source": [
    "### Building $A(t)$"
   ]
  },
  {
   "cell_type": "code",
   "execution_count": 108,
   "metadata": {
    "ExecuteTime": {
     "end_time": "2019-02-06T06:49:02.528535Z",
     "start_time": "2019-02-06T06:49:02.525109Z"
    }
   },
   "outputs": [],
   "source": [
    "def A(xi):\n",
    "    r\"\"\"making $A(t)$\"\"\"\n",
    "    A = ih0 - h0ci + xi*(ih1 - h1ci) + lindbladian\n",
    "    return A"
   ]
  },
  {
   "cell_type": "code",
   "execution_count": 109,
   "metadata": {
    "ExecuteTime": {
     "end_time": "2019-02-06T06:49:02.834768Z",
     "start_time": "2019-02-06T06:49:02.826172Z"
    }
   },
   "outputs": [
    {
     "data": {
      "text/latex": [
       "Quantum object: dims = [[2, 2], [2, 2]], shape = (4, 4), type = oper, isherm = False\\begin{equation*}\\left(\\begin{array}{*{11}c}0.0 & -0.500j & -0.500j & 0.0\\\\0.500j & (-2.0-0.200j) & 0.0 & -0.500j\\\\0.500j & 0.0 & (2.0-0.200j) & -0.500j\\\\0.0 & 0.500j & 0.500j & 0.0\\\\\\end{array}\\right)\\end{equation*}"
      ],
      "text/plain": [
       "Quantum object: dims = [[2, 2], [2, 2]], shape = (4, 4), type = oper, isherm = False\n",
       "Qobj data =\n",
       "[[ 0.+0.j   0.-0.5j  0.-0.5j  0.+0.j ]\n",
       " [ 0.+0.5j -2.-0.2j  0.+0.j   0.-0.5j]\n",
       " [ 0.+0.5j  0.+0.j   2.-0.2j  0.-0.5j]\n",
       " [ 0.+0.j   0.+0.5j  0.+0.5j  0.+0.j ]]"
      ]
     },
     "execution_count": 109,
     "metadata": {},
     "output_type": "execute_result"
    }
   ],
   "source": [
    "A(0.5)"
   ]
  },
  {
   "cell_type": "markdown",
   "metadata": {},
   "source": [
    "### Building $L(t)$ and the Identity in the Liouville space"
   ]
  },
  {
   "cell_type": "code",
   "execution_count": 110,
   "metadata": {
    "ExecuteTime": {
     "end_time": "2019-02-06T06:49:03.417014Z",
     "start_time": "2019-02-06T06:49:03.413528Z"
    }
   },
   "outputs": [],
   "source": [
    "def L(xi, dt):\n",
    "    r\"\"\"Making $L(t) from $A(t)$\"\"\"\n",
    "    L = (-1j*A(xi)*dt).expm()\n",
    "    return L"
   ]
  },
  {
   "cell_type": "code",
   "execution_count": 111,
   "metadata": {
    "ExecuteTime": {
     "end_time": "2019-02-06T06:49:03.935678Z",
     "start_time": "2019-02-06T06:49:03.699194Z"
    }
   },
   "outputs": [
    {
     "data": {
      "text/latex": [
       "Quantum object: dims = [[2, 2], [2, 2]], shape = (4, 4), type = oper, isherm = False\\begin{equation*}\\left(\\begin{array}{*{11}c}1.000 & (-4.999\\times10^{-04}-4.999\\times10^{-07}j) & (-4.999\\times10^{-04}+4.999\\times10^{-07}j) & 2.500\\times10^{-07}\\\\(4.999\\times10^{-04}+4.999\\times10^{-07}j) & (1.000+0.002j) & -2.500\\times10^{-07} & (-4.999\\times10^{-04}-4.999\\times10^{-07}j)\\\\(4.999\\times10^{-04}-4.999\\times10^{-07}j) & -2.500\\times10^{-07} & (1.000-0.002j) & (-4.999\\times10^{-04}+4.999\\times10^{-07}j)\\\\2.500\\times10^{-07} & (4.999\\times10^{-04}+4.999\\times10^{-07}j) & (4.999\\times10^{-04}-4.999\\times10^{-07}j) & 1.000\\\\\\end{array}\\right)\\end{equation*}"
      ],
      "text/plain": [
       "Quantum object: dims = [[2, 2], [2, 2]], shape = (4, 4), type = oper, isherm = False\n",
       "Qobj data =\n",
       "[[ 9.99999750e-01+0.00000000e+00j -4.99949587e-04-4.99933130e-07j\n",
       "  -4.99949587e-04+4.99933130e-07j  2.49983230e-07+0.00000000e+00j]\n",
       " [ 4.99949587e-04+4.99933130e-07j  9.99797770e-01+1.99959837e-03j\n",
       "  -2.49966565e-07+0.00000000e+00j -4.99949587e-04-4.99933130e-07j]\n",
       " [ 4.99949587e-04-4.99933130e-07j -2.49966565e-07+0.00000000e+00j\n",
       "   9.99797770e-01-1.99959837e-03j -4.99949587e-04+4.99933130e-07j]\n",
       " [ 2.49983230e-07+0.00000000e+00j  4.99949587e-04+4.99933130e-07j\n",
       "   4.99949587e-04-4.99933130e-07j  9.99999750e-01+0.00000000e+00j]]"
      ]
     },
     "execution_count": 111,
     "metadata": {},
     "output_type": "execute_result"
    }
   ],
   "source": [
    "L(0.5, 0.001)"
   ]
  },
  {
   "cell_type": "markdown",
   "metadata": {},
   "source": [
    "## Major functions"
   ]
  },
  {
   "cell_type": "markdown",
   "metadata": {},
   "source": [
    "### Major functions 1"
   ]
  },
  {
   "cell_type": "code",
   "execution_count": 112,
   "metadata": {
    "ExecuteTime": {
     "end_time": "2019-02-06T06:49:04.600672Z",
     "start_time": "2019-02-06T06:49:04.597148Z"
    }
   },
   "outputs": [],
   "source": [
    "# building the function to optimize (optimizee)\n",
    "def L_vec(xi_vec, dt):\n",
    "    r\"\"\"Building the vector of differential $L(t)$\"\"\"\n",
    "    L_vec = [L(xi, dt) for xi in xi_vec] \n",
    "    return L_vec"
   ]
  },
  {
   "cell_type": "code",
   "execution_count": 113,
   "metadata": {
    "ExecuteTime": {
     "end_time": "2019-02-06T06:49:04.904621Z",
     "start_time": "2019-02-06T06:49:04.900415Z"
    }
   },
   "outputs": [],
   "source": [
    "def fidelity_calc(A, B):\n",
    "    r\"\"\"Making a generalised fidelity function\"\"\"\n",
    "    first_part = (A - B).dag()\n",
    "    second_part = (A - B)\n",
    "    f_int = (first_part* second_part)\n",
    "    f = f_int.tr()\n",
    "    return f"
   ]
  },
  {
   "cell_type": "code",
   "execution_count": 114,
   "metadata": {
    "ExecuteTime": {
     "end_time": "2019-02-06T06:49:05.209450Z",
     "start_time": "2019-02-06T06:49:05.203469Z"
    }
   },
   "outputs": [],
   "source": [
    "def L_full_maker(xi_vec, dt):\n",
    "    r\"\"\"Building the $L(t)$ for the total time $t$\"\"\"\n",
    "    xi_vec_size = xi_vec.size # finding the size of xi\n",
    "    L_full = L_I # Identity for the for loop of L\n",
    "    L_v = L_vec(xi_vec, dt) # calling L_vec\n",
    "    for i in range(xi_vec_size): # generating L_full\n",
    "        L_full = L_full*L_v[xi_vec_size - 1 - i]\n",
    "    return L_full"
   ]
  },
  {
   "cell_type": "code",
   "execution_count": 115,
   "metadata": {
    "ExecuteTime": {
     "end_time": "2019-02-06T06:49:05.485418Z",
     "start_time": "2019-02-06T06:49:05.481724Z"
    }
   },
   "outputs": [],
   "source": [
    "def F(xi_vec, dt):\n",
    "    r\"\"\"Using the fidelity metric to find out the closeness between $T$\n",
    "    and $L(t)$\"\"\"\n",
    "    L_full = L_full_maker(xi_vec, dt)\n",
    "    F = real(-fidelity_calc(T, L_full))   \n",
    "    return F"
   ]
  },
  {
   "cell_type": "markdown",
   "metadata": {},
   "source": [
    "### Testing major functions 1"
   ]
  },
  {
   "cell_type": "code",
   "execution_count": 116,
   "metadata": {
    "ExecuteTime": {
     "end_time": "2019-02-06T06:49:06.211124Z",
     "start_time": "2019-02-06T06:49:06.204572Z"
    }
   },
   "outputs": [
    {
     "data": {
      "text/plain": [
       "4.0"
      ]
     },
     "execution_count": 116,
     "metadata": {},
     "output_type": "execute_result"
    }
   ],
   "source": [
    "fidelity_calc(sigmax(), sigmay())"
   ]
  },
  {
   "cell_type": "code",
   "execution_count": 117,
   "metadata": {
    "ExecuteTime": {
     "end_time": "2019-02-06T06:49:06.522348Z",
     "start_time": "2019-02-06T06:49:06.515551Z"
    }
   },
   "outputs": [
    {
     "data": {
      "text/plain": [
       "0.0"
      ]
     },
     "execution_count": 117,
     "metadata": {},
     "output_type": "execute_result"
    }
   ],
   "source": [
    "fidelity_calc(sigmay(), sigmay())"
   ]
  },
  {
   "cell_type": "code",
   "execution_count": 118,
   "metadata": {
    "ExecuteTime": {
     "end_time": "2019-02-06T06:49:06.824146Z",
     "start_time": "2019-02-06T06:49:06.819175Z"
    }
   },
   "outputs": [
    {
     "data": {
      "text/plain": [
       "array([1., 2.])"
      ]
     },
     "execution_count": 118,
     "metadata": {},
     "output_type": "execute_result"
    }
   ],
   "source": [
    "xi_vec_test = array([1.0, 2.0])\n",
    "xi_vec_test"
   ]
  },
  {
   "cell_type": "code",
   "execution_count": 119,
   "metadata": {
    "ExecuteTime": {
     "end_time": "2019-02-06T06:49:07.102884Z",
     "start_time": "2019-02-06T06:49:07.097934Z"
    }
   },
   "outputs": [
    {
     "data": {
      "text/plain": [
       "2"
      ]
     },
     "execution_count": 119,
     "metadata": {},
     "output_type": "execute_result"
    }
   ],
   "source": [
    "xi_vec_test.size"
   ]
  },
  {
   "cell_type": "code",
   "execution_count": 120,
   "metadata": {
    "ExecuteTime": {
     "end_time": "2019-02-06T06:49:07.381272Z",
     "start_time": "2019-02-06T06:49:07.375187Z"
    }
   },
   "outputs": [
    {
     "data": {
      "text/plain": [
       "[1.0, 4.0]"
      ]
     },
     "execution_count": 120,
     "metadata": {},
     "output_type": "execute_result"
    }
   ],
   "source": [
    "w_vec = [xi**2 for xi in xi_vec_test]\n",
    "w_vec"
   ]
  },
  {
   "cell_type": "code",
   "execution_count": 121,
   "metadata": {
    "ExecuteTime": {
     "end_time": "2019-02-06T06:49:07.727393Z",
     "start_time": "2019-02-06T06:49:07.716645Z"
    }
   },
   "outputs": [
    {
     "data": {
      "text/plain": [
       "-7.998400634487143"
      ]
     },
     "execution_count": 121,
     "metadata": {},
     "output_type": "execute_result"
    }
   ],
   "source": [
    "# F(xi_vec, dt)\n",
    "F(xi_vec_test, 0.001)"
   ]
  },
  {
   "cell_type": "code",
   "execution_count": 122,
   "metadata": {
    "ExecuteTime": {
     "end_time": "2019-02-06T06:49:07.887164Z",
     "start_time": "2019-02-06T06:49:07.878689Z"
    }
   },
   "outputs": [],
   "source": [
    "L_v = L_vec(xi_vec_test, 0.001)"
   ]
  },
  {
   "cell_type": "code",
   "execution_count": 123,
   "metadata": {
    "ExecuteTime": {
     "end_time": "2019-02-06T06:49:08.680125Z",
     "start_time": "2019-02-06T06:49:08.674559Z"
    }
   },
   "outputs": [
    {
     "data": {
      "text/plain": [
       "[Quantum object: dims = [[2, 2], [2, 2]], shape = (4, 4), type = oper, isherm = False\n",
       " Qobj data =\n",
       " [[ 9.99999000e-01+0.00000000e+00j -9.99898674e-04-9.99866010e-07j\n",
       "   -9.99898674e-04+9.99866010e-07j  9.99932670e-07+0.00000000e+00j]\n",
       "  [ 9.99898674e-04+9.99866010e-07j  9.99797021e-01+1.99959737e-03j\n",
       "   -9.99866010e-07+0.00000000e+00j -9.99898674e-04-9.99866010e-07j]\n",
       "  [ 9.99898674e-04-9.99866010e-07j -9.99866010e-07+0.00000000e+00j\n",
       "    9.99797021e-01-1.99959737e-03j -9.99898674e-04+9.99866010e-07j]\n",
       "  [ 9.99932670e-07+0.00000000e+00j  9.99898674e-04+9.99866010e-07j\n",
       "    9.99898674e-04-9.99866010e-07j  9.99999000e-01+0.00000000e+00j]],\n",
       " Quantum object: dims = [[2, 2], [2, 2]], shape = (4, 4), type = oper, isherm = False\n",
       " Qobj data =\n",
       " [[ 9.99996000e-01+0.00000000e+00j -1.99979335e-03-1.99973002e-06j\n",
       "   -1.99979335e-03+1.99973002e-06j  3.99972668e-06+0.00000000e+00j]\n",
       "  [ 1.99979335e-03+1.99973002e-06j  9.99794021e-01+1.99959337e-03j\n",
       "   -3.99946004e-06+0.00000000e+00j -1.99979335e-03-1.99973002e-06j]\n",
       "  [ 1.99979335e-03-1.99973002e-06j -3.99946004e-06+0.00000000e+00j\n",
       "    9.99794021e-01-1.99959337e-03j -1.99979335e-03+1.99973002e-06j]\n",
       "  [ 3.99972668e-06+0.00000000e+00j  1.99979335e-03+1.99973002e-06j\n",
       "    1.99979335e-03-1.99973002e-06j  9.99996000e-01+0.00000000e+00j]]]"
      ]
     },
     "execution_count": 123,
     "metadata": {},
     "output_type": "execute_result"
    }
   ],
   "source": [
    "L_v"
   ]
  },
  {
   "cell_type": "markdown",
   "metadata": {},
   "source": [
    "### Major Functions 2"
   ]
  },
  {
   "cell_type": "code",
   "execution_count": 124,
   "metadata": {
    "ExecuteTime": {
     "end_time": "2019-02-06T06:49:09.657604Z",
     "start_time": "2019-02-06T06:49:09.653854Z"
    }
   },
   "outputs": [],
   "source": [
    "def L_comma_k_maker(xi_vec, k, dt):\n",
    "    r\"\"\"Making of the derivative of full $L(t)$ at time $t_{k}$\"\"\"\n",
    "    N = xi_vec.size \n",
    "    # Determining the size of xi, and thus the time_steps indirectly.\n",
    "    L_v = L_vec(xi_vec, dt)# Making of the full $L(t)$\n",
    "    inner_part = L_I # Beginner for the for loop\n",
    "    for i in range(N):\n",
    "        if i == ( N - 1 - k ):\n",
    "            # The step at which $X_{k}(t)$ has to be inserted \n",
    "            inner_part = inner_part*x_k*L_v[k - 1]\n",
    "        else:\n",
    "            # Usual multiplications of $L_{k}$\n",
    "            inner_part = inner_part*L_v[N - 1 - i]\n",
    "    l_comma_k = inner_part\n",
    "    return l_comma_k\n",
    "    "
   ]
  },
  {
   "cell_type": "code",
   "execution_count": 125,
   "metadata": {
    "ExecuteTime": {
     "end_time": "2019-02-06T06:49:10.247995Z",
     "start_time": "2019-02-06T06:49:10.236922Z"
    }
   },
   "outputs": [
    {
     "data": {
      "text/latex": [
       "Quantum object: dims = [[2, 2], [2, 2]], shape = (4, 4), type = oper, isherm = False\\begin{equation*}\\left(\\begin{array}{*{11}c}1.000 & (-0.003-6.998\\times10^{-06}j) & (-0.003+6.998\\times10^{-06}j) & 8.999\\times10^{-06}\\\\(0.003+4.999\\times10^{-06}j) & (1.000+0.004j) & (-8.997\\times10^{-06}+5.998\\times10^{-09}j) & (-0.003-4.999\\times10^{-06}j)\\\\(0.003-4.999\\times10^{-06}j) & (-8.997\\times10^{-06}-5.998\\times10^{-09}j) & (1.000-0.004j) & (-0.003+4.999\\times10^{-06}j)\\\\8.999\\times10^{-06} & (0.003+6.998\\times10^{-06}j) & (0.003-6.998\\times10^{-06}j) & 1.000\\\\\\end{array}\\right)\\end{equation*}"
      ],
      "text/plain": [
       "Quantum object: dims = [[2, 2], [2, 2]], shape = (4, 4), type = oper, isherm = False\n",
       "Qobj data =\n",
       "[[ 9.99991001e-01+0.00000000e+00j -2.99927211e-03-6.99796565e-06j\n",
       "  -2.99927211e-03+6.99796565e-06j  8.99882878e-06+0.00000000e+00j]\n",
       " [ 2.99947607e-03+4.99878084e-06j  9.99583086e-01+3.99836500e-03j\n",
       "  -8.99749372e-06+5.99798035e-09j -2.99947607e-03-4.99878084e-06j]\n",
       " [ 2.99947607e-03-4.99878084e-06j -8.99749372e-06-5.99798035e-09j\n",
       "   9.99583086e-01-3.99836500e-03j -2.99947607e-03+4.99878084e-06j]\n",
       " [ 8.99882878e-06+0.00000000e+00j  2.99927211e-03+6.99796565e-06j\n",
       "   2.99927211e-03-6.99796565e-06j  9.99991001e-01+0.00000000e+00j]]"
      ]
     },
     "execution_count": 125,
     "metadata": {},
     "output_type": "execute_result"
    }
   ],
   "source": [
    "# L_comma_k_maker(xi_vec, k, dt)\n",
    "L_comma_k_maker(xi_vec_test, 2, 0.001)"
   ]
  },
  {
   "cell_type": "code",
   "execution_count": 126,
   "metadata": {
    "ExecuteTime": {
     "end_time": "2019-02-06T06:49:10.689656Z",
     "start_time": "2019-02-06T06:49:10.684008Z"
    }
   },
   "outputs": [],
   "source": [
    "def updater(xi_vec, dt, epsilon):\n",
    "    r\"\"\"Implementing the GRAPE update step\"\"\"\n",
    "    xi_vec_size = xi_vec.size # finding the size of xi\n",
    "    L_full = L_full_maker(xi_vec, dt)\n",
    "    di = []\n",
    "    for k in range(xi_vec_size):\n",
    "        # Building the thing to be added to the old function\n",
    "        L_comma_k = L_comma_k_maker(xi_vec, k, dt)\n",
    "        differentiated = T - L_comma_k\n",
    "        plain = T - L_full\n",
    "        c = -differentiated.dag()*plain\n",
    "        d = -plain.dag()*differentiated\n",
    "        inside = c.tr() + d.tr()\n",
    "        di.append(epsilon*inside)\n",
    "\n",
    "    diff = array(di)\n",
    "    xi_new_vec = xi_vec + diff\n",
    "    return diff, xi_new_vec\n",
    "    "
   ]
  },
  {
   "cell_type": "code",
   "execution_count": 127,
   "metadata": {
    "ExecuteTime": {
     "end_time": "2019-02-06T06:49:11.841689Z",
     "start_time": "2019-02-06T06:49:11.822226Z"
    }
   },
   "outputs": [
    {
     "data": {
      "text/plain": [
       "(array([-0.008+0.j, -0.008+0.j]), array([0.992+0.j, 1.992+0.j]))"
      ]
     },
     "execution_count": 127,
     "metadata": {},
     "output_type": "execute_result"
    }
   ],
   "source": [
    "#  updater(xi_vec, dt, epsilon)\n",
    "updater(xi_vec_test, 0.001, 0.001)"
   ]
  },
  {
   "cell_type": "code",
   "execution_count": 128,
   "metadata": {
    "ExecuteTime": {
     "end_time": "2019-02-06T06:49:12.510168Z",
     "start_time": "2019-02-06T06:49:12.505579Z"
    },
    "code_folding": []
   },
   "outputs": [],
   "source": [
    "def terminator(max_iter, time_steps, total_time, epsilon):\n",
    "    r\"\"\"Brief description of the function\"\"\"\n",
    "    \n",
    "    xi_initial =  1000*random_sample((time_steps,))\n",
    "    dt = total_time/time_steps\n",
    "    xi_diff, xi_new_vec = updater(xi_initial, dt, epsilon)\n",
    "    \n",
    "    for i in range(max_iter):\n",
    "        if amax(xi_diff) < epsilon**2 :\n",
    "            \n",
    "            xi_final = xi_new_vec\n",
    "            break\n",
    "        else :\n",
    "            xi_diff, xi_new_vec = updater(xi_new_vec, dt, epsilon)\n",
    "            print(i)\n",
    "            print(amax(xi_diff))\n",
    "            \n",
    "        \n",
    "    xi_final = xi_new_vec    \n",
    "    return xi_final"
   ]
  },
  {
   "cell_type": "code",
   "execution_count": null,
   "metadata": {},
   "outputs": [],
   "source": []
  },
  {
   "cell_type": "markdown",
   "metadata": {},
   "source": [
    "# Running stuff"
   ]
  },
  {
   "cell_type": "markdown",
   "metadata": {},
   "source": [
    "### Try"
   ]
  },
  {
   "cell_type": "code",
   "execution_count": 129,
   "metadata": {
    "ExecuteTime": {
     "end_time": "2019-02-06T06:52:41.177971Z",
     "start_time": "2019-02-06T06:52:40.460044Z"
    }
   },
   "outputs": [
    {
     "name": "stdout",
     "output_type": "stream",
     "text": [
      "Optimization terminated successfully.\n",
      "         Current function value: -4.220632\n",
      "         Iterations: 70\n",
      "         Function evaluations: 150\n",
      "[308.49311349  83.76258283]\n"
     ]
    }
   ],
   "source": [
    "total_time = 1*pi/omega_1\n",
    "time_steps = 2\n",
    "dt = total_time/time_steps\n",
    "def f_nel(xi_vec):\n",
    "    return F(xi_vec, dt)\n",
    "\n",
    "x0 = 1000*random_sample((time_steps,))\n",
    "from scipy import optimize\n",
    "res = optimize.minimize(f_nel, x0, method='nelder-mead',\n",
    "                        options={'xtol': 1e-8, 'disp': True})\n",
    "print(res.x)"
   ]
  },
  {
   "cell_type": "code",
   "execution_count": 130,
   "metadata": {},
   "outputs": [
    {
     "data": {
      "text/plain": [
       " final_simplex: (array([[308.49311349,  83.76258283],\n",
       "       [308.49311348,  83.76258284],\n",
       "       [308.49311348,  83.76258283]]), array([-4.22063214, -4.22063214, -4.22063214]))\n",
       "           fun: -4.220632137502155\n",
       "       message: 'Optimization terminated successfully.'\n",
       "          nfev: 150\n",
       "           nit: 70\n",
       "        status: 0\n",
       "       success: True\n",
       "             x: array([308.49311349,  83.76258283])"
      ]
     },
     "execution_count": 130,
     "metadata": {},
     "output_type": "execute_result"
    }
   ],
   "source": [
    "res"
   ]
  },
  {
   "cell_type": "code",
   "execution_count": 131,
   "metadata": {
    "ExecuteTime": {
     "end_time": "2019-02-06T06:52:41.190882Z",
     "start_time": "2019-02-06T06:52:41.179861Z"
    }
   },
   "outputs": [
    {
     "data": {
      "text/plain": [
       "-4.220632137502155"
      ]
     },
     "execution_count": 131,
     "metadata": {},
     "output_type": "execute_result"
    }
   ],
   "source": [
    "F(res.x, dt)"
   ]
  },
  {
   "cell_type": "code",
   "execution_count": 132,
   "metadata": {
    "ExecuteTime": {
     "end_time": "2019-02-06T06:52:41.720938Z",
     "start_time": "2019-02-06T06:52:41.456651Z"
    }
   },
   "outputs": [
    {
     "data": {
      "text/plain": [
       "(<Figure size 576x432 with 2 Axes>,\n",
       " <matplotlib.axes._subplots.AxesSubplot at 0x7fe1e0cd9b00>)"
      ]
     },
     "execution_count": 132,
     "metadata": {},
     "output_type": "execute_result"
    },
    {
     "data": {
      "image/png": "[encoded data removed]",
      "text/plain": [
       "<Figure size 576x432 with 2 Axes>"
      ]
     },
     "metadata": {},
     "output_type": "display_data"
    }
   ],
   "source": [
    "hinton(T)"
   ]
  },
  {
   "cell_type": "code",
   "execution_count": 133,
   "metadata": {
    "ExecuteTime": {
     "end_time": "2019-02-06T06:52:47.470525Z",
     "start_time": "2019-02-06T06:52:47.175540Z"
    }
   },
   "outputs": [
    {
     "data": {
      "text/plain": [
       "(<Figure size 576x432 with 2 Axes>,\n",
       " <matplotlib.axes._subplots.AxesSubplot at 0x7fe1e0c2fba8>)"
      ]
     },
     "execution_count": 133,
     "metadata": {},
     "output_type": "execute_result"
    },
    {
     "data": {
      "image/png": "[encoded data removed]",
      "text/plain": [
       "<Figure size 576x432 with 2 Axes>"
      ]
     },
     "metadata": {},
     "output_type": "display_data"
    }
   ],
   "source": [
    "hinton(L_full_maker(res.x, dt))"
   ]
  },
  {
   "cell_type": "code",
   "execution_count": 134,
   "metadata": {
    "ExecuteTime": {
     "end_time": "2019-02-06T06:53:05.596943Z",
     "start_time": "2019-02-06T06:53:05.585540Z"
    }
   },
   "outputs": [
    {
     "data": {
      "text/latex": [
       "Quantum object: dims = [[2, 2], [2, 2]], shape = (4, 4), type = oper, isherm = False\\begin{equation*}\\left(\\begin{array}{*{11}c}0.478 & (-0.266-0.002j) & (-0.266+0.002j) & 0.522\\\\(0.266-9.652\\times10^{-04}j) & (0.120+0.002j) & (-0.165+0.004j) & (-0.266+9.652\\times10^{-04}j)\\\\(0.266+9.652\\times10^{-04}j) & (-0.165-0.004j) & (0.120-0.002j) & (-0.266-9.652\\times10^{-04}j)\\\\0.522 & (0.266+0.002j) & (0.266-0.002j) & 0.478\\\\\\end{array}\\right)\\end{equation*}"
      ],
      "text/plain": [
       "Quantum object: dims = [[2, 2], [2, 2]], shape = (4, 4), type = oper, isherm = False\n",
       "Qobj data =\n",
       "[[ 0.47793678+0.j         -0.26578292-0.00157227j -0.26578292+0.00157227j\n",
       "   0.52206322+0.j        ]\n",
       " [ 0.26580291-0.00096517j  0.1199417 +0.00229615j -0.1646767 +0.00394195j\n",
       "  -0.26580291+0.00096517j]\n",
       " [ 0.26580291+0.00096517j -0.1646767 -0.00394195j  0.1199417 -0.00229615j\n",
       "  -0.26580291-0.00096517j]\n",
       " [ 0.52206322+0.j          0.26578292+0.00157227j  0.26578292-0.00157227j\n",
       "   0.47793678+0.j        ]]"
      ]
     },
     "execution_count": 134,
     "metadata": {},
     "output_type": "execute_result"
    }
   ],
   "source": [
    "L_full_maker(res.x, dt)"
   ]
  },
  {
   "cell_type": "markdown",
   "metadata": {},
   "source": [
    "### Try"
   ]
  },
  {
   "cell_type": "code",
   "execution_count": 135,
   "metadata": {
    "ExecuteTime": {
     "end_time": "2019-02-06T06:58:13.284774Z",
     "start_time": "2019-02-06T06:56:01.015969Z"
    }
   },
   "outputs": [
    {
     "name": "stdout",
     "output_type": "stream",
     "text": [
      "Optimization terminated successfully.\n",
      "         Current function value: -3.000015\n",
      "         Iterations: 61\n",
      "         Function evaluations: 148\n",
      "[548.57410329 603.64916228]\n"
     ]
    }
   ],
   "source": [
    "total_time = 10*pi/omega_1\n",
    "time_steps = 2\n",
    "dt = total_time/time_steps\n",
    "def f_nel(xi_vec):\n",
    "    return F(xi_vec, dt)\n",
    "\n",
    "x0 = 1000*random_sample((time_steps,))\n",
    "from scipy import optimize\n",
    "res = optimize.minimize(f_nel, x0, method='nelder-mead',\n",
    "                        options={'xtol': 1e-8, 'disp': True})\n",
    "print(res.x)"
   ]
  },
  {
   "cell_type": "code",
   "execution_count": 136,
   "metadata": {},
   "outputs": [
    {
     "data": {
      "text/plain": [
       " final_simplex: (array([[548.57410329, 603.64916228],\n",
       "       [548.57410329, 603.64916228],\n",
       "       [548.57410329, 603.64916228]]), array([-3.00001463, -3.00001463, -3.00001463]))\n",
       "           fun: -3.0000146301962376\n",
       "       message: 'Optimization terminated successfully.'\n",
       "          nfev: 148\n",
       "           nit: 61\n",
       "        status: 0\n",
       "       success: True\n",
       "             x: array([548.57410329, 603.64916228])"
      ]
     },
     "execution_count": 136,
     "metadata": {},
     "output_type": "execute_result"
    }
   ],
   "source": [
    "res"
   ]
  },
  {
   "cell_type": "code",
   "execution_count": 137,
   "metadata": {
    "ExecuteTime": {
     "end_time": "2019-02-06T06:58:13.335858Z",
     "start_time": "2019-02-06T06:58:13.287002Z"
    }
   },
   "outputs": [
    {
     "data": {
      "text/plain": [
       "-3.0000146301962376"
      ]
     },
     "execution_count": 137,
     "metadata": {},
     "output_type": "execute_result"
    }
   ],
   "source": [
    "F(res.x, dt)"
   ]
  },
  {
   "cell_type": "code",
   "execution_count": 138,
   "metadata": {
    "ExecuteTime": {
     "end_time": "2019-02-06T06:58:13.883796Z",
     "start_time": "2019-02-06T06:58:13.615769Z"
    }
   },
   "outputs": [
    {
     "data": {
      "text/plain": [
       "(<Figure size 576x432 with 2 Axes>,\n",
       " <matplotlib.axes._subplots.AxesSubplot at 0x7fe1e0b29cf8>)"
      ]
     },
     "execution_count": 138,
     "metadata": {},
     "output_type": "execute_result"
    },
    {
     "data": {
      "image/png": "[encoded data removed]",
      "text/plain": [
       "<Figure size 576x432 with 2 Axes>"
      ]
     },
     "metadata": {},
     "output_type": "display_data"
    }
   ],
   "source": [
    "hinton(L_full_maker(res.x, dt))"
   ]
  },
  {
   "cell_type": "code",
   "execution_count": 139,
   "metadata": {
    "ExecuteTime": {
     "end_time": "2019-02-06T06:58:13.931478Z",
     "start_time": "2019-02-06T06:58:13.885947Z"
    }
   },
   "outputs": [
    {
     "data": {
      "text/latex": [
       "Quantum object: dims = [[2, 2], [2, 2]], shape = (4, 4), type = oper, isherm = False\\begin{equation*}\\left(\\begin{array}{*{11}c}0.500 & (-9.337\\times10^{-04}+3.563\\times10^{-09}j) & (-9.337\\times10^{-04}-3.563\\times10^{-09}j) & 0.500\\\\(9.337\\times10^{-04}+3.381\\times10^{-09}j) & (1.602\\times10^{-06}+3.242\\times10^{-06}j) & (-1.886\\times10^{-06}-1.620\\times10^{-07}j) & (-9.337\\times10^{-04}-3.381\\times10^{-09}j)\\\\(9.337\\times10^{-04}-3.381\\times10^{-09}j) & (-1.886\\times10^{-06}+1.620\\times10^{-07}j) & (1.602\\times10^{-06}-3.242\\times10^{-06}j) & (-9.337\\times10^{-04}+3.381\\times10^{-09}j)\\\\0.500 & (9.337\\times10^{-04}-3.563\\times10^{-09}j) & (9.337\\times10^{-04}+3.563\\times10^{-09}j) & 0.500\\\\\\end{array}\\right)\\end{equation*}"
      ],
      "text/plain": [
       "Quantum object: dims = [[2, 2], [2, 2]], shape = (4, 4), type = oper, isherm = False\n",
       "Qobj data =\n",
       "[[ 5.00000028e-01+0.00000000e+00j -9.33702293e-04+3.56337611e-09j\n",
       "  -9.33702293e-04-3.56337612e-09j  4.99999972e-01+0.00000000e+00j]\n",
       " [ 9.33702014e-04+3.38120045e-09j  1.60174911e-06+3.24210132e-06j\n",
       "  -1.88573603e-06-1.61997927e-07j -9.33702014e-04-3.38120149e-09j]\n",
       " [ 9.33702014e-04-3.38120045e-09j -1.88573603e-06+1.61997927e-07j\n",
       "   1.60174911e-06-3.24210132e-06j -9.33702014e-04+3.38120149e-09j]\n",
       " [ 4.99999972e-01+0.00000000e+00j  9.33702293e-04-3.56337658e-09j\n",
       "   9.33702293e-04+3.56337656e-09j  5.00000028e-01+0.00000000e+00j]]"
      ]
     },
     "execution_count": 139,
     "metadata": {},
     "output_type": "execute_result"
    }
   ],
   "source": [
    "L_full_maker(res.x, dt)"
   ]
  },
  {
   "cell_type": "markdown",
   "metadata": {},
   "source": [
    "### Try"
   ]
  },
  {
   "cell_type": "code",
   "execution_count": 140,
   "metadata": {
    "ExecuteTime": {
     "end_time": "2019-02-06T06:58:13.284774Z",
     "start_time": "2019-02-06T06:56:01.015969Z"
    }
   },
   "outputs": [
    {
     "name": "stdout",
     "output_type": "stream",
     "text": [
      "Warning: Maximum number of function evaluations has been exceeded.\n",
      "[809.72475096 943.77349537 168.99299284  21.2127754  452.01574249\n",
      " 680.68687196 717.54973965 483.06126497 249.1471718  923.80783329\n",
      " 503.21663303 803.77925697 169.69695273 496.83231259 271.67937631\n",
      " 991.70926902 719.14032705 529.89605505 397.03559005 194.22284693]\n"
     ]
    }
   ],
   "source": [
    "total_time = 10*pi/omega_1\n",
    "time_steps = 20\n",
    "dt = total_time/time_steps\n",
    "def f_nel(xi_vec):\n",
    "    return F(xi_vec, dt)\n",
    "\n",
    "x0 = 1000*random_sample((time_steps,))\n",
    "from scipy import optimize\n",
    "res = optimize.minimize(f_nel, x0, method='nelder-mead',\n",
    "                        options={'xtol': 1e-8, 'disp': True})\n",
    "print(res.x)"
   ]
  },
  {
   "cell_type": "code",
   "execution_count": 141,
   "metadata": {},
   "outputs": [
    {
     "data": {
      "text/plain": [
       " final_simplex: (array([[809.72475096, 943.77349537, 168.99299284,  21.2127754 ,\n",
       "        452.01574249, 680.68687196, 717.54973965, 483.06126497,\n",
       "        249.1471718 , 923.80783329, 503.21663303, 803.77925697,\n",
       "        169.69695273, 496.83231259, 271.67937631, 991.70926902,\n",
       "        719.14032705, 529.89605505, 397.03559005, 194.22284693],\n",
       "       [809.7244188 , 943.77399134, 168.99297186,  21.21270266,\n",
       "        452.0165769 , 680.68634418, 717.54965337, 483.06023528,\n",
       "        249.14863581, 923.80756017, 503.21591977, 803.78062241,\n",
       "        169.69655512, 496.83215647, 271.67898656, 991.70945236,\n",
       "        719.13978115, 529.8952776 , 397.03642572, 194.22321428],\n",
       "       [809.72499285, 943.77284012, 168.99306021,  21.21262627,\n",
       "        452.01729585, 680.68541969, 717.54826278, 483.06164624,\n",
       "        249.14903018, 923.80707616, 503.21648127, 803.78016379,\n",
       "        169.69746518, 496.83114924, 271.67912704, 991.71240115,\n",
       "        719.13770899, 529.89435228, 397.03645007, 194.22278382],\n",
       "       [809.72442353, 943.77464175, 168.99285221,  21.21273167,\n",
       "        452.0165163 , 680.68605382, 717.55063699, 483.06022638,\n",
       "        249.14750515, 923.80825412, 503.21689072, 803.77928745,\n",
       "        169.69671089, 496.83142336, 271.67931908, 991.70904066,\n",
       "        719.14122006, 529.89539527, 397.03583539, 194.22342022],\n",
       "       [809.72425296, 943.77409528, 168.9926925 ,  21.21278813,\n",
       "        452.01745363, 680.68635508, 717.54819554, 483.06123791,\n",
       "        249.14795297, 923.8068352 , 503.21552373, 803.78162123,\n",
       "        169.69771693, 496.83147603, 271.67823415, 991.71019161,\n",
       "        719.14160097, 529.89357307, 397.03673037, 194.22249585],\n",
       "       [809.7229101 , 943.77599255, 168.99260179,  21.21279781,\n",
       "        452.01686042, 680.68539898, 717.54964109, 483.06172082,\n",
       "        249.14691334, 923.8081196 , 503.21518625, 803.78085237,\n",
       "        169.69770076, 496.83050268, 271.67924935, 991.71137821,\n",
       "        719.14177142, 529.89219901, 397.03666482, 194.22334937],\n",
       "       [809.72517375, 943.77339195, 168.99271457,  21.2127654 ,\n",
       "        452.01739578, 680.6862442 , 717.54988501, 483.06016411,\n",
       "        249.1484316 , 923.80751188, 503.21606331, 803.77940799,\n",
       "        169.69676725, 496.83216019, 271.67876253, 991.70768072,\n",
       "        719.1422471 , 529.89635106, 397.03544667, 194.22291362],\n",
       "       [809.72485989, 943.77342353, 168.99303526,  21.21274453,\n",
       "        452.01548475, 680.68666769, 717.54940412, 483.06170943,\n",
       "        249.14751371, 923.80694754, 503.21662427, 803.78014263,\n",
       "        169.69706711, 496.83138596, 271.67900804, 991.70887625,\n",
       "        719.14130621, 529.89735681, 397.03456123, 194.22316488],\n",
       "       [809.72414344, 943.77439519, 168.99290354,  21.2127429 ,\n",
       "        452.01689686, 680.68653561, 717.54992788, 483.06112362,\n",
       "        249.14703232, 923.80716318, 503.21485372, 803.7816129 ,\n",
       "        169.69699148, 496.83076287, 271.67933931, 991.70831704,\n",
       "        719.14175936, 529.89694008, 397.03457819, 194.22372309],\n",
       "       [809.72480786, 943.77380679, 168.99313141,  21.21259213,\n",
       "        452.01651425, 680.68601024, 717.54919088, 483.06148354,\n",
       "        249.14855743, 923.80762423, 503.21507545, 803.78038813,\n",
       "        169.69745501, 496.83151242, 271.67923497, 991.71201242,\n",
       "        719.13817457, 529.89697833, 397.03388656, 194.22360435],\n",
       "       [809.72586566, 943.77285969, 168.99291068,  21.21270057,\n",
       "        452.01705226, 680.68639089, 717.54955644, 483.06088751,\n",
       "        249.1470841 , 923.80685869, 503.21747607, 803.77988432,\n",
       "        169.69746527, 496.83087767, 271.67932444, 991.70891411,\n",
       "        719.14146089, 529.89768227, 397.03371704, 194.22301322],\n",
       "       [809.72478214, 943.77371842, 168.99278785,  21.21284562,\n",
       "        452.01743304, 680.68652989, 717.54985776, 483.0602492 ,\n",
       "        249.14628869, 923.80816267, 503.21688069, 803.77949681,\n",
       "        169.69684335, 496.83177116, 271.67963027, 991.70816966,\n",
       "        719.14147247, 529.8947558 , 397.03751796, 194.22226532],\n",
       "       [809.7236013 , 943.77571107, 168.99245637,  21.21276468,\n",
       "        452.01666108, 680.68492787, 717.55128642, 483.06197669,\n",
       "        249.14616614, 923.80780307, 503.21649614, 803.77979158,\n",
       "        169.69730376, 496.83019315, 271.6808641 , 991.70922673,\n",
       "        719.14321851, 529.89410424, 397.03359028, 194.22419423],\n",
       "       [809.72405545, 943.7743114 , 168.99301471,  21.21280961,\n",
       "        452.01501676, 680.68761885, 717.55019638, 483.06209493,\n",
       "        249.14563895, 923.80779607, 503.21659476, 803.78045219,\n",
       "        169.69675438, 496.83183363, 271.68013273, 991.70802688,\n",
       "        719.14144512, 529.89595466, 397.03476629, 194.22330463],\n",
       "       [809.72591397, 943.77292085, 168.99251794,  21.21272681,\n",
       "        452.01765139, 680.68489896, 717.54960948, 483.06106192,\n",
       "        249.14827191, 923.80652518, 503.21764631, 803.77913556,\n",
       "        169.69732069, 496.83103355, 271.67975692, 991.70849931,\n",
       "        719.14302333, 529.89598166, 397.03399017, 194.22285533],\n",
       "       [809.72399807, 943.77436897, 168.99307104,  21.21280132,\n",
       "        452.01557779, 680.68740477, 717.54958475, 483.06159157,\n",
       "        249.14641988, 923.80751271, 503.21676171, 803.7809067 ,\n",
       "        169.69670373, 496.83106663, 271.67875883, 991.70766985,\n",
       "        719.14193353, 529.89608179, 397.03626391, 194.22318802],\n",
       "       [809.72419028, 943.7739335 , 168.99345725,  21.21258276,\n",
       "        452.01625194, 680.68653603, 717.54980624, 483.06088566,\n",
       "        249.14688812, 923.80806443, 503.21556837, 803.78101788,\n",
       "        169.6974575 , 496.83042592, 271.67980604, 991.71315882,\n",
       "        719.13612032, 529.89665682, 397.03496475, 194.22397936],\n",
       "       [809.7236975 , 943.77447814, 168.99268748,  21.21285819,\n",
       "        452.0165843 , 680.68673925, 717.5491373 , 483.06138394,\n",
       "        249.14719318, 923.80719596, 503.2156847 , 803.78101424,\n",
       "        169.69690851, 496.83229792, 271.67889608, 991.70787193,\n",
       "        719.14229218, 529.89382234, 397.03701981, 194.22282519],\n",
       "       [809.72352844, 943.77501859, 168.99297259,  21.21283229,\n",
       "        452.01580134, 680.68759894, 717.54932261, 483.06180164,\n",
       "        249.14611082, 923.80824878, 503.21491666, 803.7804184 ,\n",
       "        169.69739906, 496.83218213, 271.67855893, 991.70935461,\n",
       "        719.14104945, 529.89556465, 397.03604114, 194.22303308],\n",
       "       [809.72374506, 943.7752817 , 168.99269688,  21.2127961 ,\n",
       "        452.01515131, 680.68624077, 717.55024286, 483.06085628,\n",
       "        249.14863572, 923.80816473, 503.21644389, 803.77967795,\n",
       "        169.6965467 , 496.83206517, 271.67834324, 991.70850488,\n",
       "        719.14339635, 529.89444965, 397.03595423, 194.22331381],\n",
       "       [809.72414886, 943.77407798, 168.99297062,  21.21271323,\n",
       "        452.0164723 , 680.68623584, 717.54920049, 483.06104282,\n",
       "        249.1486445 , 923.80796471, 503.21545601, 803.78005592,\n",
       "        169.69684403, 496.83224699, 271.67893808, 991.71046539,\n",
       "        719.13947028, 529.894514  , 397.03669223, 194.22302508]]), array([-3.00004133, -3.00004133, -3.00004133, -3.00004133, -3.00004133,\n",
       "       -3.00004133, -3.00004133, -3.00004133, -3.00004133, -3.00004133,\n",
       "       -3.00004133, -3.00004133, -3.00004133, -3.00004133, -3.00004133,\n",
       "       -3.00004133, -3.00004133, -3.00004133, -3.00004133, -3.00004133,\n",
       "       -3.00004133]))\n",
       "           fun: -3.0000413261590784\n",
       "       message: 'Maximum number of function evaluations has been exceeded.'\n",
       "          nfev: 4000\n",
       "           nit: 3017\n",
       "        status: 1\n",
       "       success: False\n",
       "             x: array([809.72475096, 943.77349537, 168.99299284,  21.2127754 ,\n",
       "       452.01574249, 680.68687196, 717.54973965, 483.06126497,\n",
       "       249.1471718 , 923.80783329, 503.21663303, 803.77925697,\n",
       "       169.69695273, 496.83231259, 271.67937631, 991.70926902,\n",
       "       719.14032705, 529.89605505, 397.03559005, 194.22284693])"
      ]
     },
     "execution_count": 141,
     "metadata": {},
     "output_type": "execute_result"
    }
   ],
   "source": [
    "res"
   ]
  },
  {
   "cell_type": "code",
   "execution_count": 142,
   "metadata": {},
   "outputs": [
    {
     "data": {
      "text/plain": [
       "False"
      ]
     },
     "execution_count": 142,
     "metadata": {},
     "output_type": "execute_result"
    }
   ],
   "source": [
    "res.success"
   ]
  },
  {
   "cell_type": "code",
   "execution_count": 143,
   "metadata": {},
   "outputs": [
    {
     "data": {
      "text/plain": [
       "3017"
      ]
     },
     "execution_count": 143,
     "metadata": {},
     "output_type": "execute_result"
    }
   ],
   "source": [
    "res.nit"
   ]
  },
  {
   "cell_type": "code",
   "execution_count": 144,
   "metadata": {},
   "outputs": [
    {
     "data": {
      "text/plain": [
       "4000"
      ]
     },
     "execution_count": 144,
     "metadata": {},
     "output_type": "execute_result"
    }
   ],
   "source": [
    "res.nfev"
   ]
  },
  {
   "cell_type": "code",
   "execution_count": 145,
   "metadata": {},
   "outputs": [
    {
     "data": {
      "text/plain": [
       "1"
      ]
     },
     "execution_count": 145,
     "metadata": {},
     "output_type": "execute_result"
    }
   ],
   "source": [
    "res.status"
   ]
  },
  {
   "cell_type": "code",
   "execution_count": 146,
   "metadata": {},
   "outputs": [
    {
     "data": {
      "text/plain": [
       "'Maximum number of function evaluations has been exceeded.'"
      ]
     },
     "execution_count": 146,
     "metadata": {},
     "output_type": "execute_result"
    }
   ],
   "source": [
    "res.message"
   ]
  },
  {
   "cell_type": "code",
   "execution_count": null,
   "metadata": {},
   "outputs": [],
   "source": []
  },
  {
   "cell_type": "code",
   "execution_count": 147,
   "metadata": {
    "ExecuteTime": {
     "end_time": "2019-02-06T06:58:13.335858Z",
     "start_time": "2019-02-06T06:58:13.287002Z"
    }
   },
   "outputs": [
    {
     "data": {
      "text/plain": [
       "-3.0000413261590784"
      ]
     },
     "execution_count": 147,
     "metadata": {},
     "output_type": "execute_result"
    }
   ],
   "source": [
    "F(res.x, dt)"
   ]
  },
  {
   "cell_type": "code",
   "execution_count": 148,
   "metadata": {
    "ExecuteTime": {
     "end_time": "2019-02-06T06:58:13.883796Z",
     "start_time": "2019-02-06T06:58:13.615769Z"
    }
   },
   "outputs": [
    {
     "data": {
      "text/plain": [
       "(<Figure size 576x432 with 2 Axes>,\n",
       " <matplotlib.axes._subplots.AxesSubplot at 0x7fe1e0a74d30>)"
      ]
     },
     "execution_count": 148,
     "metadata": {},
     "output_type": "execute_result"
    },
    {
     "data": {
      "image/png": "[encoded data removed]",
      "text/plain": [
       "<Figure size 576x432 with 2 Axes>"
      ]
     },
     "metadata": {},
     "output_type": "display_data"
    }
   ],
   "source": [
    "hinton(L_full_maker(res.x, dt))"
   ]
  },
  {
   "cell_type": "code",
   "execution_count": 149,
   "metadata": {
    "ExecuteTime": {
     "end_time": "2019-02-06T06:58:13.931478Z",
     "start_time": "2019-02-06T06:58:13.885947Z"
    }
   },
   "outputs": [
    {
     "data": {
      "text/latex": [
       "Quantum object: dims = [[2, 2], [2, 2]], shape = (4, 4), type = oper, isherm = False\\begin{equation*}\\left(\\begin{array}{*{11}c}0.500 & (-9.234\\times10^{-04}+1.039\\times10^{-05}j) & (-9.234\\times10^{-04}-1.039\\times10^{-05}j) & 0.500\\\\(9.235\\times10^{-04}+1.702\\times10^{-06}j) & (1.258\\times10^{-04}-1.128\\times10^{-05}j) & (1.221\\times10^{-04}+2.077\\times10^{-05}j) & (-9.235\\times10^{-04}-1.702\\times10^{-06}j)\\\\(9.235\\times10^{-04}-1.702\\times10^{-06}j) & (1.221\\times10^{-04}-2.077\\times10^{-05}j) & (1.258\\times10^{-04}+1.128\\times10^{-05}j) & (-9.235\\times10^{-04}+1.702\\times10^{-06}j)\\\\0.500 & (9.234\\times10^{-04}-1.039\\times10^{-05}j) & (9.234\\times10^{-04}+1.039\\times10^{-05}j) & 0.500\\\\\\end{array}\\right)\\end{equation*}"
      ],
      "text/plain": [
       "Quantum object: dims = [[2, 2], [2, 2]], shape = (4, 4), type = oper, isherm = False\n",
       "Qobj data =\n",
       "[[ 5.00130718e-01+0.00000000e+00j -9.23354795e-04+1.03933603e-05j\n",
       "  -9.23354794e-04-1.03933603e-05j  4.99869282e-01+0.00000000e+00j]\n",
       " [ 9.23478067e-04+1.70175388e-06j  1.25804094e-04-1.12816993e-05j\n",
       "   1.22124418e-04+2.07674819e-05j -9.23478067e-04-1.70175388e-06j]\n",
       " [ 9.23478067e-04-1.70175388e-06j  1.22124418e-04-2.07674819e-05j\n",
       "   1.25804094e-04+1.12816993e-05j -9.23478067e-04+1.70175388e-06j]\n",
       " [ 4.99869282e-01+0.00000000e+00j  9.23354794e-04-1.03933603e-05j\n",
       "   9.23354795e-04+1.03933603e-05j  5.00130718e-01+0.00000000e+00j]]"
      ]
     },
     "execution_count": 149,
     "metadata": {},
     "output_type": "execute_result"
    }
   ],
   "source": [
    "L_full_maker(res.x, dt)"
   ]
  },
  {
   "cell_type": "markdown",
   "metadata": {},
   "source": [
    "### Try"
   ]
  },
  {
   "cell_type": "code",
   "execution_count": 150,
   "metadata": {
    "ExecuteTime": {
     "end_time": "2019-02-06T07:11:15.646532Z",
     "start_time": "2019-02-06T06:58:13.933330Z"
    }
   },
   "outputs": [
    {
     "name": "stdout",
     "output_type": "stream",
     "text": [
      "Warning: Maximum number of function evaluations has been exceeded.\n",
      "[568.49557574 691.55516111 772.24620699 887.70307693 533.2628669\n",
      " 824.24416981 761.32011196 477.63844375 483.08437526 606.80702529\n",
      " 366.90313424 655.50216974  36.99607036 594.18227965 188.37419335\n",
      " 847.83384788 323.36579831 781.09320435 759.38011293 415.39958912\n",
      " 516.62391369 707.31959114 619.51924493 235.99598997  14.62338182\n",
      " 905.55526583 803.83984705 179.32622951 611.60452813  28.44328694\n",
      " 553.18429186 254.21599906 820.9470613  725.75231031  79.49625294\n",
      " 920.52223329  80.82630509 658.40596912 892.21544894 650.24362819\n",
      " 870.65127975 191.09255338 551.06506416 625.65334602 358.04526168\n",
      " 919.44591901 629.93218939 439.59247306 566.60675987 254.51561459]\n"
     ]
    }
   ],
   "source": [
    "total_time = 10*pi/omega_1\n",
    "time_steps = 50\n",
    "dt = total_time/time_steps\n",
    "def f_nel(xi_vec):\n",
    "    return F(xi_vec, dt)\n",
    "\n",
    "x0 = 1000*random_sample((time_steps,))\n",
    "from scipy import optimize\n",
    "res = optimize.minimize(f_nel, x0, method='nelder-mead',\n",
    "                        options={'xtol': 1e-8, 'disp': True})\n",
    "print(res.x)"
   ]
  },
  {
   "cell_type": "code",
   "execution_count": 151,
   "metadata": {},
   "outputs": [
    {
     "data": {
      "text/plain": [
       "False"
      ]
     },
     "execution_count": 151,
     "metadata": {},
     "output_type": "execute_result"
    }
   ],
   "source": [
    "res.success"
   ]
  },
  {
   "cell_type": "code",
   "execution_count": 152,
   "metadata": {},
   "outputs": [
    {
     "data": {
      "text/plain": [
       "8294"
      ]
     },
     "execution_count": 152,
     "metadata": {},
     "output_type": "execute_result"
    }
   ],
   "source": [
    "res.nit"
   ]
  },
  {
   "cell_type": "code",
   "execution_count": 153,
   "metadata": {},
   "outputs": [
    {
     "data": {
      "text/plain": [
       "10000"
      ]
     },
     "execution_count": 153,
     "metadata": {},
     "output_type": "execute_result"
    }
   ],
   "source": [
    "res.nfev"
   ]
  },
  {
   "cell_type": "code",
   "execution_count": 154,
   "metadata": {},
   "outputs": [
    {
     "data": {
      "text/plain": [
       "1"
      ]
     },
     "execution_count": 154,
     "metadata": {},
     "output_type": "execute_result"
    }
   ],
   "source": [
    "res.status"
   ]
  },
  {
   "cell_type": "code",
   "execution_count": 155,
   "metadata": {},
   "outputs": [
    {
     "data": {
      "text/plain": [
       "'Maximum number of function evaluations has been exceeded.'"
      ]
     },
     "execution_count": 155,
     "metadata": {},
     "output_type": "execute_result"
    }
   ],
   "source": [
    "res.message"
   ]
  },
  {
   "cell_type": "markdown",
   "metadata": {},
   "source": [
    "# try"
   ]
  },
  {
   "cell_type": "code",
   "execution_count": 156,
   "metadata": {
    "ExecuteTime": {
     "end_time": "2019-02-06T07:11:15.646532Z",
     "start_time": "2019-02-06T06:58:13.933330Z"
    }
   },
   "outputs": [
    {
     "name": "stdout",
     "output_type": "stream",
     "text": [
      "Warning: Maximum number of function evaluations has been exceeded.\n",
      "[852.52741537  80.58802455 845.43020221 412.90520188 291.67746646\n",
      " 458.07321083 348.06305393 833.22721737 299.84397601 177.15488341\n",
      " 569.69450444 575.66461517  93.3952996  869.29179327 942.31293914\n",
      " 780.10664925 623.2507488  924.18731761 249.45080928 978.17345738\n",
      " 886.30956593 511.2082733  669.7517135  381.20426063 421.60869191\n",
      " 337.20955942  28.4480805  125.36543636 125.62063232 324.75123216\n",
      " 300.55073266 201.24806078 347.29877558 715.60326794 194.45368455\n",
      " 756.50732736 578.58144379 798.88945726 722.79070646 384.42824292\n",
      " 385.6225258  150.00065328  43.04351192 487.38450275 675.26308391\n",
      " 849.21218835 516.22306629 568.02728792 803.44248679 855.48627024]\n"
     ]
    }
   ],
   "source": [
    "total_time = 10*pi/omega_1\n",
    "time_steps = 50\n",
    "dt = total_time/time_steps\n",
    "def f_nel(xi_vec):\n",
    "    return F(xi_vec, dt)\n",
    "\n",
    "x0 = 1000*random_sample((time_steps,))\n",
    "from scipy import optimize\n",
    "res = optimize.minimize(f_nel, x0, method='nelder-mead',\n",
    "                        options={'xtol': 1e-8, 'disp': True})\n",
    "print(res.x)"
   ]
  },
  {
   "cell_type": "code",
   "execution_count": 157,
   "metadata": {},
   "outputs": [
    {
     "data": {
      "text/plain": [
       "False"
      ]
     },
     "execution_count": 157,
     "metadata": {},
     "output_type": "execute_result"
    }
   ],
   "source": [
    "res.success"
   ]
  },
  {
   "cell_type": "code",
   "execution_count": 158,
   "metadata": {},
   "outputs": [
    {
     "data": {
      "text/plain": [
       "8356"
      ]
     },
     "execution_count": 158,
     "metadata": {},
     "output_type": "execute_result"
    }
   ],
   "source": [
    "res.nit"
   ]
  },
  {
   "cell_type": "code",
   "execution_count": 159,
   "metadata": {},
   "outputs": [
    {
     "data": {
      "text/plain": [
       "10000"
      ]
     },
     "execution_count": 159,
     "metadata": {},
     "output_type": "execute_result"
    }
   ],
   "source": [
    "res.nfev"
   ]
  },
  {
   "cell_type": "code",
   "execution_count": 160,
   "metadata": {},
   "outputs": [
    {
     "data": {
      "text/plain": [
       "1"
      ]
     },
     "execution_count": 160,
     "metadata": {},
     "output_type": "execute_result"
    }
   ],
   "source": [
    "res.status"
   ]
  },
  {
   "cell_type": "code",
   "execution_count": 161,
   "metadata": {},
   "outputs": [
    {
     "data": {
      "text/plain": [
       "'Maximum number of function evaluations has been exceeded.'"
      ]
     },
     "execution_count": 161,
     "metadata": {},
     "output_type": "execute_result"
    }
   ],
   "source": [
    "res.message"
   ]
  },
  {
   "cell_type": "code",
   "execution_count": 162,
   "metadata": {
    "ExecuteTime": {
     "end_time": "2019-02-06T07:11:15.751613Z",
     "start_time": "2019-02-06T07:11:15.650929Z"
    }
   },
   "outputs": [
    {
     "data": {
      "text/plain": [
       "-3.000051664992832"
      ]
     },
     "execution_count": 162,
     "metadata": {},
     "output_type": "execute_result"
    }
   ],
   "source": [
    "F(res.x, dt)"
   ]
  },
  {
   "cell_type": "code",
   "execution_count": 163,
   "metadata": {
    "ExecuteTime": {
     "end_time": "2019-02-06T07:11:16.106970Z",
     "start_time": "2019-02-06T07:11:15.753554Z"
    }
   },
   "outputs": [
    {
     "data": {
      "text/plain": [
       "(<Figure size 576x432 with 2 Axes>,\n",
       " <matplotlib.axes._subplots.AxesSubplot at 0x7fe1e0956e80>)"
      ]
     },
     "execution_count": 163,
     "metadata": {},
     "output_type": "execute_result"
    },
    {
     "data": {
      "image/png": "[encoded data removed]",
      "text/plain": [
       "<Figure size 576x432 with 2 Axes>"
      ]
     },
     "metadata": {},
     "output_type": "display_data"
    }
   ],
   "source": [
    "hinton(L_full_maker(res.x, dt))"
   ]
  },
  {
   "cell_type": "code",
   "execution_count": 164,
   "metadata": {
    "ExecuteTime": {
     "end_time": "2019-02-06T07:11:16.207657Z",
     "start_time": "2019-02-06T07:11:16.109316Z"
    }
   },
   "outputs": [
    {
     "data": {
      "text/latex": [
       "Quantum object: dims = [[2, 2], [2, 2]], shape = (4, 4), type = oper, isherm = False\\begin{equation*}\\left(\\begin{array}{*{11}c}0.500 & (-9.301\\times10^{-04}-1.093\\times10^{-05}j) & (-9.301\\times10^{-04}+1.093\\times10^{-05}j) & 0.500\\\\(9.300\\times10^{-04}+9.629\\times10^{-06}j) & (-6.582\\times10^{-05}+2.467\\times10^{-05}j) & (-6.879\\times10^{-05}-2.383\\times10^{-06}j) & (-9.300\\times10^{-04}-9.629\\times10^{-06}j)\\\\(9.300\\times10^{-04}-9.629\\times10^{-06}j) & (-6.879\\times10^{-05}+2.383\\times10^{-06}j) & (-6.582\\times10^{-05}-2.467\\times10^{-05}j) & (-9.300\\times10^{-04}+9.629\\times10^{-06}j)\\\\0.500 & (9.301\\times10^{-04}+1.093\\times10^{-05}j) & (9.301\\times10^{-04}-1.093\\times10^{-05}j) & 0.500\\\\\\end{array}\\right)\\end{equation*}"
      ],
      "text/plain": [
       "Quantum object: dims = [[2, 2], [2, 2]], shape = (4, 4), type = oper, isherm = False\n",
       "Qobj data =\n",
       "[[ 4.99942392e-01+0.00000000e+00j -9.30055603e-04-1.09306236e-05j\n",
       "  -9.30055603e-04+1.09306236e-05j  5.00057608e-01+0.00000000e+00j]\n",
       " [ 9.30005406e-04+9.62904003e-06j -6.58221377e-05+2.46716522e-05j\n",
       "  -6.87855634e-05-2.38255123e-06j -9.30005406e-04-9.62904003e-06j]\n",
       " [ 9.30005406e-04-9.62904003e-06j -6.87855634e-05+2.38255123e-06j\n",
       "  -6.58221377e-05-2.46716522e-05j -9.30005406e-04+9.62904003e-06j]\n",
       " [ 5.00057608e-01+0.00000000e+00j  9.30055603e-04+1.09306236e-05j\n",
       "   9.30055603e-04-1.09306236e-05j  4.99942392e-01+0.00000000e+00j]]"
      ]
     },
     "execution_count": 164,
     "metadata": {},
     "output_type": "execute_result"
    }
   ],
   "source": [
    "L_full_maker(res.x, dt)"
   ]
  },
  {
   "cell_type": "markdown",
   "metadata": {},
   "source": [
    "### Try"
   ]
  },
  {
   "cell_type": "code",
   "execution_count": 165,
   "metadata": {
    "ExecuteTime": {
     "end_time": "2019-02-06T07:29:10.841299Z",
     "start_time": "2019-02-06T07:11:16.209694Z"
    }
   },
   "outputs": [
    {
     "name": "stdout",
     "output_type": "stream",
     "text": [
      "Warning: Maximum number of function evaluations has been exceeded.\n",
      "[2.86737303e+02 9.11629976e+02 1.79975765e+02 6.70084112e+02\n",
      " 3.50737971e+02 9.67170770e+02 9.38133376e+02 9.48525439e+01\n",
      " 4.56014183e+02 1.03204961e+03 2.90408045e+02 4.08989562e+02\n",
      " 5.66530308e+02 7.92961976e+02 3.04432106e+02 6.18665935e+01\n",
      " 9.37128053e+02 2.66624278e+02 9.50936568e+02 3.71176082e+02\n",
      " 8.02507240e+02 9.47113844e+01 5.00293836e+02 5.54337497e+02\n",
      " 7.17219468e+02 3.85613320e+02 4.14791160e+00 2.24341648e+02\n",
      " 5.51625365e+02 4.60904082e+02 8.75134729e+02 4.15691444e+02\n",
      " 2.94614173e+02 3.50110764e+02 7.92468572e+02 6.98833717e+02\n",
      " 6.63474185e+02 8.81395093e+02 6.76070871e+02 6.05630728e+02\n",
      " 5.02073100e+01 7.61314689e+02 6.35148927e+02 6.45358439e+02\n",
      " 1.18870049e+02 2.65370266e+02 7.95015150e+02 5.30436867e+02\n",
      " 2.19228032e-01 5.63966738e+02 8.55917906e+02 1.51332041e+00\n",
      " 4.38311643e+02 7.46532425e+02 8.16370095e+02 1.56994197e+01\n",
      " 2.82244976e+02 1.74213554e+02 8.43498883e+02 4.71980431e+02\n",
      " 4.14318082e+02 1.80185911e+02 2.73056101e+02 5.32566519e+02\n",
      " 5.91203668e+02 1.52808020e+02 7.37281501e+02 2.13794672e+02\n",
      " 5.29289625e+02 8.73869761e+02]\n"
     ]
    }
   ],
   "source": [
    "total_time = 10*pi/omega_1\n",
    "time_steps = 70\n",
    "dt = total_time/time_steps\n",
    "def f_nel(xi_vec):\n",
    "    return F(xi_vec, dt)\n",
    "\n",
    "x0 = 1000*random_sample((time_steps,))\n",
    "from scipy import optimize\n",
    "res = optimize.minimize(f_nel, x0, method='nelder-mead',\n",
    "                        options={'xtol': 1e-8, 'disp': True})\n",
    "print(res.x)"
   ]
  },
  {
   "cell_type": "code",
   "execution_count": 166,
   "metadata": {},
   "outputs": [
    {
     "data": {
      "text/plain": [
       "False"
      ]
     },
     "execution_count": 166,
     "metadata": {},
     "output_type": "execute_result"
    }
   ],
   "source": [
    "res.success"
   ]
  },
  {
   "cell_type": "code",
   "execution_count": 167,
   "metadata": {},
   "outputs": [
    {
     "data": {
      "text/plain": [
       "12305"
      ]
     },
     "execution_count": 167,
     "metadata": {},
     "output_type": "execute_result"
    }
   ],
   "source": [
    "res.nit"
   ]
  },
  {
   "cell_type": "code",
   "execution_count": 168,
   "metadata": {},
   "outputs": [
    {
     "data": {
      "text/plain": [
       "14000"
      ]
     },
     "execution_count": 168,
     "metadata": {},
     "output_type": "execute_result"
    }
   ],
   "source": [
    "res.nfev"
   ]
  },
  {
   "cell_type": "code",
   "execution_count": 169,
   "metadata": {},
   "outputs": [
    {
     "data": {
      "text/plain": [
       "1"
      ]
     },
     "execution_count": 169,
     "metadata": {},
     "output_type": "execute_result"
    }
   ],
   "source": [
    "res.status"
   ]
  },
  {
   "cell_type": "code",
   "execution_count": 170,
   "metadata": {},
   "outputs": [
    {
     "data": {
      "text/plain": [
       "'Maximum number of function evaluations has been exceeded.'"
      ]
     },
     "execution_count": 170,
     "metadata": {},
     "output_type": "execute_result"
    }
   ],
   "source": [
    "res.message"
   ]
  },
  {
   "cell_type": "code",
   "execution_count": 171,
   "metadata": {
    "ExecuteTime": {
     "end_time": "2019-02-06T07:29:10.843396Z",
     "start_time": "2019-02-06T07:00:46.554Z"
    }
   },
   "outputs": [
    {
     "data": {
      "text/plain": [
       "-3.0064608252508824"
      ]
     },
     "execution_count": 171,
     "metadata": {},
     "output_type": "execute_result"
    }
   ],
   "source": [
    "F(res.x, dt)"
   ]
  },
  {
   "cell_type": "code",
   "execution_count": 172,
   "metadata": {
    "ExecuteTime": {
     "end_time": "2019-02-06T07:29:10.844960Z",
     "start_time": "2019-02-06T07:00:47.038Z"
    }
   },
   "outputs": [
    {
     "data": {
      "text/plain": [
       "(<Figure size 576x432 with 2 Axes>,\n",
       " <matplotlib.axes._subplots.AxesSubplot at 0x7fe1e09ec940>)"
      ]
     },
     "execution_count": 172,
     "metadata": {},
     "output_type": "execute_result"
    },
    {
     "data": {
      "image/png": "[encoded data removed]",
      "text/plain": [
       "<Figure size 576x432 with 2 Axes>"
      ]
     },
     "metadata": {},
     "output_type": "display_data"
    }
   ],
   "source": [
    "hinton(L_full_maker(res.x, dt))"
   ]
  },
  {
   "cell_type": "code",
   "execution_count": 173,
   "metadata": {
    "ExecuteTime": {
     "end_time": "2019-02-06T07:29:10.846679Z",
     "start_time": "2019-02-06T07:00:47.578Z"
    }
   },
   "outputs": [
    {
     "data": {
      "text/latex": [
       "Quantum object: dims = [[2, 2], [2, 2]], shape = (4, 4), type = oper, isherm = False\\begin{equation*}\\left(\\begin{array}{*{11}c}0.501 & (1.473\\times10^{-05}-2.426\\times10^{-05}j) & (1.473\\times10^{-05}+2.426\\times10^{-05}j) & 0.499\\\\(1.345\\times10^{-04}+3.529\\times10^{-05}j) & (-6.567\\times10^{-04}+3.968\\times10^{-05}j) & (-6.551\\times10^{-04}+1.981\\times10^{-06}j) & (-1.345\\times10^{-04}-3.529\\times10^{-05}j)\\\\(1.345\\times10^{-04}-3.529\\times10^{-05}j) & (-6.551\\times10^{-04}-1.981\\times10^{-06}j) & (-6.567\\times10^{-04}-3.968\\times10^{-05}j) & (-1.345\\times10^{-04}+3.529\\times10^{-05}j)\\\\0.499 & (-1.473\\times10^{-05}+2.426\\times10^{-05}j) & (-1.473\\times10^{-05}-2.426\\times10^{-05}j) & 0.501\\\\\\end{array}\\right)\\end{equation*}"
      ],
      "text/plain": [
       "Quantum object: dims = [[2, 2], [2, 2]], shape = (4, 4), type = oper, isherm = False\n",
       "Qobj data =\n",
       "[[ 5.00958751e-01+0.00000000e+00j  1.47260480e-05-2.42607209e-05j\n",
       "   1.47260481e-05+2.42607209e-05j  4.99041249e-01+0.00000000e+00j]\n",
       " [ 1.34526100e-04+3.52897905e-05j -6.56746056e-04+3.96794122e-05j\n",
       "  -6.55084770e-04+1.98116719e-06j -1.34526100e-04-3.52897905e-05j]\n",
       " [ 1.34526100e-04-3.52897905e-05j -6.55084770e-04-1.98116719e-06j\n",
       "  -6.56746056e-04-3.96794122e-05j -1.34526100e-04+3.52897905e-05j]\n",
       " [ 4.99041249e-01+0.00000000e+00j -1.47260481e-05+2.42607209e-05j\n",
       "  -1.47260480e-05-2.42607209e-05j  5.00958751e-01+0.00000000e+00j]]"
      ]
     },
     "execution_count": 173,
     "metadata": {},
     "output_type": "execute_result"
    }
   ],
   "source": [
    "L_full_maker(res.x, dt)"
   ]
  },
  {
   "cell_type": "code",
   "execution_count": null,
   "metadata": {},
   "outputs": [],
   "source": []
  },
  {
   "cell_type": "markdown",
   "metadata": {},
   "source": [
    "### Try"
   ]
  },
  {
   "cell_type": "code",
   "execution_count": 174,
   "metadata": {
    "ExecuteTime": {
     "end_time": "2019-02-06T07:29:10.841299Z",
     "start_time": "2019-02-06T07:11:16.209694Z"
    }
   },
   "outputs": [
    {
     "name": "stdout",
     "output_type": "stream",
     "text": [
      "Warning: Maximum number of function evaluations has been exceeded.\n",
      "[3.10706942e+01 1.71661072e+02 4.96809313e+02 9.71691473e+02\n",
      " 7.50886130e+02 6.89623383e+01 1.02322539e+02 2.08787251e+02\n",
      " 8.32069280e+02 9.09327096e+01 7.16608116e+02 2.62616372e+02\n",
      " 7.99120148e-01 4.13789811e+02 8.28145319e+02 7.83119551e+02\n",
      " 6.98340896e+02 9.62622863e+02 4.03711600e+02 3.55991338e+02\n",
      " 7.90004260e+02 2.27247404e+02 8.54305436e+02 4.87159236e+02\n",
      " 8.88903806e+00 7.48168132e+01 5.64375641e+02 9.46723329e+02\n",
      " 5.18818426e+02 6.60802644e+02 4.44540515e+02 3.86244208e+02\n",
      " 2.30531296e+01 8.05730177e+02 9.35338435e+02 8.72545898e+02\n",
      " 6.70931711e+02 9.73244930e+01 5.08194568e+02 5.85807234e+02\n",
      " 9.09190156e+02 1.16914663e+02 8.40529495e+02 3.69015358e+02\n",
      " 2.68798125e+02 3.72061407e+02 6.91754763e+02 5.45786893e+02\n",
      " 8.45484088e+02 1.29990769e+02]\n"
     ]
    }
   ],
   "source": [
    "total_time = 4*pi/omega_1\n",
    "time_steps = 50\n",
    "dt = total_time/time_steps\n",
    "def f_nel(xi_vec):\n",
    "    return F(xi_vec, dt)\n",
    "\n",
    "x0 = 1000*random_sample((time_steps,))\n",
    "from scipy import optimize\n",
    "res = optimize.minimize(f_nel, x0, method='nelder-mead',\n",
    "                        options={'xtol': 1e-8, 'disp': True})\n",
    "print(res.x)"
   ]
  },
  {
   "cell_type": "code",
   "execution_count": 175,
   "metadata": {},
   "outputs": [
    {
     "data": {
      "text/plain": [
       "False"
      ]
     },
     "execution_count": 175,
     "metadata": {},
     "output_type": "execute_result"
    }
   ],
   "source": [
    "res.success"
   ]
  },
  {
   "cell_type": "code",
   "execution_count": 176,
   "metadata": {},
   "outputs": [
    {
     "data": {
      "text/plain": [
       "8561"
      ]
     },
     "execution_count": 176,
     "metadata": {},
     "output_type": "execute_result"
    }
   ],
   "source": [
    "res.nit"
   ]
  },
  {
   "cell_type": "code",
   "execution_count": 177,
   "metadata": {},
   "outputs": [
    {
     "data": {
      "text/plain": [
       "10000"
      ]
     },
     "execution_count": 177,
     "metadata": {},
     "output_type": "execute_result"
    }
   ],
   "source": [
    "res.nfev"
   ]
  },
  {
   "cell_type": "code",
   "execution_count": 178,
   "metadata": {},
   "outputs": [
    {
     "data": {
      "text/plain": [
       "1"
      ]
     },
     "execution_count": 178,
     "metadata": {},
     "output_type": "execute_result"
    }
   ],
   "source": [
    "res.status"
   ]
  },
  {
   "cell_type": "code",
   "execution_count": 179,
   "metadata": {},
   "outputs": [
    {
     "data": {
      "text/plain": [
       "'Maximum number of function evaluations has been exceeded.'"
      ]
     },
     "execution_count": 179,
     "metadata": {},
     "output_type": "execute_result"
    }
   ],
   "source": [
    "res.message"
   ]
  },
  {
   "cell_type": "code",
   "execution_count": 181,
   "metadata": {
    "ExecuteTime": {
     "end_time": "2019-02-06T07:29:10.843396Z",
     "start_time": "2019-02-06T07:00:46.554Z"
    }
   },
   "outputs": [
    {
     "data": {
      "text/plain": [
       "-3.118236654375054"
      ]
     },
     "execution_count": 181,
     "metadata": {},
     "output_type": "execute_result"
    }
   ],
   "source": [
    "F(res.x, dt)"
   ]
  },
  {
   "cell_type": "code",
   "execution_count": 182,
   "metadata": {
    "ExecuteTime": {
     "end_time": "2019-02-06T07:29:10.844960Z",
     "start_time": "2019-02-06T07:00:47.038Z"
    }
   },
   "outputs": [
    {
     "data": {
      "text/plain": [
       "(<Figure size 576x432 with 2 Axes>,\n",
       " <matplotlib.axes._subplots.AxesSubplot at 0x7fe1e0ea9d68>)"
      ]
     },
     "execution_count": 182,
     "metadata": {},
     "output_type": "execute_result"
    },
    {
     "data": {
      "image/png": "[encoded data removed]",
      "text/plain": [
       "<Figure size 576x432 with 2 Axes>"
      ]
     },
     "metadata": {},
     "output_type": "display_data"
    }
   ],
   "source": [
    "hinton(L_full_maker(res.x, dt))"
   ]
  },
  {
   "cell_type": "code",
   "execution_count": 183,
   "metadata": {
    "ExecuteTime": {
     "end_time": "2019-02-06T07:29:10.846679Z",
     "start_time": "2019-02-06T07:00:47.578Z"
    }
   },
   "outputs": [
    {
     "data": {
      "text/latex": [
       "Quantum object: dims = [[2, 2], [2, 2]], shape = (4, 4), type = oper, isherm = False\\begin{equation*}\\left(\\begin{array}{*{11}c}0.487 & (0.012+0.018j) & (0.012-0.018j) & 0.513\\\\(-0.012-0.006j) & (-0.039+0.007j) & (-0.040-0.003j) & (0.012+0.006j)\\\\(-0.012+0.006j) & (-0.040+0.003j) & (-0.039-0.007j) & (0.012-0.006j)\\\\0.513 & (-0.012-0.018j) & (-0.012+0.018j) & 0.487\\\\\\end{array}\\right)\\end{equation*}"
      ],
      "text/plain": [
       "Quantum object: dims = [[2, 2], [2, 2]], shape = (4, 4), type = oper, isherm = False\n",
       "Qobj data =\n",
       "[[ 0.48720294+0.j          0.01212246+0.01822508j  0.01212246-0.01822508j\n",
       "   0.51279706+0.j        ]\n",
       " [-0.01178047-0.00630556j -0.03947225+0.0066154j  -0.03993338-0.00252488j\n",
       "   0.01178047+0.00630556j]\n",
       " [-0.01178047+0.00630556j -0.03993338+0.00252488j -0.03947225-0.0066154j\n",
       "   0.01178047-0.00630556j]\n",
       " [ 0.51279706+0.j         -0.01212246-0.01822508j -0.01212246+0.01822508j\n",
       "   0.48720294+0.j        ]]"
      ]
     },
     "execution_count": 183,
     "metadata": {},
     "output_type": "execute_result"
    }
   ],
   "source": [
    "L_full_maker(res.x, dt)"
   ]
  },
  {
   "cell_type": "markdown",
   "metadata": {},
   "source": [
    "### Try"
   ]
  },
  {
   "cell_type": "code",
   "execution_count": 184,
   "metadata": {
    "ExecuteTime": {
     "end_time": "2019-02-06T07:29:10.841299Z",
     "start_time": "2019-02-06T07:11:16.209694Z"
    }
   },
   "outputs": [
    {
     "name": "stdout",
     "output_type": "stream",
     "text": [
      "Warning: Maximum number of function evaluations has been exceeded.\n",
      "[226.83291309 312.81435953 501.77844453 601.28217192  53.80032877\n",
      " 167.76636016 302.26228172 335.12137095 318.95500147 266.46389058\n",
      " 825.45210804  71.71940408 890.35205434 830.78096938 182.91230712\n",
      " 212.43241318  88.69960523 582.81847503 525.6371177  629.1219515\n",
      " 945.58042661  11.66089477 171.19504663  40.91258786 516.64654072\n",
      " 707.42600113 150.50465288 391.2405175  346.96842478 974.78051796\n",
      " 594.11131398 664.25729123  49.28968793 143.35534293  51.81735592\n",
      " 793.10607987  69.6525971  784.42909008 488.00596026 825.77887031\n",
      "  41.24330211 167.18230788 388.77367619 724.7851242  600.06743316\n",
      "   9.63939838  67.11789631 911.7055435  919.16602172  24.09296792\n",
      " 693.76139565 764.8661289  396.31003728 653.29797886  89.3452998\n",
      " 588.49914555 208.98077443 361.41066166 250.21122437 280.79046075\n",
      " 560.74417364 934.74365484 876.05675858 829.36008234  19.126736\n",
      " 833.10554457 750.02290947 537.14864619 208.05022488 207.02749251\n",
      " 618.95109998 601.82430529 153.58516742 656.02885946 248.72161701\n",
      " 480.16657554 501.78052754 499.40187346  69.15692428 469.94973023\n",
      " 586.08472449 326.81559268 968.39847848 862.66946975 852.14118042\n",
      " 300.84507869 251.07875489 176.53929248 794.04296449 514.5786545\n",
      " 845.86893684 284.66704487 215.92727155 454.16285716 146.52645506\n",
      "  14.79997821 769.46666519 991.24608342 299.35598726 217.42925108]\n"
     ]
    }
   ],
   "source": [
    "total_time = 10*pi/omega_1\n",
    "time_steps = 100\n",
    "dt = total_time/time_steps\n",
    "def f_nel(xi_vec):\n",
    "    return F(xi_vec, dt)\n",
    "\n",
    "x0 = 1000*random_sample((time_steps,))\n",
    "from scipy import optimize\n",
    "res = optimize.minimize(f_nel, x0, method='nelder-mead',\n",
    "                        options={'xtol': 1e-8, 'disp': True})\n",
    "print(res.x)"
   ]
  },
  {
   "cell_type": "code",
   "execution_count": 185,
   "metadata": {},
   "outputs": [
    {
     "data": {
      "text/plain": [
       "False"
      ]
     },
     "execution_count": 185,
     "metadata": {},
     "output_type": "execute_result"
    }
   ],
   "source": [
    "res.success"
   ]
  },
  {
   "cell_type": "code",
   "execution_count": 186,
   "metadata": {},
   "outputs": [
    {
     "data": {
      "text/plain": [
       "17731"
      ]
     },
     "execution_count": 186,
     "metadata": {},
     "output_type": "execute_result"
    }
   ],
   "source": [
    "res.nit"
   ]
  },
  {
   "cell_type": "code",
   "execution_count": 187,
   "metadata": {},
   "outputs": [
    {
     "data": {
      "text/plain": [
       "20000"
      ]
     },
     "execution_count": 187,
     "metadata": {},
     "output_type": "execute_result"
    }
   ],
   "source": [
    "res.nfev"
   ]
  },
  {
   "cell_type": "code",
   "execution_count": 188,
   "metadata": {},
   "outputs": [
    {
     "data": {
      "text/plain": [
       "1"
      ]
     },
     "execution_count": 188,
     "metadata": {},
     "output_type": "execute_result"
    }
   ],
   "source": [
    "res.status"
   ]
  },
  {
   "cell_type": "code",
   "execution_count": 189,
   "metadata": {},
   "outputs": [
    {
     "data": {
      "text/plain": [
       "'Maximum number of function evaluations has been exceeded.'"
      ]
     },
     "execution_count": 189,
     "metadata": {},
     "output_type": "execute_result"
    }
   ],
   "source": [
    "res.message"
   ]
  },
  {
   "cell_type": "code",
   "execution_count": 190,
   "metadata": {
    "ExecuteTime": {
     "end_time": "2019-02-06T07:29:10.843396Z",
     "start_time": "2019-02-06T07:00:46.554Z"
    }
   },
   "outputs": [
    {
     "data": {
      "text/plain": [
       "-3.0001710681880445"
      ]
     },
     "execution_count": 190,
     "metadata": {},
     "output_type": "execute_result"
    }
   ],
   "source": [
    "F(res.x, dt)"
   ]
  },
  {
   "cell_type": "code",
   "execution_count": 191,
   "metadata": {
    "ExecuteTime": {
     "end_time": "2019-02-06T07:29:10.844960Z",
     "start_time": "2019-02-06T07:00:47.038Z"
    }
   },
   "outputs": [
    {
     "data": {
      "text/plain": [
       "(<Figure size 576x432 with 2 Axes>,\n",
       " <matplotlib.axes._subplots.AxesSubplot at 0x7fe1e0811470>)"
      ]
     },
     "execution_count": 191,
     "metadata": {},
     "output_type": "execute_result"
    },
    {
     "data": {
      "image/png": "[encoded data removed]",
      "text/plain": [
       "<Figure size 576x432 with 2 Axes>"
      ]
     },
     "metadata": {},
     "output_type": "display_data"
    }
   ],
   "source": [
    "hinton(L_full_maker(res.x, dt))"
   ]
  },
  {
   "cell_type": "code",
   "execution_count": 192,
   "metadata": {
    "ExecuteTime": {
     "end_time": "2019-02-06T07:29:10.846679Z",
     "start_time": "2019-02-06T07:00:47.578Z"
    }
   },
   "outputs": [
    {
     "data": {
      "text/latex": [
       "Quantum object: dims = [[2, 2], [2, 2]], shape = (4, 4), type = oper, isherm = False\\begin{equation*}\\left(\\begin{array}{*{11}c}0.499 & (-5.937\\times10^{-04}+3.405\\times10^{-05}j) & (-5.937\\times10^{-04}-3.405\\times10^{-05}j) & 0.501\\\\(5.938\\times10^{-04}+5.097\\times10^{-06}j) & (-7.287\\times10^{-04}-4.024\\times10^{-05}j) & (-7.325\\times10^{-04}+3.450\\times10^{-06}j) & (-5.938\\times10^{-04}-5.097\\times10^{-06}j)\\\\(5.938\\times10^{-04}-5.097\\times10^{-06}j) & (-7.325\\times10^{-04}-3.450\\times10^{-06}j) & (-7.287\\times10^{-04}+4.024\\times10^{-05}j) & (-5.938\\times10^{-04}+5.097\\times10^{-06}j)\\\\0.501 & (5.937\\times10^{-04}-3.405\\times10^{-05}j) & (5.937\\times10^{-04}+3.405\\times10^{-05}j) & 0.499\\\\\\end{array}\\right)\\end{equation*}"
      ],
      "text/plain": [
       "Quantum object: dims = [[2, 2], [2, 2]], shape = (4, 4), type = oper, isherm = False\n",
       "Qobj data =\n",
       "[[ 0.49930858+0.00000000e+00j -0.00059366+3.40454116e-05j\n",
       "  -0.00059366-3.40454116e-05j  0.50069142+0.00000000e+00j]\n",
       " [ 0.00059381+5.09685049e-06j -0.0007287 -4.02413837e-05j\n",
       "  -0.00073247+3.45000141e-06j -0.00059381-5.09685049e-06j]\n",
       " [ 0.00059381-5.09685049e-06j -0.00073247-3.45000141e-06j\n",
       "  -0.0007287 +4.02413837e-05j -0.00059381+5.09685049e-06j]\n",
       " [ 0.50069142+0.00000000e+00j  0.00059366-3.40454116e-05j\n",
       "   0.00059366+3.40454116e-05j  0.49930858+0.00000000e+00j]]"
      ]
     },
     "execution_count": 192,
     "metadata": {},
     "output_type": "execute_result"
    }
   ],
   "source": [
    "L_full_maker(res.x, dt)"
   ]
  },
  {
   "cell_type": "markdown",
   "metadata": {},
   "source": [
    "# Running stuff"
   ]
  },
  {
   "cell_type": "markdown",
   "metadata": {},
   "source": [
    "### Try1"
   ]
  },
  {
   "cell_type": "code",
   "execution_count": 193,
   "metadata": {
    "ExecuteTime": {
     "end_time": "2019-01-30T06:45:43.171838Z",
     "start_time": "2019-01-30T06:45:43.167976Z"
    }
   },
   "outputs": [],
   "source": [
    "total_time = pi/omega_1\n",
    "epsilon = 10**(-6)\n",
    "max_iter = 10#10**4#1000#100#50#20\n",
    "time_steps = 20\n",
    "dt = total_time/time_steps"
   ]
  },
  {
   "cell_type": "code",
   "execution_count": 194,
   "metadata": {
    "ExecuteTime": {
     "end_time": "2019-02-05T06:46:25.461270Z",
     "start_time": "2019-02-05T06:46:24.809463Z"
    }
   },
   "outputs": [
    {
     "data": {
      "text/plain": [
       "(<Figure size 576x432 with 2 Axes>,\n",
       " <matplotlib.axes._subplots.AxesSubplot at 0x7fe1e0cf14e0>)"
      ]
     },
     "execution_count": 194,
     "metadata": {},
     "output_type": "execute_result"
    },
    {
     "data": {
      "image/png": "[encoded data removed]",
      "text/plain": [
       "<Figure size 576x432 with 2 Axes>"
      ]
     },
     "metadata": {},
     "output_type": "display_data"
    }
   ],
   "source": [
    "hinton(T)"
   ]
  },
  {
   "cell_type": "code",
   "execution_count": 195,
   "metadata": {
    "ExecuteTime": {
     "end_time": "2019-01-30T06:45:44.896037Z",
     "start_time": "2019-01-30T06:45:43.880469Z"
    }
   },
   "outputs": [
    {
     "data": {
      "text/plain": [
       "array([293.80055732+0.j, 659.18519834+0.j, 764.52195323+0.j,\n",
       "       552.73424835+0.j, 119.44956651+0.j, 219.13707857+0.j,\n",
       "       314.48123997+0.j,  82.76970153+0.j, 226.88901487+0.j,\n",
       "       168.25706911+0.j, 427.75952876+0.j, 747.88649201+0.j,\n",
       "       565.80859523+0.j, 981.84409999+0.j, 110.75768951+0.j,\n",
       "       382.91743902+0.j, 583.06839296+0.j, 291.86471636+0.j,\n",
       "       809.89573275+0.j, 872.48422396+0.j])"
      ]
     },
     "execution_count": 195,
     "metadata": {},
     "output_type": "execute_result"
    }
   ],
   "source": [
    "xi_opt = terminator(max_iter, time_steps, total_time, epsilon)\n",
    "xi_opt"
   ]
  },
  {
   "cell_type": "code",
   "execution_count": 196,
   "metadata": {
    "ExecuteTime": {
     "end_time": "2019-01-30T06:46:10.139616Z",
     "start_time": "2019-01-30T06:46:10.095029Z"
    }
   },
   "outputs": [
    {
     "data": {
      "text/plain": [
       "-4.21852635565865"
      ]
     },
     "execution_count": 196,
     "metadata": {},
     "output_type": "execute_result"
    }
   ],
   "source": [
    "F(xi_opt, dt)"
   ]
  },
  {
   "cell_type": "code",
   "execution_count": 197,
   "metadata": {
    "ExecuteTime": {
     "end_time": "2019-01-30T06:46:12.131167Z",
     "start_time": "2019-01-30T06:46:12.126804Z"
    }
   },
   "outputs": [
    {
     "data": {
      "text/plain": [
       "10"
      ]
     },
     "execution_count": 197,
     "metadata": {},
     "output_type": "execute_result"
    }
   ],
   "source": [
    "max_iter"
   ]
  },
  {
   "cell_type": "code",
   "execution_count": 198,
   "metadata": {
    "ExecuteTime": {
     "end_time": "2019-01-30T06:46:27.176473Z",
     "start_time": "2019-01-30T06:46:27.167332Z"
    }
   },
   "outputs": [
    {
     "data": {
      "text/latex": [
       "Quantum object: dims = [[2, 2], [2, 2]], shape = (4, 4), type = oper, isherm = True\\begin{equation*}\\left(\\begin{array}{*{11}c}0.0 & 0.0 & 0.0 & 1.0\\\\0.0 & 0.0 & 1.0 & 0.0\\\\0.0 & 1.0 & 0.0 & 0.0\\\\1.0 & 0.0 & 0.0 & 0.0\\\\\\end{array}\\right)\\end{equation*}"
      ],
      "text/plain": [
       "Quantum object: dims = [[2, 2], [2, 2]], shape = (4, 4), type = oper, isherm = True\n",
       "Qobj data =\n",
       "[[0. 0. 0. 1.]\n",
       " [0. 0. 1. 0.]\n",
       " [0. 1. 0. 0.]\n",
       " [1. 0. 0. 0.]]"
      ]
     },
     "execution_count": 198,
     "metadata": {},
     "output_type": "execute_result"
    }
   ],
   "source": [
    "T"
   ]
  },
  {
   "cell_type": "code",
   "execution_count": 199,
   "metadata": {
    "ExecuteTime": {
     "end_time": "2019-01-30T06:46:41.642530Z",
     "start_time": "2019-01-30T06:46:41.594029Z"
    }
   },
   "outputs": [
    {
     "data": {
      "text/latex": [
       "Quantum object: dims = [[2, 2], [2, 2]], shape = (4, 4), type = oper, isherm = False\\begin{equation*}\\left(\\begin{array}{*{11}c}0.249 & (0.090-0.002j) & (0.090+0.002j) & 0.751\\\\(-0.090+9.276\\times10^{-04}j) & (-0.109-4.445\\times10^{-04}j) & (-0.393-0.005j) & (0.090-9.276\\times10^{-04}j)\\\\(-0.090-9.276\\times10^{-04}j) & (-0.393+0.005j) & (-0.109+4.445\\times10^{-04}j) & (0.090+9.276\\times10^{-04}j)\\\\0.751 & (-0.090+0.002j) & (-0.090-0.002j) & 0.249\\\\\\end{array}\\right)\\end{equation*}"
      ],
      "text/plain": [
       "Quantum object: dims = [[2, 2], [2, 2]], shape = (4, 4), type = oper, isherm = False\n",
       "Qobj data =\n",
       "[[ 0.24886202+0.j          0.09008089-0.0023736j   0.09008089+0.0023736j\n",
       "   0.75113798+0.j        ]\n",
       " [-0.0901676 +0.00092756j -0.10864315-0.00044453j -0.39322055-0.00538541j\n",
       "   0.0901676 -0.00092756j]\n",
       " [-0.0901676 -0.00092756j -0.39322055+0.00538541j -0.10864315+0.00044453j\n",
       "   0.0901676 +0.00092756j]\n",
       " [ 0.75113798+0.j         -0.09008089+0.0023736j  -0.09008089-0.0023736j\n",
       "   0.24886202+0.j        ]]"
      ]
     },
     "execution_count": 199,
     "metadata": {},
     "output_type": "execute_result"
    }
   ],
   "source": [
    "L_full_maker(xi_opt, dt)"
   ]
  },
  {
   "cell_type": "code",
   "execution_count": 200,
   "metadata": {
    "ExecuteTime": {
     "end_time": "2019-01-30T06:47:10.034488Z",
     "start_time": "2019-01-30T06:47:09.148914Z"
    }
   },
   "outputs": [
    {
     "data": {
      "text/plain": [
       "(<Figure size 576x432 with 2 Axes>,\n",
       " <matplotlib.axes._subplots.AxesSubplot at 0x7fe1e06b8550>)"
      ]
     },
     "execution_count": 200,
     "metadata": {},
     "output_type": "execute_result"
    },
    {
     "data": {
      "image/png": "[encoded data removed]",
      "text/plain": [
       "<Figure size 576x432 with 2 Axes>"
      ]
     },
     "metadata": {},
     "output_type": "display_data"
    }
   ],
   "source": [
    "hinton(L_full_maker(xi_opt, dt))"
   ]
  },
  {
   "cell_type": "markdown",
   "metadata": {},
   "source": []
  },
  {
   "cell_type": "markdown",
   "metadata": {},
   "source": [
    "# Next chapter"
   ]
  },
  {
   "cell_type": "markdown",
   "metadata": {},
   "source": [
    "## memory clear (uses regex, so be careful)"
   ]
  },
  {
   "cell_type": "code",
   "execution_count": 201,
   "metadata": {
    "ExecuteTime": {
     "end_time": "2019-01-31T17:50:51.925936Z",
     "start_time": "2019-01-31T17:50:51.921119Z"
    }
   },
   "outputs": [],
   "source": [
    "%reset_selective -f var1, var2  # replace var1, var2 with your defined ones"
   ]
  },
  {
   "cell_type": "markdown",
   "metadata": {},
   "source": [
    "## sub topic 2"
   ]
  },
  {
   "cell_type": "code",
   "execution_count": 202,
   "metadata": {
    "ExecuteTime": {
     "end_time": "2019-01-31T17:50:53.448827Z",
     "start_time": "2019-01-31T17:50:53.441308Z"
    }
   },
   "outputs": [
    {
     "data": {
      "text/latex": [
       "Quantum object: dims = [[2, 2], [2, 2]], shape = (4, 4), type = oper, isherm = True\\begin{equation*}\\left(\\begin{array}{*{11}c}1.0 & 0.0 & 0.0 & 0.0\\\\0.0 & 1.0 & 0.0 & 0.0\\\\0.0 & 0.0 & 0.0 & 1.0\\\\0.0 & 0.0 & 1.0 & 0.0\\\\\\end{array}\\right)\\end{equation*}"
      ],
      "text/plain": [
       "Quantum object: dims = [[2, 2], [2, 2]], shape = (4, 4), type = oper, isherm = True\n",
       "Qobj data =\n",
       "[[1. 0. 0. 0.]\n",
       " [0. 1. 0. 0.]\n",
       " [0. 0. 0. 1.]\n",
       " [0. 0. 1. 0.]]"
      ]
     },
     "execution_count": 202,
     "metadata": {},
     "output_type": "execute_result"
    }
   ],
   "source": [
    "cnot()"
   ]
  },
  {
   "cell_type": "markdown",
   "metadata": {},
   "source": [
    "## sub topic 3"
   ]
  },
  {
   "cell_type": "markdown",
   "metadata": {},
   "source": [
    "### sub sub topic 1"
   ]
  },
  {
   "cell_type": "code",
   "execution_count": null,
   "metadata": {},
   "outputs": [],
   "source": []
  },
  {
   "cell_type": "code",
   "execution_count": null,
   "metadata": {},
   "outputs": [],
   "source": []
  },
  {
   "cell_type": "code",
   "execution_count": null,
   "metadata": {},
   "outputs": [],
   "source": []
  },
  {
   "cell_type": "code",
   "execution_count": null,
   "metadata": {},
   "outputs": [],
   "source": []
  }
 ],
 "metadata": {
  "kernelspec": {
   "display_name": "Python 3",
   "language": "python",
   "name": "python3"
  },
  "language_info": {
   "codemirror_mode": {
    "name": "ipython",
    "version": 3
   },
   "file_extension": ".py",
   "mimetype": "text/x-python",
   "name": "python",
   "nbconvert_exporter": "python",
   "pygments_lexer": "ipython3",
   "version": "3.6.6"
  },
  "toc": {
   "base_numbering": 1,
   "nav_menu": {},
   "number_sections": true,
   "sideBar": true,
   "skip_h1_title": false,
   "title_cell": "Table of Contents",
   "title_sidebar": "Contents",
   "toc_cell": false,
   "toc_position": {},
   "toc_section_display": true,
   "toc_window_display": false
  }
 },
 "nbformat": 4,
 "nbformat_minor": 2
}
