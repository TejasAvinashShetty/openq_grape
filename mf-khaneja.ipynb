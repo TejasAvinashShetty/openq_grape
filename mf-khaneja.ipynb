{
 "cells": [
  {
   "cell_type": "markdown",
   "metadata": {},
   "source": [
    "# Imports"
   ]
  },
  {
   "cell_type": "code",
   "execution_count": 68,
   "metadata": {
    "ExecuteTime": {
     "end_time": "2019-01-31T03:40:16.439615Z",
     "start_time": "2019-01-31T03:40:16.431240Z"
    }
   },
   "outputs": [],
   "source": [
    "\n",
    "# coding: utf-8\n",
    "\n",
    "# # Imports\n",
    "\n",
    "# ## Qutip imports 1\n",
    "\n",
    "# In[1]:\n",
    "\n",
    "\n",
    "from qutip.operators import sigmax, sigmay, sigmaz, identity\n",
    "# position, momentum, num, create, destroy, commutator, qeye \n",
    "from qutip.tensor import tensor\n",
    "from qutip.qip.gates import swap, rx, ry, rz\n",
    "from qutip.qobj import Qobj\n",
    "from qutip.visualization import hinton\n",
    "from qutip.visualization import matrix_histogram_complex, matrix_histogram\n",
    "from qutip.random_objects import rand_herm, rand_unitary, rand_dm\n",
    "\n",
    "\n",
    "# ## Qutip imports 2\n",
    "\n",
    "# In[2]:\n",
    "\n",
    "\n",
    "#from \n",
    "\n",
    "\n",
    "# ## Numpy imports \n",
    "\n",
    "# In[2]:\n",
    "\n",
    "\n",
    "from numpy import sin, cos, tan, real, imag,  log, conj\n",
    "from numpy import array, append, linspace, arange\n",
    "from numpy import add, sqrt, abs, dot\n",
    "from numpy.random import random, random_sample, rand, seed, RandomState\n",
    "from numpy import concatenate, trace, diag\n",
    "from numpy import ones, zeros, ones_like, zeros_like\n",
    "from numpy import amax, amin, nanmax, nanmin\n",
    "from numpy import outer, multiply\n",
    "# from numpy import pi\n",
    "\n",
    "\n",
    "# ## Scipy imports\n",
    "\n",
    "# In[17]:\n",
    "\n",
    "\n",
    "from scipy.integrate import ode, odeint, complex_ode\n",
    "from scipy.optimize import minimize\n",
    "from scipy.linalg import eigh, inv, norm, expm\n",
    "# from scipy.linalg import \n",
    "# from scipy import\n",
    "\n",
    "\n",
    "# ## Matplotlib imports\n",
    "\n",
    "# In[18]:\n",
    "\n",
    "\n",
    "from matplotlib.pyplot import plot, figure, show, savefig, axes\n",
    "from matplotlib.pyplot import xlabel, ylabel, title, legend\n",
    "from matplotlib import rcParams\n",
    "from matplotlib.pyplot import style \n",
    "from matplotlib.pyplot import xlim, ylim, axis \n",
    "# beware not same as axes\n",
    "from matplotlib.pyplot import subplot, subplots, text\n",
    "from matplotlib.pyplot import GridSpec\n",
    "from matplotlib.pyplot import scatter, colorbar\n",
    "\n",
    "\n",
    "pgf_with_rc_fonts = {\"pgf.texsystem\": \"pdflatex\"}\n",
    "rcParams.update(pgf_with_rc_fonts)\n",
    "style.use('seaborn-whitegrid')\n",
    "\n",
    "\n",
    "# ## Math imports\n",
    "\n",
    "# In[19]:\n",
    "\n",
    "\n",
    "from math import pi\n",
    "from math import exp\n",
    "\n",
    "\n",
    "# ## Cmath imports\n",
    "\n",
    "# ## Date and datetime imports\n",
    "\n",
    "# In[20]:\n",
    "\n",
    "\n",
    "from datetime import date\n",
    "from datetime import datetime# now\n",
    "\n",
    "\n",
    "# ## Os imports\n",
    "\n",
    "# In[21]:\n",
    "\n",
    "\n",
    "from os import getcwd, mkdir, chdir\n",
    "from os.path import abspath, join \n",
    "\n",
    "\n",
    "# ## Sympy imports\n",
    "\n",
    "# In[22]:\n",
    "\n",
    "\n",
    "from sympy import Function, dsolve, Eq, Derivative, symbols\n",
    "# x, y, z, t = symbols('x y z t')\n",
    "# k, m, n = symbols('k m n', integer=True)\n",
    "# f, g, h = symbols('f g h', cls=Function)\n",
    "\n",
    "\n",
    "# ## Miscellaneous imports\n",
    "\n",
    "# ## Extra useful functions\n",
    "\n",
    "# In[23]:\n",
    "\n",
    "\n",
    "def rint(x):\n",
    "    print(\"x = \", x)\n",
    "    return None\n",
    "\n",
    "\n",
    "# # Next chapter\n",
    "\n",
    "# ## sub topic 1\n",
    "\n",
    "# ## sub topic 2\n",
    "\n",
    "# ## sub topic 3\n",
    "\n",
    "# ### sub sub topic 1\n",
    "\n"
   ]
  },
  {
   "cell_type": "markdown",
   "metadata": {},
   "source": [
    "# The code "
   ]
  },
  {
   "cell_type": "markdown",
   "metadata": {},
   "source": [
    "## memory wiping"
   ]
  },
  {
   "cell_type": "code",
   "execution_count": 69,
   "metadata": {
    "ExecuteTime": {
     "end_time": "2019-01-31T03:40:16.633826Z",
     "start_time": "2019-01-31T03:40:16.630680Z"
    }
   },
   "outputs": [],
   "source": [
    "%reset_selective -f  omega_1, total_time, epsilon, max_iter, time_steps, dt"
   ]
  },
  {
   "cell_type": "code",
   "execution_count": 70,
   "metadata": {
    "ExecuteTime": {
     "end_time": "2019-01-31T03:40:16.639987Z",
     "start_time": "2019-01-31T03:40:16.636617Z"
    }
   },
   "outputs": [],
   "source": [
    "%reset_selective -f  Lin, T_s, I"
   ]
  },
  {
   "cell_type": "markdown",
   "metadata": {},
   "source": [
    "## Building parts"
   ]
  },
  {
   "cell_type": "markdown",
   "metadata": {},
   "source": [
    "### Building the things to be calculated only once"
   ]
  },
  {
   "cell_type": "code",
   "execution_count": 71,
   "metadata": {
    "ExecuteTime": {
     "end_time": "2019-01-31T03:40:16.854177Z",
     "start_time": "2019-01-31T03:40:16.846154Z"
    },
    "code_folding": []
   },
   "outputs": [],
   "source": [
    "def maker(omega_1, H_0, H_1, T_s, Lin, d=2, gamma=0.1):\n",
    "    r\"\"\"maker\n",
    "    Makes all the things that remain constant throught the program, but are \n",
    "    repeatedly used.\n",
    "    \n",
    "\n",
    "    Parameters\n",
    "    ----------\n",
    "    omega_1 : float\n",
    "              frequency corresponding to half of the difference between \n",
    "              energy levels of the qubit\n",
    "              \n",
    "    H_0     : Qobj\n",
    "              Bare Hamiltonian \n",
    "              \n",
    "    H_1     : Qobj\n",
    "              Interaction Hamiltonian \n",
    "              \n",
    "    T_s     : Qobj\n",
    "              Unitary to be implemented in the Hilbert space\n",
    "    \n",
    "    Lin     : Qobj\n",
    "              Linbladian operators\n",
    "\n",
    "    d       : int\n",
    "              Dimension of the matrix. Defaults to 2\n",
    "    \n",
    "    gamma   : float\n",
    "              Damping constantof the Linbladian\n",
    "\n",
    "    \n",
    "    Returns\n",
    "    -------\n",
    "    \n",
    "    ih0     : Qobj\n",
    "              $I\\otimes H_{0}$\n",
    "              \n",
    "    ih1     : Qobj\n",
    "              $I\\otimes H_{1}$\n",
    "\n",
    "    h0ci    : Qobj\n",
    "              $H_{0}^{*}\\otimes I $\n",
    "\n",
    "    h1ci    : Qobj\n",
    "              $H_{1}^{*}\\otimes I $\n",
    "\n",
    "    T       : Qobj\n",
    "              Target unitary transformed to the Liouville space\n",
    "\n",
    "    linbladian : Qobj\n",
    "                 The full lindbladian term as it appears on transformation to \n",
    "                 the Liouville space.\n",
    "        \n",
    "    \"\"\"\n",
    "    I = identity(d)\n",
    "    L_I = tensor(I, I)\n",
    "    ih0 = tensor(I, H_0) \n",
    "    ih1 = tensor(I, H_1) \n",
    "    h0ci = tensor(H_0.conj(), I) \n",
    "    h1ci = tensor(H_1.conj(), I)\n",
    "    x_k = ih1 - h1ci\n",
    "    term1 = tensor(Lin.trans(), Lin)\n",
    "    term2 = tensor(I, ((Lin.dag())*(Lin)))\n",
    "    term3 = tensor(((Lin.trans())*(Lin.conj())), I)\n",
    "    lindbladian = 1j*(gamma)*(term1 - 0.5*(term2 + term3))\n",
    "    T = tensor(T_s.trans(), T_s) # Transforming $T_{s}$ to liouville space\n",
    "    \n",
    "    \n",
    "    return ih0, ih1, h0ci, h1ci, x_k, lindbladian, T, L_I"
   ]
  },
  {
   "cell_type": "code",
   "execution_count": 72,
   "metadata": {
    "ExecuteTime": {
     "end_time": "2019-01-31T03:40:16.867995Z",
     "start_time": "2019-01-31T03:40:16.856895Z"
    }
   },
   "outputs": [],
   "source": [
    "omega_1 = 0.5\n",
    "H_0 = sigmaz() \n",
    "H_1 = sigmay()\n",
    "T_s = sigmax() \n",
    "Lin = sigmaz()\n",
    "ih0, ih1, h0ci, h1ci, x_k, lindbladian, T, L_I  = maker(omega_1,\n",
    "                                                  H_0, H_1, T_s, \n",
    "                                                  Lin, d=2, gamma=0.1)"
   ]
  },
  {
   "cell_type": "code",
   "execution_count": 73,
   "metadata": {
    "ExecuteTime": {
     "end_time": "2019-01-31T03:40:16.877466Z",
     "start_time": "2019-01-31T03:40:16.870304Z"
    }
   },
   "outputs": [
    {
     "data": {
      "text/latex": [
       "Quantum object: dims = [[2, 2], [2, 2]], shape = (4, 4), type = oper, isherm = True\\begin{equation*}\\left(\\begin{array}{*{11}c}1.0 & 0.0 & 0.0 & 0.0\\\\0.0 & 1.0 & 0.0 & 0.0\\\\0.0 & 0.0 & 1.0 & 0.0\\\\0.0 & 0.0 & 0.0 & 1.0\\\\\\end{array}\\right)\\end{equation*}"
      ],
      "text/plain": [
       "Quantum object: dims = [[2, 2], [2, 2]], shape = (4, 4), type = oper, isherm = True\n",
       "Qobj data =\n",
       "[[1. 0. 0. 0.]\n",
       " [0. 1. 0. 0.]\n",
       " [0. 0. 1. 0.]\n",
       " [0. 0. 0. 1.]]"
      ]
     },
     "execution_count": 73,
     "metadata": {},
     "output_type": "execute_result"
    }
   ],
   "source": [
    "L_I"
   ]
  },
  {
   "cell_type": "markdown",
   "metadata": {},
   "source": [
    "### Building $And(t)$"
   ]
  },
  {
   "cell_type": "code",
   "execution_count": 74,
   "metadata": {
    "ExecuteTime": {
     "end_time": "2019-01-31T03:40:16.970623Z",
     "start_time": "2019-01-31T03:40:16.967895Z"
    }
   },
   "outputs": [],
   "source": [
    "def And(xi):\n",
    "    r\"\"\"making $And(t)$\"\"\"\n",
    "    And = ih0 - h0ci + xi*(ih1 - h1ci) + lindbladian\n",
    "    return And"
   ]
  },
  {
   "cell_type": "code",
   "execution_count": 75,
   "metadata": {
    "ExecuteTime": {
     "end_time": "2019-01-31T03:40:16.984136Z",
     "start_time": "2019-01-31T03:40:16.976213Z"
    }
   },
   "outputs": [
    {
     "data": {
      "text/latex": [
       "Quantum object: dims = [[2, 2], [2, 2]], shape = (4, 4), type = oper, isherm = False\\begin{equation*}\\left(\\begin{array}{*{11}c}0.0 & -0.500j & -0.500j & 0.0\\\\0.500j & (-2.0-0.200j) & 0.0 & -0.500j\\\\0.500j & 0.0 & (2.0-0.200j) & -0.500j\\\\0.0 & 0.500j & 0.500j & 0.0\\\\\\end{array}\\right)\\end{equation*}"
      ],
      "text/plain": [
       "Quantum object: dims = [[2, 2], [2, 2]], shape = (4, 4), type = oper, isherm = False\n",
       "Qobj data =\n",
       "[[ 0.+0.j   0.-0.5j  0.-0.5j  0.+0.j ]\n",
       " [ 0.+0.5j -2.-0.2j  0.+0.j   0.-0.5j]\n",
       " [ 0.+0.5j  0.+0.j   2.-0.2j  0.-0.5j]\n",
       " [ 0.+0.j   0.+0.5j  0.+0.5j  0.+0.j ]]"
      ]
     },
     "execution_count": 75,
     "metadata": {},
     "output_type": "execute_result"
    }
   ],
   "source": [
    "And(0.5)"
   ]
  },
  {
   "cell_type": "markdown",
   "metadata": {},
   "source": [
    "### Building $Lnd(t)$ "
   ]
  },
  {
   "cell_type": "code",
   "execution_count": 76,
   "metadata": {
    "ExecuteTime": {
     "end_time": "2019-01-31T03:40:17.092038Z",
     "start_time": "2019-01-31T03:40:17.088481Z"
    }
   },
   "outputs": [],
   "source": [
    "def Lnd(xi, dt):\n",
    "    r\"\"\"Making $Lnd(t) from $A(t)$\"\"\"\n",
    "    Lnd = (-1j*And(xi)*dt).expm()\n",
    "    return Lnd"
   ]
  },
  {
   "cell_type": "code",
   "execution_count": 77,
   "metadata": {
    "ExecuteTime": {
     "end_time": "2019-01-31T03:40:17.106370Z",
     "start_time": "2019-01-31T03:40:17.097539Z"
    }
   },
   "outputs": [
    {
     "data": {
      "text/latex": [
       "Quantum object: dims = [[2, 2], [2, 2]], shape = (4, 4), type = oper, isherm = False\\begin{equation*}\\left(\\begin{array}{*{11}c}1.000 & (-4.999\\times10^{-04}-4.999\\times10^{-07}j) & (-4.999\\times10^{-04}+4.999\\times10^{-07}j) & 2.500\\times10^{-07}\\\\(4.999\\times10^{-04}+4.999\\times10^{-07}j) & (1.000+0.002j) & -2.500\\times10^{-07} & (-4.999\\times10^{-04}-4.999\\times10^{-07}j)\\\\(4.999\\times10^{-04}-4.999\\times10^{-07}j) & -2.500\\times10^{-07} & (1.000-0.002j) & (-4.999\\times10^{-04}+4.999\\times10^{-07}j)\\\\2.500\\times10^{-07} & (4.999\\times10^{-04}+4.999\\times10^{-07}j) & (4.999\\times10^{-04}-4.999\\times10^{-07}j) & 1.000\\\\\\end{array}\\right)\\end{equation*}"
      ],
      "text/plain": [
       "Quantum object: dims = [[2, 2], [2, 2]], shape = (4, 4), type = oper, isherm = False\n",
       "Qobj data =\n",
       "[[ 9.99999750e-01+0.00000000e+00j -4.99949587e-04-4.99933130e-07j\n",
       "  -4.99949587e-04+4.99933130e-07j  2.49983230e-07+0.00000000e+00j]\n",
       " [ 4.99949587e-04+4.99933130e-07j  9.99797770e-01+1.99959837e-03j\n",
       "  -2.49966565e-07+0.00000000e+00j -4.99949587e-04-4.99933130e-07j]\n",
       " [ 4.99949587e-04-4.99933130e-07j -2.49966565e-07+0.00000000e+00j\n",
       "   9.99797770e-01-1.99959837e-03j -4.99949587e-04+4.99933130e-07j]\n",
       " [ 2.49983230e-07+0.00000000e+00j  4.99949587e-04+4.99933130e-07j\n",
       "   4.99949587e-04-4.99933130e-07j  9.99999750e-01+0.00000000e+00j]]"
      ]
     },
     "execution_count": 77,
     "metadata": {},
     "output_type": "execute_result"
    }
   ],
   "source": [
    "Lnd(0.5, 0.001)"
   ]
  },
  {
   "cell_type": "markdown",
   "metadata": {},
   "source": [
    "## Major functions"
   ]
  },
  {
   "cell_type": "markdown",
   "metadata": {},
   "source": [
    "### Major functions 1"
   ]
  },
  {
   "cell_type": "code",
   "execution_count": 78,
   "metadata": {
    "ExecuteTime": {
     "end_time": "2019-01-31T03:40:17.357563Z",
     "start_time": "2019-01-31T03:40:17.353949Z"
    }
   },
   "outputs": [],
   "source": [
    "# building the function to optimize (optimizee)\n",
    "def Lnd_vec(xi_vec, dt):\n",
    "    r\"\"\"Building the vector of differential $Lnd(t)$\"\"\"\n",
    "    Lnd_vec = [Lnd(xi, dt) for xi in xi_vec] \n",
    "    return Lnd_vec"
   ]
  },
  {
   "cell_type": "code",
   "execution_count": 79,
   "metadata": {
    "ExecuteTime": {
     "end_time": "2019-01-31T03:40:17.366228Z",
     "start_time": "2019-01-31T03:40:17.362825Z"
    }
   },
   "outputs": [],
   "source": [
    "def fidelity_calc(A, B):\n",
    "    r\"\"\"Making a generalised fidelity function\"\"\"\n",
    "    first_part = (A - B).dag()\n",
    "    second_part = (A - B)\n",
    "    f_int = (first_part* second_part)\n",
    "    f = f_int.tr()\n",
    "    return f"
   ]
  },
  {
   "cell_type": "code",
   "execution_count": 80,
   "metadata": {
    "ExecuteTime": {
     "end_time": "2019-01-31T03:40:17.373209Z",
     "start_time": "2019-01-31T03:40:17.368912Z"
    }
   },
   "outputs": [],
   "source": [
    "def Lnd_full_maker(xi_vec, dt):\n",
    "    r\"\"\"Building the $Lnd(t)$ for the total time $t$\"\"\"\n",
    "    xi_vec_size = xi_vec.size # finding the size of xi\n",
    "    Lnd_full = L_I # Identity for the for loop of Lnd\n",
    "    Lnd_v = Lnd_vec(xi_vec, dt) # calling Lnd_vec\n",
    "    for i in range(xi_vec_size): # generating Lnd_full\n",
    "        Lnd_full = Lnd_full*Lnd_v[xi_vec_size - 1 - i]\n",
    "    return Lnd_full"
   ]
  },
  {
   "cell_type": "code",
   "execution_count": 81,
   "metadata": {
    "ExecuteTime": {
     "end_time": "2019-01-31T03:40:17.378943Z",
     "start_time": "2019-01-31T03:40:17.375397Z"
    }
   },
   "outputs": [],
   "source": [
    "def F(xi_vec, dt):\n",
    "    r\"\"\"Using the fidelity metric to find out the closeness between $T$\n",
    "    and $Lnd(t)$\"\"\"\n",
    "    Lnd_full = Lnd_full_maker(xi_vec, dt)\n",
    "    F = real(-fidelity_calc(T, Lnd_full))   \n",
    "    return F"
   ]
  },
  {
   "cell_type": "markdown",
   "metadata": {},
   "source": [
    "### Testing major functions 1"
   ]
  },
  {
   "cell_type": "code",
   "execution_count": 82,
   "metadata": {
    "ExecuteTime": {
     "end_time": "2019-01-31T03:40:17.487426Z",
     "start_time": "2019-01-31T03:40:17.480401Z"
    }
   },
   "outputs": [
    {
     "data": {
      "text/plain": [
       "4.0"
      ]
     },
     "execution_count": 82,
     "metadata": {},
     "output_type": "execute_result"
    }
   ],
   "source": [
    "fidelity_calc(sigmax(), sigmay())"
   ]
  },
  {
   "cell_type": "code",
   "execution_count": 83,
   "metadata": {
    "ExecuteTime": {
     "end_time": "2019-01-31T03:40:17.497825Z",
     "start_time": "2019-01-31T03:40:17.489901Z"
    }
   },
   "outputs": [
    {
     "data": {
      "text/plain": [
       "0.0"
      ]
     },
     "execution_count": 83,
     "metadata": {},
     "output_type": "execute_result"
    }
   ],
   "source": [
    "fidelity_calc(sigmay(), sigmay())"
   ]
  },
  {
   "cell_type": "code",
   "execution_count": 84,
   "metadata": {
    "ExecuteTime": {
     "end_time": "2019-01-31T03:40:17.505391Z",
     "start_time": "2019-01-31T03:40:17.500500Z"
    }
   },
   "outputs": [
    {
     "data": {
      "text/plain": [
       "array([1., 2.])"
      ]
     },
     "execution_count": 84,
     "metadata": {},
     "output_type": "execute_result"
    }
   ],
   "source": [
    "xi_vec_test = array([1.0, 2.0])\n",
    "xi_vec_test"
   ]
  },
  {
   "cell_type": "code",
   "execution_count": 85,
   "metadata": {
    "ExecuteTime": {
     "end_time": "2019-01-31T03:40:17.512116Z",
     "start_time": "2019-01-31T03:40:17.507557Z"
    }
   },
   "outputs": [
    {
     "data": {
      "text/plain": [
       "2"
      ]
     },
     "execution_count": 85,
     "metadata": {},
     "output_type": "execute_result"
    }
   ],
   "source": [
    "xi_vec_test.size"
   ]
  },
  {
   "cell_type": "code",
   "execution_count": 86,
   "metadata": {
    "ExecuteTime": {
     "end_time": "2019-01-31T03:40:17.520448Z",
     "start_time": "2019-01-31T03:40:17.514466Z"
    }
   },
   "outputs": [
    {
     "data": {
      "text/plain": [
       "[1.0, 4.0]"
      ]
     },
     "execution_count": 86,
     "metadata": {},
     "output_type": "execute_result"
    }
   ],
   "source": [
    "w_vec = [xi**2 for xi in xi_vec_test]\n",
    "w_vec"
   ]
  },
  {
   "cell_type": "code",
   "execution_count": 87,
   "metadata": {
    "ExecuteTime": {
     "end_time": "2019-01-31T03:40:17.532987Z",
     "start_time": "2019-01-31T03:40:17.522794Z"
    }
   },
   "outputs": [
    {
     "data": {
      "text/plain": [
       "-7.998400634487144"
      ]
     },
     "execution_count": 87,
     "metadata": {},
     "output_type": "execute_result"
    }
   ],
   "source": [
    "# F(xi_vec, dt)\n",
    "F(xi_vec_test, 0.001)"
   ]
  },
  {
   "cell_type": "code",
   "execution_count": 88,
   "metadata": {
    "ExecuteTime": {
     "end_time": "2019-01-31T03:40:17.542373Z",
     "start_time": "2019-01-31T03:40:17.535094Z"
    }
   },
   "outputs": [],
   "source": [
    "Lnd_v = Lnd_vec(xi_vec_test, 0.001)"
   ]
  },
  {
   "cell_type": "code",
   "execution_count": 89,
   "metadata": {
    "ExecuteTime": {
     "end_time": "2019-01-31T03:40:17.549782Z",
     "start_time": "2019-01-31T03:40:17.543868Z"
    }
   },
   "outputs": [
    {
     "data": {
      "text/plain": [
       "[Quantum object: dims = [[2, 2], [2, 2]], shape = (4, 4), type = oper, isherm = False\n",
       " Qobj data =\n",
       " [[ 9.99999000e-01+0.00000000e+00j -9.99898674e-04-9.99866010e-07j\n",
       "   -9.99898674e-04+9.99866010e-07j  9.99932670e-07+0.00000000e+00j]\n",
       "  [ 9.99898674e-04+9.99866010e-07j  9.99797021e-01+1.99959737e-03j\n",
       "   -9.99866010e-07+0.00000000e+00j -9.99898674e-04-9.99866010e-07j]\n",
       "  [ 9.99898674e-04-9.99866010e-07j -9.99866010e-07+0.00000000e+00j\n",
       "    9.99797021e-01-1.99959737e-03j -9.99898674e-04+9.99866010e-07j]\n",
       "  [ 9.99932670e-07+0.00000000e+00j  9.99898674e-04+9.99866010e-07j\n",
       "    9.99898674e-04-9.99866010e-07j  9.99999000e-01+0.00000000e+00j]],\n",
       " Quantum object: dims = [[2, 2], [2, 2]], shape = (4, 4), type = oper, isherm = False\n",
       " Qobj data =\n",
       " [[ 9.99996000e-01+0.00000000e+00j -1.99979335e-03-1.99973002e-06j\n",
       "   -1.99979335e-03+1.99973002e-06j  3.99972668e-06+0.00000000e+00j]\n",
       "  [ 1.99979335e-03+1.99973002e-06j  9.99794021e-01+1.99959337e-03j\n",
       "   -3.99946004e-06+0.00000000e+00j -1.99979335e-03-1.99973002e-06j]\n",
       "  [ 1.99979335e-03-1.99973002e-06j -3.99946004e-06+0.00000000e+00j\n",
       "    9.99794021e-01-1.99959337e-03j -1.99979335e-03+1.99973002e-06j]\n",
       "  [ 3.99972668e-06+0.00000000e+00j  1.99979335e-03+1.99973002e-06j\n",
       "    1.99979335e-03-1.99973002e-06j  9.99996000e-01+0.00000000e+00j]]]"
      ]
     },
     "execution_count": 89,
     "metadata": {},
     "output_type": "execute_result"
    }
   ],
   "source": [
    "Lnd_v"
   ]
  },
  {
   "cell_type": "markdown",
   "metadata": {},
   "source": [
    "### Major Functions 2"
   ]
  },
  {
   "cell_type": "code",
   "execution_count": 90,
   "metadata": {
    "ExecuteTime": {
     "end_time": "2019-01-31T03:40:17.633762Z",
     "start_time": "2019-01-31T03:40:17.630238Z"
    }
   },
   "outputs": [],
   "source": [
    "def Lnd_comma_k_maker(xi_vec, k, dt):\n",
    "    r\"\"\"Making of the derivative of full $Lnd(t)$ at time $t_{k}$\"\"\"\n",
    "    N = xi_vec.size \n",
    "    # Determining the size of xi, and thus the time_steps indirectly.\n",
    "    Lnd_v = Lnd_vec(xi_vec, dt)# Making of the full $Lnd(t)$\n",
    "    inner_part = L_I # Beginner for the for loop\n",
    "    for i in range(N):\n",
    "        if i == ( N - 1 - k ):\n",
    "            # The step at which $X_{k}(t)$ has to be inserted \n",
    "            inner_part = inner_part*x_k*Lnd_v[k - 1]\n",
    "        else:\n",
    "            # Usual multiplications of $Lnd_{k}$\n",
    "            inner_part = inner_part*Lnd_v[N - 1 - i]\n",
    "    lnd_comma_k = inner_part\n",
    "    return lnd_comma_k\n",
    "    "
   ]
  },
  {
   "cell_type": "code",
   "execution_count": 91,
   "metadata": {
    "ExecuteTime": {
     "end_time": "2019-01-31T03:40:17.649588Z",
     "start_time": "2019-01-31T03:40:17.638971Z"
    }
   },
   "outputs": [
    {
     "data": {
      "text/latex": [
       "Quantum object: dims = [[2, 2], [2, 2]], shape = (4, 4), type = oper, isherm = False\\begin{equation*}\\left(\\begin{array}{*{11}c}1.000 & (-0.003-6.998\\times10^{-06}j) & (-0.003+6.998\\times10^{-06}j) & 8.999\\times10^{-06}\\\\(0.003+4.999\\times10^{-06}j) & (1.000+0.004j) & (-8.997\\times10^{-06}+5.998\\times10^{-09}j) & (-0.003-4.999\\times10^{-06}j)\\\\(0.003-4.999\\times10^{-06}j) & (-8.997\\times10^{-06}-5.998\\times10^{-09}j) & (1.000-0.004j) & (-0.003+4.999\\times10^{-06}j)\\\\8.999\\times10^{-06} & (0.003+6.998\\times10^{-06}j) & (0.003-6.998\\times10^{-06}j) & 1.000\\\\\\end{array}\\right)\\end{equation*}"
      ],
      "text/plain": [
       "Quantum object: dims = [[2, 2], [2, 2]], shape = (4, 4), type = oper, isherm = False\n",
       "Qobj data =\n",
       "[[ 9.99991001e-01+0.00000000e+00j -2.99927211e-03-6.99796565e-06j\n",
       "  -2.99927211e-03+6.99796565e-06j  8.99882878e-06+0.00000000e+00j]\n",
       " [ 2.99947607e-03+4.99878084e-06j  9.99583086e-01+3.99836500e-03j\n",
       "  -8.99749372e-06+5.99798035e-09j -2.99947607e-03-4.99878084e-06j]\n",
       " [ 2.99947607e-03-4.99878084e-06j -8.99749372e-06-5.99798035e-09j\n",
       "   9.99583086e-01-3.99836500e-03j -2.99947607e-03+4.99878084e-06j]\n",
       " [ 8.99882878e-06+0.00000000e+00j  2.99927211e-03+6.99796565e-06j\n",
       "   2.99927211e-03-6.99796565e-06j  9.99991001e-01+0.00000000e+00j]]"
      ]
     },
     "execution_count": 91,
     "metadata": {},
     "output_type": "execute_result"
    }
   ],
   "source": [
    "# Lnd_comma_k_maker(xi_vec, k, dt)\n",
    "Lnd_comma_k_maker(xi_vec_test, 2, 0.001)"
   ]
  },
  {
   "cell_type": "code",
   "execution_count": 92,
   "metadata": {
    "ExecuteTime": {
     "end_time": "2019-01-31T03:40:17.656013Z",
     "start_time": "2019-01-31T03:40:17.651363Z"
    }
   },
   "outputs": [],
   "source": [
    "def updater_nd(xi_vec, dt, epsilon):\n",
    "    r\"\"\"Implementing the GRAPE update step\"\"\"\n",
    "    xi_vec_size = xi_vec.size # finding the size of xi\n",
    "    Lnd_full = Lnd_full_maker(xi_vec, dt)\n",
    "    di = []\n",
    "    for k in range(xi_vec_size):\n",
    "        # Building the thing to be added to the old function\n",
    "        Lnd_comma_k = Lnd_comma_k_maker(xi_vec, k, dt)\n",
    "        differentiated = T - Lnd_comma_k\n",
    "        plain = T - Lnd_full\n",
    "        c = -differentiated.dag()*plain\n",
    "        d = -plain.dag()*differentiated\n",
    "        inside = c.tr() + d.tr()\n",
    "        di.append(epsilon*inside)\n",
    "\n",
    "    diff = array(di)\n",
    "    xi_new_vec = xi_vec + diff\n",
    "    return diff, xi_new_vec\n",
    "    "
   ]
  },
  {
   "cell_type": "code",
   "execution_count": 93,
   "metadata": {
    "ExecuteTime": {
     "end_time": "2019-01-31T03:40:17.675523Z",
     "start_time": "2019-01-31T03:40:17.658347Z"
    }
   },
   "outputs": [
    {
     "data": {
      "text/plain": [
       "(array([-0.008+0.j, -0.008+0.j]), array([0.992+0.j, 1.992+0.j]))"
      ]
     },
     "execution_count": 93,
     "metadata": {},
     "output_type": "execute_result"
    }
   ],
   "source": [
    "#  updater_nd(xi_vec, dt, epsilon)\n",
    "updater_nd(xi_vec_test, 0.001, 0.001)"
   ]
  },
  {
   "cell_type": "code",
   "execution_count": 94,
   "metadata": {
    "ExecuteTime": {
     "end_time": "2019-01-31T03:40:17.682150Z",
     "start_time": "2019-01-31T03:40:17.677236Z"
    },
    "code_folding": []
   },
   "outputs": [],
   "source": [
    "def terminator_nd(max_iter, time_steps, total_time, epsilon):\n",
    "    r\"\"\"Brief description of the function\"\"\"\n",
    "    \n",
    "    xi_initial =  1000*random_sample((time_steps,))\n",
    "    dt = total_time/time_steps\n",
    "    xi_diff, xi_new_vec = updater_nd(xi_initial, dt, epsilon)\n",
    "    \n",
    "    for i in range(max_iter):\n",
    "        if amax(xi_diff) < epsilon**2 :\n",
    "            xi_final = xi_new_vec\n",
    "            break\n",
    "        else :\n",
    "            xi_diff, xi_new_vec = updater_nd(xi_new_vec, dt, epsilon)\n",
    "            print(i)\n",
    "            print(amax(xi_diff))\n",
    "            \n",
    "        \n",
    "    xi_final = xi_new_vec    \n",
    "    return xi_final"
   ]
  },
  {
   "cell_type": "markdown",
   "metadata": {},
   "source": [
    "# code with dissipation"
   ]
  },
  {
   "cell_type": "markdown",
   "metadata": {},
   "source": [
    "## Building parts"
   ]
  },
  {
   "cell_type": "markdown",
   "metadata": {},
   "source": [
    "### Building $A(t)$"
   ]
  },
  {
   "cell_type": "code",
   "execution_count": 95,
   "metadata": {
    "ExecuteTime": {
     "end_time": "2019-01-31T03:40:18.002803Z",
     "start_time": "2019-01-31T03:40:18.000406Z"
    }
   },
   "outputs": [],
   "source": [
    "def A(xi):\n",
    "    r\"\"\"making $A(t)$\"\"\"\n",
    "    A = ih0 - h0ci + xi*(ih1 - h1ci) + lindbladian\n",
    "    return A"
   ]
  },
  {
   "cell_type": "code",
   "execution_count": 96,
   "metadata": {
    "ExecuteTime": {
     "end_time": "2019-01-31T03:40:18.019979Z",
     "start_time": "2019-01-31T03:40:18.012431Z"
    }
   },
   "outputs": [
    {
     "data": {
      "text/latex": [
       "Quantum object: dims = [[2, 2], [2, 2]], shape = (4, 4), type = oper, isherm = False\\begin{equation*}\\left(\\begin{array}{*{11}c}0.0 & -0.500j & -0.500j & 0.0\\\\0.500j & (-2.0-0.200j) & 0.0 & -0.500j\\\\0.500j & 0.0 & (2.0-0.200j) & -0.500j\\\\0.0 & 0.500j & 0.500j & 0.0\\\\\\end{array}\\right)\\end{equation*}"
      ],
      "text/plain": [
       "Quantum object: dims = [[2, 2], [2, 2]], shape = (4, 4), type = oper, isherm = False\n",
       "Qobj data =\n",
       "[[ 0.+0.j   0.-0.5j  0.-0.5j  0.+0.j ]\n",
       " [ 0.+0.5j -2.-0.2j  0.+0.j   0.-0.5j]\n",
       " [ 0.+0.5j  0.+0.j   2.-0.2j  0.-0.5j]\n",
       " [ 0.+0.j   0.+0.5j  0.+0.5j  0.+0.j ]]"
      ]
     },
     "execution_count": 96,
     "metadata": {},
     "output_type": "execute_result"
    }
   ],
   "source": [
    "A(0.5)"
   ]
  },
  {
   "cell_type": "markdown",
   "metadata": {},
   "source": [
    "### Building $L(t)$ and the Identity in the Liouville space"
   ]
  },
  {
   "cell_type": "code",
   "execution_count": 97,
   "metadata": {
    "ExecuteTime": {
     "end_time": "2019-01-31T03:40:18.123024Z",
     "start_time": "2019-01-31T03:40:18.120453Z"
    }
   },
   "outputs": [],
   "source": [
    "def L(xi, dt):\n",
    "    r\"\"\"Making $L(t) from $A(t)$\"\"\"\n",
    "    L = (-1j*A(xi)*dt).expm()\n",
    "    return L"
   ]
  },
  {
   "cell_type": "code",
   "execution_count": 98,
   "metadata": {
    "ExecuteTime": {
     "end_time": "2019-01-31T03:40:18.137648Z",
     "start_time": "2019-01-31T03:40:18.129091Z"
    }
   },
   "outputs": [
    {
     "data": {
      "text/latex": [
       "Quantum object: dims = [[2, 2], [2, 2]], shape = (4, 4), type = oper, isherm = False\\begin{equation*}\\left(\\begin{array}{*{11}c}1.000 & (-4.999\\times10^{-04}-4.999\\times10^{-07}j) & (-4.999\\times10^{-04}+4.999\\times10^{-07}j) & 2.500\\times10^{-07}\\\\(4.999\\times10^{-04}+4.999\\times10^{-07}j) & (1.000+0.002j) & -2.500\\times10^{-07} & (-4.999\\times10^{-04}-4.999\\times10^{-07}j)\\\\(4.999\\times10^{-04}-4.999\\times10^{-07}j) & -2.500\\times10^{-07} & (1.000-0.002j) & (-4.999\\times10^{-04}+4.999\\times10^{-07}j)\\\\2.500\\times10^{-07} & (4.999\\times10^{-04}+4.999\\times10^{-07}j) & (4.999\\times10^{-04}-4.999\\times10^{-07}j) & 1.000\\\\\\end{array}\\right)\\end{equation*}"
      ],
      "text/plain": [
       "Quantum object: dims = [[2, 2], [2, 2]], shape = (4, 4), type = oper, isherm = False\n",
       "Qobj data =\n",
       "[[ 9.99999750e-01+0.00000000e+00j -4.99949587e-04-4.99933130e-07j\n",
       "  -4.99949587e-04+4.99933130e-07j  2.49983230e-07+0.00000000e+00j]\n",
       " [ 4.99949587e-04+4.99933130e-07j  9.99797770e-01+1.99959837e-03j\n",
       "  -2.49966565e-07+0.00000000e+00j -4.99949587e-04-4.99933130e-07j]\n",
       " [ 4.99949587e-04-4.99933130e-07j -2.49966565e-07+0.00000000e+00j\n",
       "   9.99797770e-01-1.99959837e-03j -4.99949587e-04+4.99933130e-07j]\n",
       " [ 2.49983230e-07+0.00000000e+00j  4.99949587e-04+4.99933130e-07j\n",
       "   4.99949587e-04-4.99933130e-07j  9.99999750e-01+0.00000000e+00j]]"
      ]
     },
     "execution_count": 98,
     "metadata": {},
     "output_type": "execute_result"
    }
   ],
   "source": [
    "L(0.5, 0.001)"
   ]
  },
  {
   "cell_type": "markdown",
   "metadata": {},
   "source": [
    "## Major functions"
   ]
  },
  {
   "cell_type": "markdown",
   "metadata": {},
   "source": [
    "### Major functions 1"
   ]
  },
  {
   "cell_type": "code",
   "execution_count": 99,
   "metadata": {
    "ExecuteTime": {
     "end_time": "2019-01-31T03:40:18.353279Z",
     "start_time": "2019-01-31T03:40:18.350492Z"
    }
   },
   "outputs": [],
   "source": [
    "# building the function to optimize (optimizee)\n",
    "def L_vec(xi_vec, dt):\n",
    "    r\"\"\"Building the vector of differential $L(t)$\"\"\"\n",
    "    L_vec = [L(xi, dt) for xi in xi_vec] \n",
    "    return L_vec"
   ]
  },
  {
   "cell_type": "code",
   "execution_count": 100,
   "metadata": {
    "ExecuteTime": {
     "end_time": "2019-01-31T03:40:18.359197Z",
     "start_time": "2019-01-31T03:40:18.355570Z"
    }
   },
   "outputs": [],
   "source": [
    "def fidelity_calc(A, B):\n",
    "    r\"\"\"Making a generalised fidelity function\"\"\"\n",
    "    first_part = (A - B).dag()\n",
    "    second_part = (A - B)\n",
    "    f_int = (first_part* second_part)\n",
    "    f = f_int.tr()\n",
    "    return f"
   ]
  },
  {
   "cell_type": "code",
   "execution_count": 101,
   "metadata": {
    "ExecuteTime": {
     "end_time": "2019-01-31T03:40:18.364878Z",
     "start_time": "2019-01-31T03:40:18.361146Z"
    }
   },
   "outputs": [],
   "source": [
    "def L_full_maker(xi_vec, dt):\n",
    "    r\"\"\"Building the $L(t)$ for the total time $t$\"\"\"\n",
    "    xi_vec_size = xi_vec.size # finding the size of xi\n",
    "    L_full = L_I # Identity for the for loop of L\n",
    "    L_v = L_vec(xi_vec, dt) # calling L_vec\n",
    "    for i in range(xi_vec_size): # generating L_full\n",
    "        L_full = L_full*L_v[xi_vec_size - 1 - i]\n",
    "    return L_full"
   ]
  },
  {
   "cell_type": "code",
   "execution_count": 102,
   "metadata": {
    "ExecuteTime": {
     "end_time": "2019-01-31T03:40:18.372659Z",
     "start_time": "2019-01-31T03:40:18.369671Z"
    }
   },
   "outputs": [],
   "source": [
    "def F(xi_vec, dt):\n",
    "    r\"\"\"Using the fidelity metric to find out the closeness between $T$\n",
    "    and $L(t)$\"\"\"\n",
    "    L_full = L_full_maker(xi_vec, dt)\n",
    "    F = real(-fidelity_calc(T, L_full))   \n",
    "    return F"
   ]
  },
  {
   "cell_type": "markdown",
   "metadata": {},
   "source": [
    "### Testing major functions 1"
   ]
  },
  {
   "cell_type": "code",
   "execution_count": 103,
   "metadata": {
    "ExecuteTime": {
     "end_time": "2019-01-31T03:40:18.484707Z",
     "start_time": "2019-01-31T03:40:18.477922Z"
    }
   },
   "outputs": [
    {
     "data": {
      "text/plain": [
       "4.0"
      ]
     },
     "execution_count": 103,
     "metadata": {},
     "output_type": "execute_result"
    }
   ],
   "source": [
    "fidelity_calc(sigmax(), sigmay())"
   ]
  },
  {
   "cell_type": "code",
   "execution_count": 104,
   "metadata": {
    "ExecuteTime": {
     "end_time": "2019-01-31T03:40:18.492683Z",
     "start_time": "2019-01-31T03:40:18.486792Z"
    }
   },
   "outputs": [
    {
     "data": {
      "text/plain": [
       "0.0"
      ]
     },
     "execution_count": 104,
     "metadata": {},
     "output_type": "execute_result"
    }
   ],
   "source": [
    "fidelity_calc(sigmay(), sigmay())"
   ]
  },
  {
   "cell_type": "code",
   "execution_count": 105,
   "metadata": {
    "ExecuteTime": {
     "end_time": "2019-01-31T03:40:18.501127Z",
     "start_time": "2019-01-31T03:40:18.495168Z"
    }
   },
   "outputs": [
    {
     "data": {
      "text/plain": [
       "array([1., 2.])"
      ]
     },
     "execution_count": 105,
     "metadata": {},
     "output_type": "execute_result"
    }
   ],
   "source": [
    "xi_vec_test = array([1.0, 2.0])\n",
    "xi_vec_test"
   ]
  },
  {
   "cell_type": "code",
   "execution_count": 106,
   "metadata": {
    "ExecuteTime": {
     "end_time": "2019-01-31T03:40:18.507456Z",
     "start_time": "2019-01-31T03:40:18.503304Z"
    }
   },
   "outputs": [
    {
     "data": {
      "text/plain": [
       "2"
      ]
     },
     "execution_count": 106,
     "metadata": {},
     "output_type": "execute_result"
    }
   ],
   "source": [
    "xi_vec_test.size"
   ]
  },
  {
   "cell_type": "code",
   "execution_count": 107,
   "metadata": {
    "ExecuteTime": {
     "end_time": "2019-01-31T03:40:18.514794Z",
     "start_time": "2019-01-31T03:40:18.509328Z"
    }
   },
   "outputs": [
    {
     "data": {
      "text/plain": [
       "[1.0, 4.0]"
      ]
     },
     "execution_count": 107,
     "metadata": {},
     "output_type": "execute_result"
    }
   ],
   "source": [
    "w_vec = [xi**2 for xi in xi_vec_test]\n",
    "w_vec"
   ]
  },
  {
   "cell_type": "code",
   "execution_count": 108,
   "metadata": {
    "ExecuteTime": {
     "end_time": "2019-01-31T03:40:18.527425Z",
     "start_time": "2019-01-31T03:40:18.517566Z"
    }
   },
   "outputs": [
    {
     "data": {
      "text/plain": [
       "-7.998400634487144"
      ]
     },
     "execution_count": 108,
     "metadata": {},
     "output_type": "execute_result"
    }
   ],
   "source": [
    "# F(xi_vec, dt)\n",
    "F(xi_vec_test, 0.001)"
   ]
  },
  {
   "cell_type": "code",
   "execution_count": 109,
   "metadata": {
    "ExecuteTime": {
     "end_time": "2019-01-31T03:40:18.536423Z",
     "start_time": "2019-01-31T03:40:18.529196Z"
    }
   },
   "outputs": [],
   "source": [
    "L_v = L_vec(xi_vec_test, 0.001)"
   ]
  },
  {
   "cell_type": "code",
   "execution_count": 110,
   "metadata": {
    "ExecuteTime": {
     "end_time": "2019-01-31T03:40:18.543997Z",
     "start_time": "2019-01-31T03:40:18.538408Z"
    }
   },
   "outputs": [
    {
     "data": {
      "text/plain": [
       "[Quantum object: dims = [[2, 2], [2, 2]], shape = (4, 4), type = oper, isherm = False\n",
       " Qobj data =\n",
       " [[ 9.99999000e-01+0.00000000e+00j -9.99898674e-04-9.99866010e-07j\n",
       "   -9.99898674e-04+9.99866010e-07j  9.99932670e-07+0.00000000e+00j]\n",
       "  [ 9.99898674e-04+9.99866010e-07j  9.99797021e-01+1.99959737e-03j\n",
       "   -9.99866010e-07+0.00000000e+00j -9.99898674e-04-9.99866010e-07j]\n",
       "  [ 9.99898674e-04-9.99866010e-07j -9.99866010e-07+0.00000000e+00j\n",
       "    9.99797021e-01-1.99959737e-03j -9.99898674e-04+9.99866010e-07j]\n",
       "  [ 9.99932670e-07+0.00000000e+00j  9.99898674e-04+9.99866010e-07j\n",
       "    9.99898674e-04-9.99866010e-07j  9.99999000e-01+0.00000000e+00j]],\n",
       " Quantum object: dims = [[2, 2], [2, 2]], shape = (4, 4), type = oper, isherm = False\n",
       " Qobj data =\n",
       " [[ 9.99996000e-01+0.00000000e+00j -1.99979335e-03-1.99973002e-06j\n",
       "   -1.99979335e-03+1.99973002e-06j  3.99972668e-06+0.00000000e+00j]\n",
       "  [ 1.99979335e-03+1.99973002e-06j  9.99794021e-01+1.99959337e-03j\n",
       "   -3.99946004e-06+0.00000000e+00j -1.99979335e-03-1.99973002e-06j]\n",
       "  [ 1.99979335e-03-1.99973002e-06j -3.99946004e-06+0.00000000e+00j\n",
       "    9.99794021e-01-1.99959337e-03j -1.99979335e-03+1.99973002e-06j]\n",
       "  [ 3.99972668e-06+0.00000000e+00j  1.99979335e-03+1.99973002e-06j\n",
       "    1.99979335e-03-1.99973002e-06j  9.99996000e-01+0.00000000e+00j]]]"
      ]
     },
     "execution_count": 110,
     "metadata": {},
     "output_type": "execute_result"
    }
   ],
   "source": [
    "L_v"
   ]
  },
  {
   "cell_type": "markdown",
   "metadata": {},
   "source": [
    "### Major Functions 2"
   ]
  },
  {
   "cell_type": "code",
   "execution_count": 111,
   "metadata": {
    "ExecuteTime": {
     "end_time": "2019-01-31T03:40:18.637750Z",
     "start_time": "2019-01-31T03:40:18.634224Z"
    }
   },
   "outputs": [],
   "source": [
    "def L_comma_k_maker(xi_vec, k, dt):\n",
    "    r\"\"\"Making of the derivative of full $L(t)$ at time $t_{k}$\"\"\"\n",
    "    N = xi_vec.size \n",
    "    # Determining the size of xi, and thus the time_steps indirectly.\n",
    "    L_v = L_vec(xi_vec, dt)# Making of the full $L(t)$\n",
    "    inner_part = L_I # Beginner for the for loop\n",
    "    for i in range(N):\n",
    "        if i == ( N - 1 - k ):\n",
    "            # The step at which $X_{k}(t)$ has to be inserted \n",
    "            inner_part = inner_part*x_k*L_v[k - 1]\n",
    "        else:\n",
    "            # Usual multiplications of $L_{k}$\n",
    "            inner_part = inner_part*L_v[N - 1 - i]\n",
    "    l_comma_k = inner_part\n",
    "    return l_comma_k\n",
    "    "
   ]
  },
  {
   "cell_type": "code",
   "execution_count": 112,
   "metadata": {
    "ExecuteTime": {
     "end_time": "2019-01-31T03:40:18.653313Z",
     "start_time": "2019-01-31T03:40:18.643046Z"
    }
   },
   "outputs": [
    {
     "data": {
      "text/latex": [
       "Quantum object: dims = [[2, 2], [2, 2]], shape = (4, 4), type = oper, isherm = False\\begin{equation*}\\left(\\begin{array}{*{11}c}1.000 & (-0.003-6.998\\times10^{-06}j) & (-0.003+6.998\\times10^{-06}j) & 8.999\\times10^{-06}\\\\(0.003+4.999\\times10^{-06}j) & (1.000+0.004j) & (-8.997\\times10^{-06}+5.998\\times10^{-09}j) & (-0.003-4.999\\times10^{-06}j)\\\\(0.003-4.999\\times10^{-06}j) & (-8.997\\times10^{-06}-5.998\\times10^{-09}j) & (1.000-0.004j) & (-0.003+4.999\\times10^{-06}j)\\\\8.999\\times10^{-06} & (0.003+6.998\\times10^{-06}j) & (0.003-6.998\\times10^{-06}j) & 1.000\\\\\\end{array}\\right)\\end{equation*}"
      ],
      "text/plain": [
       "Quantum object: dims = [[2, 2], [2, 2]], shape = (4, 4), type = oper, isherm = False\n",
       "Qobj data =\n",
       "[[ 9.99991001e-01+0.00000000e+00j -2.99927211e-03-6.99796565e-06j\n",
       "  -2.99927211e-03+6.99796565e-06j  8.99882878e-06+0.00000000e+00j]\n",
       " [ 2.99947607e-03+4.99878084e-06j  9.99583086e-01+3.99836500e-03j\n",
       "  -8.99749372e-06+5.99798035e-09j -2.99947607e-03-4.99878084e-06j]\n",
       " [ 2.99947607e-03-4.99878084e-06j -8.99749372e-06-5.99798035e-09j\n",
       "   9.99583086e-01-3.99836500e-03j -2.99947607e-03+4.99878084e-06j]\n",
       " [ 8.99882878e-06+0.00000000e+00j  2.99927211e-03+6.99796565e-06j\n",
       "   2.99927211e-03-6.99796565e-06j  9.99991001e-01+0.00000000e+00j]]"
      ]
     },
     "execution_count": 112,
     "metadata": {},
     "output_type": "execute_result"
    }
   ],
   "source": [
    "# L_comma_k_maker(xi_vec, k, dt)\n",
    "L_comma_k_maker(xi_vec_test, 2, 0.001)"
   ]
  },
  {
   "cell_type": "code",
   "execution_count": 113,
   "metadata": {
    "ExecuteTime": {
     "end_time": "2019-01-31T03:40:18.660372Z",
     "start_time": "2019-01-31T03:40:18.655570Z"
    }
   },
   "outputs": [],
   "source": [
    "def updater(xi_vec, dt, epsilon):\n",
    "    r\"\"\"Implementing the GRAPE update step\"\"\"\n",
    "    xi_vec_size = xi_vec.size # finding the size of xi\n",
    "    L_full = L_full_maker(xi_vec, dt)\n",
    "    di = []\n",
    "    for k in range(xi_vec_size):\n",
    "        # Building the thing to be added to the old function\n",
    "        L_comma_k = L_comma_k_maker(xi_vec, k, dt)\n",
    "        differentiated = T - L_comma_k\n",
    "        plain = T - L_full\n",
    "        c = -differentiated.dag()*plain\n",
    "        d = -plain.dag()*differentiated\n",
    "        inside = c.tr() + d.tr()\n",
    "        di.append(epsilon*inside)\n",
    "\n",
    "    diff = array(di)\n",
    "    xi_new_vec = xi_vec + diff\n",
    "    return diff, xi_new_vec\n",
    "    "
   ]
  },
  {
   "cell_type": "code",
   "execution_count": 114,
   "metadata": {
    "ExecuteTime": {
     "end_time": "2019-01-31T03:40:18.680184Z",
     "start_time": "2019-01-31T03:40:18.662516Z"
    }
   },
   "outputs": [
    {
     "data": {
      "text/plain": [
       "(array([-0.008+0.j, -0.008+0.j]), array([0.992+0.j, 1.992+0.j]))"
      ]
     },
     "execution_count": 114,
     "metadata": {},
     "output_type": "execute_result"
    }
   ],
   "source": [
    "#  updater(xi_vec, dt, epsilon)\n",
    "updater(xi_vec_test, 0.001, 0.001)"
   ]
  },
  {
   "cell_type": "code",
   "execution_count": 115,
   "metadata": {
    "ExecuteTime": {
     "end_time": "2019-01-31T03:40:18.685853Z",
     "start_time": "2019-01-31T03:40:18.681947Z"
    },
    "code_folding": []
   },
   "outputs": [],
   "source": [
    "def terminator(max_iter, time_steps, total_time, epsilon):\n",
    "    r\"\"\"Brief description of the function\"\"\"\n",
    "    \n",
    "    xi_initial = terminator_nd(max_iter, time_steps, total_time, epsilon)\n",
    "    #1000*random_sample((time_steps,))\n",
    "    dt = total_time/time_steps\n",
    "    xi_diff, xi_new_vec = updater(xi_initial, dt, epsilon)\n",
    "    \n",
    "    for i in range(max_iter):\n",
    "        if amax(xi_diff) < epsilon**2 :\n",
    "            xi_final = xi_new_vec\n",
    "            break\n",
    "        else :\n",
    "            xi_diff, xi_new_vec = updater(xi_new_vec, dt, epsilon)\n",
    "            print(i)\n",
    "            print(amax(xi_diff))\n",
    "            \n",
    "        \n",
    "    xi_final = xi_new_vec    \n",
    "    return xi_final"
   ]
  },
  {
   "cell_type": "markdown",
   "metadata": {},
   "source": [
    "# Running stuff"
   ]
  },
  {
   "cell_type": "markdown",
   "metadata": {},
   "source": [
    "### Try1"
   ]
  },
  {
   "cell_type": "code",
   "execution_count": 116,
   "metadata": {
    "ExecuteTime": {
     "end_time": "2019-01-31T03:40:18.959889Z",
     "start_time": "2019-01-31T03:40:18.956904Z"
    }
   },
   "outputs": [],
   "source": [
    "total_time = pi/omega_1\n",
    "epsilon = 10**(-6)\n",
    "max_iter = 10#10**4#1000#100#50#20\n",
    "time_steps = 20\n",
    "dt = total_time/time_steps"
   ]
  },
  {
   "cell_type": "code",
   "execution_count": 117,
   "metadata": {
    "ExecuteTime": {
     "end_time": "2019-01-31T03:40:20.451122Z",
     "start_time": "2019-01-31T03:40:18.962640Z"
    }
   },
   "outputs": [
    {
     "data": {
      "text/plain": [
       "array([664.44707966+0.j, 378.84550639+0.j, 107.00126181+0.j,\n",
       "       727.28162685+0.j, 182.44178593+0.j, 729.25909561+0.j,\n",
       "       193.8722369 +0.j, 429.06197952+0.j, 584.25862923+0.j,\n",
       "       732.69905518+0.j, 570.20255188+0.j, 441.77527779+0.j,\n",
       "       721.05678317+0.j, 479.53941961+0.j,  77.30110438+0.j,\n",
       "       412.8307956 +0.j, 109.21045877+0.j, 622.60098639+0.j,\n",
       "       565.68743914+0.j, 565.49503273+0.j])"
      ]
     },
     "execution_count": 117,
     "metadata": {},
     "output_type": "execute_result"
    }
   ],
   "source": [
    "xi_opt = terminator(max_iter, time_steps, total_time, epsilon)\n",
    "xi_opt"
   ]
  },
  {
   "cell_type": "code",
   "execution_count": 118,
   "metadata": {
    "ExecuteTime": {
     "end_time": "2019-01-31T03:40:20.491848Z",
     "start_time": "2019-01-31T03:40:20.453468Z"
    }
   },
   "outputs": [
    {
     "data": {
      "text/plain": [
       "-4.219386244073984"
      ]
     },
     "execution_count": 118,
     "metadata": {},
     "output_type": "execute_result"
    }
   ],
   "source": [
    "F(xi_opt, dt)"
   ]
  },
  {
   "cell_type": "code",
   "execution_count": 119,
   "metadata": {
    "ExecuteTime": {
     "end_time": "2019-01-31T03:40:20.497859Z",
     "start_time": "2019-01-31T03:40:20.493680Z"
    }
   },
   "outputs": [
    {
     "data": {
      "text/plain": [
       "10"
      ]
     },
     "execution_count": 119,
     "metadata": {},
     "output_type": "execute_result"
    }
   ],
   "source": [
    "max_iter"
   ]
  },
  {
   "cell_type": "code",
   "execution_count": 120,
   "metadata": {
    "ExecuteTime": {
     "end_time": "2019-01-31T03:40:20.506472Z",
     "start_time": "2019-01-31T03:40:20.500094Z"
    }
   },
   "outputs": [
    {
     "data": {
      "text/latex": [
       "Quantum object: dims = [[2, 2], [2, 2]], shape = (4, 4), type = oper, isherm = True\\begin{equation*}\\left(\\begin{array}{*{11}c}0.0 & 0.0 & 0.0 & 1.0\\\\0.0 & 0.0 & 1.0 & 0.0\\\\0.0 & 1.0 & 0.0 & 0.0\\\\1.0 & 0.0 & 0.0 & 0.0\\\\\\end{array}\\right)\\end{equation*}"
      ],
      "text/plain": [
       "Quantum object: dims = [[2, 2], [2, 2]], shape = (4, 4), type = oper, isherm = True\n",
       "Qobj data =\n",
       "[[0. 0. 0. 1.]\n",
       " [0. 0. 1. 0.]\n",
       " [0. 1. 0. 0.]\n",
       " [1. 0. 0. 0.]]"
      ]
     },
     "execution_count": 120,
     "metadata": {},
     "output_type": "execute_result"
    }
   ],
   "source": [
    "T"
   ]
  },
  {
   "cell_type": "code",
   "execution_count": 121,
   "metadata": {
    "ExecuteTime": {
     "end_time": "2019-01-31T03:40:20.548520Z",
     "start_time": "2019-01-31T03:40:20.508492Z"
    }
   },
   "outputs": [
    {
     "data": {
      "text/latex": [
       "Quantum object: dims = [[2, 2], [2, 2]], shape = (4, 4), type = oper, isherm = False\\begin{equation*}\\left(\\begin{array}{*{11}c}0.234 & (-0.016+0.003j) & (-0.016-0.003j) & 0.766\\\\(0.016-0.003j) & (-0.124-0.001j) & (-0.409-0.005j) & (-0.016+0.003j)\\\\(0.016+0.003j) & (-0.409+0.005j) & (-0.124+0.001j) & (-0.016-0.003j)\\\\0.766 & (0.016-0.003j) & (0.016+0.003j) & 0.234\\\\\\end{array}\\right)\\end{equation*}"
      ],
      "text/plain": [
       "Quantum object: dims = [[2, 2], [2, 2]], shape = (4, 4), type = oper, isherm = False\n",
       "Qobj data =\n",
       "[[ 0.23379157+0.j         -0.01645227+0.0034021j  -0.01645227-0.0034021j\n",
       "   0.76620843+0.j        ]\n",
       " [ 0.01608122-0.00275066j -0.12394731-0.00107552j -0.408507  -0.00481791j\n",
       "  -0.01608122+0.00275066j]\n",
       " [ 0.01608122+0.00275066j -0.408507  +0.00481791j -0.12394731+0.00107552j\n",
       "  -0.01608122-0.00275066j]\n",
       " [ 0.76620843+0.j          0.01645227-0.0034021j   0.01645227+0.0034021j\n",
       "   0.23379157+0.j        ]]"
      ]
     },
     "execution_count": 121,
     "metadata": {},
     "output_type": "execute_result"
    }
   ],
   "source": [
    "L_full_maker(xi_opt, dt)"
   ]
  },
  {
   "cell_type": "code",
   "execution_count": 122,
   "metadata": {
    "ExecuteTime": {
     "end_time": "2019-01-31T03:40:20.837549Z",
     "start_time": "2019-01-31T03:40:20.550527Z"
    }
   },
   "outputs": [
    {
     "data": {
      "text/plain": [
       "(<Figure size 576x432 with 2 Axes>,\n",
       " <matplotlib.axes._subplots.AxesSubplot at 0x118d26278>)"
      ]
     },
     "execution_count": 122,
     "metadata": {},
     "output_type": "execute_result"
    },
    {
     "data": {
      "image/png": "[encoded data removed]",
      "text/plain": [
       "<Figure size 576x432 with 2 Axes>"
      ]
     },
     "metadata": {},
     "output_type": "display_data"
    }
   ],
   "source": [
    "hinton(L_full_maker(xi_opt, dt))"
   ]
  },
  {
   "cell_type": "markdown",
   "metadata": {},
   "source": []
  },
  {
   "cell_type": "code",
   "execution_count": null,
   "metadata": {},
   "outputs": [],
   "source": []
  },
  {
   "cell_type": "markdown",
   "metadata": {},
   "source": [
    "### Try2"
   ]
  },
  {
   "cell_type": "code",
   "execution_count": 123,
   "metadata": {
    "ExecuteTime": {
     "end_time": "2019-01-31T03:40:20.842970Z",
     "start_time": "2019-01-31T03:40:20.839755Z"
    }
   },
   "outputs": [],
   "source": [
    "total_time = 3*pi/omega_1\n",
    "epsilon = 10**(-6)\n",
    "max_iter = 10#10**4#1000#100#50#20\n",
    "time_steps = 20\n",
    "dt = total_time/time_steps"
   ]
  },
  {
   "cell_type": "code",
   "execution_count": 124,
   "metadata": {
    "ExecuteTime": {
     "end_time": "2019-01-31T03:40:22.357549Z",
     "start_time": "2019-01-31T03:40:20.845288Z"
    }
   },
   "outputs": [
    {
     "data": {
      "text/plain": [
       "array([789.75374067+0.j, 556.96868729+0.j, 673.29548007+0.j,\n",
       "       937.676596  +0.j, 435.41258631+0.j, 395.82353912+0.j,\n",
       "       419.18694666+0.j, 452.63354314+0.j, 978.87088382+0.j,\n",
       "       560.17413249+0.j, 242.34209716+0.j, 517.85472488+0.j,\n",
       "       136.72789654+0.j, 515.55371161+0.j,  18.50448957+0.j,\n",
       "       831.54123599+0.j, 376.12662475+0.j, 338.893785  +0.j,\n",
       "       999.51140249+0.j, 487.11898296+0.j])"
      ]
     },
     "execution_count": 124,
     "metadata": {},
     "output_type": "execute_result"
    }
   ],
   "source": [
    "xi_opt = terminator(max_iter, time_steps, total_time, epsilon)\n",
    "xi_opt"
   ]
  },
  {
   "cell_type": "code",
   "execution_count": 125,
   "metadata": {
    "ExecuteTime": {
     "end_time": "2019-01-31T03:40:22.398265Z",
     "start_time": "2019-01-31T03:40:22.359320Z"
    }
   },
   "outputs": [
    {
     "data": {
      "text/plain": [
       "-3.092416218266722"
      ]
     },
     "execution_count": 125,
     "metadata": {},
     "output_type": "execute_result"
    }
   ],
   "source": [
    "F(xi_opt, dt)"
   ]
  },
  {
   "cell_type": "code",
   "execution_count": 126,
   "metadata": {
    "ExecuteTime": {
     "end_time": "2019-01-31T03:40:22.404589Z",
     "start_time": "2019-01-31T03:40:22.400404Z"
    }
   },
   "outputs": [
    {
     "data": {
      "text/plain": [
       "10"
      ]
     },
     "execution_count": 126,
     "metadata": {},
     "output_type": "execute_result"
    }
   ],
   "source": [
    "max_iter"
   ]
  },
  {
   "cell_type": "code",
   "execution_count": 127,
   "metadata": {
    "ExecuteTime": {
     "end_time": "2019-01-31T03:40:22.412031Z",
     "start_time": "2019-01-31T03:40:22.406542Z"
    }
   },
   "outputs": [
    {
     "data": {
      "text/latex": [
       "Quantum object: dims = [[2, 2], [2, 2]], shape = (4, 4), type = oper, isherm = True\\begin{equation*}\\left(\\begin{array}{*{11}c}0.0 & 0.0 & 0.0 & 1.0\\\\0.0 & 0.0 & 1.0 & 0.0\\\\0.0 & 1.0 & 0.0 & 0.0\\\\1.0 & 0.0 & 0.0 & 0.0\\\\\\end{array}\\right)\\end{equation*}"
      ],
      "text/plain": [
       "Quantum object: dims = [[2, 2], [2, 2]], shape = (4, 4), type = oper, isherm = True\n",
       "Qobj data =\n",
       "[[0. 0. 0. 1.]\n",
       " [0. 0. 1. 0.]\n",
       " [0. 1. 0. 0.]\n",
       " [1. 0. 0. 0.]]"
      ]
     },
     "execution_count": 127,
     "metadata": {},
     "output_type": "execute_result"
    }
   ],
   "source": [
    "T"
   ]
  },
  {
   "cell_type": "code",
   "execution_count": 128,
   "metadata": {
    "ExecuteTime": {
     "end_time": "2019-01-31T03:40:22.455643Z",
     "start_time": "2019-01-31T03:40:22.414698Z"
    }
   },
   "outputs": [
    {
     "data": {
      "text/latex": [
       "Quantum object: dims = [[2, 2], [2, 2]], shape = (4, 4), type = oper, isherm = False\\begin{equation*}\\left(\\begin{array}{*{11}c}0.521 & (-0.073-0.002j) & (-0.073+0.002j) & 0.479\\\\(0.073-8.099\\times10^{-04}j) & (0.032+0.005j) & (0.009+0.005j) & (-0.073+8.099\\times10^{-04}j)\\\\(0.073+8.099\\times10^{-04}j) & (0.009-0.005j) & (0.032-0.005j) & (-0.073-8.099\\times10^{-04}j)\\\\0.479 & (0.073+0.002j) & (0.073-0.002j) & 0.521\\\\\\end{array}\\right)\\end{equation*}"
      ],
      "text/plain": [
       "Quantum object: dims = [[2, 2], [2, 2]], shape = (4, 4), type = oper, isherm = False\n",
       "Qobj data =\n",
       "[[ 0.52072137+0.j         -0.07265601-0.00201343j -0.07265601+0.00201343j\n",
       "   0.47927863+0.j        ]\n",
       " [ 0.07294427-0.00080992j  0.0321609 +0.00523571j  0.00923518+0.00458431j\n",
       "  -0.07294427+0.00080992j]\n",
       " [ 0.07294427+0.00080992j  0.00923518-0.00458431j  0.0321609 -0.00523571j\n",
       "  -0.07294427-0.00080992j]\n",
       " [ 0.47927863+0.j          0.07265601+0.00201343j  0.07265601-0.00201343j\n",
       "   0.52072137+0.j        ]]"
      ]
     },
     "execution_count": 128,
     "metadata": {},
     "output_type": "execute_result"
    }
   ],
   "source": [
    "L_full_maker(xi_opt, dt)"
   ]
  },
  {
   "cell_type": "code",
   "execution_count": 129,
   "metadata": {
    "ExecuteTime": {
     "end_time": "2019-01-31T03:40:22.733541Z",
     "start_time": "2019-01-31T03:40:22.457796Z"
    }
   },
   "outputs": [
    {
     "data": {
      "text/plain": [
       "(<Figure size 576x432 with 2 Axes>,\n",
       " <matplotlib.axes._subplots.AxesSubplot at 0x119461390>)"
      ]
     },
     "execution_count": 129,
     "metadata": {},
     "output_type": "execute_result"
    },
    {
     "data": {
      "image/png": "[encoded data removed]",
      "text/plain": [
       "<Figure size 576x432 with 2 Axes>"
      ]
     },
     "metadata": {},
     "output_type": "display_data"
    }
   ],
   "source": [
    "hinton(L_full_maker(xi_opt, dt))"
   ]
  },
  {
   "cell_type": "markdown",
   "metadata": {},
   "source": []
  },
  {
   "cell_type": "markdown",
   "metadata": {},
   "source": [
    "### Try2"
   ]
  },
  {
   "cell_type": "code",
   "execution_count": 130,
   "metadata": {
    "ExecuteTime": {
     "end_time": "2019-01-31T03:40:22.739247Z",
     "start_time": "2019-01-31T03:40:22.735348Z"
    }
   },
   "outputs": [],
   "source": [
    "total_time = 4*pi/omega_1\n",
    "epsilon = 10**(-6)\n",
    "max_iter = 10#10**4#1000#100#50#20\n",
    "time_steps = 20\n",
    "dt = total_time/time_steps"
   ]
  },
  {
   "cell_type": "code",
   "execution_count": 131,
   "metadata": {
    "ExecuteTime": {
     "end_time": "2019-01-31T03:40:24.203368Z",
     "start_time": "2019-01-31T03:40:22.743376Z"
    }
   },
   "outputs": [
    {
     "data": {
      "text/plain": [
       "array([921.5702214 +0.j, 756.62390835+0.j,  65.95312248+0.j,\n",
       "       573.47364336+0.j, 106.91379795+0.j, 255.4183076 +0.j,\n",
       "       703.75718151+0.j, 513.46546795+0.j, 854.34191328+0.j,\n",
       "       432.34206428+0.j, 530.95697353+0.j, 212.40197576+0.j,\n",
       "       781.41034017+0.j, 274.0190033 +0.j, 858.41249586+0.j,\n",
       "       348.83942537+0.j, 254.12661776+0.j,  51.85833269+0.j,\n",
       "         5.22903744+0.j, 629.88884338+0.j])"
      ]
     },
     "execution_count": 131,
     "metadata": {},
     "output_type": "execute_result"
    }
   ],
   "source": [
    "xi_opt = terminator(max_iter, time_steps, total_time, epsilon)\n",
    "xi_opt"
   ]
  },
  {
   "cell_type": "code",
   "execution_count": 132,
   "metadata": {
    "ExecuteTime": {
     "end_time": "2019-01-31T03:40:24.243846Z",
     "start_time": "2019-01-31T03:40:24.205398Z"
    }
   },
   "outputs": [
    {
     "data": {
      "text/plain": [
       "-3.023404166032716"
      ]
     },
     "execution_count": 132,
     "metadata": {},
     "output_type": "execute_result"
    }
   ],
   "source": [
    "F(xi_opt, dt)"
   ]
  },
  {
   "cell_type": "code",
   "execution_count": 133,
   "metadata": {
    "ExecuteTime": {
     "end_time": "2019-01-31T03:40:24.249742Z",
     "start_time": "2019-01-31T03:40:24.245844Z"
    }
   },
   "outputs": [
    {
     "data": {
      "text/plain": [
       "10"
      ]
     },
     "execution_count": 133,
     "metadata": {},
     "output_type": "execute_result"
    }
   ],
   "source": [
    "max_iter"
   ]
  },
  {
   "cell_type": "code",
   "execution_count": 134,
   "metadata": {
    "ExecuteTime": {
     "end_time": "2019-01-31T03:40:24.258116Z",
     "start_time": "2019-01-31T03:40:24.252497Z"
    }
   },
   "outputs": [
    {
     "data": {
      "text/latex": [
       "Quantum object: dims = [[2, 2], [2, 2]], shape = (4, 4), type = oper, isherm = True\\begin{equation*}\\left(\\begin{array}{*{11}c}0.0 & 0.0 & 0.0 & 1.0\\\\0.0 & 0.0 & 1.0 & 0.0\\\\0.0 & 1.0 & 0.0 & 0.0\\\\1.0 & 0.0 & 0.0 & 0.0\\\\\\end{array}\\right)\\end{equation*}"
      ],
      "text/plain": [
       "Quantum object: dims = [[2, 2], [2, 2]], shape = (4, 4), type = oper, isherm = True\n",
       "Qobj data =\n",
       "[[0. 0. 0. 1.]\n",
       " [0. 0. 1. 0.]\n",
       " [0. 1. 0. 0.]\n",
       " [1. 0. 0. 0.]]"
      ]
     },
     "execution_count": 134,
     "metadata": {},
     "output_type": "execute_result"
    }
   ],
   "source": [
    "T"
   ]
  },
  {
   "cell_type": "code",
   "execution_count": 135,
   "metadata": {
    "ExecuteTime": {
     "end_time": "2019-01-31T03:40:24.313554Z",
     "start_time": "2019-01-31T03:40:24.260063Z"
    }
   },
   "outputs": [
    {
     "data": {
      "text/latex": [
       "Quantum object: dims = [[2, 2], [2, 2]], shape = (4, 4), type = oper, isherm = False\\begin{equation*}\\left(\\begin{array}{*{11}c}0.461 & (-0.012+6.345\\times10^{-05}j) & (-0.012-6.345\\times10^{-05}j) & 0.539\\\\(0.011+0.003j) & (-0.035-0.002j) & (-0.041-0.005j) & (-0.011-0.003j)\\\\(0.011-0.003j) & (-0.041+0.005j) & (-0.035+0.002j) & (-0.011+0.003j)\\\\0.539 & (0.012-6.345\\times10^{-05}j) & (0.012+6.345\\times10^{-05}j) & 0.461\\\\\\end{array}\\right)\\end{equation*}"
      ],
      "text/plain": [
       "Quantum object: dims = [[2, 2], [2, 2]], shape = (4, 4), type = oper, isherm = False\n",
       "Qobj data =\n",
       "[[ 0.46134345+0.00000000e+00j -0.01188662+6.34450600e-05j\n",
       "  -0.01188662-6.34450600e-05j  0.53865655+0.00000000e+00j]\n",
       " [ 0.01144117+2.61278484e-03j -0.03486451-2.32443413e-03j\n",
       "  -0.04125944-5.13025647e-03j -0.01144117-2.61278484e-03j]\n",
       " [ 0.01144117-2.61278484e-03j -0.04125944+5.13025647e-03j\n",
       "  -0.03486451+2.32443413e-03j -0.01144117+2.61278484e-03j]\n",
       " [ 0.53865655+0.00000000e+00j  0.01188662-6.34450600e-05j\n",
       "   0.01188662+6.34450600e-05j  0.46134345+0.00000000e+00j]]"
      ]
     },
     "execution_count": 135,
     "metadata": {},
     "output_type": "execute_result"
    }
   ],
   "source": [
    "L_full_maker(xi_opt, dt)"
   ]
  },
  {
   "cell_type": "code",
   "execution_count": 136,
   "metadata": {
    "ExecuteTime": {
     "end_time": "2019-01-31T03:40:24.655291Z",
     "start_time": "2019-01-31T03:40:24.316017Z"
    }
   },
   "outputs": [
    {
     "data": {
      "text/plain": [
       "(<Figure size 576x432 with 2 Axes>,\n",
       " <matplotlib.axes._subplots.AxesSubplot at 0x1a22ec5d68>)"
      ]
     },
     "execution_count": 136,
     "metadata": {},
     "output_type": "execute_result"
    },
    {
     "data": {
      "image/png": "[encoded data removed]",
      "text/plain": [
       "<Figure size 576x432 with 2 Axes>"
      ]
     },
     "metadata": {},
     "output_type": "display_data"
    }
   ],
   "source": [
    "hinton(L_full_maker(xi_opt, dt))"
   ]
  },
  {
   "cell_type": "markdown",
   "metadata": {},
   "source": [
    "### Try2"
   ]
  },
  {
   "cell_type": "code",
   "execution_count": 137,
   "metadata": {
    "ExecuteTime": {
     "end_time": "2019-01-31T03:40:24.659988Z",
     "start_time": "2019-01-31T03:40:24.656989Z"
    }
   },
   "outputs": [],
   "source": [
    "total_time = 5*pi/omega_1\n",
    "epsilon = 10**(-6)\n",
    "max_iter = 10#10**4#1000#100#50#20\n",
    "time_steps = 20\n",
    "dt = total_time/time_steps"
   ]
  },
  {
   "cell_type": "code",
   "execution_count": 138,
   "metadata": {
    "ExecuteTime": {
     "end_time": "2019-01-31T03:40:26.096632Z",
     "start_time": "2019-01-31T03:40:24.662344Z"
    }
   },
   "outputs": [
    {
     "data": {
      "text/plain": [
       "array([130.8209312 +0.j, 884.89862915+0.j, 959.20321219+0.j,\n",
       "       498.29494498+0.j, 355.84298734+0.j, 568.20249344+0.j,\n",
       "       923.16070827+0.j, 844.81458222+0.j, 241.83831399+0.j,\n",
       "       721.92677815+0.j, 499.08316577+0.j, 889.29270742+0.j,\n",
       "       449.72399213+0.j, 435.78788133+0.j, 278.47756219+0.j,\n",
       "       973.90977039+0.j, 367.88713662+0.j, 554.77033809+0.j,\n",
       "       377.57633898+0.j, 541.75842192+0.j])"
      ]
     },
     "execution_count": 138,
     "metadata": {},
     "output_type": "execute_result"
    }
   ],
   "source": [
    "xi_opt = terminator(max_iter, time_steps, total_time, epsilon)\n",
    "xi_opt"
   ]
  },
  {
   "cell_type": "code",
   "execution_count": 139,
   "metadata": {
    "ExecuteTime": {
     "end_time": "2019-01-31T03:40:26.137234Z",
     "start_time": "2019-01-31T03:40:26.099087Z"
    }
   },
   "outputs": [
    {
     "data": {
      "text/plain": [
       "-3.007462360424914"
      ]
     },
     "execution_count": 139,
     "metadata": {},
     "output_type": "execute_result"
    }
   ],
   "source": [
    "F(xi_opt, dt)"
   ]
  },
  {
   "cell_type": "code",
   "execution_count": 140,
   "metadata": {
    "ExecuteTime": {
     "end_time": "2019-01-31T03:40:26.143719Z",
     "start_time": "2019-01-31T03:40:26.139376Z"
    }
   },
   "outputs": [
    {
     "data": {
      "text/plain": [
       "10"
      ]
     },
     "execution_count": 140,
     "metadata": {},
     "output_type": "execute_result"
    }
   ],
   "source": [
    "max_iter"
   ]
  },
  {
   "cell_type": "code",
   "execution_count": 141,
   "metadata": {
    "ExecuteTime": {
     "end_time": "2019-01-31T03:40:26.151675Z",
     "start_time": "2019-01-31T03:40:26.145552Z"
    }
   },
   "outputs": [
    {
     "data": {
      "text/latex": [
       "Quantum object: dims = [[2, 2], [2, 2]], shape = (4, 4), type = oper, isherm = True\\begin{equation*}\\left(\\begin{array}{*{11}c}0.0 & 0.0 & 0.0 & 1.0\\\\0.0 & 0.0 & 1.0 & 0.0\\\\0.0 & 1.0 & 0.0 & 0.0\\\\1.0 & 0.0 & 0.0 & 0.0\\\\\\end{array}\\right)\\end{equation*}"
      ],
      "text/plain": [
       "Quantum object: dims = [[2, 2], [2, 2]], shape = (4, 4), type = oper, isherm = True\n",
       "Qobj data =\n",
       "[[0. 0. 0. 1.]\n",
       " [0. 0. 1. 0.]\n",
       " [0. 1. 0. 0.]\n",
       " [1. 0. 0. 0.]]"
      ]
     },
     "execution_count": 141,
     "metadata": {},
     "output_type": "execute_result"
    }
   ],
   "source": [
    "T"
   ]
  },
  {
   "cell_type": "code",
   "execution_count": 142,
   "metadata": {
    "ExecuteTime": {
     "end_time": "2019-01-31T03:40:26.193088Z",
     "start_time": "2019-01-31T03:40:26.153719Z"
    }
   },
   "outputs": [
    {
     "data": {
      "text/latex": [
       "Quantum object: dims = [[2, 2], [2, 2]], shape = (4, 4), type = oper, isherm = False\\begin{equation*}\\left(\\begin{array}{*{11}c}0.487 & (0.017-1.021\\times10^{-04}j) & (0.017+1.021\\times10^{-04}j) & 0.513\\\\(-0.017+4.004\\times10^{-05}j) & (-0.012-2.908\\times10^{-04}j) & (-0.014+1.940\\times10^{-04}j) & (0.017-4.004\\times10^{-05}j)\\\\(-0.017-4.004\\times10^{-05}j) & (-0.014-1.940\\times10^{-04}j) & (-0.012+2.908\\times10^{-04}j) & (0.017+4.004\\times10^{-05}j)\\\\0.513 & (-0.017+1.021\\times10^{-04}j) & (-0.017-1.021\\times10^{-04}j) & 0.487\\\\\\end{array}\\right)\\end{equation*}"
      ],
      "text/plain": [
       "Quantum object: dims = [[2, 2], [2, 2]], shape = (4, 4), type = oper, isherm = False\n",
       "Qobj data =\n",
       "[[ 0.48694859+0.00000000e+00j  0.01722313-1.02067074e-04j\n",
       "   0.01722313+1.02067074e-04j  0.51305141+0.00000000e+00j]\n",
       " [-0.01721472+4.00382681e-05j -0.01211542-2.90776019e-04j\n",
       "  -0.01398246+1.94049302e-04j  0.01721472-4.00382681e-05j]\n",
       " [-0.01721472-4.00382681e-05j -0.01398246-1.94049302e-04j\n",
       "  -0.01211542+2.90776019e-04j  0.01721472+4.00382681e-05j]\n",
       " [ 0.51305141+0.00000000e+00j -0.01722313+1.02067074e-04j\n",
       "  -0.01722313-1.02067074e-04j  0.48694859+0.00000000e+00j]]"
      ]
     },
     "execution_count": 142,
     "metadata": {},
     "output_type": "execute_result"
    }
   ],
   "source": [
    "L_full_maker(xi_opt, dt)"
   ]
  },
  {
   "cell_type": "code",
   "execution_count": 143,
   "metadata": {
    "ExecuteTime": {
     "end_time": "2019-01-31T03:40:26.460504Z",
     "start_time": "2019-01-31T03:40:26.194787Z"
    }
   },
   "outputs": [
    {
     "data": {
      "text/plain": [
       "(<Figure size 576x432 with 2 Axes>,\n",
       " <matplotlib.axes._subplots.AxesSubplot at 0x1a23221f98>)"
      ]
     },
     "execution_count": 143,
     "metadata": {},
     "output_type": "execute_result"
    },
    {
     "data": {
      "image/png": "[encoded data removed]",
      "text/plain": [
       "<Figure size 576x432 with 2 Axes>"
      ]
     },
     "metadata": {},
     "output_type": "display_data"
    }
   ],
   "source": [
    "hinton(L_full_maker(xi_opt, dt))"
   ]
  },
  {
   "cell_type": "markdown",
   "metadata": {},
   "source": [
    "### Try2"
   ]
  },
  {
   "cell_type": "code",
   "execution_count": 144,
   "metadata": {
    "ExecuteTime": {
     "end_time": "2019-01-31T03:40:26.466850Z",
     "start_time": "2019-01-31T03:40:26.463600Z"
    }
   },
   "outputs": [],
   "source": [
    "total_time = 10*pi/omega_1\n",
    "epsilon = 10**(-6)\n",
    "max_iter = 10#10**4#1000#100#50#20\n",
    "time_steps = 20\n",
    "dt = total_time/time_steps"
   ]
  },
  {
   "cell_type": "code",
   "execution_count": 145,
   "metadata": {
    "ExecuteTime": {
     "end_time": "2019-01-31T03:40:27.935487Z",
     "start_time": "2019-01-31T03:40:26.469393Z"
    }
   },
   "outputs": [
    {
     "data": {
      "text/plain": [
       "array([223.7274885 +0.j, 639.62630204+0.j, 541.48785948+0.j,\n",
       "       751.58436922+0.j, 764.8426518 +0.j, 296.00922486+0.j,\n",
       "       126.15714927+0.j, 386.65578067+0.j, 373.67108782+0.j,\n",
       "       551.03998792+0.j, 322.46822048+0.j, 896.89556233+0.j,\n",
       "       743.82172746+0.j, 735.07660576+0.j, 339.24210679+0.j,\n",
       "        86.60209728+0.j, 456.08411937+0.j, 310.91369033+0.j,\n",
       "       512.73578685+0.j, 233.64748357+0.j])"
      ]
     },
     "execution_count": 145,
     "metadata": {},
     "output_type": "execute_result"
    }
   ],
   "source": [
    "xi_opt = terminator(max_iter, time_steps, total_time, epsilon)\n",
    "xi_opt"
   ]
  },
  {
   "cell_type": "code",
   "execution_count": 146,
   "metadata": {
    "ExecuteTime": {
     "end_time": "2019-01-31T03:40:27.977340Z",
     "start_time": "2019-01-31T03:40:27.937751Z"
    }
   },
   "outputs": [
    {
     "data": {
      "text/plain": [
       "-3.000013218736381"
      ]
     },
     "execution_count": 146,
     "metadata": {},
     "output_type": "execute_result"
    }
   ],
   "source": [
    "F(xi_opt, dt)"
   ]
  },
  {
   "cell_type": "code",
   "execution_count": 147,
   "metadata": {
    "ExecuteTime": {
     "end_time": "2019-01-31T03:40:27.983349Z",
     "start_time": "2019-01-31T03:40:27.979001Z"
    }
   },
   "outputs": [
    {
     "data": {
      "text/plain": [
       "10"
      ]
     },
     "execution_count": 147,
     "metadata": {},
     "output_type": "execute_result"
    }
   ],
   "source": [
    "max_iter"
   ]
  },
  {
   "cell_type": "code",
   "execution_count": 148,
   "metadata": {
    "ExecuteTime": {
     "end_time": "2019-01-31T03:40:27.990916Z",
     "start_time": "2019-01-31T03:40:27.985571Z"
    }
   },
   "outputs": [
    {
     "data": {
      "text/latex": [
       "Quantum object: dims = [[2, 2], [2, 2]], shape = (4, 4), type = oper, isherm = True\\begin{equation*}\\left(\\begin{array}{*{11}c}0.0 & 0.0 & 0.0 & 1.0\\\\0.0 & 0.0 & 1.0 & 0.0\\\\0.0 & 1.0 & 0.0 & 0.0\\\\1.0 & 0.0 & 0.0 & 0.0\\\\\\end{array}\\right)\\end{equation*}"
      ],
      "text/plain": [
       "Quantum object: dims = [[2, 2], [2, 2]], shape = (4, 4), type = oper, isherm = True\n",
       "Qobj data =\n",
       "[[0. 0. 0. 1.]\n",
       " [0. 0. 1. 0.]\n",
       " [0. 1. 0. 0.]\n",
       " [1. 0. 0. 0.]]"
      ]
     },
     "execution_count": 148,
     "metadata": {},
     "output_type": "execute_result"
    }
   ],
   "source": [
    "T"
   ]
  },
  {
   "cell_type": "code",
   "execution_count": 149,
   "metadata": {
    "ExecuteTime": {
     "end_time": "2019-01-31T03:40:28.032834Z",
     "start_time": "2019-01-31T03:40:27.993136Z"
    }
   },
   "outputs": [
    {
     "data": {
      "text/latex": [
       "Quantum object: dims = [[2, 2], [2, 2]], shape = (4, 4), type = oper, isherm = False\\begin{equation*}\\left(\\begin{array}{*{11}c}0.500 & (-8.445\\times10^{-04}+8.780\\times10^{-07}j) & (-8.445\\times10^{-04}-8.780\\times10^{-07}j) & 0.500\\\\(8.439\\times10^{-04}-1.974\\times10^{-06}j) & (-3.967\\times10^{-04}+7.587\\times10^{-06}j) & (-4.002\\times10^{-04}-3.247\\times10^{-06}j) & (-8.439\\times10^{-04}+1.974\\times10^{-06}j)\\\\(8.439\\times10^{-04}+1.974\\times10^{-06}j) & (-4.002\\times10^{-04}+3.247\\times10^{-06}j) & (-3.967\\times10^{-04}-7.587\\times10^{-06}j) & (-8.439\\times10^{-04}-1.974\\times10^{-06}j)\\\\0.500 & (8.445\\times10^{-04}-8.780\\times10^{-07}j) & (8.445\\times10^{-04}+8.780\\times10^{-07}j) & 0.500\\\\\\end{array}\\right)\\end{equation*}"
      ],
      "text/plain": [
       "Quantum object: dims = [[2, 2], [2, 2]], shape = (4, 4), type = oper, isherm = False\n",
       "Qobj data =\n",
       "[[ 4.99601314e-01+0.00000000e+00j -8.44451456e-04+8.78041811e-07j\n",
       "  -8.44451456e-04-8.78041812e-07j  5.00398686e-01+0.00000000e+00j]\n",
       " [ 8.43925211e-04-1.97422006e-06j -3.96725596e-04+7.58652527e-06j\n",
       "  -4.00247762e-04-3.24717202e-06j -8.43925211e-04+1.97422006e-06j]\n",
       " [ 8.43925211e-04+1.97422006e-06j -4.00247762e-04+3.24717202e-06j\n",
       "  -3.96725596e-04-7.58652527e-06j -8.43925211e-04-1.97422006e-06j]\n",
       " [ 5.00398686e-01+0.00000000e+00j  8.44451456e-04-8.78041812e-07j\n",
       "   8.44451456e-04+8.78041811e-07j  4.99601314e-01+0.00000000e+00j]]"
      ]
     },
     "execution_count": 149,
     "metadata": {},
     "output_type": "execute_result"
    }
   ],
   "source": [
    "L_full_maker(xi_opt, dt)"
   ]
  },
  {
   "cell_type": "code",
   "execution_count": 150,
   "metadata": {
    "ExecuteTime": {
     "end_time": "2019-01-31T03:40:28.302563Z",
     "start_time": "2019-01-31T03:40:28.034711Z"
    }
   },
   "outputs": [
    {
     "data": {
      "text/plain": [
       "(<Figure size 576x432 with 2 Axes>,\n",
       " <matplotlib.axes._subplots.AxesSubplot at 0x1a23283320>)"
      ]
     },
     "execution_count": 150,
     "metadata": {},
     "output_type": "execute_result"
    },
    {
     "data": {
      "image/png": "[encoded data removed]",
      "text/plain": [
       "<Figure size 576x432 with 2 Axes>"
      ]
     },
     "metadata": {},
     "output_type": "display_data"
    }
   ],
   "source": [
    "hinton(L_full_maker(xi_opt, dt))"
   ]
  },
  {
   "cell_type": "markdown",
   "metadata": {},
   "source": [
    "### Try2"
   ]
  },
  {
   "cell_type": "code",
   "execution_count": 151,
   "metadata": {
    "ExecuteTime": {
     "end_time": "2019-01-31T03:40:28.308085Z",
     "start_time": "2019-01-31T03:40:28.304769Z"
    }
   },
   "outputs": [],
   "source": [
    "total_time = 3*pi/omega_1\n",
    "epsilon = 10**(-6)\n",
    "max_iter = 10#10**4#1000#100#50#20\n",
    "time_steps = 200\n",
    "dt = total_time/time_steps"
   ]
  },
  {
   "cell_type": "code",
   "execution_count": 152,
   "metadata": {
    "ExecuteTime": {
     "end_time": "2019-01-31T03:42:43.737092Z",
     "start_time": "2019-01-31T03:40:28.310128Z"
    }
   },
   "outputs": [
    {
     "data": {
      "text/plain": [
       "array([669.93282255+0.j, 855.41399193+0.j, 165.54949034+0.j,\n",
       "       482.48858536+0.j, 342.62081729+0.j, 206.0307676 +0.j,\n",
       "        77.38694075+0.j, 928.72262927+0.j, 998.41513427+0.j,\n",
       "       246.8964603 +0.j, 738.44610915+0.j, 686.53431526+0.j,\n",
       "       767.47644267+0.j, 416.29453042+0.j, 652.17942595+0.j,\n",
       "       317.33050076+0.j, 659.06194186+0.j, 395.15892462+0.j,\n",
       "       466.08489753+0.j, 951.99193941+0.j, 481.86586549+0.j,\n",
       "       407.51861575+0.j, 579.64486577+0.j, 262.82841781+0.j,\n",
       "       936.95958765+0.j, 515.61931657+0.j, 777.14590254+0.j,\n",
       "       916.78003194+0.j, 336.84291003+0.j, 657.54373832+0.j,\n",
       "       471.22309698+0.j, 565.44572085+0.j, 864.53446624+0.j,\n",
       "       343.09491824+0.j, 798.31476124+0.j, 887.06739546+0.j,\n",
       "       271.1093658 +0.j, 239.78865928+0.j, 761.52379115+0.j,\n",
       "       641.9599327 +0.j, 328.99058299+0.j, 203.86798119+0.j,\n",
       "       174.495657  +0.j, 380.26907774+0.j, 150.02915331+0.j,\n",
       "       774.07224879+0.j, 664.37065901+0.j, 186.59876501+0.j,\n",
       "       205.14649299+0.j, 509.72715266+0.j, 395.11915114+0.j,\n",
       "       878.73691297+0.j,  56.89012308+0.j, 302.54549052+0.j,\n",
       "       952.11792012+0.j, 935.39214027+0.j, 168.77894849+0.j,\n",
       "        42.83826835+0.j, 721.28450165+0.j, 943.16708843+0.j,\n",
       "       191.43983231+0.j, 590.02735898+0.j, 918.91793153+0.j,\n",
       "       264.14531268+0.j, 110.55664753+0.j, 840.23900242+0.j,\n",
       "       244.52906839+0.j, 365.73489064+0.j, 460.88746218+0.j,\n",
       "        16.80439811+0.j, 557.64732578+0.j, 426.90843091+0.j,\n",
       "        34.59304061+0.j, 469.28173023+0.j, 827.90798531+0.j,\n",
       "       771.60920906+0.j, 160.99940884+0.j, 887.91482141+0.j,\n",
       "       774.05714096+0.j, 659.77766528+0.j, 967.91706016+0.j,\n",
       "       794.26750628+0.j, 716.00701303+0.j, 903.9740441 +0.j,\n",
       "       594.95492305+0.j, 455.19533352+0.j, 294.65264451+0.j,\n",
       "       639.50108058+0.j,  57.92504166+0.j, 648.08523143+0.j,\n",
       "       990.29116443+0.j, 248.12973034+0.j, 326.23136382+0.j,\n",
       "       137.8958129 +0.j, 246.64328254+0.j, 479.38779217+0.j,\n",
       "       136.99262525+0.j, 310.88835878+0.j, 684.15992466+0.j,\n",
       "       205.4962925 +0.j, 393.97918937+0.j, 672.73914462+0.j,\n",
       "        84.41032536+0.j, 263.02753502+0.j,   7.35800547+0.j,\n",
       "       350.3278593 +0.j, 537.48567455+0.j, 288.1840845 +0.j,\n",
       "       283.20807099+0.j, 579.5339533 +0.j, 933.06593949+0.j,\n",
       "       154.63814044+0.j, 354.84542733+0.j, 472.39786749+0.j,\n",
       "       129.78762985+0.j, 704.70611328+0.j, 268.88088426+0.j,\n",
       "       342.76734562+0.j, 663.77426842+0.j, 422.59335515+0.j,\n",
       "       965.02525503+0.j, 752.09583116+0.j, 253.57637326+0.j,\n",
       "       661.82046964+0.j, 908.93474421+0.j, 512.36389549+0.j,\n",
       "       845.77365467+0.j, 247.22315585+0.j, 930.61570013+0.j,\n",
       "       796.39736197+0.j,  38.40924931+0.j, 890.0680635 +0.j,\n",
       "        71.89707251+0.j, 674.76902476+0.j, 585.33873846+0.j,\n",
       "       287.33659807+0.j,   7.47991655+0.j, 721.5631295 +0.j,\n",
       "       664.25623593+0.j, 647.8142481 +0.j,  41.5851709 +0.j,\n",
       "       326.95597884+0.j, 480.48261945+0.j, 276.31149495+0.j,\n",
       "       587.84450682+0.j, 346.39464427+0.j,  11.73162544+0.j,\n",
       "       197.77678649+0.j, 770.44670411+0.j, 426.5403376 +0.j,\n",
       "       836.21291591+0.j, 986.82423913+0.j, 763.19484939+0.j,\n",
       "       460.06730957+0.j, 528.1613289 +0.j, 231.89413279+0.j,\n",
       "       705.72235957+0.j, 320.65140903+0.j, 347.6738189 +0.j,\n",
       "       305.59120239+0.j, 591.90915538+0.j, 905.59210079+0.j,\n",
       "        97.53488793+0.j, 750.91855875+0.j, 269.02883922+0.j,\n",
       "       869.1268034 +0.j,  68.06615307+0.j, 226.13029477+0.j,\n",
       "       850.48666113+0.j, 157.27771996+0.j, 121.97482676+0.j,\n",
       "       951.75455275+0.j, 735.16980132+0.j, 890.62563803+0.j,\n",
       "       864.20485918+0.j, 804.02072863+0.j, 839.03210648+0.j,\n",
       "       119.02059533+0.j, 809.77461001+0.j, 697.76835101+0.j,\n",
       "       649.46349745+0.j, 328.43888966+0.j, 877.88996181+0.j,\n",
       "        34.30519198+0.j, 506.9439703 +0.j, 436.64946157+0.j,\n",
       "       739.05947666+0.j, 179.6868555 +0.j, 190.7134763 +0.j,\n",
       "       113.38668545+0.j, 265.18699785+0.j, 196.75473433+0.j,\n",
       "       613.14040876+0.j, 424.66723412+0.j, 289.55943658+0.j,\n",
       "       157.43457651+0.j, 553.64222278+0.j, 418.0809171 +0.j,\n",
       "       634.1678144 +0.j,  74.95239631+0.j])"
      ]
     },
     "execution_count": 152,
     "metadata": {},
     "output_type": "execute_result"
    }
   ],
   "source": [
    "xi_opt = terminator(max_iter, time_steps, total_time, epsilon)\n",
    "xi_opt"
   ]
  },
  {
   "cell_type": "code",
   "execution_count": 153,
   "metadata": {
    "ExecuteTime": {
     "end_time": "2019-01-31T03:42:44.114796Z",
     "start_time": "2019-01-31T03:42:43.740498Z"
    }
   },
   "outputs": [
    {
     "data": {
      "text/plain": [
       "-3.105557715080997"
      ]
     },
     "execution_count": 153,
     "metadata": {},
     "output_type": "execute_result"
    }
   ],
   "source": [
    "F(xi_opt, dt)"
   ]
  },
  {
   "cell_type": "code",
   "execution_count": 154,
   "metadata": {
    "ExecuteTime": {
     "end_time": "2019-01-31T03:42:44.120689Z",
     "start_time": "2019-01-31T03:42:44.116761Z"
    }
   },
   "outputs": [
    {
     "data": {
      "text/plain": [
       "10"
      ]
     },
     "execution_count": 154,
     "metadata": {},
     "output_type": "execute_result"
    }
   ],
   "source": [
    "max_iter"
   ]
  },
  {
   "cell_type": "code",
   "execution_count": 155,
   "metadata": {
    "ExecuteTime": {
     "end_time": "2019-01-31T03:42:44.132679Z",
     "start_time": "2019-01-31T03:42:44.122886Z"
    }
   },
   "outputs": [
    {
     "data": {
      "text/latex": [
       "Quantum object: dims = [[2, 2], [2, 2]], shape = (4, 4), type = oper, isherm = True\\begin{equation*}\\left(\\begin{array}{*{11}c}0.0 & 0.0 & 0.0 & 1.0\\\\0.0 & 0.0 & 1.0 & 0.0\\\\0.0 & 1.0 & 0.0 & 0.0\\\\1.0 & 0.0 & 0.0 & 0.0\\\\\\end{array}\\right)\\end{equation*}"
      ],
      "text/plain": [
       "Quantum object: dims = [[2, 2], [2, 2]], shape = (4, 4), type = oper, isherm = True\n",
       "Qobj data =\n",
       "[[0. 0. 0. 1.]\n",
       " [0. 0. 1. 0.]\n",
       " [0. 1. 0. 0.]\n",
       " [1. 0. 0. 0.]]"
      ]
     },
     "execution_count": 155,
     "metadata": {},
     "output_type": "execute_result"
    }
   ],
   "source": [
    "T"
   ]
  },
  {
   "cell_type": "code",
   "execution_count": 156,
   "metadata": {
    "ExecuteTime": {
     "end_time": "2019-01-31T03:42:44.471625Z",
     "start_time": "2019-01-31T03:42:44.134836Z"
    }
   },
   "outputs": [
    {
     "data": {
      "text/latex": [
       "Quantum object: dims = [[2, 2], [2, 2]], shape = (4, 4), type = oper, isherm = False\\begin{equation*}\\left(\\begin{array}{*{11}c}0.451 & (0.054-0.002j) & (0.054+0.002j) & 0.549\\\\(-0.056-0.002j) & (-0.041-0.001j) & (-0.064+0.009j) & (0.056+0.002j)\\\\(-0.056+0.002j) & (-0.064-0.009j) & (-0.041+0.001j) & (0.056-0.002j)\\\\0.549 & (-0.054+0.002j) & (-0.054-0.002j) & 0.451\\\\\\end{array}\\right)\\end{equation*}"
      ],
      "text/plain": [
       "Quantum object: dims = [[2, 2], [2, 2]], shape = (4, 4), type = oper, isherm = False\n",
       "Qobj data =\n",
       "[[ 0.45053501+0.j          0.05386567-0.00219087j  0.05386567+0.00219087j\n",
       "   0.54946499+0.j        ]\n",
       " [-0.05576711-0.00175285j -0.04067547-0.00109118j -0.06444199+0.00917307j\n",
       "   0.05576711+0.00175285j]\n",
       " [-0.05576711+0.00175285j -0.06444199-0.00917307j -0.04067547+0.00109118j\n",
       "   0.05576711-0.00175285j]\n",
       " [ 0.54946499+0.j         -0.05386567+0.00219087j -0.05386567-0.00219087j\n",
       "   0.45053501+0.j        ]]"
      ]
     },
     "execution_count": 156,
     "metadata": {},
     "output_type": "execute_result"
    }
   ],
   "source": [
    "L_full_maker(xi_opt, dt)"
   ]
  },
  {
   "cell_type": "code",
   "execution_count": 157,
   "metadata": {
    "ExecuteTime": {
     "end_time": "2019-01-31T03:42:45.079669Z",
     "start_time": "2019-01-31T03:42:44.473847Z"
    }
   },
   "outputs": [
    {
     "data": {
      "text/plain": [
       "(<Figure size 576x432 with 2 Axes>,\n",
       " <matplotlib.axes._subplots.AxesSubplot at 0x1a232334a8>)"
      ]
     },
     "execution_count": 157,
     "metadata": {},
     "output_type": "execute_result"
    },
    {
     "data": {
      "image/png": "[encoded data removed]",
      "text/plain": [
       "<Figure size 576x432 with 2 Axes>"
      ]
     },
     "metadata": {},
     "output_type": "display_data"
    }
   ],
   "source": [
    "hinton(L_full_maker(xi_opt, dt))"
   ]
  },
  {
   "cell_type": "code",
   "execution_count": null,
   "metadata": {},
   "outputs": [],
   "source": []
  },
  {
   "cell_type": "markdown",
   "metadata": {},
   "source": [
    "### Try2"
   ]
  },
  {
   "cell_type": "code",
   "execution_count": 158,
   "metadata": {
    "ExecuteTime": {
     "end_time": "2019-01-31T03:42:45.086786Z",
     "start_time": "2019-01-31T03:42:45.083204Z"
    }
   },
   "outputs": [],
   "source": [
    "total_time = 3*pi/omega_1\n",
    "epsilon = 10**(-6)\n",
    "max_iter = 10#10**4#1000#100#50#20\n",
    "time_steps = 50\n",
    "dt = total_time/time_steps"
   ]
  },
  {
   "cell_type": "code",
   "execution_count": 159,
   "metadata": {
    "ExecuteTime": {
     "end_time": "2019-01-31T03:42:53.157533Z",
     "start_time": "2019-01-31T03:42:45.089238Z"
    }
   },
   "outputs": [
    {
     "data": {
      "text/plain": [
       "array([983.35006857+0.j, 854.18599804+0.j, 427.39158478+0.j,\n",
       "       568.22      +0.j, 557.67520848+0.j, 215.20662373+0.j,\n",
       "       531.89079128+0.j, 180.95001119+0.j, 985.00507013+0.j,\n",
       "       285.75321228+0.j, 230.22505894+0.j, 392.17777385+0.j,\n",
       "       911.97270469+0.j, 865.95937681+0.j, 719.17747998+0.j,\n",
       "       614.34209737+0.j, 102.76796751+0.j, 122.0661469 +0.j,\n",
       "       182.22958974+0.j, 641.75827772+0.j,  13.03504773+0.j,\n",
       "       785.10642376+0.j, 268.16224425+0.j, 776.70699808+0.j,\n",
       "       382.81870874+0.j, 269.94700403+0.j,  82.49822442+0.j,\n",
       "       514.10921463+0.j, 917.88703593+0.j, 709.00061536+0.j,\n",
       "       328.04657417+0.j, 510.19530155+0.j, 792.68882212+0.j,\n",
       "       781.24520002+0.j, 636.8738876 +0.j, 884.35109957+0.j,\n",
       "       125.25199229+0.j, 498.7457331 +0.j, 133.36702511+0.j,\n",
       "       900.08614773+0.j, 225.70716339+0.j, 173.72539579+0.j,\n",
       "       373.7743205 +0.j, 616.07328852+0.j, 173.27636418+0.j,\n",
       "       915.84662279+0.j, 164.29794128+0.j, 802.09244618+0.j,\n",
       "       185.7917225 +0.j, 332.02434511+0.j])"
      ]
     },
     "execution_count": 159,
     "metadata": {},
     "output_type": "execute_result"
    }
   ],
   "source": [
    "xi_opt = terminator(max_iter, time_steps, total_time, epsilon)\n",
    "xi_opt"
   ]
  },
  {
   "cell_type": "code",
   "execution_count": 160,
   "metadata": {
    "ExecuteTime": {
     "end_time": "2019-01-31T03:42:53.249732Z",
     "start_time": "2019-01-31T03:42:53.159933Z"
    }
   },
   "outputs": [
    {
     "data": {
      "text/plain": [
       "-3.089390859721715"
      ]
     },
     "execution_count": 160,
     "metadata": {},
     "output_type": "execute_result"
    }
   ],
   "source": [
    "F(xi_opt, dt)"
   ]
  },
  {
   "cell_type": "code",
   "execution_count": 161,
   "metadata": {
    "ExecuteTime": {
     "end_time": "2019-01-31T03:42:53.259584Z",
     "start_time": "2019-01-31T03:42:53.255481Z"
    }
   },
   "outputs": [
    {
     "data": {
      "text/plain": [
       "10"
      ]
     },
     "execution_count": 161,
     "metadata": {},
     "output_type": "execute_result"
    }
   ],
   "source": [
    "max_iter"
   ]
  },
  {
   "cell_type": "code",
   "execution_count": 162,
   "metadata": {
    "ExecuteTime": {
     "end_time": "2019-01-31T03:42:53.268118Z",
     "start_time": "2019-01-31T03:42:53.261969Z"
    }
   },
   "outputs": [
    {
     "data": {
      "text/latex": [
       "Quantum object: dims = [[2, 2], [2, 2]], shape = (4, 4), type = oper, isherm = True\\begin{equation*}\\left(\\begin{array}{*{11}c}0.0 & 0.0 & 0.0 & 1.0\\\\0.0 & 0.0 & 1.0 & 0.0\\\\0.0 & 1.0 & 0.0 & 0.0\\\\1.0 & 0.0 & 0.0 & 0.0\\\\\\end{array}\\right)\\end{equation*}"
      ],
      "text/plain": [
       "Quantum object: dims = [[2, 2], [2, 2]], shape = (4, 4), type = oper, isherm = True\n",
       "Qobj data =\n",
       "[[0. 0. 0. 1.]\n",
       " [0. 0. 1. 0.]\n",
       " [0. 1. 0. 0.]\n",
       " [1. 0. 0. 0.]]"
      ]
     },
     "execution_count": 162,
     "metadata": {},
     "output_type": "execute_result"
    }
   ],
   "source": [
    "T"
   ]
  },
  {
   "cell_type": "code",
   "execution_count": 163,
   "metadata": {
    "ExecuteTime": {
     "end_time": "2019-01-31T03:42:53.360161Z",
     "start_time": "2019-01-31T03:42:53.270658Z"
    }
   },
   "outputs": [
    {
     "data": {
      "text/latex": [
       "Quantum object: dims = [[2, 2], [2, 2]], shape = (4, 4), type = oper, isherm = False\\begin{equation*}\\left(\\begin{array}{*{11}c}0.434 & (-0.037-0.002j) & (-0.037+0.002j) & 0.566\\\\(0.037-7.035\\times10^{-04}j) & (-0.054-0.002j) & (-0.077+0.009j) & (-0.037+7.035\\times10^{-04}j)\\\\(0.037+7.035\\times10^{-04}j) & (-0.077-0.009j) & (-0.054+0.002j) & (-0.037-7.035\\times10^{-04}j)\\\\0.566 & (0.037+0.002j) & (0.037-0.002j) & 0.434\\\\\\end{array}\\right)\\end{equation*}"
      ],
      "text/plain": [
       "Quantum object: dims = [[2, 2], [2, 2]], shape = (4, 4), type = oper, isherm = False\n",
       "Qobj data =\n",
       "[[ 0.43385111+0.j         -0.03689713-0.00166021j -0.03689713+0.00166021j\n",
       "   0.56614889+0.j        ]\n",
       " [ 0.03697858-0.00070345j -0.05410633-0.00178289j -0.07692821+0.00852519j\n",
       "  -0.03697858+0.00070345j]\n",
       " [ 0.03697858+0.00070345j -0.07692821-0.00852519j -0.05410633+0.00178289j\n",
       "  -0.03697858-0.00070345j]\n",
       " [ 0.56614889+0.j          0.03689713+0.00166021j  0.03689713-0.00166021j\n",
       "   0.43385111+0.j        ]]"
      ]
     },
     "execution_count": 163,
     "metadata": {},
     "output_type": "execute_result"
    }
   ],
   "source": [
    "L_full_maker(xi_opt, dt)"
   ]
  },
  {
   "cell_type": "code",
   "execution_count": 164,
   "metadata": {
    "ExecuteTime": {
     "end_time": "2019-01-31T03:42:53.714552Z",
     "start_time": "2019-01-31T03:42:53.362376Z"
    }
   },
   "outputs": [
    {
     "data": {
      "text/plain": [
       "(<Figure size 576x432 with 2 Axes>,\n",
       " <matplotlib.axes._subplots.AxesSubplot at 0x1a23289cf8>)"
      ]
     },
     "execution_count": 164,
     "metadata": {},
     "output_type": "execute_result"
    },
    {
     "data": {
      "image/png": "[encoded data removed]",
      "text/plain": [
       "<Figure size 576x432 with 2 Axes>"
      ]
     },
     "metadata": {},
     "output_type": "display_data"
    }
   ],
   "source": [
    "hinton(L_full_maker(xi_opt, dt))"
   ]
  },
  {
   "cell_type": "code",
   "execution_count": null,
   "metadata": {},
   "outputs": [],
   "source": []
  },
  {
   "cell_type": "markdown",
   "metadata": {},
   "source": [
    "### Try2"
   ]
  },
  {
   "cell_type": "code",
   "execution_count": 165,
   "metadata": {
    "ExecuteTime": {
     "end_time": "2019-01-31T03:42:53.720033Z",
     "start_time": "2019-01-31T03:42:53.716641Z"
    }
   },
   "outputs": [],
   "source": [
    "total_time = 3*pi/omega_1\n",
    "epsilon = 10**(-6)\n",
    "max_iter = 20#10**4#1000#100#50#20\n",
    "time_steps = 20\n",
    "dt = total_time/time_steps"
   ]
  },
  {
   "cell_type": "code",
   "execution_count": 166,
   "metadata": {
    "ExecuteTime": {
     "end_time": "2019-01-31T03:42:55.079820Z",
     "start_time": "2019-01-31T03:42:53.722403Z"
    }
   },
   "outputs": [
    {
     "data": {
      "text/plain": [
       "array([ 37.75150132+0.j, 207.82847072+0.j, 955.80557562+0.j,\n",
       "       553.46393669+0.j, 180.58114193+0.j, 439.87340604+0.j,\n",
       "       873.14596644+0.j, 376.56916437+0.j, 181.62899988+0.j,\n",
       "       809.56553281+0.j,   8.81952599+0.j, 158.90623378+0.j,\n",
       "       179.1560674 +0.j, 126.77723779+0.j, 735.44465353+0.j,\n",
       "       986.33756807+0.j, 172.86957463+0.j, 487.83018464+0.j,\n",
       "       564.83703258+0.j,  31.28685151+0.j])"
      ]
     },
     "execution_count": 166,
     "metadata": {},
     "output_type": "execute_result"
    }
   ],
   "source": [
    "xi_opt = terminator(max_iter, time_steps, total_time, epsilon)\n",
    "xi_opt"
   ]
  },
  {
   "cell_type": "code",
   "execution_count": 167,
   "metadata": {
    "ExecuteTime": {
     "end_time": "2019-01-31T03:42:55.123417Z",
     "start_time": "2019-01-31T03:42:55.082162Z"
    }
   },
   "outputs": [
    {
     "data": {
      "text/plain": [
       "-3.0924278039056157"
      ]
     },
     "execution_count": 167,
     "metadata": {},
     "output_type": "execute_result"
    }
   ],
   "source": [
    "F(xi_opt, dt)"
   ]
  },
  {
   "cell_type": "code",
   "execution_count": 168,
   "metadata": {
    "ExecuteTime": {
     "end_time": "2019-01-31T03:42:55.130235Z",
     "start_time": "2019-01-31T03:42:55.125691Z"
    }
   },
   "outputs": [
    {
     "data": {
      "text/plain": [
       "20"
      ]
     },
     "execution_count": 168,
     "metadata": {},
     "output_type": "execute_result"
    }
   ],
   "source": [
    "max_iter"
   ]
  },
  {
   "cell_type": "code",
   "execution_count": 169,
   "metadata": {
    "ExecuteTime": {
     "end_time": "2019-01-31T03:42:55.139248Z",
     "start_time": "2019-01-31T03:42:55.132767Z"
    }
   },
   "outputs": [
    {
     "data": {
      "text/latex": [
       "Quantum object: dims = [[2, 2], [2, 2]], shape = (4, 4), type = oper, isherm = True\\begin{equation*}\\left(\\begin{array}{*{11}c}0.0 & 0.0 & 0.0 & 1.0\\\\0.0 & 0.0 & 1.0 & 0.0\\\\0.0 & 1.0 & 0.0 & 0.0\\\\1.0 & 0.0 & 0.0 & 0.0\\\\\\end{array}\\right)\\end{equation*}"
      ],
      "text/plain": [
       "Quantum object: dims = [[2, 2], [2, 2]], shape = (4, 4), type = oper, isherm = True\n",
       "Qobj data =\n",
       "[[0. 0. 0. 1.]\n",
       " [0. 0. 1. 0.]\n",
       " [0. 1. 0. 0.]\n",
       " [1. 0. 0. 0.]]"
      ]
     },
     "execution_count": 169,
     "metadata": {},
     "output_type": "execute_result"
    }
   ],
   "source": [
    "T"
   ]
  },
  {
   "cell_type": "code",
   "execution_count": 170,
   "metadata": {
    "ExecuteTime": {
     "end_time": "2019-01-31T03:42:55.182419Z",
     "start_time": "2019-01-31T03:42:55.141778Z"
    }
   },
   "outputs": [
    {
     "data": {
      "text/latex": [
       "Quantum object: dims = [[2, 2], [2, 2]], shape = (4, 4), type = oper, isherm = False\\begin{equation*}\\left(\\begin{array}{*{11}c}0.434 & (0.036-0.006j) & (0.036+0.006j) & 0.566\\\\(-0.035+0.009j) & (-0.055-0.007j) & (-0.077+0.004j) & (0.035-0.009j)\\\\(-0.035-0.009j) & (-0.077-0.004j) & (-0.055+0.007j) & (0.035+0.009j)\\\\0.566 & (-0.036+0.006j) & (-0.036-0.006j) & 0.434\\\\\\end{array}\\right)\\end{equation*}"
      ],
      "text/plain": [
       "Quantum object: dims = [[2, 2], [2, 2]], shape = (4, 4), type = oper, isherm = False\n",
       "Qobj data =\n",
       "[[ 0.43438508+0.j          0.03592371-0.00581127j  0.03592371+0.00581127j\n",
       "   0.56561492+0.j        ]\n",
       " [-0.03533659+0.00850701j -0.05528344-0.00690386j -0.07722724+0.00447405j\n",
       "   0.03533659-0.00850701j]\n",
       " [-0.03533659-0.00850701j -0.07722724-0.00447405j -0.05528344+0.00690386j\n",
       "   0.03533659+0.00850701j]\n",
       " [ 0.56561492+0.j         -0.03592371+0.00581127j -0.03592371-0.00581127j\n",
       "   0.43438508+0.j        ]]"
      ]
     },
     "execution_count": 170,
     "metadata": {},
     "output_type": "execute_result"
    }
   ],
   "source": [
    "L_full_maker(xi_opt, dt)"
   ]
  },
  {
   "cell_type": "code",
   "execution_count": 171,
   "metadata": {
    "ExecuteTime": {
     "end_time": "2019-01-31T03:42:55.457078Z",
     "start_time": "2019-01-31T03:42:55.185044Z"
    }
   },
   "outputs": [
    {
     "data": {
      "text/plain": [
       "(<Figure size 576x432 with 2 Axes>,\n",
       " <matplotlib.axes._subplots.AxesSubplot at 0x1a235c5b38>)"
      ]
     },
     "execution_count": 171,
     "metadata": {},
     "output_type": "execute_result"
    },
    {
     "data": {
      "image/png": "[encoded data removed]",
      "text/plain": [
       "<Figure size 576x432 with 2 Axes>"
      ]
     },
     "metadata": {},
     "output_type": "display_data"
    }
   ],
   "source": [
    "hinton(L_full_maker(xi_opt, dt))"
   ]
  },
  {
   "cell_type": "markdown",
   "metadata": {},
   "source": [
    "### Try2"
   ]
  },
  {
   "cell_type": "code",
   "execution_count": 172,
   "metadata": {
    "ExecuteTime": {
     "end_time": "2019-01-31T03:42:55.462305Z",
     "start_time": "2019-01-31T03:42:55.459236Z"
    }
   },
   "outputs": [],
   "source": [
    "total_time = 3*pi/omega_1\n",
    "epsilon = 10**(-6)\n",
    "max_iter = 100#10**4#1000#100#50#20\n",
    "time_steps = 20\n",
    "dt = total_time/time_steps"
   ]
  },
  {
   "cell_type": "code",
   "execution_count": 173,
   "metadata": {
    "ExecuteTime": {
     "end_time": "2019-01-31T03:42:56.824337Z",
     "start_time": "2019-01-31T03:42:55.464750Z"
    }
   },
   "outputs": [
    {
     "data": {
      "text/plain": [
       "array([401.58366425+0.j, 743.60212539+0.j, 462.65261428+0.j,\n",
       "       291.61275214+0.j, 997.20136871+0.j, 161.83255664+0.j,\n",
       "       358.71205265+0.j, 397.6299681 +0.j, 115.56934024+0.j,\n",
       "       265.02621297+0.j, 495.14132269+0.j, 681.28181627+0.j,\n",
       "       379.03425381+0.j, 751.750218  +0.j, 868.3165758 +0.j,\n",
       "       208.36118945+0.j, 571.48350418+0.j, 154.54000199+0.j,\n",
       "       969.10320073+0.j, 104.39218721+0.j])"
      ]
     },
     "execution_count": 173,
     "metadata": {},
     "output_type": "execute_result"
    }
   ],
   "source": [
    "xi_opt = terminator(max_iter, time_steps, total_time, epsilon)\n",
    "xi_opt"
   ]
  },
  {
   "cell_type": "code",
   "execution_count": 174,
   "metadata": {
    "ExecuteTime": {
     "end_time": "2019-01-31T03:42:56.868429Z",
     "start_time": "2019-01-31T03:42:56.826467Z"
    }
   },
   "outputs": [
    {
     "data": {
      "text/plain": [
       "-3.092321460912429"
      ]
     },
     "execution_count": 174,
     "metadata": {},
     "output_type": "execute_result"
    }
   ],
   "source": [
    "F(xi_opt, dt)"
   ]
  },
  {
   "cell_type": "code",
   "execution_count": 175,
   "metadata": {
    "ExecuteTime": {
     "end_time": "2019-01-31T03:42:56.874993Z",
     "start_time": "2019-01-31T03:42:56.870689Z"
    }
   },
   "outputs": [
    {
     "data": {
      "text/plain": [
       "100"
      ]
     },
     "execution_count": 175,
     "metadata": {},
     "output_type": "execute_result"
    }
   ],
   "source": [
    "max_iter"
   ]
  },
  {
   "cell_type": "code",
   "execution_count": 176,
   "metadata": {
    "ExecuteTime": {
     "end_time": "2019-01-31T03:42:56.883413Z",
     "start_time": "2019-01-31T03:42:56.877551Z"
    }
   },
   "outputs": [
    {
     "data": {
      "text/latex": [
       "Quantum object: dims = [[2, 2], [2, 2]], shape = (4, 4), type = oper, isherm = True\\begin{equation*}\\left(\\begin{array}{*{11}c}0.0 & 0.0 & 0.0 & 1.0\\\\0.0 & 0.0 & 1.0 & 0.0\\\\0.0 & 1.0 & 0.0 & 0.0\\\\1.0 & 0.0 & 0.0 & 0.0\\\\\\end{array}\\right)\\end{equation*}"
      ],
      "text/plain": [
       "Quantum object: dims = [[2, 2], [2, 2]], shape = (4, 4), type = oper, isherm = True\n",
       "Qobj data =\n",
       "[[0. 0. 0. 1.]\n",
       " [0. 0. 1. 0.]\n",
       " [0. 1. 0. 0.]\n",
       " [1. 0. 0. 0.]]"
      ]
     },
     "execution_count": 176,
     "metadata": {},
     "output_type": "execute_result"
    }
   ],
   "source": [
    "T"
   ]
  },
  {
   "cell_type": "code",
   "execution_count": 177,
   "metadata": {
    "ExecuteTime": {
     "end_time": "2019-01-31T03:42:56.950583Z",
     "start_time": "2019-01-31T03:42:56.886947Z"
    }
   },
   "outputs": [
    {
     "data": {
      "text/latex": [
       "Quantum object: dims = [[2, 2], [2, 2]], shape = (4, 4), type = oper, isherm = False\\begin{equation*}\\left(\\begin{array}{*{11}c}0.458 & (0.064-5.532\\times10^{-04}j) & (0.064+5.532\\times10^{-04}j) & 0.542\\\\(-0.064+1.788\\times10^{-04}j) & (-0.030-0.002j) & (-0.053-0.002j) & (0.064-1.788\\times10^{-04}j)\\\\(-0.064-1.788\\times10^{-04}j) & (-0.053+0.002j) & (-0.030+0.002j) & (0.064+1.788\\times10^{-04}j)\\\\0.542 & (-0.064+5.532\\times10^{-04}j) & (-0.064-5.532\\times10^{-04}j) & 0.458\\\\\\end{array}\\right)\\end{equation*}"
      ],
      "text/plain": [
       "Quantum object: dims = [[2, 2], [2, 2]], shape = (4, 4), type = oper, isherm = False\n",
       "Qobj data =\n",
       "[[ 0.45849233+0.j          0.06352188-0.00055322j  0.06352188+0.00055322j\n",
       "   0.54150767+0.j        ]\n",
       " [-0.06363213+0.00017884j -0.02989221-0.00176813j -0.05292961-0.0020041j\n",
       "   0.06363213-0.00017884j]\n",
       " [-0.06363213-0.00017884j -0.05292961+0.0020041j  -0.02989221+0.00176813j\n",
       "   0.06363213+0.00017884j]\n",
       " [ 0.54150767+0.j         -0.06352188+0.00055322j -0.06352188-0.00055322j\n",
       "   0.45849233+0.j        ]]"
      ]
     },
     "execution_count": 177,
     "metadata": {},
     "output_type": "execute_result"
    }
   ],
   "source": [
    "L_full_maker(xi_opt, dt)"
   ]
  },
  {
   "cell_type": "code",
   "execution_count": 178,
   "metadata": {
    "ExecuteTime": {
     "end_time": "2019-01-31T03:42:57.239958Z",
     "start_time": "2019-01-31T03:42:56.953108Z"
    }
   },
   "outputs": [
    {
     "data": {
      "text/plain": [
       "(<Figure size 576x432 with 2 Axes>,\n",
       " <matplotlib.axes._subplots.AxesSubplot at 0x1a2387c080>)"
      ]
     },
     "execution_count": 178,
     "metadata": {},
     "output_type": "execute_result"
    },
    {
     "data": {
      "image/png": "[encoded data removed]",
      "text/plain": [
       "<Figure size 576x432 with 2 Axes>"
      ]
     },
     "metadata": {},
     "output_type": "display_data"
    }
   ],
   "source": [
    "hinton(L_full_maker(xi_opt, dt))"
   ]
  },
  {
   "cell_type": "markdown",
   "metadata": {},
   "source": [
    "### Try2"
   ]
  },
  {
   "cell_type": "code",
   "execution_count": 179,
   "metadata": {
    "ExecuteTime": {
     "end_time": "2019-01-31T03:42:57.245119Z",
     "start_time": "2019-01-31T03:42:57.241845Z"
    }
   },
   "outputs": [],
   "source": [
    "total_time = 3*pi/omega_1\n",
    "epsilon = 10**(-6)\n",
    "max_iter = 100#10**4#1000#100#50#20\n",
    "time_steps = 200\n",
    "dt = total_time/time_steps"
   ]
  },
  {
   "cell_type": "code",
   "execution_count": 180,
   "metadata": {
    "ExecuteTime": {
     "end_time": "2019-01-31T03:45:03.620283Z",
     "start_time": "2019-01-31T03:42:57.247359Z"
    }
   },
   "outputs": [
    {
     "data": {
      "text/plain": [
       "array([3.19541626e+01+0.j, 1.79882345e+02+0.j, 5.18344505e+02+0.j,\n",
       "       6.81949600e+02+0.j, 5.77987335e+02+0.j, 5.12877852e+02+0.j,\n",
       "       7.83418724e+02+0.j, 9.63900338e+02+0.j, 3.51150366e+02+0.j,\n",
       "       8.22079027e+02+0.j, 1.10161050e-01+0.j, 1.75657897e+02+0.j,\n",
       "       1.63365268e+02+0.j, 9.71162009e+01+0.j, 6.21871551e+00+0.j,\n",
       "       1.74438601e+01+0.j, 6.53094653e+02+0.j, 6.72290450e+02+0.j,\n",
       "       5.44567526e+02+0.j, 8.17896893e+02+0.j, 9.97448926e+02+0.j,\n",
       "       1.45873394e+00+0.j, 9.18461576e+02+0.j, 3.87575089e+02+0.j,\n",
       "       6.30105653e+02+0.j, 8.30438981e+02+0.j, 4.94294323e+02+0.j,\n",
       "       3.36328930e+02+0.j, 2.31625363e+02+0.j, 3.96915430e+02+0.j,\n",
       "       2.49570092e+02+0.j, 1.73884194e+02+0.j, 9.49600192e+02+0.j,\n",
       "       9.70697652e+02+0.j, 2.84651141e+02+0.j, 2.70328489e+01+0.j,\n",
       "       6.98857845e+01+0.j, 5.93313689e+02+0.j, 2.44767186e+01+0.j,\n",
       "       7.72234186e+02+0.j, 3.32272149e+01+0.j, 3.58435048e+02+0.j,\n",
       "       6.15251995e+02+0.j, 3.90066512e+02+0.j, 4.33494394e+02+0.j,\n",
       "       4.64239110e+02+0.j, 9.95813249e+02+0.j, 8.38860380e+02+0.j,\n",
       "       5.17499472e+02+0.j, 6.00316411e+02+0.j, 2.44042923e+02+0.j,\n",
       "       1.34561792e+02+0.j, 1.37786076e+02+0.j, 9.65385736e+02+0.j,\n",
       "       8.33820171e+02+0.j, 9.61959699e+02+0.j, 9.95390016e+02+0.j,\n",
       "       9.45528748e+02+0.j, 9.33038840e+02+0.j, 8.46331902e+02+0.j,\n",
       "       8.65428107e+02+0.j, 6.48208312e+02+0.j, 2.92022556e+01+0.j,\n",
       "       7.40074944e+02+0.j, 8.85765805e+02+0.j, 5.76307288e+02+0.j,\n",
       "       4.58928625e+02+0.j, 6.88164066e+02+0.j, 6.61501217e+02+0.j,\n",
       "       1.38484272e+02+0.j, 8.65956931e+02+0.j, 6.77553694e+02+0.j,\n",
       "       9.23770253e+02+0.j, 5.58610924e+02+0.j, 2.41484987e+02+0.j,\n",
       "       5.52317035e+02+0.j, 7.08347938e+02+0.j, 1.68370595e+01+0.j,\n",
       "       1.14278762e+02+0.j, 5.83944080e+02+0.j, 8.55519014e+02+0.j,\n",
       "       5.59606601e+02+0.j, 6.37531821e+02+0.j, 8.88327500e+02+0.j,\n",
       "       6.17018227e+02+0.j, 3.27193009e+02+0.j, 1.76029126e+02+0.j,\n",
       "       5.20021409e+01+0.j, 2.04177918e+01+0.j, 8.86513803e+02+0.j,\n",
       "       1.81686974e+02+0.j, 7.81384678e+02+0.j, 9.37690143e+02+0.j,\n",
       "       8.21186960e+02+0.j, 2.77251024e+02+0.j, 3.40455958e+02+0.j,\n",
       "       6.49218717e+02+0.j, 1.11799746e+02+0.j, 1.48320552e+02+0.j,\n",
       "       5.36814497e+02+0.j, 6.15030529e+02+0.j, 3.17764441e+02+0.j,\n",
       "       6.58874734e+02+0.j, 7.03359771e+02+0.j, 6.46195270e+02+0.j,\n",
       "       9.98858803e+02+0.j, 7.84983435e+02+0.j, 5.18950203e+02+0.j,\n",
       "       4.87427691e+02+0.j, 9.01161282e+02+0.j, 5.16528632e+02+0.j,\n",
       "       7.67167592e+02+0.j, 3.39070434e+02+0.j, 6.07350000e+02+0.j,\n",
       "       8.05631657e+02+0.j, 7.99950585e+02+0.j, 9.04270869e+02+0.j,\n",
       "       6.54229622e+02+0.j, 3.80599354e+00+0.j, 2.73642129e+02+0.j,\n",
       "       6.94789959e+02+0.j, 9.46496661e+02+0.j, 9.83303577e+02+0.j,\n",
       "       9.58099288e+02+0.j, 9.01821964e+02+0.j, 8.37062152e+02+0.j,\n",
       "       3.99531035e+02+0.j, 9.78597455e+02+0.j, 5.70368650e+02+0.j,\n",
       "       3.48098325e+02+0.j, 7.88581411e+02+0.j, 6.93801951e+02+0.j,\n",
       "       6.96951483e+02+0.j, 2.13581015e+02+0.j, 7.61760195e+02+0.j,\n",
       "       3.48598600e+02+0.j, 8.54332073e+02+0.j, 1.72209044e+02+0.j,\n",
       "       4.57079637e+02+0.j, 8.02568969e+02+0.j, 9.02620514e+02+0.j,\n",
       "       6.78038549e+01+0.j, 1.84803394e+02+0.j, 1.48127488e+02+0.j,\n",
       "       5.96732342e+02+0.j, 3.41553641e+02+0.j, 9.72169741e+02+0.j,\n",
       "       5.50332484e+02+0.j, 1.98387914e+02+0.j, 6.32385303e+02+0.j,\n",
       "       1.91244101e+02+0.j, 3.52025338e+02+0.j, 7.62233798e+02+0.j,\n",
       "       3.14750522e+02+0.j, 7.27034849e+02+0.j, 9.42129666e+02+0.j,\n",
       "       9.99055160e+02+0.j, 2.80572568e+02+0.j, 7.42650015e+02+0.j,\n",
       "       1.78263776e+02+0.j, 6.07981534e+02+0.j, 7.48407471e+02+0.j,\n",
       "       8.08201449e+02+0.j, 6.14077752e+02+0.j, 7.10091535e+02+0.j,\n",
       "       2.03723961e+02+0.j, 8.96168341e+02+0.j, 9.83373206e+02+0.j,\n",
       "       9.74325825e+02+0.j, 9.19403675e+02+0.j, 2.35612433e+01+0.j,\n",
       "       2.14902965e+02+0.j, 2.90594504e+02+0.j, 5.29367434e+02+0.j,\n",
       "       5.50110390e+02+0.j, 7.45461904e+02+0.j, 1.90490662e+02+0.j,\n",
       "       7.96096840e+02+0.j, 4.15147982e+02+0.j, 7.69375398e+02+0.j,\n",
       "       1.46303540e+02+0.j, 9.16475736e+02+0.j, 3.69942002e+02+0.j,\n",
       "       2.12757326e+02+0.j, 8.28889558e+02+0.j, 5.23405079e+02+0.j,\n",
       "       7.37254539e+02+0.j, 9.68066536e+02+0.j, 8.96294123e+02+0.j,\n",
       "       4.64456206e+02+0.j, 7.58117747e+02+0.j, 1.39068304e+02+0.j,\n",
       "       9.16285458e+02+0.j, 7.78514119e+02+0.j, 3.25439810e+02+0.j,\n",
       "       8.23015879e+02+0.j, 2.44843157e+01+0.j, 8.71339033e+01+0.j,\n",
       "       6.36380021e+02+0.j, 4.91615406e+02+0.j])"
      ]
     },
     "execution_count": 180,
     "metadata": {},
     "output_type": "execute_result"
    }
   ],
   "source": [
    "xi_opt = terminator(max_iter, time_steps, total_time, epsilon)\n",
    "xi_opt"
   ]
  },
  {
   "cell_type": "code",
   "execution_count": 181,
   "metadata": {
    "ExecuteTime": {
     "end_time": "2019-01-31T03:45:04.000605Z",
     "start_time": "2019-01-31T03:45:03.623156Z"
    }
   },
   "outputs": [
    {
     "data": {
      "text/plain": [
       "-3.08713387614768"
      ]
     },
     "execution_count": 181,
     "metadata": {},
     "output_type": "execute_result"
    }
   ],
   "source": [
    "F(xi_opt, dt)"
   ]
  },
  {
   "cell_type": "code",
   "execution_count": 182,
   "metadata": {
    "ExecuteTime": {
     "end_time": "2019-01-31T03:45:04.007058Z",
     "start_time": "2019-01-31T03:45:04.002968Z"
    }
   },
   "outputs": [
    {
     "data": {
      "text/plain": [
       "100"
      ]
     },
     "execution_count": 182,
     "metadata": {},
     "output_type": "execute_result"
    }
   ],
   "source": [
    "max_iter"
   ]
  },
  {
   "cell_type": "code",
   "execution_count": 183,
   "metadata": {
    "ExecuteTime": {
     "end_time": "2019-01-31T03:45:04.016814Z",
     "start_time": "2019-01-31T03:45:04.009178Z"
    }
   },
   "outputs": [
    {
     "data": {
      "text/latex": [
       "Quantum object: dims = [[2, 2], [2, 2]], shape = (4, 4), type = oper, isherm = True\\begin{equation*}\\left(\\begin{array}{*{11}c}0.0 & 0.0 & 0.0 & 1.0\\\\0.0 & 0.0 & 1.0 & 0.0\\\\0.0 & 1.0 & 0.0 & 0.0\\\\1.0 & 0.0 & 0.0 & 0.0\\\\\\end{array}\\right)\\end{equation*}"
      ],
      "text/plain": [
       "Quantum object: dims = [[2, 2], [2, 2]], shape = (4, 4), type = oper, isherm = True\n",
       "Qobj data =\n",
       "[[0. 0. 0. 1.]\n",
       " [0. 0. 1. 0.]\n",
       " [0. 1. 0. 0.]\n",
       " [1. 0. 0. 0.]]"
      ]
     },
     "execution_count": 183,
     "metadata": {},
     "output_type": "execute_result"
    }
   ],
   "source": [
    "T"
   ]
  },
  {
   "cell_type": "code",
   "execution_count": 184,
   "metadata": {
    "ExecuteTime": {
     "end_time": "2019-01-31T03:45:04.359593Z",
     "start_time": "2019-01-31T03:45:04.018797Z"
    }
   },
   "outputs": [
    {
     "data": {
      "text/latex": [
       "Quantum object: dims = [[2, 2], [2, 2]], shape = (4, 4), type = oper, isherm = False\\begin{equation*}\\left(\\begin{array}{*{11}c}0.557 & (0.048-0.001j) & (0.048+0.001j) & 0.443\\\\(-0.045-0.006j) & (0.067+0.023j) & (0.047-0.011j) & (0.045+0.006j)\\\\(-0.045+0.006j) & (0.047+0.011j) & (0.067-0.023j) & (0.045-0.006j)\\\\0.443 & (-0.048+0.001j) & (-0.048-0.001j) & 0.557\\\\\\end{array}\\right)\\end{equation*}"
      ],
      "text/plain": [
       "Quantum object: dims = [[2, 2], [2, 2]], shape = (4, 4), type = oper, isherm = False\n",
       "Qobj data =\n",
       "[[ 0.55715523+0.j          0.04808016-0.00149918j  0.04808016+0.00149918j\n",
       "   0.44284477+0.j        ]\n",
       " [-0.04537223-0.0055094j   0.06742228+0.02267533j  0.04672688-0.01129489j\n",
       "   0.04537223+0.0055094j ]\n",
       " [-0.04537223+0.0055094j   0.04672688+0.01129489j  0.06742228-0.02267533j\n",
       "   0.04537223-0.0055094j ]\n",
       " [ 0.44284477+0.j         -0.04808016+0.00149918j -0.04808016-0.00149918j\n",
       "   0.55715523+0.j        ]]"
      ]
     },
     "execution_count": 184,
     "metadata": {},
     "output_type": "execute_result"
    }
   ],
   "source": [
    "L_full_maker(xi_opt, dt)"
   ]
  },
  {
   "cell_type": "code",
   "execution_count": 185,
   "metadata": {
    "ExecuteTime": {
     "end_time": "2019-01-31T03:45:04.935440Z",
     "start_time": "2019-01-31T03:45:04.361610Z"
    }
   },
   "outputs": [
    {
     "data": {
      "text/plain": [
       "(<Figure size 576x432 with 2 Axes>,\n",
       " <matplotlib.axes._subplots.AxesSubplot at 0x1a23861c18>)"
      ]
     },
     "execution_count": 185,
     "metadata": {},
     "output_type": "execute_result"
    },
    {
     "data": {
      "image/png": "[encoded data removed]",
      "text/plain": [
       "<Figure size 576x432 with 2 Axes>"
      ]
     },
     "metadata": {},
     "output_type": "display_data"
    }
   ],
   "source": [
    "hinton(L_full_maker(xi_opt, dt))"
   ]
  },
  {
   "cell_type": "markdown",
   "metadata": {},
   "source": [
    "### Try2"
   ]
  },
  {
   "cell_type": "code",
   "execution_count": 186,
   "metadata": {
    "ExecuteTime": {
     "end_time": "2019-01-31T03:45:04.941205Z",
     "start_time": "2019-01-31T03:45:04.937868Z"
    }
   },
   "outputs": [],
   "source": [
    "total_time = 3*pi/omega_1\n",
    "epsilon = (0.1*2*pi)/(total_time)#10**(-6)\n",
    "max_iter = 10#10**4#1000#100#50#20\n",
    "time_steps = 20\n",
    "dt = total_time/time_steps"
   ]
  },
  {
   "cell_type": "code",
   "execution_count": 187,
   "metadata": {
    "ExecuteTime": {
     "end_time": "2019-01-31T03:45:06.287922Z",
     "start_time": "2019-01-31T03:45:04.943745Z"
    }
   },
   "outputs": [
    {
     "data": {
      "text/plain": [
       "array([146.64691443+0.j, 749.78105269+0.j, 889.2844675 +0.j,\n",
       "       558.74868247+0.j, 142.65208002+0.j, 783.26182885+0.j,\n",
       "       255.59747005+0.j, 551.33485118+0.j, 220.74250203+0.j,\n",
       "       885.37234198+0.j, 831.7905435 +0.j, 451.62602883+0.j,\n",
       "       975.73768249+0.j, 723.78784668+0.j, 724.42037836+0.j,\n",
       "       525.14088973+0.j, 196.835981  +0.j, 929.02565631+0.j,\n",
       "       753.85742941+0.j, 608.14419261+0.j])"
      ]
     },
     "execution_count": 187,
     "metadata": {},
     "output_type": "execute_result"
    }
   ],
   "source": [
    "xi_opt = terminator(max_iter, time_steps, total_time, epsilon)\n",
    "xi_opt"
   ]
  },
  {
   "cell_type": "code",
   "execution_count": 188,
   "metadata": {
    "ExecuteTime": {
     "end_time": "2019-01-31T03:45:06.332738Z",
     "start_time": "2019-01-31T03:45:06.290348Z"
    }
   },
   "outputs": [
    {
     "data": {
      "text/plain": [
       "-3.092700262563744"
      ]
     },
     "execution_count": 188,
     "metadata": {},
     "output_type": "execute_result"
    }
   ],
   "source": [
    "F(xi_opt, dt)"
   ]
  },
  {
   "cell_type": "code",
   "execution_count": 189,
   "metadata": {
    "ExecuteTime": {
     "end_time": "2019-01-31T03:45:06.339687Z",
     "start_time": "2019-01-31T03:45:06.334913Z"
    }
   },
   "outputs": [
    {
     "data": {
      "text/plain": [
       "10"
      ]
     },
     "execution_count": 189,
     "metadata": {},
     "output_type": "execute_result"
    }
   ],
   "source": [
    "max_iter"
   ]
  },
  {
   "cell_type": "code",
   "execution_count": 190,
   "metadata": {
    "ExecuteTime": {
     "end_time": "2019-01-31T03:45:06.347974Z",
     "start_time": "2019-01-31T03:45:06.341981Z"
    }
   },
   "outputs": [
    {
     "data": {
      "text/latex": [
       "Quantum object: dims = [[2, 2], [2, 2]], shape = (4, 4), type = oper, isherm = True\\begin{equation*}\\left(\\begin{array}{*{11}c}0.0 & 0.0 & 0.0 & 1.0\\\\0.0 & 0.0 & 1.0 & 0.0\\\\0.0 & 1.0 & 0.0 & 0.0\\\\1.0 & 0.0 & 0.0 & 0.0\\\\\\end{array}\\right)\\end{equation*}"
      ],
      "text/plain": [
       "Quantum object: dims = [[2, 2], [2, 2]], shape = (4, 4), type = oper, isherm = True\n",
       "Qobj data =\n",
       "[[0. 0. 0. 1.]\n",
       " [0. 0. 1. 0.]\n",
       " [0. 1. 0. 0.]\n",
       " [1. 0. 0. 0.]]"
      ]
     },
     "execution_count": 190,
     "metadata": {},
     "output_type": "execute_result"
    }
   ],
   "source": [
    "T"
   ]
  },
  {
   "cell_type": "code",
   "execution_count": 191,
   "metadata": {
    "ExecuteTime": {
     "end_time": "2019-01-31T03:45:06.393220Z",
     "start_time": "2019-01-31T03:45:06.350497Z"
    }
   },
   "outputs": [
    {
     "data": {
      "text/latex": [
       "Quantum object: dims = [[2, 2], [2, 2]], shape = (4, 4), type = oper, isherm = False\\begin{equation*}\\left(\\begin{array}{*{11}c}0.547 & (-0.060+6.379\\times10^{-05}j) & (-0.060-6.379\\times10^{-05}j) & 0.453\\\\(0.060-2.277\\times10^{-04}j) & (0.058-1.555\\times10^{-04}j) & (0.035+1.935\\times10^{-04}j) & (-0.060+2.277\\times10^{-04}j)\\\\(0.060+2.277\\times10^{-04}j) & (0.035-1.935\\times10^{-04}j) & (0.058+1.555\\times10^{-04}j) & (-0.060-2.277\\times10^{-04}j)\\\\0.453 & (0.060-6.379\\times10^{-05}j) & (0.060+6.379\\times10^{-05}j) & 0.547\\\\\\end{array}\\right)\\end{equation*}"
      ],
      "text/plain": [
       "Quantum object: dims = [[2, 2], [2, 2]], shape = (4, 4), type = oper, isherm = False\n",
       "Qobj data =\n",
       "[[ 0.54690923+0.00000000e+00j -0.05967857+6.37856630e-05j\n",
       "  -0.05967857-6.37856630e-05j  0.45309077+0.00000000e+00j]\n",
       " [ 0.05968888-2.27716642e-04j  0.0584485 -1.55517210e-04j\n",
       "   0.03539348+1.93499291e-04j -0.05968888+2.27716642e-04j]\n",
       " [ 0.05968888+2.27716642e-04j  0.03539348-1.93499291e-04j\n",
       "   0.0584485 +1.55517210e-04j -0.05968888-2.27716642e-04j]\n",
       " [ 0.45309077+0.00000000e+00j  0.05967857-6.37856630e-05j\n",
       "   0.05967857+6.37856630e-05j  0.54690923+0.00000000e+00j]]"
      ]
     },
     "execution_count": 191,
     "metadata": {},
     "output_type": "execute_result"
    }
   ],
   "source": [
    "L_full_maker(xi_opt, dt)"
   ]
  },
  {
   "cell_type": "code",
   "execution_count": 192,
   "metadata": {
    "ExecuteTime": {
     "end_time": "2019-01-31T03:45:06.670998Z",
     "start_time": "2019-01-31T03:45:06.399544Z"
    }
   },
   "outputs": [
    {
     "data": {
      "text/plain": [
       "(<Figure size 576x432 with 2 Axes>,\n",
       " <matplotlib.axes._subplots.AxesSubplot at 0x1a235ecf98>)"
      ]
     },
     "execution_count": 192,
     "metadata": {},
     "output_type": "execute_result"
    },
    {
     "data": {
      "image/png": "[encoded data removed]",
      "text/plain": [
       "<Figure size 576x432 with 2 Axes>"
      ]
     },
     "metadata": {},
     "output_type": "display_data"
    }
   ],
   "source": [
    "hinton(L_full_maker(xi_opt, dt))"
   ]
  },
  {
   "cell_type": "markdown",
   "metadata": {},
   "source": [
    "### Try2"
   ]
  },
  {
   "cell_type": "code",
   "execution_count": 193,
   "metadata": {
    "ExecuteTime": {
     "end_time": "2019-01-31T03:45:06.676320Z",
     "start_time": "2019-01-31T03:45:06.672844Z"
    }
   },
   "outputs": [],
   "source": [
    "total_time = 3*pi/omega_1\n",
    "epsilon = (0.1*2*pi)/(total_time)#10**(-6)\n",
    "max_iter = 500#10#10**4#1000#100#50#20\n",
    "time_steps = 20\n",
    "dt = total_time/time_steps"
   ]
  },
  {
   "cell_type": "code",
   "execution_count": 194,
   "metadata": {
    "ExecuteTime": {
     "end_time": "2019-01-31T03:45:08.078790Z",
     "start_time": "2019-01-31T03:45:06.678556Z"
    }
   },
   "outputs": [
    {
     "data": {
      "text/plain": [
       "array([272.1332443 +0.j,  62.49435768+0.j, 478.31559503+0.j,\n",
       "       642.3570882 +0.j, 247.40237979+0.j, 858.88589277+0.j,\n",
       "       699.57879076+0.j, 738.46010145+0.j, 458.97876102+0.j,\n",
       "       690.72686689+0.j, 609.13766172+0.j, 913.046857  +0.j,\n",
       "       842.45228207+0.j,  75.29612458+0.j, 518.10094757+0.j,\n",
       "       609.6485885 +0.j, 380.96604687+0.j,  18.42243984+0.j,\n",
       "       179.91927543+0.j, 531.91130855+0.j])"
      ]
     },
     "execution_count": 194,
     "metadata": {},
     "output_type": "execute_result"
    }
   ],
   "source": [
    "xi_opt = terminator(max_iter, time_steps, total_time, epsilon)\n",
    "xi_opt"
   ]
  },
  {
   "cell_type": "code",
   "execution_count": 195,
   "metadata": {
    "ExecuteTime": {
     "end_time": "2019-01-31T03:45:08.122960Z",
     "start_time": "2019-01-31T03:45:08.081155Z"
    }
   },
   "outputs": [
    {
     "data": {
      "text/plain": [
       "-3.0936564131157467"
      ]
     },
     "execution_count": 195,
     "metadata": {},
     "output_type": "execute_result"
    }
   ],
   "source": [
    "F(xi_opt, dt)"
   ]
  },
  {
   "cell_type": "code",
   "execution_count": 196,
   "metadata": {
    "ExecuteTime": {
     "end_time": "2019-01-31T03:45:08.129807Z",
     "start_time": "2019-01-31T03:45:08.125209Z"
    }
   },
   "outputs": [
    {
     "data": {
      "text/plain": [
       "500"
      ]
     },
     "execution_count": 196,
     "metadata": {},
     "output_type": "execute_result"
    }
   ],
   "source": [
    "max_iter"
   ]
  },
  {
   "cell_type": "code",
   "execution_count": 197,
   "metadata": {
    "ExecuteTime": {
     "end_time": "2019-01-31T03:45:08.139853Z",
     "start_time": "2019-01-31T03:45:08.133332Z"
    }
   },
   "outputs": [
    {
     "data": {
      "text/latex": [
       "Quantum object: dims = [[2, 2], [2, 2]], shape = (4, 4), type = oper, isherm = True\\begin{equation*}\\left(\\begin{array}{*{11}c}0.0 & 0.0 & 0.0 & 1.0\\\\0.0 & 0.0 & 1.0 & 0.0\\\\0.0 & 1.0 & 0.0 & 0.0\\\\1.0 & 0.0 & 0.0 & 0.0\\\\\\end{array}\\right)\\end{equation*}"
      ],
      "text/plain": [
       "Quantum object: dims = [[2, 2], [2, 2]], shape = (4, 4), type = oper, isherm = True\n",
       "Qobj data =\n",
       "[[0. 0. 0. 1.]\n",
       " [0. 0. 1. 0.]\n",
       " [0. 1. 0. 0.]\n",
       " [1. 0. 0. 0.]]"
      ]
     },
     "execution_count": 197,
     "metadata": {},
     "output_type": "execute_result"
    }
   ],
   "source": [
    "T"
   ]
  },
  {
   "cell_type": "code",
   "execution_count": 198,
   "metadata": {
    "ExecuteTime": {
     "end_time": "2019-01-31T03:45:08.180964Z",
     "start_time": "2019-01-31T03:45:08.141977Z"
    }
   },
   "outputs": [],
   "source": [
    "myU = L_full_maker(xi_opt, dt)"
   ]
  },
  {
   "cell_type": "code",
   "execution_count": 199,
   "metadata": {
    "ExecuteTime": {
     "end_time": "2019-01-31T03:45:08.189380Z",
     "start_time": "2019-01-31T03:45:08.183348Z"
    }
   },
   "outputs": [
    {
     "data": {
      "text/latex": [
       "Quantum object: dims = [[2, 2], [2, 2]], shape = (4, 4), type = oper, isherm = False\\begin{equation*}\\left(\\begin{array}{*{11}c}0.738 & (-0.009+0.002j) & (-0.009-0.002j) & 1.0\\\\(0.010-0.009j) & (-0.111-0.006j) & (-0.151-0.006j) & (-0.010+0.009j)\\\\(0.010+0.009j) & (-0.151+0.006j) & (-0.111+0.006j) & (-0.010-0.009j)\\\\1.0 & (0.009-0.002j) & (0.009+0.002j) & 0.738\\\\\\end{array}\\right)\\end{equation*}"
      ],
      "text/plain": [
       "Quantum object: dims = [[2, 2], [2, 2]], shape = (4, 4), type = oper, isherm = False\n",
       "Qobj data =\n",
       "[[ 0.73806034+0.j         -0.00925049+0.00168568j -0.00925049-0.00168568j\n",
       "   1.        +0.j        ]\n",
       " [ 0.00977569-0.00900906j -0.1113746 -0.00635185j -0.15145284-0.00637646j\n",
       "  -0.00977569+0.00900906j]\n",
       " [ 0.00977569+0.00900906j -0.15145284+0.00637646j -0.1113746 +0.00635185j\n",
       "  -0.00977569-0.00900906j]\n",
       " [ 1.        +0.j          0.00925049-0.00168568j  0.00925049+0.00168568j\n",
       "   0.73806034+0.j        ]]"
      ]
     },
     "execution_count": 199,
     "metadata": {},
     "output_type": "execute_result"
    }
   ],
   "source": [
    "myU/myU[0, 3]"
   ]
  },
  {
   "cell_type": "code",
   "execution_count": 200,
   "metadata": {
    "ExecuteTime": {
     "end_time": "2019-01-31T03:45:08.434753Z",
     "start_time": "2019-01-31T03:45:08.191375Z"
    }
   },
   "outputs": [
    {
     "data": {
      "text/plain": [
       "(<Figure size 576x432 with 2 Axes>,\n",
       " <matplotlib.axes._subplots.AxesSubplot at 0x1a23c55240>)"
      ]
     },
     "execution_count": 200,
     "metadata": {},
     "output_type": "execute_result"
    },
    {
     "data": {
      "image/png": "[encoded data removed]",
      "text/plain": [
       "<Figure size 576x432 with 2 Axes>"
      ]
     },
     "metadata": {},
     "output_type": "display_data"
    }
   ],
   "source": [
    "hinton(myU)"
   ]
  },
  {
   "cell_type": "code",
   "execution_count": 201,
   "metadata": {
    "ExecuteTime": {
     "end_time": "2019-01-31T03:45:08.772590Z",
     "start_time": "2019-01-31T03:45:08.436674Z"
    }
   },
   "outputs": [
    {
     "data": {
      "text/plain": [
       "(<Figure size 576x432 with 2 Axes>,\n",
       " <matplotlib.axes._subplots.AxesSubplot at 0x1a23e56b70>)"
      ]
     },
     "execution_count": 201,
     "metadata": {},
     "output_type": "execute_result"
    },
    {
     "data": {
      "image/png": "[encoded data removed]",
      "text/plain": [
       "<Figure size 576x432 with 2 Axes>"
      ]
     },
     "metadata": {},
     "output_type": "display_data"
    }
   ],
   "source": [
    "hinton(L_full_maker(xi_opt, dt))"
   ]
  },
  {
   "cell_type": "markdown",
   "metadata": {},
   "source": [
    "### Try2"
   ]
  },
  {
   "cell_type": "code",
   "execution_count": 202,
   "metadata": {
    "ExecuteTime": {
     "end_time": "2019-01-31T03:45:08.777491Z",
     "start_time": "2019-01-31T03:45:08.774562Z"
    }
   },
   "outputs": [],
   "source": [
    "total_time = 3*pi/omega_1\n",
    "epsilon = (0.1*2*pi)/(total_time)#10**(-6)\n",
    "max_iter = 500#10#10**4#1000#100#50#20\n",
    "time_steps = 500\n",
    "dt = total_time/time_steps"
   ]
  },
  {
   "cell_type": "code",
   "execution_count": 203,
   "metadata": {
    "ExecuteTime": {
     "end_time": "2019-01-31T03:57:58.410528Z",
     "start_time": "2019-01-31T03:45:08.779893Z"
    }
   },
   "outputs": [],
   "source": [
    "xi_opt = terminator(max_iter, time_steps, total_time, epsilon)\n",
    "#xi_opt"
   ]
  },
  {
   "cell_type": "code",
   "execution_count": 204,
   "metadata": {
    "ExecuteTime": {
     "end_time": "2019-01-31T03:57:59.269761Z",
     "start_time": "2019-01-31T03:57:58.413345Z"
    }
   },
   "outputs": [
    {
     "data": {
      "text/plain": [
       "-3.0955282624024227"
      ]
     },
     "execution_count": 204,
     "metadata": {},
     "output_type": "execute_result"
    }
   ],
   "source": [
    "F(xi_opt, dt)"
   ]
  },
  {
   "cell_type": "code",
   "execution_count": 205,
   "metadata": {
    "ExecuteTime": {
     "end_time": "2019-01-31T03:57:59.276102Z",
     "start_time": "2019-01-31T03:57:59.272052Z"
    }
   },
   "outputs": [
    {
     "data": {
      "text/plain": [
       "500"
      ]
     },
     "execution_count": 205,
     "metadata": {},
     "output_type": "execute_result"
    }
   ],
   "source": [
    "max_iter"
   ]
  },
  {
   "cell_type": "code",
   "execution_count": 206,
   "metadata": {
    "ExecuteTime": {
     "end_time": "2019-01-31T03:57:59.285152Z",
     "start_time": "2019-01-31T03:57:59.278775Z"
    }
   },
   "outputs": [
    {
     "data": {
      "text/latex": [
       "Quantum object: dims = [[2, 2], [2, 2]], shape = (4, 4), type = oper, isherm = True\\begin{equation*}\\left(\\begin{array}{*{11}c}0.0 & 0.0 & 0.0 & 1.0\\\\0.0 & 0.0 & 1.0 & 0.0\\\\0.0 & 1.0 & 0.0 & 0.0\\\\1.0 & 0.0 & 0.0 & 0.0\\\\\\end{array}\\right)\\end{equation*}"
      ],
      "text/plain": [
       "Quantum object: dims = [[2, 2], [2, 2]], shape = (4, 4), type = oper, isherm = True\n",
       "Qobj data =\n",
       "[[0. 0. 0. 1.]\n",
       " [0. 0. 1. 0.]\n",
       " [0. 1. 0. 0.]\n",
       " [1. 0. 0. 0.]]"
      ]
     },
     "execution_count": 206,
     "metadata": {},
     "output_type": "execute_result"
    }
   ],
   "source": [
    "T"
   ]
  },
  {
   "cell_type": "code",
   "execution_count": 207,
   "metadata": {
    "ExecuteTime": {
     "end_time": "2019-01-31T03:58:00.156777Z",
     "start_time": "2019-01-31T03:57:59.287673Z"
    }
   },
   "outputs": [],
   "source": [
    "myU = L_full_maker(xi_opt, dt)"
   ]
  },
  {
   "cell_type": "code",
   "execution_count": 208,
   "metadata": {
    "ExecuteTime": {
     "end_time": "2019-01-31T03:58:00.166563Z",
     "start_time": "2019-01-31T03:58:00.158974Z"
    }
   },
   "outputs": [
    {
     "data": {
      "text/latex": [
       "Quantum object: dims = [[2, 2], [2, 2]], shape = (4, 4), type = oper, isherm = False\\begin{equation*}\\left(\\begin{array}{*{11}c}1.031 & (-0.153+0.009j) & (-0.153-0.009j) & 1.0\\\\(0.152+0.008j) & (0.036+0.008j) & (-0.010-0.017j) & (-0.152-0.008j)\\\\(0.152-0.008j) & (-0.010+0.017j) & (0.036-0.008j) & (-0.152+0.008j)\\\\1.0 & (0.153-0.009j) & (0.153+0.009j) & 1.031\\\\\\end{array}\\right)\\end{equation*}"
      ],
      "text/plain": [
       "Quantum object: dims = [[2, 2], [2, 2]], shape = (4, 4), type = oper, isherm = False\n",
       "Qobj data =\n",
       "[[ 1.03075523+0.j         -0.15286451+0.00891654j -0.15286451-0.00891654j\n",
       "   1.        +0.j        ]\n",
       " [ 0.15159851+0.00838859j  0.0359865 +0.00756527j -0.00967651-0.01738289j\n",
       "  -0.15159851-0.00838859j]\n",
       " [ 0.15159851-0.00838859j -0.00967651+0.01738289j  0.0359865 -0.00756527j\n",
       "  -0.15159851+0.00838859j]\n",
       " [ 1.        +0.j          0.15286451-0.00891654j  0.15286451+0.00891654j\n",
       "   1.03075523+0.j        ]]"
      ]
     },
     "execution_count": 208,
     "metadata": {},
     "output_type": "execute_result"
    }
   ],
   "source": [
    "myU/myU[0, 3]"
   ]
  },
  {
   "cell_type": "code",
   "execution_count": 209,
   "metadata": {
    "ExecuteTime": {
     "end_time": "2019-01-31T03:58:00.472644Z",
     "start_time": "2019-01-31T03:58:00.168812Z"
    }
   },
   "outputs": [
    {
     "data": {
      "text/plain": [
       "(<Figure size 576x432 with 2 Axes>,\n",
       " <matplotlib.axes._subplots.AxesSubplot at 0x1a23cf8588>)"
      ]
     },
     "execution_count": 209,
     "metadata": {},
     "output_type": "execute_result"
    },
    {
     "data": {
      "image/png": "[encoded data removed]",
      "text/plain": [
       "<Figure size 576x432 with 2 Axes>"
      ]
     },
     "metadata": {},
     "output_type": "display_data"
    }
   ],
   "source": [
    "hinton(myU)"
   ]
  },
  {
   "cell_type": "code",
   "execution_count": 210,
   "metadata": {
    "ExecuteTime": {
     "end_time": "2019-01-31T03:58:01.542956Z",
     "start_time": "2019-01-31T03:58:00.474515Z"
    }
   },
   "outputs": [
    {
     "data": {
      "text/plain": [
       "(<Figure size 576x432 with 2 Axes>,\n",
       " <matplotlib.axes._subplots.AxesSubplot at 0x1a23f8e8d0>)"
      ]
     },
     "execution_count": 210,
     "metadata": {},
     "output_type": "execute_result"
    },
    {
     "data": {
      "image/png": "[encoded data removed]",
      "text/plain": [
       "<Figure size 576x432 with 2 Axes>"
      ]
     },
     "metadata": {},
     "output_type": "display_data"
    }
   ],
   "source": [
    "hinton(L_full_maker(xi_opt, dt))"
   ]
  },
  {
   "cell_type": "code",
   "execution_count": null,
   "metadata": {},
   "outputs": [],
   "source": []
  },
  {
   "cell_type": "code",
   "execution_count": null,
   "metadata": {},
   "outputs": [],
   "source": []
  },
  {
   "cell_type": "code",
   "execution_count": null,
   "metadata": {},
   "outputs": [],
   "source": []
  }
 ],
 "metadata": {
  "kernelspec": {
   "display_name": "Python 3",
   "language": "python",
   "name": "python3"
  },
  "language_info": {
   "codemirror_mode": {
    "name": "ipython",
    "version": 3
   },
   "file_extension": ".py",
   "mimetype": "text/x-python",
   "name": "python",
   "nbconvert_exporter": "python",
   "pygments_lexer": "ipython3",
   "version": "3.6.8"
  },
  "toc": {
   "base_numbering": 1,
   "nav_menu": {},
   "number_sections": true,
   "sideBar": true,
   "skip_h1_title": false,
   "title_cell": "Table of Contents",
   "title_sidebar": "Contents",
   "toc_cell": false,
   "toc_position": {},
   "toc_section_display": true,
   "toc_window_display": true
  }
 },
 "nbformat": 4,
 "nbformat_minor": 2
}
