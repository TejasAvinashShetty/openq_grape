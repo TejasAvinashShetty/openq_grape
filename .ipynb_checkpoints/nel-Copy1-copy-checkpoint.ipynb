{
 "cells": [
  {
   "cell_type": "markdown",
   "metadata": {},
   "source": [
    "# Imports"
   ]
  },
  {
   "cell_type": "markdown",
   "metadata": {},
   "source": [
    "Need to have jate.py in your folder"
   ]
  },
  {
   "cell_type": "code",
   "execution_count": 1,
   "metadata": {
    "ExecuteTime": {
     "end_time": "2019-02-06T06:48:54.869592Z",
     "start_time": "2019-02-06T06:48:53.201245Z"
    }
   },
   "outputs": [],
   "source": [
    "%run jate.py #will import everything"
   ]
  },
  {
   "cell_type": "markdown",
   "metadata": {},
   "source": [
    "# The code"
   ]
  },
  {
   "cell_type": "markdown",
   "metadata": {},
   "source": [
    "## memory wiping"
   ]
  },
  {
   "cell_type": "code",
   "execution_count": 2,
   "metadata": {
    "ExecuteTime": {
     "end_time": "2019-02-06T06:48:54.874726Z",
     "start_time": "2019-02-06T06:48:54.871465Z"
    }
   },
   "outputs": [],
   "source": [
    "%reset_selective -f  omega_1, total_time, epsilon, max_iter, time_steps, dt"
   ]
  },
  {
   "cell_type": "code",
   "execution_count": 3,
   "metadata": {
    "ExecuteTime": {
     "end_time": "2019-02-06T06:48:55.070911Z",
     "start_time": "2019-02-06T06:48:55.067014Z"
    }
   },
   "outputs": [],
   "source": [
    "%reset_selective -f  Lin, T_s, I"
   ]
  },
  {
   "cell_type": "markdown",
   "metadata": {},
   "source": [
    "## Building parts"
   ]
  },
  {
   "cell_type": "markdown",
   "metadata": {},
   "source": [
    "### Building the things to be calculated only once"
   ]
  },
  {
   "cell_type": "code",
   "execution_count": 4,
   "metadata": {
    "ExecuteTime": {
     "end_time": "2019-02-06T06:48:58.768575Z",
     "start_time": "2019-02-06T06:48:58.757795Z"
    },
    "code_folding": []
   },
   "outputs": [],
   "source": [
    "def maker(omega_1, H_0, H_1, T_s, Lin, d=2, gamma=0.1):\n",
    "    r\"\"\"maker\n",
    "    Makes all the things that remain constant throught the program, but are \n",
    "    repeatedly used.\n",
    "    \n",
    "\n",
    "    Parameters\n",
    "    ----------\n",
    "    omega_1 : float\n",
    "              frequency corresponding to half of the difference between \n",
    "              energy levels of the qubit\n",
    "              \n",
    "    H_0     : Qobj\n",
    "              Bare Hamiltonian \n",
    "              \n",
    "    H_1     : Qobj\n",
    "              Interaction Hamiltonian \n",
    "              \n",
    "    T_s     : Qobj\n",
    "              Unitary to be implemented in the Hilbert space\n",
    "    \n",
    "    Lin     : Qobj\n",
    "              Linbladian operators\n",
    "\n",
    "    d       : int\n",
    "              Dimension of the matrix. Defaults to 2\n",
    "    \n",
    "    gamma   : float\n",
    "              Damping constantof the Linbladian\n",
    "\n",
    "    \n",
    "    Returns\n",
    "    -------\n",
    "    \n",
    "    ih0     : Qobj\n",
    "              $I\\otimes H_{0}$\n",
    "              \n",
    "    ih1     : Qobj\n",
    "              $I\\otimes H_{1}$\n",
    "\n",
    "    h0ci    : Qobj\n",
    "              $H_{0}^{*}\\otimes I $\n",
    "\n",
    "    h1ci    : Qobj\n",
    "              $H_{1}^{*}\\otimes I $\n",
    "\n",
    "    T       : Qobj\n",
    "              Target unitary transformed to the Liouville space\n",
    "\n",
    "    linbladian : Qobj\n",
    "                 The full lindbladian term as it appears on transformation to \n",
    "                 the Liouville space.\n",
    "        \n",
    "    \"\"\"\n",
    "    I = identity(d)\n",
    "    L_I = tensor(I, I)\n",
    "    ih0 = tensor(I, H_0) \n",
    "    ih1 = tensor(I, H_1) \n",
    "    h0ci = tensor(H_0.conj(), I) \n",
    "    h1ci = tensor(H_1.conj(), I)\n",
    "    x_k = ih1 - h1ci\n",
    "    term1 = tensor(Lin.trans(), Lin)\n",
    "    term2 = tensor(I, ((Lin.dag())*(Lin)))\n",
    "    term3 = tensor(((Lin.trans())*(Lin.conj())), I)\n",
    "    lindbladian = 1j*(gamma)*(term1 - 0.5*(term2 + term3))\n",
    "    T = tensor(T_s.trans(), T_s) # Transforming $T_{s}$ to liouville space\n",
    "    \n",
    "    \n",
    "    return ih0, ih1, h0ci, h1ci, x_k, lindbladian, T, L_I"
   ]
  },
  {
   "cell_type": "code",
   "execution_count": 5,
   "metadata": {
    "ExecuteTime": {
     "end_time": "2019-02-06T06:49:00.808023Z",
     "start_time": "2019-02-06T06:49:00.797020Z"
    }
   },
   "outputs": [],
   "source": [
    "omega_1 = 0.5\n",
    "H_0 = sigmaz() \n",
    "H_1 = sigmay()\n",
    "T_s = sigmax() \n",
    "Lin = sigmaz()\n",
    "ih0, ih1, h0ci, h1ci, x_k, lindbladian, T, L_I  = maker(omega_1,\n",
    "                                                  H_0, H_1, T_s, \n",
    "                                                  Lin, d=2, gamma=0.1)"
   ]
  },
  {
   "cell_type": "code",
   "execution_count": 6,
   "metadata": {
    "ExecuteTime": {
     "end_time": "2019-02-06T06:49:01.880959Z",
     "start_time": "2019-02-06T06:49:01.870090Z"
    }
   },
   "outputs": [
    {
     "data": {
      "text/latex": [
       "Quantum object: dims = [[2, 2], [2, 2]], shape = (4, 4), type = oper, isherm = True\\begin{equation*}\\left(\\begin{array}{*{11}c}1.0 & 0.0 & 0.0 & 0.0\\\\0.0 & 1.0 & 0.0 & 0.0\\\\0.0 & 0.0 & 1.0 & 0.0\\\\0.0 & 0.0 & 0.0 & 1.0\\\\\\end{array}\\right)\\end{equation*}"
      ],
      "text/plain": [
       "Quantum object: dims = [[2, 2], [2, 2]], shape = (4, 4), type = oper, isherm = True\n",
       "Qobj data =\n",
       "[[1. 0. 0. 0.]\n",
       " [0. 1. 0. 0.]\n",
       " [0. 0. 1. 0.]\n",
       " [0. 0. 0. 1.]]"
      ]
     },
     "execution_count": 6,
     "metadata": {},
     "output_type": "execute_result"
    }
   ],
   "source": [
    "L_I"
   ]
  },
  {
   "cell_type": "markdown",
   "metadata": {},
   "source": [
    "### Building $A(t)$"
   ]
  },
  {
   "cell_type": "code",
   "execution_count": 7,
   "metadata": {
    "ExecuteTime": {
     "end_time": "2019-02-06T06:49:02.528535Z",
     "start_time": "2019-02-06T06:49:02.525109Z"
    }
   },
   "outputs": [],
   "source": [
    "def A(xi):\n",
    "    r\"\"\"making $A(t)$\"\"\"\n",
    "    A = ih0 - h0ci + xi*(ih1 - h1ci) + lindbladian\n",
    "    return A"
   ]
  },
  {
   "cell_type": "code",
   "execution_count": 8,
   "metadata": {
    "ExecuteTime": {
     "end_time": "2019-02-06T06:49:02.834768Z",
     "start_time": "2019-02-06T06:49:02.826172Z"
    }
   },
   "outputs": [
    {
     "data": {
      "text/latex": [
       "Quantum object: dims = [[2, 2], [2, 2]], shape = (4, 4), type = oper, isherm = False\\begin{equation*}\\left(\\begin{array}{*{11}c}0.0 & -0.500j & -0.500j & 0.0\\\\0.500j & (-2.0-0.200j) & 0.0 & -0.500j\\\\0.500j & 0.0 & (2.0-0.200j) & -0.500j\\\\0.0 & 0.500j & 0.500j & 0.0\\\\\\end{array}\\right)\\end{equation*}"
      ],
      "text/plain": [
       "Quantum object: dims = [[2, 2], [2, 2]], shape = (4, 4), type = oper, isherm = False\n",
       "Qobj data =\n",
       "[[ 0.+0.j   0.-0.5j  0.-0.5j  0.+0.j ]\n",
       " [ 0.+0.5j -2.-0.2j  0.+0.j   0.-0.5j]\n",
       " [ 0.+0.5j  0.+0.j   2.-0.2j  0.-0.5j]\n",
       " [ 0.+0.j   0.+0.5j  0.+0.5j  0.+0.j ]]"
      ]
     },
     "execution_count": 8,
     "metadata": {},
     "output_type": "execute_result"
    }
   ],
   "source": [
    "A(0.5)"
   ]
  },
  {
   "cell_type": "markdown",
   "metadata": {},
   "source": [
    "### Building $L(t)$ and the Identity in the Liouville space"
   ]
  },
  {
   "cell_type": "code",
   "execution_count": 9,
   "metadata": {
    "ExecuteTime": {
     "end_time": "2019-02-06T06:49:03.417014Z",
     "start_time": "2019-02-06T06:49:03.413528Z"
    }
   },
   "outputs": [],
   "source": [
    "def L(xi, dt):\n",
    "    r\"\"\"Making $L(t) from $A(t)$\"\"\"\n",
    "    L = (-1j*A(xi)*dt).expm()\n",
    "    return L"
   ]
  },
  {
   "cell_type": "code",
   "execution_count": 10,
   "metadata": {
    "ExecuteTime": {
     "end_time": "2019-02-06T06:49:03.935678Z",
     "start_time": "2019-02-06T06:49:03.699194Z"
    }
   },
   "outputs": [
    {
     "data": {
      "text/latex": [
       "Quantum object: dims = [[2, 2], [2, 2]], shape = (4, 4), type = oper, isherm = False\\begin{equation*}\\left(\\begin{array}{*{11}c}1.000 & (-4.999\\times10^{-04}-4.999\\times10^{-07}j) & (-4.999\\times10^{-04}+4.999\\times10^{-07}j) & 2.500\\times10^{-07}\\\\(4.999\\times10^{-04}+4.999\\times10^{-07}j) & (1.000+0.002j) & -2.500\\times10^{-07} & (-4.999\\times10^{-04}-4.999\\times10^{-07}j)\\\\(4.999\\times10^{-04}-4.999\\times10^{-07}j) & -2.500\\times10^{-07} & (1.000-0.002j) & (-4.999\\times10^{-04}+4.999\\times10^{-07}j)\\\\2.500\\times10^{-07} & (4.999\\times10^{-04}+4.999\\times10^{-07}j) & (4.999\\times10^{-04}-4.999\\times10^{-07}j) & 1.000\\\\\\end{array}\\right)\\end{equation*}"
      ],
      "text/plain": [
       "Quantum object: dims = [[2, 2], [2, 2]], shape = (4, 4), type = oper, isherm = False\n",
       "Qobj data =\n",
       "[[ 9.99999750e-01+0.00000000e+00j -4.99949587e-04-4.99933130e-07j\n",
       "  -4.99949587e-04+4.99933130e-07j  2.49983230e-07+0.00000000e+00j]\n",
       " [ 4.99949587e-04+4.99933130e-07j  9.99797770e-01+1.99959837e-03j\n",
       "  -2.49966565e-07+0.00000000e+00j -4.99949587e-04-4.99933130e-07j]\n",
       " [ 4.99949587e-04-4.99933130e-07j -2.49966565e-07+0.00000000e+00j\n",
       "   9.99797770e-01-1.99959837e-03j -4.99949587e-04+4.99933130e-07j]\n",
       " [ 2.49983230e-07+0.00000000e+00j  4.99949587e-04+4.99933130e-07j\n",
       "   4.99949587e-04-4.99933130e-07j  9.99999750e-01+0.00000000e+00j]]"
      ]
     },
     "execution_count": 10,
     "metadata": {},
     "output_type": "execute_result"
    }
   ],
   "source": [
    "L(0.5, 0.001)"
   ]
  },
  {
   "cell_type": "markdown",
   "metadata": {},
   "source": [
    "## Major functions"
   ]
  },
  {
   "cell_type": "markdown",
   "metadata": {},
   "source": [
    "### Major functions 1"
   ]
  },
  {
   "cell_type": "code",
   "execution_count": 11,
   "metadata": {
    "ExecuteTime": {
     "end_time": "2019-02-06T06:49:04.600672Z",
     "start_time": "2019-02-06T06:49:04.597148Z"
    }
   },
   "outputs": [],
   "source": [
    "# building the function to optimize (optimizee)\n",
    "def L_vec(xi_vec, dt):\n",
    "    r\"\"\"Building the vector of differential $L(t)$\"\"\"\n",
    "    L_vec = [L(xi, dt) for xi in xi_vec] \n",
    "    return L_vec"
   ]
  },
  {
   "cell_type": "code",
   "execution_count": 12,
   "metadata": {
    "ExecuteTime": {
     "end_time": "2019-02-06T06:49:04.904621Z",
     "start_time": "2019-02-06T06:49:04.900415Z"
    }
   },
   "outputs": [],
   "source": [
    "def fidelity_calc(A, B):\n",
    "    r\"\"\"Making a generalised fidelity function\"\"\"\n",
    "    first_part = (A - B).dag()\n",
    "    second_part = (A - B)\n",
    "    f_int = (first_part* second_part)\n",
    "    f = f_int.tr()\n",
    "    return f"
   ]
  },
  {
   "cell_type": "code",
   "execution_count": 13,
   "metadata": {
    "ExecuteTime": {
     "end_time": "2019-02-06T06:49:05.209450Z",
     "start_time": "2019-02-06T06:49:05.203469Z"
    }
   },
   "outputs": [],
   "source": [
    "def L_full_maker(xi_vec, dt):\n",
    "    r\"\"\"Building the $L(t)$ for the total time $t$\"\"\"\n",
    "    xi_vec_size = xi_vec.size # finding the size of xi\n",
    "    L_full = L_I # Identity for the for loop of L\n",
    "    L_v = L_vec(xi_vec, dt) # calling L_vec\n",
    "    for i in range(xi_vec_size): # generating L_full\n",
    "        L_full = L_full*L_v[xi_vec_size - 1 - i]\n",
    "    return L_full"
   ]
  },
  {
   "cell_type": "code",
   "execution_count": 14,
   "metadata": {
    "ExecuteTime": {
     "end_time": "2019-02-06T06:49:05.485418Z",
     "start_time": "2019-02-06T06:49:05.481724Z"
    }
   },
   "outputs": [],
   "source": [
    "def F(xi_vec, dt):\n",
    "    r\"\"\"Using the fidelity metric to find out the closeness between $T$\n",
    "    and $L(t)$\"\"\"\n",
    "    L_full = L_full_maker(xi_vec, dt)\n",
    "    F = real(-fidelity_calc(T, L_full))   \n",
    "    return F"
   ]
  },
  {
   "cell_type": "markdown",
   "metadata": {},
   "source": [
    "### Testing major functions 1"
   ]
  },
  {
   "cell_type": "code",
   "execution_count": 15,
   "metadata": {
    "ExecuteTime": {
     "end_time": "2019-02-06T06:49:06.211124Z",
     "start_time": "2019-02-06T06:49:06.204572Z"
    }
   },
   "outputs": [
    {
     "data": {
      "text/plain": [
       "4.0"
      ]
     },
     "execution_count": 15,
     "metadata": {},
     "output_type": "execute_result"
    }
   ],
   "source": [
    "fidelity_calc(sigmax(), sigmay())"
   ]
  },
  {
   "cell_type": "code",
   "execution_count": 16,
   "metadata": {
    "ExecuteTime": {
     "end_time": "2019-02-06T06:49:06.522348Z",
     "start_time": "2019-02-06T06:49:06.515551Z"
    }
   },
   "outputs": [
    {
     "data": {
      "text/plain": [
       "0.0"
      ]
     },
     "execution_count": 16,
     "metadata": {},
     "output_type": "execute_result"
    }
   ],
   "source": [
    "fidelity_calc(sigmay(), sigmay())"
   ]
  },
  {
   "cell_type": "code",
   "execution_count": 17,
   "metadata": {
    "ExecuteTime": {
     "end_time": "2019-02-06T06:49:06.824146Z",
     "start_time": "2019-02-06T06:49:06.819175Z"
    }
   },
   "outputs": [
    {
     "data": {
      "text/plain": [
       "array([1., 2.])"
      ]
     },
     "execution_count": 17,
     "metadata": {},
     "output_type": "execute_result"
    }
   ],
   "source": [
    "xi_vec_test = array([1.0, 2.0])\n",
    "xi_vec_test"
   ]
  },
  {
   "cell_type": "code",
   "execution_count": 18,
   "metadata": {
    "ExecuteTime": {
     "end_time": "2019-02-06T06:49:07.102884Z",
     "start_time": "2019-02-06T06:49:07.097934Z"
    }
   },
   "outputs": [
    {
     "data": {
      "text/plain": [
       "2"
      ]
     },
     "execution_count": 18,
     "metadata": {},
     "output_type": "execute_result"
    }
   ],
   "source": [
    "xi_vec_test.size"
   ]
  },
  {
   "cell_type": "code",
   "execution_count": 19,
   "metadata": {
    "ExecuteTime": {
     "end_time": "2019-02-06T06:49:07.381272Z",
     "start_time": "2019-02-06T06:49:07.375187Z"
    }
   },
   "outputs": [
    {
     "data": {
      "text/plain": [
       "[1.0, 4.0]"
      ]
     },
     "execution_count": 19,
     "metadata": {},
     "output_type": "execute_result"
    }
   ],
   "source": [
    "w_vec = [xi**2 for xi in xi_vec_test]\n",
    "w_vec"
   ]
  },
  {
   "cell_type": "code",
   "execution_count": 20,
   "metadata": {
    "ExecuteTime": {
     "end_time": "2019-02-06T06:49:07.727393Z",
     "start_time": "2019-02-06T06:49:07.716645Z"
    }
   },
   "outputs": [
    {
     "data": {
      "text/plain": [
       "-7.998400634487144"
      ]
     },
     "execution_count": 20,
     "metadata": {},
     "output_type": "execute_result"
    }
   ],
   "source": [
    "# F(xi_vec, dt)\n",
    "F(xi_vec_test, 0.001)"
   ]
  },
  {
   "cell_type": "code",
   "execution_count": 21,
   "metadata": {
    "ExecuteTime": {
     "end_time": "2019-02-06T06:49:07.887164Z",
     "start_time": "2019-02-06T06:49:07.878689Z"
    }
   },
   "outputs": [],
   "source": [
    "L_v = L_vec(xi_vec_test, 0.001)"
   ]
  },
  {
   "cell_type": "code",
   "execution_count": 22,
   "metadata": {
    "ExecuteTime": {
     "end_time": "2019-02-06T06:49:08.680125Z",
     "start_time": "2019-02-06T06:49:08.674559Z"
    }
   },
   "outputs": [
    {
     "data": {
      "text/plain": [
       "[Quantum object: dims = [[2, 2], [2, 2]], shape = (4, 4), type = oper, isherm = False\n",
       " Qobj data =\n",
       " [[ 9.99999000e-01+0.00000000e+00j -9.99898674e-04-9.99866010e-07j\n",
       "   -9.99898674e-04+9.99866010e-07j  9.99932670e-07+0.00000000e+00j]\n",
       "  [ 9.99898674e-04+9.99866010e-07j  9.99797021e-01+1.99959737e-03j\n",
       "   -9.99866010e-07+0.00000000e+00j -9.99898674e-04-9.99866010e-07j]\n",
       "  [ 9.99898674e-04-9.99866010e-07j -9.99866010e-07+0.00000000e+00j\n",
       "    9.99797021e-01-1.99959737e-03j -9.99898674e-04+9.99866010e-07j]\n",
       "  [ 9.99932670e-07+0.00000000e+00j  9.99898674e-04+9.99866010e-07j\n",
       "    9.99898674e-04-9.99866010e-07j  9.99999000e-01+0.00000000e+00j]],\n",
       " Quantum object: dims = [[2, 2], [2, 2]], shape = (4, 4), type = oper, isherm = False\n",
       " Qobj data =\n",
       " [[ 9.99996000e-01+0.00000000e+00j -1.99979335e-03-1.99973002e-06j\n",
       "   -1.99979335e-03+1.99973002e-06j  3.99972668e-06+0.00000000e+00j]\n",
       "  [ 1.99979335e-03+1.99973002e-06j  9.99794021e-01+1.99959337e-03j\n",
       "   -3.99946004e-06+0.00000000e+00j -1.99979335e-03-1.99973002e-06j]\n",
       "  [ 1.99979335e-03-1.99973002e-06j -3.99946004e-06+0.00000000e+00j\n",
       "    9.99794021e-01-1.99959337e-03j -1.99979335e-03+1.99973002e-06j]\n",
       "  [ 3.99972668e-06+0.00000000e+00j  1.99979335e-03+1.99973002e-06j\n",
       "    1.99979335e-03-1.99973002e-06j  9.99996000e-01+0.00000000e+00j]]]"
      ]
     },
     "execution_count": 22,
     "metadata": {},
     "output_type": "execute_result"
    }
   ],
   "source": [
    "L_v"
   ]
  },
  {
   "cell_type": "markdown",
   "metadata": {},
   "source": [
    "### Major Functions 2"
   ]
  },
  {
   "cell_type": "code",
   "execution_count": 23,
   "metadata": {
    "ExecuteTime": {
     "end_time": "2019-02-06T06:49:09.657604Z",
     "start_time": "2019-02-06T06:49:09.653854Z"
    }
   },
   "outputs": [],
   "source": [
    "def L_comma_k_maker(xi_vec, k, dt):\n",
    "    r\"\"\"Making of the derivative of full $L(t)$ at time $t_{k}$\"\"\"\n",
    "    N = xi_vec.size \n",
    "    # Determining the size of xi, and thus the time_steps indirectly.\n",
    "    L_v = L_vec(xi_vec, dt)# Making of the full $L(t)$\n",
    "    inner_part = L_I # Beginner for the for loop\n",
    "    for i in range(N):\n",
    "        if i == ( N - 1 - k ):\n",
    "            # The step at which $X_{k}(t)$ has to be inserted \n",
    "            inner_part = inner_part*x_k*L_v[k - 1]\n",
    "        else:\n",
    "            # Usual multiplications of $L_{k}$\n",
    "            inner_part = inner_part*L_v[N - 1 - i]\n",
    "    l_comma_k = inner_part\n",
    "    return l_comma_k\n",
    "    "
   ]
  },
  {
   "cell_type": "code",
   "execution_count": 24,
   "metadata": {
    "ExecuteTime": {
     "end_time": "2019-02-06T06:49:10.247995Z",
     "start_time": "2019-02-06T06:49:10.236922Z"
    }
   },
   "outputs": [
    {
     "data": {
      "text/latex": [
       "Quantum object: dims = [[2, 2], [2, 2]], shape = (4, 4), type = oper, isherm = False\\begin{equation*}\\left(\\begin{array}{*{11}c}1.000 & (-0.003-6.998\\times10^{-06}j) & (-0.003+6.998\\times10^{-06}j) & 8.999\\times10^{-06}\\\\(0.003+4.999\\times10^{-06}j) & (1.000+0.004j) & (-8.997\\times10^{-06}+5.998\\times10^{-09}j) & (-0.003-4.999\\times10^{-06}j)\\\\(0.003-4.999\\times10^{-06}j) & (-8.997\\times10^{-06}-5.998\\times10^{-09}j) & (1.000-0.004j) & (-0.003+4.999\\times10^{-06}j)\\\\8.999\\times10^{-06} & (0.003+6.998\\times10^{-06}j) & (0.003-6.998\\times10^{-06}j) & 1.000\\\\\\end{array}\\right)\\end{equation*}"
      ],
      "text/plain": [
       "Quantum object: dims = [[2, 2], [2, 2]], shape = (4, 4), type = oper, isherm = False\n",
       "Qobj data =\n",
       "[[ 9.99991001e-01+0.00000000e+00j -2.99927211e-03-6.99796565e-06j\n",
       "  -2.99927211e-03+6.99796565e-06j  8.99882878e-06+0.00000000e+00j]\n",
       " [ 2.99947607e-03+4.99878084e-06j  9.99583086e-01+3.99836500e-03j\n",
       "  -8.99749372e-06+5.99798035e-09j -2.99947607e-03-4.99878084e-06j]\n",
       " [ 2.99947607e-03-4.99878084e-06j -8.99749372e-06-5.99798035e-09j\n",
       "   9.99583086e-01-3.99836500e-03j -2.99947607e-03+4.99878084e-06j]\n",
       " [ 8.99882878e-06+0.00000000e+00j  2.99927211e-03+6.99796565e-06j\n",
       "   2.99927211e-03-6.99796565e-06j  9.99991001e-01+0.00000000e+00j]]"
      ]
     },
     "execution_count": 24,
     "metadata": {},
     "output_type": "execute_result"
    }
   ],
   "source": [
    "# L_comma_k_maker(xi_vec, k, dt)\n",
    "L_comma_k_maker(xi_vec_test, 2, 0.001)"
   ]
  },
  {
   "cell_type": "code",
   "execution_count": 25,
   "metadata": {
    "ExecuteTime": {
     "end_time": "2019-02-06T06:49:10.689656Z",
     "start_time": "2019-02-06T06:49:10.684008Z"
    }
   },
   "outputs": [],
   "source": [
    "def updater(xi_vec, dt, epsilon):\n",
    "    r\"\"\"Implementing the GRAPE update step\"\"\"\n",
    "    xi_vec_size = xi_vec.size # finding the size of xi\n",
    "    L_full = L_full_maker(xi_vec, dt)\n",
    "    di = []\n",
    "    for k in range(xi_vec_size):\n",
    "        # Building the thing to be added to the old function\n",
    "        L_comma_k = L_comma_k_maker(xi_vec, k, dt)\n",
    "        differentiated = T - L_comma_k\n",
    "        plain = T - L_full\n",
    "        c = -differentiated.dag()*plain\n",
    "        d = -plain.dag()*differentiated\n",
    "        inside = c.tr() + d.tr()\n",
    "        di.append(epsilon*inside)\n",
    "\n",
    "    diff = array(di)\n",
    "    xi_new_vec = xi_vec + diff\n",
    "    return diff, xi_new_vec\n",
    "    "
   ]
  },
  {
   "cell_type": "code",
   "execution_count": 26,
   "metadata": {
    "ExecuteTime": {
     "end_time": "2019-02-06T06:49:11.841689Z",
     "start_time": "2019-02-06T06:49:11.822226Z"
    }
   },
   "outputs": [
    {
     "data": {
      "text/plain": [
       "(array([-0.008+0.j, -0.008+0.j]), array([0.992+0.j, 1.992+0.j]))"
      ]
     },
     "execution_count": 26,
     "metadata": {},
     "output_type": "execute_result"
    }
   ],
   "source": [
    "#  updater(xi_vec, dt, epsilon)\n",
    "updater(xi_vec_test, 0.001, 0.001)"
   ]
  },
  {
   "cell_type": "code",
   "execution_count": 27,
   "metadata": {
    "ExecuteTime": {
     "end_time": "2019-02-06T06:49:12.510168Z",
     "start_time": "2019-02-06T06:49:12.505579Z"
    },
    "code_folding": []
   },
   "outputs": [],
   "source": [
    "def terminator(max_iter, time_steps, total_time, epsilon):\n",
    "    r\"\"\"Brief description of the function\"\"\"\n",
    "    \n",
    "    xi_initial =  1000*random_sample((time_steps,))\n",
    "    dt = total_time/time_steps\n",
    "    xi_diff, xi_new_vec = updater(xi_initial, dt, epsilon)\n",
    "    \n",
    "    for i in range(max_iter):\n",
    "        if amax(xi_diff) < epsilon**2 :\n",
    "            \n",
    "            xi_final = xi_new_vec\n",
    "            break\n",
    "        else :\n",
    "            xi_diff, xi_new_vec = updater(xi_new_vec, dt, epsilon)\n",
    "            print(i)\n",
    "            print(amax(xi_diff))\n",
    "            \n",
    "        \n",
    "    xi_final = xi_new_vec    \n",
    "    return xi_final"
   ]
  },
  {
   "cell_type": "code",
   "execution_count": null,
   "metadata": {},
   "outputs": [],
   "source": []
  },
  {
   "cell_type": "markdown",
   "metadata": {},
   "source": [
    "# Running stuff"
   ]
  },
  {
   "cell_type": "markdown",
   "metadata": {},
   "source": [
    "### Try"
   ]
  },
  {
   "cell_type": "code",
   "execution_count": 33,
   "metadata": {
    "ExecuteTime": {
     "end_time": "2019-02-06T06:52:41.177971Z",
     "start_time": "2019-02-06T06:52:40.460044Z"
    }
   },
   "outputs": [
    {
     "name": "stdout",
     "output_type": "stream",
     "text": [
      "Optimization terminated successfully.\n",
      "         Current function value: -4.219547\n",
      "         Iterations: 82\n",
      "         Function evaluations: 184\n",
      "[1028.00024558 1010.24876059]\n"
     ]
    }
   ],
   "source": [
    "total_time = 1*pi/omega_1\n",
    "time_steps = 2\n",
    "dt = total_time/time_steps\n",
    "def f_nel(xi_vec):\n",
    "    return F(xi_vec, dt)\n",
    "\n",
    "x0 = 1000*random_sample((time_steps,))\n",
    "from scipy import optimize\n",
    "res = optimize.minimize(f_nel, x0, method='nelder-mead',\n",
    "                        options={'xtol': 1e-8, 'disp': True})\n",
    "print(res.x)"
   ]
  },
  {
   "cell_type": "code",
   "execution_count": 34,
   "metadata": {
    "ExecuteTime": {
     "end_time": "2019-02-06T06:52:41.190882Z",
     "start_time": "2019-02-06T06:52:41.179861Z"
    }
   },
   "outputs": [
    {
     "data": {
      "text/plain": [
       "-4.219546579328945"
      ]
     },
     "execution_count": 34,
     "metadata": {},
     "output_type": "execute_result"
    }
   ],
   "source": [
    "F(res.x, dt)"
   ]
  },
  {
   "cell_type": "code",
   "execution_count": 35,
   "metadata": {
    "ExecuteTime": {
     "end_time": "2019-02-06T06:52:41.720938Z",
     "start_time": "2019-02-06T06:52:41.456651Z"
    }
   },
   "outputs": [
    {
     "data": {
      "text/plain": [
       "(<Figure size 576x432 with 2 Axes>,\n",
       " <matplotlib.axes._subplots.AxesSubplot at 0x1a1a1f95c0>)"
      ]
     },
     "execution_count": 35,
     "metadata": {},
     "output_type": "execute_result"
    },
    {
     "data": {
      "image/png": "[encoded data removed]",
      "text/plain": [
       "<Figure size 576x432 with 2 Axes>"
      ]
     },
     "metadata": {},
     "output_type": "display_data"
    }
   ],
   "source": [
    "hinton(T)"
   ]
  },
  {
   "cell_type": "code",
   "execution_count": 36,
   "metadata": {
    "ExecuteTime": {
     "end_time": "2019-02-06T06:52:47.470525Z",
     "start_time": "2019-02-06T06:52:47.175540Z"
    }
   },
   "outputs": [
    {
     "data": {
      "text/plain": [
       "(<Figure size 576x432 with 2 Axes>,\n",
       " <matplotlib.axes._subplots.AxesSubplot at 0x1a1a46d160>)"
      ]
     },
     "execution_count": 36,
     "metadata": {},
     "output_type": "execute_result"
    },
    {
     "data": {
      "image/png": "[encoded data removed]",
      "text/plain": [
       "<Figure size 576x432 with 2 Axes>"
      ]
     },
     "metadata": {},
     "output_type": "display_data"
    }
   ],
   "source": [
    "hinton(L_full_maker(res.x, dt))"
   ]
  },
  {
   "cell_type": "code",
   "execution_count": 38,
   "metadata": {
    "ExecuteTime": {
     "end_time": "2019-02-06T06:53:05.596943Z",
     "start_time": "2019-02-06T06:53:05.585540Z"
    }
   },
   "outputs": [
    {
     "data": {
      "text/latex": [
       "Quantum object: dims = [[2, 2], [2, 2]], shape = (4, 4), type = oper, isherm = False\\begin{equation*}\\left(\\begin{array}{*{11}c}0.500 & (-0.267-1.408\\times10^{-04}j) & (-0.267+1.408\\times10^{-04}j) & 0.500\\\\(0.267+1.417\\times10^{-04}j) & (0.142+5.268\\times10^{-04}j) & (-0.142+1.214\\times10^{-06}j) & (-0.267-1.417\\times10^{-04}j)\\\\(0.267-1.417\\times10^{-04}j) & (-0.142-1.214\\times10^{-06}j) & (0.142-5.268\\times10^{-04}j) & (-0.267+1.417\\times10^{-04}j)\\\\0.500 & (0.267+1.408\\times10^{-04}j) & (0.267-1.408\\times10^{-04}j) & 0.500\\\\\\end{array}\\right)\\end{equation*}"
      ],
      "text/plain": [
       "Quantum object: dims = [[2, 2], [2, 2]], shape = (4, 4), type = oper, isherm = False\n",
       "Qobj data =\n",
       "[[ 0.50003843+0.00000000e+00j -0.26674375-1.40834031e-04j\n",
       "  -0.26674375+1.40834031e-04j  0.49996157+0.00000000e+00j]\n",
       " [ 0.26674375+1.41747159e-04j  0.14231669+5.26802806e-04j\n",
       "  -0.14229292+1.21376608e-06j -0.26674375-1.41747159e-04j]\n",
       " [ 0.26674375-1.41747159e-04j -0.14229292-1.21376608e-06j\n",
       "   0.14231669-5.26802806e-04j -0.26674375+1.41747159e-04j]\n",
       " [ 0.49996157+0.00000000e+00j  0.26674375+1.40834031e-04j\n",
       "   0.26674375-1.40834031e-04j  0.50003843+0.00000000e+00j]]"
      ]
     },
     "execution_count": 38,
     "metadata": {},
     "output_type": "execute_result"
    }
   ],
   "source": [
    "L_full_maker(res.x, dt)"
   ]
  },
  {
   "cell_type": "markdown",
   "metadata": {},
   "source": [
    "### Try"
   ]
  },
  {
   "cell_type": "code",
   "execution_count": 39,
   "metadata": {
    "ExecuteTime": {
     "end_time": "2019-02-06T06:58:13.284774Z",
     "start_time": "2019-02-06T06:56:01.015969Z"
    }
   },
   "outputs": [
    {
     "name": "stdout",
     "output_type": "stream",
     "text": [
      "Optimization terminated successfully.\n",
      "         Current function value: -3.000015\n",
      "         Iterations: 66\n",
      "         Function evaluations: 155\n",
      "[682.09926077 627.22421294]\n"
     ]
    }
   ],
   "source": [
    "total_time = 10*pi/omega_1\n",
    "time_steps = 2\n",
    "dt = total_time/time_steps\n",
    "def f_nel(xi_vec):\n",
    "    return F(xi_vec, dt)\n",
    "\n",
    "x0 = 1000*random_sample((time_steps,))\n",
    "from scipy import optimize\n",
    "res = optimize.minimize(f_nel, x0, method='nelder-mead',\n",
    "                        options={'xtol': 1e-8, 'disp': True})\n",
    "print(res.x)"
   ]
  },
  {
   "cell_type": "code",
   "execution_count": 40,
   "metadata": {
    "ExecuteTime": {
     "end_time": "2019-02-06T06:58:13.335858Z",
     "start_time": "2019-02-06T06:58:13.287002Z"
    }
   },
   "outputs": [
    {
     "data": {
      "text/plain": [
       "-3.0000145448359445"
      ]
     },
     "execution_count": 40,
     "metadata": {},
     "output_type": "execute_result"
    }
   ],
   "source": [
    "F(res.x, dt)"
   ]
  },
  {
   "cell_type": "code",
   "execution_count": 41,
   "metadata": {
    "ExecuteTime": {
     "end_time": "2019-02-06T06:58:13.883796Z",
     "start_time": "2019-02-06T06:58:13.615769Z"
    }
   },
   "outputs": [
    {
     "data": {
      "text/plain": [
       "(<Figure size 576x432 with 2 Axes>,\n",
       " <matplotlib.axes._subplots.AxesSubplot at 0x1a1a06bd30>)"
      ]
     },
     "execution_count": 41,
     "metadata": {},
     "output_type": "execute_result"
    },
    {
     "data": {
      "image/png": "[encoded data removed]",
      "text/plain": [
       "<Figure size 576x432 with 2 Axes>"
      ]
     },
     "metadata": {},
     "output_type": "display_data"
    }
   ],
   "source": [
    "hinton(L_full_maker(res.x, dt))"
   ]
  },
  {
   "cell_type": "code",
   "execution_count": 42,
   "metadata": {
    "ExecuteTime": {
     "end_time": "2019-02-06T06:58:13.931478Z",
     "start_time": "2019-02-06T06:58:13.885947Z"
    }
   },
   "outputs": [
    {
     "data": {
      "text/latex": [
       "Quantum object: dims = [[2, 2], [2, 2]], shape = (4, 4), type = oper, isherm = False\\begin{equation*}\\left(\\begin{array}{*{11}c}0.500 & (-9.337\\times10^{-04}-2.883\\times10^{-09}j) & (-9.337\\times10^{-04}+2.883\\times10^{-09}j) & 0.500\\\\(9.337\\times10^{-04}+7.858\\times10^{-09}j) & (1.664\\times10^{-06}+2.863\\times10^{-06}j) & (-1.823\\times10^{-06}+1.146\\times10^{-07}j) & (-9.337\\times10^{-04}-7.858\\times10^{-09}j)\\\\(9.337\\times10^{-04}-7.858\\times10^{-09}j) & (-1.823\\times10^{-06}-1.146\\times10^{-07}j) & (1.664\\times10^{-06}-2.863\\times10^{-06}j) & (-9.337\\times10^{-04}+7.858\\times10^{-09}j)\\\\0.500 & (9.337\\times10^{-04}+2.883\\times10^{-09}j) & (9.337\\times10^{-04}-2.883\\times10^{-09}j) & 0.500\\\\\\end{array}\\right)\\end{equation*}"
      ],
      "text/plain": [
       "Quantum object: dims = [[2, 2], [2, 2]], shape = (4, 4), type = oper, isherm = False\n",
       "Qobj data =\n",
       "[[ 5.00000069e-01+0.00000000e+00j -9.33706418e-04-2.88268436e-09j\n",
       "  -9.33706418e-04+2.88268436e-09j  4.99999931e-01+0.00000000e+00j]\n",
       " [ 9.33706592e-04+7.85841271e-09j  1.66432128e-06+2.86268024e-06j\n",
       "  -1.82309946e-06+1.14586246e-07j -9.33706592e-04-7.85841298e-09j]\n",
       " [ 9.33706592e-04-7.85841271e-09j -1.82309946e-06-1.14586246e-07j\n",
       "   1.66432128e-06-2.86268024e-06j -9.33706592e-04+7.85841297e-09j]\n",
       " [ 4.99999931e-01+0.00000000e+00j  9.33706418e-04+2.88268373e-09j\n",
       "   9.33706418e-04-2.88268373e-09j  5.00000069e-01+0.00000000e+00j]]"
      ]
     },
     "execution_count": 42,
     "metadata": {},
     "output_type": "execute_result"
    }
   ],
   "source": [
    "L_full_maker(res.x, dt)"
   ]
  },
  {
   "cell_type": "markdown",
   "metadata": {},
   "source": [
    "### Try"
   ]
  },
  {
   "cell_type": "code",
   "execution_count": 43,
   "metadata": {
    "ExecuteTime": {
     "end_time": "2019-02-06T06:58:13.284774Z",
     "start_time": "2019-02-06T06:56:01.015969Z"
    }
   },
   "outputs": [
    {
     "name": "stdout",
     "output_type": "stream",
     "text": [
      "Warning: Maximum number of function evaluations has been exceeded.\n",
      "[459.24615544 806.39251266 711.34402569 387.75941834 618.49755605\n",
      " 923.74663743 127.75945585 921.23589703 746.98750511 640.01073502\n",
      " 355.76646193 558.25287155 461.22135693 581.25583518 100.75952523\n",
      " 733.48868478 929.83789533 931.41588033 437.49989801 240.74170457]\n"
     ]
    }
   ],
   "source": [
    "total_time = 10*pi/omega_1\n",
    "time_steps = 20\n",
    "dt = total_time/time_steps\n",
    "def f_nel(xi_vec):\n",
    "    return F(xi_vec, dt)\n",
    "\n",
    "x0 = 1000*random_sample((time_steps,))\n",
    "from scipy import optimize\n",
    "res = optimize.minimize(f_nel, x0, method='nelder-mead',\n",
    "                        options={'xtol': 1e-8, 'disp': True})\n",
    "print(res.x)"
   ]
  },
  {
   "cell_type": "code",
   "execution_count": 44,
   "metadata": {
    "ExecuteTime": {
     "end_time": "2019-02-06T06:58:13.335858Z",
     "start_time": "2019-02-06T06:58:13.287002Z"
    }
   },
   "outputs": [
    {
     "data": {
      "text/plain": [
       "-3.0000224488488954"
      ]
     },
     "execution_count": 44,
     "metadata": {},
     "output_type": "execute_result"
    }
   ],
   "source": [
    "F(res.x, dt)"
   ]
  },
  {
   "cell_type": "code",
   "execution_count": 46,
   "metadata": {
    "ExecuteTime": {
     "end_time": "2019-02-06T06:58:13.883796Z",
     "start_time": "2019-02-06T06:58:13.615769Z"
    }
   },
   "outputs": [
    {
     "data": {
      "text/plain": [
       "(<Figure size 576x432 with 2 Axes>,\n",
       " <matplotlib.axes._subplots.AxesSubplot at 0x1a1a9089e8>)"
      ]
     },
     "execution_count": 46,
     "metadata": {},
     "output_type": "execute_result"
    },
    {
     "data": {
      "image/png": "[encoded data removed]",
      "text/plain": [
       "<Figure size 576x432 with 2 Axes>"
      ]
     },
     "metadata": {},
     "output_type": "display_data"
    }
   ],
   "source": [
    "hinton(L_full_maker(res.x, dt))"
   ]
  },
  {
   "cell_type": "code",
   "execution_count": 47,
   "metadata": {
    "ExecuteTime": {
     "end_time": "2019-02-06T06:58:13.931478Z",
     "start_time": "2019-02-06T06:58:13.885947Z"
    }
   },
   "outputs": [
    {
     "data": {
      "text/latex": [
       "Quantum object: dims = [[2, 2], [2, 2]], shape = (4, 4), type = oper, isherm = False\\begin{equation*}\\left(\\begin{array}{*{11}c}0.500 & (-9.332\\times10^{-04}+1.055\\times10^{-07}j) & (-9.332\\times10^{-04}-1.055\\times10^{-07}j) & 0.500\\\\(9.331\\times10^{-04}-1.721\\times10^{-06}j) & (2.944\\times10^{-05}+8.628\\times10^{-06}j) & (2.594\\times10^{-05}+1.977\\times10^{-06}j) & (-9.331\\times10^{-04}+1.721\\times10^{-06}j)\\\\(9.331\\times10^{-04}+1.721\\times10^{-06}j) & (2.594\\times10^{-05}-1.977\\times10^{-06}j) & (2.944\\times10^{-05}-8.628\\times10^{-06}j) & (-9.331\\times10^{-04}-1.721\\times10^{-06}j)\\\\0.500 & (9.332\\times10^{-04}-1.055\\times10^{-07}j) & (9.332\\times10^{-04}+1.055\\times10^{-07}j) & 0.500\\\\\\end{array}\\right)\\end{equation*}"
      ],
      "text/plain": [
       "Quantum object: dims = [[2, 2], [2, 2]], shape = (4, 4), type = oper, isherm = False\n",
       "Qobj data =\n",
       "[[ 5.00029810e-01+0.00000000e+00j -9.33157754e-04+1.05547340e-07j\n",
       "  -9.33157754e-04-1.05547340e-07j  4.99970190e-01+0.00000000e+00j]\n",
       " [ 9.33148940e-04-1.72148494e-06j  2.94418342e-05+8.62770339e-06j\n",
       "   2.59412908e-05+1.97726126e-06j -9.33148940e-04+1.72148494e-06j]\n",
       " [ 9.33148940e-04+1.72148494e-06j  2.59412908e-05-1.97726126e-06j\n",
       "   2.94418342e-05-8.62770339e-06j -9.33148940e-04-1.72148494e-06j]\n",
       " [ 4.99970190e-01+0.00000000e+00j  9.33157754e-04-1.05547339e-07j\n",
       "   9.33157754e-04+1.05547339e-07j  5.00029810e-01+0.00000000e+00j]]"
      ]
     },
     "execution_count": 47,
     "metadata": {},
     "output_type": "execute_result"
    }
   ],
   "source": [
    "L_full_maker(res.x, dt)"
   ]
  },
  {
   "cell_type": "markdown",
   "metadata": {},
   "source": [
    "### Try"
   ]
  },
  {
   "cell_type": "code",
   "execution_count": 48,
   "metadata": {
    "ExecuteTime": {
     "end_time": "2019-02-06T07:11:15.646532Z",
     "start_time": "2019-02-06T06:58:13.933330Z"
    }
   },
   "outputs": [
    {
     "name": "stdout",
     "output_type": "stream",
     "text": [
      "Warning: Maximum number of function evaluations has been exceeded.\n",
      "[823.84879605 250.58388927 518.82811344 498.92111644 761.54094282\n",
      "  30.80687447 310.30377868 426.75084937 434.03279784 855.66057428\n",
      " 201.82416383 522.50062201 671.65476227 961.42945089 225.75602068\n",
      " 591.9990151  254.1905197  810.27972987 853.996495   763.96046631\n",
      " 591.85850907 756.81336235 117.99283999 118.85408466 426.4585867\n",
      " 711.53881796 444.06553195 337.99787948 746.81156255 323.58431127\n",
      "  73.44891475 839.26588283 248.07926882 498.13763018 249.35075604\n",
      " 789.75222007 719.62799304 105.62486157 260.08007467 804.15666741\n",
      " 371.55911543 170.37595957 548.92140806 714.83663375 808.13453663\n",
      " 578.73386265 231.88860832 874.72316841 859.22589911 819.93828564]\n"
     ]
    }
   ],
   "source": [
    "total_time = 10*pi/omega_1\n",
    "time_steps = 50\n",
    "dt = total_time/time_steps\n",
    "def f_nel(xi_vec):\n",
    "    return F(xi_vec, dt)\n",
    "\n",
    "x0 = 1000*random_sample((time_steps,))\n",
    "from scipy import optimize\n",
    "res = optimize.minimize(f_nel, x0, method='nelder-mead',\n",
    "                        options={'xtol': 1e-8, 'disp': True})\n",
    "print(res.x)"
   ]
  },
  {
   "cell_type": "code",
   "execution_count": 49,
   "metadata": {
    "ExecuteTime": {
     "end_time": "2019-02-06T07:11:15.751613Z",
     "start_time": "2019-02-06T07:11:15.650929Z"
    }
   },
   "outputs": [
    {
     "data": {
      "text/plain": [
       "-3.000049360142304"
      ]
     },
     "execution_count": 49,
     "metadata": {},
     "output_type": "execute_result"
    }
   ],
   "source": [
    "F(res.x, dt)"
   ]
  },
  {
   "cell_type": "code",
   "execution_count": 50,
   "metadata": {
    "ExecuteTime": {
     "end_time": "2019-02-06T07:11:16.106970Z",
     "start_time": "2019-02-06T07:11:15.753554Z"
    }
   },
   "outputs": [
    {
     "data": {
      "text/plain": [
       "(<Figure size 576x432 with 2 Axes>,\n",
       " <matplotlib.axes._subplots.AxesSubplot at 0x1a1ac9f128>)"
      ]
     },
     "execution_count": 50,
     "metadata": {},
     "output_type": "execute_result"
    },
    {
     "data": {
      "image/png": "[encoded data removed]",
      "text/plain": [
       "<Figure size 576x432 with 2 Axes>"
      ]
     },
     "metadata": {},
     "output_type": "display_data"
    }
   ],
   "source": [
    "hinton(L_full_maker(res.x, dt))"
   ]
  },
  {
   "cell_type": "code",
   "execution_count": 51,
   "metadata": {
    "ExecuteTime": {
     "end_time": "2019-02-06T07:11:16.207657Z",
     "start_time": "2019-02-06T07:11:16.109316Z"
    }
   },
   "outputs": [
    {
     "data": {
      "text/latex": [
       "Quantum object: dims = [[2, 2], [2, 2]], shape = (4, 4), type = oper, isherm = False\\begin{equation*}\\left(\\begin{array}{*{11}c}0.500 & (-8.513\\times10^{-04}+2.117\\times10^{-05}j) & (-8.513\\times10^{-04}-2.117\\times10^{-05}j) & 0.500\\\\(8.513\\times10^{-04}+4.355\\times10^{-06}j) & (-3.834\\times10^{-04}-1.547\\times10^{-05}j) & (-3.871\\times10^{-04}+1.781\\times10^{-05}j) & (-8.513\\times10^{-04}-4.355\\times10^{-06}j)\\\\(8.513\\times10^{-04}-4.355\\times10^{-06}j) & (-3.871\\times10^{-04}-1.781\\times10^{-05}j) & (-3.834\\times10^{-04}+1.547\\times10^{-05}j) & (-8.513\\times10^{-04}+4.355\\times10^{-06}j)\\\\0.500 & (8.513\\times10^{-04}-2.117\\times10^{-05}j) & (8.513\\times10^{-04}+2.117\\times10^{-05}j) & 0.500\\\\\\end{array}\\right)\\end{equation*}"
      ],
      "text/plain": [
       "Quantum object: dims = [[2, 2], [2, 2]], shape = (4, 4), type = oper, isherm = False\n",
       "Qobj data =\n",
       "[[ 4.99623466e-01+0.00000000e+00j -8.51277673e-04+2.11738907e-05j\n",
       "  -8.51277673e-04-2.11738907e-05j  5.00376534e-01+0.00000000e+00j]\n",
       " [ 8.51306348e-04+4.35515891e-06j -3.83383197e-04-1.54732408e-05j\n",
       "  -3.87134030e-04+1.78107784e-05j -8.51306348e-04-4.35515891e-06j]\n",
       " [ 8.51306348e-04-4.35515891e-06j -3.87134030e-04-1.78107784e-05j\n",
       "  -3.83383197e-04+1.54732408e-05j -8.51306348e-04+4.35515891e-06j]\n",
       " [ 5.00376534e-01+0.00000000e+00j  8.51277673e-04-2.11738907e-05j\n",
       "   8.51277673e-04+2.11738907e-05j  4.99623466e-01+0.00000000e+00j]]"
      ]
     },
     "execution_count": 51,
     "metadata": {},
     "output_type": "execute_result"
    }
   ],
   "source": [
    "L_full_maker(res.x, dt)"
   ]
  },
  {
   "cell_type": "markdown",
   "metadata": {},
   "source": [
    "### Try"
   ]
  },
  {
   "cell_type": "code",
   "execution_count": 52,
   "metadata": {
    "ExecuteTime": {
     "end_time": "2019-02-06T07:29:10.841299Z",
     "start_time": "2019-02-06T07:11:16.209694Z"
    }
   },
   "outputs": [
    {
     "ename": "KeyboardInterrupt",
     "evalue": "",
     "output_type": "error",
     "traceback": [
      "\u001b[0;31m---------------------------------------------------------------------------\u001b[0m",
      "\u001b[0;31mKeyboardInterrupt\u001b[0m                         Traceback (most recent call last)",
      "\u001b[0;32m<ipython-input-52-734ecfc4848e>\u001b[0m in \u001b[0;36m<module>\u001b[0;34m()\u001b[0m\n\u001b[1;32m      8\u001b[0m \u001b[0;32mfrom\u001b[0m \u001b[0mscipy\u001b[0m \u001b[0;32mimport\u001b[0m \u001b[0moptimize\u001b[0m\u001b[0;34m\u001b[0m\u001b[0;34m\u001b[0m\u001b[0m\n\u001b[1;32m      9\u001b[0m res = optimize.minimize(f_nel, x0, method='nelder-mead',\n\u001b[0;32m---> 10\u001b[0;31m                         options={'xtol': 1e-8, 'disp': True})\n\u001b[0m\u001b[1;32m     11\u001b[0m \u001b[0mprint\u001b[0m\u001b[0;34m(\u001b[0m\u001b[0mres\u001b[0m\u001b[0;34m.\u001b[0m\u001b[0mx\u001b[0m\u001b[0;34m)\u001b[0m\u001b[0;34m\u001b[0m\u001b[0;34m\u001b[0m\u001b[0m\n",
      "\u001b[0;32m/anaconda3/envs/qutip-env/lib/python3.6/site-packages/scipy/optimize/_minimize.py\u001b[0m in \u001b[0;36mminimize\u001b[0;34m(fun, x0, args, method, jac, hess, hessp, bounds, constraints, tol, callback, options)\u001b[0m\n\u001b[1;32m    589\u001b[0m                       callback=callback, **options)\n\u001b[1;32m    590\u001b[0m     \u001b[0;32melif\u001b[0m \u001b[0mmeth\u001b[0m \u001b[0;34m==\u001b[0m \u001b[0;34m'nelder-mead'\u001b[0m\u001b[0;34m:\u001b[0m\u001b[0;34m\u001b[0m\u001b[0;34m\u001b[0m\u001b[0m\n\u001b[0;32m--> 591\u001b[0;31m         \u001b[0;32mreturn\u001b[0m \u001b[0m_minimize_neldermead\u001b[0m\u001b[0;34m(\u001b[0m\u001b[0mfun\u001b[0m\u001b[0;34m,\u001b[0m \u001b[0mx0\u001b[0m\u001b[0;34m,\u001b[0m \u001b[0margs\u001b[0m\u001b[0;34m,\u001b[0m \u001b[0mcallback\u001b[0m\u001b[0;34m,\u001b[0m \u001b[0;34m**\u001b[0m\u001b[0moptions\u001b[0m\u001b[0;34m)\u001b[0m\u001b[0;34m\u001b[0m\u001b[0;34m\u001b[0m\u001b[0m\n\u001b[0m\u001b[1;32m    592\u001b[0m     \u001b[0;32melif\u001b[0m \u001b[0mmeth\u001b[0m \u001b[0;34m==\u001b[0m \u001b[0;34m'powell'\u001b[0m\u001b[0;34m:\u001b[0m\u001b[0;34m\u001b[0m\u001b[0;34m\u001b[0m\u001b[0m\n\u001b[1;32m    593\u001b[0m         \u001b[0;32mreturn\u001b[0m \u001b[0m_minimize_powell\u001b[0m\u001b[0;34m(\u001b[0m\u001b[0mfun\u001b[0m\u001b[0;34m,\u001b[0m \u001b[0mx0\u001b[0m\u001b[0;34m,\u001b[0m \u001b[0margs\u001b[0m\u001b[0;34m,\u001b[0m \u001b[0mcallback\u001b[0m\u001b[0;34m,\u001b[0m \u001b[0;34m**\u001b[0m\u001b[0moptions\u001b[0m\u001b[0;34m)\u001b[0m\u001b[0;34m\u001b[0m\u001b[0;34m\u001b[0m\u001b[0m\n",
      "\u001b[0;32m/anaconda3/envs/qutip-env/lib/python3.6/site-packages/scipy/optimize/optimize.py\u001b[0m in \u001b[0;36m_minimize_neldermead\u001b[0;34m(func, x0, args, callback, maxiter, maxfev, disp, return_all, initial_simplex, xatol, fatol, adaptive, **unknown_options)\u001b[0m\n\u001b[1;32m    566\u001b[0m         \u001b[0mxbar\u001b[0m \u001b[0;34m=\u001b[0m \u001b[0mnumpy\u001b[0m\u001b[0;34m.\u001b[0m\u001b[0madd\u001b[0m\u001b[0;34m.\u001b[0m\u001b[0mreduce\u001b[0m\u001b[0;34m(\u001b[0m\u001b[0msim\u001b[0m\u001b[0;34m[\u001b[0m\u001b[0;34m:\u001b[0m\u001b[0;34m-\u001b[0m\u001b[0;36m1\u001b[0m\u001b[0;34m]\u001b[0m\u001b[0;34m,\u001b[0m \u001b[0;36m0\u001b[0m\u001b[0;34m)\u001b[0m \u001b[0;34m/\u001b[0m \u001b[0mN\u001b[0m\u001b[0;34m\u001b[0m\u001b[0;34m\u001b[0m\u001b[0m\n\u001b[1;32m    567\u001b[0m         \u001b[0mxr\u001b[0m \u001b[0;34m=\u001b[0m \u001b[0;34m(\u001b[0m\u001b[0;36m1\u001b[0m \u001b[0;34m+\u001b[0m \u001b[0mrho\u001b[0m\u001b[0;34m)\u001b[0m \u001b[0;34m*\u001b[0m \u001b[0mxbar\u001b[0m \u001b[0;34m-\u001b[0m \u001b[0mrho\u001b[0m \u001b[0;34m*\u001b[0m \u001b[0msim\u001b[0m\u001b[0;34m[\u001b[0m\u001b[0;34m-\u001b[0m\u001b[0;36m1\u001b[0m\u001b[0;34m]\u001b[0m\u001b[0;34m\u001b[0m\u001b[0;34m\u001b[0m\u001b[0m\n\u001b[0;32m--> 568\u001b[0;31m         \u001b[0mfxr\u001b[0m \u001b[0;34m=\u001b[0m \u001b[0mfunc\u001b[0m\u001b[0;34m(\u001b[0m\u001b[0mxr\u001b[0m\u001b[0;34m)\u001b[0m\u001b[0;34m\u001b[0m\u001b[0;34m\u001b[0m\u001b[0m\n\u001b[0m\u001b[1;32m    569\u001b[0m         \u001b[0mdoshrink\u001b[0m \u001b[0;34m=\u001b[0m \u001b[0;36m0\u001b[0m\u001b[0;34m\u001b[0m\u001b[0;34m\u001b[0m\u001b[0m\n\u001b[1;32m    570\u001b[0m \u001b[0;34m\u001b[0m\u001b[0m\n",
      "\u001b[0;32m/anaconda3/envs/qutip-env/lib/python3.6/site-packages/scipy/optimize/optimize.py\u001b[0m in \u001b[0;36mfunction_wrapper\u001b[0;34m(*wrapper_args)\u001b[0m\n\u001b[1;32m    291\u001b[0m     \u001b[0;32mdef\u001b[0m \u001b[0mfunction_wrapper\u001b[0m\u001b[0;34m(\u001b[0m\u001b[0;34m*\u001b[0m\u001b[0mwrapper_args\u001b[0m\u001b[0;34m)\u001b[0m\u001b[0;34m:\u001b[0m\u001b[0;34m\u001b[0m\u001b[0;34m\u001b[0m\u001b[0m\n\u001b[1;32m    292\u001b[0m         \u001b[0mncalls\u001b[0m\u001b[0;34m[\u001b[0m\u001b[0;36m0\u001b[0m\u001b[0;34m]\u001b[0m \u001b[0;34m+=\u001b[0m \u001b[0;36m1\u001b[0m\u001b[0;34m\u001b[0m\u001b[0;34m\u001b[0m\u001b[0m\n\u001b[0;32m--> 293\u001b[0;31m         \u001b[0;32mreturn\u001b[0m \u001b[0mfunction\u001b[0m\u001b[0;34m(\u001b[0m\u001b[0;34m*\u001b[0m\u001b[0;34m(\u001b[0m\u001b[0mwrapper_args\u001b[0m \u001b[0;34m+\u001b[0m \u001b[0margs\u001b[0m\u001b[0;34m)\u001b[0m\u001b[0;34m)\u001b[0m\u001b[0;34m\u001b[0m\u001b[0;34m\u001b[0m\u001b[0m\n\u001b[0m\u001b[1;32m    294\u001b[0m \u001b[0;34m\u001b[0m\u001b[0m\n\u001b[1;32m    295\u001b[0m     \u001b[0;32mreturn\u001b[0m \u001b[0mncalls\u001b[0m\u001b[0;34m,\u001b[0m \u001b[0mfunction_wrapper\u001b[0m\u001b[0;34m\u001b[0m\u001b[0;34m\u001b[0m\u001b[0m\n",
      "\u001b[0;32m<ipython-input-52-734ecfc4848e>\u001b[0m in \u001b[0;36mf_nel\u001b[0;34m(xi_vec)\u001b[0m\n\u001b[1;32m      3\u001b[0m \u001b[0mdt\u001b[0m \u001b[0;34m=\u001b[0m \u001b[0mtotal_time\u001b[0m\u001b[0;34m/\u001b[0m\u001b[0mtime_steps\u001b[0m\u001b[0;34m\u001b[0m\u001b[0;34m\u001b[0m\u001b[0m\n\u001b[1;32m      4\u001b[0m \u001b[0;32mdef\u001b[0m \u001b[0mf_nel\u001b[0m\u001b[0;34m(\u001b[0m\u001b[0mxi_vec\u001b[0m\u001b[0;34m)\u001b[0m\u001b[0;34m:\u001b[0m\u001b[0;34m\u001b[0m\u001b[0;34m\u001b[0m\u001b[0m\n\u001b[0;32m----> 5\u001b[0;31m     \u001b[0;32mreturn\u001b[0m \u001b[0mF\u001b[0m\u001b[0;34m(\u001b[0m\u001b[0mxi_vec\u001b[0m\u001b[0;34m,\u001b[0m \u001b[0mdt\u001b[0m\u001b[0;34m)\u001b[0m\u001b[0;34m\u001b[0m\u001b[0;34m\u001b[0m\u001b[0m\n\u001b[0m\u001b[1;32m      6\u001b[0m \u001b[0;34m\u001b[0m\u001b[0m\n\u001b[1;32m      7\u001b[0m \u001b[0mx0\u001b[0m \u001b[0;34m=\u001b[0m \u001b[0;36m1000\u001b[0m\u001b[0;34m*\u001b[0m\u001b[0mrandom_sample\u001b[0m\u001b[0;34m(\u001b[0m\u001b[0;34m(\u001b[0m\u001b[0mtime_steps\u001b[0m\u001b[0;34m,\u001b[0m\u001b[0;34m)\u001b[0m\u001b[0;34m)\u001b[0m\u001b[0;34m\u001b[0m\u001b[0;34m\u001b[0m\u001b[0m\n",
      "\u001b[0;32m<ipython-input-14-4475d5cc7fbb>\u001b[0m in \u001b[0;36mF\u001b[0;34m(xi_vec, dt)\u001b[0m\n\u001b[1;32m      2\u001b[0m     r\"\"\"Using the fidelity metric to find out the closeness between $T$\n\u001b[1;32m      3\u001b[0m     and $L(t)$\"\"\"\n\u001b[0;32m----> 4\u001b[0;31m     \u001b[0mL_full\u001b[0m \u001b[0;34m=\u001b[0m \u001b[0mL_full_maker\u001b[0m\u001b[0;34m(\u001b[0m\u001b[0mxi_vec\u001b[0m\u001b[0;34m,\u001b[0m \u001b[0mdt\u001b[0m\u001b[0;34m)\u001b[0m\u001b[0;34m\u001b[0m\u001b[0;34m\u001b[0m\u001b[0m\n\u001b[0m\u001b[1;32m      5\u001b[0m     \u001b[0mF\u001b[0m \u001b[0;34m=\u001b[0m \u001b[0mreal\u001b[0m\u001b[0;34m(\u001b[0m\u001b[0;34m-\u001b[0m\u001b[0mfidelity_calc\u001b[0m\u001b[0;34m(\u001b[0m\u001b[0mT\u001b[0m\u001b[0;34m,\u001b[0m \u001b[0mL_full\u001b[0m\u001b[0;34m)\u001b[0m\u001b[0;34m)\u001b[0m\u001b[0;34m\u001b[0m\u001b[0;34m\u001b[0m\u001b[0m\n\u001b[1;32m      6\u001b[0m     \u001b[0;32mreturn\u001b[0m \u001b[0mF\u001b[0m\u001b[0;34m\u001b[0m\u001b[0;34m\u001b[0m\u001b[0m\n",
      "\u001b[0;32m<ipython-input-13-aba457d2c8d7>\u001b[0m in \u001b[0;36mL_full_maker\u001b[0;34m(xi_vec, dt)\u001b[0m\n\u001b[1;32m      3\u001b[0m     \u001b[0mxi_vec_size\u001b[0m \u001b[0;34m=\u001b[0m \u001b[0mxi_vec\u001b[0m\u001b[0;34m.\u001b[0m\u001b[0msize\u001b[0m \u001b[0;31m# finding the size of xi\u001b[0m\u001b[0;34m\u001b[0m\u001b[0;34m\u001b[0m\u001b[0m\n\u001b[1;32m      4\u001b[0m     \u001b[0mL_full\u001b[0m \u001b[0;34m=\u001b[0m \u001b[0mL_I\u001b[0m \u001b[0;31m# Identity for the for loop of L\u001b[0m\u001b[0;34m\u001b[0m\u001b[0;34m\u001b[0m\u001b[0m\n\u001b[0;32m----> 5\u001b[0;31m     \u001b[0mL_v\u001b[0m \u001b[0;34m=\u001b[0m \u001b[0mL_vec\u001b[0m\u001b[0;34m(\u001b[0m\u001b[0mxi_vec\u001b[0m\u001b[0;34m,\u001b[0m \u001b[0mdt\u001b[0m\u001b[0;34m)\u001b[0m \u001b[0;31m# calling L_vec\u001b[0m\u001b[0;34m\u001b[0m\u001b[0;34m\u001b[0m\u001b[0m\n\u001b[0m\u001b[1;32m      6\u001b[0m     \u001b[0;32mfor\u001b[0m \u001b[0mi\u001b[0m \u001b[0;32min\u001b[0m \u001b[0mrange\u001b[0m\u001b[0;34m(\u001b[0m\u001b[0mxi_vec_size\u001b[0m\u001b[0;34m)\u001b[0m\u001b[0;34m:\u001b[0m \u001b[0;31m# generating L_full\u001b[0m\u001b[0;34m\u001b[0m\u001b[0;34m\u001b[0m\u001b[0m\n\u001b[1;32m      7\u001b[0m         \u001b[0mL_full\u001b[0m \u001b[0;34m=\u001b[0m \u001b[0mL_full\u001b[0m\u001b[0;34m*\u001b[0m\u001b[0mL_v\u001b[0m\u001b[0;34m[\u001b[0m\u001b[0mxi_vec_size\u001b[0m \u001b[0;34m-\u001b[0m \u001b[0;36m1\u001b[0m \u001b[0;34m-\u001b[0m \u001b[0mi\u001b[0m\u001b[0;34m]\u001b[0m\u001b[0;34m\u001b[0m\u001b[0;34m\u001b[0m\u001b[0m\n",
      "\u001b[0;32m<ipython-input-11-27bcc02fbdf8>\u001b[0m in \u001b[0;36mL_vec\u001b[0;34m(xi_vec, dt)\u001b[0m\n\u001b[1;32m      2\u001b[0m \u001b[0;32mdef\u001b[0m \u001b[0mL_vec\u001b[0m\u001b[0;34m(\u001b[0m\u001b[0mxi_vec\u001b[0m\u001b[0;34m,\u001b[0m \u001b[0mdt\u001b[0m\u001b[0;34m)\u001b[0m\u001b[0;34m:\u001b[0m\u001b[0;34m\u001b[0m\u001b[0;34m\u001b[0m\u001b[0m\n\u001b[1;32m      3\u001b[0m     \u001b[0;34mr\"\"\"Building the vector of differential $L(t)$\"\"\"\u001b[0m\u001b[0;34m\u001b[0m\u001b[0;34m\u001b[0m\u001b[0m\n\u001b[0;32m----> 4\u001b[0;31m     \u001b[0mL_vec\u001b[0m \u001b[0;34m=\u001b[0m \u001b[0;34m[\u001b[0m\u001b[0mL\u001b[0m\u001b[0;34m(\u001b[0m\u001b[0mxi\u001b[0m\u001b[0;34m,\u001b[0m \u001b[0mdt\u001b[0m\u001b[0;34m)\u001b[0m \u001b[0;32mfor\u001b[0m \u001b[0mxi\u001b[0m \u001b[0;32min\u001b[0m \u001b[0mxi_vec\u001b[0m\u001b[0;34m]\u001b[0m\u001b[0;34m\u001b[0m\u001b[0;34m\u001b[0m\u001b[0m\n\u001b[0m\u001b[1;32m      5\u001b[0m     \u001b[0;32mreturn\u001b[0m \u001b[0mL_vec\u001b[0m\u001b[0;34m\u001b[0m\u001b[0;34m\u001b[0m\u001b[0m\n",
      "\u001b[0;32m<ipython-input-11-27bcc02fbdf8>\u001b[0m in \u001b[0;36m<listcomp>\u001b[0;34m(.0)\u001b[0m\n\u001b[1;32m      2\u001b[0m \u001b[0;32mdef\u001b[0m \u001b[0mL_vec\u001b[0m\u001b[0;34m(\u001b[0m\u001b[0mxi_vec\u001b[0m\u001b[0;34m,\u001b[0m \u001b[0mdt\u001b[0m\u001b[0;34m)\u001b[0m\u001b[0;34m:\u001b[0m\u001b[0;34m\u001b[0m\u001b[0;34m\u001b[0m\u001b[0m\n\u001b[1;32m      3\u001b[0m     \u001b[0;34mr\"\"\"Building the vector of differential $L(t)$\"\"\"\u001b[0m\u001b[0;34m\u001b[0m\u001b[0;34m\u001b[0m\u001b[0m\n\u001b[0;32m----> 4\u001b[0;31m     \u001b[0mL_vec\u001b[0m \u001b[0;34m=\u001b[0m \u001b[0;34m[\u001b[0m\u001b[0mL\u001b[0m\u001b[0;34m(\u001b[0m\u001b[0mxi\u001b[0m\u001b[0;34m,\u001b[0m \u001b[0mdt\u001b[0m\u001b[0;34m)\u001b[0m \u001b[0;32mfor\u001b[0m \u001b[0mxi\u001b[0m \u001b[0;32min\u001b[0m \u001b[0mxi_vec\u001b[0m\u001b[0;34m]\u001b[0m\u001b[0;34m\u001b[0m\u001b[0;34m\u001b[0m\u001b[0m\n\u001b[0m\u001b[1;32m      5\u001b[0m     \u001b[0;32mreturn\u001b[0m \u001b[0mL_vec\u001b[0m\u001b[0;34m\u001b[0m\u001b[0;34m\u001b[0m\u001b[0m\n",
      "\u001b[0;32m<ipython-input-9-11b160f3fc69>\u001b[0m in \u001b[0;36mL\u001b[0;34m(xi, dt)\u001b[0m\n\u001b[1;32m      1\u001b[0m \u001b[0;32mdef\u001b[0m \u001b[0mL\u001b[0m\u001b[0;34m(\u001b[0m\u001b[0mxi\u001b[0m\u001b[0;34m,\u001b[0m \u001b[0mdt\u001b[0m\u001b[0;34m)\u001b[0m\u001b[0;34m:\u001b[0m\u001b[0;34m\u001b[0m\u001b[0;34m\u001b[0m\u001b[0m\n\u001b[1;32m      2\u001b[0m     \u001b[0;34mr\"\"\"Making $L(t) from $A(t)$\"\"\"\u001b[0m\u001b[0;34m\u001b[0m\u001b[0;34m\u001b[0m\u001b[0m\n\u001b[0;32m----> 3\u001b[0;31m     \u001b[0mL\u001b[0m \u001b[0;34m=\u001b[0m \u001b[0;34m(\u001b[0m\u001b[0;34m-\u001b[0m\u001b[0;36m1j\u001b[0m\u001b[0;34m*\u001b[0m\u001b[0mA\u001b[0m\u001b[0;34m(\u001b[0m\u001b[0mxi\u001b[0m\u001b[0;34m)\u001b[0m\u001b[0;34m*\u001b[0m\u001b[0mdt\u001b[0m\u001b[0;34m)\u001b[0m\u001b[0;34m.\u001b[0m\u001b[0mexpm\u001b[0m\u001b[0;34m(\u001b[0m\u001b[0;34m)\u001b[0m\u001b[0;34m\u001b[0m\u001b[0;34m\u001b[0m\u001b[0m\n\u001b[0m\u001b[1;32m      4\u001b[0m     \u001b[0;32mreturn\u001b[0m \u001b[0mL\u001b[0m\u001b[0;34m\u001b[0m\u001b[0;34m\u001b[0m\u001b[0m\n",
      "\u001b[0;32m/anaconda3/envs/qutip-env/lib/python3.6/site-packages/qutip/qobj.py\u001b[0m in \u001b[0;36mexpm\u001b[0;34m(self, method)\u001b[0m\n\u001b[1;32m   1048\u001b[0m \u001b[0;34m\u001b[0m\u001b[0m\n\u001b[1;32m   1049\u001b[0m         \u001b[0;32mif\u001b[0m \u001b[0mmethod\u001b[0m \u001b[0;34m==\u001b[0m \u001b[0;34m'dense'\u001b[0m\u001b[0;34m:\u001b[0m\u001b[0;34m\u001b[0m\u001b[0;34m\u001b[0m\u001b[0m\n\u001b[0;32m-> 1050\u001b[0;31m             \u001b[0mF\u001b[0m \u001b[0;34m=\u001b[0m \u001b[0msp_expm\u001b[0m\u001b[0;34m(\u001b[0m\u001b[0mself\u001b[0m\u001b[0;34m.\u001b[0m\u001b[0mdata\u001b[0m\u001b[0;34m,\u001b[0m \u001b[0msparse\u001b[0m\u001b[0;34m=\u001b[0m\u001b[0;32mFalse\u001b[0m\u001b[0;34m)\u001b[0m\u001b[0;34m\u001b[0m\u001b[0;34m\u001b[0m\u001b[0m\n\u001b[0m\u001b[1;32m   1051\u001b[0m \u001b[0;34m\u001b[0m\u001b[0m\n\u001b[1;32m   1052\u001b[0m         \u001b[0;32melif\u001b[0m \u001b[0mmethod\u001b[0m \u001b[0;34m==\u001b[0m \u001b[0;34m'sparse'\u001b[0m\u001b[0;34m:\u001b[0m\u001b[0;34m\u001b[0m\u001b[0;34m\u001b[0m\u001b[0m\n",
      "\u001b[0;32m/anaconda3/envs/qutip-env/lib/python3.6/site-packages/qutip/sparse.py\u001b[0m in \u001b[0;36msp_expm\u001b[0;34m(A, sparse)\u001b[0m\n\u001b[1;32m    394\u001b[0m     \u001b[0;32melse\u001b[0m\u001b[0;34m:\u001b[0m\u001b[0;34m\u001b[0m\u001b[0;34m\u001b[0m\u001b[0m\n\u001b[1;32m    395\u001b[0m         \u001b[0mE\u001b[0m \u001b[0;34m=\u001b[0m \u001b[0mspla\u001b[0m\u001b[0;34m.\u001b[0m\u001b[0mexpm\u001b[0m\u001b[0;34m(\u001b[0m\u001b[0mA\u001b[0m\u001b[0;34m.\u001b[0m\u001b[0mtoarray\u001b[0m\u001b[0;34m(\u001b[0m\u001b[0;34m)\u001b[0m\u001b[0;34m)\u001b[0m\u001b[0;34m\u001b[0m\u001b[0;34m\u001b[0m\u001b[0m\n\u001b[0;32m--> 396\u001b[0;31m     \u001b[0;32mreturn\u001b[0m \u001b[0msp\u001b[0m\u001b[0;34m.\u001b[0m\u001b[0mcsr_matrix\u001b[0m\u001b[0;34m(\u001b[0m\u001b[0mE\u001b[0m\u001b[0;34m)\u001b[0m\u001b[0;34m\u001b[0m\u001b[0;34m\u001b[0m\u001b[0m\n\u001b[0m\u001b[1;32m    397\u001b[0m \u001b[0;34m\u001b[0m\u001b[0m\n\u001b[1;32m    398\u001b[0m \u001b[0;34m\u001b[0m\u001b[0m\n",
      "\u001b[0;32m/anaconda3/envs/qutip-env/lib/python3.6/site-packages/scipy/sparse/compressed.py\u001b[0m in \u001b[0;36m__init__\u001b[0;34m(self, arg1, shape, dtype, copy)\u001b[0m\n\u001b[1;32m     96\u001b[0m             \u001b[0mself\u001b[0m\u001b[0;34m.\u001b[0m\u001b[0mdata\u001b[0m \u001b[0;34m=\u001b[0m \u001b[0mnp\u001b[0m\u001b[0;34m.\u001b[0m\u001b[0masarray\u001b[0m\u001b[0;34m(\u001b[0m\u001b[0mself\u001b[0m\u001b[0;34m.\u001b[0m\u001b[0mdata\u001b[0m\u001b[0;34m,\u001b[0m \u001b[0mdtype\u001b[0m\u001b[0;34m=\u001b[0m\u001b[0mdtype\u001b[0m\u001b[0;34m)\u001b[0m\u001b[0;34m\u001b[0m\u001b[0;34m\u001b[0m\u001b[0m\n\u001b[1;32m     97\u001b[0m \u001b[0;34m\u001b[0m\u001b[0m\n\u001b[0;32m---> 98\u001b[0;31m         \u001b[0mself\u001b[0m\u001b[0;34m.\u001b[0m\u001b[0mcheck_format\u001b[0m\u001b[0;34m(\u001b[0m\u001b[0mfull_check\u001b[0m\u001b[0;34m=\u001b[0m\u001b[0;32mFalse\u001b[0m\u001b[0;34m)\u001b[0m\u001b[0;34m\u001b[0m\u001b[0;34m\u001b[0m\u001b[0m\n\u001b[0m\u001b[1;32m     99\u001b[0m \u001b[0;34m\u001b[0m\u001b[0m\n\u001b[1;32m    100\u001b[0m     \u001b[0;32mdef\u001b[0m \u001b[0mgetnnz\u001b[0m\u001b[0;34m(\u001b[0m\u001b[0mself\u001b[0m\u001b[0;34m,\u001b[0m \u001b[0maxis\u001b[0m\u001b[0;34m=\u001b[0m\u001b[0;32mNone\u001b[0m\u001b[0;34m)\u001b[0m\u001b[0;34m:\u001b[0m\u001b[0;34m\u001b[0m\u001b[0;34m\u001b[0m\u001b[0m\n",
      "\u001b[0;32m/anaconda3/envs/qutip-env/lib/python3.6/site-packages/scipy/sparse/compressed.py\u001b[0m in \u001b[0;36mcheck_format\u001b[0;34m(self, full_check)\u001b[0m\n\u001b[1;32m    147\u001b[0m                     % self.indices.dtype.name)\n\u001b[1;32m    148\u001b[0m \u001b[0;34m\u001b[0m\u001b[0m\n\u001b[0;32m--> 149\u001b[0;31m         \u001b[0midx_dtype\u001b[0m \u001b[0;34m=\u001b[0m \u001b[0mget_index_dtype\u001b[0m\u001b[0;34m(\u001b[0m\u001b[0;34m(\u001b[0m\u001b[0mself\u001b[0m\u001b[0;34m.\u001b[0m\u001b[0mindptr\u001b[0m\u001b[0;34m,\u001b[0m \u001b[0mself\u001b[0m\u001b[0;34m.\u001b[0m\u001b[0mindices\u001b[0m\u001b[0;34m)\u001b[0m\u001b[0;34m)\u001b[0m\u001b[0;34m\u001b[0m\u001b[0;34m\u001b[0m\u001b[0m\n\u001b[0m\u001b[1;32m    150\u001b[0m         \u001b[0mself\u001b[0m\u001b[0;34m.\u001b[0m\u001b[0mindptr\u001b[0m \u001b[0;34m=\u001b[0m \u001b[0mnp\u001b[0m\u001b[0;34m.\u001b[0m\u001b[0masarray\u001b[0m\u001b[0;34m(\u001b[0m\u001b[0mself\u001b[0m\u001b[0;34m.\u001b[0m\u001b[0mindptr\u001b[0m\u001b[0;34m,\u001b[0m \u001b[0mdtype\u001b[0m\u001b[0;34m=\u001b[0m\u001b[0midx_dtype\u001b[0m\u001b[0;34m)\u001b[0m\u001b[0;34m\u001b[0m\u001b[0;34m\u001b[0m\u001b[0m\n\u001b[1;32m    151\u001b[0m         \u001b[0mself\u001b[0m\u001b[0;34m.\u001b[0m\u001b[0mindices\u001b[0m \u001b[0;34m=\u001b[0m \u001b[0mnp\u001b[0m\u001b[0;34m.\u001b[0m\u001b[0masarray\u001b[0m\u001b[0;34m(\u001b[0m\u001b[0mself\u001b[0m\u001b[0;34m.\u001b[0m\u001b[0mindices\u001b[0m\u001b[0;34m,\u001b[0m \u001b[0mdtype\u001b[0m\u001b[0;34m=\u001b[0m\u001b[0midx_dtype\u001b[0m\u001b[0;34m)\u001b[0m\u001b[0;34m\u001b[0m\u001b[0;34m\u001b[0m\u001b[0m\n",
      "\u001b[0;32m/anaconda3/envs/qutip-env/lib/python3.6/site-packages/scipy/sparse/sputils.py\u001b[0m in \u001b[0;36mget_index_dtype\u001b[0;34m(arrays, maxval, check_contents)\u001b[0m\n\u001b[1;32m    152\u001b[0m \u001b[0;34m\u001b[0m\u001b[0m\n\u001b[1;32m    153\u001b[0m     \u001b[0;32mfor\u001b[0m \u001b[0marr\u001b[0m \u001b[0;32min\u001b[0m \u001b[0marrays\u001b[0m\u001b[0;34m:\u001b[0m\u001b[0;34m\u001b[0m\u001b[0;34m\u001b[0m\u001b[0m\n\u001b[0;32m--> 154\u001b[0;31m         \u001b[0marr\u001b[0m \u001b[0;34m=\u001b[0m \u001b[0mnp\u001b[0m\u001b[0;34m.\u001b[0m\u001b[0masarray\u001b[0m\u001b[0;34m(\u001b[0m\u001b[0marr\u001b[0m\u001b[0;34m)\u001b[0m\u001b[0;34m\u001b[0m\u001b[0;34m\u001b[0m\u001b[0m\n\u001b[0m\u001b[1;32m    155\u001b[0m         \u001b[0;32mif\u001b[0m \u001b[0;32mnot\u001b[0m \u001b[0mnp\u001b[0m\u001b[0;34m.\u001b[0m\u001b[0mcan_cast\u001b[0m\u001b[0;34m(\u001b[0m\u001b[0marr\u001b[0m\u001b[0;34m.\u001b[0m\u001b[0mdtype\u001b[0m\u001b[0;34m,\u001b[0m \u001b[0mnp\u001b[0m\u001b[0;34m.\u001b[0m\u001b[0mint32\u001b[0m\u001b[0;34m)\u001b[0m\u001b[0;34m:\u001b[0m\u001b[0;34m\u001b[0m\u001b[0;34m\u001b[0m\u001b[0m\n\u001b[1;32m    156\u001b[0m             \u001b[0;32mif\u001b[0m \u001b[0mcheck_contents\u001b[0m\u001b[0;34m:\u001b[0m\u001b[0;34m\u001b[0m\u001b[0;34m\u001b[0m\u001b[0m\n",
      "\u001b[0;32m/anaconda3/envs/qutip-env/lib/python3.6/site-packages/numpy/core/numeric.py\u001b[0m in \u001b[0;36masarray\u001b[0;34m(a, dtype, order)\u001b[0m\n\u001b[1;32m    490\u001b[0m \u001b[0;34m\u001b[0m\u001b[0m\n\u001b[1;32m    491\u001b[0m     \"\"\"\n\u001b[0;32m--> 492\u001b[0;31m     \u001b[0;32mreturn\u001b[0m \u001b[0marray\u001b[0m\u001b[0;34m(\u001b[0m\u001b[0ma\u001b[0m\u001b[0;34m,\u001b[0m \u001b[0mdtype\u001b[0m\u001b[0;34m,\u001b[0m \u001b[0mcopy\u001b[0m\u001b[0;34m=\u001b[0m\u001b[0;32mFalse\u001b[0m\u001b[0;34m,\u001b[0m \u001b[0morder\u001b[0m\u001b[0;34m=\u001b[0m\u001b[0morder\u001b[0m\u001b[0;34m)\u001b[0m\u001b[0;34m\u001b[0m\u001b[0;34m\u001b[0m\u001b[0m\n\u001b[0m\u001b[1;32m    493\u001b[0m \u001b[0;34m\u001b[0m\u001b[0m\n\u001b[1;32m    494\u001b[0m \u001b[0;34m\u001b[0m\u001b[0m\n",
      "\u001b[0;31mKeyboardInterrupt\u001b[0m: "
     ]
    }
   ],
   "source": [
    "total_time = 10*pi/omega_1\n",
    "time_steps = 70\n",
    "dt = total_time/time_steps\n",
    "def f_nel(xi_vec):\n",
    "    return F(xi_vec, dt)\n",
    "\n",
    "x0 = 1000*random_sample((time_steps,))\n",
    "from scipy import optimize\n",
    "res = optimize.minimize(f_nel, x0, method='nelder-mead',\n",
    "                        options={'xtol': 1e-8, 'disp': True})\n",
    "print(res.x)"
   ]
  },
  {
   "cell_type": "code",
   "execution_count": null,
   "metadata": {
    "ExecuteTime": {
     "end_time": "2019-02-06T07:29:10.843396Z",
     "start_time": "2019-02-06T07:00:46.554Z"
    }
   },
   "outputs": [],
   "source": [
    "F(res.x, dt)"
   ]
  },
  {
   "cell_type": "code",
   "execution_count": null,
   "metadata": {
    "ExecuteTime": {
     "end_time": "2019-02-06T07:29:10.844960Z",
     "start_time": "2019-02-06T07:00:47.038Z"
    }
   },
   "outputs": [],
   "source": [
    "hinton(L_full_maker(res.x, dt))"
   ]
  },
  {
   "cell_type": "code",
   "execution_count": null,
   "metadata": {
    "ExecuteTime": {
     "end_time": "2019-02-06T07:29:10.846679Z",
     "start_time": "2019-02-06T07:00:47.578Z"
    }
   },
   "outputs": [],
   "source": [
    "L_full_maker(res.x, dt)"
   ]
  },
  {
   "cell_type": "code",
   "execution_count": null,
   "metadata": {},
   "outputs": [],
   "source": []
  },
  {
   "cell_type": "markdown",
   "metadata": {},
   "source": [
    "### Try"
   ]
  },
  {
   "cell_type": "code",
   "execution_count": null,
   "metadata": {
    "ExecuteTime": {
     "end_time": "2019-02-06T07:29:10.841299Z",
     "start_time": "2019-02-06T07:11:16.209694Z"
    }
   },
   "outputs": [],
   "source": [
    "total_time = 4*pi/omega_1\n",
    "time_steps = 50\n",
    "dt = total_time/time_steps\n",
    "def f_nel(xi_vec):\n",
    "    return F(xi_vec, dt)\n",
    "\n",
    "x0 = 1000*random_sample((time_steps,))\n",
    "from scipy import optimize\n",
    "res = optimize.minimize(f_nel, x0, method='nelder-mead',\n",
    "                        options={'xtol': 1e-8, 'disp': True})\n",
    "print(res.x)"
   ]
  },
  {
   "cell_type": "code",
   "execution_count": null,
   "metadata": {
    "ExecuteTime": {
     "end_time": "2019-02-06T07:29:10.843396Z",
     "start_time": "2019-02-06T07:00:46.554Z"
    }
   },
   "outputs": [],
   "source": [
    "F(res.x, dt)"
   ]
  },
  {
   "cell_type": "code",
   "execution_count": null,
   "metadata": {
    "ExecuteTime": {
     "end_time": "2019-02-06T07:29:10.844960Z",
     "start_time": "2019-02-06T07:00:47.038Z"
    }
   },
   "outputs": [],
   "source": [
    "hinton(L_full_maker(res.x, dt))"
   ]
  },
  {
   "cell_type": "code",
   "execution_count": null,
   "metadata": {
    "ExecuteTime": {
     "end_time": "2019-02-06T07:29:10.846679Z",
     "start_time": "2019-02-06T07:00:47.578Z"
    }
   },
   "outputs": [],
   "source": [
    "L_full_maker(res.x, dt)"
   ]
  },
  {
   "cell_type": "markdown",
   "metadata": {},
   "source": [
    "### Try"
   ]
  },
  {
   "cell_type": "code",
   "execution_count": null,
   "metadata": {
    "ExecuteTime": {
     "end_time": "2019-02-06T07:29:10.841299Z",
     "start_time": "2019-02-06T07:11:16.209694Z"
    }
   },
   "outputs": [],
   "source": [
    "total_time = 10*pi/omega_1\n",
    "time_steps = 100\n",
    "dt = total_time/time_steps\n",
    "def f_nel(xi_vec):\n",
    "    return F(xi_vec, dt)\n",
    "\n",
    "x0 = 1000*random_sample((time_steps,))\n",
    "from scipy import optimize\n",
    "res = optimize.minimize(f_nel, x0, method='nelder-mead',\n",
    "                        options={'xtol': 1e-8, 'disp': True})\n",
    "print(res.x)"
   ]
  },
  {
   "cell_type": "code",
   "execution_count": null,
   "metadata": {
    "ExecuteTime": {
     "end_time": "2019-02-06T07:29:10.843396Z",
     "start_time": "2019-02-06T07:00:46.554Z"
    }
   },
   "outputs": [],
   "source": [
    "F(res.x, dt)"
   ]
  },
  {
   "cell_type": "code",
   "execution_count": null,
   "metadata": {
    "ExecuteTime": {
     "end_time": "2019-02-06T07:29:10.844960Z",
     "start_time": "2019-02-06T07:00:47.038Z"
    }
   },
   "outputs": [],
   "source": [
    "hinton(L_full_maker(res.x, dt))"
   ]
  },
  {
   "cell_type": "code",
   "execution_count": null,
   "metadata": {
    "ExecuteTime": {
     "end_time": "2019-02-06T07:29:10.846679Z",
     "start_time": "2019-02-06T07:00:47.578Z"
    }
   },
   "outputs": [],
   "source": [
    "L_full_maker(res.x, dt)"
   ]
  },
  {
   "cell_type": "markdown",
   "metadata": {},
   "source": [
    "# Running stuff"
   ]
  },
  {
   "cell_type": "markdown",
   "metadata": {},
   "source": [
    "### Try1"
   ]
  },
  {
   "cell_type": "code",
   "execution_count": 114,
   "metadata": {
    "ExecuteTime": {
     "end_time": "2019-01-30T06:45:43.171838Z",
     "start_time": "2019-01-30T06:45:43.167976Z"
    }
   },
   "outputs": [],
   "source": [
    "total_time = pi/omega_1\n",
    "epsilon = 10**(-6)\n",
    "max_iter = 10#10**4#1000#100#50#20\n",
    "time_steps = 20\n",
    "dt = total_time/time_steps"
   ]
  },
  {
   "cell_type": "code",
   "execution_count": 8,
   "metadata": {
    "ExecuteTime": {
     "end_time": "2019-02-05T06:46:25.461270Z",
     "start_time": "2019-02-05T06:46:24.809463Z"
    }
   },
   "outputs": [
    {
     "data": {
      "text/plain": [
       "(<Figure size 576x432 with 2 Axes>,\n",
       " <matplotlib.axes._subplots.AxesSubplot at 0x1163cf6a0>)"
      ]
     },
     "execution_count": 8,
     "metadata": {},
     "output_type": "execute_result"
    },
    {
     "data": {
      "image/png": "[encoded data removed]",
      "text/plain": [
       "<Figure size 576x432 with 2 Axes>"
      ]
     },
     "metadata": {},
     "output_type": "display_data"
    }
   ],
   "source": [
    "hinton(T)"
   ]
  },
  {
   "cell_type": "code",
   "execution_count": 115,
   "metadata": {
    "ExecuteTime": {
     "end_time": "2019-01-30T06:45:44.896037Z",
     "start_time": "2019-01-30T06:45:43.880469Z"
    }
   },
   "outputs": [
    {
     "data": {
      "text/plain": [
       "array([253.12809151+0.j, 843.88141913+0.j, 670.69241692+0.j,\n",
       "       924.100077  +0.j, 342.69688787+0.j, 123.45758492+0.j,\n",
       "       879.26165155+0.j, 520.4459173 +0.j, 339.72130347+0.j,\n",
       "       984.45194508+0.j,  64.74984188+0.j,  81.10046078+0.j,\n",
       "         2.82873766+0.j, 265.22266621+0.j, 207.7809171 +0.j,\n",
       "       834.24591251+0.j, 964.13437576+0.j, 875.54876982+0.j,\n",
       "       129.61146026+0.j, 466.77550287+0.j])"
      ]
     },
     "execution_count": 115,
     "metadata": {},
     "output_type": "execute_result"
    }
   ],
   "source": [
    "xi_opt = terminator(max_iter, time_steps, total_time, epsilon)\n",
    "xi_opt"
   ]
  },
  {
   "cell_type": "code",
   "execution_count": 117,
   "metadata": {
    "ExecuteTime": {
     "end_time": "2019-01-30T06:46:10.139616Z",
     "start_time": "2019-01-30T06:46:10.095029Z"
    }
   },
   "outputs": [
    {
     "data": {
      "text/plain": [
       "-3.9789212334927573"
      ]
     },
     "execution_count": 117,
     "metadata": {},
     "output_type": "execute_result"
    }
   ],
   "source": [
    "F(xi_opt, dt)"
   ]
  },
  {
   "cell_type": "code",
   "execution_count": 118,
   "metadata": {
    "ExecuteTime": {
     "end_time": "2019-01-30T06:46:12.131167Z",
     "start_time": "2019-01-30T06:46:12.126804Z"
    }
   },
   "outputs": [
    {
     "data": {
      "text/plain": [
       "10"
      ]
     },
     "execution_count": 118,
     "metadata": {},
     "output_type": "execute_result"
    }
   ],
   "source": [
    "max_iter"
   ]
  },
  {
   "cell_type": "code",
   "execution_count": 120,
   "metadata": {
    "ExecuteTime": {
     "end_time": "2019-01-30T06:46:27.176473Z",
     "start_time": "2019-01-30T06:46:27.167332Z"
    }
   },
   "outputs": [
    {
     "data": {
      "text/latex": [
       "Quantum object: dims = [[2, 2], [2, 2]], shape = (4, 4), type = oper, isherm = True\\begin{equation*}\\left(\\begin{array}{*{11}c}0.0 & 0.0 & 0.0 & 1.0\\\\0.0 & 0.0 & 1.0 & 0.0\\\\0.0 & 1.0 & 0.0 & 0.0\\\\1.0 & 0.0 & 0.0 & 0.0\\\\\\end{array}\\right)\\end{equation*}"
      ],
      "text/plain": [
       "Quantum object: dims = [[2, 2], [2, 2]], shape = (4, 4), type = oper, isherm = True\n",
       "Qobj data =\n",
       "[[0. 0. 0. 1.]\n",
       " [0. 0. 1. 0.]\n",
       " [0. 1. 0. 0.]\n",
       " [1. 0. 0. 0.]]"
      ]
     },
     "execution_count": 120,
     "metadata": {},
     "output_type": "execute_result"
    }
   ],
   "source": [
    "T"
   ]
  },
  {
   "cell_type": "code",
   "execution_count": 122,
   "metadata": {
    "ExecuteTime": {
     "end_time": "2019-01-30T06:46:41.642530Z",
     "start_time": "2019-01-30T06:46:41.594029Z"
    }
   },
   "outputs": [
    {
     "data": {
      "text/latex": [
       "Quantum object: dims = [[2, 2], [2, 2]], shape = (4, 4), type = oper, isherm = False\\begin{equation*}\\left(\\begin{array}{*{11}c}0.282 & (-0.160-0.009j) & (-0.160+0.009j) & 0.718\\\\(0.143-0.050j) & (-0.054+0.003j) & (-0.303+0.177j) & (-0.143+0.050j)\\\\(0.143+0.050j) & (-0.303-0.177j) & (-0.054-0.003j) & (-0.143-0.050j)\\\\0.718 & (0.160+0.009j) & (0.160-0.009j) & 0.282\\\\\\end{array}\\right)\\end{equation*}"
      ],
      "text/plain": [
       "Quantum object: dims = [[2, 2], [2, 2]], shape = (4, 4), type = oper, isherm = False\n",
       "Qobj data =\n",
       "[[ 0.28233594+0.j         -0.16005333-0.00893544j -0.16005333+0.00893544j\n",
       "   0.71766406+0.j        ]\n",
       " [ 0.14342862-0.05006893j -0.05447685+0.00321831j -0.30317032+0.17678044j\n",
       "  -0.14342862+0.05006893j]\n",
       " [ 0.14342862+0.05006893j -0.30317032-0.17678044j -0.05447685-0.00321831j\n",
       "  -0.14342862-0.05006893j]\n",
       " [ 0.71766406+0.j          0.16005333+0.00893544j  0.16005333-0.00893544j\n",
       "   0.28233594+0.j        ]]"
      ]
     },
     "execution_count": 122,
     "metadata": {},
     "output_type": "execute_result"
    }
   ],
   "source": [
    "L_full_maker(xi_opt, dt)"
   ]
  },
  {
   "cell_type": "code",
   "execution_count": 123,
   "metadata": {
    "ExecuteTime": {
     "end_time": "2019-01-30T06:47:10.034488Z",
     "start_time": "2019-01-30T06:47:09.148914Z"
    }
   },
   "outputs": [
    {
     "data": {
      "text/plain": [
       "(<Figure size 576x432 with 2 Axes>,\n",
       " <matplotlib.axes._subplots.AxesSubplot at 0x1a1b792400>)"
      ]
     },
     "execution_count": 123,
     "metadata": {},
     "output_type": "execute_result"
    },
    {
     "data": {
      "image/png": "[encoded data removed]",
      "text/plain": [
       "<Figure size 576x432 with 2 Axes>"
      ]
     },
     "metadata": {},
     "output_type": "display_data"
    }
   ],
   "source": [
    "hinton(L_full_maker(xi_opt, dt))"
   ]
  },
  {
   "cell_type": "markdown",
   "metadata": {},
   "source": []
  },
  {
   "cell_type": "markdown",
   "metadata": {},
   "source": [
    "# Next chapter"
   ]
  },
  {
   "cell_type": "markdown",
   "metadata": {},
   "source": [
    "## memory clear (uses regex, so be careful)"
   ]
  },
  {
   "cell_type": "code",
   "execution_count": 7,
   "metadata": {
    "ExecuteTime": {
     "end_time": "2019-01-31T17:50:51.925936Z",
     "start_time": "2019-01-31T17:50:51.921119Z"
    }
   },
   "outputs": [],
   "source": [
    "%reset_selective -f var1, var2  # replace var1, var2 with your defined ones"
   ]
  },
  {
   "cell_type": "markdown",
   "metadata": {},
   "source": [
    "## sub topic 2"
   ]
  },
  {
   "cell_type": "code",
   "execution_count": 8,
   "metadata": {
    "ExecuteTime": {
     "end_time": "2019-01-31T17:50:53.448827Z",
     "start_time": "2019-01-31T17:50:53.441308Z"
    }
   },
   "outputs": [
    {
     "data": {
      "text/latex": [
       "Quantum object: dims = [[2, 2], [2, 2]], shape = (4, 4), type = oper, isherm = True\\begin{equation*}\\left(\\begin{array}{*{11}c}1.0 & 0.0 & 0.0 & 0.0\\\\0.0 & 1.0 & 0.0 & 0.0\\\\0.0 & 0.0 & 0.0 & 1.0\\\\0.0 & 0.0 & 1.0 & 0.0\\\\\\end{array}\\right)\\end{equation*}"
      ],
      "text/plain": [
       "Quantum object: dims = [[2, 2], [2, 2]], shape = (4, 4), type = oper, isherm = True\n",
       "Qobj data =\n",
       "[[1. 0. 0. 0.]\n",
       " [0. 1. 0. 0.]\n",
       " [0. 0. 0. 1.]\n",
       " [0. 0. 1. 0.]]"
      ]
     },
     "execution_count": 8,
     "metadata": {},
     "output_type": "execute_result"
    }
   ],
   "source": [
    "cnot()"
   ]
  },
  {
   "cell_type": "markdown",
   "metadata": {},
   "source": [
    "## sub topic 3"
   ]
  },
  {
   "cell_type": "markdown",
   "metadata": {},
   "source": [
    "### sub sub topic 1"
   ]
  },
  {
   "cell_type": "code",
   "execution_count": null,
   "metadata": {},
   "outputs": [],
   "source": []
  },
  {
   "cell_type": "code",
   "execution_count": null,
   "metadata": {},
   "outputs": [],
   "source": []
  },
  {
   "cell_type": "code",
   "execution_count": null,
   "metadata": {},
   "outputs": [],
   "source": []
  },
  {
   "cell_type": "code",
   "execution_count": null,
   "metadata": {},
   "outputs": [],
   "source": []
  }
 ],
 "metadata": {
  "kernelspec": {
   "display_name": "Python 3",
   "language": "python",
   "name": "python3"
  },
  "language_info": {
   "codemirror_mode": {
    "name": "ipython",
    "version": 3
   },
   "file_extension": ".py",
   "mimetype": "text/x-python",
   "name": "python",
   "nbconvert_exporter": "python",
   "pygments_lexer": "ipython3",
   "version": "3.6.8"
  },
  "toc": {
   "base_numbering": 1,
   "nav_menu": {},
   "number_sections": true,
   "sideBar": true,
   "skip_h1_title": false,
   "title_cell": "Table of Contents",
   "title_sidebar": "Contents",
   "toc_cell": false,
   "toc_position": {},
   "toc_section_display": true,
   "toc_window_display": false
  }
 },
 "nbformat": 4,
 "nbformat_minor": 2
}
