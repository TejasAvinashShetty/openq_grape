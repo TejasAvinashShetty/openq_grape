{
 "cells": [
  {
   "cell_type": "markdown",
   "metadata": {},
   "source": [
    "# Imports"
   ]
  },
  {
   "cell_type": "code",
   "execution_count": 5,
   "metadata": {
    "ExecuteTime": {
     "end_time": "2019-01-31T03:20:14.976890Z",
     "start_time": "2019-01-31T03:20:13.172869Z"
    }
   },
   "outputs": [],
   "source": [
    "\n",
    "# coding: utf-8\n",
    "\n",
    "# # Imports\n",
    "\n",
    "# ## Qutip imports 1\n",
    "\n",
    "# In[1]:\n",
    "\n",
    "\n",
    "from qutip.operators import sigmax, sigmay, sigmaz, identity\n",
    "# position, momentum, num, create, destroy, commutator, qeye \n",
    "from qutip.tensor import tensor\n",
    "from qutip.qip.gates import swap, rx, ry, rz\n",
    "from qutip.qobj import Qobj\n",
    "from qutip.visualization import hinton\n",
    "from qutip.visualization import matrix_histogram_complex, matrix_histogram\n",
    "from qutip.random_objects import rand_herm, rand_unitary, rand_dm\n",
    "\n",
    "\n",
    "# ## Qutip imports 2\n",
    "\n",
    "# In[2]:\n",
    "\n",
    "\n",
    "#from \n",
    "\n",
    "\n",
    "# ## Numpy imports \n",
    "\n",
    "# In[2]:\n",
    "\n",
    "\n",
    "from numpy import sin, cos, tan, real, imag,  log, conj\n",
    "from numpy import array, append, linspace, arange\n",
    "from numpy import add, sqrt, abs, dot\n",
    "from numpy.random import random, random_sample, rand, seed, RandomState\n",
    "from numpy import concatenate, trace, diag\n",
    "from numpy import ones, zeros, ones_like, zeros_like\n",
    "from numpy import amax, amin, nanmax, nanmin\n",
    "from numpy import outer, multiply\n",
    "# from numpy import pi\n",
    "\n",
    "\n",
    "# ## Scipy imports\n",
    "\n",
    "# In[17]:\n",
    "\n",
    "\n",
    "from scipy.integrate import ode, odeint, complex_ode\n",
    "from scipy.optimize import minimize\n",
    "from scipy.linalg import eigh, inv, norm, expm\n",
    "# from scipy.linalg import \n",
    "# from scipy import\n",
    "\n",
    "\n",
    "# ## Matplotlib imports\n",
    "\n",
    "# In[18]:\n",
    "\n",
    "\n",
    "from matplotlib.pyplot import plot, figure, show, savefig, axes\n",
    "from matplotlib.pyplot import xlabel, ylabel, title, legend\n",
    "from matplotlib import rcParams\n",
    "from matplotlib.pyplot import style \n",
    "from matplotlib.pyplot import xlim, ylim, axis \n",
    "# beware not same as axes\n",
    "from matplotlib.pyplot import subplot, subplots, text\n",
    "from matplotlib.pyplot import GridSpec\n",
    "from matplotlib.pyplot import scatter, colorbar\n",
    "\n",
    "\n",
    "pgf_with_rc_fonts = {\"pgf.texsystem\": \"pdflatex\"}\n",
    "rcParams.update(pgf_with_rc_fonts)\n",
    "style.use('seaborn-whitegrid')\n",
    "\n",
    "\n",
    "# ## Math imports\n",
    "\n",
    "# In[19]:\n",
    "\n",
    "\n",
    "from math import pi\n",
    "from math import exp\n",
    "\n",
    "\n",
    "# ## Cmath imports\n",
    "\n",
    "# ## Date and datetime imports\n",
    "\n",
    "# In[20]:\n",
    "\n",
    "\n",
    "from datetime import date\n",
    "from datetime import datetime# now\n",
    "\n",
    "\n",
    "# ## Os imports\n",
    "\n",
    "# In[21]:\n",
    "\n",
    "\n",
    "from os import getcwd, mkdir, chdir\n",
    "from os.path import abspath, join \n",
    "\n",
    "\n",
    "# ## Sympy imports\n",
    "\n",
    "# In[22]:\n",
    "\n",
    "\n",
    "from sympy import Function, dsolve, Eq, Derivative, symbols\n",
    "# x, y, z, t = symbols('x y z t')\n",
    "# k, m, n = symbols('k m n', integer=True)\n",
    "# f, g, h = symbols('f g h', cls=Function)\n",
    "\n",
    "\n",
    "# ## Miscellaneous imports\n",
    "\n",
    "# ## Extra useful functions\n",
    "\n",
    "# In[23]:\n",
    "\n",
    "\n",
    "def rint(x):\n",
    "    print(\"x = \", x)\n",
    "    return None\n",
    "\n",
    "\n",
    "# # Next chapter\n",
    "\n",
    "# ## sub topic 1\n",
    "\n",
    "# ## sub topic 2\n",
    "\n",
    "# ## sub topic 3\n",
    "\n",
    "# ### sub sub topic 1\n",
    "\n"
   ]
  },
  {
   "cell_type": "markdown",
   "metadata": {},
   "source": [
    "# The code"
   ]
  },
  {
   "cell_type": "markdown",
   "metadata": {},
   "source": [
    "## memory wiping"
   ]
  },
  {
   "cell_type": "code",
   "execution_count": 6,
   "metadata": {
    "ExecuteTime": {
     "end_time": "2019-01-31T03:20:14.982310Z",
     "start_time": "2019-01-31T03:20:14.978615Z"
    }
   },
   "outputs": [],
   "source": [
    "%reset_selective -f  omega_1, total_time, epsilon, max_iter, time_steps, dt"
   ]
  },
  {
   "cell_type": "code",
   "execution_count": 7,
   "metadata": {
    "ExecuteTime": {
     "end_time": "2019-01-31T03:20:14.987342Z",
     "start_time": "2019-01-31T03:20:14.984132Z"
    }
   },
   "outputs": [],
   "source": [
    "%reset_selective -f  Lin, T_s, I"
   ]
  },
  {
   "cell_type": "markdown",
   "metadata": {},
   "source": [
    "## Building parts"
   ]
  },
  {
   "cell_type": "markdown",
   "metadata": {},
   "source": [
    "### Building the things to be calculated only once"
   ]
  },
  {
   "cell_type": "code",
   "execution_count": 8,
   "metadata": {
    "ExecuteTime": {
     "end_time": "2019-01-31T03:20:15.154781Z",
     "start_time": "2019-01-31T03:20:15.146972Z"
    },
    "code_folding": []
   },
   "outputs": [],
   "source": [
    "def maker(omega_1, H_0, H_1, T_s, Lin, d=2, gamma=0.1):\n",
    "    r\"\"\"maker\n",
    "    Makes all the things that remain constant throught the program, but are \n",
    "    repeatedly used.\n",
    "    \n",
    "\n",
    "    Parameters\n",
    "    ----------\n",
    "    omega_1 : float\n",
    "              frequency corresponding to half of the difference between \n",
    "              energy levels of the qubit\n",
    "              \n",
    "    H_0     : Qobj\n",
    "              Bare Hamiltonian \n",
    "              \n",
    "    H_1     : Qobj\n",
    "              Interaction Hamiltonian \n",
    "              \n",
    "    T_s     : Qobj\n",
    "              Unitary to be implemented in the Hilbert space\n",
    "    \n",
    "    Lin     : Qobj\n",
    "              Linbladian operators\n",
    "\n",
    "    d       : int\n",
    "              Dimension of the matrix. Defaults to 2\n",
    "    \n",
    "    gamma   : float\n",
    "              Damping constantof the Linbladian\n",
    "\n",
    "    \n",
    "    Returns\n",
    "    -------\n",
    "    \n",
    "    ih0     : Qobj\n",
    "              $I\\otimes H_{0}$\n",
    "              \n",
    "    ih1     : Qobj\n",
    "              $I\\otimes H_{1}$\n",
    "\n",
    "    h0ci    : Qobj\n",
    "              $H_{0}^{*}\\otimes I $\n",
    "\n",
    "    h1ci    : Qobj\n",
    "              $H_{1}^{*}\\otimes I $\n",
    "\n",
    "    T       : Qobj\n",
    "              Target unitary transformed to the Liouville space\n",
    "\n",
    "    linbladian : Qobj\n",
    "                 The full lindbladian term as it appears on transformation to \n",
    "                 the Liouville space.\n",
    "        \n",
    "    \"\"\"\n",
    "    I = identity(d)\n",
    "    L_I = tensor(I, I)\n",
    "    ih0 = tensor(I, H_0) \n",
    "    ih1 = tensor(I, H_1) \n",
    "    h0ci = tensor(H_0.conj(), I) \n",
    "    h1ci = tensor(H_1.conj(), I)\n",
    "    x_k = ih1 - h1ci\n",
    "    term1 = tensor(Lin.trans(), Lin)\n",
    "    term2 = tensor(I, ((Lin.dag())*(Lin)))\n",
    "    term3 = tensor(((Lin.trans())*(Lin.conj())), I)\n",
    "    lindbladian = 1j*(gamma)*(term1 - 0.5*(term2 + term3))\n",
    "    T = tensor(T_s.trans(), T_s) # Transforming $T_{s}$ to liouville space\n",
    "    \n",
    "    \n",
    "    return ih0, ih1, h0ci, h1ci, x_k, lindbladian, T, L_I"
   ]
  },
  {
   "cell_type": "code",
   "execution_count": 9,
   "metadata": {
    "ExecuteTime": {
     "end_time": "2019-01-31T03:20:15.450424Z",
     "start_time": "2019-01-31T03:20:15.440608Z"
    }
   },
   "outputs": [],
   "source": [
    "omega_1 = 0.5\n",
    "H_0 = sigmaz() \n",
    "H_1 = sigmay()\n",
    "T_s = sigmax() \n",
    "Lin = sigmaz()\n",
    "ih0, ih1, h0ci, h1ci, x_k, lindbladian, T, L_I  = maker(omega_1,\n",
    "                                                  H_0, H_1, T_s, \n",
    "                                                  Lin, d=2, gamma=0.1)"
   ]
  },
  {
   "cell_type": "code",
   "execution_count": 10,
   "metadata": {
    "ExecuteTime": {
     "end_time": "2019-01-31T03:20:15.746094Z",
     "start_time": "2019-01-31T03:20:15.737374Z"
    }
   },
   "outputs": [
    {
     "data": {
      "text/latex": [
       "Quantum object: dims = [[2, 2], [2, 2]], shape = (4, 4), type = oper, isherm = True\\begin{equation*}\\left(\\begin{array}{*{11}c}1.0 & 0.0 & 0.0 & 0.0\\\\0.0 & 1.0 & 0.0 & 0.0\\\\0.0 & 0.0 & 1.0 & 0.0\\\\0.0 & 0.0 & 0.0 & 1.0\\\\\\end{array}\\right)\\end{equation*}"
      ],
      "text/plain": [
       "Quantum object: dims = [[2, 2], [2, 2]], shape = (4, 4), type = oper, isherm = True\n",
       "Qobj data =\n",
       "[[1. 0. 0. 0.]\n",
       " [0. 1. 0. 0.]\n",
       " [0. 0. 1. 0.]\n",
       " [0. 0. 0. 1.]]"
      ]
     },
     "execution_count": 10,
     "metadata": {},
     "output_type": "execute_result"
    }
   ],
   "source": [
    "L_I"
   ]
  },
  {
   "cell_type": "markdown",
   "metadata": {},
   "source": [
    "### Building $A(t)$"
   ]
  },
  {
   "cell_type": "code",
   "execution_count": 11,
   "metadata": {
    "ExecuteTime": {
     "end_time": "2019-01-31T03:20:16.327115Z",
     "start_time": "2019-01-31T03:20:16.324245Z"
    }
   },
   "outputs": [],
   "source": [
    "def A(xi):\n",
    "    r\"\"\"making $A(t)$\"\"\"\n",
    "    A = ih0 - h0ci + xi*(ih1 - h1ci) #+ lindbladian\n",
    "    return A"
   ]
  },
  {
   "cell_type": "code",
   "execution_count": 12,
   "metadata": {
    "ExecuteTime": {
     "end_time": "2019-01-31T03:20:16.630734Z",
     "start_time": "2019-01-31T03:20:16.620753Z"
    }
   },
   "outputs": [
    {
     "data": {
      "text/latex": [
       "Quantum object: dims = [[2, 2], [2, 2]], shape = (4, 4), type = oper, isherm = True\\begin{equation*}\\left(\\begin{array}{*{11}c}0.0 & -0.500j & -0.500j & 0.0\\\\0.500j & -2.0 & 0.0 & -0.500j\\\\0.500j & 0.0 & 2.0 & -0.500j\\\\0.0 & 0.500j & 0.500j & 0.0\\\\\\end{array}\\right)\\end{equation*}"
      ],
      "text/plain": [
       "Quantum object: dims = [[2, 2], [2, 2]], shape = (4, 4), type = oper, isherm = True\n",
       "Qobj data =\n",
       "[[ 0.+0.j   0.-0.5j  0.-0.5j  0.+0.j ]\n",
       " [ 0.+0.5j -2.+0.j   0.+0.j   0.-0.5j]\n",
       " [ 0.+0.5j  0.+0.j   2.+0.j   0.-0.5j]\n",
       " [ 0.+0.j   0.+0.5j  0.+0.5j  0.+0.j ]]"
      ]
     },
     "execution_count": 12,
     "metadata": {},
     "output_type": "execute_result"
    }
   ],
   "source": [
    "A(0.5)"
   ]
  },
  {
   "cell_type": "markdown",
   "metadata": {},
   "source": [
    "### Building $L(t)$ and the Identity in the Liouville space"
   ]
  },
  {
   "cell_type": "code",
   "execution_count": 13,
   "metadata": {
    "ExecuteTime": {
     "end_time": "2019-01-31T03:20:17.231352Z",
     "start_time": "2019-01-31T03:20:17.228706Z"
    }
   },
   "outputs": [],
   "source": [
    "def L(xi, dt):\n",
    "    r\"\"\"Making $L(t) from $A(t)$\"\"\"\n",
    "    L = (-1j*A(xi)*dt).expm()\n",
    "    return L"
   ]
  },
  {
   "cell_type": "code",
   "execution_count": 14,
   "metadata": {
    "ExecuteTime": {
     "end_time": "2019-01-31T03:20:17.844544Z",
     "start_time": "2019-01-31T03:20:17.578003Z"
    }
   },
   "outputs": [
    {
     "data": {
      "text/latex": [
       "Quantum object: dims = [[2, 2], [2, 2]], shape = (4, 4), type = oper, isherm = False\\begin{equation*}\\left(\\begin{array}{*{11}c}1.000 & (-5.000\\times10^{-04}-5.000\\times10^{-07}j) & (-5.000\\times10^{-04}+5.000\\times10^{-07}j) & 2.500\\times10^{-07}\\\\(5.000\\times10^{-04}+5.000\\times10^{-07}j) & (1.000+0.002j) & -2.500\\times10^{-07} & (-5.000\\times10^{-04}-5.000\\times10^{-07}j)\\\\(5.000\\times10^{-04}-5.000\\times10^{-07}j) & -2.500\\times10^{-07} & (1.000-0.002j) & (-5.000\\times10^{-04}+5.000\\times10^{-07}j)\\\\2.500\\times10^{-07} & (5.000\\times10^{-04}+5.000\\times10^{-07}j) & (5.000\\times10^{-04}-5.000\\times10^{-07}j) & 1.000\\\\\\end{array}\\right)\\end{equation*}"
      ],
      "text/plain": [
       "Quantum object: dims = [[2, 2], [2, 2]], shape = (4, 4), type = oper, isherm = False\n",
       "Qobj data =\n",
       "[[ 9.99999750e-01+0.00000000e+00j -4.99999583e-04-4.99999792e-07j\n",
       "  -4.99999583e-04+4.99999792e-07j  2.49999896e-07+0.00000000e+00j]\n",
       " [ 4.99999583e-04+4.99999792e-07j  9.99997750e-01+1.99999833e-03j\n",
       "  -2.49999896e-07+0.00000000e+00j -4.99999583e-04-4.99999792e-07j]\n",
       " [ 4.99999583e-04-4.99999792e-07j -2.49999896e-07+0.00000000e+00j\n",
       "   9.99997750e-01-1.99999833e-03j -4.99999583e-04+4.99999792e-07j]\n",
       " [ 2.49999896e-07+0.00000000e+00j  4.99999583e-04+4.99999792e-07j\n",
       "   4.99999583e-04-4.99999792e-07j  9.99999750e-01+0.00000000e+00j]]"
      ]
     },
     "execution_count": 14,
     "metadata": {},
     "output_type": "execute_result"
    }
   ],
   "source": [
    "L(0.5, 0.001)"
   ]
  },
  {
   "cell_type": "markdown",
   "metadata": {},
   "source": [
    "## Major functions"
   ]
  },
  {
   "cell_type": "markdown",
   "metadata": {},
   "source": [
    "### Major functions 1"
   ]
  },
  {
   "cell_type": "code",
   "execution_count": 15,
   "metadata": {
    "ExecuteTime": {
     "end_time": "2019-01-31T03:20:22.378594Z",
     "start_time": "2019-01-31T03:20:22.375253Z"
    }
   },
   "outputs": [],
   "source": [
    "# building the function to optimize (optimizee)\n",
    "def L_vec(xi_vec, dt):\n",
    "    r\"\"\"Building the vector of differential $L(t)$\"\"\"\n",
    "    L_vec = [L(xi, dt) for xi in xi_vec] \n",
    "    return L_vec"
   ]
  },
  {
   "cell_type": "code",
   "execution_count": 16,
   "metadata": {
    "ExecuteTime": {
     "end_time": "2019-01-31T03:20:22.697053Z",
     "start_time": "2019-01-31T03:20:22.693672Z"
    }
   },
   "outputs": [],
   "source": [
    "def fidelity_calc(A, B):\n",
    "    r\"\"\"Making a generalised fidelity function\"\"\"\n",
    "    first_part = (A - B).dag()\n",
    "    second_part = (A - B)\n",
    "    f_int = (first_part* second_part)\n",
    "    f = f_int.tr()\n",
    "    return f"
   ]
  },
  {
   "cell_type": "code",
   "execution_count": 17,
   "metadata": {
    "ExecuteTime": {
     "end_time": "2019-01-31T03:20:22.997592Z",
     "start_time": "2019-01-31T03:20:22.994674Z"
    }
   },
   "outputs": [],
   "source": [
    "def L_full_maker(xi_vec, dt):\n",
    "    r\"\"\"Building the $L(t)$ for the total time $t$\"\"\"\n",
    "    xi_vec_size = xi_vec.size # finding the size of xi\n",
    "    L_full = L_I # Identity for the for loop of L\n",
    "    L_v = L_vec(xi_vec, dt) # calling L_vec\n",
    "    for i in range(xi_vec_size): # generating L_full\n",
    "        L_full = L_full*L_v[xi_vec_size - 1 - i]\n",
    "    return L_full"
   ]
  },
  {
   "cell_type": "code",
   "execution_count": 18,
   "metadata": {
    "ExecuteTime": {
     "end_time": "2019-01-31T03:20:29.649435Z",
     "start_time": "2019-01-31T03:20:29.645582Z"
    }
   },
   "outputs": [],
   "source": [
    "def F(xi_vec, dt):\n",
    "    r\"\"\"Using the fidelity metric to find out the closeness between $T$\n",
    "    and $L(t)$\"\"\"\n",
    "    L_full = L_full_maker(xi_vec, dt)\n",
    "    F = real(-fidelity_calc(T, L_full))   \n",
    "    return F"
   ]
  },
  {
   "cell_type": "markdown",
   "metadata": {},
   "source": [
    "### Testing major functions 1"
   ]
  },
  {
   "cell_type": "code",
   "execution_count": 19,
   "metadata": {
    "ExecuteTime": {
     "end_time": "2019-01-31T03:20:30.630512Z",
     "start_time": "2019-01-31T03:20:30.622457Z"
    }
   },
   "outputs": [
    {
     "data": {
      "text/plain": [
       "4.0"
      ]
     },
     "execution_count": 19,
     "metadata": {},
     "output_type": "execute_result"
    }
   ],
   "source": [
    "fidelity_calc(sigmax(), sigmay())"
   ]
  },
  {
   "cell_type": "code",
   "execution_count": 20,
   "metadata": {
    "ExecuteTime": {
     "end_time": "2019-01-31T03:20:31.372087Z",
     "start_time": "2019-01-31T03:20:31.366035Z"
    }
   },
   "outputs": [
    {
     "data": {
      "text/plain": [
       "0.0"
      ]
     },
     "execution_count": 20,
     "metadata": {},
     "output_type": "execute_result"
    }
   ],
   "source": [
    "fidelity_calc(sigmay(), sigmay())"
   ]
  },
  {
   "cell_type": "code",
   "execution_count": 21,
   "metadata": {
    "ExecuteTime": {
     "end_time": "2019-01-31T03:20:31.859089Z",
     "start_time": "2019-01-31T03:20:31.852430Z"
    }
   },
   "outputs": [
    {
     "data": {
      "text/plain": [
       "array([1., 2.])"
      ]
     },
     "execution_count": 21,
     "metadata": {},
     "output_type": "execute_result"
    }
   ],
   "source": [
    "xi_vec_test = array([1.0, 2.0])\n",
    "xi_vec_test"
   ]
  },
  {
   "cell_type": "code",
   "execution_count": 22,
   "metadata": {
    "ExecuteTime": {
     "end_time": "2019-01-31T03:20:32.225233Z",
     "start_time": "2019-01-31T03:20:32.217988Z"
    }
   },
   "outputs": [
    {
     "data": {
      "text/plain": [
       "2"
      ]
     },
     "execution_count": 22,
     "metadata": {},
     "output_type": "execute_result"
    }
   ],
   "source": [
    "xi_vec_test.size"
   ]
  },
  {
   "cell_type": "code",
   "execution_count": 23,
   "metadata": {
    "ExecuteTime": {
     "end_time": "2019-01-31T03:20:32.592775Z",
     "start_time": "2019-01-31T03:20:32.586790Z"
    }
   },
   "outputs": [
    {
     "data": {
      "text/plain": [
       "[1.0, 4.0]"
      ]
     },
     "execution_count": 23,
     "metadata": {},
     "output_type": "execute_result"
    }
   ],
   "source": [
    "w_vec = [xi**2 for xi in xi_vec_test]\n",
    "w_vec"
   ]
  },
  {
   "cell_type": "code",
   "execution_count": 24,
   "metadata": {
    "ExecuteTime": {
     "end_time": "2019-01-31T03:20:32.975164Z",
     "start_time": "2019-01-31T03:20:32.962838Z"
    }
   },
   "outputs": [
    {
     "data": {
      "text/plain": [
       "-7.999999999992001"
      ]
     },
     "execution_count": 24,
     "metadata": {},
     "output_type": "execute_result"
    }
   ],
   "source": [
    "# F(xi_vec, dt)\n",
    "F(xi_vec_test, 0.001)"
   ]
  },
  {
   "cell_type": "code",
   "execution_count": 25,
   "metadata": {
    "ExecuteTime": {
     "end_time": "2019-01-31T03:20:33.353565Z",
     "start_time": "2019-01-31T03:20:33.344107Z"
    }
   },
   "outputs": [],
   "source": [
    "L_v = L_vec(xi_vec_test, 0.001)"
   ]
  },
  {
   "cell_type": "code",
   "execution_count": 26,
   "metadata": {
    "ExecuteTime": {
     "end_time": "2019-01-31T03:20:33.965065Z",
     "start_time": "2019-01-31T03:20:33.959611Z"
    }
   },
   "outputs": [
    {
     "data": {
      "text/plain": [
       "[Quantum object: dims = [[2, 2], [2, 2]], shape = (4, 4), type = oper, isherm = False\n",
       " Qobj data =\n",
       " [[ 9.99999000e-01+0.00000000e+00j -9.99998667e-04-9.99999333e-07j\n",
       "   -9.99998667e-04+9.99999333e-07j  9.99999333e-07+0.00000000e+00j]\n",
       "  [ 9.99998667e-04+9.99999333e-07j  9.99997000e-01+1.99999733e-03j\n",
       "   -9.99999333e-07+0.00000000e+00j -9.99998667e-04-9.99999333e-07j]\n",
       "  [ 9.99998667e-04-9.99999333e-07j -9.99999333e-07+0.00000000e+00j\n",
       "    9.99997000e-01-1.99999733e-03j -9.99998667e-04+9.99999333e-07j]\n",
       "  [ 9.99999333e-07+0.00000000e+00j  9.99998667e-04+9.99999333e-07j\n",
       "    9.99998667e-04-9.99999333e-07j  9.99999000e-01+0.00000000e+00j]],\n",
       " Quantum object: dims = [[2, 2], [2, 2]], shape = (4, 4), type = oper, isherm = False\n",
       " Qobj data =\n",
       " [[ 9.99996000e-01+0.00000000e+00j -1.99999333e-03-1.99999667e-06j\n",
       "   -1.99999333e-03+1.99999667e-06j  3.99999333e-06+0.00000000e+00j]\n",
       "  [ 1.99999333e-03+1.99999667e-06j  9.99994000e-01+1.99999333e-03j\n",
       "   -3.99999333e-06+0.00000000e+00j -1.99999333e-03-1.99999667e-06j]\n",
       "  [ 1.99999333e-03-1.99999667e-06j -3.99999333e-06+0.00000000e+00j\n",
       "    9.99994000e-01-1.99999333e-03j -1.99999333e-03+1.99999667e-06j]\n",
       "  [ 3.99999333e-06+0.00000000e+00j  1.99999333e-03+1.99999667e-06j\n",
       "    1.99999333e-03-1.99999667e-06j  9.99996000e-01+0.00000000e+00j]]]"
      ]
     },
     "execution_count": 26,
     "metadata": {},
     "output_type": "execute_result"
    }
   ],
   "source": [
    "L_v"
   ]
  },
  {
   "cell_type": "markdown",
   "metadata": {},
   "source": [
    "### Major Functions 2"
   ]
  },
  {
   "cell_type": "code",
   "execution_count": 27,
   "metadata": {
    "ExecuteTime": {
     "end_time": "2019-01-31T03:20:34.697476Z",
     "start_time": "2019-01-31T03:20:34.693536Z"
    }
   },
   "outputs": [],
   "source": [
    "def L_comma_k_maker(xi_vec, k, dt):\n",
    "    r\"\"\"Making of the derivative of full $L(t)$ at time $t_{k}$\"\"\"\n",
    "    N = xi_vec.size \n",
    "    # Determining the size of xi, and thus the time_steps indirectly.\n",
    "    L_v = L_vec(xi_vec, dt)# Making of the full $L(t)$\n",
    "    inner_part = L_I # Beginner for the for loop\n",
    "    for i in range(N):\n",
    "        if i == ( N - 1 - k ):\n",
    "            # The step at which $X_{k}(t)$ has to be inserted \n",
    "            inner_part = inner_part*x_k*L_v[k - 1]\n",
    "        else:\n",
    "            # Usual multiplications of $L_{k}$\n",
    "            inner_part = inner_part*L_v[N - 1 - i]\n",
    "    l_comma_k = inner_part\n",
    "    return l_comma_k\n",
    "    "
   ]
  },
  {
   "cell_type": "code",
   "execution_count": 28,
   "metadata": {
    "ExecuteTime": {
     "end_time": "2019-01-31T03:20:35.073195Z",
     "start_time": "2019-01-31T03:20:35.061360Z"
    }
   },
   "outputs": [
    {
     "data": {
      "text/latex": [
       "Quantum object: dims = [[2, 2], [2, 2]], shape = (4, 4), type = oper, isherm = False\\begin{equation*}\\left(\\begin{array}{*{11}c}1.000 & (-0.003-7.000\\times10^{-06}j) & (-0.003+7.000\\times10^{-06}j) & 9.000\\times10^{-06}\\\\(0.003+5.000\\times10^{-06}j) & (1.000+0.004j) & (-9.000\\times10^{-06}+6.000\\times10^{-09}j) & (-0.003-5.000\\times10^{-06}j)\\\\(0.003-5.000\\times10^{-06}j) & (-9.000\\times10^{-06}-6.000\\times10^{-09}j) & (1.000-0.004j) & (-0.003+5.000\\times10^{-06}j)\\\\9.000\\times10^{-06} & (0.003+7.000\\times10^{-06}j) & (0.003-7.000\\times10^{-06}j) & 1.000\\\\\\end{array}\\right)\\end{equation*}"
      ],
      "text/plain": [
       "Quantum object: dims = [[2, 2], [2, 2]], shape = (4, 4), type = oper, isherm = False\n",
       "Qobj data =\n",
       "[[ 9.999910e-01+0.00000000e+00j -2.999972e-03-6.99996533e-06j\n",
       "  -2.999972e-03+6.99996533e-06j  8.999962e-06+0.00000000e+00j]\n",
       " [ 2.999976e-03+4.99998067e-06j  9.999830e-01+3.99996467e-03j\n",
       "  -8.999960e-06+5.99998000e-09j -2.999976e-03-4.99998067e-06j]\n",
       " [ 2.999976e-03-4.99998067e-06j -8.999960e-06-5.99998000e-09j\n",
       "   9.999830e-01-3.99996467e-03j -2.999976e-03+4.99998067e-06j]\n",
       " [ 8.999962e-06+0.00000000e+00j  2.999972e-03+6.99996533e-06j\n",
       "   2.999972e-03-6.99996533e-06j  9.999910e-01+0.00000000e+00j]]"
      ]
     },
     "execution_count": 28,
     "metadata": {},
     "output_type": "execute_result"
    }
   ],
   "source": [
    "# L_comma_k_maker(xi_vec, k, dt)\n",
    "L_comma_k_maker(xi_vec_test, 2, 0.001)"
   ]
  },
  {
   "cell_type": "code",
   "execution_count": 29,
   "metadata": {
    "ExecuteTime": {
     "end_time": "2019-01-31T03:20:36.264982Z",
     "start_time": "2019-01-31T03:20:36.259532Z"
    }
   },
   "outputs": [],
   "source": [
    "def updater(xi_vec, dt, epsilon):\n",
    "    r\"\"\"Implementing the GRAPE update step\"\"\"\n",
    "    xi_vec_size = xi_vec.size # finding the size of xi\n",
    "    L_full = L_full_maker(xi_vec, dt)\n",
    "    di = []\n",
    "    for k in range(xi_vec_size):\n",
    "        # Building the thing to be added to the old function\n",
    "        L_comma_k = L_comma_k_maker(xi_vec, k, dt)\n",
    "        differentiated = T - L_comma_k\n",
    "        plain = T - L_full\n",
    "        c = -differentiated.dag()*plain\n",
    "        d = -plain.dag()*differentiated\n",
    "        inside = c.tr() + d.tr()\n",
    "        di.append(epsilon*inside)\n",
    "\n",
    "    diff = array(di)\n",
    "    xi_new_vec = xi_vec + diff\n",
    "    return diff, xi_new_vec\n",
    "    "
   ]
  },
  {
   "cell_type": "code",
   "execution_count": 30,
   "metadata": {
    "ExecuteTime": {
     "end_time": "2019-01-31T03:20:36.883599Z",
     "start_time": "2019-01-31T03:20:36.866981Z"
    }
   },
   "outputs": [
    {
     "data": {
      "text/plain": [
       "(array([-0.008+0.j, -0.008+0.j]), array([0.992+0.j, 1.992+0.j]))"
      ]
     },
     "execution_count": 30,
     "metadata": {},
     "output_type": "execute_result"
    }
   ],
   "source": [
    "#  updater(xi_vec, dt, epsilon)\n",
    "updater(xi_vec_test, 0.001, 0.001)"
   ]
  },
  {
   "cell_type": "code",
   "execution_count": 31,
   "metadata": {
    "ExecuteTime": {
     "end_time": "2019-01-31T03:20:37.432826Z",
     "start_time": "2019-01-31T03:20:37.428105Z"
    },
    "code_folding": []
   },
   "outputs": [],
   "source": [
    "def terminator(max_iter, time_steps, total_time, epsilon):\n",
    "    r\"\"\"Brief description of the function\"\"\"\n",
    "    \n",
    "    xi_initial =  1000*random_sample((time_steps,))\n",
    "    dt = total_time/time_steps\n",
    "    xi_diff, xi_new_vec = updater(xi_initial, dt, epsilon)\n",
    "    \n",
    "    for i in range(max_iter):\n",
    "        if amax(xi_diff) < epsilon**2 :\n",
    "            xi_final = xi_new_vec\n",
    "            break\n",
    "        else :\n",
    "            xi_diff, xi_new_vec = updater(xi_new_vec, dt, epsilon)\n",
    "            print(i)\n",
    "            print(amax(xi_diff))\n",
    "            \n",
    "        \n",
    "    xi_final = xi_new_vec    \n",
    "    return xi_final"
   ]
  },
  {
   "cell_type": "code",
   "execution_count": 32,
   "metadata": {
    "ExecuteTime": {
     "end_time": "2019-01-31T03:20:38.244944Z",
     "start_time": "2019-01-31T03:20:38.230124Z"
    },
    "code_folding": []
   },
   "outputs": [],
   "source": [
    "def terminator(max_iter, time_steps, total_time, epsilon):\n",
    "    r\"\"\"Brief description of the function\"\"\"\n",
    "    \n",
    "    xi_initial =  1000*random_sample((time_steps,))\n",
    "    dt = total_time/time_steps\n",
    "    xi_diff, xi_new_vec = updater(xi_initial, dt, epsilon)\n",
    "    \n",
    "    for i in range(max_iter):\n",
    "        if amax(xi_diff) < epsilon**2 :\n",
    "            xi_final = xi_new_vec\n",
    "            break\n",
    "        else :\n",
    "            xi_diff, xi_new_vec = updater(xi_new_vec, dt, epsilon)\n",
    "            print(i)\n",
    "            print(amax(xi_diff))\n",
    "            \n",
    "        \n",
    "    xi_final = xi_new_vec    \n",
    "    return xi_final"
   ]
  },
  {
   "cell_type": "markdown",
   "metadata": {},
   "source": [
    "# Running stuff"
   ]
  },
  {
   "cell_type": "markdown",
   "metadata": {},
   "source": [
    "### Try1"
   ]
  },
  {
   "cell_type": "code",
   "execution_count": 33,
   "metadata": {
    "ExecuteTime": {
     "end_time": "2019-01-31T03:20:44.169396Z",
     "start_time": "2019-01-31T03:20:44.165420Z"
    }
   },
   "outputs": [],
   "source": [
    "total_time = pi/omega_1\n",
    "epsilon = 10**(-6)\n",
    "max_iter = 10#10**4#1000#100#50#20\n",
    "time_steps = 20\n",
    "dt = total_time/time_steps"
   ]
  },
  {
   "cell_type": "code",
   "execution_count": 34,
   "metadata": {
    "ExecuteTime": {
     "end_time": "2019-01-31T03:20:45.342595Z",
     "start_time": "2019-01-31T03:20:44.646161Z"
    }
   },
   "outputs": [
    {
     "data": {
      "text/plain": [
       "array([661.13828966+0.j, 820.52212975+0.j, 739.21623602+0.j,\n",
       "       952.14462859+0.j, 226.28114742+0.j, 346.98384034+0.j,\n",
       "       838.05739008+0.j, 545.81316983+0.j, 205.11491357+0.j,\n",
       "       185.47207274+0.j,  78.08395794+0.j, 831.4225246 +0.j,\n",
       "       193.19242138+0.j, 954.26294687+0.j, 389.36452106+0.j,\n",
       "       842.05420004+0.j, 678.58866709+0.j, 267.73478635+0.j,\n",
       "       459.8638009 +0.j, 361.91991643+0.j])"
      ]
     },
     "execution_count": 34,
     "metadata": {},
     "output_type": "execute_result"
    }
   ],
   "source": [
    "xi_opt = terminator(max_iter, time_steps, total_time, epsilon)\n",
    "xi_opt"
   ]
  },
  {
   "cell_type": "code",
   "execution_count": 35,
   "metadata": {
    "ExecuteTime": {
     "end_time": "2019-01-31T03:20:45.389842Z",
     "start_time": "2019-01-31T03:20:45.345132Z"
    }
   },
   "outputs": [
    {
     "data": {
      "text/plain": [
       "-7.999943888442825"
      ]
     },
     "execution_count": 35,
     "metadata": {},
     "output_type": "execute_result"
    }
   ],
   "source": [
    "F(xi_opt, dt)"
   ]
  },
  {
   "cell_type": "code",
   "execution_count": 36,
   "metadata": {
    "ExecuteTime": {
     "end_time": "2019-01-31T03:20:45.493557Z",
     "start_time": "2019-01-31T03:20:45.489772Z"
    }
   },
   "outputs": [
    {
     "data": {
      "text/plain": [
       "10"
      ]
     },
     "execution_count": 36,
     "metadata": {},
     "output_type": "execute_result"
    }
   ],
   "source": [
    "max_iter"
   ]
  },
  {
   "cell_type": "code",
   "execution_count": 37,
   "metadata": {
    "ExecuteTime": {
     "end_time": "2019-01-31T03:20:46.008488Z",
     "start_time": "2019-01-31T03:20:46.001905Z"
    }
   },
   "outputs": [
    {
     "data": {
      "text/latex": [
       "Quantum object: dims = [[2, 2], [2, 2]], shape = (4, 4), type = oper, isherm = True\\begin{equation*}\\left(\\begin{array}{*{11}c}0.0 & 0.0 & 0.0 & 1.0\\\\0.0 & 0.0 & 1.0 & 0.0\\\\0.0 & 1.0 & 0.0 & 0.0\\\\1.0 & 0.0 & 0.0 & 0.0\\\\\\end{array}\\right)\\end{equation*}"
      ],
      "text/plain": [
       "Quantum object: dims = [[2, 2], [2, 2]], shape = (4, 4), type = oper, isherm = True\n",
       "Qobj data =\n",
       "[[0. 0. 0. 1.]\n",
       " [0. 0. 1. 0.]\n",
       " [0. 1. 0. 0.]\n",
       " [1. 0. 0. 0.]]"
      ]
     },
     "execution_count": 37,
     "metadata": {},
     "output_type": "execute_result"
    }
   ],
   "source": [
    "T"
   ]
  },
  {
   "cell_type": "code",
   "execution_count": 38,
   "metadata": {
    "ExecuteTime": {
     "end_time": "2019-01-31T03:20:46.943084Z",
     "start_time": "2019-01-31T03:20:46.904728Z"
    }
   },
   "outputs": [
    {
     "data": {
      "text/latex": [
       "Quantum object: dims = [[2, 2], [2, 2]], shape = (4, 4), type = oper, isherm = False\\begin{equation*}\\left(\\begin{array}{*{11}c}0.425 & (0.494-0.008j) & (0.494+0.008j) & 0.575\\\\(-0.494+0.004j) & (0.425-0.010j) & (-0.575-0.004j) & (0.494-0.004j)\\\\(-0.494-0.004j) & (-0.575+0.004j) & (0.425+0.010j) & (0.494+0.004j)\\\\0.575 & (-0.494+0.008j) & (-0.494-0.008j) & 0.425\\\\\\end{array}\\right)\\end{equation*}"
      ],
      "text/plain": [
       "Quantum object: dims = [[2, 2], [2, 2]], shape = (4, 4), type = oper, isherm = False\n",
       "Qobj data =\n",
       "[[ 0.42537325+0.j          0.49434052-0.00763521j  0.49434052+0.00763521j\n",
       "   0.57462675+0.j        ]\n",
       " [-0.49438181+0.00418087j  0.42525177-0.0101657j  -0.57461272-0.00401515j\n",
       "   0.49438181-0.00418087j]\n",
       " [-0.49438181-0.00418087j -0.57461272+0.00401515j  0.42525177+0.0101657j\n",
       "   0.49438181+0.00418087j]\n",
       " [ 0.57462675+0.j         -0.49434052+0.00763521j -0.49434052-0.00763521j\n",
       "   0.42537325+0.j        ]]"
      ]
     },
     "execution_count": 38,
     "metadata": {},
     "output_type": "execute_result"
    }
   ],
   "source": [
    "L_full_maker(xi_opt, dt)"
   ]
  },
  {
   "cell_type": "code",
   "execution_count": 39,
   "metadata": {
    "ExecuteTime": {
     "end_time": "2019-01-31T03:20:48.361037Z",
     "start_time": "2019-01-31T03:20:47.853127Z"
    }
   },
   "outputs": [
    {
     "data": {
      "text/plain": [
       "(<Figure size 576x432 with 2 Axes>,\n",
       " <matplotlib.axes._subplots.AxesSubplot at 0x1a13a2d5c0>)"
      ]
     },
     "execution_count": 39,
     "metadata": {},
     "output_type": "execute_result"
    },
    {
     "data": {
      "image/png": "[encoded data removed]",
      "text/plain": [
       "<Figure size 576x432 with 2 Axes>"
      ]
     },
     "metadata": {},
     "output_type": "display_data"
    }
   ],
   "source": [
    "hinton(L_full_maker(xi_opt, dt))"
   ]
  },
  {
   "cell_type": "markdown",
   "metadata": {},
   "source": []
  },
  {
   "cell_type": "code",
   "execution_count": null,
   "metadata": {},
   "outputs": [],
   "source": []
  },
  {
   "cell_type": "markdown",
   "metadata": {
    "heading_collapsed": true
   },
   "source": [
    "### Try2"
   ]
  },
  {
   "cell_type": "code",
   "execution_count": 36,
   "metadata": {
    "ExecuteTime": {
     "end_time": "2019-01-30T17:55:02.066191Z",
     "start_time": "2019-01-30T17:55:02.062961Z"
    },
    "hidden": true
   },
   "outputs": [],
   "source": [
    "total_time = 3*pi/omega_1\n",
    "epsilon = 10**(-6)\n",
    "max_iter = 10#10**4#1000#100#50#20\n",
    "time_steps = 20\n",
    "dt = total_time/time_steps"
   ]
  },
  {
   "cell_type": "code",
   "execution_count": 37,
   "metadata": {
    "ExecuteTime": {
     "end_time": "2019-01-30T17:55:02.779423Z",
     "start_time": "2019-01-30T17:55:02.068684Z"
    },
    "hidden": true
   },
   "outputs": [
    {
     "data": {
      "text/plain": [
       "array([669.86590905+0.j, 945.07750243+0.j, 501.36629768+0.j,\n",
       "       521.91951452+0.j, 446.6199184 +0.j, 325.44346231+0.j,\n",
       "       838.21472723+0.j, 959.67448838+0.j, 742.72774849+0.j,\n",
       "       483.25883019+0.j, 868.74390478+0.j,  90.66153356+0.j,\n",
       "       676.79802054+0.j, 131.07850863+0.j, 909.94233428+0.j,\n",
       "       945.77351951+0.j, 384.64294946+0.j, 397.56122242+0.j,\n",
       "       130.97502559+0.j, 543.64320591+0.j])"
      ]
     },
     "execution_count": 37,
     "metadata": {},
     "output_type": "execute_result"
    }
   ],
   "source": [
    "xi_opt = terminator(max_iter, time_steps, total_time, epsilon)\n",
    "xi_opt"
   ]
  },
  {
   "cell_type": "code",
   "execution_count": 38,
   "metadata": {
    "ExecuteTime": {
     "end_time": "2019-01-30T17:55:02.820926Z",
     "start_time": "2019-01-30T17:55:02.781746Z"
    },
    "hidden": true
   },
   "outputs": [
    {
     "data": {
      "text/plain": [
       "-7.999878651395828"
      ]
     },
     "execution_count": 38,
     "metadata": {},
     "output_type": "execute_result"
    }
   ],
   "source": [
    "F(xi_opt, dt)"
   ]
  },
  {
   "cell_type": "code",
   "execution_count": 39,
   "metadata": {
    "ExecuteTime": {
     "end_time": "2019-01-30T17:55:02.827102Z",
     "start_time": "2019-01-30T17:55:02.822545Z"
    },
    "hidden": true
   },
   "outputs": [
    {
     "data": {
      "text/plain": [
       "10"
      ]
     },
     "execution_count": 39,
     "metadata": {},
     "output_type": "execute_result"
    }
   ],
   "source": [
    "max_iter"
   ]
  },
  {
   "cell_type": "code",
   "execution_count": 40,
   "metadata": {
    "ExecuteTime": {
     "end_time": "2019-01-30T17:55:02.835263Z",
     "start_time": "2019-01-30T17:55:02.829494Z"
    },
    "hidden": true
   },
   "outputs": [
    {
     "data": {
      "text/latex": [
       "Quantum object: dims = [[2, 2], [2, 2]], shape = (4, 4), type = oper, isherm = True\\begin{equation*}\\left(\\begin{array}{*{11}c}0.0 & 0.0 & 0.0 & 1.0\\\\0.0 & 0.0 & 1.0 & 0.0\\\\0.0 & 1.0 & 0.0 & 0.0\\\\1.0 & 0.0 & 0.0 & 0.0\\\\\\end{array}\\right)\\end{equation*}"
      ],
      "text/plain": [
       "Quantum object: dims = [[2, 2], [2, 2]], shape = (4, 4), type = oper, isherm = True\n",
       "Qobj data =\n",
       "[[0. 0. 0. 1.]\n",
       " [0. 0. 1. 0.]\n",
       " [0. 1. 0. 0.]\n",
       " [1. 0. 0. 0.]]"
      ]
     },
     "execution_count": 40,
     "metadata": {},
     "output_type": "execute_result"
    }
   ],
   "source": [
    "T"
   ]
  },
  {
   "cell_type": "code",
   "execution_count": 41,
   "metadata": {
    "ExecuteTime": {
     "end_time": "2019-01-30T17:55:02.876248Z",
     "start_time": "2019-01-30T17:55:02.837503Z"
    },
    "hidden": true
   },
   "outputs": [
    {
     "data": {
      "text/latex": [
       "Quantum object: dims = [[2, 2], [2, 2]], shape = (4, 4), type = oper, isherm = False\\begin{equation*}\\left(\\begin{array}{*{11}c}0.640 & (-0.480-0.008j) & (-0.480+0.008j) & 0.360\\\\(0.480+0.002j) & (0.640+0.014j) & (-0.360+0.005j) & (-0.480-0.002j)\\\\(0.480-0.002j) & (-0.360-0.005j) & (0.640-0.014j) & (-0.480+0.002j)\\\\0.360 & (0.480+0.008j) & (0.480-0.008j) & 0.640\\\\\\end{array}\\right)\\end{equation*}"
      ],
      "text/plain": [
       "Quantum object: dims = [[2, 2], [2, 2]], shape = (4, 4), type = oper, isherm = False\n",
       "Qobj data =\n",
       "[[ 0.63981939+0.j         -0.47997746-0.00849546j -0.47997746+0.00849546j\n",
       "   0.36018061+0.j        ]\n",
       " [ 0.4800473 +0.00226523j  0.63965864+0.01434136j -0.36015027+0.0046747j\n",
       "  -0.4800473 -0.00226523j]\n",
       " [ 0.4800473 -0.00226523j -0.36015027-0.0046747j   0.63965864-0.01434136j\n",
       "  -0.4800473 +0.00226523j]\n",
       " [ 0.36018061+0.j          0.47997746+0.00849546j  0.47997746-0.00849546j\n",
       "   0.63981939+0.j        ]]"
      ]
     },
     "execution_count": 41,
     "metadata": {},
     "output_type": "execute_result"
    }
   ],
   "source": [
    "L_full_maker(xi_opt, dt)"
   ]
  },
  {
   "cell_type": "code",
   "execution_count": 42,
   "metadata": {
    "ExecuteTime": {
     "end_time": "2019-01-30T17:55:03.173941Z",
     "start_time": "2019-01-30T17:55:02.877961Z"
    },
    "hidden": true
   },
   "outputs": [
    {
     "data": {
      "text/plain": [
       "(<Figure size 576x432 with 2 Axes>,\n",
       " <matplotlib.axes._subplots.AxesSubplot at 0x1a197115c0>)"
      ]
     },
     "execution_count": 42,
     "metadata": {},
     "output_type": "execute_result"
    },
    {
     "data": {
      "image/png": "[encoded data removed]",
      "text/plain": [
       "<Figure size 576x432 with 2 Axes>"
      ]
     },
     "metadata": {},
     "output_type": "display_data"
    }
   ],
   "source": [
    "hinton(L_full_maker(xi_opt, dt))"
   ]
  },
  {
   "cell_type": "markdown",
   "metadata": {
    "hidden": true
   },
   "source": []
  },
  {
   "cell_type": "markdown",
   "metadata": {},
   "source": [
    "### Try2"
   ]
  },
  {
   "cell_type": "code",
   "execution_count": 40,
   "metadata": {
    "ExecuteTime": {
     "end_time": "2019-01-31T03:21:04.826225Z",
     "start_time": "2019-01-31T03:21:04.822901Z"
    }
   },
   "outputs": [],
   "source": [
    "total_time = 4*pi/omega_1\n",
    "epsilon = 10**(-6)\n",
    "max_iter = 10#10**4#1000#100#50#20\n",
    "time_steps = 20\n",
    "dt = total_time/time_steps"
   ]
  },
  {
   "cell_type": "code",
   "execution_count": 41,
   "metadata": {
    "ExecuteTime": {
     "end_time": "2019-01-31T03:21:05.930450Z",
     "start_time": "2019-01-31T03:21:05.256398Z"
    }
   },
   "outputs": [
    {
     "data": {
      "text/plain": [
       "array([509.26113739+0.j, 270.39936254+0.j, 479.35336782+0.j,\n",
       "        38.39241336+0.j, 549.92114029+0.j, 434.22612501+0.j,\n",
       "        88.85819715+0.j, 682.95097346+0.j, 220.42812806+0.j,\n",
       "       920.06946353+0.j, 489.5151925 +0.j, 871.55004605+0.j,\n",
       "       528.41576266+0.j, 140.33333007+0.j, 788.82575662+0.j,\n",
       "       851.83559918+0.j, 501.24909106+0.j, 887.8124147 +0.j,\n",
       "       727.27963347+0.j, 939.69894289+0.j])"
      ]
     },
     "execution_count": 41,
     "metadata": {},
     "output_type": "execute_result"
    }
   ],
   "source": [
    "xi_opt = terminator(max_iter, time_steps, total_time, epsilon)\n",
    "xi_opt"
   ]
  },
  {
   "cell_type": "code",
   "execution_count": 42,
   "metadata": {
    "ExecuteTime": {
     "end_time": "2019-01-31T03:21:05.976830Z",
     "start_time": "2019-01-31T03:21:05.933174Z"
    }
   },
   "outputs": [
    {
     "data": {
      "text/plain": [
       "-7.994276787798491"
      ]
     },
     "execution_count": 42,
     "metadata": {},
     "output_type": "execute_result"
    }
   ],
   "source": [
    "F(xi_opt, dt)"
   ]
  },
  {
   "cell_type": "code",
   "execution_count": 43,
   "metadata": {
    "ExecuteTime": {
     "end_time": "2019-01-31T03:21:06.147545Z",
     "start_time": "2019-01-31T03:21:06.143410Z"
    }
   },
   "outputs": [
    {
     "data": {
      "text/plain": [
       "10"
      ]
     },
     "execution_count": 43,
     "metadata": {},
     "output_type": "execute_result"
    }
   ],
   "source": [
    "max_iter"
   ]
  },
  {
   "cell_type": "code",
   "execution_count": 44,
   "metadata": {
    "ExecuteTime": {
     "end_time": "2019-01-31T03:21:06.888449Z",
     "start_time": "2019-01-31T03:21:06.882569Z"
    }
   },
   "outputs": [
    {
     "data": {
      "text/latex": [
       "Quantum object: dims = [[2, 2], [2, 2]], shape = (4, 4), type = oper, isherm = True\\begin{equation*}\\left(\\begin{array}{*{11}c}0.0 & 0.0 & 0.0 & 1.0\\\\0.0 & 0.0 & 1.0 & 0.0\\\\0.0 & 1.0 & 0.0 & 0.0\\\\1.0 & 0.0 & 0.0 & 0.0\\\\\\end{array}\\right)\\end{equation*}"
      ],
      "text/plain": [
       "Quantum object: dims = [[2, 2], [2, 2]], shape = (4, 4), type = oper, isherm = True\n",
       "Qobj data =\n",
       "[[0. 0. 0. 1.]\n",
       " [0. 0. 1. 0.]\n",
       " [0. 1. 0. 0.]\n",
       " [1. 0. 0. 0.]]"
      ]
     },
     "execution_count": 44,
     "metadata": {},
     "output_type": "execute_result"
    }
   ],
   "source": [
    "T"
   ]
  },
  {
   "cell_type": "code",
   "execution_count": 45,
   "metadata": {
    "ExecuteTime": {
     "end_time": "2019-01-31T03:21:07.519143Z",
     "start_time": "2019-01-31T03:21:07.478267Z"
    }
   },
   "outputs": [
    {
     "data": {
      "text/latex": [
       "Quantum object: dims = [[2, 2], [2, 2]], shape = (4, 4), type = oper, isherm = False\\begin{equation*}\\left(\\begin{array}{*{11}c}0.752 & (-0.431-0.022j) & (-0.431+0.022j) & 0.248\\\\(0.431-0.024j) & (0.752-0.003j) & (-0.247+0.027j) & (-0.431+0.024j)\\\\(0.431+0.024j) & (-0.247-0.027j) & (0.752+0.003j) & (-0.431-0.024j)\\\\0.248 & (0.431+0.022j) & (0.431-0.022j) & 0.752\\\\\\end{array}\\right)\\end{equation*}"
      ],
      "text/plain": [
       "Quantum object: dims = [[2, 2], [2, 2]], shape = (4, 4), type = oper, isherm = False\n",
       "Qobj data =\n",
       "[[ 0.7520235 +0.j         -0.43126501-0.02224074j -0.43126501+0.02224074j\n",
       "   0.2479765 +0.j        ]\n",
       " [ 0.43116238-0.02414875j  0.75201614-0.0033275j  -0.2465457 +0.02660007j\n",
       "  -0.43116238+0.02414875j]\n",
       " [ 0.43116238+0.02414875j -0.2465457 -0.02660007j  0.75201614+0.0033275j\n",
       "  -0.43116238-0.02414875j]\n",
       " [ 0.2479765 +0.j          0.43126501+0.02224074j  0.43126501-0.02224074j\n",
       "   0.7520235 +0.j        ]]"
      ]
     },
     "execution_count": 45,
     "metadata": {},
     "output_type": "execute_result"
    }
   ],
   "source": [
    "L_full_maker(xi_opt, dt)"
   ]
  },
  {
   "cell_type": "code",
   "execution_count": 46,
   "metadata": {
    "ExecuteTime": {
     "end_time": "2019-01-31T03:21:08.580934Z",
     "start_time": "2019-01-31T03:21:08.265481Z"
    }
   },
   "outputs": [
    {
     "data": {
      "text/plain": [
       "(<Figure size 576x432 with 2 Axes>,\n",
       " <matplotlib.axes._subplots.AxesSubplot at 0x1a2040e4a8>)"
      ]
     },
     "execution_count": 46,
     "metadata": {},
     "output_type": "execute_result"
    },
    {
     "data": {
      "image/png": "[encoded data removed]",
      "text/plain": [
       "<Figure size 576x432 with 2 Axes>"
      ]
     },
     "metadata": {},
     "output_type": "display_data"
    }
   ],
   "source": [
    "hinton(L_full_maker(xi_opt, dt))"
   ]
  },
  {
   "cell_type": "markdown",
   "metadata": {
    "heading_collapsed": true
   },
   "source": [
    "### Try2"
   ]
  },
  {
   "cell_type": "code",
   "execution_count": 50,
   "metadata": {
    "ExecuteTime": {
     "end_time": "2019-01-30T17:55:04.282171Z",
     "start_time": "2019-01-30T17:55:04.278989Z"
    },
    "hidden": true
   },
   "outputs": [],
   "source": [
    "total_time = 5*pi/omega_1\n",
    "epsilon = 10**(-6)\n",
    "max_iter = 10#10**4#1000#100#50#20\n",
    "time_steps = 20\n",
    "dt = total_time/time_steps"
   ]
  },
  {
   "cell_type": "code",
   "execution_count": 51,
   "metadata": {
    "ExecuteTime": {
     "end_time": "2019-01-30T17:55:04.978831Z",
     "start_time": "2019-01-30T17:55:04.284436Z"
    },
    "hidden": true
   },
   "outputs": [
    {
     "data": {
      "text/plain": [
       "array([466.69961721+0.j, 330.23961373+0.j, 322.89299009+0.j,\n",
       "       915.09418442+0.j, 166.93516108+0.j, 514.74740965+0.j,\n",
       "       205.64947124+0.j, 880.85829931+0.j, 270.54104595+0.j,\n",
       "       931.23121863+0.j, 605.85581368+0.j, 778.82219083+0.j,\n",
       "       649.5374667 +0.j, 246.85216722+0.j, 178.66994736+0.j,\n",
       "       820.35938533+0.j, 886.20501933+0.j,  98.57964324+0.j,\n",
       "       417.61133492+0.j, 961.50069866+0.j])"
      ]
     },
     "execution_count": 51,
     "metadata": {},
     "output_type": "execute_result"
    }
   ],
   "source": [
    "xi_opt = terminator(max_iter, time_steps, total_time, epsilon)\n",
    "xi_opt"
   ]
  },
  {
   "cell_type": "code",
   "execution_count": 52,
   "metadata": {
    "ExecuteTime": {
     "end_time": "2019-01-30T17:55:05.018108Z",
     "start_time": "2019-01-30T17:55:04.980912Z"
    },
    "hidden": true
   },
   "outputs": [
    {
     "data": {
      "text/plain": [
       "-7.999976536107417"
      ]
     },
     "execution_count": 52,
     "metadata": {},
     "output_type": "execute_result"
    }
   ],
   "source": [
    "F(xi_opt, dt)"
   ]
  },
  {
   "cell_type": "code",
   "execution_count": 53,
   "metadata": {
    "ExecuteTime": {
     "end_time": "2019-01-30T17:55:05.024668Z",
     "start_time": "2019-01-30T17:55:05.020250Z"
    },
    "hidden": true
   },
   "outputs": [
    {
     "data": {
      "text/plain": [
       "10"
      ]
     },
     "execution_count": 53,
     "metadata": {},
     "output_type": "execute_result"
    }
   ],
   "source": [
    "max_iter"
   ]
  },
  {
   "cell_type": "code",
   "execution_count": 54,
   "metadata": {
    "ExecuteTime": {
     "end_time": "2019-01-30T17:55:05.032330Z",
     "start_time": "2019-01-30T17:55:05.026927Z"
    },
    "hidden": true
   },
   "outputs": [
    {
     "data": {
      "text/latex": [
       "Quantum object: dims = [[2, 2], [2, 2]], shape = (4, 4), type = oper, isherm = True\\begin{equation*}\\left(\\begin{array}{*{11}c}0.0 & 0.0 & 0.0 & 1.0\\\\0.0 & 0.0 & 1.0 & 0.0\\\\0.0 & 1.0 & 0.0 & 0.0\\\\1.0 & 0.0 & 0.0 & 0.0\\\\\\end{array}\\right)\\end{equation*}"
      ],
      "text/plain": [
       "Quantum object: dims = [[2, 2], [2, 2]], shape = (4, 4), type = oper, isherm = True\n",
       "Qobj data =\n",
       "[[0. 0. 0. 1.]\n",
       " [0. 0. 1. 0.]\n",
       " [0. 1. 0. 0.]\n",
       " [1. 0. 0. 0.]]"
      ]
     },
     "execution_count": 54,
     "metadata": {},
     "output_type": "execute_result"
    }
   ],
   "source": [
    "T"
   ]
  },
  {
   "cell_type": "code",
   "execution_count": 55,
   "metadata": {
    "ExecuteTime": {
     "end_time": "2019-01-30T17:55:05.075506Z",
     "start_time": "2019-01-30T17:55:05.034653Z"
    },
    "hidden": true
   },
   "outputs": [
    {
     "data": {
      "text/latex": [
       "Quantum object: dims = [[2, 2], [2, 2]], shape = (4, 4), type = oper, isherm = False\\begin{equation*}\\left(\\begin{array}{*{11}c}0.019 & (-0.137+0.013j) & (-0.137-0.013j) & 0.981\\\\(0.137-0.013j) & (0.019-0.004j) & (-0.981+0.003j) & (-0.137+0.013j)\\\\(0.137+0.013j) & (-0.981-0.003j) & (0.019+0.004j) & (-0.137-0.013j)\\\\0.981 & (0.137-0.013j) & (0.137+0.013j) & 0.019\\\\\\end{array}\\right)\\end{equation*}"
      ],
      "text/plain": [
       "Quantum object: dims = [[2, 2], [2, 2]], shape = (4, 4), type = oper, isherm = False\n",
       "Qobj data =\n",
       "[[ 0.0192709 +0.j         -0.13686667+0.01292485j -0.13686667-0.01292485j\n",
       "   0.9807291 +0.j        ]\n",
       " [ 0.13682115-0.01339815j  0.01891765-0.00367293j -0.98072323+0.00339202j\n",
       "  -0.13682115+0.01339815j]\n",
       " [ 0.13682115+0.01339815j -0.98072323-0.00339202j  0.01891765+0.00367293j\n",
       "  -0.13682115-0.01339815j]\n",
       " [ 0.9807291 +0.j          0.13686667-0.01292485j  0.13686667+0.01292485j\n",
       "   0.0192709 +0.j        ]]"
      ]
     },
     "execution_count": 55,
     "metadata": {},
     "output_type": "execute_result"
    }
   ],
   "source": [
    "L_full_maker(xi_opt, dt)"
   ]
  },
  {
   "cell_type": "code",
   "execution_count": 56,
   "metadata": {
    "ExecuteTime": {
     "end_time": "2019-01-30T17:55:05.403765Z",
     "start_time": "2019-01-30T17:55:05.077995Z"
    },
    "hidden": true
   },
   "outputs": [
    {
     "data": {
      "text/plain": [
       "(<Figure size 576x432 with 2 Axes>,\n",
       " <matplotlib.axes._subplots.AxesSubplot at 0x1a19aa8cf8>)"
      ]
     },
     "execution_count": 56,
     "metadata": {},
     "output_type": "execute_result"
    },
    {
     "data": {
      "image/png": "[encoded data removed]",
      "text/plain": [
       "<Figure size 576x432 with 2 Axes>"
      ]
     },
     "metadata": {},
     "output_type": "display_data"
    }
   ],
   "source": [
    "hinton(L_full_maker(xi_opt, dt))"
   ]
  },
  {
   "cell_type": "markdown",
   "metadata": {
    "heading_collapsed": true
   },
   "source": [
    "### Try2"
   ]
  },
  {
   "cell_type": "code",
   "execution_count": 57,
   "metadata": {
    "ExecuteTime": {
     "end_time": "2019-01-30T17:55:05.409473Z",
     "start_time": "2019-01-30T17:55:05.405878Z"
    },
    "hidden": true
   },
   "outputs": [],
   "source": [
    "total_time = 10*pi/omega_1\n",
    "epsilon = 10**(-6)\n",
    "max_iter = 10#10**4#1000#100#50#20\n",
    "time_steps = 20\n",
    "dt = total_time/time_steps"
   ]
  },
  {
   "cell_type": "code",
   "execution_count": 58,
   "metadata": {
    "ExecuteTime": {
     "end_time": "2019-01-30T17:55:06.111625Z",
     "start_time": "2019-01-30T17:55:05.411796Z"
    },
    "hidden": true
   },
   "outputs": [
    {
     "data": {
      "text/plain": [
       "array([801.22975268+0.j, 344.63430836+0.j, 253.21906114+0.j,\n",
       "       440.84323934+0.j, 442.11750813+0.j,  63.51827501+0.j,\n",
       "       678.84275573+0.j, 608.18063622+0.j,  84.70584212+0.j,\n",
       "       814.90672787+0.j, 599.67793608+0.j, 675.32772266+0.j,\n",
       "       766.10922766+0.j, 922.49846828+0.j, 486.1148965 +0.j,\n",
       "       834.63923298+0.j, 276.53050897+0.j,  22.68475228+0.j,\n",
       "       356.84094845+0.j, 303.79273286+0.j])"
      ]
     },
     "execution_count": 58,
     "metadata": {},
     "output_type": "execute_result"
    }
   ],
   "source": [
    "xi_opt = terminator(max_iter, time_steps, total_time, epsilon)\n",
    "xi_opt"
   ]
  },
  {
   "cell_type": "code",
   "execution_count": 59,
   "metadata": {
    "ExecuteTime": {
     "end_time": "2019-01-30T17:55:06.152805Z",
     "start_time": "2019-01-30T17:55:06.113700Z"
    },
    "hidden": true
   },
   "outputs": [
    {
     "data": {
      "text/plain": [
       "-7.992913514381064"
      ]
     },
     "execution_count": 59,
     "metadata": {},
     "output_type": "execute_result"
    }
   ],
   "source": [
    "F(xi_opt, dt)"
   ]
  },
  {
   "cell_type": "code",
   "execution_count": 60,
   "metadata": {
    "ExecuteTime": {
     "end_time": "2019-01-30T17:55:06.160163Z",
     "start_time": "2019-01-30T17:55:06.155955Z"
    },
    "hidden": true
   },
   "outputs": [
    {
     "data": {
      "text/plain": [
       "10"
      ]
     },
     "execution_count": 60,
     "metadata": {},
     "output_type": "execute_result"
    }
   ],
   "source": [
    "max_iter"
   ]
  },
  {
   "cell_type": "code",
   "execution_count": 61,
   "metadata": {
    "ExecuteTime": {
     "end_time": "2019-01-30T17:55:06.167767Z",
     "start_time": "2019-01-30T17:55:06.162120Z"
    },
    "hidden": true
   },
   "outputs": [
    {
     "data": {
      "text/latex": [
       "Quantum object: dims = [[2, 2], [2, 2]], shape = (4, 4), type = oper, isherm = True\\begin{equation*}\\left(\\begin{array}{*{11}c}0.0 & 0.0 & 0.0 & 1.0\\\\0.0 & 0.0 & 1.0 & 0.0\\\\0.0 & 1.0 & 0.0 & 0.0\\\\1.0 & 0.0 & 0.0 & 0.0\\\\\\end{array}\\right)\\end{equation*}"
      ],
      "text/plain": [
       "Quantum object: dims = [[2, 2], [2, 2]], shape = (4, 4), type = oper, isherm = True\n",
       "Qobj data =\n",
       "[[0. 0. 0. 1.]\n",
       " [0. 0. 1. 0.]\n",
       " [0. 1. 0. 0.]\n",
       " [1. 0. 0. 0.]]"
      ]
     },
     "execution_count": 61,
     "metadata": {},
     "output_type": "execute_result"
    }
   ],
   "source": [
    "T"
   ]
  },
  {
   "cell_type": "code",
   "execution_count": 62,
   "metadata": {
    "ExecuteTime": {
     "end_time": "2019-01-30T17:55:06.210886Z",
     "start_time": "2019-01-30T17:55:06.170743Z"
    },
    "hidden": true
   },
   "outputs": [
    {
     "data": {
      "text/latex": [
       "Quantum object: dims = [[2, 2], [2, 2]], shape = (4, 4), type = oper, isherm = False\\begin{equation*}\\left(\\begin{array}{*{11}c}0.010 & (-0.099-0.010j) & (-0.099+0.010j) & 0.990\\\\(0.099+0.016j) & (0.010+0.003j) & (-0.988-0.059j) & (-0.099-0.016j)\\\\(0.099-0.016j) & (-0.988+0.059j) & (0.010-0.003j) & (-0.099+0.016j)\\\\0.990 & (0.099+0.010j) & (0.099-0.010j) & 0.010\\\\\\end{array}\\right)\\end{equation*}"
      ],
      "text/plain": [
       "Quantum object: dims = [[2, 2], [2, 2]], shape = (4, 4), type = oper, isherm = False\n",
       "Qobj data =\n",
       "[[ 0.01005211+0.j         -0.09929145-0.00960585j -0.09929145+0.00960585j\n",
       "   0.98994789+0.j        ]\n",
       " [ 0.09853933+0.01552627j  0.00973281+0.00251344j -0.98817627-0.05919871j\n",
       "  -0.09853933-0.01552627j]\n",
       " [ 0.09853933-0.01552627j -0.98817627+0.05919871j  0.00973281-0.00251344j\n",
       "  -0.09853933+0.01552627j]\n",
       " [ 0.98994789+0.j          0.09929145+0.00960585j  0.09929145-0.00960585j\n",
       "   0.01005211+0.j        ]]"
      ]
     },
     "execution_count": 62,
     "metadata": {},
     "output_type": "execute_result"
    }
   ],
   "source": [
    "L_full_maker(xi_opt, dt)"
   ]
  },
  {
   "cell_type": "code",
   "execution_count": 63,
   "metadata": {
    "ExecuteTime": {
     "end_time": "2019-01-30T17:55:06.496619Z",
     "start_time": "2019-01-30T17:55:06.213129Z"
    },
    "hidden": true
   },
   "outputs": [
    {
     "data": {
      "text/plain": [
       "(<Figure size 576x432 with 2 Axes>,\n",
       " <matplotlib.axes._subplots.AxesSubplot at 0x1a189dfcc0>)"
      ]
     },
     "execution_count": 63,
     "metadata": {},
     "output_type": "execute_result"
    },
    {
     "data": {
      "image/png": "[encoded data removed]",
      "text/plain": [
       "<Figure size 576x432 with 2 Axes>"
      ]
     },
     "metadata": {},
     "output_type": "display_data"
    }
   ],
   "source": [
    "hinton(L_full_maker(xi_opt, dt))"
   ]
  },
  {
   "cell_type": "markdown",
   "metadata": {
    "heading_collapsed": true
   },
   "source": [
    "### Try2"
   ]
  },
  {
   "cell_type": "code",
   "execution_count": 64,
   "metadata": {
    "ExecuteTime": {
     "end_time": "2019-01-30T17:55:06.501928Z",
     "start_time": "2019-01-30T17:55:06.498475Z"
    },
    "hidden": true
   },
   "outputs": [],
   "source": [
    "total_time = 3*pi/omega_1\n",
    "epsilon = 10**(-6)\n",
    "max_iter = 10#10**4#1000#100#50#20\n",
    "time_steps = 200\n",
    "dt = total_time/time_steps"
   ]
  },
  {
   "cell_type": "code",
   "execution_count": 65,
   "metadata": {
    "ExecuteTime": {
     "end_time": "2019-01-30T17:56:06.878585Z",
     "start_time": "2019-01-30T17:55:06.504491Z"
    },
    "hidden": true
   },
   "outputs": [
    {
     "data": {
      "text/plain": [
       "array([743.85850405+0.j, 762.46386883+0.j, 350.23291645+0.j,\n",
       "       286.90761453+0.j, 977.01535902+0.j, 157.06636268+0.j,\n",
       "       411.78027708+0.j, 144.41556081+0.j, 813.91277463+0.j,\n",
       "       750.69478547+0.j, 862.61871307+0.j, 191.57822577+0.j,\n",
       "       561.11315509+0.j, 466.42560087+0.j, 176.12766183+0.j,\n",
       "       854.31927459+0.j, 751.49419248+0.j, 950.67193321+0.j,\n",
       "         4.11354211+0.j, 127.35840933+0.j, 744.08850349+0.j,\n",
       "        90.37254933+0.j, 846.97775156+0.j, 448.33614467+0.j,\n",
       "        96.86076024+0.j,  69.78813357+0.j, 313.53280859+0.j,\n",
       "       649.86654336+0.j, 444.22980827+0.j, 963.36550413+0.j,\n",
       "       636.41618623+0.j, 372.67241707+0.j, 918.50804831+0.j,\n",
       "       227.4421582 +0.j,  91.53093362+0.j, 541.97148361+0.j,\n",
       "       973.82169562+0.j, 265.20128439+0.j, 836.484508  +0.j,\n",
       "       856.65699891+0.j, 531.05648911+0.j, 595.05681936+0.j,\n",
       "       228.37761616+0.j, 532.91693834+0.j, 849.62894875+0.j,\n",
       "       593.06152973+0.j, 513.32025761+0.j, 654.85467931+0.j,\n",
       "       213.50085036+0.j, 212.94469109+0.j, 568.44139862+0.j,\n",
       "         7.86243402+0.j, 416.47061168+0.j, 768.40117189+0.j,\n",
       "       262.18970502+0.j, 938.95156473+0.j, 834.22358395+0.j,\n",
       "       253.43913111+0.j, 403.3048334 +0.j, 389.1940112 +0.j,\n",
       "       651.49094388+0.j, 992.60552776+0.j, 896.46755766+0.j,\n",
       "       837.21771415+0.j, 675.11049249+0.j, 242.41509319+0.j,\n",
       "       434.96759271+0.j, 657.20582411+0.j, 735.51687562+0.j,\n",
       "       161.27455736+0.j,  64.87960687+0.j, 728.74833263+0.j,\n",
       "       600.08612109+0.j, 991.7086154 +0.j, 831.61629722+0.j,\n",
       "       335.68299111+0.j, 911.79529919+0.j, 417.63734995+0.j,\n",
       "       394.96975387+0.j, 736.21039268+0.j, 842.97503347+0.j,\n",
       "       930.30136753+0.j, 326.14857389+0.j, 603.84350601+0.j,\n",
       "       214.04476196+0.j, 315.81847991+0.j, 712.70188578+0.j,\n",
       "       204.8442004 +0.j, 657.3661556 +0.j, 382.41442893+0.j,\n",
       "       417.45046321+0.j, 337.06871122+0.j, 866.21334662+0.j,\n",
       "       674.50724867+0.j, 332.22181107+0.j, 669.46363411+0.j,\n",
       "       472.88807188+0.j, 663.32276942+0.j, 195.68069931+0.j,\n",
       "        10.54378668+0.j, 570.25553129+0.j, 900.48163703+0.j,\n",
       "       630.95091603+0.j,  70.54882123+0.j, 830.97595782+0.j,\n",
       "       735.5927216 +0.j, 997.57507646+0.j, 979.68182813+0.j,\n",
       "       396.56029693+0.j, 625.32538492+0.j,  51.5961715 +0.j,\n",
       "       858.71572531+0.j, 971.30873093+0.j, 270.03800151+0.j,\n",
       "       544.91797668+0.j, 456.85237477+0.j, 429.35618242+0.j,\n",
       "       956.58750873+0.j, 420.5121277 +0.j, 246.89123479+0.j,\n",
       "       301.98280561+0.j, 842.36652637+0.j, 546.05426837+0.j,\n",
       "        46.17989518+0.j, 431.66711486+0.j, 329.58231782+0.j,\n",
       "       295.02783267+0.j, 663.91001995+0.j, 652.93269674+0.j,\n",
       "       783.64637137+0.j, 133.93601236+0.j, 332.02425559+0.j,\n",
       "       401.0688826 +0.j, 339.58269537+0.j, 804.34583097+0.j,\n",
       "        15.26211526+0.j, 682.17907236+0.j,  84.80837725+0.j,\n",
       "       189.76065226+0.j, 637.50305677+0.j,  21.02917702+0.j,\n",
       "       616.50464702+0.j, 381.94565922+0.j, 250.33026177+0.j,\n",
       "       409.84612793+0.j, 270.06203762+0.j,  77.7788242 +0.j,\n",
       "       387.94210006+0.j, 246.57284573+0.j, 773.56823573+0.j,\n",
       "       426.0725936 +0.j, 232.34148067+0.j, 245.78877925+0.j,\n",
       "       928.97931746+0.j, 988.25733357+0.j, 282.88872   +0.j,\n",
       "       419.20554743+0.j, 196.80478616+0.j, 234.28528455+0.j,\n",
       "       132.95579327+0.j,   9.17702696+0.j, 310.04795955+0.j,\n",
       "       509.48541542+0.j, 144.94753138+0.j, 806.05073986+0.j,\n",
       "       690.8398166 +0.j, 218.83816396+0.j, 251.87515271+0.j,\n",
       "       427.96910823+0.j,   1.88498625+0.j, 401.50172545+0.j,\n",
       "       744.90532458+0.j, 908.27562408+0.j,  34.607026  +0.j,\n",
       "       835.74123764+0.j,  72.94430341+0.j,   8.27808438+0.j,\n",
       "       578.85939676+0.j, 995.8092919 +0.j, 689.54115349+0.j,\n",
       "       310.7236373 +0.j, 120.92581521+0.j, 974.26166167+0.j,\n",
       "       410.08767119+0.j, 675.98225946+0.j, 920.26568914+0.j,\n",
       "       726.49022447+0.j, 333.39305951+0.j,  78.26392458+0.j,\n",
       "       354.81070807+0.j, 910.18323015+0.j, 282.99683921+0.j,\n",
       "       771.62475612+0.j, 383.1156562 +0.j, 241.13581712+0.j,\n",
       "       793.10168954+0.j, 666.3376129 +0.j, 447.90495998+0.j,\n",
       "       389.04449035+0.j,  29.73123337+0.j])"
      ]
     },
     "execution_count": 65,
     "metadata": {},
     "output_type": "execute_result"
    }
   ],
   "source": [
    "xi_opt = terminator(max_iter, time_steps, total_time, epsilon)\n",
    "xi_opt"
   ]
  },
  {
   "cell_type": "code",
   "execution_count": 66,
   "metadata": {
    "ExecuteTime": {
     "end_time": "2019-01-30T17:56:07.217809Z",
     "start_time": "2019-01-30T17:56:06.881972Z"
    },
    "hidden": true
   },
   "outputs": [
    {
     "data": {
      "text/plain": [
       "-7.810508270649688"
      ]
     },
     "execution_count": 66,
     "metadata": {},
     "output_type": "execute_result"
    }
   ],
   "source": [
    "F(xi_opt, dt)"
   ]
  },
  {
   "cell_type": "code",
   "execution_count": 67,
   "metadata": {
    "ExecuteTime": {
     "end_time": "2019-01-30T17:56:07.224522Z",
     "start_time": "2019-01-30T17:56:07.220231Z"
    },
    "hidden": true
   },
   "outputs": [
    {
     "data": {
      "text/plain": [
       "10"
      ]
     },
     "execution_count": 67,
     "metadata": {},
     "output_type": "execute_result"
    }
   ],
   "source": [
    "max_iter"
   ]
  },
  {
   "cell_type": "code",
   "execution_count": 68,
   "metadata": {
    "ExecuteTime": {
     "end_time": "2019-01-30T17:56:07.237719Z",
     "start_time": "2019-01-30T17:56:07.227058Z"
    },
    "hidden": true
   },
   "outputs": [
    {
     "data": {
      "text/latex": [
       "Quantum object: dims = [[2, 2], [2, 2]], shape = (4, 4), type = oper, isherm = True\\begin{equation*}\\left(\\begin{array}{*{11}c}0.0 & 0.0 & 0.0 & 1.0\\\\0.0 & 0.0 & 1.0 & 0.0\\\\0.0 & 1.0 & 0.0 & 0.0\\\\1.0 & 0.0 & 0.0 & 0.0\\\\\\end{array}\\right)\\end{equation*}"
      ],
      "text/plain": [
       "Quantum object: dims = [[2, 2], [2, 2]], shape = (4, 4), type = oper, isherm = True\n",
       "Qobj data =\n",
       "[[0. 0. 0. 1.]\n",
       " [0. 0. 1. 0.]\n",
       " [0. 1. 0. 0.]\n",
       " [1. 0. 0. 0.]]"
      ]
     },
     "execution_count": 68,
     "metadata": {},
     "output_type": "execute_result"
    }
   ],
   "source": [
    "T"
   ]
  },
  {
   "cell_type": "code",
   "execution_count": 69,
   "metadata": {
    "ExecuteTime": {
     "end_time": "2019-01-30T17:56:07.601450Z",
     "start_time": "2019-01-30T17:56:07.239902Z"
    },
    "hidden": true
   },
   "outputs": [
    {
     "data": {
      "text/latex": [
       "Quantum object: dims = [[2, 2], [2, 2]], shape = (4, 4), type = oper, isherm = False\\begin{equation*}\\left(\\begin{array}{*{11}c}0.838 & (-0.294+0.222j) & (-0.294-0.222j) & 0.162\\\\(0.365+0.050j) & (0.731-0.409j) & (-0.115-0.115j) & (-0.365-0.050j)\\\\(0.365-0.050j) & (-0.115+0.115j) & (0.731+0.409j) & (-0.365+0.050j)\\\\0.162 & (0.294-0.222j) & (0.294+0.222j) & 0.838\\\\\\end{array}\\right)\\end{equation*}"
      ],
      "text/plain": [
       "Quantum object: dims = [[2, 2], [2, 2]], shape = (4, 4), type = oper, isherm = False\n",
       "Qobj data =\n",
       "[[ 0.83789152+0.j         -0.29399606+0.22225129j -0.29399606-0.22225129j\n",
       "   0.16210848+0.j        ]\n",
       " [ 0.36508946+0.05038855j  0.73120039-0.40915546j -0.11473555-0.11452036j\n",
       "  -0.36508946-0.05038855j]\n",
       " [ 0.36508946-0.05038855j -0.11473555+0.11452036j  0.73120039+0.40915546j\n",
       "  -0.36508946+0.05038855j]\n",
       " [ 0.16210848+0.j          0.29399606-0.22225129j  0.29399606+0.22225129j\n",
       "   0.83789152+0.j        ]]"
      ]
     },
     "execution_count": 69,
     "metadata": {},
     "output_type": "execute_result"
    }
   ],
   "source": [
    "L_full_maker(xi_opt, dt)"
   ]
  },
  {
   "cell_type": "code",
   "execution_count": 70,
   "metadata": {
    "ExecuteTime": {
     "end_time": "2019-01-30T17:56:08.147875Z",
     "start_time": "2019-01-30T17:56:07.604245Z"
    },
    "hidden": true
   },
   "outputs": [
    {
     "data": {
      "text/plain": [
       "(<Figure size 576x432 with 2 Axes>,\n",
       " <matplotlib.axes._subplots.AxesSubplot at 0x107c2d2e8>)"
      ]
     },
     "execution_count": 70,
     "metadata": {},
     "output_type": "execute_result"
    },
    {
     "data": {
      "image/png": "[encoded data removed]",
      "text/plain": [
       "<Figure size 576x432 with 2 Axes>"
      ]
     },
     "metadata": {},
     "output_type": "display_data"
    }
   ],
   "source": [
    "hinton(L_full_maker(xi_opt, dt))"
   ]
  },
  {
   "cell_type": "code",
   "execution_count": null,
   "metadata": {
    "hidden": true
   },
   "outputs": [],
   "source": []
  },
  {
   "cell_type": "markdown",
   "metadata": {
    "heading_collapsed": true
   },
   "source": [
    "### Try2"
   ]
  },
  {
   "cell_type": "code",
   "execution_count": 71,
   "metadata": {
    "ExecuteTime": {
     "end_time": "2019-01-30T17:56:08.153571Z",
     "start_time": "2019-01-30T17:56:08.150291Z"
    },
    "hidden": true
   },
   "outputs": [],
   "source": [
    "total_time = 3*pi/omega_1\n",
    "epsilon = 10**(-6)\n",
    "max_iter = 10#10**4#1000#100#50#20\n",
    "time_steps = 50\n",
    "dt = total_time/time_steps"
   ]
  },
  {
   "cell_type": "code",
   "execution_count": 72,
   "metadata": {
    "ExecuteTime": {
     "end_time": "2019-01-30T17:56:11.927728Z",
     "start_time": "2019-01-30T17:56:08.155899Z"
    },
    "hidden": true
   },
   "outputs": [
    {
     "data": {
      "text/plain": [
       "array([728.6118843 +0.j, 818.33080223+0.j, 166.39663543+0.j,\n",
       "        57.01551037+0.j,   7.91568015+0.j, 151.43268169+0.j,\n",
       "       478.97979492+0.j, 744.15856762+0.j, 216.73278707+0.j,\n",
       "       193.77553412+0.j, 518.98548909+0.j, 354.93862054+0.j,\n",
       "       970.50040178+0.j, 984.87449563+0.j, 626.28718309+0.j,\n",
       "       577.80462714+0.j, 510.41346207+0.j, 693.51895907+0.j,\n",
       "       672.13349401+0.j, 794.73237189+0.j, 491.33419232+0.j,\n",
       "       239.08866932+0.j, 535.6803329 +0.j, 969.44583928+0.j,\n",
       "        10.54635342+0.j,  12.14615005+0.j, 414.29731833+0.j,\n",
       "       911.39171447+0.j, 974.8622077 +0.j, 267.89439612+0.j,\n",
       "       330.57263236+0.j, 581.28618369+0.j, 771.2177956 +0.j,\n",
       "       844.07917385+0.j, 492.87674993+0.j, 721.86290324+0.j,\n",
       "       552.93720221+0.j, 105.61401908+0.j, 886.08622712+0.j,\n",
       "       255.66969227+0.j, 674.19997653+0.j, 218.61315336+0.j,\n",
       "       345.38054935+0.j, 402.76362426+0.j, 713.2057017 +0.j,\n",
       "       673.12296025+0.j, 771.2028664 +0.j,  85.30405581+0.j,\n",
       "       711.38333007+0.j, 403.18358065+0.j])"
      ]
     },
     "execution_count": 72,
     "metadata": {},
     "output_type": "execute_result"
    }
   ],
   "source": [
    "xi_opt = terminator(max_iter, time_steps, total_time, epsilon)\n",
    "xi_opt"
   ]
  },
  {
   "cell_type": "code",
   "execution_count": 73,
   "metadata": {
    "ExecuteTime": {
     "end_time": "2019-01-30T17:56:12.026024Z",
     "start_time": "2019-01-30T17:56:11.930195Z"
    },
    "hidden": true
   },
   "outputs": [
    {
     "data": {
      "text/plain": [
       "-7.979248752953803"
      ]
     },
     "execution_count": 73,
     "metadata": {},
     "output_type": "execute_result"
    }
   ],
   "source": [
    "F(xi_opt, dt)"
   ]
  },
  {
   "cell_type": "code",
   "execution_count": 74,
   "metadata": {
    "ExecuteTime": {
     "end_time": "2019-01-30T17:56:12.033177Z",
     "start_time": "2019-01-30T17:56:12.027998Z"
    },
    "hidden": true
   },
   "outputs": [
    {
     "data": {
      "text/plain": [
       "10"
      ]
     },
     "execution_count": 74,
     "metadata": {},
     "output_type": "execute_result"
    }
   ],
   "source": [
    "max_iter"
   ]
  },
  {
   "cell_type": "code",
   "execution_count": 75,
   "metadata": {
    "ExecuteTime": {
     "end_time": "2019-01-30T17:56:12.042072Z",
     "start_time": "2019-01-30T17:56:12.035369Z"
    },
    "hidden": true
   },
   "outputs": [
    {
     "data": {
      "text/latex": [
       "Quantum object: dims = [[2, 2], [2, 2]], shape = (4, 4), type = oper, isherm = True\\begin{equation*}\\left(\\begin{array}{*{11}c}0.0 & 0.0 & 0.0 & 1.0\\\\0.0 & 0.0 & 1.0 & 0.0\\\\0.0 & 1.0 & 0.0 & 0.0\\\\1.0 & 0.0 & 0.0 & 0.0\\\\\\end{array}\\right)\\end{equation*}"
      ],
      "text/plain": [
       "Quantum object: dims = [[2, 2], [2, 2]], shape = (4, 4), type = oper, isherm = True\n",
       "Qobj data =\n",
       "[[0. 0. 0. 1.]\n",
       " [0. 0. 1. 0.]\n",
       " [0. 1. 0. 0.]\n",
       " [1. 0. 0. 0.]]"
      ]
     },
     "execution_count": 75,
     "metadata": {},
     "output_type": "execute_result"
    }
   ],
   "source": [
    "T"
   ]
  },
  {
   "cell_type": "code",
   "execution_count": 76,
   "metadata": {
    "ExecuteTime": {
     "end_time": "2019-01-30T17:56:12.136440Z",
     "start_time": "2019-01-30T17:56:12.043971Z"
    },
    "hidden": true
   },
   "outputs": [
    {
     "data": {
      "text/latex": [
       "Quantum object: dims = [[2, 2], [2, 2]], shape = (4, 4), type = oper, isherm = False\\begin{equation*}\\left(\\begin{array}{*{11}c}0.648 & (-0.477-0.026j) & (-0.477+0.026j) & 0.352\\\\(0.474-0.056j) & (0.647-0.042j) & (-0.347+0.060j) & (-0.474+0.056j)\\\\(0.474+0.056j) & (-0.347-0.060j) & (0.647+0.042j) & (-0.474-0.056j)\\\\0.352 & (0.477+0.026j) & (0.477-0.026j) & 0.648\\\\\\end{array}\\right)\\end{equation*}"
      ],
      "text/plain": [
       "Quantum object: dims = [[2, 2], [2, 2]], shape = (4, 4), type = oper, isherm = False\n",
       "Qobj data =\n",
       "[[ 0.64812173+0.j         -0.47686214-0.02573821j -0.47686214+0.02573821j\n",
       "   0.35187827+0.j        ]\n",
       " [ 0.47423501-0.05622377j  0.64679134-0.0415059j  -0.34669046+0.06020003j\n",
       "  -0.47423501+0.05622377j]\n",
       " [ 0.47423501+0.05622377j -0.34669046-0.06020003j  0.64679134+0.0415059j\n",
       "  -0.47423501-0.05622377j]\n",
       " [ 0.35187827+0.j          0.47686214+0.02573821j  0.47686214-0.02573821j\n",
       "   0.64812173+0.j        ]]"
      ]
     },
     "execution_count": 76,
     "metadata": {},
     "output_type": "execute_result"
    }
   ],
   "source": [
    "L_full_maker(xi_opt, dt)"
   ]
  },
  {
   "cell_type": "code",
   "execution_count": 77,
   "metadata": {
    "ExecuteTime": {
     "end_time": "2019-01-30T17:56:12.483864Z",
     "start_time": "2019-01-30T17:56:12.139020Z"
    },
    "hidden": true
   },
   "outputs": [
    {
     "data": {
      "text/plain": [
       "(<Figure size 576x432 with 2 Axes>,\n",
       " <matplotlib.axes._subplots.AxesSubplot at 0x1a19861978>)"
      ]
     },
     "execution_count": 77,
     "metadata": {},
     "output_type": "execute_result"
    },
    {
     "data": {
      "image/png": "[encoded data removed]",
      "text/plain": [
       "<Figure size 576x432 with 2 Axes>"
      ]
     },
     "metadata": {},
     "output_type": "display_data"
    }
   ],
   "source": [
    "hinton(L_full_maker(xi_opt, dt))"
   ]
  },
  {
   "cell_type": "code",
   "execution_count": null,
   "metadata": {
    "hidden": true
   },
   "outputs": [],
   "source": []
  },
  {
   "cell_type": "markdown",
   "metadata": {
    "heading_collapsed": true
   },
   "source": [
    "### Try2"
   ]
  },
  {
   "cell_type": "code",
   "execution_count": 78,
   "metadata": {
    "ExecuteTime": {
     "end_time": "2019-01-30T17:56:12.490300Z",
     "start_time": "2019-01-30T17:56:12.486980Z"
    },
    "hidden": true
   },
   "outputs": [],
   "source": [
    "total_time = 3*pi/omega_1\n",
    "epsilon = 10**(-6)\n",
    "max_iter = 20#10**4#1000#100#50#20\n",
    "time_steps = 20\n",
    "dt = total_time/time_steps"
   ]
  },
  {
   "cell_type": "code",
   "execution_count": 79,
   "metadata": {
    "ExecuteTime": {
     "end_time": "2019-01-30T17:56:13.161950Z",
     "start_time": "2019-01-30T17:56:12.492584Z"
    },
    "hidden": true
   },
   "outputs": [
    {
     "data": {
      "text/plain": [
       "array([128.86894612+0.j, 278.48726764+0.j, 680.92047077+0.j,\n",
       "       462.4770889 +0.j, 209.70176853+0.j, 631.25011205+0.j,\n",
       "       319.24408188+0.j, 422.27134106+0.j, 365.73469369+0.j,\n",
       "       369.59378193+0.j, 400.347261  +0.j, 878.18492599+0.j,\n",
       "       970.98427226+0.j, 569.6174071 +0.j, 936.51524861+0.j,\n",
       "       620.08426469+0.j, 343.73600164+0.j,  84.74012196+0.j,\n",
       "       611.89130885+0.j, 755.42637418+0.j])"
      ]
     },
     "execution_count": 79,
     "metadata": {},
     "output_type": "execute_result"
    }
   ],
   "source": [
    "xi_opt = terminator(max_iter, time_steps, total_time, epsilon)\n",
    "xi_opt"
   ]
  },
  {
   "cell_type": "code",
   "execution_count": 80,
   "metadata": {
    "ExecuteTime": {
     "end_time": "2019-01-30T17:56:13.209135Z",
     "start_time": "2019-01-30T17:56:13.164146Z"
    },
    "hidden": true
   },
   "outputs": [
    {
     "data": {
      "text/plain": [
       "-7.999923874715472"
      ]
     },
     "execution_count": 80,
     "metadata": {},
     "output_type": "execute_result"
    }
   ],
   "source": [
    "F(xi_opt, dt)"
   ]
  },
  {
   "cell_type": "code",
   "execution_count": 81,
   "metadata": {
    "ExecuteTime": {
     "end_time": "2019-01-30T17:56:13.215240Z",
     "start_time": "2019-01-30T17:56:13.211023Z"
    },
    "hidden": true
   },
   "outputs": [
    {
     "data": {
      "text/plain": [
       "20"
      ]
     },
     "execution_count": 81,
     "metadata": {},
     "output_type": "execute_result"
    }
   ],
   "source": [
    "max_iter"
   ]
  },
  {
   "cell_type": "code",
   "execution_count": 82,
   "metadata": {
    "ExecuteTime": {
     "end_time": "2019-01-30T17:56:13.223980Z",
     "start_time": "2019-01-30T17:56:13.217125Z"
    },
    "hidden": true
   },
   "outputs": [
    {
     "data": {
      "text/latex": [
       "Quantum object: dims = [[2, 2], [2, 2]], shape = (4, 4), type = oper, isherm = True\\begin{equation*}\\left(\\begin{array}{*{11}c}0.0 & 0.0 & 0.0 & 1.0\\\\0.0 & 0.0 & 1.0 & 0.0\\\\0.0 & 1.0 & 0.0 & 0.0\\\\1.0 & 0.0 & 0.0 & 0.0\\\\\\end{array}\\right)\\end{equation*}"
      ],
      "text/plain": [
       "Quantum object: dims = [[2, 2], [2, 2]], shape = (4, 4), type = oper, isherm = True\n",
       "Qobj data =\n",
       "[[0. 0. 0. 1.]\n",
       " [0. 0. 1. 0.]\n",
       " [0. 1. 0. 0.]\n",
       " [1. 0. 0. 0.]]"
      ]
     },
     "execution_count": 82,
     "metadata": {},
     "output_type": "execute_result"
    }
   ],
   "source": [
    "T"
   ]
  },
  {
   "cell_type": "code",
   "execution_count": 83,
   "metadata": {
    "ExecuteTime": {
     "end_time": "2019-01-30T17:56:13.266368Z",
     "start_time": "2019-01-30T17:56:13.226372Z"
    },
    "hidden": true
   },
   "outputs": [
    {
     "data": {
      "text/latex": [
       "Quantum object: dims = [[2, 2], [2, 2]], shape = (4, 4), type = oper, isherm = False\\begin{equation*}\\left(\\begin{array}{*{11}c}0.990 & (-0.100-0.002j) & (-0.100+0.002j) & 0.010\\\\(0.099-0.004j) & (0.990-0.017j) & (-0.010+6.170\\times10^{-04}j) & (-0.099+0.004j)\\\\(0.099+0.004j) & (-0.010-6.170\\times10^{-04}j) & (0.990+0.017j) & (-0.099-0.004j)\\\\0.010 & (0.100+0.002j) & (0.100-0.002j) & 0.990\\\\\\end{array}\\right)\\end{equation*}"
      ],
      "text/plain": [
       "Quantum object: dims = [[2, 2], [2, 2]], shape = (4, 4), type = oper, isherm = False\n",
       "Qobj data =\n",
       "[[ 0.98998819+0.j         -0.09953225-0.00221414j -0.09953225+0.00221414j\n",
       "   0.01001181+0.j        ]\n",
       " [ 0.09947951-0.00392416j  0.98984202-0.01701179j -0.00999278+0.00061702j\n",
       "  -0.09947951+0.00392416j]\n",
       " [ 0.09947951+0.00392416j -0.00999278-0.00061702j  0.98984202+0.01701179j\n",
       "  -0.09947951-0.00392416j]\n",
       " [ 0.01001181+0.j          0.09953225+0.00221414j  0.09953225-0.00221414j\n",
       "   0.98998819+0.j        ]]"
      ]
     },
     "execution_count": 83,
     "metadata": {},
     "output_type": "execute_result"
    }
   ],
   "source": [
    "L_full_maker(xi_opt, dt)"
   ]
  },
  {
   "cell_type": "code",
   "execution_count": 84,
   "metadata": {
    "ExecuteTime": {
     "end_time": "2019-01-30T17:56:13.554123Z",
     "start_time": "2019-01-30T17:56:13.268213Z"
    },
    "hidden": true
   },
   "outputs": [
    {
     "data": {
      "text/plain": [
       "(<Figure size 576x432 with 2 Axes>,\n",
       " <matplotlib.axes._subplots.AxesSubplot at 0x1a19ed2668>)"
      ]
     },
     "execution_count": 84,
     "metadata": {},
     "output_type": "execute_result"
    },
    {
     "data": {
      "image/png": "[encoded data removed]",
      "text/plain": [
       "<Figure size 576x432 with 2 Axes>"
      ]
     },
     "metadata": {},
     "output_type": "display_data"
    }
   ],
   "source": [
    "hinton(L_full_maker(xi_opt, dt))"
   ]
  },
  {
   "cell_type": "markdown",
   "metadata": {
    "heading_collapsed": true
   },
   "source": [
    "### Try2"
   ]
  },
  {
   "cell_type": "code",
   "execution_count": 85,
   "metadata": {
    "ExecuteTime": {
     "end_time": "2019-01-30T17:56:13.560383Z",
     "start_time": "2019-01-30T17:56:13.557119Z"
    },
    "hidden": true
   },
   "outputs": [],
   "source": [
    "total_time = 3*pi/omega_1\n",
    "epsilon = 10**(-6)\n",
    "max_iter = 100#10**4#1000#100#50#20\n",
    "time_steps = 20\n",
    "dt = total_time/time_steps"
   ]
  },
  {
   "cell_type": "code",
   "execution_count": 86,
   "metadata": {
    "ExecuteTime": {
     "end_time": "2019-01-30T17:56:14.232894Z",
     "start_time": "2019-01-30T17:56:13.562470Z"
    },
    "hidden": true
   },
   "outputs": [
    {
     "data": {
      "text/plain": [
       "array([307.99660544+0.j, 348.24209539+0.j, 994.23208953+0.j,\n",
       "       805.66129554+0.j, 752.3644325 +0.j, 572.16516822+0.j,\n",
       "       725.05517925+0.j, 549.17423446+0.j, 668.8922523 +0.j,\n",
       "       362.77852064+0.j, 745.8724467 +0.j, 232.27075906+0.j,\n",
       "       216.52775641+0.j, 299.45764407+0.j, 171.21078491+0.j,\n",
       "        87.92977019+0.j, 526.88481355+0.j, 427.86079664+0.j,\n",
       "         6.73834602+0.j, 191.11706252+0.j])"
      ]
     },
     "execution_count": 86,
     "metadata": {},
     "output_type": "execute_result"
    }
   ],
   "source": [
    "xi_opt = terminator(max_iter, time_steps, total_time, epsilon)\n",
    "xi_opt"
   ]
  },
  {
   "cell_type": "code",
   "execution_count": 87,
   "metadata": {
    "ExecuteTime": {
     "end_time": "2019-01-30T17:56:14.280164Z",
     "start_time": "2019-01-30T17:56:14.235499Z"
    },
    "hidden": true
   },
   "outputs": [
    {
     "data": {
      "text/plain": [
       "-7.999163191221685"
      ]
     },
     "execution_count": 87,
     "metadata": {},
     "output_type": "execute_result"
    }
   ],
   "source": [
    "F(xi_opt, dt)"
   ]
  },
  {
   "cell_type": "code",
   "execution_count": 88,
   "metadata": {
    "ExecuteTime": {
     "end_time": "2019-01-30T17:56:14.287237Z",
     "start_time": "2019-01-30T17:56:14.283093Z"
    },
    "hidden": true
   },
   "outputs": [
    {
     "data": {
      "text/plain": [
       "100"
      ]
     },
     "execution_count": 88,
     "metadata": {},
     "output_type": "execute_result"
    }
   ],
   "source": [
    "max_iter"
   ]
  },
  {
   "cell_type": "code",
   "execution_count": 89,
   "metadata": {
    "ExecuteTime": {
     "end_time": "2019-01-30T17:56:14.297489Z",
     "start_time": "2019-01-30T17:56:14.291149Z"
    },
    "hidden": true
   },
   "outputs": [
    {
     "data": {
      "text/latex": [
       "Quantum object: dims = [[2, 2], [2, 2]], shape = (4, 4), type = oper, isherm = True\\begin{equation*}\\left(\\begin{array}{*{11}c}0.0 & 0.0 & 0.0 & 1.0\\\\0.0 & 0.0 & 1.0 & 0.0\\\\0.0 & 1.0 & 0.0 & 0.0\\\\1.0 & 0.0 & 0.0 & 0.0\\\\\\end{array}\\right)\\end{equation*}"
      ],
      "text/plain": [
       "Quantum object: dims = [[2, 2], [2, 2]], shape = (4, 4), type = oper, isherm = True\n",
       "Qobj data =\n",
       "[[0. 0. 0. 1.]\n",
       " [0. 0. 1. 0.]\n",
       " [0. 1. 0. 0.]\n",
       " [1. 0. 0. 0.]]"
      ]
     },
     "execution_count": 89,
     "metadata": {},
     "output_type": "execute_result"
    }
   ],
   "source": [
    "T"
   ]
  },
  {
   "cell_type": "code",
   "execution_count": 90,
   "metadata": {
    "ExecuteTime": {
     "end_time": "2019-01-30T17:56:14.344777Z",
     "start_time": "2019-01-30T17:56:14.300619Z"
    },
    "hidden": true
   },
   "outputs": [
    {
     "data": {
      "text/latex": [
       "Quantum object: dims = [[2, 2], [2, 2]], shape = (4, 4), type = oper, isherm = False\\begin{equation*}\\left(\\begin{array}{*{11}c}0.532 & (0.499-0.019j) & (0.499+0.019j) & 0.468\\\\(-0.499+0.004j) & (0.531-0.025j) & (-0.468-0.014j) & (0.499-0.004j)\\\\(-0.499-0.004j) & (-0.468+0.014j) & (0.531+0.025j) & (0.499+0.004j)\\\\0.468 & (-0.499+0.019j) & (-0.499-0.019j) & 0.532\\\\\\end{array}\\right)\\end{equation*}"
      ],
      "text/plain": [
       "Quantum object: dims = [[2, 2], [2, 2]], shape = (4, 4), type = oper, isherm = False\n",
       "Qobj data =\n",
       "[[ 0.53198451+0.j          0.4986045 -0.01924948j  0.4986045 +0.01924948j\n",
       "   0.46801549+0.j        ]\n",
       " [-0.49895712+0.00433438j  0.53139017-0.02513978j -0.46780628-0.013992j\n",
       "   0.49895712-0.00433438j]\n",
       " [-0.49895712-0.00433438j -0.46780628+0.013992j    0.53139017+0.02513978j\n",
       "   0.49895712+0.00433438j]\n",
       " [ 0.46801549+0.j         -0.4986045 +0.01924948j -0.4986045 -0.01924948j\n",
       "   0.53198451+0.j        ]]"
      ]
     },
     "execution_count": 90,
     "metadata": {},
     "output_type": "execute_result"
    }
   ],
   "source": [
    "L_full_maker(xi_opt, dt)"
   ]
  },
  {
   "cell_type": "code",
   "execution_count": 91,
   "metadata": {
    "ExecuteTime": {
     "end_time": "2019-01-30T17:56:14.698203Z",
     "start_time": "2019-01-30T17:56:14.347240Z"
    },
    "hidden": true
   },
   "outputs": [
    {
     "data": {
      "text/plain": [
       "(<Figure size 576x432 with 2 Axes>,\n",
       " <matplotlib.axes._subplots.AxesSubplot at 0x1a19e592b0>)"
      ]
     },
     "execution_count": 91,
     "metadata": {},
     "output_type": "execute_result"
    },
    {
     "data": {
      "image/png": "[encoded data removed]",
      "text/plain": [
       "<Figure size 576x432 with 2 Axes>"
      ]
     },
     "metadata": {},
     "output_type": "display_data"
    }
   ],
   "source": [
    "hinton(L_full_maker(xi_opt, dt))"
   ]
  },
  {
   "cell_type": "markdown",
   "metadata": {
    "heading_collapsed": true
   },
   "source": [
    "### Try2"
   ]
  },
  {
   "cell_type": "code",
   "execution_count": 92,
   "metadata": {
    "ExecuteTime": {
     "end_time": "2019-01-30T17:56:14.704553Z",
     "start_time": "2019-01-30T17:56:14.700637Z"
    },
    "hidden": true
   },
   "outputs": [],
   "source": [
    "total_time = 3*pi/omega_1\n",
    "epsilon = 10**(-6)\n",
    "max_iter = 100#10**4#1000#100#50#20\n",
    "time_steps = 200\n",
    "dt = total_time/time_steps"
   ]
  },
  {
   "cell_type": "code",
   "execution_count": 93,
   "metadata": {
    "ExecuteTime": {
     "end_time": "2019-01-30T17:57:13.405479Z",
     "start_time": "2019-01-30T17:56:14.706565Z"
    },
    "hidden": true
   },
   "outputs": [
    {
     "data": {
      "text/plain": [
       "array([753.64126704+0.j, 573.56426237+0.j, 714.6924714 +0.j,\n",
       "       797.99827118+0.j, 263.59055883+0.j, 168.500403  +0.j,\n",
       "       923.66196723+0.j, 323.80034874+0.j, 457.15588855+0.j,\n",
       "       355.46567776+0.j, 280.75135591+0.j, 190.18944883+0.j,\n",
       "       674.70879789+0.j,  54.12080037+0.j, 649.0994239 +0.j,\n",
       "       866.70472666+0.j, 662.37938673+0.j, 246.16308868+0.j,\n",
       "       993.51232927+0.j, 940.13460175+0.j, 386.07273227+0.j,\n",
       "        54.85555633+0.j,  47.29835432+0.j, 829.72090904+0.j,\n",
       "       447.07803453+0.j, 911.15123144+0.j, 908.82957801+0.j,\n",
       "       135.74602088+0.j, 930.22890347+0.j, 667.29290637+0.j,\n",
       "       508.10477283+0.j, 411.7111872 +0.j, 394.4909149 +0.j,\n",
       "       867.32819175+0.j, 554.48017114+0.j, 926.03836676+0.j,\n",
       "       754.02952039+0.j, 999.39519539+0.j, 291.55254259+0.j,\n",
       "       381.61226652+0.j, 648.59349459+0.j, 167.21383925+0.j,\n",
       "       422.58332462+0.j, 938.52223333+0.j, 582.40520172+0.j,\n",
       "        47.19108095+0.j, 613.84537915+0.j, 224.27359316+0.j,\n",
       "       879.83101161+0.j, 653.74772808+0.j, 123.48902919+0.j,\n",
       "       508.27321114+0.j, 415.98172168+0.j, 427.08765386+0.j,\n",
       "       628.45746835+0.j, 752.25949857+0.j, 613.20876147+0.j,\n",
       "        24.46453275+0.j, 391.42225302+0.j, 373.38929479+0.j,\n",
       "       946.66846469+0.j,  46.25182251+0.j, 252.88219329+0.j,\n",
       "       915.2846091 +0.j, 423.14336808+0.j, 983.01434625+0.j,\n",
       "       610.24850474+0.j, 254.26050934+0.j, 433.69088192+0.j,\n",
       "       250.62089888+0.j, 360.39113309+0.j, 849.79159208+0.j,\n",
       "       627.59866989+0.j, 188.09708597+0.j, 345.70474669+0.j,\n",
       "       307.52256962+0.j,  58.09774979+0.j, 847.49083252+0.j,\n",
       "       756.13371736+0.j, 910.33924534+0.j, 232.34811516+0.j,\n",
       "       397.96507741+0.j, 433.94297178+0.j, 604.46925614+0.j,\n",
       "       992.27650908+0.j, 536.10526359+0.j, 225.8895447 +0.j,\n",
       "       341.0022729 +0.j,  56.25646356+0.j, 596.06951488+0.j,\n",
       "       737.25245063+0.j, 907.33332588+0.j, 958.12182148+0.j,\n",
       "       663.91560108+0.j, 386.91677718+0.j,  12.36748665+0.j,\n",
       "       278.84344926+0.j, 621.30683527+0.j, 190.24749001+0.j,\n",
       "       977.76487371+0.j, 813.13846841+0.j, 864.7066563 +0.j,\n",
       "       189.97285104+0.j, 469.94657659+0.j, 126.66666219+0.j,\n",
       "        78.8942769 +0.j,  86.44474583+0.j, 456.83607683+0.j,\n",
       "       752.80855525+0.j, 327.52640471+0.j, 758.27579215+0.j,\n",
       "       112.84779241+0.j, 479.10954646+0.j, 806.02322104+0.j,\n",
       "       384.22824697+0.j, 242.21409962+0.j, 353.22233227+0.j,\n",
       "       454.42297947+0.j, 740.97717972+0.j, 817.659666  +0.j,\n",
       "       948.42994775+0.j,  38.9661036 +0.j, 684.09118875+0.j,\n",
       "       748.7436804 +0.j, 981.25318891+0.j, 137.77412931+0.j,\n",
       "       163.28802652+0.j, 419.3208051 +0.j,  59.40935112+0.j,\n",
       "       814.29530672+0.j, 758.22380435+0.j,  64.35696941+0.j,\n",
       "       997.79707396+0.j, 274.43120344+0.j, 568.04712779+0.j,\n",
       "       518.08886601+0.j, 404.74676338+0.j, 330.09544412+0.j,\n",
       "       751.24152962+0.j, 574.43507754+0.j, 362.21534065+0.j,\n",
       "       188.2726516 +0.j, 359.07842374+0.j,  36.28301273+0.j,\n",
       "       652.28278302+0.j, 526.73071956+0.j, 469.30517968+0.j,\n",
       "       833.70646161+0.j, 673.31470553+0.j, 646.17270725+0.j,\n",
       "       301.37871332+0.j, 297.53382349+0.j, 979.21584407+0.j,\n",
       "       650.49888577+0.j, 789.99918428+0.j, 852.40877553+0.j,\n",
       "        62.07044955+0.j,  30.75565968+0.j, 478.17018001+0.j,\n",
       "       157.22667204+0.j, 309.97675569+0.j, 423.6049333 +0.j,\n",
       "        29.44948039+0.j, 969.30553267+0.j, 425.45551421+0.j,\n",
       "       496.80615606+0.j, 137.26218644+0.j, 548.11715489+0.j,\n",
       "       958.95558656+0.j,  14.18839795+0.j, 581.88439163+0.j,\n",
       "       471.27577399+0.j, 499.61017254+0.j, 445.56463653+0.j,\n",
       "       108.0476538 +0.j, 576.84277857+0.j, 512.02904872+0.j,\n",
       "       372.48674846+0.j, 914.20082022+0.j, 309.87034057+0.j,\n",
       "       104.78950317+0.j,   2.4398907 +0.j, 572.66757829+0.j,\n",
       "       221.19773117+0.j, 638.38351679+0.j, 501.53960382+0.j,\n",
       "       210.83216358+0.j, 991.81372999+0.j, 181.8544923 +0.j,\n",
       "       694.8790396 +0.j, 487.2501827 +0.j, 458.06303885+0.j,\n",
       "       971.16042809+0.j, 372.12077956+0.j, 208.39534995+0.j,\n",
       "       667.44125828+0.j, 143.82756879+0.j, 775.40144649+0.j,\n",
       "       324.19963721+0.j, 569.84614679+0.j])"
      ]
     },
     "execution_count": 93,
     "metadata": {},
     "output_type": "execute_result"
    }
   ],
   "source": [
    "xi_opt = terminator(max_iter, time_steps, total_time, epsilon)\n",
    "xi_opt"
   ]
  },
  {
   "cell_type": "code",
   "execution_count": 94,
   "metadata": {
    "ExecuteTime": {
     "end_time": "2019-01-30T17:57:13.704155Z",
     "start_time": "2019-01-30T17:57:13.407831Z"
    },
    "hidden": true
   },
   "outputs": [
    {
     "data": {
      "text/plain": [
       "-7.997788403386666"
      ]
     },
     "execution_count": 94,
     "metadata": {},
     "output_type": "execute_result"
    }
   ],
   "source": [
    "F(xi_opt, dt)"
   ]
  },
  {
   "cell_type": "code",
   "execution_count": 95,
   "metadata": {
    "ExecuteTime": {
     "end_time": "2019-01-30T17:57:13.710329Z",
     "start_time": "2019-01-30T17:57:13.706301Z"
    },
    "hidden": true
   },
   "outputs": [
    {
     "data": {
      "text/plain": [
       "100"
      ]
     },
     "execution_count": 95,
     "metadata": {},
     "output_type": "execute_result"
    }
   ],
   "source": [
    "max_iter"
   ]
  },
  {
   "cell_type": "code",
   "execution_count": 96,
   "metadata": {
    "ExecuteTime": {
     "end_time": "2019-01-30T17:57:13.719346Z",
     "start_time": "2019-01-30T17:57:13.712605Z"
    },
    "hidden": true
   },
   "outputs": [
    {
     "data": {
      "text/latex": [
       "Quantum object: dims = [[2, 2], [2, 2]], shape = (4, 4), type = oper, isherm = True\\begin{equation*}\\left(\\begin{array}{*{11}c}0.0 & 0.0 & 0.0 & 1.0\\\\0.0 & 0.0 & 1.0 & 0.0\\\\0.0 & 1.0 & 0.0 & 0.0\\\\1.0 & 0.0 & 0.0 & 0.0\\\\\\end{array}\\right)\\end{equation*}"
      ],
      "text/plain": [
       "Quantum object: dims = [[2, 2], [2, 2]], shape = (4, 4), type = oper, isherm = True\n",
       "Qobj data =\n",
       "[[0. 0. 0. 1.]\n",
       " [0. 0. 1. 0.]\n",
       " [0. 1. 0. 0.]\n",
       " [1. 0. 0. 0.]]"
      ]
     },
     "execution_count": 96,
     "metadata": {},
     "output_type": "execute_result"
    }
   ],
   "source": [
    "T"
   ]
  },
  {
   "cell_type": "code",
   "execution_count": 97,
   "metadata": {
    "ExecuteTime": {
     "end_time": "2019-01-30T17:57:14.047207Z",
     "start_time": "2019-01-30T17:57:13.721511Z"
    },
    "hidden": true
   },
   "outputs": [
    {
     "data": {
      "text/latex": [
       "Quantum object: dims = [[2, 2], [2, 2]], shape = (4, 4), type = oper, isherm = False\\begin{equation*}\\left(\\begin{array}{*{11}c}0.132 & (0.331+0.072j) & (0.331-0.072j) & 0.868\\\\(-0.328-0.084j) & (0.118+0.059j) & (-0.868-0.031j) & (0.328+0.084j)\\\\(-0.328+0.084j) & (-0.868+0.031j) & (0.118-0.059j) & (0.328-0.084j)\\\\0.868 & (-0.331-0.072j) & (-0.331+0.072j) & 0.132\\\\\\end{array}\\right)\\end{equation*}"
      ],
      "text/plain": [
       "Quantum object: dims = [[2, 2], [2, 2]], shape = (4, 4), type = oper, isherm = False\n",
       "Qobj data =\n",
       "[[ 0.13187462+0.j          0.33063963+0.07184109j  0.33063963-0.07184109j\n",
       "   0.86812538+0.j        ]\n",
       " [-0.32786545-0.08359399j  0.11795511+0.0589704j  -0.86757248-0.03097847j\n",
       "   0.32786545+0.08359399j]\n",
       " [-0.32786545+0.08359399j -0.86757248+0.03097847j  0.11795511-0.0589704j\n",
       "   0.32786545-0.08359399j]\n",
       " [ 0.86812538+0.j         -0.33063963-0.07184109j -0.33063963+0.07184109j\n",
       "   0.13187462+0.j        ]]"
      ]
     },
     "execution_count": 97,
     "metadata": {},
     "output_type": "execute_result"
    }
   ],
   "source": [
    "L_full_maker(xi_opt, dt)"
   ]
  },
  {
   "cell_type": "code",
   "execution_count": 98,
   "metadata": {
    "ExecuteTime": {
     "end_time": "2019-01-30T17:57:14.601975Z",
     "start_time": "2019-01-30T17:57:14.049498Z"
    },
    "hidden": true
   },
   "outputs": [
    {
     "data": {
      "text/plain": [
       "(<Figure size 576x432 with 2 Axes>,\n",
       " <matplotlib.axes._subplots.AxesSubplot at 0x1a1a1127b8>)"
      ]
     },
     "execution_count": 98,
     "metadata": {},
     "output_type": "execute_result"
    },
    {
     "data": {
      "image/png": "[encoded data removed]",
      "text/plain": [
       "<Figure size 576x432 with 2 Axes>"
      ]
     },
     "metadata": {},
     "output_type": "display_data"
    }
   ],
   "source": [
    "hinton(L_full_maker(xi_opt, dt))"
   ]
  },
  {
   "cell_type": "markdown",
   "metadata": {
    "heading_collapsed": true
   },
   "source": [
    "### Try2"
   ]
  },
  {
   "cell_type": "code",
   "execution_count": 99,
   "metadata": {
    "ExecuteTime": {
     "end_time": "2019-01-30T17:57:14.607345Z",
     "start_time": "2019-01-30T17:57:14.603946Z"
    },
    "hidden": true
   },
   "outputs": [],
   "source": [
    "total_time = 3*pi/omega_1\n",
    "epsilon = (0.1*2*pi)/(total_time)#10**(-6)\n",
    "max_iter = 10#10**4#1000#100#50#20\n",
    "time_steps = 20\n",
    "dt = total_time/time_steps"
   ]
  },
  {
   "cell_type": "code",
   "execution_count": 100,
   "metadata": {
    "ExecuteTime": {
     "end_time": "2019-01-30T17:57:15.231052Z",
     "start_time": "2019-01-30T17:57:14.609973Z"
    },
    "hidden": true
   },
   "outputs": [
    {
     "data": {
      "text/plain": [
       "array([ 38.26210636+0.j,  21.73406572+0.j, 446.15758987+0.j,\n",
       "       840.41795109+0.j, 588.95347476+0.j, 861.34830972+0.j,\n",
       "        85.81080314+0.j,  70.75373449+0.j, 686.03993662+0.j,\n",
       "       707.55499301+0.j, 222.21118848+0.j, 801.89232344+0.j,\n",
       "       881.38241882+0.j, 227.74613146+0.j, 365.5482472 +0.j,\n",
       "       998.28716414+0.j, 942.37896788+0.j, 265.76315331+0.j,\n",
       "        32.64531023+0.j, 723.1201359 +0.j])"
      ]
     },
     "execution_count": 100,
     "metadata": {},
     "output_type": "execute_result"
    }
   ],
   "source": [
    "xi_opt = terminator(max_iter, time_steps, total_time, epsilon)\n",
    "xi_opt"
   ]
  },
  {
   "cell_type": "code",
   "execution_count": 101,
   "metadata": {
    "ExecuteTime": {
     "end_time": "2019-01-30T17:57:15.274646Z",
     "start_time": "2019-01-30T17:57:15.233243Z"
    },
    "hidden": true
   },
   "outputs": [
    {
     "data": {
      "text/plain": [
       "-7.998374060890137"
      ]
     },
     "execution_count": 101,
     "metadata": {},
     "output_type": "execute_result"
    }
   ],
   "source": [
    "F(xi_opt, dt)"
   ]
  },
  {
   "cell_type": "code",
   "execution_count": 102,
   "metadata": {
    "ExecuteTime": {
     "end_time": "2019-01-30T17:57:15.281229Z",
     "start_time": "2019-01-30T17:57:15.276487Z"
    },
    "hidden": true
   },
   "outputs": [
    {
     "data": {
      "text/plain": [
       "10"
      ]
     },
     "execution_count": 102,
     "metadata": {},
     "output_type": "execute_result"
    }
   ],
   "source": [
    "max_iter"
   ]
  },
  {
   "cell_type": "code",
   "execution_count": 103,
   "metadata": {
    "ExecuteTime": {
     "end_time": "2019-01-30T17:57:15.290111Z",
     "start_time": "2019-01-30T17:57:15.283696Z"
    },
    "hidden": true
   },
   "outputs": [
    {
     "data": {
      "text/latex": [
       "Quantum object: dims = [[2, 2], [2, 2]], shape = (4, 4), type = oper, isherm = True\\begin{equation*}\\left(\\begin{array}{*{11}c}0.0 & 0.0 & 0.0 & 1.0\\\\0.0 & 0.0 & 1.0 & 0.0\\\\0.0 & 1.0 & 0.0 & 0.0\\\\1.0 & 0.0 & 0.0 & 0.0\\\\\\end{array}\\right)\\end{equation*}"
      ],
      "text/plain": [
       "Quantum object: dims = [[2, 2], [2, 2]], shape = (4, 4), type = oper, isherm = True\n",
       "Qobj data =\n",
       "[[0. 0. 0. 1.]\n",
       " [0. 0. 1. 0.]\n",
       " [0. 1. 0. 0.]\n",
       " [1. 0. 0. 0.]]"
      ]
     },
     "execution_count": 103,
     "metadata": {},
     "output_type": "execute_result"
    }
   ],
   "source": [
    "T"
   ]
  },
  {
   "cell_type": "code",
   "execution_count": 104,
   "metadata": {
    "ExecuteTime": {
     "end_time": "2019-01-30T17:57:15.344008Z",
     "start_time": "2019-01-30T17:57:15.292692Z"
    },
    "hidden": true
   },
   "outputs": [
    {
     "data": {
      "text/latex": [
       "Quantum object: dims = [[2, 2], [2, 2]], shape = (4, 4), type = oper, isherm = False\\begin{equation*}\\left(\\begin{array}{*{11}c}0.053 & (-0.223+9.710\\times10^{-04}j) & (-0.223-9.710\\times10^{-04}j) & 0.947\\\\(0.223-0.008j) & (0.053-0.002j) & (-0.947+0.028j) & (-0.223+0.008j)\\\\(0.223+0.008j) & (-0.947-0.028j) & (0.053+0.002j) & (-0.223-0.008j)\\\\0.947 & (0.223-9.710\\times10^{-04}j) & (0.223+9.710\\times10^{-04}j) & 0.053\\\\\\end{array}\\right)\\end{equation*}"
      ],
      "text/plain": [
       "Quantum object: dims = [[2, 2], [2, 2]], shape = (4, 4), type = oper, isherm = False\n",
       "Qobj data =\n",
       "[[ 0.05255914+0.j         -0.22314959+0.00097103j -0.22314959-0.00097103j\n",
       "   0.94744086+0.j        ]\n",
       " [ 0.22302541-0.00750659j  0.05252121-0.0019966j  -0.94703437+0.02775023j\n",
       "  -0.22302541+0.00750659j]\n",
       " [ 0.22302541+0.00750659j -0.94703437-0.02775023j  0.05252121+0.0019966j\n",
       "  -0.22302541-0.00750659j]\n",
       " [ 0.94744086+0.j          0.22314959-0.00097103j  0.22314959+0.00097103j\n",
       "   0.05255914+0.j        ]]"
      ]
     },
     "execution_count": 104,
     "metadata": {},
     "output_type": "execute_result"
    }
   ],
   "source": [
    "L_full_maker(xi_opt, dt)"
   ]
  },
  {
   "cell_type": "code",
   "execution_count": 105,
   "metadata": {
    "ExecuteTime": {
     "end_time": "2019-01-30T17:57:15.645865Z",
     "start_time": "2019-01-30T17:57:15.346382Z"
    },
    "hidden": true
   },
   "outputs": [
    {
     "data": {
      "text/plain": [
       "(<Figure size 576x432 with 2 Axes>,\n",
       " <matplotlib.axes._subplots.AxesSubplot at 0x1a19edbf28>)"
      ]
     },
     "execution_count": 105,
     "metadata": {},
     "output_type": "execute_result"
    },
    {
     "data": {
      "image/png": "[encoded data removed]",
      "text/plain": [
       "<Figure size 576x432 with 2 Axes>"
      ]
     },
     "metadata": {},
     "output_type": "display_data"
    }
   ],
   "source": [
    "hinton(L_full_maker(xi_opt, dt))"
   ]
  },
  {
   "cell_type": "markdown",
   "metadata": {},
   "source": [
    "### Try2"
   ]
  },
  {
   "cell_type": "code",
   "execution_count": 106,
   "metadata": {
    "ExecuteTime": {
     "end_time": "2019-01-30T17:57:15.651315Z",
     "start_time": "2019-01-30T17:57:15.648221Z"
    }
   },
   "outputs": [],
   "source": [
    "total_time = 3*pi/omega_1\n",
    "epsilon = (0.1*2*pi)/(total_time)#10**(-6)\n",
    "max_iter = 500#10#10**4#1000#100#50#20\n",
    "time_steps = 20\n",
    "dt = total_time/time_steps"
   ]
  },
  {
   "cell_type": "code",
   "execution_count": 107,
   "metadata": {
    "ExecuteTime": {
     "end_time": "2019-01-30T17:57:16.278816Z",
     "start_time": "2019-01-30T17:57:15.653300Z"
    }
   },
   "outputs": [
    {
     "data": {
      "text/plain": [
       "array([519.56348112+0.j, 784.02530827+0.j, 986.98743817+0.j,\n",
       "       961.41127746+0.j, 773.76381599+0.j, 847.66637248+0.j,\n",
       "       376.41258141+0.j, 918.0130263 +0.j, 234.31701264+0.j,\n",
       "       554.60878022+0.j, 542.46136329+0.j, 189.81287231+0.j,\n",
       "       869.45388803+0.j, 577.83010595+0.j, 505.85101269+0.j,\n",
       "       756.33516652+0.j, 688.31056622+0.j, 303.22824885+0.j,\n",
       "       927.2533066 +0.j, 954.53280283+0.j])"
      ]
     },
     "execution_count": 107,
     "metadata": {},
     "output_type": "execute_result"
    }
   ],
   "source": [
    "xi_opt = terminator(max_iter, time_steps, total_time, epsilon)\n",
    "xi_opt"
   ]
  },
  {
   "cell_type": "code",
   "execution_count": 108,
   "metadata": {
    "ExecuteTime": {
     "end_time": "2019-01-30T17:57:16.321404Z",
     "start_time": "2019-01-30T17:57:16.281195Z"
    }
   },
   "outputs": [
    {
     "data": {
      "text/plain": [
       "-7.999915310199183"
      ]
     },
     "execution_count": 108,
     "metadata": {},
     "output_type": "execute_result"
    }
   ],
   "source": [
    "F(xi_opt, dt)"
   ]
  },
  {
   "cell_type": "code",
   "execution_count": 109,
   "metadata": {
    "ExecuteTime": {
     "end_time": "2019-01-30T17:57:16.328175Z",
     "start_time": "2019-01-30T17:57:16.323430Z"
    }
   },
   "outputs": [
    {
     "data": {
      "text/plain": [
       "500"
      ]
     },
     "execution_count": 109,
     "metadata": {},
     "output_type": "execute_result"
    }
   ],
   "source": [
    "max_iter"
   ]
  },
  {
   "cell_type": "code",
   "execution_count": 110,
   "metadata": {
    "ExecuteTime": {
     "end_time": "2019-01-30T17:57:16.337396Z",
     "start_time": "2019-01-30T17:57:16.330053Z"
    }
   },
   "outputs": [
    {
     "data": {
      "text/latex": [
       "Quantum object: dims = [[2, 2], [2, 2]], shape = (4, 4), type = oper, isherm = True\\begin{equation*}\\left(\\begin{array}{*{11}c}0.0 & 0.0 & 0.0 & 1.0\\\\0.0 & 0.0 & 1.0 & 0.0\\\\0.0 & 1.0 & 0.0 & 0.0\\\\1.0 & 0.0 & 0.0 & 0.0\\\\\\end{array}\\right)\\end{equation*}"
      ],
      "text/plain": [
       "Quantum object: dims = [[2, 2], [2, 2]], shape = (4, 4), type = oper, isherm = True\n",
       "Qobj data =\n",
       "[[0. 0. 0. 1.]\n",
       " [0. 0. 1. 0.]\n",
       " [0. 1. 0. 0.]\n",
       " [1. 0. 0. 0.]]"
      ]
     },
     "execution_count": 110,
     "metadata": {},
     "output_type": "execute_result"
    }
   ],
   "source": [
    "T"
   ]
  },
  {
   "cell_type": "code",
   "execution_count": 111,
   "metadata": {
    "ExecuteTime": {
     "end_time": "2019-01-30T17:57:16.376289Z",
     "start_time": "2019-01-30T17:57:16.340690Z"
    }
   },
   "outputs": [],
   "source": [
    "myU = L_full_maker(xi_opt, dt)"
   ]
  },
  {
   "cell_type": "code",
   "execution_count": 112,
   "metadata": {
    "ExecuteTime": {
     "end_time": "2019-01-30T17:57:16.384858Z",
     "start_time": "2019-01-30T17:57:16.378473Z"
    }
   },
   "outputs": [
    {
     "data": {
      "text/latex": [
       "Quantum object: dims = [[2, 2], [2, 2]], shape = (4, 4), type = oper, isherm = False\\begin{equation*}\\left(\\begin{array}{*{11}c}0.033 & (0.182-0.002j) & (0.182+0.002j) & 1.0\\\\(-0.182+0.001j) & (0.033-6.516\\times10^{-04}j) & (-1.000-0.007j) & (0.182-0.001j)\\\\(-0.182-0.001j) & (-1.000+0.007j) & (0.033+6.516\\times10^{-04}j) & (0.182+0.001j)\\\\1.000 & (-0.182+0.002j) & (-0.182-0.002j) & 0.033\\\\\\end{array}\\right)\\end{equation*}"
      ],
      "text/plain": [
       "Quantum object: dims = [[2, 2], [2, 2]], shape = (4, 4), type = oper, isherm = False\n",
       "Qobj data =\n",
       "[[ 0.03298456+0.j          0.18160072-0.00239443j  0.18160072+0.00239443j\n",
       "   1.        +0.j        ]\n",
       " [-0.18161259+0.00119333j  0.03297812-0.00065157j -0.99997813-0.00661371j\n",
       "   0.18161259-0.00119333j]\n",
       " [-0.18161259-0.00119333j -0.99997813+0.00661371j  0.03297812+0.00065157j\n",
       "   0.18161259+0.00119333j]\n",
       " [ 1.        +0.j         -0.18160072+0.00239443j -0.18160072-0.00239443j\n",
       "   0.03298456+0.j        ]]"
      ]
     },
     "execution_count": 112,
     "metadata": {},
     "output_type": "execute_result"
    }
   ],
   "source": [
    "myU/myU[0, 3]"
   ]
  },
  {
   "cell_type": "code",
   "execution_count": 113,
   "metadata": {
    "ExecuteTime": {
     "end_time": "2019-01-30T17:57:16.682500Z",
     "start_time": "2019-01-30T17:57:16.387387Z"
    }
   },
   "outputs": [
    {
     "data": {
      "text/plain": [
       "(<Figure size 576x432 with 2 Axes>,\n",
       " <matplotlib.axes._subplots.AxesSubplot at 0x1a1a6c3f60>)"
      ]
     },
     "execution_count": 113,
     "metadata": {},
     "output_type": "execute_result"
    },
    {
     "data": {
      "image/png": "[encoded data removed]",
      "text/plain": [
       "<Figure size 576x432 with 2 Axes>"
      ]
     },
     "metadata": {},
     "output_type": "display_data"
    }
   ],
   "source": [
    "hinton(myU)"
   ]
  },
  {
   "cell_type": "code",
   "execution_count": 114,
   "metadata": {
    "ExecuteTime": {
     "end_time": "2019-01-30T17:57:16.967846Z",
     "start_time": "2019-01-30T17:57:16.684826Z"
    }
   },
   "outputs": [
    {
     "data": {
      "text/plain": [
       "(<Figure size 576x432 with 2 Axes>,\n",
       " <matplotlib.axes._subplots.AxesSubplot at 0x1a1a67af98>)"
      ]
     },
     "execution_count": 114,
     "metadata": {},
     "output_type": "execute_result"
    },
    {
     "data": {
      "image/png": "[encoded data removed]",
      "text/plain": [
       "<Figure size 576x432 with 2 Axes>"
      ]
     },
     "metadata": {},
     "output_type": "display_data"
    }
   ],
   "source": [
    "hinton(L_full_maker(xi_opt, dt))"
   ]
  },
  {
   "cell_type": "code",
   "execution_count": 115,
   "metadata": {
    "ExecuteTime": {
     "end_time": "2019-01-30T17:59:46.946628Z",
     "start_time": "2019-01-30T17:59:46.566763Z"
    }
   },
   "outputs": [
    {
     "data": {
      "text/plain": [
       "(<Figure size 576x432 with 2 Axes>,\n",
       " <matplotlib.axes._subplots.AxesSubplot at 0x1a1a9217b8>)"
      ]
     },
     "execution_count": 115,
     "metadata": {},
     "output_type": "execute_result"
    },
    {
     "data": {
      "image/png": "[encoded data removed]",
      "text/plain": [
       "<Figure size 576x432 with 2 Axes>"
      ]
     },
     "metadata": {},
     "output_type": "display_data"
    }
   ],
   "source": [
    "hinton(T)"
   ]
  },
  {
   "cell_type": "code",
   "execution_count": null,
   "metadata": {},
   "outputs": [],
   "source": []
  },
  {
   "cell_type": "code",
   "execution_count": null,
   "metadata": {},
   "outputs": [],
   "source": []
  }
 ],
 "metadata": {
  "kernelspec": {
   "display_name": "Python 3",
   "language": "python",
   "name": "python3"
  },
  "language_info": {
   "codemirror_mode": {
    "name": "ipython",
    "version": 3
   },
   "file_extension": ".py",
   "mimetype": "text/x-python",
   "name": "python",
   "nbconvert_exporter": "python",
   "pygments_lexer": "ipython3",
   "version": "3.6.8"
  },
  "toc": {
   "base_numbering": 1,
   "nav_menu": {},
   "number_sections": true,
   "sideBar": true,
   "skip_h1_title": false,
   "title_cell": "Table of Contents",
   "title_sidebar": "Contents",
   "toc_cell": false,
   "toc_position": {},
   "toc_section_display": true,
   "toc_window_display": true
  }
 },
 "nbformat": 4,
 "nbformat_minor": 2
}
