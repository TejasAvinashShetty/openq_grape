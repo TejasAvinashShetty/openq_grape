{
 "cells": [
  {
   "cell_type": "markdown",
   "metadata": {},
   "source": [
    "# Imports"
   ]
  },
  {
   "cell_type": "markdown",
   "metadata": {},
   "source": [
    "## Qutip imports 1"
   ]
  },
  {
   "cell_type": "code",
   "execution_count": 1,
   "metadata": {
    "ExecuteTime": {
     "end_time": "2019-01-22T13:10:14.109385Z",
     "start_time": "2019-01-22T13:10:12.561627Z"
    }
   },
   "outputs": [],
   "source": [
    "from qutip.operators import sigmax, sigmay, sigmaz, identity\n",
    "# position, momentum, num, create, destroy, commutator, qeye \n",
    "from qutip.tensor import tensor\n",
    "from qutip.qip.gates import swap, rx, ry, rz\n",
    "from qutip.qobj import Qobj\n",
    "from qutip.visualization import hinton\n",
    "from qutip.visualization import matrix_histogram_complex, matrix_histogram\n",
    "from qutip.random_objects import rand_herm, rand_unitary, rand_dm"
   ]
  },
  {
   "cell_type": "markdown",
   "metadata": {},
   "source": [
    "\n",
    "\n",
    "## Numpy imports "
   ]
  },
  {
   "cell_type": "code",
   "execution_count": 6,
   "metadata": {
    "ExecuteTime": {
     "end_time": "2019-01-22T13:10:31.837973Z",
     "start_time": "2019-01-22T13:10:31.831479Z"
    }
   },
   "outputs": [],
   "source": [
    "from numpy import sin, cos, tan, real, imag,  log, conj\n",
    "from numpy import array, append, linspace, arange\n",
    "from numpy import add, sqrt, abs, dot\n",
    "from numpy.random import random, random_sample, random\n",
    "from numpy import concatenate, trace\n",
    "from numpy import ones, zeros, ones_like, zeros_like\n",
    "from numpy import amax, amin, nanmax, nanmin\n",
    "# from numpy import pi"
   ]
  },
  {
   "cell_type": "markdown",
   "metadata": {},
   "source": [
    "\n",
    "\n",
    "\n",
    "## Scipy imports"
   ]
  },
  {
   "cell_type": "code",
   "execution_count": 7,
   "metadata": {
    "ExecuteTime": {
     "end_time": "2019-01-22T13:10:32.419487Z",
     "start_time": "2019-01-22T13:10:32.410851Z"
    }
   },
   "outputs": [],
   "source": [
    "from scipy.integrate import ode, odeint, complex_ode\n",
    "from scipy.optimize import minimize\n",
    "from scipy.linalg import eigh, inv, norm, expm\n",
    "# from scipy.linalg import \n",
    "# from scipy import"
   ]
  },
  {
   "cell_type": "markdown",
   "metadata": {},
   "source": [
    "## Matplotlib imports"
   ]
  },
  {
   "cell_type": "code",
   "execution_count": 8,
   "metadata": {
    "ExecuteTime": {
     "end_time": "2019-01-22T13:10:33.076934Z",
     "start_time": "2019-01-22T13:10:33.072705Z"
    }
   },
   "outputs": [],
   "source": [
    "from matplotlib.pyplot import plot, figure, show, savefig, axes\n",
    "from matplotlib.pyplot import xlabel, ylabel, title, legend\n",
    "from matplotlib import rcParams\n",
    "from matplotlib.pyplot import style \n",
    "from matplotlib.pyplot import xlim, ylim, axis \n",
    "# beware not same as axes\n",
    "from matplotlib.pyplot import subplot, subplots, text\n",
    "from matplotlib.pyplot import GridSpec\n",
    "\n",
    "\n",
    "\n",
    "pgf_with_rc_fonts = {\"pgf.texsystem\": \"pdflatex\"}\n",
    "rcParams.update(pgf_with_rc_fonts)\n",
    "style.use('seaborn-whitegrid')\n",
    "\n"
   ]
  },
  {
   "cell_type": "markdown",
   "metadata": {},
   "source": [
    "## Math imports"
   ]
  },
  {
   "cell_type": "code",
   "execution_count": 9,
   "metadata": {
    "ExecuteTime": {
     "end_time": "2019-01-22T13:10:34.052636Z",
     "start_time": "2019-01-22T13:10:34.043121Z"
    }
   },
   "outputs": [],
   "source": [
    "from math import pi\n",
    "from math import exp"
   ]
  },
  {
   "cell_type": "markdown",
   "metadata": {},
   "source": [
    "## Cmath imports"
   ]
  },
  {
   "cell_type": "code",
   "execution_count": null,
   "metadata": {},
   "outputs": [],
   "source": []
  },
  {
   "cell_type": "markdown",
   "metadata": {},
   "source": [
    "## Date and datetime imports"
   ]
  },
  {
   "cell_type": "code",
   "execution_count": 10,
   "metadata": {
    "ExecuteTime": {
     "end_time": "2019-01-22T13:10:35.878618Z",
     "start_time": "2019-01-22T13:10:35.874336Z"
    }
   },
   "outputs": [],
   "source": [
    "from datetime import date\n",
    "from datetime import datetime# now\n"
   ]
  },
  {
   "cell_type": "markdown",
   "metadata": {},
   "source": [
    "## Os imports"
   ]
  },
  {
   "cell_type": "code",
   "execution_count": 11,
   "metadata": {
    "ExecuteTime": {
     "end_time": "2019-01-22T13:10:37.239175Z",
     "start_time": "2019-01-22T13:10:37.235715Z"
    }
   },
   "outputs": [],
   "source": [
    "from os import getcwd, mkdir, chdir\n",
    "from os.path import abspath, join \n"
   ]
  },
  {
   "cell_type": "markdown",
   "metadata": {},
   "source": [
    "## Sympy imports"
   ]
  },
  {
   "cell_type": "code",
   "execution_count": 12,
   "metadata": {
    "ExecuteTime": {
     "end_time": "2019-01-22T13:10:38.506352Z",
     "start_time": "2019-01-22T13:10:37.867770Z"
    }
   },
   "outputs": [],
   "source": [
    "from sympy import Function, dsolve, Eq, Derivative, symbols\n",
    "# x, y, z, t = symbols('x y z t')\n",
    "# k, m, n = symbols('k m n', integer=True)\n",
    "# f, g, h = symbols('f g h', cls=Function)"
   ]
  },
  {
   "cell_type": "markdown",
   "metadata": {},
   "source": [
    "## Miscellaneous imports"
   ]
  },
  {
   "cell_type": "code",
   "execution_count": null,
   "metadata": {},
   "outputs": [],
   "source": []
  },
  {
   "cell_type": "markdown",
   "metadata": {},
   "source": [
    "## Extra useful functions"
   ]
  },
  {
   "cell_type": "code",
   "execution_count": 13,
   "metadata": {
    "ExecuteTime": {
     "end_time": "2019-01-22T13:10:39.513472Z",
     "start_time": "2019-01-22T13:10:39.510230Z"
    }
   },
   "outputs": [],
   "source": [
    "def rint(x):\n",
    "    print(\"x = \", x)\n",
    "    return None"
   ]
  },
  {
   "cell_type": "markdown",
   "metadata": {},
   "source": [
    "# Building parts"
   ]
  },
  {
   "cell_type": "code",
   "execution_count": 14,
   "metadata": {
    "ExecuteTime": {
     "end_time": "2019-01-22T13:10:40.405587Z",
     "start_time": "2019-01-22T13:10:40.325432Z"
    }
   },
   "outputs": [
    {
     "ename": "NameError",
     "evalue": "name 'omega_1' is not defined",
     "output_type": "error",
     "traceback": [
      "\u001b[0;31m---------------------------------------------------------------------------\u001b[0m",
      "\u001b[0;31mNameError\u001b[0m                                 Traceback (most recent call last)",
      "\u001b[0;32m<ipython-input-14-3e38f81848f0>\u001b[0m in \u001b[0;36m<module>\u001b[0;34m()\u001b[0m\n\u001b[0;32m----> 1\u001b[0;31m \u001b[0;32mdel\u001b[0m \u001b[0momega_1\u001b[0m\u001b[0;34m,\u001b[0m \u001b[0mtotal_time\u001b[0m\u001b[0;34m,\u001b[0m \u001b[0mepsilon\u001b[0m\u001b[0;34m,\u001b[0m\u001b[0;34m\u001b[0m\u001b[0;34m\u001b[0m\u001b[0m\n\u001b[0m\u001b[1;32m      2\u001b[0m \u001b[0momega_1\u001b[0m \u001b[0;34m=\u001b[0m \u001b[0;36m0.5\u001b[0m\u001b[0;34m\u001b[0m\u001b[0;34m\u001b[0m\u001b[0m\n\u001b[1;32m      3\u001b[0m \u001b[0mtotal_time\u001b[0m \u001b[0;34m=\u001b[0m \u001b[0;36m2\u001b[0m\u001b[0;34m*\u001b[0m\u001b[0mpi\u001b[0m\u001b[0;34m/\u001b[0m\u001b[0momega_1\u001b[0m\u001b[0;34m\u001b[0m\u001b[0;34m\u001b[0m\u001b[0m\n\u001b[1;32m      4\u001b[0m \u001b[0mepsilon\u001b[0m \u001b[0;34m=\u001b[0m \u001b[0;36m10\u001b[0m\u001b[0;34m**\u001b[0m\u001b[0;34m(\u001b[0m\u001b[0;34m-\u001b[0m\u001b[0;36m6\u001b[0m\u001b[0;34m)\u001b[0m\u001b[0;34m\u001b[0m\u001b[0;34m\u001b[0m\u001b[0m\n\u001b[1;32m      5\u001b[0m \u001b[0mmax_iter\u001b[0m \u001b[0;34m=\u001b[0m \u001b[0;36m100\u001b[0m\u001b[0;34m\u001b[0m\u001b[0;34m\u001b[0m\u001b[0m\n",
      "\u001b[0;31mNameError\u001b[0m: name 'omega_1' is not defined"
     ]
    }
   ],
   "source": [
    " del omega_1, total_time, epsilon, \n",
    "omega_1 = 0.5\n",
    "total_time = 2*pi/omega_1\n",
    "epsilon = 10**(-6)\n",
    "max_iter = 100\n",
    "time_steps = 200\n",
    "dt = total_time/time_steps"
   ]
  },
  {
   "cell_type": "code",
   "execution_count": 15,
   "metadata": {
    "ExecuteTime": {
     "end_time": "2019-01-22T13:10:41.307511Z",
     "start_time": "2019-01-22T13:10:41.294250Z"
    }
   },
   "outputs": [
    {
     "ename": "NameError",
     "evalue": "name 'Lin' is not defined",
     "output_type": "error",
     "traceback": [
      "\u001b[0;31m---------------------------------------------------------------------------\u001b[0m",
      "\u001b[0;31mNameError\u001b[0m                                 Traceback (most recent call last)",
      "\u001b[0;32m<ipython-input-15-e6d48350e5b4>\u001b[0m in \u001b[0;36m<module>\u001b[0;34m()\u001b[0m\n\u001b[0;32m----> 1\u001b[0;31m \u001b[0;32mdel\u001b[0m \u001b[0mLin\u001b[0m\u001b[0;34m,\u001b[0m \u001b[0mTi\u001b[0m\u001b[0;34m\u001b[0m\u001b[0;34m\u001b[0m\u001b[0m\n\u001b[0m",
      "\u001b[0;31mNameError\u001b[0m: name 'Lin' is not defined"
     ]
    }
   ],
   "source": [
    "del Lin, Ti"
   ]
  },
  {
   "cell_type": "code",
   "execution_count": 16,
   "metadata": {
    "ExecuteTime": {
     "end_time": "2019-01-22T13:10:42.215702Z",
     "start_time": "2019-01-22T13:10:42.200238Z"
    }
   },
   "outputs": [
    {
     "ename": "NameError",
     "evalue": "name 'Lin' is not defined",
     "output_type": "error",
     "traceback": [
      "\u001b[0;31m---------------------------------------------------------------------------\u001b[0m",
      "\u001b[0;31mNameError\u001b[0m                                 Traceback (most recent call last)",
      "\u001b[0;32m<ipython-input-16-3ce5abe2615e>\u001b[0m in \u001b[0;36m<module>\u001b[0;34m()\u001b[0m\n\u001b[0;32m----> 1\u001b[0;31m \u001b[0mLin\u001b[0m\u001b[0;34m\u001b[0m\u001b[0;34m\u001b[0m\u001b[0m\n\u001b[0m",
      "\u001b[0;31mNameError\u001b[0m: name 'Lin' is not defined"
     ]
    }
   ],
   "source": [
    "Lin"
   ]
  },
  {
   "cell_type": "markdown",
   "metadata": {},
   "source": [
    "## level 1"
   ]
  },
  {
   "cell_type": "code",
   "execution_count": 17,
   "metadata": {
    "ExecuteTime": {
     "end_time": "2019-01-22T13:10:43.420691Z",
     "start_time": "2019-01-22T13:10:43.414429Z"
    }
   },
   "outputs": [],
   "source": [
    "def H1(omega_1):\n",
    "    r\"\"\"Brief description of the function\"\"\"\n",
    "    H1 = omega_1*sigmaz()\n",
    "    return H1\n"
   ]
  },
  {
   "cell_type": "code",
   "execution_count": 18,
   "metadata": {
    "ExecuteTime": {
     "end_time": "2019-01-22T13:10:43.862284Z",
     "start_time": "2019-01-22T13:10:43.858077Z"
    }
   },
   "outputs": [],
   "source": [
    "def H2():\n",
    "    r\"\"\"Brief description of the function\"\"\"\n",
    "    H2 = sigmay()\n",
    "    return H2"
   ]
  },
  {
   "cell_type": "code",
   "execution_count": 19,
   "metadata": {
    "ExecuteTime": {
     "end_time": "2019-01-22T13:10:44.249554Z",
     "start_time": "2019-01-22T13:10:44.238034Z"
    }
   },
   "outputs": [
    {
     "ename": "NameError",
     "evalue": "name 'I' is not defined",
     "output_type": "error",
     "traceback": [
      "\u001b[0;31m---------------------------------------------------------------------------\u001b[0m",
      "\u001b[0;31mNameError\u001b[0m                                 Traceback (most recent call last)",
      "\u001b[0;32m<ipython-input-19-7d62117bf249>\u001b[0m in \u001b[0;36m<module>\u001b[0;34m()\u001b[0m\n\u001b[1;32m      1\u001b[0m \u001b[0;31m#I = identity(2)\u001b[0m\u001b[0;34m\u001b[0m\u001b[0;34m\u001b[0m\u001b[0;34m\u001b[0m\u001b[0m\n\u001b[0;32m----> 2\u001b[0;31m \u001b[0;32mdel\u001b[0m \u001b[0mI\u001b[0m\u001b[0;34m\u001b[0m\u001b[0;34m\u001b[0m\u001b[0m\n\u001b[0m",
      "\u001b[0;31mNameError\u001b[0m: name 'I' is not defined"
     ]
    }
   ],
   "source": [
    "#I = identity(2)\n",
    "del I"
   ]
  },
  {
   "cell_type": "code",
   "execution_count": 20,
   "metadata": {
    "ExecuteTime": {
     "end_time": "2019-01-22T13:10:44.591656Z",
     "start_time": "2019-01-22T13:10:44.588200Z"
    }
   },
   "outputs": [],
   "source": [
    "def T_maker(Ti):\n",
    "    r\"\"\"Brief description of the function\"\"\"\n",
    "    T = tensor(Ti.trans(), Ti)\n",
    "    return T"
   ]
  },
  {
   "cell_type": "code",
   "execution_count": 21,
   "metadata": {
    "ExecuteTime": {
     "end_time": "2019-01-22T13:10:44.957365Z",
     "start_time": "2019-01-22T13:10:44.940906Z"
    }
   },
   "outputs": [
    {
     "data": {
      "text/latex": [
       "Quantum object: dims = [[2, 2, 2], [2, 2, 2]], shape = (8, 8), type = oper, isherm = True\\begin{equation*}\\left(\\begin{array}{*{11}c}0.0 & 0.0 & 0.0 & 1.0 & 0.0 & 0.0 & 0.0 & 0.0\\\\0.0 & 0.0 & 1.0 & 0.0 & 0.0 & 0.0 & 0.0 & 0.0\\\\0.0 & 1.0 & 0.0 & 0.0 & 0.0 & 0.0 & 0.0 & 0.0\\\\1.0 & 0.0 & 0.0 & 0.0 & 0.0 & 0.0 & 0.0 & 0.0\\\\0.0 & 0.0 & 0.0 & 0.0 & 0.0 & 0.0 & 0.0 & 1.0\\\\0.0 & 0.0 & 0.0 & 0.0 & 0.0 & 0.0 & 1.0 & 0.0\\\\0.0 & 0.0 & 0.0 & 0.0 & 0.0 & 1.0 & 0.0 & 0.0\\\\0.0 & 0.0 & 0.0 & 0.0 & 1.0 & 0.0 & 0.0 & 0.0\\\\\\end{array}\\right)\\end{equation*}"
      ],
      "text/plain": [
       "Quantum object: dims = [[2, 2, 2], [2, 2, 2]], shape = (8, 8), type = oper, isherm = True\n",
       "Qobj data =\n",
       "[[0. 0. 0. 1. 0. 0. 0. 0.]\n",
       " [0. 0. 1. 0. 0. 0. 0. 0.]\n",
       " [0. 1. 0. 0. 0. 0. 0. 0.]\n",
       " [1. 0. 0. 0. 0. 0. 0. 0.]\n",
       " [0. 0. 0. 0. 0. 0. 0. 1.]\n",
       " [0. 0. 0. 0. 0. 0. 1. 0.]\n",
       " [0. 0. 0. 0. 0. 1. 0. 0.]\n",
       " [0. 0. 0. 0. 1. 0. 0. 0.]]"
      ]
     },
     "execution_count": 21,
     "metadata": {},
     "output_type": "execute_result"
    }
   ],
   "source": [
    " tensor(identity(2), T_maker(sigmax()))"
   ]
  },
  {
   "cell_type": "markdown",
   "metadata": {},
   "source": [
    "## level 2"
   ]
  },
  {
   "cell_type": "code",
   "execution_count": 22,
   "metadata": {
    "ExecuteTime": {
     "end_time": "2019-01-22T13:10:45.537629Z",
     "start_time": "2019-01-22T13:10:45.534874Z"
    }
   },
   "outputs": [],
   "source": [
    "def Hamil(omega_1, xi):\n",
    "    H = H1(omega_1) + xi*H2()\n",
    "    return H"
   ]
  },
  {
   "cell_type": "code",
   "execution_count": 23,
   "metadata": {
    "ExecuteTime": {
     "end_time": "2019-01-22T13:10:45.883467Z",
     "start_time": "2019-01-22T13:10:45.873306Z"
    }
   },
   "outputs": [
    {
     "data": {
      "text/latex": [
       "Quantum object: dims = [[2], [2]], shape = (2, 2), type = oper, isherm = True\\begin{equation*}\\left(\\begin{array}{*{11}c}2.0 & -0.500j\\\\0.500j & -2.0\\\\\\end{array}\\right)\\end{equation*}"
      ],
      "text/plain": [
       "Quantum object: dims = [[2], [2]], shape = (2, 2), type = oper, isherm = True\n",
       "Qobj data =\n",
       "[[ 2.+0.j   0.-0.5j]\n",
       " [ 0.+0.5j -2.+0.j ]]"
      ]
     },
     "execution_count": 23,
     "metadata": {},
     "output_type": "execute_result"
    }
   ],
   "source": [
    "Hamil(2, 0.5 )"
   ]
  },
  {
   "cell_type": "code",
   "execution_count": 24,
   "metadata": {
    "ExecuteTime": {
     "end_time": "2019-01-22T13:10:46.207641Z",
     "start_time": "2019-01-22T13:10:46.203214Z"
    }
   },
   "outputs": [],
   "source": [
    "def leftover(Lin):\n",
    "    r\"\"\"Brief description of the function\"\"\"\n",
    "    d = Lin.shape[0]\n",
    "    I = identity(d)\n",
    "    term1 = tensor(Lin.trans(), Lin)\n",
    "    term2 = tensor(I, ((Lin.dag())*(Lin)))\n",
    "    term3 = tensor(((Lin.trans())*(Lin.conj())), I)\n",
    "    leftover = 1j*(0.1)*(term1 - 0.5*(term2 + term3))\n",
    "    return leftover\n",
    "\n",
    "\n",
    "def A(omega_1, xi, Lin):\n",
    "    H = Hamil(omega_1, xi)\n",
    "    d = Lin.shape[0]\n",
    "    I = identity(d)\n",
    "    A = tensor(I, H) - tensor((H.conj()), I) + leftover(Lin)\n",
    "    return A"
   ]
  },
  {
   "cell_type": "code",
   "execution_count": 25,
   "metadata": {
    "ExecuteTime": {
     "end_time": "2019-01-22T13:10:46.520612Z",
     "start_time": "2019-01-22T13:10:46.505689Z"
    }
   },
   "outputs": [
    {
     "data": {
      "text/latex": [
       "Quantum object: dims = [[2, 2], [2, 2]], shape = (4, 4), type = oper, isherm = False\\begin{equation*}\\left(\\begin{array}{*{11}c}0.0 & -0.500j & -0.500j & 0.0\\\\0.500j & (-4.0-0.200j) & 0.0 & -0.500j\\\\0.500j & 0.0 & (4.0-0.200j) & -0.500j\\\\0.0 & 0.500j & 0.500j & 0.0\\\\\\end{array}\\right)\\end{equation*}"
      ],
      "text/plain": [
       "Quantum object: dims = [[2, 2], [2, 2]], shape = (4, 4), type = oper, isherm = False\n",
       "Qobj data =\n",
       "[[ 0.+0.j   0.-0.5j  0.-0.5j  0.+0.j ]\n",
       " [ 0.+0.5j -4.-0.2j  0.+0.j   0.-0.5j]\n",
       " [ 0.+0.5j  0.+0.j   4.-0.2j  0.-0.5j]\n",
       " [ 0.+0.j   0.+0.5j  0.+0.5j  0.+0.j ]]"
      ]
     },
     "execution_count": 25,
     "metadata": {},
     "output_type": "execute_result"
    }
   ],
   "source": [
    "A(2, 0.5, sigmaz())"
   ]
  },
  {
   "cell_type": "code",
   "execution_count": 26,
   "metadata": {
    "ExecuteTime": {
     "end_time": "2019-01-22T13:10:46.819647Z",
     "start_time": "2019-01-22T13:10:46.801963Z"
    }
   },
   "outputs": [
    {
     "data": {
      "text/latex": [
       "Quantum object: dims = [[2, 2], [2, 2]], shape = (4, 4), type = oper, isherm = False\\begin{equation*}\\left(\\begin{array}{*{11}c}0.0 & -0.500j & -0.500j & 0.0\\\\0.500j & -0.200j & 0.0 & -0.500j\\\\0.500j & 0.0 & -0.200j & -0.500j\\\\0.0 & 0.500j & 0.500j & 0.0\\\\\\end{array}\\right)\\end{equation*}"
      ],
      "text/plain": [
       "Quantum object: dims = [[2, 2], [2, 2]], shape = (4, 4), type = oper, isherm = False\n",
       "Qobj data =\n",
       "[[0.+0.j  0.-0.5j 0.-0.5j 0.+0.j ]\n",
       " [0.+0.5j 0.-0.2j 0.+0.j  0.-0.5j]\n",
       " [0.+0.5j 0.+0.j  0.-0.2j 0.-0.5j]\n",
       " [0.+0.j  0.+0.5j 0.+0.5j 0.+0.j ]]"
      ]
     },
     "execution_count": 26,
     "metadata": {},
     "output_type": "execute_result"
    }
   ],
   "source": [
    "A(0, 0.5, sigmaz())"
   ]
  },
  {
   "cell_type": "code",
   "execution_count": 27,
   "metadata": {
    "ExecuteTime": {
     "end_time": "2019-01-22T13:10:47.196148Z",
     "start_time": "2019-01-22T13:10:47.179635Z"
    }
   },
   "outputs": [
    {
     "ename": "NameError",
     "evalue": "name 'I' is not defined",
     "output_type": "error",
     "traceback": [
      "\u001b[0;31m---------------------------------------------------------------------------\u001b[0m",
      "\u001b[0;31mNameError\u001b[0m                                 Traceback (most recent call last)",
      "\u001b[0;32m<ipython-input-27-bde71cc9b50e>\u001b[0m in \u001b[0;36m<module>\u001b[0;34m()\u001b[0m\n\u001b[0;32m----> 1\u001b[0;31m \u001b[0mI\u001b[0m\u001b[0;34m\u001b[0m\u001b[0;34m\u001b[0m\u001b[0m\n\u001b[0m",
      "\u001b[0;31mNameError\u001b[0m: name 'I' is not defined"
     ]
    }
   ],
   "source": [
    "I"
   ]
  },
  {
   "cell_type": "code",
   "execution_count": 28,
   "metadata": {
    "ExecuteTime": {
     "end_time": "2019-01-22T13:10:47.707531Z",
     "start_time": "2019-01-22T13:10:47.696367Z"
    },
    "code_folding": []
   },
   "outputs": [],
   "source": [
    "#term1 = tensor(Lin.trans(), Lin)\n",
    "#term2 = tensor(I, ((Lin.dag())*(Lin)))\n",
    "#term3 = tensor(((Lin.trans())*(Lin.conj())), I)\n",
    "#leftover = 1j*(0.1)*(term1 - 0.5*(term2 + term2))\n",
    "def x_k(omega_1, Lin ):\n",
    "    r\"\"\"Brief description of the function\"\"\"\n",
    "    #H11 = H1(omega_1)\n",
    "    #H2_i = H2()\n",
    "    d = Lin.shape[0]\n",
    "    I = identity(d)\n",
    "    x_k = tensor(I, H2()) - tensor((H2().conj()), I) #+ leftover(Lin)\n",
    "    return x_k\n"
   ]
  },
  {
   "cell_type": "code",
   "execution_count": 29,
   "metadata": {
    "ExecuteTime": {
     "end_time": "2019-01-22T13:10:48.077184Z",
     "start_time": "2019-01-22T13:10:48.061456Z"
    }
   },
   "outputs": [
    {
     "ename": "NameError",
     "evalue": "name 'I' is not defined",
     "output_type": "error",
     "traceback": [
      "\u001b[0;31m---------------------------------------------------------------------------\u001b[0m",
      "\u001b[0;31mNameError\u001b[0m                                 Traceback (most recent call last)",
      "\u001b[0;32m<ipython-input-29-bde71cc9b50e>\u001b[0m in \u001b[0;36m<module>\u001b[0;34m()\u001b[0m\n\u001b[0;32m----> 1\u001b[0;31m \u001b[0mI\u001b[0m\u001b[0;34m\u001b[0m\u001b[0;34m\u001b[0m\u001b[0m\n\u001b[0m",
      "\u001b[0;31mNameError\u001b[0m: name 'I' is not defined"
     ]
    }
   ],
   "source": [
    "I"
   ]
  },
  {
   "cell_type": "code",
   "execution_count": 30,
   "metadata": {
    "ExecuteTime": {
     "end_time": "2019-01-22T13:10:48.673317Z",
     "start_time": "2019-01-22T13:10:48.660392Z"
    }
   },
   "outputs": [
    {
     "data": {
      "text/latex": [
       "Quantum object: dims = [[2, 2], [2, 2]], shape = (4, 4), type = oper, isherm = True\\begin{equation*}\\left(\\begin{array}{*{11}c}0.0 & -1.0j & -1.0j & 0.0\\\\1.0j & 0.0 & 0.0 & -1.0j\\\\1.0j & 0.0 & 0.0 & -1.0j\\\\0.0 & 1.0j & 1.0j & 0.0\\\\\\end{array}\\right)\\end{equation*}"
      ],
      "text/plain": [
       "Quantum object: dims = [[2, 2], [2, 2]], shape = (4, 4), type = oper, isherm = True\n",
       "Qobj data =\n",
       "[[0.+0.j 0.-1.j 0.-1.j 0.+0.j]\n",
       " [0.+1.j 0.+0.j 0.+0.j 0.-1.j]\n",
       " [0.+1.j 0.+0.j 0.+0.j 0.-1.j]\n",
       " [0.+0.j 0.+1.j 0.+1.j 0.+0.j]]"
      ]
     },
     "execution_count": 30,
     "metadata": {},
     "output_type": "execute_result"
    }
   ],
   "source": [
    "x_k(0.5, sigmaz())"
   ]
  },
  {
   "cell_type": "code",
   "execution_count": 31,
   "metadata": {
    "ExecuteTime": {
     "end_time": "2019-01-22T13:10:49.126087Z",
     "start_time": "2019-01-22T13:10:49.120526Z"
    }
   },
   "outputs": [],
   "source": [
    "def L(omega_1, xi, Lin, dt):\n",
    "    #H = H1\n",
    "    L = (-1j*A(omega_1, xi, Lin)*dt).expm()\n",
    "    return L"
   ]
  },
  {
   "cell_type": "code",
   "execution_count": 32,
   "metadata": {
    "ExecuteTime": {
     "end_time": "2019-01-22T13:10:49.951587Z",
     "start_time": "2019-01-22T13:10:49.728539Z"
    }
   },
   "outputs": [
    {
     "data": {
      "text/latex": [
       "Quantum object: dims = [[2, 2], [2, 2]], shape = (4, 4), type = oper, isherm = False\\begin{equation*}\\left(\\begin{array}{*{11}c}1.000 & (-0.002-9.999\\times10^{-07}j) & (-0.002+9.999\\times10^{-07}j) & 4.000\\times10^{-06}\\\\(0.002+9.999\\times10^{-07}j) & (1.000+9.998\\times10^{-04}j) & -3.999\\times10^{-06} & (-0.002-9.999\\times10^{-07}j)\\\\(0.002-9.999\\times10^{-07}j) & -3.999\\times10^{-06} & (1.000-9.998\\times10^{-04}j) & (-0.002+9.999\\times10^{-07}j)\\\\4.000\\times10^{-06} & (0.002+9.999\\times10^{-07}j) & (0.002-9.999\\times10^{-07}j) & 1.000\\\\\\end{array}\\right)\\end{equation*}"
      ],
      "text/plain": [
       "Quantum object: dims = [[2, 2], [2, 2]], shape = (4, 4), type = oper, isherm = False\n",
       "Qobj data =\n",
       "[[ 9.99996000e-01+0.00000000e+00j -1.99979435e-03-9.99865260e-07j\n",
       "  -1.99979435e-03+9.99865260e-07j  3.99972768e-06+0.00000000e+00j]\n",
       " [ 1.99979435e-03+9.99865260e-07j  9.99795521e-01+9.99797187e-04j\n",
       "  -3.99946104e-06+0.00000000e+00j -1.99979435e-03-9.99865260e-07j]\n",
       " [ 1.99979435e-03-9.99865260e-07j -3.99946104e-06+0.00000000e+00j\n",
       "   9.99795521e-01-9.99797187e-04j -1.99979435e-03+9.99865260e-07j]\n",
       " [ 3.99972768e-06+0.00000000e+00j  1.99979435e-03+9.99865260e-07j\n",
       "   1.99979435e-03-9.99865260e-07j  9.99996000e-01+0.00000000e+00j]]"
      ]
     },
     "execution_count": 32,
     "metadata": {},
     "output_type": "execute_result"
    }
   ],
   "source": [
    "L(0.5, 2, sigmaz(), 0.001)"
   ]
  },
  {
   "cell_type": "code",
   "execution_count": 33,
   "metadata": {
    "ExecuteTime": {
     "end_time": "2019-01-22T13:10:50.091505Z",
     "start_time": "2019-01-22T13:10:50.088313Z"
    }
   },
   "outputs": [],
   "source": [
    "def L_I(Ti):\n",
    "    r\"\"\"Brief description of the function\"\"\"\n",
    "    d = Ti.shape[0]\n",
    "    I = identity(d)\n",
    "    L_I = tensor(I, I)\n",
    "    return L_I"
   ]
  },
  {
   "cell_type": "code",
   "execution_count": 34,
   "metadata": {
    "ExecuteTime": {
     "end_time": "2019-01-22T13:10:50.525145Z",
     "start_time": "2019-01-22T13:10:50.511465Z"
    }
   },
   "outputs": [
    {
     "data": {
      "text/latex": [
       "Quantum object: dims = [[2, 2], [2, 2]], shape = (4, 4), type = oper, isherm = True\\begin{equation*}\\left(\\begin{array}{*{11}c}1.0 & 0.0 & 0.0 & 0.0\\\\0.0 & 1.0 & 0.0 & 0.0\\\\0.0 & 0.0 & 1.0 & 0.0\\\\0.0 & 0.0 & 0.0 & 1.0\\\\\\end{array}\\right)\\end{equation*}"
      ],
      "text/plain": [
       "Quantum object: dims = [[2, 2], [2, 2]], shape = (4, 4), type = oper, isherm = True\n",
       "Qobj data =\n",
       "[[1. 0. 0. 0.]\n",
       " [0. 1. 0. 0.]\n",
       " [0. 0. 1. 0.]\n",
       " [0. 0. 0. 1.]]"
      ]
     },
     "execution_count": 34,
     "metadata": {},
     "output_type": "execute_result"
    }
   ],
   "source": [
    "L_I(sigmay())"
   ]
  },
  {
   "cell_type": "markdown",
   "metadata": {},
   "source": [
    "## parameters"
   ]
  },
  {
   "cell_type": "markdown",
   "metadata": {},
   "source": [
    "### sub sub topic 1"
   ]
  },
  {
   "cell_type": "code",
   "execution_count": 35,
   "metadata": {
    "ExecuteTime": {
     "end_time": "2019-01-22T13:10:52.051456Z",
     "start_time": "2019-01-22T13:10:52.046443Z"
    }
   },
   "outputs": [],
   "source": [
    "# building the function to optimize (optimizee)\n",
    "def L_vec(omega_1, xi_vec, Lin, dt):\n",
    "    #xi_vec_size = 2#xi_vec.size # finding the size of xi\n",
    "    L_vec = [L(omega_1, xi, Lin, dt) for xi in xi_vec] \n",
    "    # constructing L #[L(1.0), L(2.0)]\n",
    "    \n",
    "    return L_vec\n"
   ]
  },
  {
   "cell_type": "code",
   "execution_count": 36,
   "metadata": {
    "ExecuteTime": {
     "end_time": "2019-01-22T13:10:52.501020Z",
     "start_time": "2019-01-22T13:10:52.497398Z"
    }
   },
   "outputs": [],
   "source": [
    "def fidelity_calc(A, B):\n",
    "    r\"\"\"Brief description of the function\"\"\"\n",
    "    d1 = A.shape[0] # Assuming no rectangular shaped matrices\n",
    "    d2 = B.shape[0] # Assuming no rectangular shaped matrices\n",
    "    d = d1*d2\n",
    "    first_part = (A - B).dag()\n",
    "    second_part = (A - B)\n",
    "    f_int = (first_part* second_part)\n",
    "    f = f_int.tr()\n",
    "    return f"
   ]
  },
  {
   "cell_type": "code",
   "execution_count": 37,
   "metadata": {
    "ExecuteTime": {
     "end_time": "2019-01-22T13:10:53.078897Z",
     "start_time": "2019-01-22T13:10:53.074883Z"
    }
   },
   "outputs": [],
   "source": [
    "def L_full_maker(Ti, omega_1, xi_vec, Lin, dt):\n",
    "    r\"\"\"Brief description of the function\"\"\"\n",
    "    xi_vec_size = xi_vec.size # finding the size of xi\n",
    "    L_full = L_I(Ti) # Identity for the for loop of L\n",
    "    L_v = L_vec(omega_1, xi_vec, Lin, dt) # calling L_vec\n",
    "    for i in range(xi_vec_size): # generating L_full\n",
    "        L_full = L_full*L_v[xi_vec_size - 1 - i]\n",
    "    return L_full"
   ]
  },
  {
   "cell_type": "code",
   "execution_count": 38,
   "metadata": {
    "ExecuteTime": {
     "end_time": "2019-01-22T13:10:53.693683Z",
     "start_time": "2019-01-22T13:10:53.690078Z"
    }
   },
   "outputs": [],
   "source": [
    "def F(Ti, omega_1, xi_vec, Lin, dt):\n",
    "    r\"\"\"Brief description of the function\"\"\"\n",
    "    L_full = L_full_maker(Ti, omega_1, xi_vec, Lin, dt)\n",
    "    T = T_maker(Ti)\n",
    "    F = real(-fidelity_calc(T, L_full))   \n",
    "    return F"
   ]
  },
  {
   "cell_type": "code",
   "execution_count": 39,
   "metadata": {
    "ExecuteTime": {
     "end_time": "2019-01-22T13:10:54.228853Z",
     "start_time": "2019-01-22T13:10:54.219222Z"
    }
   },
   "outputs": [
    {
     "data": {
      "text/plain": [
       "4.0"
      ]
     },
     "execution_count": 39,
     "metadata": {},
     "output_type": "execute_result"
    }
   ],
   "source": [
    "fidelity_calc(sigmax(), sigmay())"
   ]
  },
  {
   "cell_type": "code",
   "execution_count": 40,
   "metadata": {
    "ExecuteTime": {
     "end_time": "2019-01-22T13:10:54.994822Z",
     "start_time": "2019-01-22T13:10:54.986898Z"
    }
   },
   "outputs": [
    {
     "data": {
      "text/plain": [
       "0.0"
      ]
     },
     "execution_count": 40,
     "metadata": {},
     "output_type": "execute_result"
    }
   ],
   "source": [
    "fidelity_calc(sigmay(), sigmay())"
   ]
  },
  {
   "cell_type": "code",
   "execution_count": 41,
   "metadata": {
    "ExecuteTime": {
     "end_time": "2019-01-22T13:10:56.807575Z",
     "start_time": "2019-01-22T13:10:56.800405Z"
    }
   },
   "outputs": [
    {
     "data": {
      "text/plain": [
       "array([1., 2.])"
      ]
     },
     "execution_count": 41,
     "metadata": {},
     "output_type": "execute_result"
    }
   ],
   "source": [
    "xi_vec_test = array([1.0, 2.0])\n",
    "xi_vec_test"
   ]
  },
  {
   "cell_type": "code",
   "execution_count": 42,
   "metadata": {
    "ExecuteTime": {
     "end_time": "2019-01-22T13:10:57.285716Z",
     "start_time": "2019-01-22T13:10:57.276004Z"
    }
   },
   "outputs": [
    {
     "data": {
      "text/plain": [
       "2"
      ]
     },
     "execution_count": 42,
     "metadata": {},
     "output_type": "execute_result"
    }
   ],
   "source": [
    "xi_vec_test.size"
   ]
  },
  {
   "cell_type": "code",
   "execution_count": 43,
   "metadata": {
    "ExecuteTime": {
     "end_time": "2019-01-22T13:10:57.595292Z",
     "start_time": "2019-01-22T13:10:57.589476Z"
    }
   },
   "outputs": [
    {
     "data": {
      "text/plain": [
       "[1.0, 4.0]"
      ]
     },
     "execution_count": 43,
     "metadata": {},
     "output_type": "execute_result"
    }
   ],
   "source": [
    "w_vec = [xi**2 for xi in xi_vec_test]\n",
    "w_vec"
   ]
  },
  {
   "cell_type": "code",
   "execution_count": 44,
   "metadata": {
    "ExecuteTime": {
     "end_time": "2019-01-22T13:10:57.874903Z",
     "start_time": "2019-01-22T13:10:57.848375Z"
    }
   },
   "outputs": [
    {
     "data": {
      "text/plain": [
       "-7.998400634493139"
      ]
     },
     "execution_count": 44,
     "metadata": {},
     "output_type": "execute_result"
    }
   ],
   "source": [
    "# F(Ti, omega_1, xi_vec, Lin, dt)\n",
    "F(sigmax(), 0.5 , xi_vec_test, sigmaz(), 0.001)"
   ]
  },
  {
   "cell_type": "code",
   "execution_count": 45,
   "metadata": {
    "ExecuteTime": {
     "end_time": "2019-01-22T13:10:58.163362Z",
     "start_time": "2019-01-22T13:10:58.158437Z"
    }
   },
   "outputs": [],
   "source": [
    "def L_comma_k_maker(Ti, omega_1, xi_vec, k, Lin, dt):\n",
    "    N = xi_vec.size\n",
    "    L_v = L_vec(omega_1, xi_vec, Lin, dt)\n",
    "    \n",
    "    inner_part = L_I(Ti)\n",
    "    for i in range(N):\n",
    "        if i == ( N - 1 - k ):\n",
    "            inner_part = inner_part*x_k(omega_1, Lin )*L_v[k - 1]\n",
    "        else:\n",
    "            inner_part = inner_part*L_v[N - 1 - i]\n",
    "    l_comma_k = inner_part\n",
    "    return l_comma_k\n",
    "    "
   ]
  },
  {
   "cell_type": "code",
   "execution_count": 46,
   "metadata": {
    "ExecuteTime": {
     "end_time": "2019-01-22T13:10:59.515965Z",
     "start_time": "2019-01-22T13:10:59.494959Z"
    }
   },
   "outputs": [
    {
     "data": {
      "text/latex": [
       "Quantum object: dims = [[2, 2], [2, 2]], shape = (4, 4), type = oper, isherm = False\\begin{equation*}\\left(\\begin{array}{*{11}c}1.000 & (-0.003-3.499\\times10^{-06}j) & (-0.003+3.499\\times10^{-06}j) & 8.999\\times10^{-06}\\\\(0.003+2.499\\times10^{-06}j) & (1.000+0.002j) & (-8.998\\times10^{-06}+2.999\\times10^{-09}j) & (-0.003-2.499\\times10^{-06}j)\\\\(0.003-2.499\\times10^{-06}j) & (-8.998\\times10^{-06}-2.999\\times10^{-09}j) & (1.000-0.002j) & (-0.003+2.499\\times10^{-06}j)\\\\8.999\\times10^{-06} & (0.003+3.499\\times10^{-06}j) & (0.003-3.499\\times10^{-06}j) & 1.000\\\\\\end{array}\\right)\\end{equation*}"
      ],
      "text/plain": [
       "Quantum object: dims = [[2, 2], [2, 2]], shape = (4, 4), type = oper, isherm = False\n",
       "Qobj data =\n",
       "[[ 9.99991001e-01+0.00000000e+00j -2.99927960e-03-3.49898670e-06j\n",
       "  -2.99927960e-03+3.49898670e-06j  8.99883703e-06+0.00000000e+00j]\n",
       " [ 2.99948056e-03+2.49939255e-06j  9.99589083e-01+1.99918650e-03j\n",
       "  -8.99750347e-06+2.99899242e-09j -2.99948056e-03-2.49939255e-06j]\n",
       " [ 2.99948056e-03-2.49939255e-06j -8.99750347e-06-2.99899242e-09j\n",
       "   9.99589083e-01-1.99918650e-03j -2.99948056e-03+2.49939255e-06j]\n",
       " [ 8.99883703e-06+0.00000000e+00j  2.99927960e-03+3.49898670e-06j\n",
       "   2.99927960e-03-3.49898670e-06j  9.99991001e-01+0.00000000e+00j]]"
      ]
     },
     "execution_count": 46,
     "metadata": {},
     "output_type": "execute_result"
    }
   ],
   "source": [
    "#L_comma_k_maker(Ti, omega_1, xi_vec, k, Lin, dt)\n",
    "L_comma_k_maker(sigmax(), 0.5 , xi_vec_test, 2, sigmaz(), 0.001)"
   ]
  },
  {
   "cell_type": "code",
   "execution_count": 50,
   "metadata": {
    "ExecuteTime": {
     "end_time": "2019-01-22T13:11:28.600295Z",
     "start_time": "2019-01-22T13:11:28.591475Z"
    }
   },
   "outputs": [],
   "source": [
    "def updater(Ti, omega_1, xi_vec, Lin, dt):\n",
    "    r\"\"\"Brief description of the function\"\"\"\n",
    "    xi_vec_size = xi_vec.size # finding the size of xi\n",
    "    T = T_maker(Ti)\n",
    "    L_full = L_full_maker(Ti, omega_1, xi_vec, Lin, dt)\n",
    "    di = []\n",
    "    for k in range(xi_vec_size):\n",
    "        L_comma_k = L_comma_k_maker(Ti, omega_1, xi_vec, k, Lin, dt)\n",
    "        differentiated = T - L_comma_k\n",
    "        plain = T - L_full\n",
    "        c = differentiated.dag()*plain\n",
    "        d = plain.dag()*differentiated\n",
    "        inside = c.tr() + d.tr()\n",
    "        di.append(epsilon*inside)\n",
    "\n",
    "    diff = array(di)\n",
    "    xi_new_vec = xi_vec + diff\n",
    "    return diff, xi_new_vec\n",
    "    "
   ]
  },
  {
   "cell_type": "code",
   "execution_count": 51,
   "metadata": {
    "ExecuteTime": {
     "end_time": "2019-01-22T13:11:29.534809Z",
     "start_time": "2019-01-22T13:11:29.486847Z"
    }
   },
   "outputs": [
    {
     "ename": "NameError",
     "evalue": "name 'epsilon' is not defined",
     "output_type": "error",
     "traceback": [
      "\u001b[0;31m---------------------------------------------------------------------------\u001b[0m",
      "\u001b[0;31mNameError\u001b[0m                                 Traceback (most recent call last)",
      "\u001b[0;32m<ipython-input-51-8fffc312f438>\u001b[0m in \u001b[0;36m<module>\u001b[0;34m()\u001b[0m\n\u001b[1;32m      1\u001b[0m \u001b[0;31m#  updater(Ti, omega_1, xi_vec, Lin, dt)\u001b[0m\u001b[0;34m\u001b[0m\u001b[0;34m\u001b[0m\u001b[0;34m\u001b[0m\u001b[0m\n\u001b[0;32m----> 2\u001b[0;31m \u001b[0mupdater\u001b[0m\u001b[0;34m(\u001b[0m\u001b[0msigmax\u001b[0m\u001b[0;34m(\u001b[0m\u001b[0;34m)\u001b[0m\u001b[0;34m,\u001b[0m \u001b[0;36m0.5\u001b[0m \u001b[0;34m,\u001b[0m \u001b[0mxi_vec_test\u001b[0m\u001b[0;34m,\u001b[0m \u001b[0msigmaz\u001b[0m\u001b[0;34m(\u001b[0m\u001b[0;34m)\u001b[0m\u001b[0;34m,\u001b[0m \u001b[0;36m0.001\u001b[0m\u001b[0;34m)\u001b[0m\u001b[0;34m\u001b[0m\u001b[0;34m\u001b[0m\u001b[0m\n\u001b[0m",
      "\u001b[0;32m<ipython-input-50-4b39b877af56>\u001b[0m in \u001b[0;36mupdater\u001b[0;34m(Ti, omega_1, xi_vec, Lin, dt)\u001b[0m\n\u001b[1;32m     12\u001b[0m         \u001b[0md\u001b[0m \u001b[0;34m=\u001b[0m \u001b[0mplain\u001b[0m\u001b[0;34m.\u001b[0m\u001b[0mdag\u001b[0m\u001b[0;34m(\u001b[0m\u001b[0;34m)\u001b[0m\u001b[0;34m*\u001b[0m\u001b[0mdifferentiated\u001b[0m\u001b[0;34m\u001b[0m\u001b[0;34m\u001b[0m\u001b[0m\n\u001b[1;32m     13\u001b[0m         \u001b[0minside\u001b[0m \u001b[0;34m=\u001b[0m \u001b[0mc\u001b[0m\u001b[0;34m.\u001b[0m\u001b[0mtr\u001b[0m\u001b[0;34m(\u001b[0m\u001b[0;34m)\u001b[0m \u001b[0;34m+\u001b[0m \u001b[0md\u001b[0m\u001b[0;34m.\u001b[0m\u001b[0mtr\u001b[0m\u001b[0;34m(\u001b[0m\u001b[0;34m)\u001b[0m\u001b[0;34m\u001b[0m\u001b[0;34m\u001b[0m\u001b[0m\n\u001b[0;32m---> 14\u001b[0;31m         \u001b[0mdi\u001b[0m\u001b[0;34m.\u001b[0m\u001b[0mappend\u001b[0m\u001b[0;34m(\u001b[0m\u001b[0mepsilon\u001b[0m\u001b[0;34m*\u001b[0m\u001b[0minside\u001b[0m\u001b[0;34m)\u001b[0m\u001b[0;34m\u001b[0m\u001b[0;34m\u001b[0m\u001b[0m\n\u001b[0m\u001b[1;32m     15\u001b[0m \u001b[0;34m\u001b[0m\u001b[0m\n\u001b[1;32m     16\u001b[0m     \u001b[0mdiff\u001b[0m \u001b[0;34m=\u001b[0m \u001b[0marray\u001b[0m\u001b[0;34m(\u001b[0m\u001b[0mdi\u001b[0m\u001b[0;34m)\u001b[0m\u001b[0;34m\u001b[0m\u001b[0;34m\u001b[0m\u001b[0m\n",
      "\u001b[0;31mNameError\u001b[0m: name 'epsilon' is not defined"
     ]
    }
   ],
   "source": [
    "#  updater(Ti, omega_1, xi_vec, Lin, dt)\n",
    "updater(sigmax(), 0.5 , xi_vec_test, sigmaz(), 0.001)"
   ]
  },
  {
   "cell_type": "code",
   "execution_count": 52,
   "metadata": {
    "ExecuteTime": {
     "end_time": "2019-01-22T13:11:32.270590Z",
     "start_time": "2019-01-22T13:11:32.257240Z"
    },
    "code_folding": []
   },
   "outputs": [],
   "source": [
    "def terminator(max_iter, time_steps, Ti, omega_1, Lin, total_time):\n",
    "    r\"\"\"Brief description of the function\"\"\"\n",
    "    \n",
    "    xi_initial =  1000*random_sample((time_steps,))\n",
    "    dt = total_time/time_steps\n",
    "    xi_diff, xi_new_vec = updater(Ti, omega_1, xi_initial, Lin, dt)\n",
    "    \n",
    "    #xi_diff = xi_new_vec - xi_initial\n",
    "    for i in range(max_iter):\n",
    "        if amax(xi_diff) < epsilon**2 :\n",
    "            xi_final = xi_new_vec\n",
    "            break\n",
    "        else :\n",
    "            xi_diff, xi_new_vec = updater(Ti, omega_1, xi_new_vec, Lin, dt)\n",
    "            print(i)\n",
    "            print(amax(xi_diff))\n",
    "            \n",
    "        \n",
    "    xi_final = xi_new_vec    \n",
    "    return xi_final"
   ]
  },
  {
   "cell_type": "code",
   "execution_count": 64,
   "metadata": {
    "ExecuteTime": {
     "end_time": "2019-01-22T13:13:44.710259Z",
     "start_time": "2019-01-22T13:13:44.704119Z"
    }
   },
   "outputs": [],
   "source": [
    "omega_1 = 0.5\n",
    "total_time = pi/omega_1\n",
    "epsilon = 10**(-6)\n",
    "max_iter = 50#20\n",
    "time_steps = 20\n",
    "dt = total_time/time_steps"
   ]
  },
  {
   "cell_type": "code",
   "execution_count": 65,
   "metadata": {
    "ExecuteTime": {
     "end_time": "2019-01-22T13:13:45.410309Z",
     "start_time": "2019-01-22T13:13:45.406007Z"
    }
   },
   "outputs": [],
   "source": [
    "Lin = sigmaz() # Lindbladian"
   ]
  },
  {
   "cell_type": "code",
   "execution_count": 66,
   "metadata": {
    "ExecuteTime": {
     "end_time": "2019-01-22T13:13:46.123837Z",
     "start_time": "2019-01-22T13:13:46.119894Z"
    }
   },
   "outputs": [],
   "source": [
    "Ti = sigmax() # Target unitary"
   ]
  },
  {
   "cell_type": "code",
   "execution_count": null,
   "metadata": {
    "ExecuteTime": {
     "start_time": "2019-01-22T13:13:46.773Z"
    }
   },
   "outputs": [
    {
     "name": "stdout",
     "output_type": "stream",
     "text": [
      "0\n",
      "(6.570264356529727e-06+0j)\n",
      "1\n",
      "(6.570264262687631e-06+0j)\n",
      "2\n",
      "(6.570264168852581e-06+0j)\n",
      "3\n",
      "(6.5702640750254845e-06+0j)\n",
      "4\n",
      "(6.570263981205609e-06+0j)\n",
      "5\n",
      "(6.57026388739322e-06+0j)\n",
      "6\n",
      "(6.5702637935884624e-06+0j)\n",
      "7\n",
      "(6.570263699790847e-06+0j)\n"
     ]
    }
   ],
   "source": [
    "# terminator(20, 20, Ti, omega_1, Lin, total_time)\n",
    "xi_opt = terminator(max_iter, time_steps, Ti, omega_1, Lin, total_time)\n",
    "xi_opt"
   ]
  },
  {
   "cell_type": "code",
   "execution_count": null,
   "metadata": {
    "ExecuteTime": {
     "start_time": "2019-01-22T13:13:47.869Z"
    }
   },
   "outputs": [],
   "source": [
    "F(Ti, omega_1, xi_opt, Lin, dt)"
   ]
  },
  {
   "cell_type": "code",
   "execution_count": null,
   "metadata": {
    "ExecuteTime": {
     "start_time": "2019-01-22T13:13:49.695Z"
    }
   },
   "outputs": [],
   "source": [
    "max_iter"
   ]
  },
  {
   "cell_type": "code",
   "execution_count": null,
   "metadata": {
    "ExecuteTime": {
     "start_time": "2019-01-22T13:13:51.288Z"
    }
   },
   "outputs": [],
   "source": [
    "T = T_maker(Ti)\n",
    "T"
   ]
  },
  {
   "cell_type": "code",
   "execution_count": null,
   "metadata": {
    "ExecuteTime": {
     "start_time": "2019-01-22T13:13:53.138Z"
    }
   },
   "outputs": [],
   "source": [
    "L_full_maker(Ti, omega_1, xi_opt, Lin, dt)"
   ]
  },
  {
   "cell_type": "code",
   "execution_count": null,
   "metadata": {
    "ExecuteTime": {
     "start_time": "2019-01-22T13:13:54.157Z"
    }
   },
   "outputs": [],
   "source": [
    "hinton(L_full_maker(Ti, omega_1, xi_opt, Lin, dt))"
   ]
  },
  {
   "cell_type": "markdown",
   "metadata": {},
   "source": []
  },
  {
   "cell_type": "code",
   "execution_count": 12,
   "metadata": {
    "ExecuteTime": {
     "end_time": "2019-01-22T12:54:09.268631Z",
     "start_time": "2019-01-22T12:54:09.260823Z"
    }
   },
   "outputs": [
    {
     "data": {
      "text/plain": [
       "1.31350478e-05"
      ]
     },
     "execution_count": 12,
     "metadata": {},
     "output_type": "execute_result"
    }
   ],
   "source": [
    "1.31350478e-05 # 40"
   ]
  },
  {
   "cell_type": "code",
   "execution_count": 13,
   "metadata": {
    "ExecuteTime": {
     "end_time": "2019-01-22T12:54:09.282435Z",
     "start_time": "2019-01-22T12:54:09.275593Z"
    }
   },
   "outputs": [
    {
     "data": {
      "text/plain": [
       "1.31390107e-05"
      ]
     },
     "execution_count": 13,
     "metadata": {},
     "output_type": "execute_result"
    }
   ],
   "source": [
    "1.31390107e-05 # 50"
   ]
  },
  {
   "cell_type": "code",
   "execution_count": 14,
   "metadata": {
    "ExecuteTime": {
     "end_time": "2019-01-22T12:54:09.289486Z",
     "start_time": "2019-01-22T12:54:09.286073Z"
    }
   },
   "outputs": [],
   "source": [
    "α = 2"
   ]
  },
  {
   "cell_type": "code",
   "execution_count": 15,
   "metadata": {
    "ExecuteTime": {
     "end_time": "2019-01-22T12:54:09.304573Z",
     "start_time": "2019-01-22T12:54:09.292309Z"
    }
   },
   "outputs": [
    {
     "ename": "NameError",
     "evalue": "name 'random_sample' is not defined",
     "output_type": "error",
     "traceback": [
      "\u001b[0;31m---------------------------------------------------------------------------\u001b[0m",
      "\u001b[0;31mNameError\u001b[0m                                 Traceback (most recent call last)",
      "\u001b[0;32m<ipython-input-15-e03955631bdf>\u001b[0m in \u001b[0;36m<module>\u001b[0;34m()\u001b[0m\n\u001b[0;32m----> 1\u001b[0;31m \u001b[0mnew_array\u001b[0m \u001b[0;34m=\u001b[0m \u001b[0mrandom_sample\u001b[0m\u001b[0;34m(\u001b[0m\u001b[0;34m(\u001b[0m\u001b[0;36m4\u001b[0m\u001b[0;34m,\u001b[0m\u001b[0;36m3\u001b[0m\u001b[0;34m,\u001b[0m\u001b[0;34m)\u001b[0m\u001b[0;34m)\u001b[0m\u001b[0;34m\u001b[0m\u001b[0;34m\u001b[0m\u001b[0m\n\u001b[0m",
      "\u001b[0;31mNameError\u001b[0m: name 'random_sample' is not defined"
     ]
    }
   ],
   "source": [
    "new_array = random_sample((4,3,))"
   ]
  },
  {
   "cell_type": "code",
   "execution_count": null,
   "metadata": {
    "ExecuteTime": {
     "end_time": "2019-01-22T12:54:09.305812Z",
     "start_time": "2019-01-22T12:54:09.273Z"
    }
   },
   "outputs": [],
   "source": [
    "new_array"
   ]
  },
  {
   "cell_type": "code",
   "execution_count": null,
   "metadata": {
    "ExecuteTime": {
     "end_time": "2019-01-22T12:54:09.307248Z",
     "start_time": "2019-01-22T12:54:09.276Z"
    }
   },
   "outputs": [],
   "source": [
    "new_array.any()"
   ]
  },
  {
   "cell_type": "code",
   "execution_count": null,
   "metadata": {
    "ExecuteTime": {
     "end_time": "2019-01-22T12:54:09.313592Z",
     "start_time": "2019-01-22T12:54:09.279Z"
    }
   },
   "outputs": [],
   "source": [
    "new_array[0] = 0\n"
   ]
  },
  {
   "cell_type": "code",
   "execution_count": null,
   "metadata": {
    "ExecuteTime": {
     "end_time": "2019-01-22T12:54:09.322354Z",
     "start_time": "2019-01-22T12:54:09.284Z"
    }
   },
   "outputs": [],
   "source": [
    "new_array"
   ]
  },
  {
   "cell_type": "code",
   "execution_count": null,
   "metadata": {
    "ExecuteTime": {
     "end_time": "2019-01-22T12:54:09.323425Z",
     "start_time": "2019-01-22T12:54:09.287Z"
    }
   },
   "outputs": [],
   "source": [
    "new_array.any()"
   ]
  },
  {
   "cell_type": "code",
   "execution_count": null,
   "metadata": {
    "ExecuteTime": {
     "end_time": "2019-01-22T12:54:09.324600Z",
     "start_time": "2019-01-22T12:54:09.290Z"
    }
   },
   "outputs": [],
   "source": [
    "new_array.all()"
   ]
  },
  {
   "cell_type": "code",
   "execution_count": null,
   "metadata": {
    "ExecuteTime": {
     "end_time": "2019-01-22T12:54:09.329873Z",
     "start_time": "2019-01-22T12:54:09.292Z"
    }
   },
   "outputs": [],
   "source": [
    "max(new_array)"
   ]
  },
  {
   "cell_type": "code",
   "execution_count": null,
   "metadata": {
    "ExecuteTime": {
     "end_time": "2019-01-22T12:54:09.339003Z",
     "start_time": "2019-01-22T12:54:09.295Z"
    }
   },
   "outputs": [],
   "source": [
    "max(new_array, axis=0)"
   ]
  },
  {
   "cell_type": "code",
   "execution_count": null,
   "metadata": {
    "ExecuteTime": {
     "end_time": "2019-01-22T12:54:09.340362Z",
     "start_time": "2019-01-22T12:54:09.301Z"
    }
   },
   "outputs": [],
   "source": [
    "from numpy import amax "
   ]
  },
  {
   "cell_type": "code",
   "execution_count": null,
   "metadata": {
    "ExecuteTime": {
     "end_time": "2019-01-22T12:54:09.342531Z",
     "start_time": "2019-01-22T12:54:09.305Z"
    }
   },
   "outputs": [],
   "source": [
    "amax(new_array)"
   ]
  },
  {
   "cell_type": "code",
   "execution_count": null,
   "metadata": {},
   "outputs": [],
   "source": []
  }
 ],
 "metadata": {
  "kernelspec": {
   "display_name": "Python 3",
   "language": "python",
   "name": "python3"
  },
  "language_info": {
   "codemirror_mode": {
    "name": "ipython",
    "version": 3
   },
   "file_extension": ".py",
   "mimetype": "text/x-python",
   "name": "python",
   "nbconvert_exporter": "python",
   "pygments_lexer": "ipython3",
   "version": "3.6.8"
  },
  "toc": {
   "base_numbering": 1,
   "nav_menu": {},
   "number_sections": true,
   "sideBar": true,
   "skip_h1_title": false,
   "title_cell": "Table of Contents",
   "title_sidebar": "Contents",
   "toc_cell": false,
   "toc_position": {},
   "toc_section_display": true,
   "toc_window_display": false
  }
 },
 "nbformat": 4,
 "nbformat_minor": 2
}
