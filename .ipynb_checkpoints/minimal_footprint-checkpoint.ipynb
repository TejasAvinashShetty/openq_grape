{
 "cells": [
  {
   "cell_type": "markdown",
   "metadata": {
    "heading_collapsed": true
   },
   "source": [
    "# Imports"
   ]
  },
  {
   "cell_type": "code",
   "execution_count": 108,
   "metadata": {
    "ExecuteTime": {
     "end_time": "2019-01-28T10:02:03.459804Z",
     "start_time": "2019-01-28T10:02:03.385026Z"
    },
    "hidden": true
   },
   "outputs": [],
   "source": [
    "\n",
    "# coding: utf-8\n",
    "\n",
    "# # Imports\n",
    "\n",
    "# ## Qutip imports 1\n",
    "\n",
    "# In[1]:\n",
    "\n",
    "\n",
    "from qutip.operators import sigmax, sigmay, sigmaz, identity\n",
    "# position, momentum, num, create, destroy, commutator, qeye \n",
    "from qutip.tensor import tensor\n",
    "from qutip.qip.gates import swap, rx, ry, rz\n",
    "from qutip.qobj import Qobj\n",
    "from qutip.visualization import hinton\n",
    "from qutip.visualization import matrix_histogram_complex, matrix_histogram\n",
    "from qutip.random_objects import rand_herm, rand_unitary, rand_dm\n",
    "\n",
    "\n",
    "# ## Qutip imports 2\n",
    "\n",
    "# In[2]:\n",
    "\n",
    "\n",
    "#from \n",
    "\n",
    "\n",
    "# ## Numpy imports \n",
    "\n",
    "# In[2]:\n",
    "\n",
    "\n",
    "from numpy import sin, cos, tan, real, imag,  log, conj\n",
    "from numpy import array, append, linspace, arange\n",
    "from numpy import add, sqrt, abs, dot\n",
    "from numpy.random import random, random_sample, rand, seed, RandomState\n",
    "from numpy import concatenate, trace, diag\n",
    "from numpy import ones, zeros, ones_like, zeros_like\n",
    "from numpy import amax, amin, nanmax, nanmin\n",
    "from numpy import outer, multiply\n",
    "# from numpy import pi\n",
    "\n",
    "\n",
    "# ## Scipy imports\n",
    "\n",
    "# In[17]:\n",
    "\n",
    "\n",
    "from scipy.integrate import ode, odeint, complex_ode\n",
    "from scipy.optimize import minimize\n",
    "from scipy.linalg import eigh, inv, norm, expm\n",
    "# from scipy.linalg import \n",
    "# from scipy import\n",
    "\n",
    "\n",
    "# ## Matplotlib imports\n",
    "\n",
    "# In[18]:\n",
    "\n",
    "\n",
    "from matplotlib.pyplot import plot, figure, show, savefig, axes\n",
    "from matplotlib.pyplot import xlabel, ylabel, title, legend\n",
    "from matplotlib import rcParams\n",
    "from matplotlib.pyplot import style \n",
    "from matplotlib.pyplot import xlim, ylim, axis \n",
    "# beware not same as axes\n",
    "from matplotlib.pyplot import subplot, subplots, text\n",
    "from matplotlib.pyplot import GridSpec\n",
    "from matplotlib.pyplot import scatter, colorbar\n",
    "\n",
    "\n",
    "pgf_with_rc_fonts = {\"pgf.texsystem\": \"pdflatex\"}\n",
    "rcParams.update(pgf_with_rc_fonts)\n",
    "style.use('seaborn-whitegrid')\n",
    "\n",
    "\n",
    "# ## Math imports\n",
    "\n",
    "# In[19]:\n",
    "\n",
    "\n",
    "from math import pi\n",
    "from math import exp\n",
    "\n",
    "\n",
    "# ## Cmath imports\n",
    "\n",
    "# ## Date and datetime imports\n",
    "\n",
    "# In[20]:\n",
    "\n",
    "\n",
    "from datetime import date\n",
    "from datetime import datetime# now\n",
    "\n",
    "\n",
    "# ## Os imports\n",
    "\n",
    "# In[21]:\n",
    "\n",
    "\n",
    "from os import getcwd, mkdir, chdir\n",
    "from os.path import abspath, join \n",
    "\n",
    "\n",
    "# ## Sympy imports\n",
    "\n",
    "# In[22]:\n",
    "\n",
    "\n",
    "from sympy import Function, dsolve, Eq, Derivative, symbols\n",
    "# x, y, z, t = symbols('x y z t')\n",
    "# k, m, n = symbols('k m n', integer=True)\n",
    "# f, g, h = symbols('f g h', cls=Function)\n",
    "\n",
    "\n",
    "# ## Miscellaneous imports\n",
    "\n",
    "# ## Extra useful functions\n",
    "\n",
    "# In[23]:\n",
    "\n",
    "\n",
    "def rint(x):\n",
    "    print(\"x = \", x)\n",
    "    return None\n",
    "\n",
    "\n",
    "# # Next chapter\n",
    "\n",
    "# ## sub topic 1\n",
    "\n",
    "# ## sub topic 2\n",
    "\n",
    "# ## sub topic 3\n",
    "\n",
    "# ### sub sub topic 1\n",
    "\n"
   ]
  },
  {
   "cell_type": "markdown",
   "metadata": {},
   "source": [
    "# Building parts"
   ]
  },
  {
   "cell_type": "markdown",
   "metadata": {},
   "source": [
    "## memory wiping"
   ]
  },
  {
   "cell_type": "code",
   "execution_count": 109,
   "metadata": {
    "ExecuteTime": {
     "end_time": "2019-01-28T10:02:12.901752Z",
     "start_time": "2019-01-28T10:02:12.839517Z"
    }
   },
   "outputs": [
    {
     "ename": "NameError",
     "evalue": "name 'omega_1' is not defined",
     "output_type": "error",
     "traceback": [
      "\u001b[0;31m---------------------------------------------------------------------------\u001b[0m",
      "\u001b[0;31mNameError\u001b[0m                                 Traceback (most recent call last)",
      "\u001b[0;32m<ipython-input-109-a59b274a7822>\u001b[0m in \u001b[0;36m<module>\u001b[0;34m()\u001b[0m\n\u001b[0;32m----> 1\u001b[0;31m \u001b[0;32mdel\u001b[0m \u001b[0momega_1\u001b[0m\u001b[0;34m,\u001b[0m \u001b[0mtotal_time\u001b[0m\u001b[0;34m,\u001b[0m \u001b[0mepsilon\u001b[0m\u001b[0;34m,\u001b[0m \u001b[0mmax_iter\u001b[0m\u001b[0;34m,\u001b[0m \u001b[0mtime_steps\u001b[0m\u001b[0;34m,\u001b[0m \u001b[0mdt\u001b[0m\u001b[0;34m\u001b[0m\u001b[0;34m\u001b[0m\u001b[0m\n\u001b[0m",
      "\u001b[0;31mNameError\u001b[0m: name 'omega_1' is not defined"
     ]
    }
   ],
   "source": [
    " del omega_1, total_time, epsilon, max_iter, time_steps, dt"
   ]
  },
  {
   "cell_type": "code",
   "execution_count": 110,
   "metadata": {
    "ExecuteTime": {
     "end_time": "2019-01-28T10:02:13.199058Z",
     "start_time": "2019-01-28T10:02:13.184464Z"
    }
   },
   "outputs": [
    {
     "ename": "NameError",
     "evalue": "name 'Lin' is not defined",
     "output_type": "error",
     "traceback": [
      "\u001b[0;31m---------------------------------------------------------------------------\u001b[0m",
      "\u001b[0;31mNameError\u001b[0m                                 Traceback (most recent call last)",
      "\u001b[0;32m<ipython-input-110-db5bdcc4267f>\u001b[0m in \u001b[0;36m<module>\u001b[0;34m()\u001b[0m\n\u001b[0;32m----> 1\u001b[0;31m \u001b[0;32mdel\u001b[0m \u001b[0mLin\u001b[0m\u001b[0;34m,\u001b[0m \u001b[0mTi\u001b[0m\u001b[0;34m,\u001b[0m\u001b[0mI\u001b[0m\u001b[0;34m\u001b[0m\u001b[0;34m\u001b[0m\u001b[0m\n\u001b[0m",
      "\u001b[0;31mNameError\u001b[0m: name 'Lin' is not defined"
     ]
    }
   ],
   "source": [
    "del Lin, Ti,I"
   ]
  },
  {
   "cell_type": "markdown",
   "metadata": {},
   "source": [
    "## Building the Hamiltonians"
   ]
  },
  {
   "cell_type": "code",
   "execution_count": 112,
   "metadata": {
    "ExecuteTime": {
     "end_time": "2019-01-28T10:12:40.170089Z",
     "start_time": "2019-01-28T10:12:40.159118Z"
    }
   },
   "outputs": [],
   "source": [
    "def H1(omega_1):\n",
    "    r\"\"\"Building the bare Hamiltonian\"\"\"\n",
    "    H1 = omega_1*sigmaz()\n",
    "    return H1"
   ]
  },
  {
   "cell_type": "code",
   "execution_count": 113,
   "metadata": {
    "ExecuteTime": {
     "end_time": "2019-01-28T10:12:40.582151Z",
     "start_time": "2019-01-28T10:12:40.577836Z"
    }
   },
   "outputs": [],
   "source": [
    "def H2():\n",
    "    r\"\"\"Building the Interaction Hamiltonian\"\"\"\n",
    "    H2 = sigmay()\n",
    "    return H2"
   ]
  },
  {
   "cell_type": "code",
   "execution_count": 114,
   "metadata": {
    "ExecuteTime": {
     "end_time": "2019-01-28T10:12:41.041680Z",
     "start_time": "2019-01-28T10:12:41.029370Z"
    }
   },
   "outputs": [],
   "source": [
    "def Hamil(omega_1, xi):\n",
    "    H = H1(omega_1) + xi*H2()\n",
    "    return H"
   ]
  },
  {
   "cell_type": "code",
   "execution_count": 115,
   "metadata": {
    "ExecuteTime": {
     "end_time": "2019-01-28T10:12:41.704137Z",
     "start_time": "2019-01-28T10:12:41.648112Z"
    }
   },
   "outputs": [
    {
     "data": {
      "text/latex": [
       "Quantum object: dims = [[2], [2]], shape = (2, 2), type = oper, isherm = True\\begin{equation*}\\left(\\begin{array}{*{11}c}2.0 & -0.500j\\\\0.500j & -2.0\\\\\\end{array}\\right)\\end{equation*}"
      ],
      "text/plain": [
       "Quantum object: dims = [[2], [2]], shape = (2, 2), type = oper, isherm = True\n",
       "Qobj data =\n",
       "[[ 2.+0.j   0.-0.5j]\n",
       " [ 0.+0.5j -2.+0.j ]]"
      ]
     },
     "execution_count": 115,
     "metadata": {},
     "output_type": "execute_result"
    }
   ],
   "source": [
    "Hamil(2, 0.5 )"
   ]
  },
  {
   "cell_type": "markdown",
   "metadata": {},
   "source": [
    "## Transforming  the Target Unitary"
   ]
  },
  {
   "cell_type": "code",
   "execution_count": 116,
   "metadata": {
    "ExecuteTime": {
     "end_time": "2019-01-28T10:12:42.519190Z",
     "start_time": "2019-01-28T10:12:42.514241Z"
    }
   },
   "outputs": [],
   "source": [
    "def T_maker(Ti):\n",
    "    r\"\"\"Moving the target from Hilbert space to Liouville space\"\"\"\n",
    "    T = tensor(Ti.trans(), Ti)\n",
    "    return T"
   ]
  },
  {
   "cell_type": "code",
   "execution_count": 117,
   "metadata": {
    "ExecuteTime": {
     "end_time": "2019-01-28T10:12:42.920886Z",
     "start_time": "2019-01-28T10:12:42.908145Z"
    }
   },
   "outputs": [
    {
     "data": {
      "text/latex": [
       "Quantum object: dims = [[2, 2, 2], [2, 2, 2]], shape = (8, 8), type = oper, isherm = True\\begin{equation*}\\left(\\begin{array}{*{11}c}0.0 & 0.0 & 0.0 & 1.0 & 0.0 & 0.0 & 0.0 & 0.0\\\\0.0 & 0.0 & 1.0 & 0.0 & 0.0 & 0.0 & 0.0 & 0.0\\\\0.0 & 1.0 & 0.0 & 0.0 & 0.0 & 0.0 & 0.0 & 0.0\\\\1.0 & 0.0 & 0.0 & 0.0 & 0.0 & 0.0 & 0.0 & 0.0\\\\0.0 & 0.0 & 0.0 & 0.0 & 0.0 & 0.0 & 0.0 & 1.0\\\\0.0 & 0.0 & 0.0 & 0.0 & 0.0 & 0.0 & 1.0 & 0.0\\\\0.0 & 0.0 & 0.0 & 0.0 & 0.0 & 1.0 & 0.0 & 0.0\\\\0.0 & 0.0 & 0.0 & 0.0 & 1.0 & 0.0 & 0.0 & 0.0\\\\\\end{array}\\right)\\end{equation*}"
      ],
      "text/plain": [
       "Quantum object: dims = [[2, 2, 2], [2, 2, 2]], shape = (8, 8), type = oper, isherm = True\n",
       "Qobj data =\n",
       "[[0. 0. 0. 1. 0. 0. 0. 0.]\n",
       " [0. 0. 1. 0. 0. 0. 0. 0.]\n",
       " [0. 1. 0. 0. 0. 0. 0. 0.]\n",
       " [1. 0. 0. 0. 0. 0. 0. 0.]\n",
       " [0. 0. 0. 0. 0. 0. 0. 1.]\n",
       " [0. 0. 0. 0. 0. 0. 1. 0.]\n",
       " [0. 0. 0. 0. 0. 1. 0. 0.]\n",
       " [0. 0. 0. 0. 1. 0. 0. 0.]]"
      ]
     },
     "execution_count": 117,
     "metadata": {},
     "output_type": "execute_result"
    }
   ],
   "source": [
    " tensor(identity(2), T_maker(sigmax()))"
   ]
  },
  {
   "cell_type": "markdown",
   "metadata": {},
   "source": [
    "## Building $A(t)$"
   ]
  },
  {
   "cell_type": "code",
   "execution_count": 118,
   "metadata": {
    "ExecuteTime": {
     "end_time": "2019-01-28T10:12:43.601256Z",
     "start_time": "2019-01-28T10:12:43.593531Z"
    }
   },
   "outputs": [],
   "source": [
    "def leftover(Lin):\n",
    "    r\"\"\"part of $A(t)$ that depends on Linbladian operators\"\"\"\n",
    "    d = Lin.shape[0]\n",
    "    I = identity(d)\n",
    "    term1 = tensor(Lin.trans(), Lin)\n",
    "    term2 = tensor(I, ((Lin.dag())*(Lin)))\n",
    "    term3 = tensor(((Lin.trans())*(Lin.conj())), I)\n",
    "    leftover = 1j*(0.1)*(term1 - 0.5*(term2 + term3))\n",
    "    return leftover\n",
    "\n",
    "\n",
    "def A(omega_1, xi, Lin):\n",
    "    r\"\"\"making $A(t)$\"\"\"\n",
    "    H = Hamil(omega_1, xi)\n",
    "    d = Lin.shape[0]\n",
    "    I = identity(d)\n",
    "    A = tensor(I, H) - tensor((H.conj()), I) + leftover(Lin)\n",
    "    return A"
   ]
  },
  {
   "cell_type": "code",
   "execution_count": 119,
   "metadata": {
    "ExecuteTime": {
     "end_time": "2019-01-28T10:12:43.948755Z",
     "start_time": "2019-01-28T10:12:43.937635Z"
    }
   },
   "outputs": [
    {
     "data": {
      "text/latex": [
       "Quantum object: dims = [[2, 2], [2, 2]], shape = (4, 4), type = oper, isherm = False\\begin{equation*}\\left(\\begin{array}{*{11}c}0.0 & -0.500j & -0.500j & 0.0\\\\0.500j & (-4.0-0.200j) & 0.0 & -0.500j\\\\0.500j & 0.0 & (4.0-0.200j) & -0.500j\\\\0.0 & 0.500j & 0.500j & 0.0\\\\\\end{array}\\right)\\end{equation*}"
      ],
      "text/plain": [
       "Quantum object: dims = [[2, 2], [2, 2]], shape = (4, 4), type = oper, isherm = False\n",
       "Qobj data =\n",
       "[[ 0.+0.j   0.-0.5j  0.-0.5j  0.+0.j ]\n",
       " [ 0.+0.5j -4.-0.2j  0.+0.j   0.-0.5j]\n",
       " [ 0.+0.5j  0.+0.j   4.-0.2j  0.-0.5j]\n",
       " [ 0.+0.j   0.+0.5j  0.+0.5j  0.+0.j ]]"
      ]
     },
     "execution_count": 119,
     "metadata": {},
     "output_type": "execute_result"
    }
   ],
   "source": [
    "A(2, 0.5, sigmaz())"
   ]
  },
  {
   "cell_type": "code",
   "execution_count": 120,
   "metadata": {
    "ExecuteTime": {
     "end_time": "2019-01-28T10:12:44.319183Z",
     "start_time": "2019-01-28T10:12:44.309563Z"
    }
   },
   "outputs": [
    {
     "data": {
      "text/latex": [
       "Quantum object: dims = [[2, 2], [2, 2]], shape = (4, 4), type = oper, isherm = False\\begin{equation*}\\left(\\begin{array}{*{11}c}0.0 & -0.500j & -0.500j & 0.0\\\\0.500j & -0.200j & 0.0 & -0.500j\\\\0.500j & 0.0 & -0.200j & -0.500j\\\\0.0 & 0.500j & 0.500j & 0.0\\\\\\end{array}\\right)\\end{equation*}"
      ],
      "text/plain": [
       "Quantum object: dims = [[2, 2], [2, 2]], shape = (4, 4), type = oper, isherm = False\n",
       "Qobj data =\n",
       "[[0.+0.j  0.-0.5j 0.-0.5j 0.+0.j ]\n",
       " [0.+0.5j 0.-0.2j 0.+0.j  0.-0.5j]\n",
       " [0.+0.5j 0.+0.j  0.-0.2j 0.-0.5j]\n",
       " [0.+0.j  0.+0.5j 0.+0.5j 0.+0.j ]]"
      ]
     },
     "execution_count": 120,
     "metadata": {},
     "output_type": "execute_result"
    }
   ],
   "source": [
    "A(0, 0.5, sigmaz())"
   ]
  },
  {
   "cell_type": "markdown",
   "metadata": {},
   "source": [
    "## Building $X_{k}$ "
   ]
  },
  {
   "cell_type": "code",
   "execution_count": 121,
   "metadata": {
    "ExecuteTime": {
     "end_time": "2019-01-28T10:12:45.068314Z",
     "start_time": "2019-01-28T10:12:45.064247Z"
    },
    "code_folding": []
   },
   "outputs": [],
   "source": [
    "def x_k(omega_1, Lin ):\n",
    "    r\"\"\"Building the derivative of $X_{k}$\"\"\"\n",
    "    d = Lin.shape[0]\n",
    "    I = identity(d)\n",
    "    x_k = tensor(I, H2()) - tensor((H2().conj()), I) #+ leftover(Lin)\n",
    "    return x_k"
   ]
  },
  {
   "cell_type": "code",
   "execution_count": 122,
   "metadata": {
    "ExecuteTime": {
     "end_time": "2019-01-28T10:12:45.411357Z",
     "start_time": "2019-01-28T10:12:45.401710Z"
    }
   },
   "outputs": [
    {
     "data": {
      "text/latex": [
       "Quantum object: dims = [[2, 2], [2, 2]], shape = (4, 4), type = oper, isherm = True\\begin{equation*}\\left(\\begin{array}{*{11}c}0.0 & -1.0j & -1.0j & 0.0\\\\1.0j & 0.0 & 0.0 & -1.0j\\\\1.0j & 0.0 & 0.0 & -1.0j\\\\0.0 & 1.0j & 1.0j & 0.0\\\\\\end{array}\\right)\\end{equation*}"
      ],
      "text/plain": [
       "Quantum object: dims = [[2, 2], [2, 2]], shape = (4, 4), type = oper, isherm = True\n",
       "Qobj data =\n",
       "[[0.+0.j 0.-1.j 0.-1.j 0.+0.j]\n",
       " [0.+1.j 0.+0.j 0.+0.j 0.-1.j]\n",
       " [0.+1.j 0.+0.j 0.+0.j 0.-1.j]\n",
       " [0.+0.j 0.+1.j 0.+1.j 0.+0.j]]"
      ]
     },
     "execution_count": 122,
     "metadata": {},
     "output_type": "execute_result"
    }
   ],
   "source": [
    "x_k(0.5, sigmaz())"
   ]
  },
  {
   "cell_type": "markdown",
   "metadata": {},
   "source": [
    "## Building $L(t)$ and the Identity in the Liouville space"
   ]
  },
  {
   "cell_type": "code",
   "execution_count": 123,
   "metadata": {
    "ExecuteTime": {
     "end_time": "2019-01-28T10:12:46.108799Z",
     "start_time": "2019-01-28T10:12:46.103973Z"
    }
   },
   "outputs": [],
   "source": [
    "def L(omega_1, xi, Lin, dt):\n",
    "    r\"\"\"Making $L(t) from $A(t)$\"\"\"\n",
    "    L = (-1j*A(omega_1, xi, Lin)*dt).expm()\n",
    "    return L"
   ]
  },
  {
   "cell_type": "code",
   "execution_count": 124,
   "metadata": {
    "ExecuteTime": {
     "end_time": "2019-01-28T10:12:46.474458Z",
     "start_time": "2019-01-28T10:12:46.431954Z"
    }
   },
   "outputs": [
    {
     "data": {
      "text/latex": [
       "Quantum object: dims = [[2, 2], [2, 2]], shape = (4, 4), type = oper, isherm = False\\begin{equation*}\\left(\\begin{array}{*{11}c}1.000 & (-0.002-9.999\\times10^{-07}j) & (-0.002+9.999\\times10^{-07}j) & 4.000\\times10^{-06}\\\\(0.002+9.999\\times10^{-07}j) & (1.000+9.998\\times10^{-04}j) & -3.999\\times10^{-06} & (-0.002-9.999\\times10^{-07}j)\\\\(0.002-9.999\\times10^{-07}j) & -3.999\\times10^{-06} & (1.000-9.998\\times10^{-04}j) & (-0.002+9.999\\times10^{-07}j)\\\\4.000\\times10^{-06} & (0.002+9.999\\times10^{-07}j) & (0.002-9.999\\times10^{-07}j) & 1.000\\\\\\end{array}\\right)\\end{equation*}"
      ],
      "text/plain": [
       "Quantum object: dims = [[2, 2], [2, 2]], shape = (4, 4), type = oper, isherm = False\n",
       "Qobj data =\n",
       "[[ 9.99996000e-01+0.00000000e+00j -1.99979435e-03-9.99865260e-07j\n",
       "  -1.99979435e-03+9.99865260e-07j  3.99972768e-06+0.00000000e+00j]\n",
       " [ 1.99979435e-03+9.99865260e-07j  9.99795521e-01+9.99797187e-04j\n",
       "  -3.99946104e-06+0.00000000e+00j -1.99979435e-03-9.99865260e-07j]\n",
       " [ 1.99979435e-03-9.99865260e-07j -3.99946104e-06+0.00000000e+00j\n",
       "   9.99795521e-01-9.99797187e-04j -1.99979435e-03+9.99865260e-07j]\n",
       " [ 3.99972768e-06+0.00000000e+00j  1.99979435e-03+9.99865260e-07j\n",
       "   1.99979435e-03-9.99865260e-07j  9.99996000e-01+0.00000000e+00j]]"
      ]
     },
     "execution_count": 124,
     "metadata": {},
     "output_type": "execute_result"
    }
   ],
   "source": [
    "L(0.5, 2, sigmaz(), 0.001)"
   ]
  },
  {
   "cell_type": "code",
   "execution_count": 125,
   "metadata": {
    "ExecuteTime": {
     "end_time": "2019-01-28T10:12:46.734348Z",
     "start_time": "2019-01-28T10:12:46.728101Z"
    }
   },
   "outputs": [],
   "source": [
    "def L_I(Ti):\n",
    "    r\"\"\"Identity in the liouville space\"\"\"\n",
    "    d = Ti.shape[0]\n",
    "    I = identity(d)\n",
    "    L_I = tensor(I, I)\n",
    "    return L_I"
   ]
  },
  {
   "cell_type": "code",
   "execution_count": 126,
   "metadata": {
    "ExecuteTime": {
     "end_time": "2019-01-28T10:12:47.090812Z",
     "start_time": "2019-01-28T10:12:47.080615Z"
    }
   },
   "outputs": [
    {
     "data": {
      "text/latex": [
       "Quantum object: dims = [[2, 2], [2, 2]], shape = (4, 4), type = oper, isherm = True\\begin{equation*}\\left(\\begin{array}{*{11}c}1.0 & 0.0 & 0.0 & 0.0\\\\0.0 & 1.0 & 0.0 & 0.0\\\\0.0 & 0.0 & 1.0 & 0.0\\\\0.0 & 0.0 & 0.0 & 1.0\\\\\\end{array}\\right)\\end{equation*}"
      ],
      "text/plain": [
       "Quantum object: dims = [[2, 2], [2, 2]], shape = (4, 4), type = oper, isherm = True\n",
       "Qobj data =\n",
       "[[1. 0. 0. 0.]\n",
       " [0. 1. 0. 0.]\n",
       " [0. 0. 1. 0.]\n",
       " [0. 0. 0. 1.]]"
      ]
     },
     "execution_count": 126,
     "metadata": {},
     "output_type": "execute_result"
    }
   ],
   "source": [
    "L_I(sigmay())"
   ]
  },
  {
   "cell_type": "markdown",
   "metadata": {},
   "source": [
    "## Major functions 1"
   ]
  },
  {
   "cell_type": "code",
   "execution_count": 127,
   "metadata": {
    "ExecuteTime": {
     "end_time": "2019-01-28T10:12:47.738434Z",
     "start_time": "2019-01-28T10:12:47.733427Z"
    }
   },
   "outputs": [],
   "source": [
    "# building the function to optimize (optimizee)\n",
    "def L_vec(omega_1, xi_vec, Lin, dt):\n",
    "    r\"\"\"Building the vector of differential $L(t)$\"\"\"\n",
    "    L_vec = [L(omega_1, xi, Lin, dt) for xi in xi_vec] \n",
    "    return L_vec"
   ]
  },
  {
   "cell_type": "code",
   "execution_count": 128,
   "metadata": {
    "ExecuteTime": {
     "end_time": "2019-01-28T10:12:48.068154Z",
     "start_time": "2019-01-28T10:12:48.062537Z"
    }
   },
   "outputs": [],
   "source": [
    "def fidelity_calc(A, B):\n",
    "    r\"\"\"Making a generalised fidelity function\"\"\"\n",
    "    d1 = A.shape[0] # Assuming no rectangular shaped matrices\n",
    "    d2 = B.shape[0] # Assuming no rectangular shaped matrices\n",
    "    d = d1*d2 # Should I normalize with this?\n",
    "    first_part = (A - B).dag()\n",
    "    second_part = (A - B)\n",
    "    f_int = (first_part* second_part)\n",
    "    f = f_int.tr()\n",
    "    return f"
   ]
  },
  {
   "cell_type": "code",
   "execution_count": 129,
   "metadata": {
    "ExecuteTime": {
     "end_time": "2019-01-28T10:12:48.426592Z",
     "start_time": "2019-01-28T10:12:48.419042Z"
    }
   },
   "outputs": [],
   "source": [
    "def L_full_maker(Ti, omega_1, xi_vec, Lin, dt):\n",
    "    r\"\"\"Building the $L(t)$ for the total time $t$\"\"\"\n",
    "    xi_vec_size = xi_vec.size # finding the size of xi\n",
    "    L_full = L_I(Ti) # Identity for the for loop of L\n",
    "    L_v = L_vec(omega_1, xi_vec, Lin, dt) # calling L_vec\n",
    "    for i in range(xi_vec_size): # generating L_full\n",
    "        L_full = L_full*L_v[xi_vec_size - 1 - i]\n",
    "    return L_full"
   ]
  },
  {
   "cell_type": "code",
   "execution_count": 130,
   "metadata": {
    "ExecuteTime": {
     "end_time": "2019-01-28T10:12:48.822197Z",
     "start_time": "2019-01-28T10:12:48.816284Z"
    }
   },
   "outputs": [],
   "source": [
    "def F(Ti, omega_1, xi_vec, Lin, dt):\n",
    "    r\"\"\"Using the fidelity metric to find out the closeness between $T$\n",
    "    and $L(t)$\"\"\"\n",
    "    L_full = L_full_maker(Ti, omega_1, xi_vec, Lin, dt)\n",
    "    T = T_maker(Ti) # Transforming $T_{i}$ to liouville space\n",
    "    F = real(-fidelity_calc(T, L_full))   \n",
    "    return F"
   ]
  },
  {
   "cell_type": "markdown",
   "metadata": {},
   "source": [
    "## Testing major functions 1"
   ]
  },
  {
   "cell_type": "code",
   "execution_count": 131,
   "metadata": {
    "ExecuteTime": {
     "end_time": "2019-01-28T10:12:49.610648Z",
     "start_time": "2019-01-28T10:12:49.601242Z"
    }
   },
   "outputs": [
    {
     "data": {
      "text/plain": [
       "4.0"
      ]
     },
     "execution_count": 131,
     "metadata": {},
     "output_type": "execute_result"
    }
   ],
   "source": [
    "fidelity_calc(sigmax(), sigmay())"
   ]
  },
  {
   "cell_type": "code",
   "execution_count": 132,
   "metadata": {
    "ExecuteTime": {
     "end_time": "2019-01-28T10:12:51.495025Z",
     "start_time": "2019-01-28T10:12:51.486351Z"
    }
   },
   "outputs": [
    {
     "data": {
      "text/plain": [
       "0.0"
      ]
     },
     "execution_count": 132,
     "metadata": {},
     "output_type": "execute_result"
    }
   ],
   "source": [
    "fidelity_calc(sigmay(), sigmay())"
   ]
  },
  {
   "cell_type": "code",
   "execution_count": 133,
   "metadata": {
    "ExecuteTime": {
     "end_time": "2019-01-28T10:12:52.492780Z",
     "start_time": "2019-01-28T10:12:52.486563Z"
    }
   },
   "outputs": [
    {
     "data": {
      "text/plain": [
       "array([1., 2.])"
      ]
     },
     "execution_count": 133,
     "metadata": {},
     "output_type": "execute_result"
    }
   ],
   "source": [
    "xi_vec_test = array([1.0, 2.0])\n",
    "xi_vec_test"
   ]
  },
  {
   "cell_type": "code",
   "execution_count": 134,
   "metadata": {
    "ExecuteTime": {
     "end_time": "2019-01-28T10:12:52.916099Z",
     "start_time": "2019-01-28T10:12:52.911970Z"
    }
   },
   "outputs": [
    {
     "data": {
      "text/plain": [
       "2"
      ]
     },
     "execution_count": 134,
     "metadata": {},
     "output_type": "execute_result"
    }
   ],
   "source": [
    "xi_vec_test.size"
   ]
  },
  {
   "cell_type": "code",
   "execution_count": 135,
   "metadata": {
    "ExecuteTime": {
     "end_time": "2019-01-28T10:12:56.256278Z",
     "start_time": "2019-01-28T10:12:56.249140Z"
    }
   },
   "outputs": [
    {
     "data": {
      "text/plain": [
       "[1.0, 4.0]"
      ]
     },
     "execution_count": 135,
     "metadata": {},
     "output_type": "execute_result"
    }
   ],
   "source": [
    "w_vec = [xi**2 for xi in xi_vec_test]\n",
    "w_vec"
   ]
  },
  {
   "cell_type": "code",
   "execution_count": 136,
   "metadata": {
    "ExecuteTime": {
     "end_time": "2019-01-28T10:12:56.699129Z",
     "start_time": "2019-01-28T10:12:56.678778Z"
    }
   },
   "outputs": [
    {
     "data": {
      "text/plain": [
       "-7.998400634493139"
      ]
     },
     "execution_count": 136,
     "metadata": {},
     "output_type": "execute_result"
    }
   ],
   "source": [
    "# F(Ti, omega_1, xi_vec, Lin, dt)\n",
    "F(sigmax(), 0.5 , xi_vec_test, sigmaz(), 0.001)"
   ]
  },
  {
   "cell_type": "markdown",
   "metadata": {},
   "source": [
    "## Major Functions 2"
   ]
  },
  {
   "cell_type": "code",
   "execution_count": 137,
   "metadata": {
    "ExecuteTime": {
     "end_time": "2019-01-28T10:12:57.642912Z",
     "start_time": "2019-01-28T10:12:57.635965Z"
    }
   },
   "outputs": [],
   "source": [
    "def L_comma_k_maker(Ti, omega_1, xi_vec, k, Lin, dt):\n",
    "    r\"\"\"Making of the derivative of full $L(t)$ at time $t_{k}$\"\"\"\n",
    "    N = xi_vec.size \n",
    "    # Determining the size of xi, and thus the time_steps indirectly.\n",
    "    L_v = L_vec(omega_1, xi_vec, Lin, dt)# Making of the full $L(t)$\n",
    "    inner_part = L_I(Ti) # Beginner for the for loop\n",
    "    for i in range(N):\n",
    "        if i == ( N - 1 - k ):\n",
    "            # The step at which $X_{k}(t)$ has to be inserted \n",
    "            inner_part = inner_part*x_k(omega_1, Lin )*L_v[k - 1]\n",
    "        else:\n",
    "            # Usual multiplications of $L_{k}$\n",
    "            inner_part = inner_part*L_v[N - 1 - i]\n",
    "    l_comma_k = inner_part\n",
    "    return l_comma_k\n",
    "    "
   ]
  },
  {
   "cell_type": "code",
   "execution_count": 138,
   "metadata": {
    "ExecuteTime": {
     "end_time": "2019-01-28T10:12:58.084764Z",
     "start_time": "2019-01-28T10:12:58.065468Z"
    }
   },
   "outputs": [
    {
     "data": {
      "text/latex": [
       "Quantum object: dims = [[2, 2], [2, 2]], shape = (4, 4), type = oper, isherm = False\\begin{equation*}\\left(\\begin{array}{*{11}c}1.000 & (-0.003-3.499\\times10^{-06}j) & (-0.003+3.499\\times10^{-06}j) & 8.999\\times10^{-06}\\\\(0.003+2.499\\times10^{-06}j) & (1.000+0.002j) & (-8.998\\times10^{-06}+2.999\\times10^{-09}j) & (-0.003-2.499\\times10^{-06}j)\\\\(0.003-2.499\\times10^{-06}j) & (-8.998\\times10^{-06}-2.999\\times10^{-09}j) & (1.000-0.002j) & (-0.003+2.499\\times10^{-06}j)\\\\8.999\\times10^{-06} & (0.003+3.499\\times10^{-06}j) & (0.003-3.499\\times10^{-06}j) & 1.000\\\\\\end{array}\\right)\\end{equation*}"
      ],
      "text/plain": [
       "Quantum object: dims = [[2, 2], [2, 2]], shape = (4, 4), type = oper, isherm = False\n",
       "Qobj data =\n",
       "[[ 9.99991001e-01+0.00000000e+00j -2.99927960e-03-3.49898670e-06j\n",
       "  -2.99927960e-03+3.49898670e-06j  8.99883703e-06+0.00000000e+00j]\n",
       " [ 2.99948056e-03+2.49939255e-06j  9.99589083e-01+1.99918650e-03j\n",
       "  -8.99750347e-06+2.99899242e-09j -2.99948056e-03-2.49939255e-06j]\n",
       " [ 2.99948056e-03-2.49939255e-06j -8.99750347e-06-2.99899242e-09j\n",
       "   9.99589083e-01-1.99918650e-03j -2.99948056e-03+2.49939255e-06j]\n",
       " [ 8.99883703e-06+0.00000000e+00j  2.99927960e-03+3.49898670e-06j\n",
       "   2.99927960e-03-3.49898670e-06j  9.99991001e-01+0.00000000e+00j]]"
      ]
     },
     "execution_count": 138,
     "metadata": {},
     "output_type": "execute_result"
    }
   ],
   "source": [
    "#L_comma_k_maker(Ti, omega_1, xi_vec, k, Lin, dt)\n",
    "L_comma_k_maker(sigmax(), 0.5 , xi_vec_test, 2, sigmaz(), 0.001)"
   ]
  },
  {
   "cell_type": "code",
   "execution_count": 139,
   "metadata": {
    "ExecuteTime": {
     "end_time": "2019-01-28T10:12:58.632173Z",
     "start_time": "2019-01-28T10:12:58.625872Z"
    }
   },
   "outputs": [],
   "source": [
    "def updater(Ti, omega_1, xi_vec, Lin, dt, epsilon):\n",
    "    r\"\"\"Implementing the GRAPE update step\"\"\"\n",
    "    xi_vec_size = xi_vec.size # finding the size of xi\n",
    "    T = T_maker(Ti) # Transforming $T_{i}$ to liouville space\n",
    "    L_full = L_full_maker(Ti, omega_1, xi_vec, Lin, dt)\n",
    "    di = []\n",
    "    for k in range(xi_vec_size):\n",
    "        # Building the thing to be added to the old function\n",
    "        L_comma_k = L_comma_k_maker(Ti, omega_1, xi_vec, k, Lin, dt)\n",
    "        differentiated = T - L_comma_k\n",
    "        plain = T - L_full\n",
    "        c = differentiated.dag()*plain\n",
    "        d = plain.dag()*differentiated\n",
    "        inside = c.tr() + d.tr()\n",
    "        di.append(epsilon*inside)\n",
    "\n",
    "    diff = array(di)\n",
    "    xi_new_vec = xi_vec + diff\n",
    "    return diff, xi_new_vec\n",
    "    "
   ]
  },
  {
   "cell_type": "code",
   "execution_count": 140,
   "metadata": {
    "ExecuteTime": {
     "end_time": "2019-01-28T10:12:59.102158Z",
     "start_time": "2019-01-28T10:12:59.064652Z"
    }
   },
   "outputs": [
    {
     "data": {
      "text/plain": [
       "(array([0.008+0.j, 0.008+0.j]), array([1.008+0.j, 2.008+0.j]))"
      ]
     },
     "execution_count": 140,
     "metadata": {},
     "output_type": "execute_result"
    }
   ],
   "source": [
    "#  updater(Ti, omega_1, xi_vec, Lin, dt, epsilon)\n",
    "updater(sigmax(), 0.5 , xi_vec_test, sigmaz(), 0.001, 0.001)"
   ]
  },
  {
   "cell_type": "code",
   "execution_count": 154,
   "metadata": {
    "ExecuteTime": {
     "end_time": "2019-01-28T10:14:57.437737Z",
     "start_time": "2019-01-28T10:14:57.433178Z"
    },
    "code_folding": []
   },
   "outputs": [],
   "source": [
    "def terminator(max_iter, time_steps, Ti, omega_1, Lin, total_time, epsilon):\n",
    "    r\"\"\"Brief description of the function\"\"\"\n",
    "    \n",
    "    xi_initial =  1000*random_sample((time_steps,))\n",
    "    dt = total_time/time_steps\n",
    "    xi_diff, xi_new_vec = updater(Ti, omega_1, xi_initial, Lin, dt, epsilon)\n",
    "    \n",
    "    for i in range(max_iter):\n",
    "        if amax(xi_diff) < epsilon**2 :\n",
    "            xi_final = xi_new_vec\n",
    "            break\n",
    "        else :\n",
    "            xi_diff, xi_new_vec = updater(Ti, omega_1, xi_new_vec, Lin, dt,\n",
    "                                         epsilon)\n",
    "            print(i)\n",
    "            print(amax(xi_diff))\n",
    "            \n",
    "        \n",
    "    xi_final = xi_new_vec    \n",
    "    return xi_final"
   ]
  },
  {
   "cell_type": "code",
   "execution_count": 155,
   "metadata": {
    "ExecuteTime": {
     "end_time": "2019-01-28T10:14:58.308373Z",
     "start_time": "2019-01-28T10:14:58.305142Z"
    }
   },
   "outputs": [],
   "source": [
    "omega_1 = 0.5\n",
    "total_time = pi/omega_1\n",
    "epsilon = 10**(-6)\n",
    "max_iter = 10#10**4#1000#100#50#20\n",
    "time_steps = 20\n",
    "dt = total_time/time_steps"
   ]
  },
  {
   "cell_type": "code",
   "execution_count": 156,
   "metadata": {
    "ExecuteTime": {
     "end_time": "2019-01-28T10:14:58.883610Z",
     "start_time": "2019-01-28T10:14:58.878162Z"
    }
   },
   "outputs": [],
   "source": [
    "Lin = sigmaz() # Lindbladian"
   ]
  },
  {
   "cell_type": "code",
   "execution_count": 157,
   "metadata": {
    "ExecuteTime": {
     "end_time": "2019-01-28T10:14:59.432871Z",
     "start_time": "2019-01-28T10:14:59.427259Z"
    }
   },
   "outputs": [],
   "source": [
    "Ti = sigmax() # Target unitary"
   ]
  },
  {
   "cell_type": "code",
   "execution_count": 158,
   "metadata": {
    "ExecuteTime": {
     "end_time": "2019-01-28T10:15:15.314485Z",
     "start_time": "2019-01-28T10:15:00.022435Z"
    }
   },
   "outputs": [
    {
     "name": "stdout",
     "output_type": "stream",
     "text": [
      "0\n",
      "(6.597640101141626e-06+0j)\n",
      "1\n",
      "(6.5976443872622655e-06+0j)\n",
      "2\n",
      "(6.597648673262016e-06+0j)\n",
      "3\n",
      "(6.597652959141264e-06+0j)\n",
      "4\n",
      "(6.597657244899092e-06+0j)\n",
      "5\n",
      "(6.5976615305363814e-06+0j)\n",
      "6\n",
      "(6.597665816052925e-06+0j)\n",
      "7\n",
      "(6.597670101448285e-06+0j)\n",
      "8\n",
      "(6.597674386722978e-06+0j)\n",
      "9\n",
      "(6.597678671876734e-06+0j)\n"
     ]
    },
    {
     "data": {
      "text/plain": [
       "array([845.34154272+0.j, 290.92479443+0.j, 625.39373513+0.j,\n",
       "       829.93128985+0.j, 493.44674024+0.j, 966.99141936+0.j,\n",
       "       470.96723415+0.j, 134.29739133+0.j, 167.00435215+0.j,\n",
       "       473.55493992+0.j, 117.47179203+0.j, 135.50860629+0.j,\n",
       "       567.36645444+0.j, 600.59334169+0.j, 182.61293865+0.j,\n",
       "         1.12364954+0.j, 298.80878373+0.j, 174.12552658+0.j,\n",
       "       709.66472588+0.j, 230.46504809+0.j])"
      ]
     },
     "execution_count": 158,
     "metadata": {},
     "output_type": "execute_result"
    }
   ],
   "source": [
    "# terminator(20, 20, Ti, omega_1, Lin, total_time)\n",
    "xi_opt = terminator(max_iter, time_steps, Ti, omega_1, Lin, total_time, epsilon)\n",
    "xi_opt"
   ]
  },
  {
   "cell_type": "code",
   "execution_count": 160,
   "metadata": {
    "ExecuteTime": {
     "end_time": "2019-01-28T10:16:00.791611Z",
     "start_time": "2019-01-28T10:16:00.709088Z"
    }
   },
   "outputs": [
    {
     "data": {
      "text/plain": [
       "-4.245367580814557"
      ]
     },
     "execution_count": 160,
     "metadata": {},
     "output_type": "execute_result"
    }
   ],
   "source": [
    "F(Ti, omega_1, xi_opt, Lin, dt)"
   ]
  },
  {
   "cell_type": "code",
   "execution_count": 161,
   "metadata": {
    "ExecuteTime": {
     "end_time": "2019-01-28T10:16:01.163787Z",
     "start_time": "2019-01-28T10:16:01.159434Z"
    }
   },
   "outputs": [
    {
     "data": {
      "text/plain": [
       "10"
      ]
     },
     "execution_count": 161,
     "metadata": {},
     "output_type": "execute_result"
    }
   ],
   "source": [
    "max_iter"
   ]
  },
  {
   "cell_type": "code",
   "execution_count": 162,
   "metadata": {
    "ExecuteTime": {
     "end_time": "2019-01-28T10:16:01.829693Z",
     "start_time": "2019-01-28T10:16:01.823261Z"
    }
   },
   "outputs": [
    {
     "data": {
      "text/latex": [
       "Quantum object: dims = [[2, 2], [2, 2]], shape = (4, 4), type = oper, isherm = True\\begin{equation*}\\left(\\begin{array}{*{11}c}0.0 & 0.0 & 0.0 & 1.0\\\\0.0 & 0.0 & 1.0 & 0.0\\\\0.0 & 1.0 & 0.0 & 0.0\\\\1.0 & 0.0 & 0.0 & 0.0\\\\\\end{array}\\right)\\end{equation*}"
      ],
      "text/plain": [
       "Quantum object: dims = [[2, 2], [2, 2]], shape = (4, 4), type = oper, isherm = True\n",
       "Qobj data =\n",
       "[[0. 0. 0. 1.]\n",
       " [0. 0. 1. 0.]\n",
       " [0. 1. 0. 0.]\n",
       " [1. 0. 0. 0.]]"
      ]
     },
     "execution_count": 162,
     "metadata": {},
     "output_type": "execute_result"
    }
   ],
   "source": [
    "T = T_maker(Ti)\n",
    "T"
   ]
  },
  {
   "cell_type": "code",
   "execution_count": 163,
   "metadata": {
    "ExecuteTime": {
     "end_time": "2019-01-28T10:16:03.092011Z",
     "start_time": "2019-01-28T10:16:02.964749Z"
    }
   },
   "outputs": [
    {
     "data": {
      "text/latex": [
       "Quantum object: dims = [[2, 2], [2, 2]], shape = (4, 4), type = oper, isherm = False\\begin{equation*}\\left(\\begin{array}{*{11}c}0.265 & (0.110-0.037j) & (0.110+0.037j) & 0.735\\\\(-0.086+0.066j) & (-0.113-0.011j) & (-0.384+0.054j) & (0.086-0.066j)\\\\(-0.086-0.066j) & (-0.384-0.054j) & (-0.113+0.011j) & (0.086+0.066j)\\\\0.735 & (-0.110+0.037j) & (-0.110-0.037j) & 0.265\\\\\\end{array}\\right)\\end{equation*}"
      ],
      "text/plain": [
       "Quantum object: dims = [[2, 2], [2, 2]], shape = (4, 4), type = oper, isherm = False\n",
       "Qobj data =\n",
       "[[ 0.26545079+0.j          0.10971269-0.03735783j  0.10971269+0.03735783j\n",
       "   0.73454921+0.j        ]\n",
       " [-0.0861207 +0.06649401j -0.11307207-0.01079214j -0.38396994+0.05421764j\n",
       "   0.0861207 -0.06649401j]\n",
       " [-0.0861207 -0.06649401j -0.38396994-0.05421764j -0.11307207+0.01079214j\n",
       "   0.0861207 +0.06649401j]\n",
       " [ 0.73454921+0.j         -0.10971269+0.03735783j -0.10971269-0.03735783j\n",
       "   0.26545079+0.j        ]]"
      ]
     },
     "execution_count": 163,
     "metadata": {},
     "output_type": "execute_result"
    }
   ],
   "source": [
    "L_full_maker(Ti, omega_1, xi_opt, Lin, dt)"
   ]
  },
  {
   "cell_type": "code",
   "execution_count": 164,
   "metadata": {
    "ExecuteTime": {
     "end_time": "2019-01-28T10:16:04.845920Z",
     "start_time": "2019-01-28T10:16:04.029883Z"
    }
   },
   "outputs": [
    {
     "data": {
      "text/plain": [
       "(<Figure size 576x432 with 2 Axes>,\n",
       " <matplotlib.axes._subplots.AxesSubplot at 0x11aa3fc18>)"
      ]
     },
     "execution_count": 164,
     "metadata": {},
     "output_type": "execute_result"
    },
    {
     "data": {
      "image/png": "[encoded data removed]",
      "text/plain": [
       "<Figure size 576x432 with 2 Axes>"
      ]
     },
     "metadata": {},
     "output_type": "display_data"
    }
   ],
   "source": [
    "hinton(L_full_maker(Ti, omega_1, xi_opt, Lin, dt))"
   ]
  },
  {
   "cell_type": "markdown",
   "metadata": {},
   "source": []
  },
  {
   "cell_type": "code",
   "execution_count": 58,
   "metadata": {
    "ExecuteTime": {
     "end_time": "2019-01-26T08:57:52.472749Z",
     "start_time": "2019-01-26T08:57:52.467815Z"
    }
   },
   "outputs": [
    {
     "data": {
      "text/plain": [
       "1.31350478e-05"
      ]
     },
     "execution_count": 58,
     "metadata": {},
     "output_type": "execute_result"
    }
   ],
   "source": [
    "1.31350478e-05 # 40"
   ]
  },
  {
   "cell_type": "code",
   "execution_count": 59,
   "metadata": {
    "ExecuteTime": {
     "end_time": "2019-01-26T08:57:52.481420Z",
     "start_time": "2019-01-26T08:57:52.475147Z"
    }
   },
   "outputs": [
    {
     "data": {
      "text/plain": [
       "1.31390107e-05"
      ]
     },
     "execution_count": 59,
     "metadata": {},
     "output_type": "execute_result"
    }
   ],
   "source": [
    "1.31390107e-05 # 50"
   ]
  },
  {
   "cell_type": "code",
   "execution_count": 14,
   "metadata": {
    "ExecuteTime": {
     "end_time": "2019-01-22T12:54:09.289486Z",
     "start_time": "2019-01-22T12:54:09.286073Z"
    }
   },
   "outputs": [],
   "source": [
    "α = 2"
   ]
  },
  {
   "cell_type": "code",
   "execution_count": 15,
   "metadata": {
    "ExecuteTime": {
     "end_time": "2019-01-22T12:54:09.304573Z",
     "start_time": "2019-01-22T12:54:09.292309Z"
    }
   },
   "outputs": [
    {
     "ename": "NameError",
     "evalue": "name 'random_sample' is not defined",
     "output_type": "error",
     "traceback": [
      "\u001b[0;31m---------------------------------------------------------------------------\u001b[0m",
      "\u001b[0;31mNameError\u001b[0m                                 Traceback (most recent call last)",
      "\u001b[0;32m<ipython-input-15-e03955631bdf>\u001b[0m in \u001b[0;36m<module>\u001b[0;34m()\u001b[0m\n\u001b[0;32m----> 1\u001b[0;31m \u001b[0mnew_array\u001b[0m \u001b[0;34m=\u001b[0m \u001b[0mrandom_sample\u001b[0m\u001b[0;34m(\u001b[0m\u001b[0;34m(\u001b[0m\u001b[0;36m4\u001b[0m\u001b[0;34m,\u001b[0m\u001b[0;36m3\u001b[0m\u001b[0;34m,\u001b[0m\u001b[0;34m)\u001b[0m\u001b[0;34m)\u001b[0m\u001b[0;34m\u001b[0m\u001b[0;34m\u001b[0m\u001b[0m\n\u001b[0m",
      "\u001b[0;31mNameError\u001b[0m: name 'random_sample' is not defined"
     ]
    }
   ],
   "source": [
    "new_array = random_sample((4,3,))"
   ]
  },
  {
   "cell_type": "code",
   "execution_count": null,
   "metadata": {
    "ExecuteTime": {
     "end_time": "2019-01-22T12:54:09.305812Z",
     "start_time": "2019-01-22T12:54:09.273Z"
    }
   },
   "outputs": [],
   "source": [
    "new_array"
   ]
  },
  {
   "cell_type": "code",
   "execution_count": null,
   "metadata": {
    "ExecuteTime": {
     "end_time": "2019-01-22T12:54:09.307248Z",
     "start_time": "2019-01-22T12:54:09.276Z"
    }
   },
   "outputs": [],
   "source": [
    "new_array.any()"
   ]
  },
  {
   "cell_type": "code",
   "execution_count": null,
   "metadata": {
    "ExecuteTime": {
     "end_time": "2019-01-22T12:54:09.313592Z",
     "start_time": "2019-01-22T12:54:09.279Z"
    }
   },
   "outputs": [],
   "source": [
    "new_array[0] = 0\n"
   ]
  },
  {
   "cell_type": "code",
   "execution_count": null,
   "metadata": {
    "ExecuteTime": {
     "end_time": "2019-01-22T12:54:09.322354Z",
     "start_time": "2019-01-22T12:54:09.284Z"
    }
   },
   "outputs": [],
   "source": [
    "new_array"
   ]
  },
  {
   "cell_type": "code",
   "execution_count": null,
   "metadata": {
    "ExecuteTime": {
     "end_time": "2019-01-22T12:54:09.323425Z",
     "start_time": "2019-01-22T12:54:09.287Z"
    }
   },
   "outputs": [],
   "source": [
    "new_array.any()"
   ]
  },
  {
   "cell_type": "code",
   "execution_count": null,
   "metadata": {
    "ExecuteTime": {
     "end_time": "2019-01-22T12:54:09.324600Z",
     "start_time": "2019-01-22T12:54:09.290Z"
    }
   },
   "outputs": [],
   "source": [
    "new_array.all()"
   ]
  },
  {
   "cell_type": "code",
   "execution_count": null,
   "metadata": {
    "ExecuteTime": {
     "end_time": "2019-01-22T12:54:09.329873Z",
     "start_time": "2019-01-22T12:54:09.292Z"
    }
   },
   "outputs": [],
   "source": [
    "max(new_array)"
   ]
  },
  {
   "cell_type": "code",
   "execution_count": null,
   "metadata": {
    "ExecuteTime": {
     "end_time": "2019-01-22T12:54:09.339003Z",
     "start_time": "2019-01-22T12:54:09.295Z"
    }
   },
   "outputs": [],
   "source": [
    "max(new_array, axis=0)"
   ]
  },
  {
   "cell_type": "code",
   "execution_count": null,
   "metadata": {
    "ExecuteTime": {
     "end_time": "2019-01-22T12:54:09.340362Z",
     "start_time": "2019-01-22T12:54:09.301Z"
    }
   },
   "outputs": [],
   "source": [
    "from numpy import amax "
   ]
  },
  {
   "cell_type": "code",
   "execution_count": null,
   "metadata": {
    "ExecuteTime": {
     "end_time": "2019-01-22T12:54:09.342531Z",
     "start_time": "2019-01-22T12:54:09.305Z"
    }
   },
   "outputs": [],
   "source": [
    "amax(new_array)"
   ]
  },
  {
   "cell_type": "code",
   "execution_count": null,
   "metadata": {},
   "outputs": [],
   "source": []
  }
 ],
 "metadata": {
  "kernelspec": {
   "display_name": "Python 3",
   "language": "python",
   "name": "python3"
  },
  "language_info": {
   "codemirror_mode": {
    "name": "ipython",
    "version": 3
   },
   "file_extension": ".py",
   "mimetype": "text/x-python",
   "name": "python",
   "nbconvert_exporter": "python",
   "pygments_lexer": "ipython3",
   "version": "3.6.8"
  },
  "toc": {
   "base_numbering": 1,
   "nav_menu": {},
   "number_sections": true,
   "sideBar": true,
   "skip_h1_title": false,
   "title_cell": "Table of Contents",
   "title_sidebar": "Contents",
   "toc_cell": false,
   "toc_position": {},
   "toc_section_display": true,
   "toc_window_display": false
  }
 },
 "nbformat": 4,
 "nbformat_minor": 2
}
