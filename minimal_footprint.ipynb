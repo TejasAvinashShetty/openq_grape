{
 "cells": [
  {
   "cell_type": "markdown",
   "metadata": {
    "heading_collapsed": true
   },
   "source": [
    "# Imports"
   ]
  },
  {
   "cell_type": "code",
   "execution_count": 86,
   "metadata": {
    "ExecuteTime": {
     "end_time": "2019-01-30T06:43:56.824315Z",
     "start_time": "2019-01-30T06:43:56.701542Z"
    },
    "hidden": true
   },
   "outputs": [],
   "source": [
    "\n",
    "# coding: utf-8\n",
    "\n",
    "# # Imports\n",
    "\n",
    "# ## Qutip imports 1\n",
    "\n",
    "# In[1]:\n",
    "\n",
    "\n",
    "from qutip.operators import sigmax, sigmay, sigmaz, identity\n",
    "# position, momentum, num, create, destroy, commutator, qeye \n",
    "from qutip.tensor import tensor\n",
    "from qutip.qip.gates import swap, rx, ry, rz\n",
    "from qutip.qobj import Qobj\n",
    "from qutip.visualization import hinton\n",
    "from qutip.visualization import matrix_histogram_complex, matrix_histogram\n",
    "from qutip.random_objects import rand_herm, rand_unitary, rand_dm\n",
    "\n",
    "\n",
    "# ## Qutip imports 2\n",
    "\n",
    "# In[2]:\n",
    "\n",
    "\n",
    "#from \n",
    "\n",
    "\n",
    "# ## Numpy imports \n",
    "\n",
    "# In[2]:\n",
    "\n",
    "\n",
    "from numpy import sin, cos, tan, real, imag,  log, conj\n",
    "from numpy import array, append, linspace, arange\n",
    "from numpy import add, sqrt, abs, dot\n",
    "from numpy.random import random, random_sample, rand, seed, RandomState\n",
    "from numpy import concatenate, trace, diag\n",
    "from numpy import ones, zeros, ones_like, zeros_like\n",
    "from numpy import amax, amin, nanmax, nanmin\n",
    "from numpy import outer, multiply\n",
    "# from numpy import pi\n",
    "\n",
    "\n",
    "# ## Scipy imports\n",
    "\n",
    "# In[17]:\n",
    "\n",
    "\n",
    "from scipy.integrate import ode, odeint, complex_ode\n",
    "from scipy.optimize import minimize\n",
    "from scipy.linalg import eigh, inv, norm, expm\n",
    "# from scipy.linalg import \n",
    "# from scipy import\n",
    "\n",
    "\n",
    "# ## Matplotlib imports\n",
    "\n",
    "# In[18]:\n",
    "\n",
    "\n",
    "from matplotlib.pyplot import plot, figure, show, savefig, axes\n",
    "from matplotlib.pyplot import xlabel, ylabel, title, legend\n",
    "from matplotlib import rcParams\n",
    "from matplotlib.pyplot import style \n",
    "from matplotlib.pyplot import xlim, ylim, axis \n",
    "# beware not same as axes\n",
    "from matplotlib.pyplot import subplot, subplots, text\n",
    "from matplotlib.pyplot import GridSpec\n",
    "from matplotlib.pyplot import scatter, colorbar\n",
    "\n",
    "\n",
    "pgf_with_rc_fonts = {\"pgf.texsystem\": \"pdflatex\"}\n",
    "rcParams.update(pgf_with_rc_fonts)\n",
    "style.use('seaborn-whitegrid')\n",
    "\n",
    "\n",
    "# ## Math imports\n",
    "\n",
    "# In[19]:\n",
    "\n",
    "\n",
    "from math import pi\n",
    "from math import exp\n",
    "\n",
    "\n",
    "# ## Cmath imports\n",
    "\n",
    "# ## Date and datetime imports\n",
    "\n",
    "# In[20]:\n",
    "\n",
    "\n",
    "from datetime import date\n",
    "from datetime import datetime# now\n",
    "\n",
    "\n",
    "# ## Os imports\n",
    "\n",
    "# In[21]:\n",
    "\n",
    "\n",
    "from os import getcwd, mkdir, chdir\n",
    "from os.path import abspath, join \n",
    "\n",
    "\n",
    "# ## Sympy imports\n",
    "\n",
    "# In[22]:\n",
    "\n",
    "\n",
    "from sympy import Function, dsolve, Eq, Derivative, symbols\n",
    "# x, y, z, t = symbols('x y z t')\n",
    "# k, m, n = symbols('k m n', integer=True)\n",
    "# f, g, h = symbols('f g h', cls=Function)\n",
    "\n",
    "\n",
    "# ## Miscellaneous imports\n",
    "\n",
    "# ## Extra useful functions\n",
    "\n",
    "# In[23]:\n",
    "\n",
    "\n",
    "def rint(x):\n",
    "    print(\"x = \", x)\n",
    "    return None\n",
    "\n",
    "\n",
    "# # Next chapter\n",
    "\n",
    "# ## sub topic 1\n",
    "\n",
    "# ## sub topic 2\n",
    "\n",
    "# ## sub topic 3\n",
    "\n",
    "# ### sub sub topic 1\n",
    "\n"
   ]
  },
  {
   "cell_type": "markdown",
   "metadata": {},
   "source": [
    "# The code"
   ]
  },
  {
   "cell_type": "markdown",
   "metadata": {
    "heading_collapsed": true
   },
   "source": [
    "## memory wiping"
   ]
  },
  {
   "cell_type": "code",
   "execution_count": 87,
   "metadata": {
    "ExecuteTime": {
     "end_time": "2019-01-30T06:43:59.874711Z",
     "start_time": "2019-01-30T06:43:59.847737Z"
    },
    "hidden": true
   },
   "outputs": [],
   "source": [
    "%reset_selective -f  omega_1, total_time, epsilon, max_iter, time_steps, dt"
   ]
  },
  {
   "cell_type": "code",
   "execution_count": 88,
   "metadata": {
    "ExecuteTime": {
     "end_time": "2019-01-30T06:44:00.827417Z",
     "start_time": "2019-01-30T06:44:00.822177Z"
    },
    "hidden": true
   },
   "outputs": [],
   "source": [
    "%reset_selective -f  Lin, T_s, I"
   ]
  },
  {
   "cell_type": "markdown",
   "metadata": {
    "heading_collapsed": true
   },
   "source": [
    "## Building parts"
   ]
  },
  {
   "cell_type": "markdown",
   "metadata": {
    "heading_collapsed": true,
    "hidden": true
   },
   "source": [
    "### Building the things to be calculated only once"
   ]
  },
  {
   "cell_type": "code",
   "execution_count": 89,
   "metadata": {
    "ExecuteTime": {
     "end_time": "2019-01-30T06:44:02.860793Z",
     "start_time": "2019-01-30T06:44:02.849798Z"
    },
    "code_folding": [],
    "hidden": true
   },
   "outputs": [],
   "source": [
    "def maker(omega_1, H_0, H_1, T_s, Lin, d=2, gamma=0.1):\n",
    "    r\"\"\"maker\n",
    "    Makes all the things that remain constant throught the program, but are \n",
    "    repeatedly used.\n",
    "    \n",
    "\n",
    "    Parameters\n",
    "    ----------\n",
    "    omega_1 : float\n",
    "              frequency corresponding to half of the difference between \n",
    "              energy levels of the qubit\n",
    "              \n",
    "    H_0     : Qobj\n",
    "              Bare Hamiltonian \n",
    "              \n",
    "    H_1     : Qobj\n",
    "              Interaction Hamiltonian \n",
    "              \n",
    "    T_s     : Qobj\n",
    "              Unitary to be implemented in the Hilbert space\n",
    "    \n",
    "    Lin     : Qobj\n",
    "              Linbladian operators\n",
    "\n",
    "    d       : int\n",
    "              Dimension of the matrix. Defaults to 2\n",
    "    \n",
    "    gamma   : float\n",
    "              Damping constantof the Linbladian\n",
    "\n",
    "    \n",
    "    Returns\n",
    "    -------\n",
    "    \n",
    "    ih0     : Qobj\n",
    "              $I\\otimes H_{0}$\n",
    "              \n",
    "    ih1     : Qobj\n",
    "              $I\\otimes H_{1}$\n",
    "\n",
    "    h0ci    : Qobj\n",
    "              $H_{0}^{*}\\otimes I $\n",
    "\n",
    "    h1ci    : Qobj\n",
    "              $H_{1}^{*}\\otimes I $\n",
    "\n",
    "    T       : Qobj\n",
    "              Target unitary transformed to the Liouville space\n",
    "\n",
    "    linbladian : Qobj\n",
    "                 The full lindbladian term as it appears on transformation to \n",
    "                 the Liouville space.\n",
    "        \n",
    "    \"\"\"\n",
    "    I = identity(d)\n",
    "    L_I = tensor(I, I)\n",
    "    ih0 = tensor(I, H_0) \n",
    "    ih1 = tensor(I, H_1) \n",
    "    h0ci = tensor(H_0.conj(), I) \n",
    "    h1ci = tensor(H_1.conj(), I)\n",
    "    x_k = ih1 - h1ci\n",
    "    term1 = tensor(Lin.trans(), Lin)\n",
    "    term2 = tensor(I, ((Lin.dag())*(Lin)))\n",
    "    term3 = tensor(((Lin.trans())*(Lin.conj())), I)\n",
    "    lindbladian = 1j*(gamma)*(term1 - 0.5*(term2 + term3))\n",
    "    T = tensor(T_s.trans(), T_s) # Transforming $T_{s}$ to liouville space\n",
    "    \n",
    "    \n",
    "    return ih0, ih1, h0ci, h1ci, x_k, lindbladian, T, L_I"
   ]
  },
  {
   "cell_type": "code",
   "execution_count": 90,
   "metadata": {
    "ExecuteTime": {
     "end_time": "2019-01-30T06:44:07.806998Z",
     "start_time": "2019-01-30T06:44:07.759475Z"
    },
    "hidden": true
   },
   "outputs": [],
   "source": [
    "omega_1 = 0.5\n",
    "H_0 = sigmaz() \n",
    "H_1 = sigmay()\n",
    "T_s = sigmax() \n",
    "Lin = sigmaz()\n",
    "ih0, ih1, h0ci, h1ci, x_k, lindbladian, T, L_I  = maker(omega_1,\n",
    "                                                  H_0, H_1, T_s, \n",
    "                                                  Lin, d=2, gamma=0.1)"
   ]
  },
  {
   "cell_type": "code",
   "execution_count": 91,
   "metadata": {
    "ExecuteTime": {
     "end_time": "2019-01-30T06:44:10.856958Z",
     "start_time": "2019-01-30T06:44:10.842221Z"
    },
    "hidden": true
   },
   "outputs": [
    {
     "data": {
      "text/latex": [
       "Quantum object: dims = [[2, 2], [2, 2]], shape = (4, 4), type = oper, isherm = True\\begin{equation*}\\left(\\begin{array}{*{11}c}1.0 & 0.0 & 0.0 & 0.0\\\\0.0 & 1.0 & 0.0 & 0.0\\\\0.0 & 0.0 & 1.0 & 0.0\\\\0.0 & 0.0 & 0.0 & 1.0\\\\\\end{array}\\right)\\end{equation*}"
      ],
      "text/plain": [
       "Quantum object: dims = [[2, 2], [2, 2]], shape = (4, 4), type = oper, isherm = True\n",
       "Qobj data =\n",
       "[[1. 0. 0. 0.]\n",
       " [0. 1. 0. 0.]\n",
       " [0. 0. 1. 0.]\n",
       " [0. 0. 0. 1.]]"
      ]
     },
     "execution_count": 91,
     "metadata": {},
     "output_type": "execute_result"
    }
   ],
   "source": [
    "L_I"
   ]
  },
  {
   "cell_type": "markdown",
   "metadata": {
    "heading_collapsed": true,
    "hidden": true
   },
   "source": [
    "### Building $A(t)$"
   ]
  },
  {
   "cell_type": "code",
   "execution_count": 92,
   "metadata": {
    "ExecuteTime": {
     "end_time": "2019-01-30T06:44:13.524735Z",
     "start_time": "2019-01-30T06:44:13.521320Z"
    },
    "hidden": true
   },
   "outputs": [],
   "source": [
    "def A(xi):\n",
    "    r\"\"\"making $A(t)$\"\"\"\n",
    "    A = ih0 - h0ci + xi*(ih1 - h1ci) + lindbladian\n",
    "    return A"
   ]
  },
  {
   "cell_type": "code",
   "execution_count": 93,
   "metadata": {
    "ExecuteTime": {
     "end_time": "2019-01-30T06:44:16.680721Z",
     "start_time": "2019-01-30T06:44:16.671284Z"
    },
    "hidden": true
   },
   "outputs": [
    {
     "data": {
      "text/latex": [
       "Quantum object: dims = [[2, 2], [2, 2]], shape = (4, 4), type = oper, isherm = False\\begin{equation*}\\left(\\begin{array}{*{11}c}0.0 & -0.500j & -0.500j & 0.0\\\\0.500j & (-2.0-0.200j) & 0.0 & -0.500j\\\\0.500j & 0.0 & (2.0-0.200j) & -0.500j\\\\0.0 & 0.500j & 0.500j & 0.0\\\\\\end{array}\\right)\\end{equation*}"
      ],
      "text/plain": [
       "Quantum object: dims = [[2, 2], [2, 2]], shape = (4, 4), type = oper, isherm = False\n",
       "Qobj data =\n",
       "[[ 0.+0.j   0.-0.5j  0.-0.5j  0.+0.j ]\n",
       " [ 0.+0.5j -2.-0.2j  0.+0.j   0.-0.5j]\n",
       " [ 0.+0.5j  0.+0.j   2.-0.2j  0.-0.5j]\n",
       " [ 0.+0.j   0.+0.5j  0.+0.5j  0.+0.j ]]"
      ]
     },
     "execution_count": 93,
     "metadata": {},
     "output_type": "execute_result"
    }
   ],
   "source": [
    "A(0.5)"
   ]
  },
  {
   "cell_type": "markdown",
   "metadata": {
    "heading_collapsed": true,
    "hidden": true
   },
   "source": [
    "### Building $L(t)$ and the Identity in the Liouville space"
   ]
  },
  {
   "cell_type": "code",
   "execution_count": 94,
   "metadata": {
    "ExecuteTime": {
     "end_time": "2019-01-30T06:44:19.109561Z",
     "start_time": "2019-01-30T06:44:19.104632Z"
    },
    "hidden": true
   },
   "outputs": [],
   "source": [
    "def L(xi, dt):\n",
    "    r\"\"\"Making $L(t) from $A(t)$\"\"\"\n",
    "    L = (-1j*A(xi)*dt).expm()\n",
    "    return L"
   ]
  },
  {
   "cell_type": "code",
   "execution_count": 95,
   "metadata": {
    "ExecuteTime": {
     "end_time": "2019-01-30T06:44:20.200883Z",
     "start_time": "2019-01-30T06:44:20.153351Z"
    },
    "hidden": true
   },
   "outputs": [
    {
     "data": {
      "text/latex": [
       "Quantum object: dims = [[2, 2], [2, 2]], shape = (4, 4), type = oper, isherm = False\\begin{equation*}\\left(\\begin{array}{*{11}c}1.000 & (-4.999\\times10^{-04}-4.999\\times10^{-07}j) & (-4.999\\times10^{-04}+4.999\\times10^{-07}j) & 2.500\\times10^{-07}\\\\(4.999\\times10^{-04}+4.999\\times10^{-07}j) & (1.000+0.002j) & -2.500\\times10^{-07} & (-4.999\\times10^{-04}-4.999\\times10^{-07}j)\\\\(4.999\\times10^{-04}-4.999\\times10^{-07}j) & -2.500\\times10^{-07} & (1.000-0.002j) & (-4.999\\times10^{-04}+4.999\\times10^{-07}j)\\\\2.500\\times10^{-07} & (4.999\\times10^{-04}+4.999\\times10^{-07}j) & (4.999\\times10^{-04}-4.999\\times10^{-07}j) & 1.000\\\\\\end{array}\\right)\\end{equation*}"
      ],
      "text/plain": [
       "Quantum object: dims = [[2, 2], [2, 2]], shape = (4, 4), type = oper, isherm = False\n",
       "Qobj data =\n",
       "[[ 9.99999750e-01+0.00000000e+00j -4.99949587e-04-4.99933130e-07j\n",
       "  -4.99949587e-04+4.99933130e-07j  2.49983230e-07+0.00000000e+00j]\n",
       " [ 4.99949587e-04+4.99933130e-07j  9.99797770e-01+1.99959837e-03j\n",
       "  -2.49966565e-07+0.00000000e+00j -4.99949587e-04-4.99933130e-07j]\n",
       " [ 4.99949587e-04-4.99933130e-07j -2.49966565e-07+0.00000000e+00j\n",
       "   9.99797770e-01-1.99959837e-03j -4.99949587e-04+4.99933130e-07j]\n",
       " [ 2.49983230e-07+0.00000000e+00j  4.99949587e-04+4.99933130e-07j\n",
       "   4.99949587e-04-4.99933130e-07j  9.99999750e-01+0.00000000e+00j]]"
      ]
     },
     "execution_count": 95,
     "metadata": {},
     "output_type": "execute_result"
    }
   ],
   "source": [
    "L(0.5, 0.001)"
   ]
  },
  {
   "cell_type": "markdown",
   "metadata": {},
   "source": [
    "## Major functions"
   ]
  },
  {
   "cell_type": "markdown",
   "metadata": {
    "heading_collapsed": true
   },
   "source": [
    "### Major functions 1"
   ]
  },
  {
   "cell_type": "code",
   "execution_count": 96,
   "metadata": {
    "ExecuteTime": {
     "end_time": "2019-01-30T06:44:33.061003Z",
     "start_time": "2019-01-30T06:44:33.055985Z"
    },
    "hidden": true
   },
   "outputs": [],
   "source": [
    "# building the function to optimize (optimizee)\n",
    "def L_vec(xi_vec, dt):\n",
    "    r\"\"\"Building the vector of differential $L(t)$\"\"\"\n",
    "    L_vec = [L(xi, dt) for xi in xi_vec] \n",
    "    return L_vec"
   ]
  },
  {
   "cell_type": "code",
   "execution_count": 97,
   "metadata": {
    "ExecuteTime": {
     "end_time": "2019-01-30T06:44:33.660143Z",
     "start_time": "2019-01-30T06:44:33.655864Z"
    },
    "hidden": true
   },
   "outputs": [],
   "source": [
    "def fidelity_calc(A, B):\n",
    "    r\"\"\"Making a generalised fidelity function\"\"\"\n",
    "    first_part = (A - B).dag()\n",
    "    second_part = (A - B)\n",
    "    f_int = (first_part* second_part)\n",
    "    f = f_int.tr()\n",
    "    return f"
   ]
  },
  {
   "cell_type": "code",
   "execution_count": 98,
   "metadata": {
    "ExecuteTime": {
     "end_time": "2019-01-30T06:44:41.512966Z",
     "start_time": "2019-01-30T06:44:41.508691Z"
    },
    "hidden": true
   },
   "outputs": [],
   "source": [
    "def L_full_maker(xi_vec, dt):\n",
    "    r\"\"\"Building the $L(t)$ for the total time $t$\"\"\"\n",
    "    xi_vec_size = xi_vec.size # finding the size of xi\n",
    "    L_full = L_I # Identity for the for loop of L\n",
    "    L_v = L_vec(xi_vec, dt) # calling L_vec\n",
    "    for i in range(xi_vec_size): # generating L_full\n",
    "        L_full = L_full*L_v[xi_vec_size - 1 - i]\n",
    "    return L_full"
   ]
  },
  {
   "cell_type": "code",
   "execution_count": 99,
   "metadata": {
    "ExecuteTime": {
     "end_time": "2019-01-30T06:44:48.724036Z",
     "start_time": "2019-01-30T06:44:48.720218Z"
    },
    "hidden": true
   },
   "outputs": [],
   "source": [
    "def F(xi_vec, dt):\n",
    "    r\"\"\"Using the fidelity metric to find out the closeness between $T$\n",
    "    and $L(t)$\"\"\"\n",
    "    L_full = L_full_maker(xi_vec, dt)\n",
    "    F = real(-fidelity_calc(T, L_full))   \n",
    "    return F"
   ]
  },
  {
   "cell_type": "markdown",
   "metadata": {
    "heading_collapsed": true
   },
   "source": [
    "### Testing major functions 1"
   ]
  },
  {
   "cell_type": "code",
   "execution_count": 100,
   "metadata": {
    "ExecuteTime": {
     "end_time": "2019-01-30T06:44:53.976721Z",
     "start_time": "2019-01-30T06:44:53.967695Z"
    },
    "hidden": true
   },
   "outputs": [
    {
     "data": {
      "text/plain": [
       "4.0"
      ]
     },
     "execution_count": 100,
     "metadata": {},
     "output_type": "execute_result"
    }
   ],
   "source": [
    "fidelity_calc(sigmax(), sigmay())"
   ]
  },
  {
   "cell_type": "code",
   "execution_count": 101,
   "metadata": {
    "ExecuteTime": {
     "end_time": "2019-01-30T06:44:54.582939Z",
     "start_time": "2019-01-30T06:44:54.574272Z"
    },
    "hidden": true
   },
   "outputs": [
    {
     "data": {
      "text/plain": [
       "0.0"
      ]
     },
     "execution_count": 101,
     "metadata": {},
     "output_type": "execute_result"
    }
   ],
   "source": [
    "fidelity_calc(sigmay(), sigmay())"
   ]
  },
  {
   "cell_type": "code",
   "execution_count": 102,
   "metadata": {
    "ExecuteTime": {
     "end_time": "2019-01-30T06:44:55.028838Z",
     "start_time": "2019-01-30T06:44:55.022530Z"
    },
    "hidden": true
   },
   "outputs": [
    {
     "data": {
      "text/plain": [
       "array([1., 2.])"
      ]
     },
     "execution_count": 102,
     "metadata": {},
     "output_type": "execute_result"
    }
   ],
   "source": [
    "xi_vec_test = array([1.0, 2.0])\n",
    "xi_vec_test"
   ]
  },
  {
   "cell_type": "code",
   "execution_count": 103,
   "metadata": {
    "ExecuteTime": {
     "end_time": "2019-01-30T06:44:55.457181Z",
     "start_time": "2019-01-30T06:44:55.452747Z"
    },
    "hidden": true
   },
   "outputs": [
    {
     "data": {
      "text/plain": [
       "2"
      ]
     },
     "execution_count": 103,
     "metadata": {},
     "output_type": "execute_result"
    }
   ],
   "source": [
    "xi_vec_test.size"
   ]
  },
  {
   "cell_type": "code",
   "execution_count": 104,
   "metadata": {
    "ExecuteTime": {
     "end_time": "2019-01-30T06:44:55.904401Z",
     "start_time": "2019-01-30T06:44:55.894555Z"
    },
    "hidden": true
   },
   "outputs": [
    {
     "data": {
      "text/plain": [
       "[1.0, 4.0]"
      ]
     },
     "execution_count": 104,
     "metadata": {},
     "output_type": "execute_result"
    }
   ],
   "source": [
    "w_vec = [xi**2 for xi in xi_vec_test]\n",
    "w_vec"
   ]
  },
  {
   "cell_type": "code",
   "execution_count": 105,
   "metadata": {
    "ExecuteTime": {
     "end_time": "2019-01-30T06:44:56.348464Z",
     "start_time": "2019-01-30T06:44:56.333447Z"
    },
    "hidden": true
   },
   "outputs": [
    {
     "data": {
      "text/plain": [
       "-7.998400634487144"
      ]
     },
     "execution_count": 105,
     "metadata": {},
     "output_type": "execute_result"
    }
   ],
   "source": [
    "# F(xi_vec, dt)\n",
    "F(xi_vec_test, 0.001)"
   ]
  },
  {
   "cell_type": "code",
   "execution_count": 106,
   "metadata": {
    "ExecuteTime": {
     "end_time": "2019-01-30T06:44:56.706538Z",
     "start_time": "2019-01-30T06:44:56.693967Z"
    },
    "hidden": true
   },
   "outputs": [],
   "source": [
    "L_v = L_vec(xi_vec_test, 0.001)"
   ]
  },
  {
   "cell_type": "code",
   "execution_count": 107,
   "metadata": {
    "ExecuteTime": {
     "end_time": "2019-01-30T06:45:00.204629Z",
     "start_time": "2019-01-30T06:45:00.198190Z"
    },
    "hidden": true
   },
   "outputs": [
    {
     "data": {
      "text/plain": [
       "[Quantum object: dims = [[2, 2], [2, 2]], shape = (4, 4), type = oper, isherm = False\n",
       " Qobj data =\n",
       " [[ 9.99999000e-01+0.00000000e+00j -9.99898674e-04-9.99866010e-07j\n",
       "   -9.99898674e-04+9.99866010e-07j  9.99932670e-07+0.00000000e+00j]\n",
       "  [ 9.99898674e-04+9.99866010e-07j  9.99797021e-01+1.99959737e-03j\n",
       "   -9.99866010e-07+0.00000000e+00j -9.99898674e-04-9.99866010e-07j]\n",
       "  [ 9.99898674e-04-9.99866010e-07j -9.99866010e-07+0.00000000e+00j\n",
       "    9.99797021e-01-1.99959737e-03j -9.99898674e-04+9.99866010e-07j]\n",
       "  [ 9.99932670e-07+0.00000000e+00j  9.99898674e-04+9.99866010e-07j\n",
       "    9.99898674e-04-9.99866010e-07j  9.99999000e-01+0.00000000e+00j]],\n",
       " Quantum object: dims = [[2, 2], [2, 2]], shape = (4, 4), type = oper, isherm = False\n",
       " Qobj data =\n",
       " [[ 9.99996000e-01+0.00000000e+00j -1.99979335e-03-1.99973002e-06j\n",
       "   -1.99979335e-03+1.99973002e-06j  3.99972668e-06+0.00000000e+00j]\n",
       "  [ 1.99979335e-03+1.99973002e-06j  9.99794021e-01+1.99959337e-03j\n",
       "   -3.99946004e-06+0.00000000e+00j -1.99979335e-03-1.99973002e-06j]\n",
       "  [ 1.99979335e-03-1.99973002e-06j -3.99946004e-06+0.00000000e+00j\n",
       "    9.99794021e-01-1.99959337e-03j -1.99979335e-03+1.99973002e-06j]\n",
       "  [ 3.99972668e-06+0.00000000e+00j  1.99979335e-03+1.99973002e-06j\n",
       "    1.99979335e-03-1.99973002e-06j  9.99996000e-01+0.00000000e+00j]]]"
      ]
     },
     "execution_count": 107,
     "metadata": {},
     "output_type": "execute_result"
    }
   ],
   "source": [
    "L_v"
   ]
  },
  {
   "cell_type": "markdown",
   "metadata": {},
   "source": [
    "### Major Functions 2"
   ]
  },
  {
   "cell_type": "code",
   "execution_count": 108,
   "metadata": {
    "ExecuteTime": {
     "end_time": "2019-01-30T06:45:02.572688Z",
     "start_time": "2019-01-30T06:45:02.566795Z"
    }
   },
   "outputs": [],
   "source": [
    "def L_comma_k_maker(xi_vec, k, dt):\n",
    "    r\"\"\"Making of the derivative of full $L(t)$ at time $t_{k}$\"\"\"\n",
    "    N = xi_vec.size \n",
    "    # Determining the size of xi, and thus the time_steps indirectly.\n",
    "    L_v = L_vec(xi_vec, dt)# Making of the full $L(t)$\n",
    "    inner_part = L_I # Beginner for the for loop\n",
    "    for i in range(N):\n",
    "        if i == ( N - 1 - k ):\n",
    "            # The step at which $X_{k}(t)$ has to be inserted \n",
    "            inner_part = inner_part*x_k*L_v[k - 1]\n",
    "        else:\n",
    "            # Usual multiplications of $L_{k}$\n",
    "            inner_part = inner_part*L_v[N - 1 - i]\n",
    "    l_comma_k = inner_part\n",
    "    return l_comma_k\n",
    "    "
   ]
  },
  {
   "cell_type": "code",
   "execution_count": 109,
   "metadata": {
    "ExecuteTime": {
     "end_time": "2019-01-30T06:45:04.056843Z",
     "start_time": "2019-01-30T06:45:04.044291Z"
    }
   },
   "outputs": [
    {
     "data": {
      "text/latex": [
       "Quantum object: dims = [[2, 2], [2, 2]], shape = (4, 4), type = oper, isherm = False\\begin{equation*}\\left(\\begin{array}{*{11}c}1.000 & (-0.003-6.998\\times10^{-06}j) & (-0.003+6.998\\times10^{-06}j) & 8.999\\times10^{-06}\\\\(0.003+4.999\\times10^{-06}j) & (1.000+0.004j) & (-8.997\\times10^{-06}+5.998\\times10^{-09}j) & (-0.003-4.999\\times10^{-06}j)\\\\(0.003-4.999\\times10^{-06}j) & (-8.997\\times10^{-06}-5.998\\times10^{-09}j) & (1.000-0.004j) & (-0.003+4.999\\times10^{-06}j)\\\\8.999\\times10^{-06} & (0.003+6.998\\times10^{-06}j) & (0.003-6.998\\times10^{-06}j) & 1.000\\\\\\end{array}\\right)\\end{equation*}"
      ],
      "text/plain": [
       "Quantum object: dims = [[2, 2], [2, 2]], shape = (4, 4), type = oper, isherm = False\n",
       "Qobj data =\n",
       "[[ 9.99991001e-01+0.00000000e+00j -2.99927211e-03-6.99796565e-06j\n",
       "  -2.99927211e-03+6.99796565e-06j  8.99882878e-06+0.00000000e+00j]\n",
       " [ 2.99947607e-03+4.99878084e-06j  9.99583086e-01+3.99836500e-03j\n",
       "  -8.99749372e-06+5.99798035e-09j -2.99947607e-03-4.99878084e-06j]\n",
       " [ 2.99947607e-03-4.99878084e-06j -8.99749372e-06-5.99798035e-09j\n",
       "   9.99583086e-01-3.99836500e-03j -2.99947607e-03+4.99878084e-06j]\n",
       " [ 8.99882878e-06+0.00000000e+00j  2.99927211e-03+6.99796565e-06j\n",
       "   2.99927211e-03-6.99796565e-06j  9.99991001e-01+0.00000000e+00j]]"
      ]
     },
     "execution_count": 109,
     "metadata": {},
     "output_type": "execute_result"
    }
   ],
   "source": [
    "# L_comma_k_maker(xi_vec, k, dt)\n",
    "L_comma_k_maker(xi_vec_test, 2, 0.001)"
   ]
  },
  {
   "cell_type": "code",
   "execution_count": 110,
   "metadata": {
    "ExecuteTime": {
     "end_time": "2019-01-30T06:45:04.976307Z",
     "start_time": "2019-01-30T06:45:04.971190Z"
    }
   },
   "outputs": [],
   "source": [
    "def updater(xi_vec, dt, epsilon):\n",
    "    r\"\"\"Implementing the GRAPE update step\"\"\"\n",
    "    xi_vec_size = xi_vec.size # finding the size of xi\n",
    "    L_full = L_full_maker(xi_vec, dt)\n",
    "    di = []\n",
    "    for k in range(xi_vec_size):\n",
    "        # Building the thing to be added to the old function\n",
    "        L_comma_k = L_comma_k_maker(xi_vec, k, dt)\n",
    "        differentiated = T - L_comma_k\n",
    "        plain = T - L_full\n",
    "        c = -differentiated.dag()*plain\n",
    "        d = -plain.dag()*differentiated\n",
    "        inside = c.tr() + d.tr()\n",
    "        di.append(epsilon*inside)\n",
    "\n",
    "    diff = array(di)\n",
    "    xi_new_vec = xi_vec + diff\n",
    "    return diff, xi_new_vec\n",
    "    "
   ]
  },
  {
   "cell_type": "code",
   "execution_count": 111,
   "metadata": {
    "ExecuteTime": {
     "end_time": "2019-01-30T06:45:07.427392Z",
     "start_time": "2019-01-30T06:45:07.403218Z"
    }
   },
   "outputs": [
    {
     "data": {
      "text/plain": [
       "(array([-0.008+0.j, -0.008+0.j]), array([0.992+0.j, 1.992+0.j]))"
      ]
     },
     "execution_count": 111,
     "metadata": {},
     "output_type": "execute_result"
    }
   ],
   "source": [
    "#  updater(xi_vec, dt, epsilon)\n",
    "updater(xi_vec_test, 0.001, 0.001)"
   ]
  },
  {
   "cell_type": "code",
   "execution_count": 113,
   "metadata": {
    "ExecuteTime": {
     "end_time": "2019-01-30T06:45:36.745631Z",
     "start_time": "2019-01-30T06:45:36.732140Z"
    },
    "code_folding": []
   },
   "outputs": [],
   "source": [
    "def terminator(max_iter, time_steps, total_time, epsilon):\n",
    "    r\"\"\"Brief description of the function\"\"\"\n",
    "    \n",
    "    xi_initial =  1000*random_sample((time_steps,))\n",
    "    dt = total_time/time_steps\n",
    "    xi_diff, xi_new_vec = updater(xi_initial, dt, epsilon)\n",
    "    \n",
    "    for i in range(max_iter):\n",
    "        if amax(xi_diff) < epsilon**2 :\n",
    "            xi_final = xi_new_vec\n",
    "            break\n",
    "        else :\n",
    "            xi_diff, xi_new_vec = updater(xi_new_vec, dt, epsilon)\n",
    "            print(i)\n",
    "            print(amax(xi_diff))\n",
    "            \n",
    "        \n",
    "    xi_final = xi_new_vec    \n",
    "    return xi_final"
   ]
  },
  {
   "cell_type": "markdown",
   "metadata": {},
   "source": [
    "# Running stuff"
   ]
  },
  {
   "cell_type": "markdown",
   "metadata": {},
   "source": [
    "### Try1"
   ]
  },
  {
   "cell_type": "code",
   "execution_count": 114,
   "metadata": {
    "ExecuteTime": {
     "end_time": "2019-01-30T06:45:43.171838Z",
     "start_time": "2019-01-30T06:45:43.167976Z"
    }
   },
   "outputs": [],
   "source": [
    "total_time = pi/omega_1\n",
    "epsilon = 10**(-6)\n",
    "max_iter = 10#10**4#1000#100#50#20\n",
    "time_steps = 20\n",
    "dt = total_time/time_steps"
   ]
  },
  {
   "cell_type": "code",
   "execution_count": 115,
   "metadata": {
    "ExecuteTime": {
     "end_time": "2019-01-30T06:45:44.896037Z",
     "start_time": "2019-01-30T06:45:43.880469Z"
    }
   },
   "outputs": [
    {
     "data": {
      "text/plain": [
       "array([253.12809151+0.j, 843.88141913+0.j, 670.69241692+0.j,\n",
       "       924.100077  +0.j, 342.69688787+0.j, 123.45758492+0.j,\n",
       "       879.26165155+0.j, 520.4459173 +0.j, 339.72130347+0.j,\n",
       "       984.45194508+0.j,  64.74984188+0.j,  81.10046078+0.j,\n",
       "         2.82873766+0.j, 265.22266621+0.j, 207.7809171 +0.j,\n",
       "       834.24591251+0.j, 964.13437576+0.j, 875.54876982+0.j,\n",
       "       129.61146026+0.j, 466.77550287+0.j])"
      ]
     },
     "execution_count": 115,
     "metadata": {},
     "output_type": "execute_result"
    }
   ],
   "source": [
    "xi_opt = terminator(max_iter, time_steps, total_time, epsilon)\n",
    "xi_opt"
   ]
  },
  {
   "cell_type": "code",
   "execution_count": 117,
   "metadata": {
    "ExecuteTime": {
     "end_time": "2019-01-30T06:46:10.139616Z",
     "start_time": "2019-01-30T06:46:10.095029Z"
    }
   },
   "outputs": [
    {
     "data": {
      "text/plain": [
       "-3.9789212334927573"
      ]
     },
     "execution_count": 117,
     "metadata": {},
     "output_type": "execute_result"
    }
   ],
   "source": [
    "F(xi_opt, dt)"
   ]
  },
  {
   "cell_type": "code",
   "execution_count": 118,
   "metadata": {
    "ExecuteTime": {
     "end_time": "2019-01-30T06:46:12.131167Z",
     "start_time": "2019-01-30T06:46:12.126804Z"
    }
   },
   "outputs": [
    {
     "data": {
      "text/plain": [
       "10"
      ]
     },
     "execution_count": 118,
     "metadata": {},
     "output_type": "execute_result"
    }
   ],
   "source": [
    "max_iter"
   ]
  },
  {
   "cell_type": "code",
   "execution_count": 120,
   "metadata": {
    "ExecuteTime": {
     "end_time": "2019-01-30T06:46:27.176473Z",
     "start_time": "2019-01-30T06:46:27.167332Z"
    }
   },
   "outputs": [
    {
     "data": {
      "text/latex": [
       "Quantum object: dims = [[2, 2], [2, 2]], shape = (4, 4), type = oper, isherm = True\\begin{equation*}\\left(\\begin{array}{*{11}c}0.0 & 0.0 & 0.0 & 1.0\\\\0.0 & 0.0 & 1.0 & 0.0\\\\0.0 & 1.0 & 0.0 & 0.0\\\\1.0 & 0.0 & 0.0 & 0.0\\\\\\end{array}\\right)\\end{equation*}"
      ],
      "text/plain": [
       "Quantum object: dims = [[2, 2], [2, 2]], shape = (4, 4), type = oper, isherm = True\n",
       "Qobj data =\n",
       "[[0. 0. 0. 1.]\n",
       " [0. 0. 1. 0.]\n",
       " [0. 1. 0. 0.]\n",
       " [1. 0. 0. 0.]]"
      ]
     },
     "execution_count": 120,
     "metadata": {},
     "output_type": "execute_result"
    }
   ],
   "source": [
    "T"
   ]
  },
  {
   "cell_type": "code",
   "execution_count": 122,
   "metadata": {
    "ExecuteTime": {
     "end_time": "2019-01-30T06:46:41.642530Z",
     "start_time": "2019-01-30T06:46:41.594029Z"
    }
   },
   "outputs": [
    {
     "data": {
      "text/latex": [
       "Quantum object: dims = [[2, 2], [2, 2]], shape = (4, 4), type = oper, isherm = False\\begin{equation*}\\left(\\begin{array}{*{11}c}0.282 & (-0.160-0.009j) & (-0.160+0.009j) & 0.718\\\\(0.143-0.050j) & (-0.054+0.003j) & (-0.303+0.177j) & (-0.143+0.050j)\\\\(0.143+0.050j) & (-0.303-0.177j) & (-0.054-0.003j) & (-0.143-0.050j)\\\\0.718 & (0.160+0.009j) & (0.160-0.009j) & 0.282\\\\\\end{array}\\right)\\end{equation*}"
      ],
      "text/plain": [
       "Quantum object: dims = [[2, 2], [2, 2]], shape = (4, 4), type = oper, isherm = False\n",
       "Qobj data =\n",
       "[[ 0.28233594+0.j         -0.16005333-0.00893544j -0.16005333+0.00893544j\n",
       "   0.71766406+0.j        ]\n",
       " [ 0.14342862-0.05006893j -0.05447685+0.00321831j -0.30317032+0.17678044j\n",
       "  -0.14342862+0.05006893j]\n",
       " [ 0.14342862+0.05006893j -0.30317032-0.17678044j -0.05447685-0.00321831j\n",
       "  -0.14342862-0.05006893j]\n",
       " [ 0.71766406+0.j          0.16005333+0.00893544j  0.16005333-0.00893544j\n",
       "   0.28233594+0.j        ]]"
      ]
     },
     "execution_count": 122,
     "metadata": {},
     "output_type": "execute_result"
    }
   ],
   "source": [
    "L_full_maker(xi_opt, dt)"
   ]
  },
  {
   "cell_type": "code",
   "execution_count": 123,
   "metadata": {
    "ExecuteTime": {
     "end_time": "2019-01-30T06:47:10.034488Z",
     "start_time": "2019-01-30T06:47:09.148914Z"
    }
   },
   "outputs": [
    {
     "data": {
      "text/plain": [
       "(<Figure size 576x432 with 2 Axes>,\n",
       " <matplotlib.axes._subplots.AxesSubplot at 0x1a1b792400>)"
      ]
     },
     "execution_count": 123,
     "metadata": {},
     "output_type": "execute_result"
    },
    {
     "data": {
      "image/png": "[encoded data removed]",
      "text/plain": [
       "<Figure size 576x432 with 2 Axes>"
      ]
     },
     "metadata": {},
     "output_type": "display_data"
    }
   ],
   "source": [
    "hinton(L_full_maker(xi_opt, dt))"
   ]
  },
  {
   "cell_type": "markdown",
   "metadata": {},
   "source": []
  },
  {
   "cell_type": "code",
   "execution_count": null,
   "metadata": {},
   "outputs": [],
   "source": []
  },
  {
   "cell_type": "markdown",
   "metadata": {},
   "source": [
    "### Try2"
   ]
  },
  {
   "cell_type": "code",
   "execution_count": 124,
   "metadata": {
    "ExecuteTime": {
     "end_time": "2019-01-30T06:59:19.541895Z",
     "start_time": "2019-01-30T06:59:19.528162Z"
    }
   },
   "outputs": [],
   "source": [
    "total_time = 3*pi/omega_1\n",
    "epsilon = 10**(-6)\n",
    "max_iter = 10#10**4#1000#100#50#20\n",
    "time_steps = 20\n",
    "dt = total_time/time_steps"
   ]
  },
  {
   "cell_type": "code",
   "execution_count": 125,
   "metadata": {
    "ExecuteTime": {
     "end_time": "2019-01-30T06:59:20.814080Z",
     "start_time": "2019-01-30T06:59:20.089853Z"
    }
   },
   "outputs": [
    {
     "data": {
      "text/plain": [
       "array([689.08841007+0.j, 390.64027158+0.j, 911.13324832+0.j,\n",
       "       649.25993828+0.j,  21.5494225 +0.j, 950.60143484+0.j,\n",
       "       699.39692259+0.j, 548.59433605+0.j, 803.89473054+0.j,\n",
       "       597.13507604+0.j, 309.1677551 +0.j, 971.84119957+0.j,\n",
       "       769.04692813+0.j, 118.73798072+0.j, 983.40518658+0.j,\n",
       "       905.52213367+0.j, 496.59607212+0.j, 303.01896702+0.j,\n",
       "       670.38160789+0.j, 202.11102251+0.j])"
      ]
     },
     "execution_count": 125,
     "metadata": {},
     "output_type": "execute_result"
    }
   ],
   "source": [
    "xi_opt = terminator(max_iter, time_steps, total_time, epsilon)\n",
    "xi_opt"
   ]
  },
  {
   "cell_type": "code",
   "execution_count": 126,
   "metadata": {
    "ExecuteTime": {
     "end_time": "2019-01-30T06:59:20.867959Z",
     "start_time": "2019-01-30T06:59:20.816432Z"
    }
   },
   "outputs": [
    {
     "data": {
      "text/plain": [
       "-3.0928457729772094"
      ]
     },
     "execution_count": 126,
     "metadata": {},
     "output_type": "execute_result"
    }
   ],
   "source": [
    "F(xi_opt, dt)"
   ]
  },
  {
   "cell_type": "code",
   "execution_count": 127,
   "metadata": {
    "ExecuteTime": {
     "end_time": "2019-01-30T06:59:21.561329Z",
     "start_time": "2019-01-30T06:59:21.554571Z"
    }
   },
   "outputs": [
    {
     "data": {
      "text/plain": [
       "10"
      ]
     },
     "execution_count": 127,
     "metadata": {},
     "output_type": "execute_result"
    }
   ],
   "source": [
    "max_iter"
   ]
  },
  {
   "cell_type": "code",
   "execution_count": 128,
   "metadata": {
    "ExecuteTime": {
     "end_time": "2019-01-30T06:59:22.211157Z",
     "start_time": "2019-01-30T06:59:22.204379Z"
    }
   },
   "outputs": [
    {
     "data": {
      "text/latex": [
       "Quantum object: dims = [[2, 2], [2, 2]], shape = (4, 4), type = oper, isherm = True\\begin{equation*}\\left(\\begin{array}{*{11}c}0.0 & 0.0 & 0.0 & 1.0\\\\0.0 & 0.0 & 1.0 & 0.0\\\\0.0 & 1.0 & 0.0 & 0.0\\\\1.0 & 0.0 & 0.0 & 0.0\\\\\\end{array}\\right)\\end{equation*}"
      ],
      "text/plain": [
       "Quantum object: dims = [[2, 2], [2, 2]], shape = (4, 4), type = oper, isherm = True\n",
       "Qobj data =\n",
       "[[0. 0. 0. 1.]\n",
       " [0. 0. 1. 0.]\n",
       " [0. 1. 0. 0.]\n",
       " [1. 0. 0. 0.]]"
      ]
     },
     "execution_count": 128,
     "metadata": {},
     "output_type": "execute_result"
    }
   ],
   "source": [
    "T"
   ]
  },
  {
   "cell_type": "code",
   "execution_count": 129,
   "metadata": {
    "ExecuteTime": {
     "end_time": "2019-01-30T06:59:22.910057Z",
     "start_time": "2019-01-30T06:59:22.868046Z"
    }
   },
   "outputs": [
    {
     "data": {
      "text/latex": [
       "Quantum object: dims = [[2, 2], [2, 2]], shape = (4, 4), type = oper, isherm = False\\begin{equation*}\\left(\\begin{array}{*{11}c}0.456 & (-0.061-0.002j) & (-0.061+0.002j) & 0.544\\\\(0.061+0.001j) & (-0.033+0.004j) & (-0.056-0.003j) & (-0.061-0.001j)\\\\(0.061-0.001j) & (-0.056+0.003j) & (-0.033-0.004j) & (-0.061+0.001j)\\\\0.544 & (0.061+0.002j) & (0.061-0.002j) & 0.456\\\\\\end{array}\\right)\\end{equation*}"
      ],
      "text/plain": [
       "Quantum object: dims = [[2, 2], [2, 2]], shape = (4, 4), type = oper, isherm = False\n",
       "Qobj data =\n",
       "[[ 0.45551215+0.j         -0.06146264-0.00195095j -0.06146264+0.00195095j\n",
       "   0.54448785+0.j        ]\n",
       " [ 0.06117515+0.00113601j -0.03304158+0.00393467j -0.05606434-0.00328859j\n",
       "  -0.06117515-0.00113601j]\n",
       " [ 0.06117515-0.00113601j -0.05606434+0.00328859j -0.03304158-0.00393467j\n",
       "  -0.06117515+0.00113601j]\n",
       " [ 0.54448785+0.j          0.06146264+0.00195095j  0.06146264-0.00195095j\n",
       "   0.45551215+0.j        ]]"
      ]
     },
     "execution_count": 129,
     "metadata": {},
     "output_type": "execute_result"
    }
   ],
   "source": [
    "L_full_maker(xi_opt, dt)"
   ]
  },
  {
   "cell_type": "code",
   "execution_count": 130,
   "metadata": {
    "ExecuteTime": {
     "end_time": "2019-01-30T06:59:23.687098Z",
     "start_time": "2019-01-30T06:59:23.383435Z"
    }
   },
   "outputs": [
    {
     "data": {
      "text/plain": [
       "(<Figure size 576x432 with 2 Axes>,\n",
       " <matplotlib.axes._subplots.AxesSubplot at 0x1a1b8bbfd0>)"
      ]
     },
     "execution_count": 130,
     "metadata": {},
     "output_type": "execute_result"
    },
    {
     "data": {
      "image/png": "[encoded data removed]",
      "text/plain": [
       "<Figure size 576x432 with 2 Axes>"
      ]
     },
     "metadata": {},
     "output_type": "display_data"
    }
   ],
   "source": [
    "hinton(L_full_maker(xi_opt, dt))"
   ]
  },
  {
   "cell_type": "markdown",
   "metadata": {},
   "source": []
  },
  {
   "cell_type": "markdown",
   "metadata": {},
   "source": [
    "### Try2"
   ]
  },
  {
   "cell_type": "code",
   "execution_count": 131,
   "metadata": {
    "ExecuteTime": {
     "end_time": "2019-01-30T08:10:30.462895Z",
     "start_time": "2019-01-30T08:10:30.440752Z"
    }
   },
   "outputs": [],
   "source": [
    "total_time = 4*pi/omega_1\n",
    "epsilon = 10**(-6)\n",
    "max_iter = 10#10**4#1000#100#50#20\n",
    "time_steps = 20\n",
    "dt = total_time/time_steps"
   ]
  },
  {
   "cell_type": "code",
   "execution_count": 132,
   "metadata": {
    "ExecuteTime": {
     "end_time": "2019-01-30T08:10:32.538099Z",
     "start_time": "2019-01-30T08:10:31.776512Z"
    }
   },
   "outputs": [
    {
     "data": {
      "text/plain": [
       "array([ 16.89916348+0.j, 546.14147796+0.j, 370.939413  +0.j,\n",
       "       661.52831589+0.j, 798.83010196+0.j, 856.15192907+0.j,\n",
       "       425.39661272+0.j, 817.52733909+0.j, 542.12425634+0.j,\n",
       "       229.37722665+0.j, 478.03467099+0.j, 376.19661666+0.j,\n",
       "        86.82178311+0.j, 103.98801384+0.j, 196.90523493+0.j,\n",
       "       363.43670343+0.j, 985.59180376+0.j, 402.12328368+0.j,\n",
       "        84.7572926 +0.j, 232.78104093+0.j])"
      ]
     },
     "execution_count": 132,
     "metadata": {},
     "output_type": "execute_result"
    }
   ],
   "source": [
    "xi_opt = terminator(max_iter, time_steps, total_time, epsilon)\n",
    "xi_opt"
   ]
  },
  {
   "cell_type": "code",
   "execution_count": 133,
   "metadata": {
    "ExecuteTime": {
     "end_time": "2019-01-30T08:10:38.754230Z",
     "start_time": "2019-01-30T08:10:38.710648Z"
    }
   },
   "outputs": [
    {
     "data": {
      "text/plain": [
       "-3.0267105841205595"
      ]
     },
     "execution_count": 133,
     "metadata": {},
     "output_type": "execute_result"
    }
   ],
   "source": [
    "F(xi_opt, dt)"
   ]
  },
  {
   "cell_type": "code",
   "execution_count": 134,
   "metadata": {
    "ExecuteTime": {
     "end_time": "2019-01-30T08:10:39.484119Z",
     "start_time": "2019-01-30T08:10:39.479120Z"
    }
   },
   "outputs": [
    {
     "data": {
      "text/plain": [
       "10"
      ]
     },
     "execution_count": 134,
     "metadata": {},
     "output_type": "execute_result"
    }
   ],
   "source": [
    "max_iter"
   ]
  },
  {
   "cell_type": "code",
   "execution_count": 135,
   "metadata": {
    "ExecuteTime": {
     "end_time": "2019-01-30T08:10:40.102785Z",
     "start_time": "2019-01-30T08:10:40.095626Z"
    }
   },
   "outputs": [
    {
     "data": {
      "text/latex": [
       "Quantum object: dims = [[2, 2], [2, 2]], shape = (4, 4), type = oper, isherm = True\\begin{equation*}\\left(\\begin{array}{*{11}c}0.0 & 0.0 & 0.0 & 1.0\\\\0.0 & 0.0 & 1.0 & 0.0\\\\0.0 & 1.0 & 0.0 & 0.0\\\\1.0 & 0.0 & 0.0 & 0.0\\\\\\end{array}\\right)\\end{equation*}"
      ],
      "text/plain": [
       "Quantum object: dims = [[2, 2], [2, 2]], shape = (4, 4), type = oper, isherm = True\n",
       "Qobj data =\n",
       "[[0. 0. 0. 1.]\n",
       " [0. 0. 1. 0.]\n",
       " [0. 1. 0. 0.]\n",
       " [1. 0. 0. 0.]]"
      ]
     },
     "execution_count": 135,
     "metadata": {},
     "output_type": "execute_result"
    }
   ],
   "source": [
    "T"
   ]
  },
  {
   "cell_type": "code",
   "execution_count": 136,
   "metadata": {
    "ExecuteTime": {
     "end_time": "2019-01-30T08:10:40.961164Z",
     "start_time": "2019-01-30T08:10:40.913172Z"
    }
   },
   "outputs": [
    {
     "data": {
      "text/latex": [
       "Quantum object: dims = [[2, 2], [2, 2]], shape = (4, 4), type = oper, isherm = False\\begin{equation*}\\left(\\begin{array}{*{11}c}0.501 & (-0.040+0.002j) & (-0.040-0.002j) & 0.499\\\\(0.040-1.695\\times10^{-04}j) & (0.004+0.002j) & (-0.003-0.002j) & (-0.040+1.695\\times10^{-04}j)\\\\(0.040+1.695\\times10^{-04}j) & (-0.003+0.002j) & (0.004-0.002j) & (-0.040-1.695\\times10^{-04}j)\\\\0.499 & (0.040-0.002j) & (0.040+0.002j) & 0.501\\\\\\end{array}\\right)\\end{equation*}"
      ],
      "text/plain": [
       "Quantum object: dims = [[2, 2], [2, 2]], shape = (4, 4), type = oper, isherm = False\n",
       "Qobj data =\n",
       "[[ 0.50075015+0.j         -0.04042479+0.00209092j -0.04042479-0.00209092j\n",
       "   0.49924985+0.j        ]\n",
       " [ 0.04040024-0.0001695j   0.00395634+0.00194311j -0.00264077-0.00210981j\n",
       "  -0.04040024+0.0001695j ]\n",
       " [ 0.04040024+0.0001695j  -0.00264077+0.00210981j  0.00395634-0.00194311j\n",
       "  -0.04040024-0.0001695j ]\n",
       " [ 0.49924985+0.j          0.04042479-0.00209092j  0.04042479+0.00209092j\n",
       "   0.50075015+0.j        ]]"
      ]
     },
     "execution_count": 136,
     "metadata": {},
     "output_type": "execute_result"
    }
   ],
   "source": [
    "L_full_maker(xi_opt, dt)"
   ]
  },
  {
   "cell_type": "code",
   "execution_count": 137,
   "metadata": {
    "ExecuteTime": {
     "end_time": "2019-01-30T08:10:42.313428Z",
     "start_time": "2019-01-30T08:10:41.816860Z"
    }
   },
   "outputs": [
    {
     "data": {
      "text/plain": [
       "(<Figure size 576x432 with 2 Axes>,\n",
       " <matplotlib.axes._subplots.AxesSubplot at 0x1a1c72b550>)"
      ]
     },
     "execution_count": 137,
     "metadata": {},
     "output_type": "execute_result"
    },
    {
     "data": {
      "image/png": "[encoded data removed]",
      "text/plain": [
       "<Figure size 576x432 with 2 Axes>"
      ]
     },
     "metadata": {},
     "output_type": "display_data"
    }
   ],
   "source": [
    "hinton(L_full_maker(xi_opt, dt))"
   ]
  },
  {
   "cell_type": "markdown",
   "metadata": {},
   "source": [
    "### Try2"
   ]
  },
  {
   "cell_type": "code",
   "execution_count": 138,
   "metadata": {
    "ExecuteTime": {
     "end_time": "2019-01-30T08:10:30.462895Z",
     "start_time": "2019-01-30T08:10:30.440752Z"
    }
   },
   "outputs": [],
   "source": [
    "total_time = 5*pi/omega_1\n",
    "epsilon = 10**(-6)\n",
    "max_iter = 10#10**4#1000#100#50#20\n",
    "time_steps = 20\n",
    "dt = total_time/time_steps"
   ]
  },
  {
   "cell_type": "code",
   "execution_count": 139,
   "metadata": {
    "ExecuteTime": {
     "end_time": "2019-01-30T08:10:32.538099Z",
     "start_time": "2019-01-30T08:10:31.776512Z"
    }
   },
   "outputs": [
    {
     "data": {
      "text/plain": [
       "array([628.17131461+0.j, 621.00810422+0.j, 439.92123557+0.j,\n",
       "       156.38281485+0.j, 465.46461684+0.j, 270.63279773+0.j,\n",
       "        99.52810023+0.j, 719.96038964+0.j, 654.20655632+0.j,\n",
       "       357.27197278+0.j, 552.479709  +0.j, 118.15844016+0.j,\n",
       "       766.75569369+0.j,  54.27830497+0.j, 606.98591267+0.j,\n",
       "        55.8853009 +0.j, 789.00040693+0.j, 261.21559934+0.j,\n",
       "       431.40575825+0.j,  34.05616042+0.j])"
      ]
     },
     "execution_count": 139,
     "metadata": {},
     "output_type": "execute_result"
    }
   ],
   "source": [
    "xi_opt = terminator(max_iter, time_steps, total_time, epsilon)\n",
    "xi_opt"
   ]
  },
  {
   "cell_type": "code",
   "execution_count": 140,
   "metadata": {
    "ExecuteTime": {
     "end_time": "2019-01-30T08:10:38.754230Z",
     "start_time": "2019-01-30T08:10:38.710648Z"
    }
   },
   "outputs": [
    {
     "data": {
      "text/plain": [
       "-3.0073840748657643"
      ]
     },
     "execution_count": 140,
     "metadata": {},
     "output_type": "execute_result"
    }
   ],
   "source": [
    "F(xi_opt, dt)"
   ]
  },
  {
   "cell_type": "code",
   "execution_count": 141,
   "metadata": {
    "ExecuteTime": {
     "end_time": "2019-01-30T08:10:39.484119Z",
     "start_time": "2019-01-30T08:10:39.479120Z"
    }
   },
   "outputs": [
    {
     "data": {
      "text/plain": [
       "10"
      ]
     },
     "execution_count": 141,
     "metadata": {},
     "output_type": "execute_result"
    }
   ],
   "source": [
    "max_iter"
   ]
  },
  {
   "cell_type": "code",
   "execution_count": 142,
   "metadata": {
    "ExecuteTime": {
     "end_time": "2019-01-30T08:10:40.102785Z",
     "start_time": "2019-01-30T08:10:40.095626Z"
    }
   },
   "outputs": [
    {
     "data": {
      "text/latex": [
       "Quantum object: dims = [[2, 2], [2, 2]], shape = (4, 4), type = oper, isherm = True\\begin{equation*}\\left(\\begin{array}{*{11}c}0.0 & 0.0 & 0.0 & 1.0\\\\0.0 & 0.0 & 1.0 & 0.0\\\\0.0 & 1.0 & 0.0 & 0.0\\\\1.0 & 0.0 & 0.0 & 0.0\\\\\\end{array}\\right)\\end{equation*}"
      ],
      "text/plain": [
       "Quantum object: dims = [[2, 2], [2, 2]], shape = (4, 4), type = oper, isherm = True\n",
       "Qobj data =\n",
       "[[0. 0. 0. 1.]\n",
       " [0. 0. 1. 0.]\n",
       " [0. 1. 0. 0.]\n",
       " [1. 0. 0. 0.]]"
      ]
     },
     "execution_count": 142,
     "metadata": {},
     "output_type": "execute_result"
    }
   ],
   "source": [
    "T"
   ]
  },
  {
   "cell_type": "code",
   "execution_count": 143,
   "metadata": {
    "ExecuteTime": {
     "end_time": "2019-01-30T08:10:40.961164Z",
     "start_time": "2019-01-30T08:10:40.913172Z"
    }
   },
   "outputs": [
    {
     "data": {
      "text/latex": [
       "Quantum object: dims = [[2, 2], [2, 2]], shape = (4, 4), type = oper, isherm = False\\begin{equation*}\\left(\\begin{array}{*{11}c}0.481 & (-0.011-6.049\\times10^{-05}j) & (-0.011+6.049\\times10^{-05}j) & 0.519\\\\(0.011+3.230\\times10^{-04}j) & (-0.018+7.277\\times10^{-05}j) & (-0.019+8.109\\times10^{-05}j) & (-0.011-3.230\\times10^{-04}j)\\\\(0.011-3.230\\times10^{-04}j) & (-0.019-8.109\\times10^{-05}j) & (-0.018-7.277\\times10^{-05}j) & (-0.011+3.230\\times10^{-04}j)\\\\0.519 & (0.011+6.049\\times10^{-05}j) & (0.011-6.049\\times10^{-05}j) & 0.481\\\\\\end{array}\\right)\\end{equation*}"
      ],
      "text/plain": [
       "Quantum object: dims = [[2, 2], [2, 2]], shape = (4, 4), type = oper, isherm = False\n",
       "Qobj data =\n",
       "[[ 0.48143832+0.00000000e+00j -0.01104882-6.04904832e-05j\n",
       "  -0.01104882+6.04904832e-05j  0.51856168+0.00000000e+00j]\n",
       " [ 0.01106675+3.22991450e-04j -0.01760639+7.27686769e-05j\n",
       "  -0.0194739 +8.10880513e-05j -0.01106675-3.22991450e-04j]\n",
       " [ 0.01106675-3.22991450e-04j -0.0194739 -8.10880513e-05j\n",
       "  -0.01760639-7.27686769e-05j -0.01106675+3.22991450e-04j]\n",
       " [ 0.51856168+0.00000000e+00j  0.01104882+6.04904832e-05j\n",
       "   0.01104882-6.04904832e-05j  0.48143832+0.00000000e+00j]]"
      ]
     },
     "execution_count": 143,
     "metadata": {},
     "output_type": "execute_result"
    }
   ],
   "source": [
    "L_full_maker(xi_opt, dt)"
   ]
  },
  {
   "cell_type": "code",
   "execution_count": 144,
   "metadata": {
    "ExecuteTime": {
     "end_time": "2019-01-30T08:10:42.313428Z",
     "start_time": "2019-01-30T08:10:41.816860Z"
    }
   },
   "outputs": [
    {
     "data": {
      "text/plain": [
       "(<Figure size 576x432 with 2 Axes>,\n",
       " <matplotlib.axes._subplots.AxesSubplot at 0x1a1c89a2e8>)"
      ]
     },
     "execution_count": 144,
     "metadata": {},
     "output_type": "execute_result"
    },
    {
     "data": {
      "image/png": "[encoded data removed]",
      "text/plain": [
       "<Figure size 576x432 with 2 Axes>"
      ]
     },
     "metadata": {},
     "output_type": "display_data"
    }
   ],
   "source": [
    "hinton(L_full_maker(xi_opt, dt))"
   ]
  },
  {
   "cell_type": "markdown",
   "metadata": {},
   "source": [
    "### Try2"
   ]
  },
  {
   "cell_type": "code",
   "execution_count": 145,
   "metadata": {
    "ExecuteTime": {
     "end_time": "2019-01-30T08:10:30.462895Z",
     "start_time": "2019-01-30T08:10:30.440752Z"
    }
   },
   "outputs": [],
   "source": [
    "total_time = 10*pi/omega_1\n",
    "epsilon = 10**(-6)\n",
    "max_iter = 10#10**4#1000#100#50#20\n",
    "time_steps = 20\n",
    "dt = total_time/time_steps"
   ]
  },
  {
   "cell_type": "code",
   "execution_count": 146,
   "metadata": {
    "ExecuteTime": {
     "end_time": "2019-01-30T08:10:32.538099Z",
     "start_time": "2019-01-30T08:10:31.776512Z"
    }
   },
   "outputs": [
    {
     "data": {
      "text/plain": [
       "array([220.65427093+0.j, 970.69580696+0.j, 196.02473416+0.j,\n",
       "       518.3824284 +0.j, 196.17410136+0.j, 569.29816989+0.j,\n",
       "       525.43050372+0.j, 582.48769888+0.j, 825.28818866+0.j,\n",
       "       573.19779378+0.j, 167.06560055+0.j, 706.39522048+0.j,\n",
       "       799.88874054+0.j, 233.38500557+0.j, 857.47048837+0.j,\n",
       "       301.22153915+0.j, 430.17789507+0.j, 529.32407831+0.j,\n",
       "       477.18004331+0.j, 505.03960374+0.j])"
      ]
     },
     "execution_count": 146,
     "metadata": {},
     "output_type": "execute_result"
    }
   ],
   "source": [
    "xi_opt = terminator(max_iter, time_steps, total_time, epsilon)\n",
    "xi_opt"
   ]
  },
  {
   "cell_type": "code",
   "execution_count": 147,
   "metadata": {
    "ExecuteTime": {
     "end_time": "2019-01-30T08:10:38.754230Z",
     "start_time": "2019-01-30T08:10:38.710648Z"
    }
   },
   "outputs": [
    {
     "data": {
      "text/plain": [
       "-3.000012804373343"
      ]
     },
     "execution_count": 147,
     "metadata": {},
     "output_type": "execute_result"
    }
   ],
   "source": [
    "F(xi_opt, dt)"
   ]
  },
  {
   "cell_type": "code",
   "execution_count": 148,
   "metadata": {
    "ExecuteTime": {
     "end_time": "2019-01-30T08:10:39.484119Z",
     "start_time": "2019-01-30T08:10:39.479120Z"
    }
   },
   "outputs": [
    {
     "data": {
      "text/plain": [
       "10"
      ]
     },
     "execution_count": 148,
     "metadata": {},
     "output_type": "execute_result"
    }
   ],
   "source": [
    "max_iter"
   ]
  },
  {
   "cell_type": "code",
   "execution_count": 149,
   "metadata": {
    "ExecuteTime": {
     "end_time": "2019-01-30T08:10:40.102785Z",
     "start_time": "2019-01-30T08:10:40.095626Z"
    }
   },
   "outputs": [
    {
     "data": {
      "text/latex": [
       "Quantum object: dims = [[2, 2], [2, 2]], shape = (4, 4), type = oper, isherm = True\\begin{equation*}\\left(\\begin{array}{*{11}c}0.0 & 0.0 & 0.0 & 1.0\\\\0.0 & 0.0 & 1.0 & 0.0\\\\0.0 & 1.0 & 0.0 & 0.0\\\\1.0 & 0.0 & 0.0 & 0.0\\\\\\end{array}\\right)\\end{equation*}"
      ],
      "text/plain": [
       "Quantum object: dims = [[2, 2], [2, 2]], shape = (4, 4), type = oper, isherm = True\n",
       "Qobj data =\n",
       "[[0. 0. 0. 1.]\n",
       " [0. 0. 1. 0.]\n",
       " [0. 1. 0. 0.]\n",
       " [1. 0. 0. 0.]]"
      ]
     },
     "execution_count": 149,
     "metadata": {},
     "output_type": "execute_result"
    }
   ],
   "source": [
    "T"
   ]
  },
  {
   "cell_type": "code",
   "execution_count": 150,
   "metadata": {
    "ExecuteTime": {
     "end_time": "2019-01-30T08:10:40.961164Z",
     "start_time": "2019-01-30T08:10:40.913172Z"
    }
   },
   "outputs": [
    {
     "data": {
      "text/latex": [
       "Quantum object: dims = [[2, 2], [2, 2]], shape = (4, 4), type = oper, isherm = False\\begin{equation*}\\left(\\begin{array}{*{11}c}0.500 & (8.729\\times10^{-04}-4.074\\times10^{-07}j) & (8.729\\times10^{-04}+4.074\\times10^{-07}j) & 0.500\\\\(-8.730\\times10^{-04}-1.439\\times10^{-07}j) & (3.331\\times10^{-04}-6.041\\times10^{-06}j) & (3.296\\times10^{-04}+4.127\\times10^{-06}j) & (8.730\\times10^{-04}+1.439\\times10^{-07}j)\\\\(-8.730\\times10^{-04}+1.439\\times10^{-07}j) & (3.296\\times10^{-04}-4.127\\times10^{-06}j) & (3.331\\times10^{-04}+6.041\\times10^{-06}j) & (8.730\\times10^{-04}-1.439\\times10^{-07}j)\\\\0.500 & (-8.729\\times10^{-04}+4.074\\times10^{-07}j) & (-8.729\\times10^{-04}-4.074\\times10^{-07}j) & 0.500\\\\\\end{array}\\right)\\end{equation*}"
      ],
      "text/plain": [
       "Quantum object: dims = [[2, 2], [2, 2]], shape = (4, 4), type = oper, isherm = False\n",
       "Qobj data =\n",
       "[[ 5.00331048e-01+0.00000000e+00j  8.72894594e-04-4.07373240e-07j\n",
       "   8.72894594e-04+4.07373239e-07j  4.99668952e-01+0.00000000e+00j]\n",
       " [-8.72964131e-04-1.43928154e-07j  3.33074701e-04-6.04114892e-06j\n",
       "   3.29589841e-04+4.12707186e-06j  8.72964131e-04+1.43928154e-07j]\n",
       " [-8.72964131e-04+1.43928154e-07j  3.29589841e-04-4.12707186e-06j\n",
       "   3.33074701e-04+6.04114892e-06j  8.72964131e-04-1.43928154e-07j]\n",
       " [ 4.99668952e-01+0.00000000e+00j -8.72894594e-04+4.07373239e-07j\n",
       "  -8.72894594e-04-4.07373239e-07j  5.00331048e-01+0.00000000e+00j]]"
      ]
     },
     "execution_count": 150,
     "metadata": {},
     "output_type": "execute_result"
    }
   ],
   "source": [
    "L_full_maker(xi_opt, dt)"
   ]
  },
  {
   "cell_type": "code",
   "execution_count": 151,
   "metadata": {
    "ExecuteTime": {
     "end_time": "2019-01-30T08:10:42.313428Z",
     "start_time": "2019-01-30T08:10:41.816860Z"
    }
   },
   "outputs": [
    {
     "data": {
      "text/plain": [
       "(<Figure size 576x432 with 2 Axes>,\n",
       " <matplotlib.axes._subplots.AxesSubplot at 0x1a1cb249e8>)"
      ]
     },
     "execution_count": 151,
     "metadata": {},
     "output_type": "execute_result"
    },
    {
     "data": {
      "image/png": "[encoded data removed]",
      "text/plain": [
       "<Figure size 576x432 with 2 Axes>"
      ]
     },
     "metadata": {},
     "output_type": "display_data"
    }
   ],
   "source": [
    "hinton(L_full_maker(xi_opt, dt))"
   ]
  },
  {
   "cell_type": "markdown",
   "metadata": {},
   "source": [
    "### Try2"
   ]
  },
  {
   "cell_type": "code",
   "execution_count": 152,
   "metadata": {
    "ExecuteTime": {
     "end_time": "2019-01-30T08:10:30.462895Z",
     "start_time": "2019-01-30T08:10:30.440752Z"
    }
   },
   "outputs": [],
   "source": [
    "total_time = 3*pi/omega_1\n",
    "epsilon = 10**(-6)\n",
    "max_iter = 10#10**4#1000#100#50#20\n",
    "time_steps = 200\n",
    "dt = total_time/time_steps"
   ]
  },
  {
   "cell_type": "code",
   "execution_count": 153,
   "metadata": {
    "ExecuteTime": {
     "end_time": "2019-01-30T08:10:32.538099Z",
     "start_time": "2019-01-30T08:10:31.776512Z"
    }
   },
   "outputs": [
    {
     "data": {
      "text/plain": [
       "array([288.06686264+0.j, 622.29612295+0.j, 814.80791134+0.j,\n",
       "       354.13137538+0.j, 556.40653629+0.j, 448.91127838+0.j,\n",
       "       382.64161479+0.j,  38.5904663 +0.j, 928.27857183+0.j,\n",
       "       662.66718274+0.j, 638.02530971+0.j, 751.97562161+0.j,\n",
       "       967.0555933 +0.j, 380.26114369+0.j, 141.45725626+0.j,\n",
       "       768.66710373+0.j, 478.15325684+0.j, 363.79048785+0.j,\n",
       "       583.33543587+0.j, 957.31294485+0.j, 635.84371521+0.j,\n",
       "       247.72466574+0.j, 918.76206305+0.j, 340.80456   +0.j,\n",
       "       187.54258364+0.j, 866.47122121+0.j, 266.57521808+0.j,\n",
       "       863.37046314+0.j, 205.9434985 +0.j, 612.70097585+0.j,\n",
       "       614.35842895+0.j, 894.65886781+0.j, 790.89660687+0.j,\n",
       "       777.28738052+0.j, 761.44157438+0.j, 838.2818755 +0.j,\n",
       "       888.08215549+0.j, 220.3199309 +0.j, 590.96027899+0.j,\n",
       "        17.24425449+0.j, 790.74982354+0.j, 770.98877452+0.j,\n",
       "       460.41517739+0.j, 599.98783936+0.j, 109.59332672+0.j,\n",
       "       906.95112751+0.j, 181.56060215+0.j, 241.32652595+0.j,\n",
       "       232.35277044+0.j, 811.17321021+0.j,  96.8691815 +0.j,\n",
       "       598.39999009+0.j, 111.62052496+0.j, 635.06841097+0.j,\n",
       "       804.94541229+0.j, 210.8403727 +0.j, 756.5803374 +0.j,\n",
       "       522.84373016+0.j, 170.07796452+0.j, 183.90766879+0.j,\n",
       "       724.21740876+0.j,  37.38864059+0.j, 764.88197934+0.j,\n",
       "       555.35500126+0.j, 174.96375147+0.j, 826.21152532+0.j,\n",
       "        14.52954218+0.j, 862.16261643+0.j,  60.58295352+0.j,\n",
       "       289.84668151+0.j, 589.52541808+0.j, 991.14865927+0.j,\n",
       "       278.88950707+0.j, 725.14424363+0.j, 142.29266249+0.j,\n",
       "       335.73492209+0.j,  87.62282598+0.j, 679.70520689+0.j,\n",
       "       593.93999847+0.j, 890.40960669+0.j, 887.20728048+0.j,\n",
       "        65.81168252+0.j,  66.4150891 +0.j, 282.63229503+0.j,\n",
       "       781.88529894+0.j, 191.51650829+0.j, 139.53842913+0.j,\n",
       "       204.19142234+0.j, 871.73585633+0.j, 183.88219188+0.j,\n",
       "       779.6128551 +0.j, 407.82268021+0.j, 774.74409103+0.j,\n",
       "       859.54140878+0.j, 631.36694528+0.j,  33.34292917+0.j,\n",
       "       617.83737768+0.j,  69.97051858+0.j, 157.69844774+0.j,\n",
       "       475.88845943+0.j, 510.23478792+0.j, 471.36699526+0.j,\n",
       "       426.14019916+0.j, 716.10400035+0.j, 508.89130285+0.j,\n",
       "       946.65564462+0.j, 267.93008668+0.j, 354.285297  +0.j,\n",
       "       894.17402575+0.j, 622.31724443+0.j,  56.3522919 +0.j,\n",
       "       821.42703373+0.j, 160.7608236 +0.j, 484.98157125+0.j,\n",
       "       357.62350422+0.j, 220.98512606+0.j, 283.71263271+0.j,\n",
       "       973.47851429+0.j, 221.85551531+0.j, 468.05981826+0.j,\n",
       "       667.06425198+0.j, 237.02161785+0.j,  24.10536914+0.j,\n",
       "        88.93654459+0.j,   6.60238428+0.j, 241.46105818+0.j,\n",
       "       587.72091956+0.j, 938.13002318+0.j, 532.53367005+0.j,\n",
       "       102.83279507+0.j, 475.04128605+0.j, 784.29967277+0.j,\n",
       "       714.14884302+0.j,  29.7164106 +0.j, 265.51322167+0.j,\n",
       "       369.3311614 +0.j, 552.23917991+0.j, 541.34637992+0.j,\n",
       "       329.62946459+0.j, 290.38433561+0.j,  67.74247362+0.j,\n",
       "       533.62444274+0.j, 847.89132273+0.j, 716.78907465+0.j,\n",
       "       400.31347312+0.j,   2.1805878 +0.j, 545.11181866+0.j,\n",
       "       450.80393028+0.j, 414.71468189+0.j, 642.33733685+0.j,\n",
       "       914.35646827+0.j, 393.36701975+0.j, 516.25938664+0.j,\n",
       "       353.49194783+0.j, 850.1652494 +0.j, 360.85822412+0.j,\n",
       "       358.89577995+0.j, 228.78687202+0.j, 971.41071874+0.j,\n",
       "       420.81125108+0.j, 518.6007623 +0.j, 578.00556703+0.j,\n",
       "       159.6762229 +0.j, 192.34325424+0.j, 284.97704525+0.j,\n",
       "       909.58844451+0.j, 281.42079223+0.j, 380.2349977 +0.j,\n",
       "       490.37319299+0.j,  22.39221617+0.j, 790.14212429+0.j,\n",
       "       426.37875739+0.j, 618.84146383+0.j, 634.8540568 +0.j,\n",
       "       287.78327411+0.j, 989.00947171+0.j, 974.69682355+0.j,\n",
       "       847.75306061+0.j, 397.5412971 +0.j, 174.07462236+0.j,\n",
       "       655.29862454+0.j, 557.02256821+0.j,  80.96764607+0.j,\n",
       "       526.25414175+0.j, 250.39887648+0.j, 506.31477665+0.j,\n",
       "       149.77699281+0.j, 607.39787838+0.j,  27.92066446+0.j,\n",
       "       800.34481153+0.j, 362.1429767 +0.j, 291.24942246+0.j,\n",
       "       573.29940261+0.j,  31.29186868+0.j, 992.85931914+0.j,\n",
       "       934.93767057+0.j, 440.11649257+0.j, 569.88678848+0.j,\n",
       "       281.0379901 +0.j, 929.41629412+0.j])"
      ]
     },
     "execution_count": 153,
     "metadata": {},
     "output_type": "execute_result"
    }
   ],
   "source": [
    "xi_opt = terminator(max_iter, time_steps, total_time, epsilon)\n",
    "xi_opt"
   ]
  },
  {
   "cell_type": "code",
   "execution_count": 154,
   "metadata": {
    "ExecuteTime": {
     "end_time": "2019-01-30T08:10:38.754230Z",
     "start_time": "2019-01-30T08:10:38.710648Z"
    }
   },
   "outputs": [
    {
     "data": {
      "text/plain": [
       "-3.0867364617339534"
      ]
     },
     "execution_count": 154,
     "metadata": {},
     "output_type": "execute_result"
    }
   ],
   "source": [
    "F(xi_opt, dt)"
   ]
  },
  {
   "cell_type": "code",
   "execution_count": 155,
   "metadata": {
    "ExecuteTime": {
     "end_time": "2019-01-30T08:10:39.484119Z",
     "start_time": "2019-01-30T08:10:39.479120Z"
    }
   },
   "outputs": [
    {
     "data": {
      "text/plain": [
       "10"
      ]
     },
     "execution_count": 155,
     "metadata": {},
     "output_type": "execute_result"
    }
   ],
   "source": [
    "max_iter"
   ]
  },
  {
   "cell_type": "code",
   "execution_count": 156,
   "metadata": {
    "ExecuteTime": {
     "end_time": "2019-01-30T08:10:40.102785Z",
     "start_time": "2019-01-30T08:10:40.095626Z"
    }
   },
   "outputs": [
    {
     "data": {
      "text/latex": [
       "Quantum object: dims = [[2, 2], [2, 2]], shape = (4, 4), type = oper, isherm = True\\begin{equation*}\\left(\\begin{array}{*{11}c}0.0 & 0.0 & 0.0 & 1.0\\\\0.0 & 0.0 & 1.0 & 0.0\\\\0.0 & 1.0 & 0.0 & 0.0\\\\1.0 & 0.0 & 0.0 & 0.0\\\\\\end{array}\\right)\\end{equation*}"
      ],
      "text/plain": [
       "Quantum object: dims = [[2, 2], [2, 2]], shape = (4, 4), type = oper, isherm = True\n",
       "Qobj data =\n",
       "[[0. 0. 0. 1.]\n",
       " [0. 0. 1. 0.]\n",
       " [0. 1. 0. 0.]\n",
       " [1. 0. 0. 0.]]"
      ]
     },
     "execution_count": 156,
     "metadata": {},
     "output_type": "execute_result"
    }
   ],
   "source": [
    "T"
   ]
  },
  {
   "cell_type": "code",
   "execution_count": 157,
   "metadata": {
    "ExecuteTime": {
     "end_time": "2019-01-30T08:10:40.961164Z",
     "start_time": "2019-01-30T08:10:40.913172Z"
    }
   },
   "outputs": [
    {
     "data": {
      "text/latex": [
       "Quantum object: dims = [[2, 2], [2, 2]], shape = (4, 4), type = oper, isherm = False\\begin{equation*}\\left(\\begin{array}{*{11}c}0.569 & (0.017-0.013j) & (0.017+0.013j) & 0.431\\\\(-0.024-0.004j) & (0.078-0.025j) & (0.059-0.010j) & (0.024+0.004j)\\\\(-0.024+0.004j) & (0.059+0.010j) & (0.078+0.025j) & (0.024-0.004j)\\\\0.431 & (-0.017+0.013j) & (-0.017-0.013j) & 0.569\\\\\\end{array}\\right)\\end{equation*}"
      ],
      "text/plain": [
       "Quantum object: dims = [[2, 2], [2, 2]], shape = (4, 4), type = oper, isherm = False\n",
       "Qobj data =\n",
       "[[ 0.56939082+0.j          0.01697523-0.01269891j  0.01697523+0.01269891j\n",
       "   0.43060918+0.j        ]\n",
       " [-0.02393377-0.00423045j  0.07783901-0.02465407j  0.05867054-0.01040459j\n",
       "   0.02393377+0.00423045j]\n",
       " [-0.02393377+0.00423045j  0.05867054+0.01040459j  0.07783901+0.02465407j\n",
       "   0.02393377-0.00423045j]\n",
       " [ 0.43060918+0.j         -0.01697523+0.01269891j -0.01697523-0.01269891j\n",
       "   0.56939082+0.j        ]]"
      ]
     },
     "execution_count": 157,
     "metadata": {},
     "output_type": "execute_result"
    }
   ],
   "source": [
    "L_full_maker(xi_opt, dt)"
   ]
  },
  {
   "cell_type": "code",
   "execution_count": 158,
   "metadata": {
    "ExecuteTime": {
     "end_time": "2019-01-30T08:10:42.313428Z",
     "start_time": "2019-01-30T08:10:41.816860Z"
    }
   },
   "outputs": [
    {
     "data": {
      "text/plain": [
       "(<Figure size 576x432 with 2 Axes>,\n",
       " <matplotlib.axes._subplots.AxesSubplot at 0x1a1cc97d30>)"
      ]
     },
     "execution_count": 158,
     "metadata": {},
     "output_type": "execute_result"
    },
    {
     "data": {
      "image/png": "[encoded data removed]",
      "text/plain": [
       "<Figure size 576x432 with 2 Axes>"
      ]
     },
     "metadata": {},
     "output_type": "display_data"
    }
   ],
   "source": [
    "hinton(L_full_maker(xi_opt, dt))"
   ]
  },
  {
   "cell_type": "code",
   "execution_count": null,
   "metadata": {},
   "outputs": [],
   "source": []
  },
  {
   "cell_type": "markdown",
   "metadata": {},
   "source": [
    "### Try2"
   ]
  },
  {
   "cell_type": "code",
   "execution_count": 159,
   "metadata": {
    "ExecuteTime": {
     "end_time": "2019-01-30T08:10:30.462895Z",
     "start_time": "2019-01-30T08:10:30.440752Z"
    }
   },
   "outputs": [],
   "source": [
    "total_time = 3*pi/omega_1\n",
    "epsilon = 10**(-6)\n",
    "max_iter = 10#10**4#1000#100#50#20\n",
    "time_steps = 50\n",
    "dt = total_time/time_steps"
   ]
  },
  {
   "cell_type": "code",
   "execution_count": 160,
   "metadata": {
    "ExecuteTime": {
     "end_time": "2019-01-30T08:10:32.538099Z",
     "start_time": "2019-01-30T08:10:31.776512Z"
    }
   },
   "outputs": [
    {
     "data": {
      "text/plain": [
       "array([353.3100824 +0.j, 473.35015665+0.j, 359.14595728+0.j,\n",
       "       193.9300171 +0.j, 827.03698377+0.j, 690.1913909 +0.j,\n",
       "       203.43927386+0.j, 505.45389548+0.j, 795.08411285+0.j,\n",
       "       403.65880929+0.j, 950.63613659+0.j, 998.74492503+0.j,\n",
       "       531.23141942+0.j, 875.32093197+0.j, 485.80377805+0.j,\n",
       "       275.26950681+0.j, 944.63680802+0.j, 244.23753631+0.j,\n",
       "       276.44933701+0.j, 742.95655165+0.j, 686.64125621+0.j,\n",
       "       974.0032684 +0.j, 351.2920594 +0.j, 373.40633633+0.j,\n",
       "       429.49870718+0.j,  23.71428865+0.j, 136.94367489+0.j,\n",
       "       464.84552026+0.j, 828.86561709+0.j, 753.99998213+0.j,\n",
       "       833.5249114 +0.j, 362.33738467+0.j, 293.93189866+0.j,\n",
       "       615.66125089+0.j, 855.06458143+0.j, 561.16911479+0.j,\n",
       "       212.6261282 +0.j, 234.74015125+0.j, 604.99639923+0.j,\n",
       "       731.97892777+0.j, 646.73903181+0.j, 444.52499083+0.j,\n",
       "       882.43316819+0.j, 506.31198339+0.j, 387.16631709+0.j,\n",
       "       956.75365769+0.j, 476.7332489 +0.j, 642.06285296+0.j,\n",
       "       214.4125193 +0.j, 976.84071275+0.j])"
      ]
     },
     "execution_count": 160,
     "metadata": {},
     "output_type": "execute_result"
    }
   ],
   "source": [
    "xi_opt = terminator(max_iter, time_steps, total_time, epsilon)\n",
    "xi_opt"
   ]
  },
  {
   "cell_type": "code",
   "execution_count": 161,
   "metadata": {
    "ExecuteTime": {
     "end_time": "2019-01-30T08:10:38.754230Z",
     "start_time": "2019-01-30T08:10:38.710648Z"
    }
   },
   "outputs": [
    {
     "data": {
      "text/plain": [
       "-3.093487139195682"
      ]
     },
     "execution_count": 161,
     "metadata": {},
     "output_type": "execute_result"
    }
   ],
   "source": [
    "F(xi_opt, dt)"
   ]
  },
  {
   "cell_type": "code",
   "execution_count": 162,
   "metadata": {
    "ExecuteTime": {
     "end_time": "2019-01-30T08:10:39.484119Z",
     "start_time": "2019-01-30T08:10:39.479120Z"
    }
   },
   "outputs": [
    {
     "data": {
      "text/plain": [
       "10"
      ]
     },
     "execution_count": 162,
     "metadata": {},
     "output_type": "execute_result"
    }
   ],
   "source": [
    "max_iter"
   ]
  },
  {
   "cell_type": "code",
   "execution_count": 163,
   "metadata": {
    "ExecuteTime": {
     "end_time": "2019-01-30T08:10:40.102785Z",
     "start_time": "2019-01-30T08:10:40.095626Z"
    }
   },
   "outputs": [
    {
     "data": {
      "text/latex": [
       "Quantum object: dims = [[2, 2], [2, 2]], shape = (4, 4), type = oper, isherm = True\\begin{equation*}\\left(\\begin{array}{*{11}c}0.0 & 0.0 & 0.0 & 1.0\\\\0.0 & 0.0 & 1.0 & 0.0\\\\0.0 & 1.0 & 0.0 & 0.0\\\\1.0 & 0.0 & 0.0 & 0.0\\\\\\end{array}\\right)\\end{equation*}"
      ],
      "text/plain": [
       "Quantum object: dims = [[2, 2], [2, 2]], shape = (4, 4), type = oper, isherm = True\n",
       "Qobj data =\n",
       "[[0. 0. 0. 1.]\n",
       " [0. 0. 1. 0.]\n",
       " [0. 1. 0. 0.]\n",
       " [1. 0. 0. 0.]]"
      ]
     },
     "execution_count": 163,
     "metadata": {},
     "output_type": "execute_result"
    }
   ],
   "source": [
    "T"
   ]
  },
  {
   "cell_type": "code",
   "execution_count": 164,
   "metadata": {
    "ExecuteTime": {
     "end_time": "2019-01-30T08:10:40.961164Z",
     "start_time": "2019-01-30T08:10:40.913172Z"
    }
   },
   "outputs": [
    {
     "data": {
      "text/latex": [
       "Quantum object: dims = [[2, 2], [2, 2]], shape = (4, 4), type = oper, isherm = False\\begin{equation*}\\left(\\begin{array}{*{11}c}0.531 & (-0.069-1.394\\times10^{-04}j) & (-0.069+1.394\\times10^{-04}j) & 0.469\\\\(0.069-8.945\\times10^{-04}j) & (0.043-3.006\\times10^{-04}j) & (0.020+5.294\\times10^{-04}j) & (-0.069+8.945\\times10^{-04}j)\\\\(0.069+8.945\\times10^{-04}j) & (0.020-5.294\\times10^{-04}j) & (0.043+3.006\\times10^{-04}j) & (-0.069-8.945\\times10^{-04}j)\\\\0.469 & (0.069+1.394\\times10^{-04}j) & (0.069-1.394\\times10^{-04}j) & 0.531\\\\\\end{array}\\right)\\end{equation*}"
      ],
      "text/plain": [
       "Quantum object: dims = [[2, 2], [2, 2]], shape = (4, 4), type = oper, isherm = False\n",
       "Qobj data =\n",
       "[[ 0.53142341+0.j         -0.06904032-0.0001394j  -0.06904032+0.0001394j\n",
       "   0.46857659+0.j        ]\n",
       " [ 0.06921856-0.00089447j  0.04276297-0.00030057j  0.01970634+0.00052942j\n",
       "  -0.06921856+0.00089447j]\n",
       " [ 0.06921856+0.00089447j  0.01970634-0.00052942j  0.04276297+0.00030057j\n",
       "  -0.06921856-0.00089447j]\n",
       " [ 0.46857659+0.j          0.06904032+0.0001394j   0.06904032-0.0001394j\n",
       "   0.53142341+0.j        ]]"
      ]
     },
     "execution_count": 164,
     "metadata": {},
     "output_type": "execute_result"
    }
   ],
   "source": [
    "L_full_maker(xi_opt, dt)"
   ]
  },
  {
   "cell_type": "code",
   "execution_count": 165,
   "metadata": {
    "ExecuteTime": {
     "end_time": "2019-01-30T08:10:42.313428Z",
     "start_time": "2019-01-30T08:10:41.816860Z"
    }
   },
   "outputs": [
    {
     "data": {
      "text/plain": [
       "(<Figure size 576x432 with 2 Axes>,\n",
       " <matplotlib.axes._subplots.AxesSubplot at 0x1a1cceb748>)"
      ]
     },
     "execution_count": 165,
     "metadata": {},
     "output_type": "execute_result"
    },
    {
     "data": {
      "image/png": "[encoded data removed]",
      "text/plain": [
       "<Figure size 576x432 with 2 Axes>"
      ]
     },
     "metadata": {},
     "output_type": "display_data"
    }
   ],
   "source": [
    "hinton(L_full_maker(xi_opt, dt))"
   ]
  },
  {
   "cell_type": "code",
   "execution_count": null,
   "metadata": {},
   "outputs": [],
   "source": []
  },
  {
   "cell_type": "markdown",
   "metadata": {},
   "source": [
    "### Try2"
   ]
  },
  {
   "cell_type": "code",
   "execution_count": 166,
   "metadata": {
    "ExecuteTime": {
     "end_time": "2019-01-30T08:10:30.462895Z",
     "start_time": "2019-01-30T08:10:30.440752Z"
    }
   },
   "outputs": [],
   "source": [
    "total_time = 3*pi/omega_1\n",
    "epsilon = 10**(-6)\n",
    "max_iter = 20#10**4#1000#100#50#20\n",
    "time_steps = 20\n",
    "dt = total_time/time_steps"
   ]
  },
  {
   "cell_type": "code",
   "execution_count": 167,
   "metadata": {
    "ExecuteTime": {
     "end_time": "2019-01-30T08:10:32.538099Z",
     "start_time": "2019-01-30T08:10:31.776512Z"
    }
   },
   "outputs": [
    {
     "data": {
      "text/plain": [
       "array([342.52193884+0.j, 576.77794742+0.j, 355.13470186+0.j,\n",
       "       793.75389646+0.j, 564.62396905+0.j, 885.87738677+0.j,\n",
       "        30.3802794 +0.j, 992.11061091+0.j, 833.60121896+0.j,\n",
       "       253.27738666+0.j, 580.85214271+0.j,  48.52283953+0.j,\n",
       "       898.05463007+0.j, 248.83306701+0.j, 134.86151877+0.j,\n",
       "       225.30912381+0.j,  41.78512548+0.j, 605.25231577+0.j,\n",
       "       143.98835628+0.j, 585.01250643+0.j])"
      ]
     },
     "execution_count": 167,
     "metadata": {},
     "output_type": "execute_result"
    }
   ],
   "source": [
    "xi_opt = terminator(max_iter, time_steps, total_time, epsilon)\n",
    "xi_opt"
   ]
  },
  {
   "cell_type": "code",
   "execution_count": 168,
   "metadata": {
    "ExecuteTime": {
     "end_time": "2019-01-30T08:10:38.754230Z",
     "start_time": "2019-01-30T08:10:38.710648Z"
    }
   },
   "outputs": [
    {
     "data": {
      "text/plain": [
       "-3.093008809539941"
      ]
     },
     "execution_count": 168,
     "metadata": {},
     "output_type": "execute_result"
    }
   ],
   "source": [
    "F(xi_opt, dt)"
   ]
  },
  {
   "cell_type": "code",
   "execution_count": 169,
   "metadata": {
    "ExecuteTime": {
     "end_time": "2019-01-30T08:10:39.484119Z",
     "start_time": "2019-01-30T08:10:39.479120Z"
    }
   },
   "outputs": [
    {
     "data": {
      "text/plain": [
       "20"
      ]
     },
     "execution_count": 169,
     "metadata": {},
     "output_type": "execute_result"
    }
   ],
   "source": [
    "max_iter"
   ]
  },
  {
   "cell_type": "code",
   "execution_count": 170,
   "metadata": {
    "ExecuteTime": {
     "end_time": "2019-01-30T08:10:40.102785Z",
     "start_time": "2019-01-30T08:10:40.095626Z"
    }
   },
   "outputs": [
    {
     "data": {
      "text/latex": [
       "Quantum object: dims = [[2, 2], [2, 2]], shape = (4, 4), type = oper, isherm = True\\begin{equation*}\\left(\\begin{array}{*{11}c}0.0 & 0.0 & 0.0 & 1.0\\\\0.0 & 0.0 & 1.0 & 0.0\\\\0.0 & 1.0 & 0.0 & 0.0\\\\1.0 & 0.0 & 0.0 & 0.0\\\\\\end{array}\\right)\\end{equation*}"
      ],
      "text/plain": [
       "Quantum object: dims = [[2, 2], [2, 2]], shape = (4, 4), type = oper, isherm = True\n",
       "Qobj data =\n",
       "[[0. 0. 0. 1.]\n",
       " [0. 0. 1. 0.]\n",
       " [0. 1. 0. 0.]\n",
       " [1. 0. 0. 0.]]"
      ]
     },
     "execution_count": 170,
     "metadata": {},
     "output_type": "execute_result"
    }
   ],
   "source": [
    "T"
   ]
  },
  {
   "cell_type": "code",
   "execution_count": 171,
   "metadata": {
    "ExecuteTime": {
     "end_time": "2019-01-30T08:10:40.961164Z",
     "start_time": "2019-01-30T08:10:40.913172Z"
    }
   },
   "outputs": [
    {
     "data": {
      "text/latex": [
       "Quantum object: dims = [[2, 2], [2, 2]], shape = (4, 4), type = oper, isherm = False\\begin{equation*}\\left(\\begin{array}{*{11}c}0.533 & (-0.068-6.809\\times10^{-04}j) & (-0.068+6.809\\times10^{-04}j) & 0.467\\\\(0.068-0.003j) & (0.045-0.002j) & (0.022+3.749\\times10^{-04}j) & (-0.068+0.003j)\\\\(0.068+0.003j) & (0.022-3.749\\times10^{-04}j) & (0.045+0.002j) & (-0.068-0.003j)\\\\0.467 & (0.068+6.809\\times10^{-04}j) & (0.068-6.809\\times10^{-04}j) & 0.533\\\\\\end{array}\\right)\\end{equation*}"
      ],
      "text/plain": [
       "Quantum object: dims = [[2, 2], [2, 2]], shape = (4, 4), type = oper, isherm = False\n",
       "Qobj data =\n",
       "[[ 0.53328903+0.j         -0.06829711-0.00068087j -0.06829711+0.00068087j\n",
       "   0.46671097+0.j        ]\n",
       " [ 0.06802438-0.00270924j  0.0446787 -0.00235045j  0.02168055+0.00037487j\n",
       "  -0.06802438+0.00270924j]\n",
       " [ 0.06802438+0.00270924j  0.02168055-0.00037487j  0.0446787 +0.00235045j\n",
       "  -0.06802438-0.00270924j]\n",
       " [ 0.46671097+0.j          0.06829711+0.00068087j  0.06829711-0.00068087j\n",
       "   0.53328903+0.j        ]]"
      ]
     },
     "execution_count": 171,
     "metadata": {},
     "output_type": "execute_result"
    }
   ],
   "source": [
    "L_full_maker(xi_opt, dt)"
   ]
  },
  {
   "cell_type": "code",
   "execution_count": 172,
   "metadata": {
    "ExecuteTime": {
     "end_time": "2019-01-30T08:10:42.313428Z",
     "start_time": "2019-01-30T08:10:41.816860Z"
    }
   },
   "outputs": [
    {
     "data": {
      "text/plain": [
       "(<Figure size 576x432 with 2 Axes>,\n",
       " <matplotlib.axes._subplots.AxesSubplot at 0x1a1cd91cf8>)"
      ]
     },
     "execution_count": 172,
     "metadata": {},
     "output_type": "execute_result"
    },
    {
     "data": {
      "image/png": "[encoded data removed]",
      "text/plain": [
       "<Figure size 576x432 with 2 Axes>"
      ]
     },
     "metadata": {},
     "output_type": "display_data"
    }
   ],
   "source": [
    "hinton(L_full_maker(xi_opt, dt))"
   ]
  },
  {
   "cell_type": "markdown",
   "metadata": {},
   "source": [
    "### Try2"
   ]
  },
  {
   "cell_type": "code",
   "execution_count": 173,
   "metadata": {
    "ExecuteTime": {
     "end_time": "2019-01-30T08:10:30.462895Z",
     "start_time": "2019-01-30T08:10:30.440752Z"
    }
   },
   "outputs": [],
   "source": [
    "total_time = 3*pi/omega_1\n",
    "epsilon = 10**(-6)\n",
    "max_iter = 100#10**4#1000#100#50#20\n",
    "time_steps = 20\n",
    "dt = total_time/time_steps"
   ]
  },
  {
   "cell_type": "code",
   "execution_count": 174,
   "metadata": {
    "ExecuteTime": {
     "end_time": "2019-01-30T08:10:32.538099Z",
     "start_time": "2019-01-30T08:10:31.776512Z"
    }
   },
   "outputs": [
    {
     "data": {
      "text/plain": [
       "array([570.51280652+0.j, 868.22303992+0.j, 111.23907188+0.j,\n",
       "       123.34225266+0.j, 490.43449904+0.j, 909.31457011+0.j,\n",
       "       552.2498877 +0.j, 508.17936618+0.j, 730.23977565+0.j,\n",
       "       152.51215613+0.j, 227.73955221+0.j, 391.91028554+0.j,\n",
       "        87.76406558+0.j, 379.71004298+0.j, 802.47923107+0.j,\n",
       "       434.98781492+0.j, 973.79087537+0.j, 249.97372084+0.j,\n",
       "        53.4733104 +0.j, 816.28703018+0.j])"
      ]
     },
     "execution_count": 174,
     "metadata": {},
     "output_type": "execute_result"
    }
   ],
   "source": [
    "xi_opt = terminator(max_iter, time_steps, total_time, epsilon)\n",
    "xi_opt"
   ]
  },
  {
   "cell_type": "code",
   "execution_count": 175,
   "metadata": {
    "ExecuteTime": {
     "end_time": "2019-01-30T08:10:38.754230Z",
     "start_time": "2019-01-30T08:10:38.710648Z"
    }
   },
   "outputs": [
    {
     "data": {
      "text/plain": [
       "-3.0923592151047323"
      ]
     },
     "execution_count": 175,
     "metadata": {},
     "output_type": "execute_result"
    }
   ],
   "source": [
    "F(xi_opt, dt)"
   ]
  },
  {
   "cell_type": "code",
   "execution_count": 176,
   "metadata": {
    "ExecuteTime": {
     "end_time": "2019-01-30T08:10:39.484119Z",
     "start_time": "2019-01-30T08:10:39.479120Z"
    }
   },
   "outputs": [
    {
     "data": {
      "text/plain": [
       "100"
      ]
     },
     "execution_count": 176,
     "metadata": {},
     "output_type": "execute_result"
    }
   ],
   "source": [
    "max_iter"
   ]
  },
  {
   "cell_type": "code",
   "execution_count": 177,
   "metadata": {
    "ExecuteTime": {
     "end_time": "2019-01-30T08:10:40.102785Z",
     "start_time": "2019-01-30T08:10:40.095626Z"
    }
   },
   "outputs": [
    {
     "data": {
      "text/latex": [
       "Quantum object: dims = [[2, 2], [2, 2]], shape = (4, 4), type = oper, isherm = True\\begin{equation*}\\left(\\begin{array}{*{11}c}0.0 & 0.0 & 0.0 & 1.0\\\\0.0 & 0.0 & 1.0 & 0.0\\\\0.0 & 1.0 & 0.0 & 0.0\\\\1.0 & 0.0 & 0.0 & 0.0\\\\\\end{array}\\right)\\end{equation*}"
      ],
      "text/plain": [
       "Quantum object: dims = [[2, 2], [2, 2]], shape = (4, 4), type = oper, isherm = True\n",
       "Qobj data =\n",
       "[[0. 0. 0. 1.]\n",
       " [0. 0. 1. 0.]\n",
       " [0. 1. 0. 0.]\n",
       " [1. 0. 0. 0.]]"
      ]
     },
     "execution_count": 177,
     "metadata": {},
     "output_type": "execute_result"
    }
   ],
   "source": [
    "T"
   ]
  },
  {
   "cell_type": "code",
   "execution_count": 178,
   "metadata": {
    "ExecuteTime": {
     "end_time": "2019-01-30T08:10:40.961164Z",
     "start_time": "2019-01-30T08:10:40.913172Z"
    }
   },
   "outputs": [
    {
     "data": {
      "text/latex": [
       "Quantum object: dims = [[2, 2], [2, 2]], shape = (4, 4), type = oper, isherm = False\\begin{equation*}\\left(\\begin{array}{*{11}c}0.467 & (-0.068-2.576\\times10^{-04}j) & (-0.068+2.576\\times10^{-04}j) & 0.533\\\\(0.068-1.307\\times10^{-04}j) & (-0.021-3.756\\times10^{-04}j) & (-0.044+0.001j) & (-0.068+1.307\\times10^{-04}j)\\\\(0.068+1.307\\times10^{-04}j) & (-0.044-0.001j) & (-0.021+3.756\\times10^{-04}j) & (-0.068-1.307\\times10^{-04}j)\\\\0.533 & (0.068+2.576\\times10^{-04}j) & (0.068-2.576\\times10^{-04}j) & 0.467\\\\\\end{array}\\right)\\end{equation*}"
      ],
      "text/plain": [
       "Quantum object: dims = [[2, 2], [2, 2]], shape = (4, 4), type = oper, isherm = False\n",
       "Qobj data =\n",
       "[[ 0.46694228+0.j         -0.06836466-0.00025764j -0.06836466+0.00025764j\n",
       "   0.53305772+0.j        ]\n",
       " [ 0.06833323-0.00013068j -0.02143934-0.00037561j -0.0444908 +0.00145757j\n",
       "  -0.06833323+0.00013068j]\n",
       " [ 0.06833323+0.00013068j -0.0444908 -0.00145757j -0.02143934+0.00037561j\n",
       "  -0.06833323-0.00013068j]\n",
       " [ 0.53305772+0.j          0.06836466+0.00025764j  0.06836466-0.00025764j\n",
       "   0.46694228+0.j        ]]"
      ]
     },
     "execution_count": 178,
     "metadata": {},
     "output_type": "execute_result"
    }
   ],
   "source": [
    "L_full_maker(xi_opt, dt)"
   ]
  },
  {
   "cell_type": "code",
   "execution_count": 179,
   "metadata": {
    "ExecuteTime": {
     "end_time": "2019-01-30T08:10:42.313428Z",
     "start_time": "2019-01-30T08:10:41.816860Z"
    }
   },
   "outputs": [
    {
     "data": {
      "text/plain": [
       "(<Figure size 576x432 with 2 Axes>,\n",
       " <matplotlib.axes._subplots.AxesSubplot at 0x1a1d143fd0>)"
      ]
     },
     "execution_count": 179,
     "metadata": {},
     "output_type": "execute_result"
    },
    {
     "data": {
      "image/png": "[encoded data removed]",
      "text/plain": [
       "<Figure size 576x432 with 2 Axes>"
      ]
     },
     "metadata": {},
     "output_type": "display_data"
    }
   ],
   "source": [
    "hinton(L_full_maker(xi_opt, dt))"
   ]
  },
  {
   "cell_type": "markdown",
   "metadata": {},
   "source": [
    "### Try2"
   ]
  },
  {
   "cell_type": "code",
   "execution_count": 180,
   "metadata": {
    "ExecuteTime": {
     "end_time": "2019-01-30T08:10:30.462895Z",
     "start_time": "2019-01-30T08:10:30.440752Z"
    }
   },
   "outputs": [],
   "source": [
    "total_time = 3*pi/omega_1\n",
    "epsilon = 10**(-6)\n",
    "max_iter = 100#10**4#1000#100#50#20\n",
    "time_steps = 200\n",
    "dt = total_time/time_steps"
   ]
  },
  {
   "cell_type": "code",
   "execution_count": 181,
   "metadata": {
    "ExecuteTime": {
     "end_time": "2019-01-30T08:10:32.538099Z",
     "start_time": "2019-01-30T08:10:31.776512Z"
    }
   },
   "outputs": [
    {
     "data": {
      "text/plain": [
       "array([237.65466843+0.j, 508.24962726+0.j, 289.91025734+0.j,\n",
       "       263.03675497+0.j, 382.75909886+0.j, 758.18429588+0.j,\n",
       "       365.26722222+0.j, 993.35429492+0.j, 925.60363856+0.j,\n",
       "       308.1794209 +0.j, 436.35476602+0.j,  32.12798132+0.j,\n",
       "       668.5762946 +0.j, 688.15843194+0.j, 665.56724616+0.j,\n",
       "       676.73109552+0.j, 713.01469393+0.j, 327.27127681+0.j,\n",
       "       198.96422291+0.j, 198.2605721 +0.j, 653.65498842+0.j,\n",
       "       558.14166701+0.j,  58.59023271+0.j, 467.74301189+0.j,\n",
       "       170.59372499+0.j, 905.93488418+0.j, 890.04063444+0.j,\n",
       "        16.16094799+0.j, 234.06617656+0.j, 948.18600643+0.j,\n",
       "       629.58057007+0.j, 714.52187161+0.j,  89.33018584+0.j,\n",
       "       625.35399925+0.j, 394.52537054+0.j, 755.03151582+0.j,\n",
       "       824.99546084+0.j, 718.10675758+0.j, 127.50000754+0.j,\n",
       "        34.84936943+0.j, 149.12847563+0.j, 602.2268755 +0.j,\n",
       "       812.60901946+0.j, 458.72292729+0.j, 331.45798281+0.j,\n",
       "       715.45750023+0.j, 136.15487949+0.j, 835.95897567+0.j,\n",
       "       307.4473213 +0.j, 868.41943628+0.j, 374.47087838+0.j,\n",
       "       553.87395506+0.j, 527.8529192 +0.j, 888.5527743 +0.j,\n",
       "       130.2802592 +0.j, 407.26159435+0.j, 675.65383146+0.j,\n",
       "       790.17043604+0.j, 722.39686294+0.j, 293.33986558+0.j,\n",
       "       157.50722439+0.j, 477.04856869+0.j, 511.00875936+0.j,\n",
       "       218.6139066 +0.j, 554.48349804+0.j, 203.43924632+0.j,\n",
       "       861.87262248+0.j, 507.22170977+0.j, 260.36314419+0.j,\n",
       "       475.10473295+0.j, 262.19253382+0.j, 578.96330059+0.j,\n",
       "       683.99627474+0.j, 673.35387492+0.j, 224.39974096+0.j,\n",
       "       376.30250063+0.j, 246.32075353+0.j, 198.67473245+0.j,\n",
       "       761.81456669+0.j, 365.40572747+0.j, 926.22607013+0.j,\n",
       "       710.74548663+0.j,  48.10126038+0.j, 887.46520598+0.j,\n",
       "       816.03236379+0.j, 759.11006285+0.j, 312.58421952+0.j,\n",
       "       500.50170968+0.j, 631.55802949+0.j,  85.83362888+0.j,\n",
       "       797.19681049+0.j, 435.5758265 +0.j, 615.11619488+0.j,\n",
       "       977.52299286+0.j, 883.87379352+0.j, 266.71052458+0.j,\n",
       "       270.87020884+0.j, 842.4382584 +0.j, 350.14782847+0.j,\n",
       "       393.29885351+0.j, 838.93584888+0.j, 833.62488077+0.j,\n",
       "       417.28918847+0.j, 609.87827722+0.j, 981.12283812+0.j,\n",
       "       330.07322476+0.j, 953.39100957+0.j, 375.51088496+0.j,\n",
       "       929.25204173+0.j, 776.49569107+0.j, 212.84062284+0.j,\n",
       "       375.47903287+0.j, 431.22493732+0.j, 326.60148341+0.j,\n",
       "       874.28702814+0.j,  67.83057702+0.j, 392.11166991+0.j,\n",
       "       365.70131016+0.j, 176.75662729+0.j, 959.98187612+0.j,\n",
       "       959.24159826+0.j, 550.45631801+0.j, 130.49519986+0.j,\n",
       "       763.163948  +0.j, 846.52039369+0.j, 741.89591165+0.j,\n",
       "       472.46530565+0.j, 755.4047659 +0.j, 587.62051806+0.j,\n",
       "       928.16800847+0.j, 659.15179078+0.j, 681.94258371+0.j,\n",
       "       489.25694451+0.j, 430.92206374+0.j, 438.80938389+0.j,\n",
       "       236.33491065+0.j, 100.6805941 +0.j, 501.48647927+0.j,\n",
       "       256.6735473 +0.j, 860.04612234+0.j,  73.30049083+0.j,\n",
       "        58.19990778+0.j, 371.09816443+0.j, 819.47445372+0.j,\n",
       "       808.38948324+0.j, 375.29858426+0.j, 871.50050783+0.j,\n",
       "       707.32469071+0.j, 426.57754049+0.j, 520.00187596+0.j,\n",
       "       854.21823036+0.j, 824.66945592+0.j, 695.94948331+0.j,\n",
       "       996.01246445+0.j, 203.19629298+0.j,  26.81304722+0.j,\n",
       "       858.62545385+0.j,  78.44004844+0.j, 200.60381984+0.j,\n",
       "       941.98349893+0.j, 189.95640477+0.j,  78.80499277+0.j,\n",
       "       652.4086238 +0.j, 994.28682474+0.j, 352.16572044+0.j,\n",
       "       639.51242473+0.j,  40.17728675+0.j, 163.95360034+0.j,\n",
       "       440.89906909+0.j, 941.30654031+0.j, 367.20415059+0.j,\n",
       "       404.80193454+0.j, 514.47658112+0.j, 281.71172011+0.j,\n",
       "       522.20757005+0.j, 620.83084985+0.j, 241.69085374+0.j,\n",
       "       504.84745411+0.j, 787.97118361+0.j, 305.89085183+0.j,\n",
       "       238.63981008+0.j, 934.74713774+0.j, 849.4866761 +0.j,\n",
       "       555.69633179+0.j,  25.18249381+0.j, 870.73005481+0.j,\n",
       "       202.19185207+0.j, 326.71250442+0.j, 809.42087828+0.j,\n",
       "       753.24689889+0.j, 590.97482331+0.j, 689.37767348+0.j,\n",
       "        60.28920656+0.j, 941.31992666+0.j, 554.28241821+0.j,\n",
       "       549.16906982+0.j, 711.65216309+0.j, 233.88212497+0.j,\n",
       "       287.7443748 +0.j, 570.93960196+0.j])"
      ]
     },
     "execution_count": 181,
     "metadata": {},
     "output_type": "execute_result"
    }
   ],
   "source": [
    "xi_opt = terminator(max_iter, time_steps, total_time, epsilon)\n",
    "xi_opt"
   ]
  },
  {
   "cell_type": "code",
   "execution_count": 182,
   "metadata": {
    "ExecuteTime": {
     "end_time": "2019-01-30T08:10:38.754230Z",
     "start_time": "2019-01-30T08:10:38.710648Z"
    }
   },
   "outputs": [
    {
     "data": {
      "text/plain": [
       "-3.09202072847237"
      ]
     },
     "execution_count": 182,
     "metadata": {},
     "output_type": "execute_result"
    }
   ],
   "source": [
    "F(xi_opt, dt)"
   ]
  },
  {
   "cell_type": "code",
   "execution_count": 183,
   "metadata": {
    "ExecuteTime": {
     "end_time": "2019-01-30T08:10:39.484119Z",
     "start_time": "2019-01-30T08:10:39.479120Z"
    }
   },
   "outputs": [
    {
     "data": {
      "text/plain": [
       "100"
      ]
     },
     "execution_count": 183,
     "metadata": {},
     "output_type": "execute_result"
    }
   ],
   "source": [
    "max_iter"
   ]
  },
  {
   "cell_type": "code",
   "execution_count": 184,
   "metadata": {
    "ExecuteTime": {
     "end_time": "2019-01-30T08:10:40.102785Z",
     "start_time": "2019-01-30T08:10:40.095626Z"
    }
   },
   "outputs": [
    {
     "data": {
      "text/latex": [
       "Quantum object: dims = [[2, 2], [2, 2]], shape = (4, 4), type = oper, isherm = True\\begin{equation*}\\left(\\begin{array}{*{11}c}0.0 & 0.0 & 0.0 & 1.0\\\\0.0 & 0.0 & 1.0 & 0.0\\\\0.0 & 1.0 & 0.0 & 0.0\\\\1.0 & 0.0 & 0.0 & 0.0\\\\\\end{array}\\right)\\end{equation*}"
      ],
      "text/plain": [
       "Quantum object: dims = [[2, 2], [2, 2]], shape = (4, 4), type = oper, isherm = True\n",
       "Qobj data =\n",
       "[[0. 0. 0. 1.]\n",
       " [0. 0. 1. 0.]\n",
       " [0. 1. 0. 0.]\n",
       " [1. 0. 0. 0.]]"
      ]
     },
     "execution_count": 184,
     "metadata": {},
     "output_type": "execute_result"
    }
   ],
   "source": [
    "T"
   ]
  },
  {
   "cell_type": "code",
   "execution_count": 185,
   "metadata": {
    "ExecuteTime": {
     "end_time": "2019-01-30T08:10:40.961164Z",
     "start_time": "2019-01-30T08:10:40.913172Z"
    }
   },
   "outputs": [
    {
     "data": {
      "text/latex": [
       "Quantum object: dims = [[2, 2], [2, 2]], shape = (4, 4), type = oper, isherm = False\\begin{equation*}\\left(\\begin{array}{*{11}c}0.478 & (-0.072+0.007j) & (-0.072-0.007j) & 0.522\\\\(0.073+0.002j) & (-0.011-0.006j) & (-0.033-0.009j) & (-0.073-0.002j)\\\\(0.073-0.002j) & (-0.033+0.009j) & (-0.011+0.006j) & (-0.073+0.002j)\\\\0.522 & (0.072-0.007j) & (0.072+0.007j) & 0.478\\\\\\end{array}\\right)\\end{equation*}"
      ],
      "text/plain": [
       "Quantum object: dims = [[2, 2], [2, 2]], shape = (4, 4), type = oper, isherm = False\n",
       "Qobj data =\n",
       "[[ 0.47831394+0.j         -0.07182709+0.00733277j -0.07182709-0.00733277j\n",
       "   0.52168606+0.j        ]\n",
       " [ 0.07250759+0.00234761j -0.01109665-0.00581203j -0.03308223-0.00863632j\n",
       "  -0.07250759-0.00234761j]\n",
       " [ 0.07250759-0.00234761j -0.03308223+0.00863632j -0.01109665+0.00581203j\n",
       "  -0.07250759+0.00234761j]\n",
       " [ 0.52168606+0.j          0.07182709-0.00733277j  0.07182709+0.00733277j\n",
       "   0.47831394+0.j        ]]"
      ]
     },
     "execution_count": 185,
     "metadata": {},
     "output_type": "execute_result"
    }
   ],
   "source": [
    "L_full_maker(xi_opt, dt)"
   ]
  },
  {
   "cell_type": "code",
   "execution_count": 186,
   "metadata": {
    "ExecuteTime": {
     "end_time": "2019-01-30T08:10:42.313428Z",
     "start_time": "2019-01-30T08:10:41.816860Z"
    }
   },
   "outputs": [
    {
     "data": {
      "text/plain": [
       "(<Figure size 576x432 with 2 Axes>,\n",
       " <matplotlib.axes._subplots.AxesSubplot at 0x1a1cc6ca58>)"
      ]
     },
     "execution_count": 186,
     "metadata": {},
     "output_type": "execute_result"
    },
    {
     "data": {
      "image/png": "[encoded data removed]",
      "text/plain": [
       "<Figure size 576x432 with 2 Axes>"
      ]
     },
     "metadata": {},
     "output_type": "display_data"
    }
   ],
   "source": [
    "hinton(L_full_maker(xi_opt, dt))"
   ]
  },
  {
   "cell_type": "markdown",
   "metadata": {},
   "source": [
    "### Try2"
   ]
  },
  {
   "cell_type": "code",
   "execution_count": 187,
   "metadata": {
    "ExecuteTime": {
     "end_time": "2019-01-30T08:10:30.462895Z",
     "start_time": "2019-01-30T08:10:30.440752Z"
    }
   },
   "outputs": [],
   "source": [
    "total_time = 3*pi/omega_1\n",
    "epsilon = (0.1*2*pi)/(total_time)#10**(-6)\n",
    "max_iter = 10#10**4#1000#100#50#20\n",
    "time_steps = 20\n",
    "dt = total_time/time_steps"
   ]
  },
  {
   "cell_type": "code",
   "execution_count": 188,
   "metadata": {
    "ExecuteTime": {
     "end_time": "2019-01-30T08:10:32.538099Z",
     "start_time": "2019-01-30T08:10:31.776512Z"
    }
   },
   "outputs": [
    {
     "data": {
      "text/plain": [
       "array([419.61730874+0.j, 436.11787593+0.j, 795.23025219+0.j,\n",
       "       668.89545914+0.j, 206.0918092 +0.j, 224.24314024+0.j,\n",
       "       544.06760369+0.j, 188.17593442+0.j, 412.89129216+0.j,\n",
       "       998.35792598+0.j, 225.69626822+0.j, 408.61085666+0.j,\n",
       "       265.36740427+0.j,  47.5006755 +0.j,  74.62748102+0.j,\n",
       "        55.91104361+0.j, 490.12711559+0.j, 107.25434633+0.j,\n",
       "       477.33861427+0.j, 539.7425936 +0.j])"
      ]
     },
     "execution_count": 188,
     "metadata": {},
     "output_type": "execute_result"
    }
   ],
   "source": [
    "xi_opt = terminator(max_iter, time_steps, total_time, epsilon)\n",
    "xi_opt"
   ]
  },
  {
   "cell_type": "code",
   "execution_count": 190,
   "metadata": {
    "ExecuteTime": {
     "end_time": "2019-01-30T08:10:38.754230Z",
     "start_time": "2019-01-30T08:10:38.710648Z"
    }
   },
   "outputs": [
    {
     "data": {
      "text/plain": [
       "-3.0922315020183513"
      ]
     },
     "execution_count": 190,
     "metadata": {},
     "output_type": "execute_result"
    }
   ],
   "source": [
    "F(xi_opt, dt)"
   ]
  },
  {
   "cell_type": "code",
   "execution_count": 191,
   "metadata": {
    "ExecuteTime": {
     "end_time": "2019-01-30T08:10:39.484119Z",
     "start_time": "2019-01-30T08:10:39.479120Z"
    }
   },
   "outputs": [
    {
     "data": {
      "text/plain": [
       "10"
      ]
     },
     "execution_count": 191,
     "metadata": {},
     "output_type": "execute_result"
    }
   ],
   "source": [
    "max_iter"
   ]
  },
  {
   "cell_type": "code",
   "execution_count": 192,
   "metadata": {
    "ExecuteTime": {
     "end_time": "2019-01-30T08:10:40.102785Z",
     "start_time": "2019-01-30T08:10:40.095626Z"
    }
   },
   "outputs": [
    {
     "data": {
      "text/latex": [
       "Quantum object: dims = [[2, 2], [2, 2]], shape = (4, 4), type = oper, isherm = True\\begin{equation*}\\left(\\begin{array}{*{11}c}0.0 & 0.0 & 0.0 & 1.0\\\\0.0 & 0.0 & 1.0 & 0.0\\\\0.0 & 1.0 & 0.0 & 0.0\\\\1.0 & 0.0 & 0.0 & 0.0\\\\\\end{array}\\right)\\end{equation*}"
      ],
      "text/plain": [
       "Quantum object: dims = [[2, 2], [2, 2]], shape = (4, 4), type = oper, isherm = True\n",
       "Qobj data =\n",
       "[[0. 0. 0. 1.]\n",
       " [0. 0. 1. 0.]\n",
       " [0. 1. 0. 0.]\n",
       " [1. 0. 0. 0.]]"
      ]
     },
     "execution_count": 192,
     "metadata": {},
     "output_type": "execute_result"
    }
   ],
   "source": [
    "T"
   ]
  },
  {
   "cell_type": "code",
   "execution_count": 193,
   "metadata": {
    "ExecuteTime": {
     "end_time": "2019-01-30T08:10:40.961164Z",
     "start_time": "2019-01-30T08:10:40.913172Z"
    }
   },
   "outputs": [
    {
     "data": {
      "text/latex": [
       "Quantum object: dims = [[2, 2], [2, 2]], shape = (4, 4), type = oper, isherm = False\\begin{equation*}\\left(\\begin{array}{*{11}c}0.512 & (0.075-1.018\\times10^{-04}j) & (0.075+1.018\\times10^{-04}j) & 0.488\\\\(-0.075+0.001j) & (0.024-9.929\\times10^{-04}j) & (5.438\\times10^{-04}+7.319\\times10^{-04}j) & (0.075-0.001j)\\\\(-0.075-0.001j) & (5.438\\times10^{-04}-7.319\\times10^{-04}j) & (0.024+9.929\\times10^{-04}j) & (0.075+0.001j)\\\\0.488 & (-0.075+1.018\\times10^{-04}j) & (-0.075-1.018\\times10^{-04}j) & 0.512\\\\\\end{array}\\right)\\end{equation*}"
      ],
      "text/plain": [
       "Quantum object: dims = [[2, 2], [2, 2]], shape = (4, 4), type = oper, isherm = False\n",
       "Qobj data =\n",
       "[[ 0.51194689+0.j          0.07495828-0.00010176j  0.07495828+0.00010176j\n",
       "   0.48805311+0.j        ]\n",
       " [-0.07491794+0.00124167j  0.02358445-0.00099293j  0.00054376+0.00073191j\n",
       "   0.07491794-0.00124167j]\n",
       " [-0.07491794-0.00124167j  0.00054376-0.00073191j  0.02358445+0.00099293j\n",
       "   0.07491794+0.00124167j]\n",
       " [ 0.48805311+0.j         -0.07495828+0.00010176j -0.07495828-0.00010176j\n",
       "   0.51194689+0.j        ]]"
      ]
     },
     "execution_count": 193,
     "metadata": {},
     "output_type": "execute_result"
    }
   ],
   "source": [
    "L_full_maker(xi_opt, dt)"
   ]
  },
  {
   "cell_type": "code",
   "execution_count": 194,
   "metadata": {
    "ExecuteTime": {
     "end_time": "2019-01-30T08:10:42.313428Z",
     "start_time": "2019-01-30T08:10:41.816860Z"
    }
   },
   "outputs": [
    {
     "data": {
      "text/plain": [
       "(<Figure size 576x432 with 2 Axes>,\n",
       " <matplotlib.axes._subplots.AxesSubplot at 0x1a1d3c00b8>)"
      ]
     },
     "execution_count": 194,
     "metadata": {},
     "output_type": "execute_result"
    },
    {
     "data": {
      "image/png": "[encoded data removed]",
      "text/plain": [
       "<Figure size 576x432 with 2 Axes>"
      ]
     },
     "metadata": {},
     "output_type": "display_data"
    }
   ],
   "source": [
    "hinton(L_full_maker(xi_opt, dt))"
   ]
  },
  {
   "cell_type": "code",
   "execution_count": null,
   "metadata": {},
   "outputs": [],
   "source": []
  },
  {
   "cell_type": "code",
   "execution_count": null,
   "metadata": {},
   "outputs": [],
   "source": []
  },
  {
   "cell_type": "code",
   "execution_count": null,
   "metadata": {},
   "outputs": [],
   "source": []
  }
 ],
 "metadata": {
  "kernelspec": {
   "display_name": "Python 3",
   "language": "python",
   "name": "python3"
  },
  "language_info": {
   "codemirror_mode": {
    "name": "ipython",
    "version": 3
   },
   "file_extension": ".py",
   "mimetype": "text/x-python",
   "name": "python",
   "nbconvert_exporter": "python",
   "pygments_lexer": "ipython3",
   "version": "3.6.8"
  },
  "toc": {
   "base_numbering": 1,
   "nav_menu": {},
   "number_sections": true,
   "sideBar": true,
   "skip_h1_title": false,
   "title_cell": "Table of Contents",
   "title_sidebar": "Contents",
   "toc_cell": false,
   "toc_position": {},
   "toc_section_display": true,
   "toc_window_display": false
  }
 },
 "nbformat": 4,
 "nbformat_minor": 2
}
