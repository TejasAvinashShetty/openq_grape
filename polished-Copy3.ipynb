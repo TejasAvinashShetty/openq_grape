{
 "cells": [
  {
   "cell_type": "markdown",
   "metadata": {
    "heading_collapsed": true
   },
   "source": [
    "# Imports"
   ]
  },
  {
   "cell_type": "code",
   "execution_count": 1,
   "metadata": {
    "ExecuteTime": {
     "end_time": "2019-01-29T08:05:14.418662Z",
     "start_time": "2019-01-29T08:05:12.343080Z"
    },
    "hidden": true
   },
   "outputs": [],
   "source": [
    "\n",
    "# coding: utf-8\n",
    "\n",
    "# # Imports\n",
    "\n",
    "# ## Qutip imports 1\n",
    "\n",
    "# In[1]:\n",
    "\n",
    "\n",
    "from qutip.operators import sigmax, sigmay, sigmaz, identity\n",
    "# position, momentum, num, create, destroy, commutator, qeye \n",
    "from qutip.tensor import tensor\n",
    "from qutip.qip.gates import swap, rx, ry, rz\n",
    "from qutip.qobj import Qobj\n",
    "from qutip.visualization import hinton\n",
    "from qutip.visualization import matrix_histogram_complex, matrix_histogram\n",
    "from qutip.random_objects import rand_herm, rand_unitary, rand_dm\n",
    "\n",
    "\n",
    "# ## Qutip imports 2\n",
    "\n",
    "# In[2]:\n",
    "\n",
    "\n",
    "#from \n",
    "\n",
    "\n",
    "# ## Numpy imports \n",
    "\n",
    "# In[2]:\n",
    "\n",
    "\n",
    "from numpy import sin, cos, tan, real, imag,  log, conj\n",
    "from numpy import array, append, linspace, arange\n",
    "from numpy import add, sqrt, abs, dot\n",
    "from numpy.random import random, random_sample, rand, seed, RandomState\n",
    "from numpy import concatenate, trace, diag\n",
    "from numpy import ones, zeros, ones_like, zeros_like\n",
    "from numpy import amax, amin, nanmax, nanmin\n",
    "from numpy import outer, multiply\n",
    "# from numpy import pi\n",
    "\n",
    "\n",
    "# ## Scipy imports\n",
    "\n",
    "# In[17]:\n",
    "\n",
    "\n",
    "from scipy.integrate import ode, odeint, complex_ode\n",
    "from scipy.optimize import minimize\n",
    "from scipy.linalg import eigh, inv, norm, expm\n",
    "# from scipy.linalg import \n",
    "# from scipy import\n",
    "\n",
    "\n",
    "# ## Matplotlib imports\n",
    "\n",
    "# In[18]:\n",
    "\n",
    "\n",
    "from matplotlib.pyplot import plot, figure, show, savefig, axes\n",
    "from matplotlib.pyplot import xlabel, ylabel, title, legend\n",
    "from matplotlib import rcParams\n",
    "from matplotlib.pyplot import style \n",
    "from matplotlib.pyplot import xlim, ylim, axis \n",
    "# beware not same as axes\n",
    "from matplotlib.pyplot import subplot, subplots, text\n",
    "from matplotlib.pyplot import GridSpec\n",
    "from matplotlib.pyplot import scatter, colorbar\n",
    "\n",
    "\n",
    "pgf_with_rc_fonts = {\"pgf.texsystem\": \"pdflatex\"}\n",
    "rcParams.update(pgf_with_rc_fonts)\n",
    "style.use('seaborn-whitegrid')\n",
    "\n",
    "\n",
    "# ## Math imports\n",
    "\n",
    "# In[19]:\n",
    "\n",
    "\n",
    "from math import pi\n",
    "from math import exp\n",
    "\n",
    "\n",
    "# ## Cmath imports\n",
    "\n",
    "# ## Date and datetime imports\n",
    "\n",
    "# In[20]:\n",
    "\n",
    "\n",
    "from datetime import date\n",
    "from datetime import datetime# now\n",
    "\n",
    "\n",
    "# ## Os imports\n",
    "\n",
    "# In[21]:\n",
    "\n",
    "\n",
    "from os import getcwd, mkdir, chdir\n",
    "from os.path import abspath, join \n",
    "\n",
    "\n",
    "# ## Sympy imports\n",
    "\n",
    "# In[22]:\n",
    "\n",
    "\n",
    "from sympy import Function, dsolve, Eq, Derivative, symbols\n",
    "# x, y, z, t = symbols('x y z t')\n",
    "# k, m, n = symbols('k m n', integer=True)\n",
    "# f, g, h = symbols('f g h', cls=Function)\n",
    "\n",
    "\n",
    "# ## Miscellaneous imports\n",
    "\n",
    "# ## Extra useful functions\n",
    "\n",
    "# In[23]:\n",
    "\n",
    "\n",
    "def rint(x):\n",
    "    print(\"x = \", x)\n",
    "    return None\n",
    "\n",
    "\n",
    "# # Next chapter\n",
    "\n",
    "# ## sub topic 1\n",
    "\n",
    "# ## sub topic 2\n",
    "\n",
    "# ## sub topic 3\n",
    "\n",
    "# ### sub sub topic 1\n",
    "\n"
   ]
  },
  {
   "cell_type": "markdown",
   "metadata": {},
   "source": [
    "# Building parts"
   ]
  },
  {
   "cell_type": "markdown",
   "metadata": {},
   "source": [
    "## memory wiping"
   ]
  },
  {
   "cell_type": "code",
   "execution_count": 2,
   "metadata": {
    "ExecuteTime": {
     "end_time": "2019-01-29T08:05:14.425028Z",
     "start_time": "2019-01-29T08:05:14.421310Z"
    }
   },
   "outputs": [],
   "source": [
    " %reset_selective -f  omega_1, total_time, epsilon, max_iter, time_steps, dt"
   ]
  },
  {
   "cell_type": "code",
   "execution_count": 3,
   "metadata": {
    "ExecuteTime": {
     "end_time": "2019-01-29T08:05:14.434207Z",
     "start_time": "2019-01-29T08:05:14.427175Z"
    }
   },
   "outputs": [],
   "source": [
    "%reset_selective -f Lin, Ti,I"
   ]
  },
  {
   "cell_type": "markdown",
   "metadata": {},
   "source": [
    "## Building the Hamiltonians"
   ]
  },
  {
   "cell_type": "code",
   "execution_count": 4,
   "metadata": {
    "ExecuteTime": {
     "end_time": "2019-01-29T08:05:14.443136Z",
     "start_time": "2019-01-29T08:05:14.438343Z"
    }
   },
   "outputs": [],
   "source": [
    "def H1(omega_1):\n",
    "    r\"\"\"Building the bare Hamiltonian\"\"\"\n",
    "    H1 = omega_1*sigmaz()\n",
    "    return H1"
   ]
  },
  {
   "cell_type": "code",
   "execution_count": 5,
   "metadata": {
    "ExecuteTime": {
     "end_time": "2019-01-29T08:05:14.462570Z",
     "start_time": "2019-01-29T08:05:14.450670Z"
    }
   },
   "outputs": [],
   "source": [
    "def H2():\n",
    "    r\"\"\"Building the Interaction Hamiltonian\"\"\"\n",
    "    H2 = sigmay()\n",
    "    return H2"
   ]
  },
  {
   "cell_type": "code",
   "execution_count": 6,
   "metadata": {
    "ExecuteTime": {
     "end_time": "2019-01-29T08:05:14.487049Z",
     "start_time": "2019-01-29T08:05:14.468787Z"
    }
   },
   "outputs": [],
   "source": [
    "def Hamil(omega_1, xi):\n",
    "    H = H1(omega_1) + xi*H2()\n",
    "    return H"
   ]
  },
  {
   "cell_type": "code",
   "execution_count": 7,
   "metadata": {
    "ExecuteTime": {
     "end_time": "2019-01-29T08:05:14.522520Z",
     "start_time": "2019-01-29T08:05:14.502586Z"
    }
   },
   "outputs": [
    {
     "data": {
      "text/latex": [
       "Quantum object: dims = [[2], [2]], shape = (2, 2), type = oper, isherm = True\\begin{equation*}\\left(\\begin{array}{*{11}c}2.0 & -0.500j\\\\0.500j & -2.0\\\\\\end{array}\\right)\\end{equation*}"
      ],
      "text/plain": [
       "Quantum object: dims = [[2], [2]], shape = (2, 2), type = oper, isherm = True\n",
       "Qobj data =\n",
       "[[ 2.+0.j   0.-0.5j]\n",
       " [ 0.+0.5j -2.+0.j ]]"
      ]
     },
     "execution_count": 7,
     "metadata": {},
     "output_type": "execute_result"
    }
   ],
   "source": [
    "Hamil(2, 0.5 )"
   ]
  },
  {
   "cell_type": "markdown",
   "metadata": {},
   "source": [
    "## Transforming  the Target Unitary"
   ]
  },
  {
   "cell_type": "code",
   "execution_count": 8,
   "metadata": {
    "ExecuteTime": {
     "end_time": "2019-01-29T08:05:14.538585Z",
     "start_time": "2019-01-29T08:05:14.532278Z"
    }
   },
   "outputs": [],
   "source": [
    "def T_maker(Ti):\n",
    "    r\"\"\"Moving the target from Hilbert space to Liouville space\"\"\"\n",
    "    T = tensor(Ti.trans(), Ti)\n",
    "    return T"
   ]
  },
  {
   "cell_type": "code",
   "execution_count": 9,
   "metadata": {
    "ExecuteTime": {
     "end_time": "2019-01-29T08:05:14.564349Z",
     "start_time": "2019-01-29T08:05:14.545763Z"
    }
   },
   "outputs": [
    {
     "data": {
      "text/latex": [
       "Quantum object: dims = [[2, 2, 2], [2, 2, 2]], shape = (8, 8), type = oper, isherm = True\\begin{equation*}\\left(\\begin{array}{*{11}c}0.0 & 0.0 & 0.0 & 1.0 & 0.0 & 0.0 & 0.0 & 0.0\\\\0.0 & 0.0 & 1.0 & 0.0 & 0.0 & 0.0 & 0.0 & 0.0\\\\0.0 & 1.0 & 0.0 & 0.0 & 0.0 & 0.0 & 0.0 & 0.0\\\\1.0 & 0.0 & 0.0 & 0.0 & 0.0 & 0.0 & 0.0 & 0.0\\\\0.0 & 0.0 & 0.0 & 0.0 & 0.0 & 0.0 & 0.0 & 1.0\\\\0.0 & 0.0 & 0.0 & 0.0 & 0.0 & 0.0 & 1.0 & 0.0\\\\0.0 & 0.0 & 0.0 & 0.0 & 0.0 & 1.0 & 0.0 & 0.0\\\\0.0 & 0.0 & 0.0 & 0.0 & 1.0 & 0.0 & 0.0 & 0.0\\\\\\end{array}\\right)\\end{equation*}"
      ],
      "text/plain": [
       "Quantum object: dims = [[2, 2, 2], [2, 2, 2]], shape = (8, 8), type = oper, isherm = True\n",
       "Qobj data =\n",
       "[[0. 0. 0. 1. 0. 0. 0. 0.]\n",
       " [0. 0. 1. 0. 0. 0. 0. 0.]\n",
       " [0. 1. 0. 0. 0. 0. 0. 0.]\n",
       " [1. 0. 0. 0. 0. 0. 0. 0.]\n",
       " [0. 0. 0. 0. 0. 0. 0. 1.]\n",
       " [0. 0. 0. 0. 0. 0. 1. 0.]\n",
       " [0. 0. 0. 0. 0. 1. 0. 0.]\n",
       " [0. 0. 0. 0. 1. 0. 0. 0.]]"
      ]
     },
     "execution_count": 9,
     "metadata": {},
     "output_type": "execute_result"
    }
   ],
   "source": [
    " tensor(identity(2), T_maker(sigmax()))"
   ]
  },
  {
   "cell_type": "markdown",
   "metadata": {},
   "source": [
    "## Building $A(t)$"
   ]
  },
  {
   "cell_type": "code",
   "execution_count": 10,
   "metadata": {
    "ExecuteTime": {
     "end_time": "2019-01-29T08:05:14.570750Z",
     "start_time": "2019-01-29T08:05:14.566235Z"
    }
   },
   "outputs": [],
   "source": [
    "def leftover(Lin):\n",
    "    r\"\"\"part of $A(t)$ that depends on Linbladian operators\"\"\"\n",
    "    d = Lin.shape[0]\n",
    "    I = identity(d)\n",
    "    term1 = tensor(Lin.trans(), Lin)\n",
    "    term2 = tensor(I, ((Lin.dag())*(Lin)))\n",
    "    term3 = tensor(((Lin.trans())*(Lin.conj())), I)\n",
    "    leftover = 1j*(0)*(term1 - 0.5*(term2 + term3)) #gamma = 0.1\n",
    "    return leftover\n",
    "\n",
    "\n",
    "def A(omega_1, xi, Lin):\n",
    "    r\"\"\"making $A(t)$\"\"\"\n",
    "    H = Hamil(omega_1, xi)\n",
    "    d = Lin.shape[0]\n",
    "    I = identity(d)\n",
    "    A = tensor(I, H) - tensor((H.conj()), I) + leftover(Lin)\n",
    "    return A"
   ]
  },
  {
   "cell_type": "code",
   "execution_count": 11,
   "metadata": {
    "ExecuteTime": {
     "end_time": "2019-01-29T08:05:14.583157Z",
     "start_time": "2019-01-29T08:05:14.572923Z"
    }
   },
   "outputs": [
    {
     "data": {
      "text/latex": [
       "Quantum object: dims = [[2, 2], [2, 2]], shape = (4, 4), type = oper, isherm = True\\begin{equation*}\\left(\\begin{array}{*{11}c}0.0 & -0.500j & -0.500j & 0.0\\\\0.500j & -4.0 & 0.0 & -0.500j\\\\0.500j & 0.0 & 4.0 & -0.500j\\\\0.0 & 0.500j & 0.500j & 0.0\\\\\\end{array}\\right)\\end{equation*}"
      ],
      "text/plain": [
       "Quantum object: dims = [[2, 2], [2, 2]], shape = (4, 4), type = oper, isherm = True\n",
       "Qobj data =\n",
       "[[ 0.+0.j   0.-0.5j  0.-0.5j  0.+0.j ]\n",
       " [ 0.+0.5j -4.+0.j   0.+0.j   0.-0.5j]\n",
       " [ 0.+0.5j  0.+0.j   4.+0.j   0.-0.5j]\n",
       " [ 0.+0.j   0.+0.5j  0.+0.5j  0.+0.j ]]"
      ]
     },
     "execution_count": 11,
     "metadata": {},
     "output_type": "execute_result"
    }
   ],
   "source": [
    "A(2, 0.5, sigmaz())"
   ]
  },
  {
   "cell_type": "code",
   "execution_count": 12,
   "metadata": {
    "ExecuteTime": {
     "end_time": "2019-01-29T08:05:14.593581Z",
     "start_time": "2019-01-29T08:05:14.585143Z"
    }
   },
   "outputs": [
    {
     "data": {
      "text/latex": [
       "Quantum object: dims = [[2, 2], [2, 2]], shape = (4, 4), type = oper, isherm = True\\begin{equation*}\\left(\\begin{array}{*{11}c}0.0 & -0.500j & -0.500j & 0.0\\\\0.500j & 0.0 & 0.0 & -0.500j\\\\0.500j & 0.0 & 0.0 & -0.500j\\\\0.0 & 0.500j & 0.500j & 0.0\\\\\\end{array}\\right)\\end{equation*}"
      ],
      "text/plain": [
       "Quantum object: dims = [[2, 2], [2, 2]], shape = (4, 4), type = oper, isherm = True\n",
       "Qobj data =\n",
       "[[0.+0.j  0.-0.5j 0.-0.5j 0.+0.j ]\n",
       " [0.+0.5j 0.+0.j  0.+0.j  0.-0.5j]\n",
       " [0.+0.5j 0.+0.j  0.+0.j  0.-0.5j]\n",
       " [0.+0.j  0.+0.5j 0.+0.5j 0.+0.j ]]"
      ]
     },
     "execution_count": 12,
     "metadata": {},
     "output_type": "execute_result"
    }
   ],
   "source": [
    "A(0, 0.5, sigmaz())"
   ]
  },
  {
   "cell_type": "markdown",
   "metadata": {},
   "source": [
    "## Building $X_{k}$ "
   ]
  },
  {
   "cell_type": "code",
   "execution_count": 13,
   "metadata": {
    "ExecuteTime": {
     "end_time": "2019-01-29T08:05:14.598758Z",
     "start_time": "2019-01-29T08:05:14.595164Z"
    },
    "code_folding": []
   },
   "outputs": [],
   "source": [
    "def x_k(omega_1, Lin ):\n",
    "    r\"\"\"Building the derivative of $X_{k}$\"\"\"\n",
    "    d = Lin.shape[0]\n",
    "    I = identity(d)\n",
    "    x_k = tensor(I, H2()) - tensor((H2().conj()), I) #+ leftover(Lin)\n",
    "    return x_k"
   ]
  },
  {
   "cell_type": "code",
   "execution_count": 14,
   "metadata": {
    "ExecuteTime": {
     "end_time": "2019-01-29T08:05:14.607727Z",
     "start_time": "2019-01-29T08:05:14.600835Z"
    }
   },
   "outputs": [
    {
     "data": {
      "text/latex": [
       "Quantum object: dims = [[2, 2], [2, 2]], shape = (4, 4), type = oper, isherm = True\\begin{equation*}\\left(\\begin{array}{*{11}c}0.0 & -1.0j & -1.0j & 0.0\\\\1.0j & 0.0 & 0.0 & -1.0j\\\\1.0j & 0.0 & 0.0 & -1.0j\\\\0.0 & 1.0j & 1.0j & 0.0\\\\\\end{array}\\right)\\end{equation*}"
      ],
      "text/plain": [
       "Quantum object: dims = [[2, 2], [2, 2]], shape = (4, 4), type = oper, isherm = True\n",
       "Qobj data =\n",
       "[[0.+0.j 0.-1.j 0.-1.j 0.+0.j]\n",
       " [0.+1.j 0.+0.j 0.+0.j 0.-1.j]\n",
       " [0.+1.j 0.+0.j 0.+0.j 0.-1.j]\n",
       " [0.+0.j 0.+1.j 0.+1.j 0.+0.j]]"
      ]
     },
     "execution_count": 14,
     "metadata": {},
     "output_type": "execute_result"
    }
   ],
   "source": [
    "x_k(0.5, sigmaz())"
   ]
  },
  {
   "cell_type": "markdown",
   "metadata": {},
   "source": [
    "## Building $L(t)$ and the Identity in the Liouville space"
   ]
  },
  {
   "cell_type": "code",
   "execution_count": 15,
   "metadata": {
    "ExecuteTime": {
     "end_time": "2019-01-29T08:05:14.613499Z",
     "start_time": "2019-01-29T08:05:14.610317Z"
    }
   },
   "outputs": [],
   "source": [
    "def L(omega_1, xi, Lin, dt):\n",
    "    r\"\"\"Making $L(t) from $A(t)$\"\"\"\n",
    "    L = (-1j*A(omega_1, xi, Lin)*dt).expm()\n",
    "    return L"
   ]
  },
  {
   "cell_type": "code",
   "execution_count": 16,
   "metadata": {
    "ExecuteTime": {
     "end_time": "2019-01-29T08:05:14.846265Z",
     "start_time": "2019-01-29T08:05:14.615904Z"
    }
   },
   "outputs": [
    {
     "data": {
      "text/latex": [
       "Quantum object: dims = [[2, 2], [2, 2]], shape = (4, 4), type = oper, isherm = False\\begin{equation*}\\left(\\begin{array}{*{11}c}1.000 & (-0.002-1.000\\times10^{-06}j) & (-0.002+1.000\\times10^{-06}j) & 4.000\\times10^{-06}\\\\(0.002+1.000\\times10^{-06}j) & (1.000+1.000\\times10^{-03}j) & -4.000\\times10^{-06} & (-0.002-1.000\\times10^{-06}j)\\\\(0.002-1.000\\times10^{-06}j) & -4.000\\times10^{-06} & (1.000-1.000\\times10^{-03}j) & (-0.002+1.000\\times10^{-06}j)\\\\4.000\\times10^{-06} & (0.002+1.000\\times10^{-06}j) & (0.002-1.000\\times10^{-06}j) & 1.000\\\\\\end{array}\\right)\\end{equation*}"
      ],
      "text/plain": [
       "Quantum object: dims = [[2, 2], [2, 2]], shape = (4, 4), type = oper, isherm = False\n",
       "Qobj data =\n",
       "[[ 9.99996000e-01+0.00000000e+00j -1.99999433e-03-9.99998583e-07j\n",
       "  -1.99999433e-03+9.99998583e-07j  3.99999433e-06+0.00000000e+00j]\n",
       " [ 1.99999433e-03+9.99998583e-07j  9.99995500e-01+9.99997167e-04j\n",
       "  -3.99999433e-06+0.00000000e+00j -1.99999433e-03-9.99998583e-07j]\n",
       " [ 1.99999433e-03-9.99998583e-07j -3.99999433e-06+0.00000000e+00j\n",
       "   9.99995500e-01-9.99997167e-04j -1.99999433e-03+9.99998583e-07j]\n",
       " [ 3.99999433e-06+0.00000000e+00j  1.99999433e-03+9.99998583e-07j\n",
       "   1.99999433e-03-9.99998583e-07j  9.99996000e-01+0.00000000e+00j]]"
      ]
     },
     "execution_count": 16,
     "metadata": {},
     "output_type": "execute_result"
    }
   ],
   "source": [
    "L(0.5, 2, sigmaz(), 0.001)"
   ]
  },
  {
   "cell_type": "code",
   "execution_count": 17,
   "metadata": {
    "ExecuteTime": {
     "end_time": "2019-01-29T08:05:14.854001Z",
     "start_time": "2019-01-29T08:05:14.848947Z"
    }
   },
   "outputs": [],
   "source": [
    "def L_I(Ti):\n",
    "    r\"\"\"Identity in the liouville space\"\"\"\n",
    "    d = Ti.shape[0]\n",
    "    I = identity(d)\n",
    "    L_I = tensor(I, I)\n",
    "    return L_I"
   ]
  },
  {
   "cell_type": "code",
   "execution_count": 18,
   "metadata": {
    "ExecuteTime": {
     "end_time": "2019-01-29T08:05:14.863832Z",
     "start_time": "2019-01-29T08:05:14.856438Z"
    }
   },
   "outputs": [
    {
     "data": {
      "text/latex": [
       "Quantum object: dims = [[2, 2], [2, 2]], shape = (4, 4), type = oper, isherm = True\\begin{equation*}\\left(\\begin{array}{*{11}c}1.0 & 0.0 & 0.0 & 0.0\\\\0.0 & 1.0 & 0.0 & 0.0\\\\0.0 & 0.0 & 1.0 & 0.0\\\\0.0 & 0.0 & 0.0 & 1.0\\\\\\end{array}\\right)\\end{equation*}"
      ],
      "text/plain": [
       "Quantum object: dims = [[2, 2], [2, 2]], shape = (4, 4), type = oper, isherm = True\n",
       "Qobj data =\n",
       "[[1. 0. 0. 0.]\n",
       " [0. 1. 0. 0.]\n",
       " [0. 0. 1. 0.]\n",
       " [0. 0. 0. 1.]]"
      ]
     },
     "execution_count": 18,
     "metadata": {},
     "output_type": "execute_result"
    }
   ],
   "source": [
    "L_I(sigmay())"
   ]
  },
  {
   "cell_type": "markdown",
   "metadata": {},
   "source": [
    "## Major functions 1"
   ]
  },
  {
   "cell_type": "code",
   "execution_count": 19,
   "metadata": {
    "ExecuteTime": {
     "end_time": "2019-01-29T08:05:14.870360Z",
     "start_time": "2019-01-29T08:05:14.866086Z"
    }
   },
   "outputs": [],
   "source": [
    "# building the function to optimize (optimizee)\n",
    "def L_vec(omega_1, xi_vec, Lin, dt):\n",
    "    r\"\"\"Building the vector of differential $L(t)$\"\"\"\n",
    "    L_vec = [L(omega_1, xi, Lin, dt) for xi in xi_vec] \n",
    "    return L_vec"
   ]
  },
  {
   "cell_type": "code",
   "execution_count": 20,
   "metadata": {
    "ExecuteTime": {
     "end_time": "2019-01-29T08:05:14.877207Z",
     "start_time": "2019-01-29T08:05:14.873093Z"
    }
   },
   "outputs": [],
   "source": [
    "def fidelity_calc(A, B):\n",
    "    r\"\"\"Making a generalised fidelity function\"\"\"\n",
    "    d1 = A.shape[0] # Assuming no rectangular shaped matrices\n",
    "    d2 = B.shape[0] # Assuming no rectangular shaped matrices\n",
    "    d = d1*d2 # Should I normalize with this?\n",
    "    first_part = (A - B).dag()\n",
    "    second_part = (A - B)\n",
    "    f_int = (first_part* second_part)\n",
    "    f = f_int.tr()\n",
    "    return f"
   ]
  },
  {
   "cell_type": "code",
   "execution_count": 21,
   "metadata": {
    "ExecuteTime": {
     "end_time": "2019-01-29T08:05:14.884005Z",
     "start_time": "2019-01-29T08:05:14.880123Z"
    }
   },
   "outputs": [],
   "source": [
    "def L_full_maker(Ti, omega_1, xi_vec, Lin, dt):\n",
    "    r\"\"\"Building the $L(t)$ for the total time $t$\"\"\"\n",
    "    xi_vec_size = xi_vec.size # finding the size of xi\n",
    "    L_full = L_I(Ti) # Identity for the for loop of L\n",
    "    L_v = L_vec(omega_1, xi_vec, Lin, dt) # calling L_vec\n",
    "    for i in range(xi_vec_size): # generating L_full\n",
    "        L_full = L_full*L_v[xi_vec_size - 1 - i]\n",
    "    return L_full"
   ]
  },
  {
   "cell_type": "code",
   "execution_count": 22,
   "metadata": {
    "ExecuteTime": {
     "end_time": "2019-01-29T08:05:14.889152Z",
     "start_time": "2019-01-29T08:05:14.886039Z"
    }
   },
   "outputs": [],
   "source": [
    "def F(Ti, omega_1, xi_vec, Lin, dt):\n",
    "    r\"\"\"Using the fidelity metric to find out the closeness between $T$\n",
    "    and $L(t)$\"\"\"\n",
    "    L_full = L_full_maker(Ti, omega_1, xi_vec, Lin, dt)\n",
    "    T = T_maker(Ti) # Transforming $T_{i}$ to liouville space\n",
    "    F = real(-fidelity_calc(T, L_full))   \n",
    "    return F"
   ]
  },
  {
   "cell_type": "markdown",
   "metadata": {},
   "source": [
    "## Testing major functions 1"
   ]
  },
  {
   "cell_type": "code",
   "execution_count": 23,
   "metadata": {
    "ExecuteTime": {
     "end_time": "2019-01-29T08:05:14.898323Z",
     "start_time": "2019-01-29T08:05:14.891304Z"
    }
   },
   "outputs": [
    {
     "data": {
      "text/plain": [
       "4.0"
      ]
     },
     "execution_count": 23,
     "metadata": {},
     "output_type": "execute_result"
    }
   ],
   "source": [
    "fidelity_calc(sigmax(), sigmay())"
   ]
  },
  {
   "cell_type": "code",
   "execution_count": 24,
   "metadata": {
    "ExecuteTime": {
     "end_time": "2019-01-29T08:05:14.907938Z",
     "start_time": "2019-01-29T08:05:14.900528Z"
    }
   },
   "outputs": [
    {
     "data": {
      "text/plain": [
       "0.0"
      ]
     },
     "execution_count": 24,
     "metadata": {},
     "output_type": "execute_result"
    }
   ],
   "source": [
    "fidelity_calc(sigmay(), sigmay())"
   ]
  },
  {
   "cell_type": "code",
   "execution_count": 25,
   "metadata": {
    "ExecuteTime": {
     "end_time": "2019-01-29T08:05:14.915106Z",
     "start_time": "2019-01-29T08:05:14.910440Z"
    }
   },
   "outputs": [
    {
     "data": {
      "text/plain": [
       "array([1., 2.])"
      ]
     },
     "execution_count": 25,
     "metadata": {},
     "output_type": "execute_result"
    }
   ],
   "source": [
    "xi_vec_test = array([1.0, 2.0])\n",
    "xi_vec_test"
   ]
  },
  {
   "cell_type": "code",
   "execution_count": 26,
   "metadata": {
    "ExecuteTime": {
     "end_time": "2019-01-29T08:05:14.921637Z",
     "start_time": "2019-01-29T08:05:14.917303Z"
    }
   },
   "outputs": [
    {
     "data": {
      "text/plain": [
       "2"
      ]
     },
     "execution_count": 26,
     "metadata": {},
     "output_type": "execute_result"
    }
   ],
   "source": [
    "xi_vec_test.size"
   ]
  },
  {
   "cell_type": "code",
   "execution_count": 27,
   "metadata": {
    "ExecuteTime": {
     "end_time": "2019-01-29T08:05:14.929460Z",
     "start_time": "2019-01-29T08:05:14.924389Z"
    }
   },
   "outputs": [
    {
     "data": {
      "text/plain": [
       "[1.0, 4.0]"
      ]
     },
     "execution_count": 27,
     "metadata": {},
     "output_type": "execute_result"
    }
   ],
   "source": [
    "w_vec = [xi**2 for xi in xi_vec_test]\n",
    "w_vec"
   ]
  },
  {
   "cell_type": "code",
   "execution_count": 28,
   "metadata": {
    "ExecuteTime": {
     "end_time": "2019-01-29T08:05:14.947097Z",
     "start_time": "2019-01-29T08:05:14.931743Z"
    }
   },
   "outputs": [
    {
     "data": {
      "text/plain": [
       "-7.999999999998001"
      ]
     },
     "execution_count": 28,
     "metadata": {},
     "output_type": "execute_result"
    }
   ],
   "source": [
    "# F(Ti, omega_1, xi_vec, Lin, dt)\n",
    "F(sigmax(), 0.5 , xi_vec_test, sigmaz(), 0.001)"
   ]
  },
  {
   "cell_type": "markdown",
   "metadata": {},
   "source": [
    "## Major Functions 2"
   ]
  },
  {
   "cell_type": "code",
   "execution_count": 29,
   "metadata": {
    "ExecuteTime": {
     "end_time": "2019-01-29T08:05:14.953118Z",
     "start_time": "2019-01-29T08:05:14.949178Z"
    }
   },
   "outputs": [],
   "source": [
    "def L_comma_k_maker(Ti, omega_1, xi_vec, k, Lin, dt):\n",
    "    r\"\"\"Making of the derivative of full $L(t)$ at time $t_{k}$\"\"\"\n",
    "    N = xi_vec.size \n",
    "    # Determining the size of xi, and thus the time_steps indirectly.\n",
    "    L_v = L_vec(omega_1, xi_vec, Lin, dt)# Making of the full $L(t)$\n",
    "    inner_part = L_I(Ti) # Beginner for the for loop\n",
    "    for i in range(N):\n",
    "        if i == ( N - 1 - k ):\n",
    "            # The step at which $X_{k}(t)$ has to be inserted \n",
    "            inner_part = inner_part*x_k(omega_1, Lin )*L_v[k - 1]\n",
    "        else:\n",
    "            # Usual multiplications of $L_{k}$\n",
    "            inner_part = inner_part*L_v[N - 1 - i]\n",
    "    l_comma_k = inner_part\n",
    "    return l_comma_k\n",
    "    "
   ]
  },
  {
   "cell_type": "code",
   "execution_count": 30,
   "metadata": {
    "ExecuteTime": {
     "end_time": "2019-01-29T08:05:14.970747Z",
     "start_time": "2019-01-29T08:05:14.955604Z"
    }
   },
   "outputs": [
    {
     "data": {
      "text/latex": [
       "Quantum object: dims = [[2, 2], [2, 2]], shape = (4, 4), type = oper, isherm = False\\begin{equation*}\\left(\\begin{array}{*{11}c}1.000 & (-0.003-3.500\\times10^{-06}j) & (-0.003+3.500\\times10^{-06}j) & 9.000\\times10^{-06}\\\\(0.003+2.500\\times10^{-06}j) & (1.000+0.002j) & (-9.000\\times10^{-06}+3.000\\times10^{-09}j) & (-0.003-2.500\\times10^{-06}j)\\\\(0.003-2.500\\times10^{-06}j) & (-9.000\\times10^{-06}-3.000\\times10^{-09}j) & (1.000-0.002j) & (-0.003+2.500\\times10^{-06}j)\\\\9.000\\times10^{-06} & (0.003+3.500\\times10^{-06}j) & (0.003-3.500\\times10^{-06}j) & 1.000\\\\\\end{array}\\right)\\end{equation*}"
      ],
      "text/plain": [
       "Quantum object: dims = [[2, 2], [2, 2]], shape = (4, 4), type = oper, isherm = False\n",
       "Qobj data =\n",
       "[[ 9.99991000e-01+0.00000000e+00j -2.99997950e-03-3.49998654e-06j\n",
       "  -2.99997950e-03+3.49998654e-06j  8.99997025e-06+0.00000000e+00j]\n",
       " [ 2.99998050e-03+2.49999246e-06j  9.99989000e-01+1.99998633e-03j\n",
       "  -8.99996975e-06+2.99999225e-09j -2.99998050e-03-2.49999246e-06j]\n",
       " [ 2.99998050e-03-2.49999246e-06j -8.99996975e-06-2.99999225e-09j\n",
       "   9.99989000e-01-1.99998633e-03j -2.99998050e-03+2.49999246e-06j]\n",
       " [ 8.99997025e-06+0.00000000e+00j  2.99997950e-03+3.49998654e-06j\n",
       "   2.99997950e-03-3.49998654e-06j  9.99991000e-01+0.00000000e+00j]]"
      ]
     },
     "execution_count": 30,
     "metadata": {},
     "output_type": "execute_result"
    }
   ],
   "source": [
    "#L_comma_k_maker(Ti, omega_1, xi_vec, k, Lin, dt)\n",
    "L_comma_k_maker(sigmax(), 0.5 , xi_vec_test, 2, sigmaz(), 0.001)"
   ]
  },
  {
   "cell_type": "code",
   "execution_count": 31,
   "metadata": {
    "ExecuteTime": {
     "end_time": "2019-01-29T08:05:14.979182Z",
     "start_time": "2019-01-29T08:05:14.973469Z"
    }
   },
   "outputs": [],
   "source": [
    "def updater(Ti, omega_1, xi_vec, Lin, dt, epsilon):\n",
    "    r\"\"\"Implementing the GRAPE update step\"\"\"\n",
    "    xi_vec_size = xi_vec.size # finding the size of xi\n",
    "    T = T_maker(Ti) # Transforming $T_{i}$ to liouville space\n",
    "    L_full = L_full_maker(Ti, omega_1, xi_vec, Lin, dt)\n",
    "    di = []\n",
    "    for k in range(xi_vec_size):\n",
    "        # Building the thing to be added to the old function\n",
    "        L_comma_k = L_comma_k_maker(Ti, omega_1, xi_vec, k, Lin, dt)\n",
    "        differentiated = T - L_comma_k\n",
    "        plain = T - L_full\n",
    "        c = -differentiated.dag()*plain\n",
    "        d = -plain.dag()*differentiated\n",
    "        inside = c.tr() + d.tr()\n",
    "        di.append(epsilon*inside)\n",
    "\n",
    "    diff = array(di)\n",
    "    xi_new_vec = xi_vec + diff\n",
    "    return diff, xi_new_vec\n",
    "    "
   ]
  },
  {
   "cell_type": "code",
   "execution_count": 32,
   "metadata": {
    "ExecuteTime": {
     "end_time": "2019-01-29T08:05:15.017532Z",
     "start_time": "2019-01-29T08:05:14.981807Z"
    }
   },
   "outputs": [
    {
     "data": {
      "text/plain": [
       "(array([-0.008+0.j, -0.008+0.j]), array([0.992+0.j, 1.992+0.j]))"
      ]
     },
     "execution_count": 32,
     "metadata": {},
     "output_type": "execute_result"
    }
   ],
   "source": [
    "#  updater(Ti, omega_1, xi_vec, Lin, dt, epsilon)\n",
    "updater(sigmax(), 0.5 , xi_vec_test, sigmaz(), 0.001, 0.001)"
   ]
  },
  {
   "cell_type": "code",
   "execution_count": 33,
   "metadata": {
    "ExecuteTime": {
     "end_time": "2019-01-29T08:05:15.026697Z",
     "start_time": "2019-01-29T08:05:15.019854Z"
    },
    "code_folding": []
   },
   "outputs": [],
   "source": [
    "def terminator(max_iter, time_steps, Ti, omega_1, Lin, total_time, epsilon):\n",
    "    r\"\"\"Brief description of the function\"\"\"\n",
    "    \n",
    "    xi_initial =  1000*random_sample((time_steps,))\n",
    "    dt = total_time/time_steps\n",
    "    xi_diff, xi_new_vec = updater(Ti, omega_1, xi_initial, Lin, dt, epsilon)\n",
    "    \n",
    "    for i in range(max_iter):\n",
    "        if amax(xi_diff) < epsilon**2 :\n",
    "            xi_final = xi_new_vec\n",
    "            break\n",
    "        else :\n",
    "            xi_diff, xi_new_vec = updater(Ti, omega_1, xi_new_vec, Lin, dt,\n",
    "                                         epsilon)\n",
    "            print(i)\n",
    "            print(amax(xi_diff))\n",
    "            \n",
    "        \n",
    "    xi_final = xi_new_vec    \n",
    "    return xi_final"
   ]
  },
  {
   "cell_type": "code",
   "execution_count": 34,
   "metadata": {
    "ExecuteTime": {
     "end_time": "2019-01-29T08:05:15.032063Z",
     "start_time": "2019-01-29T08:05:15.028367Z"
    }
   },
   "outputs": [],
   "source": [
    "omega_1 = 0.5\n",
    "total_time = 10*pi/omega_1\n",
    "epsilon = 10**(-6)\n",
    "max_iter = 10#10**4#1000#100#50#20\n",
    "time_steps = 200\n",
    "dt = total_time/time_steps"
   ]
  },
  {
   "cell_type": "code",
   "execution_count": 35,
   "metadata": {
    "ExecuteTime": {
     "end_time": "2019-01-29T08:05:15.038908Z",
     "start_time": "2019-01-29T08:05:15.034173Z"
    }
   },
   "outputs": [],
   "source": [
    "Lin = sigmaz() # Lindbladian"
   ]
  },
  {
   "cell_type": "code",
   "execution_count": 36,
   "metadata": {
    "ExecuteTime": {
     "end_time": "2019-01-29T08:05:15.045495Z",
     "start_time": "2019-01-29T08:05:15.041194Z"
    }
   },
   "outputs": [],
   "source": [
    "Ti = sigmax() # Target unitary"
   ]
  },
  {
   "cell_type": "code",
   "execution_count": 37,
   "metadata": {
    "ExecuteTime": {
     "end_time": "2019-01-29T08:07:30.593613Z",
     "start_time": "2019-01-29T08:05:15.047411Z"
    }
   },
   "outputs": [
    {
     "data": {
      "text/plain": [
       "array([7.44612148e+02+0.j, 6.01795717e+02+0.j, 2.41348844e+02+0.j,\n",
       "       7.65468989e+02+0.j, 5.49991629e+01+0.j, 4.08606952e+02+0.j,\n",
       "       9.67302925e+02+0.j, 5.07047921e+02+0.j, 9.36355227e+02+0.j,\n",
       "       5.51009665e+02+0.j, 6.60373012e+02+0.j, 4.59846002e+02+0.j,\n",
       "       2.47878288e+02+0.j, 7.73327618e+02+0.j, 2.29378271e+02+0.j,\n",
       "       6.11986282e+02+0.j, 4.71632742e+02+0.j, 1.50078786e+02+0.j,\n",
       "       6.11228197e+02+0.j, 2.77966491e+02+0.j, 5.10207485e+02+0.j,\n",
       "       2.58304221e+02+0.j, 3.60915108e+02+0.j, 4.77970583e+02+0.j,\n",
       "       6.68201259e+01+0.j, 6.32777634e+02+0.j, 3.10361660e+00+0.j,\n",
       "       5.54284911e+02+0.j, 7.38620582e+02+0.j, 3.62828062e+02+0.j,\n",
       "       2.62447201e+02+0.j, 7.74217912e+02+0.j, 5.79527756e+01+0.j,\n",
       "       6.45310652e+02+0.j, 9.89985866e+02+0.j, 2.48929641e+01+0.j,\n",
       "       7.87984614e+02+0.j, 1.78167114e+02+0.j, 4.50841855e+02+0.j,\n",
       "       5.22100587e+02+0.j, 7.81341975e+01+0.j, 1.75559437e+02+0.j,\n",
       "       1.04054792e+01+0.j, 3.84972426e+01+0.j, 2.75432032e+02+0.j,\n",
       "       2.98003623e+02+0.j, 6.78843462e+02+0.j, 2.48668540e+02+0.j,\n",
       "       2.02075673e+02+0.j, 2.76029710e+02+0.j, 9.49791955e+02+0.j,\n",
       "       3.12043719e+02+0.j, 3.47329719e+02+0.j, 7.25696630e+02+0.j,\n",
       "       8.97307431e+02+0.j, 8.23783598e+02+0.j, 4.05806863e+02+0.j,\n",
       "       4.30854627e+02+0.j, 6.59856032e+02+0.j, 4.08162413e+02+0.j,\n",
       "       7.46217240e+02+0.j, 4.60118359e+00+0.j, 9.38441966e+02+0.j,\n",
       "       8.64889751e+01+0.j, 1.85053725e+02+0.j, 8.67048860e+02+0.j,\n",
       "       9.70354681e+02+0.j, 4.37174072e+02+0.j, 7.47170586e+02+0.j,\n",
       "       8.45842174e+02+0.j, 2.06029171e+02+0.j, 2.48692342e+02+0.j,\n",
       "       4.76618423e-02+0.j, 8.92285150e+01+0.j, 5.81332435e+02+0.j,\n",
       "       4.48274081e+00+0.j, 1.01881192e+02+0.j, 1.62589439e+02+0.j,\n",
       "       7.13804784e+02+0.j, 5.39554999e+02+0.j, 2.21326682e+01+0.j,\n",
       "       9.65551889e+02+0.j, 8.72150494e+02+0.j, 9.56886327e+02+0.j,\n",
       "       7.20061718e+02+0.j, 9.59491504e+02+0.j, 7.52870591e+02+0.j,\n",
       "       6.11098651e+02+0.j, 3.89466589e+02+0.j, 9.65911844e+02+0.j,\n",
       "       6.22571891e+02+0.j, 4.89597052e+02+0.j, 3.97509441e+02+0.j,\n",
       "       7.96815086e+02+0.j, 5.21288553e+02+0.j, 2.60076464e+02+0.j,\n",
       "       9.62036973e+02+0.j, 4.02202870e+02+0.j, 2.86179561e+02+0.j,\n",
       "       9.58796396e+00+0.j, 5.00440281e+02+0.j, 2.08876394e+02+0.j,\n",
       "       4.72315606e+02+0.j, 8.99893564e+01+0.j, 1.48307222e+02+0.j,\n",
       "       1.56900596e+02+0.j, 1.48937456e+02+0.j, 9.90514220e+02+0.j,\n",
       "       8.42565193e+02+0.j, 9.50603060e+02+0.j, 6.66234054e+02+0.j,\n",
       "       7.54850795e+02+0.j, 5.35048968e+02+0.j, 8.81866400e+02+0.j,\n",
       "       9.84386878e+02+0.j, 6.08912619e+02+0.j, 6.50886174e+02+0.j,\n",
       "       8.40816496e+02+0.j, 2.67058626e+01+0.j, 7.74219523e+02+0.j,\n",
       "       1.01008012e+01+0.j, 5.29645699e+02+0.j, 8.09024145e+02+0.j,\n",
       "       7.61585089e+02+0.j, 3.06547444e+01+0.j, 1.88925665e+02+0.j,\n",
       "       5.56878061e+00+0.j, 3.49601957e+02+0.j, 9.69972701e+02+0.j,\n",
       "       7.18383953e+02+0.j, 3.02875644e+02+0.j, 5.85119982e+01+0.j,\n",
       "       1.18854296e+01+0.j, 3.50950247e+02+0.j, 7.12446217e+02+0.j,\n",
       "       6.20318672e+02+0.j, 3.77402209e+01+0.j, 9.85845940e+02+0.j,\n",
       "       1.76701835e+02+0.j, 9.90595864e+02+0.j, 7.84343335e+02+0.j,\n",
       "       6.78075608e+02+0.j, 4.72467308e+02+0.j, 2.91649048e+02+0.j,\n",
       "       1.42316994e+02+0.j, 9.78607350e+02+0.j, 4.44591188e+01+0.j,\n",
       "       5.66014250e+02+0.j, 6.38675354e+02+0.j, 4.01825117e+01+0.j,\n",
       "       7.22129731e+02+0.j, 2.44385833e+02+0.j, 9.80015683e+02+0.j,\n",
       "       2.95557063e+02+0.j, 5.98041476e+02+0.j, 2.83677136e+02+0.j,\n",
       "       4.17957550e+02+0.j, 3.94747251e+02+0.j, 3.39925625e+02+0.j,\n",
       "       9.72746419e+02+0.j, 1.22401043e+01+0.j, 9.21043890e+02+0.j,\n",
       "       3.34622601e+02+0.j, 5.59826581e+02+0.j, 4.05490947e+02+0.j,\n",
       "       4.80188276e+02+0.j, 1.83740713e+02+0.j, 5.67741130e+01+0.j,\n",
       "       6.26195401e+02+0.j, 3.50932853e+02+0.j, 3.26654245e+02+0.j,\n",
       "       1.36132909e+02+0.j, 4.68244261e+02+0.j, 9.44659135e+02+0.j,\n",
       "       5.50110721e+01+0.j, 2.65898921e+01+0.j, 9.97133777e+02+0.j,\n",
       "       5.87780975e+02+0.j, 1.17844872e+02+0.j, 7.21584922e+02+0.j,\n",
       "       9.15674932e+02+0.j, 5.82080823e+02+0.j, 1.68786086e+02+0.j,\n",
       "       7.67090785e+02+0.j, 9.62213557e+02+0.j, 1.95920937e+02+0.j,\n",
       "       5.13024248e+02+0.j, 9.21323312e+02+0.j, 2.48672543e+02+0.j,\n",
       "       5.59645200e+02+0.j, 8.48780426e+02+0.j, 5.85626139e+02+0.j,\n",
       "       1.79803957e+02+0.j, 3.70577829e+02+0.j, 7.12363757e+02+0.j,\n",
       "       4.65075662e+02+0.j, 9.25904217e+02+0.j, 5.64779193e+02+0.j,\n",
       "       7.23152959e+02+0.j, 9.19697453e+02+0.j])"
      ]
     },
     "execution_count": 37,
     "metadata": {},
     "output_type": "execute_result"
    }
   ],
   "source": [
    "# terminator(20, 20, Ti, omega_1, Lin, total_time)\n",
    "xi_opt = terminator(max_iter, time_steps, Ti, omega_1, Lin, total_time, epsilon)\n",
    "xi_opt"
   ]
  },
  {
   "cell_type": "code",
   "execution_count": 38,
   "metadata": {
    "ExecuteTime": {
     "end_time": "2019-01-29T08:07:31.376062Z",
     "start_time": "2019-01-29T08:07:30.596590Z"
    }
   },
   "outputs": [
    {
     "data": {
      "text/plain": [
       "-7.586228700141596"
      ]
     },
     "execution_count": 38,
     "metadata": {},
     "output_type": "execute_result"
    }
   ],
   "source": [
    "F(Ti, omega_1, xi_opt, Lin, dt)"
   ]
  },
  {
   "cell_type": "code",
   "execution_count": 39,
   "metadata": {
    "ExecuteTime": {
     "end_time": "2019-01-29T08:07:31.383040Z",
     "start_time": "2019-01-29T08:07:31.378322Z"
    }
   },
   "outputs": [
    {
     "data": {
      "text/plain": [
       "10"
      ]
     },
     "execution_count": 39,
     "metadata": {},
     "output_type": "execute_result"
    }
   ],
   "source": [
    "max_iter"
   ]
  },
  {
   "cell_type": "code",
   "execution_count": 40,
   "metadata": {
    "ExecuteTime": {
     "end_time": "2019-01-29T08:07:31.392591Z",
     "start_time": "2019-01-29T08:07:31.385381Z"
    }
   },
   "outputs": [
    {
     "data": {
      "text/latex": [
       "Quantum object: dims = [[2, 2], [2, 2]], shape = (4, 4), type = oper, isherm = True\\begin{equation*}\\left(\\begin{array}{*{11}c}0.0 & 0.0 & 0.0 & 1.0\\\\0.0 & 0.0 & 1.0 & 0.0\\\\0.0 & 1.0 & 0.0 & 0.0\\\\1.0 & 0.0 & 0.0 & 0.0\\\\\\end{array}\\right)\\end{equation*}"
      ],
      "text/plain": [
       "Quantum object: dims = [[2, 2], [2, 2]], shape = (4, 4), type = oper, isherm = True\n",
       "Qobj data =\n",
       "[[0. 0. 0. 1.]\n",
       " [0. 0. 1. 0.]\n",
       " [0. 1. 0. 0.]\n",
       " [1. 0. 0. 0.]]"
      ]
     },
     "execution_count": 40,
     "metadata": {},
     "output_type": "execute_result"
    }
   ],
   "source": [
    "T = T_maker(Ti)\n",
    "T"
   ]
  },
  {
   "cell_type": "code",
   "execution_count": 41,
   "metadata": {
    "ExecuteTime": {
     "end_time": "2019-01-29T08:07:32.087149Z",
     "start_time": "2019-01-29T08:07:31.394887Z"
    }
   },
   "outputs": [
    {
     "data": {
      "text/latex": [
       "Quantum object: dims = [[2, 2], [2, 2]], shape = (4, 4), type = oper, isherm = False\\begin{equation*}\\left(\\begin{array}{*{11}c}0.523 & (0.413+0.280j) & (0.413-0.280j) & 0.477\\\\(-0.498+0.037j) & (0.454+0.260j) & (-0.373+0.297j) & (0.498-0.037j)\\\\(-0.498-0.037j) & (-0.373-0.297j) & (0.454-0.260j) & (0.498+0.037j)\\\\0.477 & (-0.413-0.280j) & (-0.413+0.280j) & 0.523\\\\\\end{array}\\right)\\end{equation*}"
      ],
      "text/plain": [
       "Quantum object: dims = [[2, 2], [2, 2]], shape = (4, 4), type = oper, isherm = False\n",
       "Qobj data =\n",
       "[[ 0.52306437+0.j          0.4133029 +0.28044384j  0.4133029 -0.28044384j\n",
       "   0.47693563+0.j        ]\n",
       " [-0.49806492+0.03740819j  0.45360958+0.26045091j -0.37349281+0.29659858j\n",
       "   0.49806492-0.03740819j]\n",
       " [-0.49806492-0.03740819j -0.37349281-0.29659858j  0.45360958-0.26045091j\n",
       "   0.49806492+0.03740819j]\n",
       " [ 0.47693563+0.j         -0.4133029 -0.28044384j -0.4133029 +0.28044384j\n",
       "   0.52306437+0.j        ]]"
      ]
     },
     "execution_count": 41,
     "metadata": {},
     "output_type": "execute_result"
    }
   ],
   "source": [
    "L_full_maker(Ti, omega_1, xi_opt, Lin, dt)"
   ]
  },
  {
   "cell_type": "code",
   "execution_count": 42,
   "metadata": {
    "ExecuteTime": {
     "end_time": "2019-01-29T08:07:33.314480Z",
     "start_time": "2019-01-29T08:07:32.089609Z"
    }
   },
   "outputs": [
    {
     "data": {
      "text/plain": [
       "(<Figure size 576x432 with 2 Axes>,\n",
       " <matplotlib.axes._subplots.AxesSubplot at 0x1a0c5fd8d0>)"
      ]
     },
     "execution_count": 42,
     "metadata": {},
     "output_type": "execute_result"
    },
    {
     "data": {
      "image/png": "[encoded data removed]",
      "text/plain": [
       "<Figure size 576x432 with 2 Axes>"
      ]
     },
     "metadata": {},
     "output_type": "display_data"
    }
   ],
   "source": [
    "hinton(L_full_maker(Ti, omega_1, xi_opt, Lin, dt))"
   ]
  },
  {
   "cell_type": "markdown",
   "metadata": {},
   "source": []
  },
  {
   "cell_type": "code",
   "execution_count": null,
   "metadata": {},
   "outputs": [],
   "source": []
  }
 ],
 "metadata": {
  "kernelspec": {
   "display_name": "Python 3",
   "language": "python",
   "name": "python3"
  },
  "language_info": {
   "codemirror_mode": {
    "name": "ipython",
    "version": 3
   },
   "file_extension": ".py",
   "mimetype": "text/x-python",
   "name": "python",
   "nbconvert_exporter": "python",
   "pygments_lexer": "ipython3",
   "version": "3.6.8"
  },
  "toc": {
   "base_numbering": 1,
   "nav_menu": {},
   "number_sections": true,
   "sideBar": true,
   "skip_h1_title": false,
   "title_cell": "Table of Contents",
   "title_sidebar": "Contents",
   "toc_cell": false,
   "toc_position": {},
   "toc_section_display": true,
   "toc_window_display": false
  }
 },
 "nbformat": 4,
 "nbformat_minor": 2
}
